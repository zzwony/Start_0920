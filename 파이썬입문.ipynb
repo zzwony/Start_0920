{
 "cells": [
  {
   "cell_type": "markdown",
   "id": "ca0286d1-a842-4c1c-8b3f-f059d366b1b6",
   "metadata": {},
   "source": [
    "안녕하세요"
   ]
  },
  {
   "cell_type": "markdown",
   "id": "4a631660-b42a-446b-a4c4-1c144af4c2ea",
   "metadata": {
    "tags": []
   },
   "source": [
    "# 제 1 장"
   ]
  },
  {
   "cell_type": "markdown",
   "id": "06bb02e5-0f2c-4f2f-afe1-68e93b8c0bf2",
   "metadata": {},
   "source": [
    "## 제 1절"
   ]
  },
  {
   "cell_type": "markdown",
   "id": "027aff60-2b76-4a6b-acaa-8ca9cc93f9c0",
   "metadata": {},
   "source": [
    "- 파이썬은 들여쓰기가 중요하다.\n",
    "- 파이썬은 들여쓰기가 중요하다.\n",
    "\n",
    "파이썬은 들여쓰기가 중요하다.<br>\n",
    "```\n",
    "\n",
    "파이썬은 들여쓰기가 중요하다.\n",
    "파이썬은 들여쓰기가 중요하다.\n",
    "파이썬은 들여쓰기가 중요하다.\n",
    "파이썬은 들여쓰기가 중요하다.\n",
    "```\n"
   ]
  },
  {
   "cell_type": "markdown",
   "id": "3bca05ee-db87-49f6-ba27-93e3d678b818",
   "metadata": {},
   "source": [
    "## 제 2절"
   ]
  },
  {
   "cell_type": "markdown",
   "id": "919ecda2-9927-4072-9794-ed361eeb5ca2",
   "metadata": {},
   "source": [
    "# 제 2장"
   ]
  },
  {
   "cell_type": "markdown",
   "id": "774bce4d-a0fc-48a2-bdc7-2a69834a7bdd",
   "metadata": {},
   "source": [
    "## import 하기"
   ]
  },
  {
   "cell_type": "markdown",
   "id": "ae9d99a4-3a51-43bf-ad3f-8164715ecb68",
   "metadata": {},
   "source": [
    "## 행 삭제"
   ]
  },
  {
   "cell_type": "code",
   "execution_count": 1,
   "id": "5f2852bf-0282-4e57-a734-d27c07a81aa8",
   "metadata": {},
   "outputs": [
    {
     "data": {
      "text/plain": [
       "2"
      ]
     },
     "execution_count": 1,
     "metadata": {},
     "output_type": "execute_result"
    }
   ],
   "source": [
    "1 + 1"
   ]
  },
  {
   "cell_type": "code",
   "execution_count": 2,
   "id": "e84d3a70-d4d2-404f-b74a-f1cc9a9b19a4",
   "metadata": {},
   "outputs": [
    {
     "ename": "NameError",
     "evalue": "name 'sqrt' is not defined",
     "output_type": "error",
     "traceback": [
      "\u001b[1;31m---------------------------------------------------------------------------\u001b[0m",
      "\u001b[1;31mNameError\u001b[0m                                 Traceback (most recent call last)",
      "Input \u001b[1;32mIn [2]\u001b[0m, in \u001b[0;36m<cell line: 1>\u001b[1;34m()\u001b[0m\n\u001b[1;32m----> 1\u001b[0m \u001b[43msqrt\u001b[49m(\u001b[38;5;241m4\u001b[39m)\n",
      "\u001b[1;31mNameError\u001b[0m: name 'sqrt' is not defined"
     ]
    }
   ],
   "source": [
    "sqrt(4)"
   ]
  },
  {
   "cell_type": "code",
   "execution_count": 3,
   "id": "4c65546c-7410-4a57-95dc-58ea2cc1824d",
   "metadata": {},
   "outputs": [],
   "source": [
    "import math"
   ]
  },
  {
   "cell_type": "markdown",
   "id": "50a72211-030b-48e1-9bad-64c7eba042b7",
   "metadata": {},
   "source": [
    "import 라는 기능은 R에서 library와 같은 기능이다."
   ]
  },
  {
   "cell_type": "code",
   "execution_count": 4,
   "id": "c471a7f9-f486-4594-a01d-c82d1cd79072",
   "metadata": {},
   "outputs": [
    {
     "data": {
      "text/plain": [
       "2.0"
      ]
     },
     "execution_count": 4,
     "metadata": {},
     "output_type": "execute_result"
    }
   ],
   "source": [
    "math.sqrt(4)"
   ]
  },
  {
   "cell_type": "markdown",
   "id": "65322f12-b380-4a78-9134-2b3c6beb6006",
   "metadata": {},
   "source": [
    "import로 math를 불러오고, math.____ 이렇게 쓰면 기능 사용 가능"
   ]
  },
  {
   "cell_type": "code",
   "execution_count": 5,
   "id": "3d9b5dba-0390-4b5c-b957-784e5501d9d9",
   "metadata": {},
   "outputs": [],
   "source": [
    "import math as m"
   ]
  },
  {
   "cell_type": "markdown",
   "id": "48742dfa-a217-4248-9243-e4b917930d02",
   "metadata": {},
   "source": [
    "impirt as 이것은 r 에서 할당하는것과 같은 것이다. 하지만 r과 다르게 m 이라고 치면 안된다."
   ]
  },
  {
   "cell_type": "code",
   "execution_count": 6,
   "id": "d96a8612-9d14-483c-a597-b5bbbeb2319c",
   "metadata": {},
   "outputs": [
    {
     "data": {
      "text/plain": [
       "<module 'math' (built-in)>"
      ]
     },
     "execution_count": 6,
     "metadata": {},
     "output_type": "execute_result"
    }
   ],
   "source": [
    "m"
   ]
  },
  {
   "cell_type": "code",
   "execution_count": 8,
   "id": "c11af59a-fc12-409c-a8e5-0a4bd81481c4",
   "metadata": {},
   "outputs": [
    {
     "data": {
      "text/plain": [
       "3.0"
      ]
     },
     "execution_count": 8,
     "metadata": {},
     "output_type": "execute_result"
    }
   ],
   "source": [
    "m.sqrt(9)"
   ]
  },
  {
   "cell_type": "code",
   "execution_count": 9,
   "id": "ec7edd4c-3532-48b7-81b6-2575516323bd",
   "metadata": {},
   "outputs": [],
   "source": [
    "from math import sqrt"
   ]
  },
  {
   "cell_type": "markdown",
   "id": "29c72e7a-00f6-43a5-912c-a75e4e9342c2",
   "metadata": {},
   "source": [
    "함수만 가져오는 방법"
   ]
  },
  {
   "cell_type": "code",
   "execution_count": 11,
   "id": "7d84c9de-cd03-43ab-bc1e-1b4b42747882",
   "metadata": {},
   "outputs": [
    {
     "data": {
      "text/plain": [
       "3.872983346207417"
      ]
     },
     "execution_count": 11,
     "metadata": {},
     "output_type": "execute_result"
    }
   ],
   "source": [
    "sqrt(15)"
   ]
  },
  {
   "cell_type": "code",
   "execution_count": 16,
   "id": "4cf9bf44-9ee3-4257-8162-9fd1d7e96a02",
   "metadata": {
    "collapsed": true,
    "jupyter": {
     "outputs_hidden": true
    },
    "tags": []
   },
   "outputs": [
    {
     "name": "stdout",
     "output_type": "stream",
     "text": [
      "Collecting numpy\n",
      "  Downloading numpy-1.23.2-cp310-cp310-win_amd64.whl (14.6 MB)\n",
      "     --------------------------------------- 14.6/14.6 MB 22.6 MB/s eta 0:00:00\n",
      "Installing collected packages: numpy\n",
      "Successfully installed numpy-1.23.2\n",
      "Note: you may need to restart the kernel to use updated packages.\n"
     ]
    },
    {
     "name": "stderr",
     "output_type": "stream",
     "text": [
      "\n",
      "[notice] A new release of pip available: 22.2.1 -> 22.2.2\n",
      "[notice] To update, run: python.exe -m pip install --upgrade pip\n"
     ]
    }
   ],
   "source": [
    "pip install numpy"
   ]
  },
  {
   "cell_type": "code",
   "execution_count": 17,
   "id": "d19530ee-b615-464e-8bd3-11d673b7487f",
   "metadata": {},
   "outputs": [],
   "source": [
    "import numpy as np"
   ]
  },
  {
   "cell_type": "code",
   "execution_count": 18,
   "id": "61476d1a-7bcd-4850-885d-c01bc520eeb1",
   "metadata": {},
   "outputs": [],
   "source": [
    "import math"
   ]
  },
  {
   "cell_type": "code",
   "execution_count": 19,
   "id": "cefd1262-fdc3-4e3b-92a9-efcf9939fb89",
   "metadata": {},
   "outputs": [],
   "source": [
    "from math import pi"
   ]
  },
  {
   "cell_type": "code",
   "execution_count": 20,
   "id": "c3b386f9-3da5-4a14-81ca-82aa28a650e9",
   "metadata": {},
   "outputs": [
    {
     "data": {
      "text/plain": [
       "3.141592653589793"
      ]
     },
     "execution_count": 20,
     "metadata": {},
     "output_type": "execute_result"
    }
   ],
   "source": [
    "pi"
   ]
  },
  {
   "cell_type": "markdown",
   "id": "a7649917-51e2-4d2c-a1f6-7687ab799bdf",
   "metadata": {},
   "source": [
    "파이값 불러오는 방법"
   ]
  },
  {
   "cell_type": "code",
   "execution_count": 28,
   "id": "afc28575-01ed-4d49-ba96-aeabde119bc2",
   "metadata": {
    "collapsed": true,
    "jupyter": {
     "outputs_hidden": true
    },
    "tags": []
   },
   "outputs": [
    {
     "name": "stdout",
     "output_type": "stream",
     "text": [
      "Requirement already satisfied: matplotlib in c:\\users\\admin\\appdata\\local\\programs\\python\\python310\\lib\\site-packages (3.5.3)\n",
      "Requirement already satisfied: kiwisolver>=1.0.1 in c:\\users\\admin\\appdata\\local\\programs\\python\\python310\\lib\\site-packages (from matplotlib) (1.4.4)\n",
      "Requirement already satisfied: python-dateutil>=2.7 in c:\\users\\admin\\appdata\\local\\programs\\python\\python310\\lib\\site-packages (from matplotlib) (2.8.2)\n",
      "Requirement already satisfied: cycler>=0.10 in c:\\users\\admin\\appdata\\local\\programs\\python\\python310\\lib\\site-packages (from matplotlib) (0.11.0)\n",
      "Requirement already satisfied: packaging>=20.0 in c:\\users\\admin\\appdata\\local\\programs\\python\\python310\\lib\\site-packages (from matplotlib) (21.3)\n",
      "Requirement already satisfied: numpy>=1.17 in c:\\users\\admin\\appdata\\local\\programs\\python\\python310\\lib\\site-packages (from matplotlib) (1.23.2)\n",
      "Requirement already satisfied: fonttools>=4.22.0 in c:\\users\\admin\\appdata\\local\\programs\\python\\python310\\lib\\site-packages (from matplotlib) (4.37.1)\n",
      "Requirement already satisfied: pyparsing>=2.2.1 in c:\\users\\admin\\appdata\\local\\programs\\python\\python310\\lib\\site-packages (from matplotlib) (3.0.9)\n",
      "Requirement already satisfied: pillow>=6.2.0 in c:\\users\\admin\\appdata\\local\\programs\\python\\python310\\lib\\site-packages (from matplotlib) (9.2.0)\n",
      "Requirement already satisfied: six>=1.5 in c:\\users\\admin\\appdata\\local\\programs\\python\\python310\\lib\\site-packages (from python-dateutil>=2.7->matplotlib) (1.16.0)\n",
      "Note: you may need to restart the kernel to use updated packages.\n"
     ]
    },
    {
     "name": "stderr",
     "output_type": "stream",
     "text": [
      "\n",
      "[notice] A new release of pip available: 22.2.1 -> 22.2.2\n",
      "[notice] To update, run: python.exe -m pip install --upgrade pip\n"
     ]
    }
   ],
   "source": [
    "pip install matplotlib"
   ]
  },
  {
   "cell_type": "code",
   "execution_count": 31,
   "id": "58998c84-ec96-4a6e-890c-a6dcf50d7371",
   "metadata": {
    "collapsed": true,
    "jupyter": {
     "outputs_hidden": true
    },
    "tags": []
   },
   "outputs": [
    {
     "data": {
      "text/plain": [
       "array([0.        , 0.06346652, 0.12693304, 0.19039955, 0.25386607,\n",
       "       0.31733259, 0.38079911, 0.44426563, 0.50773215, 0.57119866,\n",
       "       0.63466518, 0.6981317 , 0.76159822, 0.82506474, 0.88853126,\n",
       "       0.95199777, 1.01546429, 1.07893081, 1.14239733, 1.20586385,\n",
       "       1.26933037, 1.33279688, 1.3962634 , 1.45972992, 1.52319644,\n",
       "       1.58666296, 1.65012947, 1.71359599, 1.77706251, 1.84052903,\n",
       "       1.90399555, 1.96746207, 2.03092858, 2.0943951 , 2.15786162,\n",
       "       2.22132814, 2.28479466, 2.34826118, 2.41172769, 2.47519421,\n",
       "       2.53866073, 2.60212725, 2.66559377, 2.72906028, 2.7925268 ,\n",
       "       2.85599332, 2.91945984, 2.98292636, 3.04639288, 3.10985939,\n",
       "       3.17332591, 3.23679243, 3.30025895, 3.36372547, 3.42719199,\n",
       "       3.4906585 , 3.55412502, 3.61759154, 3.68105806, 3.74452458,\n",
       "       3.8079911 , 3.87145761, 3.93492413, 3.99839065, 4.06185717,\n",
       "       4.12532369, 4.1887902 , 4.25225672, 4.31572324, 4.37918976,\n",
       "       4.44265628, 4.5061228 , 4.56958931, 4.63305583, 4.69652235,\n",
       "       4.75998887, 4.82345539, 4.88692191, 4.95038842, 5.01385494,\n",
       "       5.07732146, 5.14078798, 5.2042545 , 5.26772102, 5.33118753,\n",
       "       5.39465405, 5.45812057, 5.52158709, 5.58505361, 5.64852012,\n",
       "       5.71198664, 5.77545316, 5.83891968, 5.9023862 , 5.96585272,\n",
       "       6.02931923, 6.09278575, 6.15625227, 6.21971879, 6.28318531])"
      ]
     },
     "execution_count": 31,
     "metadata": {},
     "output_type": "execute_result"
    }
   ],
   "source": [
    "# 0부터 2파이 까지 100개 숫자\n",
    "np.linspace(0, 2*np.pi, 100)"
   ]
  },
  {
   "cell_type": "markdown",
   "id": "375e0ac0-7fba-45ee-9c21-b62870c4f958",
   "metadata": {},
   "source": [
    "np.pi 라는 뜻은 np 밑에 pi 있다는 뜻"
   ]
  },
  {
   "cell_type": "code",
   "execution_count": 34,
   "id": "49df36fb-9b6a-4c88-81e7-7d1af71285b5",
   "metadata": {
    "collapsed": true,
    "jupyter": {
     "outputs_hidden": true
    },
    "tags": []
   },
   "outputs": [
    {
     "name": "stdout",
     "output_type": "stream",
     "text": [
      "[ 0.00000000e+00  6.34239197e-02  1.26592454e-01  1.89251244e-01\n",
      "  2.51147987e-01  3.12033446e-01  3.71662456e-01  4.29794912e-01\n",
      "  4.86196736e-01  5.40640817e-01  5.92907929e-01  6.42787610e-01\n",
      "  6.90079011e-01  7.34591709e-01  7.76146464e-01  8.14575952e-01\n",
      "  8.49725430e-01  8.81453363e-01  9.09631995e-01  9.34147860e-01\n",
      "  9.54902241e-01  9.71811568e-01  9.84807753e-01  9.93838464e-01\n",
      "  9.98867339e-01  9.99874128e-01  9.96854776e-01  9.89821442e-01\n",
      "  9.78802446e-01  9.63842159e-01  9.45000819e-01  9.22354294e-01\n",
      "  8.95993774e-01  8.66025404e-01  8.32569855e-01  7.95761841e-01\n",
      "  7.55749574e-01  7.12694171e-01  6.66769001e-01  6.18158986e-01\n",
      "  5.67059864e-01  5.13677392e-01  4.58226522e-01  4.00930535e-01\n",
      "  3.42020143e-01  2.81732557e-01  2.20310533e-01  1.58001396e-01\n",
      "  9.50560433e-02  3.17279335e-02 -3.17279335e-02 -9.50560433e-02\n",
      " -1.58001396e-01 -2.20310533e-01 -2.81732557e-01 -3.42020143e-01\n",
      " -4.00930535e-01 -4.58226522e-01 -5.13677392e-01 -5.67059864e-01\n",
      " -6.18158986e-01 -6.66769001e-01 -7.12694171e-01 -7.55749574e-01\n",
      " -7.95761841e-01 -8.32569855e-01 -8.66025404e-01 -8.95993774e-01\n",
      " -9.22354294e-01 -9.45000819e-01 -9.63842159e-01 -9.78802446e-01\n",
      " -9.89821442e-01 -9.96854776e-01 -9.99874128e-01 -9.98867339e-01\n",
      " -9.93838464e-01 -9.84807753e-01 -9.71811568e-01 -9.54902241e-01\n",
      " -9.34147860e-01 -9.09631995e-01 -8.81453363e-01 -8.49725430e-01\n",
      " -8.14575952e-01 -7.76146464e-01 -7.34591709e-01 -6.90079011e-01\n",
      " -6.42787610e-01 -5.92907929e-01 -5.40640817e-01 -4.86196736e-01\n",
      " -4.29794912e-01 -3.71662456e-01 -3.12033446e-01 -2.51147987e-01\n",
      " -1.89251244e-01 -1.26592454e-01 -6.34239197e-02 -2.44929360e-16]\n"
     ]
    }
   ],
   "source": [
    "# 0부터 2파이 까지 100개 숫자\n",
    "x = np.linspace(0, 2*np.pi, 100)\n",
    "y = np.sin(x)\n",
    "print(y)"
   ]
  },
  {
   "cell_type": "code",
   "execution_count": 35,
   "id": "34a1083b-aa66-422e-a32b-0c41c098fb92",
   "metadata": {
    "tags": []
   },
   "outputs": [
    {
     "data": {
      "text/plain": [
       "[<matplotlib.lines.Line2D at 0x1510581a6e0>]"
      ]
     },
     "execution_count": 35,
     "metadata": {},
     "output_type": "execute_result"
    },
    {
     "data": {
      "image/png": "[encoded data removed]",
      "text/plain": [
       "<Figure size 640x480 with 1 Axes>"
      ]
     },
     "metadata": {},
     "output_type": "display_data"
    }
   ],
   "source": [
    "plt.plot(x, y)"
   ]
  },
  {
   "cell_type": "raw",
   "id": "6674829e-1aa9-4d6e-a52f-8baf1ff6c0e9",
   "metadata": {},
   "source": [
    "굳이 다른 셀로 안하고 \n",
    "# 0부터 2파이 까지 100개 숫자\n",
    "x = np.linspace(0, 2*np.pi, 100)\n",
    "plt.plot(x, np.sin(x)) 이라고 해도 된다."
   ]
  },
  {
   "cell_type": "code",
   "execution_count": 30,
   "id": "0ba3d126-240a-48e7-bcc6-2ac86b06294d",
   "metadata": {},
   "outputs": [
    {
     "data": {
      "text/plain": [
       "array([ 1. ,  5.5, 10. ])"
      ]
     },
     "execution_count": 30,
     "metadata": {},
     "output_type": "execute_result"
    }
   ],
   "source": [
    "np.linspace(1, 10, 3)"
   ]
  },
  {
   "cell_type": "code",
   "execution_count": 36,
   "id": "c0bc0598-32ec-46b1-9844-517de5b2b607",
   "metadata": {
    "tags": []
   },
   "outputs": [
    {
     "data": {
      "text/plain": [
       "[<matplotlib.lines.Line2D at 0x15107b4a200>]"
      ]
     },
     "execution_count": 36,
     "metadata": {},
     "output_type": "execute_result"
    },
    {
     "data": {
      "image/png": "[encoded data removed]",
      "text/plain": [
       "<Figure size 640x480 with 1 Axes>"
      ]
     },
     "metadata": {},
     "output_type": "display_data"
    }
   ],
   "source": [
    "# 0부터 2파이 까지 100개 숫자\n",
    "x = np.linspace(0, 2*np.pi, 100)\n",
    "plt.plot(x, np.cos(x))"
   ]
  },
  {
   "cell_type": "code",
   "execution_count": 199,
   "id": "17bad084-9363-48dd-946d-fdbbf617e98d",
   "metadata": {
    "tags": []
   },
   "outputs": [
    {
     "data": {
      "text/plain": [
       "[<matplotlib.lines.Line2D at 0x151091f87f0>]"
      ]
     },
     "execution_count": 199,
     "metadata": {},
     "output_type": "execute_result"
    },
    {
     "data": {
      "image/png": "[encoded data removed]",
      "text/plain": [
       "<Figure size 640x480 with 1 Axes>"
      ]
     },
     "metadata": {},
     "output_type": "display_data"
    }
   ],
   "source": [
    "# 0부터 2파이 까지 100개 숫자\n",
    "x = np.linspace(0, 2*np.pi, 100)\n",
    "plt.plot(x, np.sin(x))\n",
    "plt.plot(x, np.cos(x)) "
   ]
  },
  {
   "cell_type": "markdown",
   "id": "74f665d6-e9b4-4e22-93d2-5cf1cb691049",
   "metadata": {},
   "source": [
    "# 데이터타입"
   ]
  },
  {
   "cell_type": "markdown",
   "id": "de5f83f8-6997-4e7c-a1f2-7a176943c983",
   "metadata": {},
   "source": [
    "## 숫자\n",
    "- 정수(integer) : int\n",
    "- 실수(float)   : float  = 소수를 뜻한다.(부르는건 실수라고 함)"
   ]
  },
  {
   "cell_type": "code",
   "execution_count": 42,
   "id": "b1d7223f-cf71-465e-a59f-216432849f1a",
   "metadata": {},
   "outputs": [
    {
     "data": {
      "text/plain": [
       "3"
      ]
     },
     "execution_count": 42,
     "metadata": {},
     "output_type": "execute_result"
    }
   ],
   "source": [
    "a = 3\n",
    "a"
   ]
  },
  {
   "cell_type": "code",
   "execution_count": 43,
   "id": "86deba08-28b6-47aa-a8cc-c9be75e7dc6a",
   "metadata": {},
   "outputs": [
    {
     "data": {
      "text/plain": [
       "int"
      ]
     },
     "execution_count": 43,
     "metadata": {},
     "output_type": "execute_result"
    }
   ],
   "source": [
    "type(a)"
   ]
  },
  {
   "cell_type": "code",
   "execution_count": 45,
   "id": "ea5dd308-d529-4572-bc01-232dbe4ce455",
   "metadata": {},
   "outputs": [
    {
     "data": {
      "text/plain": [
       "float"
      ]
     },
     "execution_count": 45,
     "metadata": {},
     "output_type": "execute_result"
    }
   ],
   "source": [
    "b = 3.0\n",
    "type(b)"
   ]
  },
  {
   "cell_type": "code",
   "execution_count": 48,
   "id": "1fc2dcc3-6e60-438a-add7-2541aafa3df7",
   "metadata": {},
   "outputs": [
    {
     "data": {
      "text/plain": [
       "float"
      ]
     },
     "execution_count": 48,
     "metadata": {},
     "output_type": "execute_result"
    }
   ],
   "source": [
    "a = 1 + 3.0\n",
    "type(a)"
   ]
  },
  {
   "cell_type": "markdown",
   "id": "2077a99c-c169-4fd3-92f9-8e9219846441",
   "metadata": {},
   "source": [
    "int + float 면 float가 나타난다."
   ]
  },
  {
   "cell_type": "code",
   "execution_count": 49,
   "id": "6408ba97-5271-46de-bf38-2043eb46ff8e",
   "metadata": {},
   "outputs": [
    {
     "data": {
      "text/plain": [
       "3"
      ]
     },
     "execution_count": 49,
     "metadata": {},
     "output_type": "execute_result"
    }
   ],
   "source": [
    "int(3.1)"
   ]
  },
  {
   "cell_type": "code",
   "execution_count": 50,
   "id": "129c9f69-b9a6-4e35-bdb9-dd5ca18b1954",
   "metadata": {},
   "outputs": [
    {
     "data": {
      "text/plain": [
       "3"
      ]
     },
     "execution_count": 50,
     "metadata": {},
     "output_type": "execute_result"
    }
   ],
   "source": [
    "int(3.9)"
   ]
  },
  {
   "cell_type": "code",
   "execution_count": 51,
   "id": "7032167d-f2c9-45a8-8141-116b9cccb6d5",
   "metadata": {},
   "outputs": [
    {
     "data": {
      "text/plain": [
       "3.0"
      ]
     },
     "execution_count": 51,
     "metadata": {},
     "output_type": "execute_result"
    }
   ],
   "source": [
    "float(3)"
   ]
  },
  {
   "cell_type": "code",
   "execution_count": 60,
   "id": "16bb9875-57d9-4d9d-9723-11afe7fbcf29",
   "metadata": {},
   "outputs": [
    {
     "data": {
      "text/plain": [
       "1024"
      ]
     },
     "execution_count": 60,
     "metadata": {},
     "output_type": "execute_result"
    }
   ],
   "source": [
    "2**10   #거듭제곱"
   ]
  },
  {
   "cell_type": "markdown",
   "id": "c7355626-2c4f-4411-a822-edee1d7d02b2",
   "metadata": {},
   "source": [
    "곱하기 2번 함. 거듭제곱임."
   ]
  },
  {
   "cell_type": "code",
   "execution_count": 61,
   "id": "b23afea4-dfd1-4c72-9758-5951f401982f",
   "metadata": {},
   "outputs": [
    {
     "data": {
      "text/plain": [
       "2"
      ]
     },
     "execution_count": 61,
     "metadata": {},
     "output_type": "execute_result"
    }
   ],
   "source": [
    "11 // 4   #몫"
   ]
  },
  {
   "cell_type": "markdown",
   "id": "258ec0a9-4abd-4dcd-8177-dcab096d8b6d",
   "metadata": {},
   "source": [
    "//는 나누기를 2번 함. 몫을 나타낸다."
   ]
  },
  {
   "cell_type": "code",
   "execution_count": 59,
   "id": "1948398a-5fa3-4382-9cf6-179cfb49a27f",
   "metadata": {},
   "outputs": [
    {
     "data": {
      "text/plain": [
       "3"
      ]
     },
     "execution_count": 59,
     "metadata": {},
     "output_type": "execute_result"
    }
   ],
   "source": [
    "11 % 4   #나머지"
   ]
  },
  {
   "cell_type": "code",
   "execution_count": 66,
   "id": "a34a27b2-8c80-459b-a719-1ed2fa94ea07",
   "metadata": {},
   "outputs": [
    {
     "data": {
      "text/plain": [
       "2"
      ]
     },
     "execution_count": 66,
     "metadata": {},
     "output_type": "execute_result"
    }
   ],
   "source": [
    "round(1.734)   #반올림은 round"
   ]
  },
  {
   "cell_type": "markdown",
   "id": "b7f0a664-072c-4b37-8f00-8042a1254b93",
   "metadata": {},
   "source": [
    "도움말 보려면 사용하려는 함수 사이에 두고 shift + Tab 누르면 나온다."
   ]
  },
  {
   "cell_type": "code",
   "execution_count": 67,
   "id": "52359bad-de6d-4a0a-91c5-a0982beb6e83",
   "metadata": {},
   "outputs": [
    {
     "data": {
      "text/plain": [
       "1.73"
      ]
     },
     "execution_count": 67,
     "metadata": {},
     "output_type": "execute_result"
    }
   ],
   "source": [
    "round(1.734, ndigits = 2)"
   ]
  },
  {
   "cell_type": "code",
   "execution_count": 69,
   "id": "2026be11-4ca7-4091-9562-e784cd2ddd7b",
   "metadata": {},
   "outputs": [
    {
     "data": {
      "text/plain": [
       "1.734"
      ]
     },
     "execution_count": 69,
     "metadata": {},
     "output_type": "execute_result"
    }
   ],
   "source": [
    "round(1.734, ndigits = 2)\n",
    "round(1.734, ndigits = 3) # 소수점 몇 자리 까지 보여줄껀지 표현함 ndigits"
   ]
  },
  {
   "cell_type": "code",
   "execution_count": 1,
   "id": "02560dab-cf0b-458d-9557-a1d21f936e65",
   "metadata": {},
   "outputs": [
    {
     "data": {
      "text/plain": [
       "1"
      ]
     },
     "execution_count": 1,
     "metadata": {},
     "output_type": "execute_result"
    }
   ],
   "source": [
    "import math\n",
    "math.floor(1.234)#바닥"
   ]
  },
  {
   "cell_type": "code",
   "execution_count": 2,
   "id": "b5ec3140-0991-4d95-a62c-ae1ee7b6aaa3",
   "metadata": {},
   "outputs": [
    {
     "data": {
      "text/plain": [
       "2"
      ]
     },
     "execution_count": 2,
     "metadata": {},
     "output_type": "execute_result"
    }
   ],
   "source": [
    "import math\n",
    "math.floor(1.234)\n",
    "math.ceil(1.234) #천장"
   ]
  },
  {
   "cell_type": "code",
   "execution_count": 74,
   "id": "94246f8f-5e9d-4024-8e87-cad26ed363c6",
   "metadata": {},
   "outputs": [
    {
     "name": "stdout",
     "output_type": "stream",
     "text": [
      "1\n"
     ]
    },
    {
     "data": {
      "text/plain": [
       "2"
      ]
     },
     "execution_count": 74,
     "metadata": {},
     "output_type": "execute_result"
    }
   ],
   "source": [
    "import math\n",
    "print(math.floor(1.234))\n",
    "math.ceil(1.234)"
   ]
  },
  {
   "cell_type": "markdown",
   "id": "00e594c3-44c9-4455-a324-014ecfe71f9f",
   "metadata": {},
   "source": [
    "print()를 써주면 무조건 출력되기 때문에 다 출력하고 싶으면 사용하기\n",
    "\n",
    "마지막 줄은 원래 자동으로 출력됨"
   ]
  },
  {
   "cell_type": "code",
   "execution_count": 76,
   "id": "a99ae37b-837c-44d3-8616-9c50aa25be4a",
   "metadata": {},
   "outputs": [
    {
     "data": {
      "text/plain": [
       "1"
      ]
     },
     "execution_count": 76,
     "metadata": {},
     "output_type": "execute_result"
    }
   ],
   "source": [
    "math.trunc(1.234) #버림"
   ]
  },
  {
   "cell_type": "markdown",
   "id": "437d5fc5-df2e-4a8c-afa3-4b20f435c578",
   "metadata": {},
   "source": [
    "## 문자\n",
    "- str(string)\n",
    "- 문자는 따옴표로 표현한다."
   ]
  },
  {
   "cell_type": "code",
   "execution_count": 198,
   "id": "4f4c5927-75eb-4bd3-9ef3-70d217eaa38e",
   "metadata": {},
   "outputs": [
    {
     "data": {
      "text/plain": [
       "'Hello'"
      ]
     },
     "execution_count": 198,
     "metadata": {},
     "output_type": "execute_result"
    }
   ],
   "source": [
    "\"Hello\" "
   ]
  },
  {
   "cell_type": "markdown",
   "id": "762df528-b0fc-43f6-8af8-0606ff282004",
   "metadata": {},
   "source": [
    "\"\"으로 사용했지만 ''가 출력되었다.\n",
    "\n",
    "파이썬에서는 \"\"나 ''나 똑같다."
   ]
  },
  {
   "cell_type": "code",
   "execution_count": 79,
   "id": "0e1ca808-834f-41de-ba71-4f18528c9505",
   "metadata": {},
   "outputs": [
    {
     "data": {
      "text/plain": [
       "'Hello'"
      ]
     },
     "execution_count": 79,
     "metadata": {},
     "output_type": "execute_result"
    }
   ],
   "source": [
    "a = 'Hello'\n",
    "a"
   ]
  },
  {
   "cell_type": "code",
   "execution_count": 81,
   "id": "955372b6-490d-4243-a30f-ff09516cd8e1",
   "metadata": {},
   "outputs": [
    {
     "name": "stdout",
     "output_type": "stream",
     "text": [
      "Hello\n"
     ]
    }
   ],
   "source": [
    "print(a)  #print 써서 출력하면 따옴표가 사라진다."
   ]
  },
  {
   "cell_type": "markdown",
   "id": "e6212da7-a22e-4449-8e93-3eb800f9c695",
   "metadata": {},
   "source": [
    "#그는 나에게 \"사랑해요\" 라고 말했다. -> 이것을 출력하기"
   ]
  },
  {
   "cell_type": "code",
   "execution_count": 86,
   "id": "c1e6885d-bb82-4521-b018-f7cc3c7a874a",
   "metadata": {},
   "outputs": [
    {
     "name": "stdout",
     "output_type": "stream",
     "text": [
      "그는 나에게 \"사랑해요\"라고 말했다.\n"
     ]
    }
   ],
   "source": [
    "print('그는 나에게 \"사랑해요\"라고 말했다.')"
   ]
  },
  {
   "cell_type": "code",
   "execution_count": 87,
   "id": "463c1e8c-5b27-4980-9615-4e57e6abede0",
   "metadata": {},
   "outputs": [
    {
     "data": {
      "text/plain": [
       "str"
      ]
     },
     "execution_count": 87,
     "metadata": {},
     "output_type": "execute_result"
    }
   ],
   "source": [
    "type(a)"
   ]
  },
  {
   "cell_type": "code",
   "execution_count": 154,
   "id": "cc33106c-5317-4b16-969f-71878fcf8561",
   "metadata": {},
   "outputs": [
    {
     "data": {
      "text/plain": [
       "'1'"
      ]
     },
     "execution_count": 154,
     "metadata": {},
     "output_type": "execute_result"
    }
   ],
   "source": [
    "str(1) #숫자여도 따옴표가 있는 문자열로 나온다."
   ]
  },
  {
   "cell_type": "code",
   "execution_count": 197,
   "id": "532fc664-f222-4437-b153-e393b57e92be",
   "metadata": {},
   "outputs": [
    {
     "data": {
      "text/plain": [
       "1"
      ]
     },
     "execution_count": 197,
     "metadata": {},
     "output_type": "execute_result"
    }
   ],
   "source": [
    "int(\"1\")   # 이건 문자 1이여도 숫자 1로 나온다. "
   ]
  },
  {
   "cell_type": "markdown",
   "id": "d03513fa-9f5d-4286-b264-90eda66695d1",
   "metadata": {},
   "source": [
    "모든 숫자는 문자로 바꿀수 있지만\n",
    "\n",
    "모든 문자는 바꿀수 있는것만 바꾼다."
   ]
  },
  {
   "cell_type": "markdown",
   "id": "0f56c8ef-e72d-441a-8e68-7c5b8f372cbb",
   "metadata": {},
   "source": [
    "### 문자열의 연산"
   ]
  },
  {
   "cell_type": "code",
   "execution_count": 95,
   "id": "f561c693-7817-418c-bb8d-20236314af0b",
   "metadata": {},
   "outputs": [],
   "source": [
    "a = 'Life is short.'\n",
    "b = 'We need Python.'"
   ]
  },
  {
   "cell_type": "code",
   "execution_count": 96,
   "id": "a74e29dc-0cde-492b-b84f-4e93f757dbb7",
   "metadata": {},
   "outputs": [
    {
     "data": {
      "text/plain": [
       "'Life is short.We need Python.'"
      ]
     },
     "execution_count": 96,
     "metadata": {},
     "output_type": "execute_result"
    }
   ],
   "source": [
    "a + b"
   ]
  },
  {
   "cell_type": "code",
   "execution_count": 97,
   "id": "1c8ba48f-2b2f-41d5-86da-bd017b6653bd",
   "metadata": {},
   "outputs": [
    {
     "ename": "TypeError",
     "evalue": "unsupported operand type(s) for -: 'str' and 'str'",
     "output_type": "error",
     "traceback": [
      "\u001b[1;31m---------------------------------------------------------------------------\u001b[0m",
      "\u001b[1;31mTypeError\u001b[0m                                 Traceback (most recent call last)",
      "Input \u001b[1;32mIn [97]\u001b[0m, in \u001b[0;36m<cell line: 1>\u001b[1;34m()\u001b[0m\n\u001b[1;32m----> 1\u001b[0m \u001b[43ma\u001b[49m\u001b[43m \u001b[49m\u001b[38;5;241;43m-\u001b[39;49m\u001b[43m \u001b[49m\u001b[43mb\u001b[49m\n",
      "\u001b[1;31mTypeError\u001b[0m: unsupported operand type(s) for -: 'str' and 'str'"
     ]
    }
   ],
   "source": [
    "a - b"
   ]
  },
  {
   "cell_type": "markdown",
   "id": "28b2d728-5729-4bc1-b2dc-64020e5250ce",
   "metadata": {},
   "source": [
    "unsupported operand type(s) 지원되지 않는 연산자 타입 입니다.\n",
    "str - str 은 불가능하다."
   ]
  },
  {
   "cell_type": "code",
   "execution_count": 98,
   "id": "792b2c92-98b2-4783-80b1-653a09ddc2a3",
   "metadata": {},
   "outputs": [
    {
     "ename": "NameError",
     "evalue": "name 'B' is not defined",
     "output_type": "error",
     "traceback": [
      "\u001b[1;31m---------------------------------------------------------------------------\u001b[0m",
      "\u001b[1;31mNameError\u001b[0m                                 Traceback (most recent call last)",
      "Input \u001b[1;32mIn [98]\u001b[0m, in \u001b[0;36m<cell line: 1>\u001b[1;34m()\u001b[0m\n\u001b[1;32m----> 1\u001b[0m a \u001b[38;5;241m*\u001b[39m \u001b[43mB\u001b[49m\n",
      "\u001b[1;31mNameError\u001b[0m: name 'B' is not defined"
     ]
    }
   ],
   "source": [
    "a * B"
   ]
  },
  {
   "cell_type": "code",
   "execution_count": 99,
   "id": "f1c2cdfe-5006-4a71-8788-46e934f291ea",
   "metadata": {},
   "outputs": [
    {
     "ename": "TypeError",
     "evalue": "unsupported operand type(s) for /: 'str' and 'str'",
     "output_type": "error",
     "traceback": [
      "\u001b[1;31m---------------------------------------------------------------------------\u001b[0m",
      "\u001b[1;31mTypeError\u001b[0m                                 Traceback (most recent call last)",
      "Input \u001b[1;32mIn [99]\u001b[0m, in \u001b[0;36m<cell line: 1>\u001b[1;34m()\u001b[0m\n\u001b[1;32m----> 1\u001b[0m \u001b[43ma\u001b[49m\u001b[43m \u001b[49m\u001b[38;5;241;43m/\u001b[39;49m\u001b[43m \u001b[49m\u001b[43mb\u001b[49m\n",
      "\u001b[1;31mTypeError\u001b[0m: unsupported operand type(s) for /: 'str' and 'str'"
     ]
    }
   ],
   "source": [
    "a / b"
   ]
  },
  {
   "cell_type": "markdown",
   "id": "03296a92-978b-4ac4-8cce-d365306a914a",
   "metadata": {},
   "source": [
    "a + b 가 가능했던 이유는 \n",
    "'Life is short.We need Python.'\n",
    "처럼 빈틈 없이 붙여서 출력된 것이지 더하기가 아니다."
   ]
  },
  {
   "cell_type": "code",
   "execution_count": 100,
   "id": "6f066301-fca0-4d43-b18f-62237b608fd6",
   "metadata": {},
   "outputs": [
    {
     "data": {
      "text/plain": [
       "'Life is short.Life is short.Life is short.'"
      ]
     },
     "execution_count": 100,
     "metadata": {},
     "output_type": "execute_result"
    }
   ],
   "source": [
    "a * 3"
   ]
  },
  {
   "cell_type": "code",
   "execution_count": 103,
   "id": "b18ef3c4-494d-45bf-a55f-dc11975e062f",
   "metadata": {},
   "outputs": [
    {
     "name": "stdout",
     "output_type": "stream",
     "text": [
      "----------------------------------------\n",
      "커피가 나왔습니다.\n",
      "----------------------------------------\n"
     ]
    }
   ],
   "source": [
    "print('-'*40)\n",
    "print('커피가 나왔습니다.')\n",
    "print('-'*40)"
   ]
  },
  {
   "cell_type": "markdown",
   "id": "ab6a3cfc-3f17-48fa-a003-a2aa1c096767",
   "metadata": {},
   "source": [
    "### 문자열의 매소드 (method)"
   ]
  },
  {
   "cell_type": "code",
   "execution_count": 110,
   "id": "cad466b1-c6e8-4d7c-8053-c344919549a4",
   "metadata": {},
   "outputs": [],
   "source": [
    "#upper() 대문자로 만들어주는 함수\n",
    "# 컨트롤 쉬프트 마이너스 눌러주면 셀이 분리된다."
   ]
  },
  {
   "cell_type": "code",
   "execution_count": 107,
   "id": "f7c1d7d5-4b12-435c-97bd-e4b61fc586f8",
   "metadata": {},
   "outputs": [],
   "source": [
    "a = 'Hello'"
   ]
  },
  {
   "cell_type": "code",
   "execution_count": 108,
   "id": "5c41a4b4-8c8a-40a8-b1b4-dbf9d860b937",
   "metadata": {},
   "outputs": [
    {
     "ename": "NameError",
     "evalue": "name 'upper' is not defined",
     "output_type": "error",
     "traceback": [
      "\u001b[1;31m---------------------------------------------------------------------------\u001b[0m",
      "\u001b[1;31mNameError\u001b[0m                                 Traceback (most recent call last)",
      "Input \u001b[1;32mIn [108]\u001b[0m, in \u001b[0;36m<cell line: 1>\u001b[1;34m()\u001b[0m\n\u001b[1;32m----> 1\u001b[0m \u001b[43mupper\u001b[49m(a)\n",
      "\u001b[1;31mNameError\u001b[0m: name 'upper' is not defined"
     ]
    }
   ],
   "source": [
    "upper(a)"
   ]
  },
  {
   "cell_type": "markdown",
   "id": "26c08bad-b5f4-4890-a237-128c5020fa67",
   "metadata": {},
   "source": [
    "안나오는 이유는 upper라는 함수가 옛날방식이기 때문이다."
   ]
  },
  {
   "cell_type": "code",
   "execution_count": 126,
   "id": "75141326-b522-49d5-861e-372887f4e327",
   "metadata": {},
   "outputs": [
    {
     "data": {
      "text/plain": [
       "'GOOD MORNING'"
      ]
     },
     "execution_count": 126,
     "metadata": {},
     "output_type": "execute_result"
    }
   ],
   "source": [
    "a.upper()  #다 대문자로 만들어준다."
   ]
  },
  {
   "cell_type": "markdown",
   "id": "3561f6b8-3d1c-4e09-976c-ff2fe21e3ecf",
   "metadata": {},
   "source": [
    "a. -> 이게 upper()의 주어가 된다."
   ]
  },
  {
   "cell_type": "code",
   "execution_count": 114,
   "id": "2f936672-619c-4d9b-9187-334a2af15cc1",
   "metadata": {},
   "outputs": [
    {
     "data": {
      "text/plain": [
       "'hello'"
      ]
     },
     "execution_count": 114,
     "metadata": {},
     "output_type": "execute_result"
    }
   ],
   "source": [
    "a.lower() #소문자로 만들어준다."
   ]
  },
  {
   "cell_type": "code",
   "execution_count": 119,
   "id": "06671ed9-d301-4f81-9b49-7954771d65b0",
   "metadata": {},
   "outputs": [
    {
     "data": {
      "text/plain": [
       "'Hello'"
      ]
     },
     "execution_count": 119,
     "metadata": {},
     "output_type": "execute_result"
    }
   ],
   "source": [
    "a.capitalize() #첫글자만 대문자."
   ]
  },
  {
   "cell_type": "code",
   "execution_count": 121,
   "id": "7009e0d7-b56b-49d1-9436-d6c5e0d14479",
   "metadata": {},
   "outputs": [
    {
     "data": {
      "text/plain": [
       "'GOOD MORNING'"
      ]
     },
     "execution_count": 121,
     "metadata": {},
     "output_type": "execute_result"
    }
   ],
   "source": [
    "a = \"good morning\"\n",
    "a.upper()"
   ]
  },
  {
   "cell_type": "code",
   "execution_count": 133,
   "id": "7d27b361-4410-4488-bbc8-1c50c77b1a56",
   "metadata": {},
   "outputs": [
    {
     "data": {
      "text/plain": [
       "'good morning'"
      ]
     },
     "execution_count": 133,
     "metadata": {},
     "output_type": "execute_result"
    }
   ],
   "source": [
    "a = \"good morning\"\n",
    "a.upper().lower()"
   ]
  },
  {
   "cell_type": "code",
   "execution_count": 123,
   "id": "0ef1f0e4-4060-48d3-b16b-af9c671a3ede",
   "metadata": {},
   "outputs": [
    {
     "data": {
      "text/plain": [
       "'Good morning'"
      ]
     },
     "execution_count": 123,
     "metadata": {},
     "output_type": "execute_result"
    }
   ],
   "source": [
    "a = \"good morning\"\n",
    "a.upper().lower().capitalize()"
   ]
  },
  {
   "cell_type": "code",
   "execution_count": 125,
   "id": "91c7e9d3-8225-4b95-8b6e-800870945014",
   "metadata": {},
   "outputs": [
    {
     "data": {
      "text/plain": [
       "'Good Morning'"
      ]
     },
     "execution_count": 125,
     "metadata": {},
     "output_type": "execute_result"
    }
   ],
   "source": [
    "a = \"good morning\"\n",
    "a.upper().lower().capitalize().title()"
   ]
  },
  {
   "cell_type": "code",
   "execution_count": 118,
   "id": "4885aa6c-5b4a-4f04-9688-252d4bc25b28",
   "metadata": {},
   "outputs": [
    {
     "data": {
      "text/plain": [
       "'hello'"
      ]
     },
     "execution_count": 118,
     "metadata": {},
     "output_type": "execute_result"
    }
   ],
   "source": [
    "b = a.upper() #a를 대문자로 만들어 -> 그걸 b에 할당\n",
    "b.lower() #b를 소문자로 만들어! 결과는 결국 소문자.\n",
    "\n",
    "a.upper().lower()"
   ]
  },
  {
   "cell_type": "markdown",
   "id": "04caf67f-1c42-4aa5-97b4-fbbc3a5b7533",
   "metadata": {},
   "source": [
    "a. 하고 Tab 누르면 사용할 수 있는 함수가 뜬다. (함수 사용법)"
   ]
  },
  {
   "cell_type": "code",
   "execution_count": 129,
   "id": "2a145eda-9195-43e1-9986-f827d6c9af56",
   "metadata": {},
   "outputs": [
    {
     "data": {
      "text/plain": [
       "2"
      ]
     },
     "execution_count": 129,
     "metadata": {},
     "output_type": "execute_result"
    }
   ],
   "source": [
    "#argument : 인수, 인자\n",
    "#parameter : 매개변수\n",
    "\n",
    "a.count('n')"
   ]
  },
  {
   "cell_type": "code",
   "execution_count": 130,
   "id": "95012f3d-3d27-463b-bcf1-b1cf115ab37b",
   "metadata": {},
   "outputs": [
    {
     "data": {
      "text/plain": [
       "3"
      ]
     },
     "execution_count": 130,
     "metadata": {},
     "output_type": "execute_result"
    }
   ],
   "source": [
    "a.count('o')"
   ]
  },
  {
   "cell_type": "code",
   "execution_count": 132,
   "id": "c5c13d68-5d33-44cf-ab69-1abdcbefbcd7",
   "metadata": {},
   "outputs": [
    {
     "data": {
      "text/plain": [
       "12"
      ]
     },
     "execution_count": 132,
     "metadata": {},
     "output_type": "execute_result"
    }
   ],
   "source": [
    "len(a) #길이를 알려준다."
   ]
  },
  {
   "cell_type": "code",
   "execution_count": 138,
   "id": "d0bd8c33-5aa3-4e6d-9c40-694e40f9fe27",
   "metadata": {},
   "outputs": [
    {
     "name": "stdout",
     "output_type": "stream",
     "text": [
      "       good morning      \n"
     ]
    }
   ],
   "source": [
    "#strip   # 양옆에 빈칸을 제거해준다.\n",
    "a = \"       good morning      \" #붙여넣기 할때 빈칸이 들어간 경우\n",
    "a.strip()\n",
    "print(a)"
   ]
  },
  {
   "cell_type": "code",
   "execution_count": 139,
   "id": "1935f756-77a5-45ea-b2bb-8001c428db08",
   "metadata": {},
   "outputs": [
    {
     "data": {
      "text/plain": [
       "'       good morning'"
      ]
     },
     "execution_count": 139,
     "metadata": {},
     "output_type": "execute_result"
    }
   ],
   "source": [
    "a = \"       good morning      \"\n",
    "a.rstrip()"
   ]
  },
  {
   "cell_type": "code",
   "execution_count": 140,
   "id": "6f828fb2-24c7-45d6-8511-d70fb4ac4f63",
   "metadata": {},
   "outputs": [
    {
     "data": {
      "text/plain": [
       "'good morning      '"
      ]
     },
     "execution_count": 140,
     "metadata": {},
     "output_type": "execute_result"
    }
   ],
   "source": [
    "a = \"       good morning      \"\n",
    "a.lstrip()"
   ]
  },
  {
   "cell_type": "code",
   "execution_count": 142,
   "id": "78a0ab84-a7b9-42e1-92d2-d0e9aad59050",
   "metadata": {},
   "outputs": [
    {
     "data": {
      "text/plain": [
       "['good', 'morning']"
      ]
     },
     "execution_count": 142,
     "metadata": {},
     "output_type": "execute_result"
    }
   ],
   "source": [
    "#split()\n",
    "a = \"       good morning      \"\n",
    "a.split()   #쪼개기"
   ]
  },
  {
   "cell_type": "code",
   "execution_count": 146,
   "id": "a04a3162-e2de-4477-adc2-31eb8dfe36f2",
   "metadata": {},
   "outputs": [
    {
     "data": {
      "text/plain": [
       "['       good', ' morning', ' Hello      ']"
      ]
     },
     "execution_count": 146,
     "metadata": {},
     "output_type": "execute_result"
    }
   ],
   "source": [
    "a = \"       good, morning, Hello      \"\n",
    "a.split(',')   #컴마를 기준으로 쪼갠다."
   ]
  },
  {
   "cell_type": "code",
   "execution_count": 150,
   "id": "40c25744-a8c4-42bd-a2b2-f63a639a7ccc",
   "metadata": {},
   "outputs": [
    {
     "data": {
      "text/plain": [
       "'철수영희길동'"
      ]
     },
     "execution_count": 150,
     "metadata": {},
     "output_type": "execute_result"
    }
   ],
   "source": [
    "# join\n",
    "a = [\"철수\", \"영희\", \"길동\"]\n",
    "\"\".join(a)           #앞에 \"\"은 join을 쓰기 위해 문자열을 넣은것이다."
   ]
  },
  {
   "cell_type": "code",
   "execution_count": 151,
   "id": "49339916-78e2-42a6-8fd6-74c608d9a582",
   "metadata": {},
   "outputs": [
    {
     "data": {
      "text/plain": [
       "'철수-영희-길동'"
      ]
     },
     "execution_count": 151,
     "metadata": {},
     "output_type": "execute_result"
    }
   ],
   "source": [
    "a = [\"철수\", \"영희\", \"길동\"]\n",
    "\"-\".join(a)"
   ]
  },
  {
   "cell_type": "code",
   "execution_count": 152,
   "id": "761fa455-524b-49b5-a6e3-2406a20ade56",
   "metadata": {},
   "outputs": [
    {
     "data": {
      "text/plain": [
       "'철수 - 영희 - 길동'"
      ]
     },
     "execution_count": 152,
     "metadata": {},
     "output_type": "execute_result"
    }
   ],
   "source": [
    "a = [\"철수\", \"영희\", \"길동\"]\n",
    "\" - \".join(a)"
   ]
  },
  {
   "cell_type": "markdown",
   "id": "f8f5788c-6694-479c-9aed-72b33d21e2bd",
   "metadata": {},
   "source": [
    "## 참거짓\n",
    "- bool : boolean "
   ]
  },
  {
   "cell_type": "code",
   "execution_count": 157,
   "id": "6c9505a3-15b2-4eed-b14c-d0b9fa64a903",
   "metadata": {},
   "outputs": [
    {
     "data": {
      "text/plain": [
       "True"
      ]
     },
     "execution_count": 157,
     "metadata": {},
     "output_type": "execute_result"
    }
   ],
   "source": [
    "1 < 2"
   ]
  },
  {
   "cell_type": "code",
   "execution_count": 196,
   "id": "23cd37e2-4dbc-4873-b75c-c1b4d729a2b1",
   "metadata": {},
   "outputs": [
    {
     "name": "stdout",
     "output_type": "stream",
     "text": [
      "Yes\n"
     ]
    }
   ],
   "source": [
    "if 1 < 2 :\n",
    "    print(\"Yes\")  "
   ]
  },
  {
   "cell_type": "code",
   "execution_count": 160,
   "id": "2905e99b-c3b9-4c0c-8fcb-004c281aa067",
   "metadata": {},
   "outputs": [],
   "source": [
    "if 1 > 2 :\n",
    "    print(\"Yes\")  #거짓이니 실행이 안된다."
   ]
  },
  {
   "cell_type": "code",
   "execution_count": 161,
   "id": "e5cf2279-f16d-43b1-be61-982310fd3894",
   "metadata": {},
   "outputs": [
    {
     "name": "stdout",
     "output_type": "stream",
     "text": [
      "No\n"
     ]
    }
   ],
   "source": [
    "if 1 > 2 :\n",
    "    print(\"Yes\")\n",
    "else :  #즉 거짓이라면\n",
    "    print(\"No\")"
   ]
  },
  {
   "cell_type": "markdown",
   "id": "91b79ba1-b626-4e36-a139-6857fed78d7a",
   "metadata": {},
   "source": [
    "if 1 == 2 :\n",
    "    print(\"Yes\")\n",
    "else :  \n",
    "    print(\"No\")"
   ]
  },
  {
   "cell_type": "code",
   "execution_count": 163,
   "id": "5b70d76e-98ed-440a-8318-967ca91c65dd",
   "metadata": {},
   "outputs": [
    {
     "data": {
      "text/plain": [
       "False"
      ]
     },
     "execution_count": 163,
     "metadata": {},
     "output_type": "execute_result"
    }
   ],
   "source": [
    "1 == 2"
   ]
  },
  {
   "cell_type": "code",
   "execution_count": 167,
   "id": "af9a9e00-a713-4de5-88c2-89d86ad58618",
   "metadata": {},
   "outputs": [
    {
     "name": "stdout",
     "output_type": "stream",
     "text": [
      "Yes\n"
     ]
    }
   ],
   "source": [
    "if 1 :\n",
    "    print(\"Yes\")\n",
    "else :  \n",
    "    print(\"No\")"
   ]
  },
  {
   "cell_type": "markdown",
   "id": "3428fa14-647f-47ef-b5d7-793435906bcf",
   "metadata": {},
   "source": [
    "1 만 집어넣었는데 오류가 안뜨고 Yes라고 떴다.\n",
    "\n",
    "2 라고 바꿔 집어넣어도 Yes가 나왔다.\n",
    "\n",
    "No 라고 나타나게 하고 싶다면 0을 넣기."
   ]
  },
  {
   "cell_type": "code",
   "execution_count": 166,
   "id": "a934e4ff-5200-410c-9b92-a827701ad144",
   "metadata": {},
   "outputs": [
    {
     "name": "stdout",
     "output_type": "stream",
     "text": [
      "No\n"
     ]
    }
   ],
   "source": [
    "if 0 :\n",
    "    print(\"Yes\")\n",
    "else :  \n",
    "    print(\"No\")"
   ]
  },
  {
   "cell_type": "markdown",
   "id": "7fc9c3a6-ea69-4829-be77-eb96fb7f483e",
   "metadata": {},
   "source": [
    "즉, 모든 숫자는 참 거짓의 관점에서는 다 참이다.\n",
    "\n",
    "단 한가지 0만 빼고."
   ]
  },
  {
   "cell_type": "code",
   "execution_count": 170,
   "id": "0e34c86e-7295-45da-a65c-dd29ef00c7ce",
   "metadata": {},
   "outputs": [
    {
     "data": {
      "text/plain": [
       "True"
      ]
     },
     "execution_count": 170,
     "metadata": {},
     "output_type": "execute_result"
    }
   ],
   "source": [
    "# 1< 2\n",
    "bool( 1 < 2 )"
   ]
  },
  {
   "cell_type": "code",
   "execution_count": 171,
   "id": "b8d75a2a-75ae-48a2-b422-ef2244a9942f",
   "metadata": {},
   "outputs": [
    {
     "data": {
      "text/plain": [
       "True"
      ]
     },
     "execution_count": 171,
     "metadata": {},
     "output_type": "execute_result"
    }
   ],
   "source": [
    "bool(1)"
   ]
  },
  {
   "cell_type": "markdown",
   "id": "8e763192-a6bb-49a0-965d-cc222cb7bc63",
   "metadata": {},
   "source": [
    "0 빼고 모든 숫자는 다 True로 처리한다."
   ]
  },
  {
   "cell_type": "code",
   "execution_count": 173,
   "id": "94d7a061-7313-4429-868d-f2df6f6a6ddf",
   "metadata": {},
   "outputs": [
    {
     "name": "stdout",
     "output_type": "stream",
     "text": [
      "Yes\n"
     ]
    }
   ],
   "source": [
    "if \"Hello\" :\n",
    "    print(\"Yes\")\n",
    "else : \n",
    "    print(\"No\")"
   ]
  },
  {
   "cell_type": "markdown",
   "id": "d1f4d239-aed9-474a-9475-8f5b51eee638",
   "metadata": {},
   "source": [
    "모든 문자는 다 참이다.\n",
    "\n",
    "단 한가지 빈칸 빼고"
   ]
  },
  {
   "cell_type": "code",
   "execution_count": 174,
   "id": "1eb6e1b3-559d-4a41-94d0-6a511dc0abe7",
   "metadata": {},
   "outputs": [
    {
     "name": "stdout",
     "output_type": "stream",
     "text": [
      "No\n"
     ]
    }
   ],
   "source": [
    "if \"\" :\n",
    "    print(\"Yes\")\n",
    "else : \n",
    "    print(\"No\")"
   ]
  },
  {
   "cell_type": "code",
   "execution_count": 175,
   "id": "f97bf11c-075a-44be-9664-1af416c22791",
   "metadata": {},
   "outputs": [
    {
     "ename": "NameError",
     "evalue": "name 'array' is not defined",
     "output_type": "error",
     "traceback": [
      "\u001b[1;31m---------------------------------------------------------------------------\u001b[0m",
      "\u001b[1;31mNameError\u001b[0m                                 Traceback (most recent call last)",
      "Input \u001b[1;32mIn [175]\u001b[0m, in \u001b[0;36m<cell line: 1>\u001b[1;34m()\u001b[0m\n\u001b[1;32m----> 1\u001b[0m \u001b[43marray\u001b[49m()\n",
      "\u001b[1;31mNameError\u001b[0m: name 'array' is not defined"
     ]
    }
   ],
   "source": [
    "array()"
   ]
  },
  {
   "cell_type": "markdown",
   "id": "06b8a93a-493b-4a0e-829e-a2e95fdf77b4",
   "metadata": {},
   "source": [
    "안나오는 이유는 np.을 안했기 때문이다."
   ]
  },
  {
   "cell_type": "code",
   "execution_count": 177,
   "id": "53e819d9-63c6-4077-8b28-09435f376eb4",
   "metadata": {},
   "outputs": [
    {
     "data": {
      "text/plain": [
       "array([1, 2, 3, 4, 5])"
      ]
     },
     "execution_count": 177,
     "metadata": {},
     "output_type": "execute_result"
    }
   ],
   "source": [
    "np.array([1,2,3,4,5])     # 2개 이상이면 대괄호[] 사용하기"
   ]
  },
  {
   "cell_type": "code",
   "execution_count": 180,
   "id": "5de5cba0-a3b1-4bd0-b23c-d55f20f3d5a4",
   "metadata": {},
   "outputs": [
    {
     "data": {
      "text/plain": [
       "array([1, 2, 3, 4, 5])"
      ]
     },
     "execution_count": 180,
     "metadata": {},
     "output_type": "execute_result"
    }
   ],
   "source": [
    "a = np.array([1,2,3,4,5])    # a에 할당하기(안그러면 날라감)\n",
    "a"
   ]
  },
  {
   "cell_type": "code",
   "execution_count": 181,
   "id": "8c9b0a65-3443-44f1-97ae-037104d4a341",
   "metadata": {},
   "outputs": [
    {
     "data": {
      "text/plain": [
       "array([False, False, False,  True,  True])"
      ]
     },
     "execution_count": 181,
     "metadata": {},
     "output_type": "execute_result"
    }
   ],
   "source": [
    "a > 3"
   ]
  },
  {
   "cell_type": "code",
   "execution_count": 186,
   "id": "5839e6d4-0f31-4e8f-a503-ed501640786d",
   "metadata": {},
   "outputs": [
    {
     "data": {
      "text/plain": [
       "array([4, 5])"
      ]
     },
     "execution_count": 186,
     "metadata": {},
     "output_type": "execute_result"
    }
   ],
   "source": [
    "a[ a > 3 ]   #뭔가를 찾아내거나 속아내고 싶을때 True, False가 사용된다."
   ]
  },
  {
   "cell_type": "markdown",
   "id": "aeee3b9d-ba8a-485b-b42b-68d9841371f9",
   "metadata": {},
   "source": [
    "<기억하기>\n",
    "\n",
    "- 달랑 숫자 달랑 문자도 참 거짓이 있다\n",
    "\n",
    "- 뭔가를 검색할때 트루 폴스 많이 쓰인다."
   ]
  },
  {
   "cell_type": "markdown",
   "id": "fe798965-70de-494d-a96a-d2c01b778f49",
   "metadata": {},
   "source": [
    "input()\n",
    "\n",
    "일단 문자열을 출력해준다.\n",
    "\n",
    "출력은 항상 str 이다.  <중요>"
   ]
  },
  {
   "cell_type": "code",
   "execution_count": 190,
   "id": "0e3b86b6-5d35-487c-9af6-d9754f3b2447",
   "metadata": {
    "tags": []
   },
   "outputs": [
    {
     "name": "stdin",
     "output_type": "stream",
     "text": [
      "숫자를 입력해 주세요 3\n"
     ]
    },
    {
     "data": {
      "text/plain": [
       "'3'"
      ]
     },
     "execution_count": 190,
     "metadata": {},
     "output_type": "execute_result"
    }
   ],
   "source": [
    "input( \"숫자를 입력해 주세요\" )"
   ]
  },
  {
   "cell_type": "code",
   "execution_count": 192,
   "id": "1b5a3605-a5ef-4774-b670-3c73effc99ee",
   "metadata": {
    "tags": []
   },
   "outputs": [
    {
     "name": "stdin",
     "output_type": "stream",
     "text": [
      "입력 :  3\n",
      "두번째 입력 :  3\n"
     ]
    },
    {
     "data": {
      "text/plain": [
       "'33'"
      ]
     },
     "execution_count": 192,
     "metadata": {},
     "output_type": "execute_result"
    }
   ],
   "source": [
    "a = input(\"입력 : \")\n",
    "b = input(\"두번째 입력 : \")\n",
    "a + b"
   ]
  },
  {
   "cell_type": "code",
   "execution_count": 194,
   "id": "5fc34f56-cdcc-4f44-a065-77e134100444",
   "metadata": {
    "jp-MarkdownHeadingCollapsed": true,
    "tags": []
   },
   "outputs": [
    {
     "name": "stdin",
     "output_type": "stream",
     "text": [
      "입력 :  3\n",
      "두번째 입력 :  3\n"
     ]
    },
    {
     "data": {
      "text/plain": [
       "6"
      ]
     },
     "execution_count": 194,
     "metadata": {},
     "output_type": "execute_result"
    }
   ],
   "source": [
    "a = input(\"입력 : \")\n",
    "b = input(\"두번째 입력 : \")\n",
    "a + b\n",
    "int(a) + int(b)"
   ]
  },
  {
   "cell_type": "code",
   "execution_count": 195,
   "id": "f08583f8-7dde-4558-85f4-d94c5e53b656",
   "metadata": {},
   "outputs": [
    {
     "name": "stdin",
     "output_type": "stream",
     "text": [
      "숫자 입력 :  3\n",
      "두번째 입력 :  3\n"
     ]
    },
    {
     "data": {
      "text/plain": [
       "6"
      ]
     },
     "execution_count": 195,
     "metadata": {},
     "output_type": "execute_result"
    }
   ],
   "source": [
    "a = int(input(\"숫자 입력 : \"))\n",
    "b = int(input(\"두번째 입력 : \"))\n",
    "a + b"
   ]
  },
  {
   "cell_type": "code",
   "execution_count": 1,
   "id": "4e1b2584-023a-467b-89fa-dae52d566e6a",
   "metadata": {},
   "outputs": [],
   "source": [
    "#######################"
   ]
  },
  {
   "cell_type": "code",
   "execution_count": 2,
   "id": "fc36750a-fe75-4ee0-b875-406a4e6bc21d",
   "metadata": {},
   "outputs": [
    {
     "ename": "TypeError",
     "evalue": "'<' not supported between instances of 'list' and 'int'",
     "output_type": "error",
     "traceback": [
      "\u001b[1;31m---------------------------------------------------------------------------\u001b[0m",
      "\u001b[1;31mTypeError\u001b[0m                                 Traceback (most recent call last)",
      "Input \u001b[1;32mIn [2]\u001b[0m, in \u001b[0;36m<cell line: 2>\u001b[1;34m()\u001b[0m\n\u001b[0;32m      1\u001b[0m a \u001b[38;5;241m=\u001b[39m [\u001b[38;5;241m4\u001b[39m, \u001b[38;5;241m3\u001b[39m, \u001b[38;5;241m8\u001b[39m, \u001b[38;5;241m6\u001b[39m, \u001b[38;5;241m9\u001b[39m]\n\u001b[1;32m----> 2\u001b[0m a[ \u001b[43ma\u001b[49m\u001b[43m \u001b[49m\u001b[38;5;241;43m<\u001b[39;49m\u001b[43m \u001b[49m\u001b[38;5;241;43m8\u001b[39;49m ]\n",
      "\u001b[1;31mTypeError\u001b[0m: '<' not supported between instances of 'list' and 'int'"
     ]
    }
   ],
   "source": [
    "a = [4, 3, 8, 6, 9]\n",
    "a[ a < 8 ]\n",
    "# 이렇게 하면 오류 뜬다."
   ]
  },
  {
   "cell_type": "code",
   "execution_count": 127,
   "id": "5fd7e448-84f0-4f23-b538-2f0478f5c49d",
   "metadata": {},
   "outputs": [],
   "source": [
    "import math\n",
    "import numpy as np"
   ]
  },
  {
   "cell_type": "code",
   "execution_count": 128,
   "id": "24dd2589-3d9e-4851-b7b3-f2087730166d",
   "metadata": {},
   "outputs": [
    {
     "data": {
      "text/plain": [
       "array([4, 3, 6])"
      ]
     },
     "execution_count": 128,
     "metadata": {},
     "output_type": "execute_result"
    }
   ],
   "source": [
    "a = np.array([4, 3, 8, 6, 9])\n",
    "a[ a < 8 ]\n",
    "# np.array를 해줘야 하나하나 지정을 해주기 때문에 필요하다."
   ]
  },
  {
   "cell_type": "code",
   "execution_count": 4,
   "id": "75a93239-7aff-4817-ad9a-922ee15190f8",
   "metadata": {},
   "outputs": [],
   "source": [
    "##############################"
   ]
  },
  {
   "cell_type": "code",
   "execution_count": 5,
   "id": "85b6f6d4-8a5d-43b7-b3c0-c6d516041a79",
   "metadata": {},
   "outputs": [],
   "source": [
    "# 입력받은 것의 두배를 출력해 봅시다."
   ]
  },
  {
   "cell_type": "code",
   "execution_count": 7,
   "id": "19349423-693b-4c5b-9d93-6f7edfc2d784",
   "metadata": {},
   "outputs": [
    {
     "name": "stdin",
     "output_type": "stream",
     "text": [
      " 3\n"
     ]
    },
    {
     "name": "stdout",
     "output_type": "stream",
     "text": [
      "6\n"
     ]
    }
   ],
   "source": [
    "a = int(input())\n",
    "print(a*2) "
   ]
  },
  {
   "cell_type": "code",
   "execution_count": 15,
   "id": "710a3dab-9305-4f8c-9b65-3ed0451d7cba",
   "metadata": {},
   "outputs": [
    {
     "name": "stdin",
     "output_type": "stream",
     "text": [
      " a b\n"
     ]
    }
   ],
   "source": [
    "#여러개를 입력받기\n",
    "words = input().split()"
   ]
  },
  {
   "cell_type": "code",
   "execution_count": 16,
   "id": "79bd5775-d8c2-4794-a337-69a211a21fab",
   "metadata": {},
   "outputs": [
    {
     "data": {
      "text/plain": [
       "['a', 'b']"
      ]
     },
     "execution_count": 16,
     "metadata": {},
     "output_type": "execute_result"
    }
   ],
   "source": [
    "words"
   ]
  },
  {
   "cell_type": "code",
   "execution_count": 18,
   "id": "6d0c75b0-b133-462d-b456-b836e8930c67",
   "metadata": {},
   "outputs": [
    {
     "name": "stdin",
     "output_type": "stream",
     "text": [
      " a b c\n"
     ]
    },
    {
     "data": {
      "text/plain": [
       "['a', 'b', 'c']"
      ]
     },
     "execution_count": 18,
     "metadata": {},
     "output_type": "execute_result"
    }
   ],
   "source": [
    "#스페이스바로 여러개를 입력받기\n",
    "words = input().split()\n",
    "words"
   ]
  },
  {
   "cell_type": "code",
   "execution_count": 19,
   "id": "60e5a514-9be9-4612-91a8-28fe38a50c4e",
   "metadata": {},
   "outputs": [
    {
     "name": "stdin",
     "output_type": "stream",
     "text": [
      " a, b, c\n"
     ]
    },
    {
     "data": {
      "text/plain": [
       "['a', ' b', ' c']"
      ]
     },
     "execution_count": 19,
     "metadata": {},
     "output_type": "execute_result"
    }
   ],
   "source": [
    "# 콤마로 분리해서 여러개를 입력받기\n",
    "words = input().split(\",\")\n",
    "words"
   ]
  },
  {
   "cell_type": "code",
   "execution_count": 20,
   "id": "c5b3df67-4a2b-4142-a226-2741d6a83d2e",
   "metadata": {},
   "outputs": [
    {
     "name": "stdin",
     "output_type": "stream",
     "text": [
      " Hello, Good, Morning\n"
     ]
    },
    {
     "data": {
      "text/plain": [
       "['Hello', ' Good', ' Morning']"
      ]
     },
     "execution_count": 20,
     "metadata": {},
     "output_type": "execute_result"
    }
   ],
   "source": [
    "words = input().split(\",\")\n",
    "words"
   ]
  },
  {
   "cell_type": "markdown",
   "id": "ae1f02b9-970d-464b-967e-2ef7df9b1ebf",
   "metadata": {},
   "source": [
    "여러개 한꺼번에 출력하고 싶으면 .split(\",\")에서\n",
    "\n",
    "\",\" 써주기"
   ]
  },
  {
   "cell_type": "markdown",
   "id": "506ce90c-bcaa-4457-bfa4-902b2830f83c",
   "metadata": {},
   "source": [
    "### formatting 포맷팅"
   ]
  },
  {
   "cell_type": "code",
   "execution_count": 21,
   "id": "dfac6656-035e-4eb0-a8c7-c1e285868140",
   "metadata": {},
   "outputs": [
    {
     "name": "stdout",
     "output_type": "stream",
     "text": [
      "I ate three apples. So I have sicked for 3 days\n"
     ]
    }
   ],
   "source": [
    "print(\"I ate three apples. So I have sicked for 3 days\")"
   ]
  },
  {
   "cell_type": "code",
   "execution_count": 24,
   "id": "882e5160-703f-4e90-b53c-59977026f022",
   "metadata": {},
   "outputs": [
    {
     "name": "stdout",
     "output_type": "stream",
     "text": [
      "I ate number apples. So I have sicked for day days\n"
     ]
    }
   ],
   "source": [
    "number = 'three'  # three는 글자니까 \"\"\n",
    "day = 3\n",
    "print(\"I ate number apples. So I have sicked for day days\")"
   ]
  },
  {
   "cell_type": "code",
   "execution_count": 28,
   "id": "664847d3-7aa2-4e6c-a920-c31f22f97c5a",
   "metadata": {},
   "outputs": [
    {
     "name": "stdout",
     "output_type": "stream",
     "text": [
      "I ate three apples. So I have sicked for 3 days\n",
      "I ate three apples. So I have sicked for 3 days\n",
      "I ate 3 apples. So I have sicked for three days\n",
      "I ate three apples. So I have sicked for three days\n"
     ]
    }
   ],
   "source": [
    "number = 'three'\n",
    "day = 3\n",
    "print(\"I ate {} apples. So I have sicked for {} days\".format(number, day))\n",
    "print(\"I ate {0} apples. So I have sicked for {1} days\".format(number, day))\n",
    "print(\"I ate {1} apples. So I have sicked for {0} days\".format(number, day))\n",
    "print(\"I ate {0} apples. So I have sicked for {0} days\".format(number, day))"
   ]
  },
  {
   "cell_type": "markdown",
   "id": "08e04db4-514b-4163-b8c3-a8d96fcd2e31",
   "metadata": {},
   "source": [
    "<문자열일때 사용됨>\n",
    "\n",
    "{}는 변수를 뜻한다.  /.format()/\n",
    "\n",
    "{}안에 0이나 1일 넣을 수 있는데 순서를 나타낸다.\n",
    "\n",
    "하지만 이 방식은 옛날 방식으로 더이상 사용 X"
   ]
  },
  {
   "cell_type": "code",
   "execution_count": 30,
   "id": "90a0cee8-4a1b-45dd-81b4-a1943048dfe0",
   "metadata": {},
   "outputs": [
    {
     "name": "stdout",
     "output_type": "stream",
     "text": [
      "I ate three apples. So I have sicked for 3 days\n"
     ]
    }
   ],
   "source": [
    "# f-string\n",
    "number = 'three'\n",
    "day = 3\n",
    "print(f\"I ate {number} apples. So I have sicked for {day} days\")"
   ]
  },
  {
   "cell_type": "markdown",
   "id": "73f5502c-7db0-476e-b62a-21d140472e8d",
   "metadata": {},
   "source": [
    "요즘은 f-string 을 사용한다."
   ]
  },
  {
   "cell_type": "code",
   "execution_count": 32,
   "id": "6b55b5f0-c9aa-464c-adfd-ded95fcfac5f",
   "metadata": {},
   "outputs": [],
   "source": [
    "#이름과 나이를 입력받아서\n",
    "#name, age\n",
    "#\"나의 이름은 최지원이고 나이는 24세입니다.\"\n",
    "#이 형식으로 출력하기"
   ]
  },
  {
   "cell_type": "code",
   "execution_count": 33,
   "id": "d30085ba-4620-4986-a8c5-fe751bfc473b",
   "metadata": {},
   "outputs": [
    {
     "name": "stdout",
     "output_type": "stream",
     "text": [
      "나의 이름은 최지원이고 나이는 24세입니다.\n"
     ]
    }
   ],
   "source": [
    "name = \"최지원\"\n",
    "age = 24\n",
    "print(f\"나의 이름은 {name}이고 나이는 {age}세입니다.\")"
   ]
  },
  {
   "cell_type": "code",
   "execution_count": 129,
   "id": "6a3033af-59ca-4848-b90c-4dac1c4e928f",
   "metadata": {},
   "outputs": [
    {
     "ename": "KeyboardInterrupt",
     "evalue": "Interrupted by user",
     "output_type": "error",
     "traceback": [
      "\u001b[1;31m---------------------------------------------------------------------------\u001b[0m",
      "\u001b[1;31mKeyboardInterrupt\u001b[0m                         Traceback (most recent call last)",
      "Input \u001b[1;32mIn [129]\u001b[0m, in \u001b[0;36m<cell line: 1>\u001b[1;34m()\u001b[0m\n\u001b[1;32m----> 1\u001b[0m name \u001b[38;5;241m=\u001b[39m \u001b[38;5;28;43minput\u001b[39;49m\u001b[43m(\u001b[49m\u001b[38;5;124;43m\"\u001b[39;49m\u001b[38;5;124;43m이름\u001b[39;49m\u001b[38;5;124;43m\"\u001b[39;49m\u001b[43m)\u001b[49m\n\u001b[0;32m      2\u001b[0m age \u001b[38;5;241m=\u001b[39m \u001b[38;5;28minput\u001b[39m(\u001b[38;5;124m\"\u001b[39m\u001b[38;5;124m나이\u001b[39m\u001b[38;5;124m\"\u001b[39m)\n\u001b[0;32m      4\u001b[0m \u001b[38;5;28mprint\u001b[39m(\u001b[38;5;124mf\u001b[39m\u001b[38;5;124m\"\u001b[39m\u001b[38;5;124m나의 이름은 \u001b[39m\u001b[38;5;132;01m{\u001b[39;00mname\u001b[38;5;132;01m}\u001b[39;00m\u001b[38;5;124m이고 나이는 \u001b[39m\u001b[38;5;132;01m{\u001b[39;00mage\u001b[38;5;132;01m}\u001b[39;00m\u001b[38;5;124m입니다.\u001b[39m\u001b[38;5;124m\"\u001b[39m)\n",
      "File \u001b[1;32m~\\AppData\\Local\\Programs\\Python\\Python310\\lib\\site-packages\\ipykernel\\kernelbase.py:1177\u001b[0m, in \u001b[0;36mKernel.raw_input\u001b[1;34m(self, prompt)\u001b[0m\n\u001b[0;32m   1173\u001b[0m \u001b[38;5;28;01mif\u001b[39;00m \u001b[38;5;129;01mnot\u001b[39;00m \u001b[38;5;28mself\u001b[39m\u001b[38;5;241m.\u001b[39m_allow_stdin:\n\u001b[0;32m   1174\u001b[0m     \u001b[38;5;28;01mraise\u001b[39;00m StdinNotImplementedError(\n\u001b[0;32m   1175\u001b[0m         \u001b[38;5;124m\"\u001b[39m\u001b[38;5;124mraw_input was called, but this frontend does not support input requests.\u001b[39m\u001b[38;5;124m\"\u001b[39m\n\u001b[0;32m   1176\u001b[0m     )\n\u001b[1;32m-> 1177\u001b[0m \u001b[38;5;28;01mreturn\u001b[39;00m \u001b[38;5;28;43mself\u001b[39;49m\u001b[38;5;241;43m.\u001b[39;49m\u001b[43m_input_request\u001b[49m\u001b[43m(\u001b[49m\n\u001b[0;32m   1178\u001b[0m \u001b[43m    \u001b[49m\u001b[38;5;28;43mstr\u001b[39;49m\u001b[43m(\u001b[49m\u001b[43mprompt\u001b[49m\u001b[43m)\u001b[49m\u001b[43m,\u001b[49m\n\u001b[0;32m   1179\u001b[0m \u001b[43m    \u001b[49m\u001b[38;5;28;43mself\u001b[39;49m\u001b[38;5;241;43m.\u001b[39;49m\u001b[43m_parent_ident\u001b[49m\u001b[43m[\u001b[49m\u001b[38;5;124;43m\"\u001b[39;49m\u001b[38;5;124;43mshell\u001b[39;49m\u001b[38;5;124;43m\"\u001b[39;49m\u001b[43m]\u001b[49m\u001b[43m,\u001b[49m\n\u001b[0;32m   1180\u001b[0m \u001b[43m    \u001b[49m\u001b[38;5;28;43mself\u001b[39;49m\u001b[38;5;241;43m.\u001b[39;49m\u001b[43mget_parent\u001b[49m\u001b[43m(\u001b[49m\u001b[38;5;124;43m\"\u001b[39;49m\u001b[38;5;124;43mshell\u001b[39;49m\u001b[38;5;124;43m\"\u001b[39;49m\u001b[43m)\u001b[49m\u001b[43m,\u001b[49m\n\u001b[0;32m   1181\u001b[0m \u001b[43m    \u001b[49m\u001b[43mpassword\u001b[49m\u001b[38;5;241;43m=\u001b[39;49m\u001b[38;5;28;43;01mFalse\u001b[39;49;00m\u001b[43m,\u001b[49m\n\u001b[0;32m   1182\u001b[0m \u001b[43m\u001b[49m\u001b[43m)\u001b[49m\n",
      "File \u001b[1;32m~\\AppData\\Local\\Programs\\Python\\Python310\\lib\\site-packages\\ipykernel\\kernelbase.py:1219\u001b[0m, in \u001b[0;36mKernel._input_request\u001b[1;34m(self, prompt, ident, parent, password)\u001b[0m\n\u001b[0;32m   1216\u001b[0m             \u001b[38;5;28;01mbreak\u001b[39;00m\n\u001b[0;32m   1217\u001b[0m \u001b[38;5;28;01mexcept\u001b[39;00m \u001b[38;5;167;01mKeyboardInterrupt\u001b[39;00m:\n\u001b[0;32m   1218\u001b[0m     \u001b[38;5;66;03m# re-raise KeyboardInterrupt, to truncate traceback\u001b[39;00m\n\u001b[1;32m-> 1219\u001b[0m     \u001b[38;5;28;01mraise\u001b[39;00m \u001b[38;5;167;01mKeyboardInterrupt\u001b[39;00m(\u001b[38;5;124m\"\u001b[39m\u001b[38;5;124mInterrupted by user\u001b[39m\u001b[38;5;124m\"\u001b[39m) \u001b[38;5;28;01mfrom\u001b[39;00m \u001b[38;5;28mNone\u001b[39m\n\u001b[0;32m   1220\u001b[0m \u001b[38;5;28;01mexcept\u001b[39;00m \u001b[38;5;167;01mException\u001b[39;00m:\n\u001b[0;32m   1221\u001b[0m     \u001b[38;5;28mself\u001b[39m\u001b[38;5;241m.\u001b[39mlog\u001b[38;5;241m.\u001b[39mwarning(\u001b[38;5;124m\"\u001b[39m\u001b[38;5;124mInvalid Message:\u001b[39m\u001b[38;5;124m\"\u001b[39m, exc_info\u001b[38;5;241m=\u001b[39m\u001b[38;5;28;01mTrue\u001b[39;00m)\n",
      "\u001b[1;31mKeyboardInterrupt\u001b[0m: Interrupted by user"
     ]
    }
   ],
   "source": [
    "name = input(\"이름\")\n",
    "age = input(\"나이\")\n",
    "\n",
    "print(f\"나의 이름은 {name}이고 나이는 {age}입니다.\") "
   ]
  },
  {
   "cell_type": "markdown",
   "id": "d5e72557-7b1a-48ce-8a02-c9cb9c2f88e6",
   "metadata": {},
   "source": [
    "# 파이썬의 자료형\n",
    "- 리스트, 튜플, 딕셔너리, 집합"
   ]
  },
  {
   "cell_type": "markdown",
   "id": "f90e4142-83b6-4df3-ae49-9b8a16aa7ae9",
   "metadata": {},
   "source": [
    "## 리스트\n",
    "역할 : 여러개를 하나로 묶어주는 것임.\n",
    "- 만들기 : [ ] 대괄호를 사용\n",
    "- 접근(읽기)\n",
    "- 수정"
   ]
  },
  {
   "cell_type": "markdown",
   "id": "93a43ee1-28f9-404c-a91b-9dc3320fa025",
   "metadata": {},
   "source": [
    "## 만들기 : []"
   ]
  },
  {
   "cell_type": "code",
   "execution_count": 36,
   "id": "418b315b-db49-4fda-bae3-6f1ab2f889a4",
   "metadata": {},
   "outputs": [
    {
     "data": {
      "text/plain": [
       "[1, 2, 3, 4]"
      ]
     },
     "execution_count": 36,
     "metadata": {},
     "output_type": "execute_result"
    }
   ],
   "source": [
    "# 만들기\n",
    "a = [1, 2, 3, 4]\n",
    "a"
   ]
  },
  {
   "cell_type": "code",
   "execution_count": 37,
   "id": "a3064f26-c5d9-4f7c-ad9a-af7b08004789",
   "metadata": {},
   "outputs": [
    {
     "data": {
      "text/plain": [
       "list"
      ]
     },
     "execution_count": 37,
     "metadata": {},
     "output_type": "execute_result"
    }
   ],
   "source": [
    "type(a)"
   ]
  },
  {
   "cell_type": "markdown",
   "id": "4c0883a5-6dd3-4638-be25-2bcae9a71bc9",
   "metadata": {},
   "source": [
    "list는 여러개를 하나로 묶어주는 것임."
   ]
  },
  {
   "cell_type": "code",
   "execution_count": 39,
   "id": "26726d38-a871-42a5-9062-77e1fb9aee5d",
   "metadata": {},
   "outputs": [
    {
     "data": {
      "text/plain": [
       "(1, 2)"
      ]
     },
     "execution_count": 39,
     "metadata": {},
     "output_type": "execute_result"
    }
   ],
   "source": [
    "a = 1, 2\n",
    "a"
   ]
  },
  {
   "cell_type": "markdown",
   "id": "36a1156c-dca3-48e4-b406-db4090746ce9",
   "metadata": {},
   "source": [
    "리스트로 묶진 않았지만 자동으로 묶임\n",
    "type(a) 했을때 list가 아니라 tuple이라고 뜨는데 이것은 다른 데이터 타입이다."
   ]
  },
  {
   "cell_type": "code",
   "execution_count": 41,
   "id": "c0fa6714-c857-405f-ba10-80969ab03578",
   "metadata": {},
   "outputs": [
    {
     "data": {
      "text/plain": [
       "[1, 2, 3, 4, 'Hello', 'Good Morning']"
      ]
     },
     "execution_count": 41,
     "metadata": {},
     "output_type": "execute_result"
    }
   ],
   "source": [
    "a = [1, 2, 3, 4]\n",
    "a = [1, 2, 3, 4, \"Hello\", \"Good Morning\"]\n",
    "a"
   ]
  },
  {
   "cell_type": "code",
   "execution_count": 44,
   "id": "5ad5b44f-0bc2-4291-83f4-3bf0bdf61c44",
   "metadata": {},
   "outputs": [
    {
     "data": {
      "text/plain": [
       "[1, 2, 3, 4, 'Hello', 'Good Morning', [5, 6, 7, 8]]"
      ]
     },
     "execution_count": 44,
     "metadata": {},
     "output_type": "execute_result"
    }
   ],
   "source": [
    "a = [1, 2, 3, 4]\n",
    "a = [1, 2, 3, 4, \"Hello\", \"Good Morning\", [5, 6, 7, 8]] # nested list\n",
    "a"
   ]
  },
  {
   "cell_type": "markdown",
   "id": "5a974e64-4f61-444c-9e1f-1fa3fd662200",
   "metadata": {},
   "source": [
    "리스트 안에 리스트 사용할 수 있다 -> nested list 라고 한다.(중첩 리스트)"
   ]
  },
  {
   "cell_type": "markdown",
   "id": "b11c6db7-6044-4742-9900-407d6a02a267",
   "metadata": {},
   "source": [
    "- 접근"
   ]
  },
  {
   "cell_type": "code",
   "execution_count": 49,
   "id": "fbf8996d-0863-4214-8d78-ddc87e95ef19",
   "metadata": {},
   "outputs": [
    {
     "data": {
      "text/plain": [
       "[1, 2, 3, 4, 'Hello', 'Good Morning', [5, 6, 7, 8]]"
      ]
     },
     "execution_count": 49,
     "metadata": {},
     "output_type": "execute_result"
    }
   ],
   "source": [
    "a"
   ]
  },
  {
   "cell_type": "code",
   "execution_count": 50,
   "id": "d75393b2-68e8-4c83-8102-5baac466482e",
   "metadata": {},
   "outputs": [
    {
     "data": {
      "text/plain": [
       "2"
      ]
     },
     "execution_count": 50,
     "metadata": {},
     "output_type": "execute_result"
    }
   ],
   "source": [
    "a[1]"
   ]
  },
  {
   "cell_type": "markdown",
   "id": "6febf8d4-e025-41b8-afa0-6caf776ace00",
   "metadata": {},
   "source": [
    "1을 넣었는데 왜 2가 나왔을까?\n",
    "맨 앞에 1을 나타나게 하고 싶으면 a[0]이라고 넣어줘야함.\n",
    "즉 여기선 0부터가 처음 시작이다."
   ]
  },
  {
   "cell_type": "code",
   "execution_count": 51,
   "id": "eee0d018-8808-4829-a16f-a6da937cc265",
   "metadata": {},
   "outputs": [
    {
     "data": {
      "text/plain": [
       "1"
      ]
     },
     "execution_count": 51,
     "metadata": {},
     "output_type": "execute_result"
    }
   ],
   "source": [
    "a[0]"
   ]
  },
  {
   "cell_type": "markdown",
   "id": "2d52389a-41d7-4f77-8524-9bffba1fafb3",
   "metadata": {},
   "source": [
    "숫자를 넣어서 나타나게 하는것을 인덱스라고 한다.\n",
    "- 접근 : indexing"
   ]
  },
  {
   "cell_type": "code",
   "execution_count": 52,
   "id": "5d87cdc6-757d-49c1-ac77-6ac6642bf4d3",
   "metadata": {},
   "outputs": [
    {
     "data": {
      "text/plain": [
       "'Hello'"
      ]
     },
     "execution_count": 52,
     "metadata": {},
     "output_type": "execute_result"
    }
   ],
   "source": [
    "a[4]"
   ]
  },
  {
   "cell_type": "code",
   "execution_count": 53,
   "id": "3808a943-4dbb-4766-86fa-c7c6b55e7dc8",
   "metadata": {},
   "outputs": [
    {
     "data": {
      "text/plain": [
       "'H'"
      ]
     },
     "execution_count": 53,
     "metadata": {},
     "output_type": "execute_result"
    }
   ],
   "source": [
    "a[4][0]"
   ]
  },
  {
   "cell_type": "code",
   "execution_count": 55,
   "id": "a06e36ef-cf52-4c9f-868b-1c308dd2d8a1",
   "metadata": {},
   "outputs": [
    {
     "data": {
      "text/plain": [
       "'M'"
      ]
     },
     "execution_count": 55,
     "metadata": {},
     "output_type": "execute_result"
    }
   ],
   "source": [
    "a[5][5]"
   ]
  },
  {
   "cell_type": "code",
   "execution_count": 56,
   "id": "2e9868f4-8dad-4d84-a477-b9ba8d0806c6",
   "metadata": {},
   "outputs": [
    {
     "data": {
      "text/plain": [
       "7"
      ]
     },
     "execution_count": 56,
     "metadata": {},
     "output_type": "execute_result"
    }
   ],
   "source": [
    "a[6][2]"
   ]
  },
  {
   "cell_type": "code",
   "execution_count": 57,
   "id": "a771b8ff-24ac-4bfe-9ac8-2a8e642411f2",
   "metadata": {},
   "outputs": [
    {
     "data": {
      "text/plain": [
       "[5, 6, 7, 8]"
      ]
     },
     "execution_count": 57,
     "metadata": {},
     "output_type": "execute_result"
    }
   ],
   "source": [
    "a[-1]"
   ]
  },
  {
   "cell_type": "markdown",
   "id": "4ecc80a7-6bb7-440d-8020-78f9a9360487",
   "metadata": {},
   "source": [
    "-1은 뒤에서 첫번째 라는 뜻이다."
   ]
  },
  {
   "cell_type": "code",
   "execution_count": 58,
   "id": "9b4b0d1f-0864-46ff-aac7-748f40e211b5",
   "metadata": {},
   "outputs": [
    {
     "data": {
      "text/plain": [
       "8"
      ]
     },
     "execution_count": 58,
     "metadata": {},
     "output_type": "execute_result"
    }
   ],
   "source": [
    "a[-1][3]"
   ]
  },
  {
   "cell_type": "code",
   "execution_count": 59,
   "id": "75796989-24cf-496b-9fcd-e2fd84cd9b68",
   "metadata": {},
   "outputs": [
    {
     "data": {
      "text/plain": [
       "1"
      ]
     },
     "execution_count": 59,
     "metadata": {},
     "output_type": "execute_result"
    }
   ],
   "source": [
    "a[-0]"
   ]
  },
  {
   "cell_type": "markdown",
   "id": "c0b01d07-f0ee-41b2-b5d2-74509e1a7ad6",
   "metadata": {},
   "source": [
    "- 접근\n",
    "slicing <br>\n",
    "start : stop"
   ]
  },
  {
   "cell_type": "code",
   "execution_count": 60,
   "id": "464d9460-5cf0-4edf-9961-12504b3f83fc",
   "metadata": {},
   "outputs": [
    {
     "data": {
      "text/plain": [
       "[1, 2, 3, 4, 'Hello', 'Good Morning', [5, 6, 7, 8]]"
      ]
     },
     "execution_count": 60,
     "metadata": {},
     "output_type": "execute_result"
    }
   ],
   "source": [
    "a"
   ]
  },
  {
   "cell_type": "code",
   "execution_count": 65,
   "id": "394bcee8-352d-4487-8f61-575af1c536b9",
   "metadata": {},
   "outputs": [
    {
     "data": {
      "text/plain": [
       "[1, 2, 3, 4]"
      ]
     },
     "execution_count": 65,
     "metadata": {},
     "output_type": "execute_result"
    }
   ],
   "source": [
    "# a[start:stop]   stop에 포함되는 숫자는 그 전 숫자까지 출력된다.\n",
    "a[0 : 4]"
   ]
  },
  {
   "cell_type": "code",
   "execution_count": 67,
   "id": "4b2ba4c8-4f46-4ed7-bf02-4d3e9c1daf71",
   "metadata": {},
   "outputs": [
    {
     "data": {
      "text/plain": [
       "['Hello', 'Good Morning']"
      ]
     },
     "execution_count": 67,
     "metadata": {},
     "output_type": "execute_result"
    }
   ],
   "source": [
    "a[4:6]"
   ]
  },
  {
   "cell_type": "code",
   "execution_count": 68,
   "id": "a85ecb39-a7a0-4889-ac54-1dcaa317a5fc",
   "metadata": {},
   "outputs": [
    {
     "data": {
      "text/plain": [
       "['Hello', 'Good Morning', [5, 6, 7, 8]]"
      ]
     },
     "execution_count": 68,
     "metadata": {},
     "output_type": "execute_result"
    }
   ],
   "source": [
    "a[4:]"
   ]
  },
  {
   "cell_type": "markdown",
   "id": "2b50453d-87b0-4e8c-b413-e7a01435f7f5",
   "metadata": {},
   "source": [
    "끝나는 지점을 정해주지 않았기 때문에 쭉 달린다."
   ]
  },
  {
   "cell_type": "code",
   "execution_count": 69,
   "id": "ddba3374-afdd-43b5-9e4c-5ed7cec67b32",
   "metadata": {},
   "outputs": [
    {
     "data": {
      "text/plain": [
       "[1, 2, 3, 4]"
      ]
     },
     "execution_count": 69,
     "metadata": {},
     "output_type": "execute_result"
    }
   ],
   "source": [
    "a[:4]"
   ]
  },
  {
   "cell_type": "code",
   "execution_count": 70,
   "id": "9d245863-2788-4ff2-8554-66967693c740",
   "metadata": {},
   "outputs": [
    {
     "data": {
      "text/plain": [
       "[1, 2, 3, 4, 'Hello', 'Good Morning', [5, 6, 7, 8]]"
      ]
     },
     "execution_count": 70,
     "metadata": {},
     "output_type": "execute_result"
    }
   ],
   "source": [
    "a[:]"
   ]
  },
  {
   "cell_type": "markdown",
   "id": "d413419b-ece1-4d5a-b562-bfd055eebb1a",
   "metadata": {},
   "source": [
    "앞으로도 쭉 달리고 뒤로도 쭉 달린다.\n",
    "\n",
    "즉, 전부 다 표현하는 것이다."
   ]
  },
  {
   "cell_type": "code",
   "execution_count": 71,
   "id": "4d88919c-61e1-414d-a672-8740ed35e5f1",
   "metadata": {},
   "outputs": [
    {
     "data": {
      "text/plain": [
       "['Hello', 'Good Morning', [5, 6, 7, 8]]"
      ]
     },
     "execution_count": 71,
     "metadata": {},
     "output_type": "execute_result"
    }
   ],
   "source": [
    "a[-3:]"
   ]
  },
  {
   "cell_type": "code",
   "execution_count": 72,
   "id": "96638c2d-42e2-478f-9647-7e913196ea0a",
   "metadata": {},
   "outputs": [
    {
     "data": {
      "text/plain": [
       "'ll'"
      ]
     },
     "execution_count": 72,
     "metadata": {},
     "output_type": "execute_result"
    }
   ],
   "source": [
    "a[4][2:4]"
   ]
  },
  {
   "cell_type": "code",
   "execution_count": 75,
   "id": "a9c7c124-322c-4c37-83df-116cfba6dd0f",
   "metadata": {},
   "outputs": [],
   "source": [
    "#Morning 출력하기"
   ]
  },
  {
   "cell_type": "code",
   "execution_count": 77,
   "id": "1c0edc50-bde7-4cc5-be48-efa1514db70f",
   "metadata": {},
   "outputs": [
    {
     "data": {
      "text/plain": [
       "'Morning'"
      ]
     },
     "execution_count": 77,
     "metadata": {},
     "output_type": "execute_result"
    }
   ],
   "source": [
    "a[5][5:]"
   ]
  },
  {
   "cell_type": "markdown",
   "id": "a63fd1c4-cf24-4ee4-bcdc-7d58eee9796d",
   "metadata": {},
   "source": [
    "- 수정 (인덱스 바꾸기)"
   ]
  },
  {
   "cell_type": "code",
   "execution_count": 78,
   "id": "e37ace5b-1afc-4bac-b97e-44e3566c132a",
   "metadata": {},
   "outputs": [
    {
     "data": {
      "text/plain": [
       "[1, 2, 3, 4, 'Hello', 'Good Morning', [5, 6, 7, 8]]"
      ]
     },
     "execution_count": 78,
     "metadata": {},
     "output_type": "execute_result"
    }
   ],
   "source": [
    "a"
   ]
  },
  {
   "cell_type": "code",
   "execution_count": 82,
   "id": "34b571fc-4848-4d08-883d-5c46bae31bed",
   "metadata": {},
   "outputs": [],
   "source": [
    "# 2를 22로 바꾸기\n",
    "a[1] = 22"
   ]
  },
  {
   "cell_type": "code",
   "execution_count": 83,
   "id": "0d455e0c-86d0-4bc8-8151-53266d1190d7",
   "metadata": {},
   "outputs": [
    {
     "data": {
      "text/plain": [
       "[1, 22, 3, 4, 'Hello', 'Good Morning', [5, 6, 7, 8]]"
      ]
     },
     "execution_count": 83,
     "metadata": {},
     "output_type": "execute_result"
    }
   ],
   "source": [
    "a"
   ]
  },
  {
   "cell_type": "markdown",
   "id": "d04e7c0e-cc5e-49fa-98f3-9aa517b81888",
   "metadata": {},
   "source": [
    "- 추가"
   ]
  },
  {
   "cell_type": "code",
   "execution_count": 84,
   "id": "26025c6d-654a-4c3b-a475-2846a47ce848",
   "metadata": {},
   "outputs": [
    {
     "data": {
      "text/plain": [
       "[1, 22, 3, 4, 'Hello', 'Good Morning', [5, 6, 7, 8]]"
      ]
     },
     "execution_count": 84,
     "metadata": {},
     "output_type": "execute_result"
    }
   ],
   "source": [
    "a"
   ]
  },
  {
   "cell_type": "code",
   "execution_count": null,
   "id": "beafe542-ffb1-44d1-a8a6-6c62c8fe1675",
   "metadata": {},
   "outputs": [],
   "source": [
    "# a에 9를 추가하기.\n",
    "a.append(9)\n",
    "a"
   ]
  },
  {
   "cell_type": "code",
   "execution_count": 87,
   "id": "4d8b5f58-e8f2-40bd-853f-6165e715c8d0",
   "metadata": {},
   "outputs": [
    {
     "data": {
      "text/plain": [
       "[1, 2, 3]"
      ]
     },
     "execution_count": 87,
     "metadata": {},
     "output_type": "execute_result"
    }
   ],
   "source": [
    "b = []\n",
    "for i in [1, 2, 3]:\n",
    "    b.append(i)\n",
    "b"
   ]
  },
  {
   "cell_type": "code",
   "execution_count": 88,
   "id": "692623f5-44ff-4d65-ac95-ab9534ddd56c",
   "metadata": {},
   "outputs": [],
   "source": [
    "a.insert(2, 33)"
   ]
  },
  {
   "cell_type": "code",
   "execution_count": 89,
   "id": "b071e50a-7599-4916-b250-00a94463f1eb",
   "metadata": {},
   "outputs": [
    {
     "data": {
      "text/plain": [
       "[1, 22, 33, 3, 4, 'Hello', 'Good Morning', [5, 6, 7, 8], 9]"
      ]
     },
     "execution_count": 89,
     "metadata": {},
     "output_type": "execute_result"
    }
   ],
   "source": [
    "a"
   ]
  },
  {
   "cell_type": "markdown",
   "id": "427e6e53-e23f-48b2-bfbd-8c6791e26a43",
   "metadata": {},
   "source": [
    "insert()는 들어갈 위치를 정해주고 넣을 숫자를 넣어준다."
   ]
  },
  {
   "cell_type": "markdown",
   "id": "14a9f637-e1c1-43ad-b83b-831660bf2875",
   "metadata": {},
   "source": [
    "- 삭제"
   ]
  },
  {
   "cell_type": "code",
   "execution_count": 95,
   "id": "e46560ae-f22d-4b86-8514-44837404757a",
   "metadata": {},
   "outputs": [],
   "source": [
    "a.remove(33)"
   ]
  },
  {
   "cell_type": "code",
   "execution_count": 96,
   "id": "ab8a777e-233f-44c6-9c24-b3d0d67ca9ac",
   "metadata": {},
   "outputs": [
    {
     "data": {
      "text/plain": [
       "[1, 22, 4, 'Hello', 'Good Morning', [5, 6, 7, 8], 9]"
      ]
     },
     "execution_count": 96,
     "metadata": {},
     "output_type": "execute_result"
    }
   ],
   "source": [
    "a"
   ]
  },
  {
   "cell_type": "code",
   "execution_count": 101,
   "id": "2ec660dc-15d1-4720-a726-c04c8fb62e7d",
   "metadata": {},
   "outputs": [
    {
     "data": {
      "text/plain": [
       "4"
      ]
     },
     "execution_count": 101,
     "metadata": {},
     "output_type": "execute_result"
    }
   ],
   "source": [
    "a.pop(2)"
   ]
  },
  {
   "cell_type": "markdown",
   "id": "71a641b1-e917-451e-937a-6e390340bc48",
   "metadata": {},
   "source": [
    "- 정렬 : sorted()"
   ]
  },
  {
   "cell_type": "markdown",
   "id": "b58acfb2-9048-4981-8b43-8df146d74051",
   "metadata": {},
   "source": [
    "sorted()는 파이썬 내장함수 이고 sort()는 매소드이다.(객체뒤에 .해서 따라 나오는 함수이다.)\n",
    "\n",
    "헷갈릴 수 있음"
   ]
  },
  {
   "cell_type": "code",
   "execution_count": 102,
   "id": "84e3e44e-bb29-4dbe-bb37-d6e6ed5eae5d",
   "metadata": {},
   "outputs": [],
   "source": [
    "a = [1, 3, 4, 2]"
   ]
  },
  {
   "cell_type": "code",
   "execution_count": 103,
   "id": "c632b12b-b995-477e-867c-4fb0f29ac712",
   "metadata": {},
   "outputs": [
    {
     "ename": "NameError",
     "evalue": "name 'sort' is not defined",
     "output_type": "error",
     "traceback": [
      "\u001b[1;31m---------------------------------------------------------------------------\u001b[0m",
      "\u001b[1;31mNameError\u001b[0m                                 Traceback (most recent call last)",
      "Input \u001b[1;32mIn [103]\u001b[0m, in \u001b[0;36m<cell line: 1>\u001b[1;34m()\u001b[0m\n\u001b[1;32m----> 1\u001b[0m \u001b[43msort\u001b[49m([\u001b[38;5;241m1\u001b[39m,\u001b[38;5;241m3\u001b[39m,\u001b[38;5;241m4\u001b[39m,\u001b[38;5;241m2\u001b[39m])\n",
      "\u001b[1;31mNameError\u001b[0m: name 'sort' is not defined"
     ]
    }
   ],
   "source": [
    "sort([1,3,4,2])"
   ]
  },
  {
   "cell_type": "markdown",
   "id": "a0f68305-a6a8-47c1-a7be-3eb0448e9481",
   "metadata": {},
   "source": [
    "왜 작동이 안되냐? sort라는 함수가 없기 때문이다."
   ]
  },
  {
   "cell_type": "code",
   "execution_count": 104,
   "id": "a33e97e2-8705-4bb2-846e-f28a0394afd8",
   "metadata": {},
   "outputs": [
    {
     "data": {
      "text/plain": [
       "[1, 2, 3, 4]"
      ]
     },
     "execution_count": 104,
     "metadata": {},
     "output_type": "execute_result"
    }
   ],
   "source": [
    "sorted([1, 3, 4, 2])"
   ]
  },
  {
   "cell_type": "markdown",
   "id": "a93b5e00-a4c4-4da5-a489-ac49110a09d4",
   "metadata": {},
   "source": [
    "이것은 기본함수이기 때문에 작동 된다. = 내장함수"
   ]
  },
  {
   "cell_type": "code",
   "execution_count": 106,
   "id": "5d82c283-64af-4a03-a3f5-47a1fd643798",
   "metadata": {},
   "outputs": [
    {
     "ename": "AttributeError",
     "evalue": "'list' object has no attribute 'sorted'",
     "output_type": "error",
     "traceback": [
      "\u001b[1;31m---------------------------------------------------------------------------\u001b[0m",
      "\u001b[1;31mAttributeError\u001b[0m                            Traceback (most recent call last)",
      "Input \u001b[1;32mIn [106]\u001b[0m, in \u001b[0;36m<cell line: 2>\u001b[1;34m()\u001b[0m\n\u001b[0;32m      1\u001b[0m a \u001b[38;5;241m=\u001b[39m [\u001b[38;5;241m1\u001b[39m, \u001b[38;5;241m3\u001b[39m, \u001b[38;5;241m4\u001b[39m, \u001b[38;5;241m2\u001b[39m]\n\u001b[1;32m----> 2\u001b[0m \u001b[43ma\u001b[49m\u001b[38;5;241;43m.\u001b[39;49m\u001b[43m \u001b[49m\u001b[38;5;28;43msorted\u001b[39;49m()\n",
      "\u001b[1;31mAttributeError\u001b[0m: 'list' object has no attribute 'sorted'"
     ]
    }
   ],
   "source": [
    "a = [1, 3, 4, 2]\n",
    "a. sorted()"
   ]
  },
  {
   "cell_type": "code",
   "execution_count": 108,
   "id": "9b8237b8-4f79-461d-b4eb-62b4cac5670c",
   "metadata": {},
   "outputs": [
    {
     "data": {
      "text/plain": [
       "[1, 2, 3, 4]"
      ]
     },
     "execution_count": 108,
     "metadata": {},
     "output_type": "execute_result"
    }
   ],
   "source": [
    "a.sort()\n",
    "a"
   ]
  },
  {
   "cell_type": "code",
   "execution_count": 111,
   "id": "fa4208b0-e82b-4985-a505-08e35ba1e592",
   "metadata": {},
   "outputs": [
    {
     "data": {
      "text/plain": [
       "[4, 3, 2, 1]"
      ]
     },
     "execution_count": 111,
     "metadata": {},
     "output_type": "execute_result"
    }
   ],
   "source": [
    "a.reverse()\n",
    "a"
   ]
  },
  {
   "cell_type": "markdown",
   "id": "d89cec8b-d514-4ff3-8b2e-17d9c0c193e9",
   "metadata": {},
   "source": [
    "### tuple(튜플)\n",
    "- 튜플은 앞에서 했던 리스트하고 99% 같습니다.\n",
    "- 다른 1% 차이점은 튜플은 수정할 수 없습니다. (한번 만들면 땡!)\n",
    "- 왜 이렇게 했는가? 실수로라도 수정되면 안되는 데이터가 있기 때문이다.(예. 주민등록번호)"
   ]
  },
  {
   "cell_type": "markdown",
   "id": "8e23b588-6cb4-4791-a395-480e7c131db7",
   "metadata": {},
   "source": [
    "- 만들기 : 소괄호로 만든다. ()"
   ]
  },
  {
   "cell_type": "code",
   "execution_count": 114,
   "id": "b87f292f-22f5-4902-b55f-bfd8ed37fc4c",
   "metadata": {},
   "outputs": [
    {
     "data": {
      "text/plain": [
       "(1, 2, 3, 4)"
      ]
     },
     "execution_count": 114,
     "metadata": {},
     "output_type": "execute_result"
    }
   ],
   "source": [
    "a = (1, 2, 3, 4)\n",
    "a"
   ]
  },
  {
   "cell_type": "code",
   "execution_count": 115,
   "id": "5fde9847-29cc-4101-b04d-44978d6fd5f3",
   "metadata": {},
   "outputs": [
    {
     "data": {
      "text/plain": [
       "tuple"
      ]
     },
     "execution_count": 115,
     "metadata": {},
     "output_type": "execute_result"
    }
   ],
   "source": [
    "type(a)"
   ]
  },
  {
   "cell_type": "markdown",
   "id": "c6b34bbd-c4df-42b0-99ae-7e085dfa7175",
   "metadata": {},
   "source": [
    "tuple의 특징은 소괄호 굳이 안쓰고 막 써도 지가 알아서 소괄호 쳐준 상태로 나타내준다.\n",
    "\n",
    "튜플로 묶는것을 패킹, 푸는것을 언패킹이라고 한다."
   ]
  },
  {
   "cell_type": "code",
   "execution_count": 117,
   "id": "2438a6ae-ade3-4721-b801-7ffe95a0bf58",
   "metadata": {},
   "outputs": [
    {
     "data": {
      "text/plain": [
       "(5, 6, 7, 8)"
      ]
     },
     "execution_count": 117,
     "metadata": {},
     "output_type": "execute_result"
    }
   ],
   "source": [
    "a = 5, 6, 7, 8\n",
    "a"
   ]
  },
  {
   "cell_type": "code",
   "execution_count": 119,
   "id": "612c4fd4-183a-4ffa-a6c1-d428ad115ac1",
   "metadata": {},
   "outputs": [
    {
     "data": {
      "text/plain": [
       "5"
      ]
     },
     "execution_count": 119,
     "metadata": {},
     "output_type": "execute_result"
    }
   ],
   "source": [
    "# 5를 55로 바꾸기\n",
    "a[0]"
   ]
  },
  {
   "cell_type": "code",
   "execution_count": 120,
   "id": "c773f92b-07c2-4956-a7e7-445ae41ebd34",
   "metadata": {},
   "outputs": [
    {
     "ename": "TypeError",
     "evalue": "'tuple' object does not support item assignment",
     "output_type": "error",
     "traceback": [
      "\u001b[1;31m---------------------------------------------------------------------------\u001b[0m",
      "\u001b[1;31mTypeError\u001b[0m                                 Traceback (most recent call last)",
      "Input \u001b[1;32mIn [120]\u001b[0m, in \u001b[0;36m<cell line: 1>\u001b[1;34m()\u001b[0m\n\u001b[1;32m----> 1\u001b[0m \u001b[43ma\u001b[49m\u001b[43m[\u001b[49m\u001b[38;5;241;43m0\u001b[39;49m\u001b[43m]\u001b[49m \u001b[38;5;241m=\u001b[39m \u001b[38;5;241m55\u001b[39m\n",
      "\u001b[1;31mTypeError\u001b[0m: 'tuple' object does not support item assignment"
     ]
    }
   ],
   "source": [
    "a[0] = 55"
   ]
  },
  {
   "cell_type": "markdown",
   "id": "eb676e5b-6ff2-4422-b1ff-c8505a300848",
   "metadata": {},
   "source": [
    "에러 : 튜플은 수정할 수 없습니다!"
   ]
  },
  {
   "cell_type": "code",
   "execution_count": 122,
   "id": "5820803e-6b46-47d7-afb3-48ed670dbb58",
   "metadata": {},
   "outputs": [
    {
     "data": {
      "text/plain": [
       "(10, 12)"
      ]
     },
     "execution_count": 122,
     "metadata": {},
     "output_type": "execute_result"
    }
   ],
   "source": [
    "num = (10, 12)\n",
    "num"
   ]
  },
  {
   "cell_type": "code",
   "execution_count": 125,
   "id": "a6370934-1c3b-40e4-9d9f-4b1073176fca",
   "metadata": {},
   "outputs": [
    {
     "name": "stdout",
     "output_type": "stream",
     "text": [
      "10\n",
      "12\n"
     ]
    }
   ],
   "source": [
    "a, b = num\n",
    "print(a)\n",
    "print(b)"
   ]
  },
  {
   "cell_type": "markdown",
   "id": "4966f885-c8b0-4665-9f00-39318dbdf760",
   "metadata": {},
   "source": [
    "묶여 있는것을 따로 출력함 = 언패킹"
   ]
  },
  {
   "cell_type": "code",
   "execution_count": 124,
   "id": "f70e93ab-68bc-4b71-9588-bd98b7488ae1",
   "metadata": {},
   "outputs": [
    {
     "name": "stdout",
     "output_type": "stream",
     "text": [
      "10\n",
      "12\n"
     ]
    }
   ],
   "source": [
    "a, b = num\n",
    "(a, b) = (10, 12)\n",
    "print(a)\n",
    "print(b)"
   ]
  },
  {
   "cell_type": "markdown",
   "id": "54540057-3758-47d6-9c7e-e9945d1cbcfc",
   "metadata": {},
   "source": [
    "### 딕셔너리(dictionary)\n",
    "- 만들기 : { : } 1 대 1 대응 느낌\n",
    "- 만들기 : {key : value}"
   ]
  },
  {
   "cell_type": "code",
   "execution_count": 132,
   "id": "d9d015fe-be6d-4224-817d-620c5d408917",
   "metadata": {},
   "outputs": [],
   "source": [
    "a = {\"apple\" : \"사과\", \"banana\" : \"바나나\", \"cherry\" : \"체리\"}"
   ]
  },
  {
   "cell_type": "code",
   "execution_count": 133,
   "id": "f6679563-78cb-4c2e-8f1f-cf60737a1af7",
   "metadata": {},
   "outputs": [
    {
     "data": {
      "text/plain": [
       "dict"
      ]
     },
     "execution_count": 133,
     "metadata": {},
     "output_type": "execute_result"
    }
   ],
   "source": [
    "type(a)"
   ]
  },
  {
   "cell_type": "code",
   "execution_count": 135,
   "id": "fb91167e-1cf6-4af0-9884-ac6338b788dc",
   "metadata": {},
   "outputs": [
    {
     "data": {
      "text/plain": [
       "{'apple': '사과', 'banana': '바나나', 'cherry': '체리'}"
      ]
     },
     "execution_count": 135,
     "metadata": {},
     "output_type": "execute_result"
    }
   ],
   "source": [
    "a"
   ]
  },
  {
   "cell_type": "markdown",
   "id": "7d99e2ad-d1a3-4dc5-8b09-c3506553eaff",
   "metadata": {},
   "source": [
    "- 접근, 검색\n",
    "\n",
    "인덱스가 없다"
   ]
  },
  {
   "cell_type": "code",
   "execution_count": 137,
   "id": "25880d51-976d-41ac-b7aa-ec3c3459a00c",
   "metadata": {},
   "outputs": [
    {
     "data": {
      "text/plain": [
       "'사과'"
      ]
     },
     "execution_count": 137,
     "metadata": {},
     "output_type": "execute_result"
    }
   ],
   "source": [
    "a['apple']"
   ]
  },
  {
   "cell_type": "code",
   "execution_count": 138,
   "id": "afedc4b3-e7a0-4f25-9a20-0c4a7a579c31",
   "metadata": {},
   "outputs": [
    {
     "ename": "KeyError",
     "evalue": "0",
     "output_type": "error",
     "traceback": [
      "\u001b[1;31m---------------------------------------------------------------------------\u001b[0m",
      "\u001b[1;31mKeyError\u001b[0m                                  Traceback (most recent call last)",
      "Input \u001b[1;32mIn [138]\u001b[0m, in \u001b[0;36m<cell line: 1>\u001b[1;34m()\u001b[0m\n\u001b[1;32m----> 1\u001b[0m \u001b[43ma\u001b[49m\u001b[43m[\u001b[49m\u001b[38;5;241;43m0\u001b[39;49m\u001b[43m]\u001b[49m\n",
      "\u001b[1;31mKeyError\u001b[0m: 0"
     ]
    }
   ],
   "source": [
    "a[0]"
   ]
  },
  {
   "cell_type": "markdown",
   "id": "dde90591-ca79-4546-9886-c89226dc68a8",
   "metadata": {},
   "source": [
    "딕셔너리는 순서 없이 단어 - 뜻 이렇게만 이루어져 있어서 오류가 뜬다."
   ]
  },
  {
   "cell_type": "code",
   "execution_count": 139,
   "id": "c62e3f9a-1ece-47b9-8d22-a9ea6271d8b3",
   "metadata": {},
   "outputs": [
    {
     "ename": "KeyError",
     "evalue": "'사과'",
     "output_type": "error",
     "traceback": [
      "\u001b[1;31m---------------------------------------------------------------------------\u001b[0m",
      "\u001b[1;31mKeyError\u001b[0m                                  Traceback (most recent call last)",
      "Input \u001b[1;32mIn [139]\u001b[0m, in \u001b[0;36m<cell line: 1>\u001b[1;34m()\u001b[0m\n\u001b[1;32m----> 1\u001b[0m \u001b[43ma\u001b[49m\u001b[43m[\u001b[49m\u001b[38;5;124;43m'\u001b[39;49m\u001b[38;5;124;43m사과\u001b[39;49m\u001b[38;5;124;43m'\u001b[39;49m\u001b[43m]\u001b[49m\n",
      "\u001b[1;31mKeyError\u001b[0m: '사과'"
     ]
    }
   ],
   "source": [
    "a['사과']"
   ]
  },
  {
   "cell_type": "markdown",
   "id": "4811eb0b-dc02-4a66-a94f-3272db7101d0",
   "metadata": {},
   "source": [
    "한글은 X"
   ]
  },
  {
   "cell_type": "code",
   "execution_count": 140,
   "id": "21849ed3-09e8-4763-b388-b2f42f998bbb",
   "metadata": {},
   "outputs": [
    {
     "data": {
      "text/plain": [
       "dict_keys(['apple', 'banana', 'cherry'])"
      ]
     },
     "execution_count": 140,
     "metadata": {},
     "output_type": "execute_result"
    }
   ],
   "source": [
    "a.keys()"
   ]
  },
  {
   "cell_type": "code",
   "execution_count": 141,
   "id": "127d6cfe-ab04-422b-ab71-77fde3f1891a",
   "metadata": {},
   "outputs": [
    {
     "data": {
      "text/plain": [
       "dict_values(['사과', '바나나', '체리'])"
      ]
     },
     "execution_count": 141,
     "metadata": {},
     "output_type": "execute_result"
    }
   ],
   "source": [
    "a.values()"
   ]
  },
  {
   "cell_type": "code",
   "execution_count": 144,
   "id": "eafb0ba8-afca-44d8-bec3-bf20afabe71a",
   "metadata": {},
   "outputs": [
    {
     "data": {
      "text/plain": [
       "dict_items([('apple', '사과'), ('banana', '바나나'), ('cherry', '체리')])"
      ]
     },
     "execution_count": 144,
     "metadata": {},
     "output_type": "execute_result"
    }
   ],
   "source": [
    "a.items() # 둘다 보고 싶을때"
   ]
  },
  {
   "cell_type": "code",
   "execution_count": 146,
   "id": "48d05028-16cd-44d6-a60f-91c0f7734845",
   "metadata": {},
   "outputs": [
    {
     "name": "stdout",
     "output_type": "stream",
     "text": [
      "('apple', '사과')\n",
      "('banana', '바나나')\n",
      "('cherry', '체리')\n"
     ]
    }
   ],
   "source": [
    "for i in a.items() : \n",
    "    print(i)"
   ]
  },
  {
   "cell_type": "code",
   "execution_count": 147,
   "id": "9b51135b-de9b-4ef8-b1d3-55c97190f4a4",
   "metadata": {},
   "outputs": [
    {
     "name": "stdout",
     "output_type": "stream",
     "text": [
      "apple 사과\n",
      "banana 바나나\n",
      "cherry 체리\n"
     ]
    }
   ],
   "source": [
    "for i, j in a.items() : \n",
    "    print(i, j)"
   ]
  },
  {
   "cell_type": "markdown",
   "id": "73deb944-20fa-4d4e-bd89-d8fda9a4e34c",
   "metadata": {},
   "source": [
    "for i in a.items()는 i가 받았기 때문에 하나하나씩 나온거고\n",
    "\n",
    "for i, j in a items()는 i,j가 받았기 때문에 2개씩 나왔다.\n",
    "\n",
    "(사실 안에 괄호가 있는거임)"
   ]
  },
  {
   "cell_type": "markdown",
   "id": "0ecacb9d-6588-4be6-b4b2-7c66c3a3aee1",
   "metadata": {},
   "source": [
    "a = {\"apple\" : \"사과\", \"banana\" : \"바나나\", \"cherry\" : \"체리\"}"
   ]
  },
  {
   "cell_type": "code",
   "execution_count": 151,
   "id": "dc0e00e9-be9a-4813-8bd3-e24cf30bc027",
   "metadata": {},
   "outputs": [
    {
     "ename": "SyntaxError",
     "evalue": "':' expected after dictionary key (965071182.py, line 1)",
     "output_type": "error",
     "traceback": [
      "\u001b[1;36m  Input \u001b[1;32mIn [151]\u001b[1;36m\u001b[0m\n\u001b[1;33m    a = {\"apple\" : \"사과\", \"능금\", \"백설공주\", \"banana\" : \"바나나\", \"cherry\" : \"체리\"}\u001b[0m\n\u001b[1;37m                            ^\u001b[0m\n\u001b[1;31mSyntaxError\u001b[0m\u001b[1;31m:\u001b[0m ':' expected after dictionary key\n"
     ]
    }
   ],
   "source": [
    "a = {\"apple\" : \"사과\", \"능금\", \"백설공주\", \"banana\" : \"바나나\", \"cherry\" : \"체리\"}"
   ]
  },
  {
   "cell_type": "code",
   "execution_count": 153,
   "id": "c554efda-4dee-45c1-863c-360b9fe5bae0",
   "metadata": {},
   "outputs": [
    {
     "data": {
      "text/plain": [
       "{'apple': ['사과', '능금', '백설공주'], 'banana': '바나나', 'cherry': '체리'}"
      ]
     },
     "execution_count": 153,
     "metadata": {},
     "output_type": "execute_result"
    }
   ],
   "source": [
    "a = {\"apple\" : [\"사과\", \"능금\", \"백설공주\"], \"banana\" : \"바나나\", \"cherry\" : \"체리\"}\n",
    "a"
   ]
  },
  {
   "cell_type": "markdown",
   "id": "56278c68-6683-4576-9821-c9ce9424e772",
   "metadata": {},
   "source": [
    "묶는게 3개 이상이면 []로 묶어줘야한다."
   ]
  },
  {
   "cell_type": "code",
   "execution_count": 156,
   "id": "f7232be0-f708-42e2-b384-1a7f3a6d0117",
   "metadata": {},
   "outputs": [
    {
     "data": {
      "text/plain": [
       "{'apple': ['사과', '능금', '백설공주'], 'banana': '빠나나', 'cherry': '체리'}"
      ]
     },
     "execution_count": 156,
     "metadata": {},
     "output_type": "execute_result"
    }
   ],
   "source": [
    "a['banana'] = '빠나나'  # 수정\n",
    "a"
   ]
  },
  {
   "cell_type": "markdown",
   "id": "4126f79c-f871-4204-9e8e-2bbe75d05918",
   "metadata": {},
   "source": [
    "- 추가"
   ]
  },
  {
   "cell_type": "code",
   "execution_count": 161,
   "id": "68e3e596-afa7-4bd9-9fdd-c7bf5825f9cd",
   "metadata": {},
   "outputs": [
    {
     "data": {
      "text/plain": [
       "{'apple': ['사과', '능금', '백설공주'],\n",
       " 'banana': '빠나나',\n",
       " 'cherry': '체리',\n",
       " 'durian': '두리안'}"
      ]
     },
     "execution_count": 161,
     "metadata": {},
     "output_type": "execute_result"
    }
   ],
   "source": [
    "a['durian'] = '두리안'\n",
    "a"
   ]
  },
  {
   "cell_type": "markdown",
   "id": "59292532-3fb9-4a44-92d0-27150ba59b3c",
   "metadata": {},
   "source": [
    "수정과 추가는 거의 비슷하다."
   ]
  },
  {
   "cell_type": "code",
   "execution_count": 171,
   "id": "383e4dfc-7f55-4c16-8346-80aa0c086701",
   "metadata": {},
   "outputs": [
    {
     "name": "stdin",
     "output_type": "stream",
     "text": [
      "이름을 입력하세요 :  철수\n"
     ]
    },
    {
     "name": "stdout",
     "output_type": "stream",
     "text": [
      "합격 입니다\n"
     ]
    }
   ],
   "source": [
    "명단 = {\"철수\" : \"합격\", \"영희\" : \"합격\"}\n",
    "name = input(\"이름을 입력하세요 : \")\n",
    "print(f\"{명단[name]} 입니다\")"
   ]
  },
  {
   "cell_type": "markdown",
   "id": "60969a3d-1dd3-4cd0-9891-d251cf45a4c7",
   "metadata": {},
   "source": [
    "```\n",
    "int()\n",
    "float()\n",
    "str()\n",
    "bool()\n",
    "\n",
    "list() -> []\n",
    "tuple() -> ()\n",
    "dict()  -> { : }\n",
    "set() -> {}\n",
    "```"
   ]
  },
  {
   "cell_type": "code",
   "execution_count": 175,
   "id": "e066b499-63df-4aeb-b347-116b250052a5",
   "metadata": {},
   "outputs": [
    {
     "data": {
      "text/plain": [
       "[1, 2, 3]"
      ]
     },
     "execution_count": 175,
     "metadata": {},
     "output_type": "execute_result"
    }
   ],
   "source": [
    "a = [1, 2, 3]\n",
    "a"
   ]
  },
  {
   "cell_type": "code",
   "execution_count": 173,
   "id": "5bf37293-f6a2-4b18-bd1d-45a197d2ec22",
   "metadata": {},
   "outputs": [
    {
     "data": {
      "text/plain": [
       "2270517799424"
      ]
     },
     "execution_count": 173,
     "metadata": {},
     "output_type": "execute_result"
    }
   ],
   "source": [
    "id(a)"
   ]
  },
  {
   "cell_type": "markdown",
   "id": "7bf11eba-c1d6-49ce-bec1-f055b15edfce",
   "metadata": {},
   "source": [
    "예를 들면 a의 방 번호를 띄운것임"
   ]
  },
  {
   "cell_type": "code",
   "execution_count": 176,
   "id": "1339d070-9d8b-4c37-bf4b-75a4b4007419",
   "metadata": {},
   "outputs": [
    {
     "data": {
      "text/plain": [
       "[1, 2, 3]"
      ]
     },
     "execution_count": 176,
     "metadata": {},
     "output_type": "execute_result"
    }
   ],
   "source": [
    "b = a\n",
    "b"
   ]
  },
  {
   "cell_type": "code",
   "execution_count": 178,
   "id": "0c20c260-2a44-4d2d-8bec-733787d19dd3",
   "metadata": {},
   "outputs": [
    {
     "data": {
      "text/plain": [
       "[1, 2, 3]"
      ]
     },
     "execution_count": 178,
     "metadata": {},
     "output_type": "execute_result"
    }
   ],
   "source": [
    "c = a.copy()\n",
    "c"
   ]
  },
  {
   "cell_type": "code",
   "execution_count": 180,
   "id": "515bf7ad-0d44-46e2-811d-92c0cffaa882",
   "metadata": {},
   "outputs": [
    {
     "data": {
      "text/plain": [
       "[1, 2, 30]"
      ]
     },
     "execution_count": 180,
     "metadata": {},
     "output_type": "execute_result"
    }
   ],
   "source": [
    "c[2] = 30 #2번째 자리를 30으로 바꿈\n",
    "c"
   ]
  },
  {
   "cell_type": "code",
   "execution_count": 181,
   "id": "b0137c68-dd3e-4f26-9886-b2b84f418486",
   "metadata": {},
   "outputs": [
    {
     "data": {
      "text/plain": [
       "[1, 2, 3]"
      ]
     },
     "execution_count": 181,
     "metadata": {},
     "output_type": "execute_result"
    }
   ],
   "source": [
    "b"
   ]
  },
  {
   "cell_type": "code",
   "execution_count": 182,
   "id": "91b6c454-6f36-4814-93e9-ad6fcdafa2cb",
   "metadata": {},
   "outputs": [
    {
     "data": {
      "text/plain": [
       "[1, 2, 300]"
      ]
     },
     "execution_count": 182,
     "metadata": {},
     "output_type": "execute_result"
    }
   ],
   "source": [
    "b[2] = 300\n",
    "b"
   ]
  },
  {
   "cell_type": "code",
   "execution_count": 183,
   "id": "7ca68bab-51ff-4fe3-a747-b5254dde636a",
   "metadata": {},
   "outputs": [
    {
     "data": {
      "text/plain": [
       "[1, 2, 300]"
      ]
     },
     "execution_count": 183,
     "metadata": {},
     "output_type": "execute_result"
    }
   ],
   "source": [
    "a"
   ]
  },
  {
   "cell_type": "markdown",
   "id": "ba33e891-5593-41f3-acfb-a3075c29c4fa",
   "metadata": {},
   "source": [
    "a를 바꾸지 않았는데 a를 출력하면 바뀐걸로 나온다.\n",
    "그림으로 설명해주심."
   ]
  },
  {
   "cell_type": "code",
   "execution_count": 184,
   "id": "e99b93ec-85cf-474b-9b93-4166799546cf",
   "metadata": {},
   "outputs": [
    {
     "data": {
      "text/plain": [
       "2270517224064"
      ]
     },
     "execution_count": 184,
     "metadata": {},
     "output_type": "execute_result"
    }
   ],
   "source": [
    "id(a)"
   ]
  },
  {
   "cell_type": "code",
   "execution_count": 185,
   "id": "e276f568-7ca4-4cb8-ad62-f3cfb7903b06",
   "metadata": {},
   "outputs": [
    {
     "data": {
      "text/plain": [
       "2270338594944"
      ]
     },
     "execution_count": 185,
     "metadata": {},
     "output_type": "execute_result"
    }
   ],
   "source": [
    "id(c)"
   ]
  },
  {
   "cell_type": "code",
   "execution_count": 186,
   "id": "2474f1bd-4020-443b-9396-c0f14ed55899",
   "metadata": {},
   "outputs": [
    {
     "data": {
      "text/plain": [
       "2270517224064"
      ]
     },
     "execution_count": 186,
     "metadata": {},
     "output_type": "execute_result"
    }
   ],
   "source": [
    "id(b)"
   ]
  },
  {
   "cell_type": "markdown",
   "id": "d8165cdb-d86d-4336-95a9-d29982019962",
   "metadata": {},
   "source": [
    "a와 b가 같은 번호로 나온 이유\n",
    "그림으로 설명하심"
   ]
  },
  {
   "cell_type": "code",
   "execution_count": 187,
   "id": "e865e691-c4ae-42c1-be0a-39eeb4cea92a",
   "metadata": {},
   "outputs": [],
   "source": [
    "a, b = ('python', 'life')\n",
    "(a, b) = 'python', 'life'\n",
    "\n",
    "a = b = 'python'"
   ]
  },
  {
   "cell_type": "markdown",
   "id": "6e5e86af-b578-4467-8522-49c65b0d4f25",
   "metadata": {},
   "source": [
    "# 조건문 if"
   ]
  },
  {
   "cell_type": "markdown",
   "id": "25f787a3-a1e6-457b-a83e-9113df782179",
   "metadata": {},
   "source": [
    "if 문의 구조\n",
    "```\n",
    "if 참거짓 : \n",
    "    참일 때 실행될 문장\n",
    "``` "
   ]
  },
  {
   "cell_type": "code",
   "execution_count": 189,
   "id": "52ae5368-38a8-43fb-b346-06894becd1b9",
   "metadata": {},
   "outputs": [
    {
     "name": "stdout",
     "output_type": "stream",
     "text": [
      "Yes\n"
     ]
    }
   ],
   "source": [
    "if 1 < 2 :\n",
    "    print('Yes')"
   ]
  },
  {
   "cell_type": "code",
   "execution_count": 191,
   "id": "4675dc55-a637-4a98-b4fe-b81c1762057c",
   "metadata": {},
   "outputs": [
    {
     "name": "stdout",
     "output_type": "stream",
     "text": [
      "No\n"
     ]
    }
   ],
   "source": [
    "if 1 > 2 :\n",
    "    print('Yes')\n",
    "else : \n",
    "    print('No')"
   ]
  },
  {
   "cell_type": "markdown",
   "id": "9b1cba5d-a4fa-4a9c-be93-df5786e0758a",
   "metadata": {},
   "source": [
    "```\n",
    "if :\n",
    "    \n",
    "else       if:\n",
    "           else:         if:\n",
    "                         else:  #else절을 쪼개는거임\n",
    "```\n",
    "elif: 참일 때 실행될 문장\n",
    "\n",
    "else: 나머지 모두에서 실행될 문장"
   ]
  },
  {
   "cell_type": "markdown",
   "id": "5cc600d9-ba54-441e-a264-50293f0e75a4",
   "metadata": {},
   "source": [
    "#문제\n",
    "- temp = input()\n",
    "- 25보다 크면 \"여름\"\n",
    "- 15보다 크면 \"가을\"\n",
    "- 5보다 크면 \"봄\"\n",
    "- 그 이하는 \"겨울\""
   ]
  },
  {
   "cell_type": "code",
   "execution_count": 196,
   "id": "23df1801-f427-44f2-a210-e699b1ed4b41",
   "metadata": {},
   "outputs": [
    {
     "name": "stdin",
     "output_type": "stream",
     "text": [
      "기온을 입력하세요:  -1\n"
     ]
    },
    {
     "name": "stdout",
     "output_type": "stream",
     "text": [
      "겨울\n"
     ]
    }
   ],
   "source": [
    "temp = float(input(\"기온을 입력하세요: \"))\n",
    "if temp>25 : print(\"여름\")\n",
    "elif temp>15: print(\"가을\")\n",
    "elif temp>5: print(\"봄\")\n",
    "else: print(\"겨울\") "
   ]
  },
  {
   "cell_type": "markdown",
   "id": "f3c38e9e-2dd9-4f82-b849-56d2d1edefa2",
   "metadata": {},
   "source": [
    "#문제\n",
    "\n",
    "\n",
    "- 홀수면 \"홀수\"\n",
    "- 짝수면 \"짝수\" 로 판별하기"
   ]
  },
  {
   "cell_type": "code",
   "execution_count": 237,
   "id": "59894777-04d9-459c-9bd7-085e45bbae02",
   "metadata": {},
   "outputs": [
    {
     "name": "stdin",
     "output_type": "stream",
     "text": [
      "숫자를 입력하세요 :  4\n"
     ]
    },
    {
     "name": "stdout",
     "output_type": "stream",
     "text": [
      "짝수 입니다\n"
     ]
    }
   ],
   "source": [
    "number = int(input(\"숫자를 입력하세요 : \"))\n",
    "\n",
    "if number%2 == 1 :                    #2로 나눈 나머지가 0이다 = 짝수 라는 뜻\n",
    "    print(\"홀수 입니다\")\n",
    "else:\n",
    "    print(\"짝수 입니다\") "
   ]
  },
  {
   "cell_type": "markdown",
   "id": "f354606d-fec4-4f28-9321-8dc5b8104ec6",
   "metadata": {},
   "source": [
    "- A in B"
   ]
  },
  {
   "cell_type": "code",
   "execution_count": 201,
   "id": "596d5f8a-a037-4c17-a160-558d5605f036",
   "metadata": {},
   "outputs": [
    {
     "name": "stdout",
     "output_type": "stream",
     "text": [
      "택시를 타자\n"
     ]
    }
   ],
   "source": [
    "pocket = ['coins', 'bill', 'card']\n",
    "if 'bill' in pocket :\n",
    "    print(\"택시를 타자\")\n",
    "else:\n",
    "    print(\"걸어가자\")"
   ]
  },
  {
   "cell_type": "code",
   "execution_count": 208,
   "id": "71f874b1-d3a5-4e47-bb9a-23db62dd6d03",
   "metadata": {},
   "outputs": [
    {
     "name": "stdin",
     "output_type": "stream",
     "text": [
      "이름을 입력해 주세요. 영희\n"
     ]
    },
    {
     "name": "stdout",
     "output_type": "stream",
     "text": [
      "합격입니다.\n"
     ]
    }
   ],
   "source": [
    "names = [\"영희\", \"전우치\", \"홍길동\", \"장길산\"]\n",
    "name = input(\"이름을 입력해 주세요.\")\n",
    "\n",
    "if name in names:\n",
    "    print(\"합격입니다.\")\n",
    "else:\n",
    "    print(\"불합격입니다.\") "
   ]
  },
  {
   "cell_type": "markdown",
   "id": "d0a20923-1029-42c8-8c33-8b79a88b6409",
   "metadata": {},
   "source": [
    "# 반복문 for"
   ]
  },
  {
   "cell_type": "markdown",
   "id": "b776bb2b-bb35-489c-b058-136917044460",
   "metadata": {},
   "source": [
    "- for 문의 구조\n",
    "```\n",
    "for i in .....:\n",
    "    반복할 문장\n",
    "```"
   ]
  },
  {
   "cell_type": "code",
   "execution_count": 216,
   "id": "d1c3b5b8-b2d8-4d1f-bf88-10e65de83e87",
   "metadata": {},
   "outputs": [
    {
     "name": "stdout",
     "output_type": "stream",
     "text": [
      "1\n",
      "Hello\n",
      "\n",
      "2\n",
      "Hello\n",
      "\n",
      "3\n",
      "Hello\n",
      "\n"
     ]
    }
   ],
   "source": [
    "for i in [1, 2, 3] : \n",
    "    print(i)\n",
    "    print(\"Hello\")\n",
    "    print()  # 우리 눈에는 빈칸이지만 사실은 빈 줄을 뒤에 출력시키는 것임"
   ]
  },
  {
   "cell_type": "code",
   "execution_count": 218,
   "id": "056bcc5a-0119-4a3a-b99a-3746dc701704",
   "metadata": {},
   "outputs": [
    {
     "name": "stdout",
     "output_type": "stream",
     "text": [
      "\n",
      "Hello\n",
      "\n",
      "\n",
      "Hello\n",
      "\n",
      "\n",
      "Hello\n",
      "\n"
     ]
    }
   ],
   "source": [
    "for i in [1, 2, 3] : \n",
    "    print()   # i를 안써도 에러가 뜨지 않는다.\n",
    "    print(\"Hello\")\n",
    "    print()"
   ]
  },
  {
   "cell_type": "code",
   "execution_count": 220,
   "id": "487106a2-f23b-4870-ab71-30ce952c0014",
   "metadata": {},
   "outputs": [
    {
     "name": "stdout",
     "output_type": "stream",
     "text": [
      "Hello\n",
      "Hello\n",
      "Hello\n"
     ]
    }
   ],
   "source": [
    "for _ in [1, 2, 3] :   # i를 써주지 않고 다른걸 넣어도 상관X\n",
    "    print(\"Hello\")"
   ]
  },
  {
   "cell_type": "code",
   "execution_count": 223,
   "id": "6afc6a59-39e7-4e8b-b648-1e3e2ac1f2e9",
   "metadata": {},
   "outputs": [
    {
     "name": "stdout",
     "output_type": "stream",
     "text": [
      "1\n",
      "2\n",
      "3\n",
      "4\n",
      "5\n",
      "6\n",
      "7\n",
      "8\n",
      "9\n",
      "10\n"
     ]
    }
   ],
   "source": [
    "for i in [1, 2, 3, 4, 5, 6, 7, 8, 9, 10] :    # 수가 별로 없어서 가능했지만 \n",
    "                                              # 100개 넘게 나오면 어떻개 할꺼?\n",
    "    print(i)"
   ]
  },
  {
   "cell_type": "code",
   "execution_count": 224,
   "id": "976e1ebd-49ed-404f-b206-c4cd0f5c0fb3",
   "metadata": {},
   "outputs": [
    {
     "name": "stdout",
     "output_type": "stream",
     "text": [
      "0\n",
      "1\n",
      "2\n",
      "3\n",
      "4\n",
      "5\n",
      "6\n",
      "7\n",
      "8\n",
      "9\n"
     ]
    }
   ],
   "source": [
    "for i in range(10) : \n",
    "    print(i)"
   ]
  },
  {
   "cell_type": "code",
   "execution_count": 225,
   "id": "93a07698-1567-43e8-8098-fa7fc8d28e8e",
   "metadata": {},
   "outputs": [
    {
     "name": "stdout",
     "output_type": "stream",
     "text": [
      "2\n",
      "3\n",
      "4\n",
      "5\n",
      "6\n",
      "7\n",
      "8\n",
      "9\n"
     ]
    }
   ],
   "source": [
    "for i in range(2, 10) : \n",
    "    print(i)"
   ]
  },
  {
   "cell_type": "code",
   "execution_count": 228,
   "id": "8001be7a-d144-4058-ae0b-a47ac7481513",
   "metadata": {},
   "outputs": [
    {
     "name": "stdout",
     "output_type": "stream",
     "text": [
      "1\n",
      "4\n",
      "7\n",
      "10\n"
     ]
    }
   ],
   "source": [
    "for i in range(1, 11, 3) :     # 마지막 3은 3번씩 건너감\n",
    "    print(i)"
   ]
  },
  {
   "cell_type": "code",
   "execution_count": 229,
   "id": "4c19ca30-b19f-41d4-b727-fc800087ae35",
   "metadata": {},
   "outputs": [
    {
     "name": "stdout",
     "output_type": "stream",
     "text": [
      "1\n",
      "3\n",
      "5\n",
      "7\n",
      "9\n"
     ]
    }
   ],
   "source": [
    "for i in range(1, 11, 2) : \n",
    "    print(i)"
   ]
  },
  {
   "cell_type": "code",
   "execution_count": 232,
   "id": "d7464396-0ce0-4dc3-8d2d-f39cb1cb0060",
   "metadata": {},
   "outputs": [
    {
     "name": "stdout",
     "output_type": "stream",
     "text": [
      "0,  1,  2,  3,  4,  5,  6,  7,  8,  9,  "
     ]
    }
   ],
   "source": [
    "for i in range(10):\n",
    "    print(i, end = \",  \")         # 줄 바꾸지 않고 보여줌"
   ]
  },
  {
   "cell_type": "code",
   "execution_count": 233,
   "id": "34a4ecda-5e79-4a9e-bf82-d0b5fd06134e",
   "metadata": {},
   "outputs": [],
   "source": [
    "# 2부터 10까지 짝수만 출력해보자"
   ]
  },
  {
   "cell_type": "code",
   "execution_count": 238,
   "id": "2d9f7526-6794-48a1-81e7-a78e7fd23384",
   "metadata": {},
   "outputs": [
    {
     "name": "stdout",
     "output_type": "stream",
     "text": [
      "2\n",
      "4\n",
      "6\n",
      "8\n",
      "10\n"
     ]
    }
   ],
   "source": [
    "for i in range(2, 11, 2):\n",
    "    print(i)"
   ]
  },
  {
   "cell_type": "code",
   "execution_count": 239,
   "id": "c07d94d9-b95f-4ab8-a53b-499ae80f3c0d",
   "metadata": {},
   "outputs": [
    {
     "name": "stdout",
     "output_type": "stream",
     "text": [
      "2\n",
      "4\n",
      "6\n",
      "8\n",
      "10\n"
     ]
    }
   ],
   "source": [
    "for i in range(1, 11):\n",
    "    if i % 2 == 0 :         #2로 나눈 나머지가 0이다 = 짝수 라는 뜻\n",
    "        print(i)"
   ]
  },
  {
   "cell_type": "code",
   "execution_count": 240,
   "id": "c96e94c4-90ef-4d18-a1ad-cd05e9c27bb6",
   "metadata": {},
   "outputs": [
    {
     "name": "stdout",
     "output_type": "stream",
     "text": [
      "영희\n",
      "전우치\n",
      "홍길동\n",
      "장길산\n"
     ]
    }
   ],
   "source": [
    "for name in names :\n",
    "    print(name)"
   ]
  },
  {
   "cell_type": "code",
   "execution_count": 241,
   "id": "5704d3ce-acc3-4424-a209-3e98265ccfc9",
   "metadata": {},
   "outputs": [
    {
     "name": "stdout",
     "output_type": "stream",
     "text": [
      "영희\n",
      "전우치\n",
      "홍길동\n",
      "장길산\n"
     ]
    }
   ],
   "source": [
    "for i in range(4) :\n",
    "    print(names[i])"
   ]
  },
  {
   "cell_type": "markdown",
   "id": "b5b813c2-2dff-4293-83a5-773b1ef14e9f",
   "metadata": {},
   "source": [
    "- 총 합 구하기"
   ]
  },
  {
   "cell_type": "markdown",
   "id": "79254181-dab5-431c-a701-b50f53b70158",
   "metadata": {},
   "source": [
    "```\n",
    "for i in range(10) :\n",
    "\n",
    "\n",
    "1 = 0 + 1\n",
    "3 = 1 + 2\n",
    "6 = 3 + 3\n",
    "10 = 6 + 4\n",
    "\n",
    "\n",
    "sum   = sum +i   #왼쪽 sum은 새로운 sum 이고 오른쪽 sum은 이전의 sum이다.  i는 변수\n",
    "```"
   ]
  },
  {
   "cell_type": "code",
   "execution_count": 248,
   "id": "1c1e164a-b9c9-4338-936e-cbb1532cfafe",
   "metadata": {},
   "outputs": [
    {
     "name": "stdout",
     "output_type": "stream",
     "text": [
      "0\n",
      "1\n",
      "3\n",
      "6\n",
      "10\n",
      "15\n",
      "21\n",
      "28\n",
      "36\n",
      "45\n"
     ]
    }
   ],
   "source": [
    "sum = 0   # sum 자리에 0이 들어가게 된다.\n",
    "for i in range(10) :\n",
    "    sum = sum + i    # i만큼씩 더함.(숫자 넣어주기)\n",
    "    print(sum)  # 더할때마다 sum을 출력하게 된다."
   ]
  },
  {
   "cell_type": "code",
   "execution_count": 247,
   "id": "c86f7d0f-8a09-4c70-9e24-6a0bb636e721",
   "metadata": {},
   "outputs": [
    {
     "name": "stdout",
     "output_type": "stream",
     "text": [
      "45\n"
     ]
    }
   ],
   "source": [
    "sum = 0   # sum 자리에 0이 들어가게 된다.\n",
    "for i in range(10) :\n",
    "    sum = sum + i\n",
    "print(sum)   #sum을 한번만 출력하게 된다.(결과만 출력함.)"
   ]
  },
  {
   "cell_type": "code",
   "execution_count": 251,
   "id": "71ec8c97-36d1-471e-99f4-7e663e1566fa",
   "metadata": {},
   "outputs": [
    {
     "name": "stdout",
     "output_type": "stream",
     "text": [
      "0\n",
      "1\n",
      "3\n",
      "6\n",
      "10\n",
      "15\n",
      "21\n",
      "28\n",
      "36\n",
      "45\n"
     ]
    }
   ],
   "source": [
    "sum = 0 \n",
    "for i in range(10) :\n",
    "    sum += i   #sum이라는 변수에는 i만큼씩 더한다.\n",
    "    print(sum) #이렇게 써도 결과는 같다."
   ]
  },
  {
   "cell_type": "code",
   "execution_count": 254,
   "id": "4ae00a13-4dc3-4e52-b404-c091652e2c5b",
   "metadata": {},
   "outputs": [
    {
     "data": {
      "text/plain": [
       "133767"
      ]
     },
     "execution_count": 254,
     "metadata": {},
     "output_type": "execute_result"
    }
   ],
   "source": [
    "#234부터 567까지의 합은?\n",
    "\n",
    "sum = 0\n",
    "for i in range(234, 567 +1):\n",
    "    sum += i\n",
    "sum "
   ]
  },
  {
   "cell_type": "code",
   "execution_count": 259,
   "id": "acba9fe1-18b6-4ddd-b99f-3c34265fe85e",
   "metadata": {},
   "outputs": [
    {
     "name": "stdin",
     "output_type": "stream",
     "text": [
      "첫번째 수:  1\n",
      "두번째 수:  3\n"
     ]
    },
    {
     "data": {
      "text/plain": [
       "6"
      ]
     },
     "execution_count": 259,
     "metadata": {},
     "output_type": "execute_result"
    }
   ],
   "source": [
    "sum= 0\n",
    "for i in range(int(input('첫번째 수: ')), int(input('두번째 수: ')) +1):\n",
    "    sum += i\n",
    "sum "
   ]
  },
  {
   "cell_type": "code",
   "execution_count": null,
   "id": "329048f1-05c8-4e3c-b1bd-f9cc36dd6917",
   "metadata": {},
   "outputs": [],
   "source": [
    "a = int(input(\"1st\"))\n",
    "b = int(input(\"2nd\"))\n",
    "sum = 0\n",
    "\n",
    "for i in range (a, b+1):\n",
    "    sum += i\n",
    "print(sum) "
   ]
  },
  {
   "cell_type": "code",
   "execution_count": 263,
   "id": "4f249595-b69d-47ef-b39c-4d6e97ca4c05",
   "metadata": {},
   "outputs": [
    {
     "name": "stdout",
     "output_type": "stream",
     "text": [
      "[1, 3, 5, 7, 9, 11, 13, 15, 17, 19]\n"
     ]
    }
   ],
   "source": [
    "a = []\n",
    "for i in range(20) :\n",
    "  if i % 2 == 1 :\n",
    "    a.append(i)\n",
    "\n",
    "print(a) "
   ]
  },
  {
   "cell_type": "code",
   "execution_count": 264,
   "id": "889dffc1-4ccf-4064-a6fa-1f7da059cbbc",
   "metadata": {},
   "outputs": [
    {
     "name": "stdout",
     "output_type": "stream",
     "text": [
      "2 X i = 2*i\n",
      "2 X i = 2*i\n",
      "2 X i = 2*i\n",
      "2 X i = 2*i\n",
      "2 X i = 2*i\n",
      "2 X i = 2*i\n",
      "2 X i = 2*i\n",
      "2 X i = 2*i\n",
      "2 X i = 2*i\n"
     ]
    }
   ],
   "source": [
    "# 구구단 2단만 출력하기\n",
    "for i in range(1, 10) :\n",
    "    print(\"2 X i = 2*i\")"
   ]
  },
  {
   "cell_type": "code",
   "execution_count": 266,
   "id": "2560eb6f-f9c6-4fc5-8f9c-08f053ecbe41",
   "metadata": {},
   "outputs": [
    {
     "name": "stdout",
     "output_type": "stream",
     "text": [
      "2 X 1 = 2\n",
      "2 X 2 = 4\n",
      "2 X 3 = 6\n",
      "2 X 4 = 8\n",
      "2 X 5 = 10\n",
      "2 X 6 = 12\n",
      "2 X 7 = 14\n",
      "2 X 8 = 16\n",
      "2 X 9 = 18\n"
     ]
    }
   ],
   "source": [
    "for i in range(1, 10) :\n",
    "    print(f\"2 X {i} = {2*i}\")      #변수처리를 해줘야 한다."
   ]
  },
  {
   "cell_type": "code",
   "execution_count": 269,
   "id": "acb75414-de11-4d91-8d59-dc181b69a077",
   "metadata": {
    "collapsed": true,
    "jupyter": {
     "outputs_hidden": true
    },
    "tags": []
   },
   "outputs": [
    {
     "name": "stdout",
     "output_type": "stream",
     "text": [
      "2 X 1 = 2\n",
      "2 X 2 = 4\n",
      "2 X 3 = 6\n",
      "2 X 4 = 8\n",
      "2 X 5 = 10\n",
      "2 X 6 = 12\n",
      "2 X 7 = 14\n",
      "2 X 8 = 16\n",
      "2 X 9 = 18\n",
      "3 X 1 = 3\n",
      "3 X 2 = 6\n",
      "3 X 3 = 9\n",
      "3 X 4 = 12\n",
      "3 X 5 = 15\n",
      "3 X 6 = 18\n",
      "3 X 7 = 21\n",
      "3 X 8 = 24\n",
      "3 X 9 = 27\n",
      "4 X 1 = 4\n",
      "4 X 2 = 8\n",
      "4 X 3 = 12\n",
      "4 X 4 = 16\n",
      "4 X 5 = 20\n",
      "4 X 6 = 24\n",
      "4 X 7 = 28\n",
      "4 X 8 = 32\n",
      "4 X 9 = 36\n",
      "5 X 1 = 5\n",
      "5 X 2 = 10\n",
      "5 X 3 = 15\n",
      "5 X 4 = 20\n",
      "5 X 5 = 25\n",
      "5 X 6 = 30\n",
      "5 X 7 = 35\n",
      "5 X 8 = 40\n",
      "5 X 9 = 45\n",
      "6 X 1 = 6\n",
      "6 X 2 = 12\n",
      "6 X 3 = 18\n",
      "6 X 4 = 24\n",
      "6 X 5 = 30\n",
      "6 X 6 = 36\n",
      "6 X 7 = 42\n",
      "6 X 8 = 48\n",
      "6 X 9 = 54\n",
      "7 X 1 = 7\n",
      "7 X 2 = 14\n",
      "7 X 3 = 21\n",
      "7 X 4 = 28\n",
      "7 X 5 = 35\n",
      "7 X 6 = 42\n",
      "7 X 7 = 49\n",
      "7 X 8 = 56\n",
      "7 X 9 = 63\n",
      "8 X 1 = 8\n",
      "8 X 2 = 16\n",
      "8 X 3 = 24\n",
      "8 X 4 = 32\n",
      "8 X 5 = 40\n",
      "8 X 6 = 48\n",
      "8 X 7 = 56\n",
      "8 X 8 = 64\n",
      "8 X 9 = 72\n",
      "9 X 1 = 9\n",
      "9 X 2 = 18\n",
      "9 X 3 = 27\n",
      "9 X 4 = 36\n",
      "9 X 5 = 45\n",
      "9 X 6 = 54\n",
      "9 X 7 = 63\n",
      "9 X 8 = 72\n",
      "9 X 9 = 81\n"
     ]
    }
   ],
   "source": [
    "for i in range(2, 10) :\n",
    "    for j in range(1, 10) :\n",
    "        print(f\"{i} X {j} = {i*j}\")   "
   ]
  },
  {
   "cell_type": "code",
   "execution_count": 273,
   "id": "183a7f86-3114-41c0-be45-3a7daa76383d",
   "metadata": {
    "collapsed": true,
    "jupyter": {
     "outputs_hidden": true
    },
    "tags": []
   },
   "outputs": [
    {
     "name": "stdout",
     "output_type": "stream",
     "text": [
      "2 X 1 = 2\n",
      "2 X 2 = 4\n",
      "2 X 3 = 6\n",
      "2 X 4 = 8\n",
      "2 X 5 = 10\n",
      "2 X 6 = 12\n",
      "2 X 7 = 14\n",
      "2 X 8 = 16\n",
      "2 X 9 = 18\n",
      " \n",
      "3 X 1 = 3\n",
      "3 X 2 = 6\n",
      "3 X 3 = 9\n",
      "3 X 4 = 12\n",
      "3 X 5 = 15\n",
      "3 X 6 = 18\n",
      "3 X 7 = 21\n",
      "3 X 8 = 24\n",
      "3 X 9 = 27\n",
      " \n",
      "4 X 1 = 4\n",
      "4 X 2 = 8\n",
      "4 X 3 = 12\n",
      "4 X 4 = 16\n",
      "4 X 5 = 20\n",
      "4 X 6 = 24\n",
      "4 X 7 = 28\n",
      "4 X 8 = 32\n",
      "4 X 9 = 36\n",
      " \n",
      "5 X 1 = 5\n",
      "5 X 2 = 10\n",
      "5 X 3 = 15\n",
      "5 X 4 = 20\n",
      "5 X 5 = 25\n",
      "5 X 6 = 30\n",
      "5 X 7 = 35\n",
      "5 X 8 = 40\n",
      "5 X 9 = 45\n",
      " \n",
      "6 X 1 = 6\n",
      "6 X 2 = 12\n",
      "6 X 3 = 18\n",
      "6 X 4 = 24\n",
      "6 X 5 = 30\n",
      "6 X 6 = 36\n",
      "6 X 7 = 42\n",
      "6 X 8 = 48\n",
      "6 X 9 = 54\n",
      " \n",
      "7 X 1 = 7\n",
      "7 X 2 = 14\n",
      "7 X 3 = 21\n",
      "7 X 4 = 28\n",
      "7 X 5 = 35\n",
      "7 X 6 = 42\n",
      "7 X 7 = 49\n",
      "7 X 8 = 56\n",
      "7 X 9 = 63\n",
      " \n",
      "8 X 1 = 8\n",
      "8 X 2 = 16\n",
      "8 X 3 = 24\n",
      "8 X 4 = 32\n",
      "8 X 5 = 40\n",
      "8 X 6 = 48\n",
      "8 X 7 = 56\n",
      "8 X 8 = 64\n",
      "8 X 9 = 72\n",
      " \n",
      "9 X 1 = 9\n",
      "9 X 2 = 18\n",
      "9 X 3 = 27\n",
      "9 X 4 = 36\n",
      "9 X 5 = 45\n",
      "9 X 6 = 54\n",
      "9 X 7 = 63\n",
      "9 X 8 = 72\n",
      "9 X 9 = 81\n",
      " \n"
     ]
    }
   ],
   "source": [
    "for i in range(2, 10) :\n",
    "    for j in range(1, 10) :\n",
    "        print(f\"{i} X {j} = {i*j}\")\n",
    "    print(\" \")\n",
    "    "
   ]
  },
  {
   "cell_type": "code",
   "execution_count": 274,
   "id": "9b3a6be1-8098-4a3f-8007-ad33cec9e393",
   "metadata": {
    "collapsed": true,
    "jupyter": {
     "outputs_hidden": true
    },
    "tags": []
   },
   "outputs": [
    {
     "name": "stdout",
     "output_type": "stream",
     "text": [
      "2단입니다\n",
      "2 x 1 = 2\n",
      "2 x 2 = 4\n",
      "2 x 3 = 6\n",
      "2 x 4 = 8\n",
      "2 x 5 = 10\n",
      "2 x 6 = 12\n",
      "2 x 7 = 14\n",
      "2 x 8 = 16\n",
      "2 x 9 = 18\n",
      "\n",
      "3단입니다\n",
      "3 x 1 = 3\n",
      "3 x 2 = 6\n",
      "3 x 3 = 9\n",
      "3 x 4 = 12\n",
      "3 x 5 = 15\n",
      "3 x 6 = 18\n",
      "3 x 7 = 21\n",
      "3 x 8 = 24\n",
      "3 x 9 = 27\n",
      "\n",
      "4단입니다\n",
      "4 x 1 = 4\n",
      "4 x 2 = 8\n",
      "4 x 3 = 12\n",
      "4 x 4 = 16\n",
      "4 x 5 = 20\n",
      "4 x 6 = 24\n",
      "4 x 7 = 28\n",
      "4 x 8 = 32\n",
      "4 x 9 = 36\n",
      "\n",
      "5단입니다\n",
      "5 x 1 = 5\n",
      "5 x 2 = 10\n",
      "5 x 3 = 15\n",
      "5 x 4 = 20\n",
      "5 x 5 = 25\n",
      "5 x 6 = 30\n",
      "5 x 7 = 35\n",
      "5 x 8 = 40\n",
      "5 x 9 = 45\n",
      "\n",
      "6단입니다\n",
      "6 x 1 = 6\n",
      "6 x 2 = 12\n",
      "6 x 3 = 18\n",
      "6 x 4 = 24\n",
      "6 x 5 = 30\n",
      "6 x 6 = 36\n",
      "6 x 7 = 42\n",
      "6 x 8 = 48\n",
      "6 x 9 = 54\n",
      "\n",
      "7단입니다\n",
      "7 x 1 = 7\n",
      "7 x 2 = 14\n",
      "7 x 3 = 21\n",
      "7 x 4 = 28\n",
      "7 x 5 = 35\n",
      "7 x 6 = 42\n",
      "7 x 7 = 49\n",
      "7 x 8 = 56\n",
      "7 x 9 = 63\n",
      "\n",
      "8단입니다\n",
      "8 x 1 = 8\n",
      "8 x 2 = 16\n",
      "8 x 3 = 24\n",
      "8 x 4 = 32\n",
      "8 x 5 = 40\n",
      "8 x 6 = 48\n",
      "8 x 7 = 56\n",
      "8 x 8 = 64\n",
      "8 x 9 = 72\n",
      "\n",
      "9단입니다\n",
      "9 x 1 = 9\n",
      "9 x 2 = 18\n",
      "9 x 3 = 27\n",
      "9 x 4 = 36\n",
      "9 x 5 = 45\n",
      "9 x 6 = 54\n",
      "9 x 7 = 63\n",
      "9 x 8 = 72\n",
      "9 x 9 = 81\n",
      "\n"
     ]
    }
   ],
   "source": [
    "for i in range(2,10):\n",
    "    print(f\"{i}단입니다\")\n",
    "    for j in range(1,10):\n",
    "        print(f\"{i} x {j} = {i*j}\")\n",
    "    print() "
   ]
  },
  {
   "cell_type": "code",
   "execution_count": null,
   "id": "95e1575d-7530-414d-9984-7adebb935abf",
   "metadata": {},
   "outputs": [],
   "source": []
  }
 ],
 "metadata": {
  "kernelspec": {
   "display_name": "Python 3 (ipykernel)",
   "language": "python",
   "name": "python3"
  },
  "language_info": {
   "codemirror_mode": {
    "name": "ipython",
    "version": 3
   },
   "file_extension": ".py",
   "mimetype": "text/x-python",
   "name": "python",
   "nbconvert_exporter": "python",
   "pygments_lexer": "ipython3",
   "version": "3.10.6"
  },
  "toc-autonumbering": false
 },
 "nbformat": 4,
 "nbformat_minor": 5
}
