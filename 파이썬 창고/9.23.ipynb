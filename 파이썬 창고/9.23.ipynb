{
 "cells": [
  {
   "cell_type": "code",
   "execution_count": 4,
   "id": "1729b94f-61e6-4ee6-a139-ba6a21c79abe",
   "metadata": {
    "collapsed": true,
    "jupyter": {
     "outputs_hidden": true
    },
    "tags": []
   },
   "outputs": [
    {
     "data": {
      "text/html": [
       "<div>\n",
       "<style scoped>\n",
       "    .dataframe tbody tr th:only-of-type {\n",
       "        vertical-align: middle;\n",
       "    }\n",
       "\n",
       "    .dataframe tbody tr th {\n",
       "        vertical-align: top;\n",
       "    }\n",
       "\n",
       "    .dataframe thead th {\n",
       "        text-align: right;\n",
       "    }\n",
       "</style>\n",
       "<table border=\"1\" class=\"dataframe\">\n",
       "  <thead>\n",
       "    <tr style=\"text-align: right;\">\n",
       "      <th></th>\n",
       "      <th>manufacturer</th>\n",
       "      <th>model</th>\n",
       "      <th>displ</th>\n",
       "      <th>year</th>\n",
       "      <th>cyl</th>\n",
       "      <th>trans</th>\n",
       "      <th>drv</th>\n",
       "      <th>cty</th>\n",
       "      <th>hwy</th>\n",
       "      <th>fl</th>\n",
       "      <th>class</th>\n",
       "    </tr>\n",
       "  </thead>\n",
       "  <tbody>\n",
       "    <tr>\n",
       "      <th>1</th>\n",
       "      <td>audi</td>\n",
       "      <td>a4</td>\n",
       "      <td>1.8</td>\n",
       "      <td>1999</td>\n",
       "      <td>4</td>\n",
       "      <td>auto(l5)</td>\n",
       "      <td>f</td>\n",
       "      <td>18</td>\n",
       "      <td>29</td>\n",
       "      <td>p</td>\n",
       "      <td>compact</td>\n",
       "    </tr>\n",
       "    <tr>\n",
       "      <th>2</th>\n",
       "      <td>audi</td>\n",
       "      <td>a4</td>\n",
       "      <td>1.8</td>\n",
       "      <td>1999</td>\n",
       "      <td>4</td>\n",
       "      <td>manual(m5)</td>\n",
       "      <td>f</td>\n",
       "      <td>21</td>\n",
       "      <td>29</td>\n",
       "      <td>p</td>\n",
       "      <td>compact</td>\n",
       "    </tr>\n",
       "    <tr>\n",
       "      <th>3</th>\n",
       "      <td>audi</td>\n",
       "      <td>a4</td>\n",
       "      <td>2.0</td>\n",
       "      <td>2008</td>\n",
       "      <td>4</td>\n",
       "      <td>manual(m6)</td>\n",
       "      <td>f</td>\n",
       "      <td>20</td>\n",
       "      <td>31</td>\n",
       "      <td>p</td>\n",
       "      <td>compact</td>\n",
       "    </tr>\n",
       "    <tr>\n",
       "      <th>4</th>\n",
       "      <td>audi</td>\n",
       "      <td>a4</td>\n",
       "      <td>2.0</td>\n",
       "      <td>2008</td>\n",
       "      <td>4</td>\n",
       "      <td>auto(av)</td>\n",
       "      <td>f</td>\n",
       "      <td>21</td>\n",
       "      <td>30</td>\n",
       "      <td>p</td>\n",
       "      <td>compact</td>\n",
       "    </tr>\n",
       "    <tr>\n",
       "      <th>5</th>\n",
       "      <td>audi</td>\n",
       "      <td>a4</td>\n",
       "      <td>2.8</td>\n",
       "      <td>1999</td>\n",
       "      <td>6</td>\n",
       "      <td>auto(l5)</td>\n",
       "      <td>f</td>\n",
       "      <td>16</td>\n",
       "      <td>26</td>\n",
       "      <td>p</td>\n",
       "      <td>compact</td>\n",
       "    </tr>\n",
       "    <tr>\n",
       "      <th>...</th>\n",
       "      <td>...</td>\n",
       "      <td>...</td>\n",
       "      <td>...</td>\n",
       "      <td>...</td>\n",
       "      <td>...</td>\n",
       "      <td>...</td>\n",
       "      <td>...</td>\n",
       "      <td>...</td>\n",
       "      <td>...</td>\n",
       "      <td>...</td>\n",
       "      <td>...</td>\n",
       "    </tr>\n",
       "    <tr>\n",
       "      <th>230</th>\n",
       "      <td>volkswagen</td>\n",
       "      <td>passat</td>\n",
       "      <td>2.0</td>\n",
       "      <td>2008</td>\n",
       "      <td>4</td>\n",
       "      <td>auto(s6)</td>\n",
       "      <td>f</td>\n",
       "      <td>19</td>\n",
       "      <td>28</td>\n",
       "      <td>p</td>\n",
       "      <td>midsize</td>\n",
       "    </tr>\n",
       "    <tr>\n",
       "      <th>231</th>\n",
       "      <td>volkswagen</td>\n",
       "      <td>passat</td>\n",
       "      <td>2.0</td>\n",
       "      <td>2008</td>\n",
       "      <td>4</td>\n",
       "      <td>manual(m6)</td>\n",
       "      <td>f</td>\n",
       "      <td>21</td>\n",
       "      <td>29</td>\n",
       "      <td>p</td>\n",
       "      <td>midsize</td>\n",
       "    </tr>\n",
       "    <tr>\n",
       "      <th>232</th>\n",
       "      <td>volkswagen</td>\n",
       "      <td>passat</td>\n",
       "      <td>2.8</td>\n",
       "      <td>1999</td>\n",
       "      <td>6</td>\n",
       "      <td>auto(l5)</td>\n",
       "      <td>f</td>\n",
       "      <td>16</td>\n",
       "      <td>26</td>\n",
       "      <td>p</td>\n",
       "      <td>midsize</td>\n",
       "    </tr>\n",
       "    <tr>\n",
       "      <th>233</th>\n",
       "      <td>volkswagen</td>\n",
       "      <td>passat</td>\n",
       "      <td>2.8</td>\n",
       "      <td>1999</td>\n",
       "      <td>6</td>\n",
       "      <td>manual(m5)</td>\n",
       "      <td>f</td>\n",
       "      <td>18</td>\n",
       "      <td>26</td>\n",
       "      <td>p</td>\n",
       "      <td>midsize</td>\n",
       "    </tr>\n",
       "    <tr>\n",
       "      <th>234</th>\n",
       "      <td>volkswagen</td>\n",
       "      <td>passat</td>\n",
       "      <td>3.6</td>\n",
       "      <td>2008</td>\n",
       "      <td>6</td>\n",
       "      <td>auto(s6)</td>\n",
       "      <td>f</td>\n",
       "      <td>17</td>\n",
       "      <td>26</td>\n",
       "      <td>p</td>\n",
       "      <td>midsize</td>\n",
       "    </tr>\n",
       "  </tbody>\n",
       "</table>\n",
       "<p>234 rows × 11 columns</p>\n",
       "</div>"
      ],
      "text/plain": [
       "    manufacturer   model  displ  year  cyl       trans drv  cty  hwy fl  \\\n",
       "1           audi      a4    1.8  1999    4    auto(l5)   f   18   29  p   \n",
       "2           audi      a4    1.8  1999    4  manual(m5)   f   21   29  p   \n",
       "3           audi      a4    2.0  2008    4  manual(m6)   f   20   31  p   \n",
       "4           audi      a4    2.0  2008    4    auto(av)   f   21   30  p   \n",
       "5           audi      a4    2.8  1999    6    auto(l5)   f   16   26  p   \n",
       "..           ...     ...    ...   ...  ...         ...  ..  ...  ... ..   \n",
       "230   volkswagen  passat    2.0  2008    4    auto(s6)   f   19   28  p   \n",
       "231   volkswagen  passat    2.0  2008    4  manual(m6)   f   21   29  p   \n",
       "232   volkswagen  passat    2.8  1999    6    auto(l5)   f   16   26  p   \n",
       "233   volkswagen  passat    2.8  1999    6  manual(m5)   f   18   26  p   \n",
       "234   volkswagen  passat    3.6  2008    6    auto(s6)   f   17   26  p   \n",
       "\n",
       "       class  \n",
       "1    compact  \n",
       "2    compact  \n",
       "3    compact  \n",
       "4    compact  \n",
       "5    compact  \n",
       "..       ...  \n",
       "230  midsize  \n",
       "231  midsize  \n",
       "232  midsize  \n",
       "233  midsize  \n",
       "234  midsize  \n",
       "\n",
       "[234 rows x 11 columns]"
      ]
     },
     "execution_count": 4,
     "metadata": {},
     "output_type": "execute_result"
    }
   ],
   "source": [
    "import pydataset\n",
    "\n",
    "mpg = pydataset.data('mpg') \n",
    "mpg"
   ]
  },
  {
   "cell_type": "code",
   "execution_count": 66,
   "id": "9ea5d4dc-e02d-4699-a630-d0553d4d92c9",
   "metadata": {},
   "outputs": [],
   "source": [
    "df = mpg.query('cty <= 6.5 | cty >= 26.5')"
   ]
  },
  {
   "cell_type": "code",
   "execution_count": 67,
   "id": "b6da5774-748f-4fd1-a8d0-7bf212848155",
   "metadata": {
    "tags": []
   },
   "outputs": [
    {
     "data": {
      "text/plain": [
       "<AxesSubplot:xlabel='displ', ylabel='cty'>"
      ]
     },
     "execution_count": 67,
     "metadata": {},
     "output_type": "execute_result"
    },
    {
     "data": {
      "image/png": "[encoded data removed]",
      "text/plain": [
       "<Figure size 432x288 with 1 Axes>"
      ]
     },
     "metadata": {
      "needs_background": "light"
     },
     "output_type": "display_data"
    }
   ],
   "source": [
    "import seaborn as sns\n",
    "sns.scatterplot(data = df, x = 'displ', y = 'cty', hue = 'drv')"
   ]
  },
  {
   "cell_type": "markdown",
   "id": "c450389f-b1f9-47a3-a6d2-57f596308191",
   "metadata": {},
   "source": [
    "```\n",
    "#칼럼을 인덱스로 만드려면?\n",
    "set_index(\"칼럼이름\")\n",
    "\n",
    "#인덱스를 칼럼으로 옮기기 위한 함수는?\n",
    ".reset_index()\n",
    "\n",
    "#셀마다 단어의 갯수를 알고 싶으면?\n",
    "df['word'].str.len()\n",
    "```"
   ]
  },
  {
   "cell_type": "markdown",
   "id": "be00704b-3769-4bcf-97cc-a97c1f49eede",
   "metadata": {},
   "source": [
    "# 오늘 공부 시작"
   ]
  },
  {
   "cell_type": "code",
   "execution_count": 1,
   "id": "3924322f-aad5-45e2-9ee2-f48a6edeb61b",
   "metadata": {},
   "outputs": [],
   "source": [
    "import json"
   ]
  },
  {
   "cell_type": "code",
   "execution_count": 2,
   "id": "4e8ab474-082c-4181-b02c-adf6ad586cf8",
   "metadata": {},
   "outputs": [],
   "source": [
    "geo = json.load(open('SIG.geojson.txt', encoding = 'UTF-8'))"
   ]
  },
  {
   "cell_type": "code",
   "execution_count": 3,
   "id": "16426eff-2bea-4d40-a16a-7006ce9860f7",
   "metadata": {
    "collapsed": true,
    "jupyter": {
     "outputs_hidden": true
    },
    "tags": []
   },
   "outputs": [
    {
     "data": {
      "text/plain": [
       "{'type': 'MultiPolygon',\n",
       " 'coordinates': [[[[127.58508551154958, 38.08062321552708],\n",
       "    [127.58565575732702, 38.0802009066172],\n",
       "    [127.58777905808203, 38.080354190085544],\n",
       "    [127.58890487394689, 38.080881783588694],\n",
       "    [127.59031267326897, 38.080596307998306],\n",
       "    [127.59061778023133, 38.08053451807929],\n",
       "    [127.59137292963024, 38.080476965118685],\n",
       "    [127.59349548967889, 38.08031540227777],\n",
       "    [127.594304166838, 38.080225164594665],\n",
       "    [127.59529626584073, 38.08011430122607],\n",
       "    [127.59683797157537, 38.079896764445195],\n",
       "    [127.59703599139921, 38.07914773681181],\n",
       "    [127.59756973764837, 38.07761547763786],\n",
       "    [127.59794006383213, 38.07714541130494],\n",
       "    [127.59816760846913, 38.07685681587356],\n",
       "    [127.59847648881038, 38.076670284099194],\n",
       "    [127.59956152109447, 38.076014995491754],\n",
       "    [127.60022591131202, 38.07568645192285],\n",
       "    [127.60034758173289, 38.075626138582486],\n",
       "    [127.6014570759825, 38.07461119532391],\n",
       "    [127.60157555080873, 38.07455485196505],\n",
       "    [127.60230653857204, 38.074206244956876],\n",
       "    [127.60390601124003, 38.07327660162678],\n",
       "    [127.60443723065033, 38.072869608754004],\n",
       "    [127.6047263843533, 38.072648242888924],\n",
       "    [127.60776133059721, 38.07167401858992],\n",
       "    [127.60760347392271, 38.07051969133413],\n",
       "    [127.60806542595986, 38.06994469718538],\n",
       "    [127.60806826831123, 38.06993285371626],\n",
       "    [127.60806865420793, 38.06993128416094],\n",
       "    [127.60814521454849, 38.06962249336348],\n",
       "    [127.60815917617703, 38.069552322364636],\n",
       "    [127.60815975446502, 38.069549211278854],\n",
       "    [127.60828131367882, 38.06893935994186],\n",
       "    [127.60819665558557, 38.06834885218174],\n",
       "    [127.60803099963366, 38.06799441946392],\n",
       "    [127.6080139103501, 38.06793003929597],\n",
       "    [127.60790766697964, 38.06752799359179],\n",
       "    [127.60751133743747, 38.066733029882286],\n",
       "    [127.60731870522834, 38.06634691534065],\n",
       "    [127.60730017972665, 38.06630309196584],\n",
       "    [127.60633804380056, 38.06403636486456],\n",
       "    [127.60632396545897, 38.06399139230836],\n",
       "    [127.60540225017634, 38.06105075526618],\n",
       "    [127.60545820441588, 38.061034990340524],\n",
       "    [127.60648006832402, 38.06074481722389],\n",
       "    [127.60657403545073, 38.0607181534401],\n",
       "    [127.6065875437577, 38.06071471454357],\n",
       "    [127.6081731678337, 38.060263966027776],\n",
       "    [127.60960079256596, 38.059158049961844],\n",
       "    [127.61029755227142, 38.05826987655517],\n",
       "    [127.61037135809585, 38.05817574660438],\n",
       "    [127.61153165100565, 38.05670154263706],\n",
       "    [127.61167734497693, 38.05651638115215],\n",
       "    [127.6115651979013, 38.05589618846261],\n",
       "    [127.61160716881366, 38.055567709397444],\n",
       "    [127.6116721589184, 38.05541956128699],\n",
       "    [127.61196719509392, 38.05559764222312],\n",
       "    [127.61214729567511, 38.05638218427894],\n",
       "    [127.61252395737803, 38.056720037918296],\n",
       "    [127.61404329839532, 38.057450869741544],\n",
       "    [127.6156861016779, 38.05774269468133],\n",
       "    [127.61725377950795, 38.057521088636776],\n",
       "    [127.61803137218784, 38.057177490853334],\n",
       "    [127.61803647266068, 38.05717158122459],\n",
       "    [127.61803772523751, 38.05717013321485],\n",
       "    [127.61845990143956, 38.05669072942996],\n",
       "    [127.61890958632262, 38.056179918392075],\n",
       "    [127.62036576212805, 38.05468972176273],\n",
       "    [127.62177115147924, 38.05330562171858],\n",
       "    [127.62227675420024, 38.05288628639734],\n",
       "    [127.62244558337187, 38.05272492633394],\n",
       "    [127.62286868915632, 38.05232009622367],\n",
       "    [127.62316482736915, 38.05203671081896],\n",
       "    [127.62365828592146, 38.05155212742131],\n",
       "    [127.62373120146297, 38.05152387665837],\n",
       "    [127.62509565310901, 38.05099468314024],\n",
       "    [127.62510488405489, 38.05099096750947],\n",
       "    [127.62627602431634, 38.05077810991184],\n",
       "    [127.63109866910351, 38.05009867045677],\n",
       "    [127.63289293144156, 38.05004540837937],\n",
       "    [127.63380784101984, 38.05018181558878],\n",
       "    [127.63565259058382, 38.050657519008624],\n",
       "    [127.6365572391533, 38.05094459068877],\n",
       "    [127.63744317128993, 38.051225837696116],\n",
       "    [127.63790925007399, 38.05137363987199],\n",
       "    [127.63844094872238, 38.05147212075538],\n",
       "    [127.64119856847337, 38.051982490192586],\n",
       "    [127.64147556765886, 38.05275970272235],\n",
       "    [127.64117164183617, 38.052916753057886],\n",
       "    [127.64116082227758, 38.05292245156208],\n",
       "    [127.64178336196952, 38.05337261179259],\n",
       "    [127.64343697757845, 38.05506234874021],\n",
       "    [127.64430311533953, 38.05586082206608],\n",
       "    [127.64537550887107, 38.05644700655819],\n",
       "    [127.64614439017907, 38.056607495288276],\n",
       "    [127.64614768948283, 38.05660693665671],\n",
       "    [127.64615647251401, 38.056605456063934],\n",
       "    [127.64615897650206, 38.056605154045116],\n",
       "    [127.64717225818003, 38.05643744029917],\n",
       "    [127.64804225217121, 38.0562935869942],\n",
       "    [127.6494043160215, 38.05586546731737],\n",
       "    [127.64944229907798, 38.055853438178076],\n",
       "    [127.65048389148363, 38.05552617980976],\n",
       "    [127.65051521836541, 38.05550489879728],\n",
       "    [127.65051733646142, 38.055503481701],\n",
       "    [127.65080633117613, 38.0553081925396],\n",
       "    [127.65082102089191, 38.05529825556652],\n",
       "    [127.65125423899838, 38.055005601228885],\n",
       "    [127.65161065372666, 38.0547648924729],\n",
       "    [127.65183115551993, 38.05461586233702],\n",
       "    [127.65183397498517, 38.054613882779506],\n",
       "    [127.65199396238292, 38.05450573656096],\n",
       "    [127.65271962062862, 38.05346624329562],\n",
       "    [127.65326494196474, 38.05212510612802],\n",
       "    [127.65329374153573, 38.05149910041938],\n",
       "    [127.6532939088782, 38.051497414809],\n",
       "    [127.6533174837924, 38.05098377120141],\n",
       "    [127.65331778447667, 38.05097785062217],\n",
       "    [127.65331987259103, 38.05093195621446],\n",
       "    [127.6533161544572, 38.05091479666833],\n",
       "    [127.65331578883331, 38.05091339329165],\n",
       "    [127.65305199304957, 38.049711036967444],\n",
       "    [127.65216022452016, 38.04794852660191],\n",
       "    [127.65185385612448, 38.0473429517877],\n",
       "    [127.64989136248361, 38.045710206119956],\n",
       "    [127.64889681731819, 38.04457266867816],\n",
       "    [127.64878930491794, 38.043966278529474],\n",
       "    [127.64870689143906, 38.04350108343675],\n",
       "    [127.6487981832505, 38.04115203906599],\n",
       "    [127.64886262366967, 38.0409112606731],\n",
       "    [127.64886331646963, 38.04090843703658],\n",
       "    [127.64894500008532, 38.0406039329663],\n",
       "    [127.64881590901878, 38.039465849910556],\n",
       "    [127.64844747324821, 38.03744310053315],\n",
       "    [127.64844230731613, 38.03709796630932],\n",
       "    [127.64844218853537, 38.03708446243897],\n",
       "    [127.64843956172848, 38.036906260416735],\n",
       "    [127.64842686902062, 38.036071869508405],\n",
       "    [127.64824195677147, 38.035079921097754],\n",
       "    [127.64811065306117, 38.03437568698556],\n",
       "    [127.64810657639568, 38.03366962692968],\n",
       "    [127.6481050916637, 38.03339965255742],\n",
       "    [127.64817653233133, 38.03308366441423],\n",
       "    [127.64852960362825, 38.031523151014824],\n",
       "    [127.64898972261574, 38.03078300383152],\n",
       "    [127.64907029240366, 38.03081774941784],\n",
       "    [127.649077815399, 38.030820987273984],\n",
       "    [127.64909940102687, 38.03083026481284],\n",
       "    [127.64960443560031, 38.03038153520125],\n",
       "    [127.6496164505602, 38.03037105453631],\n",
       "    [127.64978137932279, 38.03022431615779],\n",
       "    [127.64978507373003, 38.030220908393495],\n",
       "    [127.64996390469408, 38.02943022656623],\n",
       "    [127.65017657770456, 38.028482816709385],\n",
       "    [127.65027034006276, 38.02791501852844],\n",
       "    [127.65075959981806, 38.027013666803775],\n",
       "    [127.65324148927195, 38.02425273917748],\n",
       "    [127.65412265105368, 38.02382640023864],\n",
       "    [127.65549350608835, 38.024139731164496],\n",
       "    [127.65473867484185, 38.025766958987475],\n",
       "    [127.65490464895771, 38.02728434758135],\n",
       "    [127.65490804526902, 38.02728460798906],\n",
       "    [127.65598302217798, 38.02733859384323],\n",
       "    [127.65605710351889, 38.027564533455504],\n",
       "    [127.65608559042694, 38.02756606857738],\n",
       "    [127.65606117252321, 38.027421492401565],\n",
       "    [127.65602125116071, 38.02731501162605],\n",
       "    [127.65796838360991, 38.0279840600238],\n",
       "    [127.65905626462536, 38.02842533401282],\n",
       "    [127.66032630015764, 38.02887430715418],\n",
       "    [127.66058503023778, 38.02938862413308],\n",
       "    [127.66071096495226, 38.02963904484752],\n",
       "    [127.66072382498045, 38.029664594426485],\n",
       "    [127.66157915650561, 38.02945062445362],\n",
       "    [127.6616008159562, 38.02944515150204],\n",
       "    [127.66172049092272, 38.02941520027388],\n",
       "    [127.66196187775202, 38.029364006750825],\n",
       "    [127.66266855263864, 38.02975784697267],\n",
       "    [127.66337101199166, 38.02994054405667],\n",
       "    [127.66384014289994, 38.02998125389113],\n",
       "    [127.66430238266476, 38.0303454967864],\n",
       "    [127.66432123035038, 38.03034397612758],\n",
       "    [127.6647439453553, 38.030309502399724],\n",
       "    [127.66498775591604, 38.03028954130574],\n",
       "    [127.66537056474021, 38.030389299740435],\n",
       "    [127.66538333880415, 38.03040386728433],\n",
       "    [127.6653892625893, 38.03041030231837],\n",
       "    [127.665908486689, 38.03099296519229],\n",
       "    [127.66603423800052, 38.0315561563576],\n",
       "    [127.6666776039581, 38.03195116779911],\n",
       "    [127.66669424699282, 38.03196149708551],\n",
       "    [127.66694693820337, 38.03211687831805],\n",
       "    [127.66716567748793, 38.03227610887663],\n",
       "    [127.66718056035528, 38.03228700661709],\n",
       "    [127.66756429370845, 38.032566644717086],\n",
       "    [127.66781359246022, 38.03283747584818],\n",
       "    [127.66782365776717, 38.03284840080532],\n",
       "    [127.66792162267026, 38.03295510700212],\n",
       "    [127.6679408076276, 38.03297189017814],\n",
       "    [127.66794494100053, 38.03297552441271],\n",
       "    [127.66830749653099, 38.033293009834836],\n",
       "    [127.66881734951693, 38.03354349600784],\n",
       "    [127.66917379309992, 38.0338933918014],\n",
       "    [127.66955616067956, 38.03417640039388],\n",
       "    [127.67000241205251, 38.034321954320326],\n",
       "    [127.67093684532254, 38.03483803472518],\n",
       "    [127.67158762434391, 38.03490667916011],\n",
       "    [127.67183965535618, 38.03510485531627],\n",
       "    [127.67259188181254, 38.03503750127298],\n",
       "    [127.67333055233509, 38.03524076957958],\n",
       "    [127.67335642863019, 38.03524793704372],\n",
       "    [127.67342440757778, 38.0352667017536],\n",
       "    [127.67342637684317, 38.035267807617686],\n",
       "    [127.67403480269434, 38.03560949144175],\n",
       "    [127.67404974884941, 38.03560968523091],\n",
       "    [127.67463852029586, 38.03559167636965],\n",
       "    [127.67470096728597, 38.035589634161575],\n",
       "    [127.67485772501308, 38.03558479059549],\n",
       "    [127.67542094080271, 38.035751329639886],\n",
       "    [127.67544860462674, 38.03575961252259],\n",
       "    [127.67550660802846, 38.03577730707453],\n",
       "    [127.67628757522753, 38.03579675564088],\n",
       "    [127.6784393291893, 38.03589418887559],\n",
       "    [127.67845649686357, 38.03588451345664],\n",
       "    [127.6785299876864, 38.0358435497666],\n",
       "    [127.68033214180706, 38.034855681380535],\n",
       "    [127.68060735717019, 38.0346694074116],\n",
       "    [127.68061549701636, 38.03466400904533],\n",
       "    [127.68070941829001, 38.03460068274096],\n",
       "    [127.6807119048299, 38.03459982153024],\n",
       "    [127.6807289739261, 38.03459803824307],\n",
       "    [127.68076969789709, 38.03459470388545],\n",
       "    [127.68132916735497, 38.03454755153696],\n",
       "    [127.68158518607889, 38.03415305287731],\n",
       "    [127.68263789485289, 38.034268022419575],\n",
       "    [127.68281975954355, 38.03445813095263],\n",
       "    [127.68282354323316, 38.03446204596575],\n",
       "    [127.6831270768996, 38.03477954805329],\n",
       "    [127.68321082251136, 38.0348671706588],\n",
       "    [127.68322411703657, 38.03488089538191],\n",
       "    [127.68361102353693, 38.034878092922575],\n",
       "    [127.68361421268216, 38.03487807442152],\n",
       "    [127.68363237942008, 38.03487796903003],\n",
       "    [127.68393296152539, 38.03487678340091],\n",
       "    [127.68393492057159, 38.03487677203067],\n",
       "    [127.68398189565329, 38.03487565253122],\n",
       "    [127.68437381887938, 38.03470530491783],\n",
       "    [127.68438693318801, 38.03469959812182],\n",
       "    [127.6844901013384, 38.03465479168264],\n",
       "    [127.6847084836419, 38.03455977520593],\n",
       "    [127.68589980664333, 38.034288495552374],\n",
       "    [127.68722895913133, 38.03433170642405],\n",
       "    [127.6893982246638, 38.03506734146055],\n",
       "    [127.69001063985039, 38.03529574787031],\n",
       "    [127.69017950989229, 38.03528546160296],\n",
       "    [127.69048663847084, 38.03526677042273],\n",
       "    [127.69051295863535, 38.03526521078541],\n",
       "    [127.6907632378053, 38.03525023038226],\n",
       "    [127.69083095429403, 38.035259968533914],\n",
       "    [127.69084289525115, 38.0352615832115],\n",
       "    [127.69112501028278, 38.035302442394666],\n",
       "    [127.69129899465956, 38.03540755691188],\n",
       "    [127.6913038276276, 38.0354103483771],\n",
       "    [127.69135394607812, 38.03544073900897],\n",
       "    [127.69136265221712, 38.035438714956406],\n",
       "    [127.69205216714725, 38.03523393776341],\n",
       "    [127.69249251380595, 38.03533242278579],\n",
       "    [127.69252746359253, 38.03534010026678],\n",
       "    [127.69263858185641, 38.035364780482354],\n",
       "    [127.69292440085236, 38.035364514489416],\n",
       "    [127.69297833445256, 38.035364476600485],\n",
       "    [127.69336969438555, 38.03536385906743],\n",
       "    [127.6937167504674, 38.035363789354705],\n",
       "    [127.69437715666935, 38.03556542194887],\n",
       "    [127.69455326183618, 38.03568713173045],\n",
       "    [127.69509840135404, 38.0360639800319],\n",
       "    [127.6951055679076, 38.03606900982461],\n",
       "    [127.69517722508603, 38.03611841588568],\n",
       "    [127.69518456241485, 38.036123435657004],\n",
       "    [127.6957450912228, 38.036621532357245],\n",
       "    [127.69602658249849, 38.03674628425108],\n",
       "    [127.69625982388855, 38.03684935663533],\n",
       "    [127.696300212461, 38.03686713597712],\n",
       "    [127.69716461935477, 38.03703206966494],\n",
       "    [127.69721432694193, 38.03705598273649],\n",
       "    [127.6972157587157, 38.037056821110625],\n",
       "    [127.69767223725256, 38.03727765051326],\n",
       "    [127.69817594020705, 38.037372928182556],\n",
       "    [127.69851424686509, 38.03761331926961],\n",
       "    [127.69859385221872, 38.03780626152237],\n",
       "    [127.69905892620473, 38.03795721478333],\n",
       "    [127.69944153728478, 38.03795269195763],\n",
       "    [127.70021936998069, 38.038200333064395],\n",
       "    [127.70058724964044, 38.03816182202184],\n",
       "    [127.70122807605787, 38.03787169511273],\n",
       "    [127.70179019088182, 38.03774588919025],\n",
       "    [127.70246180848538, 38.0374006623322],\n",
       "    [127.70298848072807, 38.037273647571915],\n",
       "    [127.70300784654549, 38.03726902753157],\n",
       "    [127.7030447811967, 38.0372600774423],\n",
       "    [127.70313889339766, 38.03723756094229],\n",
       "    [127.7031408471705, 38.03723699072537],\n",
       "    [127.70314759666056, 38.037235247747226],\n",
       "    [127.70378568740605, 38.03681083512796],\n",
       "    [127.70457144358123, 38.03654657198901],\n",
       "    [127.70479899678023, 38.03629661680498],\n",
       "    [127.70480463258785, 38.03629039391249],\n",
       "    [127.70483334401126, 38.0362589699553],\n",
       "    [127.70497969920469, 38.036097896389926],\n",
       "    [127.70509291040477, 38.03595025519796],\n",
       "    [127.70524970163808, 38.03574549727195],\n",
       "    [127.7052574409109, 38.035735315826116],\n",
       "    [127.70527537279267, 38.03571183915283],\n",
       "    [127.70566372174164, 38.03548936112702],\n",
       "    [127.70599472128778, 38.03539335143434],\n",
       "    [127.70600513099, 38.03538371249678],\n",
       "    [127.70600619360935, 38.03538286829294],\n",
       "    [127.70601977416727, 38.035370111259496],\n",
       "    [127.70641577476866, 38.03499920669029],\n",
       "    [127.70680058992029, 38.034779565912245],\n",
       "    [127.70730053497317, 38.03418703502588],\n",
       "    [127.70775761323044, 38.03378338992736],\n",
       "    [127.70778428991741, 38.03374550900423],\n",
       "    [127.70804166733218, 38.03337711620482],\n",
       "    [127.70815290307995, 38.033303537895875],\n",
       "    [127.70878192453206, 38.0328107382658],\n",
       "    [127.70883632165904, 38.032767897564014],\n",
       "    [127.70911683393382, 38.032548588313134],\n",
       "    [127.70919920751804, 38.032490660168655],\n",
       "    [127.70936431329474, 38.03237423398035],\n",
       "    [127.70939259708818, 38.03235436101685],\n",
       "    [127.7094290014596, 38.032328520240924],\n",
       "    [127.70988182905879, 38.0311534965764],\n",
       "    [127.71011987666833, 38.03059069317864],\n",
       "    [127.71059765067494, 38.030271371629965],\n",
       "    [127.71078393569849, 38.02980543749612],\n",
       "    [127.7109455517033, 38.02943903022178],\n",
       "    [127.71151497999934, 38.028290323318295],\n",
       "    [127.71163721239117, 38.027937675347424],\n",
       "    [127.71190252461452, 38.02721675753263],\n",
       "    [127.71217211965983, 38.02657070506146],\n",
       "    [127.71260478294167, 38.02582146768308],\n",
       "    [127.71301744909849, 38.02510275506585],\n",
       "    [127.71352749913576, 38.02393158628029],\n",
       "    [127.71439352515841, 38.02412735726021],\n",
       "    [127.71550075064792, 38.02402069349157],\n",
       "    [127.7156550406044, 38.02425962147679],\n",
       "    [127.71592820046945, 38.02468195325631],\n",
       "    [127.71653111990588, 38.02483031565163],\n",
       "    [127.71658067034035, 38.02480311343446],\n",
       "    [127.71704974390138, 38.02454562032411],\n",
       "    [127.71813127361354, 38.02472260166601],\n",
       "    [127.71892523138578, 38.024571643215005],\n",
       "    [127.71966412490244, 38.02475829498884],\n",
       "    [127.72019049876111, 38.02468651148042],\n",
       "    [127.72072968968301, 38.02461298055779],\n",
       "    [127.7208705261796, 38.02463886680009],\n",
       "    [127.72175583545013, 38.02480293392049],\n",
       "    [127.72219956337095, 38.02479905300802],\n",
       "    [127.72251205763679, 38.024796326519265],\n",
       "    [127.72325862880487, 38.02467547622373],\n",
       "    [127.7233530724095, 38.02472500459074],\n",
       "    [127.72377055834893, 38.02494372922608],\n",
       "    [127.72385069286567, 38.0249857504865],\n",
       "    [127.72404704734295, 38.024958985565576],\n",
       "    [127.72451710803583, 38.02489493411473],\n",
       "    [127.72476537889284, 38.024952254142356],\n",
       "    [127.72479783019175, 38.0249596581377],\n",
       "    [127.72538927315128, 38.02509593750903],\n",
       "    [127.72538655315043, 38.025110026319645],\n",
       "    [127.72538114434164, 38.02513905960406],\n",
       "    [127.72530006675011, 38.025580153081634],\n",
       "    [127.72552020314644, 38.02603262643334],\n",
       "    [127.72557274521787, 38.02605623081995],\n",
       "    [127.72615617325408, 38.026318969951646],\n",
       "    [127.7261604633256, 38.026320916484835],\n",
       "    [127.72617709275056, 38.02641934546532],\n",
       "    [127.72627766291694, 38.027017544993726],\n",
       "    [127.72641947463983, 38.027105913985984],\n",
       "    [127.7270518970656, 38.02750010315852],\n",
       "    [127.72717785093924, 38.0282529828202],\n",
       "    [127.72772555302225, 38.028679781111734],\n",
       "    [127.72817855275856, 38.02903227029917],\n",
       "    [127.7285056732126, 38.0292872929461],\n",
       "    [127.7286696224343, 38.02981358475487],\n",
       "    [127.72867328983934, 38.029825102599084],\n",
       "    [127.72873993700026, 38.030301608645864],\n",
       "    [127.72853275461814, 38.03112636606719],\n",
       "    [127.72870802807438, 38.03135866919832],\n",
       "    [127.72912531357086, 38.03191211375571],\n",
       "    [127.72912892571645, 38.03191687517816],\n",
       "    [127.72910741865415, 38.03197416131898],\n",
       "    [127.72892187660082, 38.03246714626676],\n",
       "    [127.72924555696916, 38.03280551208265],\n",
       "    [127.72982188247899, 38.0329193397804],\n",
       "    [127.7311785657403, 38.03311785586614],\n",
       "    [127.73208629627239, 38.03301875093118],\n",
       "    [127.73229739389653, 38.033916923590155],\n",
       "    [127.73254233435772, 38.034709327001245],\n",
       "    [127.73293164393422, 38.03534373307729],\n",
       "    [127.73276470601934, 38.03563136530164],\n",
       "    [127.73275736023533, 38.03564407762142],\n",
       "    [127.73374753570248, 38.03581442826917],\n",
       "    [127.73394342807516, 38.036076162376375],\n",
       "    [127.73415158053344, 38.036354144024045],\n",
       "    [127.73499405427589, 38.0367745658138],\n",
       "    [127.73531450700587, 38.03717515966212],\n",
       "    [127.73620036316267, 38.037197780621874],\n",
       "    [127.73688879700892, 38.037803835237405],\n",
       "    [127.73761390981211, 38.037876153328774],\n",
       "    [127.7380253472624, 38.03829699872592],\n",
       "    [127.73868709530674, 38.03822696882753],\n",
       "    [127.739647328096, 38.0379275939792],\n",
       "    [127.74019917491289, 38.03807896546927],\n",
       "    [127.74089079399879, 38.037936114130524],\n",
       "    [127.74119774806645, 38.03791166096269],\n",
       "    [127.74169078563277, 38.03787843208703],\n",
       "    [127.74232990989053, 38.03810751407157],\n",
       "    [127.7432660208762, 38.03792311715782],\n",
       "    [127.74390811027777, 38.03766906545791],\n",
       "    [127.74473315658024, 38.037697078089],\n",
       "    [127.74527957550517, 38.03801597291035],\n",
       "    [127.74542703225319, 38.0382357599127],\n",
       "    [127.74560991639618, 38.03850852951669],\n",
       "    [127.74562412467843, 38.03910444631812],\n",
       "    [127.74635212211805, 38.039353772531015],\n",
       "    [127.74673854304767, 38.03954839513734],\n",
       "    [127.74724773030914, 38.03945789665086],\n",
       "    [127.74723927787296, 38.038974835074086],\n",
       "    [127.74762723518113, 38.03854951954801],\n",
       "    [127.74758325727831, 38.03824997095481],\n",
       "    [127.74756106476413, 38.03809695921114],\n",
       "    [127.74803726184989, 38.037878279761095],\n",
       "    [127.74823777079472, 38.037362936343946],\n",
       "    [127.74852655242532, 38.03726678694547],\n",
       "    [127.74893647480786, 38.03693760640857],\n",
       "    [127.7488903611024, 38.03660316203535],\n",
       "    [127.74938292895703, 38.036384940636175],\n",
       "    [127.74985765005654, 38.03609334454879],\n",
       "    [127.75022158151097, 38.03544351643156],\n",
       "    [127.75087123088488, 38.035586052904456],\n",
       "    [127.75142274387527, 38.035215979347846],\n",
       "    [127.75209829601997, 38.03503711975641],\n",
       "    [127.75285718221839, 38.03510744361856],\n",
       "    [127.75367432852948, 38.03474861666804],\n",
       "    [127.75430493110113, 38.03490871541999],\n",
       "    [127.75491361651865, 38.03466691666049],\n",
       "    [127.75537762570015, 38.034790356441945],\n",
       "    [127.75584726613617, 38.034735263424594],\n",
       "    [127.75626496798027, 38.03461377246964],\n",
       "    [127.75680102264337, 38.03454416827209],\n",
       "    [127.75739960541658, 38.03474021271338],\n",
       "    [127.75771938185926, 38.03457993184661],\n",
       "    [127.75829530361013, 38.03475302745832],\n",
       "    [127.7584185974617, 38.03442031616395],\n",
       "    [127.758451506181, 38.03433197851658],\n",
       "    [127.75900618863993, 38.03424001020368],\n",
       "    [127.75916170092971, 38.03357993861321],\n",
       "    [127.75911207028518, 38.03294259407245],\n",
       "    [127.7596054313349, 38.032531478659585],\n",
       "    [127.7596323263308, 38.03185985714733],\n",
       "    [127.7604803525435, 38.03098135319059],\n",
       "    [127.76091472890498, 38.03058131562386],\n",
       "    [127.76091987373972, 38.03039012086049],\n",
       "    [127.7609338860637, 38.02985089696047],\n",
       "    [127.76195666209044, 38.029802620188],\n",
       "    [127.7624555641986, 38.029516735791844],\n",
       "    [127.7629811765116, 38.02961102643443],\n",
       "    [127.76357732083417, 38.02947175026762],\n",
       "    [127.76427790037417, 38.02917497433979],\n",
       "    [127.76451731643597, 38.02878490872228],\n",
       "    [127.76500850607495, 38.02885604439687],\n",
       "    [127.76533468160603, 38.028699647212186],\n",
       "    [127.76605571815348, 38.02886472631466],\n",
       "    [127.766494000105, 38.028673533980964],\n",
       "    [127.7674262861822, 38.02865225775195],\n",
       "    [127.76799596542892, 38.02822850192435],\n",
       "    [127.76880384170278, 38.0280523505573],\n",
       "    [127.7695823723402, 38.02823701476187],\n",
       "    [127.76999583218777, 38.02785143165961],\n",
       "    [127.77032244757258, 38.027465009552714],\n",
       "    [127.77028314643178, 38.02707618670356],\n",
       "    [127.77042676461402, 38.02668505068604],\n",
       "    [127.77097639701303, 38.026320816719185],\n",
       "    [127.77092531325806, 38.02555482002248],\n",
       "    [127.77119250081668, 38.02479631688223],\n",
       "    [127.77178024184919, 38.02460693726664],\n",
       "    [127.77184696703766, 38.02394321375751],\n",
       "    [127.77239453736793, 38.02328366310177],\n",
       "    [127.77292955435809, 38.02278550710609],\n",
       "    [127.77304471542679, 38.02205783453241],\n",
       "    [127.7736855252234, 38.02177322357383],\n",
       "    [127.77386150064757, 38.02124616827857],\n",
       "    [127.77395801124734, 38.0206424907504],\n",
       "    [127.77436464537816, 38.02032450431336],\n",
       "    [127.77443669447493, 38.01983191476753],\n",
       "    [127.77447449440025, 38.019262982873215],\n",
       "    [127.77440506463401, 38.01892165617625],\n",
       "    [127.77516802534164, 38.01857992801698],\n",
       "    [127.77515885451587, 38.017707521637234],\n",
       "    [127.77473961896088, 38.01733274822124],\n",
       "    [127.77469987440055, 38.01659765050365],\n",
       "    [127.77420570914055, 38.015966043807666],\n",
       "    [127.77361007449115, 38.015633533185984],\n",
       "    [127.77345223075841, 38.01524126370372],\n",
       "    [127.77334444502401, 38.014973674274714],\n",
       "    [127.77337061412749, 38.01431246734806],\n",
       "    [127.77363435866978, 38.013877745483164],\n",
       "    [127.77382011037555, 38.013572183742795],\n",
       "    [127.77510186401318, 38.01394410985342],\n",
       "    [127.77599099169834, 38.01389743776981],\n",
       "    [127.77653690166822, 38.013596823593495],\n",
       "    [127.77653868086756, 38.01359709114658],\n",
       "    [127.77680464554413, 38.013645455052796],\n",
       "    [127.77680679204794, 38.01364599945916],\n",
       "    [127.77821827512307, 38.01390161291595],\n",
       "    [127.77915619442254, 38.013656667006],\n",
       "    [127.77939339525108, 38.01310358549754],\n",
       "    [127.7797926176794, 38.01266259331674],\n",
       "    [127.78018826364726, 38.0118505788757],\n",
       "    [127.7802864788796, 38.0113806137577],\n",
       "    [127.78065560921533, 38.00961043179754],\n",
       "    [127.78134253994418, 38.00851916786749],\n",
       "    [127.78320720818232, 38.00649074464998],\n",
       "    [127.78427117803616, 38.0040903714095],\n",
       "    [127.78555176802035, 38.002759769272814],\n",
       "    [127.78554395529184, 38.0015244608924],\n",
       "    [127.78629620645448, 38.000868254351474],\n",
       "    [127.78636635723909, 38.00080697540405],\n",
       "    [127.78670442591847, 38.00051334040691],\n",
       "    [127.78660210248296, 37.99992646473472],\n",
       "    [127.78648991279556, 37.999281096171515],\n",
       "    [127.7869078857853, 37.99897481909824],\n",
       "    [127.78785254053219, 37.99828184899844],\n",
       "    [127.78749415083949, 37.997470054845856],\n",
       "    [127.78711718163704, 37.996615870007204],\n",
       "    [127.78667173299618, 37.995411356789184],\n",
       "    [127.78755259268321, 37.99727850196912],\n",
       "    [127.787751399024, 37.996805893466046],\n",
       "    [127.78775382895935, 37.99679996730715],\n",
       "    [127.78776459977557, 37.996642237510265],\n",
       "    [127.78785125850163, 37.99536265690703],\n",
       "    [127.78795259716964, 37.99505735738586],\n",
       "    [127.78820246524829, 37.99430343322837],\n",
       "    [127.78820556176866, 37.994293844937424],\n",
       "    [127.79020838435636, 37.99428746778407],\n",
       "    [127.79046557824338, 37.9942868689748],\n",
       "    [127.79068864882754, 37.9943867239018],\n",
       "    [127.79166667188616, 37.99482441023668],\n",
       "    [127.79199563266877, 37.99491285752916],\n",
       "    [127.79221941528687, 37.994980047052245],\n",
       "    [127.7946417376177, 37.995706134222345],\n",
       "    [127.79637122590896, 37.99680736018971],\n",
       "    [127.79771200772338, 37.99732447155446],\n",
       "    [127.7986841718929, 37.99777086835023],\n",
       "    [127.79912300410689, 37.99798438865017],\n",
       "    [127.79954825303041, 37.998191242705],\n",
       "    [127.80205357836861, 37.99966211699554],\n",
       "    [127.80300742378286, 38.000382530070226],\n",
       "    [127.8031656318471, 38.000501947213984],\n",
       "    [127.80317702524287, 38.00050271639996],\n",
       "    [127.80481962061783, 38.00059651742472],\n",
       "    [127.80630407100864, 38.000542449965046],\n",
       "    [127.80810895354959, 38.00073813933218],\n",
       "    [127.8085527550053, 38.00110699529292],\n",
       "    [127.80904681277202, 38.00151717109],\n",
       "    [127.80919519404446, 38.0016166655603],\n",
       "    [127.81163285275254, 38.00324854572259],\n",
       "    [127.81323534207009, 38.003666828828116],\n",
       "    [127.81562204521121, 38.00366834949924],\n",
       "    [127.81565015695595, 38.00366843417598],\n",
       "    [127.81568320962053, 38.00366539455683],\n",
       "    [127.81691516059061, 38.00355381466127],\n",
       "    [127.82031207811666, 38.003884663352444],\n",
       "    [127.82134844835407, 38.00352693964832],\n",
       "    [127.82245779547411, 38.00295022947247],\n",
       "    [127.824955653371, 38.001153770855794],\n",
       "    [127.8254067364903, 38.00105348578888],\n",
       "    [127.82570392498513, 38.00103141254631],\n",
       "    [127.82621618200086, 38.00099347030378],\n",
       "    [127.82701988976292, 38.000802588909764],\n",
       "    [127.82710008771745, 38.00078344042096],\n",
       "    [127.82715943467498, 38.00163409396796],\n",
       "    [127.8279106684626, 38.00253647311368],\n",
       "    [127.82793771178473, 38.00256921993763],\n",
       "    [127.82797486064402, 38.00261372453964],\n",
       "    [127.82846987637465, 38.0029081089622],\n",
       "    [127.82895699825842, 38.003197754027454],\n",
       "    [127.82852230876783, 38.00586634442304],\n",
       "    [127.83037515864092, 38.0083774988258],\n",
       "    [127.83199470283573, 38.008616918908345],\n",
       "    [127.83353783334273, 38.00879998362555],\n",
       "    [127.83356954066278, 38.00880370522257],\n",
       "    [127.83512698574738, 38.00962178029795],\n",
       "    [127.8355076022786, 38.00989442284642],\n",
       "    [127.83705378627667, 38.011002523584125],\n",
       "    [127.83705629896838, 38.01100419941742],\n",
       "    [127.83708931253693, 38.011059703337374],\n",
       "    [127.83774596060583, 38.012167643247004],\n",
       "    [127.83980912200053, 38.01382524296195],\n",
       "    [127.8399620948126, 38.01385315222508],\n",
       "    [127.84192440268293, 38.01421104363759],\n",
       "    [127.84423369359543, 38.014415516043705],\n",
       "    [127.8464012263364, 38.01414180214958],\n",
       "    [127.84740067568947, 38.014316489973375],\n",
       "    [127.8482280294938, 38.01524492666521],\n",
       "    [127.84917592158843, 38.01610155195808],\n",
       "    [127.84984800985809, 38.01670847630853],\n",
       "    [127.85095363679969, 38.01682915174052],\n",
       "    [127.8522295795836, 38.01696857559629],\n",
       "    [127.85244275944073, 38.017032059766265],\n",
       "    [127.8558611915174, 38.01798503246717],\n",
       "    [127.85695840498012, 38.018267026589676],\n",
       "    [127.8575387707536, 38.018415955207914],\n",
       "    [127.85756589957279, 38.018423081987535],\n",
       "    [127.8576075401038, 38.01845402186281],\n",
       "    [127.85810008725723, 38.01882318905],\n",
       "    [127.8550088101534, 38.0231319509386],\n",
       "    [127.85480573785162, 38.023635384870616],\n",
       "    [127.8541505145203, 38.02526146753384],\n",
       "    [127.85415418553185, 38.02640670196508],\n",
       "    [127.85559357507364, 38.02862315569353],\n",
       "    [127.85552524314394, 38.02865490400683],\n",
       "    [127.85081475319828, 38.030849473100474],\n",
       "    [127.85081483442526, 38.0308565084887],\n",
       "    [127.85081948090057, 38.03122837258614],\n",
       "    [127.85082150138103, 38.031372789159136],\n",
       "    [127.85082561492881, 38.03169848630976],\n",
       "    [127.85048943053378, 38.032607158441564],\n",
       "    [127.84967761026952, 38.033477307032975],\n",
       "    [127.84972000196161, 38.034375929952304],\n",
       "    [127.84938804052618, 38.035282595225404],\n",
       "    [127.84938158019924, 38.035309101025845],\n",
       "    [127.8492799596336, 38.03572649656949],\n",
       "    [127.84918648556915, 38.036263769067645],\n",
       "    [127.84939666416449, 38.03661753844219],\n",
       "    [127.84965656831744, 38.03705456952545],\n",
       "    [127.85009889265123, 38.037783352698966],\n",
       "    [127.84998445340656, 38.03881738463321],\n",
       "    [127.84996624162807, 38.03970714677029],\n",
       "    [127.8499612795929, 38.039956333207655],\n",
       "    [127.84996101743991, 38.03996421790234],\n",
       "    [127.85047231685105, 38.04065280814784],\n",
       "    [127.85175288194401, 38.04217197060404],\n",
       "    [127.85128464045951, 38.04250052369205],\n",
       "    [127.85122637605448, 38.04254120564503],\n",
       "    [127.85122285145579, 38.04254376262359],\n",
       "    [127.85117932652958, 38.04284362353868],\n",
       "    [127.85115569747533, 38.04314108841142],\n",
       "    [127.85122675915818, 38.04340633772901],\n",
       "    [127.85167743029572, 38.04377441791365],\n",
       "    [127.85161565051901, 38.044127905840305],\n",
       "    [127.85138747754156, 38.04523793067476],\n",
       "    [127.85120094257606, 38.04554614044248],\n",
       "    [127.85126310120278, 38.04568842831793],\n",
       "    [127.85143681071452, 38.04608694289476],\n",
       "    [127.85146570336127, 38.04615317470306],\n",
       "    [127.8518983029282, 38.046405106483],\n",
       "    [127.85190759184512, 38.0464379848632],\n",
       "    [127.85194435998608, 38.04656947415119],\n",
       "    [127.85197814527868, 38.046690282422034],\n",
       "    [127.85267139892325, 38.04796030458268],\n",
       "    [127.85304990122461, 38.048303847794045],\n",
       "    [127.85305067270774, 38.04830947277035],\n",
       "    [127.85311575753046, 38.04870286154064],\n",
       "    [127.85341448285482, 38.050517963705104],\n",
       "    [127.85515517661901, 38.05230429634678],\n",
       "    [127.85515985734106, 38.05230904608115],\n",
       "    [127.85913265935363, 38.04997751050195],\n",
       "    [127.86078322326408, 38.04998122322982],\n",
       "    [127.86256284270115, 38.050153172659016],\n",
       "    [127.86271997996903, 38.05016468811928],\n",
       "    [127.86428924460417, 38.050279585366674],\n",
       "    [127.86564401709806, 38.0502592204334],\n",
       "    [127.86724595902719, 38.05024518197882],\n",
       "    [127.86773250244016, 38.049871674800585],\n",
       "    [127.86802287891346, 38.04964852868395],\n",
       "    [127.86859906824272, 38.04957108301543],\n",
       "    [127.86965087605037, 38.04919001897803],\n",
       "    [127.87027518714562, 38.04923833422668],\n",
       "    [127.87058377407416, 38.04926223320718],\n",
       "    [127.87169197220209, 38.04874362774548],\n",
       "    [127.8719773432538, 38.04861003931254],\n",
       "    [127.87233069014545, 38.048445541671846],\n",
       "    [127.87274435444394, 38.048803679249254],\n",
       "    [127.8727634188622, 38.04882042963277],\n",
       "    [127.87434103292881, 38.049130227397406],\n",
       "    [127.87458759936709, 38.04917710755412],\n",
       "    [127.87484022827206, 38.04922505925713],\n",
       "    [127.87625472981983, 38.0484817235883],\n",
       "    [127.87669190934257, 38.04827183290499],\n",
       "    [127.8780044818877, 38.04764127856256],\n",
       "    [127.87899704620055, 38.04734362576022],\n",
       "    [127.88020993121916, 38.04763917498909],\n",
       "    [127.88255662215096, 38.04801547096111],\n",
       "    [127.88266005589097, 38.04803186667963],\n",
       "    [127.88313986864165, 38.048261941856914],\n",
       "    [127.88468224173373, 38.049013579574044],\n",
       "    [127.88637497003376, 38.049447078655604],\n",
       "    [127.88827414245563, 38.05017064965964],\n",
       "    [127.89039439840667, 38.05012479965457],\n",
       "    [127.89503373843756, 38.0510943979216],\n",
       "    [127.8977894078039, 38.050863964157635],\n",
       "    [127.89946548158316, 38.04992438569645],\n",
       "    [127.90118516563928, 38.05039856345704],\n",
       "    [127.90266929332404, 38.05065070546899],\n",
       "    [127.902672206586, 38.05059746773689],\n",
       "    [127.90276629290008, 38.048950375095835],\n",
       "    [127.90395610564943, 38.04634134035237],\n",
       "    [127.90403653385322, 38.04616504983608],\n",
       "    [127.90364288784187, 38.04437361976681],\n",
       "    [127.90365889401166, 38.04341460973345],\n",
       "    [127.90371307600216, 38.04185425193719],\n",
       "    [127.90263236559763, 38.040609467496445],\n",
       "    [127.90201636033063, 38.03870486174324],\n",
       "    [127.90186133244879, 38.0382249202957],\n",
       "    [127.90186628320953, 38.038221783324495],\n",
       "    [127.9027539655269, 38.03763418793788],\n",
       "    [127.90275428074136, 38.0376310954722],\n",
       "    [127.90287985825789, 38.03669573962052],\n",
       "    [127.90285781986948, 38.036436623660094],\n",
       "    [127.90283327470956, 38.036147680439925],\n",
       "    [127.90269511451895, 38.03532920950607],\n",
       "    [127.90254525929309, 38.03474871679011],\n",
       "    [127.90400141416092, 38.033383403368454],\n",
       "    [127.90404152228935, 38.03334565452412],\n",
       "    [127.90389470708604, 38.0331285949613],\n",
       "    [127.90381313975546, 38.03300760085604],\n",
       "    [127.90370416399115, 38.0319873326364],\n",
       "    [127.90390424820237, 38.03146919989604],\n",
       "    [127.90399911776639, 38.03122354680059],\n",
       "    [127.90400153555646, 38.03118945658523],\n",
       "    [127.9040266397689, 38.03085536704554],\n",
       "    [127.9040664689921, 38.030330851429845],\n",
       "    [127.90457057475719, 38.029760555086966],\n",
       "    [127.90632980763824, 38.02842272168161],\n",
       "    [127.90656077511765, 38.02816109130031],\n",
       "    [127.90748501589376, 38.027114562345886],\n",
       "    [127.90759272626458, 38.02704645388551],\n",
       "    [127.90983805649357, 38.02562684004374],\n",
       "    [127.90985535853355, 38.02558644559083],\n",
       "    [127.91026697114977, 38.02462269062713],\n",
       "    [127.91138070016746, 38.02411493036913],\n",
       "    [127.91245270404072, 38.02368771616325],\n",
       "    [127.9126315205693, 38.023528107301814],\n",
       "    [127.91337951837961, 38.02286100121275],\n",
       "    [127.91354633966397, 38.02279608650413],\n",
       "    [127.91514968649805, 38.02217131307515],\n",
       "    [127.91626792228045, 38.02220400598912],\n",
       "    [127.9164703801721, 38.02208559429931],\n",
       "    [127.91721654515605, 38.0216476376797],\n",
       "    [127.91777426540969, 38.02128040536439],\n",
       "    [127.9177795638739, 38.02127698573754],\n",
       "    [127.91825171405489, 38.02106835304817],\n",
       "    [127.91882862928753, 38.02107144833483],\n",
       "    [127.9192268884693, 38.021073692046826],\n",
       "    [127.91940768731405, 38.021050037858714],\n",
       "    [127.91961131607634, 38.021023394363986],\n",
       "    [127.91993926046123, 38.02098058157415],\n",
       "    [127.92043780999217, 38.02077821133833],\n",
       "    [127.92093490897511, 38.0204891306169],\n",
       "    [127.92105808151746, 38.020491834079955],\n",
       "    [127.9211213061384, 38.02048805138759],\n",
       "    [127.92117721369392, 38.02048470426334],\n",
       "    [127.9216976719709, 38.020270896217106],\n",
       "    [127.92195746632046, 38.020242674007356],\n",
       "    [127.92223476126162, 38.0201059370688],\n",
       "    [127.92244111700201, 38.02007363676822],\n",
       "    [127.92281150158105, 38.02003835737746],\n",
       "    [127.92292333855696, 38.02004621070801],\n",
       "    [127.92322573540366, 38.02006720083536],\n",
       "    [127.92380267206678, 38.0202988815259],\n",
       "    [127.924046682008, 38.02017619402708],\n",
       "    [127.92429988864826, 38.02004865012309],\n",
       "    [127.92441754329246, 38.019980997798505],\n",
       "    [127.92467597525075, 38.020015004780085],\n",
       "    [127.92484815189222, 38.02003786884889],\n",
       "    [127.9249965622117, 38.019981803129504],\n",
       "    [127.92515418749826, 38.01992229551087],\n",
       "    [127.92531781903696, 38.01986047025104],\n",
       "    [127.92550689638708, 38.019614059587596],\n",
       "    [127.92599965786299, 38.01926474907644],\n",
       "    [127.92626915698084, 38.01907401052286],\n",
       "    [127.92668388690967, 38.01891619144952],\n",
       "    [127.92707441082229, 38.018955342936536],\n",
       "    [127.92728035644862, 38.01897596469843],\n",
       "    [127.92734129952667, 38.01898195327292],\n",
       "    [127.92758055111221, 38.01901949224809],\n",
       "    [127.92826952801028, 38.018992668036624],\n",
       "    [127.92828411856384, 38.01899198548121],\n",
       "    [127.92865474552302, 38.01897751438803],\n",
       "    [127.92881751899178, 38.018932042196326],\n",
       "    [127.92890510317663, 38.018907703102784],\n",
       "    [127.92919624537706, 38.018826578672545],\n",
       "    [127.92927992819871, 38.0186888119598],\n",
       "    [127.9294169348547, 38.018463075895774],\n",
       "    [127.92957053568769, 38.018453413365236],\n",
       "    [127.92991118544042, 38.01843158040795],\n",
       "    [127.92998421214494, 38.01826799673069],\n",
       "    [127.93065260167825, 38.01802004447553],\n",
       "    [127.93099877261358, 38.01795677785166],\n",
       "    [127.93136665262452, 38.01789389709714],\n",
       "    [127.9315031557065, 38.01776951274999],\n",
       "    [127.93196473335104, 38.01734919956847],\n",
       "    [127.93222147537973, 38.01725004278399],\n",
       "    [127.93227176957711, 38.01723078005815],\n",
       "    [127.93230653899488, 38.01719502778253],\n",
       "    [127.93282362583307, 38.01666250737387],\n",
       "    [127.93359891068805, 38.016090218074595],\n",
       "    [127.9336398041452, 38.01605976815039],\n",
       "    [127.9342536017124, 38.01560670809411],\n",
       "    [127.93425501424628, 38.015605850052815],\n",
       "    [127.93448600694116, 38.01549731611738],\n",
       "    [127.93452613868345, 38.01512566867804],\n",
       "    [127.93435554307511, 38.01477763875605],\n",
       "    [127.93453063634648, 38.01421657136645],\n",
       "    [127.93446614246321, 38.01381788039798],\n",
       "    [127.93578974470509, 38.0140593419289],\n",
       "    [127.93652235476469, 38.01419315708335],\n",
       "    [127.93659638446582, 38.0141942530968],\n",
       "    [127.9381969313673, 38.01421896486495],\n",
       "    [127.94042908679972, 38.015050811013374],\n",
       "    [127.94333212279582, 38.016721259630124],\n",
       "    [127.94492692564927, 38.018374841730676],\n",
       "    [127.94500571911166, 38.01852511751358],\n",
       "    [127.94538911384963, 38.01925710319734],\n",
       "    [127.94550585106732, 38.019479982990184],\n",
       "    [127.94584901936399, 38.0201531736032],\n",
       "    [127.94605345141099, 38.02055384162345],\n",
       "    [127.94606403521675, 38.02057458515824],\n",
       "    [127.94655547720731, 38.0214872908495],\n",
       "    [127.94714390806865, 38.0225793920419],\n",
       "    [127.94686082614125, 38.025836694991085],\n",
       "    [127.94642886392415, 38.02914191222574],\n",
       "    [127.94701221155135, 38.0313294871981],\n",
       "    [127.94772880434301, 38.03257964016093],\n",
       "    [127.94861245066446, 38.03412117694539],\n",
       "    [127.94991909942497, 38.03619055675227],\n",
       "    [127.95084627269289, 38.03725851578413],\n",
       "    [127.95175152802516, 38.03820079056222],\n",
       "    [127.95244099204311, 38.038473364503915],\n",
       "    [127.95260556531335, 38.03853847359767],\n",
       "    [127.95263762979467, 38.038540187140434],\n",
       "    [127.95542737502667, 38.03868171736066],\n",
       "    [127.95590466840031, 38.0385137114077],\n",
       "    [127.9576229630839, 38.03783422088294],\n",
       "    [127.96300642963804, 38.03486158360556],\n",
       "    [127.96511247831491, 38.032954742766],\n",
       "    [127.96610829676645, 38.032053006400886],\n",
       "    [127.96627473417841, 38.031986894134036],\n",
       "    [127.96719889482475, 38.03162035826678],\n",
       "    [127.96901957554938, 38.03089820379819],\n",
       "    [127.97248808402934, 38.030548670315774],\n",
       "    [127.97778405579533, 38.02957069607396],\n",
       "    [127.98146293456551, 38.02837570630078],\n",
       "    [127.982983554932, 38.02788161669159],\n",
       "    [127.98403492131338, 38.02744089727252],\n",
       "    [127.98410110830731, 38.02741314644181],\n",
       "    [127.98543059240383, 38.026855821747716],\n",
       "    [127.98594586696134, 38.02637094938599],\n",
       "    [127.98685758773927, 38.025512543216955],\n",
       "    [127.98747602143902, 38.024202191925056],\n",
       "    [127.98750852268266, 38.02413238001604],\n",
       "    [127.98753448268023, 38.024076703795856],\n",
       "    [127.9875524399511, 38.02403658090686],\n",
       "    [127.98755340001215, 38.02394845721984],\n",
       "    [127.98755370234097, 38.02391832906452],\n",
       "    [127.98755637805687, 38.02369223834699],\n",
       "    [127.98756642555725, 38.02263614466783],\n",
       "    [127.9875602340632, 38.02259988187649],\n",
       "    [127.98744051734822, 38.02189847393017],\n",
       "    [127.9871566910838, 38.02023731298021],\n",
       "    [127.98713027138004, 38.02009789705122],\n",
       "    [127.98583041893198, 38.01774114722553],\n",
       "    [127.98397357885688, 38.014518545166126],\n",
       "    [127.98365738274269, 38.01223658961119],\n",
       "    [127.98382080231549, 38.01029691923095],\n",
       "    [127.98477963748738, 38.00826358323066],\n",
       "    [127.9856894153078, 38.00719603264679],\n",
       "    [127.98817189806883, 38.005018440780226],\n",
       "    [127.98938052870336, 38.00379687841473],\n",
       "    [127.99110002988681, 38.00265490567964],\n",
       "    [127.99213072402954, 38.00217776612216],\n",
       "    [127.9933254760343, 38.00162463150062],\n",
       "    [127.9940056175805, 38.00164226261572],\n",
       "    [127.99579151485145, 38.00173865331491],\n",
       "    [127.9966625615834, 38.00213950543198],\n",
       "    [127.99667401772331, 38.00214475976782],\n",
       "    [127.99797420710956, 38.002734246465],\n",
       "    [128.00064653490827, 38.00527825680298],\n",
       "    [128.0032207273326, 38.009042066584584],\n",
       "    [128.00328571277205, 38.00913694396226],\n",
       "    [128.00474547042907, 38.01155238913763],\n",
       "    [128.004942051731, 38.01187757148927],\n",
       "    [128.00508239039567, 38.01214889202232],\n",
       "    [128.00553335390867, 38.01301917247042],\n",
       "    [128.00590576952624, 38.01373839470766],\n",
       "    [128.0077354258954, 38.01573791711767],\n",
       "    [128.0095062401455, 38.01693923440934],\n",
       "    [128.0129573068412, 38.01900893264759],\n",
       "    [128.0143209604586, 38.01931729729234],\n",
       "    [128.01663327173108, 38.019515542989595],\n",
       "    [128.0195396608733, 38.01951518137325],\n",
       "    [128.02143109704306, 38.01974626340971],\n",
       "    [128.02333422102956, 38.019793081692995],\n",
       "    [128.0249422422097, 38.01952544400579],\n",
       "    [128.0266722332594, 38.01779672149162],\n",
       "    [128.02775769398346, 38.01662989632608],\n",
       "    [128.02825870301092, 38.01609118129343],\n",
       "    [128.028780491069, 38.015359448315294],\n",
       "    [128.0295449581258, 38.01470497754296],\n",
       "    [128.02960825528916, 38.01465092963764],\n",
       "    [128.02960718459667, 38.01465009216749],\n",
       "    [128.02912742792319, 38.014211446990096],\n",
       "    [128.02779165372397, 38.0135015581547],\n",
       "    [128.0266697254975, 38.01291592269577],\n",
       "    [128.02643692952523, 38.01262854271342],\n",
       "    [128.02615787825658, 38.012214873855854],\n",
       "    [128.0257063450869, 38.011883795334874],\n",
       "    [128.0250815098806, 38.01170483361294],\n",
       "    [128.0244167454077, 38.01108506141856],\n",
       "    [128.02447208981667, 38.0108683675291],\n",
       "    [128.02459663428615, 38.010382499655],\n",
       "    [128.02481883845135, 38.01006215733619],\n",
       "    [128.0249419558844, 38.0095754546373],\n",
       "    [128.02422613863595, 38.00858310464755],\n",
       "    [128.02386636312565, 38.00840127217012],\n",
       "    [128.02374058529165, 38.008337609922],\n",
       "    [128.0228206116289, 38.008220893742816],\n",
       "    [128.02262835215546, 38.007981576380786],\n",
       "    [128.02148519261456, 38.00775528481253],\n",
       "    [128.0201985986673, 38.00762764648271],\n",
       "    [128.01958795764463, 38.007365767796045],\n",
       "    [128.01979504855075, 38.00669760730795],\n",
       "    [128.0199667326921, 38.006144318751204],\n",
       "    [128.01953327339595, 38.004054078457884],\n",
       "    [128.01910353033875, 38.00194747046829],\n",
       "    [128.01878207411983, 38.0005696420739],\n",
       "    [128.01856623642303, 38.00034600777918],\n",
       "    [128.01785773390998, 37.999612558385095],\n",
       "    [128.0169210330846, 37.99907420730434],\n",
       "    [128.01634292651082, 37.998843272808365],\n",
       "    [128.01643738504458, 37.998365834073354],\n",
       "    [128.0164806808874, 37.9979198002958],\n",
       "    [128.01650216550468, 37.99769692443673],\n",
       "    [128.01637152998367, 37.997434262837416],\n",
       "    [128.01618679147393, 37.99729762460775],\n",
       "    [128.01530044556836, 37.99664143101178],\n",
       "    [128.01400638840641, 37.996447905929266],\n",
       "    [128.01342767031238, 37.99637743730898],\n",
       "    [128.01091598063923, 37.99645222772453],\n",
       "    [128.00886519895136, 37.996125788846115],\n",
       "    [128.00663577208113, 37.99644581418556],\n",
       "    [128.00488156153108, 37.99540281635544],\n",
       "    [128.0034307418607, 37.99563308283459],\n",
       "    [128.0012349942572, 37.99314110659806],\n",
       "    [128.00024389078646, 37.9922753847579],\n",
       "    [127.99960210821514, 37.99137994302667],\n",
       "    [127.99865668870589, 37.99102168736173],\n",
       "    [127.9978053460915, 37.99088363350275],\n",
       "    [127.99732211193029, 37.99050400076923],\n",
       "    [127.99649256458648, 37.990294249155575],\n",
       "    [127.99583085373321, 37.9905017346129],\n",
       "    [127.99478730462141, 37.99082892676639],\n",
       "    [127.99301936706784, 37.99080640296543],\n",
       "    [127.99156474624624, 37.99104134769232],\n",
       "    [127.99041718583275, 37.99046063038324],\n",
       "    [127.98828821194104, 37.98905792369564],\n",
       "    [127.98805097299234, 37.98879415099293],\n",
       "    [127.98740736395146, 37.988945654147045],\n",
       "    [127.98621517143498, 37.98922619696866],\n",
       "    [127.9855659502093, 37.98938421446599],\n",
       "    [127.9854517302158, 37.989407980608306],\n",
       "    [127.98362339719479, 37.98906796811519],\n",
       "    [127.98367642506712, 37.989016282621925],\n",
       "    [127.98402477603652, 37.9887571867465],\n",
       "    [127.98415498822246, 37.98766489431105],\n",
       "    [127.98416541772895, 37.98671351981133],\n",
       "    [127.98415791026547, 37.98671049247427],\n",
       "    [127.98373445723456, 37.98653863484495],\n",
       "    [127.98258951407661, 37.985316220993575],\n",
       "    [127.98230219289039, 37.98516292505447],\n",
       "    [127.98186535292444, 37.98446471793843],\n",
       "    [127.98179276392088, 37.98350024223431],\n",
       "    [127.98261434673975, 37.98253338342777],\n",
       "    [127.98287550071213, 37.98192422864082],\n",
       "    [127.98293827722729, 37.981777589131944],\n",
       "    [127.98368539832157, 37.98077727225535],\n",
       "    [127.98459678631274, 37.98022687090843],\n",
       "    [127.98475434747951, 37.980039465592355],\n",
       "    [127.98458521442831, 37.97895924055586],\n",
       "    [127.98428271087447, 37.97702569552843],\n",
       "    [127.98486401000801, 37.97530350996423],\n",
       "    [127.98450211654583, 37.97478204364118],\n",
       "    [127.9837083261388, 37.97430416480426],\n",
       "    [127.98317131518994, 37.973424366402185],\n",
       "    [127.98278784186581, 37.9728301652802],\n",
       "    [127.98236725613076, 37.97198570665897],\n",
       "    [127.98250876313931, 37.97158136762839],\n",
       "    ...]]]}"
      ]
     },
     "execution_count": 3,
     "metadata": {},
     "output_type": "execute_result"
    }
   ],
   "source": [
    "geo['features'][0]['geometry']"
   ]
  },
  {
   "cell_type": "code",
   "execution_count": 4,
   "id": "2c76102f-a203-4886-9f59-8ef7555482ca",
   "metadata": {},
   "outputs": [],
   "source": [
    "import pandas as pd"
   ]
  },
  {
   "cell_type": "code",
   "execution_count": 5,
   "id": "53253b9c-97b5-4edf-8527-aac8a44b7852",
   "metadata": {},
   "outputs": [
    {
     "data": {
      "text/html": [
       "<div>\n",
       "<style scoped>\n",
       "    .dataframe tbody tr th:only-of-type {\n",
       "        vertical-align: middle;\n",
       "    }\n",
       "\n",
       "    .dataframe tbody tr th {\n",
       "        vertical-align: top;\n",
       "    }\n",
       "\n",
       "    .dataframe thead th {\n",
       "        text-align: right;\n",
       "    }\n",
       "</style>\n",
       "<table border=\"1\" class=\"dataframe\">\n",
       "  <thead>\n",
       "    <tr style=\"text-align: right;\">\n",
       "      <th></th>\n",
       "      <th>code</th>\n",
       "      <th>region</th>\n",
       "      <th>pop</th>\n",
       "    </tr>\n",
       "  </thead>\n",
       "  <tbody>\n",
       "    <tr>\n",
       "      <th>0</th>\n",
       "      <td>11</td>\n",
       "      <td>서울특별시</td>\n",
       "      <td>9509458</td>\n",
       "    </tr>\n",
       "    <tr>\n",
       "      <th>1</th>\n",
       "      <td>11110</td>\n",
       "      <td>종로구</td>\n",
       "      <td>144683</td>\n",
       "    </tr>\n",
       "    <tr>\n",
       "      <th>2</th>\n",
       "      <td>11140</td>\n",
       "      <td>중구</td>\n",
       "      <td>122499</td>\n",
       "    </tr>\n",
       "    <tr>\n",
       "      <th>3</th>\n",
       "      <td>11170</td>\n",
       "      <td>용산구</td>\n",
       "      <td>222953</td>\n",
       "    </tr>\n",
       "    <tr>\n",
       "      <th>4</th>\n",
       "      <td>11200</td>\n",
       "      <td>성동구</td>\n",
       "      <td>285990</td>\n",
       "    </tr>\n",
       "  </tbody>\n",
       "</table>\n",
       "</div>"
      ],
      "text/plain": [
       "    code region      pop\n",
       "0     11  서울특별시  9509458\n",
       "1  11110    종로구   144683\n",
       "2  11140     중구   122499\n",
       "3  11170    용산구   222953\n",
       "4  11200    성동구   285990"
      ]
     },
     "execution_count": 5,
     "metadata": {},
     "output_type": "execute_result"
    }
   ],
   "source": [
    "df_pop = pd.read_csv('Population_SIG.csv')\n",
    "df_pop.head()"
   ]
  },
  {
   "cell_type": "code",
   "execution_count": 6,
   "id": "e0559310-08cb-49dc-8c62-dbf48f3e2090",
   "metadata": {},
   "outputs": [
    {
     "name": "stdout",
     "output_type": "stream",
     "text": [
      "<class 'pandas.core.frame.DataFrame'>\n",
      "RangeIndex: 278 entries, 0 to 277\n",
      "Data columns (total 3 columns):\n",
      " #   Column  Non-Null Count  Dtype \n",
      "---  ------  --------------  ----- \n",
      " 0   code    278 non-null    int64 \n",
      " 1   region  278 non-null    object\n",
      " 2   pop     278 non-null    int64 \n",
      "dtypes: int64(2), object(1)\n",
      "memory usage: 6.6+ KB\n"
     ]
    }
   ],
   "source": [
    "df_pop.info()"
   ]
  },
  {
   "cell_type": "code",
   "execution_count": 7,
   "id": "cbf363cd-2675-4d75-8f30-8614eb8b2689",
   "metadata": {},
   "outputs": [
    {
     "data": {
      "text/plain": [
       "0         11\n",
       "1      11110\n",
       "2      11140\n",
       "3      11170\n",
       "4      11200\n",
       "       ...  \n",
       "273    48880\n",
       "274    48890\n",
       "275       50\n",
       "276    50110\n",
       "277    50130\n",
       "Name: code, Length: 278, dtype: object"
      ]
     },
     "execution_count": 7,
     "metadata": {},
     "output_type": "execute_result"
    }
   ],
   "source": [
    "df_pop['code'] = df_pop['code'].astype('str')\n",
    "df_pop['code']"
   ]
  },
  {
   "cell_type": "code",
   "execution_count": 13,
   "id": "dc75cabb-53a2-4b05-a4ad-281c547fd7d8",
   "metadata": {
    "collapsed": true,
    "jupyter": {
     "outputs_hidden": true
    },
    "tags": []
   },
   "outputs": [
    {
     "name": "stdout",
     "output_type": "stream",
     "text": [
      "Collecting folium\n",
      "  Using cached folium-0.12.1.post1-py2.py3-none-any.whl (95 kB)\n",
      "Requirement already satisfied: jinja2>=2.9 in c:\\users\\admin\\anaconda3\\lib\\site-packages (from folium) (2.11.3)\n",
      "Collecting branca>=0.3.0\n",
      "  Using cached branca-0.5.0-py3-none-any.whl (24 kB)\n",
      "Requirement already satisfied: numpy in c:\\users\\admin\\anaconda3\\lib\\site-packages (from folium) (1.21.5)\n",
      "Requirement already satisfied: requests in c:\\users\\admin\\anaconda3\\lib\\site-packages (from folium) (2.27.1)\n",
      "Requirement already satisfied: MarkupSafe>=0.23 in c:\\users\\admin\\anaconda3\\lib\\site-packages (from jinja2>=2.9->folium) (2.0.1)\n",
      "Requirement already satisfied: certifi>=2017.4.17 in c:\\users\\admin\\anaconda3\\lib\\site-packages (from requests->folium) (2021.10.8)\n",
      "Requirement already satisfied: charset-normalizer~=2.0.0 in c:\\users\\admin\\anaconda3\\lib\\site-packages (from requests->folium) (2.0.4)\n",
      "Requirement already satisfied: urllib3<1.27,>=1.21.1 in c:\\users\\admin\\anaconda3\\lib\\site-packages (from requests->folium) (1.26.9)\n",
      "Requirement already satisfied: idna<4,>=2.5 in c:\\users\\admin\\anaconda3\\lib\\site-packages (from requests->folium) (3.3)\n",
      "Installing collected packages: branca, folium\n",
      "Successfully installed branca-0.5.0 folium-0.12.1.post1\n",
      "Note: you may need to restart the kernel to use updated packages.\n"
     ]
    }
   ],
   "source": [
    "pip install folium"
   ]
  },
  {
   "cell_type": "code",
   "execution_count": 14,
   "id": "941b5a23-c7ff-4618-8afc-53c2c02d226b",
   "metadata": {},
   "outputs": [],
   "source": [
    "import folium"
   ]
  },
  {
   "cell_type": "markdown",
   "id": "cab0168c-306f-47f1-835b-30a2c906cefe",
   "metadata": {
    "tags": []
   },
   "source": [
    "map_sig = folium.Map(location=[35.95, 127.7], zoom_start=7, tiles='cartodb positron')"
   ]
  },
  {
   "cell_type": "markdown",
   "id": "9b607b87-b4d3-469b-832c-828394b01bef",
   "metadata": {
    "tags": []
   },
   "source": [
    "bins = list(df_pop['pop'].quantile([0, 0.2, 0.4, 0.6, 0.8, 1]))\n",
    "folium.Choropleth(geo_data= geo, data = df_pop, columns = ('code','pop'),\n",
    "                  key_on = 'feature.properties.SIG_CD',\n",
    "                 fill_color=\"YlGnBu\",\n",
    "                 fill_opacity=1,\n",
    "                 line_opacity=0.5,\n",
    "                 bins=bins).add_to(map_sig)\n",
    "map_sig"
   ]
  },
  {
   "cell_type": "code",
   "execution_count": 27,
   "id": "17c5a300-20f7-452a-b8e9-89bad24ac358",
   "metadata": {},
   "outputs": [],
   "source": [
    "import json\n",
    "geo_seoul = json.load(open('EMD_Seoul.geojson', encoding = 'UTF-8'))"
   ]
  },
  {
   "cell_type": "code",
   "execution_count": 28,
   "id": "70c4593a-9fd4-4d00-ab67-b0f25a3a5366",
   "metadata": {},
   "outputs": [
    {
     "data": {
      "text/plain": [
       "{'BASE_DATE': '20200630',\n",
       " 'ADM_DR_CD': '1101053',\n",
       " 'ADM_DR_NM': '사직동',\n",
       " 'OBJECTID': '1'}"
      ]
     },
     "execution_count": 28,
     "metadata": {},
     "output_type": "execute_result"
    }
   ],
   "source": [
    "geo_seoul['features'][0]['properties']"
   ]
  },
  {
   "cell_type": "code",
   "execution_count": 29,
   "id": "ca155cc6-a173-495f-96dd-9a853be2f701",
   "metadata": {
    "collapsed": true,
    "jupyter": {
     "outputs_hidden": true
    },
    "tags": []
   },
   "outputs": [
    {
     "data": {
      "text/plain": [
       "{'type': 'MultiPolygon',\n",
       " 'coordinates': [[[[126.97398562200112, 37.578232670691676],\n",
       "    [126.97400165856983, 37.578091598158124],\n",
       "    [126.97401347517625, 37.57797124764524],\n",
       "    [126.97402588957173, 37.57786305895336],\n",
       "    [126.97403969022386, 37.57773527607586],\n",
       "    [126.97405282759235, 37.57763245751229],\n",
       "    [126.97405724608929, 37.57759228442397],\n",
       "    [126.97406454937413, 37.5775223449396],\n",
       "    [126.97406606875553, 37.57751912550699],\n",
       "    [126.97406875866477, 37.57749510583154],\n",
       "    [126.97406829700772, 37.5774925030879],\n",
       "    [126.97406834313652, 37.57749109719524],\n",
       "    [126.97415332533838, 37.57749252255686],\n",
       "    [126.97415369692854, 37.57749636934987],\n",
       "    [126.97414192870245, 37.577607692520026],\n",
       "    [126.97412902832193, 37.57772060121065],\n",
       "    [126.97417294290439, 37.57749796032778],\n",
       "    [126.97417276162724, 37.57749252680757],\n",
       "    [126.9742642955674, 37.577008320942475],\n",
       "    [126.97428742236072, 37.576886350575165],\n",
       "    [126.97430268332849, 37.57679306561384],\n",
       "    [126.97435652888083, 37.57650049201857],\n",
       "    [126.97436216465626, 37.57646981188987],\n",
       "    [126.974428962661, 37.576109147009944],\n",
       "    [126.97443510164851, 37.576072633500495],\n",
       "    [126.97444395357607, 37.57606757940862],\n",
       "    [126.97457716421152, 37.57599654790283],\n",
       "    [126.97497673275208, 37.57598030359994],\n",
       "    [126.97531624732369, 37.575963533540666],\n",
       "    [126.97544686149402, 37.575957857771805],\n",
       "    [126.97551753625524, 37.57595498103833],\n",
       "    [126.97581697456103, 37.575943918771785],\n",
       "    [126.97619183032593, 37.5759298827689],\n",
       "    [126.97657159028758, 37.57591248307561],\n",
       "    [126.97657248043274, 37.57576107782613],\n",
       "    [126.97707058245321, 37.575769745633394],\n",
       "    [126.97710626293016, 37.57580041363212],\n",
       "    [126.97710508269064, 37.57577034913127],\n",
       "    [126.97710438206298, 37.575729289151774],\n",
       "    [126.97710264189256, 37.575691196591144],\n",
       "    [126.97709163603182, 37.575456395443645],\n",
       "    [126.97709659206853, 37.575429789850936],\n",
       "    [126.97709740266554, 37.57533816086366],\n",
       "    [126.97709692298828, 37.57510847127721],\n",
       "    [126.9770969927888, 37.57485717646688],\n",
       "    [126.97709782834531, 37.574689064214056],\n",
       "    [126.97710655112954, 37.57449955828522],\n",
       "    [126.97711269862188, 37.574387380017],\n",
       "    [126.97711529769063, 37.57432374991564],\n",
       "    [126.97711648558943, 37.57431125472213],\n",
       "    [126.97712000694287, 37.574241726694076],\n",
       "    [126.97714880521092, 37.57388923042805],\n",
       "    [126.97715302601712, 37.57383173845633],\n",
       "    [126.97715525448783, 37.57379548358511],\n",
       "    [126.97717055462988, 37.573568898369885],\n",
       "    [126.9771834841739, 37.57335618636109],\n",
       "    [126.97719420047872, 37.57319176886857],\n",
       "    [126.97720359423197, 37.5730580717963],\n",
       "    [126.97720759677466, 37.57298302784252],\n",
       "    [126.97721679873975, 37.57283191650858],\n",
       "    [126.97722194474206, 37.572778426396425],\n",
       "    [126.97722239102133, 37.57275187531947],\n",
       "    [126.97722224873505, 37.572686855206754],\n",
       "    [126.97722271218863, 37.57264044997286],\n",
       "    [126.97722246527528, 37.57254908666179],\n",
       "    [126.97727440070055, 37.572549118345805],\n",
       "    [126.97729724040876, 37.57187532700175],\n",
       "    [126.97723713559967, 37.57186886260786],\n",
       "    [126.97723761646071, 37.57185515165985],\n",
       "    [126.97724369197059, 37.571686488059584],\n",
       "    [126.97724574310305, 37.57164623161989],\n",
       "    [126.97724941177212, 37.57153144762527],\n",
       "    [126.97724974299528, 37.57148891998175],\n",
       "    [126.97725820868048, 37.57131977963278],\n",
       "    [126.97726001350114, 37.57126800048078],\n",
       "    [126.9772619061671, 37.57122646582202],\n",
       "    [126.97739980150673, 37.57122801675643],\n",
       "    [126.9775170266664, 37.5712296977601],\n",
       "    [126.97753701428412, 37.57074486263188],\n",
       "    [126.97754222139427, 37.57074261186801],\n",
       "    [126.97754154530878, 37.57073720501822],\n",
       "    [126.97753976938313, 37.57072723066742],\n",
       "    [126.9775411786709, 37.57067884002453],\n",
       "    [126.9775416239754, 37.57066434234666],\n",
       "    [126.9775365766687, 37.570661999330255],\n",
       "    [126.97753748354242, 37.57062762720971],\n",
       "    [126.97753835705718, 37.57061991495803],\n",
       "    [126.97753935931587, 37.570593966032376],\n",
       "    [126.9775456557315, 37.57040915543211],\n",
       "    [126.97754826808587, 37.570348863327496],\n",
       "    [126.97766073751325, 37.57035393294948],\n",
       "    [126.97766507114544, 37.570285384608404],\n",
       "    [126.97763364734519, 37.57028537775833],\n",
       "    [126.9776277851873, 37.570219479941784],\n",
       "    [126.97762480732237, 37.57019141295825],\n",
       "    [126.97762329800834, 37.57016068180326],\n",
       "    [126.97757249624735, 37.570161030254724],\n",
       "    [126.97755214644926, 37.57014652947444],\n",
       "    [126.97755398838115, 37.57005633148899],\n",
       "    [126.97758809325505, 37.57005317627732],\n",
       "    [126.97761237452079, 37.570050874119204],\n",
       "    [126.97761326082052, 37.570044540388125],\n",
       "    [126.97761298981789, 37.57003729597047],\n",
       "    [126.97755434381357, 37.57003851885478],\n",
       "    [126.97755515324296, 37.569984567850334],\n",
       "    [126.97755639296341, 37.569931267718964],\n",
       "    [126.97756113534405, 37.56975616103699],\n",
       "    [126.97756408077024, 37.56964548542843],\n",
       "    [126.97756842052522, 37.5695212378196],\n",
       "    [126.9775702724757, 37.569394162203835],\n",
       "    [126.97759095907998, 37.56937993073994],\n",
       "    [126.97765356255655, 37.56935486009188],\n",
       "    [126.97767068068563, 37.569343041665526],\n",
       "    [126.97767051028026, 37.56934244002053],\n",
       "    [126.97765085524911, 37.56932574064768],\n",
       "    [126.9776470296606, 37.569322261342414],\n",
       "    [126.97762606131724, 37.569300401642],\n",
       "    [126.97762523696589, 37.56929890747441],\n",
       "    [126.9775941095917, 37.56930836907446],\n",
       "    [126.977579030998, 37.5693125825356],\n",
       "    [126.97757290106489, 37.569257963870754],\n",
       "    [126.97752942298399, 37.56925682985868],\n",
       "    [126.97749026024918, 37.569255976301385],\n",
       "    [126.97747682311451, 37.5692556914911],\n",
       "    [126.97745386666821, 37.56925512238895],\n",
       "    [126.97739833575261, 37.56925398424539],\n",
       "    [126.97726816324214, 37.569251143745156],\n",
       "    [126.97721138670006, 37.569250007208915],\n",
       "    [126.97718896249955, 37.56924943500416],\n",
       "    [126.97716890589012, 37.569249150875734],\n",
       "    [126.9771621814941, 37.56924887052072],\n",
       "    [126.97715655560961, 37.569248868445335],\n",
       "    [126.97715231144305, 37.56924886767545],\n",
       "    [126.97714608557138, 37.56924857930564],\n",
       "    [126.97713176743522, 37.56924829596227],\n",
       "    [126.97711410854356, 37.5692480134502],\n",
       "    [126.97705694691304, 37.569246596311096],\n",
       "    [126.97705651650612, 37.5692465793886],\n",
       "    [126.97705042616074, 37.56924647309166],\n",
       "    [126.97703839025178, 37.56924625243165],\n",
       "    [126.97697633096945, 37.56924517319479],\n",
       "    [126.97694064205157, 37.56924459895941],\n",
       "    [126.97691528589262, 37.56924431474229],\n",
       "    [126.97689865774977, 37.569244023839296],\n",
       "    [126.97688379638039, 37.56924402018019],\n",
       "    [126.97685464804445, 37.56924345507131],\n",
       "    [126.97684404215856, 37.569243453139286],\n",
       "    [126.9768359048605, 37.56924345223117],\n",
       "    [126.97683134309855, 37.569243171833236],\n",
       "    [126.97681967278676, 37.569243167885965],\n",
       "    [126.97681521141904, 37.56924316763714],\n",
       "    [126.97680372428782, 37.56924287787192],\n",
       "    [126.97679080836188, 37.56924287290816],\n",
       "    [126.97678050812168, 37.56924259260071],\n",
       "    [126.97676724114908, 37.56924258878253],\n",
       "    [126.97673647630344, 37.56924230280105],\n",
       "    [126.97670361606403, 37.569241731116996],\n",
       "    [126.97665462493126, 37.56924088119994],\n",
       "    [126.97654425080715, 37.569238885700194],\n",
       "    [126.97649038398073, 37.56923779357304],\n",
       "    [126.97644429142967, 37.56923689091151],\n",
       "    [126.97644092274065, 37.569323386597176],\n",
       "    [126.97643915636951, 37.56936219073562],\n",
       "    [126.97641862381188, 37.5694227134097],\n",
       "    [126.97640217747718, 37.56941990127607],\n",
       "    [126.97634098673048, 37.569337092682666],\n",
       "    [126.97615798414478, 37.569328098959616],\n",
       "    [126.97596632407799, 37.56931862187222],\n",
       "    [126.97595156339388, 37.569345266251446],\n",
       "    [126.97592597271503, 37.56938876037816],\n",
       "    [126.97588684694124, 37.56937445117504],\n",
       "    [126.97588024046539, 37.56937220903962],\n",
       "    [126.97587548328454, 37.56937079052558],\n",
       "    [126.97582686109467, 37.569355579851056],\n",
       "    [126.9758240177881, 37.56935895718982],\n",
       "    [126.9757942865352, 37.569400874782104],\n",
       "    [126.97579080059732, 37.569405786963266],\n",
       "    [126.97578987422143, 37.56940709160456],\n",
       "    [126.97578881080176, 37.569406752789995],\n",
       "    [126.97575808100262, 37.56940032673812],\n",
       "    [126.97569737939074, 37.56938793284969],\n",
       "    [126.9756653690435, 37.56938116037765],\n",
       "    [126.97566417159048, 37.56938088045553],\n",
       "    [126.97566189747423, 37.569380436807485],\n",
       "    [126.97564767993535, 37.569377785587264],\n",
       "    [126.97563547706947, 37.56937524186765],\n",
       "    [126.97562914988039, 37.56937383591231],\n",
       "    [126.97562500745066, 37.56937327609079],\n",
       "    [126.97561938264981, 37.56937214906677],\n",
       "    [126.97560714603077, 37.56936960578872],\n",
       "    [126.97558935371295, 37.56936538478087],\n",
       "    [126.97557959756543, 37.56936340955049],\n",
       "    [126.97556382020684, 37.56936002670871],\n",
       "    [126.97555907640108, 37.56935889999012],\n",
       "    [126.97555434619635, 37.569357771529056],\n",
       "    [126.97553061067605, 37.569352417237305],\n",
       "    [126.9754924109523, 37.56934367752403],\n",
       "    [126.97532595172845, 37.5693070414162],\n",
       "    [126.97514914619292, 37.569267583543635],\n",
       "    [126.97510814854692, 37.569260249391654],\n",
       "    [126.97505011956413, 37.56925011681407],\n",
       "    [126.9749823324704, 37.569238264307515],\n",
       "    [126.97490628293637, 37.56922388489906],\n",
       "    [126.9748825934435, 37.569219375550304],\n",
       "    [126.97486493484155, 37.569217118754764],\n",
       "    [126.97477063673468, 37.56920780897037],\n",
       "    [126.97470608445569, 37.569201315086126],\n",
       "    [126.97465451375732, 37.56920637531995],\n",
       "    [126.97457045179769, 37.569214241913535],\n",
       "    [126.97454113488216, 37.569217045616824],\n",
       "    [126.97453104848478, 37.56921788944933],\n",
       "    [126.97452603503213, 37.56921816937238],\n",
       "    [126.97452057735512, 37.569218724952066],\n",
       "    [126.97451528062335, 37.569219290855756],\n",
       "    [126.97450732308869, 37.569220136951444],\n",
       "    [126.97449206448098, 37.569221261204284],\n",
       "    [126.97446667412459, 37.569223787934455],\n",
       "    [126.97442294609151, 37.569228001443186],\n",
       "    [126.97438793374712, 37.56923109221243],\n",
       "    [126.97438071872, 37.56923263023398],\n",
       "    [126.97437929551353, 37.56923305414646],\n",
       "    [126.9743534349329, 37.569236519744564],\n",
       "    [126.974322011265, 37.569240746539506],\n",
       "    [126.97430128982026, 37.56924374109166],\n",
       "    [126.97428197872766, 37.56924626959579],\n",
       "    [126.9742837419498, 37.56925640497413],\n",
       "    [126.97429044974736, 37.569298356458596],\n",
       "    [126.97429215798557, 37.569308581726496],\n",
       "    [126.97429468562899, 37.56932370315061],\n",
       "    [126.97429411774975, 37.569328485562],\n",
       "    [126.9742658527012, 37.56933242597161],\n",
       "    [126.9742456920886, 37.569334952796154],\n",
       "    [126.97420447424459, 37.56934029537899],\n",
       "    [126.97417868915872, 37.56934197361787],\n",
       "    [126.97403773045413, 37.56933771507146],\n",
       "    [126.97396057887885, 37.569335165414614],\n",
       "    [126.97391976163276, 37.569333749893325],\n",
       "    [126.97384541859537, 37.56933120065233],\n",
       "    [126.973805302882, 37.56932921946868],\n",
       "    [126.97378747587413, 37.56932836696014],\n",
       "    [126.97377449188645, 37.569327795604956],\n",
       "    [126.97376776749205, 37.56932751595791],\n",
       "    [126.97376678528347, 37.5693275148976],\n",
       "    [126.97376210981446, 37.56932723475607],\n",
       "    [126.97375503439208, 37.569326953543595],\n",
       "    [126.97374661301023, 37.56932638572466],\n",
       "    [126.97373773958927, 37.56932610339994],\n",
       "    [126.97372981435991, 37.56932554289266],\n",
       "    [126.97370660980903, 37.56932553648597],\n",
       "    [126.97369567732906, 37.569325246493904],\n",
       "    [126.9736617205771, 37.569325239319795],\n",
       "    [126.97363095232198, 37.569324952513675],\n",
       "    [126.97356087363484, 37.56932465685117],\n",
       "    [126.9733737205311, 37.56932235893891],\n",
       "    [126.9732407537359, 37.569320075997105],\n",
       "    [126.97320520034718, 37.56931894029281],\n",
       "    [126.97320238490421, 37.569280079708335],\n",
       "    [126.97319843369516, 37.56923784121783],\n",
       "    [126.97319220741338, 37.569165202191265],\n",
       "    [126.97310359751418, 37.56917306487765],\n",
       "    [126.97300925843554, 37.56918121317456],\n",
       "    [126.97296772618292, 37.569184861500986],\n",
       "    [126.97296103560528, 37.569186824815326],\n",
       "    [126.9729423936715, 37.56918794517385],\n",
       "    [126.97287928610346, 37.56919272297424],\n",
       "    [126.97285522128598, 37.569129368651915],\n",
       "    [126.97281960510162, 37.56903137810639],\n",
       "    [126.9728063172939, 37.568996451685045],\n",
       "    [126.9727327342825, 37.56901812131988],\n",
       "    [126.9726709676292, 37.56903612533074],\n",
       "    [126.97259140766165, 37.569060037174275],\n",
       "    [126.97257506167182, 37.56903836969488],\n",
       "    [126.9724186949088, 37.568831089657465],\n",
       "    [126.97241896492817, 37.56883098571366],\n",
       "    [126.97244012279882, 37.56876543581275],\n",
       "    [126.97245595176071, 37.56872874243678],\n",
       "    [126.97249033061628, 37.568633343746654],\n",
       "    [126.97249980479168, 37.568605010491126],\n",
       "    [126.97253093311652, 37.56851806510398],\n",
       "    [126.97254658809574, 37.56847712559564],\n",
       "    [126.97254832387168, 37.56847406457368],\n",
       "    [126.97235030241492, 37.568426786176616],\n",
       "    [126.97226222622741, 37.568406653596035],\n",
       "    [126.9721819763521, 37.56838819038887],\n",
       "    [126.97216308108663, 37.56838082364363],\n",
       "    [126.97193479137694, 37.568297048904334],\n",
       "    [126.97191562934819, 37.56828933179825],\n",
       "    [126.97192535477008, 37.56831589710943],\n",
       "    [126.97190001005897, 37.56831878882547],\n",
       "    [126.97187757086604, 37.56832009634835],\n",
       "    [126.97170830258624, 37.56832996948017],\n",
       "    [126.97166982209052, 37.56834572766969],\n",
       "    [126.97165909771184, 37.568363481263674],\n",
       "    [126.97164823331427, 37.56838101790685],\n",
       "    [126.97164037465981, 37.56839461410216],\n",
       "    [126.97161526628862, 37.56845480418864],\n",
       "    [126.97160410582075, 37.56848202897459],\n",
       "    [126.97160417784588, 37.56848206115109],\n",
       "    [126.97157818471972, 37.56854566156818],\n",
       "    [126.97156352153839, 37.56858395122771],\n",
       "    [126.97155264602704, 37.568608725007856],\n",
       "    [126.97155091206162, 37.56861434646037],\n",
       "    [126.97154914515245, 37.56861857127306],\n",
       "    [126.97154701499439, 37.568624204165246],\n",
       "    [126.97154099854748, 37.56863913056751],\n",
       "    [126.97153016693272, 37.56866503063023],\n",
       "    [126.97152078456922, 37.568688681416866],\n",
       "    [126.97151281811367, 37.5687081022139],\n",
       "    [126.97151193479581, 37.568710355230536],\n",
       "    [126.97146354616825, 37.568708368972516],\n",
       "    [126.97142590125478, 37.56870686401955],\n",
       "    [126.97140796959546, 37.56870610352227],\n",
       "    [126.97139611695387, 37.56870947917231],\n",
       "    [126.9713579100663, 37.56872045413774],\n",
       "    [126.97132009937319, 37.56873141584912],\n",
       "    [126.97129604274556, 37.568737887942206],\n",
       "    [126.97125093143701, 37.56874970625727],\n",
       "    [126.9712245086383, 37.568756168926704],\n",
       "    [126.97122454371299, 37.568757583603],\n",
       "    [126.97120629577576, 37.56879905812739],\n",
       "    [126.97120273314404, 37.5688074120703],\n",
       "    [126.97119813279848, 37.56881839329573],\n",
       "    [126.97119520176918, 37.56881839339954],\n",
       "    [126.97117552893154, 37.568819234257916],\n",
       "    [126.97116451115258, 37.568817567293955],\n",
       "    [126.97115590215903, 37.56881641165407],\n",
       "    [126.97109328700138, 37.56880766209444],\n",
       "    [126.9710557705145, 37.5687902013741],\n",
       "    [126.97104502005452, 37.56878372060537],\n",
       "    [126.97099020668126, 37.568742034703675],\n",
       "    [126.97094869309966, 37.56870175980385],\n",
       "    [126.97089314497155, 37.568656417101],\n",
       "    [126.97085565191614, 37.568639792276905],\n",
       "    [126.9707725499112, 37.56860289361501],\n",
       "    [126.97071595573482, 37.56859527409464],\n",
       "    [126.97068306535294, 37.56859103992657],\n",
       "    [126.9706596805425, 37.56858709593446],\n",
       "    [126.9706314523173, 37.568582295592584],\n",
       "    [126.9706085662428, 37.56857863383842],\n",
       "    [126.97060082377254, 37.56857722487278],\n",
       "    [126.97058879385307, 37.568575247453055],\n",
       "    [126.97058687093492, 37.56857494859633],\n",
       "    [126.97057839234459, 37.56857355074967],\n",
       "    [126.97055961481517, 37.568570456637694],\n",
       "    [126.97054904317064, 37.56856847975138],\n",
       "    [126.97054171863417, 37.56856763147124],\n",
       "    [126.97053817600964, 37.56856707116996],\n",
       "    [126.97053715869502, 37.56856678299037],\n",
       "    [126.97053486165352, 37.56856622647257],\n",
       "    [126.97052456193987, 37.56856396896965],\n",
       "    [126.97051558664312, 37.56856171441457],\n",
       "    [126.97047699181218, 37.56855297370516],\n",
       "    [126.97044378312265, 37.56854537001896],\n",
       "    [126.97040402328996, 37.568536060431185],\n",
       "    [126.97038967115083, 37.56853295730139],\n",
       "    [126.97036628928879, 37.56852732233897],\n",
       "    [126.97035801404559, 37.56852535393529],\n",
       "    [126.97034350484802, 37.56852169246898],\n",
       "    [126.97034085686185, 37.56852112355675],\n",
       "    [126.97030800393644, 37.56850422133838],\n",
       "    [126.97025353619146, 37.56847745572783],\n",
       "    [126.97018984433859, 37.5684459046043],\n",
       "    [126.97014778729826, 37.56842526670377],\n",
       "    [126.97011734948528, 37.56840984807151],\n",
       "    [126.97005670213913, 37.5683791427907],\n",
       "    [126.97003137527587, 37.56836674794782],\n",
       "    [126.97001758001913, 37.568358860530005],\n",
       "    [126.96998441233632, 37.56833970465137],\n",
       "    [126.96993932602686, 37.568316041985724],\n",
       "    [126.9699152399566, 37.56831040377224],\n",
       "    [126.96980276346973, 37.568281091658],\n",
       "    [126.96978451922814, 37.56827658290169],\n",
       "    [126.96978293737155, 37.568277950062836],\n",
       "    [126.96975996104608, 37.56828924408386],\n",
       "    [126.96974921099137, 37.568283051629784],\n",
       "    [126.96973711443063, 37.56827712891897],\n",
       "    [126.969721621656, 37.56826840161206],\n",
       "    [126.9697138138795, 37.568264453490016],\n",
       "    [126.96969630542242, 37.56825515947965],\n",
       "    [126.9696739434217, 37.56824366060321],\n",
       "    [126.96966779937962, 37.568240790751254],\n",
       "    [126.96965877919372, 37.56823628315821],\n",
       "    [126.96961461110638, 37.56821374877935],\n",
       "    [126.96957432930999, 37.56819447247225],\n",
       "    [126.96956120677388, 37.56818782948446],\n",
       "    [126.96952086216649, 37.5681678336026],\n",
       "    [126.96950766859659, 37.56815712642653],\n",
       "    [126.96949715756945, 37.56817289179805],\n",
       "    [126.96948324701246, 37.568196538912794],\n",
       "    [126.96947577193879, 37.56820667310081],\n",
       "    [126.96947343987355, 37.568209491639585],\n",
       "    [126.96947298642017, 37.568211736370635],\n",
       "    [126.96944070877844, 37.56825339694043],\n",
       "    [126.96942372028528, 37.56827648518784],\n",
       "    [126.96940426566805, 37.56826634413564],\n",
       "    [126.96936487356602, 37.568245781642254],\n",
       "    [126.96934117590915, 37.568231980069264],\n",
       "    [126.96931712885558, 37.568219864241016],\n",
       "    [126.96931296200924, 37.56821596552168],\n",
       "    [126.96929022168088, 37.568198171058704],\n",
       "    [126.96930030628627, 37.56817171320873],\n",
       "    [126.96927453849268, 37.56813397097974],\n",
       "    [126.96918095790349, 37.5682111140982],\n",
       "    [126.96917422543783, 37.568216168013386],\n",
       "    [126.96917051494576, 37.5682127784919],\n",
       "    [126.96915529861218, 37.56822037872504],\n",
       "    [126.96911479058099, 37.56823838753972],\n",
       "    [126.96911196095576, 37.5682398007448],\n",
       "    [126.96910491693674, 37.568244015616976],\n",
       "    [126.96909869028887, 37.568247681926636],\n",
       "    [126.96899434851153, 37.56834529863773],\n",
       "    [126.96884116814942, 37.56831465842204],\n",
       "    [126.9687958270125, 37.56831162418563],\n",
       "    [126.96874199251425, 37.568308098621515],\n",
       "    [126.96871812991256, 37.56831303817971],\n",
       "    [126.96865974034202, 37.568324501315054],\n",
       "    [126.9685817735476, 37.568352716435164],\n",
       "    [126.96853343124802, 37.56840038313708],\n",
       "    [126.96849939134502, 37.56843333272841],\n",
       "    [126.96844981375483, 37.56848118791043],\n",
       "    [126.96846814022794, 37.56848119350367],\n",
       "    [126.96835441854222, 37.56860095646058],\n",
       "    [126.96831921144944, 37.56863591254653],\n",
       "    [126.96831309786, 37.568643417255224],\n",
       "    [126.9682063656689, 37.56878776119966],\n",
       "    [126.96814022621689, 37.56887797582549],\n",
       "    [126.9681225010689, 37.56890107318154],\n",
       "    [126.96810782658814, 37.56893308056521],\n",
       "    [126.96808549619915, 37.568980548185124],\n",
       "    [126.96809125863108, 37.56898195382199],\n",
       "    [126.96808951702056, 37.568986763362616],\n",
       "    [126.96808097274301, 37.56902170249963],\n",
       "    [126.96807248993463, 37.5690317557486],\n",
       "    [126.96805745480967, 37.569059344310155],\n",
       "    [126.96804317361254, 37.569082598970226],\n",
       "    [126.96803856511805, 37.56908765278231],\n",
       "    [126.96800749939268, 37.569122936306705],\n",
       "    [126.96798799848051, 37.56914101354131],\n",
       "    [126.96794204746097, 37.569181563230856],\n",
       "    [126.96789652083854, 37.56920169930831],\n",
       "    [126.96779080194409, 37.569248796392806],\n",
       "    [126.96777246599251, 37.56925073305165],\n",
       "    [126.96773190618033, 37.56925488836585],\n",
       "    [126.96770773739708, 37.56925923204335],\n",
       "    [126.9676104854207, 37.56925102330882],\n",
       "    [126.96760809966266, 37.56924259817795],\n",
       "    [126.96760536579683, 37.56923153413872],\n",
       "    [126.96757612679325, 37.56923159757925],\n",
       "    [126.96749287506239, 37.56923177190602],\n",
       "    [126.96712850828018, 37.56927349093528],\n",
       "    [126.96708271300805, 37.56928339401952],\n",
       "    [126.967030665372, 37.56929463349692],\n",
       "    [126.96698519205479, 37.56930422641848],\n",
       "    [126.96692593951649, 37.56932162525892],\n",
       "    [126.96683038134034, 37.569343634843754],\n",
       "    [126.96680835092725, 37.569350161733844],\n",
       "    [126.966808417413, 37.56935516239448],\n",
       "    [126.96681080575424, 37.569374045562824],\n",
       "    [126.9668125788238, 37.56938358020307],\n",
       "    [126.96667854683643, 37.569452726638836],\n",
       "    [126.96662286847108, 37.56948074879907],\n",
       "    [126.96658108088467, 37.56952172206286],\n",
       "    [126.96647396074356, 37.56962535066106],\n",
       "    [126.96645758736913, 37.56968741305132],\n",
       "    [126.9664589222772, 37.569692072426285],\n",
       "    [126.96638427548496, 37.56975167754979],\n",
       "    [126.96626579624973, 37.56979861102371],\n",
       "    [126.96615343106859, 37.56988619809999],\n",
       "    [126.96611970191874, 37.569928705059645],\n",
       "    [126.96609260870471, 37.569989244908136],\n",
       "    [126.96608388892933, 37.57002022618956],\n",
       "    [126.9660876810593, 37.570047833842395],\n",
       "    [126.96609421609423, 37.57010862371329],\n",
       "    [126.96608498816605, 37.57016335676315],\n",
       "    [126.96602805047831, 37.570282459648055],\n",
       "    [126.96602092990496, 37.57028246709961],\n",
       "    [126.96601093879248, 37.570297816298634],\n",
       "    [126.96600520725731, 37.57030882554934],\n",
       "    [126.9660046485779, 37.57031202400798],\n",
       "    [126.96598964833204, 37.57034403353639],\n",
       "    [126.96598032170915, 37.57036686690824],\n",
       "    [126.9659759934332, 37.57037502042541],\n",
       "    [126.96596580489556, 37.570398064110414],\n",
       "    [126.9659489682604, 37.57043658658164],\n",
       "    [126.9659310987655, 37.570473853309636],\n",
       "    [126.96592920661138, 37.57047704331872],\n",
       "    [126.96591455799526, 37.5705056007773],\n",
       "    [126.96590767031685, 37.570539880550044],\n",
       "    [126.96590323634068, 37.57055852105052],\n",
       "    [126.96589878864131, 37.5705794307703],\n",
       "    [126.96589476921712, 37.57060497356113],\n",
       "    [126.96589199069426, 37.570614811183866],\n",
       "    [126.96588456898489, 37.57065631733108],\n",
       "    [126.96588462031981, 37.570661021686604],\n",
       "    [126.96588682001848, 37.57068263539976],\n",
       "    [126.96588765827669, 37.57070263763718],\n",
       "    [126.96588949472594, 37.57071739767664],\n",
       "    [126.96589017054765, 37.57072710191808],\n",
       "    [126.96589876695059, 37.57074450072906],\n",
       "    [126.96589973767992, 37.570746843211616],\n",
       "    [126.96590574434934, 37.57075852298443],\n",
       "    [126.9659119392807, 37.57077029134601],\n",
       "    [126.96591490358749, 37.57077668087645],\n",
       "    [126.96591693943894, 37.57078121242585],\n",
       "    [126.9659340724733, 37.570815283901666],\n",
       "    [126.96593628818322, 37.57082044661191],\n",
       "    [126.96595886279076, 37.570862619947576],\n",
       "    [126.96596142991685, 37.57086722481821],\n",
       "    [126.96596881620555, 37.570879175824295],\n",
       "    [126.96597284022707, 37.570884456390544],\n",
       "    [126.9659935976594, 37.5709195119719],\n",
       "    [126.96601850436184, 37.570959090955796],\n",
       "    [126.96604440590164, 37.57100014753964],\n",
       "    [126.96606549082915, 37.57103286741904],\n",
       "    [126.96608782894933, 37.571069670937774],\n",
       "    [126.9661084158403, 37.571102554097536],\n",
       "    [126.96614408992892, 37.571160048817156],\n",
       "    [126.96615395375703, 37.571175333682035],\n",
       "    [126.96615700903673, 37.571180088576455],\n",
       "    [126.96616639698175, 37.57119382548049],\n",
       "    [126.96618227816501, 37.57121854278833],\n",
       "    [126.96620066247695, 37.57126197552338],\n",
       "    [126.9662143446957, 37.571290289474256],\n",
       "    [126.96622605691648, 37.57132759264946],\n",
       "    [126.96596696833065, 37.57138283760897],\n",
       "    [126.96596711496481, 37.57153821101783],\n",
       "    [126.96605710420215, 37.57154460421259],\n",
       "    [126.96605030578503, 37.571549148386794],\n",
       "    [126.96604306820596, 37.57155442457637],\n",
       "    [126.96601639229507, 37.57157507784141],\n",
       "    [126.96599747897984, 37.57158870234995],\n",
       "    [126.96585906546885, 37.57174809924802],\n",
       "    [126.96583379754156, 37.571775877956135],\n",
       "    [126.96580805534853, 37.57179823291917],\n",
       "    [126.96574818541941, 37.57184752787997],\n",
       "    [126.96574079162947, 37.57185345290696],\n",
       "    [126.9656954021222, 37.57189333422873],\n",
       "    [126.96562200627666, 37.571964356129634],\n",
       "    [126.96561713881876, 37.57196870801913],\n",
       "    [126.96558897018785, 37.57199777989904],\n",
       "    [126.96558158570515, 37.57200582373349],\n",
       "    [126.96557859404271, 37.57201279891637],\n",
       "    [126.96557504576042, 37.57202249065092],\n",
       "    [126.96557365465453, 37.572024491342916],\n",
       "    [126.96556157296038, 37.57205378806217],\n",
       "    [126.96555144853012, 37.57208429062788],\n",
       "    [126.96554448656335, 37.57210895447935],\n",
       "    [126.96553735740763, 37.5721304523358],\n",
       "    [126.96553347977971, 37.57214315727161],\n",
       "    [126.96552696069784, 37.57216450767144],\n",
       "    [126.96551545267246, 37.57220039190561],\n",
       "    [126.96550028034875, 37.57225738169611],\n",
       "    [126.96549789736856, 37.57226728539988],\n",
       "    [126.96549320422082, 37.572281913718165],\n",
       "    [126.96547447677182, 37.57236202492608],\n",
       "    [126.96546716045454, 37.5723947478994],\n",
       "    [126.96546139762499, 37.57241865703316],\n",
       "    [126.96545662211557, 37.572438468614195],\n",
       "    [126.96545218689674, 37.57243887216343],\n",
       "    [126.96544275592417, 37.57245951142384],\n",
       "    [126.96543227662988, 37.572482580182474],\n",
       "    [126.96542097843746, 37.57250617491611],\n",
       "    [126.96541659561193, 37.57251575499212],\n",
       "    [126.96541478979668, 37.572520291398206],\n",
       "    [126.96541370549475, 37.57252458651917],\n",
       "    [126.96540101305023, 37.572548083594235],\n",
       "    [126.96537348720965, 37.572608441612466],\n",
       "    [126.96536057170853, 37.57262759199864],\n",
       "    [126.96535132340516, 37.572656857359036],\n",
       "    [126.96534593517977, 37.5726756912107],\n",
       "    [126.96534211495864, 37.57268624908741],\n",
       "    [126.96532110842813, 37.57270742510209],\n",
       "    [126.96531926031021, 37.57270872067152],\n",
       "    [126.96529379136621, 37.572734446885356],\n",
       "    [126.9652769383826, 37.57276246128432],\n",
       "    [126.96526376953743, 37.57278272936912],\n",
       "    [126.96526529216666, 37.572819067695185],\n",
       "    [126.96525457678237, 37.572825440341354],\n",
       "    [126.96524421735849, 37.57283160188154],\n",
       "    [126.96520224394814, 37.57285688916661],\n",
       "    [126.96519293900542, 37.57285982626565],\n",
       "    [126.96514756081953, 37.57287332653598],\n",
       "    [126.96506567220521, 37.572899293398876],\n",
       "    [126.96504135242456, 37.57290619566014],\n",
       "    [126.96496694900645, 37.5729264542096],\n",
       "    [126.96489676032812, 37.57293628882984],\n",
       "    [126.96482417279837, 37.57294677172336],\n",
       "    [126.96477973790091, 37.57294589125135],\n",
       "    [126.96477611022286, 37.57294583033129],\n",
       "    [126.96470373140647, 37.57294202236553],\n",
       "    [126.96467478493769, 37.57294537390307],\n",
       "    [126.9646161290765, 37.57296215234013],\n",
       "    [126.96458839842892, 37.57297660253399],\n",
       "    [126.96454633529598, 37.57299748579875],\n",
       "    [126.96453867379094, 37.57300246613263],\n",
       "    [126.9644791185798, 37.573040799393354],\n",
       "    [126.96444137291509, 37.57307275511542],\n",
       "    [126.96442429657301, 37.57309774706707],\n",
       "    [126.96441453703001, 37.57311076748223],\n",
       "    [126.9643497631509, 37.57318322237481],\n",
       "    [126.96429703631598, 37.573248590829316],\n",
       "    [126.96429340366434, 37.57325760101054],\n",
       "    [126.96428370346652, 37.573289430074006],\n",
       "    [126.96427332324903, 37.57328317058934],\n",
       "    [126.96426186317862, 37.57327586275207],\n",
       "    [126.96426128461015, 37.57327632161515],\n",
       "    [126.96426049091613, 37.57327756547499],\n",
       "    [126.96426002706143, 37.57327829345955],\n",
       "    [126.96422780917493, 37.573328541455105],\n",
       "    [126.96422315124306, 37.573337261561036],\n",
       "    [126.96417179493514, 37.57340518759792],\n",
       "    [126.96413435631156, 37.57345575798599],\n",
       "    [126.96409092897952, 37.57348680206705],\n",
       "    [126.96405406950946, 37.57351311625291],\n",
       "    [126.96401009717495, 37.573545267692104],\n",
       "    [126.96400680129656, 37.57354725791386],\n",
       "    [126.96400165831389, 37.57355912211646],\n",
       "    [126.96398046952504, 37.57359919165254],\n",
       "    [126.96398029195981, 37.57359947567137],\n",
       "    [126.96397057920711, 37.57361416374934],\n",
       "    [126.96394355590654, 37.57363829083199],\n",
       "    [126.96388259309765, 37.57369274546927],\n",
       "    [126.96383177863052, 37.57373780547819],\n",
       "    [126.96374800699753, 37.573812596557666],\n",
       "    [126.96366933886036, 37.57388799481581],\n",
       "    [126.96365907723492, 37.573901451552096],\n",
       "    [126.96363833918208, 37.57392186954755],\n",
       "    [126.96358022519823, 37.57400527313873],\n",
       "    [126.96356929385433, 37.57402178598893],\n",
       "    [126.96354870740686, 37.57403293221307],\n",
       "    [126.96354168570993, 37.57412901132732],\n",
       "    [126.96353978595945, 37.57419265629797],\n",
       "    [126.96354163985129, 37.5742204627999],\n",
       "    [126.9635492842132, 37.574278362089984],\n",
       "    [126.96355894819354, 37.57433317113767],\n",
       "    [126.96356857590423, 37.57440730784937],\n",
       "    [126.96357749673825, 37.57445132380387],\n",
       "    [126.96357898781991, 37.57446002796455],\n",
       "    [126.96355171352391, 37.5745636019692],\n",
       "    [126.9635489311576, 37.574574165707844],\n",
       "    [126.96352766146873, 37.57466098634469],\n",
       "    [126.96352904244068, 37.574728893356244],\n",
       "    [126.96351179840241, 37.574823476638485],\n",
       "    [126.96350138397803, 37.57491411903496],\n",
       "    [126.96348635960902, 37.57500770950783],\n",
       "    [126.96348085025883, 37.575065021418546],\n",
       "    [126.96347552751236, 37.57511488787785],\n",
       "    [126.96347326903143, 37.575133590128864],\n",
       "    [126.96347344906141, 37.5751538952565],\n",
       "    [126.96347167484348, 37.57516763749781],\n",
       "    [126.96347181666118, 37.57517688354403],\n",
       "    [126.96347047446584, 37.57519004488526],\n",
       "    [126.96346775208475, 37.57522469704859],\n",
       "    [126.96345002959076, 37.57528179540372],\n",
       "    [126.96343530675996, 37.57533618233631],\n",
       "    [126.96342536262758, 37.575370066769544],\n",
       "    [126.96338225187935, 37.57550905648394],\n",
       "    [126.96327197994604, 37.57568752560175],\n",
       "    [126.96327066700236, 37.5756896323845],\n",
       "    [126.96318605060152, 37.575813624794705],\n",
       "    [126.9631411895664, 37.57587912220406],\n",
       "    [126.96312569008292, 37.57590371312117],\n",
       "    [126.96310861226368, 37.575940964339146],\n",
       "    [126.96312625605326, 37.575996057262614],\n",
       "    [126.96309726777632, 37.57612035606921],\n",
       "    [126.9631267089276, 37.57612210518029],\n",
       "    [126.96309635269606, 37.57624559556561],\n",
       "    [126.96307862541788, 37.57626600250279],\n",
       "    [126.96297385062036, 37.576386682857645],\n",
       "    [126.96293961522144, 37.57654310000425],\n",
       "    [126.96293159419955, 37.576579148847024],\n",
       "    [126.96294089898466, 37.57660781608515],\n",
       "    [126.96295641637072, 37.57665736569204],\n",
       "    [126.9629873378592, 37.576752632478886],\n",
       "    [126.96303910861874, 37.57686270524904],\n",
       "    [126.9630756273916, 37.576947553283546],\n",
       "    [126.96306659533798, 37.576964165445204],\n",
       "    [126.96307417801908, 37.57699830681638],\n",
       "    [126.96307665223061, 37.57702279498533],\n",
       "    [126.96305969465796, 37.577070326282595],\n",
       "    [126.96303910663453, 37.57710430405636],\n",
       "    [126.96301538086395, 37.57714367983898],\n",
       "    [126.96301055323829, 37.577150428778985],\n",
       "    [126.9629641358487, 37.57726752220989],\n",
       "    [126.96293299487975, 37.5773289591879],\n",
       "    [126.96290801434574, 37.5774115715328],\n",
       "    [126.96288328393996, 37.5774678381127],\n",
       "    [126.96287149798052, 37.57748937049756],\n",
       "    [126.9628632958277, 37.57750208779628],\n",
       "    [126.96286392452762, 37.57753441527042],\n",
       "    [126.96285676512325, 37.57754285473702],\n",
       "    [126.96284739849796, 37.577551446401486],\n",
       "    [126.96284308493318, 37.57755505017805],\n",
       "    [126.96274203463479, 37.57760721981982],\n",
       "    [126.96267174987237, 37.57764269590912],\n",
       "    [126.9626525317981, 37.57765209657632],\n",
       "    [126.96259476651065, 37.57766508698138],\n",
       "    [126.96254832347418, 37.57767560454862],\n",
       "    [126.96240480961717, 37.577723163969665],\n",
       "    [126.96237271207978, 37.57773357853524],\n",
       "    [126.9623296059349, 37.57774624979765],\n",
       "    [126.96229363272329, 37.57776201630431],\n",
       "    [126.9622595899436, 37.57772320617088],\n",
       "    [126.96224474765658, 37.577704569058135],\n",
       "    [126.96223017316143, 37.577688410652975],\n",
       "    [126.96213777286407, 37.57776472774796],\n",
       "    [126.96205144649223, 37.577836102435526],\n",
       "    [126.96203814809986, 37.57784878563503],\n",
       "    [126.96195233442226, 37.57791882437684],\n",
       "    [126.9618735542375, 37.57798394855824],\n",
       "    [126.96185749861507, 37.577991998875945],\n",
       "    [126.96184560693658, 37.57799987409708],\n",
       "    [126.9617974103175, 37.57802998159341],\n",
       "    [126.96175438740147, 37.57805779921563],\n",
       "    [126.96171873310743, 37.57808051275973],\n",
       "    [126.96169812819079, 37.578093999662784],\n",
       "    [126.96165883236793, 37.57811822225217],\n",
       "    [126.96160689707015, 37.57815258859725],\n",
       "    [126.9612156085177, 37.5784246503695],\n",
       "    [126.96116516915487, 37.578562854607824],\n",
       "    [126.96110784425284, 37.578723255150784],\n",
       "    [126.96116508142951, 37.5787252656381],\n",
       "    [126.96117897187084, 37.57872576588854],\n",
       "    [126.96179313067276, 37.578518780385124],\n",
       "    [126.96189474177066, 37.57848447156091],\n",
       "    [126.96201284408764, 37.57845495003717],\n",
       "    [126.96202690486284, 37.578451603124826],\n",
       "    [126.96219404456745, 37.57841335904831],\n",
       "    [126.96255621253975, 37.57835579860971],\n",
       "    [126.9630257598599, 37.57851118265163],\n",
       "    [126.96319211546461, 37.57864942975537],\n",
       "    [126.96321163601228, 37.57866108517016],\n",
       "    [126.96333982396729, 37.57868040575959],\n",
       "    [126.96339362744993, 37.578688308787626],\n",
       "    [126.9635888259452, 37.5787204119176],\n",
       "    [126.96366625721232, 37.57870045285789],\n",
       "    [126.96371409870181, 37.57863612795333],\n",
       "    [126.96381171745048, 37.578523761533226],\n",
       "    [126.9639299154168, 37.57845884633247],\n",
       "    [126.96406659689552, 37.57849052427986],\n",
       "    [126.96419892512358, 37.578424748794],\n",
       "    [126.9643403419884, 37.5784489301107],\n",
       "    [126.9644544440999, 37.578424821292934],\n",
       "    [126.96455986317649, 37.57833130429922],\n",
       "    [126.96474468039865, 37.57829470903903],\n",
       "    [126.96483404498058, 37.57818401508497],\n",
       "    [126.96509668782134, 37.57822603821933],\n",
       "    [126.96525918434082, 37.57825212805368],\n",
       "    [126.96534063971006, 37.57835744056202],\n",
       "    [126.96535481622603, 37.57837662710155],\n",
       "    [126.96540001666429, 37.57843216895977],\n",
       "    [126.96557122461391, 37.57849175933129],\n",
       "    [126.96560715027015, 37.57850871523037],\n",
       "    [126.96586871191715, 37.57863414037308],\n",
       "    [126.96609481413563, 37.57874256203765],\n",
       "    [126.96613342265537, 37.57875689857994],\n",
       "    [126.96615198797959, 37.578764568852364],\n",
       "    [126.96619376171616, 37.578781315463104],\n",
       "    [126.96620113548154, 37.578773686784686],\n",
       "    [126.96621212599119, 37.57877663520757],\n",
       "    [126.96623273534145, 37.57876256827807],\n",
       "    [126.96624427024496, 37.57876762830569],\n",
       "    [126.96624917461672, 37.57876441164436],\n",
       "    [126.96628478168307, 37.57877844193518],\n",
       "    [126.9663510746729, 37.578785984853376],\n",
       "    [126.96640300097894, 37.57878754937829],\n",
       "    [126.96640752100426, 37.578825303696235],\n",
       "    [126.96645348554931, 37.57882533479688],\n",
       "    [126.96647239361634, 37.57864914910731],\n",
       "    [126.96686616721986, 37.57866863962267],\n",
       "    [126.96686263321996, 37.57864530288599],\n",
       "    [126.96684969063377, 37.57862708113077],\n",
       "    [126.96682795143298, 37.578610459494726],\n",
       "    [126.96708290072975, 37.578627153539514],\n",
       "    [126.96711649410186, 37.57854398490315],\n",
       "    [126.96719390959021, 37.57850211596766],\n",
       "    [126.9673043419201, 37.57843547441492],\n",
       "    [126.96734549617037, 37.57845035443795],\n",
       "    [126.96738494986997, 37.57844857053872],\n",
       "    [126.96739978024056, 37.57846227539086],\n",
       "    [126.96756070370348, 37.57846749485613],\n",
       "    [126.96760138948905, 37.57841231417203],\n",
       "    [126.96772020280693, 37.578393185037484],\n",
       "    [126.9677548366723, 37.57838720365789],\n",
       "    [126.9677999534699, 37.57835530298198],\n",
       "    [126.96783474208328, 37.57830383018752],\n",
       "    [126.96794591285416, 37.578250749384715],\n",
       "    [126.96796845569567, 37.57824437572853],\n",
       "    [126.96803498285406, 37.57822612587774],\n",
       "    [126.96816443912512, 37.57823356302342],\n",
       "    [126.96817240654293, 37.57823401984735],\n",
       "    [126.96817364727575, 37.578234091235394],\n",
       "    [126.96830581899353, 37.57822657754381],\n",
       "    [126.96839863015158, 37.57821894533023],\n",
       "    [126.96844834917367, 37.57822256368827],\n",
       "    [126.96845360498776, 37.578222782640296],\n",
       "    [126.96850132907858, 37.578224569474095],\n",
       "    [126.96862538173689, 37.578206664526775],\n",
       "    [126.96863264497856, 37.57820552336464],\n",
       "    [126.96864416458938, 37.57826549661219],\n",
       "    [126.96869454277997, 37.57829477551096],\n",
       "    [126.96873489952763, 37.578277963193194],\n",
       "    [126.96875642107115, 37.57826899793076],\n",
       "    [126.9687745738968, 37.57822935195603],\n",
       "    [126.96878031352901, 37.578204161766784],\n",
       "    [126.96881315775224, 37.57817306715722],\n",
       "    [126.96891815439908, 37.57814984923429],\n",
       "    [126.96893891800623, 37.57814630602843],\n",
       "    [126.9689551203266, 37.57793526596066],\n",
       "    [126.9692122769002, 37.577935303668184],\n",
       "    [126.96921590889153, 37.57801440158838],\n",
       "    [126.96921646216909, 37.578028674165814],\n",
       "    [126.96921879581048, 37.57808888727527],\n",
       "    [126.96926650008848, 37.578096837700436],\n",
       "    [126.96926806859804, 37.57809106653803],\n",
       "    [126.96931155052408, 37.57809408684025],\n",
       "    [126.96933959375669, 37.578086607363005],\n",
       "    [126.96937251082535, 37.5780710298796],\n",
       "    [126.96940579683739, 37.57806292076693],\n",
       "    [126.96940615111338, 37.57807999503622],\n",
       "    [126.96939925857208, 37.57810441933992],\n",
       "    [126.96939794091736, 37.5781117076935],\n",
       "    [126.96939781752138, 37.57811837288949],\n",
       "    [126.96939621705, 37.57813388504875],\n",
       "    [126.96939423236851, 37.57815310811979],\n",
       "    [126.96942038218984, 37.578181549208956],\n",
       "    [126.96944034995357, 37.57818801447474],\n",
       "    [126.96945207543476, 37.57819384659743],\n",
       "    [126.96947370663564, 37.578201843796144],\n",
       "    [126.96948086993547, 37.57820485944084],\n",
       "    [126.9694941125384, 37.57821043698766],\n",
       "    [126.9695042723018, 37.5782268558794],\n",
       "    [126.96950822596129, 37.57824393069432],\n",
       "    [126.96952393165911, 37.57826181995801],\n",
       "    [126.96954692956082, 37.57830318956944],\n",
       "    [126.96959546391116, 37.57835309999753],\n",
       "    [126.96960073834252, 37.57838039177111],\n",
       "    [126.96959955805211, 37.57838329420575],\n",
       "    [126.96959387561989, 37.57839726475334],\n",
       "    [126.96959113927497, 37.57840399451634],\n",
       "    [126.96958755355814, 37.578424770623606],\n",
       "    [126.96961768650299, 37.57843327199197],\n",
       "    [126.96963705171443, 37.578438478943994],\n",
       "    [126.9696431300281, 37.57841595641205],\n",
       "    [126.96964734716873, 37.578403523588726],\n",
       "    [126.96965635913686, 37.578401697392735],\n",
       "    [126.96971515127521, 37.57838978344843],\n",
       "    [126.96975297496637, 37.578391127501554],\n",
       "    [126.96982825722827, 37.57841652902554],\n",
       "    [126.96985051552011, 37.5784172085566],\n",
       "    [126.9698486511056, 37.57845587178209],\n",
       "    [126.9698513873673, 37.57846448470186],\n",
       "    [126.96985011759611, 37.5785276073775],\n",
       "    [126.9698015957257, 37.578526144999756],\n",
       "    [126.96974992055557, 37.5785420421445],\n",
       "    [126.96973194158262, 37.57854992085051],\n",
       "    [126.96971587802251, 37.578571297087564],\n",
       "    [126.9697035237462, 37.57863686668986],\n",
       "    [126.96970366089974, 37.57868616124967],\n",
       "    [126.96970233256403, 37.57877479951653],\n",
       "    [126.96968868861997, 37.57880343703484],\n",
       "    [126.96968540630725, 37.57880599593435],\n",
       "    [126.96966935470704, 37.57881820253245],\n",
       "    [126.96966823744859, 37.578819083534746],\n",
       "    [126.9696687964443, 37.5788195983163],\n",
       "    [126.96966620974374, 37.57901104490778],\n",
       "    [126.96965630041966, 37.57909594310131],\n",
       "    [126.96965605978687, 37.57910333245079],\n",
       "    [126.96965221139416, 37.57912798975694],\n",
       "    [126.96972196666044, 37.579102042765996],\n",
       "    [126.96972695572987, 37.5790999602319],\n",
       "    [126.96973416476169, 37.57909746825622],\n",
       "    [126.96977377025397, 37.57913852064246],\n",
       "    [126.96979835995269, 37.57916504198383],\n",
       "    [126.96982224515682, 37.579190105692106],\n",
       "    [126.96984807989948, 37.579217664059534],\n",
       "    [126.96987126655411, 37.57924222167022],\n",
       "    [126.96990073184433, 37.57927510705272],\n",
       "    [126.96994474270605, 37.57925825304837],\n",
       "    [126.96998477807433, 37.57924303604622],\n",
       "    [126.97000997328948, 37.57923287984504],\n",
       "    [126.97006688048958, 37.57921120021105],\n",
       "    [126.97011511556015, 37.57919288630639],\n",
       "    [126.97014634263117, 37.57918122728185],\n",
       "    [126.97016645237132, 37.57917287975226],\n",
       "    [126.97017791054681, 37.57916912510951],\n",
       "    [126.97021623927158, 37.57915394482268],\n",
       "    [126.97023652828027, 37.57914644596237],\n",
       "    [126.97025809961659, 37.579140244768574],\n",
       "    [126.97026212767648, 37.57913943422098],\n",
       "    [126.9702824958888, 37.579133285309545],\n",
       "    [126.97029136236331, 37.57913087374642],\n",
       "    [126.97030922796579, 37.57912564288639],\n",
       "    [126.97033303922, 37.579118802166846],\n",
       "    [126.97039244766972, 37.57909924815257],\n",
       "    [126.97039764436825, 37.57909752767229],\n",
       "    [126.97043980046274, 37.57907503235185],\n",
       "    [126.97044812426338, 37.57907091810001],\n",
       "    [126.97045250603986, 37.57906883762395],\n",
       "    [126.97047415750357, 37.57904888704425],\n",
       "    [126.97049754523653, 37.57902780134382],\n",
       "    [126.97051881522727, 37.579002352050146],\n",
       "    [126.97053492394235, 37.57898196798149],\n",
       "    [126.97054209752608, 37.578973312096295],\n",
       "    [126.97054589739292, 37.57896941039963],\n",
       "    [126.97055325900385, 37.57895822227226],\n",
       "    [126.97056837190216, 37.57893516214689],\n",
       "    [126.97058530543079, 37.57891114635895],\n",
       "    [126.97060438222874, 37.578883246966484],\n",
       "    [126.97062116988089, 37.57885842801575],\n",
       "    [126.97063461547772, 37.57883888136283],\n",
       "    [126.97064831090572, 37.578818278551374],\n",
       "    [126.97065450749305, 37.57881004551519],\n",
       "    [126.97065724803105, 37.57880527166444],\n",
       "    [126.97066139481758, 37.57879958745211],\n",
       "    [126.97066577878788, 37.5787924257915],\n",
       "    [126.97068384469318, 37.578766822390435],\n",
       "    [126.97069512710162, 37.5787492306553],\n",
       "    [126.97069869496066, 37.5787453035769],\n",
       "    [126.97070385057182, 37.57873786386678],\n",
       "    [126.97071060441932, 37.57872709212913],\n",
       "    [126.97071863320639, 37.57871444049452],\n",
       "    [126.97074058448895, 37.578682957007125],\n",
       "    [126.97076580037267, 37.57864596801055],\n",
       "    [126.97076770017473, 37.57864224014787],\n",
       "    [126.97078251015537, 37.578619845936885],\n",
       "    [126.97081186009495, 37.57857736193824],\n",
       "    [126.97084109512103, 37.578535076920375],\n",
       "    [126.97086686602965, 37.578498350282736],\n",
       "    [126.97087490983172, 37.57848609920765],\n",
       "    [126.97090346788703, 37.5784606626619],\n",
       "    [126.97094248407666, 37.578427067157],\n",
       "    [126.97096437398494, 37.57840874538148],\n",
       "    [126.97099553660408, 37.57838919426091],\n",
       "    [126.97100429529469, 37.57838378398152],\n",
       "    [126.97100498460331, 37.57838335983315],\n",
       "    [126.9710306391262, 37.57836786831892],\n",
       "    [126.97104742272575, 37.57835674401196],\n",
       "    [126.97108130250592, 37.578335101900116],\n",
       "    [126.97109636141852, 37.578325943821355],\n",
       "    [126.97112310659077, 37.578316139232726],\n",
       "    [126.97117881035703, 37.57829630443162],\n",
       "    [126.97118496996801, 37.57830542419657],\n",
       "    [126.97118846089447, 37.578311118307106],\n",
       "    [126.97125971438037, 37.5782852251712],\n",
       "    [126.97131657400855, 37.57826435412242],\n",
       "    [126.97132601677222, 37.57826088717149],\n",
       "    [126.97133807687311, 37.578256224752536],\n",
       "    [126.97138666092117, 37.578238748928186],\n",
       "    [126.97141449133217, 37.57822851169234],\n",
       "    [126.97145735594059, 37.57821330505157],\n",
       "    [126.97150261283586, 37.57819678742779],\n",
       "    [126.97150565800894, 37.57819568970318],\n",
       "    [126.97152940172745, 37.578187130474426],\n",
       "    [126.97160179484223, 37.57816141770654],\n",
       "    [126.97165857646974, 37.57814069095288],\n",
       "    [126.97165588456187, 37.578156514937625],\n",
       "    [126.97165483380434, 37.57816161274753],\n",
       "    [126.97164749370087, 37.57819674856542],\n",
       "    [126.97164029048585, 37.578232064362936],\n",
       "    [126.97163413160338, 37.57826348051509],\n",
       "    [126.97162377441474, 37.578290028621986],\n",
       "    [126.9716145705127, 37.57831963386154],\n",
       "    [126.971607214901, 37.578341894797866],\n",
       "    [126.97159992695254, 37.57836102175435],\n",
       "    [126.9715989386926, 37.5783693923377],\n",
       "    [126.97158881667251, 37.578403653705806],\n",
       "    [126.97157906566858, 37.57844015899097],\n",
       "    [126.9715716288515, 37.57846528462955],\n",
       "    [126.97156623248007, 37.578484340137926],\n",
       "    [126.97155869552213, 37.57850825031447],\n",
       "    [126.97155177770925, 37.5785358011075],\n",
       "    [126.97154634167875, 37.578550112948314],\n",
       "    [126.97153955820438, 37.578574549889325],\n",
       "    [126.97152861997797, 37.57861048620726],\n",
       "    [126.97151836035727, 37.57864494735669],\n",
       "    [126.97151627520903, 37.578654073456626],\n",
       "    [126.97150960910383, 37.57867093720974],\n",
       "    [126.97149585246362, 37.57870937024939],\n",
       "    [126.97148425740535, 37.57874019990138],\n",
       "    [126.9714738550223, 37.5787692171863],\n",
       "    [126.97147089537148, 37.57877900997017],\n",
       "    [126.97146262273752, 37.578802173542385],\n",
       "    [126.97144029438645, 37.5788661459591],\n",
       "    [126.97140587588069, 37.578956695343834],\n",
       "    [126.9714009526935, 37.57897157373297],\n",
       "    [126.97138851471233, 37.57900528961675],\n",
       "    [126.97137320251751, 37.579045100733914],\n",
       "    [126.97134952294502, 37.57912364362474],\n",
       "    [126.9713322077742, 37.57917763653526],\n",
       "    [126.97131331553379, 37.579242186156186],\n",
       "    [126.97129393591744, 37.579293905636035],\n",
       "    [126.97127433791515, 37.57935405111106],\n",
       "    [126.97124738811313, 37.5794533700317],\n",
       "    [126.97124076033307, 37.5794950007964],\n",
       "    [126.97124061246227, 37.57949669285916],\n",
       "    [126.97124014669281, 37.57950201952193],\n",
       "    [126.97127076649693, 37.57950582303895],\n",
       "    [126.9712740282493, 37.579506075315095],\n",
       "    [126.97137104721462, 37.579511701270285],\n",
       "    ...]]]}"
      ]
     },
     "execution_count": 29,
     "metadata": {},
     "output_type": "execute_result"
    }
   ],
   "source": [
    "geo_seoul['features'][0]['geometry']"
   ]
  },
  {
   "cell_type": "code",
   "execution_count": 30,
   "id": "27246c92-cf8f-4896-b010-46fee3259f5d",
   "metadata": {},
   "outputs": [
    {
     "data": {
      "text/html": [
       "<div>\n",
       "<style scoped>\n",
       "    .dataframe tbody tr th:only-of-type {\n",
       "        vertical-align: middle;\n",
       "    }\n",
       "\n",
       "    .dataframe tbody tr th {\n",
       "        vertical-align: top;\n",
       "    }\n",
       "\n",
       "    .dataframe thead th {\n",
       "        text-align: right;\n",
       "    }\n",
       "</style>\n",
       "<table border=\"1\" class=\"dataframe\">\n",
       "  <thead>\n",
       "    <tr style=\"text-align: right;\">\n",
       "      <th></th>\n",
       "      <th>code</th>\n",
       "      <th>region</th>\n",
       "      <th>pop</th>\n",
       "    </tr>\n",
       "  </thead>\n",
       "  <tbody>\n",
       "    <tr>\n",
       "      <th>0</th>\n",
       "      <td>1101053</td>\n",
       "      <td>사직동</td>\n",
       "      <td>418.0</td>\n",
       "    </tr>\n",
       "    <tr>\n",
       "      <th>1</th>\n",
       "      <td>1101054</td>\n",
       "      <td>삼청동</td>\n",
       "      <td>112.0</td>\n",
       "    </tr>\n",
       "    <tr>\n",
       "      <th>2</th>\n",
       "      <td>1101055</td>\n",
       "      <td>부암동</td>\n",
       "      <td>458.0</td>\n",
       "    </tr>\n",
       "    <tr>\n",
       "      <th>3</th>\n",
       "      <td>1101056</td>\n",
       "      <td>평창동</td>\n",
       "      <td>429.0</td>\n",
       "    </tr>\n",
       "    <tr>\n",
       "      <th>4</th>\n",
       "      <td>1101057</td>\n",
       "      <td>무악동</td>\n",
       "      <td>102.0</td>\n",
       "    </tr>\n",
       "  </tbody>\n",
       "</table>\n",
       "</div>"
      ],
      "text/plain": [
       "      code region    pop\n",
       "0  1101053    사직동  418.0\n",
       "1  1101054    삼청동  112.0\n",
       "2  1101055    부암동  458.0\n",
       "3  1101056    평창동  429.0\n",
       "4  1101057    무악동  102.0"
      ]
     },
     "execution_count": 30,
     "metadata": {},
     "output_type": "execute_result"
    }
   ],
   "source": [
    "foreigner = pd.read_csv('Foreigner_EMD_Seoul.csv')\n",
    "foreigner.head()"
   ]
  },
  {
   "cell_type": "code",
   "execution_count": 31,
   "id": "1f792486-c845-4de7-94f3-b936dadfcc48",
   "metadata": {},
   "outputs": [
    {
     "name": "stdout",
     "output_type": "stream",
     "text": [
      "<class 'pandas.core.frame.DataFrame'>\n",
      "RangeIndex: 3490 entries, 0 to 3489\n",
      "Data columns (total 3 columns):\n",
      " #   Column  Non-Null Count  Dtype  \n",
      "---  ------  --------------  -----  \n",
      " 0   code    3490 non-null   int64  \n",
      " 1   region  3490 non-null   object \n",
      " 2   pop     3486 non-null   float64\n",
      "dtypes: float64(1), int64(1), object(1)\n",
      "memory usage: 81.9+ KB\n"
     ]
    }
   ],
   "source": [
    "foreigner.info()"
   ]
  },
  {
   "cell_type": "code",
   "execution_count": 32,
   "id": "d4f74366-7e51-45c8-9b6a-90d95bd35d40",
   "metadata": {},
   "outputs": [],
   "source": [
    "foreigner['code'] = foreigner['code'].astype(str)"
   ]
  },
  {
   "cell_type": "code",
   "execution_count": 33,
   "id": "5f5725cb-de09-4ff0-828b-f1a3b1dd9f2b",
   "metadata": {},
   "outputs": [
    {
     "data": {
      "text/plain": [
       "[7.0, 98.0, 200.0, 280.0, 386.0, 529.5, 766.0, 1355.5, 26896.0]"
      ]
     },
     "execution_count": 33,
     "metadata": {},
     "output_type": "execute_result"
    }
   ],
   "source": [
    "bins = list(foreigner['pop'].quantile([0,0.2,0.4,0.5,0.6,0.7,0.8,0.9,1]))\n",
    "bins"
   ]
  },
  {
   "cell_type": "code",
   "execution_count": 56,
   "id": "27b95b8e-f03e-4247-9a86-53dd81f2da0e",
   "metadata": {},
   "outputs": [],
   "source": [
    "map_seoul = folium.Map(location = [37.56, 127],\n",
    "                      zoom_start = 12,\n",
    "                      tiles = 'cartodbpositron')"
   ]
  },
  {
   "cell_type": "markdown",
   "id": "9f31bef3-fb23-4889-abd4-d6b359ea8976",
   "metadata": {
    "jupyter": {
     "outputs_hidden": true
    },
    "tags": []
   },
   "source": [
    "folium.Choropleth(\n",
    "    geo_data = geo_seoul,\n",
    "    data = foreigner,\n",
    "    columns = ('code', 'pop'),\n",
    "    key_on = 'feature.properties.ADM_DR_CD',\n",
    "    fill_color = 'PuBuGn',\n",
    "    nan_fill_color = 'White',\n",
    "    fill_opacity = 1,\n",
    "    line_opacity = 0.5,\n",
    "    bins = bins).add_to(map_seoul)\n",
    "\n",
    "map_seoul"
   ]
  },
  {
   "cell_type": "code",
   "execution_count": 34,
   "id": "daea4c58-8794-4b2f-9d07-c9cfa8f76b61",
   "metadata": {},
   "outputs": [
    {
     "name": "stdout",
     "output_type": "stream",
     "text": [
      "Requirement already satisfied: plotly in c:\\users\\admin\\anaconda3\\lib\\site-packages (5.6.0)\n",
      "Requirement already satisfied: six in c:\\users\\admin\\anaconda3\\lib\\site-packages (from plotly) (1.16.0)\n",
      "Requirement already satisfied: tenacity>=6.2.0 in c:\\users\\admin\\anaconda3\\lib\\site-packages (from plotly) (8.0.1)\n",
      "Note: you may need to restart the kernel to use updated packages.\n"
     ]
    }
   ],
   "source": [
    "pip install plotly"
   ]
  },
  {
   "cell_type": "code",
   "execution_count": 35,
   "id": "1026b895-adcb-4bfb-8460-cc06b398e246",
   "metadata": {},
   "outputs": [],
   "source": [
    "import pydataset"
   ]
  },
  {
   "cell_type": "code",
   "execution_count": 37,
   "id": "600b9493-4fb3-4616-a652-c027f58f2b55",
   "metadata": {},
   "outputs": [],
   "source": [
    "mpg = pydataset.data('mpg')"
   ]
  },
  {
   "cell_type": "code",
   "execution_count": 38,
   "id": "99240ffb-3ffe-461e-ba9e-af002c90dfb1",
   "metadata": {},
   "outputs": [],
   "source": [
    "import plotly.express as px"
   ]
  },
  {
   "cell_type": "code",
   "execution_count": 41,
   "id": "e4c37485-8bb2-48be-ba9c-99d7acbd7b88",
   "metadata": {},
   "outputs": [],
   "source": [
    "import matplotlib.pyplot as plt"
   ]
  },
  {
   "cell_type": "code",
   "execution_count": 46,
   "id": "b5281956-18e5-4f9f-837c-43b190a125c7",
   "metadata": {
    "collapsed": true,
    "jupyter": {
     "outputs_hidden": true
    },
    "tags": []
   },
   "outputs": [
    {
     "data": {
      "application/vnd.plotly.v1+json": {
       "config": {
        "plotlyServerURL": "https://plot.ly"
       },
       "data": [
        {
         "hovertemplate": "drv=f<br>cty=%{x}<br>hwy=%{y}<extra></extra>",
         "legendgroup": "f",
         "marker": {
          "color": "#636efa",
          "symbol": "circle"
         },
         "mode": "markers",
         "name": "f",
         "orientation": "v",
         "showlegend": true,
         "type": "scatter",
         "x": [
          18,
          21,
          20,
          21,
          16,
          18,
          18,
          19,
          22,
          18,
          18,
          17,
          18,
          17,
          16,
          16,
          17,
          17,
          11,
          15,
          15,
          16,
          16,
          28,
          24,
          25,
          23,
          24,
          26,
          25,
          24,
          21,
          18,
          18,
          21,
          21,
          18,
          18,
          19,
          19,
          19,
          20,
          20,
          17,
          16,
          17,
          21,
          19,
          23,
          23,
          19,
          19,
          18,
          19,
          19,
          18,
          16,
          17,
          18,
          16,
          21,
          21,
          21,
          21,
          18,
          18,
          19,
          21,
          21,
          21,
          22,
          18,
          18,
          18,
          24,
          24,
          26,
          28,
          26,
          21,
          19,
          21,
          22,
          17,
          33,
          21,
          19,
          22,
          21,
          21,
          21,
          16,
          17,
          35,
          29,
          21,
          19,
          20,
          20,
          21,
          18,
          19,
          21,
          16,
          18,
          17
         ],
         "xaxis": "x",
         "y": [
          29,
          29,
          31,
          30,
          26,
          26,
          27,
          27,
          30,
          26,
          29,
          26,
          24,
          24,
          22,
          22,
          24,
          24,
          17,
          22,
          21,
          23,
          23,
          33,
          32,
          32,
          29,
          32,
          34,
          36,
          36,
          29,
          26,
          27,
          30,
          31,
          26,
          26,
          28,
          26,
          29,
          28,
          27,
          24,
          24,
          24,
          29,
          27,
          31,
          32,
          27,
          26,
          26,
          25,
          25,
          26,
          26,
          27,
          28,
          25,
          29,
          27,
          31,
          31,
          26,
          26,
          28,
          27,
          29,
          31,
          31,
          26,
          26,
          27,
          30,
          33,
          35,
          37,
          35,
          29,
          26,
          29,
          29,
          24,
          44,
          29,
          26,
          29,
          29,
          29,
          29,
          23,
          24,
          44,
          41,
          29,
          26,
          28,
          29,
          29,
          29,
          28,
          29,
          26,
          26,
          26
         ],
         "yaxis": "y"
        },
        {
         "hovertemplate": "drv=4<br>cty=%{x}<br>hwy=%{y}<extra></extra>",
         "legendgroup": "4",
         "marker": {
          "color": "#EF553B",
          "symbol": "circle"
         },
         "mode": "markers",
         "name": "4",
         "orientation": "v",
         "showlegend": true,
         "type": "scatter",
         "x": [
          18,
          16,
          20,
          19,
          15,
          17,
          17,
          15,
          15,
          17,
          16,
          14,
          11,
          11,
          14,
          15,
          14,
          13,
          14,
          14,
          14,
          9,
          11,
          11,
          13,
          13,
          9,
          13,
          11,
          13,
          11,
          12,
          9,
          13,
          13,
          12,
          9,
          11,
          11,
          13,
          11,
          14,
          15,
          14,
          13,
          13,
          13,
          14,
          14,
          13,
          13,
          13,
          11,
          13,
          17,
          15,
          15,
          14,
          9,
          14,
          13,
          11,
          11,
          12,
          12,
          11,
          14,
          13,
          13,
          13,
          14,
          15,
          14,
          12,
          18,
          18,
          20,
          19,
          20,
          18,
          21,
          19,
          19,
          19,
          20,
          20,
          19,
          20,
          15,
          16,
          15,
          15,
          16,
          14,
          11,
          13,
          15,
          16,
          17,
          15,
          15,
          15,
          16
         ],
         "xaxis": "x",
         "y": [
          26,
          25,
          28,
          27,
          25,
          25,
          25,
          25,
          24,
          25,
          23,
          19,
          14,
          15,
          17,
          19,
          18,
          17,
          17,
          19,
          19,
          12,
          17,
          15,
          17,
          17,
          12,
          17,
          16,
          18,
          15,
          16,
          12,
          17,
          17,
          16,
          12,
          15,
          16,
          17,
          15,
          17,
          19,
          17,
          19,
          19,
          17,
          17,
          17,
          16,
          16,
          17,
          15,
          17,
          22,
          19,
          20,
          17,
          12,
          19,
          18,
          14,
          15,
          18,
          18,
          15,
          17,
          19,
          19,
          17,
          17,
          17,
          20,
          18,
          25,
          24,
          27,
          25,
          26,
          23,
          26,
          26,
          26,
          26,
          25,
          27,
          25,
          27,
          20,
          20,
          19,
          17,
          20,
          17,
          15,
          18,
          20,
          20,
          22,
          17,
          19,
          18,
          20
         ],
         "yaxis": "y"
        },
        {
         "hovertemplate": "drv=r<br>cty=%{x}<br>hwy=%{y}<extra></extra>",
         "legendgroup": "r",
         "marker": {
          "color": "#00cc96",
          "symbol": "circle"
         },
         "mode": "markers",
         "name": "r",
         "orientation": "v",
         "showlegend": true,
         "type": "scatter",
         "x": [
          14,
          11,
          14,
          13,
          12,
          16,
          15,
          16,
          15,
          15,
          11,
          11,
          12,
          18,
          18,
          17,
          16,
          15,
          15,
          15,
          15,
          14,
          11,
          11,
          12
         ],
         "xaxis": "x",
         "y": [
          20,
          15,
          20,
          17,
          17,
          26,
          23,
          26,
          25,
          24,
          17,
          17,
          18,
          26,
          25,
          26,
          24,
          21,
          22,
          23,
          22,
          20,
          17,
          16,
          18
         ],
         "yaxis": "y"
        }
       ],
       "layout": {
        "autosize": true,
        "legend": {
         "title": {
          "text": "drv"
         },
         "tracegroupgap": 0
        },
        "margin": {
         "t": 60
        },
        "template": {
         "data": {
          "bar": [
           {
            "error_x": {
             "color": "#2a3f5f"
            },
            "error_y": {
             "color": "#2a3f5f"
            },
            "marker": {
             "line": {
              "color": "#E5ECF6",
              "width": 0.5
             },
             "pattern": {
              "fillmode": "overlay",
              "size": 10,
              "solidity": 0.2
             }
            },
            "type": "bar"
           }
          ],
          "barpolar": [
           {
            "marker": {
             "line": {
              "color": "#E5ECF6",
              "width": 0.5
             },
             "pattern": {
              "fillmode": "overlay",
              "size": 10,
              "solidity": 0.2
             }
            },
            "type": "barpolar"
           }
          ],
          "carpet": [
           {
            "aaxis": {
             "endlinecolor": "#2a3f5f",
             "gridcolor": "white",
             "linecolor": "white",
             "minorgridcolor": "white",
             "startlinecolor": "#2a3f5f"
            },
            "baxis": {
             "endlinecolor": "#2a3f5f",
             "gridcolor": "white",
             "linecolor": "white",
             "minorgridcolor": "white",
             "startlinecolor": "#2a3f5f"
            },
            "type": "carpet"
           }
          ],
          "choropleth": [
           {
            "colorbar": {
             "outlinewidth": 0,
             "ticks": ""
            },
            "type": "choropleth"
           }
          ],
          "contour": [
           {
            "colorbar": {
             "outlinewidth": 0,
             "ticks": ""
            },
            "colorscale": [
             [
              0,
              "#0d0887"
             ],
             [
              0.1111111111111111,
              "#46039f"
             ],
             [
              0.2222222222222222,
              "#7201a8"
             ],
             [
              0.3333333333333333,
              "#9c179e"
             ],
             [
              0.4444444444444444,
              "#bd3786"
             ],
             [
              0.5555555555555556,
              "#d8576b"
             ],
             [
              0.6666666666666666,
              "#ed7953"
             ],
             [
              0.7777777777777778,
              "#fb9f3a"
             ],
             [
              0.8888888888888888,
              "#fdca26"
             ],
             [
              1,
              "#f0f921"
             ]
            ],
            "type": "contour"
           }
          ],
          "contourcarpet": [
           {
            "colorbar": {
             "outlinewidth": 0,
             "ticks": ""
            },
            "type": "contourcarpet"
           }
          ],
          "heatmap": [
           {
            "colorbar": {
             "outlinewidth": 0,
             "ticks": ""
            },
            "colorscale": [
             [
              0,
              "#0d0887"
             ],
             [
              0.1111111111111111,
              "#46039f"
             ],
             [
              0.2222222222222222,
              "#7201a8"
             ],
             [
              0.3333333333333333,
              "#9c179e"
             ],
             [
              0.4444444444444444,
              "#bd3786"
             ],
             [
              0.5555555555555556,
              "#d8576b"
             ],
             [
              0.6666666666666666,
              "#ed7953"
             ],
             [
              0.7777777777777778,
              "#fb9f3a"
             ],
             [
              0.8888888888888888,
              "#fdca26"
             ],
             [
              1,
              "#f0f921"
             ]
            ],
            "type": "heatmap"
           }
          ],
          "heatmapgl": [
           {
            "colorbar": {
             "outlinewidth": 0,
             "ticks": ""
            },
            "colorscale": [
             [
              0,
              "#0d0887"
             ],
             [
              0.1111111111111111,
              "#46039f"
             ],
             [
              0.2222222222222222,
              "#7201a8"
             ],
             [
              0.3333333333333333,
              "#9c179e"
             ],
             [
              0.4444444444444444,
              "#bd3786"
             ],
             [
              0.5555555555555556,
              "#d8576b"
             ],
             [
              0.6666666666666666,
              "#ed7953"
             ],
             [
              0.7777777777777778,
              "#fb9f3a"
             ],
             [
              0.8888888888888888,
              "#fdca26"
             ],
             [
              1,
              "#f0f921"
             ]
            ],
            "type": "heatmapgl"
           }
          ],
          "histogram": [
           {
            "marker": {
             "pattern": {
              "fillmode": "overlay",
              "size": 10,
              "solidity": 0.2
             }
            },
            "type": "histogram"
           }
          ],
          "histogram2d": [
           {
            "colorbar": {
             "outlinewidth": 0,
             "ticks": ""
            },
            "colorscale": [
             [
              0,
              "#0d0887"
             ],
             [
              0.1111111111111111,
              "#46039f"
             ],
             [
              0.2222222222222222,
              "#7201a8"
             ],
             [
              0.3333333333333333,
              "#9c179e"
             ],
             [
              0.4444444444444444,
              "#bd3786"
             ],
             [
              0.5555555555555556,
              "#d8576b"
             ],
             [
              0.6666666666666666,
              "#ed7953"
             ],
             [
              0.7777777777777778,
              "#fb9f3a"
             ],
             [
              0.8888888888888888,
              "#fdca26"
             ],
             [
              1,
              "#f0f921"
             ]
            ],
            "type": "histogram2d"
           }
          ],
          "histogram2dcontour": [
           {
            "colorbar": {
             "outlinewidth": 0,
             "ticks": ""
            },
            "colorscale": [
             [
              0,
              "#0d0887"
             ],
             [
              0.1111111111111111,
              "#46039f"
             ],
             [
              0.2222222222222222,
              "#7201a8"
             ],
             [
              0.3333333333333333,
              "#9c179e"
             ],
             [
              0.4444444444444444,
              "#bd3786"
             ],
             [
              0.5555555555555556,
              "#d8576b"
             ],
             [
              0.6666666666666666,
              "#ed7953"
             ],
             [
              0.7777777777777778,
              "#fb9f3a"
             ],
             [
              0.8888888888888888,
              "#fdca26"
             ],
             [
              1,
              "#f0f921"
             ]
            ],
            "type": "histogram2dcontour"
           }
          ],
          "mesh3d": [
           {
            "colorbar": {
             "outlinewidth": 0,
             "ticks": ""
            },
            "type": "mesh3d"
           }
          ],
          "parcoords": [
           {
            "line": {
             "colorbar": {
              "outlinewidth": 0,
              "ticks": ""
             }
            },
            "type": "parcoords"
           }
          ],
          "pie": [
           {
            "automargin": true,
            "type": "pie"
           }
          ],
          "scatter": [
           {
            "marker": {
             "colorbar": {
              "outlinewidth": 0,
              "ticks": ""
             }
            },
            "type": "scatter"
           }
          ],
          "scatter3d": [
           {
            "line": {
             "colorbar": {
              "outlinewidth": 0,
              "ticks": ""
             }
            },
            "marker": {
             "colorbar": {
              "outlinewidth": 0,
              "ticks": ""
             }
            },
            "type": "scatter3d"
           }
          ],
          "scattercarpet": [
           {
            "marker": {
             "colorbar": {
              "outlinewidth": 0,
              "ticks": ""
             }
            },
            "type": "scattercarpet"
           }
          ],
          "scattergeo": [
           {
            "marker": {
             "colorbar": {
              "outlinewidth": 0,
              "ticks": ""
             }
            },
            "type": "scattergeo"
           }
          ],
          "scattergl": [
           {
            "marker": {
             "colorbar": {
              "outlinewidth": 0,
              "ticks": ""
             }
            },
            "type": "scattergl"
           }
          ],
          "scattermapbox": [
           {
            "marker": {
             "colorbar": {
              "outlinewidth": 0,
              "ticks": ""
             }
            },
            "type": "scattermapbox"
           }
          ],
          "scatterpolar": [
           {
            "marker": {
             "colorbar": {
              "outlinewidth": 0,
              "ticks": ""
             }
            },
            "type": "scatterpolar"
           }
          ],
          "scatterpolargl": [
           {
            "marker": {
             "colorbar": {
              "outlinewidth": 0,
              "ticks": ""
             }
            },
            "type": "scatterpolargl"
           }
          ],
          "scatterternary": [
           {
            "marker": {
             "colorbar": {
              "outlinewidth": 0,
              "ticks": ""
             }
            },
            "type": "scatterternary"
           }
          ],
          "surface": [
           {
            "colorbar": {
             "outlinewidth": 0,
             "ticks": ""
            },
            "colorscale": [
             [
              0,
              "#0d0887"
             ],
             [
              0.1111111111111111,
              "#46039f"
             ],
             [
              0.2222222222222222,
              "#7201a8"
             ],
             [
              0.3333333333333333,
              "#9c179e"
             ],
             [
              0.4444444444444444,
              "#bd3786"
             ],
             [
              0.5555555555555556,
              "#d8576b"
             ],
             [
              0.6666666666666666,
              "#ed7953"
             ],
             [
              0.7777777777777778,
              "#fb9f3a"
             ],
             [
              0.8888888888888888,
              "#fdca26"
             ],
             [
              1,
              "#f0f921"
             ]
            ],
            "type": "surface"
           }
          ],
          "table": [
           {
            "cells": {
             "fill": {
              "color": "#EBF0F8"
             },
             "line": {
              "color": "white"
             }
            },
            "header": {
             "fill": {
              "color": "#C8D4E3"
             },
             "line": {
              "color": "white"
             }
            },
            "type": "table"
           }
          ]
         },
         "layout": {
          "annotationdefaults": {
           "arrowcolor": "#2a3f5f",
           "arrowhead": 0,
           "arrowwidth": 1
          },
          "autotypenumbers": "strict",
          "coloraxis": {
           "colorbar": {
            "outlinewidth": 0,
            "ticks": ""
           }
          },
          "colorscale": {
           "diverging": [
            [
             0,
             "#8e0152"
            ],
            [
             0.1,
             "#c51b7d"
            ],
            [
             0.2,
             "#de77ae"
            ],
            [
             0.3,
             "#f1b6da"
            ],
            [
             0.4,
             "#fde0ef"
            ],
            [
             0.5,
             "#f7f7f7"
            ],
            [
             0.6,
             "#e6f5d0"
            ],
            [
             0.7,
             "#b8e186"
            ],
            [
             0.8,
             "#7fbc41"
            ],
            [
             0.9,
             "#4d9221"
            ],
            [
             1,
             "#276419"
            ]
           ],
           "sequential": [
            [
             0,
             "#0d0887"
            ],
            [
             0.1111111111111111,
             "#46039f"
            ],
            [
             0.2222222222222222,
             "#7201a8"
            ],
            [
             0.3333333333333333,
             "#9c179e"
            ],
            [
             0.4444444444444444,
             "#bd3786"
            ],
            [
             0.5555555555555556,
             "#d8576b"
            ],
            [
             0.6666666666666666,
             "#ed7953"
            ],
            [
             0.7777777777777778,
             "#fb9f3a"
            ],
            [
             0.8888888888888888,
             "#fdca26"
            ],
            [
             1,
             "#f0f921"
            ]
           ],
           "sequentialminus": [
            [
             0,
             "#0d0887"
            ],
            [
             0.1111111111111111,
             "#46039f"
            ],
            [
             0.2222222222222222,
             "#7201a8"
            ],
            [
             0.3333333333333333,
             "#9c179e"
            ],
            [
             0.4444444444444444,
             "#bd3786"
            ],
            [
             0.5555555555555556,
             "#d8576b"
            ],
            [
             0.6666666666666666,
             "#ed7953"
            ],
            [
             0.7777777777777778,
             "#fb9f3a"
            ],
            [
             0.8888888888888888,
             "#fdca26"
            ],
            [
             1,
             "#f0f921"
            ]
           ]
          },
          "colorway": [
           "#636efa",
           "#EF553B",
           "#00cc96",
           "#ab63fa",
           "#FFA15A",
           "#19d3f3",
           "#FF6692",
           "#B6E880",
           "#FF97FF",
           "#FECB52"
          ],
          "font": {
           "color": "#2a3f5f"
          },
          "geo": {
           "bgcolor": "white",
           "lakecolor": "white",
           "landcolor": "#E5ECF6",
           "showlakes": true,
           "showland": true,
           "subunitcolor": "white"
          },
          "hoverlabel": {
           "align": "left"
          },
          "hovermode": "closest",
          "mapbox": {
           "style": "light"
          },
          "paper_bgcolor": "white",
          "plot_bgcolor": "#E5ECF6",
          "polar": {
           "angularaxis": {
            "gridcolor": "white",
            "linecolor": "white",
            "ticks": ""
           },
           "bgcolor": "#E5ECF6",
           "radialaxis": {
            "gridcolor": "white",
            "linecolor": "white",
            "ticks": ""
           }
          },
          "scene": {
           "xaxis": {
            "backgroundcolor": "#E5ECF6",
            "gridcolor": "white",
            "gridwidth": 2,
            "linecolor": "white",
            "showbackground": true,
            "ticks": "",
            "zerolinecolor": "white"
           },
           "yaxis": {
            "backgroundcolor": "#E5ECF6",
            "gridcolor": "white",
            "gridwidth": 2,
            "linecolor": "white",
            "showbackground": true,
            "ticks": "",
            "zerolinecolor": "white"
           },
           "zaxis": {
            "backgroundcolor": "#E5ECF6",
            "gridcolor": "white",
            "gridwidth": 2,
            "linecolor": "white",
            "showbackground": true,
            "ticks": "",
            "zerolinecolor": "white"
           }
          },
          "shapedefaults": {
           "line": {
            "color": "#2a3f5f"
           }
          },
          "ternary": {
           "aaxis": {
            "gridcolor": "white",
            "linecolor": "white",
            "ticks": ""
           },
           "baxis": {
            "gridcolor": "white",
            "linecolor": "white",
            "ticks": ""
           },
           "bgcolor": "#E5ECF6",
           "caxis": {
            "gridcolor": "white",
            "linecolor": "white",
            "ticks": ""
           }
          },
          "title": {
           "x": 0.05
          },
          "xaxis": {
           "automargin": true,
           "gridcolor": "white",
           "linecolor": "white",
           "ticks": "",
           "title": {
            "standoff": 15
           },
           "zerolinecolor": "white",
           "zerolinewidth": 2
          },
          "yaxis": {
           "automargin": true,
           "gridcolor": "white",
           "linecolor": "white",
           "ticks": "",
           "title": {
            "standoff": 15
           },
           "zerolinecolor": "white",
           "zerolinewidth": 2
          }
         }
        },
        "xaxis": {
         "anchor": "y",
         "autorange": true,
         "domain": [
          0,
          1
         ],
         "range": [
          7.2976190476190474,
          36.70238095238095
         ],
         "showspikes": false,
         "title": {
          "text": "cty"
         },
         "type": "linear"
        },
        "yaxis": {
         "anchor": "x",
         "autorange": true,
         "domain": [
          0,
          1
         ],
         "range": [
          9.52230971128609,
          46.47769028871391
         ],
         "showspikes": false,
         "title": {
          "text": "hwy"
         },
         "type": "linear"
        }
       }
      },
      "image/png": "[encoded data removed]",
      "text/html": [
       "<div>                            <div id=\"b691380b-6a16-4cb4-9e7c-132d04e9947d\" class=\"plotly-graph-div\" style=\"height:525px; width:100%;\"></div>            <script type=\"text/javascript\">                require([\"plotly\"], function(Plotly) {                    window.PLOTLYENV=window.PLOTLYENV || {};                                    if (document.getElementById(\"b691380b-6a16-4cb4-9e7c-132d04e9947d\")) {                    Plotly.newPlot(                        \"b691380b-6a16-4cb4-9e7c-132d04e9947d\",                        [{\"hovertemplate\":\"drv=f<br>cty=%{x}<br>hwy=%{y}<extra></extra>\",\"legendgroup\":\"f\",\"marker\":{\"color\":\"#636efa\",\"symbol\":\"circle\"},\"mode\":\"markers\",\"name\":\"f\",\"orientation\":\"v\",\"showlegend\":true,\"x\":[18,21,20,21,16,18,18,19,22,18,18,17,18,17,16,16,17,17,11,15,15,16,16,28,24,25,23,24,26,25,24,21,18,18,21,21,18,18,19,19,19,20,20,17,16,17,21,19,23,23,19,19,18,19,19,18,16,17,18,16,21,21,21,21,18,18,19,21,21,21,22,18,18,18,24,24,26,28,26,21,19,21,22,17,33,21,19,22,21,21,21,16,17,35,29,21,19,20,20,21,18,19,21,16,18,17],\"xaxis\":\"x\",\"y\":[29,29,31,30,26,26,27,27,30,26,29,26,24,24,22,22,24,24,17,22,21,23,23,33,32,32,29,32,34,36,36,29,26,27,30,31,26,26,28,26,29,28,27,24,24,24,29,27,31,32,27,26,26,25,25,26,26,27,28,25,29,27,31,31,26,26,28,27,29,31,31,26,26,27,30,33,35,37,35,29,26,29,29,24,44,29,26,29,29,29,29,23,24,44,41,29,26,28,29,29,29,28,29,26,26,26],\"yaxis\":\"y\",\"type\":\"scatter\"},{\"hovertemplate\":\"drv=4<br>cty=%{x}<br>hwy=%{y}<extra></extra>\",\"legendgroup\":\"4\",\"marker\":{\"color\":\"#EF553B\",\"symbol\":\"circle\"},\"mode\":\"markers\",\"name\":\"4\",\"orientation\":\"v\",\"showlegend\":true,\"x\":[18,16,20,19,15,17,17,15,15,17,16,14,11,11,14,15,14,13,14,14,14,9,11,11,13,13,9,13,11,13,11,12,9,13,13,12,9,11,11,13,11,14,15,14,13,13,13,14,14,13,13,13,11,13,17,15,15,14,9,14,13,11,11,12,12,11,14,13,13,13,14,15,14,12,18,18,20,19,20,18,21,19,19,19,20,20,19,20,15,16,15,15,16,14,11,13,15,16,17,15,15,15,16],\"xaxis\":\"x\",\"y\":[26,25,28,27,25,25,25,25,24,25,23,19,14,15,17,19,18,17,17,19,19,12,17,15,17,17,12,17,16,18,15,16,12,17,17,16,12,15,16,17,15,17,19,17,19,19,17,17,17,16,16,17,15,17,22,19,20,17,12,19,18,14,15,18,18,15,17,19,19,17,17,17,20,18,25,24,27,25,26,23,26,26,26,26,25,27,25,27,20,20,19,17,20,17,15,18,20,20,22,17,19,18,20],\"yaxis\":\"y\",\"type\":\"scatter\"},{\"hovertemplate\":\"drv=r<br>cty=%{x}<br>hwy=%{y}<extra></extra>\",\"legendgroup\":\"r\",\"marker\":{\"color\":\"#00cc96\",\"symbol\":\"circle\"},\"mode\":\"markers\",\"name\":\"r\",\"orientation\":\"v\",\"showlegend\":true,\"x\":[14,11,14,13,12,16,15,16,15,15,11,11,12,18,18,17,16,15,15,15,15,14,11,11,12],\"xaxis\":\"x\",\"y\":[20,15,20,17,17,26,23,26,25,24,17,17,18,26,25,26,24,21,22,23,22,20,17,16,18],\"yaxis\":\"y\",\"type\":\"scatter\"}],                        {\"template\":{\"data\":{\"bar\":[{\"error_x\":{\"color\":\"#2a3f5f\"},\"error_y\":{\"color\":\"#2a3f5f\"},\"marker\":{\"line\":{\"color\":\"#E5ECF6\",\"width\":0.5},\"pattern\":{\"fillmode\":\"overlay\",\"size\":10,\"solidity\":0.2}},\"type\":\"bar\"}],\"barpolar\":[{\"marker\":{\"line\":{\"color\":\"#E5ECF6\",\"width\":0.5},\"pattern\":{\"fillmode\":\"overlay\",\"size\":10,\"solidity\":0.2}},\"type\":\"barpolar\"}],\"carpet\":[{\"aaxis\":{\"endlinecolor\":\"#2a3f5f\",\"gridcolor\":\"white\",\"linecolor\":\"white\",\"minorgridcolor\":\"white\",\"startlinecolor\":\"#2a3f5f\"},\"baxis\":{\"endlinecolor\":\"#2a3f5f\",\"gridcolor\":\"white\",\"linecolor\":\"white\",\"minorgridcolor\":\"white\",\"startlinecolor\":\"#2a3f5f\"},\"type\":\"carpet\"}],\"choropleth\":[{\"colorbar\":{\"outlinewidth\":0,\"ticks\":\"\"},\"type\":\"choropleth\"}],\"contour\":[{\"colorbar\":{\"outlinewidth\":0,\"ticks\":\"\"},\"colorscale\":[[0.0,\"#0d0887\"],[0.1111111111111111,\"#46039f\"],[0.2222222222222222,\"#7201a8\"],[0.3333333333333333,\"#9c179e\"],[0.4444444444444444,\"#bd3786\"],[0.5555555555555556,\"#d8576b\"],[0.6666666666666666,\"#ed7953\"],[0.7777777777777778,\"#fb9f3a\"],[0.8888888888888888,\"#fdca26\"],[1.0,\"#f0f921\"]],\"type\":\"contour\"}],\"contourcarpet\":[{\"colorbar\":{\"outlinewidth\":0,\"ticks\":\"\"},\"type\":\"contourcarpet\"}],\"heatmap\":[{\"colorbar\":{\"outlinewidth\":0,\"ticks\":\"\"},\"colorscale\":[[0.0,\"#0d0887\"],[0.1111111111111111,\"#46039f\"],[0.2222222222222222,\"#7201a8\"],[0.3333333333333333,\"#9c179e\"],[0.4444444444444444,\"#bd3786\"],[0.5555555555555556,\"#d8576b\"],[0.6666666666666666,\"#ed7953\"],[0.7777777777777778,\"#fb9f3a\"],[0.8888888888888888,\"#fdca26\"],[1.0,\"#f0f921\"]],\"type\":\"heatmap\"}],\"heatmapgl\":[{\"colorbar\":{\"outlinewidth\":0,\"ticks\":\"\"},\"colorscale\":[[0.0,\"#0d0887\"],[0.1111111111111111,\"#46039f\"],[0.2222222222222222,\"#7201a8\"],[0.3333333333333333,\"#9c179e\"],[0.4444444444444444,\"#bd3786\"],[0.5555555555555556,\"#d8576b\"],[0.6666666666666666,\"#ed7953\"],[0.7777777777777778,\"#fb9f3a\"],[0.8888888888888888,\"#fdca26\"],[1.0,\"#f0f921\"]],\"type\":\"heatmapgl\"}],\"histogram\":[{\"marker\":{\"pattern\":{\"fillmode\":\"overlay\",\"size\":10,\"solidity\":0.2}},\"type\":\"histogram\"}],\"histogram2d\":[{\"colorbar\":{\"outlinewidth\":0,\"ticks\":\"\"},\"colorscale\":[[0.0,\"#0d0887\"],[0.1111111111111111,\"#46039f\"],[0.2222222222222222,\"#7201a8\"],[0.3333333333333333,\"#9c179e\"],[0.4444444444444444,\"#bd3786\"],[0.5555555555555556,\"#d8576b\"],[0.6666666666666666,\"#ed7953\"],[0.7777777777777778,\"#fb9f3a\"],[0.8888888888888888,\"#fdca26\"],[1.0,\"#f0f921\"]],\"type\":\"histogram2d\"}],\"histogram2dcontour\":[{\"colorbar\":{\"outlinewidth\":0,\"ticks\":\"\"},\"colorscale\":[[0.0,\"#0d0887\"],[0.1111111111111111,\"#46039f\"],[0.2222222222222222,\"#7201a8\"],[0.3333333333333333,\"#9c179e\"],[0.4444444444444444,\"#bd3786\"],[0.5555555555555556,\"#d8576b\"],[0.6666666666666666,\"#ed7953\"],[0.7777777777777778,\"#fb9f3a\"],[0.8888888888888888,\"#fdca26\"],[1.0,\"#f0f921\"]],\"type\":\"histogram2dcontour\"}],\"mesh3d\":[{\"colorbar\":{\"outlinewidth\":0,\"ticks\":\"\"},\"type\":\"mesh3d\"}],\"parcoords\":[{\"line\":{\"colorbar\":{\"outlinewidth\":0,\"ticks\":\"\"}},\"type\":\"parcoords\"}],\"pie\":[{\"automargin\":true,\"type\":\"pie\"}],\"scatter\":[{\"marker\":{\"colorbar\":{\"outlinewidth\":0,\"ticks\":\"\"}},\"type\":\"scatter\"}],\"scatter3d\":[{\"line\":{\"colorbar\":{\"outlinewidth\":0,\"ticks\":\"\"}},\"marker\":{\"colorbar\":{\"outlinewidth\":0,\"ticks\":\"\"}},\"type\":\"scatter3d\"}],\"scattercarpet\":[{\"marker\":{\"colorbar\":{\"outlinewidth\":0,\"ticks\":\"\"}},\"type\":\"scattercarpet\"}],\"scattergeo\":[{\"marker\":{\"colorbar\":{\"outlinewidth\":0,\"ticks\":\"\"}},\"type\":\"scattergeo\"}],\"scattergl\":[{\"marker\":{\"colorbar\":{\"outlinewidth\":0,\"ticks\":\"\"}},\"type\":\"scattergl\"}],\"scattermapbox\":[{\"marker\":{\"colorbar\":{\"outlinewidth\":0,\"ticks\":\"\"}},\"type\":\"scattermapbox\"}],\"scatterpolar\":[{\"marker\":{\"colorbar\":{\"outlinewidth\":0,\"ticks\":\"\"}},\"type\":\"scatterpolar\"}],\"scatterpolargl\":[{\"marker\":{\"colorbar\":{\"outlinewidth\":0,\"ticks\":\"\"}},\"type\":\"scatterpolargl\"}],\"scatterternary\":[{\"marker\":{\"colorbar\":{\"outlinewidth\":0,\"ticks\":\"\"}},\"type\":\"scatterternary\"}],\"surface\":[{\"colorbar\":{\"outlinewidth\":0,\"ticks\":\"\"},\"colorscale\":[[0.0,\"#0d0887\"],[0.1111111111111111,\"#46039f\"],[0.2222222222222222,\"#7201a8\"],[0.3333333333333333,\"#9c179e\"],[0.4444444444444444,\"#bd3786\"],[0.5555555555555556,\"#d8576b\"],[0.6666666666666666,\"#ed7953\"],[0.7777777777777778,\"#fb9f3a\"],[0.8888888888888888,\"#fdca26\"],[1.0,\"#f0f921\"]],\"type\":\"surface\"}],\"table\":[{\"cells\":{\"fill\":{\"color\":\"#EBF0F8\"},\"line\":{\"color\":\"white\"}},\"header\":{\"fill\":{\"color\":\"#C8D4E3\"},\"line\":{\"color\":\"white\"}},\"type\":\"table\"}]},\"layout\":{\"annotationdefaults\":{\"arrowcolor\":\"#2a3f5f\",\"arrowhead\":0,\"arrowwidth\":1},\"autotypenumbers\":\"strict\",\"coloraxis\":{\"colorbar\":{\"outlinewidth\":0,\"ticks\":\"\"}},\"colorscale\":{\"diverging\":[[0,\"#8e0152\"],[0.1,\"#c51b7d\"],[0.2,\"#de77ae\"],[0.3,\"#f1b6da\"],[0.4,\"#fde0ef\"],[0.5,\"#f7f7f7\"],[0.6,\"#e6f5d0\"],[0.7,\"#b8e186\"],[0.8,\"#7fbc41\"],[0.9,\"#4d9221\"],[1,\"#276419\"]],\"sequential\":[[0.0,\"#0d0887\"],[0.1111111111111111,\"#46039f\"],[0.2222222222222222,\"#7201a8\"],[0.3333333333333333,\"#9c179e\"],[0.4444444444444444,\"#bd3786\"],[0.5555555555555556,\"#d8576b\"],[0.6666666666666666,\"#ed7953\"],[0.7777777777777778,\"#fb9f3a\"],[0.8888888888888888,\"#fdca26\"],[1.0,\"#f0f921\"]],\"sequentialminus\":[[0.0,\"#0d0887\"],[0.1111111111111111,\"#46039f\"],[0.2222222222222222,\"#7201a8\"],[0.3333333333333333,\"#9c179e\"],[0.4444444444444444,\"#bd3786\"],[0.5555555555555556,\"#d8576b\"],[0.6666666666666666,\"#ed7953\"],[0.7777777777777778,\"#fb9f3a\"],[0.8888888888888888,\"#fdca26\"],[1.0,\"#f0f921\"]]},\"colorway\":[\"#636efa\",\"#EF553B\",\"#00cc96\",\"#ab63fa\",\"#FFA15A\",\"#19d3f3\",\"#FF6692\",\"#B6E880\",\"#FF97FF\",\"#FECB52\"],\"font\":{\"color\":\"#2a3f5f\"},\"geo\":{\"bgcolor\":\"white\",\"lakecolor\":\"white\",\"landcolor\":\"#E5ECF6\",\"showlakes\":true,\"showland\":true,\"subunitcolor\":\"white\"},\"hoverlabel\":{\"align\":\"left\"},\"hovermode\":\"closest\",\"mapbox\":{\"style\":\"light\"},\"paper_bgcolor\":\"white\",\"plot_bgcolor\":\"#E5ECF6\",\"polar\":{\"angularaxis\":{\"gridcolor\":\"white\",\"linecolor\":\"white\",\"ticks\":\"\"},\"bgcolor\":\"#E5ECF6\",\"radialaxis\":{\"gridcolor\":\"white\",\"linecolor\":\"white\",\"ticks\":\"\"}},\"scene\":{\"xaxis\":{\"backgroundcolor\":\"#E5ECF6\",\"gridcolor\":\"white\",\"gridwidth\":2,\"linecolor\":\"white\",\"showbackground\":true,\"ticks\":\"\",\"zerolinecolor\":\"white\"},\"yaxis\":{\"backgroundcolor\":\"#E5ECF6\",\"gridcolor\":\"white\",\"gridwidth\":2,\"linecolor\":\"white\",\"showbackground\":true,\"ticks\":\"\",\"zerolinecolor\":\"white\"},\"zaxis\":{\"backgroundcolor\":\"#E5ECF6\",\"gridcolor\":\"white\",\"gridwidth\":2,\"linecolor\":\"white\",\"showbackground\":true,\"ticks\":\"\",\"zerolinecolor\":\"white\"}},\"shapedefaults\":{\"line\":{\"color\":\"#2a3f5f\"}},\"ternary\":{\"aaxis\":{\"gridcolor\":\"white\",\"linecolor\":\"white\",\"ticks\":\"\"},\"baxis\":{\"gridcolor\":\"white\",\"linecolor\":\"white\",\"ticks\":\"\"},\"bgcolor\":\"#E5ECF6\",\"caxis\":{\"gridcolor\":\"white\",\"linecolor\":\"white\",\"ticks\":\"\"}},\"title\":{\"x\":0.05},\"xaxis\":{\"automargin\":true,\"gridcolor\":\"white\",\"linecolor\":\"white\",\"ticks\":\"\",\"title\":{\"standoff\":15},\"zerolinecolor\":\"white\",\"zerolinewidth\":2},\"yaxis\":{\"automargin\":true,\"gridcolor\":\"white\",\"linecolor\":\"white\",\"ticks\":\"\",\"title\":{\"standoff\":15},\"zerolinecolor\":\"white\",\"zerolinewidth\":2}}},\"xaxis\":{\"anchor\":\"y\",\"domain\":[0.0,1.0],\"title\":{\"text\":\"cty\"}},\"yaxis\":{\"anchor\":\"x\",\"domain\":[0.0,1.0],\"title\":{\"text\":\"hwy\"}},\"legend\":{\"title\":{\"text\":\"drv\"},\"tracegroupgap\":0},\"margin\":{\"t\":60}},                        {\"responsive\": true}                    ).then(function(){\n",
       "                            \n",
       "var gd = document.getElementById('b691380b-6a16-4cb4-9e7c-132d04e9947d');\n",
       "var x = new MutationObserver(function (mutations, observer) {{\n",
       "        var display = window.getComputedStyle(gd).display;\n",
       "        if (!display || display === 'none') {{\n",
       "            console.log([gd, 'removed!']);\n",
       "            Plotly.purge(gd);\n",
       "            observer.disconnect();\n",
       "        }}\n",
       "}});\n",
       "\n",
       "// Listen for the removal of the full notebook cells\n",
       "var notebookContainer = gd.closest('#notebook-container');\n",
       "if (notebookContainer) {{\n",
       "    x.observe(notebookContainer, {childList: true});\n",
       "}}\n",
       "\n",
       "// Listen for the clearing of the current output cell\n",
       "var outputEl = gd.closest('.output');\n",
       "if (outputEl) {{\n",
       "    x.observe(outputEl, {childList: true});\n",
       "}}\n",
       "\n",
       "                        })                };                });            </script>        </div>"
      ]
     },
     "metadata": {},
     "output_type": "display_data"
    }
   ],
   "source": [
    "fig = px.scatter(data_frame = mpg, x='cty', y='hwy', color='drv')\n",
    "fig"
   ]
  },
  {
   "cell_type": "code",
   "execution_count": 54,
   "id": "571ebff2-1860-4f0d-85e5-6f0c8bdf4650",
   "metadata": {},
   "outputs": [],
   "source": [
    "df = mpg.groupby('class')[['class']].agg('count')\n",
    "df = df.rename({'class':'n'}, axis =1)\n",
    "df = df.reset_index()"
   ]
  },
  {
   "cell_type": "code",
   "execution_count": 55,
   "id": "e503f708-2c69-4239-aa96-5d0f4ca46fe0",
   "metadata": {},
   "outputs": [
    {
     "data": {
      "application/vnd.plotly.v1+json": {
       "config": {
        "plotlyServerURL": "https://plot.ly"
       },
       "data": [
        {
         "alignmentgroup": "True",
         "hovertemplate": "class=%{x}<br>n=%{y}<extra></extra>",
         "legendgroup": "2seater",
         "marker": {
          "color": "#636efa",
          "pattern": {
           "shape": ""
          }
         },
         "name": "2seater",
         "offsetgroup": "2seater",
         "orientation": "v",
         "showlegend": true,
         "textposition": "auto",
         "type": "bar",
         "x": [
          "2seater"
         ],
         "xaxis": "x",
         "y": [
          5
         ],
         "yaxis": "y"
        },
        {
         "alignmentgroup": "True",
         "hovertemplate": "class=%{x}<br>n=%{y}<extra></extra>",
         "legendgroup": "compact",
         "marker": {
          "color": "#EF553B",
          "pattern": {
           "shape": ""
          }
         },
         "name": "compact",
         "offsetgroup": "compact",
         "orientation": "v",
         "showlegend": true,
         "textposition": "auto",
         "type": "bar",
         "x": [
          "compact"
         ],
         "xaxis": "x",
         "y": [
          47
         ],
         "yaxis": "y"
        },
        {
         "alignmentgroup": "True",
         "hovertemplate": "class=%{x}<br>n=%{y}<extra></extra>",
         "legendgroup": "midsize",
         "marker": {
          "color": "#00cc96",
          "pattern": {
           "shape": ""
          }
         },
         "name": "midsize",
         "offsetgroup": "midsize",
         "orientation": "v",
         "showlegend": true,
         "textposition": "auto",
         "type": "bar",
         "x": [
          "midsize"
         ],
         "xaxis": "x",
         "y": [
          41
         ],
         "yaxis": "y"
        },
        {
         "alignmentgroup": "True",
         "hovertemplate": "class=%{x}<br>n=%{y}<extra></extra>",
         "legendgroup": "minivan",
         "marker": {
          "color": "#ab63fa",
          "pattern": {
           "shape": ""
          }
         },
         "name": "minivan",
         "offsetgroup": "minivan",
         "orientation": "v",
         "showlegend": true,
         "textposition": "auto",
         "type": "bar",
         "x": [
          "minivan"
         ],
         "xaxis": "x",
         "y": [
          11
         ],
         "yaxis": "y"
        },
        {
         "alignmentgroup": "True",
         "hovertemplate": "class=%{x}<br>n=%{y}<extra></extra>",
         "legendgroup": "pickup",
         "marker": {
          "color": "#FFA15A",
          "pattern": {
           "shape": ""
          }
         },
         "name": "pickup",
         "offsetgroup": "pickup",
         "orientation": "v",
         "showlegend": true,
         "textposition": "auto",
         "type": "bar",
         "x": [
          "pickup"
         ],
         "xaxis": "x",
         "y": [
          33
         ],
         "yaxis": "y"
        },
        {
         "alignmentgroup": "True",
         "hovertemplate": "class=%{x}<br>n=%{y}<extra></extra>",
         "legendgroup": "subcompact",
         "marker": {
          "color": "#19d3f3",
          "pattern": {
           "shape": ""
          }
         },
         "name": "subcompact",
         "offsetgroup": "subcompact",
         "orientation": "v",
         "showlegend": true,
         "textposition": "auto",
         "type": "bar",
         "x": [
          "subcompact"
         ],
         "xaxis": "x",
         "y": [
          35
         ],
         "yaxis": "y"
        },
        {
         "alignmentgroup": "True",
         "hovertemplate": "class=%{x}<br>n=%{y}<extra></extra>",
         "legendgroup": "suv",
         "marker": {
          "color": "#FF6692",
          "pattern": {
           "shape": ""
          }
         },
         "name": "suv",
         "offsetgroup": "suv",
         "orientation": "v",
         "showlegend": true,
         "textposition": "auto",
         "type": "bar",
         "x": [
          "suv"
         ],
         "xaxis": "x",
         "y": [
          62
         ],
         "yaxis": "y"
        }
       ],
       "layout": {
        "autosize": true,
        "barmode": "relative",
        "legend": {
         "title": {
          "text": "class"
         },
         "tracegroupgap": 0
        },
        "margin": {
         "t": 60
        },
        "template": {
         "data": {
          "bar": [
           {
            "error_x": {
             "color": "#2a3f5f"
            },
            "error_y": {
             "color": "#2a3f5f"
            },
            "marker": {
             "line": {
              "color": "#E5ECF6",
              "width": 0.5
             },
             "pattern": {
              "fillmode": "overlay",
              "size": 10,
              "solidity": 0.2
             }
            },
            "type": "bar"
           }
          ],
          "barpolar": [
           {
            "marker": {
             "line": {
              "color": "#E5ECF6",
              "width": 0.5
             },
             "pattern": {
              "fillmode": "overlay",
              "size": 10,
              "solidity": 0.2
             }
            },
            "type": "barpolar"
           }
          ],
          "carpet": [
           {
            "aaxis": {
             "endlinecolor": "#2a3f5f",
             "gridcolor": "white",
             "linecolor": "white",
             "minorgridcolor": "white",
             "startlinecolor": "#2a3f5f"
            },
            "baxis": {
             "endlinecolor": "#2a3f5f",
             "gridcolor": "white",
             "linecolor": "white",
             "minorgridcolor": "white",
             "startlinecolor": "#2a3f5f"
            },
            "type": "carpet"
           }
          ],
          "choropleth": [
           {
            "colorbar": {
             "outlinewidth": 0,
             "ticks": ""
            },
            "type": "choropleth"
           }
          ],
          "contour": [
           {
            "colorbar": {
             "outlinewidth": 0,
             "ticks": ""
            },
            "colorscale": [
             [
              0,
              "#0d0887"
             ],
             [
              0.1111111111111111,
              "#46039f"
             ],
             [
              0.2222222222222222,
              "#7201a8"
             ],
             [
              0.3333333333333333,
              "#9c179e"
             ],
             [
              0.4444444444444444,
              "#bd3786"
             ],
             [
              0.5555555555555556,
              "#d8576b"
             ],
             [
              0.6666666666666666,
              "#ed7953"
             ],
             [
              0.7777777777777778,
              "#fb9f3a"
             ],
             [
              0.8888888888888888,
              "#fdca26"
             ],
             [
              1,
              "#f0f921"
             ]
            ],
            "type": "contour"
           }
          ],
          "contourcarpet": [
           {
            "colorbar": {
             "outlinewidth": 0,
             "ticks": ""
            },
            "type": "contourcarpet"
           }
          ],
          "heatmap": [
           {
            "colorbar": {
             "outlinewidth": 0,
             "ticks": ""
            },
            "colorscale": [
             [
              0,
              "#0d0887"
             ],
             [
              0.1111111111111111,
              "#46039f"
             ],
             [
              0.2222222222222222,
              "#7201a8"
             ],
             [
              0.3333333333333333,
              "#9c179e"
             ],
             [
              0.4444444444444444,
              "#bd3786"
             ],
             [
              0.5555555555555556,
              "#d8576b"
             ],
             [
              0.6666666666666666,
              "#ed7953"
             ],
             [
              0.7777777777777778,
              "#fb9f3a"
             ],
             [
              0.8888888888888888,
              "#fdca26"
             ],
             [
              1,
              "#f0f921"
             ]
            ],
            "type": "heatmap"
           }
          ],
          "heatmapgl": [
           {
            "colorbar": {
             "outlinewidth": 0,
             "ticks": ""
            },
            "colorscale": [
             [
              0,
              "#0d0887"
             ],
             [
              0.1111111111111111,
              "#46039f"
             ],
             [
              0.2222222222222222,
              "#7201a8"
             ],
             [
              0.3333333333333333,
              "#9c179e"
             ],
             [
              0.4444444444444444,
              "#bd3786"
             ],
             [
              0.5555555555555556,
              "#d8576b"
             ],
             [
              0.6666666666666666,
              "#ed7953"
             ],
             [
              0.7777777777777778,
              "#fb9f3a"
             ],
             [
              0.8888888888888888,
              "#fdca26"
             ],
             [
              1,
              "#f0f921"
             ]
            ],
            "type": "heatmapgl"
           }
          ],
          "histogram": [
           {
            "marker": {
             "pattern": {
              "fillmode": "overlay",
              "size": 10,
              "solidity": 0.2
             }
            },
            "type": "histogram"
           }
          ],
          "histogram2d": [
           {
            "colorbar": {
             "outlinewidth": 0,
             "ticks": ""
            },
            "colorscale": [
             [
              0,
              "#0d0887"
             ],
             [
              0.1111111111111111,
              "#46039f"
             ],
             [
              0.2222222222222222,
              "#7201a8"
             ],
             [
              0.3333333333333333,
              "#9c179e"
             ],
             [
              0.4444444444444444,
              "#bd3786"
             ],
             [
              0.5555555555555556,
              "#d8576b"
             ],
             [
              0.6666666666666666,
              "#ed7953"
             ],
             [
              0.7777777777777778,
              "#fb9f3a"
             ],
             [
              0.8888888888888888,
              "#fdca26"
             ],
             [
              1,
              "#f0f921"
             ]
            ],
            "type": "histogram2d"
           }
          ],
          "histogram2dcontour": [
           {
            "colorbar": {
             "outlinewidth": 0,
             "ticks": ""
            },
            "colorscale": [
             [
              0,
              "#0d0887"
             ],
             [
              0.1111111111111111,
              "#46039f"
             ],
             [
              0.2222222222222222,
              "#7201a8"
             ],
             [
              0.3333333333333333,
              "#9c179e"
             ],
             [
              0.4444444444444444,
              "#bd3786"
             ],
             [
              0.5555555555555556,
              "#d8576b"
             ],
             [
              0.6666666666666666,
              "#ed7953"
             ],
             [
              0.7777777777777778,
              "#fb9f3a"
             ],
             [
              0.8888888888888888,
              "#fdca26"
             ],
             [
              1,
              "#f0f921"
             ]
            ],
            "type": "histogram2dcontour"
           }
          ],
          "mesh3d": [
           {
            "colorbar": {
             "outlinewidth": 0,
             "ticks": ""
            },
            "type": "mesh3d"
           }
          ],
          "parcoords": [
           {
            "line": {
             "colorbar": {
              "outlinewidth": 0,
              "ticks": ""
             }
            },
            "type": "parcoords"
           }
          ],
          "pie": [
           {
            "automargin": true,
            "type": "pie"
           }
          ],
          "scatter": [
           {
            "marker": {
             "colorbar": {
              "outlinewidth": 0,
              "ticks": ""
             }
            },
            "type": "scatter"
           }
          ],
          "scatter3d": [
           {
            "line": {
             "colorbar": {
              "outlinewidth": 0,
              "ticks": ""
             }
            },
            "marker": {
             "colorbar": {
              "outlinewidth": 0,
              "ticks": ""
             }
            },
            "type": "scatter3d"
           }
          ],
          "scattercarpet": [
           {
            "marker": {
             "colorbar": {
              "outlinewidth": 0,
              "ticks": ""
             }
            },
            "type": "scattercarpet"
           }
          ],
          "scattergeo": [
           {
            "marker": {
             "colorbar": {
              "outlinewidth": 0,
              "ticks": ""
             }
            },
            "type": "scattergeo"
           }
          ],
          "scattergl": [
           {
            "marker": {
             "colorbar": {
              "outlinewidth": 0,
              "ticks": ""
             }
            },
            "type": "scattergl"
           }
          ],
          "scattermapbox": [
           {
            "marker": {
             "colorbar": {
              "outlinewidth": 0,
              "ticks": ""
             }
            },
            "type": "scattermapbox"
           }
          ],
          "scatterpolar": [
           {
            "marker": {
             "colorbar": {
              "outlinewidth": 0,
              "ticks": ""
             }
            },
            "type": "scatterpolar"
           }
          ],
          "scatterpolargl": [
           {
            "marker": {
             "colorbar": {
              "outlinewidth": 0,
              "ticks": ""
             }
            },
            "type": "scatterpolargl"
           }
          ],
          "scatterternary": [
           {
            "marker": {
             "colorbar": {
              "outlinewidth": 0,
              "ticks": ""
             }
            },
            "type": "scatterternary"
           }
          ],
          "surface": [
           {
            "colorbar": {
             "outlinewidth": 0,
             "ticks": ""
            },
            "colorscale": [
             [
              0,
              "#0d0887"
             ],
             [
              0.1111111111111111,
              "#46039f"
             ],
             [
              0.2222222222222222,
              "#7201a8"
             ],
             [
              0.3333333333333333,
              "#9c179e"
             ],
             [
              0.4444444444444444,
              "#bd3786"
             ],
             [
              0.5555555555555556,
              "#d8576b"
             ],
             [
              0.6666666666666666,
              "#ed7953"
             ],
             [
              0.7777777777777778,
              "#fb9f3a"
             ],
             [
              0.8888888888888888,
              "#fdca26"
             ],
             [
              1,
              "#f0f921"
             ]
            ],
            "type": "surface"
           }
          ],
          "table": [
           {
            "cells": {
             "fill": {
              "color": "#EBF0F8"
             },
             "line": {
              "color": "white"
             }
            },
            "header": {
             "fill": {
              "color": "#C8D4E3"
             },
             "line": {
              "color": "white"
             }
            },
            "type": "table"
           }
          ]
         },
         "layout": {
          "annotationdefaults": {
           "arrowcolor": "#2a3f5f",
           "arrowhead": 0,
           "arrowwidth": 1
          },
          "autotypenumbers": "strict",
          "coloraxis": {
           "colorbar": {
            "outlinewidth": 0,
            "ticks": ""
           }
          },
          "colorscale": {
           "diverging": [
            [
             0,
             "#8e0152"
            ],
            [
             0.1,
             "#c51b7d"
            ],
            [
             0.2,
             "#de77ae"
            ],
            [
             0.3,
             "#f1b6da"
            ],
            [
             0.4,
             "#fde0ef"
            ],
            [
             0.5,
             "#f7f7f7"
            ],
            [
             0.6,
             "#e6f5d0"
            ],
            [
             0.7,
             "#b8e186"
            ],
            [
             0.8,
             "#7fbc41"
            ],
            [
             0.9,
             "#4d9221"
            ],
            [
             1,
             "#276419"
            ]
           ],
           "sequential": [
            [
             0,
             "#0d0887"
            ],
            [
             0.1111111111111111,
             "#46039f"
            ],
            [
             0.2222222222222222,
             "#7201a8"
            ],
            [
             0.3333333333333333,
             "#9c179e"
            ],
            [
             0.4444444444444444,
             "#bd3786"
            ],
            [
             0.5555555555555556,
             "#d8576b"
            ],
            [
             0.6666666666666666,
             "#ed7953"
            ],
            [
             0.7777777777777778,
             "#fb9f3a"
            ],
            [
             0.8888888888888888,
             "#fdca26"
            ],
            [
             1,
             "#f0f921"
            ]
           ],
           "sequentialminus": [
            [
             0,
             "#0d0887"
            ],
            [
             0.1111111111111111,
             "#46039f"
            ],
            [
             0.2222222222222222,
             "#7201a8"
            ],
            [
             0.3333333333333333,
             "#9c179e"
            ],
            [
             0.4444444444444444,
             "#bd3786"
            ],
            [
             0.5555555555555556,
             "#d8576b"
            ],
            [
             0.6666666666666666,
             "#ed7953"
            ],
            [
             0.7777777777777778,
             "#fb9f3a"
            ],
            [
             0.8888888888888888,
             "#fdca26"
            ],
            [
             1,
             "#f0f921"
            ]
           ]
          },
          "colorway": [
           "#636efa",
           "#EF553B",
           "#00cc96",
           "#ab63fa",
           "#FFA15A",
           "#19d3f3",
           "#FF6692",
           "#B6E880",
           "#FF97FF",
           "#FECB52"
          ],
          "font": {
           "color": "#2a3f5f"
          },
          "geo": {
           "bgcolor": "white",
           "lakecolor": "white",
           "landcolor": "#E5ECF6",
           "showlakes": true,
           "showland": true,
           "subunitcolor": "white"
          },
          "hoverlabel": {
           "align": "left"
          },
          "hovermode": "closest",
          "mapbox": {
           "style": "light"
          },
          "paper_bgcolor": "white",
          "plot_bgcolor": "#E5ECF6",
          "polar": {
           "angularaxis": {
            "gridcolor": "white",
            "linecolor": "white",
            "ticks": ""
           },
           "bgcolor": "#E5ECF6",
           "radialaxis": {
            "gridcolor": "white",
            "linecolor": "white",
            "ticks": ""
           }
          },
          "scene": {
           "xaxis": {
            "backgroundcolor": "#E5ECF6",
            "gridcolor": "white",
            "gridwidth": 2,
            "linecolor": "white",
            "showbackground": true,
            "ticks": "",
            "zerolinecolor": "white"
           },
           "yaxis": {
            "backgroundcolor": "#E5ECF6",
            "gridcolor": "white",
            "gridwidth": 2,
            "linecolor": "white",
            "showbackground": true,
            "ticks": "",
            "zerolinecolor": "white"
           },
           "zaxis": {
            "backgroundcolor": "#E5ECF6",
            "gridcolor": "white",
            "gridwidth": 2,
            "linecolor": "white",
            "showbackground": true,
            "ticks": "",
            "zerolinecolor": "white"
           }
          },
          "shapedefaults": {
           "line": {
            "color": "#2a3f5f"
           }
          },
          "ternary": {
           "aaxis": {
            "gridcolor": "white",
            "linecolor": "white",
            "ticks": ""
           },
           "baxis": {
            "gridcolor": "white",
            "linecolor": "white",
            "ticks": ""
           },
           "bgcolor": "#E5ECF6",
           "caxis": {
            "gridcolor": "white",
            "linecolor": "white",
            "ticks": ""
           }
          },
          "title": {
           "x": 0.05
          },
          "xaxis": {
           "automargin": true,
           "gridcolor": "white",
           "linecolor": "white",
           "ticks": "",
           "title": {
            "standoff": 15
           },
           "zerolinecolor": "white",
           "zerolinewidth": 2
          },
          "yaxis": {
           "automargin": true,
           "gridcolor": "white",
           "linecolor": "white",
           "ticks": "",
           "title": {
            "standoff": 15
           },
           "zerolinecolor": "white",
           "zerolinewidth": 2
          }
         }
        },
        "xaxis": {
         "anchor": "y",
         "autorange": true,
         "categoryarray": [
          "2seater",
          "compact",
          "midsize",
          "minivan",
          "pickup",
          "subcompact",
          "suv"
         ],
         "categoryorder": "array",
         "domain": [
          0,
          1
         ],
         "range": [
          -0.5,
          6.5
         ],
         "title": {
          "text": "class"
         },
         "type": "category"
        },
        "yaxis": {
         "anchor": "x",
         "autorange": true,
         "domain": [
          0,
          1
         ],
         "range": [
          0,
          65.26315789473684
         ],
         "title": {
          "text": "n"
         },
         "type": "linear"
        }
       }
      },
      "image/png": "[encoded data removed]",
      "text/html": [
       "<div>                            <div id=\"790ff455-8094-4bc6-903a-8697524bded2\" class=\"plotly-graph-div\" style=\"height:525px; width:100%;\"></div>            <script type=\"text/javascript\">                require([\"plotly\"], function(Plotly) {                    window.PLOTLYENV=window.PLOTLYENV || {};                                    if (document.getElementById(\"790ff455-8094-4bc6-903a-8697524bded2\")) {                    Plotly.newPlot(                        \"790ff455-8094-4bc6-903a-8697524bded2\",                        [{\"alignmentgroup\":\"True\",\"hovertemplate\":\"class=%{x}<br>n=%{y}<extra></extra>\",\"legendgroup\":\"2seater\",\"marker\":{\"color\":\"#636efa\",\"pattern\":{\"shape\":\"\"}},\"name\":\"2seater\",\"offsetgroup\":\"2seater\",\"orientation\":\"v\",\"showlegend\":true,\"textposition\":\"auto\",\"x\":[\"2seater\"],\"xaxis\":\"x\",\"y\":[5],\"yaxis\":\"y\",\"type\":\"bar\"},{\"alignmentgroup\":\"True\",\"hovertemplate\":\"class=%{x}<br>n=%{y}<extra></extra>\",\"legendgroup\":\"compact\",\"marker\":{\"color\":\"#EF553B\",\"pattern\":{\"shape\":\"\"}},\"name\":\"compact\",\"offsetgroup\":\"compact\",\"orientation\":\"v\",\"showlegend\":true,\"textposition\":\"auto\",\"x\":[\"compact\"],\"xaxis\":\"x\",\"y\":[47],\"yaxis\":\"y\",\"type\":\"bar\"},{\"alignmentgroup\":\"True\",\"hovertemplate\":\"class=%{x}<br>n=%{y}<extra></extra>\",\"legendgroup\":\"midsize\",\"marker\":{\"color\":\"#00cc96\",\"pattern\":{\"shape\":\"\"}},\"name\":\"midsize\",\"offsetgroup\":\"midsize\",\"orientation\":\"v\",\"showlegend\":true,\"textposition\":\"auto\",\"x\":[\"midsize\"],\"xaxis\":\"x\",\"y\":[41],\"yaxis\":\"y\",\"type\":\"bar\"},{\"alignmentgroup\":\"True\",\"hovertemplate\":\"class=%{x}<br>n=%{y}<extra></extra>\",\"legendgroup\":\"minivan\",\"marker\":{\"color\":\"#ab63fa\",\"pattern\":{\"shape\":\"\"}},\"name\":\"minivan\",\"offsetgroup\":\"minivan\",\"orientation\":\"v\",\"showlegend\":true,\"textposition\":\"auto\",\"x\":[\"minivan\"],\"xaxis\":\"x\",\"y\":[11],\"yaxis\":\"y\",\"type\":\"bar\"},{\"alignmentgroup\":\"True\",\"hovertemplate\":\"class=%{x}<br>n=%{y}<extra></extra>\",\"legendgroup\":\"pickup\",\"marker\":{\"color\":\"#FFA15A\",\"pattern\":{\"shape\":\"\"}},\"name\":\"pickup\",\"offsetgroup\":\"pickup\",\"orientation\":\"v\",\"showlegend\":true,\"textposition\":\"auto\",\"x\":[\"pickup\"],\"xaxis\":\"x\",\"y\":[33],\"yaxis\":\"y\",\"type\":\"bar\"},{\"alignmentgroup\":\"True\",\"hovertemplate\":\"class=%{x}<br>n=%{y}<extra></extra>\",\"legendgroup\":\"subcompact\",\"marker\":{\"color\":\"#19d3f3\",\"pattern\":{\"shape\":\"\"}},\"name\":\"subcompact\",\"offsetgroup\":\"subcompact\",\"orientation\":\"v\",\"showlegend\":true,\"textposition\":\"auto\",\"x\":[\"subcompact\"],\"xaxis\":\"x\",\"y\":[35],\"yaxis\":\"y\",\"type\":\"bar\"},{\"alignmentgroup\":\"True\",\"hovertemplate\":\"class=%{x}<br>n=%{y}<extra></extra>\",\"legendgroup\":\"suv\",\"marker\":{\"color\":\"#FF6692\",\"pattern\":{\"shape\":\"\"}},\"name\":\"suv\",\"offsetgroup\":\"suv\",\"orientation\":\"v\",\"showlegend\":true,\"textposition\":\"auto\",\"x\":[\"suv\"],\"xaxis\":\"x\",\"y\":[62],\"yaxis\":\"y\",\"type\":\"bar\"}],                        {\"template\":{\"data\":{\"bar\":[{\"error_x\":{\"color\":\"#2a3f5f\"},\"error_y\":{\"color\":\"#2a3f5f\"},\"marker\":{\"line\":{\"color\":\"#E5ECF6\",\"width\":0.5},\"pattern\":{\"fillmode\":\"overlay\",\"size\":10,\"solidity\":0.2}},\"type\":\"bar\"}],\"barpolar\":[{\"marker\":{\"line\":{\"color\":\"#E5ECF6\",\"width\":0.5},\"pattern\":{\"fillmode\":\"overlay\",\"size\":10,\"solidity\":0.2}},\"type\":\"barpolar\"}],\"carpet\":[{\"aaxis\":{\"endlinecolor\":\"#2a3f5f\",\"gridcolor\":\"white\",\"linecolor\":\"white\",\"minorgridcolor\":\"white\",\"startlinecolor\":\"#2a3f5f\"},\"baxis\":{\"endlinecolor\":\"#2a3f5f\",\"gridcolor\":\"white\",\"linecolor\":\"white\",\"minorgridcolor\":\"white\",\"startlinecolor\":\"#2a3f5f\"},\"type\":\"carpet\"}],\"choropleth\":[{\"colorbar\":{\"outlinewidth\":0,\"ticks\":\"\"},\"type\":\"choropleth\"}],\"contour\":[{\"colorbar\":{\"outlinewidth\":0,\"ticks\":\"\"},\"colorscale\":[[0.0,\"#0d0887\"],[0.1111111111111111,\"#46039f\"],[0.2222222222222222,\"#7201a8\"],[0.3333333333333333,\"#9c179e\"],[0.4444444444444444,\"#bd3786\"],[0.5555555555555556,\"#d8576b\"],[0.6666666666666666,\"#ed7953\"],[0.7777777777777778,\"#fb9f3a\"],[0.8888888888888888,\"#fdca26\"],[1.0,\"#f0f921\"]],\"type\":\"contour\"}],\"contourcarpet\":[{\"colorbar\":{\"outlinewidth\":0,\"ticks\":\"\"},\"type\":\"contourcarpet\"}],\"heatmap\":[{\"colorbar\":{\"outlinewidth\":0,\"ticks\":\"\"},\"colorscale\":[[0.0,\"#0d0887\"],[0.1111111111111111,\"#46039f\"],[0.2222222222222222,\"#7201a8\"],[0.3333333333333333,\"#9c179e\"],[0.4444444444444444,\"#bd3786\"],[0.5555555555555556,\"#d8576b\"],[0.6666666666666666,\"#ed7953\"],[0.7777777777777778,\"#fb9f3a\"],[0.8888888888888888,\"#fdca26\"],[1.0,\"#f0f921\"]],\"type\":\"heatmap\"}],\"heatmapgl\":[{\"colorbar\":{\"outlinewidth\":0,\"ticks\":\"\"},\"colorscale\":[[0.0,\"#0d0887\"],[0.1111111111111111,\"#46039f\"],[0.2222222222222222,\"#7201a8\"],[0.3333333333333333,\"#9c179e\"],[0.4444444444444444,\"#bd3786\"],[0.5555555555555556,\"#d8576b\"],[0.6666666666666666,\"#ed7953\"],[0.7777777777777778,\"#fb9f3a\"],[0.8888888888888888,\"#fdca26\"],[1.0,\"#f0f921\"]],\"type\":\"heatmapgl\"}],\"histogram\":[{\"marker\":{\"pattern\":{\"fillmode\":\"overlay\",\"size\":10,\"solidity\":0.2}},\"type\":\"histogram\"}],\"histogram2d\":[{\"colorbar\":{\"outlinewidth\":0,\"ticks\":\"\"},\"colorscale\":[[0.0,\"#0d0887\"],[0.1111111111111111,\"#46039f\"],[0.2222222222222222,\"#7201a8\"],[0.3333333333333333,\"#9c179e\"],[0.4444444444444444,\"#bd3786\"],[0.5555555555555556,\"#d8576b\"],[0.6666666666666666,\"#ed7953\"],[0.7777777777777778,\"#fb9f3a\"],[0.8888888888888888,\"#fdca26\"],[1.0,\"#f0f921\"]],\"type\":\"histogram2d\"}],\"histogram2dcontour\":[{\"colorbar\":{\"outlinewidth\":0,\"ticks\":\"\"},\"colorscale\":[[0.0,\"#0d0887\"],[0.1111111111111111,\"#46039f\"],[0.2222222222222222,\"#7201a8\"],[0.3333333333333333,\"#9c179e\"],[0.4444444444444444,\"#bd3786\"],[0.5555555555555556,\"#d8576b\"],[0.6666666666666666,\"#ed7953\"],[0.7777777777777778,\"#fb9f3a\"],[0.8888888888888888,\"#fdca26\"],[1.0,\"#f0f921\"]],\"type\":\"histogram2dcontour\"}],\"mesh3d\":[{\"colorbar\":{\"outlinewidth\":0,\"ticks\":\"\"},\"type\":\"mesh3d\"}],\"parcoords\":[{\"line\":{\"colorbar\":{\"outlinewidth\":0,\"ticks\":\"\"}},\"type\":\"parcoords\"}],\"pie\":[{\"automargin\":true,\"type\":\"pie\"}],\"scatter\":[{\"marker\":{\"colorbar\":{\"outlinewidth\":0,\"ticks\":\"\"}},\"type\":\"scatter\"}],\"scatter3d\":[{\"line\":{\"colorbar\":{\"outlinewidth\":0,\"ticks\":\"\"}},\"marker\":{\"colorbar\":{\"outlinewidth\":0,\"ticks\":\"\"}},\"type\":\"scatter3d\"}],\"scattercarpet\":[{\"marker\":{\"colorbar\":{\"outlinewidth\":0,\"ticks\":\"\"}},\"type\":\"scattercarpet\"}],\"scattergeo\":[{\"marker\":{\"colorbar\":{\"outlinewidth\":0,\"ticks\":\"\"}},\"type\":\"scattergeo\"}],\"scattergl\":[{\"marker\":{\"colorbar\":{\"outlinewidth\":0,\"ticks\":\"\"}},\"type\":\"scattergl\"}],\"scattermapbox\":[{\"marker\":{\"colorbar\":{\"outlinewidth\":0,\"ticks\":\"\"}},\"type\":\"scattermapbox\"}],\"scatterpolar\":[{\"marker\":{\"colorbar\":{\"outlinewidth\":0,\"ticks\":\"\"}},\"type\":\"scatterpolar\"}],\"scatterpolargl\":[{\"marker\":{\"colorbar\":{\"outlinewidth\":0,\"ticks\":\"\"}},\"type\":\"scatterpolargl\"}],\"scatterternary\":[{\"marker\":{\"colorbar\":{\"outlinewidth\":0,\"ticks\":\"\"}},\"type\":\"scatterternary\"}],\"surface\":[{\"colorbar\":{\"outlinewidth\":0,\"ticks\":\"\"},\"colorscale\":[[0.0,\"#0d0887\"],[0.1111111111111111,\"#46039f\"],[0.2222222222222222,\"#7201a8\"],[0.3333333333333333,\"#9c179e\"],[0.4444444444444444,\"#bd3786\"],[0.5555555555555556,\"#d8576b\"],[0.6666666666666666,\"#ed7953\"],[0.7777777777777778,\"#fb9f3a\"],[0.8888888888888888,\"#fdca26\"],[1.0,\"#f0f921\"]],\"type\":\"surface\"}],\"table\":[{\"cells\":{\"fill\":{\"color\":\"#EBF0F8\"},\"line\":{\"color\":\"white\"}},\"header\":{\"fill\":{\"color\":\"#C8D4E3\"},\"line\":{\"color\":\"white\"}},\"type\":\"table\"}]},\"layout\":{\"annotationdefaults\":{\"arrowcolor\":\"#2a3f5f\",\"arrowhead\":0,\"arrowwidth\":1},\"autotypenumbers\":\"strict\",\"coloraxis\":{\"colorbar\":{\"outlinewidth\":0,\"ticks\":\"\"}},\"colorscale\":{\"diverging\":[[0,\"#8e0152\"],[0.1,\"#c51b7d\"],[0.2,\"#de77ae\"],[0.3,\"#f1b6da\"],[0.4,\"#fde0ef\"],[0.5,\"#f7f7f7\"],[0.6,\"#e6f5d0\"],[0.7,\"#b8e186\"],[0.8,\"#7fbc41\"],[0.9,\"#4d9221\"],[1,\"#276419\"]],\"sequential\":[[0.0,\"#0d0887\"],[0.1111111111111111,\"#46039f\"],[0.2222222222222222,\"#7201a8\"],[0.3333333333333333,\"#9c179e\"],[0.4444444444444444,\"#bd3786\"],[0.5555555555555556,\"#d8576b\"],[0.6666666666666666,\"#ed7953\"],[0.7777777777777778,\"#fb9f3a\"],[0.8888888888888888,\"#fdca26\"],[1.0,\"#f0f921\"]],\"sequentialminus\":[[0.0,\"#0d0887\"],[0.1111111111111111,\"#46039f\"],[0.2222222222222222,\"#7201a8\"],[0.3333333333333333,\"#9c179e\"],[0.4444444444444444,\"#bd3786\"],[0.5555555555555556,\"#d8576b\"],[0.6666666666666666,\"#ed7953\"],[0.7777777777777778,\"#fb9f3a\"],[0.8888888888888888,\"#fdca26\"],[1.0,\"#f0f921\"]]},\"colorway\":[\"#636efa\",\"#EF553B\",\"#00cc96\",\"#ab63fa\",\"#FFA15A\",\"#19d3f3\",\"#FF6692\",\"#B6E880\",\"#FF97FF\",\"#FECB52\"],\"font\":{\"color\":\"#2a3f5f\"},\"geo\":{\"bgcolor\":\"white\",\"lakecolor\":\"white\",\"landcolor\":\"#E5ECF6\",\"showlakes\":true,\"showland\":true,\"subunitcolor\":\"white\"},\"hoverlabel\":{\"align\":\"left\"},\"hovermode\":\"closest\",\"mapbox\":{\"style\":\"light\"},\"paper_bgcolor\":\"white\",\"plot_bgcolor\":\"#E5ECF6\",\"polar\":{\"angularaxis\":{\"gridcolor\":\"white\",\"linecolor\":\"white\",\"ticks\":\"\"},\"bgcolor\":\"#E5ECF6\",\"radialaxis\":{\"gridcolor\":\"white\",\"linecolor\":\"white\",\"ticks\":\"\"}},\"scene\":{\"xaxis\":{\"backgroundcolor\":\"#E5ECF6\",\"gridcolor\":\"white\",\"gridwidth\":2,\"linecolor\":\"white\",\"showbackground\":true,\"ticks\":\"\",\"zerolinecolor\":\"white\"},\"yaxis\":{\"backgroundcolor\":\"#E5ECF6\",\"gridcolor\":\"white\",\"gridwidth\":2,\"linecolor\":\"white\",\"showbackground\":true,\"ticks\":\"\",\"zerolinecolor\":\"white\"},\"zaxis\":{\"backgroundcolor\":\"#E5ECF6\",\"gridcolor\":\"white\",\"gridwidth\":2,\"linecolor\":\"white\",\"showbackground\":true,\"ticks\":\"\",\"zerolinecolor\":\"white\"}},\"shapedefaults\":{\"line\":{\"color\":\"#2a3f5f\"}},\"ternary\":{\"aaxis\":{\"gridcolor\":\"white\",\"linecolor\":\"white\",\"ticks\":\"\"},\"baxis\":{\"gridcolor\":\"white\",\"linecolor\":\"white\",\"ticks\":\"\"},\"bgcolor\":\"#E5ECF6\",\"caxis\":{\"gridcolor\":\"white\",\"linecolor\":\"white\",\"ticks\":\"\"}},\"title\":{\"x\":0.05},\"xaxis\":{\"automargin\":true,\"gridcolor\":\"white\",\"linecolor\":\"white\",\"ticks\":\"\",\"title\":{\"standoff\":15},\"zerolinecolor\":\"white\",\"zerolinewidth\":2},\"yaxis\":{\"automargin\":true,\"gridcolor\":\"white\",\"linecolor\":\"white\",\"ticks\":\"\",\"title\":{\"standoff\":15},\"zerolinecolor\":\"white\",\"zerolinewidth\":2}}},\"xaxis\":{\"anchor\":\"y\",\"domain\":[0.0,1.0],\"title\":{\"text\":\"class\"},\"categoryorder\":\"array\",\"categoryarray\":[\"2seater\",\"compact\",\"midsize\",\"minivan\",\"pickup\",\"subcompact\",\"suv\"]},\"yaxis\":{\"anchor\":\"x\",\"domain\":[0.0,1.0],\"title\":{\"text\":\"n\"}},\"legend\":{\"title\":{\"text\":\"class\"},\"tracegroupgap\":0},\"margin\":{\"t\":60},\"barmode\":\"relative\"},                        {\"responsive\": true}                    ).then(function(){\n",
       "                            \n",
       "var gd = document.getElementById('790ff455-8094-4bc6-903a-8697524bded2');\n",
       "var x = new MutationObserver(function (mutations, observer) {{\n",
       "        var display = window.getComputedStyle(gd).display;\n",
       "        if (!display || display === 'none') {{\n",
       "            console.log([gd, 'removed!']);\n",
       "            Plotly.purge(gd);\n",
       "            observer.disconnect();\n",
       "        }}\n",
       "}});\n",
       "\n",
       "// Listen for the removal of the full notebook cells\n",
       "var notebookContainer = gd.closest('#notebook-container');\n",
       "if (notebookContainer) {{\n",
       "    x.observe(notebookContainer, {childList: true});\n",
       "}}\n",
       "\n",
       "// Listen for the clearing of the current output cell\n",
       "var outputEl = gd.closest('.output');\n",
       "if (outputEl) {{\n",
       "    x.observe(outputEl, {childList: true});\n",
       "}}\n",
       "\n",
       "                        })                };                });            </script>        </div>"
      ]
     },
     "metadata": {},
     "output_type": "display_data"
    }
   ],
   "source": [
    "px.bar(data_frame=df, x='class',y='n',color='class')"
   ]
  },
  {
   "cell_type": "code",
   "execution_count": null,
   "id": "b7e376e0-35ef-4e65-81c7-2a3e2b91e7f1",
   "metadata": {},
   "outputs": [],
   "source": []
  }
 ],
 "metadata": {
  "kernelspec": {
   "display_name": "Python 3 (ipykernel)",
   "language": "python",
   "name": "python3"
  },
  "language_info": {
   "codemirror_mode": {
    "name": "ipython",
    "version": 3
   },
   "file_extension": ".py",
   "mimetype": "text/x-python",
   "name": "python",
   "nbconvert_exporter": "python",
   "pygments_lexer": "ipython3",
   "version": "3.10.6"
  }
 },
 "nbformat": 4,
 "nbformat_minor": 5
}
