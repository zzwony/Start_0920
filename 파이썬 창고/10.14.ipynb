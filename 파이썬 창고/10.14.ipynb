{
 "cells": [
  {
   "cell_type": "code",
   "execution_count": null,
   "id": "1c2f5a9f-5582-4ff3-aa82-25e09572e641",
   "metadata": {},
   "outputs": [],
   "source": [
    "의사결정나무는 분류(classification)와 회귀(regression) 모두 가능하다."
   ]
  },
  {
   "cell_type": "code",
   "execution_count": null,
   "id": "799156d6-bf13-4744-9034-e6b9cb79e3d2",
   "metadata": {},
   "outputs": [],
   "source": [
    "#지니지수 불순도: 불순도를 측정해주세요.\n",
    "#전체 16개 중 빨간색 10개, 파란색 6개가 있다.\n",
    "\n",
    "1 - (10/16)^2 - (6/16)^2 = 0.47"
   ]
  },
  {
   "cell_type": "code",
   "execution_count": null,
   "id": "e40240ca-36c8-4a91-86ba-777afff08d0b",
   "metadata": {},
   "outputs": [],
   "source": [
    "불순도를 측정하는 대표적인 방법 2가지\n",
    "-> 지니지수, 엔트로피지수"
   ]
  },
  {
   "cell_type": "code",
   "execution_count": null,
   "id": "fd08df83-f46f-48d7-803a-2a97cbd292de",
   "metadata": {},
   "outputs": [],
   "source": [
    "불순도가 0.5에서 0.4로 낮아질 때 0.1만큼 (정보 이득 = information gain)이 있다고 말한다."
   ]
  },
  {
   "cell_type": "code",
   "execution_count": null,
   "id": "f3b092d3-c0d9-455e-a332-496a311e0194",
   "metadata": {},
   "outputs": [],
   "source": [
    "★ 중요함\n",
    "\n",
    "min_samples_split: 노드를 분할하기 위한 최소 샘플 갯수(마지막 노드를 말함.)\n",
    "    \n",
    "min_samples_leaf: 분할될경우 좌우 브랜치에서 가져야 할 최소 샘플 갯수\n",
    "    \n",
    "max_depth: 트리 최대 깊이\n",
    "    \n",
    "max_leaf_nodes: 말단 leaf의 총 갯수\n",
    "    \n",
    "max_features: 분할에 사용할 feature 갯수"
   ]
  },
  {
   "cell_type": "code",
   "execution_count": null,
   "id": "19fadeab-728b-4d62-8df7-06bf74b0ce01",
   "metadata": {},
   "outputs": [],
   "source": [
    "(과적합)은 학습 데이터에 대해 과하게 학습하여 적절한 일반화를 하지 못해서\n",
    "실제 데이터에 대한 오차가 증가하는 현상으로 이를 방지하기 위해 \n",
    "의사 결정 트리에서는 가지치기(pruning) 작업을 한다."
   ]
  },
  {
   "cell_type": "code",
   "execution_count": 1,
   "id": "65d0f7c6-05a3-4dfd-a346-59f7d7c88f61",
   "metadata": {},
   "outputs": [],
   "source": [
    "싸이킷런 분류 알고리즘에서 predict할 때, 각 label의 확률을 보여주는 매서드는 무엇인가?\n",
    "predict_proba"
   ]
  },
  {
   "cell_type": "code",
   "execution_count": 16,
   "id": "4f572a98-b8cf-4564-91f1-b9583545e18d",
   "metadata": {},
   "outputs": [
    {
     "data": {
      "text/plain": [
       "DecisionTreeClassifier()"
      ]
     },
     "execution_count": 16,
     "metadata": {},
     "output_type": "execute_result"
    }
   ],
   "source": [
    "# 중요한 피쳐 3가지는?\n",
    "from sklearn.datasets import load_wine\n",
    "from sklearn.tree import DecisionTreeClassifier\n",
    "from sklearn.model_selection import train_test_split \n",
    "\n",
    "dt_clf = DecisionTreeClassifier()\n",
    "\n",
    "wine = load_wine()\n",
    "X_train, X_test, y_train, y_test = train_test_split(wine.data, wine.target)\n",
    "\n",
    "dt_clf.fit(X_train, y_train) "
   ]
  },
  {
   "cell_type": "code",
   "execution_count": 17,
   "id": "c06e0b28-fa8a-4fd2-94c6-981cd2962b86",
   "metadata": {},
   "outputs": [
    {
     "data": {
      "text/plain": [
       "['alcohol',\n",
       " 'malic_acid',\n",
       " 'ash',\n",
       " 'alcalinity_of_ash',\n",
       " 'magnesium',\n",
       " 'total_phenols',\n",
       " 'flavanoids',\n",
       " 'nonflavanoid_phenols',\n",
       " 'proanthocyanins',\n",
       " 'color_intensity',\n",
       " 'hue',\n",
       " 'od280/od315_of_diluted_wines',\n",
       " 'proline']"
      ]
     },
     "execution_count": 17,
     "metadata": {},
     "output_type": "execute_result"
    }
   ],
   "source": [
    "wine.feature_names"
   ]
  },
  {
   "cell_type": "code",
   "execution_count": 27,
   "id": "4f854a34-7c01-4eb7-b155-b0d21c9012e9",
   "metadata": {},
   "outputs": [
    {
     "name": "stdout",
     "output_type": "stream",
     "text": [
      "alcohol : 0.000\n",
      "malic_acid : 0.019\n",
      "ash : 0.000\n",
      "alcalinity_of_ash : 0.000\n",
      "magnesium : 0.000\n",
      "total_phenols : 0.000\n",
      "flavanoids : 0.264\n",
      "nonflavanoid_phenols : 0.000\n",
      "proanthocyanins : 0.000\n",
      "color_intensity : 0.285\n",
      "hue : 0.000\n",
      "od280/od315_of_diluted_wines : 0.000\n",
      "proline : 0.431\n"
     ]
    }
   ],
   "source": [
    "dt_clf.feature_importances_\n",
    "\n",
    "for names, importance in zip(wine.feature_names, dt_clf.feature_importances_):\n",
    "    print(f'{names} : {importance:.3f}')\n",
    "    "
   ]
  },
  {
   "cell_type": "code",
   "execution_count": 31,
   "id": "75dd8219-18cb-4ccb-9ccb-7929c698b1d7",
   "metadata": {},
   "outputs": [
    {
     "data": {
      "text/html": [
       "<div>\n",
       "<style scoped>\n",
       "    .dataframe tbody tr th:only-of-type {\n",
       "        vertical-align: middle;\n",
       "    }\n",
       "\n",
       "    .dataframe tbody tr th {\n",
       "        vertical-align: top;\n",
       "    }\n",
       "\n",
       "    .dataframe thead th {\n",
       "        text-align: right;\n",
       "    }\n",
       "</style>\n",
       "<table border=\"1\" class=\"dataframe\">\n",
       "  <thead>\n",
       "    <tr style=\"text-align: right;\">\n",
       "      <th></th>\n",
       "      <th>0</th>\n",
       "    </tr>\n",
       "  </thead>\n",
       "  <tbody>\n",
       "    <tr>\n",
       "      <th>proline</th>\n",
       "      <td>0.431195</td>\n",
       "    </tr>\n",
       "    <tr>\n",
       "      <th>color_intensity</th>\n",
       "      <td>0.284954</td>\n",
       "    </tr>\n",
       "    <tr>\n",
       "      <th>flavanoids</th>\n",
       "      <td>0.264417</td>\n",
       "    </tr>\n",
       "  </tbody>\n",
       "</table>\n",
       "</div>"
      ],
      "text/plain": [
       "                        0\n",
       "proline          0.431195\n",
       "color_intensity  0.284954\n",
       "flavanoids       0.264417"
      ]
     },
     "execution_count": 31,
     "metadata": {},
     "output_type": "execute_result"
    }
   ],
   "source": [
    "import pandas as pd\n",
    "\n",
    "pd.DataFrame(dt_clf.feature_importances_, \n",
    "             index = wine.feature_names).sort_values(by=0,ascending=False).head(3)"
   ]
  },
  {
   "cell_type": "code",
   "execution_count": null,
   "id": "4febb2d7-1c6a-4866-87a6-082cd1a55722",
   "metadata": {},
   "outputs": [],
   "source": [
    "GridSearchCV 함수의 파라미터 'n_jobs=-1' 이란 무엇을 의미하는가?\n",
    "수를 늘릴수록 그만큼 CPU 코어 사용, -1은 전체 사용"
   ]
  },
  {
   "cell_type": "code",
   "execution_count": null,
   "id": "154c6638-b08b-4f52-b4c6-2c5c55cdd49a",
   "metadata": {},
   "outputs": [],
   "source": [
    "결정 트리의 깊이(depth)가 깊을수록 예측 성능이 좋지 않다."
   ]
  },
  {
   "cell_type": "code",
   "execution_count": null,
   "id": "ea3cf4e2-fbbc-41f4-a6f7-2803518240b3",
   "metadata": {},
   "outputs": [],
   "source": [
    "의사결정나무는 스케일이나 평균을 원점에 맞추는 것과 같은 데이터 전처리가 \n",
    "거의 필요하지 않다."
   ]
  },
  {
   "cell_type": "code",
   "execution_count": null,
   "id": "bea88a44-0974-4814-a339-c8c0d990f8f3",
   "metadata": {},
   "outputs": [],
   "source": [
    "결정트리에서 지니 계수가 낮을수록 데이터의 균일도가 높음으로 해석한다."
   ]
  },
  {
   "cell_type": "code",
   "execution_count": null,
   "id": "d3f09d0e-6423-4839-9237-cde0cef73da2",
   "metadata": {},
   "outputs": [],
   "source": [
    "조화평균의 공식은 무엇인가요?\n",
    "\n",
    "2ab / (a + b)"
   ]
  },
  {
   "cell_type": "code",
   "execution_count": null,
   "id": "75adfc64-9436-4831-8a8e-c17257e7f0e7",
   "metadata": {},
   "outputs": [],
   "source": []
  },
  {
   "cell_type": "code",
   "execution_count": null,
   "id": "07d51f53-43ee-4656-858d-8dbd8848e1a2",
   "metadata": {},
   "outputs": [],
   "source": []
  },
  {
   "cell_type": "code",
   "execution_count": null,
   "id": "18473c62-aa1c-4e66-a0fd-5b2d3c28ccde",
   "metadata": {},
   "outputs": [],
   "source": []
  },
  {
   "cell_type": "markdown",
   "id": "48713f02-0757-4513-8c07-35045d8f02aa",
   "metadata": {},
   "source": [
    "# 앙상블 학습"
   ]
  },
  {
   "cell_type": "code",
   "execution_count": 32,
   "id": "9b5264d2-2502-417c-bcb9-25a0ddd17587",
   "metadata": {},
   "outputs": [
    {
     "data": {
      "text/html": [
       "<div>\n",
       "<style scoped>\n",
       "    .dataframe tbody tr th:only-of-type {\n",
       "        vertical-align: middle;\n",
       "    }\n",
       "\n",
       "    .dataframe tbody tr th {\n",
       "        vertical-align: top;\n",
       "    }\n",
       "\n",
       "    .dataframe thead th {\n",
       "        text-align: right;\n",
       "    }\n",
       "</style>\n",
       "<table border=\"1\" class=\"dataframe\">\n",
       "  <thead>\n",
       "    <tr style=\"text-align: right;\">\n",
       "      <th></th>\n",
       "      <th>mean radius</th>\n",
       "      <th>mean texture</th>\n",
       "      <th>mean perimeter</th>\n",
       "      <th>mean area</th>\n",
       "      <th>mean smoothness</th>\n",
       "      <th>mean compactness</th>\n",
       "      <th>mean concavity</th>\n",
       "      <th>mean concave points</th>\n",
       "      <th>mean symmetry</th>\n",
       "      <th>mean fractal dimension</th>\n",
       "      <th>...</th>\n",
       "      <th>worst radius</th>\n",
       "      <th>worst texture</th>\n",
       "      <th>worst perimeter</th>\n",
       "      <th>worst area</th>\n",
       "      <th>worst smoothness</th>\n",
       "      <th>worst compactness</th>\n",
       "      <th>worst concavity</th>\n",
       "      <th>worst concave points</th>\n",
       "      <th>worst symmetry</th>\n",
       "      <th>worst fractal dimension</th>\n",
       "    </tr>\n",
       "  </thead>\n",
       "  <tbody>\n",
       "    <tr>\n",
       "      <th>0</th>\n",
       "      <td>17.99</td>\n",
       "      <td>10.38</td>\n",
       "      <td>122.8</td>\n",
       "      <td>1001.0</td>\n",
       "      <td>0.11840</td>\n",
       "      <td>0.27760</td>\n",
       "      <td>0.3001</td>\n",
       "      <td>0.14710</td>\n",
       "      <td>0.2419</td>\n",
       "      <td>0.07871</td>\n",
       "      <td>...</td>\n",
       "      <td>25.38</td>\n",
       "      <td>17.33</td>\n",
       "      <td>184.6</td>\n",
       "      <td>2019.0</td>\n",
       "      <td>0.1622</td>\n",
       "      <td>0.6656</td>\n",
       "      <td>0.7119</td>\n",
       "      <td>0.2654</td>\n",
       "      <td>0.4601</td>\n",
       "      <td>0.11890</td>\n",
       "    </tr>\n",
       "    <tr>\n",
       "      <th>1</th>\n",
       "      <td>20.57</td>\n",
       "      <td>17.77</td>\n",
       "      <td>132.9</td>\n",
       "      <td>1326.0</td>\n",
       "      <td>0.08474</td>\n",
       "      <td>0.07864</td>\n",
       "      <td>0.0869</td>\n",
       "      <td>0.07017</td>\n",
       "      <td>0.1812</td>\n",
       "      <td>0.05667</td>\n",
       "      <td>...</td>\n",
       "      <td>24.99</td>\n",
       "      <td>23.41</td>\n",
       "      <td>158.8</td>\n",
       "      <td>1956.0</td>\n",
       "      <td>0.1238</td>\n",
       "      <td>0.1866</td>\n",
       "      <td>0.2416</td>\n",
       "      <td>0.1860</td>\n",
       "      <td>0.2750</td>\n",
       "      <td>0.08902</td>\n",
       "    </tr>\n",
       "    <tr>\n",
       "      <th>2</th>\n",
       "      <td>19.69</td>\n",
       "      <td>21.25</td>\n",
       "      <td>130.0</td>\n",
       "      <td>1203.0</td>\n",
       "      <td>0.10960</td>\n",
       "      <td>0.15990</td>\n",
       "      <td>0.1974</td>\n",
       "      <td>0.12790</td>\n",
       "      <td>0.2069</td>\n",
       "      <td>0.05999</td>\n",
       "      <td>...</td>\n",
       "      <td>23.57</td>\n",
       "      <td>25.53</td>\n",
       "      <td>152.5</td>\n",
       "      <td>1709.0</td>\n",
       "      <td>0.1444</td>\n",
       "      <td>0.4245</td>\n",
       "      <td>0.4504</td>\n",
       "      <td>0.2430</td>\n",
       "      <td>0.3613</td>\n",
       "      <td>0.08758</td>\n",
       "    </tr>\n",
       "  </tbody>\n",
       "</table>\n",
       "<p>3 rows × 30 columns</p>\n",
       "</div>"
      ],
      "text/plain": [
       "   mean radius  mean texture  mean perimeter  mean area  mean smoothness  \\\n",
       "0        17.99         10.38           122.8     1001.0          0.11840   \n",
       "1        20.57         17.77           132.9     1326.0          0.08474   \n",
       "2        19.69         21.25           130.0     1203.0          0.10960   \n",
       "\n",
       "   mean compactness  mean concavity  mean concave points  mean symmetry  \\\n",
       "0           0.27760          0.3001              0.14710         0.2419   \n",
       "1           0.07864          0.0869              0.07017         0.1812   \n",
       "2           0.15990          0.1974              0.12790         0.2069   \n",
       "\n",
       "   mean fractal dimension  ...  worst radius  worst texture  worst perimeter  \\\n",
       "0                 0.07871  ...         25.38          17.33            184.6   \n",
       "1                 0.05667  ...         24.99          23.41            158.8   \n",
       "2                 0.05999  ...         23.57          25.53            152.5   \n",
       "\n",
       "   worst area  worst smoothness  worst compactness  worst concavity  \\\n",
       "0      2019.0            0.1622             0.6656           0.7119   \n",
       "1      1956.0            0.1238             0.1866           0.2416   \n",
       "2      1709.0            0.1444             0.4245           0.4504   \n",
       "\n",
       "   worst concave points  worst symmetry  worst fractal dimension  \n",
       "0                0.2654          0.4601                  0.11890  \n",
       "1                0.1860          0.2750                  0.08902  \n",
       "2                0.2430          0.3613                  0.08758  \n",
       "\n",
       "[3 rows x 30 columns]"
      ]
     },
     "execution_count": 32,
     "metadata": {},
     "output_type": "execute_result"
    }
   ],
   "source": [
    "import pandas as pd\n",
    "\n",
    "from sklearn.ensemble import VotingClassifier\n",
    "from sklearn.linear_model import LogisticRegression\n",
    "from sklearn.neighbors import KNeighborsClassifier\n",
    "from sklearn.datasets import load_breast_cancer\n",
    "from sklearn.model_selection import train_test_split\n",
    "from sklearn.metrics import accuracy_score\n",
    "\n",
    "cancer = load_breast_cancer()\n",
    "\n",
    "data_df = pd.DataFrame(cancer.data, columns=cancer.feature_names)\n",
    "data_df.head(3)"
   ]
  },
  {
   "cell_type": "code",
   "execution_count": 40,
   "id": "64a9d4c5-21f7-444b-bef1-f4d2710e9042",
   "metadata": {},
   "outputs": [
    {
     "name": "stdout",
     "output_type": "stream",
     "text": [
      "Voting 분류기 정확도: 0.9561\n",
      "LogisticRegression 정확도: 0.9474\n",
      "KNeighborsClassifier 정확도: 0.9386\n"
     ]
    }
   ],
   "source": [
    "lr_clf = LogisticRegression(solver='liblinear')\n",
    "knn_clf = KNeighborsClassifier(n_neighbors=8)\n",
    "\n",
    "vo_clf = VotingClassifier(estimators=[('lr', lr_clf), ('knn', knn_clf)], voting='soft')\n",
    "\n",
    "X_train, X_test, y_train, y_test = train_test_split(cancer.data, cancer.target,\n",
    "                                                   test_size=0.2, random_state=156)\n",
    "\n",
    "vo_clf.fit(X_train, y_train)\n",
    "pred = vo_clf.predict(X_test)\n",
    "print('Voting 분류기 정확도: {0:.4f}'.format(accuracy_score(y_test, pred)))\n",
    "\n",
    "classifiers = [lr_clf, knn_clf]\n",
    "for classifier in classifiers:\n",
    "    classifier.fit(X_train, y_train)\n",
    "    pred = classifier.predict(X_test)\n",
    "    class_name=classifier.__class__.__name__\n",
    "    print('{0} 정확도: {1:.4f}'.format(class_name, accuracy_score(y_test, pred)))"
   ]
  },
  {
   "cell_type": "code",
   "execution_count": null,
   "id": "9261588e-441b-4935-8578-ecb0fe22f089",
   "metadata": {},
   "outputs": [],
   "source": []
  },
  {
   "cell_type": "code",
   "execution_count": null,
   "id": "6da29436-3fc9-48d1-8517-2e8ccd2df6c7",
   "metadata": {},
   "outputs": [],
   "source": []
  },
  {
   "cell_type": "code",
   "execution_count": null,
   "id": "826c04df-9afe-4753-ac3d-2a3e20269472",
   "metadata": {},
   "outputs": [],
   "source": []
  },
  {
   "cell_type": "code",
   "execution_count": null,
   "id": "c77aeb35-983f-481a-a97d-9096c34ac9f6",
   "metadata": {},
   "outputs": [],
   "source": []
  },
  {
   "cell_type": "markdown",
   "id": "2945d6e9-4876-4a58-aba6-1aec649ac379",
   "metadata": {},
   "source": [
    "# 랜덤포레스트"
   ]
  },
  {
   "cell_type": "code",
   "execution_count": 43,
   "id": "dd924a0c-e793-4ff8-9971-842f54ac8727",
   "metadata": {},
   "outputs": [],
   "source": [
    "from sklearn.ensemble import RandomForestClassifier\n",
    "from sklearn.metrics import accuracy_score\n",
    "import pandas as pd\n",
    "import warnings\n",
    "warnings.filterwarnings('ignore')"
   ]
  },
  {
   "cell_type": "code",
   "execution_count": 48,
   "id": "5e0dccbf-8d74-410c-934e-b504b384e57b",
   "metadata": {},
   "outputs": [],
   "source": [
    "def get_new_feature_name_df(old_feature_name_df):\n",
    "    feature_dup_df = pd.DataFrame(data=old_feature_name_df.groupby('column_name').cumcount(),\n",
    "                                  columns=['dup_cnt'])\n",
    "    feature_dup_df = feature_dup_df.reset_index()\n",
    "    new_feature_name_df = pd.merge(old_feature_name_df.reset_index(), feature_dup_df, how='outer')\n",
    "    new_feature_name_df['column_name'] = new_feature_name_df[['column_name', 'dup_cnt']].apply(lambda x : x[0]+'_'+str(x[1]) \n",
    "                                                                                         if x[1] >0 else x[0],  axis=1)\n",
    "    new_feature_name_df = new_feature_name_df.drop(['index'], axis=1)\n",
    "    return new_feature_name_df "
   ]
  },
  {
   "cell_type": "code",
   "execution_count": 49,
   "id": "e44749dd-6b15-460b-9d3c-b774fa4d5a53",
   "metadata": {},
   "outputs": [],
   "source": [
    "import pandas as pd\n",
    "\n",
    "def get_human_dataset( ):\n",
    "    \n",
    "    # 각 데이터 파일들은 공백으로 분리되어 있으므로 read_csv에서 공백 문자를 sep으로 할당.\n",
    "    feature_name_df = pd.read_csv('./human_activity/features.txt',sep='\\s+',\n",
    "                        header=None,names=['column_index','column_name'])\n",
    "    \n",
    "    # 중복된 피처명을 수정하는 get_new_feature_name_df()를 이용, 신규 피처명 DataFrame생성. \n",
    "    new_feature_name_df = get_new_feature_name_df(feature_name_df)\n",
    "    \n",
    "    # DataFrame에 피처명을 컬럼으로 부여하기 위해 리스트 객체로 다시 변환\n",
    "    feature_name = new_feature_name_df.iloc[:, 1].values.tolist()\n",
    "    \n",
    "    # 학습 피처 데이터 셋과 테스트 피처 데이터을 DataFrame으로 로딩. 컬럼명은 feature_name 적용\n",
    "    X_train = pd.read_csv('./human_activity/train/X_train.txt',sep='\\s+', names=feature_name )\n",
    "    X_test = pd.read_csv('./human_activity/test/X_test.txt',sep='\\s+', names=feature_name)\n",
    "    \n",
    "    # 학습 레이블과 테스트 레이블 데이터을 DataFrame으로 로딩하고 컬럼명은 action으로 부여\n",
    "    y_train = pd.read_csv('./human_activity/train/y_train.txt',sep='\\s+',header=None,names=['action'])\n",
    "    y_test = pd.read_csv('./human_activity/test/y_test.txt',sep='\\s+',header=None,names=['action'])\n",
    "    \n",
    "    # 로드된 학습/테스트용 DataFrame을 모두 반환 \n",
    "    return X_train, X_test, y_train, y_test\n",
    "\n",
    "\n",
    "X_train, X_test, y_train, y_test = get_human_dataset() "
   ]
  },
  {
   "cell_type": "code",
   "execution_count": 51,
   "id": "c593ae68-2252-47e5-8009-1fcd1a0f5846",
   "metadata": {},
   "outputs": [
    {
     "data": {
      "text/plain": [
       "0.9253478113335596"
      ]
     },
     "execution_count": 51,
     "metadata": {},
     "output_type": "execute_result"
    }
   ],
   "source": [
    "rf_clf = RandomForestClassifier(random_state=0)\n",
    "rf_clf.fit(X_train, y_train)\n",
    "pred = rf_clf.predict(X_test)\n",
    "accuracy_score(y_test, pred)"
   ]
  },
  {
   "cell_type": "code",
   "execution_count": 60,
   "id": "d4f2e8a0-e651-4347-8c87-423213fd6d44",
   "metadata": {},
   "outputs": [
    {
     "data": {
      "text/plain": [
       "0.9253478113335596"
      ]
     },
     "execution_count": 60,
     "metadata": {},
     "output_type": "execute_result"
    }
   ],
   "source": [
    "from sklearn.model_selection import GridSearchCV\n",
    "\n",
    "params = {\n",
    "    'max_depth': [8,16,24],\n",
    "    'min_samples_leaf': [1,6,12],\n",
    "    'min_samples_leaf': [2,8,16]\n",
    "}\n",
    "\n",
    "rf_clf = RandomForestClassifier(n_estimators=100, random_state=0, n_jobs=-1)\n",
    "grid_cv = GridSearchCV(rf_clf, param_grid=params, cv=2, n_jobs=-1)\n",
    "rf_clf.fit(X_train, y_train)\n",
    "pred = rf_clf.predict(X_test)\n",
    "accuracy_score(y_test, pred)"
   ]
  },
  {
   "cell_type": "code",
   "execution_count": null,
   "id": "0fba71b3-b73c-4716-94ee-49416d1e327d",
   "metadata": {},
   "outputs": [],
   "source": [
    "grid_cv."
   ]
  },
  {
   "cell_type": "code",
   "execution_count": null,
   "id": "fbd582eb-8d93-4873-986d-1f19a273cbe9",
   "metadata": {},
   "outputs": [],
   "source": []
  },
  {
   "cell_type": "code",
   "execution_count": null,
   "id": "a0355a9b-e557-4f97-9d01-fbd8386c1dc5",
   "metadata": {},
   "outputs": [],
   "source": [
    "rf_clf1 = grid_cv.best"
   ]
  },
  {
   "cell_type": "code",
   "execution_count": null,
   "id": "ac04d56a-5569-4205-8532-b979ed8e6f74",
   "metadata": {},
   "outputs": [],
   "source": [
    "ftr_importances_values = rf_clf1.feature_importances_\n",
    "ftr_importances = pd.Series(ftr_importances_values,index=X_train.columns)\n",
    "ftr_importances.sort_values(ascending=False)[:10] "
   ]
  },
  {
   "cell_type": "code",
   "execution_count": null,
   "id": "29fb90d3-c7bf-42e5-8b04-79e0d48c09ae",
   "metadata": {},
   "outputs": [],
   "source": [
    "import matplotlib.pyplot as plt\n",
    "import seaborn as sns\n",
    "%matplotlib inline\n",
    "\n",
    "ftr_importances_values = rf_clf1.feature_importances_\n",
    "ftr_importances = pd.Series(ftr_importances_values,index=X_train.columns  )\n",
    "ftr_top20 = ftr_importances.sort_values(ascending=False)[:20]\n",
    "\n",
    "plt.figure(figsize=(8,6))\n",
    "plt.title('Feature importances Top 20')\n",
    "sns.barplot(x=ftr_top20 , y = ftr_top20.index)\n",
    "plt.show\n",
    "() "
   ]
  },
  {
   "cell_type": "code",
   "execution_count": null,
   "id": "0498c07e-df22-4e50-b940-0a7882aafc1b",
   "metadata": {},
   "outputs": [],
   "source": []
  },
  {
   "cell_type": "code",
   "execution_count": null,
   "id": "689dfb99-8bf1-4918-96a2-ba4653577f65",
   "metadata": {},
   "outputs": [],
   "source": []
  },
  {
   "cell_type": "markdown",
   "id": "140caa28-66bb-4163-8e90-e95e9748fc7b",
   "metadata": {},
   "source": [
    "# GBM"
   ]
  },
  {
   "cell_type": "code",
   "execution_count": 63,
   "id": "7824552f-f4bc-437f-bdaf-0a765802c321",
   "metadata": {},
   "outputs": [],
   "source": [
    "X_train, X_test, y_train, y_test = get_human_dataset()"
   ]
  },
  {
   "cell_type": "code",
   "execution_count": 65,
   "id": "3e9bde07-a616-4e57-95ef-4bb65e44e645",
   "metadata": {},
   "outputs": [
    {
     "data": {
      "text/plain": [
       "0.9392602646759416"
      ]
     },
     "execution_count": 65,
     "metadata": {},
     "output_type": "execute_result"
    }
   ],
   "source": [
    "from sklearn.ensemble import GradientBoostingClassifier\n",
    "gb_clf = GradientBoostingClassifier()\n",
    "gb_clf.fit(X_train, y_train)\n",
    "pred = gb_clf.predict(X_test)\n",
    "accuracy_score(y_test, pred)"
   ]
  },
  {
   "cell_type": "code",
   "execution_count": null,
   "id": "3dddfa2d-e7df-431c-8a2d-e2e12672bddd",
   "metadata": {},
   "outputs": [],
   "source": []
  },
  {
   "cell_type": "code",
   "execution_count": null,
   "id": "9d497347-4e75-4cfa-9906-80367f065c34",
   "metadata": {},
   "outputs": [],
   "source": []
  },
  {
   "cell_type": "markdown",
   "id": "6d68ced0-f36c-46aa-9cb5-8df0ae22dd1f",
   "metadata": {},
   "source": [
    "# XGBoost"
   ]
  },
  {
   "cell_type": "code",
   "execution_count": 69,
   "id": "702d33b3-5e4b-4bb9-8318-f048fa425d1d",
   "metadata": {},
   "outputs": [],
   "source": [
    "import xgboost as xgb\n",
    "from xgboost import XGBClassifier"
   ]
  },
  {
   "cell_type": "code",
   "execution_count": 71,
   "id": "2659c1b7-48ef-4d90-966e-b90123df05e6",
   "metadata": {},
   "outputs": [],
   "source": [
    "from xgboost import XGBClassifier"
   ]
  },
  {
   "cell_type": "code",
   "execution_count": 73,
   "id": "46e66062-b0bb-4a88-a3fd-74cd6678a216",
   "metadata": {
    "collapsed": true,
    "jupyter": {
     "outputs_hidden": true
    },
    "tags": []
   },
   "outputs": [
    {
     "data": {
      "text/plain": [
       "XGBClassifier(base_score=None, booster=None, colsample_bylevel=None,\n",
       "              colsample_bynode=None, colsample_bytree=None,\n",
       "              enable_categorical=False, eval_metric='logloss', gamma=None,\n",
       "              gpu_id=None, importance_type=None, interaction_constraints=None,\n",
       "              learning_rate=0.05, max_delta_step=None, max_depth=3,\n",
       "              min_child_weight=None, missing=nan, monotone_constraints=None,\n",
       "              n_estimators=400, n_jobs=None, num_parallel_tree=None,\n",
       "              predictor=None, random_state=None, reg_alpha=None,\n",
       "              reg_lambda=None, scale_pos_weight=None, subsample=None,\n",
       "              tree_method=None, validate_parameters=None, verbosity=None)"
      ]
     },
     "execution_count": 73,
     "metadata": {},
     "output_type": "execute_result"
    }
   ],
   "source": [
    "XGBClassifier(n_estimators = 400, learning_rate=0.05, max_depth=3,\n",
    "             eval_metric='logloss')"
   ]
  },
  {
   "cell_type": "code",
   "execution_count": 74,
   "id": "ac53d2f6-63f4-44da-b92a-f92f4bc54e87",
   "metadata": {},
   "outputs": [],
   "source": [
    "cancer = load_breast_cancer()"
   ]
  },
  {
   "cell_type": "code",
   "execution_count": 76,
   "id": "f709bc4d-3181-416c-b003-94a73f1af3bf",
   "metadata": {},
   "outputs": [],
   "source": [
    "X = cancer.data\n",
    "y = cancer.target"
   ]
  },
  {
   "cell_type": "code",
   "execution_count": 80,
   "id": "82fb6b02-1b29-47be-83bd-e6e986ab2a5d",
   "metadata": {},
   "outputs": [],
   "source": [
    "X_train, X_test, y_train, y_test = train_test_split(X,y, test_size=.2, random_state=156)\n",
    "X_tr, X_val, y_tr, y_val = train_test_split(X_train, y_train, test_size=.1, random_state=156)"
   ]
  },
  {
   "cell_type": "code",
   "execution_count": 79,
   "id": "1f3c0e80-4ef3-4ca8-8a85-df5e16e4d098",
   "metadata": {},
   "outputs": [],
   "source": [
    "xgb_wrapper = XGBClassifier(n_estimators = 400, learning_rate=0.05, max_depth=3, eval_metric='logloss')"
   ]
  },
  {
   "cell_type": "code",
   "execution_count": 81,
   "id": "eda86222-7a7e-4f4c-9a72-cda4d3e529f6",
   "metadata": {},
   "outputs": [
    {
     "data": {
      "text/plain": [
       "XGBClassifier(base_score=0.5, booster='gbtree', colsample_bylevel=1,\n",
       "              colsample_bynode=1, colsample_bytree=1, enable_categorical=False,\n",
       "              eval_metric='logloss', gamma=0, gpu_id=-1, importance_type=None,\n",
       "              interaction_constraints='', learning_rate=0.05, max_delta_step=0,\n",
       "              max_depth=3, min_child_weight=1, missing=nan,\n",
       "              monotone_constraints='()', n_estimators=400, n_jobs=6,\n",
       "              num_parallel_tree=1, predictor='auto', random_state=0,\n",
       "              reg_alpha=0, reg_lambda=1, scale_pos_weight=1, subsample=1,\n",
       "              tree_method='exact', validate_parameters=1, verbosity=None)"
      ]
     },
     "execution_count": 81,
     "metadata": {},
     "output_type": "execute_result"
    }
   ],
   "source": [
    "xgb_wrapper.fit(X_train, y_train, verbose=True)"
   ]
  },
  {
   "cell_type": "code",
   "execution_count": 83,
   "id": "bf91d6c0-5222-4658-9e6b-2df909cc4b10",
   "metadata": {},
   "outputs": [
    {
     "data": {
      "text/plain": [
       "array([1, 0, 1, 0, 1, 1, 1, 1, 1, 0, 0, 0, 1, 1, 1, 1, 1, 1, 1, 1, 0, 1,\n",
       "       0, 1, 0, 1, 0, 0, 1, 0, 1, 0, 1, 1, 0, 0, 1, 1, 0, 1, 0, 1, 1, 1,\n",
       "       1, 1, 0, 1, 1, 1, 1, 0, 1, 1, 1, 1, 1, 1, 1, 1, 1, 1, 0, 0, 1, 1,\n",
       "       0, 1, 1, 1, 0, 1, 0, 1, 1, 0, 1, 1, 1, 0, 0, 1, 1, 1, 1, 1, 1, 1,\n",
       "       1, 0, 0, 1, 0, 0, 1, 0, 0, 1, 0, 1, 0, 0, 1, 1, 1, 1, 1, 1, 1, 1,\n",
       "       1, 1, 1, 1])"
      ]
     },
     "execution_count": 83,
     "metadata": {},
     "output_type": "execute_result"
    }
   ],
   "source": [
    "pred = xgb_wrapper.predict(X_test)\n",
    "pred"
   ]
  },
  {
   "cell_type": "code",
   "execution_count": 85,
   "id": "8cb60dba-5d43-46eb-9842-8378240a4cd3",
   "metadata": {},
   "outputs": [],
   "source": [
    "pred_proba = xgb_wrapper.predict_proba(X_test)[:,1]"
   ]
  },
  {
   "cell_type": "code",
   "execution_count": 94,
   "id": "4290b868-20b4-4d85-8dd5-ab1269320dcb",
   "metadata": {},
   "outputs": [],
   "source": [
    "from sklearn.metrics import confusion_matrix, accuracy_score, precision_score, recall_score, f1_score, roc_auc_score"
   ]
  },
  {
   "cell_type": "code",
   "execution_count": 95,
   "id": "8405e527-0f45-43ce-b8c8-58a31a8718f2",
   "metadata": {},
   "outputs": [],
   "source": [
    "def get_clf_eval(y_test, pred=None, pred_proba=None):\n",
    "    confusion = confusion_matrix( y_test, pred)\n",
    "    accuracy = accuracy_score(y_test , pred)\n",
    "    precision = precision_score(y_test , pred)\n",
    "    recall = recall_score(y_test , pred)\n",
    "    f1 = f1_score(y_test,pred)\n",
    "    # ROC-AUC 추가 \n",
    "    roc_auc = roc_auc_score(y_test, pred_proba)\n",
    "    print('오차 행렬')\n",
    "    print(confusion)\n",
    "    # ROC-AUC print 추가\n",
    "    print('정확도: {0:.4f}, 정밀도: {1:.4f}, 재현율: {2:.4f},\\\n",
    "    F1: {3:.4f}, AUC:{4:.4f}'.format(accuracy, precision, recall, f1, roc_auc)) "
   ]
  },
  {
   "cell_type": "code",
   "execution_count": 96,
   "id": "4efa5831-6dda-4de0-92c5-b319365c4853",
   "metadata": {},
   "outputs": [
    {
     "name": "stdout",
     "output_type": "stream",
     "text": [
      "오차 행렬\n",
      "[[34  3]\n",
      " [ 1 76]]\n",
      "정확도: 0.9649, 정밀도: 0.9620, 재현율: 0.9870,    F1: 0.9744, AUC:0.9954\n"
     ]
    }
   ],
   "source": [
    "get_clf_eval(y_test, pred, pred_proba)"
   ]
  },
  {
   "cell_type": "markdown",
   "id": "79aa74ab-89ca-4ef2-b579-58250dec0182",
   "metadata": {},
   "source": [
    "- 2회"
   ]
  },
  {
   "cell_type": "code",
   "execution_count": 103,
   "id": "24731ae1-e250-4867-8729-67210552ada2",
   "metadata": {},
   "outputs": [
    {
     "data": {
      "text/plain": [
       "XGBClassifier(base_score=0.5, booster='gbtree', colsample_bylevel=1,\n",
       "              colsample_bynode=1, colsample_bytree=1, enable_categorical=False,\n",
       "              gamma=0, gpu_id=-1, importance_type=None,\n",
       "              interaction_constraints='', learning_rate=0.05, max_delta_step=0,\n",
       "              max_depth=3, min_child_weight=1, missing=nan,\n",
       "              monotone_constraints='()', n_estimators=400, n_jobs=6,\n",
       "              num_parallel_tree=1, predictor='auto', random_state=0,\n",
       "              reg_alpha=0, reg_lambda=1, scale_pos_weight=1, subsample=1,\n",
       "              tree_method='exact', validate_parameters=1, verbosity=None)"
      ]
     },
     "execution_count": 103,
     "metadata": {},
     "output_type": "execute_result"
    }
   ],
   "source": [
    "from xgboost import XGBClassifier\n",
    "xgb_wrapper = XGBClassifier(n_estimators=400, learning_rate=0.05, max_depth=3)\n",
    "evals = [(X_tr, y_tr), (X_val, y_val)] # 미입력해도 됨\n",
    "xgb_wrapper.fit(X_tr, y_tr, \n",
    "                early_stopping_rounds=50, \n",
    "                eval_metric=\"logloss\", \n",
    "                eval_set=evals, \n",
    "                verbose=False) "
   ]
  },
  {
   "cell_type": "code",
   "execution_count": 104,
   "id": "454824eb-a336-47a3-adfb-5010bd20b1c6",
   "metadata": {},
   "outputs": [
    {
     "name": "stdout",
     "output_type": "stream",
     "text": [
      "오차 행렬\n",
      "[[34  3]\n",
      " [ 2 75]]\n",
      "정확도: 0.9561, 정밀도: 0.9615, 재현율: 0.9740,    F1: 0.9677, AUC:0.9933\n"
     ]
    }
   ],
   "source": [
    "ws50_preds = xgb_wrapper.predict(X_test)\n",
    "ws50_pred_proba = xgb_wrapper.predict_proba(X_test)[:, 1]\n",
    "get_clf_eval(y_test , ws50_preds, ws50_pred_proba)"
   ]
  },
  {
   "cell_type": "code",
   "execution_count": 105,
   "id": "13130a82-1f99-4bf5-961f-8a2e9b3f9be9",
   "metadata": {},
   "outputs": [
    {
     "name": "stdout",
     "output_type": "stream",
     "text": [
      "오차 행렬\n",
      "[[34  3]\n",
      " [ 2 75]]\n",
      "정확도: 0.9561, 정밀도: 0.9615, 재현율: 0.9740,    F1: 0.9677, AUC:0.9933\n"
     ]
    }
   ],
   "source": [
    "from xgboost import XGBClassifier\n",
    "xgb_wrapper = XGBClassifier(n_estimators=400, learning_rate=0.05, max_depth=3)\n",
    "evals = [(X_tr, y_tr), (X_val, y_val)] # 미입력해도 됨\n",
    "xgb_wrapper.fit(X_tr, y_tr, \n",
    "                early_stopping_rounds=10, \n",
    "                eval_metric=\"logloss\", \n",
    "                eval_set=evals, \n",
    "                verbose=False) \n",
    "\n",
    "ws10_preds = xgb_wrapper.predict(X_test)\n",
    "ws10_pred_proba = xgb_wrapper.predict_proba(X_test)[:, 1]\n",
    "get_clf_eval(y_test , ws50_preds, ws10_pred_proba)"
   ]
  },
  {
   "cell_type": "code",
   "execution_count": null,
   "id": "9f7591d4-b0cf-43b4-8fc7-b6b3e615779f",
   "metadata": {},
   "outputs": [],
   "source": []
  }
 ],
 "metadata": {
  "kernelspec": {
   "display_name": "Python 3 (ipykernel)",
   "language": "python",
   "name": "python3"
  },
  "language_info": {
   "codemirror_mode": {
    "name": "ipython",
    "version": 3
   },
   "file_extension": ".py",
   "mimetype": "text/x-python",
   "name": "python",
   "nbconvert_exporter": "python",
   "pygments_lexer": "ipython3",
   "version": "3.9.12"
  }
 },
 "nbformat": 4,
 "nbformat_minor": 5
}
