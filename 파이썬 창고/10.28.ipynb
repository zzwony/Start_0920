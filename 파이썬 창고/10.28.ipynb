{
 "cells": [
  {
   "cell_type": "code",
   "execution_count": 139,
   "id": "6c0a8722-f256-48d8-85b3-786c97a28fff",
   "metadata": {
    "collapsed": true,
    "jupyter": {
     "outputs_hidden": true
    },
    "tags": []
   },
   "outputs": [
    {
     "ename": "SyntaxError",
     "evalue": "invalid syntax (653319880.py, line 1)",
     "output_type": "error",
     "traceback": [
      "\u001b[1;36m  Input \u001b[1;32mIn [139]\u001b[1;36m\u001b[0m\n\u001b[1;33m    다음 빈칸에 알맞은 라이브러리명을 적으세요.\u001b[0m\n\u001b[1;37m       ^\u001b[0m\n\u001b[1;31mSyntaxError\u001b[0m\u001b[1;31m:\u001b[0m invalid syntax\n"
     ]
    }
   ],
   "source": [
    "다음 빈칸에 알맞은 라이브러리명을 적으세요.\n",
    "( )는 HTTP 요청을 보낼 수 있도록 기능을 제공하는 라이브러리이다.\n",
    "-> requests (이걸 더 권장함.)\n",
    "-> urllib.request\n",
    "\n",
    "( )은 웹 페이지의 정보를 쉽게 스크랩 할 수 있도록 기능을 제공하는 라이브러리이다.\n",
    "-> BeautifulSoup\n",
    "\n",
    "URL 처리 시 한글이 포함되어 있는 경우\n",
    "한글 깨짐 현상을 방지해주는 코드는 무엇인가요?\n",
    "-> quote_plus\n",
    "-> 위치는 from urllib.parse import quote_plus에 있다.\n",
    "\n",
    "( )은/는 동적으로 변하는 웹 페이지의 데이터들까지 설정하여\n",
    "크롤링할 수 있다.\n",
    "-> selenium\n",
    "\n",
    "다음은 웹에서 이미지를 검색해 폴더에 저장하는 코드 중 일부를\n",
    "순서에 상관없이 나열한 것이다. 순서대로 서술하시오.\n",
    "1. driver.get(url)\n",
    "2. driver = webdriver.Chrome(\"C:...\")\n",
    "3. time.sleep(5)\n",
    "4. html = driver.page_source\n",
    "5. soup = Beautiful(html, 'html.parser')\n",
    "-> 2 1 3 4 5\n",
    "\n",
    "기계(로봇)으로 요청을 했을 경우, 정보를 주지 않는 곳도 이싿.\n",
    "웹브라우저 정보를 header에 담아 보낸다.\n",
    "그 정보는 { '____' : '__' } 이다.\n",
    "-> User-Agent\n",
    "\n",
    "requests.get(url)._____ \n",
    "html을 가져오는 뒤에 들어갈 말은?\n",
    "-> text\n",
    "\n",
    "html : hypertext markup language\n",
    "\n",
    "HTML에서 페이지 이동 시 uri(주소창?)에 데이터를 포함하여 전달해서\n",
    "쓰는 방식을 ( )방식이라고 한다.\n",
    "-> get\n",
    "\n",
    "soup = BeautifulSoup(html, 'html.parser')\n",
    "images=soup.find_all(class=\"_image _listImage\")\n",
    "-> 틀린곳은? class_\n",
    "\n",
    "soup.find_all(class_ = \"tit_main fu_tit_u\")\n",
    "soup._______ (_______)\n",
    "함수 이름은(2가지)?\n",
    "-> soup.select('.tit_main.fn_tit_u')\n",
    "-> soup.find_all(class_ = '.tit_main.fn_tit_u')"
   ]
  },
  {
   "cell_type": "code",
   "execution_count": 30,
   "id": "be17f6d6-c0ad-4f6e-b3da-010adc35d363",
   "metadata": {
    "tags": []
   },
   "outputs": [
    {
     "name": "stdout",
     "output_type": "stream",
     "text": [
      "이승만\n",
      "윤보선\n",
      "박정희\n",
      "최규하\n",
      "전두환\n",
      "노태우\n",
      "김영삼\n",
      "김대중\n",
      "노무현\n",
      "이명박\n",
      "박근혜\n",
      "문재인\n",
      "윤석열\n"
     ]
    }
   ],
   "source": [
    "# 역대 대통령의 이름만 추출하기\n",
    "# select로 접근하기\n",
    "import requests\n",
    "from bs4 import BeautifulSoup\n",
    "\n",
    "url = 'https://ko.wikipedia.org/wiki/%EB%8C%80%ED%95%9C%EB%AF%BC%EA%B5%AD%EC%9D%98_%EB%8C%80%ED%86%B5%EB%A0%B9_%EB%AA%A9%EB%A1%9D'\n",
    "html = requests.get(url)\n",
    "soup = BeautifulSoup(html.text, 'lxml')\n",
    "title = soup.select('td > b > a')\n",
    "#mw-content-text > div.mw-parser-output > table:nth-child(6) > tbody > tr:nth-child(3) > td:nth-child(3) > b > a\n",
    "# :nth-child(3) 이런건 제거해서 전체로 가져오기\n",
    "for i in title:\n",
    "    print(i.text)"
   ]
  },
  {
   "cell_type": "markdown",
   "id": "66ca732c-ddb3-4dc6-92f6-535163cb42ee",
   "metadata": {},
   "source": [
    "title은 찾고자 하는 것, copy selector 누르기"
   ]
  },
  {
   "cell_type": "code",
   "execution_count": 29,
   "id": "2b729741-33bd-4258-806f-e88864231b9f",
   "metadata": {},
   "outputs": [
    {
     "data": {
      "text/plain": [
       "['이승만',\n",
       " '윤보선',\n",
       " '박정희',\n",
       " '최규하',\n",
       " '전두환',\n",
       " '노태우',\n",
       " '김영삼',\n",
       " '김대중',\n",
       " '노무현',\n",
       " '이명박',\n",
       " '박근혜',\n",
       " '문재인',\n",
       " '윤석열']"
      ]
     },
     "execution_count": 29,
     "metadata": {},
     "output_type": "execute_result"
    }
   ],
   "source": [
    "# class로 접근하기\n",
    "url = 'https://ko.wikipedia.org/wiki/%EB%8C%80%ED%95%9C%EB%AF%BC%EA%B5%AD%EC%9D%98_%EB%8C%80%ED%86%B5%EB%A0%B9_%EB%AA%A9%EB%A1%9D'\n",
    "html = requests.get(url).text\n",
    "soup = BeautifulSoup(html, 'lxml')\n",
    "table = soup.find(class_ = 'wikitable').find_all('b')\n",
    "name = [i.find('a') for i in table] # a 태그만 찾기\n",
    "name = list(filter(None, name))\n",
    "[i.text for i in name] "
   ]
  },
  {
   "cell_type": "markdown",
   "id": "3f297a8f-3471-46df-92a3-0c4b1ac840d1",
   "metadata": {},
   "source": [
    "# 다음 로그인 하기"
   ]
  },
  {
   "cell_type": "code",
   "execution_count": null,
   "id": "c6a76bc4-ede3-4469-b570-97a32f785761",
   "metadata": {},
   "outputs": [],
   "source": [
    "주의 : 나오는 홈페이지에 따라서 By.ID의 코드들 다르게 작성할것"
   ]
  },
  {
   "cell_type": "code",
   "execution_count": 2,
   "id": "f8261eca-1c74-45fd-aadf-f9405b8489b0",
   "metadata": {},
   "outputs": [],
   "source": [
    "import requests\n",
    "from bs4 import BeautifulSoup\n",
    "from selenium import webdriver\n",
    "from urllib.request import urlopen\n",
    "from urllib.parse import quote_plus\n",
    "from selenium.webdriver.common.keys import Keys\n",
    "from selenium.webdriver.common.by import By"
   ]
  },
  {
   "cell_type": "code",
   "execution_count": null,
   "id": "9e8da804-10f6-4cdf-8eba-6008eb243d99",
   "metadata": {},
   "outputs": [],
   "source": [
    "#####################################################\n",
    "가로 카카오 버전"
   ]
  },
  {
   "cell_type": "code",
   "execution_count": 151,
   "id": "41e38321-e1c2-4313-b62d-24fcc342a6da",
   "metadata": {
    "collapsed": true,
    "jupyter": {
     "outputs_hidden": true
    },
    "tags": []
   },
   "outputs": [
    {
     "name": "stderr",
     "output_type": "stream",
     "text": [
      "C:\\Users\\admin\\AppData\\Local\\Temp\\ipykernel_6788\\391109795.py:1: DeprecationWarning: executable_path has been deprecated, please pass in a Service object\n",
      "  driver = webdriver.Chrome('C://Users//admin/chromedriver.exe')\n"
     ]
    }
   ],
   "source": [
    "driver = webdriver.Chrome('C://Users//admin/chromedriver.exe')\n",
    "url = \"https://accounts.kakao.com/login/?continue=https%3A%2F%2Flogins.daum.net\"\n",
    "driver.get(url)"
   ]
  },
  {
   "cell_type": "code",
   "execution_count": 156,
   "id": "5e7f5c03-220e-43ca-8a58-dd130c45451c",
   "metadata": {
    "tags": []
   },
   "outputs": [],
   "source": [
    "# 아이디\n",
    "ee = driver.find_element(By.ID, \"input-loginKey\") #daum"
   ]
  },
  {
   "cell_type": "code",
   "execution_count": 157,
   "id": "23d44945-4b43-4def-b136-e23b2c8c71b4",
   "metadata": {},
   "outputs": [],
   "source": [
    "ee.clear() # 해당하는 곳을 깨끗하게 지우고 밑에 코드를 이용하여 입력하기"
   ]
  },
  {
   "cell_type": "code",
   "execution_count": 158,
   "id": "191e47e3-0867-41fb-b0ff-7fc36936c742",
   "metadata": {},
   "outputs": [],
   "source": [
    "ee.send_keys(\"ad\") # send_keys라는 메소드가 있는데 입력값을 넣으면 자동으로 입력해준다."
   ]
  },
  {
   "cell_type": "code",
   "execution_count": 159,
   "id": "c6b96129-60e7-4709-976e-b5a06b6a410b",
   "metadata": {},
   "outputs": [],
   "source": [
    "# 비밀번호\n",
    "ee = driver.find_element(By.ID, \"input-password\") #daum"
   ]
  },
  {
   "cell_type": "code",
   "execution_count": 160,
   "id": "650133c6-4aba-4e49-a408-9021963314b5",
   "metadata": {},
   "outputs": [],
   "source": [
    "ee.clear()"
   ]
  },
  {
   "cell_type": "code",
   "execution_count": 161,
   "id": "03f2b939-194c-4acb-82d0-00f20a3f0ae4",
   "metadata": {},
   "outputs": [],
   "source": [
    "ee.send_keys(\"as\")"
   ]
  },
  {
   "cell_type": "code",
   "execution_count": null,
   "id": "c994bc8e-1001-4321-98e1-dbfeb1d65702",
   "metadata": {},
   "outputs": [],
   "source": [
    "####################################################\n",
    "세로 카카오 버전"
   ]
  },
  {
   "cell_type": "code",
   "execution_count": 155,
   "id": "045bc256-c563-4f8b-919c-8afd84cd8feb",
   "metadata": {
    "collapsed": true,
    "jupyter": {
     "outputs_hidden": true
    },
    "tags": []
   },
   "outputs": [
    {
     "name": "stderr",
     "output_type": "stream",
     "text": [
      "C:\\Users\\admin\\AppData\\Local\\Temp\\ipykernel_6788\\391109795.py:1: DeprecationWarning: executable_path has been deprecated, please pass in a Service object\n",
      "  driver = webdriver.Chrome('C://Users//admin/chromedriver.exe')\n"
     ]
    }
   ],
   "source": [
    "driver = webdriver.Chrome('C://Users//admin/chromedriver.exe')\n",
    "url = \"https://accounts.kakao.com/login/?continue=https%3A%2F%2Flogins.daum.net\"\n",
    "driver.get(url)"
   ]
  },
  {
   "cell_type": "code",
   "execution_count": null,
   "id": "06ebebe2-1d67-462f-ab3e-f41841145605",
   "metadata": {},
   "outputs": [],
   "source": [
    "# 아이디\n",
    "e = driver.find_element(By.ID, \"id_email_2_label\") #daum"
   ]
  },
  {
   "cell_type": "code",
   "execution_count": null,
   "id": "7a0aa945-e96c-4693-a289-a0853c1caae4",
   "metadata": {},
   "outputs": [],
   "source": [
    "e.clear()"
   ]
  },
  {
   "cell_type": "code",
   "execution_count": null,
   "id": "e8617bc2-59db-4194-ad25-1af26fa99c54",
   "metadata": {},
   "outputs": [],
   "source": [
    "e.send_keys(\"ad\")"
   ]
  },
  {
   "cell_type": "code",
   "execution_count": null,
   "id": "e31a0830-a917-4c1d-8e99-e7d2e72ee9b3",
   "metadata": {},
   "outputs": [],
   "source": [
    "# 비밀번호\n",
    "e = driver.find_element(By.ID, \"id_password_3_label\") #daum"
   ]
  },
  {
   "cell_type": "code",
   "execution_count": null,
   "id": "e330590c-b643-411b-97a7-c9bab7af4bc2",
   "metadata": {},
   "outputs": [],
   "source": [
    "e.clear()"
   ]
  },
  {
   "cell_type": "code",
   "execution_count": null,
   "id": "75f080fb-ef4b-4fa4-8037-7ff6c5acc199",
   "metadata": {},
   "outputs": [],
   "source": [
    "e.send_keys(\"as\")"
   ]
  },
  {
   "cell_type": "code",
   "execution_count": null,
   "id": "a42a4142-b0e3-4661-b8d0-790e4f80be77",
   "metadata": {},
   "outputs": [],
   "source": [
    "#######################################################\n",
    "네이버 버전"
   ]
  },
  {
   "cell_type": "code",
   "execution_count": 165,
   "id": "543c996a-bcc3-4b7f-9c56-225915a0ed02",
   "metadata": {
    "collapsed": true,
    "jupyter": {
     "outputs_hidden": true
    },
    "tags": []
   },
   "outputs": [
    {
     "name": "stderr",
     "output_type": "stream",
     "text": [
      "C:\\Users\\admin\\AppData\\Local\\Temp\\ipykernel_6788\\4104653702.py:1: DeprecationWarning: executable_path has been deprecated, please pass in a Service object\n",
      "  driver = webdriver.Chrome('C://Users//admin/chromedriver.exe')\n"
     ]
    }
   ],
   "source": [
    "driver = webdriver.Chrome('C://Users//admin/chromedriver.exe')\n",
    "url = 'https://nid.naver.com/nidlogin.login?mode=form&url=https%3A%2F%2Fwww.naver.com'\n",
    "driver.get(url)"
   ]
  },
  {
   "cell_type": "code",
   "execution_count": 166,
   "id": "0d3828b8-35d7-48c2-aa4a-709175f14f0e",
   "metadata": {},
   "outputs": [],
   "source": [
    "# 아이디\n",
    "ne = driver.find_element(By.ID, \"id\")"
   ]
  },
  {
   "cell_type": "code",
   "execution_count": 167,
   "id": "741aa1ba-bf32-49ef-adc2-8444d01341e2",
   "metadata": {},
   "outputs": [],
   "source": [
    "ne.clear()"
   ]
  },
  {
   "cell_type": "code",
   "execution_count": 168,
   "id": "d5883f03-07c9-4b6c-929a-4d10138da023",
   "metadata": {},
   "outputs": [],
   "source": [
    "ne.send_keys(\"ad\")"
   ]
  },
  {
   "cell_type": "code",
   "execution_count": 169,
   "id": "a38cc83a-be35-4cda-b32e-fd14862006b8",
   "metadata": {},
   "outputs": [],
   "source": [
    "# 비밀번호\n",
    "ne = driver.find_element(By.ID, \"pw\")"
   ]
  },
  {
   "cell_type": "code",
   "execution_count": 170,
   "id": "21546ba6-aaf2-4714-ac1b-fe45a279b9aa",
   "metadata": {},
   "outputs": [],
   "source": [
    "ne.clear()"
   ]
  },
  {
   "cell_type": "code",
   "execution_count": 171,
   "id": "39f3e7fc-b89f-4bb2-a31d-ec730638ae18",
   "metadata": {},
   "outputs": [],
   "source": [
    "ne.send_keys(\"as\")"
   ]
  },
  {
   "cell_type": "code",
   "execution_count": null,
   "id": "bc49594c-4c8e-41a5-80a9-a718163366b7",
   "metadata": {},
   "outputs": [],
   "source": []
  },
  {
   "cell_type": "code",
   "execution_count": null,
   "id": "a01cd762-12ae-4451-ac34-0575abf0f9e3",
   "metadata": {},
   "outputs": [],
   "source": []
  },
  {
   "cell_type": "code",
   "execution_count": null,
   "id": "f9725861-7d2d-4fe8-8884-92664c9733f7",
   "metadata": {},
   "outputs": [],
   "source": []
  },
  {
   "cell_type": "code",
   "execution_count": 149,
   "id": "50ecb7f3-f7ad-441c-9c7f-06be6c7644fc",
   "metadata": {
    "collapsed": true,
    "jupyter": {
     "outputs_hidden": true
    },
    "tags": []
   },
   "outputs": [
    {
     "name": "stderr",
     "output_type": "stream",
     "text": [
      "C:\\Users\\admin\\AppData\\Local\\Temp\\ipykernel_6788\\2220583622.py:3: DeprecationWarning: executable_path has been deprecated, please pass in a Service object\n",
      "  driver = webdriver.Chrome('C://Users//admin/chromedriver.exe')\n"
     ]
    }
   ],
   "source": [
    "# 클래스 이름 찾기\n",
    "# 샵 표시는 클래스 표시이다.\n",
    "driver = webdriver.Chrome('C://Users//admin/chromedriver.exe')\n",
    "url = \"https://accounts.kakao.com/login/?continue=https%3A%2F%2Flogins.daum.net\"\n",
    "driver.get(url)"
   ]
  },
  {
   "cell_type": "code",
   "execution_count": 138,
   "id": "14d0b438-79de-4a30-86a3-9934addcc4fd",
   "metadata": {
    "collapsed": true,
    "jupyter": {
     "outputs_hidden": true
    },
    "tags": []
   },
   "outputs": [
    {
     "ename": "NoSuchElementException",
     "evalue": "Message: no such element: Unable to locate element: {\"method\":\"css selector\",\"selector\":\".lab_g lab_placeholder lab_txt\"}\n  (Session info: chrome=107.0.5304.63)\nStacktrace:\nBacktrace:\n\tOrdinal0 [0x004AACD3+2075859]\n\tOrdinal0 [0x0043EE61+1633889]\n\tOrdinal0 [0x0033B7BD+571325]\n\tOrdinal0 [0x0036AC2F+764975]\n\tOrdinal0 [0x0036AE1B+765467]\n\tOrdinal0 [0x0039D0F2+970994]\n\tOrdinal0 [0x00387364+881508]\n\tOrdinal0 [0x0039B56A+963946]\n\tOrdinal0 [0x00387136+880950]\n\tOrdinal0 [0x0035FEFD+720637]\n\tOrdinal0 [0x00360F3F+724799]\n\tGetHandleVerifier [0x0075EED2+2769538]\n\tGetHandleVerifier [0x00750D95+2711877]\n\tGetHandleVerifier [0x0053A03A+521194]\n\tGetHandleVerifier [0x00538DA0+516432]\n\tOrdinal0 [0x0044682C+1665068]\n\tOrdinal0 [0x0044B128+1683752]\n\tOrdinal0 [0x0044B215+1683989]\n\tOrdinal0 [0x00456484+1729668]\n\tBaseThreadInitThunk [0x75A1FA29+25]\n\tRtlGetAppContainerNamedObjectPath [0x778E7BBE+286]\n\tRtlGetAppContainerNamedObjectPath [0x778E7B8E+238]\n",
     "output_type": "error",
     "traceback": [
      "\u001b[1;31m---------------------------------------------------------------------------\u001b[0m",
      "\u001b[1;31mNoSuchElementException\u001b[0m                    Traceback (most recent call last)",
      "Input \u001b[1;32mIn [138]\u001b[0m, in \u001b[0;36m<cell line: 1>\u001b[1;34m()\u001b[0m\n\u001b[1;32m----> 1\u001b[0m e \u001b[38;5;241m=\u001b[39m \u001b[43mdriver\u001b[49m\u001b[38;5;241;43m.\u001b[39;49m\u001b[43mfind_element\u001b[49m\u001b[43m(\u001b[49m\u001b[43mBy\u001b[49m\u001b[38;5;241;43m.\u001b[39;49m\u001b[43mCLASS_NAME\u001b[49m\u001b[43m,\u001b[49m\u001b[43m \u001b[49m\u001b[38;5;124;43m\"\u001b[39;49m\u001b[38;5;124;43mlab_g lab_placeholder lab_txt\u001b[39;49m\u001b[38;5;124;43m\"\u001b[39;49m\u001b[43m)\u001b[49m \u001b[38;5;66;03m#daum\u001b[39;00m\n\u001b[0;32m      2\u001b[0m e\u001b[38;5;241m.\u001b[39mclear()\n\u001b[0;32m      3\u001b[0m e\u001b[38;5;241m.\u001b[39msend_keys(\u001b[38;5;124m\"\u001b[39m\u001b[38;5;124ma\u001b[39m\u001b[38;5;124m\"\u001b[39m)\n",
      "File \u001b[1;32m~\\anaconda3\\lib\\site-packages\\selenium\\webdriver\\remote\\webdriver.py:856\u001b[0m, in \u001b[0;36mWebDriver.find_element\u001b[1;34m(self, by, value)\u001b[0m\n\u001b[0;32m    853\u001b[0m     by \u001b[38;5;241m=\u001b[39m By\u001b[38;5;241m.\u001b[39mCSS_SELECTOR\n\u001b[0;32m    854\u001b[0m     value \u001b[38;5;241m=\u001b[39m \u001b[38;5;124m'\u001b[39m\u001b[38;5;124m[name=\u001b[39m\u001b[38;5;124m\"\u001b[39m\u001b[38;5;132;01m%s\u001b[39;00m\u001b[38;5;124m\"\u001b[39m\u001b[38;5;124m]\u001b[39m\u001b[38;5;124m'\u001b[39m \u001b[38;5;241m%\u001b[39m value\n\u001b[1;32m--> 856\u001b[0m \u001b[38;5;28;01mreturn\u001b[39;00m \u001b[38;5;28;43mself\u001b[39;49m\u001b[38;5;241;43m.\u001b[39;49m\u001b[43mexecute\u001b[49m\u001b[43m(\u001b[49m\u001b[43mCommand\u001b[49m\u001b[38;5;241;43m.\u001b[39;49m\u001b[43mFIND_ELEMENT\u001b[49m\u001b[43m,\u001b[49m\u001b[43m \u001b[49m\u001b[43m{\u001b[49m\n\u001b[0;32m    857\u001b[0m \u001b[43m    \u001b[49m\u001b[38;5;124;43m'\u001b[39;49m\u001b[38;5;124;43musing\u001b[39;49m\u001b[38;5;124;43m'\u001b[39;49m\u001b[43m:\u001b[49m\u001b[43m \u001b[49m\u001b[43mby\u001b[49m\u001b[43m,\u001b[49m\n\u001b[0;32m    858\u001b[0m \u001b[43m    \u001b[49m\u001b[38;5;124;43m'\u001b[39;49m\u001b[38;5;124;43mvalue\u001b[39;49m\u001b[38;5;124;43m'\u001b[39;49m\u001b[43m:\u001b[49m\u001b[43m \u001b[49m\u001b[43mvalue\u001b[49m\u001b[43m}\u001b[49m\u001b[43m)\u001b[49m[\u001b[38;5;124m'\u001b[39m\u001b[38;5;124mvalue\u001b[39m\u001b[38;5;124m'\u001b[39m]\n",
      "File \u001b[1;32m~\\anaconda3\\lib\\site-packages\\selenium\\webdriver\\remote\\webdriver.py:429\u001b[0m, in \u001b[0;36mWebDriver.execute\u001b[1;34m(self, driver_command, params)\u001b[0m\n\u001b[0;32m    427\u001b[0m response \u001b[38;5;241m=\u001b[39m \u001b[38;5;28mself\u001b[39m\u001b[38;5;241m.\u001b[39mcommand_executor\u001b[38;5;241m.\u001b[39mexecute(driver_command, params)\n\u001b[0;32m    428\u001b[0m \u001b[38;5;28;01mif\u001b[39;00m response:\n\u001b[1;32m--> 429\u001b[0m     \u001b[38;5;28;43mself\u001b[39;49m\u001b[38;5;241;43m.\u001b[39;49m\u001b[43merror_handler\u001b[49m\u001b[38;5;241;43m.\u001b[39;49m\u001b[43mcheck_response\u001b[49m\u001b[43m(\u001b[49m\u001b[43mresponse\u001b[49m\u001b[43m)\u001b[49m\n\u001b[0;32m    430\u001b[0m     response[\u001b[38;5;124m'\u001b[39m\u001b[38;5;124mvalue\u001b[39m\u001b[38;5;124m'\u001b[39m] \u001b[38;5;241m=\u001b[39m \u001b[38;5;28mself\u001b[39m\u001b[38;5;241m.\u001b[39m_unwrap_value(\n\u001b[0;32m    431\u001b[0m         response\u001b[38;5;241m.\u001b[39mget(\u001b[38;5;124m'\u001b[39m\u001b[38;5;124mvalue\u001b[39m\u001b[38;5;124m'\u001b[39m, \u001b[38;5;28;01mNone\u001b[39;00m))\n\u001b[0;32m    432\u001b[0m     \u001b[38;5;28;01mreturn\u001b[39;00m response\n",
      "File \u001b[1;32m~\\anaconda3\\lib\\site-packages\\selenium\\webdriver\\remote\\errorhandler.py:243\u001b[0m, in \u001b[0;36mErrorHandler.check_response\u001b[1;34m(self, response)\u001b[0m\n\u001b[0;32m    241\u001b[0m         alert_text \u001b[38;5;241m=\u001b[39m value[\u001b[38;5;124m'\u001b[39m\u001b[38;5;124malert\u001b[39m\u001b[38;5;124m'\u001b[39m]\u001b[38;5;241m.\u001b[39mget(\u001b[38;5;124m'\u001b[39m\u001b[38;5;124mtext\u001b[39m\u001b[38;5;124m'\u001b[39m)\n\u001b[0;32m    242\u001b[0m     \u001b[38;5;28;01mraise\u001b[39;00m exception_class(message, screen, stacktrace, alert_text)  \u001b[38;5;66;03m# type: ignore[call-arg]  # mypy is not smart enough here\u001b[39;00m\n\u001b[1;32m--> 243\u001b[0m \u001b[38;5;28;01mraise\u001b[39;00m exception_class(message, screen, stacktrace)\n",
      "\u001b[1;31mNoSuchElementException\u001b[0m: Message: no such element: Unable to locate element: {\"method\":\"css selector\",\"selector\":\".lab_g lab_placeholder lab_txt\"}\n  (Session info: chrome=107.0.5304.63)\nStacktrace:\nBacktrace:\n\tOrdinal0 [0x004AACD3+2075859]\n\tOrdinal0 [0x0043EE61+1633889]\n\tOrdinal0 [0x0033B7BD+571325]\n\tOrdinal0 [0x0036AC2F+764975]\n\tOrdinal0 [0x0036AE1B+765467]\n\tOrdinal0 [0x0039D0F2+970994]\n\tOrdinal0 [0x00387364+881508]\n\tOrdinal0 [0x0039B56A+963946]\n\tOrdinal0 [0x00387136+880950]\n\tOrdinal0 [0x0035FEFD+720637]\n\tOrdinal0 [0x00360F3F+724799]\n\tGetHandleVerifier [0x0075EED2+2769538]\n\tGetHandleVerifier [0x00750D95+2711877]\n\tGetHandleVerifier [0x0053A03A+521194]\n\tGetHandleVerifier [0x00538DA0+516432]\n\tOrdinal0 [0x0044682C+1665068]\n\tOrdinal0 [0x0044B128+1683752]\n\tOrdinal0 [0x0044B215+1683989]\n\tOrdinal0 [0x00456484+1729668]\n\tBaseThreadInitThunk [0x75A1FA29+25]\n\tRtlGetAppContainerNamedObjectPath [0x778E7BBE+286]\n\tRtlGetAppContainerNamedObjectPath [0x778E7B8E+238]\n"
     ]
    }
   ],
   "source": [
    "# 이렇게 하면 오류 발생\n",
    "# 아이디와 비밀번호에 대한 차이를 둬야하기 때문이다.\n",
    "e = driver.find_element(By.CLASS_NAME, \"lab_g lab_placeholder lab_txt\") #daum\n",
    "e.clear()\n",
    "e.send_keys(\"a\")"
   ]
  },
  {
   "cell_type": "markdown",
   "id": "399f04bf-f33d-436b-9f28-25529fcd38e8",
   "metadata": {},
   "source": [
    "위에처럼 e로 지칭하면 e 라는 객체가 2개가 생긴다.\n",
    "\n",
    "그래서 밑에처럼 해주면 차이를 둘 수 있다."
   ]
  },
  {
   "cell_type": "code",
   "execution_count": null,
   "id": "5eac4d8a-3b5f-4895-9e21-c7416fe54467",
   "metadata": {},
   "outputs": [],
   "source": [
    "< 형태 >\n",
    "e = driver.find_element(By.ID, \"\")\n",
    "e.clear()\n",
    "e.send_keys('') "
   ]
  },
  {
   "cell_type": "code",
   "execution_count": 22,
   "id": "9c012dc9-a92d-4be9-99ac-667839f35d87",
   "metadata": {
    "collapsed": true,
    "jupyter": {
     "outputs_hidden": true
    },
    "tags": []
   },
   "outputs": [
    {
     "name": "stderr",
     "output_type": "stream",
     "text": [
      "C:\\Users\\admin\\AppData\\Local\\Temp\\ipykernel_1240\\1951292261.py:1: DeprecationWarning: executable_path has been deprecated, please pass in a Service object\n",
      "  driver = webdriver.Chrome('C://Users//admin/chromedriver.exe')\n"
     ]
    }
   ],
   "source": [
    "driver = webdriver.Chrome('C://Users//admin/chromedriver.exe')\n",
    "url = \"https://nid.naver.com/nidlogin.login?mode=form&url=https%3A%2F%2Fwww.naver.com\"\n",
    "driver.get(url)"
   ]
  },
  {
   "cell_type": "code",
   "execution_count": 24,
   "id": "3a360be1-af3e-42a5-9f24-0c955a82734e",
   "metadata": {
    "tags": []
   },
   "outputs": [],
   "source": [
    "name = driver.find_elements(By.CLASS_NAME, \"input_text\")\n",
    "name[0].send_keys(\"abc\")\n",
    "name[1].send_keys('123')"
   ]
  },
  {
   "cell_type": "code",
   "execution_count": null,
   "id": "1e666913-4957-4490-8dcf-e4b332b3b829",
   "metadata": {},
   "outputs": [],
   "source": [
    "# 아이디의 클래스와 비밀번호의 클래스가 다르다.\n",
    "# 아이디 클래스를 넣었을때 잘 작동했고 비밀번호 클래스를 넣으면 오류가 발생했다."
   ]
  },
  {
   "cell_type": "code",
   "execution_count": null,
   "id": "8a774119-da7e-4e93-8cb1-06dc981efe51",
   "metadata": {},
   "outputs": [],
   "source": []
  },
  {
   "cell_type": "code",
   "execution_count": null,
   "id": "cb0cc26c-6790-476c-8d68-cb08b2f6db43",
   "metadata": {},
   "outputs": [],
   "source": []
  },
  {
   "cell_type": "code",
   "execution_count": null,
   "id": "be310844-c037-4a8b-8e24-fa9f9143f9d1",
   "metadata": {},
   "outputs": [],
   "source": []
  },
  {
   "cell_type": "code",
   "execution_count": null,
   "id": "c686ace6-cac4-45d7-85e5-a5704ac83f9b",
   "metadata": {},
   "outputs": [],
   "source": []
  },
  {
   "cell_type": "code",
   "execution_count": null,
   "id": "32735c39-af26-4ad3-b9ed-36704479495b",
   "metadata": {},
   "outputs": [],
   "source": []
  },
  {
   "cell_type": "code",
   "execution_count": null,
   "id": "fde6363e-0e5b-4f69-82c2-19a2394781a4",
   "metadata": {},
   "outputs": [],
   "source": [
    "# 검색하기"
   ]
  },
  {
   "cell_type": "code",
   "execution_count": 3,
   "id": "b2ded312-8ab3-48e2-ba9b-c90535c843f7",
   "metadata": {},
   "outputs": [],
   "source": [
    "from selenium.webdriver.common.keys import Keys  # 키보드의 키를 의미한다."
   ]
  },
  {
   "cell_type": "code",
   "execution_count": 174,
   "id": "f9e3b06d-a713-4b72-84e0-4558cda021e9",
   "metadata": {
    "tags": []
   },
   "outputs": [],
   "source": [
    "ne.send_keys(Keys.ENTER) # 그러면 enter키가 날라간다."
   ]
  },
  {
   "cell_type": "markdown",
   "id": "55950a95-a7b6-4896-8e5e-0e7382856c37",
   "metadata": {},
   "source": [
    "하지만 네이버에서 막으므로 로그인 부터는 직접 수기로 넣어야한다."
   ]
  },
  {
   "cell_type": "code",
   "execution_count": 25,
   "id": "df9d8d8b-7397-4e29-b3f2-3cc80ceca2e3",
   "metadata": {
    "collapsed": true,
    "jupyter": {
     "outputs_hidden": true
    },
    "tags": []
   },
   "outputs": [
    {
     "name": "stderr",
     "output_type": "stream",
     "text": [
      "C:\\Users\\admin\\AppData\\Local\\Temp\\ipykernel_1240\\3265623567.py:1: DeprecationWarning: executable_path has been deprecated, please pass in a Service object\n",
      "  driver = webdriver.Chrome('C://Users//admin/chromedriver.exe')\n"
     ]
    }
   ],
   "source": [
    "driver = webdriver.Chrome('C://Users//admin/chromedriver.exe')\n",
    "url = 'https://www.naver.com/'\n",
    "driver.get(url)"
   ]
  },
  {
   "cell_type": "code",
   "execution_count": 26,
   "id": "34ccf654-e28e-47f3-a5b8-a439d0145906",
   "metadata": {},
   "outputs": [],
   "source": [
    "# 입력\n",
    "nne = driver.find_element(By.ID, \"query\") # naver 검색창이다.\n",
    "nne.clear()\n",
    "nne.send_keys('우크라이나')\n",
    "\n",
    "# 엔터\n",
    "nne.send_keys(Keys.ENTER)"
   ]
  },
  {
   "cell_type": "code",
   "execution_count": null,
   "id": "e6a5fa50-86e5-4f26-ab95-5795c617254b",
   "metadata": {},
   "outputs": [],
   "source": []
  },
  {
   "cell_type": "code",
   "execution_count": null,
   "id": "bef650a7-ea6d-4ad9-9320-79a1afcf36a4",
   "metadata": {},
   "outputs": [],
   "source": []
  },
  {
   "cell_type": "code",
   "execution_count": null,
   "id": "9b82021e-bf16-4e72-a672-82d223968923",
   "metadata": {},
   "outputs": [],
   "source": []
  },
  {
   "cell_type": "code",
   "execution_count": null,
   "id": "aa93c698-58ee-4103-adcd-2b68090d0a66",
   "metadata": {},
   "outputs": [],
   "source": []
  },
  {
   "cell_type": "code",
   "execution_count": null,
   "id": "91ebeb0a-face-4025-af0a-c80dc5662602",
   "metadata": {},
   "outputs": [],
   "source": []
  },
  {
   "cell_type": "code",
   "execution_count": null,
   "id": "627a04e4-a020-4bd5-9222-966fda3475a0",
   "metadata": {},
   "outputs": [],
   "source": []
  },
  {
   "cell_type": "code",
   "execution_count": null,
   "id": "414fc65a-9c83-4f43-8cc0-0e9f853f5076",
   "metadata": {},
   "outputs": [],
   "source": [
    "# 네이버 쇼핑 구매한 목록 가져오기"
   ]
  },
  {
   "cell_type": "code",
   "execution_count": 4,
   "id": "0d099408-6770-4d95-8f4f-51945bb26c7d",
   "metadata": {
    "tags": []
   },
   "outputs": [
    {
     "name": "stderr",
     "output_type": "stream",
     "text": [
      "C:\\Users\\admin\\AppData\\Local\\Temp\\ipykernel_1240\\980516204.py:1: DeprecationWarning: executable_path has been deprecated, please pass in a Service object\n",
      "  driver = webdriver.Chrome('C://Users//admin/chromedriver.exe')\n"
     ]
    }
   ],
   "source": [
    "driver = webdriver.Chrome('C://Users//admin/chromedriver.exe')\n",
    "driver.get(\"https://order.pay.naver.com/home?tabMenu=SHOPPING\")"
   ]
  },
  {
   "cell_type": "code",
   "execution_count": null,
   "id": "ed4f868b-ebbf-4daa-9ae0-3b4541e12cba",
   "metadata": {},
   "outputs": [],
   "source": [
    "검사로 원하는 상품의 class=\"name\"으로 잡기"
   ]
  },
  {
   "cell_type": "code",
   "execution_count": 6,
   "id": "fb84b2fa-249a-487c-aced-618018ebff41",
   "metadata": {
    "collapsed": true,
    "jupyter": {
     "outputs_hidden": true
    },
    "tags": []
   },
   "outputs": [
    {
     "data": {
      "text/plain": [
       "[<selenium.webdriver.remote.webelement.WebElement (session=\"dc64562a0010df5b735b16a26d753346\", element=\"57ea3f34-559b-4e44-8a6b-77e1c6e1d7f1\")>,\n",
       " <selenium.webdriver.remote.webelement.WebElement (session=\"dc64562a0010df5b735b16a26d753346\", element=\"6e17d050-8f02-4ead-b4d9-52a72f1217a4\")>,\n",
       " <selenium.webdriver.remote.webelement.WebElement (session=\"dc64562a0010df5b735b16a26d753346\", element=\"47356d22-9621-48e3-9d15-0907ba71c5e7\")>,\n",
       " <selenium.webdriver.remote.webelement.WebElement (session=\"dc64562a0010df5b735b16a26d753346\", element=\"dfb9766a-d8e0-4c08-b8ac-a82c0992abed\")>,\n",
       " <selenium.webdriver.remote.webelement.WebElement (session=\"dc64562a0010df5b735b16a26d753346\", element=\"dc30df66-cdab-44bc-9917-3653caba29b3\")>,\n",
       " <selenium.webdriver.remote.webelement.WebElement (session=\"dc64562a0010df5b735b16a26d753346\", element=\"66713c4f-7a44-4477-a74a-c9c2c3b1d72d\")>,\n",
       " <selenium.webdriver.remote.webelement.WebElement (session=\"dc64562a0010df5b735b16a26d753346\", element=\"a509a7ce-9da0-492a-a200-5b87dfb424b6\")>,\n",
       " <selenium.webdriver.remote.webelement.WebElement (session=\"dc64562a0010df5b735b16a26d753346\", element=\"3c2a8098-60cb-43b6-97c6-a40c70182ee6\")>,\n",
       " <selenium.webdriver.remote.webelement.WebElement (session=\"dc64562a0010df5b735b16a26d753346\", element=\"56e8ee4a-55ac-46bb-abed-4e6efd92e247\")>,\n",
       " <selenium.webdriver.remote.webelement.WebElement (session=\"dc64562a0010df5b735b16a26d753346\", element=\"f28d1b4c-2f6e-44dd-bea2-86f0a0586929\")>,\n",
       " <selenium.webdriver.remote.webelement.WebElement (session=\"dc64562a0010df5b735b16a26d753346\", element=\"321ef643-51b6-4995-9ac7-8d0a1f750197\")>,\n",
       " <selenium.webdriver.remote.webelement.WebElement (session=\"dc64562a0010df5b735b16a26d753346\", element=\"895492ac-e59d-4d0f-ab55-239b0ab8dba6\")>,\n",
       " <selenium.webdriver.remote.webelement.WebElement (session=\"dc64562a0010df5b735b16a26d753346\", element=\"4be9e096-03e4-4993-b881-cdfc77ee6e61\")>,\n",
       " <selenium.webdriver.remote.webelement.WebElement (session=\"dc64562a0010df5b735b16a26d753346\", element=\"88333cf3-f8f6-4546-bd06-d66572d20d7c\")>,\n",
       " <selenium.webdriver.remote.webelement.WebElement (session=\"dc64562a0010df5b735b16a26d753346\", element=\"a3a00a9a-0ba3-48c6-8d50-e9dfd887635d\")>,\n",
       " <selenium.webdriver.remote.webelement.WebElement (session=\"dc64562a0010df5b735b16a26d753346\", element=\"40c3a0af-30eb-426b-a5a3-bbfd13509319\")>]"
      ]
     },
     "execution_count": 6,
     "metadata": {},
     "output_type": "execute_result"
    }
   ],
   "source": [
    "nnne = driver.find_elements(By.CLASS_NAME, \"name\")\n",
    "nnne"
   ]
  },
  {
   "cell_type": "code",
   "execution_count": 8,
   "id": "565c908e-7b8f-4628-8c79-9a08b1d9b88b",
   "metadata": {},
   "outputs": [
    {
     "data": {
      "text/plain": [
       "'바밀로 애플 Mac 밀키화이트 기계식 키보드 68키 갈축'"
      ]
     },
     "execution_count": 8,
     "metadata": {},
     "output_type": "execute_result"
    }
   ],
   "source": [
    "# 글자만 뽑아내기\n",
    "nnne[1].text"
   ]
  },
  {
   "cell_type": "code",
   "execution_count": null,
   "id": "17cc8dcd-bff1-4547-9c1f-8505e8ad23a4",
   "metadata": {},
   "outputs": [],
   "source": [
    "e로만 하면 첫번째로 내 닉네임이 뜬다.\n",
    "'name'에 다 담겨 있기 때문이다."
   ]
  },
  {
   "cell_type": "code",
   "execution_count": 9,
   "id": "a95d17a8-cdf6-4b20-90ce-10b14b9af011",
   "metadata": {},
   "outputs": [
    {
     "name": "stdout",
     "output_type": "stream",
     "text": [
      "바밀로 애플 Mac 밀키화이트 기계식 키보드 68키 갈축\n",
      "등각류 / 쥐며느리 / 드워프 화이트\n"
     ]
    }
   ],
   "source": [
    "for i in range(1,3):\n",
    "    print(nnne[i].text)"
   ]
  },
  {
   "cell_type": "code",
   "execution_count": null,
   "id": "a4671471-1e64-433b-ad8d-690e2b9e02f3",
   "metadata": {},
   "outputs": [],
   "source": [
    "다시 검사로 돌아가서 Copy select 해주기\n",
    "#rowLi20210117.... div.goods_item > div > a > p"
   ]
  },
  {
   "cell_type": "code",
   "execution_count": 10,
   "id": "807fb135-c27c-4dfa-8227-0ebaf426478f",
   "metadata": {},
   "outputs": [
    {
     "data": {
      "text/plain": [
       "'바밀로 애플 Mac 밀키화이트 기계식 키보드 68키 갈축\\n143,400원\\n2022.10.23'"
      ]
     },
     "execution_count": 10,
     "metadata": {},
     "output_type": "execute_result"
    }
   ],
   "source": [
    "nnnne = driver.find_element(By.CSS_SELECTOR, '#_rowLi20221023193027CHK2022102351276641 > div.goods_item > div > a')\n",
    "nnnne.text"
   ]
  },
  {
   "cell_type": "code",
   "execution_count": null,
   "id": "e98b2e70-d217-4282-b6b1-da2283de2fa8",
   "metadata": {},
   "outputs": [],
   "source": [
    "출력물 뒤를 보니 언제 샀는지도 나왔다. 불필요하므로 제거할것."
   ]
  },
  {
   "cell_type": "code",
   "execution_count": 16,
   "id": "1ff8e3e9-7ce2-4ee0-a4a9-1f035982fe77",
   "metadata": {},
   "outputs": [
    {
     "data": {
      "text/plain": [
       "'바밀로 애플 Mac 밀키화이트 기계식 키보드 68키 갈축'"
      ]
     },
     "execution_count": 16,
     "metadata": {},
     "output_type": "execute_result"
    }
   ],
   "source": [
    "nnnne = driver.find_element(By.CSS_SELECTOR, \"div.goods_item > div > a > p\")\n",
    "nnnne.text"
   ]
  },
  {
   "cell_type": "code",
   "execution_count": 19,
   "id": "8d8c7c42-b907-4390-9444-29aced31a72e",
   "metadata": {},
   "outputs": [
    {
     "name": "stdout",
     "output_type": "stream",
     "text": [
      "바밀로 애플 Mac 밀키화이트 기계식 키보드 68키 갈축\n",
      "등각류 / 쥐며느리 / 드워프 화이트\n",
      "코르크보드(소형)\n",
      "최고급 오키아타 바크 뉴질랜드산 소나무 나무껍질 분갈이흙 몬스테라 3L\n",
      "아테바시 카프리 플라스틱 인테리어 화분 받침포함 분갈이 14cm\n"
     ]
    }
   ],
   "source": [
    "# 위의 코드와 동일한 내용\n",
    "nnnne = driver.find_elements(By.CSS_SELECTOR, 'div > a > p')\n",
    "\n",
    "for i in range(2,7):\n",
    "    print(nnnne[i].text)"
   ]
  },
  {
   "cell_type": "code",
   "execution_count": null,
   "id": "ffcdc3fa-7654-4445-b189-4ae342539a15",
   "metadata": {},
   "outputs": [],
   "source": []
  },
  {
   "cell_type": "code",
   "execution_count": null,
   "id": "46cf171d-21bc-472e-ac44-782fad92ed54",
   "metadata": {},
   "outputs": [],
   "source": []
  },
  {
   "cell_type": "code",
   "execution_count": null,
   "id": "26d8764b-b9f9-4399-80e2-f2928923b7ff",
   "metadata": {},
   "outputs": [],
   "source": []
  },
  {
   "cell_type": "code",
   "execution_count": null,
   "id": "63561172-d8f2-4307-a75b-6ab68e31efc6",
   "metadata": {},
   "outputs": [],
   "source": []
  },
  {
   "cell_type": "code",
   "execution_count": null,
   "id": "26761448-57ec-45f5-8ff2-7623fed59ee7",
   "metadata": {},
   "outputs": [],
   "source": []
  },
  {
   "cell_type": "code",
   "execution_count": null,
   "id": "f528da7a-915d-44e3-8f4c-50612a9638ae",
   "metadata": {},
   "outputs": [],
   "source": [
    "사용한 코드들\n",
    "urllib.request\n",
    "requests\n",
    "\n",
    "BeautifulSoup\n",
    "\n",
    "selenium  ->  웹 브라우져를 띄어준다."
   ]
  },
  {
   "cell_type": "code",
   "execution_count": null,
   "id": "2c3a736c-b7f2-4935-ae52-2f6dfeaa249a",
   "metadata": {},
   "outputs": [],
   "source": []
  },
  {
   "cell_type": "code",
   "execution_count": null,
   "id": "88387c4a-2171-4b9b-9ee2-5531d6401e1e",
   "metadata": {},
   "outputs": [],
   "source": []
  },
  {
   "cell_type": "code",
   "execution_count": null,
   "id": "d8b25a62-f587-4be0-90cf-02f5429783fb",
   "metadata": {},
   "outputs": [],
   "source": []
  },
  {
   "cell_type": "code",
   "execution_count": null,
   "id": "e5a1e99c-f544-4a3f-b0d6-b99fd37e4b72",
   "metadata": {},
   "outputs": [],
   "source": []
  },
  {
   "cell_type": "code",
   "execution_count": null,
   "id": "f7ed9655-0331-462e-bd85-9b65e6af013e",
   "metadata": {},
   "outputs": [],
   "source": []
  },
  {
   "cell_type": "markdown",
   "id": "7dd6b896-8d78-4409-ae6c-eb0778404cb7",
   "metadata": {},
   "source": [
    "# 한빛 출판사 로그인 후 마일리지 보기"
   ]
  },
  {
   "cell_type": "code",
   "execution_count": null,
   "id": "51bc3e4f-9679-431b-bc82-9dcada43612f",
   "metadata": {},
   "outputs": [],
   "source": [
    "# 로그인하기\n",
    "session = requests.session()  # session() 연결하는 함수\n",
    "#서버에 기록되는건 session이고 내 컴퓨터에 기록되는건 cookie이다.\n",
    "session.post({'' : '아이디', '' : '본인의 비밀번호 쓰기'})  # post() 방식으로 requests에게 요청한다.\n",
    "                                                           # 딕셔너리 형태로 입력해야한다."
   ]
  },
  {
   "cell_type": "code",
   "execution_count": null,
   "id": "5f1f61fd-ffd9-4437-bc85-0db4afcd2f22",
   "metadata": {},
   "outputs": [],
   "source": [
    "javascript:if(event.keyCode==13){login_proc(); return false;} 에서 proc(); 까지는 자바스크립트가 \n",
    "함수를 실행시킨다는 뜻\n",
    "\n",
    "\n",
    "\n",
    "\n",
    "function login_proc(){\t\t\t\t\t\n",
    "\t\tvar chk_rule =  \"m_id:isEmpty:아이디를 입력\"\t\t\t\t\n",
    "\t\t\t\t\t\t\t+\"@m_passwd:isEmpty:비밀번호를 입력\"\t\t\t\t\t\t\t\t\t\t\t\t\t\t\t\t\t\t\t\t\t\t\t\t\t\t\t\t\t\t\t\t\t\t\t\n",
    "\t\t\t\t\t\t\t;\t\t\t\t\t\t\t\t\t\t\t \n",
    "\t\tif(validateForm(chk_rule)){\t\n",
    "\t\t\t$(\"#frm\").attr(\"action\",\"login_proc.php\");\n",
    "\t\t\t$(\"#frm\").submit();\t\t\n",
    "\t\t\t//console.log(\"validate success!!\");\n",
    "\t\t}\n",
    "\t}\t\n",
    "\n",
    "이 함수는 login 함수이다.\n",
    "아이디는 m_id 비번은 m_passwd 이다."
   ]
  },
  {
   "cell_type": "code",
   "execution_count": null,
   "id": "63b7c22b-22e7-4326-aecc-d3886f97a26a",
   "metadata": {},
   "outputs": [],
   "source": [
    "https://www.hanbit.co.kr/member/login_proc.php\n",
    "이 홈페이지는 우리가 아이디와 비번을 잘 입력했는지\n",
    "확인하는 홈페이지이다.\n",
    "\n",
    "결국 화면에 로그인 페이지는 그저 껍질이다.\n",
    "\n",
    "껍질 말고 아까 잘 썼는지 처리하는 홈페이지를 사용해야 한다."
   ]
  },
  {
   "cell_type": "code",
   "execution_count": 134,
   "id": "7c9f0933-5287-408b-852a-fa77f86a6a48",
   "metadata": {},
   "outputs": [
    {
     "data": {
      "text/plain": [
       "<Response [200]>"
      ]
     },
     "execution_count": 134,
     "metadata": {},
     "output_type": "execute_result"
    }
   ],
   "source": [
    "import requests\n",
    "from bs4 import BeautifulSoup\n",
    "\n",
    "session = requests.session()\n",
    "url = \"https://www.hanbit.co.kr/member/login_proc.php\" #처리하는 홈페이지\n",
    "\n",
    "session.post(url, {\"m_id\": \"\", \"m_passwd\": \"\"})"
   ]
  },
  {
   "cell_type": "markdown",
   "id": "d5cede16-62c4-4287-87e4-cea124f5c6d1",
   "metadata": {},
   "source": [
    "출력결과 잘 처리가 되었다는 뜻이다."
   ]
  },
  {
   "cell_type": "code",
   "execution_count": 135,
   "id": "3098f645-fc5c-4657-8e26-c736533a153f",
   "metadata": {},
   "outputs": [
    {
     "data": {
      "text/plain": [
       "<bound method Response.raise_for_status of <Response [200]>>"
      ]
     },
     "execution_count": 135,
     "metadata": {},
     "output_type": "execute_result"
    }
   ],
   "source": [
    "# 나의 한빛 페이지이다.\n",
    "resp = session.get(\"https://www.hanbit.co.kr/myhanbit/myhanbit.html\")\n",
    "resp.raise_for_status"
   ]
  },
  {
   "cell_type": "markdown",
   "id": "1dbb1b0b-6003-4d98-b976-e4f55423cf55",
   "metadata": {},
   "source": [
    "정상적으로 잘 되었다."
   ]
  },
  {
   "cell_type": "code",
   "execution_count": 136,
   "id": "db524ee8-bc12-4ce7-9c29-67927466f912",
   "metadata": {
    "collapsed": true,
    "jupyter": {
     "outputs_hidden": true
    },
    "tags": []
   },
   "outputs": [
    {
     "data": {
      "text/plain": [
       "<!DOCTYPE html>\n",
       "<html lang=\"ko\">\n",
       "<head>\n",
       "<!--[if lte IE 8]>\n",
       "<script>\n",
       "  location.replace('/support/explorer_upgrade.html');\n",
       "</script>\n",
       "<![endif]-->\n",
       "<meta charset=\"utf-8\"/>\n",
       "<title>한빛출판네트워크</title>\n",
       "<link href=\"https://www.hanbit.co.kr/images/common/hanbit.ico\" rel=\"shortcut icon\"/>\n",
       "<meta content=\"IE=Edge\" http-equiv=\"X-UA-Compatible\"/>\n",
       "<meta content=\"website\" property=\"og:type\"/>\n",
       "<meta content=\"한빛출판네트워크\" property=\"og:title\"/>\n",
       "<meta content=\"더 넓은 세상, 더 나은 미래를 위한 아시아 출판 네트워크 :: 한빛미디어, 한빛아카데미, 한빛비즈, 한빛라이프, 한빛에듀\" property=\"og:description\"/>\n",
       "<meta content=\"https://www.hanbit.co.kr/images/hanbitpubnet_logo.jpg\" property=\"og:image\"/>\n",
       "<meta content=\"https://www.hanbit.co.kr/myhanbit/myhanbit.html\" property=\"og:url\"/>\n",
       "<link href=\"https://www.hanbit.co.kr/myhanbit/myhanbit.html\" rel=\"canonical\"/>\n",
       "<meta content=\"한빛미디어,한빛아카데미,한빛비즈,한빛라이프,한빛에듀,리얼타임,대관서비스,책,출판사,IT전문서,IT활용서,대학교재,경제경영,어린이/유아,실용/여행,전자책,자격증,교육,세미나,강의,ebook,정보교과서\" name=\"keywords\"/>\n",
       "<meta content=\"더 넓은 세상, 더 나은 미래를 위한 아시아 출판 네트워크 :: 한빛미디어, 한빛아카데미, 한빛비즈, 한빛라이프, 한빛에듀\" name=\"description\"/>\n",
       "<meta content=\"width=device-width,initial-scale=1.0,minimum-scale=1.0,maximum-scale=1.0\" name=\"viewport\"/>\n",
       "<meta content=\"width=1260\" name=\"viewport\"/>\n",
       "<meta content=\"yes\" name=\"apple-mobile-web-app-capable\"/>\n",
       "<meta content=\"01c29ed1852aecca7a48ac0c3e0869627bc512d8\" name=\"naver-site-verification\"/>\n",
       "<link href=\"/css/common.css?20210603093421\" rel=\"stylesheet\"/>\n",
       "<link href=\"/css/hover.css\" media=\"all\" rel=\"stylesheet\"/>\n",
       "<link href=\"/js/jquery.raty.css\" rel=\"stylesheet\"/>\n",
       "<script src=\"/js/jquery-latest.js\" type=\"text/javascript\"></script>\n",
       "<script src=\"/js/jquery-ui.js\" type=\"text/javascript\"></script>\n",
       "<script src=\"/js/jquery.event.drag-1.5.min.js\" type=\"text/javascript\"></script>\n",
       "<script src=\"/js/jquery.touchSlider.js\" type=\"text/javascript\"></script>\n",
       "<script src=\"/js/jquery.raty.js\" type=\"text/javascript\"></script>\n",
       "<script src=\"/js/main.js\" type=\"text/javascript\"></script>\n",
       "<script src=\"/lib/cheditor/cheditor.js\" type=\"text/javascript\"></script>\n",
       "<script src=\"/js/jquery.ui.datepicker-ko.js\" type=\"text/javascript\"></script>\n",
       "<script src=\"/js/engine.js\" type=\"text/javascript\"></script>\n",
       "<script src=\"/js/vue.js\" type=\"text/javascript\"></script>\n",
       "<!-- Google Analytics -->\n",
       "<script>\n",
       "(function(i,s,o,g,r,a,m){i['GoogleAnalyticsObject']=r;i[r]=i[r]||function(){\n",
       "(i[r].q=i[r].q||[]).push(arguments)},i[r].l=1*new Date();a=s.createElement(o),\n",
       "m=s.getElementsByTagName(o)[0];a.async=1;a.src=g;m.parentNode.insertBefore(a,m)\n",
       "})(window,document,'script','//www.google-analytics.com/analytics.js','ga');\n",
       "ga('create', 'UA-47080738-1', 'hanbit.co.kr');\n",
       "ga('require', 'linkid', 'linkid.js');\n",
       "ga('send', 'pageview');\n",
       "</script>\n",
       "<!-- Google Analytics -->\n",
       "<!-- Facebook Pixel Code -->\n",
       "<script>\n",
       "  !function(f,b,e,v,n,t,s)\n",
       "  {if(f.fbq)return;n=f.fbq=function(){n.callMethod?\n",
       "  n.callMethod.apply(n,arguments):n.queue.push(arguments)};\n",
       "  if(!f._fbq)f._fbq=n;n.push=n;n.loaded=!0;n.version='2.0';\n",
       "  n.queue=[];t=b.createElement(e);t.async=!0;\n",
       "  t.src=v;s=b.getElementsByTagName(e)[0];\n",
       "  s.parentNode.insertBefore(t,s)}(window, document,'script',\n",
       "  'https://connect.facebook.net/en_US/fbevents.js');\n",
       "  fbq('init', '406459623338891');\n",
       "  fbq('track', 'PageView');\n",
       "</script>\n",
       "<noscript><img height=\"1\" src=\"https://www.facebook.com/tr?id=406459623338891&amp;ev=PageView&amp;noscript=1\" style=\"display:none\" width=\"1\"/></noscript>\n",
       "<!-- End Facebook Pixel Code -->\n",
       "<!-- Google Tag Manager -->\n",
       "<script>(function(w,d,s,l,i){w[l]=w[l]||[];w[l].push({'gtm.start':\n",
       "new Date().getTime(),event:'gtm.js'});var f=d.getElementsByTagName(s)[0],\n",
       "j=d.createElement(s),dl=l!='dataLayer'?'&l='+l:'';j.async=true;j.src=\n",
       "'https://www.googletagmanager.com/gtm.js?id='+i+dl;f.parentNode.insertBefore(j,f);\n",
       "})(window,document,'script','dataLayer','GTM-W9D5PM3');</script>\n",
       "<!-- End Google Tag Manager -->\n",
       "<!-- Kakao Pixel Code -->\n",
       "<script charset=\"UTF-8\" src=\"//t1.daumcdn.net/adfit/static/kp.js\" type=\"text/javascript\"></script>\n",
       "<script type=\"text/javascript\">\n",
       "  kakaoPixel('3011392806152551233').pageView();\n",
       "</script>\n",
       "<!-- //Kakao Pixel Code -->\n",
       "</head>\n",
       "<body>\n",
       "<!-- Google Tag Manager (noscript) -->\n",
       "<noscript><iframe height=\"0\" src=\"https://www.googletagmanager.com/ns.html?id=GTM-W9D5PM3\" style=\"display:none;visibility:hidden\" width=\"0\"></iframe></noscript>\n",
       "<!-- End Google Tag Manager (noscript) -->\n",
       "<link href=\"/css/layout-hanbit.css?202206030909\" rel=\"stylesheet\"/>\n",
       "<link href=\"/css/layout-member.css\" rel=\"stylesheet\"/>\n",
       "<link href=\"/css/layout-network.css\" rel=\"stylesheet\"/>\n",
       "<link href=\"/css/layout-store.css\" rel=\"stylesheet\"/>\n",
       "<link href=\"/css/layout-myhanbit.css\" rel=\"stylesheet\"/>\n",
       "<link href=\"/css/layout-event.css\" rel=\"stylesheet\"/>\n",
       "<!-- 메뉴 바로가기 -->\n",
       "<div id=\"quick_skip_menu\">\n",
       "<a href=\"#gnb\" onclick=\"document.getElementById('gnb').tabIndex = -1;document.getElementById('gnb').focus();return false;\"><span>메뉴 바로가기</span></a>\n",
       "<a href=\"#top_search\" onclick=\"view_hover('main_search_area','','show'), document.getElementById('top_search').tabIndex = -1;document.getElementById('top_search').focus();return false;\"><span>검색 및 카테고리 바로가기</span></a>\n",
       "<a href=\"#container\" onclick=\"document.getElementById('container').tabIndex = -1;document.getElementById('container').focus();return false;\"><span>본문 바로가기</span></a>\n",
       "</div>\n",
       "<!-- //메뉴 바로가기 -->\n",
       "<!-- header -->\n",
       "<header>\n",
       "<!-- top menu -->\n",
       "<nav>\n",
       "<div id=\"wrap_nav\">\n",
       "<ul class=\"top_brand\">\n",
       "<li><a href=\"https://www.hanbit.co.kr/index.html\" name=\"hanbit_network\"><span>HOME</span></a></li>\n",
       "<li><a href=\"https://www.hanbit.co.kr/media/\">한빛미디어</a></li>\n",
       "<li><a href=\"https://www.hanbit.co.kr/academy/\">한빛아카데미</a></li>\n",
       "<li><a href=\"https://www.hanbit.co.kr/biz/\">한빛비즈</a></li>\n",
       "<li><a href=\"https://www.hanbit.co.kr/life/\">한빛라이프</a></li>\n",
       "<li><a href=\"https://www.hanbit.co.kr/edu/\">한빛에듀</a></li>\n",
       "<li><a href=\"https://www.hanbit.co.kr/realtime/\">리얼타임</a></li>\n",
       "<li><a href=\"https://www.hanbit.co.kr/textbook/\" target=\"_blank\">한빛정보교과서</a></li>\n",
       "<li><a href=\"https://www.hanbit.co.kr/rent/\" target=\"_blank\">한빛대관서비스</a></li>\n",
       "</ul>\n",
       "<ul class=\"top_menu\">\n",
       "<li><a class=\"logout\" href=\"https://www.hanbit.co.kr/member/logout.html\">로그아웃</a></li>\n",
       "<li><a class=\"edit\" href=\"https://www.hanbit.co.kr/member/member_register.html\">개인정보수정</a></li>\n",
       "<li><a class=\"myhanbit\" href=\"https://www.hanbit.co.kr/myhanbit/myhanbit.html\">마이한빛</a></li>\n",
       "<li><a class=\"cart\" href=\"https://www.hanbit.co.kr/myhanbit/cart.html\">장바구니</a></li>\n",
       "<li class=\"top_menu_store\"><a href=\"https://www.hanbit.co.kr/publisher/foreignrights.html?lang=e\" target=\"_blank\">ENGLISH</a></li>\n",
       "</ul>\n",
       "</div>\n",
       "</nav>\n",
       "<!-- //top menu -->\n",
       "<div id=\"wrap_gnb\">\n",
       "<!-- logo -->\n",
       "<h1><a href=\"https://www.hanbit.co.kr/index.html\">한빛출판네트워크</a></h1>\n",
       "<!-- //logo -->\n",
       "<!-- Menu -->\n",
       "<div id=\"gnb\" name=\"gnb\">\n",
       "<ul>\n",
       "<li><a class=\"\" href=\"https://www.hanbit.co.kr/brand/brand_submain.html\">BRAND</a></li>\n",
       "<li><a class=\"\" href=\"https://www.hanbit.co.kr/channel/channel_submain.html\">Channel.H</a></li>\n",
       "<li><a class=\"\" href=\"https://www.hanbit.co.kr/store/store_submain.html\">STORE</a></li>\n",
       "<li><a class=\"\" href=\"https://www.hanbit.co.kr/support/help_info.html\">SUPPORT</a></li>\n",
       "<li><a class=\"\" href=\"https://www.hanbit.co.kr/event/current/current_event_list.html\">EVENT</a></li>\n",
       "<li><a class=\"\" href=\"https://www.hanbit.co.kr/publisher/foreignrights.html?lang=e\" target=\"_blank\">RIGHTS</a></li>\n",
       "<li class=\"search\" id=\"top_search\"><a href=\"javascript:;\" onclick=\"view_hover('main_search_area','','show'); $('#keyword_str').focus();\"><span>SEARCH</span></a></li>\n",
       "</ul>\n",
       "</div>\n",
       "<!-- //Menu -->\n",
       "<!-- lnb -->\n",
       "<div class=\"lnb\" style=\"top:92px;\">\n",
       "<div class=\"lnb_area\">\n",
       "<!-- BRAND -->\n",
       "<!--2015-10-07 비회원 장바구니 기능 추가되면서 회원 로그인시에만 보여짐 by 이용희-->\n",
       "<ul class=\"lnb_depth1_my1\">\n",
       "<li><a class=\"\" href=\"https://www.hanbit.co.kr/myhanbit/membership.html\">한빛멤버십</a></li><span>l</span>\n",
       "<li><a class=\"\" href=\"https://www.hanbit.co.kr/myhanbit/mileage_ecoin.html\">마일리지 / 한빛이코인</a></li>\n",
       "</ul>\n",
       "<ul class=\"lnb_depth1_my2\">\n",
       "<li><a class=\"\" href=\"https://www.hanbit.co.kr/myhanbit/wishlist.html\">위시리스트</a></li><span>l</span>\n",
       "<li><a class=\"\" href=\"https://www.hanbit.co.kr/myhanbit/cart.html\">장바구니</a></li><span>l</span>\n",
       "<li><a class=\"\" href=\"https://www.hanbit.co.kr/myhanbit/order_history_list.html\">주문목록</a></li><span>l</span>\n",
       "<li><a class=\"\" href=\"https://www.hanbit.co.kr/myhanbit/coupon.html\">My 쿠폰</a></li>\n",
       "</ul>\n",
       "<ul class=\"lnb_depth1_my3\">\n",
       "<li><a class=\"\" href=\"https://www.hanbit.co.kr/myhanbit/purchase_books.html\">My Book</a></li>\n",
       "<span>l</span>\n",
       "<li><a class=\"\" href=\"https://www.hanbit.co.kr/myhanbit/my_ebook_list.html\">My eBook</a></li>\n",
       "<span>l</span>\n",
       "<li><a class=\"\" href=\"https://www.hanbit.co.kr/myhanbit/my_class_list.html\">My 강의</a></li>\n",
       "</ul>\n",
       "</div>\n",
       "</div>\n",
       "<!--// lnb -->\n",
       "</div>\n",
       "</header>\n",
       "<!-- //header -->\n",
       "<!-- 메인 검색 및 카테고리 영역 -->\n",
       "<div class=\"fixed\" id=\"main_search_area\" style=\"display:none;\">\n",
       "<div class=\"msa_wrap\">\n",
       "<!-- 검색 -->\n",
       "<div class=\"msa_srch_wrap\">\n",
       "<form onsubmit=\"return false;\">\n",
       "<fieldset class=\"msa_srch_field\">\n",
       "<legend>한빛출판네트워크 검색</legend>\n",
       "<input accesskey=\"s\" autocomplete=\"off\" class=\"srch_keyword\" id=\"keyword_str\" name=\"keyword_str\" title=\"검색어\" type=\"text\" v-model=\"keyword\"/>\n",
       "<input class=\"srch_btn\" style=\"cursor:pointer;\" type=\"submit\"/>\n",
       "</fieldset>\n",
       "</form>\n",
       "</div>\n",
       "<!-- //검색 -->\n",
       "<!-- ① 인기검색어 -->\n",
       "<div class=\"msa_srch_polular\" v-if=\"showPopularKeyword === true\">\n",
       "<h2 class=\"tit\">인기 검색어 <span>(최근 1개월간)</span></h2>\n",
       "<div class=\"popula_box\">\n",
       "<ul class=\"left\">\n",
       "<li v-for=\"keyword in leftPopularKeywordList\">\n",
       "<a :class=\"keyword.bold\">\n",
       "                  {{ keyword.number }} {{ keyword.bookName }}\n",
       "              </a>\n",
       "</li>\n",
       "</ul>\n",
       "<ul class=\"right\">\n",
       "<li v-for=\"keyword in rightPopularKeywordList\">\n",
       "<a :class=\"keyword.bold\">\n",
       "                  {{ keyword.number }} {{ keyword.bookName }}\n",
       "              </a>\n",
       "</li>\n",
       "</ul>\n",
       "</div>\n",
       "</div>\n",
       "<!-- ① 인기검색어 -->\n",
       "<!-- ② 검색결과/검색서제스쳔 -->\n",
       "<div class=\"msa_srch_suggestion\" v-if=\"showPopularKeyword === false\">\n",
       "<div class=\"sugg_left\" v-if=\"bookList.length !== 0\">\n",
       "<h3 class=\"tit\">BOOK</h3>\n",
       "<ul class=\"books_list\">\n",
       "<li v-for=\"book in bookList\"><a><p v-html=\"book.name\"></p></a></li>\n",
       "</ul>\n",
       "</div>\n",
       "<div class=\"sugg_right\">\n",
       "<div class=\"sugg_book\" v-if=\"bookList.length !== 0\">\n",
       "<table class=\"sugg_book_detail\">\n",
       "<tr>\n",
       "<td class=\"cover\">\n",
       "<a>\n",
       "<img :src=\"bookSummary.imgUrl\" class=\"b_cover\"/>\n",
       "</a>\n",
       "</td>\n",
       "<td class=\"draft\">\n",
       "<a class=\"b_title\"><strong v-html=\"bookSummary.originName\"></strong></a>\n",
       "<p class=\"b_int\">\n",
       "                {{ bookSummary.author }} 지음<br/>\n",
       "                {{ bookSummary.publishingCompany }} | {{ bookSummary.date }}\n",
       "                </p>\n",
       "<p class=\"b_type\">\n",
       "<span>{{ bookSummary.bookType }}</span>\n",
       "</p>\n",
       "</td>\n",
       "</tr>\n",
       "</table>\n",
       "</div>\n",
       "<!--\n",
       "        <div class=\"sugg_edu\" v-if=\"educationList.length !== 0\">\n",
       "          <h3 class=\"tit\">EDUCATION</h3>\n",
       "          <ul class=\"edu_list\">\n",
       "            <li v-for=\"education in educationList\">&#149; <a @click=\"clickEducationKeyword(education)\"><span v-html=\"education.title\"></span></a></li>\n",
       "          </ul>\n",
       "        </div>\n",
       "        -->\n",
       "<div class=\"sugg_cont\" v-if=\"contentList.length !== 0\">\n",
       "<h3 class=\"tit\">CONTENTS</h3>\n",
       "<ul class=\"cont_list\">\n",
       "<li v-for=\"content in contentList\"> <a><span v-html=\"content.title\"></span></a></li>\n",
       "</ul>\n",
       "</div>\n",
       "</div>\n",
       "</div>\n",
       "<!-- //② 검색결과/검색서제스쳔 -->\n",
       "<!-- 닫기 -->\n",
       "<div class=\"msa_wrap_close\">\n",
       "<a href=\"javascript:;\" onclick=\"view_hover('main_search_area','','hide')\">닫기</a>\n",
       "</div>\n",
       "<!-- //닫기 -->\n",
       "</div>\n",
       "</div>\n",
       "<script type=\"text/javascript\">\n",
       "    \"use strict\";\n",
       "\n",
       "    var common_top_search_vue = new Vue({\n",
       "        el: '#main_search_area',\n",
       "        data: {\n",
       "            //검색엔진 URL\n",
       "            searchProxyURL: \"https://search.hanbit.co.kr\",\n",
       "            //인기 검색어 show 여부\n",
       "            showPopularKeyword: true,\n",
       "            //사용자 검색 키워드\n",
       "            keyword: '',\n",
       "            //인기 검색어 리스트\n",
       "            popularKeywordList: [],\n",
       "            // 인기 검색어 리스트 (왼쪽)\n",
       "            leftPopularKeywordList: [],\n",
       "            // 인기 검색어 리스트 (오른쪽)\n",
       "            rightPopularKeywordList: [],\n",
       "            // 자동완성에서의 책 리스트\n",
       "            bookList: [],\n",
       "            // 자동완성에서의 책 정보\n",
       "            bookSummary: {\n",
       "                'imgUrl': '',\n",
       "                'link': '',\n",
       "                'name': '',\n",
       "                'author': '',\n",
       "                'publishingCompany': '',\n",
       "                'date': '',\n",
       "                'bookType': ''\n",
       "            },\n",
       "            //에듀케이션 리스트\n",
       "            educationList: [],\n",
       "            //컨텐츠 리스트\n",
       "            contentList: []\n",
       "        },\n",
       "        created: function created() {\n",
       "            // 인기 검색어 조회\n",
       "            this.getPopularKeyword();\n",
       "        },\n",
       "        methods: {\n",
       "            /**\n",
       "             * 사용자가 검색 키워드를 입력할때 발생하는 이벤트\n",
       "             */\n",
       "            typeKeyword: function typeKeyword() {\n",
       "                var self = this;\n",
       "                var keyword = $(\"#keyword_str\").val();\n",
       "\n",
       "                if (keyword.length !== 0) {\n",
       "                    //자동완성어\n",
       "                    this.findAutocompleteResult(keyword);\n",
       "                } else {\n",
       "                    //인기검색어\n",
       "                    self.showPopularKeyword = true;\n",
       "                }\n",
       "            },\n",
       "\n",
       "            /**\n",
       "             * 인기검색어 조회\n",
       "             */\n",
       "            getPopularKeyword: function getPopularKeyword() {\n",
       "                var self = this;\n",
       "                this.popularKeywordList = [];\n",
       "                $.get(this.searchProxyURL + \"/querylog/popularKeyword\").done(function (data) {\n",
       "                    if (data != null) {\n",
       "                        self.drawPopularKeyword(data);\n",
       "                    }\n",
       "                });\n",
       "            },\n",
       "\n",
       "            /**\n",
       "             * 인기 검색어 그리기\n",
       "             */\n",
       "            drawPopularKeyword: function drawPopularKeyword(popularBooks) {\n",
       "                var self = this;\n",
       "                popularBooks.forEach(function (item) {\n",
       "                    var popularBook = {\n",
       "                        bookName: item.keyword\n",
       "                    };\n",
       "                    self.popularKeywordList.push(popularBook);\n",
       "                });\n",
       "                var number = 0;\n",
       "\n",
       "                for (var _iterator = this.popularKeywordList, _isArray = Array.isArray(_iterator), _i = 0, _iterator = _isArray ? _iterator : _iterator[Symbol.iterator]();;) {\n",
       "                    var _ref;\n",
       "\n",
       "                    if (_isArray) {\n",
       "                        if (_i >= _iterator.length) break;\n",
       "                        _ref = _iterator[_i++];\n",
       "                    } else {\n",
       "                        _i = _iterator.next();\n",
       "                        if (_i.done) break;\n",
       "                        _ref = _i.value;\n",
       "                    }\n",
       "\n",
       "                    var keyword = _ref;\n",
       "                    number = number + 1;\n",
       "                    keyword.number = number.toString().length < 2 ? \"0\" + number : number;\n",
       "\n",
       "                    if (number > 5) {\n",
       "                        keyword.direction = \"right\";\n",
       "                        self.rightPopularKeywordList.push(keyword);\n",
       "                    } else {\n",
       "                        keyword.direction = \"left\";\n",
       "\n",
       "                        if (number < 4) {\n",
       "                            keyword.bold = 'active';\n",
       "                        }\n",
       "\n",
       "                        self.leftPopularKeywordList.push(keyword);\n",
       "                    }\n",
       "                }\n",
       "            },\n",
       "\n",
       "            /**\n",
       "             * 자동완성 검색 결과\n",
       "             */\n",
       "            findAutocompleteResult: function findAutocompleteResult(keyword) {\n",
       "                var self = this;\n",
       "                var param = {\n",
       "                    q: keyword,\n",
       "                    types: \"education,book,contents\",\n",
       "                    fq: keyword\n",
       "                };\n",
       "                $.post(this.searchProxyURL + \"/autocomplete/search\", param).done(function (data) {\n",
       "                    if (data != null) {\n",
       "                        var bookResult = data.booksResults;\n",
       "                        self.changeBookList(keyword, bookResult);\n",
       "                        var contentResult = data.contentsResults;\n",
       "                        self.changeContentList(keyword, contentResult);\n",
       "                        var educationResult = data.educationResults;\n",
       "                        self.changeEducationList(keyword, educationResult);\n",
       "                    }\n",
       "                });\n",
       "                this.showPopularKeyword = false;\n",
       "            },\n",
       "\n",
       "            /**\n",
       "             * 자동완성어에서 BOOK 부분에서 마우스를 올렸을 시에 발생하는 이벤트\n",
       "             * @param bookId\n",
       "             */\n",
       "            mouseOverBook: function mouseOverBook(bookId) {\n",
       "                var currentBook = this.bookList.filter(function (book) {\n",
       "                    return book.id === bookId;\n",
       "                });\n",
       "                this.changeBookSummary(currentBook[0]);\n",
       "            },\n",
       "\n",
       "            /**\n",
       "             * 책 소개 변경\n",
       "             * @param book\n",
       "             */\n",
       "            changeBookSummary: function changeBookSummary(book) {\n",
       "                if (book !== {}) {\n",
       "                    this.bookSummary.name = book.name;\n",
       "                    this.bookSummary.originName = book.originName;\n",
       "                    this.bookSummary.author = book.author;\n",
       "                    this.bookSummary.bookType = book.bookType;\n",
       "                    this.bookSummary.imgUrl = book.imgUrl;\n",
       "                    this.bookSummary.link = book.link;\n",
       "                    this.bookSummary.publishingCompany = book.publishingCompany;\n",
       "                    this.bookSummary.date = book.date;\n",
       "                    this.bookSummary.bookType = book.bookType;\n",
       "                }\n",
       "            },\n",
       "\n",
       "            /**\n",
       "             * BOOK 리스트 변경\n",
       "             */\n",
       "            changeBookList: function changeBookList(keyword, bookResultList) {\n",
       "                var self = this;\n",
       "                self.bookList = [];\n",
       "                var index = 0;\n",
       "\n",
       "                if (bookResultList != null) {\n",
       "                    for (var _iterator2 = bookResultList, _isArray2 = Array.isArray(_iterator2), _i2 = 0, _iterator2 = _isArray2 ? _iterator2 : _iterator2[Symbol.iterator]();;) {\n",
       "                        var _ref2;\n",
       "\n",
       "                        if (_isArray2) {\n",
       "                            if (_i2 >= _iterator2.length) break;\n",
       "                            _ref2 = _iterator2[_i2++];\n",
       "                        } else {\n",
       "                            _i2 = _iterator2.next();\n",
       "                            if (_i2.done) break;\n",
       "                            _ref2 = _i2.value;\n",
       "                        }\n",
       "\n",
       "                        var result = _ref2;\n",
       "\n",
       "                        if (index < 10) {\n",
       "                            var book = {};\n",
       "                            book.id = result.code;\n",
       "                            book.originName = result.title;\n",
       "                            book.name = JSON.parse(JSON.stringify(self.replaceHighlightWord(result.title, keyword)));\n",
       "                            book.link = result.code;\n",
       "                            book.imgUrl = self.getBookImageURL(result.code);\n",
       "                            book.author = result.author;\n",
       "                            book.publishingCompany = result.brand;\n",
       "                            book.date = result.pubDate;\n",
       "                            book.bookType = result.bookType;\n",
       "                            self.bookList.push(book); //책 미리보기 변경\n",
       "\n",
       "                            self.changeBookSummary(self.bookList[0]);\n",
       "                        }\n",
       "                    }\n",
       "                } else {\n",
       "                    self.initBookSummary();\n",
       "                }\n",
       "            },\n",
       "\n",
       "            /**\n",
       "             * 책 이미지 주소 가져오기\n",
       "             */\n",
       "            getBookImageURL: function getBookImageURL(bookCode) {\n",
       "                var imgURL;\n",
       "\n",
       "                if (bookCode.substr(0, 1) === \"E\") {\n",
       "                    imgURL = '/data/ebook/' + bookCode + '_m.jpg';\n",
       "                } else {\n",
       "                    imgURL = '/data/books/' + bookCode + \"_m.jpg\";\n",
       "                }\n",
       "\n",
       "                return imgURL;\n",
       "            },\n",
       "\n",
       "            /**\n",
       "             * 검색 결과가 없을 경우 책 미리보기 초기화\n",
       "             */\n",
       "            initBookSummary: function initBookSummary() {\n",
       "                this.bookSummary = {\n",
       "                    'imgUrl': '',\n",
       "                    'link': '',\n",
       "                    'name': '',\n",
       "                    'author': '',\n",
       "                    'publishingCompany': '',\n",
       "                    'date': '',\n",
       "                    'bookType': ''\n",
       "                };\n",
       "            },\n",
       "\n",
       "            /**\n",
       "             * education 리스트 변경\n",
       "             */\n",
       "            changeEducationList: function changeEducationList(keyword, educationResultList) {\n",
       "                var self = this;\n",
       "                self.educationList = [];\n",
       "                var index = 0;\n",
       "\n",
       "                if (educationResultList != null) {\n",
       "                    for (var _iterator3 = educationResultList, _isArray3 = Array.isArray(_iterator3), _i3 = 0, _iterator3 = _isArray3 ? _iterator3 : _iterator3[Symbol.iterator]();;) {\n",
       "                        var _ref3;\n",
       "\n",
       "                        if (_isArray3) {\n",
       "                            if (_i3 >= _iterator3.length) break;\n",
       "                            _ref3 = _iterator3[_i3++];\n",
       "                        } else {\n",
       "                            _i3 = _iterator3.next();\n",
       "                            if (_i3.done) break;\n",
       "                            _ref3 = _i3.value;\n",
       "                        }\n",
       "\n",
       "                        var result = _ref3;\n",
       "\n",
       "                        if (index < 3) {\n",
       "                            var content = {};\n",
       "                            content.title = JSON.parse(JSON.stringify(self.replaceHighlightWord(result.title, keyword)));\n",
       "                            content.link = result.code;\n",
       "                            self.educationList.push(content);\n",
       "                            index = index + 1;\n",
       "                        }\n",
       "                    }\n",
       "                }\n",
       "            },\n",
       "\n",
       "            /**\n",
       "             * contents 리스트 변경\n",
       "             */\n",
       "            changeContentList: function changeContentList(keyword, contentResult) {\n",
       "                var self = this;\n",
       "                self.contentList = [];\n",
       "                var index = 0;\n",
       "\n",
       "                if (contentResult != null) {\n",
       "                    for (var _iterator4 = contentResult, _isArray4 = Array.isArray(_iterator4), _i4 = 0, _iterator4 = _isArray4 ? _iterator4 : _iterator4[Symbol.iterator]();;) {\n",
       "                        var _ref4;\n",
       "\n",
       "                        if (_isArray4) {\n",
       "                            if (_i4 >= _iterator4.length) break;\n",
       "                            _ref4 = _iterator4[_i4++];\n",
       "                        } else {\n",
       "                            _i4 = _iterator4.next();\n",
       "                            if (_i4.done) break;\n",
       "                            _ref4 = _i4.value;\n",
       "                        }\n",
       "\n",
       "                        var result = _ref4;\n",
       "\n",
       "                        if (index < 7) {\n",
       "                            var content = {};\n",
       "                            content.title = JSON.parse(JSON.stringify(self.replaceHighlightWord(result.title, keyword)));\n",
       "                            content.link = result.code;\n",
       "                            self.contentList.push(content);\n",
       "                            index = index + 1;\n",
       "                        }\n",
       "                    }\n",
       "                }\n",
       "            },\n",
       "\n",
       "            /**\n",
       "             * 하이라이트 표시\n",
       "             */\n",
       "            replaceHighlightWord: function replaceHighlightWord(str, highlightKeyword) {\n",
       "                var replaceHighlightKeyword = highlightKeyword.replace(/[^a-z0-9가-힣_ ]/gi, '');\n",
       "                var regEx = new RegExp(replaceHighlightKeyword, \"gi\");\n",
       "                str = str.replace(regEx, function (a) {\n",
       "                    return '<span class=\"keysel\">' + a + '</span>';\n",
       "                });\n",
       "                return str;\n",
       "            },\n",
       "\n",
       "            /**\n",
       "             * 검색 버튼 클릭 시\n",
       "             * @param e\n",
       "             */\n",
       "            clickSearch: function clickSearch(e) {\n",
       "                if (!this.keyword || this.keyword.length === 0) {\n",
       "                    alert(\"검색어를 입력하세요\");\n",
       "                    $(\"#keyword_str\").focus();\n",
       "                    e.preventDefault();\n",
       "                } else {\n",
       "                    location.href = \"/search/search_list.html?keyword=\" + this.keyword;\n",
       "                }\n",
       "            },\n",
       "\n",
       "            /**\n",
       "             * 인기 검색어 클릭시\n",
       "             * @param book\n",
       "             */\n",
       "            clickPopularKeyword: function clickPopularKeyword(book) {\n",
       "                var searchKeyword = book.bookName;\n",
       "                location.href = \"/search/search_list.html?keyword=\" + searchKeyword;\n",
       "            },\n",
       "\n",
       "            /**\n",
       "             * 책 검색어 클릭시 책 상세로 이동\n",
       "             * @param book\n",
       "             */\n",
       "            clickBookKeyword: function clickBookKeyword(book) {\n",
       "                location.href = \"/store/books/look.php?p_code=\" + book.link;\n",
       "            },\n",
       "\n",
       "            /**\n",
       "             * 교육 클릭시 교육 상세로 이동\n",
       "             * @param education\n",
       "             */\n",
       "            clickEducationKeyword: function clickEducationKeyword(education) {\n",
       "                location.href = \"/store/education/edu_view.html?p_code=\" + education.link;\n",
       "            },\n",
       "\n",
       "            /**\n",
       "             * 컨텐츠 클릭시 컨텐츠 상세로 이동\n",
       "             * @param contents\n",
       "             */\n",
       "            clickContentKeyword: function clickContentKeyword(content) {\n",
       "                location.href = \"/channel/category/category_view.html?cms_code=\" + content.link;\n",
       "            }\n",
       "        }\n",
       "    });\n",
       "</script>\n",
       "<!-- //메인 검색 및 카테고리 영역 -->\n",
       "<!-- Contents -->\n",
       "<div id=\"container\">\n",
       "<div class=\"myhanbit_wrap\">\n",
       "<!-- 회원등급 -->\n",
       "<div class=\"sm_myinfo\">\n",
       "<div class=\"my_rating\">\n",
       "<div class=\"icon\">\n",
       "<img alt=\"\" src=\"https://www.hanbit.co.kr/images/myhanbit/rating_icon1.png\"/>\n",
       "</div>\n",
       "<p>(최지원)님의<br/>회원 등급은 <span>일반</span> 입니다.</p>\n",
       "</div>\n",
       "</div>\n",
       "<!-- //회원등급 -->\n",
       "<!-- 마일리지/이코인 -->\n",
       "<div class=\"sm_mymileage\">\n",
       "<dl class=\"mileage_section1\">\n",
       "<dt>마일리지</dt>\n",
       "<dd><span>3,000</span> 점</dd>\n",
       "</dl>\n",
       "<dl class=\"mileage_section2\">\n",
       "<dt>한빛이코인</dt>\n",
       "<dd><span>0</span> 원</dd>\n",
       "</dl>\n",
       "</div>\n",
       "<!-- //마일리지/이코인 -->\n",
       "<!-- 최근 구매이력 -->\n",
       "<div class=\"sm_myorder\">\n",
       "<p class=\"tit\">최근 구매이력</p>\n",
       "<table border=\"0\" cellspacing=\"0\" class=\"tbl_type_list\" summary=\"최근 3개월 활동 내역 테이블\">\n",
       "<caption>최근 3개월 활동 내역</caption>\n",
       "<colgroup>\n",
       "<col width=\"110px\"/>\n",
       "<col width=\"\"/>\n",
       "<col width=\"120px\"/>\n",
       "</colgroup>\n",
       "<thead>\n",
       "<tr>\n",
       "<th scope=\"col\">주문일자</th>\n",
       "<th scope=\"col\">상품명</th>\n",
       "<th class=\"last\" scope=\"col\">주문금액</th>\n",
       "</tr>\n",
       "</thead>\n",
       "<tbody>\n",
       "</tbody>\n",
       "</table>\n",
       "</div>\n",
       "<!-- //최근 구매이력 -->\n",
       "<!-- My Book -->\n",
       "<div class=\"submain_mypagae_foot smf_l\">\n",
       "<p class=\"sm_tit\">My Book</p>\n",
       "<div class=\"smf_nodata\">리스트가 없습니다.</div>\n",
       "</div>\n",
       "<!-- //My Book -->\n",
       "<!-- My eBook -->\n",
       "<div class=\"submain_mypagae_foot smf_c\">\n",
       "<p class=\"sm_tit\">My eBook</p>\n",
       "<div class=\"smf_nodata\">리스트가 없습니다.</div>\n",
       "</div>\n",
       "<!-- //My eBook -->\n",
       "<!-- My 강의 -->\n",
       "<div class=\"submain_mypagae_foot smf_r\">\n",
       "<p class=\"sm_tit\">My 강의</p>\n",
       "<div class=\"smf_nodata\">리스트가 없습니다.</div>\n",
       "</div>\n",
       "<!-- //My 강의 -->\n",
       "</div>\n",
       "</div>\n",
       "<!-- //Contents -->\n",
       "<!-- Footer -->\n",
       "<footer>\n",
       "<!-- 공지사항 -->\n",
       "<div class=\"foot_notice\" style=\"height:6px;\"></div> <!-- //공지사항 -->\n",
       "<div class=\"foot_contents\">\n",
       "<!-- 하단 메뉴 -->\n",
       "<div class=\"foot_menu\">\n",
       "<!-- added by coffin -->\n",
       "<ul>\n",
       "<li><a href=\"https://www.hanbit.co.kr/publisher/index.html\" target=\"_blank\">회사소개</a>(<a href=\"https://www.hanbit.co.kr/publisher/index.html\" target=\"_blank\">KOR</a> | <a href=\"https://www.hanbit.co.kr/publisher/index.html?lang=e\" target=\"_blank\">ENG</a>)  <a href=\"https://www.hanbit.co.kr/publisher/contact.html?lang=k\" target=\"_blank\">약도</a></li>\n",
       "<li><a href=\"https://www.hanbit.co.kr/publisher/write.html\" target=\"_blank\">기획 및 원고 모집</a></li>\n",
       "<li><a href=\"https://www.hanbit.co.kr/publisher/career.html\" target=\"_blank\">채용</a>  입사지원 <a href=\"mailto:jobs@hanbit.co.kr\">jobs@hanbit.co.kr</a></li>\n",
       "<li><a href=\"https://www.hanbit.co.kr/publisher/foreignrights.html\" target=\"_blank\">FOREIGN RIGHTS</a></li>\n",
       "<li><a href=\"https://www.hanbit.co.kr/member/use_agreement.html\">이용약관</a>  <a href=\"https://www.hanbit.co.kr/member/privacy_policy.html\"><strong>개인정보처리방침</strong></a></li>\n",
       "<li><a href=\"https://www.hanbit.co.kr/sitemap/sitemap.html\">사이트맵</a></li>\n",
       "</ul>\n",
       "</div>\n",
       "<!-- //하단 메뉴 -->\n",
       "<!-- SNS -->\n",
       "<div class=\"foot_sns\">\n",
       "<!-- 데브레터 구독하기 -->\n",
       "<div class=\"devletter_contet\">\n",
       "<div class=\"devletter_sub\">\n",
       "<span class=\"dev_header_img\">데브레터 구독하기</span><a class=\"dev_sit_a\" href=\"/devletter/\" target=\"_blank\"><span class=\"dev_site_img\">데브레터 보러가기</span></a>\n",
       "</div>\n",
       "<form action=\"/devletter/dev_process.php\" class=\"subscribe_form\" method=\"post\">\n",
       "<fieldset class=\"subscribe_fiel\">\n",
       "<legend>구독서비스</legend>\n",
       "<input name=\"user_email\" placeholder=\"Your Email Address\" type=\"text\"/>\n",
       "<button class=\"sub_btn\" type=\"submit\"><span>구독</span></button>\n",
       "</fieldset>\n",
       "</form>\n",
       "<div class=\"main_foot_sns\">\n",
       "<ul>\n",
       "<li class=\"main_foot_facebook\"><a href=\"https://www.facebook.com/hanbitmedia\" target=\"_blank\"><span>페이스북</span></a></li>\n",
       "<li class=\"main_foot_youtube\"><a href=\"https://www.youtube.com/한빛TV\" target=\"_blank\"><span>유튜브</span></a></li>\n",
       "<li class=\"main_foot_bolg\"><a href=\"http://blog.hanbit.co.kr/\" target=\"_blank\"><span>블로그</span></a></li>\n",
       "<li class=\"main_foot_naverpost\"><a href=\"https://m.post.naver.com/hanbitstory\" target=\"_blank\"><span>네이버포스트</span></a></li>\n",
       "</ul>\n",
       "</div>\n",
       "</div>\n",
       "<!-- 데브레터 구독하기 //-->\n",
       "</div>\n",
       "<!-- //SNS -->\n",
       "<!-- 한빛 정보 -->\n",
       "<div class=\"foot_about\">\n",
       "<div class=\"foot_about_area\">\n",
       "<p><strong>한빛미디어㈜  한빛아카데미㈜  한빛비즈㈜</strong></p>\n",
       "<p>(03785) 서울 서대문구 연희로2길 62</p>\n",
       "<p>EMAIL : support@hanbit.co.kr</p>\n",
       "<p>대표이사 : 김태헌</p>\n",
       "<p>사업자등록번호 : 220-81-05665 <a href=\"http://www.ftc.go.kr/bizCommPop.do?wrkr_no=2208105665\" target=\"_blank\">[확인]</a></p>\n",
       "<p>통신판매업신고 : 2017-서울서대문-0671호</p>\n",
       "<p>호스팅제공자 : (주)누리호스팅</p>\n",
       "</div>\n",
       "</div>\n",
       "<!-- //한빛 정보 -->\n",
       "</div>\n",
       "<div class=\"copyright\">©1993-2022 Hanbit Publishing Network, Inc. All rights reserved.</div>\n",
       "</footer>\n",
       "<!-- //푸터 -->\n",
       "<div class=\"foot_download_btn\"><a href=\"https://www.hanbit.co.kr/support/supplement_list.html\">자료실</a></div>\n",
       "<!-- 공통 JS 호출 -->\n",
       "<script src=\"/js/common.js\" type=\"text/javascript\"></script>\n",
       "<!-- //공통 JS 호출 -->\n",
       "</body>\n",
       "</html>"
      ]
     },
     "execution_count": 136,
     "metadata": {},
     "output_type": "execute_result"
    }
   ],
   "source": [
    "html = resp.text # 페이지 내용 코드를 쭉 가져왔다.\n",
    "soup = BeautifulSoup(html, 'lxml') # 훨씬 보기 쉽게 만들어준다.\n",
    "soup"
   ]
  },
  {
   "cell_type": "code",
   "execution_count": 137,
   "id": "b355de1c-af42-41f7-8884-e3f6360c1f5e",
   "metadata": {},
   "outputs": [
    {
     "data": {
      "text/plain": [
       "[<dt>마일리지</dt>]"
      ]
     },
     "execution_count": 137,
     "metadata": {},
     "output_type": "execute_result"
    }
   ],
   "source": [
    "# 마일리지 점수 가져오기\n",
    "# #container > div > div.sm_mymileage > dl.mileage_section1 > dd > span\n",
    "soup.select('#container > div > div.sm_mymileage > dl.mileage_section1 > dt')"
   ]
  },
  {
   "cell_type": "markdown",
   "id": "f04c2187-3639-4b54-a8be-97beee83e3e5",
   "metadata": {},
   "source": [
    "```\n",
    "동일한 코드\n",
    "soup.select_one(\"#container > div > div.sm_mymileage > dl.mileage_section1 > dd> span\")[0].text\n",
    "soup.select_one(\"#container > div > div.sm_mymileage > dl.mileage_section1 > dd> span\").string\n",
    "soup.select_one(\"#container > div > div.sm_mymileage > dl.mileage_section1 > dd> span\")[0].get_text()\n",
    "\n",
    "\n",
    "\n",
    "이건 안나온다.\n",
    "soup.select(\"#container > div > div.sm_mymileage > dl.mileage_section1 > dd> span\").text\n",
    "\n",
    "```"
   ]
  },
  {
   "cell_type": "code",
   "execution_count": 138,
   "id": "e1d92c46-d593-4882-bedb-bf321caa9f79",
   "metadata": {},
   "outputs": [
    {
     "name": "stdout",
     "output_type": "stream",
     "text": [
      "마일리지:  3,000\n",
      "한빛이코인:  0\n"
     ]
    }
   ],
   "source": [
    "mileage = soup.select_one('dl.mileage_section1 > dd > span').get_text() # 하나만 가지고 오기 때문에 먹힌다.\n",
    "ecoin = soup.select_one('dl.mileage_section2 > dd > span').text\n",
    "\n",
    "print(\"마일리지: \", mileage)\n",
    "print(\"한빛이코인: \", ecoin) "
   ]
  },
  {
   "cell_type": "markdown",
   "id": "a5a8cb62-b71a-4f2f-8ced-22afa8843b82",
   "metadata": {},
   "source": [
    "# 날씨 가져오기. json형식 가져오기"
   ]
  },
  {
   "cell_type": "code",
   "execution_count": 115,
   "id": "53675082-7ccc-4167-aa38-859f75bb005f",
   "metadata": {},
   "outputs": [],
   "source": [
    "# 날씨 정보 가져오기\n",
    "import requests\n",
    "import json"
   ]
  },
  {
   "cell_type": "code",
   "execution_count": 118,
   "id": "3d0457af-64fd-438f-8153-518669f30789",
   "metadata": {},
   "outputs": [],
   "source": [
    "apikey = \"\"\n",
    "api = \"http://api.openweathermap.org/data/2.5/weather?q={city}&APPID={key}\""
   ]
  },
  {
   "cell_type": "code",
   "execution_count": 121,
   "id": "8c06e12e-4d97-41ad-8d1e-6df2c9eef508",
   "metadata": {},
   "outputs": [],
   "source": [
    "cities = ['Seoul,KR', 'New York, US']\n",
    "k2c = lambda k: round(k - 273.15,1) #k2는 화씨를 섭씨로 바꿔준다."
   ]
  },
  {
   "cell_type": "code",
   "execution_count": 124,
   "id": "d7ea2d6c-6001-4290-8445-640dbbfb26b5",
   "metadata": {},
   "outputs": [
    {
     "name": "stdout",
     "output_type": "stream",
     "text": [
      "{'coord': {'lon': 126.9778, 'lat': 37.5683}, 'weather': [{'id': 801, 'main': 'Clouds', 'description': 'few clouds', 'icon': '02d'}], 'base': 'stations', 'main': {'temp': 293.04, 'feels_like': 292.13, 'temp_min': 289.84, 'temp_max': 293.81, 'pressure': 1025, 'humidity': 40}, 'visibility': 10000, 'wind': {'speed': 1.54, 'deg': 250}, 'clouds': {'all': 20}, 'dt': 1666938865, 'sys': {'type': 1, 'id': 8105, 'country': 'KR', 'sunrise': 1666907537, 'sunset': 1666946359}, 'timezone': 32400, 'id': 1835848, 'name': 'Seoul', 'cod': 200}\n",
      "\n",
      "+ 도시 = Seoul\n",
      "| 날씨 = few clouds\n",
      "| 최저 기온 = 16.7\n",
      "| 최고 기온 = 20.7\n",
      "| 습도 = 40\n",
      "| 기압 = 1025\n",
      "| 풍향 = 250\n",
      "| 풍속 = 1.54\n",
      "\n",
      "{'coord': {'lon': -74.006, 'lat': 40.7143}, 'weather': [{'id': 800, 'main': 'Clear', 'description': 'clear sky', 'icon': '01n'}], 'base': 'stations', 'main': {'temp': 282.77, 'feels_like': 279.4, 'temp_min': 279.05, 'temp_max': 284.81, 'pressure': 1029, 'humidity': 59}, 'visibility': 10000, 'wind': {'speed': 7.72, 'deg': 360}, 'clouds': {'all': 0}, 'dt': 1666939039, 'sys': {'type': 2, 'id': 2039034, 'country': 'US', 'sunrise': 1666956094, 'sunset': 1666994270}, 'timezone': -14400, 'id': 5128581, 'name': 'New York', 'cod': 200}\n",
      "\n",
      "+ 도시 = New York\n",
      "| 날씨 = clear sky\n",
      "| 최저 기온 = 5.9\n",
      "| 최고 기온 = 11.7\n",
      "| 습도 = 59\n",
      "| 기압 = 1029\n",
      "| 풍향 = 360\n",
      "| 풍속 = 7.72\n",
      "\n"
     ]
    }
   ],
   "source": [
    "# api를 써서 정보를 받아오는 법\n",
    "for city in cities:\n",
    "    url = api.format(city = city, key = apikey)        #api의 {city}&APPID={key} 이 부분이다.\n",
    "    req = requests.get(url)  # 어떤 url로 다가가세요 그게 get\n",
    "    data = json.loads(req.text) # 결과를 json 형식으로 변환하기\n",
    "    print(data)\n",
    "    print()\n",
    "    print(\"+ 도시 =\", data[\"name\"])\n",
    "    print(\"| 날씨 =\", data[\"weather\"][0][\"description\"])\n",
    "    print(\"| 최저 기온 =\", k2c(data[\"main\"][\"temp_min\"]))\n",
    "    print(\"| 최고 기온 =\", k2c(data[\"main\"][\"temp_max\"]))\n",
    "    print(\"| 습도 =\", data[\"main\"][\"humidity\"])\n",
    "    print(\"| 기압 =\", data[\"main\"][\"pressure\"])\n",
    "    print(\"| 풍향 =\", data[\"wind\"][\"deg\"])\n",
    "    print(\"| 풍속 =\", data[\"wind\"][\"speed\"])\n",
    "    print(\"\") "
   ]
  },
  {
   "cell_type": "code",
   "execution_count": null,
   "id": "37be9ba1-501b-4cb0-b527-f0e35d39e8ee",
   "metadata": {},
   "outputs": [],
   "source": []
  }
 ],
 "metadata": {
  "kernelspec": {
   "display_name": "Python 3 (ipykernel)",
   "language": "python",
   "name": "python3"
  },
  "language_info": {
   "codemirror_mode": {
    "name": "ipython",
    "version": 3
   },
   "file_extension": ".py",
   "mimetype": "text/x-python",
   "name": "python",
   "nbconvert_exporter": "python",
   "pygments_lexer": "ipython3",
   "version": "3.9.12"
  }
 },
 "nbformat": 4,
 "nbformat_minor": 5
}
