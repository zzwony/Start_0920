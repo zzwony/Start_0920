{
 "cells": [
  {
   "cell_type": "code",
   "execution_count": 21,
   "id": "2f427a9a-885e-4d4f-849d-ebf7138d516d",
   "metadata": {},
   "outputs": [
    {
     "name": "stdout",
     "output_type": "stream",
     "text": [
      "[0, 1, 2, 3, 4, 5, 6, 7, 8, 9, 10]\n"
     ]
    }
   ],
   "source": [
    "a = []\n",
    "for i in range(0, 10 + 1):\n",
    "        a.append(i)\n",
    "\n",
    "print(a) "
   ]
  },
  {
   "cell_type": "code",
   "execution_count": 22,
   "id": "afb9331e-537f-40a0-b740-423e3eb923cb",
   "metadata": {},
   "outputs": [
    {
     "data": {
      "text/plain": [
       "[0, 1, 2, 3, 4, 5, 6, 7, 8, 9, 10]"
      ]
     },
     "execution_count": 22,
     "metadata": {},
     "output_type": "execute_result"
    }
   ],
   "source": [
    "[i for i in range(0, 10 + 1)]"
   ]
  },
  {
   "cell_type": "markdown",
   "id": "acec6601-e7c8-44a4-a9ec-52151db65239",
   "metadata": {},
   "source": [
    "위에와 아래는 완전히 같은 방식이다.\n",
    "\n",
    "밑에처럼 쓰게 된다면 3줄을 단 1줄로 줄일 수 있다."
   ]
  },
  {
   "cell_type": "code",
   "execution_count": 42,
   "id": "6b9a6c0c-c049-4a96-a1c0-7717d454a793",
   "metadata": {},
   "outputs": [
    {
     "data": {
      "text/plain": [
       "[4, 3, 2, 1]"
      ]
     },
     "execution_count": 42,
     "metadata": {},
     "output_type": "execute_result"
    }
   ],
   "source": [
    "#sort()와 sorted()의 차이점\n",
    "\n",
    "a = [1,3,4,2]\n",
    "\n",
    "a.sort()\n",
    "a.reverse()\n",
    "a"
   ]
  },
  {
   "cell_type": "markdown",
   "id": "7d976d23-ce23-46f6-9f5e-37a9030fde05",
   "metadata": {},
   "source": [
    "a = [1,3,4,2]\n",
    "\n",
    "- a.sort()\n",
    "- a.reverse()\n",
    "- sort는 a에 저장하는 것이지만\n",
    "\n",
    "sorted(a)로 바꾸면 a에 저장되지 않는다."
   ]
  },
  {
   "cell_type": "code",
   "execution_count": 44,
   "id": "c8e25f55-47a0-4821-b533-feaf15486359",
   "metadata": {},
   "outputs": [],
   "source": [
    "###########################################"
   ]
  },
  {
   "cell_type": "markdown",
   "id": "6f1ed682-4b1d-4533-a05c-50f3d249004c",
   "metadata": {},
   "source": [
    "## 이스케이프 문자"
   ]
  },
  {
   "cell_type": "code",
   "execution_count": 50,
   "id": "e1d476e9-9418-4cc6-9d62-a7fb51341d24",
   "metadata": {},
   "outputs": [
    {
     "name": "stdout",
     "output_type": "stream",
     "text": [
      "Life is short. You need Python.\n"
     ]
    }
   ],
   "source": [
    "print(\"Life is short. You need Python.\")"
   ]
  },
  {
   "cell_type": "code",
   "execution_count": 51,
   "id": "3803e553-16ee-451f-b48a-21b2b87e14bd",
   "metadata": {},
   "outputs": [
    {
     "name": "stdout",
     "output_type": "stream",
     "text": [
      "Life is short. \n",
      "You need Python.\n"
     ]
    }
   ],
   "source": [
    "print(\"Life is short. \\nYou need Python.\")"
   ]
  },
  {
   "cell_type": "markdown",
   "id": "4e637fe2-4487-4145-ad34-573141f3e0dd",
   "metadata": {},
   "source": [
    "문자열을 벗어난다. 탈출한다. 그래서 이스케이프 문자이다."
   ]
  },
  {
   "cell_type": "code",
   "execution_count": 54,
   "id": "32014014-b205-4719-9be5-99b409d83918",
   "metadata": {},
   "outputs": [
    {
     "name": "stdout",
     "output_type": "stream",
     "text": [
      "Life is short. \tYou need Python.\n",
      "Life is short. \t\t\t\tYou need Python.\n"
     ]
    }
   ],
   "source": [
    "print(\"Life is short. \\tYou need Python.\")\n",
    "print(\"Life is short. \\t\\t\\t\\tYou need Python.\")"
   ]
  },
  {
   "cell_type": "code",
   "execution_count": 57,
   "id": "685f8ca6-40a8-42b0-b9ce-8fe6bc8febb0",
   "metadata": {},
   "outputs": [
    {
     "name": "stdout",
     "output_type": "stream",
     "text": [
      "그가 나에게 \"사랑해요\" 라고 말했다.\n"
     ]
    }
   ],
   "source": [
    "print('그가 나에게 \"사랑해요\" 라고 말했다.')"
   ]
  },
  {
   "cell_type": "code",
   "execution_count": 59,
   "id": "58b41e6e-57b1-4e19-9549-fb7650a77a47",
   "metadata": {},
   "outputs": [
    {
     "name": "stdout",
     "output_type": "stream",
     "text": [
      "그가 나에게 \"사랑해요\" 라고 말했다.\n"
     ]
    }
   ],
   "source": [
    "print(\"그가 나에게 \\\"사랑해요\\\" 라고 말했다.\")"
   ]
  },
  {
   "cell_type": "markdown",
   "id": "4924a665-e990-43b5-93b1-6294f3d1f3a0",
   "metadata": {},
   "source": [
    "역슬레쉬는 이스케이프 이다."
   ]
  },
  {
   "cell_type": "markdown",
   "id": "e97df4b3-b550-4f81-9136-8509a2223cae",
   "metadata": {},
   "source": [
    "- list comprehension"
   ]
  },
  {
   "cell_type": "code",
   "execution_count": 64,
   "id": "b5a31c6c-887f-4239-a4cb-9776fc89c970",
   "metadata": {},
   "outputs": [
    {
     "data": {
      "text/plain": [
       "[3, 6, 9, 12]"
      ]
     },
     "execution_count": 64,
     "metadata": {},
     "output_type": "execute_result"
    }
   ],
   "source": [
    "a = [1,2,3,4]\n",
    "b = []  # 빈 리스트\n",
    "for i in a : \n",
    "    b.append(i*3)  # 가급적 숫자로 시작하지 않게 하기 위해서 뒤에다가 쓴다.\n",
    "b"
   ]
  },
  {
   "cell_type": "code",
   "execution_count": 65,
   "id": "aa458a36-4dbb-459d-8d94-6842d384e2c5",
   "metadata": {},
   "outputs": [
    {
     "data": {
      "text/plain": [
       "[3, 6, 9, 12]"
      ]
     },
     "execution_count": 65,
     "metadata": {},
     "output_type": "execute_result"
    }
   ],
   "source": [
    "a = [1,2,3,4]\n",
    "[i*3 for i in a]"
   ]
  },
  {
   "cell_type": "markdown",
   "id": "7a6e2b97-0b75-49cb-81ec-81c6945dc942",
   "metadata": {},
   "source": [
    "위와 같은 방법이다."
   ]
  },
  {
   "cell_type": "markdown",
   "id": "a3f5c60c-0074-498a-ad83-fba43ed8b729",
   "metadata": {},
   "source": [
    "## while"
   ]
  },
  {
   "cell_type": "code",
   "execution_count": 66,
   "id": "39f80ca5-8bc3-4192-b490-08090cffc844",
   "metadata": {},
   "outputs": [
    {
     "name": "stdout",
     "output_type": "stream",
     "text": [
      "0\n",
      "1\n",
      "2\n",
      "3\n",
      "4\n",
      "5\n",
      "6\n",
      "7\n",
      "8\n",
      "9\n"
     ]
    }
   ],
   "source": [
    "i = 0\n",
    "while i < 10: \n",
    "    print(i)      # i가 10보다 작을때 i를 출력하라\n",
    "    i += 1 "
   ]
  },
  {
   "cell_type": "code",
   "execution_count": 67,
   "id": "3087df21-b8cf-46c1-935d-c88ac49b8d3f",
   "metadata": {},
   "outputs": [
    {
     "name": "stdout",
     "output_type": "stream",
     "text": [
      "0, 1, 2, 3, 4, 5, 6, 7, 8, 9, "
     ]
    }
   ],
   "source": [
    "i = 0\n",
    "while i < 10: \n",
    "    print(i, end = \", \")\n",
    "    i += 1 "
   ]
  },
  {
   "cell_type": "code",
   "execution_count": 70,
   "id": "0ce2722f-c63b-4d37-b311-b58fe0ba13d7",
   "metadata": {},
   "outputs": [
    {
     "name": "stdout",
     "output_type": "stream",
     "text": [
      "0, 1, 2, 3, "
     ]
    },
    {
     "ename": "KeyboardInterrupt",
     "evalue": "",
     "output_type": "error",
     "traceback": [
      "\u001b[1;31m---------------------------------------------------------------------------\u001b[0m",
      "\u001b[1;31mKeyboardInterrupt\u001b[0m                         Traceback (most recent call last)",
      "Input \u001b[1;32mIn [70]\u001b[0m, in \u001b[0;36m<cell line: 5>\u001b[1;34m()\u001b[0m\n\u001b[0;32m      6\u001b[0m \u001b[38;5;28mprint\u001b[39m(i, end \u001b[38;5;241m=\u001b[39m \u001b[38;5;124m\"\u001b[39m\u001b[38;5;124m, \u001b[39m\u001b[38;5;124m\"\u001b[39m)\n\u001b[0;32m      7\u001b[0m i \u001b[38;5;241m+\u001b[39m\u001b[38;5;241m=\u001b[39m \u001b[38;5;241m1\u001b[39m \n\u001b[1;32m----> 8\u001b[0m \u001b[43mtime\u001b[49m\u001b[38;5;241;43m.\u001b[39;49m\u001b[43msleep\u001b[49m\u001b[43m(\u001b[49m\u001b[38;5;241;43m1\u001b[39;49m\u001b[43m)\u001b[49m\n",
      "\u001b[1;31mKeyboardInterrupt\u001b[0m: "
     ]
    }
   ],
   "source": [
    "# break\n",
    "\n",
    "import time\n",
    "i = 0\n",
    "while True: \n",
    "    print(i, end = \", \")\n",
    "    i += 1 \n",
    "    time.sleep(1)                     # 1초동안 잠깐 멈춰라_ 설정하면 1초에 하나씩 출력된다."
   ]
  },
  {
   "cell_type": "code",
   "execution_count": 71,
   "id": "c97bf0d0-a325-4e6b-8335-6b2fbf07b985",
   "metadata": {},
   "outputs": [
    {
     "name": "stdout",
     "output_type": "stream",
     "text": [
      "0, 1, 2, 3, 4, 5, 6, 7, 8, 9, 끝\n"
     ]
    }
   ],
   "source": [
    "# break\n",
    "\n",
    "import time\n",
    "i = 0\n",
    "while True: \n",
    "    print(i, end = \", \")\n",
    "    i += 1 \n",
    "    time.sleep(1)\n",
    "    if i == 10 :        # i가 10이 되면 멈춰라\n",
    "        break\n",
    "        \n",
    "print(\"끝\")"
   ]
  },
  {
   "cell_type": "code",
   "execution_count": 82,
   "id": "a53185d6-28c5-4e00-b53b-9723f8b1391c",
   "metadata": {},
   "outputs": [
    {
     "name": "stdout",
     "output_type": "stream",
     "text": [
      "55\n"
     ]
    }
   ],
   "source": [
    "# 1부터 10까지의 합을 while 문으로 나타내기.\n",
    "\n",
    "i = 0\n",
    "sum = 0      # 먼저 변수 장만하기.\n",
    "\n",
    "while i < 10 :   # while을 if라고 생각해주기.\n",
    "    i += 1 \n",
    "    sum += i  # sum은 i 만큼씩만 더해주기.\n",
    "    \n",
    "print(sum)"
   ]
  },
  {
   "cell_type": "code",
   "execution_count": 84,
   "id": "0057dead-5404-4fd6-924c-8e83c0321e33",
   "metadata": {},
   "outputs": [
    {
     "name": "stdout",
     "output_type": "stream",
     "text": [
      "18\n"
     ]
    }
   ],
   "source": [
    "# 조건 걸어보기.\n",
    "# 1부터 10까지 3의 배수만 합을 while 문으로 나타내기.\n",
    "\n",
    "i = 0\n",
    "sum = 0\n",
    "\n",
    "while i < 10 :\n",
    "    i += 1\n",
    "    if i % 3 == 0:\n",
    "        sum += i \n",
    "\n",
    "    \n",
    "print(sum)"
   ]
  },
  {
   "cell_type": "markdown",
   "id": "8c021e59-8f8e-42ba-b86f-810dba961b83",
   "metadata": {},
   "source": [
    "## continue 사용법"
   ]
  },
  {
   "cell_type": "code",
   "execution_count": 91,
   "id": "7cbc4d39-580a-4ebb-8965-b9695443d4a6",
   "metadata": {},
   "outputs": [
    {
     "name": "stdout",
     "output_type": "stream",
     "text": [
      "1\n",
      "2\n",
      "4\n",
      "5\n",
      "7\n",
      "8\n",
      "10\n"
     ]
    }
   ],
   "source": [
    "i = 0\n",
    "while i < 10 :\n",
    "    i += 1  \n",
    "    if i % 3 == 0:    #이 조건을 충족하면 루프처럼 쭉 도는게 아니라 조건까지 멈추고 다음을 실행한다.\n",
    "        continue\n",
    "    print(i)"
   ]
  },
  {
   "cell_type": "markdown",
   "id": "e75b917a-4f21-4ef3-a17f-a24d258ace7c",
   "metadata": {},
   "source": [
    "결과적으로 3의 배수는 빠지게 되었다."
   ]
  },
  {
   "cell_type": "code",
   "execution_count": 93,
   "id": "f6a2dd08-5e1f-4c52-a997-fe661da81ec4",
   "metadata": {},
   "outputs": [
    {
     "name": "stdout",
     "output_type": "stream",
     "text": [
      "37\n"
     ]
    }
   ],
   "source": [
    "# 3의 배수가 아닌 수의 합 (1부터 10까지)을 구하여라.\n",
    "\n",
    "i = 0\n",
    "sum = 0\n",
    "\n",
    "while i < 10 :\n",
    "    i += 1  \n",
    "    if i % 3 == 0: \n",
    "        continue\n",
    "    sum += i\n",
    "        \n",
    "print(sum)"
   ]
  },
  {
   "cell_type": "code",
   "execution_count": 97,
   "id": "0245557b-0221-4165-a76d-bf0fb2a07082",
   "metadata": {},
   "outputs": [],
   "source": [
    "import random"
   ]
  },
  {
   "cell_type": "code",
   "execution_count": 113,
   "id": "d17d4e41-80cb-44b2-8872-092aaf74f8a1",
   "metadata": {},
   "outputs": [
    {
     "data": {
      "text/plain": [
       "5"
      ]
     },
     "execution_count": 113,
     "metadata": {},
     "output_type": "execute_result"
    }
   ],
   "source": [
    "random.randint(1, 10)   # 1부터 10까지 랜덤 숫자."
   ]
  },
  {
   "cell_type": "code",
   "execution_count": 115,
   "id": "21c818b5-35a6-4840-95cc-747b7f706920",
   "metadata": {},
   "outputs": [],
   "source": [
    "i = random.randint(1, 10)"
   ]
  },
  {
   "cell_type": "code",
   "execution_count": 177,
   "id": "fd37fb2e-e67d-42f1-a74a-59ddb4b8719b",
   "metadata": {},
   "outputs": [
    {
     "name": "stdout",
     "output_type": "stream",
     "text": [
      "102\n"
     ]
    }
   ],
   "source": [
    "# 7보다 작은 수들의 합\n",
    "i = 0\n",
    "sum = 0\n",
    "\n",
    "while True:\n",
    "    i = random.randint(1, 10)  # 돌때마다 i값은 랜덤하게 돈다.\n",
    "    if i > 7 :\n",
    "        continue\n",
    "        \n",
    "    sum += i\n",
    "    if sum > 100:\n",
    "        break\n",
    "    \n",
    "print(sum)"
   ]
  },
  {
   "cell_type": "code",
   "execution_count": 193,
   "id": "36719091-0d98-48ca-a206-cac7d38cfa9e",
   "metadata": {},
   "outputs": [
    {
     "name": "stdout",
     "output_type": "stream",
     "text": [
      "23\n"
     ]
    }
   ],
   "source": [
    "# 3의 배수 또는 5의 배수의 합(10이하의 수까지)\n",
    "\n",
    "i = 0\n",
    "sum = 0\n",
    "\n",
    "while i < 10 :\n",
    "    if i % 3 == 0 or i % 5 == 0:\n",
    "        sum += i    \n",
    "    else:\n",
    "        pass\n",
    "    i += 1\n",
    "        \n",
    "print(sum)"
   ]
  },
  {
   "cell_type": "markdown",
   "id": "8531f56d-9a06-4129-ab4a-f6fd31b5fe15",
   "metadata": {},
   "source": [
    "```\n",
    "############################################\n",
    "treeHit = 0\n",
    "while treeHit < 10:\n",
    "    treeHit = treeHit +1\n",
    "    print(f\"나무를 {treeHit}번 찍었습니다.\" )\n",
    "    if treeHit == 10:\n",
    "        print(\"나무 넘어갑니다.\")\n",
    "        \n",
    "\n",
    "변수로 나타내주려고 하는것 {}표시와 앞에 잊지 말기!\n",
    "#############################################\n",
    "```"
   ]
  },
  {
   "cell_type": "markdown",
   "id": "53e89d67-359a-4493-b391-e4dbb3eb0759",
   "metadata": {},
   "source": [
    "# 함수\n",
    "```\n",
    "def 함수이름( , ) : \n",
    "   실행할 문장\n",
    "   return 변수\n",
    "\n",
    "```"
   ]
  },
  {
   "cell_type": "code",
   "execution_count": 199,
   "id": "72ef9f74-2d35-4003-8acd-4c47da0d2500",
   "metadata": {},
   "outputs": [],
   "source": [
    "def add(a, b):\n",
    "    c = a + b\n",
    "    return c   # c에게 정의를 내려줌"
   ]
  },
  {
   "cell_type": "code",
   "execution_count": 201,
   "id": "465092d1-b1b3-434b-b85c-0f6cbee787b5",
   "metadata": {},
   "outputs": [
    {
     "data": {
      "text/plain": [
       "3"
      ]
     },
     "execution_count": 201,
     "metadata": {},
     "output_type": "execute_result"
    }
   ],
   "source": [
    "add(1, 2)   # 쉽게 함수가 만들어졌다."
   ]
  },
  {
   "cell_type": "markdown",
   "id": "cd25d3c5-03ab-4fff-bf8c-b37135d57a12",
   "metadata": {},
   "source": [
    "- 입력값이 한 개인 경우"
   ]
  },
  {
   "cell_type": "code",
   "execution_count": 208,
   "id": "d28a77bd-c116-4036-9834-bbe81dd026e6",
   "metadata": {},
   "outputs": [],
   "source": [
    "# 입력받은 값을 2배해서 내놓는 함수 twice\n",
    "def twice(a):\n",
    "    b = 2*a\n",
    "    return b"
   ]
  },
  {
   "cell_type": "code",
   "execution_count": 207,
   "id": "13be836e-18f8-4c9f-a3e3-e6632d0d9177",
   "metadata": {},
   "outputs": [
    {
     "data": {
      "text/plain": [
       "8"
      ]
     },
     "execution_count": 207,
     "metadata": {},
     "output_type": "execute_result"
    }
   ],
   "source": [
    "twice(4)"
   ]
  },
  {
   "cell_type": "code",
   "execution_count": 209,
   "id": "2804b073-5845-42ab-8be9-4b94cdc48807",
   "metadata": {},
   "outputs": [],
   "source": [
    "def twice(a):\n",
    "    b = 2*a\n",
    "    return b\n",
    "\n",
    "def twice(a):\n",
    "    return 2*a"
   ]
  },
  {
   "cell_type": "markdown",
   "id": "9233df3a-aaa7-4214-8111-9cfa9313938b",
   "metadata": {},
   "source": [
    "- 입력값이 없는 경우도 출력 가능하다."
   ]
  },
  {
   "cell_type": "code",
   "execution_count": 210,
   "id": "83baa0f8-2168-4fc5-925c-946c9c40f30c",
   "metadata": {},
   "outputs": [],
   "source": [
    "def add():\n",
    "    a = 10\n",
    "    b = 20\n",
    "    return a+b"
   ]
  },
  {
   "cell_type": "code",
   "execution_count": 211,
   "id": "5ec584f8-3283-4ec0-9c01-f5291dbf900f",
   "metadata": {},
   "outputs": [
    {
     "data": {
      "text/plain": [
       "30"
      ]
     },
     "execution_count": 211,
     "metadata": {},
     "output_type": "execute_result"
    }
   ],
   "source": [
    "add()"
   ]
  },
  {
   "cell_type": "code",
   "execution_count": 219,
   "id": "3d24c20f-9dfb-4365-a29b-7c13cdcf8830",
   "metadata": {},
   "outputs": [],
   "source": [
    "# 홀수이면 2배, 작수이면 나누기 2를 해서 리턴하는 함수.\n",
    "#def odd_even(a):\n",
    "#b = 2*a\n",
    "\n",
    "\n",
    "def odd_even(a):\n",
    "  if a % 2 != 0:\n",
    "    return 2*a\n",
    "  else:\n",
    "    return a/2 "
   ]
  },
  {
   "cell_type": "code",
   "execution_count": 220,
   "id": "45a963e8-5a5b-470e-a6eb-cfc079b1f6ab",
   "metadata": {},
   "outputs": [
    {
     "data": {
      "text/plain": [
       "6"
      ]
     },
     "execution_count": 220,
     "metadata": {},
     "output_type": "execute_result"
    }
   ],
   "source": [
    "odd_even(3)"
   ]
  },
  {
   "cell_type": "markdown",
   "id": "ba5dd8d1-5dde-47d9-aea0-802c4f64ab36",
   "metadata": {},
   "source": [
    "- 리턴값이 2개 이상일 수 있다."
   ]
  },
  {
   "cell_type": "code",
   "execution_count": 221,
   "id": "03102d43-7edd-445d-98a2-2e7a1ec4fae2",
   "metadata": {},
   "outputs": [],
   "source": [
    "def add():\n",
    "    a = 10\n",
    "    b = 20\n",
    "    return a + b, a-b"
   ]
  },
  {
   "cell_type": "code",
   "execution_count": 222,
   "id": "67b63eb6-6f90-487a-901a-16492d6c8195",
   "metadata": {},
   "outputs": [
    {
     "data": {
      "text/plain": [
       "(30, -10)"
      ]
     },
     "execution_count": 222,
     "metadata": {},
     "output_type": "execute_result"
    }
   ],
   "source": [
    "add()"
   ]
  },
  {
   "cell_type": "code",
   "execution_count": 227,
   "id": "f88b6a81-ddb3-4a14-93d1-74ac6b5e7907",
   "metadata": {},
   "outputs": [
    {
     "data": {
      "text/plain": [
       "(30, -10)"
      ]
     },
     "execution_count": 227,
     "metadata": {},
     "output_type": "execute_result"
    }
   ],
   "source": [
    "a = add()\n",
    "a"
   ]
  },
  {
   "cell_type": "markdown",
   "id": "a397e4f2-ceaf-48aa-8b48-9ee7bbf20c42",
   "metadata": {},
   "source": [
    "a가 하나여서 하나로 묶여버림(튜플)"
   ]
  },
  {
   "cell_type": "code",
   "execution_count": 228,
   "id": "c3f00d1b-765d-43a8-8f63-a9eb0ad4f76d",
   "metadata": {},
   "outputs": [
    {
     "name": "stdout",
     "output_type": "stream",
     "text": [
      "(30, -10)\n",
      "30\n",
      "-10\n"
     ]
    }
   ],
   "source": [
    "a = add()\n",
    "print(a)\n",
    "\n",
    "c, d = add()\n",
    "print(c)\n",
    "print(d)"
   ]
  },
  {
   "cell_type": "markdown",
   "id": "8f5d274c-c35f-4aeb-881d-7f9813540d2a",
   "metadata": {},
   "source": [
    "- 기본값(디폴트 값)이 있는 경우"
   ]
  },
  {
   "cell_type": "code",
   "execution_count": 231,
   "id": "90d0caa0-060b-4943-ae5a-d7c1a1857db4",
   "metadata": {},
   "outputs": [],
   "source": [
    " def add(a, b, c = 100):\n",
    "    result = a + b + c\n",
    "    return result"
   ]
  },
  {
   "cell_type": "code",
   "execution_count": 234,
   "id": "ef24a314-0dfe-4adf-b50f-0d4542c269e8",
   "metadata": {},
   "outputs": [
    {
     "data": {
      "text/plain": [
       "103"
      ]
     },
     "execution_count": 234,
     "metadata": {},
     "output_type": "execute_result"
    }
   ],
   "source": [
    "add(1, 2)"
   ]
  },
  {
   "cell_type": "code",
   "execution_count": 235,
   "id": "4b93f5b1-327b-4414-990f-9585f68911d0",
   "metadata": {},
   "outputs": [
    {
     "data": {
      "text/plain": [
       "6"
      ]
     },
     "execution_count": 235,
     "metadata": {},
     "output_type": "execute_result"
    }
   ],
   "source": [
    "add(1, 2, 3)"
   ]
  },
  {
   "cell_type": "code",
   "execution_count": 236,
   "id": "25d36bf4-bf4a-4f06-8b33-4f06ac599383",
   "metadata": {},
   "outputs": [
    {
     "data": {
      "text/plain": [
       "6"
      ]
     },
     "execution_count": 236,
     "metadata": {},
     "output_type": "execute_result"
    }
   ],
   "source": [
    "add(a = 1, b = 2, c = 3)"
   ]
  },
  {
   "cell_type": "markdown",
   "id": "741671f0-d51b-453b-9696-b3b35ac28520",
   "metadata": {},
   "source": [
    "- 기본값은 맨 뒤에 정의된다. - 이따가 찾아보기"
   ]
  },
  {
   "cell_type": "markdown",
   "id": "40c4e88c-6ade-4773-90dd-40088544b7e4",
   "metadata": {},
   "source": [
    "- 입력값이 여러개인 경우"
   ]
  },
  {
   "cell_type": "code",
   "execution_count": 251,
   "id": "58b5270e-a2af-4679-b63b-67b347becb5a",
   "metadata": {},
   "outputs": [],
   "source": [
    "def add(*args):      # 여러개를 받으려면 앞에 *표시를 해야한다.\n",
    "    sum = 0\n",
    "    for i in args:\n",
    "        sum += i\n",
    "    return sum"
   ]
  },
  {
   "cell_type": "code",
   "execution_count": 250,
   "id": "2e1f3415-ea1b-4202-8807-5bc89c823307",
   "metadata": {},
   "outputs": [
    {
     "data": {
      "text/plain": [
       "10"
      ]
     },
     "execution_count": 250,
     "metadata": {},
     "output_type": "execute_result"
    }
   ],
   "source": [
    "add(1,2,3,4)"
   ]
  },
  {
   "cell_type": "code",
   "execution_count": 252,
   "id": "7161b1a4-1d26-4de0-9926-0ae6d3e96275",
   "metadata": {},
   "outputs": [
    {
     "name": "stdin",
     "output_type": "stream",
     "text": [
      "숫자를 입력해주세요. 100\n"
     ]
    },
    {
     "name": "stdout",
     "output_type": "stream",
     "text": [
      "5050\n"
     ]
    }
   ],
   "source": [
    "# 1부터 입력받은 수까지의 합\n",
    "num = int(input(\"숫자를 입력해주세요.\"))\n",
    "sum = 0\n",
    "for i in range(num +1):\n",
    "    sum += i\n",
    "print(sum)"
   ]
  },
  {
   "cell_type": "code",
   "execution_count": 253,
   "id": "63a1ec65-d1b2-4156-8ba4-175e8296bdf3",
   "metadata": {},
   "outputs": [],
   "source": [
    "def add(num):\n",
    "    sum = 0\n",
    "    for i in range(num +1):\n",
    "        sum += i\n",
    "    return sum"
   ]
  },
  {
   "cell_type": "code",
   "execution_count": 254,
   "id": "ad161a3c-49b7-41e2-b09a-e469690adc5f",
   "metadata": {},
   "outputs": [
    {
     "data": {
      "text/plain": [
       "55"
      ]
     },
     "execution_count": 254,
     "metadata": {},
     "output_type": "execute_result"
    }
   ],
   "source": [
    "add(10)"
   ]
  },
  {
   "cell_type": "code",
   "execution_count": 265,
   "id": "3c0c25ed-4334-460c-9414-dd33663570fd",
   "metadata": {},
   "outputs": [],
   "source": [
    "# 두 수를 입력받아서.. 합은?\n",
    "\n",
    "def two_sum(a, b):\n",
    "    sum = 0\n",
    "    for i in range (a, b+1):\n",
    "        sum += i\n",
    "    return(sum)"
   ]
  },
  {
   "cell_type": "code",
   "execution_count": 267,
   "id": "814aee56-b4ff-413e-9930-ca271725bc43",
   "metadata": {},
   "outputs": [
    {
     "data": {
      "text/plain": [
       "6"
      ]
     },
     "execution_count": 267,
     "metadata": {},
     "output_type": "execute_result"
    }
   ],
   "source": [
    "two_sum(1,3)"
   ]
  },
  {
   "cell_type": "markdown",
   "id": "8bcf9306-d4ea-4a58-a5c6-31b7161c4f37",
   "metadata": {},
   "source": [
    "- return과 print의 차이"
   ]
  },
  {
   "cell_type": "code",
   "execution_count": 268,
   "id": "360b7d49-1e4f-4371-a339-4af035d22317",
   "metadata": {},
   "outputs": [],
   "source": [
    "def func_r(a):\n",
    "    return(a*2)\n",
    "\n",
    "def func_p(a):\n",
    "    print(a*2)"
   ]
  },
  {
   "cell_type": "code",
   "execution_count": 270,
   "id": "9e5f0d04-176b-4072-9ef4-3e1409efe0f3",
   "metadata": {},
   "outputs": [
    {
     "data": {
      "text/plain": [
       "6"
      ]
     },
     "execution_count": 270,
     "metadata": {},
     "output_type": "execute_result"
    }
   ],
   "source": [
    "func_r (3)"
   ]
  },
  {
   "cell_type": "code",
   "execution_count": 271,
   "id": "41389ef3-de38-4d4e-8ee6-00c23eb12655",
   "metadata": {},
   "outputs": [
    {
     "name": "stdout",
     "output_type": "stream",
     "text": [
      "6\n"
     ]
    }
   ],
   "source": [
    "func_p(3)"
   ]
  },
  {
   "cell_type": "code",
   "execution_count": 274,
   "id": "29173bdc-8d39-4463-ada6-dfcd36fd223d",
   "metadata": {},
   "outputs": [
    {
     "data": {
      "text/plain": [
       "3.0"
      ]
     },
     "execution_count": 274,
     "metadata": {},
     "output_type": "execute_result"
    }
   ],
   "source": [
    "b = func_r(3)\n",
    "b/2"
   ]
  },
  {
   "cell_type": "code",
   "execution_count": 275,
   "id": "4ee579df-7fb0-4b3f-bc5d-479cea9cb336",
   "metadata": {},
   "outputs": [
    {
     "name": "stdout",
     "output_type": "stream",
     "text": [
      "6\n"
     ]
    },
    {
     "ename": "TypeError",
     "evalue": "unsupported operand type(s) for /: 'NoneType' and 'int'",
     "output_type": "error",
     "traceback": [
      "\u001b[1;31m---------------------------------------------------------------------------\u001b[0m",
      "\u001b[1;31mTypeError\u001b[0m                                 Traceback (most recent call last)",
      "Input \u001b[1;32mIn [275]\u001b[0m, in \u001b[0;36m<cell line: 2>\u001b[1;34m()\u001b[0m\n\u001b[0;32m      1\u001b[0m b \u001b[38;5;241m=\u001b[39m func_p(\u001b[38;5;241m3\u001b[39m)\n\u001b[1;32m----> 2\u001b[0m \u001b[43mb\u001b[49m\u001b[38;5;241;43m/\u001b[39;49m\u001b[38;5;241;43m2\u001b[39;49m\n",
      "\u001b[1;31mTypeError\u001b[0m: unsupported operand type(s) for /: 'NoneType' and 'int'"
     ]
    }
   ],
   "source": [
    "b = func_p(3)\n",
    "b/2"
   ]
  },
  {
   "cell_type": "code",
   "execution_count": 276,
   "id": "319fd9a7-44af-4697-8708-8faa805330f5",
   "metadata": {},
   "outputs": [
    {
     "data": {
      "text/plain": [
       "NoneType"
      ]
     },
     "execution_count": 276,
     "metadata": {},
     "output_type": "execute_result"
    }
   ],
   "source": [
    "type(b)"
   ]
  },
  {
   "cell_type": "markdown",
   "id": "851cf91e-6a6d-417a-9c28-570616662b51",
   "metadata": {},
   "source": [
    "왜 오류가 뜨는가?\n",
    "print는 b로 들어가는게 아니라 화면에 출력하고 끝난것임.\n",
    "\n",
    "그렇다며 b는 아무것도 없기 때문에 오류가 뜨는것임."
   ]
  },
  {
   "cell_type": "code",
   "execution_count": 277,
   "id": "da25328f-1b15-4216-91bc-17d5fce0e20e",
   "metadata": {},
   "outputs": [
    {
     "name": "stdout",
     "output_type": "stream",
     "text": [
      "6\n",
      "...\n",
      "None\n"
     ]
    },
    {
     "ename": "TypeError",
     "evalue": "unsupported operand type(s) for /: 'NoneType' and 'int'",
     "output_type": "error",
     "traceback": [
      "\u001b[1;31m---------------------------------------------------------------------------\u001b[0m",
      "\u001b[1;31mTypeError\u001b[0m                                 Traceback (most recent call last)",
      "Input \u001b[1;32mIn [277]\u001b[0m, in \u001b[0;36m<cell line: 4>\u001b[1;34m()\u001b[0m\n\u001b[0;32m      2\u001b[0m \u001b[38;5;28mprint\u001b[39m(\u001b[38;5;124m\"\u001b[39m\u001b[38;5;124m...\u001b[39m\u001b[38;5;124m\"\u001b[39m)\n\u001b[0;32m      3\u001b[0m \u001b[38;5;28mprint\u001b[39m(b)\n\u001b[1;32m----> 4\u001b[0m \u001b[43mb\u001b[49m\u001b[38;5;241;43m/\u001b[39;49m\u001b[38;5;241;43m2\u001b[39;49m\n",
      "\u001b[1;31mTypeError\u001b[0m: unsupported operand type(s) for /: 'NoneType' and 'int'"
     ]
    }
   ],
   "source": [
    "b = func_p(3)\n",
    "print(\"...\")\n",
    "print(b)\n",
    "b/2"
   ]
  },
  {
   "cell_type": "markdown",
   "id": "ff0fe78e-d4f2-4afa-9d32-a08a0bf0c773",
   "metadata": {},
   "source": [
    "p155 책에서 a 변수에 None을 돌려준다. 라는 뜻임\n",
    "(쉽게 말해서 print는 화면에 띄어주기만 하기 때문에\n",
    " return을 사용해야 한다는 뜻)"
   ]
  },
  {
   "cell_type": "code",
   "execution_count": 279,
   "id": "2f571d75-da8c-482d-9dd2-ca31b14c2e2f",
   "metadata": {},
   "outputs": [],
   "source": [
    "def kw_test(**kwargs):\n",
    "    print(kwargs)"
   ]
  },
  {
   "cell_type": "code",
   "execution_count": 280,
   "id": "ffadb5a5-1a93-4f90-96e0-a5c75ff461b7",
   "metadata": {},
   "outputs": [
    {
     "name": "stdout",
     "output_type": "stream",
     "text": [
      "{'a': 1, 'b': 2}\n"
     ]
    }
   ],
   "source": [
    "kw_test(a = 1, b = 2)"
   ]
  },
  {
   "cell_type": "markdown",
   "id": "d6948446-c9af-429f-ba92-024a15ce0fa6",
   "metadata": {},
   "source": [
    "딕셔너리와 같은 것임"
   ]
  },
  {
   "cell_type": "code",
   "execution_count": 284,
   "id": "9832ea0f-a82e-49c5-a037-2232a330af12",
   "metadata": {},
   "outputs": [],
   "source": [
    "def kw_test(*kwargs):\n",
    "    print(kwargs)"
   ]
  },
  {
   "cell_type": "code",
   "execution_count": 285,
   "id": "93606bf1-c786-4708-bebf-ec4076ba525e",
   "metadata": {},
   "outputs": [
    {
     "name": "stdout",
     "output_type": "stream",
     "text": [
      "(1, 2, 3, 4)\n"
     ]
    }
   ],
   "source": [
    "kw_test(1, 2, 3, 4)"
   ]
  },
  {
   "cell_type": "markdown",
   "id": "24bdd5f5-80e8-418b-8361-1afa9ba522d9",
   "metadata": {},
   "source": [
    "```\n",
    "myself(\"홍길동\", 20)\n",
    "\n",
    "나의 이름은 홍길동이고 나이는 20세 입니다.\n",
    "```"
   ]
  },
  {
   "cell_type": "code",
   "execution_count": 296,
   "id": "c310eb4a-1e91-47c0-a662-8a7f40f56963",
   "metadata": {},
   "outputs": [
    {
     "name": "stdout",
     "output_type": "stream",
     "text": [
      "나의 이름은 홍길동이고, 나이는 20입니다.\n"
     ]
    }
   ],
   "source": [
    "myself(\"홍길동\", 20)\n",
    "def myself(name, age):\n",
    "    print(f'나의 이름은 {name}이고, 나이는 {age}입니다.')"
   ]
  },
  {
   "cell_type": "code",
   "execution_count": 306,
   "id": "4b8cd29e-48db-4c3f-9f7e-cf887745023a",
   "metadata": {},
   "outputs": [
    {
     "data": {
      "text/plain": [
       "8"
      ]
     },
     "execution_count": 306,
     "metadata": {},
     "output_type": "execute_result"
    }
   ],
   "source": [
    "d = 5     # global: 전역변수\n",
    "def add(a, b):\n",
    "    c = a + b    # Local : 지역변수\n",
    "    \n",
    "    return c+d\n",
    "add(1, 2)\n",
    "#print(d)"
   ]
  },
  {
   "cell_type": "markdown",
   "id": "43ffae11-73ef-483b-8aca-64cf4a9ccc0f",
   "metadata": {},
   "source": [
    "### 람다함수"
   ]
  },
  {
   "cell_type": "code",
   "execution_count": 307,
   "id": "1dc98c8e-7bd0-456c-beaf-21b9195b3ef1",
   "metadata": {},
   "outputs": [
    {
     "data": {
      "text/plain": [
       "3"
      ]
     },
     "execution_count": 307,
     "metadata": {},
     "output_type": "execute_result"
    }
   ],
   "source": [
    "def add(a,b):\n",
    "    return a+b\n",
    "add(1,2)"
   ]
  },
  {
   "cell_type": "code",
   "execution_count": 308,
   "id": "31ff4799-9106-4215-8a49-b17d6cb7896e",
   "metadata": {},
   "outputs": [
    {
     "data": {
      "text/plain": [
       "3"
      ]
     },
     "execution_count": 308,
     "metadata": {},
     "output_type": "execute_result"
    }
   ],
   "source": [
    "(lambda a, b: a+b)(1,2)"
   ]
  },
  {
   "cell_type": "markdown",
   "id": "a20cbf23-5fa5-4dce-af82-d703ab011b21",
   "metadata": {},
   "source": [
    "많이 쓰이기 때문에 기억해두기.\n",
    "\n",
    "이름 지어주기 싫으면 람다 사용하기"
   ]
  },
  {
   "cell_type": "code",
   "execution_count": 309,
   "id": "05b450ba-0fa3-42b5-b3be-483d67a31129",
   "metadata": {},
   "outputs": [
    {
     "data": {
      "text/plain": [
       "3"
      ]
     },
     "execution_count": 309,
     "metadata": {},
     "output_type": "execute_result"
    }
   ],
   "source": [
    "f = lambda a, b: a+b\n",
    "f(1,2)"
   ]
  },
  {
   "cell_type": "markdown",
   "id": "ebd9710c-8bf7-4ab3-8f19-46c8f95f4890",
   "metadata": {},
   "source": [
    "- 재귀함수\n",
    "\n",
    "자기 안에 자기 자신이 들어가 있는 함수"
   ]
  },
  {
   "cell_type": "code",
   "execution_count": 316,
   "id": "16154cdb-7de7-4b23-8c49-f769baebc651",
   "metadata": {},
   "outputs": [],
   "source": [
    "import time\n",
    "def hello():\n",
    "    print(\"안녕하세요\")\n",
    "    time.sleep(1)\n",
    "    return\n",
    "    hello()"
   ]
  },
  {
   "cell_type": "code",
   "execution_count": 317,
   "id": "e000406a-b82e-4bd5-8bce-bda4552550f4",
   "metadata": {
    "tags": []
   },
   "outputs": [
    {
     "name": "stdout",
     "output_type": "stream",
     "text": [
      "안녕하세요\n"
     ]
    }
   ],
   "source": [
    "hello()"
   ]
  },
  {
   "cell_type": "code",
   "execution_count": 326,
   "id": "d9373de3-5462-4753-89b1-3146f938b0ce",
   "metadata": {},
   "outputs": [],
   "source": [
    "import time\n",
    "def hello(count):\n",
    "    if count == 0 :\n",
    "        return\n",
    "    print(\"안녕하세요\")\n",
    "    time.sleep(1)\n",
    "    count -= 1\n",
    "    hello(count)"
   ]
  },
  {
   "cell_type": "code",
   "execution_count": 327,
   "id": "f636e925-7840-4a6a-b1eb-95af88830f05",
   "metadata": {},
   "outputs": [
    {
     "name": "stdout",
     "output_type": "stream",
     "text": [
      "안녕하세요\n",
      "안녕하세요\n",
      "안녕하세요\n"
     ]
    }
   ],
   "source": [
    "hello(3)"
   ]
  },
  {
   "cell_type": "code",
   "execution_count": null,
   "id": "0bc74b2e-03d8-428f-ad28-e23d0a10b384",
   "metadata": {},
   "outputs": [],
   "source": []
  }
 ],
 "metadata": {
  "kernelspec": {
   "display_name": "Python 3 (ipykernel)",
   "language": "python",
   "name": "python3"
  },
  "language_info": {
   "codemirror_mode": {
    "name": "ipython",
    "version": 3
   },
   "file_extension": ".py",
   "mimetype": "text/x-python",
   "name": "python",
   "nbconvert_exporter": "python",
   "pygments_lexer": "ipython3",
   "version": "3.10.6"
  }
 },
 "nbformat": 4,
 "nbformat_minor": 5
}
