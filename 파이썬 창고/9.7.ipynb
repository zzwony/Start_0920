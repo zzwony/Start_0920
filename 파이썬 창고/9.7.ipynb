{
 "cells": [
  {
   "cell_type": "markdown",
   "id": "23e34558-7190-4aa9-9636-1b5e02574b91",
   "metadata": {},
   "source": [
    "# 파일 입출력\n",
    "## 파일 쓰기"
   ]
  },
  {
   "cell_type": "code",
   "execution_count": 8,
   "id": "fe11e72b-6aeb-4278-8961-0cf45f33071c",
   "metadata": {},
   "outputs": [],
   "source": [
    "f = open('new.txt', 'w')  #'new.txt'를 f라는 오브젝트에 할당한것\n",
    "f.write('Hello')          # 할당 되었기 때문에 똑같이 메소드 사용 가능\n",
    "f.close()                 # close() 열어서 객체를 만들었으니 꼭 닫아줘야한다.\n",
    "                          # 이것이 전형적인 형태이다."
   ]
  },
  {
   "cell_type": "markdown",
   "id": "c7d402af-370a-4e6e-9b01-230c37e3cbb3",
   "metadata": {},
   "source": [
    "```\n",
    "r : read\n",
    "w : write\n",
    "a : append\n",
    "\n",
    "b : binary : 텍스트가 아닌 모든것 (음악, 사진, 동영상)\n",
    "\n",
    "가장 많이 씀 -> wb : 텍스트가 아닌 것을 저장할때 합쳐서 쓴다.\n",
    "```"
   ]
  },
  {
   "cell_type": "code",
   "execution_count": 6,
   "id": "c7f97c33-8065-47bb-a7e9-0234e0dd2784",
   "metadata": {},
   "outputs": [
    {
     "data": {
      "text/plain": [
       "_io.TextIOWrapper"
      ]
     },
     "execution_count": 6,
     "metadata": {},
     "output_type": "execute_result"
    }
   ],
   "source": [
    "type(f)"
   ]
  },
  {
   "cell_type": "markdown",
   "id": "769c9bba-29a0-4554-a1bd-4c84fc904aa7",
   "metadata": {},
   "source": [
    "쓰기 객체라고 나와있는것이다."
   ]
  },
  {
   "cell_type": "code",
   "execution_count": 1,
   "id": "335e7d4e-68ec-49d3-9b0c-f270d0835cff",
   "metadata": {},
   "outputs": [],
   "source": [
    "f = open('new.txt', 'a')    # 전의 입력값을 남겨준다.\n",
    "f.write('\\nGood Morning')   # \\n으로 띄어쓰기를 해줌.     \n",
    "f.close() "
   ]
  },
  {
   "cell_type": "code",
   "execution_count": 2,
   "id": "2a146bb5-be01-4bde-a32d-7e14c176c609",
   "metadata": {},
   "outputs": [],
   "source": [
    "f = open('new.txt', 'w')\n",
    "f.write('Hello \\n')\n",
    "f.write('Good Morning \\n')\n",
    "f.write('Good Afternoon')        \n",
    "f.close() "
   ]
  },
  {
   "cell_type": "code",
   "execution_count": 132,
   "id": "bfe744c0-14fb-4460-8e8b-e2cb79aa736f",
   "metadata": {},
   "outputs": [],
   "source": [
    "f = open('new.txt', 'w')\n",
    "for i in range(10):\n",
    "    f.write(f'{i} \\n')        \n",
    "f.close() "
   ]
  },
  {
   "cell_type": "code",
   "execution_count": 133,
   "id": "0f7168af-d51a-4977-aac4-0fa61fc530bc",
   "metadata": {},
   "outputs": [],
   "source": [
    "f = open('new.txt', 'w')\n",
    "for i in range(10):\n",
    "    f.write(f'{i} \\n')        \n",
    "f.close() "
   ]
  },
  {
   "cell_type": "code",
   "execution_count": 134,
   "id": "dca3e92d-8174-446b-ac4e-2fb2009fea71",
   "metadata": {},
   "outputs": [],
   "source": [
    "f = open(\"new.txt\", 'a')\n",
    "for i in range(10):\n",
    "    f.write(f\"Good Morning\\n\")\n",
    "f.close() "
   ]
  },
  {
   "cell_type": "markdown",
   "id": "d8e8d974-3976-4597-b9e2-b18147d58d63",
   "metadata": {},
   "source": [
    "- with open() as f: \n",
    "\n",
    "  정해진 형태임"
   ]
  },
  {
   "cell_type": "code",
   "execution_count": 26,
   "id": "08df7e86-2fab-44a8-b22a-19342556f1c8",
   "metadata": {},
   "outputs": [],
   "source": [
    "f = open('new.txt', 'w')  \n",
    "f.write('Hello \\n')         \n",
    "f.close()"
   ]
  },
  {
   "cell_type": "code",
   "execution_count": 27,
   "id": "c6d4f8b1-528c-4ea3-a0d7-000cadf0f627",
   "metadata": {},
   "outputs": [],
   "source": [
    "with open('new.txt', 'w') as f:\n",
    "    f.write('Hello \\n')"
   ]
  },
  {
   "cell_type": "code",
   "execution_count": 29,
   "id": "5691046a-9906-4362-b184-8dc619482100",
   "metadata": {},
   "outputs": [],
   "source": [
    "f = open(\"new.txt\", 'w')\n",
    "for i in range(10):\n",
    "    f.write(f\"Good Morning\\n\")\n",
    "f.close() "
   ]
  },
  {
   "cell_type": "code",
   "execution_count": 39,
   "id": "a2af6e62-2d43-4bdb-948e-d070cd3d385f",
   "metadata": {},
   "outputs": [],
   "source": [
    "with open(\"new.txt\", 'a') as f:\n",
    "     for _ in range(10):\n",
    "            f.write(\"Good Morning\\n\")\n",
    "    # 최종적으론 이렇게 쓴다."
   ]
  },
  {
   "cell_type": "markdown",
   "id": "65ba0f01-988b-4fef-a954-25eb9413b412",
   "metadata": {},
   "source": [
    "## 파일 읽기"
   ]
  },
  {
   "cell_type": "markdown",
   "id": "d575e6da-8e0c-48fe-8cc9-eda7c3c93057",
   "metadata": {},
   "source": [
    "- f.readline()"
   ]
  },
  {
   "cell_type": "code",
   "execution_count": 41,
   "id": "e594de82-b04a-4455-b07c-0c752db3ee55",
   "metadata": {},
   "outputs": [],
   "source": [
    "with open(\"new.txt\", \"w\") as f:\n",
    "    f.write(\"Hello \\n\")"
   ]
  },
  {
   "cell_type": "code",
   "execution_count": 42,
   "id": "d5e0096c-72f7-400b-b558-8b3db240863d",
   "metadata": {},
   "outputs": [
    {
     "name": "stdout",
     "output_type": "stream",
     "text": [
      "Hello \n",
      "\n"
     ]
    }
   ],
   "source": [
    "f = open('new.txt', 'r')\n",
    "data  = f.readline()  # 한 줄만 읽어온다.\n",
    "print(data)\n",
    "f.close()"
   ]
  },
  {
   "cell_type": "code",
   "execution_count": 46,
   "id": "30485fb5-7a0a-44c1-ba83-3cca70dbe60b",
   "metadata": {},
   "outputs": [],
   "source": [
    "with open(\"new.txt\", 'a') as f:\n",
    "     for _ in range(10):\n",
    "            f.write(\"Good Morning\\n\")"
   ]
  },
  {
   "cell_type": "code",
   "execution_count": 43,
   "id": "a81651bb-04c3-4a63-a38e-8c9b3f56f4e5",
   "metadata": {},
   "outputs": [
    {
     "name": "stdout",
     "output_type": "stream",
     "text": [
      "Hello \n",
      "\n"
     ]
    }
   ],
   "source": [
    "f = open('new.txt', 'r')\n",
    "data  = f.readline() \n",
    "print(data)\n",
    "f.close()"
   ]
  },
  {
   "cell_type": "code",
   "execution_count": 45,
   "id": "df19564a-9516-4a2d-bd55-a866efeb1a3d",
   "metadata": {},
   "outputs": [
    {
     "name": "stdout",
     "output_type": "stream",
     "text": [
      "Hello \n",
      "\n"
     ]
    }
   ],
   "source": [
    "with open('new.txt', 'r') as f:\n",
    "    data = f.readline()\n",
    "    print(data)  # f.close 안쓴거지 위에랑 같음."
   ]
  },
  {
   "cell_type": "markdown",
   "id": "e1332a84-1e03-4b35-8c22-685eacc0f023",
   "metadata": {},
   "source": [
    "- f.readlines()"
   ]
  },
  {
   "cell_type": "code",
   "execution_count": 48,
   "id": "83996c45-8031-4ace-90d6-f27c2b464737",
   "metadata": {},
   "outputs": [
    {
     "name": "stdout",
     "output_type": "stream",
     "text": [
      "['Hello \\n', 'Good Morning\\n', 'Good Morning\\n', 'Good Morning\\n', 'Good Morning\\n', 'Good Morning\\n', 'Good Morning\\n', 'Good Morning\\n', 'Good Morning\\n', 'Good Morning\\n', 'Good Morning\\n']\n"
     ]
    }
   ],
   "source": [
    "f = open('new.txt', 'r')\n",
    "data  = f.readlines()        # 여러 줄을 출력한다. \n",
    "print(data)\n",
    "f.close()"
   ]
  },
  {
   "cell_type": "code",
   "execution_count": 57,
   "id": "30f36019-61d6-4887-829a-ffea146c74d8",
   "metadata": {},
   "outputs": [
    {
     "name": "stdout",
     "output_type": "stream",
     "text": [
      "Hello \n",
      "\n",
      "Good Morning\n",
      "\n",
      "Good Morning\n",
      "\n",
      "Good Morning\n",
      "\n",
      "Good Morning\n",
      "\n",
      "Good Morning\n",
      "\n",
      "Good Morning\n",
      "\n",
      "Good Morning\n",
      "\n",
      "Good Morning\n",
      "\n",
      "Good Morning\n",
      "\n",
      "Good Morning\n",
      "\n"
     ]
    }
   ],
   "source": [
    "f = open('new.txt', 'r')\n",
    "data  = f.readlines()       \n",
    "for i in data:\n",
    "    print(i)\n",
    "    \n",
    "f.close()"
   ]
  },
  {
   "cell_type": "code",
   "execution_count": 55,
   "id": "d150681c-36f1-4ab3-b110-3e4b4f1fc791",
   "metadata": {},
   "outputs": [
    {
     "name": "stdout",
     "output_type": "stream",
     "text": [
      "Hello \n",
      "Good Morning\n",
      "Good Morning\n",
      "Good Morning\n",
      "Good Morning\n",
      "Good Morning\n",
      "Good Morning\n",
      "Good Morning\n",
      "Good Morning\n",
      "Good Morning\n",
      "Good Morning\n"
     ]
    }
   ],
   "source": [
    "f = open('new.txt', 'r')\n",
    "data  = f.readlines()       \n",
    "for i in data:\n",
    "    print(i, end=\"\")  # 기본값이 마지막에 띄어쓰기가 있기 때문임.\n",
    "    \n",
    "f.close()"
   ]
  },
  {
   "cell_type": "markdown",
   "id": "407a398c-3fb1-4ccf-9000-c7d4b761f75b",
   "metadata": {},
   "source": [
    "- f.read()"
   ]
  },
  {
   "cell_type": "markdown",
   "id": "443cbeab-490f-4de8-8bdb-ece3a6cf2a23",
   "metadata": {},
   "source": [
    "# 문제\n",
    "\n",
    "```\n",
    "test.txt\n",
    "\n",
    "1번째 입니다.\n",
    "2번째 입니다.\n",
    "3번째 입니다.\n",
    "4번째 입니다.\n",
    "5번째 입니다.\n",
    "6번째 입니다.\n",
    "7번째 입니다.\n",
    "8번째 입니다.\n",
    "9번째 입니다.\n",
    "10번째 입니다.\n",
    "```"
   ]
  },
  {
   "cell_type": "code",
   "execution_count": 86,
   "id": "203e93fd-71db-4010-8cce-64c295bbcf60",
   "metadata": {},
   "outputs": [],
   "source": [
    "with open('test.txt', 'w', encoding = 'utf-8' ) as f:\n",
    "    for i in range(10):\n",
    "        f.write(f'{i}번째 입니다. \\n')"
   ]
  },
  {
   "cell_type": "markdown",
   "id": "8f580e56-44d2-4189-a8c7-78b9abbf2ca1",
   "metadata": {},
   "source": [
    "- readlines()로 읽기"
   ]
  },
  {
   "cell_type": "code",
   "execution_count": 87,
   "id": "dd989f15-f1e0-44cd-83ed-53a17aa2c733",
   "metadata": {},
   "outputs": [
    {
     "name": "stdout",
     "output_type": "stream",
     "text": [
      "0번째 입니다. \n",
      "\n",
      "1번째 입니다. \n",
      "\n",
      "2번째 입니다. \n",
      "\n",
      "3번째 입니다. \n",
      "\n",
      "4번째 입니다. \n",
      "\n",
      "5번째 입니다. \n",
      "\n",
      "6번째 입니다. \n",
      "\n",
      "7번째 입니다. \n",
      "\n",
      "8번째 입니다. \n",
      "\n",
      "9번째 입니다. \n",
      "\n"
     ]
    }
   ],
   "source": [
    "with open('test.txt', 'r', encoding = 'utf-8' ) as f:\n",
    "    data = f.readlines()\n",
    "    for i in data:\n",
    "        print(i)"
   ]
  },
  {
   "cell_type": "code",
   "execution_count": 96,
   "id": "a7e1c6e6-f94d-4c54-979d-8fa31eaa3e6e",
   "metadata": {},
   "outputs": [
    {
     "name": "stdout",
     "output_type": "stream",
     "text": [
      "0번째 입니다.\n",
      "1번째 입니다.\n",
      "2번째 입니다.\n",
      "3번째 입니다.\n",
      "4번째 입니다.\n",
      "5번째 입니다.\n",
      "6번째 입니다.\n",
      "7번째 입니다.\n",
      "8번째 입니다.\n",
      "9번째 입니다.\n"
     ]
    }
   ],
   "source": [
    "with open('test.txt', 'r', encoding = 'utf-8' ) as f:\n",
    "    data = f.readlines()\n",
    "    for i in data:\n",
    "        i = i.strip()   # 역슬래쉬를 제거하고 i에 다시 저장함.\n",
    "        print(i)"
   ]
  },
  {
   "cell_type": "markdown",
   "id": "8b9bc8b9-a1d2-4468-87ff-7818cd1ed6f2",
   "metadata": {},
   "source": [
    "함수 show_file(\"one_txt\")\n",
    "\n",
    "show_file(\"test.txt\") 라고 입력하면 위에처럼 출력되는게 목표."
   ]
  },
  {
   "cell_type": "code",
   "execution_count": 98,
   "id": "454e625c-8d92-4a1d-aa39-06319b4d54fc",
   "metadata": {},
   "outputs": [
    {
     "name": "stdout",
     "output_type": "stream",
     "text": [
      "0번째 입니다.\n",
      "1번째 입니다.\n",
      "2번째 입니다.\n",
      "3번째 입니다.\n",
      "4번째 입니다.\n",
      "5번째 입니다.\n",
      "6번째 입니다.\n",
      "7번째 입니다.\n",
      "8번째 입니다.\n",
      "9번째 입니다.\n"
     ]
    }
   ],
   "source": [
    "def show_file(filename):\n",
    "    with open('test.txt', 'r', encoding = 'utf-8' ) as f:\n",
    "        data = f.readlines()\n",
    "        for i in data:\n",
    "            i = i.strip() \n",
    "            print(i)\n",
    "show_file('test.txt')"
   ]
  },
  {
   "cell_type": "markdown",
   "id": "cd991789-c5ec-4b65-aef6-20046980a3a6",
   "metadata": {},
   "source": [
    "- 이름과 나이를 입력받아 파일 이름은 people.txt로 만들자.\n",
    "- while 문을 써서 엔터(빈칸)을 입력하면 while문이 종료.\n",
    "- f.write(name + \":\" + age + '\\n')\n",
    "```\n",
    "홍길동 23\n",
    "전우치 20\n",
    " ---\n",
    "```"
   ]
  },
  {
   "cell_type": "code",
   "execution_count": 135,
   "id": "8c01b5d3-49a6-4a02-8e8c-624f5e4697ca",
   "metadata": {
    "tags": []
   },
   "outputs": [
    {
     "name": "stdin",
     "output_type": "stream",
     "text": [
      "이름을 입력하세요. 홍길동\n",
      "나이를 입력하세요. 23\n",
      "이름을 입력하세요. 전우치\n",
      "나이를 입력하세요. 20\n",
      "이름을 입력하세요. \n",
      "나이를 입력하세요. \n"
     ]
    }
   ],
   "source": [
    "with open('pra', 'w', encoding = 'utf-8') as f:\n",
    "    while True:\n",
    "        name = input('이름을 입력하세요.')\n",
    "        age = input('나이를 입력하세요.')\n",
    "        f.write(name + ':' + age + '\\n')\n",
    "        if name == \"\":\n",
    "            break"
   ]
  },
  {
   "cell_type": "markdown",
   "id": "eae015b9-3d75-4db0-b072-2e3388e508f5",
   "metadata": {},
   "source": [
    "# 클래스\n",
    "완성분의 80%만 만들어주는것"
   ]
  },
  {
   "cell_type": "code",
   "execution_count": 149,
   "id": "150bcb1f-8591-4e31-b039-661ac2adfafd",
   "metadata": {},
   "outputs": [],
   "source": [
    "result = 0\n",
    "\n",
    "def add(num):\n",
    "    global result     # global 이라는 것은 외부에서 변수를 받는 역할을 한다.\n",
    "    result += num\n",
    "    return result     # 여기까지는 더하기 기능만 있음"
   ]
  },
  {
   "cell_type": "code",
   "execution_count": 141,
   "id": "6c7f2842-fd35-42c9-9a1d-7215b8d15142",
   "metadata": {},
   "outputs": [
    {
     "data": {
      "text/plain": [
       "3"
      ]
     },
     "execution_count": 141,
     "metadata": {},
     "output_type": "execute_result"
    }
   ],
   "source": [
    "add(3)"
   ]
  },
  {
   "cell_type": "code",
   "execution_count": 142,
   "id": "92616eb4-d7c2-4a04-933f-e12bf82ab215",
   "metadata": {},
   "outputs": [
    {
     "data": {
      "text/plain": [
       "7"
      ]
     },
     "execution_count": 142,
     "metadata": {},
     "output_type": "execute_result"
    }
   ],
   "source": [
    "add(4)"
   ]
  },
  {
   "cell_type": "code",
   "execution_count": 148,
   "id": "21de9167-8f76-4a7b-88ff-6c52a67e3a02",
   "metadata": {},
   "outputs": [],
   "source": [
    "result = 0\n",
    "result1 = 0\n",
    "result2 = 0\n",
    "\n",
    "def add(num):\n",
    "    global result\n",
    "    result += num\n",
    "    return result\n",
    "\n",
    "def add1(num):\n",
    "    global result1\n",
    "    result1 += num\n",
    "    return result1\n",
    "\n",
    "def add2(num):\n",
    "    global result2\n",
    "    result2 += num\n",
    "    return result2"
   ]
  },
  {
   "cell_type": "code",
   "execution_count": 144,
   "id": "0de666bb-6164-4c80-bb5d-e62555e13cf6",
   "metadata": {},
   "outputs": [
    {
     "data": {
      "text/plain": [
       "3"
      ]
     },
     "execution_count": 144,
     "metadata": {},
     "output_type": "execute_result"
    }
   ],
   "source": [
    "add(3)"
   ]
  },
  {
   "cell_type": "code",
   "execution_count": 145,
   "id": "4ac90047-988f-4bca-9f84-ead36da9fc80",
   "metadata": {},
   "outputs": [
    {
     "data": {
      "text/plain": [
       "7"
      ]
     },
     "execution_count": 145,
     "metadata": {},
     "output_type": "execute_result"
    }
   ],
   "source": [
    "add(4)"
   ]
  },
  {
   "cell_type": "code",
   "execution_count": 146,
   "id": "c1119d94-2f22-4a19-bd7e-494dfe76c68e",
   "metadata": {},
   "outputs": [
    {
     "data": {
      "text/plain": [
       "5"
      ]
     },
     "execution_count": 146,
     "metadata": {},
     "output_type": "execute_result"
    }
   ],
   "source": [
    "add1(5)"
   ]
  },
  {
   "cell_type": "code",
   "execution_count": 147,
   "id": "3e377425-bc98-4ede-be4e-36d0b4ff41c2",
   "metadata": {},
   "outputs": [
    {
     "data": {
      "text/plain": [
       "11"
      ]
     },
     "execution_count": 147,
     "metadata": {},
     "output_type": "execute_result"
    }
   ],
   "source": [
    "add1(6)"
   ]
  },
  {
   "cell_type": "markdown",
   "id": "70812dcf-297e-4688-b7a1-19991e127e78",
   "metadata": {},
   "source": [
    "하지만 이렇게 하면 지금은 코드가 짧아서 그렇지 길어지면 수정하기 어렵다."
   ]
  },
  {
   "cell_type": "code",
   "execution_count": 150,
   "id": "a300d956-0ed3-41a5-b1c0-1cf3d60d69de",
   "metadata": {},
   "outputs": [],
   "source": [
    "result = 0\n",
    "\n",
    "\n",
    "def add(num):\n",
    "    global result\n",
    "    result += num\n",
    "    return result\n",
    "\n",
    "def subtract(num):\n",
    "    global result\n",
    "    result -= num\n",
    "    return result"
   ]
  },
  {
   "cell_type": "code",
   "execution_count": 151,
   "id": "cdd302e6-d335-486f-bf52-57822c3933f1",
   "metadata": {},
   "outputs": [],
   "source": [
    "result1 = 0\n",
    "\n",
    "def add1(num):\n",
    "    global result1\n",
    "    result1 += num\n",
    "    return result1\n",
    "\n",
    "def subtract(num):\n",
    "    global result1\n",
    "    result1 -= num\n",
    "    return result1"
   ]
  },
  {
   "cell_type": "code",
   "execution_count": 152,
   "id": "eb4ff13d-ff17-44fb-8bda-25bb1a94f9c3",
   "metadata": {},
   "outputs": [],
   "source": [
    "result2 = 0\n",
    "\n",
    "def add2(num):\n",
    "    global result2\n",
    "    result2 += num\n",
    "    return result2\n",
    "\n",
    "def subtract(num):\n",
    "    global result2\n",
    "    result2 -= num\n",
    "    return result2"
   ]
  },
  {
   "cell_type": "code",
   "execution_count": 153,
   "id": "82d01299-25ec-4025-bfb0-ad4e997e8a3c",
   "metadata": {},
   "outputs": [
    {
     "data": {
      "text/plain": [
       "5"
      ]
     },
     "execution_count": 153,
     "metadata": {},
     "output_type": "execute_result"
    }
   ],
   "source": [
    "add2(5)"
   ]
  },
  {
   "cell_type": "code",
   "execution_count": 154,
   "id": "faae15a4-8a6a-4c73-ad2b-ea3c2c335573",
   "metadata": {},
   "outputs": [
    {
     "data": {
      "text/plain": [
       "2"
      ]
     },
     "execution_count": 154,
     "metadata": {},
     "output_type": "execute_result"
    }
   ],
   "source": [
    "subtract(3)"
   ]
  },
  {
   "cell_type": "markdown",
   "id": "96ae5cfa-fff5-437c-ac96-30662cf63ba2",
   "metadata": {},
   "source": [
    "## 클래스의 필요성"
   ]
  },
  {
   "cell_type": "code",
   "execution_count": 162,
   "id": "e1c1662e-a5b1-4881-962e-d528783fd107",
   "metadata": {},
   "outputs": [],
   "source": [
    "result2 = 0\n",
    "\n",
    "def add2(num):\n",
    "    global result2\n",
    "    result2 += num\n",
    "    return result2\n",
    "\n",
    "def subtract(num):\n",
    "    global result2\n",
    "    result2 -= num\n",
    "    return result2\n",
    "##########################\n",
    "\n",
    "class Calculator:              #Calculator는 첫번째는 대문자!\n",
    "    def __init__(self):        #언더바는 앤 특별하다는 뜻, self는 무조건 써줘야함.\n",
    "        self.result = 0\n",
    "        \n",
    "    def add(self, num):       #num은 혼자임에도 불구하고 무조건 self를 써줘야 한다.\n",
    "        self.result += num    # 변수 앞에 무조건 붙여주기\n",
    "        return self.result\n",
    "    \n",
    "    def subtract(self, num):\n",
    "        self.result -= num\n",
    "        return self.result\n",
    "    \n",
    "    def multiply(self, num):\n",
    "        self.result *= num\n",
    "        return self.result"
   ]
  },
  {
   "cell_type": "code",
   "execution_count": 163,
   "id": "62ef647e-68a2-4ca8-a8e7-be20e5f8e118",
   "metadata": {},
   "outputs": [],
   "source": [
    "pos = Calculator()          # 위에 설계도를 이용하여 pos라는 오브젝트가 만들어짐."
   ]
  },
  {
   "cell_type": "code",
   "execution_count": 157,
   "id": "a5e743fc-a4ae-40a1-8ac4-fbb5ed34b4fd",
   "metadata": {},
   "outputs": [
    {
     "data": {
      "text/plain": [
       "3"
      ]
     },
     "execution_count": 157,
     "metadata": {},
     "output_type": "execute_result"
    }
   ],
   "source": [
    "pos.add(3)"
   ]
  },
  {
   "cell_type": "code",
   "execution_count": 158,
   "id": "7629e58c-7acd-49fa-9751-c1a0582bb508",
   "metadata": {},
   "outputs": [
    {
     "data": {
      "text/plain": [
       "7"
      ]
     },
     "execution_count": 158,
     "metadata": {},
     "output_type": "execute_result"
    }
   ],
   "source": [
    "pos.add(4)"
   ]
  },
  {
   "cell_type": "code",
   "execution_count": 159,
   "id": "ffca6bb9-42a7-498d-b81f-1091d4ec725d",
   "metadata": {},
   "outputs": [
    {
     "data": {
      "text/plain": [
       "5"
      ]
     },
     "execution_count": 159,
     "metadata": {},
     "output_type": "execute_result"
    }
   ],
   "source": [
    "pos.subtract(2)"
   ]
  },
  {
   "cell_type": "code",
   "execution_count": 165,
   "id": "aac24935-7e68-4f3b-af53-f2665c86dd02",
   "metadata": {},
   "outputs": [],
   "source": [
    "pos1 = Calculator()    # 새로운 pos가 만들어짐"
   ]
  },
  {
   "cell_type": "markdown",
   "id": "db153254-d7c0-4e32-8163-ee09812d9cd5",
   "metadata": {},
   "source": [
    "## 클래스 만들기"
   ]
  },
  {
   "cell_type": "code",
   "execution_count": 166,
   "id": "65d7dc70-1f2c-4a01-82b5-d0bbd7c547cc",
   "metadata": {},
   "outputs": [],
   "source": [
    "class FourCal:\n",
    "    pass"
   ]
  },
  {
   "cell_type": "code",
   "execution_count": 167,
   "id": "d68ace65-71e9-4585-85e5-da9112bf8634",
   "metadata": {},
   "outputs": [],
   "source": [
    "class FourCal:\n",
    "    def setdata(self, a, b):\n",
    "        self.first = a\n",
    "        self.second = b"
   ]
  },
  {
   "cell_type": "code",
   "execution_count": 168,
   "id": "e6c410cf-c9fa-4990-b0db-dbb22147f798",
   "metadata": {},
   "outputs": [],
   "source": [
    "cal = FourCal()"
   ]
  },
  {
   "cell_type": "code",
   "execution_count": 169,
   "id": "4b7a13fe-0fb7-4040-9df0-f25804f1584e",
   "metadata": {},
   "outputs": [
    {
     "ename": "TypeError",
     "evalue": "FourCal.setdata() missing 1 required positional argument: 'b'",
     "output_type": "error",
     "traceback": [
      "\u001b[1;31m---------------------------------------------------------------------------\u001b[0m",
      "\u001b[1;31mTypeError\u001b[0m                                 Traceback (most recent call last)",
      "Input \u001b[1;32mIn [169]\u001b[0m, in \u001b[0;36m<cell line: 1>\u001b[1;34m()\u001b[0m\n\u001b[1;32m----> 1\u001b[0m \u001b[43mcal\u001b[49m\u001b[38;5;241;43m.\u001b[39;49m\u001b[43msetdata\u001b[49m\u001b[43m(\u001b[49m\u001b[38;5;241;43m1\u001b[39;49m\u001b[43m)\u001b[49m\n",
      "\u001b[1;31mTypeError\u001b[0m: FourCal.setdata() missing 1 required positional argument: 'b'"
     ]
    }
   ],
   "source": [
    "cal.setdata(1)"
   ]
  },
  {
   "cell_type": "markdown",
   "id": "ec394b86-90ee-4e6e-a3f0-6f9f4a325fdc",
   "metadata": {},
   "source": [
    "2개를 넣어야지 오류가 안남."
   ]
  },
  {
   "cell_type": "code",
   "execution_count": 170,
   "id": "1ad5a74f-bf25-4f05-b0de-f9538ed64df6",
   "metadata": {},
   "outputs": [],
   "source": [
    "cal.setdata(1, 2)"
   ]
  },
  {
   "cell_type": "code",
   "execution_count": 171,
   "id": "7eafed77-8bc9-4220-9256-cbcbcd65f0cc",
   "metadata": {},
   "outputs": [
    {
     "data": {
      "text/plain": [
       "1"
      ]
     },
     "execution_count": 171,
     "metadata": {},
     "output_type": "execute_result"
    }
   ],
   "source": [
    "cal.first"
   ]
  },
  {
   "cell_type": "code",
   "execution_count": 172,
   "id": "ac65dd05-d666-4834-b640-002740891222",
   "metadata": {},
   "outputs": [
    {
     "data": {
      "text/plain": [
       "2"
      ]
     },
     "execution_count": 172,
     "metadata": {},
     "output_type": "execute_result"
    }
   ],
   "source": [
    "cal.second"
   ]
  },
  {
   "cell_type": "markdown",
   "id": "ad584d99-e313-430c-bdac-806bedf8fb7c",
   "metadata": {},
   "source": [
    "```\n",
    "객체 : object, instance, 오브젝트, 인스턴스\n",
    "\n",
    "객체는 2개를 가지고 있는데\n",
    "표현하자면 하나는 동사이고 하나는 형용사이다.\n",
    "\n",
    "car: car.go(), car.back(), car.turn()\n",
    "     car.color, car.size\n",
    "    \n",
    "bird: bird.fly(), bird.sing()\n",
    "      bird.color\n",
    "이런 차이이다.\n",
    "\n",
    "동사 : 매소드, method\n",
    "형용사 : 속성, 애트리뷰트, attribute\n",
    "동사는 ()가 있고 형용사는 ()가 없다.\n",
    "```"
   ]
  },
  {
   "cell_type": "code",
   "execution_count": 176,
   "id": "57a52eeb-17cf-4f41-af39-a6ab1b0bd91e",
   "metadata": {},
   "outputs": [],
   "source": [
    "class FourCal:\n",
    "    def setdata(self, a, b):\n",
    "        self.first = a\n",
    "        self.second = b\n",
    "        \n",
    "    def add(self):\n",
    "        self.result = self.first + self.second\n",
    "        return self.result\n",
    "    \n",
    "    def subtract(self):\n",
    "        self.result = self.first - self.second\n",
    "        return self.result"
   ]
  },
  {
   "cell_type": "code",
   "execution_count": 177,
   "id": "11248eaa-b3f6-4553-a97e-924fdfc8ade2",
   "metadata": {},
   "outputs": [],
   "source": [
    "cal = FourCal()"
   ]
  },
  {
   "cell_type": "code",
   "execution_count": 179,
   "id": "0441330c-ae67-43bf-9d3b-8681d78b8c56",
   "metadata": {},
   "outputs": [
    {
     "data": {
      "text/plain": [
       "1"
      ]
     },
     "execution_count": 179,
     "metadata": {},
     "output_type": "execute_result"
    }
   ],
   "source": [
    "cal.setdata(1,2)\n",
    "cal.first"
   ]
  },
  {
   "cell_type": "code",
   "execution_count": 181,
   "id": "6e615f44-d631-4b1d-94a7-6384897cb753",
   "metadata": {},
   "outputs": [
    {
     "data": {
      "text/plain": [
       "3"
      ]
     },
     "execution_count": 181,
     "metadata": {},
     "output_type": "execute_result"
    }
   ],
   "source": [
    "cal.add()"
   ]
  },
  {
   "cell_type": "code",
   "execution_count": 182,
   "id": "65c96a7e-61f2-4a40-8299-8e8415fd6cb4",
   "metadata": {},
   "outputs": [],
   "source": [
    "cal1 = FourCal()"
   ]
  },
  {
   "cell_type": "code",
   "execution_count": 183,
   "id": "b0429ff5-6823-4d4e-bff7-bcaad2503478",
   "metadata": {},
   "outputs": [
    {
     "ename": "AttributeError",
     "evalue": "'FourCal' object has no attribute 'first'",
     "output_type": "error",
     "traceback": [
      "\u001b[1;31m---------------------------------------------------------------------------\u001b[0m",
      "\u001b[1;31mAttributeError\u001b[0m                            Traceback (most recent call last)",
      "Input \u001b[1;32mIn [183]\u001b[0m, in \u001b[0;36m<cell line: 1>\u001b[1;34m()\u001b[0m\n\u001b[1;32m----> 1\u001b[0m \u001b[43mcal1\u001b[49m\u001b[38;5;241;43m.\u001b[39;49m\u001b[43madd\u001b[49m\u001b[43m(\u001b[49m\u001b[43m)\u001b[49m\n",
      "Input \u001b[1;32mIn [176]\u001b[0m, in \u001b[0;36mFourCal.add\u001b[1;34m(self)\u001b[0m\n\u001b[0;32m      6\u001b[0m \u001b[38;5;28;01mdef\u001b[39;00m \u001b[38;5;21madd\u001b[39m(\u001b[38;5;28mself\u001b[39m):\n\u001b[1;32m----> 7\u001b[0m     \u001b[38;5;28mself\u001b[39m\u001b[38;5;241m.\u001b[39mresult \u001b[38;5;241m=\u001b[39m \u001b[38;5;28;43mself\u001b[39;49m\u001b[38;5;241;43m.\u001b[39;49m\u001b[43mfirst\u001b[49m \u001b[38;5;241m+\u001b[39m \u001b[38;5;28mself\u001b[39m\u001b[38;5;241m.\u001b[39msecond\n\u001b[0;32m      8\u001b[0m     \u001b[38;5;28;01mreturn\u001b[39;00m \u001b[38;5;28mself\u001b[39m\u001b[38;5;241m.\u001b[39mresult\n",
      "\u001b[1;31mAttributeError\u001b[0m: 'FourCal' object has no attribute 'first'"
     ]
    }
   ],
   "source": [
    "cal1.add()"
   ]
  },
  {
   "cell_type": "markdown",
   "id": "1ed14ce5-069b-4ebd-a11d-d45fe4f49848",
   "metadata": {},
   "source": [
    "에러 이유 : first의 값이 없기 때문에 오류가 뜬다.\n",
    "\n",
    "            cal1은 새로운 객체이기 때문에 데이터가 없기 때문."
   ]
  },
  {
   "cell_type": "code",
   "execution_count": 184,
   "id": "26faea25-5fda-4481-bc07-8ba1bdc0f1db",
   "metadata": {},
   "outputs": [],
   "source": [
    "cal1.setdata(10, 20)"
   ]
  },
  {
   "cell_type": "code",
   "execution_count": 185,
   "id": "eeb2d6fc-f810-4c2c-945c-7456237de9db",
   "metadata": {},
   "outputs": [
    {
     "data": {
      "text/plain": [
       "-10"
      ]
     },
     "execution_count": 185,
     "metadata": {},
     "output_type": "execute_result"
    }
   ],
   "source": [
    "cal1.subtract()"
   ]
  },
  {
   "cell_type": "markdown",
   "id": "d0239073-b0d6-432a-9100-5211801236af",
   "metadata": {},
   "source": [
    "### 초기화함수, 생성자"
   ]
  },
  {
   "cell_type": "code",
   "execution_count": 186,
   "id": "ff96b84f-d64f-43fc-906d-4df48233fe48",
   "metadata": {},
   "outputs": [],
   "source": [
    "class FourCal:\n",
    "    # 초기화, 생성자(constructor)\n",
    "    def __init__(self, a, b):   # 언더바 사이에 있는 것은 초기화 시키는 역할\n",
    "        self.first = a\n",
    "        self.second = b \n",
    "        \n",
    "    def add(self):\n",
    "        self.result = self.first + self.second\n",
    "        return self.result\n",
    "    \n",
    "    def subtract(self):\n",
    "        self.result = self.first - self.second\n",
    "        return self.result"
   ]
  },
  {
   "cell_type": "code",
   "execution_count": 190,
   "id": "da00b5f0-5365-419d-88ac-1df2baa5b8ee",
   "metadata": {},
   "outputs": [
    {
     "ename": "TypeError",
     "evalue": "FourCal.__init__() missing 2 required positional arguments: 'a' and 'b'",
     "output_type": "error",
     "traceback": [
      "\u001b[1;31m---------------------------------------------------------------------------\u001b[0m",
      "\u001b[1;31mTypeError\u001b[0m                                 Traceback (most recent call last)",
      "Input \u001b[1;32mIn [190]\u001b[0m, in \u001b[0;36m<cell line: 1>\u001b[1;34m()\u001b[0m\n\u001b[1;32m----> 1\u001b[0m cal2 \u001b[38;5;241m=\u001b[39m \u001b[43mFourCal\u001b[49m\u001b[43m(\u001b[49m\u001b[43m)\u001b[49m\n",
      "\u001b[1;31mTypeError\u001b[0m: FourCal.__init__() missing 2 required positional arguments: 'a' and 'b'"
     ]
    }
   ],
   "source": [
    "cal2 = FourCal()"
   ]
  },
  {
   "cell_type": "markdown",
   "id": "132196c8-ebda-40b6-b3a0-f65c6ff0d443",
   "metadata": {},
   "source": [
    "에러 이유 : init는 무조건 실행되는 함수이기 때문이다."
   ]
  },
  {
   "cell_type": "code",
   "execution_count": 191,
   "id": "549671c1-3b05-4039-a16d-53ef2cdc6fa6",
   "metadata": {},
   "outputs": [],
   "source": [
    "cal2 = FourCal(1, 2)"
   ]
  },
  {
   "cell_type": "code",
   "execution_count": 192,
   "id": "69ae1184-d2f5-494f-a56f-df3192e921b7",
   "metadata": {},
   "outputs": [
    {
     "data": {
      "text/plain": [
       "3"
      ]
     },
     "execution_count": 192,
     "metadata": {},
     "output_type": "execute_result"
    }
   ],
   "source": [
    "cal2.add()"
   ]
  },
  {
   "cell_type": "code",
   "execution_count": 193,
   "id": "b039f8eb-fde8-4c5d-9897-73bc7540c1ce",
   "metadata": {},
   "outputs": [
    {
     "data": {
      "text/plain": [
       "-10"
      ]
     },
     "execution_count": 193,
     "metadata": {},
     "output_type": "execute_result"
    }
   ],
   "source": [
    "cal3 = FourCal(10, 20)\n",
    "cal3.subtract()"
   ]
  },
  {
   "cell_type": "markdown",
   "id": "ffcb5f40-6b24-4629-bc0c-e8afd37e2caf",
   "metadata": {},
   "source": [
    "### 상속\n",
    "- inheritance"
   ]
  },
  {
   "cell_type": "code",
   "execution_count": 199,
   "id": "a6773bc4-d8b5-49c3-ac9a-262c7bba5370",
   "metadata": {},
   "outputs": [],
   "source": [
    "class FourCal:\n",
    "\n",
    "    def __init__(self, a, b): \n",
    "        self.first = a\n",
    "        self.second = b \n",
    "        \n",
    "    def add(self):\n",
    "        self.result = self.first + self.second\n",
    "        return self.result\n",
    "    \n",
    "    def subtract(self):\n",
    "        self.result = self.first - self.second\n",
    "        return self.result\n",
    "    \n",
    "    def multiply(self):\n",
    "        self.result = self.first * self.second\n",
    "        return self.result\n",
    "    \n",
    "    def divide(self):\n",
    "        self.result = self.first / self.second\n",
    "        return self.result"
   ]
  },
  {
   "cell_type": "code",
   "execution_count": 211,
   "id": "b9195b75-12c3-42ca-9110-7d5fafd5ace8",
   "metadata": {},
   "outputs": [],
   "source": [
    "class Child(FourCal):            # 위에는 부모 클래스, 밑에는 자식 클래스\n",
    "    pass"
   ]
  },
  {
   "cell_type": "code",
   "execution_count": 207,
   "id": "1a531a8f-a791-41de-9472-0f1ebee84ec3",
   "metadata": {},
   "outputs": [],
   "source": [
    "cal = Child(10,20)"
   ]
  },
  {
   "cell_type": "code",
   "execution_count": 208,
   "id": "91865dcb-ec92-4fa5-8df0-a7d00d08714d",
   "metadata": {},
   "outputs": [
    {
     "data": {
      "text/plain": [
       "30"
      ]
     },
     "execution_count": 208,
     "metadata": {},
     "output_type": "execute_result"
    }
   ],
   "source": [
    "cal.add()"
   ]
  },
  {
   "cell_type": "code",
   "execution_count": 209,
   "id": "9fa9ee84-92b0-42a2-9286-fb88e68a1a25",
   "metadata": {},
   "outputs": [
    {
     "data": {
      "text/plain": [
       "200"
      ]
     },
     "execution_count": 209,
     "metadata": {},
     "output_type": "execute_result"
    }
   ],
   "source": [
    "cal.multiply()"
   ]
  },
  {
   "cell_type": "code",
   "execution_count": 210,
   "id": "73ede822-a8a5-4783-b3f5-c2154b01a8b2",
   "metadata": {},
   "outputs": [
    {
     "data": {
      "text/plain": [
       "0.5"
      ]
     },
     "execution_count": 210,
     "metadata": {},
     "output_type": "execute_result"
    }
   ],
   "source": [
    "cal.divide()"
   ]
  },
  {
   "cell_type": "code",
   "execution_count": 217,
   "id": "6e65e99b-ec8c-4768-891d-69b2b43d68be",
   "metadata": {},
   "outputs": [],
   "source": [
    "class Child(FourCal):            \n",
    "    def power(self):       # 앞에 부모 클래스에는 없던 새로운 것을 추가함.\n",
    "        self.result = self.first ** self.second\n",
    "        return self.result"
   ]
  },
  {
   "cell_type": "code",
   "execution_count": 218,
   "id": "55d5b1d7-41bc-4dd3-b03c-8d7e9df0a636",
   "metadata": {},
   "outputs": [],
   "source": [
    "cal = Child(2,3)"
   ]
  },
  {
   "cell_type": "code",
   "execution_count": 219,
   "id": "2bc7c454-cbd3-4bef-ae81-5ee2cb22f2e1",
   "metadata": {},
   "outputs": [
    {
     "data": {
      "text/plain": [
       "5"
      ]
     },
     "execution_count": 219,
     "metadata": {},
     "output_type": "execute_result"
    }
   ],
   "source": [
    "cal.add()"
   ]
  },
  {
   "cell_type": "code",
   "execution_count": 220,
   "id": "cf0b6e61-a2fd-4fea-a641-6dd6a601178b",
   "metadata": {},
   "outputs": [
    {
     "data": {
      "text/plain": [
       "8"
      ]
     },
     "execution_count": 220,
     "metadata": {},
     "output_type": "execute_result"
    }
   ],
   "source": [
    "cal.power()"
   ]
  },
  {
   "cell_type": "markdown",
   "id": "ce70dca5-8eac-4ed9-ae0e-6ddb34800a98",
   "metadata": {},
   "source": [
    "## 매소드 오버라이딩\n",
    "- overriding 매소드 재정의"
   ]
  },
  {
   "cell_type": "code",
   "execution_count": 221,
   "id": "2f151c16-a7bb-4fbc-8b41-8b4bc9f4f547",
   "metadata": {},
   "outputs": [],
   "source": [
    "cal = Child(1, 0)"
   ]
  },
  {
   "cell_type": "code",
   "execution_count": 222,
   "id": "725f9cae-62c7-4a3c-8644-6b9163ca18c5",
   "metadata": {},
   "outputs": [
    {
     "data": {
      "text/plain": [
       "1"
      ]
     },
     "execution_count": 222,
     "metadata": {},
     "output_type": "execute_result"
    }
   ],
   "source": [
    "cal.add()"
   ]
  },
  {
   "cell_type": "code",
   "execution_count": 223,
   "id": "c298c74a-bb7f-4f12-b5a7-699e481a4d15",
   "metadata": {},
   "outputs": [
    {
     "ename": "ZeroDivisionError",
     "evalue": "division by zero",
     "output_type": "error",
     "traceback": [
      "\u001b[1;31m---------------------------------------------------------------------------\u001b[0m",
      "\u001b[1;31mZeroDivisionError\u001b[0m                         Traceback (most recent call last)",
      "Input \u001b[1;32mIn [223]\u001b[0m, in \u001b[0;36m<cell line: 1>\u001b[1;34m()\u001b[0m\n\u001b[1;32m----> 1\u001b[0m \u001b[43mcal\u001b[49m\u001b[38;5;241;43m.\u001b[39;49m\u001b[43mdivide\u001b[49m\u001b[43m(\u001b[49m\u001b[43m)\u001b[49m\n",
      "Input \u001b[1;32mIn [199]\u001b[0m, in \u001b[0;36mFourCal.divide\u001b[1;34m(self)\u001b[0m\n\u001b[0;32m     19\u001b[0m \u001b[38;5;28;01mdef\u001b[39;00m \u001b[38;5;21mdivide\u001b[39m(\u001b[38;5;28mself\u001b[39m):\n\u001b[1;32m---> 20\u001b[0m     \u001b[38;5;28mself\u001b[39m\u001b[38;5;241m.\u001b[39mresult \u001b[38;5;241m=\u001b[39m \u001b[38;5;28;43mself\u001b[39;49m\u001b[38;5;241;43m.\u001b[39;49m\u001b[43mfirst\u001b[49m\u001b[43m \u001b[49m\u001b[38;5;241;43m/\u001b[39;49m\u001b[43m \u001b[49m\u001b[38;5;28;43mself\u001b[39;49m\u001b[38;5;241;43m.\u001b[39;49m\u001b[43msecond\u001b[49m\n\u001b[0;32m     21\u001b[0m     \u001b[38;5;28;01mreturn\u001b[39;00m \u001b[38;5;28mself\u001b[39m\u001b[38;5;241m.\u001b[39mresult\n",
      "\u001b[1;31mZeroDivisionError\u001b[0m: division by zero"
     ]
    }
   ],
   "source": [
    "cal.divide()"
   ]
  },
  {
   "cell_type": "markdown",
   "id": "1b7ad872-2f87-45d1-ae33-13dda612858d",
   "metadata": {},
   "source": [
    "0으로 나눴기 때문이다."
   ]
  },
  {
   "cell_type": "code",
   "execution_count": 224,
   "id": "68864bf9-633c-4e66-9b9d-1bf6c0b8b0af",
   "metadata": {},
   "outputs": [],
   "source": [
    "class Child(FourCal):            \n",
    "    def power(self): \n",
    "        self.result = self.first ** self.second\n",
    "        return self.result\n",
    "             \n",
    "    def divide(self):\n",
    "        if self.second != 0:\n",
    "            self.result = self.first ** self.second\n",
    "            return self.result\n",
    "        else:\n",
    "            print('0으로 나누셨군요.')"
   ]
  },
  {
   "cell_type": "code",
   "execution_count": 225,
   "id": "84e37848-359e-4022-9da2-7133938d7868",
   "metadata": {},
   "outputs": [],
   "source": [
    "cal = Child(1,0)"
   ]
  },
  {
   "cell_type": "code",
   "execution_count": 226,
   "id": "b6ff6e3d-f3b1-4182-84fc-8c40688ca4ff",
   "metadata": {},
   "outputs": [
    {
     "name": "stdout",
     "output_type": "stream",
     "text": [
      "0으로 나누셨군요.\n"
     ]
    }
   ],
   "source": [
    "cal.divide()"
   ]
  },
  {
   "cell_type": "markdown",
   "id": "9c24f599-25a9-4405-a899-7fd4635e9466",
   "metadata": {},
   "source": [
    "## self의 설명"
   ]
  },
  {
   "cell_type": "code",
   "execution_count": 228,
   "id": "12ac945a-df8d-411b-9536-37b0725793e2",
   "metadata": {},
   "outputs": [],
   "source": [
    "class Calculator():\n",
    "    def __init__(self, a, b):\n",
    "        self.first = a\n",
    "        self.second = b"
   ]
  },
  {
   "cell_type": "code",
   "execution_count": 229,
   "id": "70874f8e-9578-4ce0-8a75-3f7bd307438d",
   "metadata": {},
   "outputs": [],
   "source": [
    "cal = Calculator(1,2)"
   ]
  },
  {
   "cell_type": "code",
   "execution_count": 230,
   "id": "cffdae1d-f832-4791-997a-78ad76b91953",
   "metadata": {},
   "outputs": [
    {
     "data": {
      "text/plain": [
       "1"
      ]
     },
     "execution_count": 230,
     "metadata": {},
     "output_type": "execute_result"
    }
   ],
   "source": [
    "cal.first"
   ]
  },
  {
   "cell_type": "code",
   "execution_count": 231,
   "id": "2bd97a69-8b1c-4e19-9d18-47bab63a97e9",
   "metadata": {},
   "outputs": [],
   "source": [
    "bal = Calculator(10, 20)"
   ]
  },
  {
   "cell_type": "code",
   "execution_count": 232,
   "id": "3e1f9735-12b9-488e-85f4-9a6a12158656",
   "metadata": {},
   "outputs": [
    {
     "data": {
      "text/plain": [
       "10"
      ]
     },
     "execution_count": 232,
     "metadata": {},
     "output_type": "execute_result"
    }
   ],
   "source": [
    "bal.first"
   ]
  },
  {
   "cell_type": "code",
   "execution_count": null,
   "id": "2f040cda-7613-4a9e-91c1-395531c9ba7e",
   "metadata": {},
   "outputs": [],
   "source": []
  }
 ],
 "metadata": {
  "kernelspec": {
   "display_name": "Python 3 (ipykernel)",
   "language": "python",
   "name": "python3"
  },
  "language_info": {
   "codemirror_mode": {
    "name": "ipython",
    "version": 3
   },
   "file_extension": ".py",
   "mimetype": "text/x-python",
   "name": "python",
   "nbconvert_exporter": "python",
   "pygments_lexer": "ipython3",
   "version": "3.10.6"
  }
 },
 "nbformat": 4,
 "nbformat_minor": 5
}
