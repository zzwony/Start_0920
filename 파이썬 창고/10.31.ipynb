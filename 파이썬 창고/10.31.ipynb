{
 "cells": [
  {
   "cell_type": "code",
   "execution_count": null,
   "id": "9b43696c-40b0-4d0f-beb2-78cf75b9199d",
   "metadata": {},
   "outputs": [],
   "source": [
    ".text와 같은것(글자를 뽑아내려고 할때)\n",
    ".string, .get_text()"
   ]
  },
  {
   "cell_type": "code",
   "execution_count": null,
   "id": "a231e38d-aeac-41ed-97d5-0958740e9de1",
   "metadata": {},
   "outputs": [],
   "source": [
    "e = driver.find_elements(By.CLASS_NAME, \"input_text\")\n",
    "find_elements! 이 s로 받으면 리스트로 나온다.\n",
    "아이디 = \"princess\"\n",
    "_____________________\n",
    "\n",
    "비밀번호 = \"passwd\"\n",
    "_______________________\n",
    "\n",
    "빈칸안에 들어갈 말은?\n",
    "e[0].clear()\n",
    "e[0].send_keys('princess')\n",
    "\n",
    "e[1].clear()\n",
    "e[1].send_keys('passwd') \n",
    "\n",
    "포인트 :  그냥 send_keys로 접근하는게 아니라 인덱스로 접근해야한다."
   ]
  },
  {
   "cell_type": "code",
   "execution_count": 58,
   "id": "c0b47297-5da3-4571-905b-39d1e0433622",
   "metadata": {
    "collapsed": true,
    "jupyter": {
     "outputs_hidden": true
    },
    "tags": []
   },
   "outputs": [
    {
     "ename": "FeatureNotFound",
     "evalue": "Couldn't find a tree builder with the features you requested: lwml. Do you need to install a parser library?",
     "output_type": "error",
     "traceback": [
      "\u001b[1;31m---------------------------------------------------------------------------\u001b[0m",
      "\u001b[1;31mFeatureNotFound\u001b[0m                           Traceback (most recent call last)",
      "Input \u001b[1;32mIn [58]\u001b[0m, in \u001b[0;36m<cell line: 7>\u001b[1;34m()\u001b[0m\n\u001b[0;32m      5\u001b[0m url \u001b[38;5;241m=\u001b[39m \u001b[38;5;124m\"\u001b[39m\u001b[38;5;124mhttps://ko.wikipedia.org/wiki/\u001b[39m\u001b[38;5;132;01m%E\u001b[39;00m\u001b[38;5;124mB\u001b[39m\u001b[38;5;124m%\u001b[39m\u001b[38;5;124m8C\u001b[39m\u001b[38;5;132;01m%80%\u001b[39;00m\u001b[38;5;124mED\u001b[39m\u001b[38;5;132;01m%95%\u001b[39;00m\u001b[38;5;124m9C\u001b[39m\u001b[38;5;132;01m%E\u001b[39;00m\u001b[38;5;124mB\u001b[39m\u001b[38;5;124m%\u001b[39m\u001b[38;5;124mAF\u001b[39m\u001b[38;5;124m%\u001b[39m\u001b[38;5;124mBC\u001b[39m\u001b[38;5;132;01m%E\u001b[39;00m\u001b[38;5;124mA\u001b[39m\u001b[38;5;124m%\u001b[39m\u001b[38;5;124mB5\u001b[39m\u001b[38;5;124m%\u001b[39m\u001b[38;5;124mAD\u001b[39m\u001b[38;5;132;01m%E\u001b[39;00m\u001b[38;5;124mC\u001b[39m\u001b[38;5;124m%\u001b[39m\u001b[38;5;124m9D\u001b[39m\u001b[38;5;124m%\u001b[39m\u001b[38;5;124m98_\u001b[39m\u001b[38;5;132;01m%E\u001b[39;00m\u001b[38;5;124mB\u001b[39m\u001b[38;5;124m%\u001b[39m\u001b[38;5;124m8C\u001b[39m\u001b[38;5;132;01m%80%\u001b[39;00m\u001b[38;5;124mED\u001b[39m\u001b[38;5;132;01m%86%\u001b[39;00m\u001b[38;5;124mB5\u001b[39m\u001b[38;5;132;01m%E\u001b[39;00m\u001b[38;5;124mB\u001b[39m\u001b[38;5;124m%\u001b[39m\u001b[38;5;124mA0\u001b[39m\u001b[38;5;124m%\u001b[39m\u001b[38;5;124mB9_\u001b[39m\u001b[38;5;132;01m%E\u001b[39;00m\u001b[38;5;124mB\u001b[39m\u001b[38;5;124m%\u001b[39m\u001b[38;5;124mAA\u001b[39m\u001b[38;5;124m%\u001b[39m\u001b[38;5;124mA9\u001b[39m\u001b[38;5;132;01m%E\u001b[39;00m\u001b[38;5;124mB\u001b[39m\u001b[38;5;124m%\u001b[39m\u001b[38;5;124mA1\u001b[39m\u001b[38;5;124m%\u001b[39m\u001b[38;5;124m9D\u001b[39m\u001b[38;5;124m\"\u001b[39m\n\u001b[0;32m      6\u001b[0m html \u001b[38;5;241m=\u001b[39mrequests\u001b[38;5;241m.\u001b[39mget(url) \u001b[38;5;66;03m# 네이버 \u001b[39;00m\n\u001b[1;32m----> 7\u001b[0m soup \u001b[38;5;241m=\u001b[39m \u001b[43mBeautifulSoup\u001b[49m\u001b[43m(\u001b[49m\u001b[43mhtml\u001b[49m\u001b[38;5;241;43m.\u001b[39;49m\u001b[43mtext\u001b[49m\u001b[43m,\u001b[49m\u001b[43m \u001b[49m\u001b[38;5;124;43m'\u001b[39;49m\u001b[38;5;124;43mlwml\u001b[39;49m\u001b[38;5;124;43m'\u001b[39;49m\u001b[43m)\u001b[49m\n",
      "File \u001b[1;32m~\\anaconda3\\lib\\site-packages\\bs4\\__init__.py:248\u001b[0m, in \u001b[0;36mBeautifulSoup.__init__\u001b[1;34m(self, markup, features, builder, parse_only, from_encoding, exclude_encodings, element_classes, **kwargs)\u001b[0m\n\u001b[0;32m    246\u001b[0m     builder_class \u001b[38;5;241m=\u001b[39m builder_registry\u001b[38;5;241m.\u001b[39mlookup(\u001b[38;5;241m*\u001b[39mfeatures)\n\u001b[0;32m    247\u001b[0m     \u001b[38;5;28;01mif\u001b[39;00m builder_class \u001b[38;5;129;01mis\u001b[39;00m \u001b[38;5;28;01mNone\u001b[39;00m:\n\u001b[1;32m--> 248\u001b[0m         \u001b[38;5;28;01mraise\u001b[39;00m FeatureNotFound(\n\u001b[0;32m    249\u001b[0m             \u001b[38;5;124m\"\u001b[39m\u001b[38;5;124mCouldn\u001b[39m\u001b[38;5;124m'\u001b[39m\u001b[38;5;124mt find a tree builder with the features you \u001b[39m\u001b[38;5;124m\"\u001b[39m\n\u001b[0;32m    250\u001b[0m             \u001b[38;5;124m\"\u001b[39m\u001b[38;5;124mrequested: \u001b[39m\u001b[38;5;132;01m%s\u001b[39;00m\u001b[38;5;124m. Do you need to install a parser library?\u001b[39m\u001b[38;5;124m\"\u001b[39m\n\u001b[0;32m    251\u001b[0m             \u001b[38;5;241m%\u001b[39m \u001b[38;5;124m\"\u001b[39m\u001b[38;5;124m,\u001b[39m\u001b[38;5;124m\"\u001b[39m\u001b[38;5;241m.\u001b[39mjoin(features))\n\u001b[0;32m    253\u001b[0m \u001b[38;5;66;03m# At this point either we have a TreeBuilder instance in\u001b[39;00m\n\u001b[0;32m    254\u001b[0m \u001b[38;5;66;03m# builder, or we have a builder_class that we can instantiate\u001b[39;00m\n\u001b[0;32m    255\u001b[0m \u001b[38;5;66;03m# with the remaining **kwargs.\u001b[39;00m\n\u001b[0;32m    256\u001b[0m \u001b[38;5;28;01mif\u001b[39;00m builder \u001b[38;5;129;01mis\u001b[39;00m \u001b[38;5;28;01mNone\u001b[39;00m:\n",
      "\u001b[1;31mFeatureNotFound\u001b[0m: Couldn't find a tree builder with the features you requested: lwml. Do you need to install a parser library?"
     ]
    }
   ],
   "source": [
    "# 갯수가 너무 적게 나오는데 어떻게 바꿔줘야 할까?\n",
    "import requests\n",
    "from bs4 import BeautifulSoup\n",
    "\n",
    "url = \"https://ko.wikipedia.org/wiki/%EB%8C%80%ED%95%9C%EB%AF%BC%EA%B5%AD%EC%9D%98_%EB%8C%80%ED%86%B5%EB%A0%B9_%EB%AA%A9%EB%A1%9D\"\n",
    "html =requests.get(url) # 네이버 \n",
    "soup = BeautifulSoup(html.text, 'lwml')"
   ]
  },
  {
   "cell_type": "code",
   "execution_count": 61,
   "id": "16d52f28-d6ac-46e8-97f9-21b750e8b92d",
   "metadata": {
    "tags": []
   },
   "outputs": [
    {
     "data": {
      "text/plain": [
       "[<a href=\"/wiki/%EC%9D%B4%EC%8A%B9%EB%A7%8C\" title=\"이승만\">이승만</a>,\n",
       " <a href=\"/wiki/%EC%9C%A4%EB%B3%B4%EC%84%A0\" title=\"윤보선\">윤보선</a>,\n",
       " <a href=\"/wiki/%EB%B0%95%EC%A0%95%ED%9D%AC\" title=\"박정희\">박정희</a>,\n",
       " <a href=\"/wiki/%EC%B5%9C%EA%B7%9C%ED%95%98\" title=\"최규하\">최규하</a>,\n",
       " <a href=\"/wiki/%EC%A0%84%EB%91%90%ED%99%98\" title=\"전두환\">전두환</a>,\n",
       " <a href=\"/wiki/%EB%85%B8%ED%83%9C%EC%9A%B0\" title=\"노태우\">노태우</a>,\n",
       " <a href=\"/wiki/%EA%B9%80%EC%98%81%EC%82%BC\" title=\"김영삼\">김영삼</a>,\n",
       " <a href=\"/wiki/%EA%B9%80%EB%8C%80%EC%A4%91\" title=\"김대중\">김대중</a>,\n",
       " <a href=\"/wiki/%EB%85%B8%EB%AC%B4%ED%98%84\" title=\"노무현\">노무현</a>,\n",
       " <a href=\"/wiki/%EC%9D%B4%EB%AA%85%EB%B0%95\" title=\"이명박\">이명박</a>,\n",
       " <a href=\"/wiki/%EB%B0%95%EA%B7%BC%ED%98%9C\" title=\"박근혜\">박근혜</a>,\n",
       " <a href=\"/wiki/%EB%AC%B8%EC%9E%AC%EC%9D%B8\" title=\"문재인\">문재인</a>,\n",
       " <a href=\"/wiki/%EC%9C%A4%EC%84%9D%EC%97%B4\" title=\"윤석열\">윤석열</a>]"
      ]
     },
     "execution_count": 61,
     "metadata": {},
     "output_type": "execute_result"
    }
   ],
   "source": [
    "names = soup.select('td:nth-child(3) > b > a') \n",
    "names"
   ]
  },
  {
   "cell_type": "code",
   "execution_count": 62,
   "id": "dab30668-bb69-4cee-a902-87d5cf0cae02",
   "metadata": {},
   "outputs": [
    {
     "name": "stdout",
     "output_type": "stream",
     "text": [
      "이승만\n",
      "윤보선\n",
      "박정희\n",
      "최규하\n",
      "전두환\n",
      "노태우\n",
      "김영삼\n",
      "김대중\n",
      "노무현\n",
      "이명박\n",
      "박근혜\n",
      "문재인\n",
      "윤석열\n"
     ]
    }
   ],
   "source": [
    "for i in names:\n",
    "    print(i.text)"
   ]
  },
  {
   "cell_type": "code",
   "execution_count": null,
   "id": "b3c5a512-7a34-4c9f-9d13-0160139d1be1",
   "metadata": {},
   "outputs": [],
   "source": [
    "1. 'td > b > a'\n",
    "2. soup.select('td > b > a')"
   ]
  },
  {
   "cell_type": "code",
   "execution_count": 65,
   "id": "b91cf6d9-6157-4d09-900f-f6d23492fc75",
   "metadata": {
    "tags": []
   },
   "outputs": [
    {
     "name": "stderr",
     "output_type": "stream",
     "text": [
      "C:\\Users\\admin\\AppData\\Local\\Temp\\ipykernel_5836\\2276054712.py:1: DeprecationWarning: executable_path has been deprecated, please pass in a Service object\n",
      "  driver = webdriver.Chrome('C://Users//admin/chromedriver.exe')\n"
     ]
    }
   ],
   "source": [
    "# 빈칸의 class 이름은?\n",
    "driver = webdriver.Chrome('C://Users//admin/chromedriver.exe')\n",
    "driver.get(\"https://www.google.com/\")\n",
    "\n",
    "e = driver.find_element(By.CLASS_NAME, \"gLFyf.gsfi\")\n",
    "\n",
    "e.send_keys(\"KOREA\") "
   ]
  },
  {
   "cell_type": "code",
   "execution_count": null,
   "id": "d47fa23c-31e8-4244-a62b-205d097ac1e8",
   "metadata": {},
   "outputs": [],
   "source": [
    "CSS에서\n",
    "클래스 : .\n",
    "아이디 : #"
   ]
  },
  {
   "cell_type": "code",
   "execution_count": null,
   "id": "94a8308e-3046-4d19-a189-c688ba753d41",
   "metadata": {},
   "outputs": [],
   "source": [
    "아침문제를 보낼때, 매번 로그인 하는 과정이 귀찮아\n",
    "로그인과 메일 발송을 한번에 하는 프로그램을 작성하려고 한다.\n",
    "아래 질문에 답하기\n",
    "\n",
    "자동화를 RPA라고 부른다."
   ]
  },
  {
   "cell_type": "code",
   "execution_count": null,
   "id": "b42d1f75-616e-4424-8eda-634cb317c6bf",
   "metadata": {},
   "outputs": [],
   "source": [
    "1. 네이버 로그인 페이지 url을 가져와 이를 웹드라이버로 새로 호출하기."
   ]
  },
  {
   "cell_type": "code",
   "execution_count": 90,
   "id": "94cf7ffe-0f91-4782-b2c4-eaf30e70f082",
   "metadata": {},
   "outputs": [
    {
     "name": "stderr",
     "output_type": "stream",
     "text": [
      "C:\\Users\\admin\\AppData\\Local\\Temp\\ipykernel_5836\\1037055240.py:1: DeprecationWarning: executable_path has been deprecated, please pass in a Service object\n",
      "  driver = webdriver.Chrome('C://Users//admin/chromedriver.exe')\n"
     ]
    }
   ],
   "source": [
    "driver = webdriver.Chrome('C://Users//admin/chromedriver.exe')\n",
    "driver.get('https://nid.naver.com/nidlogin.login?mode=form&url=https%3A%2F%2Fwww.naver.com')"
   ]
  },
  {
   "cell_type": "code",
   "execution_count": null,
   "id": "fa8974d1-40a7-47b0-b54d-1a4b892bbbf2",
   "metadata": {},
   "outputs": [],
   "source": [
    "e = driver.find_element(By.ID, \"id\")\n",
    "e.clear()\n",
    "e.send_keys(\"id\")\n",
    "\n",
    "e = driver.find_element(By.ID, \"pw\")\n",
    "e.clear()\n",
    "e.send_keys(\"pw\")\n",
    "\n",
    "e.send_keys(Keys.ENTER)"
   ]
  },
  {
   "cell_type": "code",
   "execution_count": 99,
   "id": "c9251426-2d22-43d2-a272-13a6cbc8d340",
   "metadata": {},
   "outputs": [
    {
     "ename": "NoSuchWindowException",
     "evalue": "Message: no such window: target window already closed\nfrom unknown error: web view not found\n  (Session info: chrome=107.0.5304.63)\nStacktrace:\nBacktrace:\n\tOrdinal0 [0x0089ACD3+2075859]\n\tOrdinal0 [0x0082EE61+1633889]\n\tOrdinal0 [0x0072B7BD+571325]\n\tOrdinal0 [0x00712E1A+470554]\n\tOrdinal0 [0x0077AA0B+895499]\n\tOrdinal0 [0x0078AC96+961686]\n\tOrdinal0 [0x00777136+880950]\n\tOrdinal0 [0x0074FEFD+720637]\n\tOrdinal0 [0x00750F3F+724799]\n\tGetHandleVerifier [0x00B4EED2+2769538]\n\tGetHandleVerifier [0x00B40D95+2711877]\n\tGetHandleVerifier [0x0092A03A+521194]\n\tGetHandleVerifier [0x00928DA0+516432]\n\tOrdinal0 [0x0083682C+1665068]\n\tOrdinal0 [0x0083B128+1683752]\n\tOrdinal0 [0x0083B215+1683989]\n\tOrdinal0 [0x00846484+1729668]\n\tBaseThreadInitThunk [0x75A1FA29+25]\n\tRtlGetAppContainerNamedObjectPath [0x778E7BBE+286]\n\tRtlGetAppContainerNamedObjectPath [0x778E7B8E+238]\n",
     "output_type": "error",
     "traceback": [
      "\u001b[1;31m---------------------------------------------------------------------------\u001b[0m",
      "\u001b[1;31mNoSuchWindowException\u001b[0m                     Traceback (most recent call last)",
      "Input \u001b[1;32mIn [99]\u001b[0m, in \u001b[0;36m<cell line: 2>\u001b[1;34m()\u001b[0m\n\u001b[0;32m      1\u001b[0m url\u001b[38;5;241m=\u001b[39m\u001b[38;5;124m'\u001b[39m\u001b[38;5;124mhttps://www.naver.com\u001b[39m\u001b[38;5;124m'\u001b[39m\n\u001b[1;32m----> 2\u001b[0m \u001b[43mdriver\u001b[49m\u001b[38;5;241;43m.\u001b[39;49m\u001b[43mget\u001b[49m\u001b[43m(\u001b[49m\u001b[43murl\u001b[49m\u001b[43m)\u001b[49m\n",
      "File \u001b[1;32m~\\anaconda3\\lib\\site-packages\\selenium\\webdriver\\remote\\webdriver.py:441\u001b[0m, in \u001b[0;36mWebDriver.get\u001b[1;34m(self, url)\u001b[0m\n\u001b[0;32m    437\u001b[0m \u001b[38;5;28;01mdef\u001b[39;00m \u001b[38;5;21mget\u001b[39m(\u001b[38;5;28mself\u001b[39m, url: \u001b[38;5;28mstr\u001b[39m) \u001b[38;5;241m-\u001b[39m\u001b[38;5;241m>\u001b[39m \u001b[38;5;28;01mNone\u001b[39;00m:\n\u001b[0;32m    438\u001b[0m     \u001b[38;5;124;03m\"\"\"\u001b[39;00m\n\u001b[0;32m    439\u001b[0m \u001b[38;5;124;03m    Loads a web page in the current browser session.\u001b[39;00m\n\u001b[0;32m    440\u001b[0m \u001b[38;5;124;03m    \"\"\"\u001b[39;00m\n\u001b[1;32m--> 441\u001b[0m     \u001b[38;5;28;43mself\u001b[39;49m\u001b[38;5;241;43m.\u001b[39;49m\u001b[43mexecute\u001b[49m\u001b[43m(\u001b[49m\u001b[43mCommand\u001b[49m\u001b[38;5;241;43m.\u001b[39;49m\u001b[43mGET\u001b[49m\u001b[43m,\u001b[49m\u001b[43m \u001b[49m\u001b[43m{\u001b[49m\u001b[38;5;124;43m'\u001b[39;49m\u001b[38;5;124;43murl\u001b[39;49m\u001b[38;5;124;43m'\u001b[39;49m\u001b[43m:\u001b[49m\u001b[43m \u001b[49m\u001b[43murl\u001b[49m\u001b[43m}\u001b[49m\u001b[43m)\u001b[49m\n",
      "File \u001b[1;32m~\\anaconda3\\lib\\site-packages\\selenium\\webdriver\\remote\\webdriver.py:429\u001b[0m, in \u001b[0;36mWebDriver.execute\u001b[1;34m(self, driver_command, params)\u001b[0m\n\u001b[0;32m    427\u001b[0m response \u001b[38;5;241m=\u001b[39m \u001b[38;5;28mself\u001b[39m\u001b[38;5;241m.\u001b[39mcommand_executor\u001b[38;5;241m.\u001b[39mexecute(driver_command, params)\n\u001b[0;32m    428\u001b[0m \u001b[38;5;28;01mif\u001b[39;00m response:\n\u001b[1;32m--> 429\u001b[0m     \u001b[38;5;28;43mself\u001b[39;49m\u001b[38;5;241;43m.\u001b[39;49m\u001b[43merror_handler\u001b[49m\u001b[38;5;241;43m.\u001b[39;49m\u001b[43mcheck_response\u001b[49m\u001b[43m(\u001b[49m\u001b[43mresponse\u001b[49m\u001b[43m)\u001b[49m\n\u001b[0;32m    430\u001b[0m     response[\u001b[38;5;124m'\u001b[39m\u001b[38;5;124mvalue\u001b[39m\u001b[38;5;124m'\u001b[39m] \u001b[38;5;241m=\u001b[39m \u001b[38;5;28mself\u001b[39m\u001b[38;5;241m.\u001b[39m_unwrap_value(\n\u001b[0;32m    431\u001b[0m         response\u001b[38;5;241m.\u001b[39mget(\u001b[38;5;124m'\u001b[39m\u001b[38;5;124mvalue\u001b[39m\u001b[38;5;124m'\u001b[39m, \u001b[38;5;28;01mNone\u001b[39;00m))\n\u001b[0;32m    432\u001b[0m     \u001b[38;5;28;01mreturn\u001b[39;00m response\n",
      "File \u001b[1;32m~\\anaconda3\\lib\\site-packages\\selenium\\webdriver\\remote\\errorhandler.py:243\u001b[0m, in \u001b[0;36mErrorHandler.check_response\u001b[1;34m(self, response)\u001b[0m\n\u001b[0;32m    241\u001b[0m         alert_text \u001b[38;5;241m=\u001b[39m value[\u001b[38;5;124m'\u001b[39m\u001b[38;5;124malert\u001b[39m\u001b[38;5;124m'\u001b[39m]\u001b[38;5;241m.\u001b[39mget(\u001b[38;5;124m'\u001b[39m\u001b[38;5;124mtext\u001b[39m\u001b[38;5;124m'\u001b[39m)\n\u001b[0;32m    242\u001b[0m     \u001b[38;5;28;01mraise\u001b[39;00m exception_class(message, screen, stacktrace, alert_text)  \u001b[38;5;66;03m# type: ignore[call-arg]  # mypy is not smart enough here\u001b[39;00m\n\u001b[1;32m--> 243\u001b[0m \u001b[38;5;28;01mraise\u001b[39;00m exception_class(message, screen, stacktrace)\n",
      "\u001b[1;31mNoSuchWindowException\u001b[0m: Message: no such window: target window already closed\nfrom unknown error: web view not found\n  (Session info: chrome=107.0.5304.63)\nStacktrace:\nBacktrace:\n\tOrdinal0 [0x0089ACD3+2075859]\n\tOrdinal0 [0x0082EE61+1633889]\n\tOrdinal0 [0x0072B7BD+571325]\n\tOrdinal0 [0x00712E1A+470554]\n\tOrdinal0 [0x0077AA0B+895499]\n\tOrdinal0 [0x0078AC96+961686]\n\tOrdinal0 [0x00777136+880950]\n\tOrdinal0 [0x0074FEFD+720637]\n\tOrdinal0 [0x00750F3F+724799]\n\tGetHandleVerifier [0x00B4EED2+2769538]\n\tGetHandleVerifier [0x00B40D95+2711877]\n\tGetHandleVerifier [0x0092A03A+521194]\n\tGetHandleVerifier [0x00928DA0+516432]\n\tOrdinal0 [0x0083682C+1665068]\n\tOrdinal0 [0x0083B128+1683752]\n\tOrdinal0 [0x0083B215+1683989]\n\tOrdinal0 [0x00846484+1729668]\n\tBaseThreadInitThunk [0x75A1FA29+25]\n\tRtlGetAppContainerNamedObjectPath [0x778E7BBE+286]\n\tRtlGetAppContainerNamedObjectPath [0x778E7B8E+238]\n"
     ]
    }
   ],
   "source": [
    "url='https://www.naver.com'\n",
    "driver.get(url)"
   ]
  },
  {
   "cell_type": "code",
   "execution_count": 98,
   "id": "5df75829-dfa1-4ac3-ac90-4ad4a5929812",
   "metadata": {
    "tags": []
   },
   "outputs": [],
   "source": [
    "# 네이버 홈페이지에서 메일로 들어가도록 하세요.\n",
    "# 클래스 이름은 'nav'를 찾아서 click() 메소드를 호출하기\n",
    "\n",
    "driver.find_element(By.CLASS_NAME, 'nav').click()"
   ]
  },
  {
   "cell_type": "code",
   "execution_count": 92,
   "id": "2d8d71c2-c50f-472f-b73e-5407819f62db",
   "metadata": {
    "collapsed": true,
    "jupyter": {
     "outputs_hidden": true
    },
    "tags": []
   },
   "outputs": [
    {
     "name": "stderr",
     "output_type": "stream",
     "text": [
      "C:\\Users\\admin\\AppData\\Local\\Temp\\ipykernel_5836\\3174694058.py:1: DeprecationWarning: executable_path has been deprecated, please pass in a Service object\n",
      "  driver = webdriver.Chrome('C://Users//admin/chromedriver.exe')\n"
     ]
    },
    {
     "ename": "NoSuchElementException",
     "evalue": "Message: no such element: Unable to locate element: {\"method\":\"css selector\",\"selector\":\".tab MY_TAB_MAIL\"}\n  (Session info: chrome=107.0.5304.63)\nStacktrace:\nBacktrace:\n\tOrdinal0 [0x0089ACD3+2075859]\n\tOrdinal0 [0x0082EE61+1633889]\n\tOrdinal0 [0x0072B7BD+571325]\n\tOrdinal0 [0x0075AC2F+764975]\n\tOrdinal0 [0x0075AE1B+765467]\n\tOrdinal0 [0x0078D0F2+970994]\n\tOrdinal0 [0x00777364+881508]\n\tOrdinal0 [0x0078B56A+963946]\n\tOrdinal0 [0x00777136+880950]\n\tOrdinal0 [0x0074FEFD+720637]\n\tOrdinal0 [0x00750F3F+724799]\n\tGetHandleVerifier [0x00B4EED2+2769538]\n\tGetHandleVerifier [0x00B40D95+2711877]\n\tGetHandleVerifier [0x0092A03A+521194]\n\tGetHandleVerifier [0x00928DA0+516432]\n\tOrdinal0 [0x0083682C+1665068]\n\tOrdinal0 [0x0083B128+1683752]\n\tOrdinal0 [0x0083B215+1683989]\n\tOrdinal0 [0x00846484+1729668]\n\tBaseThreadInitThunk [0x75A1FA29+25]\n\tRtlGetAppContainerNamedObjectPath [0x778E7BBE+286]\n\tRtlGetAppContainerNamedObjectPath [0x778E7B8E+238]\n",
     "output_type": "error",
     "traceback": [
      "\u001b[1;31m---------------------------------------------------------------------------\u001b[0m",
      "\u001b[1;31mNoSuchElementException\u001b[0m                    Traceback (most recent call last)",
      "Input \u001b[1;32mIn [92]\u001b[0m, in \u001b[0;36m<cell line: 2>\u001b[1;34m()\u001b[0m\n\u001b[0;32m      1\u001b[0m driver \u001b[38;5;241m=\u001b[39m webdriver\u001b[38;5;241m.\u001b[39mChrome(\u001b[38;5;124m'\u001b[39m\u001b[38;5;124mC://Users//admin/chromedriver.exe\u001b[39m\u001b[38;5;124m'\u001b[39m)\n\u001b[1;32m----> 2\u001b[0m \u001b[43mdriver\u001b[49m\u001b[38;5;241;43m.\u001b[39;49m\u001b[43mfind_element\u001b[49m\u001b[43m(\u001b[49m\u001b[43mBy\u001b[49m\u001b[38;5;241;43m.\u001b[39;49m\u001b[43mCLASS_NAME\u001b[49m\u001b[43m,\u001b[49m\u001b[43m \u001b[49m\u001b[38;5;124;43m'\u001b[39;49m\u001b[38;5;124;43mtab MY_TAB_MAIL\u001b[39;49m\u001b[38;5;124;43m'\u001b[39;49m\u001b[43m)\u001b[49m\u001b[38;5;241m.\u001b[39mclick()\n",
      "File \u001b[1;32m~\\anaconda3\\lib\\site-packages\\selenium\\webdriver\\remote\\webdriver.py:856\u001b[0m, in \u001b[0;36mWebDriver.find_element\u001b[1;34m(self, by, value)\u001b[0m\n\u001b[0;32m    853\u001b[0m     by \u001b[38;5;241m=\u001b[39m By\u001b[38;5;241m.\u001b[39mCSS_SELECTOR\n\u001b[0;32m    854\u001b[0m     value \u001b[38;5;241m=\u001b[39m \u001b[38;5;124m'\u001b[39m\u001b[38;5;124m[name=\u001b[39m\u001b[38;5;124m\"\u001b[39m\u001b[38;5;132;01m%s\u001b[39;00m\u001b[38;5;124m\"\u001b[39m\u001b[38;5;124m]\u001b[39m\u001b[38;5;124m'\u001b[39m \u001b[38;5;241m%\u001b[39m value\n\u001b[1;32m--> 856\u001b[0m \u001b[38;5;28;01mreturn\u001b[39;00m \u001b[38;5;28;43mself\u001b[39;49m\u001b[38;5;241;43m.\u001b[39;49m\u001b[43mexecute\u001b[49m\u001b[43m(\u001b[49m\u001b[43mCommand\u001b[49m\u001b[38;5;241;43m.\u001b[39;49m\u001b[43mFIND_ELEMENT\u001b[49m\u001b[43m,\u001b[49m\u001b[43m \u001b[49m\u001b[43m{\u001b[49m\n\u001b[0;32m    857\u001b[0m \u001b[43m    \u001b[49m\u001b[38;5;124;43m'\u001b[39;49m\u001b[38;5;124;43musing\u001b[39;49m\u001b[38;5;124;43m'\u001b[39;49m\u001b[43m:\u001b[49m\u001b[43m \u001b[49m\u001b[43mby\u001b[49m\u001b[43m,\u001b[49m\n\u001b[0;32m    858\u001b[0m \u001b[43m    \u001b[49m\u001b[38;5;124;43m'\u001b[39;49m\u001b[38;5;124;43mvalue\u001b[39;49m\u001b[38;5;124;43m'\u001b[39;49m\u001b[43m:\u001b[49m\u001b[43m \u001b[49m\u001b[43mvalue\u001b[49m\u001b[43m}\u001b[49m\u001b[43m)\u001b[49m[\u001b[38;5;124m'\u001b[39m\u001b[38;5;124mvalue\u001b[39m\u001b[38;5;124m'\u001b[39m]\n",
      "File \u001b[1;32m~\\anaconda3\\lib\\site-packages\\selenium\\webdriver\\remote\\webdriver.py:429\u001b[0m, in \u001b[0;36mWebDriver.execute\u001b[1;34m(self, driver_command, params)\u001b[0m\n\u001b[0;32m    427\u001b[0m response \u001b[38;5;241m=\u001b[39m \u001b[38;5;28mself\u001b[39m\u001b[38;5;241m.\u001b[39mcommand_executor\u001b[38;5;241m.\u001b[39mexecute(driver_command, params)\n\u001b[0;32m    428\u001b[0m \u001b[38;5;28;01mif\u001b[39;00m response:\n\u001b[1;32m--> 429\u001b[0m     \u001b[38;5;28;43mself\u001b[39;49m\u001b[38;5;241;43m.\u001b[39;49m\u001b[43merror_handler\u001b[49m\u001b[38;5;241;43m.\u001b[39;49m\u001b[43mcheck_response\u001b[49m\u001b[43m(\u001b[49m\u001b[43mresponse\u001b[49m\u001b[43m)\u001b[49m\n\u001b[0;32m    430\u001b[0m     response[\u001b[38;5;124m'\u001b[39m\u001b[38;5;124mvalue\u001b[39m\u001b[38;5;124m'\u001b[39m] \u001b[38;5;241m=\u001b[39m \u001b[38;5;28mself\u001b[39m\u001b[38;5;241m.\u001b[39m_unwrap_value(\n\u001b[0;32m    431\u001b[0m         response\u001b[38;5;241m.\u001b[39mget(\u001b[38;5;124m'\u001b[39m\u001b[38;5;124mvalue\u001b[39m\u001b[38;5;124m'\u001b[39m, \u001b[38;5;28;01mNone\u001b[39;00m))\n\u001b[0;32m    432\u001b[0m     \u001b[38;5;28;01mreturn\u001b[39;00m response\n",
      "File \u001b[1;32m~\\anaconda3\\lib\\site-packages\\selenium\\webdriver\\remote\\errorhandler.py:243\u001b[0m, in \u001b[0;36mErrorHandler.check_response\u001b[1;34m(self, response)\u001b[0m\n\u001b[0;32m    241\u001b[0m         alert_text \u001b[38;5;241m=\u001b[39m value[\u001b[38;5;124m'\u001b[39m\u001b[38;5;124malert\u001b[39m\u001b[38;5;124m'\u001b[39m]\u001b[38;5;241m.\u001b[39mget(\u001b[38;5;124m'\u001b[39m\u001b[38;5;124mtext\u001b[39m\u001b[38;5;124m'\u001b[39m)\n\u001b[0;32m    242\u001b[0m     \u001b[38;5;28;01mraise\u001b[39;00m exception_class(message, screen, stacktrace, alert_text)  \u001b[38;5;66;03m# type: ignore[call-arg]  # mypy is not smart enough here\u001b[39;00m\n\u001b[1;32m--> 243\u001b[0m \u001b[38;5;28;01mraise\u001b[39;00m exception_class(message, screen, stacktrace)\n",
      "\u001b[1;31mNoSuchElementException\u001b[0m: Message: no such element: Unable to locate element: {\"method\":\"css selector\",\"selector\":\".tab MY_TAB_MAIL\"}\n  (Session info: chrome=107.0.5304.63)\nStacktrace:\nBacktrace:\n\tOrdinal0 [0x0089ACD3+2075859]\n\tOrdinal0 [0x0082EE61+1633889]\n\tOrdinal0 [0x0072B7BD+571325]\n\tOrdinal0 [0x0075AC2F+764975]\n\tOrdinal0 [0x0075AE1B+765467]\n\tOrdinal0 [0x0078D0F2+970994]\n\tOrdinal0 [0x00777364+881508]\n\tOrdinal0 [0x0078B56A+963946]\n\tOrdinal0 [0x00777136+880950]\n\tOrdinal0 [0x0074FEFD+720637]\n\tOrdinal0 [0x00750F3F+724799]\n\tGetHandleVerifier [0x00B4EED2+2769538]\n\tGetHandleVerifier [0x00B40D95+2711877]\n\tGetHandleVerifier [0x0092A03A+521194]\n\tGetHandleVerifier [0x00928DA0+516432]\n\tOrdinal0 [0x0083682C+1665068]\n\tOrdinal0 [0x0083B128+1683752]\n\tOrdinal0 [0x0083B215+1683989]\n\tOrdinal0 [0x00846484+1729668]\n\tBaseThreadInitThunk [0x75A1FA29+25]\n\tRtlGetAppContainerNamedObjectPath [0x778E7BBE+286]\n\tRtlGetAppContainerNamedObjectPath [0x778E7B8E+238]\n"
     ]
    }
   ],
   "source": [
    "driver = webdriver.Chrome('C://Users//admin/chromedriver.exe')\n",
    "driver.find_element(By.CLASS_NAME, 'tab MY_TAB_MAIL').click()"
   ]
  },
  {
   "cell_type": "code",
   "execution_count": 54,
   "id": "c73cf4e4-f8f2-4652-ba9b-4ad6db76f3d9",
   "metadata": {},
   "outputs": [
    {
     "ename": "SyntaxError",
     "evalue": "invalid syntax (2945159567.py, line 1)",
     "output_type": "error",
     "traceback": [
      "\u001b[1;36m  Input \u001b[1;32mIn [54]\u001b[1;36m\u001b[0m\n\u001b[1;33m    skin_corp_bg skin_corp_txt\u001b[0m\n\u001b[1;37m                 ^\u001b[0m\n\u001b[1;31mSyntaxError\u001b[0m\u001b[1;31m:\u001b[0m invalid syntax\n"
     ]
    }
   ],
   "source": [
    "skin_corp_bg skin_corp_txt\n",
    "\n",
    "driver.find_element(By.CLASS_NAME, \"skin_corp_bg.skin_corp_txt\").click()\n",
    "driver.find_element(By.CSS_SELECTOR, \"skin_corp_bg.skin_corp_txt\").click()"
   ]
  },
  {
   "cell_type": "code",
   "execution_count": 66,
   "id": "7ed8b41d-6720-41ca-af26-7cd452662f14",
   "metadata": {
    "collapsed": true,
    "jupyter": {
     "outputs_hidden": true
    },
    "tags": []
   },
   "outputs": [
    {
     "ename": "NoSuchWindowException",
     "evalue": "Message: no such window: target window already closed\nfrom unknown error: web view not found\n  (Session info: chrome=107.0.5304.63)\nStacktrace:\nBacktrace:\n\tOrdinal0 [0x0089ACD3+2075859]\n\tOrdinal0 [0x0082EE61+1633889]\n\tOrdinal0 [0x0072B7BD+571325]\n\tOrdinal0 [0x00712E1A+470554]\n\tOrdinal0 [0x0077AA0B+895499]\n\tOrdinal0 [0x0078AC96+961686]\n\tOrdinal0 [0x00777136+880950]\n\tOrdinal0 [0x0074FEFD+720637]\n\tOrdinal0 [0x00750F3F+724799]\n\tGetHandleVerifier [0x00B4EED2+2769538]\n\tGetHandleVerifier [0x00B40D95+2711877]\n\tGetHandleVerifier [0x0092A03A+521194]\n\tGetHandleVerifier [0x00928DA0+516432]\n\tOrdinal0 [0x0083682C+1665068]\n\tOrdinal0 [0x0083B128+1683752]\n\tOrdinal0 [0x0083B215+1683989]\n\tOrdinal0 [0x00846484+1729668]\n\tBaseThreadInitThunk [0x75A1FA29+25]\n\tRtlGetAppContainerNamedObjectPath [0x778E7BBE+286]\n\tRtlGetAppContainerNamedObjectPath [0x778E7B8E+238]\n",
     "output_type": "error",
     "traceback": [
      "\u001b[1;31m---------------------------------------------------------------------------\u001b[0m",
      "\u001b[1;31mNoSuchWindowException\u001b[0m                     Traceback (most recent call last)",
      "Input \u001b[1;32mIn [66]\u001b[0m, in \u001b[0;36m<cell line: 2>\u001b[1;34m()\u001b[0m\n\u001b[0;32m      1\u001b[0m \u001b[38;5;66;03m# 받는 사람에 princessria@naver.com을 입력해 주세요.\u001b[39;00m\n\u001b[1;32m----> 2\u001b[0m e \u001b[38;5;241m=\u001b[39m \u001b[43mdriver\u001b[49m\u001b[38;5;241;43m.\u001b[39;49m\u001b[43mfind_element\u001b[49m\u001b[43m(\u001b[49m\u001b[43mBy\u001b[49m\u001b[38;5;241;43m.\u001b[39;49m\u001b[43mID\u001b[49m\u001b[43m,\u001b[49m\u001b[43m \u001b[49m\u001b[38;5;124;43m'\u001b[39;49m\u001b[38;5;124;43mtoInput\u001b[39;49m\u001b[38;5;124;43m'\u001b[39;49m\u001b[43m)\u001b[49m\n\u001b[0;32m      3\u001b[0m e\u001b[38;5;241m.\u001b[39mclear()\n\u001b[0;32m      4\u001b[0m e\u001b[38;5;241m.\u001b[39msend_keys(\u001b[38;5;124m\"\u001b[39m\u001b[38;5;124mprincessria@naver.com\u001b[39m\u001b[38;5;124m\"\u001b[39m)\n",
      "File \u001b[1;32m~\\anaconda3\\lib\\site-packages\\selenium\\webdriver\\remote\\webdriver.py:856\u001b[0m, in \u001b[0;36mWebDriver.find_element\u001b[1;34m(self, by, value)\u001b[0m\n\u001b[0;32m    853\u001b[0m     by \u001b[38;5;241m=\u001b[39m By\u001b[38;5;241m.\u001b[39mCSS_SELECTOR\n\u001b[0;32m    854\u001b[0m     value \u001b[38;5;241m=\u001b[39m \u001b[38;5;124m'\u001b[39m\u001b[38;5;124m[name=\u001b[39m\u001b[38;5;124m\"\u001b[39m\u001b[38;5;132;01m%s\u001b[39;00m\u001b[38;5;124m\"\u001b[39m\u001b[38;5;124m]\u001b[39m\u001b[38;5;124m'\u001b[39m \u001b[38;5;241m%\u001b[39m value\n\u001b[1;32m--> 856\u001b[0m \u001b[38;5;28;01mreturn\u001b[39;00m \u001b[38;5;28;43mself\u001b[39;49m\u001b[38;5;241;43m.\u001b[39;49m\u001b[43mexecute\u001b[49m\u001b[43m(\u001b[49m\u001b[43mCommand\u001b[49m\u001b[38;5;241;43m.\u001b[39;49m\u001b[43mFIND_ELEMENT\u001b[49m\u001b[43m,\u001b[49m\u001b[43m \u001b[49m\u001b[43m{\u001b[49m\n\u001b[0;32m    857\u001b[0m \u001b[43m    \u001b[49m\u001b[38;5;124;43m'\u001b[39;49m\u001b[38;5;124;43musing\u001b[39;49m\u001b[38;5;124;43m'\u001b[39;49m\u001b[43m:\u001b[49m\u001b[43m \u001b[49m\u001b[43mby\u001b[49m\u001b[43m,\u001b[49m\n\u001b[0;32m    858\u001b[0m \u001b[43m    \u001b[49m\u001b[38;5;124;43m'\u001b[39;49m\u001b[38;5;124;43mvalue\u001b[39;49m\u001b[38;5;124;43m'\u001b[39;49m\u001b[43m:\u001b[49m\u001b[43m \u001b[49m\u001b[43mvalue\u001b[49m\u001b[43m}\u001b[49m\u001b[43m)\u001b[49m[\u001b[38;5;124m'\u001b[39m\u001b[38;5;124mvalue\u001b[39m\u001b[38;5;124m'\u001b[39m]\n",
      "File \u001b[1;32m~\\anaconda3\\lib\\site-packages\\selenium\\webdriver\\remote\\webdriver.py:429\u001b[0m, in \u001b[0;36mWebDriver.execute\u001b[1;34m(self, driver_command, params)\u001b[0m\n\u001b[0;32m    427\u001b[0m response \u001b[38;5;241m=\u001b[39m \u001b[38;5;28mself\u001b[39m\u001b[38;5;241m.\u001b[39mcommand_executor\u001b[38;5;241m.\u001b[39mexecute(driver_command, params)\n\u001b[0;32m    428\u001b[0m \u001b[38;5;28;01mif\u001b[39;00m response:\n\u001b[1;32m--> 429\u001b[0m     \u001b[38;5;28;43mself\u001b[39;49m\u001b[38;5;241;43m.\u001b[39;49m\u001b[43merror_handler\u001b[49m\u001b[38;5;241;43m.\u001b[39;49m\u001b[43mcheck_response\u001b[49m\u001b[43m(\u001b[49m\u001b[43mresponse\u001b[49m\u001b[43m)\u001b[49m\n\u001b[0;32m    430\u001b[0m     response[\u001b[38;5;124m'\u001b[39m\u001b[38;5;124mvalue\u001b[39m\u001b[38;5;124m'\u001b[39m] \u001b[38;5;241m=\u001b[39m \u001b[38;5;28mself\u001b[39m\u001b[38;5;241m.\u001b[39m_unwrap_value(\n\u001b[0;32m    431\u001b[0m         response\u001b[38;5;241m.\u001b[39mget(\u001b[38;5;124m'\u001b[39m\u001b[38;5;124mvalue\u001b[39m\u001b[38;5;124m'\u001b[39m, \u001b[38;5;28;01mNone\u001b[39;00m))\n\u001b[0;32m    432\u001b[0m     \u001b[38;5;28;01mreturn\u001b[39;00m response\n",
      "File \u001b[1;32m~\\anaconda3\\lib\\site-packages\\selenium\\webdriver\\remote\\errorhandler.py:243\u001b[0m, in \u001b[0;36mErrorHandler.check_response\u001b[1;34m(self, response)\u001b[0m\n\u001b[0;32m    241\u001b[0m         alert_text \u001b[38;5;241m=\u001b[39m value[\u001b[38;5;124m'\u001b[39m\u001b[38;5;124malert\u001b[39m\u001b[38;5;124m'\u001b[39m]\u001b[38;5;241m.\u001b[39mget(\u001b[38;5;124m'\u001b[39m\u001b[38;5;124mtext\u001b[39m\u001b[38;5;124m'\u001b[39m)\n\u001b[0;32m    242\u001b[0m     \u001b[38;5;28;01mraise\u001b[39;00m exception_class(message, screen, stacktrace, alert_text)  \u001b[38;5;66;03m# type: ignore[call-arg]  # mypy is not smart enough here\u001b[39;00m\n\u001b[1;32m--> 243\u001b[0m \u001b[38;5;28;01mraise\u001b[39;00m exception_class(message, screen, stacktrace)\n",
      "\u001b[1;31mNoSuchWindowException\u001b[0m: Message: no such window: target window already closed\nfrom unknown error: web view not found\n  (Session info: chrome=107.0.5304.63)\nStacktrace:\nBacktrace:\n\tOrdinal0 [0x0089ACD3+2075859]\n\tOrdinal0 [0x0082EE61+1633889]\n\tOrdinal0 [0x0072B7BD+571325]\n\tOrdinal0 [0x00712E1A+470554]\n\tOrdinal0 [0x0077AA0B+895499]\n\tOrdinal0 [0x0078AC96+961686]\n\tOrdinal0 [0x00777136+880950]\n\tOrdinal0 [0x0074FEFD+720637]\n\tOrdinal0 [0x00750F3F+724799]\n\tGetHandleVerifier [0x00B4EED2+2769538]\n\tGetHandleVerifier [0x00B40D95+2711877]\n\tGetHandleVerifier [0x0092A03A+521194]\n\tGetHandleVerifier [0x00928DA0+516432]\n\tOrdinal0 [0x0083682C+1665068]\n\tOrdinal0 [0x0083B128+1683752]\n\tOrdinal0 [0x0083B215+1683989]\n\tOrdinal0 [0x00846484+1729668]\n\tBaseThreadInitThunk [0x75A1FA29+25]\n\tRtlGetAppContainerNamedObjectPath [0x778E7BBE+286]\n\tRtlGetAppContainerNamedObjectPath [0x778E7B8E+238]\n"
     ]
    }
   ],
   "source": [
    "# 받는 사람에 princessria@naver.com을 입력해 주세요.\n",
    "e = driver.find_element(By.ID, 'toInput')\n",
    "e.clear()\n",
    "e.send_keys(\"princessria@naver.com\")"
   ]
  },
  {
   "cell_type": "markdown",
   "id": "584c6800-d93a-47ab-a618-d17090086fbf",
   "metadata": {},
   "source": [
    "```\n",
    "같은 코드\n",
    "\n",
    "driver.find_element(By.ID, \"toInput\").send_keys(\"princessria@naver.com\")\n",
    "```"
   ]
  },
  {
   "cell_type": "code",
   "execution_count": null,
   "id": "08df6ba6-1c25-4eac-80bc-eac4bdcd3b84",
   "metadata": {},
   "outputs": [],
   "source": [
    "# 제목에 '홍길동 문제 제출입니다.'를 입력하기\n",
    "driver.find_element(By.ID, 'subject').send_keys(\"홍길동 문제 제출입니다.\")"
   ]
  },
  {
   "cell_type": "code",
   "execution_count": null,
   "id": "4fa1bbe0-09eb-45cc-b554-0243af397682",
   "metadata": {},
   "outputs": [],
   "source": [
    "# 제목에 오늘 날짜 받아서 집어넣고 홍길동 문제 제출입니다. 라고 입력하기\n",
    "from datetime import datetime\n",
    "\n",
    "date = datetime.now().strftime('%Y-%m-%d')\n",
    "\n",
    "driver.find_element(By.ID,'subject').send_keys(f'{date} 문제제출입니다.') "
   ]
  },
  {
   "cell_type": "code",
   "execution_count": null,
   "id": "6c68f70c-0c66-49be-99e1-0fa93e494fc7",
   "metadata": {},
   "outputs": [],
   "source": [
    "# 내용란에 '문제와 정답입니다.'를 입력하기\n",
    "contents = driver.find_element(By.ID, 'subject')\n",
    "contents.send_keys(Keys.TAB, \"문제와 정답입니다.\")"
   ]
  },
  {
   "cell_type": "markdown",
   "id": "3b53fcc2-19af-4e62-9f72-194020d6dfbc",
   "metadata": {},
   "source": [
    "TAB을 쓴 이유는 제목의 subject를 찾고 키보드로 tab키를 눌러서 넘어간 걸로 잡았다."
   ]
  },
  {
   "cell_type": "markdown",
   "id": "49ee315f-aacf-46a7-8b81-25b6d284766a",
   "metadata": {},
   "source": [
    "send_keys는 여러개를 보내고 싶다면 , 기호를 써주면서 쭉 써주면 된다.\n",
    "\n",
    "('문제와 정답입니다.', '문제와 정답입니다.')"
   ]
  },
  {
   "cell_type": "code",
   "execution_count": null,
   "id": "29570f9f-9694-4ffa-b9ed-7fcec74536a6",
   "metadata": {},
   "outputs": [],
   "source": [
    "content = '''\n",
    "           문제와 정답입니다.\n",
    "           문제\n",
    "           정답입니다.\n",
    "          '''\n",
    "driver.find_element(By.ID, 'subject').send_keys(Keys.TAB, content)\n",
    "\n",
    "이렇게 해도 된다."
   ]
  },
  {
   "cell_type": "code",
   "execution_count": null,
   "id": "b40a7d91-1c8b-4904-a493-2f19d1ac83b3",
   "metadata": {},
   "outputs": [],
   "source": [
    "# 보내기 버튼을 눌러주세요.\n",
    "driver.find_element(By.ID, 'sendBtn').click()"
   ]
  },
  {
   "cell_type": "code",
   "execution_count": null,
   "id": "df2db6a3-d554-4d26-ac3c-ef05e6746fca",
   "metadata": {},
   "outputs": [],
   "source": []
  },
  {
   "cell_type": "markdown",
   "id": "0ff88ebf-a7b5-4cfc-9772-e0558d3db06c",
   "metadata": {},
   "source": [
    "# 메일"
   ]
  },
  {
   "cell_type": "code",
   "execution_count": null,
   "id": "8a971ec3-c1d9-49c9-bb7e-2130652e2dd4",
   "metadata": {},
   "outputs": [],
   "source": [
    "# 받는 사람에 princessria@naver.com을 입력해 주세요.\n",
    "driver.find_element(By.ID, 'toInput').send_keys('princessria@naver.com')\n",
    "\n",
    "# 제목에 'yyyy-mm-dd 홍길동 문제 제출입니다.'를 입력해 주세요.\n",
    "now = datetime.now().strftime('%Y-%m-%d')\n",
    "\n",
    "e = driver.find_element(By.ID, \"subject\")\n",
    "e.clear()\n",
    "e.send_keys( f\"{now}   홍길동 문제 제출입니다.\") \n",
    "\n",
    "type(now)\n",
    "\n",
    "from datetime import datetime\n",
    "today = datetime.now()\n",
    "\n",
    "# 내용란에 '문제와 정답입니다.'를 입력합시다.\n",
    "content = ''' \n",
    "         문제와 정답입니다.\n",
    "         문제\n",
    "         정답입니다.\n",
    "         '''\n",
    "\n",
    "driver.find_element(By.ID, 'subject' ).send_keys(Keys.TAB, content)\n",
    "\n",
    "# 보내기 버튼을 눌러주세요.\n",
    "f\"{today.year}-{today.month}-{today.day}\"\n",
    "\n",
    "today.strftime('%Y-%m-%d')\n",
    "\n",
    "driver.find_element(By.ID, 'sendBtn').click() "
   ]
  },
  {
   "cell_type": "code",
   "execution_count": null,
   "id": "3d9e2719-23cb-45b6-907d-496b46a7bc15",
   "metadata": {},
   "outputs": [],
   "source": []
  }
 ],
 "metadata": {
  "kernelspec": {
   "display_name": "Python 3 (ipykernel)",
   "language": "python",
   "name": "python3"
  },
  "language_info": {
   "codemirror_mode": {
    "name": "ipython",
    "version": 3
   },
   "file_extension": ".py",
   "mimetype": "text/x-python",
   "name": "python",
   "nbconvert_exporter": "python",
   "pygments_lexer": "ipython3",
   "version": "3.9.12"
  }
 },
 "nbformat": 4,
 "nbformat_minor": 5
}
