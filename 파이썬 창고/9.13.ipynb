{
 "cells": [
  {
   "cell_type": "code",
   "execution_count": 2,
   "id": "77949283-54ff-4be1-900d-d0724b75c22a",
   "metadata": {},
   "outputs": [
    {
     "data": {
      "text/plain": [
       "'0x3'"
      ]
     },
     "execution_count": 2,
     "metadata": {},
     "output_type": "execute_result"
    }
   ],
   "source": [
    "hex(3)"
   ]
  },
  {
   "cell_type": "code",
   "execution_count": 4,
   "id": "4f0e25c0-3e1b-4dc1-abdd-544832ee8dce",
   "metadata": {},
   "outputs": [
    {
     "data": {
      "text/plain": [
       "'0x9'"
      ]
     },
     "execution_count": 4,
     "metadata": {},
     "output_type": "execute_result"
    }
   ],
   "source": [
    "hex(9)"
   ]
  },
  {
   "cell_type": "markdown",
   "id": "eac7e7e2-a737-486b-990f-6254318d33c1",
   "metadata": {},
   "source": [
    "앞에 있는 0x는 16진수이다."
   ]
  },
  {
   "cell_type": "code",
   "execution_count": 5,
   "id": "6b386ac9-64b2-40ac-831f-4b0b4b2357a6",
   "metadata": {},
   "outputs": [
    {
     "data": {
      "text/plain": [
       "'0xa'"
      ]
     },
     "execution_count": 5,
     "metadata": {},
     "output_type": "execute_result"
    }
   ],
   "source": [
    "hex(10)"
   ]
  },
  {
   "cell_type": "markdown",
   "id": "03a96e49-2e2c-4278-a463-5134add978be",
   "metadata": {},
   "source": [
    "a는 10개 들어있다 라는 뜻"
   ]
  },
  {
   "cell_type": "code",
   "execution_count": 6,
   "id": "e29e889c-14bc-420c-8f9d-e6ac6d77b519",
   "metadata": {},
   "outputs": [
    {
     "data": {
      "text/plain": [
       "'0xf'"
      ]
     },
     "execution_count": 6,
     "metadata": {},
     "output_type": "execute_result"
    }
   ],
   "source": [
    "hex(15)"
   ]
  },
  {
   "cell_type": "markdown",
   "id": "eebaae4a-fad1-4cc4-b211-6935a86c125c",
   "metadata": {},
   "source": [
    "```\n",
    "10진수 : 1     1\n",
    "앞에 1은 10묶음이 들어있다. 총 11개\n",
    "\n",
    "16진수 : 1     1 => 17개\n",
    "앞에 1은 16이다.\n",
    "\n",
    "16진수 : 2     a => 2*16 + 10 = 42\n",
    "\n",
    "16진수 : f     f =>  15*16 + 15 = 255\n",
    "```"
   ]
  },
  {
   "cell_type": "code",
   "execution_count": 7,
   "id": "66eaffe1-5acf-4cc0-935b-66ab0555bb27",
   "metadata": {},
   "outputs": [
    {
     "data": {
      "text/plain": [
       "255"
      ]
     },
     "execution_count": 7,
     "metadata": {},
     "output_type": "execute_result"
    }
   ],
   "source": [
    "int('ff', base = 16)"
   ]
  },
  {
   "cell_type": "code",
   "execution_count": 8,
   "id": "d83cfdfa-89f5-42ea-8df5-2ba4e579ad1a",
   "metadata": {},
   "outputs": [
    {
     "data": {
      "text/plain": [
       "15"
      ]
     },
     "execution_count": 8,
     "metadata": {},
     "output_type": "execute_result"
    }
   ],
   "source": [
    "int('1111', base = 2)"
   ]
  },
  {
   "cell_type": "code",
   "execution_count": 9,
   "id": "e97cb52a-bc27-4191-ba7d-3cd29ef0cd4f",
   "metadata": {},
   "outputs": [],
   "source": [
    "def two_times(x):\n",
    "    return x *2"
   ]
  },
  {
   "cell_type": "code",
   "execution_count": 12,
   "id": "67d90c53-9d0e-4a58-b79b-97deabb8b1f5",
   "metadata": {},
   "outputs": [
    {
     "data": {
      "text/plain": [
       "<map at 0x169ac041b70>"
      ]
     },
     "execution_count": 12,
     "metadata": {},
     "output_type": "execute_result"
    }
   ],
   "source": [
    "map(two_times, [1,2,3,4])"
   ]
  },
  {
   "cell_type": "markdown",
   "id": "715d852f-0835-483f-8a6d-a1f46f341295",
   "metadata": {},
   "source": [
    "진수로 나타났기 때문에 list 사용해서 풀어주기"
   ]
  },
  {
   "cell_type": "code",
   "execution_count": 13,
   "id": "45f0deb3-bba3-4ad5-8a0f-f68379bcf584",
   "metadata": {},
   "outputs": [
    {
     "data": {
      "text/plain": [
       "[2, 4, 6, 8]"
      ]
     },
     "execution_count": 13,
     "metadata": {},
     "output_type": "execute_result"
    }
   ],
   "source": [
    "list(map(two_times, [1,2,3,4]))"
   ]
  },
  {
   "cell_type": "code",
   "execution_count": 14,
   "id": "7aa6c412-24b4-43d4-92f7-7537e23267c1",
   "metadata": {},
   "outputs": [
    {
     "data": {
      "text/plain": [
       "[1, 2, 3, 4]"
      ]
     },
     "execution_count": 14,
     "metadata": {},
     "output_type": "execute_result"
    }
   ],
   "source": [
    "list(map(int, ['1','2','3','4']))"
   ]
  },
  {
   "cell_type": "markdown",
   "id": "07889a47-a0b8-437b-91ed-2fdb281881a2",
   "metadata": {},
   "source": [
    "for i in 'python':\n",
    "    print(i)"
   ]
  },
  {
   "cell_type": "code",
   "execution_count": 16,
   "id": "cf2c3dc5-96fa-4b5b-80f0-5135f5909386",
   "metadata": {},
   "outputs": [
    {
     "data": {
      "text/plain": [
       "str"
      ]
     },
     "execution_count": 16,
     "metadata": {},
     "output_type": "execute_result"
    }
   ],
   "source": [
    "type('python')"
   ]
  },
  {
   "cell_type": "code",
   "execution_count": 17,
   "id": "d3f3c2c1-ce9f-4db3-8cf5-fd58f2019494",
   "metadata": {
    "collapsed": true,
    "jupyter": {
     "outputs_hidden": true
    },
    "tags": []
   },
   "outputs": [
    {
     "data": {
      "text/plain": [
       "['__add__',\n",
       " '__class__',\n",
       " '__contains__',\n",
       " '__delattr__',\n",
       " '__dir__',\n",
       " '__doc__',\n",
       " '__eq__',\n",
       " '__format__',\n",
       " '__ge__',\n",
       " '__getattribute__',\n",
       " '__getitem__',\n",
       " '__getnewargs__',\n",
       " '__gt__',\n",
       " '__hash__',\n",
       " '__init__',\n",
       " '__init_subclass__',\n",
       " '__iter__',\n",
       " '__le__',\n",
       " '__len__',\n",
       " '__lt__',\n",
       " '__mod__',\n",
       " '__mul__',\n",
       " '__ne__',\n",
       " '__new__',\n",
       " '__reduce__',\n",
       " '__reduce_ex__',\n",
       " '__repr__',\n",
       " '__rmod__',\n",
       " '__rmul__',\n",
       " '__setattr__',\n",
       " '__sizeof__',\n",
       " '__str__',\n",
       " '__subclasshook__',\n",
       " 'capitalize',\n",
       " 'casefold',\n",
       " 'center',\n",
       " 'count',\n",
       " 'encode',\n",
       " 'endswith',\n",
       " 'expandtabs',\n",
       " 'find',\n",
       " 'format',\n",
       " 'format_map',\n",
       " 'index',\n",
       " 'isalnum',\n",
       " 'isalpha',\n",
       " 'isascii',\n",
       " 'isdecimal',\n",
       " 'isdigit',\n",
       " 'isidentifier',\n",
       " 'islower',\n",
       " 'isnumeric',\n",
       " 'isprintable',\n",
       " 'isspace',\n",
       " 'istitle',\n",
       " 'isupper',\n",
       " 'join',\n",
       " 'ljust',\n",
       " 'lower',\n",
       " 'lstrip',\n",
       " 'maketrans',\n",
       " 'partition',\n",
       " 'removeprefix',\n",
       " 'removesuffix',\n",
       " 'replace',\n",
       " 'rfind',\n",
       " 'rindex',\n",
       " 'rjust',\n",
       " 'rpartition',\n",
       " 'rsplit',\n",
       " 'rstrip',\n",
       " 'split',\n",
       " 'splitlines',\n",
       " 'startswith',\n",
       " 'strip',\n",
       " 'swapcase',\n",
       " 'title',\n",
       " 'translate',\n",
       " 'upper',\n",
       " 'zfill']"
      ]
     },
     "execution_count": 17,
     "metadata": {},
     "output_type": "execute_result"
    }
   ],
   "source": [
    "dir('python')"
   ]
  },
  {
   "cell_type": "code",
   "execution_count": 18,
   "id": "cd099633-3768-4c5f-8ac9-b716c8acc662",
   "metadata": {},
   "outputs": [
    {
     "data": {
      "text/plain": [
       "3.14"
      ]
     },
     "execution_count": 18,
     "metadata": {},
     "output_type": "execute_result"
    }
   ],
   "source": [
    "round(3.141592, 2)"
   ]
  },
  {
   "cell_type": "code",
   "execution_count": 19,
   "id": "4941cfb1-4671-4bae-96fb-efd23f43741d",
   "metadata": {},
   "outputs": [
    {
     "ename": "TypeError",
     "evalue": "unsupported operand type(s) for +: 'int' and 'list'",
     "output_type": "error",
     "traceback": [
      "\u001b[1;31m---------------------------------------------------------------------------\u001b[0m",
      "\u001b[1;31mTypeError\u001b[0m                                 Traceback (most recent call last)",
      "Input \u001b[1;32mIn [19]\u001b[0m, in \u001b[0;36m<cell line: 1>\u001b[1;34m()\u001b[0m\n\u001b[1;32m----> 1\u001b[0m \u001b[38;5;28;43msum\u001b[39;49m\u001b[43m(\u001b[49m\u001b[43m[\u001b[49m\u001b[43m[\u001b[49m\u001b[38;5;241;43m1\u001b[39;49m\u001b[43m,\u001b[49m\u001b[38;5;241;43m2\u001b[39;49m\u001b[43m,\u001b[49m\u001b[38;5;241;43m3\u001b[39;49m\u001b[43m]\u001b[49m\u001b[43m,\u001b[49m\u001b[43m[\u001b[49m\u001b[38;5;241;43m4\u001b[39;49m\u001b[43m,\u001b[49m\u001b[38;5;241;43m5\u001b[39;49m\u001b[43m,\u001b[49m\u001b[38;5;241;43m6\u001b[39;49m\u001b[43m]\u001b[49m\u001b[43m]\u001b[49m\u001b[43m)\u001b[49m\n",
      "\u001b[1;31mTypeError\u001b[0m: unsupported operand type(s) for +: 'int' and 'list'"
     ]
    }
   ],
   "source": [
    "sum([[1,2,3],[4,5,6]])"
   ]
  },
  {
   "cell_type": "code",
   "execution_count": 23,
   "id": "e9dc4e4c-b1a7-4422-a9ef-9275ed8ef7c7",
   "metadata": {},
   "outputs": [
    {
     "data": {
      "text/plain": [
       "21"
      ]
     },
     "execution_count": 23,
     "metadata": {},
     "output_type": "execute_result"
    }
   ],
   "source": [
    "import numpy as np\n",
    "np.sum(np.array([[1,2,3],[4,5,6]]))"
   ]
  },
  {
   "cell_type": "markdown",
   "id": "cc2064ff-c5ee-4d1f-b17a-473ec2385852",
   "metadata": {},
   "source": [
    "<기억해두기>\n",
    "\n",
    "- filter\n",
    "- map(하나씩 터치해준다.)\n",
    "- enumerate(인텍스 번호도 같이 돌려준다.)\n",
    "- zip(묶어준다음에 인덱스 순서대로 뽑아준다.)"
   ]
  },
  {
   "cell_type": "code",
   "execution_count": 26,
   "id": "be603b4a-7357-436d-a03d-d3bd3a160ffb",
   "metadata": {},
   "outputs": [
    {
     "name": "stdout",
     "output_type": "stream",
     "text": [
      "(1, 4)\n",
      "(2, 5)\n",
      "(3, 6)\n"
     ]
    }
   ],
   "source": [
    "for i in zip([1,2,3],[4,5,6]) :\n",
    "    print(i)"
   ]
  },
  {
   "cell_type": "code",
   "execution_count": 28,
   "id": "c8c7aca8-b9ae-4ef8-b7d3-96affa427860",
   "metadata": {},
   "outputs": [
    {
     "name": "stdout",
     "output_type": "stream",
     "text": [
      "(1, 4, 'a', '정')\n",
      "(2, 5, 'b', '전')\n",
      "(3, 6, 'c', '박')\n"
     ]
    }
   ],
   "source": [
    "for i in zip([1,2,3],[4,5,6],['a','b','c'],['정','전','박']) :\n",
    "    print(i)"
   ]
  },
  {
   "cell_type": "code",
   "execution_count": 29,
   "id": "eb2612c0-0611-410d-a2d1-42be33ec16df",
   "metadata": {},
   "outputs": [
    {
     "name": "stdout",
     "output_type": "stream",
     "text": [
      "1 4 a 정\n",
      "2 5 b 전\n",
      "3 6 c 박\n"
     ]
    }
   ],
   "source": [
    "for i,j,k,l in zip([1,2,3],[4,5,6],['a','b','c'],['정','전','박']) :\n",
    "    print(i,j,k,l)"
   ]
  },
  {
   "cell_type": "code",
   "execution_count": 30,
   "id": "fe45f3ba-28ac-4e82-8c99-c1fdf37a6151",
   "metadata": {
    "collapsed": true,
    "jupyter": {
     "outputs_hidden": true
    },
    "tags": []
   },
   "outputs": [
    {
     "name": "stdout",
     "output_type": "stream",
     "text": [
      "Collecting folium\n",
      "  Downloading folium-0.12.1.post1-py2.py3-none-any.whl (95 kB)\n",
      "     ---------------------------------------- 95.0/95.0 kB 1.8 MB/s eta 0:00:00\n",
      "Requirement already satisfied: numpy in c:\\users\\admin\\appdata\\local\\programs\\python\\python310\\lib\\site-packages (from folium) (1.23.2)\n",
      "Collecting branca>=0.3.0\n",
      "  Downloading branca-0.5.0-py3-none-any.whl (24 kB)\n",
      "Requirement already satisfied: requests in c:\\users\\admin\\appdata\\local\\programs\\python\\python310\\lib\\site-packages (from folium) (2.28.1)\n",
      "Requirement already satisfied: jinja2>=2.9 in c:\\users\\admin\\appdata\\local\\programs\\python\\python310\\lib\\site-packages (from folium) (3.1.2)\n",
      "Requirement already satisfied: MarkupSafe>=2.0 in c:\\users\\admin\\appdata\\local\\programs\\python\\python310\\lib\\site-packages (from jinja2>=2.9->folium) (2.1.1)\n",
      "Requirement already satisfied: charset-normalizer<3,>=2 in c:\\users\\admin\\appdata\\local\\programs\\python\\python310\\lib\\site-packages (from requests->folium) (2.1.1)\n",
      "Requirement already satisfied: urllib3<1.27,>=1.21.1 in c:\\users\\admin\\appdata\\local\\programs\\python\\python310\\lib\\site-packages (from requests->folium) (1.26.12)\n",
      "Requirement already satisfied: idna<4,>=2.5 in c:\\users\\admin\\appdata\\local\\programs\\python\\python310\\lib\\site-packages (from requests->folium) (3.3)\n",
      "Requirement already satisfied: certifi>=2017.4.17 in c:\\users\\admin\\appdata\\local\\programs\\python\\python310\\lib\\site-packages (from requests->folium) (2022.6.15)\n",
      "Installing collected packages: branca, folium\n",
      "Successfully installed branca-0.5.0 folium-0.12.1.post1\n",
      "Note: you may need to restart the kernel to use updated packages.\n"
     ]
    },
    {
     "name": "stderr",
     "output_type": "stream",
     "text": [
      "\n",
      "[notice] A new release of pip available: 22.2.1 -> 22.2.2\n",
      "[notice] To update, run: python.exe -m pip install --upgrade pip\n"
     ]
    }
   ],
   "source": [
    "pip install folium"
   ]
  },
  {
   "cell_type": "code",
   "execution_count": 34,
   "id": "28ab6cc2-db6d-4123-b07c-bc8968e3d5ae",
   "metadata": {
    "collapsed": true,
    "jupyter": {
     "outputs_hidden": true
    },
    "tags": []
   },
   "outputs": [
    {
     "name": "stdout",
     "output_type": "stream",
     "text": [
      "Requirement already satisfied: pandas in c:\\users\\admin\\appdata\\local\\programs\\python\\python310\\lib\\site-packages (1.4.4)\n",
      "Requirement already satisfied: pytz>=2020.1 in c:\\users\\admin\\appdata\\local\\programs\\python\\python310\\lib\\site-packages (from pandas) (2022.2.1)\n",
      "Requirement already satisfied: numpy>=1.21.0 in c:\\users\\admin\\appdata\\local\\programs\\python\\python310\\lib\\site-packages (from pandas) (1.23.2)\n",
      "Requirement already satisfied: python-dateutil>=2.8.1 in c:\\users\\admin\\appdata\\local\\programs\\python\\python310\\lib\\site-packages (from pandas) (2.8.2)\n",
      "Requirement already satisfied: six>=1.5 in c:\\users\\admin\\appdata\\local\\programs\\python\\python310\\lib\\site-packages (from python-dateutil>=2.8.1->pandas) (1.16.0)\n",
      "Note: you may need to restart the kernel to use updated packages.\n"
     ]
    },
    {
     "name": "stderr",
     "output_type": "stream",
     "text": [
      "\n",
      "[notice] A new release of pip available: 22.2.1 -> 22.2.2\n",
      "[notice] To update, run: python.exe -m pip install --upgrade pip\n"
     ]
    }
   ],
   "source": [
    "pip install pandas"
   ]
  },
  {
   "cell_type": "code",
   "execution_count": 35,
   "id": "cb8ad0ef-be51-4fd2-bcca-b56f26d12309",
   "metadata": {},
   "outputs": [],
   "source": [
    "import folium\n",
    "import pandas as pd"
   ]
  },
  {
   "cell_type": "code",
   "execution_count": 36,
   "id": "20615314-95e5-4ca3-96c9-f9fd2f85d9ca",
   "metadata": {},
   "outputs": [
    {
     "data": {
      "text/plain": [
       "'C:\\\\Users\\\\admin'"
      ]
     },
     "execution_count": 36,
     "metadata": {},
     "output_type": "execute_result"
    }
   ],
   "source": [
    "import os\n",
    "os.getcwd()"
   ]
  },
  {
   "cell_type": "code",
   "execution_count": 38,
   "id": "7fa2ec84-eed8-4816-ae63-2503d9be1150",
   "metadata": {
    "collapsed": true,
    "jupyter": {
     "outputs_hidden": true
    },
    "tags": []
   },
   "outputs": [
    {
     "name": "stdout",
     "output_type": "stream",
     "text": [
      "Collecting openpyxl\n",
      "  Downloading openpyxl-3.0.10-py2.py3-none-any.whl (242 kB)\n",
      "     -------------------------------------- 242.1/242.1 kB 3.7 MB/s eta 0:00:00\n",
      "Collecting et-xmlfile\n",
      "  Downloading et_xmlfile-1.1.0-py3-none-any.whl (4.7 kB)\n",
      "Installing collected packages: et-xmlfile, openpyxl\n",
      "Successfully installed et-xmlfile-1.1.0 openpyxl-3.0.10\n",
      "Note: you may need to restart the kernel to use updated packages.\n"
     ]
    },
    {
     "name": "stderr",
     "output_type": "stream",
     "text": [
      "\n",
      "[notice] A new release of pip available: 22.2.1 -> 22.2.2\n",
      "[notice] To update, run: python.exe -m pip install --upgrade pip\n"
     ]
    }
   ],
   "source": [
    "pip install openpyxl"
   ]
  },
  {
   "cell_type": "code",
   "execution_count": 40,
   "id": "98098d60-f287-443e-a168-6f5d11f08532",
   "metadata": {
    "collapsed": true,
    "jupyter": {
     "outputs_hidden": true
    },
    "tags": []
   },
   "outputs": [
    {
     "data": {
      "text/html": [
       "<div>\n",
       "<style scoped>\n",
       "    .dataframe tbody tr th:only-of-type {\n",
       "        vertical-align: middle;\n",
       "    }\n",
       "\n",
       "    .dataframe tbody tr th {\n",
       "        vertical-align: top;\n",
       "    }\n",
       "\n",
       "    .dataframe thead th {\n",
       "        text-align: right;\n",
       "    }\n",
       "</style>\n",
       "<table border=\"1\" class=\"dataframe\">\n",
       "  <thead>\n",
       "    <tr style=\"text-align: right;\">\n",
       "      <th></th>\n",
       "      <th>대학교</th>\n",
       "      <th>위도</th>\n",
       "      <th>경도</th>\n",
       "    </tr>\n",
       "  </thead>\n",
       "  <tbody>\n",
       "    <tr>\n",
       "      <th>0</th>\n",
       "      <td>KAIST 서울캠퍼스</td>\n",
       "      <td>37.592573</td>\n",
       "      <td>127.046737</td>\n",
       "    </tr>\n",
       "    <tr>\n",
       "      <th>1</th>\n",
       "      <td>KC대학교</td>\n",
       "      <td>37.548345</td>\n",
       "      <td>126.854797</td>\n",
       "    </tr>\n",
       "    <tr>\n",
       "      <th>2</th>\n",
       "      <td>가톨릭대학교(성신교정)</td>\n",
       "      <td>37.585922</td>\n",
       "      <td>127.004328</td>\n",
       "    </tr>\n",
       "    <tr>\n",
       "      <th>3</th>\n",
       "      <td>가톨릭대학교(성의교정)</td>\n",
       "      <td>37.499623</td>\n",
       "      <td>127.006065</td>\n",
       "    </tr>\n",
       "    <tr>\n",
       "      <th>4</th>\n",
       "      <td>감리교신학대학교</td>\n",
       "      <td>37.567645</td>\n",
       "      <td>126.961610</td>\n",
       "    </tr>\n",
       "    <tr>\n",
       "      <th>5</th>\n",
       "      <td>건국대학교</td>\n",
       "      <td>37.540762</td>\n",
       "      <td>127.079343</td>\n",
       "    </tr>\n",
       "    <tr>\n",
       "      <th>6</th>\n",
       "      <td>경기대학교 서울캠퍼스</td>\n",
       "      <td>37.300485</td>\n",
       "      <td>127.035833</td>\n",
       "    </tr>\n",
       "    <tr>\n",
       "      <th>7</th>\n",
       "      <td>경희대학교 서울캠퍼스</td>\n",
       "      <td>37.596195</td>\n",
       "      <td>127.052544</td>\n",
       "    </tr>\n",
       "    <tr>\n",
       "      <th>8</th>\n",
       "      <td>고려대학교</td>\n",
       "      <td>37.590192</td>\n",
       "      <td>127.033184</td>\n",
       "    </tr>\n",
       "    <tr>\n",
       "      <th>9</th>\n",
       "      <td>광운대학교</td>\n",
       "      <td>37.619496</td>\n",
       "      <td>127.059696</td>\n",
       "    </tr>\n",
       "    <tr>\n",
       "      <th>10</th>\n",
       "      <td>국민대학교</td>\n",
       "      <td>37.609641</td>\n",
       "      <td>126.997697</td>\n",
       "    </tr>\n",
       "    <tr>\n",
       "      <th>11</th>\n",
       "      <td>덕성여자대학교</td>\n",
       "      <td>37.651199</td>\n",
       "      <td>127.016160</td>\n",
       "    </tr>\n",
       "    <tr>\n",
       "      <th>12</th>\n",
       "      <td>동국대학교</td>\n",
       "      <td>37.557477</td>\n",
       "      <td>127.002052</td>\n",
       "    </tr>\n",
       "    <tr>\n",
       "      <th>13</th>\n",
       "      <td>동덕여자대학교</td>\n",
       "      <td>37.606320</td>\n",
       "      <td>127.041808</td>\n",
       "    </tr>\n",
       "    <tr>\n",
       "      <th>14</th>\n",
       "      <td>명지대학교 서울캠퍼스</td>\n",
       "      <td>37.580205</td>\n",
       "      <td>126.923445</td>\n",
       "    </tr>\n",
       "    <tr>\n",
       "      <th>15</th>\n",
       "      <td>삼육대학교</td>\n",
       "      <td>37.642952</td>\n",
       "      <td>127.105476</td>\n",
       "    </tr>\n",
       "    <tr>\n",
       "      <th>16</th>\n",
       "      <td>상명대학교 서울캠퍼스</td>\n",
       "      <td>37.602638</td>\n",
       "      <td>126.955252</td>\n",
       "    </tr>\n",
       "    <tr>\n",
       "      <th>17</th>\n",
       "      <td>서강대학교</td>\n",
       "      <td>37.550944</td>\n",
       "      <td>126.941002</td>\n",
       "    </tr>\n",
       "    <tr>\n",
       "      <th>18</th>\n",
       "      <td>서경대학교</td>\n",
       "      <td>37.615095</td>\n",
       "      <td>127.013111</td>\n",
       "    </tr>\n",
       "    <tr>\n",
       "      <th>19</th>\n",
       "      <td>서울과학기술대학교</td>\n",
       "      <td>37.631668</td>\n",
       "      <td>127.077481</td>\n",
       "    </tr>\n",
       "    <tr>\n",
       "      <th>20</th>\n",
       "      <td>서울교육대학교</td>\n",
       "      <td>37.489961</td>\n",
       "      <td>127.016412</td>\n",
       "    </tr>\n",
       "    <tr>\n",
       "      <th>21</th>\n",
       "      <td>서울기독대학교</td>\n",
       "      <td>37.600923</td>\n",
       "      <td>126.912382</td>\n",
       "    </tr>\n",
       "    <tr>\n",
       "      <th>22</th>\n",
       "      <td>서울대학교</td>\n",
       "      <td>37.459882</td>\n",
       "      <td>126.951905</td>\n",
       "    </tr>\n",
       "    <tr>\n",
       "      <th>23</th>\n",
       "      <td>서울시립대학교</td>\n",
       "      <td>37.583866</td>\n",
       "      <td>127.058777</td>\n",
       "    </tr>\n",
       "    <tr>\n",
       "      <th>24</th>\n",
       "      <td>서울여자대학교</td>\n",
       "      <td>37.628113</td>\n",
       "      <td>127.090457</td>\n",
       "    </tr>\n",
       "    <tr>\n",
       "      <th>25</th>\n",
       "      <td>서울한영대학교</td>\n",
       "      <td>37.496541</td>\n",
       "      <td>126.851262</td>\n",
       "    </tr>\n",
       "    <tr>\n",
       "      <th>26</th>\n",
       "      <td>성공회대학교</td>\n",
       "      <td>37.487232</td>\n",
       "      <td>126.825320</td>\n",
       "    </tr>\n",
       "    <tr>\n",
       "      <th>27</th>\n",
       "      <td>성균관대학교 서울캠퍼스</td>\n",
       "      <td>37.588227</td>\n",
       "      <td>126.993606</td>\n",
       "    </tr>\n",
       "    <tr>\n",
       "      <th>28</th>\n",
       "      <td>성신여자대학교</td>\n",
       "      <td>37.591310</td>\n",
       "      <td>127.022131</td>\n",
       "    </tr>\n",
       "    <tr>\n",
       "      <th>29</th>\n",
       "      <td>세종대학교</td>\n",
       "      <td>37.550260</td>\n",
       "      <td>127.073139</td>\n",
       "    </tr>\n",
       "    <tr>\n",
       "      <th>30</th>\n",
       "      <td>숙명여자대학교</td>\n",
       "      <td>37.546364</td>\n",
       "      <td>126.964831</td>\n",
       "    </tr>\n",
       "    <tr>\n",
       "      <th>31</th>\n",
       "      <td>숭실대학교</td>\n",
       "      <td>37.496311</td>\n",
       "      <td>126.957460</td>\n",
       "    </tr>\n",
       "    <tr>\n",
       "      <th>32</th>\n",
       "      <td>연세대학교</td>\n",
       "      <td>37.565784</td>\n",
       "      <td>126.938572</td>\n",
       "    </tr>\n",
       "    <tr>\n",
       "      <th>33</th>\n",
       "      <td>육군사관학교</td>\n",
       "      <td>37.623819</td>\n",
       "      <td>127.098878</td>\n",
       "    </tr>\n",
       "    <tr>\n",
       "      <th>34</th>\n",
       "      <td>이화여자대학교</td>\n",
       "      <td>37.564308</td>\n",
       "      <td>126.950179</td>\n",
       "    </tr>\n",
       "    <tr>\n",
       "      <th>35</th>\n",
       "      <td>장로회신학대학교</td>\n",
       "      <td>37.550511</td>\n",
       "      <td>127.103458</td>\n",
       "    </tr>\n",
       "    <tr>\n",
       "      <th>36</th>\n",
       "      <td>중앙대학교 서울캠퍼스</td>\n",
       "      <td>37.505088</td>\n",
       "      <td>126.957101</td>\n",
       "    </tr>\n",
       "    <tr>\n",
       "      <th>37</th>\n",
       "      <td>총신대학교</td>\n",
       "      <td>37.488623</td>\n",
       "      <td>126.966817</td>\n",
       "    </tr>\n",
       "    <tr>\n",
       "      <th>38</th>\n",
       "      <td>추계예술대학교</td>\n",
       "      <td>37.562452</td>\n",
       "      <td>126.953417</td>\n",
       "    </tr>\n",
       "    <tr>\n",
       "      <th>39</th>\n",
       "      <td>한국방송통신대학교</td>\n",
       "      <td>37.578613</td>\n",
       "      <td>127.003291</td>\n",
       "    </tr>\n",
       "    <tr>\n",
       "      <th>40</th>\n",
       "      <td>한국성서대학교</td>\n",
       "      <td>37.648749</td>\n",
       "      <td>127.064320</td>\n",
       "    </tr>\n",
       "    <tr>\n",
       "      <th>41</th>\n",
       "      <td>한국예술종합학교</td>\n",
       "      <td>37.604997</td>\n",
       "      <td>127.056740</td>\n",
       "    </tr>\n",
       "    <tr>\n",
       "      <th>42</th>\n",
       "      <td>한국외국어대학교</td>\n",
       "      <td>37.597319</td>\n",
       "      <td>127.057843</td>\n",
       "    </tr>\n",
       "    <tr>\n",
       "      <th>43</th>\n",
       "      <td>한국체육대학교</td>\n",
       "      <td>37.519627</td>\n",
       "      <td>127.130984</td>\n",
       "    </tr>\n",
       "    <tr>\n",
       "      <th>44</th>\n",
       "      <td>한성대학교</td>\n",
       "      <td>37.581785</td>\n",
       "      <td>127.010369</td>\n",
       "    </tr>\n",
       "    <tr>\n",
       "      <th>45</th>\n",
       "      <td>한양대학교</td>\n",
       "      <td>37.557232</td>\n",
       "      <td>127.045322</td>\n",
       "    </tr>\n",
       "    <tr>\n",
       "      <th>46</th>\n",
       "      <td>홍익대학교</td>\n",
       "      <td>37.551464</td>\n",
       "      <td>126.925011</td>\n",
       "    </tr>\n",
       "  </tbody>\n",
       "</table>\n",
       "</div>"
      ],
      "text/plain": [
       "               대학교         위도          경도\n",
       "0     KAIST 서울캠퍼스   37.592573  127.046737\n",
       "1            KC대학교  37.548345  126.854797\n",
       "2     가톨릭대학교(성신교정)  37.585922  127.004328\n",
       "3     가톨릭대학교(성의교정)  37.499623  127.006065\n",
       "4         감리교신학대학교  37.567645  126.961610\n",
       "5            건국대학교  37.540762  127.079343\n",
       "6     경기대학교 서울캠퍼스   37.300485  127.035833\n",
       "7     경희대학교 서울캠퍼스   37.596195  127.052544\n",
       "8            고려대학교  37.590192  127.033184\n",
       "9            광운대학교  37.619496  127.059696\n",
       "10           국민대학교  37.609641  126.997697\n",
       "11         덕성여자대학교  37.651199  127.016160\n",
       "12           동국대학교  37.557477  127.002052\n",
       "13         동덕여자대학교  37.606320  127.041808\n",
       "14    명지대학교 서울캠퍼스   37.580205  126.923445\n",
       "15           삼육대학교  37.642952  127.105476\n",
       "16    상명대학교 서울캠퍼스   37.602638  126.955252\n",
       "17           서강대학교  37.550944  126.941002\n",
       "18           서경대학교  37.615095  127.013111\n",
       "19       서울과학기술대학교  37.631668  127.077481\n",
       "20         서울교육대학교  37.489961  127.016412\n",
       "21         서울기독대학교  37.600923  126.912382\n",
       "22           서울대학교  37.459882  126.951905\n",
       "23         서울시립대학교  37.583866  127.058777\n",
       "24         서울여자대학교  37.628113  127.090457\n",
       "25         서울한영대학교  37.496541  126.851262\n",
       "26          성공회대학교  37.487232  126.825320\n",
       "27  성균관대학교 서울캠퍼스    37.588227  126.993606\n",
       "28         성신여자대학교  37.591310  127.022131\n",
       "29           세종대학교  37.550260  127.073139\n",
       "30         숙명여자대학교  37.546364  126.964831\n",
       "31           숭실대학교  37.496311  126.957460\n",
       "32           연세대학교  37.565784  126.938572\n",
       "33          육군사관학교  37.623819  127.098878\n",
       "34         이화여자대학교  37.564308  126.950179\n",
       "35        장로회신학대학교  37.550511  127.103458\n",
       "36    중앙대학교 서울캠퍼스   37.505088  126.957101\n",
       "37           총신대학교  37.488623  126.966817\n",
       "38         추계예술대학교  37.562452  126.953417\n",
       "39       한국방송통신대학교  37.578613  127.003291\n",
       "40         한국성서대학교  37.648749  127.064320\n",
       "41        한국예술종합학교  37.604997  127.056740\n",
       "42        한국외국어대학교  37.597319  127.057843\n",
       "43         한국체육대학교  37.519627  127.130984\n",
       "44           한성대학교  37.581785  127.010369\n",
       "45           한양대학교  37.557232  127.045322\n",
       "46           홍익대학교  37.551464  126.925011"
      ]
     },
     "execution_count": 40,
     "metadata": {},
     "output_type": "execute_result"
    }
   ],
   "source": [
    "df = pd.read_excel('서울지역대학교위치.xlsx')\n",
    "df"
   ]
  },
  {
   "cell_type": "code",
   "execution_count": 43,
   "id": "cc4df506-d908-4bec-9fa8-4414e33c9d45",
   "metadata": {
    "collapsed": true,
    "jupyter": {
     "outputs_hidden": true
    },
    "tags": []
   },
   "outputs": [
    {
     "data": {
      "text/plain": [
       "0     127.046737\n",
       "1     126.854797\n",
       "2     127.004328\n",
       "3     127.006065\n",
       "4     126.961610\n",
       "5     127.079343\n",
       "6     127.035833\n",
       "7     127.052544\n",
       "8     127.033184\n",
       "9     127.059696\n",
       "10    126.997697\n",
       "11    127.016160\n",
       "12    127.002052\n",
       "13    127.041808\n",
       "14    126.923445\n",
       "15    127.105476\n",
       "16    126.955252\n",
       "17    126.941002\n",
       "18    127.013111\n",
       "19    127.077481\n",
       "20    127.016412\n",
       "21    126.912382\n",
       "22    126.951905\n",
       "23    127.058777\n",
       "24    127.090457\n",
       "25    126.851262\n",
       "26    126.825320\n",
       "27    126.993606\n",
       "28    127.022131\n",
       "29    127.073139\n",
       "30    126.964831\n",
       "31    126.957460\n",
       "32    126.938572\n",
       "33    127.098878\n",
       "34    126.950179\n",
       "35    127.103458\n",
       "36    126.957101\n",
       "37    126.966817\n",
       "38    126.953417\n",
       "39    127.003291\n",
       "40    127.064320\n",
       "41    127.056740\n",
       "42    127.057843\n",
       "43    127.130984\n",
       "44    127.010369\n",
       "45    127.045322\n",
       "46    126.925011\n",
       "Name: 경도, dtype: float64"
      ]
     },
     "execution_count": 43,
     "metadata": {},
     "output_type": "execute_result"
    }
   ],
   "source": [
    "df.대학교\n",
    "df.위도\n",
    "df.경도"
   ]
  },
  {
   "cell_type": "code",
   "execution_count": 44,
   "id": "727b16dc-c352-49f6-b1ea-c51920dd1b6b",
   "metadata": {
    "collapsed": true,
    "jupyter": {
     "outputs_hidden": true
    },
    "tags": []
   },
   "outputs": [
    {
     "name": "stdout",
     "output_type": "stream",
     "text": [
      "KAIST 서울캠퍼스  37.592573 127.046737\n",
      "KC대학교 37.5483449 126.8547974\n",
      "가톨릭대학교(성신교정) 37.5859218 127.0043275\n",
      "가톨릭대학교(성의교정) 37.4996227 127.0060653\n",
      "감리교신학대학교 37.5676455 126.96161\n",
      "건국대학교 37.5407625 127.0793428\n",
      "경기대학교 서울캠퍼스  37.30048499999999 127.035833\n",
      "경희대학교 서울캠퍼스  37.5961951 127.052544\n",
      "고려대학교 37.59019162 127.03318417123\n",
      "광운대학교 37.6194965 127.0596958\n",
      "국민대학교 37.6096409 126.997697\n",
      "덕성여자대학교 37.6511988 127.0161604\n",
      "동국대학교 37.5574771 127.0020518\n",
      "동덕여자대학교 37.6063202 127.041808\n",
      "명지대학교 서울캠퍼스  37.5802046 126.9234451\n",
      "삼육대학교 37.6429515 127.1054757\n",
      "상명대학교 서울캠퍼스  37.602638 126.955252\n",
      "서강대학교 37.5509442 126.9410023\n",
      "서경대학교 37.615095 127.0131113\n",
      "서울과학기술대학교 37.6316684 127.0774813\n",
      "서울교육대학교 37.4899615 127.0164124\n",
      "서울기독대학교 37.6009228 126.9123818\n",
      "서울대학교 37.459882 126.9519053\n",
      "서울시립대학교 37.5838657 127.0587771\n",
      "서울여자대학교 37.6281126 127.0904568\n",
      "서울한영대학교 37.4965411 126.8512616\n",
      "성공회대학교 37.4872325 126.8253202\n",
      "성균관대학교 서울캠퍼스   37.588227 126.993606\n",
      "성신여자대학교 37.5913103 127.0221312\n",
      "세종대학교 37.5502596 127.073139\n",
      "숙명여자대학교 37.5463644 126.9648311\n",
      "숭실대학교 37.4963111 126.9574596\n",
      "연세대학교 37.565784 126.938572\n",
      "육군사관학교 37.6238188 127.0988783\n",
      "이화여자대학교 37.5643079 126.9501786\n",
      "장로회신학대학교 37.5505112 127.1034577\n",
      "중앙대학교 서울캠퍼스  37.5050881 126.9571012\n",
      "총신대학교 37.4886232 126.9668169\n",
      "추계예술대학교 37.5624515 126.9534165\n",
      "한국방송통신대학교 37.5786127 127.0032905\n",
      "한국성서대학교 37.6487485 127.0643199\n",
      "한국예술종합학교 37.6049973 127.0567397\n",
      "한국외국어대학교 37.597319 127.057843\n",
      "한국체육대학교 37.5196266 127.1309837\n",
      "한성대학교 37.5817849 127.010369\n",
      "한양대학교 37.5572321 127.0453219\n",
      "홍익대학교 37.5514642 126.9250106\n"
     ]
    }
   ],
   "source": [
    "for i,j,k in zip(df.대학교,df.위도,df.경도):\n",
    "    print(i,j,k)"
   ]
  },
  {
   "cell_type": "code",
   "execution_count": 46,
   "id": "f51680c4-93c4-4914-aae8-582acd2ce8d6",
   "metadata": {},
   "outputs": [
    {
     "data": {
      "text/html": [
       "<div style=\"width:100%;\"><div style=\"position:relative;width:100%;height:0;padding-bottom:60%;\"><span style=\"color:#565656\">Make this Notebook Trusted to load map: File -> Trust Notebook</span><iframe srcdoc=\"&lt;!DOCTYPE html&gt;\n",
       "&lt;head&gt;    \n",
       "    &lt;meta http-equiv=&quot;content-type&quot; content=&quot;text/html; charset=UTF-8&quot; /&gt;\n",
       "    \n",
       "        &lt;script&gt;\n",
       "            L_NO_TOUCH = false;\n",
       "            L_DISABLE_3D = false;\n",
       "        &lt;/script&gt;\n",
       "    \n",
       "    &lt;style&gt;html, body {width: 100%;height: 100%;margin: 0;padding: 0;}&lt;/style&gt;\n",
       "    &lt;style&gt;#map {position:absolute;top:0;bottom:0;right:0;left:0;}&lt;/style&gt;\n",
       "    &lt;script src=&quot;https://cdn.jsdelivr.net/npm/leaflet@1.6.0/dist/leaflet.js&quot;&gt;&lt;/script&gt;\n",
       "    &lt;script src=&quot;https://code.jquery.com/jquery-1.12.4.min.js&quot;&gt;&lt;/script&gt;\n",
       "    &lt;script src=&quot;https://maxcdn.bootstrapcdn.com/bootstrap/3.2.0/js/bootstrap.min.js&quot;&gt;&lt;/script&gt;\n",
       "    &lt;script src=&quot;https://cdnjs.cloudflare.com/ajax/libs/Leaflet.awesome-markers/2.0.2/leaflet.awesome-markers.js&quot;&gt;&lt;/script&gt;\n",
       "    &lt;link rel=&quot;stylesheet&quot; href=&quot;https://cdn.jsdelivr.net/npm/leaflet@1.6.0/dist/leaflet.css&quot;/&gt;\n",
       "    &lt;link rel=&quot;stylesheet&quot; href=&quot;https://maxcdn.bootstrapcdn.com/bootstrap/3.2.0/css/bootstrap.min.css&quot;/&gt;\n",
       "    &lt;link rel=&quot;stylesheet&quot; href=&quot;https://maxcdn.bootstrapcdn.com/bootstrap/3.2.0/css/bootstrap-theme.min.css&quot;/&gt;\n",
       "    &lt;link rel=&quot;stylesheet&quot; href=&quot;https://maxcdn.bootstrapcdn.com/font-awesome/4.6.3/css/font-awesome.min.css&quot;/&gt;\n",
       "    &lt;link rel=&quot;stylesheet&quot; href=&quot;https://cdnjs.cloudflare.com/ajax/libs/Leaflet.awesome-markers/2.0.2/leaflet.awesome-markers.css&quot;/&gt;\n",
       "    &lt;link rel=&quot;stylesheet&quot; href=&quot;https://cdn.jsdelivr.net/gh/python-visualization/folium/folium/templates/leaflet.awesome.rotate.min.css&quot;/&gt;\n",
       "    \n",
       "            &lt;meta name=&quot;viewport&quot; content=&quot;width=device-width,\n",
       "                initial-scale=1.0, maximum-scale=1.0, user-scalable=no&quot; /&gt;\n",
       "            &lt;style&gt;\n",
       "                #map_9dc5fe5e93fde2ab32571f3635ed8566 {\n",
       "                    position: relative;\n",
       "                    width: 100.0%;\n",
       "                    height: 100.0%;\n",
       "                    left: 0.0%;\n",
       "                    top: 0.0%;\n",
       "                }\n",
       "            &lt;/style&gt;\n",
       "        \n",
       "&lt;/head&gt;\n",
       "&lt;body&gt;    \n",
       "    \n",
       "            &lt;div class=&quot;folium-map&quot; id=&quot;map_9dc5fe5e93fde2ab32571f3635ed8566&quot; &gt;&lt;/div&gt;\n",
       "        \n",
       "&lt;/body&gt;\n",
       "&lt;script&gt;    \n",
       "    \n",
       "            var map_9dc5fe5e93fde2ab32571f3635ed8566 = L.map(\n",
       "                &quot;map_9dc5fe5e93fde2ab32571f3635ed8566&quot;,\n",
       "                {\n",
       "                    center: [37.55, 126.98],\n",
       "                    crs: L.CRS.EPSG3857,\n",
       "                    zoom: 12,\n",
       "                    zoomControl: true,\n",
       "                    preferCanvas: false,\n",
       "                }\n",
       "            );\n",
       "\n",
       "            \n",
       "\n",
       "        \n",
       "    \n",
       "            var tile_layer_3d4deded69eea1c81ae2e0ab96e8f932 = L.tileLayer(\n",
       "                &quot;https://{s}.tile.openstreetmap.org/{z}/{x}/{y}.png&quot;,\n",
       "                {&quot;attribution&quot;: &quot;Data by \\u0026copy; \\u003ca href=\\&quot;http://openstreetmap.org\\&quot;\\u003eOpenStreetMap\\u003c/a\\u003e, under \\u003ca href=\\&quot;http://www.openstreetmap.org/copyright\\&quot;\\u003eODbL\\u003c/a\\u003e.&quot;, &quot;detectRetina&quot;: false, &quot;maxNativeZoom&quot;: 18, &quot;maxZoom&quot;: 18, &quot;minZoom&quot;: 0, &quot;noWrap&quot;: false, &quot;opacity&quot;: 1, &quot;subdomains&quot;: &quot;abc&quot;, &quot;tms&quot;: false}\n",
       "            ).addTo(map_9dc5fe5e93fde2ab32571f3635ed8566);\n",
       "        \n",
       "&lt;/script&gt;\" style=\"position:absolute;width:100%;height:100%;left:0;top:0;border:none !important;\" allowfullscreen webkitallowfullscreen mozallowfullscreen></iframe></div></div>"
      ],
      "text/plain": [
       "<folium.folium.Map at 0x169b96353f0>"
      ]
     },
     "execution_count": 46,
     "metadata": {},
     "output_type": "execute_result"
    }
   ],
   "source": [
    "folium.Map(location=[37.55, 126.98], zoom_start = 12) # 화면출력"
   ]
  },
  {
   "cell_type": "code",
   "execution_count": 48,
   "id": "08c9d58d-bc1d-4c3c-9f39-918ebea82fdd",
   "metadata": {},
   "outputs": [],
   "source": [
    "seoul_map = folium.Map(location=[37.55, 126.98], zoom_start = 12)\n",
    "# 여기다가 할당하므로써 출력되지 않고 할당만 되었다."
   ]
  },
  {
   "cell_type": "code",
   "execution_count": 51,
   "id": "bbcca3cc-2a18-409c-abbc-0633db33287b",
   "metadata": {},
   "outputs": [
    {
     "data": {
      "text/html": [
       "<div style=\"width:100%;\"><div style=\"position:relative;width:100%;height:0;padding-bottom:60%;\"><span style=\"color:#565656\">Make this Notebook Trusted to load map: File -> Trust Notebook</span><iframe srcdoc=\"&lt;!DOCTYPE html&gt;\n",
       "&lt;head&gt;    \n",
       "    &lt;meta http-equiv=&quot;content-type&quot; content=&quot;text/html; charset=UTF-8&quot; /&gt;\n",
       "    \n",
       "        &lt;script&gt;\n",
       "            L_NO_TOUCH = false;\n",
       "            L_DISABLE_3D = false;\n",
       "        &lt;/script&gt;\n",
       "    \n",
       "    &lt;style&gt;html, body {width: 100%;height: 100%;margin: 0;padding: 0;}&lt;/style&gt;\n",
       "    &lt;style&gt;#map {position:absolute;top:0;bottom:0;right:0;left:0;}&lt;/style&gt;\n",
       "    &lt;script src=&quot;https://cdn.jsdelivr.net/npm/leaflet@1.6.0/dist/leaflet.js&quot;&gt;&lt;/script&gt;\n",
       "    &lt;script src=&quot;https://code.jquery.com/jquery-1.12.4.min.js&quot;&gt;&lt;/script&gt;\n",
       "    &lt;script src=&quot;https://maxcdn.bootstrapcdn.com/bootstrap/3.2.0/js/bootstrap.min.js&quot;&gt;&lt;/script&gt;\n",
       "    &lt;script src=&quot;https://cdnjs.cloudflare.com/ajax/libs/Leaflet.awesome-markers/2.0.2/leaflet.awesome-markers.js&quot;&gt;&lt;/script&gt;\n",
       "    &lt;link rel=&quot;stylesheet&quot; href=&quot;https://cdn.jsdelivr.net/npm/leaflet@1.6.0/dist/leaflet.css&quot;/&gt;\n",
       "    &lt;link rel=&quot;stylesheet&quot; href=&quot;https://maxcdn.bootstrapcdn.com/bootstrap/3.2.0/css/bootstrap.min.css&quot;/&gt;\n",
       "    &lt;link rel=&quot;stylesheet&quot; href=&quot;https://maxcdn.bootstrapcdn.com/bootstrap/3.2.0/css/bootstrap-theme.min.css&quot;/&gt;\n",
       "    &lt;link rel=&quot;stylesheet&quot; href=&quot;https://maxcdn.bootstrapcdn.com/font-awesome/4.6.3/css/font-awesome.min.css&quot;/&gt;\n",
       "    &lt;link rel=&quot;stylesheet&quot; href=&quot;https://cdnjs.cloudflare.com/ajax/libs/Leaflet.awesome-markers/2.0.2/leaflet.awesome-markers.css&quot;/&gt;\n",
       "    &lt;link rel=&quot;stylesheet&quot; href=&quot;https://cdn.jsdelivr.net/gh/python-visualization/folium/folium/templates/leaflet.awesome.rotate.min.css&quot;/&gt;\n",
       "    \n",
       "            &lt;meta name=&quot;viewport&quot; content=&quot;width=device-width,\n",
       "                initial-scale=1.0, maximum-scale=1.0, user-scalable=no&quot; /&gt;\n",
       "            &lt;style&gt;\n",
       "                #map_27fdb873fb15e012d2a7b6a715cbcf9f {\n",
       "                    position: relative;\n",
       "                    width: 100.0%;\n",
       "                    height: 100.0%;\n",
       "                    left: 0.0%;\n",
       "                    top: 0.0%;\n",
       "                }\n",
       "            &lt;/style&gt;\n",
       "        \n",
       "&lt;/head&gt;\n",
       "&lt;body&gt;    \n",
       "    \n",
       "            &lt;div class=&quot;folium-map&quot; id=&quot;map_27fdb873fb15e012d2a7b6a715cbcf9f&quot; &gt;&lt;/div&gt;\n",
       "        \n",
       "&lt;/body&gt;\n",
       "&lt;script&gt;    \n",
       "    \n",
       "            var map_27fdb873fb15e012d2a7b6a715cbcf9f = L.map(\n",
       "                &quot;map_27fdb873fb15e012d2a7b6a715cbcf9f&quot;,\n",
       "                {\n",
       "                    center: [37.55, 126.98],\n",
       "                    crs: L.CRS.EPSG3857,\n",
       "                    zoom: 12,\n",
       "                    zoomControl: true,\n",
       "                    preferCanvas: false,\n",
       "                }\n",
       "            );\n",
       "\n",
       "            \n",
       "\n",
       "        \n",
       "    \n",
       "            var tile_layer_e6784654f0a0d3e9c13e38245c6bf949 = L.tileLayer(\n",
       "                &quot;https://{s}.tile.openstreetmap.org/{z}/{x}/{y}.png&quot;,\n",
       "                {&quot;attribution&quot;: &quot;Data by \\u0026copy; \\u003ca href=\\&quot;http://openstreetmap.org\\&quot;\\u003eOpenStreetMap\\u003c/a\\u003e, under \\u003ca href=\\&quot;http://www.openstreetmap.org/copyright\\&quot;\\u003eODbL\\u003c/a\\u003e.&quot;, &quot;detectRetina&quot;: false, &quot;maxNativeZoom&quot;: 18, &quot;maxZoom&quot;: 18, &quot;minZoom&quot;: 0, &quot;noWrap&quot;: false, &quot;opacity&quot;: 1, &quot;subdomains&quot;: &quot;abc&quot;, &quot;tms&quot;: false}\n",
       "            ).addTo(map_27fdb873fb15e012d2a7b6a715cbcf9f);\n",
       "        \n",
       "    \n",
       "            var marker_b356e875cbde4008a3007ed12be7f11e = L.marker(\n",
       "                [37.592573, 127.046737],\n",
       "                {}\n",
       "            ).addTo(map_27fdb873fb15e012d2a7b6a715cbcf9f);\n",
       "        \n",
       "    \n",
       "            marker_b356e875cbde4008a3007ed12be7f11e.bindTooltip(\n",
       "                `&lt;div&gt;\n",
       "                     KAIST 서울캠퍼스 \n",
       "                 &lt;/div&gt;`,\n",
       "                {&quot;sticky&quot;: true}\n",
       "            );\n",
       "        \n",
       "    \n",
       "            var marker_05c7f218836572a4bbb308001da21b0e = L.marker(\n",
       "                [37.5483449, 126.8547974],\n",
       "                {}\n",
       "            ).addTo(map_27fdb873fb15e012d2a7b6a715cbcf9f);\n",
       "        \n",
       "    \n",
       "            marker_05c7f218836572a4bbb308001da21b0e.bindTooltip(\n",
       "                `&lt;div&gt;\n",
       "                     KC대학교\n",
       "                 &lt;/div&gt;`,\n",
       "                {&quot;sticky&quot;: true}\n",
       "            );\n",
       "        \n",
       "    \n",
       "            var marker_db1662da331a12dd5b672bd94e7031c8 = L.marker(\n",
       "                [37.5859218, 127.0043275],\n",
       "                {}\n",
       "            ).addTo(map_27fdb873fb15e012d2a7b6a715cbcf9f);\n",
       "        \n",
       "    \n",
       "            marker_db1662da331a12dd5b672bd94e7031c8.bindTooltip(\n",
       "                `&lt;div&gt;\n",
       "                     가톨릭대학교(성신교정)\n",
       "                 &lt;/div&gt;`,\n",
       "                {&quot;sticky&quot;: true}\n",
       "            );\n",
       "        \n",
       "    \n",
       "            var marker_122ff8ff678006407b161311d507d86a = L.marker(\n",
       "                [37.4996227, 127.0060653],\n",
       "                {}\n",
       "            ).addTo(map_27fdb873fb15e012d2a7b6a715cbcf9f);\n",
       "        \n",
       "    \n",
       "            marker_122ff8ff678006407b161311d507d86a.bindTooltip(\n",
       "                `&lt;div&gt;\n",
       "                     가톨릭대학교(성의교정)\n",
       "                 &lt;/div&gt;`,\n",
       "                {&quot;sticky&quot;: true}\n",
       "            );\n",
       "        \n",
       "    \n",
       "            var marker_c0b70cd01588d46005fffb7878812ebd = L.marker(\n",
       "                [37.5676455, 126.96161],\n",
       "                {}\n",
       "            ).addTo(map_27fdb873fb15e012d2a7b6a715cbcf9f);\n",
       "        \n",
       "    \n",
       "            marker_c0b70cd01588d46005fffb7878812ebd.bindTooltip(\n",
       "                `&lt;div&gt;\n",
       "                     감리교신학대학교\n",
       "                 &lt;/div&gt;`,\n",
       "                {&quot;sticky&quot;: true}\n",
       "            );\n",
       "        \n",
       "    \n",
       "            var marker_b0b5fa238ef46d2dc3866d442d1b581a = L.marker(\n",
       "                [37.5407625, 127.0793428],\n",
       "                {}\n",
       "            ).addTo(map_27fdb873fb15e012d2a7b6a715cbcf9f);\n",
       "        \n",
       "    \n",
       "            marker_b0b5fa238ef46d2dc3866d442d1b581a.bindTooltip(\n",
       "                `&lt;div&gt;\n",
       "                     건국대학교\n",
       "                 &lt;/div&gt;`,\n",
       "                {&quot;sticky&quot;: true}\n",
       "            );\n",
       "        \n",
       "    \n",
       "            var marker_8d8833e78689fbc6fd5618e14f00828f = L.marker(\n",
       "                [37.30048499999999, 127.035833],\n",
       "                {}\n",
       "            ).addTo(map_27fdb873fb15e012d2a7b6a715cbcf9f);\n",
       "        \n",
       "    \n",
       "            marker_8d8833e78689fbc6fd5618e14f00828f.bindTooltip(\n",
       "                `&lt;div&gt;\n",
       "                     경기대학교 서울캠퍼스 \n",
       "                 &lt;/div&gt;`,\n",
       "                {&quot;sticky&quot;: true}\n",
       "            );\n",
       "        \n",
       "    \n",
       "            var marker_8382bcca6ae9cab470786326ac421bc0 = L.marker(\n",
       "                [37.5961951, 127.052544],\n",
       "                {}\n",
       "            ).addTo(map_27fdb873fb15e012d2a7b6a715cbcf9f);\n",
       "        \n",
       "    \n",
       "            marker_8382bcca6ae9cab470786326ac421bc0.bindTooltip(\n",
       "                `&lt;div&gt;\n",
       "                     경희대학교 서울캠퍼스 \n",
       "                 &lt;/div&gt;`,\n",
       "                {&quot;sticky&quot;: true}\n",
       "            );\n",
       "        \n",
       "    \n",
       "            var marker_b50c3cf5cce531f60b050dd150b88851 = L.marker(\n",
       "                [37.59019162, 127.03318417123],\n",
       "                {}\n",
       "            ).addTo(map_27fdb873fb15e012d2a7b6a715cbcf9f);\n",
       "        \n",
       "    \n",
       "            marker_b50c3cf5cce531f60b050dd150b88851.bindTooltip(\n",
       "                `&lt;div&gt;\n",
       "                     고려대학교\n",
       "                 &lt;/div&gt;`,\n",
       "                {&quot;sticky&quot;: true}\n",
       "            );\n",
       "        \n",
       "    \n",
       "            var marker_76b3781d9d3e258338919fcb41d22464 = L.marker(\n",
       "                [37.6194965, 127.0596958],\n",
       "                {}\n",
       "            ).addTo(map_27fdb873fb15e012d2a7b6a715cbcf9f);\n",
       "        \n",
       "    \n",
       "            marker_76b3781d9d3e258338919fcb41d22464.bindTooltip(\n",
       "                `&lt;div&gt;\n",
       "                     광운대학교\n",
       "                 &lt;/div&gt;`,\n",
       "                {&quot;sticky&quot;: true}\n",
       "            );\n",
       "        \n",
       "    \n",
       "            var marker_bc8557c11174580b5c312d30084835e4 = L.marker(\n",
       "                [37.6096409, 126.997697],\n",
       "                {}\n",
       "            ).addTo(map_27fdb873fb15e012d2a7b6a715cbcf9f);\n",
       "        \n",
       "    \n",
       "            marker_bc8557c11174580b5c312d30084835e4.bindTooltip(\n",
       "                `&lt;div&gt;\n",
       "                     국민대학교\n",
       "                 &lt;/div&gt;`,\n",
       "                {&quot;sticky&quot;: true}\n",
       "            );\n",
       "        \n",
       "    \n",
       "            var marker_3a4a1df909cc63a32b6b20962dae45f6 = L.marker(\n",
       "                [37.6511988, 127.0161604],\n",
       "                {}\n",
       "            ).addTo(map_27fdb873fb15e012d2a7b6a715cbcf9f);\n",
       "        \n",
       "    \n",
       "            marker_3a4a1df909cc63a32b6b20962dae45f6.bindTooltip(\n",
       "                `&lt;div&gt;\n",
       "                     덕성여자대학교\n",
       "                 &lt;/div&gt;`,\n",
       "                {&quot;sticky&quot;: true}\n",
       "            );\n",
       "        \n",
       "    \n",
       "            var marker_0ee79cbe3b701e3b582169ba5284d670 = L.marker(\n",
       "                [37.5574771, 127.0020518],\n",
       "                {}\n",
       "            ).addTo(map_27fdb873fb15e012d2a7b6a715cbcf9f);\n",
       "        \n",
       "    \n",
       "            marker_0ee79cbe3b701e3b582169ba5284d670.bindTooltip(\n",
       "                `&lt;div&gt;\n",
       "                     동국대학교\n",
       "                 &lt;/div&gt;`,\n",
       "                {&quot;sticky&quot;: true}\n",
       "            );\n",
       "        \n",
       "    \n",
       "            var marker_69414e0d6f871ca91fd02a362e296cd5 = L.marker(\n",
       "                [37.6063202, 127.041808],\n",
       "                {}\n",
       "            ).addTo(map_27fdb873fb15e012d2a7b6a715cbcf9f);\n",
       "        \n",
       "    \n",
       "            marker_69414e0d6f871ca91fd02a362e296cd5.bindTooltip(\n",
       "                `&lt;div&gt;\n",
       "                     동덕여자대학교\n",
       "                 &lt;/div&gt;`,\n",
       "                {&quot;sticky&quot;: true}\n",
       "            );\n",
       "        \n",
       "    \n",
       "            var marker_cf2a28eed86db008a206794bed4a526e = L.marker(\n",
       "                [37.5802046, 126.9234451],\n",
       "                {}\n",
       "            ).addTo(map_27fdb873fb15e012d2a7b6a715cbcf9f);\n",
       "        \n",
       "    \n",
       "            marker_cf2a28eed86db008a206794bed4a526e.bindTooltip(\n",
       "                `&lt;div&gt;\n",
       "                     명지대학교 서울캠퍼스 \n",
       "                 &lt;/div&gt;`,\n",
       "                {&quot;sticky&quot;: true}\n",
       "            );\n",
       "        \n",
       "    \n",
       "            var marker_9bbf7346466d62e23fce5c7951d4d7e9 = L.marker(\n",
       "                [37.6429515, 127.1054757],\n",
       "                {}\n",
       "            ).addTo(map_27fdb873fb15e012d2a7b6a715cbcf9f);\n",
       "        \n",
       "    \n",
       "            marker_9bbf7346466d62e23fce5c7951d4d7e9.bindTooltip(\n",
       "                `&lt;div&gt;\n",
       "                     삼육대학교\n",
       "                 &lt;/div&gt;`,\n",
       "                {&quot;sticky&quot;: true}\n",
       "            );\n",
       "        \n",
       "    \n",
       "            var marker_05157bd475abdcd58e662b9b034fe2db = L.marker(\n",
       "                [37.602638, 126.955252],\n",
       "                {}\n",
       "            ).addTo(map_27fdb873fb15e012d2a7b6a715cbcf9f);\n",
       "        \n",
       "    \n",
       "            marker_05157bd475abdcd58e662b9b034fe2db.bindTooltip(\n",
       "                `&lt;div&gt;\n",
       "                     상명대학교 서울캠퍼스 \n",
       "                 &lt;/div&gt;`,\n",
       "                {&quot;sticky&quot;: true}\n",
       "            );\n",
       "        \n",
       "    \n",
       "            var marker_e4f2f08f28bb5a65178f4172e3e81ca1 = L.marker(\n",
       "                [37.5509442, 126.9410023],\n",
       "                {}\n",
       "            ).addTo(map_27fdb873fb15e012d2a7b6a715cbcf9f);\n",
       "        \n",
       "    \n",
       "            marker_e4f2f08f28bb5a65178f4172e3e81ca1.bindTooltip(\n",
       "                `&lt;div&gt;\n",
       "                     서강대학교\n",
       "                 &lt;/div&gt;`,\n",
       "                {&quot;sticky&quot;: true}\n",
       "            );\n",
       "        \n",
       "    \n",
       "            var marker_3e5e017477d894a1a4703558b6ea2427 = L.marker(\n",
       "                [37.615095, 127.0131113],\n",
       "                {}\n",
       "            ).addTo(map_27fdb873fb15e012d2a7b6a715cbcf9f);\n",
       "        \n",
       "    \n",
       "            marker_3e5e017477d894a1a4703558b6ea2427.bindTooltip(\n",
       "                `&lt;div&gt;\n",
       "                     서경대학교\n",
       "                 &lt;/div&gt;`,\n",
       "                {&quot;sticky&quot;: true}\n",
       "            );\n",
       "        \n",
       "    \n",
       "            var marker_e4ec29970738b5c9772d30b7f3e0a9b4 = L.marker(\n",
       "                [37.6316684, 127.0774813],\n",
       "                {}\n",
       "            ).addTo(map_27fdb873fb15e012d2a7b6a715cbcf9f);\n",
       "        \n",
       "    \n",
       "            marker_e4ec29970738b5c9772d30b7f3e0a9b4.bindTooltip(\n",
       "                `&lt;div&gt;\n",
       "                     서울과학기술대학교\n",
       "                 &lt;/div&gt;`,\n",
       "                {&quot;sticky&quot;: true}\n",
       "            );\n",
       "        \n",
       "    \n",
       "            var marker_7f5c4718fbf33eee2ecaefa886fe0445 = L.marker(\n",
       "                [37.4899615, 127.0164124],\n",
       "                {}\n",
       "            ).addTo(map_27fdb873fb15e012d2a7b6a715cbcf9f);\n",
       "        \n",
       "    \n",
       "            marker_7f5c4718fbf33eee2ecaefa886fe0445.bindTooltip(\n",
       "                `&lt;div&gt;\n",
       "                     서울교육대학교\n",
       "                 &lt;/div&gt;`,\n",
       "                {&quot;sticky&quot;: true}\n",
       "            );\n",
       "        \n",
       "    \n",
       "            var marker_5b1d921c34155ba0e479ed6f94fa4cc3 = L.marker(\n",
       "                [37.6009228, 126.9123818],\n",
       "                {}\n",
       "            ).addTo(map_27fdb873fb15e012d2a7b6a715cbcf9f);\n",
       "        \n",
       "    \n",
       "            marker_5b1d921c34155ba0e479ed6f94fa4cc3.bindTooltip(\n",
       "                `&lt;div&gt;\n",
       "                     서울기독대학교\n",
       "                 &lt;/div&gt;`,\n",
       "                {&quot;sticky&quot;: true}\n",
       "            );\n",
       "        \n",
       "    \n",
       "            var marker_3361cda2666ce641b55345eb4c65c8b8 = L.marker(\n",
       "                [37.459882, 126.9519053],\n",
       "                {}\n",
       "            ).addTo(map_27fdb873fb15e012d2a7b6a715cbcf9f);\n",
       "        \n",
       "    \n",
       "            marker_3361cda2666ce641b55345eb4c65c8b8.bindTooltip(\n",
       "                `&lt;div&gt;\n",
       "                     서울대학교\n",
       "                 &lt;/div&gt;`,\n",
       "                {&quot;sticky&quot;: true}\n",
       "            );\n",
       "        \n",
       "    \n",
       "            var marker_5b18b14ba68c12a77ad1a8228072af77 = L.marker(\n",
       "                [37.5838657, 127.0587771],\n",
       "                {}\n",
       "            ).addTo(map_27fdb873fb15e012d2a7b6a715cbcf9f);\n",
       "        \n",
       "    \n",
       "            marker_5b18b14ba68c12a77ad1a8228072af77.bindTooltip(\n",
       "                `&lt;div&gt;\n",
       "                     서울시립대학교\n",
       "                 &lt;/div&gt;`,\n",
       "                {&quot;sticky&quot;: true}\n",
       "            );\n",
       "        \n",
       "    \n",
       "            var marker_11c18cfde941011b9ed718d7875f39d3 = L.marker(\n",
       "                [37.6281126, 127.0904568],\n",
       "                {}\n",
       "            ).addTo(map_27fdb873fb15e012d2a7b6a715cbcf9f);\n",
       "        \n",
       "    \n",
       "            marker_11c18cfde941011b9ed718d7875f39d3.bindTooltip(\n",
       "                `&lt;div&gt;\n",
       "                     서울여자대학교\n",
       "                 &lt;/div&gt;`,\n",
       "                {&quot;sticky&quot;: true}\n",
       "            );\n",
       "        \n",
       "    \n",
       "            var marker_524cce9b0285b60768b95d660efe2188 = L.marker(\n",
       "                [37.4965411, 126.8512616],\n",
       "                {}\n",
       "            ).addTo(map_27fdb873fb15e012d2a7b6a715cbcf9f);\n",
       "        \n",
       "    \n",
       "            marker_524cce9b0285b60768b95d660efe2188.bindTooltip(\n",
       "                `&lt;div&gt;\n",
       "                     서울한영대학교\n",
       "                 &lt;/div&gt;`,\n",
       "                {&quot;sticky&quot;: true}\n",
       "            );\n",
       "        \n",
       "    \n",
       "            var marker_afaa417547678a25b01c5397cf0492d6 = L.marker(\n",
       "                [37.4872325, 126.8253202],\n",
       "                {}\n",
       "            ).addTo(map_27fdb873fb15e012d2a7b6a715cbcf9f);\n",
       "        \n",
       "    \n",
       "            marker_afaa417547678a25b01c5397cf0492d6.bindTooltip(\n",
       "                `&lt;div&gt;\n",
       "                     성공회대학교\n",
       "                 &lt;/div&gt;`,\n",
       "                {&quot;sticky&quot;: true}\n",
       "            );\n",
       "        \n",
       "    \n",
       "            var marker_8086f14c1f78c495bf93aa3bf1ba8601 = L.marker(\n",
       "                [37.588227, 126.993606],\n",
       "                {}\n",
       "            ).addTo(map_27fdb873fb15e012d2a7b6a715cbcf9f);\n",
       "        \n",
       "    \n",
       "            marker_8086f14c1f78c495bf93aa3bf1ba8601.bindTooltip(\n",
       "                `&lt;div&gt;\n",
       "                     성균관대학교 서울캠퍼스  \n",
       "                 &lt;/div&gt;`,\n",
       "                {&quot;sticky&quot;: true}\n",
       "            );\n",
       "        \n",
       "    \n",
       "            var marker_98a3985d20772ca6078d2db2e0edc74e = L.marker(\n",
       "                [37.5913103, 127.0221312],\n",
       "                {}\n",
       "            ).addTo(map_27fdb873fb15e012d2a7b6a715cbcf9f);\n",
       "        \n",
       "    \n",
       "            marker_98a3985d20772ca6078d2db2e0edc74e.bindTooltip(\n",
       "                `&lt;div&gt;\n",
       "                     성신여자대학교\n",
       "                 &lt;/div&gt;`,\n",
       "                {&quot;sticky&quot;: true}\n",
       "            );\n",
       "        \n",
       "    \n",
       "            var marker_d9d0d735dba883ad1e6d98a45c325a6b = L.marker(\n",
       "                [37.5502596, 127.073139],\n",
       "                {}\n",
       "            ).addTo(map_27fdb873fb15e012d2a7b6a715cbcf9f);\n",
       "        \n",
       "    \n",
       "            marker_d9d0d735dba883ad1e6d98a45c325a6b.bindTooltip(\n",
       "                `&lt;div&gt;\n",
       "                     세종대학교\n",
       "                 &lt;/div&gt;`,\n",
       "                {&quot;sticky&quot;: true}\n",
       "            );\n",
       "        \n",
       "    \n",
       "            var marker_2ae05ba3a826bf6a6bece815d0350342 = L.marker(\n",
       "                [37.5463644, 126.9648311],\n",
       "                {}\n",
       "            ).addTo(map_27fdb873fb15e012d2a7b6a715cbcf9f);\n",
       "        \n",
       "    \n",
       "            marker_2ae05ba3a826bf6a6bece815d0350342.bindTooltip(\n",
       "                `&lt;div&gt;\n",
       "                     숙명여자대학교\n",
       "                 &lt;/div&gt;`,\n",
       "                {&quot;sticky&quot;: true}\n",
       "            );\n",
       "        \n",
       "    \n",
       "            var marker_ba7cb5aa0034347bb1b347737322197a = L.marker(\n",
       "                [37.4963111, 126.9574596],\n",
       "                {}\n",
       "            ).addTo(map_27fdb873fb15e012d2a7b6a715cbcf9f);\n",
       "        \n",
       "    \n",
       "            marker_ba7cb5aa0034347bb1b347737322197a.bindTooltip(\n",
       "                `&lt;div&gt;\n",
       "                     숭실대학교\n",
       "                 &lt;/div&gt;`,\n",
       "                {&quot;sticky&quot;: true}\n",
       "            );\n",
       "        \n",
       "    \n",
       "            var marker_2f04d9eec382f28ed137ff6e457f0b42 = L.marker(\n",
       "                [37.565784, 126.938572],\n",
       "                {}\n",
       "            ).addTo(map_27fdb873fb15e012d2a7b6a715cbcf9f);\n",
       "        \n",
       "    \n",
       "            marker_2f04d9eec382f28ed137ff6e457f0b42.bindTooltip(\n",
       "                `&lt;div&gt;\n",
       "                     연세대학교\n",
       "                 &lt;/div&gt;`,\n",
       "                {&quot;sticky&quot;: true}\n",
       "            );\n",
       "        \n",
       "    \n",
       "            var marker_8d3f22e2be81ee3656cee302ec327504 = L.marker(\n",
       "                [37.6238188, 127.0988783],\n",
       "                {}\n",
       "            ).addTo(map_27fdb873fb15e012d2a7b6a715cbcf9f);\n",
       "        \n",
       "    \n",
       "            marker_8d3f22e2be81ee3656cee302ec327504.bindTooltip(\n",
       "                `&lt;div&gt;\n",
       "                     육군사관학교\n",
       "                 &lt;/div&gt;`,\n",
       "                {&quot;sticky&quot;: true}\n",
       "            );\n",
       "        \n",
       "    \n",
       "            var marker_c36b7109d35dff85fece5e8b8df572f9 = L.marker(\n",
       "                [37.5643079, 126.9501786],\n",
       "                {}\n",
       "            ).addTo(map_27fdb873fb15e012d2a7b6a715cbcf9f);\n",
       "        \n",
       "    \n",
       "            marker_c36b7109d35dff85fece5e8b8df572f9.bindTooltip(\n",
       "                `&lt;div&gt;\n",
       "                     이화여자대학교\n",
       "                 &lt;/div&gt;`,\n",
       "                {&quot;sticky&quot;: true}\n",
       "            );\n",
       "        \n",
       "    \n",
       "            var marker_661b9a9632620eb09a36e48991cd572f = L.marker(\n",
       "                [37.5505112, 127.1034577],\n",
       "                {}\n",
       "            ).addTo(map_27fdb873fb15e012d2a7b6a715cbcf9f);\n",
       "        \n",
       "    \n",
       "            marker_661b9a9632620eb09a36e48991cd572f.bindTooltip(\n",
       "                `&lt;div&gt;\n",
       "                     장로회신학대학교\n",
       "                 &lt;/div&gt;`,\n",
       "                {&quot;sticky&quot;: true}\n",
       "            );\n",
       "        \n",
       "    \n",
       "            var marker_165b4f66c6f55ca1c1a4d6c1f97a0849 = L.marker(\n",
       "                [37.5050881, 126.9571012],\n",
       "                {}\n",
       "            ).addTo(map_27fdb873fb15e012d2a7b6a715cbcf9f);\n",
       "        \n",
       "    \n",
       "            marker_165b4f66c6f55ca1c1a4d6c1f97a0849.bindTooltip(\n",
       "                `&lt;div&gt;\n",
       "                     중앙대학교 서울캠퍼스 \n",
       "                 &lt;/div&gt;`,\n",
       "                {&quot;sticky&quot;: true}\n",
       "            );\n",
       "        \n",
       "    \n",
       "            var marker_433bd99e0cbc54807d6e00b15ce9a629 = L.marker(\n",
       "                [37.4886232, 126.9668169],\n",
       "                {}\n",
       "            ).addTo(map_27fdb873fb15e012d2a7b6a715cbcf9f);\n",
       "        \n",
       "    \n",
       "            marker_433bd99e0cbc54807d6e00b15ce9a629.bindTooltip(\n",
       "                `&lt;div&gt;\n",
       "                     총신대학교\n",
       "                 &lt;/div&gt;`,\n",
       "                {&quot;sticky&quot;: true}\n",
       "            );\n",
       "        \n",
       "    \n",
       "            var marker_26166a5876269d42220a917bd1bc2824 = L.marker(\n",
       "                [37.5624515, 126.9534165],\n",
       "                {}\n",
       "            ).addTo(map_27fdb873fb15e012d2a7b6a715cbcf9f);\n",
       "        \n",
       "    \n",
       "            marker_26166a5876269d42220a917bd1bc2824.bindTooltip(\n",
       "                `&lt;div&gt;\n",
       "                     추계예술대학교\n",
       "                 &lt;/div&gt;`,\n",
       "                {&quot;sticky&quot;: true}\n",
       "            );\n",
       "        \n",
       "    \n",
       "            var marker_a5e59f82ce98ff2d9e812f94461d0b11 = L.marker(\n",
       "                [37.5786127, 127.0032905],\n",
       "                {}\n",
       "            ).addTo(map_27fdb873fb15e012d2a7b6a715cbcf9f);\n",
       "        \n",
       "    \n",
       "            marker_a5e59f82ce98ff2d9e812f94461d0b11.bindTooltip(\n",
       "                `&lt;div&gt;\n",
       "                     한국방송통신대학교\n",
       "                 &lt;/div&gt;`,\n",
       "                {&quot;sticky&quot;: true}\n",
       "            );\n",
       "        \n",
       "    \n",
       "            var marker_d2aa59f3b6c09eeaf255c23371c82cfd = L.marker(\n",
       "                [37.6487485, 127.0643199],\n",
       "                {}\n",
       "            ).addTo(map_27fdb873fb15e012d2a7b6a715cbcf9f);\n",
       "        \n",
       "    \n",
       "            marker_d2aa59f3b6c09eeaf255c23371c82cfd.bindTooltip(\n",
       "                `&lt;div&gt;\n",
       "                     한국성서대학교\n",
       "                 &lt;/div&gt;`,\n",
       "                {&quot;sticky&quot;: true}\n",
       "            );\n",
       "        \n",
       "    \n",
       "            var marker_d03e1c8e93fad39617372852ac2622ff = L.marker(\n",
       "                [37.6049973, 127.0567397],\n",
       "                {}\n",
       "            ).addTo(map_27fdb873fb15e012d2a7b6a715cbcf9f);\n",
       "        \n",
       "    \n",
       "            marker_d03e1c8e93fad39617372852ac2622ff.bindTooltip(\n",
       "                `&lt;div&gt;\n",
       "                     한국예술종합학교\n",
       "                 &lt;/div&gt;`,\n",
       "                {&quot;sticky&quot;: true}\n",
       "            );\n",
       "        \n",
       "    \n",
       "            var marker_9b498db63136ac18ef4faf71b951354c = L.marker(\n",
       "                [37.597319, 127.057843],\n",
       "                {}\n",
       "            ).addTo(map_27fdb873fb15e012d2a7b6a715cbcf9f);\n",
       "        \n",
       "    \n",
       "            marker_9b498db63136ac18ef4faf71b951354c.bindTooltip(\n",
       "                `&lt;div&gt;\n",
       "                     한국외국어대학교\n",
       "                 &lt;/div&gt;`,\n",
       "                {&quot;sticky&quot;: true}\n",
       "            );\n",
       "        \n",
       "    \n",
       "            var marker_37c11b645e05734d0c187dff0c2b237f = L.marker(\n",
       "                [37.5196266, 127.1309837],\n",
       "                {}\n",
       "            ).addTo(map_27fdb873fb15e012d2a7b6a715cbcf9f);\n",
       "        \n",
       "    \n",
       "            marker_37c11b645e05734d0c187dff0c2b237f.bindTooltip(\n",
       "                `&lt;div&gt;\n",
       "                     한국체육대학교\n",
       "                 &lt;/div&gt;`,\n",
       "                {&quot;sticky&quot;: true}\n",
       "            );\n",
       "        \n",
       "    \n",
       "            var marker_727ef11ea2a8f336b0b9b858f5f14137 = L.marker(\n",
       "                [37.5817849, 127.010369],\n",
       "                {}\n",
       "            ).addTo(map_27fdb873fb15e012d2a7b6a715cbcf9f);\n",
       "        \n",
       "    \n",
       "            marker_727ef11ea2a8f336b0b9b858f5f14137.bindTooltip(\n",
       "                `&lt;div&gt;\n",
       "                     한성대학교\n",
       "                 &lt;/div&gt;`,\n",
       "                {&quot;sticky&quot;: true}\n",
       "            );\n",
       "        \n",
       "    \n",
       "            var marker_db1827bebd7db11766e3675a26a26ab9 = L.marker(\n",
       "                [37.5572321, 127.0453219],\n",
       "                {}\n",
       "            ).addTo(map_27fdb873fb15e012d2a7b6a715cbcf9f);\n",
       "        \n",
       "    \n",
       "            marker_db1827bebd7db11766e3675a26a26ab9.bindTooltip(\n",
       "                `&lt;div&gt;\n",
       "                     한양대학교\n",
       "                 &lt;/div&gt;`,\n",
       "                {&quot;sticky&quot;: true}\n",
       "            );\n",
       "        \n",
       "    \n",
       "            var marker_03c00c02210c2cca859cdba52f274642 = L.marker(\n",
       "                [37.5514642, 126.9250106],\n",
       "                {}\n",
       "            ).addTo(map_27fdb873fb15e012d2a7b6a715cbcf9f);\n",
       "        \n",
       "    \n",
       "            marker_03c00c02210c2cca859cdba52f274642.bindTooltip(\n",
       "                `&lt;div&gt;\n",
       "                     홍익대학교\n",
       "                 &lt;/div&gt;`,\n",
       "                {&quot;sticky&quot;: true}\n",
       "            );\n",
       "        \n",
       "    \n",
       "            var marker_4990994fd4890695d61c95b2de733d48 = L.marker(\n",
       "                [37.592573, 127.046737],\n",
       "                {}\n",
       "            ).addTo(map_27fdb873fb15e012d2a7b6a715cbcf9f);\n",
       "        \n",
       "    \n",
       "            marker_4990994fd4890695d61c95b2de733d48.bindTooltip(\n",
       "                `&lt;div&gt;\n",
       "                     KAIST 서울캠퍼스 \n",
       "                 &lt;/div&gt;`,\n",
       "                {&quot;sticky&quot;: true}\n",
       "            );\n",
       "        \n",
       "    \n",
       "            var marker_923fa7a654dfcb504e283a32327286c6 = L.marker(\n",
       "                [37.5483449, 126.8547974],\n",
       "                {}\n",
       "            ).addTo(map_27fdb873fb15e012d2a7b6a715cbcf9f);\n",
       "        \n",
       "    \n",
       "            marker_923fa7a654dfcb504e283a32327286c6.bindTooltip(\n",
       "                `&lt;div&gt;\n",
       "                     KC대학교\n",
       "                 &lt;/div&gt;`,\n",
       "                {&quot;sticky&quot;: true}\n",
       "            );\n",
       "        \n",
       "    \n",
       "            var marker_dcfe6c25028915db06ce87db41ab90e7 = L.marker(\n",
       "                [37.5859218, 127.0043275],\n",
       "                {}\n",
       "            ).addTo(map_27fdb873fb15e012d2a7b6a715cbcf9f);\n",
       "        \n",
       "    \n",
       "            marker_dcfe6c25028915db06ce87db41ab90e7.bindTooltip(\n",
       "                `&lt;div&gt;\n",
       "                     가톨릭대학교(성신교정)\n",
       "                 &lt;/div&gt;`,\n",
       "                {&quot;sticky&quot;: true}\n",
       "            );\n",
       "        \n",
       "    \n",
       "            var marker_56dbb9300f46911fc16954f1c5f92671 = L.marker(\n",
       "                [37.4996227, 127.0060653],\n",
       "                {}\n",
       "            ).addTo(map_27fdb873fb15e012d2a7b6a715cbcf9f);\n",
       "        \n",
       "    \n",
       "            marker_56dbb9300f46911fc16954f1c5f92671.bindTooltip(\n",
       "                `&lt;div&gt;\n",
       "                     가톨릭대학교(성의교정)\n",
       "                 &lt;/div&gt;`,\n",
       "                {&quot;sticky&quot;: true}\n",
       "            );\n",
       "        \n",
       "    \n",
       "            var marker_857e200a7a24c57f00ac601ebb4ab13f = L.marker(\n",
       "                [37.5676455, 126.96161],\n",
       "                {}\n",
       "            ).addTo(map_27fdb873fb15e012d2a7b6a715cbcf9f);\n",
       "        \n",
       "    \n",
       "            marker_857e200a7a24c57f00ac601ebb4ab13f.bindTooltip(\n",
       "                `&lt;div&gt;\n",
       "                     감리교신학대학교\n",
       "                 &lt;/div&gt;`,\n",
       "                {&quot;sticky&quot;: true}\n",
       "            );\n",
       "        \n",
       "    \n",
       "            var marker_005d6695e86b276bfb0d1668e00ee97c = L.marker(\n",
       "                [37.5407625, 127.0793428],\n",
       "                {}\n",
       "            ).addTo(map_27fdb873fb15e012d2a7b6a715cbcf9f);\n",
       "        \n",
       "    \n",
       "            marker_005d6695e86b276bfb0d1668e00ee97c.bindTooltip(\n",
       "                `&lt;div&gt;\n",
       "                     건국대학교\n",
       "                 &lt;/div&gt;`,\n",
       "                {&quot;sticky&quot;: true}\n",
       "            );\n",
       "        \n",
       "    \n",
       "            var marker_6b09d9e279a1e4b4c984556119b123bc = L.marker(\n",
       "                [37.30048499999999, 127.035833],\n",
       "                {}\n",
       "            ).addTo(map_27fdb873fb15e012d2a7b6a715cbcf9f);\n",
       "        \n",
       "    \n",
       "            marker_6b09d9e279a1e4b4c984556119b123bc.bindTooltip(\n",
       "                `&lt;div&gt;\n",
       "                     경기대학교 서울캠퍼스 \n",
       "                 &lt;/div&gt;`,\n",
       "                {&quot;sticky&quot;: true}\n",
       "            );\n",
       "        \n",
       "    \n",
       "            var marker_ac7a9738894de0b4bd39c723c203011b = L.marker(\n",
       "                [37.5961951, 127.052544],\n",
       "                {}\n",
       "            ).addTo(map_27fdb873fb15e012d2a7b6a715cbcf9f);\n",
       "        \n",
       "    \n",
       "            marker_ac7a9738894de0b4bd39c723c203011b.bindTooltip(\n",
       "                `&lt;div&gt;\n",
       "                     경희대학교 서울캠퍼스 \n",
       "                 &lt;/div&gt;`,\n",
       "                {&quot;sticky&quot;: true}\n",
       "            );\n",
       "        \n",
       "    \n",
       "            var marker_d03fbf9a3eb5567101b5a7c167e4651b = L.marker(\n",
       "                [37.59019162, 127.03318417123],\n",
       "                {}\n",
       "            ).addTo(map_27fdb873fb15e012d2a7b6a715cbcf9f);\n",
       "        \n",
       "    \n",
       "            marker_d03fbf9a3eb5567101b5a7c167e4651b.bindTooltip(\n",
       "                `&lt;div&gt;\n",
       "                     고려대학교\n",
       "                 &lt;/div&gt;`,\n",
       "                {&quot;sticky&quot;: true}\n",
       "            );\n",
       "        \n",
       "    \n",
       "            var marker_43872a68c99423a57e2a27ec2c80a26e = L.marker(\n",
       "                [37.6194965, 127.0596958],\n",
       "                {}\n",
       "            ).addTo(map_27fdb873fb15e012d2a7b6a715cbcf9f);\n",
       "        \n",
       "    \n",
       "            marker_43872a68c99423a57e2a27ec2c80a26e.bindTooltip(\n",
       "                `&lt;div&gt;\n",
       "                     광운대학교\n",
       "                 &lt;/div&gt;`,\n",
       "                {&quot;sticky&quot;: true}\n",
       "            );\n",
       "        \n",
       "    \n",
       "            var marker_563485b83425b2fe921d879498290702 = L.marker(\n",
       "                [37.6096409, 126.997697],\n",
       "                {}\n",
       "            ).addTo(map_27fdb873fb15e012d2a7b6a715cbcf9f);\n",
       "        \n",
       "    \n",
       "            marker_563485b83425b2fe921d879498290702.bindTooltip(\n",
       "                `&lt;div&gt;\n",
       "                     국민대학교\n",
       "                 &lt;/div&gt;`,\n",
       "                {&quot;sticky&quot;: true}\n",
       "            );\n",
       "        \n",
       "    \n",
       "            var marker_207b683bfd720a086dc3235a7b246921 = L.marker(\n",
       "                [37.6511988, 127.0161604],\n",
       "                {}\n",
       "            ).addTo(map_27fdb873fb15e012d2a7b6a715cbcf9f);\n",
       "        \n",
       "    \n",
       "            marker_207b683bfd720a086dc3235a7b246921.bindTooltip(\n",
       "                `&lt;div&gt;\n",
       "                     덕성여자대학교\n",
       "                 &lt;/div&gt;`,\n",
       "                {&quot;sticky&quot;: true}\n",
       "            );\n",
       "        \n",
       "    \n",
       "            var marker_69610daef4328d3713b0595a05f2d024 = L.marker(\n",
       "                [37.5574771, 127.0020518],\n",
       "                {}\n",
       "            ).addTo(map_27fdb873fb15e012d2a7b6a715cbcf9f);\n",
       "        \n",
       "    \n",
       "            marker_69610daef4328d3713b0595a05f2d024.bindTooltip(\n",
       "                `&lt;div&gt;\n",
       "                     동국대학교\n",
       "                 &lt;/div&gt;`,\n",
       "                {&quot;sticky&quot;: true}\n",
       "            );\n",
       "        \n",
       "    \n",
       "            var marker_2b33d3a147ac7ba527d01ee45978ca0f = L.marker(\n",
       "                [37.6063202, 127.041808],\n",
       "                {}\n",
       "            ).addTo(map_27fdb873fb15e012d2a7b6a715cbcf9f);\n",
       "        \n",
       "    \n",
       "            marker_2b33d3a147ac7ba527d01ee45978ca0f.bindTooltip(\n",
       "                `&lt;div&gt;\n",
       "                     동덕여자대학교\n",
       "                 &lt;/div&gt;`,\n",
       "                {&quot;sticky&quot;: true}\n",
       "            );\n",
       "        \n",
       "    \n",
       "            var marker_ade3f6b2acc472ecebcc778493220c97 = L.marker(\n",
       "                [37.5802046, 126.9234451],\n",
       "                {}\n",
       "            ).addTo(map_27fdb873fb15e012d2a7b6a715cbcf9f);\n",
       "        \n",
       "    \n",
       "            marker_ade3f6b2acc472ecebcc778493220c97.bindTooltip(\n",
       "                `&lt;div&gt;\n",
       "                     명지대학교 서울캠퍼스 \n",
       "                 &lt;/div&gt;`,\n",
       "                {&quot;sticky&quot;: true}\n",
       "            );\n",
       "        \n",
       "    \n",
       "            var marker_4b429e13992c1b7ea9375fad77fb2f1d = L.marker(\n",
       "                [37.6429515, 127.1054757],\n",
       "                {}\n",
       "            ).addTo(map_27fdb873fb15e012d2a7b6a715cbcf9f);\n",
       "        \n",
       "    \n",
       "            marker_4b429e13992c1b7ea9375fad77fb2f1d.bindTooltip(\n",
       "                `&lt;div&gt;\n",
       "                     삼육대학교\n",
       "                 &lt;/div&gt;`,\n",
       "                {&quot;sticky&quot;: true}\n",
       "            );\n",
       "        \n",
       "    \n",
       "            var marker_80b6d32d17274bf73a4f5a8e91b60166 = L.marker(\n",
       "                [37.602638, 126.955252],\n",
       "                {}\n",
       "            ).addTo(map_27fdb873fb15e012d2a7b6a715cbcf9f);\n",
       "        \n",
       "    \n",
       "            marker_80b6d32d17274bf73a4f5a8e91b60166.bindTooltip(\n",
       "                `&lt;div&gt;\n",
       "                     상명대학교 서울캠퍼스 \n",
       "                 &lt;/div&gt;`,\n",
       "                {&quot;sticky&quot;: true}\n",
       "            );\n",
       "        \n",
       "    \n",
       "            var marker_681e1cb8aa52b8296838c25bb437453d = L.marker(\n",
       "                [37.5509442, 126.9410023],\n",
       "                {}\n",
       "            ).addTo(map_27fdb873fb15e012d2a7b6a715cbcf9f);\n",
       "        \n",
       "    \n",
       "            marker_681e1cb8aa52b8296838c25bb437453d.bindTooltip(\n",
       "                `&lt;div&gt;\n",
       "                     서강대학교\n",
       "                 &lt;/div&gt;`,\n",
       "                {&quot;sticky&quot;: true}\n",
       "            );\n",
       "        \n",
       "    \n",
       "            var marker_5d12a2334ba6e39571d1653d286c5bda = L.marker(\n",
       "                [37.615095, 127.0131113],\n",
       "                {}\n",
       "            ).addTo(map_27fdb873fb15e012d2a7b6a715cbcf9f);\n",
       "        \n",
       "    \n",
       "            marker_5d12a2334ba6e39571d1653d286c5bda.bindTooltip(\n",
       "                `&lt;div&gt;\n",
       "                     서경대학교\n",
       "                 &lt;/div&gt;`,\n",
       "                {&quot;sticky&quot;: true}\n",
       "            );\n",
       "        \n",
       "    \n",
       "            var marker_6536004c97c6772515ac3a09f7f3fdd6 = L.marker(\n",
       "                [37.6316684, 127.0774813],\n",
       "                {}\n",
       "            ).addTo(map_27fdb873fb15e012d2a7b6a715cbcf9f);\n",
       "        \n",
       "    \n",
       "            marker_6536004c97c6772515ac3a09f7f3fdd6.bindTooltip(\n",
       "                `&lt;div&gt;\n",
       "                     서울과학기술대학교\n",
       "                 &lt;/div&gt;`,\n",
       "                {&quot;sticky&quot;: true}\n",
       "            );\n",
       "        \n",
       "    \n",
       "            var marker_750271d619449084ef7af7573ac9f922 = L.marker(\n",
       "                [37.4899615, 127.0164124],\n",
       "                {}\n",
       "            ).addTo(map_27fdb873fb15e012d2a7b6a715cbcf9f);\n",
       "        \n",
       "    \n",
       "            marker_750271d619449084ef7af7573ac9f922.bindTooltip(\n",
       "                `&lt;div&gt;\n",
       "                     서울교육대학교\n",
       "                 &lt;/div&gt;`,\n",
       "                {&quot;sticky&quot;: true}\n",
       "            );\n",
       "        \n",
       "    \n",
       "            var marker_2a4d7d7ec959d5d57e006cffecebac69 = L.marker(\n",
       "                [37.6009228, 126.9123818],\n",
       "                {}\n",
       "            ).addTo(map_27fdb873fb15e012d2a7b6a715cbcf9f);\n",
       "        \n",
       "    \n",
       "            marker_2a4d7d7ec959d5d57e006cffecebac69.bindTooltip(\n",
       "                `&lt;div&gt;\n",
       "                     서울기독대학교\n",
       "                 &lt;/div&gt;`,\n",
       "                {&quot;sticky&quot;: true}\n",
       "            );\n",
       "        \n",
       "    \n",
       "            var marker_b6cfb66dcd1751a57c9b0d8d1970beff = L.marker(\n",
       "                [37.459882, 126.9519053],\n",
       "                {}\n",
       "            ).addTo(map_27fdb873fb15e012d2a7b6a715cbcf9f);\n",
       "        \n",
       "    \n",
       "            marker_b6cfb66dcd1751a57c9b0d8d1970beff.bindTooltip(\n",
       "                `&lt;div&gt;\n",
       "                     서울대학교\n",
       "                 &lt;/div&gt;`,\n",
       "                {&quot;sticky&quot;: true}\n",
       "            );\n",
       "        \n",
       "    \n",
       "            var marker_96c17fd806b04276b1304bf4b7c2e04a = L.marker(\n",
       "                [37.5838657, 127.0587771],\n",
       "                {}\n",
       "            ).addTo(map_27fdb873fb15e012d2a7b6a715cbcf9f);\n",
       "        \n",
       "    \n",
       "            marker_96c17fd806b04276b1304bf4b7c2e04a.bindTooltip(\n",
       "                `&lt;div&gt;\n",
       "                     서울시립대학교\n",
       "                 &lt;/div&gt;`,\n",
       "                {&quot;sticky&quot;: true}\n",
       "            );\n",
       "        \n",
       "    \n",
       "            var marker_cf0a1b10578e010b0a48545a52c6072a = L.marker(\n",
       "                [37.6281126, 127.0904568],\n",
       "                {}\n",
       "            ).addTo(map_27fdb873fb15e012d2a7b6a715cbcf9f);\n",
       "        \n",
       "    \n",
       "            marker_cf0a1b10578e010b0a48545a52c6072a.bindTooltip(\n",
       "                `&lt;div&gt;\n",
       "                     서울여자대학교\n",
       "                 &lt;/div&gt;`,\n",
       "                {&quot;sticky&quot;: true}\n",
       "            );\n",
       "        \n",
       "    \n",
       "            var marker_f1b49f4f5e3acf29cd968caefc8d73a5 = L.marker(\n",
       "                [37.4965411, 126.8512616],\n",
       "                {}\n",
       "            ).addTo(map_27fdb873fb15e012d2a7b6a715cbcf9f);\n",
       "        \n",
       "    \n",
       "            marker_f1b49f4f5e3acf29cd968caefc8d73a5.bindTooltip(\n",
       "                `&lt;div&gt;\n",
       "                     서울한영대학교\n",
       "                 &lt;/div&gt;`,\n",
       "                {&quot;sticky&quot;: true}\n",
       "            );\n",
       "        \n",
       "    \n",
       "            var marker_be013eb15c3fb761c435f7d6dd1b47c7 = L.marker(\n",
       "                [37.4872325, 126.8253202],\n",
       "                {}\n",
       "            ).addTo(map_27fdb873fb15e012d2a7b6a715cbcf9f);\n",
       "        \n",
       "    \n",
       "            marker_be013eb15c3fb761c435f7d6dd1b47c7.bindTooltip(\n",
       "                `&lt;div&gt;\n",
       "                     성공회대학교\n",
       "                 &lt;/div&gt;`,\n",
       "                {&quot;sticky&quot;: true}\n",
       "            );\n",
       "        \n",
       "    \n",
       "            var marker_ed7fd3003d10bd653553dc47ffc51dd9 = L.marker(\n",
       "                [37.588227, 126.993606],\n",
       "                {}\n",
       "            ).addTo(map_27fdb873fb15e012d2a7b6a715cbcf9f);\n",
       "        \n",
       "    \n",
       "            marker_ed7fd3003d10bd653553dc47ffc51dd9.bindTooltip(\n",
       "                `&lt;div&gt;\n",
       "                     성균관대학교 서울캠퍼스  \n",
       "                 &lt;/div&gt;`,\n",
       "                {&quot;sticky&quot;: true}\n",
       "            );\n",
       "        \n",
       "    \n",
       "            var marker_0489bbafb43f6eaf7dd5e8af47e2f394 = L.marker(\n",
       "                [37.5913103, 127.0221312],\n",
       "                {}\n",
       "            ).addTo(map_27fdb873fb15e012d2a7b6a715cbcf9f);\n",
       "        \n",
       "    \n",
       "            marker_0489bbafb43f6eaf7dd5e8af47e2f394.bindTooltip(\n",
       "                `&lt;div&gt;\n",
       "                     성신여자대학교\n",
       "                 &lt;/div&gt;`,\n",
       "                {&quot;sticky&quot;: true}\n",
       "            );\n",
       "        \n",
       "    \n",
       "            var marker_8e3bc534edb5ad9728c4754b3d3fd209 = L.marker(\n",
       "                [37.5502596, 127.073139],\n",
       "                {}\n",
       "            ).addTo(map_27fdb873fb15e012d2a7b6a715cbcf9f);\n",
       "        \n",
       "    \n",
       "            marker_8e3bc534edb5ad9728c4754b3d3fd209.bindTooltip(\n",
       "                `&lt;div&gt;\n",
       "                     세종대학교\n",
       "                 &lt;/div&gt;`,\n",
       "                {&quot;sticky&quot;: true}\n",
       "            );\n",
       "        \n",
       "    \n",
       "            var marker_83cb95bf2e978ea1c1bf001d87aef5d3 = L.marker(\n",
       "                [37.5463644, 126.9648311],\n",
       "                {}\n",
       "            ).addTo(map_27fdb873fb15e012d2a7b6a715cbcf9f);\n",
       "        \n",
       "    \n",
       "            marker_83cb95bf2e978ea1c1bf001d87aef5d3.bindTooltip(\n",
       "                `&lt;div&gt;\n",
       "                     숙명여자대학교\n",
       "                 &lt;/div&gt;`,\n",
       "                {&quot;sticky&quot;: true}\n",
       "            );\n",
       "        \n",
       "    \n",
       "            var marker_197e9feca2891855b492cf25fe1fcce5 = L.marker(\n",
       "                [37.4963111, 126.9574596],\n",
       "                {}\n",
       "            ).addTo(map_27fdb873fb15e012d2a7b6a715cbcf9f);\n",
       "        \n",
       "    \n",
       "            marker_197e9feca2891855b492cf25fe1fcce5.bindTooltip(\n",
       "                `&lt;div&gt;\n",
       "                     숭실대학교\n",
       "                 &lt;/div&gt;`,\n",
       "                {&quot;sticky&quot;: true}\n",
       "            );\n",
       "        \n",
       "    \n",
       "            var marker_ce649fdcb028b9b02a49ebfcf37ca3f0 = L.marker(\n",
       "                [37.565784, 126.938572],\n",
       "                {}\n",
       "            ).addTo(map_27fdb873fb15e012d2a7b6a715cbcf9f);\n",
       "        \n",
       "    \n",
       "            marker_ce649fdcb028b9b02a49ebfcf37ca3f0.bindTooltip(\n",
       "                `&lt;div&gt;\n",
       "                     연세대학교\n",
       "                 &lt;/div&gt;`,\n",
       "                {&quot;sticky&quot;: true}\n",
       "            );\n",
       "        \n",
       "    \n",
       "            var marker_8402fef0a571022720dfd32d5a199d64 = L.marker(\n",
       "                [37.6238188, 127.0988783],\n",
       "                {}\n",
       "            ).addTo(map_27fdb873fb15e012d2a7b6a715cbcf9f);\n",
       "        \n",
       "    \n",
       "            marker_8402fef0a571022720dfd32d5a199d64.bindTooltip(\n",
       "                `&lt;div&gt;\n",
       "                     육군사관학교\n",
       "                 &lt;/div&gt;`,\n",
       "                {&quot;sticky&quot;: true}\n",
       "            );\n",
       "        \n",
       "    \n",
       "            var marker_2b5645aeccea6b997273d1d559b9cbf4 = L.marker(\n",
       "                [37.5643079, 126.9501786],\n",
       "                {}\n",
       "            ).addTo(map_27fdb873fb15e012d2a7b6a715cbcf9f);\n",
       "        \n",
       "    \n",
       "            marker_2b5645aeccea6b997273d1d559b9cbf4.bindTooltip(\n",
       "                `&lt;div&gt;\n",
       "                     이화여자대학교\n",
       "                 &lt;/div&gt;`,\n",
       "                {&quot;sticky&quot;: true}\n",
       "            );\n",
       "        \n",
       "    \n",
       "            var marker_cd8e4221e473abce9cdce042c9a5a705 = L.marker(\n",
       "                [37.5505112, 127.1034577],\n",
       "                {}\n",
       "            ).addTo(map_27fdb873fb15e012d2a7b6a715cbcf9f);\n",
       "        \n",
       "    \n",
       "            marker_cd8e4221e473abce9cdce042c9a5a705.bindTooltip(\n",
       "                `&lt;div&gt;\n",
       "                     장로회신학대학교\n",
       "                 &lt;/div&gt;`,\n",
       "                {&quot;sticky&quot;: true}\n",
       "            );\n",
       "        \n",
       "    \n",
       "            var marker_d35a568113540187f9bed03bfe0a480d = L.marker(\n",
       "                [37.5050881, 126.9571012],\n",
       "                {}\n",
       "            ).addTo(map_27fdb873fb15e012d2a7b6a715cbcf9f);\n",
       "        \n",
       "    \n",
       "            marker_d35a568113540187f9bed03bfe0a480d.bindTooltip(\n",
       "                `&lt;div&gt;\n",
       "                     중앙대학교 서울캠퍼스 \n",
       "                 &lt;/div&gt;`,\n",
       "                {&quot;sticky&quot;: true}\n",
       "            );\n",
       "        \n",
       "    \n",
       "            var marker_ce3dfca8f320b3449b02f9a1e943eda6 = L.marker(\n",
       "                [37.4886232, 126.9668169],\n",
       "                {}\n",
       "            ).addTo(map_27fdb873fb15e012d2a7b6a715cbcf9f);\n",
       "        \n",
       "    \n",
       "            marker_ce3dfca8f320b3449b02f9a1e943eda6.bindTooltip(\n",
       "                `&lt;div&gt;\n",
       "                     총신대학교\n",
       "                 &lt;/div&gt;`,\n",
       "                {&quot;sticky&quot;: true}\n",
       "            );\n",
       "        \n",
       "    \n",
       "            var marker_aa2079a8d6cb336e1591c98e5b213a24 = L.marker(\n",
       "                [37.5624515, 126.9534165],\n",
       "                {}\n",
       "            ).addTo(map_27fdb873fb15e012d2a7b6a715cbcf9f);\n",
       "        \n",
       "    \n",
       "            marker_aa2079a8d6cb336e1591c98e5b213a24.bindTooltip(\n",
       "                `&lt;div&gt;\n",
       "                     추계예술대학교\n",
       "                 &lt;/div&gt;`,\n",
       "                {&quot;sticky&quot;: true}\n",
       "            );\n",
       "        \n",
       "    \n",
       "            var marker_b5f04c00f40ab59570c721a7eaa86e3a = L.marker(\n",
       "                [37.5786127, 127.0032905],\n",
       "                {}\n",
       "            ).addTo(map_27fdb873fb15e012d2a7b6a715cbcf9f);\n",
       "        \n",
       "    \n",
       "            marker_b5f04c00f40ab59570c721a7eaa86e3a.bindTooltip(\n",
       "                `&lt;div&gt;\n",
       "                     한국방송통신대학교\n",
       "                 &lt;/div&gt;`,\n",
       "                {&quot;sticky&quot;: true}\n",
       "            );\n",
       "        \n",
       "    \n",
       "            var marker_0999acd5a7564ddd778a14817ed5d97b = L.marker(\n",
       "                [37.6487485, 127.0643199],\n",
       "                {}\n",
       "            ).addTo(map_27fdb873fb15e012d2a7b6a715cbcf9f);\n",
       "        \n",
       "    \n",
       "            marker_0999acd5a7564ddd778a14817ed5d97b.bindTooltip(\n",
       "                `&lt;div&gt;\n",
       "                     한국성서대학교\n",
       "                 &lt;/div&gt;`,\n",
       "                {&quot;sticky&quot;: true}\n",
       "            );\n",
       "        \n",
       "    \n",
       "            var marker_cf55b6edbb60092a045a93bc939203a0 = L.marker(\n",
       "                [37.6049973, 127.0567397],\n",
       "                {}\n",
       "            ).addTo(map_27fdb873fb15e012d2a7b6a715cbcf9f);\n",
       "        \n",
       "    \n",
       "            marker_cf55b6edbb60092a045a93bc939203a0.bindTooltip(\n",
       "                `&lt;div&gt;\n",
       "                     한국예술종합학교\n",
       "                 &lt;/div&gt;`,\n",
       "                {&quot;sticky&quot;: true}\n",
       "            );\n",
       "        \n",
       "    \n",
       "            var marker_b3a12d37237fb7239588607e596b9bb3 = L.marker(\n",
       "                [37.597319, 127.057843],\n",
       "                {}\n",
       "            ).addTo(map_27fdb873fb15e012d2a7b6a715cbcf9f);\n",
       "        \n",
       "    \n",
       "            marker_b3a12d37237fb7239588607e596b9bb3.bindTooltip(\n",
       "                `&lt;div&gt;\n",
       "                     한국외국어대학교\n",
       "                 &lt;/div&gt;`,\n",
       "                {&quot;sticky&quot;: true}\n",
       "            );\n",
       "        \n",
       "    \n",
       "            var marker_44544c3859d5d14668d64ce6b75be416 = L.marker(\n",
       "                [37.5196266, 127.1309837],\n",
       "                {}\n",
       "            ).addTo(map_27fdb873fb15e012d2a7b6a715cbcf9f);\n",
       "        \n",
       "    \n",
       "            marker_44544c3859d5d14668d64ce6b75be416.bindTooltip(\n",
       "                `&lt;div&gt;\n",
       "                     한국체육대학교\n",
       "                 &lt;/div&gt;`,\n",
       "                {&quot;sticky&quot;: true}\n",
       "            );\n",
       "        \n",
       "    \n",
       "            var marker_9c7d8fd7be2ab9206a3cddd6eb200134 = L.marker(\n",
       "                [37.5817849, 127.010369],\n",
       "                {}\n",
       "            ).addTo(map_27fdb873fb15e012d2a7b6a715cbcf9f);\n",
       "        \n",
       "    \n",
       "            marker_9c7d8fd7be2ab9206a3cddd6eb200134.bindTooltip(\n",
       "                `&lt;div&gt;\n",
       "                     한성대학교\n",
       "                 &lt;/div&gt;`,\n",
       "                {&quot;sticky&quot;: true}\n",
       "            );\n",
       "        \n",
       "    \n",
       "            var marker_571ad0602e4ad10e36984355ef2e7c6c = L.marker(\n",
       "                [37.5572321, 127.0453219],\n",
       "                {}\n",
       "            ).addTo(map_27fdb873fb15e012d2a7b6a715cbcf9f);\n",
       "        \n",
       "    \n",
       "            marker_571ad0602e4ad10e36984355ef2e7c6c.bindTooltip(\n",
       "                `&lt;div&gt;\n",
       "                     한양대학교\n",
       "                 &lt;/div&gt;`,\n",
       "                {&quot;sticky&quot;: true}\n",
       "            );\n",
       "        \n",
       "    \n",
       "            var marker_757c58d7b443c3ba4e1730478841bc71 = L.marker(\n",
       "                [37.5514642, 126.9250106],\n",
       "                {}\n",
       "            ).addTo(map_27fdb873fb15e012d2a7b6a715cbcf9f);\n",
       "        \n",
       "    \n",
       "            marker_757c58d7b443c3ba4e1730478841bc71.bindTooltip(\n",
       "                `&lt;div&gt;\n",
       "                     홍익대학교\n",
       "                 &lt;/div&gt;`,\n",
       "                {&quot;sticky&quot;: true}\n",
       "            );\n",
       "        \n",
       "&lt;/script&gt;\" style=\"position:absolute;width:100%;height:100%;left:0;top:0;border:none !important;\" allowfullscreen webkitallowfullscreen mozallowfullscreen></iframe></div></div>"
      ],
      "text/plain": [
       "<folium.folium.Map at 0x169b9640bb0>"
      ]
     },
     "execution_count": 51,
     "metadata": {},
     "output_type": "execute_result"
    }
   ],
   "source": [
    "for name,lat,long in zip(df.대학교,df.위도,df.경도):\n",
    "    folium.Marker([lat, long], tooltip = name).add_to(seoul_map)\n",
    "seoul_map"
   ]
  },
  {
   "cell_type": "markdown",
   "id": "8383dcac-a14a-4fd9-aa91-55d7c136a81e",
   "metadata": {},
   "source": [
    "- 최소코드\n",
    "```\n",
    "df = pd.read_excel('서울지역대학교위치.xlsx')\n",
    "\n",
    "seoul_map = folium.Map(location=[37.55, 126.98], zoom_start = 12)\n",
    "\n",
    "for name,lat,long in zip(df.대학교,df.위도,df.경도):\n",
    "    folium.Marker([lat, long], tooltip = name).add_to(seoul_map)\n",
    "\n",
    "seoul_map\n",
    "```"
   ]
  },
  {
   "cell_type": "code",
   "execution_count": 54,
   "id": "1b0d43f2-5b4b-4af6-982c-cb1c3099fe11",
   "metadata": {},
   "outputs": [],
   "source": [
    "import sys"
   ]
  },
  {
   "cell_type": "code",
   "execution_count": 55,
   "id": "3ca4580d-8a75-442f-b348-6aa9b15c16a6",
   "metadata": {
    "collapsed": true,
    "jupyter": {
     "outputs_hidden": true
    },
    "tags": []
   },
   "outputs": [
    {
     "data": {
      "text/plain": [
       "['C:\\\\Users\\\\admin',\n",
       " 'C:\\\\Users\\\\admin\\\\AppData\\\\Local\\\\Programs\\\\Python\\\\Python310\\\\python310.zip',\n",
       " 'C:\\\\Users\\\\admin\\\\AppData\\\\Local\\\\Programs\\\\Python\\\\Python310\\\\DLLs',\n",
       " 'C:\\\\Users\\\\admin\\\\AppData\\\\Local\\\\Programs\\\\Python\\\\Python310\\\\lib',\n",
       " 'C:\\\\Users\\\\admin\\\\AppData\\\\Local\\\\Programs\\\\Python\\\\Python310',\n",
       " '',\n",
       " 'C:\\\\Users\\\\admin\\\\AppData\\\\Local\\\\Programs\\\\Python\\\\Python310\\\\lib\\\\site-packages',\n",
       " 'C:\\\\Users\\\\admin\\\\AppData\\\\Local\\\\Programs\\\\Python\\\\Python310\\\\lib\\\\site-packages\\\\win32',\n",
       " 'C:\\\\Users\\\\admin\\\\AppData\\\\Local\\\\Programs\\\\Python\\\\Python310\\\\lib\\\\site-packages\\\\win32\\\\lib',\n",
       " 'C:\\\\Users\\\\admin\\\\AppData\\\\Local\\\\Programs\\\\Python\\\\Python310\\\\lib\\\\site-packages\\\\Pythonwin']"
      ]
     },
     "execution_count": 55,
     "metadata": {},
     "output_type": "execute_result"
    }
   ],
   "source": [
    "sys.path"
   ]
  },
  {
   "cell_type": "code",
   "execution_count": null,
   "id": "6ff1ace6-4a98-4048-ae57-7d9985691b46",
   "metadata": {},
   "outputs": [],
   "source": [
    "sys.path.append()"
   ]
  },
  {
   "cell_type": "code",
   "execution_count": null,
   "id": "5c13c658-86ee-4f9c-9b79-f8df917cccf1",
   "metadata": {},
   "outputs": [],
   "source": [
    "sys.argv"
   ]
  },
  {
   "cell_type": "code",
   "execution_count": 56,
   "id": "1f3d5248-eb79-4d56-9938-f2f77ea59ea9",
   "metadata": {},
   "outputs": [],
   "source": [
    "import os"
   ]
  },
  {
   "cell_type": "code",
   "execution_count": 57,
   "id": "b16c259f-4c99-4a22-a897-73f6ca8e0d04",
   "metadata": {
    "collapsed": true,
    "jupyter": {
     "outputs_hidden": true
    },
    "tags": []
   },
   "outputs": [
    {
     "data": {
      "text/plain": [
       "environ{'ALLUSERSPROFILE': 'C:\\\\ProgramData',\n",
       "        'APPDATA': 'C:\\\\Users\\\\admin\\\\AppData\\\\Roaming',\n",
       "        'COMMONPROGRAMFILES': 'C:\\\\Program Files\\\\Common Files',\n",
       "        'COMMONPROGRAMFILES(X86)': 'C:\\\\Program Files (x86)\\\\Common Files',\n",
       "        'COMMONPROGRAMW6432': 'C:\\\\Program Files\\\\Common Files',\n",
       "        'COMPUTERNAME': 'DESKTOP-PBRMROL',\n",
       "        'COMSPEC': 'C:\\\\WINDOWS\\\\system32\\\\cmd.exe',\n",
       "        'DRIVERDATA': 'C:\\\\Windows\\\\System32\\\\Drivers\\\\DriverData',\n",
       "        'FPS_BROWSER_APP_PROFILE_STRING': 'Internet Explorer',\n",
       "        'FPS_BROWSER_USER_PROFILE_STRING': 'Default',\n",
       "        'HOMEDRIVE': 'C:',\n",
       "        'HOMEPATH': '\\\\Users\\\\admin',\n",
       "        'JAVA_HOME': 'C:\\\\Program Files\\\\Amazon Corretto\\\\jdk11.0.16_9',\n",
       "        'LOCALAPPDATA': 'C:\\\\Users\\\\admin\\\\AppData\\\\Local',\n",
       "        'LOGONSERVER': '\\\\\\\\DESKTOP-PBRMROL',\n",
       "        'NUMBER_OF_PROCESSORS': '6',\n",
       "        'ONEDRIVE': 'C:\\\\Users\\\\admin\\\\OneDrive',\n",
       "        'OS': 'Windows_NT',\n",
       "        'PATH': 'C:\\\\Program Files\\\\Amazon Corretto\\\\jdk11.0.16_9\\\\bin;C:\\\\WINDOWS\\\\system32;C:\\\\WINDOWS;C:\\\\WINDOWS\\\\System32\\\\Wbem;C:\\\\WINDOWS\\\\System32\\\\WindowsPowerShell\\\\v1.0\\\\;C:\\\\WINDOWS\\\\System32\\\\OpenSSH\\\\;C:\\\\Users\\\\admin\\\\AppData\\\\Local\\\\Programs\\\\Python\\\\Python310\\\\Scripts\\\\;C:\\\\Users\\\\admin\\\\AppData\\\\Local\\\\Programs\\\\Python\\\\Python310\\\\;C:\\\\Users\\\\admin\\\\AppData\\\\Local\\\\Microsoft\\\\WindowsApps;',\n",
       "        'PATHEXT': '.COM;.EXE;.BAT;.CMD;.VBS;.VBE;.JS;.JSE;.WSF;.WSH;.MSC',\n",
       "        'PROCESSOR_ARCHITECTURE': 'AMD64',\n",
       "        'PROCESSOR_IDENTIFIER': 'Intel64 Family 6 Model 158 Stepping 10, GenuineIntel',\n",
       "        'PROCESSOR_LEVEL': '6',\n",
       "        'PROCESSOR_REVISION': '9e0a',\n",
       "        'PROGRAMDATA': 'C:\\\\ProgramData',\n",
       "        'PROGRAMFILES': 'C:\\\\Program Files',\n",
       "        'PROGRAMFILES(X86)': 'C:\\\\Program Files (x86)',\n",
       "        'PROGRAMW6432': 'C:\\\\Program Files',\n",
       "        'PROMPT': '$P$G',\n",
       "        'PSMODULEPATH': 'C:\\\\Program Files\\\\WindowsPowerShell\\\\Modules;C:\\\\WINDOWS\\\\system32\\\\WindowsPowerShell\\\\v1.0\\\\Modules',\n",
       "        'PUBLIC': 'C:\\\\Users\\\\Public',\n",
       "        'SESSIONNAME': 'Console',\n",
       "        'SYSTEMDRIVE': 'C:',\n",
       "        'SYSTEMROOT': 'C:\\\\WINDOWS',\n",
       "        'TEMP': 'C:\\\\Users\\\\admin\\\\AppData\\\\Local\\\\Temp',\n",
       "        'TMP': 'C:\\\\Users\\\\admin\\\\AppData\\\\Local\\\\Temp',\n",
       "        'USERDOMAIN': 'DESKTOP-PBRMROL',\n",
       "        'USERDOMAIN_ROAMINGPROFILE': 'DESKTOP-PBRMROL',\n",
       "        'USERNAME': 'admin',\n",
       "        'USERPROFILE': 'C:\\\\Users\\\\admin',\n",
       "        'WINDIR': 'C:\\\\WINDOWS',\n",
       "        'JPY_INTERRUPT_EVENT': '3724',\n",
       "        'IPY_INTERRUPT_EVENT': '3724',\n",
       "        'JPY_PARENT_PID': '1752',\n",
       "        'TERM': 'xterm-color',\n",
       "        'CLICOLOR': '1',\n",
       "        'PAGER': 'cat',\n",
       "        'GIT_PAGER': 'cat',\n",
       "        'MPLBACKEND': 'module://matplotlib_inline.backend_inline'}"
      ]
     },
     "execution_count": 57,
     "metadata": {},
     "output_type": "execute_result"
    }
   ],
   "source": [
    "os.environ"
   ]
  },
  {
   "cell_type": "code",
   "execution_count": 58,
   "id": "119d4e13-1e26-49bb-b273-3cebd91969f0",
   "metadata": {},
   "outputs": [
    {
     "data": {
      "text/plain": [
       "'C:\\\\Users\\\\admin'"
      ]
     },
     "execution_count": 58,
     "metadata": {},
     "output_type": "execute_result"
    }
   ],
   "source": [
    "os.getcwd()"
   ]
  },
  {
   "cell_type": "code",
   "execution_count": null,
   "id": "b6dfd60f-de39-494b-b068-9e92ffed5027",
   "metadata": {},
   "outputs": [],
   "source": [
    "os.chdir('c:/Users/admin/')            # 저장 장소를 바꿔줌."
   ]
  },
  {
   "cell_type": "markdown",
   "id": "a1a43f16-2c98-4fda-9c5a-2d9b3058139b",
   "metadata": {},
   "source": [
    "- pickle"
   ]
  },
  {
   "cell_type": "code",
   "execution_count": 63,
   "id": "2c59ad08-a92f-44ec-af2d-ab87cba90c4e",
   "metadata": {
    "tags": []
   },
   "outputs": [],
   "source": [
    "df.to_csv('aaaaaaaa.csv')"
   ]
  },
  {
   "cell_type": "code",
   "execution_count": 64,
   "id": "64379315-d812-456d-bf3c-8b82ec6ec247",
   "metadata": {},
   "outputs": [],
   "source": [
    "df.to_excel('bbbb.xlsx')"
   ]
  },
  {
   "cell_type": "code",
   "execution_count": null,
   "id": "b52770cf-298b-42a0-a5b6-5f8c91fb6ee1",
   "metadata": {},
   "outputs": [],
   "source": [
    "import pickle"
   ]
  },
  {
   "cell_type": "code",
   "execution_count": 67,
   "id": "3b999bba-86e6-4133-b1dc-997898bad0fe",
   "metadata": {},
   "outputs": [],
   "source": [
    "with open('test.pickle', 'wb') as f:\n",
    "    pickle.dump(df, f)"
   ]
  },
  {
   "cell_type": "code",
   "execution_count": 69,
   "id": "b83a0648-c14c-44be-9fab-02712bfb8dc7",
   "metadata": {
    "collapsed": true,
    "jupyter": {
     "outputs_hidden": true
    },
    "tags": []
   },
   "outputs": [
    {
     "name": "stdout",
     "output_type": "stream",
     "text": [
      "               대학교         위도          경도\n",
      "0     KAIST 서울캠퍼스   37.592573  127.046737\n",
      "1            KC대학교  37.548345  126.854797\n",
      "2     가톨릭대학교(성신교정)  37.585922  127.004328\n",
      "3     가톨릭대학교(성의교정)  37.499623  127.006065\n",
      "4         감리교신학대학교  37.567645  126.961610\n",
      "5            건국대학교  37.540762  127.079343\n",
      "6     경기대학교 서울캠퍼스   37.300485  127.035833\n",
      "7     경희대학교 서울캠퍼스   37.596195  127.052544\n",
      "8            고려대학교  37.590192  127.033184\n",
      "9            광운대학교  37.619496  127.059696\n",
      "10           국민대학교  37.609641  126.997697\n",
      "11         덕성여자대학교  37.651199  127.016160\n",
      "12           동국대학교  37.557477  127.002052\n",
      "13         동덕여자대학교  37.606320  127.041808\n",
      "14    명지대학교 서울캠퍼스   37.580205  126.923445\n",
      "15           삼육대학교  37.642952  127.105476\n",
      "16    상명대학교 서울캠퍼스   37.602638  126.955252\n",
      "17           서강대학교  37.550944  126.941002\n",
      "18           서경대학교  37.615095  127.013111\n",
      "19       서울과학기술대학교  37.631668  127.077481\n",
      "20         서울교육대학교  37.489961  127.016412\n",
      "21         서울기독대학교  37.600923  126.912382\n",
      "22           서울대학교  37.459882  126.951905\n",
      "23         서울시립대학교  37.583866  127.058777\n",
      "24         서울여자대학교  37.628113  127.090457\n",
      "25         서울한영대학교  37.496541  126.851262\n",
      "26          성공회대학교  37.487232  126.825320\n",
      "27  성균관대학교 서울캠퍼스    37.588227  126.993606\n",
      "28         성신여자대학교  37.591310  127.022131\n",
      "29           세종대학교  37.550260  127.073139\n",
      "30         숙명여자대학교  37.546364  126.964831\n",
      "31           숭실대학교  37.496311  126.957460\n",
      "32           연세대학교  37.565784  126.938572\n",
      "33          육군사관학교  37.623819  127.098878\n",
      "34         이화여자대학교  37.564308  126.950179\n",
      "35        장로회신학대학교  37.550511  127.103458\n",
      "36    중앙대학교 서울캠퍼스   37.505088  126.957101\n",
      "37           총신대학교  37.488623  126.966817\n",
      "38         추계예술대학교  37.562452  126.953417\n",
      "39       한국방송통신대학교  37.578613  127.003291\n",
      "40         한국성서대학교  37.648749  127.064320\n",
      "41        한국예술종합학교  37.604997  127.056740\n",
      "42        한국외국어대학교  37.597319  127.057843\n",
      "43         한국체육대학교  37.519627  127.130984\n",
      "44           한성대학교  37.581785  127.010369\n",
      "45           한양대학교  37.557232  127.045322\n",
      "46           홍익대학교  37.551464  126.925011\n"
     ]
    }
   ],
   "source": [
    "with open('test.pickle', 'rb') as f:\n",
    "    data = pickle.load(f)\n",
    "print(data)"
   ]
  },
  {
   "cell_type": "markdown",
   "id": "b2a3f328-7edf-462a-9970-06f92b13faa7",
   "metadata": {},
   "source": [
    "- glob"
   ]
  },
  {
   "cell_type": "code",
   "execution_count": 72,
   "id": "b2e56316-c830-4571-b027-48284a6c176a",
   "metadata": {},
   "outputs": [],
   "source": [
    "import glob"
   ]
  },
  {
   "cell_type": "code",
   "execution_count": 73,
   "id": "48e6925e-a01b-45d9-aa2a-a3171559d09a",
   "metadata": {},
   "outputs": [
    {
     "data": {
      "text/plain": [
       "['C:/users/admin\\\\aaaaaaaa.csv',\n",
       " 'C:/users/admin\\\\abc',\n",
       " 'C:/users/admin\\\\AppData',\n",
       " 'C:/users/admin\\\\Application Data']"
      ]
     },
     "execution_count": 73,
     "metadata": {},
     "output_type": "execute_result"
    }
   ],
   "source": [
    "glob.glob('C:/users/admin/a*')"
   ]
  },
  {
   "cell_type": "code",
   "execution_count": 75,
   "id": "26ebc375-188e-4537-8247-d12c0fd6aadd",
   "metadata": {},
   "outputs": [
    {
     "data": {
      "text/plain": [
       "['C:/users/admin\\\\aaaaaaaa.csv']"
      ]
     },
     "execution_count": 75,
     "metadata": {},
     "output_type": "execute_result"
    }
   ],
   "source": [
    "glob.glob('C:/users/admin/a*.csv')"
   ]
  },
  {
   "cell_type": "markdown",
   "id": "e29a7c71-abb4-4f56-8552-036cf82c0b70",
   "metadata": {},
   "source": [
    "- time"
   ]
  },
  {
   "cell_type": "code",
   "execution_count": 76,
   "id": "1ab7c08a-295f-4799-8eb9-58cb76fd1e86",
   "metadata": {},
   "outputs": [],
   "source": [
    "import time"
   ]
  },
  {
   "cell_type": "code",
   "execution_count": 77,
   "id": "0d70ebdb-1741-4b8f-bd5e-1eddf4fba627",
   "metadata": {},
   "outputs": [
    {
     "data": {
      "text/plain": [
       "1663045604.10976"
      ]
     },
     "execution_count": 77,
     "metadata": {},
     "output_type": "execute_result"
    }
   ],
   "source": [
    "time.time()"
   ]
  },
  {
   "cell_type": "code",
   "execution_count": 81,
   "id": "9f0c242f-0c48-42df-a994-9b1b6945eee2",
   "metadata": {},
   "outputs": [
    {
     "data": {
      "text/plain": [
       "641.6071407574797"
      ]
     },
     "execution_count": 81,
     "metadata": {},
     "output_type": "execute_result"
    }
   ],
   "source": [
    "(((time.time()/60)/60)/24)/30"
   ]
  },
  {
   "cell_type": "code",
   "execution_count": 97,
   "id": "99046f45-5014-40b7-9266-4a0a4b0683e5",
   "metadata": {},
   "outputs": [
    {
     "data": {
      "text/plain": [
       "time.struct_time(tm_year=2022, tm_mon=9, tm_mday=13, tm_hour=14, tm_min=22, tm_sec=25, tm_wday=1, tm_yday=256, tm_isdst=0)"
      ]
     },
     "execution_count": 97,
     "metadata": {},
     "output_type": "execute_result"
    }
   ],
   "source": [
    "time.localtime()"
   ]
  },
  {
   "cell_type": "code",
   "execution_count": 85,
   "id": "10f64fdc-a28d-4fb0-8ab2-2e5efee1cd92",
   "metadata": {},
   "outputs": [
    {
     "data": {
      "text/plain": [
       "2022"
      ]
     },
     "execution_count": 85,
     "metadata": {},
     "output_type": "execute_result"
    }
   ],
   "source": [
    "time.localtime(time.time()).tm_year   # 속성 접근하기"
   ]
  },
  {
   "cell_type": "code",
   "execution_count": 86,
   "id": "0887615c-1441-4425-8e3f-457cd18128c1",
   "metadata": {},
   "outputs": [
    {
     "data": {
      "text/plain": [
       "14"
      ]
     },
     "execution_count": 86,
     "metadata": {},
     "output_type": "execute_result"
    }
   ],
   "source": [
    "time.localtime(time.time()).tm_hour"
   ]
  },
  {
   "cell_type": "markdown",
   "id": "05f9d0e8-c72b-474d-961a-18cbe97c4fc1",
   "metadata": {},
   "source": [
    "- time.strftime"
   ]
  },
  {
   "cell_type": "code",
   "execution_count": 87,
   "id": "45447374-7035-4f21-b05e-b8aa4a2cd4f8",
   "metadata": {},
   "outputs": [
    {
     "data": {
      "text/plain": [
       "'09/13/22'"
      ]
     },
     "execution_count": 87,
     "metadata": {},
     "output_type": "execute_result"
    }
   ],
   "source": [
    "now = time.localtime(time.time())\n",
    "time.strftime('%x', now)"
   ]
  },
  {
   "cell_type": "code",
   "execution_count": 88,
   "id": "9d6a3207-43b4-4081-a161-76f188d66f77",
   "metadata": {},
   "outputs": [
    {
     "data": {
      "text/plain": [
       "'14:13:40'"
      ]
     },
     "execution_count": 88,
     "metadata": {},
     "output_type": "execute_result"
    }
   ],
   "source": [
    "time.strftime('%X', now)"
   ]
  },
  {
   "cell_type": "code",
   "execution_count": 89,
   "id": "640a1ea2-c4fc-48fd-9e64-b90439eb1be8",
   "metadata": {},
   "outputs": [
    {
     "data": {
      "text/plain": [
       "'09'"
      ]
     },
     "execution_count": 89,
     "metadata": {},
     "output_type": "execute_result"
    }
   ],
   "source": [
    "time.strftime('%m', now)"
   ]
  },
  {
   "cell_type": "code",
   "execution_count": 91,
   "id": "02be3e4f-1e80-48a4-9410-d81da4691ed9",
   "metadata": {},
   "outputs": [
    {
     "data": {
      "text/plain": [
       "'2022-09-13 02:13:40 PM'"
      ]
     },
     "execution_count": 91,
     "metadata": {},
     "output_type": "execute_result"
    }
   ],
   "source": [
    "time.strftime('%Y-%m-%d %I:%M:%S %p', now)"
   ]
  },
  {
   "cell_type": "code",
   "execution_count": 96,
   "id": "6c74e419-e551-4f1c-8958-e78dcd7e9bb4",
   "metadata": {},
   "outputs": [
    {
     "data": {
      "text/plain": [
       "time.struct_time(tm_year=2022, tm_mon=9, tm_mday=13, tm_hour=14, tm_min=13, tm_sec=40, tm_wday=1, tm_yday=256, tm_isdst=-1)"
      ]
     },
     "execution_count": 96,
     "metadata": {},
     "output_type": "execute_result"
    }
   ],
   "source": [
    "time.strptime('2022-09-13 02:13:40 PM', '%Y-%m-%d %I:%M:%S %p' )"
   ]
  },
  {
   "cell_type": "code",
   "execution_count": 102,
   "id": "7522e90a-9c32-455b-aad6-d4317df15def",
   "metadata": {
    "tags": []
   },
   "outputs": [
    {
     "name": "stdout",
     "output_type": "stream",
     "text": [
      "Hello\n",
      "Hello\n",
      "Hello\n",
      "Hello\n",
      "Hello\n"
     ]
    },
    {
     "ename": "KeyboardInterrupt",
     "evalue": "",
     "output_type": "error",
     "traceback": [
      "\u001b[1;31m---------------------------------------------------------------------------\u001b[0m",
      "\u001b[1;31mKeyboardInterrupt\u001b[0m                         Traceback (most recent call last)",
      "Input \u001b[1;32mIn [102]\u001b[0m, in \u001b[0;36m<cell line: 1>\u001b[1;34m()\u001b[0m\n\u001b[0;32m      1\u001b[0m \u001b[38;5;28;01mwhile\u001b[39;00m \u001b[38;5;28;01mTrue\u001b[39;00m:\n\u001b[0;32m      2\u001b[0m     \u001b[38;5;28mprint\u001b[39m(\u001b[38;5;124m'\u001b[39m\u001b[38;5;124mHello\u001b[39m\u001b[38;5;124m'\u001b[39m)\n\u001b[1;32m----> 3\u001b[0m     \u001b[43mtime\u001b[49m\u001b[38;5;241;43m.\u001b[39;49m\u001b[43msleep\u001b[49m\u001b[43m(\u001b[49m\u001b[38;5;241;43m1\u001b[39;49m\u001b[43m)\u001b[49m\n",
      "\u001b[1;31mKeyboardInterrupt\u001b[0m: "
     ]
    }
   ],
   "source": [
    "while True:\n",
    "    print('Hello')\n",
    "    time.sleep(1)"
   ]
  },
  {
   "cell_type": "code",
   "execution_count": 103,
   "id": "d5d163f2-a72c-410a-82f3-6f7470ec53b2",
   "metadata": {},
   "outputs": [],
   "source": [
    "import calendar"
   ]
  },
  {
   "cell_type": "code",
   "execution_count": 104,
   "id": "21b19a0d-da5d-450f-951a-ea174de06d72",
   "metadata": {},
   "outputs": [
    {
     "data": {
      "text/plain": [
       "'                                  2022\\n\\n      January                   February                   March\\nMo Tu We Th Fr Sa Su      Mo Tu We Th Fr Sa Su      Mo Tu We Th Fr Sa Su\\n                1  2          1  2  3  4  5  6          1  2  3  4  5  6\\n 3  4  5  6  7  8  9       7  8  9 10 11 12 13       7  8  9 10 11 12 13\\n10 11 12 13 14 15 16      14 15 16 17 18 19 20      14 15 16 17 18 19 20\\n17 18 19 20 21 22 23      21 22 23 24 25 26 27      21 22 23 24 25 26 27\\n24 25 26 27 28 29 30      28                        28 29 30 31\\n31\\n\\n       April                      May                       June\\nMo Tu We Th Fr Sa Su      Mo Tu We Th Fr Sa Su      Mo Tu We Th Fr Sa Su\\n             1  2  3                         1             1  2  3  4  5\\n 4  5  6  7  8  9 10       2  3  4  5  6  7  8       6  7  8  9 10 11 12\\n11 12 13 14 15 16 17       9 10 11 12 13 14 15      13 14 15 16 17 18 19\\n18 19 20 21 22 23 24      16 17 18 19 20 21 22      20 21 22 23 24 25 26\\n25 26 27 28 29 30         23 24 25 26 27 28 29      27 28 29 30\\n                          30 31\\n\\n        July                     August                  September\\nMo Tu We Th Fr Sa Su      Mo Tu We Th Fr Sa Su      Mo Tu We Th Fr Sa Su\\n             1  2  3       1  2  3  4  5  6  7                1  2  3  4\\n 4  5  6  7  8  9 10       8  9 10 11 12 13 14       5  6  7  8  9 10 11\\n11 12 13 14 15 16 17      15 16 17 18 19 20 21      12 13 14 15 16 17 18\\n18 19 20 21 22 23 24      22 23 24 25 26 27 28      19 20 21 22 23 24 25\\n25 26 27 28 29 30 31      29 30 31                  26 27 28 29 30\\n\\n      October                   November                  December\\nMo Tu We Th Fr Sa Su      Mo Tu We Th Fr Sa Su      Mo Tu We Th Fr Sa Su\\n                1  2          1  2  3  4  5  6                1  2  3  4\\n 3  4  5  6  7  8  9       7  8  9 10 11 12 13       5  6  7  8  9 10 11\\n10 11 12 13 14 15 16      14 15 16 17 18 19 20      12 13 14 15 16 17 18\\n17 18 19 20 21 22 23      21 22 23 24 25 26 27      19 20 21 22 23 24 25\\n24 25 26 27 28 29 30      28 29 30                  26 27 28 29 30 31\\n31\\n'"
      ]
     },
     "execution_count": 104,
     "metadata": {},
     "output_type": "execute_result"
    }
   ],
   "source": [
    "calendar.calendar(2022)"
   ]
  },
  {
   "cell_type": "code",
   "execution_count": 105,
   "id": "bf6851f8-7e6c-46b7-8400-c36c48b85a9c",
   "metadata": {},
   "outputs": [
    {
     "name": "stdout",
     "output_type": "stream",
     "text": [
      "   September 2022\n",
      "Mo Tu We Th Fr Sa Su\n",
      "          1  2  3  4\n",
      " 5  6  7  8  9 10 11\n",
      "12 13 14 15 16 17 18\n",
      "19 20 21 22 23 24 25\n",
      "26 27 28 29 30\n"
     ]
    }
   ],
   "source": [
    "calendar.prmonth(2022, 9)"
   ]
  },
  {
   "cell_type": "code",
   "execution_count": 108,
   "id": "3c2b4587-27e6-4ea7-b8bd-642a9a19697d",
   "metadata": {},
   "outputs": [
    {
     "data": {
      "text/plain": [
       "1"
      ]
     },
     "execution_count": 108,
     "metadata": {},
     "output_type": "execute_result"
    }
   ],
   "source": [
    "calendar.weekday(2022, 9, 13)"
   ]
  },
  {
   "cell_type": "code",
   "execution_count": 109,
   "id": "7efc7cd5-0e4d-490a-bce8-1b61b1265560",
   "metadata": {},
   "outputs": [
    {
     "data": {
      "text/plain": [
       "0"
      ]
     },
     "execution_count": 109,
     "metadata": {},
     "output_type": "execute_result"
    }
   ],
   "source": [
    "calendar.weekday(2022, 9, 12)"
   ]
  },
  {
   "cell_type": "markdown",
   "id": "e6010f26-95f5-4292-bb10-7bf500b99122",
   "metadata": {},
   "source": [
    "출력값이 1인 이유?\n",
    "\n",
    "0은 그 주의 월요일을 말한거고 화요일이니까 1이 출력되었다."
   ]
  },
  {
   "cell_type": "markdown",
   "id": "4e5d3b86-e478-45b6-ba3b-18187773f1ab",
   "metadata": {},
   "source": [
    "- random"
   ]
  },
  {
   "cell_type": "code",
   "execution_count": 110,
   "id": "8df58aba-e7a3-492a-a9ea-edb8391364c3",
   "metadata": {},
   "outputs": [],
   "source": [
    "import random"
   ]
  },
  {
   "cell_type": "code",
   "execution_count": 119,
   "id": "c8f66aab-6f26-4521-b8fb-23aa18e8f4d6",
   "metadata": {},
   "outputs": [
    {
     "data": {
      "text/plain": [
       "2"
      ]
     },
     "execution_count": 119,
     "metadata": {},
     "output_type": "execute_result"
    }
   ],
   "source": [
    "random.randint(1,5)"
   ]
  },
  {
   "cell_type": "code",
   "execution_count": 121,
   "id": "7b7c427d-d3d4-4f03-aeb1-8c8b078ff55d",
   "metadata": {},
   "outputs": [
    {
     "data": {
      "text/plain": [
       "[11, 2, 4, 14, 14, 8, 3, 6, 3, 20]"
      ]
     },
     "execution_count": 121,
     "metadata": {},
     "output_type": "execute_result"
    }
   ],
   "source": [
    "li = []\n",
    "for _ in range(10):\n",
    "    li.append(random.randint(1,20))\n",
    "li"
   ]
  },
  {
   "cell_type": "code",
   "execution_count": 122,
   "id": "6ee6956b-326d-4f79-aea0-c02b81dba677",
   "metadata": {},
   "outputs": [
    {
     "data": {
      "text/plain": [
       "[55, 10, 41, 52, 36, 19, 6, 21, 14]"
      ]
     },
     "execution_count": 122,
     "metadata": {},
     "output_type": "execute_result"
    }
   ],
   "source": [
    "li = []\n",
    "for _ in range(10):\n",
    "    a = random.randint(1, 55)\n",
    "    if a in li:\n",
    "        continue\n",
    "    li.append(a)\n",
    "li"
   ]
  },
  {
   "cell_type": "code",
   "execution_count": 127,
   "id": "5313302b-9827-45d8-bba2-92cd680abdb0",
   "metadata": {},
   "outputs": [
    {
     "data": {
      "text/plain": [
       "2"
      ]
     },
     "execution_count": 127,
     "metadata": {},
     "output_type": "execute_result"
    }
   ],
   "source": [
    "random.choice([1,2,3,10])   # 초이스로 지정해 준 숫자만 추출"
   ]
  },
  {
   "cell_type": "code",
   "execution_count": 133,
   "id": "55af5fa3-00b5-4034-8a65-9625ba4634de",
   "metadata": {},
   "outputs": [
    {
     "data": {
      "text/plain": [
       "4"
      ]
     },
     "execution_count": 133,
     "metadata": {},
     "output_type": "execute_result"
    }
   ],
   "source": [
    "random.choice(range(5))"
   ]
  },
  {
   "cell_type": "code",
   "execution_count": 135,
   "id": "a8558aeb-d6cc-48d4-af69-dcdcd7d7a45d",
   "metadata": {},
   "outputs": [
    {
     "data": {
      "text/plain": [
       "0.6018465377373269"
      ]
     },
     "execution_count": 135,
     "metadata": {},
     "output_type": "execute_result"
    }
   ],
   "source": [
    "random.random()        # 0~1사이의 소수값을 낸다."
   ]
  },
  {
   "cell_type": "code",
   "execution_count": 137,
   "id": "6e61d919-7449-46f1-8cbe-5db5fa2385c1",
   "metadata": {},
   "outputs": [
    {
     "data": {
      "text/plain": [
       "0.29778091680407215"
      ]
     },
     "execution_count": 137,
     "metadata": {},
     "output_type": "execute_result"
    }
   ],
   "source": [
    "np.random.uniform()      # 위 아래 둘다 같은 기능이다."
   ]
  },
  {
   "cell_type": "code",
   "execution_count": 144,
   "id": "b499729d-a601-4c23-b9a8-676815530c7a",
   "metadata": {},
   "outputs": [
    {
     "data": {
      "text/plain": [
       "[3, 2, 1]"
      ]
     },
     "execution_count": 144,
     "metadata": {},
     "output_type": "execute_result"
    }
   ],
   "source": [
    "data = [1,3,2]\n",
    "random.shuffle(data)     # 섞어준다.\n",
    "data"
   ]
  },
  {
   "cell_type": "code",
   "execution_count": 145,
   "id": "71db519d-3cf6-42a2-b50b-5017e454c936",
   "metadata": {},
   "outputs": [],
   "source": [
    "import webbrowser"
   ]
  },
  {
   "cell_type": "code",
   "execution_count": 147,
   "id": "fe03a00b-6a55-463e-8597-b0be45a93228",
   "metadata": {},
   "outputs": [
    {
     "data": {
      "text/plain": [
       "True"
      ]
     },
     "execution_count": 147,
     "metadata": {},
     "output_type": "execute_result"
    }
   ],
   "source": [
    "webbrowser.open('www.google.com')"
   ]
  },
  {
   "cell_type": "markdown",
   "id": "625abf70-469e-4b23-8839-399dc5f136ac",
   "metadata": {},
   "source": [
    "- threading"
   ]
  },
  {
   "cell_type": "code",
   "execution_count": 149,
   "id": "93332844-cf69-4306-a592-98ddd08ee796",
   "metadata": {},
   "outputs": [
    {
     "name": "stdout",
     "output_type": "stream",
     "text": [
      "start\n",
      "working:  0\n",
      "working:  1\n",
      "working:  2\n",
      "working:  3\n",
      "working:  4\n"
     ]
    }
   ],
   "source": [
    "import time\n",
    "\n",
    "def long_task():\n",
    "    for i in range(5):\n",
    "        time.sleep(1)\n",
    "        print(\"working:  %s\"  %i)\n",
    "print('start')\n",
    "long_task()"
   ]
  },
  {
   "cell_type": "code",
   "execution_count": 150,
   "id": "50f97f32-c43e-4579-8756-69f54de5019b",
   "metadata": {},
   "outputs": [
    {
     "name": "stdout",
     "output_type": "stream",
     "text": [
      "Start\n",
      "working:  0\n",
      "working:  1\n",
      "working:  2\n",
      "working:  3\n",
      "working:  4\n",
      "working:  0\n",
      "working:  1\n",
      "working:  2\n",
      "working:  3\n",
      "working:  4\n",
      "working:  0\n",
      "working:  1\n",
      "working:  2\n",
      "working:  3\n",
      "working:  4\n",
      "working:  0\n",
      "working:  1\n",
      "working:  2\n",
      "working:  3\n",
      "working:  4\n",
      "working:  0\n",
      "working:  1\n",
      "working:  2\n",
      "working:  3\n",
      "working:  4\n",
      "End\n"
     ]
    }
   ],
   "source": [
    "import time\n",
    "\n",
    "def long_task():\n",
    "    for i in range(5):\n",
    "        time.sleep(1)\n",
    "        print(\"working:  %s\"  %i)\n",
    "print('Start')\n",
    "\n",
    "for _ in range(5):\n",
    "    long_task()\n",
    "print('End')"
   ]
  },
  {
   "cell_type": "code",
   "execution_count": 154,
   "id": "122a149a-fa39-448b-b7c6-058076d764aa",
   "metadata": {
    "tags": []
   },
   "outputs": [
    {
     "name": "stdout",
     "output_type": "stream",
     "text": [
      "Start\n",
      "working:0\n",
      "\n",
      "working:0\n",
      "\n",
      "working:0\n",
      "\n",
      "working:0\n",
      "\n",
      "working:0\n",
      "\n",
      "working:1\n",
      "working:1\n",
      "\n",
      "working:1\n",
      "\n",
      "\n",
      "working:1\n",
      "\n",
      "working:1\n",
      "\n",
      "working:2\n",
      "\n",
      "working:2\n",
      "\n",
      "working:2\n",
      "\n",
      "working:2\n",
      "\n",
      "working:2\n",
      "\n",
      "working:3\n",
      "\n",
      "working:3\n",
      "\n",
      "working:3\n",
      "\n",
      "working:3\n",
      "\n",
      "working:3\n",
      "\n",
      "working:4\n",
      "\n",
      "working:4\n",
      "\n",
      "working:4\n",
      "\n",
      "working:4\n",
      "\n",
      "working:4\n",
      "\n",
      "End\n"
     ]
    }
   ],
   "source": [
    "import time\n",
    "import threading  # 스레드를 생성하기 위해서는 threading 모듈이 필요하다.\n",
    "\n",
    "def long_task():\n",
    "    for i in range(5):\n",
    "        time.sleep(1)\n",
    "        print(\"working:%s\\n\" % i)\n",
    "print(\"Start\")\n",
    "\n",
    "threads = []\n",
    "for i in range(5):\n",
    "    t = threading.Thread(target=long_task)  # 스레드를 생성한다.\n",
    "    threads.append(t) \n",
    "\n",
    "for t in threads:\n",
    "    t.start()  # 스레드를 실행한다.\n",
    "\n",
    "for t in threads:\n",
    "    t.join()   # 이게 없으면 Start,End가 먼저 출력되니 끝날때까지 기다린다.\n",
    "\n",
    "print(\"End\")"
   ]
  },
  {
   "cell_type": "markdown",
   "id": "0660de66-119c-482b-a0cf-1a0a2c061e0e",
   "metadata": {},
   "source": [
    "# 구구단 프로그램"
   ]
  },
  {
   "cell_type": "markdown",
   "id": "dd8c7ee7-2073-483f-b493-7c1a210c8966",
   "metadata": {},
   "source": [
    "```\n",
    "< 문제 >\n",
    "함수이름 : GuGu() 2를 넣으면 2단이고 3을 넣으면 3단이 되게 만들기\n",
    "[2,4,6,8,......,18]\n",
    "곱셈 2단을 출력하는게 목표\n",
    "```"
   ]
  },
  {
   "cell_type": "code",
   "execution_count": 164,
   "id": "72cb21ec-6eaf-4a55-ae1d-77cf1f5701d2",
   "metadata": {},
   "outputs": [
    {
     "name": "stdout",
     "output_type": "stream",
     "text": [
      "[3, 6, 9, 12, 15, 18, 21, 24, 27]\n"
     ]
    }
   ],
   "source": [
    "def GuGu(n):\n",
    "    result = []\n",
    "    i = 1\n",
    "    while i < 10:\n",
    "        result.append(n * i)\n",
    "        i = i+1\n",
    "    return result\n",
    "\n",
    "print(GuGu(3))"
   ]
  }
 ],
 "metadata": {
  "kernelspec": {
   "display_name": "Python 3 (ipykernel)",
   "language": "python",
   "name": "python3"
  },
  "language_info": {
   "codemirror_mode": {
    "name": "ipython",
    "version": 3
   },
   "file_extension": ".py",
   "mimetype": "text/x-python",
   "name": "python",
   "nbconvert_exporter": "python",
   "pygments_lexer": "ipython3",
   "version": "3.10.6"
  }
 },
 "nbformat": 4,
 "nbformat_minor": 5
}
