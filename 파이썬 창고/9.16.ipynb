{
 "cells": [
  {
   "cell_type": "code",
   "execution_count": 10,
   "id": "1d57697e-244f-4bb7-8b57-a8f90a98aa42",
   "metadata": {},
   "outputs": [
    {
     "name": "stdout",
     "output_type": "stream",
     "text": [
      "<re.Match object; span=(0, 4), match='Life'>\n"
     ]
    }
   ],
   "source": [
    "import re\n",
    "m = re.match('[A-z]+', \"Life is too short\")\n",
    "print(m)"
   ]
  },
  {
   "cell_type": "code",
   "execution_count": 19,
   "id": "09c417fa-baf7-4e80-a4e0-742f84c87900",
   "metadata": {},
   "outputs": [
    {
     "name": "stdout",
     "output_type": "stream",
     "text": [
      "['black', 'blue']\n"
     ]
    }
   ],
   "source": [
    "s = \"black, blue and brown\"\n",
    "p = re.compile(\"black|blue\")\n",
    "print(re.findall(p, s)) "
   ]
  },
  {
   "cell_type": "code",
   "execution_count": 41,
   "id": "d37d7897-c327-49be-b8be-7362da83ef04",
   "metadata": {
    "tags": []
   },
   "outputs": [
    {
     "data": {
      "text/plain": [
       "['http', 'http', 'ftp']"
      ]
     },
     "execution_count": 41,
     "metadata": {},
     "output_type": "execute_result"
    }
   ],
   "source": [
    "s= \"http://naver.com, http://google.com, ftp://daum.net\"\n",
    "p = re.compile('\\w+(?=:)')\n",
    "re.findall(p,s)"
   ]
  },
  {
   "cell_type": "code",
   "execution_count": 57,
   "id": "5411951e-3b46-476f-98bc-a1113fbe4480",
   "metadata": {},
   "outputs": [
    {
     "data": {
      "text/plain": [
       "['naver.com,', 'google.com,', 'daum.net']"
      ]
     },
     "execution_count": 57,
     "metadata": {},
     "output_type": "execute_result"
    }
   ],
   "source": [
    "s= \"http://naver.com, http://google.com, ftp://daum.net\"\n",
    "p = re.compile('(?<=://)\\S+')\n",
    "re.findall(p,s)"
   ]
  },
  {
   "cell_type": "code",
   "execution_count": 59,
   "id": "60c58fe3-edf7-41e9-93e9-a9bde697a35a",
   "metadata": {},
   "outputs": [
    {
     "name": "stdout",
     "output_type": "stream",
     "text": [
      "<re.Match object; span=(7, 14), match='그리고 그리고'>\n",
      "<re.Match object; span=(21, 24), match='또 또'>\n",
      "<re.Match object; span=(31, 38), match='그런데 그런데'>\n",
      "<re.Match object; span=(46, 49), match='끝 끝'>\n"
     ]
    }
   ],
   "source": [
    "data = '''\n",
    "안녕하세요 그리고 그리고\n",
    "안녕하세요 또 또\n",
    "안녕하세요 그런데 그런데 \n",
    "안녕하세요 끝 끝\n",
    "''' \n",
    "\n",
    "p = re.compile(r\"(?P<repeat>\\w+)\\s+(?P=repeat)\")\n",
    "\n",
    "for i in p.finditer(data):\n",
    "    print(i) "
   ]
  },
  {
   "cell_type": "code",
   "execution_count": 68,
   "id": "b426c163-842a-4d29-af0e-b9dea095f09b",
   "metadata": {},
   "outputs": [
    {
     "data": {
      "text/plain": [
       "{'그런데', '그리고', '끝', '또', '안녕하세요'}"
      ]
     },
     "execution_count": 68,
     "metadata": {},
     "output_type": "execute_result"
    }
   ],
   "source": [
    "data = '''\n",
    "안녕하세요 그리고 그리고\n",
    "안녕하세요 또 또\n",
    "안녕하세요 그런데 그런데 \n",
    "안녕하세요 끝 끝\n",
    "''' \n",
    "\n",
    "data = re.findall(\"\\w+\", data)\n",
    "set(data)"
   ]
  },
  {
   "cell_type": "code",
   "execution_count": 69,
   "id": "4033124c-853d-4f35-aa45-1788b78bc6d2",
   "metadata": {},
   "outputs": [],
   "source": [
    "import urllib.request as req"
   ]
  },
  {
   "cell_type": "code",
   "execution_count": 72,
   "id": "5e9a1bd9-51fa-428e-8d87-49047a47319d",
   "metadata": {
    "tags": []
   },
   "outputs": [
    {
     "data": {
      "text/plain": [
       "<http.client.HTTPResponse at 0x2778e86b160>"
      ]
     },
     "execution_count": 72,
     "metadata": {},
     "output_type": "execute_result"
    }
   ],
   "source": [
    "req.urlopen(\"http://daum.net\")   # 접속만 한 것이다."
   ]
  },
  {
   "cell_type": "code",
   "execution_count": 90,
   "id": "ce2825b7-c0a4-4c58-8285-e32944993cde",
   "metadata": {
    "tags": []
   },
   "outputs": [],
   "source": [
    "data = req.urlopen(\"http://daum.net\").read().decode(\"utf-8\")\n",
    "# utf-8로 인해 우리가 읽을 수 있는 형태가 되었다."
   ]
  },
  {
   "cell_type": "code",
   "execution_count": 101,
   "id": "846d79b8-cff3-4440-b809-592eaf2d6fc2",
   "metadata": {},
   "outputs": [
    {
     "name": "stdout",
     "output_type": "stream",
     "text": [
      "https://t1.daumcdn.net/kas/static/na.min.js\n",
      "https://t1.daumcdn.net/tiara/js/v1/tiara.min.js\n",
      "https://t1.daumcdn.net/top/tiller-pc/lib/1636937121956/polyfill.min.js\n",
      "https://t1.daumcdn.net/top/tiller-pc/h/production/20220915_111213/index.js\n",
      "https://t1.daumcdn.net/kas/static/ba.min.js\n",
      "https://t1.daumcdn.net/top/tiller-pc/1655174491872/tiller-pc-suggest.js\n"
     ]
    }
   ],
   "source": [
    "p = re.compile(\"https://\\S+[.]js\")\n",
    "li = re.findall(p, data)\n",
    "for i in li:\n",
    "    print(i)"
   ]
  },
  {
   "cell_type": "code",
   "execution_count": 154,
   "id": "f4147c29-3b8a-4b47-a4d8-6db2afbce021",
   "metadata": {
    "tags": []
   },
   "outputs": [],
   "source": [
    "data = \"\"\"<div class=\"faZHB\"><a href=\"#\" target=\"_self\" role=\"button\" aria-expanded=\"true\" class=\"M_704\" style=\"display: block;\"><span class=\"WoYOw\">이른 아침 문을 여는 빵집입니다. 아침식사로 빵을 사러 가기엔 좋지만 매장안에서 드실 공간은 없어요. 이 빵집은 특이하게도 물 또는 커피를 무료로 텀블러에 담아갈수 있습니다.  가볍게 아침을 해결하고자 하는 여행자나 현지인은 들러보면 좋을 장소입니다.  참고로, 식빵 나오는 시간은 오전11시~12시 입니다. 빵 가격은 가성비 괜찮은 편이고 맛은 무난합니다. </span></a></div><div class=\"faZHB\"><a href=\"#\" target=\"_self\" role=\"button\" aria-expanded=\"false\" class=\"M_704\" style=\"display: block;\"><span class=\"WoYOw\">우연히 들어갔는데 사장님이 따뜻하고 친절하셔서 제주도 이미지마저 좋게 느껴졌어요. 그리고 무엇보다 빵이 정말 맛있어요. 제주도에서 원탑입니다!!! 여기보다 두배는 ...</span><span class=\"_3_09q\"><svg xmlns=\"\n",
    "http://www.w3.org/2000/svg\n",
    "\" viewBox=\"0 0 12 7\" class=\"_3Dnsh\" aria-hidden=\"true\"><path d=\"M11.47.52a.74.74 0 0 0-1.04 0l-4.4 4.45v.01L1.57.52A.74.74 0 1 0 .53 1.57l5.12 5.08a.5.5 0 0 0 .7 0l5.12-5.08a.74.74 0 0 0 0-1.05z\"></path></svg><span class=\"place_blind\">내용 더보기</span></span></a></div><div class=\"faZHB\"><a href=\"#\" target=\"_self\" role=\"button\" aria-expanded=\"false\" class=\"M_704\" style=\"display: block;\"><span class=\"WoYOw\">맛집검색하다가 스쳐지나갔는데 숙소근처에 있길래 들렸어요!!  시식하는빵도 있고  빵구매하는데 서비스로 흰색찹살떡??도 주시고 친절하세요! 인절미빵 강추입니다!  ...</span><span class=\"_3_09q\"><svg xmlns=\"\n",
    "http://www.w3.org/2000/svg\n",
    "\" viewBox=\"0 0 12 7\" class=\"_3Dnsh\" aria-hidden=\"true\"><path d=\"M11.47.52a.74.74 0 0 0-1.04 0l-4.4 4.45v.01L1.57.52A.74.74 0 1 0 .53 1.57l5.12 5.08a.5.5 0 0 0 .7 0l5.12-5.08a.74.74 0 0 0 0-1.05z\"></path></svg><span class=\"place_blind\">내용 더보기</span></span></a></div><div class=\"faZHB\"><a href=\"#\" target=\"_self\" role=\"button\" aria-expanded=\"false\" class=\"M_704\" style=\"display: block;\"><span class=\"WoYOw\">인절미빵. 먹물치즈빵? 제일 맛있었고 대파빵은 삼겹살을 부르는 꽤 매운 맛이었어요! 빵이 대체로 다~~~~맛있고 친절하십니다 주차는 근처 공영주차장에 하면 됩니다 다...</span><span class=\"_3_09q\"><svg xmlns=\"\n",
    "http://www.w3.org/2000/svg\n",
    "\" viewBox=\"0 0 12 7\" class=\"_3Dnsh\" aria-hidden=\"true\"><path d=\"M11.47.52a.74.74 0 0 0-1.04 0l-4.4 4.45v.01L1.57.52A.74.74 0 1 0 .53 1.57l5.12 5.08a.5.5 0 0 0 .7 0l5.12-5.08a.74.74 0 0 0 0-1.05z\"></path></svg><span class=\"place_blind\">내용 더보기</span></span></a></div><div class=\"faZHB\"><a href=\"#\" target=\"_self\" role=\"button\" aria-expanded=\"false\" class=\"M_704\" style=\"display: block;\"><span class=\"WoYOw\">사진을 제대로 못찍엇는데 뒤에 비닐로 싸진 빵들이에요 ㅋㅋㅋ  여기 진짜 촤고에요 보니 동네찐로컬맛집같아요 빵종류도 많고 각 빵마다 시식빵이 있는데 크기가 넘 커서...</span><span class=\"_3_09q\"><svg xmlns=\"\n",
    "http://www.w3.org/2000/svg\n",
    "\" viewBox=\"0 0 12 7\" class=\"_3Dnsh\" aria-hidden=\"true\"><path d=\"M11.47.52a.74.74 0 0 0-1.04 0l-4.4 4.45v.01L1.57.52A.74.74 0 1 0 .53 1.57l5.12 5.08a.5.5 0 0 0 .7 0l5.12-5.08a.74.74 0 0 0 0-1.05z\"></path></svg><span class=\"place_blind\">내용 더보기</span></span></a></div><div class=\"faZHB\"><a href=\"#\" target=\"_self\" role=\"button\" aria-expanded=\"false\" class=\"M_704\" style=\"display: block;\"><span class=\"WoYOw\">성산 여행하는 동안 두번이나 방문했어요 빵도 특색있고 하나하나 다 맛있고 사장님도 직원분도 친절하시고  커피도 무료로 먹을수 있게 해주시고 살때마다 서비스빵을 주...</span><span class=\"_3_09q\"><svg xmlns=\"\n",
    "http://www.w3.org/2000/svg\n",
    "\" viewBox=\"0 0 12 7\" class=\"_3Dnsh\" aria-hidden=\"true\"><path d=\"M11.47.52a.74.74 0 0 0-1.04 0l-4.4 4.45v.01L1.57.52A.74.74 0 1 0 .53 1.57l5.12 5.08a.5.5 0 0 0 .7 0l5.12-5.08a.74.74 0 0 0 0-1.05z\"></path></svg><span class=\"place_blind\">내용 더보기</span></span></a></div><div class=\"faZHB\"><a href=\"#\" target=\"_self\" role=\"button\" aria-expanded=\"false\" class=\"M_704\" style=\"display: block;\"><span class=\"WoYOw\">사장님 너무 친절하시고 빵이 진짜 맛있어요.. 미친 맛,,,,🥹가격이 타 빵집보다 훠얼씬 저렴한데  맛이 훠얼씬 맛있네요,,,??!?! 저희 동네에 있었음 매일 가고싶네요ㅠㅠㅠ …</span><span class=\"_3_09q\"><svg xmlns=\"\n",
    "http://www.w3.org/2000/svg\n",
    "\" viewBox=\"0 0 12 7\" class=\"_3Dnsh\" aria-hidden=\"true\"><path d=\"M11.47.52a.74.74 0 0 0-1.04 0l-4.4 4.45v.01L1.57.52A.74.74 0 1 0 .53 1.57l5.12 5.08a.5.5 0 0 0 .7 0l5.12-5.08a.74.74 0 0 0 0-1.05z\"></path></svg><span class=\"place_blind\">내용 더보기</span></span></a></div><div class=\"faZHB\"><a href=\"#\" target=\"_self\" role=\"button\" aria-expanded=\"false\" class=\"M_704\" style=\"display: block;\"><span class=\"WoYOw\">재료를 아끼지 않으세요 눚은시간 방문했는데도 손님들이 꽤 왔어요 마늘바게트에는 소스를 아끼지 않았고 다른빵들도 크림이 듬뿍 들어 있었어요 서비스도 주시고 시식…</span><span class=\"_3_09q\"><svg xmlns=\"\n",
    "http://www.w3.org/2000/svg\n",
    "\" viewBox=\"0 0 12 7\" class=\"_3Dnsh\" aria-hidden=\"true\"><path d=\"M11.47.52a.74.74 0 0 0-1.04 0l-4.4 4.45v.01L1.57.52A.74.74 0 1 0 .53 1.57l5.12 5.08a.5.5 0 0 0 .7 0l5.12-5.08a.74.74 0 0 0 0-1.05z\"></path></svg><span class=\"place_blind\">내용 더보기</span></span></a></div> \n",
    "\"\"\""
   ]
  },
  {
   "cell_type": "code",
   "execution_count": 152,
   "id": "8b4a9404-5e48-4c52-bdcf-92d6f413eb36",
   "metadata": {
    "collapsed": true,
    "jupyter": {
     "outputs_hidden": true
    },
    "tags": []
   },
   "outputs": [
    {
     "name": "stdout",
     "output_type": "stream",
     "text": [
      "이른 아침 문을 여는 빵집입니다\n",
      "아침식사로 빵을 사러 가기엔 좋지만 매장안에서 드실 공간은 없어요\n",
      "이 빵집은 특이하게도 물 또는 커피를 무료로 텀블러에 담아갈수 있습니다\n",
      "가볍게 아침을 해결하고자 하는 여행자나 현지인은 들러보면 좋을 장소입니다\n",
      "참고로 식빵 나오는 시간은 오전11시\n",
      "시 입니다\n",
      "빵 가격은 가성비 괜찮은 편이고 맛은 무난합니다\n",
      "우연히 들어갔는데 사장님이 따뜻하고 친절하셔서 제주도 이미지마저 좋게 느껴졌어요\n",
      "그리고 무엇보다 빵이 정말 맛있어요\n",
      "제주도에서 원탑입니다 여기보다 두배는 \n",
      "내용 더보기      704   맛집검색하다가 스쳐지나갔는데 숙소근처에 있길래 들렸어요  시식하는빵도 있고  빵구매하는데 서비스로 흰색찹살떡도 주시고 친절하세요 인절미빵 강추입니다  \n",
      "내용 더보기      704   인절미빵\n",
      "먹물치즈빵 제일 맛있었고 대파빵은 삼겹살을 부르는 꽤 매운 맛이었어요 빵이 대체로 다\n",
      "맛있고 친절하십니다 주차는 근처 공영주차장에 하면 됩니다 다\n",
      "내용 더보기      704   사진을 제대로 못찍엇는데 뒤에 비닐로 싸진 빵들이에요   여기 진짜 촤고에요 보니 동네찐로컬맛집같아요 빵종류도 많고 각 빵마다 시식빵이 있는데 크기가 넘 커서\n",
      "내용 더보기      704   성산 여행하는 동안 두번이나 방문했어요 빵도 특색있고 하나하나 다 맛있고 사장님도 직원분도 친절하시고  커피도 무료로 먹을수 있게 해주시고 살때마다 서비스빵을 주\n",
      "내용 더보기      704   사장님 너무 친절하시고 빵이 진짜 맛있어요\n",
      "미친 맛가격이 타 빵집보다 훠얼씬 저렴한데  맛이 훠얼씬 맛있네요 저희 동네에 있었음 매일 가고싶네요  309 \n",
      "\n",
      "내용 더보기      704   재료를 아끼지 않으세요 눚은시간 방문했는데도 손님들이 꽤 왔어요 마늘바게트에는 소스를 아끼지 않았고 다른빵들도 크림이 듬뿍 들어 있었어요 서비스도 주시고 시식 309 \n",
      "\n",
      "내용 더보기 \n",
      "\n"
     ]
    }
   ],
   "source": [
    "p = re.compile(\"[가-힣][\\d\\w\\s]*\")\n",
    "r = p.findall(data)\n",
    "\n",
    "for i in r:\n",
    "    print(i) "
   ]
  },
  {
   "cell_type": "markdown",
   "id": "7aa14861-2f6d-4172-94c9-0686e55721fa",
   "metadata": {},
   "source": [
    "### 자주 쓰이는 패턴\n",
    "- 전화번호"
   ]
  },
  {
   "cell_type": "code",
   "execution_count": null,
   "id": "31f06832-3ba8-4b69-ba68-8fa3412fdcf4",
   "metadata": {},
   "outputs": [],
   "source": [
    "010     -1234     -3434"
   ]
  },
  {
   "cell_type": "code",
   "execution_count": null,
   "id": "6a7865bd-8fb5-42cf-bacb-04c73cfef6fb",
   "metadata": {},
   "outputs": [],
   "source": [
    "'010[-]\\d{4}\\d{4}'\n",
    "\"\\d{2,3}[-]\\d{3,4}[-]\\d+\""
   ]
  },
  {
   "cell_type": "markdown",
   "id": "ab443f77-be3e-4ead-97b4-4d3c35768997",
   "metadata": {},
   "source": [
    "- 이메일"
   ]
  },
  {
   "cell_type": "code",
   "execution_count": null,
   "id": "b5473a74-0049-41c4-b557-c75c9ba32932",
   "metadata": {},
   "outputs": [],
   "source": [
    "prince@naver.com    \n",
    "hello@daum.net    \n",
    "morning@company.co.kr"
   ]
  },
  {
   "cell_type": "code",
   "execution_count": null,
   "id": "33b38735-e7ad-48a5-8055-9522da6077b6",
   "metadata": {},
   "outputs": [],
   "source": [
    "'\\S+@[\\w+.\\w+]+''"
   ]
  },
  {
   "cell_type": "markdown",
   "id": "312c15c6-320b-42d5-ad1c-7197ec30e513",
   "metadata": {},
   "source": [
    "- 주민번호"
   ]
  },
  {
   "cell_type": "code",
   "execution_count": null,
   "id": "b0eb89f3-8ebf-4c6a-a05a-559857cc7bfe",
   "metadata": {},
   "outputs": [],
   "source": [
    "210203 - 2134576"
   ]
  },
  {
   "cell_type": "code",
   "execution_count": null,
   "id": "2a915ab9-067b-4e86-a7da-4cb3cdea37d2",
   "metadata": {},
   "outputs": [],
   "source": [
    "'\\d{6}-\\d{7}'"
   ]
  },
  {
   "cell_type": "code",
   "execution_count": 18,
   "id": "d36d3d90-96a6-43e4-a780-2bf298d0a52a",
   "metadata": {},
   "outputs": [],
   "source": [
    "text = '''\n",
    "http://www.google.com/\n",
    "\n",
    "https://mail.google.com/\n",
    "\n",
    "ftp://ftp.google.com/\n",
    "\n",
    "''' "
   ]
  },
  {
   "cell_type": "code",
   "execution_count": 19,
   "id": "4262ce3e-3548-4b32-8d7a-bad600c87347",
   "metadata": {},
   "outputs": [
    {
     "data": {
      "text/plain": [
       "['http:', 'https:', 'ftp:']"
      ]
     },
     "execution_count": 19,
     "metadata": {},
     "output_type": "execute_result"
    }
   ],
   "source": [
    "import re\n",
    "p = re.compile(\".+:\")\n",
    "p.findall(text)"
   ]
  },
  {
   "cell_type": "code",
   "execution_count": 21,
   "id": "e8c623ba-1cca-421a-bc7f-bf86f5f2c337",
   "metadata": {},
   "outputs": [
    {
     "data": {
      "text/plain": [
       "['http', 'https', 'ftp']"
      ]
     },
     "execution_count": 21,
     "metadata": {},
     "output_type": "execute_result"
    }
   ],
   "source": [
    "p = re.compile(\".+(?=:)\")\n",
    "p.findall(text)"
   ]
  },
  {
   "cell_type": "code",
   "execution_count": 22,
   "id": "26a83352-8bb1-4f17-afc1-b9380b5b1e43",
   "metadata": {},
   "outputs": [],
   "source": [
    "text = '''apple: $50.24\n",
    "banana: $35.25\n",
    "pizza: $100\n",
    "''' "
   ]
  },
  {
   "cell_type": "code",
   "execution_count": 25,
   "id": "1ef2fe0b-6baf-458f-ad1b-6f039afec141",
   "metadata": {},
   "outputs": [
    {
     "data": {
      "text/plain": [
       "['50.24', '35.25', '100']"
      ]
     },
     "execution_count": 25,
     "metadata": {},
     "output_type": "execute_result"
    }
   ],
   "source": [
    "import re\n",
    "\n",
    "p = re.compile(\"\\d+.\\d+\")\n",
    "p.findall(text)"
   ]
  },
  {
   "cell_type": "code",
   "execution_count": 30,
   "id": "0d2aff78-786f-46ff-963a-ec32a5df4f2c",
   "metadata": {},
   "outputs": [
    {
     "data": {
      "text/plain": [
       "['$50.24', '$35.25', '$100']"
      ]
     },
     "execution_count": 30,
     "metadata": {},
     "output_type": "execute_result"
    }
   ],
   "source": [
    "import re\n",
    "\n",
    "p = re.compile(\"\\S\\d.+\")\n",
    "p.findall(text)"
   ]
  },
  {
   "cell_type": "code",
   "execution_count": 31,
   "id": "1791376f-f15d-4248-ac9e-0d4a7735a684",
   "metadata": {},
   "outputs": [],
   "source": [
    "text = '''<p>이른 아침 문을 여는 빵집입니다</p>\n",
    "<h1>아침식사로 빵을 사러 가기엔 좋지만 매장안에서 드실 공간은 없어요</h1>\n",
    "<h5>이 빵집은 특이하게도 물 또는 커피를 무료로 텀블러에 담아갈수 있습니다</h5>\n",
    "<p>가볍게 아침을 해결하고자 하는 여행자나 현지인은 들러보면 좋을 장소입니다</p>\n",
    "<p>참고로 식빵 나오는 시간은 오전시시 입니다</pp>\n",
    "''' "
   ]
  },
  {
   "cell_type": "code",
   "execution_count": 49,
   "id": "2f2460f0-a359-44a9-a077-7fff81915f66",
   "metadata": {},
   "outputs": [
    {
     "data": {
      "text/plain": [
       "['이른 아침 문을 여는 빵집입니다', '가볍게 아침을 해결하고자 하는 여행자나 현지인은 들러보면 좋을 장소입니다']"
      ]
     },
     "execution_count": 49,
     "metadata": {},
     "output_type": "execute_result"
    }
   ],
   "source": [
    "import re\n",
    "\n",
    "p = re.compile(\"(?<=<p>).+(?=</p>)\")\n",
    "p.findall(text)"
   ]
  },
  {
   "cell_type": "markdown",
   "id": "865ca96d-d9f2-4076-b10a-622d48719043",
   "metadata": {},
   "source": [
    "# 배열 만들기"
   ]
  },
  {
   "cell_type": "code",
   "execution_count": 50,
   "id": "8d551285-fc0d-4bd6-90ee-a6596d9b2942",
   "metadata": {},
   "outputs": [],
   "source": [
    "import numpy as np"
   ]
  },
  {
   "cell_type": "code",
   "execution_count": 53,
   "id": "c24e3d6c-2485-42f8-a306-bfa780c196cf",
   "metadata": {},
   "outputs": [
    {
     "data": {
      "text/plain": [
       "array([0, 1, 2, 3])"
      ]
     },
     "execution_count": 53,
     "metadata": {},
     "output_type": "execute_result"
    }
   ],
   "source": [
    "a = np.array([0,1,2,3]) # 입력값이 2개 이상이면 리스트로 묶는다.\n",
    "a"
   ]
  },
  {
   "cell_type": "code",
   "execution_count": 54,
   "id": "dc36df09-0b26-4d08-b7d5-ed27e7fd1f1b",
   "metadata": {},
   "outputs": [
    {
     "name": "stdout",
     "output_type": "stream",
     "text": [
      "[0 1 2 3]\n"
     ]
    }
   ],
   "source": [
    "print(a)"
   ]
  },
  {
   "cell_type": "code",
   "execution_count": 57,
   "id": "2454e52a-63d8-408d-bad1-90866bd0a203",
   "metadata": {},
   "outputs": [
    {
     "data": {
      "text/plain": [
       "(4,)"
      ]
     },
     "execution_count": 57,
     "metadata": {},
     "output_type": "execute_result"
    }
   ],
   "source": [
    "a.shape # 1차원 자료 4개가 들어있다."
   ]
  },
  {
   "cell_type": "code",
   "execution_count": 60,
   "id": "a6f8b783-1e86-4ced-a6b6-b960a2b5fec6",
   "metadata": {},
   "outputs": [
    {
     "name": "stdout",
     "output_type": "stream",
     "text": [
      "(4,)\n",
      "4\n",
      "int32\n",
      "1\n"
     ]
    }
   ],
   "source": [
    "print(a.shape)\n",
    "print(a.size)\n",
    "print(a.dtype)\n",
    "print(a.ndim)"
   ]
  },
  {
   "cell_type": "code",
   "execution_count": 58,
   "id": "84345157-2c15-4f8a-9072-05cda90f5b51",
   "metadata": {},
   "outputs": [
    {
     "data": {
      "text/plain": [
       "array([0, 1, 2, 3])"
      ]
     },
     "execution_count": 58,
     "metadata": {},
     "output_type": "execute_result"
    }
   ],
   "source": [
    "li = [0,1,2,3]\n",
    "np.array(li)"
   ]
  },
  {
   "cell_type": "code",
   "execution_count": 63,
   "id": "facf5ec0-75c2-46e5-9cd5-37487fa069ce",
   "metadata": {},
   "outputs": [
    {
     "data": {
      "text/plain": [
       "dtype('float64')"
      ]
     },
     "execution_count": 63,
     "metadata": {},
     "output_type": "execute_result"
    }
   ],
   "source": [
    "a = np.array([0,1,2,3,4.3])\n",
    "a.dtype"
   ]
  },
  {
   "cell_type": "code",
   "execution_count": 64,
   "id": "e041c623-1772-406c-b4da-84b8f9e197ba",
   "metadata": {},
   "outputs": [
    {
     "data": {
      "text/plain": [
       "dtype('int32')"
      ]
     },
     "execution_count": 64,
     "metadata": {},
     "output_type": "execute_result"
    }
   ],
   "source": [
    "a = np.array([0,1,2,3,4.3], dtype='int')\n",
    "a.dtype"
   ]
  },
  {
   "cell_type": "code",
   "execution_count": 65,
   "id": "1ea742da-89ec-4a3e-a97b-9ec78ecdac10",
   "metadata": {},
   "outputs": [
    {
     "data": {
      "text/plain": [
       "array([0, 1, 2, 3, 4])"
      ]
     },
     "execution_count": 65,
     "metadata": {},
     "output_type": "execute_result"
    }
   ],
   "source": [
    "a"
   ]
  },
  {
   "cell_type": "markdown",
   "id": "aae14875-8e47-4fe0-a840-02ee591aa05f",
   "metadata": {},
   "source": [
    "강제로 int라고 타입을 정해줬기 때문에 소수였던 4.3은 열어보면 4로 바뀜."
   ]
  },
  {
   "cell_type": "code",
   "execution_count": 67,
   "id": "1f80dacb-0dda-4ce5-bdfc-b25d7ab4908d",
   "metadata": {},
   "outputs": [
    {
     "data": {
      "text/plain": [
       "array([0. , 1. , 2. , 3. , 4.3])"
      ]
     },
     "execution_count": 67,
     "metadata": {},
     "output_type": "execute_result"
    }
   ],
   "source": [
    "a = np.array([0,1,2,3,4.3], dtype='float')\n",
    "a"
   ]
  },
  {
   "cell_type": "markdown",
   "id": "88ca6cbc-0f66-4456-ab93-e39ee5928e95",
   "metadata": {},
   "source": [
    "소수로 바뀌어있다."
   ]
  },
  {
   "cell_type": "code",
   "execution_count": 70,
   "id": "dbe17fe5-e9e9-4ef4-bd81-650db3068993",
   "metadata": {},
   "outputs": [
    {
     "data": {
      "text/plain": [
       "dtype('float64')"
      ]
     },
     "execution_count": 70,
     "metadata": {},
     "output_type": "execute_result"
    }
   ],
   "source": [
    "a.dtype"
   ]
  },
  {
   "cell_type": "code",
   "execution_count": 72,
   "id": "9c6f7776-e965-4200-b12a-2ddf0abfe400",
   "metadata": {},
   "outputs": [
    {
     "data": {
      "text/plain": [
       "array([0. , 1. , 2. , 3. , 4.3], dtype=float32)"
      ]
     },
     "execution_count": 72,
     "metadata": {},
     "output_type": "execute_result"
    }
   ],
   "source": [
    "a = np.array([0,1,2,3,4.3], dtype='float32')\n",
    "a"
   ]
  },
  {
   "cell_type": "markdown",
   "id": "60ef0500-84db-4e38-a8a1-2ff77eb7ff98",
   "metadata": {},
   "source": [
    "float64 였는데 float32로 강제로 바꿔주니 바뀌었다."
   ]
  },
  {
   "cell_type": "code",
   "execution_count": 73,
   "id": "9e4fd144-dda7-4445-bda5-c44d1224f013",
   "metadata": {},
   "outputs": [
    {
     "data": {
      "text/plain": [
       "dtype('float16')"
      ]
     },
     "execution_count": 73,
     "metadata": {},
     "output_type": "execute_result"
    }
   ],
   "source": [
    "a = np.array([0,1,2,3,4.3], dtype='float16')\n",
    "a.dtype"
   ]
  },
  {
   "cell_type": "code",
   "execution_count": 74,
   "id": "defd55e9-6b98-46c9-9e77-c2dfa3e8f3a5",
   "metadata": {},
   "outputs": [
    {
     "data": {
      "text/plain": [
       "dtype('int16')"
      ]
     },
     "execution_count": 74,
     "metadata": {},
     "output_type": "execute_result"
    }
   ],
   "source": [
    "a = np.array([0,1,2,3,4.3], dtype='int16')\n",
    "a.dtype"
   ]
  },
  {
   "cell_type": "code",
   "execution_count": 111,
   "id": "4435e4a1-3e36-4e22-b507-07beb1a3a09d",
   "metadata": {},
   "outputs": [
    {
     "ename": "TypeError",
     "evalue": "Field elements must be 2- or 3-tuples, got '5'",
     "output_type": "error",
     "traceback": [
      "\u001b[1;31m---------------------------------------------------------------------------\u001b[0m",
      "\u001b[1;31mTypeError\u001b[0m                                 Traceback (most recent call last)",
      "Input \u001b[1;32mIn [111]\u001b[0m, in \u001b[0;36m<cell line: 1>\u001b[1;34m()\u001b[0m\n\u001b[1;32m----> 1\u001b[0m \u001b[43mnp\u001b[49m\u001b[38;5;241;43m.\u001b[39;49m\u001b[43marray\u001b[49m\u001b[43m(\u001b[49m\u001b[43m[\u001b[49m\u001b[38;5;241;43m1\u001b[39;49m\u001b[43m,\u001b[49m\u001b[38;5;241;43m2\u001b[39;49m\u001b[43m,\u001b[49m\u001b[38;5;241;43m3\u001b[39;49m\u001b[43m,\u001b[49m\u001b[38;5;241;43m4\u001b[39;49m\u001b[43m]\u001b[49m\u001b[43m,\u001b[49m\u001b[43m \u001b[49m\u001b[43m[\u001b[49m\u001b[38;5;241;43m5\u001b[39;49m\u001b[43m,\u001b[49m\u001b[38;5;241;43m6\u001b[39;49m\u001b[43m,\u001b[49m\u001b[38;5;241;43m7\u001b[39;49m\u001b[43m,\u001b[49m\u001b[38;5;241;43m8\u001b[39;49m\u001b[43m]\u001b[49m\u001b[43m)\u001b[49m\n",
      "\u001b[1;31mTypeError\u001b[0m: Field elements must be 2- or 3-tuples, got '5'"
     ]
    }
   ],
   "source": [
    "np.array([1,2,3,4], [5,6,7,8])"
   ]
  },
  {
   "cell_type": "markdown",
   "id": "3b6e2ff3-18f4-4397-9809-9bbe51030323",
   "metadata": {},
   "source": [
    "오류 뜨는 이유: 리스트끼리 또 묶어줘야 한다. (중첩리스트)"
   ]
  },
  {
   "cell_type": "code",
   "execution_count": 112,
   "id": "f5e11c49-bd16-4dea-bca1-26fb8261ca00",
   "metadata": {},
   "outputs": [
    {
     "data": {
      "text/plain": [
       "array([[1, 2, 3, 4],\n",
       "       [5, 6, 7, 8]])"
      ]
     },
     "execution_count": 112,
     "metadata": {},
     "output_type": "execute_result"
    }
   ],
   "source": [
    "np.array([[1,2,3,4], [5,6,7,8]])"
   ]
  },
  {
   "cell_type": "markdown",
   "id": "95026afa-6413-4106-9731-6057264f54d6",
   "metadata": {},
   "source": [
    "- 2차원 만들기"
   ]
  },
  {
   "cell_type": "code",
   "execution_count": 114,
   "id": "649c6b40-a5a7-4e36-b7bf-4e7112afe323",
   "metadata": {},
   "outputs": [
    {
     "data": {
      "text/plain": [
       "array([[0, 1, 2, 3, 4],\n",
       "       [5, 6, 7, 8, 9]])"
      ]
     },
     "execution_count": 114,
     "metadata": {},
     "output_type": "execute_result"
    }
   ],
   "source": [
    "np.arange(10).reshape((2,5))"
   ]
  },
  {
   "cell_type": "code",
   "execution_count": 115,
   "id": "0a1e871f-04da-4572-ab34-fb5e304daba5",
   "metadata": {},
   "outputs": [
    {
     "data": {
      "text/plain": [
       "array([[ 0,  1,  2,  3],\n",
       "       [ 4,  5,  6,  7],\n",
       "       [ 8,  9, 10, 11]])"
      ]
     },
     "execution_count": 115,
     "metadata": {},
     "output_type": "execute_result"
    }
   ],
   "source": [
    "np.arange(12).reshape(3,4)"
   ]
  },
  {
   "cell_type": "code",
   "execution_count": 116,
   "id": "1c38d5ed-2d60-470a-9cfc-788fd94ffc3a",
   "metadata": {},
   "outputs": [
    {
     "data": {
      "text/plain": [
       "array([[ 0,  1,  2,  3],\n",
       "       [ 4,  5,  6,  7],\n",
       "       [ 8,  9, 10, 11]])"
      ]
     },
     "execution_count": 116,
     "metadata": {},
     "output_type": "execute_result"
    }
   ],
   "source": [
    "np.arange(12).reshape(3,-1)    #-1뜻은 알아서 계산해줘 라는뜻"
   ]
  },
  {
   "cell_type": "code",
   "execution_count": 118,
   "id": "01a986c1-2045-4bd0-94e8-3d42abb19270",
   "metadata": {},
   "outputs": [
    {
     "data": {
      "text/plain": [
       "array([[[ 0,  1,  2,  3],\n",
       "        [ 4,  5,  6,  7],\n",
       "        [ 8,  9, 10, 11]],\n",
       "\n",
       "       [[12, 13, 14, 15],\n",
       "        [16, 17, 18, 19],\n",
       "        [20, 21, 22, 23]]])"
      ]
     },
     "execution_count": 118,
     "metadata": {},
     "output_type": "execute_result"
    }
   ],
   "source": [
    "np.arange(24).reshape(2,3,4)"
   ]
  },
  {
   "cell_type": "code",
   "execution_count": 119,
   "id": "5ce30aa9-791c-4cdd-938b-361af01302e0",
   "metadata": {},
   "outputs": [
    {
     "data": {
      "text/plain": [
       "array([[[ 0,  1],\n",
       "        [ 2,  3],\n",
       "        [ 4,  5],\n",
       "        [ 6,  7]],\n",
       "\n",
       "       [[ 8,  9],\n",
       "        [10, 11],\n",
       "        [12, 13],\n",
       "        [14, 15]],\n",
       "\n",
       "       [[16, 17],\n",
       "        [18, 19],\n",
       "        [20, 21],\n",
       "        [22, 23]]])"
      ]
     },
     "execution_count": 119,
     "metadata": {},
     "output_type": "execute_result"
    }
   ],
   "source": [
    "np.arange(24).reshape(3,4,2)"
   ]
  },
  {
   "cell_type": "code",
   "execution_count": 121,
   "id": "4cc45bd8-3b26-4d77-ada3-e9949247afbd",
   "metadata": {},
   "outputs": [
    {
     "data": {
      "text/plain": [
       "array([[[ 0,  1,  2],\n",
       "        [ 3,  4,  5],\n",
       "        [ 6,  7,  8],\n",
       "        [ 9, 10, 11]],\n",
       "\n",
       "       [[12, 13, 14],\n",
       "        [15, 16, 17],\n",
       "        [18, 19, 20],\n",
       "        [21, 22, 23]],\n",
       "\n",
       "       [[24, 25, 26],\n",
       "        [27, 28, 29],\n",
       "        [30, 31, 32],\n",
       "        [33, 34, 35]]])"
      ]
     },
     "execution_count": 121,
     "metadata": {},
     "output_type": "execute_result"
    }
   ],
   "source": [
    "np.arange(36).reshape(3,4,3)"
   ]
  },
  {
   "cell_type": "code",
   "execution_count": 124,
   "id": "a2812f03-9b7d-4c4e-bd13-13c5daccc1e8",
   "metadata": {},
   "outputs": [
    {
     "name": "stdout",
     "output_type": "stream",
     "text": [
      "[[1 2]\n",
      " [3 4]]\n",
      "[[5 6]\n",
      " [7 8]]\n"
     ]
    },
    {
     "data": {
      "text/plain": [
       "array([[ 6,  8],\n",
       "       [10, 12]])"
      ]
     },
     "execution_count": 124,
     "metadata": {},
     "output_type": "execute_result"
    }
   ],
   "source": [
    "a = np.array([[1,2],[3,4]])\n",
    "b = np.array([[5,6],[7,8]])\n",
    "print(a)\n",
    "print(b)\n",
    "a+b   # 끼리끼리 더해준다."
   ]
  },
  {
   "cell_type": "code",
   "execution_count": 126,
   "id": "5ea047ca-a13e-459e-9504-9297888b4679",
   "metadata": {},
   "outputs": [
    {
     "data": {
      "text/plain": [
       "array([[    1,    64],\n",
       "       [ 2187, 65536]])"
      ]
     },
     "execution_count": 126,
     "metadata": {},
     "output_type": "execute_result"
    }
   ],
   "source": [
    "a**b"
   ]
  },
  {
   "cell_type": "code",
   "execution_count": 128,
   "id": "dbfcfbc2-b966-4609-9aea-c9e7bb0d7ab7",
   "metadata": {},
   "outputs": [
    {
     "name": "stdout",
     "output_type": "stream",
     "text": [
      "[[1 2]\n",
      " [3 4]]\n"
     ]
    },
    {
     "data": {
      "text/plain": [
       "array([5, 6])"
      ]
     },
     "execution_count": 128,
     "metadata": {},
     "output_type": "execute_result"
    }
   ],
   "source": [
    "print(a)\n",
    "c = np.array([5,6])\n",
    "c   # 이거 2개를 더해주면?"
   ]
  },
  {
   "cell_type": "code",
   "execution_count": 129,
   "id": "b6a1ecb0-afd3-4555-b2a8-461f4ce0892d",
   "metadata": {},
   "outputs": [
    {
     "data": {
      "text/plain": [
       "array([[ 6,  8],\n",
       "       [ 8, 10]])"
      ]
     },
     "execution_count": 129,
     "metadata": {},
     "output_type": "execute_result"
    }
   ],
   "source": [
    "a + c"
   ]
  },
  {
   "cell_type": "code",
   "execution_count": 130,
   "id": "9fe15b68-41c6-473f-8e3e-1a129f865242",
   "metadata": {},
   "outputs": [
    {
     "data": {
      "text/plain": [
       "array([[6, 7],\n",
       "       [8, 9]])"
      ]
     },
     "execution_count": 130,
     "metadata": {},
     "output_type": "execute_result"
    }
   ],
   "source": [
    "c = np.array([5])\n",
    "a + c"
   ]
  },
  {
   "cell_type": "code",
   "execution_count": 131,
   "id": "4fa82c6d-a483-418e-92ea-fd1f1a9c4ed2",
   "metadata": {},
   "outputs": [
    {
     "data": {
      "text/plain": [
       "array([[6, 7],\n",
       "       [8, 9]])"
      ]
     },
     "execution_count": 131,
     "metadata": {},
     "output_type": "execute_result"
    }
   ],
   "source": [
    "a + 5"
   ]
  },
  {
   "cell_type": "code",
   "execution_count": 157,
   "id": "cd51ff01-ed7b-4f61-aed1-310b4096d64b",
   "metadata": {},
   "outputs": [
    {
     "name": "stdout",
     "output_type": "stream",
     "text": [
      "[20 21 22 23 24]\n"
     ]
    }
   ],
   "source": [
    "a = np.arange(25).reshape(5,5)\n",
    "print(a[4])"
   ]
  },
  {
   "cell_type": "code",
   "execution_count": 160,
   "id": "afab9b6f-c9cf-45a0-8831-333c50954a8e",
   "metadata": {},
   "outputs": [
    {
     "name": "stdout",
     "output_type": "stream",
     "text": [
      "[ 1  6 11 16 21] [ 3  8 13 18 23]\n"
     ]
    }
   ],
   "source": [
    "a = np.arange(25).reshape(5,5)\n",
    "print(a[:, 1],a[:, 3])"
   ]
  },
  {
   "cell_type": "code",
   "execution_count": 183,
   "id": "f1133605-3bd9-4275-acea-0ed8d0d4280f",
   "metadata": {},
   "outputs": [
    {
     "data": {
      "text/plain": [
       "array([[ 5,  7],\n",
       "       [15, 17]])"
      ]
     },
     "execution_count": 183,
     "metadata": {},
     "output_type": "execute_result"
    }
   ],
   "source": [
    "a = np.arange(25).reshape(5,5)\n",
    "a[1::2, 0:3:2]"
   ]
  },
  {
   "cell_type": "code",
   "execution_count": null,
   "id": "560eef32-585c-47fb-a7f3-e9e291457a5a",
   "metadata": {},
   "outputs": [],
   "source": []
  }
 ],
 "metadata": {
  "kernelspec": {
   "display_name": "Python 3 (ipykernel)",
   "language": "python",
   "name": "python3"
  },
  "language_info": {
   "codemirror_mode": {
    "name": "ipython",
    "version": 3
   },
   "file_extension": ".py",
   "mimetype": "text/x-python",
   "name": "python",
   "nbconvert_exporter": "python",
   "pygments_lexer": "ipython3",
   "version": "3.10.6"
  }
 },
 "nbformat": 4,
 "nbformat_minor": 5
}
