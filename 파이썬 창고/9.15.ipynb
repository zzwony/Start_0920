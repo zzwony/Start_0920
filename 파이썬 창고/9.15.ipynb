{
 "cells": [
  {
   "cell_type": "code",
   "execution_count": 9,
   "id": "4893c890-23e3-4465-b0cd-110954c3e3b6",
   "metadata": {},
   "outputs": [
    {
     "name": "stdout",
     "output_type": "stream",
     "text": [
      "#\n",
      "#\n",
      "9Ztc5H2\n",
      "Cuu4\n",
      "DA3\n",
      "#\n",
      "Y\n",
      "1gQ6vVDGpb\n",
      "#\n",
      "#\n",
      "#\n",
      "KLw3\n",
      "15r7\n",
      "986qY47d\n",
      "6ISE36dD\n",
      "a5l1f05t5\n",
      "CD\n",
      "#\n",
      "3\n",
      "3HM2ISa\n"
     ]
    }
   ],
   "source": [
    "import random\n",
    "import re\n",
    "\n",
    "words = []\n",
    "for count in range(20):\n",
    "    word = ''\n",
    "    length = random.randint(1,10)\n",
    "    while True:\n",
    "        prob = random.randint(1,3)\n",
    "        if prob == 1: word = word + chr(random.randint(65,90))\n",
    "        elif prob == 2: word = word + chr(random.randint(97,122))\n",
    "        else: word = word + str(random.randint(0,9))\n",
    "        if len(word) == length: break\n",
    "    words.append(word)\n",
    "words\n",
    "\n",
    "for i in words:\n",
    "    print(re.sub(\"^[A-z].+[A-z]$\", \"#\", i))"
   ]
  },
  {
   "cell_type": "code",
   "execution_count": 10,
   "id": "e6f502e9-5d3e-47f7-aff4-81cec738bd65",
   "metadata": {},
   "outputs": [
    {
     "name": "stdout",
     "output_type": "stream",
     "text": [
      "#\n",
      "#\n",
      "9Ztc5H2\n",
      "Cuu4\n",
      "DA3\n",
      "#\n",
      "Y\n",
      "1gQ6vVDGpb\n",
      "#\n",
      "#\n",
      "#\n",
      "KLw3\n",
      "15r7\n",
      "986qY47d\n",
      "6ISE36dD\n",
      "a5l1f05t5\n",
      "CD\n",
      "#\n",
      "3\n",
      "3HM2ISa\n"
     ]
    }
   ],
   "source": [
    "for i in words:\n",
    "    print(re.sub(\"^[A-z].+[A-z]$\", \"#\", i))"
   ]
  },
  {
   "cell_type": "code",
   "execution_count": 17,
   "id": "b1225621-3bcb-43ac-9d41-6807800629e6",
   "metadata": {},
   "outputs": [
    {
     "data": {
      "text/plain": [
       "re.Pattern"
      ]
     },
     "execution_count": 17,
     "metadata": {},
     "output_type": "execute_result"
    }
   ],
   "source": [
    "p = re.compile(\"^[A-z].+[A-z]$\") # 패턴만 따로 빼왔다.\n",
    "type(p)"
   ]
  },
  {
   "cell_type": "markdown",
   "id": "52e2d710-9b1f-4787-84f4-c0793f7b5bb4",
   "metadata": {},
   "source": [
    "```\n",
    "이 3가지는 같은 방법이다.\n",
    "보통은 2번째 줄을 사용하는것을 권장한다.\n",
    "\n",
    "p = re.compile(\"^[A-z].+[A-z]$\")\n",
    "p. sub('#', string)\n",
    "re.sub(\"^[A-z].+[A-z]$\", '#', string)\n",
    "```"
   ]
  },
  {
   "cell_type": "markdown",
   "id": "91e67789-f7d5-4c8d-a906-6beb5597ee66",
   "metadata": {},
   "source": [
    "- re의 메소드"
   ]
  },
  {
   "cell_type": "code",
   "execution_count": 19,
   "id": "656bea37-e16d-40c1-9130-d4854bb63777",
   "metadata": {},
   "outputs": [],
   "source": [
    "p = re.compile(\"[a-z]+\")"
   ]
  },
  {
   "cell_type": "code",
   "execution_count": 23,
   "id": "55434ec0-8c41-4fd1-a7d2-4742ef338339",
   "metadata": {},
   "outputs": [
    {
     "data": {
      "text/plain": [
       "<re.Match object; span=(0, 6), match='python'>"
      ]
     },
     "execution_count": 23,
     "metadata": {},
     "output_type": "execute_result"
    }
   ],
   "source": [
    "p.match(\"python\")   #span은 길이를 나타낸다."
   ]
  },
  {
   "cell_type": "code",
   "execution_count": 22,
   "id": "820c8906-5111-4936-959b-181d4128e6e3",
   "metadata": {},
   "outputs": [
    {
     "data": {
      "text/plain": [
       "<re.Match object; span=(0, 6), match='python'>"
      ]
     },
     "execution_count": 22,
     "metadata": {},
     "output_type": "execute_result"
    }
   ],
   "source": [
    "re.match(\"[a-z]+\", \"python\")"
   ]
  },
  {
   "cell_type": "markdown",
   "id": "3f13ebb1-d728-41ae-b4b3-53e95d6f8336",
   "metadata": {},
   "source": [
    "맨 위 2줄과 위에 한 줄은 같은 거."
   ]
  },
  {
   "cell_type": "code",
   "execution_count": 24,
   "id": "0aa67fae-107b-4c4f-bf3f-b55a68d5fcfa",
   "metadata": {},
   "outputs": [
    {
     "data": {
      "text/plain": [
       "<re.Match object; span=(0, 6), match='python'>"
      ]
     },
     "execution_count": 24,
     "metadata": {},
     "output_type": "execute_result"
    }
   ],
   "source": [
    "p.match(\"python\")"
   ]
  },
  {
   "cell_type": "code",
   "execution_count": 26,
   "id": "a3ded178-4360-4813-8c49-9fb5d0d3f731",
   "metadata": {},
   "outputs": [
    {
     "data": {
      "text/plain": [
       "<re.Match object; span=(0, 6), match='python'>"
      ]
     },
     "execution_count": 26,
     "metadata": {},
     "output_type": "execute_result"
    }
   ],
   "source": [
    "p.match(\"pythonPYTHON1234\")"
   ]
  },
  {
   "cell_type": "code",
   "execution_count": 27,
   "id": "f59db20a-f423-4f6b-83fa-f475765a950d",
   "metadata": {},
   "outputs": [],
   "source": [
    "p.match(\"PYTHONpython1234\")"
   ]
  },
  {
   "cell_type": "markdown",
   "id": "434c546c-2dad-4b74-9f98-69122284cdca",
   "metadata": {},
   "source": [
    "위에는 span이 나타나지만 밑에는 오류도 안뜨고 나타나지도 않는다.\n",
    "\n",
    "이유는 '문자열의 처음부터'라는 조건이 있었는데\n",
    "맨 앞에 처음부터 없었기 때문에 출력되지 않았던 것이다."
   ]
  },
  {
   "cell_type": "code",
   "execution_count": 32,
   "id": "7186a692-e105-4915-93d9-8a2faac357cf",
   "metadata": {},
   "outputs": [
    {
     "data": {
      "text/plain": [
       "<re.Match object; span=(0, 6), match='python'>"
      ]
     },
     "execution_count": 32,
     "metadata": {},
     "output_type": "execute_result"
    }
   ],
   "source": [
    "p.search(\"pythonPYTHON1234, PYTHONpython1234\")"
   ]
  },
  {
   "cell_type": "code",
   "execution_count": 33,
   "id": "fb4ca2cf-35d0-42da-939b-4e24bd8d99f3",
   "metadata": {},
   "outputs": [
    {
     "data": {
      "text/plain": [
       "<re.Match object; span=(6, 12), match='python'>"
      ]
     },
     "execution_count": 33,
     "metadata": {},
     "output_type": "execute_result"
    }
   ],
   "source": [
    "p.search(\"PYTHONpython1234    pythonPYTHON1234\")"
   ]
  },
  {
   "cell_type": "code",
   "execution_count": 34,
   "id": "083b593f-4414-4cdf-ab6e-ed8c4cfa351f",
   "metadata": {},
   "outputs": [
    {
     "data": {
      "text/plain": [
       "['python', 'python']"
      ]
     },
     "execution_count": 34,
     "metadata": {},
     "output_type": "execute_result"
    }
   ],
   "source": [
    "p.findall(\"PYTHONpython1234    pythonPYTHON1234\")"
   ]
  },
  {
   "cell_type": "markdown",
   "id": "3767a63d-a3b4-4de1-ba8e-12c92799e0e9",
   "metadata": {},
   "source": [
    "search는 인덱스 번호를 줬었는데\n",
    "\n",
    "findall은 바로 보여준다.(단점은 위치를 알 수 없다.)"
   ]
  },
  {
   "cell_type": "code",
   "execution_count": 36,
   "id": "3467d5d8-9e87-4130-a2e2-27d0b47120ee",
   "metadata": {},
   "outputs": [
    {
     "name": "stdout",
     "output_type": "stream",
     "text": [
      "<re.Match object; span=(6, 12), match='python'>\n",
      "<re.Match object; span=(20, 26), match='python'>\n"
     ]
    }
   ],
   "source": [
    "for i in p.finditer(\"PYTHONpython1234    pythonPYTHON1234\"):\n",
    "    print(i)"
   ]
  },
  {
   "cell_type": "code",
   "execution_count": 37,
   "id": "6ff1a61f-36b9-45b8-9043-d52692294491",
   "metadata": {},
   "outputs": [
    {
     "data": {
      "text/plain": [
       "<re.Match object; span=(0, 6), match='python'>"
      ]
     },
     "execution_count": 37,
     "metadata": {},
     "output_type": "execute_result"
    }
   ],
   "source": [
    "p.match(\"pythonPYTHON1234 PYTHONpython1234\")"
   ]
  },
  {
   "cell_type": "code",
   "execution_count": 38,
   "id": "010944ab-2e25-4104-b3f7-d344f1c73a00",
   "metadata": {
    "tags": []
   },
   "outputs": [
    {
     "data": {
      "text/plain": [
       "'python'"
      ]
     },
     "execution_count": 38,
     "metadata": {},
     "output_type": "execute_result"
    }
   ],
   "source": [
    "p.match(\"pythonPYTHON1234 PYTHONpython1234\").group()"
   ]
  },
  {
   "cell_type": "code",
   "execution_count": 41,
   "id": "f6d1f98c-8229-49e8-a4a8-584bc1f8051d",
   "metadata": {},
   "outputs": [
    {
     "data": {
      "text/plain": [
       "(0, 6)"
      ]
     },
     "execution_count": 41,
     "metadata": {},
     "output_type": "execute_result"
    }
   ],
   "source": [
    "p.match(\"pythonPYTHON1234 PYTHONpython1234\").span()"
   ]
  },
  {
   "cell_type": "markdown",
   "id": "64c78082-f925-4fd1-9f5e-0b6389abe799",
   "metadata": {},
   "source": [
    "group을 하면 찾아서 보여준다.\n",
    "\n",
    "span은 인덱스를 보여준다."
   ]
  },
  {
   "cell_type": "code",
   "execution_count": 39,
   "id": "83ea1343-db23-4f55-a163-9af03a66e68d",
   "metadata": {},
   "outputs": [
    {
     "data": {
      "text/plain": [
       "0"
      ]
     },
     "execution_count": 39,
     "metadata": {},
     "output_type": "execute_result"
    }
   ],
   "source": [
    "p.match(\"pythonPYTHON1234 PYTHONpython1234\").start()"
   ]
  },
  {
   "cell_type": "code",
   "execution_count": 40,
   "id": "ba1a3614-8488-49d1-9eb6-656327ec1f6f",
   "metadata": {},
   "outputs": [
    {
     "data": {
      "text/plain": [
       "6"
      ]
     },
     "execution_count": 40,
     "metadata": {},
     "output_type": "execute_result"
    }
   ],
   "source": [
    "p.match(\"pythonPYTHON1234 PYTHONpython1234\").end()"
   ]
  },
  {
   "cell_type": "markdown",
   "id": "c42f9e6a-a553-491f-81c4-2cf61877bf8a",
   "metadata": {},
   "source": [
    "- 전화번호 골라내기"
   ]
  },
  {
   "cell_type": "code",
   "execution_count": 53,
   "id": "af6bdfd0-88ab-4fea-84a8-821b94ea1f0b",
   "metadata": {},
   "outputs": [
    {
     "name": "stdout",
     "output_type": "stream",
     "text": [
      "<re.Match object; span=(0, 13), match='010-1234-5678'>\n",
      "<re.Match object; span=(0, 13), match='010-1234-5679'>\n",
      "<re.Match object; span=(0, 13), match='010-1234-5670'>\n",
      "None\n",
      "None\n"
     ]
    }
   ],
   "source": [
    "data = [\"010-1234-5678\", \"010-1234-5679\", \"010-1234-5670\", \n",
    "        \"010-1234-670\", \"02-334-2243\"]\n",
    "\n",
    "for i in data:\n",
    "    print(re.search(\"010-\\d{4}-\\d{4}\", i))"
   ]
  },
  {
   "cell_type": "code",
   "execution_count": 54,
   "id": "551812e8-0d51-40dd-b458-031e395e2954",
   "metadata": {},
   "outputs": [
    {
     "name": "stdout",
     "output_type": "stream",
     "text": [
      "010-1234-5678\n",
      "010-1234-5679\n",
      "010-1234-5670\n"
     ]
    },
    {
     "ename": "AttributeError",
     "evalue": "'NoneType' object has no attribute 'group'",
     "output_type": "error",
     "traceback": [
      "\u001b[1;31m---------------------------------------------------------------------------\u001b[0m",
      "\u001b[1;31mAttributeError\u001b[0m                            Traceback (most recent call last)",
      "Input \u001b[1;32mIn [54]\u001b[0m, in \u001b[0;36m<cell line: 4>\u001b[1;34m()\u001b[0m\n\u001b[0;32m      1\u001b[0m data \u001b[38;5;241m=\u001b[39m [\u001b[38;5;124m\"\u001b[39m\u001b[38;5;124m010-1234-5678\u001b[39m\u001b[38;5;124m\"\u001b[39m, \u001b[38;5;124m\"\u001b[39m\u001b[38;5;124m010-1234-5679\u001b[39m\u001b[38;5;124m\"\u001b[39m, \u001b[38;5;124m\"\u001b[39m\u001b[38;5;124m010-1234-5670\u001b[39m\u001b[38;5;124m\"\u001b[39m, \n\u001b[0;32m      2\u001b[0m         \u001b[38;5;124m\"\u001b[39m\u001b[38;5;124m010-1234-670\u001b[39m\u001b[38;5;124m\"\u001b[39m, \u001b[38;5;124m\"\u001b[39m\u001b[38;5;124m02-334-2243\u001b[39m\u001b[38;5;124m\"\u001b[39m]\n\u001b[0;32m      4\u001b[0m \u001b[38;5;28;01mfor\u001b[39;00m i \u001b[38;5;129;01min\u001b[39;00m data:\n\u001b[1;32m----> 5\u001b[0m     \u001b[38;5;28mprint\u001b[39m(\u001b[43mre\u001b[49m\u001b[38;5;241;43m.\u001b[39;49m\u001b[43msearch\u001b[49m\u001b[43m(\u001b[49m\u001b[38;5;124;43m\"\u001b[39;49m\u001b[38;5;124;43m010-\u001b[39;49m\u001b[38;5;124;43m\\\u001b[39;49m\u001b[38;5;124;43md\u001b[39;49m\u001b[38;5;132;43;01m{4}\u001b[39;49;00m\u001b[38;5;124;43m-\u001b[39;49m\u001b[38;5;124;43m\\\u001b[39;49m\u001b[38;5;124;43md\u001b[39;49m\u001b[38;5;132;43;01m{4}\u001b[39;49;00m\u001b[38;5;124;43m\"\u001b[39;49m\u001b[43m,\u001b[49m\u001b[43m \u001b[49m\u001b[43mi\u001b[49m\u001b[43m)\u001b[49m\u001b[38;5;241;43m.\u001b[39;49m\u001b[43mgroup\u001b[49m())\n",
      "\u001b[1;31mAttributeError\u001b[0m: 'NoneType' object has no attribute 'group'"
     ]
    }
   ],
   "source": [
    "data = [\"010-1234-5678\", \"010-1234-5679\", \"010-1234-5670\", \n",
    "        \"010-1234-670\", \"02-334-2243\"]\n",
    "\n",
    "for i in data:\n",
    "    print(re.search(\"010-\\d{4}-\\d{4}\", i).group())"
   ]
  },
  {
   "cell_type": "code",
   "execution_count": 56,
   "id": "dc5ea1d7-16ba-4eda-8100-212ea933eb1c",
   "metadata": {},
   "outputs": [
    {
     "data": {
      "text/plain": [
       "['010-1234-5678', '010-1234-5679', '010-1234-5670']"
      ]
     },
     "execution_count": 56,
     "metadata": {},
     "output_type": "execute_result"
    }
   ],
   "source": [
    "def is_phone_number(data):\n",
    "    phone_number = []\n",
    "    for i in data:\n",
    "        if re.search(\"010-\\d{4}-\\d{4}\", i):\n",
    "            phone_number.append(i)\n",
    "    return phone_number\n",
    "\n",
    "is_phone_number(data)"
   ]
  },
  {
   "cell_type": "code",
   "execution_count": 92,
   "id": "7486b151-a3fa-4cd4-8719-f12b0c683a89",
   "metadata": {},
   "outputs": [
    {
     "data": {
      "text/plain": [
       "['010-1234-5678', '010-1234-5679', '010-1234-5670']"
      ]
     },
     "execution_count": 92,
     "metadata": {},
     "output_type": "execute_result"
    }
   ],
   "source": [
    "data = '010-1234-5678, 010-1234-5679, 010-1234-5670, 010-1234-670, 02-334-2243'\n",
    "\n",
    "#finditer를 사용하여..\n",
    "def is_phone_number(data):\n",
    "    phone_number = []\n",
    "    \n",
    "    for i in re.finditer('010-\\d{4}-\\d{4}', data):\n",
    "        phone_number.append(i.group())\n",
    "    return phone_number\n",
    "\n",
    "is_phone_number(data)"
   ]
  },
  {
   "cell_type": "code",
   "execution_count": 87,
   "id": "0dae3af7-a76a-40ba-903c-6e13aab2ea90",
   "metadata": {},
   "outputs": [
    {
     "data": {
      "text/plain": [
       "['010-1234-5678', '010-1234-5679', '010-1234-5670']"
      ]
     },
     "execution_count": 87,
     "metadata": {},
     "output_type": "execute_result"
    }
   ],
   "source": [
    "# findall\n",
    "\n",
    "re.findall('010-\\d{4}-\\d{4}', data)   # 똑같이 나오는걸 볼 수 있다."
   ]
  },
  {
   "cell_type": "code",
   "execution_count": 90,
   "id": "eb2b27b0-71bd-48cf-a831-289347d34118",
   "metadata": {},
   "outputs": [
    {
     "name": "stdout",
     "output_type": "stream",
     "text": [
      "(2, 5)\n",
      "(19, 22)\n",
      "(38, 41)\n",
      "(45, 48)\n"
     ]
    }
   ],
   "source": [
    "msg = \"안녕하세요. 제 소개부터 드리도록 하지요. 저는 의미있는 일을 하고 싶어요. 건강하세요.\"\n",
    "# finditer를 사용하여 하세요, 하지요, 싶어요 의 span()을 출력해보기.\n",
    "\n",
    "for i in re.finditer('하세요|하지요|싶어요', msg):\n",
    "    print(i.span())"
   ]
  },
  {
   "cell_type": "markdown",
   "id": "a050a45c-d052-4d0b-a891-45ef2b61a615",
   "metadata": {},
   "source": [
    "- group"
   ]
  },
  {
   "cell_type": "code",
   "execution_count": 96,
   "id": "1c81cf37-6b57-42a3-a92e-8d5713bca358",
   "metadata": {},
   "outputs": [],
   "source": [
    "sentence = \"park 010-1234-1234\"\n",
    "p = re.compile(r'(\\w+)\\s((\\d+)[-]\\d+[-]\\d+)')"
   ]
  },
  {
   "cell_type": "code",
   "execution_count": 97,
   "id": "54b16799-abd0-467f-a1bb-58c3b9c2a9f7",
   "metadata": {},
   "outputs": [
    {
     "data": {
      "text/plain": [
       "<re.Match object; span=(0, 18), match='park 010-1234-1234'>"
      ]
     },
     "execution_count": 97,
     "metadata": {},
     "output_type": "execute_result"
    }
   ],
   "source": [
    "p.search(sentence)"
   ]
  },
  {
   "cell_type": "code",
   "execution_count": 98,
   "id": "370c7437-fa94-4c85-bbd9-b8ef1580e180",
   "metadata": {},
   "outputs": [
    {
     "data": {
      "text/plain": [
       "'park'"
      ]
     },
     "execution_count": 98,
     "metadata": {},
     "output_type": "execute_result"
    }
   ],
   "source": [
    "p.search(sentence).group(1)"
   ]
  },
  {
   "cell_type": "code",
   "execution_count": 100,
   "id": "c6326ef3-ec8a-4cee-8733-8ceb5cec3fd1",
   "metadata": {},
   "outputs": [
    {
     "name": "stdout",
     "output_type": "stream",
     "text": [
      "010-1234-1234 park\n"
     ]
    }
   ],
   "source": [
    "print(p.search(sentence).group(2), p.search(sentence).group(1))"
   ]
  },
  {
   "cell_type": "code",
   "execution_count": 111,
   "id": "2b26fa2d-360c-4320-97d2-354dba89bdae",
   "metadata": {},
   "outputs": [],
   "source": [
    "sentence = \"park 010-1234-1234 kim\"\n",
    "p = re.compile(r'(\\w+)\\s((\\d+)[-]\\d+[-]\\d+)')"
   ]
  },
  {
   "cell_type": "code",
   "execution_count": 112,
   "id": "449a1330-8612-4614-bde7-745fe526025b",
   "metadata": {},
   "outputs": [
    {
     "data": {
      "text/plain": [
       "'park 010-1234-1234'"
      ]
     },
     "execution_count": 112,
     "metadata": {},
     "output_type": "execute_result"
    }
   ],
   "source": [
    "p.search(sentence).group(0)"
   ]
  },
  {
   "cell_type": "code",
   "execution_count": 106,
   "id": "18e0ee97-2279-45cd-a8b3-629a07f0baa1",
   "metadata": {
    "tags": []
   },
   "outputs": [],
   "source": [
    "sentence = \"park 010-1234-1234\"\n",
    "p = re.compile(r'(?P<family>\\w+)\\s((?P<phone_first>\\d+)[-]\\d+[-]\\d+)')"
   ]
  },
  {
   "cell_type": "code",
   "execution_count": 105,
   "id": "40e53455-218a-4ab9-be50-e96b3b75cc6f",
   "metadata": {},
   "outputs": [
    {
     "data": {
      "text/plain": [
       "'park'"
      ]
     },
     "execution_count": 105,
     "metadata": {},
     "output_type": "execute_result"
    }
   ],
   "source": [
    "p.search(sentence).group(\"family\")"
   ]
  },
  {
   "cell_type": "code",
   "execution_count": 107,
   "id": "79bd66f9-bff6-470f-b662-6bdd359860ff",
   "metadata": {},
   "outputs": [
    {
     "data": {
      "text/plain": [
       "'010'"
      ]
     },
     "execution_count": 107,
     "metadata": {},
     "output_type": "execute_result"
    }
   ],
   "source": [
    "p.search(sentence).group(\"phone_first\")"
   ]
  },
  {
   "cell_type": "code",
   "execution_count": 119,
   "id": "362c15f8-9a0a-426b-92ef-d2b6c858e2c2",
   "metadata": {},
   "outputs": [],
   "source": [
    "sentence = \"park 010-1234-1234 kim\"\n",
    "p = re.compile(r'(?P<family>\\w+)\\s((?P<phone_first>\\d+)[-]\\d+[-]\\d+)')"
   ]
  },
  {
   "cell_type": "code",
   "execution_count": 120,
   "id": "150b0a93-a59d-4f8d-83b9-90b0d8b59448",
   "metadata": {},
   "outputs": [
    {
     "data": {
      "text/plain": [
       "'park'"
      ]
     },
     "execution_count": 120,
     "metadata": {},
     "output_type": "execute_result"
    }
   ],
   "source": [
    "p.search(sentence).group(\"family\")"
   ]
  },
  {
   "cell_type": "code",
   "execution_count": 121,
   "id": "61e73475-9cd6-42a8-bf69-b30e920280a0",
   "metadata": {
    "collapsed": true,
    "jupyter": {
     "outputs_hidden": true
    },
    "tags": []
   },
   "outputs": [
    {
     "name": "stdout",
     "output_type": "stream",
     "text": [
      "Support for regular expressions (RE).\n",
      "\n",
      "This module provides regular expression matching operations similar to\n",
      "those found in Perl.  It supports both 8-bit and Unicode strings; both\n",
      "the pattern and the strings being processed can contain null bytes and\n",
      "characters outside the US ASCII range.\n",
      "\n",
      "Regular expressions can contain both special and ordinary characters.\n",
      "Most ordinary characters, like \"A\", \"a\", or \"0\", are the simplest\n",
      "regular expressions; they simply match themselves.  You can\n",
      "concatenate ordinary characters, so last matches the string 'last'.\n",
      "\n",
      "The special characters are:\n",
      "    \".\"      Matches any character except a newline.\n",
      "    \"^\"      Matches the start of the string.\n",
      "    \"$\"      Matches the end of the string or just before the newline at\n",
      "             the end of the string.\n",
      "    \"*\"      Matches 0 or more (greedy) repetitions of the preceding RE.\n",
      "             Greedy means that it will match as many repetitions as possible.\n",
      "    \"+\"      Matches 1 or more (greedy) repetitions of the preceding RE.\n",
      "    \"?\"      Matches 0 or 1 (greedy) of the preceding RE.\n",
      "    *?,+?,?? Non-greedy versions of the previous three special characters.\n",
      "    {m,n}    Matches from m to n repetitions of the preceding RE.\n",
      "    {m,n}?   Non-greedy version of the above.\n",
      "    \"\\\\\"     Either escapes special characters or signals a special sequence.\n",
      "    []       Indicates a set of characters.\n",
      "             A \"^\" as the first character indicates a complementing set.\n",
      "    \"|\"      A|B, creates an RE that will match either A or B.\n",
      "    (...)    Matches the RE inside the parentheses.\n",
      "             The contents can be retrieved or matched later in the string.\n",
      "    (?aiLmsux) The letters set the corresponding flags defined below.\n",
      "    (?:...)  Non-grouping version of regular parentheses.\n",
      "    (?P<name>...) The substring matched by the group is accessible by name.\n",
      "    (?P=name)     Matches the text matched earlier by the group named name.\n",
      "    (?#...)  A comment; ignored.\n",
      "    (?=...)  Matches if ... matches next, but doesn't consume the string.\n",
      "    (?!...)  Matches if ... doesn't match next.\n",
      "    (?<=...) Matches if preceded by ... (must be fixed length).\n",
      "    (?<!...) Matches if not preceded by ... (must be fixed length).\n",
      "    (?(id/name)yes|no) Matches yes pattern if the group with id/name matched,\n",
      "                       the (optional) no pattern otherwise.\n",
      "\n",
      "The special sequences consist of \"\\\\\" and a character from the list\n",
      "below.  If the ordinary character is not on the list, then the\n",
      "resulting RE will match the second character.\n",
      "    \\number  Matches the contents of the group of the same number.\n",
      "    \\A       Matches only at the start of the string.\n",
      "    \\Z       Matches only at the end of the string.\n",
      "    \\b       Matches the empty string, but only at the start or end of a word.\n",
      "    \\B       Matches the empty string, but not at the start or end of a word.\n",
      "    \\d       Matches any decimal digit; equivalent to the set [0-9] in\n",
      "             bytes patterns or string patterns with the ASCII flag.\n",
      "             In string patterns without the ASCII flag, it will match the whole\n",
      "             range of Unicode digits.\n",
      "    \\D       Matches any non-digit character; equivalent to [^\\d].\n",
      "    \\s       Matches any whitespace character; equivalent to [ \\t\\n\\r\\f\\v] in\n",
      "             bytes patterns or string patterns with the ASCII flag.\n",
      "             In string patterns without the ASCII flag, it will match the whole\n",
      "             range of Unicode whitespace characters.\n",
      "    \\S       Matches any non-whitespace character; equivalent to [^\\s].\n",
      "    \\w       Matches any alphanumeric character; equivalent to [a-zA-Z0-9_]\n",
      "             in bytes patterns or string patterns with the ASCII flag.\n",
      "             In string patterns without the ASCII flag, it will match the\n",
      "             range of Unicode alphanumeric characters (letters plus digits\n",
      "             plus underscore).\n",
      "             With LOCALE, it will match the set [0-9_] plus characters defined\n",
      "             as letters for the current locale.\n",
      "    \\W       Matches the complement of \\w.\n",
      "    \\\\       Matches a literal backslash.\n",
      "\n",
      "This module exports the following functions:\n",
      "    match     Match a regular expression pattern to the beginning of a string.\n",
      "    fullmatch Match a regular expression pattern to all of a string.\n",
      "    search    Search a string for the presence of a pattern.\n",
      "    sub       Substitute occurrences of a pattern found in a string.\n",
      "    subn      Same as sub, but also return the number of substitutions made.\n",
      "    split     Split a string by the occurrences of a pattern.\n",
      "    findall   Find all occurrences of a pattern in a string.\n",
      "    finditer  Return an iterator yielding a Match object for each match.\n",
      "    compile   Compile a pattern into a Pattern object.\n",
      "    purge     Clear the regular expression cache.\n",
      "    escape    Backslash all non-alphanumerics in a string.\n",
      "\n",
      "Each function other than purge and escape can take an optional 'flags' argument\n",
      "consisting of one or more of the following module constants, joined by \"|\".\n",
      "A, L, and U are mutually exclusive.\n",
      "    A  ASCII       For string patterns, make \\w, \\W, \\b, \\B, \\d, \\D\n",
      "                   match the corresponding ASCII character categories\n",
      "                   (rather than the whole Unicode categories, which is the\n",
      "                   default).\n",
      "                   For bytes patterns, this flag is the only available\n",
      "                   behaviour and needn't be specified.\n",
      "    I  IGNORECASE  Perform case-insensitive matching.\n",
      "    L  LOCALE      Make \\w, \\W, \\b, \\B, dependent on the current locale.\n",
      "    M  MULTILINE   \"^\" matches the beginning of lines (after a newline)\n",
      "                   as well as the string.\n",
      "                   \"$\" matches the end of lines (before a newline) as well\n",
      "                   as the end of the string.\n",
      "    S  DOTALL      \".\" matches any character at all, including the newline.\n",
      "    X  VERBOSE     Ignore whitespace and comments for nicer looking RE's.\n",
      "    U  UNICODE     For compatibility only. Ignored for string patterns (it\n",
      "                   is the default), and forbidden for bytes patterns.\n",
      "\n",
      "This module also defines an exception 'error'.\n",
      "\n",
      "\n"
     ]
    }
   ],
   "source": [
    "print(re.__doc__)"
   ]
  },
  {
   "cell_type": "code",
   "execution_count": 122,
   "id": "1d57ee3d-7cd2-44ea-a355-1d8c08515238",
   "metadata": {},
   "outputs": [],
   "source": [
    "p = re.compile(\".+:\")\n",
    "m = p.search(\"http://google.com\")"
   ]
  },
  {
   "cell_type": "code",
   "execution_count": 123,
   "id": "d485b508-df57-49af-aac4-df3cdd4f33cc",
   "metadata": {},
   "outputs": [
    {
     "data": {
      "text/plain": [
       "(0, 5)"
      ]
     },
     "execution_count": 123,
     "metadata": {},
     "output_type": "execute_result"
    }
   ],
   "source": [
    "m.span()"
   ]
  },
  {
   "cell_type": "code",
   "execution_count": 124,
   "id": "12278fbe-d0d0-4ceb-9082-08864a810f32",
   "metadata": {},
   "outputs": [
    {
     "data": {
      "text/plain": [
       "'http:'"
      ]
     },
     "execution_count": 124,
     "metadata": {},
     "output_type": "execute_result"
    }
   ],
   "source": [
    "m.group()"
   ]
  },
  {
   "cell_type": "code",
   "execution_count": 127,
   "id": "3d98609c-e96d-467f-8462-cf90bdd79fcd",
   "metadata": {},
   "outputs": [
    {
     "data": {
      "text/plain": [
       "'http'"
      ]
     },
     "execution_count": 127,
     "metadata": {},
     "output_type": "execute_result"
    }
   ],
   "source": [
    "p = re.compile(\".+(?=:)\")   # 전방 탐색을 했다.(:는 출력물에서 제외시킴)\n",
    "m = p.search(\"http://google.com\")\n",
    "m.group()"
   ]
  },
  {
   "cell_type": "code",
   "execution_count": 11,
   "id": "22a84a9e-ad57-4f7b-963a-fc0fec35ac7a",
   "metadata": {},
   "outputs": [
    {
     "data": {
      "text/plain": [
       "'//google.com'"
      ]
     },
     "execution_count": 11,
     "metadata": {},
     "output_type": "execute_result"
    }
   ],
   "source": [
    "p = re.compile(\"(?<=:).+\")    # .+ 가 있어서 뒤에가 다 출력된다.\n",
    "m = p.search(\"http://google.com\")\n",
    "m.group()"
   ]
  },
  {
   "cell_type": "code",
   "execution_count": 10,
   "id": "4987f1a2-d751-4e9e-90e3-3f0e7511adbc",
   "metadata": {},
   "outputs": [
    {
     "data": {
      "text/plain": [
       "'://google.com'"
      ]
     },
     "execution_count": 10,
     "metadata": {},
     "output_type": "execute_result"
    }
   ],
   "source": [
    "p = re.compile(\"(?=:).+\")\n",
    "m = p.search(\"http://google.com\")\n",
    "m.group()"
   ]
  },
  {
   "cell_type": "code",
   "execution_count": 13,
   "id": "9d2b889e-3af7-455c-8738-8a6633e54227",
   "metadata": {
    "tags": []
   },
   "outputs": [
    {
     "data": {
      "text/plain": [
       "'o2022'"
      ]
     },
     "execution_count": 13,
     "metadata": {},
     "output_type": "execute_result"
    }
   ],
   "source": [
    "p = re.compile(\"(?<=ll).+\")\n",
    "m = p.search(\"hello2022\")\n",
    "m.group()"
   ]
  },
  {
   "cell_type": "code",
   "execution_count": 14,
   "id": "b7eafdaa-cf65-40b4-aee9-84e9815ad77b",
   "metadata": {},
   "outputs": [
    {
     "data": {
      "text/plain": [
       "'llo2022'"
      ]
     },
     "execution_count": 14,
     "metadata": {},
     "output_type": "execute_result"
    }
   ],
   "source": [
    "p = re.compile(\"(?=ll).+\")\n",
    "m = p.search(\"hello2022\")\n",
    "m.group()"
   ]
  },
  {
   "cell_type": "code",
   "execution_count": 15,
   "id": "95cc7515-9674-4246-99c8-e19be57e1459",
   "metadata": {},
   "outputs": [
    {
     "data": {
      "text/plain": [
       "'he'"
      ]
     },
     "execution_count": 15,
     "metadata": {},
     "output_type": "execute_result"
    }
   ],
   "source": [
    "p = re.compile(\".+(?=ll)\")\n",
    "m = p.search(\"hello2022\")\n",
    "m.group()"
   ]
  },
  {
   "cell_type": "code",
   "execution_count": 16,
   "id": "cd6a73c6-da5e-4edd-9719-44bea62d67d4",
   "metadata": {},
   "outputs": [
    {
     "data": {
      "text/plain": [
       "'hell'"
      ]
     },
     "execution_count": 16,
     "metadata": {},
     "output_type": "execute_result"
    }
   ],
   "source": [
    "p = re.compile(\".+(?<=ll)\")\n",
    "m = p.search(\"hello2022\")\n",
    "m.group()"
   ]
  },
  {
   "cell_type": "code",
   "execution_count": 6,
   "id": "07d459e0-f8f0-4711-ac31-8e784c6b72a5",
   "metadata": {},
   "outputs": [
    {
     "data": {
      "text/plain": [
       "<re.Match object; span=(0, 25), match='aaa.exe, bbb.pdf, ccc.hwp'>"
      ]
     },
     "execution_count": 6,
     "metadata": {},
     "output_type": "execute_result"
    }
   ],
   "source": [
    "sentence = \"aaa.exe, bbb.pdf, ccc.hwp\"\n",
    "\n",
    "import re\n",
    "p = re.compile(\".*[.](?!bat$).*$\")\n",
    "p.search(sentence)"
   ]
  },
  {
   "cell_type": "code",
   "execution_count": 21,
   "id": "9d7f1260-9edb-499f-977c-2d8af0cced62",
   "metadata": {},
   "outputs": [
    {
     "name": "stdout",
     "output_type": "stream",
     "text": [
      "park 010\n"
     ]
    }
   ],
   "source": [
    "p = re.compile(r\"(?P<name>\\w+)\\s+(?P<phone>(\\d+)[-]\\d+[-]\\d+)\")\n",
    "print(p.sub(\"\\g<1> \\g<3>\", \"park 010-1234-1234\"))"
   ]
  },
  {
   "cell_type": "code",
   "execution_count": 22,
   "id": "47d6b176-e8df-4527-ab40-b79e4a1eac8b",
   "metadata": {},
   "outputs": [],
   "source": [
    "data = '''\n",
    "http://www.forta.com a\n",
    "https://mail.forta.com b\n",
    "ftp://ftp.forta.com c\n",
    "''' "
   ]
  },
  {
   "cell_type": "markdown",
   "id": "6ed763f1-f7ef-4427-8c12-cff88a7c64c3",
   "metadata": {},
   "source": [
    "['forta.com','forta.com','ftp.for'] # f로 시작\n",
    "\n",
    "이렇게 출력해보기"
   ]
  },
  {
   "cell_type": "code",
   "execution_count": 29,
   "id": "6e834c67-0f25-4f1b-ada9-16cf40dcc037",
   "metadata": {},
   "outputs": [
    {
     "data": {
      "text/plain": [
       "['forta.com', 'forta.com', 'ftp.for']"
      ]
     },
     "execution_count": 29,
     "metadata": {},
     "output_type": "execute_result"
    }
   ],
   "source": [
    "p = re.compile(r\"f\\w+[.]\\w{3}\")\n",
    "p.findall(data)"
   ]
  },
  {
   "cell_type": "code",
   "execution_count": 34,
   "id": "a6c14010-eb05-4272-834d-c490f6e6fb85",
   "metadata": {},
   "outputs": [],
   "source": [
    "data = '''\n",
    "http://www.forta.com a\n",
    "https://mail.forta.com b\n",
    "'''"
   ]
  },
  {
   "cell_type": "code",
   "execution_count": 36,
   "id": "6b5d5ded-10d7-4f13-aa39-505bbdb3e171",
   "metadata": {},
   "outputs": [
    {
     "data": {
      "text/plain": [
       "['http://www.f', 'https://mail.f']"
      ]
     },
     "execution_count": 36,
     "metadata": {},
     "output_type": "execute_result"
    }
   ],
   "source": [
    "p = re.compile(r\".+f\")\n",
    "p.findall(data)"
   ]
  },
  {
   "cell_type": "code",
   "execution_count": 37,
   "id": "e05e2942-6e5f-47e1-a4ed-610a4109bfbc",
   "metadata": {},
   "outputs": [
    {
     "data": {
      "text/plain": [
       "['http://www.', 'https://mail.']"
      ]
     },
     "execution_count": 37,
     "metadata": {},
     "output_type": "execute_result"
    }
   ],
   "source": [
    "p = re.compile(r\".+(?=f)\")\n",
    "p.findall(data)"
   ]
  },
  {
   "cell_type": "code",
   "execution_count": 38,
   "id": "735618dc-3319-4b91-b707-7381fd8b9d4e",
   "metadata": {},
   "outputs": [
    {
     "data": {
      "text/plain": [
       "['forta.com a', 'forta.com b']"
      ]
     },
     "execution_count": 38,
     "metadata": {},
     "output_type": "execute_result"
    }
   ],
   "source": [
    "p = re.compile(r\"(?=f).+\")\n",
    "p.findall(data)"
   ]
  },
  {
   "cell_type": "code",
   "execution_count": 39,
   "id": "9de01479-e6de-402c-acb5-8708cbd6a58f",
   "metadata": {},
   "outputs": [
    {
     "data": {
      "text/plain": [
       "['orta.com a', 'orta.com b']"
      ]
     },
     "execution_count": 39,
     "metadata": {},
     "output_type": "execute_result"
    }
   ],
   "source": [
    "p = re.compile(r\"(?<=f).+\")\n",
    "p.findall(data)"
   ]
  },
  {
   "cell_type": "code",
   "execution_count": 42,
   "id": "a9abd63f-e56a-4084-9290-7bac3733074f",
   "metadata": {},
   "outputs": [
    {
     "name": "stdout",
     "output_type": "stream",
     "text": [
      "None\n",
      "<re.Match object; span=(0, 6), match='sososo'>\n",
      "<re.Match object; span=(0, 8), match='sosososo'>\n",
      "<re.Match object; span=(0, 10), match='sososososo'>\n"
     ]
    }
   ],
   "source": [
    "data = [\"soso\", \"sososo\", \"sosososo\", \"sososososo\"]\n",
    "p = re.compile(r'(so){3,5}')    #이왕 잡을거 큰 거로 잡는다.\n",
    "for i in data:\n",
    "    print(p.search(i))"
   ]
  },
  {
   "cell_type": "code",
   "execution_count": 43,
   "id": "46beb4cd-7e99-4a2f-a62f-7163d2fa6ae6",
   "metadata": {},
   "outputs": [
    {
     "name": "stdout",
     "output_type": "stream",
     "text": [
      "None\n",
      "<re.Match object; span=(0, 6), match='sososo'>\n",
      "<re.Match object; span=(0, 6), match='sososo'>\n",
      "<re.Match object; span=(0, 6), match='sososo'>\n"
     ]
    }
   ],
   "source": [
    "data = [\"soso\", \"sososo\", \"sosososo\", \"sososososo\"]\n",
    "p = re.compile(r'(so){3,5}?')   # ?을 붙이니 작은 것을 잡는다.\n",
    "for i in data:\n",
    "    print(p.search(i))"
   ]
  },
  {
   "cell_type": "code",
   "execution_count": null,
   "id": "573129c3-6c26-4ec1-af12-dc41e768c4e0",
   "metadata": {},
   "outputs": [],
   "source": []
  }
 ],
 "metadata": {
  "kernelspec": {
   "display_name": "Python 3 (ipykernel)",
   "language": "python",
   "name": "python3"
  },
  "language_info": {
   "codemirror_mode": {
    "name": "ipython",
    "version": 3
   },
   "file_extension": ".py",
   "mimetype": "text/x-python",
   "name": "python",
   "nbconvert_exporter": "python",
   "pygments_lexer": "ipython3",
   "version": "3.10.6"
  }
 },
 "nbformat": 4,
 "nbformat_minor": 5
}
