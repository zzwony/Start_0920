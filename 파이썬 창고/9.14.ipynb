{
 "cells": [
  {
   "cell_type": "markdown",
   "id": "5c38e83e-aac3-4e1f-865b-f73db9675e0f",
   "metadata": {},
   "source": [
    "# 문자열 교체하기"
   ]
  },
  {
   "cell_type": "code",
   "execution_count": 9,
   "id": "0c6c70dc-4494-41ff-87b2-5761735d2890",
   "metadata": {
    "tags": []
   },
   "outputs": [
    {
     "name": "stdout",
     "output_type": "stream",
     "text": [
      "-f\n",
      "C:\\Users\\admin\\AppData\\Roaming\\jupyter\\runtime\\kernel-89d49b01-82ff-4c95-a5a4-a30211e758c3.json\n"
     ]
    }
   ],
   "source": [
    "import sys\n",
    "\n",
    "src = sys.argv[1]\n",
    "dst = sys.argv[2]\n",
    "\n",
    "print(src)\n",
    "print(dst)"
   ]
  },
  {
   "cell_type": "code",
   "execution_count": 59,
   "id": "f3c7f40d-25d7-45d4-a149-e60a8e13f35c",
   "metadata": {},
   "outputs": [],
   "source": [
    "# tabto4.py\n",
    "import sys\n",
    "\n",
    "src = sys.argv[1]\n",
    "dst = sys.argv[2]\n",
    "\n",
    "with open(dst) as fa:\n",
    "    data = fa.readlines()\n",
    "with open(s, 'w') as fb:\n",
    "    for i in data:\n",
    "        a = i.replace('\\t','    ')\n",
    "        fb.write(a) "
   ]
  },
  {
   "cell_type": "markdown",
   "id": "5af88c62-4203-4441-a3f3-6ef013813c9d",
   "metadata": {},
   "source": [
    "# 위에 다시 하기  / 간단한 메모장 만들기"
   ]
  },
  {
   "cell_type": "code",
   "execution_count": 18,
   "id": "a710c383-2525-4dc4-a0a4-9cc5d12ec213",
   "metadata": {},
   "outputs": [],
   "source": [
    "import os"
   ]
  },
  {
   "cell_type": "code",
   "execution_count": 19,
   "id": "d2502b0f-0910-4e31-b1cf-e7300dc0e02b",
   "metadata": {
    "collapsed": true,
    "jupyter": {
     "outputs_hidden": true
    },
    "tags": []
   },
   "outputs": [
    {
     "data": {
      "text/plain": [
       "['.idlerc',\n",
       " '.ipynb_checkpoints',\n",
       " '.ipython',\n",
       " '.jupyter',\n",
       " '.matplotlib',\n",
       " '2.ipynb',\n",
       " '3D Objects',\n",
       " '9.13.ipynb',\n",
       " '9.14.ipynb',\n",
       " '9.7.ipynb',\n",
       " '9.8.ipynb',\n",
       " 'a.txt',\n",
       " 'aaaaaaaa.csv',\n",
       " 'abc',\n",
       " 'AppData',\n",
       " 'Application Data',\n",
       " 'b.txt',\n",
       " 'bbbb.xlsx',\n",
       " 'Contacts',\n",
       " 'Cookies',\n",
       " 'Desktop',\n",
       " 'Documents',\n",
       " 'Downloads',\n",
       " 'Favorites',\n",
       " 'IntelGraphicsProfiles',\n",
       " 'Links',\n",
       " 'Local Settings',\n",
       " 'mod1.py',\n",
       " 'mod2.py',\n",
       " 'mod3.py',\n",
       " 'Music',\n",
       " 'My Documents',\n",
       " 'NetHood',\n",
       " 'NTUSER.DAT',\n",
       " 'ntuser.dat.LOG1',\n",
       " 'ntuser.dat.LOG2',\n",
       " 'NTUSER.DAT{55ec9f50-187a-11ed-8a7b-8cb0e9155bde}.TM.blf',\n",
       " 'NTUSER.DAT{55ec9f50-187a-11ed-8a7b-8cb0e9155bde}.TMContainer00000000000000000001.regtrans-ms',\n",
       " 'NTUSER.DAT{55ec9f50-187a-11ed-8a7b-8cb0e9155bde}.TMContainer00000000000000000002.regtrans-ms',\n",
       " 'ntuser.ini',\n",
       " 'OneDrive',\n",
       " 'Pictures',\n",
       " 'PrintHood',\n",
       " 'python',\n",
       " 'Recent',\n",
       " 'Saved Games',\n",
       " 'Searches',\n",
       " 'SendTo',\n",
       " 'tabto4.py',\n",
       " 'Templates',\n",
       " 'test.pickle',\n",
       " 'Untitled.ipynb',\n",
       " 'Untitled1.ipynb',\n",
       " 'Videos',\n",
       " '__pycache__',\n",
       " '김밥천국메뉴 (1).csv',\n",
       " '서울지역대학교위치.xlsx',\n",
       " '시작 메뉴',\n",
       " '연습문제.ipynb',\n",
       " '파이썬입문.ipynb']"
      ]
     },
     "execution_count": 19,
     "metadata": {},
     "output_type": "execute_result"
    }
   ],
   "source": [
    "os.listdir()"
   ]
  },
  {
   "cell_type": "code",
   "execution_count": 24,
   "id": "51c3e9f8-7ae4-4f5f-814f-decca2fd12bf",
   "metadata": {
    "tags": []
   },
   "outputs": [],
   "source": [
    "dirname = \"Downloads\"\n",
    "filenames = os.listdir(dirname)"
   ]
  },
  {
   "cell_type": "code",
   "execution_count": 29,
   "id": "623593f8-4771-4b88-9aa6-059a5a4b17fe",
   "metadata": {},
   "outputs": [
    {
     "name": "stdout",
     "output_type": "stream",
     "text": [
      "Downloads\\.RData\n",
      "Downloads\\.Rhistory\n",
      "Downloads\\2022년 학습자매뉴얼(220608).pdf\n",
      "Downloads\\ChromeSetup (1).exe\n",
      "Downloads\\ChromeSetup.exe\n",
      "Downloads\\data-transformation.pdf\n",
      "Downloads\\data-visualization.pdf\n",
      "Downloads\\desktop.ini\n",
      "Downloads\\java.zip\n",
      "Downloads\\KakaoTalk_Setup.exe\n",
      "Downloads\\newplot.png\n",
      "Downloads\\purrr.pdf\n",
      "Downloads\\python-3.10.6-amd64 (1).exe\n",
      "Downloads\\python-3.10.6-amd64.exe\n",
      "Downloads\\R-4.2.1-win.exe\n",
      "Downloads\\R1234.pdf\n",
      "Downloads\\RStudio-2022.07.1-554.exe\n",
      "Downloads\\rstudio-ide.pdf\n",
      "Downloads\\VestCertSetup.exe\n",
      "Downloads\\김밥천국메뉴.csv\n"
     ]
    }
   ],
   "source": [
    "for filename in filenames:\n",
    "    full_filename = os.path.join(dirname ,filename)\n",
    "    print(full_filename)    # 안에 파일을 검색하는 과정임."
   ]
  },
  {
   "cell_type": "code",
   "execution_count": 27,
   "id": "9755899a-34f0-4838-a9ef-9ab351c18394",
   "metadata": {},
   "outputs": [],
   "source": [
    "def search(dirname):\n",
    "    filenames = os.listdir(dirname)\n",
    "    for filename in filenames:\n",
    "        full_filename = os.path.join(dirname ,filename)\n",
    "        print(full_filename)"
   ]
  },
  {
   "cell_type": "code",
   "execution_count": 28,
   "id": "076ffb7f-f5ad-451c-8158-5e9b53090ed9",
   "metadata": {},
   "outputs": [
    {
     "name": "stdout",
     "output_type": "stream",
     "text": [
      "Downloads\\.RData\n",
      "Downloads\\.Rhistory\n",
      "Downloads\\2022년 학습자매뉴얼(220608).pdf\n",
      "Downloads\\ChromeSetup (1).exe\n",
      "Downloads\\ChromeSetup.exe\n",
      "Downloads\\data-transformation.pdf\n",
      "Downloads\\data-visualization.pdf\n",
      "Downloads\\desktop.ini\n",
      "Downloads\\java.zip\n",
      "Downloads\\KakaoTalk_Setup.exe\n",
      "Downloads\\newplot.png\n",
      "Downloads\\purrr.pdf\n",
      "Downloads\\python-3.10.6-amd64 (1).exe\n",
      "Downloads\\python-3.10.6-amd64.exe\n",
      "Downloads\\R-4.2.1-win.exe\n",
      "Downloads\\R1234.pdf\n",
      "Downloads\\RStudio-2022.07.1-554.exe\n",
      "Downloads\\rstudio-ide.pdf\n",
      "Downloads\\VestCertSetup.exe\n",
      "Downloads\\김밥천국메뉴.csv\n"
     ]
    }
   ],
   "source": [
    "search(\"Downloads\")"
   ]
  },
  {
   "cell_type": "code",
   "execution_count": null,
   "id": "e83f647b-7288-43b6-a65a-2d86d8fd24ab",
   "metadata": {},
   "outputs": [],
   "source": [
    "ext = full_filename[-3:]\n",
    "test[-3:]"
   ]
  },
  {
   "cell_type": "code",
   "execution_count": null,
   "id": "681cce51-a61b-4f11-8c57-70b11f61edf2",
   "metadata": {},
   "outputs": [],
   "source": [
    "os.path.splitext(full_filename)"
   ]
  },
  {
   "cell_type": "code",
   "execution_count": 40,
   "id": "39ab1b14-f519-49a2-aa98-cb0fa4b45d04",
   "metadata": {},
   "outputs": [],
   "source": [
    "def search(dirname):\n",
    "    filenames = os.listdir(dirname)\n",
    "    for filename in filenames:\n",
    "        full_filename = os.path.join(dirname ,filename)\n",
    "        ext = full_filename[-3: ]\n",
    "        #print(ext)\n",
    "        if ext == '.py':\n",
    "            print(full_filename)\n"
   ]
  },
  {
   "cell_type": "code",
   "execution_count": 46,
   "id": "fce661d3-5a62-4445-941a-ba8681094f63",
   "metadata": {},
   "outputs": [
    {
     "name": "stdout",
     "output_type": "stream",
     "text": [
      "C:/Users/admin\\mod1.py\n",
      "C:/Users/admin\\mod2.py\n",
      "C:/Users/admin\\mod3.py\n",
      "C:/Users/admin\\tabto4.py\n"
     ]
    }
   ],
   "source": [
    "search(\"C:/Users/admin\")"
   ]
  },
  {
   "cell_type": "code",
   "execution_count": 52,
   "id": "47266190-afae-41ec-a305-89cb29ef4635",
   "metadata": {},
   "outputs": [],
   "source": [
    "def search(dirname):\n",
    "    try:\n",
    "        filenames = os.listdir(dirname)\n",
    "        for filename in filenames:\n",
    "            full_filename = os.path.join(dirname ,filename)\n",
    "            ext = full_filename[-3: ]\n",
    "\n",
    "            if os.path.isdir(filename):\n",
    "                search(full_filename)\n",
    "            else:\n",
    "                ext == full_filename[-3: ]\n",
    "                if ext == '.py':\n",
    "                    print(full_filename)\n",
    "    except:\n",
    "        pass"
   ]
  },
  {
   "cell_type": "code",
   "execution_count": 53,
   "id": "5a4e3779-c949-43e1-9ed3-79fe7863b1fc",
   "metadata": {},
   "outputs": [
    {
     "name": "stdout",
     "output_type": "stream",
     "text": [
      "C:/Users/admin\\.ipynb_checkpoints\\mod1-checkpoint.py\n",
      "C:/Users/admin\\.ipynb_checkpoints\\mod2-checkpoint.py\n",
      "C:/Users/admin\\.ipynb_checkpoints\\mod3-checkpoint.py\n",
      "C:/Users/admin\\.ipynb_checkpoints\\tabto4-checkpoint.py\n",
      "C:/Users/admin\\mod1.py\n",
      "C:/Users/admin\\mod2.py\n",
      "C:/Users/admin\\mod3.py\n",
      "C:/Users/admin\\tabto4.py\n"
     ]
    }
   ],
   "source": [
    "search(\"C:/Users/admin\")"
   ]
  },
  {
   "cell_type": "markdown",
   "id": "cf8122ce-7354-4da1-a688-7fc05411cb67",
   "metadata": {},
   "source": [
    "# 정규 표현식"
   ]
  },
  {
   "cell_type": "markdown",
   "id": "c6dfba0e-7d91-4fa1-b07f-b756fccebf96",
   "metadata": {},
   "source": [
    "## 문자열 바꾸기"
   ]
  },
  {
   "cell_type": "code",
   "execution_count": 62,
   "id": "2d52b64c-3a51-4ec4-9df8-7df377a2b08f",
   "metadata": {},
   "outputs": [],
   "source": [
    "sentence = 'blue socks and red shoes'"
   ]
  },
  {
   "cell_type": "code",
   "execution_count": 64,
   "id": "47c99aac-e5a7-40bd-aeeb-7d41234d1d7d",
   "metadata": {},
   "outputs": [],
   "source": [
    "import re   # re모듈이다."
   ]
  },
  {
   "cell_type": "code",
   "execution_count": 65,
   "id": "96d0e6de-52e2-4ecc-bce0-35357a5fe34c",
   "metadata": {},
   "outputs": [
    {
     "data": {
      "text/plain": [
       "'AAA socks and red shoes'"
      ]
     },
     "execution_count": 65,
     "metadata": {},
     "output_type": "execute_result"
    }
   ],
   "source": [
    "re.sub('blue', 'AAA', sentence)"
   ]
  },
  {
   "cell_type": "code",
   "execution_count": 67,
   "id": "894c8889-e414-4d49-bd50-c141da9c65e8",
   "metadata": {},
   "outputs": [
    {
     "data": {
      "text/plain": [
       "'AAA socks and AAA shoes'"
      ]
     },
     "execution_count": 67,
     "metadata": {},
     "output_type": "execute_result"
    }
   ],
   "source": [
    "result = re.sub('blue', 'AAA', sentence)\n",
    "result = re.sub('red', 'AAA', result)\n",
    "result"
   ]
  },
  {
   "cell_type": "code",
   "execution_count": 70,
   "id": "a056ce69-9b14-4a39-9f82-08a83426e41a",
   "metadata": {},
   "outputs": [
    {
     "data": {
      "text/plain": [
       "'BBB socks and BBB shoes'"
      ]
     },
     "execution_count": 70,
     "metadata": {},
     "output_type": "execute_result"
    }
   ],
   "source": [
    "re.sub('blue|red', 'BBB', sentence)   # 한번에 바꿔준다."
   ]
  },
  {
   "cell_type": "code",
   "execution_count": 71,
   "id": "aebe50fa-7dbb-4352-846d-c758381e60a0",
   "metadata": {},
   "outputs": [
    {
     "data": {
      "text/plain": [
       "'AAA socks and red shoes'"
      ]
     },
     "execution_count": 71,
     "metadata": {},
     "output_type": "execute_result"
    }
   ],
   "source": [
    "re.sub('b.{3}', 'AAA', sentence)"
   ]
  },
  {
   "cell_type": "code",
   "execution_count": 73,
   "id": "cb575806-13e9-4a1d-a8ec-d786e9890db1",
   "metadata": {},
   "outputs": [
    {
     "name": "stdout",
     "output_type": "stream",
     "text": [
      "\n",
      "1\n",
      "12\n",
      "123\n",
      "1234\n",
      "abc\n",
      "1a\n"
     ]
    }
   ],
   "source": [
    "string = [\"\", \"1\", \"12\", \"123\", \"1234\", \"abc\", \"1a\"]\n",
    "for i in string:          # 문장들 하나하나 검토한 것임.\n",
    "    print(i)"
   ]
  },
  {
   "cell_type": "code",
   "execution_count": 89,
   "id": "eed7f164-6054-412f-ae21-e53d217f4ec2",
   "metadata": {},
   "outputs": [
    {
     "name": "stdout",
     "output_type": "stream",
     "text": [
      ",      A,      AA,      AAA,      AAAA,      abc,      Aa,      "
     ]
    }
   ],
   "source": [
    "li = [\"\", \"1\", \"12\", \"123\", \"1234\", \"abc\", \"1a\"]\n",
    "for string in li:\n",
    "    print(re.sub(\"[0-9]\", \"A\", string), end = \",      \") \n",
    "    # 한 개의 숫자를 A로 바꿔라, 그래서 1a가 Aa로 바뀜"
   ]
  },
  {
   "cell_type": "code",
   "execution_count": 91,
   "id": "f08a7da2-6719-4e38-a000-d064d9a5c508",
   "metadata": {},
   "outputs": [
    {
     "name": "stdout",
     "output_type": "stream",
     "text": [
      ",      A,      A,      A,      A,      abc,      Aa,      "
     ]
    }
   ],
   "source": [
    "li = [\"\", \"1\", \"12\", \"123\", \"1234\", \"abc\", \"1a\"]\n",
    "for string in li:\n",
    "    print(re.sub(\"[0-9]+\", \"A\", string), end = \",      \") \n",
    "    # 숫자 1개 이상을 A로 바꿔라."
   ]
  },
  {
   "cell_type": "code",
   "execution_count": 94,
   "id": "2f919c43-355f-449c-b741-6e85a639a927",
   "metadata": {},
   "outputs": [
    {
     "name": "stdout",
     "output_type": "stream",
     "text": [
      "A,      AA,      AAA,      AAAA,      AAAAA,      AaAbAcA,      AAaA,      "
     ]
    }
   ],
   "source": [
    "li = [\"\", \"1\", \"12\", \"123\", \"1234\", \"abc\", \"1a\"]\n",
    "for string in li:\n",
    "    print(re.sub(\"[0-9]?\", \"A\", string), end = \",      \")\n",
    "    # ?는 한 개 이하를 바꾸는것(없어도 된다는 뜻)\n",
    "    # \"1\"이 AA가 된 이유는 1앞에 아무것도 없어서 A 그리고 1을 A로 바꿨기 때문"
   ]
  },
  {
   "cell_type": "code",
   "execution_count": 95,
   "id": "86d94e9c-e7f5-4851-ba10-845ade3717b4",
   "metadata": {},
   "outputs": [
    {
     "name": "stdout",
     "output_type": "stream",
     "text": [
      ",      1,      12,      123,      A,      abc,      1a,      "
     ]
    }
   ],
   "source": [
    "li = [\"\", \"1\", \"12\", \"123\", \"1234\", \"abc\", \"1a\"]\n",
    "for string in li:\n",
    "    print(re.sub(\"[0-9]{4}\", \"A\", string), end = \",      \")"
   ]
  },
  {
   "cell_type": "code",
   "execution_count": 98,
   "id": "5078eb57-c969-40ff-be89-f920cd2cc49d",
   "metadata": {},
   "outputs": [
    {
     "name": "stdout",
     "output_type": "stream",
     "text": [
      ",      1,      12,      123,      1234,      AAA,      1A,      "
     ]
    }
   ],
   "source": [
    "li = [\"\", \"1\", \"12\", \"123\", \"1234\", \"abc\", \"1a\"]\n",
    "for string in li:\n",
    "    print(re.sub(\"[^0-9]\", \"A\", string), end = \",      \")\n",
    "    #숫자가 아닌 문자를 A로 바꿈,"
   ]
  },
  {
   "cell_type": "code",
   "execution_count": 100,
   "id": "61588b35-9ab1-43b0-a959-5449961e44d3",
   "metadata": {},
   "outputs": [
    {
     "name": "stdout",
     "output_type": "stream",
     "text": [
      ",      A,      1A,      12A,      123A,      abc,      1a,      "
     ]
    }
   ],
   "source": [
    "li = [\"\", \"1\", \"12\", \"123\", \"1234\", \"abc\", \"1a\"]\n",
    "for string in li:\n",
    "    print(re.sub(\"[0-9]$\", \"A\", string), end = \",      \")\n",
    "    # 달러는 끝에 있는것을 바꿈"
   ]
  },
  {
   "cell_type": "markdown",
   "id": "3cbe90b5-5c05-42e7-8789-34d872665f6f",
   "metadata": {},
   "source": [
    "```\n",
    "a로 시작하고 o로 끝나는 사이에 2개의 문자가 있는 경우\n",
    ": a..o , [a]..[o], a.{2}o, ^a.{2}o$\n",
    "```"
   ]
  },
  {
   "cell_type": "code",
   "execution_count": 109,
   "id": "becfa6e1-e8b6-474c-a351-539981079c60",
   "metadata": {},
   "outputs": [
    {
     "name": "stdout",
     "output_type": "stream",
     "text": [
      "#,      #,      aBo,      a123o,      kbs,      123kbs,      KBS,      KB3,      abcKBS123,      "
     ]
    }
   ],
   "source": [
    "li = [\"a12o\", \"abco\", \"aBo\", \"a123o\", \"kbs\", \"123kbs\", \"KBS\", \"KB3\", \"abcKBS123\"]\n",
    "\n",
    "for string in li:\n",
    "    print(re.sub(\"a..o\", \"#\", string), end = \",      \")"
   ]
  },
  {
   "cell_type": "markdown",
   "id": "b8f22130-8dc7-4db8-a37e-6d0020788d16",
   "metadata": {},
   "source": [
    "```\n",
    "알파벳 대문자로 시작하고 숫자로 끝나는 경우\n",
    ": ^[A-Z].+[0-9]$ , ^[A-Z]\\S[0-9]$\n",
    "```"
   ]
  },
  {
   "cell_type": "code",
   "execution_count": 121,
   "id": "19041c04-c8de-40f8-8559-be039372ecc6",
   "metadata": {},
   "outputs": [
    {
     "name": "stdout",
     "output_type": "stream",
     "text": [
      "a12o,      abco,      aBo,      a123o,      kbs,      123kbs,      KBS,      #,      abcKBS123,      "
     ]
    }
   ],
   "source": [
    "li = [\"a12o\", \"abco\", \"aBo\", \"a123o\", \"kbs\", \"123kbs\", \"KBS\", \"KB3\", \"abcKBS123\"]\n",
    "\n",
    "for string in li:\n",
    "    print(re.sub(\"^[A-Z]\\S[0-9]$\", \"#\", string), end = \",      \")"
   ]
  },
  {
   "cell_type": "markdown",
   "id": "916d4397-11fe-4ea5-bef8-3a49c99125ef",
   "metadata": {},
   "source": [
    "```\n",
    "문자들 중간에 123을 찾아서 바꾸기\n",
    ": .+123.+ , \\S+123\\S+ , \\D+123\\D+\n",
    "```"
   ]
  },
  {
   "cell_type": "code",
   "execution_count": 131,
   "id": "e7afa7a5-e0bf-4267-beb5-fa0035788c23",
   "metadata": {},
   "outputs": [
    {
     "name": "stdout",
     "output_type": "stream",
     "text": [
      "a12o,      abco,      aBo,      #,      kbs,      123kbs,      KBS,      KB3,      abcKBS123,      "
     ]
    }
   ],
   "source": [
    "li = [\"a12o\", \"abco\", \"aBo\", \"a123o\", \"kbs\", \"123kbs\", \"KBS\", \"KB3\", \"abcKBS123\"]\n",
    "\n",
    "for string in li:\n",
    "    print(re.sub(\".+123.+\", \"#\", string), end = \",      \")"
   ]
  },
  {
   "cell_type": "markdown",
   "id": "3e506aeb-dff0-433c-9800-0abecec452ef",
   "metadata": {},
   "source": [
    "```\n",
    "주민등록번호 뒷자리 가리기\n",
    ": \\d{7} , -\\d{7}\n",
    "```"
   ]
  },
  {
   "cell_type": "code",
   "execution_count": 141,
   "id": "b86f6212-2982-44c7-8247-812b1e4ec8a6",
   "metadata": {},
   "outputs": [
    {
     "name": "stdout",
     "output_type": "stream",
     "text": [
      "park 800905-******* Kim 700905-*******\n"
     ]
    }
   ],
   "source": [
    "string = \"park 800905-1049118 Kim 700905-1059119\"\n",
    "print(re.sub(\"\\d{7}\", \"*******\", string))"
   ]
  },
  {
   "cell_type": "code",
   "execution_count": null,
   "id": "78c4ce4e-a7c5-407c-ad72-76530444a7e1",
   "metadata": {},
   "outputs": [],
   "source": []
  }
 ],
 "metadata": {
  "kernelspec": {
   "display_name": "Python 3 (ipykernel)",
   "language": "python",
   "name": "python3"
  },
  "language_info": {
   "codemirror_mode": {
    "name": "ipython",
    "version": 3
   },
   "file_extension": ".py",
   "mimetype": "text/x-python",
   "name": "python",
   "nbconvert_exporter": "python",
   "pygments_lexer": "ipython3",
   "version": "3.10.6"
  }
 },
 "nbformat": 4,
 "nbformat_minor": 5
}
