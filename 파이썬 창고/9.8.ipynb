{
 "cells": [
  {
   "cell_type": "code",
   "execution_count": 21,
   "id": "66e54b45-d6ba-4fb2-bbaf-c6e93aeddfda",
   "metadata": {},
   "outputs": [],
   "source": [
    "########################## 연습문제"
   ]
  },
  {
   "cell_type": "code",
   "execution_count": 3,
   "id": "cee71a97-937d-4c38-b811-4e78505f2876",
   "metadata": {
    "tags": []
   },
   "outputs": [],
   "source": [
    "class Sport:\n",
    "    def __init__(self, name, players):\n",
    "        self.first = name\n",
    "        self.second = players"
   ]
  },
  {
   "cell_type": "code",
   "execution_count": 6,
   "id": "854d43d1-55b5-4cc9-adc6-cc31a38a3d30",
   "metadata": {},
   "outputs": [
    {
     "name": "stdout",
     "output_type": "stream",
     "text": [
      "축구는 한 팀당 11명이 하는 스포츠 입니다.\n"
     ]
    }
   ],
   "source": [
    "class Sport:\n",
    "    def __init__(self, name, players):\n",
    "        self.name= name\n",
    "        self.players = players \n",
    "        \n",
    "    def explain(self):\n",
    "        print(f'{self.name}는 한 팀당 {self.players}명이 하는 스포츠 입니다.')\n",
    "        \n",
    "soccer = Sport('축구', 11)\n",
    "soccer.explain()"
   ]
  },
  {
   "cell_type": "code",
   "execution_count": 17,
   "id": "7f81aa19-9ae8-47fa-9490-faca3375df30",
   "metadata": {},
   "outputs": [],
   "source": [
    "class Plant:\n",
    "    def __init__(self, name):\n",
    "        self.name = name\n",
    "        \n",
    "    def color(self):\n",
    "        self.color = 'green'\n",
    "        return self.color\n",
    "    "
   ]
  },
  {
   "cell_type": "code",
   "execution_count": 18,
   "id": "4335ffa5-c921-4988-89f3-6f8cf4ab3b5b",
   "metadata": {},
   "outputs": [],
   "source": [
    "소나무 = Plant(\"소나무\")"
   ]
  },
  {
   "cell_type": "code",
   "execution_count": 20,
   "id": "e9e9e124-c103-41f2-83bc-9a3b46d3e8d1",
   "metadata": {},
   "outputs": [
    {
     "data": {
      "text/plain": [
       "'green'"
      ]
     },
     "execution_count": 20,
     "metadata": {},
     "output_type": "execute_result"
    }
   ],
   "source": [
    "소나무.color()"
   ]
  },
  {
   "cell_type": "code",
   "execution_count": 25,
   "id": "51d6023a-0f91-49f6-8c25-f8730ffc6e2c",
   "metadata": {},
   "outputs": [],
   "source": [
    "class Apple(Plant):\n",
    "    def color(self):\n",
    "        self.color = 'Red'\n",
    "        return self.color"
   ]
  },
  {
   "cell_type": "code",
   "execution_count": 26,
   "id": "13c767fa-96d8-4261-88cb-1099ac78c4fe",
   "metadata": {},
   "outputs": [],
   "source": [
    "사과 = Apple('홍옥')"
   ]
  },
  {
   "cell_type": "code",
   "execution_count": 27,
   "id": "e304dc9d-e8c7-450a-a698-b3def5239a14",
   "metadata": {},
   "outputs": [
    {
     "data": {
      "text/plain": [
       "'Red'"
      ]
     },
     "execution_count": 27,
     "metadata": {},
     "output_type": "execute_result"
    }
   ],
   "source": [
    "사과.color()"
   ]
  },
  {
   "cell_type": "code",
   "execution_count": 28,
   "id": "989f1a94-b86a-43d7-bdd4-0b16726dada2",
   "metadata": {},
   "outputs": [],
   "source": [
    "f = open(\"new.txt\", 'w')\n",
    "for i in range(10):\n",
    "    f.write(f\"Hello\\n\")\n",
    "f.close() "
   ]
  },
  {
   "cell_type": "code",
   "execution_count": 29,
   "id": "5875070c-48f1-4494-a29b-ebae1a056139",
   "metadata": {},
   "outputs": [
    {
     "name": "stdout",
     "output_type": "stream",
     "text": [
      "Hello\n",
      "\n",
      "Hello\n",
      "\n",
      "Hello\n",
      "\n",
      "Hello\n",
      "\n",
      "Hello\n",
      "\n",
      "Hello\n",
      "\n",
      "Hello\n",
      "\n",
      "Hello\n",
      "\n",
      "Hello\n",
      "\n",
      "Hello\n",
      "\n"
     ]
    }
   ],
   "source": [
    "f = open('new.txt', 'r')\n",
    "data  = f.readlines()       \n",
    "for i in data:\n",
    "    print(i)\n",
    "    \n",
    "f.close()"
   ]
  },
  {
   "cell_type": "code",
   "execution_count": 40,
   "id": "07c3b57f-3d6d-46dc-ae0b-3a69816cb51c",
   "metadata": {},
   "outputs": [],
   "source": [
    "with open('gugu_txt', 'w') as f:\n",
    "    for i in range(2,10):\n",
    "        for a in range(1, 10):\n",
    "            f.write(f'{i*a} ')\n",
    "        f.write('\\n')\n",
    "            \n",
    "f.close()"
   ]
  },
  {
   "cell_type": "code",
   "execution_count": 41,
   "id": "d3dffb18-6bd5-4d6b-8412-34a4bd8db7d2",
   "metadata": {},
   "outputs": [],
   "source": [
    "######################################"
   ]
  },
  {
   "cell_type": "markdown",
   "id": "c141f3b2-2c2f-4a18-9e57-3ce5d0a1e3bf",
   "metadata": {},
   "source": [
    "### 클래스 변수"
   ]
  },
  {
   "cell_type": "code",
   "execution_count": 53,
   "id": "05fbd16f-597c-466f-afdc-1f9d63590cae",
   "metadata": {},
   "outputs": [],
   "source": [
    "class Family:\n",
    "    lastname = '박'    # 클래스 변수\n",
    "    \n",
    "    def __init__(self, name):\n",
    "        self.name = name      #인스턴스 변수"
   ]
  },
  {
   "cell_type": "code",
   "execution_count": 43,
   "id": "2c5d35b6-8b4c-4c40-9593-0d66b362357c",
   "metadata": {},
   "outputs": [],
   "source": [
    "Family1 = Family('길동')"
   ]
  },
  {
   "cell_type": "code",
   "execution_count": 44,
   "id": "6c8b596d-2271-433c-b1df-ce680c83965f",
   "metadata": {},
   "outputs": [
    {
     "data": {
      "text/plain": [
       "'길동'"
      ]
     },
     "execution_count": 44,
     "metadata": {},
     "output_type": "execute_result"
    }
   ],
   "source": [
    "Family1.name"
   ]
  },
  {
   "cell_type": "code",
   "execution_count": 45,
   "id": "40e19caf-4fb0-43d4-a806-4550c10feaf0",
   "metadata": {},
   "outputs": [
    {
     "data": {
      "text/plain": [
       "'박'"
      ]
     },
     "execution_count": 45,
     "metadata": {},
     "output_type": "execute_result"
    }
   ],
   "source": [
    "Family1.lastname"
   ]
  },
  {
   "cell_type": "code",
   "execution_count": 46,
   "id": "6cc2a9e8-17ee-4bd7-acfa-dc72b0b64907",
   "metadata": {},
   "outputs": [
    {
     "data": {
      "text/plain": [
       "'박'"
      ]
     },
     "execution_count": 46,
     "metadata": {},
     "output_type": "execute_result"
    }
   ],
   "source": [
    "Family.lastname"
   ]
  },
  {
   "cell_type": "code",
   "execution_count": 47,
   "id": "a8d71630-e0f1-400e-bce8-dd506eb4bf12",
   "metadata": {},
   "outputs": [],
   "source": [
    "Family2 = Family('우치')"
   ]
  },
  {
   "cell_type": "code",
   "execution_count": 48,
   "id": "59dbf4aa-1222-4157-88b1-94bd7956717b",
   "metadata": {},
   "outputs": [
    {
     "data": {
      "text/plain": [
       "'우치'"
      ]
     },
     "execution_count": 48,
     "metadata": {},
     "output_type": "execute_result"
    }
   ],
   "source": [
    "Family2.name"
   ]
  },
  {
   "cell_type": "code",
   "execution_count": 49,
   "id": "43c1c860-8da3-4819-bc2b-b77befeecd55",
   "metadata": {},
   "outputs": [
    {
     "data": {
      "text/plain": [
       "'박'"
      ]
     },
     "execution_count": 49,
     "metadata": {},
     "output_type": "execute_result"
    }
   ],
   "source": [
    "Family2.lastname"
   ]
  },
  {
   "cell_type": "code",
   "execution_count": 52,
   "id": "c3afaadb-06a0-4967-9686-6a7f7a3b8fc1",
   "metadata": {},
   "outputs": [
    {
     "data": {
      "text/plain": [
       "2973415672928"
      ]
     },
     "execution_count": 52,
     "metadata": {},
     "output_type": "execute_result"
    }
   ],
   "source": [
    "id(Family1.lastname)"
   ]
  },
  {
   "cell_type": "code",
   "execution_count": 51,
   "id": "1cf25e54-19f7-4df4-8cb5-bbe3962935f5",
   "metadata": {},
   "outputs": [
    {
     "data": {
      "text/plain": [
       "2973415672928"
      ]
     },
     "execution_count": 51,
     "metadata": {},
     "output_type": "execute_result"
    }
   ],
   "source": [
    "id(Family2.lastname)"
   ]
  },
  {
   "cell_type": "markdown",
   "id": "1afad6e0-d06e-46d5-95cf-825cb38b48fe",
   "metadata": {},
   "source": [
    "같은 Family에 들어갔기 때문에 id가 같다."
   ]
  },
  {
   "cell_type": "code",
   "execution_count": 60,
   "id": "ce05e278-ec5c-4a4b-8824-c2a605a5b1a2",
   "metadata": {},
   "outputs": [],
   "source": [
    "name = '장길산'\n",
    "\n",
    "class Family:\n",
    "    lastname = '박'       # 클래스변수, 클래스변수는 인스턴스들이 공유한다.    \n",
    "    \n",
    "    def __init__(self, name):\n",
    "        self.name = name   # 인스턴스변수, 지역변수\n",
    "        \n",
    "    def show_name(self):\n",
    "        print(name)\n",
    "        print(Family.lastname)\n",
    "        print(self.lastname)\n",
    "        print(self.name)"
   ]
  },
  {
   "cell_type": "code",
   "execution_count": 61,
   "id": "6777db10-a4c1-4bde-9d0f-768a78946e7b",
   "metadata": {},
   "outputs": [
    {
     "name": "stdout",
     "output_type": "stream",
     "text": [
      "장길산\n",
      "박\n",
      "박\n",
      "길동\n"
     ]
    }
   ],
   "source": [
    "F1 = Family('길동')\n",
    "F1.show_name()"
   ]
  },
  {
   "cell_type": "markdown",
   "id": "853ce336-64b6-4789-a96c-34556cb814fa",
   "metadata": {},
   "source": [
    "```\n",
    "클래스 이름은 Person\n",
    "name 전역변수 '아이유'\n",
    "클래스변수 '손'\n",
    "인스턴스 변수 입력받아서 \"흥민\"\n",
    "\n",
    "세가지 변수를 모두 출력해 봅시다.\n",
    "```"
   ]
  },
  {
   "cell_type": "code",
   "execution_count": 66,
   "id": "3f5c6b5a-41a0-4d6a-872f-85b6b0e7f05b",
   "metadata": {},
   "outputs": [
    {
     "name": "stdout",
     "output_type": "stream",
     "text": [
      "아이유\n",
      "흥민\n",
      "손\n"
     ]
    }
   ],
   "source": [
    "name = \"아이유\"\n",
    "\n",
    "class Person:\n",
    "    lastname = '손'\n",
    "    \n",
    "    def __init__(self, name):\n",
    "        self.name = name\n",
    "    \n",
    "    def show_name(self):\n",
    "        print(name)\n",
    "        print(self.name)\n",
    "        print(Person.lastname)\n",
    "    \n",
    "a = Person(\"흥민\")\n",
    "a.show_name()"
   ]
  },
  {
   "cell_type": "markdown",
   "id": "39378b41-7209-4c7e-bfed-11e24564efbb",
   "metadata": {},
   "source": [
    "### 상속 후 변수 추가"
   ]
  },
  {
   "cell_type": "markdown",
   "id": "f71aa2af-75c0-4831-9ae6-63e56b23b0c3",
   "metadata": {},
   "source": [
    "- 부모클래스에서 인자로 입력받는 것이 없을때"
   ]
  },
  {
   "cell_type": "code",
   "execution_count": 67,
   "id": "bb779aa4-a8d5-4942-8980-cc73dc1b5ccf",
   "metadata": {},
   "outputs": [],
   "source": [
    "class Person:\n",
    "    def __init__(self):\n",
    "        self.name = \"Lee\"\n",
    "        self.age = 25\n",
    "    \n",
    "class Korean(Person):\n",
    "    pass"
   ]
  },
  {
   "cell_type": "code",
   "execution_count": 69,
   "id": "ee1c103d-cf42-4df7-9764-7490c200c534",
   "metadata": {},
   "outputs": [
    {
     "data": {
      "text/plain": [
       "'Lee'"
      ]
     },
     "execution_count": 69,
     "metadata": {},
     "output_type": "execute_result"
    }
   ],
   "source": [
    "p1 = Person()\n",
    "p1.name"
   ]
  },
  {
   "cell_type": "code",
   "execution_count": 70,
   "id": "322e9eb6-0ab5-4cec-91ea-00dbf0d8036a",
   "metadata": {},
   "outputs": [
    {
     "data": {
      "text/plain": [
       "'Lee'"
      ]
     },
     "execution_count": 70,
     "metadata": {},
     "output_type": "execute_result"
    }
   ],
   "source": [
    "k1 = Korean()\n",
    "k1.name"
   ]
  },
  {
   "cell_type": "code",
   "execution_count": 71,
   "id": "84c3636d-db15-4174-8653-4780b3ab6bab",
   "metadata": {},
   "outputs": [],
   "source": [
    "class Korean(Person):\n",
    "    def __init__(self):\n",
    "        self.lang = '한국어'"
   ]
  },
  {
   "cell_type": "code",
   "execution_count": 72,
   "id": "03fc136b-0f05-444f-aa83-d19d04c3b571",
   "metadata": {},
   "outputs": [
    {
     "data": {
      "text/plain": [
       "'한국어'"
      ]
     },
     "execution_count": 72,
     "metadata": {},
     "output_type": "execute_result"
    }
   ],
   "source": [
    "k1 = Korean()\n",
    "k1.lang"
   ]
  },
  {
   "cell_type": "code",
   "execution_count": 74,
   "id": "30d2fc23-b825-4b4e-9cc5-f5f4a7eebd27",
   "metadata": {},
   "outputs": [
    {
     "ename": "AttributeError",
     "evalue": "'Korean' object has no attribute 'name'",
     "output_type": "error",
     "traceback": [
      "\u001b[1;31m---------------------------------------------------------------------------\u001b[0m",
      "\u001b[1;31mAttributeError\u001b[0m                            Traceback (most recent call last)",
      "Input \u001b[1;32mIn [74]\u001b[0m, in \u001b[0;36m<cell line: 1>\u001b[1;34m()\u001b[0m\n\u001b[1;32m----> 1\u001b[0m \u001b[43mk1\u001b[49m\u001b[38;5;241;43m.\u001b[39;49m\u001b[43mname\u001b[49m\n",
      "\u001b[1;31mAttributeError\u001b[0m: 'Korean' object has no attribute 'name'"
     ]
    }
   ],
   "source": [
    "k1.name"
   ]
  },
  {
   "cell_type": "markdown",
   "id": "3b5c0dd9-6897-4242-96f0-4eaeeaa1df0a",
   "metadata": {},
   "source": [
    "에러 이유 : def __init__(self) 이 부분이 문제가 된다.\n",
    "\n",
    "부모 한테 상속 받은 것이 날라가버리고 오버라이딩\n",
    "\n",
    "되버렸기 때문에 날라갔다."
   ]
  },
  {
   "cell_type": "code",
   "execution_count": 75,
   "id": "d0fe08ff-f6de-40da-b7dd-ca906f5e958d",
   "metadata": {},
   "outputs": [],
   "source": [
    "class Korean(Person):\n",
    "    def __init__(self):\n",
    "        super().__init__()   # 부모클래스의 init 실행\n",
    "        self.lang = '한국어'"
   ]
  },
  {
   "cell_type": "markdown",
   "id": "ea068b12-bf9f-4e9b-b31a-5fa2719222e6",
   "metadata": {},
   "source": [
    "초기화되면서 super()를 이용하여 그 함수를\n",
    "\n",
    "한번 불러주는 역할을 한다."
   ]
  },
  {
   "cell_type": "code",
   "execution_count": 76,
   "id": "9b9c1e0c-956e-4dcc-8252-ae85bca5f6e9",
   "metadata": {},
   "outputs": [],
   "source": [
    "k2 = Korean()"
   ]
  },
  {
   "cell_type": "code",
   "execution_count": 77,
   "id": "ad42e7c6-1f97-480f-ae4b-f64947edfdac",
   "metadata": {},
   "outputs": [
    {
     "data": {
      "text/plain": [
       "'한국어'"
      ]
     },
     "execution_count": 77,
     "metadata": {},
     "output_type": "execute_result"
    }
   ],
   "source": [
    "k2.lang"
   ]
  },
  {
   "cell_type": "code",
   "execution_count": 78,
   "id": "5b78a48c-d2a7-4d28-bd27-75eb6e0f9f08",
   "metadata": {},
   "outputs": [
    {
     "data": {
      "text/plain": [
       "'Lee'"
      ]
     },
     "execution_count": 78,
     "metadata": {},
     "output_type": "execute_result"
    }
   ],
   "source": [
    "k2.name"
   ]
  },
  {
   "cell_type": "markdown",
   "id": "fe4d2518-29e9-46ef-a0a2-167c6499ed10",
   "metadata": {},
   "source": [
    "```\n",
    "American 클래스를 만들고, 쓰는 언어는 English로 합시다.\n",
    "a1.lang 이것을 출력하면 English가 출력되야 한다.\n",
    "```"
   ]
  },
  {
   "cell_type": "code",
   "execution_count": 83,
   "id": "0a37357b-2445-4b8b-9233-9979be25cbf1",
   "metadata": {},
   "outputs": [
    {
     "data": {
      "text/plain": [
       "'English'"
      ]
     },
     "execution_count": 83,
     "metadata": {},
     "output_type": "execute_result"
    }
   ],
   "source": [
    "class American:\n",
    "    def __init__(self):\n",
    "        super().__init__()\n",
    "        self.lang = \"English\"\n",
    "        \n",
    "a1 = American()\n",
    "a1.lang"
   ]
  },
  {
   "cell_type": "markdown",
   "id": "86bb3b24-34db-48e5-a97b-013db7c0c9e4",
   "metadata": {},
   "source": [
    "- 부모클래스에서 인자로 입력받는 것이 있을때"
   ]
  },
  {
   "cell_type": "code",
   "execution_count": 106,
   "id": "47923685-4e86-4774-a610-ef396402ca30",
   "metadata": {},
   "outputs": [],
   "source": [
    "class Person:\n",
    "    def __init__(self, name, age):\n",
    "        self.name = name\n",
    "        self.age = age\n",
    "        \n",
    "class Korean(Person):\n",
    "    def __init__(self):  \n",
    "        super().__init__(name, age)\n",
    "        self.lang = \"한국어\"\n"
   ]
  },
  {
   "cell_type": "code",
   "execution_count": 107,
   "id": "30c7d733-094d-4b15-bde5-8fe82d0fed17",
   "metadata": {},
   "outputs": [
    {
     "ename": "TypeError",
     "evalue": "Korean.__init__() takes 1 positional argument but 3 were given",
     "output_type": "error",
     "traceback": [
      "\u001b[1;31m---------------------------------------------------------------------------\u001b[0m",
      "\u001b[1;31mTypeError\u001b[0m                                 Traceback (most recent call last)",
      "Input \u001b[1;32mIn [107]\u001b[0m, in \u001b[0;36m<cell line: 1>\u001b[1;34m()\u001b[0m\n\u001b[1;32m----> 1\u001b[0m k1 \u001b[38;5;241m=\u001b[39m \u001b[43mKorean\u001b[49m\u001b[43m(\u001b[49m\u001b[38;5;124;43m\"\u001b[39;49m\u001b[38;5;124;43m홍길동\u001b[39;49m\u001b[38;5;124;43m\"\u001b[39;49m\u001b[43m,\u001b[49m\u001b[43m \u001b[49m\u001b[38;5;241;43m22\u001b[39;49m\u001b[43m)\u001b[49m\n",
      "\u001b[1;31mTypeError\u001b[0m: Korean.__init__() takes 1 positional argument but 3 were given"
     ]
    }
   ],
   "source": [
    "k1 = Korean(\"홍길동\", 22)"
   ]
  },
  {
   "cell_type": "markdown",
   "id": "15214b79-ef9c-41ad-8c4b-ead467da3f7e",
   "metadata": {},
   "source": [
    "부모 클래스가 3개이니 자식 클래스도 3개를 써줘야 오류가 발생하지 않는다."
   ]
  },
  {
   "cell_type": "code",
   "execution_count": 110,
   "id": "211bd108-f278-4057-a980-9b6526a2fbf0",
   "metadata": {},
   "outputs": [],
   "source": [
    "class Person:\n",
    "    def __init__(self, name, age):\n",
    "        self.name = name\n",
    "        self.age = age\n",
    "\n",
    "class Korean(Person):\n",
    "    #def __init__(self):        잘못된 부분\n",
    "    def __init__(self, name, age):    \n",
    "        super().__init__(name, age)\n",
    "        self.lang = \"한국어\""
   ]
  },
  {
   "cell_type": "code",
   "execution_count": 112,
   "id": "9132979c-33f0-45f4-99b8-c47274080849",
   "metadata": {},
   "outputs": [
    {
     "data": {
      "text/plain": [
       "'홍길동'"
      ]
     },
     "execution_count": 112,
     "metadata": {},
     "output_type": "execute_result"
    }
   ],
   "source": [
    "k1 = Korean(\"홍길동\", 22)\n",
    "k1.name"
   ]
  },
  {
   "cell_type": "markdown",
   "id": "2febd192-b118-4269-97a0-9b988889c862",
   "metadata": {},
   "source": [
    "- 자식 클래스에서도 인자를 입력받는 경우"
   ]
  },
  {
   "cell_type": "code",
   "execution_count": 119,
   "id": "af6fc733-20e2-4dc0-8d14-5c8da62df2a2",
   "metadata": {},
   "outputs": [],
   "source": [
    "class Korean(Person):\n",
    "    def __init__(self, lang, name, age):  # 모든 변수를 다 써준다.\n",
    "        super().__init__(name, age)\n",
    "        self.lang = lang"
   ]
  },
  {
   "cell_type": "code",
   "execution_count": 120,
   "id": "beb052bf-be46-4739-bacd-bb1a53d4d588",
   "metadata": {},
   "outputs": [],
   "source": [
    "k1 = Korean(\"한국어\", \"길동\", 22)"
   ]
  },
  {
   "cell_type": "code",
   "execution_count": 121,
   "id": "c3df4520-d9d6-473a-ad86-74b85ed21104",
   "metadata": {},
   "outputs": [
    {
     "data": {
      "text/plain": [
       "'한국어'"
      ]
     },
     "execution_count": 121,
     "metadata": {},
     "output_type": "execute_result"
    }
   ],
   "source": [
    "k1.lang"
   ]
  },
  {
   "cell_type": "code",
   "execution_count": 122,
   "id": "0ec5e460-82f0-434b-9104-1defa57446db",
   "metadata": {},
   "outputs": [
    {
     "data": {
      "text/plain": [
       "'길동'"
      ]
     },
     "execution_count": 122,
     "metadata": {},
     "output_type": "execute_result"
    }
   ],
   "source": [
    "k1.name"
   ]
  },
  {
   "cell_type": "markdown",
   "id": "9fe7775a-c2a6-4ace-819a-d70cf63a2fc1",
   "metadata": {},
   "source": [
    "## 예외처리\n",
    "- 에러처리    #except를 에러라고 읽어주기"
   ]
  },
  {
   "cell_type": "code",
   "execution_count": 143,
   "id": "337bf485-31c5-4e57-84e7-45aa87caf779",
   "metadata": {},
   "outputs": [
    {
     "name": "stdout",
     "output_type": "stream",
     "text": [
      "Hello\n",
      "Good\n"
     ]
    },
    {
     "ename": "IndexError",
     "evalue": "list index out of range",
     "output_type": "error",
     "traceback": [
      "\u001b[1;31m---------------------------------------------------------------------------\u001b[0m",
      "\u001b[1;31mIndexError\u001b[0m                                Traceback (most recent call last)",
      "Input \u001b[1;32mIn [143]\u001b[0m, in \u001b[0;36m<cell line: 2>\u001b[1;34m()\u001b[0m\n\u001b[0;32m      1\u001b[0m a \u001b[38;5;241m=\u001b[39m [\u001b[38;5;124m\"\u001b[39m\u001b[38;5;124mHello\u001b[39m\u001b[38;5;124m\"\u001b[39m, \u001b[38;5;124m\"\u001b[39m\u001b[38;5;124mGood\u001b[39m\u001b[38;5;124m\"\u001b[39m]\n\u001b[0;32m      2\u001b[0m \u001b[38;5;28;01mfor\u001b[39;00m i \u001b[38;5;129;01min\u001b[39;00m \u001b[38;5;28mrange\u001b[39m(\u001b[38;5;241m3\u001b[39m):\n\u001b[1;32m----> 3\u001b[0m     \u001b[38;5;28mprint\u001b[39m(\u001b[43ma\u001b[49m\u001b[43m[\u001b[49m\u001b[43mi\u001b[49m\u001b[43m]\u001b[49m)\n",
      "\u001b[1;31mIndexError\u001b[0m: list index out of range"
     ]
    }
   ],
   "source": [
    "a = [\"Hello\", \"Good\"]\n",
    "for i in range(3):\n",
    "    print(a[i])"
   ]
  },
  {
   "cell_type": "markdown",
   "id": "7c3e8872-c80a-4f2a-aa40-e21de7625129",
   "metadata": {},
   "source": [
    "헬로와 굿은 있지만 세번째는 없어서 에러가 발생했다."
   ]
  },
  {
   "cell_type": "code",
   "execution_count": 146,
   "id": "fbd93e80-5a49-4cb2-af81-cccfafbe6f1d",
   "metadata": {},
   "outputs": [
    {
     "name": "stdout",
     "output_type": "stream",
     "text": [
      "Hello\n",
      "Good\n",
      "에러입니다.\n"
     ]
    }
   ],
   "source": [
    "a = [\"Hello\", \"Good\"]\n",
    "try:\n",
    "    for i in range(3):\n",
    "        print(a[i])\n",
    "except:           #에러는 이렇게 처리해줘! 라고 명령하는것\n",
    "    print(\"에러입니다.\")"
   ]
  },
  {
   "cell_type": "code",
   "execution_count": 148,
   "id": "0a72bb54-6b2f-4509-a173-9fffab995770",
   "metadata": {},
   "outputs": [
    {
     "name": "stdout",
     "output_type": "stream",
     "text": [
      "2.0\n"
     ]
    },
    {
     "ename": "ZeroDivisionError",
     "evalue": "division by zero",
     "output_type": "error",
     "traceback": [
      "\u001b[1;31m---------------------------------------------------------------------------\u001b[0m",
      "\u001b[1;31mZeroDivisionError\u001b[0m                         Traceback (most recent call last)",
      "Input \u001b[1;32mIn [148]\u001b[0m, in \u001b[0;36m<cell line: 2>\u001b[1;34m()\u001b[0m\n\u001b[0;32m      1\u001b[0m \u001b[38;5;28mprint\u001b[39m(\u001b[38;5;241m4\u001b[39m\u001b[38;5;241m/\u001b[39m\u001b[38;5;241m2\u001b[39m)\n\u001b[1;32m----> 2\u001b[0m \u001b[38;5;28mprint\u001b[39m(\u001b[38;5;241;43m4\u001b[39;49m\u001b[38;5;241;43m/\u001b[39;49m\u001b[38;5;241;43m0\u001b[39;49m)\n",
      "\u001b[1;31mZeroDivisionError\u001b[0m: division by zero"
     ]
    }
   ],
   "source": [
    "print(4/2)\n",
    "print(4/0)"
   ]
  },
  {
   "cell_type": "markdown",
   "id": "189f2e20-8245-4d0f-94d7-86f831a7e53b",
   "metadata": {},
   "source": [
    "한 개는 되고 한 개는 안된 상황이다."
   ]
  },
  {
   "cell_type": "code",
   "execution_count": 149,
   "id": "f8c0afa8-6c5d-4819-abed-4c7460dc2db8",
   "metadata": {},
   "outputs": [
    {
     "name": "stdout",
     "output_type": "stream",
     "text": [
      "2.0\n",
      "에러입니다.\n"
     ]
    }
   ],
   "source": [
    "try:\n",
    "    print(4/2)\n",
    "    print(4/0)\n",
    "except:\n",
    "    print('에러입니다.')"
   ]
  },
  {
   "cell_type": "code",
   "execution_count": 150,
   "id": "3f0b2d73-14f5-400c-b6c0-d386f74f07a0",
   "metadata": {},
   "outputs": [
    {
     "name": "stdout",
     "output_type": "stream",
     "text": [
      "2.0\n"
     ]
    },
    {
     "ename": "ZeroDivisionError",
     "evalue": "division by zero",
     "output_type": "error",
     "traceback": [
      "\u001b[1;31m---------------------------------------------------------------------------\u001b[0m",
      "\u001b[1;31mZeroDivisionError\u001b[0m                         Traceback (most recent call last)",
      "Input \u001b[1;32mIn [150]\u001b[0m, in \u001b[0;36m<cell line: 3>\u001b[1;34m()\u001b[0m\n\u001b[0;32m      1\u001b[0m \u001b[38;5;66;03m#try:\u001b[39;00m\n\u001b[0;32m      2\u001b[0m \u001b[38;5;28mprint\u001b[39m(\u001b[38;5;241m4\u001b[39m\u001b[38;5;241m/\u001b[39m\u001b[38;5;241m2\u001b[39m)\n\u001b[1;32m----> 3\u001b[0m \u001b[38;5;28mprint\u001b[39m(\u001b[38;5;241;43m4\u001b[39;49m\u001b[38;5;241;43m/\u001b[39;49m\u001b[38;5;241;43m0\u001b[39;49m)\n\u001b[0;32m      4\u001b[0m \u001b[38;5;66;03m#except:\u001b[39;00m\n\u001b[0;32m      5\u001b[0m \u001b[38;5;28mprint\u001b[39m(\u001b[38;5;124m'\u001b[39m\u001b[38;5;124m에러입니다.\u001b[39m\u001b[38;5;124m'\u001b[39m)\n",
      "\u001b[1;31mZeroDivisionError\u001b[0m: division by zero"
     ]
    }
   ],
   "source": [
    "#try:\n",
    "print(4/2)\n",
    "print(4/0)\n",
    "#except:\n",
    "print('에러입니다.')"
   ]
  },
  {
   "cell_type": "markdown",
   "id": "c492cfa6-ea6a-4393-a2fa-0f3729e1f4c9",
   "metadata": {},
   "source": [
    "ZeroDivisionError: division by zero 0으로 나눴다고 에러 뜸."
   ]
  },
  {
   "cell_type": "code",
   "execution_count": 153,
   "id": "099407fe-b59e-4541-ad51-b4ee87428fda",
   "metadata": {},
   "outputs": [
    {
     "name": "stdout",
     "output_type": "stream",
     "text": [
      "2.0\n",
      "division by zero\n",
      "에러입니다.\n"
     ]
    }
   ],
   "source": [
    "try:\n",
    "    print(4/2)\n",
    "    print(4/0)\n",
    "except ZeroDivisionError as e :\n",
    "    print(e)\n",
    "    print('에러입니다.')"
   ]
  },
  {
   "cell_type": "markdown",
   "id": "a7d354e9-c6a1-4b82-bfe0-0a16e367468c",
   "metadata": {},
   "source": [
    "```\n",
    "에러처리 방법\n",
    "\n",
    "1. 일반적인 에러처리\n",
    "2. 에러의 종류에 맞는 에러처리\n",
    "\n",
    "현재 이렇게 2개의 처리 방법을 했다.\n",
    "```"
   ]
  },
  {
   "cell_type": "code",
   "execution_count": 155,
   "id": "0f1d0973-8b38-4dcb-a2d9-311a05805984",
   "metadata": {},
   "outputs": [
    {
     "name": "stdout",
     "output_type": "stream",
     "text": [
      "Hello\n",
      "Good\n",
      "에러입니다\n"
     ]
    }
   ],
   "source": [
    "a = [\"Hello\", \"Good\"]\n",
    "try:\n",
    "    for i in range(3):\n",
    "        print(a[i])\n",
    "except:\n",
    "    print(\"에러입니다\")"
   ]
  },
  {
   "cell_type": "code",
   "execution_count": 156,
   "id": "ee0e1379-228d-43c6-b5a2-460e71aefaaa",
   "metadata": {},
   "outputs": [
    {
     "name": "stdout",
     "output_type": "stream",
     "text": [
      "Hello\n",
      "Good\n",
      "list index out of range\n"
     ]
    }
   ],
   "source": [
    "a = [\"Hello\", \"Good\"]\n",
    "try:\n",
    "    for i in range(3):\n",
    "        print(a[i])\n",
    "except IndexError as e:\n",
    "    print(e) "
   ]
  },
  {
   "cell_type": "markdown",
   "id": "c8f5e108-c37f-468f-8976-ea4ce6f8770b",
   "metadata": {},
   "source": [
    "## 내장함수"
   ]
  },
  {
   "cell_type": "code",
   "execution_count": 162,
   "id": "880d612a-3ff7-4b23-bcaa-73da1d1878c8",
   "metadata": {},
   "outputs": [
    {
     "name": "stdout",
     "output_type": "stream",
     "text": [
      "a\n",
      "b\n",
      "c\n"
     ]
    }
   ],
   "source": [
    "a = ['a','b','c']\n",
    "for i in a:\n",
    "    print(i)"
   ]
  },
  {
   "cell_type": "markdown",
   "id": "1325baed-8979-4dbe-bb65-4cb58ad4f060",
   "metadata": {},
   "source": [
    "인덱스까지 같이 보고싶다면 enumerate를 사용한다."
   ]
  },
  {
   "cell_type": "code",
   "execution_count": 163,
   "id": "0a378642-9f6a-4ef4-be87-ef7c8d0940e4",
   "metadata": {},
   "outputs": [
    {
     "name": "stdout",
     "output_type": "stream",
     "text": [
      "(0, 'a')\n",
      "(1, 'b')\n",
      "(2, 'c')\n"
     ]
    }
   ],
   "source": [
    "for i in enumerate(a):\n",
    "    print(i)"
   ]
  },
  {
   "cell_type": "code",
   "execution_count": 164,
   "id": "83e29c63-c8a7-434b-815b-5e80a13312e5",
   "metadata": {},
   "outputs": [
    {
     "name": "stdout",
     "output_type": "stream",
     "text": [
      "0 a\n",
      "1 b\n",
      "2 c\n"
     ]
    }
   ],
   "source": [
    "for i, j in enumerate(a):\n",
    "    print(i, j)"
   ]
  },
  {
   "cell_type": "code",
   "execution_count": 165,
   "id": "feb7b7a1-ac23-4514-a0aa-003906e8be49",
   "metadata": {},
   "outputs": [],
   "source": [
    "d = {'a':0, 'b':1, \"c\":2}"
   ]
  },
  {
   "cell_type": "code",
   "execution_count": 166,
   "id": "778cd60c-7685-4829-b50e-8507b394f2c7",
   "metadata": {},
   "outputs": [
    {
     "data": {
      "text/plain": [
       "{'a': 0, 'b': 1, 'c': 2}"
      ]
     },
     "execution_count": 166,
     "metadata": {},
     "output_type": "execute_result"
    }
   ],
   "source": [
    "d"
   ]
  },
  {
   "cell_type": "markdown",
   "id": "fa470f4c-7078-4171-87de-85b0397c534d",
   "metadata": {},
   "source": [
    "```\n",
    "a = ['a','b','c'] 일때\n",
    "위의 d와 같은 딕셔너리 c를 만들어라. (enumerate를 사용하여)\n",
    "```"
   ]
  },
  {
   "cell_type": "code",
   "execution_count": 173,
   "id": "97350fa8-fcdd-452c-864d-a7321ea10978",
   "metadata": {},
   "outputs": [
    {
     "name": "stdout",
     "output_type": "stream",
     "text": [
      "{'a': 0, 'b': 1, 'c': 2}\n"
     ]
    }
   ],
   "source": [
    "c = {}\n",
    "for i, j in enumerate(a):\n",
    "    c[j] = i\n",
    "print(c) "
   ]
  },
  {
   "cell_type": "markdown",
   "id": "24028a00-5ff1-4f20-8202-040b42210f8c",
   "metadata": {},
   "source": [
    "- filter\n",
    "```\n",
    "- filter(함수이름, 자료)\n",
    "- 들어가는 함수는 참,거짓을 아웃풋으로 내야한다.\n",
    "- 원소 하나하나에 대하여 함수를 적용시켜주는 함수 = map\n",
    "```"
   ]
  },
  {
   "cell_type": "code",
   "execution_count": 180,
   "id": "ee53bd0e-1c72-49c0-a24a-27d0b2a4b92a",
   "metadata": {},
   "outputs": [
    {
     "ename": "TypeError",
     "evalue": "'>' not supported between instances of 'list' and 'int'",
     "output_type": "error",
     "traceback": [
      "\u001b[1;31m---------------------------------------------------------------------------\u001b[0m",
      "\u001b[1;31mTypeError\u001b[0m                                 Traceback (most recent call last)",
      "Input \u001b[1;32mIn [180]\u001b[0m, in \u001b[0;36m<cell line: 2>\u001b[1;34m()\u001b[0m\n\u001b[0;32m      1\u001b[0m a \u001b[38;5;241m=\u001b[39m [\u001b[38;5;241m1\u001b[39m, \u001b[38;5;241m-\u001b[39m\u001b[38;5;241m3\u001b[39m, \u001b[38;5;241m2\u001b[39m, \u001b[38;5;241m0\u001b[39m, \u001b[38;5;241m-\u001b[39m\u001b[38;5;241m5\u001b[39m, \u001b[38;5;241m6\u001b[39m]\n\u001b[1;32m----> 2\u001b[0m \u001b[38;5;28mprint\u001b[39m(\u001b[43ma\u001b[49m\u001b[43m \u001b[49m\u001b[38;5;241;43m>\u001b[39;49m\u001b[43m \u001b[49m\u001b[38;5;241;43m0\u001b[39;49m)\n",
      "\u001b[1;31mTypeError\u001b[0m: '>' not supported between instances of 'list' and 'int'"
     ]
    }
   ],
   "source": [
    "a = [1, -3, 2, 0, -5, 6]\n",
    "print(a > 0)"
   ]
  },
  {
   "cell_type": "markdown",
   "id": "dba36deb-5f26-422f-b870-42c1dce8e730",
   "metadata": {},
   "source": [
    "리스트기 때문에 하나하나 비교하는게 아니라 리스트 즉 1개로 보기 때문에\n",
    "\n",
    "오류가 발생한다.\n",
    "\n",
    "그래서 필터를 사용하면 함수의 조건에 맞는 것을 하나하나 비교해주기 때문에 필요하다."
   ]
  },
  {
   "cell_type": "code",
   "execution_count": 178,
   "id": "48751d1f-e22e-4f8f-827d-36608fd29553",
   "metadata": {},
   "outputs": [
    {
     "data": {
      "text/plain": [
       "False"
      ]
     },
     "execution_count": 178,
     "metadata": {},
     "output_type": "execute_result"
    }
   ],
   "source": [
    "def positive(a):\n",
    "    return a > 0    #참, 거짓으로 return값이 나온다.\n",
    "positive(-3)"
   ]
  },
  {
   "cell_type": "code",
   "execution_count": 179,
   "id": "96f04687-199e-4213-9e59-70d950772352",
   "metadata": {},
   "outputs": [
    {
     "data": {
      "text/plain": [
       "[1, 2, 6]"
      ]
     },
     "execution_count": 179,
     "metadata": {},
     "output_type": "execute_result"
    }
   ],
   "source": [
    "a = [1, -3, 2, 0, -5, 6]\n",
    "list(filter(positive, a))"
   ]
  },
  {
   "cell_type": "code",
   "execution_count": 183,
   "id": "b636ff4c-39ba-43bd-b246-ea44695be248",
   "metadata": {},
   "outputs": [
    {
     "data": {
      "text/plain": [
       "[1, 2, 6]"
      ]
     },
     "execution_count": 183,
     "metadata": {},
     "output_type": "execute_result"
    }
   ],
   "source": [
    "#lambda 함수 사용\n",
    "a = [1, -3, 2, 0, -5, 6]\n",
    "list(filter(lambda a: a>0, a))"
   ]
  },
  {
   "cell_type": "code",
   "execution_count": 184,
   "id": "13dac6eb-52cc-4b91-969e-e9e8eda9713c",
   "metadata": {},
   "outputs": [
    {
     "data": {
      "text/plain": [
       "array([ 1, -3,  2,  0, -5,  6])"
      ]
     },
     "execution_count": 184,
     "metadata": {},
     "output_type": "execute_result"
    }
   ],
   "source": [
    "#a = [1, -3, 2, 0, -5, 6]\n",
    "#print(a > 0)\n",
    "\n",
    "import numpy as np\n",
    "a = np.array([1,-3, 2, 0, -5, 6])\n",
    "a"
   ]
  },
  {
   "cell_type": "code",
   "execution_count": 186,
   "id": "fb5f6448-ba63-4a74-a365-abfb11223f0e",
   "metadata": {},
   "outputs": [
    {
     "data": {
      "text/plain": [
       "array([ True, False,  True, False, False,  True])"
      ]
     },
     "execution_count": 186,
     "metadata": {},
     "output_type": "execute_result"
    }
   ],
   "source": [
    "a>0          # numpy를 사용하니 에러가 발생하지 않음."
   ]
  },
  {
   "cell_type": "code",
   "execution_count": 187,
   "id": "74846487-832f-4e60-b977-9962792b8cf9",
   "metadata": {},
   "outputs": [
    {
     "data": {
      "text/plain": [
       "array([1, 2, 6])"
      ]
     },
     "execution_count": 187,
     "metadata": {},
     "output_type": "execute_result"
    }
   ],
   "source": [
    "a[ a>0 ]"
   ]
  },
  {
   "cell_type": "code",
   "execution_count": null,
   "id": "3e375752-0c70-4fc7-ae3b-2692e859e82b",
   "metadata": {},
   "outputs": [],
   "source": []
  }
 ],
 "metadata": {
  "kernelspec": {
   "display_name": "Python 3 (ipykernel)",
   "language": "python",
   "name": "python3"
  },
  "language_info": {
   "codemirror_mode": {
    "name": "ipython",
    "version": 3
   },
   "file_extension": ".py",
   "mimetype": "text/x-python",
   "name": "python",
   "nbconvert_exporter": "python",
   "pygments_lexer": "ipython3",
   "version": "3.10.6"
  }
 },
 "nbformat": 4,
 "nbformat_minor": 5
}
