{
 "cells": [
  {
   "cell_type": "markdown",
   "id": "064b08b0-75ac-4395-a005-63d8ef9b3f51",
   "metadata": {},
   "source": [
    "# 내장 자료구조, 함수, 파일"
   ]
  },
  {
   "cell_type": "markdown",
   "id": "347aeed6-9327-45b8-b00d-be990b631d7b",
   "metadata": {},
   "source": [
    "### enumerate"
   ]
  },
  {
   "cell_type": "code",
   "execution_count": 3,
   "id": "685aae7e-2c58-4f8c-9c79-8bc3cabaf6da",
   "metadata": {},
   "outputs": [
    {
     "data": {
      "text/plain": [
       "{'foo': 0, 'bar': 1, 'baz': 2}"
      ]
     },
     "execution_count": 3,
     "metadata": {},
     "output_type": "execute_result"
    }
   ],
   "source": [
    "li = ['foo','bar','baz']\n",
    "mapping = {}\n",
    "\n",
    "for i, v in enumerate(li):\n",
    "    mapping[v] = i\n",
    "    \n",
    "mapping"
   ]
  },
  {
   "cell_type": "code",
   "execution_count": 8,
   "id": "770271d6-2d54-4a0c-93e7-4e5fb0f237bc",
   "metadata": {},
   "outputs": [
    {
     "data": {
      "text/plain": [
       "{0: 'apple', 1: 'banana', 2: 'cherry', 3: 'date'}"
      ]
     },
     "execution_count": 8,
     "metadata": {},
     "output_type": "execute_result"
    }
   ],
   "source": [
    "#다음을 인텍스로 하는 딕셔너리로 만들기\n",
    "\n",
    "li = ['apple', 'banana', 'cherry', 'date']\n",
    "\n",
    "{i:j for i,j in enumerate(li)}"
   ]
  },
  {
   "cell_type": "markdown",
   "id": "0ffa4dc8-31ab-4956-8dfe-1fcbb51fa13a",
   "metadata": {},
   "source": [
    "### sorted\n",
    "- 정렬"
   ]
  },
  {
   "cell_type": "code",
   "execution_count": 5,
   "id": "3204e7f7-f739-4139-b3c9-475e4f680343",
   "metadata": {},
   "outputs": [
    {
     "data": {
      "text/plain": [
       "[2, 2, 3, 4, 4, 5, 5, 6, 6]"
      ]
     },
     "execution_count": 5,
     "metadata": {},
     "output_type": "execute_result"
    }
   ],
   "source": [
    "sorted([6,5,6,2,4,3,5,2,4])"
   ]
  },
  {
   "cell_type": "markdown",
   "id": "7a031be2-60e8-4340-9ad1-fee15314f700",
   "metadata": {},
   "source": [
    "### zip \n",
    "- 다른 순차 자료형과 짝지어줌"
   ]
  },
  {
   "cell_type": "code",
   "execution_count": 11,
   "id": "9fc55645-8d26-4229-bed5-80bd1e11971b",
   "metadata": {},
   "outputs": [
    {
     "data": {
      "text/plain": [
       "[('foo', 'one'), ('bar', 'two'), ('baz', 'three')]"
      ]
     },
     "execution_count": 11,
     "metadata": {},
     "output_type": "execute_result"
    }
   ],
   "source": [
    "a = ['foo', 'bar', 'baz']\n",
    "b = ['one', 'two', 'three']\n",
    "\n",
    "zipping = zip(a,b)\n",
    "list(zipping)"
   ]
  },
  {
   "cell_type": "markdown",
   "id": "1798cb57-5c7c-47e2-ba57-cdafd26f893a",
   "metadata": {},
   "source": [
    "- zip과 enumerate가 함께 사용 가능"
   ]
  },
  {
   "cell_type": "code",
   "execution_count": 13,
   "id": "edabdd98-64e1-476e-bd7a-2862d416d43b",
   "metadata": {},
   "outputs": [
    {
     "name": "stdout",
     "output_type": "stream",
     "text": [
      "0: foo,one\n",
      "1: bar,two\n",
      "2: baz,three\n"
     ]
    }
   ],
   "source": [
    "for i, (c,d) in enumerate(zip(a, b)):\n",
    "    print('{0}: {1},{2}'.format(i,c,d))"
   ]
  },
  {
   "cell_type": "markdown",
   "id": "da1c3ac4-d120-4ecc-b8b0-2a3917eeed86",
   "metadata": {},
   "source": [
    "### reversed\n",
    "- 역순"
   ]
  },
  {
   "cell_type": "code",
   "execution_count": 19,
   "id": "7bb0e713-9b7e-4a2a-9bef-0c47989489ce",
   "metadata": {},
   "outputs": [
    {
     "data": {
      "text/plain": [
       "[5, 4, 3, 2, 1]"
      ]
     },
     "execution_count": 19,
     "metadata": {},
     "output_type": "execute_result"
    }
   ],
   "source": [
    "a = [1,2,3,4,5]\n",
    "\n",
    "list(reversed(a))"
   ]
  },
  {
   "cell_type": "markdown",
   "id": "e3b90c85-ae96-4a28-bd4a-8b74ff7da4f1",
   "metadata": {},
   "source": [
    "## 사전"
   ]
  },
  {
   "cell_type": "code",
   "execution_count": 20,
   "id": "5fa4efba-f948-465b-b02e-5ab38ca179ba",
   "metadata": {},
   "outputs": [
    {
     "data": {
      "text/plain": [
       "{'a': 'some value', 'b': [1, 2, 3, 4]}"
      ]
     },
     "execution_count": 20,
     "metadata": {},
     "output_type": "execute_result"
    }
   ],
   "source": [
    "empty_dict = {}\n",
    "d1 = {'a' : 'some value', 'b':[1,2,3,4]}\n",
    "d1"
   ]
  },
  {
   "cell_type": "markdown",
   "id": "8117b1a0-f920-420f-aaa7-ab13645e5ba9",
   "metadata": {},
   "source": [
    "### keys"
   ]
  },
  {
   "cell_type": "code",
   "execution_count": 23,
   "id": "b93a55da-fa7a-4514-b9b6-5c3d2bb7c8d5",
   "metadata": {},
   "outputs": [
    {
     "data": {
      "text/plain": [
       "['a', 'b']"
      ]
     },
     "execution_count": 23,
     "metadata": {},
     "output_type": "execute_result"
    }
   ],
   "source": [
    "list(d1.keys())"
   ]
  },
  {
   "cell_type": "markdown",
   "id": "26cdea8d-c546-43bd-9d0d-a9f52caef2ab",
   "metadata": {},
   "source": [
    "### values"
   ]
  },
  {
   "cell_type": "code",
   "execution_count": 24,
   "id": "c8f485a1-8629-409e-b4b6-137f90e72b2c",
   "metadata": {},
   "outputs": [
    {
     "data": {
      "text/plain": [
       "['some value', [1, 2, 3, 4]]"
      ]
     },
     "execution_count": 24,
     "metadata": {},
     "output_type": "execute_result"
    }
   ],
   "source": [
    "list(d1.values())"
   ]
  },
  {
   "cell_type": "markdown",
   "id": "82daf7e0-cb0f-4058-954d-c68b3b23bdbf",
   "metadata": {},
   "source": [
    "### update\n",
    "- 다른 사전과 합치기"
   ]
  },
  {
   "cell_type": "code",
   "execution_count": 25,
   "id": "e518dd3f-b3b2-4617-bb17-520706fd944b",
   "metadata": {},
   "outputs": [
    {
     "data": {
      "text/plain": [
       "{'a': 'some value', 'b': 'foo', 'c': '12'}"
      ]
     },
     "execution_count": 25,
     "metadata": {},
     "output_type": "execute_result"
    }
   ],
   "source": [
    "d1.update({'b':'foo', 'c':'12'})\n",
    "d1"
   ]
  },
  {
   "cell_type": "markdown",
   "id": "f06e0f98-3216-4c02-884a-dfc424298a20",
   "metadata": {},
   "source": [
    "## 집합"
   ]
  },
  {
   "cell_type": "markdown",
   "id": "db469a74-e461-48c9-9529-51254128ba88",
   "metadata": {},
   "source": [
    "### set\n",
    "- 집합 생성"
   ]
  },
  {
   "cell_type": "code",
   "execution_count": 26,
   "id": "58912d46-7385-4ca5-b173-3a162ece9c52",
   "metadata": {},
   "outputs": [
    {
     "data": {
      "text/plain": [
       "{1, 2, 3, 4, 5}"
      ]
     },
     "execution_count": 26,
     "metadata": {},
     "output_type": "execute_result"
    }
   ],
   "source": [
    "set([1,2,3,4,4,5])"
   ]
  },
  {
   "cell_type": "markdown",
   "id": "b1b28631-6542-419b-a872-3792e0c83687",
   "metadata": {},
   "source": [
    "- 합집합 -> |"
   ]
  },
  {
   "cell_type": "code",
   "execution_count": 28,
   "id": "daf4511c-59ea-4afb-bac9-a74c36816f6a",
   "metadata": {},
   "outputs": [
    {
     "data": {
      "text/plain": [
       "{1, 2, 3, 4, 5, 6}"
      ]
     },
     "execution_count": 28,
     "metadata": {},
     "output_type": "execute_result"
    }
   ],
   "source": [
    "a = {1,2,3,4}\n",
    "b = {3,4,5,6}\n",
    "\n",
    "a|b"
   ]
  },
  {
   "cell_type": "markdown",
   "id": "b48952b5-e148-4246-8665-d7e4be550743",
   "metadata": {},
   "source": [
    "- 교집합 -> intersection"
   ]
  },
  {
   "cell_type": "code",
   "execution_count": 29,
   "id": "d1e17233-9cb7-463c-a61e-ed5191059471",
   "metadata": {},
   "outputs": [
    {
     "data": {
      "text/plain": [
       "{3, 4}"
      ]
     },
     "execution_count": 29,
     "metadata": {},
     "output_type": "execute_result"
    }
   ],
   "source": [
    "a.intersection(b)"
   ]
  },
  {
   "cell_type": "markdown",
   "id": "64a3c01c-215d-4e40-8138-6774704b3fd7",
   "metadata": {},
   "source": [
    "## 리스트, 집합, 사전 표기법"
   ]
  },
  {
   "cell_type": "code",
   "execution_count": null,
   "id": "e8cc5653-9fb1-426c-b2b2-8205a14cd567",
   "metadata": {},
   "outputs": [],
   "source": [
    "result = []\n",
    "for val in collection:\n",
    "    if condition:\n",
    "        result.append(expr)"
   ]
  },
  {
   "cell_type": "code",
   "execution_count": null,
   "id": "f20f4410-7f6e-4d0f-832a-1c6df307912c",
   "metadata": {},
   "outputs": [],
   "source": [
    "expr for val in collection if condition  # 위 아래 같은 문장(리스트 표기법)"
   ]
  },
  {
   "cell_type": "code",
   "execution_count": 3,
   "id": "253096c0-d91e-4efd-b8e5-463553c9291d",
   "metadata": {},
   "outputs": [],
   "source": [
    "#중첩된 리스트 표기법\n",
    "\n",
    "all_data = [['John','Emily','Michael','Mary','Steven'],\n",
    "            ['Maria','Juan','Javier','Natalia','Pilar']]"
   ]
  },
  {
   "cell_type": "code",
   "execution_count": 21,
   "id": "a332b9ba-a929-4b9f-9f62-697c1578fdad",
   "metadata": {},
   "outputs": [
    {
     "data": {
      "text/plain": [
       "['Steven']"
      ]
     },
     "execution_count": 21,
     "metadata": {},
     "output_type": "execute_result"
    }
   ],
   "source": [
    "a = [name for i in all_data for name in i\n",
    "     if name.count('e') >= 2]\n",
    "\n",
    "list(a)"
   ]
  },
  {
   "cell_type": "code",
   "execution_count": 22,
   "id": "7831307c-1973-4286-ac05-1095b0b6ce65",
   "metadata": {},
   "outputs": [
    {
     "data": {
      "text/plain": [
       "[1, 2, 3, 4, 5, 6, 7, 8, 9]"
      ]
     },
     "execution_count": 22,
     "metadata": {},
     "output_type": "execute_result"
    }
   ],
   "source": [
    "a = [(1,2,3),(4,5,6),(7,8,9)]\n",
    "c = [b for i in a for b in i]\n",
    "c"
   ]
  },
  {
   "cell_type": "markdown",
   "id": "10a03024-2000-43fa-8a69-cac70af94f9c",
   "metadata": {},
   "source": [
    "## 익명함수"
   ]
  },
  {
   "cell_type": "markdown",
   "id": "2e62b940-c135-4648-9e5d-eb7755424033",
   "metadata": {},
   "source": [
    "### lambda\n",
    "- '익명 함수를 선언한다'\n",
    "- (lambda 매개변수 : 표현식)(x,y의 각각 넣어줄 숫자)"
   ]
  },
  {
   "cell_type": "code",
   "execution_count": 29,
   "id": "ab972c03-b73c-41e0-9e33-0c10ca03171f",
   "metadata": {},
   "outputs": [
    {
     "data": {
      "text/plain": [
       "30"
      ]
     },
     "execution_count": 29,
     "metadata": {},
     "output_type": "execute_result"
    }
   ],
   "source": [
    "def hap(x, y):\n",
    "    return x + y\n",
    "\n",
    "hap(10, 20)   # 이 식을 간단하게 하면 밑에처럼 쓸 수 있다."
   ]
  },
  {
   "cell_type": "code",
   "execution_count": 30,
   "id": "bcf8e7d7-d3d7-45c1-b3ba-7c1b75b354b1",
   "metadata": {},
   "outputs": [
    {
     "data": {
      "text/plain": [
       "30"
      ]
     },
     "execution_count": 30,
     "metadata": {},
     "output_type": "execute_result"
    }
   ],
   "source": [
    "(lambda x,y : x+y)(10,20)"
   ]
  },
  {
   "cell_type": "code",
   "execution_count": null,
   "id": "cd00703f-d299-4c23-a8a6-f14ba0faac2d",
   "metadata": {},
   "outputs": [],
   "source": [
    "m = lambda x :x[0]  #이렇게도 쓰임"
   ]
  },
  {
   "cell_type": "markdown",
   "id": "ece5327a-249e-4736-accf-11d080cb35b5",
   "metadata": {},
   "source": [
    "## 제너레이터"
   ]
  },
  {
   "cell_type": "markdown",
   "id": "8b9a272c-241a-4fdb-9cb5-2803490aac79",
   "metadata": {},
   "source": [
    "### Iterable\n",
    "- 반복 가능한 객체\n",
    "- 대표적인 iterable한 타입 : list, dict, set, str, bytes, tuple, range"
   ]
  },
  {
   "cell_type": "markdown",
   "id": "694e1550-af02-4a15-9f69-2d2fe21dd507",
   "metadata": {},
   "source": [
    "### Iterator\n",
    "- 값을 차례대로 꺼낼 수 있는 객체\n",
    "- 파이썬 내장함수인 iter()를 사용해서 iterator 객체를 만들 수 있다."
   ]
  },
  {
   "cell_type": "markdown",
   "id": "f9aad451-1580-4a43-8b17-2777c16e02d1",
   "metadata": {},
   "source": [
    "### Generator\n",
    "- 순회 가능한 객체를 생성하는 간단한 방법, 함수안에 yield 키워드를 사용\n",
    "- yield 가 호출되면 암시적으로 return이 호출되며,\n",
    "\n",
    "  한번 더 실행되면 실행되었던 yield 다음 코드가 실행된다.\n",
    "- 특징\n",
    "   1. iterable한 순서가 지정됨(모든 generator는 iterator)\n",
    "   2. 무한한 순서가 있는 객체를 모델링할 수 있다.(for문에서 사용 가능)"
   ]
  },
  {
   "cell_type": "code",
   "execution_count": 40,
   "id": "7d18cb03-528a-45f9-bf21-50a8d57d37a2",
   "metadata": {},
   "outputs": [
    {
     "name": "stdout",
     "output_type": "stream",
     "text": [
      "A\n",
      "B\n",
      "C\n"
     ]
    }
   ],
   "source": [
    "a = {'A':1, 'B':2, 'C':3}\n",
    "\n",
    "for key in a:\n",
    "    print(key)"
   ]
  },
  {
   "cell_type": "code",
   "execution_count": 39,
   "id": "b1b3a0c1-67aa-4ebb-86bc-dbff85efcfe6",
   "metadata": {},
   "outputs": [
    {
     "name": "stdout",
     "output_type": "stream",
     "text": [
      "0\n",
      "1\n",
      "2\n",
      "3\n"
     ]
    }
   ],
   "source": [
    "def number_generator():\n",
    "    yield 0\n",
    "    yield 1\n",
    "    yield 2\n",
    "    yield 3\n",
    "\n",
    "for i in number_generator():\n",
    "    print(i)"
   ]
  },
  {
   "cell_type": "markdown",
   "id": "953308d6-2bbe-4d85-976b-e9fbe2142b8a",
   "metadata": {},
   "source": [
    "- 제너레이터 표현식"
   ]
  },
  {
   "cell_type": "code",
   "execution_count": 41,
   "id": "dafc3705-e328-4438-b408-85182a24b99b",
   "metadata": {},
   "outputs": [],
   "source": [
    "gen = (x**2 for x in range(100))"
   ]
  },
  {
   "cell_type": "code",
   "execution_count": 43,
   "id": "0dbc05aa-6bc0-488c-9c23-d10c25203b72",
   "metadata": {},
   "outputs": [],
   "source": [
    "def make_gen():\n",
    "    for x in range(100):\n",
    "        yield x**2"
   ]
  },
  {
   "cell_type": "markdown",
   "id": "9a4bb16b-d250-481b-8cf9-b6e3b02871eb",
   "metadata": {},
   "source": [
    "gen와 make_gen은 동일한 코드이다."
   ]
  },
  {
   "cell_type": "markdown",
   "id": "1704f287-8939-4d6b-b2df-dfc4b4a458c2",
   "metadata": {},
   "source": [
    "### itertools 모듈\n",
    "- 매개변수로 입력된 iterable 안에 있는 키를 확인 후,\n",
    "  \n",
    "  분류하여 동일한 키를 가진 element들을 해당 키를 기준으로\n",
    "  그룹지어 리턴한다."
   ]
  },
  {
   "cell_type": "code",
   "execution_count": 46,
   "id": "1e06da58-3107-4dce-b115-6268ceb096c2",
   "metadata": {},
   "outputs": [],
   "source": [
    "from itertools import groupby\n",
    "\n",
    "a = [('Europe', 'Manchester'),\n",
    "    ('Asia', 'Seoul'),\n",
    "    ('Asia', 'Tokyo'),\n",
    "    ('America', 'NewYork')]"
   ]
  },
  {
   "cell_type": "code",
   "execution_count": 48,
   "id": "b93cfab4-e623-4afc-90bd-4a927fe0207d",
   "metadata": {},
   "outputs": [
    {
     "name": "stdout",
     "output_type": "stream",
     "text": [
      "Europe: [('Europe', 'Manchester')]\n",
      "Asia: [('Asia', 'Seoul'), ('Asia', 'Tokyo')]\n",
      "America: [('America', 'NewYork')]\n"
     ]
    }
   ],
   "source": [
    "m = lambda x :x[0]\n",
    "g = groupby(a, m)\n",
    "\n",
    "for key, group in g:\n",
    "    print(key + ':', list(group))"
   ]
  },
  {
   "cell_type": "code",
   "execution_count": 83,
   "id": "3d65f95a-e463-4a6c-8bc8-43fafa61cc4b",
   "metadata": {},
   "outputs": [
    {
     "name": "stdout",
     "output_type": "stream",
     "text": [
      "A : ['Alan', 'Adam']\n",
      "W : ['Wes', 'Will']\n",
      "S : ['Steven']\n"
     ]
    }
   ],
   "source": [
    "name = ['Alan', 'Adam', 'Wes', 'Will', 'Steven']\n",
    "\n",
    "first_name = lambda x : x[0]\n",
    "g = groupby(name, first_name)\n",
    "\n",
    "for first, group in g:\n",
    "    print(first, ':', list(group))"
   ]
  },
  {
   "cell_type": "markdown",
   "id": "15890b88-3f5e-4d92-8b14-6414ea2831bc",
   "metadata": {},
   "source": [
    "# Numpy"
   ]
  },
  {
   "cell_type": "markdown",
   "id": "2dc98d0d-98c0-4ecb-b667-93d7e6903a4c",
   "metadata": {},
   "source": [
    "### array\n",
    "- 배열을 생성한다."
   ]
  },
  {
   "cell_type": "code",
   "execution_count": 86,
   "id": "bfdfb1eb-21fa-4b20-8814-8934837b4276",
   "metadata": {},
   "outputs": [
    {
     "data": {
      "text/plain": [
       "array([6. , 7.5, 8. , 0. , 1. ])"
      ]
     },
     "execution_count": 86,
     "metadata": {},
     "output_type": "execute_result"
    }
   ],
   "source": [
    "import numpy as np\n",
    "\n",
    "data1 = [6, 7.5, 8, 0, 1]\n",
    "arr1 = np.array(data1)\n",
    "arr1"
   ]
  },
  {
   "cell_type": "code",
   "execution_count": 87,
   "id": "41b4bcfc-de8a-4757-9d02-9449fa8df6a0",
   "metadata": {},
   "outputs": [
    {
     "data": {
      "text/plain": [
       "array([[1, 2, 3, 4],\n",
       "       [5, 6, 7, 8]])"
      ]
     },
     "execution_count": 87,
     "metadata": {},
     "output_type": "execute_result"
    }
   ],
   "source": [
    "data2 = [[1,2,3,4],[5,6,7,8]]\n",
    "arr2 = np.array(data2)\n",
    "arr2"
   ]
  },
  {
   "cell_type": "markdown",
   "id": "3955bfb1-0307-4fdd-92db-5c50fde5111e",
   "metadata": {},
   "source": [
    "```\n",
    "arr1은 1차원 형태로 생성되었고\n",
    "arr2는 해당 데이터로부터 형태를 추론해서 2차원 형태로 생성되었다.\n",
    "```"
   ]
  },
  {
   "cell_type": "code",
   "execution_count": 2,
   "id": "fff426d4-5ac0-49df-ac13-d0bc41ce4ff1",
   "metadata": {},
   "outputs": [
    {
     "data": {
      "text/plain": [
       "array([[[ 1,  2,  3],\n",
       "        [ 4,  5,  6]],\n",
       "\n",
       "       [[ 7,  8,  9],\n",
       "        [10, 11, 12]]])"
      ]
     },
     "execution_count": 2,
     "metadata": {},
     "output_type": "execute_result"
    }
   ],
   "source": [
    "import numpy as np\n",
    "a= np.arange(1,13).reshape(2,2,3)\n",
    "a"
   ]
  },
  {
   "cell_type": "markdown",
   "id": "1ba8684d-67ba-46a7-b44a-d52655d8c8c4",
   "metadata": {},
   "source": [
    "- np.zeros()"
   ]
  },
  {
   "cell_type": "code",
   "execution_count": 88,
   "id": "ac663131-bb7a-4457-ad1d-a0088c5d4dd4",
   "metadata": {},
   "outputs": [
    {
     "data": {
      "text/plain": [
       "array([[[0., 0.],\n",
       "        [0., 0.],\n",
       "        [0., 0.]],\n",
       "\n",
       "       [[0., 0.],\n",
       "        [0., 0.],\n",
       "        [0., 0.]]])"
      ]
     },
     "execution_count": 88,
     "metadata": {},
     "output_type": "execute_result"
    }
   ],
   "source": [
    "np.zeros((2,3,2))"
   ]
  },
  {
   "cell_type": "markdown",
   "id": "2497b072-2240-4760-9784-06bcce4e275a",
   "metadata": {},
   "source": [
    "- np.ones()"
   ]
  },
  {
   "cell_type": "code",
   "execution_count": 90,
   "id": "00c307c9-2eee-4be7-b8c2-c09976e7340f",
   "metadata": {},
   "outputs": [
    {
     "data": {
      "text/plain": [
       "array([[[1., 1.],\n",
       "        [1., 1.],\n",
       "        [1., 1.]],\n",
       "\n",
       "       [[1., 1.],\n",
       "        [1., 1.],\n",
       "        [1., 1.]]])"
      ]
     },
     "execution_count": 90,
     "metadata": {},
     "output_type": "execute_result"
    }
   ],
   "source": [
    "np.ones((2,3,2))"
   ]
  },
  {
   "cell_type": "markdown",
   "id": "9d664742-231e-420f-9f30-a2563405a692",
   "metadata": {},
   "source": [
    "- np.arange()"
   ]
  },
  {
   "cell_type": "code",
   "execution_count": 92,
   "id": "c51ae38c-0809-45b9-99a1-fb3386e56bca",
   "metadata": {},
   "outputs": [
    {
     "data": {
      "text/plain": [
       "array([ 0,  1,  2,  3,  4,  5,  6,  7,  8,  9, 10, 11, 12, 13, 14])"
      ]
     },
     "execution_count": 92,
     "metadata": {},
     "output_type": "execute_result"
    }
   ],
   "source": [
    "np.arange(15)"
   ]
  },
  {
   "cell_type": "markdown",
   "id": "c8630426-c0c0-4be5-a6c9-f70841ff2ff0",
   "metadata": {},
   "source": [
    "### astype('데이터타입')\n",
    "- 데이터 타입을 명시해준다."
   ]
  },
  {
   "cell_type": "code",
   "execution_count": 100,
   "id": "de44f478-9893-4c02-a05c-95f074fe7cb0",
   "metadata": {},
   "outputs": [
    {
     "data": {
      "text/plain": [
       "array([ 1.25, -9.6 , 42.  ])"
      ]
     },
     "execution_count": 100,
     "metadata": {},
     "output_type": "execute_result"
    }
   ],
   "source": [
    "a = np.array(['1.25', '-9.6', '42'])\n",
    "\n",
    "a = a.astype('float')\n",
    "a"
   ]
  },
  {
   "cell_type": "markdown",
   "id": "eb924f3e-aa7a-4577-83b9-ace7af3a1b5d",
   "metadata": {},
   "source": [
    "### 슬라이싱 기초"
   ]
  },
  {
   "cell_type": "code",
   "execution_count": 101,
   "id": "e8ce5244-9b08-4565-b3f7-a8efd2a5315e",
   "metadata": {},
   "outputs": [
    {
     "data": {
      "text/plain": [
       "array([0, 1, 2, 3, 4, 5, 6, 7, 8, 9])"
      ]
     },
     "execution_count": 101,
     "metadata": {},
     "output_type": "execute_result"
    }
   ],
   "source": [
    "arr = np.arange(10)\n",
    "arr"
   ]
  },
  {
   "cell_type": "code",
   "execution_count": 102,
   "id": "2d83845e-6e79-4759-9e82-c994d69a59b5",
   "metadata": {},
   "outputs": [
    {
     "data": {
      "text/plain": [
       "array([5, 6, 7])"
      ]
     },
     "execution_count": 102,
     "metadata": {},
     "output_type": "execute_result"
    }
   ],
   "source": [
    "arr[5:8]"
   ]
  },
  {
   "cell_type": "code",
   "execution_count": 103,
   "id": "3785e8a1-b545-4772-aaf8-92cebe494ad1",
   "metadata": {},
   "outputs": [],
   "source": [
    "arr[5:8] = 12"
   ]
  },
  {
   "cell_type": "code",
   "execution_count": 104,
   "id": "02f71df6-75dd-46a9-a9fc-7a4096f56ee8",
   "metadata": {},
   "outputs": [
    {
     "data": {
      "text/plain": [
       "array([ 0,  1,  2,  3,  4, 12, 12, 12,  8,  9])"
      ]
     },
     "execution_count": 104,
     "metadata": {},
     "output_type": "execute_result"
    }
   ],
   "source": [
    "arr"
   ]
  },
  {
   "cell_type": "markdown",
   "id": "e7089227-687e-45ec-baa4-a8aaf925ddae",
   "metadata": {},
   "source": [
    "리스트와의 중요한 차이점은 배열 조각은 원본 배열의 '뷰'라는 점이다.\n",
    "\n",
    "즉, 데이터는 복사되지 않고 뷰에 대한 변경은 그대로 원본 배열에 반영된다."
   ]
  },
  {
   "cell_type": "markdown",
   "id": "56096a50-c46d-4f7c-8c3f-29274e65252a",
   "metadata": {},
   "source": [
    "### 배열 전치와 축 바꾸기\n",
    "- transpose 메서드, T"
   ]
  },
  {
   "cell_type": "code",
   "execution_count": 10,
   "id": "1ca25c13-859e-4cb5-9477-319ba37481c7",
   "metadata": {},
   "outputs": [
    {
     "data": {
      "text/plain": [
       "array([[[ 0,  1,  2,  3],\n",
       "        [ 4,  5,  6,  7]],\n",
       "\n",
       "       [[ 8,  9, 10, 11],\n",
       "        [12, 13, 14, 15]]])"
      ]
     },
     "execution_count": 10,
     "metadata": {},
     "output_type": "execute_result"
    }
   ],
   "source": [
    "arr = np.arange(16).reshape((2,2,4))\n",
    "arr"
   ]
  },
  {
   "cell_type": "code",
   "execution_count": 11,
   "id": "2cacf7af-e6d7-448a-b60e-a7e9d97ea4da",
   "metadata": {},
   "outputs": [
    {
     "data": {
      "text/plain": [
       "array([[[ 0,  8],\n",
       "        [ 4, 12]],\n",
       "\n",
       "       [[ 1,  9],\n",
       "        [ 5, 13]],\n",
       "\n",
       "       [[ 2, 10],\n",
       "        [ 6, 14]],\n",
       "\n",
       "       [[ 3, 11],\n",
       "        [ 7, 15]]])"
      ]
     },
     "execution_count": 11,
     "metadata": {},
     "output_type": "execute_result"
    }
   ],
   "source": [
    "np.transpose(arr)"
   ]
  },
  {
   "cell_type": "code",
   "execution_count": 4,
   "id": "d7c9bceb-8b47-4a9c-bac2-4ce2e5cd9fba",
   "metadata": {},
   "outputs": [
    {
     "data": {
      "text/plain": [
       "array([[ 0,  1,  2,  3,  4],\n",
       "       [ 5,  6,  7,  8,  9],\n",
       "       [10, 11, 12, 13, 14]])"
      ]
     },
     "execution_count": 4,
     "metadata": {},
     "output_type": "execute_result"
    }
   ],
   "source": [
    "arr = np.arange(15).reshape((3,5))\n",
    "arr"
   ]
  },
  {
   "cell_type": "code",
   "execution_count": 5,
   "id": "156dceb9-7163-44de-a54c-90bcf936d1f2",
   "metadata": {},
   "outputs": [
    {
     "data": {
      "text/plain": [
       "array([[ 0,  5, 10],\n",
       "       [ 1,  6, 11],\n",
       "       [ 2,  7, 12],\n",
       "       [ 3,  8, 13],\n",
       "       [ 4,  9, 14]])"
      ]
     },
     "execution_count": 5,
     "metadata": {},
     "output_type": "execute_result"
    }
   ],
   "source": [
    "arr.T"
   ]
  },
  {
   "cell_type": "markdown",
   "id": "466de7a4-6225-429b-bf6b-0b6ed921546d",
   "metadata": {},
   "source": [
    "### 유니버설 함수\n",
    "- np.sqrt(a)->루트, np.exp(a)\n",
    "- np.add(a,b), np.maximum(a,b)\n",
    "- divmod( , ), np.modf(데이터) -> 몫과 나머지를 한번에 보여준다. "
   ]
  },
  {
   "cell_type": "code",
   "execution_count": 13,
   "id": "709cb17d-c591-4dc3-9468-5442ae57d989",
   "metadata": {},
   "outputs": [
    {
     "data": {
      "text/plain": [
       "array([[ 1,  2,  3,  4],\n",
       "       [ 5,  6,  7,  8],\n",
       "       [ 9, 10, 11, 12],\n",
       "       [13, 14, 15, 16]])"
      ]
     },
     "execution_count": 13,
     "metadata": {},
     "output_type": "execute_result"
    }
   ],
   "source": [
    "import numpy as np\n",
    "\n",
    "a = np.arange(1,17).reshape(4,4)\n",
    "a"
   ]
  },
  {
   "cell_type": "code",
   "execution_count": 14,
   "id": "6578aa82-f254-4d93-9309-540a595d0f25",
   "metadata": {},
   "outputs": [
    {
     "data": {
      "text/plain": [
       "array([[ 1.,  2.,  3.,  4.],\n",
       "       [ 5.,  6.,  7.,  8.],\n",
       "       [ 9., 10., 11., 12.],\n",
       "       [13., 14., 15., 16.]])"
      ]
     },
     "execution_count": 14,
     "metadata": {},
     "output_type": "execute_result"
    }
   ],
   "source": [
    "np.sqrt(a**2)"
   ]
  },
  {
   "cell_type": "code",
   "execution_count": 16,
   "id": "60459c16-a4e9-40c0-aa10-0e4d3f6b88c3",
   "metadata": {},
   "outputs": [
    {
     "name": "stdout",
     "output_type": "stream",
     "text": [
      "[[ 1  2  3  4]\n",
      " [ 5  6  7  8]\n",
      " [ 9 10 11 12]\n",
      " [13 14 15 16]]\n",
      "\n",
      "[[16 15 14 13]\n",
      " [12 11 10  9]\n",
      " [ 8  7  6  5]\n",
      " [ 4  3  2  1]]\n"
     ]
    }
   ],
   "source": [
    "a = np.arange(1,17).reshape(4,4)\n",
    "b = np.arange(16,0,-1).reshape(4,4)\n",
    "print(a)\n",
    "print()\n",
    "print(b)"
   ]
  },
  {
   "cell_type": "code",
   "execution_count": 17,
   "id": "dc45ef45-0f5f-4b28-84ad-c4db1be910e3",
   "metadata": {},
   "outputs": [
    {
     "data": {
      "text/plain": [
       "array([[16, 15, 14, 13],\n",
       "       [12, 11, 10,  9],\n",
       "       [ 9, 10, 11, 12],\n",
       "       [13, 14, 15, 16]])"
      ]
     },
     "execution_count": 17,
     "metadata": {},
     "output_type": "execute_result"
    }
   ],
   "source": [
    "np.maximum(a,b)"
   ]
  },
  {
   "cell_type": "code",
   "execution_count": 18,
   "id": "3cb51793-16f8-4273-bdb6-f6c302c480eb",
   "metadata": {},
   "outputs": [
    {
     "data": {
      "text/plain": [
       "(3, 1)"
      ]
     },
     "execution_count": 18,
     "metadata": {},
     "output_type": "execute_result"
    }
   ],
   "source": [
    "divmod(16, 5)"
   ]
  },
  {
   "cell_type": "code",
   "execution_count": 19,
   "id": "583a4522-4231-4749-a169-283b50fefee2",
   "metadata": {},
   "outputs": [
    {
     "data": {
      "text/plain": [
       "(array([[ 0.30398671,  0.635314  ,  0.90723258],\n",
       "        [ 0.04672458,  0.5569218 ,  0.66153258],\n",
       "        [-0.46103427,  0.58404013, -0.53375922]]),\n",
       " array([[ 0.,  0.,  0.],\n",
       "        [ 1.,  1.,  1.],\n",
       "        [-0.,  0., -0.]]))"
      ]
     },
     "execution_count": 19,
     "metadata": {},
     "output_type": "execute_result"
    }
   ],
   "source": [
    "a = np.random.randn(3,3)\n",
    "np.modf(a)"
   ]
  },
  {
   "cell_type": "markdown",
   "id": "7b0a14f6-9c96-412e-9510-5df56a676404",
   "metadata": {},
   "source": [
    "### meshgrid()\n",
    "- x값의 배열과 y값의 배열로 직사각형 격자를 만드는 것이 목적"
   ]
  },
  {
   "cell_type": "code",
   "execution_count": 20,
   "id": "6ade6e60-8126-4306-90da-b0536fe306cf",
   "metadata": {},
   "outputs": [
    {
     "data": {
      "text/plain": [
       "array([1, 2, 3])"
      ]
     },
     "execution_count": 20,
     "metadata": {},
     "output_type": "execute_result"
    }
   ],
   "source": [
    "points = np.arange(1,4)\n",
    "points"
   ]
  },
  {
   "cell_type": "code",
   "execution_count": 21,
   "id": "dfe4f12d-c735-447a-8bbb-ea1fb37a00b7",
   "metadata": {},
   "outputs": [
    {
     "data": {
      "text/plain": [
       "[array([[1, 2, 3],\n",
       "        [1, 2, 3],\n",
       "        [1, 2, 3]]),\n",
       " array([[1, 1, 1],\n",
       "        [2, 2, 2],\n",
       "        [3, 3, 3]])]"
      ]
     },
     "execution_count": 21,
     "metadata": {},
     "output_type": "execute_result"
    }
   ],
   "source": [
    "np.meshgrid(points, points)"
   ]
  },
  {
   "cell_type": "markdown",
   "id": "ce3571cb-64fa-4020-bc5a-816fbcf524ea",
   "metadata": {},
   "source": [
    "행으로 [1,2,3] 으로 나열 되고 다음에는 열로 [1,2,3]으로 나열되어 있다."
   ]
  },
  {
   "cell_type": "code",
   "execution_count": 23,
   "id": "9e778eed-cdd9-4c83-9719-033ec5602b7c",
   "metadata": {},
   "outputs": [
    {
     "data": {
      "text/plain": [
       "array([[1.41421356, 2.23606798, 3.16227766],\n",
       "       [2.23606798, 2.82842712, 3.60555128],\n",
       "       [3.16227766, 3.60555128, 4.24264069]])"
      ]
     },
     "execution_count": 23,
     "metadata": {},
     "output_type": "execute_result"
    }
   ],
   "source": [
    "xs, ys = np.meshgrid(points, points)\n",
    "\n",
    "z = np.sqrt(xs**2 + ys**2)\n",
    "z"
   ]
  },
  {
   "cell_type": "code",
   "execution_count": 24,
   "id": "d7f42f5e-ecce-49d4-805c-32c307458c21",
   "metadata": {},
   "outputs": [
    {
     "data": {
      "text/plain": [
       "<matplotlib.image.AxesImage at 0x2b4757bb310>"
      ]
     },
     "execution_count": 24,
     "metadata": {},
     "output_type": "execute_result"
    },
    {
     "data": {
      "image/png": "[encoded data removed]",
      "text/plain": [
       "<Figure size 640x480 with 1 Axes>"
      ]
     },
     "metadata": {},
     "output_type": "display_data"
    }
   ],
   "source": [
    "import matplotlib.pyplot as plt\n",
    "plt.imshow(z, cmap =plt.cm.gray)"
   ]
  },
  {
   "cell_type": "code",
   "execution_count": 25,
   "id": "5f906f55-1501-4c5e-a480-60771bdfb34f",
   "metadata": {
    "collapsed": true,
    "jupyter": {
     "outputs_hidden": true
    },
    "tags": []
   },
   "outputs": [
    {
     "name": "stdout",
     "output_type": "stream",
     "text": [
      "[-5.0000000e+00 -4.9900000e+00 -4.9800000e+00 -4.9700000e+00\n",
      " -4.9600000e+00 -4.9500000e+00 -4.9400000e+00 -4.9300000e+00\n",
      " -4.9200000e+00 -4.9100000e+00 -4.9000000e+00 -4.8900000e+00\n",
      " -4.8800000e+00 -4.8700000e+00 -4.8600000e+00 -4.8500000e+00\n",
      " -4.8400000e+00 -4.8300000e+00 -4.8200000e+00 -4.8100000e+00\n",
      " -4.8000000e+00 -4.7900000e+00 -4.7800000e+00 -4.7700000e+00\n",
      " -4.7600000e+00 -4.7500000e+00 -4.7400000e+00 -4.7300000e+00\n",
      " -4.7200000e+00 -4.7100000e+00 -4.7000000e+00 -4.6900000e+00\n",
      " -4.6800000e+00 -4.6700000e+00 -4.6600000e+00 -4.6500000e+00\n",
      " -4.6400000e+00 -4.6300000e+00 -4.6200000e+00 -4.6100000e+00\n",
      " -4.6000000e+00 -4.5900000e+00 -4.5800000e+00 -4.5700000e+00\n",
      " -4.5600000e+00 -4.5500000e+00 -4.5400000e+00 -4.5300000e+00\n",
      " -4.5200000e+00 -4.5100000e+00 -4.5000000e+00 -4.4900000e+00\n",
      " -4.4800000e+00 -4.4700000e+00 -4.4600000e+00 -4.4500000e+00\n",
      " -4.4400000e+00 -4.4300000e+00 -4.4200000e+00 -4.4100000e+00\n",
      " -4.4000000e+00 -4.3900000e+00 -4.3800000e+00 -4.3700000e+00\n",
      " -4.3600000e+00 -4.3500000e+00 -4.3400000e+00 -4.3300000e+00\n",
      " -4.3200000e+00 -4.3100000e+00 -4.3000000e+00 -4.2900000e+00\n",
      " -4.2800000e+00 -4.2700000e+00 -4.2600000e+00 -4.2500000e+00\n",
      " -4.2400000e+00 -4.2300000e+00 -4.2200000e+00 -4.2100000e+00\n",
      " -4.2000000e+00 -4.1900000e+00 -4.1800000e+00 -4.1700000e+00\n",
      " -4.1600000e+00 -4.1500000e+00 -4.1400000e+00 -4.1300000e+00\n",
      " -4.1200000e+00 -4.1100000e+00 -4.1000000e+00 -4.0900000e+00\n",
      " -4.0800000e+00 -4.0700000e+00 -4.0600000e+00 -4.0500000e+00\n",
      " -4.0400000e+00 -4.0300000e+00 -4.0200000e+00 -4.0100000e+00\n",
      " -4.0000000e+00 -3.9900000e+00 -3.9800000e+00 -3.9700000e+00\n",
      " -3.9600000e+00 -3.9500000e+00 -3.9400000e+00 -3.9300000e+00\n",
      " -3.9200000e+00 -3.9100000e+00 -3.9000000e+00 -3.8900000e+00\n",
      " -3.8800000e+00 -3.8700000e+00 -3.8600000e+00 -3.8500000e+00\n",
      " -3.8400000e+00 -3.8300000e+00 -3.8200000e+00 -3.8100000e+00\n",
      " -3.8000000e+00 -3.7900000e+00 -3.7800000e+00 -3.7700000e+00\n",
      " -3.7600000e+00 -3.7500000e+00 -3.7400000e+00 -3.7300000e+00\n",
      " -3.7200000e+00 -3.7100000e+00 -3.7000000e+00 -3.6900000e+00\n",
      " -3.6800000e+00 -3.6700000e+00 -3.6600000e+00 -3.6500000e+00\n",
      " -3.6400000e+00 -3.6300000e+00 -3.6200000e+00 -3.6100000e+00\n",
      " -3.6000000e+00 -3.5900000e+00 -3.5800000e+00 -3.5700000e+00\n",
      " -3.5600000e+00 -3.5500000e+00 -3.5400000e+00 -3.5300000e+00\n",
      " -3.5200000e+00 -3.5100000e+00 -3.5000000e+00 -3.4900000e+00\n",
      " -3.4800000e+00 -3.4700000e+00 -3.4600000e+00 -3.4500000e+00\n",
      " -3.4400000e+00 -3.4300000e+00 -3.4200000e+00 -3.4100000e+00\n",
      " -3.4000000e+00 -3.3900000e+00 -3.3800000e+00 -3.3700000e+00\n",
      " -3.3600000e+00 -3.3500000e+00 -3.3400000e+00 -3.3300000e+00\n",
      " -3.3200000e+00 -3.3100000e+00 -3.3000000e+00 -3.2900000e+00\n",
      " -3.2800000e+00 -3.2700000e+00 -3.2600000e+00 -3.2500000e+00\n",
      " -3.2400000e+00 -3.2300000e+00 -3.2200000e+00 -3.2100000e+00\n",
      " -3.2000000e+00 -3.1900000e+00 -3.1800000e+00 -3.1700000e+00\n",
      " -3.1600000e+00 -3.1500000e+00 -3.1400000e+00 -3.1300000e+00\n",
      " -3.1200000e+00 -3.1100000e+00 -3.1000000e+00 -3.0900000e+00\n",
      " -3.0800000e+00 -3.0700000e+00 -3.0600000e+00 -3.0500000e+00\n",
      " -3.0400000e+00 -3.0300000e+00 -3.0200000e+00 -3.0100000e+00\n",
      " -3.0000000e+00 -2.9900000e+00 -2.9800000e+00 -2.9700000e+00\n",
      " -2.9600000e+00 -2.9500000e+00 -2.9400000e+00 -2.9300000e+00\n",
      " -2.9200000e+00 -2.9100000e+00 -2.9000000e+00 -2.8900000e+00\n",
      " -2.8800000e+00 -2.8700000e+00 -2.8600000e+00 -2.8500000e+00\n",
      " -2.8400000e+00 -2.8300000e+00 -2.8200000e+00 -2.8100000e+00\n",
      " -2.8000000e+00 -2.7900000e+00 -2.7800000e+00 -2.7700000e+00\n",
      " -2.7600000e+00 -2.7500000e+00 -2.7400000e+00 -2.7300000e+00\n",
      " -2.7200000e+00 -2.7100000e+00 -2.7000000e+00 -2.6900000e+00\n",
      " -2.6800000e+00 -2.6700000e+00 -2.6600000e+00 -2.6500000e+00\n",
      " -2.6400000e+00 -2.6300000e+00 -2.6200000e+00 -2.6100000e+00\n",
      " -2.6000000e+00 -2.5900000e+00 -2.5800000e+00 -2.5700000e+00\n",
      " -2.5600000e+00 -2.5500000e+00 -2.5400000e+00 -2.5300000e+00\n",
      " -2.5200000e+00 -2.5100000e+00 -2.5000000e+00 -2.4900000e+00\n",
      " -2.4800000e+00 -2.4700000e+00 -2.4600000e+00 -2.4500000e+00\n",
      " -2.4400000e+00 -2.4300000e+00 -2.4200000e+00 -2.4100000e+00\n",
      " -2.4000000e+00 -2.3900000e+00 -2.3800000e+00 -2.3700000e+00\n",
      " -2.3600000e+00 -2.3500000e+00 -2.3400000e+00 -2.3300000e+00\n",
      " -2.3200000e+00 -2.3100000e+00 -2.3000000e+00 -2.2900000e+00\n",
      " -2.2800000e+00 -2.2700000e+00 -2.2600000e+00 -2.2500000e+00\n",
      " -2.2400000e+00 -2.2300000e+00 -2.2200000e+00 -2.2100000e+00\n",
      " -2.2000000e+00 -2.1900000e+00 -2.1800000e+00 -2.1700000e+00\n",
      " -2.1600000e+00 -2.1500000e+00 -2.1400000e+00 -2.1300000e+00\n",
      " -2.1200000e+00 -2.1100000e+00 -2.1000000e+00 -2.0900000e+00\n",
      " -2.0800000e+00 -2.0700000e+00 -2.0600000e+00 -2.0500000e+00\n",
      " -2.0400000e+00 -2.0300000e+00 -2.0200000e+00 -2.0100000e+00\n",
      " -2.0000000e+00 -1.9900000e+00 -1.9800000e+00 -1.9700000e+00\n",
      " -1.9600000e+00 -1.9500000e+00 -1.9400000e+00 -1.9300000e+00\n",
      " -1.9200000e+00 -1.9100000e+00 -1.9000000e+00 -1.8900000e+00\n",
      " -1.8800000e+00 -1.8700000e+00 -1.8600000e+00 -1.8500000e+00\n",
      " -1.8400000e+00 -1.8300000e+00 -1.8200000e+00 -1.8100000e+00\n",
      " -1.8000000e+00 -1.7900000e+00 -1.7800000e+00 -1.7700000e+00\n",
      " -1.7600000e+00 -1.7500000e+00 -1.7400000e+00 -1.7300000e+00\n",
      " -1.7200000e+00 -1.7100000e+00 -1.7000000e+00 -1.6900000e+00\n",
      " -1.6800000e+00 -1.6700000e+00 -1.6600000e+00 -1.6500000e+00\n",
      " -1.6400000e+00 -1.6300000e+00 -1.6200000e+00 -1.6100000e+00\n",
      " -1.6000000e+00 -1.5900000e+00 -1.5800000e+00 -1.5700000e+00\n",
      " -1.5600000e+00 -1.5500000e+00 -1.5400000e+00 -1.5300000e+00\n",
      " -1.5200000e+00 -1.5100000e+00 -1.5000000e+00 -1.4900000e+00\n",
      " -1.4800000e+00 -1.4700000e+00 -1.4600000e+00 -1.4500000e+00\n",
      " -1.4400000e+00 -1.4300000e+00 -1.4200000e+00 -1.4100000e+00\n",
      " -1.4000000e+00 -1.3900000e+00 -1.3800000e+00 -1.3700000e+00\n",
      " -1.3600000e+00 -1.3500000e+00 -1.3400000e+00 -1.3300000e+00\n",
      " -1.3200000e+00 -1.3100000e+00 -1.3000000e+00 -1.2900000e+00\n",
      " -1.2800000e+00 -1.2700000e+00 -1.2600000e+00 -1.2500000e+00\n",
      " -1.2400000e+00 -1.2300000e+00 -1.2200000e+00 -1.2100000e+00\n",
      " -1.2000000e+00 -1.1900000e+00 -1.1800000e+00 -1.1700000e+00\n",
      " -1.1600000e+00 -1.1500000e+00 -1.1400000e+00 -1.1300000e+00\n",
      " -1.1200000e+00 -1.1100000e+00 -1.1000000e+00 -1.0900000e+00\n",
      " -1.0800000e+00 -1.0700000e+00 -1.0600000e+00 -1.0500000e+00\n",
      " -1.0400000e+00 -1.0300000e+00 -1.0200000e+00 -1.0100000e+00\n",
      " -1.0000000e+00 -9.9000000e-01 -9.8000000e-01 -9.7000000e-01\n",
      " -9.6000000e-01 -9.5000000e-01 -9.4000000e-01 -9.3000000e-01\n",
      " -9.2000000e-01 -9.1000000e-01 -9.0000000e-01 -8.9000000e-01\n",
      " -8.8000000e-01 -8.7000000e-01 -8.6000000e-01 -8.5000000e-01\n",
      " -8.4000000e-01 -8.3000000e-01 -8.2000000e-01 -8.1000000e-01\n",
      " -8.0000000e-01 -7.9000000e-01 -7.8000000e-01 -7.7000000e-01\n",
      " -7.6000000e-01 -7.5000000e-01 -7.4000000e-01 -7.3000000e-01\n",
      " -7.2000000e-01 -7.1000000e-01 -7.0000000e-01 -6.9000000e-01\n",
      " -6.8000000e-01 -6.7000000e-01 -6.6000000e-01 -6.5000000e-01\n",
      " -6.4000000e-01 -6.3000000e-01 -6.2000000e-01 -6.1000000e-01\n",
      " -6.0000000e-01 -5.9000000e-01 -5.8000000e-01 -5.7000000e-01\n",
      " -5.6000000e-01 -5.5000000e-01 -5.4000000e-01 -5.3000000e-01\n",
      " -5.2000000e-01 -5.1000000e-01 -5.0000000e-01 -4.9000000e-01\n",
      " -4.8000000e-01 -4.7000000e-01 -4.6000000e-01 -4.5000000e-01\n",
      " -4.4000000e-01 -4.3000000e-01 -4.2000000e-01 -4.1000000e-01\n",
      " -4.0000000e-01 -3.9000000e-01 -3.8000000e-01 -3.7000000e-01\n",
      " -3.6000000e-01 -3.5000000e-01 -3.4000000e-01 -3.3000000e-01\n",
      " -3.2000000e-01 -3.1000000e-01 -3.0000000e-01 -2.9000000e-01\n",
      " -2.8000000e-01 -2.7000000e-01 -2.6000000e-01 -2.5000000e-01\n",
      " -2.4000000e-01 -2.3000000e-01 -2.2000000e-01 -2.1000000e-01\n",
      " -2.0000000e-01 -1.9000000e-01 -1.8000000e-01 -1.7000000e-01\n",
      " -1.6000000e-01 -1.5000000e-01 -1.4000000e-01 -1.3000000e-01\n",
      " -1.2000000e-01 -1.1000000e-01 -1.0000000e-01 -9.0000000e-02\n",
      " -8.0000000e-02 -7.0000000e-02 -6.0000000e-02 -5.0000000e-02\n",
      " -4.0000000e-02 -3.0000000e-02 -2.0000000e-02 -1.0000000e-02\n",
      " -1.0658141e-13  1.0000000e-02  2.0000000e-02  3.0000000e-02\n",
      "  4.0000000e-02  5.0000000e-02  6.0000000e-02  7.0000000e-02\n",
      "  8.0000000e-02  9.0000000e-02  1.0000000e-01  1.1000000e-01\n",
      "  1.2000000e-01  1.3000000e-01  1.4000000e-01  1.5000000e-01\n",
      "  1.6000000e-01  1.7000000e-01  1.8000000e-01  1.9000000e-01\n",
      "  2.0000000e-01  2.1000000e-01  2.2000000e-01  2.3000000e-01\n",
      "  2.4000000e-01  2.5000000e-01  2.6000000e-01  2.7000000e-01\n",
      "  2.8000000e-01  2.9000000e-01  3.0000000e-01  3.1000000e-01\n",
      "  3.2000000e-01  3.3000000e-01  3.4000000e-01  3.5000000e-01\n",
      "  3.6000000e-01  3.7000000e-01  3.8000000e-01  3.9000000e-01\n",
      "  4.0000000e-01  4.1000000e-01  4.2000000e-01  4.3000000e-01\n",
      "  4.4000000e-01  4.5000000e-01  4.6000000e-01  4.7000000e-01\n",
      "  4.8000000e-01  4.9000000e-01  5.0000000e-01  5.1000000e-01\n",
      "  5.2000000e-01  5.3000000e-01  5.4000000e-01  5.5000000e-01\n",
      "  5.6000000e-01  5.7000000e-01  5.8000000e-01  5.9000000e-01\n",
      "  6.0000000e-01  6.1000000e-01  6.2000000e-01  6.3000000e-01\n",
      "  6.4000000e-01  6.5000000e-01  6.6000000e-01  6.7000000e-01\n",
      "  6.8000000e-01  6.9000000e-01  7.0000000e-01  7.1000000e-01\n",
      "  7.2000000e-01  7.3000000e-01  7.4000000e-01  7.5000000e-01\n",
      "  7.6000000e-01  7.7000000e-01  7.8000000e-01  7.9000000e-01\n",
      "  8.0000000e-01  8.1000000e-01  8.2000000e-01  8.3000000e-01\n",
      "  8.4000000e-01  8.5000000e-01  8.6000000e-01  8.7000000e-01\n",
      "  8.8000000e-01  8.9000000e-01  9.0000000e-01  9.1000000e-01\n",
      "  9.2000000e-01  9.3000000e-01  9.4000000e-01  9.5000000e-01\n",
      "  9.6000000e-01  9.7000000e-01  9.8000000e-01  9.9000000e-01\n",
      "  1.0000000e+00  1.0100000e+00  1.0200000e+00  1.0300000e+00\n",
      "  1.0400000e+00  1.0500000e+00  1.0600000e+00  1.0700000e+00\n",
      "  1.0800000e+00  1.0900000e+00  1.1000000e+00  1.1100000e+00\n",
      "  1.1200000e+00  1.1300000e+00  1.1400000e+00  1.1500000e+00\n",
      "  1.1600000e+00  1.1700000e+00  1.1800000e+00  1.1900000e+00\n",
      "  1.2000000e+00  1.2100000e+00  1.2200000e+00  1.2300000e+00\n",
      "  1.2400000e+00  1.2500000e+00  1.2600000e+00  1.2700000e+00\n",
      "  1.2800000e+00  1.2900000e+00  1.3000000e+00  1.3100000e+00\n",
      "  1.3200000e+00  1.3300000e+00  1.3400000e+00  1.3500000e+00\n",
      "  1.3600000e+00  1.3700000e+00  1.3800000e+00  1.3900000e+00\n",
      "  1.4000000e+00  1.4100000e+00  1.4200000e+00  1.4300000e+00\n",
      "  1.4400000e+00  1.4500000e+00  1.4600000e+00  1.4700000e+00\n",
      "  1.4800000e+00  1.4900000e+00  1.5000000e+00  1.5100000e+00\n",
      "  1.5200000e+00  1.5300000e+00  1.5400000e+00  1.5500000e+00\n",
      "  1.5600000e+00  1.5700000e+00  1.5800000e+00  1.5900000e+00\n",
      "  1.6000000e+00  1.6100000e+00  1.6200000e+00  1.6300000e+00\n",
      "  1.6400000e+00  1.6500000e+00  1.6600000e+00  1.6700000e+00\n",
      "  1.6800000e+00  1.6900000e+00  1.7000000e+00  1.7100000e+00\n",
      "  1.7200000e+00  1.7300000e+00  1.7400000e+00  1.7500000e+00\n",
      "  1.7600000e+00  1.7700000e+00  1.7800000e+00  1.7900000e+00\n",
      "  1.8000000e+00  1.8100000e+00  1.8200000e+00  1.8300000e+00\n",
      "  1.8400000e+00  1.8500000e+00  1.8600000e+00  1.8700000e+00\n",
      "  1.8800000e+00  1.8900000e+00  1.9000000e+00  1.9100000e+00\n",
      "  1.9200000e+00  1.9300000e+00  1.9400000e+00  1.9500000e+00\n",
      "  1.9600000e+00  1.9700000e+00  1.9800000e+00  1.9900000e+00\n",
      "  2.0000000e+00  2.0100000e+00  2.0200000e+00  2.0300000e+00\n",
      "  2.0400000e+00  2.0500000e+00  2.0600000e+00  2.0700000e+00\n",
      "  2.0800000e+00  2.0900000e+00  2.1000000e+00  2.1100000e+00\n",
      "  2.1200000e+00  2.1300000e+00  2.1400000e+00  2.1500000e+00\n",
      "  2.1600000e+00  2.1700000e+00  2.1800000e+00  2.1900000e+00\n",
      "  2.2000000e+00  2.2100000e+00  2.2200000e+00  2.2300000e+00\n",
      "  2.2400000e+00  2.2500000e+00  2.2600000e+00  2.2700000e+00\n",
      "  2.2800000e+00  2.2900000e+00  2.3000000e+00  2.3100000e+00\n",
      "  2.3200000e+00  2.3300000e+00  2.3400000e+00  2.3500000e+00\n",
      "  2.3600000e+00  2.3700000e+00  2.3800000e+00  2.3900000e+00\n",
      "  2.4000000e+00  2.4100000e+00  2.4200000e+00  2.4300000e+00\n",
      "  2.4400000e+00  2.4500000e+00  2.4600000e+00  2.4700000e+00\n",
      "  2.4800000e+00  2.4900000e+00  2.5000000e+00  2.5100000e+00\n",
      "  2.5200000e+00  2.5300000e+00  2.5400000e+00  2.5500000e+00\n",
      "  2.5600000e+00  2.5700000e+00  2.5800000e+00  2.5900000e+00\n",
      "  2.6000000e+00  2.6100000e+00  2.6200000e+00  2.6300000e+00\n",
      "  2.6400000e+00  2.6500000e+00  2.6600000e+00  2.6700000e+00\n",
      "  2.6800000e+00  2.6900000e+00  2.7000000e+00  2.7100000e+00\n",
      "  2.7200000e+00  2.7300000e+00  2.7400000e+00  2.7500000e+00\n",
      "  2.7600000e+00  2.7700000e+00  2.7800000e+00  2.7900000e+00\n",
      "  2.8000000e+00  2.8100000e+00  2.8200000e+00  2.8300000e+00\n",
      "  2.8400000e+00  2.8500000e+00  2.8600000e+00  2.8700000e+00\n",
      "  2.8800000e+00  2.8900000e+00  2.9000000e+00  2.9100000e+00\n",
      "  2.9200000e+00  2.9300000e+00  2.9400000e+00  2.9500000e+00\n",
      "  2.9600000e+00  2.9700000e+00  2.9800000e+00  2.9900000e+00\n",
      "  3.0000000e+00  3.0100000e+00  3.0200000e+00  3.0300000e+00\n",
      "  3.0400000e+00  3.0500000e+00  3.0600000e+00  3.0700000e+00\n",
      "  3.0800000e+00  3.0900000e+00  3.1000000e+00  3.1100000e+00\n",
      "  3.1200000e+00  3.1300000e+00  3.1400000e+00  3.1500000e+00\n",
      "  3.1600000e+00  3.1700000e+00  3.1800000e+00  3.1900000e+00\n",
      "  3.2000000e+00  3.2100000e+00  3.2200000e+00  3.2300000e+00\n",
      "  3.2400000e+00  3.2500000e+00  3.2600000e+00  3.2700000e+00\n",
      "  3.2800000e+00  3.2900000e+00  3.3000000e+00  3.3100000e+00\n",
      "  3.3200000e+00  3.3300000e+00  3.3400000e+00  3.3500000e+00\n",
      "  3.3600000e+00  3.3700000e+00  3.3800000e+00  3.3900000e+00\n",
      "  3.4000000e+00  3.4100000e+00  3.4200000e+00  3.4300000e+00\n",
      "  3.4400000e+00  3.4500000e+00  3.4600000e+00  3.4700000e+00\n",
      "  3.4800000e+00  3.4900000e+00  3.5000000e+00  3.5100000e+00\n",
      "  3.5200000e+00  3.5300000e+00  3.5400000e+00  3.5500000e+00\n",
      "  3.5600000e+00  3.5700000e+00  3.5800000e+00  3.5900000e+00\n",
      "  3.6000000e+00  3.6100000e+00  3.6200000e+00  3.6300000e+00\n",
      "  3.6400000e+00  3.6500000e+00  3.6600000e+00  3.6700000e+00\n",
      "  3.6800000e+00  3.6900000e+00  3.7000000e+00  3.7100000e+00\n",
      "  3.7200000e+00  3.7300000e+00  3.7400000e+00  3.7500000e+00\n",
      "  3.7600000e+00  3.7700000e+00  3.7800000e+00  3.7900000e+00\n",
      "  3.8000000e+00  3.8100000e+00  3.8200000e+00  3.8300000e+00\n",
      "  3.8400000e+00  3.8500000e+00  3.8600000e+00  3.8700000e+00\n",
      "  3.8800000e+00  3.8900000e+00  3.9000000e+00  3.9100000e+00\n",
      "  3.9200000e+00  3.9300000e+00  3.9400000e+00  3.9500000e+00\n",
      "  3.9600000e+00  3.9700000e+00  3.9800000e+00  3.9900000e+00\n",
      "  4.0000000e+00  4.0100000e+00  4.0200000e+00  4.0300000e+00\n",
      "  4.0400000e+00  4.0500000e+00  4.0600000e+00  4.0700000e+00\n",
      "  4.0800000e+00  4.0900000e+00  4.1000000e+00  4.1100000e+00\n",
      "  4.1200000e+00  4.1300000e+00  4.1400000e+00  4.1500000e+00\n",
      "  4.1600000e+00  4.1700000e+00  4.1800000e+00  4.1900000e+00\n",
      "  4.2000000e+00  4.2100000e+00  4.2200000e+00  4.2300000e+00\n",
      "  4.2400000e+00  4.2500000e+00  4.2600000e+00  4.2700000e+00\n",
      "  4.2800000e+00  4.2900000e+00  4.3000000e+00  4.3100000e+00\n",
      "  4.3200000e+00  4.3300000e+00  4.3400000e+00  4.3500000e+00\n",
      "  4.3600000e+00  4.3700000e+00  4.3800000e+00  4.3900000e+00\n",
      "  4.4000000e+00  4.4100000e+00  4.4200000e+00  4.4300000e+00\n",
      "  4.4400000e+00  4.4500000e+00  4.4600000e+00  4.4700000e+00\n",
      "  4.4800000e+00  4.4900000e+00  4.5000000e+00  4.5100000e+00\n",
      "  4.5200000e+00  4.5300000e+00  4.5400000e+00  4.5500000e+00\n",
      "  4.5600000e+00  4.5700000e+00  4.5800000e+00  4.5900000e+00\n",
      "  4.6000000e+00  4.6100000e+00  4.6200000e+00  4.6300000e+00\n",
      "  4.6400000e+00  4.6500000e+00  4.6600000e+00  4.6700000e+00\n",
      "  4.6800000e+00  4.6900000e+00  4.7000000e+00  4.7100000e+00\n",
      "  4.7200000e+00  4.7300000e+00  4.7400000e+00  4.7500000e+00\n",
      "  4.7600000e+00  4.7700000e+00  4.7800000e+00  4.7900000e+00\n",
      "  4.8000000e+00  4.8100000e+00  4.8200000e+00  4.8300000e+00\n",
      "  4.8400000e+00  4.8500000e+00  4.8600000e+00  4.8700000e+00\n",
      "  4.8800000e+00  4.8900000e+00  4.9000000e+00  4.9100000e+00\n",
      "  4.9200000e+00  4.9300000e+00  4.9400000e+00  4.9500000e+00\n",
      "  4.9600000e+00  4.9700000e+00  4.9800000e+00  4.9900000e+00]\n",
      "\n"
     ]
    },
    {
     "data": {
      "text/plain": [
       "[array([[-5.  , -4.99, -4.98, ...,  4.97,  4.98,  4.99],\n",
       "        [-5.  , -4.99, -4.98, ...,  4.97,  4.98,  4.99],\n",
       "        [-5.  , -4.99, -4.98, ...,  4.97,  4.98,  4.99],\n",
       "        ...,\n",
       "        [-5.  , -4.99, -4.98, ...,  4.97,  4.98,  4.99],\n",
       "        [-5.  , -4.99, -4.98, ...,  4.97,  4.98,  4.99],\n",
       "        [-5.  , -4.99, -4.98, ...,  4.97,  4.98,  4.99]]),\n",
       " array([[-5.  , -5.  , -5.  , ..., -5.  , -5.  , -5.  ],\n",
       "        [-4.99, -4.99, -4.99, ..., -4.99, -4.99, -4.99],\n",
       "        [-4.98, -4.98, -4.98, ..., -4.98, -4.98, -4.98],\n",
       "        ...,\n",
       "        [ 4.97,  4.97,  4.97, ...,  4.97,  4.97,  4.97],\n",
       "        [ 4.98,  4.98,  4.98, ...,  4.98,  4.98,  4.98],\n",
       "        [ 4.99,  4.99,  4.99, ...,  4.99,  4.99,  4.99]])]"
      ]
     },
     "execution_count": 25,
     "metadata": {},
     "output_type": "execute_result"
    }
   ],
   "source": [
    "points = np.arange(-5,5, 0.01)\n",
    "print(points)\n",
    "\n",
    "print()\n",
    "np.meshgrid(points, points)"
   ]
  },
  {
   "cell_type": "code",
   "execution_count": 26,
   "id": "b3739870-ccdc-4d4c-ae65-6873a4719679",
   "metadata": {},
   "outputs": [
    {
     "data": {
      "text/plain": [
       "<matplotlib.image.AxesImage at 0x2b477a3b730>"
      ]
     },
     "execution_count": 26,
     "metadata": {},
     "output_type": "execute_result"
    },
    {
     "data": {
      "image/png": "[encoded data removed]",
      "text/plain": [
       "<Figure size 640x480 with 1 Axes>"
      ]
     },
     "metadata": {},
     "output_type": "display_data"
    }
   ],
   "source": [
    "xs, ys = np.meshgrid(points, points)\n",
    "z = np.sqrt(xs**2 + ys**2)\n",
    "z\n",
    "\n",
    "import matplotlib.pyplot as plt\n",
    "plt.imshow(z, cmap =plt.cm.gray)"
   ]
  },
  {
   "cell_type": "markdown",
   "id": "244586da-d2c3-419b-849c-90e2ed5ec97c",
   "metadata": {},
   "source": [
    "### 수학 메서드 & 통계 메서드\n",
    "- arr.mean()  , np.mean()\n",
    "- arr.sum()\n",
    "- arr.cumsum(행? 열?) -> 누적합\n",
    "- arr.cumprod(행? 열?) -> 누적곱"
   ]
  },
  {
   "cell_type": "code",
   "execution_count": 27,
   "id": "177cfafa-5cba-4d57-8a23-aa694d4326ae",
   "metadata": {},
   "outputs": [
    {
     "data": {
      "text/plain": [
       "array([[ 0.51553246, -1.45102773, -1.08414835,  0.19186633],\n",
       "       [-0.27911283,  0.09010319, -1.95918296, -0.60664354],\n",
       "       [-1.85825892,  0.64307693, -0.77369189, -0.88299936],\n",
       "       [ 0.40148987, -0.33762664,  0.54507442, -0.69642304],\n",
       "       [-0.35425791, -1.90804557,  1.3896752 , -0.55956771]])"
      ]
     },
     "execution_count": 27,
     "metadata": {},
     "output_type": "execute_result"
    }
   ],
   "source": [
    "arr = np.random.randn(5,4)\n",
    "arr"
   ]
  },
  {
   "cell_type": "code",
   "execution_count": 28,
   "id": "3d978528-5f98-496b-b3d6-a1ca49134169",
   "metadata": {},
   "outputs": [
    {
     "data": {
      "text/plain": [
       "-0.44870840384666044"
      ]
     },
     "execution_count": 28,
     "metadata": {},
     "output_type": "execute_result"
    }
   ],
   "source": [
    "arr.mean()"
   ]
  },
  {
   "cell_type": "code",
   "execution_count": 29,
   "id": "b2ab2c4e-5fcf-420a-8891-ef88a86caf80",
   "metadata": {},
   "outputs": [
    {
     "data": {
      "text/plain": [
       "-0.44870840384666044"
      ]
     },
     "execution_count": 29,
     "metadata": {},
     "output_type": "execute_result"
    }
   ],
   "source": [
    "np.mean(arr)"
   ]
  },
  {
   "cell_type": "code",
   "execution_count": 30,
   "id": "f96b24cb-2e9e-41bb-9b63-cf676066ca61",
   "metadata": {},
   "outputs": [
    {
     "data": {
      "text/plain": [
       "-8.974168076933209"
      ]
     },
     "execution_count": 30,
     "metadata": {},
     "output_type": "execute_result"
    }
   ],
   "source": [
    "arr.sum()"
   ]
  },
  {
   "cell_type": "code",
   "execution_count": 31,
   "id": "808ab46e-9aba-457a-84b8-aa0f2c3809c5",
   "metadata": {},
   "outputs": [
    {
     "data": {
      "text/plain": [
       "array([[0, 1, 2],\n",
       "       [3, 4, 5],\n",
       "       [6, 7, 8]])"
      ]
     },
     "execution_count": 31,
     "metadata": {},
     "output_type": "execute_result"
    }
   ],
   "source": [
    "arr = np.array([[0,1,2],[3,4,5],[6,7,8]])\n",
    "arr"
   ]
  },
  {
   "cell_type": "code",
   "execution_count": 32,
   "id": "3a31d159-699c-4be7-ae5e-d4e7a04e1abb",
   "metadata": {},
   "outputs": [
    {
     "data": {
      "text/plain": [
       "array([[ 0,  1,  2],\n",
       "       [ 3,  5,  7],\n",
       "       [ 9, 12, 15]])"
      ]
     },
     "execution_count": 32,
     "metadata": {},
     "output_type": "execute_result"
    }
   ],
   "source": [
    "arr.cumsum(axis=0)"
   ]
  },
  {
   "cell_type": "code",
   "execution_count": 33,
   "id": "2f2b77b2-bf9c-48cf-ab9e-f9004c4e7c9b",
   "metadata": {},
   "outputs": [
    {
     "data": {
      "text/plain": [
       "array([[  0,   0,   0],\n",
       "       [  3,  12,  60],\n",
       "       [  6,  42, 336]])"
      ]
     },
     "execution_count": 33,
     "metadata": {},
     "output_type": "execute_result"
    }
   ],
   "source": [
    "arr.cumprod(axis=1)"
   ]
  },
  {
   "cell_type": "markdown",
   "id": "91950e88-10ab-4f45-baed-e175edce3c1d",
   "metadata": {},
   "source": [
    "### sort\n",
    "- 1차원 부분을 정렬"
   ]
  },
  {
   "cell_type": "code",
   "execution_count": 37,
   "id": "280e060f-0a9a-4e36-839e-c60eb3ae2651",
   "metadata": {},
   "outputs": [
    {
     "data": {
      "text/plain": [
       "[1, 2, 3, 4, 5]"
      ]
     },
     "execution_count": 37,
     "metadata": {},
     "output_type": "execute_result"
    }
   ],
   "source": [
    "myList = [4, 2, 3, 5, 1]\n",
    "myList.sort()\n",
    "myList"
   ]
  },
  {
   "cell_type": "code",
   "execution_count": 34,
   "id": "47aa05ee-564a-4c9b-bdc7-a702ab0e0709",
   "metadata": {},
   "outputs": [
    {
     "data": {
      "text/plain": [
       "array([[ 0.31745891, -0.68218697,  0.70901448],\n",
       "       [ 0.41076896, -0.54433856, -0.21102576],\n",
       "       [ 0.43627278, -0.34591095, -1.49515884],\n",
       "       [-1.90004005, -1.38823834, -0.40893669],\n",
       "       [-0.19010477, -1.09398631, -0.64302145]])"
      ]
     },
     "execution_count": 34,
     "metadata": {},
     "output_type": "execute_result"
    }
   ],
   "source": [
    "arr = np.random.randn(5,3)\n",
    "arr"
   ]
  },
  {
   "cell_type": "code",
   "execution_count": 38,
   "id": "03ec653c-e0fb-441a-9bcb-cc036db6f049",
   "metadata": {},
   "outputs": [
    {
     "data": {
      "text/plain": [
       "array([[-0.68218697,  0.31745891,  0.70901448],\n",
       "       [-0.54433856, -0.21102576,  0.41076896],\n",
       "       [-1.49515884, -0.34591095,  0.43627278],\n",
       "       [-1.90004005, -1.38823834, -0.40893669],\n",
       "       [-1.09398631, -0.64302145, -0.19010477]])"
      ]
     },
     "execution_count": 38,
     "metadata": {},
     "output_type": "execute_result"
    }
   ],
   "source": [
    "arr.sort(axis = 1)\n",
    "arr"
   ]
  },
  {
   "cell_type": "markdown",
   "id": "db3c83c3-1f7d-4042-8e57-34b31eb62270",
   "metadata": {},
   "source": [
    "#### sort( ) 와 sorted( ) 의 차이"
   ]
  },
  {
   "cell_type": "markdown",
   "id": "b126c54e-5244-4692-93f7-7e63b99bfece",
   "metadata": {},
   "source": [
    "```\n",
    "sort() -> 리스트를 정렬된 상태로 변경한다.\n",
    "sorted() -> 이터러블 객체로부터 정렬된 리스트를 생성한다.\n",
    "            (내장함수이다.)\n",
    "```"
   ]
  },
  {
   "cell_type": "markdown",
   "id": "c16b440b-3bb1-492a-9fcc-fdb842abc99b",
   "metadata": {},
   "source": [
    "### np.unique()\n",
    "- 배열 내에서 중복된 원소를 제거하고 남은 원소를 정렬된 형태로 반환하는 함수"
   ]
  },
  {
   "cell_type": "code",
   "execution_count": 105,
   "id": "43097d4f-4b28-49d8-b528-e973dc5fabf4",
   "metadata": {},
   "outputs": [],
   "source": [
    "name = np.array(['Bob', 'Joe', 'Will', 'Bob', 'Will', 'Joe', 'Joe'])"
   ]
  },
  {
   "cell_type": "code",
   "execution_count": 106,
   "id": "4ade2d45-b046-4370-af1c-370d69f01114",
   "metadata": {},
   "outputs": [
    {
     "data": {
      "text/plain": [
       "array(['Bob', 'Joe', 'Will'], dtype='<U4')"
      ]
     },
     "execution_count": 106,
     "metadata": {},
     "output_type": "execute_result"
    }
   ],
   "source": [
    "np.unique(name)"
   ]
  },
  {
   "cell_type": "markdown",
   "id": "b53747dd-2a26-4814-90a2-5014e39ce6a0",
   "metadata": {},
   "source": [
    "### np.in1d\n",
    "- 정해준 원소가 포함하는지 나타내는 불리언 배열"
   ]
  },
  {
   "cell_type": "code",
   "execution_count": 5,
   "id": "ebb66685-fe77-4883-b0b2-0c7abb2d08f6",
   "metadata": {},
   "outputs": [],
   "source": [
    "import numpy as np"
   ]
  },
  {
   "cell_type": "code",
   "execution_count": 6,
   "id": "44799293-8308-48ef-b9ff-1b96c4b2b0bf",
   "metadata": {},
   "outputs": [
    {
     "data": {
      "text/plain": [
       "array([ True, False, False,  True,  True, False,  True])"
      ]
     },
     "execution_count": 6,
     "metadata": {},
     "output_type": "execute_result"
    }
   ],
   "source": [
    "a = np.array([6,0,0,3,2,5,6])\n",
    "\n",
    "np.in1d(a, [2,3,6])"
   ]
  },
  {
   "cell_type": "markdown",
   "id": "863c7c85-eaed-47d3-aaa1-80cb1eff454d",
   "metadata": {},
   "source": [
    "### np.random\n",
    "- randint -> 주어진 최소/최대 범위 안에서 임의의 난수를 추출\n",
    "- randn -> 표준편차가 1이고 평균값이 0인 정규분포에서 표본을 추출\n",
    "- normal -> 정규분포에서 표본을 추출\n",
    "- uniform -> 0과 1사이에서 추출하는 균등분포/ 설정값에 따라 좀 더 섬세하게 추출가능"
   ]
  },
  {
   "cell_type": "markdown",
   "id": "a7aaf17c-a5b0-4621-a79f-4f919ebb209c",
   "metadata": {},
   "source": [
    "- np.random.seed(시작점의 값)  ->  random을 할때 출발하는 시작점에 값을 준다.\n",
    "\n",
    "                                   주의할 점은 준 값이 설정되서 그 범위에서만 계속 랜덤하게 추출된다.\n",
    "                                   \n",
    "- np.random.RandomState(시작점의 값)  -> 실행 할때만 주어지고 실행 후에는 사라진다.\n",
    "\n",
    "                                         이렇게 쓰길 권장한다."
   ]
  },
  {
   "cell_type": "code",
   "execution_count": 1,
   "id": "afd7b35f-635e-43ed-b506-1f085989676e",
   "metadata": {},
   "outputs": [
    {
     "data": {
      "text/plain": [
       "array([[5, 6, 8],\n",
       "       [8, 5, 6]])"
      ]
     },
     "execution_count": 1,
     "metadata": {},
     "output_type": "execute_result"
    }
   ],
   "source": [
    "import numpy as np\n",
    "np.random.randint(3,10, size = (2,3))"
   ]
  },
  {
   "cell_type": "code",
   "execution_count": 2,
   "id": "0f25e84b-279e-423b-ba6c-4a18f69e145e",
   "metadata": {},
   "outputs": [
    {
     "data": {
      "text/plain": [
       "array([[-0.21231612,  0.52955537,  1.54793731],\n",
       "       [ 0.20244027,  1.06915414, -0.8766074 ]])"
      ]
     },
     "execution_count": 2,
     "metadata": {},
     "output_type": "execute_result"
    }
   ],
   "source": [
    "np.random.randn(2,3)"
   ]
  },
  {
   "cell_type": "code",
   "execution_count": 108,
   "id": "b4155869-7a2d-47f9-8730-10c6c6ac9ab1",
   "metadata": {},
   "outputs": [
    {
     "data": {
      "text/plain": [
       "array([[-0.95251574, -2.33397988, -1.86659069, -0.99808454],\n",
       "       [ 0.81976274, -1.91849312, -0.6951497 , -1.05566583],\n",
       "       [ 1.07599734, -0.1356794 , -0.72891413, -0.96165884],\n",
       "       [-0.49812924,  0.08643829, -0.42618419, -1.31830111]])"
      ]
     },
     "execution_count": 108,
     "metadata": {},
     "output_type": "execute_result"
    }
   ],
   "source": [
    "a = np.random.normal(size = (4,4))\n",
    "a"
   ]
  },
  {
   "cell_type": "markdown",
   "id": "b2863bda-0150-4981-b8d4-9ef0777825b9",
   "metadata": {},
   "source": [
    "normal을 이용하여 표준정규분포로부터 4X4크기의 표본 생성함"
   ]
  },
  {
   "cell_type": "code",
   "execution_count": 3,
   "id": "1e2524b3-35b1-4140-84ef-d6b1adb13e48",
   "metadata": {},
   "outputs": [
    {
     "data": {
      "text/plain": [
       "array([[0.93903968, 0.71859793, 0.42493715],\n",
       "       [0.46547304, 0.17939599, 0.49430229]])"
      ]
     },
     "execution_count": 3,
     "metadata": {},
     "output_type": "execute_result"
    }
   ],
   "source": [
    "np.random.uniform(size = (2,3))"
   ]
  },
  {
   "cell_type": "markdown",
   "id": "160fe2dc-e4d0-4da8-9e02-e84e129d8a53",
   "metadata": {},
   "source": [
    "<한 개만 추출하기>\n",
    "```\n",
    "random.uniform(0,1)\n",
    "random.random()  -> 기본적인 형태(보통은 이렇게 쓴다.)\n",
    "```"
   ]
  },
  {
   "cell_type": "markdown",
   "id": "4d3d307b-f379-4502-9616-ceb869bd77d9",
   "metadata": {
    "tags": []
   },
   "source": [
    "# Pandas"
   ]
  },
  {
   "cell_type": "markdown",
   "id": "8f5410b8-c17e-46bb-83fc-f1d303530835",
   "metadata": {},
   "source": [
    "### Series\n",
    "- 객체를 담을 수 있는 1차원 자료구조"
   ]
  },
  {
   "cell_type": "markdown",
   "id": "c935b730-5dcb-4e7a-aa47-52df8554a23d",
   "metadata": {},
   "source": [
    "- s.values -> 값 출력\n",
    "- s.index -> 인덱스 범위 출력\n",
    "- pd.isnull(s), pd.notnull(s) -> 누락된 데이터(NA)을 찾을 때 사용"
   ]
  },
  {
   "cell_type": "code",
   "execution_count": 6,
   "id": "2adc21fe-4c22-4af0-a91d-b780bdd05511",
   "metadata": {},
   "outputs": [],
   "source": [
    "import pandas as pd"
   ]
  },
  {
   "cell_type": "code",
   "execution_count": 7,
   "id": "ded9aedd-a42d-4fef-826c-e191baf1145d",
   "metadata": {},
   "outputs": [
    {
     "data": {
      "text/plain": [
       "0    4\n",
       "1    7\n",
       "2   -5\n",
       "3    3\n",
       "dtype: int64"
      ]
     },
     "execution_count": 7,
     "metadata": {},
     "output_type": "execute_result"
    }
   ],
   "source": [
    "obj = pd.Series([4,7,-5,3])\n",
    "obj"
   ]
  },
  {
   "cell_type": "code",
   "execution_count": 9,
   "id": "e98f2092-62bf-4405-b7e1-6e12a2225726",
   "metadata": {},
   "outputs": [
    {
     "data": {
      "text/plain": [
       "array([ 4,  7, -5,  3], dtype=int64)"
      ]
     },
     "execution_count": 9,
     "metadata": {},
     "output_type": "execute_result"
    }
   ],
   "source": [
    "obj.values  #값만 보여준다."
   ]
  },
  {
   "cell_type": "code",
   "execution_count": 10,
   "id": "36b774aa-4d46-4f4f-9486-594ec71889f0",
   "metadata": {},
   "outputs": [
    {
     "data": {
      "text/plain": [
       "RangeIndex(start=0, stop=4, step=1)"
      ]
     },
     "execution_count": 10,
     "metadata": {},
     "output_type": "execute_result"
    }
   ],
   "source": [
    "obj.index  #인덱스 범위"
   ]
  },
  {
   "cell_type": "code",
   "execution_count": 12,
   "id": "879811e4-7060-410b-b2f0-36e7427f410d",
   "metadata": {},
   "outputs": [
    {
     "data": {
      "text/plain": [
       "a    4\n",
       "b    7\n",
       "c   -5\n",
       "d    3\n",
       "dtype: int64"
      ]
     },
     "execution_count": 12,
     "metadata": {},
     "output_type": "execute_result"
    }
   ],
   "source": [
    "s = pd.Series([4,7,-5,3], index = ['a', 'b', 'c', 'd']) #인덱슨느 숫자만 가능한 것이 아니라 문자열도 가능하다.\n",
    "s"
   ]
  },
  {
   "cell_type": "code",
   "execution_count": 13,
   "id": "cfe1bbab-6ab6-445b-bce8-46e33618e9a5",
   "metadata": {},
   "outputs": [
    {
     "data": {
      "text/plain": [
       "a    4\n",
       "b    7\n",
       "dtype: int64"
      ]
     },
     "execution_count": 13,
     "metadata": {},
     "output_type": "execute_result"
    }
   ],
   "source": [
    "s[['a', 'b']]  #인덱싱 : 인덱스로 골라내기"
   ]
  },
  {
   "cell_type": "code",
   "execution_count": 14,
   "id": "c074a6d5-1668-49b2-8da4-2eeb6282ab9d",
   "metadata": {},
   "outputs": [
    {
     "data": {
      "text/plain": [
       "a     True\n",
       "b     True\n",
       "c    False\n",
       "d     True\n",
       "dtype: bool"
      ]
     },
     "execution_count": 14,
     "metadata": {},
     "output_type": "execute_result"
    }
   ],
   "source": [
    "s > 0"
   ]
  },
  {
   "cell_type": "code",
   "execution_count": 15,
   "id": "64c207d2-c043-425f-8f05-9ed05e7c61ac",
   "metadata": {},
   "outputs": [
    {
     "data": {
      "text/plain": [
       "a    4\n",
       "b    7\n",
       "d    3\n",
       "dtype: int64"
      ]
     },
     "execution_count": 15,
     "metadata": {},
     "output_type": "execute_result"
    }
   ],
   "source": [
    "s[s>0]"
   ]
  },
  {
   "cell_type": "code",
   "execution_count": 17,
   "id": "bc414da1-ba4d-463a-abbb-a90bc510fafb",
   "metadata": {},
   "outputs": [
    {
     "data": {
      "text/plain": [
       "Ohio      35000\n",
       "Texas     71000\n",
       "Oregon    16000\n",
       "Utah       5000\n",
       "dtype: int64"
      ]
     },
     "execution_count": 17,
     "metadata": {},
     "output_type": "execute_result"
    }
   ],
   "source": [
    "#파이썬 사전 객체로부터 Series 객체 생성 가능\n",
    "states = ['California', 'Ohio', 'Oregon', 'Texas'] \n",
    "sdata = {'Ohio': 35000, 'Texas': 71000, 'Oregon': 16000, 'Utah': 5000}\n",
    "\n",
    "obj3 = pd.Series(sdata)\n",
    "obj3"
   ]
  },
  {
   "cell_type": "markdown",
   "id": "c69a6e94-40a6-432b-b853-6eb89825e050",
   "metadata": {},
   "source": [
    "Key는 인덱스로 values는 값으로 잡힌다."
   ]
  },
  {
   "cell_type": "code",
   "execution_count": 18,
   "id": "2f3d1aab-5870-412e-8702-b4b90e495877",
   "metadata": {},
   "outputs": [
    {
     "data": {
      "text/plain": [
       "California        NaN\n",
       "Ohio          35000.0\n",
       "Oregon        16000.0\n",
       "Texas         71000.0\n",
       "dtype: float64"
      ]
     },
     "execution_count": 18,
     "metadata": {},
     "output_type": "execute_result"
    }
   ],
   "source": [
    "states = ['California', 'Ohio', 'Oregon', 'Texas'] \n",
    "sdata = {'Ohio': 35000, 'Texas': 71000, 'Oregon': 16000, 'Utah': 5000}\n",
    "\n",
    "obj4 = pd.Series(sdata, index = states)\n",
    "obj4"
   ]
  },
  {
   "cell_type": "code",
   "execution_count": 19,
   "id": "c44c8c55-b205-4976-b1f5-bbb9bf6d8847",
   "metadata": {},
   "outputs": [
    {
     "data": {
      "text/plain": [
       "California     True\n",
       "Ohio          False\n",
       "Oregon        False\n",
       "Texas         False\n",
       "dtype: bool"
      ]
     },
     "execution_count": 19,
     "metadata": {},
     "output_type": "execute_result"
    }
   ],
   "source": [
    "obj4.isnull()"
   ]
  },
  {
   "cell_type": "code",
   "execution_count": 20,
   "id": "054a76c9-2dd6-433e-a278-f54ae0559ace",
   "metadata": {},
   "outputs": [
    {
     "data": {
      "text/plain": [
       "California    False\n",
       "Ohio           True\n",
       "Oregon         True\n",
       "Texas          True\n",
       "dtype: bool"
      ]
     },
     "execution_count": 20,
     "metadata": {},
     "output_type": "execute_result"
    }
   ],
   "source": [
    "obj4.notnull()"
   ]
  },
  {
   "cell_type": "code",
   "execution_count": 21,
   "id": "0e740063-bdea-49d7-a214-0a206b3de4af",
   "metadata": {},
   "outputs": [
    {
     "data": {
      "text/plain": [
       "a        NaN\n",
       "b    35000.0\n",
       "c    16000.0\n",
       "d    71000.0\n",
       "dtype: float64"
      ]
     },
     "execution_count": 21,
     "metadata": {},
     "output_type": "execute_result"
    }
   ],
   "source": [
    "#인덱스 바꾸기\n",
    "obj4.index = ['a','b','c','d']\n",
    "obj4"
   ]
  },
  {
   "cell_type": "markdown",
   "id": "4b054a25-a709-496b-ba99-b996fcdaae35",
   "metadata": {},
   "source": [
    "```\n",
    "<주의>\n",
    "\n",
    "obj4.index[0] = 'A' 을 실행시키면\n",
    "TypeError: Index does not support mutable operations 이라는 오류 발생\n",
    "\n",
    "에러 해결 : 인덱스 바꿔줄때는 하나만 못 바꾸고 한꺼번에 바꿔줘야 한다.\n",
    "```"
   ]
  },
  {
   "cell_type": "markdown",
   "id": "996e4623-9689-4806-adb5-0dee6bcaec6d",
   "metadata": {},
   "source": [
    "### DataFrame"
   ]
  },
  {
   "cell_type": "markdown",
   "id": "d021de14-eae9-49c1-829d-1b6a1a5586bd",
   "metadata": {},
   "source": [
    "- df.loc[ , ], df.iloc[ , ]  -> 접근방법\n",
    "\n",
    "  ```\n",
    "  array[]는 바로 접근할 수 있지만 데이터 프레임에서는 불가능하다.\n",
    "  그래서 중간에 꼭 df.loc[,]나 df.iloc[,]으로 접근해야 한다.\n",
    "  ```\n",
    "  \n",
    " - del frame['eastern']  -> 삭제\n",
    " - frame.T   -> 칼럼과 로우 뒤집기\n",
    " - frame.values   -> 값 출력"
   ]
  },
  {
   "cell_type": "code",
   "execution_count": 22,
   "id": "6aa66b01-35a3-484b-94ae-f5230937f90c",
   "metadata": {},
   "outputs": [
    {
     "data": {
      "text/html": [
       "<div>\n",
       "<style scoped>\n",
       "    .dataframe tbody tr th:only-of-type {\n",
       "        vertical-align: middle;\n",
       "    }\n",
       "\n",
       "    .dataframe tbody tr th {\n",
       "        vertical-align: top;\n",
       "    }\n",
       "\n",
       "    .dataframe thead th {\n",
       "        text-align: right;\n",
       "    }\n",
       "</style>\n",
       "<table border=\"1\" class=\"dataframe\">\n",
       "  <thead>\n",
       "    <tr style=\"text-align: right;\">\n",
       "      <th></th>\n",
       "      <th>state</th>\n",
       "      <th>year</th>\n",
       "      <th>pop</th>\n",
       "    </tr>\n",
       "  </thead>\n",
       "  <tbody>\n",
       "    <tr>\n",
       "      <th>0</th>\n",
       "      <td>Ohio</td>\n",
       "      <td>2000</td>\n",
       "      <td>1.5</td>\n",
       "    </tr>\n",
       "    <tr>\n",
       "      <th>1</th>\n",
       "      <td>Ohio</td>\n",
       "      <td>2001</td>\n",
       "      <td>1.7</td>\n",
       "    </tr>\n",
       "    <tr>\n",
       "      <th>2</th>\n",
       "      <td>Ohio</td>\n",
       "      <td>2002</td>\n",
       "      <td>3.6</td>\n",
       "    </tr>\n",
       "    <tr>\n",
       "      <th>3</th>\n",
       "      <td>Nevada</td>\n",
       "      <td>2001</td>\n",
       "      <td>2.4</td>\n",
       "    </tr>\n",
       "    <tr>\n",
       "      <th>4</th>\n",
       "      <td>Nevada</td>\n",
       "      <td>2002</td>\n",
       "      <td>2.9</td>\n",
       "    </tr>\n",
       "    <tr>\n",
       "      <th>5</th>\n",
       "      <td>Nevada</td>\n",
       "      <td>2003</td>\n",
       "      <td>3.2</td>\n",
       "    </tr>\n",
       "  </tbody>\n",
       "</table>\n",
       "</div>"
      ],
      "text/plain": [
       "    state  year  pop\n",
       "0    Ohio  2000  1.5\n",
       "1    Ohio  2001  1.7\n",
       "2    Ohio  2002  3.6\n",
       "3  Nevada  2001  2.4\n",
       "4  Nevada  2002  2.9\n",
       "5  Nevada  2003  3.2"
      ]
     },
     "execution_count": 22,
     "metadata": {},
     "output_type": "execute_result"
    }
   ],
   "source": [
    "data = {'state': ['Ohio', 'Ohio', 'Ohio', 'Nevada', 'Nevada', 'Nevada'],\n",
    "        'year': [2000, 2001, 2002, 2001, 2002, 2003],\n",
    "        'pop': [1.5, 1.7, 3.6, 2.4, 2.9, 3.2]}\n",
    "\n",
    "frame = pd.DataFrame(data)\n",
    "frame"
   ]
  },
  {
   "cell_type": "code",
   "execution_count": 29,
   "id": "2f0907da-4d22-49d5-a6f4-13425012057b",
   "metadata": {},
   "outputs": [
    {
     "name": "stdout",
     "output_type": "stream",
     "text": [
      "   year   state  pop debt\n",
      "0  2000    Ohio  1.5  NaN\n",
      "1  2001    Ohio  1.7  NaN\n",
      "2  2002    Ohio  3.6  NaN\n",
      "3  2001  Nevada  2.4  NaN\n",
      "4  2002  Nevada  2.9  NaN\n",
      "5  2003  Nevada  3.2  NaN\n",
      "\n",
      "    state  year  pop debt\n",
      "0    Ohio  2000  1.5  NaN\n",
      "1    Ohio  2001  1.7  NaN\n",
      "2    Ohio  2002  3.6  NaN\n",
      "3  Nevada  2001  2.4  NaN\n",
      "4  Nevada  2002  2.9  NaN\n",
      "5  Nevada  2003  3.2  NaN\n"
     ]
    }
   ],
   "source": [
    "#원하는 이름과 순서로 colums 지정하기\n",
    "print(pd.DataFrame(data, columns = ['year','state','pop','debt']))  #'debt'이라는 없는 칼럼이 생성됨\n",
    "print()\n",
    "print(pd.DataFrame(data, columns = ['state','year','pop','debt']))"
   ]
  },
  {
   "cell_type": "code",
   "execution_count": 31,
   "id": "7505e8e1-97b3-4b20-97fd-5b5e66b670c2",
   "metadata": {},
   "outputs": [
    {
     "data": {
      "text/plain": [
       "0      Ohio\n",
       "1      Ohio\n",
       "2      Ohio\n",
       "3    Nevada\n",
       "4    Nevada\n",
       "5    Nevada\n",
       "Name: state, dtype: object"
      ]
     },
     "execution_count": 31,
     "metadata": {},
     "output_type": "execute_result"
    }
   ],
   "source": [
    "df = frame.copy()\n",
    "\n",
    "df.loc[:,'state']      #빈칸으로 두면 안되고 뭐라도 써야한다."
   ]
  },
  {
   "cell_type": "code",
   "execution_count": 32,
   "id": "a45cf643-49c8-475a-bf2d-57ff5aefd0f2",
   "metadata": {},
   "outputs": [
    {
     "data": {
      "text/html": [
       "<div>\n",
       "<style scoped>\n",
       "    .dataframe tbody tr th:only-of-type {\n",
       "        vertical-align: middle;\n",
       "    }\n",
       "\n",
       "    .dataframe tbody tr th {\n",
       "        vertical-align: top;\n",
       "    }\n",
       "\n",
       "    .dataframe thead th {\n",
       "        text-align: right;\n",
       "    }\n",
       "</style>\n",
       "<table border=\"1\" class=\"dataframe\">\n",
       "  <thead>\n",
       "    <tr style=\"text-align: right;\">\n",
       "      <th></th>\n",
       "      <th>state</th>\n",
       "      <th>year</th>\n",
       "    </tr>\n",
       "  </thead>\n",
       "  <tbody>\n",
       "    <tr>\n",
       "      <th>0</th>\n",
       "      <td>Ohio</td>\n",
       "      <td>2000</td>\n",
       "    </tr>\n",
       "    <tr>\n",
       "      <th>1</th>\n",
       "      <td>Ohio</td>\n",
       "      <td>2001</td>\n",
       "    </tr>\n",
       "    <tr>\n",
       "      <th>2</th>\n",
       "      <td>Ohio</td>\n",
       "      <td>2002</td>\n",
       "    </tr>\n",
       "    <tr>\n",
       "      <th>3</th>\n",
       "      <td>Nevada</td>\n",
       "      <td>2001</td>\n",
       "    </tr>\n",
       "    <tr>\n",
       "      <th>4</th>\n",
       "      <td>Nevada</td>\n",
       "      <td>2002</td>\n",
       "    </tr>\n",
       "    <tr>\n",
       "      <th>5</th>\n",
       "      <td>Nevada</td>\n",
       "      <td>2003</td>\n",
       "    </tr>\n",
       "  </tbody>\n",
       "</table>\n",
       "</div>"
      ],
      "text/plain": [
       "    state  year\n",
       "0    Ohio  2000\n",
       "1    Ohio  2001\n",
       "2    Ohio  2002\n",
       "3  Nevada  2001\n",
       "4  Nevada  2002\n",
       "5  Nevada  2003"
      ]
     },
     "execution_count": 32,
     "metadata": {},
     "output_type": "execute_result"
    }
   ],
   "source": [
    "df.loc[:,['state','year']]"
   ]
  },
  {
   "cell_type": "code",
   "execution_count": 33,
   "id": "8f20906a-0cac-478e-9385-8941dde80831",
   "metadata": {},
   "outputs": [
    {
     "data": {
      "text/html": [
       "<div>\n",
       "<style scoped>\n",
       "    .dataframe tbody tr th:only-of-type {\n",
       "        vertical-align: middle;\n",
       "    }\n",
       "\n",
       "    .dataframe tbody tr th {\n",
       "        vertical-align: top;\n",
       "    }\n",
       "\n",
       "    .dataframe thead th {\n",
       "        text-align: right;\n",
       "    }\n",
       "</style>\n",
       "<table border=\"1\" class=\"dataframe\">\n",
       "  <thead>\n",
       "    <tr style=\"text-align: right;\">\n",
       "      <th></th>\n",
       "      <th>state</th>\n",
       "    </tr>\n",
       "  </thead>\n",
       "  <tbody>\n",
       "    <tr>\n",
       "      <th>0</th>\n",
       "      <td>Ohio</td>\n",
       "    </tr>\n",
       "    <tr>\n",
       "      <th>1</th>\n",
       "      <td>Ohio</td>\n",
       "    </tr>\n",
       "    <tr>\n",
       "      <th>2</th>\n",
       "      <td>Ohio</td>\n",
       "    </tr>\n",
       "    <tr>\n",
       "      <th>3</th>\n",
       "      <td>Nevada</td>\n",
       "    </tr>\n",
       "    <tr>\n",
       "      <th>4</th>\n",
       "      <td>Nevada</td>\n",
       "    </tr>\n",
       "    <tr>\n",
       "      <th>5</th>\n",
       "      <td>Nevada</td>\n",
       "    </tr>\n",
       "  </tbody>\n",
       "</table>\n",
       "</div>"
      ],
      "text/plain": [
       "    state\n",
       "0    Ohio\n",
       "1    Ohio\n",
       "2    Ohio\n",
       "3  Nevada\n",
       "4  Nevada\n",
       "5  Nevada"
      ]
     },
     "execution_count": 33,
     "metadata": {},
     "output_type": "execute_result"
    }
   ],
   "source": [
    "df.iloc[:, [0]]"
   ]
  },
  {
   "cell_type": "code",
   "execution_count": 34,
   "id": "f0be71b7-d4e4-4332-9656-28a92e145104",
   "metadata": {},
   "outputs": [
    {
     "data": {
      "text/html": [
       "<div>\n",
       "<style scoped>\n",
       "    .dataframe tbody tr th:only-of-type {\n",
       "        vertical-align: middle;\n",
       "    }\n",
       "\n",
       "    .dataframe tbody tr th {\n",
       "        vertical-align: top;\n",
       "    }\n",
       "\n",
       "    .dataframe thead th {\n",
       "        text-align: right;\n",
       "    }\n",
       "</style>\n",
       "<table border=\"1\" class=\"dataframe\">\n",
       "  <thead>\n",
       "    <tr style=\"text-align: right;\">\n",
       "      <th></th>\n",
       "      <th>state</th>\n",
       "      <th>year</th>\n",
       "      <th>pop</th>\n",
       "    </tr>\n",
       "  </thead>\n",
       "  <tbody>\n",
       "    <tr>\n",
       "      <th>0</th>\n",
       "      <td>Ohio</td>\n",
       "      <td>2000</td>\n",
       "      <td>1.5</td>\n",
       "    </tr>\n",
       "    <tr>\n",
       "      <th>1</th>\n",
       "      <td>Ohio</td>\n",
       "      <td>2001</td>\n",
       "      <td>1.7</td>\n",
       "    </tr>\n",
       "  </tbody>\n",
       "</table>\n",
       "</div>"
      ],
      "text/plain": [
       "  state  year  pop\n",
       "0  Ohio  2000  1.5\n",
       "1  Ohio  2001  1.7"
      ]
     },
     "execution_count": 34,
     "metadata": {},
     "output_type": "execute_result"
    }
   ],
   "source": [
    "df[:2]    #인덱싱으로 잡아주는게 아니라 꼭 슬라이싱으로 잡아줘야한다."
   ]
  },
  {
   "cell_type": "code",
   "execution_count": 35,
   "id": "c7c53d3e-db98-4ff6-9ad7-4f495c02e93d",
   "metadata": {},
   "outputs": [
    {
     "data": {
      "text/html": [
       "<div>\n",
       "<style scoped>\n",
       "    .dataframe tbody tr th:only-of-type {\n",
       "        vertical-align: middle;\n",
       "    }\n",
       "\n",
       "    .dataframe tbody tr th {\n",
       "        vertical-align: top;\n",
       "    }\n",
       "\n",
       "    .dataframe thead th {\n",
       "        text-align: right;\n",
       "    }\n",
       "</style>\n",
       "<table border=\"1\" class=\"dataframe\">\n",
       "  <thead>\n",
       "    <tr style=\"text-align: right;\">\n",
       "      <th></th>\n",
       "      <th>state</th>\n",
       "      <th>year</th>\n",
       "      <th>pop</th>\n",
       "      <th>eastern</th>\n",
       "    </tr>\n",
       "  </thead>\n",
       "  <tbody>\n",
       "    <tr>\n",
       "      <th>0</th>\n",
       "      <td>Ohio</td>\n",
       "      <td>2000</td>\n",
       "      <td>1.5</td>\n",
       "      <td>True</td>\n",
       "    </tr>\n",
       "    <tr>\n",
       "      <th>1</th>\n",
       "      <td>Ohio</td>\n",
       "      <td>2001</td>\n",
       "      <td>1.7</td>\n",
       "      <td>True</td>\n",
       "    </tr>\n",
       "    <tr>\n",
       "      <th>2</th>\n",
       "      <td>Ohio</td>\n",
       "      <td>2002</td>\n",
       "      <td>3.6</td>\n",
       "      <td>True</td>\n",
       "    </tr>\n",
       "    <tr>\n",
       "      <th>3</th>\n",
       "      <td>Nevada</td>\n",
       "      <td>2001</td>\n",
       "      <td>2.4</td>\n",
       "      <td>False</td>\n",
       "    </tr>\n",
       "    <tr>\n",
       "      <th>4</th>\n",
       "      <td>Nevada</td>\n",
       "      <td>2002</td>\n",
       "      <td>2.9</td>\n",
       "      <td>False</td>\n",
       "    </tr>\n",
       "    <tr>\n",
       "      <th>5</th>\n",
       "      <td>Nevada</td>\n",
       "      <td>2003</td>\n",
       "      <td>3.2</td>\n",
       "      <td>False</td>\n",
       "    </tr>\n",
       "  </tbody>\n",
       "</table>\n",
       "</div>"
      ],
      "text/plain": [
       "    state  year  pop  eastern\n",
       "0    Ohio  2000  1.5     True\n",
       "1    Ohio  2001  1.7     True\n",
       "2    Ohio  2002  3.6     True\n",
       "3  Nevada  2001  2.4    False\n",
       "4  Nevada  2002  2.9    False\n",
       "5  Nevada  2003  3.2    False"
      ]
     },
     "execution_count": 35,
     "metadata": {},
     "output_type": "execute_result"
    }
   ],
   "source": [
    "frame['eastern'] = frame.state == 'Ohio'\n",
    "frame"
   ]
  },
  {
   "cell_type": "code",
   "execution_count": 36,
   "id": "afc28fa8-028f-4858-901a-48b5bb080dcb",
   "metadata": {},
   "outputs": [
    {
     "data": {
      "text/html": [
       "<div>\n",
       "<style scoped>\n",
       "    .dataframe tbody tr th:only-of-type {\n",
       "        vertical-align: middle;\n",
       "    }\n",
       "\n",
       "    .dataframe tbody tr th {\n",
       "        vertical-align: top;\n",
       "    }\n",
       "\n",
       "    .dataframe thead th {\n",
       "        text-align: right;\n",
       "    }\n",
       "</style>\n",
       "<table border=\"1\" class=\"dataframe\">\n",
       "  <thead>\n",
       "    <tr style=\"text-align: right;\">\n",
       "      <th></th>\n",
       "      <th>state</th>\n",
       "      <th>year</th>\n",
       "      <th>pop</th>\n",
       "    </tr>\n",
       "  </thead>\n",
       "  <tbody>\n",
       "    <tr>\n",
       "      <th>0</th>\n",
       "      <td>Ohio</td>\n",
       "      <td>2000</td>\n",
       "      <td>1.5</td>\n",
       "    </tr>\n",
       "    <tr>\n",
       "      <th>1</th>\n",
       "      <td>Ohio</td>\n",
       "      <td>2001</td>\n",
       "      <td>1.7</td>\n",
       "    </tr>\n",
       "    <tr>\n",
       "      <th>2</th>\n",
       "      <td>Ohio</td>\n",
       "      <td>2002</td>\n",
       "      <td>3.6</td>\n",
       "    </tr>\n",
       "    <tr>\n",
       "      <th>3</th>\n",
       "      <td>Nevada</td>\n",
       "      <td>2001</td>\n",
       "      <td>2.4</td>\n",
       "    </tr>\n",
       "    <tr>\n",
       "      <th>4</th>\n",
       "      <td>Nevada</td>\n",
       "      <td>2002</td>\n",
       "      <td>2.9</td>\n",
       "    </tr>\n",
       "    <tr>\n",
       "      <th>5</th>\n",
       "      <td>Nevada</td>\n",
       "      <td>2003</td>\n",
       "      <td>3.2</td>\n",
       "    </tr>\n",
       "  </tbody>\n",
       "</table>\n",
       "</div>"
      ],
      "text/plain": [
       "    state  year  pop\n",
       "0    Ohio  2000  1.5\n",
       "1    Ohio  2001  1.7\n",
       "2    Ohio  2002  3.6\n",
       "3  Nevada  2001  2.4\n",
       "4  Nevada  2002  2.9\n",
       "5  Nevada  2003  3.2"
      ]
     },
     "execution_count": 36,
     "metadata": {},
     "output_type": "execute_result"
    }
   ],
   "source": [
    "del frame['eastern']   #삭제\n",
    "frame"
   ]
  },
  {
   "cell_type": "code",
   "execution_count": 37,
   "id": "14b62511-22d1-4a99-a2f0-13a727e7b5ef",
   "metadata": {},
   "outputs": [
    {
     "data": {
      "text/html": [
       "<div>\n",
       "<style scoped>\n",
       "    .dataframe tbody tr th:only-of-type {\n",
       "        vertical-align: middle;\n",
       "    }\n",
       "\n",
       "    .dataframe tbody tr th {\n",
       "        vertical-align: top;\n",
       "    }\n",
       "\n",
       "    .dataframe thead th {\n",
       "        text-align: right;\n",
       "    }\n",
       "</style>\n",
       "<table border=\"1\" class=\"dataframe\">\n",
       "  <thead>\n",
       "    <tr style=\"text-align: right;\">\n",
       "      <th></th>\n",
       "      <th>0</th>\n",
       "      <th>1</th>\n",
       "      <th>2</th>\n",
       "      <th>3</th>\n",
       "      <th>4</th>\n",
       "      <th>5</th>\n",
       "    </tr>\n",
       "  </thead>\n",
       "  <tbody>\n",
       "    <tr>\n",
       "      <th>state</th>\n",
       "      <td>Ohio</td>\n",
       "      <td>Ohio</td>\n",
       "      <td>Ohio</td>\n",
       "      <td>Nevada</td>\n",
       "      <td>Nevada</td>\n",
       "      <td>Nevada</td>\n",
       "    </tr>\n",
       "    <tr>\n",
       "      <th>year</th>\n",
       "      <td>2000</td>\n",
       "      <td>2001</td>\n",
       "      <td>2002</td>\n",
       "      <td>2001</td>\n",
       "      <td>2002</td>\n",
       "      <td>2003</td>\n",
       "    </tr>\n",
       "    <tr>\n",
       "      <th>pop</th>\n",
       "      <td>1.5</td>\n",
       "      <td>1.7</td>\n",
       "      <td>3.6</td>\n",
       "      <td>2.4</td>\n",
       "      <td>2.9</td>\n",
       "      <td>3.2</td>\n",
       "    </tr>\n",
       "  </tbody>\n",
       "</table>\n",
       "</div>"
      ],
      "text/plain": [
       "          0     1     2       3       4       5\n",
       "state  Ohio  Ohio  Ohio  Nevada  Nevada  Nevada\n",
       "year   2000  2001  2002    2001    2002    2003\n",
       "pop     1.5   1.7   3.6     2.4     2.9     3.2"
      ]
     },
     "execution_count": 37,
     "metadata": {},
     "output_type": "execute_result"
    }
   ],
   "source": [
    "frame.T  #칼럼과 로우 뒤집기"
   ]
  },
  {
   "cell_type": "code",
   "execution_count": 40,
   "id": "06dd6bec-20c2-4b78-928d-4f6c4ee8a655",
   "metadata": {},
   "outputs": [
    {
     "data": {
      "text/plain": [
       "array([['Ohio', 2000, 1.5],\n",
       "       ['Ohio', 2001, 1.7],\n",
       "       ['Ohio', 2002, 3.6],\n",
       "       ['Nevada', 2001, 2.4],\n",
       "       ['Nevada', 2002, 2.9],\n",
       "       ['Nevada', 2003, 3.2]], dtype=object)"
      ]
     },
     "execution_count": 40,
     "metadata": {},
     "output_type": "execute_result"
    }
   ],
   "source": [
    "frame.values   #DataFrame을 array(2차원 배열)로 바꿔주고 싶으면 뒤에 .values라고 붙이기"
   ]
  },
  {
   "cell_type": "markdown",
   "id": "4967ae6a-c435-4665-88fe-84f57670e7e4",
   "metadata": {},
   "source": [
    "### index\n",
    "- 파이썬의 집합과는 달리 pandas의 인덱스는 중복되는 값을 허용한다."
   ]
  },
  {
   "cell_type": "code",
   "execution_count": 41,
   "id": "5abce9de-1b01-4bf2-b12b-f246a9c09ab8",
   "metadata": {},
   "outputs": [
    {
     "data": {
      "text/html": [
       "<div>\n",
       "<style scoped>\n",
       "    .dataframe tbody tr th:only-of-type {\n",
       "        vertical-align: middle;\n",
       "    }\n",
       "\n",
       "    .dataframe tbody tr th {\n",
       "        vertical-align: top;\n",
       "    }\n",
       "\n",
       "    .dataframe thead th {\n",
       "        text-align: right;\n",
       "    }\n",
       "</style>\n",
       "<table border=\"1\" class=\"dataframe\">\n",
       "  <thead>\n",
       "    <tr style=\"text-align: right;\">\n",
       "      <th></th>\n",
       "      <th>state</th>\n",
       "      <th>year</th>\n",
       "      <th>pop</th>\n",
       "    </tr>\n",
       "  </thead>\n",
       "  <tbody>\n",
       "    <tr>\n",
       "      <th>0</th>\n",
       "      <td>Ohio</td>\n",
       "      <td>2000</td>\n",
       "      <td>1.5</td>\n",
       "    </tr>\n",
       "    <tr>\n",
       "      <th>1</th>\n",
       "      <td>Ohio</td>\n",
       "      <td>2001</td>\n",
       "      <td>1.7</td>\n",
       "    </tr>\n",
       "    <tr>\n",
       "      <th>2</th>\n",
       "      <td>Ohio</td>\n",
       "      <td>2002</td>\n",
       "      <td>3.6</td>\n",
       "    </tr>\n",
       "    <tr>\n",
       "      <th>3</th>\n",
       "      <td>Nevada</td>\n",
       "      <td>2001</td>\n",
       "      <td>2.4</td>\n",
       "    </tr>\n",
       "    <tr>\n",
       "      <th>4</th>\n",
       "      <td>Nevada</td>\n",
       "      <td>2002</td>\n",
       "      <td>2.9</td>\n",
       "    </tr>\n",
       "    <tr>\n",
       "      <th>5</th>\n",
       "      <td>Nevada</td>\n",
       "      <td>2003</td>\n",
       "      <td>3.2</td>\n",
       "    </tr>\n",
       "  </tbody>\n",
       "</table>\n",
       "</div>"
      ],
      "text/plain": [
       "    state  year  pop\n",
       "0    Ohio  2000  1.5\n",
       "1    Ohio  2001  1.7\n",
       "2    Ohio  2002  3.6\n",
       "3  Nevada  2001  2.4\n",
       "4  Nevada  2002  2.9\n",
       "5  Nevada  2003  3.2"
      ]
     },
     "execution_count": 41,
     "metadata": {},
     "output_type": "execute_result"
    }
   ],
   "source": [
    "df"
   ]
  },
  {
   "cell_type": "code",
   "execution_count": 42,
   "id": "b82b572b-6bf3-4448-8911-65b98bb67dd2",
   "metadata": {},
   "outputs": [
    {
     "data": {
      "text/html": [
       "<div>\n",
       "<style scoped>\n",
       "    .dataframe tbody tr th:only-of-type {\n",
       "        vertical-align: middle;\n",
       "    }\n",
       "\n",
       "    .dataframe tbody tr th {\n",
       "        vertical-align: top;\n",
       "    }\n",
       "\n",
       "    .dataframe thead th {\n",
       "        text-align: right;\n",
       "    }\n",
       "</style>\n",
       "<table border=\"1\" class=\"dataframe\">\n",
       "  <thead>\n",
       "    <tr style=\"text-align: right;\">\n",
       "      <th></th>\n",
       "      <th>state</th>\n",
       "      <th>year</th>\n",
       "      <th>pop</th>\n",
       "    </tr>\n",
       "  </thead>\n",
       "  <tbody>\n",
       "    <tr>\n",
       "      <th>a</th>\n",
       "      <td>Ohio</td>\n",
       "      <td>2000</td>\n",
       "      <td>1.5</td>\n",
       "    </tr>\n",
       "    <tr>\n",
       "      <th>b</th>\n",
       "      <td>Ohio</td>\n",
       "      <td>2001</td>\n",
       "      <td>1.7</td>\n",
       "    </tr>\n",
       "    <tr>\n",
       "      <th>c</th>\n",
       "      <td>Ohio</td>\n",
       "      <td>2002</td>\n",
       "      <td>3.6</td>\n",
       "    </tr>\n",
       "    <tr>\n",
       "      <th>a</th>\n",
       "      <td>Nevada</td>\n",
       "      <td>2001</td>\n",
       "      <td>2.4</td>\n",
       "    </tr>\n",
       "    <tr>\n",
       "      <th>b</th>\n",
       "      <td>Nevada</td>\n",
       "      <td>2002</td>\n",
       "      <td>2.9</td>\n",
       "    </tr>\n",
       "    <tr>\n",
       "      <th>c</th>\n",
       "      <td>Nevada</td>\n",
       "      <td>2003</td>\n",
       "      <td>3.2</td>\n",
       "    </tr>\n",
       "  </tbody>\n",
       "</table>\n",
       "</div>"
      ],
      "text/plain": [
       "    state  year  pop\n",
       "a    Ohio  2000  1.5\n",
       "b    Ohio  2001  1.7\n",
       "c    Ohio  2002  3.6\n",
       "a  Nevada  2001  2.4\n",
       "b  Nevada  2002  2.9\n",
       "c  Nevada  2003  3.2"
      ]
     },
     "execution_count": 42,
     "metadata": {},
     "output_type": "execute_result"
    }
   ],
   "source": [
    "df.index = ['a','b','c','a','b','c']\n",
    "df"
   ]
  },
  {
   "cell_type": "markdown",
   "id": "a93af90a-edab-4a63-8989-ddf67da991d5",
   "metadata": {},
   "source": [
    "### reindex\n",
    "- 인덱스 다시 바꾸기"
   ]
  },
  {
   "cell_type": "markdown",
   "id": "80b36ef9-79eb-43c8-b411-19ae68a595fb",
   "metadata": {},
   "source": [
    "- method = 'ffill' -> 결측치를 직전의 값으로 채워 넣어주는 방법"
   ]
  },
  {
   "cell_type": "code",
   "execution_count": 43,
   "id": "8d4945b7-456e-41ec-b8dd-244b6e08efda",
   "metadata": {},
   "outputs": [
    {
     "data": {
      "text/plain": [
       "d    4.5\n",
       "b    7.2\n",
       "a   -5.3\n",
       "c    3.6\n",
       "dtype: float64"
      ]
     },
     "execution_count": 43,
     "metadata": {},
     "output_type": "execute_result"
    }
   ],
   "source": [
    "obj = pd.Series([4.5, 7.2, -5.3, 3.6], index=['d', 'b', 'a', 'c']) \n",
    "obj"
   ]
  },
  {
   "cell_type": "code",
   "execution_count": 46,
   "id": "b8ce6f9d-faad-4348-9b6b-34b2cfae49ea",
   "metadata": {},
   "outputs": [
    {
     "data": {
      "text/plain": [
       "a   -5.3\n",
       "b    7.2\n",
       "c    3.6\n",
       "d    4.5\n",
       "e    NaN\n",
       "dtype: float64"
      ]
     },
     "execution_count": 46,
     "metadata": {},
     "output_type": "execute_result"
    }
   ],
   "source": [
    "obj.reindex(['a','b','c','d','e'])\n",
    "#덮어쓰는게 아니라 정렬을 해주는 모습이다.\n",
    "#그래서 e는 값이 없는 것으로 나왔다."
   ]
  },
  {
   "cell_type": "code",
   "execution_count": 49,
   "id": "c2785b31-6268-4151-8f89-30c1fac62b8d",
   "metadata": {},
   "outputs": [
    {
     "data": {
      "text/plain": [
       "d    4.5\n",
       "b    7.2\n",
       "a   -5.3\n",
       "c    3.6\n",
       "dtype: float64"
      ]
     },
     "execution_count": 49,
     "metadata": {},
     "output_type": "execute_result"
    }
   ],
   "source": [
    "obj"
   ]
  },
  {
   "cell_type": "code",
   "execution_count": 50,
   "id": "540c4c6b-e556-4b5a-9e8b-d6663091abe4",
   "metadata": {},
   "outputs": [
    {
     "data": {
      "text/plain": [
       "a   -5.3\n",
       "b    7.2\n",
       "c    3.6\n",
       "d    4.5\n",
       "dtype: float64"
      ]
     },
     "execution_count": 50,
     "metadata": {},
     "output_type": "execute_result"
    }
   ],
   "source": [
    "obj = obj.reindex(['a','b','c','d'])\n",
    "obj"
   ]
  },
  {
   "cell_type": "code",
   "execution_count": 51,
   "id": "61200082-912b-413c-b34f-26f0fd301430",
   "metadata": {},
   "outputs": [
    {
     "data": {
      "text/plain": [
       "b    7.2\n",
       "c    3.6\n",
       "dtype: float64"
      ]
     },
     "execution_count": 51,
     "metadata": {},
     "output_type": "execute_result"
    }
   ],
   "source": [
    "obj['b' : 'c']    #슬라이싱도 가능하다."
   ]
  },
  {
   "cell_type": "code",
   "execution_count": 52,
   "id": "1a9b3015-d0b9-4318-996c-ff0fc66e8617",
   "metadata": {},
   "outputs": [
    {
     "data": {
      "text/plain": [
       "a    False\n",
       "b     True\n",
       "c     True\n",
       "d     True\n",
       "dtype: bool"
      ]
     },
     "execution_count": 52,
     "metadata": {},
     "output_type": "execute_result"
    }
   ],
   "source": [
    "obj > 0"
   ]
  },
  {
   "cell_type": "code",
   "execution_count": 53,
   "id": "3e61e110-db2e-4777-b8db-e0c411a4ad16",
   "metadata": {},
   "outputs": [
    {
     "data": {
      "text/plain": [
       "b    7.2\n",
       "c    3.6\n",
       "d    4.5\n",
       "dtype: float64"
      ]
     },
     "execution_count": 53,
     "metadata": {},
     "output_type": "execute_result"
    }
   ],
   "source": [
    "obj[obj > 0]"
   ]
  },
  {
   "cell_type": "markdown",
   "id": "ee4de66b-cc3d-405b-9464-c831a601a046",
   "metadata": {},
   "source": [
    "### drop\n",
    "- df.drop(['a'], axis=0)  -> 'a'을 제외시킨다.(axis=0은 열, 1은 행이다.)\n",
    "- drop 함수는 크기 또는 형태를 변경하지만 원본 객체를 변경하니 주의할것"
   ]
  },
  {
   "cell_type": "code",
   "execution_count": 47,
   "id": "144038d7-9678-4064-9bbb-de98224cb33c",
   "metadata": {},
   "outputs": [
    {
     "data": {
      "text/html": [
       "<div>\n",
       "<style scoped>\n",
       "    .dataframe tbody tr th:only-of-type {\n",
       "        vertical-align: middle;\n",
       "    }\n",
       "\n",
       "    .dataframe tbody tr th {\n",
       "        vertical-align: top;\n",
       "    }\n",
       "\n",
       "    .dataframe thead th {\n",
       "        text-align: right;\n",
       "    }\n",
       "</style>\n",
       "<table border=\"1\" class=\"dataframe\">\n",
       "  <thead>\n",
       "    <tr style=\"text-align: right;\">\n",
       "      <th></th>\n",
       "      <th>state</th>\n",
       "      <th>year</th>\n",
       "      <th>pop</th>\n",
       "    </tr>\n",
       "  </thead>\n",
       "  <tbody>\n",
       "    <tr>\n",
       "      <th>b</th>\n",
       "      <td>Ohio</td>\n",
       "      <td>2001</td>\n",
       "      <td>1.7</td>\n",
       "    </tr>\n",
       "    <tr>\n",
       "      <th>c</th>\n",
       "      <td>Ohio</td>\n",
       "      <td>2002</td>\n",
       "      <td>3.6</td>\n",
       "    </tr>\n",
       "    <tr>\n",
       "      <th>b</th>\n",
       "      <td>Nevada</td>\n",
       "      <td>2002</td>\n",
       "      <td>2.9</td>\n",
       "    </tr>\n",
       "    <tr>\n",
       "      <th>c</th>\n",
       "      <td>Nevada</td>\n",
       "      <td>2003</td>\n",
       "      <td>3.2</td>\n",
       "    </tr>\n",
       "  </tbody>\n",
       "</table>\n",
       "</div>"
      ],
      "text/plain": [
       "    state  year  pop\n",
       "b    Ohio  2001  1.7\n",
       "c    Ohio  2002  3.6\n",
       "b  Nevada  2002  2.9\n",
       "c  Nevada  2003  3.2"
      ]
     },
     "execution_count": 47,
     "metadata": {},
     "output_type": "execute_result"
    }
   ],
   "source": [
    "df.drop(['a'], axis=0)"
   ]
  },
  {
   "cell_type": "code",
   "execution_count": 48,
   "id": "c76fbb4c-0891-4c9c-bd82-de0f8e410ac0",
   "metadata": {},
   "outputs": [
    {
     "data": {
      "text/html": [
       "<div>\n",
       "<style scoped>\n",
       "    .dataframe tbody tr th:only-of-type {\n",
       "        vertical-align: middle;\n",
       "    }\n",
       "\n",
       "    .dataframe tbody tr th {\n",
       "        vertical-align: top;\n",
       "    }\n",
       "\n",
       "    .dataframe thead th {\n",
       "        text-align: right;\n",
       "    }\n",
       "</style>\n",
       "<table border=\"1\" class=\"dataframe\">\n",
       "  <thead>\n",
       "    <tr style=\"text-align: right;\">\n",
       "      <th></th>\n",
       "      <th>year</th>\n",
       "      <th>pop</th>\n",
       "    </tr>\n",
       "  </thead>\n",
       "  <tbody>\n",
       "    <tr>\n",
       "      <th>a</th>\n",
       "      <td>2000</td>\n",
       "      <td>1.5</td>\n",
       "    </tr>\n",
       "    <tr>\n",
       "      <th>b</th>\n",
       "      <td>2001</td>\n",
       "      <td>1.7</td>\n",
       "    </tr>\n",
       "    <tr>\n",
       "      <th>c</th>\n",
       "      <td>2002</td>\n",
       "      <td>3.6</td>\n",
       "    </tr>\n",
       "    <tr>\n",
       "      <th>a</th>\n",
       "      <td>2001</td>\n",
       "      <td>2.4</td>\n",
       "    </tr>\n",
       "    <tr>\n",
       "      <th>b</th>\n",
       "      <td>2002</td>\n",
       "      <td>2.9</td>\n",
       "    </tr>\n",
       "    <tr>\n",
       "      <th>c</th>\n",
       "      <td>2003</td>\n",
       "      <td>3.2</td>\n",
       "    </tr>\n",
       "  </tbody>\n",
       "</table>\n",
       "</div>"
      ],
      "text/plain": [
       "   year  pop\n",
       "a  2000  1.5\n",
       "b  2001  1.7\n",
       "c  2002  3.6\n",
       "a  2001  2.4\n",
       "b  2002  2.9\n",
       "c  2003  3.2"
      ]
     },
     "execution_count": 48,
     "metadata": {},
     "output_type": "execute_result"
    }
   ],
   "source": [
    "df.drop(['state'], axis=1)"
   ]
  },
  {
   "cell_type": "markdown",
   "id": "e29b1b30-0bd0-4b38-a220-ad53e7fb671a",
   "metadata": {},
   "source": [
    "### 유니버설 함수 적용\n",
    "- np.abs(frame) : 음수를 전부 양수로 바꿔준다.\n",
    "- frame.apply(sum) : 총 합\n",
    "- frame.apply(np.mean) : 평균\n",
    "- frame.mix(),frame.max()\n",
    "- frame.apply(lambda x : 람다식, axis = )"
   ]
  },
  {
   "cell_type": "code",
   "execution_count": 56,
   "id": "a8470fff-06cc-4b82-8e85-f2324908ecec",
   "metadata": {},
   "outputs": [
    {
     "data": {
      "text/html": [
       "<div>\n",
       "<style scoped>\n",
       "    .dataframe tbody tr th:only-of-type {\n",
       "        vertical-align: middle;\n",
       "    }\n",
       "\n",
       "    .dataframe tbody tr th {\n",
       "        vertical-align: top;\n",
       "    }\n",
       "\n",
       "    .dataframe thead th {\n",
       "        text-align: right;\n",
       "    }\n",
       "</style>\n",
       "<table border=\"1\" class=\"dataframe\">\n",
       "  <thead>\n",
       "    <tr style=\"text-align: right;\">\n",
       "      <th></th>\n",
       "      <th>b</th>\n",
       "      <th>d</th>\n",
       "      <th>e</th>\n",
       "    </tr>\n",
       "  </thead>\n",
       "  <tbody>\n",
       "    <tr>\n",
       "      <th>Utah</th>\n",
       "      <td>-0.477258</td>\n",
       "      <td>-1.465341</td>\n",
       "      <td>-1.828722</td>\n",
       "    </tr>\n",
       "    <tr>\n",
       "      <th>Ohio</th>\n",
       "      <td>0.037826</td>\n",
       "      <td>-0.959602</td>\n",
       "      <td>1.212432</td>\n",
       "    </tr>\n",
       "    <tr>\n",
       "      <th>Texas</th>\n",
       "      <td>-0.417939</td>\n",
       "      <td>0.655925</td>\n",
       "      <td>0.938720</td>\n",
       "    </tr>\n",
       "    <tr>\n",
       "      <th>Oregon</th>\n",
       "      <td>0.098010</td>\n",
       "      <td>-0.375021</td>\n",
       "      <td>-1.564697</td>\n",
       "    </tr>\n",
       "  </tbody>\n",
       "</table>\n",
       "</div>"
      ],
      "text/plain": [
       "               b         d         e\n",
       "Utah   -0.477258 -1.465341 -1.828722\n",
       "Ohio    0.037826 -0.959602  1.212432\n",
       "Texas  -0.417939  0.655925  0.938720\n",
       "Oregon  0.098010 -0.375021 -1.564697"
      ]
     },
     "execution_count": 56,
     "metadata": {},
     "output_type": "execute_result"
    }
   ],
   "source": [
    "frame = pd.DataFrame(np.random.randn(4, 3), columns=list('bde'),\n",
    "                  index=['Utah', 'Ohio', 'Texas', 'Oregon']) \n",
    "frame"
   ]
  },
  {
   "cell_type": "code",
   "execution_count": 57,
   "id": "de0a8037-21ff-425b-b6e1-dc357e7a0c24",
   "metadata": {},
   "outputs": [
    {
     "data": {
      "text/html": [
       "<div>\n",
       "<style scoped>\n",
       "    .dataframe tbody tr th:only-of-type {\n",
       "        vertical-align: middle;\n",
       "    }\n",
       "\n",
       "    .dataframe tbody tr th {\n",
       "        vertical-align: top;\n",
       "    }\n",
       "\n",
       "    .dataframe thead th {\n",
       "        text-align: right;\n",
       "    }\n",
       "</style>\n",
       "<table border=\"1\" class=\"dataframe\">\n",
       "  <thead>\n",
       "    <tr style=\"text-align: right;\">\n",
       "      <th></th>\n",
       "      <th>b</th>\n",
       "      <th>d</th>\n",
       "      <th>e</th>\n",
       "    </tr>\n",
       "  </thead>\n",
       "  <tbody>\n",
       "    <tr>\n",
       "      <th>Utah</th>\n",
       "      <td>0.477258</td>\n",
       "      <td>1.465341</td>\n",
       "      <td>1.828722</td>\n",
       "    </tr>\n",
       "    <tr>\n",
       "      <th>Ohio</th>\n",
       "      <td>0.037826</td>\n",
       "      <td>0.959602</td>\n",
       "      <td>1.212432</td>\n",
       "    </tr>\n",
       "    <tr>\n",
       "      <th>Texas</th>\n",
       "      <td>0.417939</td>\n",
       "      <td>0.655925</td>\n",
       "      <td>0.938720</td>\n",
       "    </tr>\n",
       "    <tr>\n",
       "      <th>Oregon</th>\n",
       "      <td>0.098010</td>\n",
       "      <td>0.375021</td>\n",
       "      <td>1.564697</td>\n",
       "    </tr>\n",
       "  </tbody>\n",
       "</table>\n",
       "</div>"
      ],
      "text/plain": [
       "               b         d         e\n",
       "Utah    0.477258  1.465341  1.828722\n",
       "Ohio    0.037826  0.959602  1.212432\n",
       "Texas   0.417939  0.655925  0.938720\n",
       "Oregon  0.098010  0.375021  1.564697"
      ]
     },
     "execution_count": 57,
     "metadata": {},
     "output_type": "execute_result"
    }
   ],
   "source": [
    "#음수를 전부 양수로 만들어주세요.\n",
    "frame = np.abs(frame)\n",
    "frame"
   ]
  },
  {
   "cell_type": "code",
   "execution_count": 58,
   "id": "ecf99a38-382f-4319-ac48-000c68b0e42c",
   "metadata": {},
   "outputs": [
    {
     "data": {
      "text/plain": [
       "b    1.031034\n",
       "d    3.455888\n",
       "e    5.544571\n",
       "dtype: float64"
      ]
     },
     "execution_count": 58,
     "metadata": {},
     "output_type": "execute_result"
    }
   ],
   "source": [
    "frame.apply(sum)"
   ]
  },
  {
   "cell_type": "code",
   "execution_count": 59,
   "id": "2ef3d9df-48c3-493e-b527-2366309898d2",
   "metadata": {},
   "outputs": [
    {
     "data": {
      "text/plain": [
       "Utah      3.771321\n",
       "Ohio      2.209860\n",
       "Texas     2.012583\n",
       "Oregon    2.037729\n",
       "dtype: float64"
      ]
     },
     "execution_count": 59,
     "metadata": {},
     "output_type": "execute_result"
    }
   ],
   "source": [
    "frame.apply(sum, axis = 1)"
   ]
  },
  {
   "cell_type": "code",
   "execution_count": 60,
   "id": "134b3c40-a587-4584-bbbf-d859cfa5d626",
   "metadata": {},
   "outputs": [
    {
     "data": {
      "text/plain": [
       "b    0.257759\n",
       "d    0.863972\n",
       "e    1.386143\n",
       "dtype: float64"
      ]
     },
     "execution_count": 60,
     "metadata": {},
     "output_type": "execute_result"
    }
   ],
   "source": [
    "frame.apply(np.mean)"
   ]
  },
  {
   "cell_type": "code",
   "execution_count": 61,
   "id": "ed3b6bdf-b055-4f69-bfbf-c80a7b3f5e09",
   "metadata": {},
   "outputs": [
    {
     "data": {
      "text/plain": [
       "b    0.037826\n",
       "d    0.375021\n",
       "e    0.938720\n",
       "dtype: float64"
      ]
     },
     "execution_count": 61,
     "metadata": {},
     "output_type": "execute_result"
    }
   ],
   "source": [
    "frame.min()"
   ]
  },
  {
   "cell_type": "code",
   "execution_count": 62,
   "id": "f5e77e79-11fd-4f39-9a27-a245be225516",
   "metadata": {},
   "outputs": [
    {
     "data": {
      "text/plain": [
       "b    0.477258\n",
       "d    1.465341\n",
       "e    1.828722\n",
       "dtype: float64"
      ]
     },
     "execution_count": 62,
     "metadata": {},
     "output_type": "execute_result"
    }
   ],
   "source": [
    "frame.max()"
   ]
  },
  {
   "cell_type": "code",
   "execution_count": 63,
   "id": "ca4599bf-4f71-4419-8c8f-7c646fc1fc97",
   "metadata": {},
   "outputs": [
    {
     "data": {
      "text/plain": [
       "b    0.439432\n",
       "d    1.090320\n",
       "e    0.890002\n",
       "dtype: float64"
      ]
     },
     "execution_count": 63,
     "metadata": {},
     "output_type": "execute_result"
    }
   ],
   "source": [
    "#최댓값과 최솟값의 차이\n",
    "def f(x):\n",
    "    return x.max() - x.min()\n",
    "\n",
    "frame.apply(f)"
   ]
  },
  {
   "cell_type": "code",
   "execution_count": 65,
   "id": "d63683e9-ba3c-42d5-a544-c2ab8a11504c",
   "metadata": {},
   "outputs": [
    {
     "data": {
      "text/plain": [
       "Utah      1.351464\n",
       "Ohio      1.174606\n",
       "Texas     0.520781\n",
       "Oregon    1.466687\n",
       "dtype: float64"
      ]
     },
     "execution_count": 65,
     "metadata": {},
     "output_type": "execute_result"
    }
   ],
   "source": [
    "frame.apply(lambda x : x.max()-x.min(), axis = 1)   #위의 식과 같다"
   ]
  },
  {
   "cell_type": "code",
   "execution_count": 68,
   "id": "a0ab1c9c-dcea-417e-b419-d603380b296e",
   "metadata": {},
   "outputs": [
    {
     "data": {
      "text/html": [
       "<div>\n",
       "<style scoped>\n",
       "    .dataframe tbody tr th:only-of-type {\n",
       "        vertical-align: middle;\n",
       "    }\n",
       "\n",
       "    .dataframe tbody tr th {\n",
       "        vertical-align: top;\n",
       "    }\n",
       "\n",
       "    .dataframe thead th {\n",
       "        text-align: right;\n",
       "    }\n",
       "</style>\n",
       "<table border=\"1\" class=\"dataframe\">\n",
       "  <thead>\n",
       "    <tr style=\"text-align: right;\">\n",
       "      <th></th>\n",
       "      <th>b</th>\n",
       "      <th>d</th>\n",
       "      <th>e</th>\n",
       "    </tr>\n",
       "  </thead>\n",
       "  <tbody>\n",
       "    <tr>\n",
       "      <th>Utah</th>\n",
       "      <td>0.48</td>\n",
       "      <td>1.47</td>\n",
       "      <td>1.83</td>\n",
       "    </tr>\n",
       "    <tr>\n",
       "      <th>Ohio</th>\n",
       "      <td>0.04</td>\n",
       "      <td>0.96</td>\n",
       "      <td>1.21</td>\n",
       "    </tr>\n",
       "    <tr>\n",
       "      <th>Texas</th>\n",
       "      <td>0.42</td>\n",
       "      <td>0.66</td>\n",
       "      <td>0.94</td>\n",
       "    </tr>\n",
       "    <tr>\n",
       "      <th>Oregon</th>\n",
       "      <td>0.10</td>\n",
       "      <td>0.38</td>\n",
       "      <td>1.56</td>\n",
       "    </tr>\n",
       "  </tbody>\n",
       "</table>\n",
       "</div>"
      ],
      "text/plain": [
       "           b     d     e\n",
       "Utah    0.48  1.47  1.83\n",
       "Ohio    0.04  0.96  1.21\n",
       "Texas   0.42  0.66  0.94\n",
       "Oregon  0.10  0.38  1.56"
      ]
     },
     "execution_count": 68,
     "metadata": {},
     "output_type": "execute_result"
    }
   ],
   "source": [
    "form = lambda x : '%.2f' %x     #.2f : 소수점 이하 둘째자리까지, %는 변수라는 표시\n",
    "\n",
    "frame.applymap(form)"
   ]
  },
  {
   "cell_type": "markdown",
   "id": "7e678985-da27-4cde-9afc-ae6501d6ae34",
   "metadata": {},
   "source": [
    "```\n",
    "<주의>\n",
    "\n",
    "frame.applymap(form)이라고 안하고 frame.apply(form)을 실행시키면\n",
    "TypeError: cannot convert the series to <class 'float'>\n",
    "이라는 오류가 발생한다.\n",
    "\n",
    "apply가 에러나는 이유는 열로 통으로 잡아줘서이다.\n",
    "applymap은 하나하나 터지해서 잡아주기 때문에 에러가X\n",
    "```"
   ]
  },
  {
   "cell_type": "markdown",
   "id": "bd75fb23-3feb-4f78-b14f-2a268fdac405",
   "metadata": {},
   "source": [
    "### sort_index\n",
    "- 로우나 칼럼을 알파벳순으로 정렬 후 정렬된 새로운 객체를 반환한다."
   ]
  },
  {
   "cell_type": "markdown",
   "id": "8e195afb-03c1-463b-9c59-7a35882df8b7",
   "metadata": {},
   "source": [
    "### sort_values\n",
    "- 값에 따라 정렬"
   ]
  },
  {
   "cell_type": "markdown",
   "id": "a48b9709-648b-4571-b7ae-640585db648c",
   "metadata": {},
   "source": [
    "- obj.sort_index()\n",
    "- obj.sort_values()\n",
    "- obj = pd.Series([7, -5, 7, 4, 2, 0, 4])\n",
    "- obj.rank()"
   ]
  },
  {
   "cell_type": "code",
   "execution_count": 70,
   "id": "b596a2df-d2e8-4140-8cf3-62fac034c9a9",
   "metadata": {},
   "outputs": [
    {
     "data": {
      "text/plain": [
       "d    4.5\n",
       "b    7.2\n",
       "a   -5.3\n",
       "c    3.6\n",
       "dtype: float64"
      ]
     },
     "execution_count": 70,
     "metadata": {},
     "output_type": "execute_result"
    }
   ],
   "source": [
    "obj = pd.Series([4.5, 7.2, -5.3, 3.6], index=['d', 'b', 'a', 'c']) \n",
    "obj"
   ]
  },
  {
   "cell_type": "code",
   "execution_count": 71,
   "id": "22d35ffa-3d19-4d1f-9a57-09177e4eae78",
   "metadata": {},
   "outputs": [
    {
     "data": {
      "text/plain": [
       "a   -5.3\n",
       "b    7.2\n",
       "c    3.6\n",
       "d    4.5\n",
       "dtype: float64"
      ]
     },
     "execution_count": 71,
     "metadata": {},
     "output_type": "execute_result"
    }
   ],
   "source": [
    "obj.sort_index()"
   ]
  },
  {
   "cell_type": "code",
   "execution_count": 72,
   "id": "3ccefd95-8ddd-4a12-9215-77421cc4fbe7",
   "metadata": {},
   "outputs": [
    {
     "data": {
      "text/plain": [
       "a   -5.3\n",
       "c    3.6\n",
       "d    4.5\n",
       "b    7.2\n",
       "dtype: float64"
      ]
     },
     "execution_count": 72,
     "metadata": {},
     "output_type": "execute_result"
    }
   ],
   "source": [
    "obj.sort_values()"
   ]
  },
  {
   "cell_type": "code",
   "execution_count": 73,
   "id": "b5743308-1d6e-453b-b660-fa899870d011",
   "metadata": {},
   "outputs": [
    {
     "data": {
      "text/plain": [
       "0    7\n",
       "1   -5\n",
       "2    7\n",
       "3    4\n",
       "4    2\n",
       "5    0\n",
       "6    4\n",
       "dtype: int64"
      ]
     },
     "execution_count": 73,
     "metadata": {},
     "output_type": "execute_result"
    }
   ],
   "source": [
    "obj = pd.Series([7, -5, 7, 4, 2, 0, 4])\n",
    "obj"
   ]
  },
  {
   "cell_type": "code",
   "execution_count": 74,
   "id": "d834d23f-0d46-4d6e-b6c4-6d58a428039e",
   "metadata": {},
   "outputs": [
    {
     "data": {
      "text/plain": [
       "0    6.5\n",
       "1    1.0\n",
       "2    6.5\n",
       "3    4.5\n",
       "4    3.0\n",
       "5    2.0\n",
       "6    4.5\n",
       "dtype: float64"
      ]
     },
     "execution_count": 74,
     "metadata": {},
     "output_type": "execute_result"
    }
   ],
   "source": [
    "obj.rank()      #tanking, 순위, 등수\n",
    "                #동점인 항목에 대해서는 평균 순위를 매긴다."
   ]
  },
  {
   "cell_type": "markdown",
   "id": "63411495-9162-46db-b172-4c80ce7b49ed",
   "metadata": {},
   "source": [
    "### is_unique\n",
    "- 해당 값이 유일한지 아닌지 알려주며 인덱스가 중복된 것이 있어도 가능하다.\n",
    "- 중복되는 색인값이 있다면 Series객체를, 중복되는게 없다면 스칼라값을 반환한다.\n",
    "- 스칼라값은 한 개의 숫자를 이야기 한다."
   ]
  },
  {
   "cell_type": "code",
   "execution_count": 75,
   "id": "44325297-1085-4030-a0de-f940e59ae7f1",
   "metadata": {},
   "outputs": [
    {
     "data": {
      "text/plain": [
       "a    0\n",
       "a    1\n",
       "b    2\n",
       "b    3\n",
       "c    4\n",
       "dtype: int64"
      ]
     },
     "execution_count": 75,
     "metadata": {},
     "output_type": "execute_result"
    }
   ],
   "source": [
    "obj = pd.Series(range(5), index=['a','a','b','b','c'])\n",
    "obj"
   ]
  },
  {
   "cell_type": "code",
   "execution_count": 77,
   "id": "39590d68-c6d7-4359-9c7a-ed8bfae096cd",
   "metadata": {},
   "outputs": [
    {
     "data": {
      "text/plain": [
       "a    0\n",
       "a    1\n",
       "dtype: int64"
      ]
     },
     "execution_count": 77,
     "metadata": {},
     "output_type": "execute_result"
    }
   ],
   "source": [
    "# 중복되는 색인값이 있는 경우\n",
    "obj['a']"
   ]
  },
  {
   "cell_type": "code",
   "execution_count": 79,
   "id": "c93e901e-c35d-42c3-b7f0-81e1bf892e71",
   "metadata": {},
   "outputs": [
    {
     "data": {
      "text/plain": [
       "4"
      ]
     },
     "execution_count": 79,
     "metadata": {},
     "output_type": "execute_result"
    }
   ],
   "source": [
    "# 중복되는 색인값이 없는 경우\n",
    "obj['c']"
   ]
  },
  {
   "cell_type": "markdown",
   "id": "53d03065-33cb-4e7e-a3c7-adba2087b237",
   "metadata": {},
   "source": [
    "### isin\n",
    "- 열이 list의 값들을 포함하고 있는 모든 행들을 골라낼 때 주로 쓰인다."
   ]
  },
  {
   "cell_type": "code",
   "execution_count": 93,
   "id": "66ef1f9b-5f81-464a-880f-404e938f2bc1",
   "metadata": {},
   "outputs": [],
   "source": [
    "import pandas as pd"
   ]
  },
  {
   "cell_type": "code",
   "execution_count": 97,
   "id": "76822cea-e71e-499f-948d-94ee4e643143",
   "metadata": {},
   "outputs": [
    {
     "data": {
      "text/html": [
       "<div>\n",
       "<style scoped>\n",
       "    .dataframe tbody tr th:only-of-type {\n",
       "        vertical-align: middle;\n",
       "    }\n",
       "\n",
       "    .dataframe tbody tr th {\n",
       "        vertical-align: top;\n",
       "    }\n",
       "\n",
       "    .dataframe thead th {\n",
       "        text-align: right;\n",
       "    }\n",
       "</style>\n",
       "<table border=\"1\" class=\"dataframe\">\n",
       "  <thead>\n",
       "    <tr style=\"text-align: right;\">\n",
       "      <th></th>\n",
       "      <th>A</th>\n",
       "      <th>B</th>\n",
       "    </tr>\n",
       "  </thead>\n",
       "  <tbody>\n",
       "    <tr>\n",
       "      <th>0</th>\n",
       "      <td>True</td>\n",
       "      <td>True</td>\n",
       "    </tr>\n",
       "    <tr>\n",
       "      <th>1</th>\n",
       "      <td>False</td>\n",
       "      <td>False</td>\n",
       "    </tr>\n",
       "    <tr>\n",
       "      <th>2</th>\n",
       "      <td>True</td>\n",
       "      <td>False</td>\n",
       "    </tr>\n",
       "  </tbody>\n",
       "</table>\n",
       "</div>"
      ],
      "text/plain": [
       "       A      B\n",
       "0   True   True\n",
       "1  False  False\n",
       "2   True  False"
      ]
     },
     "execution_count": 97,
     "metadata": {},
     "output_type": "execute_result"
    }
   ],
   "source": [
    "df = pd.DataFrame({'A': [1, 2, 3], 'B': ['a', 'b', 'f']})\n",
    "df.isin([1, 3, 12, 'a'])  #이 값을 골라냈다."
   ]
  },
  {
   "cell_type": "code",
   "execution_count": 91,
   "id": "e6e81ac9-c23b-4158-a364-3a269eb8af46",
   "metadata": {},
   "outputs": [
    {
     "name": "stdout",
     "output_type": "stream",
     "text": [
      "Yes\n"
     ]
    }
   ],
   "source": [
    "# a in b\n",
    "if \"a\" in ['a','b','c']:\n",
    "    print('Yes')     #isin과 같은 맥락"
   ]
  },
  {
   "cell_type": "code",
   "execution_count": 86,
   "id": "7c223022-6bf7-4493-b4da-02b6c7183838",
   "metadata": {},
   "outputs": [
    {
     "data": {
      "text/html": [
       "<div>\n",
       "<style scoped>\n",
       "    .dataframe tbody tr th:only-of-type {\n",
       "        vertical-align: middle;\n",
       "    }\n",
       "\n",
       "    .dataframe tbody tr th {\n",
       "        vertical-align: top;\n",
       "    }\n",
       "\n",
       "    .dataframe thead th {\n",
       "        text-align: right;\n",
       "    }\n",
       "</style>\n",
       "<table border=\"1\" class=\"dataframe\">\n",
       "  <thead>\n",
       "    <tr style=\"text-align: right;\">\n",
       "      <th></th>\n",
       "      <th>state</th>\n",
       "      <th>year</th>\n",
       "      <th>pop</th>\n",
       "    </tr>\n",
       "  </thead>\n",
       "  <tbody>\n",
       "    <tr>\n",
       "      <th>a</th>\n",
       "      <td>True</td>\n",
       "      <td>False</td>\n",
       "      <td>False</td>\n",
       "    </tr>\n",
       "    <tr>\n",
       "      <th>b</th>\n",
       "      <td>True</td>\n",
       "      <td>False</td>\n",
       "      <td>False</td>\n",
       "    </tr>\n",
       "    <tr>\n",
       "      <th>c</th>\n",
       "      <td>True</td>\n",
       "      <td>False</td>\n",
       "      <td>False</td>\n",
       "    </tr>\n",
       "    <tr>\n",
       "      <th>a</th>\n",
       "      <td>False</td>\n",
       "      <td>False</td>\n",
       "      <td>False</td>\n",
       "    </tr>\n",
       "    <tr>\n",
       "      <th>b</th>\n",
       "      <td>False</td>\n",
       "      <td>False</td>\n",
       "      <td>False</td>\n",
       "    </tr>\n",
       "    <tr>\n",
       "      <th>c</th>\n",
       "      <td>False</td>\n",
       "      <td>False</td>\n",
       "      <td>False</td>\n",
       "    </tr>\n",
       "  </tbody>\n",
       "</table>\n",
       "</div>"
      ],
      "text/plain": [
       "   state   year    pop\n",
       "a   True  False  False\n",
       "b   True  False  False\n",
       "c   True  False  False\n",
       "a  False  False  False\n",
       "b  False  False  False\n",
       "c  False  False  False"
      ]
     },
     "execution_count": 86,
     "metadata": {},
     "output_type": "execute_result"
    }
   ],
   "source": [
    "df.isin(['Ohio'])  #Ohio가 있나요? True"
   ]
  },
  {
   "cell_type": "code",
   "execution_count": 87,
   "id": "b5399824-fd80-476d-bc3c-69a942c9f9d3",
   "metadata": {},
   "outputs": [
    {
     "data": {
      "text/plain": [
       "a     True\n",
       "b     True\n",
       "c     True\n",
       "a    False\n",
       "b    False\n",
       "c    False\n",
       "Name: state, dtype: bool"
      ]
     },
     "execution_count": 87,
     "metadata": {},
     "output_type": "execute_result"
    }
   ],
   "source": [
    "df['state'].isin(['Ohio'])"
   ]
  },
  {
   "cell_type": "markdown",
   "id": "de5d5ff8-cb8e-4b8a-9ec6-35916099d6a2",
   "metadata": {},
   "source": [
    "### 상관관계와 공분산\n",
    "- price.corr() : 상관관계를 보여준다.\n",
    "- price.cov() : 공분산을 보여준다.\n",
    "- price.pct_change() : 한 객체 내에서 행과 행의 차이를 현재값과의 백분율로 출력한다.\n",
    "\n",
    "                       즉, (다음행 - 현재행)÷현재행 을 의미"
   ]
  },
  {
   "cell_type": "code",
   "execution_count": 80,
   "id": "65b11389-5b44-431a-acc1-567351bab12c",
   "metadata": {
    "collapsed": true,
    "jupyter": {
     "outputs_hidden": true
    },
    "tags": []
   },
   "outputs": [
    {
     "name": "stdout",
     "output_type": "stream",
     "text": [
      "Requirement already satisfied: pandas-datareader in c:\\users\\admin\\appdata\\local\\programs\\python\\python310\\lib\\site-packages (0.10.0)\n",
      "Requirement already satisfied: pandas>=0.23 in c:\\users\\admin\\appdata\\local\\programs\\python\\python310\\lib\\site-packages (from pandas-datareader) (1.4.4)\n",
      "Requirement already satisfied: lxml in c:\\users\\admin\\appdata\\local\\programs\\python\\python310\\lib\\site-packages (from pandas-datareader) (4.9.1)\n",
      "Requirement already satisfied: requests>=2.19.0 in c:\\users\\admin\\appdata\\local\\programs\\python\\python310\\lib\\site-packages (from pandas-datareader) (2.28.1)\n",
      "Requirement already satisfied: numpy>=1.21.0 in c:\\users\\admin\\appdata\\local\\programs\\python\\python310\\lib\\site-packages (from pandas>=0.23->pandas-datareader) (1.23.2)\n",
      "Requirement already satisfied: python-dateutil>=2.8.1 in c:\\users\\admin\\appdata\\local\\programs\\python\\python310\\lib\\site-packages (from pandas>=0.23->pandas-datareader) (2.8.2)\n",
      "Requirement already satisfied: pytz>=2020.1 in c:\\users\\admin\\appdata\\local\\programs\\python\\python310\\lib\\site-packages (from pandas>=0.23->pandas-datareader) (2022.2.1)\n",
      "Requirement already satisfied: urllib3<1.27,>=1.21.1 in c:\\users\\admin\\appdata\\local\\programs\\python\\python310\\lib\\site-packages (from requests>=2.19.0->pandas-datareader) (1.26.12)\n",
      "Requirement already satisfied: idna<4,>=2.5 in c:\\users\\admin\\appdata\\local\\programs\\python\\python310\\lib\\site-packages (from requests>=2.19.0->pandas-datareader) (3.3)\n",
      "Requirement already satisfied: charset-normalizer<3,>=2 in c:\\users\\admin\\appdata\\local\\programs\\python\\python310\\lib\\site-packages (from requests>=2.19.0->pandas-datareader) (2.1.1)\n",
      "Requirement already satisfied: certifi>=2017.4.17 in c:\\users\\admin\\appdata\\local\\programs\\python\\python310\\lib\\site-packages (from requests>=2.19.0->pandas-datareader) (2022.6.15)\n",
      "Requirement already satisfied: six>=1.5 in c:\\users\\admin\\appdata\\local\\programs\\python\\python310\\lib\\site-packages (from python-dateutil>=2.8.1->pandas>=0.23->pandas-datareader) (1.16.0)\n",
      "Note: you may need to restart the kernel to use updated packages.\n"
     ]
    },
    {
     "name": "stderr",
     "output_type": "stream",
     "text": [
      "\n",
      "[notice] A new release of pip available: 22.2.1 -> 22.2.2\n",
      "[notice] To update, run: python.exe -m pip install --upgrade pip\n"
     ]
    }
   ],
   "source": [
    "pip install pandas-datareader"
   ]
  },
  {
   "cell_type": "code",
   "execution_count": 81,
   "id": "0656524e-4a25-4d92-b1fd-fc6a847f67f4",
   "metadata": {},
   "outputs": [
    {
     "data": {
      "text/html": [
       "<div>\n",
       "<style scoped>\n",
       "    .dataframe tbody tr th:only-of-type {\n",
       "        vertical-align: middle;\n",
       "    }\n",
       "\n",
       "    .dataframe tbody tr th {\n",
       "        vertical-align: top;\n",
       "    }\n",
       "\n",
       "    .dataframe thead th {\n",
       "        text-align: right;\n",
       "    }\n",
       "</style>\n",
       "<table border=\"1\" class=\"dataframe\">\n",
       "  <thead>\n",
       "    <tr style=\"text-align: right;\">\n",
       "      <th></th>\n",
       "      <th>AAPL</th>\n",
       "      <th>IBM</th>\n",
       "      <th>MSFT</th>\n",
       "      <th>GOOG</th>\n",
       "    </tr>\n",
       "    <tr>\n",
       "      <th>Date</th>\n",
       "      <th></th>\n",
       "      <th></th>\n",
       "      <th></th>\n",
       "      <th></th>\n",
       "    </tr>\n",
       "  </thead>\n",
       "  <tbody>\n",
       "    <tr>\n",
       "      <th>2017-09-27</th>\n",
       "      <td>36.593594</td>\n",
       "      <td>109.783890</td>\n",
       "      <td>69.393127</td>\n",
       "      <td>47.224499</td>\n",
       "    </tr>\n",
       "    <tr>\n",
       "      <th>2017-09-28</th>\n",
       "      <td>36.368187</td>\n",
       "      <td>109.783890</td>\n",
       "      <td>69.411926</td>\n",
       "      <td>47.474998</td>\n",
       "    </tr>\n",
       "    <tr>\n",
       "      <th>2017-09-29</th>\n",
       "      <td>36.567486</td>\n",
       "      <td>109.346756</td>\n",
       "      <td>69.994499</td>\n",
       "      <td>47.955502</td>\n",
       "    </tr>\n",
       "    <tr>\n",
       "      <th>2017-10-02</th>\n",
       "      <td>36.493935</td>\n",
       "      <td>110.537598</td>\n",
       "      <td>70.107277</td>\n",
       "      <td>47.663502</td>\n",
       "    </tr>\n",
       "    <tr>\n",
       "      <th>2017-10-03</th>\n",
       "      <td>36.652916</td>\n",
       "      <td>110.628021</td>\n",
       "      <td>69.778397</td>\n",
       "      <td>47.889500</td>\n",
       "    </tr>\n",
       "    <tr>\n",
       "      <th>...</th>\n",
       "      <td>...</td>\n",
       "      <td>...</td>\n",
       "      <td>...</td>\n",
       "      <td>...</td>\n",
       "    </tr>\n",
       "    <tr>\n",
       "      <th>2022-09-20</th>\n",
       "      <td>156.899994</td>\n",
       "      <td>126.300003</td>\n",
       "      <td>242.449997</td>\n",
       "      <td>101.830002</td>\n",
       "    </tr>\n",
       "    <tr>\n",
       "      <th>2022-09-21</th>\n",
       "      <td>153.720001</td>\n",
       "      <td>124.930000</td>\n",
       "      <td>238.949997</td>\n",
       "      <td>100.010002</td>\n",
       "    </tr>\n",
       "    <tr>\n",
       "      <th>2022-09-22</th>\n",
       "      <td>152.740005</td>\n",
       "      <td>125.309998</td>\n",
       "      <td>240.979996</td>\n",
       "      <td>100.570000</td>\n",
       "    </tr>\n",
       "    <tr>\n",
       "      <th>2022-09-23</th>\n",
       "      <td>150.429993</td>\n",
       "      <td>122.709999</td>\n",
       "      <td>237.919998</td>\n",
       "      <td>99.169998</td>\n",
       "    </tr>\n",
       "    <tr>\n",
       "      <th>2022-09-26</th>\n",
       "      <td>150.770004</td>\n",
       "      <td>122.010002</td>\n",
       "      <td>237.449997</td>\n",
       "      <td>98.809998</td>\n",
       "    </tr>\n",
       "  </tbody>\n",
       "</table>\n",
       "<p>1258 rows × 4 columns</p>\n",
       "</div>"
      ],
      "text/plain": [
       "                  AAPL         IBM        MSFT        GOOG\n",
       "Date                                                      \n",
       "2017-09-27   36.593594  109.783890   69.393127   47.224499\n",
       "2017-09-28   36.368187  109.783890   69.411926   47.474998\n",
       "2017-09-29   36.567486  109.346756   69.994499   47.955502\n",
       "2017-10-02   36.493935  110.537598   70.107277   47.663502\n",
       "2017-10-03   36.652916  110.628021   69.778397   47.889500\n",
       "...                ...         ...         ...         ...\n",
       "2022-09-20  156.899994  126.300003  242.449997  101.830002\n",
       "2022-09-21  153.720001  124.930000  238.949997  100.010002\n",
       "2022-09-22  152.740005  125.309998  240.979996  100.570000\n",
       "2022-09-23  150.429993  122.709999  237.919998   99.169998\n",
       "2022-09-26  150.770004  122.010002  237.449997   98.809998\n",
       "\n",
       "[1258 rows x 4 columns]"
      ]
     },
     "execution_count": 81,
     "metadata": {},
     "output_type": "execute_result"
    }
   ],
   "source": [
    "import pandas_datareader.data as web\n",
    "all_data = {ticker: web.get_data_yahoo(ticker)\n",
    "            for ticker in ['AAPL', 'IBM', 'MSFT', 'GOOG']}\n",
    "price = pd.DataFrame({ticker: data['Adj Close']\n",
    "                     for ticker, data in all_data.items()})\n",
    "volume = pd.DataFrame({ticker: data['Volume']\n",
    "                      for ticker, data in all_data.items()})\n",
    "\n",
    "price"
   ]
  },
  {
   "cell_type": "code",
   "execution_count": 83,
   "id": "258dcfc6-69ba-4e9e-9c6e-c1b5690b4139",
   "metadata": {},
   "outputs": [
    {
     "data": {
      "text/html": [
       "<div>\n",
       "<style scoped>\n",
       "    .dataframe tbody tr th:only-of-type {\n",
       "        vertical-align: middle;\n",
       "    }\n",
       "\n",
       "    .dataframe tbody tr th {\n",
       "        vertical-align: top;\n",
       "    }\n",
       "\n",
       "    .dataframe thead th {\n",
       "        text-align: right;\n",
       "    }\n",
       "</style>\n",
       "<table border=\"1\" class=\"dataframe\">\n",
       "  <thead>\n",
       "    <tr style=\"text-align: right;\">\n",
       "      <th></th>\n",
       "      <th>AAPL</th>\n",
       "      <th>IBM</th>\n",
       "    </tr>\n",
       "  </thead>\n",
       "  <tbody>\n",
       "    <tr>\n",
       "      <th>AAPL</th>\n",
       "      <td>1.000000</td>\n",
       "      <td>0.529727</td>\n",
       "    </tr>\n",
       "    <tr>\n",
       "      <th>IBM</th>\n",
       "      <td>0.529727</td>\n",
       "      <td>1.000000</td>\n",
       "    </tr>\n",
       "  </tbody>\n",
       "</table>\n",
       "</div>"
      ],
      "text/plain": [
       "          AAPL       IBM\n",
       "AAPL  1.000000  0.529727\n",
       "IBM   0.529727  1.000000"
      ]
     },
     "execution_count": 83,
     "metadata": {},
     "output_type": "execute_result"
    }
   ],
   "source": [
    "price[['AAPL','IBM']].corr()    #서로의 상관관계를 보여준다.(1에 가까울수록 높은 상관관계)"
   ]
  },
  {
   "cell_type": "code",
   "execution_count": 84,
   "id": "831032a0-0594-488c-9eb7-7aedf0c4593a",
   "metadata": {},
   "outputs": [
    {
     "data": {
      "text/html": [
       "<div>\n",
       "<style scoped>\n",
       "    .dataframe tbody tr th:only-of-type {\n",
       "        vertical-align: middle;\n",
       "    }\n",
       "\n",
       "    .dataframe tbody tr th {\n",
       "        vertical-align: top;\n",
       "    }\n",
       "\n",
       "    .dataframe thead th {\n",
       "        text-align: right;\n",
       "    }\n",
       "</style>\n",
       "<table border=\"1\" class=\"dataframe\">\n",
       "  <thead>\n",
       "    <tr style=\"text-align: right;\">\n",
       "      <th></th>\n",
       "      <th>AAPL</th>\n",
       "      <th>IBM</th>\n",
       "      <th>MSFT</th>\n",
       "      <th>GOOG</th>\n",
       "    </tr>\n",
       "    <tr>\n",
       "      <th>Date</th>\n",
       "      <th></th>\n",
       "      <th></th>\n",
       "      <th></th>\n",
       "      <th></th>\n",
       "    </tr>\n",
       "  </thead>\n",
       "  <tbody>\n",
       "    <tr>\n",
       "      <th>2017-09-27</th>\n",
       "      <td>NaN</td>\n",
       "      <td>NaN</td>\n",
       "      <td>NaN</td>\n",
       "      <td>NaN</td>\n",
       "    </tr>\n",
       "    <tr>\n",
       "      <th>2017-09-28</th>\n",
       "      <td>-0.006160</td>\n",
       "      <td>0.000000</td>\n",
       "      <td>0.000271</td>\n",
       "      <td>0.005304</td>\n",
       "    </tr>\n",
       "    <tr>\n",
       "      <th>2017-09-29</th>\n",
       "      <td>0.005480</td>\n",
       "      <td>-0.003982</td>\n",
       "      <td>0.008393</td>\n",
       "      <td>0.010121</td>\n",
       "    </tr>\n",
       "    <tr>\n",
       "      <th>2017-10-02</th>\n",
       "      <td>-0.002011</td>\n",
       "      <td>0.010891</td>\n",
       "      <td>0.001611</td>\n",
       "      <td>-0.006089</td>\n",
       "    </tr>\n",
       "    <tr>\n",
       "      <th>2017-10-03</th>\n",
       "      <td>0.004356</td>\n",
       "      <td>0.000818</td>\n",
       "      <td>-0.004691</td>\n",
       "      <td>0.004742</td>\n",
       "    </tr>\n",
       "    <tr>\n",
       "      <th>...</th>\n",
       "      <td>...</td>\n",
       "      <td>...</td>\n",
       "      <td>...</td>\n",
       "      <td>...</td>\n",
       "    </tr>\n",
       "    <tr>\n",
       "      <th>2022-09-20</th>\n",
       "      <td>0.015665</td>\n",
       "      <td>-0.011195</td>\n",
       "      <td>-0.008466</td>\n",
       "      <td>-0.019451</td>\n",
       "    </tr>\n",
       "    <tr>\n",
       "      <th>2022-09-21</th>\n",
       "      <td>-0.020268</td>\n",
       "      <td>-0.010847</td>\n",
       "      <td>-0.014436</td>\n",
       "      <td>-0.017873</td>\n",
       "    </tr>\n",
       "    <tr>\n",
       "      <th>2022-09-22</th>\n",
       "      <td>-0.006375</td>\n",
       "      <td>0.003042</td>\n",
       "      <td>0.008495</td>\n",
       "      <td>0.005599</td>\n",
       "    </tr>\n",
       "    <tr>\n",
       "      <th>2022-09-23</th>\n",
       "      <td>-0.015124</td>\n",
       "      <td>-0.020749</td>\n",
       "      <td>-0.012698</td>\n",
       "      <td>-0.013921</td>\n",
       "    </tr>\n",
       "    <tr>\n",
       "      <th>2022-09-26</th>\n",
       "      <td>0.002260</td>\n",
       "      <td>-0.005704</td>\n",
       "      <td>-0.001975</td>\n",
       "      <td>-0.003630</td>\n",
       "    </tr>\n",
       "  </tbody>\n",
       "</table>\n",
       "<p>1258 rows × 4 columns</p>\n",
       "</div>"
      ],
      "text/plain": [
       "                AAPL       IBM      MSFT      GOOG\n",
       "Date                                              \n",
       "2017-09-27       NaN       NaN       NaN       NaN\n",
       "2017-09-28 -0.006160  0.000000  0.000271  0.005304\n",
       "2017-09-29  0.005480 -0.003982  0.008393  0.010121\n",
       "2017-10-02 -0.002011  0.010891  0.001611 -0.006089\n",
       "2017-10-03  0.004356  0.000818 -0.004691  0.004742\n",
       "...              ...       ...       ...       ...\n",
       "2022-09-20  0.015665 -0.011195 -0.008466 -0.019451\n",
       "2022-09-21 -0.020268 -0.010847 -0.014436 -0.017873\n",
       "2022-09-22 -0.006375  0.003042  0.008495  0.005599\n",
       "2022-09-23 -0.015124 -0.020749 -0.012698 -0.013921\n",
       "2022-09-26  0.002260 -0.005704 -0.001975 -0.003630\n",
       "\n",
       "[1258 rows x 4 columns]"
      ]
     },
     "execution_count": 84,
     "metadata": {},
     "output_type": "execute_result"
    }
   ],
   "source": [
    "price.pct_change()"
   ]
  },
  {
   "cell_type": "markdown",
   "id": "71cf4349-51f5-47d4-9f52-1a3a7c493ef9",
   "metadata": {},
   "source": [
    "### value_counts\n",
    "- Series에서 유일값에 대한 색인과 도수를 계산, 도수는 내림차순으로 정렬된다.\n",
    "- data['Qu1'].value_counts()"
   ]
  },
  {
   "cell_type": "code",
   "execution_count": 88,
   "id": "15f61b45-9e16-4ea7-8a91-46e351bc6834",
   "metadata": {},
   "outputs": [
    {
     "data": {
      "text/html": [
       "<div>\n",
       "<style scoped>\n",
       "    .dataframe tbody tr th:only-of-type {\n",
       "        vertical-align: middle;\n",
       "    }\n",
       "\n",
       "    .dataframe tbody tr th {\n",
       "        vertical-align: top;\n",
       "    }\n",
       "\n",
       "    .dataframe thead th {\n",
       "        text-align: right;\n",
       "    }\n",
       "</style>\n",
       "<table border=\"1\" class=\"dataframe\">\n",
       "  <thead>\n",
       "    <tr style=\"text-align: right;\">\n",
       "      <th></th>\n",
       "      <th>Qu1</th>\n",
       "      <th>Qu2</th>\n",
       "      <th>Qu3</th>\n",
       "    </tr>\n",
       "  </thead>\n",
       "  <tbody>\n",
       "    <tr>\n",
       "      <th>0</th>\n",
       "      <td>1</td>\n",
       "      <td>2</td>\n",
       "      <td>1</td>\n",
       "    </tr>\n",
       "    <tr>\n",
       "      <th>1</th>\n",
       "      <td>3</td>\n",
       "      <td>3</td>\n",
       "      <td>5</td>\n",
       "    </tr>\n",
       "    <tr>\n",
       "      <th>2</th>\n",
       "      <td>4</td>\n",
       "      <td>1</td>\n",
       "      <td>2</td>\n",
       "    </tr>\n",
       "    <tr>\n",
       "      <th>3</th>\n",
       "      <td>3</td>\n",
       "      <td>2</td>\n",
       "      <td>4</td>\n",
       "    </tr>\n",
       "    <tr>\n",
       "      <th>4</th>\n",
       "      <td>4</td>\n",
       "      <td>3</td>\n",
       "      <td>4</td>\n",
       "    </tr>\n",
       "  </tbody>\n",
       "</table>\n",
       "</div>"
      ],
      "text/plain": [
       "   Qu1  Qu2  Qu3\n",
       "0    1    2    1\n",
       "1    3    3    5\n",
       "2    4    1    2\n",
       "3    3    2    4\n",
       "4    4    3    4"
      ]
     },
     "execution_count": 88,
     "metadata": {},
     "output_type": "execute_result"
    }
   ],
   "source": [
    "data = pd.DataFrame({'Qu1': [1, 3, 4, 3, 4],\n",
    "                     'Qu2': [2, 3, 1, 2, 3],\n",
    "                      'Qu3': [1, 5, 2, 4, 4]}) \n",
    "\n",
    "data"
   ]
  },
  {
   "cell_type": "code",
   "execution_count": 89,
   "id": "4516acbf-94dc-457e-b131-6949c8e62abe",
   "metadata": {},
   "outputs": [
    {
     "data": {
      "text/plain": [
       "3    2\n",
       "4    2\n",
       "1    1\n",
       "Name: Qu1, dtype: int64"
      ]
     },
     "execution_count": 89,
     "metadata": {},
     "output_type": "execute_result"
    }
   ],
   "source": [
    "data['Qu1'].value_counts()"
   ]
  },
  {
   "cell_type": "code",
   "execution_count": 90,
   "id": "20fc51f1-b5d9-4a5f-9214-a197cee25880",
   "metadata": {},
   "outputs": [
    {
     "data": {
      "text/html": [
       "<div>\n",
       "<style scoped>\n",
       "    .dataframe tbody tr th:only-of-type {\n",
       "        vertical-align: middle;\n",
       "    }\n",
       "\n",
       "    .dataframe tbody tr th {\n",
       "        vertical-align: top;\n",
       "    }\n",
       "\n",
       "    .dataframe thead th {\n",
       "        text-align: right;\n",
       "    }\n",
       "</style>\n",
       "<table border=\"1\" class=\"dataframe\">\n",
       "  <thead>\n",
       "    <tr style=\"text-align: right;\">\n",
       "      <th></th>\n",
       "      <th>Qu1</th>\n",
       "      <th>Qu2</th>\n",
       "      <th>Qu3</th>\n",
       "    </tr>\n",
       "  </thead>\n",
       "  <tbody>\n",
       "    <tr>\n",
       "      <th>1</th>\n",
       "      <td>1.0</td>\n",
       "      <td>1.0</td>\n",
       "      <td>1.0</td>\n",
       "    </tr>\n",
       "    <tr>\n",
       "      <th>2</th>\n",
       "      <td>NaN</td>\n",
       "      <td>2.0</td>\n",
       "      <td>1.0</td>\n",
       "    </tr>\n",
       "    <tr>\n",
       "      <th>3</th>\n",
       "      <td>2.0</td>\n",
       "      <td>2.0</td>\n",
       "      <td>NaN</td>\n",
       "    </tr>\n",
       "    <tr>\n",
       "      <th>4</th>\n",
       "      <td>2.0</td>\n",
       "      <td>NaN</td>\n",
       "      <td>2.0</td>\n",
       "    </tr>\n",
       "    <tr>\n",
       "      <th>5</th>\n",
       "      <td>NaN</td>\n",
       "      <td>NaN</td>\n",
       "      <td>1.0</td>\n",
       "    </tr>\n",
       "  </tbody>\n",
       "</table>\n",
       "</div>"
      ],
      "text/plain": [
       "   Qu1  Qu2  Qu3\n",
       "1  1.0  1.0  1.0\n",
       "2  NaN  2.0  1.0\n",
       "3  2.0  2.0  NaN\n",
       "4  2.0  NaN  2.0\n",
       "5  NaN  NaN  1.0"
      ]
     },
     "execution_count": 90,
     "metadata": {},
     "output_type": "execute_result"
    }
   ],
   "source": [
    "df = data.apply(pd.value_counts)\n",
    "df"
   ]
  },
  {
   "cell_type": "markdown",
   "id": "2a873ef9-dd6a-45ad-abe4-44f2dfe43f2c",
   "metadata": {},
   "source": [
    "# 데이터 로딩과 저장, 파일 형식"
   ]
  },
  {
   "cell_type": "code",
   "execution_count": 98,
   "id": "6d4fc8a4-41dd-425f-a34e-01699feda891",
   "metadata": {
    "collapsed": true,
    "jupyter": {
     "outputs_hidden": true
    },
    "tags": []
   },
   "outputs": [
    {
     "data": {
      "text/html": [
       "<div>\n",
       "<style scoped>\n",
       "    .dataframe tbody tr th:only-of-type {\n",
       "        vertical-align: middle;\n",
       "    }\n",
       "\n",
       "    .dataframe tbody tr th {\n",
       "        vertical-align: top;\n",
       "    }\n",
       "\n",
       "    .dataframe thead th {\n",
       "        text-align: right;\n",
       "    }\n",
       "</style>\n",
       "<table border=\"1\" class=\"dataframe\">\n",
       "  <thead>\n",
       "    <tr style=\"text-align: right;\">\n",
       "      <th></th>\n",
       "      <th>id</th>\n",
       "      <th>class</th>\n",
       "      <th>math</th>\n",
       "      <th>english</th>\n",
       "      <th>science</th>\n",
       "    </tr>\n",
       "  </thead>\n",
       "  <tbody>\n",
       "    <tr>\n",
       "      <th>0</th>\n",
       "      <td>1</td>\n",
       "      <td>1</td>\n",
       "      <td>50</td>\n",
       "      <td>98</td>\n",
       "      <td>50</td>\n",
       "    </tr>\n",
       "    <tr>\n",
       "      <th>1</th>\n",
       "      <td>2</td>\n",
       "      <td>1</td>\n",
       "      <td>60</td>\n",
       "      <td>97</td>\n",
       "      <td>60</td>\n",
       "    </tr>\n",
       "    <tr>\n",
       "      <th>2</th>\n",
       "      <td>3</td>\n",
       "      <td>1</td>\n",
       "      <td>45</td>\n",
       "      <td>86</td>\n",
       "      <td>78</td>\n",
       "    </tr>\n",
       "    <tr>\n",
       "      <th>3</th>\n",
       "      <td>4</td>\n",
       "      <td>1</td>\n",
       "      <td>30</td>\n",
       "      <td>98</td>\n",
       "      <td>58</td>\n",
       "    </tr>\n",
       "    <tr>\n",
       "      <th>4</th>\n",
       "      <td>5</td>\n",
       "      <td>2</td>\n",
       "      <td>25</td>\n",
       "      <td>80</td>\n",
       "      <td>65</td>\n",
       "    </tr>\n",
       "    <tr>\n",
       "      <th>5</th>\n",
       "      <td>6</td>\n",
       "      <td>2</td>\n",
       "      <td>50</td>\n",
       "      <td>89</td>\n",
       "      <td>98</td>\n",
       "    </tr>\n",
       "    <tr>\n",
       "      <th>6</th>\n",
       "      <td>7</td>\n",
       "      <td>2</td>\n",
       "      <td>80</td>\n",
       "      <td>90</td>\n",
       "      <td>45</td>\n",
       "    </tr>\n",
       "    <tr>\n",
       "      <th>7</th>\n",
       "      <td>8</td>\n",
       "      <td>2</td>\n",
       "      <td>90</td>\n",
       "      <td>78</td>\n",
       "      <td>25</td>\n",
       "    </tr>\n",
       "    <tr>\n",
       "      <th>8</th>\n",
       "      <td>9</td>\n",
       "      <td>3</td>\n",
       "      <td>20</td>\n",
       "      <td>98</td>\n",
       "      <td>15</td>\n",
       "    </tr>\n",
       "    <tr>\n",
       "      <th>9</th>\n",
       "      <td>10</td>\n",
       "      <td>3</td>\n",
       "      <td>50</td>\n",
       "      <td>98</td>\n",
       "      <td>45</td>\n",
       "    </tr>\n",
       "    <tr>\n",
       "      <th>10</th>\n",
       "      <td>11</td>\n",
       "      <td>3</td>\n",
       "      <td>65</td>\n",
       "      <td>65</td>\n",
       "      <td>65</td>\n",
       "    </tr>\n",
       "    <tr>\n",
       "      <th>11</th>\n",
       "      <td>12</td>\n",
       "      <td>3</td>\n",
       "      <td>45</td>\n",
       "      <td>85</td>\n",
       "      <td>32</td>\n",
       "    </tr>\n",
       "    <tr>\n",
       "      <th>12</th>\n",
       "      <td>13</td>\n",
       "      <td>4</td>\n",
       "      <td>46</td>\n",
       "      <td>98</td>\n",
       "      <td>65</td>\n",
       "    </tr>\n",
       "    <tr>\n",
       "      <th>13</th>\n",
       "      <td>14</td>\n",
       "      <td>4</td>\n",
       "      <td>48</td>\n",
       "      <td>87</td>\n",
       "      <td>12</td>\n",
       "    </tr>\n",
       "    <tr>\n",
       "      <th>14</th>\n",
       "      <td>15</td>\n",
       "      <td>4</td>\n",
       "      <td>75</td>\n",
       "      <td>56</td>\n",
       "      <td>78</td>\n",
       "    </tr>\n",
       "    <tr>\n",
       "      <th>15</th>\n",
       "      <td>16</td>\n",
       "      <td>4</td>\n",
       "      <td>58</td>\n",
       "      <td>98</td>\n",
       "      <td>65</td>\n",
       "    </tr>\n",
       "    <tr>\n",
       "      <th>16</th>\n",
       "      <td>17</td>\n",
       "      <td>5</td>\n",
       "      <td>65</td>\n",
       "      <td>68</td>\n",
       "      <td>98</td>\n",
       "    </tr>\n",
       "    <tr>\n",
       "      <th>17</th>\n",
       "      <td>18</td>\n",
       "      <td>5</td>\n",
       "      <td>80</td>\n",
       "      <td>78</td>\n",
       "      <td>90</td>\n",
       "    </tr>\n",
       "    <tr>\n",
       "      <th>18</th>\n",
       "      <td>19</td>\n",
       "      <td>5</td>\n",
       "      <td>89</td>\n",
       "      <td>68</td>\n",
       "      <td>87</td>\n",
       "    </tr>\n",
       "    <tr>\n",
       "      <th>19</th>\n",
       "      <td>20</td>\n",
       "      <td>5</td>\n",
       "      <td>78</td>\n",
       "      <td>83</td>\n",
       "      <td>58</td>\n",
       "    </tr>\n",
       "  </tbody>\n",
       "</table>\n",
       "</div>"
      ],
      "text/plain": [
       "    id  class  math  english  science\n",
       "0    1      1    50       98       50\n",
       "1    2      1    60       97       60\n",
       "2    3      1    45       86       78\n",
       "3    4      1    30       98       58\n",
       "4    5      2    25       80       65\n",
       "5    6      2    50       89       98\n",
       "6    7      2    80       90       45\n",
       "7    8      2    90       78       25\n",
       "8    9      3    20       98       15\n",
       "9   10      3    50       98       45\n",
       "10  11      3    65       65       65\n",
       "11  12      3    45       85       32\n",
       "12  13      4    46       98       65\n",
       "13  14      4    48       87       12\n",
       "14  15      4    75       56       78\n",
       "15  16      4    58       98       65\n",
       "16  17      5    65       68       98\n",
       "17  18      5    80       78       90\n",
       "18  19      5    89       68       87\n",
       "19  20      5    78       83       58"
      ]
     },
     "execution_count": 98,
     "metadata": {},
     "output_type": "execute_result"
    }
   ],
   "source": [
    "pd.read_csv('csv_exam.csv')"
   ]
  },
  {
   "cell_type": "markdown",
   "id": "59ec6054-8012-470c-9f95-10e43c989952",
   "metadata": {},
   "source": [
    "### JSON 데이터\n",
    "- 데이터 보낼 때 널리 사용하는 표준 파일 형식 중 하나이다."
   ]
  },
  {
   "cell_type": "code",
   "execution_count": 99,
   "id": "5a0f29dc-183f-4b37-9a54-f01d1ad9a743",
   "metadata": {},
   "outputs": [],
   "source": [
    "import requests"
   ]
  },
  {
   "cell_type": "code",
   "execution_count": 100,
   "id": "b4a28415-2f34-4c3e-a778-4a299e6aa3cf",
   "metadata": {},
   "outputs": [],
   "source": [
    "url = 'https://api.github.com/repos/pandas-dev/pandas/issues' "
   ]
  },
  {
   "cell_type": "code",
   "execution_count": 101,
   "id": "57dfdb12-2659-4027-9b8a-5ca61b94a09c",
   "metadata": {},
   "outputs": [
    {
     "data": {
      "text/plain": [
       "<Response [200]>"
      ]
     },
     "execution_count": 101,
     "metadata": {},
     "output_type": "execute_result"
    }
   ],
   "source": [
    "resp = requests.get(url)\n",
    "resp"
   ]
  },
  {
   "cell_type": "code",
   "execution_count": 102,
   "id": "2723965d-052e-4df3-91ee-0aa9dde06d89",
   "metadata": {
    "collapsed": true,
    "jupyter": {
     "outputs_hidden": true
    },
    "tags": []
   },
   "outputs": [
    {
     "data": {
      "text/plain": [
       "[{'url': 'https://api.github.com/repos/pandas-dev/pandas/issues/48806',\n",
       "  'repository_url': 'https://api.github.com/repos/pandas-dev/pandas',\n",
       "  'labels_url': 'https://api.github.com/repos/pandas-dev/pandas/issues/48806/labels{/name}',\n",
       "  'comments_url': 'https://api.github.com/repos/pandas-dev/pandas/issues/48806/comments',\n",
       "  'events_url': 'https://api.github.com/repos/pandas-dev/pandas/issues/48806/events',\n",
       "  'html_url': 'https://github.com/pandas-dev/pandas/issues/48806',\n",
       "  'id': 1387444078,\n",
       "  'node_id': 'I_kwDOAA0YD85Ssrdu',\n",
       "  'number': 48806,\n",
       "  'title': 'BUG: Bar plot with integer index does not place bars at index positions which makes xlim fail',\n",
       "  'user': {'login': 'cfblaeb',\n",
       "   'id': 6593035,\n",
       "   'node_id': 'MDQ6VXNlcjY1OTMwMzU=',\n",
       "   'avatar_url': 'https://avatars.githubusercontent.com/u/6593035?v=4',\n",
       "   'gravatar_id': '',\n",
       "   'url': 'https://api.github.com/users/cfblaeb',\n",
       "   'html_url': 'https://github.com/cfblaeb',\n",
       "   'followers_url': 'https://api.github.com/users/cfblaeb/followers',\n",
       "   'following_url': 'https://api.github.com/users/cfblaeb/following{/other_user}',\n",
       "   'gists_url': 'https://api.github.com/users/cfblaeb/gists{/gist_id}',\n",
       "   'starred_url': 'https://api.github.com/users/cfblaeb/starred{/owner}{/repo}',\n",
       "   'subscriptions_url': 'https://api.github.com/users/cfblaeb/subscriptions',\n",
       "   'organizations_url': 'https://api.github.com/users/cfblaeb/orgs',\n",
       "   'repos_url': 'https://api.github.com/users/cfblaeb/repos',\n",
       "   'events_url': 'https://api.github.com/users/cfblaeb/events{/privacy}',\n",
       "   'received_events_url': 'https://api.github.com/users/cfblaeb/received_events',\n",
       "   'type': 'User',\n",
       "   'site_admin': False},\n",
       "  'labels': [{'id': 76811,\n",
       "    'node_id': 'MDU6TGFiZWw3NjgxMQ==',\n",
       "    'url': 'https://api.github.com/repos/pandas-dev/pandas/labels/Bug',\n",
       "    'name': 'Bug',\n",
       "    'color': 'e10c02',\n",
       "    'default': False,\n",
       "    'description': None},\n",
       "   {'id': 1954720290,\n",
       "    'node_id': 'MDU6TGFiZWwxOTU0NzIwMjkw',\n",
       "    'url': 'https://api.github.com/repos/pandas-dev/pandas/labels/Needs%20Triage',\n",
       "    'name': 'Needs Triage',\n",
       "    'color': '0052cc',\n",
       "    'default': False,\n",
       "    'description': 'Issue that has not been reviewed by a pandas team member'}],\n",
       "  'state': 'open',\n",
       "  'locked': False,\n",
       "  'assignee': None,\n",
       "  'assignees': [],\n",
       "  'milestone': None,\n",
       "  'comments': 0,\n",
       "  'created_at': '2022-09-27T09:39:12Z',\n",
       "  'updated_at': '2022-09-27T09:39:12Z',\n",
       "  'closed_at': None,\n",
       "  'author_association': 'NONE',\n",
       "  'active_lock_reason': None,\n",
       "  'body': \"### Pandas version checks\\n\\n- [X] I have checked that this issue has not already been reported.\\n\\n- [X] I have confirmed this bug exists on the [latest version](https://pandas.pydata.org/docs/whatsnew/index.html) of pandas.\\n\\n- [X] I have confirmed this bug exists on the main branch of pandas.\\n\\n\\n### Reproducible Example\\n\\n```python\\nimport pandas as pd\\r\\ndata = {3:4,4:8,5:1,6:4,7:6}\\r\\npd.Series(data).plot(kind='bar', xlim=(4,6))\\r\\n# the above plot doesnt respect the xlim\\r\\n# the below plot does respect xlim\\r\\nfrom matplotlib import pyplot as plt\\r\\nplt.bar(data.keys(), data.values())\\r\\nplt.xlim(4,6)\\n```\\n\\n\\n### Issue Description\\n\\nPlot bar does not respect xlim.\\r\\nThe cause, as far as I can tell, is pandas simply puts each element on the x axis in order staring from zero: 0, 1, 2 etc...\\n\\n### Expected Behavior\\n\\nWhen the index is a number, I would expect it to put the bars the index positions similar to how line plot does it (and how matplotlib pyplot bars does it).\\r\\nHowever, this should probably be a flag, since I could imagine people would occasionally want to treat even a numbered index as a set of labels rather than actual positions.\\n\\n### Installed Versions\\n\\n<details>\\r\\n\\r\\nINSTALLED VERSIONS\\r\\n------------------\\r\\ncommit           : 49d4c075e015b5cec0c334554d9d980ae6bf0224\\r\\npython           : 3.10.7.final.0\\r\\npython-bits      : 64\\r\\nOS               : Linux\\r\\nOS-release       : 5.15.0-48-generic\\r\\nVersion          : #54-Ubuntu SMP Fri Aug 26 13:26:29 UTC 2022\\r\\nmachine          : x86_64\\r\\nprocessor        : x86_64\\r\\nbyteorder        : little\\r\\nLC_ALL           : None\\r\\nLANG             : en_DK.UTF-8\\r\\nLOCALE           : en_DK.UTF-8\\r\\n\\r\\npandas           : 1.6.0.dev0+215.g49d4c075e\\r\\nnumpy            : 1.23.3\\r\\npytz             : 2022.2.1\\r\\ndateutil         : 2.8.2\\r\\nsetuptools       : 65.4.0\\r\\npip              : 22.2.2\\r\\nCython           : 0.29.32\\r\\npytest           : None\\r\\nhypothesis       : None\\r\\nsphinx           : None\\r\\nblosc            : None\\r\\nfeather          : None\\r\\nxlsxwriter       : 3.0.3\\r\\nlxml.etree       : 4.9.1\\r\\nhtml5lib         : None\\r\\npymysql          : None\\r\\npsycopg2         : None\\r\\njinja2           : 3.1.2\\r\\nIPython          : 8.5.0\\r\\npandas_datareader: None\\r\\nbs4              : 4.11.1\\r\\nbottleneck       : None\\r\\nbrotli           : None\\r\\nfastparquet      : None\\r\\nfsspec           : None\\r\\ngcsfs            : None\\r\\nmatplotlib       : 3.6.0\\r\\nnumba            : None\\r\\nnumexpr          : None\\r\\nodfpy            : None\\r\\nopenpyxl         : 3.0.10\\r\\npandas_gbq       : None\\r\\npyarrow          : None\\r\\npyreadstat       : None\\r\\npyxlsb           : None\\r\\ns3fs             : None\\r\\nscipy            : 1.9.1\\r\\nsnappy           : None\\r\\nsqlalchemy       : None\\r\\ntables           : None\\r\\ntabulate         : None\\r\\nxarray           : None\\r\\nxlrd             : None\\r\\nxlwt             : None\\r\\nzstandard        : None\\r\\ntzdata           : None\\r\\n\\r\\n</details>\\r\\n\",\n",
       "  'reactions': {'url': 'https://api.github.com/repos/pandas-dev/pandas/issues/48806/reactions',\n",
       "   'total_count': 0,\n",
       "   '+1': 0,\n",
       "   '-1': 0,\n",
       "   'laugh': 0,\n",
       "   'hooray': 0,\n",
       "   'confused': 0,\n",
       "   'heart': 0,\n",
       "   'rocket': 0,\n",
       "   'eyes': 0},\n",
       "  'timeline_url': 'https://api.github.com/repos/pandas-dev/pandas/issues/48806/timeline',\n",
       "  'performed_via_github_app': None,\n",
       "  'state_reason': None},\n",
       " {'url': 'https://api.github.com/repos/pandas-dev/pandas/issues/48805',\n",
       "  'repository_url': 'https://api.github.com/repos/pandas-dev/pandas',\n",
       "  'labels_url': 'https://api.github.com/repos/pandas-dev/pandas/issues/48805/labels{/name}',\n",
       "  'comments_url': 'https://api.github.com/repos/pandas-dev/pandas/issues/48805/comments',\n",
       "  'events_url': 'https://api.github.com/repos/pandas-dev/pandas/issues/48805/events',\n",
       "  'html_url': 'https://github.com/pandas-dev/pandas/pull/48805',\n",
       "  'id': 1387090446,\n",
       "  'node_id': 'PR_kwDOAA0YD84_qPpH',\n",
       "  'number': 48805,\n",
       "  'title': 'Added padding and fixed columns for sponsor logos in mobile view',\n",
       "  'user': {'login': 'amay-patel',\n",
       "   'id': 92037532,\n",
       "   'node_id': 'U_kgDOBXxhnA',\n",
       "   'avatar_url': 'https://avatars.githubusercontent.com/u/92037532?v=4',\n",
       "   'gravatar_id': '',\n",
       "   'url': 'https://api.github.com/users/amay-patel',\n",
       "   'html_url': 'https://github.com/amay-patel',\n",
       "   'followers_url': 'https://api.github.com/users/amay-patel/followers',\n",
       "   'following_url': 'https://api.github.com/users/amay-patel/following{/other_user}',\n",
       "   'gists_url': 'https://api.github.com/users/amay-patel/gists{/gist_id}',\n",
       "   'starred_url': 'https://api.github.com/users/amay-patel/starred{/owner}{/repo}',\n",
       "   'subscriptions_url': 'https://api.github.com/users/amay-patel/subscriptions',\n",
       "   'organizations_url': 'https://api.github.com/users/amay-patel/orgs',\n",
       "   'repos_url': 'https://api.github.com/users/amay-patel/repos',\n",
       "   'events_url': 'https://api.github.com/users/amay-patel/events{/privacy}',\n",
       "   'received_events_url': 'https://api.github.com/users/amay-patel/received_events',\n",
       "   'type': 'User',\n",
       "   'site_admin': False},\n",
       "  'labels': [],\n",
       "  'state': 'open',\n",
       "  'locked': False,\n",
       "  'assignee': None,\n",
       "  'assignees': [],\n",
       "  'milestone': None,\n",
       "  'comments': 0,\n",
       "  'created_at': '2022-09-27T04:54:17Z',\n",
       "  'updated_at': '2022-09-27T04:54:17Z',\n",
       "  'closed_at': None,\n",
       "  'author_association': 'NONE',\n",
       "  'active_lock_reason': None,\n",
       "  'draft': False,\n",
       "  'pull_request': {'url': 'https://api.github.com/repos/pandas-dev/pandas/pulls/48805',\n",
       "   'html_url': 'https://github.com/pandas-dev/pandas/pull/48805',\n",
       "   'diff_url': 'https://github.com/pandas-dev/pandas/pull/48805.diff',\n",
       "   'patch_url': 'https://github.com/pandas-dev/pandas/pull/48805.patch',\n",
       "   'merged_at': None},\n",
       "  'body': 'Added padding and fixed columns for sponsor logos in mobile view\\r\\n\\r\\n- [ ] closes #48519  (Replace xxxx with the Github issue number)\\r\\n- [ ] [Tests added and passed](https://pandas.pydata.org/pandas-docs/dev/development/contributing_codebase.html#writing-tests) if fixing a bug or adding a new feature\\r\\n- [ ] All [code checks passed](https://pandas.pydata.org/pandas-docs/dev/development/contributing_codebase.html#pre-commit).\\r\\n- [ ] Added [type annotations](https://pandas.pydata.org/pandas-docs/dev/development/contributing_codebase.html#type-hints) to new arguments/methods/functions.\\r\\n- [ ] Added an entry in the latest `doc/source/whatsnew/vX.X.X.rst` file if fixing a bug or adding a new feature.\\r\\n',\n",
       "  'reactions': {'url': 'https://api.github.com/repos/pandas-dev/pandas/issues/48805/reactions',\n",
       "   'total_count': 0,\n",
       "   '+1': 0,\n",
       "   '-1': 0,\n",
       "   'laugh': 0,\n",
       "   'hooray': 0,\n",
       "   'confused': 0,\n",
       "   'heart': 0,\n",
       "   'rocket': 0,\n",
       "   'eyes': 0},\n",
       "  'timeline_url': 'https://api.github.com/repos/pandas-dev/pandas/issues/48805/timeline',\n",
       "  'performed_via_github_app': None,\n",
       "  'state_reason': None},\n",
       " {'url': 'https://api.github.com/repos/pandas-dev/pandas/issues/48804',\n",
       "  'repository_url': 'https://api.github.com/repos/pandas-dev/pandas',\n",
       "  'labels_url': 'https://api.github.com/repos/pandas-dev/pandas/issues/48804/labels{/name}',\n",
       "  'comments_url': 'https://api.github.com/repos/pandas-dev/pandas/issues/48804/comments',\n",
       "  'events_url': 'https://api.github.com/repos/pandas-dev/pandas/issues/48804/events',\n",
       "  'html_url': 'https://github.com/pandas-dev/pandas/pull/48804',\n",
       "  'id': 1387017557,\n",
       "  'node_id': 'PR_kwDOAA0YD84_qAIu',\n",
       "  'number': 48804,\n",
       "  'title': 'TST: Suppress Series constructor warning',\n",
       "  'user': {'login': 'mroeschke',\n",
       "   'id': 10647082,\n",
       "   'node_id': 'MDQ6VXNlcjEwNjQ3MDgy',\n",
       "   'avatar_url': 'https://avatars.githubusercontent.com/u/10647082?v=4',\n",
       "   'gravatar_id': '',\n",
       "   'url': 'https://api.github.com/users/mroeschke',\n",
       "   'html_url': 'https://github.com/mroeschke',\n",
       "   'followers_url': 'https://api.github.com/users/mroeschke/followers',\n",
       "   'following_url': 'https://api.github.com/users/mroeschke/following{/other_user}',\n",
       "   'gists_url': 'https://api.github.com/users/mroeschke/gists{/gist_id}',\n",
       "   'starred_url': 'https://api.github.com/users/mroeschke/starred{/owner}{/repo}',\n",
       "   'subscriptions_url': 'https://api.github.com/users/mroeschke/subscriptions',\n",
       "   'organizations_url': 'https://api.github.com/users/mroeschke/orgs',\n",
       "   'repos_url': 'https://api.github.com/users/mroeschke/repos',\n",
       "   'events_url': 'https://api.github.com/users/mroeschke/events{/privacy}',\n",
       "   'received_events_url': 'https://api.github.com/users/mroeschke/received_events',\n",
       "   'type': 'User',\n",
       "   'site_admin': False},\n",
       "  'labels': [{'id': 127685,\n",
       "    'node_id': 'MDU6TGFiZWwxMjc2ODU=',\n",
       "    'url': 'https://api.github.com/repos/pandas-dev/pandas/labels/Testing',\n",
       "    'name': 'Testing',\n",
       "    'color': 'C4A000',\n",
       "    'default': False,\n",
       "    'description': 'pandas testing functions or related to the test suite'},\n",
       "   {'id': 1628184320,\n",
       "    'node_id': 'MDU6TGFiZWwxNjI4MTg0MzIw',\n",
       "    'url': 'https://api.github.com/repos/pandas-dev/pandas/labels/Warnings',\n",
       "    'name': 'Warnings',\n",
       "    'color': 'f2f074',\n",
       "    'default': False,\n",
       "    'description': 'Warnings that appear or should be added to pandas'}],\n",
       "  'state': 'open',\n",
       "  'locked': False,\n",
       "  'assignee': None,\n",
       "  'assignees': [],\n",
       "  'milestone': None,\n",
       "  'comments': 0,\n",
       "  'created_at': '2022-09-27T03:24:19Z',\n",
       "  'updated_at': '2022-09-27T03:24:19Z',\n",
       "  'closed_at': None,\n",
       "  'author_association': 'MEMBER',\n",
       "  'active_lock_reason': None,\n",
       "  'draft': False,\n",
       "  'pull_request': {'url': 'https://api.github.com/repos/pandas-dev/pandas/pulls/48804',\n",
       "   'html_url': 'https://github.com/pandas-dev/pandas/pull/48804',\n",
       "   'diff_url': 'https://github.com/pandas-dev/pandas/pull/48804.diff',\n",
       "   'patch_url': 'https://github.com/pandas-dev/pandas/pull/48804.patch',\n",
       "   'merged_at': None},\n",
       "  'body': None,\n",
       "  'reactions': {'url': 'https://api.github.com/repos/pandas-dev/pandas/issues/48804/reactions',\n",
       "   'total_count': 0,\n",
       "   '+1': 0,\n",
       "   '-1': 0,\n",
       "   'laugh': 0,\n",
       "   'hooray': 0,\n",
       "   'confused': 0,\n",
       "   'heart': 0,\n",
       "   'rocket': 0,\n",
       "   'eyes': 0},\n",
       "  'timeline_url': 'https://api.github.com/repos/pandas-dev/pandas/issues/48804/timeline',\n",
       "  'performed_via_github_app': None,\n",
       "  'state_reason': None},\n",
       " {'url': 'https://api.github.com/repos/pandas-dev/pandas/issues/48803',\n",
       "  'repository_url': 'https://api.github.com/repos/pandas-dev/pandas',\n",
       "  'labels_url': 'https://api.github.com/repos/pandas-dev/pandas/issues/48803/labels{/name}',\n",
       "  'comments_url': 'https://api.github.com/repos/pandas-dev/pandas/issues/48803/comments',\n",
       "  'events_url': 'https://api.github.com/repos/pandas-dev/pandas/issues/48803/events',\n",
       "  'html_url': 'https://github.com/pandas-dev/pandas/issues/48803',\n",
       "  'id': 1386980560,\n",
       "  'node_id': 'I_kwDOAA0YD85Sq6TQ',\n",
       "  'number': 48803,\n",
       "  'title': 'DOC: Remove unsupported parameters in `Resampler.mean`',\n",
       "  'user': {'login': 'donghyyun',\n",
       "   'id': 31753237,\n",
       "   'node_id': 'MDQ6VXNlcjMxNzUzMjM3',\n",
       "   'avatar_url': 'https://avatars.githubusercontent.com/u/31753237?v=4',\n",
       "   'gravatar_id': '',\n",
       "   'url': 'https://api.github.com/users/donghyyun',\n",
       "   'html_url': 'https://github.com/donghyyun',\n",
       "   'followers_url': 'https://api.github.com/users/donghyyun/followers',\n",
       "   'following_url': 'https://api.github.com/users/donghyyun/following{/other_user}',\n",
       "   'gists_url': 'https://api.github.com/users/donghyyun/gists{/gist_id}',\n",
       "   'starred_url': 'https://api.github.com/users/donghyyun/starred{/owner}{/repo}',\n",
       "   'subscriptions_url': 'https://api.github.com/users/donghyyun/subscriptions',\n",
       "   'organizations_url': 'https://api.github.com/users/donghyyun/orgs',\n",
       "   'repos_url': 'https://api.github.com/users/donghyyun/repos',\n",
       "   'events_url': 'https://api.github.com/users/donghyyun/events{/privacy}',\n",
       "   'received_events_url': 'https://api.github.com/users/donghyyun/received_events',\n",
       "   'type': 'User',\n",
       "   'site_admin': False},\n",
       "  'labels': [{'id': 134699,\n",
       "    'node_id': 'MDU6TGFiZWwxMzQ2OTk=',\n",
       "    'url': 'https://api.github.com/repos/pandas-dev/pandas/labels/Docs',\n",
       "    'name': 'Docs',\n",
       "    'color': '3465A4',\n",
       "    'default': False,\n",
       "    'description': None},\n",
       "   {'id': 1954720290,\n",
       "    'node_id': 'MDU6TGFiZWwxOTU0NzIwMjkw',\n",
       "    'url': 'https://api.github.com/repos/pandas-dev/pandas/labels/Needs%20Triage',\n",
       "    'name': 'Needs Triage',\n",
       "    'color': '0052cc',\n",
       "    'default': False,\n",
       "    'description': 'Issue that has not been reviewed by a pandas team member'}],\n",
       "  'state': 'open',\n",
       "  'locked': False,\n",
       "  'assignee': None,\n",
       "  'assignees': [],\n",
       "  'milestone': None,\n",
       "  'comments': 1,\n",
       "  'created_at': '2022-09-27T02:31:28Z',\n",
       "  'updated_at': '2022-09-27T03:08:31Z',\n",
       "  'closed_at': None,\n",
       "  'author_association': 'NONE',\n",
       "  'active_lock_reason': None,\n",
       "  'body': \"### Pandas version checks\\n\\n- [X] I have checked that the issue still exists on the latest versions of the docs on `main` [here](https://pandas.pydata.org/docs/dev/)\\n\\n\\n### Location of the documentation\\n\\nhttps://pandas.pydata.org/docs/reference/api/pandas.core.resample.Resampler.mean.html\\n\\n### Documentation problem\\n\\nAccording to the [comment](https://github.com/pandas-dev/pandas/issues/48675#issuecomment-1255369994), numba engine hasn't be implemented for `resample`.\\r\\n\\r\\nHowever, the reference document says that they are supporting the numba engine.\\n\\n### Suggested fix for documentation\\n\\nPlease remove 'engine', 'engine_kwargs' in `parameters` section.\",\n",
       "  'reactions': {'url': 'https://api.github.com/repos/pandas-dev/pandas/issues/48803/reactions',\n",
       "   'total_count': 1,\n",
       "   '+1': 1,\n",
       "   '-1': 0,\n",
       "   'laugh': 0,\n",
       "   'hooray': 0,\n",
       "   'confused': 0,\n",
       "   'heart': 0,\n",
       "   'rocket': 0,\n",
       "   'eyes': 0},\n",
       "  'timeline_url': 'https://api.github.com/repos/pandas-dev/pandas/issues/48803/timeline',\n",
       "  'performed_via_github_app': None,\n",
       "  'state_reason': None},\n",
       " {'url': 'https://api.github.com/repos/pandas-dev/pandas/issues/48802',\n",
       "  'repository_url': 'https://api.github.com/repos/pandas-dev/pandas',\n",
       "  'labels_url': 'https://api.github.com/repos/pandas-dev/pandas/issues/48802/labels{/name}',\n",
       "  'comments_url': 'https://api.github.com/repos/pandas-dev/pandas/issues/48802/comments',\n",
       "  'events_url': 'https://api.github.com/repos/pandas-dev/pandas/issues/48802/events',\n",
       "  'html_url': 'https://github.com/pandas-dev/pandas/issues/48802',\n",
       "  'id': 1386976936,\n",
       "  'node_id': 'I_kwDOAA0YD85Sq5ao',\n",
       "  'number': 48802,\n",
       "  'title': 'ENH: support negative axis',\n",
       "  'user': {'login': 'auderson',\n",
       "   'id': 48577571,\n",
       "   'node_id': 'MDQ6VXNlcjQ4NTc3NTcx',\n",
       "   'avatar_url': 'https://avatars.githubusercontent.com/u/48577571?v=4',\n",
       "   'gravatar_id': '',\n",
       "   'url': 'https://api.github.com/users/auderson',\n",
       "   'html_url': 'https://github.com/auderson',\n",
       "   'followers_url': 'https://api.github.com/users/auderson/followers',\n",
       "   'following_url': 'https://api.github.com/users/auderson/following{/other_user}',\n",
       "   'gists_url': 'https://api.github.com/users/auderson/gists{/gist_id}',\n",
       "   'starred_url': 'https://api.github.com/users/auderson/starred{/owner}{/repo}',\n",
       "   'subscriptions_url': 'https://api.github.com/users/auderson/subscriptions',\n",
       "   'organizations_url': 'https://api.github.com/users/auderson/orgs',\n",
       "   'repos_url': 'https://api.github.com/users/auderson/repos',\n",
       "   'events_url': 'https://api.github.com/users/auderson/events{/privacy}',\n",
       "   'received_events_url': 'https://api.github.com/users/auderson/received_events',\n",
       "   'type': 'User',\n",
       "   'site_admin': False},\n",
       "  'labels': [{'id': 76812,\n",
       "    'node_id': 'MDU6TGFiZWw3NjgxMg==',\n",
       "    'url': 'https://api.github.com/repos/pandas-dev/pandas/labels/Enhancement',\n",
       "    'name': 'Enhancement',\n",
       "    'color': '4E9A06',\n",
       "    'default': False,\n",
       "    'description': None},\n",
       "   {'id': 1954720290,\n",
       "    'node_id': 'MDU6TGFiZWwxOTU0NzIwMjkw',\n",
       "    'url': 'https://api.github.com/repos/pandas-dev/pandas/labels/Needs%20Triage',\n",
       "    'name': 'Needs Triage',\n",
       "    'color': '0052cc',\n",
       "    'default': False,\n",
       "    'description': 'Issue that has not been reviewed by a pandas team member'}],\n",
       "  'state': 'open',\n",
       "  'locked': False,\n",
       "  'assignee': None,\n",
       "  'assignees': [],\n",
       "  'milestone': None,\n",
       "  'comments': 2,\n",
       "  'created_at': '2022-09-27T02:25:21Z',\n",
       "  'updated_at': '2022-09-27T04:30:36Z',\n",
       "  'closed_at': None,\n",
       "  'author_association': 'CONTRIBUTOR',\n",
       "  'active_lock_reason': None,\n",
       "  'body': '### Feature Type\\n\\n- [X] Adding new functionality to pandas\\n\\n- [ ] Changing existing functionality in pandas\\n\\n- [ ] Removing existing functionality in pandas\\n\\n\\n### Problem Description\\n\\nIt would be nice if pandas supports negative axis:\\r\\n```python\\r\\npd.DataFrame(np.arange(5)).mean(axis=-1)\\r\\n```\\n\\n### Feature Description\\n\\nThis should be easy, only need to extend current `_AXIS_TO_AXIS_NUMBER` with {-1:1, -2:0}\\n\\n### Alternative Solutions\\n\\n.\\n\\n### Additional Context\\n\\n_No response_',\n",
       "  'reactions': {'url': 'https://api.github.com/repos/pandas-dev/pandas/issues/48802/reactions',\n",
       "   'total_count': 0,\n",
       "   '+1': 0,\n",
       "   '-1': 0,\n",
       "   'laugh': 0,\n",
       "   'hooray': 0,\n",
       "   'confused': 0,\n",
       "   'heart': 0,\n",
       "   'rocket': 0,\n",
       "   'eyes': 0},\n",
       "  'timeline_url': 'https://api.github.com/repos/pandas-dev/pandas/issues/48802/timeline',\n",
       "  'performed_via_github_app': None,\n",
       "  'state_reason': None},\n",
       " {'url': 'https://api.github.com/repos/pandas-dev/pandas/issues/48800',\n",
       "  'repository_url': 'https://api.github.com/repos/pandas-dev/pandas',\n",
       "  'labels_url': 'https://api.github.com/repos/pandas-dev/pandas/issues/48800/labels{/name}',\n",
       "  'comments_url': 'https://api.github.com/repos/pandas-dev/pandas/issues/48800/comments',\n",
       "  'events_url': 'https://api.github.com/repos/pandas-dev/pandas/issues/48800/events',\n",
       "  'html_url': 'https://github.com/pandas-dev/pandas/pull/48800',\n",
       "  'id': 1386839371,\n",
       "  'node_id': 'PR_kwDOAA0YD84_pawM',\n",
       "  'number': 48800,\n",
       "  'title': 'Backport PR #48608 on branch 1.5.x (REGR: assert_index_equal raising with non matching pd.NA)',\n",
       "  'user': {'login': 'meeseeksmachine',\n",
       "   'id': 39504233,\n",
       "   'node_id': 'MDQ6VXNlcjM5NTA0MjMz',\n",
       "   'avatar_url': 'https://avatars.githubusercontent.com/u/39504233?v=4',\n",
       "   'gravatar_id': '',\n",
       "   'url': 'https://api.github.com/users/meeseeksmachine',\n",
       "   'html_url': 'https://github.com/meeseeksmachine',\n",
       "   'followers_url': 'https://api.github.com/users/meeseeksmachine/followers',\n",
       "   'following_url': 'https://api.github.com/users/meeseeksmachine/following{/other_user}',\n",
       "   'gists_url': 'https://api.github.com/users/meeseeksmachine/gists{/gist_id}',\n",
       "   'starred_url': 'https://api.github.com/users/meeseeksmachine/starred{/owner}{/repo}',\n",
       "   'subscriptions_url': 'https://api.github.com/users/meeseeksmachine/subscriptions',\n",
       "   'organizations_url': 'https://api.github.com/users/meeseeksmachine/orgs',\n",
       "   'repos_url': 'https://api.github.com/users/meeseeksmachine/repos',\n",
       "   'events_url': 'https://api.github.com/users/meeseeksmachine/events{/privacy}',\n",
       "   'received_events_url': 'https://api.github.com/users/meeseeksmachine/received_events',\n",
       "   'type': 'User',\n",
       "   'site_admin': False},\n",
       "  'labels': [{'id': 127685,\n",
       "    'node_id': 'MDU6TGFiZWwxMjc2ODU=',\n",
       "    'url': 'https://api.github.com/repos/pandas-dev/pandas/labels/Testing',\n",
       "    'name': 'Testing',\n",
       "    'color': 'C4A000',\n",
       "    'default': False,\n",
       "    'description': 'pandas testing functions or related to the test suite'},\n",
       "   {'id': 1817503692,\n",
       "    'node_id': 'MDU6TGFiZWwxODE3NTAzNjky',\n",
       "    'url': 'https://api.github.com/repos/pandas-dev/pandas/labels/NA%20-%20MaskedArrays',\n",
       "    'name': 'NA - MaskedArrays',\n",
       "    'color': '8cc645',\n",
       "    'default': False,\n",
       "    'description': 'Related to pd.NA and nullable extension arrays'}],\n",
       "  'state': 'open',\n",
       "  'locked': False,\n",
       "  'assignee': None,\n",
       "  'assignees': [],\n",
       "  'milestone': {'url': 'https://api.github.com/repos/pandas-dev/pandas/milestones/98',\n",
       "   'html_url': 'https://github.com/pandas-dev/pandas/milestone/98',\n",
       "   'labels_url': 'https://api.github.com/repos/pandas-dev/pandas/milestones/98/labels',\n",
       "   'id': 8438761,\n",
       "   'node_id': 'MI_kwDOAA0YD84AgMPp',\n",
       "   'number': 98,\n",
       "   'title': '1.5.1',\n",
       "   'description': 'on-merge: backport to 1.5.x',\n",
       "   'creator': {'login': 'datapythonista',\n",
       "    'id': 10058240,\n",
       "    'node_id': 'MDQ6VXNlcjEwMDU4MjQw',\n",
       "    'avatar_url': 'https://avatars.githubusercontent.com/u/10058240?v=4',\n",
       "    'gravatar_id': '',\n",
       "    'url': 'https://api.github.com/users/datapythonista',\n",
       "    'html_url': 'https://github.com/datapythonista',\n",
       "    'followers_url': 'https://api.github.com/users/datapythonista/followers',\n",
       "    'following_url': 'https://api.github.com/users/datapythonista/following{/other_user}',\n",
       "    'gists_url': 'https://api.github.com/users/datapythonista/gists{/gist_id}',\n",
       "    'starred_url': 'https://api.github.com/users/datapythonista/starred{/owner}{/repo}',\n",
       "    'subscriptions_url': 'https://api.github.com/users/datapythonista/subscriptions',\n",
       "    'organizations_url': 'https://api.github.com/users/datapythonista/orgs',\n",
       "    'repos_url': 'https://api.github.com/users/datapythonista/repos',\n",
       "    'events_url': 'https://api.github.com/users/datapythonista/events{/privacy}',\n",
       "    'received_events_url': 'https://api.github.com/users/datapythonista/received_events',\n",
       "    'type': 'User',\n",
       "    'site_admin': False},\n",
       "   'open_issues': 19,\n",
       "   'closed_issues': 45,\n",
       "   'state': 'open',\n",
       "   'created_at': '2022-09-19T20:12:38Z',\n",
       "   'updated_at': '2022-09-27T07:53:55Z',\n",
       "   'due_on': None,\n",
       "   'closed_at': None},\n",
       "  'comments': 0,\n",
       "  'created_at': '2022-09-26T23:00:51Z',\n",
       "  'updated_at': '2022-09-26T23:00:52Z',\n",
       "  'closed_at': None,\n",
       "  'author_association': 'NONE',\n",
       "  'active_lock_reason': None,\n",
       "  'draft': False,\n",
       "  'pull_request': {'url': 'https://api.github.com/repos/pandas-dev/pandas/pulls/48800',\n",
       "   'html_url': 'https://github.com/pandas-dev/pandas/pull/48800',\n",
       "   'diff_url': 'https://github.com/pandas-dev/pandas/pull/48800.diff',\n",
       "   'patch_url': 'https://github.com/pandas-dev/pandas/pull/48800.patch',\n",
       "   'merged_at': None},\n",
       "  'body': 'Backport PR #48608: REGR: assert_index_equal raising with non matching pd.NA',\n",
       "  'reactions': {'url': 'https://api.github.com/repos/pandas-dev/pandas/issues/48800/reactions',\n",
       "   'total_count': 0,\n",
       "   '+1': 0,\n",
       "   '-1': 0,\n",
       "   'laugh': 0,\n",
       "   'hooray': 0,\n",
       "   'confused': 0,\n",
       "   'heart': 0,\n",
       "   'rocket': 0,\n",
       "   'eyes': 0},\n",
       "  'timeline_url': 'https://api.github.com/repos/pandas-dev/pandas/issues/48800/timeline',\n",
       "  'performed_via_github_app': None,\n",
       "  'state_reason': None},\n",
       " {'url': 'https://api.github.com/repos/pandas-dev/pandas/issues/48797',\n",
       "  'repository_url': 'https://api.github.com/repos/pandas-dev/pandas',\n",
       "  'labels_url': 'https://api.github.com/repos/pandas-dev/pandas/issues/48797/labels{/name}',\n",
       "  'comments_url': 'https://api.github.com/repos/pandas-dev/pandas/issues/48797/comments',\n",
       "  'events_url': 'https://api.github.com/repos/pandas-dev/pandas/issues/48797/events',\n",
       "  'html_url': 'https://github.com/pandas-dev/pandas/pull/48797',\n",
       "  'id': 1386822624,\n",
       "  'node_id': 'PR_kwDOAA0YD84_pXHI',\n",
       "  'number': 48797,\n",
       "  'title': 'REGR: fix df.apply with keyword non-zero axis',\n",
       "  'user': {'login': 'hauntsaninja',\n",
       "   'id': 12621235,\n",
       "   'node_id': 'MDQ6VXNlcjEyNjIxMjM1',\n",
       "   'avatar_url': 'https://avatars.githubusercontent.com/u/12621235?v=4',\n",
       "   'gravatar_id': '',\n",
       "   'url': 'https://api.github.com/users/hauntsaninja',\n",
       "   'html_url': 'https://github.com/hauntsaninja',\n",
       "   'followers_url': 'https://api.github.com/users/hauntsaninja/followers',\n",
       "   'following_url': 'https://api.github.com/users/hauntsaninja/following{/other_user}',\n",
       "   'gists_url': 'https://api.github.com/users/hauntsaninja/gists{/gist_id}',\n",
       "   'starred_url': 'https://api.github.com/users/hauntsaninja/starred{/owner}{/repo}',\n",
       "   'subscriptions_url': 'https://api.github.com/users/hauntsaninja/subscriptions',\n",
       "   'organizations_url': 'https://api.github.com/users/hauntsaninja/orgs',\n",
       "   'repos_url': 'https://api.github.com/users/hauntsaninja/repos',\n",
       "   'events_url': 'https://api.github.com/users/hauntsaninja/events{/privacy}',\n",
       "   'received_events_url': 'https://api.github.com/users/hauntsaninja/received_events',\n",
       "   'type': 'User',\n",
       "   'site_admin': False},\n",
       "  'labels': [{'id': 697792067,\n",
       "    'node_id': 'MDU6TGFiZWw2OTc3OTIwNjc=',\n",
       "    'url': 'https://api.github.com/repos/pandas-dev/pandas/labels/Apply',\n",
       "    'name': 'Apply',\n",
       "    'color': 'fbca04',\n",
       "    'default': False,\n",
       "    'description': 'Apply, Aggregate, Transform'}],\n",
       "  'state': 'open',\n",
       "  'locked': False,\n",
       "  'assignee': None,\n",
       "  'assignees': [],\n",
       "  'milestone': None,\n",
       "  'comments': 1,\n",
       "  'created_at': '2022-09-26T22:39:05Z',\n",
       "  'updated_at': '2022-09-26T23:25:53Z',\n",
       "  'closed_at': None,\n",
       "  'author_association': 'CONTRIBUTOR',\n",
       "  'active_lock_reason': None,\n",
       "  'draft': False,\n",
       "  'pull_request': {'url': 'https://api.github.com/repos/pandas-dev/pandas/pulls/48797',\n",
       "   'html_url': 'https://github.com/pandas-dev/pandas/pull/48797',\n",
       "   'diff_url': 'https://github.com/pandas-dev/pandas/pull/48797.diff',\n",
       "   'patch_url': 'https://github.com/pandas-dev/pandas/pull/48797.patch',\n",
       "   'merged_at': None},\n",
       "  'body': 'Fixes #48656. Builds on top of #48693.\\r\\n\\r\\nAn alternative fix could be to use `inspect.signature`, since `inspect.signature` defaults to following wrapped functions. But this seems like a more minimal change.\\r\\n\\r\\n- [ ] All [code checks passed](https://pandas.pydata.org/pandas-docs/dev/development/contributing_codebase.html#pre-commit).\\r\\n- [ ] Added an entry in the latest `doc/source/whatsnew/vX.X.X.rst` file if fixing a bug or adding a new feature.\\r\\n',\n",
       "  'reactions': {'url': 'https://api.github.com/repos/pandas-dev/pandas/issues/48797/reactions',\n",
       "   'total_count': 0,\n",
       "   '+1': 0,\n",
       "   '-1': 0,\n",
       "   'laugh': 0,\n",
       "   'hooray': 0,\n",
       "   'confused': 0,\n",
       "   'heart': 0,\n",
       "   'rocket': 0,\n",
       "   'eyes': 0},\n",
       "  'timeline_url': 'https://api.github.com/repos/pandas-dev/pandas/issues/48797/timeline',\n",
       "  'performed_via_github_app': None,\n",
       "  'state_reason': None},\n",
       " {'url': 'https://api.github.com/repos/pandas-dev/pandas/issues/48796',\n",
       "  'repository_url': 'https://api.github.com/repos/pandas-dev/pandas',\n",
       "  'labels_url': 'https://api.github.com/repos/pandas-dev/pandas/issues/48796/labels{/name}',\n",
       "  'comments_url': 'https://api.github.com/repos/pandas-dev/pandas/issues/48796/comments',\n",
       "  'events_url': 'https://api.github.com/repos/pandas-dev/pandas/issues/48796/events',\n",
       "  'html_url': 'https://github.com/pandas-dev/pandas/issues/48796',\n",
       "  'id': 1386797027,\n",
       "  'node_id': 'I_kwDOAA0YD85SqNfj',\n",
       "  'number': 48796,\n",
       "  'title': 'BUG: `pd.to_timedelta()` does not accept nullable float',\n",
       "  'user': {'login': 'davidchall',\n",
       "   'id': 1804856,\n",
       "   'node_id': 'MDQ6VXNlcjE4MDQ4NTY=',\n",
       "   'avatar_url': 'https://avatars.githubusercontent.com/u/1804856?v=4',\n",
       "   'gravatar_id': '',\n",
       "   'url': 'https://api.github.com/users/davidchall',\n",
       "   'html_url': 'https://github.com/davidchall',\n",
       "   'followers_url': 'https://api.github.com/users/davidchall/followers',\n",
       "   'following_url': 'https://api.github.com/users/davidchall/following{/other_user}',\n",
       "   'gists_url': 'https://api.github.com/users/davidchall/gists{/gist_id}',\n",
       "   'starred_url': 'https://api.github.com/users/davidchall/starred{/owner}{/repo}',\n",
       "   'subscriptions_url': 'https://api.github.com/users/davidchall/subscriptions',\n",
       "   'organizations_url': 'https://api.github.com/users/davidchall/orgs',\n",
       "   'repos_url': 'https://api.github.com/users/davidchall/repos',\n",
       "   'events_url': 'https://api.github.com/users/davidchall/events{/privacy}',\n",
       "   'received_events_url': 'https://api.github.com/users/davidchall/received_events',\n",
       "   'type': 'User',\n",
       "   'site_admin': False},\n",
       "  'labels': [{'id': 76811,\n",
       "    'node_id': 'MDU6TGFiZWw3NjgxMQ==',\n",
       "    'url': 'https://api.github.com/repos/pandas-dev/pandas/labels/Bug',\n",
       "    'name': 'Bug',\n",
       "    'color': 'e10c02',\n",
       "    'default': False,\n",
       "    'description': None},\n",
       "   {'id': 1954720290,\n",
       "    'node_id': 'MDU6TGFiZWwxOTU0NzIwMjkw',\n",
       "    'url': 'https://api.github.com/repos/pandas-dev/pandas/labels/Needs%20Triage',\n",
       "    'name': 'Needs Triage',\n",
       "    'color': '0052cc',\n",
       "    'default': False,\n",
       "    'description': 'Issue that has not been reviewed by a pandas team member'}],\n",
       "  'state': 'open',\n",
       "  'locked': False,\n",
       "  'assignee': None,\n",
       "  'assignees': [],\n",
       "  'milestone': None,\n",
       "  'comments': 0,\n",
       "  'created_at': '2022-09-26T22:19:11Z',\n",
       "  'updated_at': '2022-09-26T22:19:11Z',\n",
       "  'closed_at': None,\n",
       "  'author_association': 'CONTRIBUTOR',\n",
       "  'active_lock_reason': None,\n",
       "  'body': '### Pandas version checks\\n\\n- [X] I have checked that this issue has not already been reported.\\n\\n- [X] I have confirmed this bug exists on the [latest version](https://pandas.pydata.org/docs/whatsnew/index.html) of pandas.\\n\\n- [ ] I have confirmed this bug exists on the main branch of pandas.\\n\\n\\n### Reproducible Example\\n\\n```python\\nimport pandas as pd\\r\\npd.to_timedelta(pd.Series([1], dtype=\"Float64\"))\\n```\\n\\n\\n### Issue Description\\n\\nThe `pd.to_timedelta()` function does not accept a series using the nullable float extension dtype (either \"Float32\" or \"Float64\").\\r\\n\\r\\nAn exception is raised with the following message:\\r\\n> IndexError: only integers, slices (`:`), ellipsis (`...`), numpy.newaxis (`None`) and integer or boolean arrays are valid indices\\n\\n### Expected Behavior\\n\\nIn this example, I would expect the output to be the same as for the regular NumPy dtype:\\r\\n\\r\\n```python\\r\\npd.to_timedelta(pd.Series([1], dtype=\"float64\"))\\r\\n```\\n\\n### Installed Versions\\n\\n<details>\\r\\n\\r\\nINSTALLED VERSIONS\\r\\n------------------\\r\\ncommit           : 87cfe4e38bafe7300a6003a1d18bd80f3f77c763\\r\\npython           : 3.9.7.final.0\\r\\npython-bits      : 64\\r\\nOS               : Windows\\r\\nOS-release       : 10\\r\\nVersion          : 10.0.19044\\r\\nmachine          : AMD64\\r\\nprocessor        : Intel64 Family 6 Model 142 Stepping 12, GenuineIntel\\r\\nbyteorder        : little\\r\\nLC_ALL           : None\\r\\nLANG             : None\\r\\nLOCALE           : English_United States.1252\\r\\n\\r\\npandas           : 1.5.0\\r\\nnumpy            : 1.21.5\\r\\npytz             : 2022.1\\r\\ndateutil         : 2.8.2\\r\\nsetuptools       : 63.4.1\\r\\npip              : 22.1.2\\r\\nCython           : 0.29.30\\r\\npytest           : 7.1.2\\r\\nhypothesis       : None\\r\\nsphinx           : 5.0.2\\r\\nblosc            : None\\r\\nfeather          : None\\r\\nxlsxwriter       : 3.0.3\\r\\nlxml.etree       : 4.9.1\\r\\nhtml5lib         : None\\r\\npymysql          : None\\r\\npsycopg2         : None\\r\\njinja2           : 2.11.3\\r\\nIPython          : 8.4.0\\r\\npandas_datareader: None\\r\\nbs4              : 4.11.1\\r\\nbottleneck       : 1.3.5\\r\\nbrotli           : \\r\\nfastparquet      : None\\r\\nfsspec           : 2022.7.1\\r\\ngcsfs            : None\\r\\nmatplotlib       : 3.5.2\\r\\nnumba            : 0.55.1\\r\\nnumexpr          : 2.8.3\\r\\nodfpy            : None\\r\\nopenpyxl         : 3.0.10\\r\\npandas_gbq       : None\\r\\npyarrow          : None\\r\\npyreadstat       : None\\r\\npyxlsb           : None\\r\\ns3fs             : None\\r\\nscipy            : 1.7.1\\r\\nsnappy           : \\r\\nsqlalchemy       : 1.4.39\\r\\ntables           : 3.6.1\\r\\ntabulate         : 0.8.10\\r\\nxarray           : 0.20.1\\r\\nxlrd             : 2.0.1\\r\\nxlwt             : None\\r\\nzstandard        : None\\r\\ntzdata           : None\\r\\n\\r\\n</details>\\r\\n',\n",
       "  'reactions': {'url': 'https://api.github.com/repos/pandas-dev/pandas/issues/48796/reactions',\n",
       "   'total_count': 0,\n",
       "   '+1': 0,\n",
       "   '-1': 0,\n",
       "   'laugh': 0,\n",
       "   'hooray': 0,\n",
       "   'confused': 0,\n",
       "   'heart': 0,\n",
       "   'rocket': 0,\n",
       "   'eyes': 0},\n",
       "  'timeline_url': 'https://api.github.com/repos/pandas-dev/pandas/issues/48796/timeline',\n",
       "  'performed_via_github_app': None,\n",
       "  'state_reason': None},\n",
       " {'url': 'https://api.github.com/repos/pandas-dev/pandas/issues/48795',\n",
       "  'repository_url': 'https://api.github.com/repos/pandas-dev/pandas',\n",
       "  'labels_url': 'https://api.github.com/repos/pandas-dev/pandas/issues/48795/labels{/name}',\n",
       "  'comments_url': 'https://api.github.com/repos/pandas-dev/pandas/issues/48795/comments',\n",
       "  'events_url': 'https://api.github.com/repos/pandas-dev/pandas/issues/48795/events',\n",
       "  'html_url': 'https://github.com/pandas-dev/pandas/pull/48795',\n",
       "  'id': 1386771887,\n",
       "  'node_id': 'PR_kwDOAA0YD84_pL-F',\n",
       "  'number': 48795,\n",
       "  'title': 'Backport PR #48693 on branch 1.5.x (ENH: Make deprecate_nonkeyword_arguments alter function signature)',\n",
       "  'user': {'login': 'meeseeksmachine',\n",
       "   'id': 39504233,\n",
       "   'node_id': 'MDQ6VXNlcjM5NTA0MjMz',\n",
       "   'avatar_url': 'https://avatars.githubusercontent.com/u/39504233?v=4',\n",
       "   'gravatar_id': '',\n",
       "   'url': 'https://api.github.com/users/meeseeksmachine',\n",
       "   'html_url': 'https://github.com/meeseeksmachine',\n",
       "   'followers_url': 'https://api.github.com/users/meeseeksmachine/followers',\n",
       "   'following_url': 'https://api.github.com/users/meeseeksmachine/following{/other_user}',\n",
       "   'gists_url': 'https://api.github.com/users/meeseeksmachine/gists{/gist_id}',\n",
       "   'starred_url': 'https://api.github.com/users/meeseeksmachine/starred{/owner}{/repo}',\n",
       "   'subscriptions_url': 'https://api.github.com/users/meeseeksmachine/subscriptions',\n",
       "   'organizations_url': 'https://api.github.com/users/meeseeksmachine/orgs',\n",
       "   'repos_url': 'https://api.github.com/users/meeseeksmachine/repos',\n",
       "   'events_url': 'https://api.github.com/users/meeseeksmachine/events{/privacy}',\n",
       "   'received_events_url': 'https://api.github.com/users/meeseeksmachine/received_events',\n",
       "   'type': 'User',\n",
       "   'site_admin': False},\n",
       "  'labels': [{'id': 76812,\n",
       "    'node_id': 'MDU6TGFiZWw3NjgxMg==',\n",
       "    'url': 'https://api.github.com/repos/pandas-dev/pandas/labels/Enhancement',\n",
       "    'name': 'Enhancement',\n",
       "    'color': '4E9A06',\n",
       "    'default': False,\n",
       "    'description': None},\n",
       "   {'id': 87485152,\n",
       "    'node_id': 'MDU6TGFiZWw4NzQ4NTE1Mg==',\n",
       "    'url': 'https://api.github.com/repos/pandas-dev/pandas/labels/Deprecate',\n",
       "    'name': 'Deprecate',\n",
       "    'color': '5319e7',\n",
       "    'default': False,\n",
       "    'description': 'Functionality to remove in pandas'}],\n",
       "  'state': 'open',\n",
       "  'locked': False,\n",
       "  'assignee': None,\n",
       "  'assignees': [],\n",
       "  'milestone': {'url': 'https://api.github.com/repos/pandas-dev/pandas/milestones/98',\n",
       "   'html_url': 'https://github.com/pandas-dev/pandas/milestone/98',\n",
       "   'labels_url': 'https://api.github.com/repos/pandas-dev/pandas/milestones/98/labels',\n",
       "   'id': 8438761,\n",
       "   'node_id': 'MI_kwDOAA0YD84AgMPp',\n",
       "   'number': 98,\n",
       "   'title': '1.5.1',\n",
       "   'description': 'on-merge: backport to 1.5.x',\n",
       "   'creator': {'login': 'datapythonista',\n",
       "    'id': 10058240,\n",
       "    'node_id': 'MDQ6VXNlcjEwMDU4MjQw',\n",
       "    'avatar_url': 'https://avatars.githubusercontent.com/u/10058240?v=4',\n",
       "    'gravatar_id': '',\n",
       "    'url': 'https://api.github.com/users/datapythonista',\n",
       "    'html_url': 'https://github.com/datapythonista',\n",
       "    'followers_url': 'https://api.github.com/users/datapythonista/followers',\n",
       "    'following_url': 'https://api.github.com/users/datapythonista/following{/other_user}',\n",
       "    'gists_url': 'https://api.github.com/users/datapythonista/gists{/gist_id}',\n",
       "    'starred_url': 'https://api.github.com/users/datapythonista/starred{/owner}{/repo}',\n",
       "    'subscriptions_url': 'https://api.github.com/users/datapythonista/subscriptions',\n",
       "    'organizations_url': 'https://api.github.com/users/datapythonista/orgs',\n",
       "    'repos_url': 'https://api.github.com/users/datapythonista/repos',\n",
       "    'events_url': 'https://api.github.com/users/datapythonista/events{/privacy}',\n",
       "    'received_events_url': 'https://api.github.com/users/datapythonista/received_events',\n",
       "    'type': 'User',\n",
       "    'site_admin': False},\n",
       "   'open_issues': 19,\n",
       "   'closed_issues': 45,\n",
       "   'state': 'open',\n",
       "   'created_at': '2022-09-19T20:12:38Z',\n",
       "   'updated_at': '2022-09-27T07:53:55Z',\n",
       "   'due_on': None,\n",
       "   'closed_at': None},\n",
       "  'comments': 0,\n",
       "  'created_at': '2022-09-26T21:52:46Z',\n",
       "  'updated_at': '2022-09-26T21:52:47Z',\n",
       "  'closed_at': None,\n",
       "  'author_association': 'NONE',\n",
       "  'active_lock_reason': None,\n",
       "  'draft': False,\n",
       "  'pull_request': {'url': 'https://api.github.com/repos/pandas-dev/pandas/pulls/48795',\n",
       "   'html_url': 'https://github.com/pandas-dev/pandas/pull/48795',\n",
       "   'diff_url': 'https://github.com/pandas-dev/pandas/pull/48795.diff',\n",
       "   'patch_url': 'https://github.com/pandas-dev/pandas/pull/48795.patch',\n",
       "   'merged_at': None},\n",
       "  'body': 'Backport PR #48693: ENH: Make deprecate_nonkeyword_arguments alter function signature',\n",
       "  'reactions': {'url': 'https://api.github.com/repos/pandas-dev/pandas/issues/48795/reactions',\n",
       "   'total_count': 0,\n",
       "   '+1': 0,\n",
       "   '-1': 0,\n",
       "   'laugh': 0,\n",
       "   'hooray': 0,\n",
       "   'confused': 0,\n",
       "   'heart': 0,\n",
       "   'rocket': 0,\n",
       "   'eyes': 0},\n",
       "  'timeline_url': 'https://api.github.com/repos/pandas-dev/pandas/issues/48795/timeline',\n",
       "  'performed_via_github_app': None,\n",
       "  'state_reason': None},\n",
       " {'url': 'https://api.github.com/repos/pandas-dev/pandas/issues/48794',\n",
       "  'repository_url': 'https://api.github.com/repos/pandas-dev/pandas',\n",
       "  'labels_url': 'https://api.github.com/repos/pandas-dev/pandas/issues/48794/labels{/name}',\n",
       "  'comments_url': 'https://api.github.com/repos/pandas-dev/pandas/issues/48794/comments',\n",
       "  'events_url': 'https://api.github.com/repos/pandas-dev/pandas/issues/48794/events',\n",
       "  'html_url': 'https://github.com/pandas-dev/pandas/issues/48794',\n",
       "  'id': 1386724781,\n",
       "  'node_id': 'I_kwDOAA0YD85Sp72t',\n",
       "  'number': 48794,\n",
       "  'title': 'BUG: pandas 1.5 fails to groupby on (nullable) Int64 column with dropna=False',\n",
       "  'user': {'login': 'sm-Fifteen',\n",
       "   'id': 516999,\n",
       "   'node_id': 'MDQ6VXNlcjUxNjk5OQ==',\n",
       "   'avatar_url': 'https://avatars.githubusercontent.com/u/516999?v=4',\n",
       "   'gravatar_id': '',\n",
       "   'url': 'https://api.github.com/users/sm-Fifteen',\n",
       "   'html_url': 'https://github.com/sm-Fifteen',\n",
       "   'followers_url': 'https://api.github.com/users/sm-Fifteen/followers',\n",
       "   'following_url': 'https://api.github.com/users/sm-Fifteen/following{/other_user}',\n",
       "   'gists_url': 'https://api.github.com/users/sm-Fifteen/gists{/gist_id}',\n",
       "   'starred_url': 'https://api.github.com/users/sm-Fifteen/starred{/owner}{/repo}',\n",
       "   'subscriptions_url': 'https://api.github.com/users/sm-Fifteen/subscriptions',\n",
       "   'organizations_url': 'https://api.github.com/users/sm-Fifteen/orgs',\n",
       "   'repos_url': 'https://api.github.com/users/sm-Fifteen/repos',\n",
       "   'events_url': 'https://api.github.com/users/sm-Fifteen/events{/privacy}',\n",
       "   'received_events_url': 'https://api.github.com/users/sm-Fifteen/received_events',\n",
       "   'type': 'User',\n",
       "   'site_admin': False},\n",
       "  'labels': [{'id': 233160,\n",
       "    'node_id': 'MDU6TGFiZWwyMzMxNjA=',\n",
       "    'url': 'https://api.github.com/repos/pandas-dev/pandas/labels/Groupby',\n",
       "    'name': 'Groupby',\n",
       "    'color': '729FCF',\n",
       "    'default': False,\n",
       "    'description': None},\n",
       "   {'id': 32815646,\n",
       "    'node_id': 'MDU6TGFiZWwzMjgxNTY0Ng==',\n",
       "    'url': 'https://api.github.com/repos/pandas-dev/pandas/labels/Regression',\n",
       "    'name': 'Regression',\n",
       "    'color': 'e11d21',\n",
       "    'default': False,\n",
       "    'description': 'Functionality that used to work in a prior pandas version'},\n",
       "   {'id': 1817503692,\n",
       "    'node_id': 'MDU6TGFiZWwxODE3NTAzNjky',\n",
       "    'url': 'https://api.github.com/repos/pandas-dev/pandas/labels/NA%20-%20MaskedArrays',\n",
       "    'name': 'NA - MaskedArrays',\n",
       "    'color': '8cc645',\n",
       "    'default': False,\n",
       "    'description': 'Related to pd.NA and nullable extension arrays'}],\n",
       "  'state': 'open',\n",
       "  'locked': False,\n",
       "  'assignee': {'login': 'rhshadrach',\n",
       "   'id': 45562402,\n",
       "   'node_id': 'MDQ6VXNlcjQ1NTYyNDAy',\n",
       "   'avatar_url': 'https://avatars.githubusercontent.com/u/45562402?v=4',\n",
       "   'gravatar_id': '',\n",
       "   'url': 'https://api.github.com/users/rhshadrach',\n",
       "   'html_url': 'https://github.com/rhshadrach',\n",
       "   'followers_url': 'https://api.github.com/users/rhshadrach/followers',\n",
       "   'following_url': 'https://api.github.com/users/rhshadrach/following{/other_user}',\n",
       "   'gists_url': 'https://api.github.com/users/rhshadrach/gists{/gist_id}',\n",
       "   'starred_url': 'https://api.github.com/users/rhshadrach/starred{/owner}{/repo}',\n",
       "   'subscriptions_url': 'https://api.github.com/users/rhshadrach/subscriptions',\n",
       "   'organizations_url': 'https://api.github.com/users/rhshadrach/orgs',\n",
       "   'repos_url': 'https://api.github.com/users/rhshadrach/repos',\n",
       "   'events_url': 'https://api.github.com/users/rhshadrach/events{/privacy}',\n",
       "   'received_events_url': 'https://api.github.com/users/rhshadrach/received_events',\n",
       "   'type': 'User',\n",
       "   'site_admin': False},\n",
       "  'assignees': [{'login': 'rhshadrach',\n",
       "    'id': 45562402,\n",
       "    'node_id': 'MDQ6VXNlcjQ1NTYyNDAy',\n",
       "    'avatar_url': 'https://avatars.githubusercontent.com/u/45562402?v=4',\n",
       "    'gravatar_id': '',\n",
       "    'url': 'https://api.github.com/users/rhshadrach',\n",
       "    'html_url': 'https://github.com/rhshadrach',\n",
       "    'followers_url': 'https://api.github.com/users/rhshadrach/followers',\n",
       "    'following_url': 'https://api.github.com/users/rhshadrach/following{/other_user}',\n",
       "    'gists_url': 'https://api.github.com/users/rhshadrach/gists{/gist_id}',\n",
       "    'starred_url': 'https://api.github.com/users/rhshadrach/starred{/owner}{/repo}',\n",
       "    'subscriptions_url': 'https://api.github.com/users/rhshadrach/subscriptions',\n",
       "    'organizations_url': 'https://api.github.com/users/rhshadrach/orgs',\n",
       "    'repos_url': 'https://api.github.com/users/rhshadrach/repos',\n",
       "    'events_url': 'https://api.github.com/users/rhshadrach/events{/privacy}',\n",
       "    'received_events_url': 'https://api.github.com/users/rhshadrach/received_events',\n",
       "    'type': 'User',\n",
       "    'site_admin': False}],\n",
       "  'milestone': {'url': 'https://api.github.com/repos/pandas-dev/pandas/milestones/98',\n",
       "   'html_url': 'https://github.com/pandas-dev/pandas/milestone/98',\n",
       "   'labels_url': 'https://api.github.com/repos/pandas-dev/pandas/milestones/98/labels',\n",
       "   'id': 8438761,\n",
       "   'node_id': 'MI_kwDOAA0YD84AgMPp',\n",
       "   'number': 98,\n",
       "   'title': '1.5.1',\n",
       "   'description': 'on-merge: backport to 1.5.x',\n",
       "   'creator': {'login': 'datapythonista',\n",
       "    'id': 10058240,\n",
       "    'node_id': 'MDQ6VXNlcjEwMDU4MjQw',\n",
       "    'avatar_url': 'https://avatars.githubusercontent.com/u/10058240?v=4',\n",
       "    'gravatar_id': '',\n",
       "    'url': 'https://api.github.com/users/datapythonista',\n",
       "    'html_url': 'https://github.com/datapythonista',\n",
       "    'followers_url': 'https://api.github.com/users/datapythonista/followers',\n",
       "    'following_url': 'https://api.github.com/users/datapythonista/following{/other_user}',\n",
       "    'gists_url': 'https://api.github.com/users/datapythonista/gists{/gist_id}',\n",
       "    'starred_url': 'https://api.github.com/users/datapythonista/starred{/owner}{/repo}',\n",
       "    'subscriptions_url': 'https://api.github.com/users/datapythonista/subscriptions',\n",
       "    'organizations_url': 'https://api.github.com/users/datapythonista/orgs',\n",
       "    'repos_url': 'https://api.github.com/users/datapythonista/repos',\n",
       "    'events_url': 'https://api.github.com/users/datapythonista/events{/privacy}',\n",
       "    'received_events_url': 'https://api.github.com/users/datapythonista/received_events',\n",
       "    'type': 'User',\n",
       "    'site_admin': False},\n",
       "   'open_issues': 19,\n",
       "   'closed_issues': 45,\n",
       "   'state': 'open',\n",
       "   'created_at': '2022-09-19T20:12:38Z',\n",
       "   'updated_at': '2022-09-27T07:53:55Z',\n",
       "   'due_on': None,\n",
       "   'closed_at': None},\n",
       "  'comments': 2,\n",
       "  'created_at': '2022-09-26T21:06:50Z',\n",
       "  'updated_at': '2022-09-27T03:22:29Z',\n",
       "  'closed_at': None,\n",
       "  'author_association': 'NONE',\n",
       "  'active_lock_reason': None,\n",
       "  'body': '### Pandas version checks\\n\\n- [X] I have checked that this issue has not already been reported.\\n\\n- [X] I have confirmed this bug exists on the [latest version](https://pandas.pydata.org/docs/whatsnew/index.html) of pandas.\\n\\n- [ ] I have confirmed this bug exists on the main branch of pandas.\\n\\n\\n### Reproducible Example\\n\\n```python\\nimport numpy as np\\r\\nimport pandas as pd\\r\\n\\r\\ndf = pd.DataFrame({\\r\\n    \\'a\\':np.random.randn(150),\\r\\n    \\'b\\':np.repeat( [25,50,75,100,np.nan], 30),\\r\\n    \\'c\\':np.random.choice( [\\'panda\\',\\'python\\',\\'shark\\'], 150),\\r\\n})\\r\\n\\r\\ndf[\\'b\\'] = df[\\'b\\'].astype(\"Int64\")\\r\\ndf = df.set_index([\\'b\\', \\'c\\'])\\r\\n\\r\\ngroups = df.groupby(axis=\\'rows\\', level=\\'b\\', dropna=False)\\r\\n\\r\\n# Crashes here with something like \"index 91 is out of bounds for axis 0 with size 4\"\\r\\ngroups.ngroups\\n```\\n\\n\\n### Issue Description\\n\\nAttempting to run `df.groupby()` with an `Int64Dtype` column (nullable integers) no longer works as of Pandas 1.5.0. Seems to be caused by #46601, and I\\'m unsure if the patch at #48702 fixes this issue.\\r\\n\\r\\n```\\r\\nTraceback (most recent call last):\\r\\n  File \"pandas15_groupby_bug.py\", line 17, in <module>\\r\\n    groups.ngroups\\r\\n  File \"venv\\\\lib\\\\site-packages\\\\pandas\\\\core\\\\groupby\\\\groupby.py\", line 992, in __getattribute__\\r\\n    return super().__getattribute__(attr)\\r\\n  File \"venv\\\\lib\\\\site-packages\\\\pandas\\\\core\\\\groupby\\\\groupby.py\", line 671, in ngroups\\r\\n    return self.grouper.ngroups\\r\\n  File \"pandas\\\\_libs\\\\properties.pyx\", line 36, in pandas._libs.properties.CachedProperty.__get__\\r\\n  File \"venv\\\\lib\\\\site-packages\\\\pandas\\\\core\\\\groupby\\\\ops.py\", line 983, in ngroups\\r\\n    return len(self.result_index)\\r\\n  File \"pandas\\\\_libs\\\\properties.pyx\", line 36, in pandas._libs.properties.CachedProperty.__get__\\r\\n  File \"venv\\\\lib\\\\site-packages\\\\pandas\\\\core\\\\groupby\\\\ops.py\", line 994, in result_index\\r\\n    return self.groupings[0].result_index.rename(self.names[0])\\r\\n  File \"pandas\\\\_libs\\\\properties.pyx\", line 36, in pandas._libs.properties.CachedProperty.__get__\\r\\n  File \"venv\\\\lib\\\\site-packages\\\\pandas\\\\core\\\\groupby\\\\grouper.py\", line 648, in result_index\\r\\n    return self.group_index\\r\\n  File \"pandas\\\\_libs\\\\properties.pyx\", line 36, in pandas._libs.properties.CachedProperty.__get__\\r\\n  File \"venv\\\\lib\\\\site-packages\\\\pandas\\\\core\\\\groupby\\\\grouper.py\", line 656, in group_index\\r\\n    uniques = self._codes_and_uniques[1]\\r\\n  File \"pandas\\\\_libs\\\\properties.pyx\", line 36, in pandas._libs.properties.CachedProperty.__get__\\r\\n  File \"venv\\\\lib\\\\site-packages\\\\pandas\\\\core\\\\groupby\\\\grouper.py\", line 693, in _codes_and_uniques\\r\\n    codes, uniques = algorithms.factorize(  # type: ignore[assignment]\\r\\n  File \"venv\\\\lib\\\\site-packages\\\\pandas\\\\core\\\\algorithms.py\", line 792, in factorize\\r\\n    codes, uniques = values.factorize(  # type: ignore[call-arg]\\r\\n  File \"venv\\\\lib\\\\site-packages\\\\pandas\\\\core\\\\arrays\\\\masked.py\", line 918, in factorize\\r\\n    uniques = np.insert(uniques, na_code, 0)\\r\\n  File \"<__array_function__ internals>\", line 180, in insert\\r\\n  File \"venv\\\\lib\\\\site-packages\\\\numpy\\\\lib\\\\function_base.py\", line 5332, in insert\\r\\n    raise IndexError(f\"index {obj} is out of bounds for axis {axis} \"\\r\\nIndexError: index 91 is out of bounds for axis 0 with size 4\\r\\n\\r\\n```\\n\\n### Expected Behavior\\n\\nGroupby shouldn\\'t throw, and behave the same as on Pandas 1.4.\\n\\n### Installed Versions\\n\\n<details>\\r\\ncommit           : 87cfe4e38bafe7300a6003a1d18bd80f3f77c763\\r\\npython           : 3.8.10.final.0\\r\\npython-bits      : 64\\r\\nOS               : Windows\\r\\nOS-release       : 10\\r\\nVersion          : 10.0.19042\\r\\nmachine          : AMD64\\r\\nprocessor        : Intel64 Family 6 Model 158 Stepping 10, GenuineIntel\\r\\nbyteorder        : little\\r\\nLC_ALL           : None\\r\\nLANG             : None\\r\\nLOCALE           : French_Canada.1252\\r\\npandas           : 1.5.0\\r\\nnumpy            : 1.23.3\\r\\npytz             : 2022.2.1\\r\\ndateutil         : 2.8.2\\r\\nsetuptools       : 60.2.0\\r\\npip              : 21.3.1\\r\\nCython           : None\\r\\npytest           : None\\r\\nhypothesis       : None\\r\\nsphinx           : None\\r\\nblosc            : None\\r\\nfeather          : None\\r\\nxlsxwriter       : 3.0.3\\r\\nlxml.etree       : None\\r\\nhtml5lib         : None\\r\\npymysql          : None\\r\\npsycopg2         : 2.9.3\\r\\njinja2           : 3.1.2\\r\\nIPython          : None\\r\\npandas_datareader: None\\r\\nbs4              : None\\r\\nbottleneck       : None\\r\\nbrotli           : None\\r\\nfastparquet      : None\\r\\nfsspec           : 2022.8.2\\r\\ngcsfs            : None\\r\\nmatplotlib       : None\\r\\nnumba            : None\\r\\nnumexpr          : None\\r\\nodfpy            : None\\r\\nopenpyxl         : None\\r\\npandas_gbq       : None\\r\\npyarrow          : 9.0.0\\r\\npyreadstat       : None\\r\\npyxlsb           : None\\r\\ns3fs             : None\\r\\nscipy            : None\\r\\nsnappy           : None\\r\\nsqlalchemy       : 1.3.24\\r\\ntables           : None\\r\\ntabulate         : 0.8.10\\r\\nxarray           : None\\r\\nxlrd             : None\\r\\nxlwt             : None\\r\\nzstandard        : None\\r\\ntzdata           : None\\r\\n</details>\\r\\n',\n",
       "  'reactions': {'url': 'https://api.github.com/repos/pandas-dev/pandas/issues/48794/reactions',\n",
       "   'total_count': 0,\n",
       "   '+1': 0,\n",
       "   '-1': 0,\n",
       "   'laugh': 0,\n",
       "   'hooray': 0,\n",
       "   'confused': 0,\n",
       "   'heart': 0,\n",
       "   'rocket': 0,\n",
       "   'eyes': 0},\n",
       "  'timeline_url': 'https://api.github.com/repos/pandas-dev/pandas/issues/48794/timeline',\n",
       "  'performed_via_github_app': None,\n",
       "  'state_reason': None},\n",
       " {'url': 'https://api.github.com/repos/pandas-dev/pandas/issues/48792',\n",
       "  'repository_url': 'https://api.github.com/repos/pandas-dev/pandas',\n",
       "  'labels_url': 'https://api.github.com/repos/pandas-dev/pandas/issues/48792/labels{/name}',\n",
       "  'comments_url': 'https://api.github.com/repos/pandas-dev/pandas/issues/48792/comments',\n",
       "  'events_url': 'https://api.github.com/repos/pandas-dev/pandas/issues/48792/events',\n",
       "  'html_url': 'https://github.com/pandas-dev/pandas/issues/48792',\n",
       "  'id': 1386687508,\n",
       "  'node_id': 'I_kwDOAA0YD85SpywU',\n",
       "  'number': 48792,\n",
       "  'title': 'DEPR: inplace in DataFrameGroupBy.fillna and SeriesGroupBy.fillna',\n",
       "  'user': {'login': 'rhshadrach',\n",
       "   'id': 45562402,\n",
       "   'node_id': 'MDQ6VXNlcjQ1NTYyNDAy',\n",
       "   'avatar_url': 'https://avatars.githubusercontent.com/u/45562402?v=4',\n",
       "   'gravatar_id': '',\n",
       "   'url': 'https://api.github.com/users/rhshadrach',\n",
       "   'html_url': 'https://github.com/rhshadrach',\n",
       "   'followers_url': 'https://api.github.com/users/rhshadrach/followers',\n",
       "   'following_url': 'https://api.github.com/users/rhshadrach/following{/other_user}',\n",
       "   'gists_url': 'https://api.github.com/users/rhshadrach/gists{/gist_id}',\n",
       "   'starred_url': 'https://api.github.com/users/rhshadrach/starred{/owner}{/repo}',\n",
       "   'subscriptions_url': 'https://api.github.com/users/rhshadrach/subscriptions',\n",
       "   'organizations_url': 'https://api.github.com/users/rhshadrach/orgs',\n",
       "   'repos_url': 'https://api.github.com/users/rhshadrach/repos',\n",
       "   'events_url': 'https://api.github.com/users/rhshadrach/events{/privacy}',\n",
       "   'received_events_url': 'https://api.github.com/users/rhshadrach/received_events',\n",
       "   'type': 'User',\n",
       "   'site_admin': False},\n",
       "  'labels': [{'id': 233160,\n",
       "    'node_id': 'MDU6TGFiZWwyMzMxNjA=',\n",
       "    'url': 'https://api.github.com/repos/pandas-dev/pandas/labels/Groupby',\n",
       "    'name': 'Groupby',\n",
       "    'color': '729FCF',\n",
       "    'default': False,\n",
       "    'description': None},\n",
       "   {'id': 2822342,\n",
       "    'node_id': 'MDU6TGFiZWwyODIyMzQy',\n",
       "    'url': 'https://api.github.com/repos/pandas-dev/pandas/labels/Missing-data',\n",
       "    'name': 'Missing-data',\n",
       "    'color': 'd7e102',\n",
       "    'default': False,\n",
       "    'description': 'np.nan, pd.NaT, pd.NA, dropna, isnull, interpolate'},\n",
       "   {'id': 87485152,\n",
       "    'node_id': 'MDU6TGFiZWw4NzQ4NTE1Mg==',\n",
       "    'url': 'https://api.github.com/repos/pandas-dev/pandas/labels/Deprecate',\n",
       "    'name': 'Deprecate',\n",
       "    'color': '5319e7',\n",
       "    'default': False,\n",
       "    'description': 'Functionality to remove in pandas'}],\n",
       "  'state': 'open',\n",
       "  'locked': False,\n",
       "  'assignee': None,\n",
       "  'assignees': [],\n",
       "  'milestone': None,\n",
       "  'comments': 0,\n",
       "  'created_at': '2022-09-26T20:33:45Z',\n",
       "  'updated_at': '2022-09-26T20:33:45Z',\n",
       "  'closed_at': None,\n",
       "  'author_association': 'MEMBER',\n",
       "  'active_lock_reason': None,\n",
       "  'body': \"Specifying `inplace` returns an empty frame or a Series with all `None` values, and neither modifies the original input. Instead of fixing this, I think we should deprecate the `inplace` argument of these methods.\\r\\n\\r\\n```\\r\\ndf = pd.DataFrame({'a': [1, 1, 2], 'b': [np.nan, 3, np.nan]})\\r\\ngb = df.groupby('a')\\r\\n\\r\\nprint(gb.fillna(0, inplace=True))\\r\\n# Empty DataFrame\\r\\n# Columns: []\\r\\n# Index: []\\r\\n\\r\\nprint(gb['b'].fillna(0, inplace=True))\\r\\n# a\\r\\n# 1    None\\r\\n# 2    None\\r\\n# Name: b, dtype: object\\r\\n\\r\\nprint(df)\\r\\n#    a    b\\r\\n# 0  1  NaN\\r\\n# 1  1  3.0\\r\\n# 2  2  NaN\\r\\n```\",\n",
       "  'reactions': {'url': 'https://api.github.com/repos/pandas-dev/pandas/issues/48792/reactions',\n",
       "   'total_count': 0,\n",
       "   '+1': 0,\n",
       "   '-1': 0,\n",
       "   'laugh': 0,\n",
       "   'hooray': 0,\n",
       "   'confused': 0,\n",
       "   'heart': 0,\n",
       "   'rocket': 0,\n",
       "   'eyes': 0},\n",
       "  'timeline_url': 'https://api.github.com/repos/pandas-dev/pandas/issues/48792/timeline',\n",
       "  'performed_via_github_app': None,\n",
       "  'state_reason': None},\n",
       " {'url': 'https://api.github.com/repos/pandas-dev/pandas/issues/48791',\n",
       "  'repository_url': 'https://api.github.com/repos/pandas-dev/pandas',\n",
       "  'labels_url': 'https://api.github.com/repos/pandas-dev/pandas/issues/48791/labels{/name}',\n",
       "  'comments_url': 'https://api.github.com/repos/pandas-dev/pandas/issues/48791/comments',\n",
       "  'events_url': 'https://api.github.com/repos/pandas-dev/pandas/issues/48791/events',\n",
       "  'html_url': 'https://github.com/pandas-dev/pandas/issues/48791',\n",
       "  'id': 1386627554,\n",
       "  'node_id': 'I_kwDOAA0YD85SpkHi',\n",
       "  'number': 48791,\n",
       "  'title': 'BUG: convert_dtypes() leaves int + pd.NA Series as object instead of converting to Int64',\n",
       "  'user': {'login': 'zaneselvans',\n",
       "   'id': 596279,\n",
       "   'node_id': 'MDQ6VXNlcjU5NjI3OQ==',\n",
       "   'avatar_url': 'https://avatars.githubusercontent.com/u/596279?v=4',\n",
       "   'gravatar_id': '',\n",
       "   'url': 'https://api.github.com/users/zaneselvans',\n",
       "   'html_url': 'https://github.com/zaneselvans',\n",
       "   'followers_url': 'https://api.github.com/users/zaneselvans/followers',\n",
       "   'following_url': 'https://api.github.com/users/zaneselvans/following{/other_user}',\n",
       "   'gists_url': 'https://api.github.com/users/zaneselvans/gists{/gist_id}',\n",
       "   'starred_url': 'https://api.github.com/users/zaneselvans/starred{/owner}{/repo}',\n",
       "   'subscriptions_url': 'https://api.github.com/users/zaneselvans/subscriptions',\n",
       "   'organizations_url': 'https://api.github.com/users/zaneselvans/orgs',\n",
       "   'repos_url': 'https://api.github.com/users/zaneselvans/repos',\n",
       "   'events_url': 'https://api.github.com/users/zaneselvans/events{/privacy}',\n",
       "   'received_events_url': 'https://api.github.com/users/zaneselvans/received_events',\n",
       "   'type': 'User',\n",
       "   'site_admin': False},\n",
       "  'labels': [{'id': 76811,\n",
       "    'node_id': 'MDU6TGFiZWw3NjgxMQ==',\n",
       "    'url': 'https://api.github.com/repos/pandas-dev/pandas/labels/Bug',\n",
       "    'name': 'Bug',\n",
       "    'color': 'e10c02',\n",
       "    'default': False,\n",
       "    'description': None},\n",
       "   {'id': 1954720290,\n",
       "    'node_id': 'MDU6TGFiZWwxOTU0NzIwMjkw',\n",
       "    'url': 'https://api.github.com/repos/pandas-dev/pandas/labels/Needs%20Triage',\n",
       "    'name': 'Needs Triage',\n",
       "    'color': '0052cc',\n",
       "    'default': False,\n",
       "    'description': 'Issue that has not been reviewed by a pandas team member'}],\n",
       "  'state': 'open',\n",
       "  'locked': False,\n",
       "  'assignee': None,\n",
       "  'assignees': [],\n",
       "  'milestone': None,\n",
       "  'comments': 0,\n",
       "  'created_at': '2022-09-26T19:51:30Z',\n",
       "  'updated_at': '2022-09-26T19:51:30Z',\n",
       "  'closed_at': None,\n",
       "  'author_association': 'NONE',\n",
       "  'active_lock_reason': None,\n",
       "  'body': '### Pandas version checks\\n\\n- [X] I have checked that this issue has not already been reported.\\n\\n- [X] I have confirmed this bug exists on the [latest version](https://pandas.pydata.org/docs/whatsnew/index.html) of pandas.\\n\\n- [ ] I have confirmed this bug exists on the main branch of pandas.\\n\\n\\n### Reproducible Example\\n\\n```python\\nimport numpy as np\\r\\nimport pandas as pd\\r\\nfrom pandas.testing import assert_series_equal\\r\\n\\r\\n# Passes -- both dtypes are Int64\\r\\ns1 = pd.Series([0, 1, 2, 3])\\r\\nassert_series_equal(s1.astype(\"Int64\"), s1.convert_dtypes())\\r\\n\\r\\n# Passes -- both dtypes are Int64\\r\\ns2 = pd.Series([0, 1, 2, np.nan])\\r\\nassert_series_equal(s2.astype(\"Int64\"), s2.convert_dtypes())\\r\\n\\r\\n# Passes -- both dtypes are Int64\\r\\ns3 = pd.Series([0, 1, 2, None])\\r\\nassert_series_equal(s3.astype(\"Int64\"), s3.convert_dtypes())\\r\\n\\r\\n# Fails -- dtypes are different (object vs. Int64)\\r\\ns4 = pd.Series([0, 1, 2, pd.NA])\\r\\nassert_series_equal(s4.astype(\"Int64\"), s4.convert_dtypes())\\r\\n# Attribute \"dtype\" are different\\r\\n# [left]:  Int64\\r\\n# [right]: object\\n```\\n\\n\\n### Issue Description\\n\\nWith a Series containing python `int`s and values of `np.nan` or `None`, `convert_dtypes()` infers that the type should be the nullable pandas type `Int64` and converts, as it does for a Series composed entirely of valid `int`s. However, a Series that contains `int` and `pd.NA` missing values unexpectedly retains its object dtype.\\r\\n\\r\\nThis behavior is present in at least pandas v1.4.4 and v1.5.0.\\n\\n### Expected Behavior\\n\\nGiven that `pd.NA` is already the appropriate missing value for an `Int64` Series, I thought that `convert_dtypes()` would convert the type of the Series from `object` to `Int64`. This is also what I expected based on [the documentation](https://pandas.pydata.org/pandas-docs/version/1.4/reference/api/pandas.DataFrame.convert_dtypes.html):\\r\\n\\r\\n> For object-dtyped columns, if infer_objects is True, use the inference rules as during normal Series/DataFrame construction. Then, if possible, convert to StringDtype, BooleanDtype or an appropriate integer or floating extension type, otherwise leave as object.\\r\\n\\r\\nClearly it\\'s possible to convert to `Int64` since the explicit `astype(\"Int64\")` has no problem.\\n\\n### Installed Versions\\n\\n<details>\\r\\n\\r\\nINSTALLED VERSIONS\\r\\n------------------\\r\\ncommit           : 87cfe4e38bafe7300a6003a1d18bd80f3f77c763\\r\\npython           : 3.10.6.final.0\\r\\npython-bits      : 64\\r\\nOS               : Linux\\r\\nOS-release       : 5.15.0-48-generic\\r\\nVersion          : #54-Ubuntu SMP Fri Aug 26 13:26:29 UTC 2022\\r\\nmachine          : x86_64\\r\\nprocessor        : x86_64\\r\\nbyteorder        : little\\r\\nLC_ALL           : None\\r\\nLANG             : en_US.UTF-8\\r\\nLOCALE           : en_US.UTF-8\\r\\n\\r\\npandas           : 1.5.0\\r\\nnumpy            : 1.23.3\\r\\npytz             : 2022.2.1\\r\\ndateutil         : 2.8.2\\r\\nsetuptools       : 65.4.0\\r\\npip              : 22.2.2\\r\\nCython           : None\\r\\npytest           : None\\r\\nhypothesis       : None\\r\\nsphinx           : None\\r\\nblosc            : None\\r\\nfeather          : None\\r\\nxlsxwriter       : None\\r\\nlxml.etree       : None\\r\\nhtml5lib         : None\\r\\npymysql          : None\\r\\npsycopg2         : None\\r\\njinja2           : None\\r\\nIPython          : None\\r\\npandas_datareader: None\\r\\nbs4              : None\\r\\nbottleneck       : None\\r\\nbrotli           : None\\r\\nfastparquet      : None\\r\\nfsspec           : None\\r\\ngcsfs            : None\\r\\nmatplotlib       : None\\r\\nnumba            : None\\r\\nnumexpr          : None\\r\\nodfpy            : None\\r\\nopenpyxl         : None\\r\\npandas_gbq       : None\\r\\npyarrow          : None\\r\\npyreadstat       : None\\r\\npyxlsb           : None\\r\\ns3fs             : None\\r\\nscipy            : None\\r\\nsnappy           : None\\r\\nsqlalchemy       : None\\r\\ntables           : None\\r\\ntabulate         : None\\r\\nxarray           : None\\r\\nxlrd             : None\\r\\nxlwt             : None\\r\\nzstandard        : None\\r\\ntzdata           : None\\r\\n\\r\\n</details>\\r\\n',\n",
       "  'reactions': {'url': 'https://api.github.com/repos/pandas-dev/pandas/issues/48791/reactions',\n",
       "   'total_count': 0,\n",
       "   '+1': 0,\n",
       "   '-1': 0,\n",
       "   'laugh': 0,\n",
       "   'hooray': 0,\n",
       "   'confused': 0,\n",
       "   'heart': 0,\n",
       "   'rocket': 0,\n",
       "   'eyes': 0},\n",
       "  'timeline_url': 'https://api.github.com/repos/pandas-dev/pandas/issues/48791/timeline',\n",
       "  'performed_via_github_app': None,\n",
       "  'state_reason': None},\n",
       " {'url': 'https://api.github.com/repos/pandas-dev/pandas/issues/48790',\n",
       "  'repository_url': 'https://api.github.com/repos/pandas-dev/pandas',\n",
       "  'labels_url': 'https://api.github.com/repos/pandas-dev/pandas/issues/48790/labels{/name}',\n",
       "  'comments_url': 'https://api.github.com/repos/pandas-dev/pandas/issues/48790/comments',\n",
       "  'events_url': 'https://api.github.com/repos/pandas-dev/pandas/issues/48790/events',\n",
       "  'html_url': 'https://github.com/pandas-dev/pandas/pull/48790',\n",
       "  'id': 1386567749,\n",
       "  'node_id': 'PR_kwDOAA0YD84_ofDY',\n",
       "  'number': 48790,\n",
       "  'title': 'Created icons for dark theme',\n",
       "  'user': {'login': 'lorenzovngl',\n",
       "   'id': 13767301,\n",
       "   'node_id': 'MDQ6VXNlcjEzNzY3MzAx',\n",
       "   'avatar_url': 'https://avatars.githubusercontent.com/u/13767301?v=4',\n",
       "   'gravatar_id': '',\n",
       "   'url': 'https://api.github.com/users/lorenzovngl',\n",
       "   'html_url': 'https://github.com/lorenzovngl',\n",
       "   'followers_url': 'https://api.github.com/users/lorenzovngl/followers',\n",
       "   'following_url': 'https://api.github.com/users/lorenzovngl/following{/other_user}',\n",
       "   'gists_url': 'https://api.github.com/users/lorenzovngl/gists{/gist_id}',\n",
       "   'starred_url': 'https://api.github.com/users/lorenzovngl/starred{/owner}{/repo}',\n",
       "   'subscriptions_url': 'https://api.github.com/users/lorenzovngl/subscriptions',\n",
       "   'organizations_url': 'https://api.github.com/users/lorenzovngl/orgs',\n",
       "   'repos_url': 'https://api.github.com/users/lorenzovngl/repos',\n",
       "   'events_url': 'https://api.github.com/users/lorenzovngl/events{/privacy}',\n",
       "   'received_events_url': 'https://api.github.com/users/lorenzovngl/received_events',\n",
       "   'type': 'User',\n",
       "   'site_admin': False},\n",
       "  'labels': [{'id': 1508144531,\n",
       "    'node_id': 'MDU6TGFiZWwxNTA4MTQ0NTMx',\n",
       "    'url': 'https://api.github.com/repos/pandas-dev/pandas/labels/Web',\n",
       "    'name': 'Web',\n",
       "    'color': '23ef97',\n",
       "    'default': False,\n",
       "    'description': 'pandas website'}],\n",
       "  'state': 'open',\n",
       "  'locked': False,\n",
       "  'assignee': None,\n",
       "  'assignees': [],\n",
       "  'milestone': None,\n",
       "  'comments': 1,\n",
       "  'created_at': '2022-09-26T19:04:45Z',\n",
       "  'updated_at': '2022-09-26T22:31:24Z',\n",
       "  'closed_at': None,\n",
       "  'author_association': 'NONE',\n",
       "  'active_lock_reason': None,\n",
       "  'draft': False,\n",
       "  'pull_request': {'url': 'https://api.github.com/repos/pandas-dev/pandas/pulls/48790',\n",
       "   'html_url': 'https://github.com/pandas-dev/pandas/pull/48790',\n",
       "   'diff_url': 'https://github.com/pandas-dev/pandas/pull/48790.diff',\n",
       "   'patch_url': 'https://github.com/pandas-dev/pandas/pull/48790.patch',\n",
       "   'merged_at': None},\n",
       "  'body': '- [x] closes #48762\\r\\n\\r\\nFor the `svg` images mentioned in the referred issue, I created a version for the dark theme as suggested by @datapythonista.\\r\\nThe images are retrieved by the pydata sphinx theme as explained in [PyData Theme documentation](https://pydata-sphinx-theme.readthedocs.io/en/stable/user_guide/light-dark.html#use-theme-dependent-content).',\n",
       "  'reactions': {'url': 'https://api.github.com/repos/pandas-dev/pandas/issues/48790/reactions',\n",
       "   'total_count': 0,\n",
       "   '+1': 0,\n",
       "   '-1': 0,\n",
       "   'laugh': 0,\n",
       "   'hooray': 0,\n",
       "   'confused': 0,\n",
       "   'heart': 0,\n",
       "   'rocket': 0,\n",
       "   'eyes': 0},\n",
       "  'timeline_url': 'https://api.github.com/repos/pandas-dev/pandas/issues/48790/timeline',\n",
       "  'performed_via_github_app': None,\n",
       "  'state_reason': None},\n",
       " {'url': 'https://api.github.com/repos/pandas-dev/pandas/issues/48789',\n",
       "  'repository_url': 'https://api.github.com/repos/pandas-dev/pandas',\n",
       "  'labels_url': 'https://api.github.com/repos/pandas-dev/pandas/issues/48789/labels{/name}',\n",
       "  'comments_url': 'https://api.github.com/repos/pandas-dev/pandas/issues/48789/comments',\n",
       "  'events_url': 'https://api.github.com/repos/pandas-dev/pandas/issues/48789/events',\n",
       "  'html_url': 'https://github.com/pandas-dev/pandas/pull/48789',\n",
       "  'id': 1386511481,\n",
       "  'node_id': 'PR_kwDOAA0YD84_oS6G',\n",
       "  'number': 48789,\n",
       "  'title': 'DOC: Add example for `Series.get()`',\n",
       "  'user': {'login': 'wjandrea',\n",
       "   'id': 22385371,\n",
       "   'node_id': 'MDQ6VXNlcjIyMzg1Mzcx',\n",
       "   'avatar_url': 'https://avatars.githubusercontent.com/u/22385371?v=4',\n",
       "   'gravatar_id': '',\n",
       "   'url': 'https://api.github.com/users/wjandrea',\n",
       "   'html_url': 'https://github.com/wjandrea',\n",
       "   'followers_url': 'https://api.github.com/users/wjandrea/followers',\n",
       "   'following_url': 'https://api.github.com/users/wjandrea/following{/other_user}',\n",
       "   'gists_url': 'https://api.github.com/users/wjandrea/gists{/gist_id}',\n",
       "   'starred_url': 'https://api.github.com/users/wjandrea/starred{/owner}{/repo}',\n",
       "   'subscriptions_url': 'https://api.github.com/users/wjandrea/subscriptions',\n",
       "   'organizations_url': 'https://api.github.com/users/wjandrea/orgs',\n",
       "   'repos_url': 'https://api.github.com/users/wjandrea/repos',\n",
       "   'events_url': 'https://api.github.com/users/wjandrea/events{/privacy}',\n",
       "   'received_events_url': 'https://api.github.com/users/wjandrea/received_events',\n",
       "   'type': 'User',\n",
       "   'site_admin': False},\n",
       "  'labels': [{'id': 134699,\n",
       "    'node_id': 'MDU6TGFiZWwxMzQ2OTk=',\n",
       "    'url': 'https://api.github.com/repos/pandas-dev/pandas/labels/Docs',\n",
       "    'name': 'Docs',\n",
       "    'color': '3465A4',\n",
       "    'default': False,\n",
       "    'description': None}],\n",
       "  'state': 'open',\n",
       "  'locked': False,\n",
       "  'assignee': None,\n",
       "  'assignees': [],\n",
       "  'milestone': None,\n",
       "  'comments': 0,\n",
       "  'created_at': '2022-09-26T18:13:53Z',\n",
       "  'updated_at': '2022-09-26T22:48:34Z',\n",
       "  'closed_at': None,\n",
       "  'author_association': 'CONTRIBUTOR',\n",
       "  'active_lock_reason': None,\n",
       "  'draft': False,\n",
       "  'pull_request': {'url': 'https://api.github.com/repos/pandas-dev/pandas/pulls/48789',\n",
       "   'html_url': 'https://github.com/pandas-dev/pandas/pull/48789',\n",
       "   'diff_url': 'https://github.com/pandas-dev/pandas/pull/48789.diff',\n",
       "   'patch_url': 'https://github.com/pandas-dev/pandas/pull/48789.patch',\n",
       "   'merged_at': None},\n",
       "  'body': 'Add an example of `Series.get()` to `NDFrame`.\\r\\n\\r\\nPreviously, [the docs for `Series.get()`](https://pandas.pydata.org/docs/reference/api/pandas.Series.get.html) only showed examples for `DataFrame.get()`, confusingly.',\n",
       "  'reactions': {'url': 'https://api.github.com/repos/pandas-dev/pandas/issues/48789/reactions',\n",
       "   'total_count': 0,\n",
       "   '+1': 0,\n",
       "   '-1': 0,\n",
       "   'laugh': 0,\n",
       "   'hooray': 0,\n",
       "   'confused': 0,\n",
       "   'heart': 0,\n",
       "   'rocket': 0,\n",
       "   'eyes': 0},\n",
       "  'timeline_url': 'https://api.github.com/repos/pandas-dev/pandas/issues/48789/timeline',\n",
       "  'performed_via_github_app': None,\n",
       "  'state_reason': None},\n",
       " {'url': 'https://api.github.com/repos/pandas-dev/pandas/issues/48788',\n",
       "  'repository_url': 'https://api.github.com/repos/pandas-dev/pandas',\n",
       "  'labels_url': 'https://api.github.com/repos/pandas-dev/pandas/issues/48788/labels{/name}',\n",
       "  'comments_url': 'https://api.github.com/repos/pandas-dev/pandas/issues/48788/comments',\n",
       "  'events_url': 'https://api.github.com/repos/pandas-dev/pandas/issues/48788/events',\n",
       "  'html_url': 'https://github.com/pandas-dev/pandas/issues/48788',\n",
       "  'id': 1386504540,\n",
       "  'node_id': 'I_kwDOAA0YD85SpGFc',\n",
       "  'number': 48788,\n",
       "  'title': 'BUG: `pd.Series.duplicated`/`pd.core.algorithms.duplicated` fails with float-based `SparseArray`',\n",
       "  'user': {'login': 'tehunter',\n",
       "   'id': 7980666,\n",
       "   'node_id': 'MDQ6VXNlcjc5ODA2NjY=',\n",
       "   'avatar_url': 'https://avatars.githubusercontent.com/u/7980666?v=4',\n",
       "   'gravatar_id': '',\n",
       "   'url': 'https://api.github.com/users/tehunter',\n",
       "   'html_url': 'https://github.com/tehunter',\n",
       "   'followers_url': 'https://api.github.com/users/tehunter/followers',\n",
       "   'following_url': 'https://api.github.com/users/tehunter/following{/other_user}',\n",
       "   'gists_url': 'https://api.github.com/users/tehunter/gists{/gist_id}',\n",
       "   'starred_url': 'https://api.github.com/users/tehunter/starred{/owner}{/repo}',\n",
       "   'subscriptions_url': 'https://api.github.com/users/tehunter/subscriptions',\n",
       "   'organizations_url': 'https://api.github.com/users/tehunter/orgs',\n",
       "   'repos_url': 'https://api.github.com/users/tehunter/repos',\n",
       "   'events_url': 'https://api.github.com/users/tehunter/events{/privacy}',\n",
       "   'received_events_url': 'https://api.github.com/users/tehunter/received_events',\n",
       "   'type': 'User',\n",
       "   'site_admin': False},\n",
       "  'labels': [{'id': 76811,\n",
       "    'node_id': 'MDU6TGFiZWw3NjgxMQ==',\n",
       "    'url': 'https://api.github.com/repos/pandas-dev/pandas/labels/Bug',\n",
       "    'name': 'Bug',\n",
       "    'color': 'e10c02',\n",
       "    'default': False,\n",
       "    'description': None},\n",
       "   {'id': 1954720290,\n",
       "    'node_id': 'MDU6TGFiZWwxOTU0NzIwMjkw',\n",
       "    'url': 'https://api.github.com/repos/pandas-dev/pandas/labels/Needs%20Triage',\n",
       "    'name': 'Needs Triage',\n",
       "    'color': '0052cc',\n",
       "    'default': False,\n",
       "    'description': 'Issue that has not been reviewed by a pandas team member'}],\n",
       "  'state': 'open',\n",
       "  'locked': False,\n",
       "  'assignee': None,\n",
       "  'assignees': [],\n",
       "  'milestone': None,\n",
       "  'comments': 0,\n",
       "  'created_at': '2022-09-26T18:08:35Z',\n",
       "  'updated_at': '2022-09-26T18:10:44Z',\n",
       "  'closed_at': None,\n",
       "  'author_association': 'CONTRIBUTOR',\n",
       "  'active_lock_reason': None,\n",
       "  'body': '### Pandas version checks\\r\\n\\r\\n- [X] I have checked that this issue has not already been reported.\\r\\n\\r\\n- [X] I have confirmed this bug exists on the [latest version](https://pandas.pydata.org/docs/whatsnew/index.html) of pandas.\\r\\n\\r\\n- [X] I have confirmed this bug exists on the main branch of pandas.\\r\\n\\r\\n\\r\\n### Reproducible Example\\r\\n\\r\\n```python\\r\\n>>> import pandas as pd\\r\\n>>> import numpy as np\\r\\n>>> arr = pd.arrays.SparseArray([0,1,np.nan,1])\\r\\n>>> pd.core.algorithms.duplicated(arr)\\r\\nTraceback (most recent call last):\\r\\n  File \"<stdin>\", line 1, in <module>\\r\\n  File \"/home/pandas/pandas/core/algorithms.py\", line 1063, in duplicated\\r\\n    values = _ensure_data(values)\\r\\n  File \"/home/pandas/pandas/core/algorithms.py\", line 177, in _ensure_data\\r\\n    if values.dtype.itemsize in [2, 12, 16]:  # type: ignore[union-attr]\\r\\nAttributeError: \\'SparseDtype\\' object has no attribute \\'itemsize\\'\\r\\n```\\r\\n\\r\\nSame thing happens with `pd.Series(arr).duplicated()`\\r\\n\\r\\n### Issue Description\\r\\n\\r\\n`_ensure_data` tries to access `dtype.itemsize` for float types. `SparseArray` can be considered a float type, but doesn\\'t implement an `itemsize` attribute. Addressing #48424 may solve this, but the `itemsize` attribute is also causing an issue in #42070\\r\\n\\r\\n### Expected Behavior\\r\\n\\r\\nReturns without error\\r\\n\\r\\n### Installed Versions\\r\\n\\r\\n<details>\\r\\n\\r\\nINSTALLED VERSIONS\\r\\n------------------\\r\\ncommit           : 24da5be949b8e0a9299af915c6e9731c373c9dda\\r\\npython           : 3.8.13.final.0\\r\\npython-bits      : 64\\r\\nOS               : Linux\\r\\nOS-release       : \\r\\nVersion          : #1 SMP Wed Mar 2 00:30:59 UTC 2022\\r\\nmachine          : x86_64\\r\\nprocessor        : x86_64\\r\\nbyteorder        : little\\r\\nLC_ALL           : C.UTF-8\\r\\nLANG             : C.UTF-8\\r\\nLOCALE           : en_US.UTF-8\\r\\n\\r\\npandas           : 1.6.0.dev0+203.g24da5be949.dirty\\r\\nnumpy            : 1.22.4\\r\\npytz             : 2022.2.1\\r\\ndateutil         : 2.8.2\\r\\nsetuptools       : 65.3.0\\r\\npip              : 22.2.2\\r\\nCython           : 0.29.32\\r\\npytest           : 7.1.3\\r\\nhypothesis       : 6.54.6\\r\\nsphinx           : 4.5.0\\r\\nblosc            : None\\r\\nfeather          : None\\r\\nxlsxwriter       : 3.0.3\\r\\nlxml.etree       : 4.9.1\\r\\nhtml5lib         : 1.1\\r\\npymysql          : 1.0.2\\r\\npsycopg2         : 2.9.3\\r\\njinja2           : 3.0.3\\r\\nIPython          : 8.5.0\\r\\npandas_datareader: 0.10.0\\r\\nbs4              : 4.11.1\\r\\nbottleneck       : 1.3.5\\r\\nbrotli           :\\r\\nfastparquet      : 0.8.3\\r\\nfsspec           : 2021.11.0\\r\\ngcsfs            : 2021.11.0\\r\\nmatplotlib       : 3.6.0\\r\\nnumba            : 0.55.2\\r\\nnumexpr          : 2.8.3\\r\\nodfpy            : None\\r\\nopenpyxl         : 3.0.10\\r\\npandas_gbq       : 0.17.8\\r\\npyarrow          : 9.0.0\\r\\npyreadstat       : 1.1.9\\r\\npyxlsb           : 1.0.9\\r\\ns3fs             : 2021.11.0\\r\\nscipy            : 1.9.1\\r\\nsnappy           :\\r\\nsqlalchemy       : 1.4.41\\r\\ntables           : 3.7.0\\r\\ntabulate         : 0.8.10\\r\\nxarray           : 2022.6.0\\r\\nxlrd             : 2.0.1\\r\\nxlwt             : 1.3.0\\r\\nzstandard        : 0.18.0\\r\\ntzdata           : None\\r\\n\\r\\n</details>\\r\\n',\n",
       "  'reactions': {'url': 'https://api.github.com/repos/pandas-dev/pandas/issues/48788/reactions',\n",
       "   'total_count': 0,\n",
       "   '+1': 0,\n",
       "   '-1': 0,\n",
       "   'laugh': 0,\n",
       "   'hooray': 0,\n",
       "   'confused': 0,\n",
       "   'heart': 0,\n",
       "   'rocket': 0,\n",
       "   'eyes': 0},\n",
       "  'timeline_url': 'https://api.github.com/repos/pandas-dev/pandas/issues/48788/timeline',\n",
       "  'performed_via_github_app': None,\n",
       "  'state_reason': None},\n",
       " {'url': 'https://api.github.com/repos/pandas-dev/pandas/issues/48787',\n",
       "  'repository_url': 'https://api.github.com/repos/pandas-dev/pandas',\n",
       "  'labels_url': 'https://api.github.com/repos/pandas-dev/pandas/issues/48787/labels{/name}',\n",
       "  'comments_url': 'https://api.github.com/repos/pandas-dev/pandas/issues/48787/comments',\n",
       "  'events_url': 'https://api.github.com/repos/pandas-dev/pandas/issues/48787/events',\n",
       "  'html_url': 'https://github.com/pandas-dev/pandas/issues/48787',\n",
       "  'id': 1386471404,\n",
       "  'node_id': 'I_kwDOAA0YD85So9_s',\n",
       "  'number': 48787,\n",
       "  'title': \"BUG: `from_dummies` can't round trip when `sparse=True`\",\n",
       "  'user': {'login': 'bashtage',\n",
       "   'id': 5585221,\n",
       "   'node_id': 'MDQ6VXNlcjU1ODUyMjE=',\n",
       "   'avatar_url': 'https://avatars.githubusercontent.com/u/5585221?v=4',\n",
       "   'gravatar_id': '',\n",
       "   'url': 'https://api.github.com/users/bashtage',\n",
       "   'html_url': 'https://github.com/bashtage',\n",
       "   'followers_url': 'https://api.github.com/users/bashtage/followers',\n",
       "   'following_url': 'https://api.github.com/users/bashtage/following{/other_user}',\n",
       "   'gists_url': 'https://api.github.com/users/bashtage/gists{/gist_id}',\n",
       "   'starred_url': 'https://api.github.com/users/bashtage/starred{/owner}{/repo}',\n",
       "   'subscriptions_url': 'https://api.github.com/users/bashtage/subscriptions',\n",
       "   'organizations_url': 'https://api.github.com/users/bashtage/orgs',\n",
       "   'repos_url': 'https://api.github.com/users/bashtage/repos',\n",
       "   'events_url': 'https://api.github.com/users/bashtage/events{/privacy}',\n",
       "   'received_events_url': 'https://api.github.com/users/bashtage/received_events',\n",
       "   'type': 'User',\n",
       "   'site_admin': False},\n",
       "  'labels': [{'id': 76811,\n",
       "    'node_id': 'MDU6TGFiZWw3NjgxMQ==',\n",
       "    'url': 'https://api.github.com/repos/pandas-dev/pandas/labels/Bug',\n",
       "    'name': 'Bug',\n",
       "    'color': 'e10c02',\n",
       "    'default': False,\n",
       "    'description': None},\n",
       "   {'id': 13098779,\n",
       "    'node_id': 'MDU6TGFiZWwxMzA5ODc3OQ==',\n",
       "    'url': 'https://api.github.com/repos/pandas-dev/pandas/labels/Reshaping',\n",
       "    'name': 'Reshaping',\n",
       "    'color': '02d7e1',\n",
       "    'default': False,\n",
       "    'description': 'Concat, Merge/Join, Stack/Unstack, Explode'}],\n",
       "  'state': 'open',\n",
       "  'locked': False,\n",
       "  'assignee': None,\n",
       "  'assignees': [],\n",
       "  'milestone': None,\n",
       "  'comments': 0,\n",
       "  'created_at': '2022-09-26T17:40:12Z',\n",
       "  'updated_at': '2022-09-26T19:04:02Z',\n",
       "  'closed_at': None,\n",
       "  'author_association': 'CONTRIBUTOR',\n",
       "  'active_lock_reason': None,\n",
       "  'body': '### Pandas version checks\\r\\n\\r\\n- [X] I have checked that this issue has not already been reported.\\r\\n- [X] I have confirmed this bug exists on the [latest version](https://pandas.pydata.org/docs/whatsnew/index.html) of pandas.\\r\\n- [X] I have confirmed this bug exists on the main branch of pandas.\\r\\n\\r\\n\\r\\n### Reproducible Example\\r\\n\\r\\n```python\\r\\nimport pandas as pd\\r\\n\\r\\ndf = pd.DataFrame(\\r\\n        {\\r\\n            \"A\": pd.Series([\"a\", \"b\", \"a\", \"b\", \"c\", \"a\", \"a\"], dtype=\"category\"),\\r\\n        }\\r\\n)\\r\\ndummies = pd.get_dummies(df, drop_first=True)\\r\\npd.from_dummies(dummies, sep=\"_\", default_category=\"a\")\\r\\n```\\r\\n\\r\\nreturns\\r\\n\\r\\n```\\r\\nTypeError: Passed DataFrame contains non-dummy data\\r\\n```\\r\\n\\r\\n\\r\\n\\r\\n### Issue Description\\r\\n\\r\\n`from_dummies` can\\'t undo ops when sparse.\\r\\n\\r\\n### Expected Behavior\\r\\n\\r\\nWork with sparse or non-sparse.\\r\\n\\r\\n### Installed Versions\\r\\n\\r\\n<details>\\r\\n\\r\\n```\\r\\nINSTALLED VERSIONS\\r\\n------------------\\r\\ncommit           : 87cfe4e38bafe7300a6003a1d18bd80f3f77c763\\r\\npython           : 3.9.12.final.0\\r\\npython-bits      : 64\\r\\nOS               : Windows\\r\\nOS-release       : 10\\r\\nVersion          : 10.0.22621\\r\\nmachine          : AMD64\\r\\nprocessor        : AMD64 Family 23 Model 113 Stepping 0, AuthenticAMD\\r\\nbyteorder        : little\\r\\nLC_ALL           : None\\r\\nLANG             : None\\r\\nLOCALE           : English_United States.1252\\r\\n\\r\\npandas           : 1.5.0\\r\\nnumpy            : 1.23.3\\r\\npytz             : 2022.2.1\\r\\ndateutil         : 2.8.2\\r\\nsetuptools       : 63.3.0\\r\\npip              : 22.2.2\\r\\nCython           : None\\r\\npytest           : 7.1.3\\r\\nhypothesis       : None\\r\\nsphinx           : None\\r\\nblosc            : None\\r\\nfeather          : None\\r\\nxlsxwriter       : None\\r\\nlxml.etree       : 4.8.0\\r\\nhtml5lib         : None\\r\\npymysql          : None\\r\\npsycopg2         : None\\r\\njinja2           : 3.1.2\\r\\nIPython          : 8.5.0\\r\\npandas_datareader: None\\r\\nbs4              : None\\r\\nbottleneck       : None\\r\\nbrotli           : None\\r\\nfastparquet      : None\\r\\nfsspec           : None\\r\\ngcsfs            : None\\r\\nmatplotlib       : 3.5.3\\r\\nnumba            : None\\r\\nnumexpr          : 2.8.3\\r\\nodfpy            : None\\r\\nopenpyxl         : 3.0.10\\r\\npandas_gbq       : None\\r\\npyarrow          : 9.0.0\\r\\npyreadstat       : 1.1.9\\r\\npyxlsb           : 1.0.9\\r\\ns3fs             : None\\r\\nscipy            : 1.9.1\\r\\nsnappy           : None\\r\\nsqlalchemy       : 1.4.41\\r\\ntables           : None\\r\\ntabulate         : 0.8.10\\r\\nxarray           : 2022.6.0\\r\\nxlrd             : 2.0.1\\r\\nxlwt             : None\\r\\nzstandard        : None\\r\\ntzdata           : None\\r\\n```\\r\\n</details>\\r\\n',\n",
       "  'reactions': {'url': 'https://api.github.com/repos/pandas-dev/pandas/issues/48787/reactions',\n",
       "   'total_count': 0,\n",
       "   '+1': 0,\n",
       "   '-1': 0,\n",
       "   'laugh': 0,\n",
       "   'hooray': 0,\n",
       "   'confused': 0,\n",
       "   'heart': 0,\n",
       "   'rocket': 0,\n",
       "   'eyes': 0},\n",
       "  'timeline_url': 'https://api.github.com/repos/pandas-dev/pandas/issues/48787/timeline',\n",
       "  'performed_via_github_app': None,\n",
       "  'state_reason': None},\n",
       " {'url': 'https://api.github.com/repos/pandas-dev/pandas/issues/48785',\n",
       "  'repository_url': 'https://api.github.com/repos/pandas-dev/pandas',\n",
       "  'labels_url': 'https://api.github.com/repos/pandas-dev/pandas/issues/48785/labels{/name}',\n",
       "  'comments_url': 'https://api.github.com/repos/pandas-dev/pandas/issues/48785/comments',\n",
       "  'events_url': 'https://api.github.com/repos/pandas-dev/pandas/issues/48785/events',\n",
       "  'html_url': 'https://github.com/pandas-dev/pandas/pull/48785',\n",
       "  'id': 1386192284,\n",
       "  'node_id': 'PR_kwDOAA0YD84_nNnC',\n",
       "  'number': 48785,\n",
       "  'title': 'BUG: still emitting unnecessary FutureWarning in DataFrame.sort_values with sparse columns',\n",
       "  'user': {'login': 'MarcoGorelli',\n",
       "   'id': 33491632,\n",
       "   'node_id': 'MDQ6VXNlcjMzNDkxNjMy',\n",
       "   'avatar_url': 'https://avatars.githubusercontent.com/u/33491632?v=4',\n",
       "   'gravatar_id': '',\n",
       "   'url': 'https://api.github.com/users/MarcoGorelli',\n",
       "   'html_url': 'https://github.com/MarcoGorelli',\n",
       "   'followers_url': 'https://api.github.com/users/MarcoGorelli/followers',\n",
       "   'following_url': 'https://api.github.com/users/MarcoGorelli/following{/other_user}',\n",
       "   'gists_url': 'https://api.github.com/users/MarcoGorelli/gists{/gist_id}',\n",
       "   'starred_url': 'https://api.github.com/users/MarcoGorelli/starred{/owner}{/repo}',\n",
       "   'subscriptions_url': 'https://api.github.com/users/MarcoGorelli/subscriptions',\n",
       "   'organizations_url': 'https://api.github.com/users/MarcoGorelli/orgs',\n",
       "   'repos_url': 'https://api.github.com/users/MarcoGorelli/repos',\n",
       "   'events_url': 'https://api.github.com/users/MarcoGorelli/events{/privacy}',\n",
       "   'received_events_url': 'https://api.github.com/users/MarcoGorelli/received_events',\n",
       "   'type': 'User',\n",
       "   'site_admin': False},\n",
       "  'labels': [{'id': 57296398,\n",
       "    'node_id': 'MDU6TGFiZWw1NzI5NjM5OA==',\n",
       "    'url': 'https://api.github.com/repos/pandas-dev/pandas/labels/Algos',\n",
       "    'name': 'Algos',\n",
       "    'color': 'eb6420',\n",
       "    'default': False,\n",
       "    'description': 'Non-arithmetic algos: value_counts, factorize, sorting, isin, clip, shift, diff'},\n",
       "   {'id': 1628184320,\n",
       "    'node_id': 'MDU6TGFiZWwxNjI4MTg0MzIw',\n",
       "    'url': 'https://api.github.com/repos/pandas-dev/pandas/labels/Warnings',\n",
       "    'name': 'Warnings',\n",
       "    'color': 'f2f074',\n",
       "    'default': False,\n",
       "    'description': 'Warnings that appear or should be added to pandas'}],\n",
       "  'state': 'open',\n",
       "  'locked': False,\n",
       "  'assignee': None,\n",
       "  'assignees': [],\n",
       "  'milestone': {'url': 'https://api.github.com/repos/pandas-dev/pandas/milestones/98',\n",
       "   'html_url': 'https://github.com/pandas-dev/pandas/milestone/98',\n",
       "   'labels_url': 'https://api.github.com/repos/pandas-dev/pandas/milestones/98/labels',\n",
       "   'id': 8438761,\n",
       "   'node_id': 'MI_kwDOAA0YD84AgMPp',\n",
       "   'number': 98,\n",
       "   'title': '1.5.1',\n",
       "   'description': 'on-merge: backport to 1.5.x',\n",
       "   'creator': {'login': 'datapythonista',\n",
       "    'id': 10058240,\n",
       "    'node_id': 'MDQ6VXNlcjEwMDU4MjQw',\n",
       "    'avatar_url': 'https://avatars.githubusercontent.com/u/10058240?v=4',\n",
       "    'gravatar_id': '',\n",
       "    'url': 'https://api.github.com/users/datapythonista',\n",
       "    'html_url': 'https://github.com/datapythonista',\n",
       "    'followers_url': 'https://api.github.com/users/datapythonista/followers',\n",
       "    'following_url': 'https://api.github.com/users/datapythonista/following{/other_user}',\n",
       "    'gists_url': 'https://api.github.com/users/datapythonista/gists{/gist_id}',\n",
       "    'starred_url': 'https://api.github.com/users/datapythonista/starred{/owner}{/repo}',\n",
       "    'subscriptions_url': 'https://api.github.com/users/datapythonista/subscriptions',\n",
       "    'organizations_url': 'https://api.github.com/users/datapythonista/orgs',\n",
       "    'repos_url': 'https://api.github.com/users/datapythonista/repos',\n",
       "    'events_url': 'https://api.github.com/users/datapythonista/events{/privacy}',\n",
       "    'received_events_url': 'https://api.github.com/users/datapythonista/received_events',\n",
       "    'type': 'User',\n",
       "    'site_admin': False},\n",
       "   'open_issues': 19,\n",
       "   'closed_issues': 45,\n",
       "   'state': 'open',\n",
       "   'created_at': '2022-09-19T20:12:38Z',\n",
       "   'updated_at': '2022-09-27T07:53:55Z',\n",
       "   'due_on': None,\n",
       "   'closed_at': None},\n",
       "  'comments': 0,\n",
       "  'created_at': '2022-09-26T14:33:32Z',\n",
       "  'updated_at': '2022-09-27T08:23:24Z',\n",
       "  'closed_at': None,\n",
       "  'author_association': 'MEMBER',\n",
       "  'active_lock_reason': None,\n",
       "  'draft': False,\n",
       "  'pull_request': {'url': 'https://api.github.com/repos/pandas-dev/pandas/pulls/48785',\n",
       "   'html_url': 'https://github.com/pandas-dev/pandas/pull/48785',\n",
       "   'diff_url': 'https://github.com/pandas-dev/pandas/pull/48785.diff',\n",
       "   'patch_url': 'https://github.com/pandas-dev/pandas/pull/48785.patch',\n",
       "   'merged_at': None},\n",
       "  'body': '- [x] closes #48784 (Replace xxxx with the Github issue number)\\r\\n- [x] [Tests added and passed](https://pandas.pydata.org/pandas-docs/dev/development/contributing_codebase.html#writing-tests) if fixing a bug or adding a new feature\\r\\n- [x] All [code checks passed](https://pandas.pydata.org/pandas-docs/dev/development/contributing_codebase.html#pre-commit).\\r\\n- [x] Added [type annotations](https://pandas.pydata.org/pandas-docs/dev/development/contributing_codebase.html#type-hints) to new arguments/methods/functions.\\r\\n- [x] Added an entry in the latest `doc/source/whatsnew/vX.X.X.rst` file if fixing a bug or adding a new feature.\\r\\n',\n",
       "  'reactions': {'url': 'https://api.github.com/repos/pandas-dev/pandas/issues/48785/reactions',\n",
       "   'total_count': 0,\n",
       "   '+1': 0,\n",
       "   '-1': 0,\n",
       "   'laugh': 0,\n",
       "   'hooray': 0,\n",
       "   'confused': 0,\n",
       "   'heart': 0,\n",
       "   'rocket': 0,\n",
       "   'eyes': 0},\n",
       "  'timeline_url': 'https://api.github.com/repos/pandas-dev/pandas/issues/48785/timeline',\n",
       "  'performed_via_github_app': None,\n",
       "  'state_reason': None},\n",
       " {'url': 'https://api.github.com/repos/pandas-dev/pandas/issues/48784',\n",
       "  'repository_url': 'https://api.github.com/repos/pandas-dev/pandas',\n",
       "  'labels_url': 'https://api.github.com/repos/pandas-dev/pandas/issues/48784/labels{/name}',\n",
       "  'comments_url': 'https://api.github.com/repos/pandas-dev/pandas/issues/48784/comments',\n",
       "  'events_url': 'https://api.github.com/repos/pandas-dev/pandas/issues/48784/events',\n",
       "  'html_url': 'https://github.com/pandas-dev/pandas/issues/48784',\n",
       "  'id': 1386174765,\n",
       "  'node_id': 'I_kwDOAA0YD85Sn1kt',\n",
       "  'number': 48784,\n",
       "  'title': 'BUG: still emitting unnecessary FutureWarning in DataFrame.sort_values with sparse columns',\n",
       "  'user': {'login': 'MarcoGorelli',\n",
       "   'id': 33491632,\n",
       "   'node_id': 'MDQ6VXNlcjMzNDkxNjMy',\n",
       "   'avatar_url': 'https://avatars.githubusercontent.com/u/33491632?v=4',\n",
       "   'gravatar_id': '',\n",
       "   'url': 'https://api.github.com/users/MarcoGorelli',\n",
       "   'html_url': 'https://github.com/MarcoGorelli',\n",
       "   'followers_url': 'https://api.github.com/users/MarcoGorelli/followers',\n",
       "   'following_url': 'https://api.github.com/users/MarcoGorelli/following{/other_user}',\n",
       "   'gists_url': 'https://api.github.com/users/MarcoGorelli/gists{/gist_id}',\n",
       "   'starred_url': 'https://api.github.com/users/MarcoGorelli/starred{/owner}{/repo}',\n",
       "   'subscriptions_url': 'https://api.github.com/users/MarcoGorelli/subscriptions',\n",
       "   'organizations_url': 'https://api.github.com/users/MarcoGorelli/orgs',\n",
       "   'repos_url': 'https://api.github.com/users/MarcoGorelli/repos',\n",
       "   'events_url': 'https://api.github.com/users/MarcoGorelli/events{/privacy}',\n",
       "   'received_events_url': 'https://api.github.com/users/MarcoGorelli/received_events',\n",
       "   'type': 'User',\n",
       "   'site_admin': False},\n",
       "  'labels': [{'id': 76811,\n",
       "    'node_id': 'MDU6TGFiZWw3NjgxMQ==',\n",
       "    'url': 'https://api.github.com/repos/pandas-dev/pandas/labels/Bug',\n",
       "    'name': 'Bug',\n",
       "    'color': 'e10c02',\n",
       "    'default': False,\n",
       "    'description': None},\n",
       "   {'id': 49182326,\n",
       "    'node_id': 'MDU6TGFiZWw0OTE4MjMyNg==',\n",
       "    'url': 'https://api.github.com/repos/pandas-dev/pandas/labels/Sparse',\n",
       "    'name': 'Sparse',\n",
       "    'color': '009800',\n",
       "    'default': False,\n",
       "    'description': 'Sparse Data Type'},\n",
       "   {'id': 1628184320,\n",
       "    'node_id': 'MDU6TGFiZWwxNjI4MTg0MzIw',\n",
       "    'url': 'https://api.github.com/repos/pandas-dev/pandas/labels/Warnings',\n",
       "    'name': 'Warnings',\n",
       "    'color': 'f2f074',\n",
       "    'default': False,\n",
       "    'description': 'Warnings that appear or should be added to pandas'}],\n",
       "  'state': 'open',\n",
       "  'locked': False,\n",
       "  'assignee': None,\n",
       "  'assignees': [],\n",
       "  'milestone': None,\n",
       "  'comments': 0,\n",
       "  'created_at': '2022-09-26T14:23:25Z',\n",
       "  'updated_at': '2022-09-26T14:33:03Z',\n",
       "  'closed_at': None,\n",
       "  'author_association': 'MEMBER',\n",
       "  'active_lock_reason': None,\n",
       "  'body': '### Pandas version checks\\r\\n\\r\\n- [X] I have checked that this issue has not already been reported.\\r\\n\\r\\n- [X] I have confirmed this bug exists on the [latest version](https://pandas.pydata.org/docs/whatsnew/index.html) of pandas.\\r\\n\\r\\n- [X] I have confirmed this bug exists on the main branch of pandas.\\r\\n\\r\\n\\r\\n### Reproducible Example\\r\\n\\r\\n```python\\r\\nser = pd.Series(Categorical([\"a\", \"b\", \"a\"], categories=[\"a\", \"b\", \"c\"]))\\r\\ndf = pd.get_dummies(ser, dtype=bool, sparse=True)\\r\\n\\r\\ndf.sort_values(by=df.columns.tolist())\\r\\n```\\r\\n\\r\\n\\r\\n### Issue Description\\r\\n\\r\\nThis throws\\r\\n```\\r\\nFutureWarning: The behavior of .astype from SparseDtype to a non-sparse dtype is deprecated. In a future version, this will return a non-sparse array with the requested dtype. To retain the old behavior, use `obj.astype(SparseDtype(dtype))`\\r\\n```\\r\\nwhich the user can\\'t do anything about\\r\\n\\r\\nLooks the same / very related to #45618\\r\\n\\r\\n### Expected Behavior\\r\\n\\r\\nNo warning\\r\\n\\r\\n### Installed Versions\\r\\n\\r\\n<details>\\r\\n\\r\\n\\r\\nINSTALLED VERSIONS\\r\\n------------------\\r\\ncommit           : 291dfa258edb4e6b79e4962f0af582a456e5764f\\r\\npython           : 3.8.13.final.0\\r\\npython-bits      : 64\\r\\nOS               : Linux\\r\\nOS-release       : 5.10.16.3-microsoft-standard-WSL2\\r\\nVersion          : #1 SMP Fri Apr 2 22:23:49 UTC 2021\\r\\nmachine          : x86_64\\r\\nprocessor        : x86_64\\r\\nbyteorder        : little\\r\\nLC_ALL           : None\\r\\nLANG             : en_GB.UTF-8\\r\\nLOCALE           : en_GB.UTF-8\\r\\n\\r\\npandas           : 1.6.0.dev0+215.g291dfa258e.dirty\\r\\nnumpy            : 1.22.4\\r\\npytz             : 2022.2.1\\r\\ndateutil         : 2.8.2\\r\\nsetuptools       : 65.3.0\\r\\npip              : 22.2.2\\r\\nCython           : 0.29.32\\r\\npytest           : 7.1.3\\r\\nhypothesis       : 6.54.5\\r\\nsphinx           : 4.5.0\\r\\nblosc            : None\\r\\nfeather          : None\\r\\nxlsxwriter       : 3.0.3\\r\\nlxml.etree       : 4.9.1\\r\\nhtml5lib         : 1.1\\r\\npymysql          : 1.0.2\\r\\npsycopg2         : 2.9.3\\r\\njinja2           : 3.0.3\\r\\nIPython          : 8.5.0\\r\\npandas_datareader: 0.10.0\\r\\nbs4              : 4.11.1\\r\\nbottleneck       : 1.3.5\\r\\nbrotli           : \\r\\nfastparquet      : 0.8.3\\r\\nfsspec           : 2021.11.0\\r\\ngcsfs            : 2021.11.0\\r\\nmatplotlib       : 3.5.3\\r\\nnumba            : 0.55.2\\r\\nnumexpr          : 2.8.3\\r\\nodfpy            : None\\r\\nopenpyxl         : 3.0.10\\r\\npandas_gbq       : 0.17.8\\r\\npyarrow          : 9.0.0\\r\\npyreadstat       : 1.1.9\\r\\npyxlsb           : 1.0.9\\r\\ns3fs             : 2021.11.0\\r\\nscipy            : 1.9.1\\r\\nsnappy           : \\r\\nsqlalchemy       : 1.4.41\\r\\ntables           : 3.7.0\\r\\ntabulate         : 0.8.10\\r\\nxarray           : 2022.6.0\\r\\nxlrd             : 2.0.1\\r\\nxlwt             : 1.3.0\\r\\nzstandard        : 0.18.0\\r\\ntzdata           : None\\r\\nNone\\r\\n\\r\\n\\r\\n</details>\\r\\n',\n",
       "  'reactions': {'url': 'https://api.github.com/repos/pandas-dev/pandas/issues/48784/reactions',\n",
       "   'total_count': 0,\n",
       "   '+1': 0,\n",
       "   '-1': 0,\n",
       "   'laugh': 0,\n",
       "   'hooray': 0,\n",
       "   'confused': 0,\n",
       "   'heart': 0,\n",
       "   'rocket': 0,\n",
       "   'eyes': 0},\n",
       "  'timeline_url': 'https://api.github.com/repos/pandas-dev/pandas/issues/48784/timeline',\n",
       "  'performed_via_github_app': None,\n",
       "  'state_reason': None},\n",
       " {'url': 'https://api.github.com/repos/pandas-dev/pandas/issues/48781',\n",
       "  'repository_url': 'https://api.github.com/repos/pandas-dev/pandas',\n",
       "  'labels_url': 'https://api.github.com/repos/pandas-dev/pandas/issues/48781/labels{/name}',\n",
       "  'comments_url': 'https://api.github.com/repos/pandas-dev/pandas/issues/48781/comments',\n",
       "  'events_url': 'https://api.github.com/repos/pandas-dev/pandas/issues/48781/events',\n",
       "  'html_url': 'https://github.com/pandas-dev/pandas/issues/48781',\n",
       "  'id': 1385771189,\n",
       "  'node_id': 'I_kwDOAA0YD85SmTC1',\n",
       "  'number': 48781,\n",
       "  'title': 'ENH: ',\n",
       "  'user': {'login': 'joooeey',\n",
       "   'id': 28426758,\n",
       "   'node_id': 'MDQ6VXNlcjI4NDI2NzU4',\n",
       "   'avatar_url': 'https://avatars.githubusercontent.com/u/28426758?v=4',\n",
       "   'gravatar_id': '',\n",
       "   'url': 'https://api.github.com/users/joooeey',\n",
       "   'html_url': 'https://github.com/joooeey',\n",
       "   'followers_url': 'https://api.github.com/users/joooeey/followers',\n",
       "   'following_url': 'https://api.github.com/users/joooeey/following{/other_user}',\n",
       "   'gists_url': 'https://api.github.com/users/joooeey/gists{/gist_id}',\n",
       "   'starred_url': 'https://api.github.com/users/joooeey/starred{/owner}{/repo}',\n",
       "   'subscriptions_url': 'https://api.github.com/users/joooeey/subscriptions',\n",
       "   'organizations_url': 'https://api.github.com/users/joooeey/orgs',\n",
       "   'repos_url': 'https://api.github.com/users/joooeey/repos',\n",
       "   'events_url': 'https://api.github.com/users/joooeey/events{/privacy}',\n",
       "   'received_events_url': 'https://api.github.com/users/joooeey/received_events',\n",
       "   'type': 'User',\n",
       "   'site_admin': False},\n",
       "  'labels': [{'id': 76812,\n",
       "    'node_id': 'MDU6TGFiZWw3NjgxMg==',\n",
       "    'url': 'https://api.github.com/repos/pandas-dev/pandas/labels/Enhancement',\n",
       "    'name': 'Enhancement',\n",
       "    'color': '4E9A06',\n",
       "    'default': False,\n",
       "    'description': None},\n",
       "   {'id': 1954720290,\n",
       "    'node_id': 'MDU6TGFiZWwxOTU0NzIwMjkw',\n",
       "    'url': 'https://api.github.com/repos/pandas-dev/pandas/labels/Needs%20Triage',\n",
       "    'name': 'Needs Triage',\n",
       "    'color': '0052cc',\n",
       "    'default': False,\n",
       "    'description': 'Issue that has not been reviewed by a pandas team member'}],\n",
       "  'state': 'open',\n",
       "  'locked': False,\n",
       "  'assignee': None,\n",
       "  'assignees': [],\n",
       "  'milestone': None,\n",
       "  'comments': 0,\n",
       "  'created_at': '2022-09-26T09:52:34Z',\n",
       "  'updated_at': '2022-09-26T09:52:34Z',\n",
       "  'closed_at': None,\n",
       "  'author_association': 'CONTRIBUTOR',\n",
       "  'active_lock_reason': None,\n",
       "  'body': '### Feature Type\\n\\n- [X] Adding new functionality to pandas\\n\\n- [ ] Changing existing functionality in pandas\\n\\n- [ ] Removing existing functionality in pandas\\n\\n\\n### Problem Description\\n\\nI wish I could quickly convert a DataFrame with some invalid data to numeric type and coerce. I thought `pd.DataFrame.astype` could do that but it doesn\\'t have the option to coerce invalid data to NaNs (or NaTs).\\r\\n\\r\\nIn my particular case I have a DataFrame of sensor readings with mostly NaNs (indicating no value received), many integers (those I care about), and some strings (indicating specific errors). I quickly tried to get a histogram to get an overview of that data but the `pd.DataFrame.hist` requires numeric data which is a few lines of code to get. This is exploratory code I write in my console, so it would be sweet if this could be done with a single method.\\n\\n### Feature Description\\n\\nTwo options:\\r\\n\\r\\n* Allow multidimensional input (e.g. DataFrames, Numpy Arrays) as the `arg` of `pd.to_numeric`. In case of mixed type columns (e.g. integers and floats), we\\'d have to decide and document if that would operate by column or cast the whole data structure to one dtype. I\\'d expect by column for DataFrames. Another issue that comes up is how to deal with multidimensional lists and tuples.\\r\\n\\r\\nOR/AND\\r\\n\\r\\n* Add the option `\"coerce\"` to the `errors` kwarg in `pd.DataFrame.astype` (the current options are `\"raise\"` and `\"ignore\"`. We\\'d have to decide how to deal with incompatibilities between `errors=\"coerce\"` and `dtype`. E.g. what to do if someone tries to coerce to string. I would expect an error.\\r\\n\\r\\nTo me it looks like the potential for confusing the user is a lot lower with the second option because it has fewer edge cases.\\n\\n### Alternative Solutions\\n\\n```\\r\\nfor col in df.cols:\\r\\n    df[col] = pd.to_numeric(df[col], errors=\"coerce\")\\r\\n```\\n\\n### Additional Context\\n\\n_No response_',\n",
       "  'reactions': {'url': 'https://api.github.com/repos/pandas-dev/pandas/issues/48781/reactions',\n",
       "   'total_count': 0,\n",
       "   '+1': 0,\n",
       "   '-1': 0,\n",
       "   'laugh': 0,\n",
       "   'hooray': 0,\n",
       "   'confused': 0,\n",
       "   'heart': 0,\n",
       "   'rocket': 0,\n",
       "   'eyes': 0},\n",
       "  'timeline_url': 'https://api.github.com/repos/pandas-dev/pandas/issues/48781/timeline',\n",
       "  'performed_via_github_app': None,\n",
       "  'state_reason': None},\n",
       " {'url': 'https://api.github.com/repos/pandas-dev/pandas/issues/48780',\n",
       "  'repository_url': 'https://api.github.com/repos/pandas-dev/pandas',\n",
       "  'labels_url': 'https://api.github.com/repos/pandas-dev/pandas/issues/48780/labels{/name}',\n",
       "  'comments_url': 'https://api.github.com/repos/pandas-dev/pandas/issues/48780/comments',\n",
       "  'events_url': 'https://api.github.com/repos/pandas-dev/pandas/issues/48780/events',\n",
       "  'html_url': 'https://github.com/pandas-dev/pandas/issues/48780',\n",
       "  'id': 1385750265,\n",
       "  'node_id': 'I_kwDOAA0YD85SmN75',\n",
       "  'number': 48780,\n",
       "  'title': 'BUG: ExcelWriter.book - attribute not accessible for setting',\n",
       "  'user': {'login': 'vranoch',\n",
       "   'id': 51007145,\n",
       "   'node_id': 'MDQ6VXNlcjUxMDA3MTQ1',\n",
       "   'avatar_url': 'https://avatars.githubusercontent.com/u/51007145?v=4',\n",
       "   'gravatar_id': '',\n",
       "   'url': 'https://api.github.com/users/vranoch',\n",
       "   'html_url': 'https://github.com/vranoch',\n",
       "   'followers_url': 'https://api.github.com/users/vranoch/followers',\n",
       "   'following_url': 'https://api.github.com/users/vranoch/following{/other_user}',\n",
       "   'gists_url': 'https://api.github.com/users/vranoch/gists{/gist_id}',\n",
       "   'starred_url': 'https://api.github.com/users/vranoch/starred{/owner}{/repo}',\n",
       "   'subscriptions_url': 'https://api.github.com/users/vranoch/subscriptions',\n",
       "   'organizations_url': 'https://api.github.com/users/vranoch/orgs',\n",
       "   'repos_url': 'https://api.github.com/users/vranoch/repos',\n",
       "   'events_url': 'https://api.github.com/users/vranoch/events{/privacy}',\n",
       "   'received_events_url': 'https://api.github.com/users/vranoch/received_events',\n",
       "   'type': 'User',\n",
       "   'site_admin': False},\n",
       "  'labels': [{'id': 49254273,\n",
       "    'node_id': 'MDU6TGFiZWw0OTI1NDI3Mw==',\n",
       "    'url': 'https://api.github.com/repos/pandas-dev/pandas/labels/IO%20Excel',\n",
       "    'name': 'IO Excel',\n",
       "    'color': 'bfe5bf',\n",
       "    'default': False,\n",
       "    'description': 'read_excel, to_excel'}],\n",
       "  'state': 'open',\n",
       "  'locked': False,\n",
       "  'assignee': None,\n",
       "  'assignees': [],\n",
       "  'milestone': None,\n",
       "  'comments': 7,\n",
       "  'created_at': '2022-09-26T09:38:13Z',\n",
       "  'updated_at': '2022-09-27T07:45:49Z',\n",
       "  'closed_at': None,\n",
       "  'author_association': 'NONE',\n",
       "  'active_lock_reason': None,\n",
       "  'body': '### Pandas version checks\\n\\n- [X] I have checked that this issue has not already been reported.\\n\\n- [X] I have confirmed this bug exists on the [latest version](https://pandas.pydata.org/docs/whatsnew/index.html) of pandas.\\n\\n- [X] I have confirmed this bug exists on the main branch of pandas.\\n\\n\\n### Reproducible Example\\n\\n```python\\nimport pandas as pd\\r\\n\\r\\nwb = load_workbook(self._get_report_filename_template())\\r\\nwb.create_sheet(self.report_range_sheet)\\r\\nwith pd.ExcelWriter(file, engine=\\'openpyxl\\') as writer:\\r\\n\\twriter.book = wb  # This assignment causes AttributeError: can\\'t set attribute\\n```\\n\\n\\n### Issue Description\\n\\nAssignment to writer.book causes an exception:\\r\\n\\r\\n`Traceback (most recent call last):\\r\\n  File \"/app/py_code/Bussiness/Reports/PrehledovyReport.py\", line 108, in _export_data\\r\\n    writer.book = wb\\r\\nAttributeError: can\\'t set attribute\\r\\n`\\r\\n\\r\\ndowngrading to 1.4.4 resolves the issue\\n\\n### Expected Behavior\\n\\nThe assignment should work - injecting externally created workbook to the writer\\n\\n### Installed Versions\\n\\npd.show_versions() returns None ... presenting the requirements.txt instead\\r\\n\\r\\n<details>\\r\\n\\r\\namqp==5.1.1\\r\\nasgiref==3.5.2\\r\\nastroid==2.12.10\\r\\nasttokens==2.0.8\\r\\nasync-timeout==4.0.2\\r\\nbackports.zoneinfo==0.2.1\\r\\nbeautifulsoup4==4.11.1\\r\\nbilliard==3.6.4.0\\r\\nbs4==0.0.1\\r\\ncelery==5.2.7\\r\\ncertifi==2022.9.14\\r\\nchardet==5.0.0\\r\\ncharset-normalizer==2.1.1\\r\\nclick==8.1.3\\r\\nclick-didyoumean==0.3.0\\r\\nclick-plugins==1.1.1\\r\\nclick-repl==0.2.0\\r\\ncolorama==0.4.5\\r\\nconvertdate==2.4.0\\r\\nDateTime==4.7\\r\\ndecorator==5.1.1\\r\\nDeprecated==1.2.13\\r\\ndill==0.3.5.1\\r\\nDjango==4.1.1\\r\\ndjango-admin-rangefilter==0.8.8\\r\\ndjango-appconf==1.0.5\\r\\ndjango-celery-results==2.4.0\\r\\ndjango-compat==1.0.15\\r\\ndjango-debug-toolbar==3.6.0\\r\\ndjango-imagekit==4.1.0\\r\\ndjango-pandas==0.6.6\\r\\ndjango-request-logging==0.7.5\\r\\ndjango-sendgrid-v5==1.2.1\\r\\net-xmlfile==1.1.0\\r\\nfuture==0.18.2\\r\\ngeocoder==1.38.1\\r\\ngreenlet==1.1.3\\r\\nicontract==2.6.2\\r\\nidna==3.4\\r\\nisort==5.10.1\\r\\njdcal==1.4.1\\r\\nJinja2==3.1.2\\r\\njplephem==2.17\\r\\nkombu==5.2.4\\r\\nlazy-object-proxy==1.7.1\\r\\nlunardate==0.2.0\\r\\nMarkupSafe==2.1.1\\r\\nmccabe==0.7.0\\r\\nnumpy==1.23.3\\r\\nopenpyxl==3.0.10\\r\\npackaging==21.3\\r\\npandas==1.5.0\\r\\npilkit==2.0\\r\\nPillow==9.2.0\\r\\nplatformdirs==2.5.2\\r\\nprompt-toolkit==3.0.31\\r\\npsycopg2==2.9.3\\r\\npyCalverter==1.6.1\\r\\npylint==2.15.3\\r\\npylint-django==2.5.3\\r\\npylint-plugin-utils==0.7\\r\\npylint-unittest==0.1.3\\r\\npyluach==2.0.1\\r\\nPyMeeus==0.5.11\\r\\npyparsing==3.0.9\\r\\npypng==0.20220715.0\\r\\nPyQRCode==1.2.1\\r\\npython-dateutil==2.8.2\\r\\npython-http-client==3.3.7\\r\\npytz==2022.2.1\\r\\nPyYAML==6.0\\r\\nratelim==0.1.6\\r\\nredis==4.3.4\\r\\nrequests==2.28.1\\r\\nsendgrid==6.9.7\\r\\nsgp4==2.21\\r\\nsix==1.16.0\\r\\nskyfield==1.45\\r\\nskyfield-data==4.0.0\\r\\nsoupsieve==2.3.2.post1\\r\\nSQLAlchemy==1.4.40\\r\\nsqlparse==0.4.2\\r\\nstarkbank-ecdsa==2.0.3\\r\\ntoml==0.10.2\\r\\ntomli==2.0.1\\r\\ntomlkit==0.11.4\\r\\ntyping_extensions==4.3.0\\r\\ntzdata==2022.2\\r\\nurllib3==1.26.12\\r\\nvine==5.0.0\\r\\nwcwidth==0.2.5\\r\\nworkalendar==16.4.0\\r\\nwrapt==1.14.1\\r\\nzope.interface==5.4.0\\r\\n\\r\\n\\r\\n</details>\\r\\n',\n",
       "  'reactions': {'url': 'https://api.github.com/repos/pandas-dev/pandas/issues/48780/reactions',\n",
       "   'total_count': 1,\n",
       "   '+1': 1,\n",
       "   '-1': 0,\n",
       "   'laugh': 0,\n",
       "   'hooray': 0,\n",
       "   'confused': 0,\n",
       "   'heart': 0,\n",
       "   'rocket': 0,\n",
       "   'eyes': 0},\n",
       "  'timeline_url': 'https://api.github.com/repos/pandas-dev/pandas/issues/48780/timeline',\n",
       "  'performed_via_github_app': None,\n",
       "  'state_reason': None},\n",
       " {'url': 'https://api.github.com/repos/pandas-dev/pandas/issues/48779',\n",
       "  'repository_url': 'https://api.github.com/repos/pandas-dev/pandas',\n",
       "  'labels_url': 'https://api.github.com/repos/pandas-dev/pandas/issues/48779/labels{/name}',\n",
       "  'comments_url': 'https://api.github.com/repos/pandas-dev/pandas/issues/48779/comments',\n",
       "  'events_url': 'https://api.github.com/repos/pandas-dev/pandas/issues/48779/events',\n",
       "  'html_url': 'https://github.com/pandas-dev/pandas/issues/48779',\n",
       "  'id': 1385660723,\n",
       "  'node_id': 'I_kwDOAA0YD85Sl4Ez',\n",
       "  'number': 48779,\n",
       "  'title': 'BUG: pd.offsets.MonthEnd() delevers wrong month',\n",
       "  'user': {'login': 'pjousma',\n",
       "   'id': 114391084,\n",
       "   'node_id': 'U_kgDOBtF4LA',\n",
       "   'avatar_url': 'https://avatars.githubusercontent.com/u/114391084?v=4',\n",
       "   'gravatar_id': '',\n",
       "   'url': 'https://api.github.com/users/pjousma',\n",
       "   'html_url': 'https://github.com/pjousma',\n",
       "   'followers_url': 'https://api.github.com/users/pjousma/followers',\n",
       "   'following_url': 'https://api.github.com/users/pjousma/following{/other_user}',\n",
       "   'gists_url': 'https://api.github.com/users/pjousma/gists{/gist_id}',\n",
       "   'starred_url': 'https://api.github.com/users/pjousma/starred{/owner}{/repo}',\n",
       "   'subscriptions_url': 'https://api.github.com/users/pjousma/subscriptions',\n",
       "   'organizations_url': 'https://api.github.com/users/pjousma/orgs',\n",
       "   'repos_url': 'https://api.github.com/users/pjousma/repos',\n",
       "   'events_url': 'https://api.github.com/users/pjousma/events{/privacy}',\n",
       "   'received_events_url': 'https://api.github.com/users/pjousma/received_events',\n",
       "   'type': 'User',\n",
       "   'site_admin': False},\n",
       "  'labels': [{'id': 53181044,\n",
       "    'node_id': 'MDU6TGFiZWw1MzE4MTA0NA==',\n",
       "    'url': 'https://api.github.com/repos/pandas-dev/pandas/labels/Frequency',\n",
       "    'name': 'Frequency',\n",
       "    'color': '0052cc',\n",
       "    'default': False,\n",
       "    'description': 'DateOffsets'},\n",
       "   {'id': 717120670,\n",
       "    'node_id': 'MDU6TGFiZWw3MTcxMjA2NzA=',\n",
       "    'url': 'https://api.github.com/repos/pandas-dev/pandas/labels/good%20first%20issue',\n",
       "    'name': 'good first issue',\n",
       "    'color': '0e8a16',\n",
       "    'default': True,\n",
       "    'description': None}],\n",
       "  'state': 'open',\n",
       "  'locked': False,\n",
       "  'assignee': {'login': 'ZDenizYStenhaug',\n",
       "   'id': 44329698,\n",
       "   'node_id': 'MDQ6VXNlcjQ0MzI5Njk4',\n",
       "   'avatar_url': 'https://avatars.githubusercontent.com/u/44329698?v=4',\n",
       "   'gravatar_id': '',\n",
       "   'url': 'https://api.github.com/users/ZDenizYStenhaug',\n",
       "   'html_url': 'https://github.com/ZDenizYStenhaug',\n",
       "   'followers_url': 'https://api.github.com/users/ZDenizYStenhaug/followers',\n",
       "   'following_url': 'https://api.github.com/users/ZDenizYStenhaug/following{/other_user}',\n",
       "   'gists_url': 'https://api.github.com/users/ZDenizYStenhaug/gists{/gist_id}',\n",
       "   'starred_url': 'https://api.github.com/users/ZDenizYStenhaug/starred{/owner}{/repo}',\n",
       "   'subscriptions_url': 'https://api.github.com/users/ZDenizYStenhaug/subscriptions',\n",
       "   'organizations_url': 'https://api.github.com/users/ZDenizYStenhaug/orgs',\n",
       "   'repos_url': 'https://api.github.com/users/ZDenizYStenhaug/repos',\n",
       "   'events_url': 'https://api.github.com/users/ZDenizYStenhaug/events{/privacy}',\n",
       "   'received_events_url': 'https://api.github.com/users/ZDenizYStenhaug/received_events',\n",
       "   'type': 'User',\n",
       "   'site_admin': False},\n",
       "  'assignees': [{'login': 'ZDenizYStenhaug',\n",
       "    'id': 44329698,\n",
       "    'node_id': 'MDQ6VXNlcjQ0MzI5Njk4',\n",
       "    'avatar_url': 'https://avatars.githubusercontent.com/u/44329698?v=4',\n",
       "    'gravatar_id': '',\n",
       "    'url': 'https://api.github.com/users/ZDenizYStenhaug',\n",
       "    'html_url': 'https://github.com/ZDenizYStenhaug',\n",
       "    'followers_url': 'https://api.github.com/users/ZDenizYStenhaug/followers',\n",
       "    'following_url': 'https://api.github.com/users/ZDenizYStenhaug/following{/other_user}',\n",
       "    'gists_url': 'https://api.github.com/users/ZDenizYStenhaug/gists{/gist_id}',\n",
       "    'starred_url': 'https://api.github.com/users/ZDenizYStenhaug/starred{/owner}{/repo}',\n",
       "    'subscriptions_url': 'https://api.github.com/users/ZDenizYStenhaug/subscriptions',\n",
       "    'organizations_url': 'https://api.github.com/users/ZDenizYStenhaug/orgs',\n",
       "    'repos_url': 'https://api.github.com/users/ZDenizYStenhaug/repos',\n",
       "    'events_url': 'https://api.github.com/users/ZDenizYStenhaug/events{/privacy}',\n",
       "    'received_events_url': 'https://api.github.com/users/ZDenizYStenhaug/received_events',\n",
       "    'type': 'User',\n",
       "    'site_admin': False}],\n",
       "  'milestone': None,\n",
       "  'comments': 4,\n",
       "  'created_at': '2022-09-26T08:35:23Z',\n",
       "  'updated_at': '2022-09-26T11:03:56Z',\n",
       "  'closed_at': None,\n",
       "  'author_association': 'NONE',\n",
       "  'active_lock_reason': None,\n",
       "  'body': \"### Pandas version checks\\n\\n- [X] I have checked that this issue has not already been reported.\\n\\n- [X] I have confirmed this bug exists on the [latest version](https://pandas.pydata.org/docs/whatsnew/index.html) of pandas.\\n\\n- [X] I have confirmed this bug exists on the main branch of pandas.\\n\\n\\n### Reproducible Example\\n\\n```python\\nimport pandas as pd\\r\\nts = pd.Timestamp(2017, 1, 31)\\r\\nts + pd.offsets.MonthEnd()\\n```\\n\\n\\n### Issue Description\\n\\nI expect that the answer is: Timestamp('2017-01-31 00:00:00')\\r\\nbut I get: Timestamp('2017-02-28 00:00:00')\\n\\n### Expected Behavior\\n\\nTimestamp('2017-01-31 00:00:00')\\n\\n### Installed Versions\\n\\n<details>\\r\\n\\r\\n\\r\\nINSTALLED VERSIONS\\r\\n------------------\\r\\ncommit           : 4bfe3d07b4858144c219b9346329027024102ab6\\r\\npython           : 3.9.12.final.0\\r\\npython-bits      : 64\\r\\nOS               : Windows\\r\\nOS-release       : 10\\r\\nVersion          : 10.0.19044\\r\\nmachine          : AMD64\\r\\nprocessor        : Intel64 Family 6 Model 140 Stepping 1, GenuineIntel\\r\\nbyteorder        : little\\r\\nLC_ALL           : None\\r\\nLANG             : None\\r\\nLOCALE           : Dutch_Netherlands.1252\\r\\n\\r\\npandas           : 1.4.2\\r\\nnumpy            : 1.21.5\\r\\npytz             : 2021.3\\r\\ndateutil         : 2.8.2\\r\\npip              : 21.2.4\\r\\nsetuptools       : 61.2.0\\r\\nCython           : 0.29.28\\r\\npytest           : 7.1.1\\r\\nhypothesis       : None\\r\\nsphinx           : 4.4.0\\r\\nblosc            : None\\r\\nfeather          : None\\r\\nxlsxwriter       : 3.0.3\\r\\nlxml.etree       : 4.8.0\\r\\nhtml5lib         : None\\r\\npymysql          : None\\r\\npsycopg2         : None\\r\\njinja2           : 2.11.3\\r\\nIPython          : 8.2.0\\r\\npandas_datareader: None\\r\\nbs4              : 4.11.1\\r\\nbottleneck       : 1.3.4\\r\\nbrotli           : \\r\\nfastparquet      : None\\r\\nfsspec           : 2022.02.0\\r\\ngcsfs            : None\\r\\nmarkupsafe       : 2.0.1\\r\\nmatplotlib       : 3.5.1\\r\\nnumba            : 0.55.1\\r\\nnumexpr          : 2.8.1\\r\\nodfpy            : None\\r\\nopenpyxl         : 3.0.9\\r\\npandas_gbq       : None\\r\\npyarrow          : None\\r\\npyreadstat       : None\\r\\npyxlsb           : None\\r\\ns3fs             : None\\r\\nscipy            : 1.7.3\\r\\nsnappy           : \\r\\nsqlalchemy       : 1.4.32\\r\\ntables           : 3.6.1\\r\\ntabulate         : 0.8.9\\r\\nxarray           : 0.20.1\\r\\nxlrd             : 2.0.1\\r\\nxlwt             : None\\r\\nzstandard        : None\\r\\n\\r\\n</details>\\r\\n\",\n",
       "  'reactions': {'url': 'https://api.github.com/repos/pandas-dev/pandas/issues/48779/reactions',\n",
       "   'total_count': 0,\n",
       "   '+1': 0,\n",
       "   '-1': 0,\n",
       "   'laugh': 0,\n",
       "   'hooray': 0,\n",
       "   'confused': 0,\n",
       "   'heart': 0,\n",
       "   'rocket': 0,\n",
       "   'eyes': 0},\n",
       "  'timeline_url': 'https://api.github.com/repos/pandas-dev/pandas/issues/48779/timeline',\n",
       "  'performed_via_github_app': None,\n",
       "  'state_reason': None},\n",
       " {'url': 'https://api.github.com/repos/pandas-dev/pandas/issues/48776',\n",
       "  'repository_url': 'https://api.github.com/repos/pandas-dev/pandas',\n",
       "  'labels_url': 'https://api.github.com/repos/pandas-dev/pandas/issues/48776/labels{/name}',\n",
       "  'comments_url': 'https://api.github.com/repos/pandas-dev/pandas/issues/48776/comments',\n",
       "  'events_url': 'https://api.github.com/repos/pandas-dev/pandas/issues/48776/events',\n",
       "  'html_url': 'https://github.com/pandas-dev/pandas/pull/48776',\n",
       "  'id': 1385159645,\n",
       "  'node_id': 'PR_kwDOAA0YD84_j82V',\n",
       "  'number': 48776,\n",
       "  'title': 'ENH: Add option to use nullable dtypes in read_csv',\n",
       "  'user': {'login': 'phofl',\n",
       "   'id': 61934744,\n",
       "   'node_id': 'MDQ6VXNlcjYxOTM0NzQ0',\n",
       "   'avatar_url': 'https://avatars.githubusercontent.com/u/61934744?v=4',\n",
       "   'gravatar_id': '',\n",
       "   'url': 'https://api.github.com/users/phofl',\n",
       "   'html_url': 'https://github.com/phofl',\n",
       "   'followers_url': 'https://api.github.com/users/phofl/followers',\n",
       "   'following_url': 'https://api.github.com/users/phofl/following{/other_user}',\n",
       "   'gists_url': 'https://api.github.com/users/phofl/gists{/gist_id}',\n",
       "   'starred_url': 'https://api.github.com/users/phofl/starred{/owner}{/repo}',\n",
       "   'subscriptions_url': 'https://api.github.com/users/phofl/subscriptions',\n",
       "   'organizations_url': 'https://api.github.com/users/phofl/orgs',\n",
       "   'repos_url': 'https://api.github.com/users/phofl/repos',\n",
       "   'events_url': 'https://api.github.com/users/phofl/events{/privacy}',\n",
       "   'received_events_url': 'https://api.github.com/users/phofl/received_events',\n",
       "   'type': 'User',\n",
       "   'site_admin': False},\n",
       "  'labels': [{'id': 47229171,\n",
       "    'node_id': 'MDU6TGFiZWw0NzIyOTE3MQ==',\n",
       "    'url': 'https://api.github.com/repos/pandas-dev/pandas/labels/IO%20CSV',\n",
       "    'name': 'IO CSV',\n",
       "    'color': '5319e7',\n",
       "    'default': False,\n",
       "    'description': 'read_csv, to_csv'},\n",
       "   {'id': 1817503692,\n",
       "    'node_id': 'MDU6TGFiZWwxODE3NTAzNjky',\n",
       "    'url': 'https://api.github.com/repos/pandas-dev/pandas/labels/NA%20-%20MaskedArrays',\n",
       "    'name': 'NA - MaskedArrays',\n",
       "    'color': '8cc645',\n",
       "    'default': False,\n",
       "    'description': 'Related to pd.NA and nullable extension arrays'}],\n",
       "  'state': 'open',\n",
       "  'locked': False,\n",
       "  'assignee': None,\n",
       "  'assignees': [],\n",
       "  'milestone': None,\n",
       "  'comments': 0,\n",
       "  'created_at': '2022-09-25T20:45:54Z',\n",
       "  'updated_at': '2022-09-25T20:46:38Z',\n",
       "  'closed_at': None,\n",
       "  'author_association': 'MEMBER',\n",
       "  'active_lock_reason': None,\n",
       "  'draft': True,\n",
       "  'pull_request': {'url': 'https://api.github.com/repos/pandas-dev/pandas/pulls/48776',\n",
       "   'html_url': 'https://github.com/pandas-dev/pandas/pull/48776',\n",
       "   'diff_url': 'https://github.com/pandas-dev/pandas/pull/48776.diff',\n",
       "   'patch_url': 'https://github.com/pandas-dev/pandas/pull/48776.patch',\n",
       "   'merged_at': None},\n",
       "  'body': '- [x] closes #36712 (Replace xxxx with the Github issue number)\\r\\n- [x] [Tests added and passed](https://pandas.pydata.org/pandas-docs/dev/development/contributing_codebase.html#writing-tests) if fixing a bug or adding a new feature\\r\\n- [x] All [code checks passed](https://pandas.pydata.org/pandas-docs/dev/development/contributing_codebase.html#pre-commit).\\r\\n- [x] Added [type annotations](https://pandas.pydata.org/pandas-docs/dev/development/contributing_codebase.html#type-hints) to new arguments/methods/functions.\\r\\n- [x] Added an entry in the latest `doc/source/whatsnew/vX.X.X.rst` file if fixing a bug or adding a new feature.\\r\\n',\n",
       "  'reactions': {'url': 'https://api.github.com/repos/pandas-dev/pandas/issues/48776/reactions',\n",
       "   'total_count': 0,\n",
       "   '+1': 0,\n",
       "   '-1': 0,\n",
       "   'laugh': 0,\n",
       "   'hooray': 0,\n",
       "   'confused': 0,\n",
       "   'heart': 0,\n",
       "   'rocket': 0,\n",
       "   'eyes': 0},\n",
       "  'timeline_url': 'https://api.github.com/repos/pandas-dev/pandas/issues/48776/timeline',\n",
       "  'performed_via_github_app': None,\n",
       "  'state_reason': None},\n",
       " {'url': 'https://api.github.com/repos/pandas-dev/pandas/issues/48774',\n",
       "  'repository_url': 'https://api.github.com/repos/pandas-dev/pandas',\n",
       "  'labels_url': 'https://api.github.com/repos/pandas-dev/pandas/issues/48774/labels{/name}',\n",
       "  'comments_url': 'https://api.github.com/repos/pandas-dev/pandas/issues/48774/comments',\n",
       "  'events_url': 'https://api.github.com/repos/pandas-dev/pandas/issues/48774/events',\n",
       "  'html_url': 'https://github.com/pandas-dev/pandas/pull/48774',\n",
       "  'id': 1385125103,\n",
       "  'node_id': 'PR_kwDOAA0YD84_j2tY',\n",
       "  'number': 48774,\n",
       "  'title': 'ENH: Raise ParserError instead of IndexError when specifying an incorrect number of columns with index_col for the read_csv C parser.',\n",
       "  'user': {'login': 'DriesSchaumont',\n",
       "   'id': 5946712,\n",
       "   'node_id': 'MDQ6VXNlcjU5NDY3MTI=',\n",
       "   'avatar_url': 'https://avatars.githubusercontent.com/u/5946712?v=4',\n",
       "   'gravatar_id': '',\n",
       "   'url': 'https://api.github.com/users/DriesSchaumont',\n",
       "   'html_url': 'https://github.com/DriesSchaumont',\n",
       "   'followers_url': 'https://api.github.com/users/DriesSchaumont/followers',\n",
       "   'following_url': 'https://api.github.com/users/DriesSchaumont/following{/other_user}',\n",
       "   'gists_url': 'https://api.github.com/users/DriesSchaumont/gists{/gist_id}',\n",
       "   'starred_url': 'https://api.github.com/users/DriesSchaumont/starred{/owner}{/repo}',\n",
       "   'subscriptions_url': 'https://api.github.com/users/DriesSchaumont/subscriptions',\n",
       "   'organizations_url': 'https://api.github.com/users/DriesSchaumont/orgs',\n",
       "   'repos_url': 'https://api.github.com/users/DriesSchaumont/repos',\n",
       "   'events_url': 'https://api.github.com/users/DriesSchaumont/events{/privacy}',\n",
       "   'received_events_url': 'https://api.github.com/users/DriesSchaumont/received_events',\n",
       "   'type': 'User',\n",
       "   'site_admin': False},\n",
       "  'labels': [{'id': 76812,\n",
       "    'node_id': 'MDU6TGFiZWw3NjgxMg==',\n",
       "    'url': 'https://api.github.com/repos/pandas-dev/pandas/labels/Enhancement',\n",
       "    'name': 'Enhancement',\n",
       "    'color': '4E9A06',\n",
       "    'default': False,\n",
       "    'description': None},\n",
       "   {'id': 42670965,\n",
       "    'node_id': 'MDU6TGFiZWw0MjY3MDk2NQ==',\n",
       "    'url': 'https://api.github.com/repos/pandas-dev/pandas/labels/Error%20Reporting',\n",
       "    'name': 'Error Reporting',\n",
       "    'color': 'ffa0ff',\n",
       "    'default': False,\n",
       "    'description': 'Incorrect or improved errors from pandas'}],\n",
       "  'state': 'open',\n",
       "  'locked': False,\n",
       "  'assignee': None,\n",
       "  'assignees': [],\n",
       "  'milestone': None,\n",
       "  'comments': 0,\n",
       "  'created_at': '2022-09-25T18:44:06Z',\n",
       "  'updated_at': '2022-09-27T06:47:33Z',\n",
       "  'closed_at': None,\n",
       "  'author_association': 'MEMBER',\n",
       "  'active_lock_reason': None,\n",
       "  'draft': False,\n",
       "  'pull_request': {'url': 'https://api.github.com/repos/pandas-dev/pandas/pulls/48774',\n",
       "   'html_url': 'https://github.com/pandas-dev/pandas/pull/48774',\n",
       "   'diff_url': 'https://github.com/pandas-dev/pandas/pull/48774.diff',\n",
       "   'patch_url': 'https://github.com/pandas-dev/pandas/pull/48774.patch',\n",
       "   'merged_at': None},\n",
       "  'body': '\\r\\n- [x] closes #16393 (Replace xxxx with the Github issue number)\\r\\n- [x] [Tests added and passed](https://pandas.pydata.org/pandas-docs/dev/development/contributing_codebase.html#writing-tests) if fixing a bug or adding a new feature\\r\\n- [x] All [code checks passed](https://pandas.pydata.org/pandas-docs/dev/development/contributing_codebase.html#pre-commit).\\r\\n- [x] Added [type annotations](https://pandas.pydata.org/pandas-docs/dev/development/contributing_codebase.html#type-hints) to new arguments/methods/functions.\\r\\n- [x] Added an entry in the latest `doc/source/whatsnew/vX.X.X.rst` file if fixing a bug or adding a new feature.\\r\\n',\n",
       "  'reactions': {'url': 'https://api.github.com/repos/pandas-dev/pandas/issues/48774/reactions',\n",
       "   'total_count': 0,\n",
       "   '+1': 0,\n",
       "   '-1': 0,\n",
       "   'laugh': 0,\n",
       "   'hooray': 0,\n",
       "   'confused': 0,\n",
       "   'heart': 0,\n",
       "   'rocket': 0,\n",
       "   'eyes': 0},\n",
       "  'timeline_url': 'https://api.github.com/repos/pandas-dev/pandas/issues/48774/timeline',\n",
       "  'performed_via_github_app': None,\n",
       "  'state_reason': None},\n",
       " {'url': 'https://api.github.com/repos/pandas-dev/pandas/issues/48772',\n",
       "  'repository_url': 'https://api.github.com/repos/pandas-dev/pandas',\n",
       "  'labels_url': 'https://api.github.com/repos/pandas-dev/pandas/issues/48772/labels{/name}',\n",
       "  'comments_url': 'https://api.github.com/repos/pandas-dev/pandas/issues/48772/comments',\n",
       "  'events_url': 'https://api.github.com/repos/pandas-dev/pandas/issues/48772/events',\n",
       "  'html_url': 'https://github.com/pandas-dev/pandas/pull/48772',\n",
       "  'id': 1385027203,\n",
       "  'node_id': 'PR_kwDOAA0YD84_jmv1',\n",
       "  'number': 48772,\n",
       "  'title': 'BUG: Bug fix for GH48567',\n",
       "  'user': {'login': 'JanVHII',\n",
       "   'id': 12532395,\n",
       "   'node_id': 'MDQ6VXNlcjEyNTMyMzk1',\n",
       "   'avatar_url': 'https://avatars.githubusercontent.com/u/12532395?v=4',\n",
       "   'gravatar_id': '',\n",
       "   'url': 'https://api.github.com/users/JanVHII',\n",
       "   'html_url': 'https://github.com/JanVHII',\n",
       "   'followers_url': 'https://api.github.com/users/JanVHII/followers',\n",
       "   'following_url': 'https://api.github.com/users/JanVHII/following{/other_user}',\n",
       "   'gists_url': 'https://api.github.com/users/JanVHII/gists{/gist_id}',\n",
       "   'starred_url': 'https://api.github.com/users/JanVHII/starred{/owner}{/repo}',\n",
       "   'subscriptions_url': 'https://api.github.com/users/JanVHII/subscriptions',\n",
       "   'organizations_url': 'https://api.github.com/users/JanVHII/orgs',\n",
       "   'repos_url': 'https://api.github.com/users/JanVHII/repos',\n",
       "   'events_url': 'https://api.github.com/users/JanVHII/events{/privacy}',\n",
       "   'received_events_url': 'https://api.github.com/users/JanVHII/received_events',\n",
       "   'type': 'User',\n",
       "   'site_admin': False},\n",
       "  'labels': [{'id': 76811,\n",
       "    'node_id': 'MDU6TGFiZWw3NjgxMQ==',\n",
       "    'url': 'https://api.github.com/repos/pandas-dev/pandas/labels/Bug',\n",
       "    'name': 'Bug',\n",
       "    'color': 'e10c02',\n",
       "    'default': False,\n",
       "    'description': None},\n",
       "   {'id': 233160,\n",
       "    'node_id': 'MDU6TGFiZWwyMzMxNjA=',\n",
       "    'url': 'https://api.github.com/repos/pandas-dev/pandas/labels/Groupby',\n",
       "    'name': 'Groupby',\n",
       "    'color': '729FCF',\n",
       "    'default': False,\n",
       "    'description': None}],\n",
       "  'state': 'open',\n",
       "  'locked': False,\n",
       "  'assignee': None,\n",
       "  'assignees': [],\n",
       "  'milestone': None,\n",
       "  'comments': 0,\n",
       "  'created_at': '2022-09-25T13:35:07Z',\n",
       "  'updated_at': '2022-09-26T18:37:43Z',\n",
       "  'closed_at': None,\n",
       "  'author_association': 'NONE',\n",
       "  'active_lock_reason': None,\n",
       "  'draft': False,\n",
       "  'pull_request': {'url': 'https://api.github.com/repos/pandas-dev/pandas/pulls/48772',\n",
       "   'html_url': 'https://github.com/pandas-dev/pandas/pull/48772',\n",
       "   'diff_url': 'https://github.com/pandas-dev/pandas/pull/48772.diff',\n",
       "   'patch_url': 'https://github.com/pandas-dev/pandas/pull/48772.patch',\n",
       "   'merged_at': None},\n",
       "  'body': 'Groupby for Series fails if an entry of the index of the Series is equal to the name of the index. Analyzing the bug, I think the following small change would solve the issue:\\r\\n\\r\\ndiff --git a/pandas/core/groupby/grouper.py b/pandas/core/groupby/grouper.py index 5fc713d84e..9281040a79 100644\\r\\n--- a/pandas/core/groupby/grouper.py\\r\\n+++ b/pandas/core/groupby/grouper.py\\r\\n@@ -875,7 +875,7 @@ def get_grouper(\\r\\n             exclusions.add(gpr.name)\\r\\n\\r\\n         elif is_in_axis(gpr):  # df.groupby(\\'name\\')\\r\\n-            if gpr in obj:\\r\\n+            if not isinstance(obj, Series) and gpr in obj:\\r\\n                 if validate:\\r\\n                     obj._check_label_or_level_ambiguity(gpr, axis=axis)\\r\\n                 in_axis, name, gpr = True, gpr, obj[gpr]\\r\\n\\r\\nFrom my point of view \"gpr in obj\" does not make sense for series at this point. I think the if-statement is written for dataframes to look if gbr is one of the columns. Skipping the if-statement for series gives the correct results for the examples above. The testsuite for series and groupby runs without errors after the change. I added a test to the test suite at the end of pandas/tests/groupby/test_groupby.py and a comment in the BUG section to doc/source/whatsnew/v1.6.0.rst.\\r\\n\\r\\n- [x] closes #48567 (Replace xxxx with the Github issue number)\\r\\n- [x] [Tests added and passed](https://pandas.pydata.org/pandas-docs/dev/development/contributing_codebase.html#writing-tests) if fixing a bug or adding a new feature\\r\\n- [ ] All [code checks passed](https://pandas.pydata.org/pandas-docs/dev/development/contributing_codebase.html#pre-commit).\\r\\n- [ ] Added [type annotations](https://pandas.pydata.org/pandas-docs/dev/development/contributing_codebase.html#type-hints) to new arguments/methods/functions.\\r\\n- [x] Added an entry in the latest `doc/source/whatsnew/vX.X.X.rst` file if fixing a bug or adding a new feature.\\r\\n',\n",
       "  'reactions': {'url': 'https://api.github.com/repos/pandas-dev/pandas/issues/48772/reactions',\n",
       "   'total_count': 0,\n",
       "   '+1': 0,\n",
       "   '-1': 0,\n",
       "   'laugh': 0,\n",
       "   'hooray': 0,\n",
       "   'confused': 0,\n",
       "   'heart': 0,\n",
       "   'rocket': 0,\n",
       "   'eyes': 0},\n",
       "  'timeline_url': 'https://api.github.com/repos/pandas-dev/pandas/issues/48772/timeline',\n",
       "  'performed_via_github_app': None,\n",
       "  'state_reason': None},\n",
       " {'url': 'https://api.github.com/repos/pandas-dev/pandas/issues/48770',\n",
       "  'repository_url': 'https://api.github.com/repos/pandas-dev/pandas',\n",
       "  'labels_url': 'https://api.github.com/repos/pandas-dev/pandas/issues/48770/labels{/name}',\n",
       "  'comments_url': 'https://api.github.com/repos/pandas-dev/pandas/issues/48770/comments',\n",
       "  'events_url': 'https://api.github.com/repos/pandas-dev/pandas/issues/48770/events',\n",
       "  'html_url': 'https://github.com/pandas-dev/pandas/pull/48770',\n",
       "  'id': 1384968001,\n",
       "  'node_id': 'PR_kwDOAA0YD84_jcsk',\n",
       "  'number': 48770,\n",
       "  'title': 'added sytle in stylesheet for <blockquote>',\n",
       "  'user': {'login': 'Himanshuwagh',\n",
       "   'id': 76431630,\n",
       "   'node_id': 'MDQ6VXNlcjc2NDMxNjMw',\n",
       "   'avatar_url': 'https://avatars.githubusercontent.com/u/76431630?v=4',\n",
       "   'gravatar_id': '',\n",
       "   'url': 'https://api.github.com/users/Himanshuwagh',\n",
       "   'html_url': 'https://github.com/Himanshuwagh',\n",
       "   'followers_url': 'https://api.github.com/users/Himanshuwagh/followers',\n",
       "   'following_url': 'https://api.github.com/users/Himanshuwagh/following{/other_user}',\n",
       "   'gists_url': 'https://api.github.com/users/Himanshuwagh/gists{/gist_id}',\n",
       "   'starred_url': 'https://api.github.com/users/Himanshuwagh/starred{/owner}{/repo}',\n",
       "   'subscriptions_url': 'https://api.github.com/users/Himanshuwagh/subscriptions',\n",
       "   'organizations_url': 'https://api.github.com/users/Himanshuwagh/orgs',\n",
       "   'repos_url': 'https://api.github.com/users/Himanshuwagh/repos',\n",
       "   'events_url': 'https://api.github.com/users/Himanshuwagh/events{/privacy}',\n",
       "   'received_events_url': 'https://api.github.com/users/Himanshuwagh/received_events',\n",
       "   'type': 'User',\n",
       "   'site_admin': False},\n",
       "  'labels': [{'id': 1508144531,\n",
       "    'node_id': 'MDU6TGFiZWwxNTA4MTQ0NTMx',\n",
       "    'url': 'https://api.github.com/repos/pandas-dev/pandas/labels/Web',\n",
       "    'name': 'Web',\n",
       "    'color': '23ef97',\n",
       "    'default': False,\n",
       "    'description': 'pandas website'}],\n",
       "  'state': 'open',\n",
       "  'locked': False,\n",
       "  'assignee': None,\n",
       "  'assignees': [],\n",
       "  'milestone': None,\n",
       "  'comments': 2,\n",
       "  'created_at': '2022-09-25T10:07:50Z',\n",
       "  'updated_at': '2022-09-27T09:41:45Z',\n",
       "  'closed_at': None,\n",
       "  'author_association': 'NONE',\n",
       "  'active_lock_reason': None,\n",
       "  'draft': False,\n",
       "  'pull_request': {'url': 'https://api.github.com/repos/pandas-dev/pandas/pulls/48770',\n",
       "   'html_url': 'https://github.com/pandas-dev/pandas/pull/48770',\n",
       "   'diff_url': 'https://github.com/pandas-dev/pandas/pull/48770.diff',\n",
       "   'patch_url': 'https://github.com/pandas-dev/pandas/pull/48770.patch',\n",
       "   'merged_at': None},\n",
       "  'body': '\\r\\nCloses #48758\\r\\n\\r\\nadded styles for stylesheets for `<blockquote>` tag\\r\\n1. added left-padding\\r\\n2. also changed the font color ( default black to gray )\\r\\n\\r\\n- screenshot of desktop\\r\\n![save1](https://user-images.githubusercontent.com/76431630/192491570-b5bc703e-a664-4da5-b0cc-4317c178d3e3.png)',\n",
       "  'reactions': {'url': 'https://api.github.com/repos/pandas-dev/pandas/issues/48770/reactions',\n",
       "   'total_count': 0,\n",
       "   '+1': 0,\n",
       "   '-1': 0,\n",
       "   'laugh': 0,\n",
       "   'hooray': 0,\n",
       "   'confused': 0,\n",
       "   'heart': 0,\n",
       "   'rocket': 0,\n",
       "   'eyes': 0},\n",
       "  'timeline_url': 'https://api.github.com/repos/pandas-dev/pandas/issues/48770/timeline',\n",
       "  'performed_via_github_app': None,\n",
       "  'state_reason': None},\n",
       " {'url': 'https://api.github.com/repos/pandas-dev/pandas/issues/48767',\n",
       "  'repository_url': 'https://api.github.com/repos/pandas-dev/pandas',\n",
       "  'labels_url': 'https://api.github.com/repos/pandas-dev/pandas/issues/48767/labels{/name}',\n",
       "  'comments_url': 'https://api.github.com/repos/pandas-dev/pandas/issues/48767/comments',\n",
       "  'events_url': 'https://api.github.com/repos/pandas-dev/pandas/issues/48767/events',\n",
       "  'html_url': 'https://github.com/pandas-dev/pandas/issues/48767',\n",
       "  'id': 1384934606,\n",
       "  'node_id': 'I_kwDOAA0YD85SjGzO',\n",
       "  'number': 48767,\n",
       "  'title': 'BUG: `pd.to_datetime()` fails to parse nanoseconds',\n",
       "  'user': {'login': 'gtopper',\n",
       "   'id': 4675524,\n",
       "   'node_id': 'MDQ6VXNlcjQ2NzU1MjQ=',\n",
       "   'avatar_url': 'https://avatars.githubusercontent.com/u/4675524?v=4',\n",
       "   'gravatar_id': '',\n",
       "   'url': 'https://api.github.com/users/gtopper',\n",
       "   'html_url': 'https://github.com/gtopper',\n",
       "   'followers_url': 'https://api.github.com/users/gtopper/followers',\n",
       "   'following_url': 'https://api.github.com/users/gtopper/following{/other_user}',\n",
       "   'gists_url': 'https://api.github.com/users/gtopper/gists{/gist_id}',\n",
       "   'starred_url': 'https://api.github.com/users/gtopper/starred{/owner}{/repo}',\n",
       "   'subscriptions_url': 'https://api.github.com/users/gtopper/subscriptions',\n",
       "   'organizations_url': 'https://api.github.com/users/gtopper/orgs',\n",
       "   'repos_url': 'https://api.github.com/users/gtopper/repos',\n",
       "   'events_url': 'https://api.github.com/users/gtopper/events{/privacy}',\n",
       "   'received_events_url': 'https://api.github.com/users/gtopper/received_events',\n",
       "   'type': 'User',\n",
       "   'site_admin': False},\n",
       "  'labels': [{'id': 211840,\n",
       "    'node_id': 'MDU6TGFiZWwyMTE4NDA=',\n",
       "    'url': 'https://api.github.com/repos/pandas-dev/pandas/labels/Timeseries',\n",
       "    'name': 'Timeseries',\n",
       "    'color': 'AFEEEE',\n",
       "    'default': False,\n",
       "    'description': None},\n",
       "   {'id': 32815646,\n",
       "    'node_id': 'MDU6TGFiZWwzMjgxNTY0Ng==',\n",
       "    'url': 'https://api.github.com/repos/pandas-dev/pandas/labels/Regression',\n",
       "    'name': 'Regression',\n",
       "    'color': 'e11d21',\n",
       "    'default': False,\n",
       "    'description': 'Functionality that used to work in a prior pandas version'}],\n",
       "  'state': 'open',\n",
       "  'locked': False,\n",
       "  'assignee': None,\n",
       "  'assignees': [],\n",
       "  'milestone': {'url': 'https://api.github.com/repos/pandas-dev/pandas/milestones/98',\n",
       "   'html_url': 'https://github.com/pandas-dev/pandas/milestone/98',\n",
       "   'labels_url': 'https://api.github.com/repos/pandas-dev/pandas/milestones/98/labels',\n",
       "   'id': 8438761,\n",
       "   'node_id': 'MI_kwDOAA0YD84AgMPp',\n",
       "   'number': 98,\n",
       "   'title': '1.5.1',\n",
       "   'description': 'on-merge: backport to 1.5.x',\n",
       "   'creator': {'login': 'datapythonista',\n",
       "    'id': 10058240,\n",
       "    'node_id': 'MDQ6VXNlcjEwMDU4MjQw',\n",
       "    'avatar_url': 'https://avatars.githubusercontent.com/u/10058240?v=4',\n",
       "    'gravatar_id': '',\n",
       "    'url': 'https://api.github.com/users/datapythonista',\n",
       "    'html_url': 'https://github.com/datapythonista',\n",
       "    'followers_url': 'https://api.github.com/users/datapythonista/followers',\n",
       "    'following_url': 'https://api.github.com/users/datapythonista/following{/other_user}',\n",
       "    'gists_url': 'https://api.github.com/users/datapythonista/gists{/gist_id}',\n",
       "    'starred_url': 'https://api.github.com/users/datapythonista/starred{/owner}{/repo}',\n",
       "    'subscriptions_url': 'https://api.github.com/users/datapythonista/subscriptions',\n",
       "    'organizations_url': 'https://api.github.com/users/datapythonista/orgs',\n",
       "    'repos_url': 'https://api.github.com/users/datapythonista/repos',\n",
       "    'events_url': 'https://api.github.com/users/datapythonista/events{/privacy}',\n",
       "    'received_events_url': 'https://api.github.com/users/datapythonista/received_events',\n",
       "    'type': 'User',\n",
       "    'site_admin': False},\n",
       "   'open_issues': 19,\n",
       "   'closed_issues': 45,\n",
       "   'state': 'open',\n",
       "   'created_at': '2022-09-19T20:12:38Z',\n",
       "   'updated_at': '2022-09-27T07:53:55Z',\n",
       "   'due_on': None,\n",
       "   'closed_at': None},\n",
       "  'comments': 3,\n",
       "  'created_at': '2022-09-25T07:50:13Z',\n",
       "  'updated_at': '2022-09-26T20:15:52Z',\n",
       "  'closed_at': None,\n",
       "  'author_association': 'NONE',\n",
       "  'active_lock_reason': None,\n",
       "  'body': \"### Pandas version checks\\n\\n- [X] I have checked that this issue has not already been reported.\\n\\n- [X] I have confirmed this bug exists on the [latest version](https://pandas.pydata.org/docs/whatsnew/index.html) of pandas.\\n\\n- [X] I have confirmed this bug exists on the main branch of pandas.\\n\\n\\n### Reproducible Example\\n\\n```python\\nimport pandas as pd\\r\\n\\r\\ntimestamp = '15/02/2020 02:03:04.123456789'\\r\\ntimestamp_format = '%d/%m/%Y %H:%M:%S.%f'\\r\\npd.to_datetime(timestamp, format=timestamp_format)\\n```\\n\\n\\n### Issue Description\\n\\nNew in 1.5.0 – the following error is raised\\r\\n```\\r\\nValueError: unconverted data remains: 789\\r\\n```\\r\\n\\r\\nIf dropping nanosecond support was intentional, [the documentation](https://pandas.pydata.org/docs/reference/api/pandas.to_datetime.html) was not updated accordingly.\\n\\n### Expected Behavior\\n\\nNo error raised.\\n\\n### Installed Versions\\n\\n<details>\\r\\n\\r\\nINSTALLED VERSIONS\\r\\n------------------\\r\\ncommit           : 87cfe4e38bafe7300a6003a1d18bd80f3f77c763\\r\\npython           : 3.8.9.final.0\\r\\npython-bits      : 64\\r\\nOS               : Darwin\\r\\nOS-release       : 21.6.0\\r\\nVersion          : Darwin Kernel Version 21.6.0: Mon Aug 22 20:17:10 PDT 2022; root:xnu-8020.140.49~2/RELEASE_X86_64\\r\\nmachine          : x86_64\\r\\nprocessor        : i386\\r\\nbyteorder        : little\\r\\nLC_ALL           : None\\r\\nLANG             : None\\r\\nLOCALE           : None.UTF-8\\r\\n\\r\\npandas           : 1.5.0\\r\\nnumpy            : 1.22.4\\r\\npytz             : 2022.2.1\\r\\ndateutil         : 2.8.2\\r\\nsetuptools       : 65.3.0\\r\\npip              : 22.2.2\\r\\nCython           : None\\r\\npytest           : 5.4.3\\r\\nhypothesis       : None\\r\\nsphinx           : 3.5.4\\r\\nblosc            : None\\r\\nfeather          : None\\r\\nxlsxwriter       : None\\r\\nlxml.etree       : None\\r\\nhtml5lib         : None\\r\\npymysql          : None\\r\\npsycopg2         : None\\r\\njinja2           : 3.0.3\\r\\nIPython          : 7.31.0\\r\\npandas_datareader: None\\r\\nbs4              : 4.10.0\\r\\nbottleneck       : None\\r\\nbrotli           : None\\r\\nfastparquet      : None\\r\\nfsspec           : 2022.8.2\\r\\ngcsfs            : None\\r\\nmatplotlib       : None\\r\\nnumba            : None\\r\\nnumexpr          : None\\r\\nodfpy            : None\\r\\nopenpyxl         : None\\r\\npandas_gbq       : None\\r\\npyarrow          : 6.0.1\\r\\npyreadstat       : None\\r\\npyxlsb           : None\\r\\ns3fs             : 0.6.0\\r\\nscipy            : None\\r\\nsnappy           : None\\r\\nsqlalchemy       : 1.4.29\\r\\ntables           : None\\r\\ntabulate         : 0.8.9\\r\\nxarray           : None\\r\\nxlrd             : None\\r\\nxlwt             : None\\r\\nzstandard        : None\\r\\ntzdata           : None\\r\\n\\r\\n\\r\\n</details>\\r\\n\",\n",
       "  'reactions': {'url': 'https://api.github.com/repos/pandas-dev/pandas/issues/48767/reactions',\n",
       "   'total_count': 0,\n",
       "   '+1': 0,\n",
       "   '-1': 0,\n",
       "   'laugh': 0,\n",
       "   'hooray': 0,\n",
       "   'confused': 0,\n",
       "   'heart': 0,\n",
       "   'rocket': 0,\n",
       "   'eyes': 0},\n",
       "  'timeline_url': 'https://api.github.com/repos/pandas-dev/pandas/issues/48767/timeline',\n",
       "  'performed_via_github_app': None,\n",
       "  'state_reason': None},\n",
       " {'url': 'https://api.github.com/repos/pandas-dev/pandas/issues/48766',\n",
       "  'repository_url': 'https://api.github.com/repos/pandas-dev/pandas',\n",
       "  'labels_url': 'https://api.github.com/repos/pandas-dev/pandas/issues/48766/labels{/name}',\n",
       "  'comments_url': 'https://api.github.com/repos/pandas-dev/pandas/issues/48766/comments',\n",
       "  'events_url': 'https://api.github.com/repos/pandas-dev/pandas/issues/48766/events',\n",
       "  'html_url': 'https://github.com/pandas-dev/pandas/issues/48766',\n",
       "  'id': 1384856275,\n",
       "  'node_id': 'I_kwDOAA0YD85SizrT',\n",
       "  'number': 48766,\n",
       "  'title': 'ENH: find categorical code against categorical label/value',\n",
       "  'user': {'login': 'StevenLi-DS',\n",
       "   'id': 33796896,\n",
       "   'node_id': 'MDQ6VXNlcjMzNzk2ODk2',\n",
       "   'avatar_url': 'https://avatars.githubusercontent.com/u/33796896?v=4',\n",
       "   'gravatar_id': '',\n",
       "   'url': 'https://api.github.com/users/StevenLi-DS',\n",
       "   'html_url': 'https://github.com/StevenLi-DS',\n",
       "   'followers_url': 'https://api.github.com/users/StevenLi-DS/followers',\n",
       "   'following_url': 'https://api.github.com/users/StevenLi-DS/following{/other_user}',\n",
       "   'gists_url': 'https://api.github.com/users/StevenLi-DS/gists{/gist_id}',\n",
       "   'starred_url': 'https://api.github.com/users/StevenLi-DS/starred{/owner}{/repo}',\n",
       "   'subscriptions_url': 'https://api.github.com/users/StevenLi-DS/subscriptions',\n",
       "   'organizations_url': 'https://api.github.com/users/StevenLi-DS/orgs',\n",
       "   'repos_url': 'https://api.github.com/users/StevenLi-DS/repos',\n",
       "   'events_url': 'https://api.github.com/users/StevenLi-DS/events{/privacy}',\n",
       "   'received_events_url': 'https://api.github.com/users/StevenLi-DS/received_events',\n",
       "   'type': 'User',\n",
       "   'site_admin': False},\n",
       "  'labels': [{'id': 76812,\n",
       "    'node_id': 'MDU6TGFiZWw3NjgxMg==',\n",
       "    'url': 'https://api.github.com/repos/pandas-dev/pandas/labels/Enhancement',\n",
       "    'name': 'Enhancement',\n",
       "    'color': '4E9A06',\n",
       "    'default': False,\n",
       "    'description': None},\n",
       "   {'id': 1954720290,\n",
       "    'node_id': 'MDU6TGFiZWwxOTU0NzIwMjkw',\n",
       "    'url': 'https://api.github.com/repos/pandas-dev/pandas/labels/Needs%20Triage',\n",
       "    'name': 'Needs Triage',\n",
       "    'color': '0052cc',\n",
       "    'default': False,\n",
       "    'description': 'Issue that has not been reviewed by a pandas team member'}],\n",
       "  'state': 'open',\n",
       "  'locked': False,\n",
       "  'assignee': None,\n",
       "  'assignees': [],\n",
       "  'milestone': None,\n",
       "  'comments': 6,\n",
       "  'created_at': '2022-09-25T00:54:26Z',\n",
       "  'updated_at': '2022-09-25T15:15:32Z',\n",
       "  'closed_at': None,\n",
       "  'author_association': 'NONE',\n",
       "  'active_lock_reason': None,\n",
       "  'body': \"### Feature Type\\n\\n- [X] Adding new functionality to pandas\\n\\n- [ ] Changing existing functionality in pandas\\n\\n- [ ] Removing existing functionality in pandas\\n\\n\\n### Problem Description\\n\\nI wish I could check the underlying code for each value against a categorical column directly without indexing and using `cat.codes`\\r\\n\\r\\nAssume I have the following dataframe\\r\\n```python\\r\\nimport pandas as pd\\r\\nfrom pandas.api.types import CategoricalDtype\\r\\n\\r\\ndata = {\\r\\n    'quarter': ['2019Q4', '2020Q1', '2020Q2', '2020Q3'],\\r\\n    'num': [12, 23, 34, 67]\\r\\n}\\r\\ndf = pd.DataFrame(data=data)\\r\\n\\r\\ncat = CategoricalDtype(categories=data['quarter'], ordered=True)\\r\\ndf.quarter = df.quarter.astype(cat)\\r\\n```\\r\\nI need to select all the rows *after* `2020Q2`. I have to first find the underlying code of the value/label `2020Q2`, but I can only do so by indexing the dataframe against it and then use `cat.codes`, and then indexing the array return to get the first value. This is a little bit tedious.\\r\\n\\r\\n```python\\r\\nc = df[df.quarter == '2020Q2'].quarter.cat.codes.values[0]\\r\\ndf[df.quarter.cat.codes > c]\\r\\n```\\n\\n### Feature Description\\n\\nRight now if you use `df.quarter.dtype.categories`, it only returns the categories as a list\\r\\n```\\r\\nIndex(['2019Q4', '2020Q1', '2020Q2', '2020Q3'], dtype='object')\\r\\n```\\r\\nIt would be great if there is a attribute to return a map of categories and codes together in a dictionary so that users could simply find the codes by using categories as dict keys\\r\\nFor example\\r\\n```\\r\\ndf.df.quarter.dtype.cats_codes\\r\\n```\\r\\nreturns\\r\\n```\\r\\n{'2019Q4': 1, '2020Q1': 2, '2020Q2': 3, '2020Q3': 4}\\r\\n```\\n\\n### Alternative Solutions\\n\\nMaybe it could also be a `get_cat_code()` function in pandas api so that users could input a category to get the underlying code, such as `get_cat_code(cat='2020Q2')`\\n\\n### Additional Context\\n\\n_No response_\",\n",
       "  'reactions': {'url': 'https://api.github.com/repos/pandas-dev/pandas/issues/48766/reactions',\n",
       "   'total_count': 0,\n",
       "   '+1': 0,\n",
       "   '-1': 0,\n",
       "   'laugh': 0,\n",
       "   'hooray': 0,\n",
       "   'confused': 0,\n",
       "   'heart': 0,\n",
       "   'rocket': 0,\n",
       "   'eyes': 0},\n",
       "  'timeline_url': 'https://api.github.com/repos/pandas-dev/pandas/issues/48766/timeline',\n",
       "  'performed_via_github_app': None,\n",
       "  'state_reason': None},\n",
       " {'url': 'https://api.github.com/repos/pandas-dev/pandas/issues/48765',\n",
       "  'repository_url': 'https://api.github.com/repos/pandas-dev/pandas',\n",
       "  'labels_url': 'https://api.github.com/repos/pandas-dev/pandas/issues/48765/labels{/name}',\n",
       "  'comments_url': 'https://api.github.com/repos/pandas-dev/pandas/issues/48765/comments',\n",
       "  'events_url': 'https://api.github.com/repos/pandas-dev/pandas/issues/48765/events',\n",
       "  'html_url': 'https://github.com/pandas-dev/pandas/issues/48765',\n",
       "  'id': 1384814175,\n",
       "  'node_id': 'I_kwDOAA0YD85SipZf',\n",
       "  'number': 48765,\n",
       "  'title': 'BUG: df.plot(subplots=False) not drawing as expected',\n",
       "  'user': {'login': 'mrfrizzz',\n",
       "   'id': 113800322,\n",
       "   'node_id': 'U_kgDOBsh0gg',\n",
       "   'avatar_url': 'https://avatars.githubusercontent.com/u/113800322?v=4',\n",
       "   'gravatar_id': '',\n",
       "   'url': 'https://api.github.com/users/mrfrizzz',\n",
       "   'html_url': 'https://github.com/mrfrizzz',\n",
       "   'followers_url': 'https://api.github.com/users/mrfrizzz/followers',\n",
       "   'following_url': 'https://api.github.com/users/mrfrizzz/following{/other_user}',\n",
       "   'gists_url': 'https://api.github.com/users/mrfrizzz/gists{/gist_id}',\n",
       "   'starred_url': 'https://api.github.com/users/mrfrizzz/starred{/owner}{/repo}',\n",
       "   'subscriptions_url': 'https://api.github.com/users/mrfrizzz/subscriptions',\n",
       "   'organizations_url': 'https://api.github.com/users/mrfrizzz/orgs',\n",
       "   'repos_url': 'https://api.github.com/users/mrfrizzz/repos',\n",
       "   'events_url': 'https://api.github.com/users/mrfrizzz/events{/privacy}',\n",
       "   'received_events_url': 'https://api.github.com/users/mrfrizzz/received_events',\n",
       "   'type': 'User',\n",
       "   'site_admin': False},\n",
       "  'labels': [{'id': 76811,\n",
       "    'node_id': 'MDU6TGFiZWw3NjgxMQ==',\n",
       "    'url': 'https://api.github.com/repos/pandas-dev/pandas/labels/Bug',\n",
       "    'name': 'Bug',\n",
       "    'color': 'e10c02',\n",
       "    'default': False,\n",
       "    'description': None},\n",
       "   {'id': 1954720290,\n",
       "    'node_id': 'MDU6TGFiZWwxOTU0NzIwMjkw',\n",
       "    'url': 'https://api.github.com/repos/pandas-dev/pandas/labels/Needs%20Triage',\n",
       "    'name': 'Needs Triage',\n",
       "    'color': '0052cc',\n",
       "    'default': False,\n",
       "    'description': 'Issue that has not been reviewed by a pandas team member'}],\n",
       "  'state': 'open',\n",
       "  'locked': False,\n",
       "  'assignee': None,\n",
       "  'assignees': [],\n",
       "  'milestone': None,\n",
       "  'comments': 2,\n",
       "  'created_at': '2022-09-24T21:12:41Z',\n",
       "  'updated_at': '2022-09-25T16:09:45Z',\n",
       "  'closed_at': None,\n",
       "  'author_association': 'NONE',\n",
       "  'active_lock_reason': None,\n",
       "  'body': '### Pandas version checks\\n\\n- [X] I have checked that this issue has not already been reported.\\n\\n- [x] I have confirmed this bug exists on the [latest version](https://pandas.pydata.org/docs/whatsnew/index.html) of pandas.\\n\\n- [x] I have confirmed this bug exists on the main branch of pandas.\\n\\n\\n### Reproducible Example\\n\\n```python\\nclass ProcessPlotter(object):\\r\\n    def __init__(self):\\r\\n        self.index = False\\r\\n        self.columns = []\\r\\n        self.df = False\\r\\n        self._df = pd.DataFrame()\\r\\n\\r\\n    def terminate(self):\\r\\n        plt.close(\\'all\\')\\r\\n\\r\\n    # HERE \\r\\n    # data sample \\r\\n    # {(4, 0): -0.009916651004225008, (4, 1): -1.0548021013814015e-07, (4, 3): -0.000925287713841344, (4, 5): -0.32002892931690496, (4, 6): -0.09059265200196842}\\r\\n    def _dataframe(self, data):\\r\\n        _datetime = dt.datetime.now().strftime(\\'%H:%M:%S.%f\\')\\r\\n        _data = { _datetime: data}\\r\\n        _from_to = [k for k, v in data.items()]\\r\\n        _df = pd.DataFrame(_data, index=_from_to)\\r\\n        self._df = pd.concat([self._df, _df], axis=1)\\r\\n        print(self._df)\\r\\n        print(self._df.transpose())\\r\\n        return self._df.transpose()\\r\\n\\r\\n    def call_back(self):\\r\\n        while self.pipe.poll():\\r\\n            data = self.pipe.recv()\\r\\n            if data is None:\\r\\n                self.terminate()\\r\\n                return False\\r\\n            else:\\r\\n                # HERE switching subplots value\\r\\n                self._dataframe(data).plot(style=\\'.\\', subplots=True, rot=45,\\r\\n                    ax=self.ax, sharex=True, sharey=True)\\r\\n\\r\\n            self.fig.canvas.draw()\\r\\n        return True\\r\\n\\r\\n\\r\\n    def __call__(self, pipe):\\r\\n        self.pipe = pipe\\r\\n        self.fig, self.ax = plt.subplots(sharex=True, sharey=True)\\r\\n        timer = self.fig.canvas.new_timer(interval=1000)\\r\\n        timer.add_callback(self.call_back)\\r\\n        timer.start()\\r\\n        plt.subplots_adjust(bottom=0.1, top=1, left=0.1, right=1)\\r\\n        plt.legend()\\r\\n        plt.show()\\n```\\n\\n\\n### Issue Description\\n\\ndf.plot(.., subplots=True, ..) everything is fine\\r\\n<img width=\"1440\" alt=\"True\" src=\"https://user-images.githubusercontent.com/113800322/192118404-9625f0f8-7685-4743-8cb1-cd332ff7adea.png\">\\r\\n\\r\\ndf.plot(.., subplots=False, ..) duplicate labels, label colors changing every draw, not sharing the same x\\r\\n<img width=\"1440\" alt=\"False\" src=\"https://user-images.githubusercontent.com/113800322/192118343-f33d9094-af84-44a3-b563-f6562c8168e7.png\">\\r\\n\\r\\nprint(self._df)\\r\\n<img width=\"868\" alt=\"df\" src=\"https://user-images.githubusercontent.com/113800322/192118587-e7fdc4d3-b257-4d52-8770-ef0b74ff5d81.png\">\\r\\n\\r\\n\\r\\nprint(self._df.transpose())\\r\\n<img width=\"918\" alt=\"df transpose\" src=\"https://user-images.githubusercontent.com/113800322/192118544-5c5b41eb-ea45-4386-8545-818935fe22c5.png\">\\r\\n\\n\\n### Expected Behavior\\n\\nA merge of all subplots using subplots=False\\n\\n### Installed Versions\\n\\n<details>\\r\\n\\r\\nINSTALLED VERSIONS\\r\\n------------------\\r\\ncommit           : 87cfe4e38bafe7300a6003a1d18bd80f3f77c763\\r\\npython           : 3.10.6.final.0\\r\\npython-bits      : 64\\r\\nOS               : Darwin\\r\\nOS-release       : 21.6.0\\r\\nVersion          : Darwin Kernel Version 21.6.0: Mon Aug 22 20:17:10 PDT 2022; root:xnu-8020.140.49~2/RELEASE_X86_64\\r\\nmachine          : x86_64\\r\\nprocessor        : i386\\r\\nbyteorder        : little\\r\\nLC_ALL           : None\\r\\nLANG             : \\r\\nLOCALE           : \\r\\n\\r\\npandas           : 1.5.0\\r\\nnumpy            : 1.23.3\\r\\npytz             : 2022.2.1\\r\\ndateutil         : 2.8.2\\r\\nsetuptools       : 63.4.3\\r\\npip              : 22.2.2\\r\\nCython           : None\\r\\npytest           : None\\r\\nhypothesis       : None\\r\\nsphinx           : None\\r\\nblosc            : None\\r\\nfeather          : None\\r\\nxlsxwriter       : None\\r\\nlxml.etree       : None\\r\\nhtml5lib         : None\\r\\npymysql          : None\\r\\npsycopg2         : None\\r\\njinja2           : 3.1.2\\r\\nIPython          : None\\r\\npandas_datareader: None\\r\\nbs4              : None\\r\\nbottleneck       : None\\r\\nbrotli           : None\\r\\nfastparquet      : None\\r\\nfsspec           : None\\r\\ngcsfs            : None\\r\\nmatplotlib       : 3.6.0\\r\\nnumba            : None\\r\\nnumexpr          : None\\r\\nodfpy            : None\\r\\nopenpyxl         : None\\r\\npandas_gbq       : None\\r\\npyarrow          : None\\r\\npyreadstat       : None\\r\\npyxlsb           : None\\r\\ns3fs             : None\\r\\nscipy            : None\\r\\nsnappy           : None\\r\\nsqlalchemy       : 1.4.15\\r\\ntables           : None\\r\\ntabulate         : None\\r\\nxarray           : None\\r\\nxlrd             : None\\r\\nxlwt             : None\\r\\nzstandard        : None\\r\\ntzdata           : 2022.2\\r\\n\\r\\n</details>\\r\\n',\n",
       "  'reactions': {'url': 'https://api.github.com/repos/pandas-dev/pandas/issues/48765/reactions',\n",
       "   'total_count': 0,\n",
       "   '+1': 0,\n",
       "   '-1': 0,\n",
       "   'laugh': 0,\n",
       "   'hooray': 0,\n",
       "   'confused': 0,\n",
       "   'heart': 0,\n",
       "   'rocket': 0,\n",
       "   'eyes': 0},\n",
       "  'timeline_url': 'https://api.github.com/repos/pandas-dev/pandas/issues/48765/timeline',\n",
       "  'performed_via_github_app': None,\n",
       "  'state_reason': None},\n",
       " {'url': 'https://api.github.com/repos/pandas-dev/pandas/issues/48764',\n",
       "  'repository_url': 'https://api.github.com/repos/pandas-dev/pandas',\n",
       "  'labels_url': 'https://api.github.com/repos/pandas-dev/pandas/issues/48764/labels{/name}',\n",
       "  'comments_url': 'https://api.github.com/repos/pandas-dev/pandas/issues/48764/comments',\n",
       "  'events_url': 'https://api.github.com/repos/pandas-dev/pandas/issues/48764/events',\n",
       "  'html_url': 'https://github.com/pandas-dev/pandas/pull/48764',\n",
       "  'id': 1384800999,\n",
       "  'node_id': 'PR_kwDOAA0YD84_jAYU',\n",
       "  'number': 48764,\n",
       "  'title': 'SAS7BDAT parser: Drop unused instance variables',\n",
       "  'user': {'login': 'jonashaag',\n",
       "   'id': 175722,\n",
       "   'node_id': 'MDQ6VXNlcjE3NTcyMg==',\n",
       "   'avatar_url': 'https://avatars.githubusercontent.com/u/175722?v=4',\n",
       "   'gravatar_id': '',\n",
       "   'url': 'https://api.github.com/users/jonashaag',\n",
       "   'html_url': 'https://github.com/jonashaag',\n",
       "   'followers_url': 'https://api.github.com/users/jonashaag/followers',\n",
       "   'following_url': 'https://api.github.com/users/jonashaag/following{/other_user}',\n",
       "   'gists_url': 'https://api.github.com/users/jonashaag/gists{/gist_id}',\n",
       "   'starred_url': 'https://api.github.com/users/jonashaag/starred{/owner}{/repo}',\n",
       "   'subscriptions_url': 'https://api.github.com/users/jonashaag/subscriptions',\n",
       "   'organizations_url': 'https://api.github.com/users/jonashaag/orgs',\n",
       "   'repos_url': 'https://api.github.com/users/jonashaag/repos',\n",
       "   'events_url': 'https://api.github.com/users/jonashaag/events{/privacy}',\n",
       "   'received_events_url': 'https://api.github.com/users/jonashaag/received_events',\n",
       "   'type': 'User',\n",
       "   'site_admin': False},\n",
       "  'labels': [{'id': 211029535,\n",
       "    'node_id': 'MDU6TGFiZWwyMTEwMjk1MzU=',\n",
       "    'url': 'https://api.github.com/repos/pandas-dev/pandas/labels/Clean',\n",
       "    'name': 'Clean',\n",
       "    'color': '207de5',\n",
       "    'default': False,\n",
       "    'description': None},\n",
       "   {'id': 258745163,\n",
       "    'node_id': 'MDU6TGFiZWwyNTg3NDUxNjM=',\n",
       "    'url': 'https://api.github.com/repos/pandas-dev/pandas/labels/IO%20SAS',\n",
       "    'name': 'IO SAS',\n",
       "    'color': '5319e7',\n",
       "    'default': False,\n",
       "    'description': 'SAS: read_sas'}],\n",
       "  'state': 'open',\n",
       "  'locked': False,\n",
       "  'assignee': None,\n",
       "  'assignees': [],\n",
       "  'milestone': None,\n",
       "  'comments': 0,\n",
       "  'created_at': '2022-09-24T20:20:35Z',\n",
       "  'updated_at': '2022-09-26T22:35:05Z',\n",
       "  'closed_at': None,\n",
       "  'author_association': 'CONTRIBUTOR',\n",
       "  'active_lock_reason': None,\n",
       "  'draft': False,\n",
       "  'pull_request': {'url': 'https://api.github.com/repos/pandas-dev/pandas/pulls/48764',\n",
       "   'html_url': 'https://github.com/pandas-dev/pandas/pull/48764',\n",
       "   'diff_url': 'https://github.com/pandas-dev/pandas/pull/48764.diff',\n",
       "   'patch_url': 'https://github.com/pandas-dev/pandas/pull/48764.patch',\n",
       "   'merged_at': None},\n",
       "  'body': \"I'm suggesting this as an alternative to https://github.com/pandas-dev/pandas/pull/48004.\\r\\n\\r\\nThe `_page_count` attribute is read incorrectly (see https://github.com/pandas-dev/pandas/pull/48004) but it's also unused. I'm removing it here, along with some other unused things.\\r\\n\\r\\n- [ ] closes #xxxx (Replace xxxx with the Github issue number)\\r\\n- [ ] [Tests added and passed](https://pandas.pydata.org/pandas-docs/dev/development/contributing_codebase.html#writing-tests) if fixing a bug or adding a new feature\\r\\n- [ ] All [code checks passed](https://pandas.pydata.org/pandas-docs/dev/development/contributing_codebase.html#pre-commit).\\r\\n- [ ] Added [type annotations](https://pandas.pydata.org/pandas-docs/dev/development/contributing_codebase.html#type-hints) to new arguments/methods/functions.\\r\\n- [ ] Added an entry in the latest `doc/source/whatsnew/vX.X.X.rst` file if fixing a bug or adding a new feature.\\r\\n\",\n",
       "  'reactions': {'url': 'https://api.github.com/repos/pandas-dev/pandas/issues/48764/reactions',\n",
       "   'total_count': 0,\n",
       "   '+1': 0,\n",
       "   '-1': 0,\n",
       "   'laugh': 0,\n",
       "   'hooray': 0,\n",
       "   'confused': 0,\n",
       "   'heart': 0,\n",
       "   'rocket': 0,\n",
       "   'eyes': 0},\n",
       "  'timeline_url': 'https://api.github.com/repos/pandas-dev/pandas/issues/48764/timeline',\n",
       "  'performed_via_github_app': None,\n",
       "  'state_reason': None},\n",
       " {'url': 'https://api.github.com/repos/pandas-dev/pandas/issues/48763',\n",
       "  'repository_url': 'https://api.github.com/repos/pandas-dev/pandas',\n",
       "  'labels_url': 'https://api.github.com/repos/pandas-dev/pandas/issues/48763/labels{/name}',\n",
       "  'comments_url': 'https://api.github.com/repos/pandas-dev/pandas/issues/48763/comments',\n",
       "  'events_url': 'https://api.github.com/repos/pandas-dev/pandas/issues/48763/events',\n",
       "  'html_url': 'https://github.com/pandas-dev/pandas/issues/48763',\n",
       "  'id': 1384789416,\n",
       "  'node_id': 'I_kwDOAA0YD85SijWo',\n",
       "  'number': 48763,\n",
       "  'title': 'BUG: pd.Series.unstack with mixed names types',\n",
       "  'user': {'login': 'gravesee',\n",
       "   'id': 1675613,\n",
       "   'node_id': 'MDQ6VXNlcjE2NzU2MTM=',\n",
       "   'avatar_url': 'https://avatars.githubusercontent.com/u/1675613?v=4',\n",
       "   'gravatar_id': '',\n",
       "   'url': 'https://api.github.com/users/gravesee',\n",
       "   'html_url': 'https://github.com/gravesee',\n",
       "   'followers_url': 'https://api.github.com/users/gravesee/followers',\n",
       "   'following_url': 'https://api.github.com/users/gravesee/following{/other_user}',\n",
       "   'gists_url': 'https://api.github.com/users/gravesee/gists{/gist_id}',\n",
       "   'starred_url': 'https://api.github.com/users/gravesee/starred{/owner}{/repo}',\n",
       "   'subscriptions_url': 'https://api.github.com/users/gravesee/subscriptions',\n",
       "   'organizations_url': 'https://api.github.com/users/gravesee/orgs',\n",
       "   'repos_url': 'https://api.github.com/users/gravesee/repos',\n",
       "   'events_url': 'https://api.github.com/users/gravesee/events{/privacy}',\n",
       "   'received_events_url': 'https://api.github.com/users/gravesee/received_events',\n",
       "   'type': 'User',\n",
       "   'site_admin': False},\n",
       "  'labels': [{'id': 76811,\n",
       "    'node_id': 'MDU6TGFiZWw3NjgxMQ==',\n",
       "    'url': 'https://api.github.com/repos/pandas-dev/pandas/labels/Bug',\n",
       "    'name': 'Bug',\n",
       "    'color': 'e10c02',\n",
       "    'default': False,\n",
       "    'description': None},\n",
       "   {'id': 1954720290,\n",
       "    'node_id': 'MDU6TGFiZWwxOTU0NzIwMjkw',\n",
       "    'url': 'https://api.github.com/repos/pandas-dev/pandas/labels/Needs%20Triage',\n",
       "    'name': 'Needs Triage',\n",
       "    'color': '0052cc',\n",
       "    'default': False,\n",
       "    'description': 'Issue that has not been reviewed by a pandas team member'}],\n",
       "  'state': 'open',\n",
       "  'locked': False,\n",
       "  'assignee': {'login': 'sebasbach',\n",
       "   'id': 40642601,\n",
       "   'node_id': 'MDQ6VXNlcjQwNjQyNjAx',\n",
       "   'avatar_url': 'https://avatars.githubusercontent.com/u/40642601?v=4',\n",
       "   'gravatar_id': '',\n",
       "   'url': 'https://api.github.com/users/sebasbach',\n",
       "   'html_url': 'https://github.com/sebasbach',\n",
       "   'followers_url': 'https://api.github.com/users/sebasbach/followers',\n",
       "   'following_url': 'https://api.github.com/users/sebasbach/following{/other_user}',\n",
       "   'gists_url': 'https://api.github.com/users/sebasbach/gists{/gist_id}',\n",
       "   'starred_url': 'https://api.github.com/users/sebasbach/starred{/owner}{/repo}',\n",
       "   'subscriptions_url': 'https://api.github.com/users/sebasbach/subscriptions',\n",
       "   'organizations_url': 'https://api.github.com/users/sebasbach/orgs',\n",
       "   'repos_url': 'https://api.github.com/users/sebasbach/repos',\n",
       "   'events_url': 'https://api.github.com/users/sebasbach/events{/privacy}',\n",
       "   'received_events_url': 'https://api.github.com/users/sebasbach/received_events',\n",
       "   'type': 'User',\n",
       "   'site_admin': False},\n",
       "  'assignees': [{'login': 'sebasbach',\n",
       "    'id': 40642601,\n",
       "    'node_id': 'MDQ6VXNlcjQwNjQyNjAx',\n",
       "    'avatar_url': 'https://avatars.githubusercontent.com/u/40642601?v=4',\n",
       "    'gravatar_id': '',\n",
       "    'url': 'https://api.github.com/users/sebasbach',\n",
       "    'html_url': 'https://github.com/sebasbach',\n",
       "    'followers_url': 'https://api.github.com/users/sebasbach/followers',\n",
       "    'following_url': 'https://api.github.com/users/sebasbach/following{/other_user}',\n",
       "    'gists_url': 'https://api.github.com/users/sebasbach/gists{/gist_id}',\n",
       "    'starred_url': 'https://api.github.com/users/sebasbach/starred{/owner}{/repo}',\n",
       "    'subscriptions_url': 'https://api.github.com/users/sebasbach/subscriptions',\n",
       "    'organizations_url': 'https://api.github.com/users/sebasbach/orgs',\n",
       "    'repos_url': 'https://api.github.com/users/sebasbach/repos',\n",
       "    'events_url': 'https://api.github.com/users/sebasbach/events{/privacy}',\n",
       "    'received_events_url': 'https://api.github.com/users/sebasbach/received_events',\n",
       "    'type': 'User',\n",
       "    'site_admin': False}],\n",
       "  'milestone': None,\n",
       "  'comments': 3,\n",
       "  'created_at': '2022-09-24T19:31:44Z',\n",
       "  'updated_at': '2022-09-25T15:10:41Z',\n",
       "  'closed_at': None,\n",
       "  'author_association': 'NONE',\n",
       "  'active_lock_reason': None,\n",
       "  'body': '### Pandas version checks\\r\\n\\r\\n- [X] I have checked that this issue has not already been reported.\\r\\n\\r\\n- [X] I have confirmed this bug exists on the [latest version](https://pandas.pydata.org/docs/whatsnew/index.html) of pandas.\\r\\n\\r\\n- [ ] I have confirmed this bug exists on the main branch of pandas.\\r\\n\\r\\n\\r\\n### Reproducible Example\\r\\n\\r\\n```python\\r\\nimport pandas as pd\\r\\n\\r\\narrays = [[\"a\", \"a\", \"a\", \"a\"], [1, 1, 2, 2], [\"red\", \"blue\", \"red\", \"blue\"]]\\r\\n\\r\\n# create multi-index with mixed name types\\r\\nidx = pd.MultiIndex.from_arrays(arrays, names=(\"letter\", 0, \"color\"))\\r\\ns = pd.Series([1,2,3,4], index=idx)\\r\\n\\r\\nprint(s.unstack(\\'letter\\'))\\r\\n\\r\\n# output does not show the \\'letter\\' level unstacked\\r\\n#> 0             1  2\\r\\n#> letter color\\r\\n#> a      blue   2  4\\r\\n#>        red    1  3\\r\\n\\r\\n# change the name to a string\\r\\nidx = pd.MultiIndex.from_arrays(arrays, names=(\"letter\", \"0\", \"color\"))\\r\\ns = pd.Series([1,2,3,4], index=idx)\\r\\n\\r\\nprint(s.unstack(\\'letter\\'))\\r\\n\\r\\n# output shows the correct level unstacked\\r\\n#> letter   a\\r\\n#> 0 color\\r\\n#> 1 blue   2\\r\\n#>   red    1\\r\\n#> 2 blue   4\\r\\n#>   red    3\\r\\n```\\r\\n\\r\\n\\r\\n### Issue Description\\r\\n\\r\\nWhen calling pd.Series.unstack using a multi-index with mixed string and integer names, the incorrect level is unstacked when referencing a string level. When all of the levels are string, however, the correct level is unstacked.\\r\\n\\r\\n### Expected Behavior\\r\\n\\r\\npd.Series.unstack should always unstack the requested level regardless of the types of the level names in the multi-index\\r\\n\\r\\n### Installed Versions\\r\\n\\r\\n<details>\\r\\n\\r\\nINSTALLED VERSIONS\\r\\n------------------\\r\\ncommit           : 87cfe4e38bafe7300a6003a1d18bd80f3f77c763\\r\\npython           : 3.10.0.final.0\\r\\npython-bits      : 64\\r\\nOS               : Windows\\r\\nOS-release       : 10\\r\\nVersion          : 10.0.19044\\r\\nmachine          : AMD64\\r\\nprocessor        : Intel64 Family 6 Model 140 Stepping 1, GenuineIntel\\r\\nbyteorder        : little\\r\\nLC_ALL           : None\\r\\nLANG             : en_US.UTF-8\\r\\nLOCALE           : English_United States.1252\\r\\n\\r\\npandas           : 1.5.0\\r\\nnumpy            : 1.23.3\\r\\npytz             : 2022.2.1\\r\\ndateutil         : 2.8.2\\r\\nsetuptools       : 57.4.0\\r\\npip              : 21.2.3\\r\\nCython           : None\\r\\npytest           : None\\r\\nhypothesis       : None\\r\\nsphinx           : None\\r\\nblosc            : None\\r\\nfeather          : None\\r\\nxlsxwriter       : None\\r\\nlxml.etree       : 4.9.1\\r\\nhtml5lib         : None\\r\\npymysql          : None\\r\\npsycopg2         : None\\r\\njinja2           : 3.1.2\\r\\nIPython          : None\\r\\npandas_datareader: None\\r\\nbs4              : None\\r\\nbottleneck       : None\\r\\nbrotli           : None\\r\\nfastparquet      : None\\r\\nfsspec           : None\\r\\ngcsfs            : None\\r\\nmatplotlib       : 3.6.0\\r\\nnumba            : None\\r\\nnumexpr          : None\\r\\nodfpy            : None\\r\\nopenpyxl         : None\\r\\npandas_gbq       : None\\r\\npyarrow          : None\\r\\npyreadstat       : None\\r\\npyxlsb           : None\\r\\ns3fs             : None\\r\\nscipy            : None\\r\\nsnappy           : None\\r\\nsqlalchemy       : None\\r\\ntables           : None\\r\\ntabulate         : None\\r\\nxarray           : None\\r\\nxlrd             : None\\r\\nxlwt             : None\\r\\nzstandard        : None\\r\\ntzdata           : None\\r\\n\\r\\n</details>\\r\\n',\n",
       "  'reactions': {'url': 'https://api.github.com/repos/pandas-dev/pandas/issues/48763/reactions',\n",
       "   'total_count': 0,\n",
       "   '+1': 0,\n",
       "   '-1': 0,\n",
       "   'laugh': 0,\n",
       "   'hooray': 0,\n",
       "   'confused': 0,\n",
       "   'heart': 0,\n",
       "   'rocket': 0,\n",
       "   'eyes': 0},\n",
       "  'timeline_url': 'https://api.github.com/repos/pandas-dev/pandas/issues/48763/timeline',\n",
       "  'performed_via_github_app': None,\n",
       "  'state_reason': None}]"
      ]
     },
     "execution_count": 102,
     "metadata": {},
     "output_type": "execute_result"
    }
   ],
   "source": [
    "data = resp.json()\n",
    "data"
   ]
  },
  {
   "cell_type": "code",
   "execution_count": 103,
   "id": "b60fde3a-9407-41a9-ac39-318c1efb2e44",
   "metadata": {},
   "outputs": [
    {
     "data": {
      "text/plain": [
       "'https://api.github.com/repos/pandas-dev/pandas/issues/48806'"
      ]
     },
     "execution_count": 103,
     "metadata": {},
     "output_type": "execute_result"
    }
   ],
   "source": [
    "data[0]['url']  #접근"
   ]
  },
  {
   "cell_type": "code",
   "execution_count": 104,
   "id": "d0901406-76d9-41bf-a3b0-81f565ce0ccf",
   "metadata": {
    "collapsed": true,
    "jupyter": {
     "outputs_hidden": true
    },
    "tags": []
   },
   "outputs": [
    {
     "data": {
      "text/html": [
       "<div>\n",
       "<style scoped>\n",
       "    .dataframe tbody tr th:only-of-type {\n",
       "        vertical-align: middle;\n",
       "    }\n",
       "\n",
       "    .dataframe tbody tr th {\n",
       "        vertical-align: top;\n",
       "    }\n",
       "\n",
       "    .dataframe thead th {\n",
       "        text-align: right;\n",
       "    }\n",
       "</style>\n",
       "<table border=\"1\" class=\"dataframe\">\n",
       "  <thead>\n",
       "    <tr style=\"text-align: right;\">\n",
       "      <th></th>\n",
       "      <th>url</th>\n",
       "      <th>repository_url</th>\n",
       "      <th>labels_url</th>\n",
       "      <th>comments_url</th>\n",
       "      <th>events_url</th>\n",
       "      <th>html_url</th>\n",
       "      <th>id</th>\n",
       "      <th>node_id</th>\n",
       "      <th>number</th>\n",
       "      <th>title</th>\n",
       "      <th>...</th>\n",
       "      <th>closed_at</th>\n",
       "      <th>author_association</th>\n",
       "      <th>active_lock_reason</th>\n",
       "      <th>body</th>\n",
       "      <th>reactions</th>\n",
       "      <th>timeline_url</th>\n",
       "      <th>performed_via_github_app</th>\n",
       "      <th>state_reason</th>\n",
       "      <th>draft</th>\n",
       "      <th>pull_request</th>\n",
       "    </tr>\n",
       "  </thead>\n",
       "  <tbody>\n",
       "    <tr>\n",
       "      <th>0</th>\n",
       "      <td>https://api.github.com/repos/pandas-dev/pandas...</td>\n",
       "      <td>https://api.github.com/repos/pandas-dev/pandas</td>\n",
       "      <td>https://api.github.com/repos/pandas-dev/pandas...</td>\n",
       "      <td>https://api.github.com/repos/pandas-dev/pandas...</td>\n",
       "      <td>https://api.github.com/repos/pandas-dev/pandas...</td>\n",
       "      <td>https://github.com/pandas-dev/pandas/issues/48806</td>\n",
       "      <td>1387444078</td>\n",
       "      <td>I_kwDOAA0YD85Ssrdu</td>\n",
       "      <td>48806</td>\n",
       "      <td>BUG: Bar plot with integer index does not plac...</td>\n",
       "      <td>...</td>\n",
       "      <td>None</td>\n",
       "      <td>NONE</td>\n",
       "      <td>None</td>\n",
       "      <td>### Pandas version checks\\n\\n- [X] I have chec...</td>\n",
       "      <td>{'url': 'https://api.github.com/repos/pandas-d...</td>\n",
       "      <td>https://api.github.com/repos/pandas-dev/pandas...</td>\n",
       "      <td>None</td>\n",
       "      <td>None</td>\n",
       "      <td>NaN</td>\n",
       "      <td>NaN</td>\n",
       "    </tr>\n",
       "    <tr>\n",
       "      <th>1</th>\n",
       "      <td>https://api.github.com/repos/pandas-dev/pandas...</td>\n",
       "      <td>https://api.github.com/repos/pandas-dev/pandas</td>\n",
       "      <td>https://api.github.com/repos/pandas-dev/pandas...</td>\n",
       "      <td>https://api.github.com/repos/pandas-dev/pandas...</td>\n",
       "      <td>https://api.github.com/repos/pandas-dev/pandas...</td>\n",
       "      <td>https://github.com/pandas-dev/pandas/pull/48805</td>\n",
       "      <td>1387090446</td>\n",
       "      <td>PR_kwDOAA0YD84_qPpH</td>\n",
       "      <td>48805</td>\n",
       "      <td>Added padding and fixed columns for sponsor lo...</td>\n",
       "      <td>...</td>\n",
       "      <td>None</td>\n",
       "      <td>NONE</td>\n",
       "      <td>None</td>\n",
       "      <td>Added padding and fixed columns for sponsor lo...</td>\n",
       "      <td>{'url': 'https://api.github.com/repos/pandas-d...</td>\n",
       "      <td>https://api.github.com/repos/pandas-dev/pandas...</td>\n",
       "      <td>None</td>\n",
       "      <td>None</td>\n",
       "      <td>False</td>\n",
       "      <td>{'url': 'https://api.github.com/repos/pandas-d...</td>\n",
       "    </tr>\n",
       "    <tr>\n",
       "      <th>2</th>\n",
       "      <td>https://api.github.com/repos/pandas-dev/pandas...</td>\n",
       "      <td>https://api.github.com/repos/pandas-dev/pandas</td>\n",
       "      <td>https://api.github.com/repos/pandas-dev/pandas...</td>\n",
       "      <td>https://api.github.com/repos/pandas-dev/pandas...</td>\n",
       "      <td>https://api.github.com/repos/pandas-dev/pandas...</td>\n",
       "      <td>https://github.com/pandas-dev/pandas/pull/48804</td>\n",
       "      <td>1387017557</td>\n",
       "      <td>PR_kwDOAA0YD84_qAIu</td>\n",
       "      <td>48804</td>\n",
       "      <td>TST: Suppress Series constructor warning</td>\n",
       "      <td>...</td>\n",
       "      <td>None</td>\n",
       "      <td>MEMBER</td>\n",
       "      <td>None</td>\n",
       "      <td>None</td>\n",
       "      <td>{'url': 'https://api.github.com/repos/pandas-d...</td>\n",
       "      <td>https://api.github.com/repos/pandas-dev/pandas...</td>\n",
       "      <td>None</td>\n",
       "      <td>None</td>\n",
       "      <td>False</td>\n",
       "      <td>{'url': 'https://api.github.com/repos/pandas-d...</td>\n",
       "    </tr>\n",
       "    <tr>\n",
       "      <th>3</th>\n",
       "      <td>https://api.github.com/repos/pandas-dev/pandas...</td>\n",
       "      <td>https://api.github.com/repos/pandas-dev/pandas</td>\n",
       "      <td>https://api.github.com/repos/pandas-dev/pandas...</td>\n",
       "      <td>https://api.github.com/repos/pandas-dev/pandas...</td>\n",
       "      <td>https://api.github.com/repos/pandas-dev/pandas...</td>\n",
       "      <td>https://github.com/pandas-dev/pandas/issues/48803</td>\n",
       "      <td>1386980560</td>\n",
       "      <td>I_kwDOAA0YD85Sq6TQ</td>\n",
       "      <td>48803</td>\n",
       "      <td>DOC: Remove unsupported parameters in `Resampl...</td>\n",
       "      <td>...</td>\n",
       "      <td>None</td>\n",
       "      <td>NONE</td>\n",
       "      <td>None</td>\n",
       "      <td>### Pandas version checks\\n\\n- [X] I have chec...</td>\n",
       "      <td>{'url': 'https://api.github.com/repos/pandas-d...</td>\n",
       "      <td>https://api.github.com/repos/pandas-dev/pandas...</td>\n",
       "      <td>None</td>\n",
       "      <td>None</td>\n",
       "      <td>NaN</td>\n",
       "      <td>NaN</td>\n",
       "    </tr>\n",
       "    <tr>\n",
       "      <th>4</th>\n",
       "      <td>https://api.github.com/repos/pandas-dev/pandas...</td>\n",
       "      <td>https://api.github.com/repos/pandas-dev/pandas</td>\n",
       "      <td>https://api.github.com/repos/pandas-dev/pandas...</td>\n",
       "      <td>https://api.github.com/repos/pandas-dev/pandas...</td>\n",
       "      <td>https://api.github.com/repos/pandas-dev/pandas...</td>\n",
       "      <td>https://github.com/pandas-dev/pandas/issues/48802</td>\n",
       "      <td>1386976936</td>\n",
       "      <td>I_kwDOAA0YD85Sq5ao</td>\n",
       "      <td>48802</td>\n",
       "      <td>ENH: support negative axis</td>\n",
       "      <td>...</td>\n",
       "      <td>None</td>\n",
       "      <td>CONTRIBUTOR</td>\n",
       "      <td>None</td>\n",
       "      <td>### Feature Type\\n\\n- [X] Adding new functiona...</td>\n",
       "      <td>{'url': 'https://api.github.com/repos/pandas-d...</td>\n",
       "      <td>https://api.github.com/repos/pandas-dev/pandas...</td>\n",
       "      <td>None</td>\n",
       "      <td>None</td>\n",
       "      <td>NaN</td>\n",
       "      <td>NaN</td>\n",
       "    </tr>\n",
       "    <tr>\n",
       "      <th>5</th>\n",
       "      <td>https://api.github.com/repos/pandas-dev/pandas...</td>\n",
       "      <td>https://api.github.com/repos/pandas-dev/pandas</td>\n",
       "      <td>https://api.github.com/repos/pandas-dev/pandas...</td>\n",
       "      <td>https://api.github.com/repos/pandas-dev/pandas...</td>\n",
       "      <td>https://api.github.com/repos/pandas-dev/pandas...</td>\n",
       "      <td>https://github.com/pandas-dev/pandas/pull/48800</td>\n",
       "      <td>1386839371</td>\n",
       "      <td>PR_kwDOAA0YD84_pawM</td>\n",
       "      <td>48800</td>\n",
       "      <td>Backport PR #48608 on branch 1.5.x (REGR: asse...</td>\n",
       "      <td>...</td>\n",
       "      <td>None</td>\n",
       "      <td>NONE</td>\n",
       "      <td>None</td>\n",
       "      <td>Backport PR #48608: REGR: assert_index_equal r...</td>\n",
       "      <td>{'url': 'https://api.github.com/repos/pandas-d...</td>\n",
       "      <td>https://api.github.com/repos/pandas-dev/pandas...</td>\n",
       "      <td>None</td>\n",
       "      <td>None</td>\n",
       "      <td>False</td>\n",
       "      <td>{'url': 'https://api.github.com/repos/pandas-d...</td>\n",
       "    </tr>\n",
       "    <tr>\n",
       "      <th>6</th>\n",
       "      <td>https://api.github.com/repos/pandas-dev/pandas...</td>\n",
       "      <td>https://api.github.com/repos/pandas-dev/pandas</td>\n",
       "      <td>https://api.github.com/repos/pandas-dev/pandas...</td>\n",
       "      <td>https://api.github.com/repos/pandas-dev/pandas...</td>\n",
       "      <td>https://api.github.com/repos/pandas-dev/pandas...</td>\n",
       "      <td>https://github.com/pandas-dev/pandas/pull/48797</td>\n",
       "      <td>1386822624</td>\n",
       "      <td>PR_kwDOAA0YD84_pXHI</td>\n",
       "      <td>48797</td>\n",
       "      <td>REGR: fix df.apply with keyword non-zero axis</td>\n",
       "      <td>...</td>\n",
       "      <td>None</td>\n",
       "      <td>CONTRIBUTOR</td>\n",
       "      <td>None</td>\n",
       "      <td>Fixes #48656. Builds on top of #48693.\\r\\n\\r\\n...</td>\n",
       "      <td>{'url': 'https://api.github.com/repos/pandas-d...</td>\n",
       "      <td>https://api.github.com/repos/pandas-dev/pandas...</td>\n",
       "      <td>None</td>\n",
       "      <td>None</td>\n",
       "      <td>False</td>\n",
       "      <td>{'url': 'https://api.github.com/repos/pandas-d...</td>\n",
       "    </tr>\n",
       "    <tr>\n",
       "      <th>7</th>\n",
       "      <td>https://api.github.com/repos/pandas-dev/pandas...</td>\n",
       "      <td>https://api.github.com/repos/pandas-dev/pandas</td>\n",
       "      <td>https://api.github.com/repos/pandas-dev/pandas...</td>\n",
       "      <td>https://api.github.com/repos/pandas-dev/pandas...</td>\n",
       "      <td>https://api.github.com/repos/pandas-dev/pandas...</td>\n",
       "      <td>https://github.com/pandas-dev/pandas/issues/48796</td>\n",
       "      <td>1386797027</td>\n",
       "      <td>I_kwDOAA0YD85SqNfj</td>\n",
       "      <td>48796</td>\n",
       "      <td>BUG: `pd.to_timedelta()` does not accept nulla...</td>\n",
       "      <td>...</td>\n",
       "      <td>None</td>\n",
       "      <td>CONTRIBUTOR</td>\n",
       "      <td>None</td>\n",
       "      <td>### Pandas version checks\\n\\n- [X] I have chec...</td>\n",
       "      <td>{'url': 'https://api.github.com/repos/pandas-d...</td>\n",
       "      <td>https://api.github.com/repos/pandas-dev/pandas...</td>\n",
       "      <td>None</td>\n",
       "      <td>None</td>\n",
       "      <td>NaN</td>\n",
       "      <td>NaN</td>\n",
       "    </tr>\n",
       "    <tr>\n",
       "      <th>8</th>\n",
       "      <td>https://api.github.com/repos/pandas-dev/pandas...</td>\n",
       "      <td>https://api.github.com/repos/pandas-dev/pandas</td>\n",
       "      <td>https://api.github.com/repos/pandas-dev/pandas...</td>\n",
       "      <td>https://api.github.com/repos/pandas-dev/pandas...</td>\n",
       "      <td>https://api.github.com/repos/pandas-dev/pandas...</td>\n",
       "      <td>https://github.com/pandas-dev/pandas/pull/48795</td>\n",
       "      <td>1386771887</td>\n",
       "      <td>PR_kwDOAA0YD84_pL-F</td>\n",
       "      <td>48795</td>\n",
       "      <td>Backport PR #48693 on branch 1.5.x (ENH: Make ...</td>\n",
       "      <td>...</td>\n",
       "      <td>None</td>\n",
       "      <td>NONE</td>\n",
       "      <td>None</td>\n",
       "      <td>Backport PR #48693: ENH: Make deprecate_nonkey...</td>\n",
       "      <td>{'url': 'https://api.github.com/repos/pandas-d...</td>\n",
       "      <td>https://api.github.com/repos/pandas-dev/pandas...</td>\n",
       "      <td>None</td>\n",
       "      <td>None</td>\n",
       "      <td>False</td>\n",
       "      <td>{'url': 'https://api.github.com/repos/pandas-d...</td>\n",
       "    </tr>\n",
       "    <tr>\n",
       "      <th>9</th>\n",
       "      <td>https://api.github.com/repos/pandas-dev/pandas...</td>\n",
       "      <td>https://api.github.com/repos/pandas-dev/pandas</td>\n",
       "      <td>https://api.github.com/repos/pandas-dev/pandas...</td>\n",
       "      <td>https://api.github.com/repos/pandas-dev/pandas...</td>\n",
       "      <td>https://api.github.com/repos/pandas-dev/pandas...</td>\n",
       "      <td>https://github.com/pandas-dev/pandas/issues/48794</td>\n",
       "      <td>1386724781</td>\n",
       "      <td>I_kwDOAA0YD85Sp72t</td>\n",
       "      <td>48794</td>\n",
       "      <td>BUG: pandas 1.5 fails to groupby on (nullable)...</td>\n",
       "      <td>...</td>\n",
       "      <td>None</td>\n",
       "      <td>NONE</td>\n",
       "      <td>None</td>\n",
       "      <td>### Pandas version checks\\n\\n- [X] I have chec...</td>\n",
       "      <td>{'url': 'https://api.github.com/repos/pandas-d...</td>\n",
       "      <td>https://api.github.com/repos/pandas-dev/pandas...</td>\n",
       "      <td>None</td>\n",
       "      <td>None</td>\n",
       "      <td>NaN</td>\n",
       "      <td>NaN</td>\n",
       "    </tr>\n",
       "    <tr>\n",
       "      <th>10</th>\n",
       "      <td>https://api.github.com/repos/pandas-dev/pandas...</td>\n",
       "      <td>https://api.github.com/repos/pandas-dev/pandas</td>\n",
       "      <td>https://api.github.com/repos/pandas-dev/pandas...</td>\n",
       "      <td>https://api.github.com/repos/pandas-dev/pandas...</td>\n",
       "      <td>https://api.github.com/repos/pandas-dev/pandas...</td>\n",
       "      <td>https://github.com/pandas-dev/pandas/issues/48792</td>\n",
       "      <td>1386687508</td>\n",
       "      <td>I_kwDOAA0YD85SpywU</td>\n",
       "      <td>48792</td>\n",
       "      <td>DEPR: inplace in DataFrameGroupBy.fillna and S...</td>\n",
       "      <td>...</td>\n",
       "      <td>None</td>\n",
       "      <td>MEMBER</td>\n",
       "      <td>None</td>\n",
       "      <td>Specifying `inplace` returns an empty frame or...</td>\n",
       "      <td>{'url': 'https://api.github.com/repos/pandas-d...</td>\n",
       "      <td>https://api.github.com/repos/pandas-dev/pandas...</td>\n",
       "      <td>None</td>\n",
       "      <td>None</td>\n",
       "      <td>NaN</td>\n",
       "      <td>NaN</td>\n",
       "    </tr>\n",
       "    <tr>\n",
       "      <th>11</th>\n",
       "      <td>https://api.github.com/repos/pandas-dev/pandas...</td>\n",
       "      <td>https://api.github.com/repos/pandas-dev/pandas</td>\n",
       "      <td>https://api.github.com/repos/pandas-dev/pandas...</td>\n",
       "      <td>https://api.github.com/repos/pandas-dev/pandas...</td>\n",
       "      <td>https://api.github.com/repos/pandas-dev/pandas...</td>\n",
       "      <td>https://github.com/pandas-dev/pandas/issues/48791</td>\n",
       "      <td>1386627554</td>\n",
       "      <td>I_kwDOAA0YD85SpkHi</td>\n",
       "      <td>48791</td>\n",
       "      <td>BUG: convert_dtypes() leaves int + pd.NA Serie...</td>\n",
       "      <td>...</td>\n",
       "      <td>None</td>\n",
       "      <td>NONE</td>\n",
       "      <td>None</td>\n",
       "      <td>### Pandas version checks\\n\\n- [X] I have chec...</td>\n",
       "      <td>{'url': 'https://api.github.com/repos/pandas-d...</td>\n",
       "      <td>https://api.github.com/repos/pandas-dev/pandas...</td>\n",
       "      <td>None</td>\n",
       "      <td>None</td>\n",
       "      <td>NaN</td>\n",
       "      <td>NaN</td>\n",
       "    </tr>\n",
       "    <tr>\n",
       "      <th>12</th>\n",
       "      <td>https://api.github.com/repos/pandas-dev/pandas...</td>\n",
       "      <td>https://api.github.com/repos/pandas-dev/pandas</td>\n",
       "      <td>https://api.github.com/repos/pandas-dev/pandas...</td>\n",
       "      <td>https://api.github.com/repos/pandas-dev/pandas...</td>\n",
       "      <td>https://api.github.com/repos/pandas-dev/pandas...</td>\n",
       "      <td>https://github.com/pandas-dev/pandas/pull/48790</td>\n",
       "      <td>1386567749</td>\n",
       "      <td>PR_kwDOAA0YD84_ofDY</td>\n",
       "      <td>48790</td>\n",
       "      <td>Created icons for dark theme</td>\n",
       "      <td>...</td>\n",
       "      <td>None</td>\n",
       "      <td>NONE</td>\n",
       "      <td>None</td>\n",
       "      <td>- [x] closes #48762\\r\\n\\r\\nFor the `svg` image...</td>\n",
       "      <td>{'url': 'https://api.github.com/repos/pandas-d...</td>\n",
       "      <td>https://api.github.com/repos/pandas-dev/pandas...</td>\n",
       "      <td>None</td>\n",
       "      <td>None</td>\n",
       "      <td>False</td>\n",
       "      <td>{'url': 'https://api.github.com/repos/pandas-d...</td>\n",
       "    </tr>\n",
       "    <tr>\n",
       "      <th>13</th>\n",
       "      <td>https://api.github.com/repos/pandas-dev/pandas...</td>\n",
       "      <td>https://api.github.com/repos/pandas-dev/pandas</td>\n",
       "      <td>https://api.github.com/repos/pandas-dev/pandas...</td>\n",
       "      <td>https://api.github.com/repos/pandas-dev/pandas...</td>\n",
       "      <td>https://api.github.com/repos/pandas-dev/pandas...</td>\n",
       "      <td>https://github.com/pandas-dev/pandas/pull/48789</td>\n",
       "      <td>1386511481</td>\n",
       "      <td>PR_kwDOAA0YD84_oS6G</td>\n",
       "      <td>48789</td>\n",
       "      <td>DOC: Add example for `Series.get()`</td>\n",
       "      <td>...</td>\n",
       "      <td>None</td>\n",
       "      <td>CONTRIBUTOR</td>\n",
       "      <td>None</td>\n",
       "      <td>Add an example of `Series.get()` to `NDFrame`....</td>\n",
       "      <td>{'url': 'https://api.github.com/repos/pandas-d...</td>\n",
       "      <td>https://api.github.com/repos/pandas-dev/pandas...</td>\n",
       "      <td>None</td>\n",
       "      <td>None</td>\n",
       "      <td>False</td>\n",
       "      <td>{'url': 'https://api.github.com/repos/pandas-d...</td>\n",
       "    </tr>\n",
       "    <tr>\n",
       "      <th>14</th>\n",
       "      <td>https://api.github.com/repos/pandas-dev/pandas...</td>\n",
       "      <td>https://api.github.com/repos/pandas-dev/pandas</td>\n",
       "      <td>https://api.github.com/repos/pandas-dev/pandas...</td>\n",
       "      <td>https://api.github.com/repos/pandas-dev/pandas...</td>\n",
       "      <td>https://api.github.com/repos/pandas-dev/pandas...</td>\n",
       "      <td>https://github.com/pandas-dev/pandas/issues/48788</td>\n",
       "      <td>1386504540</td>\n",
       "      <td>I_kwDOAA0YD85SpGFc</td>\n",
       "      <td>48788</td>\n",
       "      <td>BUG: `pd.Series.duplicated`/`pd.core.algorithm...</td>\n",
       "      <td>...</td>\n",
       "      <td>None</td>\n",
       "      <td>CONTRIBUTOR</td>\n",
       "      <td>None</td>\n",
       "      <td>### Pandas version checks\\r\\n\\r\\n- [X] I have ...</td>\n",
       "      <td>{'url': 'https://api.github.com/repos/pandas-d...</td>\n",
       "      <td>https://api.github.com/repos/pandas-dev/pandas...</td>\n",
       "      <td>None</td>\n",
       "      <td>None</td>\n",
       "      <td>NaN</td>\n",
       "      <td>NaN</td>\n",
       "    </tr>\n",
       "    <tr>\n",
       "      <th>15</th>\n",
       "      <td>https://api.github.com/repos/pandas-dev/pandas...</td>\n",
       "      <td>https://api.github.com/repos/pandas-dev/pandas</td>\n",
       "      <td>https://api.github.com/repos/pandas-dev/pandas...</td>\n",
       "      <td>https://api.github.com/repos/pandas-dev/pandas...</td>\n",
       "      <td>https://api.github.com/repos/pandas-dev/pandas...</td>\n",
       "      <td>https://github.com/pandas-dev/pandas/issues/48787</td>\n",
       "      <td>1386471404</td>\n",
       "      <td>I_kwDOAA0YD85So9_s</td>\n",
       "      <td>48787</td>\n",
       "      <td>BUG: `from_dummies` can't round trip when `spa...</td>\n",
       "      <td>...</td>\n",
       "      <td>None</td>\n",
       "      <td>CONTRIBUTOR</td>\n",
       "      <td>None</td>\n",
       "      <td>### Pandas version checks\\r\\n\\r\\n- [X] I have ...</td>\n",
       "      <td>{'url': 'https://api.github.com/repos/pandas-d...</td>\n",
       "      <td>https://api.github.com/repos/pandas-dev/pandas...</td>\n",
       "      <td>None</td>\n",
       "      <td>None</td>\n",
       "      <td>NaN</td>\n",
       "      <td>NaN</td>\n",
       "    </tr>\n",
       "    <tr>\n",
       "      <th>16</th>\n",
       "      <td>https://api.github.com/repos/pandas-dev/pandas...</td>\n",
       "      <td>https://api.github.com/repos/pandas-dev/pandas</td>\n",
       "      <td>https://api.github.com/repos/pandas-dev/pandas...</td>\n",
       "      <td>https://api.github.com/repos/pandas-dev/pandas...</td>\n",
       "      <td>https://api.github.com/repos/pandas-dev/pandas...</td>\n",
       "      <td>https://github.com/pandas-dev/pandas/pull/48785</td>\n",
       "      <td>1386192284</td>\n",
       "      <td>PR_kwDOAA0YD84_nNnC</td>\n",
       "      <td>48785</td>\n",
       "      <td>BUG: still emitting unnecessary FutureWarning ...</td>\n",
       "      <td>...</td>\n",
       "      <td>None</td>\n",
       "      <td>MEMBER</td>\n",
       "      <td>None</td>\n",
       "      <td>- [x] closes #48784 (Replace xxxx with the Git...</td>\n",
       "      <td>{'url': 'https://api.github.com/repos/pandas-d...</td>\n",
       "      <td>https://api.github.com/repos/pandas-dev/pandas...</td>\n",
       "      <td>None</td>\n",
       "      <td>None</td>\n",
       "      <td>False</td>\n",
       "      <td>{'url': 'https://api.github.com/repos/pandas-d...</td>\n",
       "    </tr>\n",
       "    <tr>\n",
       "      <th>17</th>\n",
       "      <td>https://api.github.com/repos/pandas-dev/pandas...</td>\n",
       "      <td>https://api.github.com/repos/pandas-dev/pandas</td>\n",
       "      <td>https://api.github.com/repos/pandas-dev/pandas...</td>\n",
       "      <td>https://api.github.com/repos/pandas-dev/pandas...</td>\n",
       "      <td>https://api.github.com/repos/pandas-dev/pandas...</td>\n",
       "      <td>https://github.com/pandas-dev/pandas/issues/48784</td>\n",
       "      <td>1386174765</td>\n",
       "      <td>I_kwDOAA0YD85Sn1kt</td>\n",
       "      <td>48784</td>\n",
       "      <td>BUG: still emitting unnecessary FutureWarning ...</td>\n",
       "      <td>...</td>\n",
       "      <td>None</td>\n",
       "      <td>MEMBER</td>\n",
       "      <td>None</td>\n",
       "      <td>### Pandas version checks\\r\\n\\r\\n- [X] I have ...</td>\n",
       "      <td>{'url': 'https://api.github.com/repos/pandas-d...</td>\n",
       "      <td>https://api.github.com/repos/pandas-dev/pandas...</td>\n",
       "      <td>None</td>\n",
       "      <td>None</td>\n",
       "      <td>NaN</td>\n",
       "      <td>NaN</td>\n",
       "    </tr>\n",
       "    <tr>\n",
       "      <th>18</th>\n",
       "      <td>https://api.github.com/repos/pandas-dev/pandas...</td>\n",
       "      <td>https://api.github.com/repos/pandas-dev/pandas</td>\n",
       "      <td>https://api.github.com/repos/pandas-dev/pandas...</td>\n",
       "      <td>https://api.github.com/repos/pandas-dev/pandas...</td>\n",
       "      <td>https://api.github.com/repos/pandas-dev/pandas...</td>\n",
       "      <td>https://github.com/pandas-dev/pandas/issues/48781</td>\n",
       "      <td>1385771189</td>\n",
       "      <td>I_kwDOAA0YD85SmTC1</td>\n",
       "      <td>48781</td>\n",
       "      <td>ENH:</td>\n",
       "      <td>...</td>\n",
       "      <td>None</td>\n",
       "      <td>CONTRIBUTOR</td>\n",
       "      <td>None</td>\n",
       "      <td>### Feature Type\\n\\n- [X] Adding new functiona...</td>\n",
       "      <td>{'url': 'https://api.github.com/repos/pandas-d...</td>\n",
       "      <td>https://api.github.com/repos/pandas-dev/pandas...</td>\n",
       "      <td>None</td>\n",
       "      <td>None</td>\n",
       "      <td>NaN</td>\n",
       "      <td>NaN</td>\n",
       "    </tr>\n",
       "    <tr>\n",
       "      <th>19</th>\n",
       "      <td>https://api.github.com/repos/pandas-dev/pandas...</td>\n",
       "      <td>https://api.github.com/repos/pandas-dev/pandas</td>\n",
       "      <td>https://api.github.com/repos/pandas-dev/pandas...</td>\n",
       "      <td>https://api.github.com/repos/pandas-dev/pandas...</td>\n",
       "      <td>https://api.github.com/repos/pandas-dev/pandas...</td>\n",
       "      <td>https://github.com/pandas-dev/pandas/issues/48780</td>\n",
       "      <td>1385750265</td>\n",
       "      <td>I_kwDOAA0YD85SmN75</td>\n",
       "      <td>48780</td>\n",
       "      <td>BUG: ExcelWriter.book - attribute not accessib...</td>\n",
       "      <td>...</td>\n",
       "      <td>None</td>\n",
       "      <td>NONE</td>\n",
       "      <td>None</td>\n",
       "      <td>### Pandas version checks\\n\\n- [X] I have chec...</td>\n",
       "      <td>{'url': 'https://api.github.com/repos/pandas-d...</td>\n",
       "      <td>https://api.github.com/repos/pandas-dev/pandas...</td>\n",
       "      <td>None</td>\n",
       "      <td>None</td>\n",
       "      <td>NaN</td>\n",
       "      <td>NaN</td>\n",
       "    </tr>\n",
       "    <tr>\n",
       "      <th>20</th>\n",
       "      <td>https://api.github.com/repos/pandas-dev/pandas...</td>\n",
       "      <td>https://api.github.com/repos/pandas-dev/pandas</td>\n",
       "      <td>https://api.github.com/repos/pandas-dev/pandas...</td>\n",
       "      <td>https://api.github.com/repos/pandas-dev/pandas...</td>\n",
       "      <td>https://api.github.com/repos/pandas-dev/pandas...</td>\n",
       "      <td>https://github.com/pandas-dev/pandas/issues/48779</td>\n",
       "      <td>1385660723</td>\n",
       "      <td>I_kwDOAA0YD85Sl4Ez</td>\n",
       "      <td>48779</td>\n",
       "      <td>BUG: pd.offsets.MonthEnd() delevers wrong month</td>\n",
       "      <td>...</td>\n",
       "      <td>None</td>\n",
       "      <td>NONE</td>\n",
       "      <td>None</td>\n",
       "      <td>### Pandas version checks\\n\\n- [X] I have chec...</td>\n",
       "      <td>{'url': 'https://api.github.com/repos/pandas-d...</td>\n",
       "      <td>https://api.github.com/repos/pandas-dev/pandas...</td>\n",
       "      <td>None</td>\n",
       "      <td>None</td>\n",
       "      <td>NaN</td>\n",
       "      <td>NaN</td>\n",
       "    </tr>\n",
       "    <tr>\n",
       "      <th>21</th>\n",
       "      <td>https://api.github.com/repos/pandas-dev/pandas...</td>\n",
       "      <td>https://api.github.com/repos/pandas-dev/pandas</td>\n",
       "      <td>https://api.github.com/repos/pandas-dev/pandas...</td>\n",
       "      <td>https://api.github.com/repos/pandas-dev/pandas...</td>\n",
       "      <td>https://api.github.com/repos/pandas-dev/pandas...</td>\n",
       "      <td>https://github.com/pandas-dev/pandas/pull/48776</td>\n",
       "      <td>1385159645</td>\n",
       "      <td>PR_kwDOAA0YD84_j82V</td>\n",
       "      <td>48776</td>\n",
       "      <td>ENH: Add option to use nullable dtypes in read...</td>\n",
       "      <td>...</td>\n",
       "      <td>None</td>\n",
       "      <td>MEMBER</td>\n",
       "      <td>None</td>\n",
       "      <td>- [x] closes #36712 (Replace xxxx with the Git...</td>\n",
       "      <td>{'url': 'https://api.github.com/repos/pandas-d...</td>\n",
       "      <td>https://api.github.com/repos/pandas-dev/pandas...</td>\n",
       "      <td>None</td>\n",
       "      <td>None</td>\n",
       "      <td>True</td>\n",
       "      <td>{'url': 'https://api.github.com/repos/pandas-d...</td>\n",
       "    </tr>\n",
       "    <tr>\n",
       "      <th>22</th>\n",
       "      <td>https://api.github.com/repos/pandas-dev/pandas...</td>\n",
       "      <td>https://api.github.com/repos/pandas-dev/pandas</td>\n",
       "      <td>https://api.github.com/repos/pandas-dev/pandas...</td>\n",
       "      <td>https://api.github.com/repos/pandas-dev/pandas...</td>\n",
       "      <td>https://api.github.com/repos/pandas-dev/pandas...</td>\n",
       "      <td>https://github.com/pandas-dev/pandas/pull/48774</td>\n",
       "      <td>1385125103</td>\n",
       "      <td>PR_kwDOAA0YD84_j2tY</td>\n",
       "      <td>48774</td>\n",
       "      <td>ENH: Raise ParserError instead of IndexError w...</td>\n",
       "      <td>...</td>\n",
       "      <td>None</td>\n",
       "      <td>MEMBER</td>\n",
       "      <td>None</td>\n",
       "      <td>\\r\\n- [x] closes #16393 (Replace xxxx with the...</td>\n",
       "      <td>{'url': 'https://api.github.com/repos/pandas-d...</td>\n",
       "      <td>https://api.github.com/repos/pandas-dev/pandas...</td>\n",
       "      <td>None</td>\n",
       "      <td>None</td>\n",
       "      <td>False</td>\n",
       "      <td>{'url': 'https://api.github.com/repos/pandas-d...</td>\n",
       "    </tr>\n",
       "    <tr>\n",
       "      <th>23</th>\n",
       "      <td>https://api.github.com/repos/pandas-dev/pandas...</td>\n",
       "      <td>https://api.github.com/repos/pandas-dev/pandas</td>\n",
       "      <td>https://api.github.com/repos/pandas-dev/pandas...</td>\n",
       "      <td>https://api.github.com/repos/pandas-dev/pandas...</td>\n",
       "      <td>https://api.github.com/repos/pandas-dev/pandas...</td>\n",
       "      <td>https://github.com/pandas-dev/pandas/pull/48772</td>\n",
       "      <td>1385027203</td>\n",
       "      <td>PR_kwDOAA0YD84_jmv1</td>\n",
       "      <td>48772</td>\n",
       "      <td>BUG: Bug fix for GH48567</td>\n",
       "      <td>...</td>\n",
       "      <td>None</td>\n",
       "      <td>NONE</td>\n",
       "      <td>None</td>\n",
       "      <td>Groupby for Series fails if an entry of the in...</td>\n",
       "      <td>{'url': 'https://api.github.com/repos/pandas-d...</td>\n",
       "      <td>https://api.github.com/repos/pandas-dev/pandas...</td>\n",
       "      <td>None</td>\n",
       "      <td>None</td>\n",
       "      <td>False</td>\n",
       "      <td>{'url': 'https://api.github.com/repos/pandas-d...</td>\n",
       "    </tr>\n",
       "    <tr>\n",
       "      <th>24</th>\n",
       "      <td>https://api.github.com/repos/pandas-dev/pandas...</td>\n",
       "      <td>https://api.github.com/repos/pandas-dev/pandas</td>\n",
       "      <td>https://api.github.com/repos/pandas-dev/pandas...</td>\n",
       "      <td>https://api.github.com/repos/pandas-dev/pandas...</td>\n",
       "      <td>https://api.github.com/repos/pandas-dev/pandas...</td>\n",
       "      <td>https://github.com/pandas-dev/pandas/pull/48770</td>\n",
       "      <td>1384968001</td>\n",
       "      <td>PR_kwDOAA0YD84_jcsk</td>\n",
       "      <td>48770</td>\n",
       "      <td>added sytle in stylesheet for &lt;blockquote&gt;</td>\n",
       "      <td>...</td>\n",
       "      <td>None</td>\n",
       "      <td>NONE</td>\n",
       "      <td>None</td>\n",
       "      <td>\\r\\nCloses #48758\\r\\n\\r\\nadded styles for styl...</td>\n",
       "      <td>{'url': 'https://api.github.com/repos/pandas-d...</td>\n",
       "      <td>https://api.github.com/repos/pandas-dev/pandas...</td>\n",
       "      <td>None</td>\n",
       "      <td>None</td>\n",
       "      <td>False</td>\n",
       "      <td>{'url': 'https://api.github.com/repos/pandas-d...</td>\n",
       "    </tr>\n",
       "    <tr>\n",
       "      <th>25</th>\n",
       "      <td>https://api.github.com/repos/pandas-dev/pandas...</td>\n",
       "      <td>https://api.github.com/repos/pandas-dev/pandas</td>\n",
       "      <td>https://api.github.com/repos/pandas-dev/pandas...</td>\n",
       "      <td>https://api.github.com/repos/pandas-dev/pandas...</td>\n",
       "      <td>https://api.github.com/repos/pandas-dev/pandas...</td>\n",
       "      <td>https://github.com/pandas-dev/pandas/issues/48767</td>\n",
       "      <td>1384934606</td>\n",
       "      <td>I_kwDOAA0YD85SjGzO</td>\n",
       "      <td>48767</td>\n",
       "      <td>BUG: `pd.to_datetime()` fails to parse nanosec...</td>\n",
       "      <td>...</td>\n",
       "      <td>None</td>\n",
       "      <td>NONE</td>\n",
       "      <td>None</td>\n",
       "      <td>### Pandas version checks\\n\\n- [X] I have chec...</td>\n",
       "      <td>{'url': 'https://api.github.com/repos/pandas-d...</td>\n",
       "      <td>https://api.github.com/repos/pandas-dev/pandas...</td>\n",
       "      <td>None</td>\n",
       "      <td>None</td>\n",
       "      <td>NaN</td>\n",
       "      <td>NaN</td>\n",
       "    </tr>\n",
       "    <tr>\n",
       "      <th>26</th>\n",
       "      <td>https://api.github.com/repos/pandas-dev/pandas...</td>\n",
       "      <td>https://api.github.com/repos/pandas-dev/pandas</td>\n",
       "      <td>https://api.github.com/repos/pandas-dev/pandas...</td>\n",
       "      <td>https://api.github.com/repos/pandas-dev/pandas...</td>\n",
       "      <td>https://api.github.com/repos/pandas-dev/pandas...</td>\n",
       "      <td>https://github.com/pandas-dev/pandas/issues/48766</td>\n",
       "      <td>1384856275</td>\n",
       "      <td>I_kwDOAA0YD85SizrT</td>\n",
       "      <td>48766</td>\n",
       "      <td>ENH: find categorical code against categorical...</td>\n",
       "      <td>...</td>\n",
       "      <td>None</td>\n",
       "      <td>NONE</td>\n",
       "      <td>None</td>\n",
       "      <td>### Feature Type\\n\\n- [X] Adding new functiona...</td>\n",
       "      <td>{'url': 'https://api.github.com/repos/pandas-d...</td>\n",
       "      <td>https://api.github.com/repos/pandas-dev/pandas...</td>\n",
       "      <td>None</td>\n",
       "      <td>None</td>\n",
       "      <td>NaN</td>\n",
       "      <td>NaN</td>\n",
       "    </tr>\n",
       "    <tr>\n",
       "      <th>27</th>\n",
       "      <td>https://api.github.com/repos/pandas-dev/pandas...</td>\n",
       "      <td>https://api.github.com/repos/pandas-dev/pandas</td>\n",
       "      <td>https://api.github.com/repos/pandas-dev/pandas...</td>\n",
       "      <td>https://api.github.com/repos/pandas-dev/pandas...</td>\n",
       "      <td>https://api.github.com/repos/pandas-dev/pandas...</td>\n",
       "      <td>https://github.com/pandas-dev/pandas/issues/48765</td>\n",
       "      <td>1384814175</td>\n",
       "      <td>I_kwDOAA0YD85SipZf</td>\n",
       "      <td>48765</td>\n",
       "      <td>BUG: df.plot(subplots=False) not drawing as ex...</td>\n",
       "      <td>...</td>\n",
       "      <td>None</td>\n",
       "      <td>NONE</td>\n",
       "      <td>None</td>\n",
       "      <td>### Pandas version checks\\n\\n- [X] I have chec...</td>\n",
       "      <td>{'url': 'https://api.github.com/repos/pandas-d...</td>\n",
       "      <td>https://api.github.com/repos/pandas-dev/pandas...</td>\n",
       "      <td>None</td>\n",
       "      <td>None</td>\n",
       "      <td>NaN</td>\n",
       "      <td>NaN</td>\n",
       "    </tr>\n",
       "    <tr>\n",
       "      <th>28</th>\n",
       "      <td>https://api.github.com/repos/pandas-dev/pandas...</td>\n",
       "      <td>https://api.github.com/repos/pandas-dev/pandas</td>\n",
       "      <td>https://api.github.com/repos/pandas-dev/pandas...</td>\n",
       "      <td>https://api.github.com/repos/pandas-dev/pandas...</td>\n",
       "      <td>https://api.github.com/repos/pandas-dev/pandas...</td>\n",
       "      <td>https://github.com/pandas-dev/pandas/pull/48764</td>\n",
       "      <td>1384800999</td>\n",
       "      <td>PR_kwDOAA0YD84_jAYU</td>\n",
       "      <td>48764</td>\n",
       "      <td>SAS7BDAT parser: Drop unused instance variables</td>\n",
       "      <td>...</td>\n",
       "      <td>None</td>\n",
       "      <td>CONTRIBUTOR</td>\n",
       "      <td>None</td>\n",
       "      <td>I'm suggesting this as an alternative to https...</td>\n",
       "      <td>{'url': 'https://api.github.com/repos/pandas-d...</td>\n",
       "      <td>https://api.github.com/repos/pandas-dev/pandas...</td>\n",
       "      <td>None</td>\n",
       "      <td>None</td>\n",
       "      <td>False</td>\n",
       "      <td>{'url': 'https://api.github.com/repos/pandas-d...</td>\n",
       "    </tr>\n",
       "    <tr>\n",
       "      <th>29</th>\n",
       "      <td>https://api.github.com/repos/pandas-dev/pandas...</td>\n",
       "      <td>https://api.github.com/repos/pandas-dev/pandas</td>\n",
       "      <td>https://api.github.com/repos/pandas-dev/pandas...</td>\n",
       "      <td>https://api.github.com/repos/pandas-dev/pandas...</td>\n",
       "      <td>https://api.github.com/repos/pandas-dev/pandas...</td>\n",
       "      <td>https://github.com/pandas-dev/pandas/issues/48763</td>\n",
       "      <td>1384789416</td>\n",
       "      <td>I_kwDOAA0YD85SijWo</td>\n",
       "      <td>48763</td>\n",
       "      <td>BUG: pd.Series.unstack with mixed names types</td>\n",
       "      <td>...</td>\n",
       "      <td>None</td>\n",
       "      <td>NONE</td>\n",
       "      <td>None</td>\n",
       "      <td>### Pandas version checks\\r\\n\\r\\n- [X] I have ...</td>\n",
       "      <td>{'url': 'https://api.github.com/repos/pandas-d...</td>\n",
       "      <td>https://api.github.com/repos/pandas-dev/pandas...</td>\n",
       "      <td>None</td>\n",
       "      <td>None</td>\n",
       "      <td>NaN</td>\n",
       "      <td>NaN</td>\n",
       "    </tr>\n",
       "  </tbody>\n",
       "</table>\n",
       "<p>30 rows × 30 columns</p>\n",
       "</div>"
      ],
      "text/plain": [
       "                                                  url  \\\n",
       "0   https://api.github.com/repos/pandas-dev/pandas...   \n",
       "1   https://api.github.com/repos/pandas-dev/pandas...   \n",
       "2   https://api.github.com/repos/pandas-dev/pandas...   \n",
       "3   https://api.github.com/repos/pandas-dev/pandas...   \n",
       "4   https://api.github.com/repos/pandas-dev/pandas...   \n",
       "5   https://api.github.com/repos/pandas-dev/pandas...   \n",
       "6   https://api.github.com/repos/pandas-dev/pandas...   \n",
       "7   https://api.github.com/repos/pandas-dev/pandas...   \n",
       "8   https://api.github.com/repos/pandas-dev/pandas...   \n",
       "9   https://api.github.com/repos/pandas-dev/pandas...   \n",
       "10  https://api.github.com/repos/pandas-dev/pandas...   \n",
       "11  https://api.github.com/repos/pandas-dev/pandas...   \n",
       "12  https://api.github.com/repos/pandas-dev/pandas...   \n",
       "13  https://api.github.com/repos/pandas-dev/pandas...   \n",
       "14  https://api.github.com/repos/pandas-dev/pandas...   \n",
       "15  https://api.github.com/repos/pandas-dev/pandas...   \n",
       "16  https://api.github.com/repos/pandas-dev/pandas...   \n",
       "17  https://api.github.com/repos/pandas-dev/pandas...   \n",
       "18  https://api.github.com/repos/pandas-dev/pandas...   \n",
       "19  https://api.github.com/repos/pandas-dev/pandas...   \n",
       "20  https://api.github.com/repos/pandas-dev/pandas...   \n",
       "21  https://api.github.com/repos/pandas-dev/pandas...   \n",
       "22  https://api.github.com/repos/pandas-dev/pandas...   \n",
       "23  https://api.github.com/repos/pandas-dev/pandas...   \n",
       "24  https://api.github.com/repos/pandas-dev/pandas...   \n",
       "25  https://api.github.com/repos/pandas-dev/pandas...   \n",
       "26  https://api.github.com/repos/pandas-dev/pandas...   \n",
       "27  https://api.github.com/repos/pandas-dev/pandas...   \n",
       "28  https://api.github.com/repos/pandas-dev/pandas...   \n",
       "29  https://api.github.com/repos/pandas-dev/pandas...   \n",
       "\n",
       "                                    repository_url  \\\n",
       "0   https://api.github.com/repos/pandas-dev/pandas   \n",
       "1   https://api.github.com/repos/pandas-dev/pandas   \n",
       "2   https://api.github.com/repos/pandas-dev/pandas   \n",
       "3   https://api.github.com/repos/pandas-dev/pandas   \n",
       "4   https://api.github.com/repos/pandas-dev/pandas   \n",
       "5   https://api.github.com/repos/pandas-dev/pandas   \n",
       "6   https://api.github.com/repos/pandas-dev/pandas   \n",
       "7   https://api.github.com/repos/pandas-dev/pandas   \n",
       "8   https://api.github.com/repos/pandas-dev/pandas   \n",
       "9   https://api.github.com/repos/pandas-dev/pandas   \n",
       "10  https://api.github.com/repos/pandas-dev/pandas   \n",
       "11  https://api.github.com/repos/pandas-dev/pandas   \n",
       "12  https://api.github.com/repos/pandas-dev/pandas   \n",
       "13  https://api.github.com/repos/pandas-dev/pandas   \n",
       "14  https://api.github.com/repos/pandas-dev/pandas   \n",
       "15  https://api.github.com/repos/pandas-dev/pandas   \n",
       "16  https://api.github.com/repos/pandas-dev/pandas   \n",
       "17  https://api.github.com/repos/pandas-dev/pandas   \n",
       "18  https://api.github.com/repos/pandas-dev/pandas   \n",
       "19  https://api.github.com/repos/pandas-dev/pandas   \n",
       "20  https://api.github.com/repos/pandas-dev/pandas   \n",
       "21  https://api.github.com/repos/pandas-dev/pandas   \n",
       "22  https://api.github.com/repos/pandas-dev/pandas   \n",
       "23  https://api.github.com/repos/pandas-dev/pandas   \n",
       "24  https://api.github.com/repos/pandas-dev/pandas   \n",
       "25  https://api.github.com/repos/pandas-dev/pandas   \n",
       "26  https://api.github.com/repos/pandas-dev/pandas   \n",
       "27  https://api.github.com/repos/pandas-dev/pandas   \n",
       "28  https://api.github.com/repos/pandas-dev/pandas   \n",
       "29  https://api.github.com/repos/pandas-dev/pandas   \n",
       "\n",
       "                                           labels_url  \\\n",
       "0   https://api.github.com/repos/pandas-dev/pandas...   \n",
       "1   https://api.github.com/repos/pandas-dev/pandas...   \n",
       "2   https://api.github.com/repos/pandas-dev/pandas...   \n",
       "3   https://api.github.com/repos/pandas-dev/pandas...   \n",
       "4   https://api.github.com/repos/pandas-dev/pandas...   \n",
       "5   https://api.github.com/repos/pandas-dev/pandas...   \n",
       "6   https://api.github.com/repos/pandas-dev/pandas...   \n",
       "7   https://api.github.com/repos/pandas-dev/pandas...   \n",
       "8   https://api.github.com/repos/pandas-dev/pandas...   \n",
       "9   https://api.github.com/repos/pandas-dev/pandas...   \n",
       "10  https://api.github.com/repos/pandas-dev/pandas...   \n",
       "11  https://api.github.com/repos/pandas-dev/pandas...   \n",
       "12  https://api.github.com/repos/pandas-dev/pandas...   \n",
       "13  https://api.github.com/repos/pandas-dev/pandas...   \n",
       "14  https://api.github.com/repos/pandas-dev/pandas...   \n",
       "15  https://api.github.com/repos/pandas-dev/pandas...   \n",
       "16  https://api.github.com/repos/pandas-dev/pandas...   \n",
       "17  https://api.github.com/repos/pandas-dev/pandas...   \n",
       "18  https://api.github.com/repos/pandas-dev/pandas...   \n",
       "19  https://api.github.com/repos/pandas-dev/pandas...   \n",
       "20  https://api.github.com/repos/pandas-dev/pandas...   \n",
       "21  https://api.github.com/repos/pandas-dev/pandas...   \n",
       "22  https://api.github.com/repos/pandas-dev/pandas...   \n",
       "23  https://api.github.com/repos/pandas-dev/pandas...   \n",
       "24  https://api.github.com/repos/pandas-dev/pandas...   \n",
       "25  https://api.github.com/repos/pandas-dev/pandas...   \n",
       "26  https://api.github.com/repos/pandas-dev/pandas...   \n",
       "27  https://api.github.com/repos/pandas-dev/pandas...   \n",
       "28  https://api.github.com/repos/pandas-dev/pandas...   \n",
       "29  https://api.github.com/repos/pandas-dev/pandas...   \n",
       "\n",
       "                                         comments_url  \\\n",
       "0   https://api.github.com/repos/pandas-dev/pandas...   \n",
       "1   https://api.github.com/repos/pandas-dev/pandas...   \n",
       "2   https://api.github.com/repos/pandas-dev/pandas...   \n",
       "3   https://api.github.com/repos/pandas-dev/pandas...   \n",
       "4   https://api.github.com/repos/pandas-dev/pandas...   \n",
       "5   https://api.github.com/repos/pandas-dev/pandas...   \n",
       "6   https://api.github.com/repos/pandas-dev/pandas...   \n",
       "7   https://api.github.com/repos/pandas-dev/pandas...   \n",
       "8   https://api.github.com/repos/pandas-dev/pandas...   \n",
       "9   https://api.github.com/repos/pandas-dev/pandas...   \n",
       "10  https://api.github.com/repos/pandas-dev/pandas...   \n",
       "11  https://api.github.com/repos/pandas-dev/pandas...   \n",
       "12  https://api.github.com/repos/pandas-dev/pandas...   \n",
       "13  https://api.github.com/repos/pandas-dev/pandas...   \n",
       "14  https://api.github.com/repos/pandas-dev/pandas...   \n",
       "15  https://api.github.com/repos/pandas-dev/pandas...   \n",
       "16  https://api.github.com/repos/pandas-dev/pandas...   \n",
       "17  https://api.github.com/repos/pandas-dev/pandas...   \n",
       "18  https://api.github.com/repos/pandas-dev/pandas...   \n",
       "19  https://api.github.com/repos/pandas-dev/pandas...   \n",
       "20  https://api.github.com/repos/pandas-dev/pandas...   \n",
       "21  https://api.github.com/repos/pandas-dev/pandas...   \n",
       "22  https://api.github.com/repos/pandas-dev/pandas...   \n",
       "23  https://api.github.com/repos/pandas-dev/pandas...   \n",
       "24  https://api.github.com/repos/pandas-dev/pandas...   \n",
       "25  https://api.github.com/repos/pandas-dev/pandas...   \n",
       "26  https://api.github.com/repos/pandas-dev/pandas...   \n",
       "27  https://api.github.com/repos/pandas-dev/pandas...   \n",
       "28  https://api.github.com/repos/pandas-dev/pandas...   \n",
       "29  https://api.github.com/repos/pandas-dev/pandas...   \n",
       "\n",
       "                                           events_url  \\\n",
       "0   https://api.github.com/repos/pandas-dev/pandas...   \n",
       "1   https://api.github.com/repos/pandas-dev/pandas...   \n",
       "2   https://api.github.com/repos/pandas-dev/pandas...   \n",
       "3   https://api.github.com/repos/pandas-dev/pandas...   \n",
       "4   https://api.github.com/repos/pandas-dev/pandas...   \n",
       "5   https://api.github.com/repos/pandas-dev/pandas...   \n",
       "6   https://api.github.com/repos/pandas-dev/pandas...   \n",
       "7   https://api.github.com/repos/pandas-dev/pandas...   \n",
       "8   https://api.github.com/repos/pandas-dev/pandas...   \n",
       "9   https://api.github.com/repos/pandas-dev/pandas...   \n",
       "10  https://api.github.com/repos/pandas-dev/pandas...   \n",
       "11  https://api.github.com/repos/pandas-dev/pandas...   \n",
       "12  https://api.github.com/repos/pandas-dev/pandas...   \n",
       "13  https://api.github.com/repos/pandas-dev/pandas...   \n",
       "14  https://api.github.com/repos/pandas-dev/pandas...   \n",
       "15  https://api.github.com/repos/pandas-dev/pandas...   \n",
       "16  https://api.github.com/repos/pandas-dev/pandas...   \n",
       "17  https://api.github.com/repos/pandas-dev/pandas...   \n",
       "18  https://api.github.com/repos/pandas-dev/pandas...   \n",
       "19  https://api.github.com/repos/pandas-dev/pandas...   \n",
       "20  https://api.github.com/repos/pandas-dev/pandas...   \n",
       "21  https://api.github.com/repos/pandas-dev/pandas...   \n",
       "22  https://api.github.com/repos/pandas-dev/pandas...   \n",
       "23  https://api.github.com/repos/pandas-dev/pandas...   \n",
       "24  https://api.github.com/repos/pandas-dev/pandas...   \n",
       "25  https://api.github.com/repos/pandas-dev/pandas...   \n",
       "26  https://api.github.com/repos/pandas-dev/pandas...   \n",
       "27  https://api.github.com/repos/pandas-dev/pandas...   \n",
       "28  https://api.github.com/repos/pandas-dev/pandas...   \n",
       "29  https://api.github.com/repos/pandas-dev/pandas...   \n",
       "\n",
       "                                             html_url          id  \\\n",
       "0   https://github.com/pandas-dev/pandas/issues/48806  1387444078   \n",
       "1     https://github.com/pandas-dev/pandas/pull/48805  1387090446   \n",
       "2     https://github.com/pandas-dev/pandas/pull/48804  1387017557   \n",
       "3   https://github.com/pandas-dev/pandas/issues/48803  1386980560   \n",
       "4   https://github.com/pandas-dev/pandas/issues/48802  1386976936   \n",
       "5     https://github.com/pandas-dev/pandas/pull/48800  1386839371   \n",
       "6     https://github.com/pandas-dev/pandas/pull/48797  1386822624   \n",
       "7   https://github.com/pandas-dev/pandas/issues/48796  1386797027   \n",
       "8     https://github.com/pandas-dev/pandas/pull/48795  1386771887   \n",
       "9   https://github.com/pandas-dev/pandas/issues/48794  1386724781   \n",
       "10  https://github.com/pandas-dev/pandas/issues/48792  1386687508   \n",
       "11  https://github.com/pandas-dev/pandas/issues/48791  1386627554   \n",
       "12    https://github.com/pandas-dev/pandas/pull/48790  1386567749   \n",
       "13    https://github.com/pandas-dev/pandas/pull/48789  1386511481   \n",
       "14  https://github.com/pandas-dev/pandas/issues/48788  1386504540   \n",
       "15  https://github.com/pandas-dev/pandas/issues/48787  1386471404   \n",
       "16    https://github.com/pandas-dev/pandas/pull/48785  1386192284   \n",
       "17  https://github.com/pandas-dev/pandas/issues/48784  1386174765   \n",
       "18  https://github.com/pandas-dev/pandas/issues/48781  1385771189   \n",
       "19  https://github.com/pandas-dev/pandas/issues/48780  1385750265   \n",
       "20  https://github.com/pandas-dev/pandas/issues/48779  1385660723   \n",
       "21    https://github.com/pandas-dev/pandas/pull/48776  1385159645   \n",
       "22    https://github.com/pandas-dev/pandas/pull/48774  1385125103   \n",
       "23    https://github.com/pandas-dev/pandas/pull/48772  1385027203   \n",
       "24    https://github.com/pandas-dev/pandas/pull/48770  1384968001   \n",
       "25  https://github.com/pandas-dev/pandas/issues/48767  1384934606   \n",
       "26  https://github.com/pandas-dev/pandas/issues/48766  1384856275   \n",
       "27  https://github.com/pandas-dev/pandas/issues/48765  1384814175   \n",
       "28    https://github.com/pandas-dev/pandas/pull/48764  1384800999   \n",
       "29  https://github.com/pandas-dev/pandas/issues/48763  1384789416   \n",
       "\n",
       "                node_id  number  \\\n",
       "0    I_kwDOAA0YD85Ssrdu   48806   \n",
       "1   PR_kwDOAA0YD84_qPpH   48805   \n",
       "2   PR_kwDOAA0YD84_qAIu   48804   \n",
       "3    I_kwDOAA0YD85Sq6TQ   48803   \n",
       "4    I_kwDOAA0YD85Sq5ao   48802   \n",
       "5   PR_kwDOAA0YD84_pawM   48800   \n",
       "6   PR_kwDOAA0YD84_pXHI   48797   \n",
       "7    I_kwDOAA0YD85SqNfj   48796   \n",
       "8   PR_kwDOAA0YD84_pL-F   48795   \n",
       "9    I_kwDOAA0YD85Sp72t   48794   \n",
       "10   I_kwDOAA0YD85SpywU   48792   \n",
       "11   I_kwDOAA0YD85SpkHi   48791   \n",
       "12  PR_kwDOAA0YD84_ofDY   48790   \n",
       "13  PR_kwDOAA0YD84_oS6G   48789   \n",
       "14   I_kwDOAA0YD85SpGFc   48788   \n",
       "15   I_kwDOAA0YD85So9_s   48787   \n",
       "16  PR_kwDOAA0YD84_nNnC   48785   \n",
       "17   I_kwDOAA0YD85Sn1kt   48784   \n",
       "18   I_kwDOAA0YD85SmTC1   48781   \n",
       "19   I_kwDOAA0YD85SmN75   48780   \n",
       "20   I_kwDOAA0YD85Sl4Ez   48779   \n",
       "21  PR_kwDOAA0YD84_j82V   48776   \n",
       "22  PR_kwDOAA0YD84_j2tY   48774   \n",
       "23  PR_kwDOAA0YD84_jmv1   48772   \n",
       "24  PR_kwDOAA0YD84_jcsk   48770   \n",
       "25   I_kwDOAA0YD85SjGzO   48767   \n",
       "26   I_kwDOAA0YD85SizrT   48766   \n",
       "27   I_kwDOAA0YD85SipZf   48765   \n",
       "28  PR_kwDOAA0YD84_jAYU   48764   \n",
       "29   I_kwDOAA0YD85SijWo   48763   \n",
       "\n",
       "                                                title  ... closed_at  \\\n",
       "0   BUG: Bar plot with integer index does not plac...  ...      None   \n",
       "1   Added padding and fixed columns for sponsor lo...  ...      None   \n",
       "2            TST: Suppress Series constructor warning  ...      None   \n",
       "3   DOC: Remove unsupported parameters in `Resampl...  ...      None   \n",
       "4                          ENH: support negative axis  ...      None   \n",
       "5   Backport PR #48608 on branch 1.5.x (REGR: asse...  ...      None   \n",
       "6       REGR: fix df.apply with keyword non-zero axis  ...      None   \n",
       "7   BUG: `pd.to_timedelta()` does not accept nulla...  ...      None   \n",
       "8   Backport PR #48693 on branch 1.5.x (ENH: Make ...  ...      None   \n",
       "9   BUG: pandas 1.5 fails to groupby on (nullable)...  ...      None   \n",
       "10  DEPR: inplace in DataFrameGroupBy.fillna and S...  ...      None   \n",
       "11  BUG: convert_dtypes() leaves int + pd.NA Serie...  ...      None   \n",
       "12                       Created icons for dark theme  ...      None   \n",
       "13                DOC: Add example for `Series.get()`  ...      None   \n",
       "14  BUG: `pd.Series.duplicated`/`pd.core.algorithm...  ...      None   \n",
       "15  BUG: `from_dummies` can't round trip when `spa...  ...      None   \n",
       "16  BUG: still emitting unnecessary FutureWarning ...  ...      None   \n",
       "17  BUG: still emitting unnecessary FutureWarning ...  ...      None   \n",
       "18                                              ENH:   ...      None   \n",
       "19  BUG: ExcelWriter.book - attribute not accessib...  ...      None   \n",
       "20    BUG: pd.offsets.MonthEnd() delevers wrong month  ...      None   \n",
       "21  ENH: Add option to use nullable dtypes in read...  ...      None   \n",
       "22  ENH: Raise ParserError instead of IndexError w...  ...      None   \n",
       "23                           BUG: Bug fix for GH48567  ...      None   \n",
       "24         added sytle in stylesheet for <blockquote>  ...      None   \n",
       "25  BUG: `pd.to_datetime()` fails to parse nanosec...  ...      None   \n",
       "26  ENH: find categorical code against categorical...  ...      None   \n",
       "27  BUG: df.plot(subplots=False) not drawing as ex...  ...      None   \n",
       "28    SAS7BDAT parser: Drop unused instance variables  ...      None   \n",
       "29      BUG: pd.Series.unstack with mixed names types  ...      None   \n",
       "\n",
       "   author_association active_lock_reason  \\\n",
       "0                NONE               None   \n",
       "1                NONE               None   \n",
       "2              MEMBER               None   \n",
       "3                NONE               None   \n",
       "4         CONTRIBUTOR               None   \n",
       "5                NONE               None   \n",
       "6         CONTRIBUTOR               None   \n",
       "7         CONTRIBUTOR               None   \n",
       "8                NONE               None   \n",
       "9                NONE               None   \n",
       "10             MEMBER               None   \n",
       "11               NONE               None   \n",
       "12               NONE               None   \n",
       "13        CONTRIBUTOR               None   \n",
       "14        CONTRIBUTOR               None   \n",
       "15        CONTRIBUTOR               None   \n",
       "16             MEMBER               None   \n",
       "17             MEMBER               None   \n",
       "18        CONTRIBUTOR               None   \n",
       "19               NONE               None   \n",
       "20               NONE               None   \n",
       "21             MEMBER               None   \n",
       "22             MEMBER               None   \n",
       "23               NONE               None   \n",
       "24               NONE               None   \n",
       "25               NONE               None   \n",
       "26               NONE               None   \n",
       "27               NONE               None   \n",
       "28        CONTRIBUTOR               None   \n",
       "29               NONE               None   \n",
       "\n",
       "                                                 body  \\\n",
       "0   ### Pandas version checks\\n\\n- [X] I have chec...   \n",
       "1   Added padding and fixed columns for sponsor lo...   \n",
       "2                                                None   \n",
       "3   ### Pandas version checks\\n\\n- [X] I have chec...   \n",
       "4   ### Feature Type\\n\\n- [X] Adding new functiona...   \n",
       "5   Backport PR #48608: REGR: assert_index_equal r...   \n",
       "6   Fixes #48656. Builds on top of #48693.\\r\\n\\r\\n...   \n",
       "7   ### Pandas version checks\\n\\n- [X] I have chec...   \n",
       "8   Backport PR #48693: ENH: Make deprecate_nonkey...   \n",
       "9   ### Pandas version checks\\n\\n- [X] I have chec...   \n",
       "10  Specifying `inplace` returns an empty frame or...   \n",
       "11  ### Pandas version checks\\n\\n- [X] I have chec...   \n",
       "12  - [x] closes #48762\\r\\n\\r\\nFor the `svg` image...   \n",
       "13  Add an example of `Series.get()` to `NDFrame`....   \n",
       "14  ### Pandas version checks\\r\\n\\r\\n- [X] I have ...   \n",
       "15  ### Pandas version checks\\r\\n\\r\\n- [X] I have ...   \n",
       "16  - [x] closes #48784 (Replace xxxx with the Git...   \n",
       "17  ### Pandas version checks\\r\\n\\r\\n- [X] I have ...   \n",
       "18  ### Feature Type\\n\\n- [X] Adding new functiona...   \n",
       "19  ### Pandas version checks\\n\\n- [X] I have chec...   \n",
       "20  ### Pandas version checks\\n\\n- [X] I have chec...   \n",
       "21  - [x] closes #36712 (Replace xxxx with the Git...   \n",
       "22  \\r\\n- [x] closes #16393 (Replace xxxx with the...   \n",
       "23  Groupby for Series fails if an entry of the in...   \n",
       "24  \\r\\nCloses #48758\\r\\n\\r\\nadded styles for styl...   \n",
       "25  ### Pandas version checks\\n\\n- [X] I have chec...   \n",
       "26  ### Feature Type\\n\\n- [X] Adding new functiona...   \n",
       "27  ### Pandas version checks\\n\\n- [X] I have chec...   \n",
       "28  I'm suggesting this as an alternative to https...   \n",
       "29  ### Pandas version checks\\r\\n\\r\\n- [X] I have ...   \n",
       "\n",
       "                                            reactions  \\\n",
       "0   {'url': 'https://api.github.com/repos/pandas-d...   \n",
       "1   {'url': 'https://api.github.com/repos/pandas-d...   \n",
       "2   {'url': 'https://api.github.com/repos/pandas-d...   \n",
       "3   {'url': 'https://api.github.com/repos/pandas-d...   \n",
       "4   {'url': 'https://api.github.com/repos/pandas-d...   \n",
       "5   {'url': 'https://api.github.com/repos/pandas-d...   \n",
       "6   {'url': 'https://api.github.com/repos/pandas-d...   \n",
       "7   {'url': 'https://api.github.com/repos/pandas-d...   \n",
       "8   {'url': 'https://api.github.com/repos/pandas-d...   \n",
       "9   {'url': 'https://api.github.com/repos/pandas-d...   \n",
       "10  {'url': 'https://api.github.com/repos/pandas-d...   \n",
       "11  {'url': 'https://api.github.com/repos/pandas-d...   \n",
       "12  {'url': 'https://api.github.com/repos/pandas-d...   \n",
       "13  {'url': 'https://api.github.com/repos/pandas-d...   \n",
       "14  {'url': 'https://api.github.com/repos/pandas-d...   \n",
       "15  {'url': 'https://api.github.com/repos/pandas-d...   \n",
       "16  {'url': 'https://api.github.com/repos/pandas-d...   \n",
       "17  {'url': 'https://api.github.com/repos/pandas-d...   \n",
       "18  {'url': 'https://api.github.com/repos/pandas-d...   \n",
       "19  {'url': 'https://api.github.com/repos/pandas-d...   \n",
       "20  {'url': 'https://api.github.com/repos/pandas-d...   \n",
       "21  {'url': 'https://api.github.com/repos/pandas-d...   \n",
       "22  {'url': 'https://api.github.com/repos/pandas-d...   \n",
       "23  {'url': 'https://api.github.com/repos/pandas-d...   \n",
       "24  {'url': 'https://api.github.com/repos/pandas-d...   \n",
       "25  {'url': 'https://api.github.com/repos/pandas-d...   \n",
       "26  {'url': 'https://api.github.com/repos/pandas-d...   \n",
       "27  {'url': 'https://api.github.com/repos/pandas-d...   \n",
       "28  {'url': 'https://api.github.com/repos/pandas-d...   \n",
       "29  {'url': 'https://api.github.com/repos/pandas-d...   \n",
       "\n",
       "                                         timeline_url  \\\n",
       "0   https://api.github.com/repos/pandas-dev/pandas...   \n",
       "1   https://api.github.com/repos/pandas-dev/pandas...   \n",
       "2   https://api.github.com/repos/pandas-dev/pandas...   \n",
       "3   https://api.github.com/repos/pandas-dev/pandas...   \n",
       "4   https://api.github.com/repos/pandas-dev/pandas...   \n",
       "5   https://api.github.com/repos/pandas-dev/pandas...   \n",
       "6   https://api.github.com/repos/pandas-dev/pandas...   \n",
       "7   https://api.github.com/repos/pandas-dev/pandas...   \n",
       "8   https://api.github.com/repos/pandas-dev/pandas...   \n",
       "9   https://api.github.com/repos/pandas-dev/pandas...   \n",
       "10  https://api.github.com/repos/pandas-dev/pandas...   \n",
       "11  https://api.github.com/repos/pandas-dev/pandas...   \n",
       "12  https://api.github.com/repos/pandas-dev/pandas...   \n",
       "13  https://api.github.com/repos/pandas-dev/pandas...   \n",
       "14  https://api.github.com/repos/pandas-dev/pandas...   \n",
       "15  https://api.github.com/repos/pandas-dev/pandas...   \n",
       "16  https://api.github.com/repos/pandas-dev/pandas...   \n",
       "17  https://api.github.com/repos/pandas-dev/pandas...   \n",
       "18  https://api.github.com/repos/pandas-dev/pandas...   \n",
       "19  https://api.github.com/repos/pandas-dev/pandas...   \n",
       "20  https://api.github.com/repos/pandas-dev/pandas...   \n",
       "21  https://api.github.com/repos/pandas-dev/pandas...   \n",
       "22  https://api.github.com/repos/pandas-dev/pandas...   \n",
       "23  https://api.github.com/repos/pandas-dev/pandas...   \n",
       "24  https://api.github.com/repos/pandas-dev/pandas...   \n",
       "25  https://api.github.com/repos/pandas-dev/pandas...   \n",
       "26  https://api.github.com/repos/pandas-dev/pandas...   \n",
       "27  https://api.github.com/repos/pandas-dev/pandas...   \n",
       "28  https://api.github.com/repos/pandas-dev/pandas...   \n",
       "29  https://api.github.com/repos/pandas-dev/pandas...   \n",
       "\n",
       "   performed_via_github_app  state_reason  draft  \\\n",
       "0                      None          None    NaN   \n",
       "1                      None          None  False   \n",
       "2                      None          None  False   \n",
       "3                      None          None    NaN   \n",
       "4                      None          None    NaN   \n",
       "5                      None          None  False   \n",
       "6                      None          None  False   \n",
       "7                      None          None    NaN   \n",
       "8                      None          None  False   \n",
       "9                      None          None    NaN   \n",
       "10                     None          None    NaN   \n",
       "11                     None          None    NaN   \n",
       "12                     None          None  False   \n",
       "13                     None          None  False   \n",
       "14                     None          None    NaN   \n",
       "15                     None          None    NaN   \n",
       "16                     None          None  False   \n",
       "17                     None          None    NaN   \n",
       "18                     None          None    NaN   \n",
       "19                     None          None    NaN   \n",
       "20                     None          None    NaN   \n",
       "21                     None          None   True   \n",
       "22                     None          None  False   \n",
       "23                     None          None  False   \n",
       "24                     None          None  False   \n",
       "25                     None          None    NaN   \n",
       "26                     None          None    NaN   \n",
       "27                     None          None    NaN   \n",
       "28                     None          None  False   \n",
       "29                     None          None    NaN   \n",
       "\n",
       "                                         pull_request  \n",
       "0                                                 NaN  \n",
       "1   {'url': 'https://api.github.com/repos/pandas-d...  \n",
       "2   {'url': 'https://api.github.com/repos/pandas-d...  \n",
       "3                                                 NaN  \n",
       "4                                                 NaN  \n",
       "5   {'url': 'https://api.github.com/repos/pandas-d...  \n",
       "6   {'url': 'https://api.github.com/repos/pandas-d...  \n",
       "7                                                 NaN  \n",
       "8   {'url': 'https://api.github.com/repos/pandas-d...  \n",
       "9                                                 NaN  \n",
       "10                                                NaN  \n",
       "11                                                NaN  \n",
       "12  {'url': 'https://api.github.com/repos/pandas-d...  \n",
       "13  {'url': 'https://api.github.com/repos/pandas-d...  \n",
       "14                                                NaN  \n",
       "15                                                NaN  \n",
       "16  {'url': 'https://api.github.com/repos/pandas-d...  \n",
       "17                                                NaN  \n",
       "18                                                NaN  \n",
       "19                                                NaN  \n",
       "20                                                NaN  \n",
       "21  {'url': 'https://api.github.com/repos/pandas-d...  \n",
       "22  {'url': 'https://api.github.com/repos/pandas-d...  \n",
       "23  {'url': 'https://api.github.com/repos/pandas-d...  \n",
       "24  {'url': 'https://api.github.com/repos/pandas-d...  \n",
       "25                                                NaN  \n",
       "26                                                NaN  \n",
       "27                                                NaN  \n",
       "28  {'url': 'https://api.github.com/repos/pandas-d...  \n",
       "29                                                NaN  \n",
       "\n",
       "[30 rows x 30 columns]"
      ]
     },
     "execution_count": 104,
     "metadata": {},
     "output_type": "execute_result"
    }
   ],
   "source": [
    "issues = pd.DataFrame(data)     #데이터 프레임으로 바꾸기\n",
    "issues"
   ]
  },
  {
   "cell_type": "markdown",
   "id": "c371e936-d774-4b7e-9c82-9946b847a94a",
   "metadata": {},
   "source": [
    "# 데이터 정제 및 준비"
   ]
  },
  {
   "cell_type": "markdown",
   "id": "ffee5cbf-43bb-452a-b61a-a24cf8f73600",
   "metadata": {},
   "source": [
    "### dropna\n",
    "- 누락된 데이터가 있는 축(로우,컬럼)을 제외시킨다.(하나라도 있으면 제외)\n",
    "- notnull()과 같은 방식"
   ]
  },
  {
   "cell_type": "code",
   "execution_count": 105,
   "id": "479bc1ed-155a-45f6-9780-3d009d497093",
   "metadata": {},
   "outputs": [
    {
     "data": {
      "text/plain": [
       "0    1.0\n",
       "2    3.5\n",
       "4    7.0\n",
       "dtype: float64"
      ]
     },
     "execution_count": 105,
     "metadata": {},
     "output_type": "execute_result"
    }
   ],
   "source": [
    "from numpy import nan as NA   #np.nan을 NA로 할당했다.\n",
    "\n",
    "data = pd.Series([1, NA, 3.5, NA, 7])\n",
    "data.dropna()"
   ]
  },
  {
   "cell_type": "code",
   "execution_count": 106,
   "id": "e01d6aa8-bc05-4f93-96bf-51dec0618433",
   "metadata": {},
   "outputs": [
    {
     "data": {
      "text/plain": [
       "0    1.0\n",
       "2    3.5\n",
       "4    7.0\n",
       "dtype: float64"
      ]
     },
     "execution_count": 106,
     "metadata": {},
     "output_type": "execute_result"
    }
   ],
   "source": [
    "data[data.notnull()]"
   ]
  },
  {
   "cell_type": "code",
   "execution_count": 107,
   "id": "65955ccd-e8ee-4c10-8772-2bc38a440447",
   "metadata": {},
   "outputs": [
    {
     "data": {
      "text/html": [
       "<div>\n",
       "<style scoped>\n",
       "    .dataframe tbody tr th:only-of-type {\n",
       "        vertical-align: middle;\n",
       "    }\n",
       "\n",
       "    .dataframe tbody tr th {\n",
       "        vertical-align: top;\n",
       "    }\n",
       "\n",
       "    .dataframe thead th {\n",
       "        text-align: right;\n",
       "    }\n",
       "</style>\n",
       "<table border=\"1\" class=\"dataframe\">\n",
       "  <thead>\n",
       "    <tr style=\"text-align: right;\">\n",
       "      <th></th>\n",
       "      <th>0</th>\n",
       "      <th>1</th>\n",
       "      <th>2</th>\n",
       "    </tr>\n",
       "  </thead>\n",
       "  <tbody>\n",
       "    <tr>\n",
       "      <th>0</th>\n",
       "      <td>1.0</td>\n",
       "      <td>6.5</td>\n",
       "      <td>3.0</td>\n",
       "    </tr>\n",
       "    <tr>\n",
       "      <th>1</th>\n",
       "      <td>1.0</td>\n",
       "      <td>NaN</td>\n",
       "      <td>NaN</td>\n",
       "    </tr>\n",
       "    <tr>\n",
       "      <th>2</th>\n",
       "      <td>NaN</td>\n",
       "      <td>NaN</td>\n",
       "      <td>NaN</td>\n",
       "    </tr>\n",
       "    <tr>\n",
       "      <th>3</th>\n",
       "      <td>NaN</td>\n",
       "      <td>6.5</td>\n",
       "      <td>3.0</td>\n",
       "    </tr>\n",
       "  </tbody>\n",
       "</table>\n",
       "</div>"
      ],
      "text/plain": [
       "     0    1    2\n",
       "0  1.0  6.5  3.0\n",
       "1  1.0  NaN  NaN\n",
       "2  NaN  NaN  NaN\n",
       "3  NaN  6.5  3.0"
      ]
     },
     "execution_count": 107,
     "metadata": {},
     "output_type": "execute_result"
    }
   ],
   "source": [
    "data = pd.DataFrame([[1,6.5,3],[1,NA,NA],\n",
    "                    [NA,NA,NA],[NA,6.5,3]])\n",
    "data"
   ]
  },
  {
   "cell_type": "code",
   "execution_count": 108,
   "id": "3551c53f-9e2e-461e-bbd8-c0d64fe4d7d8",
   "metadata": {},
   "outputs": [
    {
     "data": {
      "text/html": [
       "<div>\n",
       "<style scoped>\n",
       "    .dataframe tbody tr th:only-of-type {\n",
       "        vertical-align: middle;\n",
       "    }\n",
       "\n",
       "    .dataframe tbody tr th {\n",
       "        vertical-align: top;\n",
       "    }\n",
       "\n",
       "    .dataframe thead th {\n",
       "        text-align: right;\n",
       "    }\n",
       "</style>\n",
       "<table border=\"1\" class=\"dataframe\">\n",
       "  <thead>\n",
       "    <tr style=\"text-align: right;\">\n",
       "      <th></th>\n",
       "      <th>0</th>\n",
       "      <th>1</th>\n",
       "      <th>2</th>\n",
       "    </tr>\n",
       "  </thead>\n",
       "  <tbody>\n",
       "    <tr>\n",
       "      <th>0</th>\n",
       "      <td>1.0</td>\n",
       "      <td>6.5</td>\n",
       "      <td>3.0</td>\n",
       "    </tr>\n",
       "  </tbody>\n",
       "</table>\n",
       "</div>"
      ],
      "text/plain": [
       "     0    1    2\n",
       "0  1.0  6.5  3.0"
      ]
     },
     "execution_count": 108,
     "metadata": {},
     "output_type": "execute_result"
    }
   ],
   "source": [
    "cleaned = data.dropna()\n",
    "cleaned"
   ]
  },
  {
   "cell_type": "markdown",
   "id": "60a298fe-737a-400e-a20d-dddd515dbff1",
   "metadata": {},
   "source": [
    "```\n",
    "DataFrame 객체의 경우에는 모두 NA값인 로우나 컬럼만을 제외시킨다.\n",
    "dropna는 기본적으로 NA값이 하나라도 포함하고 있는 로우를 제외시킨다.\n",
    "```"
   ]
  },
  {
   "cell_type": "markdown",
   "id": "493042fb-287e-4353-bed5-e7aa21e2e73b",
   "metadata": {},
   "source": [
    "### fillna\n",
    "- fillna(채워 넣고 싶은 값)\n",
    "- 누락된 데이터를 대신할 값을 채우거나 'ffill'이나 'bfill' 같은 보간 메서드를 적용한다.\n",
    "- fillna에 사전값을 넘겨서 각 칼럼마다 다른 값을 채울 수도 있다. -> df.fillna({1:0.5, 2:0})\n",
    "- fillna는 새로운 객체를 반환하지만 기존 객체를 변경할 수도 있다."
   ]
  },
  {
   "cell_type": "code",
   "execution_count": 111,
   "id": "51256930-a539-40b1-be9f-c7db954ed5da",
   "metadata": {},
   "outputs": [
    {
     "data": {
      "text/html": [
       "<div>\n",
       "<style scoped>\n",
       "    .dataframe tbody tr th:only-of-type {\n",
       "        vertical-align: middle;\n",
       "    }\n",
       "\n",
       "    .dataframe tbody tr th {\n",
       "        vertical-align: top;\n",
       "    }\n",
       "\n",
       "    .dataframe thead th {\n",
       "        text-align: right;\n",
       "    }\n",
       "</style>\n",
       "<table border=\"1\" class=\"dataframe\">\n",
       "  <thead>\n",
       "    <tr style=\"text-align: right;\">\n",
       "      <th></th>\n",
       "      <th>0</th>\n",
       "      <th>1</th>\n",
       "      <th>2</th>\n",
       "    </tr>\n",
       "  </thead>\n",
       "  <tbody>\n",
       "    <tr>\n",
       "      <th>0</th>\n",
       "      <td>-0.861167</td>\n",
       "      <td>NaN</td>\n",
       "      <td>NaN</td>\n",
       "    </tr>\n",
       "    <tr>\n",
       "      <th>1</th>\n",
       "      <td>-1.424624</td>\n",
       "      <td>NaN</td>\n",
       "      <td>NaN</td>\n",
       "    </tr>\n",
       "    <tr>\n",
       "      <th>2</th>\n",
       "      <td>0.170282</td>\n",
       "      <td>NaN</td>\n",
       "      <td>-0.359745</td>\n",
       "    </tr>\n",
       "    <tr>\n",
       "      <th>3</th>\n",
       "      <td>0.980791</td>\n",
       "      <td>NaN</td>\n",
       "      <td>0.015648</td>\n",
       "    </tr>\n",
       "    <tr>\n",
       "      <th>4</th>\n",
       "      <td>-0.725212</td>\n",
       "      <td>-1.776044</td>\n",
       "      <td>-0.284780</td>\n",
       "    </tr>\n",
       "    <tr>\n",
       "      <th>5</th>\n",
       "      <td>1.243202</td>\n",
       "      <td>0.464715</td>\n",
       "      <td>-0.379286</td>\n",
       "    </tr>\n",
       "    <tr>\n",
       "      <th>6</th>\n",
       "      <td>-0.695390</td>\n",
       "      <td>-1.025323</td>\n",
       "      <td>0.948686</td>\n",
       "    </tr>\n",
       "  </tbody>\n",
       "</table>\n",
       "</div>"
      ],
      "text/plain": [
       "          0         1         2\n",
       "0 -0.861167       NaN       NaN\n",
       "1 -1.424624       NaN       NaN\n",
       "2  0.170282       NaN -0.359745\n",
       "3  0.980791       NaN  0.015648\n",
       "4 -0.725212 -1.776044 -0.284780\n",
       "5  1.243202  0.464715 -0.379286\n",
       "6 -0.695390 -1.025323  0.948686"
      ]
     },
     "execution_count": 111,
     "metadata": {},
     "output_type": "execute_result"
    }
   ],
   "source": [
    "df = pd.DataFrame(np.random.randn(7,3))\n",
    "df.iloc[:4, 1] = NA\n",
    "df.iloc[:2, 2] = NA\n",
    "df"
   ]
  },
  {
   "cell_type": "code",
   "execution_count": 112,
   "id": "bd093485-5a18-4ebe-b919-61ab22b29e5c",
   "metadata": {},
   "outputs": [
    {
     "data": {
      "text/html": [
       "<div>\n",
       "<style scoped>\n",
       "    .dataframe tbody tr th:only-of-type {\n",
       "        vertical-align: middle;\n",
       "    }\n",
       "\n",
       "    .dataframe tbody tr th {\n",
       "        vertical-align: top;\n",
       "    }\n",
       "\n",
       "    .dataframe thead th {\n",
       "        text-align: right;\n",
       "    }\n",
       "</style>\n",
       "<table border=\"1\" class=\"dataframe\">\n",
       "  <thead>\n",
       "    <tr style=\"text-align: right;\">\n",
       "      <th></th>\n",
       "      <th>0</th>\n",
       "      <th>1</th>\n",
       "      <th>2</th>\n",
       "    </tr>\n",
       "  </thead>\n",
       "  <tbody>\n",
       "    <tr>\n",
       "      <th>0</th>\n",
       "      <td>-0.861167</td>\n",
       "      <td>0.000000</td>\n",
       "      <td>0.000000</td>\n",
       "    </tr>\n",
       "    <tr>\n",
       "      <th>1</th>\n",
       "      <td>-1.424624</td>\n",
       "      <td>0.000000</td>\n",
       "      <td>0.000000</td>\n",
       "    </tr>\n",
       "    <tr>\n",
       "      <th>2</th>\n",
       "      <td>0.170282</td>\n",
       "      <td>0.000000</td>\n",
       "      <td>-0.359745</td>\n",
       "    </tr>\n",
       "    <tr>\n",
       "      <th>3</th>\n",
       "      <td>0.980791</td>\n",
       "      <td>0.000000</td>\n",
       "      <td>0.015648</td>\n",
       "    </tr>\n",
       "    <tr>\n",
       "      <th>4</th>\n",
       "      <td>-0.725212</td>\n",
       "      <td>-1.776044</td>\n",
       "      <td>-0.284780</td>\n",
       "    </tr>\n",
       "    <tr>\n",
       "      <th>5</th>\n",
       "      <td>1.243202</td>\n",
       "      <td>0.464715</td>\n",
       "      <td>-0.379286</td>\n",
       "    </tr>\n",
       "    <tr>\n",
       "      <th>6</th>\n",
       "      <td>-0.695390</td>\n",
       "      <td>-1.025323</td>\n",
       "      <td>0.948686</td>\n",
       "    </tr>\n",
       "  </tbody>\n",
       "</table>\n",
       "</div>"
      ],
      "text/plain": [
       "          0         1         2\n",
       "0 -0.861167  0.000000  0.000000\n",
       "1 -1.424624  0.000000  0.000000\n",
       "2  0.170282  0.000000 -0.359745\n",
       "3  0.980791  0.000000  0.015648\n",
       "4 -0.725212 -1.776044 -0.284780\n",
       "5  1.243202  0.464715 -0.379286\n",
       "6 -0.695390 -1.025323  0.948686"
      ]
     },
     "execution_count": 112,
     "metadata": {},
     "output_type": "execute_result"
    }
   ],
   "source": [
    "df.fillna(0)"
   ]
  },
  {
   "cell_type": "markdown",
   "id": "19876876-d127-4f2f-8b97-966c1eee775b",
   "metadata": {},
   "source": [
    "### 중복 제거\n",
    "- data.duplicated() : 각 로우가 중복인지 아닌지 알려준다.\n",
    "- data.drop_duplicates()  : duplicated 배열이 False인 DataFrame을 반환한다."
   ]
  },
  {
   "cell_type": "code",
   "execution_count": 113,
   "id": "65ea5452-98bd-4728-b21e-ebee1e431f03",
   "metadata": {},
   "outputs": [
    {
     "data": {
      "text/html": [
       "<div>\n",
       "<style scoped>\n",
       "    .dataframe tbody tr th:only-of-type {\n",
       "        vertical-align: middle;\n",
       "    }\n",
       "\n",
       "    .dataframe tbody tr th {\n",
       "        vertical-align: top;\n",
       "    }\n",
       "\n",
       "    .dataframe thead th {\n",
       "        text-align: right;\n",
       "    }\n",
       "</style>\n",
       "<table border=\"1\" class=\"dataframe\">\n",
       "  <thead>\n",
       "    <tr style=\"text-align: right;\">\n",
       "      <th></th>\n",
       "      <th>k1</th>\n",
       "      <th>k2</th>\n",
       "    </tr>\n",
       "  </thead>\n",
       "  <tbody>\n",
       "    <tr>\n",
       "      <th>0</th>\n",
       "      <td>one</td>\n",
       "      <td>1</td>\n",
       "    </tr>\n",
       "    <tr>\n",
       "      <th>1</th>\n",
       "      <td>two</td>\n",
       "      <td>1</td>\n",
       "    </tr>\n",
       "    <tr>\n",
       "      <th>2</th>\n",
       "      <td>one</td>\n",
       "      <td>2</td>\n",
       "    </tr>\n",
       "    <tr>\n",
       "      <th>3</th>\n",
       "      <td>two</td>\n",
       "      <td>3</td>\n",
       "    </tr>\n",
       "    <tr>\n",
       "      <th>4</th>\n",
       "      <td>one</td>\n",
       "      <td>3</td>\n",
       "    </tr>\n",
       "    <tr>\n",
       "      <th>5</th>\n",
       "      <td>two</td>\n",
       "      <td>4</td>\n",
       "    </tr>\n",
       "    <tr>\n",
       "      <th>6</th>\n",
       "      <td>two</td>\n",
       "      <td>4</td>\n",
       "    </tr>\n",
       "  </tbody>\n",
       "</table>\n",
       "</div>"
      ],
      "text/plain": [
       "    k1  k2\n",
       "0  one   1\n",
       "1  two   1\n",
       "2  one   2\n",
       "3  two   3\n",
       "4  one   3\n",
       "5  two   4\n",
       "6  two   4"
      ]
     },
     "execution_count": 113,
     "metadata": {},
     "output_type": "execute_result"
    }
   ],
   "source": [
    "data = pd.DataFrame({'k1':['one','two']*3 + ['two'],\n",
    "                    'k2': [1,1,2,3,3,4,4]})\n",
    "data"
   ]
  },
  {
   "cell_type": "code",
   "execution_count": 114,
   "id": "c2654902-6637-48f1-a4e2-c7bb50898275",
   "metadata": {},
   "outputs": [
    {
     "data": {
      "text/plain": [
       "0    False\n",
       "1    False\n",
       "2    False\n",
       "3    False\n",
       "4    False\n",
       "5    False\n",
       "6     True\n",
       "dtype: bool"
      ]
     },
     "execution_count": 114,
     "metadata": {},
     "output_type": "execute_result"
    }
   ],
   "source": [
    "data.duplicated()"
   ]
  },
  {
   "cell_type": "code",
   "execution_count": 115,
   "id": "283f2d9f-6da4-41d1-ae77-c1361ca4f2b1",
   "metadata": {},
   "outputs": [
    {
     "data": {
      "text/html": [
       "<div>\n",
       "<style scoped>\n",
       "    .dataframe tbody tr th:only-of-type {\n",
       "        vertical-align: middle;\n",
       "    }\n",
       "\n",
       "    .dataframe tbody tr th {\n",
       "        vertical-align: top;\n",
       "    }\n",
       "\n",
       "    .dataframe thead th {\n",
       "        text-align: right;\n",
       "    }\n",
       "</style>\n",
       "<table border=\"1\" class=\"dataframe\">\n",
       "  <thead>\n",
       "    <tr style=\"text-align: right;\">\n",
       "      <th></th>\n",
       "      <th>k1</th>\n",
       "      <th>k2</th>\n",
       "    </tr>\n",
       "  </thead>\n",
       "  <tbody>\n",
       "    <tr>\n",
       "      <th>0</th>\n",
       "      <td>one</td>\n",
       "      <td>1</td>\n",
       "    </tr>\n",
       "    <tr>\n",
       "      <th>1</th>\n",
       "      <td>two</td>\n",
       "      <td>1</td>\n",
       "    </tr>\n",
       "    <tr>\n",
       "      <th>2</th>\n",
       "      <td>one</td>\n",
       "      <td>2</td>\n",
       "    </tr>\n",
       "    <tr>\n",
       "      <th>3</th>\n",
       "      <td>two</td>\n",
       "      <td>3</td>\n",
       "    </tr>\n",
       "    <tr>\n",
       "      <th>4</th>\n",
       "      <td>one</td>\n",
       "      <td>3</td>\n",
       "    </tr>\n",
       "    <tr>\n",
       "      <th>5</th>\n",
       "      <td>two</td>\n",
       "      <td>4</td>\n",
       "    </tr>\n",
       "  </tbody>\n",
       "</table>\n",
       "</div>"
      ],
      "text/plain": [
       "    k1  k2\n",
       "0  one   1\n",
       "1  two   1\n",
       "2  one   2\n",
       "3  two   3\n",
       "4  one   3\n",
       "5  two   4"
      ]
     },
     "execution_count": 115,
     "metadata": {},
     "output_type": "execute_result"
    }
   ],
   "source": [
    "data.drop_duplicates()"
   ]
  },
  {
   "cell_type": "markdown",
   "id": "20ece7ad-8bc8-4903-b3bd-df7ab146eea3",
   "metadata": {},
   "source": [
    "### map\n",
    "- 파이썬의 내장 함수인 map()는 여러 개의 데이터를 한 번에 다른 형태로 변환하기 위해서 사용된다.\n",
    "  따라서, 여러 개의 데이터를 담고 있는 list나 tuple을 대상으로 주로 사용하는 함수"
   ]
  },
  {
   "cell_type": "code",
   "execution_count": 118,
   "id": "765c530e-1c9e-4aee-bdb8-552667180bdc",
   "metadata": {},
   "outputs": [
    {
     "data": {
      "text/html": [
       "<div>\n",
       "<style scoped>\n",
       "    .dataframe tbody tr th:only-of-type {\n",
       "        vertical-align: middle;\n",
       "    }\n",
       "\n",
       "    .dataframe tbody tr th {\n",
       "        vertical-align: top;\n",
       "    }\n",
       "\n",
       "    .dataframe thead th {\n",
       "        text-align: right;\n",
       "    }\n",
       "</style>\n",
       "<table border=\"1\" class=\"dataframe\">\n",
       "  <thead>\n",
       "    <tr style=\"text-align: right;\">\n",
       "      <th></th>\n",
       "      <th>food</th>\n",
       "      <th>ounces</th>\n",
       "    </tr>\n",
       "  </thead>\n",
       "  <tbody>\n",
       "    <tr>\n",
       "      <th>0</th>\n",
       "      <td>bacon</td>\n",
       "      <td>4.0</td>\n",
       "    </tr>\n",
       "    <tr>\n",
       "      <th>1</th>\n",
       "      <td>pulled pork</td>\n",
       "      <td>3.0</td>\n",
       "    </tr>\n",
       "    <tr>\n",
       "      <th>2</th>\n",
       "      <td>bacon</td>\n",
       "      <td>12.0</td>\n",
       "    </tr>\n",
       "    <tr>\n",
       "      <th>3</th>\n",
       "      <td>Pastrami</td>\n",
       "      <td>6.0</td>\n",
       "    </tr>\n",
       "    <tr>\n",
       "      <th>4</th>\n",
       "      <td>corned beef</td>\n",
       "      <td>7.5</td>\n",
       "    </tr>\n",
       "    <tr>\n",
       "      <th>5</th>\n",
       "      <td>Bacon</td>\n",
       "      <td>8.0</td>\n",
       "    </tr>\n",
       "    <tr>\n",
       "      <th>6</th>\n",
       "      <td>pastrami</td>\n",
       "      <td>3.0</td>\n",
       "    </tr>\n",
       "    <tr>\n",
       "      <th>7</th>\n",
       "      <td>honey ham</td>\n",
       "      <td>5.0</td>\n",
       "    </tr>\n",
       "    <tr>\n",
       "      <th>8</th>\n",
       "      <td>nova lox</td>\n",
       "      <td>6.0</td>\n",
       "    </tr>\n",
       "  </tbody>\n",
       "</table>\n",
       "</div>"
      ],
      "text/plain": [
       "          food  ounces\n",
       "0        bacon     4.0\n",
       "1  pulled pork     3.0\n",
       "2        bacon    12.0\n",
       "3     Pastrami     6.0\n",
       "4  corned beef     7.5\n",
       "5        Bacon     8.0\n",
       "6     pastrami     3.0\n",
       "7    honey ham     5.0\n",
       "8     nova lox     6.0"
      ]
     },
     "execution_count": 118,
     "metadata": {},
     "output_type": "execute_result"
    }
   ],
   "source": [
    "#가상으로 수집한 육류 데이터 변형하기\n",
    "data = pd.DataFrame({'food': ['bacon', 'pulled pork', 'bacon',\n",
    "                             'Pastrami', 'corned beef', 'Bacon',\n",
    "                             'pastrami', 'honey ham', 'nova lox'],\n",
    "                     'ounces': [4, 3, 12, 6, 7.5, 8, 3, 5, 6]})\n",
    "data"
   ]
  },
  {
   "cell_type": "code",
   "execution_count": 119,
   "id": "d388b589-0239-4df5-8c37-af0c48edd710",
   "metadata": {},
   "outputs": [],
   "source": [
    "meat_to_animal = {\n",
    " 'bacon': 'pig',\n",
    " 'pulled pork': 'pig',\n",
    " 'pastrami': 'cow',\n",
    " 'corned beef': 'cow',\n",
    " 'honey ham': 'pig',\n",
    " 'nova lox': 'salmon'\n",
    "}"
   ]
  },
  {
   "cell_type": "markdown",
   "id": "9761d20f-c089-411a-957f-f979a624dce9",
   "metadata": {},
   "source": [
    "map은 사전류의 객체나 어떤 함수를 받을 수 있는데 위 데이터에는 육류 이름에 대소문자가 섞여있으므로\n",
    "\n",
    "str.lower 메서드를 사용해서 모두 소문자로 통일 시키기."
   ]
  },
  {
   "cell_type": "code",
   "execution_count": 121,
   "id": "43b08693-a411-4604-b81e-3bf3d6363d34",
   "metadata": {},
   "outputs": [
    {
     "data": {
      "text/plain": [
       "0          bacon\n",
       "1    pulled pork\n",
       "2          bacon\n",
       "3       pastrami\n",
       "4    corned beef\n",
       "5          bacon\n",
       "6       pastrami\n",
       "7      honey ham\n",
       "8       nova lox\n",
       "Name: food, dtype: object"
      ]
     },
     "execution_count": 121,
     "metadata": {},
     "output_type": "execute_result"
    }
   ],
   "source": [
    "lowercased = data['food'].str.lower()\n",
    "lowercased"
   ]
  },
  {
   "cell_type": "code",
   "execution_count": 123,
   "id": "a5276b7e-2f02-46ed-8926-1a9e21311c23",
   "metadata": {},
   "outputs": [
    {
     "data": {
      "text/html": [
       "<div>\n",
       "<style scoped>\n",
       "    .dataframe tbody tr th:only-of-type {\n",
       "        vertical-align: middle;\n",
       "    }\n",
       "\n",
       "    .dataframe tbody tr th {\n",
       "        vertical-align: top;\n",
       "    }\n",
       "\n",
       "    .dataframe thead th {\n",
       "        text-align: right;\n",
       "    }\n",
       "</style>\n",
       "<table border=\"1\" class=\"dataframe\">\n",
       "  <thead>\n",
       "    <tr style=\"text-align: right;\">\n",
       "      <th></th>\n",
       "      <th>food</th>\n",
       "      <th>ounces</th>\n",
       "      <th>animal</th>\n",
       "    </tr>\n",
       "  </thead>\n",
       "  <tbody>\n",
       "    <tr>\n",
       "      <th>0</th>\n",
       "      <td>bacon</td>\n",
       "      <td>4.0</td>\n",
       "      <td>pig</td>\n",
       "    </tr>\n",
       "    <tr>\n",
       "      <th>1</th>\n",
       "      <td>pulled pork</td>\n",
       "      <td>3.0</td>\n",
       "      <td>pig</td>\n",
       "    </tr>\n",
       "    <tr>\n",
       "      <th>2</th>\n",
       "      <td>bacon</td>\n",
       "      <td>12.0</td>\n",
       "      <td>pig</td>\n",
       "    </tr>\n",
       "    <tr>\n",
       "      <th>3</th>\n",
       "      <td>Pastrami</td>\n",
       "      <td>6.0</td>\n",
       "      <td>cow</td>\n",
       "    </tr>\n",
       "    <tr>\n",
       "      <th>4</th>\n",
       "      <td>corned beef</td>\n",
       "      <td>7.5</td>\n",
       "      <td>cow</td>\n",
       "    </tr>\n",
       "    <tr>\n",
       "      <th>5</th>\n",
       "      <td>Bacon</td>\n",
       "      <td>8.0</td>\n",
       "      <td>pig</td>\n",
       "    </tr>\n",
       "    <tr>\n",
       "      <th>6</th>\n",
       "      <td>pastrami</td>\n",
       "      <td>3.0</td>\n",
       "      <td>cow</td>\n",
       "    </tr>\n",
       "    <tr>\n",
       "      <th>7</th>\n",
       "      <td>honey ham</td>\n",
       "      <td>5.0</td>\n",
       "      <td>pig</td>\n",
       "    </tr>\n",
       "    <tr>\n",
       "      <th>8</th>\n",
       "      <td>nova lox</td>\n",
       "      <td>6.0</td>\n",
       "      <td>salmon</td>\n",
       "    </tr>\n",
       "  </tbody>\n",
       "</table>\n",
       "</div>"
      ],
      "text/plain": [
       "          food  ounces  animal\n",
       "0        bacon     4.0     pig\n",
       "1  pulled pork     3.0     pig\n",
       "2        bacon    12.0     pig\n",
       "3     Pastrami     6.0     cow\n",
       "4  corned beef     7.5     cow\n",
       "5        Bacon     8.0     pig\n",
       "6     pastrami     3.0     cow\n",
       "7    honey ham     5.0     pig\n",
       "8     nova lox     6.0  salmon"
      ]
     },
     "execution_count": 123,
     "metadata": {},
     "output_type": "execute_result"
    }
   ],
   "source": [
    "data['animal'] = lowercased.map(meat_to_animal)\n",
    "data   "
   ]
  },
  {
   "cell_type": "code",
   "execution_count": null,
   "id": "8c3e68eb-1005-41fd-972e-ac61c3318e30",
   "metadata": {},
   "outputs": [],
   "source": []
  }
 ],
 "metadata": {
  "kernelspec": {
   "display_name": "Python 3 (ipykernel)",
   "language": "python",
   "name": "python3"
  },
  "language_info": {
   "codemirror_mode": {
    "name": "ipython",
    "version": 3
   },
   "file_extension": ".py",
   "mimetype": "text/x-python",
   "name": "python",
   "nbconvert_exporter": "python",
   "pygments_lexer": "ipython3",
   "version": "3.10.6"
  },
  "toc-autonumbering": false,
  "toc-showmarkdowntxt": false
 },
 "nbformat": 4,
 "nbformat_minor": 5
}
