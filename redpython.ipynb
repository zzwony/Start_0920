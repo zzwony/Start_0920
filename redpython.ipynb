{
 "cells": [
  {
   "cell_type": "markdown",
   "id": "e5e603b1-93cb-484d-a6aa-6b80e725ed81",
   "metadata": {},
   "source": [
    "# CHAPTER 3"
   ]
  },
  {
   "cell_type": "markdown",
   "id": "064b08b0-75ac-4395-a005-63d8ef9b3f51",
   "metadata": {},
   "source": [
    "## 내장 자료구조, 함수, 파일"
   ]
  },
  {
   "cell_type": "markdown",
   "id": "347aeed6-9327-45b8-b00d-be990b631d7b",
   "metadata": {},
   "source": [
    "### enumerate"
   ]
  },
  {
   "cell_type": "code",
   "execution_count": 3,
   "id": "685aae7e-2c58-4f8c-9c79-8bc3cabaf6da",
   "metadata": {},
   "outputs": [
    {
     "data": {
      "text/plain": [
       "{'foo': 0, 'bar': 1, 'baz': 2}"
      ]
     },
     "execution_count": 3,
     "metadata": {},
     "output_type": "execute_result"
    }
   ],
   "source": [
    "li = ['foo','bar','baz']\n",
    "mapping = {}\n",
    "\n",
    "for i, v in enumerate(li):\n",
    "    mapping[v] = i\n",
    "    \n",
    "mapping"
   ]
  },
  {
   "cell_type": "markdown",
   "id": "0ffa4dc8-31ab-4956-8dfe-1fcbb51fa13a",
   "metadata": {},
   "source": [
    "### sorted\n",
    "- 정렬"
   ]
  },
  {
   "cell_type": "code",
   "execution_count": 5,
   "id": "3204e7f7-f739-4139-b3c9-475e4f680343",
   "metadata": {},
   "outputs": [
    {
     "data": {
      "text/plain": [
       "[2, 2, 3, 4, 4, 5, 5, 6, 6]"
      ]
     },
     "execution_count": 5,
     "metadata": {},
     "output_type": "execute_result"
    }
   ],
   "source": [
    "sorted([6,5,6,2,4,3,5,2,4])"
   ]
  },
  {
   "cell_type": "markdown",
   "id": "7a031be2-60e8-4340-9ad1-fee15314f700",
   "metadata": {},
   "source": [
    "### zip \n",
    "- 다른 순차 자료형과 짝지어줌"
   ]
  },
  {
   "cell_type": "code",
   "execution_count": 11,
   "id": "9fc55645-8d26-4229-bed5-80bd1e11971b",
   "metadata": {},
   "outputs": [
    {
     "data": {
      "text/plain": [
       "[('foo', 'one'), ('bar', 'two'), ('baz', 'three')]"
      ]
     },
     "execution_count": 11,
     "metadata": {},
     "output_type": "execute_result"
    }
   ],
   "source": [
    "a = ['foo', 'bar', 'baz']\n",
    "b = ['one', 'two', 'three']\n",
    "\n",
    "zipping = zip(a,b)\n",
    "list(zipping)"
   ]
  },
  {
   "cell_type": "markdown",
   "id": "1798cb57-5c7c-47e2-ba57-cdafd26f893a",
   "metadata": {},
   "source": [
    "- zip과 enumerate가 함께 사용 가능"
   ]
  },
  {
   "cell_type": "code",
   "execution_count": 13,
   "id": "edabdd98-64e1-476e-bd7a-2862d416d43b",
   "metadata": {},
   "outputs": [
    {
     "name": "stdout",
     "output_type": "stream",
     "text": [
      "0: foo,one\n",
      "1: bar,two\n",
      "2: baz,three\n"
     ]
    }
   ],
   "source": [
    "for i, (c,d) in enumerate(zip(a, b)):\n",
    "    print('{0}: {1},{2}'.format(i,c,d))"
   ]
  },
  {
   "cell_type": "markdown",
   "id": "da1c3ac4-d120-4ecc-b8b0-2a3917eeed86",
   "metadata": {},
   "source": [
    "### reversed\n",
    "- 역순"
   ]
  },
  {
   "cell_type": "code",
   "execution_count": 19,
   "id": "7bb0e713-9b7e-4a2a-9bef-0c47989489ce",
   "metadata": {},
   "outputs": [
    {
     "data": {
      "text/plain": [
       "[5, 4, 3, 2, 1]"
      ]
     },
     "execution_count": 19,
     "metadata": {},
     "output_type": "execute_result"
    }
   ],
   "source": [
    "a = [1,2,3,4,5]\n",
    "\n",
    "list(reversed(a))"
   ]
  },
  {
   "cell_type": "markdown",
   "id": "e3b90c85-ae96-4a28-bd4a-8b74ff7da4f1",
   "metadata": {},
   "source": [
    "## 사전"
   ]
  },
  {
   "cell_type": "code",
   "execution_count": 20,
   "id": "5fa4efba-f948-465b-b02e-5ab38ca179ba",
   "metadata": {},
   "outputs": [
    {
     "data": {
      "text/plain": [
       "{'a': 'some value', 'b': [1, 2, 3, 4]}"
      ]
     },
     "execution_count": 20,
     "metadata": {},
     "output_type": "execute_result"
    }
   ],
   "source": [
    "empty_dict = {}\n",
    "d1 = {'a' : 'some value', 'b':[1,2,3,4]}\n",
    "d1"
   ]
  },
  {
   "cell_type": "markdown",
   "id": "8117b1a0-f920-420f-aaa7-ab13645e5ba9",
   "metadata": {},
   "source": [
    "### keys"
   ]
  },
  {
   "cell_type": "code",
   "execution_count": 23,
   "id": "b93a55da-fa7a-4514-b9b6-5c3d2bb7c8d5",
   "metadata": {},
   "outputs": [
    {
     "data": {
      "text/plain": [
       "['a', 'b']"
      ]
     },
     "execution_count": 23,
     "metadata": {},
     "output_type": "execute_result"
    }
   ],
   "source": [
    "list(d1.keys())"
   ]
  },
  {
   "cell_type": "markdown",
   "id": "26cdea8d-c546-43bd-9d0d-a9f52caef2ab",
   "metadata": {},
   "source": [
    "### values"
   ]
  },
  {
   "cell_type": "code",
   "execution_count": 24,
   "id": "c8f485a1-8629-409e-b4b6-137f90e72b2c",
   "metadata": {},
   "outputs": [
    {
     "data": {
      "text/plain": [
       "['some value', [1, 2, 3, 4]]"
      ]
     },
     "execution_count": 24,
     "metadata": {},
     "output_type": "execute_result"
    }
   ],
   "source": [
    "list(d1.values())"
   ]
  },
  {
   "cell_type": "markdown",
   "id": "82daf7e0-cb0f-4058-954d-c68b3b23bdbf",
   "metadata": {},
   "source": [
    "### update\n",
    "- 다른 사전과 합치기"
   ]
  },
  {
   "cell_type": "code",
   "execution_count": 25,
   "id": "e518dd3f-b3b2-4617-bb17-520706fd944b",
   "metadata": {},
   "outputs": [
    {
     "data": {
      "text/plain": [
       "{'a': 'some value', 'b': 'foo', 'c': '12'}"
      ]
     },
     "execution_count": 25,
     "metadata": {},
     "output_type": "execute_result"
    }
   ],
   "source": [
    "d1.update({'b':'foo', 'c':'12'})\n",
    "d1"
   ]
  },
  {
   "cell_type": "markdown",
   "id": "f06e0f98-3216-4c02-884a-dfc424298a20",
   "metadata": {},
   "source": [
    "## 집합"
   ]
  },
  {
   "cell_type": "markdown",
   "id": "db469a74-e461-48c9-9529-51254128ba88",
   "metadata": {},
   "source": [
    "### set\n",
    "- 집합 생성"
   ]
  },
  {
   "cell_type": "code",
   "execution_count": 26,
   "id": "58912d46-7385-4ca5-b173-3a162ece9c52",
   "metadata": {},
   "outputs": [
    {
     "data": {
      "text/plain": [
       "{1, 2, 3, 4, 5}"
      ]
     },
     "execution_count": 26,
     "metadata": {},
     "output_type": "execute_result"
    }
   ],
   "source": [
    "set([1,2,3,4,4,5])"
   ]
  },
  {
   "cell_type": "markdown",
   "id": "b1b28631-6542-419b-a872-3792e0c83687",
   "metadata": {},
   "source": [
    "- 합집합 -> |"
   ]
  },
  {
   "cell_type": "code",
   "execution_count": 28,
   "id": "daf4511c-59ea-4afb-bac9-a74c36816f6a",
   "metadata": {},
   "outputs": [
    {
     "data": {
      "text/plain": [
       "{1, 2, 3, 4, 5, 6}"
      ]
     },
     "execution_count": 28,
     "metadata": {},
     "output_type": "execute_result"
    }
   ],
   "source": [
    "a = {1,2,3,4}\n",
    "b = {3,4,5,6}\n",
    "\n",
    "a|b"
   ]
  },
  {
   "cell_type": "markdown",
   "id": "b48952b5-e148-4246-8665-d7e4be550743",
   "metadata": {},
   "source": [
    "- 교집합 -> intersection"
   ]
  },
  {
   "cell_type": "code",
   "execution_count": 29,
   "id": "d1e17233-9cb7-463c-a61e-ed5191059471",
   "metadata": {},
   "outputs": [
    {
     "data": {
      "text/plain": [
       "{3, 4}"
      ]
     },
     "execution_count": 29,
     "metadata": {},
     "output_type": "execute_result"
    }
   ],
   "source": [
    "a.intersection(b)"
   ]
  },
  {
   "cell_type": "markdown",
   "id": "64a3c01c-215d-4e40-8138-6774704b3fd7",
   "metadata": {},
   "source": [
    "## 리스트, 집합, 사전 표기법"
   ]
  },
  {
   "cell_type": "code",
   "execution_count": null,
   "id": "e8cc5653-9fb1-426c-b2b2-8205a14cd567",
   "metadata": {},
   "outputs": [],
   "source": [
    "result = []\n",
    "for val in collection:\n",
    "    if condition:\n",
    "        result.append(expr)"
   ]
  },
  {
   "cell_type": "code",
   "execution_count": null,
   "id": "f20f4410-7f6e-4d0f-832a-1c6df307912c",
   "metadata": {},
   "outputs": [],
   "source": [
    "expr for val in collection if condition  # 위 아래 같은 문장(리스트 표기법)"
   ]
  },
  {
   "cell_type": "code",
   "execution_count": 3,
   "id": "253096c0-d91e-4efd-b8e5-463553c9291d",
   "metadata": {},
   "outputs": [],
   "source": [
    "#중첩된 리스트 표기법\n",
    "\n",
    "all_data = [['John','Emily','Michael','Mary','Steven'],\n",
    "            ['Maria','Juan','Javier','Natalia','Pilar']]"
   ]
  },
  {
   "cell_type": "code",
   "execution_count": 21,
   "id": "a332b9ba-a929-4b9f-9f62-697c1578fdad",
   "metadata": {},
   "outputs": [
    {
     "data": {
      "text/plain": [
       "['Steven']"
      ]
     },
     "execution_count": 21,
     "metadata": {},
     "output_type": "execute_result"
    }
   ],
   "source": [
    "a = [name for i in all_data for name in i\n",
    "     if name.count('e') >= 2]\n",
    "\n",
    "list(a)"
   ]
  },
  {
   "cell_type": "code",
   "execution_count": 22,
   "id": "7831307c-1973-4286-ac05-1095b0b6ce65",
   "metadata": {},
   "outputs": [
    {
     "data": {
      "text/plain": [
       "[1, 2, 3, 4, 5, 6, 7, 8, 9]"
      ]
     },
     "execution_count": 22,
     "metadata": {},
     "output_type": "execute_result"
    }
   ],
   "source": [
    "a = [(1,2,3),(4,5,6),(7,8,9)]\n",
    "c = [b for i in a for b in i]\n",
    "c"
   ]
  },
  {
   "cell_type": "markdown",
   "id": "10a03024-2000-43fa-8a69-cac70af94f9c",
   "metadata": {},
   "source": [
    "## 익명함수"
   ]
  },
  {
   "cell_type": "markdown",
   "id": "2e62b940-c135-4648-9e5d-eb7755424033",
   "metadata": {},
   "source": [
    "### lambda\n",
    "- '익명 함수를 선언한다'\n",
    "- (lambda 매개변수 : 표현식)(x,y의 각각 넣어줄 숫자)"
   ]
  },
  {
   "cell_type": "code",
   "execution_count": 29,
   "id": "ab972c03-b73c-41e0-9e33-0c10ca03171f",
   "metadata": {},
   "outputs": [
    {
     "data": {
      "text/plain": [
       "30"
      ]
     },
     "execution_count": 29,
     "metadata": {},
     "output_type": "execute_result"
    }
   ],
   "source": [
    "def hap(x, y):\n",
    "    return x + y\n",
    "\n",
    "hap(10, 20)   # 이 식을 간단하게 하면 밑에처럼 쓸 수 있다."
   ]
  },
  {
   "cell_type": "code",
   "execution_count": 30,
   "id": "bcf8e7d7-d3d7-45c1-b3ba-7c1b75b354b1",
   "metadata": {},
   "outputs": [
    {
     "data": {
      "text/plain": [
       "30"
      ]
     },
     "execution_count": 30,
     "metadata": {},
     "output_type": "execute_result"
    }
   ],
   "source": [
    "(lambda x,y : x+y)(10,20)"
   ]
  },
  {
   "cell_type": "code",
   "execution_count": null,
   "id": "cd00703f-d299-4c23-a8a6-f14ba0faac2d",
   "metadata": {},
   "outputs": [],
   "source": [
    "m = lambda x :x[0]  #이렇게도 쓰임"
   ]
  },
  {
   "cell_type": "markdown",
   "id": "ece5327a-249e-4736-accf-11d080cb35b5",
   "metadata": {},
   "source": [
    "## 제너레이터"
   ]
  },
  {
   "cell_type": "markdown",
   "id": "8b9a272c-241a-4fdb-9cb5-2803490aac79",
   "metadata": {},
   "source": [
    "### Iterable\n",
    "- 반복 가능한 객체\n",
    "- 대표적인 iterable한 타입 : list, dict, set, str, bytes, tuple, range"
   ]
  },
  {
   "cell_type": "markdown",
   "id": "694e1550-af02-4a15-9f69-2d2fe21dd507",
   "metadata": {},
   "source": [
    "### Iterator\n",
    "- 값을 차례대로 꺼낼 수 있는 객체\n",
    "- 파이썬 내장함수인 iter()를 사용해서 iterator 객체를 만들 수 있다."
   ]
  },
  {
   "cell_type": "markdown",
   "id": "f9aad451-1580-4a43-8b17-2777c16e02d1",
   "metadata": {},
   "source": [
    "### Generator\n",
    "- 순회 가능한 객체를 생성하는 간단한 방법, 함수안에 yield 키워드를 사용\n",
    "- yield 가 호출되면 암시적으로 return이 호출되며,\n",
    "\n",
    "  한번 더 실행되면 실행되었던 yield 다음 코드가 실행된다.\n",
    "- 특징\n",
    "   1. iterable한 순서가 지정됨(모든 generator는 iterator)\n",
    "   2. 무한한 순서가 있는 객체를 모델링할 수 있다.(for문에서 사용 가능)"
   ]
  },
  {
   "cell_type": "code",
   "execution_count": 40,
   "id": "7d18cb03-528a-45f9-bf21-50a8d57d37a2",
   "metadata": {},
   "outputs": [
    {
     "name": "stdout",
     "output_type": "stream",
     "text": [
      "A\n",
      "B\n",
      "C\n"
     ]
    }
   ],
   "source": [
    "a = {'A':1, 'B':2, 'C':3}\n",
    "\n",
    "for key in a:\n",
    "    print(key)"
   ]
  },
  {
   "cell_type": "code",
   "execution_count": 39,
   "id": "b1b3a0c1-67aa-4ebb-86bc-dbff85efcfe6",
   "metadata": {},
   "outputs": [
    {
     "name": "stdout",
     "output_type": "stream",
     "text": [
      "0\n",
      "1\n",
      "2\n",
      "3\n"
     ]
    }
   ],
   "source": [
    "def number_generator():\n",
    "    yield 0\n",
    "    yield 1\n",
    "    yield 2\n",
    "    yield 3\n",
    "\n",
    "for i in number_generator():\n",
    "    print(i)"
   ]
  },
  {
   "cell_type": "markdown",
   "id": "953308d6-2bbe-4d85-976b-e9fbe2142b8a",
   "metadata": {},
   "source": [
    "- 제너레이터 표현식"
   ]
  },
  {
   "cell_type": "code",
   "execution_count": 41,
   "id": "dafc3705-e328-4438-b408-85182a24b99b",
   "metadata": {},
   "outputs": [],
   "source": [
    "gen = (x**2 for x in range(100))"
   ]
  },
  {
   "cell_type": "code",
   "execution_count": 43,
   "id": "0dbc05aa-6bc0-488c-9c23-d10c25203b72",
   "metadata": {},
   "outputs": [],
   "source": [
    "def make_gen():\n",
    "    for x in range(100):\n",
    "        yield x**2"
   ]
  },
  {
   "cell_type": "markdown",
   "id": "9a4bb16b-d250-481b-8cf9-b6e3b02871eb",
   "metadata": {},
   "source": [
    "gen와 make_gen은 동일한 코드이다."
   ]
  },
  {
   "cell_type": "markdown",
   "id": "1704f287-8939-4d6b-b2df-dfc4b4a458c2",
   "metadata": {},
   "source": [
    "### itertools 모듈\n",
    "- 매개변수로 입력된 iterable 안에 있는 키를 확인 후,\n",
    "  \n",
    "  분류하여 동일한 키를 가진 element들을 해당 키를 기준으로\n",
    "  그룹지어 리턴한다."
   ]
  },
  {
   "cell_type": "code",
   "execution_count": 46,
   "id": "1e06da58-3107-4dce-b115-6268ceb096c2",
   "metadata": {},
   "outputs": [],
   "source": [
    "from itertools import groupby\n",
    "\n",
    "a = [('Europe', 'Manchester'),\n",
    "    ('Asia', 'Seoul'),\n",
    "    ('Asia', 'Tokyo'),\n",
    "    ('America', 'NewYork')]"
   ]
  },
  {
   "cell_type": "code",
   "execution_count": 48,
   "id": "b93cfab4-e623-4afc-90bd-4a927fe0207d",
   "metadata": {},
   "outputs": [
    {
     "name": "stdout",
     "output_type": "stream",
     "text": [
      "Europe: [('Europe', 'Manchester')]\n",
      "Asia: [('Asia', 'Seoul'), ('Asia', 'Tokyo')]\n",
      "America: [('America', 'NewYork')]\n"
     ]
    }
   ],
   "source": [
    "m = lambda x :x[0]\n",
    "g = groupby(a, m)\n",
    "\n",
    "for key, group in g:\n",
    "    print(key + ':', list(group))"
   ]
  },
  {
   "cell_type": "code",
   "execution_count": 83,
   "id": "3d65f95a-e463-4a6c-8bc8-43fafa61cc4b",
   "metadata": {},
   "outputs": [
    {
     "name": "stdout",
     "output_type": "stream",
     "text": [
      "A : ['Alan', 'Adam']\n",
      "W : ['Wes', 'Will']\n",
      "S : ['Steven']\n"
     ]
    }
   ],
   "source": [
    "name = ['Alan', 'Adam', 'Wes', 'Will', 'Steven']\n",
    "\n",
    "first_name = lambda x : x[0]\n",
    "g = groupby(name, first_name)\n",
    "\n",
    "for first, group in g:\n",
    "    print(first, ':', list(group))"
   ]
  },
  {
   "cell_type": "markdown",
   "id": "15890b88-3f5e-4d92-8b14-6414ea2831bc",
   "metadata": {},
   "source": [
    "# CHAPTER 4"
   ]
  },
  {
   "cell_type": "markdown",
   "id": "35464b27-be0b-4168-af65-5e24bdc65d7d",
   "metadata": {},
   "source": [
    "## NumPy"
   ]
  },
  {
   "cell_type": "markdown",
   "id": "2dc98d0d-98c0-4ecb-b667-93d7e6903a4c",
   "metadata": {},
   "source": [
    "### array\n",
    "- 배열을 생성한다."
   ]
  },
  {
   "cell_type": "code",
   "execution_count": 86,
   "id": "bfdfb1eb-21fa-4b20-8814-8934837b4276",
   "metadata": {},
   "outputs": [
    {
     "data": {
      "text/plain": [
       "array([6. , 7.5, 8. , 0. , 1. ])"
      ]
     },
     "execution_count": 86,
     "metadata": {},
     "output_type": "execute_result"
    }
   ],
   "source": [
    "import numpy as np\n",
    "\n",
    "data1 = [6, 7.5, 8, 0, 1]\n",
    "arr1 = np.array(data1)\n",
    "arr1"
   ]
  },
  {
   "cell_type": "code",
   "execution_count": 87,
   "id": "41b4bcfc-de8a-4757-9d02-9449fa8df6a0",
   "metadata": {},
   "outputs": [
    {
     "data": {
      "text/plain": [
       "array([[1, 2, 3, 4],\n",
       "       [5, 6, 7, 8]])"
      ]
     },
     "execution_count": 87,
     "metadata": {},
     "output_type": "execute_result"
    }
   ],
   "source": [
    "data2 = [[1,2,3,4],[5,6,7,8]]\n",
    "arr2 = np.array(data2)\n",
    "arr2"
   ]
  },
  {
   "cell_type": "markdown",
   "id": "3955bfb1-0307-4fdd-92db-5c50fde5111e",
   "metadata": {},
   "source": [
    "```\n",
    "arr1은 1차원 형태로 생성되었고\n",
    "arr2는 해당 데이터로부터 형태를 추론해서 2차원 형태로 생성되었다.\n",
    "```"
   ]
  },
  {
   "cell_type": "markdown",
   "id": "1ba8684d-67ba-46a7-b44a-d52655d8c8c4",
   "metadata": {},
   "source": [
    "- np.zeros()"
   ]
  },
  {
   "cell_type": "code",
   "execution_count": 88,
   "id": "ac663131-bb7a-4457-ad1d-a0088c5d4dd4",
   "metadata": {},
   "outputs": [
    {
     "data": {
      "text/plain": [
       "array([[[0., 0.],\n",
       "        [0., 0.],\n",
       "        [0., 0.]],\n",
       "\n",
       "       [[0., 0.],\n",
       "        [0., 0.],\n",
       "        [0., 0.]]])"
      ]
     },
     "execution_count": 88,
     "metadata": {},
     "output_type": "execute_result"
    }
   ],
   "source": [
    "np.zeros((2,3,2))"
   ]
  },
  {
   "cell_type": "markdown",
   "id": "2497b072-2240-4760-9784-06bcce4e275a",
   "metadata": {},
   "source": [
    "- np.ones()"
   ]
  },
  {
   "cell_type": "code",
   "execution_count": 90,
   "id": "00c307c9-2eee-4be7-b8c2-c09976e7340f",
   "metadata": {},
   "outputs": [
    {
     "data": {
      "text/plain": [
       "array([[[1., 1.],\n",
       "        [1., 1.],\n",
       "        [1., 1.]],\n",
       "\n",
       "       [[1., 1.],\n",
       "        [1., 1.],\n",
       "        [1., 1.]]])"
      ]
     },
     "execution_count": 90,
     "metadata": {},
     "output_type": "execute_result"
    }
   ],
   "source": [
    "np.ones((2,3,2))"
   ]
  },
  {
   "cell_type": "markdown",
   "id": "9d664742-231e-420f-9f30-a2563405a692",
   "metadata": {},
   "source": [
    "- np.arange()"
   ]
  },
  {
   "cell_type": "code",
   "execution_count": 92,
   "id": "c51ae38c-0809-45b9-99a1-fb3386e56bca",
   "metadata": {},
   "outputs": [
    {
     "data": {
      "text/plain": [
       "array([ 0,  1,  2,  3,  4,  5,  6,  7,  8,  9, 10, 11, 12, 13, 14])"
      ]
     },
     "execution_count": 92,
     "metadata": {},
     "output_type": "execute_result"
    }
   ],
   "source": [
    "np.arange(15)"
   ]
  },
  {
   "cell_type": "markdown",
   "id": "c8630426-c0c0-4be5-a6c9-f70841ff2ff0",
   "metadata": {},
   "source": [
    "### astype('데이터타입')\n",
    "- 데이터 타입을 명시해준다."
   ]
  },
  {
   "cell_type": "code",
   "execution_count": 100,
   "id": "de44f478-9893-4c02-a05c-95f074fe7cb0",
   "metadata": {},
   "outputs": [
    {
     "data": {
      "text/plain": [
       "array([ 1.25, -9.6 , 42.  ])"
      ]
     },
     "execution_count": 100,
     "metadata": {},
     "output_type": "execute_result"
    }
   ],
   "source": [
    "a = np.array(['1.25', '-9.6', '42'])\n",
    "\n",
    "a = a.astype('float')\n",
    "a"
   ]
  },
  {
   "cell_type": "markdown",
   "id": "eb924f3e-aa7a-4577-83b9-ace7af3a1b5d",
   "metadata": {},
   "source": [
    "### 슬라이싱 기초"
   ]
  },
  {
   "cell_type": "code",
   "execution_count": 101,
   "id": "e8ce5244-9b08-4565-b3f7-a8efd2a5315e",
   "metadata": {},
   "outputs": [
    {
     "data": {
      "text/plain": [
       "array([0, 1, 2, 3, 4, 5, 6, 7, 8, 9])"
      ]
     },
     "execution_count": 101,
     "metadata": {},
     "output_type": "execute_result"
    }
   ],
   "source": [
    "arr = np.arange(10)\n",
    "arr"
   ]
  },
  {
   "cell_type": "code",
   "execution_count": 102,
   "id": "2d83845e-6e79-4759-9e82-c994d69a59b5",
   "metadata": {},
   "outputs": [
    {
     "data": {
      "text/plain": [
       "array([5, 6, 7])"
      ]
     },
     "execution_count": 102,
     "metadata": {},
     "output_type": "execute_result"
    }
   ],
   "source": [
    "arr[5:8]"
   ]
  },
  {
   "cell_type": "code",
   "execution_count": 103,
   "id": "3785e8a1-b545-4772-aaf8-92cebe494ad1",
   "metadata": {},
   "outputs": [],
   "source": [
    "arr[5:8] = 12"
   ]
  },
  {
   "cell_type": "code",
   "execution_count": 104,
   "id": "02f71df6-75dd-46a9-a9fc-7a4096f56ee8",
   "metadata": {},
   "outputs": [
    {
     "data": {
      "text/plain": [
       "array([ 0,  1,  2,  3,  4, 12, 12, 12,  8,  9])"
      ]
     },
     "execution_count": 104,
     "metadata": {},
     "output_type": "execute_result"
    }
   ],
   "source": [
    "arr"
   ]
  },
  {
   "cell_type": "markdown",
   "id": "e7089227-687e-45ec-baa4-a8aaf925ddae",
   "metadata": {},
   "source": [
    "리스트와의 중요한 차이점은 배열 조각은 원본 배열의 '뷰'라는 점이다.\n",
    "\n",
    "즉, 데이터는 복사되지 않고 뷰에 대한 변경은 그대로 원본 배열에 반영된다."
   ]
  },
  {
   "cell_type": "markdown",
   "id": "c16b440b-3bb1-492a-9fcc-fdb842abc99b",
   "metadata": {},
   "source": [
    "### np.unique()\n",
    "- 배열 내에서 중복된 원소를 제거하고 남은 원소를 정렬된 형태로 반환하는 함수"
   ]
  },
  {
   "cell_type": "code",
   "execution_count": 105,
   "id": "43097d4f-4b28-49d8-b528-e973dc5fabf4",
   "metadata": {},
   "outputs": [],
   "source": [
    "name = np.array(['Bob', 'Joe', 'Will', 'Bob', 'Will', 'Joe', 'Joe'])"
   ]
  },
  {
   "cell_type": "code",
   "execution_count": 106,
   "id": "4ade2d45-b046-4370-af1c-370d69f01114",
   "metadata": {},
   "outputs": [
    {
     "data": {
      "text/plain": [
       "array(['Bob', 'Joe', 'Will'], dtype='<U4')"
      ]
     },
     "execution_count": 106,
     "metadata": {},
     "output_type": "execute_result"
    }
   ],
   "source": [
    "np.unique(name)"
   ]
  },
  {
   "cell_type": "markdown",
   "id": "863c7c85-eaed-47d3-aaa1-80cb1eff454d",
   "metadata": {},
   "source": [
    "### np.random\n",
    "- 난수 생성"
   ]
  },
  {
   "cell_type": "code",
   "execution_count": 108,
   "id": "b4155869-7a2d-47f9-8730-10c6c6ac9ab1",
   "metadata": {},
   "outputs": [
    {
     "data": {
      "text/plain": [
       "array([[-0.95251574, -2.33397988, -1.86659069, -0.99808454],\n",
       "       [ 0.81976274, -1.91849312, -0.6951497 , -1.05566583],\n",
       "       [ 1.07599734, -0.1356794 , -0.72891413, -0.96165884],\n",
       "       [-0.49812924,  0.08643829, -0.42618419, -1.31830111]])"
      ]
     },
     "execution_count": 108,
     "metadata": {},
     "output_type": "execute_result"
    }
   ],
   "source": [
    "a = np.random.normal(size = (4,4))\n",
    "a"
   ]
  },
  {
   "cell_type": "markdown",
   "id": "b2863bda-0150-4981-b8d4-9ef0777825b9",
   "metadata": {},
   "source": [
    "normal을 이용하여표준정규분포로부터 4X4크기의 표본 생성함"
   ]
  },
  {
   "cell_type": "code",
   "execution_count": null,
   "id": "1e2524b3-35b1-4140-84ef-d6b1adb13e48",
   "metadata": {},
   "outputs": [],
   "source": []
  }
 ],
 "metadata": {
  "kernelspec": {
   "display_name": "Python 3 (ipykernel)",
   "language": "python",
   "name": "python3"
  },
  "language_info": {
   "codemirror_mode": {
    "name": "ipython",
    "version": 3
   },
   "file_extension": ".py",
   "mimetype": "text/x-python",
   "name": "python",
   "nbconvert_exporter": "python",
   "pygments_lexer": "ipython3",
   "version": "3.10.6"
  }
 },
 "nbformat": 4,
 "nbformat_minor": 5
}
