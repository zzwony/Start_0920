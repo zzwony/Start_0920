{
  "nbformat": 4,
  "nbformat_minor": 0,
  "metadata": {
    "colab": {
      "provenance": [],
      "authorship_tag": "ABX9TyN7Xs8WZYBn+Y55SeLzE5sd",
      "include_colab_link": true
    },
    "kernelspec": {
      "name": "python3",
      "display_name": "Python 3"
    },
    "language_info": {
      "name": "python"
    },
    "accelerator": "GPU",
    "gpuClass": "standard"
  },
  "cells": [
    {
      "cell_type": "markdown",
      "metadata": {
        "id": "view-in-github",
        "colab_type": "text"
      },
      "source": [
        "<a href=\"https://colab.research.google.com/github/zzwony/Start_0920/blob/main/GAN.ipynb\" target=\"_parent\"><img src=\"https://colab.research.google.com/assets/colab-badge.svg\" alt=\"Open In Colab\"/></a>"
      ]
    },
    {
      "cell_type": "code",
      "execution_count": 12,
      "metadata": {
        "colab": {
          "base_uri": "https://localhost:8080/",
          "height": 109
        },
        "id": "NC_YBLDQNik9",
        "outputId": "e6f929f4-1870-4803-d112-7b50c44817bc"
      },
      "outputs": [
        {
          "output_type": "stream",
          "name": "stderr",
          "text": [
            "Downloading...\n",
            "From: https://drive.google.com/uc?id=1lY922EZj1o3-q9gpTeVXNis2SU2LdPX8\n",
            "To: /content/celeba_gan.tar\n",
            "100%|██████████| 15.5M/15.5M [00:00<00:00, 38.3MB/s]\n"
          ]
        },
        {
          "output_type": "execute_result",
          "data": {
            "text/plain": [
              "'celeba_gan.tar'"
            ],
            "application/vnd.google.colaboratory.intrinsic+json": {
              "type": "string"
            }
          },
          "metadata": {},
          "execution_count": 12
        }
      ],
      "source": [
        "# CelebA 데이터 내려받기\n",
        "import gdown\n",
        "url = \"https://drive.google.com/uc?id=1lY922EZj1o3-q9gpTeVXNis2SU2LdPX8\"\n",
        "gdown.download(url, \"celeba_gan.tar\") "
      ]
    },
    {
      "cell_type": "code",
      "source": [
        "!tar -xvf celeba_gan.tar"
      ],
      "metadata": {
        "id": "KX-I6V91TOzQ"
      },
      "execution_count": null,
      "outputs": []
    },
    {
      "cell_type": "code",
      "source": [
        "# 이미지 디렉터리에 데이터셋을 만들기\n",
        "from tensorflow import keras\n",
        "\n",
        "dataset = keras.utils.image_dataset_from_directory(\n",
        "  \"celeba_gan\",\n",
        "  label_mode=None,\n",
        "  image_size=(64, 64),\n",
        "  batch_size=32,\n",
        "  smart_resize=True)"
      ],
      "metadata": {
        "colab": {
          "base_uri": "https://localhost:8080/"
        },
        "id": "RkXELA9zNveE",
        "outputId": "a7de7999-7b36-411c-914b-a2f14d9af17b"
      },
      "execution_count": 16,
      "outputs": [
        {
          "output_type": "stream",
          "name": "stdout",
          "text": [
            "Found 2000 files belonging to 1 classes.\n"
          ]
        }
      ]
    },
    {
      "cell_type": "code",
      "source": [
        "dataset = dataset.map(lambda x: x / 255.)"
      ],
      "metadata": {
        "id": "Lq1T5PjRQulG"
      },
      "execution_count": 17,
      "outputs": []
    },
    {
      "cell_type": "code",
      "source": [
        "import matplotlib.pyplot as plt\n",
        "for x in dataset:\n",
        "    plt.axis(\"off\")\n",
        "    plt.imshow((x.numpy() * 255).astype(\"int32\")[0])\n",
        "    break\n"
      ],
      "metadata": {
        "colab": {
          "base_uri": "https://localhost:8080/",
          "height": 248
        },
        "id": "XM8d1G87QwXm",
        "outputId": "2a763e44-b73b-4e0d-d4b6-e6831e86c61e"
      },
      "execution_count": 18,
      "outputs": [
        {
          "output_type": "display_data",
          "data": {
            "text/plain": [
              "<Figure size 432x288 with 1 Axes>"
            ],
            "image/png": "[encoded data removed]"
          },
          "metadata": {
            "needs_background": "light"
          }
        }
      ]
    },
    {
      "cell_type": "code",
      "source": [
        "# GAN 판별자 네트워크 생성 (경찰)\n",
        "from tensorflow.keras import layers\n",
        "\n",
        "discriminator = keras.Sequential(\n",
        "    [\n",
        "        keras.Input(shape=(64, 64, 3)),\n",
        "        layers.Conv2D(64, kernel_size=4, strides=2, padding=\"same\"),\n",
        "        layers.LeakyReLU(alpha=0.2),\n",
        "        layers.Conv2D(128, kernel_size=4, strides=2, padding=\"same\"),\n",
        "        layers.LeakyReLU(alpha=0.2),\n",
        "        layers.Conv2D(128, kernel_size=4, strides=2, padding=\"same\"),\n",
        "        layers.LeakyReLU(alpha=0.2),\n",
        "        layers.Flatten(),\n",
        "        layers.Dropout(0.2),\n",
        "        layers.Dense(1, activation=\"sigmoid\"),\n",
        "    ],\n",
        "    name=\"discriminator\",\n",
        ")"
      ],
      "metadata": {
        "id": "qQQuUGk2PSBr"
      },
      "execution_count": 24,
      "outputs": []
    },
    {
      "cell_type": "code",
      "source": [
        "discriminator.summary()"
      ],
      "metadata": {
        "colab": {
          "base_uri": "https://localhost:8080/"
        },
        "id": "DkCsug5ReKIh",
        "outputId": "685ee8e9-6847-4249-fbe6-c3eb24d04be6"
      },
      "execution_count": 25,
      "outputs": [
        {
          "output_type": "stream",
          "name": "stdout",
          "text": [
            "Model: \"discriminator\"\n",
            "_________________________________________________________________\n",
            " Layer (type)                Output Shape              Param #   \n",
            "=================================================================\n",
            " conv2d_9 (Conv2D)           (None, 32, 32, 64)        3136      \n",
            "                                                                 \n",
            " leaky_re_lu_6 (LeakyReLU)   (None, 32, 32, 64)        0         \n",
            "                                                                 \n",
            " conv2d_10 (Conv2D)          (None, 16, 16, 128)       131200    \n",
            "                                                                 \n",
            " leaky_re_lu_7 (LeakyReLU)   (None, 16, 16, 128)       0         \n",
            "                                                                 \n",
            " conv2d_11 (Conv2D)          (None, 8, 8, 128)         262272    \n",
            "                                                                 \n",
            " leaky_re_lu_8 (LeakyReLU)   (None, 8, 8, 128)         0         \n",
            "                                                                 \n",
            " flatten (Flatten)           (None, 8192)              0         \n",
            "                                                                 \n",
            " dropout (Dropout)           (None, 8192)              0         \n",
            "                                                                 \n",
            " dense (Dense)               (None, 1)                 8193      \n",
            "                                                                 \n",
            "=================================================================\n",
            "Total params: 404,801\n",
            "Trainable params: 404,801\n",
            "Non-trainable params: 0\n",
            "_________________________________________________________________\n"
          ]
        }
      ]
    },
    {
      "cell_type": "code",
      "source": [
        "# GAN 생성자 네트워크 생성 (사기꾼)\n",
        "latent_dim = 128\n",
        "\n",
        "generator = keras.Sequential(\n",
        "    [\n",
        "        keras.Input(shape=(latent_dim,)),\n",
        "        layers.Dense(8 * 8 * 128),\n",
        "        layers.Reshape((8, 8, 128)),\n",
        "        layers.Conv2DTranspose(128, kernel_size=4, strides=2, padding=\"same\"),\n",
        "        layers.LeakyReLU(alpha=0.2),\n",
        "        layers.Conv2DTranspose(256, kernel_size=4, strides=2, padding=\"same\"),\n",
        "        layers.LeakyReLU(alpha=0.2),\n",
        "        layers.Conv2DTranspose(512, kernel_size=4, strides=2, padding=\"same\"),\n",
        "        layers.LeakyReLU(alpha=0.2),\n",
        "        layers.Conv2D(3, kernel_size=5, padding=\"same\", activation=\"sigmoid\"),\n",
        "    ],\n",
        "    name=\"generator\",\n",
        ")"
      ],
      "metadata": {
        "id": "btchguX9PSD_"
      },
      "execution_count": 26,
      "outputs": []
    },
    {
      "cell_type": "code",
      "source": [
        "generator.summary()"
      ],
      "metadata": {
        "colab": {
          "base_uri": "https://localhost:8080/"
        },
        "id": "9y_35yXjPSGd",
        "outputId": "74a34597-ffb2-43b2-e39f-f27779a4e934"
      },
      "execution_count": 27,
      "outputs": [
        {
          "output_type": "stream",
          "name": "stdout",
          "text": [
            "Model: \"generator\"\n",
            "_________________________________________________________________\n",
            " Layer (type)                Output Shape              Param #   \n",
            "=================================================================\n",
            " dense_1 (Dense)             (None, 8192)              1056768   \n",
            "                                                                 \n",
            " reshape (Reshape)           (None, 8, 8, 128)         0         \n",
            "                                                                 \n",
            " conv2d_transpose (Conv2DTra  (None, 16, 16, 128)      262272    \n",
            " nspose)                                                         \n",
            "                                                                 \n",
            " leaky_re_lu_9 (LeakyReLU)   (None, 16, 16, 128)       0         \n",
            "                                                                 \n",
            " conv2d_transpose_1 (Conv2DT  (None, 32, 32, 256)      524544    \n",
            " ranspose)                                                       \n",
            "                                                                 \n",
            " leaky_re_lu_10 (LeakyReLU)  (None, 32, 32, 256)       0         \n",
            "                                                                 \n",
            " conv2d_transpose_2 (Conv2DT  (None, 64, 64, 512)      2097664   \n",
            " ranspose)                                                       \n",
            "                                                                 \n",
            " leaky_re_lu_11 (LeakyReLU)  (None, 64, 64, 512)       0         \n",
            "                                                                 \n",
            " conv2d_12 (Conv2D)          (None, 64, 64, 3)         38403     \n",
            "                                                                 \n",
            "=================================================================\n",
            "Total params: 3,979,651\n",
            "Trainable params: 3,979,651\n",
            "Non-trainable params: 0\n",
            "_________________________________________________________________\n"
          ]
        }
      ]
    },
    {
      "cell_type": "code",
      "source": [
        "import tensorflow as tf\n",
        "class GAN(keras.Model):\n",
        "    def __init__(self, discriminator, generator, latent_dim):\n",
        "        super().__init__()\n",
        "        self.discriminator = discriminator\n",
        "        self.generator = generator\n",
        "        self.latent_dim = latent_dim\n",
        "        self.d_loss_metric = keras.metrics.Mean(name=\"d_loss\")\n",
        "        self.g_loss_metric = keras.metrics.Mean(name=\"g_loss\")\n",
        "\n",
        "    def compile(self, d_optimizer, g_optimizer, loss_fn):\n",
        "        super(GAN, self).compile()\n",
        "        self.d_optimizer = d_optimizer\n",
        "        self.g_optimizer = g_optimizer\n",
        "        self.loss_fn = loss_fn\n",
        "\n",
        "    @property\n",
        "    def metrics(self):\n",
        "        return [self.d_loss_metric, self.g_loss_metric]\n",
        "\n",
        "    def train_step(self, real_images):\n",
        "        batch_size = tf.shape(real_images)[0]\n",
        "        random_latent_vectors = tf.random.normal(\n",
        "            shape=(batch_size, self.latent_dim))\n",
        "        generated_images = self.generator(random_latent_vectors)\n",
        "        combined_images = tf.concat([generated_images, real_images], axis=0)\n",
        "        labels = tf.concat(\n",
        "            [tf.ones((batch_size, 1)), tf.zeros((batch_size, 1))],\n",
        "            axis=0\n",
        "        )\n",
        "        labels += 0.05 * tf.random.uniform(tf.shape(labels))\n",
        "\n",
        "        with tf.GradientTape() as tape:\n",
        "            predictions = self.discriminator(combined_images)\n",
        "            d_loss = self.loss_fn(labels, predictions)\n",
        "        grads = tape.gradient(d_loss, self.discriminator.trainable_weights)\n",
        "        self.d_optimizer.apply_gradients(\n",
        "            zip(grads, self.discriminator.trainable_weights)\n",
        "        )\n",
        "\n",
        "        random_latent_vectors = tf.random.normal(\n",
        "            shape=(batch_size, self.latent_dim))\n",
        "\n",
        "        misleading_labels = tf.zeros((batch_size, 1))\n",
        "\n",
        "        with tf.GradientTape() as tape:\n",
        "            predictions = self.discriminator(\n",
        "                self.generator(random_latent_vectors))\n",
        "            g_loss = self.loss_fn(misleading_labels, predictions)\n",
        "        grads = tape.gradient(g_loss, self.generator.trainable_weights)\n",
        "        self.g_optimizer.apply_gradients(\n",
        "            zip(grads, self.generator.trainable_weights))\n",
        "\n",
        "        self.d_loss_metric.update_state(d_loss)\n",
        "        self.g_loss_metric.update_state(g_loss)\n",
        "        return {\"d_loss\": self.d_loss_metric.result(),\n",
        "                \"g_loss\": self.g_loss_metric.result()}\n"
      ],
      "metadata": {
        "id": "6amgYfqdPSI2"
      },
      "execution_count": 28,
      "outputs": []
    },
    {
      "cell_type": "code",
      "source": [
        "class GANMonitor(keras.callbacks.Callback):\n",
        "    def __init__(self, num_img=3, latent_dim=128):\n",
        "        self.num_img = num_img\n",
        "        self.latent_dim = latent_dim\n",
        "\n",
        "    def on_epoch_end(self, epoch, logs=None):\n",
        "        random_latent_vectors = tf.random.normal(shape=(self.num_img, self.latent_dim))\n",
        "        generated_images = self.model.generator(random_latent_vectors)\n",
        "        generated_images *= 255\n",
        "        generated_images.numpy()\n",
        "        for i in range(self.num_img):\n",
        "            img = keras.utils.array_to_img(generated_images[i])\n",
        "            img.save(f\"generated_img_{epoch:03d}_{i}.png\")"
      ],
      "metadata": {
        "id": "wLOIJDhCPSLP"
      },
      "execution_count": 29,
      "outputs": []
    },
    {
      "cell_type": "code",
      "source": [
        "epochs = 100\n",
        "\n",
        "gan = GAN(discriminator=discriminator, generator=generator, latent_dim=latent_dim)\n",
        "gan.compile(\n",
        "    d_optimizer=keras.optimizers.Adam(learning_rate=0.0001),\n",
        "    g_optimizer=keras.optimizers.Adam(learning_rate=0.0001),\n",
        "    loss_fn=keras.losses.BinaryCrossentropy(),\n",
        ")\n",
        "\n",
        "gan.fit(\n",
        "    dataset, epochs=epochs, callbacks=[GANMonitor(num_img=10, latent_dim=latent_dim)]\n",
        ")\n"
      ],
      "metadata": {
        "colab": {
          "base_uri": "https://localhost:8080/"
        },
        "id": "LpqgbHQePSNo",
        "outputId": "913106e6-7f28-47b3-e343-4b002dd5e2b5"
      },
      "execution_count": 30,
      "outputs": [
        {
          "output_type": "stream",
          "name": "stdout",
          "text": [
            "Epoch 1/100\n",
            "63/63 [==============================] - 33s 288ms/step - d_loss: 0.4987 - g_loss: 1.2878\n",
            "Epoch 2/100\n",
            "63/63 [==============================] - 17s 261ms/step - d_loss: 0.4304 - g_loss: 1.6782\n",
            "Epoch 3/100\n",
            "63/63 [==============================] - 17s 265ms/step - d_loss: 0.6328 - g_loss: 0.8013\n",
            "Epoch 4/100\n",
            "63/63 [==============================] - 17s 266ms/step - d_loss: 0.4246 - g_loss: 2.9341\n",
            "Epoch 5/100\n",
            "63/63 [==============================] - 17s 270ms/step - d_loss: 0.4682 - g_loss: 1.3210\n",
            "Epoch 6/100\n",
            "63/63 [==============================] - 17s 273ms/step - d_loss: 0.4992 - g_loss: 1.2259\n",
            "Epoch 7/100\n",
            "63/63 [==============================] - 18s 277ms/step - d_loss: 0.4549 - g_loss: 1.5278\n",
            "Epoch 8/100\n",
            "63/63 [==============================] - 18s 278ms/step - d_loss: 0.6289 - g_loss: 1.7405\n",
            "Epoch 9/100\n",
            "63/63 [==============================] - 18s 282ms/step - d_loss: 0.5930 - g_loss: 1.4213\n",
            "Epoch 10/100\n",
            "63/63 [==============================] - 18s 280ms/step - d_loss: 0.4809 - g_loss: 1.4082\n",
            "Epoch 11/100\n",
            "63/63 [==============================] - 18s 279ms/step - d_loss: 0.5887 - g_loss: 2.8520\n",
            "Epoch 12/100\n",
            "63/63 [==============================] - 18s 280ms/step - d_loss: 0.7212 - g_loss: 1.3529\n",
            "Epoch 13/100\n",
            "63/63 [==============================] - 18s 282ms/step - d_loss: 0.6284 - g_loss: 1.0506\n",
            "Epoch 14/100\n",
            "63/63 [==============================] - 18s 284ms/step - d_loss: 0.5881 - g_loss: 1.3281\n",
            "Epoch 15/100\n",
            "63/63 [==============================] - 18s 282ms/step - d_loss: 0.6294 - g_loss: 1.0296\n",
            "Epoch 16/100\n",
            "63/63 [==============================] - 18s 283ms/step - d_loss: 0.5108 - g_loss: 1.2218\n",
            "Epoch 17/100\n",
            "63/63 [==============================] - 18s 283ms/step - d_loss: 0.7135 - g_loss: 1.0542\n",
            "Epoch 18/100\n",
            "63/63 [==============================] - 18s 285ms/step - d_loss: 0.6049 - g_loss: 1.1237\n",
            "Epoch 19/100\n",
            "63/63 [==============================] - 18s 285ms/step - d_loss: 0.5999 - g_loss: 0.9725\n",
            "Epoch 20/100\n",
            "63/63 [==============================] - 18s 285ms/step - d_loss: 0.6025 - g_loss: 1.1256\n",
            "Epoch 21/100\n",
            "63/63 [==============================] - 18s 286ms/step - d_loss: 0.5805 - g_loss: 1.0440\n",
            "Epoch 22/100\n",
            "63/63 [==============================] - 18s 287ms/step - d_loss: 0.6021 - g_loss: 1.0673\n",
            "Epoch 23/100\n",
            "63/63 [==============================] - 18s 287ms/step - d_loss: 0.5293 - g_loss: 1.2572\n",
            "Epoch 24/100\n",
            "63/63 [==============================] - 18s 285ms/step - d_loss: 0.5495 - g_loss: 1.3654\n",
            "Epoch 25/100\n",
            "63/63 [==============================] - 18s 286ms/step - d_loss: 0.6412 - g_loss: 1.1815\n",
            "Epoch 26/100\n",
            "63/63 [==============================] - 18s 287ms/step - d_loss: 0.5654 - g_loss: 1.1618\n",
            "Epoch 27/100\n",
            "63/63 [==============================] - 18s 287ms/step - d_loss: 0.5959 - g_loss: 1.3174\n",
            "Epoch 28/100\n",
            "63/63 [==============================] - 18s 287ms/step - d_loss: 0.5439 - g_loss: 1.5169\n",
            "Epoch 29/100\n",
            "63/63 [==============================] - 18s 286ms/step - d_loss: 0.6513 - g_loss: 1.0365\n",
            "Epoch 30/100\n",
            "63/63 [==============================] - 18s 285ms/step - d_loss: 0.5621 - g_loss: 1.1055\n",
            "Epoch 31/100\n",
            "63/63 [==============================] - 18s 286ms/step - d_loss: 0.4416 - g_loss: 1.7183\n",
            "Epoch 32/100\n",
            "63/63 [==============================] - 18s 286ms/step - d_loss: 0.5401 - g_loss: 1.3705\n",
            "Epoch 33/100\n",
            "63/63 [==============================] - 18s 287ms/step - d_loss: 0.6878 - g_loss: 1.2035\n",
            "Epoch 34/100\n",
            "63/63 [==============================] - 18s 287ms/step - d_loss: 0.5782 - g_loss: 1.1428\n",
            "Epoch 35/100\n",
            "63/63 [==============================] - 18s 285ms/step - d_loss: 0.5932 - g_loss: 1.0423\n",
            "Epoch 36/100\n",
            "63/63 [==============================] - 18s 286ms/step - d_loss: 0.6669 - g_loss: 0.9342\n",
            "Epoch 37/100\n",
            "63/63 [==============================] - 18s 286ms/step - d_loss: 0.5956 - g_loss: 1.2289\n",
            "Epoch 38/100\n",
            "63/63 [==============================] - 18s 287ms/step - d_loss: 0.6528 - g_loss: 1.0717\n",
            "Epoch 39/100\n",
            "63/63 [==============================] - 18s 287ms/step - d_loss: 0.6572 - g_loss: 1.0146\n",
            "Epoch 40/100\n",
            "63/63 [==============================] - 18s 286ms/step - d_loss: 0.6295 - g_loss: 1.0407\n",
            "Epoch 41/100\n",
            "63/63 [==============================] - 18s 286ms/step - d_loss: 0.6233 - g_loss: 0.9187\n",
            "Epoch 42/100\n",
            "63/63 [==============================] - 18s 286ms/step - d_loss: 0.6136 - g_loss: 0.9178\n",
            "Epoch 43/100\n",
            "63/63 [==============================] - 18s 287ms/step - d_loss: 0.5925 - g_loss: 1.1606\n",
            "Epoch 44/100\n",
            "63/63 [==============================] - 18s 287ms/step - d_loss: 0.7025 - g_loss: 1.0284\n",
            "Epoch 45/100\n",
            "63/63 [==============================] - 18s 287ms/step - d_loss: 0.5571 - g_loss: 1.1702\n",
            "Epoch 46/100\n",
            "63/63 [==============================] - 18s 287ms/step - d_loss: 0.6846 - g_loss: 0.8958\n",
            "Epoch 47/100\n",
            "63/63 [==============================] - 18s 286ms/step - d_loss: 0.5388 - g_loss: 1.2858\n",
            "Epoch 48/100\n",
            "63/63 [==============================] - 18s 286ms/step - d_loss: 0.6067 - g_loss: 1.2469\n",
            "Epoch 49/100\n",
            "63/63 [==============================] - 18s 285ms/step - d_loss: 0.8143 - g_loss: 1.1408\n",
            "Epoch 50/100\n",
            "63/63 [==============================] - 18s 286ms/step - d_loss: 0.5227 - g_loss: 1.7087\n",
            "Epoch 51/100\n",
            "63/63 [==============================] - 18s 286ms/step - d_loss: 0.7519 - g_loss: 1.2528\n",
            "Epoch 52/100\n",
            "63/63 [==============================] - 18s 287ms/step - d_loss: 0.6699 - g_loss: 0.8029\n",
            "Epoch 53/100\n",
            "63/63 [==============================] - 18s 285ms/step - d_loss: 0.6130 - g_loss: 0.8619\n",
            "Epoch 54/100\n",
            "63/63 [==============================] - 18s 286ms/step - d_loss: 0.6687 - g_loss: 0.8832\n",
            "Epoch 55/100\n",
            "63/63 [==============================] - 18s 286ms/step - d_loss: 0.6503 - g_loss: 0.9501\n",
            "Epoch 56/100\n",
            "63/63 [==============================] - 18s 286ms/step - d_loss: 0.6103 - g_loss: 0.9000\n",
            "Epoch 57/100\n",
            "63/63 [==============================] - 18s 286ms/step - d_loss: 0.5915 - g_loss: 1.0197\n",
            "Epoch 58/100\n",
            "63/63 [==============================] - 18s 286ms/step - d_loss: 0.6153 - g_loss: 1.0766\n",
            "Epoch 59/100\n",
            "63/63 [==============================] - 18s 287ms/step - d_loss: 0.6347 - g_loss: 1.1378\n",
            "Epoch 60/100\n",
            "63/63 [==============================] - 18s 286ms/step - d_loss: 0.5351 - g_loss: 1.1487\n",
            "Epoch 61/100\n",
            "63/63 [==============================] - 18s 286ms/step - d_loss: 0.5919 - g_loss: 0.8885\n",
            "Epoch 62/100\n",
            "63/63 [==============================] - 18s 286ms/step - d_loss: 0.4890 - g_loss: 2.1161\n",
            "Epoch 63/100\n",
            "63/63 [==============================] - 18s 287ms/step - d_loss: 0.5542 - g_loss: 1.8915\n",
            "Epoch 64/100\n",
            "63/63 [==============================] - 18s 286ms/step - d_loss: 0.5690 - g_loss: 1.3471\n",
            "Epoch 65/100\n",
            "63/63 [==============================] - 18s 285ms/step - d_loss: 0.6765 - g_loss: 1.0966\n",
            "Epoch 66/100\n",
            "63/63 [==============================] - 18s 285ms/step - d_loss: 0.5699 - g_loss: 1.0793\n",
            "Epoch 67/100\n",
            "63/63 [==============================] - 18s 287ms/step - d_loss: 0.6340 - g_loss: 1.2250\n",
            "Epoch 68/100\n",
            "63/63 [==============================] - 18s 288ms/step - d_loss: 0.6031 - g_loss: 1.1201\n",
            "Epoch 69/100\n",
            "63/63 [==============================] - 18s 286ms/step - d_loss: 0.6679 - g_loss: 1.2638\n",
            "Epoch 70/100\n",
            "63/63 [==============================] - 18s 286ms/step - d_loss: 0.5810 - g_loss: 1.4631\n",
            "Epoch 71/100\n",
            "63/63 [==============================] - 18s 284ms/step - d_loss: 0.5660 - g_loss: 1.0969\n",
            "Epoch 72/100\n",
            "63/63 [==============================] - 18s 286ms/step - d_loss: 0.6091 - g_loss: 1.1668\n",
            "Epoch 73/100\n",
            "63/63 [==============================] - 18s 287ms/step - d_loss: 0.6572 - g_loss: 1.1104\n",
            "Epoch 74/100\n",
            "63/63 [==============================] - 18s 285ms/step - d_loss: 0.7389 - g_loss: 0.8375\n",
            "Epoch 75/100\n",
            "63/63 [==============================] - 18s 285ms/step - d_loss: 0.5659 - g_loss: 0.8969\n",
            "Epoch 76/100\n",
            "63/63 [==============================] - 18s 286ms/step - d_loss: 0.6092 - g_loss: 1.0787\n",
            "Epoch 77/100\n",
            "63/63 [==============================] - 18s 288ms/step - d_loss: 0.6571 - g_loss: 1.1924\n",
            "Epoch 78/100\n",
            "63/63 [==============================] - 18s 286ms/step - d_loss: 0.6950 - g_loss: 0.8465\n",
            "Epoch 79/100\n",
            "63/63 [==============================] - 18s 287ms/step - d_loss: 0.6781 - g_loss: 0.8078\n",
            "Epoch 80/100\n",
            "63/63 [==============================] - 18s 285ms/step - d_loss: 0.6502 - g_loss: 0.9322\n",
            "Epoch 81/100\n",
            "63/63 [==============================] - 18s 287ms/step - d_loss: 0.6593 - g_loss: 1.1954\n",
            "Epoch 82/100\n",
            "63/63 [==============================] - 18s 286ms/step - d_loss: 0.5891 - g_loss: 1.1611\n",
            "Epoch 83/100\n",
            "63/63 [==============================] - 18s 285ms/step - d_loss: 0.5971 - g_loss: 1.0096\n",
            "Epoch 84/100\n",
            "63/63 [==============================] - 18s 287ms/step - d_loss: 0.6247 - g_loss: 1.4353\n",
            "Epoch 85/100\n",
            "63/63 [==============================] - 18s 287ms/step - d_loss: 0.6800 - g_loss: 1.4183\n",
            "Epoch 86/100\n",
            "63/63 [==============================] - 18s 287ms/step - d_loss: 0.6277 - g_loss: 1.1919\n",
            "Epoch 87/100\n",
            "63/63 [==============================] - 18s 286ms/step - d_loss: 0.6146 - g_loss: 0.9194\n",
            "Epoch 88/100\n",
            "63/63 [==============================] - 18s 287ms/step - d_loss: 0.4761 - g_loss: 1.3171\n",
            "Epoch 89/100\n",
            "63/63 [==============================] - 18s 285ms/step - d_loss: 0.6484 - g_loss: 1.4192\n",
            "Epoch 90/100\n",
            "63/63 [==============================] - 18s 286ms/step - d_loss: 0.5748 - g_loss: 1.2096\n",
            "Epoch 91/100\n",
            "63/63 [==============================] - 18s 287ms/step - d_loss: 0.7189 - g_loss: 1.1151\n",
            "Epoch 92/100\n",
            "63/63 [==============================] - 18s 285ms/step - d_loss: 0.6341 - g_loss: 0.9150\n",
            "Epoch 93/100\n",
            "63/63 [==============================] - 18s 286ms/step - d_loss: 0.7496 - g_loss: 0.9006\n",
            "Epoch 94/100\n",
            "63/63 [==============================] - 18s 285ms/step - d_loss: 0.6911 - g_loss: 0.7395\n",
            "Epoch 95/100\n",
            "63/63 [==============================] - 18s 285ms/step - d_loss: 0.6208 - g_loss: 0.9125\n",
            "Epoch 96/100\n",
            "63/63 [==============================] - 18s 287ms/step - d_loss: 0.6242 - g_loss: 1.0231\n",
            "Epoch 97/100\n",
            "63/63 [==============================] - 18s 288ms/step - d_loss: 0.7510 - g_loss: 0.7990\n",
            "Epoch 98/100\n",
            "63/63 [==============================] - 18s 285ms/step - d_loss: 0.5708 - g_loss: 0.9811\n",
            "Epoch 99/100\n",
            "63/63 [==============================] - 18s 285ms/step - d_loss: 0.6550 - g_loss: 0.9671\n",
            "Epoch 100/100\n",
            "63/63 [==============================] - 18s 286ms/step - d_loss: 0.5672 - g_loss: 1.1018\n"
          ]
        },
        {
          "output_type": "execute_result",
          "data": {
            "text/plain": [
              "<keras.callbacks.History at 0x7f1530163e50>"
            ]
          },
          "metadata": {},
          "execution_count": 30
        }
      ]
    },
    {
      "cell_type": "code",
      "source": [],
      "metadata": {
        "id": "W9-Ute48PSQQ"
      },
      "execution_count": null,
      "outputs": []
    },
    {
      "cell_type": "code",
      "source": [],
      "metadata": {
        "id": "-QXRkPdhPSSf"
      },
      "execution_count": null,
      "outputs": []
    },
    {
      "cell_type": "code",
      "source": [],
      "metadata": {
        "id": "MxTI2zbPPSVK"
      },
      "execution_count": null,
      "outputs": []
    },
    {
      "cell_type": "code",
      "source": [],
      "metadata": {
        "id": "tJfV1DdcPSXR"
      },
      "execution_count": null,
      "outputs": []
    }
  ]
}