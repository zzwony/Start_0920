{
  "nbformat": 4,
  "nbformat_minor": 0,
  "metadata": {
    "colab": {
      "provenance": [],
      "machine_shape": "hm",
      "authorship_tag": "ABX9TyMvSbL8RZ8cyVCYyWQtgrq5",
      "include_colab_link": true
    },
    "kernelspec": {
      "name": "python3",
      "display_name": "Python 3"
    },
    "language_info": {
      "name": "python"
    },
    "accelerator": "GPU",
    "gpuClass": "standard"
  },
  "cells": [
    {
      "cell_type": "markdown",
      "metadata": {
        "id": "view-in-github",
        "colab_type": "text"
      },
      "source": [
        "<a href=\"https://colab.research.google.com/github/zzwony/Start_0920/blob/main/01_20_gans.ipynb\" target=\"_parent\"><img src=\"https://colab.research.google.com/assets/colab-badge.svg\" alt=\"Open In Colab\"/></a>"
      ]
    },
    {
      "cell_type": "code",
      "source": [
        "from google.colab import drive\n",
        "drive.mount('/content/drive')"
      ],
      "metadata": {
        "colab": {
          "base_uri": "https://localhost:8080/"
        },
        "id": "A4mmXfk9hz-y",
        "outputId": "176ecc43-9948-4e53-ae26-cbd4e2611151"
      },
      "execution_count": 2,
      "outputs": [
        {
          "output_type": "stream",
          "name": "stdout",
          "text": [
            "Mounted at /content/drive\n"
          ]
        }
      ]
    },
    {
      "cell_type": "markdown",
      "source": [
        "https://pseudo-lab.github.io/Tutorial-Book/chapters/GAN/Ch1-Introduction.html"
      ],
      "metadata": {
        "id": "SXB0dBILff-y"
      }
    },
    {
      "cell_type": "markdown",
      "source": [
        "# 적대적 생성 신경망(Generative Adversarial Networks, GAN)\n",
        "\n",
        "- 2014년, Ian Goodfellow 소개\n",
        "\n",
        "- VAE와는 다른 방법으로 이미지 잠재 공간을 학습\n",
        "\n",
        "- 직관적으로 이해하는 방법\n",
        "\n",
        "  - 가짜 피카소 그림을 그리는 위조범과 이를 판별하는 판매상의 관계\n",
        "\n",
        "  - 위조품과 진짜 그림을 섞어서 판매상에게 보여주며  \n",
        "    그림이 진짜인지 가짜인지 판매상은 판별하고 이를 위조범에게 피드백\n",
        "\n",
        "  - 처음에는 형편없는 그림을 그리다가 점점 피카소의 스타일을 모방하게 되고  \n",
        "    판매상은 위조품을 구분하는데 점점 더 전문가가 되어감\n",
        "\n",
        "- GAN의 네트워크\n",
        "\n",
        "  - 생성자 네트워크(generator network)\n",
        "\n",
        "    - 랜덤 벡터(잠재 공간의 무작위한 포인트)를 입력으로 받아 이를 합성된 이미지로 디코딩\n",
        "\n",
        "  - 판별자 네트워크(discriminator netowrk)\n",
        "\n",
        "    - 이미지(실제 또는 가짜 이미지)를 입력으로 받아 훈련 세트에서 온 이미지인지 생성자가 만든 이미지인지 판별\n",
        "- GAN의 네트워크\n",
        "\n",
        "  - 생성자 네트워크(generator network)\n",
        "\n",
        "    - 랜덤 벡터(잠재 공간의 무작위한 포인트)를 입력으로 받아 이를 합성된 이미지로 디코딩\n",
        "\n",
        "  - 판별자 네트워크(discriminator netowrk)\n",
        "\n",
        "    - 이미지(실제 또는 가짜 이미지)를 입력으로 받아 훈련 세트에서 온 이미지인지 생성자가 만든 이미지인지 판별\n",
        "\n",
        "- GAN은 최적화의 최솟값이 고정되어 있지 않음\n",
        "\n",
        "  - 보통의 경사하강법은 **고정된 손실공간**에서 언덕을 내려오는 훈련 방법이지만  \n",
        "    GAN은 매 단계가 조금씩 전체 공간을 바꾸기 때문에 최적화 과정이 최솟값을 찾는 것이 어려움\n",
        "\n",
        "  - 두 힘간의 평형점을 찾는 시스템\n",
        "\n",
        "  - 따라서, 학습과정이 매우 어려움  \n",
        "    즉, 적절한 파라미터를 찾고 조정해야함\n",
        "  \n",
        "  <img src=\"https://paperswithcode.com/media/methods/gan.jpeg\">\n",
        "\n",
        "  <sub>[이미지 출처] https://paperswithcode.com/method/gan</sub>\n",
        "\n",
        "documentation : https://www.tensorflow.org/tutorials/generative/style_transfer\n",
        "\n",
        "https://pseudo-lab.github.io/Tutorial-Book/chapters/GAN/Ch1-Introduction.html\n",
        "\n",
        "GAN 활용 : https://www.spri.kr/posts/view/21883?code=industry_trend\n",
        "\n",
        "https://process-mining.tistory.com/169"
      ],
      "metadata": {
        "id": "MBbzZR1jn7E5"
      }
    },
    {
      "cell_type": "markdown",
      "source": [
        "- GAN은 서로 다른 두 개의 네트워크를 말하며 적대적으로 학습한다.\n",
        "- 뭔가 상반되는 것이 동시에 학습하면서 실제 데이터와 비슷하게 생성하는 모델 말함.\n",
        "- 이 모델은 레이블값이 없으며 그러므로 비지도학습 기반이다.\n",
        "\n",
        "- 위조범이 Generator, 경찰관은 판별해서 검출하는 Discrimintor이며\n",
        "- 하는 역할이 다르니 적대적(상반된)으로 학습된다.(학습하면서 목적을 달성한다.)\n",
        "- G는 점점 실제와 가깝게 만들고 D는 아무리 교묘해도 걸러내는 능력을 키우게 되며, 이 능력들로 영상등을 만들게 된다.\n",
        "\n",
        "- 적대적 학습 이유(적대적 신경 생성망) : \"실제 데이터의 분포\"에 가까운 데이터를 생성\n",
        "\n",
        "▶ 경찰은 위조지폐범에게 속은 데이터, 경찰을 속이지 못한 데이터를 각각 입력받아 적대적으로 학습하고,\n",
        "     이 게임의 경쟁은 위조지폐가 진짜 지폐와 구별되지 않을 때까지(확률 0.5)에 가까운 값을 가질때까지 계속된다.\n",
        "     \n",
        "▶ 왜 0.5가 될때까지 학습해야할까?\n",
        "     더이상 개선할 수 없을 정도로 학습된다.\n",
        "\n",
        "- 이 학습은 언제 끝나?\n",
        "- 이게 진짜인지 가짜인지 위조범도 경찰도 더이상 할 수 없는 50:50인 상황일때 종료.\n"
      ],
      "metadata": {
        "id": "exjWm_tiqmsa"
      }
    },
    {
      "cell_type": "markdown",
      "source": [
        "## DCGAN\n",
        "\n",
        "MLP을 사용한 GAN vs. DCGAN<br>\n",
        "\n",
        "DCGAN - Deep Convolutional generative adversarial network <br>\n",
        "https://github.com/effectivemadness/celebA_gan<br>\n",
        "https://velog.io/@wo7864/DCGAN-%EC%BD%94%EB%93%9C%EB%A5%BC-%ED%86%B5%ED%95%9C-%EC%9D%B4%ED%95%B4\n",
        "\n",
        "**CelebA 데이터 다운로드**"
      ],
      "metadata": {
        "id": "beDbHM0oh0Tv"
      }
    },
    {
      "cell_type": "code",
      "source": [
        "!mkdir celeba_gan # 디렉토리 생성\n",
        "!wget \"https://drive.google.com/uc?id=1up5bN8LCE2vHigVY-Z9yY2_aKRW5jN_9&confirm=t\" -O celeba_gan/data.zip\n",
        "!unzip -qq celeba_gan/data.zip -d celeba_gan"
      ],
      "metadata": {
        "colab": {
          "base_uri": "https://localhost:8080/"
        },
        "id": "gLkunFg0oYqx",
        "outputId": "1c13f004-f861-483f-e0f8-ed68842611d2"
      },
      "execution_count": 3,
      "outputs": [
        {
          "output_type": "stream",
          "name": "stdout",
          "text": [
            "--2023-01-20 00:45:10--  https://drive.google.com/uc?id=1up5bN8LCE2vHigVY-Z9yY2_aKRW5jN_9&confirm=t\n",
            "Resolving drive.google.com (drive.google.com)... 74.125.68.102, 74.125.68.113, 74.125.68.101, ...\n",
            "Connecting to drive.google.com (drive.google.com)|74.125.68.102|:443... connected.\n",
            "HTTP request sent, awaiting response... 303 See Other\n",
            "Location: https://doc-04-a4-docs.googleusercontent.com/docs/securesc/ha0ro937gcuc7l7deffksulhg5h7mbp1/sl60pb4t1pqj8ld8fodbjvbid42bnqf5/1674175500000/10613826186492816817/*/1up5bN8LCE2vHigVY-Z9yY2_aKRW5jN_9?uuid=b5d12e9a-a02e-4ee5-ab76-3832406ea8f7 [following]\n",
            "Warning: wildcards not supported in HTTP.\n",
            "--2023-01-20 00:45:11--  https://doc-04-a4-docs.googleusercontent.com/docs/securesc/ha0ro937gcuc7l7deffksulhg5h7mbp1/sl60pb4t1pqj8ld8fodbjvbid42bnqf5/1674175500000/10613826186492816817/*/1up5bN8LCE2vHigVY-Z9yY2_aKRW5jN_9?uuid=b5d12e9a-a02e-4ee5-ab76-3832406ea8f7\n",
            "Resolving doc-04-a4-docs.googleusercontent.com (doc-04-a4-docs.googleusercontent.com)... 74.125.24.132, 2404:6800:4003:c03::84\n",
            "Connecting to doc-04-a4-docs.googleusercontent.com (doc-04-a4-docs.googleusercontent.com)|74.125.24.132|:443... connected.\n",
            "HTTP request sent, awaiting response... 200 OK\n",
            "Length: 1443490838 (1.3G) [application/zip]\n",
            "Saving to: ‘celeba_gan/data.zip’\n",
            "\n",
            "celeba_gan/data.zip 100%[===================>]   1.34G  59.8MB/s    in 25s     \n",
            "\n",
            "2023-01-20 00:45:37 (54.9 MB/s) - ‘celeba_gan/data.zip’ saved [1443490838/1443490838]\n",
            "\n"
          ]
        }
      ]
    },
    {
      "cell_type": "markdown",
      "source": [
        "이미지 디렉토리에서 데이터셋을 만듭니다."
      ],
      "metadata": {
        "id": "F3Q1OC1hovcH"
      }
    },
    {
      "cell_type": "code",
      "source": [
        "from tensorflow import keras\n",
        "dataset = keras.utils.image_dataset_from_directory(\n",
        "    'celeba_gan',\n",
        "    label_mode=None,\n",
        "    image_size=(64,64),\n",
        "    batch_size=32,\n",
        "    smart_resize=True\n",
        ")"
      ],
      "metadata": {
        "colab": {
          "base_uri": "https://localhost:8080/"
        },
        "id": "RFZ2rHC7pPSB",
        "outputId": "0a84c96f-e9c1-40b0-8a56-2e91de6179eb"
      },
      "execution_count": 7,
      "outputs": [
        {
          "output_type": "stream",
          "name": "stdout",
          "text": [
            "Found 202599 files belonging to 1 classes.\n"
          ]
        }
      ]
    },
    {
      "cell_type": "markdown",
      "source": [
        "픽셀 값 범위 바꾸기"
      ],
      "metadata": {
        "id": "2w40hSKOpfYs"
      }
    },
    {
      "cell_type": "code",
      "source": [
        "dataset = dataset.map(lambda x: x/255.) ## 실수로 만들었다."
      ],
      "metadata": {
        "id": "AwSnAgmQp1FJ"
      },
      "execution_count": 8,
      "outputs": []
    },
    {
      "cell_type": "markdown",
      "source": [
        "첫 번째 이미지 출력하기"
      ],
      "metadata": {
        "id": "X0FahxHyp5PI"
      }
    },
    {
      "cell_type": "code",
      "source": [
        "import matplotlib.pyplot as plt\n",
        "for x in dataset:\n",
        "  plt.axis('off')\n",
        "  plt.imshow((x.numpy() * 255).astype('int32')[0])\n",
        "  break ## 출력 결과물은 실제 이미지이다."
      ],
      "metadata": {
        "colab": {
          "base_uri": "https://localhost:8080/",
          "height": 248
        },
        "id": "7ajBKNbFp68Y",
        "outputId": "87b83a26-d799-41c2-85a1-fc091c66f88a"
      },
      "execution_count": 9,
      "outputs": [
        {
          "output_type": "display_data",
          "data": {
            "text/plain": [
              "<Figure size 432x288 with 1 Axes>"
            ],
            "image/png": "[encoded data removed]"
          },
          "metadata": {
            "needs_background": "light"
          }
        }
      ]
    },
    {
      "cell_type": "markdown",
      "source": [
        "# 판별자"
      ],
      "metadata": {
        "id": "04bv4-1xqHXS"
      }
    },
    {
      "cell_type": "markdown",
      "source": [
        "**GAN 판별자 네트워크**\n",
        "\n",
        "Conv2D(filters, kernel_size, strides, padding)\n",
        "  - filters: 출력의 채널 크기를 지정합니다. (nums, width, height, filters)\n",
        "  - kernel_size: 합성곱 행렬의 크기를 지정합니다.\n",
        "  - stides: 합성곱 행렬의 1 Step Size를 지정합니다.\n",
        "  - padding: same → Input의 각 변에 padding을 추가합니다. 이 때, 입력의 width, height와 출력의 width, height가 같아집니다.(안하면 크기 작아짐)\n",
        "\n",
        "https://zzsza.github.io/data/2018/02/23/introduction-convolution/"
      ],
      "metadata": {
        "id": "gC5eSgQPtLly"
      }
    },
    {
      "cell_type": "code",
      "source": [
        "from tensorflow.keras import layers\n",
        "\n",
        "discriminator = keras.Sequential(\n",
        "    [\n",
        "        keras.Input(shape=(64,64,3)),\n",
        "     layers.Conv2D(64, kernel_size=4, strides=2, padding='same'),\n",
        "     layers.LeakyReLU(alpha=0.2), ## alpha는 기울기의 정도이다.\n",
        "     layers.Conv2D(128, kernel_size=4, strides=2, padding='same'),\n",
        "     layers.LeakyReLU(alpha=0.2),\n",
        "     layers.Conv2D(128, kernel_size=4, strides=2, padding='same'),\n",
        "     layers.LeakyReLU(alpha=0.2),\n",
        "     layers.Flatten(),\n",
        "     layers.Dropout(0.2), ## dropout으로 과적합을 막는다.\n",
        "     layers.Dense(1, activation='sigmoid'),## sigmoid로 분류\n",
        "    ],\n",
        "    name='difcriminator',\n",
        ")"
      ],
      "metadata": {
        "id": "P5CfrOMatcpt"
      },
      "execution_count": 10,
      "outputs": []
    },
    {
      "cell_type": "code",
      "source": [
        "discriminator.summary()"
      ],
      "metadata": {
        "colab": {
          "base_uri": "https://localhost:8080/"
        },
        "id": "iSsOEBTZvA4Q",
        "outputId": "445e9460-693b-421e-fb45-410613e537b6"
      },
      "execution_count": 11,
      "outputs": [
        {
          "output_type": "stream",
          "name": "stdout",
          "text": [
            "Model: \"difcriminator\"\n",
            "_________________________________________________________________\n",
            " Layer (type)                Output Shape              Param #   \n",
            "=================================================================\n",
            " conv2d (Conv2D)             (None, 32, 32, 64)        3136      \n",
            "                                                                 \n",
            " leaky_re_lu (LeakyReLU)     (None, 32, 32, 64)        0         \n",
            "                                                                 \n",
            " conv2d_1 (Conv2D)           (None, 16, 16, 128)       131200    \n",
            "                                                                 \n",
            " leaky_re_lu_1 (LeakyReLU)   (None, 16, 16, 128)       0         \n",
            "                                                                 \n",
            " conv2d_2 (Conv2D)           (None, 8, 8, 128)         262272    \n",
            "                                                                 \n",
            " leaky_re_lu_2 (LeakyReLU)   (None, 8, 8, 128)         0         \n",
            "                                                                 \n",
            " flatten (Flatten)           (None, 8192)              0         \n",
            "                                                                 \n",
            " dropout (Dropout)           (None, 8192)              0         \n",
            "                                                                 \n",
            " dense (Dense)               (None, 1)                 8193      \n",
            "                                                                 \n",
            "=================================================================\n",
            "Total params: 404,801\n",
            "Trainable params: 404,801\n",
            "Non-trainable params: 0\n",
            "_________________________________________________________________\n"
          ]
        }
      ]
    },
    {
      "cell_type": "markdown",
      "source": [
        "맥스 풀링이 되서 shape가 줄어드는 것이다."
      ],
      "metadata": {
        "id": "C3NzOz7cvFos"
      }
    },
    {
      "cell_type": "markdown",
      "source": [
        "# 생성자"
      ],
      "metadata": {
        "id": "oEFhibWBw4r0"
      }
    },
    {
      "cell_type": "markdown",
      "source": [
        "GAN 생성자 네트워크"
      ],
      "metadata": {
        "id": "S5d-PGrGw7hL"
      }
    },
    {
      "cell_type": "code",
      "source": [
        "latent_dim = 128\n",
        "\n",
        "generator = keras.Sequential(\n",
        "    [\n",
        "        keras.Input(shape=(latent_dim)),\n",
        "     layers.Dense(8*8*128),\n",
        "     layers.Reshape((8,8,128)),\n",
        "     layers.Conv2DTranspose(128, kernel_size=4, strides=2, padding='same'),\n",
        "     layers.LeakyReLU(alpha=0.2),\n",
        "     layers.Conv2DTranspose(256, kernel_size=4, strides=2, padding='same'),\n",
        "     layers.LeakyReLU(alpha=0.2),\n",
        "     layers.Conv2DTranspose(512, kernel_size=4, strides=2, padding='same'),\n",
        "     layers.LeakyReLU(alpha=0.2),\n",
        "     layers.Conv2D(3, kernel_size=5, padding='same', activation='sigmoid'),\n",
        "    ],\n",
        "    name='generator',\n",
        ")"
      ],
      "metadata": {
        "id": "Dzkl3Uxnyusm"
      },
      "execution_count": 12,
      "outputs": []
    },
    {
      "cell_type": "code",
      "source": [
        "generator.summary()"
      ],
      "metadata": {
        "colab": {
          "base_uri": "https://localhost:8080/"
        },
        "id": "gkkCBQuszejd",
        "outputId": "48160e72-ac9f-4b77-9435-29aff918a0ef"
      },
      "execution_count": 13,
      "outputs": [
        {
          "output_type": "stream",
          "name": "stdout",
          "text": [
            "Model: \"generator\"\n",
            "_________________________________________________________________\n",
            " Layer (type)                Output Shape              Param #   \n",
            "=================================================================\n",
            " dense_1 (Dense)             (None, 8192)              1056768   \n",
            "                                                                 \n",
            " reshape (Reshape)           (None, 8, 8, 128)         0         \n",
            "                                                                 \n",
            " conv2d_transpose (Conv2DTra  (None, 16, 16, 128)      262272    \n",
            " nspose)                                                         \n",
            "                                                                 \n",
            " leaky_re_lu_3 (LeakyReLU)   (None, 16, 16, 128)       0         \n",
            "                                                                 \n",
            " conv2d_transpose_1 (Conv2DT  (None, 32, 32, 256)      524544    \n",
            " ranspose)                                                       \n",
            "                                                                 \n",
            " leaky_re_lu_4 (LeakyReLU)   (None, 32, 32, 256)       0         \n",
            "                                                                 \n",
            " conv2d_transpose_2 (Conv2DT  (None, 64, 64, 512)      2097664   \n",
            " ranspose)                                                       \n",
            "                                                                 \n",
            " leaky_re_lu_5 (LeakyReLU)   (None, 64, 64, 512)       0         \n",
            "                                                                 \n",
            " conv2d_3 (Conv2D)           (None, 64, 64, 3)         38403     \n",
            "                                                                 \n",
            "=================================================================\n",
            "Total params: 3,979,651\n",
            "Trainable params: 3,979,651\n",
            "Non-trainable params: 0\n",
            "_________________________________________________________________\n"
          ]
        }
      ]
    },
    {
      "cell_type": "markdown",
      "source": [
        "# 적대 네트워크"
      ],
      "metadata": {
        "id": "aswWp9hFzhPM"
      }
    },
    {
      "cell_type": "markdown",
      "source": [
        "**GAN 모델**\n",
        "\n",
        "Step One\n",
        "\n",
        "batch_size 입력으로 받은 real_images의 개수를 저장합니다.\n",
        "\n",
        "random_latent_vectors batch_size 만큼 generator에 입력할 latent_vector를 생성합니다.\n",
        "ex) batch_size=512, latent_vector=128 일 때, (512, 128) 크기의 random vector 생성\n",
        "\n",
        "generated_images를 generator에 latent_vector를 입력하여 가짜 이미지를 생성합니다.\n",
        "(latent_vector는 학습에 사용되는 이미지는 실제로 존재하는 사물과 상황에 대한 포착이라고 보고, 실제로 존재하는 사물과 상황의 모습을 결정하는 조건들을 latent_vector(잠재변수)로 모델링 한다.)\n",
        "\n",
        "combined_images 실제 이미지와 가짜 이미지를 연결하여 하나의 텐서로 만듭니다.\n",
        "\n",
        "labels 실제 이미지와 가짜 이미지는 모두 batch_size만큼 있습니다. 실제 이미지에는 1을, 가짜 이미지에는 0을 할당 할 텐서를 만듭니다.\n",
        "\n",
        "labels += 0.05 * tf.random.uniform(tf.shape(labels))\n",
        "labels는 현재 0 또는 1의 값을 가지고 있습니다. 여기에 0.05*Random(0~1) 값을 더하여 약간씩 다르게합니다. discriminator의 학습에만 사용되는데 Noise를 추가함으로 판별능력을 키울 수 있는 것 같습니다.\n",
        "매우 중요한 트릭이라고하는데, 어떻게 성능을 향상 시킬 수 있는지 이유는 모르겠네요.\n",
        "\n",
        "Step Two\n",
        "\n",
        "이전 GAN 의 가중치 갱신부와 같습니다.\n",
        "다만, 이전에 선언한 labels 는 discriminator에 새로 선언한 정수만을 가지고 있는 misleading_labels(잘못 판별된것) 는 generator의 학습에 사용된다는 점이 다릅니다.\n",
        "→ 잘못 판단한 것은 D에, 제대로 판단한것은 G에 자극을 준다는 뜻이다.\n",
        "\n",
        "d_loss와 g_loss를 반환하고 함수를 종료합니다."
      ],
      "metadata": {
        "id": "bLq6SxCszz3f"
      }
    },
    {
      "cell_type": "code",
      "source": [
        "class GAN(keras.Model):\n",
        "    def __init__(self, discriminator, generator, latent_dim):\n",
        "        super().__init__()## 상속받은 keras.Model Class의 생성자를 실행\n",
        "        self.discriminator = discriminator\n",
        "        self.generator = generator\n",
        "        self.latent_dim = latent_dim\n",
        "\n",
        "    def compile(self, d_optimizer, g_optimizer, loss_fn):\n",
        "        super().compile()\n",
        "        self.d_optimizer = d_optimizer\n",
        "        self.g_optimizer = g_optimizer\n",
        "        self.loss_fn = loss_fn\n",
        "        self.d_loss_metric = keras.metrics.Mean(name=\"d_loss\")\n",
        "        self.g_loss_metric = keras.metrics.Mean(name=\"g_loss\")\n",
        "\n",
        "  # property decorator로 메소드를 속성으로 선언\n",
        "  # compile에서 선언한 d_loss_metric와 g_loss_metric 속성을 List로 변환\n",
        "    @property\n",
        "    def metrics(self):\n",
        "        return [self.d_loss_metric, self.g_loss_metric]\n",
        "\n",
        "    def train_step(self, real_images):\n",
        "        # Sample random points in the latent space\n",
        "        batch_size = tf.shape(real_images)[0]## real_images의 개수를 저장\n",
        "        random_latent_vectors = tf.random.normal(shape=(batch_size, self.latent_dim))\n",
        "\n",
        "        # Decode them to fake images\n",
        "        # Decode them to fake images, generator에 latent_vector를 입력하여 가짜 이미지를 생성\n",
        "        generated_images = self.generator(random_latent_vectors)\n",
        "\n",
        "        # Combine them with real images\n",
        "        # Combine them with real images, 실제 이미지와 가짜 이미지를 연결하여 하나의 텐서로 만듬\n",
        "        combined_images = tf.concat([generated_images, real_images], axis=0)\n",
        "\n",
        "        # Assemble labels discriminating real from fake images\n",
        "        # 실제 이미지와 가짜 이미지는 모두 batch_size 만큼 있습니다. 실제 이미지에는 1을, 가짜 이미지에는 0을 할당 할 텐서를 만듬\n",
        "        labels = tf.concat(\n",
        "            [tf.ones((batch_size, 1)), tf.zeros((batch_size, 1))], axis=0\n",
        "        )\n",
        "\n",
        "        # Add random noise to the labels - important trick!, discriminator의 학습에만 사용되는데 Noise를 추가함으로 판별능력을 키울 수 있음\n",
        "        labels += 0.05 * tf.random.uniform(tf.shape(labels))\n",
        "\n",
        "        # Train the discriminator\n",
        "        with tf.GradientTape() as tape:\n",
        "            predictions = self.discriminator(combined_images)\n",
        "            d_loss = self.loss_fn(labels, predictions)\n",
        "        grads = tape.gradient(d_loss, self.discriminator.trainable_weights)\n",
        "        self.d_optimizer.apply_gradients(\n",
        "            zip(grads, self.discriminator.trainable_weights)\n",
        "        )\n",
        "\n",
        "        # Sample random points in the latent space\n",
        "        random_latent_vectors = tf.random.normal(shape=(batch_size, self.latent_dim))\n",
        "\n",
        "        # Assemble labels that say \"all real images\"\n",
        "        misleading_labels = tf.zeros((batch_size, 1))\n",
        "\n",
        "        # Train the generator (note that we should *not* update the weights\n",
        "        # of the discriminator)!\n",
        "        # [유의할 부분] Train the generator (note that we should *not* update the weights of the discriminator)!\n",
        "        # 판별자의 가중치는 업데이트 해서는 안된다!(그래서 위에 판별자는 따로 업데이트 하는 과정이 있었다.)\n",
        "        # 이유는 적대적 학습이 불가능하기 때문이다.\n",
        "        with tf.GradientTape() as tape:\n",
        "            predictions = self.discriminator(self.generator(random_latent_vectors))\n",
        "            g_loss = self.loss_fn(misleading_labels, predictions)\n",
        "        grads = tape.gradient(g_loss, self.generator.trainable_weights)\n",
        "        self.g_optimizer.apply_gradients(zip(grads, self.generator.trainable_weights))\n",
        "\n",
        "        # Update metrics\n",
        "        self.d_loss_metric.update_state(d_loss)\n",
        "        self.g_loss_metric.update_state(g_loss)\n",
        "        return {\n",
        "            \"d_loss\": self.d_loss_metric.result(),\n",
        "            \"g_loss\": self.g_loss_metric.result(),\n",
        "        }"
      ],
      "metadata": {
        "id": "WHIZpn3BB6Kc"
      },
      "execution_count": 21,
      "outputs": []
    },
    {
      "cell_type": "markdown",
      "source": [
        "**훈련 과정 동안에 이미지를 생성하기 위한 콜백**\n",
        "\n",
        "Callback 사용하기 - 커스텀 콜백 / 모델 학습 / 평가<br>\n",
        "https://littlefoxdiary.tistory.com/87\n",
        "\n",
        "keras.callbacks.Callback\n",
        "콜백 객체를 생성\n",
        "\n",
        "API에 명시된 함수를 작성하면, 지정한 학습과정에서 콜백함수를 호출 할 수 있으며 코드에서는 on_epoch_end 즉, epoch가 끝날 때 마다 함수를 실행"
      ],
      "metadata": {
        "id": "fIJFJQFu5Cn1"
      }
    },
    {
      "cell_type": "code",
      "source": [
        "class GANMonitor(keras.callbacks.Callback):\n",
        "    def __init__(self, num_img=3, latent_dim=128):\n",
        "        self.num_img = num_img\n",
        "        self.latent_dim = latent_dim\n",
        "\n",
        "    def on_epoch_end(self, epoch, logs=None):\n",
        "        random_latent_vectors = tf.random.normal(shape=(self.num_img, self.latent_dim))\n",
        "        generated_images = self.model.generator(random_latent_vectors)\n",
        "        generated_images *= 255\n",
        "        generated_images.numpy()\n",
        "        for i in range(self.num_img):\n",
        "            img = keras.preprocessing.image.array_to_img(generated_images[i])\n",
        "            img.save(\"generated_img_%03d_%d.png\" % (epoch, i))"
      ],
      "metadata": {
        "id": "ScH7FTd9-oUp"
      },
      "execution_count": 22,
      "outputs": []
    },
    {
      "cell_type": "markdown",
      "source": [
        "GAN 모델 컴파일하고 훈련하기"
      ],
      "metadata": {
        "id": "rhDgibhU_kVh"
      }
    },
    {
      "cell_type": "code",
      "source": [
        "epochs = 30\n",
        "\n",
        "gan = GAN(discriminator=discriminator, generator=generator, latent_dim=latent_dim)\n",
        "gan.compile(\n",
        "    d_optimizer=keras.optimizers.Adam(learning_rate=0.0001),\n",
        "    g_optimizer=keras.optimizers.Adam(learning_rate=0.0001),\n",
        "    loss_fn=keras.losses.BinaryCrossentropy(),\n",
        ")\n",
        "\n",
        "gan.fit(\n",
        "    dataset, epochs=epochs, callbacks=[GANMonitor(num_img=10, latent_dim=latent_dim)]\n",
        ")"
      ],
      "metadata": {
        "colab": {
          "base_uri": "https://localhost:8080/"
        },
        "id": "KNzMD1xq_nhv",
        "outputId": "e9d9c2db-ad06-4d4e-b289-9f44fefd0e6f"
      },
      "execution_count": null,
      "outputs": [
        {
          "output_type": "stream",
          "name": "stdout",
          "text": [
            "Epoch 1/30\n",
            " 286/6332 [>.............................] - ETA: 26:34 - d_loss: 0.4542 - g_loss: 1.5373"
          ]
        }
      ]
    },
    {
      "cell_type": "code",
      "source": [],
      "metadata": {
        "id": "X8DgRInSBX3E"
      },
      "execution_count": null,
      "outputs": []
    }
  ]
}