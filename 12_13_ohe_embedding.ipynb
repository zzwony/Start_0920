{
  "nbformat": 4,
  "nbformat_minor": 0,
  "metadata": {
    "colab": {
      "provenance": [],
      "mount_file_id": "13QftkrSpTxXP699aj2JbG41P9dfzf5D_",
      "authorship_tag": "ABX9TyNbYcds5Nlr+dFHjgLiwO0W",
      "include_colab_link": true
    },
    "kernelspec": {
      "name": "python3",
      "display_name": "Python 3"
    },
    "language_info": {
      "name": "python"
    },
    "accelerator": "GPU",
    "gpuClass": "premium"
  },
  "cells": [
    {
      "cell_type": "markdown",
      "metadata": {
        "id": "view-in-github",
        "colab_type": "text"
      },
      "source": [
        "<a href=\"https://colab.research.google.com/github/zzwony/Start_0920/blob/main/12_13_ohe_embedding.ipynb\" target=\"_parent\"><img src=\"https://colab.research.google.com/assets/colab-badge.svg\" alt=\"Open In Colab\"/></a>"
      ]
    },
    {
      "cell_type": "markdown",
      "source": [
        "텍스트를 그냥 넣을 수 없으니 벡터화(숫자로 바꿔줌)을 통해 알고리즘에 넣어주면 된다.\n",
        "\n",
        "벡터화 하는 방법 2가지\n",
        "1. 단어를 사전식으로 인덱싱 해서 count 하는 방법(가장 간단함/빈도수가 높을수록 중요하다)\n",
        "* 원 핫 인코딩: 0이 너무 많아서 저장하기 힘들다\n",
        "* 단어가 많이 나오면 다 좋다? 아니다.\n",
        "\n",
        "2. COO, CSR 방식\n",
        "* 원 핫 인코딩의 보완해줌\n",
        "\n",
        "---\n",
        "딥러닝에서는 임베딩 방식을 사용한다.\n",
        "똑같은 단어지만 의미가 다른 단어가 있다. (ex. 배)\n",
        "임베딩 방식은 단어의 의미를 학습할수 있도록 하는것이고, 차원을 얘가 정해준다."
      ],
      "metadata": {
        "id": "pBlqb5g2w45C"
      }
    },
    {
      "cell_type": "code",
      "source": [
        "# 넘파이를 이용한 원 - 핫 인코딩\n",
        "import numpy as np\n",
        "\n",
        "samples = ['The cat sat on the mat.', 'The dog ate my homework.']\n",
        "\n",
        "token_index = {}\n",
        "for sample in samples:\n",
        "  for word in sample.split():\n",
        "    if word not in token_index:\n",
        "      token_index[word] = len(token_index)  ## 인덱스는 0은 사용하지 않음\n",
        "\n",
        "max_length = 10 ## 각 샘플에서 max_length 까지 단어만 사용\n",
        "# 결과를 저장할 배열\n",
        "results = np.zeros((len(samples), max_length, max(token_index.values()) + 1))  ## 3차원(2, 10, 11)\n",
        "\n",
        "for i, sample in enumerate(samples):  ## enumerate는 인덱스도 같이 뽑아준다.\n",
        "  for j, word in list(enumerate(sample.split()))[:max_length]:\n",
        "    index = token_index.get(word)\n",
        "    results[i,j,index] = 1."
      ],
      "metadata": {
        "id": "yk9Jp8OCDBFm"
      },
      "execution_count": null,
      "outputs": []
    },
    {
      "cell_type": "code",
      "source": [
        "token_index"
      ],
      "metadata": {
        "colab": {
          "base_uri": "https://localhost:8080/"
        },
        "id": "733gX9bBClX1",
        "outputId": "bbe912e5-0491-4951-948d-ef77c17a2551"
      },
      "execution_count": null,
      "outputs": [
        {
          "output_type": "execute_result",
          "data": {
            "text/plain": [
              "{'The': 0,\n",
              " 'cat': 1,\n",
              " 'sat': 2,\n",
              " 'on': 3,\n",
              " 'the': 4,\n",
              " 'mat.': 5,\n",
              " 'dog': 6,\n",
              " 'ate': 7,\n",
              " 'my': 8,\n",
              " 'homework.': 9}"
            ]
          },
          "metadata": {},
          "execution_count": 9
        }
      ]
    },
    {
      "cell_type": "code",
      "source": [
        "# 케라스 이용한 ohe\n",
        "from keras.preprocessing.text import Tokenizer\n",
        "\n",
        "samples = ['The cat sat on the mat.', 'The dog ate my homework.']\n",
        "\n",
        "tokenizer = Tokenizer(num_words=1000)  ## 가장 빈도가 높은 1000개의 단어만 선택하는 Tokenizer 객체 생성\n",
        "\n",
        "tokenizer.fit_on_texts(samples) ## 단어 인덱스 구축\n",
        "\n",
        "sequences = tokenizer.texts_to_sequences(samples)  ## 문자열을 정수 인덱스의 리스트로 변환\n",
        "\n",
        "ohe_results = tokenizer.texts_to_matrix(samples, mode='binary')  # binary 해서 해당되는건 1, 아닌건 0\n",
        "\n",
        "word_index = tokenizer.word_index\n",
        "\n",
        "print('Found %s unique tokens.' %len(word_index))"
      ],
      "metadata": {
        "colab": {
          "base_uri": "https://localhost:8080/"
        },
        "id": "rYkmBiMqDVwF",
        "outputId": "12b5ddf4-2f4f-405d-a7a5-315fbba1c114"
      },
      "execution_count": null,
      "outputs": [
        {
          "output_type": "stream",
          "name": "stdout",
          "text": [
            "Found 9 unique tokens.\n"
          ]
        }
      ]
    },
    {
      "cell_type": "code",
      "source": [
        "print(word_index)"
      ],
      "metadata": {
        "colab": {
          "base_uri": "https://localhost:8080/"
        },
        "id": "clO7wcdsES6_",
        "outputId": "bbe6a436-db23-48c2-ff43-d7764347b7de"
      },
      "execution_count": null,
      "outputs": [
        {
          "output_type": "stream",
          "name": "stdout",
          "text": [
            "{'the': 1, 'cat': 2, 'sat': 3, 'on': 4, 'mat': 5, 'dog': 6, 'ate': 7, 'my': 8, 'homework': 9}\n"
          ]
        }
      ]
    },
    {
      "cell_type": "code",
      "source": [
        "sequences"
      ],
      "metadata": {
        "colab": {
          "base_uri": "https://localhost:8080/"
        },
        "id": "piT_lguLEWwK",
        "outputId": "32f30b1a-db53-4cac-febe-39682bfa87b3"
      },
      "execution_count": null,
      "outputs": [
        {
          "output_type": "execute_result",
          "data": {
            "text/plain": [
              "[[1, 2, 3, 4, 1, 5], [1, 6, 7, 8, 9]]"
            ]
          },
          "metadata": {},
          "execution_count": 4
        }
      ]
    },
    {
      "cell_type": "code",
      "source": [
        "ohe_results[0,:10]"
      ],
      "metadata": {
        "colab": {
          "base_uri": "https://localhost:8080/"
        },
        "id": "o9zez-JOEeLF",
        "outputId": "b9f84b82-5d63-49d5-a3b5-5ea8c6a261a2"
      },
      "execution_count": null,
      "outputs": [
        {
          "output_type": "execute_result",
          "data": {
            "text/plain": [
              "array([0., 1., 1., 1., 1., 1., 0., 0., 0., 0.])"
            ]
          },
          "metadata": {},
          "execution_count": 7
        }
      ]
    },
    {
      "cell_type": "markdown",
      "source": [
        "#### Embedding\n",
        "- 단어와 벡터를 연관짓는 강력하고 인기 있는 또 다른 방법은 단어 임베딩이라는 밀집 단어 벡터를 사용하는 것이다. \n",
        "- 원-핫 인코딩으로 만든 벡터는 희소하고(대부분 0으로 채워집니다) 고차원이다(어휘 사전에 있는 단어의 수와 차원이 같다). \n",
        "- 반면 단어 임베딩은 저차원의 실수형 벡터이다(희소 벡터의 반대인 밀집 벡터이다). 그림 6-2를 참고\n",
        "- 원-핫 인코딩으로 얻은 단어 벡터와 달리 단어 임베딩은 데이터로부터 학습(단어의 의미를 파악해야해서 그 관계를 학습한다. 그래서 학습이라는 표현이 나왔다.)된다. - 보통 256차원, 512차원 또는 큰 어휘 사전을 다룰 때는 1,024차원의 단어 임베딩을 사용한다.\n",
        "- 반면 원-핫 인코딩은 (20,000개의 토큰으로 이루어진 어휘 사전을 만들려면) 20,000차원 또는 그 이상의 벡터일 경우가 많다. \n",
        "- [ 결론 ]따라서 단어 임베딩이 더 많은 정보를 적은 차원에 저장한다. <br>\n"
      ],
      "metadata": {
        "id": "kYGiALrLEmHm"
      }
    },
    {
      "cell_type": "markdown",
      "source": [
        "\n",
        "* (문서 분류나 감성 예측과 같은) 관심 대상인 문제와 함께 단어 임베딩을 학습합니다. 이런 경우에는 랜덤한 단어 벡터로 시작해서 신경망의 가중치를 학습하는 것과 같은 방식으로 단어 벡터를 학습합니다.\n",
        "* 풀려는 문제가 아니고 다른 머신 러닝 작업에서 미리 계산된 단어 임베딩을 로드합니다. 이를 사전 훈련된 단어 임베딩이라고 합니다. <br>\n"
      ],
      "metadata": {
        "id": "3rp9I77TGRYs"
      }
    },
    {
      "cell_type": "markdown",
      "source": [
        "\n",
        "- 실제 단어 임베딩 공간에서 의미 있는 기하학적 변환의 일반적인 예는 '성별' 벡터와 '복수(plural)' 벡터이다. \n",
        "- 예를 들어 'king' 벡터에 'female' 벡터를 더하면 'queen' 벡터가 된다. 'plural' 벡터를 더하면 'kings'가 된다. \n",
        "- 단어 임베딩 공간은 전형적으로 이런 해석 가능하고 잠재적으로 유용한 수천 개의 벡터를 특성으로 가진다.\n",
        "- 사람의 언어를 완벽하게 매핑해서 어떤 자연어 처리 작업에도 사용할 수 있는 이상적인 단어 임베딩 공간은 아직 가능하지 않다.(너무나 복잡하다) 사람의 언어에도 그런 것은 없다. \n",
        "- 세상에는 많은 다른 언어가 있고 언어는 특정 문화와 환경을 반영하기 때문에 서로 동일하지 않다. \n",
        "- 실제로 좋은 단어 임베딩 공간을 만드는 것은 문제에 따라 크게 달라진다. - 영어로 된 영화 리뷰 감성 분석 모델을 위한 완벽한 단어 임베딩 공간은 영어로 된 법률 문서 분류 모델을 위한 완벽한 임베딩 공간과 다를 것 이다. 특정 의미 관계의 중요성이 작업에 따라 다르기 때문이다.\n",
        "- 따라서 새로운 작업에는 새로운 임베딩을 학습하는 것이 타당하다. \n",
        "- 다행히 역전파를 사용해 쉽게 만들 수 있고 케라스를 사용하면 더 쉽다. `Embedding` 층의 가중치를 학습하면 된다.\n"
      ],
      "metadata": {
        "id": "wwkjTCR4HON6"
      }
    },
    {
      "cell_type": "markdown",
      "source": [
        "#### IMDB 영화 감성 예측"
      ],
      "metadata": {
        "id": "9R23-FWVNv7e"
      }
    },
    {
      "cell_type": "code",
      "source": [
        "from tensorflow.keras.layers import Embedding\n",
        "\n",
        "embedding_layer = Embedding(1000, 64) ## 64차원, 토큰의 갯수는 1000개"
      ],
      "metadata": {
        "id": "802P6DveH84R"
      },
      "execution_count": null,
      "outputs": []
    },
    {
      "cell_type": "code",
      "source": [
        "from tensorflow.keras.datasets import imdb\n",
        "from tensorflow.keras import preprocessing\n",
        "\n",
        "max_features = 10000  ## 댓글은 굉장히 많은 단어가 사용되므로 특성으로 사용할 단어의 수를 제한한다.\n",
        "maxlen = 20  ## 사용할 텍스트의 길이(길이가 다 다르기 때문에 통일을 해줘야한다.)\n",
        "             ## 20으로 잘라주겠다는것. 그런데 30개인데 20개 자르면 남은것은? 0으로 처리하겠다.\n",
        "## 가장 빈번한 단어 10000개를 사용해서 길이를 20으로 잘라주겠다는 이야기이다.\n",
        "\n",
        "# 데이터 가져오기\n",
        "(x_train, y_train), (x_test, y_test) = imdb.load_data(num_words=max_features)\n",
        "\n",
        "x_train = preprocessing.sequence.pad_sequences(x_train, maxlen=maxlen)  ## 리스트를 (samples, maxlen) 크기의 2D 정수 텐서로 변환\n",
        "x_test = preprocessing.sequence.pad_sequences(x_test, maxlen=maxlen)"
      ],
      "metadata": {
        "id": "FGFAnvw2P6Yf"
      },
      "execution_count": null,
      "outputs": []
    },
    {
      "cell_type": "code",
      "source": [
        "x_train.shape"
      ],
      "metadata": {
        "colab": {
          "base_uri": "https://localhost:8080/"
        },
        "id": "czvP4E5iPuYL",
        "outputId": "63958d25-87d4-40f8-a752-8a8b537e24e0"
      },
      "execution_count": null,
      "outputs": [
        {
          "output_type": "execute_result",
          "data": {
            "text/plain": [
              "(25000, 20)"
            ]
          },
          "metadata": {},
          "execution_count": 15
        }
      ]
    },
    {
      "cell_type": "code",
      "source": [
        "x_test.shape"
      ],
      "metadata": {
        "colab": {
          "base_uri": "https://localhost:8080/"
        },
        "id": "K90widG5P-S0",
        "outputId": "c9d56e22-6483-49f1-d571-d4f59bf15d2d"
      },
      "execution_count": null,
      "outputs": [
        {
          "output_type": "execute_result",
          "data": {
            "text/plain": [
              "(25000, 20)"
            ]
          },
          "metadata": {},
          "execution_count": 16
        }
      ]
    },
    {
      "cell_type": "code",
      "source": [
        "from tensorflow.keras.models import Sequential\n",
        "from tensorflow.keras.layers import Flatten, Dense, Embedding\n",
        "\n",
        "model = Sequential()\n",
        "model.add(Embedding(1000, 8, input_length=maxlen))  ## 8은 embedding dimensionality\n",
        "## 출력 크기는 (samples, maxlen, 8)\n",
        "## Flatten으로 펼쳐줄때는 3D 임베딩 텐서를 (samples, maxlen * 8) 크기의 2D 텐서로 펼친다.\n",
        "\n",
        "model.add(Flatten())\n",
        "model.add(Dense(1, activation='sigmoid'))\n",
        "model.compile(optimizer='rmsprop', loss='binary_crossentropy', metrics=['acc'])\n",
        "model.summary()\n",
        "\n",
        "history = model.fit(x_train, y_train,\n",
        "                    epochs=10,\n",
        "                    batch_size=32,\n",
        "                    validation_split=0.2)"
      ],
      "metadata": {
        "colab": {
          "base_uri": "https://localhost:8080/"
        },
        "id": "pjh_8iSeQOUV",
        "outputId": "88ecacfa-3272-43ee-bdb9-cbc44e6be8c3"
      },
      "execution_count": null,
      "outputs": [
        {
          "output_type": "stream",
          "name": "stdout",
          "text": [
            "Model: \"sequential\"\n",
            "_________________________________________________________________\n",
            " Layer (type)                Output Shape              Param #   \n",
            "=================================================================\n",
            " embedding_1 (Embedding)     (None, 20, 8)             8000      \n",
            "                                                                 \n",
            " flatten (Flatten)           (None, 160)               0         \n",
            "                                                                 \n",
            " dense (Dense)               (None, 1)                 161       \n",
            "                                                                 \n",
            "=================================================================\n",
            "Total params: 8,161\n",
            "Trainable params: 8,161\n",
            "Non-trainable params: 0\n",
            "_________________________________________________________________\n",
            "Epoch 1/10\n",
            "625/625 [==============================] - 6s 3ms/step - loss: 0.6717 - acc: 0.6111 - val_loss: 0.6275 - val_acc: 0.6816\n",
            "Epoch 2/10\n",
            "625/625 [==============================] - 2s 3ms/step - loss: 0.5649 - acc: 0.7211 - val_loss: 0.5502 - val_acc: 0.7112\n",
            "Epoch 3/10\n",
            "625/625 [==============================] - 2s 3ms/step - loss: 0.5076 - acc: 0.7469 - val_loss: 0.5305 - val_acc: 0.7276\n",
            "Epoch 4/10\n",
            "625/625 [==============================] - 2s 3ms/step - loss: 0.4877 - acc: 0.7603 - val_loss: 0.5284 - val_acc: 0.7304\n",
            "Epoch 5/10\n",
            "625/625 [==============================] - 2s 3ms/step - loss: 0.4769 - acc: 0.7660 - val_loss: 0.5288 - val_acc: 0.7324\n",
            "Epoch 6/10\n",
            "625/625 [==============================] - 2s 3ms/step - loss: 0.4689 - acc: 0.7714 - val_loss: 0.5301 - val_acc: 0.7328\n",
            "Epoch 7/10\n",
            "625/625 [==============================] - 2s 3ms/step - loss: 0.4618 - acc: 0.7775 - val_loss: 0.5341 - val_acc: 0.7294\n",
            "Epoch 8/10\n",
            "625/625 [==============================] - 2s 3ms/step - loss: 0.4547 - acc: 0.7821 - val_loss: 0.5363 - val_acc: 0.7286\n",
            "Epoch 9/10\n",
            "625/625 [==============================] - 2s 3ms/step - loss: 0.4471 - acc: 0.7869 - val_loss: 0.5398 - val_acc: 0.7274\n",
            "Epoch 10/10\n",
            "625/625 [==============================] - 2s 3ms/step - loss: 0.4398 - acc: 0.7921 - val_loss: 0.5429 - val_acc: 0.7264\n"
          ]
        }
      ]
    },
    {
      "cell_type": "markdown",
      "source": [
        "#### 원본 IMDB 텍스트 다운로드"
      ],
      "metadata": {
        "id": "EBC838Q3SmJR"
      }
    },
    {
      "cell_type": "code",
      "source": [
        "!curl -O https://ai.stanford.edu/~amaas/data/sentiment/aclImdb_v1.tar.gz\n",
        "!tar -xf aclImdb_v1.tar.gz"
      ],
      "metadata": {
        "colab": {
          "base_uri": "https://localhost:8080/"
        },
        "id": "t7WdWvThkswO",
        "outputId": "8be9561a-a1c4-4249-9c3c-ab3a7f97674d"
      },
      "execution_count": 1,
      "outputs": [
        {
          "output_type": "stream",
          "name": "stdout",
          "text": [
            "  % Total    % Received % Xferd  Average Speed   Time    Time     Time  Current\n",
            "                                 Dload  Upload   Total   Spent    Left  Speed\n",
            "100 80.2M  100 80.2M    0     0  15.2M      0  0:00:05  0:00:05 --:--:-- 18.6M\n"
          ]
        }
      ]
    },
    {
      "cell_type": "code",
      "source": [
        "ls"
      ],
      "metadata": {
        "colab": {
          "base_uri": "https://localhost:8080/"
        },
        "id": "9f4YjKrNk2Nx",
        "outputId": "2b7524e8-2ce8-4b8b-d370-ce4c18d6bed9"
      },
      "execution_count": 2,
      "outputs": [
        {
          "output_type": "stream",
          "name": "stdout",
          "text": [
            "\u001b[0m\u001b[01;34maclImdb\u001b[0m/  aclImdb_v1.tar.gz  \u001b[01;34msample_data\u001b[0m/\n"
          ]
        }
      ]
    },
    {
      "cell_type": "code",
      "source": [
        "!rm -r aclImdb/train/unsup"
      ],
      "metadata": {
        "id": "pCEmuzxgk38k"
      },
      "execution_count": 3,
      "outputs": []
    },
    {
      "cell_type": "code",
      "source": [
        "!cat aclImdb/train/pos/4077_10.txt"
      ],
      "metadata": {
        "colab": {
          "base_uri": "https://localhost:8080/"
        },
        "id": "RZRoYSlok9sl",
        "outputId": "f066b3bc-60af-4583-9764-62a69cc130a3"
      },
      "execution_count": 4,
      "outputs": [
        {
          "output_type": "stream",
          "name": "stdout",
          "text": [
            "I first saw this back in the early 90s on UK TV, i did like it then but i missed the chance to tape it, many years passed but the film always stuck with me and i lost hope of seeing it TV again, the main thing that stuck with me was the end, the hole castle part really touched me, its easy to watch, has a great story, great music, the list goes on and on, its OK me saying how good it is but everyone will take there own best bits away with them once they have seen it, yes the animation is top notch and beautiful to watch, it does show its age in a very few parts but that has now become part of it beauty, i am so glad it has came out on DVD as it is one of my top 10 films of all time. Buy it or rent it just see it, best viewing is at night alone with drink and food in reach so you don't have to stop the film.<br /><br />Enjoy"
          ]
        }
      ]
    },
    {
      "cell_type": "code",
      "source": [
        "!pwd"
      ],
      "metadata": {
        "colab": {
          "base_uri": "https://localhost:8080/"
        },
        "id": "H72KggZ54fGr",
        "outputId": "3b10cc00-a0b6-4087-9b68-7dcea2176ddb"
      },
      "execution_count": 6,
      "outputs": [
        {
          "output_type": "stream",
          "name": "stdout",
          "text": [
            "/content\n"
          ]
        }
      ]
    },
    {
      "cell_type": "code",
      "source": [
        "import os\n",
        "imdb_dir = './aclImdb' ## 폴더 지정\n",
        "train_dir = os.path.join(imdb_dir, 'train')\n",
        "\n",
        "labels = []\n",
        "texts = []\n",
        "\n",
        "for label_type in ['neg', 'pos']:\n",
        "  dir_name = os.path.join(train_dir, label_type)\n",
        "  for fname in os.listdir(dir_name):\n",
        "    if fname[-4:] == '.txt':  ## 파일 이름에 txt 붙이기\n",
        "      f = open(os.path.join(dir_name, fname), encoding='utf8')  \n",
        "      texts.append(f.read()) ## 파일 읽어와서 위의 빈 리스트에 append 해주기\n",
        "      f.close()\n",
        "      if label_type == 'neg':\n",
        "        labels.append(0)\n",
        "      else:\n",
        "        labels.append(1)"
      ],
      "metadata": {
        "id": "hINx8vX0lDb0"
      },
      "execution_count": 7,
      "outputs": []
    },
    {
      "cell_type": "code",
      "source": [
        "texts[0]"
      ],
      "metadata": {
        "colab": {
          "base_uri": "https://localhost:8080/",
          "height": 182
        },
        "id": "O68Knowd4VcY",
        "outputId": "2e784a17-fd43-4568-9386-f36a4ea12cf7"
      },
      "execution_count": 8,
      "outputs": [
        {
          "output_type": "execute_result",
          "data": {
            "text/plain": [
              "'I basically found Eden\\'s Curve to be a very poorly constructed that made it difficult to watch. However, there is something I must say about how the director captured something about the atmosphere of the early 70\\'s in the choice of settings and clothing. The \"back to the earth\" philosophy and the interest in sexual exploration and drugs that was not dramatically decadent, as portrayed in many later versions of the 70\\'s was right on, as was the \"don\\'t ask don\\'t tell\" pseudo-liberalism of the fraternity made up of east-coast intellectuals, except that I would have thought this was more likely of a New England school rather than one in Virginia, where I imagine the \"good ole boy\" mentality still dominated even elitist schools like this one. Another thing I appreciated and could relate to is that this was a time when homosexuality was not linked so much to leathermen or drag queens and I appreciated some homosexual roles not related to these terribly overused images. I felt it was very unfortunate that \"gay culture\" took on certain standard forms in the 80\\'s out of Castro and Christopher Streets and these defined the movement and left out huge numbers of gay men that were more subdued in their lifestyles. I appreciated the film mainly as a way of remembering a more natural way we were about our sexuality and personal relationships without \"the scene.\"'"
            ],
            "application/vnd.google.colaboratory.intrinsic+json": {
              "type": "string"
            }
          },
          "metadata": {},
          "execution_count": 8
        }
      ]
    },
    {
      "cell_type": "code",
      "source": [
        "# 여기까지가 원본 데이터 가져오기"
      ],
      "metadata": {
        "id": "s2MbwZnu4w48"
      },
      "execution_count": 9,
      "outputs": []
    },
    {
      "cell_type": "code",
      "source": [
        "# 데이터 토큰화\n",
        "from tensorflow.keras.preprocessing.text import Tokenizer\n",
        "from tensorflow.keras.preprocessing.sequence import pad_sequences\n",
        "import numpy as np\n",
        "\n",
        "maxlen = 100 \n",
        "training_samples = 200\n",
        "validation_samples = 10000\n",
        "max_words = 10000\n",
        "\n",
        "tokenizer = Tokenizer(num_words=max_words) ## 객체 만듦\n",
        "tokenizer.fit_on_texts(texts)  ## 여기서 fit_on_text는 토큰화를 해준다.(토큰화 하는 과정도 담겨있다.)\n",
        "sequences = tokenizer.texts_to_sequences(texts)\n",
        "\n",
        "word_index = tokenizer.word_index\n",
        "len(word_index)"
      ],
      "metadata": {
        "colab": {
          "base_uri": "https://localhost:8080/"
        },
        "id": "Gx7GAyt_412g",
        "outputId": "87aa6658-b9c9-4791-ab28-48391a9ae49f"
      },
      "execution_count": 12,
      "outputs": [
        {
          "output_type": "execute_result",
          "data": {
            "text/plain": [
              "88582"
            ]
          },
          "metadata": {},
          "execution_count": 12
        }
      ]
    },
    {
      "cell_type": "code",
      "source": [
        "data = pad_sequences(sequences, maxlen=maxlen) \n",
        "labels = np.asarray(labels) ## 배열로 바꿔주었다.\n",
        "print(data.shape, labels.shape)"
      ],
      "metadata": {
        "colab": {
          "base_uri": "https://localhost:8080/"
        },
        "id": "O8psdmOi5qst",
        "outputId": "6eff466f-b4bb-4a96-f42e-e2760136e30c"
      },
      "execution_count": 13,
      "outputs": [
        {
          "output_type": "stream",
          "name": "stdout",
          "text": [
            "(25000, 100) (25000,)\n"
          ]
        }
      ]
    },
    {
      "cell_type": "code",
      "source": [
        "# 훈련 세트와 검증 세트 분할(셔플)\n",
        "indices = np.arange(data.shape[0])\n",
        "np.random.shuffle(indices)\n",
        "data = data[indices]\n",
        "labels = labels[indices]\n",
        "\n",
        "x_train = data[:training_samples]\n",
        "y_train = labels[:training_samples]\n",
        "x_val = data[training_samples:training_samples+validation_samples]\n",
        "y_val = labels[training_samples:training_samples+validation_samples]"
      ],
      "metadata": {
        "id": "WGqrbFNP5_Ui"
      },
      "execution_count": 16,
      "outputs": []
    },
    {
      "cell_type": "code",
      "source": [
        "print(len(texts))"
      ],
      "metadata": {
        "colab": {
          "base_uri": "https://localhost:8080/"
        },
        "id": "tKrnWRVw6yp-",
        "outputId": "61876f5f-9d21-4e6b-ff6d-85de459db91d"
      },
      "execution_count": 17,
      "outputs": [
        {
          "output_type": "stream",
          "name": "stdout",
          "text": [
            "25000\n"
          ]
        }
      ]
    },
    {
      "cell_type": "code",
      "source": [
        "print(len(sequences))"
      ],
      "metadata": {
        "colab": {
          "base_uri": "https://localhost:8080/"
        },
        "id": "kFwjVTEf8OTh",
        "outputId": "3404e235-38f8-4e6f-96dd-bb690d7c869d"
      },
      "execution_count": 18,
      "outputs": [
        {
          "output_type": "stream",
          "name": "stdout",
          "text": [
            "25000\n"
          ]
        }
      ]
    },
    {
      "cell_type": "code",
      "source": [
        "len(sequences[0])"
      ],
      "metadata": {
        "colab": {
          "base_uri": "https://localhost:8080/"
        },
        "id": "A2vM2bTn8QaC",
        "outputId": "feb36a85-f739-4e7c-9d01-beb6784ecf80"
      },
      "execution_count": 20,
      "outputs": [
        {
          "output_type": "execute_result",
          "data": {
            "text/plain": [
              "225"
            ]
          },
          "metadata": {},
          "execution_count": 20
        }
      ]
    },
    {
      "cell_type": "code",
      "source": [
        "word_index.items()  # key, value 값이 다 나오는게 items"
      ],
      "metadata": {
        "id": "ir1vKqTC8Sbp"
      },
      "execution_count": null,
      "outputs": []
    },
    {
      "cell_type": "code",
      "source": [
        "print(data.shape)\n",
        "data[0]"
      ],
      "metadata": {
        "colab": {
          "base_uri": "https://localhost:8080/"
        },
        "id": "nKNqyg2F8abf",
        "outputId": "202a1e4a-0000-42d8-c990-6d98355e1af2"
      },
      "execution_count": 23,
      "outputs": [
        {
          "output_type": "stream",
          "name": "stdout",
          "text": [
            "(25000, 100)\n"
          ]
        },
        {
          "output_type": "execute_result",
          "data": {
            "text/plain": [
              "array([  13, 3198,   11, 2553,   36,  406,   13,    1,   88,  643, 3684,\n",
              "          4,   29,   48,   13,   11,   69,   73,  116,  108,  147,  143,\n",
              "        980,    5,   86, 1046,  543,  761,    2,  257,   32, 8842, 2168,\n",
              "          4,   15,  110,   15,   48,    6, 1446,    8,    1,  558,  206,\n",
              "         58, 1355, 1399,   15,  110,    5,   27,    3,  840,   93,    1,\n",
              "         93,   10,  101,  110,   39,   81,  141,   27,   11,   19,   45,\n",
              "       6848,    5,    1, 2203,   10,  147,  232,    5, 3797,   16,  406,\n",
              "        206, 4343, 1399,    2,    5, 3797,   16, 2037,  116,  206, 1089,\n",
              "          4, 1935,   40,    5,  116,   83,    2, 1774,   48,  116,    6,\n",
              "        345], dtype=int32)"
            ]
          },
          "metadata": {},
          "execution_count": 23
        }
      ]
    },
    {
      "cell_type": "code",
      "source": [
        "# 여기까지 데이터 준비 완료"
      ],
      "metadata": {
        "id": "LglrBF508r5b"
      },
      "execution_count": 24,
      "outputs": []
    },
    {
      "cell_type": "code",
      "source": [
        "# 글로브\n",
        "glove_dir = '/content/drive/MyDrive'\n",
        "embeddings_index = {}\n",
        "f = open(os.path.join(glove_dir, 'glove.6B.100d.txt'), encoding='utf8')\n",
        "for line in f:\n",
        "  values = line.split()\n",
        "  word = values[0]\n",
        "  coefs = np.asarray(values[1:], dtype='float32')\n",
        "  embeddings_index[word] = coefs\n",
        "f.close()\n",
        "\n",
        "print(len(embeddings_index))"
      ],
      "metadata": {
        "colab": {
          "base_uri": "https://localhost:8080/"
        },
        "id": "_7TqLjH78_OH",
        "outputId": "700e7439-2ac7-45df-d016-713d503d844f"
      },
      "execution_count": 46,
      "outputs": [
        {
          "output_type": "stream",
          "name": "stdout",
          "text": [
            "400000\n"
          ]
        }
      ]
    },
    {
      "cell_type": "code",
      "source": [
        "embeddings_index.get('the')"
      ],
      "metadata": {
        "colab": {
          "base_uri": "https://localhost:8080/"
        },
        "id": "OnPaALEX-gyl",
        "outputId": "856c6e5e-b8f2-42ab-897a-babbb1c72c4f"
      },
      "execution_count": 47,
      "outputs": [
        {
          "output_type": "execute_result",
          "data": {
            "text/plain": [
              "array([-0.038194, -0.24487 ,  0.72812 , -0.39961 ,  0.083172,  0.043953,\n",
              "       -0.39141 ,  0.3344  , -0.57545 ,  0.087459,  0.28787 , -0.06731 ,\n",
              "        0.30906 , -0.26384 , -0.13231 , -0.20757 ,  0.33395 , -0.33848 ,\n",
              "       -0.31743 , -0.48336 ,  0.1464  , -0.37304 ,  0.34577 ,  0.052041,\n",
              "        0.44946 , -0.46971 ,  0.02628 , -0.54155 , -0.15518 , -0.14107 ,\n",
              "       -0.039722,  0.28277 ,  0.14393 ,  0.23464 , -0.31021 ,  0.086173,\n",
              "        0.20397 ,  0.52624 ,  0.17164 , -0.082378, -0.71787 , -0.41531 ,\n",
              "        0.20335 , -0.12763 ,  0.41367 ,  0.55187 ,  0.57908 , -0.33477 ,\n",
              "       -0.36559 , -0.54857 , -0.062892,  0.26584 ,  0.30205 ,  0.99775 ,\n",
              "       -0.80481 , -3.0243  ,  0.01254 , -0.36942 ,  2.2167  ,  0.72201 ,\n",
              "       -0.24978 ,  0.92136 ,  0.034514,  0.46745 ,  1.1079  , -0.19358 ,\n",
              "       -0.074575,  0.23353 , -0.052062, -0.22044 ,  0.057162, -0.15806 ,\n",
              "       -0.30798 , -0.41625 ,  0.37972 ,  0.15006 , -0.53212 , -0.2055  ,\n",
              "       -1.2526  ,  0.071624,  0.70565 ,  0.49744 , -0.42063 ,  0.26148 ,\n",
              "       -1.538   , -0.30223 , -0.073438, -0.28312 ,  0.37104 , -0.25217 ,\n",
              "        0.016215, -0.017099, -0.38984 ,  0.87424 , -0.72569 , -0.51058 ,\n",
              "       -0.52028 , -0.1459  ,  0.8278  ,  0.27062 ], dtype=float32)"
            ]
          },
          "metadata": {},
          "execution_count": 47
        }
      ]
    },
    {
      "cell_type": "code",
      "source": [
        "embedding_dim = 100\n",
        "\n",
        "embedding_matrix = np.zeros((max_words, embedding_dim))\n",
        "for word, i in word_index.items():\n",
        "  embedding_vector = embeddings_index.get(word)\n",
        "  if i < max_words:\n",
        "    if embedding_vector is not None:\n",
        "      embedding_matrix[i] = embedding_vector"
      ],
      "metadata": {
        "id": "caPZheQR-For"
      },
      "execution_count": 48,
      "outputs": []
    },
    {
      "cell_type": "code",
      "source": [
        "print(embedding_matrix.shape)\n",
        "embedding_matrix[10]"
      ],
      "metadata": {
        "colab": {
          "base_uri": "https://localhost:8080/"
        },
        "id": "Mwwc83fb-txr",
        "outputId": "9889fd8e-f3a0-4cb4-e700-a7e088c54c50"
      },
      "execution_count": 49,
      "outputs": [
        {
          "output_type": "stream",
          "name": "stdout",
          "text": [
            "(10000, 100)\n"
          ]
        },
        {
          "output_type": "execute_result",
          "data": {
            "text/plain": [
              "array([-0.046539  ,  0.61966002,  0.56647003, -0.46584001, -1.18900001,\n",
              "        0.44599   ,  0.066035  ,  0.31909999,  0.14679   , -0.22119001,\n",
              "        0.79238999,  0.29905   ,  0.16073   ,  0.025324  ,  0.18678001,\n",
              "       -0.31000999, -0.28108001,  0.60514998, -1.0654    ,  0.52476001,\n",
              "        0.064152  ,  1.03579998, -0.40779001, -0.38011   ,  0.30801001,\n",
              "        0.59964001, -0.26991001, -0.76034999,  0.94221997, -0.46919   ,\n",
              "       -0.18278   ,  0.90652001,  0.79671001,  0.24824999,  0.25713   ,\n",
              "        0.6232    , -0.44768   ,  0.65357   ,  0.76902002, -0.51229   ,\n",
              "       -0.44332999, -0.21867   ,  0.38370001, -1.14830005, -0.94397998,\n",
              "       -0.15062   ,  0.30012   , -0.57805997,  0.20175   , -1.65910006,\n",
              "       -0.079195  ,  0.026423  ,  0.22051001,  0.99713999, -0.57538998,\n",
              "       -2.72659993,  0.31448001,  0.70521998,  1.43809998,  0.99125999,\n",
              "        0.13976   ,  1.34739995, -1.1753    ,  0.0039503 ,  1.02980006,\n",
              "        0.064637  ,  0.90886998,  0.82871997, -0.47003001, -0.10575   ,\n",
              "        0.5916    , -0.42210001,  0.57331002, -0.54114002,  0.10768   ,\n",
              "        0.39783999, -0.048744  ,  0.064596  , -0.61436999, -0.28600001,\n",
              "        0.50669998, -0.49757999, -0.81569999,  0.16407999, -1.96300006,\n",
              "       -0.26693001, -0.37593001, -0.95846999, -0.85839999, -0.71577001,\n",
              "       -0.32343   , -0.43121001,  0.41391999,  0.28374001, -0.70931   ,\n",
              "        0.15003   , -0.2154    , -0.37616   , -0.032502  ,  0.80620003])"
            ]
          },
          "metadata": {},
          "execution_count": 49
        }
      ]
    },
    {
      "cell_type": "code",
      "source": [
        "# 모델 정의하기\n",
        "from tensorflow.keras.models import Sequential\n",
        "from tensorflow.keras.layers import Embedding, Flatten, Dense\n",
        "\n",
        "model = Sequential()\n",
        "model.add(Embedding(max_words, embedding_dim, input_length=maxlen))\n",
        "model.add(Flatten())\n",
        "model.add(Dense(32, activation='relu'))\n",
        "model.add(Dense(1, activation='sigmoid'))\n",
        "model.summary()\n",
        "\n",
        "model.layers[0].set_weights([embedding_matrix]) ## 모델에 Glove 임베딩 로드\n",
        "model.layers[0].trainable=False ## 사전 훈련된 부분이 업데이트 되면 안됌\n",
        "\n",
        "model.compile(optimizer='rmsprop',\n",
        "              loss='binary_crossentropy',\n",
        "              metrics=['acc'])\n",
        "\n",
        "history = model.fit(x_train, y_train,\n",
        "                    epochs=10,\n",
        "                    batch_size=32,\n",
        "                    validation_data=(x_val, y_val))"
      ],
      "metadata": {
        "colab": {
          "base_uri": "https://localhost:8080/"
        },
        "id": "sGZbK0C0Ohdc",
        "outputId": "83c6c5e1-b7f4-4160-ea57-58d6c513ec46"
      },
      "execution_count": 61,
      "outputs": [
        {
          "output_type": "stream",
          "name": "stdout",
          "text": [
            "Model: \"sequential_3\"\n",
            "_________________________________________________________________\n",
            " Layer (type)                Output Shape              Param #   \n",
            "=================================================================\n",
            " embedding_3 (Embedding)     (None, 100, 100)          1000000   \n",
            "                                                                 \n",
            " flatten_3 (Flatten)         (None, 10000)             0         \n",
            "                                                                 \n",
            " dense_4 (Dense)             (None, 32)                320032    \n",
            "                                                                 \n",
            " dense_5 (Dense)             (None, 1)                 33        \n",
            "                                                                 \n",
            "=================================================================\n",
            "Total params: 1,320,065\n",
            "Trainable params: 1,320,065\n",
            "Non-trainable params: 0\n",
            "_________________________________________________________________\n",
            "Epoch 1/10\n",
            "7/7 [==============================] - 1s 104ms/step - loss: 1.7744 - acc: 0.4600 - val_loss: 0.7282 - val_acc: 0.4964\n",
            "Epoch 2/10\n",
            "7/7 [==============================] - 1s 86ms/step - loss: 0.6447 - acc: 0.7550 - val_loss: 0.7268 - val_acc: 0.5055\n",
            "Epoch 3/10\n",
            "7/7 [==============================] - 1s 84ms/step - loss: 0.5073 - acc: 0.7500 - val_loss: 0.9641 - val_acc: 0.4966\n",
            "Epoch 4/10\n",
            "7/7 [==============================] - 1s 85ms/step - loss: 0.3692 - acc: 0.8250 - val_loss: 0.6933 - val_acc: 0.5582\n",
            "Epoch 5/10\n",
            "7/7 [==============================] - 1s 84ms/step - loss: 0.2850 - acc: 0.9000 - val_loss: 0.6931 - val_acc: 0.5599\n",
            "Epoch 6/10\n",
            "7/7 [==============================] - 1s 86ms/step - loss: 0.1387 - acc: 0.9900 - val_loss: 1.1037 - val_acc: 0.5108\n",
            "Epoch 7/10\n",
            "7/7 [==============================] - 1s 85ms/step - loss: 0.2807 - acc: 0.8600 - val_loss: 1.6046 - val_acc: 0.4972\n",
            "Epoch 8/10\n",
            "7/7 [==============================] - 1s 85ms/step - loss: 0.1673 - acc: 0.9450 - val_loss: 0.7129 - val_acc: 0.5691\n",
            "Epoch 9/10\n",
            "7/7 [==============================] - 1s 85ms/step - loss: 0.0442 - acc: 1.0000 - val_loss: 0.8410 - val_acc: 0.5391\n",
            "Epoch 10/10\n",
            "7/7 [==============================] - 1s 85ms/step - loss: 0.0401 - acc: 1.0000 - val_loss: 0.8555 - val_acc: 0.5449\n"
          ]
        }
      ]
    },
    {
      "cell_type": "code",
      "source": [
        "# 정확도가 낮다. 이유는 데이터가 적어서.\n",
        "# 적어도 0.5는 나와야한다.(동전 던지기도 50%이기 때문)"
      ],
      "metadata": {
        "id": "TR-kA68uKMsk"
      },
      "execution_count": 62,
      "outputs": []
    },
    {
      "cell_type": "code",
      "source": [
        "import matplotlib.pyplot as plt\n",
        "accuracy = history.history[\"acc\"]\n",
        "val_accuracy = history.history[\"val_acc\"]\n",
        "loss = history.history[\"loss\"]\n",
        "val_loss = history.history[\"val_loss\"]\n",
        "\n",
        "epochs = range(1, len(accuracy) + 1)\n",
        "\n",
        "plt.plot(epochs, accuracy, \"bo\", label=\"Training accuracy\")\n",
        "plt.plot(epochs, val_accuracy, \"b\", label=\"Validation accuracy\")\n",
        "plt.title(\"Training and validation accuracy\")\n",
        "plt.legend()\n",
        "plt.figure()\n",
        "plt.plot(epochs, loss, \"bo\", label=\"Training loss\")\n",
        "plt.plot(epochs, val_loss, \"b\", label=\"Validation loss\")\n",
        "plt.title(\"Training and validation loss\")\n",
        "plt.legend()\n",
        "plt.show()"
      ],
      "metadata": {
        "colab": {
          "base_uri": "https://localhost:8080/",
          "height": 545
        },
        "id": "HzrBwAbGKWSs",
        "outputId": "d730e08c-5b63-4047-a6ba-ff6f709786db"
      },
      "execution_count": 63,
      "outputs": [
        {
          "output_type": "display_data",
          "data": {
            "text/plain": [
              "<Figure size 432x288 with 1 Axes>"
            ],
            "image/png": "[encoded data removed]"
          },
          "metadata": {
            "needs_background": "light"
          }
        },
        {
          "output_type": "display_data",
          "data": {
            "text/plain": [
              "<Figure size 432x288 with 1 Axes>"
            ],
            "image/png": "[encoded data removed]"
          },
          "metadata": {
            "needs_background": "light"
          }
        }
      ]
    },
    {
      "cell_type": "code",
      "source": [
        "model.save_weights('/content/drive/MyDrive/model12000.h5')"
      ],
      "metadata": {
        "id": "IHel_glELW8F"
      },
      "execution_count": 64,
      "outputs": []
    },
    {
      "cell_type": "code",
      "source": [
        "# 평가\n",
        "test_dir = os.path.join(imdb_dir, 'test')\n",
        "labels = []\n",
        "texts = []\n",
        "\n",
        "for label_type in ['neg', 'pos']:\n",
        "  dir_name = os.path.join(train_dir, label_type)\n",
        "  for fname in os.listdir(dir_name):\n",
        "    if fname[-4:] == '.txt':  \n",
        "      f = open(os.path.join(dir_name, fname), encoding='utf8')  \n",
        "      texts.append(f.read()) \n",
        "      f.close()\n",
        "      if label_type == 'neg':\n",
        "        labels.append(0)\n",
        "      else:\n",
        "        labels.append(1)\n",
        "\n",
        "sequences = tokenizer.texts_to_sequences(texts)\n",
        "x_test = pad_sequences(sequences, maxlen=maxlen)\n",
        "y_test = np.asarray(labels)"
      ],
      "metadata": {
        "id": "L0v9afwvM9y1"
      },
      "execution_count": 65,
      "outputs": []
    },
    {
      "cell_type": "code",
      "source": [
        "model.save_weights('/content/drive/MyDrive/model12000.h5')\n",
        "model.evaluate(x_test, y_test)"
      ],
      "metadata": {
        "colab": {
          "base_uri": "https://localhost:8080/"
        },
        "id": "GyJquBBjNful",
        "outputId": "02b12e46-e1f8-46e8-d0c3-12ce7155745d"
      },
      "execution_count": 68,
      "outputs": [
        {
          "output_type": "stream",
          "name": "stdout",
          "text": [
            "782/782 [==============================] - 2s 2ms/step - loss: 0.8443 - acc: 0.5512\n"
          ]
        },
        {
          "output_type": "execute_result",
          "data": {
            "text/plain": [
              "[0.8443089723587036, 0.5511599779129028]"
            ]
          },
          "metadata": {},
          "execution_count": 68
        }
      ]
    },
    {
      "cell_type": "code",
      "source": [
        "model.load_weights('/content/drive/MyDrive/model12000.h5')\n",
        "model.evaluate(x_test, y_test)"
      ],
      "metadata": {
        "colab": {
          "base_uri": "https://localhost:8080/"
        },
        "id": "pwgQ-43nRLgN",
        "outputId": "bba25ce4-4ab4-460d-8e40-18b1a76e5fd1"
      },
      "execution_count": 67,
      "outputs": [
        {
          "output_type": "stream",
          "name": "stdout",
          "text": [
            "782/782 [==============================] - 1s 2ms/step - loss: 0.8443 - acc: 0.5512\n"
          ]
        },
        {
          "output_type": "execute_result",
          "data": {
            "text/plain": [
              "[0.8443089723587036, 0.5511599779129028]"
            ]
          },
          "metadata": {},
          "execution_count": 67
        }
      ]
    },
    {
      "cell_type": "markdown",
      "source": [
        "[ 과제 ] training_samples = 2000로 적용해서 위의 과제를 수행하기"
      ],
      "metadata": {
        "id": "AXtHrwJVK1Ke"
      }
    },
    {
      "cell_type": "code",
      "source": [
        "# 데이터 토큰화\n",
        "from tensorflow.keras.preprocessing.text import Tokenizer\n",
        "from tensorflow.keras.preprocessing.sequence import pad_sequences\n",
        "import numpy as np\n",
        "\n",
        "maxlen = 100 \n",
        "training_samples = 2000\n",
        "validation_samples = 10000\n",
        "max_words = 10000\n",
        "\n",
        "tokenizer = Tokenizer(num_words=max_words) ## 객체 만듦\n",
        "tokenizer.fit_on_texts(texts)  ## 여기서 fit_on_text는 토큰화를 해준다.(토큰화 하는 과정도 담겨있다.)\n",
        "sequences = tokenizer.texts_to_sequences(texts)\n",
        "\n",
        "word_index = tokenizer.word_index\n",
        "len(word_index)"
      ],
      "metadata": {
        "colab": {
          "base_uri": "https://localhost:8080/"
        },
        "id": "IMEEblTCPn6M",
        "outputId": "2afe736d-f3ed-4dda-cf0e-60a61a02c455"
      },
      "execution_count": 69,
      "outputs": [
        {
          "output_type": "execute_result",
          "data": {
            "text/plain": [
              "88582"
            ]
          },
          "metadata": {},
          "execution_count": 69
        }
      ]
    },
    {
      "cell_type": "code",
      "source": [
        "data = pad_sequences(sequences, maxlen=maxlen) \n",
        "labels = np.asarray(labels) ## 배열로 바꿔주었다.\n",
        "print(data.shape, labels.shape)"
      ],
      "metadata": {
        "colab": {
          "base_uri": "https://localhost:8080/"
        },
        "id": "GSxttXF2UjJl",
        "outputId": "eac50100-d430-4cc2-acf4-f4f26800c7d7"
      },
      "execution_count": 70,
      "outputs": [
        {
          "output_type": "stream",
          "name": "stdout",
          "text": [
            "(25000, 100) (25000,)\n"
          ]
        }
      ]
    },
    {
      "cell_type": "code",
      "source": [
        "# 훈련 세트와 검증 세트 분할(셔플)\n",
        "indices = np.arange(data.shape[0])\n",
        "np.random.shuffle(indices)\n",
        "data = data[indices]\n",
        "labels = labels[indices]\n",
        "\n",
        "x_train = data[:training_samples]\n",
        "y_train = labels[:training_samples]\n",
        "x_val = data[training_samples:training_samples+validation_samples]\n",
        "y_val = labels[training_samples:training_samples+validation_samples]"
      ],
      "metadata": {
        "id": "Mr9XWWtgUjMD"
      },
      "execution_count": 71,
      "outputs": []
    },
    {
      "cell_type": "code",
      "source": [
        "# 글로브\n",
        "glove_dir = '/content/drive/MyDrive'\n",
        "embeddings_index = {}\n",
        "f = open(os.path.join(glove_dir, 'glove.6B.100d.txt'), encoding='utf8')\n",
        "for line in f:\n",
        "  values = line.split()\n",
        "  word = values[0]\n",
        "  coefs = np.asarray(values[1:], dtype='float32')\n",
        "  embeddings_index[word] = coefs\n",
        "f.close()\n",
        "\n",
        "print(len(embeddings_index))"
      ],
      "metadata": {
        "colab": {
          "base_uri": "https://localhost:8080/"
        },
        "id": "TeNf2uKKUjOX",
        "outputId": "dcb5c457-a439-4363-893c-f139afc58b88"
      },
      "execution_count": 72,
      "outputs": [
        {
          "output_type": "stream",
          "name": "stdout",
          "text": [
            "400000\n"
          ]
        }
      ]
    },
    {
      "cell_type": "code",
      "source": [
        "embedding_dim = 100\n",
        "\n",
        "embedding_matrix = np.zeros((max_words, embedding_dim))\n",
        "for word, i in word_index.items():\n",
        "  embedding_vector = embeddings_index.get(word)\n",
        "  if i < max_words:\n",
        "    if embedding_vector is not None:\n",
        "      embedding_matrix[i] = embedding_vector"
      ],
      "metadata": {
        "id": "oiPxPni0UjQj"
      },
      "execution_count": 73,
      "outputs": []
    },
    {
      "cell_type": "code",
      "source": [
        "# 모델 정의하기\n",
        "from tensorflow.keras.models import Sequential\n",
        "from tensorflow.keras.layers import Embedding, Flatten, Dense\n",
        "\n",
        "model = Sequential()\n",
        "model.add(Embedding(max_words, embedding_dim, input_length=maxlen))\n",
        "model.add(Flatten())\n",
        "model.add(Dense(32, activation='relu'))\n",
        "model.add(Dense(1, activation='sigmoid'))\n",
        "model.summary()\n",
        "\n",
        "model.layers[0].set_weights([embedding_matrix]) ## 모델에 Glove 임베딩 로드\n",
        "model.layers[0].trainable=False ## 사전 훈련된 부분이 업데이트 되면 안됌\n",
        "\n",
        "model.compile(optimizer='rmsprop',\n",
        "              loss='binary_crossentropy',\n",
        "              metrics=['acc'])\n",
        "\n",
        "history = model.fit(x_train, y_train,\n",
        "                    epochs=10,\n",
        "                    batch_size=32,\n",
        "                    validation_data=(x_val, y_val))"
      ],
      "metadata": {
        "colab": {
          "base_uri": "https://localhost:8080/"
        },
        "id": "SyoGMintUjS2",
        "outputId": "a07c07b2-2072-4642-e52a-b81c1bf6551c"
      },
      "execution_count": 74,
      "outputs": [
        {
          "output_type": "stream",
          "name": "stdout",
          "text": [
            "Model: \"sequential_4\"\n",
            "_________________________________________________________________\n",
            " Layer (type)                Output Shape              Param #   \n",
            "=================================================================\n",
            " embedding_4 (Embedding)     (None, 100, 100)          1000000   \n",
            "                                                                 \n",
            " flatten_4 (Flatten)         (None, 10000)             0         \n",
            "                                                                 \n",
            " dense_6 (Dense)             (None, 32)                320032    \n",
            "                                                                 \n",
            " dense_7 (Dense)             (None, 1)                 33        \n",
            "                                                                 \n",
            "=================================================================\n",
            "Total params: 1,320,065\n",
            "Trainable params: 1,320,065\n",
            "Non-trainable params: 0\n",
            "_________________________________________________________________\n",
            "Epoch 1/10\n",
            "63/63 [==============================] - 1s 13ms/step - loss: 0.8281 - acc: 0.5260 - val_loss: 0.6705 - val_acc: 0.6351\n",
            "Epoch 2/10\n",
            "63/63 [==============================] - 1s 11ms/step - loss: 0.6514 - acc: 0.6400 - val_loss: 0.6573 - val_acc: 0.6023\n",
            "Epoch 3/10\n",
            "63/63 [==============================] - 1s 11ms/step - loss: 0.5731 - acc: 0.7145 - val_loss: 0.9157 - val_acc: 0.5137\n",
            "Epoch 4/10\n",
            "63/63 [==============================] - 1s 11ms/step - loss: 0.4601 - acc: 0.7945 - val_loss: 0.6654 - val_acc: 0.6273\n",
            "Epoch 5/10\n",
            "63/63 [==============================] - 1s 12ms/step - loss: 0.3855 - acc: 0.8365 - val_loss: 0.6326 - val_acc: 0.6558\n",
            "Epoch 6/10\n",
            "63/63 [==============================] - 1s 11ms/step - loss: 0.2831 - acc: 0.9000 - val_loss: 0.6822 - val_acc: 0.6452\n",
            "Epoch 7/10\n",
            "63/63 [==============================] - 1s 11ms/step - loss: 0.2024 - acc: 0.9320 - val_loss: 1.1459 - val_acc: 0.5666\n",
            "Epoch 8/10\n",
            "63/63 [==============================] - 1s 11ms/step - loss: 0.1538 - acc: 0.9520 - val_loss: 0.7897 - val_acc: 0.6444\n",
            "Epoch 9/10\n",
            "63/63 [==============================] - 1s 10ms/step - loss: 0.1121 - acc: 0.9625 - val_loss: 0.8222 - val_acc: 0.6489\n",
            "Epoch 10/10\n",
            "63/63 [==============================] - 1s 11ms/step - loss: 0.0742 - acc: 0.9815 - val_loss: 0.8384 - val_acc: 0.6531\n"
          ]
        }
      ]
    },
    {
      "cell_type": "code",
      "source": [
        "import matplotlib.pyplot as plt\n",
        "accuracy = history.history[\"acc\"]\n",
        "val_accuracy = history.history[\"val_acc\"]\n",
        "loss = history.history[\"loss\"]\n",
        "val_loss = history.history[\"val_loss\"]\n",
        "\n",
        "epochs = range(1, len(accuracy) + 1)\n",
        "\n",
        "plt.plot(epochs, accuracy, \"bo\", label=\"Training accuracy\")\n",
        "plt.plot(epochs, val_accuracy, \"b\", label=\"Validation accuracy\")\n",
        "plt.title(\"Training and validation accuracy\")\n",
        "plt.legend()\n",
        "plt.figure()\n",
        "plt.plot(epochs, loss, \"bo\", label=\"Training loss\")\n",
        "plt.plot(epochs, val_loss, \"b\", label=\"Validation loss\")\n",
        "plt.title(\"Training and validation loss\")\n",
        "plt.legend()\n",
        "plt.show()"
      ],
      "metadata": {
        "colab": {
          "base_uri": "https://localhost:8080/",
          "height": 545
        },
        "id": "SMqkBJPZUjVN",
        "outputId": "52029d6b-b42b-46ec-fccb-1e623aa54e97"
      },
      "execution_count": 75,
      "outputs": [
        {
          "output_type": "display_data",
          "data": {
            "text/plain": [
              "<Figure size 432x288 with 1 Axes>"
            ],
            "image/png": "[encoded data removed]"
          },
          "metadata": {
            "needs_background": "light"
          }
        },
        {
          "output_type": "display_data",
          "data": {
            "text/plain": [
              "<Figure size 432x288 with 1 Axes>"
            ],
            "image/png": "[encoded data removed]"
          },
          "metadata": {
            "needs_background": "light"
          }
        }
      ]
    },
    {
      "cell_type": "code",
      "source": [
        "model.save_weights('/content/drive/MyDrive/model12000.h5')"
      ],
      "metadata": {
        "id": "nG6cED5OU_Ul"
      },
      "execution_count": 76,
      "outputs": []
    },
    {
      "cell_type": "code",
      "source": [
        "# 평가\n",
        "test_dir = os.path.join(imdb_dir, 'test')\n",
        "labels = []\n",
        "texts = []\n",
        "\n",
        "for label_type in ['neg', 'pos']:\n",
        "  dir_name = os.path.join(train_dir, label_type)\n",
        "  for fname in os.listdir(dir_name):\n",
        "    if fname[-4:] == '.txt':  \n",
        "      f = open(os.path.join(dir_name, fname), encoding='utf8')  \n",
        "      texts.append(f.read()) \n",
        "      f.close()\n",
        "      if label_type == 'neg':\n",
        "        labels.append(0)\n",
        "      else:\n",
        "        labels.append(1)\n",
        "\n",
        "sequences = tokenizer.texts_to_sequences(texts)\n",
        "x_test = pad_sequences(sequences, maxlen=maxlen)\n",
        "y_test = np.asarray(labels)"
      ],
      "metadata": {
        "id": "pUs08aZQU_Wz"
      },
      "execution_count": 77,
      "outputs": []
    },
    {
      "cell_type": "code",
      "source": [
        "model.load_weights('/content/drive/MyDrive/model12000.h5')\n",
        "model.evaluate(x_test, y_test)"
      ],
      "metadata": {
        "colab": {
          "base_uri": "https://localhost:8080/"
        },
        "id": "9gXflvMVU_Yo",
        "outputId": "57f1ea8f-80ae-4aa7-8e49-f6c5075bf907"
      },
      "execution_count": 78,
      "outputs": [
        {
          "output_type": "stream",
          "name": "stdout",
          "text": [
            "782/782 [==============================] - 2s 2ms/step - loss: 0.7750 - acc: 0.6788\n"
          ]
        },
        {
          "output_type": "execute_result",
          "data": {
            "text/plain": [
              "[0.7749671339988708, 0.6788399815559387]"
            ]
          },
          "metadata": {},
          "execution_count": 78
        }
      ]
    },
    {
      "cell_type": "code",
      "source": [],
      "metadata": {
        "id": "bmu59NIoVRVx"
      },
      "execution_count": null,
      "outputs": []
    },
    {
      "cell_type": "code",
      "source": [],
      "metadata": {
        "id": "Ql9ztFEsfiIP"
      },
      "execution_count": null,
      "outputs": []
    }
  ]
}