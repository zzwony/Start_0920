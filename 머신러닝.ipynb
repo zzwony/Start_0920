{
 "cells": [
  {
   "cell_type": "markdown",
   "id": "315c0d4c-ff7c-47d4-85f4-11e0cccdc8a1",
   "metadata": {},
   "source": [
    "# < 간단한 몇 가지 >"
   ]
  },
  {
   "cell_type": "markdown",
   "id": "eef846d8-271b-48fc-825e-514483230182",
   "metadata": {},
   "source": [
    "## → array, list, dictionary로 바꾸기"
   ]
  },
  {
   "cell_type": "code",
   "execution_count": 1,
   "id": "6e833074-49c8-4b7e-94d8-412a395250de",
   "metadata": {
    "collapsed": true,
    "jupyter": {
     "outputs_hidden": true
    },
    "tags": []
   },
   "outputs": [
    {
     "data": {
      "text/html": [
       "<div>\n",
       "<style scoped>\n",
       "    .dataframe tbody tr th:only-of-type {\n",
       "        vertical-align: middle;\n",
       "    }\n",
       "\n",
       "    .dataframe tbody tr th {\n",
       "        vertical-align: top;\n",
       "    }\n",
       "\n",
       "    .dataframe thead th {\n",
       "        text-align: right;\n",
       "    }\n",
       "</style>\n",
       "<table border=\"1\" class=\"dataframe\">\n",
       "  <thead>\n",
       "    <tr style=\"text-align: right;\">\n",
       "      <th></th>\n",
       "      <th>displ</th>\n",
       "      <th>year</th>\n",
       "      <th>cyl</th>\n",
       "    </tr>\n",
       "  </thead>\n",
       "  <tbody>\n",
       "    <tr>\n",
       "      <th>1</th>\n",
       "      <td>1.8</td>\n",
       "      <td>1999</td>\n",
       "      <td>4</td>\n",
       "    </tr>\n",
       "    <tr>\n",
       "      <th>2</th>\n",
       "      <td>1.8</td>\n",
       "      <td>1999</td>\n",
       "      <td>4</td>\n",
       "    </tr>\n",
       "    <tr>\n",
       "      <th>3</th>\n",
       "      <td>2.0</td>\n",
       "      <td>2008</td>\n",
       "      <td>4</td>\n",
       "    </tr>\n",
       "    <tr>\n",
       "      <th>4</th>\n",
       "      <td>2.0</td>\n",
       "      <td>2008</td>\n",
       "      <td>4</td>\n",
       "    </tr>\n",
       "    <tr>\n",
       "      <th>5</th>\n",
       "      <td>2.8</td>\n",
       "      <td>1999</td>\n",
       "      <td>6</td>\n",
       "    </tr>\n",
       "  </tbody>\n",
       "</table>\n",
       "</div>"
      ],
      "text/plain": [
       "   displ  year  cyl\n",
       "1    1.8  1999    4\n",
       "2    1.8  1999    4\n",
       "3    2.0  2008    4\n",
       "4    2.0  2008    4\n",
       "5    2.8  1999    6"
      ]
     },
     "execution_count": 1,
     "metadata": {},
     "output_type": "execute_result"
    }
   ],
   "source": [
    "import pydataset\n",
    "mpg = pydataset.data('mpg')\n",
    "\n",
    "df = mpg.iloc[:5, 2:5]\n",
    "df"
   ]
  },
  {
   "cell_type": "code",
   "execution_count": 2,
   "id": "0361ec8a-075e-4dd8-a4e0-60461c202b05",
   "metadata": {
    "collapsed": true,
    "jupyter": {
     "outputs_hidden": true
    },
    "tags": []
   },
   "outputs": [
    {
     "data": {
      "text/plain": [
       "array([[1.800e+00, 1.999e+03, 4.000e+00],\n",
       "       [1.800e+00, 1.999e+03, 4.000e+00],\n",
       "       [2.000e+00, 2.008e+03, 4.000e+00],\n",
       "       [2.000e+00, 2.008e+03, 4.000e+00],\n",
       "       [2.800e+00, 1.999e+03, 6.000e+00]])"
      ]
     },
     "execution_count": 2,
     "metadata": {},
     "output_type": "execute_result"
    }
   ],
   "source": [
    "#1. df를 array로 바꾸기\n",
    "df.values"
   ]
  },
  {
   "cell_type": "code",
   "execution_count": 3,
   "id": "a2be0469-7a77-4387-85a3-5cc4035a4c02",
   "metadata": {
    "collapsed": true,
    "jupyter": {
     "outputs_hidden": true
    },
    "tags": []
   },
   "outputs": [
    {
     "data": {
      "text/plain": [
       "{'displ': {1: 1.8, 2: 1.8, 3: 2.0, 4: 2.0, 5: 2.8},\n",
       " 'year': {1: 1999, 2: 1999, 3: 2008, 4: 2008, 5: 1999},\n",
       " 'cyl': {1: 4, 2: 4, 3: 4, 4: 4, 5: 6}}"
      ]
     },
     "execution_count": 3,
     "metadata": {},
     "output_type": "execute_result"
    }
   ],
   "source": [
    "#2. df를 딕셔너리로 바꾸기\n",
    "df.to_dict()"
   ]
  },
  {
   "cell_type": "code",
   "execution_count": 4,
   "id": "f6b75d49-0e7e-4d83-8372-01cf53023b82",
   "metadata": {
    "collapsed": true,
    "jupyter": {
     "outputs_hidden": true
    },
    "tags": []
   },
   "outputs": [
    {
     "data": {
      "text/plain": [
       "[[1.8, 1999.0, 4.0],\n",
       " [1.8, 1999.0, 4.0],\n",
       " [2.0, 2008.0, 4.0],\n",
       " [2.0, 2008.0, 4.0],\n",
       " [2.8, 1999.0, 6.0]]"
      ]
     },
     "execution_count": 4,
     "metadata": {},
     "output_type": "execute_result"
    }
   ],
   "source": [
    "#3. df를 리스트로 바꾸기\n",
    "df.values.tolist() #리스트로 바꾸려면 데이터프레임일때는 X"
   ]
  },
  {
   "cell_type": "markdown",
   "id": "0dd839ff-e71f-4025-ac7e-925239d460a2",
   "metadata": {},
   "source": [
    "## → 리스트를 가로 방향으로 한 줄 세우기"
   ]
  },
  {
   "cell_type": "code",
   "execution_count": 5,
   "id": "0ad8fefb-0019-48d2-800c-59efc5bd57d9",
   "metadata": {
    "collapsed": true,
    "jupyter": {
     "outputs_hidden": true
    },
    "tags": []
   },
   "outputs": [
    {
     "data": {
      "text/plain": [
       "[1.8,\n",
       " 1999.0,\n",
       " 4.0,\n",
       " 1.8,\n",
       " 1999.0,\n",
       " 4.0,\n",
       " 2.0,\n",
       " 2008.0,\n",
       " 4.0,\n",
       " 2.0,\n",
       " 2008.0,\n",
       " 4.0,\n",
       " 2.8,\n",
       " 1999.0,\n",
       " 6.0]"
      ]
     },
     "execution_count": 5,
     "metadata": {},
     "output_type": "execute_result"
    }
   ],
   "source": [
    "#df를 하나의 리스트로 만들기(가로로 줄 세우기)\n",
    "li = []\n",
    "for i in df.values.tolist():    #정석 방식\n",
    "    for j in i:\n",
    "        li.append(j)\n",
    "li"
   ]
  },
  {
   "cell_type": "code",
   "execution_count": 6,
   "id": "9c3ede71-d029-4534-a211-d231dc8aab4d",
   "metadata": {
    "collapsed": true,
    "jupyter": {
     "outputs_hidden": true
    },
    "tags": []
   },
   "outputs": [
    {
     "data": {
      "text/plain": [
       "[1.8,\n",
       " 1999.0,\n",
       " 4.0,\n",
       " 1.8,\n",
       " 1999.0,\n",
       " 4.0,\n",
       " 2.0,\n",
       " 2008.0,\n",
       " 4.0,\n",
       " 2.0,\n",
       " 2008.0,\n",
       " 4.0,\n",
       " 2.8,\n",
       " 1999.0,\n",
       " 6.0]"
      ]
     },
     "execution_count": 6,
     "metadata": {},
     "output_type": "execute_result"
    }
   ],
   "source": [
    "df.values.reshape(-1).tolist()   #같은방법"
   ]
  },
  {
   "cell_type": "code",
   "execution_count": 7,
   "id": "1a1e47b6-c3be-408d-97ed-a1454c74d574",
   "metadata": {
    "collapsed": true,
    "jupyter": {
     "outputs_hidden": true
    },
    "tags": []
   },
   "outputs": [
    {
     "data": {
      "text/plain": [
       "[1.8,\n",
       " 1999.0,\n",
       " 4.0,\n",
       " 1.8,\n",
       " 1999.0,\n",
       " 4.0,\n",
       " 2.0,\n",
       " 2008.0,\n",
       " 4.0,\n",
       " 2.0,\n",
       " 2008.0,\n",
       " 4.0,\n",
       " 2.8,\n",
       " 1999.0,\n",
       " 6.0]"
      ]
     },
     "execution_count": 7,
     "metadata": {},
     "output_type": "execute_result"
    }
   ],
   "source": [
    "df.values.flatten().tolist() #flatten() '평평하게 편다'"
   ]
  },
  {
   "cell_type": "markdown",
   "id": "82677674-6777-4d5c-9e07-267ac7ff279d",
   "metadata": {},
   "source": [
    "## → map 이용하여 딕셔너리 이름 할당하기"
   ]
  },
  {
   "cell_type": "code",
   "execution_count": 1,
   "id": "3faf51dd-9f7e-4cbc-b08e-92960a5a6407",
   "metadata": {
    "collapsed": true,
    "jupyter": {
     "outputs_hidden": true
    },
    "tags": []
   },
   "outputs": [
    {
     "data": {
      "text/html": [
       "<div>\n",
       "<style scoped>\n",
       "    .dataframe tbody tr th:only-of-type {\n",
       "        vertical-align: middle;\n",
       "    }\n",
       "\n",
       "    .dataframe tbody tr th {\n",
       "        vertical-align: top;\n",
       "    }\n",
       "\n",
       "    .dataframe thead th {\n",
       "        text-align: right;\n",
       "    }\n",
       "</style>\n",
       "<table border=\"1\" class=\"dataframe\">\n",
       "  <thead>\n",
       "    <tr style=\"text-align: right;\">\n",
       "      <th></th>\n",
       "      <th>sepal length (cm)</th>\n",
       "      <th>sepal width (cm)</th>\n",
       "      <th>petal length (cm)</th>\n",
       "      <th>petal width (cm)</th>\n",
       "      <th>label</th>\n",
       "    </tr>\n",
       "  </thead>\n",
       "  <tbody>\n",
       "    <tr>\n",
       "      <th>0</th>\n",
       "      <td>5.1</td>\n",
       "      <td>3.5</td>\n",
       "      <td>1.4</td>\n",
       "      <td>0.2</td>\n",
       "      <td>0</td>\n",
       "    </tr>\n",
       "    <tr>\n",
       "      <th>1</th>\n",
       "      <td>4.9</td>\n",
       "      <td>3.0</td>\n",
       "      <td>1.4</td>\n",
       "      <td>0.2</td>\n",
       "      <td>0</td>\n",
       "    </tr>\n",
       "    <tr>\n",
       "      <th>2</th>\n",
       "      <td>4.7</td>\n",
       "      <td>3.2</td>\n",
       "      <td>1.3</td>\n",
       "      <td>0.2</td>\n",
       "      <td>0</td>\n",
       "    </tr>\n",
       "    <tr>\n",
       "      <th>3</th>\n",
       "      <td>4.6</td>\n",
       "      <td>3.1</td>\n",
       "      <td>1.5</td>\n",
       "      <td>0.2</td>\n",
       "      <td>0</td>\n",
       "    </tr>\n",
       "    <tr>\n",
       "      <th>4</th>\n",
       "      <td>5.0</td>\n",
       "      <td>3.6</td>\n",
       "      <td>1.4</td>\n",
       "      <td>0.2</td>\n",
       "      <td>0</td>\n",
       "    </tr>\n",
       "    <tr>\n",
       "      <th>...</th>\n",
       "      <td>...</td>\n",
       "      <td>...</td>\n",
       "      <td>...</td>\n",
       "      <td>...</td>\n",
       "      <td>...</td>\n",
       "    </tr>\n",
       "    <tr>\n",
       "      <th>145</th>\n",
       "      <td>6.7</td>\n",
       "      <td>3.0</td>\n",
       "      <td>5.2</td>\n",
       "      <td>2.3</td>\n",
       "      <td>2</td>\n",
       "    </tr>\n",
       "    <tr>\n",
       "      <th>146</th>\n",
       "      <td>6.3</td>\n",
       "      <td>2.5</td>\n",
       "      <td>5.0</td>\n",
       "      <td>1.9</td>\n",
       "      <td>2</td>\n",
       "    </tr>\n",
       "    <tr>\n",
       "      <th>147</th>\n",
       "      <td>6.5</td>\n",
       "      <td>3.0</td>\n",
       "      <td>5.2</td>\n",
       "      <td>2.0</td>\n",
       "      <td>2</td>\n",
       "    </tr>\n",
       "    <tr>\n",
       "      <th>148</th>\n",
       "      <td>6.2</td>\n",
       "      <td>3.4</td>\n",
       "      <td>5.4</td>\n",
       "      <td>2.3</td>\n",
       "      <td>2</td>\n",
       "    </tr>\n",
       "    <tr>\n",
       "      <th>149</th>\n",
       "      <td>5.9</td>\n",
       "      <td>3.0</td>\n",
       "      <td>5.1</td>\n",
       "      <td>1.8</td>\n",
       "      <td>2</td>\n",
       "    </tr>\n",
       "  </tbody>\n",
       "</table>\n",
       "<p>150 rows × 5 columns</p>\n",
       "</div>"
      ],
      "text/plain": [
       "     sepal length (cm)  sepal width (cm)  petal length (cm)  petal width (cm)  \\\n",
       "0                  5.1               3.5                1.4               0.2   \n",
       "1                  4.9               3.0                1.4               0.2   \n",
       "2                  4.7               3.2                1.3               0.2   \n",
       "3                  4.6               3.1                1.5               0.2   \n",
       "4                  5.0               3.6                1.4               0.2   \n",
       "..                 ...               ...                ...               ...   \n",
       "145                6.7               3.0                5.2               2.3   \n",
       "146                6.3               2.5                5.0               1.9   \n",
       "147                6.5               3.0                5.2               2.0   \n",
       "148                6.2               3.4                5.4               2.3   \n",
       "149                5.9               3.0                5.1               1.8   \n",
       "\n",
       "     label  \n",
       "0        0  \n",
       "1        0  \n",
       "2        0  \n",
       "3        0  \n",
       "4        0  \n",
       "..     ...  \n",
       "145      2  \n",
       "146      2  \n",
       "147      2  \n",
       "148      2  \n",
       "149      2  \n",
       "\n",
       "[150 rows x 5 columns]"
      ]
     },
     "execution_count": 1,
     "metadata": {},
     "output_type": "execute_result"
    }
   ],
   "source": [
    "import pandas as pd\n",
    "from sklearn.datasets import load_iris\n",
    "iris = load_iris()\n",
    "\n",
    "iris_data = iris['data']\n",
    "iris_label = iris['target']\n",
    "\n",
    "#데이터 프레임으로 변환하기\n",
    "iris_df = pd.DataFrame(data = iris_data, columns=iris['feature_names'])\n",
    "\n",
    "#새로운 칼럼 만들기.(label)\n",
    "iris_df['label'] = iris['target']\n",
    "\n",
    "iris_df"
   ]
  },
  {
   "cell_type": "code",
   "execution_count": 2,
   "id": "b2b17097-c4e9-4e22-a2a6-2cc2f77efced",
   "metadata": {
    "collapsed": true,
    "jupyter": {
     "outputs_hidden": true
    },
    "tags": []
   },
   "outputs": [
    {
     "data": {
      "text/html": [
       "<div>\n",
       "<style scoped>\n",
       "    .dataframe tbody tr th:only-of-type {\n",
       "        vertical-align: middle;\n",
       "    }\n",
       "\n",
       "    .dataframe tbody tr th {\n",
       "        vertical-align: top;\n",
       "    }\n",
       "\n",
       "    .dataframe thead th {\n",
       "        text-align: right;\n",
       "    }\n",
       "</style>\n",
       "<table border=\"1\" class=\"dataframe\">\n",
       "  <thead>\n",
       "    <tr style=\"text-align: right;\">\n",
       "      <th></th>\n",
       "      <th>sepal length (cm)</th>\n",
       "      <th>sepal width (cm)</th>\n",
       "      <th>petal length (cm)</th>\n",
       "      <th>petal width (cm)</th>\n",
       "      <th>label</th>\n",
       "    </tr>\n",
       "  </thead>\n",
       "  <tbody>\n",
       "    <tr>\n",
       "      <th>0</th>\n",
       "      <td>5.1</td>\n",
       "      <td>3.5</td>\n",
       "      <td>1.4</td>\n",
       "      <td>0.2</td>\n",
       "      <td>setosa</td>\n",
       "    </tr>\n",
       "    <tr>\n",
       "      <th>1</th>\n",
       "      <td>4.9</td>\n",
       "      <td>3.0</td>\n",
       "      <td>1.4</td>\n",
       "      <td>0.2</td>\n",
       "      <td>setosa</td>\n",
       "    </tr>\n",
       "    <tr>\n",
       "      <th>2</th>\n",
       "      <td>4.7</td>\n",
       "      <td>3.2</td>\n",
       "      <td>1.3</td>\n",
       "      <td>0.2</td>\n",
       "      <td>setosa</td>\n",
       "    </tr>\n",
       "    <tr>\n",
       "      <th>3</th>\n",
       "      <td>4.6</td>\n",
       "      <td>3.1</td>\n",
       "      <td>1.5</td>\n",
       "      <td>0.2</td>\n",
       "      <td>setosa</td>\n",
       "    </tr>\n",
       "    <tr>\n",
       "      <th>4</th>\n",
       "      <td>5.0</td>\n",
       "      <td>3.6</td>\n",
       "      <td>1.4</td>\n",
       "      <td>0.2</td>\n",
       "      <td>setosa</td>\n",
       "    </tr>\n",
       "    <tr>\n",
       "      <th>...</th>\n",
       "      <td>...</td>\n",
       "      <td>...</td>\n",
       "      <td>...</td>\n",
       "      <td>...</td>\n",
       "      <td>...</td>\n",
       "    </tr>\n",
       "    <tr>\n",
       "      <th>145</th>\n",
       "      <td>6.7</td>\n",
       "      <td>3.0</td>\n",
       "      <td>5.2</td>\n",
       "      <td>2.3</td>\n",
       "      <td>virginica</td>\n",
       "    </tr>\n",
       "    <tr>\n",
       "      <th>146</th>\n",
       "      <td>6.3</td>\n",
       "      <td>2.5</td>\n",
       "      <td>5.0</td>\n",
       "      <td>1.9</td>\n",
       "      <td>virginica</td>\n",
       "    </tr>\n",
       "    <tr>\n",
       "      <th>147</th>\n",
       "      <td>6.5</td>\n",
       "      <td>3.0</td>\n",
       "      <td>5.2</td>\n",
       "      <td>2.0</td>\n",
       "      <td>virginica</td>\n",
       "    </tr>\n",
       "    <tr>\n",
       "      <th>148</th>\n",
       "      <td>6.2</td>\n",
       "      <td>3.4</td>\n",
       "      <td>5.4</td>\n",
       "      <td>2.3</td>\n",
       "      <td>virginica</td>\n",
       "    </tr>\n",
       "    <tr>\n",
       "      <th>149</th>\n",
       "      <td>5.9</td>\n",
       "      <td>3.0</td>\n",
       "      <td>5.1</td>\n",
       "      <td>1.8</td>\n",
       "      <td>virginica</td>\n",
       "    </tr>\n",
       "  </tbody>\n",
       "</table>\n",
       "<p>150 rows × 5 columns</p>\n",
       "</div>"
      ],
      "text/plain": [
       "     sepal length (cm)  sepal width (cm)  petal length (cm)  petal width (cm)  \\\n",
       "0                  5.1               3.5                1.4               0.2   \n",
       "1                  4.9               3.0                1.4               0.2   \n",
       "2                  4.7               3.2                1.3               0.2   \n",
       "3                  4.6               3.1                1.5               0.2   \n",
       "4                  5.0               3.6                1.4               0.2   \n",
       "..                 ...               ...                ...               ...   \n",
       "145                6.7               3.0                5.2               2.3   \n",
       "146                6.3               2.5                5.0               1.9   \n",
       "147                6.5               3.0                5.2               2.0   \n",
       "148                6.2               3.4                5.4               2.3   \n",
       "149                5.9               3.0                5.1               1.8   \n",
       "\n",
       "         label  \n",
       "0       setosa  \n",
       "1       setosa  \n",
       "2       setosa  \n",
       "3       setosa  \n",
       "4       setosa  \n",
       "..         ...  \n",
       "145  virginica  \n",
       "146  virginica  \n",
       "147  virginica  \n",
       "148  virginica  \n",
       "149  virginica  \n",
       "\n",
       "[150 rows x 5 columns]"
      ]
     },
     "execution_count": 2,
     "metadata": {},
     "output_type": "execute_result"
    }
   ],
   "source": [
    "#map을 사용하여 딕셔너리로 이름 할당하기.\n",
    "iris_df['label'] = iris_df['label'].map({0:'setosa', 1:'versicolior', 2:'virginica'})\n",
    "iris_df\n",
    "# iris_df['label'].map(label_mapping)도 같은 방식"
   ]
  },
  {
   "cell_type": "markdown",
   "id": "f431c1dc-df08-4c4e-9b5e-03e0d011e247",
   "metadata": {},
   "source": [
    "## → array상태로 빈도수 세기"
   ]
  },
  {
   "cell_type": "code",
   "execution_count": 4,
   "id": "7e92c4f7-4c04-4997-812d-522e4818153e",
   "metadata": {},
   "outputs": [
    {
     "data": {
      "text/plain": [
       "array([0, 0, 0, 0, 0, 0, 0, 0, 0, 0, 0, 0, 0, 0, 0, 0, 0, 0, 0, 0, 0, 0,\n",
       "       0, 0, 0, 0, 0, 0, 0, 0, 0, 0, 0, 0, 0, 0, 0, 0, 0, 0, 0, 0, 0, 0,\n",
       "       0, 0, 0, 0, 0, 0, 0, 0, 0, 0, 0, 0, 0, 0, 0, 1, 1, 1, 1, 1, 1, 1,\n",
       "       1, 1, 1, 1, 1, 1, 1, 1, 1, 1, 1, 1, 1, 1, 1, 1, 1, 1, 1, 1, 1, 1,\n",
       "       1, 1, 1, 1, 1, 1, 1, 1, 1, 1, 1, 1, 1, 1, 1, 1, 1, 1, 1, 1, 1, 1,\n",
       "       1, 1, 1, 1, 1, 1, 1, 1, 1, 1, 1, 1, 1, 1, 1, 1, 1, 1, 1, 1, 2, 2,\n",
       "       2, 2, 2, 2, 2, 2, 2, 2, 2, 2, 2, 2, 2, 2, 2, 2, 2, 2, 2, 2, 2, 2,\n",
       "       2, 2, 2, 2, 2, 2, 2, 2, 2, 2, 2, 2, 2, 2, 2, 2, 2, 2, 2, 2, 2, 2,\n",
       "       2, 2])"
      ]
     },
     "execution_count": 4,
     "metadata": {},
     "output_type": "execute_result"
    }
   ],
   "source": [
    "from sklearn.datasets import load_wine \n",
    "\n",
    "wine = load_wine()\n",
    "\n",
    "features = X = wine['data']\n",
    "labels = y = wine['target']\n",
    "\n",
    "from sklearn.tree import DecisionTreeClassifier\n",
    "dt_clf = DecisionTreeClassifier()\n",
    "\n",
    "from sklearn.model_selection import cross_val_score\n",
    "cross_val_score(dt_clf, features, labels, cv=4, scoring='accuracy')\n",
    "\n",
    "labels  #위에는 labels 데이터를 만들기 위함임. 상관X"
   ]
  },
  {
   "cell_type": "code",
   "execution_count": 5,
   "id": "3c7732b1-ef75-4f10-972c-58a0ad11ace8",
   "metadata": {},
   "outputs": [
    {
     "data": {
      "text/plain": [
       "Counter({0: 59, 1: 71, 2: 48})"
      ]
     },
     "execution_count": 5,
     "metadata": {},
     "output_type": "execute_result"
    }
   ],
   "source": [
    "#가공 없이 바로 빈도수 세주기.(이 단어가 몇 번 나왔지?)\n",
    "import collections, numpy\n",
    "\n",
    "collections.Counter(labels)"
   ]
  },
  {
   "cell_type": "code",
   "execution_count": 6,
   "id": "f44a6cdc-4609-490e-9e96-f0baa938c221",
   "metadata": {},
   "outputs": [
    {
     "data": {
      "text/plain": [
       "1    71\n",
       "0    59\n",
       "2    48\n",
       "dtype: int64"
      ]
     },
     "execution_count": 6,
     "metadata": {},
     "output_type": "execute_result"
    }
   ],
   "source": [
    "#한번 가공해서 빈도수 세기\n",
    "pd.Series(labels).value_counts()"
   ]
  },
  {
   "cell_type": "markdown",
   "id": "c1a31636-3798-4df3-aa49-d06282834235",
   "metadata": {},
   "source": [
    "# < 사이킷런 >"
   ]
  },
  {
   "cell_type": "code",
   "execution_count": 8,
   "id": "c0a94190-7284-42ac-aace-fa8e271bf427",
   "metadata": {},
   "outputs": [],
   "source": [
    "import sklearn"
   ]
  },
  {
   "cell_type": "markdown",
   "id": "1d5084e1-a0ea-4a8f-90d7-835d8370707b",
   "metadata": {},
   "source": [
    "## □ 붓꽃 품종 예측하기 "
   ]
  },
  {
   "cell_type": "markdown",
   "id": "3224408c-e8db-4d89-86e6-178dd6b76a53",
   "metadata": {},
   "source": [
    "### 1. 데이터 세트 분리 : train_test_split( )\n",
    ": 데이터를 학습 데이터와 테스트 데이터로 분리합니다."
   ]
  },
  {
   "cell_type": "code",
   "execution_count": 35,
   "id": "d11bfcff-6089-40c2-92c4-720564a8af87",
   "metadata": {
    "collapsed": true,
    "jupyter": {
     "outputs_hidden": true
    },
    "tags": []
   },
   "outputs": [
    {
     "data": {
      "text/plain": [
       "{'data': array([[5.1, 3.5, 1.4, 0.2],\n",
       "        [4.9, 3. , 1.4, 0.2],\n",
       "        [4.7, 3.2, 1.3, 0.2],\n",
       "        [4.6, 3.1, 1.5, 0.2],\n",
       "        [5. , 3.6, 1.4, 0.2],\n",
       "        [5.4, 3.9, 1.7, 0.4],\n",
       "        [4.6, 3.4, 1.4, 0.3],\n",
       "        [5. , 3.4, 1.5, 0.2],\n",
       "        [4.4, 2.9, 1.4, 0.2],\n",
       "        [4.9, 3.1, 1.5, 0.1],\n",
       "        [5.4, 3.7, 1.5, 0.2],\n",
       "        [4.8, 3.4, 1.6, 0.2],\n",
       "        [4.8, 3. , 1.4, 0.1],\n",
       "        [4.3, 3. , 1.1, 0.1],\n",
       "        [5.8, 4. , 1.2, 0.2],\n",
       "        [5.7, 4.4, 1.5, 0.4],\n",
       "        [5.4, 3.9, 1.3, 0.4],\n",
       "        [5.1, 3.5, 1.4, 0.3],\n",
       "        [5.7, 3.8, 1.7, 0.3],\n",
       "        [5.1, 3.8, 1.5, 0.3],\n",
       "        [5.4, 3.4, 1.7, 0.2],\n",
       "        [5.1, 3.7, 1.5, 0.4],\n",
       "        [4.6, 3.6, 1. , 0.2],\n",
       "        [5.1, 3.3, 1.7, 0.5],\n",
       "        [4.8, 3.4, 1.9, 0.2],\n",
       "        [5. , 3. , 1.6, 0.2],\n",
       "        [5. , 3.4, 1.6, 0.4],\n",
       "        [5.2, 3.5, 1.5, 0.2],\n",
       "        [5.2, 3.4, 1.4, 0.2],\n",
       "        [4.7, 3.2, 1.6, 0.2],\n",
       "        [4.8, 3.1, 1.6, 0.2],\n",
       "        [5.4, 3.4, 1.5, 0.4],\n",
       "        [5.2, 4.1, 1.5, 0.1],\n",
       "        [5.5, 4.2, 1.4, 0.2],\n",
       "        [4.9, 3.1, 1.5, 0.2],\n",
       "        [5. , 3.2, 1.2, 0.2],\n",
       "        [5.5, 3.5, 1.3, 0.2],\n",
       "        [4.9, 3.6, 1.4, 0.1],\n",
       "        [4.4, 3. , 1.3, 0.2],\n",
       "        [5.1, 3.4, 1.5, 0.2],\n",
       "        [5. , 3.5, 1.3, 0.3],\n",
       "        [4.5, 2.3, 1.3, 0.3],\n",
       "        [4.4, 3.2, 1.3, 0.2],\n",
       "        [5. , 3.5, 1.6, 0.6],\n",
       "        [5.1, 3.8, 1.9, 0.4],\n",
       "        [4.8, 3. , 1.4, 0.3],\n",
       "        [5.1, 3.8, 1.6, 0.2],\n",
       "        [4.6, 3.2, 1.4, 0.2],\n",
       "        [5.3, 3.7, 1.5, 0.2],\n",
       "        [5. , 3.3, 1.4, 0.2],\n",
       "        [7. , 3.2, 4.7, 1.4],\n",
       "        [6.4, 3.2, 4.5, 1.5],\n",
       "        [6.9, 3.1, 4.9, 1.5],\n",
       "        [5.5, 2.3, 4. , 1.3],\n",
       "        [6.5, 2.8, 4.6, 1.5],\n",
       "        [5.7, 2.8, 4.5, 1.3],\n",
       "        [6.3, 3.3, 4.7, 1.6],\n",
       "        [4.9, 2.4, 3.3, 1. ],\n",
       "        [6.6, 2.9, 4.6, 1.3],\n",
       "        [5.2, 2.7, 3.9, 1.4],\n",
       "        [5. , 2. , 3.5, 1. ],\n",
       "        [5.9, 3. , 4.2, 1.5],\n",
       "        [6. , 2.2, 4. , 1. ],\n",
       "        [6.1, 2.9, 4.7, 1.4],\n",
       "        [5.6, 2.9, 3.6, 1.3],\n",
       "        [6.7, 3.1, 4.4, 1.4],\n",
       "        [5.6, 3. , 4.5, 1.5],\n",
       "        [5.8, 2.7, 4.1, 1. ],\n",
       "        [6.2, 2.2, 4.5, 1.5],\n",
       "        [5.6, 2.5, 3.9, 1.1],\n",
       "        [5.9, 3.2, 4.8, 1.8],\n",
       "        [6.1, 2.8, 4. , 1.3],\n",
       "        [6.3, 2.5, 4.9, 1.5],\n",
       "        [6.1, 2.8, 4.7, 1.2],\n",
       "        [6.4, 2.9, 4.3, 1.3],\n",
       "        [6.6, 3. , 4.4, 1.4],\n",
       "        [6.8, 2.8, 4.8, 1.4],\n",
       "        [6.7, 3. , 5. , 1.7],\n",
       "        [6. , 2.9, 4.5, 1.5],\n",
       "        [5.7, 2.6, 3.5, 1. ],\n",
       "        [5.5, 2.4, 3.8, 1.1],\n",
       "        [5.5, 2.4, 3.7, 1. ],\n",
       "        [5.8, 2.7, 3.9, 1.2],\n",
       "        [6. , 2.7, 5.1, 1.6],\n",
       "        [5.4, 3. , 4.5, 1.5],\n",
       "        [6. , 3.4, 4.5, 1.6],\n",
       "        [6.7, 3.1, 4.7, 1.5],\n",
       "        [6.3, 2.3, 4.4, 1.3],\n",
       "        [5.6, 3. , 4.1, 1.3],\n",
       "        [5.5, 2.5, 4. , 1.3],\n",
       "        [5.5, 2.6, 4.4, 1.2],\n",
       "        [6.1, 3. , 4.6, 1.4],\n",
       "        [5.8, 2.6, 4. , 1.2],\n",
       "        [5. , 2.3, 3.3, 1. ],\n",
       "        [5.6, 2.7, 4.2, 1.3],\n",
       "        [5.7, 3. , 4.2, 1.2],\n",
       "        [5.7, 2.9, 4.2, 1.3],\n",
       "        [6.2, 2.9, 4.3, 1.3],\n",
       "        [5.1, 2.5, 3. , 1.1],\n",
       "        [5.7, 2.8, 4.1, 1.3],\n",
       "        [6.3, 3.3, 6. , 2.5],\n",
       "        [5.8, 2.7, 5.1, 1.9],\n",
       "        [7.1, 3. , 5.9, 2.1],\n",
       "        [6.3, 2.9, 5.6, 1.8],\n",
       "        [6.5, 3. , 5.8, 2.2],\n",
       "        [7.6, 3. , 6.6, 2.1],\n",
       "        [4.9, 2.5, 4.5, 1.7],\n",
       "        [7.3, 2.9, 6.3, 1.8],\n",
       "        [6.7, 2.5, 5.8, 1.8],\n",
       "        [7.2, 3.6, 6.1, 2.5],\n",
       "        [6.5, 3.2, 5.1, 2. ],\n",
       "        [6.4, 2.7, 5.3, 1.9],\n",
       "        [6.8, 3. , 5.5, 2.1],\n",
       "        [5.7, 2.5, 5. , 2. ],\n",
       "        [5.8, 2.8, 5.1, 2.4],\n",
       "        [6.4, 3.2, 5.3, 2.3],\n",
       "        [6.5, 3. , 5.5, 1.8],\n",
       "        [7.7, 3.8, 6.7, 2.2],\n",
       "        [7.7, 2.6, 6.9, 2.3],\n",
       "        [6. , 2.2, 5. , 1.5],\n",
       "        [6.9, 3.2, 5.7, 2.3],\n",
       "        [5.6, 2.8, 4.9, 2. ],\n",
       "        [7.7, 2.8, 6.7, 2. ],\n",
       "        [6.3, 2.7, 4.9, 1.8],\n",
       "        [6.7, 3.3, 5.7, 2.1],\n",
       "        [7.2, 3.2, 6. , 1.8],\n",
       "        [6.2, 2.8, 4.8, 1.8],\n",
       "        [6.1, 3. , 4.9, 1.8],\n",
       "        [6.4, 2.8, 5.6, 2.1],\n",
       "        [7.2, 3. , 5.8, 1.6],\n",
       "        [7.4, 2.8, 6.1, 1.9],\n",
       "        [7.9, 3.8, 6.4, 2. ],\n",
       "        [6.4, 2.8, 5.6, 2.2],\n",
       "        [6.3, 2.8, 5.1, 1.5],\n",
       "        [6.1, 2.6, 5.6, 1.4],\n",
       "        [7.7, 3. , 6.1, 2.3],\n",
       "        [6.3, 3.4, 5.6, 2.4],\n",
       "        [6.4, 3.1, 5.5, 1.8],\n",
       "        [6. , 3. , 4.8, 1.8],\n",
       "        [6.9, 3.1, 5.4, 2.1],\n",
       "        [6.7, 3.1, 5.6, 2.4],\n",
       "        [6.9, 3.1, 5.1, 2.3],\n",
       "        [5.8, 2.7, 5.1, 1.9],\n",
       "        [6.8, 3.2, 5.9, 2.3],\n",
       "        [6.7, 3.3, 5.7, 2.5],\n",
       "        [6.7, 3. , 5.2, 2.3],\n",
       "        [6.3, 2.5, 5. , 1.9],\n",
       "        [6.5, 3. , 5.2, 2. ],\n",
       "        [6.2, 3.4, 5.4, 2.3],\n",
       "        [5.9, 3. , 5.1, 1.8]]),\n",
       " 'target': array([0, 0, 0, 0, 0, 0, 0, 0, 0, 0, 0, 0, 0, 0, 0, 0, 0, 0, 0, 0, 0, 0,\n",
       "        0, 0, 0, 0, 0, 0, 0, 0, 0, 0, 0, 0, 0, 0, 0, 0, 0, 0, 0, 0, 0, 0,\n",
       "        0, 0, 0, 0, 0, 0, 1, 1, 1, 1, 1, 1, 1, 1, 1, 1, 1, 1, 1, 1, 1, 1,\n",
       "        1, 1, 1, 1, 1, 1, 1, 1, 1, 1, 1, 1, 1, 1, 1, 1, 1, 1, 1, 1, 1, 1,\n",
       "        1, 1, 1, 1, 1, 1, 1, 1, 1, 1, 1, 1, 2, 2, 2, 2, 2, 2, 2, 2, 2, 2,\n",
       "        2, 2, 2, 2, 2, 2, 2, 2, 2, 2, 2, 2, 2, 2, 2, 2, 2, 2, 2, 2, 2, 2,\n",
       "        2, 2, 2, 2, 2, 2, 2, 2, 2, 2, 2, 2, 2, 2, 2, 2, 2, 2]),\n",
       " 'frame': None,\n",
       " 'target_names': array(['setosa', 'versicolor', 'virginica'], dtype='<U10'),\n",
       " 'DESCR': '.. _iris_dataset:\\n\\nIris plants dataset\\n--------------------\\n\\n**Data Set Characteristics:**\\n\\n    :Number of Instances: 150 (50 in each of three classes)\\n    :Number of Attributes: 4 numeric, predictive attributes and the class\\n    :Attribute Information:\\n        - sepal length in cm\\n        - sepal width in cm\\n        - petal length in cm\\n        - petal width in cm\\n        - class:\\n                - Iris-Setosa\\n                - Iris-Versicolour\\n                - Iris-Virginica\\n                \\n    :Summary Statistics:\\n\\n    ============== ==== ==== ======= ===== ====================\\n                    Min  Max   Mean    SD   Class Correlation\\n    ============== ==== ==== ======= ===== ====================\\n    sepal length:   4.3  7.9   5.84   0.83    0.7826\\n    sepal width:    2.0  4.4   3.05   0.43   -0.4194\\n    petal length:   1.0  6.9   3.76   1.76    0.9490  (high!)\\n    petal width:    0.1  2.5   1.20   0.76    0.9565  (high!)\\n    ============== ==== ==== ======= ===== ====================\\n\\n    :Missing Attribute Values: None\\n    :Class Distribution: 33.3% for each of 3 classes.\\n    :Creator: R.A. Fisher\\n    :Donor: Michael Marshall (MARSHALL%PLU@io.arc.nasa.gov)\\n    :Date: July, 1988\\n\\nThe famous Iris database, first used by Sir R.A. Fisher. The dataset is taken\\nfrom Fisher\\'s paper. Note that it\\'s the same as in R, but not as in the UCI\\nMachine Learning Repository, which has two wrong data points.\\n\\nThis is perhaps the best known database to be found in the\\npattern recognition literature.  Fisher\\'s paper is a classic in the field and\\nis referenced frequently to this day.  (See Duda & Hart, for example.)  The\\ndata set contains 3 classes of 50 instances each, where each class refers to a\\ntype of iris plant.  One class is linearly separable from the other 2; the\\nlatter are NOT linearly separable from each other.\\n\\n.. topic:: References\\n\\n   - Fisher, R.A. \"The use of multiple measurements in taxonomic problems\"\\n     Annual Eugenics, 7, Part II, 179-188 (1936); also in \"Contributions to\\n     Mathematical Statistics\" (John Wiley, NY, 1950).\\n   - Duda, R.O., & Hart, P.E. (1973) Pattern Classification and Scene Analysis.\\n     (Q327.D83) John Wiley & Sons.  ISBN 0-471-22361-1.  See page 218.\\n   - Dasarathy, B.V. (1980) \"Nosing Around the Neighborhood: A New System\\n     Structure and Classification Rule for Recognition in Partially Exposed\\n     Environments\".  IEEE Transactions on Pattern Analysis and Machine\\n     Intelligence, Vol. PAMI-2, No. 1, 67-71.\\n   - Gates, G.W. (1972) \"The Reduced Nearest Neighbor Rule\".  IEEE Transactions\\n     on Information Theory, May 1972, 431-433.\\n   - See also: 1988 MLC Proceedings, 54-64.  Cheeseman et al\"s AUTOCLASS II\\n     conceptual clustering system finds 3 classes in the data.\\n   - Many, many more ...',\n",
       " 'feature_names': ['sepal length (cm)',\n",
       "  'sepal width (cm)',\n",
       "  'petal length (cm)',\n",
       "  'petal width (cm)'],\n",
       " 'filename': 'iris.csv',\n",
       " 'data_module': 'sklearn.datasets.data'}"
      ]
     },
     "execution_count": 35,
     "metadata": {},
     "output_type": "execute_result"
    }
   ],
   "source": [
    "from sklearn.datasets import load_iris\n",
    "from sklearn.tree import DecisionTreeClassifier\n",
    "from sklearn.model_selection import train_test_split  #분리\n",
    "\n",
    "iris = load_iris()\n",
    "iris"
   ]
  },
  {
   "cell_type": "code",
   "execution_count": 13,
   "id": "782f9deb-12f8-47de-9b22-38ec0d8b360b",
   "metadata": {},
   "outputs": [
    {
     "data": {
      "text/plain": [
       "sklearn.utils.Bunch"
      ]
     },
     "execution_count": 13,
     "metadata": {},
     "output_type": "execute_result"
    }
   ],
   "source": [
    "type(iris) \n",
    "#Bunch라고 출력되지만 사실은 딕셔너리와 같은것"
   ]
  },
  {
   "cell_type": "code",
   "execution_count": null,
   "id": "47511ba2-8fa1-4f5b-889b-e299de967732",
   "metadata": {},
   "outputs": [],
   "source": [
    "iris.keys()\n",
    "iris.values()\n",
    "iris.items() #key와 values를 동시에 보여준다."
   ]
  },
  {
   "cell_type": "code",
   "execution_count": 15,
   "id": "972ff1e1-2028-4dbf-93c8-4777d9513d86",
   "metadata": {
    "collapsed": true,
    "jupyter": {
     "outputs_hidden": true
    },
    "tags": []
   },
   "outputs": [
    {
     "data": {
      "text/plain": [
       "array([[5.1, 3.5, 1.4, 0.2],\n",
       "       [4.9, 3. , 1.4, 0.2],\n",
       "       [4.7, 3.2, 1.3, 0.2],\n",
       "       [4.6, 3.1, 1.5, 0.2],\n",
       "       [5. , 3.6, 1.4, 0.2],\n",
       "       [5.4, 3.9, 1.7, 0.4],\n",
       "       [4.6, 3.4, 1.4, 0.3],\n",
       "       [5. , 3.4, 1.5, 0.2],\n",
       "       [4.4, 2.9, 1.4, 0.2],\n",
       "       [4.9, 3.1, 1.5, 0.1],\n",
       "       [5.4, 3.7, 1.5, 0.2],\n",
       "       [4.8, 3.4, 1.6, 0.2],\n",
       "       [4.8, 3. , 1.4, 0.1],\n",
       "       [4.3, 3. , 1.1, 0.1],\n",
       "       [5.8, 4. , 1.2, 0.2],\n",
       "       [5.7, 4.4, 1.5, 0.4],\n",
       "       [5.4, 3.9, 1.3, 0.4],\n",
       "       [5.1, 3.5, 1.4, 0.3],\n",
       "       [5.7, 3.8, 1.7, 0.3],\n",
       "       [5.1, 3.8, 1.5, 0.3],\n",
       "       [5.4, 3.4, 1.7, 0.2],\n",
       "       [5.1, 3.7, 1.5, 0.4],\n",
       "       [4.6, 3.6, 1. , 0.2],\n",
       "       [5.1, 3.3, 1.7, 0.5],\n",
       "       [4.8, 3.4, 1.9, 0.2],\n",
       "       [5. , 3. , 1.6, 0.2],\n",
       "       [5. , 3.4, 1.6, 0.4],\n",
       "       [5.2, 3.5, 1.5, 0.2],\n",
       "       [5.2, 3.4, 1.4, 0.2],\n",
       "       [4.7, 3.2, 1.6, 0.2],\n",
       "       [4.8, 3.1, 1.6, 0.2],\n",
       "       [5.4, 3.4, 1.5, 0.4],\n",
       "       [5.2, 4.1, 1.5, 0.1],\n",
       "       [5.5, 4.2, 1.4, 0.2],\n",
       "       [4.9, 3.1, 1.5, 0.2],\n",
       "       [5. , 3.2, 1.2, 0.2],\n",
       "       [5.5, 3.5, 1.3, 0.2],\n",
       "       [4.9, 3.6, 1.4, 0.1],\n",
       "       [4.4, 3. , 1.3, 0.2],\n",
       "       [5.1, 3.4, 1.5, 0.2],\n",
       "       [5. , 3.5, 1.3, 0.3],\n",
       "       [4.5, 2.3, 1.3, 0.3],\n",
       "       [4.4, 3.2, 1.3, 0.2],\n",
       "       [5. , 3.5, 1.6, 0.6],\n",
       "       [5.1, 3.8, 1.9, 0.4],\n",
       "       [4.8, 3. , 1.4, 0.3],\n",
       "       [5.1, 3.8, 1.6, 0.2],\n",
       "       [4.6, 3.2, 1.4, 0.2],\n",
       "       [5.3, 3.7, 1.5, 0.2],\n",
       "       [5. , 3.3, 1.4, 0.2],\n",
       "       [7. , 3.2, 4.7, 1.4],\n",
       "       [6.4, 3.2, 4.5, 1.5],\n",
       "       [6.9, 3.1, 4.9, 1.5],\n",
       "       [5.5, 2.3, 4. , 1.3],\n",
       "       [6.5, 2.8, 4.6, 1.5],\n",
       "       [5.7, 2.8, 4.5, 1.3],\n",
       "       [6.3, 3.3, 4.7, 1.6],\n",
       "       [4.9, 2.4, 3.3, 1. ],\n",
       "       [6.6, 2.9, 4.6, 1.3],\n",
       "       [5.2, 2.7, 3.9, 1.4],\n",
       "       [5. , 2. , 3.5, 1. ],\n",
       "       [5.9, 3. , 4.2, 1.5],\n",
       "       [6. , 2.2, 4. , 1. ],\n",
       "       [6.1, 2.9, 4.7, 1.4],\n",
       "       [5.6, 2.9, 3.6, 1.3],\n",
       "       [6.7, 3.1, 4.4, 1.4],\n",
       "       [5.6, 3. , 4.5, 1.5],\n",
       "       [5.8, 2.7, 4.1, 1. ],\n",
       "       [6.2, 2.2, 4.5, 1.5],\n",
       "       [5.6, 2.5, 3.9, 1.1],\n",
       "       [5.9, 3.2, 4.8, 1.8],\n",
       "       [6.1, 2.8, 4. , 1.3],\n",
       "       [6.3, 2.5, 4.9, 1.5],\n",
       "       [6.1, 2.8, 4.7, 1.2],\n",
       "       [6.4, 2.9, 4.3, 1.3],\n",
       "       [6.6, 3. , 4.4, 1.4],\n",
       "       [6.8, 2.8, 4.8, 1.4],\n",
       "       [6.7, 3. , 5. , 1.7],\n",
       "       [6. , 2.9, 4.5, 1.5],\n",
       "       [5.7, 2.6, 3.5, 1. ],\n",
       "       [5.5, 2.4, 3.8, 1.1],\n",
       "       [5.5, 2.4, 3.7, 1. ],\n",
       "       [5.8, 2.7, 3.9, 1.2],\n",
       "       [6. , 2.7, 5.1, 1.6],\n",
       "       [5.4, 3. , 4.5, 1.5],\n",
       "       [6. , 3.4, 4.5, 1.6],\n",
       "       [6.7, 3.1, 4.7, 1.5],\n",
       "       [6.3, 2.3, 4.4, 1.3],\n",
       "       [5.6, 3. , 4.1, 1.3],\n",
       "       [5.5, 2.5, 4. , 1.3],\n",
       "       [5.5, 2.6, 4.4, 1.2],\n",
       "       [6.1, 3. , 4.6, 1.4],\n",
       "       [5.8, 2.6, 4. , 1.2],\n",
       "       [5. , 2.3, 3.3, 1. ],\n",
       "       [5.6, 2.7, 4.2, 1.3],\n",
       "       [5.7, 3. , 4.2, 1.2],\n",
       "       [5.7, 2.9, 4.2, 1.3],\n",
       "       [6.2, 2.9, 4.3, 1.3],\n",
       "       [5.1, 2.5, 3. , 1.1],\n",
       "       [5.7, 2.8, 4.1, 1.3],\n",
       "       [6.3, 3.3, 6. , 2.5],\n",
       "       [5.8, 2.7, 5.1, 1.9],\n",
       "       [7.1, 3. , 5.9, 2.1],\n",
       "       [6.3, 2.9, 5.6, 1.8],\n",
       "       [6.5, 3. , 5.8, 2.2],\n",
       "       [7.6, 3. , 6.6, 2.1],\n",
       "       [4.9, 2.5, 4.5, 1.7],\n",
       "       [7.3, 2.9, 6.3, 1.8],\n",
       "       [6.7, 2.5, 5.8, 1.8],\n",
       "       [7.2, 3.6, 6.1, 2.5],\n",
       "       [6.5, 3.2, 5.1, 2. ],\n",
       "       [6.4, 2.7, 5.3, 1.9],\n",
       "       [6.8, 3. , 5.5, 2.1],\n",
       "       [5.7, 2.5, 5. , 2. ],\n",
       "       [5.8, 2.8, 5.1, 2.4],\n",
       "       [6.4, 3.2, 5.3, 2.3],\n",
       "       [6.5, 3. , 5.5, 1.8],\n",
       "       [7.7, 3.8, 6.7, 2.2],\n",
       "       [7.7, 2.6, 6.9, 2.3],\n",
       "       [6. , 2.2, 5. , 1.5],\n",
       "       [6.9, 3.2, 5.7, 2.3],\n",
       "       [5.6, 2.8, 4.9, 2. ],\n",
       "       [7.7, 2.8, 6.7, 2. ],\n",
       "       [6.3, 2.7, 4.9, 1.8],\n",
       "       [6.7, 3.3, 5.7, 2.1],\n",
       "       [7.2, 3.2, 6. , 1.8],\n",
       "       [6.2, 2.8, 4.8, 1.8],\n",
       "       [6.1, 3. , 4.9, 1.8],\n",
       "       [6.4, 2.8, 5.6, 2.1],\n",
       "       [7.2, 3. , 5.8, 1.6],\n",
       "       [7.4, 2.8, 6.1, 1.9],\n",
       "       [7.9, 3.8, 6.4, 2. ],\n",
       "       [6.4, 2.8, 5.6, 2.2],\n",
       "       [6.3, 2.8, 5.1, 1.5],\n",
       "       [6.1, 2.6, 5.6, 1.4],\n",
       "       [7.7, 3. , 6.1, 2.3],\n",
       "       [6.3, 3.4, 5.6, 2.4],\n",
       "       [6.4, 3.1, 5.5, 1.8],\n",
       "       [6. , 3. , 4.8, 1.8],\n",
       "       [6.9, 3.1, 5.4, 2.1],\n",
       "       [6.7, 3.1, 5.6, 2.4],\n",
       "       [6.9, 3.1, 5.1, 2.3],\n",
       "       [5.8, 2.7, 5.1, 1.9],\n",
       "       [6.8, 3.2, 5.9, 2.3],\n",
       "       [6.7, 3.3, 5.7, 2.5],\n",
       "       [6.7, 3. , 5.2, 2.3],\n",
       "       [6.3, 2.5, 5. , 1.9],\n",
       "       [6.5, 3. , 5.2, 2. ],\n",
       "       [6.2, 3.4, 5.4, 2.3],\n",
       "       [5.9, 3. , 5.1, 1.8]])"
      ]
     },
     "execution_count": 15,
     "metadata": {},
     "output_type": "execute_result"
    }
   ],
   "source": [
    "iris_data = iris['data']\n",
    "iris_data  #딕셔너리에서 특정 값을 찾는 것과 같은 방식"
   ]
  },
  {
   "cell_type": "code",
   "execution_count": 16,
   "id": "54a94aff-4b51-4187-bbf0-578324ed4a94",
   "metadata": {
    "collapsed": true,
    "jupyter": {
     "outputs_hidden": true
    },
    "tags": []
   },
   "outputs": [
    {
     "data": {
      "text/plain": [
       "array([0, 0, 0, 0, 0, 0, 0, 0, 0, 0, 0, 0, 0, 0, 0, 0, 0, 0, 0, 0, 0, 0,\n",
       "       0, 0, 0, 0, 0, 0, 0, 0, 0, 0, 0, 0, 0, 0, 0, 0, 0, 0, 0, 0, 0, 0,\n",
       "       0, 0, 0, 0, 0, 0, 1, 1, 1, 1, 1, 1, 1, 1, 1, 1, 1, 1, 1, 1, 1, 1,\n",
       "       1, 1, 1, 1, 1, 1, 1, 1, 1, 1, 1, 1, 1, 1, 1, 1, 1, 1, 1, 1, 1, 1,\n",
       "       1, 1, 1, 1, 1, 1, 1, 1, 1, 1, 1, 1, 2, 2, 2, 2, 2, 2, 2, 2, 2, 2,\n",
       "       2, 2, 2, 2, 2, 2, 2, 2, 2, 2, 2, 2, 2, 2, 2, 2, 2, 2, 2, 2, 2, 2,\n",
       "       2, 2, 2, 2, 2, 2, 2, 2, 2, 2, 2, 2, 2, 2, 2, 2, 2, 2])"
      ]
     },
     "execution_count": 16,
     "metadata": {},
     "output_type": "execute_result"
    }
   ],
   "source": [
    "iris_label = iris['target']\n",
    "iris_label"
   ]
  },
  {
   "cell_type": "code",
   "execution_count": 1,
   "id": "e88cfb7b-8c3d-4e85-bca7-578df5c2eb62",
   "metadata": {
    "collapsed": true,
    "jupyter": {
     "outputs_hidden": true
    },
    "tags": []
   },
   "outputs": [
    {
     "ename": "NameError",
     "evalue": "name 'train_test_split' is not defined",
     "output_type": "error",
     "traceback": [
      "\u001b[1;31m---------------------------------------------------------------------------\u001b[0m",
      "\u001b[1;31mNameError\u001b[0m                                 Traceback (most recent call last)",
      "Input \u001b[1;32mIn [1]\u001b[0m, in \u001b[0;36m<cell line: 1>\u001b[1;34m()\u001b[0m\n\u001b[1;32m----> 1\u001b[0m X_train, X_test, y_train, y_test \u001b[38;5;241m=\u001b[39m \u001b[43mtrain_test_split\u001b[49m(iris_data, iris_label)\n",
      "\u001b[1;31mNameError\u001b[0m: name 'train_test_split' is not defined"
     ]
    }
   ],
   "source": [
    "X_train, X_test, y_train, y_test = train_test_split(iris_data, iris_label)\n",
    "# _train은 학습용 데이터, _test은 테스트용 데이터를 나타낸다.\n",
    "# iris_data -> X값   iris_label -> y값"
   ]
  },
  {
   "cell_type": "code",
   "execution_count": 21,
   "id": "48e8733a-a3d3-42d6-b132-1fa3c27ea635",
   "metadata": {},
   "outputs": [
    {
     "data": {
      "text/plain": [
       "(112, 4)"
      ]
     },
     "execution_count": 21,
     "metadata": {},
     "output_type": "execute_result"
    }
   ],
   "source": [
    "X_train.shape"
   ]
  },
  {
   "cell_type": "markdown",
   "id": "32ac433d-08b4-4090-9ed9-30f5ca23529d",
   "metadata": {},
   "source": [
    "데이터의 갯수는 112개라는 이야기.\n",
    "\n",
    "칼럼.특질.피쳐는 4개이다."
   ]
  },
  {
   "cell_type": "markdown",
   "id": "d99d619e-974c-437e-9ff7-8f6f8cfb4540",
   "metadata": {},
   "source": [
    "#### → 주요 Key의 의미"
   ]
  },
  {
   "cell_type": "markdown",
   "id": "3438c1a5-4bd1-43bf-8f4a-089b218a9df2",
   "metadata": {},
   "source": [
    "```\n",
    "- data : X(피처)의 데이터 세트\n",
    "\n",
    "- target : 최종적으로 구하려는 결괏값\n",
    "           (분류 시에는 레이블 값, 회귀 시에는 숫자 결괏값 데이터 세트로 나타난다.)\n",
    "\n",
    "- target_names : 개별 y(레이블)의 이름, 분류하고자 하는 대상\n",
    "\n",
    "- feature_names : 피처의 이름\n",
    "\n",
    "- DESCR : describe의 약자로 데이터에 대한 설명\n",
    "```"
   ]
  },
  {
   "cell_type": "markdown",
   "id": "3cfd88a8-9dc9-4c46-8152-5dd1958be181",
   "metadata": {},
   "source": [
    "#### → train_test_split() Parameter"
   ]
  },
  {
   "cell_type": "code",
   "execution_count": null,
   "id": "f095096f-b77a-4837-9c10-cf497a1c981f",
   "metadata": {},
   "outputs": [],
   "source": [
    "from sklearn.model_selection import train_test_split\n",
    "train_test_split(arrays, test_size, train_size, random_state, shuffle, stratify)"
   ]
  },
  {
   "cell_type": "markdown",
   "id": "7e6e3c47-00a2-45d8-81f9-b530d95ad83d",
   "metadata": {},
   "source": [
    "```\n",
    "- arrays : 분할시킬 데이터를 입력\n",
    "\n",
    "- test_size : 테스트 데이터셋의 비율(float)이나 갯수(int) (default = 0.25)\n",
    "\n",
    "- train_size : 학습 데이터셋의 비율(float)이나 갯수(int) (default = test_size의 나머지)\n",
    "\n",
    "- random_state : 데이터 분할시 셔플이 이루어지는데 이를 위한 시드값 (int나 RandomState로 입력)\n",
    "\n",
    "- shuffle : 셔플여부설정 (default = True)\n",
    "\n",
    "- stratify : 지정한 Data의 비율을 유지한다. \n",
    "             예를 들어, Label Set인 Y가 25%의 0과 75%의 1로 이루어진 Binary Set일 때, \n",
    "             stratify=Y로 설정하면 나누어진 데이터셋들도 0과 1을 각각 25%, 75%로 유지한 채                분할된다.\n",
    "```"
   ]
  },
  {
   "cell_type": "markdown",
   "id": "1c82bc85-c0ea-40c6-9107-0115240ff778",
   "metadata": {},
   "source": [
    "### 2. 모델 학습\n",
    ": 학습 데이터를 기반으로 ML 알고리즘을 적용해 모델을 학습시킵니다."
   ]
  },
  {
   "cell_type": "markdown",
   "id": "831f6187-5cf9-496c-8150-11ba1e17d7fc",
   "metadata": {},
   "source": [
    "#### 1) DecisionTreeClassifier( ) \n",
    ": 객체 생성"
   ]
  },
  {
   "cell_type": "code",
   "execution_count": 36,
   "id": "ba6e74e7-06b8-4c36-8e15-16183047dccd",
   "metadata": {},
   "outputs": [],
   "source": [
    "dt_clf = DecisionTreeClassifier()\n",
    "# DecisionTreeClassifier 객체 생성(아직 아무런 기능 없다.)"
   ]
  },
  {
   "cell_type": "markdown",
   "id": "3b5624fe-a5a1-4c8e-a04b-1ce01a83ac13",
   "metadata": {},
   "source": [
    "#### 2) fit( )"
   ]
  },
  {
   "cell_type": "code",
   "execution_count": 20,
   "id": "d867d5d8-2315-49e6-89ec-cbc58042b8b6",
   "metadata": {},
   "outputs": [
    {
     "data": {
      "text/plain": [
       "DecisionTreeClassifier()"
      ]
     },
     "execution_count": 20,
     "metadata": {},
     "output_type": "execute_result"
    }
   ],
   "source": [
    "dt_clf.fit(X_train, y_train)\n",
    "#fitting 적합한다. 학습한다. 훈련한다."
   ]
  },
  {
   "cell_type": "markdown",
   "id": "13bffd8f-ef9f-4986-a336-04a80f41b1dc",
   "metadata": {},
   "source": [
    "DecisionTreeClassifier 객체는 학습 데이터를 기반으로 학습이 완료됌.\n",
    "\n",
    "이제 이 객체의 predict()에 테스트 데이터를 이용하여 예측값을 반환함."
   ]
  },
  {
   "cell_type": "code",
   "execution_count": 32,
   "id": "c50d640d-b048-4fd3-b636-7627ae55aba7",
   "metadata": {},
   "outputs": [
    {
     "data": {
      "text/plain": [
       "(38, 4)"
      ]
     },
     "execution_count": 32,
     "metadata": {},
     "output_type": "execute_result"
    }
   ],
   "source": [
    "X_test.shape  #38개가 있다."
   ]
  },
  {
   "cell_type": "markdown",
   "id": "43352bf9-6c96-4f44-8bb9-e9c176b2a2ca",
   "metadata": {},
   "source": [
    "### 3. 예측 수행 : predict( )\n",
    ": 학습된 ML 모델을 이용해 테스트 데이터의 분류(즉, 붓꽃 종류)를 예측합니다."
   ]
  },
  {
   "cell_type": "code",
   "execution_count": 23,
   "id": "d2571735-c35c-42ef-a1d5-1b74a4af567d",
   "metadata": {},
   "outputs": [
    {
     "data": {
      "text/plain": [
       "array([2, 1, 0, 2, 0, 0, 2, 2, 1, 1, 0, 2, 2, 1, 0, 2, 0, 1, 2, 0, 2, 1,\n",
       "       1, 1, 2, 1, 1, 0, 1, 0, 2, 1, 0, 0, 2, 0, 0, 1])"
      ]
     },
     "execution_count": 23,
     "metadata": {},
     "output_type": "execute_result"
    }
   ],
   "source": [
    "y_pred = dt_clf.predict(X_test)\n",
    "y_pred  #예측"
   ]
  },
  {
   "cell_type": "code",
   "execution_count": 24,
   "id": "61d46e93-90ab-4695-9468-7b7afb2407b5",
   "metadata": {},
   "outputs": [
    {
     "data": {
      "text/plain": [
       "array([1, 1, 0, 2, 0, 0, 2, 2, 1, 1, 0, 2, 2, 1, 0, 2, 0, 1, 2, 0, 2, 2,\n",
       "       1, 1, 2, 1, 1, 0, 1, 0, 2, 1, 0, 0, 2, 0, 0, 1])"
      ]
     },
     "execution_count": 24,
     "metadata": {},
     "output_type": "execute_result"
    }
   ],
   "source": [
    "y_test  #정답"
   ]
  },
  {
   "cell_type": "code",
   "execution_count": 33,
   "id": "1a9def9c-91d3-4b25-ab23-8dec73b72f1d",
   "metadata": {},
   "outputs": [
    {
     "data": {
      "text/plain": [
       "array([False,  True,  True,  True,  True,  True,  True,  True,  True,\n",
       "        True,  True,  True,  True,  True,  True,  True,  True,  True,\n",
       "        True,  True,  True, False,  True,  True,  True,  True,  True,\n",
       "        True,  True,  True,  True,  True,  True,  True,  True,  True,\n",
       "        True,  True])"
      ]
     },
     "execution_count": 33,
     "metadata": {},
     "output_type": "execute_result"
    }
   ],
   "source": [
    "y_pred == y_test  # 둘 간 얼마나 일치한가?"
   ]
  },
  {
   "cell_type": "code",
   "execution_count": 34,
   "id": "1cf1593e-e933-424d-b091-310efa14430b",
   "metadata": {},
   "outputs": [
    {
     "data": {
      "text/plain": [
       "36"
      ]
     },
     "execution_count": 34,
     "metadata": {},
     "output_type": "execute_result"
    }
   ],
   "source": [
    "sum(y_pred == y_test) #일치 갯수는 36개, 처음에는 38개였다."
   ]
  },
  {
   "cell_type": "code",
   "execution_count": 28,
   "id": "4ae05512-afe9-4759-93a1-d938b56617d0",
   "metadata": {},
   "outputs": [
    {
     "data": {
      "text/plain": [
       "array(['setosa', 'versicolor', 'virginica'], dtype='<U10')"
      ]
     },
     "execution_count": 28,
     "metadata": {},
     "output_type": "execute_result"
    }
   ],
   "source": [
    "iris.target_names"
   ]
  },
  {
   "cell_type": "markdown",
   "id": "c6d3e6bc-0310-4131-8c50-98de05587922",
   "metadata": {},
   "source": [
    "위에 y_test 출력값을 보면 1,0 이런식으로 되어있는데\n",
    "\n",
    "이 숫자가 의미하는 바는 위에 어레이의 인덱스를 표현한 것이다."
   ]
  },
  {
   "cell_type": "markdown",
   "id": "d15a9c53-63cc-4f6a-bf28-9ec79e27c2b2",
   "metadata": {},
   "source": [
    "### 4. 평가 : accuracy_score( )\n",
    ": 이렇게 예측된 결괏값과 테스트 데이터의 실제 결괏값을 비교해 ML 모델 성능을 평가한다."
   ]
  },
  {
   "cell_type": "code",
   "execution_count": 30,
   "id": "767299a7-2897-43c9-869c-f81245ae195f",
   "metadata": {},
   "outputs": [],
   "source": [
    "from sklearn.metrics import accuracy_score  #정확도를 보여준다."
   ]
  },
  {
   "cell_type": "code",
   "execution_count": 31,
   "id": "c1da1c12-c4bb-4702-b53b-0a0b72b40308",
   "metadata": {},
   "outputs": [
    {
     "data": {
      "text/plain": [
       "0.9473684210526315"
      ]
     },
     "execution_count": 31,
     "metadata": {},
     "output_type": "execute_result"
    }
   ],
   "source": [
    "accuracy_score(y_test, y_pred)"
   ]
  },
  {
   "cell_type": "markdown",
   "id": "8d484354-d78b-40ae-8e27-0c9c5fb64f28",
   "metadata": {},
   "source": [
    "# < 데이터 전처리 >\n",
    "```\n",
    "< 이유 >\n",
    "\n",
    "- 결손값, 즉 NaN, Null 값은 허용되지 않습니다. (이러한 경우 pandas로 처리)\n",
    "- 문자열 값을 입력값으로 허용하지 않습니다. (그래서 0,1 이런식으로 표현함.)\n",
    "\n",
    "```"
   ]
  },
  {
   "cell_type": "markdown",
   "id": "6ac1fbdb-d806-486a-9554-17351252b400",
   "metadata": {},
   "source": [
    "## □ 레이블 인코딩: LabelEncoder\n",
    "- LabelEncoder를 객체로 생성 후 fit()과 transform()을 호출해 인코딩"
   ]
  },
  {
   "cell_type": "code",
   "execution_count": 39,
   "id": "f5c5a39e-2969-4a96-a23e-3fcbfc62d868",
   "metadata": {},
   "outputs": [],
   "source": [
    "from sklearn.preprocessing import LabelEncoder\n",
    "\n",
    "encoder = LabelEncoder()"
   ]
  },
  {
   "cell_type": "code",
   "execution_count": 40,
   "id": "942a623e-3f9b-49cd-99a0-35a3f86402d9",
   "metadata": {},
   "outputs": [
    {
     "data": {
      "text/plain": [
       "array([0, 1, 2], dtype=int64)"
      ]
     },
     "execution_count": 40,
     "metadata": {},
     "output_type": "execute_result"
    }
   ],
   "source": [
    "labels = encoder.fit_transform(['TV', '냉장고', '전자레인지'])\n",
    "labels"
   ]
  },
  {
   "cell_type": "markdown",
   "id": "e9b3ccff-abb1-4eb9-a510-d0363d35dc56",
   "metadata": {},
   "source": [
    "## □ 원-핫 인코딩\n",
    "One-Hot Encoding / '한 개만 불이 들어와요'"
   ]
  },
  {
   "cell_type": "markdown",
   "id": "5d90b542-3ea5-4947-9c8f-ca7838865a4d",
   "metadata": {},
   "source": [
    "### 1) 데이터 불러오기"
   ]
  },
  {
   "cell_type": "code",
   "execution_count": 9,
   "id": "6d315ff0-050f-405e-9a0c-00208955899b",
   "metadata": {},
   "outputs": [
    {
     "data": {
      "text/plain": [
       "['TV', '냉장고', '전자레인지', '컴퓨터', '선풍기', '선풍기', '믹서', '믹서']"
      ]
     },
     "execution_count": 9,
     "metadata": {},
     "output_type": "execute_result"
    }
   ],
   "source": [
    "from sklearn.preprocessing import OneHotEncoder\n",
    "import numpy as np\n",
    "\n",
    "items = ['TV','냉장고','전자레인지','컴퓨터','선풍기','선풍기','믹서','믹서']\n",
    "items"
   ]
  },
  {
   "cell_type": "markdown",
   "id": "7aeb9b52-ac39-4893-baa7-e86a6a8746f8",
   "metadata": {},
   "source": [
    "### 2) 2차원 데이터로 변환"
   ]
  },
  {
   "cell_type": "code",
   "execution_count": 10,
   "id": "10982fd6-8be0-4280-9087-a4ea2d2f1089",
   "metadata": {},
   "outputs": [
    {
     "data": {
      "text/plain": [
       "array([['TV'],\n",
       "       ['냉장고'],\n",
       "       ['전자레인지'],\n",
       "       ['컴퓨터'],\n",
       "       ['선풍기'],\n",
       "       ['선풍기'],\n",
       "       ['믹서'],\n",
       "       ['믹서']], dtype='<U5')"
      ]
     },
     "execution_count": 10,
     "metadata": {},
     "output_type": "execute_result"
    }
   ],
   "source": [
    "items = np.array(items).reshape(-1,1)\n",
    "# 한줄로 쭉 서있는게 아니라 세로로 한줄로 들어가야한다.(열이 1개)\n",
    "items"
   ]
  },
  {
   "cell_type": "markdown",
   "id": "afaad602-c412-41fd-9aad-c22f52278903",
   "metadata": {},
   "source": [
    "### 3) OneHotEncoder 클래스로 변환"
   ]
  },
  {
   "cell_type": "code",
   "execution_count": 11,
   "id": "076d385b-476a-479d-88d3-c826706bf40d",
   "metadata": {},
   "outputs": [
    {
     "data": {
      "text/plain": [
       "<8x6 sparse matrix of type '<class 'numpy.float64'>'\n",
       "\twith 8 stored elements in Compressed Sparse Row format>"
      ]
     },
     "execution_count": 11,
     "metadata": {},
     "output_type": "execute_result"
    }
   ],
   "source": [
    "encoder = OneHotEncoder()\n",
    "one_hot_labels = encoder.fit_transform(items)\n",
    "one_hot_labels"
   ]
  },
  {
   "cell_type": "markdown",
   "id": "79f3b60e-4f73-45ac-9a4e-42cb941a604f",
   "metadata": {},
   "source": [
    "Sparse -> 희소행렬"
   ]
  },
  {
   "cell_type": "markdown",
   "id": "02c07328-408a-42ee-81ba-c4b7618db6cd",
   "metadata": {},
   "source": [
    "### 4) toarray( )\n",
    ":희소행렬 형태를 밀집행렬로 변환하기"
   ]
  },
  {
   "cell_type": "code",
   "execution_count": 12,
   "id": "5c131cfa-d082-4707-bd20-006c158f9a37",
   "metadata": {},
   "outputs": [
    {
     "data": {
      "text/plain": [
       "array([[1., 0., 0., 0., 0., 0.],\n",
       "       [0., 1., 0., 0., 0., 0.],\n",
       "       [0., 0., 0., 0., 1., 0.],\n",
       "       [0., 0., 0., 0., 0., 1.],\n",
       "       [0., 0., 0., 1., 0., 0.],\n",
       "       [0., 0., 0., 1., 0., 0.],\n",
       "       [0., 0., 1., 0., 0., 0.],\n",
       "       [0., 0., 1., 0., 0., 0.]])"
      ]
     },
     "execution_count": 12,
     "metadata": {},
     "output_type": "execute_result"
    }
   ],
   "source": [
    "one_hot_labels.toarray()"
   ]
  },
  {
   "cell_type": "markdown",
   "id": "2d08168f-0f1a-457d-8ad2-d754cb0cb680",
   "metadata": {},
   "source": [
    "### ▶ 또 다른 방법 : get_dummies( )\n",
    ": array로 바꿀 필요 없이 API 사용하면 간단하다."
   ]
  },
  {
   "cell_type": "code",
   "execution_count": 13,
   "id": "f03b8cab-b196-434e-ac69-8f4d8fc456f8",
   "metadata": {},
   "outputs": [
    {
     "data": {
      "text/html": [
       "<div>\n",
       "<style scoped>\n",
       "    .dataframe tbody tr th:only-of-type {\n",
       "        vertical-align: middle;\n",
       "    }\n",
       "\n",
       "    .dataframe tbody tr th {\n",
       "        vertical-align: top;\n",
       "    }\n",
       "\n",
       "    .dataframe thead th {\n",
       "        text-align: right;\n",
       "    }\n",
       "</style>\n",
       "<table border=\"1\" class=\"dataframe\">\n",
       "  <thead>\n",
       "    <tr style=\"text-align: right;\">\n",
       "      <th></th>\n",
       "      <th>TV</th>\n",
       "      <th>냉장고</th>\n",
       "      <th>믹서</th>\n",
       "      <th>선풍기</th>\n",
       "      <th>전자레인지</th>\n",
       "      <th>컴퓨터</th>\n",
       "    </tr>\n",
       "  </thead>\n",
       "  <tbody>\n",
       "    <tr>\n",
       "      <th>0</th>\n",
       "      <td>1</td>\n",
       "      <td>0</td>\n",
       "      <td>0</td>\n",
       "      <td>0</td>\n",
       "      <td>0</td>\n",
       "      <td>0</td>\n",
       "    </tr>\n",
       "    <tr>\n",
       "      <th>1</th>\n",
       "      <td>0</td>\n",
       "      <td>1</td>\n",
       "      <td>0</td>\n",
       "      <td>0</td>\n",
       "      <td>0</td>\n",
       "      <td>0</td>\n",
       "    </tr>\n",
       "    <tr>\n",
       "      <th>2</th>\n",
       "      <td>0</td>\n",
       "      <td>0</td>\n",
       "      <td>0</td>\n",
       "      <td>0</td>\n",
       "      <td>1</td>\n",
       "      <td>0</td>\n",
       "    </tr>\n",
       "    <tr>\n",
       "      <th>3</th>\n",
       "      <td>0</td>\n",
       "      <td>0</td>\n",
       "      <td>0</td>\n",
       "      <td>0</td>\n",
       "      <td>0</td>\n",
       "      <td>1</td>\n",
       "    </tr>\n",
       "    <tr>\n",
       "      <th>4</th>\n",
       "      <td>0</td>\n",
       "      <td>0</td>\n",
       "      <td>0</td>\n",
       "      <td>1</td>\n",
       "      <td>0</td>\n",
       "      <td>0</td>\n",
       "    </tr>\n",
       "    <tr>\n",
       "      <th>5</th>\n",
       "      <td>0</td>\n",
       "      <td>0</td>\n",
       "      <td>0</td>\n",
       "      <td>1</td>\n",
       "      <td>0</td>\n",
       "      <td>0</td>\n",
       "    </tr>\n",
       "    <tr>\n",
       "      <th>6</th>\n",
       "      <td>0</td>\n",
       "      <td>0</td>\n",
       "      <td>1</td>\n",
       "      <td>0</td>\n",
       "      <td>0</td>\n",
       "      <td>0</td>\n",
       "    </tr>\n",
       "    <tr>\n",
       "      <th>7</th>\n",
       "      <td>0</td>\n",
       "      <td>0</td>\n",
       "      <td>1</td>\n",
       "      <td>0</td>\n",
       "      <td>0</td>\n",
       "      <td>0</td>\n",
       "    </tr>\n",
       "  </tbody>\n",
       "</table>\n",
       "</div>"
      ],
      "text/plain": [
       "   TV  냉장고  믹서  선풍기  전자레인지  컴퓨터\n",
       "0   1    0   0    0      0    0\n",
       "1   0    1   0    0      0    0\n",
       "2   0    0   0    0      1    0\n",
       "3   0    0   0    0      0    1\n",
       "4   0    0   0    1      0    0\n",
       "5   0    0   0    1      0    0\n",
       "6   0    0   1    0      0    0\n",
       "7   0    0   1    0      0    0"
      ]
     },
     "execution_count": 13,
     "metadata": {},
     "output_type": "execute_result"
    }
   ],
   "source": [
    "items = ['TV','냉장고','전자레인지','컴퓨터','선풍기','선풍기','믹서','믹서']\n",
    "pd.get_dummies(items)"
   ]
  },
  {
   "cell_type": "markdown",
   "id": "b779e7fd-3eb3-484d-8c4f-ae84a750cb5d",
   "metadata": {},
   "source": [
    "# < 교차검증 >\n",
    "- Cross Validation\n",
    "- 크로스는 여러번 이라는 뜻\n",
    "- 교차검증은 여러번 검증한다는 것(여러 경로는 통해서 검증)"
   ]
  },
  {
   "cell_type": "markdown",
   "id": "2aaaef40-77e8-4bfd-a0d2-122c5c9e1917",
   "metadata": {},
   "source": [
    "## ▶ KFlod(n_splits = )"
   ]
  },
  {
   "cell_type": "code",
   "execution_count": 14,
   "id": "a46a12d9-c189-4349-ba43-e927ddf75d58",
   "metadata": {},
   "outputs": [],
   "source": [
    "from sklearn.tree import DecisionTreeClassifier\n",
    "from sklearn.metrics import accuracy_score\n",
    "from sklearn.model_selection import KFold\n",
    "import numpy as np\n",
    "\n",
    "iris = load_iris()                   # 파일부르기\n",
    "\n",
    "iris_data = iris.data                # data(정보)와 target(매치대상) 저장\n",
    "iris_label= iris.target\n",
    "\n",
    "dt_clf=DecisionTreeClassifier()      # 의사결정 트리 \n",
    "\n",
    "kfold = KFold(n_splits = 5)          # 5번 검증한다"
   ]
  },
  {
   "cell_type": "code",
   "execution_count": 15,
   "id": "a68922c8-3c80-437e-9fc5-a2dc1f0ab4d8",
   "metadata": {
    "collapsed": true,
    "jupyter": {
     "outputs_hidden": true
    },
    "tags": []
   },
   "outputs": [
    {
     "name": "stdout",
     "output_type": "stream",
     "text": [
      "[ 30  31  32  33  34  35  36  37  38  39  40  41  42  43  44  45  46  47\n",
      "  48  49  50  51  52  53  54  55  56  57  58  59  60  61  62  63  64  65\n",
      "  66  67  68  69  70  71  72  73  74  75  76  77  78  79  80  81  82  83\n",
      "  84  85  86  87  88  89  90  91  92  93  94  95  96  97  98  99 100 101\n",
      " 102 103 104 105 106 107 108 109 110 111 112 113 114 115 116 117 118 119\n",
      " 120 121 122 123 124 125 126 127 128 129 130 131 132 133 134 135 136 137\n",
      " 138 139 140 141 142 143 144 145 146 147 148 149] [ 0  1  2  3  4  5  6  7  8  9 10 11 12 13 14 15 16 17 18 19 20 21 22 23\n",
      " 24 25 26 27 28 29]\n",
      "------------------------------\n",
      "[  0   1   2   3   4   5   6   7   8   9  10  11  12  13  14  15  16  17\n",
      "  18  19  20  21  22  23  24  25  26  27  28  29  60  61  62  63  64  65\n",
      "  66  67  68  69  70  71  72  73  74  75  76  77  78  79  80  81  82  83\n",
      "  84  85  86  87  88  89  90  91  92  93  94  95  96  97  98  99 100 101\n",
      " 102 103 104 105 106 107 108 109 110 111 112 113 114 115 116 117 118 119\n",
      " 120 121 122 123 124 125 126 127 128 129 130 131 132 133 134 135 136 137\n",
      " 138 139 140 141 142 143 144 145 146 147 148 149] [30 31 32 33 34 35 36 37 38 39 40 41 42 43 44 45 46 47 48 49 50 51 52 53\n",
      " 54 55 56 57 58 59]\n",
      "------------------------------\n",
      "[  0   1   2   3   4   5   6   7   8   9  10  11  12  13  14  15  16  17\n",
      "  18  19  20  21  22  23  24  25  26  27  28  29  30  31  32  33  34  35\n",
      "  36  37  38  39  40  41  42  43  44  45  46  47  48  49  50  51  52  53\n",
      "  54  55  56  57  58  59  90  91  92  93  94  95  96  97  98  99 100 101\n",
      " 102 103 104 105 106 107 108 109 110 111 112 113 114 115 116 117 118 119\n",
      " 120 121 122 123 124 125 126 127 128 129 130 131 132 133 134 135 136 137\n",
      " 138 139 140 141 142 143 144 145 146 147 148 149] [60 61 62 63 64 65 66 67 68 69 70 71 72 73 74 75 76 77 78 79 80 81 82 83\n",
      " 84 85 86 87 88 89]\n",
      "------------------------------\n",
      "[  0   1   2   3   4   5   6   7   8   9  10  11  12  13  14  15  16  17\n",
      "  18  19  20  21  22  23  24  25  26  27  28  29  30  31  32  33  34  35\n",
      "  36  37  38  39  40  41  42  43  44  45  46  47  48  49  50  51  52  53\n",
      "  54  55  56  57  58  59  60  61  62  63  64  65  66  67  68  69  70  71\n",
      "  72  73  74  75  76  77  78  79  80  81  82  83  84  85  86  87  88  89\n",
      " 120 121 122 123 124 125 126 127 128 129 130 131 132 133 134 135 136 137\n",
      " 138 139 140 141 142 143 144 145 146 147 148 149] [ 90  91  92  93  94  95  96  97  98  99 100 101 102 103 104 105 106 107\n",
      " 108 109 110 111 112 113 114 115 116 117 118 119]\n",
      "------------------------------\n",
      "[  0   1   2   3   4   5   6   7   8   9  10  11  12  13  14  15  16  17\n",
      "  18  19  20  21  22  23  24  25  26  27  28  29  30  31  32  33  34  35\n",
      "  36  37  38  39  40  41  42  43  44  45  46  47  48  49  50  51  52  53\n",
      "  54  55  56  57  58  59  60  61  62  63  64  65  66  67  68  69  70  71\n",
      "  72  73  74  75  76  77  78  79  80  81  82  83  84  85  86  87  88  89\n",
      "  90  91  92  93  94  95  96  97  98  99 100 101 102 103 104 105 106 107\n",
      " 108 109 110 111 112 113 114 115 116 117 118 119] [120 121 122 123 124 125 126 127 128 129 130 131 132 133 134 135 136 137\n",
      " 138 139 140 141 142 143 144 145 146 147 148 149]\n",
      "------------------------------\n"
     ]
    }
   ],
   "source": [
    "cv_accuracy = []\n",
    "n_iter = 0\n",
    "\n",
    "for train_index, test_index in kfold.split(iris_data):\n",
    "    print(train_index, test_index)\n",
    "    print(\"---\"*10)"
   ]
  },
  {
   "cell_type": "markdown",
   "id": "dba41791-2862-4750-8972-45c090686b37",
   "metadata": {},
   "source": [
    "```\n",
    "2개중 첫번째 인덱스는 4개에 대한 인덱스(train_data)\n",
    "뒤에는 나머지 한개의 인덱스(test_data)\n",
    "이렇게 1덩어리가 5개로 쪼개져있다.\n",
    "----------------------------------------\n",
    "0,1,2가 있는데 0,1은 50개씩 있는데 2가 5개밖에 없으면 train이나 test에 편중되어서\n",
    "2가 없는 상태로 학습이 되어서 맞추지 못하는 상황이 생긴다.\n",
    "\n",
    "즉, 비율을 맞춰야 한다.\n",
    "\n",
    "0이 100개 1은 40개 2가 10로 편중된 데이터가 있다면 \n",
    "100,40,10개 각각 7:3비율로 7은 train으로 3은 test로 골고루 분산되게끔 만들어야한다.\n",
    "\n",
    "test_size = 0.3\n",
    "```"
   ]
  },
  {
   "cell_type": "code",
   "execution_count": 20,
   "id": "4fc39c3c-154d-4eb7-b856-437f2b1e5f4d",
   "metadata": {},
   "outputs": [
    {
     "name": "stdout",
     "output_type": "stream",
     "text": [
      "개별 검증 정확도:  [1.0]\n",
      "개별 검증 정확도:  [1.0, 1.0]\n",
      "개별 검증 정확도:  [1.0, 1.0, 0.8333333333333334]\n",
      "개별 검증 정확도:  [1.0, 1.0, 0.8333333333333334, 0.9333333333333333]\n",
      "개별 검증 정확도:  [1.0, 1.0, 0.8333333333333334, 0.9333333333333333, 0.7666666666666667]\n",
      "평균 검증 정확도: 0.9066666666666666\n"
     ]
    }
   ],
   "source": [
    "iris_data = iris.data\n",
    "                # data(정보)와 target(매치대상) 저장\n",
    "iris_label= iris.target\n",
    "\n",
    "\n",
    "dt_clf = DecisionTreeClassifier()      # 의사결정 트리 \n",
    "kfold = KFold(n_splits=5)\n",
    "\n",
    "cv_accuracy = []\n",
    "\n",
    "# KFold객체의 split( ) 호출하면 폴드 별 학습용, 검증용 테스트의 인덱스를 반환한다. 이거 중요함.  \n",
    "for train_index, test_index  in kfold.split(iris_data): \n",
    "    \n",
    "    # print(train_index, test_index)\n",
    "    # print(\"---\"*10)\n",
    "    # kfold.split( )으로 반환된 인덱스를 이용하여 학습용, 검증용 테스트 데이터 추출\n",
    "    X_train, X_test = iris_data[train_index], iris_data[test_index]\n",
    "    y_train, y_test = iris_label[train_index], iris_label[test_index]\n",
    "\n",
    "    \n",
    "    dt_clf.fit(X_train , y_train)    \n",
    "    pred = dt_clf.predict(X_test)\n",
    "    \n",
    "   \n",
    "    accuracy = accuracy_score(y_test,pred)   \n",
    "    cv_accuracy.append(accuracy)\n",
    " \n",
    "    print(\"개별 검증 정확도: \", cv_accuracy)\n",
    "    \n",
    "print('평균 검증 정확도:', np.mean(cv_accuracy))"
   ]
  },
  {
   "cell_type": "markdown",
   "id": "92377f01-a852-4db4-80bf-d8c683e90a05",
   "metadata": {},
   "source": [
    "p102, 103 줄인 모습"
   ]
  },
  {
   "cell_type": "markdown",
   "id": "88d59163-1880-477d-8ae1-e375eac3ebc5",
   "metadata": {},
   "source": [
    "```\n",
    "<< 여기서 split가 중요한 이유 >>\n",
    "\n",
    "- split는 입력값이 데이터프레임이 들어간다.\n",
    "- 그럼 출력값은 똑같이 데이터프레임인가? 아니다. 데이터프레임 인덱스를 출력하게 된다.\n",
    "- 해당 인덱스를 넣으면 거기에 해당하는 값이 출력하게 되는데 \n",
    "  그 원리를 이용한게 저 부분이다.\n",
    "```"
   ]
  },
  {
   "cell_type": "markdown",
   "id": "37f42ca1-212e-456a-a853-94f3358179c0",
   "metadata": {},
   "source": [
    "### → StratifiedKFold : 제대로 분배X일때"
   ]
  },
  {
   "cell_type": "code",
   "execution_count": 17,
   "id": "c69b3f0a-4192-4303-8ba9-ab832b5a84a5",
   "metadata": {
    "tags": []
   },
   "outputs": [
    {
     "name": "stdout",
     "output_type": "stream",
     "text": [
      "[ 17  18  19  20  21  22  23  24  25  26  27  28  29  30  31  32  33  34\n",
      "  35  36  37  38  39  40  41  42  43  44  45  46  47  48  49  67  68  69\n",
      "  70  71  72  73  74  75  76  77  78  79  80  81  82  83  84  85  86  87\n",
      "  88  89  90  91  92  93  94  95  96  97  98  99 116 117 118 119 120 121\n",
      " 122 123 124 125 126 127 128 129 130 131 132 133 134 135 136 137 138 139\n",
      " 140 141 142 143 144 145 146 147 148 149]\n",
      "[  0   1   2   3   4   5   6   7   8   9  10  11  12  13  14  15  16  50\n",
      "  51  52  53  54  55  56  57  58  59  60  61  62  63  64  65  66 100 101\n",
      " 102 103 104 105 106 107 108 109 110 111 112 113 114 115]\n",
      "\n",
      "[  0   1   2   3   4   5   6   7   8   9  10  11  12  13  14  15  16  34\n",
      "  35  36  37  38  39  40  41  42  43  44  45  46  47  48  49  50  51  52\n",
      "  53  54  55  56  57  58  59  60  61  62  63  64  65  66  83  84  85  86\n",
      "  87  88  89  90  91  92  93  94  95  96  97  98  99 100 101 102 103 104\n",
      " 105 106 107 108 109 110 111 112 113 114 115 133 134 135 136 137 138 139\n",
      " 140 141 142 143 144 145 146 147 148 149]\n",
      "[ 17  18  19  20  21  22  23  24  25  26  27  28  29  30  31  32  33  67\n",
      "  68  69  70  71  72  73  74  75  76  77  78  79  80  81  82 116 117 118\n",
      " 119 120 121 122 123 124 125 126 127 128 129 130 131 132]\n",
      "\n",
      "[  0   1   2   3   4   5   6   7   8   9  10  11  12  13  14  15  16  17\n",
      "  18  19  20  21  22  23  24  25  26  27  28  29  30  31  32  33  50  51\n",
      "  52  53  54  55  56  57  58  59  60  61  62  63  64  65  66  67  68  69\n",
      "  70  71  72  73  74  75  76  77  78  79  80  81  82 100 101 102 103 104\n",
      " 105 106 107 108 109 110 111 112 113 114 115 116 117 118 119 120 121 122\n",
      " 123 124 125 126 127 128 129 130 131 132]\n",
      "[ 34  35  36  37  38  39  40  41  42  43  44  45  46  47  48  49  83  84\n",
      "  85  86  87  88  89  90  91  92  93  94  95  96  97  98  99 133 134 135\n",
      " 136 137 138 139 140 141 142 143 144 145 146 147 148 149]\n",
      "\n"
     ]
    }
   ],
   "source": [
    "from sklearn.datasets import load_iris #데이터 불러오기\n",
    "from sklearn.tree import DecisionTreeClassifier  #정해주기\n",
    "from sklearn.metrics import accuracy_score #평가기준\n",
    "from sklearn.model_selection import StratifiedKFold #층화된 kfold를 가져온다.\n",
    "\n",
    "iris = load_iris()\n",
    "features = X = iris_data = iris.data\n",
    "labels = y = iris_label = iris.target\n",
    "\n",
    "dt_clf = DecisionTreeClassifier()\n",
    "\n",
    "s_kfold = StratifiedKFold(n_splits = 3)\n",
    "cv_accuracy = []\n",
    "\n",
    "for train_index, test_index in s_kfold.split(features, labels): #비율 다 감안해서 쪼갠것\n",
    "    print(train_index)\n",
    "    print(test_index)\n",
    "    print()"
   ]
  },
  {
   "cell_type": "code",
   "execution_count": 18,
   "id": "7a064b04-f4ca-464a-bd56-8b13b6edd34b",
   "metadata": {},
   "outputs": [
    {
     "name": "stdout",
     "output_type": "stream",
     "text": [
      "개별 정확도:  0.98\n",
      "개별 정확도:  0.94\n",
      "개별 정확도:  0.96\n",
      "정확도 모음:  [0.98, 0.94, 0.96]\n"
     ]
    }
   ],
   "source": [
    "from sklearn.datasets import load_iris #데이터 불러오기\n",
    "from sklearn.tree import DecisionTreeClassifier  #정해주기\n",
    "from sklearn.metrics import accuracy_score #평가기준\n",
    "from sklearn.model_selection import StratifiedKFold #층화된 kfold를 가져온다.\n",
    "\n",
    "iris = load_iris()\n",
    "features = X = iris_data = iris.data\n",
    "labels = y = iris_label = iris.target\n",
    "\n",
    "dt_clf = DecisionTreeClassifier()\n",
    "\n",
    "s_kfold = StratifiedKFold(n_splits = 3)\n",
    "cv_accuracy = []\n",
    "\n",
    "for train_index, test_index in s_kfold.split(features, labels):\n",
    "\n",
    "    X_train, X_test = features[train_index], features[test_index]\n",
    "    y_train, y_test = labels[train_index], labels[test_index]\n",
    "    \n",
    "    dt_clf.fit(X_train, y_train)\n",
    "    pred = dt_clf.predict(X_test)\n",
    "    \n",
    "    acc = accuracy_score(y_test, pred)  #이 두 개를 비교해서 정확도 보가\n",
    "    cv_accuracy.append(acc)\n",
    "    print(\"개별 정확도: \", acc)\n",
    "    \n",
    "print('정확도 모음: ', cv_accuracy)"
   ]
  },
  {
   "cell_type": "code",
   "execution_count": 19,
   "id": "fe4efe9c-8dc4-4bdc-92ba-244a2b92c064",
   "metadata": {},
   "outputs": [
    {
     "data": {
      "text/plain": [
       "0.96"
      ]
     },
     "execution_count": 19,
     "metadata": {},
     "output_type": "execute_result"
    }
   ],
   "source": [
    "np.mean(cv_accuracy).round(4)"
   ]
  },
  {
   "cell_type": "markdown",
   "id": "e94b6d2f-db4a-4a4f-9460-69f77c3d2eb0",
   "metadata": {},
   "source": [
    "## ▶★ cross_val_score( ) : 이거 하나면 끝"
   ]
  },
  {
   "cell_type": "code",
   "execution_count": 21,
   "id": "82c4ea0d-f340-4406-a032-e0afcf3f653a",
   "metadata": {},
   "outputs": [],
   "source": [
    "from sklearn.model_selection import cross_val_score, cross_validate #교차검증 점수\n",
    "\n",
    "iris = load_iris()\n",
    "data = features = X = iris_data = iris.data\n",
    "label = labels = y = iris_label = iris.target\n",
    "\n",
    "dt_clf = DecisionTreeClassifier()"
   ]
  },
  {
   "cell_type": "code",
   "execution_count": 22,
   "id": "0b8fca84-5665-47d6-a66b-7f332a1c08e3",
   "metadata": {},
   "outputs": [
    {
     "data": {
      "text/plain": [
       "array([0.98, 0.92, 0.96])"
      ]
     },
     "execution_count": 22,
     "metadata": {},
     "output_type": "execute_result"
    }
   ],
   "source": [
    "scores = cross_val_score(dt_clf, data, label, scoring = 'accuracy', cv = 3) #3번 쪼개기\n",
    "scores"
   ]
  },
  {
   "cell_type": "code",
   "execution_count": 23,
   "id": "77890a7f-9c81-4529-9f4b-33662c374c8b",
   "metadata": {},
   "outputs": [
    {
     "data": {
      "text/plain": [
       "0.9533"
      ]
     },
     "execution_count": 23,
     "metadata": {},
     "output_type": "execute_result"
    }
   ],
   "source": [
    "np.mean(scores).round(4)"
   ]
  },
  {
   "cell_type": "markdown",
   "id": "4c9fb600-0244-4416-ba3e-52f901a7c6fe",
   "metadata": {},
   "source": [
    "# < GridSearchCV : 최적 추출 >\n",
    ": 최적 하이퍼 파라미터 추출하기"
   ]
  },
  {
   "cell_type": "markdown",
   "id": "689a77fc-d449-481d-8ca8-bdc33173fa92",
   "metadata": {},
   "source": [
    "## 0) 기능\n",
    "- refit = True은 최적의 하이퍼 파라미터를 찾아 재학습한다."
   ]
  },
  {
   "cell_type": "markdown",
   "id": "e75a8481-a130-4795-b915-466951993b19",
   "metadata": {},
   "source": [
    "## 1) max_depth, min_samples_split"
   ]
  },
  {
   "cell_type": "code",
   "execution_count": 1,
   "id": "d9fc303a-192c-4488-ae0d-970e018213b2",
   "metadata": {},
   "outputs": [],
   "source": [
    "from sklearn.datasets import load_iris\n",
    "from sklearn.tree import DecisionTreeClassifier\n",
    "from sklearn.metrics import accuracy_score\n",
    "from sklearn.model_selection import GridSearchCV, train_test_split"
   ]
  },
  {
   "cell_type": "code",
   "execution_count": 5,
   "id": "443ed96b-f9c7-4b9a-b0f8-125a49c935da",
   "metadata": {},
   "outputs": [
    {
     "data": {
      "text/plain": [
       "GridSearchCV(cv=3, estimator=DecisionTreeClassifier(),\n",
       "             param_grid={'max_depth': [1, 2, 3], 'min_samples_split': [2, 3]})"
      ]
     },
     "execution_count": 5,
     "metadata": {},
     "output_type": "execute_result"
    }
   ],
   "source": [
    "iris_data = iris.data\n",
    "iris_label= iris.target\n",
    "\n",
    "iris = load_iris()\n",
    "\n",
    "X_train, X_test, y_train, y_test = train_test_split(iris_data, iris_label, test_size = 0.2, \n",
    "                                                    random_state=121) \n",
    "\n",
    "dt_clf = DecisionTreeClassifier()\n",
    "\n",
    "grid_parameters = {'max_depth':[1,2,3],\n",
    "                  'min_samples_split': [2,3]}\n",
    "\n",
    "grid_tree = GridSearchCV(dt_clf, param_grid=grid_parameters, cv=3, refit=True)\n",
    "\n",
    "grid_tree.fit(X_train, y_train) #학습이 이루어짐"
   ]
  },
  {
   "cell_type": "markdown",
   "id": "8ed25318-0a18-4a87-aee7-072f9f13dc11",
   "metadata": {},
   "source": [
    "### → cv_results_"
   ]
  },
  {
   "cell_type": "markdown",
   "id": "a8901cd8-3a12-47a5-b2ef-b351bbdc723e",
   "metadata": {},
   "source": [
    "```\n",
    "cv_results_는 GridSearchcv의 결과 세트로서 딕셔너리 형태로 key값과 리스트 형태인 value값을 가진다.\n",
    "\n",
    "cv_results_는 데이터프레임으로 변환해야 보기 편하다.\n",
    "```"
   ]
  },
  {
   "cell_type": "code",
   "execution_count": 7,
   "id": "a81c2910-7936-44c8-a87c-b3fe03dff1d9",
   "metadata": {
    "collapsed": true,
    "jupyter": {
     "outputs_hidden": true
    },
    "tags": []
   },
   "outputs": [
    {
     "data": {
      "text/html": [
       "<div>\n",
       "<style scoped>\n",
       "    .dataframe tbody tr th:only-of-type {\n",
       "        vertical-align: middle;\n",
       "    }\n",
       "\n",
       "    .dataframe tbody tr th {\n",
       "        vertical-align: top;\n",
       "    }\n",
       "\n",
       "    .dataframe thead th {\n",
       "        text-align: right;\n",
       "    }\n",
       "</style>\n",
       "<table border=\"1\" class=\"dataframe\">\n",
       "  <thead>\n",
       "    <tr style=\"text-align: right;\">\n",
       "      <th></th>\n",
       "      <th>param_min_samples_split</th>\n",
       "      <th>params</th>\n",
       "      <th>split0_test_score</th>\n",
       "      <th>split1_test_score</th>\n",
       "      <th>split2_test_score</th>\n",
       "      <th>mean_test_score</th>\n",
       "      <th>std_test_score</th>\n",
       "      <th>rank_test_score</th>\n",
       "    </tr>\n",
       "  </thead>\n",
       "  <tbody>\n",
       "    <tr>\n",
       "      <th>0</th>\n",
       "      <td>2</td>\n",
       "      <td>{'max_depth': 1, 'min_samples_split': 2}</td>\n",
       "      <td>0.700</td>\n",
       "      <td>0.7</td>\n",
       "      <td>0.70</td>\n",
       "      <td>0.700000</td>\n",
       "      <td>1.110223e-16</td>\n",
       "      <td>5</td>\n",
       "    </tr>\n",
       "    <tr>\n",
       "      <th>1</th>\n",
       "      <td>3</td>\n",
       "      <td>{'max_depth': 1, 'min_samples_split': 3}</td>\n",
       "      <td>0.700</td>\n",
       "      <td>0.7</td>\n",
       "      <td>0.70</td>\n",
       "      <td>0.700000</td>\n",
       "      <td>1.110223e-16</td>\n",
       "      <td>5</td>\n",
       "    </tr>\n",
       "    <tr>\n",
       "      <th>2</th>\n",
       "      <td>2</td>\n",
       "      <td>{'max_depth': 2, 'min_samples_split': 2}</td>\n",
       "      <td>0.925</td>\n",
       "      <td>1.0</td>\n",
       "      <td>0.95</td>\n",
       "      <td>0.958333</td>\n",
       "      <td>3.118048e-02</td>\n",
       "      <td>3</td>\n",
       "    </tr>\n",
       "    <tr>\n",
       "      <th>3</th>\n",
       "      <td>3</td>\n",
       "      <td>{'max_depth': 2, 'min_samples_split': 3}</td>\n",
       "      <td>0.925</td>\n",
       "      <td>1.0</td>\n",
       "      <td>0.95</td>\n",
       "      <td>0.958333</td>\n",
       "      <td>3.118048e-02</td>\n",
       "      <td>3</td>\n",
       "    </tr>\n",
       "    <tr>\n",
       "      <th>4</th>\n",
       "      <td>2</td>\n",
       "      <td>{'max_depth': 3, 'min_samples_split': 2}</td>\n",
       "      <td>0.975</td>\n",
       "      <td>1.0</td>\n",
       "      <td>0.95</td>\n",
       "      <td>0.975000</td>\n",
       "      <td>2.041241e-02</td>\n",
       "      <td>1</td>\n",
       "    </tr>\n",
       "    <tr>\n",
       "      <th>5</th>\n",
       "      <td>3</td>\n",
       "      <td>{'max_depth': 3, 'min_samples_split': 3}</td>\n",
       "      <td>0.975</td>\n",
       "      <td>1.0</td>\n",
       "      <td>0.95</td>\n",
       "      <td>0.975000</td>\n",
       "      <td>2.041241e-02</td>\n",
       "      <td>1</td>\n",
       "    </tr>\n",
       "  </tbody>\n",
       "</table>\n",
       "</div>"
      ],
      "text/plain": [
       "  param_min_samples_split                                    params  \\\n",
       "0                       2  {'max_depth': 1, 'min_samples_split': 2}   \n",
       "1                       3  {'max_depth': 1, 'min_samples_split': 3}   \n",
       "2                       2  {'max_depth': 2, 'min_samples_split': 2}   \n",
       "3                       3  {'max_depth': 2, 'min_samples_split': 3}   \n",
       "4                       2  {'max_depth': 3, 'min_samples_split': 2}   \n",
       "5                       3  {'max_depth': 3, 'min_samples_split': 3}   \n",
       "\n",
       "   split0_test_score  split1_test_score  split2_test_score  mean_test_score  \\\n",
       "0              0.700                0.7               0.70         0.700000   \n",
       "1              0.700                0.7               0.70         0.700000   \n",
       "2              0.925                1.0               0.95         0.958333   \n",
       "3              0.925                1.0               0.95         0.958333   \n",
       "4              0.975                1.0               0.95         0.975000   \n",
       "5              0.975                1.0               0.95         0.975000   \n",
       "\n",
       "   std_test_score  rank_test_score  \n",
       "0    1.110223e-16                5  \n",
       "1    1.110223e-16                5  \n",
       "2    3.118048e-02                3  \n",
       "3    3.118048e-02                3  \n",
       "4    2.041241e-02                1  \n",
       "5    2.041241e-02                1  "
      ]
     },
     "execution_count": 7,
     "metadata": {},
     "output_type": "execute_result"
    }
   ],
   "source": [
    "import pandas as pd\n",
    "\n",
    "pd.DataFrame(grid_tree.cv_results_).iloc[:,5:] \n",
    "#보기 좋게 데이터프레임으로 변경함"
   ]
  },
  {
   "cell_type": "markdown",
   "id": "9c2193ba-1507-422c-ab7a-9ac433dbbb0d",
   "metadata": {},
   "source": [
    "## 2) best_params_, grid_tree.best_score_\n",
    ": 최적 파라미터, 최고 정확도"
   ]
  },
  {
   "cell_type": "code",
   "execution_count": 8,
   "id": "28394cc7-098e-40d4-aff5-35270ca5103b",
   "metadata": {},
   "outputs": [
    {
     "data": {
      "text/plain": [
       "{'max_depth': 3, 'min_samples_split': 2}"
      ]
     },
     "execution_count": 8,
     "metadata": {},
     "output_type": "execute_result"
    }
   ],
   "source": [
    "grid_tree.best_params_"
   ]
  },
  {
   "cell_type": "markdown",
   "id": "f040614b-5809-4889-942d-9c59d06ba2f5",
   "metadata": {},
   "source": [
    "\n",
    "grid_parameters = {'max_depth':[1,2,3], 'min_samples_split': [2,3]} 에서 \n",
    "\n",
    "격자로 곱해줘서 가장 좋은걸 찾아줌"
   ]
  },
  {
   "cell_type": "code",
   "execution_count": 10,
   "id": "b6a89f1e-3fcc-4254-88cb-6a66130cd6be",
   "metadata": {},
   "outputs": [
    {
     "data": {
      "text/plain": [
       "0.975"
      ]
     },
     "execution_count": 10,
     "metadata": {},
     "output_type": "execute_result"
    }
   ],
   "source": [
    "grid_tree.best_score_"
   ]
  },
  {
   "cell_type": "code",
   "execution_count": 11,
   "id": "08e2b0bb-f18b-4ec4-b153-6427d9759dab",
   "metadata": {},
   "outputs": [
    {
     "data": {
      "text/plain": [
       "array([1, 2, 1, 0, 0, 1, 1, 1, 1, 2, 2, 1, 1, 0, 0, 2, 1, 0, 2, 0, 2, 2,\n",
       "       1, 1, 1, 1, 0, 0, 2, 2])"
      ]
     },
     "execution_count": 11,
     "metadata": {},
     "output_type": "execute_result"
    }
   ],
   "source": [
    "pred = grid_tree.predict(X_test)\n",
    "pred"
   ]
  },
  {
   "cell_type": "code",
   "execution_count": 12,
   "id": "55f3bda4-7c42-4bf3-af8e-29fb4e0f6868",
   "metadata": {},
   "outputs": [
    {
     "data": {
      "text/plain": [
       "0.9666666666666667"
      ]
     },
     "execution_count": 12,
     "metadata": {},
     "output_type": "execute_result"
    }
   ],
   "source": [
    "accuracy_score(y_test, pred)"
   ]
  },
  {
   "cell_type": "markdown",
   "id": "de961d6c-4199-4603-a8e6-bb1a97c0d49f",
   "metadata": {},
   "source": [
    "# < 피처 스케일링 >\n",
    "- feature scaling\n",
    "- 서로 다른 변수의 값 범위를 일정한 수준으로 맞추는 작업\n",
    "- 대표적인 방법으로 1) 표준화 2) 정규화가 있다."
   ]
  },
  {
   "cell_type": "markdown",
   "id": "59ee1f8e-eb01-4ae6-9426-c102496832cf",
   "metadata": {},
   "source": [
    "## → 표준화(Standardization)\n",
    ": 이상치(극단적으로 크거나 작은값)에 영향을 적게 받습니다."
   ]
  },
  {
   "cell_type": "code",
   "execution_count": 16,
   "id": "79f84780-0c45-456b-a0aa-5a666fb26cd9",
   "metadata": {
    "collapsed": true,
    "jupyter": {
     "outputs_hidden": true
    },
    "tags": []
   },
   "outputs": [
    {
     "data": {
      "text/html": [
       "<div>\n",
       "<style scoped>\n",
       "    .dataframe tbody tr th:only-of-type {\n",
       "        vertical-align: middle;\n",
       "    }\n",
       "\n",
       "    .dataframe tbody tr th {\n",
       "        vertical-align: top;\n",
       "    }\n",
       "\n",
       "    .dataframe thead th {\n",
       "        text-align: right;\n",
       "    }\n",
       "</style>\n",
       "<table border=\"1\" class=\"dataframe\">\n",
       "  <thead>\n",
       "    <tr style=\"text-align: right;\">\n",
       "      <th></th>\n",
       "      <th>0</th>\n",
       "      <th>1</th>\n",
       "      <th>2</th>\n",
       "      <th>3</th>\n",
       "    </tr>\n",
       "  </thead>\n",
       "  <tbody>\n",
       "    <tr>\n",
       "      <th>0</th>\n",
       "      <td>5.1</td>\n",
       "      <td>3.5</td>\n",
       "      <td>1.4</td>\n",
       "      <td>0.2</td>\n",
       "    </tr>\n",
       "    <tr>\n",
       "      <th>1</th>\n",
       "      <td>4.9</td>\n",
       "      <td>3.0</td>\n",
       "      <td>1.4</td>\n",
       "      <td>0.2</td>\n",
       "    </tr>\n",
       "    <tr>\n",
       "      <th>2</th>\n",
       "      <td>4.7</td>\n",
       "      <td>3.2</td>\n",
       "      <td>1.3</td>\n",
       "      <td>0.2</td>\n",
       "    </tr>\n",
       "    <tr>\n",
       "      <th>3</th>\n",
       "      <td>4.6</td>\n",
       "      <td>3.1</td>\n",
       "      <td>1.5</td>\n",
       "      <td>0.2</td>\n",
       "    </tr>\n",
       "    <tr>\n",
       "      <th>4</th>\n",
       "      <td>5.0</td>\n",
       "      <td>3.6</td>\n",
       "      <td>1.4</td>\n",
       "      <td>0.2</td>\n",
       "    </tr>\n",
       "    <tr>\n",
       "      <th>...</th>\n",
       "      <td>...</td>\n",
       "      <td>...</td>\n",
       "      <td>...</td>\n",
       "      <td>...</td>\n",
       "    </tr>\n",
       "    <tr>\n",
       "      <th>145</th>\n",
       "      <td>6.7</td>\n",
       "      <td>3.0</td>\n",
       "      <td>5.2</td>\n",
       "      <td>2.3</td>\n",
       "    </tr>\n",
       "    <tr>\n",
       "      <th>146</th>\n",
       "      <td>6.3</td>\n",
       "      <td>2.5</td>\n",
       "      <td>5.0</td>\n",
       "      <td>1.9</td>\n",
       "    </tr>\n",
       "    <tr>\n",
       "      <th>147</th>\n",
       "      <td>6.5</td>\n",
       "      <td>3.0</td>\n",
       "      <td>5.2</td>\n",
       "      <td>2.0</td>\n",
       "    </tr>\n",
       "    <tr>\n",
       "      <th>148</th>\n",
       "      <td>6.2</td>\n",
       "      <td>3.4</td>\n",
       "      <td>5.4</td>\n",
       "      <td>2.3</td>\n",
       "    </tr>\n",
       "    <tr>\n",
       "      <th>149</th>\n",
       "      <td>5.9</td>\n",
       "      <td>3.0</td>\n",
       "      <td>5.1</td>\n",
       "      <td>1.8</td>\n",
       "    </tr>\n",
       "  </tbody>\n",
       "</table>\n",
       "<p>150 rows × 4 columns</p>\n",
       "</div>"
      ],
      "text/plain": [
       "       0    1    2    3\n",
       "0    5.1  3.5  1.4  0.2\n",
       "1    4.9  3.0  1.4  0.2\n",
       "2    4.7  3.2  1.3  0.2\n",
       "3    4.6  3.1  1.5  0.2\n",
       "4    5.0  3.6  1.4  0.2\n",
       "..   ...  ...  ...  ...\n",
       "145  6.7  3.0  5.2  2.3\n",
       "146  6.3  2.5  5.0  1.9\n",
       "147  6.5  3.0  5.2  2.0\n",
       "148  6.2  3.4  5.4  2.3\n",
       "149  5.9  3.0  5.1  1.8\n",
       "\n",
       "[150 rows x 4 columns]"
      ]
     },
     "execution_count": 16,
     "metadata": {},
     "output_type": "execute_result"
    }
   ],
   "source": [
    "iris = iris['data']\n",
    "iris_df = pd.DataFrame(iris)\n",
    "iris_df"
   ]
  },
  {
   "cell_type": "code",
   "execution_count": 25,
   "id": "be1c6b42-6640-433b-8480-dbb6b9018ddf",
   "metadata": {},
   "outputs": [],
   "source": [
    "# standardize( )으로 함수 만들기\n",
    "def standardize(x):\n",
    "    return (x - x.mean()) / x.std()"
   ]
  },
  {
   "cell_type": "code",
   "execution_count": 18,
   "id": "70c53b72-b00f-42f1-a8b1-cf7b998d208f",
   "metadata": {},
   "outputs": [
    {
     "data": {
      "text/plain": [
       "0   -1.457168e-15\n",
       "1   -1.638319e-15\n",
       "2   -1.292300e-15\n",
       "3   -5.543714e-16\n",
       "dtype: float64"
      ]
     },
     "execution_count": 18,
     "metadata": {},
     "output_type": "execute_result"
    }
   ],
   "source": [
    "iris_df.apply(standardize).mean()  "
   ]
  },
  {
   "cell_type": "markdown",
   "id": "a1ebc3f4-593c-4378-bca2-fb0c8eee4098",
   "metadata": {},
   "source": [
    "평균이 0이 나오면 잘 나온것 \n",
    "\n",
    "e-16 이런식으로 나오면 0으로 나온것임."
   ]
  },
  {
   "cell_type": "markdown",
   "id": "4b102377-59ef-48ed-8110-20582a30fca0",
   "metadata": {
    "tags": []
   },
   "source": [
    "### ▶ StandardScaler() : 한 번에 표준화"
   ]
  },
  {
   "cell_type": "code",
   "execution_count": 19,
   "id": "f252edfa-12cf-4de1-ae29-15c8dce45336",
   "metadata": {},
   "outputs": [],
   "source": [
    "from sklearn.preprocessing import StandardScaler"
   ]
  },
  {
   "cell_type": "code",
   "execution_count": 23,
   "id": "b5cfad06-1857-4999-a588-67b62830c521",
   "metadata": {
    "collapsed": true,
    "jupyter": {
     "outputs_hidden": true
    },
    "tags": []
   },
   "outputs": [
    {
     "data": {
      "text/plain": [
       "array([[-9.00681170e-01,  1.01900435e+00, -1.34022653e+00,\n",
       "        -1.31544430e+00],\n",
       "       [-1.14301691e+00, -1.31979479e-01, -1.34022653e+00,\n",
       "        -1.31544430e+00],\n",
       "       [-1.38535265e+00,  3.28414053e-01, -1.39706395e+00,\n",
       "        -1.31544430e+00],\n",
       "       [-1.50652052e+00,  9.82172869e-02, -1.28338910e+00,\n",
       "        -1.31544430e+00],\n",
       "       [-1.02184904e+00,  1.24920112e+00, -1.34022653e+00,\n",
       "        -1.31544430e+00],\n",
       "       [-5.37177559e-01,  1.93979142e+00, -1.16971425e+00,\n",
       "        -1.05217993e+00],\n",
       "       [-1.50652052e+00,  7.88807586e-01, -1.34022653e+00,\n",
       "        -1.18381211e+00],\n",
       "       [-1.02184904e+00,  7.88807586e-01, -1.28338910e+00,\n",
       "        -1.31544430e+00],\n",
       "       [-1.74885626e+00, -3.62176246e-01, -1.34022653e+00,\n",
       "        -1.31544430e+00],\n",
       "       [-1.14301691e+00,  9.82172869e-02, -1.28338910e+00,\n",
       "        -1.44707648e+00],\n",
       "       [-5.37177559e-01,  1.47939788e+00, -1.28338910e+00,\n",
       "        -1.31544430e+00],\n",
       "       [-1.26418478e+00,  7.88807586e-01, -1.22655167e+00,\n",
       "        -1.31544430e+00],\n",
       "       [-1.26418478e+00, -1.31979479e-01, -1.34022653e+00,\n",
       "        -1.44707648e+00],\n",
       "       [-1.87002413e+00, -1.31979479e-01, -1.51073881e+00,\n",
       "        -1.44707648e+00],\n",
       "       [-5.25060772e-02,  2.16998818e+00, -1.45390138e+00,\n",
       "        -1.31544430e+00],\n",
       "       [-1.73673948e-01,  3.09077525e+00, -1.28338910e+00,\n",
       "        -1.05217993e+00],\n",
       "       [-5.37177559e-01,  1.93979142e+00, -1.39706395e+00,\n",
       "        -1.05217993e+00],\n",
       "       [-9.00681170e-01,  1.01900435e+00, -1.34022653e+00,\n",
       "        -1.18381211e+00],\n",
       "       [-1.73673948e-01,  1.70959465e+00, -1.16971425e+00,\n",
       "        -1.18381211e+00],\n",
       "       [-9.00681170e-01,  1.70959465e+00, -1.28338910e+00,\n",
       "        -1.18381211e+00],\n",
       "       [-5.37177559e-01,  7.88807586e-01, -1.16971425e+00,\n",
       "        -1.31544430e+00],\n",
       "       [-9.00681170e-01,  1.47939788e+00, -1.28338910e+00,\n",
       "        -1.05217993e+00],\n",
       "       [-1.50652052e+00,  1.24920112e+00, -1.56757623e+00,\n",
       "        -1.31544430e+00],\n",
       "       [-9.00681170e-01,  5.58610819e-01, -1.16971425e+00,\n",
       "        -9.20547742e-01],\n",
       "       [-1.26418478e+00,  7.88807586e-01, -1.05603939e+00,\n",
       "        -1.31544430e+00],\n",
       "       [-1.02184904e+00, -1.31979479e-01, -1.22655167e+00,\n",
       "        -1.31544430e+00],\n",
       "       [-1.02184904e+00,  7.88807586e-01, -1.22655167e+00,\n",
       "        -1.05217993e+00],\n",
       "       [-7.79513300e-01,  1.01900435e+00, -1.28338910e+00,\n",
       "        -1.31544430e+00],\n",
       "       [-7.79513300e-01,  7.88807586e-01, -1.34022653e+00,\n",
       "        -1.31544430e+00],\n",
       "       [-1.38535265e+00,  3.28414053e-01, -1.22655167e+00,\n",
       "        -1.31544430e+00],\n",
       "       [-1.26418478e+00,  9.82172869e-02, -1.22655167e+00,\n",
       "        -1.31544430e+00],\n",
       "       [-5.37177559e-01,  7.88807586e-01, -1.28338910e+00,\n",
       "        -1.05217993e+00],\n",
       "       [-7.79513300e-01,  2.40018495e+00, -1.28338910e+00,\n",
       "        -1.44707648e+00],\n",
       "       [-4.16009689e-01,  2.63038172e+00, -1.34022653e+00,\n",
       "        -1.31544430e+00],\n",
       "       [-1.14301691e+00,  9.82172869e-02, -1.28338910e+00,\n",
       "        -1.31544430e+00],\n",
       "       [-1.02184904e+00,  3.28414053e-01, -1.45390138e+00,\n",
       "        -1.31544430e+00],\n",
       "       [-4.16009689e-01,  1.01900435e+00, -1.39706395e+00,\n",
       "        -1.31544430e+00],\n",
       "       [-1.14301691e+00,  1.24920112e+00, -1.34022653e+00,\n",
       "        -1.44707648e+00],\n",
       "       [-1.74885626e+00, -1.31979479e-01, -1.39706395e+00,\n",
       "        -1.31544430e+00],\n",
       "       [-9.00681170e-01,  7.88807586e-01, -1.28338910e+00,\n",
       "        -1.31544430e+00],\n",
       "       [-1.02184904e+00,  1.01900435e+00, -1.39706395e+00,\n",
       "        -1.18381211e+00],\n",
       "       [-1.62768839e+00, -1.74335684e+00, -1.39706395e+00,\n",
       "        -1.18381211e+00],\n",
       "       [-1.74885626e+00,  3.28414053e-01, -1.39706395e+00,\n",
       "        -1.31544430e+00],\n",
       "       [-1.02184904e+00,  1.01900435e+00, -1.22655167e+00,\n",
       "        -7.88915558e-01],\n",
       "       [-9.00681170e-01,  1.70959465e+00, -1.05603939e+00,\n",
       "        -1.05217993e+00],\n",
       "       [-1.26418478e+00, -1.31979479e-01, -1.34022653e+00,\n",
       "        -1.18381211e+00],\n",
       "       [-9.00681170e-01,  1.70959465e+00, -1.22655167e+00,\n",
       "        -1.31544430e+00],\n",
       "       [-1.50652052e+00,  3.28414053e-01, -1.34022653e+00,\n",
       "        -1.31544430e+00],\n",
       "       [-6.58345429e-01,  1.47939788e+00, -1.28338910e+00,\n",
       "        -1.31544430e+00],\n",
       "       [-1.02184904e+00,  5.58610819e-01, -1.34022653e+00,\n",
       "        -1.31544430e+00],\n",
       "       [ 1.40150837e+00,  3.28414053e-01,  5.35408562e-01,\n",
       "         2.64141916e-01],\n",
       "       [ 6.74501145e-01,  3.28414053e-01,  4.21733708e-01,\n",
       "         3.95774101e-01],\n",
       "       [ 1.28034050e+00,  9.82172869e-02,  6.49083415e-01,\n",
       "         3.95774101e-01],\n",
       "       [-4.16009689e-01, -1.74335684e+00,  1.37546573e-01,\n",
       "         1.32509732e-01],\n",
       "       [ 7.95669016e-01, -5.92373012e-01,  4.78571135e-01,\n",
       "         3.95774101e-01],\n",
       "       [-1.73673948e-01, -5.92373012e-01,  4.21733708e-01,\n",
       "         1.32509732e-01],\n",
       "       [ 5.53333275e-01,  5.58610819e-01,  5.35408562e-01,\n",
       "         5.27406285e-01],\n",
       "       [-1.14301691e+00, -1.51316008e+00, -2.60315415e-01,\n",
       "        -2.62386821e-01],\n",
       "       [ 9.16836886e-01, -3.62176246e-01,  4.78571135e-01,\n",
       "         1.32509732e-01],\n",
       "       [-7.79513300e-01, -8.22569778e-01,  8.07091462e-02,\n",
       "         2.64141916e-01],\n",
       "       [-1.02184904e+00, -2.43394714e+00, -1.46640561e-01,\n",
       "        -2.62386821e-01],\n",
       "       [ 6.86617933e-02, -1.31979479e-01,  2.51221427e-01,\n",
       "         3.95774101e-01],\n",
       "       [ 1.89829664e-01, -1.97355361e+00,  1.37546573e-01,\n",
       "        -2.62386821e-01],\n",
       "       [ 3.10997534e-01, -3.62176246e-01,  5.35408562e-01,\n",
       "         2.64141916e-01],\n",
       "       [-2.94841818e-01, -3.62176246e-01, -8.98031345e-02,\n",
       "         1.32509732e-01],\n",
       "       [ 1.03800476e+00,  9.82172869e-02,  3.64896281e-01,\n",
       "         2.64141916e-01],\n",
       "       [-2.94841818e-01, -1.31979479e-01,  4.21733708e-01,\n",
       "         3.95774101e-01],\n",
       "       [-5.25060772e-02, -8.22569778e-01,  1.94384000e-01,\n",
       "        -2.62386821e-01],\n",
       "       [ 4.32165405e-01, -1.97355361e+00,  4.21733708e-01,\n",
       "         3.95774101e-01],\n",
       "       [-2.94841818e-01, -1.28296331e+00,  8.07091462e-02,\n",
       "        -1.30754636e-01],\n",
       "       [ 6.86617933e-02,  3.28414053e-01,  5.92245988e-01,\n",
       "         7.90670654e-01],\n",
       "       [ 3.10997534e-01, -5.92373012e-01,  1.37546573e-01,\n",
       "         1.32509732e-01],\n",
       "       [ 5.53333275e-01, -1.28296331e+00,  6.49083415e-01,\n",
       "         3.95774101e-01],\n",
       "       [ 3.10997534e-01, -5.92373012e-01,  5.35408562e-01,\n",
       "         8.77547895e-04],\n",
       "       [ 6.74501145e-01, -3.62176246e-01,  3.08058854e-01,\n",
       "         1.32509732e-01],\n",
       "       [ 9.16836886e-01, -1.31979479e-01,  3.64896281e-01,\n",
       "         2.64141916e-01],\n",
       "       [ 1.15917263e+00, -5.92373012e-01,  5.92245988e-01,\n",
       "         2.64141916e-01],\n",
       "       [ 1.03800476e+00, -1.31979479e-01,  7.05920842e-01,\n",
       "         6.59038469e-01],\n",
       "       [ 1.89829664e-01, -3.62176246e-01,  4.21733708e-01,\n",
       "         3.95774101e-01],\n",
       "       [-1.73673948e-01, -1.05276654e+00, -1.46640561e-01,\n",
       "        -2.62386821e-01],\n",
       "       [-4.16009689e-01, -1.51316008e+00,  2.38717193e-02,\n",
       "        -1.30754636e-01],\n",
       "       [-4.16009689e-01, -1.51316008e+00, -3.29657076e-02,\n",
       "        -2.62386821e-01],\n",
       "       [-5.25060772e-02, -8.22569778e-01,  8.07091462e-02,\n",
       "         8.77547895e-04],\n",
       "       [ 1.89829664e-01, -8.22569778e-01,  7.62758269e-01,\n",
       "         5.27406285e-01],\n",
       "       [-5.37177559e-01, -1.31979479e-01,  4.21733708e-01,\n",
       "         3.95774101e-01],\n",
       "       [ 1.89829664e-01,  7.88807586e-01,  4.21733708e-01,\n",
       "         5.27406285e-01],\n",
       "       [ 1.03800476e+00,  9.82172869e-02,  5.35408562e-01,\n",
       "         3.95774101e-01],\n",
       "       [ 5.53333275e-01, -1.74335684e+00,  3.64896281e-01,\n",
       "         1.32509732e-01],\n",
       "       [-2.94841818e-01, -1.31979479e-01,  1.94384000e-01,\n",
       "         1.32509732e-01],\n",
       "       [-4.16009689e-01, -1.28296331e+00,  1.37546573e-01,\n",
       "         1.32509732e-01],\n",
       "       [-4.16009689e-01, -1.05276654e+00,  3.64896281e-01,\n",
       "         8.77547895e-04],\n",
       "       [ 3.10997534e-01, -1.31979479e-01,  4.78571135e-01,\n",
       "         2.64141916e-01],\n",
       "       [-5.25060772e-02, -1.05276654e+00,  1.37546573e-01,\n",
       "         8.77547895e-04],\n",
       "       [-1.02184904e+00, -1.74335684e+00, -2.60315415e-01,\n",
       "        -2.62386821e-01],\n",
       "       [-2.94841818e-01, -8.22569778e-01,  2.51221427e-01,\n",
       "         1.32509732e-01],\n",
       "       [-1.73673948e-01, -1.31979479e-01,  2.51221427e-01,\n",
       "         8.77547895e-04],\n",
       "       [-1.73673948e-01, -3.62176246e-01,  2.51221427e-01,\n",
       "         1.32509732e-01],\n",
       "       [ 4.32165405e-01, -3.62176246e-01,  3.08058854e-01,\n",
       "         1.32509732e-01],\n",
       "       [-9.00681170e-01, -1.28296331e+00, -4.30827696e-01,\n",
       "        -1.30754636e-01],\n",
       "       [-1.73673948e-01, -5.92373012e-01,  1.94384000e-01,\n",
       "         1.32509732e-01],\n",
       "       [ 5.53333275e-01,  5.58610819e-01,  1.27429511e+00,\n",
       "         1.71209594e+00],\n",
       "       [-5.25060772e-02, -8.22569778e-01,  7.62758269e-01,\n",
       "         9.22302838e-01],\n",
       "       [ 1.52267624e+00, -1.31979479e-01,  1.21745768e+00,\n",
       "         1.18556721e+00],\n",
       "       [ 5.53333275e-01, -3.62176246e-01,  1.04694540e+00,\n",
       "         7.90670654e-01],\n",
       "       [ 7.95669016e-01, -1.31979479e-01,  1.16062026e+00,\n",
       "         1.31719939e+00],\n",
       "       [ 2.12851559e+00, -1.31979479e-01,  1.61531967e+00,\n",
       "         1.18556721e+00],\n",
       "       [-1.14301691e+00, -1.28296331e+00,  4.21733708e-01,\n",
       "         6.59038469e-01],\n",
       "       [ 1.76501198e+00, -3.62176246e-01,  1.44480739e+00,\n",
       "         7.90670654e-01],\n",
       "       [ 1.03800476e+00, -1.28296331e+00,  1.16062026e+00,\n",
       "         7.90670654e-01],\n",
       "       [ 1.64384411e+00,  1.24920112e+00,  1.33113254e+00,\n",
       "         1.71209594e+00],\n",
       "       [ 7.95669016e-01,  3.28414053e-01,  7.62758269e-01,\n",
       "         1.05393502e+00],\n",
       "       [ 6.74501145e-01, -8.22569778e-01,  8.76433123e-01,\n",
       "         9.22302838e-01],\n",
       "       [ 1.15917263e+00, -1.31979479e-01,  9.90107977e-01,\n",
       "         1.18556721e+00],\n",
       "       [-1.73673948e-01, -1.28296331e+00,  7.05920842e-01,\n",
       "         1.05393502e+00],\n",
       "       [-5.25060772e-02, -5.92373012e-01,  7.62758269e-01,\n",
       "         1.58046376e+00],\n",
       "       [ 6.74501145e-01,  3.28414053e-01,  8.76433123e-01,\n",
       "         1.44883158e+00],\n",
       "       [ 7.95669016e-01, -1.31979479e-01,  9.90107977e-01,\n",
       "         7.90670654e-01],\n",
       "       [ 2.24968346e+00,  1.70959465e+00,  1.67215710e+00,\n",
       "         1.31719939e+00],\n",
       "       [ 2.24968346e+00, -1.05276654e+00,  1.78583195e+00,\n",
       "         1.44883158e+00],\n",
       "       [ 1.89829664e-01, -1.97355361e+00,  7.05920842e-01,\n",
       "         3.95774101e-01],\n",
       "       [ 1.28034050e+00,  3.28414053e-01,  1.10378283e+00,\n",
       "         1.44883158e+00],\n",
       "       [-2.94841818e-01, -5.92373012e-01,  6.49083415e-01,\n",
       "         1.05393502e+00],\n",
       "       [ 2.24968346e+00, -5.92373012e-01,  1.67215710e+00,\n",
       "         1.05393502e+00],\n",
       "       [ 5.53333275e-01, -8.22569778e-01,  6.49083415e-01,\n",
       "         7.90670654e-01],\n",
       "       [ 1.03800476e+00,  5.58610819e-01,  1.10378283e+00,\n",
       "         1.18556721e+00],\n",
       "       [ 1.64384411e+00,  3.28414053e-01,  1.27429511e+00,\n",
       "         7.90670654e-01],\n",
       "       [ 4.32165405e-01, -5.92373012e-01,  5.92245988e-01,\n",
       "         7.90670654e-01],\n",
       "       [ 3.10997534e-01, -1.31979479e-01,  6.49083415e-01,\n",
       "         7.90670654e-01],\n",
       "       [ 6.74501145e-01, -5.92373012e-01,  1.04694540e+00,\n",
       "         1.18556721e+00],\n",
       "       [ 1.64384411e+00, -1.31979479e-01,  1.16062026e+00,\n",
       "         5.27406285e-01],\n",
       "       [ 1.88617985e+00, -5.92373012e-01,  1.33113254e+00,\n",
       "         9.22302838e-01],\n",
       "       [ 2.49201920e+00,  1.70959465e+00,  1.50164482e+00,\n",
       "         1.05393502e+00],\n",
       "       [ 6.74501145e-01, -5.92373012e-01,  1.04694540e+00,\n",
       "         1.31719939e+00],\n",
       "       [ 5.53333275e-01, -5.92373012e-01,  7.62758269e-01,\n",
       "         3.95774101e-01],\n",
       "       [ 3.10997534e-01, -1.05276654e+00,  1.04694540e+00,\n",
       "         2.64141916e-01],\n",
       "       [ 2.24968346e+00, -1.31979479e-01,  1.33113254e+00,\n",
       "         1.44883158e+00],\n",
       "       [ 5.53333275e-01,  7.88807586e-01,  1.04694540e+00,\n",
       "         1.58046376e+00],\n",
       "       [ 6.74501145e-01,  9.82172869e-02,  9.90107977e-01,\n",
       "         7.90670654e-01],\n",
       "       [ 1.89829664e-01, -1.31979479e-01,  5.92245988e-01,\n",
       "         7.90670654e-01],\n",
       "       [ 1.28034050e+00,  9.82172869e-02,  9.33270550e-01,\n",
       "         1.18556721e+00],\n",
       "       [ 1.03800476e+00,  9.82172869e-02,  1.04694540e+00,\n",
       "         1.58046376e+00],\n",
       "       [ 1.28034050e+00,  9.82172869e-02,  7.62758269e-01,\n",
       "         1.44883158e+00],\n",
       "       [-5.25060772e-02, -8.22569778e-01,  7.62758269e-01,\n",
       "         9.22302838e-01],\n",
       "       [ 1.15917263e+00,  3.28414053e-01,  1.21745768e+00,\n",
       "         1.44883158e+00],\n",
       "       [ 1.03800476e+00,  5.58610819e-01,  1.10378283e+00,\n",
       "         1.71209594e+00],\n",
       "       [ 1.03800476e+00, -1.31979479e-01,  8.19595696e-01,\n",
       "         1.44883158e+00],\n",
       "       [ 5.53333275e-01, -1.28296331e+00,  7.05920842e-01,\n",
       "         9.22302838e-01],\n",
       "       [ 7.95669016e-01, -1.31979479e-01,  8.19595696e-01,\n",
       "         1.05393502e+00],\n",
       "       [ 4.32165405e-01,  7.88807586e-01,  9.33270550e-01,\n",
       "         1.44883158e+00],\n",
       "       [ 6.86617933e-02, -1.31979479e-01,  7.62758269e-01,\n",
       "         7.90670654e-01]])"
      ]
     },
     "execution_count": 23,
     "metadata": {},
     "output_type": "execute_result"
    }
   ],
   "source": [
    "scaler = StandardScaler()\n",
    "scaler.fit(iris_df)\n",
    "iris_scaled = scaler.transform(iris_df)\n",
    "iris_scaled"
   ]
  },
  {
   "cell_type": "markdown",
   "id": "775896f3-1bf5-41ca-9084-d2dec106b431",
   "metadata": {},
   "source": [
    "### ▶ MinMaxScaler() : 데이터값을 0,1로 변환"
   ]
  },
  {
   "cell_type": "code",
   "execution_count": 27,
   "id": "f7a40095-2f12-475c-8e05-dc44b0447d85",
   "metadata": {},
   "outputs": [],
   "source": [
    "from sklearn.preprocessing import MinMaxScaler"
   ]
  },
  {
   "cell_type": "code",
   "execution_count": 28,
   "id": "ba9055cc-ee10-4dae-936e-34b6c0bbfea3",
   "metadata": {
    "collapsed": true,
    "jupyter": {
     "outputs_hidden": true
    },
    "tags": []
   },
   "outputs": [
    {
     "data": {
      "text/plain": [
       "array([[0.22222222, 0.625     , 0.06779661, 0.04166667],\n",
       "       [0.16666667, 0.41666667, 0.06779661, 0.04166667],\n",
       "       [0.11111111, 0.5       , 0.05084746, 0.04166667],\n",
       "       [0.08333333, 0.45833333, 0.08474576, 0.04166667],\n",
       "       [0.19444444, 0.66666667, 0.06779661, 0.04166667],\n",
       "       [0.30555556, 0.79166667, 0.11864407, 0.125     ],\n",
       "       [0.08333333, 0.58333333, 0.06779661, 0.08333333],\n",
       "       [0.19444444, 0.58333333, 0.08474576, 0.04166667],\n",
       "       [0.02777778, 0.375     , 0.06779661, 0.04166667],\n",
       "       [0.16666667, 0.45833333, 0.08474576, 0.        ],\n",
       "       [0.30555556, 0.70833333, 0.08474576, 0.04166667],\n",
       "       [0.13888889, 0.58333333, 0.10169492, 0.04166667],\n",
       "       [0.13888889, 0.41666667, 0.06779661, 0.        ],\n",
       "       [0.        , 0.41666667, 0.01694915, 0.        ],\n",
       "       [0.41666667, 0.83333333, 0.03389831, 0.04166667],\n",
       "       [0.38888889, 1.        , 0.08474576, 0.125     ],\n",
       "       [0.30555556, 0.79166667, 0.05084746, 0.125     ],\n",
       "       [0.22222222, 0.625     , 0.06779661, 0.08333333],\n",
       "       [0.38888889, 0.75      , 0.11864407, 0.08333333],\n",
       "       [0.22222222, 0.75      , 0.08474576, 0.08333333],\n",
       "       [0.30555556, 0.58333333, 0.11864407, 0.04166667],\n",
       "       [0.22222222, 0.70833333, 0.08474576, 0.125     ],\n",
       "       [0.08333333, 0.66666667, 0.        , 0.04166667],\n",
       "       [0.22222222, 0.54166667, 0.11864407, 0.16666667],\n",
       "       [0.13888889, 0.58333333, 0.15254237, 0.04166667],\n",
       "       [0.19444444, 0.41666667, 0.10169492, 0.04166667],\n",
       "       [0.19444444, 0.58333333, 0.10169492, 0.125     ],\n",
       "       [0.25      , 0.625     , 0.08474576, 0.04166667],\n",
       "       [0.25      , 0.58333333, 0.06779661, 0.04166667],\n",
       "       [0.11111111, 0.5       , 0.10169492, 0.04166667],\n",
       "       [0.13888889, 0.45833333, 0.10169492, 0.04166667],\n",
       "       [0.30555556, 0.58333333, 0.08474576, 0.125     ],\n",
       "       [0.25      , 0.875     , 0.08474576, 0.        ],\n",
       "       [0.33333333, 0.91666667, 0.06779661, 0.04166667],\n",
       "       [0.16666667, 0.45833333, 0.08474576, 0.04166667],\n",
       "       [0.19444444, 0.5       , 0.03389831, 0.04166667],\n",
       "       [0.33333333, 0.625     , 0.05084746, 0.04166667],\n",
       "       [0.16666667, 0.66666667, 0.06779661, 0.        ],\n",
       "       [0.02777778, 0.41666667, 0.05084746, 0.04166667],\n",
       "       [0.22222222, 0.58333333, 0.08474576, 0.04166667],\n",
       "       [0.19444444, 0.625     , 0.05084746, 0.08333333],\n",
       "       [0.05555556, 0.125     , 0.05084746, 0.08333333],\n",
       "       [0.02777778, 0.5       , 0.05084746, 0.04166667],\n",
       "       [0.19444444, 0.625     , 0.10169492, 0.20833333],\n",
       "       [0.22222222, 0.75      , 0.15254237, 0.125     ],\n",
       "       [0.13888889, 0.41666667, 0.06779661, 0.08333333],\n",
       "       [0.22222222, 0.75      , 0.10169492, 0.04166667],\n",
       "       [0.08333333, 0.5       , 0.06779661, 0.04166667],\n",
       "       [0.27777778, 0.70833333, 0.08474576, 0.04166667],\n",
       "       [0.19444444, 0.54166667, 0.06779661, 0.04166667],\n",
       "       [0.75      , 0.5       , 0.62711864, 0.54166667],\n",
       "       [0.58333333, 0.5       , 0.59322034, 0.58333333],\n",
       "       [0.72222222, 0.45833333, 0.66101695, 0.58333333],\n",
       "       [0.33333333, 0.125     , 0.50847458, 0.5       ],\n",
       "       [0.61111111, 0.33333333, 0.61016949, 0.58333333],\n",
       "       [0.38888889, 0.33333333, 0.59322034, 0.5       ],\n",
       "       [0.55555556, 0.54166667, 0.62711864, 0.625     ],\n",
       "       [0.16666667, 0.16666667, 0.38983051, 0.375     ],\n",
       "       [0.63888889, 0.375     , 0.61016949, 0.5       ],\n",
       "       [0.25      , 0.29166667, 0.49152542, 0.54166667],\n",
       "       [0.19444444, 0.        , 0.42372881, 0.375     ],\n",
       "       [0.44444444, 0.41666667, 0.54237288, 0.58333333],\n",
       "       [0.47222222, 0.08333333, 0.50847458, 0.375     ],\n",
       "       [0.5       , 0.375     , 0.62711864, 0.54166667],\n",
       "       [0.36111111, 0.375     , 0.44067797, 0.5       ],\n",
       "       [0.66666667, 0.45833333, 0.57627119, 0.54166667],\n",
       "       [0.36111111, 0.41666667, 0.59322034, 0.58333333],\n",
       "       [0.41666667, 0.29166667, 0.52542373, 0.375     ],\n",
       "       [0.52777778, 0.08333333, 0.59322034, 0.58333333],\n",
       "       [0.36111111, 0.20833333, 0.49152542, 0.41666667],\n",
       "       [0.44444444, 0.5       , 0.6440678 , 0.70833333],\n",
       "       [0.5       , 0.33333333, 0.50847458, 0.5       ],\n",
       "       [0.55555556, 0.20833333, 0.66101695, 0.58333333],\n",
       "       [0.5       , 0.33333333, 0.62711864, 0.45833333],\n",
       "       [0.58333333, 0.375     , 0.55932203, 0.5       ],\n",
       "       [0.63888889, 0.41666667, 0.57627119, 0.54166667],\n",
       "       [0.69444444, 0.33333333, 0.6440678 , 0.54166667],\n",
       "       [0.66666667, 0.41666667, 0.6779661 , 0.66666667],\n",
       "       [0.47222222, 0.375     , 0.59322034, 0.58333333],\n",
       "       [0.38888889, 0.25      , 0.42372881, 0.375     ],\n",
       "       [0.33333333, 0.16666667, 0.47457627, 0.41666667],\n",
       "       [0.33333333, 0.16666667, 0.45762712, 0.375     ],\n",
       "       [0.41666667, 0.29166667, 0.49152542, 0.45833333],\n",
       "       [0.47222222, 0.29166667, 0.69491525, 0.625     ],\n",
       "       [0.30555556, 0.41666667, 0.59322034, 0.58333333],\n",
       "       [0.47222222, 0.58333333, 0.59322034, 0.625     ],\n",
       "       [0.66666667, 0.45833333, 0.62711864, 0.58333333],\n",
       "       [0.55555556, 0.125     , 0.57627119, 0.5       ],\n",
       "       [0.36111111, 0.41666667, 0.52542373, 0.5       ],\n",
       "       [0.33333333, 0.20833333, 0.50847458, 0.5       ],\n",
       "       [0.33333333, 0.25      , 0.57627119, 0.45833333],\n",
       "       [0.5       , 0.41666667, 0.61016949, 0.54166667],\n",
       "       [0.41666667, 0.25      , 0.50847458, 0.45833333],\n",
       "       [0.19444444, 0.125     , 0.38983051, 0.375     ],\n",
       "       [0.36111111, 0.29166667, 0.54237288, 0.5       ],\n",
       "       [0.38888889, 0.41666667, 0.54237288, 0.45833333],\n",
       "       [0.38888889, 0.375     , 0.54237288, 0.5       ],\n",
       "       [0.52777778, 0.375     , 0.55932203, 0.5       ],\n",
       "       [0.22222222, 0.20833333, 0.33898305, 0.41666667],\n",
       "       [0.38888889, 0.33333333, 0.52542373, 0.5       ],\n",
       "       [0.55555556, 0.54166667, 0.84745763, 1.        ],\n",
       "       [0.41666667, 0.29166667, 0.69491525, 0.75      ],\n",
       "       [0.77777778, 0.41666667, 0.83050847, 0.83333333],\n",
       "       [0.55555556, 0.375     , 0.77966102, 0.70833333],\n",
       "       [0.61111111, 0.41666667, 0.81355932, 0.875     ],\n",
       "       [0.91666667, 0.41666667, 0.94915254, 0.83333333],\n",
       "       [0.16666667, 0.20833333, 0.59322034, 0.66666667],\n",
       "       [0.83333333, 0.375     , 0.89830508, 0.70833333],\n",
       "       [0.66666667, 0.20833333, 0.81355932, 0.70833333],\n",
       "       [0.80555556, 0.66666667, 0.86440678, 1.        ],\n",
       "       [0.61111111, 0.5       , 0.69491525, 0.79166667],\n",
       "       [0.58333333, 0.29166667, 0.72881356, 0.75      ],\n",
       "       [0.69444444, 0.41666667, 0.76271186, 0.83333333],\n",
       "       [0.38888889, 0.20833333, 0.6779661 , 0.79166667],\n",
       "       [0.41666667, 0.33333333, 0.69491525, 0.95833333],\n",
       "       [0.58333333, 0.5       , 0.72881356, 0.91666667],\n",
       "       [0.61111111, 0.41666667, 0.76271186, 0.70833333],\n",
       "       [0.94444444, 0.75      , 0.96610169, 0.875     ],\n",
       "       [0.94444444, 0.25      , 1.        , 0.91666667],\n",
       "       [0.47222222, 0.08333333, 0.6779661 , 0.58333333],\n",
       "       [0.72222222, 0.5       , 0.79661017, 0.91666667],\n",
       "       [0.36111111, 0.33333333, 0.66101695, 0.79166667],\n",
       "       [0.94444444, 0.33333333, 0.96610169, 0.79166667],\n",
       "       [0.55555556, 0.29166667, 0.66101695, 0.70833333],\n",
       "       [0.66666667, 0.54166667, 0.79661017, 0.83333333],\n",
       "       [0.80555556, 0.5       , 0.84745763, 0.70833333],\n",
       "       [0.52777778, 0.33333333, 0.6440678 , 0.70833333],\n",
       "       [0.5       , 0.41666667, 0.66101695, 0.70833333],\n",
       "       [0.58333333, 0.33333333, 0.77966102, 0.83333333],\n",
       "       [0.80555556, 0.41666667, 0.81355932, 0.625     ],\n",
       "       [0.86111111, 0.33333333, 0.86440678, 0.75      ],\n",
       "       [1.        , 0.75      , 0.91525424, 0.79166667],\n",
       "       [0.58333333, 0.33333333, 0.77966102, 0.875     ],\n",
       "       [0.55555556, 0.33333333, 0.69491525, 0.58333333],\n",
       "       [0.5       , 0.25      , 0.77966102, 0.54166667],\n",
       "       [0.94444444, 0.41666667, 0.86440678, 0.91666667],\n",
       "       [0.55555556, 0.58333333, 0.77966102, 0.95833333],\n",
       "       [0.58333333, 0.45833333, 0.76271186, 0.70833333],\n",
       "       [0.47222222, 0.41666667, 0.6440678 , 0.70833333],\n",
       "       [0.72222222, 0.45833333, 0.74576271, 0.83333333],\n",
       "       [0.66666667, 0.45833333, 0.77966102, 0.95833333],\n",
       "       [0.72222222, 0.45833333, 0.69491525, 0.91666667],\n",
       "       [0.41666667, 0.29166667, 0.69491525, 0.75      ],\n",
       "       [0.69444444, 0.5       , 0.83050847, 0.91666667],\n",
       "       [0.66666667, 0.54166667, 0.79661017, 1.        ],\n",
       "       [0.66666667, 0.41666667, 0.71186441, 0.91666667],\n",
       "       [0.55555556, 0.20833333, 0.6779661 , 0.75      ],\n",
       "       [0.61111111, 0.41666667, 0.71186441, 0.79166667],\n",
       "       [0.52777778, 0.58333333, 0.74576271, 0.91666667],\n",
       "       [0.44444444, 0.41666667, 0.69491525, 0.70833333]])"
      ]
     },
     "execution_count": 28,
     "metadata": {},
     "output_type": "execute_result"
    }
   ],
   "source": [
    "scaler = MinMaxScaler()\n",
    "scaler.fit(iris_df)\n",
    "iris_scaled = scaler.transform(iris_df)\n",
    "iris_scaled"
   ]
  },
  {
   "cell_type": "code",
   "execution_count": 30,
   "id": "5b4e1fd7-9343-479b-b990-9b49b57017e7",
   "metadata": {
    "collapsed": true,
    "jupyter": {
     "outputs_hidden": true
    },
    "tags": []
   },
   "outputs": [
    {
     "data": {
      "text/plain": [
       "array([[0.22222222, 0.625     , 0.06779661, 0.04166667],\n",
       "       [0.16666667, 0.41666667, 0.06779661, 0.04166667],\n",
       "       [0.11111111, 0.5       , 0.05084746, 0.04166667],\n",
       "       [0.08333333, 0.45833333, 0.08474576, 0.04166667],\n",
       "       [0.19444444, 0.66666667, 0.06779661, 0.04166667],\n",
       "       [0.30555556, 0.79166667, 0.11864407, 0.125     ],\n",
       "       [0.08333333, 0.58333333, 0.06779661, 0.08333333],\n",
       "       [0.19444444, 0.58333333, 0.08474576, 0.04166667],\n",
       "       [0.02777778, 0.375     , 0.06779661, 0.04166667],\n",
       "       [0.16666667, 0.45833333, 0.08474576, 0.        ],\n",
       "       [0.30555556, 0.70833333, 0.08474576, 0.04166667],\n",
       "       [0.13888889, 0.58333333, 0.10169492, 0.04166667],\n",
       "       [0.13888889, 0.41666667, 0.06779661, 0.        ],\n",
       "       [0.        , 0.41666667, 0.01694915, 0.        ],\n",
       "       [0.41666667, 0.83333333, 0.03389831, 0.04166667],\n",
       "       [0.38888889, 1.        , 0.08474576, 0.125     ],\n",
       "       [0.30555556, 0.79166667, 0.05084746, 0.125     ],\n",
       "       [0.22222222, 0.625     , 0.06779661, 0.08333333],\n",
       "       [0.38888889, 0.75      , 0.11864407, 0.08333333],\n",
       "       [0.22222222, 0.75      , 0.08474576, 0.08333333],\n",
       "       [0.30555556, 0.58333333, 0.11864407, 0.04166667],\n",
       "       [0.22222222, 0.70833333, 0.08474576, 0.125     ],\n",
       "       [0.08333333, 0.66666667, 0.        , 0.04166667],\n",
       "       [0.22222222, 0.54166667, 0.11864407, 0.16666667],\n",
       "       [0.13888889, 0.58333333, 0.15254237, 0.04166667],\n",
       "       [0.19444444, 0.41666667, 0.10169492, 0.04166667],\n",
       "       [0.19444444, 0.58333333, 0.10169492, 0.125     ],\n",
       "       [0.25      , 0.625     , 0.08474576, 0.04166667],\n",
       "       [0.25      , 0.58333333, 0.06779661, 0.04166667],\n",
       "       [0.11111111, 0.5       , 0.10169492, 0.04166667],\n",
       "       [0.13888889, 0.45833333, 0.10169492, 0.04166667],\n",
       "       [0.30555556, 0.58333333, 0.08474576, 0.125     ],\n",
       "       [0.25      , 0.875     , 0.08474576, 0.        ],\n",
       "       [0.33333333, 0.91666667, 0.06779661, 0.04166667],\n",
       "       [0.16666667, 0.45833333, 0.08474576, 0.04166667],\n",
       "       [0.19444444, 0.5       , 0.03389831, 0.04166667],\n",
       "       [0.33333333, 0.625     , 0.05084746, 0.04166667],\n",
       "       [0.16666667, 0.66666667, 0.06779661, 0.        ],\n",
       "       [0.02777778, 0.41666667, 0.05084746, 0.04166667],\n",
       "       [0.22222222, 0.58333333, 0.08474576, 0.04166667],\n",
       "       [0.19444444, 0.625     , 0.05084746, 0.08333333],\n",
       "       [0.05555556, 0.125     , 0.05084746, 0.08333333],\n",
       "       [0.02777778, 0.5       , 0.05084746, 0.04166667],\n",
       "       [0.19444444, 0.625     , 0.10169492, 0.20833333],\n",
       "       [0.22222222, 0.75      , 0.15254237, 0.125     ],\n",
       "       [0.13888889, 0.41666667, 0.06779661, 0.08333333],\n",
       "       [0.22222222, 0.75      , 0.10169492, 0.04166667],\n",
       "       [0.08333333, 0.5       , 0.06779661, 0.04166667],\n",
       "       [0.27777778, 0.70833333, 0.08474576, 0.04166667],\n",
       "       [0.19444444, 0.54166667, 0.06779661, 0.04166667],\n",
       "       [0.75      , 0.5       , 0.62711864, 0.54166667],\n",
       "       [0.58333333, 0.5       , 0.59322034, 0.58333333],\n",
       "       [0.72222222, 0.45833333, 0.66101695, 0.58333333],\n",
       "       [0.33333333, 0.125     , 0.50847458, 0.5       ],\n",
       "       [0.61111111, 0.33333333, 0.61016949, 0.58333333],\n",
       "       [0.38888889, 0.33333333, 0.59322034, 0.5       ],\n",
       "       [0.55555556, 0.54166667, 0.62711864, 0.625     ],\n",
       "       [0.16666667, 0.16666667, 0.38983051, 0.375     ],\n",
       "       [0.63888889, 0.375     , 0.61016949, 0.5       ],\n",
       "       [0.25      , 0.29166667, 0.49152542, 0.54166667],\n",
       "       [0.19444444, 0.        , 0.42372881, 0.375     ],\n",
       "       [0.44444444, 0.41666667, 0.54237288, 0.58333333],\n",
       "       [0.47222222, 0.08333333, 0.50847458, 0.375     ],\n",
       "       [0.5       , 0.375     , 0.62711864, 0.54166667],\n",
       "       [0.36111111, 0.375     , 0.44067797, 0.5       ],\n",
       "       [0.66666667, 0.45833333, 0.57627119, 0.54166667],\n",
       "       [0.36111111, 0.41666667, 0.59322034, 0.58333333],\n",
       "       [0.41666667, 0.29166667, 0.52542373, 0.375     ],\n",
       "       [0.52777778, 0.08333333, 0.59322034, 0.58333333],\n",
       "       [0.36111111, 0.20833333, 0.49152542, 0.41666667],\n",
       "       [0.44444444, 0.5       , 0.6440678 , 0.70833333],\n",
       "       [0.5       , 0.33333333, 0.50847458, 0.5       ],\n",
       "       [0.55555556, 0.20833333, 0.66101695, 0.58333333],\n",
       "       [0.5       , 0.33333333, 0.62711864, 0.45833333],\n",
       "       [0.58333333, 0.375     , 0.55932203, 0.5       ],\n",
       "       [0.63888889, 0.41666667, 0.57627119, 0.54166667],\n",
       "       [0.69444444, 0.33333333, 0.6440678 , 0.54166667],\n",
       "       [0.66666667, 0.41666667, 0.6779661 , 0.66666667],\n",
       "       [0.47222222, 0.375     , 0.59322034, 0.58333333],\n",
       "       [0.38888889, 0.25      , 0.42372881, 0.375     ],\n",
       "       [0.33333333, 0.16666667, 0.47457627, 0.41666667],\n",
       "       [0.33333333, 0.16666667, 0.45762712, 0.375     ],\n",
       "       [0.41666667, 0.29166667, 0.49152542, 0.45833333],\n",
       "       [0.47222222, 0.29166667, 0.69491525, 0.625     ],\n",
       "       [0.30555556, 0.41666667, 0.59322034, 0.58333333],\n",
       "       [0.47222222, 0.58333333, 0.59322034, 0.625     ],\n",
       "       [0.66666667, 0.45833333, 0.62711864, 0.58333333],\n",
       "       [0.55555556, 0.125     , 0.57627119, 0.5       ],\n",
       "       [0.36111111, 0.41666667, 0.52542373, 0.5       ],\n",
       "       [0.33333333, 0.20833333, 0.50847458, 0.5       ],\n",
       "       [0.33333333, 0.25      , 0.57627119, 0.45833333],\n",
       "       [0.5       , 0.41666667, 0.61016949, 0.54166667],\n",
       "       [0.41666667, 0.25      , 0.50847458, 0.45833333],\n",
       "       [0.19444444, 0.125     , 0.38983051, 0.375     ],\n",
       "       [0.36111111, 0.29166667, 0.54237288, 0.5       ],\n",
       "       [0.38888889, 0.41666667, 0.54237288, 0.45833333],\n",
       "       [0.38888889, 0.375     , 0.54237288, 0.5       ],\n",
       "       [0.52777778, 0.375     , 0.55932203, 0.5       ],\n",
       "       [0.22222222, 0.20833333, 0.33898305, 0.41666667],\n",
       "       [0.38888889, 0.33333333, 0.52542373, 0.5       ],\n",
       "       [0.55555556, 0.54166667, 0.84745763, 1.        ],\n",
       "       [0.41666667, 0.29166667, 0.69491525, 0.75      ],\n",
       "       [0.77777778, 0.41666667, 0.83050847, 0.83333333],\n",
       "       [0.55555556, 0.375     , 0.77966102, 0.70833333],\n",
       "       [0.61111111, 0.41666667, 0.81355932, 0.875     ],\n",
       "       [0.91666667, 0.41666667, 0.94915254, 0.83333333],\n",
       "       [0.16666667, 0.20833333, 0.59322034, 0.66666667],\n",
       "       [0.83333333, 0.375     , 0.89830508, 0.70833333],\n",
       "       [0.66666667, 0.20833333, 0.81355932, 0.70833333],\n",
       "       [0.80555556, 0.66666667, 0.86440678, 1.        ],\n",
       "       [0.61111111, 0.5       , 0.69491525, 0.79166667],\n",
       "       [0.58333333, 0.29166667, 0.72881356, 0.75      ],\n",
       "       [0.69444444, 0.41666667, 0.76271186, 0.83333333],\n",
       "       [0.38888889, 0.20833333, 0.6779661 , 0.79166667],\n",
       "       [0.41666667, 0.33333333, 0.69491525, 0.95833333],\n",
       "       [0.58333333, 0.5       , 0.72881356, 0.91666667],\n",
       "       [0.61111111, 0.41666667, 0.76271186, 0.70833333],\n",
       "       [0.94444444, 0.75      , 0.96610169, 0.875     ],\n",
       "       [0.94444444, 0.25      , 1.        , 0.91666667],\n",
       "       [0.47222222, 0.08333333, 0.6779661 , 0.58333333],\n",
       "       [0.72222222, 0.5       , 0.79661017, 0.91666667],\n",
       "       [0.36111111, 0.33333333, 0.66101695, 0.79166667],\n",
       "       [0.94444444, 0.33333333, 0.96610169, 0.79166667],\n",
       "       [0.55555556, 0.29166667, 0.66101695, 0.70833333],\n",
       "       [0.66666667, 0.54166667, 0.79661017, 0.83333333],\n",
       "       [0.80555556, 0.5       , 0.84745763, 0.70833333],\n",
       "       [0.52777778, 0.33333333, 0.6440678 , 0.70833333],\n",
       "       [0.5       , 0.41666667, 0.66101695, 0.70833333],\n",
       "       [0.58333333, 0.33333333, 0.77966102, 0.83333333],\n",
       "       [0.80555556, 0.41666667, 0.81355932, 0.625     ],\n",
       "       [0.86111111, 0.33333333, 0.86440678, 0.75      ],\n",
       "       [1.        , 0.75      , 0.91525424, 0.79166667],\n",
       "       [0.58333333, 0.33333333, 0.77966102, 0.875     ],\n",
       "       [0.55555556, 0.33333333, 0.69491525, 0.58333333],\n",
       "       [0.5       , 0.25      , 0.77966102, 0.54166667],\n",
       "       [0.94444444, 0.41666667, 0.86440678, 0.91666667],\n",
       "       [0.55555556, 0.58333333, 0.77966102, 0.95833333],\n",
       "       [0.58333333, 0.45833333, 0.76271186, 0.70833333],\n",
       "       [0.47222222, 0.41666667, 0.6440678 , 0.70833333],\n",
       "       [0.72222222, 0.45833333, 0.74576271, 0.83333333],\n",
       "       [0.66666667, 0.45833333, 0.77966102, 0.95833333],\n",
       "       [0.72222222, 0.45833333, 0.69491525, 0.91666667],\n",
       "       [0.41666667, 0.29166667, 0.69491525, 0.75      ],\n",
       "       [0.69444444, 0.5       , 0.83050847, 0.91666667],\n",
       "       [0.66666667, 0.54166667, 0.79661017, 1.        ],\n",
       "       [0.66666667, 0.41666667, 0.71186441, 0.91666667],\n",
       "       [0.55555556, 0.20833333, 0.6779661 , 0.75      ],\n",
       "       [0.61111111, 0.41666667, 0.71186441, 0.79166667],\n",
       "       [0.52777778, 0.58333333, 0.74576271, 0.91666667],\n",
       "       [0.44444444, 0.41666667, 0.69491525, 0.70833333]])"
      ]
     },
     "execution_count": 30,
     "metadata": {},
     "output_type": "execute_result"
    }
   ],
   "source": [
    " #이렇게 써줘도 결과는 똑같다.\n",
    "iris_scaled = scaler.fit_transform(iris_df)\n",
    "iris_scaled"
   ]
  },
  {
   "cell_type": "markdown",
   "id": "db5a6c01-f1ea-42fe-93a3-c4c6b02ca2ff",
   "metadata": {},
   "source": [
    "#### → 정규화 만들기"
   ]
  },
  {
   "cell_type": "code",
   "execution_count": 2,
   "id": "2132c3e3-afcb-4166-80eb-47c9e6ff66af",
   "metadata": {},
   "outputs": [],
   "source": [
    "#from sklearn.preprocessing import MinMaxScaler\n",
    "#을 이용하여 정규화 시켜주세요."
   ]
  },
  {
   "cell_type": "code",
   "execution_count": 1,
   "id": "0f69ec06-4d97-4614-bf39-c96ec237cd19",
   "metadata": {},
   "outputs": [
    {
     "data": {
      "text/html": [
       "<div>\n",
       "<style scoped>\n",
       "    .dataframe tbody tr th:only-of-type {\n",
       "        vertical-align: middle;\n",
       "    }\n",
       "\n",
       "    .dataframe tbody tr th {\n",
       "        vertical-align: top;\n",
       "    }\n",
       "\n",
       "    .dataframe thead th {\n",
       "        text-align: right;\n",
       "    }\n",
       "</style>\n",
       "<table border=\"1\" class=\"dataframe\">\n",
       "  <thead>\n",
       "    <tr style=\"text-align: right;\">\n",
       "      <th></th>\n",
       "      <th>0</th>\n",
       "      <th>1</th>\n",
       "      <th>2</th>\n",
       "      <th>3</th>\n",
       "    </tr>\n",
       "  </thead>\n",
       "  <tbody>\n",
       "    <tr>\n",
       "      <th>0</th>\n",
       "      <td>3.905556</td>\n",
       "      <td>2.666667</td>\n",
       "      <td>1.230508</td>\n",
       "      <td>0.158333</td>\n",
       "    </tr>\n",
       "    <tr>\n",
       "      <th>1</th>\n",
       "      <td>3.705556</td>\n",
       "      <td>2.166667</td>\n",
       "      <td>1.230508</td>\n",
       "      <td>0.158333</td>\n",
       "    </tr>\n",
       "    <tr>\n",
       "      <th>2</th>\n",
       "      <td>3.505556</td>\n",
       "      <td>2.366667</td>\n",
       "      <td>1.130508</td>\n",
       "      <td>0.158333</td>\n",
       "    </tr>\n",
       "    <tr>\n",
       "      <th>3</th>\n",
       "      <td>3.405556</td>\n",
       "      <td>2.266667</td>\n",
       "      <td>1.330508</td>\n",
       "      <td>0.158333</td>\n",
       "    </tr>\n",
       "    <tr>\n",
       "      <th>4</th>\n",
       "      <td>3.805556</td>\n",
       "      <td>2.766667</td>\n",
       "      <td>1.230508</td>\n",
       "      <td>0.158333</td>\n",
       "    </tr>\n",
       "    <tr>\n",
       "      <th>...</th>\n",
       "      <td>...</td>\n",
       "      <td>...</td>\n",
       "      <td>...</td>\n",
       "      <td>...</td>\n",
       "    </tr>\n",
       "    <tr>\n",
       "      <th>145</th>\n",
       "      <td>5.505556</td>\n",
       "      <td>2.166667</td>\n",
       "      <td>5.030508</td>\n",
       "      <td>2.258333</td>\n",
       "    </tr>\n",
       "    <tr>\n",
       "      <th>146</th>\n",
       "      <td>5.105556</td>\n",
       "      <td>1.666667</td>\n",
       "      <td>4.830508</td>\n",
       "      <td>1.858333</td>\n",
       "    </tr>\n",
       "    <tr>\n",
       "      <th>147</th>\n",
       "      <td>5.305556</td>\n",
       "      <td>2.166667</td>\n",
       "      <td>5.030508</td>\n",
       "      <td>1.958333</td>\n",
       "    </tr>\n",
       "    <tr>\n",
       "      <th>148</th>\n",
       "      <td>5.005556</td>\n",
       "      <td>2.566667</td>\n",
       "      <td>5.230508</td>\n",
       "      <td>2.258333</td>\n",
       "    </tr>\n",
       "    <tr>\n",
       "      <th>149</th>\n",
       "      <td>4.705556</td>\n",
       "      <td>2.166667</td>\n",
       "      <td>4.930508</td>\n",
       "      <td>1.758333</td>\n",
       "    </tr>\n",
       "  </tbody>\n",
       "</table>\n",
       "<p>150 rows × 4 columns</p>\n",
       "</div>"
      ],
      "text/plain": [
       "            0         1         2         3\n",
       "0    3.905556  2.666667  1.230508  0.158333\n",
       "1    3.705556  2.166667  1.230508  0.158333\n",
       "2    3.505556  2.366667  1.130508  0.158333\n",
       "3    3.405556  2.266667  1.330508  0.158333\n",
       "4    3.805556  2.766667  1.230508  0.158333\n",
       "..        ...       ...       ...       ...\n",
       "145  5.505556  2.166667  5.030508  2.258333\n",
       "146  5.105556  1.666667  4.830508  1.858333\n",
       "147  5.305556  2.166667  5.030508  1.958333\n",
       "148  5.005556  2.566667  5.230508  2.258333\n",
       "149  4.705556  2.166667  4.930508  1.758333\n",
       "\n",
       "[150 rows x 4 columns]"
      ]
     },
     "execution_count": 1,
     "metadata": {},
     "output_type": "execute_result"
    }
   ],
   "source": [
    "from sklearn.datasets import load_iris\n",
    "import pandas as pd\n",
    "iris = load_iris()\n",
    "iris = iris['data']\n",
    "iris_df = pd.DataFrame(iris) \n",
    "\n",
    "iris_df.apply(lambda x:x-x.min()/(x.max()-x.min()))"
   ]
  },
  {
   "cell_type": "markdown",
   "id": "848c8a90-29f4-49b4-a590-265a56a4f620",
   "metadata": {},
   "source": [
    "#### < 주의 : fit >"
   ]
  },
  {
   "cell_type": "markdown",
   "id": "041404d7-f940-43ff-9b13-8626dad98391",
   "metadata": {},
   "source": [
    "X_train, X_test = train_test_split(iris_data)"
   ]
  },
  {
   "cell_type": "markdown",
   "id": "41b10e75-2d44-477e-8759-cb0eabca49f6",
   "metadata": {},
   "source": [
    "X_train\n",
    "\n",
    "scaler.fit()\n",
    "scaler.fit_transform(X_train)\n",
    "\n",
    "1,2,1,2 ---> 10"
   ]
  },
  {
   "cell_type": "markdown",
   "id": "26328aa5-3b53-4f85-9c5d-047ea04721df",
   "metadata": {},
   "source": [
    "X_test\n",
    "\n",
    "scaler.transform(x_test)\n",
    "1,2,1,2 ----> 10? X"
   ]
  },
  {
   "cell_type": "markdown",
   "id": "e80a2027-2732-4190-b56a-7f9202f51762",
   "metadata": {},
   "source": [
    "먼저 있는것을 정규화 시키고 쪼개라 \n",
    "\n",
    "쪼개놓고 각각 정규화 시키면 위의 fit기준과 아래의 fit기준이 달라지게 된다.\n",
    "\n",
    "즉, fit은 한번만 해줘야한다."
   ]
  },
  {
   "cell_type": "markdown",
   "id": "c8109828-e16a-4a03-a87a-5348b67c13c8",
   "metadata": {},
   "source": [
    "< 올바른 표현 >\n",
    "\n",
    "scaler.fit(x)\n",
    "scaler.transformm(x)"
   ]
  },
  {
   "cell_type": "markdown",
   "id": "8abc68fa-9383-496a-9c95-470ddf81b021",
   "metadata": {},
   "source": [
    "## → 정규화(Normalization)\n",
    ": 데이터의 분포가 가우시안 분포가 아닌(혹은 분포를 알 수 없는) 경우 유용하다."
   ]
  },
  {
   "cell_type": "code",
   "execution_count": 32,
   "id": "b10572dd-d550-473f-b9c8-8d7411a47396",
   "metadata": {
    "collapsed": true,
    "jupyter": {
     "outputs_hidden": true
    },
    "tags": []
   },
   "outputs": [
    {
     "data": {
      "text/html": [
       "<div>\n",
       "<style scoped>\n",
       "    .dataframe tbody tr th:only-of-type {\n",
       "        vertical-align: middle;\n",
       "    }\n",
       "\n",
       "    .dataframe tbody tr th {\n",
       "        vertical-align: top;\n",
       "    }\n",
       "\n",
       "    .dataframe thead th {\n",
       "        text-align: right;\n",
       "    }\n",
       "</style>\n",
       "<table border=\"1\" class=\"dataframe\">\n",
       "  <thead>\n",
       "    <tr style=\"text-align: right;\">\n",
       "      <th></th>\n",
       "      <th>0</th>\n",
       "      <th>1</th>\n",
       "      <th>2</th>\n",
       "      <th>3</th>\n",
       "    </tr>\n",
       "  </thead>\n",
       "  <tbody>\n",
       "    <tr>\n",
       "      <th>0</th>\n",
       "      <td>5.1</td>\n",
       "      <td>3.5</td>\n",
       "      <td>1.4</td>\n",
       "      <td>0.2</td>\n",
       "    </tr>\n",
       "    <tr>\n",
       "      <th>1</th>\n",
       "      <td>4.9</td>\n",
       "      <td>3.0</td>\n",
       "      <td>1.4</td>\n",
       "      <td>0.2</td>\n",
       "    </tr>\n",
       "    <tr>\n",
       "      <th>2</th>\n",
       "      <td>4.7</td>\n",
       "      <td>3.2</td>\n",
       "      <td>1.3</td>\n",
       "      <td>0.2</td>\n",
       "    </tr>\n",
       "    <tr>\n",
       "      <th>3</th>\n",
       "      <td>4.6</td>\n",
       "      <td>3.1</td>\n",
       "      <td>1.5</td>\n",
       "      <td>0.2</td>\n",
       "    </tr>\n",
       "    <tr>\n",
       "      <th>4</th>\n",
       "      <td>5.0</td>\n",
       "      <td>3.6</td>\n",
       "      <td>1.4</td>\n",
       "      <td>0.2</td>\n",
       "    </tr>\n",
       "    <tr>\n",
       "      <th>...</th>\n",
       "      <td>...</td>\n",
       "      <td>...</td>\n",
       "      <td>...</td>\n",
       "      <td>...</td>\n",
       "    </tr>\n",
       "    <tr>\n",
       "      <th>145</th>\n",
       "      <td>6.7</td>\n",
       "      <td>3.0</td>\n",
       "      <td>5.2</td>\n",
       "      <td>2.3</td>\n",
       "    </tr>\n",
       "    <tr>\n",
       "      <th>146</th>\n",
       "      <td>6.3</td>\n",
       "      <td>2.5</td>\n",
       "      <td>5.0</td>\n",
       "      <td>1.9</td>\n",
       "    </tr>\n",
       "    <tr>\n",
       "      <th>147</th>\n",
       "      <td>6.5</td>\n",
       "      <td>3.0</td>\n",
       "      <td>5.2</td>\n",
       "      <td>2.0</td>\n",
       "    </tr>\n",
       "    <tr>\n",
       "      <th>148</th>\n",
       "      <td>6.2</td>\n",
       "      <td>3.4</td>\n",
       "      <td>5.4</td>\n",
       "      <td>2.3</td>\n",
       "    </tr>\n",
       "    <tr>\n",
       "      <th>149</th>\n",
       "      <td>5.9</td>\n",
       "      <td>3.0</td>\n",
       "      <td>5.1</td>\n",
       "      <td>1.8</td>\n",
       "    </tr>\n",
       "  </tbody>\n",
       "</table>\n",
       "<p>150 rows × 4 columns</p>\n",
       "</div>"
      ],
      "text/plain": [
       "       0    1    2    3\n",
       "0    5.1  3.5  1.4  0.2\n",
       "1    4.9  3.0  1.4  0.2\n",
       "2    4.7  3.2  1.3  0.2\n",
       "3    4.6  3.1  1.5  0.2\n",
       "4    5.0  3.6  1.4  0.2\n",
       "..   ...  ...  ...  ...\n",
       "145  6.7  3.0  5.2  2.3\n",
       "146  6.3  2.5  5.0  1.9\n",
       "147  6.5  3.0  5.2  2.0\n",
       "148  6.2  3.4  5.4  2.3\n",
       "149  5.9  3.0  5.1  1.8\n",
       "\n",
       "[150 rows x 4 columns]"
      ]
     },
     "execution_count": 32,
     "metadata": {},
     "output_type": "execute_result"
    }
   ],
   "source": [
    "from sklearn.datasets import load_iris\n",
    "iris = load_iris()\n",
    "\n",
    "iris = iris['data']\n",
    "iris_df = pd.DataFrame(iris)\n",
    "iris_df"
   ]
  },
  {
   "cell_type": "code",
   "execution_count": 33,
   "id": "b63c0e10-9668-4997-9ee8-261284724416",
   "metadata": {},
   "outputs": [
    {
     "data": {
      "text/plain": [
       "0    7.9\n",
       "1    4.4\n",
       "2    6.9\n",
       "3    2.5\n",
       "dtype: float64"
      ]
     },
     "execution_count": 33,
     "metadata": {},
     "output_type": "execute_result"
    }
   ],
   "source": [
    "iris_df.max()"
   ]
  },
  {
   "cell_type": "code",
   "execution_count": 34,
   "id": "77a7e625-f125-4520-8da7-3bbd251b1918",
   "metadata": {},
   "outputs": [
    {
     "data": {
      "text/plain": [
       "0    4.3\n",
       "1    2.0\n",
       "2    1.0\n",
       "3    0.1\n",
       "dtype: float64"
      ]
     },
     "execution_count": 34,
     "metadata": {},
     "output_type": "execute_result"
    }
   ],
   "source": [
    "iris_df.min()"
   ]
  },
  {
   "cell_type": "code",
   "execution_count": 35,
   "id": "9b168d9c-0d9a-4492-8e83-970e652b68eb",
   "metadata": {},
   "outputs": [],
   "source": [
    "def min_max(x):\n",
    "    return (x - x.min()) / (x.max() - x.min())"
   ]
  },
  {
   "cell_type": "code",
   "execution_count": 36,
   "id": "68d451fc-7d5c-4a83-b24b-751391622668",
   "metadata": {
    "collapsed": true,
    "jupyter": {
     "outputs_hidden": true
    },
    "tags": []
   },
   "outputs": [
    {
     "data": {
      "text/html": [
       "<div>\n",
       "<style scoped>\n",
       "    .dataframe tbody tr th:only-of-type {\n",
       "        vertical-align: middle;\n",
       "    }\n",
       "\n",
       "    .dataframe tbody tr th {\n",
       "        vertical-align: top;\n",
       "    }\n",
       "\n",
       "    .dataframe thead th {\n",
       "        text-align: right;\n",
       "    }\n",
       "</style>\n",
       "<table border=\"1\" class=\"dataframe\">\n",
       "  <thead>\n",
       "    <tr style=\"text-align: right;\">\n",
       "      <th></th>\n",
       "      <th>0</th>\n",
       "      <th>1</th>\n",
       "      <th>2</th>\n",
       "      <th>3</th>\n",
       "    </tr>\n",
       "  </thead>\n",
       "  <tbody>\n",
       "    <tr>\n",
       "      <th>0</th>\n",
       "      <td>0.222222</td>\n",
       "      <td>0.625000</td>\n",
       "      <td>0.067797</td>\n",
       "      <td>0.041667</td>\n",
       "    </tr>\n",
       "    <tr>\n",
       "      <th>1</th>\n",
       "      <td>0.166667</td>\n",
       "      <td>0.416667</td>\n",
       "      <td>0.067797</td>\n",
       "      <td>0.041667</td>\n",
       "    </tr>\n",
       "    <tr>\n",
       "      <th>2</th>\n",
       "      <td>0.111111</td>\n",
       "      <td>0.500000</td>\n",
       "      <td>0.050847</td>\n",
       "      <td>0.041667</td>\n",
       "    </tr>\n",
       "    <tr>\n",
       "      <th>3</th>\n",
       "      <td>0.083333</td>\n",
       "      <td>0.458333</td>\n",
       "      <td>0.084746</td>\n",
       "      <td>0.041667</td>\n",
       "    </tr>\n",
       "    <tr>\n",
       "      <th>4</th>\n",
       "      <td>0.194444</td>\n",
       "      <td>0.666667</td>\n",
       "      <td>0.067797</td>\n",
       "      <td>0.041667</td>\n",
       "    </tr>\n",
       "    <tr>\n",
       "      <th>...</th>\n",
       "      <td>...</td>\n",
       "      <td>...</td>\n",
       "      <td>...</td>\n",
       "      <td>...</td>\n",
       "    </tr>\n",
       "    <tr>\n",
       "      <th>145</th>\n",
       "      <td>0.666667</td>\n",
       "      <td>0.416667</td>\n",
       "      <td>0.711864</td>\n",
       "      <td>0.916667</td>\n",
       "    </tr>\n",
       "    <tr>\n",
       "      <th>146</th>\n",
       "      <td>0.555556</td>\n",
       "      <td>0.208333</td>\n",
       "      <td>0.677966</td>\n",
       "      <td>0.750000</td>\n",
       "    </tr>\n",
       "    <tr>\n",
       "      <th>147</th>\n",
       "      <td>0.611111</td>\n",
       "      <td>0.416667</td>\n",
       "      <td>0.711864</td>\n",
       "      <td>0.791667</td>\n",
       "    </tr>\n",
       "    <tr>\n",
       "      <th>148</th>\n",
       "      <td>0.527778</td>\n",
       "      <td>0.583333</td>\n",
       "      <td>0.745763</td>\n",
       "      <td>0.916667</td>\n",
       "    </tr>\n",
       "    <tr>\n",
       "      <th>149</th>\n",
       "      <td>0.444444</td>\n",
       "      <td>0.416667</td>\n",
       "      <td>0.694915</td>\n",
       "      <td>0.708333</td>\n",
       "    </tr>\n",
       "  </tbody>\n",
       "</table>\n",
       "<p>150 rows × 4 columns</p>\n",
       "</div>"
      ],
      "text/plain": [
       "            0         1         2         3\n",
       "0    0.222222  0.625000  0.067797  0.041667\n",
       "1    0.166667  0.416667  0.067797  0.041667\n",
       "2    0.111111  0.500000  0.050847  0.041667\n",
       "3    0.083333  0.458333  0.084746  0.041667\n",
       "4    0.194444  0.666667  0.067797  0.041667\n",
       "..        ...       ...       ...       ...\n",
       "145  0.666667  0.416667  0.711864  0.916667\n",
       "146  0.555556  0.208333  0.677966  0.750000\n",
       "147  0.611111  0.416667  0.711864  0.791667\n",
       "148  0.527778  0.583333  0.745763  0.916667\n",
       "149  0.444444  0.416667  0.694915  0.708333\n",
       "\n",
       "[150 rows x 4 columns]"
      ]
     },
     "execution_count": 36,
     "metadata": {},
     "output_type": "execute_result"
    }
   ],
   "source": [
    "iris_df.apply(min_max)"
   ]
  },
  {
   "cell_type": "code",
   "execution_count": 37,
   "id": "351997a5-4645-4f83-8ef1-8a88ca4c1289",
   "metadata": {},
   "outputs": [
    {
     "data": {
      "text/plain": [
       "0    1.0\n",
       "1    1.0\n",
       "2    1.0\n",
       "3    1.0\n",
       "dtype: float64"
      ]
     },
     "execution_count": 37,
     "metadata": {},
     "output_type": "execute_result"
    }
   ],
   "source": [
    "iris_df.apply(min_max).max()"
   ]
  },
  {
   "cell_type": "code",
   "execution_count": 38,
   "id": "719e1c84-7dfd-425e-8c0f-626db56cd965",
   "metadata": {
    "collapsed": true,
    "jupyter": {
     "outputs_hidden": true
    },
    "tags": []
   },
   "outputs": [
    {
     "data": {
      "text/html": [
       "<div>\n",
       "<style scoped>\n",
       "    .dataframe tbody tr th:only-of-type {\n",
       "        vertical-align: middle;\n",
       "    }\n",
       "\n",
       "    .dataframe tbody tr th {\n",
       "        vertical-align: top;\n",
       "    }\n",
       "\n",
       "    .dataframe thead th {\n",
       "        text-align: right;\n",
       "    }\n",
       "</style>\n",
       "<table border=\"1\" class=\"dataframe\">\n",
       "  <thead>\n",
       "    <tr style=\"text-align: right;\">\n",
       "      <th></th>\n",
       "      <th>0</th>\n",
       "      <th>1</th>\n",
       "      <th>2</th>\n",
       "      <th>3</th>\n",
       "    </tr>\n",
       "  </thead>\n",
       "  <tbody>\n",
       "    <tr>\n",
       "      <th>0</th>\n",
       "      <td>0.222222</td>\n",
       "      <td>0.625000</td>\n",
       "      <td>0.067797</td>\n",
       "      <td>0.041667</td>\n",
       "    </tr>\n",
       "    <tr>\n",
       "      <th>1</th>\n",
       "      <td>0.166667</td>\n",
       "      <td>0.416667</td>\n",
       "      <td>0.067797</td>\n",
       "      <td>0.041667</td>\n",
       "    </tr>\n",
       "    <tr>\n",
       "      <th>2</th>\n",
       "      <td>0.111111</td>\n",
       "      <td>0.500000</td>\n",
       "      <td>0.050847</td>\n",
       "      <td>0.041667</td>\n",
       "    </tr>\n",
       "    <tr>\n",
       "      <th>3</th>\n",
       "      <td>0.083333</td>\n",
       "      <td>0.458333</td>\n",
       "      <td>0.084746</td>\n",
       "      <td>0.041667</td>\n",
       "    </tr>\n",
       "    <tr>\n",
       "      <th>4</th>\n",
       "      <td>0.194444</td>\n",
       "      <td>0.666667</td>\n",
       "      <td>0.067797</td>\n",
       "      <td>0.041667</td>\n",
       "    </tr>\n",
       "    <tr>\n",
       "      <th>...</th>\n",
       "      <td>...</td>\n",
       "      <td>...</td>\n",
       "      <td>...</td>\n",
       "      <td>...</td>\n",
       "    </tr>\n",
       "    <tr>\n",
       "      <th>145</th>\n",
       "      <td>0.666667</td>\n",
       "      <td>0.416667</td>\n",
       "      <td>0.711864</td>\n",
       "      <td>0.916667</td>\n",
       "    </tr>\n",
       "    <tr>\n",
       "      <th>146</th>\n",
       "      <td>0.555556</td>\n",
       "      <td>0.208333</td>\n",
       "      <td>0.677966</td>\n",
       "      <td>0.750000</td>\n",
       "    </tr>\n",
       "    <tr>\n",
       "      <th>147</th>\n",
       "      <td>0.611111</td>\n",
       "      <td>0.416667</td>\n",
       "      <td>0.711864</td>\n",
       "      <td>0.791667</td>\n",
       "    </tr>\n",
       "    <tr>\n",
       "      <th>148</th>\n",
       "      <td>0.527778</td>\n",
       "      <td>0.583333</td>\n",
       "      <td>0.745763</td>\n",
       "      <td>0.916667</td>\n",
       "    </tr>\n",
       "    <tr>\n",
       "      <th>149</th>\n",
       "      <td>0.444444</td>\n",
       "      <td>0.416667</td>\n",
       "      <td>0.694915</td>\n",
       "      <td>0.708333</td>\n",
       "    </tr>\n",
       "  </tbody>\n",
       "</table>\n",
       "<p>150 rows × 4 columns</p>\n",
       "</div>"
      ],
      "text/plain": [
       "            0         1         2         3\n",
       "0    0.222222  0.625000  0.067797  0.041667\n",
       "1    0.166667  0.416667  0.067797  0.041667\n",
       "2    0.111111  0.500000  0.050847  0.041667\n",
       "3    0.083333  0.458333  0.084746  0.041667\n",
       "4    0.194444  0.666667  0.067797  0.041667\n",
       "..        ...       ...       ...       ...\n",
       "145  0.666667  0.416667  0.711864  0.916667\n",
       "146  0.555556  0.208333  0.677966  0.750000\n",
       "147  0.611111  0.416667  0.711864  0.791667\n",
       "148  0.527778  0.583333  0.745763  0.916667\n",
       "149  0.444444  0.416667  0.694915  0.708333\n",
       "\n",
       "[150 rows x 4 columns]"
      ]
     },
     "execution_count": 38,
     "metadata": {},
     "output_type": "execute_result"
    }
   ],
   "source": [
    "#람다식을 이용한 같은 표현\n",
    "iris_df.apply(lambda x:(x - x.min()) / (x.max() - x.min()))"
   ]
  },
  {
   "cell_type": "markdown",
   "id": "cfaaaaf8-91b9-478e-ae2c-1eaa90b155ef",
   "metadata": {},
   "source": [
    "# < 오차 행렬 >"
   ]
  },
  {
   "cell_type": "markdown",
   "id": "8b598874-ce85-4ba2-95e0-75ee0e0ac838",
   "metadata": {},
   "source": [
    "```\n",
    "                                                             실제 클래스(Actual Class)\n",
    "                                              \n",
    "                                              \n",
    "                                                          Positive                Negative\n",
    "                                           Positive         TP           |           FP\n",
    "          예측 클래스(Predict Class)                   \n",
    "                                           Negative         FN           |           TN\n",
    "\n",
    "```"
   ]
  },
  {
   "cell_type": "markdown",
   "id": "c66c29b9-0272-4b67-a5c2-6852544127d5",
   "metadata": {},
   "source": [
    "```\n",
    "\n",
    "- TP(Ture Positive) : Positive로 예측했고 True\n",
    "                      -> 예측값도 Positive 실제값도 Positive\n",
    "\n",
    "- TN(True Negative) : Negative로 예측했고 True\n",
    "                      -> 예측값도 Negative 실제값은 Positive\n",
    "\n",
    "- FP(False Positive) : Positive로 예측했고 False\n",
    "                       -> 예측값은 Positive이지만 틀렸으므로 실제값은 Negative이다.\n",
    "\n",
    "- FN(False Negative) : Negative로 예측했고 False\n",
    "                       -> 예측값은 Negative이지만 틀렸으므로 실제값은 Positive이다.\n",
    "             \n",
    "```"
   ]
  },
  {
   "cell_type": "markdown",
   "id": "5f53b2e9-1a79-4aa1-ae72-2864334a7bd1",
   "metadata": {},
   "source": [
    "# < 정밀도와 재현율 >"
   ]
  },
  {
   "cell_type": "markdown",
   "id": "1cb918a7-e663-41de-8614-d2b4cd41da10",
   "metadata": {},
   "source": [
    "```\n",
    "                                            질병유무\n",
    "                                    유                  무\n",
    "                    질병            a          |        b\n",
    "      검사결과\n",
    "                    정상            c          |        d\n",
    "```"
   ]
  },
  {
   "cell_type": "markdown",
   "id": "d312b40d-c0a6-432d-8418-56901a5885f1",
   "metadata": {},
   "source": [
    "```\n",
    "- 정밀도(Precision) = TP / (TP + FP) = a / a+b\n",
    "                      -> 질병이 있다고 예측한 것 중 실제 질병이 있는 경우\n",
    "- 재현율(Recall) = TP / (TP + FN) = a / a+c\n",
    "                   -> 실제 질병이 있는 경우, 실시한 검사에서 질병이 있다고 판정할 수 있는 능력\n",
    "                   -> 민감도 또는 TPR 이라고도 불림\n",
    "- 특이도(Specificity) = TN / (FP + TN) = d / b+d\n",
    "                        -> 실제 질병이 없는 경우, 실시한 검사에서 질병이 없다고 판정할 수 있는 능력\n",
    "- 조화평균 : 항목들의 역수에 대한 산술평균을 또 역수로 구한것\n",
    "            조화평균은 평균적인 변화율을 구할 때 주로 사용된다\n",
    "```"
   ]
  },
  {
   "cell_type": "markdown",
   "id": "d55b9bde-f54f-46a3-aadc-d6581955b8ab",
   "metadata": {},
   "source": [
    "```\n",
    "- 트레이드오프(Trade-off) : 정밀도와 재현율 중 어느 한 쪽을 강제로 높이면 다른 하나의 수치는 떨어진다.\n",
    "- F1 스코어(Score) : 정밀도와 재현율을 결합한 지표로 F1스코어가 높으면 무조건 좋다.\n",
    "                     정밀도나 재현율이 극단적인 파이를 가질 경우 좋은 평가 지표가 될 수 없기 때문에\n",
    "                     둘을 결합한 지표가 F1스코어이다.\n",
    "- ROC 곡선 : 가장좋은 수치는 최대로 위쪽에 달라붙는것. 일반적으로 1에 가까울수록 좋은 수치\n",
    "- AUC(Area Under Cover) : ROC 곡선의 아래쪽 넓이를 의미한다.\n",
    "```"
   ]
  },
  {
   "cell_type": "markdown",
   "id": "c62a7013-906f-44b7-8826-8b3b418747e5",
   "metadata": {},
   "source": [
    "혼동행렬 :from sklearn.metrics import confusion_matrix\n",
    "정확도 : from sklearn.metrics import accuracy_score\n",
    "정밀도 : from sklearn.metrics import precision_score\n",
    "재현율 : from sklearn.metrics import recall_score "
   ]
  },
  {
   "cell_type": "markdown",
   "id": "687848eb-6445-479c-986e-8a0a8080ff10",
   "metadata": {},
   "source": [
    "Recall과 Precision은 상호보완적관계로 trade off라고 한다.\n",
    "(한쪽이 높아지면 다른 한쪽은 낮아진다.)"
   ]
  },
  {
   "cell_type": "markdown",
   "id": "13636381-c375-4390-b9df-5df62a1c93ce",
   "metadata": {},
   "source": [
    "보기에서 틀린 것을 고르세요.\n",
    "\n",
    "1. Positive 예측값이 많아지면 상대적으로 재현율 값이 높아진다.\n",
    "2. 임계값이 낮아질수록 Positive로 예측할 확률이 높아진다.\n",
    "3. '암환자중에 검사로 얼마나 암 환자를 잘 골라냈는가?'는 재현율과 관련이 없다.\n",
    "4. TP/(TP+FP)은 재현율의 공식이다.\n",
    "5. ROC 곡선은 X축으로 FPR, Y축으로 TPR를 설정한다.\n",
    "\n",
    "답은 3번."
   ]
  },
  {
   "cell_type": "markdown",
   "id": "5504a8bd-6c66-4a2f-a640-3508a91c613a",
   "metadata": {},
   "source": [
    "보기에서 틀린것을 고르세요.\n",
    "\n",
    "1. 정밀도와 재현율은 상호 보완적인 평가지표이다.\n",
    "2. 정밀도를 올리면 재현율이 떨어지는 현상을 트레이드오프라 한다.\n",
    "3. '정상인중에 얼마나 암환자로 오진했는가?'는 특이도와 관련이 있다.\n",
    "4. 임곗값을 낮출수록 True 값이 적어진다.\n",
    "5. ROC곡선 면적에 기반한 AUC값은 1에 가까울수록 좋은 수치이다.\n",
    "\n",
    "답은 4번."
   ]
  },
  {
   "cell_type": "markdown",
   "id": "28384256-19ba-4960-b8c4-eae071a0c9fd",
   "metadata": {},
   "source": [
    "보기에서 틀린것을 고르세요.\n",
    "\n",
    "1. 이진 분류 모델에서는 예측 확률이 큰 레이블 값으로 예측한다.\n",
    "2. 재현율이 중요한 경우는 양성지표를 Negative로 잘못 판단시 큰 영향을 가지는 경우이다.\n",
    "   : 암환자인 경우에 50:50으로 암일 확률이다. 긴가민가 할때는 암이라고 말 하고 \n",
    "     큰 병원에 가서 검사를 받는것이 좋은 선택이다.\n",
    "3. F1 스코어는 정밀도와 재현율을 결합한 지표이다.\n",
    "4. F1 스코어는 정밀도와 재현율이 큰 차이를 가질수록 높은 값을 가진다.\n",
    "5. FPR을 0으로 만들려면 임계값을 1로 지정한다.\n",
    "\n",
    "답은 4번."
   ]
  },
  {
   "cell_type": "markdown",
   "id": "ee625367-3635-4845-ade0-9212b40bca13",
   "metadata": {},
   "source": [
    "보기에서 틀린것을 고르세요,\n",
    "\n",
    "1. 정밀도가 중요한 경우는 음성데이터를 양성으로 잘못 판단하면 큰 영향이 발생하는 경우이다.\n",
    "2. TP/(TP+FP)은 정밀도의 공식이다.\n",
    "3. True Positive Rate은 재현율이다.\n",
    "4. 전체 환자를 Positive라 예측하고 실제 양성인 환자가 n명이라면 재현율은 0이 된다.\n",
    "5. 전체 환자 중 1명만 Positive라 예측하고 나머지를 전부 Negative라 예측하면 정밀도는 1이 된다.\n",
    "\n",
    "답은 4번."
   ]
  },
  {
   "cell_type": "markdown",
   "id": "b81f3307-ed00-47ae-b8b6-36968c7b97a9",
   "metadata": {},
   "source": [
    "# < 결정트리 >"
   ]
  },
  {
   "cell_type": "code",
   "execution_count": null,
   "id": "079d59be-0920-412d-b636-9150e6fd13cc",
   "metadata": {},
   "outputs": [],
   "source": [
    "의사결정나무는 분류(classification)와 회귀(regression) 모두 가능하다.\n",
    "\n",
    "\n",
    "지니지수 불순도: 불순도를 측정해주세요.\n",
    "전체 16개 중 빨간색 10개, 파란색 6개가 있다.\n",
    "-> 1 - (10/16)^2 - (6/16)^2 = 0.47\n",
    "\n",
    "\n",
    "불순도를 측정하는 대표적인 방법 2가지\n",
    "-> 지니지수, 엔트로피지수\n",
    "\n",
    "\n",
    "불순도가 0.5에서 0.4로 낮아질 때 0.1만큼 (정보 이득 = information gain)이 있다고 말한다.\n",
    "\n",
    "\n",
    "★ 중요함\n",
    "min_samples_split: 노드를 분할하기 위한 최소 샘플 갯수(마지막 노드를 말함.)\n",
    "    \n",
    "min_samples_leaf: 분할될경우 좌우 브랜치에서 가져야 할 최소 샘플 갯수\n",
    "    \n",
    "max_depth: 트리 최대 깊이\n",
    "    \n",
    "max_leaf_nodes: 말단 leaf의 총 갯수\n",
    "    \n",
    "max_features: 분할에 사용할 feature 갯수\n",
    "\n",
    "\n",
    "(과적합)은 학습 데이터에 대해 과하게 학습하여 적절한 일반화를 하지 못해서\n",
    "실제 데이터에 대한 오차가 증가하는 현상으로 이를 방지하기 위해 \n",
    "의사 결정 트리에서는 가지치기(pruning) 작업을 한다.\n",
    "\n",
    "\n",
    "싸이킷런 분류 알고리즘에서 predict할 때, 각 label의 확률을 보여주는 매서드는 무엇인가?\n",
    "predict_proba\n",
    "\n",
    "\n",
    "GridSearchCV 함수의 파라미터 'n_jobs=-1' 이란 무엇을 의미하는가?\n",
    "-> 수를 늘릴수록 그만큼 CPU 코어 사용, -1은 전체 사용\n",
    "\n",
    "\n",
    "결정 트리의 깊이(depth)가 깊을수록 예측 성능이 좋지 않다.\n",
    "\n",
    "\n",
    "의사결정나무는 스케일이나 평균을 원점에 맞추는 것과 같은 데이터 전처리가 \n",
    "거의 필요하지 않다.\n",
    "\n",
    "\n",
    "결정트리에서 지니 계수가 낮을수록 데이터의 균일도가 높음으로 해석한다.\n",
    "\n",
    "\n",
    "조화평균의 공식은 무엇인가요?\n",
    "-> 2ab / (a + b)"
   ]
  },
  {
   "cell_type": "code",
   "execution_count": null,
   "id": "110a417e-256c-41db-91f8-3330fe440164",
   "metadata": {},
   "outputs": [],
   "source": [
    "< split을 하는 이유 >\n",
    "training set을 training/validation으로 split을 한 이유는\n",
    "    -> 모델의 완성도를 좀 더 높이기 위해서이다.(여러번 검증함)\n",
    "    -> 과적합을 피하기 위해서이다."
   ]
  },
  {
   "cell_type": "markdown",
   "id": "6c36dc08-73b0-447d-b66c-ca5d372fa68d",
   "metadata": {},
   "source": [
    "# < 앙상블 학습 >"
   ]
  },
  {
   "cell_type": "markdown",
   "id": "66cac948-c622-4454-ab79-b85837441ff1",
   "metadata": {},
   "source": [
    "학습 목표: \n",
    "머신러닝에서 여러개의 분류기로 데이터를 학습하고 각각 학습된 알고리즘으로 \n",
    "결과를 예측하고 그 결과들을 결합해 최종으로 더 나은 결과를 도출해내는 방식"
   ]
  },
  {
   "cell_type": "code",
   "execution_count": null,
   "id": "af80ded5-d735-4d6b-b4b8-c6535d20614e",
   "metadata": {},
   "outputs": [],
   "source": [
    "앙상블 기법의 조건\n",
    "- 각각의 분류기는 상호 독립적이어야 한다.\n",
    "- 각 분류기의 오분률은 적어도 50% 보다는 낮아야 한다."
   ]
  },
  {
   "cell_type": "code",
   "execution_count": 1,
   "id": "c341b7d7-8360-4f03-9eb7-e6d103e069d6",
   "metadata": {},
   "outputs": [
    {
     "name": "stdout",
     "output_type": "stream",
     "text": [
      "Voting 분류기 정확도: 0.9561\n",
      "LogisticRegression 정확도: 0.9474\n",
      "KNeighborsClassifier 정확도: 0.9386\n"
     ]
    }
   ],
   "source": [
    "import pandas as pd\n",
    "\n",
    "from sklearn.ensemble import VotingClassifier\n",
    "from sklearn.linear_model import LogisticRegression\n",
    "from sklearn.neighbors import KNeighborsClassifier\n",
    "from sklearn.datasets import load_breast_cancer\n",
    "from sklearn.model_selection import train_test_split\n",
    "from sklearn.metrics import accuracy_score\n",
    "\n",
    "cancer = load_breast_cancer()\n",
    "\n",
    "data_df = pd.DataFrame(cancer.data, columns=cancer.feature_names)\n",
    "\n",
    "lr_clf = LogisticRegression(solver='liblinear')\n",
    "knn_clf = KNeighborsClassifier(n_neighbors=8)\n",
    "\n",
    "vo_clf = VotingClassifier(estimators=[('lr', lr_clf), ('knn', knn_clf)], voting='soft')\n",
    "\n",
    "X_train, X_test, y_train, y_test = train_test_split(cancer.data, cancer.target,\n",
    "                                                   test_size=0.2, random_state=156)\n",
    "\n",
    "vo_clf.fit(X_train, y_train)\n",
    "pred = vo_clf.predict(X_test)\n",
    "print('Voting 분류기 정확도: {0:.4f}'.format(accuracy_score(y_test, pred)))\n",
    "\n",
    "classifiers = [lr_clf, knn_clf]\n",
    "for classifier in classifiers:\n",
    "    classifier.fit(X_train, y_train)\n",
    "    pred = classifier.predict(X_test)\n",
    "    class_name=classifier.__class__.__name__\n",
    "    print('{0} 정확도: {1:.4f}'.format(class_name, accuracy_score(y_test, pred)))"
   ]
  },
  {
   "cell_type": "markdown",
   "id": "4b70b1cc-ca6e-4b60-a0d0-d8153f993a69",
   "metadata": {},
   "source": [
    "## -> 하이퍼 파라미터"
   ]
  },
  {
   "cell_type": "code",
   "execution_count": null,
   "id": "96491045-846e-458b-b5ff-b61eeb3245f2",
   "metadata": {},
   "outputs": [],
   "source": [
    "loss = error 오차\n",
    "loss function : 손실함수\n",
    "cost function : 비용함수\n",
    "objective function : 목적함수\n",
    "learning_rate(eta) : 학습률(에러를 조금씩 수정해 나가는데 얼마만큼 수정할 것인가?)\n",
    "n_estimators : weak learner를 사용할 것인가(분류기를 몇 개를 동원할 것인가?)\n",
    "subsample : overfitting을 방지하기 위해서 1보다 작은 값으로 설정 가능. \n",
    "            기본값은 1(전체데이터 사용)\n",
    "early_stopping_rounds : 조기중단(최소 오차지점에서 몇 번 더 검사를 할 것인가)"
   ]
  },
  {
   "cell_type": "markdown",
   "id": "89c6afbc-0f50-4f62-9697-77f835a9b62f",
   "metadata": {},
   "source": [
    "## -> 앙상블 모델"
   ]
  },
  {
   "cell_type": "code",
   "execution_count": null,
   "id": "90ffd8f1-4890-468b-a71a-d59b2d16c4ce",
   "metadata": {},
   "outputs": [],
   "source": [
    "1. GBM\n",
    "   - 경사하강법을 사용\n",
    "   - 랜덤포레스트 보다 예측성능이 뛰어나지만 시간이 오래 걸린다는 단점\n",
    "   - GBM보다 실행 속도가 빠른 알고리즘은 XGBoost, LightGBM 이다.\n",
    "2. 랜덤 포레스트\n",
    "   - 각자의 데이터 샘플링을 하고 최종적으로 소프트 보팅으로 예측 결정\n",
    "3. XGBoost\n",
    "   - XGBoost는 랜덤포레스트보다는 속도가 느리지만 GBM에 비해 학습 속도가 빠르다.\n",
    "   - XGBoost 에서 과적합 문제를 해결하기 위해 고려해야 할 사항\n",
    "     a. max_depth 값을 낮춘다. /너무 자세하게 하지 말아라\n",
    "     b. gamma 값을 높인다. /규제의 수준을 높인다.그렇게 되면 섬세하게 반응하지 않는다."
   ]
  },
  {
   "cell_type": "markdown",
   "id": "10bb1c1b-7766-444b-a5bb-aa6152edef2d",
   "metadata": {},
   "source": [
    "## -> 앙상블 학습의 유형 : Voting Bagging Boosting"
   ]
  },
  {
   "cell_type": "markdown",
   "id": "e96fdd93-16ee-4bcb-95aa-ffab55274074",
   "metadata": {},
   "source": [
    "- Voting"
   ]
  },
  {
   "cell_type": "code",
   "execution_count": null,
   "id": "605cfc16-874e-4a5d-b935-8d876acdfdeb",
   "metadata": {},
   "outputs": [],
   "source": [
    "-> 하드 보팅(Hard Voting)\n",
    "\n",
    "다수결 원칙과 유사\n",
    "예측한 결과값들 중 다수의 분류기가 결정한 예측값을 최종 보팅 결과값으로 선정"
   ]
  },
  {
   "cell_type": "code",
   "execution_count": null,
   "id": "e6bd0792-bab1-41ad-969d-5afa78b971b2",
   "metadata": {},
   "outputs": [],
   "source": [
    "-> 소프트 보팅(Soft Voting)\n",
    "\n",
    "분류기들의 레이블 값 결정 확률을 모두 더해 이를 평균내서 확률이 가장 높은 레이블 값을 \n",
    "최종 보팅 결과값을 선정"
   ]
  },
  {
   "cell_type": "markdown",
   "id": "7958688d-d86d-4902-8766-093e32952a48",
   "metadata": {},
   "source": [
    "- Bagging"
   ]
  },
  {
   "cell_type": "code",
   "execution_count": null,
   "id": "a7ffc46c-a9b9-48b8-b9c8-e397fa236b3d",
   "metadata": {},
   "outputs": [],
   "source": [
    "배깅(Bagging)은 부트스트랩(bootstrap)을 집계(Aggregating)하여 \n",
    "학습 데이터가 충분하지 않더라도 충분한 학습효과를 주어 높은 bias의 underfitting 문제나, \n",
    "높은 variance로 인한 overfitting 문제를 해결하는데 도움을 줌\n",
    "\n",
    "배깅 방식의 대표는 랜덤 포레스트이다."
   ]
  },
  {
   "cell_type": "code",
   "execution_count": null,
   "id": "f758610e-7753-4454-8ce8-d4889ecf799e",
   "metadata": {},
   "outputs": [],
   "source": [
    "-> Bootstrap"
   ]
  },
  {
   "cell_type": "code",
   "execution_count": null,
   "id": "ccaeeb03-17e8-4d35-8672-43111a57c6cb",
   "metadata": {},
   "outputs": [],
   "source": [
    "부트스트랩(bootstrap)은 통계학에서 사용하는 용어로, random sampling을 적용하는 방법\n",
    "\n",
    "각각의 분류기들이 학습시 상호영향을 주지 않은 상황에서(독립적) 학습이 끝난 다음 결과를 \n",
    "종합하는 기법"
   ]
  },
  {
   "cell_type": "code",
   "execution_count": null,
   "id": "8cae13c6-371d-4b1c-b8a8-23d9fd1fe112",
   "metadata": {},
   "outputs": [],
   "source": [
    "-> Bootsrapping"
   ]
  },
  {
   "cell_type": "code",
   "execution_count": null,
   "id": "ffa1b394-084c-497f-9aee-9ced739d922c",
   "metadata": {},
   "outputs": [],
   "source": [
    "Bootstrapping으로 데이터를 나눌때 한 데이터가 여러번 뽑히거나 \n",
    "한 데이터가 아예 안 뽑힐 수도 있다.부트스트래핑이란 데이터를 중복을 허용하면서 \n",
    "샘플링하는 것이다. \n",
    "\n",
    "부스팅 방식은 잘못 예측한 데이터에 가중치를 부여해서 오류를 개선해가는 학습 방식이다."
   ]
  },
  {
   "cell_type": "markdown",
   "id": "66c2d982-7876-4a00-85ee-2ed260cc5e53",
   "metadata": {},
   "source": [
    "- Voting과 Bagging 차이점"
   ]
  },
  {
   "cell_type": "code",
   "execution_count": null,
   "id": "63a1a5e7-c15d-43fc-86e3-aaafe52ec931",
   "metadata": {},
   "outputs": [],
   "source": [
    "-> voting: 모든 데이터에 대하여, 서로 다른 알고리즘을 가진 분류기를 결합한 것이다.\n",
    "-> Bagging: 1개의 알고리즘과 여러 개의 데이터 샘플을 나누어 가진다."
   ]
  },
  {
   "cell_type": "markdown",
   "id": "624c76b6-c182-453d-8471-55d2450e5f34",
   "metadata": {},
   "source": [
    "- Boosting"
   ]
  },
  {
   "cell_type": "code",
   "execution_count": null,
   "id": "a5106bbc-c47a-4827-84d2-485651b71342",
   "metadata": {},
   "outputs": [],
   "source": [
    "앙상블 학습 방식 중 맞추기 어려운 문제를 맞추는 것이 목적으로, 에러에 가중치를 주는 방식"
   ]
  },
  {
   "cell_type": "markdown",
   "id": "1211284a-4f2e-4209-8c95-4a00311965b5",
   "metadata": {},
   "source": [
    "# < 랜덤 포레스트 >"
   ]
  },
  {
   "cell_type": "code",
   "execution_count": null,
   "id": "17ce4507-c960-4f69-aaf7-16c98a6d11e0",
   "metadata": {},
   "outputs": [],
   "source": [
    "1. 가지를 나눌때마다 p개의 변수중 랜덤하게 m개(p보다 작음)의 변수만 고려한다.\n",
    "2. 소수의 변수들에 대해 상관성이나 원소가 가진 영향력을 제거할 수 있다.\n",
    "3. 여러 개의 데이터세트르 분할 할 때, 부트스트래핑(bootstrapping) 분할 방식을 이용하며,\n",
    "   이는 중첩(복원)을 허용한다.(데이터를 분할할때 부트스트래핑을 사용한다.)"
   ]
  },
  {
   "cell_type": "markdown",
   "id": "014ccdbb-77de-41ba-80b0-95884cf2304e",
   "metadata": {},
   "source": [
    "# < LightGBM >"
   ]
  },
  {
   "cell_type": "code",
   "execution_count": null,
   "id": "fad40f43-5b09-4d6f-baf9-227d9c16dfc4",
   "metadata": {},
   "outputs": [],
   "source": [
    "- 단점\n",
    "    적은 데이터 세트에 적용할 경우 과적합이 발생하기 쉽다.\n",
    "\n",
    "- XGBoost보다 나은 점\n",
    "    1. 학습시간이 더 빠르다.\n",
    "    2. 더 적은 메모리를 사용한다.\n",
    "\n",
    "-lightgbm의 파라미터 max_depth의 default값은 ?\n",
    " max_depth값을 따로 지정하지 않을 경우 어떤 의미를 가지는가?\n",
    "    디폴트 -1. 트리의 깊이에 제한이 없다."
   ]
  },
  {
   "cell_type": "markdown",
   "id": "8a2fafac-ff43-443b-a43f-3a9e1de10c70",
   "metadata": {},
   "source": [
    "## -> predict_proba\n",
    "\n",
    "사이킷런 분류 알고리즘에서 각 label데이터의 확률을 보여주는 메서드는 무엇인가?\n",
    "-> predict_proba"
   ]
  },
  {
   "cell_type": "code",
   "execution_count": 6,
   "id": "e8bffa73-1447-4ab7-919f-fc683f0a5a2d",
   "metadata": {
    "collapsed": true,
    "jupyter": {
     "outputs_hidden": true
    },
    "tags": []
   },
   "outputs": [
    {
     "name": "stdout",
     "output_type": "stream",
     "text": [
      "[1]\ttraining's binary_logloss: 0.625671\tvalid_1's binary_logloss: 0.628248\n",
      "[2]\ttraining's binary_logloss: 0.588173\tvalid_1's binary_logloss: 0.601106\n",
      "[3]\ttraining's binary_logloss: 0.554518\tvalid_1's binary_logloss: 0.577587\n",
      "[4]\ttraining's binary_logloss: 0.523972\tvalid_1's binary_logloss: 0.556324\n",
      "[5]\ttraining's binary_logloss: 0.49615\tvalid_1's binary_logloss: 0.537407\n",
      "[6]\ttraining's binary_logloss: 0.470108\tvalid_1's binary_logloss: 0.519401\n",
      "[7]\ttraining's binary_logloss: 0.446647\tvalid_1's binary_logloss: 0.502637\n",
      "[8]\ttraining's binary_logloss: 0.425055\tvalid_1's binary_logloss: 0.488311\n",
      "[9]\ttraining's binary_logloss: 0.405125\tvalid_1's binary_logloss: 0.474664\n",
      "[10]\ttraining's binary_logloss: 0.386526\tvalid_1's binary_logloss: 0.461267\n",
      "[11]\ttraining's binary_logloss: 0.367027\tvalid_1's binary_logloss: 0.444274\n",
      "[12]\ttraining's binary_logloss: 0.350713\tvalid_1's binary_logloss: 0.432755\n",
      "[13]\ttraining's binary_logloss: 0.334601\tvalid_1's binary_logloss: 0.421371\n",
      "[14]\ttraining's binary_logloss: 0.319854\tvalid_1's binary_logloss: 0.411418\n",
      "[15]\ttraining's binary_logloss: 0.306374\tvalid_1's binary_logloss: 0.402989\n",
      "[16]\ttraining's binary_logloss: 0.293116\tvalid_1's binary_logloss: 0.393973\n",
      "[17]\ttraining's binary_logloss: 0.280812\tvalid_1's binary_logloss: 0.384801\n",
      "[18]\ttraining's binary_logloss: 0.268352\tvalid_1's binary_logloss: 0.376191\n",
      "[19]\ttraining's binary_logloss: 0.256942\tvalid_1's binary_logloss: 0.368378\n",
      "[20]\ttraining's binary_logloss: 0.246443\tvalid_1's binary_logloss: 0.362062\n",
      "[21]\ttraining's binary_logloss: 0.236874\tvalid_1's binary_logloss: 0.355162\n",
      "[22]\ttraining's binary_logloss: 0.227501\tvalid_1's binary_logloss: 0.348933\n",
      "[23]\ttraining's binary_logloss: 0.218988\tvalid_1's binary_logloss: 0.342819\n",
      "[24]\ttraining's binary_logloss: 0.210621\tvalid_1's binary_logloss: 0.337386\n",
      "[25]\ttraining's binary_logloss: 0.202076\tvalid_1's binary_logloss: 0.331523\n",
      "[26]\ttraining's binary_logloss: 0.194199\tvalid_1's binary_logloss: 0.326349\n",
      "[27]\ttraining's binary_logloss: 0.187107\tvalid_1's binary_logloss: 0.322785\n",
      "[28]\ttraining's binary_logloss: 0.180535\tvalid_1's binary_logloss: 0.317877\n",
      "[29]\ttraining's binary_logloss: 0.173834\tvalid_1's binary_logloss: 0.313928\n",
      "[30]\ttraining's binary_logloss: 0.167198\tvalid_1's binary_logloss: 0.310105\n",
      "[31]\ttraining's binary_logloss: 0.161229\tvalid_1's binary_logloss: 0.307107\n",
      "[32]\ttraining's binary_logloss: 0.155494\tvalid_1's binary_logloss: 0.303837\n",
      "[33]\ttraining's binary_logloss: 0.149125\tvalid_1's binary_logloss: 0.300315\n",
      "[34]\ttraining's binary_logloss: 0.144045\tvalid_1's binary_logloss: 0.297816\n",
      "[35]\ttraining's binary_logloss: 0.139341\tvalid_1's binary_logloss: 0.295387\n",
      "[36]\ttraining's binary_logloss: 0.134625\tvalid_1's binary_logloss: 0.293063\n",
      "[37]\ttraining's binary_logloss: 0.129167\tvalid_1's binary_logloss: 0.289127\n",
      "[38]\ttraining's binary_logloss: 0.12472\tvalid_1's binary_logloss: 0.288697\n",
      "[39]\ttraining's binary_logloss: 0.11974\tvalid_1's binary_logloss: 0.28576\n",
      "[40]\ttraining's binary_logloss: 0.115054\tvalid_1's binary_logloss: 0.282853\n",
      "[41]\ttraining's binary_logloss: 0.110662\tvalid_1's binary_logloss: 0.279441\n",
      "[42]\ttraining's binary_logloss: 0.106358\tvalid_1's binary_logloss: 0.28113\n",
      "[43]\ttraining's binary_logloss: 0.102324\tvalid_1's binary_logloss: 0.279139\n",
      "[44]\ttraining's binary_logloss: 0.0985699\tvalid_1's binary_logloss: 0.276465\n",
      "[45]\ttraining's binary_logloss: 0.094858\tvalid_1's binary_logloss: 0.275946\n",
      "[46]\ttraining's binary_logloss: 0.0912486\tvalid_1's binary_logloss: 0.272819\n",
      "[47]\ttraining's binary_logloss: 0.0883115\tvalid_1's binary_logloss: 0.272306\n",
      "[48]\ttraining's binary_logloss: 0.0849963\tvalid_1's binary_logloss: 0.270452\n",
      "[49]\ttraining's binary_logloss: 0.0821742\tvalid_1's binary_logloss: 0.268671\n",
      "[50]\ttraining's binary_logloss: 0.0789991\tvalid_1's binary_logloss: 0.267587\n",
      "[51]\ttraining's binary_logloss: 0.0761072\tvalid_1's binary_logloss: 0.26626\n",
      "[52]\ttraining's binary_logloss: 0.0732567\tvalid_1's binary_logloss: 0.265542\n",
      "[53]\ttraining's binary_logloss: 0.0706388\tvalid_1's binary_logloss: 0.264547\n",
      "[54]\ttraining's binary_logloss: 0.0683911\tvalid_1's binary_logloss: 0.26502\n",
      "[55]\ttraining's binary_logloss: 0.0659347\tvalid_1's binary_logloss: 0.264388\n",
      "[56]\ttraining's binary_logloss: 0.0636873\tvalid_1's binary_logloss: 0.263128\n",
      "[57]\ttraining's binary_logloss: 0.0613354\tvalid_1's binary_logloss: 0.26231\n",
      "[58]\ttraining's binary_logloss: 0.0591944\tvalid_1's binary_logloss: 0.262011\n",
      "[59]\ttraining's binary_logloss: 0.057033\tvalid_1's binary_logloss: 0.261454\n",
      "[60]\ttraining's binary_logloss: 0.0550801\tvalid_1's binary_logloss: 0.260746\n",
      "[61]\ttraining's binary_logloss: 0.0532381\tvalid_1's binary_logloss: 0.260236\n",
      "[62]\ttraining's binary_logloss: 0.0514074\tvalid_1's binary_logloss: 0.261586\n",
      "[63]\ttraining's binary_logloss: 0.0494837\tvalid_1's binary_logloss: 0.261797\n",
      "[64]\ttraining's binary_logloss: 0.0477826\tvalid_1's binary_logloss: 0.262533\n",
      "[65]\ttraining's binary_logloss: 0.0460364\tvalid_1's binary_logloss: 0.263305\n",
      "[66]\ttraining's binary_logloss: 0.0444552\tvalid_1's binary_logloss: 0.264072\n",
      "[67]\ttraining's binary_logloss: 0.0427638\tvalid_1's binary_logloss: 0.266223\n",
      "[68]\ttraining's binary_logloss: 0.0412449\tvalid_1's binary_logloss: 0.266817\n",
      "[69]\ttraining's binary_logloss: 0.0398589\tvalid_1's binary_logloss: 0.267819\n",
      "[70]\ttraining's binary_logloss: 0.0383095\tvalid_1's binary_logloss: 0.267484\n",
      "[71]\ttraining's binary_logloss: 0.0368803\tvalid_1's binary_logloss: 0.270233\n",
      "[72]\ttraining's binary_logloss: 0.0355637\tvalid_1's binary_logloss: 0.268442\n",
      "[73]\ttraining's binary_logloss: 0.0341747\tvalid_1's binary_logloss: 0.26895\n",
      "[74]\ttraining's binary_logloss: 0.0328302\tvalid_1's binary_logloss: 0.266958\n",
      "[75]\ttraining's binary_logloss: 0.0317853\tvalid_1's binary_logloss: 0.268091\n",
      "[76]\ttraining's binary_logloss: 0.0305626\tvalid_1's binary_logloss: 0.266419\n",
      "[77]\ttraining's binary_logloss: 0.0295001\tvalid_1's binary_logloss: 0.268588\n",
      "[78]\ttraining's binary_logloss: 0.0284699\tvalid_1's binary_logloss: 0.270964\n",
      "[79]\ttraining's binary_logloss: 0.0273953\tvalid_1's binary_logloss: 0.270293\n",
      "[80]\ttraining's binary_logloss: 0.0264668\tvalid_1's binary_logloss: 0.270523\n",
      "[81]\ttraining's binary_logloss: 0.0254636\tvalid_1's binary_logloss: 0.270683\n",
      "[82]\ttraining's binary_logloss: 0.0245911\tvalid_1's binary_logloss: 0.273187\n",
      "[83]\ttraining's binary_logloss: 0.0236486\tvalid_1's binary_logloss: 0.275994\n",
      "[84]\ttraining's binary_logloss: 0.0228047\tvalid_1's binary_logloss: 0.274053\n",
      "[85]\ttraining's binary_logloss: 0.0221693\tvalid_1's binary_logloss: 0.273211\n",
      "[86]\ttraining's binary_logloss: 0.0213043\tvalid_1's binary_logloss: 0.272626\n",
      "[87]\ttraining's binary_logloss: 0.0203934\tvalid_1's binary_logloss: 0.27534\n",
      "[88]\ttraining's binary_logloss: 0.0195552\tvalid_1's binary_logloss: 0.276228\n",
      "[89]\ttraining's binary_logloss: 0.0188623\tvalid_1's binary_logloss: 0.27525\n",
      "[90]\ttraining's binary_logloss: 0.0183664\tvalid_1's binary_logloss: 0.276485\n",
      "[91]\ttraining's binary_logloss: 0.0176788\tvalid_1's binary_logloss: 0.277052\n",
      "[92]\ttraining's binary_logloss: 0.0170059\tvalid_1's binary_logloss: 0.277686\n",
      "[93]\ttraining's binary_logloss: 0.0164317\tvalid_1's binary_logloss: 0.275332\n",
      "[94]\ttraining's binary_logloss: 0.015878\tvalid_1's binary_logloss: 0.276236\n",
      "[95]\ttraining's binary_logloss: 0.0152959\tvalid_1's binary_logloss: 0.274538\n",
      "[96]\ttraining's binary_logloss: 0.0147216\tvalid_1's binary_logloss: 0.275244\n",
      "[97]\ttraining's binary_logloss: 0.0141758\tvalid_1's binary_logloss: 0.275829\n",
      "[98]\ttraining's binary_logloss: 0.0136551\tvalid_1's binary_logloss: 0.276654\n",
      "[99]\ttraining's binary_logloss: 0.0131585\tvalid_1's binary_logloss: 0.277859\n",
      "[100]\ttraining's binary_logloss: 0.0126961\tvalid_1's binary_logloss: 0.279265\n",
      "[101]\ttraining's binary_logloss: 0.0122421\tvalid_1's binary_logloss: 0.276695\n",
      "[102]\ttraining's binary_logloss: 0.0118067\tvalid_1's binary_logloss: 0.278488\n",
      "[103]\ttraining's binary_logloss: 0.0113994\tvalid_1's binary_logloss: 0.278932\n",
      "[104]\ttraining's binary_logloss: 0.0109799\tvalid_1's binary_logloss: 0.280997\n",
      "[105]\ttraining's binary_logloss: 0.0105953\tvalid_1's binary_logloss: 0.281454\n",
      "[106]\ttraining's binary_logloss: 0.0102381\tvalid_1's binary_logloss: 0.282058\n",
      "[107]\ttraining's binary_logloss: 0.00986714\tvalid_1's binary_logloss: 0.279275\n",
      "[108]\ttraining's binary_logloss: 0.00950998\tvalid_1's binary_logloss: 0.281427\n",
      "[109]\ttraining's binary_logloss: 0.00915965\tvalid_1's binary_logloss: 0.280752\n",
      "[110]\ttraining's binary_logloss: 0.00882581\tvalid_1's binary_logloss: 0.282152\n",
      "[111]\ttraining's binary_logloss: 0.00850714\tvalid_1's binary_logloss: 0.280894\n"
     ]
    },
    {
     "name": "stderr",
     "output_type": "stream",
     "text": [
      "C:\\Users\\admin\\anaconda3\\lib\\site-packages\\lightgbm\\sklearn.py:726: UserWarning: 'early_stopping_rounds' argument is deprecated and will be removed in a future release of LightGBM. Pass 'early_stopping()' callback via 'callbacks' argument instead.\n",
      "  _log_warning(\"'early_stopping_rounds' argument is deprecated and will be removed in a future release of LightGBM. \"\n",
      "C:\\Users\\admin\\anaconda3\\lib\\site-packages\\lightgbm\\sklearn.py:736: UserWarning: 'verbose' argument is deprecated and will be removed in a future release of LightGBM. Pass 'log_evaluation()' callback via 'callbacks' argument instead.\n",
      "  _log_warning(\"'verbose' argument is deprecated and will be removed in a future release of LightGBM. \"\n"
     ]
    }
   ],
   "source": [
    "import lightgbm\n",
    "from lightgbm import LGBMClassifier\n",
    "\n",
    "import pandas as pd\n",
    "import numpy as np\n",
    "from sklearn.datasets import load_breast_cancer\n",
    "from sklearn.model_selection import train_test_split\n",
    "\n",
    "dataset = load_breast_cancer()\n",
    "\n",
    "cancer_df = pd.DataFrame(data=dataset.data, columns=dataset.feature_names)\n",
    "cancer_df['target']=dataset.target\n",
    "\n",
    "X_features = cancer_df.iloc[:, :-1]\n",
    "y_label = cancer_df.iloc[:, -1]\n",
    "\n",
    "X_train, X_test, y_train, y_test = train_test_split(X_features, y_label, test_size=.2, random_state=156)\n",
    "X_tr, X_val, y_tr, y_val = train_test_split(X_train, y_train, test_size=.1, random_state=156)\n",
    "\n",
    "lgbm_wrapper = LGBMClassifier(n_estimators=400, learning_rate=.05)\n",
    "\n",
    "evals = [(X_tr, y_tr), (X_val, y_val)]\n",
    "lgbm_wrapper.fit(X_tr, y_tr, early_stopping_rounds=50, eval_metric='logloss',\n",
    "                eval_set=evals, verbose=True)\n",
    "preds = lgbm_wrapper.predict(X_test)\n",
    "pred_proba = lgbm_wrapper.predict_proba(X_test)[:,1]\n",
    "\n",
    "from sklearn.metrics import roc_auc_score, confusion_matrix, accuracy_score, precision_score, recall_score, f1_score\n",
    "def get_clf_eval(y_test, pred=None, pred_proba=None):\n",
    "    confusion = confusion_matrix(y_test, pred)\n",
    "    accuracy = accuracy_score(y_test , pred)\n",
    "    precision = precision_score(y_test , pred)\n",
    "    recall = recall_score(y_test , pred)\n",
    "    f1 = f1_score(y_test,pred)\n",
    "    # ROC-AUC 추가 \n",
    "    roc_auc = roc_auc_score(y_test, pred_proba)\n",
    "    print('오차 행렬')\n",
    "    print(confusion)\n",
    "    # ROC-AUC print 추가\n",
    "    print('정확도: {0:.4f}, 정밀도: {1:.4f}, 재현율: {2:.4f},\\\n",
    "    F1: {3:.4f}, AUC:{4:.4f}'.format(accuracy, precision, recall, f1, roc_auc)) "
   ]
  },
  {
   "cell_type": "code",
   "execution_count": 7,
   "id": "d12a1215-159b-45fb-a512-a272feacf6e5",
   "metadata": {},
   "outputs": [
    {
     "name": "stdout",
     "output_type": "stream",
     "text": [
      "오차 행렬\n",
      "[[34  3]\n",
      " [ 2 75]]\n",
      "정확도: 0.9561, 정밀도: 0.9615, 재현율: 0.9740,    F1: 0.9677, AUC:0.9877\n"
     ]
    }
   ],
   "source": [
    "get_clf_eval(y_test, preds, pred_proba)"
   ]
  },
  {
   "cell_type": "code",
   "execution_count": 8,
   "id": "f77f9a3e-2d66-49d6-9828-618f70017e48",
   "metadata": {},
   "outputs": [
    {
     "data": {
      "text/plain": [
       "<AxesSubplot:title={'center':'Feature importance'}, xlabel='Feature importance', ylabel='Features'>"
      ]
     },
     "execution_count": 8,
     "metadata": {},
     "output_type": "execute_result"
    },
    {
     "data": {
      "image/png": "[encoded data removed]",
      "text/plain": [
       "<Figure size 720x864 with 1 Axes>"
      ]
     },
     "metadata": {
      "needs_background": "light"
     },
     "output_type": "display_data"
    }
   ],
   "source": [
    "from lightgbm import plot_importance\n",
    "import matplotlib.pyplot as plt\n",
    "%matplotlib inline\n",
    "\n",
    "fig, ax = plt.subplots(figsize=(10,12))\n",
    "plot_importance(lgbm_wrapper, ax=ax)"
   ]
  },
  {
   "cell_type": "markdown",
   "id": "b8a3d70b-d506-4538-bef3-a4be06ba7ccd",
   "metadata": {},
   "source": [
    "# < HyperOpt > : 최적의 하이퍼 파라미터 찾기"
   ]
  },
  {
   "cell_type": "code",
   "execution_count": null,
   "id": "7f7e730e-b1f4-4456-bead-c38702618e53",
   "metadata": {},
   "outputs": [],
   "source": [
    "- 사용 순서\n",
    "a.함수 설정 b.범위 설정 c.fmin()으로 x,y값 찾기\n",
    "    -> b,a,c\n",
    "    \n",
    "-hyperopt의 hp모듈을 사용하여 -20 - 20까지 2간격을 가지는 입력변수와\n",
    "x와 -15 - 15까지 1간격으로 입력변수 y를 설정하세요.\n",
    "from hyperopt import hp\n",
    "search_space={'x':hp.quniform(-20,20,2),\n",
    "             'y':hp.quniform(-15,15,1)}\n",
    "\n",
    "hyperopt를 사용할 때 목적함수의 변환값들을 어떠한 클래스 객체로 저장한다.\n",
    "이때 사용하는 클래스는?\n",
    "    -> Trials\n",
    "\n",
    "HyperOpt 적용하여 최적의 파라미터 값을 찾을 때,\n",
    "교차 검증 정확도의 평균에 -1을 곱하여 목적함수의 입력값(fmin()의 인수)으로 넣는 이유는 무엇인가?\n",
    "    -> 정확도는 높은 값일수록 좋은 성능을 지닌 지표라고 판단하는 반면,\n",
    "       fmin() 함수는 값이 작을수록 더 좋은 최적화로 판단하기 때문이다."
   ]
  },
  {
   "cell_type": "code",
   "execution_count": null,
   "id": "9bbd3aa3-038b-4dec-8ba5-80fb81df32d3",
   "metadata": {},
   "outputs": [],
   "source": [
    "pip install hyperopt"
   ]
  },
  {
   "cell_type": "code",
   "execution_count": 2,
   "id": "b1a47ee1-7d34-426e-bcf4-8bc59aeafa0b",
   "metadata": {},
   "outputs": [],
   "source": [
    "# 1. 범위 설정\n",
    "from hyperopt import hp\n",
    "\n",
    "search_space = {'x': hp.quniform('x', -10, 10, 1), 'y': hp.quniform('y',-15,15,1)}"
   ]
  },
  {
   "cell_type": "code",
   "execution_count": 3,
   "id": "4377f097-eaac-4349-b727-5a5db24a5d0b",
   "metadata": {},
   "outputs": [],
   "source": [
    "# 2. 함수 설정\n",
    "def objective_func(search_space):\n",
    "    x = search_space['x']\n",
    "    y = search_space['y']\n",
    "    retval = x**2 - 20*y\n",
    "    \n",
    "    return retval\n",
    "\n",
    "# x=0, y=-15"
   ]
  },
  {
   "cell_type": "code",
   "execution_count": 4,
   "id": "c60ed68a-9796-4a69-aaf7-d5ac8c3abdb5",
   "metadata": {},
   "outputs": [],
   "source": [
    "# 최적의 입력값을 유추하기\n",
    "from hyperopt import fmin, tpe, Trials\n",
    "trails = Trials()"
   ]
  },
  {
   "cell_type": "code",
   "execution_count": 5,
   "id": "ad41d40e-3aef-4fd3-88a8-b560a4b2fd69",
   "metadata": {},
   "outputs": [
    {
     "name": "stdout",
     "output_type": "stream",
     "text": [
      "100%|█████████████████████████████████████████████████████████████| 5/5 [00:00<00:00, 385.41trial/s, best loss: -224.0]\n"
     ]
    }
   ],
   "source": [
    "# 3. fmin()으로 x,y값 찾기\n",
    "import numpy as np\n",
    "\n",
    "best02 = fmin(fn= objective_func, space= search_space, algo= tpe.suggest, max_evals= 5,\n",
    "    trials= trails, rstate= np.random.default_rng(seed=0))"
   ]
  },
  {
   "cell_type": "code",
   "execution_count": 6,
   "id": "c96f3f4b-53a7-4cf4-b076-fc1e8de9980f",
   "metadata": {},
   "outputs": [
    {
     "name": "stdout",
     "output_type": "stream",
     "text": [
      "{'x': -4.0, 'y': 12.0}\n"
     ]
    }
   ],
   "source": [
    "print(best02)  # 최적화를 위한 x,y를 찾아줌"
   ]
  },
  {
   "cell_type": "code",
   "execution_count": 7,
   "id": "22171145-a1c0-4010-8e42-3f8c2dbd7961",
   "metadata": {},
   "outputs": [
    {
     "name": "stdout",
     "output_type": "stream",
     "text": [
      "100%|█████████████████████████████████████████████████████████| 100/100 [00:00<00:00, 172.43trial/s, best loss: -299.0]\n",
      "{'x': -1.0, 'y': 15.0}\n"
     ]
    }
   ],
   "source": [
    "best03 = fmin(fn= objective_func, space= search_space, algo= tpe.suggest, max_evals= 100,  # 100번을 다시 돌렸다.\n",
    "    trials= trails, rstate= np.random.default_rng(seed=0))\n",
    "print(best03)"
   ]
  },
  {
   "cell_type": "markdown",
   "id": "ae5cbb30-c59a-435a-9ac0-d327158d8602",
   "metadata": {},
   "source": [
    "정확한 값을 바로 내진 못했지만 거의 근접한 값을 내주고 있다"
   ]
  },
  {
   "cell_type": "code",
   "execution_count": 1,
   "id": "a92e62aa-91fe-4c67-9fd1-09a221c3a2c0",
   "metadata": {
    "collapsed": true,
    "jupyter": {
     "outputs_hidden": true
    },
    "tags": []
   },
   "outputs": [
    {
     "ename": "NameError",
     "evalue": "name 'trails' is not defined",
     "output_type": "error",
     "traceback": [
      "\u001b[1;31m---------------------------------------------------------------------------\u001b[0m",
      "\u001b[1;31mNameError\u001b[0m                                 Traceback (most recent call last)",
      "Input \u001b[1;32mIn [1]\u001b[0m, in \u001b[0;36m<cell line: 2>\u001b[1;34m()\u001b[0m\n\u001b[0;32m      1\u001b[0m \u001b[38;5;66;03m# 속성확인\u001b[39;00m\n\u001b[1;32m----> 2\u001b[0m \u001b[43mtrails\u001b[49m\u001b[38;5;241m.\u001b[39mresults\n",
      "\u001b[1;31mNameError\u001b[0m: name 'trails' is not defined"
     ]
    }
   ],
   "source": [
    "# 속성확인\n",
    "trails.results"
   ]
  },
  {
   "cell_type": "markdown",
   "id": "a9f6f6d0-de19-4577-9487-368eb4066181",
   "metadata": {},
   "source": [
    "## -> 본격적으로 최적화"
   ]
  },
  {
   "cell_type": "code",
   "execution_count": 12,
   "id": "5aeddd13-7eb6-4432-adfe-7e9d85d84e4f",
   "metadata": {},
   "outputs": [
    {
     "name": "stdout",
     "output_type": "stream",
     "text": [
      "100%|███████████████████████████████████████████████| 50/50 [00:05<00:00,  9.94trial/s, best loss: -0.9670616939700244]\n",
      "best: {'colsample_bytree': 0.5424149213362504, 'learning_rate': 0.12601372924444681, 'max_depth': 17.0, 'min_child_weight': 2.0}\n"
     ]
    }
   ],
   "source": [
    "from sklearn.datasets import load_breast_cancer\n",
    "from sklearn.model_selection import train_test_split\n",
    "\n",
    "dataset = load_breast_cancer()\n",
    "X = features = dataset.data\n",
    "y = labels = dataset.target\n",
    "\n",
    "X_train, X_test, y_train, y_test = train_test_split(features, labels, test_size=.2, random_state=156)\n",
    "X_tr, X_val, y_tr, y_val = train_test_split(X_train, y_train, test_size=.1, random_state=156)\n",
    "\n",
    "from hyperopt import hp\n",
    "\n",
    "# max_depth는 5에서 20까지 1간격으로, min_child_weight는 1에서 2까지 1간격으로\n",
    "# colsample_bytree는 0.5에서 1사이, learning_rate는 0.01에서 0.2 사이 정규 분포된 값으로 검색.\n",
    "xgb_search_space = {'max_depth': hp.quniform('max_depth', 5, 20, 1), \n",
    "                    'min_child_weight': hp.quniform('min_child_weight', 1, 2, 1),\n",
    "                    'learning_rate': hp.uniform('learning_rate', 0.01, 0.2),\n",
    "                    'colsample_bytree': hp.uniform('colsample_bytree', 0.5, 1),\n",
    "                   }\n",
    "\n",
    "from sklearn.model_selection import cross_val_score\n",
    "from xgboost import XGBClassifier\n",
    "from hyperopt import STATUS_OK\n",
    "\n",
    "# fmin()에서 입력된 search_space 값으로 입력된 모든 값은 실수형임.\n",
    "# XGBClassifier의 정수형 하이퍼 파라미터는 정수형 변환을 해줘야 함.\n",
    "# 정확도는 높을수록 더 좋은 수치임. -1 * 정확도를 곱해서 큰 정확도 값일수록 최소가 되도록 변환\n",
    "def objective_func(search_space):\n",
    "    # 수행 시간 절약을 위해 nestimators는 100으로 축소\n",
    "    xgb_clf = XGBClassifier(n_estimators=100, max_depth=int(search_space['max_depth']),\n",
    "                            min_child_weight=int(search_space['min_child_weight']),\n",
    "                            learning_rate=search_space['learning_rate'],\n",
    "                            colsample_bytree=search_space['colsample_bytree'],\n",
    "                            eval_metric='logloss')\n",
    "    accuracy = cross_val_score(xgb_clf, X_train, y_train, scoring='accuracy', cv=3)\n",
    "    \n",
    "    # accuracy는 cv=3 개수만큼 roc-auc 결과를 리스트로 가짐. 이를 평균해서 반환하되 -1을 곱함.\n",
    "    return {'loss':-1 * np.mean(accuracy), 'status': STATUS_OK} \n",
    "\n",
    "from hyperopt import fmin, tpe, Trials\n",
    "import warnings\n",
    "warnings.filterwarnings('ignore')\n",
    "\n",
    "trial_val = Trials()\n",
    "best = fmin(fn=objective_func,\n",
    "            space=xgb_search_space,\n",
    "            algo=tpe.suggest,\n",
    "            max_evals=50, # 최대 반복 횟수를 지정합니다.\n",
    "            trials=trial_val, rstate=np.random.default_rng(seed=9))\n",
    "print('best:', best) "
   ]
  },
  {
   "cell_type": "markdown",
   "id": "47947bdd-e854-4e7d-b15f-6fe74912e9b2",
   "metadata": {},
   "source": [
    "## -> 성능 평가"
   ]
  },
  {
   "cell_type": "code",
   "execution_count": 16,
   "id": "f953e83d-5229-4c03-bd09-806f76143386",
   "metadata": {},
   "outputs": [
    {
     "name": "stdout",
     "output_type": "stream",
     "text": [
      "[13:28:00] WARNING: ..\\src\\learner.cc:1115: Starting in XGBoost 1.3.0, the default evaluation metric used with the objective 'binary:logistic' was changed from 'error' to 'logloss'. Explicitly set eval_metric if you'd like to restore the old behavior.\n"
     ]
    },
    {
     "data": {
      "text/plain": [
       "0.9473684210526315"
      ]
     },
     "execution_count": 16,
     "metadata": {},
     "output_type": "execute_result"
    }
   ],
   "source": [
    "from sklearn.metrics import accuracy_score\n",
    "\n",
    "xgb_clf = XGBClassifier(n_estimators=100, max_depth=17,\n",
    "                            min_child_weight=2,\n",
    "                            learning_rate=.126,\n",
    "                            colsample_bytree=.54)\n",
    "\n",
    "xgb_clf.fit(X_train, y_train)\n",
    "\n",
    "preds = xgb_clf.predict(X_test)\n",
    "accuracy_score(y_test, preds)"
   ]
  },
  {
   "cell_type": "markdown",
   "id": "570ccc58-9a30-4a2d-bc95-67e40c9410e0",
   "metadata": {},
   "source": [
    "# < SMOTE >"
   ]
  },
  {
   "cell_type": "markdown",
   "id": "b5803b1d-22e7-4d2c-b308-cc8f1d1278ba",
   "metadata": {},
   "source": [
    "- Credit card fraud detection"
   ]
  },
  {
   "cell_type": "code",
   "execution_count": 3,
   "id": "ef429caf-1a6a-4d59-87a2-ab7bc1503b97",
   "metadata": {},
   "outputs": [
    {
     "data": {
      "text/html": [
       "<div>\n",
       "<style scoped>\n",
       "    .dataframe tbody tr th:only-of-type {\n",
       "        vertical-align: middle;\n",
       "    }\n",
       "\n",
       "    .dataframe tbody tr th {\n",
       "        vertical-align: top;\n",
       "    }\n",
       "\n",
       "    .dataframe thead th {\n",
       "        text-align: right;\n",
       "    }\n",
       "</style>\n",
       "<table border=\"1\" class=\"dataframe\">\n",
       "  <thead>\n",
       "    <tr style=\"text-align: right;\">\n",
       "      <th></th>\n",
       "      <th>Time</th>\n",
       "      <th>V1</th>\n",
       "      <th>V2</th>\n",
       "      <th>V3</th>\n",
       "      <th>V4</th>\n",
       "      <th>V5</th>\n",
       "      <th>V6</th>\n",
       "      <th>V7</th>\n",
       "      <th>V8</th>\n",
       "      <th>V9</th>\n",
       "      <th>...</th>\n",
       "      <th>V21</th>\n",
       "      <th>V22</th>\n",
       "      <th>V23</th>\n",
       "      <th>V24</th>\n",
       "      <th>V25</th>\n",
       "      <th>V26</th>\n",
       "      <th>V27</th>\n",
       "      <th>V28</th>\n",
       "      <th>Amount</th>\n",
       "      <th>Class</th>\n",
       "    </tr>\n",
       "  </thead>\n",
       "  <tbody>\n",
       "    <tr>\n",
       "      <th>0</th>\n",
       "      <td>0.0</td>\n",
       "      <td>-1.359807</td>\n",
       "      <td>-0.072781</td>\n",
       "      <td>2.536347</td>\n",
       "      <td>1.378155</td>\n",
       "      <td>-0.338321</td>\n",
       "      <td>0.462388</td>\n",
       "      <td>0.239599</td>\n",
       "      <td>0.098698</td>\n",
       "      <td>0.363787</td>\n",
       "      <td>...</td>\n",
       "      <td>-0.018307</td>\n",
       "      <td>0.277838</td>\n",
       "      <td>-0.110474</td>\n",
       "      <td>0.066928</td>\n",
       "      <td>0.128539</td>\n",
       "      <td>-0.189115</td>\n",
       "      <td>0.133558</td>\n",
       "      <td>-0.021053</td>\n",
       "      <td>149.62</td>\n",
       "      <td>0</td>\n",
       "    </tr>\n",
       "    <tr>\n",
       "      <th>1</th>\n",
       "      <td>0.0</td>\n",
       "      <td>1.191857</td>\n",
       "      <td>0.266151</td>\n",
       "      <td>0.166480</td>\n",
       "      <td>0.448154</td>\n",
       "      <td>0.060018</td>\n",
       "      <td>-0.082361</td>\n",
       "      <td>-0.078803</td>\n",
       "      <td>0.085102</td>\n",
       "      <td>-0.255425</td>\n",
       "      <td>...</td>\n",
       "      <td>-0.225775</td>\n",
       "      <td>-0.638672</td>\n",
       "      <td>0.101288</td>\n",
       "      <td>-0.339846</td>\n",
       "      <td>0.167170</td>\n",
       "      <td>0.125895</td>\n",
       "      <td>-0.008983</td>\n",
       "      <td>0.014724</td>\n",
       "      <td>2.69</td>\n",
       "      <td>0</td>\n",
       "    </tr>\n",
       "    <tr>\n",
       "      <th>2</th>\n",
       "      <td>1.0</td>\n",
       "      <td>-1.358354</td>\n",
       "      <td>-1.340163</td>\n",
       "      <td>1.773209</td>\n",
       "      <td>0.379780</td>\n",
       "      <td>-0.503198</td>\n",
       "      <td>1.800499</td>\n",
       "      <td>0.791461</td>\n",
       "      <td>0.247676</td>\n",
       "      <td>-1.514654</td>\n",
       "      <td>...</td>\n",
       "      <td>0.247998</td>\n",
       "      <td>0.771679</td>\n",
       "      <td>0.909412</td>\n",
       "      <td>-0.689281</td>\n",
       "      <td>-0.327642</td>\n",
       "      <td>-0.139097</td>\n",
       "      <td>-0.055353</td>\n",
       "      <td>-0.059752</td>\n",
       "      <td>378.66</td>\n",
       "      <td>0</td>\n",
       "    </tr>\n",
       "    <tr>\n",
       "      <th>3</th>\n",
       "      <td>1.0</td>\n",
       "      <td>-0.966272</td>\n",
       "      <td>-0.185226</td>\n",
       "      <td>1.792993</td>\n",
       "      <td>-0.863291</td>\n",
       "      <td>-0.010309</td>\n",
       "      <td>1.247203</td>\n",
       "      <td>0.237609</td>\n",
       "      <td>0.377436</td>\n",
       "      <td>-1.387024</td>\n",
       "      <td>...</td>\n",
       "      <td>-0.108300</td>\n",
       "      <td>0.005274</td>\n",
       "      <td>-0.190321</td>\n",
       "      <td>-1.175575</td>\n",
       "      <td>0.647376</td>\n",
       "      <td>-0.221929</td>\n",
       "      <td>0.062723</td>\n",
       "      <td>0.061458</td>\n",
       "      <td>123.50</td>\n",
       "      <td>0</td>\n",
       "    </tr>\n",
       "    <tr>\n",
       "      <th>4</th>\n",
       "      <td>2.0</td>\n",
       "      <td>-1.158233</td>\n",
       "      <td>0.877737</td>\n",
       "      <td>1.548718</td>\n",
       "      <td>0.403034</td>\n",
       "      <td>-0.407193</td>\n",
       "      <td>0.095921</td>\n",
       "      <td>0.592941</td>\n",
       "      <td>-0.270533</td>\n",
       "      <td>0.817739</td>\n",
       "      <td>...</td>\n",
       "      <td>-0.009431</td>\n",
       "      <td>0.798278</td>\n",
       "      <td>-0.137458</td>\n",
       "      <td>0.141267</td>\n",
       "      <td>-0.206010</td>\n",
       "      <td>0.502292</td>\n",
       "      <td>0.219422</td>\n",
       "      <td>0.215153</td>\n",
       "      <td>69.99</td>\n",
       "      <td>0</td>\n",
       "    </tr>\n",
       "  </tbody>\n",
       "</table>\n",
       "<p>5 rows × 31 columns</p>\n",
       "</div>"
      ],
      "text/plain": [
       "   Time        V1        V2        V3        V4        V5        V6        V7  \\\n",
       "0   0.0 -1.359807 -0.072781  2.536347  1.378155 -0.338321  0.462388  0.239599   \n",
       "1   0.0  1.191857  0.266151  0.166480  0.448154  0.060018 -0.082361 -0.078803   \n",
       "2   1.0 -1.358354 -1.340163  1.773209  0.379780 -0.503198  1.800499  0.791461   \n",
       "3   1.0 -0.966272 -0.185226  1.792993 -0.863291 -0.010309  1.247203  0.237609   \n",
       "4   2.0 -1.158233  0.877737  1.548718  0.403034 -0.407193  0.095921  0.592941   \n",
       "\n",
       "         V8        V9  ...       V21       V22       V23       V24       V25  \\\n",
       "0  0.098698  0.363787  ... -0.018307  0.277838 -0.110474  0.066928  0.128539   \n",
       "1  0.085102 -0.255425  ... -0.225775 -0.638672  0.101288 -0.339846  0.167170   \n",
       "2  0.247676 -1.514654  ...  0.247998  0.771679  0.909412 -0.689281 -0.327642   \n",
       "3  0.377436 -1.387024  ... -0.108300  0.005274 -0.190321 -1.175575  0.647376   \n",
       "4 -0.270533  0.817739  ... -0.009431  0.798278 -0.137458  0.141267 -0.206010   \n",
       "\n",
       "        V26       V27       V28  Amount  Class  \n",
       "0 -0.189115  0.133558 -0.021053  149.62      0  \n",
       "1  0.125895 -0.008983  0.014724    2.69      0  \n",
       "2 -0.139097 -0.055353 -0.059752  378.66      0  \n",
       "3 -0.221929  0.062723  0.061458  123.50      0  \n",
       "4  0.502292  0.219422  0.215153   69.99      0  \n",
       "\n",
       "[5 rows x 31 columns]"
      ]
     },
     "execution_count": 3,
     "metadata": {},
     "output_type": "execute_result"
    }
   ],
   "source": [
    "import pandas as pd\n",
    "card = pd.read_csv('creditcard.csv')\n",
    "card.head()"
   ]
  },
  {
   "cell_type": "code",
   "execution_count": null,
   "id": "2c14f917-2037-4be0-afc6-13d0acf62ee0",
   "metadata": {},
   "outputs": [],
   "source": [
    "card.shape"
   ]
  },
  {
   "cell_type": "markdown",
   "id": "54d04bdd-07ee-4ce9-975d-fb6af4773344",
   "metadata": {},
   "source": [
    "- LogisticRegression 모델 사용"
   ]
  },
  {
   "cell_type": "code",
   "execution_count": 4,
   "id": "6621000c-a281-4ab3-ac60-25aeb246d8a9",
   "metadata": {},
   "outputs": [
    {
     "data": {
      "text/plain": [
       "0    0.998275\n",
       "1    0.001725\n",
       "Name: Class, dtype: float64"
      ]
     },
     "execution_count": 4,
     "metadata": {},
     "output_type": "execute_result"
    }
   ],
   "source": [
    "# 1. Time 칼럼을 삭제하기\n",
    "card = card.drop(['Time'], axis = 1)\n",
    "\n",
    "# 2. 데이터셋 분리\n",
    "from sklearn.model_selection  import train_test_split\n",
    "features = card.iloc[:, :-1]\n",
    "labels = card.iloc[:, -1]\n",
    "X_train, X_test, y_train, y_test = train_test_split(features, labels, test_size = .3, stratify = labels) \n",
    "\n",
    "y_train.value_counts()/len(y_train) #len(y_train)은 전체값이다."
   ]
  },
  {
   "cell_type": "code",
   "execution_count": 5,
   "id": "72c4e14d-d057-4c7b-984d-10790cc7787f",
   "metadata": {},
   "outputs": [
    {
     "name": "stdout",
     "output_type": "stream",
     "text": [
      "오차 행렬\n",
      "[[85282    13]\n",
      " [   62    86]]\n",
      "정확도: 0.9991, 정밀도: 0.8687, 재현율: 0.5811,    F1: 0.6964, AUC:0.9745\n"
     ]
    }
   ],
   "source": [
    "# 3. 모델 생성하고 fit, predict, evaluate하기\n",
    "from sklearn.linear_model import LogisticRegression\n",
    "from sklearn.metrics import accuracy_score\n",
    "\n",
    "lr_clf = LogisticRegression(max_iter = 1000) #반복개수를 1000번\n",
    "lr_clf.fit(X_train, y_train)\n",
    "preds = lr_clf.predict(X_test)\n",
    "preds_proba = lr_clf.predict_proba(X_test)[:, 1]\n",
    "\n",
    "from sklearn.metrics import roc_auc_score, confusion_matrix, accuracy_score, precision_score, recall_score, f1_score\n",
    "\n",
    "def get_clf_eval(y_test, pred=None, pred_proba=None):\n",
    "    confusion = confusion_matrix( y_test, pred)\n",
    "    accuracy = accuracy_score(y_test , pred)\n",
    "    precision = precision_score(y_test , pred)\n",
    "    recall = recall_score(y_test , pred)\n",
    "    f1 = f1_score(y_test,pred)\n",
    "    # ROC-AUC 추가 \n",
    "    roc_auc = roc_auc_score(y_test, pred_proba)\n",
    "    print('오차 행렬')\n",
    "    print(confusion)\n",
    "    # ROC-AUC print 추가\n",
    "    print('정확도: {0:.4f}, 정밀도: {1:.4f}, 재현율: {2:.4f},\\\n",
    "    F1: {3:.4f}, AUC:{4:.4f}'.format(accuracy, precision, recall, f1, roc_auc)) \n",
    "    \n",
    "get_clf_eval(y_test, preds, preds_proba) #AUC 값을 내려고 preds_proba 시용함"
   ]
  },
  {
   "cell_type": "markdown",
   "id": "151198d7-16aa-40e2-8f38-b03b5f3286c8",
   "metadata": {},
   "source": [
    "- LGBMClassifier 모델 사용"
   ]
  },
  {
   "cell_type": "code",
   "execution_count": 6,
   "id": "b328e7dd-6e45-4772-aeec-84373978ecbd",
   "metadata": {},
   "outputs": [
    {
     "name": "stdout",
     "output_type": "stream",
     "text": [
      "오차 행렬\n",
      "[[85290     5]\n",
      " [   30   118]]\n",
      "정확도: 0.9996, 정밀도: 0.9593, 재현율: 0.7973,    F1: 0.8708, AUC:0.9785\n"
     ]
    }
   ],
   "source": [
    "from lightgbm import LGBMClassifier\n",
    "\n",
    "lgbm_clf =LGBMClassifier(n_estimators = 1000, num_leaves= 64, n_jobs= -1, boost_from_average= False) \n",
    "lgbm_clf.fit(X_train, y_train)\n",
    "preds = lgbm_clf.predict(X_test)\n",
    "preds_proba = lgbm_clf.predict_proba(X_test)[:, 1]\n",
    "\n",
    "get_clf_eval(y_test, preds, preds_proba)"
   ]
  },
  {
   "cell_type": "markdown",
   "id": "931ef892-44e8-4aa3-8c4a-7d1d49ff9377",
   "metadata": {},
   "source": [
    "아까 91에서 117로 늘어났다.(높아졌다.)"
   ]
  },
  {
   "cell_type": "markdown",
   "id": "3876d26e-6e0b-4883-a5cf-8e62468b9201",
   "metadata": {},
   "source": [
    "## -> 데이터 정제(Scaling) 후 적용"
   ]
  },
  {
   "cell_type": "code",
   "execution_count": 8,
   "id": "3df170e7-d831-4e69-a737-3225992b073a",
   "metadata": {},
   "outputs": [
    {
     "data": {
      "text/plain": [
       "count    284807.000000\n",
       "mean         88.349619\n",
       "std         250.120109\n",
       "min           0.000000\n",
       "25%           5.600000\n",
       "50%          22.000000\n",
       "75%          77.165000\n",
       "max       25691.160000\n",
       "Name: Amount, dtype: float64"
      ]
     },
     "execution_count": 8,
     "metadata": {},
     "output_type": "execute_result"
    }
   ],
   "source": [
    "card['Amount'].describe()"
   ]
  },
  {
   "cell_type": "code",
   "execution_count": 9,
   "id": "79e35496-0980-4bc2-9059-d6676b731354",
   "metadata": {},
   "outputs": [
    {
     "data": {
      "text/html": [
       "<div>\n",
       "<style scoped>\n",
       "    .dataframe tbody tr th:only-of-type {\n",
       "        vertical-align: middle;\n",
       "    }\n",
       "\n",
       "    .dataframe tbody tr th {\n",
       "        vertical-align: top;\n",
       "    }\n",
       "\n",
       "    .dataframe thead th {\n",
       "        text-align: right;\n",
       "    }\n",
       "</style>\n",
       "<table border=\"1\" class=\"dataframe\">\n",
       "  <thead>\n",
       "    <tr style=\"text-align: right;\">\n",
       "      <th></th>\n",
       "      <th>V1</th>\n",
       "      <th>V2</th>\n",
       "      <th>V3</th>\n",
       "      <th>V4</th>\n",
       "      <th>V5</th>\n",
       "      <th>V6</th>\n",
       "      <th>V7</th>\n",
       "      <th>V8</th>\n",
       "      <th>V9</th>\n",
       "      <th>V10</th>\n",
       "      <th>...</th>\n",
       "      <th>V21</th>\n",
       "      <th>V22</th>\n",
       "      <th>V23</th>\n",
       "      <th>V24</th>\n",
       "      <th>V25</th>\n",
       "      <th>V26</th>\n",
       "      <th>V27</th>\n",
       "      <th>V28</th>\n",
       "      <th>Amount</th>\n",
       "      <th>Class</th>\n",
       "    </tr>\n",
       "  </thead>\n",
       "  <tbody>\n",
       "    <tr>\n",
       "      <th>0</th>\n",
       "      <td>-1.359807</td>\n",
       "      <td>-0.072781</td>\n",
       "      <td>2.536347</td>\n",
       "      <td>1.378155</td>\n",
       "      <td>-0.338321</td>\n",
       "      <td>0.462388</td>\n",
       "      <td>0.239599</td>\n",
       "      <td>0.098698</td>\n",
       "      <td>0.363787</td>\n",
       "      <td>0.090794</td>\n",
       "      <td>...</td>\n",
       "      <td>-0.018307</td>\n",
       "      <td>0.277838</td>\n",
       "      <td>-0.110474</td>\n",
       "      <td>0.066928</td>\n",
       "      <td>0.128539</td>\n",
       "      <td>-0.189115</td>\n",
       "      <td>0.133558</td>\n",
       "      <td>-0.021053</td>\n",
       "      <td>0.244964</td>\n",
       "      <td>0</td>\n",
       "    </tr>\n",
       "    <tr>\n",
       "      <th>1</th>\n",
       "      <td>1.191857</td>\n",
       "      <td>0.266151</td>\n",
       "      <td>0.166480</td>\n",
       "      <td>0.448154</td>\n",
       "      <td>0.060018</td>\n",
       "      <td>-0.082361</td>\n",
       "      <td>-0.078803</td>\n",
       "      <td>0.085102</td>\n",
       "      <td>-0.255425</td>\n",
       "      <td>-0.166974</td>\n",
       "      <td>...</td>\n",
       "      <td>-0.225775</td>\n",
       "      <td>-0.638672</td>\n",
       "      <td>0.101288</td>\n",
       "      <td>-0.339846</td>\n",
       "      <td>0.167170</td>\n",
       "      <td>0.125895</td>\n",
       "      <td>-0.008983</td>\n",
       "      <td>0.014724</td>\n",
       "      <td>-0.342475</td>\n",
       "      <td>0</td>\n",
       "    </tr>\n",
       "    <tr>\n",
       "      <th>2</th>\n",
       "      <td>-1.358354</td>\n",
       "      <td>-1.340163</td>\n",
       "      <td>1.773209</td>\n",
       "      <td>0.379780</td>\n",
       "      <td>-0.503198</td>\n",
       "      <td>1.800499</td>\n",
       "      <td>0.791461</td>\n",
       "      <td>0.247676</td>\n",
       "      <td>-1.514654</td>\n",
       "      <td>0.207643</td>\n",
       "      <td>...</td>\n",
       "      <td>0.247998</td>\n",
       "      <td>0.771679</td>\n",
       "      <td>0.909412</td>\n",
       "      <td>-0.689281</td>\n",
       "      <td>-0.327642</td>\n",
       "      <td>-0.139097</td>\n",
       "      <td>-0.055353</td>\n",
       "      <td>-0.059752</td>\n",
       "      <td>1.160686</td>\n",
       "      <td>0</td>\n",
       "    </tr>\n",
       "  </tbody>\n",
       "</table>\n",
       "<p>3 rows × 30 columns</p>\n",
       "</div>"
      ],
      "text/plain": [
       "         V1        V2        V3        V4        V5        V6        V7  \\\n",
       "0 -1.359807 -0.072781  2.536347  1.378155 -0.338321  0.462388  0.239599   \n",
       "1  1.191857  0.266151  0.166480  0.448154  0.060018 -0.082361 -0.078803   \n",
       "2 -1.358354 -1.340163  1.773209  0.379780 -0.503198  1.800499  0.791461   \n",
       "\n",
       "         V8        V9       V10  ...       V21       V22       V23       V24  \\\n",
       "0  0.098698  0.363787  0.090794  ... -0.018307  0.277838 -0.110474  0.066928   \n",
       "1  0.085102 -0.255425 -0.166974  ... -0.225775 -0.638672  0.101288 -0.339846   \n",
       "2  0.247676 -1.514654  0.207643  ...  0.247998  0.771679  0.909412 -0.689281   \n",
       "\n",
       "        V25       V26       V27       V28    Amount  Class  \n",
       "0  0.128539 -0.189115  0.133558 -0.021053  0.244964      0  \n",
       "1  0.167170  0.125895 -0.008983  0.014724 -0.342475      0  \n",
       "2 -0.327642 -0.139097 -0.055353 -0.059752  1.160686      0  \n",
       "\n",
       "[3 rows x 30 columns]"
      ]
     },
     "execution_count": 9,
     "metadata": {},
     "output_type": "execute_result"
    }
   ],
   "source": [
    "# 표준화 하기\n",
    "from sklearn.preprocessing import StandardScaler\n",
    "\n",
    "scaler = StandardScaler()\n",
    "card['Amount'] = scaler.fit_transform(card['Amount'].values.reshape(-1,1))\n",
    "card[:3]"
   ]
  },
  {
   "cell_type": "code",
   "execution_count": 10,
   "id": "82fc82b3-1c98-4334-b055-24ba9eed0411",
   "metadata": {},
   "outputs": [
    {
     "name": "stdout",
     "output_type": "stream",
     "text": [
      "오차 행렬\n",
      "[[85284    11]\n",
      " [   55    93]]\n",
      "정확도: 0.9992, 정밀도: 0.8942, 재현율: 0.6284,    F1: 0.7381, AUC:0.9690\n"
     ]
    }
   ],
   "source": [
    "# 표준화 후 결과\n",
    "from sklearn.model_selection  import train_test_split\n",
    "features = card.iloc[:, :-1]\n",
    "labels = card.iloc[:, -1]\n",
    "X_train, X_test, y_train, y_test = train_test_split(features, labels, test_size = .3, stratify = labels)\n",
    "\n",
    "from sklearn.linear_model import LogisticRegression\n",
    "\n",
    "lr_clf = LogisticRegression(max_iter = 1000) #반복개수를 1000번\n",
    "lr_clf.fit(X_train, y_train)\n",
    "preds = lr_clf.predict(X_test)\n",
    "preds_proba = lr_clf.predict_proba(X_test)[:, 1]\n",
    "\n",
    "get_clf_eval(y_test, preds, preds_proba)"
   ]
  },
  {
   "cell_type": "code",
   "execution_count": 11,
   "id": "69b24bef-64bc-4ee7-927d-c3e3bc33d867",
   "metadata": {},
   "outputs": [
    {
     "name": "stdout",
     "output_type": "stream",
     "text": [
      "오차 행렬\n",
      "[[85292     3]\n",
      " [   32   116]]\n",
      "정확도: 0.9996, 정밀도: 0.9748, 재현율: 0.7838,    F1: 0.8689, AUC:0.9804\n"
     ]
    }
   ],
   "source": [
    "from lightgbm import LGBMClassifier\n",
    "\n",
    "lgbm_clf =LGBMClassifier(n_estimators = 1000, num_leaves= 64, n_jobs= -1, boost_from_average= False) \n",
    "lgbm_clf.fit(X_train, y_train)\n",
    "preds = lgbm_clf.predict(X_test)\n",
    "preds_proba = lgbm_clf.predict_proba(X_test)[:, 1]\n",
    "\n",
    "get_clf_eval(y_test, preds, preds_proba)"
   ]
  },
  {
   "cell_type": "markdown",
   "id": "8e3042bd-767a-4859-8a53-feee6529e648",
   "metadata": {},
   "source": [
    "## -> 데이터 정제(로그변환) 후 변환"
   ]
  },
  {
   "cell_type": "code",
   "execution_count": 14,
   "id": "1866fe5b-db0f-4109-bb9b-d29eba30d242",
   "metadata": {},
   "outputs": [
    {
     "data": {
      "text/html": [
       "<div>\n",
       "<style scoped>\n",
       "    .dataframe tbody tr th:only-of-type {\n",
       "        vertical-align: middle;\n",
       "    }\n",
       "\n",
       "    .dataframe tbody tr th {\n",
       "        vertical-align: top;\n",
       "    }\n",
       "\n",
       "    .dataframe thead th {\n",
       "        text-align: right;\n",
       "    }\n",
       "</style>\n",
       "<table border=\"1\" class=\"dataframe\">\n",
       "  <thead>\n",
       "    <tr style=\"text-align: right;\">\n",
       "      <th></th>\n",
       "      <th>V1</th>\n",
       "      <th>V2</th>\n",
       "      <th>V3</th>\n",
       "      <th>V4</th>\n",
       "      <th>V5</th>\n",
       "      <th>V6</th>\n",
       "      <th>V7</th>\n",
       "      <th>V8</th>\n",
       "      <th>V9</th>\n",
       "      <th>V10</th>\n",
       "      <th>...</th>\n",
       "      <th>V21</th>\n",
       "      <th>V22</th>\n",
       "      <th>V23</th>\n",
       "      <th>V24</th>\n",
       "      <th>V25</th>\n",
       "      <th>V26</th>\n",
       "      <th>V27</th>\n",
       "      <th>V28</th>\n",
       "      <th>Amount</th>\n",
       "      <th>Class</th>\n",
       "    </tr>\n",
       "  </thead>\n",
       "  <tbody>\n",
       "    <tr>\n",
       "      <th>0</th>\n",
       "      <td>-1.359807</td>\n",
       "      <td>-0.072781</td>\n",
       "      <td>2.536347</td>\n",
       "      <td>1.378155</td>\n",
       "      <td>-0.338321</td>\n",
       "      <td>0.462388</td>\n",
       "      <td>0.239599</td>\n",
       "      <td>0.098698</td>\n",
       "      <td>0.363787</td>\n",
       "      <td>0.090794</td>\n",
       "      <td>...</td>\n",
       "      <td>-0.018307</td>\n",
       "      <td>0.277838</td>\n",
       "      <td>-0.110474</td>\n",
       "      <td>0.066928</td>\n",
       "      <td>0.128539</td>\n",
       "      <td>-0.189115</td>\n",
       "      <td>0.133558</td>\n",
       "      <td>-0.021053</td>\n",
       "      <td>5.014760</td>\n",
       "      <td>0</td>\n",
       "    </tr>\n",
       "    <tr>\n",
       "      <th>1</th>\n",
       "      <td>1.191857</td>\n",
       "      <td>0.266151</td>\n",
       "      <td>0.166480</td>\n",
       "      <td>0.448154</td>\n",
       "      <td>0.060018</td>\n",
       "      <td>-0.082361</td>\n",
       "      <td>-0.078803</td>\n",
       "      <td>0.085102</td>\n",
       "      <td>-0.255425</td>\n",
       "      <td>-0.166974</td>\n",
       "      <td>...</td>\n",
       "      <td>-0.225775</td>\n",
       "      <td>-0.638672</td>\n",
       "      <td>0.101288</td>\n",
       "      <td>-0.339846</td>\n",
       "      <td>0.167170</td>\n",
       "      <td>0.125895</td>\n",
       "      <td>-0.008983</td>\n",
       "      <td>0.014724</td>\n",
       "      <td>1.305626</td>\n",
       "      <td>0</td>\n",
       "    </tr>\n",
       "    <tr>\n",
       "      <th>2</th>\n",
       "      <td>-1.358354</td>\n",
       "      <td>-1.340163</td>\n",
       "      <td>1.773209</td>\n",
       "      <td>0.379780</td>\n",
       "      <td>-0.503198</td>\n",
       "      <td>1.800499</td>\n",
       "      <td>0.791461</td>\n",
       "      <td>0.247676</td>\n",
       "      <td>-1.514654</td>\n",
       "      <td>0.207643</td>\n",
       "      <td>...</td>\n",
       "      <td>0.247998</td>\n",
       "      <td>0.771679</td>\n",
       "      <td>0.909412</td>\n",
       "      <td>-0.689281</td>\n",
       "      <td>-0.327642</td>\n",
       "      <td>-0.139097</td>\n",
       "      <td>-0.055353</td>\n",
       "      <td>-0.059752</td>\n",
       "      <td>5.939276</td>\n",
       "      <td>0</td>\n",
       "    </tr>\n",
       "  </tbody>\n",
       "</table>\n",
       "<p>3 rows × 30 columns</p>\n",
       "</div>"
      ],
      "text/plain": [
       "         V1        V2        V3        V4        V5        V6        V7  \\\n",
       "0 -1.359807 -0.072781  2.536347  1.378155 -0.338321  0.462388  0.239599   \n",
       "1  1.191857  0.266151  0.166480  0.448154  0.060018 -0.082361 -0.078803   \n",
       "2 -1.358354 -1.340163  1.773209  0.379780 -0.503198  1.800499  0.791461   \n",
       "\n",
       "         V8        V9       V10  ...       V21       V22       V23       V24  \\\n",
       "0  0.098698  0.363787  0.090794  ... -0.018307  0.277838 -0.110474  0.066928   \n",
       "1  0.085102 -0.255425 -0.166974  ... -0.225775 -0.638672  0.101288 -0.339846   \n",
       "2  0.247676 -1.514654  0.207643  ...  0.247998  0.771679  0.909412 -0.689281   \n",
       "\n",
       "        V25       V26       V27       V28    Amount  Class  \n",
       "0  0.128539 -0.189115  0.133558 -0.021053  5.014760      0  \n",
       "1  0.167170  0.125895 -0.008983  0.014724  1.305626      0  \n",
       "2 -0.327642 -0.139097 -0.055353 -0.059752  5.939276      0  \n",
       "\n",
       "[3 rows x 30 columns]"
      ]
     },
     "execution_count": 14,
     "metadata": {},
     "output_type": "execute_result"
    }
   ],
   "source": [
    "import numpy as np\n",
    "card = pd.read_csv('creditcard.csv')\n",
    "card = card.drop(['Time'], axis = 1)\n",
    "\n",
    "# 로그변환 하기\n",
    "card['Amount'] = np.log1p(card['Amount'])\n",
    "card[:3]  #로그를 사용하는 이유: 숫자가 너무 커서"
   ]
  },
  {
   "cell_type": "code",
   "execution_count": 15,
   "id": "e14f2493-689e-4f1a-bd61-eca5d43ad02d",
   "metadata": {},
   "outputs": [
    {
     "name": "stdout",
     "output_type": "stream",
     "text": [
      "오차 행렬\n",
      "[[85276    19]\n",
      " [   49    99]]\n",
      "정확도: 0.9992, 정밀도: 0.8390, 재현율: 0.6689,    F1: 0.7444, AUC:0.9779\n",
      "None\n",
      "\n",
      "오차 행렬\n",
      "[[85287     8]\n",
      " [   28   120]]\n",
      "정확도: 0.9996, 정밀도: 0.9375, 재현율: 0.8108,    F1: 0.8696, AUC:0.9814\n",
      "None\n"
     ]
    }
   ],
   "source": [
    "from sklearn.model_selection  import train_test_split\n",
    "features = card.iloc[:, :-1]\n",
    "labels = card.iloc[:, -1]\n",
    "X_train, X_test, y_train, y_test = train_test_split(features, labels, test_size = .3, stratify = labels)\n",
    "\n",
    "from sklearn.linear_model import LogisticRegression\n",
    "\n",
    "lr_clf = LogisticRegression(max_iter = 1000)\n",
    "lr_clf.fit(X_train, y_train)\n",
    "preds = lr_clf.predict(X_test)\n",
    "preds_proba = lr_clf.predict_proba(X_test)[:, 1]\n",
    "\n",
    "print(get_clf_eval(y_test, preds, preds_proba))\n",
    "print()\n",
    "\n",
    "\n",
    "from lightgbm import LGBMClassifier\n",
    "\n",
    "lgbm_clf =LGBMClassifier(n_estimators = 1000, num_leaves= 64, n_jobs= -1, boost_from_average= False) \n",
    "lgbm_clf.fit(X_train, y_train)\n",
    "preds = lgbm_clf.predict(X_test)\n",
    "preds_proba = lgbm_clf.predict_proba(X_test)[:, 1]\n",
    "\n",
    "print(get_clf_eval(y_test, preds, preds_proba))"
   ]
  },
  {
   "cell_type": "markdown",
   "id": "df334e71-4120-42e6-9adf-fd61a28ea0a9",
   "metadata": {},
   "source": [
    "## -> 이상치 데이터 제거 후 모델 학습 /예측 /평가"
   ]
  },
  {
   "cell_type": "code",
   "execution_count": null,
   "id": "df02400f-c4c6-4d16-b300-6925f118a6bf",
   "metadata": {},
   "outputs": [],
   "source": [
    "# 1. 이상치 찾기\n",
    "IQR = 3/4 - 1/4\n",
    "\n",
    "3/4 + 1.5IQR\n",
    "1/4 - 1.5IQR"
   ]
  },
  {
   "cell_type": "code",
   "execution_count": 16,
   "id": "73ba7add-5a99-48f1-9aba-551a4a6c662f",
   "metadata": {},
   "outputs": [
    {
     "data": {
      "text/plain": [
       "0    284315\n",
       "1       492\n",
       "Name: Class, dtype: int64"
      ]
     },
     "execution_count": 16,
     "metadata": {},
     "output_type": "execute_result"
    }
   ],
   "source": [
    "card.Class.value_counts()"
   ]
  },
  {
   "cell_type": "code",
   "execution_count": 17,
   "id": "4b4f046b-3ccb-4c44-96ae-93de27e6f01c",
   "metadata": {},
   "outputs": [
    {
     "data": {
      "text/html": [
       "<div>\n",
       "<style scoped>\n",
       "    .dataframe tbody tr th:only-of-type {\n",
       "        vertical-align: middle;\n",
       "    }\n",
       "\n",
       "    .dataframe tbody tr th {\n",
       "        vertical-align: top;\n",
       "    }\n",
       "\n",
       "    .dataframe thead th {\n",
       "        text-align: right;\n",
       "    }\n",
       "</style>\n",
       "<table border=\"1\" class=\"dataframe\">\n",
       "  <thead>\n",
       "    <tr style=\"text-align: right;\">\n",
       "      <th></th>\n",
       "      <th>V1</th>\n",
       "      <th>V2</th>\n",
       "      <th>V3</th>\n",
       "      <th>V4</th>\n",
       "      <th>V5</th>\n",
       "      <th>V6</th>\n",
       "      <th>V7</th>\n",
       "      <th>V8</th>\n",
       "      <th>V9</th>\n",
       "      <th>V10</th>\n",
       "      <th>...</th>\n",
       "      <th>V21</th>\n",
       "      <th>V22</th>\n",
       "      <th>V23</th>\n",
       "      <th>V24</th>\n",
       "      <th>V25</th>\n",
       "      <th>V26</th>\n",
       "      <th>V27</th>\n",
       "      <th>V28</th>\n",
       "      <th>Amount</th>\n",
       "      <th>Class</th>\n",
       "    </tr>\n",
       "  </thead>\n",
       "  <tbody>\n",
       "    <tr>\n",
       "      <th>541</th>\n",
       "      <td>-2.312227</td>\n",
       "      <td>1.951992</td>\n",
       "      <td>-1.609851</td>\n",
       "      <td>3.997906</td>\n",
       "      <td>-0.522188</td>\n",
       "      <td>-1.426545</td>\n",
       "      <td>-2.537387</td>\n",
       "      <td>1.391657</td>\n",
       "      <td>-2.770089</td>\n",
       "      <td>-2.772272</td>\n",
       "      <td>...</td>\n",
       "      <td>0.517232</td>\n",
       "      <td>-0.035049</td>\n",
       "      <td>-0.465211</td>\n",
       "      <td>0.320198</td>\n",
       "      <td>0.044519</td>\n",
       "      <td>0.177840</td>\n",
       "      <td>0.261145</td>\n",
       "      <td>-0.143276</td>\n",
       "      <td>0.000000</td>\n",
       "      <td>1</td>\n",
       "    </tr>\n",
       "    <tr>\n",
       "      <th>623</th>\n",
       "      <td>-3.043541</td>\n",
       "      <td>-3.157307</td>\n",
       "      <td>1.088463</td>\n",
       "      <td>2.288644</td>\n",
       "      <td>1.359805</td>\n",
       "      <td>-1.064823</td>\n",
       "      <td>0.325574</td>\n",
       "      <td>-0.067794</td>\n",
       "      <td>-0.270953</td>\n",
       "      <td>-0.838587</td>\n",
       "      <td>...</td>\n",
       "      <td>0.661696</td>\n",
       "      <td>0.435477</td>\n",
       "      <td>1.375966</td>\n",
       "      <td>-0.293803</td>\n",
       "      <td>0.279798</td>\n",
       "      <td>-0.145362</td>\n",
       "      <td>-0.252773</td>\n",
       "      <td>0.035764</td>\n",
       "      <td>6.272877</td>\n",
       "      <td>1</td>\n",
       "    </tr>\n",
       "    <tr>\n",
       "      <th>4920</th>\n",
       "      <td>-2.303350</td>\n",
       "      <td>1.759247</td>\n",
       "      <td>-0.359745</td>\n",
       "      <td>2.330243</td>\n",
       "      <td>-0.821628</td>\n",
       "      <td>-0.075788</td>\n",
       "      <td>0.562320</td>\n",
       "      <td>-0.399147</td>\n",
       "      <td>-0.238253</td>\n",
       "      <td>-1.525412</td>\n",
       "      <td>...</td>\n",
       "      <td>-0.294166</td>\n",
       "      <td>-0.932391</td>\n",
       "      <td>0.172726</td>\n",
       "      <td>-0.087330</td>\n",
       "      <td>-0.156114</td>\n",
       "      <td>-0.542628</td>\n",
       "      <td>0.039566</td>\n",
       "      <td>-0.153029</td>\n",
       "      <td>5.484506</td>\n",
       "      <td>1</td>\n",
       "    </tr>\n",
       "    <tr>\n",
       "      <th>6108</th>\n",
       "      <td>-4.397974</td>\n",
       "      <td>1.358367</td>\n",
       "      <td>-2.592844</td>\n",
       "      <td>2.679787</td>\n",
       "      <td>-1.128131</td>\n",
       "      <td>-1.706536</td>\n",
       "      <td>-3.496197</td>\n",
       "      <td>-0.248778</td>\n",
       "      <td>-0.247768</td>\n",
       "      <td>-4.801637</td>\n",
       "      <td>...</td>\n",
       "      <td>0.573574</td>\n",
       "      <td>0.176968</td>\n",
       "      <td>-0.436207</td>\n",
       "      <td>-0.053502</td>\n",
       "      <td>0.252405</td>\n",
       "      <td>-0.657488</td>\n",
       "      <td>-0.827136</td>\n",
       "      <td>0.849573</td>\n",
       "      <td>4.094345</td>\n",
       "      <td>1</td>\n",
       "    </tr>\n",
       "    <tr>\n",
       "      <th>6329</th>\n",
       "      <td>1.234235</td>\n",
       "      <td>3.019740</td>\n",
       "      <td>-4.304597</td>\n",
       "      <td>4.732795</td>\n",
       "      <td>3.624201</td>\n",
       "      <td>-1.357746</td>\n",
       "      <td>1.713445</td>\n",
       "      <td>-0.496358</td>\n",
       "      <td>-1.282858</td>\n",
       "      <td>-2.447469</td>\n",
       "      <td>...</td>\n",
       "      <td>-0.379068</td>\n",
       "      <td>-0.704181</td>\n",
       "      <td>-0.656805</td>\n",
       "      <td>-1.632653</td>\n",
       "      <td>1.488901</td>\n",
       "      <td>0.566797</td>\n",
       "      <td>-0.010016</td>\n",
       "      <td>0.146793</td>\n",
       "      <td>0.693147</td>\n",
       "      <td>1</td>\n",
       "    </tr>\n",
       "    <tr>\n",
       "      <th>...</th>\n",
       "      <td>...</td>\n",
       "      <td>...</td>\n",
       "      <td>...</td>\n",
       "      <td>...</td>\n",
       "      <td>...</td>\n",
       "      <td>...</td>\n",
       "      <td>...</td>\n",
       "      <td>...</td>\n",
       "      <td>...</td>\n",
       "      <td>...</td>\n",
       "      <td>...</td>\n",
       "      <td>...</td>\n",
       "      <td>...</td>\n",
       "      <td>...</td>\n",
       "      <td>...</td>\n",
       "      <td>...</td>\n",
       "      <td>...</td>\n",
       "      <td>...</td>\n",
       "      <td>...</td>\n",
       "      <td>...</td>\n",
       "      <td>...</td>\n",
       "    </tr>\n",
       "    <tr>\n",
       "      <th>279863</th>\n",
       "      <td>-1.927883</td>\n",
       "      <td>1.125653</td>\n",
       "      <td>-4.518331</td>\n",
       "      <td>1.749293</td>\n",
       "      <td>-1.566487</td>\n",
       "      <td>-2.010494</td>\n",
       "      <td>-0.882850</td>\n",
       "      <td>0.697211</td>\n",
       "      <td>-2.064945</td>\n",
       "      <td>-5.587794</td>\n",
       "      <td>...</td>\n",
       "      <td>0.778584</td>\n",
       "      <td>-0.319189</td>\n",
       "      <td>0.639419</td>\n",
       "      <td>-0.294885</td>\n",
       "      <td>0.537503</td>\n",
       "      <td>0.788395</td>\n",
       "      <td>0.292680</td>\n",
       "      <td>0.147968</td>\n",
       "      <td>5.968708</td>\n",
       "      <td>1</td>\n",
       "    </tr>\n",
       "    <tr>\n",
       "      <th>280143</th>\n",
       "      <td>1.378559</td>\n",
       "      <td>1.289381</td>\n",
       "      <td>-5.004247</td>\n",
       "      <td>1.411850</td>\n",
       "      <td>0.442581</td>\n",
       "      <td>-1.326536</td>\n",
       "      <td>-1.413170</td>\n",
       "      <td>0.248525</td>\n",
       "      <td>-1.127396</td>\n",
       "      <td>-3.232153</td>\n",
       "      <td>...</td>\n",
       "      <td>0.370612</td>\n",
       "      <td>0.028234</td>\n",
       "      <td>-0.145640</td>\n",
       "      <td>-0.081049</td>\n",
       "      <td>0.521875</td>\n",
       "      <td>0.739467</td>\n",
       "      <td>0.389152</td>\n",
       "      <td>0.186637</td>\n",
       "      <td>0.565314</td>\n",
       "      <td>1</td>\n",
       "    </tr>\n",
       "    <tr>\n",
       "      <th>280149</th>\n",
       "      <td>-0.676143</td>\n",
       "      <td>1.126366</td>\n",
       "      <td>-2.213700</td>\n",
       "      <td>0.468308</td>\n",
       "      <td>-1.120541</td>\n",
       "      <td>-0.003346</td>\n",
       "      <td>-2.234739</td>\n",
       "      <td>1.210158</td>\n",
       "      <td>-0.652250</td>\n",
       "      <td>-3.463891</td>\n",
       "      <td>...</td>\n",
       "      <td>0.751826</td>\n",
       "      <td>0.834108</td>\n",
       "      <td>0.190944</td>\n",
       "      <td>0.032070</td>\n",
       "      <td>-0.739695</td>\n",
       "      <td>0.471111</td>\n",
       "      <td>0.385107</td>\n",
       "      <td>0.194361</td>\n",
       "      <td>4.368054</td>\n",
       "      <td>1</td>\n",
       "    </tr>\n",
       "    <tr>\n",
       "      <th>281144</th>\n",
       "      <td>-3.113832</td>\n",
       "      <td>0.585864</td>\n",
       "      <td>-5.399730</td>\n",
       "      <td>1.817092</td>\n",
       "      <td>-0.840618</td>\n",
       "      <td>-2.943548</td>\n",
       "      <td>-2.208002</td>\n",
       "      <td>1.058733</td>\n",
       "      <td>-1.632333</td>\n",
       "      <td>-5.245984</td>\n",
       "      <td>...</td>\n",
       "      <td>0.583276</td>\n",
       "      <td>-0.269209</td>\n",
       "      <td>-0.456108</td>\n",
       "      <td>-0.183659</td>\n",
       "      <td>-0.328168</td>\n",
       "      <td>0.606116</td>\n",
       "      <td>0.884876</td>\n",
       "      <td>-0.253700</td>\n",
       "      <td>5.505332</td>\n",
       "      <td>1</td>\n",
       "    </tr>\n",
       "    <tr>\n",
       "      <th>281674</th>\n",
       "      <td>1.991976</td>\n",
       "      <td>0.158476</td>\n",
       "      <td>-2.583441</td>\n",
       "      <td>0.408670</td>\n",
       "      <td>1.151147</td>\n",
       "      <td>-0.096695</td>\n",
       "      <td>0.223050</td>\n",
       "      <td>-0.068384</td>\n",
       "      <td>0.577829</td>\n",
       "      <td>-0.888722</td>\n",
       "      <td>...</td>\n",
       "      <td>-0.164350</td>\n",
       "      <td>-0.295135</td>\n",
       "      <td>-0.072173</td>\n",
       "      <td>-0.450261</td>\n",
       "      <td>0.313267</td>\n",
       "      <td>-0.289617</td>\n",
       "      <td>0.002988</td>\n",
       "      <td>-0.015309</td>\n",
       "      <td>3.773450</td>\n",
       "      <td>1</td>\n",
       "    </tr>\n",
       "  </tbody>\n",
       "</table>\n",
       "<p>492 rows × 30 columns</p>\n",
       "</div>"
      ],
      "text/plain": [
       "              V1        V2        V3        V4        V5        V6        V7  \\\n",
       "541    -2.312227  1.951992 -1.609851  3.997906 -0.522188 -1.426545 -2.537387   \n",
       "623    -3.043541 -3.157307  1.088463  2.288644  1.359805 -1.064823  0.325574   \n",
       "4920   -2.303350  1.759247 -0.359745  2.330243 -0.821628 -0.075788  0.562320   \n",
       "6108   -4.397974  1.358367 -2.592844  2.679787 -1.128131 -1.706536 -3.496197   \n",
       "6329    1.234235  3.019740 -4.304597  4.732795  3.624201 -1.357746  1.713445   \n",
       "...          ...       ...       ...       ...       ...       ...       ...   \n",
       "279863 -1.927883  1.125653 -4.518331  1.749293 -1.566487 -2.010494 -0.882850   \n",
       "280143  1.378559  1.289381 -5.004247  1.411850  0.442581 -1.326536 -1.413170   \n",
       "280149 -0.676143  1.126366 -2.213700  0.468308 -1.120541 -0.003346 -2.234739   \n",
       "281144 -3.113832  0.585864 -5.399730  1.817092 -0.840618 -2.943548 -2.208002   \n",
       "281674  1.991976  0.158476 -2.583441  0.408670  1.151147 -0.096695  0.223050   \n",
       "\n",
       "              V8        V9       V10  ...       V21       V22       V23  \\\n",
       "541     1.391657 -2.770089 -2.772272  ...  0.517232 -0.035049 -0.465211   \n",
       "623    -0.067794 -0.270953 -0.838587  ...  0.661696  0.435477  1.375966   \n",
       "4920   -0.399147 -0.238253 -1.525412  ... -0.294166 -0.932391  0.172726   \n",
       "6108   -0.248778 -0.247768 -4.801637  ...  0.573574  0.176968 -0.436207   \n",
       "6329   -0.496358 -1.282858 -2.447469  ... -0.379068 -0.704181 -0.656805   \n",
       "...          ...       ...       ...  ...       ...       ...       ...   \n",
       "279863  0.697211 -2.064945 -5.587794  ...  0.778584 -0.319189  0.639419   \n",
       "280143  0.248525 -1.127396 -3.232153  ...  0.370612  0.028234 -0.145640   \n",
       "280149  1.210158 -0.652250 -3.463891  ...  0.751826  0.834108  0.190944   \n",
       "281144  1.058733 -1.632333 -5.245984  ...  0.583276 -0.269209 -0.456108   \n",
       "281674 -0.068384  0.577829 -0.888722  ... -0.164350 -0.295135 -0.072173   \n",
       "\n",
       "             V24       V25       V26       V27       V28    Amount  Class  \n",
       "541     0.320198  0.044519  0.177840  0.261145 -0.143276  0.000000      1  \n",
       "623    -0.293803  0.279798 -0.145362 -0.252773  0.035764  6.272877      1  \n",
       "4920   -0.087330 -0.156114 -0.542628  0.039566 -0.153029  5.484506      1  \n",
       "6108   -0.053502  0.252405 -0.657488 -0.827136  0.849573  4.094345      1  \n",
       "6329   -1.632653  1.488901  0.566797 -0.010016  0.146793  0.693147      1  \n",
       "...          ...       ...       ...       ...       ...       ...    ...  \n",
       "279863 -0.294885  0.537503  0.788395  0.292680  0.147968  5.968708      1  \n",
       "280143 -0.081049  0.521875  0.739467  0.389152  0.186637  0.565314      1  \n",
       "280149  0.032070 -0.739695  0.471111  0.385107  0.194361  4.368054      1  \n",
       "281144 -0.183659 -0.328168  0.606116  0.884876 -0.253700  5.505332      1  \n",
       "281674 -0.450261  0.313267 -0.289617  0.002988 -0.015309  3.773450      1  \n",
       "\n",
       "[492 rows x 30 columns]"
      ]
     },
     "execution_count": 17,
     "metadata": {},
     "output_type": "execute_result"
    }
   ],
   "source": [
    "# 조건에 만족하는 것을 뽑아내었다.\n",
    "fraud = card[card['Class'] == 1]\n",
    "fraud"
   ]
  },
  {
   "cell_type": "code",
   "execution_count": 18,
   "id": "643542e3-9ea0-420b-b0d1-e9786df8f1cc",
   "metadata": {},
   "outputs": [
    {
     "data": {
      "text/plain": [
       "8296   -19.214325\n",
       "8615   -18.822087\n",
       "9035   -18.493773\n",
       "9252   -18.049998\n",
       "Name: V14, dtype: float64"
      ]
     },
     "execution_count": 18,
     "metadata": {},
     "output_type": "execute_result"
    }
   ],
   "source": [
    "# fraud['V14'] <- 여기서 이상치 찾아내기\n",
    "pct25 = np.percentile(fraud.V14, 25)\n",
    "pct75 = np.percentile(fraud.V14, 75)\n",
    "\n",
    "IQR = pct75 - pct25\n",
    "\n",
    "upper_out = pct75 + 1.5 * IQR\n",
    "under_out = pct25 - 1.5 * IQR\n",
    "\n",
    "cond1 = fraud['V14'] >= upper_out\n",
    "cond2 = fraud['V14'] <= under_out\n",
    "fraud.V14[cond1 | cond2] "
   ]
  },
  {
   "cell_type": "code",
   "execution_count": 19,
   "id": "6c524733-bd9f-478e-8bca-96db6aecd280",
   "metadata": {},
   "outputs": [
    {
     "data": {
      "text/plain": [
       "Int64Index([8296, 8615, 9035, 9252], dtype='int64')"
      ]
     },
     "execution_count": 19,
     "metadata": {},
     "output_type": "execute_result"
    }
   ],
   "source": [
    "outlier = fraud[(fraud['V14'] > upper_out) | (fraud['V14'] < under_out)]\n",
    "outlier.index"
   ]
  },
  {
   "cell_type": "code",
   "execution_count": 20,
   "id": "d59b890e-37af-4593-84ba-e1833ea09500",
   "metadata": {},
   "outputs": [
    {
     "data": {
      "text/html": [
       "<div>\n",
       "<style scoped>\n",
       "    .dataframe tbody tr th:only-of-type {\n",
       "        vertical-align: middle;\n",
       "    }\n",
       "\n",
       "    .dataframe tbody tr th {\n",
       "        vertical-align: top;\n",
       "    }\n",
       "\n",
       "    .dataframe thead th {\n",
       "        text-align: right;\n",
       "    }\n",
       "</style>\n",
       "<table border=\"1\" class=\"dataframe\">\n",
       "  <thead>\n",
       "    <tr style=\"text-align: right;\">\n",
       "      <th></th>\n",
       "      <th>V1</th>\n",
       "      <th>V2</th>\n",
       "      <th>V3</th>\n",
       "      <th>V4</th>\n",
       "      <th>V5</th>\n",
       "      <th>V6</th>\n",
       "      <th>V7</th>\n",
       "      <th>V8</th>\n",
       "      <th>V9</th>\n",
       "      <th>V10</th>\n",
       "      <th>...</th>\n",
       "      <th>V21</th>\n",
       "      <th>V22</th>\n",
       "      <th>V23</th>\n",
       "      <th>V24</th>\n",
       "      <th>V25</th>\n",
       "      <th>V26</th>\n",
       "      <th>V27</th>\n",
       "      <th>V28</th>\n",
       "      <th>Amount</th>\n",
       "      <th>Class</th>\n",
       "    </tr>\n",
       "  </thead>\n",
       "  <tbody>\n",
       "    <tr>\n",
       "      <th>0</th>\n",
       "      <td>-1.359807</td>\n",
       "      <td>-0.072781</td>\n",
       "      <td>2.536347</td>\n",
       "      <td>1.378155</td>\n",
       "      <td>-0.338321</td>\n",
       "      <td>0.462388</td>\n",
       "      <td>0.239599</td>\n",
       "      <td>0.098698</td>\n",
       "      <td>0.363787</td>\n",
       "      <td>0.090794</td>\n",
       "      <td>...</td>\n",
       "      <td>-0.018307</td>\n",
       "      <td>0.277838</td>\n",
       "      <td>-0.110474</td>\n",
       "      <td>0.066928</td>\n",
       "      <td>0.128539</td>\n",
       "      <td>-0.189115</td>\n",
       "      <td>0.133558</td>\n",
       "      <td>-0.021053</td>\n",
       "      <td>5.014760</td>\n",
       "      <td>0</td>\n",
       "    </tr>\n",
       "    <tr>\n",
       "      <th>1</th>\n",
       "      <td>1.191857</td>\n",
       "      <td>0.266151</td>\n",
       "      <td>0.166480</td>\n",
       "      <td>0.448154</td>\n",
       "      <td>0.060018</td>\n",
       "      <td>-0.082361</td>\n",
       "      <td>-0.078803</td>\n",
       "      <td>0.085102</td>\n",
       "      <td>-0.255425</td>\n",
       "      <td>-0.166974</td>\n",
       "      <td>...</td>\n",
       "      <td>-0.225775</td>\n",
       "      <td>-0.638672</td>\n",
       "      <td>0.101288</td>\n",
       "      <td>-0.339846</td>\n",
       "      <td>0.167170</td>\n",
       "      <td>0.125895</td>\n",
       "      <td>-0.008983</td>\n",
       "      <td>0.014724</td>\n",
       "      <td>1.305626</td>\n",
       "      <td>0</td>\n",
       "    </tr>\n",
       "    <tr>\n",
       "      <th>2</th>\n",
       "      <td>-1.358354</td>\n",
       "      <td>-1.340163</td>\n",
       "      <td>1.773209</td>\n",
       "      <td>0.379780</td>\n",
       "      <td>-0.503198</td>\n",
       "      <td>1.800499</td>\n",
       "      <td>0.791461</td>\n",
       "      <td>0.247676</td>\n",
       "      <td>-1.514654</td>\n",
       "      <td>0.207643</td>\n",
       "      <td>...</td>\n",
       "      <td>0.247998</td>\n",
       "      <td>0.771679</td>\n",
       "      <td>0.909412</td>\n",
       "      <td>-0.689281</td>\n",
       "      <td>-0.327642</td>\n",
       "      <td>-0.139097</td>\n",
       "      <td>-0.055353</td>\n",
       "      <td>-0.059752</td>\n",
       "      <td>5.939276</td>\n",
       "      <td>0</td>\n",
       "    </tr>\n",
       "  </tbody>\n",
       "</table>\n",
       "<p>3 rows × 30 columns</p>\n",
       "</div>"
      ],
      "text/plain": [
       "         V1        V2        V3        V4        V5        V6        V7  \\\n",
       "0 -1.359807 -0.072781  2.536347  1.378155 -0.338321  0.462388  0.239599   \n",
       "1  1.191857  0.266151  0.166480  0.448154  0.060018 -0.082361 -0.078803   \n",
       "2 -1.358354 -1.340163  1.773209  0.379780 -0.503198  1.800499  0.791461   \n",
       "\n",
       "         V8        V9       V10  ...       V21       V22       V23       V24  \\\n",
       "0  0.098698  0.363787  0.090794  ... -0.018307  0.277838 -0.110474  0.066928   \n",
       "1  0.085102 -0.255425 -0.166974  ... -0.225775 -0.638672  0.101288 -0.339846   \n",
       "2  0.247676 -1.514654  0.207643  ...  0.247998  0.771679  0.909412 -0.689281   \n",
       "\n",
       "        V25       V26       V27       V28    Amount  Class  \n",
       "0  0.128539 -0.189115  0.133558 -0.021053  5.014760      0  \n",
       "1  0.167170  0.125895 -0.008983  0.014724  1.305626      0  \n",
       "2 -0.327642 -0.139097 -0.055353 -0.059752  5.939276      0  \n",
       "\n",
       "[3 rows x 30 columns]"
      ]
     },
     "execution_count": 20,
     "metadata": {},
     "output_type": "execute_result"
    }
   ],
   "source": [
    "card.drop(outlier.index, axis=0, inplace=True)\n",
    "card[:3]"
   ]
  },
  {
   "cell_type": "code",
   "execution_count": 21,
   "id": "0341ea6f-289d-4395-b865-0a6b8e39a398",
   "metadata": {},
   "outputs": [
    {
     "name": "stdout",
     "output_type": "stream",
     "text": [
      "오차 행렬\n",
      "[[85283    12]\n",
      " [   60    86]]\n",
      "정확도: 0.9992, 정밀도: 0.8776, 재현율: 0.5890,    F1: 0.7049, AUC:0.9814\n",
      "None\n",
      "\n",
      "오차 행렬\n",
      "[[85289     6]\n",
      " [   25   121]]\n",
      "정확도: 0.9996, 정밀도: 0.9528, 재현율: 0.8288,    F1: 0.8864, AUC:0.9819\n",
      "None\n"
     ]
    }
   ],
   "source": [
    "from sklearn.model_selection  import train_test_split\n",
    "features = card.iloc[:, :-1]\n",
    "labels = card.iloc[:, -1]\n",
    "X_train, X_test, y_train, y_test = train_test_split(features, labels, test_size = .3, stratify = labels)\n",
    "\n",
    "from sklearn.linear_model import LogisticRegression\n",
    "\n",
    "lr_clf = LogisticRegression(max_iter = 1000)\n",
    "lr_clf.fit(X_train, y_train)\n",
    "preds = lr_clf.predict(X_test)\n",
    "preds_proba = lr_clf.predict_proba(X_test)[:, 1]\n",
    "\n",
    "print(get_clf_eval(y_test, preds, preds_proba))\n",
    "print()\n",
    "\n",
    "\n",
    "from lightgbm import LGBMClassifier\n",
    "\n",
    "lgbm_clf =LGBMClassifier(n_estimators = 1000, num_leaves= 64, n_jobs= -1, boost_from_average= False) \n",
    "lgbm_clf.fit(X_train, y_train)\n",
    "preds = lgbm_clf.predict(X_test)\n",
    "preds_proba = lgbm_clf.predict_proba(X_test)[:, 1]\n",
    "\n",
    "print(get_clf_eval(y_test, preds, preds_proba))"
   ]
  },
  {
   "cell_type": "markdown",
   "id": "5caed336-d42e-4909-8d5f-aed605efbd85",
   "metadata": {},
   "source": [
    "## -> SMOTE로 오버샘플링"
   ]
  },
  {
   "cell_type": "code",
   "execution_count": 22,
   "id": "65b93699-662a-455e-92bf-179981703e35",
   "metadata": {},
   "outputs": [
    {
     "name": "stdout",
     "output_type": "stream",
     "text": [
      "오차 행렬\n",
      "[[83349  1946]\n",
      " [   17   129]]\n",
      "정확도: 0.9770, 정밀도: 0.0622, 재현율: 0.8836,    F1: 0.1162, AUC:0.9724\n",
      "None\n",
      "\n",
      "오차 행렬\n",
      "[[85280    15]\n",
      " [   34   112]]\n",
      "정확도: 0.9994, 정밀도: 0.8819, 재현율: 0.7671,    F1: 0.8205, AUC:0.9670\n",
      "None\n"
     ]
    }
   ],
   "source": [
    "from imblearn.over_sampling import SMOTE\n",
    "\n",
    "# 데이터셋 분리\n",
    "features = card.iloc[:, :-1]\n",
    "labels = card.iloc[:, -1]\n",
    "X_train, X_test, y_train, y_test = train_test_split(features, labels, test_size = .3, stratify = labels)\n",
    "\n",
    "# SMOTE 적용\n",
    "smote = SMOTE(random_state=0)\n",
    "X_train, y_train = smote.fit_resample(X_train, y_train) #y_train을 oversampling해주었다.\n",
    "\n",
    "# 모델 생성1\n",
    "lr_clf = LogisticRegression(max_iter = 1000)\n",
    "lr_clf.fit(X_train, y_train)\n",
    "preds = lr_clf.predict(X_test)\n",
    "preds_proba = lr_clf.predict_proba(X_test)[:, 1]\n",
    "\n",
    "print(get_clf_eval(y_test, preds, preds_proba))\n",
    "print()\n",
    "\n",
    "#모델 생성2\n",
    "lgbm_clf =LGBMClassifier(n_estimators = 1000, num_leaves= 64, n_jobs= -1, boost_from_average= False) \n",
    "lgbm_clf.fit(X_train, y_train)\n",
    "preds = lgbm_clf.predict(X_test)\n",
    "preds_proba = lgbm_clf.predict_proba(X_test)[:, 1]\n",
    "\n",
    "print(get_clf_eval(y_test, preds, preds_proba))"
   ]
  },
  {
   "cell_type": "code",
   "execution_count": null,
   "id": "260f2a17-2b86-44ed-858b-d528fcef34ce",
   "metadata": {},
   "outputs": [],
   "source": [
    "false가 많아졌는데 이유는 oversampling을 했기 때문이다."
   ]
  },
  {
   "cell_type": "code",
   "execution_count": null,
   "id": "d4cf5efc-8367-46ca-8d2d-c0ec84d390e4",
   "metadata": {},
   "outputs": [],
   "source": []
  }
 ],
 "metadata": {
  "kernelspec": {
   "display_name": "Python 3 (ipykernel)",
   "language": "python",
   "name": "python3"
  },
  "language_info": {
   "codemirror_mode": {
    "name": "ipython",
    "version": 3
   },
   "file_extension": ".py",
   "mimetype": "text/x-python",
   "name": "python",
   "nbconvert_exporter": "python",
   "pygments_lexer": "ipython3",
   "version": "3.9.12"
  },
  "toc-autonumbering": false
 },
 "nbformat": 4,
 "nbformat_minor": 5
}
