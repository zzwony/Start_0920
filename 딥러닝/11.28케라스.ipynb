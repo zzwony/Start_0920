{
 "cells": [
  {
   "cell_type": "code",
   "execution_count": 15,
   "id": "bff25556-0e32-45fc-911f-d86eb46e09b3",
   "metadata": {},
   "outputs": [],
   "source": [
    "from keras import Sequential\n",
    "from keras.layers import Input, Dense\n",
    "\n",
    "from tensorflow import keras\n",
    "from keras import layers"
   ]
  },
  {
   "cell_type": "code",
   "execution_count": 16,
   "id": "dfe3b2ca-dc9c-4ef3-944d-f7473c978a67",
   "metadata": {},
   "outputs": [],
   "source": [
    "model = keras.Sequential([\n",
    "    Dense(64, activation='relu'),\n",
    "    Dense(10, activation='softmax')\n",
    "])"
   ]
  },
  {
   "cell_type": "code",
   "execution_count": 18,
   "id": "ac728794-2b97-4636-a996-01ddcc618db1",
   "metadata": {},
   "outputs": [],
   "source": [
    "model.build(input_shape=(None, 3))"
   ]
  },
  {
   "cell_type": "code",
   "execution_count": 19,
   "id": "49e12d10-8048-4d01-8848-99698ae1282e",
   "metadata": {
    "collapsed": true,
    "jupyter": {
     "outputs_hidden": true
    },
    "tags": []
   },
   "outputs": [
    {
     "data": {
      "text/plain": [
       "[<tf.Variable 'dense_13/kernel:0' shape=(3, 64) dtype=float32, numpy=\n",
       " array([[-0.16667223,  0.24276549,  0.04175246, -0.10422176,  0.1587035 ,\n",
       "          0.18597755, -0.02819064,  0.03279719,  0.05909586, -0.18735036,\n",
       "         -0.23804799, -0.17514473,  0.15965492, -0.22310399,  0.15664384,\n",
       "          0.11652911, -0.18046734, -0.27406195, -0.2584923 ,  0.25077242,\n",
       "          0.07977057,  0.10557544, -0.23351601,  0.05732018, -0.13431695,\n",
       "          0.20698953,  0.21760845, -0.18384755,  0.17019716, -0.21445802,\n",
       "         -0.2506769 ,  0.122971  ,  0.26572084, -0.0058656 ,  0.05985737,\n",
       "         -0.04557702,  0.2554791 ,  0.28971338,  0.28005964,  0.27983105,\n",
       "         -0.00632694, -0.25611016,  0.2247631 , -0.0147548 ,  0.03606257,\n",
       "          0.08977011,  0.11121601, -0.15174821,  0.11716974, -0.2991465 ,\n",
       "          0.07136762,  0.1704737 , -0.2090464 , -0.12389767,  0.12408331,\n",
       "         -0.08860581,  0.19489515,  0.06114596,  0.21327436,  0.01860619,\n",
       "          0.16089445, -0.22416128, -0.17379598, -0.04053646],\n",
       "        [ 0.21091819, -0.18128847, -0.1695334 , -0.03251016,  0.08899307,\n",
       "          0.22395939, -0.24561402, -0.18658736,  0.15266025, -0.01970893,\n",
       "         -0.19205779, -0.15403539, -0.27325624,  0.02511492, -0.00767586,\n",
       "          0.12962672,  0.2213949 ,  0.25543106, -0.15414926,  0.11772075,\n",
       "         -0.14148474,  0.19914886, -0.12674971,  0.05303419,  0.22472149,\n",
       "         -0.1487554 ,  0.17333579, -0.07836388, -0.17606491, -0.05488615,\n",
       "         -0.07508768,  0.18072939, -0.18093053,  0.11322901, -0.10669516,\n",
       "          0.12543571,  0.05915743, -0.013363  , -0.06297773,  0.06925923,\n",
       "          0.16733211,  0.11252081, -0.24600865,  0.24064374,  0.20240992,\n",
       "          0.26870763,  0.05253747, -0.0535979 , -0.06201389, -0.0792605 ,\n",
       "          0.06144071, -0.02575791, -0.0179787 , -0.16834725,  0.22492182,\n",
       "          0.10940692,  0.210486  ,  0.11268255,  0.2721629 ,  0.11543244,\n",
       "          0.26899463, -0.11408468,  0.2488944 ,  0.19874626],\n",
       "        [-0.03200454, -0.2675059 , -0.06609291,  0.17018259, -0.07050546,\n",
       "         -0.01446575,  0.11126417,  0.159226  , -0.19546299,  0.09170905,\n",
       "          0.26277715,  0.07786396, -0.05733858,  0.06167978,  0.26003486,\n",
       "          0.13113374,  0.2649752 ,  0.21051157, -0.17705163,  0.27555037,\n",
       "         -0.01229495, -0.01044589, -0.22610307,  0.19924313, -0.0806866 ,\n",
       "         -0.08479464,  0.29225206,  0.29904997,  0.295304  , -0.01201791,\n",
       "          0.276285  ,  0.26236928, -0.25521895,  0.2646662 ,  0.28332686,\n",
       "          0.17215171,  0.12750962,  0.01077825, -0.04786229, -0.2750268 ,\n",
       "         -0.21585679, -0.26728788,  0.14812383,  0.20966691, -0.16402018,\n",
       "         -0.28305638,  0.16005376,  0.26763695,  0.23187596, -0.0299359 ,\n",
       "         -0.04044777, -0.27929208, -0.10684313, -0.16631235, -0.13178498,\n",
       "          0.10715091,  0.1632129 , -0.21058571, -0.10509498,  0.08269873,\n",
       "          0.20455265, -0.23404753,  0.071035  , -0.26026407]],\n",
       "       dtype=float32)>,\n",
       " <tf.Variable 'dense_13/bias:0' shape=(64,) dtype=float32, numpy=\n",
       " array([0., 0., 0., 0., 0., 0., 0., 0., 0., 0., 0., 0., 0., 0., 0., 0., 0.,\n",
       "        0., 0., 0., 0., 0., 0., 0., 0., 0., 0., 0., 0., 0., 0., 0., 0., 0.,\n",
       "        0., 0., 0., 0., 0., 0., 0., 0., 0., 0., 0., 0., 0., 0., 0., 0., 0.,\n",
       "        0., 0., 0., 0., 0., 0., 0., 0., 0., 0., 0., 0., 0.], dtype=float32)>,\n",
       " <tf.Variable 'dense_14/kernel:0' shape=(64, 10) dtype=float32, numpy=\n",
       " array([[ 1.01867676e-01,  3.40312421e-02, -1.22612476e-01,\n",
       "         -2.61430562e-01, -1.65524691e-01,  5.10361493e-02,\n",
       "          2.42556840e-01,  1.00154489e-01, -2.28144467e-01,\n",
       "          1.46268368e-01],\n",
       "        [-9.42325443e-02, -1.20525777e-01,  1.84931248e-01,\n",
       "          1.31074905e-01,  6.97275996e-03, -2.40794659e-01,\n",
       "          2.78005272e-01,  2.38450736e-01, -4.29650247e-02,\n",
       "          1.20013833e-01],\n",
       "        [ 1.85664982e-01,  2.53675491e-01, -2.24386543e-01,\n",
       "         -1.90146625e-01,  4.27692235e-02, -1.91180915e-01,\n",
       "          2.65567809e-01,  1.23844117e-01, -4.63379622e-02,\n",
       "          1.59313232e-01],\n",
       "        [-5.82783520e-02,  1.44626468e-01, -2.78951645e-01,\n",
       "         -2.28528932e-01, -1.29950002e-01, -1.94451809e-01,\n",
       "          2.15349346e-01, -2.47946426e-01, -2.78073430e-01,\n",
       "          8.43223929e-03],\n",
       "        [ 2.62936860e-01,  7.96500444e-02, -7.15710372e-02,\n",
       "          5.86879253e-02, -1.07226908e-01, -8.85653645e-02,\n",
       "          1.05730981e-01,  1.61459416e-01, -2.02147782e-01,\n",
       "         -6.84857368e-03],\n",
       "        [-2.77621001e-01, -1.65106475e-01,  2.12863058e-01,\n",
       "         -2.36628294e-01,  2.50340611e-01,  3.92169952e-02,\n",
       "          2.77258009e-01,  1.75374091e-01, -1.58180103e-01,\n",
       "         -8.11654329e-03],\n",
       "        [-2.04882413e-01,  1.40643001e-01, -1.87859103e-01,\n",
       "         -1.84366211e-01,  1.24098092e-01,  2.29688436e-01,\n",
       "          3.01443636e-02, -4.66991216e-02,  2.08729297e-01,\n",
       "         -2.16865584e-01],\n",
       "        [ 2.48236924e-01,  2.00252116e-01,  7.31979311e-02,\n",
       "          9.86984074e-02, -1.79087758e-01, -5.29901385e-02,\n",
       "          8.46016705e-02, -1.83098167e-01, -5.78759015e-02,\n",
       "          1.24829471e-01],\n",
       "        [ 2.26718515e-01,  2.12622851e-01,  1.19334310e-01,\n",
       "         -2.46422112e-01, -2.12397933e-01, -1.24763682e-01,\n",
       "          2.34042674e-01,  5.84557354e-02,  1.37985826e-01,\n",
       "         -1.08673573e-02],\n",
       "        [-1.16455883e-01, -1.27906606e-01,  2.36755818e-01,\n",
       "          2.05412149e-01, -8.98949653e-02,  1.49251193e-01,\n",
       "         -2.43805602e-01,  2.27873236e-01, -2.33907580e-01,\n",
       "          2.23037094e-01],\n",
       "        [-2.57707387e-01,  2.42194444e-01,  4.71204519e-03,\n",
       "         -1.87136218e-01,  2.03691244e-01,  1.92346841e-01,\n",
       "         -1.98168933e-01, -1.66679069e-01, -1.97303832e-01,\n",
       "          2.15675920e-01],\n",
       "        [ 1.93095863e-01, -2.64713883e-01, -1.79016009e-01,\n",
       "         -1.57066390e-01,  1.97562695e-01,  8.21533203e-02,\n",
       "         -9.69618559e-03, -1.27684668e-01,  1.26474410e-01,\n",
       "          4.60844040e-02],\n",
       "        [ 2.10991949e-01, -2.05075771e-01, -1.19904652e-01,\n",
       "          8.13008249e-02,  1.53910011e-01, -1.43185720e-01,\n",
       "          2.51811892e-01,  2.55872011e-02, -1.02508083e-01,\n",
       "         -7.84247071e-02],\n",
       "        [ 5.74466288e-02,  1.03437275e-01,  3.03648114e-02,\n",
       "         -2.07479894e-02,  7.76858032e-02, -1.18520051e-01,\n",
       "         -9.13615823e-02, -2.70973504e-01,  2.00249553e-02,\n",
       "         -7.66616315e-02],\n",
       "        [ 4.09514308e-02,  1.19653046e-01,  1.54968411e-01,\n",
       "          2.80599147e-01,  2.61932164e-01, -2.71031231e-01,\n",
       "          8.62193108e-02,  5.86508512e-02, -2.15174466e-01,\n",
       "          2.80423790e-01],\n",
       "        [-9.12076086e-02, -1.02179423e-01, -9.93492007e-02,\n",
       "          2.21668750e-01, -8.72484446e-02, -8.22288692e-02,\n",
       "          2.87514329e-02,  2.30641097e-01, -2.52858877e-01,\n",
       "          1.78090006e-01],\n",
       "        [-9.61054564e-02, -7.74181187e-02, -1.92798033e-01,\n",
       "         -1.28247142e-02,  1.21553481e-01,  7.09514618e-02,\n",
       "         -6.55212402e-02,  1.77999139e-02,  2.19950050e-01,\n",
       "          2.30520397e-01],\n",
       "        [-9.97578204e-02, -2.05076724e-01,  1.44514978e-01,\n",
       "         -2.73352087e-01,  5.61204851e-02,  2.19380587e-01,\n",
       "         -3.11136246e-02,  1.79506838e-02, -5.79778701e-02,\n",
       "         -2.33671248e-01],\n",
       "        [ 1.76428944e-01,  1.40395075e-01, -2.78111100e-01,\n",
       "         -1.56131983e-02,  3.73363495e-02, -2.08838582e-01,\n",
       "         -1.83953434e-01, -2.11649120e-01, -2.40262270e-01,\n",
       "          2.14574873e-01],\n",
       "        [-4.47959900e-02, -1.14492804e-01,  2.30220169e-01,\n",
       "         -1.48030624e-01,  1.31110817e-01,  2.39021033e-01,\n",
       "          1.10983014e-01, -1.25187039e-01, -2.02630743e-01,\n",
       "         -2.44214430e-01],\n",
       "        [ 6.24631047e-02,  7.24267662e-02, -8.09905082e-02,\n",
       "          8.02974999e-02, -2.52340615e-01, -2.28389889e-01,\n",
       "          2.12912947e-01,  1.71999604e-01, -4.17474955e-02,\n",
       "         -2.38127023e-01],\n",
       "        [ 1.54496640e-01, -2.08482847e-01, -1.52123660e-01,\n",
       "          6.12539351e-02, -4.44520712e-02,  1.88602149e-01,\n",
       "          2.25708216e-01, -2.35490620e-01, -2.74285674e-03,\n",
       "         -4.57841158e-02],\n",
       "        [-3.02451849e-02, -7.32599795e-02,  9.43917334e-02,\n",
       "          1.41776145e-01, -2.01521784e-01, -4.74049002e-02,\n",
       "          1.89719796e-01, -1.54733658e-04, -2.27728248e-01,\n",
       "          2.03017443e-01],\n",
       "        [ 7.92698562e-02,  1.71995312e-01,  2.63387054e-01,\n",
       "          8.31995606e-02,  1.48383498e-01, -9.78807658e-02,\n",
       "          1.35346353e-01,  1.92728639e-01,  2.09518433e-01,\n",
       "          1.17139727e-01],\n",
       "        [ 2.56214231e-01, -1.05906606e-01,  2.24742621e-01,\n",
       "          3.21739912e-02,  1.71658099e-02, -1.30996436e-01,\n",
       "          6.88219368e-02, -1.66183710e-02, -1.72440261e-01,\n",
       "          6.59636557e-02],\n",
       "        [-2.83497632e-01,  2.44382888e-01,  2.04745620e-01,\n",
       "          1.08691067e-01, -5.92016429e-02, -1.16963834e-01,\n",
       "          3.63349617e-02,  9.03397202e-02,  1.24383897e-01,\n",
       "          3.18284929e-02],\n",
       "        [-1.30401328e-01,  1.39167637e-01, -2.31087670e-01,\n",
       "          1.62100703e-01,  2.53599733e-01,  1.85748160e-01,\n",
       "         -1.67803854e-01,  1.35969996e-01, -1.52456716e-01,\n",
       "         -1.42813206e-01],\n",
       "        [ 7.49343932e-02,  4.81170416e-02,  7.16205239e-02,\n",
       "         -1.74759030e-01,  6.95057213e-02, -8.94970745e-02,\n",
       "          7.16148913e-02, -4.37039286e-02,  8.26810896e-02,\n",
       "         -1.95190161e-01],\n",
       "        [ 8.44596922e-02, -4.56906259e-02, -3.03716660e-02,\n",
       "          1.52216107e-01, -7.64680803e-02, -1.09253272e-01,\n",
       "          2.15370506e-01, -1.33491427e-01, -1.45331413e-01,\n",
       "          2.07109749e-02],\n",
       "        [-2.13557184e-02,  9.39567685e-02, -2.70543158e-01,\n",
       "         -1.37004077e-01,  4.63192761e-02, -2.06143051e-01,\n",
       "         -1.75682008e-02,  1.87037289e-01,  3.13709974e-02,\n",
       "          3.11358869e-02],\n",
       "        [-1.07415780e-01,  2.24601120e-01, -1.93149298e-01,\n",
       "         -1.37589350e-01,  1.06395125e-01,  1.99470580e-01,\n",
       "         -1.29234716e-01, -5.69881201e-02, -1.77722037e-01,\n",
       "          9.18754935e-03],\n",
       "        [-2.22282663e-01,  1.32000446e-01,  2.26017684e-01,\n",
       "          1.90373510e-01, -1.17332131e-01,  1.56722665e-02,\n",
       "         -2.57487357e-01, -2.37813175e-01, -1.13020703e-01,\n",
       "         -1.31520003e-01],\n",
       "        [ 1.84504986e-02, -1.25014052e-01, -8.56381953e-02,\n",
       "         -1.68426335e-01,  2.67706543e-01, -4.34523970e-02,\n",
       "          2.82200068e-01,  2.30612785e-01, -2.70683616e-01,\n",
       "         -1.55801341e-01],\n",
       "        [ 1.05909050e-01,  2.40142673e-01,  2.28499323e-01,\n",
       "          2.21287012e-02,  2.09337980e-01, -1.90307111e-01,\n",
       "         -1.03113383e-01,  9.39455032e-02,  1.66004986e-01,\n",
       "          4.43176329e-02],\n",
       "        [ 1.88821346e-01,  1.89148098e-01, -8.04070681e-02,\n",
       "         -5.53020984e-02, -1.83973193e-01, -2.37465024e-01,\n",
       "          1.97329968e-01, -7.20866472e-02, -3.95235270e-02,\n",
       "          1.02606386e-01],\n",
       "        [ 2.57257253e-01,  1.43379003e-01,  1.46776021e-01,\n",
       "          2.84629315e-01,  4.35083508e-02,  2.32914478e-01,\n",
       "         -8.91193449e-02, -1.49263695e-01,  1.00192130e-02,\n",
       "         -1.26095936e-01],\n",
       "        [ 1.73575431e-01,  2.07716107e-01,  8.97215009e-02,\n",
       "          1.34610862e-01,  7.38969147e-02, -1.21883556e-01,\n",
       "          1.14225328e-01, -5.10035008e-02,  1.69952422e-01,\n",
       "         -2.10987538e-01],\n",
       "        [-3.03348601e-02,  9.29093063e-02, -2.80258566e-01,\n",
       "          1.74804568e-01, -2.61411875e-01, -1.81556076e-01,\n",
       "         -2.76432067e-01,  2.16220170e-01,  2.69914895e-01,\n",
       "          4.85714972e-02],\n",
       "        [ 9.34549272e-02,  2.83130497e-01,  7.76472390e-02,\n",
       "          2.71438330e-01, -1.31165758e-01, -9.30726528e-03,\n",
       "         -1.36314794e-01, -2.31865004e-01, -8.18518847e-02,\n",
       "         -5.13628274e-02],\n",
       "        [ 3.42858732e-02,  2.37032443e-01,  1.41439408e-01,\n",
       "         -2.49465987e-01, -6.44376874e-03, -2.67525554e-01,\n",
       "          6.81512654e-02, -2.49072373e-01,  9.51232314e-02,\n",
       "         -9.13612396e-02],\n",
       "        [ 6.55158162e-02,  2.45858699e-01,  1.35401338e-01,\n",
       "          2.46835262e-01,  1.99620068e-01,  4.18504179e-02,\n",
       "          2.04000741e-01,  1.24195457e-01, -4.97842133e-02,\n",
       "          1.11859113e-01],\n",
       "        [ 6.73448145e-02,  2.19870210e-02, -7.32654035e-02,\n",
       "         -2.46685863e-01, -2.04172105e-01, -9.30848718e-02,\n",
       "         -2.02591434e-01, -1.95808366e-01, -7.32172132e-02,\n",
       "         -1.59470543e-01],\n",
       "        [-2.94326842e-02, -2.50511825e-01,  1.28716588e-01,\n",
       "         -1.97429895e-01, -1.47895455e-01,  5.21310568e-02,\n",
       "         -1.12478480e-01,  2.33776599e-01, -1.88097924e-01,\n",
       "         -1.67293876e-01],\n",
       "        [-5.55699170e-02, -7.08422065e-03,  1.48589015e-01,\n",
       "          1.34230733e-01, -7.56775737e-02,  1.92977339e-01,\n",
       "          2.16983229e-01, -1.50590450e-01, -6.51326329e-02,\n",
       "         -1.07596815e-02],\n",
       "        [-5.53151965e-03, -2.24541873e-01,  1.31023318e-01,\n",
       "         -1.12552539e-01, -1.24686211e-01,  1.25866413e-01,\n",
       "         -2.71371335e-01, -1.55308336e-01,  1.86440229e-01,\n",
       "         -9.44545418e-02],\n",
       "        [ 1.45276904e-01, -3.92684340e-03,  5.02840877e-02,\n",
       "         -1.20119318e-01,  1.81941152e-01, -2.30367303e-01,\n",
       "          2.46775180e-01, -1.23369396e-02, -7.03266263e-02,\n",
       "          1.68871760e-01],\n",
       "        [ 2.27882653e-01,  6.08582795e-02,  4.05699015e-03,\n",
       "          1.92888647e-01,  5.76934814e-02, -3.64964902e-02,\n",
       "          2.34573454e-01,  1.09703779e-01,  2.79512614e-01,\n",
       "          1.26727968e-01],\n",
       "        [ 2.52982587e-01, -2.25745887e-01, -2.68737257e-01,\n",
       "         -1.35220498e-01, -2.40033418e-01, -2.55034387e-01,\n",
       "         -5.43760210e-02,  2.06256211e-01, -8.59393477e-02,\n",
       "         -2.69454092e-01],\n",
       "        [ 3.58883440e-02,  1.26868457e-01, -2.39521727e-01,\n",
       "          7.48443007e-02,  1.29194260e-02, -1.37828931e-01,\n",
       "         -1.60557374e-01, -3.74429971e-02,  2.04345882e-01,\n",
       "         -1.71719193e-02],\n",
       "        [ 2.20720679e-01, -2.13990688e-01,  1.21395707e-01,\n",
       "         -1.08464539e-01, -3.89901847e-02,  1.53775662e-01,\n",
       "          2.33209044e-01, -2.79651016e-01,  2.84575373e-01,\n",
       "          2.83810347e-01],\n",
       "        [-1.47902235e-01,  2.33343095e-01,  1.89569443e-01,\n",
       "         -1.23722464e-01, -7.25304335e-02,  1.82994992e-01,\n",
       "          2.45267540e-01,  1.61651552e-01, -5.85173219e-02,\n",
       "         -2.39492267e-01],\n",
       "        [ 2.65165478e-01,  5.98452389e-02, -1.37432322e-01,\n",
       "          1.64925754e-01,  1.01159871e-01,  1.20918632e-01,\n",
       "          2.10017741e-01,  1.55766606e-02,  1.46958232e-01,\n",
       "         -5.99444211e-02],\n",
       "        [ 1.11385524e-01,  3.86076272e-02, -2.06228659e-01,\n",
       "          1.41113997e-03, -7.14916736e-02,  2.47885853e-01,\n",
       "         -2.73109585e-01,  1.69128656e-01, -2.43564188e-01,\n",
       "          3.65455747e-02],\n",
       "        [-1.27127305e-01, -1.07696503e-01, -2.79981524e-01,\n",
       "          2.41707414e-01, -5.21976650e-02, -6.78177923e-02,\n",
       "         -1.81997120e-02,  1.76821560e-01, -2.15559751e-01,\n",
       "         -2.61149973e-01],\n",
       "        [-2.38201216e-01,  2.63750821e-01, -7.60635883e-02,\n",
       "          2.49835104e-01,  1.19372815e-01,  6.43747151e-02,\n",
       "          1.89325571e-01,  1.28746063e-01, -1.06299341e-01,\n",
       "          5.29083908e-02],\n",
       "        [ 1.88203216e-01,  1.96699202e-02, -2.74593025e-01,\n",
       "          1.40106469e-01, -2.10092098e-01,  9.28734541e-02,\n",
       "          6.50821924e-02, -2.47960269e-01, -2.07506746e-01,\n",
       "         -2.23906979e-01],\n",
       "        [ 1.12834811e-01, -1.13691926e-01, -8.78999084e-02,\n",
       "         -2.71184593e-01,  1.17606550e-01,  1.21055454e-01,\n",
       "          1.44846290e-01,  5.33265173e-02,  6.05992079e-02,\n",
       "         -1.15983993e-01],\n",
       "        [-2.56970853e-01, -8.33634287e-02, -1.36640534e-01,\n",
       "         -1.25322074e-01, -2.69639373e-01, -2.56544501e-01,\n",
       "         -7.70779848e-02,  1.43513292e-01, -2.03962997e-01,\n",
       "         -6.13656044e-02],\n",
       "        [ 4.53991294e-02, -2.68501043e-03, -1.07525826e-01,\n",
       "          7.31986761e-02, -1.00014850e-01, -5.53909689e-02,\n",
       "          2.69203156e-01,  2.25567311e-01,  1.37325257e-01,\n",
       "         -1.87654406e-01],\n",
       "        [ 2.09288746e-01,  1.21039361e-01,  4.55513895e-02,\n",
       "         -1.28017664e-02,  1.41877025e-01, -2.19749853e-01,\n",
       "         -2.59647787e-01,  2.18688875e-01, -3.70748937e-02,\n",
       "          8.36158395e-02],\n",
       "        [-5.26288897e-02, -8.54030848e-02, -1.88469142e-01,\n",
       "          1.76268399e-01, -6.78348988e-02,  7.81982243e-02,\n",
       "         -6.50203526e-02, -1.40654877e-01, -4.39220667e-03,\n",
       "         -1.78833187e-01],\n",
       "        [ 2.13886350e-01, -6.67965263e-02, -2.14492932e-01,\n",
       "          2.73286432e-01,  1.66183263e-01, -2.26564080e-01,\n",
       "          1.05900556e-01, -2.37276167e-01, -1.17733225e-01,\n",
       "         -1.12109154e-01],\n",
       "        [-5.68205714e-02, -2.15340316e-01, -2.62698829e-02,\n",
       "          1.46460623e-01,  1.42593384e-01, -2.00151831e-01,\n",
       "         -1.29460931e-01,  2.69970506e-01,  2.38629848e-01,\n",
       "          2.32917160e-01],\n",
       "        [ 9.65388715e-02, -2.25511998e-01, -1.02644607e-01,\n",
       "          1.22641206e-01, -2.59423673e-01,  8.78720880e-02,\n",
       "          1.12229586e-02,  2.21138209e-01,  1.57866180e-01,\n",
       "         -2.23643973e-01]], dtype=float32)>,\n",
       " <tf.Variable 'dense_14/bias:0' shape=(10,) dtype=float32, numpy=array([0., 0., 0., 0., 0., 0., 0., 0., 0., 0.], dtype=float32)>]"
      ]
     },
     "execution_count": 19,
     "metadata": {},
     "output_type": "execute_result"
    }
   ],
   "source": [
    "model.weights"
   ]
  },
  {
   "cell_type": "markdown",
   "id": "acb4d78e-aa9a-448f-9b9c-b929551eac8c",
   "metadata": {},
   "source": [
    "아무것도 안했는데 가중치가 랜덤하게 들어가있다."
   ]
  },
  {
   "cell_type": "code",
   "execution_count": 20,
   "id": "784796a7-76aa-4d6a-a76b-42bca35a92da",
   "metadata": {},
   "outputs": [
    {
     "name": "stdout",
     "output_type": "stream",
     "text": [
      "Model: \"sequential_6\"\n",
      "_________________________________________________________________\n",
      " Layer (type)                Output Shape              Param #   \n",
      "=================================================================\n",
      " dense_13 (Dense)            (None, 64)                256       \n",
      "                                                                 \n",
      " dense_14 (Dense)            (None, 10)                650       \n",
      "                                                                 \n",
      "=================================================================\n",
      "Total params: 906\n",
      "Trainable params: 906\n",
      "Non-trainable params: 0\n",
      "_________________________________________________________________\n"
     ]
    }
   ],
   "source": [
    "# 모델의 모습 살펴보기\n",
    "model.summary()"
   ]
  },
  {
   "cell_type": "markdown",
   "id": "b956a421-6d7e-4bf5-a33d-b3fe0906bb06",
   "metadata": {},
   "source": [
    "레이어 2개 \n",
    "\n",
    "2개 다 댄스 레이어이다."
   ]
  },
  {
   "cell_type": "code",
   "execution_count": 21,
   "id": "b3d0d269-b735-4b29-a474-a53e7c522baa",
   "metadata": {},
   "outputs": [],
   "source": [
    "# 모델 이름 짓기\n",
    "model.add(Dense(64, activation='relu', name='my_first_layer'))\n",
    "model.add(Dense(10, activation='softmax', name='my_last_layer'))"
   ]
  },
  {
   "cell_type": "code",
   "execution_count": 22,
   "id": "7b748030-621b-4671-8b8c-87cd50bb3ecc",
   "metadata": {},
   "outputs": [
    {
     "name": "stdout",
     "output_type": "stream",
     "text": [
      "Model: \"sequential_6\"\n",
      "_________________________________________________________________\n",
      " Layer (type)                Output Shape              Param #   \n",
      "=================================================================\n",
      " dense_13 (Dense)            (None, 64)                256       \n",
      "                                                                 \n",
      " dense_14 (Dense)            (None, 10)                650       \n",
      "                                                                 \n",
      " my_first_layer (Dense)      (None, 64)                704       \n",
      "                                                                 \n",
      " my_last_layer (Dense)       (None, 10)                650       \n",
      "                                                                 \n",
      "=================================================================\n",
      "Total params: 2,260\n",
      "Trainable params: 2,260\n",
      "Non-trainable params: 0\n",
      "_________________________________________________________________\n"
     ]
    }
   ],
   "source": [
    "model.summary()"
   ]
  },
  {
   "cell_type": "code",
   "execution_count": 27,
   "id": "da1eec9b-b578-4353-9f31-2d27e36b42d4",
   "metadata": {},
   "outputs": [
    {
     "name": "stdout",
     "output_type": "stream",
     "text": [
      "Model: \"sequential_10\"\n",
      "_________________________________________________________________\n",
      " Layer (type)                Output Shape              Param #   \n",
      "=================================================================\n",
      " my_first_layer (Dense)      (None, 64)                256       \n",
      "                                                                 \n",
      " my_last_layer (Dense)       (None, 10)                650       \n",
      "                                                                 \n",
      "=================================================================\n",
      "Total params: 906\n",
      "Trainable params: 906\n",
      "Non-trainable params: 0\n",
      "_________________________________________________________________\n"
     ]
    }
   ],
   "source": [
    "# 모델 새로 시작\n",
    "model = Sequential()\n",
    "model.add(Input(shape=(3,)))\n",
    "model.add(Dense(64, activation='relu', name='my_first_layer'))\n",
    "model.add(Dense(10, activation='softmax', name='my_last_layer'))\n",
    "model.summary()"
   ]
  },
  {
   "cell_type": "markdown",
   "id": "59c2e115-06ba-48f6-a713-4105b717dbf2",
   "metadata": {},
   "source": [
    "# 함수형 API"
   ]
  },
  {
   "cell_type": "code",
   "execution_count": 64,
   "id": "383e20e2-b3d2-4f2d-b58a-f3db24ca5ec7",
   "metadata": {
    "tags": []
   },
   "outputs": [
    {
     "name": "stdout",
     "output_type": "stream",
     "text": [
      "Model: \"model_15\"\n",
      "_________________________________________________________________\n",
      " Layer (type)                Output Shape              Param #   \n",
      "=================================================================\n",
      " input_13 (InputLayer)       [(None, 3)]               0         \n",
      "                                                                 \n",
      " dense_33 (Dense)            (None, 64)                256       \n",
      "                                                                 \n",
      " dense_34 (Dense)            (None, 10)                650       \n",
      "                                                                 \n",
      "=================================================================\n",
      "Total params: 906\n",
      "Trainable params: 906\n",
      "Non-trainable params: 0\n",
      "_________________________________________________________________\n"
     ]
    }
   ],
   "source": [
    "model = keras.Model()\n",
    "x = Input(shape=(3,))\n",
    "f = Dense(64, activation='relu')(x)\n",
    "y = Dense(10, activation='softmax')(f)   # 이게 함수형 API 이다.\n",
    "\n",
    "model = keras.Model(inputs=x, outputs=y)\n",
    "model.summary()"
   ]
  },
  {
   "cell_type": "markdown",
   "id": "1606e59f-5349-4005-b71d-c8e1bd592ae6",
   "metadata": {},
   "source": [
    "```\n",
    "동일 코드\n",
    "\n",
    "inputs = Input(shape = (3,))\n",
    "y = Dense(64, activation='relu')(inputs)\n",
    "outputs = Dense(10, activation='softmax')(y)\n",
    "model = keras.Model(inputs=inputs, outputs=outputs)\n",
    "```"
   ]
  },
  {
   "cell_type": "markdown",
   "id": "8b585fc3-1198-4ff6-856e-2e5d82f9908e",
   "metadata": {},
   "source": [
    "## plot_model 함수 사용하기"
   ]
  },
  {
   "cell_type": "code",
   "execution_count": 65,
   "id": "05a5bf9d-2ed8-4534-be35-295746243c7d",
   "metadata": {},
   "outputs": [
    {
     "data": {
      "image/png": "[encoded data removed]",
      "text/plain": [
       "<IPython.core.display.Image object>"
      ]
     },
     "execution_count": 65,
     "metadata": {},
     "output_type": "execute_result"
    }
   ],
   "source": [
    "from keras.utils import plot_model\n",
    "plot_model(model)"
   ]
  },
  {
   "cell_type": "code",
   "execution_count": 66,
   "id": "2f8b80c4-adcd-47b8-9f58-6fed20053177",
   "metadata": {},
   "outputs": [],
   "source": [
    "model.compile(optimizer='RMSprop', loss='MSE')"
   ]
  },
  {
   "cell_type": "code",
   "execution_count": 67,
   "id": "5cd56dde-c4ab-4135-8a0e-c1320ce318d5",
   "metadata": {},
   "outputs": [],
   "source": [
    "# fit 과정\n",
    "from keras.datasets import mnist\n",
    "(train_data, train_labels), (test_data, test_labels) = mnist.load_data()"
   ]
  },
  {
   "cell_type": "code",
   "execution_count": 68,
   "id": "e9b3c93e-3168-46ca-887f-ff6121144e92",
   "metadata": {},
   "outputs": [
    {
     "data": {
      "text/plain": [
       "(60000, 28, 28)"
      ]
     },
     "execution_count": 68,
     "metadata": {},
     "output_type": "execute_result"
    }
   ],
   "source": [
    "train_data.shape"
   ]
  },
  {
   "cell_type": "code",
   "execution_count": 69,
   "id": "d0075282-8c39-4c62-994f-e81ccf7eb1f1",
   "metadata": {},
   "outputs": [],
   "source": [
    "train_data = train_data.reshape(60000, 28*28)\n",
    "test_data = test_data.reshape(10000, 28*28)"
   ]
  },
  {
   "cell_type": "code",
   "execution_count": 70,
   "id": "01126b54-e564-412b-9d52-c31ac3d9745f",
   "metadata": {},
   "outputs": [],
   "source": [
    "from keras.utils import to_categorical\n",
    "train_labels = to_categorical(train_labels)\n",
    "test_labels = to_categorical(test_labels)"
   ]
  },
  {
   "cell_type": "code",
   "execution_count": 71,
   "id": "2ca44f19-1fd4-4606-aea6-b774ef57cfb9",
   "metadata": {
    "collapsed": true,
    "jupyter": {
     "outputs_hidden": true
    },
    "tags": []
   },
   "outputs": [
    {
     "name": "stdout",
     "output_type": "stream",
     "text": [
      "Epoch 1/10\n"
     ]
    },
    {
     "ename": "ValueError",
     "evalue": "in user code:\n\n    File \"C:\\Users\\admin\\anaconda3\\lib\\site-packages\\keras\\engine\\training.py\", line 1160, in train_function  *\n        return step_function(self, iterator)\n    File \"C:\\Users\\admin\\anaconda3\\lib\\site-packages\\keras\\engine\\training.py\", line 1146, in step_function  **\n        outputs = model.distribute_strategy.run(run_step, args=(data,))\n    File \"C:\\Users\\admin\\anaconda3\\lib\\site-packages\\keras\\engine\\training.py\", line 1135, in run_step  **\n        outputs = model.train_step(data)\n    File \"C:\\Users\\admin\\anaconda3\\lib\\site-packages\\keras\\engine\\training.py\", line 993, in train_step\n        y_pred = self(x, training=True)\n    File \"C:\\Users\\admin\\anaconda3\\lib\\site-packages\\keras\\utils\\traceback_utils.py\", line 70, in error_handler\n        raise e.with_traceback(filtered_tb) from None\n    File \"C:\\Users\\admin\\anaconda3\\lib\\site-packages\\keras\\engine\\input_spec.py\", line 295, in assert_input_compatibility\n        raise ValueError(\n\n    ValueError: Input 0 of layer \"model_15\" is incompatible with the layer: expected shape=(None, 3), found shape=(None, 784)\n",
     "output_type": "error",
     "traceback": [
      "\u001b[1;31m---------------------------------------------------------------------------\u001b[0m",
      "\u001b[1;31mValueError\u001b[0m                                Traceback (most recent call last)",
      "Input \u001b[1;32mIn [71]\u001b[0m, in \u001b[0;36m<cell line: 1>\u001b[1;34m()\u001b[0m\n\u001b[1;32m----> 1\u001b[0m \u001b[43mmodel\u001b[49m\u001b[38;5;241;43m.\u001b[39;49m\u001b[43mfit\u001b[49m\u001b[43m(\u001b[49m\u001b[43mtrain_data\u001b[49m\u001b[43m,\u001b[49m\u001b[43m \u001b[49m\u001b[43mtrain_labels\u001b[49m\u001b[43m,\u001b[49m\u001b[43m \u001b[49m\u001b[43mepochs\u001b[49m\u001b[38;5;241;43m=\u001b[39;49m\u001b[38;5;241;43m10\u001b[39;49m\u001b[43m,\u001b[49m\u001b[43m \u001b[49m\u001b[43mbatch_size\u001b[49m\u001b[38;5;241;43m=\u001b[39;49m\u001b[38;5;241;43m256\u001b[39;49m\u001b[43m)\u001b[49m\n",
      "File \u001b[1;32m~\\anaconda3\\lib\\site-packages\\keras\\utils\\traceback_utils.py:70\u001b[0m, in \u001b[0;36mfilter_traceback.<locals>.error_handler\u001b[1;34m(*args, **kwargs)\u001b[0m\n\u001b[0;32m     67\u001b[0m     filtered_tb \u001b[38;5;241m=\u001b[39m _process_traceback_frames(e\u001b[38;5;241m.\u001b[39m__traceback__)\n\u001b[0;32m     68\u001b[0m     \u001b[38;5;66;03m# To get the full stack trace, call:\u001b[39;00m\n\u001b[0;32m     69\u001b[0m     \u001b[38;5;66;03m# `tf.debugging.disable_traceback_filtering()`\u001b[39;00m\n\u001b[1;32m---> 70\u001b[0m     \u001b[38;5;28;01mraise\u001b[39;00m e\u001b[38;5;241m.\u001b[39mwith_traceback(filtered_tb) \u001b[38;5;28;01mfrom\u001b[39;00m \u001b[38;5;28mNone\u001b[39m\n\u001b[0;32m     71\u001b[0m \u001b[38;5;28;01mfinally\u001b[39;00m:\n\u001b[0;32m     72\u001b[0m     \u001b[38;5;28;01mdel\u001b[39;00m filtered_tb\n",
      "File \u001b[1;32m~\\AppData\\Local\\Temp\\__autograph_generated_fileqryh3ocu.py:15\u001b[0m, in \u001b[0;36mouter_factory.<locals>.inner_factory.<locals>.tf__train_function\u001b[1;34m(iterator)\u001b[0m\n\u001b[0;32m     13\u001b[0m \u001b[38;5;28;01mtry\u001b[39;00m:\n\u001b[0;32m     14\u001b[0m     do_return \u001b[38;5;241m=\u001b[39m \u001b[38;5;28;01mTrue\u001b[39;00m\n\u001b[1;32m---> 15\u001b[0m     retval_ \u001b[38;5;241m=\u001b[39m ag__\u001b[38;5;241m.\u001b[39mconverted_call(ag__\u001b[38;5;241m.\u001b[39mld(step_function), (ag__\u001b[38;5;241m.\u001b[39mld(\u001b[38;5;28mself\u001b[39m), ag__\u001b[38;5;241m.\u001b[39mld(iterator)), \u001b[38;5;28;01mNone\u001b[39;00m, fscope)\n\u001b[0;32m     16\u001b[0m \u001b[38;5;28;01mexcept\u001b[39;00m:\n\u001b[0;32m     17\u001b[0m     do_return \u001b[38;5;241m=\u001b[39m \u001b[38;5;28;01mFalse\u001b[39;00m\n",
      "\u001b[1;31mValueError\u001b[0m: in user code:\n\n    File \"C:\\Users\\admin\\anaconda3\\lib\\site-packages\\keras\\engine\\training.py\", line 1160, in train_function  *\n        return step_function(self, iterator)\n    File \"C:\\Users\\admin\\anaconda3\\lib\\site-packages\\keras\\engine\\training.py\", line 1146, in step_function  **\n        outputs = model.distribute_strategy.run(run_step, args=(data,))\n    File \"C:\\Users\\admin\\anaconda3\\lib\\site-packages\\keras\\engine\\training.py\", line 1135, in run_step  **\n        outputs = model.train_step(data)\n    File \"C:\\Users\\admin\\anaconda3\\lib\\site-packages\\keras\\engine\\training.py\", line 993, in train_step\n        y_pred = self(x, training=True)\n    File \"C:\\Users\\admin\\anaconda3\\lib\\site-packages\\keras\\utils\\traceback_utils.py\", line 70, in error_handler\n        raise e.with_traceback(filtered_tb) from None\n    File \"C:\\Users\\admin\\anaconda3\\lib\\site-packages\\keras\\engine\\input_spec.py\", line 295, in assert_input_compatibility\n        raise ValueError(\n\n    ValueError: Input 0 of layer \"model_15\" is incompatible with the layer: expected shape=(None, 3), found shape=(None, 784)\n"
     ]
    }
   ],
   "source": [
    "model.fit(train_data, train_labels, epochs=10, batch_size=256)"
   ]
  },
  {
   "cell_type": "code",
   "execution_count": null,
   "id": "4d781435-21f8-4d26-95fa-91a74767d33e",
   "metadata": {},
   "outputs": [],
   "source": [
    "왜 함수형 쓰나?\n",
    "시퀀셜에서 사용할 수 없었던걸 사요알 수 있는데\n",
    "시퀀셜은 쌓기만 해서 입력되는 녀석이 1개고 출력되는 녀석이 1개일때만 사용가능\n",
    "하지만 함수형은 입력 여러개 출력 여러개 일때도 사용이 가능"
   ]
  },
  {
   "cell_type": "code",
   "execution_count": null,
   "id": "11a74d06-c267-4cfa-ab33-53c384f89789",
   "metadata": {},
   "outputs": [],
   "source": []
  },
  {
   "cell_type": "code",
   "execution_count": null,
   "id": "afe8d4ad-7e0c-4492-8482-cd0e6dc56b4f",
   "metadata": {},
   "outputs": [],
   "source": []
  },
  {
   "cell_type": "code",
   "execution_count": 72,
   "id": "9c6d4e95-53da-4076-980a-73e03df45eb6",
   "metadata": {},
   "outputs": [
    {
     "data": {
      "image/png": "[encoded data removed]",
      "text/plain": [
       "<IPython.core.display.Image object>"
      ]
     },
     "execution_count": 72,
     "metadata": {},
     "output_type": "execute_result"
    }
   ],
   "source": [
    "plot_model(model, show_shapes=True)"
   ]
  },
  {
   "cell_type": "code",
   "execution_count": 73,
   "id": "77665d0f-9547-4150-84cf-9118d3eeeca6",
   "metadata": {},
   "outputs": [
    {
     "data": {
      "text/plain": [
       "[<keras.engine.input_layer.InputLayer at 0x194ee361640>,\n",
       " <keras.layers.core.dense.Dense at 0x194e52c1190>,\n",
       " <keras.layers.core.dense.Dense at 0x194ee378310>]"
      ]
     },
     "execution_count": 73,
     "metadata": {},
     "output_type": "execute_result"
    }
   ],
   "source": [
    "model.layers"
   ]
  },
  {
   "cell_type": "markdown",
   "id": "169cb512-e38f-4ee3-9d1c-0ef6c789e141",
   "metadata": {},
   "source": [
    "3개의 layers가 있다."
   ]
  },
  {
   "cell_type": "code",
   "execution_count": 75,
   "id": "301e118e-d83b-4ada-a21b-eecc59cdd3ac",
   "metadata": {},
   "outputs": [
    {
     "data": {
      "text/plain": [
       "<KerasTensor: shape=(None, 3) dtype=float32 (created by layer 'input_13')>"
      ]
     },
     "execution_count": 75,
     "metadata": {},
     "output_type": "execute_result"
    }
   ],
   "source": [
    "model.layers[1].input"
   ]
  },
  {
   "cell_type": "markdown",
   "id": "45d38eb8-4a91-412a-990c-73415737c2a3",
   "metadata": {},
   "source": [
    "각층에서 벌어지는 일을 좀 더 자세하게 보여준다."
   ]
  },
  {
   "cell_type": "code",
   "execution_count": 76,
   "id": "03a7f61a-1ac6-4c73-b8cd-8c1003da2550",
   "metadata": {},
   "outputs": [
    {
     "data": {
      "text/plain": [
       "<KerasTensor: shape=(None, 64) dtype=float32 (created by layer 'dense_33')>"
      ]
     },
     "execution_count": 76,
     "metadata": {},
     "output_type": "execute_result"
    }
   ],
   "source": [
    "model.layers[1].output"
   ]
  },
  {
   "cell_type": "code",
   "execution_count": null,
   "id": "b79812b5-59d8-4702-8736-9ec972d0d8aa",
   "metadata": {},
   "outputs": [],
   "source": []
  },
  {
   "cell_type": "code",
   "execution_count": null,
   "id": "3ab411d4-216a-43b0-aa52-06907f63fcbd",
   "metadata": {},
   "outputs": [],
   "source": []
  },
  {
   "cell_type": "markdown",
   "id": "f8a40bcc-892e-454e-87f5-bba1311fae3f",
   "metadata": {},
   "source": [
    "# 다중 입력, 다중 출력 p251"
   ]
  },
  {
   "cell_type": "code",
   "execution_count": 78,
   "id": "892f2db1-935d-4e32-99f4-58154dbda33f",
   "metadata": {},
   "outputs": [],
   "source": [
    "# 모델\n",
    "\n",
    "vocabulary_size = 10000\n",
    "num_tags = 100\n",
    "num_departments = 4\n",
    "\n",
    "title = keras.Input(shape=(vocabulary_size,), name=\"title\")\n",
    "text_body = keras.Input(shape=(vocabulary_size,), name=\"text_body\")\n",
    "tags = keras.Input(shape=(num_tags,), name=\"tags\")\n",
    "\n",
    "features = layers.Concatenate()([title, text_body, tags])\n",
    "features = layers.Dense(64, activation=\"relu\")(features)\n",
    "\n",
    "priority = layers.Dense(1, activation=\"sigmoid\", name=\"priority\")(features)\n",
    "department = layers.Dense(\n",
    "    num_departments, activation=\"softmax\", name=\"department\")(features)\n",
    "\n",
    "model = keras.Model(inputs=[title, text_body, tags], outputs=[priority, department]) "
   ]
  },
  {
   "cell_type": "code",
   "execution_count": 80,
   "id": "22779114-3704-4332-aa5d-a3f5b05c6025",
   "metadata": {},
   "outputs": [
    {
     "name": "stdout",
     "output_type": "stream",
     "text": [
      "40/40 [==============================] - 2s 22ms/step - loss: 39.5773 - priority_loss: 0.3317 - department_loss: 39.2456 - priority_mean_absolute_error: 0.4975 - department_accuracy: 0.2594\n",
      "40/40 [==============================] - 1s 5ms/step - loss: 47.7989 - priority_loss: 0.3376 - department_loss: 47.4613 - priority_mean_absolute_error: 0.5042 - department_accuracy: 0.1297\n",
      "40/40 [==============================] - 0s 5ms/step\n"
     ]
    }
   ],
   "source": [
    "# 모델 훈련\n",
    "\n",
    "import numpy as np\n",
    "\n",
    "num_samples = 1280\n",
    "\n",
    "title_data = np.random.randint(0, 2, size=(num_samples, vocabulary_size))\n",
    "text_body_data = np.random.randint(0, 2, size=(num_samples, vocabulary_size))\n",
    "tags_data = np.random.randint(0, 2, size=(num_samples, num_tags))\n",
    "\n",
    "priority_data = np.random.random(size=(num_samples, 1))\n",
    "department_data = np.random.randint(0, 2, size=(num_samples, num_departments))\n",
    "\n",
    "model.compile(optimizer=\"rmsprop\",\n",
    "              loss=[\"mean_squared_error\", \"categorical_crossentropy\"],\n",
    "              metrics=[[\"mean_absolute_error\"], [\"accuracy\"]])\n",
    "model.fit([title_data, text_body_data, tags_data],\n",
    "          [priority_data, department_data],\n",
    "          epochs=1)\n",
    "model.evaluate([title_data, text_body_data, tags_data],\n",
    "               [priority_data, department_data])\n",
    "priority_preds, department_preds = model.predict([title_data, text_body_data, tags_data]) "
   ]
  },
  {
   "cell_type": "code",
   "execution_count": 81,
   "id": "e258eb87-c3bb-4c0c-b24f-c55bd17196dd",
   "metadata": {},
   "outputs": [
    {
     "data": {
      "image/png": "[encoded data removed]",
      "text/plain": [
       "<IPython.core.display.Image object>"
      ]
     },
     "execution_count": 81,
     "metadata": {},
     "output_type": "execute_result"
    }
   ],
   "source": [
    "plot_model(model, show_shapes=True)"
   ]
  },
  {
   "cell_type": "code",
   "execution_count": null,
   "id": "4170fd3d-03b1-4f8e-ac9b-0c57d257c792",
   "metadata": {},
   "outputs": [],
   "source": []
  },
  {
   "cell_type": "code",
   "execution_count": null,
   "id": "31c89204-7757-4c1d-89f1-19c37c8dd317",
   "metadata": {},
   "outputs": [],
   "source": []
  },
  {
   "cell_type": "code",
   "execution_count": null,
   "id": "8090020c-4c7a-439b-aa63-2f7badfab6b8",
   "metadata": {},
   "outputs": [],
   "source": []
  },
  {
   "cell_type": "code",
   "execution_count": null,
   "id": "6eeb12ca-8cdb-4e8d-9811-5905ae46705e",
   "metadata": {},
   "outputs": [],
   "source": []
  }
 ],
 "metadata": {
  "kernelspec": {
   "display_name": "Python 3 (ipykernel)",
   "language": "python",
   "name": "python3"
  },
  "language_info": {
   "codemirror_mode": {
    "name": "ipython",
    "version": 3
   },
   "file_extension": ".py",
   "mimetype": "text/x-python",
   "name": "python",
   "nbconvert_exporter": "python",
   "pygments_lexer": "ipython3",
   "version": "3.9.12"
  }
 },
 "nbformat": 4,
 "nbformat_minor": 5
}
