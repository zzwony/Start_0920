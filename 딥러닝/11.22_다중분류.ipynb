{
 "cells": [
  {
   "cell_type": "code",
   "execution_count": null,
   "id": "18792f17-6866-42f2-af7c-f36e1790ee28",
   "metadata": {},
   "outputs": [],
   "source": [
    "# relu : 렐루 함수는 음력은 0으로 양수는 그대로 반환한다.\n",
    "# 렐루가 어떤 함수인지 그림 넣기"
   ]
  },
  {
   "cell_type": "code",
   "execution_count": 9,
   "id": "b688e965-c86b-48b3-b271-2915ab0def70",
   "metadata": {},
   "outputs": [],
   "source": [
    "# relu 함수 그리기\n",
    "import numpy as np\n",
    "import matplotlib.pyplot as plt"
   ]
  },
  {
   "cell_type": "code",
   "execution_count": 5,
   "id": "872a76aa-2ad8-4de8-89ff-a5029cfecda2",
   "metadata": {},
   "outputs": [],
   "source": [
    "x = np.linspace(-1, 1, 1000)  # 이게 x축"
   ]
  },
  {
   "cell_type": "code",
   "execution_count": 8,
   "id": "16e57a88-3ffb-44f8-8a93-804d9f53422a",
   "metadata": {},
   "outputs": [
    {
     "data": {
      "text/plain": [
       "<matplotlib.collections.PathCollection at 0x23d0ee98220>"
      ]
     },
     "execution_count": 8,
     "metadata": {},
     "output_type": "execute_result"
    },
    {
     "data": {
      "image/png": "[encoded data removed]",
      "text/plain": [
       "<Figure size 432x288 with 1 Axes>"
      ]
     },
     "metadata": {
      "needs_background": "light"
     },
     "output_type": "display_data"
    }
   ],
   "source": [
    "plt.scatter(x, np.maximum(0, x))"
   ]
  },
  {
   "cell_type": "code",
   "execution_count": null,
   "id": "beb4eae3-0272-41d7-aa00-803d57936fd6",
   "metadata": {},
   "outputs": [
    {
     "data": {
      "image/png": "[encoded data removed]",
      "text/plain": [
       "<Figure size 432x288 with 1 Axes>"
      ]
     },
     "metadata": {
      "needs_background": "light"
     },
     "output_type": "display_data"
    }
   ],
   "source": [
    "# 시그모이드 함수\n",
    "import numpy as np\n",
    "import matplotlib.pyplot as plt\n",
    "\n",
    "\n",
    "def sigmoid(x):\n",
    "    return 1 / (1 + np.exp(-x))\n",
    "\n",
    "x = np.arange(-5.0, 5.0, 0.1)\n",
    "y = sigmoid(x)\n",
    "plt.plot(x, y)\n",
    "plt.ylim(-0.1, 1.1)\n",
    "plt.show()"
   ]
  },
  {
   "cell_type": "code",
   "execution_count": null,
   "id": "0f423d21-28db-4737-bf16-8876e6291e70",
   "metadata": {},
   "outputs": [],
   "source": []
  },
  {
   "cell_type": "code",
   "execution_count": null,
   "id": "9487a923-f3d6-4717-b0b1-e7e8018de739",
   "metadata": {},
   "outputs": [],
   "source": [
    "# output = relu(dot(W, input) + b)"
   ]
  },
  {
   "cell_type": "code",
   "execution_count": null,
   "id": "67744c32-d592-468e-8dc1-66a3b8c15e7d",
   "metadata": {},
   "outputs": [],
   "source": [
    "#퍼셉트론\n",
    "#엑티베이션 함수?\n",
    "#각각의 값에 가중치를 다 곱해서 bias 라는 b를 더하고 전체를 더하고 엑티베이션 함수를 거쳐서 아웃풋을 낸다.\n",
    "#다 더한 값을 바로 보내는게 아니라 이걸 통과 시킬지 안시킬지 고민하는게 판단함수이다.\n",
    "#그림 첨부"
   ]
  },
  {
   "cell_type": "code",
   "execution_count": null,
   "id": "7258710b-8d01-46a6-97aa-cf0a6a3a5196",
   "metadata": {},
   "outputs": [],
   "source": [
    "(1,2,3) * (3,2,1) = (3,4,3) -> np의 곱셈:element-wise 원소 하나하나의 곱\n",
    "(1,2,3) ●(dot) (3,2,1) = 10 -> dot product(내적, 도트 곱셈을 말한다.)"
   ]
  },
  {
   "cell_type": "code",
   "execution_count": 17,
   "id": "f3374d72-cad5-498c-871f-335590da103c",
   "metadata": {},
   "outputs": [
    {
     "data": {
      "text/plain": [
       "array([2, 4, 4, 3, 2, 2])"
      ]
     },
     "execution_count": 17,
     "metadata": {},
     "output_type": "execute_result"
    }
   ],
   "source": [
    "# 축을 추가한다는것은? p78\n",
    "a = np.random.randint(1,5,6)\n",
    "a"
   ]
  },
  {
   "cell_type": "code",
   "execution_count": 21,
   "id": "efe13fcd-b6fc-4e57-bea8-e8d92c4402b4",
   "metadata": {},
   "outputs": [
    {
     "data": {
      "text/plain": [
       "(6,)"
      ]
     },
     "execution_count": 21,
     "metadata": {},
     "output_type": "execute_result"
    }
   ],
   "source": [
    "a.shape"
   ]
  },
  {
   "cell_type": "markdown",
   "id": "4466dd0a-2e53-408c-a5cb-4f64adcca31d",
   "metadata": {},
   "source": [
    "1차원이다."
   ]
  },
  {
   "cell_type": "code",
   "execution_count": 18,
   "id": "d50ed2f2-c417-498c-b91b-e97361b0f1a3",
   "metadata": {},
   "outputs": [
    {
     "data": {
      "text/plain": [
       "array([[2],\n",
       "       [4],\n",
       "       [4],\n",
       "       [3],\n",
       "       [2],\n",
       "       [2]])"
      ]
     },
     "execution_count": 18,
     "metadata": {},
     "output_type": "execute_result"
    }
   ],
   "source": [
    "# 2차원으로 바꾸려면?\n",
    "a.reshape((6,1))"
   ]
  },
  {
   "cell_type": "code",
   "execution_count": 22,
   "id": "06bed38a-57f9-423c-98b5-6d9573796590",
   "metadata": {},
   "outputs": [
    {
     "data": {
      "text/plain": [
       "(6, 1)"
      ]
     },
     "execution_count": 22,
     "metadata": {},
     "output_type": "execute_result"
    }
   ],
   "source": [
    "a.reshape((6,1)).shape"
   ]
  },
  {
   "cell_type": "markdown",
   "id": "f2172797-eb7f-4000-9b8b-49f6a3e991a3",
   "metadata": {},
   "source": [
    "2차원이 되었다."
   ]
  },
  {
   "cell_type": "code",
   "execution_count": 25,
   "id": "66dcaa48-2b50-45c3-9585-4cacc2fcf052",
   "metadata": {},
   "outputs": [
    {
     "data": {
      "text/plain": [
       "(6, 1)"
      ]
     },
     "execution_count": 25,
     "metadata": {},
     "output_type": "execute_result"
    }
   ],
   "source": [
    "a[:, np.newaxis].shape"
   ]
  },
  {
   "cell_type": "code",
   "execution_count": 26,
   "id": "2a6e8c64-e29f-4840-8769-9258ea29b434",
   "metadata": {},
   "outputs": [
    {
     "data": {
      "text/plain": [
       "(1, 6)"
      ]
     },
     "execution_count": 26,
     "metadata": {},
     "output_type": "execute_result"
    }
   ],
   "source": [
    "a[np.newaxis, :].shape"
   ]
  },
  {
   "cell_type": "code",
   "execution_count": 27,
   "id": "e8955658-de2b-4dd5-b202-8dda7d08a7a1",
   "metadata": {},
   "outputs": [
    {
     "data": {
      "text/plain": [
       "(1, 6)"
      ]
     },
     "execution_count": 27,
     "metadata": {},
     "output_type": "execute_result"
    }
   ],
   "source": [
    "np.expand_dims(a, axis=0).shape"
   ]
  },
  {
   "cell_type": "code",
   "execution_count": 29,
   "id": "6cb7bd6b-b31c-4009-ac23-dd5a25f9d242",
   "metadata": {},
   "outputs": [
    {
     "data": {
      "text/plain": [
       "(6, 1)"
      ]
     },
     "execution_count": 29,
     "metadata": {},
     "output_type": "execute_result"
    }
   ],
   "source": [
    "np.expand_dims(a, axis=1).shape"
   ]
  },
  {
   "cell_type": "code",
   "execution_count": 31,
   "id": "58489e9c-8062-449e-a70f-6d1a76935aa9",
   "metadata": {},
   "outputs": [
    {
     "data": {
      "text/plain": [
       "array([[2, 4, 4],\n",
       "       [3, 2, 2]])"
      ]
     },
     "execution_count": 31,
     "metadata": {},
     "output_type": "execute_result"
    }
   ],
   "source": [
    "a = a.reshape((2,3))\n",
    "a"
   ]
  },
  {
   "cell_type": "code",
   "execution_count": 35,
   "id": "6637431e-8dd6-4a02-adaf-495ba16dacfe",
   "metadata": {},
   "outputs": [
    {
     "data": {
      "text/plain": [
       "(2, 1, 3)"
      ]
     },
     "execution_count": 35,
     "metadata": {},
     "output_type": "execute_result"
    }
   ],
   "source": [
    "# a.shape을 3차원으로 바꾸기\n",
    "np.expand_dims(a, axis=1).shape"
   ]
  },
  {
   "cell_type": "code",
   "execution_count": 40,
   "id": "4de7f749-320e-402f-8085-49b06010daf9",
   "metadata": {},
   "outputs": [
    {
     "data": {
      "text/plain": [
       "(2, 3, 1)"
      ]
     },
     "execution_count": 40,
     "metadata": {},
     "output_type": "execute_result"
    }
   ],
   "source": [
    "# 기타1\n",
    "#a.reshape((2,3,1)).shape\n",
    "a.reshape((2,3) + (1,)).shape"
   ]
  },
  {
   "cell_type": "code",
   "execution_count": 41,
   "id": "855f2bf5-21f3-4007-a799-e10f55562690",
   "metadata": {},
   "outputs": [
    {
     "data": {
      "text/plain": [
       "(2, 3, 1)"
      ]
     },
     "execution_count": 41,
     "metadata": {},
     "output_type": "execute_result"
    }
   ],
   "source": [
    "# 기타2\n",
    "a[:, :, None].shape"
   ]
  },
  {
   "cell_type": "markdown",
   "id": "fc6ed567-d678-46e1-9007-f138c8000254",
   "metadata": {},
   "source": [
    "여기까지 축을 추가하는 방법\n",
    "\n",
    "기타 방법은 가급적이면 쓰지 말기 "
   ]
  },
  {
   "cell_type": "markdown",
   "id": "6873e1d7-8d59-45e9-b299-640b56fdeb58",
   "metadata": {},
   "source": [
    "축을 추가해야지 집어넣을때 모양이 맞는다."
   ]
  },
  {
   "cell_type": "code",
   "execution_count": 42,
   "id": "0746791e-f374-4643-82b6-cf665f09df2a",
   "metadata": {},
   "outputs": [
    {
     "data": {
      "text/plain": [
       "array([3, 3, 3])"
      ]
     },
     "execution_count": 42,
     "metadata": {},
     "output_type": "execute_result"
    }
   ],
   "source": [
    "# 텐서 곱셈\n",
    "a = np.random.randint(1,5,3)\n",
    "a"
   ]
  },
  {
   "cell_type": "code",
   "execution_count": 43,
   "id": "94271a15-b06f-4df7-b844-9d00914b9623",
   "metadata": {},
   "outputs": [
    {
     "data": {
      "text/plain": [
       "array([3, 2, 2])"
      ]
     },
     "execution_count": 43,
     "metadata": {},
     "output_type": "execute_result"
    }
   ],
   "source": [
    "b = np.random.randint(1,5,3)\n",
    "b"
   ]
  },
  {
   "cell_type": "code",
   "execution_count": 44,
   "id": "b20fd929-63de-448a-8e2d-2e5bdfdd4b5e",
   "metadata": {},
   "outputs": [
    {
     "data": {
      "text/plain": [
       "array([9, 6, 6])"
      ]
     },
     "execution_count": 44,
     "metadata": {},
     "output_type": "execute_result"
    }
   ],
   "source": [
    "a*b"
   ]
  },
  {
   "cell_type": "markdown",
   "id": "5996d63b-2e04-458b-8def-979072316f49",
   "metadata": {},
   "source": [
    "이게 element-wise 곱셈"
   ]
  },
  {
   "cell_type": "code",
   "execution_count": 46,
   "id": "33157f3e-4e4c-4f5e-b722-6041c74862d8",
   "metadata": {},
   "outputs": [
    {
     "data": {
      "text/plain": [
       "21"
      ]
     },
     "execution_count": 46,
     "metadata": {},
     "output_type": "execute_result"
    }
   ],
   "source": [
    "np.dot(a,b)"
   ]
  },
  {
   "cell_type": "markdown",
   "id": "9a850ad7-ad1c-4d5e-a835-0549a58250c7",
   "metadata": {},
   "source": [
    "도트 프로독트와 엘리멘트 와이스는 다르다는 내용"
   ]
  },
  {
   "cell_type": "code",
   "execution_count": 47,
   "id": "0284aaa0-4656-4d62-a71f-0e21b0f9374c",
   "metadata": {},
   "outputs": [
    {
     "data": {
      "text/plain": [
       "23"
      ]
     },
     "execution_count": 47,
     "metadata": {},
     "output_type": "execute_result"
    }
   ],
   "source": [
    "np.maximum(0, (np.dot(a,b) + 2) )"
   ]
  },
  {
   "cell_type": "code",
   "execution_count": 57,
   "id": "e52a2236-9def-4772-802c-93af82b89200",
   "metadata": {},
   "outputs": [
    {
     "data": {
      "text/plain": [
       "14"
      ]
     },
     "execution_count": 57,
     "metadata": {},
     "output_type": "execute_result"
    }
   ],
   "source": [
    "a = np.random.randint(-5,5,3)\n",
    "b = np.random.randint(-5,5,3)\n",
    "\n",
    "np.maximum(0, (np.dot(a,b) + 2) )"
   ]
  },
  {
   "cell_type": "markdown",
   "id": "b4f2f789-eb2b-4a51-b9a4-1427530fb7d1",
   "metadata": {},
   "source": [
    "계속 실행시키면 0 아니면 양수만 나온다.\n",
    "\n",
    "out = relu(dot(W, input) + b)와 같다."
   ]
  },
  {
   "cell_type": "code",
   "execution_count": 60,
   "id": "439a35fc-8653-4b6d-84fc-a3eaaa32a6aa",
   "metadata": {},
   "outputs": [
    {
     "data": {
      "text/plain": [
       "12"
      ]
     },
     "execution_count": 60,
     "metadata": {},
     "output_type": "execute_result"
    }
   ],
   "source": [
    "np.dot(a,b)"
   ]
  },
  {
   "cell_type": "markdown",
   "id": "95b52a54-2c79-4c7b-ae48-b4e6017c4ec2",
   "metadata": {},
   "source": [
    "12라는 숫자를 스칼라 라고 한다.\n",
    "\n",
    "스칼라는 벡터(대괄호로 묶여있다.) 가 아닌 하나의 숫자를 뜻한다."
   ]
  },
  {
   "cell_type": "code",
   "execution_count": null,
   "id": "6259a4d2-6273-4cf4-84f7-137c25d27fb4",
   "metadata": {},
   "outputs": [],
   "source": [
    "# p87\n",
    "학습을 한다는건 가중치가 바뀌어 가는 과정을 학습한다라고 한다.\n"
   ]
  },
  {
   "cell_type": "code",
   "execution_count": null,
   "id": "69768a1a-5a9a-467f-9f61-981e484fa8d9",
   "metadata": {},
   "outputs": [],
   "source": []
  },
  {
   "cell_type": "code",
   "execution_count": null,
   "id": "d3edbecd-c6ec-416a-a71a-88be1d30031c",
   "metadata": {},
   "outputs": [],
   "source": []
  },
  {
   "cell_type": "code",
   "execution_count": null,
   "id": "d28e78e3-a155-4fac-90c4-45f34415ac3a",
   "metadata": {},
   "outputs": [],
   "source": []
  },
  {
   "cell_type": "code",
   "execution_count": null,
   "id": "9e450720-fafe-4476-b798-d5434ad7e4bd",
   "metadata": {},
   "outputs": [],
   "source": []
  },
  {
   "cell_type": "markdown",
   "id": "0783ea37-2ca1-49b6-b8d1-834337457a99",
   "metadata": {},
   "source": [
    "# 다중분류 : 뉴스 기사 분류"
   ]
  },
  {
   "cell_type": "markdown",
   "id": "af365994-2ff5-4767-bbff-c58e8cbc85b8",
   "metadata": {},
   "source": [
    "```\n",
    "다중 : y값이 여러 개 인것\n",
    "\n",
    "single-label : 정치, 체육, 문화 등등 이렇게 하나로 콕 집어주는것\n",
    "multi-label  : imf 기사인데 경제이면서 정치기사 , 교동 기사이면서 부동산 기사 인것을 말함\n",
    "```"
   ]
  },
  {
   "cell_type": "code",
   "execution_count": 1,
   "id": "79d8ca9e-212e-4d3d-9ded-68ed2666321d",
   "metadata": {},
   "outputs": [],
   "source": [
    "# 로이터 데이터셋 로드하기\n",
    "from tensorflow.keras.datasets import reuters\n",
    "\n",
    "(train_data, train_labels), (test_data, test_labels) = reuters.load_data(num_words=10000)"
   ]
  },
  {
   "cell_type": "code",
   "execution_count": 2,
   "id": "c91ac0da-faaa-4ff2-afd0-eac10a1700ad",
   "metadata": {},
   "outputs": [
    {
     "data": {
      "text/plain": [
       "(8982,)"
      ]
     },
     "execution_count": 2,
     "metadata": {},
     "output_type": "execute_result"
    }
   ],
   "source": [
    "train_data.shape # 1차원 자료로 출력된다."
   ]
  },
  {
   "cell_type": "code",
   "execution_count": 3,
   "id": "eeaa5358-9cd0-4828-8788-aee549095051",
   "metadata": {},
   "outputs": [
    {
     "data": {
      "text/plain": [
       "array([ 3,  4,  3, ..., 25,  3, 25], dtype=int64)"
      ]
     },
     "execution_count": 3,
     "metadata": {},
     "output_type": "execute_result"
    }
   ],
   "source": [
    "train_labels"
   ]
  },
  {
   "cell_type": "code",
   "execution_count": 4,
   "id": "e45af09f-8e39-4cce-a3e6-a472b76fda71",
   "metadata": {},
   "outputs": [],
   "source": [
    "# 데이터준비\n",
    "# 데이터 인코딩\n",
    "\n",
    "import numpy as np\n",
    "\n",
    "def vectorize_sequences(sequences, dimension=10000):\n",
    "    results = np.zeros((len(sequences), dimension))\n",
    "    for i, sequence in enumerate(sequences):\n",
    "        for j in sequence:\n",
    "            results[i, j] = 1.\n",
    "    return results"
   ]
  },
  {
   "cell_type": "code",
   "execution_count": 5,
   "id": "33b9ad09-07a0-426a-bde4-5a9b9c48e1a0",
   "metadata": {},
   "outputs": [],
   "source": [
    "x_train = vectorize_sequences(train_data)\n",
    "x_test = vectorize_sequences(test_data)"
   ]
  },
  {
   "cell_type": "code",
   "execution_count": 6,
   "id": "9deee152-a790-40d8-99c1-522739eb5a8d",
   "metadata": {},
   "outputs": [],
   "source": [
    "from keras.utils.np_utils import to_categorical"
   ]
  },
  {
   "cell_type": "markdown",
   "id": "4688cc4e-9959-4efe-85fa-9150c0f149ea",
   "metadata": {},
   "source": [
    "```\n",
    "2가지 방법\n",
    "- 정수텐서로 변환\n",
    "- 원핫인코딩으로 변환\n",
    "```"
   ]
  },
  {
   "cell_type": "code",
   "execution_count": 7,
   "id": "19e0b8f5-f695-4acf-af4a-a4ccb8b83268",
   "metadata": {},
   "outputs": [],
   "source": [
    "# 원핫 인코딩으로 바꾸기\n",
    "# 함수 만들 필요없이 워낙 많이 쓰여서 케라스에서 제공하고 있다. 기억하기\n",
    "y_train = to_categorical(train_labels)\n",
    "y_test = to_categorical(test_labels)"
   ]
  },
  {
   "cell_type": "code",
   "execution_count": 8,
   "id": "9067907a-525e-4048-9182-57873c7b1fa8",
   "metadata": {},
   "outputs": [
    {
     "data": {
      "text/plain": [
       "(8982,)"
      ]
     },
     "execution_count": 8,
     "metadata": {},
     "output_type": "execute_result"
    }
   ],
   "source": [
    "train_labels.shape"
   ]
  },
  {
   "cell_type": "code",
   "execution_count": 9,
   "id": "5de44873-0686-4987-87bd-1efb67add081",
   "metadata": {},
   "outputs": [],
   "source": [
    "import numpy as np\n",
    "import pandas as pd\n",
    "import matplotlib.pyplot as plt\n",
    "\n",
    "from keras import Sequential #대문자라는 뜻은 클래스 라는 뜻\n",
    "from keras import optimizers\n",
    "from keras.layers import Input, Dense\n",
    "\n",
    "from tensorflow import keras\n",
    "from tensorflow.keras import layers"
   ]
  },
  {
   "cell_type": "code",
   "execution_count": 10,
   "id": "df662932-f75b-467f-a58f-11dab0682d6a",
   "metadata": {},
   "outputs": [],
   "source": [
    "model = keras.Sequential([\n",
    "    Dense(64, activation='relu'),\n",
    "    Dense(64, activation='relu'),\n",
    "    Dense(46, activation='softmax')\n",
    "])"
   ]
  },
  {
   "cell_type": "code",
   "execution_count": 11,
   "id": "87a770d3-cbfe-49ca-b11a-2885554cc5dc",
   "metadata": {},
   "outputs": [],
   "source": [
    "model.compile(optimizer='rmsprop',\n",
    "             loss='categorical_crossentropy',  # 원핫인코딩일때는 categorical_crossentropy를 꼭 쓴다.\n",
    "             metrics=['accuracy'])"
   ]
  },
  {
   "cell_type": "code",
   "execution_count": 12,
   "id": "6513f997-0f16-4156-a54f-01ea5f69873e",
   "metadata": {},
   "outputs": [],
   "source": [
    "x_val = x_train[:1000]\n",
    "partial_x_train = x_train[1000:]\n",
    "\n",
    "y_val = y_train[:1000]\n",
    "partial_y_train = y_train[1000:]"
   ]
  },
  {
   "cell_type": "code",
   "execution_count": 13,
   "id": "fb09d741-43f3-42c2-985b-0b1a2ca8061f",
   "metadata": {},
   "outputs": [
    {
     "name": "stdout",
     "output_type": "stream",
     "text": [
      "Epoch 1/20\n",
      "16/16 [==============================] - 1s 47ms/step - loss: 2.6773 - accuracy: 0.4640 - val_loss: 1.7598 - val_accuracy: 0.6580\n",
      "Epoch 2/20\n",
      "16/16 [==============================] - 0s 24ms/step - loss: 1.4016 - accuracy: 0.7179 - val_loss: 1.2964 - val_accuracy: 0.7170\n",
      "Epoch 3/20\n",
      "16/16 [==============================] - 0s 24ms/step - loss: 1.0238 - accuracy: 0.7800 - val_loss: 1.1123 - val_accuracy: 0.7660\n",
      "Epoch 4/20\n",
      "16/16 [==============================] - 0s 21ms/step - loss: 0.8026 - accuracy: 0.8290 - val_loss: 1.0255 - val_accuracy: 0.7840\n",
      "Epoch 5/20\n",
      "16/16 [==============================] - 0s 23ms/step - loss: 0.6370 - accuracy: 0.8723 - val_loss: 0.9439 - val_accuracy: 0.8110\n",
      "Epoch 6/20\n",
      "16/16 [==============================] - 0s 22ms/step - loss: 0.5019 - accuracy: 0.9005 - val_loss: 0.9217 - val_accuracy: 0.8090\n",
      "Epoch 7/20\n",
      "16/16 [==============================] - 0s 21ms/step - loss: 0.4060 - accuracy: 0.9173 - val_loss: 0.8917 - val_accuracy: 0.8170\n",
      "Epoch 8/20\n",
      "16/16 [==============================] - 0s 22ms/step - loss: 0.3299 - accuracy: 0.9312 - val_loss: 0.8799 - val_accuracy: 0.8210\n",
      "Epoch 9/20\n",
      "16/16 [==============================] - 0s 21ms/step - loss: 0.2702 - accuracy: 0.9395 - val_loss: 0.8913 - val_accuracy: 0.8080\n",
      "Epoch 10/20\n",
      "16/16 [==============================] - 0s 21ms/step - loss: 0.2275 - accuracy: 0.9469 - val_loss: 0.9056 - val_accuracy: 0.8160\n",
      "Epoch 11/20\n",
      "16/16 [==============================] - 0s 21ms/step - loss: 0.1981 - accuracy: 0.9479 - val_loss: 0.9327 - val_accuracy: 0.8120\n",
      "Epoch 12/20\n",
      "16/16 [==============================] - 0s 21ms/step - loss: 0.1776 - accuracy: 0.9514 - val_loss: 0.9466 - val_accuracy: 0.8120\n",
      "Epoch 13/20\n",
      "16/16 [==============================] - 0s 21ms/step - loss: 0.1578 - accuracy: 0.9540 - val_loss: 0.9947 - val_accuracy: 0.7980\n",
      "Epoch 14/20\n",
      "16/16 [==============================] - 0s 24ms/step - loss: 0.1467 - accuracy: 0.9558 - val_loss: 1.0754 - val_accuracy: 0.8010\n",
      "Epoch 15/20\n",
      "16/16 [==============================] - 0s 21ms/step - loss: 0.1333 - accuracy: 0.9562 - val_loss: 0.9921 - val_accuracy: 0.8100\n",
      "Epoch 16/20\n",
      "16/16 [==============================] - 0s 21ms/step - loss: 0.1313 - accuracy: 0.9562 - val_loss: 1.0013 - val_accuracy: 0.8140\n",
      "Epoch 17/20\n",
      "16/16 [==============================] - 0s 21ms/step - loss: 0.1241 - accuracy: 0.9568 - val_loss: 0.9880 - val_accuracy: 0.8170\n",
      "Epoch 18/20\n",
      "16/16 [==============================] - 0s 21ms/step - loss: 0.1170 - accuracy: 0.9564 - val_loss: 1.0263 - val_accuracy: 0.8150\n",
      "Epoch 19/20\n",
      "16/16 [==============================] - 0s 21ms/step - loss: 0.1182 - accuracy: 0.9557 - val_loss: 1.0595 - val_accuracy: 0.8110\n",
      "Epoch 20/20\n",
      "16/16 [==============================] - 0s 20ms/step - loss: 0.1111 - accuracy: 0.9564 - val_loss: 1.0576 - val_accuracy: 0.8110\n"
     ]
    }
   ],
   "source": [
    "history = model.fit(partial_x_train,\n",
    "                   partial_y_train,\n",
    "                   epochs=20,\n",
    "                   batch_size=512,\n",
    "                   validation_data=(x_val, y_val))"
   ]
  },
  {
   "cell_type": "code",
   "execution_count": 14,
   "id": "4f54d1d0-0f6e-408f-a6ba-0c2ca86bd02a",
   "metadata": {},
   "outputs": [
    {
     "data": {
      "text/plain": [
       "[1.7598326206207275,\n",
       " 1.296411395072937,\n",
       " 1.1122515201568604,\n",
       " 1.0255473852157593,\n",
       " 0.9438581466674805,\n",
       " 0.9216681122779846,\n",
       " 0.8917044401168823,\n",
       " 0.879876971244812,\n",
       " 0.8912789821624756,\n",
       " 0.9056049585342407,\n",
       " 0.9327239394187927,\n",
       " 0.9466373324394226,\n",
       " 0.9946873188018799,\n",
       " 1.0753507614135742,\n",
       " 0.9920619130134583,\n",
       " 1.0013246536254883,\n",
       " 0.9880492091178894,\n",
       " 1.026346206665039,\n",
       " 1.0594950914382935,\n",
       " 1.0575965642929077]"
      ]
     },
     "execution_count": 14,
     "metadata": {},
     "output_type": "execute_result"
    }
   ],
   "source": [
    "history.history['val_loss']"
   ]
  },
  {
   "cell_type": "code",
   "execution_count": 15,
   "id": "0ea66eb2-7c64-4443-8246-c4e2e759edad",
   "metadata": {},
   "outputs": [
    {
     "data": {
      "image/png": "[encoded data removed]",
      "text/plain": [
       "<Figure size 432x288 with 1 Axes>"
      ]
     },
     "metadata": {
      "needs_background": "light"
     },
     "output_type": "display_data"
    }
   ],
   "source": [
    "# 훈련과 검증 손실 그리기\n",
    "\n",
    "loss = history.history[\"loss\"]\n",
    "val_loss = history.history[\"val_loss\"]\n",
    "epochs = range(1, len(loss) + 1)\n",
    "plt.plot(epochs, loss, \"bo\", label=\"Training loss\")\n",
    "plt.plot(epochs, val_loss, \"b\", label=\"Validation loss\")\n",
    "plt.title(\"Training and validation loss\")\n",
    "plt.xlabel(\"Epochs\")\n",
    "plt.ylabel(\"Loss\")\n",
    "plt.legend()\n",
    "plt.show() "
   ]
  },
  {
   "cell_type": "code",
   "execution_count": 16,
   "id": "adf14506-8cda-4549-8c1b-5f4d4a5288e7",
   "metadata": {},
   "outputs": [
    {
     "data": {
      "image/png": "[encoded data removed]",
      "text/plain": [
       "<Figure size 432x288 with 1 Axes>"
      ]
     },
     "metadata": {
      "needs_background": "light"
     },
     "output_type": "display_data"
    }
   ],
   "source": [
    "plt.clf()\n",
    "acc = history.history[\"accuracy\"]\n",
    "val_acc = history.history[\"val_accuracy\"]\n",
    "plt.plot(epochs, acc, \"bo\", label=\"Training accuracy\")\n",
    "plt.plot(epochs, val_acc, \"b\", label=\"Validation accuracy\")\n",
    "plt.title(\"Training and validation accuracy\")\n",
    "plt.xlabel(\"Epochs\")\n",
    "plt.ylabel(\"Accuracy\")\n",
    "plt.legend()\n",
    "plt.show() "
   ]
  },
  {
   "cell_type": "code",
   "execution_count": 17,
   "id": "b0f055ca-355f-4ff6-ba1b-d3e5a29e251d",
   "metadata": {},
   "outputs": [],
   "source": [
    "# 다시 훈련\n",
    "\n",
    "model = keras.Sequential([\n",
    "    Dense(64, activation='relu'),\n",
    "    Dense(64, activation='relu'),\n",
    "    Dense(46, activation='softmax')\n",
    "])"
   ]
  },
  {
   "cell_type": "code",
   "execution_count": 18,
   "id": "664326d4-21a2-488e-9e5c-232960b30181",
   "metadata": {},
   "outputs": [],
   "source": [
    "model.compile(optimizer='rmsprop',\n",
    "             loss='categorical_crossentropy',\n",
    "             metrics=['accuracy'])"
   ]
  },
  {
   "cell_type": "code",
   "execution_count": 19,
   "id": "8ce424e2-01de-4f31-90f8-49fee6d57d2d",
   "metadata": {},
   "outputs": [
    {
     "name": "stdout",
     "output_type": "stream",
     "text": [
      "Epoch 1/9\n",
      "18/18 [==============================] - 1s 19ms/step - loss: 2.6142 - accuracy: 0.5505\n",
      "Epoch 2/9\n",
      "18/18 [==============================] - 0s 19ms/step - loss: 1.3791 - accuracy: 0.7167\n",
      "Epoch 3/9\n",
      "18/18 [==============================] - 0s 18ms/step - loss: 0.9930 - accuracy: 0.7909\n",
      "Epoch 4/9\n",
      "18/18 [==============================] - 0s 18ms/step - loss: 0.7662 - accuracy: 0.8426\n",
      "Epoch 5/9\n",
      "18/18 [==============================] - 0s 18ms/step - loss: 0.6041 - accuracy: 0.8779\n",
      "Epoch 6/9\n",
      "18/18 [==============================] - 0s 19ms/step - loss: 0.4801 - accuracy: 0.9004\n",
      "Epoch 7/9\n",
      "18/18 [==============================] - 0s 18ms/step - loss: 0.3856 - accuracy: 0.9182\n",
      "Epoch 8/9\n",
      "18/18 [==============================] - 0s 19ms/step - loss: 0.3167 - accuracy: 0.9315\n",
      "Epoch 9/9\n",
      "18/18 [==============================] - 0s 18ms/step - loss: 0.2639 - accuracy: 0.9405\n"
     ]
    },
    {
     "data": {
      "text/plain": [
       "<keras.callbacks.History at 0x1b04c038be0>"
      ]
     },
     "execution_count": 19,
     "metadata": {},
     "output_type": "execute_result"
    }
   ],
   "source": [
    "model.fit(x_train,\n",
    "         y_train,\n",
    "         epochs=9,\n",
    "         batch_size=512)"
   ]
  },
  {
   "cell_type": "code",
   "execution_count": 20,
   "id": "2ab2ad4c-5b18-4c1d-ae45-94c883459a89",
   "metadata": {},
   "outputs": [
    {
     "name": "stdout",
     "output_type": "stream",
     "text": [
      "71/71 [==============================] - 0s 2ms/step - loss: 0.9434 - accuracy: 0.7907\n"
     ]
    }
   ],
   "source": [
    "results = model.evaluate(x_test, y_test)"
   ]
  },
  {
   "cell_type": "code",
   "execution_count": 21,
   "id": "4ab69898-964f-4c8b-a33b-7ae6d40f10d2",
   "metadata": {},
   "outputs": [],
   "source": [
    "## 레이블과 손실을 다루는 다른 방법\n",
    "# 정수 텐서로 변환하는 것\n",
    "# 이 방식을 사용하려면 손실 함수 하나만 바꾸면 된다. sparse_categorical_crossentropy를 사용해야 한다.\n",
    "y_train = np.array(train_labels)\n",
    "y_test = np.array(test_labels)"
   ]
  },
  {
   "cell_type": "code",
   "execution_count": 22,
   "id": "d335398a-9f27-4851-9460-dd891b5494dc",
   "metadata": {},
   "outputs": [],
   "source": [
    "model.compile(optimizer='rmsprop',\n",
    "             loss='sparse_categorical_crossentropy',\n",
    "             metrics=['accuracy'])"
   ]
  },
  {
   "cell_type": "code",
   "execution_count": null,
   "id": "04f62a84-52a4-42fa-939e-7c4ef35f247a",
   "metadata": {},
   "outputs": [],
   "source": []
  }
 ],
 "metadata": {
  "kernelspec": {
   "display_name": "Python 3 (ipykernel)",
   "language": "python",
   "name": "python3"
  },
  "language_info": {
   "codemirror_mode": {
    "name": "ipython",
    "version": 3
   },
   "file_extension": ".py",
   "mimetype": "text/x-python",
   "name": "python",
   "nbconvert_exporter": "python",
   "pygments_lexer": "ipython3",
   "version": "3.9.12"
  }
 },
 "nbformat": 4,
 "nbformat_minor": 5
}
