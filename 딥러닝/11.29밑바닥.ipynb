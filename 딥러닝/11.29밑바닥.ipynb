{
 "cells": [
  {
   "cell_type": "code",
   "execution_count": 19,
   "id": "4ea9e89c-c8ed-46db-bc62-f3e56dfedd5a",
   "metadata": {},
   "outputs": [],
   "source": [
    "import tensorflow as tf"
   ]
  },
  {
   "cell_type": "code",
   "execution_count": 20,
   "id": "c798aa96-922d-40ea-b68f-16e6d83f03ae",
   "metadata": {},
   "outputs": [],
   "source": [
    "# Dense층 직접 만들기\n",
    "\n",
    "class NaiveDense:\n",
    "    def __init__(self, input_size, output_size, activation):\n",
    "        self.activation = activation\n",
    "        self.w = tf.Variable(tf.random.uniform(shape=(input_size, output_size), minval=0, maxval=0.1))\n",
    "        self.b = tf.Variable(tf.zeros(shape=(output_size, )))\n",
    "        \n",
    "    def __call__(self, inputs):\n",
    "        return self.activation(tf.matmul(inputs, self.w)) + self.b\n",
    "    \n",
    "    @property \n",
    "    def weights(self):\n",
    "        return [self.w, self.b]  # 리스트를 묶어서 리턴\n",
    "    # @는 일종의 예약어 취급하기. 이건 특별한 약속을 하고 있다. \n",
    "    # 파이썬에서는 decoration이라고 하고 원래 함수는 weights( ) 이렇게 불렀는데\n",
    "    # 이건 함수가 아니라 속성을 말하며 weights는 괄호를 안붙이고 부른다."
   ]
  },
  {
   "cell_type": "code",
   "execution_count": 21,
   "id": "9c10171e-29d2-4ad8-bfec-c858b454b6c2",
   "metadata": {},
   "outputs": [],
   "source": [
    "# Sequential 만들기\n",
    "\n",
    "class NaiveSequential:\n",
    "    def __init__(self, layers):\n",
    "        self.layers = layers   # 왼쪽은 새로 만들어지는 변수이다. layers를 받아서 새로운 변수에 넣어줌\n",
    "        \n",
    "    def __call__(self, inputs):\n",
    "        x = inputs\n",
    "        for layer in self.layers:\n",
    "            x = layer(x)\n",
    "        return x\n",
    "    \n",
    "    @property\n",
    "    def weights(self):\n",
    "        weights = []\n",
    "        for layer in self.layers:\n",
    "            weights += layer.weights  # layers들을 순환하면서 가중치를 업데이트 시켜준다.\n",
    "        return weights"
   ]
  },
  {
   "cell_type": "code",
   "execution_count": 22,
   "id": "2662c731-a80b-425b-845c-42e641bb6cdc",
   "metadata": {},
   "outputs": [],
   "source": [
    "# 모델 구성하기\n",
    "model = NaiveSequential([\n",
    "            NaiveDense(input_size=28*28, output_size=512, activation=tf.nn.relu),\n",
    "            NaiveDense(input_size=512, output_size=10, activation=tf.nn.softmax)\n",
    "        ])\n",
    "# 512이 인 이유는 위에 512를 받아서 하는거여서."
   ]
  },
  {
   "cell_type": "code",
   "execution_count": 25,
   "id": "a3948514-525e-440f-8296-db185f62c873",
   "metadata": {},
   "outputs": [],
   "source": [
    "assert len(model.weights) == 4\n",
    "# assert는 중간중간에 확인을 하라는 건데 4면 계속 진행하고 아니면 멈춰라 라는것.\n",
    "# 왜 4가 나올까? "
   ]
  },
  {
   "cell_type": "code",
   "execution_count": null,
   "id": "dbbc0f02-03c5-4aa1-b179-be7e6988f329",
   "metadata": {},
   "outputs": [],
   "source": []
  },
  {
   "cell_type": "code",
   "execution_count": null,
   "id": "31d9546a-5df2-45c1-a7be-ce91a86cb128",
   "metadata": {},
   "outputs": [],
   "source": []
  },
  {
   "cell_type": "code",
   "execution_count": null,
   "id": "a6610cd4-5d95-4488-8245-acbc5e1d6465",
   "metadata": {},
   "outputs": [],
   "source": []
  },
  {
   "cell_type": "code",
   "execution_count": 38,
   "id": "4ce8dea0-b88f-4902-8f7b-35bd93cb35dc",
   "metadata": {},
   "outputs": [],
   "source": [
    "import numpy as np\n",
    "import pandas as pd\n",
    "import matplotlib.pyplot as plt\n",
    "\n",
    "from keras import Sequential #대문자라는 뜻은 클래스 라는 뜻\n",
    "from keras import optimizers\n",
    "from keras.layers import Input, Dense, Conv2D, MaxPooling2D, Flatten\n",
    "from keras.utils.np_utils import to_categorical\n",
    "\n",
    "import keras\n",
    "from keras import layers\n",
    "from keras.datasets import mnist"
   ]
  },
  {
   "cell_type": "code",
   "execution_count": 39,
   "id": "362e0bf0-a204-4dda-9515-ab8b4aebf5ef",
   "metadata": {},
   "outputs": [],
   "source": [
    "from tensorflow.keras.datasets import mnist\n",
    "\n",
    "(train_images, train_labels), (test_images, test_labels) = mnist.load_data()\n",
    "\n",
    "train_images = train_images.reshape((60000, 28, 28, 1))\n",
    "train_images = train_images.astype('float32')/255\n",
    "test_images = test_images.reshape((10000, 28, 28, 1))\n",
    "test_images = test_images.astype('float32')/255\n",
    "\n",
    "train_labels = to_categorical(train_labels)\n",
    "test_labels = to_categorical(test_labels)"
   ]
  },
  {
   "cell_type": "code",
   "execution_count": 51,
   "id": "3af6b0ec-5b98-4731-a03e-66fb989228ed",
   "metadata": {},
   "outputs": [],
   "source": [
    "# 이미지 처리하는 부분\n",
    "\n",
    "inputs = Input(shape=(28,28,1 ))\n",
    "x = Conv2D(filters=32, kernel_size=3, activation='relu')(inputs)\n",
    "                       # kernel_size는 가로, 세로가 3이라는뜻(3*3)\n",
    "x = MaxPooling2D(pool_size=2)(x)\n",
    "x = Conv2D(filters=64, kernel_size=3, activation='relu')(inputs)\n",
    "x = MaxPooling2D(pool_size=2)(x)\n",
    "x = Conv2D(filters=128, kernel_size=3, activation='relu')(inputs)\n",
    "x = Flatten()(x)  # 괄호가 있다는건 함수가 아니라 클래스라는 표시이다.\n",
    "                  # 함수였다면 Flatten(x) 라고 썼어야 했다.\n",
    "\n",
    "x = Dense(20, activation='relu')(x)\n",
    "x = Dense(20, activation='relu')(x)\n",
    "outputs = Dense(10, activation='softmax')(x)\n",
    "\n",
    "model = keras.Model(inputs, outputs)"
   ]
  },
  {
   "cell_type": "code",
   "execution_count": 48,
   "id": "2b0f1f4c-46c6-4269-a04f-91cd56599237",
   "metadata": {},
   "outputs": [],
   "source": [
    "model.compile(optimizer='rmsprop',\n",
    "             loss='categorical_crossentropy',\n",
    "             metrics=['accuracy'])"
   ]
  },
  {
   "cell_type": "code",
   "execution_count": 49,
   "id": "eda15424-ace4-4897-84e6-49873157543c",
   "metadata": {},
   "outputs": [
    {
     "name": "stdout",
     "output_type": "stream",
     "text": [
      "Epoch 1/2\n",
      "235/235 [==============================] - 37s 154ms/step - loss: 0.4118 - accuracy: 0.8760\n",
      "Epoch 2/2\n",
      "235/235 [==============================] - 36s 153ms/step - loss: 0.1090 - accuracy: 0.9686\n"
     ]
    }
   ],
   "source": [
    "history = model.fit(train_images, train_labels,\n",
    "                   epochs=2, batch_size=256)"
   ]
  },
  {
   "cell_type": "code",
   "execution_count": 50,
   "id": "a7bbec76-7e84-4b8b-8e86-f42547d56ad1",
   "metadata": {},
   "outputs": [
    {
     "name": "stdout",
     "output_type": "stream",
     "text": [
      "313/313 [==============================] - 3s 7ms/step - loss: 0.1236 - accuracy: 0.9594\n"
     ]
    },
    {
     "data": {
      "text/plain": [
       "[0.1236100122332573, 0.9593999981880188]"
      ]
     },
     "execution_count": 50,
     "metadata": {},
     "output_type": "execute_result"
    }
   ],
   "source": [
    "model.evaluate(test_images, test_labels)"
   ]
  },
  {
   "cell_type": "code",
   "execution_count": null,
   "id": "18c6493b-9a12-4e41-8b19-e3bbb74271e8",
   "metadata": {},
   "outputs": [],
   "source": [
    "앞에 했던건 이미지 데이터이다.\n",
    "이 이미지 데이터는 숫자 배열로 되어있는데 이건 이미지를 반영하는 이미지 숫자이다.(28, 28,1)\n",
    "가로세로 28짜리 흑백(1) 사진이라는것이다.\n",
    "\n",
    "이미지 숫자(28, 28, 1)  >>> 숫자 >>> 1\n",
    "이미지를 1로 읽은게 아니라 이미지를 그럴듯하게 변영한 다음에 한건\n",
    "DNN은 숫자를 보고 1이라고 맞추고\n",
    "      숫자 -> 1(레이어 분류)\n",
    "CNN은 이미지 처리를 한 후 그 다음 처리 된 것을 DNN의 원리를 그대로 갖다가 쓴다.\n",
    "      이미지 -> DNN"
   ]
  },
  {
   "cell_type": "code",
   "execution_count": null,
   "id": "aa65b60b-27a4-45d7-a28a-6be3f4a99bde",
   "metadata": {},
   "outputs": [],
   "source": []
  },
  {
   "cell_type": "code",
   "execution_count": null,
   "id": "11d58095-b655-4729-a56b-225eb4441d03",
   "metadata": {},
   "outputs": [],
   "source": []
  },
  {
   "cell_type": "code",
   "execution_count": 52,
   "id": "8e6fb27b-8f93-4d33-abae-28d32b825faf",
   "metadata": {},
   "outputs": [
    {
     "ename": "SyntaxError",
     "evalue": "unmatched ')' (3391952540.py, line 2)",
     "output_type": "error",
     "traceback": [
      "\u001b[1;36m  Input \u001b[1;32mIn [52]\u001b[1;36m\u001b[0m\n\u001b[1;33m    예) 5*5 사진\u001b[0m\n\u001b[1;37m     ^\u001b[0m\n\u001b[1;31mSyntaxError\u001b[0m\u001b[1;31m:\u001b[0m unmatched ')'\n"
     ]
    }
   ],
   "source": [
    "ConV  (32,(3*3))\n",
    "32는 필터이다. 즉 32장의 필터가 있는거다.\n",
    "(3*3)은 가로세로 크기를 말한다.\n",
    "\n",
    "피쳐맵 = 사진\n",
    "예) 5*5 사진\n",
    "필터 = 커널 = 윈도우 \n",
    "예) 고양이 코, 3*3\n",
    "\n",
    "피처맵에 필터를 덮는다. 패치=patch\n",
    "패치나 필터나 크기는 똑같다.\n",
    "사진에서 여러개의 패치가 만들어진다.\n",
    "\n",
    "고양이 코가 있는지 없는지 확을 위해\n",
    "사진에 패치를 덮은 상태에서 한칸씩 움직인다.\n",
    "한칸씩 움직이는건 디폴트 값이다.\n",
    "\n",
    "한칸씩 가다보면 첫번째, 두번째, 세번째까지 가면 더 못간다.\n",
    "그러고 나면 한칸 밑으로 내려가서 다시 옆으로 또 한칸씩 간다.\n",
    "이런식으로 움직이면서 필터가 고양이 코가 있는지 없는지 확인한다.\n",
    "\n",
    "방금 가로세로가 5 바이 5이고 필터가 3 바이 3짜리인데\n",
    "움직이면 옆으로 총 3칸 밑으로 3칸을 움직였다.\n",
    "만약 5가 아니라 7 바이 7이고 필터는 3 바이 3이면\n",
    "옆으로 밑으로 몇 칸씩 가게 될까?\n",
    "답은 5칸을 가게 된다.(옆, 아래로 각각 5칸)\n",
    "7 바이 7에서 필터를 대고 움직이면 끄트머리는 5개가 나온다.(가로로 봤을때) p290"
   ]
  },
  {
   "cell_type": "code",
   "execution_count": null,
   "id": "52c078c0-dd16-4bb9-8123-2f3244bab03f",
   "metadata": {},
   "outputs": [],
   "source": [
    "원래는 5 바이 5였지만\n",
    "줄어든느것을 막기 위해\n",
    "겉에 0으로 감싼다.\n",
    "그 상태로 컨블루션을 시키는데 0으로 둘러쌓은것부터 시작한다.\n",
    "그럼 7바이 7은 줄어봤자 결과물이 5바이 5가 된다.\n",
    "2개의 로우와 칼럼을 더 넣어주는것을 패딩이라고 한다.\n",
    "\n",
    "패딩이 무엇인지 왜 하는지를 알아야한다."
   ]
  },
  {
   "cell_type": "code",
   "execution_count": null,
   "id": "2e387000-f97b-492e-aa6e-b7dcb81a094e",
   "metadata": {},
   "outputs": [],
   "source": []
  }
 ],
 "metadata": {
  "kernelspec": {
   "display_name": "Python 3 (ipykernel)",
   "language": "python",
   "name": "python3"
  },
  "language_info": {
   "codemirror_mode": {
    "name": "ipython",
    "version": 3
   },
   "file_extension": ".py",
   "mimetype": "text/x-python",
   "name": "python",
   "nbconvert_exporter": "python",
   "pygments_lexer": "ipython3",
   "version": "3.9.12"
  }
 },
 "nbformat": 4,
 "nbformat_minor": 5
}
