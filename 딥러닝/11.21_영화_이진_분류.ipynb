{
 "cells": [
  {
   "cell_type": "code",
   "execution_count": null,
   "id": "3443a68e-6570-48cc-bdff-cdb9fbc37028",
   "metadata": {},
   "outputs": [],
   "source": [
    "# 탠서?\n",
    "\n",
    "다차원 배열이다.\n",
    "(배열은? array 이다.)\n",
    "\n",
    "우리는 array를 다룰때 np.array로 다뤘다.\n",
    "1차원 배열을 벡터라고 불렀다.\n",
    "2차원 배열을 행렬이라고 불렀다.\n",
    "3차원 이상은 지금까지는 따로 주어지는 이름이 없었다.\n",
    "그래서 3차원 이상은 텐서 라고 불렀다.\n",
    "\n",
    "그러면 1차원 이상은 텐서가 아니고 2차원 이상도 텐서가 아닌가? 아니다.\n",
    "텐서가 가장 큰 개념이다.\n",
    "1차원 텐서를 벡터, 2차원 텐서를 행렬, 3차원 이상을 텐서라고 한다.\n",
    "\n",
    "텐서보다 작은 개념으로 넘파이.어레이가 있다.\n",
    "일반적으로는 텐서이며, 아주 소규모로 넘파이에서 텐서를 어레이로 불렀다.\n",
    "벡터 이전에 스칼라 가 있다. 스칼라는 랭크가 없다. 정도로 알아두기"
   ]
  },
  {
   "cell_type": "code",
   "execution_count": 1,
   "id": "9c2baf51-4cca-4635-81ce-0eca58845228",
   "metadata": {},
   "outputs": [],
   "source": [
    "# 축의 개수 확인\n",
    "from tensorflow.keras.datasets import mnist\n",
    "(train_images, train_labels), (test_images, test_labels) = mnist.load_data()"
   ]
  },
  {
   "cell_type": "code",
   "execution_count": 2,
   "id": "c7895a29-c3fb-4e67-8c63-4a135fb62cd5",
   "metadata": {},
   "outputs": [
    {
     "data": {
      "text/plain": [
       "3"
      ]
     },
     "execution_count": 2,
     "metadata": {},
     "output_type": "execute_result"
    }
   ],
   "source": [
    "train_images.ndim"
   ]
  },
  {
   "cell_type": "code",
   "execution_count": 3,
   "id": "3e0a32b1-b21c-4ae8-a94c-319d1a67c7d5",
   "metadata": {},
   "outputs": [
    {
     "data": {
      "text/plain": [
       "(60000, 28, 28)"
      ]
     },
     "execution_count": 3,
     "metadata": {},
     "output_type": "execute_result"
    }
   ],
   "source": [
    "# 축의 개수 확인\n",
    "train_images.shape"
   ]
  },
  {
   "cell_type": "code",
   "execution_count": null,
   "id": "1fe701e4-5820-4f1d-a3ec-815fb6477915",
   "metadata": {},
   "outputs": [],
   "source": [
    "(사진 장수, height, width, 덧붙여서 뒤에 칼라 여부로 한개가 더 있다.)"
   ]
  },
  {
   "cell_type": "code",
   "execution_count": 4,
   "id": "9e24642d-30f1-4c85-b9dd-14800f9b0350",
   "metadata": {},
   "outputs": [
    {
     "data": {
      "text/plain": [
       "dtype('uint8')"
      ]
     },
     "execution_count": 4,
     "metadata": {},
     "output_type": "execute_result"
    }
   ],
   "source": [
    "# 데이터 타입 확인\n",
    "train_images.dtype"
   ]
  },
  {
   "cell_type": "code",
   "execution_count": null,
   "id": "af9b8bdc-369b-41ea-b04f-0087209697c9",
   "metadata": {},
   "outputs": [],
   "source": [
    "u + int 8\n",
    "unsigned 는 부호가 없는 상태라는 뜻\n",
    "\n",
    "8bit = 1 byte\n",
    "2**8 2의 8 제곱만큼 경우의 수를 표현한다. -> 256가지의 서로 다른 경우의 수를 표현한다.\n",
    "\n",
    "음수로 치자면\n",
    "-128 + 127 합하면 256개의 정수가 된다.(+127개인 이유는 중간에 0이 128이 아니다.)"
   ]
  },
  {
   "cell_type": "code",
   "execution_count": null,
   "id": "ce09cce8-c808-4622-b4fe-10b74dde619f",
   "metadata": {},
   "outputs": [],
   "source": [
    "8byte\n",
    "ㅁㅁㅁㅁㅁㅁㅁㅁ\n",
    "첫번째는 부호에 할당되어있다.(기본)\n",
    "나머지는 숫자\n",
    "\n",
    "만약 첫번째 칸을 계속 양수라고 표현하고 싶으면 부호에 할당시키지 말고\n",
    "모든것을 다 숫자로 표현하면 된다. (0~255의 숫자를 할당할 수 있다.)"
   ]
  },
  {
   "cell_type": "code",
   "execution_count": 13,
   "id": "6a89e6df-e179-4ced-b183-807707828b1b",
   "metadata": {},
   "outputs": [],
   "source": [
    "# 이미지 출력하기\n",
    "import matplotlib.pyplot as plt"
   ]
  },
  {
   "cell_type": "code",
   "execution_count": 11,
   "id": "dd223fe2-7b31-44ab-85ca-e4e14d77860c",
   "metadata": {},
   "outputs": [
    {
     "data": {
      "image/png": "[encoded data removed]",
      "text/plain": [
       "<Figure size 432x288 with 1 Axes>"
      ]
     },
     "metadata": {
      "needs_background": "light"
     },
     "output_type": "display_data"
    }
   ],
   "source": [
    "digit = train_images[4]\n",
    "plt. imshow(digit, cmap=plt.cm.binary)\n",
    "plt.show()"
   ]
  },
  {
   "cell_type": "code",
   "execution_count": 17,
   "id": "af4f3c36-755a-4ced-93ab-06643c1ace82",
   "metadata": {},
   "outputs": [
    {
     "data": {
      "text/plain": [
       "<matplotlib.image.AxesImage at 0x21da44a1280>"
      ]
     },
     "execution_count": 17,
     "metadata": {},
     "output_type": "execute_result"
    },
    {
     "data": {
      "image/png": "[encoded data removed]",
      "text/plain": [
       "<Figure size 432x288 with 1 Axes>"
      ]
     },
     "metadata": {
      "needs_background": "light"
     },
     "output_type": "display_data"
    }
   ],
   "source": [
    "# 4번째 이미지 출력하기\n",
    "train_images[3, :, : ]\n",
    "plt. imshow(train_images[3, :, : ], cmap='gray')"
   ]
  },
  {
   "cell_type": "code",
   "execution_count": 19,
   "id": "0a739e7a-9945-41d2-a163-bcc92c19589c",
   "metadata": {},
   "outputs": [],
   "source": [
    "# 0~100, 100~200 처럼 100장씩 따로 묶기\n",
    "slice_1 = train_images[:100]\n",
    "slice_2 = train_images[:100, :200]"
   ]
  },
  {
   "cell_type": "code",
   "execution_count": 21,
   "id": "9a1b36d1-088b-42b8-bf82-9519ee5639c7",
   "metadata": {},
   "outputs": [
    {
     "data": {
      "text/plain": [
       "100"
      ]
     },
     "execution_count": 21,
     "metadata": {},
     "output_type": "execute_result"
    }
   ],
   "source": [
    "len(slice_2)"
   ]
  },
  {
   "cell_type": "code",
   "execution_count": 84,
   "id": "484c494a-1d38-48f0-a5c5-133939eae0d5",
   "metadata": {
    "collapsed": true,
    "jupyter": {
     "outputs_hidden": true
    },
    "tags": []
   },
   "outputs": [
    {
     "ename": "SyntaxError",
     "evalue": "expression cannot contain assignment, perhaps you meant \"==\"? (3075688776.py, line 5)",
     "output_type": "error",
     "traceback": [
      "\u001b[1;36m  Input \u001b[1;32mIn [85]\u001b[1;36m\u001b[0m\n\u001b[1;33m    print(slice_[n] = train_images[100*n : 100*(n+1)])\u001b[0m\n\u001b[1;37m          ^\u001b[0m\n\u001b[1;31mSyntaxError\u001b[0m\u001b[1;31m:\u001b[0m expression cannot contain assignment, perhaps you meant \"==\"?\n"
     ]
    }
   ],
   "source": [
    "# for문으로 slice_1...slice_10으로 100개씩 나누기\n",
    "slice_ = {}\n",
    "\n",
    "for n in range(int(len(train_images)/100)):\n",
    "    slice_[n] = train_images[100*n : 100*(n+1)]\n",
    "\n",
    "slice_[1] "
   ]
  },
  {
   "cell_type": "code",
   "execution_count": null,
   "id": "c1b7bc76-f362-4c41-b366-1a76fdbbea15",
   "metadata": {},
   "outputs": [],
   "source": []
  },
  {
   "cell_type": "code",
   "execution_count": null,
   "id": "fd675433-2ad1-4356-8a48-af749b7a19ac",
   "metadata": {},
   "outputs": [],
   "source": []
  },
  {
   "cell_type": "code",
   "execution_count": null,
   "id": "22b8321d-2137-4e2b-9ed5-3106f7c84cea",
   "metadata": {},
   "outputs": [],
   "source": []
  },
  {
   "cell_type": "code",
   "execution_count": null,
   "id": "5bd31107-80a3-4796-ab91-ea8e1ca5f848",
   "metadata": {},
   "outputs": [],
   "source": []
  },
  {
   "cell_type": "markdown",
   "id": "d97925ea-be95-4e06-be31-af83367a329f",
   "metadata": {},
   "source": [
    "# 영화 이진 분류"
   ]
  },
  {
   "cell_type": "markdown",
   "id": "d58eeecf-459b-4246-a967-5fafd34ff979",
   "metadata": {},
   "source": [
    "## IMDB 데이터셋 로드"
   ]
  },
  {
   "cell_type": "code",
   "execution_count": 107,
   "id": "55a93d71-e98c-4ad1-be4e-0cc27d8944d7",
   "metadata": {},
   "outputs": [],
   "source": [
    "from tensorflow.keras.datasets import imdb\n",
    "\n",
    "(train_data, train_labels), (test_data, test_labels) = imdb.load_data(num_words=10000)\n",
    "# num_words=10000 쓰여질 수 있는 단어의 갯수를 만개까지 허용하겠다."
   ]
  },
  {
   "cell_type": "code",
   "execution_count": 112,
   "id": "ab51ee7a-1b66-42fb-b668-0405bea2bb27",
   "metadata": {},
   "outputs": [
    {
     "data": {
      "text/plain": [
       "(25000,)"
      ]
     },
     "execution_count": 112,
     "metadata": {},
     "output_type": "execute_result"
    }
   ],
   "source": [
    "train_labels.shape  # 열어보면 1 아니면 0이 들어가있고 그게 25000개가 있다.(긍정부정)"
   ]
  },
  {
   "cell_type": "code",
   "execution_count": 109,
   "id": "e7fc9b9f-bd41-45e0-a7bf-b9f395e09535",
   "metadata": {},
   "outputs": [
    {
     "data": {
      "text/plain": [
       "(25000,)"
      ]
     },
     "execution_count": 109,
     "metadata": {},
     "output_type": "execute_result"
    }
   ],
   "source": [
    "train_data.shape # 열어보면 인덱스 0번에 len은 210개가 들어있다."
   ]
  },
  {
   "cell_type": "code",
   "execution_count": 110,
   "id": "2924ed48-f5fb-447d-848a-4760d1c306e7",
   "metadata": {
    "collapsed": true,
    "jupyter": {
     "outputs_hidden": true
    },
    "tags": []
   },
   "outputs": [
    {
     "data": {
      "text/plain": [
       "array([list([1, 14, 22, 16, 43, 530, 973, 1622, 1385, 65, 458, 4468, 66, 3941, 4, 173, 36, 256, 5, 25, 100, 43, 838, 112, 50, 670, 2, 9, 35, 480, 284, 5, 150, 4, 172, 112, 167, 2, 336, 385, 39, 4, 172, 4536, 1111, 17, 546, 38, 13, 447, 4, 192, 50, 16, 6, 147, 2025, 19, 14, 22, 4, 1920, 4613, 469, 4, 22, 71, 87, 12, 16, 43, 530, 38, 76, 15, 13, 1247, 4, 22, 17, 515, 17, 12, 16, 626, 18, 2, 5, 62, 386, 12, 8, 316, 8, 106, 5, 4, 2223, 5244, 16, 480, 66, 3785, 33, 4, 130, 12, 16, 38, 619, 5, 25, 124, 51, 36, 135, 48, 25, 1415, 33, 6, 22, 12, 215, 28, 77, 52, 5, 14, 407, 16, 82, 2, 8, 4, 107, 117, 5952, 15, 256, 4, 2, 7, 3766, 5, 723, 36, 71, 43, 530, 476, 26, 400, 317, 46, 7, 4, 2, 1029, 13, 104, 88, 4, 381, 15, 297, 98, 32, 2071, 56, 26, 141, 6, 194, 7486, 18, 4, 226, 22, 21, 134, 476, 26, 480, 5, 144, 30, 5535, 18, 51, 36, 28, 224, 92, 25, 104, 4, 226, 65, 16, 38, 1334, 88, 12, 16, 283, 5, 16, 4472, 113, 103, 32, 15, 16, 5345, 19, 178, 32]),\n",
       "       list([1, 194, 1153, 194, 8255, 78, 228, 5, 6, 1463, 4369, 5012, 134, 26, 4, 715, 8, 118, 1634, 14, 394, 20, 13, 119, 954, 189, 102, 5, 207, 110, 3103, 21, 14, 69, 188, 8, 30, 23, 7, 4, 249, 126, 93, 4, 114, 9, 2300, 1523, 5, 647, 4, 116, 9, 35, 8163, 4, 229, 9, 340, 1322, 4, 118, 9, 4, 130, 4901, 19, 4, 1002, 5, 89, 29, 952, 46, 37, 4, 455, 9, 45, 43, 38, 1543, 1905, 398, 4, 1649, 26, 6853, 5, 163, 11, 3215, 2, 4, 1153, 9, 194, 775, 7, 8255, 2, 349, 2637, 148, 605, 2, 8003, 15, 123, 125, 68, 2, 6853, 15, 349, 165, 4362, 98, 5, 4, 228, 9, 43, 2, 1157, 15, 299, 120, 5, 120, 174, 11, 220, 175, 136, 50, 9, 4373, 228, 8255, 5, 2, 656, 245, 2350, 5, 4, 9837, 131, 152, 491, 18, 2, 32, 7464, 1212, 14, 9, 6, 371, 78, 22, 625, 64, 1382, 9, 8, 168, 145, 23, 4, 1690, 15, 16, 4, 1355, 5, 28, 6, 52, 154, 462, 33, 89, 78, 285, 16, 145, 95]),\n",
       "       list([1, 14, 47, 8, 30, 31, 7, 4, 249, 108, 7, 4, 5974, 54, 61, 369, 13, 71, 149, 14, 22, 112, 4, 2401, 311, 12, 16, 3711, 33, 75, 43, 1829, 296, 4, 86, 320, 35, 534, 19, 263, 4821, 1301, 4, 1873, 33, 89, 78, 12, 66, 16, 4, 360, 7, 4, 58, 316, 334, 11, 4, 1716, 43, 645, 662, 8, 257, 85, 1200, 42, 1228, 2578, 83, 68, 3912, 15, 36, 165, 1539, 278, 36, 69, 2, 780, 8, 106, 14, 6905, 1338, 18, 6, 22, 12, 215, 28, 610, 40, 6, 87, 326, 23, 2300, 21, 23, 22, 12, 272, 40, 57, 31, 11, 4, 22, 47, 6, 2307, 51, 9, 170, 23, 595, 116, 595, 1352, 13, 191, 79, 638, 89, 2, 14, 9, 8, 106, 607, 624, 35, 534, 6, 227, 7, 129, 113]),\n",
       "       ...,\n",
       "       list([1, 11, 6, 230, 245, 6401, 9, 6, 1225, 446, 2, 45, 2174, 84, 8322, 4007, 21, 4, 912, 84, 2, 325, 725, 134, 2, 1715, 84, 5, 36, 28, 57, 1099, 21, 8, 140, 8, 703, 5, 2, 84, 56, 18, 1644, 14, 9, 31, 7, 4, 9406, 1209, 2295, 2, 1008, 18, 6, 20, 207, 110, 563, 12, 8, 2901, 2, 8, 97, 6, 20, 53, 4767, 74, 4, 460, 364, 1273, 29, 270, 11, 960, 108, 45, 40, 29, 2961, 395, 11, 6, 4065, 500, 7, 2, 89, 364, 70, 29, 140, 4, 64, 4780, 11, 4, 2678, 26, 178, 4, 529, 443, 2, 5, 27, 710, 117, 2, 8123, 165, 47, 84, 37, 131, 818, 14, 595, 10, 10, 61, 1242, 1209, 10, 10, 288, 2260, 1702, 34, 2901, 2, 4, 65, 496, 4, 231, 7, 790, 5, 6, 320, 234, 2766, 234, 1119, 1574, 7, 496, 4, 139, 929, 2901, 2, 7750, 5, 4241, 18, 4, 8497, 2, 250, 11, 1818, 7561, 4, 4217, 5408, 747, 1115, 372, 1890, 1006, 541, 9303, 7, 4, 59, 2, 4, 3586, 2]),\n",
       "       list([1, 1446, 7079, 69, 72, 3305, 13, 610, 930, 8, 12, 582, 23, 5, 16, 484, 685, 54, 349, 11, 4120, 2959, 45, 58, 1466, 13, 197, 12, 16, 43, 23, 2, 5, 62, 30, 145, 402, 11, 4131, 51, 575, 32, 61, 369, 71, 66, 770, 12, 1054, 75, 100, 2198, 8, 4, 105, 37, 69, 147, 712, 75, 3543, 44, 257, 390, 5, 69, 263, 514, 105, 50, 286, 1814, 23, 4, 123, 13, 161, 40, 5, 421, 4, 116, 16, 897, 13, 2, 40, 319, 5872, 112, 6700, 11, 4803, 121, 25, 70, 3468, 4, 719, 3798, 13, 18, 31, 62, 40, 8, 7200, 4, 2, 7, 14, 123, 5, 942, 25, 8, 721, 12, 145, 5, 202, 12, 160, 580, 202, 12, 6, 52, 58, 2, 92, 401, 728, 12, 39, 14, 251, 8, 15, 251, 5, 2, 12, 38, 84, 80, 124, 12, 9, 23]),\n",
       "       list([1, 17, 6, 194, 337, 7, 4, 204, 22, 45, 254, 8, 106, 14, 123, 4, 2, 270, 2, 5, 2, 2, 732, 2098, 101, 405, 39, 14, 1034, 4, 1310, 9, 115, 50, 305, 12, 47, 4, 168, 5, 235, 7, 38, 111, 699, 102, 7, 4, 4039, 9245, 9, 24, 6, 78, 1099, 17, 2345, 2, 21, 27, 9685, 6139, 5, 2, 1603, 92, 1183, 4, 1310, 7, 4, 204, 42, 97, 90, 35, 221, 109, 29, 127, 27, 118, 8, 97, 12, 157, 21, 6789, 2, 9, 6, 66, 78, 1099, 4, 631, 1191, 5, 2642, 272, 191, 1070, 6, 7585, 8, 2197, 2, 2, 544, 5, 383, 1271, 848, 1468, 2, 497, 2, 8, 1597, 8778, 2, 21, 60, 27, 239, 9, 43, 8368, 209, 405, 10, 10, 12, 764, 40, 4, 248, 20, 12, 16, 5, 174, 1791, 72, 7, 51, 6, 1739, 22, 4, 204, 131, 9])],\n",
       "      dtype=object)"
      ]
     },
     "execution_count": 110,
     "metadata": {},
     "output_type": "execute_result"
    }
   ],
   "source": [
    "train_data # 이 숫자들은 각각 사전에 일치하는 단어들이다."
   ]
  },
  {
   "cell_type": "markdown",
   "id": "ace33d42-1f55-4c7a-b406-ce0446d20ad3",
   "metadata": {},
   "source": [
    "## 정수 시퀀스를 멀티-핫 인코딩으로 인코딩하기 (시퀀스:한줄로 쫙 핀다.)"
   ]
  },
  {
   "cell_type": "code",
   "execution_count": 119,
   "id": "6189d9ee-a55f-47e5-aab0-68761132f6f5",
   "metadata": {},
   "outputs": [],
   "source": [
    "import numpy as np\n",
    "\n",
    "def vectorize_sequences(sequences, dimension=10000):\n",
    "    results = np.zeros((len(sequences), dimension))\n",
    "    for i, sequence in enumerate(sequences):\n",
    "        for j in sequence:\n",
    "            results[i, j] = 1.\n",
    "    return results"
   ]
  },
  {
   "cell_type": "code",
   "execution_count": 120,
   "id": "d131c9b2-2d27-49e4-ba00-be7728f7c556",
   "metadata": {},
   "outputs": [],
   "source": [
    "import numpy as np\n",
    "X_train = vectorize_sequences(train_data)"
   ]
  },
  {
   "cell_type": "code",
   "execution_count": 162,
   "id": "0062976c-aafb-4076-af97-153e7e534b0a",
   "metadata": {},
   "outputs": [],
   "source": [
    "X_test = vectorize_sequences(test_data)"
   ]
  },
  {
   "cell_type": "code",
   "execution_count": 121,
   "id": "3ac8807c-53b9-424b-b7f9-f121450e9a06",
   "metadata": {},
   "outputs": [
    {
     "data": {
      "text/plain": [
       "(25000, 10000)"
      ]
     },
     "execution_count": 121,
     "metadata": {},
     "output_type": "execute_result"
    }
   ],
   "source": [
    "X_train.shape"
   ]
  },
  {
   "cell_type": "code",
   "execution_count": 124,
   "id": "50ae6973-5b76-4af3-8d57-1a7b6d9bfe76",
   "metadata": {},
   "outputs": [
    {
     "data": {
      "text/plain": [
       "array([0., 0., 0., 0., 0., 0., 0., 0., 0., 0.])"
      ]
     },
     "execution_count": 124,
     "metadata": {},
     "output_type": "execute_result"
    }
   ],
   "source": [
    "X_train[0][-10:]"
   ]
  },
  {
   "cell_type": "markdown",
   "id": "b0ecab52-452d-4cd4-ab9e-cf23fcd7dcd3",
   "metadata": {},
   "source": [
    "왜 다 00000 으로 출력?\n",
    "\n",
    "만개의 숫자로 억지로 맞춰주려고 하니 부족한건 다 0으로 채웠다."
   ]
  },
  {
   "cell_type": "markdown",
   "id": "8cfb4da5-a38f-4268-98b2-c97844ba0b57",
   "metadata": {},
   "source": [
    "## 모델 정의하기"
   ]
  },
  {
   "cell_type": "code",
   "execution_count": 126,
   "id": "46225c63-b6d6-48ef-aa63-48e37b7f41e6",
   "metadata": {},
   "outputs": [],
   "source": [
    "import numpy as np\n",
    "import pandas as pd\n",
    "import matplotlib.pyplot as plt\n",
    "\n",
    "from keras import Sequential #대문자라는 뜻은 클래스 라는 뜻\n",
    "from keras import optimizers\n",
    "from keras.layers import Input, Dense"
   ]
  },
  {
   "cell_type": "code",
   "execution_count": 129,
   "id": "c821169e-f55f-42a5-a460-8162aad984a4",
   "metadata": {},
   "outputs": [],
   "source": [
    "model = Sequential([\n",
    "    Dense(16, activation='relu'),\n",
    "    Dense(16, activation='relu'),\n",
    "    Dense(1, activation='sigmoid')  # 이진분류할 때 사용하는 함수가 시그모이드이다.\n",
    "])"
   ]
  },
  {
   "cell_type": "markdown",
   "id": "8347b27b-2469-47ed-b556-3cdf824ca425",
   "metadata": {},
   "source": [
    "## 모델 컴파일하기"
   ]
  },
  {
   "cell_type": "code",
   "execution_count": 133,
   "id": "1df01a58-b9dd-40a4-a208-393ff148794a",
   "metadata": {},
   "outputs": [],
   "source": [
    "model.compile(optimizer='rmsprop',\n",
    "             loss='binary_crossentropy',\n",
    "             metrics='accuracy')"
   ]
  },
  {
   "cell_type": "markdown",
   "id": "dc39e5a3-ad66-4f61-85ab-e16faab2a102",
   "metadata": {},
   "source": [
    "## 검증 세트 준비하기"
   ]
  },
  {
   "cell_type": "code",
   "execution_count": 136,
   "id": "541ef1ed-1369-4ff4-9974-a1c3d1e6c9a0",
   "metadata": {},
   "outputs": [],
   "source": [
    "# 4개의 그림이 나눠지고 있는 과정이다.\n",
    "partical_X_train = X_train[ :15000]\n",
    "X_val = X_train[15000 :]\n",
    "partical_y_train = train_labels[ :15000]\n",
    "y_val = train_labels[15000: ]"
   ]
  },
  {
   "cell_type": "markdown",
   "id": "5216a73a-4d89-4a14-a68a-6fdbcdc7e6ce",
   "metadata": {},
   "source": [
    "## 모델 훈련하기"
   ]
  },
  {
   "cell_type": "code",
   "execution_count": 137,
   "id": "c9eb6ac6-759a-4dc3-90ac-847881fe51f7",
   "metadata": {
    "collapsed": true,
    "jupyter": {
     "outputs_hidden": true
    },
    "tags": []
   },
   "outputs": [
    {
     "name": "stdout",
     "output_type": "stream",
     "text": [
      "Epoch 1/20\n",
      "30/30 [==============================] - 13s 105ms/step - loss: 0.5497 - accuracy: 0.7801 - val_loss: 0.4228 - val_accuracy: 0.8577\n",
      "Epoch 2/20\n",
      "30/30 [==============================] - 1s 25ms/step - loss: 0.3359 - accuracy: 0.8937 - val_loss: 0.3116 - val_accuracy: 0.8854\n",
      "Epoch 3/20\n",
      "30/30 [==============================] - 1s 23ms/step - loss: 0.2401 - accuracy: 0.9213 - val_loss: 0.2798 - val_accuracy: 0.8928\n",
      "Epoch 4/20\n",
      "30/30 [==============================] - 1s 25ms/step - loss: 0.1874 - accuracy: 0.9393 - val_loss: 0.2699 - val_accuracy: 0.8930\n",
      "Epoch 5/20\n",
      "30/30 [==============================] - 1s 18ms/step - loss: 0.1556 - accuracy: 0.9496 - val_loss: 0.2736 - val_accuracy: 0.8917\n",
      "Epoch 6/20\n",
      "30/30 [==============================] - 1s 24ms/step - loss: 0.1264 - accuracy: 0.9611 - val_loss: 0.2885 - val_accuracy: 0.8885\n",
      "Epoch 7/20\n",
      "30/30 [==============================] - 1s 23ms/step - loss: 0.1082 - accuracy: 0.9669 - val_loss: 0.3003 - val_accuracy: 0.8862\n",
      "Epoch 8/20\n",
      "30/30 [==============================] - 1s 23ms/step - loss: 0.0906 - accuracy: 0.9741 - val_loss: 0.3192 - val_accuracy: 0.8852\n",
      "Epoch 9/20\n",
      "30/30 [==============================] - 1s 23ms/step - loss: 0.0785 - accuracy: 0.9777 - val_loss: 0.3493 - val_accuracy: 0.8800\n",
      "Epoch 10/20\n",
      "30/30 [==============================] - 1s 22ms/step - loss: 0.0641 - accuracy: 0.9833 - val_loss: 0.3627 - val_accuracy: 0.8818\n",
      "Epoch 11/20\n",
      "30/30 [==============================] - 1s 22ms/step - loss: 0.0551 - accuracy: 0.9858 - val_loss: 0.3976 - val_accuracy: 0.8764\n",
      "Epoch 12/20\n",
      "30/30 [==============================] - 1s 23ms/step - loss: 0.0439 - accuracy: 0.9895 - val_loss: 0.4259 - val_accuracy: 0.8762\n",
      "Epoch 13/20\n",
      "30/30 [==============================] - 1s 24ms/step - loss: 0.0391 - accuracy: 0.9905 - val_loss: 0.4475 - val_accuracy: 0.8757\n",
      "Epoch 14/20\n",
      "30/30 [==============================] - 1s 23ms/step - loss: 0.0302 - accuracy: 0.9939 - val_loss: 0.4827 - val_accuracy: 0.8733\n",
      "Epoch 15/20\n",
      "30/30 [==============================] - 1s 23ms/step - loss: 0.0265 - accuracy: 0.9944 - val_loss: 0.5124 - val_accuracy: 0.8710\n",
      "Epoch 16/20\n",
      "30/30 [==============================] - 1s 23ms/step - loss: 0.0220 - accuracy: 0.9951 - val_loss: 0.5425 - val_accuracy: 0.8698\n",
      "Epoch 17/20\n",
      "30/30 [==============================] - 1s 22ms/step - loss: 0.0163 - accuracy: 0.9975 - val_loss: 0.5804 - val_accuracy: 0.8686\n",
      "Epoch 18/20\n",
      "30/30 [==============================] - 1s 23ms/step - loss: 0.0144 - accuracy: 0.9975 - val_loss: 0.6123 - val_accuracy: 0.8670\n",
      "Epoch 19/20\n",
      "30/30 [==============================] - 1s 23ms/step - loss: 0.0116 - accuracy: 0.9987 - val_loss: 0.6509 - val_accuracy: 0.8658\n",
      "Epoch 20/20\n",
      "30/30 [==============================] - 1s 21ms/step - loss: 0.0089 - accuracy: 0.9989 - val_loss: 0.6855 - val_accuracy: 0.8643\n"
     ]
    }
   ],
   "source": [
    "# 피팅할때 생기는 값들이 history에 저장된다.\n",
    "history = model.fit(partical_X_train, partical_y_train,\n",
    "         epochs=20, batch_size=512,\n",
    "         validation_data=(X_val, y_val))"
   ]
  },
  {
   "cell_type": "code",
   "execution_count": 143,
   "id": "6fe09188-609d-4d2c-8dff-df0a9cd73cb3",
   "metadata": {
    "collapsed": true,
    "jupyter": {
     "outputs_hidden": true
    },
    "tags": []
   },
   "outputs": [
    {
     "data": {
      "text/plain": [
       "{'loss': [0.549735963344574,\n",
       "  0.335948646068573,\n",
       "  0.24008247256278992,\n",
       "  0.18741145730018616,\n",
       "  0.15555965900421143,\n",
       "  0.1263715773820877,\n",
       "  0.10823269188404083,\n",
       "  0.09058698266744614,\n",
       "  0.07845579087734222,\n",
       "  0.06406556069850922,\n",
       "  0.05509861931204796,\n",
       "  0.04394585266709328,\n",
       "  0.0390927717089653,\n",
       "  0.030186805874109268,\n",
       "  0.026542842388153076,\n",
       "  0.021969370543956757,\n",
       "  0.016266407445073128,\n",
       "  0.01437660213559866,\n",
       "  0.011550983414053917,\n",
       "  0.008891992270946503],\n",
       " 'accuracy': [0.7800666689872742,\n",
       "  0.8937333226203918,\n",
       "  0.9213333129882812,\n",
       "  0.9393333196640015,\n",
       "  0.9495999813079834,\n",
       "  0.9611333608627319,\n",
       "  0.966866672039032,\n",
       "  0.9740666747093201,\n",
       "  0.9776666760444641,\n",
       "  0.9833333492279053,\n",
       "  0.98580002784729,\n",
       "  0.9895333051681519,\n",
       "  0.9904666543006897,\n",
       "  0.9938666820526123,\n",
       "  0.9944000244140625,\n",
       "  0.9951333403587341,\n",
       "  0.9974666833877563,\n",
       "  0.9974666833877563,\n",
       "  0.9986666440963745,\n",
       "  0.9989333152770996],\n",
       " 'val_loss': [0.4228317439556122,\n",
       "  0.31157538294792175,\n",
       "  0.27983182668685913,\n",
       "  0.26987749338150024,\n",
       "  0.27356186509132385,\n",
       "  0.2885421812534332,\n",
       "  0.30030709505081177,\n",
       "  0.3191947340965271,\n",
       "  0.3492516875267029,\n",
       "  0.362735778093338,\n",
       "  0.39763808250427246,\n",
       "  0.42586439847946167,\n",
       "  0.44751426577568054,\n",
       "  0.4827011227607727,\n",
       "  0.5124231576919556,\n",
       "  0.5425493121147156,\n",
       "  0.5803801417350769,\n",
       "  0.612292468547821,\n",
       "  0.6509320139884949,\n",
       "  0.6854645013809204],\n",
       " 'val_accuracy': [0.857699990272522,\n",
       "  0.8853999972343445,\n",
       "  0.892799973487854,\n",
       "  0.8930000066757202,\n",
       "  0.891700029373169,\n",
       "  0.8884999752044678,\n",
       "  0.8862000107765198,\n",
       "  0.885200023651123,\n",
       "  0.8799999952316284,\n",
       "  0.8817999958992004,\n",
       "  0.8763999938964844,\n",
       "  0.8762000203132629,\n",
       "  0.8756999969482422,\n",
       "  0.8733000159263611,\n",
       "  0.8709999918937683,\n",
       "  0.8697999715805054,\n",
       "  0.8686000108718872,\n",
       "  0.8669999837875366,\n",
       "  0.8658000230789185,\n",
       "  0.864300012588501]}"
      ]
     },
     "execution_count": 143,
     "metadata": {},
     "output_type": "execute_result"
    }
   ],
   "source": [
    "history.history # .history는 지금까지의 기록을 보여준다."
   ]
  },
  {
   "cell_type": "code",
   "execution_count": 144,
   "id": "52b94fb1-4133-4a3b-a9d3-a00e21a1f638",
   "metadata": {},
   "outputs": [
    {
     "data": {
      "text/plain": [
       "dict_keys(['loss', 'accuracy', 'val_loss', 'val_accuracy'])"
      ]
     },
     "execution_count": 144,
     "metadata": {},
     "output_type": "execute_result"
    }
   ],
   "source": [
    "history.history.keys()"
   ]
  },
  {
   "cell_type": "code",
   "execution_count": 147,
   "id": "e57abd75-c647-470b-802f-a576c5f96e23",
   "metadata": {},
   "outputs": [
    {
     "data": {
      "text/plain": [
       "[0.7800666689872742,\n",
       " 0.8937333226203918,\n",
       " 0.9213333129882812,\n",
       " 0.9393333196640015,\n",
       " 0.9495999813079834,\n",
       " 0.9611333608627319,\n",
       " 0.966866672039032,\n",
       " 0.9740666747093201,\n",
       " 0.9776666760444641,\n",
       " 0.9833333492279053,\n",
       " 0.98580002784729,\n",
       " 0.9895333051681519,\n",
       " 0.9904666543006897,\n",
       " 0.9938666820526123,\n",
       " 0.9944000244140625,\n",
       " 0.9951333403587341,\n",
       " 0.9974666833877563,\n",
       " 0.9974666833877563,\n",
       " 0.9986666440963745,\n",
       " 0.9989333152770996]"
      ]
     },
     "execution_count": 147,
     "metadata": {},
     "output_type": "execute_result"
    }
   ],
   "source": [
    "history.history['accuracy']"
   ]
  },
  {
   "cell_type": "markdown",
   "id": "c8504b5c-efb8-43fc-a30c-dfb34aae539e",
   "metadata": {},
   "source": [
    "모의고사라고 생각하면 되는데 어떤 모의고사냐. 시험지가 매번 똑같은 모의고사를 치는것이다.\n",
    "\n",
    "같은 시험지를 매번 치니 정확도가 어마어마하게 올라가게 된다."
   ]
  },
  {
   "cell_type": "code",
   "execution_count": 146,
   "id": "aa6b524f-ea1e-4da6-9f55-975e6ee79d64",
   "metadata": {},
   "outputs": [
    {
     "data": {
      "text/plain": [
       "[0.857699990272522,\n",
       " 0.8853999972343445,\n",
       " 0.892799973487854,\n",
       " 0.8930000066757202,\n",
       " 0.891700029373169,\n",
       " 0.8884999752044678,\n",
       " 0.8862000107765198,\n",
       " 0.885200023651123,\n",
       " 0.8799999952316284,\n",
       " 0.8817999958992004,\n",
       " 0.8763999938964844,\n",
       " 0.8762000203132629,\n",
       " 0.8756999969482422,\n",
       " 0.8733000159263611,\n",
       " 0.8709999918937683,\n",
       " 0.8697999715805054,\n",
       " 0.8686000108718872,\n",
       " 0.8669999837875366,\n",
       " 0.8658000230789185,\n",
       " 0.864300012588501]"
      ]
     },
     "execution_count": 146,
     "metadata": {},
     "output_type": "execute_result"
    }
   ],
   "source": [
    "history.history['val_accuracy']"
   ]
  },
  {
   "cell_type": "markdown",
   "id": "27175ab1-b5f6-425c-a21e-d7c668ff1665",
   "metadata": {},
   "source": [
    "위에 모의고사를 치고 val 모의고사로 다시 치는데 여긴 신유형 문제가 하나씩 있는셈이다."
   ]
  },
  {
   "cell_type": "markdown",
   "id": "3c4e822a-19a8-4633-9455-1831cc5e094a",
   "metadata": {},
   "source": [
    "## 훈련과 검증 손실 그리기"
   ]
  },
  {
   "cell_type": "code",
   "execution_count": 150,
   "id": "aee956b9-ed33-46ed-ad70-f28b281cbdd5",
   "metadata": {},
   "outputs": [
    {
     "data": {
      "image/png": "[encoded data removed]",
      "text/plain": [
       "<Figure size 432x288 with 1 Axes>"
      ]
     },
     "metadata": {
      "needs_background": "light"
     },
     "output_type": "display_data"
    }
   ],
   "source": [
    "import matplotlib.pyplot as plt\n",
    "\n",
    "history_dict = history.history\n",
    "loss_values = history_dict[\"loss\"]\n",
    "val_loss_values = history_dict[\"val_loss\"]\n",
    "epochs = range(1, len(loss_values) + 1)\n",
    "plt.plot(epochs, loss_values, \"bo\", label=\"Training loss\")\n",
    "plt.plot(epochs, val_loss_values, \"b\", label=\"Validation loss\")\n",
    "plt.title(\"Training and validation loss\")\n",
    "plt.xlabel(\"Epochs\")\n",
    "plt.ylabel(\"Loss\")\n",
    "plt.legend()\n",
    "plt.show() "
   ]
  },
  {
   "cell_type": "code",
   "execution_count": null,
   "id": "b198f77e-2506-449e-9544-f6eeaa63aa25",
   "metadata": {},
   "outputs": [],
   "source": [
    "왼쪽 y 축이 loss\n",
    "동그라미 loss가 점점 0으로 간다. -> 잘 맞췄다는 뜻\n",
    "val 은 점점 올라간다 -> 과적합"
   ]
  },
  {
   "cell_type": "code",
   "execution_count": 151,
   "id": "5a6db820-3308-4da2-8a51-44ab3088547c",
   "metadata": {},
   "outputs": [
    {
     "data": {
      "image/png": "[encoded data removed]",
      "text/plain": [
       "<Figure size 432x288 with 1 Axes>"
      ]
     },
     "metadata": {
      "needs_background": "light"
     },
     "output_type": "display_data"
    }
   ],
   "source": [
    "plt.clf()\n",
    "acc = history_dict[\"accuracy\"]\n",
    "val_acc = history_dict[\"val_accuracy\"]\n",
    "plt.plot(epochs, acc, \"bo\", label=\"Training acc\")\n",
    "plt.plot(epochs, val_acc, \"b\", label=\"Validation acc\")\n",
    "plt.title(\"Training and validation accuracy\")\n",
    "plt.xlabel(\"Epochs\")\n",
    "plt.ylabel(\"Accuracy\")\n",
    "plt.legend()\n",
    "plt.show() "
   ]
  },
  {
   "cell_type": "markdown",
   "id": "83154db3-73c2-499a-aebe-cd8c9ee26fe3",
   "metadata": {},
   "source": [
    "## 모델을 처음주터 다시 훈련하기"
   ]
  },
  {
   "cell_type": "code",
   "execution_count": 163,
   "id": "e439234d-27fc-4080-9dac-d117d0648d09",
   "metadata": {},
   "outputs": [],
   "source": [
    "# 모델 새로 만들기\n",
    "model = Sequential([\n",
    "    Dense(16, activation='relu'),\n",
    "    Dense(16, activation='relu'),\n",
    "    Dense(1, activation='sigmoid') \n",
    "])"
   ]
  },
  {
   "cell_type": "code",
   "execution_count": 164,
   "id": "808b46ee-64d8-40a7-bbba-ce062f8c150a",
   "metadata": {},
   "outputs": [],
   "source": [
    "model.compile(optimizer='rmsprop',\n",
    "             loss='binary_crossentropy',\n",
    "             metrics='accuracy')"
   ]
  },
  {
   "cell_type": "code",
   "execution_count": 165,
   "id": "32d6833d-4592-468c-88d1-529a1b9645c4",
   "metadata": {},
   "outputs": [],
   "source": [
    "# 벡터화 p150\n",
    "y_train = np.asarray(train_labels).astype('float32')\n",
    "y_test = np.asarray(test_labels).astype('float32') "
   ]
  },
  {
   "cell_type": "code",
   "execution_count": 166,
   "id": "ee428151-06ea-48a8-b3ac-f1741605de68",
   "metadata": {},
   "outputs": [
    {
     "name": "stdout",
     "output_type": "stream",
     "text": [
      "Epoch 1/4\n",
      "49/49 [==============================] - 5s 17ms/step - loss: 0.5093 - accuracy: 0.7929\n",
      "Epoch 2/4\n",
      "49/49 [==============================] - 1s 14ms/step - loss: 0.3057 - accuracy: 0.9048\n",
      "Epoch 3/4\n",
      "49/49 [==============================] - 1s 14ms/step - loss: 0.2230 - accuracy: 0.9259\n",
      "Epoch 4/4\n",
      "49/49 [==============================] - 1s 14ms/step - loss: 0.1827 - accuracy: 0.9365\n"
     ]
    },
    {
     "data": {
      "text/plain": [
       "<keras.callbacks.History at 0x21db4a64550>"
      ]
     },
     "execution_count": 166,
     "metadata": {},
     "output_type": "execute_result"
    }
   ],
   "source": [
    "model.fit(X_train, y_train,\n",
    "         epochs=4, batch_size=512)"
   ]
  },
  {
   "cell_type": "code",
   "execution_count": 169,
   "id": "580abef2-cae5-4277-a9df-31b3e1dc5cc7",
   "metadata": {},
   "outputs": [
    {
     "name": "stdout",
     "output_type": "stream",
     "text": [
      "782/782 [==============================] - 1s 2ms/step\n"
     ]
    },
    {
     "data": {
      "text/plain": [
       "array([[0.313504  ],\n",
       "       [0.99461496],\n",
       "       [0.9795508 ],\n",
       "       ...,\n",
       "       [0.19530214],\n",
       "       [0.11415237],\n",
       "       [0.72017497]], dtype=float32)"
      ]
     },
     "execution_count": 169,
     "metadata": {},
     "output_type": "execute_result"
    }
   ],
   "source": [
    "preds = model.predict(X_test)\n",
    "preds"
   ]
  },
  {
   "cell_type": "markdown",
   "id": "64d446cf-b99f-4693-9100-aba04707b2be",
   "metadata": {},
   "source": [
    "확률값이 나왔다."
   ]
  },
  {
   "cell_type": "code",
   "execution_count": 171,
   "id": "9ed3a2fd-aedb-459a-acbb-0fed68da4eb0",
   "metadata": {},
   "outputs": [
    {
     "name": "stdout",
     "output_type": "stream",
     "text": [
      "782/782 [==============================] - 8s 2ms/step - loss: 0.3052 - accuracy: 0.8777\n"
     ]
    }
   ],
   "source": [
    "# 이거 하나면 예측도 하고 평가도 해준다.\n",
    "results = model.evaluate(X_test, y_test)"
   ]
  },
  {
   "cell_type": "code",
   "execution_count": null,
   "id": "2c4a7708-fbd6-4363-b898-5ff68571a6a6",
   "metadata": {},
   "outputs": [],
   "source": []
  }
 ],
 "metadata": {
  "kernelspec": {
   "display_name": "Python 3 (ipykernel)",
   "language": "python",
   "name": "python3"
  },
  "language_info": {
   "codemirror_mode": {
    "name": "ipython",
    "version": 3
   },
   "file_extension": ".py",
   "mimetype": "text/x-python",
   "name": "python",
   "nbconvert_exporter": "python",
   "pygments_lexer": "ipython3",
   "version": "3.9.12"
  }
 },
 "nbformat": 4,
 "nbformat_minor": 5
}
