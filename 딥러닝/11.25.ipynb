{
 "cells": [
  {
   "cell_type": "code",
   "execution_count": null,
   "id": "b8587393-b79f-481c-9f1d-1bb9c8948ea1",
   "metadata": {},
   "outputs": [],
   "source": [
    "★함수 근사화\n",
    "어떤 함수도 근사화(비슷하게) 할 수 있다.\n",
    "처음 보는 입력이라도 의미 있는 출력을 만들어낸다.(DNN)"
   ]
  },
  {
   "cell_type": "code",
   "execution_count": 8,
   "id": "a58c8b82-b727-46d7-9fed-9cc19f88c2df",
   "metadata": {},
   "outputs": [],
   "source": [
    "import keras\n",
    "from keras import layers\n",
    "from keras.datasets import mnist\n",
    "import numpy as np "
   ]
  },
  {
   "cell_type": "code",
   "execution_count": 9,
   "id": "7fc4b436-cb1a-40a9-815a-63ef09d79be4",
   "metadata": {},
   "outputs": [
    {
     "name": "stdout",
     "output_type": "stream",
     "text": [
      "Epoch 1/10\n",
      "375/375 [==============================] - 5s 8ms/step - loss: 1052.9910 - accuracy: 0.4762 - val_loss: 3.5223 - val_accuracy: 0.4337\n",
      "Epoch 2/10\n",
      "375/375 [==============================] - 3s 7ms/step - loss: 4.1284 - accuracy: 0.3278 - val_loss: 2.1858 - val_accuracy: 0.2837\n",
      "Epoch 3/10\n",
      "375/375 [==============================] - 3s 7ms/step - loss: 3.8749 - accuracy: 0.2890 - val_loss: 2.0831 - val_accuracy: 0.3257\n",
      "Epoch 4/10\n",
      "375/375 [==============================] - 3s 7ms/step - loss: 3.2258 - accuracy: 0.3135 - val_loss: 3.7226 - val_accuracy: 0.2673\n",
      "Epoch 5/10\n",
      "375/375 [==============================] - 3s 7ms/step - loss: 2.6328 - accuracy: 0.3343 - val_loss: 2.8845 - val_accuracy: 0.3369\n",
      "Epoch 6/10\n",
      "375/375 [==============================] - 3s 7ms/step - loss: 3.0662 - accuracy: 0.3465 - val_loss: 4.9385 - val_accuracy: 0.3947\n",
      "Epoch 7/10\n",
      "375/375 [==============================] - 3s 7ms/step - loss: 3.2394 - accuracy: 0.3557 - val_loss: 2.3389 - val_accuracy: 0.3716\n",
      "Epoch 8/10\n",
      "375/375 [==============================] - 3s 7ms/step - loss: 2.9753 - accuracy: 0.3313 - val_loss: 1.9284 - val_accuracy: 0.3153\n",
      "Epoch 9/10\n",
      "375/375 [==============================] - 3s 7ms/step - loss: 2.7773 - accuracy: 0.3176 - val_loss: 2.5263 - val_accuracy: 0.3105\n",
      "Epoch 10/10\n",
      "375/375 [==============================] - 3s 7ms/step - loss: 2.5243 - accuracy: 0.3291 - val_loss: 2.3741 - val_accuracy: 0.3244\n"
     ]
    },
    {
     "data": {
      "text/plain": [
       "<keras.callbacks.History at 0x28868e7acd0>"
      ]
     },
     "execution_count": 9,
     "metadata": {},
     "output_type": "execute_result"
    }
   ],
   "source": [
    "# p200\n",
    "# 잘못된 높은 학습률로 MNIST 모델 훈련하기\n",
    "\n",
    "\n",
    "(train_images, train_labels), _ = mnist.load_data()\n",
    "train_images = train_images.reshape((60000, 28 * 28))\n",
    "train_images = train_images.astype(\"float32\") / 255\n",
    "\n",
    "model = keras.Sequential([\n",
    "    layers.Dense(512, activation=\"relu\"),\n",
    "    layers.Dense(10, activation=\"softmax\")\n",
    "])\n",
    "\n",
    "model.compile(optimizer=keras.optimizers.RMSprop(1.),\n",
    "              loss=\"sparse_categorical_crossentropy\",\n",
    "              metrics=[\"accuracy\"])\n",
    "model.fit(train_images, train_labels,\n",
    "          epochs=10,\n",
    "          batch_size=128,\n",
    "          validation_split=0.2) "
   ]
  },
  {
   "cell_type": "code",
   "execution_count": 10,
   "id": "f55c03f7-4ae5-4ea2-b23a-e13ce553be3f",
   "metadata": {},
   "outputs": [
    {
     "name": "stdout",
     "output_type": "stream",
     "text": [
      "Epoch 1/10\n",
      "375/375 [==============================] - 3s 7ms/step - loss: 0.3814 - accuracy: 0.9096 - val_loss: 0.1714 - val_accuracy: 0.9557\n",
      "Epoch 2/10\n",
      "375/375 [==============================] - 3s 7ms/step - loss: 0.1394 - accuracy: 0.9635 - val_loss: 0.1674 - val_accuracy: 0.9646\n",
      "Epoch 3/10\n",
      "375/375 [==============================] - 3s 7ms/step - loss: 0.1149 - accuracy: 0.9729 - val_loss: 0.1950 - val_accuracy: 0.9607\n",
      "Epoch 4/10\n",
      "375/375 [==============================] - 3s 7ms/step - loss: 0.0995 - accuracy: 0.9784 - val_loss: 0.1768 - val_accuracy: 0.9712\n",
      "Epoch 5/10\n",
      "375/375 [==============================] - 3s 7ms/step - loss: 0.0887 - accuracy: 0.9812 - val_loss: 0.2174 - val_accuracy: 0.9709\n",
      "Epoch 6/10\n",
      "375/375 [==============================] - 3s 7ms/step - loss: 0.0754 - accuracy: 0.9848 - val_loss: 0.1924 - val_accuracy: 0.9743\n",
      "Epoch 7/10\n",
      "375/375 [==============================] - 3s 7ms/step - loss: 0.0714 - accuracy: 0.9865 - val_loss: 0.1946 - val_accuracy: 0.9747\n",
      "Epoch 8/10\n",
      "375/375 [==============================] - 3s 7ms/step - loss: 0.0655 - accuracy: 0.9876 - val_loss: 0.2745 - val_accuracy: 0.9720\n",
      "Epoch 9/10\n",
      "375/375 [==============================] - 3s 7ms/step - loss: 0.0582 - accuracy: 0.9896 - val_loss: 0.3306 - val_accuracy: 0.9722\n",
      "Epoch 10/10\n",
      "375/375 [==============================] - 3s 7ms/step - loss: 0.0603 - accuracy: 0.9901 - val_loss: 0.3334 - val_accuracy: 0.9722\n"
     ]
    },
    {
     "data": {
      "text/plain": [
       "<keras.callbacks.History at 0x28866c2c0a0>"
      ]
     },
     "execution_count": 10,
     "metadata": {},
     "output_type": "execute_result"
    }
   ],
   "source": [
    "# 같은 모델을 적절한 학습률로 훈련하기\n",
    "(train_images, train_labels), _ = mnist.load_data()\n",
    "train_images = train_images.reshape((60000, 28 * 28))\n",
    "train_images = train_images.astype(\"float32\") / 255\n",
    "\n",
    "model = keras.Sequential([\n",
    "    layers.Dense(512, activation=\"relu\"),\n",
    "    layers.Dense(10, activation=\"softmax\")\n",
    "])\n",
    "\n",
    "model.compile(optimizer=keras.optimizers.RMSprop(0.01),\n",
    "              loss=\"sparse_categorical_crossentropy\",\n",
    "              metrics=[\"accuracy\"])\n",
    "model.fit(train_images, train_labels,\n",
    "          epochs=10,\n",
    "          batch_size=128,\n",
    "          validation_split=0.2) "
   ]
  },
  {
   "cell_type": "code",
   "execution_count": 11,
   "id": "5e3f2f06-aeaf-4621-98c0-35b918d1c770",
   "metadata": {},
   "outputs": [
    {
     "name": "stdout",
     "output_type": "stream",
     "text": [
      "Epoch 1/10\n",
      "1500/1500 [==============================] - 10s 6ms/step - loss: 0.3605 - accuracy: 0.9207 - val_loss: 0.2488 - val_accuracy: 0.9555\n",
      "Epoch 2/10\n",
      "1500/1500 [==============================] - 9s 6ms/step - loss: 0.2496 - accuracy: 0.9588 - val_loss: 0.2870 - val_accuracy: 0.9607\n",
      "Epoch 3/10\n",
      "1500/1500 [==============================] - 9s 6ms/step - loss: 0.2341 - accuracy: 0.9675 - val_loss: 0.3722 - val_accuracy: 0.9560\n",
      "Epoch 4/10\n",
      "1500/1500 [==============================] - 9s 6ms/step - loss: 0.2143 - accuracy: 0.9726 - val_loss: 0.3697 - val_accuracy: 0.9640\n",
      "Epoch 5/10\n",
      "1500/1500 [==============================] - 9s 6ms/step - loss: 0.1987 - accuracy: 0.9771 - val_loss: 0.4871 - val_accuracy: 0.9603\n",
      "Epoch 6/10\n",
      "1500/1500 [==============================] - 9s 6ms/step - loss: 0.1735 - accuracy: 0.9799 - val_loss: 0.4826 - val_accuracy: 0.9670\n",
      "Epoch 7/10\n",
      "1500/1500 [==============================] - 9s 6ms/step - loss: 0.1647 - accuracy: 0.9821 - val_loss: 0.5248 - val_accuracy: 0.9672\n",
      "Epoch 8/10\n",
      "1500/1500 [==============================] - 9s 6ms/step - loss: 0.1480 - accuracy: 0.9841 - val_loss: 0.5741 - val_accuracy: 0.9668\n",
      "Epoch 9/10\n",
      "1500/1500 [==============================] - 9s 6ms/step - loss: 0.1465 - accuracy: 0.9855 - val_loss: 0.5586 - val_accuracy: 0.9709\n",
      "Epoch 10/10\n",
      "1500/1500 [==============================] - 9s 6ms/step - loss: 0.1313 - accuracy: 0.9874 - val_loss: 0.6633 - val_accuracy: 0.9666\n"
     ]
    },
    {
     "data": {
      "text/plain": [
       "<keras.callbacks.History at 0x2886a7c3a90>"
      ]
     },
     "execution_count": 11,
     "metadata": {},
     "output_type": "execute_result"
    }
   ],
   "source": [
    "# 수정해보기\n",
    "(train_images, train_labels), _ = mnist.load_data()\n",
    "train_images = train_images.reshape((60000, 28 * 28))\n",
    "train_images = train_images.astype(\"float32\") / 255\n",
    "\n",
    "model = keras.Sequential([\n",
    "    layers.Dense(512, activation=\"relu\"),\n",
    "    layers.Dense(10, activation=\"softmax\")\n",
    "])\n",
    "\n",
    "model.compile(optimizer=keras.optimizers.RMSprop(0.01),\n",
    "              loss=\"sparse_categorical_crossentropy\",\n",
    "              metrics=[\"accuracy\"])\n",
    "model.fit(train_images, train_labels,\n",
    "          epochs=10,\n",
    "          batch_size=32,\n",
    "          validation_split=0.2) "
   ]
  },
  {
   "cell_type": "code",
   "execution_count": null,
   "id": "d6069065-1b60-4718-b9ca-a758fdb54180",
   "metadata": {},
   "outputs": [],
   "source": []
  }
 ],
 "metadata": {
  "kernelspec": {
   "display_name": "Python 3 (ipykernel)",
   "language": "python",
   "name": "python3"
  },
  "language_info": {
   "codemirror_mode": {
    "name": "ipython",
    "version": 3
   },
   "file_extension": ".py",
   "mimetype": "text/x-python",
   "name": "python",
   "nbconvert_exporter": "python",
   "pygments_lexer": "ipython3",
   "version": "3.9.12"
  }
 },
 "nbformat": 4,
 "nbformat_minor": 5
}
