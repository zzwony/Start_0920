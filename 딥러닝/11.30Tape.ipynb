{
 "cells": [
  {
   "cell_type": "markdown",
   "id": "5dc0846e-d697-4648-95b3-0127e2032e47",
   "metadata": {},
   "source": [
    "# GradientTape( )"
   ]
  },
  {
   "cell_type": "code",
   "execution_count": 1,
   "id": "8fd2de83-8166-4044-a014-8b632da57455",
   "metadata": {},
   "outputs": [],
   "source": [
    "import tensorflow as tf"
   ]
  },
  {
   "cell_type": "code",
   "execution_count": 5,
   "id": "aa011028-0996-4f47-8995-1b077aa5ae58",
   "metadata": {},
   "outputs": [
    {
     "data": {
      "text/plain": [
       "<tf.Tensor: shape=(), dtype=float32, numpy=2.0>"
      ]
     },
     "execution_count": 5,
     "metadata": {},
     "output_type": "execute_result"
    }
   ],
   "source": [
    "x = tf.Variable(0.)\n",
    "with tf.GradientTape() as tape:\n",
    "    y = 2*x + 3\n",
    "\n",
    "grad_of_y_wrt_x = tape.gradient(y, x)\n",
    "grad_of_y_wrt_x"
   ]
  },
  {
   "cell_type": "code",
   "execution_count": 6,
   "id": "aad7df18-4d63-4c1a-b829-fa1cf2acdea8",
   "metadata": {},
   "outputs": [
    {
     "data": {
      "text/plain": [
       "<tf.Tensor: shape=(2, 2), dtype=float32, numpy=\n",
       "array([[2., 2.],\n",
       "       [2., 2.]], dtype=float32)>"
      ]
     },
     "execution_count": 6,
     "metadata": {},
     "output_type": "execute_result"
    }
   ],
   "source": [
    "# 다차원의 텐서와 함께 사용하기\n",
    "x = tf.Variable(tf.zeros((2, 2)))\n",
    "with tf.GradientTape() as tape:\n",
    "    y = 2*x + 3\n",
    "\n",
    "grad_of_y_wrt_x = tape.gradient(y, x)\n",
    "grad_of_y_wrt_x"
   ]
  },
  {
   "cell_type": "code",
   "execution_count": 7,
   "id": "3822451f-3b38-468b-9754-ded02c3f9d2f",
   "metadata": {},
   "outputs": [
    {
     "data": {
      "text/plain": [
       "[<tf.Tensor: shape=(2, 2), dtype=float32, numpy=\n",
       " array([[1.1593181, 1.1593181],\n",
       "        [1.0146226, 1.0146226]], dtype=float32)>,\n",
       " <tf.Tensor: shape=(2,), dtype=float32, numpy=array([2., 2.], dtype=float32)>]"
      ]
     },
     "execution_count": 7,
     "metadata": {},
     "output_type": "execute_result"
    }
   ],
   "source": [
    "# 변수 리스트의 그레이디언트 계산하기\n",
    "w = tf.Variable(tf.random.uniform((2, 2)))\n",
    "b = tf.Variable(tf.random.uniform((2,)))\n",
    "x = tf.random.uniform((2,2))\n",
    "with tf.GradientTape() as tape:\n",
    "    y = tf.matmul(x, w) + b\n",
    "\n",
    "grad_of_y_wrt_x = tape.gradient(y, [w, b])\n",
    "grad_of_y_wrt_x"
   ]
  },
  {
   "cell_type": "code",
   "execution_count": null,
   "id": "6e1d3524-0621-4cbb-a3ef-4d4f9cf7f62f",
   "metadata": {},
   "outputs": [],
   "source": []
  },
  {
   "cell_type": "code",
   "execution_count": null,
   "id": "ce49febb-529e-4a08-b5fc-724924191f3d",
   "metadata": {},
   "outputs": [],
   "source": []
  },
  {
   "cell_type": "code",
   "execution_count": null,
   "id": "74e39916-863f-4df9-833f-aabbb96ea51d",
   "metadata": {},
   "outputs": [],
   "source": []
  },
  {
   "cell_type": "code",
   "execution_count": null,
   "id": "11f16dec-50e1-4072-bd45-0742974b75c4",
   "metadata": {},
   "outputs": [],
   "source": []
  },
  {
   "cell_type": "code",
   "execution_count": 35,
   "id": "5867302f-6b0b-4da8-8ab0-8fc7bf6a4e67",
   "metadata": {},
   "outputs": [],
   "source": [
    "# Dense층 만들기\n",
    "import tensorflow as tf\n",
    "\n",
    "class NaiveDense:\n",
    "    def __init__(self, input_size, output_size, activation):\n",
    "        self.activation = activation\n",
    "        \n",
    "        w_shape = (input_size, output_size)\n",
    "        w_initial_value = tf.random.uniform(w_shape, minval=0, maxval=0.1)\n",
    "        self.w = tf.Variable(w_initial_value)\n",
    "        \n",
    "        b_shape = (output_size, )\n",
    "        b_initial_value = tf.zeros(b_shape)\n",
    "        self.b = tf.Variable(b_initial_value)\n",
    "    \n",
    "    def __call__(self, inputs):\n",
    "        return self.activation(tf.matmul(inputs, self.w) + self.b)\n",
    "    \n",
    "    @property\n",
    "    def weights(self):\n",
    "        return [self.w, self.b]  # 리스트를 묶어서 리턴\n",
    "    # @는 일종의 예약어 취급하기. 이건 특별한 약속을 하고 있다. \n",
    "    # 파이썬에서는 decoration이라고 하고 원래 함수는 weights( ) 이렇게 불렀는데\n",
    "    # 이건 함수가 아니라 속성을 말하며 weights는 괄호를 안붙이고 부른다."
   ]
  },
  {
   "cell_type": "code",
   "execution_count": 36,
   "id": "d4c446c9-3ca5-4e24-bef4-29a2d768a219",
   "metadata": {},
   "outputs": [],
   "source": [
    "# Sequential 만들기\n",
    "class NavieSequential:\n",
    "    def __init__(self, layers):\n",
    "        self.layers = layers  # 왼쪽은 새로 만들어지는 변수이다. layers를 받아서 새로운 변수에 넣어줌\n",
    "    \n",
    "    def __call__(self, inputs):\n",
    "        x = inputs\n",
    "        for layer in self.layers:\n",
    "            x = layer(x)\n",
    "        return x\n",
    "    \n",
    "    @property\n",
    "    def weights(self):\n",
    "        weights = []\n",
    "        for layer in self.layers:\n",
    "            weights += layer.weights  # layers들을 순환하면서 가중치를 업데이트 시켜준다.\n",
    "        return weights"
   ]
  },
  {
   "cell_type": "code",
   "execution_count": 37,
   "id": "18263c19-d44e-4fa2-b2b2-67f6e5b5daea",
   "metadata": {},
   "outputs": [],
   "source": [
    "# 모델 구성하기\n",
    "model = NavieSequential([\n",
    "    NaiveDense(input_size=28*28, output_size=512, activation=tf.nn.relu),\n",
    "    NaiveDense(input_size=512, output_size=10, activation=tf.nn.softmax)\n",
    "])\n",
    "# 512이 인 이유는 위에 512를 받아서 하는거여서."
   ]
  },
  {
   "cell_type": "code",
   "execution_count": 38,
   "id": "ec15868f-4fb5-4db6-9609-b7c2d9386c43",
   "metadata": {},
   "outputs": [],
   "source": [
    "assert len(model.weights) == 4\n",
    "# assert는 중간중간에 확인을 하라는 건데 4면 계속 진행하고 아니면 멈춰라 라는것."
   ]
  },
  {
   "cell_type": "code",
   "execution_count": 39,
   "id": "ca823081-28bb-4bc1-88c5-7c47392b8ef0",
   "metadata": {},
   "outputs": [],
   "source": [
    "# 배치 제너레이터\n",
    "import math\n",
    "\n",
    "class BatchGenerator:\n",
    "    def __init__(self, images, labels, batch_size=128):\n",
    "        assert len(images) == len(labels)\n",
    "        self.index = 0\n",
    "        self.images = images\n",
    "        self.labels = labels\n",
    "        self.batch_size = batch_size\n",
    "        self.num_batches = math.ceil(len(images) / batch_size)\n",
    "        \n",
    "    def next(self):\n",
    "        images = self.images[self.index : self.index + self.batch_size]\n",
    "        labels = self.labels[self.index : self.index + self.batch_size]\n",
    "        self.index += self.batch_size\n",
    "        return images, labels"
   ]
  },
  {
   "cell_type": "code",
   "execution_count": 40,
   "id": "ea0e16d8-a416-41ae-a4ef-759cb365e0a4",
   "metadata": {},
   "outputs": [],
   "source": [
    "# 훈련 스텝 실행하기\n",
    "def one_training_step(model, images_batch, labels_batch):\n",
    "    with tf.GradientTape() as tape:\n",
    "        predictions = model(images_batch)\n",
    "        per_sample_losses = tf.keras.losses.sparse_categorical_crossentropy(labels_batch, predictions)\n",
    "        average_loss = tf.reduce_mean(per_sample_losses)\n",
    "    gradients = tape.gradient(average_loss, model.weights)\n",
    "    update_weights(gradients, model.weights)\n",
    "    return average_loss"
   ]
  },
  {
   "cell_type": "code",
   "execution_count": null,
   "id": "3bbc0b02-7edb-4419-a48d-15728eb15acd",
   "metadata": {},
   "outputs": [],
   "source": [
    "learning_rate = 0.001\n",
    "def update_weights(gradients, weights):\n",
    "    for g, w in zip(gradients, weights):\n",
    "        w.assign_sub(g * learning_rate)   # w = w - learning_rate*g 와 같다.\n",
    "# 실제로는 이런 방법보단 optimizer 인스턴스를 주로 사용한다."
   ]
  },
  {
   "cell_type": "code",
   "execution_count": 41,
   "id": "7902f894-c959-43c4-a086-8867bb573708",
   "metadata": {},
   "outputs": [],
   "source": [
    "# Optimizer 인스턴스 사용하기\n",
    "from tensorflow.keras import optimizers\n",
    "\n",
    "optimizers = optimizers.SGD(learning_rate=1e-3)\n",
    "\n",
    "def update_weights(gradients, weights):\n",
    "    optimizers.apply_gradients(zip(gradients, weights))\n",
    "# 이제 배치 훈련 스텝이 준비되었다."
   ]
  },
  {
   "cell_type": "code",
   "execution_count": 42,
   "id": "9fb91b21-a677-4acf-bc77-2506f24cee95",
   "metadata": {},
   "outputs": [],
   "source": [
    "# 전체 훈련 루프\n",
    "def fit(model, images, labels, epochs, batch_size=128):\n",
    "    for epoch_counter in range(epochs):\n",
    "        print(f'에포크 {epoch_counter}')\n",
    "        batch_generator = BatchGenerator(images, labels)\n",
    "        for batch_counter in range(batch_generator.num_batches):\n",
    "            images_batch, labels_batch = batch_generator.next()\n",
    "            loss = one_training_step(model, images_batch, labels_batch)\n",
    "            if batch_counter % 100 == 0:\n",
    "                print(f'{batch_counter}번째 배치 손실: {loss:.2f}')"
   ]
  },
  {
   "cell_type": "code",
   "execution_count": 43,
   "id": "fd5db639-bebd-4353-b151-d0a37acbd1a3",
   "metadata": {
    "collapsed": true,
    "jupyter": {
     "outputs_hidden": true
    },
    "tags": []
   },
   "outputs": [
    {
     "name": "stdout",
     "output_type": "stream",
     "text": [
      "에포크 0\n",
      "0번째 배치 손실: 4.27\n",
      "100번째 배치 손실: 2.23\n",
      "200번째 배치 손실: 2.19\n",
      "300번째 배치 손실: 2.06\n",
      "400번째 배치 손실: 2.21\n",
      "에포크 1\n",
      "0번째 배치 손실: 1.91\n",
      "100번째 배치 손실: 1.87\n",
      "200번째 배치 손실: 1.81\n",
      "300번째 배치 손실: 1.68\n",
      "400번째 배치 손실: 1.81\n",
      "에포크 2\n",
      "0번째 배치 손실: 1.58\n",
      "100번째 배치 손실: 1.57\n",
      "200번째 배치 손실: 1.49\n",
      "300번째 배치 손실: 1.39\n",
      "400번째 배치 손실: 1.50\n",
      "에포크 3\n",
      "0번째 배치 손실: 1.32\n",
      "100번째 배치 손실: 1.33\n",
      "200번째 배치 손실: 1.23\n",
      "300번째 배치 손실: 1.18\n",
      "400번째 배치 손실: 1.27\n",
      "에포크 4\n",
      "0번째 배치 손실: 1.12\n",
      "100번째 배치 손실: 1.15\n",
      "200번째 배치 손실: 1.04\n",
      "300번째 배치 손실: 1.02\n",
      "400번째 배치 손실: 1.11\n",
      "에포크 5\n",
      "0번째 배치 손실: 0.98\n",
      "100번째 배치 손실: 1.01\n",
      "200번째 배치 손실: 0.90\n",
      "300번째 배치 손실: 0.91\n",
      "400번째 배치 손실: 0.99\n",
      "에포크 6\n",
      "0번째 배치 손실: 0.87\n",
      "100번째 배치 손실: 0.91\n",
      "200번째 배치 손실: 0.80\n",
      "300번째 배치 손실: 0.82\n",
      "400번째 배치 손실: 0.90\n",
      "에포크 7\n",
      "0번째 배치 손실: 0.79\n",
      "100번째 배치 손실: 0.83\n",
      "200번째 배치 손실: 0.72\n",
      "300번째 배치 손실: 0.75\n",
      "400번째 배치 손실: 0.84\n",
      "에포크 8\n",
      "0번째 배치 손실: 0.73\n",
      "100번째 배치 손실: 0.76\n",
      "200번째 배치 손실: 0.66\n",
      "300번째 배치 손실: 0.70\n",
      "400번째 배치 손실: 0.79\n",
      "에포크 9\n",
      "0번째 배치 손실: 0.68\n",
      "100번째 배치 손실: 0.71\n",
      "200번째 배치 손실: 0.61\n",
      "300번째 배치 손실: 0.66\n",
      "400번째 배치 손실: 0.74\n"
     ]
    }
   ],
   "source": [
    "# 위의 함수를 테스트 하기\n",
    "from tensorflow.keras.datasets import mnist\n",
    "(train_images, train_labels), (test_images, test_labels) = mnist.load_data()\n",
    "\n",
    "train_images = train_images.reshape((60000, 28*28))\n",
    "train_images = train_images.astype('float32') / 255\n",
    "test_images = test_images.reshape((10000, 28*28))\n",
    "test_images = test_images.astype('float32') / 255\n",
    "\n",
    "fit(model, train_images, train_labels, epochs=10, batch_size=128)"
   ]
  },
  {
   "cell_type": "code",
   "execution_count": 44,
   "id": "37fd8844-949f-4eb4-8cd5-b88a67d8e549",
   "metadata": {},
   "outputs": [
    {
     "name": "stdout",
     "output_type": "stream",
     "text": [
      "정확도: 0.81\n"
     ]
    }
   ],
   "source": [
    "# 모델 평가하기\n",
    "import numpy as np\n",
    "\n",
    "predictions = model(test_images)\n",
    "predictions = predictions.numpy()\n",
    "predicted_labels = np.argmax(predictions, axis=1)\n",
    "matches = predicted_labels == test_labels\n",
    "print(f'정확도: {matches.mean():.2f}')"
   ]
  },
  {
   "cell_type": "code",
   "execution_count": null,
   "id": "0d411b55-b530-4fa3-aa60-22a63ba8fae9",
   "metadata": {},
   "outputs": [],
   "source": []
  },
  {
   "cell_type": "code",
   "execution_count": null,
   "id": "0f155fd2-2bf5-4e40-93be-09795c1fd3f6",
   "metadata": {},
   "outputs": [],
   "source": []
  },
  {
   "cell_type": "code",
   "execution_count": null,
   "id": "ee2c1a15-bc2c-4eaf-9165-ff9799f64e91",
   "metadata": {},
   "outputs": [],
   "source": []
  },
  {
   "cell_type": "markdown",
   "id": "cf7403c9-2490-4ba2-be75-dd261cdca5f1",
   "metadata": {},
   "source": [
    "```\n",
    "__call__( ) 의 역할\n",
    "```"
   ]
  },
  {
   "cell_type": "code",
   "execution_count": 27,
   "id": "51eb98b2-99ce-4f2b-bc2e-5c8f59472a88",
   "metadata": {},
   "outputs": [],
   "source": [
    "class Test:\n",
    "    def __call__(self, num):  #call 매스를 숫자로 받는다.\n",
    "        if num == 1:\n",
    "            print('Hello')\n",
    "        else:\n",
    "            raise  # 아니라면 강제로 에러를 발생시키겠다."
   ]
  },
  {
   "cell_type": "code",
   "execution_count": 30,
   "id": "c0841cda-cfe0-4dca-ac07-68070466730e",
   "metadata": {},
   "outputs": [],
   "source": [
    "test = Test()   # 이 함수를 test 라는 객체로 만들어주었다."
   ]
  },
  {
   "cell_type": "code",
   "execution_count": 33,
   "id": "b11880de-855f-42d5-80f9-33cb27913ec2",
   "metadata": {},
   "outputs": [
    {
     "name": "stdout",
     "output_type": "stream",
     "text": [
      "Hello\n"
     ]
    }
   ],
   "source": [
    "test(1)"
   ]
  },
  {
   "cell_type": "code",
   "execution_count": 34,
   "id": "f48a9080-4136-4ac3-a1ff-f03d8d4142b1",
   "metadata": {
    "collapsed": true,
    "jupyter": {
     "outputs_hidden": true
    },
    "tags": []
   },
   "outputs": [
    {
     "ename": "RuntimeError",
     "evalue": "No active exception to reraise",
     "output_type": "error",
     "traceback": [
      "\u001b[1;31m---------------------------------------------------------------------------\u001b[0m",
      "\u001b[1;31mRuntimeError\u001b[0m                              Traceback (most recent call last)",
      "Input \u001b[1;32mIn [34]\u001b[0m, in \u001b[0;36m<cell line: 1>\u001b[1;34m()\u001b[0m\n\u001b[1;32m----> 1\u001b[0m \u001b[43mtest\u001b[49m\u001b[43m(\u001b[49m\u001b[38;5;241;43m9\u001b[39;49m\u001b[43m)\u001b[49m\n",
      "Input \u001b[1;32mIn [27]\u001b[0m, in \u001b[0;36mTest.__call__\u001b[1;34m(self, num)\u001b[0m\n\u001b[0;32m      4\u001b[0m     \u001b[38;5;28mprint\u001b[39m(\u001b[38;5;124m'\u001b[39m\u001b[38;5;124mHello\u001b[39m\u001b[38;5;124m'\u001b[39m)\n\u001b[0;32m      5\u001b[0m \u001b[38;5;28;01melse\u001b[39;00m:\n\u001b[1;32m----> 6\u001b[0m     \u001b[38;5;28;01mraise\u001b[39;00m\n",
      "\u001b[1;31mRuntimeError\u001b[0m: No active exception to reraise"
     ]
    }
   ],
   "source": [
    "test(9)"
   ]
  },
  {
   "cell_type": "code",
   "execution_count": 35,
   "id": "ec4c8294-7cc2-4c90-8c60-b72adb572367",
   "metadata": {},
   "outputs": [
    {
     "name": "stdout",
     "output_type": "stream",
     "text": [
      "Hello\n"
     ]
    }
   ],
   "source": [
    "# 오브젝트를 만들지 않고 바로 넣어보기\n",
    "Test()(1)"
   ]
  },
  {
   "cell_type": "code",
   "execution_count": null,
   "id": "acc75148-0e1d-4c60-b0e8-d226b527863d",
   "metadata": {},
   "outputs": [],
   "source": []
  }
 ],
 "metadata": {
  "kernelspec": {
   "display_name": "Python 3 (ipykernel)",
   "language": "python",
   "name": "python3"
  },
  "language_info": {
   "codemirror_mode": {
    "name": "ipython",
    "version": 3
   },
   "file_extension": ".py",
   "mimetype": "text/x-python",
   "name": "python",
   "nbconvert_exporter": "python",
   "pygments_lexer": "ipython3",
   "version": "3.9.12"
  }
 },
 "nbformat": 4,
 "nbformat_minor": 5
}
