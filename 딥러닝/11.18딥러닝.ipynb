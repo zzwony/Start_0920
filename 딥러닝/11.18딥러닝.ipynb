{
 "cells": [
  {
   "cell_type": "code",
   "execution_count": null,
   "id": "9f280e4f-d7a6-4d25-9fb1-70b21d9c70e7",
   "metadata": {},
   "outputs": [],
   "source": [
    "# framework : 단순히 import가 아니라 집이 다 지어진것\n",
    "# 딥러닝 할때는 keras를 사용한다. 하지만 배경은 tensorflow이다.\n",
    "# tensorflow를 설치하면 keras도 사용 가능\n",
    "# 목표: 제곱의 형태를 주고 파이썬이 잘 파악하는지 보고싶다."
   ]
  },
  {
   "cell_type": "markdown",
   "id": "ccacd4c3-c568-487b-b35a-575cd6fb18f8",
   "metadata": {},
   "source": [
    "# import"
   ]
  },
  {
   "cell_type": "code",
   "execution_count": 36,
   "id": "aac98840-a459-4ee4-8494-f776f333c418",
   "metadata": {
    "tags": []
   },
   "outputs": [],
   "source": [
    "#pip install keras\n",
    "#pip install tensorflow"
   ]
  },
  {
   "cell_type": "code",
   "execution_count": 37,
   "id": "3af6d2e1-b378-4135-973f-f3ee854494c9",
   "metadata": {},
   "outputs": [],
   "source": [
    "import numpy as np\n",
    "import pandas as pd\n",
    "import matplotlib.pyplot as plt"
   ]
  },
  {
   "cell_type": "code",
   "execution_count": 33,
   "id": "86814e17-0cd0-4522-a9e8-fb02f35c2a23",
   "metadata": {},
   "outputs": [],
   "source": [
    "from keras import Sequential #대문자라는 뜻은 클래스 라는 뜻\n",
    "from keras import optimizers\n",
    "from keras.layers import Input, Dense"
   ]
  },
  {
   "cell_type": "markdown",
   "id": "30758a33-0fa9-4c9e-a952-7e9dd527d88d",
   "metadata": {},
   "source": [
    "sparse matrix : 희소행렬\n",
    "\n",
    "dense matrix : 밀집행렬"
   ]
  },
  {
   "cell_type": "markdown",
   "id": "66980536-0b17-439f-90c6-5e0672871375",
   "metadata": {},
   "source": [
    "# -1 ~ 1 까지 100 조각 내기"
   ]
  },
  {
   "cell_type": "code",
   "execution_count": 38,
   "id": "fc5315a3-c3d1-47ea-a654-c5f5a29a7ba4",
   "metadata": {},
   "outputs": [
    {
     "data": {
      "text/plain": [
       "array([-1.        , -0.97979798, -0.95959596, -0.93939394, -0.91919192,\n",
       "       -0.8989899 , -0.87878788, -0.85858586, -0.83838384, -0.81818182,\n",
       "       -0.7979798 , -0.77777778, -0.75757576, -0.73737374, -0.71717172,\n",
       "       -0.6969697 , -0.67676768, -0.65656566, -0.63636364, -0.61616162,\n",
       "       -0.5959596 , -0.57575758, -0.55555556, -0.53535354, -0.51515152,\n",
       "       -0.49494949, -0.47474747, -0.45454545, -0.43434343, -0.41414141,\n",
       "       -0.39393939, -0.37373737, -0.35353535, -0.33333333, -0.31313131,\n",
       "       -0.29292929, -0.27272727, -0.25252525, -0.23232323, -0.21212121,\n",
       "       -0.19191919, -0.17171717, -0.15151515, -0.13131313, -0.11111111,\n",
       "       -0.09090909, -0.07070707, -0.05050505, -0.03030303, -0.01010101,\n",
       "        0.01010101,  0.03030303,  0.05050505,  0.07070707,  0.09090909,\n",
       "        0.11111111,  0.13131313,  0.15151515,  0.17171717,  0.19191919,\n",
       "        0.21212121,  0.23232323,  0.25252525,  0.27272727,  0.29292929,\n",
       "        0.31313131,  0.33333333,  0.35353535,  0.37373737,  0.39393939,\n",
       "        0.41414141,  0.43434343,  0.45454545,  0.47474747,  0.49494949,\n",
       "        0.51515152,  0.53535354,  0.55555556,  0.57575758,  0.5959596 ,\n",
       "        0.61616162,  0.63636364,  0.65656566,  0.67676768,  0.6969697 ,\n",
       "        0.71717172,  0.73737374,  0.75757576,  0.77777778,  0.7979798 ,\n",
       "        0.81818182,  0.83838384,  0.85858586,  0.87878788,  0.8989899 ,\n",
       "        0.91919192,  0.93939394,  0.95959596,  0.97979798,  1.        ])"
      ]
     },
     "execution_count": 38,
     "metadata": {},
     "output_type": "execute_result"
    }
   ],
   "source": [
    "# 균등 분할 함수\n",
    "x = np.linspace(-1, 1, 100)  #-1부터 1까지 100개\n",
    "x"
   ]
  },
  {
   "cell_type": "code",
   "execution_count": 39,
   "id": "f5d8324b-29a2-4e1c-b3f6-1fcef5f9c8e5",
   "metadata": {},
   "outputs": [],
   "source": [
    "y = x**2"
   ]
  },
  {
   "cell_type": "code",
   "execution_count": 40,
   "id": "a2457657-6f30-4dd6-a90f-1c7e9d488382",
   "metadata": {},
   "outputs": [
    {
     "data": {
      "text/plain": [
       "<matplotlib.collections.PathCollection at 0x1a6f0f08be0>"
      ]
     },
     "execution_count": 40,
     "metadata": {},
     "output_type": "execute_result"
    },
    {
     "data": {
      "image/png": "[encoded data removed]",
      "text/plain": [
       "<Figure size 432x288 with 1 Axes>"
      ]
     },
     "metadata": {
      "needs_background": "light"
     },
     "output_type": "display_data"
    }
   ],
   "source": [
    "plt.scatter(x,x**2)"
   ]
  },
  {
   "cell_type": "markdown",
   "id": "fc528694-d831-46b9-888f-4735ba6bc269",
   "metadata": {},
   "source": [
    "# 셔플"
   ]
  },
  {
   "cell_type": "code",
   "execution_count": 41,
   "id": "ffa93bb0-c67b-4df8-b992-664248545145",
   "metadata": {},
   "outputs": [
    {
     "data": {
      "text/plain": [
       "array([2, 1, 4, 3])"
      ]
     },
     "execution_count": 41,
     "metadata": {},
     "output_type": "execute_result"
    }
   ],
   "source": [
    "a = np.arange(1,5)\n",
    "np.random.shuffle(a)  # 따로 저장하지 않아도 셔플된다.\n",
    "a  # 이 원리를 이용해서 x을 섞을 것이다."
   ]
  },
  {
   "cell_type": "code",
   "execution_count": 42,
   "id": "6f5185fc-2ef8-4e11-b7cf-82340db048ab",
   "metadata": {},
   "outputs": [
    {
     "data": {
      "text/plain": [
       "array([-0.63636364, -0.73737374, -0.71717172, -0.19191919, -0.45454545,\n",
       "        0.85858586, -0.03030303,  0.8989899 , -0.41414141,  0.75757576,\n",
       "        0.81818182,  0.09090909,  0.6969697 ,  0.65656566,  0.61616162,\n",
       "       -0.57575758, -0.95959596,  0.11111111,  0.03030303,  0.27272727,\n",
       "       -0.47474747, -0.77777778, -0.17171717,  0.13131313,  0.41414141,\n",
       "        0.17171717, -0.33333333, -0.8989899 ,  0.5959596 ,  0.29292929,\n",
       "       -0.91919192,  0.93939394, -0.23232323,  0.7979798 , -0.27272727,\n",
       "       -0.21212121, -0.75757576,  0.51515152,  0.63636364, -0.6969697 ,\n",
       "        0.19191919, -0.61616162,  0.71717172,  0.73737374,  0.95959596,\n",
       "        0.37373737,  0.47474747, -0.51515152, -0.13131313, -0.85858586,\n",
       "        0.05050505, -0.53535354,  0.67676768,  0.25252525, -0.97979798,\n",
       "        0.83838384, -0.09090909,  0.77777778, -0.93939394,  0.49494949,\n",
       "        0.97979798, -0.31313131,  0.21212121, -0.35353535,  0.15151515,\n",
       "       -0.07070707, -0.49494949, -0.01010101, -0.11111111,  0.55555556,\n",
       "       -0.81818182, -0.29292929,  0.53535354,  0.39393939, -0.67676768,\n",
       "        0.91919192, -0.65656566,  0.31313131,  0.57575758,  0.01010101,\n",
       "        0.43434343,  1.        , -0.83838384, -0.55555556, -0.5959596 ,\n",
       "       -0.87878788, -0.15151515,  0.35353535, -0.39393939,  0.87878788,\n",
       "        0.07070707, -0.37373737, -0.25252525,  0.45454545,  0.23232323,\n",
       "       -0.43434343, -1.        , -0.05050505, -0.7979798 ,  0.33333333])"
      ]
     },
     "execution_count": 42,
     "metadata": {},
     "output_type": "execute_result"
    }
   ],
   "source": [
    "np.random.shuffle(x)\n",
    "x"
   ]
  },
  {
   "cell_type": "code",
   "execution_count": 43,
   "id": "27e53e19-3944-4ff7-aa6a-1579d8a58bfc",
   "metadata": {},
   "outputs": [
    {
     "data": {
      "text/plain": [
       "<matplotlib.collections.PathCollection at 0x1a6f0ed11c0>"
      ]
     },
     "execution_count": 43,
     "metadata": {},
     "output_type": "execute_result"
    },
    {
     "data": {
      "image/png": "[encoded data removed]",
      "text/plain": [
       "<Figure size 432x288 with 1 Axes>"
      ]
     },
     "metadata": {
      "needs_background": "light"
     },
     "output_type": "display_data"
    }
   ],
   "source": [
    "plt.scatter(x[:70], x[:70]**2)"
   ]
  },
  {
   "cell_type": "code",
   "execution_count": 44,
   "id": "fb15b0d4-27e2-4b4c-b470-9fa7a068fda9",
   "metadata": {},
   "outputs": [
    {
     "data": {
      "text/plain": [
       "<matplotlib.collections.PathCollection at 0x1a6f0fe89d0>"
      ]
     },
     "execution_count": 44,
     "metadata": {},
     "output_type": "execute_result"
    },
    {
     "data": {
      "image/png": "[encoded data removed]",
      "text/plain": [
       "<Figure size 432x288 with 1 Axes>"
      ]
     },
     "metadata": {
      "needs_background": "light"
     },
     "output_type": "display_data"
    }
   ],
   "source": [
    "# 똑같은 그림 다시 그려보기\n",
    "plt.scatter(x[70:], x[70:]**2)"
   ]
  },
  {
   "cell_type": "code",
   "execution_count": 45,
   "id": "2b233ae4-be2b-451c-9c61-8b0a59d16b08",
   "metadata": {},
   "outputs": [
    {
     "data": {
      "text/plain": [
       "<matplotlib.collections.PathCollection at 0x1a6f105f340>"
      ]
     },
     "execution_count": 45,
     "metadata": {},
     "output_type": "execute_result"
    },
    {
     "data": {
      "image/png": "[encoded data removed]",
      "text/plain": [
       "<Figure size 432x288 with 1 Axes>"
      ]
     },
     "metadata": {
      "needs_background": "light"
     },
     "output_type": "display_data"
    }
   ],
   "source": [
    "# 그림을 같이 하면 알아서 그려준다.\n",
    "plt.scatter(x[:70], x[:70]**2)\n",
    "plt.scatter(x[70:], x[70:]**2)"
   ]
  },
  {
   "cell_type": "markdown",
   "id": "45e55543-ec71-441b-8c44-cc2f0a300755",
   "metadata": {},
   "source": [
    "# 포스기 만들기(틀 잡기)"
   ]
  },
  {
   "cell_type": "code",
   "execution_count": 46,
   "id": "7e56441e-7db4-4cdf-ab54-ae88d3f29cdb",
   "metadata": {
    "collapsed": true,
    "jupyter": {
     "outputs_hidden": true
    },
    "tags": []
   },
   "outputs": [
    {
     "ename": "SyntaxError",
     "evalue": "invalid syntax (1148305580.py, line 3)",
     "output_type": "error",
     "traceback": [
      "\u001b[1;36m  Input \u001b[1;32mIn [46]\u001b[1;36m\u001b[0m\n\u001b[1;33m    def__ init__(self)\u001b[0m\n\u001b[1;37m          ^\u001b[0m\n\u001b[1;31mSyntaxError\u001b[0m\u001b[1;31m:\u001b[0m invalid syntax\n"
     ]
    }
   ],
   "source": [
    "# 예전에 이런 클래스를 만든적이 있다.(자세한건 점프투파이썬 참고하기)\n",
    "class Caculator:\n",
    "    def__ init__(self)\n",
    "# 불러오는 방법은 포스기로 했다.(상속, 메소드 오버라이딩)\n",
    "pos = Calculator()\n",
    "\n",
    "# 뒤의 내용은 이러한 내용이 주이기 때문에 잘 알아둬야한다."
   ]
  },
  {
   "cell_type": "code",
   "execution_count": 47,
   "id": "ef8a2848-1190-4f3a-b4d5-a058e04776da",
   "metadata": {
    "tags": []
   },
   "outputs": [],
   "source": [
    "# 70개의 데이터를 주고 학습을 시킬 예정\n",
    "# 클래스를 통해서 가져올거다.\n",
    "# 모델이라는 포스기를 만든것이다.\n",
    "model = Sequential()\n",
    "\n",
    "# 더하기 (층을 하나하나 쌓는다.)\n",
    "# 맨 처음은 시작하는 층 input()\n",
    "# 70개의 데이터가 확 들어가는게 아니라 한 개의 데이터가 들어가는 것이다.\n",
    "# 즉, 1개가 70번 들어가는 것이다.\n",
    "model.add(Input(1))\n",
    "model.add(Dense(10, activation='sigmoid'))  # 첫번째 칸은 유닛(한개의 기본 단위) 그림으로 치면 동그라미, 즉 동그라미 갯수\n",
    "model.add(Dense(10, activation='sigmoid'))\n",
    "model.add(Dense(1))  # 층 4개가 딱 쌓이게 된다. 마지막은 아웃풋이 나오는 층으로 하기\n",
    "                    # 아웃풋 유닛츠는 0.5를 제곱하면 0.25가 나오는것처럼 1을 제곱하면 1이여서 1을 써줘야한다.\n",
    "model.compile(optimizer='SGD', loss = 'mse', metrics = 'mse')  # metrics는 방법을 뜻한다.\n",
    "\n",
    "# 여기까지 틀 잡기 끝!"
   ]
  },
  {
   "cell_type": "markdown",
   "id": "53f07737-d728-43d9-a0e1-30dfb5a2e5d4",
   "metadata": {},
   "source": [
    "# 학습 시키기"
   ]
  },
  {
   "cell_type": "code",
   "execution_count": 48,
   "id": "4cf37cd6-80e2-4dbb-bd61-572b4411ad68",
   "metadata": {
    "collapsed": true,
    "jupyter": {
     "outputs_hidden": true
    },
    "tags": []
   },
   "outputs": [
    {
     "name": "stdout",
     "output_type": "stream",
     "text": [
      "Epoch 1/100\n",
      "5/5 [==============================] - 1s 5ms/step - loss: 0.4517 - mse: 0.4517\n",
      "Epoch 2/100\n",
      "5/5 [==============================] - 0s 2ms/step - loss: 0.2339 - mse: 0.2339\n",
      "Epoch 3/100\n",
      "5/5 [==============================] - 0s 2ms/step - loss: 0.1495 - mse: 0.1495\n",
      "Epoch 4/100\n",
      "5/5 [==============================] - 0s 1ms/step - loss: 0.1166 - mse: 0.1166\n",
      "Epoch 5/100\n",
      "5/5 [==============================] - 0s 1ms/step - loss: 0.1015 - mse: 0.1015\n",
      "Epoch 6/100\n",
      "5/5 [==============================] - 0s 2ms/step - loss: 0.0948 - mse: 0.0948\n",
      "Epoch 7/100\n",
      "5/5 [==============================] - 0s 1ms/step - loss: 0.0930 - mse: 0.0930\n",
      "Epoch 8/100\n",
      "5/5 [==============================] - 0s 2ms/step - loss: 0.0919 - mse: 0.0919\n",
      "Epoch 9/100\n",
      "5/5 [==============================] - 0s 1ms/step - loss: 0.0917 - mse: 0.0917\n",
      "Epoch 10/100\n",
      "5/5 [==============================] - 0s 1ms/step - loss: 0.0920 - mse: 0.0920\n",
      "Epoch 11/100\n",
      "5/5 [==============================] - 0s 2ms/step - loss: 0.0919 - mse: 0.0919\n",
      "Epoch 12/100\n",
      "5/5 [==============================] - 0s 1ms/step - loss: 0.0922 - mse: 0.0922\n",
      "Epoch 13/100\n",
      "5/5 [==============================] - 0s 2ms/step - loss: 0.0916 - mse: 0.0916\n",
      "Epoch 14/100\n",
      "5/5 [==============================] - 0s 1ms/step - loss: 0.0918 - mse: 0.0918\n",
      "Epoch 15/100\n",
      "5/5 [==============================] - 0s 1ms/step - loss: 0.0917 - mse: 0.0917\n",
      "Epoch 16/100\n",
      "5/5 [==============================] - 0s 1ms/step - loss: 0.0918 - mse: 0.0918\n",
      "Epoch 17/100\n",
      "5/5 [==============================] - 0s 1ms/step - loss: 0.0918 - mse: 0.0918\n",
      "Epoch 18/100\n",
      "5/5 [==============================] - 0s 2ms/step - loss: 0.0921 - mse: 0.0921\n",
      "Epoch 19/100\n",
      "5/5 [==============================] - 0s 2ms/step - loss: 0.0916 - mse: 0.0916\n",
      "Epoch 20/100\n",
      "5/5 [==============================] - 0s 1ms/step - loss: 0.0920 - mse: 0.0920\n",
      "Epoch 21/100\n",
      "5/5 [==============================] - 0s 1ms/step - loss: 0.0918 - mse: 0.0918\n",
      "Epoch 22/100\n",
      "5/5 [==============================] - 0s 1ms/step - loss: 0.0918 - mse: 0.0918\n",
      "Epoch 23/100\n",
      "5/5 [==============================] - 0s 2ms/step - loss: 0.0923 - mse: 0.0923\n",
      "Epoch 24/100\n",
      "5/5 [==============================] - 0s 2ms/step - loss: 0.0915 - mse: 0.0915\n",
      "Epoch 25/100\n",
      "5/5 [==============================] - 0s 2ms/step - loss: 0.0921 - mse: 0.0921\n",
      "Epoch 26/100\n",
      "5/5 [==============================] - 0s 1ms/step - loss: 0.0917 - mse: 0.0917\n",
      "Epoch 27/100\n",
      "5/5 [==============================] - 0s 2ms/step - loss: 0.0915 - mse: 0.0915\n",
      "Epoch 28/100\n",
      "5/5 [==============================] - 0s 1ms/step - loss: 0.0914 - mse: 0.0914\n",
      "Epoch 29/100\n",
      "5/5 [==============================] - 0s 2ms/step - loss: 0.0915 - mse: 0.0915\n",
      "Epoch 30/100\n",
      "5/5 [==============================] - 0s 2ms/step - loss: 0.0921 - mse: 0.0921\n",
      "Epoch 31/100\n",
      "5/5 [==============================] - 0s 1ms/step - loss: 0.0916 - mse: 0.0916\n",
      "Epoch 32/100\n",
      "5/5 [==============================] - 0s 1ms/step - loss: 0.0914 - mse: 0.0914\n",
      "Epoch 33/100\n",
      "5/5 [==============================] - 0s 2ms/step - loss: 0.0919 - mse: 0.0919\n",
      "Epoch 34/100\n",
      "5/5 [==============================] - 0s 1ms/step - loss: 0.0918 - mse: 0.0918\n",
      "Epoch 35/100\n",
      "5/5 [==============================] - 0s 2ms/step - loss: 0.0922 - mse: 0.0922\n",
      "Epoch 36/100\n",
      "5/5 [==============================] - 0s 1ms/step - loss: 0.0916 - mse: 0.0916\n",
      "Epoch 37/100\n",
      "5/5 [==============================] - 0s 1ms/step - loss: 0.0915 - mse: 0.0915\n",
      "Epoch 38/100\n",
      "5/5 [==============================] - 0s 2ms/step - loss: 0.0916 - mse: 0.0916\n",
      "Epoch 39/100\n",
      "5/5 [==============================] - 0s 997us/step - loss: 0.0914 - mse: 0.0914\n",
      "Epoch 40/100\n",
      "5/5 [==============================] - 0s 1ms/step - loss: 0.0917 - mse: 0.0917\n",
      "Epoch 41/100\n",
      "5/5 [==============================] - 0s 1ms/step - loss: 0.0923 - mse: 0.0923\n",
      "Epoch 42/100\n",
      "5/5 [==============================] - 0s 2ms/step - loss: 0.0919 - mse: 0.0919\n",
      "Epoch 43/100\n",
      "5/5 [==============================] - 0s 997us/step - loss: 0.0922 - mse: 0.0922\n",
      "Epoch 44/100\n",
      "5/5 [==============================] - 0s 997us/step - loss: 0.0917 - mse: 0.0917\n",
      "Epoch 45/100\n",
      "5/5 [==============================] - 0s 1ms/step - loss: 0.0915 - mse: 0.0915\n",
      "Epoch 46/100\n",
      "5/5 [==============================] - 0s 997us/step - loss: 0.0918 - mse: 0.0918\n",
      "Epoch 47/100\n",
      "5/5 [==============================] - 0s 1ms/step - loss: 0.0917 - mse: 0.0917\n",
      "Epoch 48/100\n",
      "5/5 [==============================] - 0s 1ms/step - loss: 0.0917 - mse: 0.0917\n",
      "Epoch 49/100\n",
      "5/5 [==============================] - 0s 2ms/step - loss: 0.0919 - mse: 0.0919\n",
      "Epoch 50/100\n",
      "5/5 [==============================] - 0s 1ms/step - loss: 0.0916 - mse: 0.0916\n",
      "Epoch 51/100\n",
      "5/5 [==============================] - 0s 1ms/step - loss: 0.0915 - mse: 0.0915\n",
      "Epoch 52/100\n",
      "5/5 [==============================] - 0s 997us/step - loss: 0.0917 - mse: 0.0917\n",
      "Epoch 53/100\n",
      "5/5 [==============================] - 0s 1ms/step - loss: 0.0917 - mse: 0.0917\n",
      "Epoch 54/100\n",
      "5/5 [==============================] - 0s 1ms/step - loss: 0.0918 - mse: 0.0918\n",
      "Epoch 55/100\n",
      "5/5 [==============================] - 0s 1ms/step - loss: 0.0914 - mse: 0.0914\n",
      "Epoch 56/100\n",
      "5/5 [==============================] - 0s 997us/step - loss: 0.0915 - mse: 0.0915\n",
      "Epoch 57/100\n",
      "5/5 [==============================] - 0s 1ms/step - loss: 0.0914 - mse: 0.0914\n",
      "Epoch 58/100\n",
      "5/5 [==============================] - 0s 997us/step - loss: 0.0915 - mse: 0.0915\n",
      "Epoch 59/100\n",
      "5/5 [==============================] - 0s 997us/step - loss: 0.0918 - mse: 0.0918\n",
      "Epoch 60/100\n",
      "5/5 [==============================] - 0s 997us/step - loss: 0.0916 - mse: 0.0916\n",
      "Epoch 61/100\n",
      "5/5 [==============================] - 0s 1ms/step - loss: 0.0926 - mse: 0.0926\n",
      "Epoch 62/100\n",
      "5/5 [==============================] - 0s 997us/step - loss: 0.0920 - mse: 0.0920\n",
      "Epoch 63/100\n",
      "5/5 [==============================] - 0s 1ms/step - loss: 0.0917 - mse: 0.0917\n",
      "Epoch 64/100\n",
      "5/5 [==============================] - 0s 1ms/step - loss: 0.0915 - mse: 0.0915\n",
      "Epoch 65/100\n",
      "5/5 [==============================] - 0s 997us/step - loss: 0.0915 - mse: 0.0915\n",
      "Epoch 66/100\n",
      "5/5 [==============================] - 0s 997us/step - loss: 0.0918 - mse: 0.0918\n",
      "Epoch 67/100\n",
      "5/5 [==============================] - 0s 997us/step - loss: 0.0921 - mse: 0.0921\n",
      "Epoch 68/100\n",
      "5/5 [==============================] - 0s 1ms/step - loss: 0.0928 - mse: 0.0928\n",
      "Epoch 69/100\n",
      "5/5 [==============================] - 0s 997us/step - loss: 0.0921 - mse: 0.0921\n",
      "Epoch 70/100\n",
      "5/5 [==============================] - 0s 1ms/step - loss: 0.0914 - mse: 0.0914\n",
      "Epoch 71/100\n",
      "5/5 [==============================] - 0s 1ms/step - loss: 0.0919 - mse: 0.0919\n",
      "Epoch 72/100\n",
      "5/5 [==============================] - 0s 997us/step - loss: 0.0923 - mse: 0.0923\n",
      "Epoch 73/100\n",
      "5/5 [==============================] - 0s 1ms/step - loss: 0.0923 - mse: 0.0923\n",
      "Epoch 74/100\n",
      "5/5 [==============================] - 0s 1ms/step - loss: 0.0917 - mse: 0.0917\n",
      "Epoch 75/100\n",
      "5/5 [==============================] - 0s 997us/step - loss: 0.0917 - mse: 0.0917\n",
      "Epoch 76/100\n",
      "5/5 [==============================] - 0s 1ms/step - loss: 0.0914 - mse: 0.0914\n",
      "Epoch 77/100\n",
      "5/5 [==============================] - 0s 997us/step - loss: 0.0916 - mse: 0.0916\n",
      "Epoch 78/100\n",
      "5/5 [==============================] - 0s 997us/step - loss: 0.0915 - mse: 0.0915\n",
      "Epoch 79/100\n",
      "5/5 [==============================] - 0s 1ms/step - loss: 0.0919 - mse: 0.0919\n",
      "Epoch 80/100\n",
      "5/5 [==============================] - 0s 997us/step - loss: 0.0919 - mse: 0.0919\n",
      "Epoch 81/100\n",
      "5/5 [==============================] - 0s 4ms/step - loss: 0.0923 - mse: 0.0923\n",
      "Epoch 82/100\n",
      "5/5 [==============================] - 0s 1ms/step - loss: 0.0918 - mse: 0.0918\n",
      "Epoch 83/100\n",
      "5/5 [==============================] - 0s 1ms/step - loss: 0.0918 - mse: 0.0918\n",
      "Epoch 84/100\n",
      "5/5 [==============================] - 0s 2ms/step - loss: 0.0926 - mse: 0.0926\n",
      "Epoch 85/100\n",
      "5/5 [==============================] - 0s 2ms/step - loss: 0.0917 - mse: 0.0917\n",
      "Epoch 86/100\n",
      "5/5 [==============================] - 0s 1ms/step - loss: 0.0915 - mse: 0.0915\n",
      "Epoch 87/100\n",
      "5/5 [==============================] - 0s 2ms/step - loss: 0.0916 - mse: 0.0916\n",
      "Epoch 88/100\n",
      "5/5 [==============================] - 0s 1ms/step - loss: 0.0915 - mse: 0.0915\n",
      "Epoch 89/100\n",
      "5/5 [==============================] - 0s 2ms/step - loss: 0.0917 - mse: 0.0917\n",
      "Epoch 90/100\n",
      "5/5 [==============================] - 0s 1ms/step - loss: 0.0919 - mse: 0.0919\n",
      "Epoch 91/100\n",
      "5/5 [==============================] - 0s 1ms/step - loss: 0.0915 - mse: 0.0915\n",
      "Epoch 92/100\n",
      "5/5 [==============================] - 0s 1ms/step - loss: 0.0921 - mse: 0.0921\n",
      "Epoch 93/100\n",
      "5/5 [==============================] - 0s 2ms/step - loss: 0.0918 - mse: 0.0918\n",
      "Epoch 94/100\n",
      "5/5 [==============================] - 0s 1ms/step - loss: 0.0921 - mse: 0.0921\n",
      "Epoch 95/100\n",
      "5/5 [==============================] - 0s 2ms/step - loss: 0.0918 - mse: 0.0918\n",
      "Epoch 96/100\n",
      "5/5 [==============================] - 0s 1ms/step - loss: 0.0917 - mse: 0.0917\n",
      "Epoch 97/100\n",
      "5/5 [==============================] - 0s 2ms/step - loss: 0.0917 - mse: 0.0917\n",
      "Epoch 98/100\n",
      "5/5 [==============================] - 0s 1ms/step - loss: 0.0922 - mse: 0.0922\n",
      "Epoch 99/100\n",
      "5/5 [==============================] - 0s 1ms/step - loss: 0.0919 - mse: 0.0919\n",
      "Epoch 100/100\n",
      "5/5 [==============================] - 0s 1ms/step - loss: 0.0918 - mse: 0.0918\n"
     ]
    },
    {
     "data": {
      "text/plain": [
       "<keras.callbacks.History at 0x1a6f1378be0>"
      ]
     },
     "execution_count": 48,
     "metadata": {},
     "output_type": "execute_result"
    }
   ],
   "source": [
    "model.fit(x[:70], x[:70]**2, epochs=100, verbose=1, batch_size=16)  # 첫번째는 x, 두번째는 y  \n",
    "                                                                    # x,y로 안바꿨을 뿐train 시키는 중이다.\n",
    "# 100번 학습 후 출력물은 loss와 mes의 값이 나온다."
   ]
  },
  {
   "cell_type": "code",
   "execution_count": 49,
   "id": "d6ccb414-c7d1-4ce9-aacd-b666f94c0802",
   "metadata": {},
   "outputs": [
    {
     "data": {
      "text/plain": [
       "<keras.callbacks.History at 0x1a6f26c7ee0>"
      ]
     },
     "execution_count": 49,
     "metadata": {},
     "output_type": "execute_result"
    }
   ],
   "source": [
    "# verbose를 0으로 한다면?\n",
    "# 앞에 똑똑해진 상태에서 또 100번을 돌리니까 200번 학습하는 것이다.\n",
    "# verbose 0은 조용히 결과만, 1은 수다스러운 2는 매우 수다스럽다.\n",
    "model.fit(x[:70], x[:70]**2, epochs=100, verbose=0, batch_size=16)"
   ]
  },
  {
   "cell_type": "markdown",
   "id": "efd4194c-63a1-48a1-89f1-dcfad674e482",
   "metadata": {},
   "source": [
    "# 예측하기"
   ]
  },
  {
   "cell_type": "code",
   "execution_count": 50,
   "id": "9c162f02-8d6f-400a-bd01-13b1663bc4aa",
   "metadata": {},
   "outputs": [
    {
     "name": "stdout",
     "output_type": "stream",
     "text": [
      "1/1 [==============================] - 0s 95ms/step\n"
     ]
    },
    {
     "data": {
      "text/plain": [
       "array([[0.31665543],\n",
       "       [0.33122516],\n",
       "       [0.35447717],\n",
       "       [0.35064146],\n",
       "       [0.32047832],\n",
       "       [0.3643104 ],\n",
       "       [0.32103187],\n",
       "       [0.34841067],\n",
       "       [0.3555548 ],\n",
       "       [0.33987042],\n",
       "       [0.35174695],\n",
       "       [0.3662499 ],\n",
       "       [0.31611747],\n",
       "       [0.32382375],\n",
       "       [0.3227024 ],\n",
       "       [0.31504804],\n",
       "       [0.33525816],\n",
       "       [0.34952918],\n",
       "       [0.32835972],\n",
       "       [0.36332232],\n",
       "       [0.34159422],\n",
       "       [0.3289312 ],\n",
       "       [0.33237565],\n",
       "       [0.35229695],\n",
       "       [0.34615636],\n",
       "       [0.32721916],\n",
       "       [0.3118961 ],\n",
       "       [0.3381425 ],\n",
       "       [0.3171957 ],\n",
       "       [0.34897077]], dtype=float32)"
      ]
     },
     "execution_count": 50,
     "metadata": {},
     "output_type": "execute_result"
    }
   ],
   "source": [
    "preds = model.predict(x[70:])\n",
    "preds\n",
    "# 뒤의 30개의 예측값을 출력한다."
   ]
  },
  {
   "cell_type": "code",
   "execution_count": 51,
   "id": "3fdbbf67-6eb0-4cb4-8aef-c09d4517289b",
   "metadata": {},
   "outputs": [
    {
     "data": {
      "text/plain": [
       "7.822824481589305"
      ]
     },
     "execution_count": 51,
     "metadata": {},
     "output_type": "execute_result"
    }
   ],
   "source": [
    "# 실제와 얼마나 같은가? 판단\n",
    "# 잘 맟췄다의 기준은 숫자의 차이가 없어야한다.\n",
    "np.sum(np.abs(preds - x[70:]**2))/30   # 뺀 값들의 절댓값 차이를 더해서 나눈것\n",
    "\n",
    "# 하지만 이건 kerse에서 다 해준다."
   ]
  },
  {
   "cell_type": "markdown",
   "id": "26115cad-19f5-4be3-bbe2-9e8683155e45",
   "metadata": {},
   "source": [
    "# 예측도를 시각적으로 표현하기"
   ]
  },
  {
   "cell_type": "code",
   "execution_count": 52,
   "id": "4da15328-c038-4f9b-b1d4-720173c3bdfe",
   "metadata": {},
   "outputs": [
    {
     "data": {
      "text/plain": [
       "<matplotlib.collections.PathCollection at 0x1a6f27594f0>"
      ]
     },
     "execution_count": 52,
     "metadata": {},
     "output_type": "execute_result"
    },
    {
     "data": {
      "image/png": "[encoded data removed]",
      "text/plain": [
       "<Figure size 432x288 with 1 Axes>"
      ]
     },
     "metadata": {
      "needs_background": "light"
     },
     "output_type": "display_data"
    }
   ],
   "source": [
    "# 좀 더 시각적으로 보기\n",
    "plt.scatter(x[70:], x[70:]**2)  # 이것이 정답"
   ]
  },
  {
   "cell_type": "code",
   "execution_count": 53,
   "id": "1fc66605-9225-40e2-87dc-66113996ebc7",
   "metadata": {},
   "outputs": [
    {
     "data": {
      "text/plain": [
       "<matplotlib.collections.PathCollection at 0x1a6f27cd430>"
      ]
     },
     "execution_count": 53,
     "metadata": {},
     "output_type": "execute_result"
    },
    {
     "data": {
      "image/png": "[encoded data removed]",
      "text/plain": [
       "<Figure size 432x288 with 1 Axes>"
      ]
     },
     "metadata": {
      "needs_background": "light"
     },
     "output_type": "display_data"
    }
   ],
   "source": [
    "# 예측한건 이거와 같을까?\n",
    "plt.scatter(x[70:], x[70:]**2)\n",
    "plt.scatter(x[70:], preds)\n",
    "# 결과는 완전히 틀렸다."
   ]
  },
  {
   "cell_type": "markdown",
   "id": "725686f8-67e4-4e86-afae-cf30ca976aa3",
   "metadata": {},
   "source": [
    "# 수정 후 다시 예측하기"
   ]
  },
  {
   "cell_type": "code",
   "execution_count": 54,
   "id": "ea602f9b-a95d-4f67-a1b5-24a3933d518a",
   "metadata": {},
   "outputs": [],
   "source": [
    "# 위에 수정해서 다시 예측하기\n",
    "model = Sequential()\n",
    "\n",
    "model.add(Input(1))\n",
    "model.add(Dense(10, activation='tanh')) \n",
    "model.add(Dense(10, activation='tanh'))\n",
    "model.add(Dense(1))  \n",
    "\n",
    "model.compile(optimizer='SGD', loss = 'mse', metrics = 'mse')"
   ]
  },
  {
   "cell_type": "code",
   "execution_count": 55,
   "id": "bf74954e-e4a8-4983-8be9-703a06a30207",
   "metadata": {},
   "outputs": [
    {
     "data": {
      "text/plain": [
       "<keras.callbacks.History at 0x1a6f2855160>"
      ]
     },
     "execution_count": 55,
     "metadata": {},
     "output_type": "execute_result"
    }
   ],
   "source": [
    "model.fit(x[:70], x[:70]**2, epochs=1000, verbose=0, batch_size=16)"
   ]
  },
  {
   "cell_type": "code",
   "execution_count": 56,
   "id": "d1a8fc73-96b8-4151-b26c-260278995284",
   "metadata": {},
   "outputs": [
    {
     "name": "stdout",
     "output_type": "stream",
     "text": [
      "1/1 [==============================] - 0s 49ms/step\n"
     ]
    }
   ],
   "source": [
    "preds = model.predict(x[70:])"
   ]
  },
  {
   "cell_type": "code",
   "execution_count": 57,
   "id": "2cd76e0c-e616-483f-924f-625aecc641be",
   "metadata": {},
   "outputs": [
    {
     "data": {
      "text/plain": [
       "<matplotlib.collections.PathCollection at 0x1a6f3aa8880>"
      ]
     },
     "execution_count": 57,
     "metadata": {},
     "output_type": "execute_result"
    },
    {
     "data": {
      "image/png": "[encoded data removed]",
      "text/plain": [
       "<Figure size 432x288 with 1 Axes>"
      ]
     },
     "metadata": {
      "needs_background": "light"
     },
     "output_type": "display_data"
    }
   ],
   "source": [
    "plt.scatter(x[70:], x[70:]**2)\n",
    "plt.scatter(x[70:], preds)\n",
    "\n",
    "# 결과는 파란색에 거의 맞추어서 그려졌다."
   ]
  },
  {
   "cell_type": "markdown",
   "id": "a4faae93-24a2-4a5e-b35d-4bf1854c7584",
   "metadata": {},
   "source": [
    "# 정리"
   ]
  },
  {
   "cell_type": "code",
   "execution_count": 58,
   "id": "68886694-dca3-48e9-b25b-074e2da3baa8",
   "metadata": {},
   "outputs": [],
   "source": [
    "# 그래스에서 살짝 떠있는거 최대한 없애기(오차가 발생했기 때문)\n",
    "# 그럴려면 데이터를 많이 주면 된다.\n",
    "x = np.linspace(-1, 1, 1000)\n",
    "np.random.shuffle(x)"
   ]
  },
  {
   "cell_type": "code",
   "execution_count": 59,
   "id": "d67e6cd9-7496-41eb-ab98-bf0e7a4ce9c8",
   "metadata": {},
   "outputs": [],
   "source": [
    "model = Sequential()\n",
    "\n",
    "model.add(Input(1))\n",
    "model.add(Dense(10, activation='tanh'))\n",
    "model.add(Dense(10, activation='tanh'))\n",
    "model.add(Dense(1)) \n",
    "\n",
    "model.compile(optimizer='SGD', loss = 'mse', metrics = 'mse')"
   ]
  },
  {
   "cell_type": "code",
   "execution_count": 60,
   "id": "3de4d46d-8519-47e6-b5f7-3cf207ed45e0",
   "metadata": {},
   "outputs": [
    {
     "data": {
      "text/plain": [
       "<keras.callbacks.History at 0x1a6f3af9d60>"
      ]
     },
     "execution_count": 60,
     "metadata": {},
     "output_type": "execute_result"
    }
   ],
   "source": [
    "n = 800\n",
    "model.fit(x[:n], x[:n]**2, epochs=100, verbose=0, batch_size=16)"
   ]
  },
  {
   "cell_type": "code",
   "execution_count": 61,
   "id": "ddd15e4d-85af-4a0a-9dda-90426d4de2fe",
   "metadata": {},
   "outputs": [
    {
     "name": "stdout",
     "output_type": "stream",
     "text": [
      "7/7 [==============================] - 0s 831us/step\n"
     ]
    }
   ],
   "source": [
    "preds = model.predict(x[n:])"
   ]
  },
  {
   "cell_type": "code",
   "execution_count": 62,
   "id": "40942241-95f3-46de-98c4-d7958248ab13",
   "metadata": {},
   "outputs": [
    {
     "data": {
      "text/plain": [
       "<matplotlib.collections.PathCollection at 0x1a6f4cf3b80>"
      ]
     },
     "execution_count": 62,
     "metadata": {},
     "output_type": "execute_result"
    },
    {
     "data": {
      "image/png": "[encoded data removed]",
      "text/plain": [
       "<Figure size 432x288 with 1 Axes>"
      ]
     },
     "metadata": {
      "needs_background": "light"
     },
     "output_type": "display_data"
    }
   ],
   "source": [
    "plt.scatter(x[n:], x[n:]**2)  # 진짜\n",
    "plt.scatter(x[n:], preds)     # 예측\n",
    "\n",
    "# 출력결과 얼추 맞추어졌다.(성능이 좋아짐)\n",
    "#여기까지 딥러닝을 하는 행위이다."
   ]
  },
  {
   "cell_type": "code",
   "execution_count": null,
   "id": "ebe9c5a4-0921-4068-a993-4b8ee0331fee",
   "metadata": {},
   "outputs": [],
   "source": []
  },
  {
   "cell_type": "code",
   "execution_count": null,
   "id": "68826eca-b5eb-4d2c-a199-83f4e45338fe",
   "metadata": {},
   "outputs": [],
   "source": []
  },
  {
   "cell_type": "code",
   "execution_count": null,
   "id": "d04b877a-1807-4652-9b5d-7d614333d659",
   "metadata": {},
   "outputs": [],
   "source": []
  },
  {
   "cell_type": "code",
   "execution_count": null,
   "id": "ba150689-f32e-4c01-b353-5579e28dd9d9",
   "metadata": {},
   "outputs": [],
   "source": []
  },
  {
   "cell_type": "code",
   "execution_count": null,
   "id": "8ec1e102-72d3-462f-b6cb-bbdbc2adf9c7",
   "metadata": {},
   "outputs": [],
   "source": []
  },
  {
   "cell_type": "code",
   "execution_count": null,
   "id": "9893b60e-4c05-418c-a496-634aabbd5392",
   "metadata": {},
   "outputs": [],
   "source": []
  },
  {
   "cell_type": "markdown",
   "id": "6b7104db-0199-4b25-95b9-d930b5dec6c0",
   "metadata": {},
   "source": [
    "# 책 시작"
   ]
  },
  {
   "cell_type": "code",
   "execution_count": 63,
   "id": "602f8d0c-3b23-4dd0-9c82-58f861714907",
   "metadata": {},
   "outputs": [],
   "source": [
    "import keras"
   ]
  },
  {
   "cell_type": "code",
   "execution_count": 65,
   "id": "5209619e-4d6f-4ac4-b5a6-ba990a679a83",
   "metadata": {},
   "outputs": [
    {
     "name": "stdout",
     "output_type": "stream",
     "text": [
      "Downloading data from https://storage.googleapis.com/tensorflow/tf-keras-datasets/mnist.npz\n",
      "11490434/11490434 [==============================] - 0s 0us/step\n"
     ]
    }
   ],
   "source": [
    "from keras.datasets import mnist\n",
    "(train_images, train_labels), (test_images, test_labels) = mnist.load_data()"
   ]
  },
  {
   "cell_type": "code",
   "execution_count": 67,
   "id": "acab5e65-985d-4b47-b4cb-c8a71160190c",
   "metadata": {
    "collapsed": true,
    "jupyter": {
     "outputs_hidden": true
    },
    "tags": []
   },
   "outputs": [
    {
     "data": {
      "text/plain": [
       "array([[[0, 0, 0, ..., 0, 0, 0],\n",
       "        [0, 0, 0, ..., 0, 0, 0],\n",
       "        [0, 0, 0, ..., 0, 0, 0],\n",
       "        ...,\n",
       "        [0, 0, 0, ..., 0, 0, 0],\n",
       "        [0, 0, 0, ..., 0, 0, 0],\n",
       "        [0, 0, 0, ..., 0, 0, 0]],\n",
       "\n",
       "       [[0, 0, 0, ..., 0, 0, 0],\n",
       "        [0, 0, 0, ..., 0, 0, 0],\n",
       "        [0, 0, 0, ..., 0, 0, 0],\n",
       "        ...,\n",
       "        [0, 0, 0, ..., 0, 0, 0],\n",
       "        [0, 0, 0, ..., 0, 0, 0],\n",
       "        [0, 0, 0, ..., 0, 0, 0]],\n",
       "\n",
       "       [[0, 0, 0, ..., 0, 0, 0],\n",
       "        [0, 0, 0, ..., 0, 0, 0],\n",
       "        [0, 0, 0, ..., 0, 0, 0],\n",
       "        ...,\n",
       "        [0, 0, 0, ..., 0, 0, 0],\n",
       "        [0, 0, 0, ..., 0, 0, 0],\n",
       "        [0, 0, 0, ..., 0, 0, 0]],\n",
       "\n",
       "       ...,\n",
       "\n",
       "       [[0, 0, 0, ..., 0, 0, 0],\n",
       "        [0, 0, 0, ..., 0, 0, 0],\n",
       "        [0, 0, 0, ..., 0, 0, 0],\n",
       "        ...,\n",
       "        [0, 0, 0, ..., 0, 0, 0],\n",
       "        [0, 0, 0, ..., 0, 0, 0],\n",
       "        [0, 0, 0, ..., 0, 0, 0]],\n",
       "\n",
       "       [[0, 0, 0, ..., 0, 0, 0],\n",
       "        [0, 0, 0, ..., 0, 0, 0],\n",
       "        [0, 0, 0, ..., 0, 0, 0],\n",
       "        ...,\n",
       "        [0, 0, 0, ..., 0, 0, 0],\n",
       "        [0, 0, 0, ..., 0, 0, 0],\n",
       "        [0, 0, 0, ..., 0, 0, 0]],\n",
       "\n",
       "       [[0, 0, 0, ..., 0, 0, 0],\n",
       "        [0, 0, 0, ..., 0, 0, 0],\n",
       "        [0, 0, 0, ..., 0, 0, 0],\n",
       "        ...,\n",
       "        [0, 0, 0, ..., 0, 0, 0],\n",
       "        [0, 0, 0, ..., 0, 0, 0],\n",
       "        [0, 0, 0, ..., 0, 0, 0]]], dtype=uint8)"
      ]
     },
     "execution_count": 67,
     "metadata": {},
     "output_type": "execute_result"
    }
   ],
   "source": [
    "train_images # X값"
   ]
  },
  {
   "cell_type": "code",
   "execution_count": 69,
   "id": "165bc447-e5d5-4a5d-940e-037c5293f483",
   "metadata": {},
   "outputs": [
    {
     "data": {
      "text/plain": [
       "array([5, 0, 4, ..., 5, 6, 8], dtype=uint8)"
      ]
     },
     "execution_count": 69,
     "metadata": {},
     "output_type": "execute_result"
    }
   ],
   "source": [
    "train_labels #Y값, 손글씨"
   ]
  },
  {
   "cell_type": "code",
   "execution_count": 75,
   "id": "5f139867-0fa7-4c6b-9a98-4466140dfc7b",
   "metadata": {
    "collapsed": true,
    "jupyter": {
     "outputs_hidden": true
    },
    "tags": []
   },
   "outputs": [
    {
     "data": {
      "text/plain": [
       "array([[  0,   0,   0,   0,   0,   0,   0,   0,   0,   0,   0,   0,   0,\n",
       "          0,   0,   0,   0,   0,   0,   0,   0,   0,   0,   0,   0,   0,\n",
       "          0,   0],\n",
       "       [  0,   0,   0,   0,   0,   0,   0,   0,   0,   0,   0,   0,   0,\n",
       "          0,   0,   0,   0,   0,   0,   0,   0,   0,   0,   0,   0,   0,\n",
       "          0,   0],\n",
       "       [  0,   0,   0,   0,   0,   0,   0,   0,   0,   0,   0,   0,   0,\n",
       "          0,   0,   0,   0,   0,   0,   0,   0,   0,   0,   0,   0,   0,\n",
       "          0,   0],\n",
       "       [  0,   0,   0,   0,   0,   0,   0,   0,   0,   0,   0,   0,   0,\n",
       "          0,   0,   0,   0,   0,   0,   0,   0,   0,   0,   0,   0,   0,\n",
       "          0,   0],\n",
       "       [  0,   0,   0,   0,   0,   0,   0,   0,   0,   0,   0,   0,   0,\n",
       "          0,   0,   0,   0,   0,   0,   0,   0,   0,   0,   0,   0,   0,\n",
       "          0,   0],\n",
       "       [  0,   0,   0,   0,   0,   0,   0,   0,   0,   0,   0,   0,   3,\n",
       "         18,  18,  18, 126, 136, 175,  26, 166, 255, 247, 127,   0,   0,\n",
       "          0,   0],\n",
       "       [  0,   0,   0,   0,   0,   0,   0,   0,  30,  36,  94, 154, 170,\n",
       "        253, 253, 253, 253, 253, 225, 172, 253, 242, 195,  64,   0,   0,\n",
       "          0,   0],\n",
       "       [  0,   0,   0,   0,   0,   0,   0,  49, 238, 253, 253, 253, 253,\n",
       "        253, 253, 253, 253, 251,  93,  82,  82,  56,  39,   0,   0,   0,\n",
       "          0,   0],\n",
       "       [  0,   0,   0,   0,   0,   0,   0,  18, 219, 253, 253, 253, 253,\n",
       "        253, 198, 182, 247, 241,   0,   0,   0,   0,   0,   0,   0,   0,\n",
       "          0,   0],\n",
       "       [  0,   0,   0,   0,   0,   0,   0,   0,  80, 156, 107, 253, 253,\n",
       "        205,  11,   0,  43, 154,   0,   0,   0,   0,   0,   0,   0,   0,\n",
       "          0,   0],\n",
       "       [  0,   0,   0,   0,   0,   0,   0,   0,   0,  14,   1, 154, 253,\n",
       "         90,   0,   0,   0,   0,   0,   0,   0,   0,   0,   0,   0,   0,\n",
       "          0,   0],\n",
       "       [  0,   0,   0,   0,   0,   0,   0,   0,   0,   0,   0, 139, 253,\n",
       "        190,   2,   0,   0,   0,   0,   0,   0,   0,   0,   0,   0,   0,\n",
       "          0,   0],\n",
       "       [  0,   0,   0,   0,   0,   0,   0,   0,   0,   0,   0,  11, 190,\n",
       "        253,  70,   0,   0,   0,   0,   0,   0,   0,   0,   0,   0,   0,\n",
       "          0,   0],\n",
       "       [  0,   0,   0,   0,   0,   0,   0,   0,   0,   0,   0,   0,  35,\n",
       "        241, 225, 160, 108,   1,   0,   0,   0,   0,   0,   0,   0,   0,\n",
       "          0,   0],\n",
       "       [  0,   0,   0,   0,   0,   0,   0,   0,   0,   0,   0,   0,   0,\n",
       "         81, 240, 253, 253, 119,  25,   0,   0,   0,   0,   0,   0,   0,\n",
       "          0,   0],\n",
       "       [  0,   0,   0,   0,   0,   0,   0,   0,   0,   0,   0,   0,   0,\n",
       "          0,  45, 186, 253, 253, 150,  27,   0,   0,   0,   0,   0,   0,\n",
       "          0,   0],\n",
       "       [  0,   0,   0,   0,   0,   0,   0,   0,   0,   0,   0,   0,   0,\n",
       "          0,   0,  16,  93, 252, 253, 187,   0,   0,   0,   0,   0,   0,\n",
       "          0,   0],\n",
       "       [  0,   0,   0,   0,   0,   0,   0,   0,   0,   0,   0,   0,   0,\n",
       "          0,   0,   0,   0, 249, 253, 249,  64,   0,   0,   0,   0,   0,\n",
       "          0,   0],\n",
       "       [  0,   0,   0,   0,   0,   0,   0,   0,   0,   0,   0,   0,   0,\n",
       "          0,  46, 130, 183, 253, 253, 207,   2,   0,   0,   0,   0,   0,\n",
       "          0,   0],\n",
       "       [  0,   0,   0,   0,   0,   0,   0,   0,   0,   0,   0,   0,  39,\n",
       "        148, 229, 253, 253, 253, 250, 182,   0,   0,   0,   0,   0,   0,\n",
       "          0,   0],\n",
       "       [  0,   0,   0,   0,   0,   0,   0,   0,   0,   0,  24, 114, 221,\n",
       "        253, 253, 253, 253, 201,  78,   0,   0,   0,   0,   0,   0,   0,\n",
       "          0,   0],\n",
       "       [  0,   0,   0,   0,   0,   0,   0,   0,  23,  66, 213, 253, 253,\n",
       "        253, 253, 198,  81,   2,   0,   0,   0,   0,   0,   0,   0,   0,\n",
       "          0,   0],\n",
       "       [  0,   0,   0,   0,   0,   0,  18, 171, 219, 253, 253, 253, 253,\n",
       "        195,  80,   9,   0,   0,   0,   0,   0,   0,   0,   0,   0,   0,\n",
       "          0,   0],\n",
       "       [  0,   0,   0,   0,  55, 172, 226, 253, 253, 253, 253, 244, 133,\n",
       "         11,   0,   0,   0,   0,   0,   0,   0,   0,   0,   0,   0,   0,\n",
       "          0,   0],\n",
       "       [  0,   0,   0,   0, 136, 253, 253, 253, 212, 135, 132,  16,   0,\n",
       "          0,   0,   0,   0,   0,   0,   0,   0,   0,   0,   0,   0,   0,\n",
       "          0,   0],\n",
       "       [  0,   0,   0,   0,   0,   0,   0,   0,   0,   0,   0,   0,   0,\n",
       "          0,   0,   0,   0,   0,   0,   0,   0,   0,   0,   0,   0,   0,\n",
       "          0,   0],\n",
       "       [  0,   0,   0,   0,   0,   0,   0,   0,   0,   0,   0,   0,   0,\n",
       "          0,   0,   0,   0,   0,   0,   0,   0,   0,   0,   0,   0,   0,\n",
       "          0,   0],\n",
       "       [  0,   0,   0,   0,   0,   0,   0,   0,   0,   0,   0,   0,   0,\n",
       "          0,   0,   0,   0,   0,   0,   0,   0,   0,   0,   0,   0,   0,\n",
       "          0,   0]], dtype=uint8)"
      ]
     },
     "execution_count": 75,
     "metadata": {},
     "output_type": "execute_result"
    }
   ],
   "source": [
    "# 첫 번째 들어가 있는값을 본다.\n",
    "# 첫 번째 값은 5였다.\n",
    "# 그렇게는 안보이지만 이건 전체적으로 5를 나타내고 있다.\n",
    "train_images[0]"
   ]
  },
  {
   "cell_type": "code",
   "execution_count": 78,
   "id": "1c3ce871-f29f-4d6f-b888-b3d0fcf57e43",
   "metadata": {
    "collapsed": true,
    "jupyter": {
     "outputs_hidden": true
    },
    "tags": []
   },
   "outputs": [
    {
     "name": "stdout",
     "output_type": "stream",
     "text": [
      "[[  0   0   0   0   0   0   0   0   0   0   0   0   0   0   0   0   0   0   0   0   0   0   0   0   0   0   0   0]\n",
      " [  0   0   0   0   0   0   0   0   0   0   0   0   0   0   0   0   0   0   0   0   0   0   0   0   0   0   0   0]\n",
      " [  0   0   0   0   0   0   0   0   0   0   0   0   0   0   0   0   0   0   0   0   0   0   0   0   0   0   0   0]\n",
      " [  0   0   0   0   0   0   0   0   0   0   0   0   0   0   0   0   0   0   0   0   0   0   0   0   0   0   0   0]\n",
      " [  0   0   0   0   0   0   0   0   0   0   0   0   0   0   0   0   0   0   0   0   0   0   0   0   0   0   0   0]\n",
      " [  0   0   0   0   0   0   0   0   0   0   0   0   3  18  18  18 126 136 175  26 166 255 247 127   0   0   0   0]\n",
      " [  0   0   0   0   0   0   0   0  30  36  94 154 170 253 253 253 253 253 225 172 253 242 195  64   0   0   0   0]\n",
      " [  0   0   0   0   0   0   0  49 238 253 253 253 253 253 253 253 253 251  93  82  82  56  39   0   0   0   0   0]\n",
      " [  0   0   0   0   0   0   0  18 219 253 253 253 253 253 198 182 247 241   0   0   0   0   0   0   0   0   0   0]\n",
      " [  0   0   0   0   0   0   0   0  80 156 107 253 253 205  11   0  43 154   0   0   0   0   0   0   0   0   0   0]\n",
      " [  0   0   0   0   0   0   0   0   0  14   1 154 253  90   0   0   0   0   0   0   0   0   0   0   0   0   0   0]\n",
      " [  0   0   0   0   0   0   0   0   0   0   0 139 253 190   2   0   0   0   0   0   0   0   0   0   0   0   0   0]\n",
      " [  0   0   0   0   0   0   0   0   0   0   0  11 190 253  70   0   0   0   0   0   0   0   0   0   0   0   0   0]\n",
      " [  0   0   0   0   0   0   0   0   0   0   0   0  35 241 225 160 108   1   0   0   0   0   0   0   0   0   0   0]\n",
      " [  0   0   0   0   0   0   0   0   0   0   0   0   0  81 240 253 253 119  25   0   0   0   0   0   0   0   0   0]\n",
      " [  0   0   0   0   0   0   0   0   0   0   0   0   0   0  45 186 253 253 150  27   0   0   0   0   0   0   0   0]\n",
      " [  0   0   0   0   0   0   0   0   0   0   0   0   0   0   0  16  93 252 253 187   0   0   0   0   0   0   0   0]\n",
      " [  0   0   0   0   0   0   0   0   0   0   0   0   0   0   0   0   0 249 253 249  64   0   0   0   0   0   0   0]\n",
      " [  0   0   0   0   0   0   0   0   0   0   0   0   0   0  46 130 183 253 253 207   2   0   0   0   0   0   0   0]\n",
      " [  0   0   0   0   0   0   0   0   0   0   0   0  39 148 229 253 253 253 250 182   0   0   0   0   0   0   0   0]\n",
      " [  0   0   0   0   0   0   0   0   0   0  24 114 221 253 253 253 253 201  78   0   0   0   0   0   0   0   0   0]\n",
      " [  0   0   0   0   0   0   0   0  23  66 213 253 253 253 253 198  81   2   0   0   0   0   0   0   0   0   0   0]\n",
      " [  0   0   0   0   0   0  18 171 219 253 253 253 253 195  80   9   0   0   0   0   0   0   0   0   0   0   0   0]\n",
      " [  0   0   0   0  55 172 226 253 253 253 253 244 133  11   0   0   0   0   0   0   0   0   0   0   0   0   0   0]\n",
      " [  0   0   0   0 136 253 253 253 212 135 132  16   0   0   0   0   0   0   0   0   0   0   0   0   0   0   0   0]\n",
      " [  0   0   0   0   0   0   0   0   0   0   0   0   0   0   0   0   0   0   0   0   0   0   0   0   0   0   0   0]\n",
      " [  0   0   0   0   0   0   0   0   0   0   0   0   0   0   0   0   0   0   0   0   0   0   0   0   0   0   0   0]\n",
      " [  0   0   0   0   0   0   0   0   0   0   0   0   0   0   0   0   0   0   0   0   0   0   0   0   0   0   0   0]]\n"
     ]
    }
   ],
   "source": [
    "# 좀 더 예쁘게 보기\n",
    "# 0은 숫자 0이 아니라 검정색이라고 생각하고 숫자가 크면 클수록 밝아진다고 인식하기\n",
    "np.set_printoptions(linewidth=28*28)\n",
    "print(train_images[0])"
   ]
  },
  {
   "cell_type": "code",
   "execution_count": 80,
   "id": "7a477d08-5b8e-4256-93dc-df3546e69d58",
   "metadata": {
    "tags": []
   },
   "outputs": [
    {
     "data": {
      "image/png": "[encoded data removed]",
      "text/plain": [
       "<Figure size 432x288 with 1 Axes>"
      ]
     },
     "metadata": {
      "needs_background": "light"
     },
     "output_type": "display_data"
    }
   ],
   "source": [
    "# 사람눈으로 해석한 것\n",
    "plt.imshow(train_images[0], cmap=\"gray\"); "
   ]
  },
  {
   "cell_type": "code",
   "execution_count": 82,
   "id": "5af7d863-5bc8-43b1-ae20-be1c9cf55592",
   "metadata": {},
   "outputs": [
    {
     "data": {
      "text/plain": [
       "5"
      ]
     },
     "execution_count": 82,
     "metadata": {},
     "output_type": "execute_result"
    }
   ],
   "source": [
    "# 그러면 첫번째 숫자의 레이블은 어떻게 잡혀있나?\n",
    "train_labels[0]"
   ]
  },
  {
   "cell_type": "code",
   "execution_count": 73,
   "id": "2891f095-5615-4333-b38d-454d6b722d2b",
   "metadata": {},
   "outputs": [
    {
     "data": {
      "text/plain": [
       "(60000, 28, 28)"
      ]
     },
     "execution_count": 73,
     "metadata": {},
     "output_type": "execute_result"
    }
   ],
   "source": [
    "# 마지막 장의 숫자는 무엇일까요?\n",
    "# 트레인 이미지는 28 바이 28로 한장의 사진을 나타내고 있다.\n",
    "train_images.shape"
   ]
  },
  {
   "cell_type": "code",
   "execution_count": null,
   "id": "b726b85a-d529-4c6f-a0ff-e8a9e4ed6522",
   "metadata": {},
   "outputs": [],
   "source": []
  },
  {
   "cell_type": "code",
   "execution_count": null,
   "id": "55129f0f-ac9a-4810-92bb-e5f104f8e87c",
   "metadata": {},
   "outputs": [],
   "source": []
  },
  {
   "cell_type": "code",
   "execution_count": null,
   "id": "ff3cb05e-aa9d-43ab-9f42-009bceb9a652",
   "metadata": {},
   "outputs": [],
   "source": []
  },
  {
   "cell_type": "code",
   "execution_count": 83,
   "id": "b635ec8b-8dbe-4fa3-a054-e7a6f1cd88e7",
   "metadata": {},
   "outputs": [],
   "source": [
    "# 코드 2-2\n",
    "# 학습하고 예측하기\n",
    "from keras.layers import Dense"
   ]
  },
  {
   "cell_type": "code",
   "execution_count": 86,
   "id": "bc170e49-6ded-40da-8d55-8ddd4d373ea3",
   "metadata": {},
   "outputs": [],
   "source": [
    "# 데이터 준비하기\n",
    "# 딥러닝에서는 정수를 쓰지 않고 0부터 1까지의 소수를 주로 쓴다.\n",
    "train_images = train_images.reshape(60000, 28*28)  # 3차원의 자료를 2차원의 자료로 데이터 타입을 바꾼다.\n",
    "                                     # 즉 위의 정사각형의 것들을 한줄로 세운다.\n",
    "                                     # 한줄로 세우는 의미는 구조적으로 두 줄은 못받고 한 줄만 받을 수 있다.\n",
    "train_images = train_images/225.0 # 나누면 제일 큰 녀석은 1, 제일 작은 녀석은 0, 중간은 다 소수로 변한다."
   ]
  },
  {
   "cell_type": "code",
   "execution_count": 88,
   "id": "ef3fe1ed-6b6c-4647-bee1-60ffa0bd17ad",
   "metadata": {},
   "outputs": [],
   "source": [
    "test_images = test_images.reshape(10000, 28*28)\n",
    "test_images = test_images/225.0"
   ]
  },
  {
   "cell_type": "code",
   "execution_count": 89,
   "id": "d91928c1-4a4d-4d6b-a9b3-0ecfa2ed469d",
   "metadata": {},
   "outputs": [],
   "source": [
    "model = Sequential() # 모델 잡기\n",
    "\n",
    "model.add(Dense(512, activation='relu'))\n",
    "model.add(Dense(10, activation='softmax'))  # 이렇게 층 2개가 만들어졌다."
   ]
  },
  {
   "cell_type": "code",
   "execution_count": 91,
   "id": "3a795358-384c-4504-94b8-3c2ce4b40edb",
   "metadata": {},
   "outputs": [],
   "source": [
    "model.compile(optimizer='rmsprop', \n",
    "             loss = 'sparse_categorical_crossentropy',  # 손실함수\n",
    "             metrics = 'acc')  #평가"
   ]
  },
  {
   "cell_type": "code",
   "execution_count": 92,
   "id": "fa6ff2f3-f6da-48dc-abe0-746ca27bf269",
   "metadata": {},
   "outputs": [
    {
     "name": "stdout",
     "output_type": "stream",
     "text": [
      "Epoch 1/5\n",
      "469/469 [==============================] - 4s 7ms/step - loss: 0.2508 - acc: 0.9265\n",
      "Epoch 2/5\n",
      "469/469 [==============================] - 3s 7ms/step - loss: 0.0987 - acc: 0.9708\n",
      "Epoch 3/5\n",
      "469/469 [==============================] - 3s 7ms/step - loss: 0.0654 - acc: 0.9800\n",
      "Epoch 4/5\n",
      "469/469 [==============================] - 3s 7ms/step - loss: 0.0464 - acc: 0.9855\n",
      "Epoch 5/5\n",
      "469/469 [==============================] - 3s 7ms/step - loss: 0.0355 - acc: 0.9890\n"
     ]
    },
    {
     "data": {
      "text/plain": [
       "<keras.callbacks.History at 0x1a6f925d820>"
      ]
     },
     "execution_count": 92,
     "metadata": {},
     "output_type": "execute_result"
    }
   ],
   "source": [
    "model.fit(train_images, train_labels, epochs=5, batch_size = 128)"
   ]
  },
  {
   "cell_type": "markdown",
   "id": "4ba965cc-da21-4512-8a83-ddd0873e2729",
   "metadata": {},
   "source": [
    "트레인 이미지와 레이블을 알아서 수정했더니 acc가 0.9로 높게 나오게 되었다."
   ]
  },
  {
   "cell_type": "markdown",
   "id": "f7205845-e3a3-46c0-82f6-52b24ea03494",
   "metadata": {},
   "source": [
    "batch는 한 묶음이라고 한다.\n",
    "\n",
    "즉 batch_size = 128는 128개를 한 묶음으로 하겠다는 이야기이다. \n",
    "\n",
    "128개는 사진의 갯수인데 이걸 한꺼번에 한방에 처리하겠다는 것이 batch_size이다.\n"
   ]
  },
  {
   "cell_type": "code",
   "execution_count": 93,
   "id": "fe58d589-1bac-4672-9ff2-87347401cbb4",
   "metadata": {},
   "outputs": [
    {
     "name": "stdout",
     "output_type": "stream",
     "text": [
      "313/313 [==============================] - 1s 2ms/step\n"
     ]
    },
    {
     "data": {
      "text/plain": [
       "array([[5.5677124e-10, 9.4252439e-10, 3.1833750e-07, ..., 9.9998081e-01, 1.2979420e-08, 1.8715533e-06],\n",
       "       [5.6483590e-10, 2.4093897e-06, 9.9999726e-01, ..., 5.6645461e-16, 2.4983324e-08, 2.1234473e-16],\n",
       "       [7.4509117e-08, 9.9968493e-01, 3.4208948e-05, ..., 1.2291022e-04, 1.0310258e-04, 2.1593715e-07],\n",
       "       ...,\n",
       "       [9.2901617e-15, 2.3012668e-11, 4.1520647e-13, ..., 6.8534575e-07, 2.7211595e-08, 1.3907354e-06],\n",
       "       [5.7979684e-12, 2.0213328e-11, 3.0602121e-13, ..., 1.8042505e-12, 3.2126361e-06, 1.3979787e-13],\n",
       "       [6.7976604e-11, 6.3763428e-18, 4.2435104e-11, ..., 8.3525952e-18, 2.6570771e-14, 1.4351035e-14]], dtype=float32)"
      ]
     },
     "execution_count": 93,
     "metadata": {},
     "output_type": "execute_result"
    }
   ],
   "source": [
    "preds = model.predict(test_images)\n",
    "preds"
   ]
  },
  {
   "cell_type": "code",
   "execution_count": 94,
   "id": "42a70fb3-1c5b-4b8f-9db7-4c243b35a958",
   "metadata": {},
   "outputs": [
    {
     "data": {
      "text/plain": [
       "array([5.5677124e-10, 9.4252439e-10, 3.1833750e-07, 1.6877186e-05, 2.3995160e-11, 5.5160509e-08, 8.9560495e-15, 9.9998081e-01, 1.2979420e-08, 1.8715533e-06], dtype=float32)"
      ]
     },
     "execution_count": 94,
     "metadata": {},
     "output_type": "execute_result"
    }
   ],
   "source": [
    "preds[0]"
   ]
  },
  {
   "cell_type": "markdown",
   "id": "f3d5e171-39a2-429b-b1cf-e3f59b316f9b",
   "metadata": {},
   "source": [
    "출력결과가 소수로 나왔다."
   ]
  },
  {
   "cell_type": "code",
   "execution_count": 95,
   "id": "773fbbf2-d41e-4611-9186-98c97ee95022",
   "metadata": {},
   "outputs": [
    {
     "data": {
      "text/plain": [
       "7"
      ]
     },
     "execution_count": 95,
     "metadata": {},
     "output_type": "execute_result"
    }
   ],
   "source": [
    "test_labels[0]"
   ]
  },
  {
   "cell_type": "markdown",
   "id": "cb111467-6f1d-4fda-873b-3ee259a39c2b",
   "metadata": {},
   "source": [
    "preds는 7로 예측하지 못했고 소수로 냈다.\n",
    "\n",
    "왜 소수로 냈을까?"
   ]
  },
  {
   "cell_type": "code",
   "execution_count": 96,
   "id": "ec2ac6d2-a02e-4569-b0b2-4bd8b244dbcf",
   "metadata": {},
   "outputs": [
    {
     "data": {
      "text/plain": [
       "10"
      ]
     },
     "execution_count": 96,
     "metadata": {},
     "output_type": "execute_result"
    }
   ],
   "source": [
    "len(preds[0])"
   ]
  },
  {
   "cell_type": "markdown",
   "id": "1979ce54-2eb9-4b9c-a016-e35b7d6a9127",
   "metadata": {},
   "source": [
    "길이를 냈더니 10이 출력되었다.\n",
    "\n",
    "이 10은 뭘까?\n",
    "\n",
    "이건 mnist는 손 글씨고 0부터 9까지 숫자가 있었다.\n",
    "\n",
    "7이라고 바로 내주지 않고 10개의 값을 내줬다."
   ]
  },
  {
   "cell_type": "code",
   "execution_count": 98,
   "id": "f6fdb656-f743-4ba4-bd9d-e658e8675d21",
   "metadata": {},
   "outputs": [
    {
     "data": {
      "text/plain": [
       "array([0., 0., 0., 0., 0., 0., 0., 1., 0., 0.], dtype=float32)"
      ]
     },
     "execution_count": 98,
     "metadata": {},
     "output_type": "execute_result"
    }
   ],
   "source": [
    "preds[0].round(1)"
   ]
  },
  {
   "cell_type": "markdown",
   "id": "a53b50cf-ef95-4aea-ac18-127502cb679c",
   "metadata": {},
   "source": [
    "원핫인코딩에서 봤던 모양이다.\n",
    "\n",
    "즉 저 1은 숫자 7에 해당하는 인덱스를 나타낸다.\n",
    "\n",
    "이것만 보고 7이라고 생각할 수 있다."
   ]
  },
  {
   "cell_type": "markdown",
   "id": "d50fba46-cc5a-4866-9cd6-25aab639ee2f",
   "metadata": {},
   "source": [
    "원 핫 인코딩이 된걸 다시 돌려서 비교하는 방법이 있다."
   ]
  },
  {
   "cell_type": "code",
   "execution_count": 99,
   "id": "064db366-a91d-4378-8392-4b72323f658b",
   "metadata": {},
   "outputs": [
    {
     "name": "stdout",
     "output_type": "stream",
     "text": [
      "313/313 [==============================] - 1s 2ms/step - loss: 0.0676 - acc: 0.9792\n"
     ]
    },
    {
     "data": {
      "text/plain": [
       "[0.06764692813158035, 0.979200005531311]"
      ]
     },
     "execution_count": 99,
     "metadata": {},
     "output_type": "execute_result"
    }
   ],
   "source": [
    "#p65\n",
    "model.evaluate(test_images, test_labels)"
   ]
  },
  {
   "cell_type": "markdown",
   "id": "709330a9-5577-4460-9a7b-60cfbccec8dd",
   "metadata": {},
   "source": [
    "예측을 하더니 결과물을 내주었다.\n",
    "\n",
    "이 2개는 위의 loss와 acc의 값을 나타내고 있다."
   ]
  },
  {
   "cell_type": "code",
   "execution_count": 100,
   "id": "c15928b7-ee2d-40eb-a26b-bebde078928d",
   "metadata": {},
   "outputs": [
    {
     "name": "stdout",
     "output_type": "stream",
     "text": [
      "Epoch 1/5\n",
      "469/469 [==============================] - 3s 7ms/step - loss: 0.0266 - acc: 0.9919\n",
      "Epoch 2/5\n",
      "469/469 [==============================] - 3s 7ms/step - loss: 0.0197 - acc: 0.9939\n",
      "Epoch 3/5\n",
      "469/469 [==============================] - 3s 7ms/step - loss: 0.0155 - acc: 0.9952\n",
      "Epoch 4/5\n",
      "469/469 [==============================] - 3s 7ms/step - loss: 0.0124 - acc: 0.9964\n",
      "Epoch 5/5\n",
      "469/469 [==============================] - 3s 7ms/step - loss: 0.0096 - acc: 0.9972\n",
      "313/313 [==============================] - 1s 2ms/step - loss: 0.0682 - acc: 0.9810\n",
      "손실은 0.06822811812162399 이고 정확도는 0.9810000061988831 입니다.\n"
     ]
    }
   ],
   "source": [
    "# 정리\n",
    "model.fit(train_images, train_labels, epochs=5, batch_size = 128)\n",
    "loss, acc = model.evaluate(test_images, test_labels)\n",
    "print(f'손실은 {loss} 이고 정확도는 {acc} 입니다.')"
   ]
  },
  {
   "cell_type": "markdown",
   "id": "f87ef5dc-41d4-407b-8d6d-4c62482ee690",
   "metadata": {},
   "source": [
    "최종 결론이다."
   ]
  },
  {
   "cell_type": "code",
   "execution_count": null,
   "id": "ce2d171f-6794-4860-bf7b-0268cb5dde63",
   "metadata": {},
   "outputs": [],
   "source": []
  }
 ],
 "metadata": {
  "kernelspec": {
   "display_name": "Python 3 (ipykernel)",
   "language": "python",
   "name": "python3"
  },
  "language_info": {
   "codemirror_mode": {
    "name": "ipython",
    "version": 3
   },
   "file_extension": ".py",
   "mimetype": "text/x-python",
   "name": "python",
   "nbconvert_exporter": "python",
   "pygments_lexer": "ipython3",
   "version": "3.9.12"
  }
 },
 "nbformat": 4,
 "nbformat_minor": 5
}
