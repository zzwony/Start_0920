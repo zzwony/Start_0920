{
  "cells": [
    {
      "cell_type": "markdown",
      "metadata": {
        "id": "view-in-github",
        "colab_type": "text"
      },
      "source": [
        "<a href=\"https://colab.research.google.com/github/zzwony/Start_0920/blob/main/%EC%84%A0%ED%98%95%EB%8C%80%EC%88%98%ED%95%99_%ED%8F%89%EA%B0%80.ipynb\" target=\"_parent\"><img src=\"https://colab.research.google.com/assets/colab-badge.svg\" alt=\"Open In Colab\"/></a>"
      ]
    },
    {
      "cell_type": "markdown",
      "metadata": {
        "id": "69Ukcyhirmnq"
      },
      "source": [
        "## 빅데이터 기반 AI 응용 솔루션 개발자 전문과정\n",
        "\n",
        "### 교과목명 : 선형대수학 \n",
        "- 평가일 : 22.12.27\n",
        "- 성명 : \n",
        "- 점수 :"
      ]
    },
    {
      "cell_type": "markdown",
      "metadata": {
        "id": "flmX1dEmrmnv"
      },
      "source": [
        "Q1. 다음을 수행하세요.\n",
        "1. np.arange(9)로 구성된 정방행렬\n",
        "2. 주대각선 원소가 [1,2,3]인 대각 정방행렬 \n",
        "3. 3행 3열로 구성된 항등행렬(단위행렬)\n",
        "4. 3행 1열로 구성된 영벡터"
      ]
    },
    {
      "cell_type": "code",
      "source": [
        "# np.arange(9)로 구성된 정방행렬\n",
        "import numpy as np\n",
        "np.arange(9).reshape(3,3)"
      ],
      "metadata": {
        "colab": {
          "base_uri": "https://localhost:8080/"
        },
        "id": "jk-wydGMgU26",
        "outputId": "72474774-889b-4bfb-8ff1-8bc7e0778a1a"
      },
      "execution_count": null,
      "outputs": [
        {
          "output_type": "execute_result",
          "data": {
            "text/plain": [
              "array([[0, 1, 2],\n",
              "       [3, 4, 5],\n",
              "       [6, 7, 8]])"
            ]
          },
          "metadata": {},
          "execution_count": 4
        }
      ]
    },
    {
      "cell_type": "code",
      "source": [
        "# 주대각선 원소가 [1,2,3]인 대각 정방행렬\n",
        "np.diag([1,2,3])"
      ],
      "metadata": {
        "colab": {
          "base_uri": "https://localhost:8080/"
        },
        "id": "upNCncqIgU85",
        "outputId": "55a9cbb4-078d-4572-b268-62624de9b32e"
      },
      "execution_count": null,
      "outputs": [
        {
          "output_type": "execute_result",
          "data": {
            "text/plain": [
              "array([[1, 0, 0],\n",
              "       [0, 2, 0],\n",
              "       [0, 0, 3]])"
            ]
          },
          "metadata": {},
          "execution_count": 5
        }
      ]
    },
    {
      "cell_type": "code",
      "source": [
        "# 3행 3열로 구성된 항등행렬(단위행렬)\n",
        "np.eye(3)"
      ],
      "metadata": {
        "colab": {
          "base_uri": "https://localhost:8080/"
        },
        "id": "jz8SDxRxgVDJ",
        "outputId": "41db87ae-dc88-49fc-ae27-60768aac15bc"
      },
      "execution_count": null,
      "outputs": [
        {
          "output_type": "execute_result",
          "data": {
            "text/plain": [
              "array([[1., 0., 0.],\n",
              "       [0., 1., 0.],\n",
              "       [0., 0., 1.]])"
            ]
          },
          "metadata": {},
          "execution_count": 7
        }
      ]
    },
    {
      "cell_type": "code",
      "source": [
        "# 3행 1열로 구성된 영벡터\n",
        "np.zeros((3,1))"
      ],
      "metadata": {
        "colab": {
          "base_uri": "https://localhost:8080/"
        },
        "id": "cVdtyYeUgVJ4",
        "outputId": "565b0801-26f9-4453-9098-d8bfd03fa7e2"
      },
      "execution_count": null,
      "outputs": [
        {
          "output_type": "execute_result",
          "data": {
            "text/plain": [
              "array([[0.],\n",
              "       [0.],\n",
              "       [0.]])"
            ]
          },
          "metadata": {},
          "execution_count": 9
        }
      ]
    },
    {
      "cell_type": "markdown",
      "metadata": {
        "id": "Apcfts-Srmnw"
      },
      "source": [
        "Q2. mt1 행렬에 대하여 다음을 수행하세요.\n",
        "1. 역행렬 mt2를 구하고 \n",
        "2. mt1과 mt2를 내적하여 단위행렬을 출력 "
      ]
    },
    {
      "cell_type": "code",
      "execution_count": null,
      "metadata": {
        "id": "f58B5WmHrmnw",
        "outputId": "11a1a1fe-7ab6-4aad-ed81-0a871defc74c",
        "colab": {
          "base_uri": "https://localhost:8080/"
        }
      },
      "outputs": [
        {
          "output_type": "execute_result",
          "data": {
            "text/plain": [
              "array([[1, 2, 1],\n",
              "       [2, 2, 3],\n",
              "       [1, 3, 1]])"
            ]
          },
          "metadata": {},
          "execution_count": 10
        }
      ],
      "source": [
        "np.random.seed(0)\n",
        "mt1 = np.random.randint(1,4,size = (3,3))\n",
        "mt1"
      ]
    },
    {
      "cell_type": "code",
      "source": [
        "# 역행렬 mt2를 구하고\n",
        "mt2 = np.linalg.inv(mt1)\n",
        "mt2"
      ],
      "metadata": {
        "colab": {
          "base_uri": "https://localhost:8080/"
        },
        "id": "yGxuTOMUhaMZ",
        "outputId": "f53453e0-360d-4a03-83dd-6858d1e900ec"
      },
      "execution_count": null,
      "outputs": [
        {
          "output_type": "execute_result",
          "data": {
            "text/plain": [
              "array([[ 7., -1., -4.],\n",
              "       [-1.,  0.,  1.],\n",
              "       [-4.,  1.,  2.]])"
            ]
          },
          "metadata": {},
          "execution_count": 12
        }
      ]
    },
    {
      "cell_type": "code",
      "source": [
        "# mt1과 mt2를 내적하여 단위행렬을 출력\n",
        "np.dot(mt1, mt2)"
      ],
      "metadata": {
        "colab": {
          "base_uri": "https://localhost:8080/"
        },
        "id": "JcphRNANhaSR",
        "outputId": "3af9869b-3f65-4e93-9cd4-c29c6e1ceba9"
      },
      "execution_count": null,
      "outputs": [
        {
          "output_type": "execute_result",
          "data": {
            "text/plain": [
              "array([[1., 0., 0.],\n",
              "       [0., 1., 0.],\n",
              "       [0., 0., 1.]])"
            ]
          },
          "metadata": {},
          "execution_count": 13
        }
      ]
    },
    {
      "cell_type": "markdown",
      "metadata": {
        "id": "wUc8wYJArmny"
      },
      "source": [
        "Q3. 행렬식의 기하학적 성질은 부피를 의미하며 2 * 2 행렬 A의 행렬식은 일종의 넓이로 이해할 수 있다.\n",
        "[[2,0],[0,2]] 배열에 대하여 행렬식을 이용하여 면적을 구하세요."
      ]
    },
    {
      "cell_type": "code",
      "source": [
        "A = np.array([[2,0], [0,2]])\n",
        "print(A)\n",
        "np.linalg.det(A)"
      ],
      "metadata": {
        "colab": {
          "base_uri": "https://localhost:8080/"
        },
        "id": "ARph0LGyhY6B",
        "outputId": "b4d13a7e-5629-4408-b698-498e440ded52"
      },
      "execution_count": null,
      "outputs": [
        {
          "output_type": "stream",
          "name": "stdout",
          "text": [
            "[[2 0]\n",
            " [0 2]]\n"
          ]
        },
        {
          "output_type": "execute_result",
          "data": {
            "text/plain": [
              "4.0"
            ]
          },
          "metadata": {},
          "execution_count": 14
        }
      ]
    },
    {
      "cell_type": "markdown",
      "metadata": {
        "id": "Mqm2282Ermny"
      },
      "source": [
        "Q4. f(x) = x**2 -4*x 방정식에 대하여 점(3,-3)에서 접선의 기울기를 구하고 그래프로 표현하면 아래와 같다. \n",
        "scipy.misc 패키지를 이용하여 그 점에서의 기울기를 구하세요."
      ]
    },
    {
      "cell_type": "code",
      "execution_count": null,
      "metadata": {
        "id": "x7Yl0TXirmnz"
      },
      "outputs": [],
      "source": [
        "import matplotlib.pylab as plt\n",
        "\n",
        "import numpy as np\n",
        "import scipy as sp\n",
        "import pandas as pd\n",
        "import statsmodels.api as sm\n",
        "import sklearn as sk\n",
        "import matplotlib as mpl\n",
        "mpl.rc('font', family='Malgun Gothic') #한글 폰트 설정\n",
        "mpl.rcParams['axes.unicode_minus'] = False # 마이너스 단위 처리"
      ]
    },
    {
      "cell_type": "code",
      "execution_count": null,
      "metadata": {
        "id": "FL-eSYk-rmnz",
        "outputId": "0a7bcc66-641d-4c66-96de-046cc829cfd9",
        "colab": {
          "base_uri": "https://localhost:8080/",
          "height": 374
        }
      },
      "outputs": [
        {
          "output_type": "display_data",
          "data": {
            "text/plain": [
              "<Figure size 432x432 with 1 Axes>"
            ],
            "image/png": "[encoded data removed]"
          },
          "metadata": {
            "needs_background": "light"
          }
        }
      ],
      "source": [
        "# 접선의 방정식 : 미분의 정의에 따라 y = f(x)라는 그래상의 점 (a,f(a))에서 접선이 기울기는 f'(a) 이다.\n",
        "def f(x):\n",
        "    return(x**2 - 4*x)\n",
        "def g(x):\n",
        "    return(2*x -9)\n",
        "\n",
        "x = np.linspace(-4, 8, 500)\n",
        "fig = plt.figure(figsize=(6,6))\n",
        "plt.scatter([3],[-3],c='b')\n",
        "plt.plot(x, f(x), '-', lw=1, c='b')\n",
        "plt.plot(x, g(x), '-', lw=1, c='r')\n",
        "plt.plot([x.min(), x.max()], [0, 0], lw=2, c='k')\n",
        "plt.plot([0, 0], [g(x).min(), f(x).max()], lw=2, c='k')\n",
        "plt.grid()"
      ]
    },
    {
      "cell_type": "code",
      "source": [
        "# scipy.misc 패키지를 이용하여 그 점에서의 기울기를 구하기"
      ],
      "metadata": {
        "id": "-B5QKLDIihQB"
      },
      "execution_count": null,
      "outputs": []
    },
    {
      "cell_type": "markdown",
      "metadata": {
        "id": "mZvfhGbWrmn0"
      },
      "source": [
        "Q5. 아래 지수함수에 대응하는 로그함수를 그래프로 표현하세요."
      ]
    },
    {
      "cell_type": "code",
      "execution_count": null,
      "metadata": {
        "id": "fOtxZaiWrmn0",
        "outputId": "578eedce-8897-46ed-a012-96ef34de6a8a"
      },
      "outputs": [
        {
          "data": {
            "image/png": "[encoded data removed]",
            "text/plain": [
              "<Figure size 720x432 with 1 Axes>"
            ]
          },
          "metadata": {
            "needs_background": "light"
          },
          "output_type": "display_data"
        }
      ],
      "source": [
        "import numpy as np\n",
        "import matplotlib as mpl\n",
        "import matplotlib.pyplot as plt\n",
        "mpl.rc('font', family='Malgun Gothic') #한글 폰트 설정\n",
        "mpl.rcParams['axes.unicode_minus'] = False # 마이너스 단위 처리\n",
        "\n",
        "# 지수함수의 그래프 1\n",
        "xx = np.linspace(-2, 2, 100)\n",
        "yy = np.exp(xx)\n",
        "plt.figure(figsize=(10,6))\n",
        "plt.title(\"지수함수\")\n",
        "plt.plot(xx, yy)\n",
        "plt.axhline(1, c='r', ls=\"--\")\n",
        "plt.axhline(0, c='r', ls=\"--\")\n",
        "plt.axvline(0, c='r', ls=\"--\")\n",
        "plt.xlabel(\"$x$\")\n",
        "plt.ylabel(\"$\\exp(x)$\")\n",
        "plt.show()"
      ]
    },
    {
      "cell_type": "code",
      "source": [
        "xx = np.linspace(0.01, 8, 100)\n",
        "yy = np.log(xx)\n",
        "plt.figure(figsize=(10,6))\n",
        "plt.title('로그함수')\n",
        "plt.plot(xx,yy)\n",
        "plt.axhline(0, c='r', ls='--')\n",
        "plt.axvline(0, c='r', ls='--')\n",
        "plt.axvline(1, c='r', ls='--')\n",
        "plt.xlabel('$x$')\n",
        "plt.ylabel('$\\log(x)$')\n",
        "plt.show()"
      ],
      "metadata": {
        "colab": {
          "base_uri": "https://localhost:8080/",
          "height": 699
        },
        "id": "lepfkS5Uis7S",
        "outputId": "2c4db3e6-eb6b-4ba6-e0ff-03bc66a000cd"
      },
      "execution_count": null,
      "outputs": [
        {
          "output_type": "stream",
          "name": "stderr",
          "text": [
            "/usr/local/lib/python3.8/dist-packages/matplotlib/backends/backend_agg.py:214: RuntimeWarning: Glyph 47196 missing from current font.\n",
            "  font.set_text(s, 0.0, flags=flags)\n",
            "/usr/local/lib/python3.8/dist-packages/matplotlib/backends/backend_agg.py:214: RuntimeWarning: Glyph 44536 missing from current font.\n",
            "  font.set_text(s, 0.0, flags=flags)\n",
            "/usr/local/lib/python3.8/dist-packages/matplotlib/backends/backend_agg.py:214: RuntimeWarning: Glyph 54632 missing from current font.\n",
            "  font.set_text(s, 0.0, flags=flags)\n",
            "/usr/local/lib/python3.8/dist-packages/matplotlib/backends/backend_agg.py:214: RuntimeWarning: Glyph 49688 missing from current font.\n",
            "  font.set_text(s, 0.0, flags=flags)\n",
            "/usr/local/lib/python3.8/dist-packages/matplotlib/backends/backend_agg.py:183: RuntimeWarning: Glyph 47196 missing from current font.\n",
            "  font.set_text(s, 0, flags=flags)\n",
            "/usr/local/lib/python3.8/dist-packages/matplotlib/backends/backend_agg.py:183: RuntimeWarning: Glyph 44536 missing from current font.\n",
            "  font.set_text(s, 0, flags=flags)\n",
            "/usr/local/lib/python3.8/dist-packages/matplotlib/backends/backend_agg.py:183: RuntimeWarning: Glyph 54632 missing from current font.\n",
            "  font.set_text(s, 0, flags=flags)\n",
            "/usr/local/lib/python3.8/dist-packages/matplotlib/backends/backend_agg.py:183: RuntimeWarning: Glyph 49688 missing from current font.\n",
            "  font.set_text(s, 0, flags=flags)\n"
          ]
        },
        {
          "output_type": "display_data",
          "data": {
            "text/plain": [
              "<Figure size 720x432 with 1 Axes>"
            ],
            "image/png": "[encoded data removed]"
          },
          "metadata": {
            "needs_background": "light"
          }
        }
      ]
    },
    {
      "cell_type": "code",
      "source": [],
      "metadata": {
        "id": "xoG5yMwfjwHK"
      },
      "execution_count": null,
      "outputs": []
    }
  ],
  "metadata": {
    "kernelspec": {
      "display_name": "Python 3 (ipykernel)",
      "language": "python",
      "name": "python3"
    },
    "language_info": {
      "codemirror_mode": {
        "name": "ipython",
        "version": 3
      },
      "file_extension": ".py",
      "mimetype": "text/x-python",
      "name": "python",
      "nbconvert_exporter": "python",
      "pygments_lexer": "ipython3",
      "version": "3.8.13"
    },
    "colab": {
      "provenance": [],
      "include_colab_link": true
    }
  },
  "nbformat": 4,
  "nbformat_minor": 0
}