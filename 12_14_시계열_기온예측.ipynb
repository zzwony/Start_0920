{
  "nbformat": 4,
  "nbformat_minor": 0,
  "metadata": {
    "colab": {
      "provenance": [],
      "collapsed_sections": [
        "oZxNPAkpUHd6",
        "vDDaWprIUMKV",
        "XtsiJOaHUROx"
      ],
      "authorship_tag": "ABX9TyPEXjaSvUxYsY5iT6e6IzxS",
      "include_colab_link": true
    },
    "kernelspec": {
      "name": "python3",
      "display_name": "Python 3"
    },
    "language_info": {
      "name": "python"
    },
    "accelerator": "GPU",
    "gpuClass": "standard"
  },
  "cells": [
    {
      "cell_type": "markdown",
      "metadata": {
        "id": "view-in-github",
        "colab_type": "text"
      },
      "source": [
        "<a href=\"https://colab.research.google.com/github/zzwony/Start_0920/blob/main/12_14_%EC%8B%9C%EA%B3%84%EC%97%B4_%EA%B8%B0%EC%98%A8%EC%98%88%EC%B8%A1.ipynb\" target=\"_parent\"><img src=\"https://colab.research.google.com/assets/colab-badge.svg\" alt=\"Open In Colab\"/></a>"
      ]
    },
    {
      "cell_type": "code",
      "source": [
        "from google.colab import drive\n",
        "drive.mount('/content/drive')"
      ],
      "metadata": {
        "colab": {
          "base_uri": "https://localhost:8080/"
        },
        "id": "-dpPms7tF6e8",
        "outputId": "81580f65-ddcb-484a-85ba-34681a4dc987"
      },
      "execution_count": 1,
      "outputs": [
        {
          "output_type": "stream",
          "name": "stdout",
          "text": [
            "Mounted at /content/drive\n"
          ]
        }
      ]
    },
    {
      "cell_type": "code",
      "source": [
        "!wget https://s3.amazonaws.com/keras-datasets/jena_climate_2009_2016.csv.zip\n",
        "!unzip jena_climate_2009_2016.csv.zip"
      ],
      "metadata": {
        "colab": {
          "base_uri": "https://localhost:8080/"
        },
        "id": "oYE5C4yNF7IB",
        "outputId": "427267bf-96d4-4947-d3d2-a75fdb8af2c9"
      },
      "execution_count": 2,
      "outputs": [
        {
          "output_type": "stream",
          "name": "stdout",
          "text": [
            "--2022-12-14 05:26:52--  https://s3.amazonaws.com/keras-datasets/jena_climate_2009_2016.csv.zip\n",
            "Resolving s3.amazonaws.com (s3.amazonaws.com)... 52.217.175.32, 52.217.73.198, 52.217.164.208, ...\n",
            "Connecting to s3.amazonaws.com (s3.amazonaws.com)|52.217.175.32|:443... connected.\n",
            "HTTP request sent, awaiting response... 200 OK\n",
            "Length: 13565642 (13M) [application/zip]\n",
            "Saving to: ‘jena_climate_2009_2016.csv.zip’\n",
            "\n",
            "jena_climate_2009_2 100%[===================>]  12.94M  5.38MB/s    in 2.4s    \n",
            "\n",
            "2022-12-14 05:26:55 (5.38 MB/s) - ‘jena_climate_2009_2016.csv.zip’ saved [13565642/13565642]\n",
            "\n",
            "Archive:  jena_climate_2009_2016.csv.zip\n",
            "  inflating: jena_climate_2009_2016.csv  \n",
            "  inflating: __MACOSX/._jena_climate_2009_2016.csv  \n"
          ]
        }
      ]
    },
    {
      "cell_type": "code",
      "source": [
        "ls"
      ],
      "metadata": {
        "colab": {
          "base_uri": "https://localhost:8080/"
        },
        "id": "PFPKUPunGZH-",
        "outputId": "f3064718-6022-45ba-f8f5-79f4d7e2f4e0"
      },
      "execution_count": 3,
      "outputs": [
        {
          "output_type": "stream",
          "name": "stdout",
          "text": [
            "\u001b[0m\u001b[01;34mdrive\u001b[0m/                      jena_climate_2009_2016.csv.zip  \u001b[01;34msample_data\u001b[0m/\n",
            "jena_climate_2009_2016.csv  \u001b[01;34m__MACOSX\u001b[0m/\n"
          ]
        }
      ]
    },
    {
      "cell_type": "code",
      "source": [
        "import os\n",
        "fname = os.path.join('jena_climate_2009_2016.csv')\n",
        "\n",
        "with open(fname) as f:  ## f로 열어서\n",
        "  data = f.read()  ## data에 넣기\n",
        "\n",
        "lines = data.split('\\n') ## ('\\n')는 줄바꿈\n",
        "header = lines[0].split(',')\n",
        "lines = lines[1:]\n",
        "print(header)\n",
        "print(len(lines))"
      ],
      "metadata": {
        "colab": {
          "base_uri": "https://localhost:8080/"
        },
        "id": "boivR9TuGfTw",
        "outputId": "c9885e66-8f86-4840-8990-997c400e57e6"
      },
      "execution_count": 6,
      "outputs": [
        {
          "output_type": "stream",
          "name": "stdout",
          "text": [
            "['\"Date Time\"', '\"p (mbar)\"', '\"T (degC)\"', '\"Tpot (K)\"', '\"Tdew (degC)\"', '\"rh (%)\"', '\"VPmax (mbar)\"', '\"VPact (mbar)\"', '\"VPdef (mbar)\"', '\"sh (g/kg)\"', '\"H2OC (mmol/mol)\"', '\"rho (g/m**3)\"', '\"wv (m/s)\"', '\"max. wv (m/s)\"', '\"wd (deg)\"']\n",
            "420451\n"
          ]
        }
      ]
    },
    {
      "cell_type": "code",
      "source": [
        "import numpy as np\n",
        "temperature = np.zeros((len(lines),))\n",
        "raw_data = np.zeros((len(lines),len(header) -1))\n",
        "for i, line in enumerate(lines):\n",
        "  values = [float(x) for x in line.split(',')[1:]]\n",
        "  temperature[i] = values[1]\n",
        "  raw_data[i, :] = values[:]"
      ],
      "metadata": {
        "id": "JKnBTSHQHJmu"
      },
      "execution_count": 8,
      "outputs": []
    },
    {
      "cell_type": "code",
      "source": [
        "from matplotlib import pyplot as plt\n",
        "plt.figure(figsize=(16, 9))\n",
        "plt.plot(range(len(temperature)), temperature)\n",
        "plt.show()"
      ],
      "metadata": {
        "colab": {
          "base_uri": "https://localhost:8080/",
          "height": 499
        },
        "id": "FXBrietgIAsE",
        "outputId": "031157bf-097c-4fc5-8c31-0f46c928323f"
      },
      "execution_count": 9,
      "outputs": [
        {
          "output_type": "display_data",
          "data": {
            "text/plain": [
              "<Figure size 1152x648 with 1 Axes>"
            ],
            "image/png": "[encoded data removed]"
          },
          "metadata": {
            "needs_background": "light"
          }
        }
      ]
    },
    {
      "cell_type": "code",
      "source": [
        "# 처음 10일간의 기온을 그래프로 그려보기\n",
        "plt.figure(figsize=(16, 9))\n",
        "plt.plot(range(1440), temperature[:1440])\n",
        "plt.show()"
      ],
      "metadata": {
        "colab": {
          "base_uri": "https://localhost:8080/",
          "height": 498
        },
        "id": "evZ5e1fLIkZG",
        "outputId": "12d15e62-c793-43e6-bd26-0f0711aadcb7"
      },
      "execution_count": 10,
      "outputs": [
        {
          "output_type": "display_data",
          "data": {
            "text/plain": [
              "<Figure size 1152x648 with 1 Axes>"
            ],
            "image/png": "[encoded data removed]"
          },
          "metadata": {
            "needs_background": "light"
          }
        }
      ]
    },
    {
      "cell_type": "code",
      "source": [
        "# 전체 길이\n",
        "len(raw_data)"
      ],
      "metadata": {
        "colab": {
          "base_uri": "https://localhost:8080/"
        },
        "id": "W076AmDxIvxP",
        "outputId": "906264d1-2ff4-4e29-c1d2-c5a5b7ce9175"
      },
      "execution_count": 11,
      "outputs": [
        {
          "output_type": "execute_result",
          "data": {
            "text/plain": [
              "420451"
            ]
          },
          "metadata": {},
          "execution_count": 11
        }
      ]
    },
    {
      "cell_type": "code",
      "source": [
        "# 데이터셋을 만들건데 이번에는 train_data(50%), valdation_data(25%), test_data(나머지)로 만들것이다.\n",
        "# 각 분할에 사용할 샘플 수 계산\n",
        "num_train_samples = int(0.5 * len(raw_data))  #raw_data의 50%\n",
        "num_val_samples = int(0.25 * len(raw_data))\n",
        "num_test_samples = len(raw_data) - num_train_samples - num_val_samples\n",
        "print(num_train_samples, num_val_samples, num_test_samples)"
      ],
      "metadata": {
        "colab": {
          "base_uri": "https://localhost:8080/"
        },
        "id": "NWuwAK4wI47I",
        "outputId": "34b54b37-3113-4858-83a6-46dcde483338"
      },
      "execution_count": 12,
      "outputs": [
        {
          "output_type": "stream",
          "name": "stdout",
          "text": [
            "210225 105112 105114\n"
          ]
        }
      ]
    },
    {
      "cell_type": "code",
      "source": [
        "# 데이터 정규화(test 쓰면 안된다.)\n",
        "mean = raw_data[:num_train_samples].mean(axis=0)\n",
        "raw_data -= mean\n",
        "std = raw_data[:num_train_samples].std(axis=0)\n",
        "raw_data /= std  ## 나눠서 대입 ## 오차를 표준편차로 나눈것이다."
      ],
      "metadata": {
        "id": "PtkFTlmJJtIT"
      },
      "execution_count": 13,
      "outputs": []
    },
    {
      "cell_type": "markdown",
      "source": [
        "https://www.tensorflow.org/api_docs/python/tf/keras/utils/timeseries_dataset_from_array"
      ],
      "metadata": {
        "id": "FTwvqjlVfL5_"
      }
    },
    {
      "cell_type": "code",
      "source": [
        "from tensorflow import keras\n",
        "sampling_rate = 6  ## 1시간이 10분씩 하면 6번이다. (즉, 10분 단위이다.)\n",
        "sequence_length = 120  ## timestep이다.\n",
        "delay = sampling_rate * (sequence_length + 24 - 1) ## 하루가 24시간, 시퀀스 랭스에 다음일(24) 해주고 인덱스 0이니까 하나 빼줌 거기에 6을 곱함\n",
        "batch_size = 256\n",
        "\n",
        "train_dataset = keras.utils.timeseries_dataset_from_array( ## 이 함수를 이용해서 구해줄 것이다.\n",
        "    raw_data[:-delay],  ## -delay는 맨 끝에 있는걸 넣어줬다.\n",
        "    targets = temperature[delay:],\n",
        "    sampling_rate = sampling_rate,\n",
        "    sequence_length = sequence_length,\n",
        "    shuffle = True,\n",
        "    batch_size = batch_size,\n",
        "    start_index = 0,\n",
        "    end_index = num_train_samples\n",
        ")\n",
        "\n",
        "val_dataset = keras.utils.timeseries_dataset_from_array(\n",
        "    raw_data[:-delay],\n",
        "    targets = temperature[delay:],\n",
        "    sampling_rate = sampling_rate,\n",
        "    sequence_length = sequence_length,\n",
        "    shuffle = True,\n",
        "    batch_size = batch_size,\n",
        "    start_index = num_train_samples,\n",
        "    end_index = num_train_samples + num_val_samples\n",
        ")\n",
        "\n",
        "test_dataset = keras.utils.timeseries_dataset_from_array(\n",
        "    raw_data[:-delay],\n",
        "    targets = temperature[delay:],\n",
        "    sampling_rate = sampling_rate,\n",
        "    sequence_length = sequence_length,\n",
        "    shuffle = True,\n",
        "    batch_size = batch_size,\n",
        "    start_index = num_train_samples + num_val_samples  ## 끝까지니까 end_index는 필요없다.\n",
        ")"
      ],
      "metadata": {
        "id": "W71ceRqEKTuC"
      },
      "execution_count": 16,
      "outputs": []
    },
    {
      "cell_type": "code",
      "source": [
        "# 배치 크기 확인\n",
        "for samples, targets in train_dataset:\n",
        "  print(samples.shape, targets.shape)\n",
        "  break"
      ],
      "metadata": {
        "colab": {
          "base_uri": "https://localhost:8080/"
        },
        "id": "duXb_NWOLX_2",
        "outputId": "7e381375-575d-404f-983b-56f35a216f0f"
      },
      "execution_count": 17,
      "outputs": [
        {
          "output_type": "stream",
          "name": "stdout",
          "text": [
            "(256, 120, 14) (256,)\n"
          ]
        }
      ]
    },
    {
      "cell_type": "markdown",
      "source": [
        "- 여기서 14는 칼럼의 갯수이다.\n",
        "- 120은 시간 정보를 나타낸다.\n",
        "- 256은 배치 사이즈이다."
      ],
      "metadata": {
        "id": "o_HkEkaOQOWN"
      }
    },
    {
      "cell_type": "code",
      "source": [
        "raw_data.shape"
      ],
      "metadata": {
        "colab": {
          "base_uri": "https://localhost:8080/"
        },
        "id": "o2PS2OB0RFNG",
        "outputId": "877b3dc1-faa5-40b9-a1f8-57adc5dfbf79"
      },
      "execution_count": 18,
      "outputs": [
        {
          "output_type": "execute_result",
          "data": {
            "text/plain": [
              "(420451, 14)"
            ]
          },
          "metadata": {},
          "execution_count": 18
        }
      ]
    },
    {
      "cell_type": "code",
      "source": [
        "from tensorflow.python import train\n",
        "# 모델 구성\n",
        "from tensorflow import keras\n",
        "from tensorflow.keras import layers\n",
        "\n",
        "inputs = keras.Input(shape=(sequence_length, raw_data.shape[-1]))  ## 뒤에 있는거니까 -1이다.\n",
        "x = layers.Flatten()(inputs)\n",
        "x = layers.Dense(16, activation='relu')(x)\n",
        "outputs = layers.Dense(1)(x)\n",
        "model = keras.Model(inputs, outputs)\n",
        "\n",
        "callbacks = [\n",
        "    keras.callbacks.ModelCheckpoint('jena_dense.keras', save_best_only=True)\n",
        "]\n",
        "\n",
        "model.compile(optimizer='rmsprop',\n",
        "              loss='mse',\n",
        "              metrics=['mae'])\n",
        "\n",
        "history = model.fit(train_dataset,\n",
        "                    epochs=10,\n",
        "                    validation_data=val_dataset,\n",
        "                    callbacks=callbacks)\n",
        "\n",
        "model = keras.models.load_model('jena_dense.keras')\n",
        "print(f'테스트 MAE: {model.evaluate(test_dataset)[1]:.2f}')"
      ],
      "metadata": {
        "colab": {
          "base_uri": "https://localhost:8080/"
        },
        "id": "9jTeTt-UQi_W",
        "outputId": "aa40232c-3ba7-4ff8-e56e-72c656771a67"
      },
      "execution_count": 21,
      "outputs": [
        {
          "output_type": "stream",
          "name": "stdout",
          "text": [
            "Epoch 1/10\n",
            "819/819 [==============================] - 44s 51ms/step - loss: 12.2479 - mae: 2.7196 - val_loss: 11.0946 - val_mae: 2.6223\n",
            "Epoch 2/10\n",
            "819/819 [==============================] - 52s 63ms/step - loss: 9.0638 - mae: 2.3681 - val_loss: 10.5046 - val_mae: 2.5627\n",
            "Epoch 3/10\n",
            "819/819 [==============================] - 46s 56ms/step - loss: 8.2916 - mae: 2.2637 - val_loss: 10.1769 - val_mae: 2.5215\n",
            "Epoch 4/10\n",
            "819/819 [==============================] - 49s 60ms/step - loss: 7.8468 - mae: 2.2022 - val_loss: 11.0837 - val_mae: 2.6303\n",
            "Epoch 5/10\n",
            "819/819 [==============================] - 47s 58ms/step - loss: 7.5175 - mae: 2.1539 - val_loss: 10.2710 - val_mae: 2.5347\n",
            "Epoch 6/10\n",
            "819/819 [==============================] - 49s 60ms/step - loss: 7.2422 - mae: 2.1159 - val_loss: 11.1762 - val_mae: 2.6475\n",
            "Epoch 7/10\n",
            "819/819 [==============================] - 47s 57ms/step - loss: 7.0276 - mae: 2.0823 - val_loss: 11.2611 - val_mae: 2.6423\n",
            "Epoch 8/10\n",
            "819/819 [==============================] - 46s 56ms/step - loss: 6.8686 - mae: 2.0591 - val_loss: 13.1381 - val_mae: 2.8540\n",
            "Epoch 9/10\n",
            "819/819 [==============================] - 42s 51ms/step - loss: 6.7247 - mae: 2.0374 - val_loss: 11.3924 - val_mae: 2.6640\n",
            "Epoch 10/10\n",
            "819/819 [==============================] - 57s 69ms/step - loss: 6.5885 - mae: 2.0187 - val_loss: 12.0166 - val_mae: 2.7305\n",
            "405/405 [==============================] - 14s 33ms/step - loss: 11.3984 - mae: 2.6482\n",
            "테스트 MAE: 2.65\n"
          ]
        }
      ]
    },
    {
      "cell_type": "code",
      "source": [
        "# 시각화\n",
        "import matplotlib.pyplot as plt\n",
        "\n",
        "loss = history.history['mae']\n",
        "val_loss = history.history['val_mae']\n",
        "\n",
        "epochs = range(1, len(loss) +1)\n",
        "\n",
        "plt.plot(epochs, loss, 'bo', label='Training MAE')\n",
        "plt.plot(epochs, val_loss, 'b', label='Validation MAE')\n",
        "plt.title('Training and Validation MAE')\n",
        "plt.legend()\n",
        "plt.show()"
      ],
      "metadata": {
        "colab": {
          "base_uri": "https://localhost:8080/",
          "height": 281
        },
        "id": "Mr_nGwwxSeYd",
        "outputId": "02b4a84a-c963-426c-f5ac-9dc56c130911"
      },
      "execution_count": 22,
      "outputs": [
        {
          "output_type": "display_data",
          "data": {
            "text/plain": [
              "<Figure size 432x288 with 1 Axes>"
            ],
            "image/png": "[encoded data removed]"
          },
          "metadata": {
            "needs_background": "light"
          }
        }
      ]
    },
    {
      "cell_type": "code",
      "source": [
        "# 상식 수준의 기준점\n",
        "# 검증 MAE 2.44\n",
        "# 테스트 MAE 2.62\n",
        "\n",
        "## MAE는 작을수록 좋다."
      ],
      "metadata": {
        "id": "iVQZVvCdTn2P"
      },
      "execution_count": null,
      "outputs": []
    },
    {
      "cell_type": "markdown",
      "source": [
        "#### [ 과제 ] 1D 합성곱 모델 시도"
      ],
      "metadata": {
        "id": "oZxNPAkpUHd6"
      }
    },
    {
      "cell_type": "code",
      "source": [
        "# 1.데이터 로드\n",
        "import os\n",
        "fname = os.path.join('jena_climate_2009_2016.csv')\n",
        "\n",
        "with open(fname) as f:  ## f로 열어서\n",
        "  data = f.read()  ## data에 넣기\n",
        "\n",
        "lines = data.split('\\n') ## ('\\n')는 줄바꿈\n",
        "header = lines[0].split(',')\n",
        "lines = lines[1:]\n",
        "print(header)\n",
        "print(len(lines))"
      ],
      "metadata": {
        "colab": {
          "base_uri": "https://localhost:8080/"
        },
        "id": "-qWZ3_LOWjoG",
        "outputId": "bf3eaba3-844a-4d73-abce-cbc0ef3ebbcb"
      },
      "execution_count": 23,
      "outputs": [
        {
          "output_type": "stream",
          "name": "stdout",
          "text": [
            "['\"Date Time\"', '\"p (mbar)\"', '\"T (degC)\"', '\"Tpot (K)\"', '\"Tdew (degC)\"', '\"rh (%)\"', '\"VPmax (mbar)\"', '\"VPact (mbar)\"', '\"VPdef (mbar)\"', '\"sh (g/kg)\"', '\"H2OC (mmol/mol)\"', '\"rho (g/m**3)\"', '\"wv (m/s)\"', '\"max. wv (m/s)\"', '\"wd (deg)\"']\n",
            "420451\n"
          ]
        }
      ]
    },
    {
      "cell_type": "code",
      "source": [
        "# 2.데이터 준비\n",
        "import numpy as np\n",
        "temperature = np.zeros((len(lines),))\n",
        "raw_data = np.zeros((len(lines),len(header) -1))\n",
        "for i, line in enumerate(lines):\n",
        "  values = [float(x) for x in line.split(',')[1:]]\n",
        "  temperature[i] = values[1]\n",
        "  raw_data[i, :] = values[:]"
      ],
      "metadata": {
        "id": "bN3ygeT8VW-9"
      },
      "execution_count": 29,
      "outputs": []
    },
    {
      "cell_type": "code",
      "source": [
        "# 데이터셋을 만들건데 이번에는 train_data(50%), valdation_data(25%), test_data(나머지)로 만들것이다.\n",
        "# 각 분할에 사용할 샘플 수 계산\n",
        "num_train_samples = int(0.5 * len(raw_data))  ##raw_data의 50%\n",
        "num_val_samples = int(0.25 * len(raw_data))\n",
        "num_test_samples = len(raw_data) - num_train_samples - num_val_samples\n",
        "print(num_train_samples, num_val_samples, num_test_samples)"
      ],
      "metadata": {
        "colab": {
          "base_uri": "https://localhost:8080/"
        },
        "id": "ab98grhHVW8V",
        "outputId": "e7cff52e-99a2-4f7b-c8bd-f7f2f5ee56d1"
      },
      "execution_count": 30,
      "outputs": [
        {
          "output_type": "stream",
          "name": "stdout",
          "text": [
            "210225 105112 105114\n"
          ]
        }
      ]
    },
    {
      "cell_type": "code",
      "source": [
        "# 3.데이터 정규화(test 쓰면 안된다.)\n",
        "mean = raw_data[:num_train_samples].mean(axis=0)\n",
        "raw_data -= mean\n",
        "std = raw_data[:num_train_samples].std(axis=0)\n",
        "raw_data /= std  ## 나눠서 대입 ## 오차를 표준편차로 나눈것이다."
      ],
      "metadata": {
        "id": "cUmgcOuCVW44"
      },
      "execution_count": 31,
      "outputs": []
    },
    {
      "cell_type": "code",
      "source": [
        "from tensorflow import keras\n",
        "sampling_rate = 6  ## 1시간이 10분씩 하면 6번이다. (즉, 10분 단위이다.)\n",
        "sequence_length = 120  ## timestep이다.\n",
        "delay = sampling_rate * (sequence_length + 24 - 1) ## 하루가 24시간, 시퀀스 랭스에 다음일(24) 해주고 인덱스 0이니까 하나 빼줌 거기에 6을 곱함\n",
        "batch_size = 256\n",
        "\n",
        "train_dataset = keras.utils.timeseries_dataset_from_array( ## 이 함수를 이용해서 구해줄 것이다.\n",
        "    raw_data[:-delay],  ## -delay는 맨 끝에 있는걸 넣어줬다.\n",
        "    targets = temperature[delay:],\n",
        "    sampling_rate = sampling_rate,\n",
        "    sequence_length = sequence_length,\n",
        "    shuffle = True,\n",
        "    batch_size = batch_size,\n",
        "    start_index = 0,\n",
        "    end_index = num_train_samples\n",
        ")\n",
        "\n",
        "val_dataset = keras.utils.timeseries_dataset_from_array(\n",
        "    raw_data[:-delay],\n",
        "    targets = temperature[delay:],\n",
        "    sampling_rate = sampling_rate,\n",
        "    sequence_length = sequence_length,\n",
        "    shuffle = True,\n",
        "    batch_size = batch_size,\n",
        "    start_index = num_train_samples,\n",
        "    end_index = num_train_samples + num_val_samples\n",
        ")\n",
        "\n",
        "test_dataset = keras.utils.timeseries_dataset_from_array(\n",
        "    raw_data[:-delay],\n",
        "    targets = temperature[delay:],\n",
        "    sampling_rate = sampling_rate,\n",
        "    sequence_length = sequence_length,\n",
        "    shuffle = True,\n",
        "    batch_size = batch_size,\n",
        "    start_index = num_train_samples + num_val_samples  ## 끝까지니까 end_index는 필요없다.\n",
        ")"
      ],
      "metadata": {
        "id": "BBCKOKFOVW1V"
      },
      "execution_count": 32,
      "outputs": []
    },
    {
      "cell_type": "code",
      "source": [
        "# 4.Conv1D를 사용하여 모델 구성\n",
        "from tensorflow import keras\n",
        "from tensorflow.keras import layers\n",
        "\n",
        "inputs = keras.Input(shape=(sequence_length, raw_data.shape[-1]))  ## 뒤에 있는거니까 -1이다.\n",
        "x = layers.Conv1D(32, 7, activation='relu')(inputs)\n",
        "x = layers.MaxPooling1D(5)(x)\n",
        "x = layers.Conv1D(32, 7, activation='relu')(inputs)\n",
        "x = layers.MaxPooling1D(5)(x)\n",
        "x = layers.GlobalMaxPool1D()(x)\n",
        "outputs = layers.Dense(1)(x)\n",
        "model = keras.Model(inputs, outputs)\n",
        "\n",
        "model.compile(optimizer='rmsprop',\n",
        "              loss='mse',\n",
        "              metrics=['mae'])\n",
        "\n",
        "model.summary()"
      ],
      "metadata": {
        "colab": {
          "base_uri": "https://localhost:8080/"
        },
        "id": "FkUXSK1RVWSe",
        "outputId": "c826d7e4-75cc-4331-a210-db3313fe80fa"
      },
      "execution_count": 44,
      "outputs": [
        {
          "output_type": "stream",
          "name": "stdout",
          "text": [
            "Model: \"model_6\"\n",
            "_________________________________________________________________\n",
            " Layer (type)                Output Shape              Param #   \n",
            "=================================================================\n",
            " input_7 (InputLayer)        [(None, 120, 14)]         0         \n",
            "                                                                 \n",
            " conv1d_7 (Conv1D)           (None, 114, 32)           3168      \n",
            "                                                                 \n",
            " max_pooling1d_7 (MaxPooling  (None, 22, 32)           0         \n",
            " 1D)                                                             \n",
            "                                                                 \n",
            " global_max_pooling1d_3 (Glo  (None, 32)               0         \n",
            " balMaxPooling1D)                                                \n",
            "                                                                 \n",
            " dense_9 (Dense)             (None, 1)                 33        \n",
            "                                                                 \n",
            "=================================================================\n",
            "Total params: 3,201\n",
            "Trainable params: 3,201\n",
            "Non-trainable params: 0\n",
            "_________________________________________________________________\n"
          ]
        }
      ]
    },
    {
      "cell_type": "code",
      "source": [
        "# 5.모델 학습\n",
        "history = model.fit(train_dataset,\n",
        "                    epochs=10,\n",
        "                    validation_data=val_dataset)"
      ],
      "metadata": {
        "colab": {
          "base_uri": "https://localhost:8080/"
        },
        "id": "3jtwqQjtZF-G",
        "outputId": "e864ff16-8bd5-400f-fa0b-ec23ec538309"
      },
      "execution_count": 54,
      "outputs": [
        {
          "output_type": "stream",
          "name": "stdout",
          "text": [
            "Epoch 1/10\n",
            "819/819 [==============================] - 45s 54ms/step - loss: 9.4986 - mae: 2.3970 - val_loss: 9.9944 - val_mae: 2.4537\n",
            "Epoch 2/10\n",
            "819/819 [==============================] - 46s 56ms/step - loss: 8.6715 - mae: 2.2838 - val_loss: 10.0991 - val_mae: 2.4645\n",
            "Epoch 3/10\n",
            "819/819 [==============================] - 46s 56ms/step - loss: 8.0820 - mae: 2.2015 - val_loss: 10.8018 - val_mae: 2.5716\n",
            "Epoch 4/10\n",
            "819/819 [==============================] - 46s 56ms/step - loss: 7.6122 - mae: 2.1380 - val_loss: 10.7263 - val_mae: 2.5655\n",
            "Epoch 5/10\n",
            "819/819 [==============================] - 45s 54ms/step - loss: 7.1959 - mae: 2.0765 - val_loss: 10.8962 - val_mae: 2.5660\n",
            "Epoch 6/10\n",
            "819/819 [==============================] - 45s 54ms/step - loss: 6.8319 - mae: 2.0262 - val_loss: 10.9538 - val_mae: 2.5785\n",
            "Epoch 7/10\n",
            "819/819 [==============================] - 45s 55ms/step - loss: 6.6082 - mae: 1.9915 - val_loss: 11.6125 - val_mae: 2.6523\n",
            "Epoch 8/10\n",
            "819/819 [==============================] - 46s 56ms/step - loss: 6.3132 - mae: 1.9458 - val_loss: 12.0210 - val_mae: 2.6960\n",
            "Epoch 9/10\n",
            "819/819 [==============================] - 45s 55ms/step - loss: 6.0917 - mae: 1.9125 - val_loss: 12.0536 - val_mae: 2.7093\n",
            "Epoch 10/10\n",
            "819/819 [==============================] - 45s 54ms/step - loss: 5.9238 - mae: 1.8857 - val_loss: 11.9617 - val_mae: 2.7115\n"
          ]
        }
      ]
    },
    {
      "cell_type": "markdown",
      "source": [
        "#### [ 과제 ] LSTM 기반 모델 시도"
      ],
      "metadata": {
        "id": "vDDaWprIUMKV"
      }
    },
    {
      "cell_type": "code",
      "source": [
        "# 1.데이터 로드\n",
        "import os\n",
        "fname = os.path.join('jena_climate_2009_2016.csv')\n",
        "\n",
        "with open(fname) as f:  ## f로 열어서\n",
        "  data = f.read()  ## data에 넣기\n",
        "\n",
        "lines = data.split('\\n') ## ('\\n')는 줄바꿈\n",
        "header = lines[0].split(',')\n",
        "lines = lines[1:]\n",
        "print(header)\n",
        "print(len(lines))"
      ],
      "metadata": {
        "colab": {
          "base_uri": "https://localhost:8080/"
        },
        "id": "IBTiLRanh8OT",
        "outputId": "a16b4b64-b3f8-4ec8-e44a-e0293cb12ce1"
      },
      "execution_count": 55,
      "outputs": [
        {
          "output_type": "stream",
          "name": "stdout",
          "text": [
            "['\"Date Time\"', '\"p (mbar)\"', '\"T (degC)\"', '\"Tpot (K)\"', '\"Tdew (degC)\"', '\"rh (%)\"', '\"VPmax (mbar)\"', '\"VPact (mbar)\"', '\"VPdef (mbar)\"', '\"sh (g/kg)\"', '\"H2OC (mmol/mol)\"', '\"rho (g/m**3)\"', '\"wv (m/s)\"', '\"max. wv (m/s)\"', '\"wd (deg)\"']\n",
            "420451\n"
          ]
        }
      ]
    },
    {
      "cell_type": "code",
      "source": [
        "# 2.데이터 준비\n",
        "import numpy as np\n",
        "temperature = np.zeros((len(lines),))\n",
        "raw_data = np.zeros((len(lines),len(header) -1))\n",
        "for i, line in enumerate(lines):\n",
        "  values = [float(x) for x in line.split(',')[1:]]\n",
        "  temperature[i] = values[1]\n",
        "  raw_data[i, :] = values[:]"
      ],
      "metadata": {
        "id": "2uV_5jNjh8L-"
      },
      "execution_count": 56,
      "outputs": []
    },
    {
      "cell_type": "code",
      "source": [
        "# 데이터셋을 만들건데 이번에는 train_data(50%), valdation_data(25%), test_data(나머지)로 만들것이다.\n",
        "# 각 분할에 사용할 샘플 수 계산\n",
        "num_train_samples = int(0.5 * len(raw_data))  ##raw_data의 50%\n",
        "num_val_samples = int(0.25 * len(raw_data))\n",
        "num_test_samples = len(raw_data) - num_train_samples - num_val_samples\n",
        "print(num_train_samples, num_val_samples, num_test_samples)"
      ],
      "metadata": {
        "colab": {
          "base_uri": "https://localhost:8080/"
        },
        "id": "STjwoGglh8JW",
        "outputId": "cadc1149-5c63-4fb8-d77a-10e1822ee914"
      },
      "execution_count": 57,
      "outputs": [
        {
          "output_type": "stream",
          "name": "stdout",
          "text": [
            "210225 105112 105114\n"
          ]
        }
      ]
    },
    {
      "cell_type": "code",
      "source": [
        "# 3.데이터 정규화(test 쓰면 안된다.)\n",
        "mean = raw_data[:num_train_samples].mean(axis=0)\n",
        "raw_data -= mean\n",
        "std = raw_data[:num_train_samples].std(axis=0)\n",
        "raw_data /= std  ## 나눠서 대입 ## 오차를 표준편차로 나눈것이다."
      ],
      "metadata": {
        "id": "AqQEXyWzh8HD"
      },
      "execution_count": 58,
      "outputs": []
    },
    {
      "cell_type": "code",
      "source": [
        "from tensorflow import keras\n",
        "sampling_rate = 6  ## 1시간이 10분씩 하면 6번이다. (즉, 10분 단위이다.)\n",
        "sequence_length = 120  ## timestep이다.\n",
        "delay = sampling_rate * (sequence_length + 24 - 1) ## 하루가 24시간, 시퀀스 랭스에 다음일(24) 해주고 인덱스 0이니까 하나 빼줌 거기에 6을 곱함\n",
        "batch_size = 256\n",
        "\n",
        "train_dataset = keras.utils.timeseries_dataset_from_array( ## 이 함수를 이용해서 구해줄 것이다.\n",
        "    raw_data[:-delay],  ## -delay는 맨 끝에 있는걸 넣어줬다.\n",
        "    targets = temperature[delay:],\n",
        "    sampling_rate = sampling_rate,\n",
        "    sequence_length = sequence_length,\n",
        "    shuffle = True,\n",
        "    batch_size = batch_size,\n",
        "    start_index = 0,\n",
        "    end_index = num_train_samples\n",
        ")\n",
        "\n",
        "val_dataset = keras.utils.timeseries_dataset_from_array(\n",
        "    raw_data[:-delay],\n",
        "    targets = temperature[delay:],\n",
        "    sampling_rate = sampling_rate,\n",
        "    sequence_length = sequence_length,\n",
        "    shuffle = True,\n",
        "    batch_size = batch_size,\n",
        "    start_index = num_train_samples,\n",
        "    end_index = num_train_samples + num_val_samples\n",
        ")\n",
        "\n",
        "test_dataset = keras.utils.timeseries_dataset_from_array(\n",
        "    raw_data[:-delay],\n",
        "    targets = temperature[delay:],\n",
        "    sampling_rate = sampling_rate,\n",
        "    sequence_length = sequence_length,\n",
        "    shuffle = True,\n",
        "    batch_size = batch_size,\n",
        "    start_index = num_train_samples + num_val_samples  ## 끝까지니까 end_index는 필요없다.\n",
        ")"
      ],
      "metadata": {
        "id": "ehPddX0gh8Ep"
      },
      "execution_count": 59,
      "outputs": []
    },
    {
      "cell_type": "code",
      "source": [
        "# 4. LSTM 기반 모델 구성\n",
        "from tensorflow import keras\n",
        "from tensorflow.keras import layers\n",
        "\n",
        "inputs = keras.Input(shape=(sequence_length, raw_data.shape[-1]))  ## 뒤에 있는거니까 -1이다.\n",
        "x = layers.LSTM(32)(inputs)\n",
        "outputs = layers.Dense(1)(x)\n",
        "model = keras.Model(inputs, outputs)\n",
        "\n",
        "callbacks = [\n",
        "    keras.callbacks.ModelCheckpoint('jena_lstm.keras',\n",
        "                                    save_best_only=True)\n",
        "]\n",
        "\n",
        "model.compile(optimizer='rmsprop',\n",
        "              loss='mse',\n",
        "              metrics=['mae'])\n",
        "\n",
        "model.summary()"
      ],
      "metadata": {
        "colab": {
          "base_uri": "https://localhost:8080/"
        },
        "id": "BzZ_Lfjnh8CQ",
        "outputId": "8b957832-a8f3-49fb-fd8a-0220c009219d"
      },
      "execution_count": 60,
      "outputs": [
        {
          "output_type": "stream",
          "name": "stdout",
          "text": [
            "Model: \"model_8\"\n",
            "_________________________________________________________________\n",
            " Layer (type)                Output Shape              Param #   \n",
            "=================================================================\n",
            " input_9 (InputLayer)        [(None, 120, 14)]         0         \n",
            "                                                                 \n",
            " lstm_1 (LSTM)               (None, 32)                6016      \n",
            "                                                                 \n",
            " dense_11 (Dense)            (None, 1)                 33        \n",
            "                                                                 \n",
            "=================================================================\n",
            "Total params: 6,049\n",
            "Trainable params: 6,049\n",
            "Non-trainable params: 0\n",
            "_________________________________________________________________\n"
          ]
        }
      ]
    },
    {
      "cell_type": "code",
      "source": [
        "# 5.모델 학습\n",
        "history = model.fit(train_dataset,\n",
        "                    epochs=10,\n",
        "                    validation_data=val_dataset,\n",
        "                    callbacks=callbacks)"
      ],
      "metadata": {
        "colab": {
          "base_uri": "https://localhost:8080/"
        },
        "id": "E-o5wlxrh7_4",
        "outputId": "a118eb44-062e-40f3-efd7-9fa5640e66fb"
      },
      "execution_count": 62,
      "outputs": [
        {
          "output_type": "stream",
          "name": "stdout",
          "text": [
            "Epoch 1/10\n",
            "819/819 [==============================] - 46s 56ms/step - loss: 8.9845 - mae: 2.3397 - val_loss: 10.0228 - val_mae: 2.4581\n",
            "Epoch 2/10\n",
            "819/819 [==============================] - 47s 57ms/step - loss: 7.9246 - mae: 2.2066 - val_loss: 10.0544 - val_mae: 2.4468\n",
            "Epoch 3/10\n",
            "819/819 [==============================] - 45s 55ms/step - loss: 7.3186 - mae: 2.1216 - val_loss: 10.0939 - val_mae: 2.4568\n",
            "Epoch 4/10\n",
            "819/819 [==============================] - 45s 55ms/step - loss: 6.9065 - mae: 2.0578 - val_loss: 10.5983 - val_mae: 2.5180\n",
            "Epoch 5/10\n",
            "819/819 [==============================] - 45s 55ms/step - loss: 6.5355 - mae: 1.9993 - val_loss: 11.3635 - val_mae: 2.6097\n",
            "Epoch 6/10\n",
            "819/819 [==============================] - 46s 56ms/step - loss: 6.2054 - mae: 1.9463 - val_loss: 11.0598 - val_mae: 2.5605\n",
            "Epoch 7/10\n",
            "819/819 [==============================] - 45s 55ms/step - loss: 5.9267 - mae: 1.9004 - val_loss: 11.4628 - val_mae: 2.5984\n",
            "Epoch 8/10\n",
            "819/819 [==============================] - 46s 55ms/step - loss: 5.7223 - mae: 1.8660 - val_loss: 11.7196 - val_mae: 2.6467\n",
            "Epoch 9/10\n",
            "819/819 [==============================] - 46s 56ms/step - loss: 5.5056 - mae: 1.8281 - val_loss: 12.5841 - val_mae: 2.7473\n",
            "Epoch 10/10\n",
            "819/819 [==============================] - 46s 55ms/step - loss: 5.3299 - mae: 1.7994 - val_loss: 11.9282 - val_mae: 2.6775\n"
          ]
        }
      ]
    },
    {
      "cell_type": "markdown",
      "source": [
        "#### [ 도전 과제 ] RNN 기반 모델 시도(스태킹)"
      ],
      "metadata": {
        "id": "XtsiJOaHUROx"
      }
    },
    {
      "cell_type": "code",
      "source": [
        "# 1.데이터 로드\n",
        "import os\n",
        "fname = os.path.join('jena_climate_2009_2016.csv')\n",
        "\n",
        "with open(fname) as f:  ## f로 열어서\n",
        "  data = f.read()  ## data에 넣기\n",
        "\n",
        "lines = data.split('\\n') ## ('\\n')는 줄바꿈\n",
        "header = lines[0].split(',')\n",
        "lines = lines[1:]\n",
        "print(header)\n",
        "print(len(lines))"
      ],
      "metadata": {
        "colab": {
          "base_uri": "https://localhost:8080/"
        },
        "id": "6qCycaExu5U6",
        "outputId": "c6873f4e-3afe-46da-a21d-39e86ea8aa42"
      },
      "execution_count": 63,
      "outputs": [
        {
          "output_type": "stream",
          "name": "stdout",
          "text": [
            "['\"Date Time\"', '\"p (mbar)\"', '\"T (degC)\"', '\"Tpot (K)\"', '\"Tdew (degC)\"', '\"rh (%)\"', '\"VPmax (mbar)\"', '\"VPact (mbar)\"', '\"VPdef (mbar)\"', '\"sh (g/kg)\"', '\"H2OC (mmol/mol)\"', '\"rho (g/m**3)\"', '\"wv (m/s)\"', '\"max. wv (m/s)\"', '\"wd (deg)\"']\n",
            "420451\n"
          ]
        }
      ]
    },
    {
      "cell_type": "code",
      "source": [
        "# 2.데이터 준비\n",
        "import numpy as np\n",
        "temperature = np.zeros((len(lines),))\n",
        "raw_data = np.zeros((len(lines),len(header) -1))\n",
        "for i, line in enumerate(lines):\n",
        "  values = [float(x) for x in line.split(',')[1:]]\n",
        "  temperature[i] = values[1]\n",
        "  raw_data[i, :] = values[:]"
      ],
      "metadata": {
        "id": "ylZALrVwu5Nr"
      },
      "execution_count": 64,
      "outputs": []
    },
    {
      "cell_type": "code",
      "source": [
        "# 데이터셋을 만들건데 이번에는 train_data(50%), valdation_data(25%), test_data(나머지)로 만들것이다.\n",
        "# 각 분할에 사용할 샘플 수 계산\n",
        "num_train_samples = int(0.5 * len(raw_data))  ##raw_data의 50%\n",
        "num_val_samples = int(0.25 * len(raw_data))\n",
        "num_test_samples = len(raw_data) - num_train_samples - num_val_samples\n",
        "print(num_train_samples, num_val_samples, num_test_samples)"
      ],
      "metadata": {
        "colab": {
          "base_uri": "https://localhost:8080/"
        },
        "id": "Yv9KiPltu5I7",
        "outputId": "fabea940-199f-4abf-a6eb-4cc05541f01e"
      },
      "execution_count": 65,
      "outputs": [
        {
          "output_type": "stream",
          "name": "stdout",
          "text": [
            "210225 105112 105114\n"
          ]
        }
      ]
    },
    {
      "cell_type": "code",
      "source": [
        "# 3.데이터 정규화(test 쓰면 안된다.)\n",
        "mean = raw_data[:num_train_samples].mean(axis=0)\n",
        "raw_data -= mean\n",
        "std = raw_data[:num_train_samples].std(axis=0)\n",
        "raw_data /= std  ## 나눠서 대입 ## 오차를 표준편차로 나눈것이다."
      ],
      "metadata": {
        "id": "SUCK76L1u5Gi"
      },
      "execution_count": 66,
      "outputs": []
    },
    {
      "cell_type": "code",
      "source": [
        "from tensorflow import keras\n",
        "sampling_rate = 6  ## 1시간이 10분씩 하면 6번이다. (즉, 10분 단위이다.)\n",
        "sequence_length = 120  ## timestep이다.\n",
        "delay = sampling_rate * (sequence_length + 24 - 1) ## 하루가 24시간, 시퀀스 랭스에 다음일(24) 해주고 인덱스 0이니까 하나 빼줌 거기에 6을 곱함\n",
        "batch_size = 256\n",
        "\n",
        "train_dataset = keras.utils.timeseries_dataset_from_array( ## 이 함수를 이용해서 구해줄 것이다.\n",
        "    raw_data[:-delay],  ## -delay는 맨 끝에 있는걸 넣어줬다.\n",
        "    targets = temperature[delay:],\n",
        "    sampling_rate = sampling_rate,\n",
        "    sequence_length = sequence_length,\n",
        "    shuffle = True,\n",
        "    batch_size = batch_size,\n",
        "    start_index = 0,\n",
        "    end_index = num_train_samples\n",
        ")\n",
        "\n",
        "val_dataset = keras.utils.timeseries_dataset_from_array(\n",
        "    raw_data[:-delay],\n",
        "    targets = temperature[delay:],\n",
        "    sampling_rate = sampling_rate,\n",
        "    sequence_length = sequence_length,\n",
        "    shuffle = True,\n",
        "    batch_size = batch_size,\n",
        "    start_index = num_train_samples,\n",
        "    end_index = num_train_samples + num_val_samples\n",
        ")\n",
        "\n",
        "test_dataset = keras.utils.timeseries_dataset_from_array(\n",
        "    raw_data[:-delay],\n",
        "    targets = temperature[delay:],\n",
        "    sampling_rate = sampling_rate,\n",
        "    sequence_length = sequence_length,\n",
        "    shuffle = True,\n",
        "    batch_size = batch_size,\n",
        "    start_index = num_train_samples + num_val_samples  ## 끝까지니까 end_index는 필요없다.\n",
        ")"
      ],
      "metadata": {
        "id": "ydFJDkIhu5Dw"
      },
      "execution_count": 67,
      "outputs": []
    },
    {
      "cell_type": "code",
      "source": [
        "# 4. RNN 구조 모델 구성\n",
        "from tensorflow import keras\n",
        "from tensorflow.keras import layers\n",
        "\n",
        "inputs = keras.Input(shape=(sequence_length, raw_data.shape[-1]))  ## 뒤에 있는거니까 -1이다.\n",
        "x = layers.Flatten()(inputs)\n",
        "outputs = layers.Dense(1, activation='sigmoid')(x)\n",
        "model = keras.Model(inputs, outputs)\n",
        "\n",
        "model.compile(optimizer='rmsprop',\n",
        "              loss='mse',\n",
        "              metrics=['mae'])"
      ],
      "metadata": {
        "id": "iI_1Q3tpu4_3"
      },
      "execution_count": 68,
      "outputs": []
    },
    {
      "cell_type": "code",
      "source": [
        "# 5.모델 학습\n",
        "history = model.fit(train_dataset,\n",
        "                    epochs=10,\n",
        "                    validation_data=val_dataset,\n",
        "                    callbacks=callbacks)"
      ],
      "metadata": {
        "colab": {
          "base_uri": "https://localhost:8080/"
        },
        "id": "33isvIoFu44P",
        "outputId": "30e88217-89e0-423c-c222-39d063a69fc4"
      },
      "execution_count": 69,
      "outputs": [
        {
          "output_type": "stream",
          "name": "stdout",
          "text": [
            "Epoch 1/10\n",
            "819/819 [==============================] - 43s 52ms/step - loss: 138.4060 - mae: 9.7125 - val_loss: 145.0873 - val_mae: 9.9801\n",
            "Epoch 2/10\n",
            "819/819 [==============================] - 42s 51ms/step - loss: 137.8188 - mae: 9.6682 - val_loss: 144.6461 - val_mae: 9.9637\n",
            "Epoch 3/10\n",
            "819/819 [==============================] - 44s 54ms/step - loss: 137.5639 - mae: 9.6461 - val_loss: 144.3686 - val_mae: 9.9244\n",
            "Epoch 4/10\n",
            "819/819 [==============================] - 42s 51ms/step - loss: 137.3435 - mae: 9.6260 - val_loss: 144.3896 - val_mae: 9.9035\n",
            "Epoch 5/10\n",
            "819/819 [==============================] - 40s 49ms/step - loss: 137.1899 - mae: 9.6116 - val_loss: 144.0119 - val_mae: 9.8923\n",
            "Epoch 6/10\n",
            "819/819 [==============================] - 39s 48ms/step - loss: 137.1062 - mae: 9.6041 - val_loss: 143.9378 - val_mae: 9.8883\n",
            "Epoch 7/10\n",
            "819/819 [==============================] - 40s 49ms/step - loss: 137.0650 - mae: 9.5999 - val_loss: 143.9191 - val_mae: 9.8852\n",
            "Epoch 8/10\n",
            "819/819 [==============================] - 39s 47ms/step - loss: 137.0413 - mae: 9.5974 - val_loss: 143.9115 - val_mae: 9.8865\n",
            "Epoch 9/10\n",
            "819/819 [==============================] - 39s 47ms/step - loss: 137.0262 - mae: 9.5957 - val_loss: 143.9031 - val_mae: 9.8834\n",
            "Epoch 10/10\n",
            "819/819 [==============================] - 39s 47ms/step - loss: 137.0155 - mae: 9.5944 - val_loss: 143.9070 - val_mae: 9.8842\n"
          ]
        }
      ]
    },
    {
      "cell_type": "markdown",
      "source": [
        "#### [ 도전 과제 ] 드롭아웃 규제를 적용한 LSTM 모델 훈련하고 평가"
      ],
      "metadata": {
        "id": "HCqWFMftUc_9"
      }
    },
    {
      "cell_type": "code",
      "source": [
        "# 1.데이터 로드\n",
        "import os\n",
        "fname = os.path.join('jena_climate_2009_2016.csv')\n",
        "\n",
        "with open(fname) as f:  ## f로 열어서\n",
        "  data = f.read()  ## data에 넣기\n",
        "\n",
        "lines = data.split('\\n') ## ('\\n')는 줄바꿈\n",
        "header = lines[0].split(',')\n",
        "lines = lines[1:]\n",
        "print(header)\n",
        "print(len(lines))"
      ],
      "metadata": {
        "colab": {
          "base_uri": "https://localhost:8080/"
        },
        "id": "aQbCLQ69w5Hi",
        "outputId": "4f9b62dd-65a7-40fd-804a-d4dba1272c89"
      },
      "execution_count": 70,
      "outputs": [
        {
          "output_type": "stream",
          "name": "stdout",
          "text": [
            "['\"Date Time\"', '\"p (mbar)\"', '\"T (degC)\"', '\"Tpot (K)\"', '\"Tdew (degC)\"', '\"rh (%)\"', '\"VPmax (mbar)\"', '\"VPact (mbar)\"', '\"VPdef (mbar)\"', '\"sh (g/kg)\"', '\"H2OC (mmol/mol)\"', '\"rho (g/m**3)\"', '\"wv (m/s)\"', '\"max. wv (m/s)\"', '\"wd (deg)\"']\n",
            "420451\n"
          ]
        }
      ]
    },
    {
      "cell_type": "code",
      "source": [
        "# 2.데이터 준비\n",
        "import numpy as np\n",
        "temperature = np.zeros((len(lines),))\n",
        "raw_data = np.zeros((len(lines),len(header) -1))\n",
        "for i, line in enumerate(lines):\n",
        "  values = [float(x) for x in line.split(',')[1:]]\n",
        "  temperature[i] = values[1]\n",
        "  raw_data[i, :] = values[:]"
      ],
      "metadata": {
        "id": "XdP_LNhbw5SZ"
      },
      "execution_count": 71,
      "outputs": []
    },
    {
      "cell_type": "code",
      "source": [
        "# 데이터셋을 만들건데 이번에는 train_data(50%), valdation_data(25%), test_data(나머지)로 만들것이다.\n",
        "# 각 분할에 사용할 샘플 수 계산\n",
        "num_train_samples = int(0.5 * len(raw_data))  ##raw_data의 50%\n",
        "num_val_samples = int(0.25 * len(raw_data))\n",
        "num_test_samples = len(raw_data) - num_train_samples - num_val_samples\n",
        "print(num_train_samples, num_val_samples, num_test_samples)"
      ],
      "metadata": {
        "colab": {
          "base_uri": "https://localhost:8080/"
        },
        "id": "WjzUX61uw5XJ",
        "outputId": "0134c3a9-5da3-4bcc-e5c2-9b27dbd2344f"
      },
      "execution_count": 72,
      "outputs": [
        {
          "output_type": "stream",
          "name": "stdout",
          "text": [
            "210225 105112 105114\n"
          ]
        }
      ]
    },
    {
      "cell_type": "code",
      "source": [
        "# 3.데이터 정규화(test 쓰면 안된다.)\n",
        "mean = raw_data[:num_train_samples].mean(axis=0)\n",
        "raw_data -= mean\n",
        "std = raw_data[:num_train_samples].std(axis=0)\n",
        "raw_data /= std  ## 나눠서 대입 ## 오차를 표준편차로 나눈것이다."
      ],
      "metadata": {
        "id": "fG1to_gLw5aB"
      },
      "execution_count": 73,
      "outputs": []
    },
    {
      "cell_type": "code",
      "source": [
        "from tensorflow import keras\n",
        "sampling_rate = 6  ## 1시간이 10분씩 하면 6번이다. (즉, 10분 단위이다.)\n",
        "sequence_length = 120  ## timestep이다.\n",
        "delay = sampling_rate * (sequence_length + 24 - 1) ## 하루가 24시간, 시퀀스 랭스에 다음일(24) 해주고 인덱스 0이니까 하나 빼줌 거기에 6을 곱함\n",
        "batch_size = 256\n",
        "\n",
        "train_dataset = keras.utils.timeseries_dataset_from_array( ## 이 함수를 이용해서 구해줄 것이다.\n",
        "    raw_data[:-delay],  ## -delay는 맨 끝에 있는걸 넣어줬다.\n",
        "    targets = temperature[delay:],\n",
        "    sampling_rate = sampling_rate,\n",
        "    sequence_length = sequence_length,\n",
        "    shuffle = True,\n",
        "    batch_size = batch_size,\n",
        "    start_index = 0,\n",
        "    end_index = num_train_samples\n",
        ")\n",
        "\n",
        "val_dataset = keras.utils.timeseries_dataset_from_array(\n",
        "    raw_data[:-delay],\n",
        "    targets = temperature[delay:],\n",
        "    sampling_rate = sampling_rate,\n",
        "    sequence_length = sequence_length,\n",
        "    shuffle = True,\n",
        "    batch_size = batch_size,\n",
        "    start_index = num_train_samples,\n",
        "    end_index = num_train_samples + num_val_samples\n",
        ")\n",
        "\n",
        "test_dataset = keras.utils.timeseries_dataset_from_array(\n",
        "    raw_data[:-delay],\n",
        "    targets = temperature[delay:],\n",
        "    sampling_rate = sampling_rate,\n",
        "    sequence_length = sequence_length,\n",
        "    shuffle = True,\n",
        "    batch_size = batch_size,\n",
        "    start_index = num_train_samples + num_val_samples  ## 끝까지니까 end_index는 필요없다.\n",
        ")"
      ],
      "metadata": {
        "id": "bFTzbBjLw5dd"
      },
      "execution_count": 74,
      "outputs": []
    },
    {
      "cell_type": "code",
      "source": [
        "# 4. 드롭아웃 규제를 적용한 LSTM 기반 모델 구성\n",
        "from tensorflow import keras\n",
        "from tensorflow.keras import layers\n",
        "\n",
        "inputs = keras.Input(shape=(sequence_length, raw_data.shape[-1]))  ## 뒤에 있는거니까 -1이다.\n",
        "x = layers.LSTM(32, recurrent_dropout=0.25)(inputs)\n",
        "x = layers.Dropout(0.5)(x)\n",
        "outputs = layers.Dense(1)(x)\n",
        "model = keras.Model(inputs, outputs)\n",
        "\n",
        "callbacks = [\n",
        "    keras.callbacks.ModelCheckpoint('jena_lstm_dropout.keras',\n",
        "                                    save_best_only=True)\n",
        "]\n",
        "\n",
        "model.compile(optimizer='rmsprop',\n",
        "              loss='mse',\n",
        "              metrics=['mae'])\n",
        "\n",
        "model.summary()"
      ],
      "metadata": {
        "colab": {
          "base_uri": "https://localhost:8080/"
        },
        "id": "tgVl3mxjw5gg",
        "outputId": "87b2b06a-4bf5-498b-b066-c54ae4829759"
      },
      "execution_count": 77,
      "outputs": [
        {
          "output_type": "stream",
          "name": "stderr",
          "text": [
            "WARNING:tensorflow:Layer lstm_3 will not use cuDNN kernels since it doesn't meet the criteria. It will use a generic GPU kernel as fallback when running on GPU.\n"
          ]
        },
        {
          "output_type": "stream",
          "name": "stdout",
          "text": [
            "Model: \"model_11\"\n",
            "_________________________________________________________________\n",
            " Layer (type)                Output Shape              Param #   \n",
            "=================================================================\n",
            " input_12 (InputLayer)       [(None, 120, 14)]         0         \n",
            "                                                                 \n",
            " lstm_3 (LSTM)               (None, 32)                6016      \n",
            "                                                                 \n",
            " dropout (Dropout)           (None, 32)                0         \n",
            "                                                                 \n",
            " dense_14 (Dense)            (None, 1)                 33        \n",
            "                                                                 \n",
            "=================================================================\n",
            "Total params: 6,049\n",
            "Trainable params: 6,049\n",
            "Non-trainable params: 0\n",
            "_________________________________________________________________\n"
          ]
        }
      ]
    },
    {
      "cell_type": "code",
      "source": [
        "# 5.모델 학습\n",
        "history = model.fit(train_dataset,\n",
        "                    epochs=10,\n",
        "                    validation_data=val_dataset,\n",
        "                    callbacks=callbacks)"
      ],
      "metadata": {
        "colab": {
          "base_uri": "https://localhost:8080/",
          "height": 455
        },
        "id": "uSc5wyddw6EJ",
        "outputId": "9cf0004a-e57a-4c8c-f11e-470fb15c27f5"
      },
      "execution_count": 78,
      "outputs": [
        {
          "output_type": "stream",
          "name": "stdout",
          "text": [
            "Epoch 1/10\n",
            "734/819 [=========================>....] - ETA: 32s - loss: 31.3456 - mae: 4.1075"
          ]
        },
        {
          "output_type": "error",
          "ename": "KeyboardInterrupt",
          "evalue": "ignored",
          "traceback": [
            "\u001b[0;31m---------------------------------------------------------------------------\u001b[0m",
            "\u001b[0;31mKeyboardInterrupt\u001b[0m                         Traceback (most recent call last)",
            "\u001b[0;32m<ipython-input-78-5e0239b541fd>\u001b[0m in \u001b[0;36m<module>\u001b[0;34m\u001b[0m\n\u001b[1;32m      1\u001b[0m \u001b[0;31m# 5.모델 학습\u001b[0m\u001b[0;34m\u001b[0m\u001b[0;34m\u001b[0m\u001b[0;34m\u001b[0m\u001b[0m\n\u001b[0;32m----> 2\u001b[0;31m history = model.fit(train_dataset,\n\u001b[0m\u001b[1;32m      3\u001b[0m                     \u001b[0mepochs\u001b[0m\u001b[0;34m=\u001b[0m\u001b[0;36m10\u001b[0m\u001b[0;34m,\u001b[0m\u001b[0;34m\u001b[0m\u001b[0;34m\u001b[0m\u001b[0m\n\u001b[1;32m      4\u001b[0m                     \u001b[0mvalidation_data\u001b[0m\u001b[0;34m=\u001b[0m\u001b[0mval_dataset\u001b[0m\u001b[0;34m,\u001b[0m\u001b[0;34m\u001b[0m\u001b[0;34m\u001b[0m\u001b[0m\n\u001b[1;32m      5\u001b[0m                     callbacks=callbacks)\n",
            "\u001b[0;32m/usr/local/lib/python3.8/dist-packages/keras/utils/traceback_utils.py\u001b[0m in \u001b[0;36merror_handler\u001b[0;34m(*args, **kwargs)\u001b[0m\n\u001b[1;32m     62\u001b[0m     \u001b[0mfiltered_tb\u001b[0m \u001b[0;34m=\u001b[0m \u001b[0;32mNone\u001b[0m\u001b[0;34m\u001b[0m\u001b[0;34m\u001b[0m\u001b[0m\n\u001b[1;32m     63\u001b[0m     \u001b[0;32mtry\u001b[0m\u001b[0;34m:\u001b[0m\u001b[0;34m\u001b[0m\u001b[0;34m\u001b[0m\u001b[0m\n\u001b[0;32m---> 64\u001b[0;31m       \u001b[0;32mreturn\u001b[0m \u001b[0mfn\u001b[0m\u001b[0;34m(\u001b[0m\u001b[0;34m*\u001b[0m\u001b[0margs\u001b[0m\u001b[0;34m,\u001b[0m \u001b[0;34m**\u001b[0m\u001b[0mkwargs\u001b[0m\u001b[0;34m)\u001b[0m\u001b[0;34m\u001b[0m\u001b[0;34m\u001b[0m\u001b[0m\n\u001b[0m\u001b[1;32m     65\u001b[0m     \u001b[0;32mexcept\u001b[0m \u001b[0mException\u001b[0m \u001b[0;32mas\u001b[0m \u001b[0me\u001b[0m\u001b[0;34m:\u001b[0m  \u001b[0;31m# pylint: disable=broad-except\u001b[0m\u001b[0;34m\u001b[0m\u001b[0;34m\u001b[0m\u001b[0m\n\u001b[1;32m     66\u001b[0m       \u001b[0mfiltered_tb\u001b[0m \u001b[0;34m=\u001b[0m \u001b[0m_process_traceback_frames\u001b[0m\u001b[0;34m(\u001b[0m\u001b[0me\u001b[0m\u001b[0;34m.\u001b[0m\u001b[0m__traceback__\u001b[0m\u001b[0;34m)\u001b[0m\u001b[0;34m\u001b[0m\u001b[0;34m\u001b[0m\u001b[0m\n",
            "\u001b[0;32m/usr/local/lib/python3.8/dist-packages/keras/engine/training.py\u001b[0m in \u001b[0;36mfit\u001b[0;34m(self, x, y, batch_size, epochs, verbose, callbacks, validation_split, validation_data, shuffle, class_weight, sample_weight, initial_epoch, steps_per_epoch, validation_steps, validation_batch_size, validation_freq, max_queue_size, workers, use_multiprocessing)\u001b[0m\n\u001b[1;32m   1407\u001b[0m                 _r=1):\n\u001b[1;32m   1408\u001b[0m               \u001b[0mcallbacks\u001b[0m\u001b[0;34m.\u001b[0m\u001b[0mon_train_batch_begin\u001b[0m\u001b[0;34m(\u001b[0m\u001b[0mstep\u001b[0m\u001b[0;34m)\u001b[0m\u001b[0;34m\u001b[0m\u001b[0;34m\u001b[0m\u001b[0m\n\u001b[0;32m-> 1409\u001b[0;31m               \u001b[0mtmp_logs\u001b[0m \u001b[0;34m=\u001b[0m \u001b[0mself\u001b[0m\u001b[0;34m.\u001b[0m\u001b[0mtrain_function\u001b[0m\u001b[0;34m(\u001b[0m\u001b[0miterator\u001b[0m\u001b[0;34m)\u001b[0m\u001b[0;34m\u001b[0m\u001b[0;34m\u001b[0m\u001b[0m\n\u001b[0m\u001b[1;32m   1410\u001b[0m               \u001b[0;32mif\u001b[0m \u001b[0mdata_handler\u001b[0m\u001b[0;34m.\u001b[0m\u001b[0mshould_sync\u001b[0m\u001b[0;34m:\u001b[0m\u001b[0;34m\u001b[0m\u001b[0;34m\u001b[0m\u001b[0m\n\u001b[1;32m   1411\u001b[0m                 \u001b[0mcontext\u001b[0m\u001b[0;34m.\u001b[0m\u001b[0masync_wait\u001b[0m\u001b[0;34m(\u001b[0m\u001b[0;34m)\u001b[0m\u001b[0;34m\u001b[0m\u001b[0;34m\u001b[0m\u001b[0m\n",
            "\u001b[0;32m/usr/local/lib/python3.8/dist-packages/tensorflow/python/util/traceback_utils.py\u001b[0m in \u001b[0;36merror_handler\u001b[0;34m(*args, **kwargs)\u001b[0m\n\u001b[1;32m    148\u001b[0m     \u001b[0mfiltered_tb\u001b[0m \u001b[0;34m=\u001b[0m \u001b[0;32mNone\u001b[0m\u001b[0;34m\u001b[0m\u001b[0;34m\u001b[0m\u001b[0m\n\u001b[1;32m    149\u001b[0m     \u001b[0;32mtry\u001b[0m\u001b[0;34m:\u001b[0m\u001b[0;34m\u001b[0m\u001b[0;34m\u001b[0m\u001b[0m\n\u001b[0;32m--> 150\u001b[0;31m       \u001b[0;32mreturn\u001b[0m \u001b[0mfn\u001b[0m\u001b[0;34m(\u001b[0m\u001b[0;34m*\u001b[0m\u001b[0margs\u001b[0m\u001b[0;34m,\u001b[0m \u001b[0;34m**\u001b[0m\u001b[0mkwargs\u001b[0m\u001b[0;34m)\u001b[0m\u001b[0;34m\u001b[0m\u001b[0;34m\u001b[0m\u001b[0m\n\u001b[0m\u001b[1;32m    151\u001b[0m     \u001b[0;32mexcept\u001b[0m \u001b[0mException\u001b[0m \u001b[0;32mas\u001b[0m \u001b[0me\u001b[0m\u001b[0;34m:\u001b[0m\u001b[0;34m\u001b[0m\u001b[0;34m\u001b[0m\u001b[0m\n\u001b[1;32m    152\u001b[0m       \u001b[0mfiltered_tb\u001b[0m \u001b[0;34m=\u001b[0m \u001b[0m_process_traceback_frames\u001b[0m\u001b[0;34m(\u001b[0m\u001b[0me\u001b[0m\u001b[0;34m.\u001b[0m\u001b[0m__traceback__\u001b[0m\u001b[0;34m)\u001b[0m\u001b[0;34m\u001b[0m\u001b[0;34m\u001b[0m\u001b[0m\n",
            "\u001b[0;32m/usr/local/lib/python3.8/dist-packages/tensorflow/python/eager/def_function.py\u001b[0m in \u001b[0;36m__call__\u001b[0;34m(self, *args, **kwds)\u001b[0m\n\u001b[1;32m    913\u001b[0m \u001b[0;34m\u001b[0m\u001b[0m\n\u001b[1;32m    914\u001b[0m       \u001b[0;32mwith\u001b[0m \u001b[0mOptionalXlaContext\u001b[0m\u001b[0;34m(\u001b[0m\u001b[0mself\u001b[0m\u001b[0;34m.\u001b[0m\u001b[0m_jit_compile\u001b[0m\u001b[0;34m)\u001b[0m\u001b[0;34m:\u001b[0m\u001b[0;34m\u001b[0m\u001b[0;34m\u001b[0m\u001b[0m\n\u001b[0;32m--> 915\u001b[0;31m         \u001b[0mresult\u001b[0m \u001b[0;34m=\u001b[0m \u001b[0mself\u001b[0m\u001b[0;34m.\u001b[0m\u001b[0m_call\u001b[0m\u001b[0;34m(\u001b[0m\u001b[0;34m*\u001b[0m\u001b[0margs\u001b[0m\u001b[0;34m,\u001b[0m \u001b[0;34m**\u001b[0m\u001b[0mkwds\u001b[0m\u001b[0;34m)\u001b[0m\u001b[0;34m\u001b[0m\u001b[0;34m\u001b[0m\u001b[0m\n\u001b[0m\u001b[1;32m    916\u001b[0m \u001b[0;34m\u001b[0m\u001b[0m\n\u001b[1;32m    917\u001b[0m       \u001b[0mnew_tracing_count\u001b[0m \u001b[0;34m=\u001b[0m \u001b[0mself\u001b[0m\u001b[0;34m.\u001b[0m\u001b[0mexperimental_get_tracing_count\u001b[0m\u001b[0;34m(\u001b[0m\u001b[0;34m)\u001b[0m\u001b[0;34m\u001b[0m\u001b[0;34m\u001b[0m\u001b[0m\n",
            "\u001b[0;32m/usr/local/lib/python3.8/dist-packages/tensorflow/python/eager/def_function.py\u001b[0m in \u001b[0;36m_call\u001b[0;34m(self, *args, **kwds)\u001b[0m\n\u001b[1;32m    945\u001b[0m       \u001b[0;31m# In this case we have created variables on the first call, so we run the\u001b[0m\u001b[0;34m\u001b[0m\u001b[0;34m\u001b[0m\u001b[0;34m\u001b[0m\u001b[0m\n\u001b[1;32m    946\u001b[0m       \u001b[0;31m# defunned version which is guaranteed to never create variables.\u001b[0m\u001b[0;34m\u001b[0m\u001b[0;34m\u001b[0m\u001b[0;34m\u001b[0m\u001b[0m\n\u001b[0;32m--> 947\u001b[0;31m       \u001b[0;32mreturn\u001b[0m \u001b[0mself\u001b[0m\u001b[0;34m.\u001b[0m\u001b[0m_stateless_fn\u001b[0m\u001b[0;34m(\u001b[0m\u001b[0;34m*\u001b[0m\u001b[0margs\u001b[0m\u001b[0;34m,\u001b[0m \u001b[0;34m**\u001b[0m\u001b[0mkwds\u001b[0m\u001b[0;34m)\u001b[0m  \u001b[0;31m# pylint: disable=not-callable\u001b[0m\u001b[0;34m\u001b[0m\u001b[0;34m\u001b[0m\u001b[0m\n\u001b[0m\u001b[1;32m    948\u001b[0m     \u001b[0;32melif\u001b[0m \u001b[0mself\u001b[0m\u001b[0;34m.\u001b[0m\u001b[0m_stateful_fn\u001b[0m \u001b[0;32mis\u001b[0m \u001b[0;32mnot\u001b[0m \u001b[0;32mNone\u001b[0m\u001b[0;34m:\u001b[0m\u001b[0;34m\u001b[0m\u001b[0;34m\u001b[0m\u001b[0m\n\u001b[1;32m    949\u001b[0m       \u001b[0;31m# Release the lock early so that multiple threads can perform the call\u001b[0m\u001b[0;34m\u001b[0m\u001b[0;34m\u001b[0m\u001b[0;34m\u001b[0m\u001b[0m\n",
            "\u001b[0;32m/usr/local/lib/python3.8/dist-packages/tensorflow/python/eager/function.py\u001b[0m in \u001b[0;36m__call__\u001b[0;34m(self, *args, **kwargs)\u001b[0m\n\u001b[1;32m   2451\u001b[0m       (graph_function,\n\u001b[1;32m   2452\u001b[0m        filtered_flat_args) = self._maybe_define_function(args, kwargs)\n\u001b[0;32m-> 2453\u001b[0;31m     return graph_function._call_flat(\n\u001b[0m\u001b[1;32m   2454\u001b[0m         filtered_flat_args, captured_inputs=graph_function.captured_inputs)  # pylint: disable=protected-access\n\u001b[1;32m   2455\u001b[0m \u001b[0;34m\u001b[0m\u001b[0m\n",
            "\u001b[0;32m/usr/local/lib/python3.8/dist-packages/tensorflow/python/eager/function.py\u001b[0m in \u001b[0;36m_call_flat\u001b[0;34m(self, args, captured_inputs, cancellation_manager)\u001b[0m\n\u001b[1;32m   1858\u001b[0m         and executing_eagerly):\n\u001b[1;32m   1859\u001b[0m       \u001b[0;31m# No tape is watching; skip to running the function.\u001b[0m\u001b[0;34m\u001b[0m\u001b[0;34m\u001b[0m\u001b[0;34m\u001b[0m\u001b[0m\n\u001b[0;32m-> 1860\u001b[0;31m       return self._build_call_outputs(self._inference_function.call(\n\u001b[0m\u001b[1;32m   1861\u001b[0m           ctx, args, cancellation_manager=cancellation_manager))\n\u001b[1;32m   1862\u001b[0m     forward_backward = self._select_forward_and_backward_functions(\n",
            "\u001b[0;32m/usr/local/lib/python3.8/dist-packages/tensorflow/python/eager/function.py\u001b[0m in \u001b[0;36mcall\u001b[0;34m(self, ctx, args, cancellation_manager)\u001b[0m\n\u001b[1;32m    495\u001b[0m       \u001b[0;32mwith\u001b[0m \u001b[0m_InterpolateFunctionError\u001b[0m\u001b[0;34m(\u001b[0m\u001b[0mself\u001b[0m\u001b[0;34m)\u001b[0m\u001b[0;34m:\u001b[0m\u001b[0;34m\u001b[0m\u001b[0;34m\u001b[0m\u001b[0m\n\u001b[1;32m    496\u001b[0m         \u001b[0;32mif\u001b[0m \u001b[0mcancellation_manager\u001b[0m \u001b[0;32mis\u001b[0m \u001b[0;32mNone\u001b[0m\u001b[0;34m:\u001b[0m\u001b[0;34m\u001b[0m\u001b[0;34m\u001b[0m\u001b[0m\n\u001b[0;32m--> 497\u001b[0;31m           outputs = execute.execute(\n\u001b[0m\u001b[1;32m    498\u001b[0m               \u001b[0mstr\u001b[0m\u001b[0;34m(\u001b[0m\u001b[0mself\u001b[0m\u001b[0;34m.\u001b[0m\u001b[0msignature\u001b[0m\u001b[0;34m.\u001b[0m\u001b[0mname\u001b[0m\u001b[0;34m)\u001b[0m\u001b[0;34m,\u001b[0m\u001b[0;34m\u001b[0m\u001b[0;34m\u001b[0m\u001b[0m\n\u001b[1;32m    499\u001b[0m               \u001b[0mnum_outputs\u001b[0m\u001b[0;34m=\u001b[0m\u001b[0mself\u001b[0m\u001b[0;34m.\u001b[0m\u001b[0m_num_outputs\u001b[0m\u001b[0;34m,\u001b[0m\u001b[0;34m\u001b[0m\u001b[0;34m\u001b[0m\u001b[0m\n",
            "\u001b[0;32m/usr/local/lib/python3.8/dist-packages/tensorflow/python/eager/execute.py\u001b[0m in \u001b[0;36mquick_execute\u001b[0;34m(op_name, num_outputs, inputs, attrs, ctx, name)\u001b[0m\n\u001b[1;32m     52\u001b[0m   \u001b[0;32mtry\u001b[0m\u001b[0;34m:\u001b[0m\u001b[0;34m\u001b[0m\u001b[0;34m\u001b[0m\u001b[0m\n\u001b[1;32m     53\u001b[0m     \u001b[0mctx\u001b[0m\u001b[0;34m.\u001b[0m\u001b[0mensure_initialized\u001b[0m\u001b[0;34m(\u001b[0m\u001b[0;34m)\u001b[0m\u001b[0;34m\u001b[0m\u001b[0;34m\u001b[0m\u001b[0m\n\u001b[0;32m---> 54\u001b[0;31m     tensors = pywrap_tfe.TFE_Py_Execute(ctx._handle, device_name, op_name,\n\u001b[0m\u001b[1;32m     55\u001b[0m                                         inputs, attrs, num_outputs)\n\u001b[1;32m     56\u001b[0m   \u001b[0;32mexcept\u001b[0m \u001b[0mcore\u001b[0m\u001b[0;34m.\u001b[0m\u001b[0m_NotOkStatusException\u001b[0m \u001b[0;32mas\u001b[0m \u001b[0me\u001b[0m\u001b[0;34m:\u001b[0m\u001b[0;34m\u001b[0m\u001b[0;34m\u001b[0m\u001b[0m\n",
            "\u001b[0;31mKeyboardInterrupt\u001b[0m: "
          ]
        }
      ]
    },
    {
      "cell_type": "markdown",
      "source": [
        "#### [ 도전 과제 ] 드롭아웃 규제와 스태킹을 적용하여 GRU 모델을 훈련하고 평가"
      ],
      "metadata": {
        "id": "Qj73C3yaUrQV"
      }
    },
    {
      "cell_type": "code",
      "source": [
        "x = layers.GRU(32, recurrent_dropout=0.5, return_sequences=True)(input)"
      ],
      "metadata": {
        "id": "stY6jIAQU8iV"
      },
      "execution_count": null,
      "outputs": []
    }
  ]
}