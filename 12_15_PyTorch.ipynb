{
  "nbformat": 4,
  "nbformat_minor": 0,
  "metadata": {
    "colab": {
      "provenance": [],
      "mount_file_id": "1Te5fe5BbY1k8YiZQYGrTB6TUbW7bu8xO",
      "authorship_tag": "ABX9TyMYMV+9hY/EkD6ADKBc2jZH",
      "include_colab_link": true
    },
    "kernelspec": {
      "name": "python3",
      "display_name": "Python 3"
    },
    "language_info": {
      "name": "python"
    },
    "accelerator": "GPU",
    "gpuClass": "standard",
    "widgets": {
      "application/vnd.jupyter.widget-state+json": {
        "300f105a83c24e098d1185e56a8e4c93": {
          "model_module": "@jupyter-widgets/controls",
          "model_name": "HBoxModel",
          "model_module_version": "1.5.0",
          "state": {
            "_dom_classes": [],
            "_model_module": "@jupyter-widgets/controls",
            "_model_module_version": "1.5.0",
            "_model_name": "HBoxModel",
            "_view_count": null,
            "_view_module": "@jupyter-widgets/controls",
            "_view_module_version": "1.5.0",
            "_view_name": "HBoxView",
            "box_style": "",
            "children": [
              "IPY_MODEL_39e505a88a4b4bd0958770766f7b3d69",
              "IPY_MODEL_639a18f409f84427b4a3bf4f65e566cd",
              "IPY_MODEL_9540ec6647114760971e87884ffb1250"
            ],
            "layout": "IPY_MODEL_3abb16ee175f47c188f6a4c5a1bb0d0f"
          }
        },
        "39e505a88a4b4bd0958770766f7b3d69": {
          "model_module": "@jupyter-widgets/controls",
          "model_name": "HTMLModel",
          "model_module_version": "1.5.0",
          "state": {
            "_dom_classes": [],
            "_model_module": "@jupyter-widgets/controls",
            "_model_module_version": "1.5.0",
            "_model_name": "HTMLModel",
            "_view_count": null,
            "_view_module": "@jupyter-widgets/controls",
            "_view_module_version": "1.5.0",
            "_view_name": "HTMLView",
            "description": "",
            "description_tooltip": null,
            "layout": "IPY_MODEL_ebdd5ca2b7134957b8414c3e1be69aa8",
            "placeholder": "​",
            "style": "IPY_MODEL_e09eb37c3f714912b3117720a1e000fd",
            "value": "100%"
          }
        },
        "639a18f409f84427b4a3bf4f65e566cd": {
          "model_module": "@jupyter-widgets/controls",
          "model_name": "FloatProgressModel",
          "model_module_version": "1.5.0",
          "state": {
            "_dom_classes": [],
            "_model_module": "@jupyter-widgets/controls",
            "_model_module_version": "1.5.0",
            "_model_name": "FloatProgressModel",
            "_view_count": null,
            "_view_module": "@jupyter-widgets/controls",
            "_view_module_version": "1.5.0",
            "_view_name": "ProgressView",
            "bar_style": "success",
            "description": "",
            "description_tooltip": null,
            "layout": "IPY_MODEL_bd35e932584c4202bb76ff5d37ce25b7",
            "max": 26421880,
            "min": 0,
            "orientation": "horizontal",
            "style": "IPY_MODEL_8e0e5966c0124ca6b8a3bfd9a7b9ce24",
            "value": 26421880
          }
        },
        "9540ec6647114760971e87884ffb1250": {
          "model_module": "@jupyter-widgets/controls",
          "model_name": "HTMLModel",
          "model_module_version": "1.5.0",
          "state": {
            "_dom_classes": [],
            "_model_module": "@jupyter-widgets/controls",
            "_model_module_version": "1.5.0",
            "_model_name": "HTMLModel",
            "_view_count": null,
            "_view_module": "@jupyter-widgets/controls",
            "_view_module_version": "1.5.0",
            "_view_name": "HTMLView",
            "description": "",
            "description_tooltip": null,
            "layout": "IPY_MODEL_939a2e5b47cf4628a67ea69e6a64ae75",
            "placeholder": "​",
            "style": "IPY_MODEL_696b9243c07e4d8c816db1df2970fbdf",
            "value": " 26421880/26421880 [00:01&lt;00:00, 28785980.88it/s]"
          }
        },
        "3abb16ee175f47c188f6a4c5a1bb0d0f": {
          "model_module": "@jupyter-widgets/base",
          "model_name": "LayoutModel",
          "model_module_version": "1.2.0",
          "state": {
            "_model_module": "@jupyter-widgets/base",
            "_model_module_version": "1.2.0",
            "_model_name": "LayoutModel",
            "_view_count": null,
            "_view_module": "@jupyter-widgets/base",
            "_view_module_version": "1.2.0",
            "_view_name": "LayoutView",
            "align_content": null,
            "align_items": null,
            "align_self": null,
            "border": null,
            "bottom": null,
            "display": null,
            "flex": null,
            "flex_flow": null,
            "grid_area": null,
            "grid_auto_columns": null,
            "grid_auto_flow": null,
            "grid_auto_rows": null,
            "grid_column": null,
            "grid_gap": null,
            "grid_row": null,
            "grid_template_areas": null,
            "grid_template_columns": null,
            "grid_template_rows": null,
            "height": null,
            "justify_content": null,
            "justify_items": null,
            "left": null,
            "margin": null,
            "max_height": null,
            "max_width": null,
            "min_height": null,
            "min_width": null,
            "object_fit": null,
            "object_position": null,
            "order": null,
            "overflow": null,
            "overflow_x": null,
            "overflow_y": null,
            "padding": null,
            "right": null,
            "top": null,
            "visibility": null,
            "width": null
          }
        },
        "ebdd5ca2b7134957b8414c3e1be69aa8": {
          "model_module": "@jupyter-widgets/base",
          "model_name": "LayoutModel",
          "model_module_version": "1.2.0",
          "state": {
            "_model_module": "@jupyter-widgets/base",
            "_model_module_version": "1.2.0",
            "_model_name": "LayoutModel",
            "_view_count": null,
            "_view_module": "@jupyter-widgets/base",
            "_view_module_version": "1.2.0",
            "_view_name": "LayoutView",
            "align_content": null,
            "align_items": null,
            "align_self": null,
            "border": null,
            "bottom": null,
            "display": null,
            "flex": null,
            "flex_flow": null,
            "grid_area": null,
            "grid_auto_columns": null,
            "grid_auto_flow": null,
            "grid_auto_rows": null,
            "grid_column": null,
            "grid_gap": null,
            "grid_row": null,
            "grid_template_areas": null,
            "grid_template_columns": null,
            "grid_template_rows": null,
            "height": null,
            "justify_content": null,
            "justify_items": null,
            "left": null,
            "margin": null,
            "max_height": null,
            "max_width": null,
            "min_height": null,
            "min_width": null,
            "object_fit": null,
            "object_position": null,
            "order": null,
            "overflow": null,
            "overflow_x": null,
            "overflow_y": null,
            "padding": null,
            "right": null,
            "top": null,
            "visibility": null,
            "width": null
          }
        },
        "e09eb37c3f714912b3117720a1e000fd": {
          "model_module": "@jupyter-widgets/controls",
          "model_name": "DescriptionStyleModel",
          "model_module_version": "1.5.0",
          "state": {
            "_model_module": "@jupyter-widgets/controls",
            "_model_module_version": "1.5.0",
            "_model_name": "DescriptionStyleModel",
            "_view_count": null,
            "_view_module": "@jupyter-widgets/base",
            "_view_module_version": "1.2.0",
            "_view_name": "StyleView",
            "description_width": ""
          }
        },
        "bd35e932584c4202bb76ff5d37ce25b7": {
          "model_module": "@jupyter-widgets/base",
          "model_name": "LayoutModel",
          "model_module_version": "1.2.0",
          "state": {
            "_model_module": "@jupyter-widgets/base",
            "_model_module_version": "1.2.0",
            "_model_name": "LayoutModel",
            "_view_count": null,
            "_view_module": "@jupyter-widgets/base",
            "_view_module_version": "1.2.0",
            "_view_name": "LayoutView",
            "align_content": null,
            "align_items": null,
            "align_self": null,
            "border": null,
            "bottom": null,
            "display": null,
            "flex": null,
            "flex_flow": null,
            "grid_area": null,
            "grid_auto_columns": null,
            "grid_auto_flow": null,
            "grid_auto_rows": null,
            "grid_column": null,
            "grid_gap": null,
            "grid_row": null,
            "grid_template_areas": null,
            "grid_template_columns": null,
            "grid_template_rows": null,
            "height": null,
            "justify_content": null,
            "justify_items": null,
            "left": null,
            "margin": null,
            "max_height": null,
            "max_width": null,
            "min_height": null,
            "min_width": null,
            "object_fit": null,
            "object_position": null,
            "order": null,
            "overflow": null,
            "overflow_x": null,
            "overflow_y": null,
            "padding": null,
            "right": null,
            "top": null,
            "visibility": null,
            "width": null
          }
        },
        "8e0e5966c0124ca6b8a3bfd9a7b9ce24": {
          "model_module": "@jupyter-widgets/controls",
          "model_name": "ProgressStyleModel",
          "model_module_version": "1.5.0",
          "state": {
            "_model_module": "@jupyter-widgets/controls",
            "_model_module_version": "1.5.0",
            "_model_name": "ProgressStyleModel",
            "_view_count": null,
            "_view_module": "@jupyter-widgets/base",
            "_view_module_version": "1.2.0",
            "_view_name": "StyleView",
            "bar_color": null,
            "description_width": ""
          }
        },
        "939a2e5b47cf4628a67ea69e6a64ae75": {
          "model_module": "@jupyter-widgets/base",
          "model_name": "LayoutModel",
          "model_module_version": "1.2.0",
          "state": {
            "_model_module": "@jupyter-widgets/base",
            "_model_module_version": "1.2.0",
            "_model_name": "LayoutModel",
            "_view_count": null,
            "_view_module": "@jupyter-widgets/base",
            "_view_module_version": "1.2.0",
            "_view_name": "LayoutView",
            "align_content": null,
            "align_items": null,
            "align_self": null,
            "border": null,
            "bottom": null,
            "display": null,
            "flex": null,
            "flex_flow": null,
            "grid_area": null,
            "grid_auto_columns": null,
            "grid_auto_flow": null,
            "grid_auto_rows": null,
            "grid_column": null,
            "grid_gap": null,
            "grid_row": null,
            "grid_template_areas": null,
            "grid_template_columns": null,
            "grid_template_rows": null,
            "height": null,
            "justify_content": null,
            "justify_items": null,
            "left": null,
            "margin": null,
            "max_height": null,
            "max_width": null,
            "min_height": null,
            "min_width": null,
            "object_fit": null,
            "object_position": null,
            "order": null,
            "overflow": null,
            "overflow_x": null,
            "overflow_y": null,
            "padding": null,
            "right": null,
            "top": null,
            "visibility": null,
            "width": null
          }
        },
        "696b9243c07e4d8c816db1df2970fbdf": {
          "model_module": "@jupyter-widgets/controls",
          "model_name": "DescriptionStyleModel",
          "model_module_version": "1.5.0",
          "state": {
            "_model_module": "@jupyter-widgets/controls",
            "_model_module_version": "1.5.0",
            "_model_name": "DescriptionStyleModel",
            "_view_count": null,
            "_view_module": "@jupyter-widgets/base",
            "_view_module_version": "1.2.0",
            "_view_name": "StyleView",
            "description_width": ""
          }
        },
        "8d40763eb8e14f2eb5779b0cfa5c1407": {
          "model_module": "@jupyter-widgets/controls",
          "model_name": "HBoxModel",
          "model_module_version": "1.5.0",
          "state": {
            "_dom_classes": [],
            "_model_module": "@jupyter-widgets/controls",
            "_model_module_version": "1.5.0",
            "_model_name": "HBoxModel",
            "_view_count": null,
            "_view_module": "@jupyter-widgets/controls",
            "_view_module_version": "1.5.0",
            "_view_name": "HBoxView",
            "box_style": "",
            "children": [
              "IPY_MODEL_852ff42d31184566a1955b0c480e42af",
              "IPY_MODEL_09bfb457e1124667a840046f88ffb260",
              "IPY_MODEL_67e4684f4d504c8490fa865a14869954"
            ],
            "layout": "IPY_MODEL_2bb36b1d29304c45a044d4af0fd69655"
          }
        },
        "852ff42d31184566a1955b0c480e42af": {
          "model_module": "@jupyter-widgets/controls",
          "model_name": "HTMLModel",
          "model_module_version": "1.5.0",
          "state": {
            "_dom_classes": [],
            "_model_module": "@jupyter-widgets/controls",
            "_model_module_version": "1.5.0",
            "_model_name": "HTMLModel",
            "_view_count": null,
            "_view_module": "@jupyter-widgets/controls",
            "_view_module_version": "1.5.0",
            "_view_name": "HTMLView",
            "description": "",
            "description_tooltip": null,
            "layout": "IPY_MODEL_63e00a4f1137478fafa97bb3dc50126f",
            "placeholder": "​",
            "style": "IPY_MODEL_a4c63f1b63e8425d8a7193c48d3dcb4d",
            "value": "100%"
          }
        },
        "09bfb457e1124667a840046f88ffb260": {
          "model_module": "@jupyter-widgets/controls",
          "model_name": "FloatProgressModel",
          "model_module_version": "1.5.0",
          "state": {
            "_dom_classes": [],
            "_model_module": "@jupyter-widgets/controls",
            "_model_module_version": "1.5.0",
            "_model_name": "FloatProgressModel",
            "_view_count": null,
            "_view_module": "@jupyter-widgets/controls",
            "_view_module_version": "1.5.0",
            "_view_name": "ProgressView",
            "bar_style": "success",
            "description": "",
            "description_tooltip": null,
            "layout": "IPY_MODEL_95fe8726afac4a93aadd0d8caf577371",
            "max": 29515,
            "min": 0,
            "orientation": "horizontal",
            "style": "IPY_MODEL_8802383a50e845df86d7c8066188b472",
            "value": 29515
          }
        },
        "67e4684f4d504c8490fa865a14869954": {
          "model_module": "@jupyter-widgets/controls",
          "model_name": "HTMLModel",
          "model_module_version": "1.5.0",
          "state": {
            "_dom_classes": [],
            "_model_module": "@jupyter-widgets/controls",
            "_model_module_version": "1.5.0",
            "_model_name": "HTMLModel",
            "_view_count": null,
            "_view_module": "@jupyter-widgets/controls",
            "_view_module_version": "1.5.0",
            "_view_name": "HTMLView",
            "description": "",
            "description_tooltip": null,
            "layout": "IPY_MODEL_1f443f6e5e594033afe2fa348dfb3278",
            "placeholder": "​",
            "style": "IPY_MODEL_db0afcd27b5e4af58b5935c24b5c8818",
            "value": " 29515/29515 [00:00&lt;00:00, 329855.80it/s]"
          }
        },
        "2bb36b1d29304c45a044d4af0fd69655": {
          "model_module": "@jupyter-widgets/base",
          "model_name": "LayoutModel",
          "model_module_version": "1.2.0",
          "state": {
            "_model_module": "@jupyter-widgets/base",
            "_model_module_version": "1.2.0",
            "_model_name": "LayoutModel",
            "_view_count": null,
            "_view_module": "@jupyter-widgets/base",
            "_view_module_version": "1.2.0",
            "_view_name": "LayoutView",
            "align_content": null,
            "align_items": null,
            "align_self": null,
            "border": null,
            "bottom": null,
            "display": null,
            "flex": null,
            "flex_flow": null,
            "grid_area": null,
            "grid_auto_columns": null,
            "grid_auto_flow": null,
            "grid_auto_rows": null,
            "grid_column": null,
            "grid_gap": null,
            "grid_row": null,
            "grid_template_areas": null,
            "grid_template_columns": null,
            "grid_template_rows": null,
            "height": null,
            "justify_content": null,
            "justify_items": null,
            "left": null,
            "margin": null,
            "max_height": null,
            "max_width": null,
            "min_height": null,
            "min_width": null,
            "object_fit": null,
            "object_position": null,
            "order": null,
            "overflow": null,
            "overflow_x": null,
            "overflow_y": null,
            "padding": null,
            "right": null,
            "top": null,
            "visibility": null,
            "width": null
          }
        },
        "63e00a4f1137478fafa97bb3dc50126f": {
          "model_module": "@jupyter-widgets/base",
          "model_name": "LayoutModel",
          "model_module_version": "1.2.0",
          "state": {
            "_model_module": "@jupyter-widgets/base",
            "_model_module_version": "1.2.0",
            "_model_name": "LayoutModel",
            "_view_count": null,
            "_view_module": "@jupyter-widgets/base",
            "_view_module_version": "1.2.0",
            "_view_name": "LayoutView",
            "align_content": null,
            "align_items": null,
            "align_self": null,
            "border": null,
            "bottom": null,
            "display": null,
            "flex": null,
            "flex_flow": null,
            "grid_area": null,
            "grid_auto_columns": null,
            "grid_auto_flow": null,
            "grid_auto_rows": null,
            "grid_column": null,
            "grid_gap": null,
            "grid_row": null,
            "grid_template_areas": null,
            "grid_template_columns": null,
            "grid_template_rows": null,
            "height": null,
            "justify_content": null,
            "justify_items": null,
            "left": null,
            "margin": null,
            "max_height": null,
            "max_width": null,
            "min_height": null,
            "min_width": null,
            "object_fit": null,
            "object_position": null,
            "order": null,
            "overflow": null,
            "overflow_x": null,
            "overflow_y": null,
            "padding": null,
            "right": null,
            "top": null,
            "visibility": null,
            "width": null
          }
        },
        "a4c63f1b63e8425d8a7193c48d3dcb4d": {
          "model_module": "@jupyter-widgets/controls",
          "model_name": "DescriptionStyleModel",
          "model_module_version": "1.5.0",
          "state": {
            "_model_module": "@jupyter-widgets/controls",
            "_model_module_version": "1.5.0",
            "_model_name": "DescriptionStyleModel",
            "_view_count": null,
            "_view_module": "@jupyter-widgets/base",
            "_view_module_version": "1.2.0",
            "_view_name": "StyleView",
            "description_width": ""
          }
        },
        "95fe8726afac4a93aadd0d8caf577371": {
          "model_module": "@jupyter-widgets/base",
          "model_name": "LayoutModel",
          "model_module_version": "1.2.0",
          "state": {
            "_model_module": "@jupyter-widgets/base",
            "_model_module_version": "1.2.0",
            "_model_name": "LayoutModel",
            "_view_count": null,
            "_view_module": "@jupyter-widgets/base",
            "_view_module_version": "1.2.0",
            "_view_name": "LayoutView",
            "align_content": null,
            "align_items": null,
            "align_self": null,
            "border": null,
            "bottom": null,
            "display": null,
            "flex": null,
            "flex_flow": null,
            "grid_area": null,
            "grid_auto_columns": null,
            "grid_auto_flow": null,
            "grid_auto_rows": null,
            "grid_column": null,
            "grid_gap": null,
            "grid_row": null,
            "grid_template_areas": null,
            "grid_template_columns": null,
            "grid_template_rows": null,
            "height": null,
            "justify_content": null,
            "justify_items": null,
            "left": null,
            "margin": null,
            "max_height": null,
            "max_width": null,
            "min_height": null,
            "min_width": null,
            "object_fit": null,
            "object_position": null,
            "order": null,
            "overflow": null,
            "overflow_x": null,
            "overflow_y": null,
            "padding": null,
            "right": null,
            "top": null,
            "visibility": null,
            "width": null
          }
        },
        "8802383a50e845df86d7c8066188b472": {
          "model_module": "@jupyter-widgets/controls",
          "model_name": "ProgressStyleModel",
          "model_module_version": "1.5.0",
          "state": {
            "_model_module": "@jupyter-widgets/controls",
            "_model_module_version": "1.5.0",
            "_model_name": "ProgressStyleModel",
            "_view_count": null,
            "_view_module": "@jupyter-widgets/base",
            "_view_module_version": "1.2.0",
            "_view_name": "StyleView",
            "bar_color": null,
            "description_width": ""
          }
        },
        "1f443f6e5e594033afe2fa348dfb3278": {
          "model_module": "@jupyter-widgets/base",
          "model_name": "LayoutModel",
          "model_module_version": "1.2.0",
          "state": {
            "_model_module": "@jupyter-widgets/base",
            "_model_module_version": "1.2.0",
            "_model_name": "LayoutModel",
            "_view_count": null,
            "_view_module": "@jupyter-widgets/base",
            "_view_module_version": "1.2.0",
            "_view_name": "LayoutView",
            "align_content": null,
            "align_items": null,
            "align_self": null,
            "border": null,
            "bottom": null,
            "display": null,
            "flex": null,
            "flex_flow": null,
            "grid_area": null,
            "grid_auto_columns": null,
            "grid_auto_flow": null,
            "grid_auto_rows": null,
            "grid_column": null,
            "grid_gap": null,
            "grid_row": null,
            "grid_template_areas": null,
            "grid_template_columns": null,
            "grid_template_rows": null,
            "height": null,
            "justify_content": null,
            "justify_items": null,
            "left": null,
            "margin": null,
            "max_height": null,
            "max_width": null,
            "min_height": null,
            "min_width": null,
            "object_fit": null,
            "object_position": null,
            "order": null,
            "overflow": null,
            "overflow_x": null,
            "overflow_y": null,
            "padding": null,
            "right": null,
            "top": null,
            "visibility": null,
            "width": null
          }
        },
        "db0afcd27b5e4af58b5935c24b5c8818": {
          "model_module": "@jupyter-widgets/controls",
          "model_name": "DescriptionStyleModel",
          "model_module_version": "1.5.0",
          "state": {
            "_model_module": "@jupyter-widgets/controls",
            "_model_module_version": "1.5.0",
            "_model_name": "DescriptionStyleModel",
            "_view_count": null,
            "_view_module": "@jupyter-widgets/base",
            "_view_module_version": "1.2.0",
            "_view_name": "StyleView",
            "description_width": ""
          }
        },
        "afbb37ebb40b4694862a97a16a4748da": {
          "model_module": "@jupyter-widgets/controls",
          "model_name": "HBoxModel",
          "model_module_version": "1.5.0",
          "state": {
            "_dom_classes": [],
            "_model_module": "@jupyter-widgets/controls",
            "_model_module_version": "1.5.0",
            "_model_name": "HBoxModel",
            "_view_count": null,
            "_view_module": "@jupyter-widgets/controls",
            "_view_module_version": "1.5.0",
            "_view_name": "HBoxView",
            "box_style": "",
            "children": [
              "IPY_MODEL_f5515e25501b4ed9ab3d8f89030268cb",
              "IPY_MODEL_5f497b1b4f1b426dbdcfcb7e4318e1cc",
              "IPY_MODEL_e92722c2fd3b43b8a4bebef9ad06168c"
            ],
            "layout": "IPY_MODEL_71237a07ed514655a1a64e9a1b870862"
          }
        },
        "f5515e25501b4ed9ab3d8f89030268cb": {
          "model_module": "@jupyter-widgets/controls",
          "model_name": "HTMLModel",
          "model_module_version": "1.5.0",
          "state": {
            "_dom_classes": [],
            "_model_module": "@jupyter-widgets/controls",
            "_model_module_version": "1.5.0",
            "_model_name": "HTMLModel",
            "_view_count": null,
            "_view_module": "@jupyter-widgets/controls",
            "_view_module_version": "1.5.0",
            "_view_name": "HTMLView",
            "description": "",
            "description_tooltip": null,
            "layout": "IPY_MODEL_624587a554e945af98ad5f7472ce21f4",
            "placeholder": "​",
            "style": "IPY_MODEL_0dad8af2f0ce479b8e49a08260af95b3",
            "value": "100%"
          }
        },
        "5f497b1b4f1b426dbdcfcb7e4318e1cc": {
          "model_module": "@jupyter-widgets/controls",
          "model_name": "FloatProgressModel",
          "model_module_version": "1.5.0",
          "state": {
            "_dom_classes": [],
            "_model_module": "@jupyter-widgets/controls",
            "_model_module_version": "1.5.0",
            "_model_name": "FloatProgressModel",
            "_view_count": null,
            "_view_module": "@jupyter-widgets/controls",
            "_view_module_version": "1.5.0",
            "_view_name": "ProgressView",
            "bar_style": "success",
            "description": "",
            "description_tooltip": null,
            "layout": "IPY_MODEL_cf305fa3e6c24fce9caa2c7f865e3666",
            "max": 4422102,
            "min": 0,
            "orientation": "horizontal",
            "style": "IPY_MODEL_07102a56379c4b5a9f9cdc96384228cf",
            "value": 4422102
          }
        },
        "e92722c2fd3b43b8a4bebef9ad06168c": {
          "model_module": "@jupyter-widgets/controls",
          "model_name": "HTMLModel",
          "model_module_version": "1.5.0",
          "state": {
            "_dom_classes": [],
            "_model_module": "@jupyter-widgets/controls",
            "_model_module_version": "1.5.0",
            "_model_name": "HTMLModel",
            "_view_count": null,
            "_view_module": "@jupyter-widgets/controls",
            "_view_module_version": "1.5.0",
            "_view_name": "HTMLView",
            "description": "",
            "description_tooltip": null,
            "layout": "IPY_MODEL_04542647436c4af2a015417948d30bd8",
            "placeholder": "​",
            "style": "IPY_MODEL_83753443eb7c4848bbc8c8720e8c0a8a",
            "value": " 4422102/4422102 [00:00&lt;00:00, 4219600.96it/s]"
          }
        },
        "71237a07ed514655a1a64e9a1b870862": {
          "model_module": "@jupyter-widgets/base",
          "model_name": "LayoutModel",
          "model_module_version": "1.2.0",
          "state": {
            "_model_module": "@jupyter-widgets/base",
            "_model_module_version": "1.2.0",
            "_model_name": "LayoutModel",
            "_view_count": null,
            "_view_module": "@jupyter-widgets/base",
            "_view_module_version": "1.2.0",
            "_view_name": "LayoutView",
            "align_content": null,
            "align_items": null,
            "align_self": null,
            "border": null,
            "bottom": null,
            "display": null,
            "flex": null,
            "flex_flow": null,
            "grid_area": null,
            "grid_auto_columns": null,
            "grid_auto_flow": null,
            "grid_auto_rows": null,
            "grid_column": null,
            "grid_gap": null,
            "grid_row": null,
            "grid_template_areas": null,
            "grid_template_columns": null,
            "grid_template_rows": null,
            "height": null,
            "justify_content": null,
            "justify_items": null,
            "left": null,
            "margin": null,
            "max_height": null,
            "max_width": null,
            "min_height": null,
            "min_width": null,
            "object_fit": null,
            "object_position": null,
            "order": null,
            "overflow": null,
            "overflow_x": null,
            "overflow_y": null,
            "padding": null,
            "right": null,
            "top": null,
            "visibility": null,
            "width": null
          }
        },
        "624587a554e945af98ad5f7472ce21f4": {
          "model_module": "@jupyter-widgets/base",
          "model_name": "LayoutModel",
          "model_module_version": "1.2.0",
          "state": {
            "_model_module": "@jupyter-widgets/base",
            "_model_module_version": "1.2.0",
            "_model_name": "LayoutModel",
            "_view_count": null,
            "_view_module": "@jupyter-widgets/base",
            "_view_module_version": "1.2.0",
            "_view_name": "LayoutView",
            "align_content": null,
            "align_items": null,
            "align_self": null,
            "border": null,
            "bottom": null,
            "display": null,
            "flex": null,
            "flex_flow": null,
            "grid_area": null,
            "grid_auto_columns": null,
            "grid_auto_flow": null,
            "grid_auto_rows": null,
            "grid_column": null,
            "grid_gap": null,
            "grid_row": null,
            "grid_template_areas": null,
            "grid_template_columns": null,
            "grid_template_rows": null,
            "height": null,
            "justify_content": null,
            "justify_items": null,
            "left": null,
            "margin": null,
            "max_height": null,
            "max_width": null,
            "min_height": null,
            "min_width": null,
            "object_fit": null,
            "object_position": null,
            "order": null,
            "overflow": null,
            "overflow_x": null,
            "overflow_y": null,
            "padding": null,
            "right": null,
            "top": null,
            "visibility": null,
            "width": null
          }
        },
        "0dad8af2f0ce479b8e49a08260af95b3": {
          "model_module": "@jupyter-widgets/controls",
          "model_name": "DescriptionStyleModel",
          "model_module_version": "1.5.0",
          "state": {
            "_model_module": "@jupyter-widgets/controls",
            "_model_module_version": "1.5.0",
            "_model_name": "DescriptionStyleModel",
            "_view_count": null,
            "_view_module": "@jupyter-widgets/base",
            "_view_module_version": "1.2.0",
            "_view_name": "StyleView",
            "description_width": ""
          }
        },
        "cf305fa3e6c24fce9caa2c7f865e3666": {
          "model_module": "@jupyter-widgets/base",
          "model_name": "LayoutModel",
          "model_module_version": "1.2.0",
          "state": {
            "_model_module": "@jupyter-widgets/base",
            "_model_module_version": "1.2.0",
            "_model_name": "LayoutModel",
            "_view_count": null,
            "_view_module": "@jupyter-widgets/base",
            "_view_module_version": "1.2.0",
            "_view_name": "LayoutView",
            "align_content": null,
            "align_items": null,
            "align_self": null,
            "border": null,
            "bottom": null,
            "display": null,
            "flex": null,
            "flex_flow": null,
            "grid_area": null,
            "grid_auto_columns": null,
            "grid_auto_flow": null,
            "grid_auto_rows": null,
            "grid_column": null,
            "grid_gap": null,
            "grid_row": null,
            "grid_template_areas": null,
            "grid_template_columns": null,
            "grid_template_rows": null,
            "height": null,
            "justify_content": null,
            "justify_items": null,
            "left": null,
            "margin": null,
            "max_height": null,
            "max_width": null,
            "min_height": null,
            "min_width": null,
            "object_fit": null,
            "object_position": null,
            "order": null,
            "overflow": null,
            "overflow_x": null,
            "overflow_y": null,
            "padding": null,
            "right": null,
            "top": null,
            "visibility": null,
            "width": null
          }
        },
        "07102a56379c4b5a9f9cdc96384228cf": {
          "model_module": "@jupyter-widgets/controls",
          "model_name": "ProgressStyleModel",
          "model_module_version": "1.5.0",
          "state": {
            "_model_module": "@jupyter-widgets/controls",
            "_model_module_version": "1.5.0",
            "_model_name": "ProgressStyleModel",
            "_view_count": null,
            "_view_module": "@jupyter-widgets/base",
            "_view_module_version": "1.2.0",
            "_view_name": "StyleView",
            "bar_color": null,
            "description_width": ""
          }
        },
        "04542647436c4af2a015417948d30bd8": {
          "model_module": "@jupyter-widgets/base",
          "model_name": "LayoutModel",
          "model_module_version": "1.2.0",
          "state": {
            "_model_module": "@jupyter-widgets/base",
            "_model_module_version": "1.2.0",
            "_model_name": "LayoutModel",
            "_view_count": null,
            "_view_module": "@jupyter-widgets/base",
            "_view_module_version": "1.2.0",
            "_view_name": "LayoutView",
            "align_content": null,
            "align_items": null,
            "align_self": null,
            "border": null,
            "bottom": null,
            "display": null,
            "flex": null,
            "flex_flow": null,
            "grid_area": null,
            "grid_auto_columns": null,
            "grid_auto_flow": null,
            "grid_auto_rows": null,
            "grid_column": null,
            "grid_gap": null,
            "grid_row": null,
            "grid_template_areas": null,
            "grid_template_columns": null,
            "grid_template_rows": null,
            "height": null,
            "justify_content": null,
            "justify_items": null,
            "left": null,
            "margin": null,
            "max_height": null,
            "max_width": null,
            "min_height": null,
            "min_width": null,
            "object_fit": null,
            "object_position": null,
            "order": null,
            "overflow": null,
            "overflow_x": null,
            "overflow_y": null,
            "padding": null,
            "right": null,
            "top": null,
            "visibility": null,
            "width": null
          }
        },
        "83753443eb7c4848bbc8c8720e8c0a8a": {
          "model_module": "@jupyter-widgets/controls",
          "model_name": "DescriptionStyleModel",
          "model_module_version": "1.5.0",
          "state": {
            "_model_module": "@jupyter-widgets/controls",
            "_model_module_version": "1.5.0",
            "_model_name": "DescriptionStyleModel",
            "_view_count": null,
            "_view_module": "@jupyter-widgets/base",
            "_view_module_version": "1.2.0",
            "_view_name": "StyleView",
            "description_width": ""
          }
        },
        "6d46c52b46e544ef9278ab70ed14c923": {
          "model_module": "@jupyter-widgets/controls",
          "model_name": "HBoxModel",
          "model_module_version": "1.5.0",
          "state": {
            "_dom_classes": [],
            "_model_module": "@jupyter-widgets/controls",
            "_model_module_version": "1.5.0",
            "_model_name": "HBoxModel",
            "_view_count": null,
            "_view_module": "@jupyter-widgets/controls",
            "_view_module_version": "1.5.0",
            "_view_name": "HBoxView",
            "box_style": "",
            "children": [
              "IPY_MODEL_f414023c40af4323b74d7f1d4b6e98d3",
              "IPY_MODEL_1ceb86dcc75a4e298febff7b8ea63df3",
              "IPY_MODEL_f53b47d7829b42feb7b853489ea6ada6"
            ],
            "layout": "IPY_MODEL_97a4c612d39e4de3ad210ccaf4a261ce"
          }
        },
        "f414023c40af4323b74d7f1d4b6e98d3": {
          "model_module": "@jupyter-widgets/controls",
          "model_name": "HTMLModel",
          "model_module_version": "1.5.0",
          "state": {
            "_dom_classes": [],
            "_model_module": "@jupyter-widgets/controls",
            "_model_module_version": "1.5.0",
            "_model_name": "HTMLModel",
            "_view_count": null,
            "_view_module": "@jupyter-widgets/controls",
            "_view_module_version": "1.5.0",
            "_view_name": "HTMLView",
            "description": "",
            "description_tooltip": null,
            "layout": "IPY_MODEL_25547c2a30bb4ea7b8987d42b5233337",
            "placeholder": "​",
            "style": "IPY_MODEL_8b0672b6c8cb4b5e8da58e5f7bccaf3f",
            "value": "100%"
          }
        },
        "1ceb86dcc75a4e298febff7b8ea63df3": {
          "model_module": "@jupyter-widgets/controls",
          "model_name": "FloatProgressModel",
          "model_module_version": "1.5.0",
          "state": {
            "_dom_classes": [],
            "_model_module": "@jupyter-widgets/controls",
            "_model_module_version": "1.5.0",
            "_model_name": "FloatProgressModel",
            "_view_count": null,
            "_view_module": "@jupyter-widgets/controls",
            "_view_module_version": "1.5.0",
            "_view_name": "ProgressView",
            "bar_style": "success",
            "description": "",
            "description_tooltip": null,
            "layout": "IPY_MODEL_9399c1adae8d436bbae4559603c0d00f",
            "max": 5148,
            "min": 0,
            "orientation": "horizontal",
            "style": "IPY_MODEL_ae267cac61d7449a9506b2001649bee0",
            "value": 5148
          }
        },
        "f53b47d7829b42feb7b853489ea6ada6": {
          "model_module": "@jupyter-widgets/controls",
          "model_name": "HTMLModel",
          "model_module_version": "1.5.0",
          "state": {
            "_dom_classes": [],
            "_model_module": "@jupyter-widgets/controls",
            "_model_module_version": "1.5.0",
            "_model_name": "HTMLModel",
            "_view_count": null,
            "_view_module": "@jupyter-widgets/controls",
            "_view_module_version": "1.5.0",
            "_view_name": "HTMLView",
            "description": "",
            "description_tooltip": null,
            "layout": "IPY_MODEL_bac3c6864a634fd8b90561f5ab066b5f",
            "placeholder": "​",
            "style": "IPY_MODEL_e4bd98cbac974976a47c9aef8b6cdba4",
            "value": " 5148/5148 [00:00&lt;00:00, 115083.32it/s]"
          }
        },
        "97a4c612d39e4de3ad210ccaf4a261ce": {
          "model_module": "@jupyter-widgets/base",
          "model_name": "LayoutModel",
          "model_module_version": "1.2.0",
          "state": {
            "_model_module": "@jupyter-widgets/base",
            "_model_module_version": "1.2.0",
            "_model_name": "LayoutModel",
            "_view_count": null,
            "_view_module": "@jupyter-widgets/base",
            "_view_module_version": "1.2.0",
            "_view_name": "LayoutView",
            "align_content": null,
            "align_items": null,
            "align_self": null,
            "border": null,
            "bottom": null,
            "display": null,
            "flex": null,
            "flex_flow": null,
            "grid_area": null,
            "grid_auto_columns": null,
            "grid_auto_flow": null,
            "grid_auto_rows": null,
            "grid_column": null,
            "grid_gap": null,
            "grid_row": null,
            "grid_template_areas": null,
            "grid_template_columns": null,
            "grid_template_rows": null,
            "height": null,
            "justify_content": null,
            "justify_items": null,
            "left": null,
            "margin": null,
            "max_height": null,
            "max_width": null,
            "min_height": null,
            "min_width": null,
            "object_fit": null,
            "object_position": null,
            "order": null,
            "overflow": null,
            "overflow_x": null,
            "overflow_y": null,
            "padding": null,
            "right": null,
            "top": null,
            "visibility": null,
            "width": null
          }
        },
        "25547c2a30bb4ea7b8987d42b5233337": {
          "model_module": "@jupyter-widgets/base",
          "model_name": "LayoutModel",
          "model_module_version": "1.2.0",
          "state": {
            "_model_module": "@jupyter-widgets/base",
            "_model_module_version": "1.2.0",
            "_model_name": "LayoutModel",
            "_view_count": null,
            "_view_module": "@jupyter-widgets/base",
            "_view_module_version": "1.2.0",
            "_view_name": "LayoutView",
            "align_content": null,
            "align_items": null,
            "align_self": null,
            "border": null,
            "bottom": null,
            "display": null,
            "flex": null,
            "flex_flow": null,
            "grid_area": null,
            "grid_auto_columns": null,
            "grid_auto_flow": null,
            "grid_auto_rows": null,
            "grid_column": null,
            "grid_gap": null,
            "grid_row": null,
            "grid_template_areas": null,
            "grid_template_columns": null,
            "grid_template_rows": null,
            "height": null,
            "justify_content": null,
            "justify_items": null,
            "left": null,
            "margin": null,
            "max_height": null,
            "max_width": null,
            "min_height": null,
            "min_width": null,
            "object_fit": null,
            "object_position": null,
            "order": null,
            "overflow": null,
            "overflow_x": null,
            "overflow_y": null,
            "padding": null,
            "right": null,
            "top": null,
            "visibility": null,
            "width": null
          }
        },
        "8b0672b6c8cb4b5e8da58e5f7bccaf3f": {
          "model_module": "@jupyter-widgets/controls",
          "model_name": "DescriptionStyleModel",
          "model_module_version": "1.5.0",
          "state": {
            "_model_module": "@jupyter-widgets/controls",
            "_model_module_version": "1.5.0",
            "_model_name": "DescriptionStyleModel",
            "_view_count": null,
            "_view_module": "@jupyter-widgets/base",
            "_view_module_version": "1.2.0",
            "_view_name": "StyleView",
            "description_width": ""
          }
        },
        "9399c1adae8d436bbae4559603c0d00f": {
          "model_module": "@jupyter-widgets/base",
          "model_name": "LayoutModel",
          "model_module_version": "1.2.0",
          "state": {
            "_model_module": "@jupyter-widgets/base",
            "_model_module_version": "1.2.0",
            "_model_name": "LayoutModel",
            "_view_count": null,
            "_view_module": "@jupyter-widgets/base",
            "_view_module_version": "1.2.0",
            "_view_name": "LayoutView",
            "align_content": null,
            "align_items": null,
            "align_self": null,
            "border": null,
            "bottom": null,
            "display": null,
            "flex": null,
            "flex_flow": null,
            "grid_area": null,
            "grid_auto_columns": null,
            "grid_auto_flow": null,
            "grid_auto_rows": null,
            "grid_column": null,
            "grid_gap": null,
            "grid_row": null,
            "grid_template_areas": null,
            "grid_template_columns": null,
            "grid_template_rows": null,
            "height": null,
            "justify_content": null,
            "justify_items": null,
            "left": null,
            "margin": null,
            "max_height": null,
            "max_width": null,
            "min_height": null,
            "min_width": null,
            "object_fit": null,
            "object_position": null,
            "order": null,
            "overflow": null,
            "overflow_x": null,
            "overflow_y": null,
            "padding": null,
            "right": null,
            "top": null,
            "visibility": null,
            "width": null
          }
        },
        "ae267cac61d7449a9506b2001649bee0": {
          "model_module": "@jupyter-widgets/controls",
          "model_name": "ProgressStyleModel",
          "model_module_version": "1.5.0",
          "state": {
            "_model_module": "@jupyter-widgets/controls",
            "_model_module_version": "1.5.0",
            "_model_name": "ProgressStyleModel",
            "_view_count": null,
            "_view_module": "@jupyter-widgets/base",
            "_view_module_version": "1.2.0",
            "_view_name": "StyleView",
            "bar_color": null,
            "description_width": ""
          }
        },
        "bac3c6864a634fd8b90561f5ab066b5f": {
          "model_module": "@jupyter-widgets/base",
          "model_name": "LayoutModel",
          "model_module_version": "1.2.0",
          "state": {
            "_model_module": "@jupyter-widgets/base",
            "_model_module_version": "1.2.0",
            "_model_name": "LayoutModel",
            "_view_count": null,
            "_view_module": "@jupyter-widgets/base",
            "_view_module_version": "1.2.0",
            "_view_name": "LayoutView",
            "align_content": null,
            "align_items": null,
            "align_self": null,
            "border": null,
            "bottom": null,
            "display": null,
            "flex": null,
            "flex_flow": null,
            "grid_area": null,
            "grid_auto_columns": null,
            "grid_auto_flow": null,
            "grid_auto_rows": null,
            "grid_column": null,
            "grid_gap": null,
            "grid_row": null,
            "grid_template_areas": null,
            "grid_template_columns": null,
            "grid_template_rows": null,
            "height": null,
            "justify_content": null,
            "justify_items": null,
            "left": null,
            "margin": null,
            "max_height": null,
            "max_width": null,
            "min_height": null,
            "min_width": null,
            "object_fit": null,
            "object_position": null,
            "order": null,
            "overflow": null,
            "overflow_x": null,
            "overflow_y": null,
            "padding": null,
            "right": null,
            "top": null,
            "visibility": null,
            "width": null
          }
        },
        "e4bd98cbac974976a47c9aef8b6cdba4": {
          "model_module": "@jupyter-widgets/controls",
          "model_name": "DescriptionStyleModel",
          "model_module_version": "1.5.0",
          "state": {
            "_model_module": "@jupyter-widgets/controls",
            "_model_module_version": "1.5.0",
            "_model_name": "DescriptionStyleModel",
            "_view_count": null,
            "_view_module": "@jupyter-widgets/base",
            "_view_module_version": "1.2.0",
            "_view_name": "StyleView",
            "description_width": ""
          }
        }
      }
    }
  },
  "cells": [
    {
      "cell_type": "markdown",
      "metadata": {
        "id": "view-in-github",
        "colab_type": "text"
      },
      "source": [
        "<a href=\"https://colab.research.google.com/github/zzwony/Start_0920/blob/main/12_15_PyTorch.ipynb\" target=\"_parent\"><img src=\"https://colab.research.google.com/assets/colab-badge.svg\" alt=\"Open In Colab\"/></a>"
      ]
    },
    {
      "cell_type": "code",
      "source": [
        "from google.colab import drive\n",
        "drive.mount('/content/drive')"
      ],
      "metadata": {
        "colab": {
          "base_uri": "https://localhost:8080/"
        },
        "id": "oAyKcEHeUA6k",
        "outputId": "82935dac-a887-4694-de4d-ac048b548d8b"
      },
      "execution_count": null,
      "outputs": [
        {
          "output_type": "stream",
          "name": "stdout",
          "text": [
            "Drive already mounted at /content/drive; to attempt to forcibly remount, call drive.mount(\"/content/drive\", force_remount=True).\n"
          ]
        }
      ]
    },
    {
      "cell_type": "markdown",
      "source": [
        "# 파이토치(PyTorch)\n",
        "\n",
        "* 페이스북이 초기 루아(Lua) 언어로 개발된 토치(Torch)를 파이썬 버전으로 개발하여 2017년도에 공개\n",
        "* 초기에 토치(Torch)는 넘파이(NumPy) 라이브러리처럼 과학 연산을 위한 라이브러리로 공개\n",
        "* 이후 GPU를 이용한 텐서 조작 및 동적 신경망 구축이 가능하도록 딥러닝 프레임워크로 발전시킴\n",
        "* 파이썬답게 만들어졌고, 유연하면서도 가속화된 계산 속도를 제공\n"
      ],
      "metadata": {
        "id": "EW6eV3TGUSQg"
      }
    },
    {
      "cell_type": "markdown",
      "source": [
        "## 파이토치의 구성요소\n",
        "\n",
        "- `torch`: 메인 네임스페이스, 텐서 등의 다양한 수학 함수가 포함\n",
        "- `torch.autograd`: 자동 미분 기능을 제공하는 라이브러리\n",
        "- `torch.nn`: 신경망 구축을 위한 데이터 구조나 레이어 등의 라이브러리\n",
        "- `torch.multiprocessing`: 병럴처리 기능을 제공하는 라이브러리\n",
        "- `torch.optim`: SGD(Stochastic Gradient Descent)를 중심으로 한 파라미터 최적화 알고리즘 제공\n",
        "- `torch.utils`: 데이터 조작 등 유틸리티 기능 제공\n",
        "- `torch.onnx`: ONNX(Open Neural Network Exchange), 서로 다른 프레임워크 간의 모델을 공유할 때 사용\n"
      ],
      "metadata": {
        "id": "DwTLLj8RViWV"
      }
    },
    {
      "cell_type": "markdown",
      "source": [
        "## 텐서(Tensors)\n",
        "\n",
        "* 데이터 표현을 위한 기본 구조로 텐서(tensor)를 사용\n",
        "* 텐서는 데이터를 담기위한 컨테이너(container)로서 일반적으로 수치형 데이터를 저장\n",
        "* 넘파이(NumPy)의 ndarray와 유사\n",
        "* GPU를 사용한 연산 가속 가능\n"
      ],
      "metadata": {
        "id": "yUuj0nTIVyzG"
      }
    },
    {
      "cell_type": "code",
      "source": [
        "import numpy as np\n",
        "x = np.empty([4,2]) # empty는 메모리 남아있는게 그냥 나오는것(비어있는게 아니다.)\n",
        "x"
      ],
      "metadata": {
        "colab": {
          "base_uri": "https://localhost:8080/"
        },
        "id": "loAt0DBXVorH",
        "outputId": "eb18f243-4182-4020-bc15-3a45013aa9ae"
      },
      "execution_count": null,
      "outputs": [
        {
          "output_type": "execute_result",
          "data": {
            "text/plain": [
              "array([[1.79602427e-316, 6.79038653e-313],\n",
              "       [2.37663529e-312, 2.14321575e-312],\n",
              "       [2.37663529e-312, 2.56761491e-312],\n",
              "       [0.00000000e+000, 0.00000000e+000]])"
            ]
          },
          "metadata": {},
          "execution_count": 3
        }
      ]
    },
    {
      "cell_type": "code",
      "source": [
        "import torch\n",
        "torch.__version__"
      ],
      "metadata": {
        "colab": {
          "base_uri": "https://localhost:8080/",
          "height": 35
        },
        "id": "F2E9RlFjbZDr",
        "outputId": "7eb6a1b3-828a-4b87-c053-4410dac3f289"
      },
      "execution_count": null,
      "outputs": [
        {
          "output_type": "execute_result",
          "data": {
            "text/plain": [
              "'1.13.0+cu116'"
            ],
            "application/vnd.google.colaboratory.intrinsic+json": {
              "type": "string"
            }
          },
          "metadata": {},
          "execution_count": 3
        }
      ]
    },
    {
      "cell_type": "code",
      "source": [
        "x = torch.empty(4,2)\n",
        "x"
      ],
      "metadata": {
        "colab": {
          "base_uri": "https://localhost:8080/"
        },
        "id": "tUhTM1JrbdQO",
        "outputId": "717e7ddd-1374-4c2d-e6eb-8e4b612f1bb3"
      },
      "execution_count": null,
      "outputs": [
        {
          "output_type": "execute_result",
          "data": {
            "text/plain": [
              "tensor([[2.0670e-34, 0.0000e+00],\n",
              "        [3.5032e-44, 0.0000e+00],\n",
              "        [       nan, 6.4460e-44],\n",
              "        [1.1578e+27, 7.1463e+22]])"
            ]
          },
          "metadata": {},
          "execution_count": 5
        }
      ]
    },
    {
      "cell_type": "code",
      "source": [
        "# 무작위로 초기화된 텐서\n",
        "x = torch.rand(4,2) ## 0~1 사이의 숫자를 균등하게 생성\n",
        "x"
      ],
      "metadata": {
        "colab": {
          "base_uri": "https://localhost:8080/"
        },
        "id": "nmnXD-KJb3tM",
        "outputId": "a1b5b9ee-7095-490e-a7ca-2add799db3cc"
      },
      "execution_count": null,
      "outputs": [
        {
          "output_type": "execute_result",
          "data": {
            "text/plain": [
              "tensor([[0.2459, 0.0314],\n",
              "        [0.7641, 0.4225],\n",
              "        [0.1540, 0.6110],\n",
              "        [0.0845, 0.4893]])"
            ]
          },
          "metadata": {},
          "execution_count": 6
        }
      ]
    },
    {
      "cell_type": "markdown",
      "source": [
        "< 텐서의 데이터 타입 >"
      ],
      "metadata": {
        "id": "q-9d6UkRc0SP"
      }
    },
    {
      "cell_type": "markdown",
      "source": [
        "| Data type | dtype | CPU tensor | GPU tensor |\n",
        "| ------ | ------ | ------ | ------ |\n",
        "| 32-bit floating point | `torch.float32` or `torch.float` |`torch.FloatTensor` | `torch.cuda.FloatTensor` |\n",
        "| 64-bit floating point | `torch.float64` or `torch.double` |`torch.DoubleTensor` | `torch.cuda.DoubleTensor` |\n",
        "| 16-bit floating point | `torch.float16` or `torch.half` |`torch.HalfTensor` | `torch.cuda.HalfTensor` |\n",
        "| 8-bit integer(unsinged) | `torch.uint8` |`torch.ByteTensor` | `torch.cuda.ByteTensor` |\n",
        "| 8-bit integer(singed) | `torch.int8` |`torch.CharTensor` | `torch.cuda.CharTensor` |\n",
        "| 16-bit integer(signed) | `torch.int16` or `torch.short` |`torch.ShortTensor` | `torch.cuda.ShortTensor` |\n",
        "| 32-bit integer(signed) | `torch.int32` or `torch.int` |`torch.IntTensor` | `torch.cuda.IntTensor` |\n",
        "| 64-bit integer(signed) | `torch.int64` or `torch.long` |`torch.LongTensor` | `torch.cuda.LongTensor` |\n"
      ],
      "metadata": {
        "id": "9mHEID1Tb-Jo"
      }
    },
    {
      "cell_type": "code",
      "source": [
        "# 데이터 타입(dtype)이 long이고 0으로 채워진 텐서\n",
        "x = torch.zeros(4,2,dtype=torch.long)  \n",
        "x  ## 넘파이에서는 배열이 만들어졌지만 파이토치에서는 텐서가 만들어진다."
      ],
      "metadata": {
        "colab": {
          "base_uri": "https://localhost:8080/"
        },
        "id": "bXGIWJMRcxxc",
        "outputId": "50bd8864-10b7-4e5a-c14c-64e3e3281236"
      },
      "execution_count": null,
      "outputs": [
        {
          "output_type": "execute_result",
          "data": {
            "text/plain": [
              "tensor([[0, 0],\n",
              "        [0, 0],\n",
              "        [0, 0],\n",
              "        [0, 0]])"
            ]
          },
          "metadata": {},
          "execution_count": 7
        }
      ]
    },
    {
      "cell_type": "code",
      "source": [
        "# 사용자가 입력한 값으로 텐서 초기화\n",
        "x = torch.tensor([3, 2.3])\n",
        "x"
      ],
      "metadata": {
        "colab": {
          "base_uri": "https://localhost:8080/"
        },
        "id": "QjtmAr-JdDz4",
        "outputId": "9aa5446d-9caf-417b-df3e-99a5d3db6422"
      },
      "execution_count": null,
      "outputs": [
        {
          "output_type": "execute_result",
          "data": {
            "text/plain": [
              "tensor([3.0000, 2.3000])"
            ]
          },
          "metadata": {},
          "execution_count": 8
        }
      ]
    },
    {
      "cell_type": "code",
      "source": [
        "# 2x4 크기, double 타입, 1로 채워진 텐서\n",
        "x = x.new_ones(2,4,dtype=torch.double)\n",
        "x"
      ],
      "metadata": {
        "colab": {
          "base_uri": "https://localhost:8080/"
        },
        "id": "_bKDcGjwdc2r",
        "outputId": "27169a12-9764-43bb-b8c4-fff2383c5a4e"
      },
      "execution_count": null,
      "outputs": [
        {
          "output_type": "execute_result",
          "data": {
            "text/plain": [
              "tensor([[1., 1., 1., 1.],\n",
              "        [1., 1., 1., 1.]], dtype=torch.float64)"
            ]
          },
          "metadata": {},
          "execution_count": 10
        }
      ]
    },
    {
      "cell_type": "markdown",
      "source": [
        "x에다가 new_one을 하게 되면 만들어진다.\n",
        "\n",
        "double로 했기때문에 .(점)이 들어간다."
      ],
      "metadata": {
        "id": "13J9gmPldnW5"
      }
    },
    {
      "cell_type": "code",
      "source": [
        "x = torch.randn_like(x, dtype=torch.float)  ## 사이즈를 튜플로 입력하지 않고 기존의 텐서를 정의\n",
        "x"
      ],
      "metadata": {
        "colab": {
          "base_uri": "https://localhost:8080/"
        },
        "id": "cPXOqvaEeM3-",
        "outputId": "11c3bf5e-dc51-499f-c784-9af91710a19c"
      },
      "execution_count": null,
      "outputs": [
        {
          "output_type": "execute_result",
          "data": {
            "text/plain": [
              "tensor([[-1.1842,  0.7554, -0.1243, -0.0022],\n",
              "        [ 0.7061, -0.6335, -0.2229,  0.7890]])"
            ]
          },
          "metadata": {},
          "execution_count": 11
        }
      ]
    },
    {
      "cell_type": "markdown",
      "source": [
        "_like를 하면 전에꺼(위의 x는 2행 4열이다.)와 같은 형태가 된다.\n",
        "\n",
        "randn은 정규분포를 나타낸다.\n",
        "\n",
        "즉 랜덤하게 정규분포를 이루는 값으로 이룬다."
      ],
      "metadata": {
        "id": "BBfDIvCBd8eT"
      }
    },
    {
      "cell_type": "code",
      "source": [
        "x = torch.randn(5) ## 평균이 0 이고 표준편차가 1인 가우시안 정규분포를 이용해 생성\n",
        "x"
      ],
      "metadata": {
        "colab": {
          "base_uri": "https://localhost:8080/"
        },
        "id": "1drrV0vOegUr",
        "outputId": "c6ea3cc0-11b7-42e5-a6de-620fe43c8bc6"
      },
      "execution_count": null,
      "outputs": [
        {
          "output_type": "execute_result",
          "data": {
            "text/plain": [
              "tensor([-1.3456, -1.6918,  0.9934,  1.4257,  0.2305])"
            ]
          },
          "metadata": {},
          "execution_count": 12
        }
      ]
    },
    {
      "cell_type": "markdown",
      "source": [
        "텐서의 크기 계산"
      ],
      "metadata": {
        "id": "1p9-yhwshiKo"
      }
    },
    {
      "cell_type": "code",
      "source": [
        "print(x.size())"
      ],
      "metadata": {
        "colab": {
          "base_uri": "https://localhost:8080/"
        },
        "id": "HaXDwJsriX7Q",
        "outputId": "71c14572-fe94-4d84-c7c7-58adec3c8f49"
      },
      "execution_count": null,
      "outputs": [
        {
          "output_type": "stream",
          "name": "stdout",
          "text": [
            "torch.Size([5])\n"
          ]
        }
      ]
    },
    {
      "cell_type": "markdown",
      "source": [
        "기억할것은 \n",
        "- double은 64bit \n",
        "- short는 16bit \n",
        "- long은 64bit 정도"
      ],
      "metadata": {
        "id": "Ywg5xKkDiZVZ"
      }
    },
    {
      "cell_type": "code",
      "source": [
        "ft = torch.FloatTensor([1,2,3])\n",
        "print(ft)\n",
        "print(ft.dtype)"
      ],
      "metadata": {
        "colab": {
          "base_uri": "https://localhost:8080/"
        },
        "id": "PFA7fmIyjA_N",
        "outputId": "01653381-8592-4ea1-adac-62421fa50c9b"
      },
      "execution_count": null,
      "outputs": [
        {
          "output_type": "stream",
          "name": "stdout",
          "text": [
            "tensor([1., 2., 3.])\n",
            "torch.float32\n"
          ]
        }
      ]
    },
    {
      "cell_type": "code",
      "source": [
        "print(ft.short())\n",
        "print(ft.int())\n",
        "print(ft.long())"
      ],
      "metadata": {
        "colab": {
          "base_uri": "https://localhost:8080/"
        },
        "id": "o42Zg6yIjKsb",
        "outputId": "3d5f741f-429f-497e-ac61-75abf39bc17b"
      },
      "execution_count": null,
      "outputs": [
        {
          "output_type": "stream",
          "name": "stdout",
          "text": [
            "tensor([1, 2, 3], dtype=torch.int16)\n",
            "tensor([1, 2, 3], dtype=torch.int32)\n",
            "tensor([1, 2, 3])\n"
          ]
        }
      ]
    },
    {
      "cell_type": "markdown",
      "source": [
        "### CUDA Tensors\n",
        "- .to 메소드를 사용하여 텐서를 어떠한 장치(cpu, gup)로도 옮길 수 있다."
      ],
      "metadata": {
        "id": "7OIQBbrXjRzA"
      }
    },
    {
      "cell_type": "markdown",
      "source": [
        "- NVIDIA가 만든 병렬 컴퓨팅 플랫폼 및 API 모델로, 보통 '쿠다'라고 발음한다. \n",
        "\n",
        "- CUDA 플랫폼은 GPU 의 가상 명령어셋을 사용할 수 있도록 만들어주는 소프트웨어 레이어이며, NVIDIA가 만든 CUDA 코어가 장착된 GPU에서 작동\n"
      ],
      "metadata": {
        "id": "E48lQC5ZjpS2"
      }
    },
    {
      "cell_type": "code",
      "source": [
        "x = torch.randn(1)\n",
        "print(x)\n",
        "print(x.item())\n",
        "print(x.dtype)"
      ],
      "metadata": {
        "colab": {
          "base_uri": "https://localhost:8080/"
        },
        "id": "bjTX4EOmjr6A",
        "outputId": "ef95e688-c6a7-4d28-f399-ed66d1c7e023"
      },
      "execution_count": null,
      "outputs": [
        {
          "output_type": "stream",
          "name": "stdout",
          "text": [
            "tensor([0.1972])\n",
            "0.19717402756214142\n",
            "torch.float32\n"
          ]
        }
      ]
    },
    {
      "cell_type": "code",
      "source": [
        "device = torch.device('cuda' if torch.cuda.is_available() else 'cpu')\n",
        "print(device)"
      ],
      "metadata": {
        "colab": {
          "base_uri": "https://localhost:8080/"
        },
        "id": "PzKYGd4AkLl0",
        "outputId": "20753dfc-8a25-4b8d-89ff-51c6bd9e2abb"
      },
      "execution_count": null,
      "outputs": [
        {
          "output_type": "stream",
          "name": "stdout",
          "text": [
            "cuda\n"
          ]
        }
      ]
    },
    {
      "cell_type": "markdown",
      "source": [
        "#### 다차원 텐서 표현"
      ],
      "metadata": {
        "id": "BVUOGJAgkd6P"
      }
    },
    {
      "cell_type": "markdown",
      "source": [
        "0D Tensor(Scalar)\n",
        "- 하나의 숫자를 담고 있는 텐서\n",
        "- 축과 형상이 없다."
      ],
      "metadata": {
        "id": "USfngidhk_BT"
      }
    },
    {
      "cell_type": "code",
      "source": [
        "t0 = torch.tensor(1)\n",
        "print(t0.ndim)\n",
        "print(t0.shape)\n",
        "print(t0)"
      ],
      "metadata": {
        "colab": {
          "base_uri": "https://localhost:8080/"
        },
        "id": "6Pt61dxIlFw6",
        "outputId": "0100ff28-289f-4fa7-8ea2-2ae0fedf0503"
      },
      "execution_count": null,
      "outputs": [
        {
          "output_type": "stream",
          "name": "stdout",
          "text": [
            "0\n",
            "torch.Size([])\n",
            "tensor(1)\n"
          ]
        }
      ]
    },
    {
      "cell_type": "markdown",
      "source": [
        "0차원이고, 사이즈 없고, 텐서는 1이다."
      ],
      "metadata": {
        "id": "qhfL38IClna0"
      }
    },
    {
      "cell_type": "markdown",
      "source": [
        "1D Tensor(Vector)\n",
        "- 값들을 저장한 리스트와 유사한 텐서\n",
        "- 하나의 축이 존재"
      ],
      "metadata": {
        "id": "zgs73lEOlvuT"
      }
    },
    {
      "cell_type": "code",
      "source": [
        "t1 = torch.tensor([0,1,2])\n",
        "print(t1.ndim)\n",
        "print(t1.shape)\n",
        "print(t1)"
      ],
      "metadata": {
        "colab": {
          "base_uri": "https://localhost:8080/"
        },
        "id": "IVyYdD6jl5a-",
        "outputId": "e288e945-3222-4984-a831-4bef8598e248"
      },
      "execution_count": null,
      "outputs": [
        {
          "output_type": "stream",
          "name": "stdout",
          "text": [
            "1\n",
            "torch.Size([3])\n",
            "tensor([0, 1, 2])\n"
          ]
        }
      ]
    },
    {
      "cell_type": "markdown",
      "source": [
        "2D Tensor(Maxtrix)\n",
        "- 행렬과 같은 모양으로 두개의 축이 존재\n",
        "- 일반적인 수치, 통계 데이터셋이 해당\n",
        "- 주로 샘플(samples)과 특성(features)을 가진 구조로 사용"
      ],
      "metadata": {
        "id": "8vwi7v21l-mb"
      }
    },
    {
      "cell_type": "code",
      "source": [
        "t2 = torch.tensor([[1,2,3], [4,5,6]])\n",
        "print(t2.ndim)\n",
        "print(t2.shape)\n",
        "print(t2)"
      ],
      "metadata": {
        "colab": {
          "base_uri": "https://localhost:8080/"
        },
        "id": "yFrbHF3MmRZl",
        "outputId": "f83288e9-27e1-4a7b-c350-89cd6f284113"
      },
      "execution_count": null,
      "outputs": [
        {
          "output_type": "stream",
          "name": "stdout",
          "text": [
            "2\n",
            "torch.Size([2, 3])\n",
            "tensor([[1, 2, 3],\n",
            "        [4, 5, 6]])\n"
          ]
        }
      ]
    },
    {
      "cell_type": "markdown",
      "source": [
        "#### [ 과제 ] 3D, 4D, 5D 만들기"
      ],
      "metadata": {
        "id": "yBlaFviOnLvZ"
      }
    },
    {
      "cell_type": "markdown",
      "source": [
        "3D Tensor\n",
        "- 큐브(cube)와 같은 모양으로 세개의 축이 존재\n",
        "- 데이터가 연속된 시퀀스 데이터나 시간 축이 포함된 시계열 데이터에 해당\n",
        "- 주식 가격 데이터셋, 시간에 따른 질병 발병 데이터 등이 존재\n",
        "- 주로 샘플, 타임스탭, 특성을 가진 구조로 사용"
      ],
      "metadata": {
        "id": "Kq5WZ0QAmhQF"
      }
    },
    {
      "cell_type": "code",
      "source": [
        "t3 = torch.tensor([[[1,2,3], [4,5,6], [7,8,9]]])\n",
        "print(t3.ndim)\n",
        "print(t3.shape)\n",
        "print(t3)"
      ],
      "metadata": {
        "colab": {
          "base_uri": "https://localhost:8080/"
        },
        "id": "TubYy7n5TnmE",
        "outputId": "695451d3-8f22-4625-8329-0e677f9894bc"
      },
      "execution_count": null,
      "outputs": [
        {
          "output_type": "stream",
          "name": "stdout",
          "text": [
            "3\n",
            "torch.Size([1, 3, 3])\n",
            "tensor([[[1, 2, 3],\n",
            "         [4, 5, 6],\n",
            "         [7, 8, 9]]])\n"
          ]
        }
      ]
    },
    {
      "cell_type": "code",
      "source": [
        "t4 = torch.tensor([[[[1,2,3], [4,5,6], [7,8,9], [10,11,12]]]])\n",
        "print(t4.ndim)\n",
        "print(t4.shape)\n",
        "print(t4)"
      ],
      "metadata": {
        "colab": {
          "base_uri": "https://localhost:8080/"
        },
        "id": "dN9oek9ITrUL",
        "outputId": "90fef770-d400-4b38-e83e-bfe2ea7a7bac"
      },
      "execution_count": null,
      "outputs": [
        {
          "output_type": "stream",
          "name": "stdout",
          "text": [
            "4\n",
            "torch.Size([1, 1, 4, 3])\n",
            "tensor([[[[ 1,  2,  3],\n",
            "          [ 4,  5,  6],\n",
            "          [ 7,  8,  9],\n",
            "          [10, 11, 12]]]])\n"
          ]
        }
      ]
    },
    {
      "cell_type": "code",
      "source": [
        "t5 = torch.tensor([[[[[1,2,3], [4,5,6], [7,8,9], [10,11,12], [13,14,15]]]]])\n",
        "print(t5.ndim)\n",
        "print(t5.shape)\n",
        "print(t5)"
      ],
      "metadata": {
        "colab": {
          "base_uri": "https://localhost:8080/"
        },
        "id": "tjj6rwY8Trgh",
        "outputId": "89694988-6747-4836-9ec3-ccf73405198c"
      },
      "execution_count": null,
      "outputs": [
        {
          "output_type": "stream",
          "name": "stdout",
          "text": [
            "5\n",
            "torch.Size([1, 1, 1, 5, 3])\n",
            "tensor([[[[[ 1,  2,  3],\n",
            "           [ 4,  5,  6],\n",
            "           [ 7,  8,  9],\n",
            "           [10, 11, 12],\n",
            "           [13, 14, 15]]]]])\n"
          ]
        }
      ]
    },
    {
      "cell_type": "markdown",
      "source": [
        "#### 텐서의 연산\n",
        "- 텐서에 대한 수학 연산, 삼각함수, 비트 연산, 비교 연산, 집계 등 제공"
      ],
      "metadata": {
        "id": "hsuITCoOnK5u"
      }
    },
    {
      "cell_type": "code",
      "source": [
        "import math\n",
        "\n",
        "a = torch.randn(1,2) * 2 - 1  ## 가우시안 표준정규 분포\n",
        "print(a)\n",
        "print(torch.abs(a)) \n",
        "print(torch.ceil(a)) ## ceil은 꼭대기만 나오는것\n",
        "print(torch.floor(a))\n",
        "print(torch.clamp(a, -0.5, 0.5))  ## 입력 값이 min < x(input) < max 이면 x가 그대로 나오지만\n",
        "                                  ## min 보다 작으면 min 값이, max보다 크면 max 값이 나오는 구조이다."
      ],
      "metadata": {
        "colab": {
          "base_uri": "https://localhost:8080/"
        },
        "id": "4OH7W_ZOnTtB",
        "outputId": "6fa88300-9fa6-4c73-bf35-08b4cd56cfa6"
      },
      "execution_count": null,
      "outputs": [
        {
          "output_type": "stream",
          "name": "stdout",
          "text": [
            "tensor([[-4.5702, -2.2642]])\n",
            "tensor([[4.5702, 2.2642]])\n",
            "tensor([[-4., -2.]])\n",
            "tensor([[-5., -3.]])\n",
            "tensor([[-0.5000, -0.5000]])\n"
          ]
        }
      ]
    },
    {
      "cell_type": "code",
      "source": [
        "print(a)\n",
        "print(torch.prod(a))  ## prod는 곱하는것이다.\n",
        "print(torch.unique(torch.tensor([1,2,3,1,2,1])))  ## unique는 중복된것은 빼고 출력"
      ],
      "metadata": {
        "colab": {
          "base_uri": "https://localhost:8080/"
        },
        "id": "_RR9200_oQBm",
        "outputId": "96f671e2-071b-43e3-b709-79d47a42989c"
      },
      "execution_count": null,
      "outputs": [
        {
          "output_type": "stream",
          "name": "stdout",
          "text": [
            "tensor([[-4.5702, -2.2642]])\n",
            "tensor(10.3480)\n",
            "tensor([1, 2, 3])\n"
          ]
        }
      ]
    },
    {
      "cell_type": "markdown",
      "source": [
        "argmax: 최대값을 가진 인덱스\n",
        "\n",
        "argmin: 최솟값을 가진 인덱스"
      ],
      "metadata": {
        "id": "c288sCfZo1-d"
      }
    },
    {
      "cell_type": "code",
      "source": [
        "x = torch.rand(2,2)\n",
        "print(x, '\\n')\n",
        "print(x.max(dim=0), '\\n') ## 행(세로)으로 비교\n",
        "print(x.max(dim=1))  ## 열(가로)으로 비교"
      ],
      "metadata": {
        "colab": {
          "base_uri": "https://localhost:8080/"
        },
        "id": "uI8IK8wwpYRJ",
        "outputId": "ecba99ef-56cf-4a17-c879-6604651afde8"
      },
      "execution_count": null,
      "outputs": [
        {
          "output_type": "stream",
          "name": "stdout",
          "text": [
            "tensor([[0.1601, 0.9349],\n",
            "        [0.1524, 0.2703]]) \n",
            "\n",
            "torch.return_types.max(\n",
            "values=tensor([0.1601, 0.9349]),\n",
            "indices=tensor([0, 0])) \n",
            "\n",
            "torch.return_types.max(\n",
            "values=tensor([0.9349, 0.2703]),\n",
            "indices=tensor([1, 1]))\n"
          ]
        }
      ]
    },
    {
      "cell_type": "code",
      "source": [
        "x = torch.rand(2,2)\n",
        "print(x, '\\n')\n",
        "print(x.min(dim=0), '\\n') ## 행(세로)으로 비교\n",
        "print(x.min(dim=1))  ## 열(가로)으로 비교"
      ],
      "metadata": {
        "colab": {
          "base_uri": "https://localhost:8080/"
        },
        "id": "llyxgRTBpimW",
        "outputId": "817ed7fa-891f-4f95-f37d-3172893d99da"
      },
      "execution_count": null,
      "outputs": [
        {
          "output_type": "stream",
          "name": "stdout",
          "text": [
            "tensor([[0.9628, 0.2075],\n",
            "        [0.0650, 0.8933]]) \n",
            "\n",
            "torch.return_types.min(\n",
            "values=tensor([0.0650, 0.2075]),\n",
            "indices=tensor([1, 0])) \n",
            "\n",
            "torch.return_types.min(\n",
            "values=tensor([0.2075, 0.0650]),\n",
            "indices=tensor([1, 0]))\n"
          ]
        }
      ]
    },
    {
      "cell_type": "code",
      "source": [
        "# x와 y를 가지고 연산하기\n",
        "# x, y 만들기\n",
        "\n",
        "x = torch.rand(2,2)\n",
        "print(x)\n",
        "y = torch.rand(2,2)\n",
        "print(y)"
      ],
      "metadata": {
        "colab": {
          "base_uri": "https://localhost:8080/"
        },
        "id": "4LrJk5RdqFHK",
        "outputId": "89b0f203-6ad0-4d2d-d196-945b97e2b6d2"
      },
      "execution_count": null,
      "outputs": [
        {
          "output_type": "stream",
          "name": "stdout",
          "text": [
            "tensor([[0.5200, 0.7991],\n",
            "        [0.3960, 0.6552]])\n",
            "tensor([[0.9794, 0.3046],\n",
            "        [0.7437, 0.9328]])\n"
          ]
        }
      ]
    },
    {
      "cell_type": "markdown",
      "source": [
        "torch.add: 덧셈"
      ],
      "metadata": {
        "id": "_CD5ecDnqUQ8"
      }
    },
    {
      "cell_type": "code",
      "source": [
        "print(x + y)\n",
        "print(torch.add(x, y))"
      ],
      "metadata": {
        "colab": {
          "base_uri": "https://localhost:8080/"
        },
        "id": "_wU5p_5qqXOL",
        "outputId": "afb981d9-5dca-4a79-98b4-f6ffe5bbb261"
      },
      "execution_count": null,
      "outputs": [
        {
          "output_type": "stream",
          "name": "stdout",
          "text": [
            "tensor([[1.0057, 1.6925],\n",
            "        [1.6598, 0.8594]])\n",
            "tensor([[1.0057, 1.6925],\n",
            "        [1.6598, 0.8594]])\n"
          ]
        }
      ]
    },
    {
      "cell_type": "markdown",
      "source": [
        "in-place 방식\n",
        "- in-place 방식으로 텐서의 값을 변경하는 연산 뒤에는 _(언더바)가 붙음\n",
        "- x.copy_(y), x.t_()"
      ],
      "metadata": {
        "id": "5TkVje2fqb0X"
      }
    },
    {
      "cell_type": "code",
      "source": [
        "print(x)\n",
        "print(y)\n",
        "y.add_(x)  ## y에다가 x를 더한 값을 y에 넣고, 그게 y 값이 된다.\n",
        "print(y)"
      ],
      "metadata": {
        "colab": {
          "base_uri": "https://localhost:8080/"
        },
        "id": "m1jFeIpGqgza",
        "outputId": "cfde3bad-3be0-401a-9484-36a158ff35cd"
      },
      "execution_count": null,
      "outputs": [
        {
          "output_type": "stream",
          "name": "stdout",
          "text": [
            "tensor([[0.4777, 0.7123],\n",
            "        [0.7546, 0.7643]])\n",
            "tensor([[1.4834, 2.4048],\n",
            "        [2.4144, 1.6237]])\n",
            "tensor([[1.9611, 3.1171],\n",
            "        [3.1690, 2.3880]])\n"
          ]
        }
      ]
    },
    {
      "cell_type": "code",
      "source": [
        "print(x)\n",
        "print(y)\n",
        "print(x-y, '\\n')  ## '\\n'은 줄바꿈\n",
        "x.sub_(y)  ## sub는 빼기, 여기서 바뀐 x가 저장되었다.(in-place)\n",
        "print(x)  # 바뀐 x로 계산해줌\n",
        "print()\n",
        "print(torch.sub(x,y))\n",
        "print(x.sub(y))"
      ],
      "metadata": {
        "colab": {
          "base_uri": "https://localhost:8080/"
        },
        "id": "xPVo6rZZrJI-",
        "outputId": "47b8c069-a1fd-4ae8-98e8-00d6a166f320"
      },
      "execution_count": null,
      "outputs": [
        {
          "output_type": "stream",
          "name": "stdout",
          "text": [
            "tensor([[-3.4445, -5.5219],\n",
            "        [-5.5833, -4.0116]])\n",
            "tensor([[1.9611, 3.1171],\n",
            "        [3.1690, 2.3880]])\n",
            "tensor([[-5.4055, -8.6390],\n",
            "        [-8.7523, -6.3996]]) \n",
            "\n",
            "tensor([[-5.4055, -8.6390],\n",
            "        [-8.7523, -6.3996]])\n",
            "\n",
            "tensor([[ -7.3666, -11.7562],\n",
            "        [-11.9212,  -8.7875]])\n",
            "tensor([[ -7.3666, -11.7562],\n",
            "        [-11.9212,  -8.7875]])\n"
          ]
        }
      ]
    },
    {
      "cell_type": "markdown",
      "source": [
        "torch.mul: 곱셈"
      ],
      "metadata": {
        "id": "lfk1O1xTr1V6"
      }
    },
    {
      "cell_type": "code",
      "source": [
        "print(x)\n",
        "print(y)\n",
        "print(x*y)\n",
        "x.mul_(y)\n",
        "print(x)\n",
        "print()\n",
        "print(torch.mul(x,y))\n",
        "print(x.mul(y))"
      ],
      "metadata": {
        "colab": {
          "base_uri": "https://localhost:8080/"
        },
        "id": "o931Hs0sutEr",
        "outputId": "617e389f-ebed-42cb-9b98-04bf174de415"
      },
      "execution_count": null,
      "outputs": [
        {
          "output_type": "stream",
          "name": "stdout",
          "text": [
            "tensor([[0.6628, 0.7557],\n",
            "        [0.7414, 0.0676]])\n",
            "tensor([[0.7007, 0.0956],\n",
            "        [0.9340, 0.1883]])\n",
            "tensor([[0.4645, 0.0722],\n",
            "        [0.6925, 0.0127]])\n",
            "tensor([[0.4645, 0.0722],\n",
            "        [0.6925, 0.0127]])\n",
            "\n",
            "tensor([[0.3255, 0.0069],\n",
            "        [0.6467, 0.0024]])\n",
            "tensor([[0.3255, 0.0069],\n",
            "        [0.6467, 0.0024]])\n"
          ]
        }
      ]
    },
    {
      "cell_type": "markdown",
      "source": [
        "torch.div: 나눗셈"
      ],
      "metadata": {
        "id": "5JWyvLn6u5CE"
      }
    },
    {
      "cell_type": "code",
      "source": [
        "print(x)\n",
        "print(y)\n",
        "print(x/y)\n",
        "x.div_(y)\n",
        "print()\n",
        "print(x)\n",
        "print(torch.div(x,y))\n",
        "print(x.div(y))"
      ],
      "metadata": {
        "colab": {
          "base_uri": "https://localhost:8080/"
        },
        "id": "-ERqnV4GvHoF",
        "outputId": "c7bcd400-71ce-4464-92c1-42ce96c1c2d0"
      },
      "execution_count": null,
      "outputs": [
        {
          "output_type": "stream",
          "name": "stdout",
          "text": [
            "tensor([[0.5200, 0.7991],\n",
            "        [0.3960, 0.6552]])\n",
            "tensor([[0.9794, 0.3046],\n",
            "        [0.7437, 0.9328]])\n",
            "tensor([[0.5310, 2.6237],\n",
            "        [0.5325, 0.7024]])\n",
            "\n",
            "tensor([[0.5310, 2.6237],\n",
            "        [0.5325, 0.7024]])\n",
            "tensor([[0.5421, 8.6143],\n",
            "        [0.7160, 0.7530]])\n",
            "tensor([[0.5421, 8.6143],\n",
            "        [0.7160, 0.7530]])\n"
          ]
        }
      ]
    },
    {
      "cell_type": "markdown",
      "source": [
        "torch.mm: 내적(dot product)"
      ],
      "metadata": {
        "id": "vpsgMA0-vJxd"
      }
    },
    {
      "cell_type": "code",
      "source": [
        "print(x)\n",
        "print(y)\n",
        "\n",
        "print(torch.matmul(x,y))  ## matmul 혹은 mm으로 써주면 된다.\n",
        "z = torch.mm(x,y)\n",
        "print(z)\n",
        "print(torch.svd(z))  ## 행렬분해란 거꾸로 간다는 것이다."
      ],
      "metadata": {
        "colab": {
          "base_uri": "https://localhost:8080/"
        },
        "id": "4-0YrduUvq9p",
        "outputId": "fe01242d-11a0-48fd-e056-0a1ed6f1a213"
      },
      "execution_count": null,
      "outputs": [
        {
          "output_type": "stream",
          "name": "stdout",
          "text": [
            "tensor([[0.5310, 2.6237],\n",
            "        [0.5325, 0.7024]])\n",
            "tensor([[0.9794, 0.3046],\n",
            "        [0.7437, 0.9328]])\n",
            "tensor([[2.4712, 2.6090],\n",
            "        [1.0439, 0.8174]])\n",
            "tensor([[2.4712, 2.6090],\n",
            "        [1.0439, 0.8174]])\n",
            "torch.return_types.svd(\n",
            "U=tensor([[-0.9391, -0.3436],\n",
            "        [-0.3436,  0.9391]]),\n",
            "S=tensor([3.8260, 0.1839]),\n",
            "V=tensor([[-0.7003,  0.7138],\n",
            "        [-0.7138, -0.7003]]))\n"
          ]
        }
      ]
    },
    {
      "cell_type": "markdown",
      "source": [
        "#### 텐서의 조작"
      ],
      "metadata": {
        "id": "Vf0b8Hkbv4W_"
      }
    },
    {
      "cell_type": "markdown",
      "source": [
        "인덱싱: Numpy처럼 인덱싱 형태로 사용가능"
      ],
      "metadata": {
        "id": "7w8R32Lmxy1R"
      }
    },
    {
      "cell_type": "code",
      "source": [
        "import torch\n",
        "x = torch.Tensor([[1,2], [3,4]])\n",
        "print(x)\n",
        "\n",
        "print(x[0,0])\n",
        "print(x[0,1])\n",
        "print(x[1,0])\n",
        "print(x[1,1])\n",
        "print(x[:,0])\n",
        "print(x[:,0])\n",
        "print(x[0,:])\n",
        "print(x[1,:])"
      ],
      "metadata": {
        "colab": {
          "base_uri": "https://localhost:8080/"
        },
        "id": "haV9yoFBx48K",
        "outputId": "81a4c883-0d4c-4ac1-c811-a4fdbc1b8e4b"
      },
      "execution_count": null,
      "outputs": [
        {
          "output_type": "stream",
          "name": "stdout",
          "text": [
            "tensor([[1., 2.],\n",
            "        [3., 4.]])\n",
            "tensor(1.)\n",
            "tensor(2.)\n",
            "tensor(3.)\n",
            "tensor(4.)\n",
            "tensor([1., 3.])\n",
            "tensor([1., 3.])\n",
            "tensor([1., 2.])\n",
            "tensor([3., 4.])\n"
          ]
        }
      ]
    },
    {
      "cell_type": "markdown",
      "source": [
        "https://bigdatadiary0819.tistory.com/60\n",
        "\n",
        "º 랜덤한 값을 가지는 텐서 생성\n",
        "\n",
        "1. torch.rand() : 0과 1 사이의 숫자를 균등하게 생성\n",
        "\n",
        "2. torch.rand_like() : 사이즈를 튜플로 입력하지 않고 기존의 텐서로 정의\n",
        "\n",
        "3. torch.randn() : 평균이 0이고 표준편차가 1인 가우시안 정규분포를 이용해 생성\n",
        "\n",
        "4. torch.randn_like() :  사이즈를 튜플로 입력하지 않고 기존의 텐서로 정의\n",
        "\n",
        "5. torch.randint() : 주어진 범위 내의 정수를 균등하게 생성\n",
        "\n",
        "6. torch.randint_like() : 사이즈를 튜플로 입력하지 않고 기존의 텐서로 정의\n",
        "\n",
        "7. torch.randperm() : 주어진 범위 내의 정수를 랜덤하게 생성\n"
      ],
      "metadata": {
        "id": "FkXAaGBcyLUX"
      }
    },
    {
      "cell_type": "markdown",
      "source": [
        "º 특정한 값을 가지는 텐서 생성\n",
        "\n",
        "1. torch.arange() : 주어진 범위 내의 정수를 순서대로 생성\n",
        "\n",
        "2. torch.ones() : 주어진 사이즈의 1로 이루어진 텐서 생성\n",
        "\n",
        "3. torch.zeros() : 주어진 사이즈의 0으로 이루어진 텐서 생성\n",
        "\n",
        "4. torch.ones_like() : 사이즈를 튜플로 입력하지 않고 기존의 텐서로 정의\n",
        "\n",
        "5. torch.zeros_like() : 사이즈를 튜플로 입력하지 않고 기존의 텐서로 정의\n",
        "\n",
        "6. torch.linspace() : 시작점과 끝점을 주어진 갯수만큼 균등하게 나눈 간격점을 행벡터로 출력\n",
        "예) 1~10이면 1,2,3,4,5,6,7,8,9,10으로 출력된다.\n",
        "\n",
        "7. torch.logspace() : 시작점과 끝점을 주어진 갯수만큼 로그간격으로 나눈 간격점을 행벡터로 출력\n",
        "예) 지수함수는 갈수록 급격하게 증가, 로그함수는 갈수록 완만해진다. 그래서 서로 0의 관계가 있다.\n",
        "이 성질을 이용한다.\n",
        "데이터 분포가 한쪽에 몰려있다면 극단적으로 되어있는것을 보기 위해 로그 변환을 하고 그러면 펼쳐진다.\n",
        "(상대적인 포지션을 보는것이다.)\n"
      ],
      "metadata": {
        "id": "Z3J-8k1kyg8V"
      }
    },
    {
      "cell_type": "markdown",
      "source": [
        "view: 텐서의 크기(size)나 모양(shape)을 변경\n",
        "- 기본적으로 변경 전과 후에 텐서 안의 원소 개수가 유지되어야 한다.\n",
        "- -1로 설정되면 계산을 통해 해당 크기값을 유추"
      ],
      "metadata": {
        "id": "HYqmFlA_yjS9"
      }
    },
    {
      "cell_type": "code",
      "source": [
        "import torch\n",
        "x = torch.randn(4,5)\n",
        "print(x.shape)\n",
        "print(x.size())"
      ],
      "metadata": {
        "colab": {
          "base_uri": "https://localhost:8080/"
        },
        "id": "jtpae8nNz_i-",
        "outputId": "6340c8df-c975-470f-9492-468ce9b608e3"
      },
      "execution_count": null,
      "outputs": [
        {
          "output_type": "stream",
          "name": "stdout",
          "text": [
            "torch.Size([4, 5])\n",
            "torch.Size([4, 5])\n"
          ]
        }
      ]
    },
    {
      "cell_type": "code",
      "source": [
        "x = torch.FloatTensor([\n",
        "    [1,2],\n",
        "    [3,4],\n",
        "    [5,6],\n",
        "    [7,8]\n",
        "])\n",
        "\n",
        "# size를 활용한 텐서 사이즈 보기\n",
        "print(x.size())\n",
        "\n",
        "# shape를 활용한 텐서 사이즈 보기\n",
        "print(x.shape)\n",
        "\n",
        "# dim을 활용한 텐서 차원 확인\n",
        "print(x.dim())\n",
        "\n",
        "# 1 차원 사이즈 확인\n",
        "print(x.size(0))\n",
        "\n",
        "# 1 차원 사이즈 확인\n",
        "print(x.shape[0])"
      ],
      "metadata": {
        "colab": {
          "base_uri": "https://localhost:8080/"
        },
        "id": "dco1IUi40FQr",
        "outputId": "96a4d4b3-cd8d-497c-976c-f1d1d12d073d"
      },
      "execution_count": null,
      "outputs": [
        {
          "output_type": "stream",
          "name": "stdout",
          "text": [
            "torch.Size([4, 2])\n",
            "torch.Size([4, 2])\n",
            "2\n",
            "4\n",
            "4\n"
          ]
        }
      ]
    },
    {
      "cell_type": "code",
      "source": [
        "x = torch.randn(4,5)\n",
        "print(x)\n",
        "print()\n",
        "y = x.view(20)\n",
        "print(y)\n",
        "print()\n",
        "z = x.view(5, -1)  ## 5행 4열 자리를 만든다./5행은 반드시 지키되 나머지는 알아서 한다.\n",
        "print(z)"
      ],
      "metadata": {
        "colab": {
          "base_uri": "https://localhost:8080/"
        },
        "id": "7xyICkSv0x8a",
        "outputId": "da155b02-8f3d-4acb-f033-ef8be0cfc396"
      },
      "execution_count": null,
      "outputs": [
        {
          "output_type": "stream",
          "name": "stdout",
          "text": [
            "tensor([[-0.4192, -0.9055, -0.9978, -0.1143,  1.2297],\n",
            "        [-0.4442, -0.6148,  1.2903, -0.2429,  0.2676],\n",
            "        [ 1.5646, -0.4871,  1.7733,  0.7108, -0.5787],\n",
            "        [-0.0735,  1.0832,  1.3239,  0.6060,  0.7503]])\n",
            "\n",
            "tensor([-0.4192, -0.9055, -0.9978, -0.1143,  1.2297, -0.4442, -0.6148,  1.2903,\n",
            "        -0.2429,  0.2676,  1.5646, -0.4871,  1.7733,  0.7108, -0.5787, -0.0735,\n",
            "         1.0832,  1.3239,  0.6060,  0.7503])\n",
            "\n",
            "tensor([[-0.4192, -0.9055, -0.9978, -0.1143],\n",
            "        [ 1.2297, -0.4442, -0.6148,  1.2903],\n",
            "        [-0.2429,  0.2676,  1.5646, -0.4871],\n",
            "        [ 1.7733,  0.7108, -0.5787, -0.0735],\n",
            "        [ 1.0832,  1.3239,  0.6060,  0.7503]])\n"
          ]
        }
      ]
    },
    {
      "cell_type": "markdown",
      "source": [
        "item: 텐서에 값이 단 하나라도 존재하면 숫자값을 얻을 수 있음"
      ],
      "metadata": {
        "id": "WsQzhVC-1Iay"
      }
    },
    {
      "cell_type": "code",
      "source": [
        "x = torch.randn(1)\n",
        "print(x)\n",
        "print(x.item())\n",
        "print(x.dtype)"
      ],
      "metadata": {
        "colab": {
          "base_uri": "https://localhost:8080/"
        },
        "id": "dmFyKWxz1psF",
        "outputId": "bda80470-1788-4b6a-d541-0fe5cd5d2b03"
      },
      "execution_count": null,
      "outputs": [
        {
          "output_type": "stream",
          "name": "stdout",
          "text": [
            "tensor([1.2020])\n",
            "1.201981544494629\n",
            "torch.float32\n"
          ]
        }
      ]
    },
    {
      "cell_type": "markdown",
      "source": [
        "squeeze: 차원을 축소(제거)"
      ],
      "metadata": {
        "id": "ZINCjkXi1vs_"
      }
    },
    {
      "cell_type": "code",
      "source": [
        "tensor = torch.rand(1,3,3)\n",
        "print(tensor)\n",
        "print(tensor.shape)"
      ],
      "metadata": {
        "colab": {
          "base_uri": "https://localhost:8080/"
        },
        "id": "JRc5Sacl123S",
        "outputId": "8f3c57e8-a967-4451-bee2-f2ec5a9b85c5"
      },
      "execution_count": null,
      "outputs": [
        {
          "output_type": "stream",
          "name": "stdout",
          "text": [
            "tensor([[[0.5015, 0.2776, 0.3134],\n",
            "         [0.5462, 0.8841, 0.3949],\n",
            "         [0.7632, 0.9547, 0.0981]]])\n",
            "torch.Size([1, 3, 3])\n"
          ]
        }
      ]
    },
    {
      "cell_type": "code",
      "source": [
        "t = tensor.squeeze()  ## 현재는 3차원인데 줄여준다.\n",
        "print(t)\n",
        "print(t.shape)"
      ],
      "metadata": {
        "colab": {
          "base_uri": "https://localhost:8080/"
        },
        "id": "zVDmYiCb19pu",
        "outputId": "8f42c72a-45bd-45f8-fea0-fc5a3a99455a"
      },
      "execution_count": null,
      "outputs": [
        {
          "output_type": "stream",
          "name": "stdout",
          "text": [
            "tensor([[0.5015, 0.2776, 0.3134],\n",
            "        [0.5462, 0.8841, 0.3949],\n",
            "        [0.7632, 0.9547, 0.0981]])\n",
            "torch.Size([3, 3])\n"
          ]
        }
      ]
    },
    {
      "cell_type": "markdown",
      "source": [
        "unsqueeze: 차원을 증가(생성)"
      ],
      "metadata": {
        "id": "vLyKeXj02GKE"
      }
    },
    {
      "cell_type": "code",
      "source": [
        "t = torch.rand(3,3)\n",
        "print(t)\n",
        "print(t.shape)"
      ],
      "metadata": {
        "colab": {
          "base_uri": "https://localhost:8080/"
        },
        "id": "usBxI5DS2JTP",
        "outputId": "a489e6ea-ccb9-4caa-8025-173af744d2e4"
      },
      "execution_count": null,
      "outputs": [
        {
          "output_type": "stream",
          "name": "stdout",
          "text": [
            "tensor([[0.9600, 0.3255, 0.1751],\n",
            "        [0.8262, 0.2953, 0.5594],\n",
            "        [0.8196, 0.4639, 0.0144]])\n",
            "torch.Size([3, 3])\n"
          ]
        }
      ]
    },
    {
      "cell_type": "code",
      "source": [
        "tensor = t.unsqueeze(dim=0)\n",
        "print(tensor)\n",
        "print(tensor.shape)"
      ],
      "metadata": {
        "colab": {
          "base_uri": "https://localhost:8080/"
        },
        "id": "Vzpo63eo2NVD",
        "outputId": "a3e12320-7da0-4b39-b8ad-a12a146e53ab"
      },
      "execution_count": null,
      "outputs": [
        {
          "output_type": "stream",
          "name": "stdout",
          "text": [
            "tensor([[[0.9600, 0.3255, 0.1751],\n",
            "         [0.8262, 0.2953, 0.5594],\n",
            "         [0.8196, 0.4639, 0.0144]]])\n",
            "torch.Size([1, 3, 3])\n"
          ]
        }
      ]
    },
    {
      "cell_type": "code",
      "source": [
        "tensor = tensor.unsqueeze(dim=2)\n",
        "print(tensor)\n",
        "print(tensor.shape)"
      ],
      "metadata": {
        "colab": {
          "base_uri": "https://localhost:8080/"
        },
        "id": "Le9Qjj9p2iAf",
        "outputId": "a63e7b7c-23fc-4142-a594-0f831514bd50"
      },
      "execution_count": null,
      "outputs": [
        {
          "output_type": "stream",
          "name": "stdout",
          "text": [
            "tensor([[[[0.9600, 0.3255, 0.1751]],\n",
            "\n",
            "         [[0.8262, 0.2953, 0.5594]],\n",
            "\n",
            "         [[0.8196, 0.4639, 0.0144]]]])\n",
            "torch.Size([1, 3, 1, 3])\n"
          ]
        }
      ]
    },
    {
      "cell_type": "markdown",
      "source": [
        "stack: 텐서간 결합"
      ],
      "metadata": {
        "id": "rcdwoQOs2m41"
      }
    },
    {
      "cell_type": "code",
      "source": [
        "x = torch.FloatTensor([1,4])\n",
        "print(x)\n",
        "y = torch.FloatTensor([2,5])\n",
        "print(y)\n",
        "z = torch.FloatTensor([3,6])\n",
        "print(z)\n",
        "print()\n",
        "print(torch.stack([x,y,z]))"
      ],
      "metadata": {
        "colab": {
          "base_uri": "https://localhost:8080/"
        },
        "id": "qFBUiL2v2rJV",
        "outputId": "7ac6e9b7-b228-4e3a-dd0c-2adfdaae9a17"
      },
      "execution_count": null,
      "outputs": [
        {
          "output_type": "stream",
          "name": "stdout",
          "text": [
            "tensor([1., 4.])\n",
            "tensor([2., 5.])\n",
            "tensor([3., 6.])\n",
            "\n",
            "tensor([[1., 4.],\n",
            "        [2., 5.],\n",
            "        [3., 6.]])\n"
          ]
        }
      ]
    },
    {
      "cell_type": "markdown",
      "source": [
        "cat: 텐서를 결합하는 메소드(concatenate)\n",
        "- 넘파이의 stack과 유사하지만, 쌓을 dim이 존재해햐함\n",
        "- 해당 차원을 늘려준 후 결합"
      ],
      "metadata": {
        "id": "sXZHT_8I3Bbp"
      }
    },
    {
      "cell_type": "code",
      "source": [
        "a = torch.randn(1,3,3)\n",
        "print(a)\n",
        "b = torch.randn(1,3,3)\n",
        "print(b)\n",
        "print()\n",
        "c = torch.cat((a,b), dim=0) ##(1,3,3)과 (1,3,3)의 첫 번째 자리를 나타낸다.\n",
        "print(c)\n",
        "print()\n",
        "print()\n",
        "print(c.size())"
      ],
      "metadata": {
        "colab": {
          "base_uri": "https://localhost:8080/"
        },
        "id": "KBkNUS8l3JO-",
        "outputId": "cdf53d2f-bb39-490f-e5fe-7c248f987879"
      },
      "execution_count": null,
      "outputs": [
        {
          "output_type": "stream",
          "name": "stdout",
          "text": [
            "tensor([[[-0.2182,  0.2512, -1.1983],\n",
            "         [-0.2894, -1.1150, -0.5117],\n",
            "         [-0.2114,  0.4301,  1.0588]]])\n",
            "tensor([[[-1.7759, -0.1650, -0.1438],\n",
            "         [-0.6094, -1.4850,  0.4119],\n",
            "         [-0.8919,  2.5050,  1.1908]]])\n",
            "\n",
            "tensor([[[-0.2182,  0.2512, -1.1983],\n",
            "         [-0.2894, -1.1150, -0.5117],\n",
            "         [-0.2114,  0.4301,  1.0588]],\n",
            "\n",
            "        [[-1.7759, -0.1650, -0.1438],\n",
            "         [-0.6094, -1.4850,  0.4119],\n",
            "         [-0.8919,  2.5050,  1.1908]]])\n",
            "\n",
            "\n",
            "torch.Size([2, 3, 3])\n"
          ]
        }
      ]
    },
    {
      "cell_type": "code",
      "source": [
        "c = torch.cat((a,b), dim=1)\n",
        "print(c)\n",
        "print(c.size())"
      ],
      "metadata": {
        "colab": {
          "base_uri": "https://localhost:8080/"
        },
        "id": "64cVLCNv3rpT",
        "outputId": "87ccc3ae-68fd-415f-e7b2-2455867bd0c6"
      },
      "execution_count": null,
      "outputs": [
        {
          "output_type": "stream",
          "name": "stdout",
          "text": [
            "tensor([[[ 0.4098,  0.5199,  1.0965],\n",
            "         [ 1.5220, -0.8579,  1.0609],\n",
            "         [ 1.3937,  0.7147, -0.2965],\n",
            "         [ 0.4992, -1.1132, -1.6959],\n",
            "         [ 0.7722,  1.8387, -1.2131],\n",
            "         [ 0.9383, -0.4029, -0.2410]]])\n",
            "torch.Size([1, 6, 3])\n"
          ]
        }
      ]
    },
    {
      "cell_type": "markdown",
      "source": [
        "chunk: 텐서를 여러 개로 나눌 때 사용(몇 개로 나눌 것인가?)"
      ],
      "metadata": {
        "id": "KF_0KG7Z4H0v"
      }
    },
    {
      "cell_type": "code",
      "source": [
        "tensor = torch.rand(3,6)\n",
        "print(tensor)\n",
        "print()\n",
        "t1, t2, t3 = torch.chunk(tensor, 3, dim=1)\n",
        "print(t1)\n",
        "print(t2)\n",
        "print(t3)"
      ],
      "metadata": {
        "colab": {
          "base_uri": "https://localhost:8080/"
        },
        "id": "DiCJrW5QU5C-",
        "outputId": "d92be14e-afe6-46cc-9f5d-466105581db2"
      },
      "execution_count": null,
      "outputs": [
        {
          "output_type": "stream",
          "name": "stdout",
          "text": [
            "tensor([[0.2348, 0.9132, 0.3568, 0.8371, 0.0123, 0.6350],\n",
            "        [0.1631, 0.3404, 0.0843, 0.6778, 0.6136, 0.6026],\n",
            "        [0.3372, 0.3297, 0.3310, 0.7105, 0.0682, 0.1652]])\n",
            "\n",
            "tensor([[0.2348, 0.9132],\n",
            "        [0.1631, 0.3404],\n",
            "        [0.3372, 0.3297]])\n",
            "tensor([[0.3568, 0.8371],\n",
            "        [0.0843, 0.6778],\n",
            "        [0.3310, 0.7105]])\n",
            "tensor([[0.0123, 0.6350],\n",
            "        [0.6136, 0.6026],\n",
            "        [0.0682, 0.1652]])\n"
          ]
        }
      ]
    },
    {
      "cell_type": "markdown",
      "source": [
        "split\n",
        "- chunk와 동일한 기능이지만 조금 다름(텐서의 크기는 몇인가?)\n",
        "- 열방향으로 최대 2개를 가짐"
      ],
      "metadata": {
        "id": "ObBC3XzrVFpM"
      }
    },
    {
      "cell_type": "code",
      "source": [
        "tensor = torch.rand(3,6)\n",
        "t1, t2, t3 = torch.split(tensor, 2, dim=1)  ## dim=1 열 방향으로 2는 텐서의 크기를 이야기함. 열 방향으로 2개를 받는다는 뜻\n",
        "print(tensor)\n",
        "print(t1)\n",
        "print(t2)\n",
        "print(t3)"
      ],
      "metadata": {
        "colab": {
          "base_uri": "https://localhost:8080/"
        },
        "id": "I40llDSwVpJg",
        "outputId": "bd4fb8e9-03ac-4625-d18b-f5fdecccf4d9"
      },
      "execution_count": null,
      "outputs": [
        {
          "output_type": "stream",
          "name": "stdout",
          "text": [
            "tensor([[0.7726, 0.6895, 0.7319, 0.3853, 0.7319, 0.5172],\n",
            "        [0.8714, 0.7666, 0.0284, 0.3253, 0.3848, 0.1337],\n",
            "        [0.8776, 0.1414, 0.5515, 0.4225, 0.2200, 0.7018]])\n",
            "tensor([[0.7726, 0.6895],\n",
            "        [0.8714, 0.7666],\n",
            "        [0.8776, 0.1414]])\n",
            "tensor([[0.7319, 0.3853],\n",
            "        [0.0284, 0.3253],\n",
            "        [0.5515, 0.4225]])\n",
            "tensor([[0.7319, 0.5172],\n",
            "        [0.3848, 0.1337],\n",
            "        [0.2200, 0.7018]])\n"
          ]
        }
      ]
    },
    {
      "cell_type": "markdown",
      "source": [
        "torch ↔ numpy\n",
        "- Torch Tensor(텐서)를 numpy array(배열)로 변환 가능\n",
        "-- numpy() → 텐서를 배열로 바꿔줌\n",
        "-- from_numpy() → 배열을 텐서로 바꿔줌\n",
        "- Tensor가 CPU 상에 있다면 numpy 배열은 메모리 공간을 공유하므로 하나가 변하면 다른 하나도 변함"
      ],
      "metadata": {
        "id": "Er-jWE-jV22N"
      }
    },
    {
      "cell_type": "code",
      "source": [
        "# 디바이스 세팅\n",
        "import torch\n",
        "device = torch.device('cuda' if torch.cuda.is_available() else 'cpu')\n",
        "print(device)"
      ],
      "metadata": {
        "colab": {
          "base_uri": "https://localhost:8080/"
        },
        "id": "MN4XdDdfWuJ0",
        "outputId": "f8ffa62c-d876-4ab8-bd12-1df9804e1b0e"
      },
      "execution_count": null,
      "outputs": [
        {
          "output_type": "stream",
          "name": "stdout",
          "text": [
            "cuda\n"
          ]
        }
      ]
    },
    {
      "cell_type": "code",
      "source": [
        "a = torch.ones(7)\n",
        "a"
      ],
      "metadata": {
        "colab": {
          "base_uri": "https://localhost:8080/"
        },
        "id": "-4IPjYUfXDyN",
        "outputId": "6cb6e034-70a4-4bfe-bbfe-151fdee210c6"
      },
      "execution_count": null,
      "outputs": [
        {
          "output_type": "execute_result",
          "data": {
            "text/plain": [
              "tensor([1., 1., 1., 1., 1., 1., 1.])"
            ]
          },
          "metadata": {},
          "execution_count": 27
        }
      ]
    },
    {
      "cell_type": "code",
      "source": [
        "# cpu로 바꾸기, torch는 gpu만 쓰는게 아니라 cpu도 사용가능\n",
        "# 단, cpu에서 하면 느리다.\n",
        "# gpu는 단순한 작업인데 굉장히 많은걸 처리할때 유리, cpu는 복잡하면서 다양한 문제를 해결하는데 좋다.\n",
        "# 그런데 양 측면에서는 gpu를 따라갈 수 없다. 영상 이미지는 단순하지만 양이 많다. 그래서 gpu가 적합하다.\n",
        "print(a.to('cpu', torch.double))\n",
        "print(type(a))"
      ],
      "metadata": {
        "colab": {
          "base_uri": "https://localhost:8080/"
        },
        "id": "aJJuu18pXHNf",
        "outputId": "3eb13da5-c1e1-4e83-ddd1-29034056621d"
      },
      "execution_count": null,
      "outputs": [
        {
          "output_type": "stream",
          "name": "stdout",
          "text": [
            "tensor([1., 1., 1., 1., 1., 1., 1.], dtype=torch.float64)\n",
            "<class 'torch.Tensor'>\n"
          ]
        }
      ]
    },
    {
      "cell_type": "code",
      "source": [
        "b = a.numpy()\n",
        "print(b)\n",
        "print(type(b))"
      ],
      "metadata": {
        "colab": {
          "base_uri": "https://localhost:8080/"
        },
        "id": "iN36F1QUXSkL",
        "outputId": "a5939fba-684e-446f-a3bd-c3f91fb73435"
      },
      "execution_count": null,
      "outputs": [
        {
          "output_type": "stream",
          "name": "stdout",
          "text": [
            "[1. 1. 1. 1. 1. 1. 1.]\n",
            "<class 'numpy.ndarray'>\n"
          ]
        }
      ]
    },
    {
      "cell_type": "code",
      "source": [
        "# 이제 a는 텐서고 b는 넘파이이다.\n",
        "a.add_(1) \n",
        "print(a)\n",
        "print(type(a))\n",
        "print()\n",
        "print(b)\n",
        "print(type(b))"
      ],
      "metadata": {
        "colab": {
          "base_uri": "https://localhost:8080/"
        },
        "id": "r58tdv1hX9wV",
        "outputId": "8a13a4ef-36dd-45a3-ffa8-9f2df600595f"
      },
      "execution_count": null,
      "outputs": [
        {
          "output_type": "stream",
          "name": "stdout",
          "text": [
            "tensor([2., 2., 2., 2., 2., 2., 2.])\n",
            "<class 'torch.Tensor'>\n",
            "\n",
            "[2. 2. 2. 2. 2. 2. 2.]\n",
            "<class 'numpy.ndarray'>\n"
          ]
        }
      ]
    },
    {
      "cell_type": "code",
      "source": [
        "import numpy as np\n",
        "\n",
        "a = np.ones(7)\n",
        "b = torch.from_numpy(a)\n",
        "np.add(a, 1, out=a)  ## a에 1을 더해서 a를 출력\n",
        "print(a)\n",
        "print(b)  ## cpu에서 메모리 공유"
      ],
      "metadata": {
        "colab": {
          "base_uri": "https://localhost:8080/"
        },
        "id": "ZiSPbIEnYLuc",
        "outputId": "9375275d-96ab-4a42-b9fd-c7062a5587b7"
      },
      "execution_count": null,
      "outputs": [
        {
          "output_type": "stream",
          "name": "stdout",
          "text": [
            "[2. 2. 2. 2. 2. 2. 2.]\n",
            "tensor([2., 2., 2., 2., 2., 2., 2.], dtype=torch.float64)\n"
          ]
        }
      ]
    },
    {
      "cell_type": "code",
      "source": [
        "b=b.numpy()  ## b는 텐서였는데 여기서 numpy로 바꿔주었다.\n",
        "np.add(b,2,out=b)"
      ],
      "metadata": {
        "colab": {
          "base_uri": "https://localhost:8080/"
        },
        "id": "PfvgHncxbM4c",
        "outputId": "d0f580e2-8998-4dcb-e68a-82fe06481b77"
      },
      "execution_count": null,
      "outputs": [
        {
          "output_type": "execute_result",
          "data": {
            "text/plain": [
              "array([4., 4., 4., 4., 4., 4., 4.])"
            ]
          },
          "metadata": {},
          "execution_count": 38
        }
      ]
    },
    {
      "cell_type": "markdown",
      "source": [
        "역전파 / 경사하강법\n",
        "\n",
        "https://velog.io/@ssulee0206/%EC%97%AD%EC%A0%84%ED%8C%8C-%EA%B2%BD%EC%82%AC%ED%95%98%EA%B0%95%EB%B2%95"
      ],
      "metadata": {
        "id": "4V5a7KDtaSKg"
      }
    },
    {
      "cell_type": "markdown",
      "source": [
        "#### Autograd(자동미분)\n",
        "- torch.autograd 패키지는 Tensor의 모든 연산에 대해 자동 미분 제공\n",
        "- 이는 코드를 어떻게 작성하여 실행하느냐에 따라 역전파가 정의된다는 뜻\n",
        "- backprop를 위해 미분값을 자동으로 계산\n",
        "\n",
        "TORCH.AUTOGRAD를 사용한 자동 미분\n",
        "https://tutorials.pytorch.kr/beginner/basics/autogradqs_tutorial.html\n"
      ],
      "metadata": {
        "id": "ri7_AY-tZ_Xi"
      }
    },
    {
      "cell_type": "markdown",
      "source": [
        "requires_grad 속성을 True로 설정하면, 해당 텐서에서 이루어지는 모든 연산들을 추적하기 시작한다.\n",
        "\n",
        "기록을 추적하는 것을 중단하게 하려면, .detach() 를 호출하여 연산기록으로부터 분리한다."
      ],
      "metadata": {
        "id": "r2WS_Z9oY3vz"
      }
    },
    {
      "cell_type": "code",
      "source": [
        "a = torch.randn(3,3)\n",
        "a = a*3\n",
        "print(a)\n",
        "print(a.requires_grad)"
      ],
      "metadata": {
        "colab": {
          "base_uri": "https://localhost:8080/"
        },
        "id": "l0frVa2MZ9Im",
        "outputId": "15aeeea3-3c0a-40c9-b2b6-27d4f8c1177f"
      },
      "execution_count": null,
      "outputs": [
        {
          "output_type": "stream",
          "name": "stdout",
          "text": [
            "tensor([[ 2.3298,  1.4229, -2.5073],\n",
            "        [-3.3995,  3.4214,  2.0913],\n",
            "        [ 2.8164, -0.5253, -2.3648]])\n",
            "False\n"
          ]
        }
      ]
    },
    {
      "cell_type": "markdown",
      "source": [
        "randn 뒤에 requires_grad = True 를 안해주면 출력값이 False가 나온다."
      ],
      "metadata": {
        "id": "Ds9O9l_Ldruu"
      }
    },
    {
      "cell_type": "markdown",
      "source": [
        "requires_grad_(...) 는 기존 텐서의 requires_grad 값을 바꿔치기(in-place) 하여 변경\n",
        "\n",
        "grad_fn: 미분값을 계산한 함수에 대한 정보 저장(어떤 함수에 대해서 backprop 했는지)"
      ],
      "metadata": {
        "id": "UH9L2VgLd5XB"
      }
    },
    {
      "cell_type": "code",
      "source": [
        "a.requires_grad_(True)  # _를 사용하면 inplace 연산이다. 바꾼값으로 계산한다.\n",
        "print(a.requires_grad)\n",
        "print()\n",
        "\n",
        "b = (a*a).sum()\n",
        "print(a)\n",
        "print(a*a)\n",
        "print()\n",
        "\n",
        "print(b)\n",
        "print()\n",
        "\n",
        "print(b.grad_fn)"
      ],
      "metadata": {
        "colab": {
          "base_uri": "https://localhost:8080/"
        },
        "id": "13cHcTP3ehHj",
        "outputId": "c0a3f4d8-1b91-4b3e-8de1-085952f06115"
      },
      "execution_count": null,
      "outputs": [
        {
          "output_type": "stream",
          "name": "stdout",
          "text": [
            "True\n",
            "\n",
            "tensor([[ 2.3298,  1.4229, -2.5073],\n",
            "        [-3.3995,  3.4214,  2.0913],\n",
            "        [ 2.8164, -0.5253, -2.3648]], requires_grad=True)\n",
            "tensor([[ 5.4278,  2.0247,  6.2864],\n",
            "        [11.5567, 11.7057,  4.3734],\n",
            "        [ 7.9321,  0.2759,  5.5925]], grad_fn=<MulBackward0>)\n",
            "\n",
            "tensor(55.1752, grad_fn=<SumBackward0>)\n",
            "\n",
            "<SumBackward0 object at 0x7f8dfbc8bee0>\n"
          ]
        }
      ]
    },
    {
      "cell_type": "markdown",
      "source": [
        "grad_fn은 sum의 연산 추적이다."
      ],
      "metadata": {
        "id": "l4Slu5oUeVYq"
      }
    },
    {
      "cell_type": "markdown",
      "source": [
        "#### 기울기(Gradient)"
      ],
      "metadata": {
        "id": "WkuLp-PRetGr"
      }
    },
    {
      "cell_type": "code",
      "source": [
        "x = torch.ones(3,3,requires_grad=True)\n",
        "x"
      ],
      "metadata": {
        "colab": {
          "base_uri": "https://localhost:8080/"
        },
        "id": "MH4vFVC0ewJ3",
        "outputId": "b224ad8f-caef-4b17-cbdd-9041e0303c46"
      },
      "execution_count": null,
      "outputs": [
        {
          "output_type": "execute_result",
          "data": {
            "text/plain": [
              "tensor([[1., 1., 1.],\n",
              "        [1., 1., 1.],\n",
              "        [1., 1., 1.]], requires_grad=True)"
            ]
          },
          "metadata": {},
          "execution_count": 43
        }
      ]
    },
    {
      "cell_type": "code",
      "source": [
        "y = x + 5\n",
        "y"
      ],
      "metadata": {
        "colab": {
          "base_uri": "https://localhost:8080/"
        },
        "id": "4WcnyMpue0nN",
        "outputId": "4d6d943f-955f-4926-a758-ec000ebc31ee"
      },
      "execution_count": null,
      "outputs": [
        {
          "output_type": "execute_result",
          "data": {
            "text/plain": [
              "tensor([[6., 6., 6.],\n",
              "        [6., 6., 6.],\n",
              "        [6., 6., 6.]], grad_fn=<AddBackward0>)"
            ]
          },
          "metadata": {},
          "execution_count": 44
        }
      ]
    },
    {
      "cell_type": "code",
      "source": [
        "z = y * y\n",
        "out = z.mean()\n",
        "print(z, out)"
      ],
      "metadata": {
        "colab": {
          "base_uri": "https://localhost:8080/"
        },
        "id": "-5sqY-OAe2V-",
        "outputId": "4214e824-f3ee-4350-c3fe-d97f166f0443"
      },
      "execution_count": null,
      "outputs": [
        {
          "output_type": "stream",
          "name": "stdout",
          "text": [
            "tensor([[36., 36., 36.],\n",
            "        [36., 36., 36.],\n",
            "        [36., 36., 36.]], grad_fn=<MulBackward0>) tensor(36., grad_fn=<MeanBackward0>)\n"
          ]
        }
      ]
    },
    {
      "cell_type": "markdown",
      "source": [
        "어떤 연산을 했는지 다 기억한다."
      ],
      "metadata": {
        "id": "LuFQtSDle-Le"
      }
    },
    {
      "cell_type": "markdown",
      "source": [
        "계산이 완료된 후, backward() 를 호출하면 자동으로 역전파 계산이 가능하고 , .grad 속성에 누적된다"
      ],
      "metadata": {
        "id": "CIfJwSEBfCcA"
      }
    },
    {
      "cell_type": "code",
      "source": [
        "print(out)\n",
        "out.backward()  ## backward를 통해서 역전파 계산이 가능"
      ],
      "metadata": {
        "colab": {
          "base_uri": "https://localhost:8080/"
        },
        "id": "gc2bmB79fkEf",
        "outputId": "abede896-3e94-40b0-c2da-1db45658f4cf"
      },
      "execution_count": null,
      "outputs": [
        {
          "output_type": "stream",
          "name": "stdout",
          "text": [
            "tensor(36., grad_fn=<MeanBackward0>)\n"
          ]
        }
      ]
    },
    {
      "cell_type": "markdown",
      "source": [
        "grad: data가 거쳐온 layer에 대한 미분값 저장"
      ],
      "metadata": {
        "id": "V7uT5q1EfykT"
      }
    },
    {
      "cell_type": "code",
      "source": [
        "print(x)\n",
        "print(x.grad)  ## 미분값"
      ],
      "metadata": {
        "colab": {
          "base_uri": "https://localhost:8080/"
        },
        "id": "9Y_DpqA7f7iJ",
        "outputId": "4a95fd75-334a-49f5-c5e1-6fbdde537651"
      },
      "execution_count": null,
      "outputs": [
        {
          "output_type": "stream",
          "name": "stdout",
          "text": [
            "tensor([[1., 1., 1.],\n",
            "        [1., 1., 1.],\n",
            "        [1., 1., 1.]], requires_grad=True)\n",
            "tensor([[1.3333, 1.3333, 1.3333],\n",
            "        [1.3333, 1.3333, 1.3333],\n",
            "        [1.3333, 1.3333, 1.3333]])\n"
          ]
        }
      ]
    },
    {
      "cell_type": "code",
      "source": [
        "x = torch.randn(3, requires_grad=True)\n",
        "y = x * 2\n",
        "while y.data.norm() < 1000:   ## norm은 벡터 거리를 나타낸다.(추후에 배움)\n",
        "  y = y * 2\n",
        "print(y)"
      ],
      "metadata": {
        "colab": {
          "base_uri": "https://localhost:8080/"
        },
        "id": "mJPvvZYbf-cG",
        "outputId": "0a33c8a7-c9a1-4b69-8dcc-4447809195de"
      },
      "execution_count": null,
      "outputs": [
        {
          "output_type": "stream",
          "name": "stdout",
          "text": [
            "tensor([ 365.4769, -549.7686, 1070.7848], grad_fn=<MulBackward0>)\n"
          ]
        }
      ]
    },
    {
      "cell_type": "code",
      "source": [
        "# v 기준으로 backward 계산\n",
        "v = torch.tensor([0.1,1.0,0.0001], dtype=torch.float)\n",
        "y.backward(v)  ## v 기준으로 y를 backward 시켰다. (역전파 할때 들어가는 숫자 대신에 v값을 넣은것이다.)\n",
        "print(x.grad)  ## x의 미분값 출력"
      ],
      "metadata": {
        "colab": {
          "base_uri": "https://localhost:8080/"
        },
        "id": "npO4lOlRgNdn",
        "outputId": "fc00b638-85a6-44a8-9b8d-7626ab219709"
      },
      "execution_count": null,
      "outputs": [
        {
          "output_type": "stream",
          "name": "stdout",
          "text": [
            "tensor([5.1200e+01, 5.1200e+02, 5.1200e-02])\n"
          ]
        }
      ]
    },
    {
      "cell_type": "markdown",
      "source": [
        "- with torch.no_grad() 를 사용하여 기울기의 업데이트를 하지 않음\n",
        " - 언제 쓰지? 우리가 테스트 데이터를 사용할때는 기울기가 업데이트되면 안된다. 그럴때 쓴다.\n",
        "\n",
        "- 기록을 추적하는 것을 방지하기 위해 코드 블럭을 with torch.no_grad() 로 감싸면 기울기 계산을 필요없지만,\n",
        "\n",
        "- requires_grad=True 로 설정되어 학습 가능한 매개변수를 갖는 모델을 평가(evaluate) 할 때 유용하다\n",
        " - 평가를 할때는 평가 데이터에 기울기를 업데이트하면 안되서 학습 데이터 할때 썼던 기울기를 사용한다는 말이다."
      ],
      "metadata": {
        "id": "gP9Cfr1Cgknb"
      }
    },
    {
      "cell_type": "code",
      "source": [
        "print(x.requires_grad)\n",
        "print((x**2).requires_grad)\n",
        "\n",
        "with torch.no_grad():\n",
        "  print((x ** 2).requires_grad)"
      ],
      "metadata": {
        "colab": {
          "base_uri": "https://localhost:8080/"
        },
        "id": "tsFUsO9lhWkN",
        "outputId": "8869b20b-4b42-4dd4-8cae-0965c0a1235f"
      },
      "execution_count": null,
      "outputs": [
        {
          "output_type": "stream",
          "name": "stdout",
          "text": [
            "True\n",
            "True\n",
            "False\n"
          ]
        }
      ]
    },
    {
      "cell_type": "markdown",
      "source": [
        "detach(): 내용물(xontent)은 같지만 require_grad가 다른 새로운 Tensor를 가져올 때"
      ],
      "metadata": {
        "id": "LzF2xJOyiPz2"
      }
    },
    {
      "cell_type": "code",
      "source": [
        "print(x.requires_grad)\n",
        "y = x.detach()  ## x가 True 인데 detach를 쓰면 나눠져서 False가 된다.\n",
        "print(y.requires_grad)\n",
        "print(x)\n",
        "print(y)"
      ],
      "metadata": {
        "colab": {
          "base_uri": "https://localhost:8080/"
        },
        "id": "HWK8IgRZib4D",
        "outputId": "0bf03830-bf9c-4f7e-a401-cc959d6918cf"
      },
      "execution_count": null,
      "outputs": [
        {
          "output_type": "stream",
          "name": "stdout",
          "text": [
            "True\n",
            "False\n",
            "tensor([ 0.7138, -1.0738,  2.0914], requires_grad=True)\n",
            "tensor([ 0.7138, -1.0738,  2.0914])\n"
          ]
        }
      ]
    },
    {
      "cell_type": "markdown",
      "source": [
        "### 자동 미분 흐름 예제\n",
        "\n",
        "- 계산 흐름 $a \\rightarrow b  \\rightarrow c  \\rightarrow out $\n",
        "\n",
        "## $\\quad \\frac{\\partial out}{\\partial a} = ?$\n",
        "- `backward()`를 통해 $a \\leftarrow b  \\leftarrow c  \\leftarrow out $을 계산하면 $\\frac{\\partial out}{\\partial a}$값이 `a.grad`에 채워짐\n"
      ],
      "metadata": {
        "id": "-mufLZnOijsf"
      }
    },
    {
      "cell_type": "code",
      "source": [
        "a = torch.ones(2,2)\n",
        "a"
      ],
      "metadata": {
        "colab": {
          "base_uri": "https://localhost:8080/"
        },
        "id": "tI_p17P2jICl",
        "outputId": "d953fb2d-23dd-4e09-919a-bd26ae471b32"
      },
      "execution_count": null,
      "outputs": [
        {
          "output_type": "execute_result",
          "data": {
            "text/plain": [
              "tensor([[1., 1.],\n",
              "        [1., 1.]])"
            ]
          },
          "metadata": {},
          "execution_count": 54
        }
      ]
    },
    {
      "cell_type": "code",
      "source": [
        "a = torch.ones(2,2,requires_grad=True)\n",
        "a"
      ],
      "metadata": {
        "colab": {
          "base_uri": "https://localhost:8080/"
        },
        "id": "h6LlwtkZi_z9",
        "outputId": "39cce75f-d1ba-408d-cec6-107efa973ec8"
      },
      "execution_count": null,
      "outputs": [
        {
          "output_type": "execute_result",
          "data": {
            "text/plain": [
              "tensor([[1., 1.],\n",
              "        [1., 1.]], requires_grad=True)"
            ]
          },
          "metadata": {},
          "execution_count": 55
        }
      ]
    },
    {
      "cell_type": "code",
      "source": [
        "print(a.data)\n",
        "print(a.grad)  ## 계산한것이 아무것도 없어서 출력값은 None으로 나올것이다.\n",
        "print(a.grad_fn)"
      ],
      "metadata": {
        "colab": {
          "base_uri": "https://localhost:8080/"
        },
        "id": "DCnv4pNxjFhi",
        "outputId": "7faeb8e9-380a-4d04-8fa5-5264ea1dae3c"
      },
      "execution_count": null,
      "outputs": [
        {
          "output_type": "stream",
          "name": "stdout",
          "text": [
            "tensor([[1., 1.],\n",
            "        [1., 1.]])\n",
            "None\n",
            "None\n"
          ]
        }
      ]
    },
    {
      "cell_type": "markdown",
      "source": [
        "b = a + 2"
      ],
      "metadata": {
        "id": "ZpgzldaijWdQ"
      }
    },
    {
      "cell_type": "code",
      "source": [
        "b = a + 2\n",
        "b"
      ],
      "metadata": {
        "colab": {
          "base_uri": "https://localhost:8080/"
        },
        "id": "ZMjJFfiJja_2",
        "outputId": "0b222f4d-ea43-47be-8595-8b9750e0e942"
      },
      "execution_count": null,
      "outputs": [
        {
          "output_type": "execute_result",
          "data": {
            "text/plain": [
              "tensor([[3., 3.],\n",
              "        [3., 3.]], grad_fn=<AddBackward0>)"
            ]
          },
          "metadata": {},
          "execution_count": 58
        }
      ]
    },
    {
      "cell_type": "markdown",
      "source": [
        "c = b의 제곱"
      ],
      "metadata": {
        "id": "XEmTMUqijcyP"
      }
    },
    {
      "cell_type": "code",
      "source": [
        "c = b ** 2\n",
        "c"
      ],
      "metadata": {
        "colab": {
          "base_uri": "https://localhost:8080/"
        },
        "id": "BQYQpJ_PjvP9",
        "outputId": "7bdf9873-e03d-4373-cd1a-7dc82df9c106"
      },
      "execution_count": null,
      "outputs": [
        {
          "output_type": "execute_result",
          "data": {
            "text/plain": [
              "tensor([[9., 9.],\n",
              "        [9., 9.]], grad_fn=<PowBackward0>)"
            ]
          },
          "metadata": {},
          "execution_count": 60
        }
      ]
    },
    {
      "cell_type": "code",
      "source": [
        "out = c.sum()\n",
        "out"
      ],
      "metadata": {
        "colab": {
          "base_uri": "https://localhost:8080/"
        },
        "id": "dAC-RQ-OjvSs",
        "outputId": "202bb3f5-4b17-4800-d9dd-210af8f9fff0"
      },
      "execution_count": null,
      "outputs": [
        {
          "output_type": "execute_result",
          "data": {
            "text/plain": [
              "tensor(36., grad_fn=<SumBackward0>)"
            ]
          },
          "metadata": {},
          "execution_count": 61
        }
      ]
    },
    {
      "cell_type": "code",
      "source": [
        "print(out)\n",
        "out.backward()"
      ],
      "metadata": {
        "colab": {
          "base_uri": "https://localhost:8080/"
        },
        "id": "tCp7RlBIjvVc",
        "outputId": "8b558a95-df9c-4a16-eedf-fc24b292b065"
      },
      "execution_count": null,
      "outputs": [
        {
          "output_type": "stream",
          "name": "stdout",
          "text": [
            "tensor(36., grad_fn=<SumBackward0>)\n"
          ]
        }
      ]
    },
    {
      "cell_type": "markdown",
      "source": [
        "a의 grad_fn 이 None인 이유는 직접적으로 계산한 부분이 없었기 때문"
      ],
      "metadata": {
        "id": "BHsr0NtGjg-e"
      }
    },
    {
      "cell_type": "code",
      "source": [
        "print(a.data)\n",
        "print(a.grad) \n",
        "print(a.grad_fn)"
      ],
      "metadata": {
        "colab": {
          "base_uri": "https://localhost:8080/"
        },
        "id": "50jEY8lWjs7e",
        "outputId": "b528eb15-76ad-4531-c809-8a4a1bd8c03e"
      },
      "execution_count": null,
      "outputs": [
        {
          "output_type": "stream",
          "name": "stdout",
          "text": [
            "tensor([[1., 1.],\n",
            "        [1., 1.]])\n",
            "tensor([[6., 6.],\n",
            "        [6., 6.]])\n",
            "None\n"
          ]
        }
      ]
    },
    {
      "cell_type": "code",
      "source": [
        "print(b.data)\n",
        "print(b.grad) \n",
        "print(b.grad_fn)"
      ],
      "metadata": {
        "colab": {
          "base_uri": "https://localhost:8080/"
        },
        "id": "wBauRchEmnY-",
        "outputId": "d59cf6d4-57ed-45d9-9849-bf73b5a50fce"
      },
      "execution_count": null,
      "outputs": [
        {
          "output_type": "stream",
          "name": "stdout",
          "text": [
            "tensor([[3., 3.],\n",
            "        [3., 3.]])\n",
            "None\n",
            "<AddBackward0 object at 0x7f8e10058ac0>\n"
          ]
        },
        {
          "output_type": "stream",
          "name": "stderr",
          "text": [
            "<ipython-input-65-ce9e9cd50255>:2: UserWarning: The .grad attribute of a Tensor that is not a leaf Tensor is being accessed. Its .grad attribute won't be populated during autograd.backward(). If you indeed want the .grad field to be populated for a non-leaf Tensor, use .retain_grad() on the non-leaf Tensor. If you access the non-leaf Tensor by mistake, make sure you access the leaf Tensor instead. See github.com/pytorch/pytorch/pull/30531 for more informations. (Triggered internally at aten/src/ATen/core/TensorBody.h:480.)\n",
            "  print(b.grad)\n"
          ]
        }
      ]
    },
    {
      "cell_type": "code",
      "source": [
        "print(c.data)\n",
        "print(c.grad)\n",
        "print(c.grad_fn)"
      ],
      "metadata": {
        "colab": {
          "base_uri": "https://localhost:8080/"
        },
        "id": "Eg-N-Sy0mplj",
        "outputId": "b34b8301-140b-47b7-bdc7-17e42ee1dc88"
      },
      "execution_count": null,
      "outputs": [
        {
          "output_type": "stream",
          "name": "stdout",
          "text": [
            "tensor([[9., 9.],\n",
            "        [9., 9.]])\n",
            "None\n",
            "<PowBackward0 object at 0x7f8dff6673d0>\n"
          ]
        },
        {
          "output_type": "stream",
          "name": "stderr",
          "text": [
            "<ipython-input-67-f6ca42a4f63f>:2: UserWarning: The .grad attribute of a Tensor that is not a leaf Tensor is being accessed. Its .grad attribute won't be populated during autograd.backward(). If you indeed want the .grad field to be populated for a non-leaf Tensor, use .retain_grad() on the non-leaf Tensor. If you access the non-leaf Tensor by mistake, make sure you access the leaf Tensor instead. See github.com/pytorch/pytorch/pull/30531 for more informations. (Triggered internally at aten/src/ATen/core/TensorBody.h:480.)\n",
            "  print(c.grad)\n"
          ]
        }
      ]
    },
    {
      "cell_type": "code",
      "source": [
        "print(out.data)\n",
        "print(out.grad)  \n",
        "print(out.grad_fn)"
      ],
      "metadata": {
        "colab": {
          "base_uri": "https://localhost:8080/"
        },
        "id": "Eyt2tRWgmuCK",
        "outputId": "072ab672-16ba-4eb6-e156-1a31fca06f58"
      },
      "execution_count": null,
      "outputs": [
        {
          "output_type": "stream",
          "name": "stdout",
          "text": [
            "tensor(36.)\n",
            "None\n",
            "<SumBackward0 object at 0x7f8e10125dc0>\n"
          ]
        },
        {
          "output_type": "stream",
          "name": "stderr",
          "text": [
            "<ipython-input-68-e07281a36571>:2: UserWarning: The .grad attribute of a Tensor that is not a leaf Tensor is being accessed. Its .grad attribute won't be populated during autograd.backward(). If you indeed want the .grad field to be populated for a non-leaf Tensor, use .retain_grad() on the non-leaf Tensor. If you access the non-leaf Tensor by mistake, make sure you access the leaf Tensor instead. See github.com/pytorch/pytorch/pull/30531 for more informations. (Triggered internally at aten/src/ATen/core/TensorBody.h:480.)\n",
            "  print(out.grad)\n"
          ]
        }
      ]
    },
    {
      "cell_type": "markdown",
      "source": [
        "# 파이토치로 모델 만들고 평가하기"
      ],
      "metadata": {
        "id": "4mqsC5OZm8GF"
      }
    },
    {
      "cell_type": "markdown",
      "source": [
        "#### Fashion MNIST 분류 모델"
      ],
      "metadata": {
        "id": "EIru0B0Lq0QJ"
      }
    },
    {
      "cell_type": "code",
      "source": [
        "# GPUM 설정\n",
        "import torch\n",
        "device = torch.device('cuda' if torch.cuda.is_available() else 'cpu')\n",
        "print(device)"
      ],
      "metadata": {
        "colab": {
          "base_uri": "https://localhost:8080/"
        },
        "id": "nqQ7HBSpq7MD",
        "outputId": "bed1d146-374b-4229-f197-ece9eaecefc1"
      },
      "execution_count": null,
      "outputs": [
        {
          "output_type": "stream",
          "name": "stdout",
          "text": [
            "cuda\n"
          ]
        }
      ]
    },
    {
      "cell_type": "code",
      "source": [
        "# 데이터 로드\n",
        "import torchvision\n",
        "from torch.utils.data import Dataset, DataLoader\n",
        "from torchvision import datasets\n",
        "import torchvision.transforms as transforms\n",
        "\n",
        "transform = transforms.Compose([transforms.ToTensor(),\n",
        "                                transforms.Normalize((0.5,), (0.5,))])  ## 평균과 표준편착"
      ],
      "metadata": {
        "id": "QAEVQpBFrE_M"
      },
      "execution_count": null,
      "outputs": []
    },
    {
      "cell_type": "code",
      "source": [
        "from torchvision.datasets.utils import Tuple\n",
        "trainset = datasets.FashionMNIST(root='/content/',\n",
        "                                 train=True, download=True,\n",
        "                                 transform=transform)\n",
        "\n",
        "testset = datasets.FashionMNIST(root='/content/',\n",
        "                                 train=False, download=True,\n",
        "                                 transform=transform)"
      ],
      "metadata": {
        "colab": {
          "base_uri": "https://localhost:8080/",
          "height": 459,
          "referenced_widgets": [
            "300f105a83c24e098d1185e56a8e4c93",
            "39e505a88a4b4bd0958770766f7b3d69",
            "639a18f409f84427b4a3bf4f65e566cd",
            "9540ec6647114760971e87884ffb1250",
            "3abb16ee175f47c188f6a4c5a1bb0d0f",
            "ebdd5ca2b7134957b8414c3e1be69aa8",
            "e09eb37c3f714912b3117720a1e000fd",
            "bd35e932584c4202bb76ff5d37ce25b7",
            "8e0e5966c0124ca6b8a3bfd9a7b9ce24",
            "939a2e5b47cf4628a67ea69e6a64ae75",
            "696b9243c07e4d8c816db1df2970fbdf",
            "8d40763eb8e14f2eb5779b0cfa5c1407",
            "852ff42d31184566a1955b0c480e42af",
            "09bfb457e1124667a840046f88ffb260",
            "67e4684f4d504c8490fa865a14869954",
            "2bb36b1d29304c45a044d4af0fd69655",
            "63e00a4f1137478fafa97bb3dc50126f",
            "a4c63f1b63e8425d8a7193c48d3dcb4d",
            "95fe8726afac4a93aadd0d8caf577371",
            "8802383a50e845df86d7c8066188b472",
            "1f443f6e5e594033afe2fa348dfb3278",
            "db0afcd27b5e4af58b5935c24b5c8818",
            "afbb37ebb40b4694862a97a16a4748da",
            "f5515e25501b4ed9ab3d8f89030268cb",
            "5f497b1b4f1b426dbdcfcb7e4318e1cc",
            "e92722c2fd3b43b8a4bebef9ad06168c",
            "71237a07ed514655a1a64e9a1b870862",
            "624587a554e945af98ad5f7472ce21f4",
            "0dad8af2f0ce479b8e49a08260af95b3",
            "cf305fa3e6c24fce9caa2c7f865e3666",
            "07102a56379c4b5a9f9cdc96384228cf",
            "04542647436c4af2a015417948d30bd8",
            "83753443eb7c4848bbc8c8720e8c0a8a",
            "6d46c52b46e544ef9278ab70ed14c923",
            "f414023c40af4323b74d7f1d4b6e98d3",
            "1ceb86dcc75a4e298febff7b8ea63df3",
            "f53b47d7829b42feb7b853489ea6ada6",
            "97a4c612d39e4de3ad210ccaf4a261ce",
            "25547c2a30bb4ea7b8987d42b5233337",
            "8b0672b6c8cb4b5e8da58e5f7bccaf3f",
            "9399c1adae8d436bbae4559603c0d00f",
            "ae267cac61d7449a9506b2001649bee0",
            "bac3c6864a634fd8b90561f5ab066b5f",
            "e4bd98cbac974976a47c9aef8b6cdba4"
          ]
        },
        "id": "l1iQ3vyKr7t-",
        "outputId": "d7d57419-b98b-494d-a08c-9c52c44e705a"
      },
      "execution_count": null,
      "outputs": [
        {
          "output_type": "stream",
          "name": "stdout",
          "text": [
            "Downloading http://fashion-mnist.s3-website.eu-central-1.amazonaws.com/train-images-idx3-ubyte.gz\n",
            "Downloading http://fashion-mnist.s3-website.eu-central-1.amazonaws.com/train-images-idx3-ubyte.gz to /content/FashionMNIST/raw/train-images-idx3-ubyte.gz\n"
          ]
        },
        {
          "output_type": "display_data",
          "data": {
            "text/plain": [
              "  0%|          | 0/26421880 [00:00<?, ?it/s]"
            ],
            "application/vnd.jupyter.widget-view+json": {
              "version_major": 2,
              "version_minor": 0,
              "model_id": "300f105a83c24e098d1185e56a8e4c93"
            }
          },
          "metadata": {}
        },
        {
          "output_type": "stream",
          "name": "stdout",
          "text": [
            "Extracting /content/FashionMNIST/raw/train-images-idx3-ubyte.gz to /content/FashionMNIST/raw\n",
            "\n",
            "Downloading http://fashion-mnist.s3-website.eu-central-1.amazonaws.com/train-labels-idx1-ubyte.gz\n",
            "Downloading http://fashion-mnist.s3-website.eu-central-1.amazonaws.com/train-labels-idx1-ubyte.gz to /content/FashionMNIST/raw/train-labels-idx1-ubyte.gz\n"
          ]
        },
        {
          "output_type": "display_data",
          "data": {
            "text/plain": [
              "  0%|          | 0/29515 [00:00<?, ?it/s]"
            ],
            "application/vnd.jupyter.widget-view+json": {
              "version_major": 2,
              "version_minor": 0,
              "model_id": "8d40763eb8e14f2eb5779b0cfa5c1407"
            }
          },
          "metadata": {}
        },
        {
          "output_type": "stream",
          "name": "stdout",
          "text": [
            "Extracting /content/FashionMNIST/raw/train-labels-idx1-ubyte.gz to /content/FashionMNIST/raw\n",
            "\n",
            "Downloading http://fashion-mnist.s3-website.eu-central-1.amazonaws.com/t10k-images-idx3-ubyte.gz\n",
            "Downloading http://fashion-mnist.s3-website.eu-central-1.amazonaws.com/t10k-images-idx3-ubyte.gz to /content/FashionMNIST/raw/t10k-images-idx3-ubyte.gz\n"
          ]
        },
        {
          "output_type": "display_data",
          "data": {
            "text/plain": [
              "  0%|          | 0/4422102 [00:00<?, ?it/s]"
            ],
            "application/vnd.jupyter.widget-view+json": {
              "version_major": 2,
              "version_minor": 0,
              "model_id": "afbb37ebb40b4694862a97a16a4748da"
            }
          },
          "metadata": {}
        },
        {
          "output_type": "stream",
          "name": "stdout",
          "text": [
            "Extracting /content/FashionMNIST/raw/t10k-images-idx3-ubyte.gz to /content/FashionMNIST/raw\n",
            "\n",
            "Downloading http://fashion-mnist.s3-website.eu-central-1.amazonaws.com/t10k-labels-idx1-ubyte.gz\n",
            "Downloading http://fashion-mnist.s3-website.eu-central-1.amazonaws.com/t10k-labels-idx1-ubyte.gz to /content/FashionMNIST/raw/t10k-labels-idx1-ubyte.gz\n"
          ]
        },
        {
          "output_type": "display_data",
          "data": {
            "text/plain": [
              "  0%|          | 0/5148 [00:00<?, ?it/s]"
            ],
            "application/vnd.jupyter.widget-view+json": {
              "version_major": 2,
              "version_minor": 0,
              "model_id": "6d46c52b46e544ef9278ab70ed14c923"
            }
          },
          "metadata": {}
        },
        {
          "output_type": "stream",
          "name": "stdout",
          "text": [
            "Extracting /content/FashionMNIST/raw/t10k-labels-idx1-ubyte.gz to /content/FashionMNIST/raw\n",
            "\n"
          ]
        }
      ]
    },
    {
      "cell_type": "markdown",
      "source": [
        "root에 보관\n",
        "train은 True 하지만 testset에서는 False해야한다."
      ],
      "metadata": {
        "id": "KRHjkPc0rdKb"
      }
    },
    {
      "cell_type": "code",
      "source": [
        "train_loader = DataLoader(trainset, batch_size=128, shuffle=True, num_workers=2)  ## default 값은 0인데 data 로딩을 위해 몇 개의 서브 프로세스를 사용할 것인지를 결정\n",
        "test_loader = DataLoader(testset, batch_size=128, shuffle=False, num_workers=2)"
      ],
      "metadata": {
        "id": "GltklubxsPvB"
      },
      "execution_count": null,
      "outputs": []
    },
    {
      "cell_type": "code",
      "source": [
        "# iter는 반복 가능한 객체에서 이터레이터를 반환하고, next는 이터레이터에서 값을 차례대로 꺼냄.\n",
        "images, labels = next(iter(train_loader)) ## 데이터의 접근하려면 python의 내장함수 iter와 next을 사용하여 접근\n",
        "images.shape, labels.shape"
      ],
      "metadata": {
        "colab": {
          "base_uri": "https://localhost:8080/"
        },
        "id": "fHd4RoYqskjM",
        "outputId": "757b1f34-707d-4f8b-b65e-b0ed6282b6df"
      },
      "execution_count": null,
      "outputs": [
        {
          "output_type": "execute_result",
          "data": {
            "text/plain": [
              "(torch.Size([128, 1, 28, 28]), torch.Size([128]))"
            ]
          },
          "metadata": {},
          "execution_count": 75
        }
      ]
    },
    {
      "cell_type": "markdown",
      "source": [
        "next 함수와 iter는 함께 써준다."
      ],
      "metadata": {
        "id": "HjvzwLkFs2fl"
      }
    },
    {
      "cell_type": "code",
      "source": [
        "import matplotlib.pyplot as plt\n",
        "labels_map = {\n",
        "    0:'T-Shirt',\n",
        "    1:'Trouser',\n",
        "    2:'Pullover',\n",
        "    3:'Dress',\n",
        "    4:'Coat',\n",
        "    5:'Sandal',\n",
        "    6:'Shirt',\n",
        "    7:'Sneaker',\n",
        "    8:'Bag',\n",
        "    9:'Ankle Boot',\n",
        "\n",
        "}\n",
        "\n",
        "figure = plt.figure(figsize=(12,12))\n",
        "cols, rows = 4,4  ## 4행 4열 짜리 그림\n",
        "for i in range(1, cols * rows +1):\n",
        "  image = images[i].squeeze()\n",
        "  label_idx = labels[i].item()\n",
        "  label = labels_map[label_idx]\n",
        "\n",
        "  figure.add_subplot(rows, cols, i)\n",
        "  plt.title(label)\n",
        "  plt.axis('off')\n",
        "  plt.imshow(image, cmap='gray')\n",
        "plt.show()"
      ],
      "metadata": {
        "colab": {
          "base_uri": "https://localhost:8080/",
          "height": 699
        },
        "id": "W3VG-vwdtHJ5",
        "outputId": "1d49617c-25b2-4eba-8f08-04ad4c13ddf4"
      },
      "execution_count": null,
      "outputs": [
        {
          "output_type": "display_data",
          "data": {
            "text/plain": [
              "<Figure size 864x864 with 16 Axes>"
            ],
            "image/png": "[encoded data removed]"
          },
          "metadata": {
            "needs_background": "light"
          }
        }
      ]
    },
    {
      "cell_type": "code",
      "source": [
        "# 모델 정의 및 파라미터\n",
        "from torch import nn\n",
        "from torch.nn import functional as f\n",
        "\n",
        "## 초기 세팅\n",
        "class net(nn.Module):\n",
        "  def __init__(self):\n",
        "    super().__init__()\n",
        "    self.conv2d_32   = nn.Conv2d(1,32,3,padding=1)\n",
        "    self.conv2d_64   = nn.Conv2d(32,64,3,padding=1)\n",
        "    self.max2d       = nn.MaxPool2d(2,2)\n",
        "    self.conv2d_128  = nn.Conv2d(64,128,3, padding=1)\n",
        "    self.conv2d_256  = nn.Conv2d(128,256,3, stride=2, padding=1)\n",
        "    self.linear1     = nn.Linear(3*3*256, 256)\n",
        "    self.linear2     = nn.Linear(256, 64)\n",
        "    self.linear3     = nn.Linear(64, 10)\n",
        "    self.batch2d1    = nn.BatchNorm2d(64)\n",
        "    self.batch2d2    = nn.BatchNorm2d(256)\n",
        "    self.batch2d3    = nn.BatchNorm2d(64)\n",
        "    self.drop        = nn.Dropout(p=0.3)\n",
        "    self.flat        = nn.Flatten()\n",
        "\n",
        "  def forward(self,x):\n",
        "    x = x.view(-1,1,28,28)            ## view는 선을 줄여준다. 1, 28,28은 지키고 -1은 알아서 한다.\n",
        "    x = f.relu(self.conv2d_32(x))\n",
        "    x = f.relu(self.conv2d_64(x))\n",
        "    x = self.batch2d1(x)\n",
        "    x = f.relu(self.max2d(x))\n",
        "    x = self.drop(x)\n",
        "\n",
        "    x = f.relu(self.conv2d_128(x))\n",
        "    x = f.relu(self.conv2d_256(x))\n",
        "    x = self.batch2d2(x)\n",
        "    x = f.relu(self.max2d(x))\n",
        "    x = self.drop(x)\n",
        "\n",
        "    x = self.flat(x)\n",
        "    x = f.relu(self.linear1(x))\n",
        "    x = self.drop(x)\n",
        "    x = f.relu(self.linear2(x))\n",
        "    x = self.drop(x)\n",
        "    x = self.batch1d(x)\n",
        "    x = f.log_softmax(self.linear3(x), dim=1)\n",
        "    return(x)  ## 출력값은 softmax이기 때문에 확률로 나온다.\n",
        "\n",
        "net = net()\n",
        "print(net)"
      ],
      "metadata": {
        "colab": {
          "base_uri": "https://localhost:8080/"
        },
        "id": "qAVIFSoQt8cw",
        "outputId": "5ef62106-7785-49e7-ca4c-b7eb9cfc0346"
      },
      "execution_count": null,
      "outputs": [
        {
          "output_type": "stream",
          "name": "stdout",
          "text": [
            "net(\n",
            "  (conv2d_32): Conv2d(1, 32, kernel_size=(3, 3), stride=(1, 1), padding=(1, 1))\n",
            "  (conv2d_64): Conv2d(32, 64, kernel_size=(3, 3), stride=(1, 1), padding=(1, 1))\n",
            "  (max2d): MaxPool2d(kernel_size=2, stride=2, padding=0, dilation=1, ceil_mode=False)\n",
            "  (conv2d_128): Conv2d(64, 128, kernel_size=(3, 3), stride=(1, 1), padding=(1, 1))\n",
            "  (conv2d_256): Conv2d(128, 256, kernel_size=(3, 3), stride=(2, 2), padding=(1, 1))\n",
            "  (linear1): Linear(in_features=2304, out_features=256, bias=True)\n",
            "  (linear2): Linear(in_features=256, out_features=64, bias=True)\n",
            "  (linear3): Linear(in_features=64, out_features=10, bias=True)\n",
            "  (batch2d1): BatchNorm2d(64, eps=1e-05, momentum=0.1, affine=True, track_running_stats=True)\n",
            "  (batch2d2): BatchNorm2d(256, eps=1e-05, momentum=0.1, affine=True, track_running_stats=True)\n",
            "  (batch2d3): BatchNorm2d(64, eps=1e-05, momentum=0.1, affine=True, track_running_stats=True)\n",
            "  (drop): Dropout(p=0.3, inplace=False)\n",
            "  (flat): Flatten(start_dim=1, end_dim=-1)\n",
            ")\n"
          ]
        }
      ]
    },
    {
      "cell_type": "markdown",
      "source": [
        "dilation\n",
        "https://gaussian37.github.io/dl-concept-covolution_operation/#dilation-%EC%9D%B4%EB%9E%80-1\n",
        "\n",
        "- dilation은 kernel의 한 칙셀에서 다른 칙셀까지의 거리를 나타낸다."
      ],
      "metadata": {
        "id": "miNdXrCIw8EV"
      }
    },
    {
      "cell_type": "markdown",
      "source": [
        "#### nn.Linear\n",
        "- 선형 계층은 저장된 가중치와 편향을 사용하여 입력에 선형 변환을 적용하는 모듈"
      ],
      "metadata": {
        "id": "HyMHJGTixgNP"
      }
    },
    {
      "cell_type": "markdown",
      "source": [
        "#### nn.ReLU\n",
        "- 비선형 활성화는 모델의 입력과 출력 사이에 복잡한 관계를 만든다.\n",
        "- 비선형 활성화는 선형 변환 후에 적용되어 비선형성을 도입하고 신경망이 다양한 현상을 학습할 수 있도록 만든다."
      ],
      "metadata": {
        "id": "RgNpThe85G5U"
      }
    },
    {
      "cell_type": "code",
      "source": [
        "params = list(net.parameters())\n",
        "print(len(params))\n",
        "print(params[0].size())"
      ],
      "metadata": {
        "colab": {
          "base_uri": "https://localhost:8080/"
        },
        "id": "-liu-WjP5YL8",
        "outputId": "d3bf9f65-d043-440b-9caf-249c4b7b1993"
      },
      "execution_count": null,
      "outputs": [
        {
          "output_type": "stream",
          "name": "stdout",
          "text": [
            "20\n",
            "torch.Size([32, 1, 3, 3])\n"
          ]
        }
      ]
    },
    {
      "cell_type": "markdown",
      "source": [
        "파이토치 튜토리얼(중요한 도큐먼트를 번역해둠)\n",
        "https://tutorials.pytorch.kr/beginner/basics/buildmodel_tutorial.html\n"
      ],
      "metadata": {
        "id": "lAaIU6-I6AV4"
      }
    },
    {
      "cell_type": "code",
      "source": [
        "# 손실함수와 옵티마이저\n",
        "criterion = nn.NLLLoss()\n",
        "optimiaer = torch.optim.Adam(net.parameters(), lr=0.008)"
      ],
      "metadata": {
        "id": "SSkTjMrw5vit"
      },
      "execution_count": null,
      "outputs": []
    },
    {
      "cell_type": "code",
      "source": [
        "# 모델 학습\n",
        "\n",
        "## 배치수 확인\n",
        "total_batch = len(train_loader)\n",
        "print(total_batch)"
      ],
      "metadata": {
        "colab": {
          "base_uri": "https://localhost:8080/"
        },
        "id": "gJyI0FWm66y7",
        "outputId": "ca3f92ad-eac1-41f9-b65e-a87c24cd1192"
      },
      "execution_count": null,
      "outputs": [
        {
          "output_type": "stream",
          "name": "stdout",
          "text": [
            "469\n"
          ]
        }
      ]
    },
    {
      "cell_type": "markdown",
      "source": [
        "#### [ 과제 ] FashionMNIST 분류 모델을 kereas로 수행하기."
      ],
      "metadata": {
        "id": "tKJT5-D07Fq-"
      }
    },
    {
      "cell_type": "code",
      "source": [],
      "metadata": {
        "id": "48Xg1H8K7cEx"
      },
      "execution_count": null,
      "outputs": []
    }
  ]
}