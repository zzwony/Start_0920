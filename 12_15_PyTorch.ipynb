{
  "nbformat": 4,
  "nbformat_minor": 0,
  "metadata": {
    "colab": {
      "provenance": [],
      "collapsed_sections": [
        "yBlaFviOnLvZ"
      ],
      "mount_file_id": "1Te5fe5BbY1k8YiZQYGrTB6TUbW7bu8xO",
      "authorship_tag": "ABX9TyPi7TIW2YMDTMJkUWwZjh+N",
      "include_colab_link": true
    },
    "kernelspec": {
      "name": "python3",
      "display_name": "Python 3"
    },
    "language_info": {
      "name": "python"
    },
    "accelerator": "GPU",
    "gpuClass": "standard"
  },
  "cells": [
    {
      "cell_type": "markdown",
      "metadata": {
        "id": "view-in-github",
        "colab_type": "text"
      },
      "source": [
        "<a href=\"https://colab.research.google.com/github/zzwony/Start_0920/blob/main/12_15_PyTorch.ipynb\" target=\"_parent\"><img src=\"https://colab.research.google.com/assets/colab-badge.svg\" alt=\"Open In Colab\"/></a>"
      ]
    },
    {
      "cell_type": "code",
      "source": [
        "from google.colab import drive\n",
        "drive.mount('/content/drive')"
      ],
      "metadata": {
        "colab": {
          "base_uri": "https://localhost:8080/"
        },
        "id": "oAyKcEHeUA6k",
        "outputId": "4d277401-f622-4f3a-bb29-36ff7d634780"
      },
      "execution_count": null,
      "outputs": [
        {
          "output_type": "stream",
          "name": "stdout",
          "text": [
            "Drive already mounted at /content/drive; to attempt to forcibly remount, call drive.mount(\"/content/drive\", force_remount=True).\n"
          ]
        }
      ]
    },
    {
      "cell_type": "markdown",
      "source": [
        "# 파이토치(PyTorch)\n",
        "\n",
        "* 페이스북이 초기 루아(Lua) 언어로 개발된 토치(Torch)를 파이썬 버전으로 개발하여 2017년도에 공개\n",
        "* 초기에 토치(Torch)는 넘파이(NumPy) 라이브러리처럼 과학 연산을 위한 라이브러리로 공개\n",
        "* 이후 GPU를 이용한 텐서 조작 및 동적 신경망 구축이 가능하도록 딥러닝 프레임워크로 발전시킴\n",
        "* 파이썬답게 만들어졌고, 유연하면서도 가속화된 계산 속도를 제공\n"
      ],
      "metadata": {
        "id": "EW6eV3TGUSQg"
      }
    },
    {
      "cell_type": "markdown",
      "source": [
        "## 파이토치의 구성요소\n",
        "\n",
        "- `torch`: 메인 네임스페이스, 텐서 등의 다양한 수학 함수가 포함\n",
        "- `torch.autograd`: 자동 미분 기능을 제공하는 라이브러리\n",
        "- `torch.nn`: 신경망 구축을 위한 데이터 구조나 레이어 등의 라이브러리\n",
        "- `torch.multiprocessing`: 병럴처리 기능을 제공하는 라이브러리\n",
        "- `torch.optim`: SGD(Stochastic Gradient Descent)를 중심으로 한 파라미터 최적화 알고리즘 제공\n",
        "- `torch.utils`: 데이터 조작 등 유틸리티 기능 제공\n",
        "- `torch.onnx`: ONNX(Open Neural Network Exchange), 서로 다른 프레임워크 간의 모델을 공유할 때 사용\n"
      ],
      "metadata": {
        "id": "DwTLLj8RViWV"
      }
    },
    {
      "cell_type": "markdown",
      "source": [
        "## 텐서(Tensors)\n",
        "\n",
        "* 데이터 표현을 위한 기본 구조로 텐서(tensor)를 사용\n",
        "* 텐서는 데이터를 담기위한 컨테이너(container)로서 일반적으로 수치형 데이터를 저장\n",
        "* 넘파이(NumPy)의 ndarray와 유사\n",
        "* GPU를 사용한 연산 가속 가능\n"
      ],
      "metadata": {
        "id": "yUuj0nTIVyzG"
      }
    },
    {
      "cell_type": "code",
      "source": [
        "import numpy as np\n",
        "x = np.empty([4,2]) # empty는 메모리 남아있는게 그냥 나오는것(비어있는게 아니다.)\n",
        "x"
      ],
      "metadata": {
        "colab": {
          "base_uri": "https://localhost:8080/"
        },
        "id": "loAt0DBXVorH",
        "outputId": "eb18f243-4182-4020-bc15-3a45013aa9ae"
      },
      "execution_count": null,
      "outputs": [
        {
          "output_type": "execute_result",
          "data": {
            "text/plain": [
              "array([[1.79602427e-316, 6.79038653e-313],\n",
              "       [2.37663529e-312, 2.14321575e-312],\n",
              "       [2.37663529e-312, 2.56761491e-312],\n",
              "       [0.00000000e+000, 0.00000000e+000]])"
            ]
          },
          "metadata": {},
          "execution_count": 3
        }
      ]
    },
    {
      "cell_type": "code",
      "source": [
        "import torch\n",
        "torch.__version__"
      ],
      "metadata": {
        "colab": {
          "base_uri": "https://localhost:8080/",
          "height": 35
        },
        "id": "F2E9RlFjbZDr",
        "outputId": "2a4642a5-badf-48d3-c9be-58be93f8c537"
      },
      "execution_count": null,
      "outputs": [
        {
          "output_type": "execute_result",
          "data": {
            "text/plain": [
              "'1.13.0+cu116'"
            ],
            "application/vnd.google.colaboratory.intrinsic+json": {
              "type": "string"
            }
          },
          "metadata": {},
          "execution_count": 4
        }
      ]
    },
    {
      "cell_type": "code",
      "source": [
        "x = torch.empty(4,2)\n",
        "x"
      ],
      "metadata": {
        "colab": {
          "base_uri": "https://localhost:8080/"
        },
        "id": "tUhTM1JrbdQO",
        "outputId": "717e7ddd-1374-4c2d-e6eb-8e4b612f1bb3"
      },
      "execution_count": null,
      "outputs": [
        {
          "output_type": "execute_result",
          "data": {
            "text/plain": [
              "tensor([[2.0670e-34, 0.0000e+00],\n",
              "        [3.5032e-44, 0.0000e+00],\n",
              "        [       nan, 6.4460e-44],\n",
              "        [1.1578e+27, 7.1463e+22]])"
            ]
          },
          "metadata": {},
          "execution_count": 5
        }
      ]
    },
    {
      "cell_type": "code",
      "source": [
        "# 무작위로 초기화된 텐서\n",
        "x = torch.rand(4,2) ## 0~1 사이의 숫자를 균등하게 생성\n",
        "x"
      ],
      "metadata": {
        "colab": {
          "base_uri": "https://localhost:8080/"
        },
        "id": "nmnXD-KJb3tM",
        "outputId": "a1b5b9ee-7095-490e-a7ca-2add799db3cc"
      },
      "execution_count": null,
      "outputs": [
        {
          "output_type": "execute_result",
          "data": {
            "text/plain": [
              "tensor([[0.2459, 0.0314],\n",
              "        [0.7641, 0.4225],\n",
              "        [0.1540, 0.6110],\n",
              "        [0.0845, 0.4893]])"
            ]
          },
          "metadata": {},
          "execution_count": 6
        }
      ]
    },
    {
      "cell_type": "markdown",
      "source": [
        "< 텐서의 데이터 타입 >"
      ],
      "metadata": {
        "id": "q-9d6UkRc0SP"
      }
    },
    {
      "cell_type": "markdown",
      "source": [
        "| Data type | dtype | CPU tensor | GPU tensor |\n",
        "| ------ | ------ | ------ | ------ |\n",
        "| 32-bit floating point | `torch.float32` or `torch.float` |`torch.FloatTensor` | `torch.cuda.FloatTensor` |\n",
        "| 64-bit floating point | `torch.float64` or `torch.double` |`torch.DoubleTensor` | `torch.cuda.DoubleTensor` |\n",
        "| 16-bit floating point | `torch.float16` or `torch.half` |`torch.HalfTensor` | `torch.cuda.HalfTensor` |\n",
        "| 8-bit integer(unsinged) | `torch.uint8` |`torch.ByteTensor` | `torch.cuda.ByteTensor` |\n",
        "| 8-bit integer(singed) | `torch.int8` |`torch.CharTensor` | `torch.cuda.CharTensor` |\n",
        "| 16-bit integer(signed) | `torch.int16` or `torch.short` |`torch.ShortTensor` | `torch.cuda.ShortTensor` |\n",
        "| 32-bit integer(signed) | `torch.int32` or `torch.int` |`torch.IntTensor` | `torch.cuda.IntTensor` |\n",
        "| 64-bit integer(signed) | `torch.int64` or `torch.long` |`torch.LongTensor` | `torch.cuda.LongTensor` |\n"
      ],
      "metadata": {
        "id": "9mHEID1Tb-Jo"
      }
    },
    {
      "cell_type": "code",
      "source": [
        "# 데이터 타입(dtype)이 long이고 0으로 채워진 텐서\n",
        "x = torch.zeros(4,2,dtype=torch.long)  \n",
        "x  ## 넘파이에서는 배열이 만들어졌지만 파이토치에서는 텐서가 만들어진다."
      ],
      "metadata": {
        "colab": {
          "base_uri": "https://localhost:8080/"
        },
        "id": "bXGIWJMRcxxc",
        "outputId": "50bd8864-10b7-4e5a-c14c-64e3e3281236"
      },
      "execution_count": null,
      "outputs": [
        {
          "output_type": "execute_result",
          "data": {
            "text/plain": [
              "tensor([[0, 0],\n",
              "        [0, 0],\n",
              "        [0, 0],\n",
              "        [0, 0]])"
            ]
          },
          "metadata": {},
          "execution_count": 7
        }
      ]
    },
    {
      "cell_type": "code",
      "source": [
        "# 사용자가 입력한 값으로 텐서 초기화\n",
        "x = torch.tensor([3, 2.3])\n",
        "x"
      ],
      "metadata": {
        "colab": {
          "base_uri": "https://localhost:8080/"
        },
        "id": "QjtmAr-JdDz4",
        "outputId": "9aa5446d-9caf-417b-df3e-99a5d3db6422"
      },
      "execution_count": null,
      "outputs": [
        {
          "output_type": "execute_result",
          "data": {
            "text/plain": [
              "tensor([3.0000, 2.3000])"
            ]
          },
          "metadata": {},
          "execution_count": 8
        }
      ]
    },
    {
      "cell_type": "code",
      "source": [
        "# 2x4 크기, double 타입, 1로 채워진 텐서\n",
        "x = x.new_ones(2,4,dtype=torch.double)\n",
        "x"
      ],
      "metadata": {
        "colab": {
          "base_uri": "https://localhost:8080/"
        },
        "id": "_bKDcGjwdc2r",
        "outputId": "27169a12-9764-43bb-b8c4-fff2383c5a4e"
      },
      "execution_count": null,
      "outputs": [
        {
          "output_type": "execute_result",
          "data": {
            "text/plain": [
              "tensor([[1., 1., 1., 1.],\n",
              "        [1., 1., 1., 1.]], dtype=torch.float64)"
            ]
          },
          "metadata": {},
          "execution_count": 10
        }
      ]
    },
    {
      "cell_type": "markdown",
      "source": [
        "x에다가 new_one을 하게 되면 만들어진다.\n",
        "\n",
        "double로 했기때문에 .(점)이 들어간다."
      ],
      "metadata": {
        "id": "13J9gmPldnW5"
      }
    },
    {
      "cell_type": "code",
      "source": [
        "x = torch.randn_like(x, dtype=torch.float)  ## 사이즈를 튜플로 입력하지 않고 기존의 텐서를 정의\n",
        "x"
      ],
      "metadata": {
        "colab": {
          "base_uri": "https://localhost:8080/"
        },
        "id": "cPXOqvaEeM3-",
        "outputId": "11c3bf5e-dc51-499f-c784-9af91710a19c"
      },
      "execution_count": null,
      "outputs": [
        {
          "output_type": "execute_result",
          "data": {
            "text/plain": [
              "tensor([[-1.1842,  0.7554, -0.1243, -0.0022],\n",
              "        [ 0.7061, -0.6335, -0.2229,  0.7890]])"
            ]
          },
          "metadata": {},
          "execution_count": 11
        }
      ]
    },
    {
      "cell_type": "markdown",
      "source": [
        "_like를 하면 전에꺼(위의 x는 2행 4열이다.)와 같은 형태가 된다.\n",
        "\n",
        "randn은 정규분포를 나타낸다.\n",
        "\n",
        "즉 랜덤하게 정규분포를 이루는 값으로 이룬다."
      ],
      "metadata": {
        "id": "BBfDIvCBd8eT"
      }
    },
    {
      "cell_type": "code",
      "source": [
        "x = torch.randn(5) ## 평균이 0 이고 표준편차가 1인 가우시안 정규분포를 이용해 생성\n",
        "x"
      ],
      "metadata": {
        "colab": {
          "base_uri": "https://localhost:8080/"
        },
        "id": "1drrV0vOegUr",
        "outputId": "c6ea3cc0-11b7-42e5-a6de-620fe43c8bc6"
      },
      "execution_count": null,
      "outputs": [
        {
          "output_type": "execute_result",
          "data": {
            "text/plain": [
              "tensor([-1.3456, -1.6918,  0.9934,  1.4257,  0.2305])"
            ]
          },
          "metadata": {},
          "execution_count": 12
        }
      ]
    },
    {
      "cell_type": "markdown",
      "source": [
        "텐서의 크기 계산"
      ],
      "metadata": {
        "id": "1p9-yhwshiKo"
      }
    },
    {
      "cell_type": "code",
      "source": [
        "print(x.size())"
      ],
      "metadata": {
        "colab": {
          "base_uri": "https://localhost:8080/"
        },
        "id": "HaXDwJsriX7Q",
        "outputId": "71c14572-fe94-4d84-c7c7-58adec3c8f49"
      },
      "execution_count": null,
      "outputs": [
        {
          "output_type": "stream",
          "name": "stdout",
          "text": [
            "torch.Size([5])\n"
          ]
        }
      ]
    },
    {
      "cell_type": "markdown",
      "source": [
        "기억할것은 \n",
        "- double은 64bit \n",
        "- short는 16bit \n",
        "- long은 64bit 정도"
      ],
      "metadata": {
        "id": "Ywg5xKkDiZVZ"
      }
    },
    {
      "cell_type": "code",
      "source": [
        "ft = torch.FloatTensor([1,2,3])\n",
        "print(ft)\n",
        "print(ft.dtype)"
      ],
      "metadata": {
        "colab": {
          "base_uri": "https://localhost:8080/"
        },
        "id": "PFA7fmIyjA_N",
        "outputId": "01653381-8592-4ea1-adac-62421fa50c9b"
      },
      "execution_count": null,
      "outputs": [
        {
          "output_type": "stream",
          "name": "stdout",
          "text": [
            "tensor([1., 2., 3.])\n",
            "torch.float32\n"
          ]
        }
      ]
    },
    {
      "cell_type": "code",
      "source": [
        "print(ft.short())\n",
        "print(ft.int())\n",
        "print(ft.long())"
      ],
      "metadata": {
        "colab": {
          "base_uri": "https://localhost:8080/"
        },
        "id": "o42Zg6yIjKsb",
        "outputId": "3d5f741f-429f-497e-ac61-75abf39bc17b"
      },
      "execution_count": null,
      "outputs": [
        {
          "output_type": "stream",
          "name": "stdout",
          "text": [
            "tensor([1, 2, 3], dtype=torch.int16)\n",
            "tensor([1, 2, 3], dtype=torch.int32)\n",
            "tensor([1, 2, 3])\n"
          ]
        }
      ]
    },
    {
      "cell_type": "markdown",
      "source": [
        "### CUDA Tensors\n",
        "- .to 메소드를 사용하여 텐서를 어떠한 장치(cpu, gup)로도 옮길 수 있다."
      ],
      "metadata": {
        "id": "7OIQBbrXjRzA"
      }
    },
    {
      "cell_type": "markdown",
      "source": [
        "- NVIDIA가 만든 병렬 컴퓨팅 플랫폼 및 API 모델로, 보통 '쿠다'라고 발음한다. \n",
        "\n",
        "- CUDA 플랫폼은 GPU 의 가상 명령어셋을 사용할 수 있도록 만들어주는 소프트웨어 레이어이며, NVIDIA가 만든 CUDA 코어가 장착된 GPU에서 작동\n"
      ],
      "metadata": {
        "id": "E48lQC5ZjpS2"
      }
    },
    {
      "cell_type": "code",
      "source": [
        "x = torch.randn(1)\n",
        "print(x)\n",
        "print(x.item())\n",
        "print(x.dtype)"
      ],
      "metadata": {
        "colab": {
          "base_uri": "https://localhost:8080/"
        },
        "id": "bjTX4EOmjr6A",
        "outputId": "ef95e688-c6a7-4d28-f399-ed66d1c7e023"
      },
      "execution_count": null,
      "outputs": [
        {
          "output_type": "stream",
          "name": "stdout",
          "text": [
            "tensor([0.1972])\n",
            "0.19717402756214142\n",
            "torch.float32\n"
          ]
        }
      ]
    },
    {
      "cell_type": "code",
      "source": [
        "device = torch.device('cuda' if torch.cuda.is_available() else 'cpu')\n",
        "print(device)"
      ],
      "metadata": {
        "colab": {
          "base_uri": "https://localhost:8080/"
        },
        "id": "PzKYGd4AkLl0",
        "outputId": "20753dfc-8a25-4b8d-89ff-51c6bd9e2abb"
      },
      "execution_count": null,
      "outputs": [
        {
          "output_type": "stream",
          "name": "stdout",
          "text": [
            "cuda\n"
          ]
        }
      ]
    },
    {
      "cell_type": "markdown",
      "source": [
        "#### 다차원 텐서 표현"
      ],
      "metadata": {
        "id": "BVUOGJAgkd6P"
      }
    },
    {
      "cell_type": "markdown",
      "source": [
        "0D Tensor(Scalar)\n",
        "- 하나의 숫자를 담고 있는 텐서\n",
        "- 축과 형상이 없다."
      ],
      "metadata": {
        "id": "USfngidhk_BT"
      }
    },
    {
      "cell_type": "code",
      "source": [
        "t0 = torch.tensor(1)\n",
        "print(t0.ndim)\n",
        "print(t0.shape)\n",
        "print(t0)"
      ],
      "metadata": {
        "colab": {
          "base_uri": "https://localhost:8080/"
        },
        "id": "6Pt61dxIlFw6",
        "outputId": "0100ff28-289f-4fa7-8ea2-2ae0fedf0503"
      },
      "execution_count": null,
      "outputs": [
        {
          "output_type": "stream",
          "name": "stdout",
          "text": [
            "0\n",
            "torch.Size([])\n",
            "tensor(1)\n"
          ]
        }
      ]
    },
    {
      "cell_type": "markdown",
      "source": [
        "0차원이고, 사이즈 없고, 텐서는 1이다."
      ],
      "metadata": {
        "id": "qhfL38IClna0"
      }
    },
    {
      "cell_type": "markdown",
      "source": [
        "1D Tensor(Vector)\n",
        "- 값들을 저장한 리스트와 유사한 텐서\n",
        "- 하나의 축이 존재"
      ],
      "metadata": {
        "id": "zgs73lEOlvuT"
      }
    },
    {
      "cell_type": "code",
      "source": [
        "t1 = torch.tensor([0,1,2])\n",
        "print(t1.ndim)\n",
        "print(t1.shape)\n",
        "print(t1)"
      ],
      "metadata": {
        "colab": {
          "base_uri": "https://localhost:8080/"
        },
        "id": "IVyYdD6jl5a-",
        "outputId": "796678f8-4664-4e6a-9202-968937799e9a"
      },
      "execution_count": null,
      "outputs": [
        {
          "output_type": "stream",
          "name": "stdout",
          "text": [
            "1\n",
            "torch.Size([3])\n",
            "tensor([0, 1, 2])\n"
          ]
        }
      ]
    },
    {
      "cell_type": "markdown",
      "source": [
        "2D Tensor(Maxtrix)\n",
        "- 행렬과 같은 모양으로 두개의 축이 존재\n",
        "- 일반적인 수치, 통계 데이터셋이 해당\n",
        "- 주로 샘플(samples)과 특성(features)을 가진 구조로 사용"
      ],
      "metadata": {
        "id": "8vwi7v21l-mb"
      }
    },
    {
      "cell_type": "code",
      "source": [
        "t2 = torch.tensor([[1,2,3], [4,5,6]])\n",
        "print(t2.ndim)\n",
        "print(t2.shape)\n",
        "print(t2)"
      ],
      "metadata": {
        "colab": {
          "base_uri": "https://localhost:8080/"
        },
        "id": "yFrbHF3MmRZl",
        "outputId": "658ad573-fbaf-494c-ee9b-dd8547417ad6"
      },
      "execution_count": null,
      "outputs": [
        {
          "output_type": "stream",
          "name": "stdout",
          "text": [
            "2\n",
            "torch.Size([2, 3])\n",
            "tensor([[1, 2, 3],\n",
            "        [4, 5, 6]])\n"
          ]
        }
      ]
    },
    {
      "cell_type": "markdown",
      "source": [
        "#### [ 과제 ] 3D, 4D, 5D 만들기"
      ],
      "metadata": {
        "id": "yBlaFviOnLvZ"
      }
    },
    {
      "cell_type": "markdown",
      "source": [
        "3D Tensor\n",
        "- 큐브(cube)와 같은 모양으로 세개의 축이 존재\n",
        "- 데이터가 연속된 시퀀스 데이터나 시간 축이 포함된 시계열 데이터에 해당\n",
        "- 주식 가격 데이터셋, 시간에 따른 질병 발병 데이터 등이 존재\n",
        "- 주로 샘플, 타임스탭, 특성을 가진 구조로 사용"
      ],
      "metadata": {
        "id": "Kq5WZ0QAmhQF"
      }
    },
    {
      "cell_type": "markdown",
      "source": [
        "#### 텐서의 연산\n",
        "- 텐서에 대한 수학 연산, 삼각함수, 비트 연산, 비교 연산, 집계 등 제공"
      ],
      "metadata": {
        "id": "hsuITCoOnK5u"
      }
    },
    {
      "cell_type": "code",
      "source": [
        "import math\n",
        "\n",
        "a = torch.randn(1,2) * 2 - 1  ## 가우시안 표준정규 분포\n",
        "print(a)\n",
        "print(torch.abs(a)) \n",
        "print(torch.ceil(a)) ## ceil은 꼭대기만 나오는것\n",
        "print(torch.floor(a))\n",
        "print(torch.clamp(a, -0.5, 0.5))  ## 입력 값이 min < x(input) < max 이면 x가 그대로 나오지만\n",
        "                                  ## min 보다 작으면 min 값이, max보다 크면 max 값이 나오는 구조이다."
      ],
      "metadata": {
        "colab": {
          "base_uri": "https://localhost:8080/"
        },
        "id": "4OH7W_ZOnTtB",
        "outputId": "6fa88300-9fa6-4c73-bf35-08b4cd56cfa6"
      },
      "execution_count": null,
      "outputs": [
        {
          "output_type": "stream",
          "name": "stdout",
          "text": [
            "tensor([[-4.5702, -2.2642]])\n",
            "tensor([[4.5702, 2.2642]])\n",
            "tensor([[-4., -2.]])\n",
            "tensor([[-5., -3.]])\n",
            "tensor([[-0.5000, -0.5000]])\n"
          ]
        }
      ]
    },
    {
      "cell_type": "code",
      "source": [
        "print(a)\n",
        "print(torch.prod(a))  ## prod는 곱하는것이다.\n",
        "print(torch.unique(torch.tensor([1,2,3,1,2,1])))  ## unique는 중복된것은 빼고 출력"
      ],
      "metadata": {
        "colab": {
          "base_uri": "https://localhost:8080/"
        },
        "id": "_RR9200_oQBm",
        "outputId": "96f671e2-071b-43e3-b709-79d47a42989c"
      },
      "execution_count": null,
      "outputs": [
        {
          "output_type": "stream",
          "name": "stdout",
          "text": [
            "tensor([[-4.5702, -2.2642]])\n",
            "tensor(10.3480)\n",
            "tensor([1, 2, 3])\n"
          ]
        }
      ]
    },
    {
      "cell_type": "markdown",
      "source": [
        "argmax: 최대값을 가진 인덱스\n",
        "\n",
        "argmin: 최솟값을 가진 인덱스"
      ],
      "metadata": {
        "id": "c288sCfZo1-d"
      }
    },
    {
      "cell_type": "code",
      "source": [
        "x = torch.rand(2,2)\n",
        "print(x, '\\n')\n",
        "print(x.max(dim=0), '\\n') ## 행(세로)으로 비교\n",
        "print(x.max(dim=1))  ## 열(가로)으로 비교"
      ],
      "metadata": {
        "colab": {
          "base_uri": "https://localhost:8080/"
        },
        "id": "uI8IK8wwpYRJ",
        "outputId": "ecba99ef-56cf-4a17-c879-6604651afde8"
      },
      "execution_count": null,
      "outputs": [
        {
          "output_type": "stream",
          "name": "stdout",
          "text": [
            "tensor([[0.1601, 0.9349],\n",
            "        [0.1524, 0.2703]]) \n",
            "\n",
            "torch.return_types.max(\n",
            "values=tensor([0.1601, 0.9349]),\n",
            "indices=tensor([0, 0])) \n",
            "\n",
            "torch.return_types.max(\n",
            "values=tensor([0.9349, 0.2703]),\n",
            "indices=tensor([1, 1]))\n"
          ]
        }
      ]
    },
    {
      "cell_type": "code",
      "source": [
        "x = torch.rand(2,2)\n",
        "print(x, '\\n')\n",
        "print(x.min(dim=0), '\\n') ## 행(세로)으로 비교\n",
        "print(x.min(dim=1))  ## 열(가로)으로 비교"
      ],
      "metadata": {
        "colab": {
          "base_uri": "https://localhost:8080/"
        },
        "id": "llyxgRTBpimW",
        "outputId": "817ed7fa-891f-4f95-f37d-3172893d99da"
      },
      "execution_count": null,
      "outputs": [
        {
          "output_type": "stream",
          "name": "stdout",
          "text": [
            "tensor([[0.9628, 0.2075],\n",
            "        [0.0650, 0.8933]]) \n",
            "\n",
            "torch.return_types.min(\n",
            "values=tensor([0.0650, 0.2075]),\n",
            "indices=tensor([1, 0])) \n",
            "\n",
            "torch.return_types.min(\n",
            "values=tensor([0.2075, 0.0650]),\n",
            "indices=tensor([1, 0]))\n"
          ]
        }
      ]
    },
    {
      "cell_type": "code",
      "source": [
        "# x와 y를 가지고 연산하기\n",
        "# x, y 만들기\n",
        "\n",
        "x = torch.rand(2,2)\n",
        "print(x)\n",
        "y = torch.rand(2,2)\n",
        "print(y)"
      ],
      "metadata": {
        "colab": {
          "base_uri": "https://localhost:8080/"
        },
        "id": "4LrJk5RdqFHK",
        "outputId": "89b0f203-6ad0-4d2d-d196-945b97e2b6d2"
      },
      "execution_count": null,
      "outputs": [
        {
          "output_type": "stream",
          "name": "stdout",
          "text": [
            "tensor([[0.5200, 0.7991],\n",
            "        [0.3960, 0.6552]])\n",
            "tensor([[0.9794, 0.3046],\n",
            "        [0.7437, 0.9328]])\n"
          ]
        }
      ]
    },
    {
      "cell_type": "markdown",
      "source": [
        "torch.add: 덧셈"
      ],
      "metadata": {
        "id": "_CD5ecDnqUQ8"
      }
    },
    {
      "cell_type": "code",
      "source": [
        "print(x + y)\n",
        "print(torch.add(x, y))"
      ],
      "metadata": {
        "colab": {
          "base_uri": "https://localhost:8080/"
        },
        "id": "_wU5p_5qqXOL",
        "outputId": "afb981d9-5dca-4a79-98b4-f6ffe5bbb261"
      },
      "execution_count": null,
      "outputs": [
        {
          "output_type": "stream",
          "name": "stdout",
          "text": [
            "tensor([[1.0057, 1.6925],\n",
            "        [1.6598, 0.8594]])\n",
            "tensor([[1.0057, 1.6925],\n",
            "        [1.6598, 0.8594]])\n"
          ]
        }
      ]
    },
    {
      "cell_type": "markdown",
      "source": [
        "in-place 방식\n",
        "- in-place 방식으로 텐서의 값을 변경하는 연산 뒤에는 _(언더바)가 붙음\n",
        "- x.copy_(y), x.t_()"
      ],
      "metadata": {
        "id": "5TkVje2fqb0X"
      }
    },
    {
      "cell_type": "code",
      "source": [
        "print(x)\n",
        "print(y)\n",
        "y.add_(x)  ## y에다가 x를 더한 값을 y에 넣고, 그게 y 값이 된다.\n",
        "print(y)"
      ],
      "metadata": {
        "colab": {
          "base_uri": "https://localhost:8080/"
        },
        "id": "m1jFeIpGqgza",
        "outputId": "cfde3bad-3be0-401a-9484-36a158ff35cd"
      },
      "execution_count": null,
      "outputs": [
        {
          "output_type": "stream",
          "name": "stdout",
          "text": [
            "tensor([[0.4777, 0.7123],\n",
            "        [0.7546, 0.7643]])\n",
            "tensor([[1.4834, 2.4048],\n",
            "        [2.4144, 1.6237]])\n",
            "tensor([[1.9611, 3.1171],\n",
            "        [3.1690, 2.3880]])\n"
          ]
        }
      ]
    },
    {
      "cell_type": "code",
      "source": [
        "print(x)\n",
        "print(y)\n",
        "print(x-y, '\\n')  ## '\\n'은 줄바꿈\n",
        "x.sub_(y)  ## sub는 빼기, 여기서 바뀐 x가 저장되었다.(in-place)\n",
        "print(x)  # 바뀐 x로 계산해줌\n",
        "print()\n",
        "print(torch.sub(x,y))\n",
        "print(x.sub(y))"
      ],
      "metadata": {
        "colab": {
          "base_uri": "https://localhost:8080/"
        },
        "id": "xPVo6rZZrJI-",
        "outputId": "47b8c069-a1fd-4ae8-98e8-00d6a166f320"
      },
      "execution_count": null,
      "outputs": [
        {
          "output_type": "stream",
          "name": "stdout",
          "text": [
            "tensor([[-3.4445, -5.5219],\n",
            "        [-5.5833, -4.0116]])\n",
            "tensor([[1.9611, 3.1171],\n",
            "        [3.1690, 2.3880]])\n",
            "tensor([[-5.4055, -8.6390],\n",
            "        [-8.7523, -6.3996]]) \n",
            "\n",
            "tensor([[-5.4055, -8.6390],\n",
            "        [-8.7523, -6.3996]])\n",
            "\n",
            "tensor([[ -7.3666, -11.7562],\n",
            "        [-11.9212,  -8.7875]])\n",
            "tensor([[ -7.3666, -11.7562],\n",
            "        [-11.9212,  -8.7875]])\n"
          ]
        }
      ]
    },
    {
      "cell_type": "markdown",
      "source": [
        "torch.mul: 곱셈"
      ],
      "metadata": {
        "id": "lfk1O1xTr1V6"
      }
    },
    {
      "cell_type": "code",
      "source": [
        "print(x)\n",
        "print(y)\n",
        "print(x*y)\n",
        "x.mul_(y)\n",
        "print(x)\n",
        "print()\n",
        "print(torch.mul(x,y))\n",
        "print(x.mul(y))"
      ],
      "metadata": {
        "colab": {
          "base_uri": "https://localhost:8080/"
        },
        "id": "o931Hs0sutEr",
        "outputId": "617e389f-ebed-42cb-9b98-04bf174de415"
      },
      "execution_count": null,
      "outputs": [
        {
          "output_type": "stream",
          "name": "stdout",
          "text": [
            "tensor([[0.6628, 0.7557],\n",
            "        [0.7414, 0.0676]])\n",
            "tensor([[0.7007, 0.0956],\n",
            "        [0.9340, 0.1883]])\n",
            "tensor([[0.4645, 0.0722],\n",
            "        [0.6925, 0.0127]])\n",
            "tensor([[0.4645, 0.0722],\n",
            "        [0.6925, 0.0127]])\n",
            "\n",
            "tensor([[0.3255, 0.0069],\n",
            "        [0.6467, 0.0024]])\n",
            "tensor([[0.3255, 0.0069],\n",
            "        [0.6467, 0.0024]])\n"
          ]
        }
      ]
    },
    {
      "cell_type": "markdown",
      "source": [
        "torch.div: 나눗셈"
      ],
      "metadata": {
        "id": "5JWyvLn6u5CE"
      }
    },
    {
      "cell_type": "code",
      "source": [
        "print(x)\n",
        "print(y)\n",
        "print(x/y)\n",
        "x.div_(y)\n",
        "print()\n",
        "print(x)\n",
        "print(torch.div(x,y))\n",
        "print(x.div(y))"
      ],
      "metadata": {
        "colab": {
          "base_uri": "https://localhost:8080/"
        },
        "id": "-ERqnV4GvHoF",
        "outputId": "c7bcd400-71ce-4464-92c1-42ce96c1c2d0"
      },
      "execution_count": null,
      "outputs": [
        {
          "output_type": "stream",
          "name": "stdout",
          "text": [
            "tensor([[0.5200, 0.7991],\n",
            "        [0.3960, 0.6552]])\n",
            "tensor([[0.9794, 0.3046],\n",
            "        [0.7437, 0.9328]])\n",
            "tensor([[0.5310, 2.6237],\n",
            "        [0.5325, 0.7024]])\n",
            "\n",
            "tensor([[0.5310, 2.6237],\n",
            "        [0.5325, 0.7024]])\n",
            "tensor([[0.5421, 8.6143],\n",
            "        [0.7160, 0.7530]])\n",
            "tensor([[0.5421, 8.6143],\n",
            "        [0.7160, 0.7530]])\n"
          ]
        }
      ]
    },
    {
      "cell_type": "markdown",
      "source": [
        "torch.mm: 내적(dot product)"
      ],
      "metadata": {
        "id": "vpsgMA0-vJxd"
      }
    },
    {
      "cell_type": "code",
      "source": [
        "print(x)\n",
        "print(y)\n",
        "\n",
        "print(torch.matmul(x,y))  ## matmul 혹은 mm으로 써주면 된다.\n",
        "z = torch.mm(x,y)\n",
        "print(z)\n",
        "print(torch.svd(z))  ## 행렬분해란 거꾸로 간다는 것이다."
      ],
      "metadata": {
        "colab": {
          "base_uri": "https://localhost:8080/"
        },
        "id": "4-0YrduUvq9p",
        "outputId": "fe01242d-11a0-48fd-e056-0a1ed6f1a213"
      },
      "execution_count": null,
      "outputs": [
        {
          "output_type": "stream",
          "name": "stdout",
          "text": [
            "tensor([[0.5310, 2.6237],\n",
            "        [0.5325, 0.7024]])\n",
            "tensor([[0.9794, 0.3046],\n",
            "        [0.7437, 0.9328]])\n",
            "tensor([[2.4712, 2.6090],\n",
            "        [1.0439, 0.8174]])\n",
            "tensor([[2.4712, 2.6090],\n",
            "        [1.0439, 0.8174]])\n",
            "torch.return_types.svd(\n",
            "U=tensor([[-0.9391, -0.3436],\n",
            "        [-0.3436,  0.9391]]),\n",
            "S=tensor([3.8260, 0.1839]),\n",
            "V=tensor([[-0.7003,  0.7138],\n",
            "        [-0.7138, -0.7003]]))\n"
          ]
        }
      ]
    },
    {
      "cell_type": "markdown",
      "source": [
        "#### 텐서의 조작"
      ],
      "metadata": {
        "id": "Vf0b8Hkbv4W_"
      }
    },
    {
      "cell_type": "markdown",
      "source": [
        "인덱싱: Numpy처럼 인덱싱 형태로 사용가능"
      ],
      "metadata": {
        "id": "7w8R32Lmxy1R"
      }
    },
    {
      "cell_type": "code",
      "source": [
        "import torch\n",
        "x = torch.Tensor([[1,2], [3,4]])\n",
        "print(x)\n",
        "\n",
        "print(x[0,0])\n",
        "print(x[0,1])\n",
        "print(x[1,0])\n",
        "print(x[1,1])\n",
        "print(x[:,0])\n",
        "print(x[:,0])\n",
        "print(x[0,:])\n",
        "print(x[1,:])"
      ],
      "metadata": {
        "colab": {
          "base_uri": "https://localhost:8080/"
        },
        "id": "haV9yoFBx48K",
        "outputId": "81a4c883-0d4c-4ac1-c811-a4fdbc1b8e4b"
      },
      "execution_count": null,
      "outputs": [
        {
          "output_type": "stream",
          "name": "stdout",
          "text": [
            "tensor([[1., 2.],\n",
            "        [3., 4.]])\n",
            "tensor(1.)\n",
            "tensor(2.)\n",
            "tensor(3.)\n",
            "tensor(4.)\n",
            "tensor([1., 3.])\n",
            "tensor([1., 3.])\n",
            "tensor([1., 2.])\n",
            "tensor([3., 4.])\n"
          ]
        }
      ]
    },
    {
      "cell_type": "markdown",
      "source": [
        "https://bigdatadiary0819.tistory.com/60\n",
        "\n",
        "º 랜덤한 값을 가지는 텐서 생성\n",
        "\n",
        "1. torch.rand() : 0과 1 사이의 숫자를 균등하게 생성\n",
        "\n",
        "2. torch.rand_like() : 사이즈를 튜플로 입력하지 않고 기존의 텐서로 정의\n",
        "\n",
        "3. torch.randn() : 평균이 0이고 표준편차가 1인 가우시안 정규분포를 이용해 생성\n",
        "\n",
        "4. torch.randn_like() :  사이즈를 튜플로 입력하지 않고 기존의 텐서로 정의\n",
        "\n",
        "5. torch.randint() : 주어진 범위 내의 정수를 균등하게 생성\n",
        "\n",
        "6. torch.randint_like() : 사이즈를 튜플로 입력하지 않고 기존의 텐서로 정의\n",
        "\n",
        "7. torch.randperm() : 주어진 범위 내의 정수를 랜덤하게 생성\n"
      ],
      "metadata": {
        "id": "FkXAaGBcyLUX"
      }
    },
    {
      "cell_type": "markdown",
      "source": [
        "º 특정한 값을 가지는 텐서 생성\n",
        "\n",
        "1. torch.arange() : 주어진 범위 내의 정수를 순서대로 생성\n",
        "\n",
        "2. torch.ones() : 주어진 사이즈의 1로 이루어진 텐서 생성\n",
        "\n",
        "3. torch.zeros() : 주어진 사이즈의 0으로 이루어진 텐서 생성\n",
        "\n",
        "4. torch.ones_like() : 사이즈를 튜플로 입력하지 않고 기존의 텐서로 정의\n",
        "\n",
        "5. torch.zeros_like() : 사이즈를 튜플로 입력하지 않고 기존의 텐서로 정의\n",
        "\n",
        "6. torch.linspace() : 시작점과 끝점을 주어진 갯수만큼 균등하게 나눈 간격점을 행벡터로 출력\n",
        "예) 1~10이면 1,2,3,4,5,6,7,8,9,10으로 출력된다.\n",
        "\n",
        "7. torch.logspace() : 시작점과 끝점을 주어진 갯수만큼 로그간격으로 나눈 간격점을 행벡터로 출력\n",
        "예) 지수함수는 갈수록 급격하게 증가, 로그함수는 갈수록 완만해진다. 그래서 서로 0의 관계가 있다.\n",
        "이 성질을 이용한다.\n",
        "데이터 분포가 한쪽에 몰려있다면 극단적으로 되어있는것을 보기 위해 로그 변환을 하고 그러면 펼쳐진다.\n",
        "(상대적인 포지션을 보는것이다.)\n"
      ],
      "metadata": {
        "id": "Z3J-8k1kyg8V"
      }
    },
    {
      "cell_type": "markdown",
      "source": [
        "view: 텐서의 크기(size)나 모양(shape)을 변경\n",
        "- 기본적으로 변경 전과 후에 텐서 안의 원소 개수가 유지되어야 한다.\n",
        "- -1로 설정되면 계산을 통해 해당 크기값을 유추"
      ],
      "metadata": {
        "id": "HYqmFlA_yjS9"
      }
    },
    {
      "cell_type": "code",
      "source": [
        "import torch\n",
        "x = torch.randn(4,5)\n",
        "print(x.shape)\n",
        "print(x.size())"
      ],
      "metadata": {
        "colab": {
          "base_uri": "https://localhost:8080/"
        },
        "id": "jtpae8nNz_i-",
        "outputId": "6340c8df-c975-470f-9492-468ce9b608e3"
      },
      "execution_count": null,
      "outputs": [
        {
          "output_type": "stream",
          "name": "stdout",
          "text": [
            "torch.Size([4, 5])\n",
            "torch.Size([4, 5])\n"
          ]
        }
      ]
    },
    {
      "cell_type": "code",
      "source": [
        "x = torch.FloatTensor([\n",
        "    [1,2],\n",
        "    [3,4],\n",
        "    [5,6],\n",
        "    [7,8]\n",
        "])\n",
        "\n",
        "# size를 활용한 텐서 사이즈 보기\n",
        "print(x.size())\n",
        "\n",
        "# shape를 활용한 텐서 사이즈 보기\n",
        "print(x.shape)\n",
        "\n",
        "# dim을 활용한 텐서 차원 확인\n",
        "print(x.dim())\n",
        "\n",
        "# 1 차원 사이즈 확인\n",
        "print(x.size(0))\n",
        "\n",
        "# 1 차원 사이즈 확인\n",
        "print(x.shape[0])"
      ],
      "metadata": {
        "colab": {
          "base_uri": "https://localhost:8080/"
        },
        "id": "dco1IUi40FQr",
        "outputId": "96a4d4b3-cd8d-497c-976c-f1d1d12d073d"
      },
      "execution_count": null,
      "outputs": [
        {
          "output_type": "stream",
          "name": "stdout",
          "text": [
            "torch.Size([4, 2])\n",
            "torch.Size([4, 2])\n",
            "2\n",
            "4\n",
            "4\n"
          ]
        }
      ]
    },
    {
      "cell_type": "code",
      "source": [
        "x = torch.randn(4,5)\n",
        "print(x)\n",
        "print()\n",
        "y = x.view(20)\n",
        "print(y)\n",
        "print()\n",
        "z = x.view(5, -1)  ## 5행 4열 자리를 만든다.\n",
        "print(z)"
      ],
      "metadata": {
        "colab": {
          "base_uri": "https://localhost:8080/"
        },
        "id": "7xyICkSv0x8a",
        "outputId": "da155b02-8f3d-4acb-f033-ef8be0cfc396"
      },
      "execution_count": null,
      "outputs": [
        {
          "output_type": "stream",
          "name": "stdout",
          "text": [
            "tensor([[-0.4192, -0.9055, -0.9978, -0.1143,  1.2297],\n",
            "        [-0.4442, -0.6148,  1.2903, -0.2429,  0.2676],\n",
            "        [ 1.5646, -0.4871,  1.7733,  0.7108, -0.5787],\n",
            "        [-0.0735,  1.0832,  1.3239,  0.6060,  0.7503]])\n",
            "\n",
            "tensor([-0.4192, -0.9055, -0.9978, -0.1143,  1.2297, -0.4442, -0.6148,  1.2903,\n",
            "        -0.2429,  0.2676,  1.5646, -0.4871,  1.7733,  0.7108, -0.5787, -0.0735,\n",
            "         1.0832,  1.3239,  0.6060,  0.7503])\n",
            "\n",
            "tensor([[-0.4192, -0.9055, -0.9978, -0.1143],\n",
            "        [ 1.2297, -0.4442, -0.6148,  1.2903],\n",
            "        [-0.2429,  0.2676,  1.5646, -0.4871],\n",
            "        [ 1.7733,  0.7108, -0.5787, -0.0735],\n",
            "        [ 1.0832,  1.3239,  0.6060,  0.7503]])\n"
          ]
        }
      ]
    },
    {
      "cell_type": "markdown",
      "source": [
        "item: 텐서에 값이 단 하나라도 존재하면 숫자값을 얻을 수 있음"
      ],
      "metadata": {
        "id": "WsQzhVC-1Iay"
      }
    },
    {
      "cell_type": "code",
      "source": [
        "x = torch.randn(1)\n",
        "print(x)\n",
        "print(x.item())\n",
        "print(x.dtype)"
      ],
      "metadata": {
        "colab": {
          "base_uri": "https://localhost:8080/"
        },
        "id": "dmFyKWxz1psF",
        "outputId": "bda80470-1788-4b6a-d541-0fe5cd5d2b03"
      },
      "execution_count": null,
      "outputs": [
        {
          "output_type": "stream",
          "name": "stdout",
          "text": [
            "tensor([1.2020])\n",
            "1.201981544494629\n",
            "torch.float32\n"
          ]
        }
      ]
    },
    {
      "cell_type": "markdown",
      "source": [
        "squeeze: 차원을 축소(제거)"
      ],
      "metadata": {
        "id": "ZINCjkXi1vs_"
      }
    },
    {
      "cell_type": "code",
      "source": [
        "tensor = torch.rand(1,3,3)\n",
        "print(tensor)\n",
        "print(tensor.shape)"
      ],
      "metadata": {
        "colab": {
          "base_uri": "https://localhost:8080/"
        },
        "id": "JRc5Sacl123S",
        "outputId": "8f3c57e8-a967-4451-bee2-f2ec5a9b85c5"
      },
      "execution_count": null,
      "outputs": [
        {
          "output_type": "stream",
          "name": "stdout",
          "text": [
            "tensor([[[0.5015, 0.2776, 0.3134],\n",
            "         [0.5462, 0.8841, 0.3949],\n",
            "         [0.7632, 0.9547, 0.0981]]])\n",
            "torch.Size([1, 3, 3])\n"
          ]
        }
      ]
    },
    {
      "cell_type": "code",
      "source": [
        "t = tensor.squeeze()  ## 현재는 3차원인데 줄여준다.\n",
        "print(t)\n",
        "print(t.shape)"
      ],
      "metadata": {
        "colab": {
          "base_uri": "https://localhost:8080/"
        },
        "id": "zVDmYiCb19pu",
        "outputId": "8f42c72a-45bd-45f8-fea0-fc5a3a99455a"
      },
      "execution_count": null,
      "outputs": [
        {
          "output_type": "stream",
          "name": "stdout",
          "text": [
            "tensor([[0.5015, 0.2776, 0.3134],\n",
            "        [0.5462, 0.8841, 0.3949],\n",
            "        [0.7632, 0.9547, 0.0981]])\n",
            "torch.Size([3, 3])\n"
          ]
        }
      ]
    },
    {
      "cell_type": "markdown",
      "source": [
        "unsqueeze: 차원을 증가(생성)"
      ],
      "metadata": {
        "id": "vLyKeXj02GKE"
      }
    },
    {
      "cell_type": "code",
      "source": [
        "t = torch.rand(3,3)\n",
        "print(t)\n",
        "print(t.shape)"
      ],
      "metadata": {
        "colab": {
          "base_uri": "https://localhost:8080/"
        },
        "id": "usBxI5DS2JTP",
        "outputId": "a489e6ea-ccb9-4caa-8025-173af744d2e4"
      },
      "execution_count": null,
      "outputs": [
        {
          "output_type": "stream",
          "name": "stdout",
          "text": [
            "tensor([[0.9600, 0.3255, 0.1751],\n",
            "        [0.8262, 0.2953, 0.5594],\n",
            "        [0.8196, 0.4639, 0.0144]])\n",
            "torch.Size([3, 3])\n"
          ]
        }
      ]
    },
    {
      "cell_type": "code",
      "source": [
        "tensor = t.unsqueeze(dim=0)\n",
        "print(tensor)\n",
        "print(tensor.shape)"
      ],
      "metadata": {
        "colab": {
          "base_uri": "https://localhost:8080/"
        },
        "id": "Vzpo63eo2NVD",
        "outputId": "a3e12320-7da0-4b39-b8ad-a12a146e53ab"
      },
      "execution_count": null,
      "outputs": [
        {
          "output_type": "stream",
          "name": "stdout",
          "text": [
            "tensor([[[0.9600, 0.3255, 0.1751],\n",
            "         [0.8262, 0.2953, 0.5594],\n",
            "         [0.8196, 0.4639, 0.0144]]])\n",
            "torch.Size([1, 3, 3])\n"
          ]
        }
      ]
    },
    {
      "cell_type": "code",
      "source": [
        "tensor = tensor.unsqueeze(dim=2)\n",
        "print(tensor)\n",
        "print(tensor.shape)"
      ],
      "metadata": {
        "colab": {
          "base_uri": "https://localhost:8080/"
        },
        "id": "Le9Qjj9p2iAf",
        "outputId": "a63e7b7c-23fc-4142-a594-0f831514bd50"
      },
      "execution_count": null,
      "outputs": [
        {
          "output_type": "stream",
          "name": "stdout",
          "text": [
            "tensor([[[[0.9600, 0.3255, 0.1751]],\n",
            "\n",
            "         [[0.8262, 0.2953, 0.5594]],\n",
            "\n",
            "         [[0.8196, 0.4639, 0.0144]]]])\n",
            "torch.Size([1, 3, 1, 3])\n"
          ]
        }
      ]
    },
    {
      "cell_type": "markdown",
      "source": [
        "stack: 텐서간 결합"
      ],
      "metadata": {
        "id": "rcdwoQOs2m41"
      }
    },
    {
      "cell_type": "code",
      "source": [
        "x = torch.FloatTensor([1,4])\n",
        "print(x)\n",
        "y = torch.FloatTensor([2,5])\n",
        "print(y)\n",
        "z = torch.FloatTensor([3,6])\n",
        "print(z)\n",
        "print()\n",
        "print(torch.stack([x,y,z]))"
      ],
      "metadata": {
        "colab": {
          "base_uri": "https://localhost:8080/"
        },
        "id": "qFBUiL2v2rJV",
        "outputId": "7ac6e9b7-b228-4e3a-dd0c-2adfdaae9a17"
      },
      "execution_count": null,
      "outputs": [
        {
          "output_type": "stream",
          "name": "stdout",
          "text": [
            "tensor([1., 4.])\n",
            "tensor([2., 5.])\n",
            "tensor([3., 6.])\n",
            "\n",
            "tensor([[1., 4.],\n",
            "        [2., 5.],\n",
            "        [3., 6.]])\n"
          ]
        }
      ]
    },
    {
      "cell_type": "markdown",
      "source": [
        "cat: 텐서를 결합하는 메소드(concatenate)\n",
        "- 넘파이의 stack과 유사하지만, 쌓을 dim이 존재해햐함\n",
        "- 해당 차원을 늘려준 후 결합"
      ],
      "metadata": {
        "id": "sXZHT_8I3Bbp"
      }
    },
    {
      "cell_type": "code",
      "source": [
        "a = torch.randn(1,3,3)\n",
        "print(a)\n",
        "b = torch.randn(1,3,3)\n",
        "print(b)\n",
        "print()\n",
        "c = torch.cat((a,b), dim=0) ##(1,3,3)과 (1,3,3)의 첫 번째 자리를 나타낸다.\n",
        "print(c)\n",
        "print()\n",
        "print()\n",
        "print(c.size())"
      ],
      "metadata": {
        "colab": {
          "base_uri": "https://localhost:8080/"
        },
        "id": "KBkNUS8l3JO-",
        "outputId": "cdf53d2f-bb39-490f-e5fe-7c248f987879"
      },
      "execution_count": null,
      "outputs": [
        {
          "output_type": "stream",
          "name": "stdout",
          "text": [
            "tensor([[[-0.2182,  0.2512, -1.1983],\n",
            "         [-0.2894, -1.1150, -0.5117],\n",
            "         [-0.2114,  0.4301,  1.0588]]])\n",
            "tensor([[[-1.7759, -0.1650, -0.1438],\n",
            "         [-0.6094, -1.4850,  0.4119],\n",
            "         [-0.8919,  2.5050,  1.1908]]])\n",
            "\n",
            "tensor([[[-0.2182,  0.2512, -1.1983],\n",
            "         [-0.2894, -1.1150, -0.5117],\n",
            "         [-0.2114,  0.4301,  1.0588]],\n",
            "\n",
            "        [[-1.7759, -0.1650, -0.1438],\n",
            "         [-0.6094, -1.4850,  0.4119],\n",
            "         [-0.8919,  2.5050,  1.1908]]])\n",
            "\n",
            "\n",
            "torch.Size([2, 3, 3])\n"
          ]
        }
      ]
    },
    {
      "cell_type": "code",
      "source": [
        "c = torch.cat((a,b), dim=1)\n",
        "print(c)\n",
        "print(c.size())"
      ],
      "metadata": {
        "colab": {
          "base_uri": "https://localhost:8080/"
        },
        "id": "64cVLCNv3rpT",
        "outputId": "87ccc3ae-68fd-415f-e7b2-2455867bd0c6"
      },
      "execution_count": null,
      "outputs": [
        {
          "output_type": "stream",
          "name": "stdout",
          "text": [
            "tensor([[[ 0.4098,  0.5199,  1.0965],\n",
            "         [ 1.5220, -0.8579,  1.0609],\n",
            "         [ 1.3937,  0.7147, -0.2965],\n",
            "         [ 0.4992, -1.1132, -1.6959],\n",
            "         [ 0.7722,  1.8387, -1.2131],\n",
            "         [ 0.9383, -0.4029, -0.2410]]])\n",
            "torch.Size([1, 6, 3])\n"
          ]
        }
      ]
    },
    {
      "cell_type": "code",
      "source": [],
      "metadata": {
        "id": "KF_0KG7Z4H0v"
      },
      "execution_count": null,
      "outputs": []
    }
  ]
}