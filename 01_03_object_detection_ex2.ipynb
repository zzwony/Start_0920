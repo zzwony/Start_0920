{
  "nbformat": 4,
  "nbformat_minor": 0,
  "metadata": {
    "colab": {
      "provenance": [],
      "machine_shape": "hm",
      "authorship_tag": "ABX9TyPFN8yu3qSWxSx75lnluW2s",
      "include_colab_link": true
    },
    "kernelspec": {
      "name": "python3",
      "display_name": "Python 3"
    },
    "language_info": {
      "name": "python"
    },
    "accelerator": "GPU",
    "gpuClass": "standard"
  },
  "cells": [
    {
      "cell_type": "markdown",
      "metadata": {
        "id": "view-in-github",
        "colab_type": "text"
      },
      "source": [
        "<a href=\"https://colab.research.google.com/github/zzwony/Start_0920/blob/main/01_03_object_detection_ex2.ipynb\" target=\"_parent\"><img src=\"https://colab.research.google.com/assets/colab-badge.svg\" alt=\"Open In Colab\"/></a>"
      ]
    },
    {
      "cell_type": "code",
      "source": [
        "from google.colab import drive\n",
        "drive.mount('/content/drive')"
      ],
      "metadata": {
        "colab": {
          "base_uri": "https://localhost:8080/"
        },
        "id": "dApoWanJXrQb",
        "outputId": "ee09b650-e9ea-45a4-cb02-c9afa7e0dd9b"
      },
      "execution_count": 1,
      "outputs": [
        {
          "output_type": "stream",
          "name": "stdout",
          "text": [
            "Mounted at /content/drive\n"
          ]
        }
      ]
    },
    {
      "cell_type": "code",
      "source": [
        "# git clone 으로 데이터 로드\n",
        "# cd -> change directory\n",
        "# pip -> 필요한거 설치\n",
        "# yolov5는 torch로 진행된다.\n",
        "\n",
        "# 목표: 안전모를 검출하기\n",
        "\n",
        "# hhw라는 빈 폴더를 만들어주었다.\n",
        "\n",
        "# -L은 리다이렉션이다.\n",
        "# zip파일을 풀고 제거해주었다.\n",
        "# 그러면 train, test가 생성된다.\n",
        "\n",
        "# glob를 이용해서 list로 변환해주었다.\n",
        "# 이미지들이 다 jpg로 되어있는데\n",
        "# 이걸 glob를 이용해서 리스트의 형태로 바꿔주었다.\n",
        "\n",
        "# 여기서 valid가 없어서 train_test_split를 사용하여\n",
        "# test와 val을 나눠주었다.\n",
        "# (train은 그냥 학습하고 test를 가지고 나눴다.)\n",
        "# 그럼 train, valid, test가 되었다.\n",
        "\n",
        "# 파일 구성을 나타내는 yaml이다.\n",
        "# with open 해서 train, test,val.txt를 만들어주었다.\n",
        "# 각각의 리스트에 대행하게끔 txt 파일을 만들어주었다.\n",
        "# (hhw에 만들어진다.)\n",
        "\n",
        "\n",
        "# 데이터 구성을 보기 위해 yaml을 사용함\n",
        "# 들여다보고 필요한 조치를 취할것임.\n",
        "# (decorate에 매직 명령어를 넣음)\n",
        "\n",
        "# 안전모 데이터에 데이터 yaml을 실행시켜서 보니\n",
        "# 우리는 train, test, val 이렇게 전에 만들어 두었다.\n",
        "# 만들어둔걸로 수정을 함(writetemplate)\n",
        "\n",
        "# %cat 으로 확인하면 변경사항이 잘 적용됌.\n",
        "\n",
        "# 모델 구성에서\n",
        "# num_classes에 담아주고 yaml 파일을 열어서 확인하기\n",
        "# 들어가서 보니까 nc가 80이다.\n",
        "# 우리는 위에서 nc가 3이였으니 수정이 필요하다.\n",
        "\n",
        "# 어떻게 바꾸냐면 마찬가지로\n",
        "# writetemplate을 사용하여 수정을 하면 된다.\n",
        "# 위에 있는걸 그대로 카피해서 붙여넣고 nc 부분만\n",
        "# {num_classes}를 적용하면 된다.\n",
        "# 적용시키고 확인(%cat)하면 잘 적용 되었다.\n",
        "\n",
        "# 그럼 이제 yolov5와 안전모 데이터의 추가적인 학습이 가능해진다.\n",
        "\n",
        "# 학습하는 것이기 때문에 train 파일을 사용한다.\n",
        "# 학습에서 가중치는 업데이트가 되기 때문에 '' 이렇게 빈칸으로 비워두었다.\n",
        "\n",
        "# 결과가 올라가는 추세면 에폭을 더 해볼 필요가 있다.\n",
        "\n",
        "\n",
        "# 추론은 detect.py를 사용한다.\n"
      ],
      "metadata": {
        "id": "z9RRX5BUj6VC"
      },
      "execution_count": null,
      "outputs": []
    },
    {
      "cell_type": "markdown",
      "source": [
        "# YOLOv5"
      ],
      "metadata": {
        "id": "HbFuj6xeXrxC"
      }
    },
    {
      "cell_type": "markdown",
      "source": [
        "주차공간 데이터셋\n",
        "\n",
        "https://public.roboflow.com/object-detection/pklot\n"
      ],
      "metadata": {
        "id": "jWxNIFXFXz0J"
      }
    },
    {
      "cell_type": "code",
      "source": [
        "%cd /content\n",
        "!git clone https://github.com/ultralytics/yolov5\n",
        "%cd yolov5\n",
        "%pip install -qr requirements.txt\n",
        "\n",
        "import torch\n",
        "from IPython.display import Image, clear_output"
      ],
      "metadata": {
        "colab": {
          "base_uri": "https://localhost:8080/"
        },
        "id": "EHm0T1RMbO5Y",
        "outputId": "037212e4-323e-429e-c5a7-c3f7a0eb3313"
      },
      "execution_count": 2,
      "outputs": [
        {
          "output_type": "stream",
          "name": "stdout",
          "text": [
            "/content\n",
            "Cloning into 'yolov5'...\n",
            "remote: Enumerating objects: 14918, done.\u001b[K\n",
            "remote: Counting objects: 100% (10/10), done.\u001b[K\n",
            "remote: Compressing objects: 100% (10/10), done.\u001b[K\n",
            "remote: Total 14918 (delta 2), reused 0 (delta 0), pack-reused 14908\u001b[K\n",
            "Receiving objects: 100% (14918/14918), 13.91 MiB | 18.62 MiB/s, done.\n",
            "Resolving deltas: 100% (10246/10246), done.\n",
            "/content/yolov5\n",
            "\u001b[K     |████████████████████████████████| 184 kB 33.4 MB/s \n",
            "\u001b[K     |████████████████████████████████| 62 kB 1.6 MB/s \n",
            "\u001b[K     |████████████████████████████████| 1.6 MB 83.7 MB/s \n",
            "\u001b[?25h"
          ]
        }
      ]
    },
    {
      "cell_type": "code",
      "source": [
        "%mkdir /content/yolov5/park\n",
        "%cd /content/yolov5/park"
      ],
      "metadata": {
        "id": "uiUxNx5gX4z_",
        "colab": {
          "base_uri": "https://localhost:8080/"
        },
        "outputId": "c1082d32-daaf-4221-ca95-488941bdb16e"
      },
      "execution_count": 3,
      "outputs": [
        {
          "output_type": "stream",
          "name": "stdout",
          "text": [
            "/content/yolov5/park\n"
          ]
        }
      ]
    },
    {
      "cell_type": "code",
      "source": [
        "!pwd"
      ],
      "metadata": {
        "colab": {
          "base_uri": "https://localhost:8080/"
        },
        "id": "NpE27DgebfL3",
        "outputId": "e4dbf347-75d8-4955-ae88-48800e4bc1a1"
      },
      "execution_count": 4,
      "outputs": [
        {
          "output_type": "stream",
          "name": "stdout",
          "text": [
            "/content/yolov5/park\n"
          ]
        }
      ]
    },
    {
      "cell_type": "code",
      "source": [
        "!curl -L \"https://public.roboflow.com/ds/m26uZ1s6Hm?key=QacEBdvaBg\" > roboflow.zip; unzip roboflow.zip; rm roboflow.zip"
      ],
      "metadata": {
        "id": "iJ7L85YCbg7v"
      },
      "execution_count": null,
      "outputs": []
    },
    {
      "cell_type": "code",
      "source": [
        "from glob import glob\n",
        "\n",
        "train_img_list = glob('/content/yolov5/park/train/images/*jpg')\n",
        "test_img_list = glob('/content/yolov5/park/test/images/*jpg')\n",
        "valid_img_list = glob('/content/yolov5/park/valid/images/*jpg')"
      ],
      "metadata": {
        "id": "DZR4gZEBbpYW"
      },
      "execution_count": 6,
      "outputs": []
    },
    {
      "cell_type": "code",
      "source": [
        "with open('/content/yolov5/park/train/.txt', 'w') as f:\n",
        "  f.write('\\n'.join(train_img_list)+'\\n')\n",
        "\n",
        "with open('/content/yolov5/park/test/.txt', 'w') as f:\n",
        "  f.write('\\n'.join(test_img_list)+'\\n')\n",
        "\n",
        "with open('/content/yolov5/park/valid/.txt', 'w') as f:\n",
        "  f.write('\\n'.join(valid_img_list)+'\\n')"
      ],
      "metadata": {
        "id": "6ti6oX_ecFZ3"
      },
      "execution_count": 7,
      "outputs": []
    },
    {
      "cell_type": "code",
      "source": [
        "from IPython.core.magic import register_line_cell_magic\n",
        "\n",
        "@register_line_cell_magic\n",
        "def writetemplate(line, cell):\n",
        "  with open(line, 'w') as f:\n",
        "    f.write(cell.format(**globals()))"
      ],
      "metadata": {
        "id": "Ic_aET8TcrKn"
      },
      "execution_count": 8,
      "outputs": []
    },
    {
      "cell_type": "code",
      "source": [
        "import yaml\n",
        "%cat /content/yolov5/park/data.yaml"
      ],
      "metadata": {
        "colab": {
          "base_uri": "https://localhost:8080/"
        },
        "id": "50HncTxec9PG",
        "outputId": "38947fcb-9396-4af9-cdfb-44dda1d1cabc"
      },
      "execution_count": 9,
      "outputs": [
        {
          "output_type": "stream",
          "name": "stdout",
          "text": [
            "train: ../train/images\n",
            "val: ../valid/images\n",
            "\n",
            "nc: 2\n",
            "names: ['space-empty', 'space-occupied']"
          ]
        }
      ]
    },
    {
      "cell_type": "code",
      "source": [
        "%%writetemplate /content/yolov5/park/data.yaml\n",
        "train: ./park/train/images\n",
        "test: ./park/test/images\n",
        "val: ./park/valid/images\n",
        "\n",
        "nc: 2\n",
        "names: ['space-empty', 'space-occupied']"
      ],
      "metadata": {
        "id": "mvCtiZwNdCcn"
      },
      "execution_count": 10,
      "outputs": []
    },
    {
      "cell_type": "code",
      "source": [
        "%cat /content/yolov5/park/data.yaml"
      ],
      "metadata": {
        "colab": {
          "base_uri": "https://localhost:8080/"
        },
        "id": "WxIetR_bdSfF",
        "outputId": "7ce0f605-dbe7-4df8-f1cf-6b8fc4348497"
      },
      "execution_count": 11,
      "outputs": [
        {
          "output_type": "stream",
          "name": "stdout",
          "text": [
            "train: ./park/train/images\n",
            "test: ./park/test/images\n",
            "val: ./park/valid/images\n",
            "\n",
            "nc: 2\n",
            "names: ['space-empty', 'space-occupied']\n"
          ]
        }
      ]
    },
    {
      "cell_type": "code",
      "source": [
        "import yaml\n",
        "with open('/content/yolov5/park/data.yaml', 'r') as stream:\n",
        "  num_classes = str(yaml.safe_load(stream)['nc'])\n",
        "\n",
        "%cat /content/yolov5/models/yolov5s.yaml"
      ],
      "metadata": {
        "colab": {
          "base_uri": "https://localhost:8080/"
        },
        "id": "5e8NjxXydV1l",
        "outputId": "9040fbbe-2e24-45e7-f8d4-3c9e7b165f1b"
      },
      "execution_count": 12,
      "outputs": [
        {
          "output_type": "stream",
          "name": "stdout",
          "text": [
            "# YOLOv5 🚀 by Ultralytics, GPL-3.0 license\n",
            "\n",
            "# Parameters\n",
            "nc: 80  # number of classes\n",
            "depth_multiple: 0.33  # model depth multiple\n",
            "width_multiple: 0.50  # layer channel multiple\n",
            "anchors:\n",
            "  - [10,13, 16,30, 33,23]  # P3/8\n",
            "  - [30,61, 62,45, 59,119]  # P4/16\n",
            "  - [116,90, 156,198, 373,326]  # P5/32\n",
            "\n",
            "# YOLOv5 v6.0 backbone\n",
            "backbone:\n",
            "  # [from, number, module, args]\n",
            "  [[-1, 1, Conv, [64, 6, 2, 2]],  # 0-P1/2\n",
            "   [-1, 1, Conv, [128, 3, 2]],  # 1-P2/4\n",
            "   [-1, 3, C3, [128]],\n",
            "   [-1, 1, Conv, [256, 3, 2]],  # 3-P3/8\n",
            "   [-1, 6, C3, [256]],\n",
            "   [-1, 1, Conv, [512, 3, 2]],  # 5-P4/16\n",
            "   [-1, 9, C3, [512]],\n",
            "   [-1, 1, Conv, [1024, 3, 2]],  # 7-P5/32\n",
            "   [-1, 3, C3, [1024]],\n",
            "   [-1, 1, SPPF, [1024, 5]],  # 9\n",
            "  ]\n",
            "\n",
            "# YOLOv5 v6.0 head\n",
            "head:\n",
            "  [[-1, 1, Conv, [512, 1, 1]],\n",
            "   [-1, 1, nn.Upsample, [None, 2, 'nearest']],\n",
            "   [[-1, 6], 1, Concat, [1]],  # cat backbone P4\n",
            "   [-1, 3, C3, [512, False]],  # 13\n",
            "\n",
            "   [-1, 1, Conv, [256, 1, 1]],\n",
            "   [-1, 1, nn.Upsample, [None, 2, 'nearest']],\n",
            "   [[-1, 4], 1, Concat, [1]],  # cat backbone P3\n",
            "   [-1, 3, C3, [256, False]],  # 17 (P3/8-small)\n",
            "\n",
            "   [-1, 1, Conv, [256, 3, 2]],\n",
            "   [[-1, 14], 1, Concat, [1]],  # cat head P4\n",
            "   [-1, 3, C3, [512, False]],  # 20 (P4/16-medium)\n",
            "\n",
            "   [-1, 1, Conv, [512, 3, 2]],\n",
            "   [[-1, 10], 1, Concat, [1]],  # cat head P5\n",
            "   [-1, 3, C3, [1024, False]],  # 23 (P5/32-large)\n",
            "\n",
            "   [[17, 20, 23], 1, Detect, [nc, anchors]],  # Detect(P3, P4, P5)\n",
            "  ]\n"
          ]
        }
      ]
    },
    {
      "cell_type": "code",
      "source": [
        "num_classes"
      ],
      "metadata": {
        "colab": {
          "base_uri": "https://localhost:8080/",
          "height": 35
        },
        "id": "ukZSAuwediV-",
        "outputId": "a76b4c12-48a0-4f74-dae3-63f679301311"
      },
      "execution_count": 13,
      "outputs": [
        {
          "output_type": "execute_result",
          "data": {
            "text/plain": [
              "'2'"
            ],
            "application/vnd.google.colaboratory.intrinsic+json": {
              "type": "string"
            }
          },
          "metadata": {},
          "execution_count": 13
        }
      ]
    },
    {
      "cell_type": "code",
      "source": [
        "%%writetemplate /content/yolov5/models/custom_yolov5s.yaml\n",
        "\n",
        "# Parameters\n",
        "nc: {num_classes}  # number of classes\n",
        "depth_multiple: 0.33  # model depth multiple\n",
        "width_multiple: 0.50  # layer channel multiple\n",
        "anchors:\n",
        "  - [10,13, 16,30, 33,23]  # P3/8\n",
        "  - [30,61, 62,45, 59,119]  # P4/16\n",
        "  - [116,90, 156,198, 373,326]  # P5/32\n",
        "\n",
        "# YOLOv5 v6.0 backbone\n",
        "backbone:\n",
        "  # [from, number, module, args]\n",
        "  [[-1, 1, Conv, [64, 6, 2, 2]],  # 0-P1/2\n",
        "   [-1, 1, Conv, [128, 3, 2]],  # 1-P2/4\n",
        "   [-1, 3, C3, [128]],\n",
        "   [-1, 1, Conv, [256, 3, 2]],  # 3-P3/8\n",
        "   [-1, 6, C3, [256]],\n",
        "   [-1, 1, Conv, [512, 3, 2]],  # 5-P4/16\n",
        "   [-1, 9, C3, [512]],\n",
        "   [-1, 1, Conv, [1024, 3, 2]],  # 7-P5/32\n",
        "   [-1, 3, C3, [1024]],\n",
        "   [-1, 1, SPPF, [1024, 5]],  # 9\n",
        "  ]\n",
        "\n",
        "# YOLOv5 v6.0 head\n",
        "head:\n",
        "  [[-1, 1, Conv, [512, 1, 1]],\n",
        "   [-1, 1, nn.Upsample, [None, 2, 'nearest']],\n",
        "   [[-1, 6], 1, Concat, [1]],  # cat backbone P4\n",
        "   [-1, 3, C3, [512, False]],  # 13\n",
        "\n",
        "   [-1, 1, Conv, [256, 1, 1]],\n",
        "   [-1, 1, nn.Upsample, [None, 2, 'nearest']],\n",
        "   [[-1, 4], 1, Concat, [1]],  # cat backbone P3\n",
        "   [-1, 3, C3, [256, False]],  # 17 (P3/8-small)\n",
        "\n",
        "   [-1, 1, Conv, [256, 3, 2]],\n",
        "   [[-1, 14], 1, Concat, [1]],  # cat head P4\n",
        "   [-1, 3, C3, [512, False]],  # 20 (P4/16-medium)\n",
        "\n",
        "   [-1, 1, Conv, [512, 3, 2]],\n",
        "   [[-1, 10], 1, Concat, [1]],  # cat head P5\n",
        "   [-1, 3, C3, [1024, False]],  # 23 (P5/32-large)\n",
        "\n",
        "   [[17, 20, 23], 1, Detect, [nc, anchors]],  # Detect(P3, P4, P5)\n",
        "  ]"
      ],
      "metadata": {
        "id": "2JRGeIZ2dppe"
      },
      "execution_count": 14,
      "outputs": []
    },
    {
      "cell_type": "code",
      "source": [
        "%cat /content/yolov5/models/custom_yolov5s.yaml"
      ],
      "metadata": {
        "colab": {
          "base_uri": "https://localhost:8080/"
        },
        "id": "dljtKp12dwA1",
        "outputId": "599d26d9-fac5-44fd-8f31-cddae0aa1a4f"
      },
      "execution_count": 15,
      "outputs": [
        {
          "output_type": "stream",
          "name": "stdout",
          "text": [
            "\n",
            "# Parameters\n",
            "nc: 2  # number of classes\n",
            "depth_multiple: 0.33  # model depth multiple\n",
            "width_multiple: 0.50  # layer channel multiple\n",
            "anchors:\n",
            "  - [10,13, 16,30, 33,23]  # P3/8\n",
            "  - [30,61, 62,45, 59,119]  # P4/16\n",
            "  - [116,90, 156,198, 373,326]  # P5/32\n",
            "\n",
            "# YOLOv5 v6.0 backbone\n",
            "backbone:\n",
            "  # [from, number, module, args]\n",
            "  [[-1, 1, Conv, [64, 6, 2, 2]],  # 0-P1/2\n",
            "   [-1, 1, Conv, [128, 3, 2]],  # 1-P2/4\n",
            "   [-1, 3, C3, [128]],\n",
            "   [-1, 1, Conv, [256, 3, 2]],  # 3-P3/8\n",
            "   [-1, 6, C3, [256]],\n",
            "   [-1, 1, Conv, [512, 3, 2]],  # 5-P4/16\n",
            "   [-1, 9, C3, [512]],\n",
            "   [-1, 1, Conv, [1024, 3, 2]],  # 7-P5/32\n",
            "   [-1, 3, C3, [1024]],\n",
            "   [-1, 1, SPPF, [1024, 5]],  # 9\n",
            "  ]\n",
            "\n",
            "# YOLOv5 v6.0 head\n",
            "head:\n",
            "  [[-1, 1, Conv, [512, 1, 1]],\n",
            "   [-1, 1, nn.Upsample, [None, 2, 'nearest']],\n",
            "   [[-1, 6], 1, Concat, [1]],  # cat backbone P4\n",
            "   [-1, 3, C3, [512, False]],  # 13\n",
            "\n",
            "   [-1, 1, Conv, [256, 1, 1]],\n",
            "   [-1, 1, nn.Upsample, [None, 2, 'nearest']],\n",
            "   [[-1, 4], 1, Concat, [1]],  # cat backbone P3\n",
            "   [-1, 3, C3, [256, False]],  # 17 (P3/8-small)\n",
            "\n",
            "   [-1, 1, Conv, [256, 3, 2]],\n",
            "   [[-1, 14], 1, Concat, [1]],  # cat head P4\n",
            "   [-1, 3, C3, [512, False]],  # 20 (P4/16-medium)\n",
            "\n",
            "   [-1, 1, Conv, [512, 3, 2]],\n",
            "   [[-1, 10], 1, Concat, [1]],  # cat head P5\n",
            "   [-1, 3, C3, [1024, False]],  # 23 (P5/32-large)\n",
            "\n",
            "   [[17, 20, 23], 1, Detect, [nc, anchors]],  # Detect(P3, P4, P5)\n",
            "  ]\n"
          ]
        }
      ]
    },
    {
      "cell_type": "code",
      "source": [
        "!pwd"
      ],
      "metadata": {
        "colab": {
          "base_uri": "https://localhost:8080/"
        },
        "id": "QboEiu6Pd9Re",
        "outputId": "bcc17bdc-b0b1-41d2-c28e-4c67771a47e4"
      },
      "execution_count": 16,
      "outputs": [
        {
          "output_type": "stream",
          "name": "stdout",
          "text": [
            "/content/yolov5/park\n"
          ]
        }
      ]
    },
    {
      "cell_type": "code",
      "source": [
        "%%time\n",
        "%cd /content/yolov5\n",
        "!python train.py --img 640 --batch 32 --epochs 50 --data ./park/data.yaml --cfg ./models/custom_yolov5s.yaml --weights '' --name pothole_results --cache"
      ],
      "metadata": {
        "colab": {
          "base_uri": "https://localhost:8080/"
        },
        "id": "qtMryTOUd_pW",
        "outputId": "0a75e09c-c900-4d32-c68c-3dc6e42524da"
      },
      "execution_count": null,
      "outputs": [
        {
          "output_type": "stream",
          "name": "stdout",
          "text": [
            "/content/yolov5\n",
            "\u001b[34m\u001b[1mtrain: \u001b[0mweights=, cfg=./models/custom_yolov5s.yaml, data=./park/data.yaml, hyp=data/hyps/hyp.scratch-low.yaml, epochs=50, batch_size=32, imgsz=640, rect=False, resume=False, nosave=False, noval=False, noautoanchor=False, noplots=False, evolve=None, bucket=, cache=ram, image_weights=False, device=, multi_scale=False, single_cls=False, optimizer=SGD, sync_bn=False, workers=8, project=runs/train, name=pothole_results, exist_ok=False, quad=False, cos_lr=False, label_smoothing=0.0, patience=100, freeze=[0], save_period=-1, seed=0, local_rank=-1, entity=None, upload_dataset=False, bbox_interval=-1, artifact_alias=latest\n",
            "\u001b[34m\u001b[1mgithub: \u001b[0mup to date with https://github.com/ultralytics/yolov5 ✅\n",
            "YOLOv5 🚀 v7.0-55-g632bf48 Python-3.8.16 torch-1.13.0+cu116 CUDA:0 (Tesla T4, 15110MiB)\n",
            "\n",
            "\u001b[34m\u001b[1mhyperparameters: \u001b[0mlr0=0.01, lrf=0.01, momentum=0.937, weight_decay=0.0005, warmup_epochs=3.0, warmup_momentum=0.8, warmup_bias_lr=0.1, box=0.05, cls=0.5, cls_pw=1.0, obj=1.0, obj_pw=1.0, iou_t=0.2, anchor_t=4.0, fl_gamma=0.0, hsv_h=0.015, hsv_s=0.7, hsv_v=0.4, degrees=0.0, translate=0.1, scale=0.5, shear=0.0, perspective=0.0, flipud=0.0, fliplr=0.5, mosaic=1.0, mixup=0.0, copy_paste=0.0\n",
            "\u001b[34m\u001b[1mClearML: \u001b[0mrun 'pip install clearml' to automatically track, visualize and remotely train YOLOv5 🚀 in ClearML\n",
            "\u001b[34m\u001b[1mComet: \u001b[0mrun 'pip install comet_ml' to automatically track and visualize YOLOv5 🚀 runs in Comet\n",
            "\u001b[34m\u001b[1mTensorBoard: \u001b[0mStart with 'tensorboard --logdir runs/train', view at http://localhost:6006/\n",
            "\n",
            "                 from  n    params  module                                  arguments                     \n",
            "  0                -1  1      3520  models.common.Conv                      [3, 32, 6, 2, 2]              \n",
            "  1                -1  1     18560  models.common.Conv                      [32, 64, 3, 2]                \n",
            "  2                -1  1     18816  models.common.C3                        [64, 64, 1]                   \n",
            "  3                -1  1     73984  models.common.Conv                      [64, 128, 3, 2]               \n",
            "  4                -1  2    115712  models.common.C3                        [128, 128, 2]                 \n",
            "  5                -1  1    295424  models.common.Conv                      [128, 256, 3, 2]              \n",
            "  6                -1  3    625152  models.common.C3                        [256, 256, 3]                 \n",
            "  7                -1  1   1180672  models.common.Conv                      [256, 512, 3, 2]              \n",
            "  8                -1  1   1182720  models.common.C3                        [512, 512, 1]                 \n",
            "  9                -1  1    656896  models.common.SPPF                      [512, 512, 5]                 \n",
            " 10                -1  1    131584  models.common.Conv                      [512, 256, 1, 1]              \n",
            " 11                -1  1         0  torch.nn.modules.upsampling.Upsample    [None, 2, 'nearest']          \n",
            " 12           [-1, 6]  1         0  models.common.Concat                    [1]                           \n",
            " 13                -1  1    361984  models.common.C3                        [512, 256, 1, False]          \n",
            " 14                -1  1     33024  models.common.Conv                      [256, 128, 1, 1]              \n",
            " 15                -1  1         0  torch.nn.modules.upsampling.Upsample    [None, 2, 'nearest']          \n",
            " 16           [-1, 4]  1         0  models.common.Concat                    [1]                           \n",
            " 17                -1  1     90880  models.common.C3                        [256, 128, 1, False]          \n",
            " 18                -1  1    147712  models.common.Conv                      [128, 128, 3, 2]              \n",
            " 19          [-1, 14]  1         0  models.common.Concat                    [1]                           \n",
            " 20                -1  1    296448  models.common.C3                        [256, 256, 1, False]          \n",
            " 21                -1  1    590336  models.common.Conv                      [256, 256, 3, 2]              \n",
            " 22          [-1, 10]  1         0  models.common.Concat                    [1]                           \n",
            " 23                -1  1   1182720  models.common.C3                        [512, 512, 1, False]          \n",
            " 24      [17, 20, 23]  1     18879  models.yolo.Detect                      [2, [[10, 13, 16, 30, 33, 23], [30, 61, 62, 45, 59, 119], [116, 90, 156, 198, 373, 326]], [128, 256, 512]]\n",
            "custom_YOLOv5s summary: 214 layers, 7025023 parameters, 7025023 gradients, 16.0 GFLOPs\n",
            "\n",
            "\u001b[34m\u001b[1mAMP: \u001b[0mchecks passed ✅\n",
            "\u001b[34m\u001b[1moptimizer:\u001b[0m SGD(lr=0.01) with parameter groups 57 weight(decay=0.0), 60 weight(decay=0.0005), 60 bias\n",
            "\u001b[34m\u001b[1malbumentations: \u001b[0mBlur(p=0.01, blur_limit=(3, 7)), MedianBlur(p=0.01, blur_limit=(3, 7)), ToGray(p=0.01), CLAHE(p=0.01, clip_limit=(1, 4.0), tile_grid_size=(8, 8))\n",
            "\u001b[34m\u001b[1mtrain: \u001b[0mScanning /content/yolov5/park/train/labels.cache... 8691 images, 189 backgrounds, 0 corrupt: 100% 8691/8691 [00:00<?, ?it/s]\n",
            "\u001b[34m\u001b[1mtrain: \u001b[0mCaching images (9.9GB ram): 100% 8691/8691 [00:21<00:00, 403.00it/s]\n",
            "\u001b[34m\u001b[1mval: \u001b[0mScanning /content/yolov5/park/valid/labels.cache... 2483 images, 59 backgrounds, 0 corrupt: 100% 2483/2483 [00:00<?, ?it/s]\n",
            "\u001b[34m\u001b[1mval: \u001b[0mCaching images (2.8GB ram): 100% 2483/2483 [00:10<00:00, 246.67it/s]\n",
            "\n",
            "\u001b[34m\u001b[1mAutoAnchor: \u001b[0m6.08 anchors/target, 1.000 Best Possible Recall (BPR). Current anchors are a good fit to dataset ✅\n",
            "Plotting labels to runs/train/pothole_results2/labels.jpg... \n",
            "Image sizes 640 train, 640 val\n",
            "Using 4 dataloader workers\n",
            "Logging results to \u001b[1mruns/train/pothole_results2\u001b[0m\n",
            "Starting training for 50 epochs...\n",
            "\n",
            "      Epoch    GPU_mem   box_loss   obj_loss   cls_loss  Instances       Size\n",
            "       0/49      7.32G    0.09743     0.4148    0.02409       1521        640: 100% 272/272 [02:49<00:00,  1.60it/s]\n",
            "                 Class     Images  Instances          P          R      mAP50   mAP50-95:   0% 0/39 [00:00<?, ?it/s]WARNING ⚠️ NMS time limit 3.700s exceeded\n",
            "                 Class     Images  Instances          P          R      mAP50   mAP50-95:  26% 10/39 [00:38<01:50,  3.82s/it]WARNING ⚠️ NMS time limit 3.700s exceeded\n",
            "                 Class     Images  Instances          P          R      mAP50   mAP50-95:  49% 19/39 [01:15<01:19,  4.00s/it]WARNING ⚠️ NMS time limit 3.700s exceeded\n",
            "                 Class     Images  Instances          P          R      mAP50   mAP50-95:  51% 20/39 [01:19<01:16,  4.05s/it]WARNING ⚠️ NMS time limit 3.700s exceeded\n",
            "                 Class     Images  Instances          P          R      mAP50   mAP50-95:  54% 21/39 [01:23<01:13,  4.09s/it]WARNING ⚠️ NMS time limit 3.700s exceeded\n",
            "                 Class     Images  Instances          P          R      mAP50   mAP50-95:  56% 22/39 [01:27<01:09,  4.12s/it]WARNING ⚠️ NMS time limit 3.700s exceeded\n",
            "                 Class     Images  Instances          P          R      mAP50   mAP50-95:  59% 23/39 [01:31<01:06,  4.14s/it]WARNING ⚠️ NMS time limit 3.700s exceeded\n",
            "                 Class     Images  Instances          P          R      mAP50   mAP50-95:  62% 24/39 [01:36<01:02,  4.16s/it]WARNING ⚠️ NMS time limit 3.700s exceeded\n",
            "                 Class     Images  Instances          P          R      mAP50   mAP50-95:  64% 25/39 [01:40<00:58,  4.17s/it]WARNING ⚠️ NMS time limit 3.700s exceeded\n",
            "                 Class     Images  Instances          P          R      mAP50   mAP50-95:  67% 26/39 [01:44<00:54,  4.18s/it]WARNING ⚠️ NMS time limit 3.700s exceeded\n",
            "                 Class     Images  Instances          P          R      mAP50   mAP50-95:  69% 27/39 [01:48<00:50,  4.18s/it]WARNING ⚠️ NMS time limit 3.700s exceeded\n",
            "                 Class     Images  Instances          P          R      mAP50   mAP50-95:  72% 28/39 [01:52<00:46,  4.20s/it]WARNING ⚠️ NMS time limit 3.700s exceeded\n",
            "                 Class     Images  Instances          P          R      mAP50   mAP50-95:  87% 34/39 [02:16<00:19,  3.93s/it]WARNING ⚠️ NMS time limit 3.700s exceeded\n",
            "                 Class     Images  Instances          P          R      mAP50   mAP50-95:  90% 35/39 [02:20<00:16,  4.01s/it]WARNING ⚠️ NMS time limit 3.700s exceeded\n",
            "                 Class     Images  Instances          P          R      mAP50   mAP50-95:  92% 36/39 [02:24<00:12,  4.07s/it]WARNING ⚠️ NMS time limit 3.700s exceeded\n",
            "                 Class     Images  Instances          P          R      mAP50   mAP50-95:  95% 37/39 [02:29<00:08,  4.11s/it]WARNING ⚠️ NMS time limit 3.700s exceeded\n",
            "                 Class     Images  Instances          P          R      mAP50   mAP50-95:  97% 38/39 [02:33<00:04,  4.14s/it]WARNING ⚠️ NMS time limit 3.050s exceeded\n",
            "                 Class     Images  Instances          P          R      mAP50   mAP50-95: 100% 39/39 [02:36<00:00,  4.02s/it]\n",
            "                   all       2483     143316     0.0834      0.199     0.0377       0.01\n",
            "\n",
            "      Epoch    GPU_mem   box_loss   obj_loss   cls_loss  Instances       Size\n",
            "       1/49      9.12G    0.07678     0.3237     0.0119       1462        640: 100% 272/272 [02:45<00:00,  1.64it/s]\n",
            "                 Class     Images  Instances          P          R      mAP50   mAP50-95: 100% 39/39 [00:37<00:00,  1.04it/s]\n",
            "                   all       2483     143316      0.763       0.81      0.835       0.38\n",
            "\n",
            "      Epoch    GPU_mem   box_loss   obj_loss   cls_loss  Instances       Size\n",
            "       2/49      9.12G    0.06707     0.2818   0.007649       1426        640: 100% 272/272 [02:47<00:00,  1.63it/s]\n",
            "                 Class     Images  Instances          P          R      mAP50   mAP50-95: 100% 39/39 [00:27<00:00,  1.44it/s]\n",
            "                   all       2483     143316      0.855      0.916      0.917      0.449\n",
            "\n",
            "      Epoch    GPU_mem   box_loss   obj_loss   cls_loss  Instances       Size\n",
            "       3/49      9.12G     0.0598     0.2548   0.006615       1524        640: 100% 272/272 [02:44<00:00,  1.66it/s]\n",
            "                 Class     Images  Instances          P          R      mAP50   mAP50-95: 100% 39/39 [00:25<00:00,  1.54it/s]\n",
            "                   all       2483     143316      0.932      0.957      0.961      0.588\n",
            "\n",
            "      Epoch    GPU_mem   box_loss   obj_loss   cls_loss  Instances       Size\n",
            "       4/49      9.12G    0.05393     0.2346   0.005658       1260        640: 100% 272/272 [02:43<00:00,  1.67it/s]\n",
            "                 Class     Images  Instances          P          R      mAP50   mAP50-95: 100% 39/39 [00:24<00:00,  1.57it/s]\n",
            "                   all       2483     143316      0.957      0.968      0.973       0.65\n",
            "\n",
            "      Epoch    GPU_mem   box_loss   obj_loss   cls_loss  Instances       Size\n",
            "       5/49      9.12G    0.05045     0.2221   0.005664       1408        640: 100% 272/272 [02:42<00:00,  1.67it/s]\n",
            "                 Class     Images  Instances          P          R      mAP50   mAP50-95: 100% 39/39 [00:24<00:00,  1.58it/s]\n",
            "                   all       2483     143316       0.96       0.97      0.973      0.698\n",
            "\n",
            "      Epoch    GPU_mem   box_loss   obj_loss   cls_loss  Instances       Size\n",
            "       6/49      9.12G    0.04834     0.2138   0.005345       1640        640: 100% 272/272 [02:42<00:00,  1.67it/s]\n",
            "                 Class     Images  Instances          P          R      mAP50   mAP50-95: 100% 39/39 [00:25<00:00,  1.55it/s]\n",
            "                   all       2483     143316      0.962      0.963      0.974      0.728\n",
            "\n",
            "      Epoch    GPU_mem   box_loss   obj_loss   cls_loss  Instances       Size\n",
            "       7/49      9.12G    0.04634     0.2046   0.005124       1167        640: 100% 272/272 [02:43<00:00,  1.66it/s]\n",
            "                 Class     Images  Instances          P          R      mAP50   mAP50-95: 100% 39/39 [00:24<00:00,  1.59it/s]\n",
            "                   all       2483     143316      0.963      0.971       0.98      0.739\n",
            "\n",
            "      Epoch    GPU_mem   box_loss   obj_loss   cls_loss  Instances       Size\n",
            "       8/49      9.12G    0.04497     0.1978   0.004957       1531        640: 100% 272/272 [02:41<00:00,  1.68it/s]\n",
            "                 Class     Images  Instances          P          R      mAP50   mAP50-95: 100% 39/39 [00:24<00:00,  1.59it/s]\n",
            "                   all       2483     143316      0.963      0.973      0.979      0.767\n",
            "\n",
            "      Epoch    GPU_mem   box_loss   obj_loss   cls_loss  Instances       Size\n",
            "       9/49      9.12G     0.0441     0.1937   0.004974       1280        640: 100% 272/272 [02:44<00:00,  1.65it/s]\n",
            "                 Class     Images  Instances          P          R      mAP50   mAP50-95: 100% 39/39 [00:23<00:00,  1.63it/s]\n",
            "                   all       2483     143316      0.968      0.967      0.982      0.783\n",
            "\n",
            "      Epoch    GPU_mem   box_loss   obj_loss   cls_loss  Instances       Size\n",
            "      10/49      9.12G    0.04309     0.1878   0.004748       1422        640: 100% 272/272 [02:42<00:00,  1.67it/s]\n",
            "                 Class     Images  Instances          P          R      mAP50   mAP50-95: 100% 39/39 [00:24<00:00,  1.60it/s]\n",
            "                   all       2483     143316      0.975      0.963      0.984      0.784\n",
            "\n",
            "      Epoch    GPU_mem   box_loss   obj_loss   cls_loss  Instances       Size\n",
            "      11/49      9.12G    0.04254     0.1855   0.004726       1648        640: 100% 272/272 [02:45<00:00,  1.64it/s]\n",
            "                 Class     Images  Instances          P          R      mAP50   mAP50-95: 100% 39/39 [00:23<00:00,  1.64it/s]\n",
            "                   all       2483     143316      0.975      0.962      0.986      0.806\n",
            "\n",
            "      Epoch    GPU_mem   box_loss   obj_loss   cls_loss  Instances       Size\n",
            "      12/49      9.12G     0.0418     0.1793   0.004563       1437        640: 100% 272/272 [02:42<00:00,  1.68it/s]\n",
            "                 Class     Images  Instances          P          R      mAP50   mAP50-95: 100% 39/39 [00:24<00:00,  1.61it/s]\n",
            "                   all       2483     143316      0.977      0.969      0.984      0.812\n",
            "\n",
            "      Epoch    GPU_mem   box_loss   obj_loss   cls_loss  Instances       Size\n",
            "      13/49      9.12G    0.04134     0.1783   0.004448       1326        640: 100% 272/272 [02:45<00:00,  1.65it/s]\n",
            "                 Class     Images  Instances          P          R      mAP50   mAP50-95: 100% 39/39 [00:24<00:00,  1.60it/s]\n",
            "                   all       2483     143316       0.98      0.966      0.987      0.818\n",
            "\n",
            "      Epoch    GPU_mem   box_loss   obj_loss   cls_loss  Instances       Size\n",
            "      14/49      9.12G    0.04091     0.1754    0.00438       1311        640: 100% 272/272 [02:44<00:00,  1.65it/s]\n",
            "                 Class     Images  Instances          P          R      mAP50   mAP50-95: 100% 39/39 [00:24<00:00,  1.59it/s]\n",
            "                   all       2483     143316      0.979      0.969      0.987      0.825\n",
            "\n",
            "      Epoch    GPU_mem   box_loss   obj_loss   cls_loss  Instances       Size\n",
            "      15/49      9.12G    0.04018     0.1716   0.004305       1935        640: 100% 272/272 [02:43<00:00,  1.66it/s]\n",
            "                 Class     Images  Instances          P          R      mAP50   mAP50-95: 100% 39/39 [00:24<00:00,  1.61it/s]\n",
            "                   all       2483     143316      0.978      0.972      0.985      0.829\n",
            "\n",
            "      Epoch    GPU_mem   box_loss   obj_loss   cls_loss  Instances       Size\n",
            "      16/49      9.12G    0.03972     0.1703   0.004173       1714        640: 100% 272/272 [02:43<00:00,  1.66it/s]\n",
            "                 Class     Images  Instances          P          R      mAP50   mAP50-95: 100% 39/39 [00:24<00:00,  1.61it/s]\n",
            "                   all       2483     143316      0.981       0.97      0.988      0.839\n",
            "\n",
            "      Epoch    GPU_mem   box_loss   obj_loss   cls_loss  Instances       Size\n",
            "      17/49      9.12G    0.03929     0.1664     0.0041       1532        640: 100% 272/272 [02:44<00:00,  1.66it/s]\n",
            "                 Class     Images  Instances          P          R      mAP50   mAP50-95: 100% 39/39 [00:23<00:00,  1.63it/s]\n",
            "                   all       2483     143316      0.983       0.97      0.989      0.848\n",
            "\n",
            "      Epoch    GPU_mem   box_loss   obj_loss   cls_loss  Instances       Size\n",
            "      18/49      9.12G    0.03895     0.1637   0.004025       1281        640: 100% 272/272 [02:42<00:00,  1.67it/s]\n",
            "                 Class     Images  Instances          P          R      mAP50   mAP50-95: 100% 39/39 [00:24<00:00,  1.62it/s]\n",
            "                   all       2483     143316      0.984      0.968      0.991      0.858\n",
            "\n",
            "      Epoch    GPU_mem   box_loss   obj_loss   cls_loss  Instances       Size\n",
            "      19/49      9.12G    0.03857     0.1624   0.003939       1704        640: 100% 272/272 [02:43<00:00,  1.66it/s]\n",
            "                 Class     Images  Instances          P          R      mAP50   mAP50-95: 100% 39/39 [00:23<00:00,  1.64it/s]\n",
            "                   all       2483     143316      0.986      0.971      0.991       0.86\n",
            "\n",
            "      Epoch    GPU_mem   box_loss   obj_loss   cls_loss  Instances       Size\n",
            "      20/49      9.12G    0.03812     0.1589    0.00373       1452        640: 100% 272/272 [02:43<00:00,  1.67it/s]\n",
            "                 Class     Images  Instances          P          R      mAP50   mAP50-95: 100% 39/39 [00:23<00:00,  1.63it/s]\n",
            "                   all       2483     143316      0.988      0.974      0.992      0.869\n",
            "\n",
            "      Epoch    GPU_mem   box_loss   obj_loss   cls_loss  Instances       Size\n",
            "      21/49      9.12G    0.03771     0.1574   0.003739       1334        640: 100% 272/272 [02:43<00:00,  1.67it/s]\n",
            "                 Class     Images  Instances          P          R      mAP50   mAP50-95: 100% 39/39 [00:23<00:00,  1.64it/s]\n",
            "                   all       2483     143316      0.985      0.977       0.99      0.867\n",
            "\n",
            "      Epoch    GPU_mem   box_loss   obj_loss   cls_loss  Instances       Size\n",
            "      22/49      9.12G    0.03768     0.1558   0.003622       1724        640: 100% 272/272 [02:43<00:00,  1.67it/s]\n",
            "                 Class     Images  Instances          P          R      mAP50   mAP50-95: 100% 39/39 [00:23<00:00,  1.64it/s]\n",
            "                   all       2483     143316      0.985      0.975      0.991      0.872\n",
            "\n",
            "      Epoch    GPU_mem   box_loss   obj_loss   cls_loss  Instances       Size\n",
            "      23/49      9.12G     0.0374     0.1561    0.00355       1563        640: 100% 272/272 [02:42<00:00,  1.67it/s]\n",
            "                 Class     Images  Instances          P          R      mAP50   mAP50-95: 100% 39/39 [00:23<00:00,  1.64it/s]\n",
            "                   all       2483     143316      0.988       0.98      0.992      0.878\n",
            "\n",
            "      Epoch    GPU_mem   box_loss   obj_loss   cls_loss  Instances       Size\n",
            "      24/49      9.12G     0.0371      0.153   0.003396       1572        640: 100% 272/272 [02:40<00:00,  1.69it/s]\n",
            "                 Class     Images  Instances          P          R      mAP50   mAP50-95: 100% 39/39 [00:23<00:00,  1.67it/s]\n",
            "                   all       2483     143316      0.986      0.981      0.991       0.88\n",
            "\n",
            "      Epoch    GPU_mem   box_loss   obj_loss   cls_loss  Instances       Size\n",
            "      25/49      9.12G    0.03651     0.1509   0.003303       1642        640: 100% 272/272 [02:40<00:00,  1.70it/s]\n",
            "                 Class     Images  Instances          P          R      mAP50   mAP50-95: 100% 39/39 [00:23<00:00,  1.64it/s]\n",
            "                   all       2483     143316      0.988       0.98      0.991      0.882\n",
            "\n",
            "      Epoch    GPU_mem   box_loss   obj_loss   cls_loss  Instances       Size\n",
            "      26/49      9.12G    0.03638     0.1487   0.003285       1016        640: 100% 272/272 [02:40<00:00,  1.70it/s]\n",
            "                 Class     Images  Instances          P          R      mAP50   mAP50-95: 100% 39/39 [00:23<00:00,  1.64it/s]\n",
            "                   all       2483     143316      0.992      0.985      0.993       0.89\n",
            "\n",
            "      Epoch    GPU_mem   box_loss   obj_loss   cls_loss  Instances       Size\n",
            "      27/49      9.12G    0.03611     0.1474   0.003216       1604        640: 100% 272/272 [02:41<00:00,  1.69it/s]\n",
            "                 Class     Images  Instances          P          R      mAP50   mAP50-95: 100% 39/39 [00:23<00:00,  1.65it/s]\n",
            "                   all       2483     143316      0.992      0.986      0.993      0.892\n",
            "\n",
            "      Epoch    GPU_mem   box_loss   obj_loss   cls_loss  Instances       Size\n",
            "      28/49      9.12G    0.03592     0.1465   0.003149       1684        640: 100% 272/272 [02:41<00:00,  1.68it/s]\n",
            "                 Class     Images  Instances          P          R      mAP50   mAP50-95: 100% 39/39 [00:23<00:00,  1.66it/s]\n",
            "                   all       2483     143316      0.992      0.987      0.993      0.893\n",
            "\n",
            "      Epoch    GPU_mem   box_loss   obj_loss   cls_loss  Instances       Size\n",
            "      29/49      9.12G     0.0359     0.1452    0.00317       1414        640: 100% 272/272 [02:42<00:00,  1.68it/s]\n",
            "                 Class     Images  Instances          P          R      mAP50   mAP50-95: 100% 39/39 [00:23<00:00,  1.64it/s]\n",
            "                   all       2483     143316      0.994      0.988      0.994      0.898\n",
            "\n",
            "      Epoch    GPU_mem   box_loss   obj_loss   cls_loss  Instances       Size\n",
            "      30/49      9.12G    0.03542     0.1428   0.003017       1166        640: 100% 272/272 [02:42<00:00,  1.68it/s]\n",
            "                 Class     Images  Instances          P          R      mAP50   mAP50-95: 100% 39/39 [00:23<00:00,  1.68it/s]\n",
            "                   all       2483     143316      0.993      0.989      0.994        0.9\n",
            "\n",
            "      Epoch    GPU_mem   box_loss   obj_loss   cls_loss  Instances       Size\n",
            "      31/49      9.12G    0.03504     0.1415   0.002865       1333        640: 100% 272/272 [02:42<00:00,  1.68it/s]\n",
            "                 Class     Images  Instances          P          R      mAP50   mAP50-95: 100% 39/39 [00:22<00:00,  1.71it/s]\n",
            "                   all       2483     143316      0.993      0.989      0.993      0.904\n",
            "\n",
            "      Epoch    GPU_mem   box_loss   obj_loss   cls_loss  Instances       Size\n",
            "      32/49      9.12G     0.0349     0.1397   0.002841       2581        640:  31% 84/272 [00:49<02:19,  1.34it/s]"
          ]
        }
      ]
    },
    {
      "cell_type": "code",
      "source": [
        "%load_ext tensorboard\n",
        "%tensorboard --logdir runs"
      ],
      "metadata": {
        "colab": {
          "base_uri": "https://localhost:8080/",
          "height": 820
        },
        "id": "v2sT-HDeejQx",
        "outputId": "ed7bbcee-ecb3-4f8c-88c2-bd073f6bea71"
      },
      "execution_count": 18,
      "outputs": [
        {
          "output_type": "display_data",
          "data": {
            "text/plain": [
              "<IPython.core.display.Javascript object>"
            ],
            "application/javascript": [
              "\n",
              "        (async () => {\n",
              "            const url = new URL(await google.colab.kernel.proxyPort(6006, {'cache': true}));\n",
              "            url.searchParams.set('tensorboardColab', 'true');\n",
              "            const iframe = document.createElement('iframe');\n",
              "            iframe.src = url;\n",
              "            iframe.setAttribute('width', '100%');\n",
              "            iframe.setAttribute('height', '800');\n",
              "            iframe.setAttribute('frameborder', 0);\n",
              "            document.body.appendChild(iframe);\n",
              "        })();\n",
              "    "
            ]
          },
          "metadata": {}
        }
      ]
    },
    {
      "cell_type": "code",
      "source": [
        "!ls /content/yolov5/runs/train/pothole_results"
      ],
      "metadata": {
        "id": "BrBFND6je16-"
      },
      "execution_count": null,
      "outputs": []
    },
    {
      "cell_type": "code",
      "source": [
        "Image(filename='/content/yolov5/runs/train/pothole_results/train_batch0.jpg', width=1000)"
      ],
      "metadata": {
        "id": "WfeGKuI4gU92"
      },
      "execution_count": null,
      "outputs": []
    },
    {
      "cell_type": "code",
      "source": [
        "# 검증\n",
        "!python val.py --weights runs/train/pothole_results/weights/best.pt --data ./park/data.yaml --img 640 --iou 0.65 "
      ],
      "metadata": {
        "id": "ycU5ZoqrgU_4"
      },
      "execution_count": null,
      "outputs": []
    },
    {
      "cell_type": "code",
      "source": [
        "!python detect.py --weights /content/yolov5/runs/train/pothole_results/weights/best.pt --img 640 --conf 0.4 --source ./pothole/test/images"
      ],
      "metadata": {
        "id": "sOh-HusNgVB-"
      },
      "execution_count": null,
      "outputs": []
    },
    {
      "cell_type": "code",
      "source": [
        "# 저장된 곳에서 랜덤으로 뽑아서 볼것이다.\n",
        "import glob\n",
        "import random\n",
        "from IPython.display import Image, display\n",
        "\n",
        "image_name = random.choice(glob.glob('/content/yolov5/runs/detect/exp3/*.jpg'))\n",
        "display(Image(filename=image_name))"
      ],
      "metadata": {
        "id": "Zlrvy_sogVEF"
      },
      "execution_count": null,
      "outputs": []
    },
    {
      "cell_type": "code",
      "source": [],
      "metadata": {
        "id": "vZw0qLFQgVGb"
      },
      "execution_count": null,
      "outputs": []
    },
    {
      "cell_type": "code",
      "source": [],
      "metadata": {
        "id": "38Gq6kEdgVIg"
      },
      "execution_count": null,
      "outputs": []
    },
    {
      "cell_type": "code",
      "source": [],
      "metadata": {
        "id": "STgS3w8ogVKt"
      },
      "execution_count": null,
      "outputs": []
    },
    {
      "cell_type": "code",
      "source": [],
      "metadata": {
        "id": "RFLvwCVygVM7"
      },
      "execution_count": null,
      "outputs": []
    }
  ]
}