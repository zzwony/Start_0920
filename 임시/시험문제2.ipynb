{
 "cells": [
  {
   "cell_type": "code",
   "execution_count": 85,
   "id": "e2206a3b-8923-461d-bfb7-b75f9d56346b",
   "metadata": {
    "collapsed": true,
    "jupyter": {
     "outputs_hidden": true
    },
    "tags": []
   },
   "outputs": [
    {
     "ename": "SyntaxError",
     "evalue": "invalid syntax (3635405113.py, line 1)",
     "output_type": "error",
     "traceback": [
      "\u001b[1;36m  Input \u001b[1;32mIn [85]\u001b[1;36m\u001b[0m\n\u001b[1;33m    1. 이름순으로 정렬하시오\u001b[0m\n\u001b[1;37m       ^\u001b[0m\n\u001b[1;31mSyntaxError\u001b[0m\u001b[1;31m:\u001b[0m invalid syntax\n"
     ]
    }
   ],
   "source": [
    "1. 이름순으로 정렬하시오\n",
    "2. 키보드로 입력 받아 검색된 이름의 점수를 구하시오\n",
    "3. 데이터를 다음과 같이 출력하시오\n",
    "(0~59:F , 60~69:D, 70~79:C, 80~89:B, 90~100:A\n",
    "---------------------\n",
    "    이름       학점\n",
    "---------------------\n",
    "    홍길동       C\n",
    "    ...\n",
    "    김철수3      F\n",
    " \n",
    "4. 국어 점수 50점 이하는 가산점 20%, 50점 초과는 가산점 10%를 부여하시오\n",
    "5. 국어점수 10%, 50%, 90%에 해당하는 값을 구하시오\n",
    "6. 각 국어점수에 대한 개수를 구하시오\n",
    "7. 국어점수에 대한 boxplot을 그리시오"
   ]
  },
  {
   "cell_type": "code",
   "execution_count": 47,
   "id": "0f16cc84-e1fa-480d-87a2-04f16742117f",
   "metadata": {},
   "outputs": [
    {
     "data": {
      "text/plain": [
       "홍길동     90\n",
       "이순신     90\n",
       "임꺽정     55\n",
       "정난정     60\n",
       "이이      76\n",
       "이황      80\n",
       "정도전     76\n",
       "김철수1    88\n",
       "김철수2    30\n",
       "김철수3    25\n",
       "Name: 국어점수, dtype: int64"
      ]
     },
     "execution_count": 47,
     "metadata": {},
     "output_type": "execute_result"
    }
   ],
   "source": [
    "sr = pd.Series( [90,90,55,60,76,80,76,88,30,25],\n",
    "               name=\"국어점수\" )\n",
    "sr.index=['홍길동','이순신','임꺽정','정난정',\n",
    "         '이이','이황','정도전','김철수1',\n",
    "          '김철수2','김철수3']\n",
    "sr"
   ]
  },
  {
   "cell_type": "code",
   "execution_count": 48,
   "id": "122026aa-fc0a-48a6-9aed-56e1c13bef70",
   "metadata": {},
   "outputs": [
    {
     "data": {
      "text/plain": [
       "사과    10\n",
       "딸기    20\n",
       "포도    30\n",
       "수박    50\n",
       "Name: 과일, dtype: int64"
      ]
     },
     "execution_count": 48,
     "metadata": {},
     "output_type": "execute_result"
    }
   ],
   "source": [
    "fruit=pd.Series( [10,20,30,50],index=['사과','딸기','포도','수박'],name='과일' )\n",
    "fruit"
   ]
  },
  {
   "cell_type": "markdown",
   "id": "187b6f62-50ca-4df6-8869-adb20dc92e06",
   "metadata": {
    "jp-MarkdownHeadingCollapsed": true,
    "tags": []
   },
   "source": [
    "# 해설"
   ]
  },
  {
   "cell_type": "code",
   "execution_count": 50,
   "id": "30c76cc8-f9af-4440-9d70-8568d288de86",
   "metadata": {},
   "outputs": [
    {
     "data": {
      "text/plain": [
       "김철수1    88\n",
       "김철수2    30\n",
       "김철수3    25\n",
       "이순신     90\n",
       "이이      76\n",
       "이황      80\n",
       "임꺽정     55\n",
       "정난정     60\n",
       "정도전     76\n",
       "홍길동     90\n",
       "Name: 국어점수, dtype: int64"
      ]
     },
     "execution_count": 50,
     "metadata": {},
     "output_type": "execute_result"
    }
   ],
   "source": [
    "# 이름순으로 정렬하시오.\n",
    "sr.sort_index()"
   ]
  },
  {
   "cell_type": "code",
   "execution_count": 53,
   "id": "0a9e00de-645b-40c4-8644-b6ff65a676fb",
   "metadata": {},
   "outputs": [
    {
     "name": "stdin",
     "output_type": "stream",
     "text": [
      "이름을 입력하세요. 이이\n"
     ]
    },
    {
     "data": {
      "text/plain": [
       "76"
      ]
     },
     "execution_count": 53,
     "metadata": {},
     "output_type": "execute_result"
    }
   ],
   "source": [
    "# 키보드로 입력 받아 검색된 이름의 점수를 구하시오.\n",
    "search = input('이름을 입력하세요.')\n",
    "sr[search]"
   ]
  },
  {
   "cell_type": "code",
   "execution_count": 62,
   "id": "7beb2895-9ca9-4ea8-9a11-eb5d60592046",
   "metadata": {
    "tags": []
   },
   "outputs": [
    {
     "data": {
      "text/plain": [
       "홍길동     A\n",
       "이순신     A\n",
       "임꺽정     F\n",
       "정난정     D\n",
       "이이      C\n",
       "이황      B\n",
       "정도전     C\n",
       "김철수1    B\n",
       "김철수2    F\n",
       "김철수3    F\n",
       "Name: 국어점수, dtype: category\n",
       "Categories (5, object): ['F' < 'D' < 'C' < 'B' < 'A']"
      ]
     },
     "execution_count": 62,
     "metadata": {},
     "output_type": "execute_result"
    }
   ],
   "source": [
    "# 데이터를 다음과 같이 출력하시오.\n",
    "bins = [-1,59,69,79,89,100]\n",
    "grade = ['F','D','C','B','A']\n",
    "\n",
    "pd.cut(sr, bins, labels=grade)"
   ]
  },
  {
   "cell_type": "code",
   "execution_count": 73,
   "id": "3fd23ac9-c206-4484-b3d4-91b47d9fcf6b",
   "metadata": {},
   "outputs": [
    {
     "data": {
      "text/plain": [
       "홍길동     99.0\n",
       "이순신     99.0\n",
       "임꺽정     60.5\n",
       "정난정     66.0\n",
       "이이      83.6\n",
       "이황      88.0\n",
       "정도전     83.6\n",
       "김철수1    96.8\n",
       "김철수2    36.0\n",
       "김철수3    30.0\n",
       "Name: 국어점수, dtype: float64"
      ]
     },
     "execution_count": 73,
     "metadata": {},
     "output_type": "execute_result"
    }
   ],
   "source": [
    "# 국어 점수 50점 이하는 가산점 20%, 50점 초과는 가산점 10%를 부여하시오\n",
    "sr.apply(lambda x : x*1.2 if x <=50 else x*1.1)"
   ]
  },
  {
   "cell_type": "code",
   "execution_count": 75,
   "id": "79dd5ce4-fc85-4028-a0bf-fc38e68ccaed",
   "metadata": {},
   "outputs": [
    {
     "data": {
      "text/plain": [
       "0.1    29.5\n",
       "0.5    76.0\n",
       "0.9    90.0\n",
       "Name: 국어점수, dtype: float64"
      ]
     },
     "execution_count": 75,
     "metadata": {},
     "output_type": "execute_result"
    }
   ],
   "source": [
    "# 국어점수 10%, 50%, 90%에 해당하는 값을 구하시오\n",
    "sr.quantile([0.1,0.5,0.9])"
   ]
  },
  {
   "cell_type": "code",
   "execution_count": 76,
   "id": "10e7a621-5603-4028-abac-9db5c2c08a15",
   "metadata": {},
   "outputs": [
    {
     "data": {
      "text/plain": [
       "90    2\n",
       "76    2\n",
       "55    1\n",
       "60    1\n",
       "80    1\n",
       "88    1\n",
       "30    1\n",
       "25    1\n",
       "Name: 국어점수, dtype: int64"
      ]
     },
     "execution_count": 76,
     "metadata": {},
     "output_type": "execute_result"
    }
   ],
   "source": [
    "# 각 국어점수에 대한 개수를 구하시오.\n",
    "sr.value_counts()"
   ]
  },
  {
   "cell_type": "code",
   "execution_count": 78,
   "id": "9d6e4da6-44df-447f-abc3-ad1b29432716",
   "metadata": {},
   "outputs": [
    {
     "data": {
      "text/plain": [
       "<AxesSubplot:>"
      ]
     },
     "execution_count": 78,
     "metadata": {},
     "output_type": "execute_result"
    },
    {
     "name": "stderr",
     "output_type": "stream",
     "text": [
      "C:\\Users\\admin\\anaconda3\\lib\\site-packages\\IPython\\core\\pylabtools.py:151: UserWarning: Glyph 44397 (\\N{HANGUL SYLLABLE GUG}) missing from current font.\n",
      "  fig.canvas.print_figure(bytes_io, **kw)\n",
      "C:\\Users\\admin\\anaconda3\\lib\\site-packages\\IPython\\core\\pylabtools.py:151: UserWarning: Glyph 50612 (\\N{HANGUL SYLLABLE EO}) missing from current font.\n",
      "  fig.canvas.print_figure(bytes_io, **kw)\n",
      "C:\\Users\\admin\\anaconda3\\lib\\site-packages\\IPython\\core\\pylabtools.py:151: UserWarning: Glyph 51216 (\\N{HANGUL SYLLABLE JEOM}) missing from current font.\n",
      "  fig.canvas.print_figure(bytes_io, **kw)\n",
      "C:\\Users\\admin\\anaconda3\\lib\\site-packages\\IPython\\core\\pylabtools.py:151: UserWarning: Glyph 49688 (\\N{HANGUL SYLLABLE SU}) missing from current font.\n",
      "  fig.canvas.print_figure(bytes_io, **kw)\n"
     ]
    },
    {
     "data": {
      "image/png": "[encoded data removed]",
      "text/plain": [
       "<Figure size 432x288 with 1 Axes>"
      ]
     },
     "metadata": {
      "needs_background": "light"
     },
     "output_type": "display_data"
    }
   ],
   "source": [
    "# 국어점수에 대한 boxplot을 그리시오.\n",
    "import matplotlib.pyplot as plt\n",
    "sr.plot(kind='box', ylim=(0,100))"
   ]
  },
  {
   "cell_type": "code",
   "execution_count": null,
   "id": "cd52d4bd-3d1a-4462-889a-5b177cd69507",
   "metadata": {},
   "outputs": [],
   "source": []
  }
 ],
 "metadata": {
  "kernelspec": {
   "display_name": "Python 3 (ipykernel)",
   "language": "python",
   "name": "python3"
  },
  "language_info": {
   "codemirror_mode": {
    "name": "ipython",
    "version": 3
   },
   "file_extension": ".py",
   "mimetype": "text/x-python",
   "name": "python",
   "nbconvert_exporter": "python",
   "pygments_lexer": "ipython3",
   "version": "3.9.12"
  }
 },
 "nbformat": 4,
 "nbformat_minor": 5
}
