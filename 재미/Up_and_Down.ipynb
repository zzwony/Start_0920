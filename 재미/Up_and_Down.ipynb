{
 "cells": [
  {
   "cell_type": "code",
   "execution_count": 2,
   "id": "b9aca356-8a01-47a2-b3bc-5a2fe553bcbd",
   "metadata": {},
   "outputs": [],
   "source": [
    "import random"
   ]
  },
  {
   "cell_type": "code",
   "execution_count": 8,
   "id": "29d00c6d-d562-4256-a99e-02c50751b7ad",
   "metadata": {},
   "outputs": [],
   "source": [
    "import numpy as np\n",
    "import pandas as pd"
   ]
  },
  {
   "cell_type": "code",
   "execution_count": 38,
   "id": "2d6c76a2-1b98-4a08-82dc-e6cff2ab5492",
   "metadata": {},
   "outputs": [
    {
     "name": "stdin",
     "output_type": "stream",
     "text": [
      "Up and Down game. Join? (yes or no) :  yes\n",
      "숫자 입력: 70\n"
     ]
    },
    {
     "name": "stdout",
     "output_type": "stream",
     "text": [
      "UP\n"
     ]
    },
    {
     "name": "stdin",
     "output_type": "stream",
     "text": [
      "숫자 입력: 90\n"
     ]
    },
    {
     "name": "stdout",
     "output_type": "stream",
     "text": [
      "UP\n"
     ]
    },
    {
     "name": "stdin",
     "output_type": "stream",
     "text": [
      "숫자 입력: 100\n"
     ]
    },
    {
     "name": "stdout",
     "output_type": "stream",
     "text": [
      "정답입니다. 시도 횟수: 3\n"
     ]
    }
   ],
   "source": [
    "# 시작\n",
    "start1 = str(input('Up and Down game. Join? (yes or no) : '))\n",
    "\n",
    "if start1 == 'yes' :\n",
    "    com_number = random.randint(1,101)\n",
    "    n = 0\n",
    "    while com_number != me_number:\n",
    "        me_number = int(input('숫자 입력:'))\n",
    "        if me_number < com_number:\n",
    "            print('UP')\n",
    "        elif com_number < me_number:\n",
    "            print('DOWN')\n",
    "        n += 1\n",
    "    print('정답입니다.', \"시도 횟수: \" + str(n))\n",
    "\n",
    "else:\n",
    "    print('ByeBye')"
   ]
  },
  {
   "cell_type": "code",
   "execution_count": null,
   "id": "c7f8b921-78e0-4304-a8a1-fd04e69e037e",
   "metadata": {},
   "outputs": [],
   "source": []
  }
 ],
 "metadata": {
  "kernelspec": {
   "display_name": "Python 3 (ipykernel)",
   "language": "python",
   "name": "python3"
  },
  "language_info": {
   "codemirror_mode": {
    "name": "ipython",
    "version": 3
   },
   "file_extension": ".py",
   "mimetype": "text/x-python",
   "name": "python",
   "nbconvert_exporter": "python",
   "pygments_lexer": "ipython3",
   "version": "3.9.12"
  }
 },
 "nbformat": 4,
 "nbformat_minor": 5
}
