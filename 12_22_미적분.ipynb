{
  "nbformat": 4,
  "nbformat_minor": 0,
  "metadata": {
    "colab": {
      "provenance": [],
      "authorship_tag": "ABX9TyODII1mBEZAhsbIhtNAhGFx",
      "include_colab_link": true
    },
    "kernelspec": {
      "name": "python3",
      "display_name": "Python 3"
    },
    "language_info": {
      "name": "python"
    },
    "accelerator": "GPU",
    "gpuClass": "standard"
  },
  "cells": [
    {
      "cell_type": "markdown",
      "metadata": {
        "id": "view-in-github",
        "colab_type": "text"
      },
      "source": [
        "<a href=\"https://colab.research.google.com/github/zzwony/Start_0920/blob/main/12_22_%EB%AF%B8%EC%A0%81%EB%B6%84.ipynb\" target=\"_parent\"><img src=\"https://colab.research.google.com/assets/colab-badge.svg\" alt=\"Open In Colab\"/></a>"
      ]
    },
    {
      "cell_type": "code",
      "source": [
        "from google.colab import drive\n",
        "drive.mount('/content/drive')"
      ],
      "metadata": {
        "colab": {
          "base_uri": "https://localhost:8080/"
        },
        "id": "wcgdhVM5n9pf",
        "outputId": "c8e8c58b-95a2-464a-a8d3-52355603c0f5"
      },
      "execution_count": 1,
      "outputs": [
        {
          "output_type": "stream",
          "name": "stdout",
          "text": [
            "Mounted at /content/drive\n"
          ]
        }
      ]
    },
    {
      "cell_type": "code",
      "source": [
        "! pip install statsmodels"
      ],
      "metadata": {
        "colab": {
          "base_uri": "https://localhost:8080/"
        },
        "id": "f_qzS7v-n-DF",
        "outputId": "3aeab489-77b1-4b9a-f993-2aa44698eb88"
      },
      "execution_count": 2,
      "outputs": [
        {
          "output_type": "stream",
          "name": "stdout",
          "text": [
            "Looking in indexes: https://pypi.org/simple, https://us-python.pkg.dev/colab-wheels/public/simple/\n",
            "Requirement already satisfied: statsmodels in /usr/local/lib/python3.8/dist-packages (0.12.2)\n",
            "Requirement already satisfied: numpy>=1.15 in /usr/local/lib/python3.8/dist-packages (from statsmodels) (1.21.6)\n",
            "Requirement already satisfied: pandas>=0.21 in /usr/local/lib/python3.8/dist-packages (from statsmodels) (1.3.5)\n",
            "Requirement already satisfied: patsy>=0.5 in /usr/local/lib/python3.8/dist-packages (from statsmodels) (0.5.3)\n",
            "Requirement already satisfied: scipy>=1.1 in /usr/local/lib/python3.8/dist-packages (from statsmodels) (1.7.3)\n",
            "Requirement already satisfied: pytz>=2017.3 in /usr/local/lib/python3.8/dist-packages (from pandas>=0.21->statsmodels) (2022.6)\n",
            "Requirement already satisfied: python-dateutil>=2.7.3 in /usr/local/lib/python3.8/dist-packages (from pandas>=0.21->statsmodels) (2.8.2)\n",
            "Requirement already satisfied: six in /usr/local/lib/python3.8/dist-packages (from patsy>=0.5->statsmodels) (1.15.0)\n"
          ]
        }
      ]
    },
    {
      "cell_type": "code",
      "source": [
        "import matplotlib.pylab as plt\n",
        "\n",
        "import numpy as np\n",
        "import scipy as sp\n",
        "import pandas as pd\n",
        "import statsmodels.api as sm\n",
        "import sklearn as sk\n",
        "import matplotlib as mpl"
      ],
      "metadata": {
        "id": "4Tv90yELoHWT"
      },
      "execution_count": 2,
      "outputs": []
    },
    {
      "cell_type": "markdown",
      "source": [
        "## 미분\n",
        "\n",
        "최적화를 하기 위해서는 입력값이 변했을 때 함수의 출력값이 어떻게 달라지는지를 정량적으로 알아야 하며 이러한 과정이 미분이다.\n",
        "\n",
        "함수의 그래프상에 있는 한 점을 줌심으로 그래프를 무한히 확대해 보면 그래프의 모양이 직선에 가까워지는데 이때의 기울기를 미분이라고 한다. 이 직선은 같은 점을 기준으로 그린 그래프의 접선과 같다.\n",
        "\n",
        "신명망에서 미분의 필요성 : https://gggggeun.tistory.com/120           https://gggggeun.tistory.com/121\n",
        "\n",
        "미분 개념 : https://www.youtube.com/watch?v=kMZ3RJEaLE4\n"
      ],
      "metadata": {
        "id": "Q8Et3kT9oXRi"
      }
    },
    {
      "cell_type": "code",
      "source": [
        "# 한글 깨짐 해결방법 : 실행 후 Restart runtime \n",
        "!sudo apt-get install -y fonts-nanum\n",
        "!sudo fc-cache -fv\n",
        "!rm ~/.cache/matplotlib -rf"
      ],
      "metadata": {
        "colab": {
          "base_uri": "https://localhost:8080/"
        },
        "id": "vfKIxM7-qliq",
        "outputId": "165c1923-6cf7-4f76-e197-417b7c08deb9"
      },
      "execution_count": 3,
      "outputs": [
        {
          "output_type": "stream",
          "name": "stdout",
          "text": [
            "Reading package lists... Done\n",
            "Building dependency tree       \n",
            "Reading state information... Done\n",
            "fonts-nanum is already the newest version (20170925-1).\n",
            "The following package was automatically installed and is no longer required:\n",
            "  libnvidia-common-460\n",
            "Use 'sudo apt autoremove' to remove it.\n",
            "0 upgraded, 0 newly installed, 0 to remove and 20 not upgraded.\n",
            "/usr/share/fonts: caching, new cache contents: 0 fonts, 1 dirs\n",
            "/usr/share/fonts/truetype: caching, new cache contents: 0 fonts, 3 dirs\n",
            "/usr/share/fonts/truetype/humor-sans: caching, new cache contents: 1 fonts, 0 dirs\n",
            "/usr/share/fonts/truetype/liberation: caching, new cache contents: 16 fonts, 0 dirs\n",
            "/usr/share/fonts/truetype/nanum: caching, new cache contents: 10 fonts, 0 dirs\n",
            "/usr/local/share/fonts: caching, new cache contents: 0 fonts, 0 dirs\n",
            "/root/.local/share/fonts: skipping, no such directory\n",
            "/root/.fonts: skipping, no such directory\n",
            "/var/cache/fontconfig: cleaning cache directory\n",
            "/root/.cache/fontconfig: not cleaning non-existent cache directory\n",
            "/root/.fontconfig: not cleaning non-existent cache directory\n",
            "fc-cache: succeeded\n"
          ]
        }
      ]
    },
    {
      "cell_type": "code",
      "source": [
        "import numpy as np\n",
        "import matplotlib.pyplot as plt\n",
        "\n",
        "plt.rc('font', family='NanumBarunGothic')\n",
        "\n",
        "\n",
        "def f(x):\n",
        "    return x**3 - 3 * x**2 + x\n",
        "\n",
        "x = np.linspace(-1, 3, 400)\n",
        "y = f(x)\n",
        "plt.figure(figsize=(10,6))\n",
        "plt.plot(x, y)\n",
        "plt.plot(0, 0, 'ro')\n",
        "plt.plot(x, x, 'r:')\n",
        "plt.plot(1, -1, 'go')\n",
        "plt.plot(x, (3*1**2-6*1+1)*(x-1)-1, 'g--')\n",
        "\n",
        "plt.xlim(-3.5, 5.5)\n",
        "plt.ylim(-4, 2)\n",
        "plt.xticks(np.arange(-3, 6))\n",
        "plt.yticks(np.arange(-4, 2))\n",
        "\n",
        "plt.annotate('', xy=(1, 0), xytext=(0, 0), arrowprops=dict(facecolor='gray'))\n",
        "plt.annotate('', xy=(1, 1), xytext=(1, 0), arrowprops=dict(facecolor='gray'))\n",
        "\n",
        "plt.annotate('', xy=(2, -1), xytext=(1, -1), arrowprops=dict(facecolor='gray'))\n",
        "plt.annotate('', xy=(2, -3), xytext=(2, -1), arrowprops=dict(facecolor='gray'))\n",
        "\n",
        "plt.xlabel(\"x\")\n",
        "plt.ylabel(\"f(x)\")\n",
        "plt.title(\"함수의 기울기\")\n",
        "plt.show()\n"
      ],
      "metadata": {
        "colab": {
          "base_uri": "https://localhost:8080/",
          "height": 497
        },
        "id": "WJxqTsh6oZnb",
        "outputId": "81411267-e256-450c-d50b-3cf5ccedaf4c"
      },
      "execution_count": 3,
      "outputs": [
        {
          "output_type": "stream",
          "name": "stderr",
          "text": [
            "/usr/local/lib/python3.8/dist-packages/matplotlib/backends/backend_agg.py:214: RuntimeWarning: Glyph 8722 missing from current font.\n",
            "  font.set_text(s, 0.0, flags=flags)\n",
            "/usr/local/lib/python3.8/dist-packages/matplotlib/backends/backend_agg.py:183: RuntimeWarning: Glyph 8722 missing from current font.\n",
            "  font.set_text(s, 0, flags=flags)\n"
          ]
        },
        {
          "output_type": "display_data",
          "data": {
            "text/plain": [
              "<Figure size 720x432 with 1 Axes>"
            ],
            "image/png": "[encoded data removed]"
          },
          "metadata": {
            "needs_background": "light"
          }
        }
      ]
    },
    {
      "cell_type": "code",
      "source": [
        "def f(x):\n",
        "    return(x**3 - x)\n",
        "\n",
        "plt.figure(figsize=(15, 5))\n",
        "delta = [2.0, 0.2, 0.01]\n",
        "\n",
        "x = np.linspace(0.5-delta[0], 0.5+delta[0], 200)\n",
        "y = f(x)\n",
        "\n",
        "plt.subplot(131)\n",
        "\n",
        "plt.ylim(-3.0/8.0-delta[0], -3.0/8.0+delta[0])\n",
        "plt.xlim(0.5-delta[0], 0.5+delta[0])\n",
        "plt.plot(x, y, 'b-', lw=1, c='k')\n",
        "plt.scatter([0.5], [-3.0/8.0])\n",
        "plt.xlabel('x',fontsize=14)\n",
        "plt.ylabel('y',fontsize=14)\n",
        "plt.grid()\n",
        "plt.title('delta = %.4f' % delta[0], fontsize=14)\n",
        "\n",
        "\n",
        "x = np.linspace(0.5-delta[1], 0.5+delta[1], 200)\n",
        "y = f(x)\n",
        "\n",
        "plt.subplot(132)\n",
        "\n",
        "plt.ylim(-3.0/8.0-delta[1], -3.0/8.0+delta[1])\n",
        "plt.xlim(0.5-delta[1], 0.5+delta[1])\n",
        "plt.plot(x, y, 'b-', lw=1, c='k')\n",
        "plt.scatter([0.5], [-3.0/8.0])\n",
        "plt.xlabel('x',fontsize=14)\n",
        "plt.ylabel('y',fontsize=14)\n",
        "plt.grid()\n",
        "plt.title('delta = %.4f' % delta[1], fontsize=14)\n",
        "\n",
        "x = np.linspace(0.5-delta[2], 0.5+delta[2], 200)\n",
        "y = f(x)\n",
        "\n",
        "plt.subplot(133)\n",
        "plt.ylim(-3.0/8.0-delta[2], -3.0/8.0+delta[2])\n",
        "plt.xlim(0.5-delta[2], 0.5+delta[2])\n",
        "plt.plot(x, y, 'b-', lw=1, c='k')\n",
        "plt.scatter([0.5], [-3.0/8.0])\n",
        "plt.xlabel('x',fontsize=14)\n",
        "plt.ylabel('y',fontsize=14)\n",
        "plt.grid()\n",
        "plt.title('delta = %.4f' % delta[2], fontsize=14)\n",
        "\n",
        "plt.show()\n"
      ],
      "metadata": {
        "colab": {
          "base_uri": "https://localhost:8080/",
          "height": 448
        },
        "id": "0Zl_86-bqf-Q",
        "outputId": "8b36e297-ce44-4566-b4c3-7f1414ba2ff1"
      },
      "execution_count": 6,
      "outputs": [
        {
          "output_type": "stream",
          "name": "stderr",
          "text": [
            "/usr/local/lib/python3.8/dist-packages/matplotlib/backends/backend_agg.py:214: RuntimeWarning: Glyph 8722 missing from current font.\n",
            "  font.set_text(s, 0.0, flags=flags)\n",
            "/usr/local/lib/python3.8/dist-packages/matplotlib/backends/backend_agg.py:183: RuntimeWarning: Glyph 8722 missing from current font.\n",
            "  font.set_text(s, 0, flags=flags)\n"
          ]
        },
        {
          "output_type": "display_data",
          "data": {
            "text/plain": [
              "<Figure size 1080x360 with 3 Axes>"
            ],
            "image/png": "[encoded data removed]"
          },
          "metadata": {
            "needs_background": "light"
          }
        }
      ]
    },
    {
      "cell_type": "markdown",
      "source": [
        "### 접선의 방정식\n",
        "\n",
        "- 함수 f(x)에서 x의 값을 dx만큼 변화시켰을 때 f(x)의 변화량 (f(x+dx)-f(x))는 f'(x)dx와 같다.\n",
        "- 미분 : y=f(x)라는 그래프상의 점(a,f(a))가 있을 때 그 점에서 그은 접선의 기울기는 f'(a)이며 a에서의 순간 변화율을 의미\n",
        "- 적분 : 도함수 f'(x)의 하방 면적은 원 함수 f(x)의 y의 값이다. ex) f(x) = $x^2$\n"
      ],
      "metadata": {
        "id": "0ok2LXcOrhDY"
      }
    },
    {
      "cell_type": "code",
      "source": [
        "import numpy as np\n",
        "x = np.linspace(-4, 4, 100)\n",
        "x.min()"
      ],
      "metadata": {
        "colab": {
          "base_uri": "https://localhost:8080/"
        },
        "id": "52tf0aG6sErw",
        "outputId": "561de106-9b0c-4cab-e84d-f5701d61e61a"
      },
      "execution_count": 7,
      "outputs": [
        {
          "output_type": "execute_result",
          "data": {
            "text/plain": [
              "-4.0"
            ]
          },
          "metadata": {},
          "execution_count": 7
        }
      ]
    },
    {
      "cell_type": "code",
      "source": [
        "def f(x):\n",
        "    return(x**2)\n",
        "def g(x):\n",
        "    return(2*x -1)\n",
        "\n",
        "# x가 1일때의 접선의 방정식 2x -1, 기울기는 1\n",
        "x = np.linspace(-3, 3, 100)\n",
        "fig = plt.figure(figsize=(8,8))\n",
        "plt.scatter([1],[1],c='k')\n",
        "plt.plot(x, f(x), 'b-', lw=1, c='k')\n",
        "plt.plot(x, g(x), 'b-', lw=1, c='b')\n",
        "plt.plot([x.min(), x.max()], [0, 0], lw=2, c='k')\n",
        "plt.plot([0, 0], [g(x).min(), f(x).max()], lw=2, c='k')\n",
        "plt.ylim(-1, 3)\n",
        "plt.xlim(-2, 2)\n",
        "plt.grid(lw=1)\n",
        "# plt.tick_params(labelbottom=False, labelleft=False, labelright=False, labeltop=False)\n",
        "plt.tick_params(color='white')\n",
        "plt.show()"
      ],
      "metadata": {
        "colab": {
          "base_uri": "https://localhost:8080/",
          "height": 580
        },
        "id": "5xpMTCCdsJ6Y",
        "outputId": "b2a24884-1011-4a19-f139-14002e367c21"
      },
      "execution_count": 8,
      "outputs": [
        {
          "output_type": "stream",
          "name": "stderr",
          "text": [
            "/usr/local/lib/python3.8/dist-packages/matplotlib/backends/backend_agg.py:214: RuntimeWarning: Glyph 8722 missing from current font.\n",
            "  font.set_text(s, 0.0, flags=flags)\n",
            "/usr/local/lib/python3.8/dist-packages/matplotlib/backends/backend_agg.py:183: RuntimeWarning: Glyph 8722 missing from current font.\n",
            "  font.set_text(s, 0, flags=flags)\n"
          ]
        },
        {
          "output_type": "display_data",
          "data": {
            "text/plain": [
              "<Figure size 576x576 with 1 Axes>"
            ],
            "image/png": "[encoded data removed]"
          },
          "metadata": {
            "needs_background": "light"
          }
        }
      ]
    },
    {
      "cell_type": "code",
      "source": [
        "# scipy.misc 패키지의 derovative() 사용하여 기울기 계산\n",
        "from scipy.misc import derivative\n",
        "\n",
        "print(derivative(f, 0, dx=1e-6))   ## dx는 x의 증가량을 뜻한다\n",
        "print(derivative(f, 1, dx=1e-6))"
      ],
      "metadata": {
        "colab": {
          "base_uri": "https://localhost:8080/"
        },
        "id": "KLXLyfwuta-n",
        "outputId": "275c8fe5-6d0b-4635-fb7d-f3197e64e27d"
      },
      "execution_count": 9,
      "outputs": [
        {
          "output_type": "stream",
          "name": "stdout",
          "text": [
            "0.0\n",
            "2.000000000002\n"
          ]
        }
      ]
    },
    {
      "cell_type": "code",
      "source": [
        "def g(x):\n",
        "  return(2*x)\n",
        "\n",
        "x = np.linspace(-3, 3, 100)\n",
        "fig = plt.figure(figsize=(8,8))\n",
        "plt.plot(x, g(x), 'b-', lw=1, c = 'b')\n",
        "plt.plot([x.min(), x.max()], [0,0], lw=2, c='k')\n",
        "plt.plot([0,0], [g(x).min(), f(x).max()], lw=2, c='k')\n",
        "plt.ylim(-1, 3)\n",
        "plt.xlim(-2, 2)\n",
        "plt.grid(lw=1)\n",
        "plt.tick_params(color='white')\n",
        "plt.show()"
      ],
      "metadata": {
        "colab": {
          "base_uri": "https://localhost:8080/",
          "height": 580
        },
        "id": "_FLJymSBuJWO",
        "outputId": "7fde67c6-a0f2-424a-be22-b864fa2927d7"
      },
      "execution_count": 12,
      "outputs": [
        {
          "output_type": "stream",
          "name": "stderr",
          "text": [
            "/usr/local/lib/python3.8/dist-packages/matplotlib/backends/backend_agg.py:214: RuntimeWarning: Glyph 8722 missing from current font.\n",
            "  font.set_text(s, 0.0, flags=flags)\n",
            "/usr/local/lib/python3.8/dist-packages/matplotlib/backends/backend_agg.py:183: RuntimeWarning: Glyph 8722 missing from current font.\n",
            "  font.set_text(s, 0, flags=flags)\n"
          ]
        },
        {
          "output_type": "display_data",
          "data": {
            "text/plain": [
              "<Figure size 576x576 with 1 Axes>"
            ],
            "image/png": "[encoded data removed]"
          },
          "metadata": {
            "needs_background": "light"
          }
        }
      ]
    },
    {
      "cell_type": "code",
      "source": [
        "!pip install --ipgrade pip --user"
      ],
      "metadata": {
        "colab": {
          "base_uri": "https://localhost:8080/"
        },
        "id": "tP4RGqeeu85e",
        "outputId": "4a099483-c0a4-4ffa-f377-c67b6cfb50ee"
      },
      "execution_count": 13,
      "outputs": [
        {
          "output_type": "stream",
          "name": "stdout",
          "text": [
            "\n",
            "Usage:   \n",
            "  pip3 install [options] <requirement specifier> [package-index-options] ...\n",
            "  pip3 install [options] -r <requirements file> [package-index-options] ...\n",
            "  pip3 install [options] [-e] <vcs project url> ...\n",
            "  pip3 install [options] [-e] <local project path> ...\n",
            "  pip3 install [options] <archive url/path> ...\n",
            "\n",
            "no such option: --ipgrade\n"
          ]
        }
      ]
    },
    {
      "cell_type": "code",
      "source": [
        "!pip install sympy"
      ],
      "metadata": {
        "colab": {
          "base_uri": "https://localhost:8080/"
        },
        "id": "h0DIJwWdvn-O",
        "outputId": "00a4ea9c-1e16-4091-d7da-60b2e22dff8d"
      },
      "execution_count": 14,
      "outputs": [
        {
          "output_type": "stream",
          "name": "stdout",
          "text": [
            "Looking in indexes: https://pypi.org/simple, https://us-python.pkg.dev/colab-wheels/public/simple/\n",
            "Requirement already satisfied: sympy in /usr/local/lib/python3.8/dist-packages (1.7.1)\n",
            "Requirement already satisfied: mpmath>=0.19 in /usr/local/lib/python3.8/dist-packages (from sympy) (1.2.1)\n"
          ]
        }
      ]
    },
    {
      "cell_type": "code",
      "source": [
        "import sympy\n",
        "\n",
        "sympy.init_printing(use_latex='mathjax')"
      ],
      "metadata": {
        "id": "X6j9JvgNv13l"
      },
      "execution_count": 16,
      "outputs": []
    },
    {
      "cell_type": "code",
      "source": [
        "x,y = sympy.symbols('x y')\n",
        "f = x ** 2 + 4*x*y + 4*y **2\n",
        "f"
      ],
      "metadata": {
        "colab": {
          "base_uri": "https://localhost:8080/",
          "height": 38
        },
        "id": "4_vZAMeayARD",
        "outputId": "9a054486-8bbb-4198-f7d8-40dea5dd25da"
      },
      "execution_count": 18,
      "outputs": [
        {
          "output_type": "execute_result",
          "data": {
            "text/plain": [
              " 2              2\n",
              "x  + 4⋅x⋅y + 4⋅y "
            ],
            "text/latex": "$\\displaystyle x^{2} + 4 x y + 4 y^{2}$"
          },
          "metadata": {},
          "execution_count": 18
        }
      ]
    },
    {
      "cell_type": "markdown",
      "source": [
        "y를 그냥 상수 취급 해버림"
      ],
      "metadata": {
        "id": "jG3LsNuzy3v2"
      }
    },
    {
      "cell_type": "code",
      "source": [
        "# diff() 함수로 미분, 변수, 상수를 구분하기 위하여 편미분인 것처럼 입력 변수 지정\n",
        "sympy.diff(f, x)"
      ],
      "metadata": {
        "colab": {
          "base_uri": "https://localhost:8080/",
          "height": 38
        },
        "id": "ONtq9fFdyR2s",
        "outputId": "93d4c938-2b32-4b3a-b234-9643c0225232"
      },
      "execution_count": 19,
      "outputs": [
        {
          "output_type": "execute_result",
          "data": {
            "text/plain": [
              "2⋅x + 4⋅y"
            ],
            "text/latex": "$\\displaystyle 2 x + 4 y$"
          },
          "metadata": {},
          "execution_count": 19
        }
      ]
    },
    {
      "cell_type": "markdown",
      "source": [
        "x를 변수로 취급하고 나머지는 상수 취급"
      ],
      "metadata": {
        "id": "LRrvc_mty6YF"
      }
    },
    {
      "cell_type": "code",
      "source": [
        "sympy.diff(f, y)"
      ],
      "metadata": {
        "colab": {
          "base_uri": "https://localhost:8080/",
          "height": 38
        },
        "id": "N5TJqvdpygks",
        "outputId": "c6d83a8f-52e5-4ccf-81f9-debea86c6952"
      },
      "execution_count": 20,
      "outputs": [
        {
          "output_type": "execute_result",
          "data": {
            "text/plain": [
              "4⋅x + 8⋅y"
            ],
            "text/latex": "$\\displaystyle 4 x + 8 y$"
          },
          "metadata": {},
          "execution_count": 20
        }
      ]
    },
    {
      "cell_type": "markdown",
      "source": [
        "## 적분\n",
        "- 적분은 미분과 반대되는 개념. 부정적분과 정적분이 있다.\n",
        " - 부정적분은 정확하게 미분과 반대되는 개념. 즉 반 미분이다. 어떤 함수를 미분하여 나온 결과인 도함수라고 가정하고 이 도함수 f(x)에 대한 미분되기 전의 원래의 함수를 찾는 과정 또는 그 결과를 의미\n",
        " - 정적분은 독립변수 x가 어떤 구간 [a,b] 사이일 때 그 구간에서 함수 f(x)의 값과 수평선(x축)이 이루는 면적을 구하는 행위 혹은 그 값을 의미\n",
        " \n",
        "적분의 개념 : https://www.youtube.com/watch?v=kV2j3S5qBm4\n",
        "\n",
        "미분과 적분의 관계 : https://www.youtube.com/watch?v=xAAAvj7bmKQ\n"
      ],
      "metadata": {
        "id": "9rgWViAcyipk"
      }
    },
    {
      "cell_type": "code",
      "source": [],
      "metadata": {
        "id": "EXifVfjTzG67"
      },
      "execution_count": null,
      "outputs": []
    }
  ]
}