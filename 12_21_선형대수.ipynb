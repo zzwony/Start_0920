{
  "nbformat": 4,
  "nbformat_minor": 0,
  "metadata": {
    "colab": {
      "provenance": [],
      "authorship_tag": "ABX9TyPsjI3D6RfTSXKxvycCK0yI",
      "include_colab_link": true
    },
    "kernelspec": {
      "name": "python3",
      "display_name": "Python 3"
    },
    "language_info": {
      "name": "python"
    },
    "accelerator": "GPU",
    "gpuClass": "standard"
  },
  "cells": [
    {
      "cell_type": "markdown",
      "metadata": {
        "id": "view-in-github",
        "colab_type": "text"
      },
      "source": [
        "<a href=\"https://colab.research.google.com/github/zzwony/Start_0920/blob/main/12_21_%EC%84%A0%ED%98%95%EB%8C%80%EC%88%98.ipynb\" target=\"_parent\"><img src=\"https://colab.research.google.com/assets/colab-badge.svg\" alt=\"Open In Colab\"/></a>"
      ]
    },
    {
      "cell_type": "code",
      "source": [
        "from google.colab import drive\n",
        "drive.mount('/content/drive')"
      ],
      "metadata": {
        "colab": {
          "base_uri": "https://localhost:8080/"
        },
        "id": "xWBeCNA1djF8",
        "outputId": "d7c606e0-6ead-42ba-ad92-ee0a4b4f834f"
      },
      "execution_count": 1,
      "outputs": [
        {
          "output_type": "stream",
          "name": "stdout",
          "text": [
            "Mounted at /content/drive\n"
          ]
        }
      ]
    },
    {
      "cell_type": "code",
      "source": [
        "import warnings\n",
        "warnings.simplefilter('ignore')\n",
        "\n",
        "import matplotlib as mpl\n",
        "mpl.use('Agg')\n",
        "import matplotlib.pylab as plt\n",
        "from mpl_toolkits.mplot3d import Axes3D\n",
        "\n",
        "import seaborn as sns\n",
        "sns.set()\n",
        "sns.set_style(\"whitegrid\")\n",
        "sns.set_color_codes()\n",
        "\n",
        "import numpy as np\n",
        "import scipy as sp\n",
        "import pandas as pd\n",
        "import statsmodels.api as sm\n",
        "import sklearn as sk\n",
        "\n",
        "# Do not remove this line!\n",
        "plt, Axes3D, sns, np, sp, pd, sm, sk"
      ],
      "metadata": {
        "colab": {
          "base_uri": "https://localhost:8080/"
        },
        "id": "2_qebCJKdjd7",
        "outputId": "10c4fb9a-aca8-4927-c3b7-10bff145a6e6"
      },
      "execution_count": 2,
      "outputs": [
        {
          "output_type": "execute_result",
          "data": {
            "text/plain": [
              "(<module 'matplotlib.pylab' from '/usr/local/lib/python3.8/dist-packages/matplotlib/pylab.py'>,\n",
              " mpl_toolkits.mplot3d.axes3d.Axes3D,\n",
              " <module 'seaborn' from '/usr/local/lib/python3.8/dist-packages/seaborn/__init__.py'>,\n",
              " <module 'numpy' from '/usr/local/lib/python3.8/dist-packages/numpy/__init__.py'>,\n",
              " <module 'scipy' from '/usr/local/lib/python3.8/dist-packages/scipy/__init__.py'>,\n",
              " <module 'pandas' from '/usr/local/lib/python3.8/dist-packages/pandas/__init__.py'>,\n",
              " <module 'statsmodels.api' from '/usr/local/lib/python3.8/dist-packages/statsmodels/api.py'>,\n",
              " <module 'sklearn' from '/usr/local/lib/python3.8/dist-packages/sklearn/__init__.py'>)"
            ]
          },
          "metadata": {},
          "execution_count": 2
        }
      ]
    },
    {
      "cell_type": "markdown",
      "source": [
        "## 데이터와 행렬\n",
        "- 스칼라 : 숫자 하나만으로 이루어진 데이터\n",
        "- 벡터 : 여러 숫자가 특정한 순서대로 모여 있는 것을 의미. 하나의 벡터를 이루는 데이터 수가 n개이면 n-차원 벡터라고 함\n",
        "- 열벡터는 열의 수가 1인 행렬\n",
        "- 하나의 데이터 레코드를 단독으로 벡터로 나타낼 때는 하나의 열로 나타내고 복수의 데이터 레코드 집합을 행렬로 나타낼 때는 하나의 데이터 레코드가 하나의 행으로 표기하는 것은 데이터 분석에서 일반적인 관례\n",
        "- 스칼라와 벡터도 수학적으로는 행렬에 속한다.\n",
        "- 스칼라는 열과 행의 수가 각각 1인 행렬이고 벡터는 열의 수가 1인 행렬이다.\n"
      ],
      "metadata": {
        "id": "Yna3U42GeJoo"
      }
    },
    {
      "cell_type": "code",
      "source": [
        "# 특징벡터: 데이터 벡터가 예측 문제에서 입력 데이터로 사용되면 특징벡터라고 함\n",
        "from sklearn.datasets import load_iris\n",
        "\n",
        "iris = load_iris()\n",
        "x1 = iris.data[0, :]  # 첫 번재 꽃의 데이터\n",
        "x1 # 특징 벡터"
      ],
      "metadata": {
        "colab": {
          "base_uri": "https://localhost:8080/"
        },
        "id": "JC_ZbTd9fD9F",
        "outputId": "5d8e118d-2268-497b-c80a-b53565e72328"
      },
      "execution_count": null,
      "outputs": [
        {
          "output_type": "execute_result",
          "data": {
            "text/plain": [
              "array([5.1, 3.5, 1.4, 0.2])"
            ]
          },
          "metadata": {},
          "execution_count": 3
        }
      ]
    },
    {
      "cell_type": "code",
      "source": [
        "iris.keys()"
      ],
      "metadata": {
        "colab": {
          "base_uri": "https://localhost:8080/"
        },
        "id": "RnUAet3-fT1R",
        "outputId": "f2d040ce-7a9d-4b4b-c555-1457610ae823"
      },
      "execution_count": null,
      "outputs": [
        {
          "output_type": "execute_result",
          "data": {
            "text/plain": [
              "dict_keys(['data', 'target', 'frame', 'target_names', 'DESCR', 'feature_names', 'filename', 'data_module'])"
            ]
          },
          "metadata": {},
          "execution_count": 4
        }
      ]
    },
    {
      "cell_type": "code",
      "source": [
        "import pandas as pd\n",
        "df = pd.DataFrame(iris.data, columns=iris.feature_names)\n",
        "df.head()"
      ],
      "metadata": {
        "colab": {
          "base_uri": "https://localhost:8080/",
          "height": 206
        },
        "id": "9ktj-iYyfVRF",
        "outputId": "ef529cf5-3d86-4635-ca3c-69436dd948fd"
      },
      "execution_count": null,
      "outputs": [
        {
          "output_type": "execute_result",
          "data": {
            "text/plain": [
              "   sepal length (cm)  sepal width (cm)  petal length (cm)  petal width (cm)\n",
              "0                5.1               3.5                1.4               0.2\n",
              "1                4.9               3.0                1.4               0.2\n",
              "2                4.7               3.2                1.3               0.2\n",
              "3                4.6               3.1                1.5               0.2\n",
              "4                5.0               3.6                1.4               0.2"
            ],
            "text/html": [
              "\n",
              "  <div id=\"df-5553ed63-7c20-4369-8678-054e8c72259f\">\n",
              "    <div class=\"colab-df-container\">\n",
              "      <div>\n",
              "<style scoped>\n",
              "    .dataframe tbody tr th:only-of-type {\n",
              "        vertical-align: middle;\n",
              "    }\n",
              "\n",
              "    .dataframe tbody tr th {\n",
              "        vertical-align: top;\n",
              "    }\n",
              "\n",
              "    .dataframe thead th {\n",
              "        text-align: right;\n",
              "    }\n",
              "</style>\n",
              "<table border=\"1\" class=\"dataframe\">\n",
              "  <thead>\n",
              "    <tr style=\"text-align: right;\">\n",
              "      <th></th>\n",
              "      <th>sepal length (cm)</th>\n",
              "      <th>sepal width (cm)</th>\n",
              "      <th>petal length (cm)</th>\n",
              "      <th>petal width (cm)</th>\n",
              "    </tr>\n",
              "  </thead>\n",
              "  <tbody>\n",
              "    <tr>\n",
              "      <th>0</th>\n",
              "      <td>5.1</td>\n",
              "      <td>3.5</td>\n",
              "      <td>1.4</td>\n",
              "      <td>0.2</td>\n",
              "    </tr>\n",
              "    <tr>\n",
              "      <th>1</th>\n",
              "      <td>4.9</td>\n",
              "      <td>3.0</td>\n",
              "      <td>1.4</td>\n",
              "      <td>0.2</td>\n",
              "    </tr>\n",
              "    <tr>\n",
              "      <th>2</th>\n",
              "      <td>4.7</td>\n",
              "      <td>3.2</td>\n",
              "      <td>1.3</td>\n",
              "      <td>0.2</td>\n",
              "    </tr>\n",
              "    <tr>\n",
              "      <th>3</th>\n",
              "      <td>4.6</td>\n",
              "      <td>3.1</td>\n",
              "      <td>1.5</td>\n",
              "      <td>0.2</td>\n",
              "    </tr>\n",
              "    <tr>\n",
              "      <th>4</th>\n",
              "      <td>5.0</td>\n",
              "      <td>3.6</td>\n",
              "      <td>1.4</td>\n",
              "      <td>0.2</td>\n",
              "    </tr>\n",
              "  </tbody>\n",
              "</table>\n",
              "</div>\n",
              "      <button class=\"colab-df-convert\" onclick=\"convertToInteractive('df-5553ed63-7c20-4369-8678-054e8c72259f')\"\n",
              "              title=\"Convert this dataframe to an interactive table.\"\n",
              "              style=\"display:none;\">\n",
              "        \n",
              "  <svg xmlns=\"http://www.w3.org/2000/svg\" height=\"24px\"viewBox=\"0 0 24 24\"\n",
              "       width=\"24px\">\n",
              "    <path d=\"M0 0h24v24H0V0z\" fill=\"none\"/>\n",
              "    <path d=\"M18.56 5.44l.94 2.06.94-2.06 2.06-.94-2.06-.94-.94-2.06-.94 2.06-2.06.94zm-11 1L8.5 8.5l.94-2.06 2.06-.94-2.06-.94L8.5 2.5l-.94 2.06-2.06.94zm10 10l.94 2.06.94-2.06 2.06-.94-2.06-.94-.94-2.06-.94 2.06-2.06.94z\"/><path d=\"M17.41 7.96l-1.37-1.37c-.4-.4-.92-.59-1.43-.59-.52 0-1.04.2-1.43.59L10.3 9.45l-7.72 7.72c-.78.78-.78 2.05 0 2.83L4 21.41c.39.39.9.59 1.41.59.51 0 1.02-.2 1.41-.59l7.78-7.78 2.81-2.81c.8-.78.8-2.07 0-2.86zM5.41 20L4 18.59l7.72-7.72 1.47 1.35L5.41 20z\"/>\n",
              "  </svg>\n",
              "      </button>\n",
              "      \n",
              "  <style>\n",
              "    .colab-df-container {\n",
              "      display:flex;\n",
              "      flex-wrap:wrap;\n",
              "      gap: 12px;\n",
              "    }\n",
              "\n",
              "    .colab-df-convert {\n",
              "      background-color: #E8F0FE;\n",
              "      border: none;\n",
              "      border-radius: 50%;\n",
              "      cursor: pointer;\n",
              "      display: none;\n",
              "      fill: #1967D2;\n",
              "      height: 32px;\n",
              "      padding: 0 0 0 0;\n",
              "      width: 32px;\n",
              "    }\n",
              "\n",
              "    .colab-df-convert:hover {\n",
              "      background-color: #E2EBFA;\n",
              "      box-shadow: 0px 1px 2px rgba(60, 64, 67, 0.3), 0px 1px 3px 1px rgba(60, 64, 67, 0.15);\n",
              "      fill: #174EA6;\n",
              "    }\n",
              "\n",
              "    [theme=dark] .colab-df-convert {\n",
              "      background-color: #3B4455;\n",
              "      fill: #D2E3FC;\n",
              "    }\n",
              "\n",
              "    [theme=dark] .colab-df-convert:hover {\n",
              "      background-color: #434B5C;\n",
              "      box-shadow: 0px 1px 3px 1px rgba(0, 0, 0, 0.15);\n",
              "      filter: drop-shadow(0px 1px 2px rgba(0, 0, 0, 0.3));\n",
              "      fill: #FFFFFF;\n",
              "    }\n",
              "  </style>\n",
              "\n",
              "      <script>\n",
              "        const buttonEl =\n",
              "          document.querySelector('#df-5553ed63-7c20-4369-8678-054e8c72259f button.colab-df-convert');\n",
              "        buttonEl.style.display =\n",
              "          google.colab.kernel.accessAllowed ? 'block' : 'none';\n",
              "\n",
              "        async function convertToInteractive(key) {\n",
              "          const element = document.querySelector('#df-5553ed63-7c20-4369-8678-054e8c72259f');\n",
              "          const dataTable =\n",
              "            await google.colab.kernel.invokeFunction('convertToInteractive',\n",
              "                                                     [key], {});\n",
              "          if (!dataTable) return;\n",
              "\n",
              "          const docLinkHtml = 'Like what you see? Visit the ' +\n",
              "            '<a target=\"_blank\" href=https://colab.research.google.com/notebooks/data_table.ipynb>data table notebook</a>'\n",
              "            + ' to learn more about interactive tables.';\n",
              "          element.innerHTML = '';\n",
              "          dataTable['output_type'] = 'display_data';\n",
              "          await google.colab.output.renderOutput(dataTable, element);\n",
              "          const docLink = document.createElement('div');\n",
              "          docLink.innerHTML = docLinkHtml;\n",
              "          element.appendChild(docLink);\n",
              "        }\n",
              "      </script>\n",
              "    </div>\n",
              "  </div>\n",
              "  "
            ]
          },
          "metadata": {},
          "execution_count": 5
        }
      ]
    },
    {
      "cell_type": "code",
      "source": [
        "# 넘파이를 사용한 벡터 표현: 벡터를 열 개수가 하나인 2차원 배열 객체로 표현. 배열의 차원은 벡터의 차원과 다른 의미임\n",
        "x1 = np.array([[5.1],[3.5],[1.4],[0.2]])\n",
        "x1"
      ],
      "metadata": {
        "colab": {
          "base_uri": "https://localhost:8080/"
        },
        "id": "nBF2qjKefcu9",
        "outputId": "9040db63-edc6-40bc-f906-6f0b064747c1"
      },
      "execution_count": null,
      "outputs": [
        {
          "output_type": "execute_result",
          "data": {
            "text/plain": [
              "array([[5.1],\n",
              "       [3.5],\n",
              "       [1.4],\n",
              "       [0.2]])"
            ]
          },
          "metadata": {},
          "execution_count": 6
        }
      ]
    },
    {
      "cell_type": "code",
      "source": [
        "# 넘파이는 1차원 배열 객체도 대부분 벡터로 인정\n",
        "x1 = np.array([5.1, 3.5, 1.4, 0.2])\n",
        "x1"
      ],
      "metadata": {
        "colab": {
          "base_uri": "https://localhost:8080/"
        },
        "id": "oNQxPl7GfrFV",
        "outputId": "3c529952-b044-4c04-8e41-6d8e32357d8d"
      },
      "execution_count": null,
      "outputs": [
        {
          "output_type": "execute_result",
          "data": {
            "text/plain": [
              "array([5.1, 3.5, 1.4, 0.2])"
            ]
          },
          "metadata": {},
          "execution_count": 7
        }
      ]
    },
    {
      "cell_type": "markdown",
      "source": [
        "- 벡터 데이터를 처리하는 프로그램에 따라서 두가지 표현법 중 열 표기를 정확하게 요구하는 경우도 있으므로 주의\n",
        "- 사이킷런 패키지에서 벡터를 요구하는 경우에는 반드시 열 개수가 1개인 2차우너 배열 객체를 넣어야 함"
      ],
      "metadata": {
        "id": "o7oDkj6zf6pj"
      }
    },
    {
      "cell_type": "code",
      "source": [
        "# 한글 깨짐 해결방법 : 실행 후 Restart runtime \n",
        "!sudo apt-get install -y fonts-nanum\n",
        "!sudo fc-cache -fv\n",
        "!rm ~/.cache/matplotlib -rf"
      ],
      "metadata": {
        "colab": {
          "base_uri": "https://localhost:8080/"
        },
        "id": "_XbvZnBvgFlM",
        "outputId": "2252d171-04b8-4745-c0b0-76aba34555fd"
      },
      "execution_count": 64,
      "outputs": [
        {
          "output_type": "stream",
          "name": "stdout",
          "text": [
            "Reading package lists... Done\n",
            "Building dependency tree       \n",
            "Reading state information... Done\n",
            "The following package was automatically installed and is no longer required:\n",
            "  libnvidia-common-460\n",
            "Use 'sudo apt autoremove' to remove it.\n",
            "The following NEW packages will be installed:\n",
            "  fonts-nanum\n",
            "0 upgraded, 1 newly installed, 0 to remove and 20 not upgraded.\n",
            "Need to get 9,604 kB of archives.\n",
            "After this operation, 29.5 MB of additional disk space will be used.\n",
            "Get:1 http://archive.ubuntu.com/ubuntu bionic/universe amd64 fonts-nanum all 20170925-1 [9,604 kB]\n",
            "Fetched 9,604 kB in 1s (8,576 kB/s)\n",
            "debconf: unable to initialize frontend: Dialog\n",
            "debconf: (No usable dialog-like program is installed, so the dialog based frontend cannot be used. at /usr/share/perl5/Debconf/FrontEnd/Dialog.pm line 76, <> line 1.)\n",
            "debconf: falling back to frontend: Readline\n",
            "debconf: unable to initialize frontend: Readline\n",
            "debconf: (This frontend requires a controlling tty.)\n",
            "debconf: falling back to frontend: Teletype\n",
            "dpkg-preconfigure: unable to re-open stdin: \n",
            "Selecting previously unselected package fonts-nanum.\n",
            "(Reading database ... 124016 files and directories currently installed.)\n",
            "Preparing to unpack .../fonts-nanum_20170925-1_all.deb ...\n",
            "Unpacking fonts-nanum (20170925-1) ...\n",
            "Setting up fonts-nanum (20170925-1) ...\n",
            "Processing triggers for fontconfig (2.12.6-0ubuntu2) ...\n",
            "/usr/share/fonts: caching, new cache contents: 0 fonts, 1 dirs\n",
            "/usr/share/fonts/truetype: caching, new cache contents: 0 fonts, 3 dirs\n",
            "/usr/share/fonts/truetype/humor-sans: caching, new cache contents: 1 fonts, 0 dirs\n",
            "/usr/share/fonts/truetype/liberation: caching, new cache contents: 16 fonts, 0 dirs\n",
            "/usr/share/fonts/truetype/nanum: caching, new cache contents: 10 fonts, 0 dirs\n",
            "/usr/local/share/fonts: caching, new cache contents: 0 fonts, 0 dirs\n",
            "/root/.local/share/fonts: skipping, no such directory\n",
            "/root/.fonts: skipping, no such directory\n",
            "/var/cache/fontconfig: cleaning cache directory\n",
            "/root/.cache/fontconfig: not cleaning non-existent cache directory\n",
            "/root/.fontconfig: not cleaning non-existent cache directory\n",
            "fc-cache: succeeded\n"
          ]
        }
      ]
    },
    {
      "cell_type": "code",
      "source": [
        "import matplotlib.pyplot as plt\n",
        "\n",
        "plt.rc('font', family='NanumBarunGothic')"
      ],
      "metadata": {
        "id": "KnfTaLtZgWq0"
      },
      "execution_count": null,
      "outputs": []
    },
    {
      "cell_type": "code",
      "source": [
        "from sklearn.datasets import load_digits\n",
        "import matplotlib.pyplot as plt\n",
        "\n",
        "digits = load_digits()\n",
        "print(digits.images[0].shape)\n",
        "print(type(digits.images[0]))\n",
        "print(digits.images[0])\n",
        "plt.figure(figsize=(1,1))\n",
        "plt.imshow(digits.images[0])\n",
        "plt.grid(False);plt.xticks([]);plt.yticks([])\n",
        "plt.show"
      ],
      "metadata": {
        "colab": {
          "base_uri": "https://localhost:8080/",
          "height": 291
        },
        "id": "ndlv20dggpd6",
        "outputId": "3bb11f1b-9afe-42e7-ae33-a3f6cb92f8f1"
      },
      "execution_count": null,
      "outputs": [
        {
          "output_type": "stream",
          "name": "stdout",
          "text": [
            "(8, 8)\n",
            "<class 'numpy.ndarray'>\n",
            "[[ 0.  0.  5. 13.  9.  1.  0.  0.]\n",
            " [ 0.  0. 13. 15. 10. 15.  5.  0.]\n",
            " [ 0.  3. 15.  2.  0. 11.  8.  0.]\n",
            " [ 0.  4. 12.  0.  0.  8.  8.  0.]\n",
            " [ 0.  5.  8.  0.  0.  9.  8.  0.]\n",
            " [ 0.  4. 11.  0.  1. 12.  7.  0.]\n",
            " [ 0.  2. 14.  5. 10. 12.  0.  0.]\n",
            " [ 0.  0.  6. 13. 10.  0.  0.  0.]]\n"
          ]
        },
        {
          "output_type": "execute_result",
          "data": {
            "text/plain": [
              "<function matplotlib.pyplot.show(*args, **kw)>"
            ]
          },
          "metadata": {},
          "execution_count": 2
        },
        {
          "output_type": "display_data",
          "data": {
            "text/plain": [
              "<Figure size 72x72 with 1 Axes>"
            ],
            "image/png": "[encoded data removed]"
          },
          "metadata": {}
        }
      ]
    },
    {
      "cell_type": "markdown",
      "source": [
        "위에 import 부분은 실행시키지x"
      ],
      "metadata": {
        "id": "rt1FPpm3hU-x"
      }
    },
    {
      "cell_type": "markdown",
      "source": [
        "- 전치 연산"
      ],
      "metadata": {
        "id": "y3OE2mH4i6L2"
      }
    },
    {
      "cell_type": "code",
      "source": [
        "import numpy as np\n",
        "\n",
        "A = np.array([[11,12,13], [21,22,23]])\n",
        "A"
      ],
      "metadata": {
        "colab": {
          "base_uri": "https://localhost:8080/"
        },
        "id": "pVZ9SPVjjL5v",
        "outputId": "5d6e0399-b4f5-4f2c-b238-aeedcd9c6a6b"
      },
      "execution_count": null,
      "outputs": [
        {
          "output_type": "execute_result",
          "data": {
            "text/plain": [
              "array([[11, 12, 13],\n",
              "       [21, 22, 23]])"
            ]
          },
          "metadata": {},
          "execution_count": 3
        }
      ]
    },
    {
      "cell_type": "code",
      "source": [
        "# 전치 - 열과 행을 서로 바꿔버림\n",
        "A.T"
      ],
      "metadata": {
        "colab": {
          "base_uri": "https://localhost:8080/"
        },
        "id": "kwsqy-jKjS_m",
        "outputId": "dd032b83-4f4f-46b3-b1f0-d63b4fd5bc0a"
      },
      "execution_count": null,
      "outputs": [
        {
          "output_type": "execute_result",
          "data": {
            "text/plain": [
              "array([[11, 21],\n",
              "       [12, 22],\n",
              "       [13, 23]])"
            ]
          },
          "metadata": {},
          "execution_count": 4
        }
      ]
    },
    {
      "cell_type": "code",
      "source": [
        "x1 = np.array([5.1, 3.5, 1.4, 0.2])\n",
        "x1"
      ],
      "metadata": {
        "colab": {
          "base_uri": "https://localhost:8080/"
        },
        "id": "AWnDWTvcjVkO",
        "outputId": "d99981dc-ec6f-4bb5-ece1-aa4dae0f1db0"
      },
      "execution_count": null,
      "outputs": [
        {
          "output_type": "execute_result",
          "data": {
            "text/plain": [
              "array([5.1, 3.5, 1.4, 0.2])"
            ]
          },
          "metadata": {},
          "execution_count": 5
        }
      ]
    },
    {
      "cell_type": "code",
      "source": [
        "x1.T"
      ],
      "metadata": {
        "colab": {
          "base_uri": "https://localhost:8080/"
        },
        "id": "zVuzDrNajaCV",
        "outputId": "2cb76562-110c-44d6-86a7-ada3b45601c2"
      },
      "execution_count": null,
      "outputs": [
        {
          "output_type": "execute_result",
          "data": {
            "text/plain": [
              "array([5.1, 3.5, 1.4, 0.2])"
            ]
          },
          "metadata": {},
          "execution_count": 6
        }
      ]
    },
    {
      "cell_type": "markdown",
      "source": [
        "행으로 한걸 열로 표현한 것이다."
      ],
      "metadata": {
        "id": "nsMR8eiojbmV"
      }
    },
    {
      "cell_type": "markdown",
      "source": [
        "## Python Numpy 선형대수(중요)\n",
        "\n",
        "- 단위행렬 (Unit matrix): np.eye(n)\n",
        "- 대각행렬 (Diagonal matrix): np.diag(x)\n",
        "- 내적 (Dot product, Inner product): np.dot(a, b)\n",
        "- 대각합 (Trace): np.trace(x)\n",
        "- 행렬식 (Matrix Determinant): np.linalg.det(x)\n",
        "- 역행렬 (Inverse of a matrix): np.linalg.inv(x)\n",
        "- 고유값 (Eigenvalue), 고유벡터 (Eigenvector): w, v = np.linalg.eig(x)\n",
        "- 특이값 분해 (Singular Value Decomposition): u, s, vh = np.linalg.svd(A)\n",
        "- 연립방정식 해 풀기 (Solve a linear matrix equation): np.linalg.solve(a, b)\n",
        "- 최소자승 해 풀기 (Compute the Least-squares solution): m, c = np.linalg.lstsq(A, y, rcond=None)[0]\n",
        "\n",
        "https://rfriend.tistory.com/380\n"
      ],
      "metadata": {
        "id": "C6EH4mZCjl6k"
      }
    },
    {
      "cell_type": "markdown",
      "source": [
        "벡터 a를 벡터 b와 같은 방향의 성분과 그렇지 않은 성분으로 분해한다고 할 때 $|a|cosθ$의 길이는 벡터 b와 같은 방향의 성분 길이와 같다.  \n",
        "\n",
        "벡터 a와 b의 내적은 벡터 b의 길이와 벡터 a에서 벡터 b와 같은 방향의 성분 길이를 곱한 것이다.\n",
        "\n",
        "- 행렬 내적은 행렬 곱이며 두 행렬 A와 B의 내적은 np.dot()을 이용해 계산이 가능\n",
        "- 행렬 내적의 특성으로 왼쪽 행렬의 열개수와 오른쪽 행렬의 행개수가 동일해야 내적 연산 가능\n"
      ],
      "metadata": {
        "id": "m6_UHjbGlwg0"
      }
    },
    {
      "cell_type": "markdown",
      "source": [
        "## Python Numpy 선형대수\n",
        "\n",
        "- 단위행렬 (Unit matrix)\n",
        "  - np.eye(n)\n",
        "  - 단위행렬은 대각원소가 1이고, 나머지는 모두 0인 n차 정방행렬\n",
        "- 대각행렬 (Diagonal matrix)\n",
        "  - np.diag(x) \n",
        "  - 대각행렬은 대각성분 이외의 모든 성분이 모두 '0'인 n차 정방행렬\n",
        "- 내적 (Dot product, Inner product)\n",
        "  - np.dot(a, b)\n",
        "  - Python에서 '*' 를 사용한 두 행렬 간 곱은 원소 간 곱(element-wise product)을 반환\n",
        "- 대각합 (Trace)\n",
        "  - np.trace(x) \n",
        "  - 정방행렬의 대각에 위치한 원소를 전부 더해줍니다\n",
        "- 행렬식 (Matrix Determinant)\n",
        "  - np.linalg.det(x) \n",
        "  - 역행렬이 존재하는지 여부를 확인하는 방법. 행렬식이 '0'이 아니면 역행렬이 존재\n",
        "- 역행렬 (Inverse of a matrix)\n",
        "  - np.linalg.inv(x) \n",
        "  - 역행렬은 n차정방행렬 Amn과의 곱이 항등행렬 또는 단위행렬 In이 되는 n차정방행렬\n",
        "- 고유값 (Eigenvalue), 고유벡터 (Eigenvector)\n",
        "  - w, v = np.linalg.eig(x) \n",
        "  - 정방행렬 A에 대하여 Ax = λx  (상수 λ) 가 성립하는 0이 아닌 벡터 x가 존재할 때 상수 λ 를 행렬 A의 고유값 (eigenvalue), x 를 이에 대응하는 고유벡터 (eigenvector)\n",
        "- 특이값 분해 (Singular Value Decomposition)\n",
        "  - u, s, vh = np.linalg.svd(A) \n",
        "  - 특이값 분해는 고유값 분해(eigen decomposition)처럼 행렬을 대각화하는 한 방법. 차원축소, 데이터 압축 등에 사용\n",
        "- 연립방정식 해 풀기 (Solve a linear matrix equation)\n",
        "  - np.linalg.solve(a, b)\n",
        "  - <img src='https://t1.daumcdn.net/cfile/tistory/99FE4B3B5B7403642C' width=130>\n",
        "  - a = np.array([[4, 3], [3, 2]])\n",
        "  - b = np.array([23, 16])\n",
        "  - x = np.linalg.solve(a, b)\n",
        "  - print(x) >> [2. 5.]\n",
        "- 최소자승 해 풀기 (Compute the Least-squares solution)\n",
        "  - m, c = np.linalg.lstsq(A, y, rcond=None)[0] \n",
        "  - 회귀모형 적합할 때 최소자승법(Least-squares method)으로 잔차 제곱합을 최소화하는 회귀계수를 추정\n"
      ],
      "metadata": {
        "id": "gAwqx0aTliut"
      }
    },
    {
      "cell_type": "code",
      "source": [
        "from PIL import Image\n",
        "from IPython.display import Image\n",
        "\n",
        "image1 = Image(filename='/content/drive/MyDrive/내적.jpg')\n",
        "display(image1)"
      ],
      "metadata": {
        "colab": {
          "base_uri": "https://localhost:8080/",
          "height": 489
        },
        "id": "klAh2FnUlhNK",
        "outputId": "797668af-68d6-416f-f77a-e55e24c6783e"
      },
      "execution_count": null,
      "outputs": [
        {
          "output_type": "display_data",
          "data": {
            "image/jpeg": "[encoded data removed]",
            "text/plain": [
              "<IPython.core.display.Image object>"
            ]
          },
          "metadata": {}
        }
      ]
    },
    {
      "cell_type": "code",
      "source": [
        "# 영벡터\n",
        "np.zeros((3,1))"
      ],
      "metadata": {
        "colab": {
          "base_uri": "https://localhost:8080/"
        },
        "id": "joWV1sY3jpIO",
        "outputId": "a59321ef-3027-43c7-fe2e-efecb914266f"
      },
      "execution_count": 3,
      "outputs": [
        {
          "output_type": "execute_result",
          "data": {
            "text/plain": [
              "array([[0.],\n",
              "       [0.],\n",
              "       [0.]])"
            ]
          },
          "metadata": {},
          "execution_count": 3
        }
      ]
    },
    {
      "cell_type": "code",
      "source": [
        "# 일벡터\n",
        "np.ones((3,1))"
      ],
      "metadata": {
        "colab": {
          "base_uri": "https://localhost:8080/"
        },
        "id": "XBA2qYx0leSD",
        "outputId": "7981c060-f6da-4bb0-8690-cd06a5ae04ed"
      },
      "execution_count": 4,
      "outputs": [
        {
          "output_type": "execute_result",
          "data": {
            "text/plain": [
              "array([[1.],\n",
              "       [1.],\n",
              "       [1.]])"
            ]
          },
          "metadata": {},
          "execution_count": 4
        }
      ]
    },
    {
      "cell_type": "code",
      "source": [
        "# 정방 행렬/정사각형 행렬(Square Matrix): 같은 수의 행과 열을 갖는 행렬(n x n 행렬)\n",
        "np.arange(9).reshape(3,3)"
      ],
      "metadata": {
        "id": "NE29dpE4oqGH",
        "colab": {
          "base_uri": "https://localhost:8080/"
        },
        "outputId": "82a96cef-370b-44f9-b6bd-eddcfd803fb5"
      },
      "execution_count": 5,
      "outputs": [
        {
          "output_type": "execute_result",
          "data": {
            "text/plain": [
              "array([[0, 1, 2],\n",
              "       [3, 4, 5],\n",
              "       [6, 7, 8]])"
            ]
          },
          "metadata": {},
          "execution_count": 5
        }
      ]
    },
    {
      "cell_type": "code",
      "source": [
        "# 대각 정방행렬(diagonal matrix): 주대각선(principal diagonal) 원소들을 제외한 원소들이 모두 0인 정방행렬\n",
        "np.diag([1,2,3])"
      ],
      "metadata": {
        "colab": {
          "base_uri": "https://localhost:8080/"
        },
        "id": "UL_bfgf7NEUD",
        "outputId": "463a6fc2-573d-4f84-d695-ea6ea5e508ed"
      },
      "execution_count": 6,
      "outputs": [
        {
          "output_type": "execute_result",
          "data": {
            "text/plain": [
              "array([[1, 0, 0],\n",
              "       [0, 2, 0],\n",
              "       [0, 0, 3]])"
            ]
          },
          "metadata": {},
          "execution_count": 6
        }
      ]
    },
    {
      "cell_type": "code",
      "source": [
        "# 항등행렬: 단위 행렬(영어:unit matrix) 또는 항등 행렬(영어: indentity matrix)은 주대각선의 원소가 모두 1이며\n",
        "# 나머지 원소는 모두 0인 정사각 행렬\n",
        "np.identity(3)"
      ],
      "metadata": {
        "colab": {
          "base_uri": "https://localhost:8080/"
        },
        "id": "LOslYCT-NQPJ",
        "outputId": "02f38522-70dc-42ff-a5d5-6aa8502cdb73"
      },
      "execution_count": 7,
      "outputs": [
        {
          "output_type": "execute_result",
          "data": {
            "text/plain": [
              "array([[1., 0., 0.],\n",
              "       [0., 1., 0.],\n",
              "       [0., 0., 1.]])"
            ]
          },
          "metadata": {},
          "execution_count": 7
        }
      ]
    },
    {
      "cell_type": "code",
      "source": [
        "# Q. 대각합이 5인 항등행렬을 생성하기\n",
        "np.identity(5)"
      ],
      "metadata": {
        "colab": {
          "base_uri": "https://localhost:8080/"
        },
        "id": "2pVvGrRmNwJC",
        "outputId": "394010bc-7b38-4ae6-fb56-ad833bd0c8ab"
      },
      "execution_count": 9,
      "outputs": [
        {
          "output_type": "execute_result",
          "data": {
            "text/plain": [
              "array([[1., 0., 0., 0., 0.],\n",
              "       [0., 1., 0., 0., 0.],\n",
              "       [0., 0., 1., 0., 0.],\n",
              "       [0., 0., 0., 1., 0.],\n",
              "       [0., 0., 0., 0., 1.]])"
            ]
          },
          "metadata": {},
          "execution_count": 9
        }
      ]
    },
    {
      "cell_type": "code",
      "source": [
        "# 항등행렬\n",
        "np.eye(4)"
      ],
      "metadata": {
        "colab": {
          "base_uri": "https://localhost:8080/"
        },
        "id": "w6UEVaV3Nymy",
        "outputId": "a2266ff2-b020-4327-cebe-fc69cf71ca9a"
      },
      "execution_count": 8,
      "outputs": [
        {
          "output_type": "execute_result",
          "data": {
            "text/plain": [
              "array([[1., 0., 0., 0.],\n",
              "       [0., 1., 0., 0.],\n",
              "       [0., 0., 1., 0.],\n",
              "       [0., 0., 0., 1.]])"
            ]
          },
          "metadata": {},
          "execution_count": 8
        }
      ]
    },
    {
      "cell_type": "markdown",
      "source": [
        "벡터와 행렬의 연산\n",
        "- 벡터/행렬의 덧셈과 뺄셈 : 같은 위치에 있는 원소끼리 수행. 요소별 연산\n",
        "- 스칼라와 벡터/행렬의 곱셈\n",
        "- 브로드캐스팅 : 스칼라를 벡터로 변환한 연산을 허용\n",
        "- 벡터와 벡터의 곱셈. 내적\n",
        " - 두 벡터의 차원(길이)이 같아야 한다.\n",
        " - 앞의 벡터가 행벡터이고 뒤의 벡터가 열벡터여야 한다.\n",
        " - 내적의 결과는 스칼라 값이 됨. dot() 또는 @ 연산자로 계산"
      ],
      "metadata": {
        "id": "6W3nRFnuN5WZ"
      }
    },
    {
      "cell_type": "code",
      "source": [
        "x = np.array([10, 11, 12, 13, 14])\n",
        "y = np.array([0, 1, 2, 3, 4])"
      ],
      "metadata": {
        "id": "-I5VEwPJOXqx"
      },
      "execution_count": 11,
      "outputs": []
    },
    {
      "cell_type": "code",
      "source": [
        "np.array([[5,6],[7,8]]) + np.array([[10, 20], [30,40]]) - np.array([[1,2], [3,4]])"
      ],
      "metadata": {
        "colab": {
          "base_uri": "https://localhost:8080/"
        },
        "id": "-TAVpgEHO_4M",
        "outputId": "67c5532c-b495-4fd3-adfc-f9314aa441d0"
      },
      "execution_count": 12,
      "outputs": [
        {
          "output_type": "execute_result",
          "data": {
            "text/plain": [
              "array([[14, 24],\n",
              "       [34, 44]])"
            ]
          },
          "metadata": {},
          "execution_count": 12
        }
      ]
    },
    {
      "cell_type": "code",
      "source": [
        "# 스칼라와 벡터/행렬 곱셈\n",
        "x1 = np.array([10, 11, 12])\n",
        "np.dot(3, x1)"
      ],
      "metadata": {
        "colab": {
          "base_uri": "https://localhost:8080/"
        },
        "id": "zTtQMtZDPJV4",
        "outputId": "3e9fbd58-1f60-4df2-d4f0-73cb437ea04d"
      },
      "execution_count": 13,
      "outputs": [
        {
          "output_type": "execute_result",
          "data": {
            "text/plain": [
              "array([30, 33, 36])"
            ]
          },
          "metadata": {},
          "execution_count": 13
        }
      ]
    },
    {
      "cell_type": "code",
      "source": [
        "# 브로드캐스팅\n",
        "x1 = np.array([10, 11, 12])\n",
        "x1 - 10"
      ],
      "metadata": {
        "colab": {
          "base_uri": "https://localhost:8080/"
        },
        "id": "paoiJlAxPPc6",
        "outputId": "6426d72b-c933-4640-93db-9337479bc6f4"
      },
      "execution_count": 14,
      "outputs": [
        {
          "output_type": "execute_result",
          "data": {
            "text/plain": [
              "array([0, 1, 2])"
            ]
          },
          "metadata": {},
          "execution_count": 14
        }
      ]
    },
    {
      "cell_type": "code",
      "source": [
        "# 넘파이에서 벡터와 행렬의 내적은 dot() 또는 @ 연산자로 계산\n",
        "x = np.array([[1], [2], [3]])\n",
        "y = np.array([[4], [5], [6]])\n",
        "print(x)\n",
        "print(x.T, '\\n')\n",
        "print(y, '\\n')\n",
        "x.T @ y ## 또는 np.dot(x.T, y)"
      ],
      "metadata": {
        "colab": {
          "base_uri": "https://localhost:8080/"
        },
        "id": "c2M-4Y8EPVUB",
        "outputId": "e444ddfc-5583-49b6-d999-3a67c40e4621"
      },
      "execution_count": 17,
      "outputs": [
        {
          "output_type": "stream",
          "name": "stdout",
          "text": [
            "[[1]\n",
            " [2]\n",
            " [3]]\n",
            "[[1 2 3]] \n",
            "\n",
            "[[4]\n",
            " [5]\n",
            " [6]] \n",
            "\n"
          ]
        },
        {
          "output_type": "execute_result",
          "data": {
            "text/plain": [
              "array([[32]])"
            ]
          },
          "metadata": {},
          "execution_count": 17
        }
      ]
    },
    {
      "cell_type": "code",
      "source": [
        "# 넘파이에서는 1차원 배열끼리도 내적을 계산하는데 넘파이가 앞의 벡터는 행벡터이고 뒤의 열벡터라고 가정한다.\n",
        "# 1차원 ndarray는 전치연산이 정의되지 않느다.\n",
        "x = np.array([1,2,3])\n",
        "y = np.array([4,5,6])\n",
        "\n",
        "x @ y ## 또는 np.dot(x,y)"
      ],
      "metadata": {
        "colab": {
          "base_uri": "https://localhost:8080/"
        },
        "id": "v9cdnlcSPqvI",
        "outputId": "fb9debc2-b20a-470e-fd23-cb36b11c20e6"
      },
      "execution_count": 18,
      "outputs": [
        {
          "output_type": "execute_result",
          "data": {
            "text/plain": [
              "32"
            ]
          },
          "metadata": {},
          "execution_count": 18
        }
      ]
    },
    {
      "cell_type": "markdown",
      "source": [
        "- 가중합: 복수의 데이터를 단순히 합하는 것이 아니라 각각의 수에 어떤 가중치를 곱한 후 이 곱셈 결과들을 다시 합한 것을 의미\n",
        "- 벡터의 내적은 가중합을 계산할 때 사용될 수 있음\n",
        "- 가중평균: 가중치의 가중치값을 전체 가중치값의 합으로 나누면 가중평균이 됨"
      ],
      "metadata": {
        "id": "fUXyzraQQM64"
      }
    },
    {
      "cell_type": "code",
      "source": [
        "# p 주식가격, n 주식수 일때 매수금액을 내적으로 구하기\n",
        "p = np.array([100, 80, 50])\n",
        "n = np.array([3, 4, 5])\n",
        "\n",
        "print(p)\n",
        "print(n)\n",
        "np.dot(p.T, n)\n",
        "# p.T @ n"
      ],
      "metadata": {
        "colab": {
          "base_uri": "https://localhost:8080/"
        },
        "id": "XlVr2TS9Qd_J",
        "outputId": "a7266368-725a-40f9-98ca-f80a69294b8a"
      },
      "execution_count": 20,
      "outputs": [
        {
          "output_type": "stream",
          "name": "stdout",
          "text": [
            "[100  80  50]\n",
            "[3 4 5]\n"
          ]
        },
        {
          "output_type": "execute_result",
          "data": {
            "text/plain": [
              "870"
            ]
          },
          "metadata": {},
          "execution_count": 20
        }
      ]
    },
    {
      "cell_type": "markdown",
      "source": [
        "매수금액 870이 필요하다"
      ],
      "metadata": {
        "id": "wJyQC3Z8R1Ky"
      }
    },
    {
      "cell_type": "code",
      "source": [
        "# 행렬곱: x.dot(y), np.dot(x,y)\n",
        "x = np.arange(1,7).reshape(2,3)\n",
        "y = np.array([[6., 23], [-1, 7], [8, 9]])\n",
        "print(x)\n",
        "print(y)\n",
        "x.dot(y)"
      ],
      "metadata": {
        "colab": {
          "base_uri": "https://localhost:8080/"
        },
        "id": "qPOIGQEbQqP4",
        "outputId": "684bcfe3-1131-441e-aee9-b1aff6780077"
      },
      "execution_count": 21,
      "outputs": [
        {
          "output_type": "stream",
          "name": "stdout",
          "text": [
            "[[1 2 3]\n",
            " [4 5 6]]\n",
            "[[ 6. 23.]\n",
            " [-1.  7.]\n",
            " [ 8.  9.]]\n"
          ]
        },
        {
          "output_type": "execute_result",
          "data": {
            "text/plain": [
              "array([[ 28.,  64.],\n",
              "       [ 67., 181.]])"
            ]
          },
          "metadata": {},
          "execution_count": 21
        }
      ]
    },
    {
      "cell_type": "code",
      "source": [
        "np.dot(x, y)"
      ],
      "metadata": {
        "colab": {
          "base_uri": "https://localhost:8080/"
        },
        "id": "GnwyNqGtR-2O",
        "outputId": "eedc91a3-6684-4cec-d87f-191e2db59c8c"
      },
      "execution_count": 22,
      "outputs": [
        {
          "output_type": "execute_result",
          "data": {
            "text/plain": [
              "array([[ 28.,  64.],\n",
              "       [ 67., 181.]])"
            ]
          },
          "metadata": {},
          "execution_count": 22
        }
      ]
    },
    {
      "cell_type": "code",
      "source": [
        "from PIL import Image\n",
        "from IPython.display import Image\n",
        "\n",
        "# 행렬 곱을 응용하여 신경망에 적용 (1,2) (2,3) 각각의 2가 같아야하고 출력은 (1,3)이 된다.\n",
        "\n",
        "image = Image(filename='/content/drive/MyDrive/행렬곱.jpg')\n",
        "display(image)"
      ],
      "metadata": {
        "colab": {
          "base_uri": "https://localhost:8080/",
          "height": 600
        },
        "id": "nqJJtmQoSKh_",
        "outputId": "5104b569-de8a-49a1-931d-ff8590bd4aa9"
      },
      "execution_count": 23,
      "outputs": [
        {
          "output_type": "display_data",
          "data": {
            "image/jpeg": "[encoded data removed]",
            "text/plain": [
              "<IPython.core.display.Image object>"
            ]
          },
          "metadata": {}
        }
      ]
    },
    {
      "cell_type": "code",
      "source": [
        "x = np.arange(10)\n",
        "N = len(x)\n",
        "print(x)\n",
        "print(np.ones(N))\n",
        "print(N)\n",
        "print(x/N)\n",
        "np.ones(N) @ x/N"
      ],
      "metadata": {
        "colab": {
          "base_uri": "https://localhost:8080/"
        },
        "id": "emCLkqOGS_0M",
        "outputId": "804383d1-9a4e-47c1-d543-20d6f73719c4"
      },
      "execution_count": 24,
      "outputs": [
        {
          "output_type": "stream",
          "name": "stdout",
          "text": [
            "[0 1 2 3 4 5 6 7 8 9]\n",
            "[1. 1. 1. 1. 1. 1. 1. 1. 1. 1.]\n",
            "10\n",
            "[0.  0.1 0.2 0.3 0.4 0.5 0.6 0.7 0.8 0.9]\n"
          ]
        },
        {
          "output_type": "execute_result",
          "data": {
            "text/plain": [
              "4.5"
            ]
          },
          "metadata": {},
          "execution_count": 24
        }
      ]
    },
    {
      "cell_type": "code",
      "source": [
        "x.mean()"
      ],
      "metadata": {
        "colab": {
          "base_uri": "https://localhost:8080/"
        },
        "id": "OhL8n3oGXGNM",
        "outputId": "e29f73bd-a5ea-42ba-d65d-49cce34f6223"
      },
      "execution_count": 25,
      "outputs": [
        {
          "output_type": "execute_result",
          "data": {
            "text/plain": [
              "4.5"
            ]
          },
          "metadata": {},
          "execution_count": 25
        }
      ]
    },
    {
      "cell_type": "markdown",
      "source": [
        "- 유사도는 두 벡터가 닮은 정도를 정량적으로 나타낸 값으로 두 벡터가 비슷한 경우세는 유사도가 커진다.\n",
        "- 내적을 이요하면 코사인 유사도라는 유사도를 계산할 수 있다."
      ],
      "metadata": {
        "id": "2neEYZeDXHdu"
      }
    },
    {
      "cell_type": "code",
      "source": [
        "from sklearn.datasets import load_digits\n",
        "import matplotlib.gridspec as gridspec\n",
        "import matplotlib.pylab as plt\n",
        "\n",
        "digits = load_digits()\n",
        "d1 = digits.images[0]\n",
        "d2 = digits.images[10]\n",
        "d3 = digits.images[1]\n",
        "d4 = digits.images[11]\n",
        "v1 = d1.reshape(64, 1)\n",
        "v2 = d2.reshape(64, 1)\n",
        "v3 = d3.reshape(64, 1)\n",
        "v4 = d4.reshape(64, 1)\n",
        "\n",
        "plt.figure(figsize=(9, 9))\n",
        "gs = gridspec.GridSpec(1, 8, height_ratios=[1],\n",
        "                       width_ratios=[9, 1, 9, 1, 9, 1, 9, 1])\n",
        "for i in range(4):\n",
        "    plt.subplot(gs[2 * i])\n",
        "    plt.imshow(eval(\"d\" + str(i + 1)), aspect=1,\n",
        "               interpolation='nearest', cmap=plt.cm.bone_r)\n",
        "    plt.grid(False)\n",
        "    plt.xticks([])\n",
        "    plt.yticks([])\n",
        "    plt.title(\"image {}\".format(i + 1))\n",
        "    plt.subplot(gs[2 * i + 1])\n",
        "    plt.imshow(eval(\"v\" + str(i + 1)), aspect=0.25,\n",
        "               interpolation='nearest', cmap=plt.cm.bone_r)\n",
        "    plt.grid(False)\n",
        "    plt.xticks([])\n",
        "    plt.yticks([])\n",
        "    plt.title(\"vector {}\".format(i + 1))\n",
        "plt.tight_layout()\n",
        "plt.show()"
      ],
      "metadata": {
        "colab": {
          "base_uri": "https://localhost:8080/",
          "height": 197
        },
        "id": "UD4PKMsNYNSz",
        "outputId": "17d44b09-0b0d-4f53-8a9f-f229c889fcf2"
      },
      "execution_count": 2,
      "outputs": [
        {
          "output_type": "display_data",
          "data": {
            "text/plain": [
              "<Figure size 648x648 with 8 Axes>"
            ],
            "image/png": "[encoded data removed]"
          },
          "metadata": {}
        }
      ]
    },
    {
      "cell_type": "code",
      "source": [
        "# 0 이미자와 0 이미지의 내적값\n",
        "print(v1.T.shape)\n",
        "print(v2.shape)\n",
        "v1.T @ v2"
      ],
      "metadata": {
        "colab": {
          "base_uri": "https://localhost:8080/"
        },
        "id": "Hy1y7lofYbfk",
        "outputId": "5502770e-fe0a-42aa-c208-ffb4d0980b1c"
      },
      "execution_count": 28,
      "outputs": [
        {
          "output_type": "stream",
          "name": "stdout",
          "text": [
            "(1, 64)\n",
            "(64, 1)\n"
          ]
        },
        {
          "output_type": "execute_result",
          "data": {
            "text/plain": [
              "array([[3064.]])"
            ]
          },
          "metadata": {},
          "execution_count": 28
        }
      ]
    },
    {
      "cell_type": "code",
      "source": [
        "v1.T @ v3"
      ],
      "metadata": {
        "colab": {
          "base_uri": "https://localhost:8080/"
        },
        "id": "IX0V8U-fYlxr",
        "outputId": "a9ffbfe9-983d-4ca0-b5cd-c290bef12422"
      },
      "execution_count": 29,
      "outputs": [
        {
          "output_type": "execute_result",
          "data": {
            "text/plain": [
              "array([[1866.]])"
            ]
          },
          "metadata": {},
          "execution_count": 29
        }
      ]
    },
    {
      "cell_type": "code",
      "source": [
        "# 0 이미지와 1 이미지 또는 1이미지와 0 이미지의 내적값\n",
        "# 상대적으로 다른 이미지의 내적값은 같은 이미지의 내적값 보다 작다.\n",
        "(v1.T @ v3)[0][0], (v1.T @ v4)[0],[0], (v2.T @ v3)[0],[0], (v2.T @ v4)[0],[0]"
      ],
      "metadata": {
        "colab": {
          "base_uri": "https://localhost:8080/"
        },
        "id": "pFsw7q8JYqyU",
        "outputId": "81353125-dbfc-461c-f916-9c5ecbf3ba52"
      },
      "execution_count": 30,
      "outputs": [
        {
          "output_type": "execute_result",
          "data": {
            "text/plain": [
              "(1866.0, array([1883.]), [0], array([2421.]), [0], array([2479.]), [0])"
            ]
          },
          "metadata": {},
          "execution_count": 30
        }
      ]
    },
    {
      "cell_type": "markdown",
      "source": [
        "### 선형회귀 모형의 단점\n",
        "- 비선형적인 현실세계의 데이터를 잘 예측하지 못할 수 있다는 단점이 있음\n",
        "- 선형회귀 모형이 아닌 완전히 다른 모형을 쓰기 보다는 선형회귀 모형을 기반으로 여러 기법을 사용해 수정한 모형을 사용하는 것이 일반적임"
      ],
      "metadata": {
        "id": "31RQnH__ZFGL"
      }
    },
    {
      "cell_type": "code",
      "source": [
        "# 행렬과 행렬의 곱셈: 앞 행렬의 열의 수가 뒤 행렬의 행의 수와 일치해야 한다.\n",
        "A = np.array([[1,2,3], [4,5,6]])\n",
        "B = np.array([[1,2],[3,4], [5,6]])\n",
        "C1 = A @ B\n",
        "C2 = np.dot(A,B)\n",
        "\n",
        "print(C1, '\\n')\n",
        "print(C2)"
      ],
      "metadata": {
        "colab": {
          "base_uri": "https://localhost:8080/"
        },
        "id": "jud5xs5CZUXd",
        "outputId": "fbe6c1ff-4f67-49fb-b769-39df152ae5e6"
      },
      "execution_count": 32,
      "outputs": [
        {
          "output_type": "stream",
          "name": "stdout",
          "text": [
            "[[22 28]\n",
            " [49 64]] \n",
            "\n",
            "[[22 28]\n",
            " [49 64]]\n"
          ]
        }
      ]
    },
    {
      "cell_type": "code",
      "source": [
        "A = np.array([[1,2], [3,4]])\n",
        "B = np.array([[5,6], [7,8]])\n",
        "C = np.array([[9,8], [7,6]])"
      ],
      "metadata": {
        "id": "ul3rnHtrZzNC"
      },
      "execution_count": 33,
      "outputs": []
    },
    {
      "cell_type": "code",
      "source": [
        "# 교환 법칙이 성립하지 않음\n",
        "A @ B"
      ],
      "metadata": {
        "colab": {
          "base_uri": "https://localhost:8080/"
        },
        "id": "J1r2wDHbaN7M",
        "outputId": "0287ff63-cb19-4b96-a20b-d2599c3c35e9"
      },
      "execution_count": 34,
      "outputs": [
        {
          "output_type": "execute_result",
          "data": {
            "text/plain": [
              "array([[19, 22],\n",
              "       [43, 50]])"
            ]
          },
          "metadata": {},
          "execution_count": 34
        }
      ]
    },
    {
      "cell_type": "code",
      "source": [
        "B @ A"
      ],
      "metadata": {
        "colab": {
          "base_uri": "https://localhost:8080/"
        },
        "id": "sS_yxNUPaTFE",
        "outputId": "96b042d8-f73e-44e4-a3fb-a9d0b2c18450"
      },
      "execution_count": 35,
      "outputs": [
        {
          "output_type": "execute_result",
          "data": {
            "text/plain": [
              "array([[23, 34],\n",
              "       [31, 46]])"
            ]
          },
          "metadata": {},
          "execution_count": 35
        }
      ]
    },
    {
      "cell_type": "code",
      "source": [
        "# 분배법칙은 성립함\n",
        "A @ (B+C)"
      ],
      "metadata": {
        "colab": {
          "base_uri": "https://localhost:8080/"
        },
        "id": "sqbh3_IaaT-j",
        "outputId": "de58ad92-3372-41aa-8f6a-844024ca28b4"
      },
      "execution_count": 36,
      "outputs": [
        {
          "output_type": "execute_result",
          "data": {
            "text/plain": [
              "array([[42, 42],\n",
              "       [98, 98]])"
            ]
          },
          "metadata": {},
          "execution_count": 36
        }
      ]
    },
    {
      "cell_type": "code",
      "source": [
        "A @ B + A @ C"
      ],
      "metadata": {
        "colab": {
          "base_uri": "https://localhost:8080/"
        },
        "id": "YH1py5oCaXYB",
        "outputId": "0e3350eb-c57c-48b8-cb98-480e5c2adabd"
      },
      "execution_count": 37,
      "outputs": [
        {
          "output_type": "execute_result",
          "data": {
            "text/plain": [
              "array([[42, 42],\n",
              "       [98, 98]])"
            ]
          },
          "metadata": {},
          "execution_count": 37
        }
      ]
    },
    {
      "cell_type": "code",
      "source": [
        "(A + B) @ C"
      ],
      "metadata": {
        "colab": {
          "base_uri": "https://localhost:8080/"
        },
        "id": "8DxBxHGZaaQN",
        "outputId": "6d1e72e5-1ac0-41e4-8347-fcebe83ef624"
      },
      "execution_count": 38,
      "outputs": [
        {
          "output_type": "execute_result",
          "data": {
            "text/plain": [
              "array([[110,  96],\n",
              "       [174, 152]])"
            ]
          },
          "metadata": {},
          "execution_count": 38
        }
      ]
    },
    {
      "cell_type": "code",
      "source": [
        "A @ C + B @ C"
      ],
      "metadata": {
        "colab": {
          "base_uri": "https://localhost:8080/"
        },
        "id": "v-wiK9FJacCZ",
        "outputId": "3cf5aa33-8375-48a9-a363-1f702daf0da2"
      },
      "execution_count": 39,
      "outputs": [
        {
          "output_type": "execute_result",
          "data": {
            "text/plain": [
              "array([[110,  96],\n",
              "       [174, 152]])"
            ]
          },
          "metadata": {},
          "execution_count": 39
        }
      ]
    },
    {
      "cell_type": "code",
      "source": [
        "# 전치 연산도 덧셈, 뺄셈에 대한 분배 법칙이 성립함\n",
        "(A + B).T"
      ],
      "metadata": {
        "colab": {
          "base_uri": "https://localhost:8080/"
        },
        "id": "2i_IEMlJamRy",
        "outputId": "f009c871-a095-464b-af6a-081360f3bd64"
      },
      "execution_count": 40,
      "outputs": [
        {
          "output_type": "execute_result",
          "data": {
            "text/plain": [
              "array([[ 6, 10],\n",
              "       [ 8, 12]])"
            ]
          },
          "metadata": {},
          "execution_count": 40
        }
      ]
    },
    {
      "cell_type": "code",
      "source": [
        "A.T + B.T"
      ],
      "metadata": {
        "colab": {
          "base_uri": "https://localhost:8080/"
        },
        "id": "GriTKmzDaqjC",
        "outputId": "8c2d9e6f-c625-42a9-8dce-341be8bd829e"
      },
      "execution_count": 42,
      "outputs": [
        {
          "output_type": "execute_result",
          "data": {
            "text/plain": [
              "array([[ 6, 10],\n",
              "       [ 8, 12]])"
            ]
          },
          "metadata": {},
          "execution_count": 42
        }
      ]
    },
    {
      "cell_type": "code",
      "source": [
        "# 전치 연산과 곱셈의 경우에는 분배 법칙이 성립하지만 전치 연산이 분배되면서 곱셈의 순서가 바뀜\n",
        "(A @ B).T"
      ],
      "metadata": {
        "colab": {
          "base_uri": "https://localhost:8080/"
        },
        "id": "oJk2wKxLar1q",
        "outputId": "099022c6-5d29-43e8-b5c2-bd1c841f4a66"
      },
      "execution_count": 43,
      "outputs": [
        {
          "output_type": "execute_result",
          "data": {
            "text/plain": [
              "array([[19, 43],\n",
              "       [22, 50]])"
            ]
          },
          "metadata": {},
          "execution_count": 43
        }
      ]
    },
    {
      "cell_type": "code",
      "source": [
        "B.T @ A.T"
      ],
      "metadata": {
        "colab": {
          "base_uri": "https://localhost:8080/"
        },
        "id": "RtmJFVBZa1le",
        "outputId": "da45e2d7-069d-40fe-8518-106975804aea"
      },
      "execution_count": 44,
      "outputs": [
        {
          "output_type": "execute_result",
          "data": {
            "text/plain": [
              "array([[19, 43],\n",
              "       [22, 50]])"
            ]
          },
          "metadata": {},
          "execution_count": 44
        }
      ]
    },
    {
      "cell_type": "code",
      "source": [
        "# 항등행렬의 곱셈\n",
        "A = np.array([[1,2], [3,4]])\n",
        "I = np.eye(2)"
      ],
      "metadata": {
        "id": "X2yihWP2a26x"
      },
      "execution_count": 45,
      "outputs": []
    },
    {
      "cell_type": "code",
      "source": [
        "I"
      ],
      "metadata": {
        "colab": {
          "base_uri": "https://localhost:8080/"
        },
        "id": "3D2BpfjMa-PC",
        "outputId": "a345cc58-5977-4a27-d16d-c6dd65bd7e60"
      },
      "execution_count": 46,
      "outputs": [
        {
          "output_type": "execute_result",
          "data": {
            "text/plain": [
              "array([[1., 0.],\n",
              "       [0., 1.]])"
            ]
          },
          "metadata": {},
          "execution_count": 46
        }
      ]
    },
    {
      "cell_type": "code",
      "source": [
        "A @ I"
      ],
      "metadata": {
        "colab": {
          "base_uri": "https://localhost:8080/"
        },
        "id": "Xh3kY8Fla-vt",
        "outputId": "fcf8ff67-a24f-4123-bd0b-e4299c71853d"
      },
      "execution_count": 47,
      "outputs": [
        {
          "output_type": "execute_result",
          "data": {
            "text/plain": [
              "array([[1., 2.],\n",
              "       [3., 4.]])"
            ]
          },
          "metadata": {},
          "execution_count": 47
        }
      ]
    },
    {
      "cell_type": "code",
      "source": [
        "I @ A"
      ],
      "metadata": {
        "colab": {
          "base_uri": "https://localhost:8080/"
        },
        "id": "q0nfQlRlbBYy",
        "outputId": "84c20843-298d-4cb0-ec9a-25eca1481add"
      },
      "execution_count": 48,
      "outputs": [
        {
          "output_type": "execute_result",
          "data": {
            "text/plain": [
              "array([[1., 2.],\n",
              "       [3., 4.]])"
            ]
          },
          "metadata": {},
          "execution_count": 48
        }
      ]
    },
    {
      "cell_type": "markdown",
      "source": [
        "###  벡터의 선형조합은 다양한 분야에 응용\n",
        "- 두 이미지 벡터의 선형조합은 두 이미지를 섞어놓은 모핑 효과를 얻는 데 사용"
      ],
      "metadata": {
        "id": "GSWxR34nbCSh"
      }
    },
    {
      "cell_type": "code",
      "source": [
        "from sklearn.datasets import fetch_olivetti_faces\n",
        "\n",
        "faces = fetch_olivetti_faces()\n",
        "print(faces.images[6],'\\n')\n",
        "f, ax = plt.subplots(1, 1)\n",
        "\n",
        "ax.imshow(faces.images[6], cmap=plt.cm.bone)\n",
        "ax.grid(False)\n",
        "ax.set_xticks([])\n",
        "ax.set_yticks([])\n",
        "ax.set_title(\"image 1: $x_1$\")"
      ],
      "metadata": {
        "colab": {
          "base_uri": "https://localhost:8080/",
          "height": 436
        },
        "id": "SVzYpeigbNNA",
        "outputId": "e5e12918-760b-4ce9-d96c-d75f951beee0"
      },
      "execution_count": 3,
      "outputs": [
        {
          "output_type": "stream",
          "name": "stdout",
          "text": [
            "[[0.3305785  0.30578512 0.3305785  ... 0.3966942  0.37190083 0.28512397]\n",
            " [0.32231405 0.32231405 0.29752067 ... 0.41322315 0.338843   0.2603306 ]\n",
            " [0.3264463  0.30991736 0.30578512 ... 0.40495867 0.36363637 0.27272728]\n",
            " ...\n",
            " [0.16115703 0.16528925 0.1570248  ... 0.14049587 0.1570248  0.16115703]\n",
            " [0.1570248  0.17768595 0.16115703 ... 0.14049587 0.1570248  0.1570248 ]\n",
            " [0.17768595 0.1694215  0.16528925 ... 0.1446281  0.15289256 0.15289256]] \n",
            "\n"
          ]
        },
        {
          "output_type": "execute_result",
          "data": {
            "text/plain": [
              "Text(0.5, 1.0, 'image 1: $x_1$')"
            ]
          },
          "metadata": {},
          "execution_count": 3
        },
        {
          "output_type": "display_data",
          "data": {
            "text/plain": [
              "<Figure size 432x288 with 1 Axes>"
            ],
            "image/png": "[encoded data removed]"
          },
          "metadata": {}
        }
      ]
    },
    {
      "cell_type": "code",
      "source": [
        "from sklearn.datasets import fetch_olivetti_faces\n",
        "\n",
        "faces = fetch_olivetti_faces()\n",
        "\n",
        "f, ax = plt.subplots(1, 3)\n",
        "\n",
        "ax[0].imshow(faces.images[6], cmap=plt.cm.bone)\n",
        "ax[0].grid(False)\n",
        "ax[0].set_xticks([])\n",
        "ax[0].set_yticks([])\n",
        "ax[0].set_title(\"image 1: $x_1$\")\n",
        "\n",
        "ax[1].imshow(faces.images[10], cmap=plt.cm.bone)\n",
        "ax[1].grid(False)\n",
        "ax[1].set_xticks([])\n",
        "ax[1].set_yticks([])\n",
        "ax[1].set_title(\"image 2: $x_2$\")\n",
        "\n",
        "new_face = 0.7 * faces.images[6] + 0.3 * faces.images[10]\n",
        "ax[2].imshow(new_face, cmap=plt.cm.bone)\n",
        "ax[2].grid(False)\n",
        "ax[2].set_xticks([])\n",
        "ax[2].set_yticks([])\n",
        "ax[2].set_title(\"image 3: $0.7x_1 + 0.3x_2$\")\n",
        "\n",
        "plt.show()"
      ],
      "metadata": {
        "colab": {
          "base_uri": "https://localhost:8080/",
          "height": 151
        },
        "id": "9qluy4pHbTWB",
        "outputId": "2b5382a0-9b99-444a-cf6a-067845ffbf7f"
      },
      "execution_count": 4,
      "outputs": [
        {
          "output_type": "display_data",
          "data": {
            "text/plain": [
              "<Figure size 432x288 with 3 Axes>"
            ],
            "image/png": "[encoded data removed]"
          },
          "metadata": {}
        }
      ]
    },
    {
      "cell_type": "code",
      "source": [
        "faces.images[6].shape"
      ],
      "metadata": {
        "colab": {
          "base_uri": "https://localhost:8080/"
        },
        "id": "QajNmHFYbWtR",
        "outputId": "9b95faff-493e-4f28-812d-6263c7706cd9"
      },
      "execution_count": 52,
      "outputs": [
        {
          "output_type": "execute_result",
          "data": {
            "text/plain": [
              "(64, 64)"
            ]
          },
          "metadata": {},
          "execution_count": 52
        }
      ]
    },
    {
      "cell_type": "code",
      "source": [
        "x = np.array([1,2,3])\n",
        "A = np.arange(1, 10).reshape(3,3)\n",
        "print(x, '\\n')\n",
        "print(A, '\\n')\n",
        "print(x @ A, '\\n')\n",
        "print(x @ A @ x)"
      ],
      "metadata": {
        "colab": {
          "base_uri": "https://localhost:8080/"
        },
        "id": "EZ-k6zS0bcRB",
        "outputId": "ab029b1d-c569-4126-abed-f3b406b74e2f"
      },
      "execution_count": 54,
      "outputs": [
        {
          "output_type": "stream",
          "name": "stdout",
          "text": [
            "[1 2 3] \n",
            "\n",
            "[[1 2 3]\n",
            " [4 5 6]\n",
            " [7 8 9]] \n",
            "\n",
            "[30 36 42] \n",
            "\n",
            "228\n"
          ]
        }
      ]
    },
    {
      "cell_type": "code",
      "source": [
        "x = np.array([30, 36, 42])\n",
        "y = np.array([1,2,3])\n",
        "print(x.T, '\\n')\n",
        "print(x.T @ y, '\\n')\n",
        "print(x @ y)"
      ],
      "metadata": {
        "colab": {
          "base_uri": "https://localhost:8080/"
        },
        "id": "QxaAX6Pzbo0h",
        "outputId": "b883136d-d63a-4f71-ed80-c25b7c449b21"
      },
      "execution_count": 55,
      "outputs": [
        {
          "output_type": "stream",
          "name": "stdout",
          "text": [
            "[30 36 42] \n",
            "\n",
            "228 \n",
            "\n",
            "228\n"
          ]
        }
      ]
    },
    {
      "cell_type": "markdown",
      "source": [
        "- 벡터의 놈은 다음 4가지 성질을 만족하면서 벡터에서 실수 값을 연결하는 함수로 정의하고, \\||x||로 표기한다.\n",
        "\n",
        "           1. ||x||은 음수가 아닌 실수값이다. 즉, ||x||>=0\n",
        "           2. x = 0일때만 ||x|| = 0 이다.\n",
        "           3. 스칼라 a에 대해서 ||ax|| = |a|||x|| 가 성립한다.\n",
        "           4. ||x+y|| <= ||x|| + ||y|| 이 성립한다..\n",
        "\n",
        "- 위 4가지 성질을 만족하기만 하면 놈이라고 할 수 있는데, 많이 사용되는 놈은 다음 세 가지이다. 놈을 구별하기 위하여 아래 첨자를 사용하고, $||x||_1을 1-놈, ||x||_2 를 2-놈, ||x||_\\infty를 3-놈$이라고 한다.\n",
        "- 1-놈은 벡터 x의 성분의 절대값을 모두 더한 것으로, 2-놈은 벡터의 기하학적 길이로, $\\infty-놈$은 벡터 성분 중에서 크기가 제일 큰 값으로 정의한다.\n",
        "- p = 2인 경우가 가장 많이 쓰이므로 p값 표기가 없는 경우 p=2인 프로베니우스 놈을 사용한다.\n",
        "\n",
        "https://bskyvision.com/825  \n",
        "https://pasus.tistory.com/34\n"
      ],
      "metadata": {
        "id": "HYYYwfwLb8c4"
      }
    },
    {
      "cell_type": "code",
      "source": [
        "import numpy as np\n",
        "\n",
        "A = (np.arange(9)-4).reshape((3,3))\n",
        "A"
      ],
      "metadata": {
        "colab": {
          "base_uri": "https://localhost:8080/"
        },
        "id": "BD24R3Tycgel",
        "outputId": "5e3da0a8-e894-4214-ddc3-ca597da19987"
      },
      "execution_count": 5,
      "outputs": [
        {
          "output_type": "execute_result",
          "data": {
            "text/plain": [
              "array([[-4, -3, -2],\n",
              "       [-1,  0,  1],\n",
              "       [ 2,  3,  4]])"
            ]
          },
          "metadata": {},
          "execution_count": 5
        }
      ]
    },
    {
      "cell_type": "code",
      "source": [
        "np.linalg.norm(A) # 벡터의 놈 구하기"
      ],
      "metadata": {
        "colab": {
          "base_uri": "https://localhost:8080/"
        },
        "id": "IxGnOzg2dQkC",
        "outputId": "c390f4da-8423-4b73-d2d8-00e29672da7a"
      },
      "execution_count": 6,
      "outputs": [
        {
          "output_type": "execute_result",
          "data": {
            "text/plain": [
              "7.745966692414834"
            ]
          },
          "metadata": {},
          "execution_count": 6
        }
      ]
    },
    {
      "cell_type": "code",
      "source": [
        "a = np.array([1,3,5,7])\n",
        "\n",
        "# 1-norm\n",
        "n1 = np.linalg.norm(a,1) # 16.0\n",
        "print(n1, '\\n')\n",
        "\n",
        "# 2-norm(frobenius norm)\n",
        "n2 = np.linalg.norm(a, 2) # 9.16515138991168\n",
        "print(n2, '\\n')\n",
        "\n",
        "# infinity-norm  # 3-norm\n",
        "np.linalg.norm(a, np.inf) #7.0"
      ],
      "metadata": {
        "colab": {
          "base_uri": "https://localhost:8080/"
        },
        "id": "eR9HwnTpdTwy",
        "outputId": "5ea308bb-c543-4da4-f796-2e3a5ec80be1"
      },
      "execution_count": 7,
      "outputs": [
        {
          "output_type": "stream",
          "name": "stdout",
          "text": [
            "16.0 \n",
            "\n",
            "9.16515138991168 \n",
            "\n"
          ]
        },
        {
          "output_type": "execute_result",
          "data": {
            "text/plain": [
              "7.0"
            ]
          },
          "metadata": {},
          "execution_count": 7
        }
      ]
    },
    {
      "cell_type": "code",
      "source": [
        "np.eye(3)"
      ],
      "metadata": {
        "colab": {
          "base_uri": "https://localhost:8080/"
        },
        "id": "fAy9vFcSdsbn",
        "outputId": "50cd9522-532d-4454-8972-1cd389708beb"
      },
      "execution_count": 8,
      "outputs": [
        {
          "output_type": "execute_result",
          "data": {
            "text/plain": [
              "array([[1., 0., 0.],\n",
              "       [0., 1., 0.],\n",
              "       [0., 0., 1.]])"
            ]
          },
          "metadata": {},
          "execution_count": 8
        }
      ]
    },
    {
      "cell_type": "code",
      "source": [
        "# 대각합 계산\n",
        "np.trace(np.eye(3))"
      ],
      "metadata": {
        "colab": {
          "base_uri": "https://localhost:8080/"
        },
        "id": "qAmp7xLidtxv",
        "outputId": "a518a0cb-970d-44a5-8853-e63c34fc01e4"
      },
      "execution_count": 9,
      "outputs": [
        {
          "output_type": "execute_result",
          "data": {
            "text/plain": [
              "3.0"
            ]
          },
          "metadata": {},
          "execution_count": 9
        }
      ]
    },
    {
      "cell_type": "markdown",
      "source": [
        "행렬식\n",
        "- 행렬식의 기하학적 성질 : 부피\n",
        "\n",
        "https://ratsgo.github.io/linear%20algebra/2017/05/21/determinants/ <br>\n",
        "https://www.youtube.com/watch?v=fuVMiyahzH4\n"
      ],
      "metadata": {
        "id": "gtjOYPd3eJWS"
      }
    },
    {
      "cell_type": "code",
      "source": [
        "import numpy.linalg as LA\n",
        "\n",
        "d = np.array([[1,0], [0,1]])\n",
        "LA.det(d)"
      ],
      "metadata": {
        "colab": {
          "base_uri": "https://localhost:8080/"
        },
        "id": "fBZMsg-ge2NI",
        "outputId": "0176e31f-14f9-4805-94ed-db5df68f790a"
      },
      "execution_count": 10,
      "outputs": [
        {
          "output_type": "execute_result",
          "data": {
            "text/plain": [
              "1.0"
            ]
          },
          "metadata": {},
          "execution_count": 10
        }
      ]
    },
    {
      "cell_type": "code",
      "source": [
        "e = np.array([[1,0,0],\n",
        "              [0,1,0]])\n",
        "LA.det(e)"
      ],
      "metadata": {
        "colab": {
          "base_uri": "https://localhost:8080/",
          "height": 401
        },
        "id": "Ioh4eEArgx0u",
        "outputId": "0ac8d531-97d3-4d3a-9a90-4b3467ffd1a2"
      },
      "execution_count": 11,
      "outputs": [
        {
          "output_type": "error",
          "ename": "LinAlgError",
          "evalue": "ignored",
          "traceback": [
            "\u001b[0;31m---------------------------------------------------------------------------\u001b[0m",
            "\u001b[0;31mLinAlgError\u001b[0m                               Traceback (most recent call last)",
            "\u001b[0;32m<ipython-input-11-95255917d7df>\u001b[0m in \u001b[0;36m<module>\u001b[0;34m\u001b[0m\n\u001b[1;32m      1\u001b[0m e = np.array([[1,0,0],\n\u001b[1;32m      2\u001b[0m               [0,1,0]])\n\u001b[0;32m----> 3\u001b[0;31m \u001b[0mLA\u001b[0m\u001b[0;34m.\u001b[0m\u001b[0mdet\u001b[0m\u001b[0;34m(\u001b[0m\u001b[0me\u001b[0m\u001b[0;34m)\u001b[0m\u001b[0;34m\u001b[0m\u001b[0;34m\u001b[0m\u001b[0m\n\u001b[0m",
            "\u001b[0;32m<__array_function__ internals>\u001b[0m in \u001b[0;36mdet\u001b[0;34m(*args, **kwargs)\u001b[0m\n",
            "\u001b[0;32m/usr/local/lib/python3.8/dist-packages/numpy/linalg/linalg.py\u001b[0m in \u001b[0;36mdet\u001b[0;34m(a)\u001b[0m\n\u001b[1;32m   2153\u001b[0m     \u001b[0ma\u001b[0m \u001b[0;34m=\u001b[0m \u001b[0masarray\u001b[0m\u001b[0;34m(\u001b[0m\u001b[0ma\u001b[0m\u001b[0;34m)\u001b[0m\u001b[0;34m\u001b[0m\u001b[0;34m\u001b[0m\u001b[0m\n\u001b[1;32m   2154\u001b[0m     \u001b[0m_assert_stacked_2d\u001b[0m\u001b[0;34m(\u001b[0m\u001b[0ma\u001b[0m\u001b[0;34m)\u001b[0m\u001b[0;34m\u001b[0m\u001b[0;34m\u001b[0m\u001b[0m\n\u001b[0;32m-> 2155\u001b[0;31m     \u001b[0m_assert_stacked_square\u001b[0m\u001b[0;34m(\u001b[0m\u001b[0ma\u001b[0m\u001b[0;34m)\u001b[0m\u001b[0;34m\u001b[0m\u001b[0;34m\u001b[0m\u001b[0m\n\u001b[0m\u001b[1;32m   2156\u001b[0m     \u001b[0mt\u001b[0m\u001b[0;34m,\u001b[0m \u001b[0mresult_t\u001b[0m \u001b[0;34m=\u001b[0m \u001b[0m_commonType\u001b[0m\u001b[0;34m(\u001b[0m\u001b[0ma\u001b[0m\u001b[0;34m)\u001b[0m\u001b[0;34m\u001b[0m\u001b[0;34m\u001b[0m\u001b[0m\n\u001b[1;32m   2157\u001b[0m     \u001b[0msignature\u001b[0m \u001b[0;34m=\u001b[0m \u001b[0;34m'D->D'\u001b[0m \u001b[0;32mif\u001b[0m \u001b[0misComplexType\u001b[0m\u001b[0;34m(\u001b[0m\u001b[0mt\u001b[0m\u001b[0;34m)\u001b[0m \u001b[0;32melse\u001b[0m \u001b[0;34m'd->d'\u001b[0m\u001b[0;34m\u001b[0m\u001b[0;34m\u001b[0m\u001b[0m\n",
            "\u001b[0;32m/usr/local/lib/python3.8/dist-packages/numpy/linalg/linalg.py\u001b[0m in \u001b[0;36m_assert_stacked_square\u001b[0;34m(*arrays)\u001b[0m\n\u001b[1;32m    201\u001b[0m         \u001b[0mm\u001b[0m\u001b[0;34m,\u001b[0m \u001b[0mn\u001b[0m \u001b[0;34m=\u001b[0m \u001b[0ma\u001b[0m\u001b[0;34m.\u001b[0m\u001b[0mshape\u001b[0m\u001b[0;34m[\u001b[0m\u001b[0;34m-\u001b[0m\u001b[0;36m2\u001b[0m\u001b[0;34m:\u001b[0m\u001b[0;34m]\u001b[0m\u001b[0;34m\u001b[0m\u001b[0;34m\u001b[0m\u001b[0m\n\u001b[1;32m    202\u001b[0m         \u001b[0;32mif\u001b[0m \u001b[0mm\u001b[0m \u001b[0;34m!=\u001b[0m \u001b[0mn\u001b[0m\u001b[0;34m:\u001b[0m\u001b[0;34m\u001b[0m\u001b[0;34m\u001b[0m\u001b[0m\n\u001b[0;32m--> 203\u001b[0;31m             \u001b[0;32mraise\u001b[0m \u001b[0mLinAlgError\u001b[0m\u001b[0;34m(\u001b[0m\u001b[0;34m'Last 2 dimensions of the array must be square'\u001b[0m\u001b[0;34m)\u001b[0m\u001b[0;34m\u001b[0m\u001b[0;34m\u001b[0m\u001b[0m\n\u001b[0m\u001b[1;32m    204\u001b[0m \u001b[0;34m\u001b[0m\u001b[0m\n\u001b[1;32m    205\u001b[0m \u001b[0;32mdef\u001b[0m \u001b[0m_assert_finite\u001b[0m\u001b[0;34m(\u001b[0m\u001b[0;34m*\u001b[0m\u001b[0marrays\u001b[0m\u001b[0;34m)\u001b[0m\u001b[0;34m:\u001b[0m\u001b[0;34m\u001b[0m\u001b[0;34m\u001b[0m\u001b[0m\n",
            "\u001b[0;31mLinAlgError\u001b[0m: Last 2 dimensions of the array must be square"
          ]
        }
      ]
    },
    {
      "cell_type": "markdown",
      "source": [
        "출력결과 에러 발생"
      ],
      "metadata": {
        "id": "jSUAJ6uJg3OG"
      }
    },
    {
      "cell_type": "code",
      "source": [
        "# 행렬식: 절댓값은 부피\n",
        "# 행렬식이 0이라는 것은 도형의 부피가 0이며 행렬을 구성하는 벡터가 서로 동일선상에 있다는 것을 의미\n",
        "A = np.array([[1,2,3], [4,5,6],[7,8,9]])\n",
        "print(A)\n",
        "np.linalg.det(A)"
      ],
      "metadata": {
        "colab": {
          "base_uri": "https://localhost:8080/"
        },
        "id": "VYseGO3Kg8GW",
        "outputId": "191da20d-18fd-4be2-8ab1-e7922dfd983b"
      },
      "execution_count": 12,
      "outputs": [
        {
          "output_type": "stream",
          "name": "stdout",
          "text": [
            "[[1 2 3]\n",
            " [4 5 6]\n",
            " [7 8 9]]\n"
          ]
        },
        {
          "output_type": "execute_result",
          "data": {
            "text/plain": [
              "0.0"
            ]
          },
          "metadata": {},
          "execution_count": 12
        }
      ]
    },
    {
      "cell_type": "code",
      "source": [
        "import numpy.linalg as LA\n",
        "\n",
        "a = np.arange(25).reshape(5,5)\n",
        "print(a)\n",
        "np.linalg.det(A)"
      ],
      "metadata": {
        "colab": {
          "base_uri": "https://localhost:8080/"
        },
        "id": "4DF0DxGhhI6u",
        "outputId": "30684e37-8482-44f6-8123-a31d5d24302a"
      },
      "execution_count": 14,
      "outputs": [
        {
          "output_type": "stream",
          "name": "stdout",
          "text": [
            "[[ 0  1  2  3  4]\n",
            " [ 5  6  7  8  9]\n",
            " [10 11 12 13 14]\n",
            " [15 16 17 18 19]\n",
            " [20 21 22 23 24]]\n"
          ]
        },
        {
          "output_type": "execute_result",
          "data": {
            "text/plain": [
              "0.0"
            ]
          },
          "metadata": {},
          "execution_count": 14
        }
      ]
    },
    {
      "cell_type": "code",
      "source": [
        "import numpy.linalg as load_digits\n",
        "a = np.arange(25).reshape(5,5)\n",
        "print(a)\n",
        "\n",
        "print(LA.det(a))"
      ],
      "metadata": {
        "colab": {
          "base_uri": "https://localhost:8080/"
        },
        "id": "-FAiP2vxhQeN",
        "outputId": "d310aef6-bb35-4718-9c4f-2e74bd54b3b5"
      },
      "execution_count": 15,
      "outputs": [
        {
          "output_type": "stream",
          "name": "stdout",
          "text": [
            "[[ 0  1  2  3  4]\n",
            " [ 5  6  7  8  9]\n",
            " [10 11 12 13 14]\n",
            " [15 16 17 18 19]\n",
            " [20 21 22 23 24]]\n",
            "0.0\n"
          ]
        }
      ]
    },
    {
      "cell_type": "code",
      "source": [
        "e = np.eye(5)\n",
        "print(LA.det(e))"
      ],
      "metadata": {
        "colab": {
          "base_uri": "https://localhost:8080/"
        },
        "id": "R_8Com9nhtIe",
        "outputId": "af63944c-0795-4eb7-9e4f-a230d53fae87"
      },
      "execution_count": 16,
      "outputs": [
        {
          "output_type": "stream",
          "name": "stdout",
          "text": [
            "1.0\n"
          ]
        }
      ]
    },
    {
      "cell_type": "markdown",
      "source": [
        "선형 연립방정식\n",
        "- 선형예측모형은 입력 데이터 벡터와 가중치 벡터의 내적으로 계산된 예측값이 실제 출력 데이터와 유사한 값을 출력하도록 하는 모형\n",
        "- 연립방정식과 역행렬을 이용하여 선형 예측 모형의 가중치 벡터를 구할 수 있다.\n",
        "역행렬\n",
        "- 정방행렬에 대한 역행렬은 원래의 행렬과 다음 관계를 만족하는 정방행렬을 의미 $A^{-1}A = AA^{-1} = I$, I는 항등행렬\n"
      ],
      "metadata": {
        "id": "HsWdYHxxhxcG"
      }
    },
    {
      "cell_type": "code",
      "source": [
        "# 역행렬: 어떤 행렬 A와 곱했을 때 곱셈에 대한 항등원인 단위행렬 E가 나오는 행렬을 행렬 A의 역행렬이라 함\n",
        "# np.linalg.inv(x)\n",
        "\n",
        "np.random.seed(0)\n",
        "mt1 = np.random.randint(1,4,size=(3,3))\n",
        "mt1\n",
        "\n",
        "mt2 = np.linalg.inv(mt1)\n",
        "mt2"
      ],
      "metadata": {
        "colab": {
          "base_uri": "https://localhost:8080/"
        },
        "id": "12CIWe7lkwdU",
        "outputId": "994ca042-b658-4952-c255-d1fda8b44f62"
      },
      "execution_count": 17,
      "outputs": [
        {
          "output_type": "execute_result",
          "data": {
            "text/plain": [
              "array([[ 7., -1., -4.],\n",
              "       [-1.,  0.,  1.],\n",
              "       [-4.,  1.,  2.]])"
            ]
          },
          "metadata": {},
          "execution_count": 17
        }
      ]
    },
    {
      "cell_type": "code",
      "source": [
        "np.dot(mt1, mt2)"
      ],
      "metadata": {
        "colab": {
          "base_uri": "https://localhost:8080/"
        },
        "id": "dzzE9jRhlE8b",
        "outputId": "0b8b6ed3-126c-4ee7-f8b9-38131157cab6"
      },
      "execution_count": 18,
      "outputs": [
        {
          "output_type": "execute_result",
          "data": {
            "text/plain": [
              "array([[1., 0., 0.],\n",
              "       [0., 1., 0.],\n",
              "       [0., 0., 1.]])"
            ]
          },
          "metadata": {},
          "execution_count": 18
        }
      ]
    },
    {
      "cell_type": "code",
      "source": [
        "# Q. 아래 두 행렬을 np.arange, reshape를 이용해서 생성 긱긱 a1, b1으로 저장하고\n",
        "# 행렬 내적을 계산한 결과를 출력하세요\n",
        "\n",
        "[[1 2 3]\n",
        " [4,5,6]]\n",
        "\n",
        " [[10 11]\n",
        "  [12 13]\n",
        "  [14,15]]"
      ],
      "metadata": {
        "id": "bQnXiwLnlG88"
      },
      "execution_count": null,
      "outputs": []
    },
    {
      "cell_type": "code",
      "source": [
        "# A.\n",
        "a = np.arange(1,7).reshape(2,3)\n",
        "b = np.arange(10,16).reshape(3,2)\n",
        "ab_product = np.dot(a,b)\n",
        "print(ab_product)"
      ],
      "metadata": {
        "colab": {
          "base_uri": "https://localhost:8080/"
        },
        "id": "ZUGsCjnXle5X",
        "outputId": "af8ae8e7-35f3-4dca-b34a-7d73797cc4f8"
      },
      "execution_count": 21,
      "outputs": [
        {
          "output_type": "stream",
          "name": "stdout",
          "text": [
            "[[ 76  82]\n",
            " [184 199]]\n"
          ]
        }
      ]
    },
    {
      "cell_type": "code",
      "source": [
        "import numpy as np\n",
        "\n",
        "arr = np.matrix([[1,3], [5,7]])\n",
        "print(arr, '\\n')\n",
        "arr_inv = np.linalg.inv(arr)\n",
        "print(arr_inv, type(arr_inv))"
      ],
      "metadata": {
        "colab": {
          "base_uri": "https://localhost:8080/"
        },
        "id": "ATneJMLklred",
        "outputId": "aabacf19-fe2c-47a2-8287-c26242b6194a"
      },
      "execution_count": 20,
      "outputs": [
        {
          "output_type": "stream",
          "name": "stdout",
          "text": [
            "[[1 3]\n",
            " [5 7]] \n",
            "\n",
            "[[-0.875  0.375]\n",
            " [ 0.625 -0.125]] <class 'numpy.matrix'>\n"
          ]
        }
      ]
    },
    {
      "cell_type": "code",
      "source": [
        "np.dot(arr, arr_inv)"
      ],
      "metadata": {
        "colab": {
          "base_uri": "https://localhost:8080/"
        },
        "id": "noSfC7XHl52d",
        "outputId": "cf79a930-034e-4270-8c4a-528218be6f03"
      },
      "execution_count": 23,
      "outputs": [
        {
          "output_type": "execute_result",
          "data": {
            "text/plain": [
              "matrix([[1., 0.],\n",
              "        [0., 1.]])"
            ]
          },
          "metadata": {},
          "execution_count": 23
        }
      ]
    },
    {
      "cell_type": "code",
      "source": [
        "np.matmul(arr, arr_inv)"
      ],
      "metadata": {
        "colab": {
          "base_uri": "https://localhost:8080/"
        },
        "id": "qO-gjLR6mKq7",
        "outputId": "45b2f9e4-8bb6-4239-c4c1-00ddaa82a778"
      },
      "execution_count": 24,
      "outputs": [
        {
          "output_type": "execute_result",
          "data": {
            "text/plain": [
              "matrix([[1., 0.],\n",
              "        [0., 1.]])"
            ]
          },
          "metadata": {},
          "execution_count": 24
        }
      ]
    },
    {
      "cell_type": "code",
      "source": [
        "import numpy as np\n",
        "\n",
        "arr = np.array([\n",
        "    [[1,3],\n",
        "     [5,7]],\n",
        "     [[2,5],\n",
        "      [4,6]]])\n",
        "print(arr, '\\n')\n",
        "arr_inv = np.linalg.inv(arr)\n",
        "\n",
        "print(arr_inv)"
      ],
      "metadata": {
        "colab": {
          "base_uri": "https://localhost:8080/"
        },
        "id": "xDok4Ql3mQca",
        "outputId": "822f8179-a5e7-4a9a-ab25-3119de5b8888"
      },
      "execution_count": 25,
      "outputs": [
        {
          "output_type": "stream",
          "name": "stdout",
          "text": [
            "[[[1 3]\n",
            "  [5 7]]\n",
            "\n",
            " [[2 5]\n",
            "  [4 6]]] \n",
            "\n",
            "[[[-0.875  0.375]\n",
            "  [ 0.625 -0.125]]\n",
            "\n",
            " [[-0.75   0.625]\n",
            "  [ 0.5   -0.25 ]]]\n"
          ]
        }
      ]
    },
    {
      "cell_type": "code",
      "source": [
        "print(arr.shape)\n",
        "print(arr_inv.shape)"
      ],
      "metadata": {
        "colab": {
          "base_uri": "https://localhost:8080/"
        },
        "id": "OIX22oQPmmIL",
        "outputId": "2ec54fe8-8f32-496a-dda3-7714ce7b9218"
      },
      "execution_count": 27,
      "outputs": [
        {
          "output_type": "stream",
          "name": "stdout",
          "text": [
            "(2, 2, 2)\n",
            "(2, 2, 2)\n"
          ]
        }
      ]
    },
    {
      "cell_type": "code",
      "source": [
        "np.dot(arr, arr_inv)"
      ],
      "metadata": {
        "colab": {
          "base_uri": "https://localhost:8080/"
        },
        "id": "AmoG01YNmoV0",
        "outputId": "b01ccf2a-64e1-4a3e-90ed-4f110b3a6247"
      },
      "execution_count": 29,
      "outputs": [
        {
          "output_type": "execute_result",
          "data": {
            "text/plain": [
              "array([[[[ 1.   ,  0.   ],\n",
              "         [ 0.75 , -0.125]],\n",
              "\n",
              "        [[ 0.   ,  1.   ],\n",
              "         [-0.25 ,  1.375]]],\n",
              "\n",
              "\n",
              "       [[[ 1.375,  0.125],\n",
              "         [ 1.   ,  0.   ]],\n",
              "\n",
              "        [[ 0.25 ,  0.75 ],\n",
              "         [ 0.   ,  1.   ]]]])"
            ]
          },
          "metadata": {},
          "execution_count": 29
        }
      ]
    },
    {
      "cell_type": "code",
      "source": [
        "np.matmul(arr, arr_inv)"
      ],
      "metadata": {
        "colab": {
          "base_uri": "https://localhost:8080/"
        },
        "id": "NCn-5PFHmujT",
        "outputId": "e0399f18-dda8-4685-bbfd-c5dc305bb149"
      },
      "execution_count": 30,
      "outputs": [
        {
          "output_type": "execute_result",
          "data": {
            "text/plain": [
              "array([[[1., 0.],\n",
              "        [0., 1.]],\n",
              "\n",
              "       [[1., 0.],\n",
              "        [0., 1.]]])"
            ]
          },
          "metadata": {},
          "execution_count": 30
        }
      ]
    },
    {
      "cell_type": "markdown",
      "source": [
        "np.dot과 np.matmul의 차이\n",
        "\n",
        "https://m.blog.naver.com/PostView.naver?isHttpsRedirect=true&blogId=cjh226&logNo=221356884894\n"
      ],
      "metadata": {
        "id": "qcMBZ0qMm2Dz"
      }
    },
    {
      "cell_type": "markdown",
      "source": [
        "역행렬"
      ],
      "metadata": {
        "id": "e7eOIl4Qm677"
      }
    },
    {
      "cell_type": "code",
      "source": [
        "# 계수행렬\n",
        "import numpy as np\n",
        "\n",
        "A = np.array([[1,1,0], [0,1,1], [1,1,1]])\n",
        "A"
      ],
      "metadata": {
        "colab": {
          "base_uri": "https://localhost:8080/"
        },
        "id": "sscAA3tunHBv",
        "outputId": "5f1c5e7d-60e6-4165-bd7c-01378baa5062"
      },
      "execution_count": 31,
      "outputs": [
        {
          "output_type": "execute_result",
          "data": {
            "text/plain": [
              "array([[1, 1, 0],\n",
              "       [0, 1, 1],\n",
              "       [1, 1, 1]])"
            ]
          },
          "metadata": {},
          "execution_count": 31
        }
      ]
    },
    {
      "cell_type": "code",
      "source": [
        "# 역행렬\n",
        "Ainv = np.linalg.inv(A)\n",
        "Ainv"
      ],
      "metadata": {
        "colab": {
          "base_uri": "https://localhost:8080/"
        },
        "id": "76Y_vThpnPK6",
        "outputId": "c1bf8aba-7325-48a4-e06c-a24b03c2dc48"
      },
      "execution_count": 33,
      "outputs": [
        {
          "output_type": "execute_result",
          "data": {
            "text/plain": [
              "array([[ 0., -1.,  1.],\n",
              "       [ 1.,  1., -1.],\n",
              "       [-1.,  0.,  1.]])"
            ]
          },
          "metadata": {},
          "execution_count": 33
        }
      ]
    },
    {
      "cell_type": "code",
      "source": [
        "# A-1A = AA-1 = , I는 항등행렬\n",
        "A @ Ainv"
      ],
      "metadata": {
        "colab": {
          "base_uri": "https://localhost:8080/"
        },
        "id": "BkzBQjitnTtC",
        "outputId": "d613fc29-7daa-4e83-b47d-5106ee83b3a4"
      },
      "execution_count": 34,
      "outputs": [
        {
          "output_type": "execute_result",
          "data": {
            "text/plain": [
              "array([[1., 0., 0.],\n",
              "       [0., 1., 0.],\n",
              "       [0., 0., 1.]])"
            ]
          },
          "metadata": {},
          "execution_count": 34
        }
      ]
    },
    {
      "cell_type": "code",
      "source": [
        "np.dot(Ainv, A)"
      ],
      "metadata": {
        "colab": {
          "base_uri": "https://localhost:8080/"
        },
        "id": "FT1J8Wjcnfby",
        "outputId": "70ea7eff-9d1d-4955-b294-fd4cd8661a91"
      },
      "execution_count": 35,
      "outputs": [
        {
          "output_type": "execute_result",
          "data": {
            "text/plain": [
              "array([[1., 0., 0.],\n",
              "       [0., 1., 0.],\n",
              "       [0., 0., 1.]])"
            ]
          },
          "metadata": {},
          "execution_count": 35
        }
      ]
    },
    {
      "cell_type": "code",
      "source": [
        "b = np.array([[2], [2], [3]])\n",
        "b"
      ],
      "metadata": {
        "colab": {
          "base_uri": "https://localhost:8080/"
        },
        "id": "CK6JI-gunhRC",
        "outputId": "60952a33-8043-4ee9-def9-df7e2e76db88"
      },
      "execution_count": 36,
      "outputs": [
        {
          "output_type": "execute_result",
          "data": {
            "text/plain": [
              "array([[2],\n",
              "       [2],\n",
              "       [3]])"
            ]
          },
          "metadata": {},
          "execution_count": 36
        }
      ]
    },
    {
      "cell_type": "code",
      "source": [],
      "metadata": {
        "id": "pgzZh0tWnkE6"
      },
      "execution_count": null,
      "outputs": []
    }
  ]
}