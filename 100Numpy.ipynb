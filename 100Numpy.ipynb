{
 "cells": [
  {
   "cell_type": "markdown",
   "id": "1de12d2e-df32-4951-ab92-4dc453e7dff2",
   "metadata": {},
   "source": [
    "# 1. np이름으로 numpy 패키지를 가져옵니다."
   ]
  },
  {
   "cell_type": "code",
   "execution_count": 2,
   "id": "1a97d6ba-5306-49a4-b531-37cfec1c4df6",
   "metadata": {},
   "outputs": [],
   "source": [
    "import numpy as np"
   ]
  },
  {
   "cell_type": "markdown",
   "id": "8a5750f8-c7d2-4c49-8301-71d8b50a5ee5",
   "metadata": {},
   "source": [
    "# 3. 사이즈 10의 Null 벡터를 생성합니다."
   ]
  },
  {
   "cell_type": "code",
   "execution_count": 12,
   "id": "d9a3699d-d3ec-4485-bff5-1cdcb5b3f898",
   "metadata": {},
   "outputs": [
    {
     "data": {
      "text/plain": [
       "array([0., 0., 0., 0., 0., 0., 0., 0., 0., 0.])"
      ]
     },
     "execution_count": 12,
     "metadata": {},
     "output_type": "execute_result"
    }
   ],
   "source": [
    "np.zeros(10)"
   ]
  },
  {
   "cell_type": "markdown",
   "id": "86042a26-eb0a-4cbe-a43e-d1591790fb91",
   "metadata": {},
   "source": [
    "# 6. 크기 10의 Null 벡터를 생성하되, 다섯 번째 값인 1을 만들어 출력합니다."
   ]
  },
  {
   "cell_type": "code",
   "execution_count": 21,
   "id": "e02be896-331f-4f72-9f34-22147bdbdffe",
   "metadata": {},
   "outputs": [
    {
     "data": {
      "text/plain": [
       "array([0., 0., 0., 0., 1., 0., 0., 0., 0., 0.])"
      ]
     },
     "execution_count": 21,
     "metadata": {},
     "output_type": "execute_result"
    }
   ],
   "source": [
    "z = np.zeros(10)\n",
    "z[4] = 1\n",
    "z"
   ]
  },
  {
   "cell_type": "markdown",
   "id": "e7aac39a-c237-4d24-ab19-fb37305ed1d6",
   "metadata": {},
   "source": [
    "# 7. 값이 10~49인 벡터를 만드세요."
   ]
  },
  {
   "cell_type": "code",
   "execution_count": 23,
   "id": "41c53ea8-64b3-4855-892b-a323ccdd88d9",
   "metadata": {},
   "outputs": [
    {
     "data": {
      "text/plain": [
       "array([10, 11, 12, 13, 14, 15, 16, 17, 18, 19, 20, 21, 22, 23, 24, 25, 26,\n",
       "       27, 28, 29, 30, 31, 32, 33, 34, 35, 36, 37, 38, 39, 40, 41, 42, 43,\n",
       "       44, 45, 46, 47, 48, 49])"
      ]
     },
     "execution_count": 23,
     "metadata": {},
     "output_type": "execute_result"
    }
   ],
   "source": [
    "np.arange(10,50)"
   ]
  },
  {
   "cell_type": "markdown",
   "id": "2fb704f9-de99-4059-9156-7bf9b0ae189d",
   "metadata": {},
   "source": [
    "# 8. 벡터를 반전하세요(첫 번째 요소가 마지막이 됨/범위는 50)."
   ]
  },
  {
   "cell_type": "code",
   "execution_count": 25,
   "id": "37dc224f-ef25-41c2-938c-da425a6f6602",
   "metadata": {},
   "outputs": [
    {
     "data": {
      "text/plain": [
       "array([49, 48, 47, 46, 45, 44, 43, 42, 41, 40, 39, 38, 37, 36, 35, 34, 33,\n",
       "       32, 31, 30, 29, 28, 27, 26, 25, 24, 23, 22, 21, 20, 19, 18, 17, 16,\n",
       "       15, 14, 13, 12, 11, 10,  9,  8,  7,  6,  5,  4,  3,  2,  1,  0])"
      ]
     },
     "execution_count": 25,
     "metadata": {},
     "output_type": "execute_result"
    }
   ],
   "source": [
    "a = np.arange(50)\n",
    "a[::-1]"
   ]
  },
  {
   "cell_type": "markdown",
   "id": "09f93827-1429-46b9-8428-98ac812566e8",
   "metadata": {},
   "source": [
    "# 9. 0 - 8 범위의 값을 사용하여 3x3 매트릭스 만들기"
   ]
  },
  {
   "cell_type": "code",
   "execution_count": 26,
   "id": "21600ae8-fc21-45b4-ae91-8750a390adcd",
   "metadata": {},
   "outputs": [
    {
     "data": {
      "text/plain": [
       "array([[0, 1, 2],\n",
       "       [3, 4, 5],\n",
       "       [6, 7, 8]])"
      ]
     },
     "execution_count": 26,
     "metadata": {},
     "output_type": "execute_result"
    }
   ],
   "source": [
    "np.arange(0,9).reshape(3,3)"
   ]
  },
  {
   "cell_type": "markdown",
   "id": "067083a7-409a-4d19-9760-27d5ee20ca71",
   "metadata": {},
   "source": [
    "# 10. [1,2,0,0,4,0]에서 0이 아닌 요소의 index 찾기"
   ]
  },
  {
   "cell_type": "code",
   "execution_count": 27,
   "id": "bc689206-ba05-497a-8e05-12cee4ddd231",
   "metadata": {},
   "outputs": [
    {
     "data": {
      "text/plain": [
       "(array([0, 1, 4], dtype=int64),)"
      ]
     },
     "execution_count": 27,
     "metadata": {},
     "output_type": "execute_result"
    }
   ],
   "source": [
    "np.nonzero([1,2,0,0,4,0])"
   ]
  },
  {
   "cell_type": "markdown",
   "id": "ff8664b8-9304-4d8a-997b-684d518358d5",
   "metadata": {},
   "source": [
    "# 11. 3x3 매트릭스 생성\n",
    "- 매트릭스는 행렬을 이야기 한다."
   ]
  },
  {
   "cell_type": "code",
   "execution_count": 29,
   "id": "4381170b-a0d3-4ff2-a981-235f35132d5b",
   "metadata": {},
   "outputs": [
    {
     "data": {
      "text/plain": [
       "array([[1., 0., 0.],\n",
       "       [0., 1., 0.],\n",
       "       [0., 0., 1.]])"
      ]
     },
     "execution_count": 29,
     "metadata": {},
     "output_type": "execute_result"
    }
   ],
   "source": [
    "np.eye(3)"
   ]
  },
  {
   "cell_type": "markdown",
   "id": "8c4a703e-b42d-4b6a-b959-0fe1cc6c3161",
   "metadata": {},
   "source": [
    "# 12. 랜덤 값이 있는 3x3x3 array 생성"
   ]
  },
  {
   "cell_type": "code",
   "execution_count": 33,
   "id": "a46e9d7c-68aa-4908-93f6-7861a35de1dc",
   "metadata": {},
   "outputs": [
    {
     "data": {
      "text/plain": [
       "array([[[11, 14, 20],\n",
       "        [14,  8, 21],\n",
       "        [18, 23,  9]],\n",
       "\n",
       "       [[13, 11,  8],\n",
       "        [ 8, 18, 24],\n",
       "        [20, 17, 25]],\n",
       "\n",
       "       [[18,  6,  0],\n",
       "        [18,  0,  1],\n",
       "        [23, 13, 21]]])"
      ]
     },
     "execution_count": 33,
     "metadata": {},
     "output_type": "execute_result"
    }
   ],
   "source": [
    "# 첫번째 방법\n",
    "np.random.randint(27, size=(3,3,3))"
   ]
  },
  {
   "cell_type": "code",
   "execution_count": 34,
   "id": "63724b68-ad9d-450a-b48b-c97fe03f1bfa",
   "metadata": {},
   "outputs": [
    {
     "data": {
      "text/plain": [
       "array([[[0.08362562, 0.97974005, 0.00104994],\n",
       "        [0.98073389, 0.31303268, 0.26998581],\n",
       "        [0.77339605, 0.77919627, 0.39333259]],\n",
       "\n",
       "       [[0.25033162, 0.47798529, 0.20757358],\n",
       "        [0.1612314 , 0.85205881, 0.48066117],\n",
       "        [0.12436824, 0.410063  , 0.79832144]],\n",
       "\n",
       "       [[0.31770434, 0.0655597 , 0.88868498],\n",
       "        [0.45355129, 0.99299692, 0.43592293],\n",
       "        [0.54702519, 0.07094986, 0.5646335 ]]])"
      ]
     },
     "execution_count": 34,
     "metadata": {},
     "output_type": "execute_result"
    }
   ],
   "source": [
    "# 두번째 방법\n",
    "np.random.random((3,3,3))"
   ]
  },
  {
   "cell_type": "markdown",
   "id": "1a1c7cd4-e012-4081-8346-295931f81680",
   "metadata": {},
   "source": [
    "# 13. 랜덤 값이 있는 10x10 배열을 만들고 최소값과 최대값을 찾기"
   ]
  },
  {
   "cell_type": "code",
   "execution_count": 36,
   "id": "6d95053d-89f5-4e40-87bb-f151670772a7",
   "metadata": {},
   "outputs": [
    {
     "name": "stdout",
     "output_type": "stream",
     "text": [
      "[[0.18582279 0.17594213 0.92575406 0.6857368  0.12285373 0.93109521\n",
      "  0.35960067 0.54342372 0.29505461 0.19676024]\n",
      " [0.11670369 0.01860378 0.53703029 0.85195571 0.89155712 0.24017436\n",
      "  0.29504791 0.34846988 0.66852061 0.05069638]\n",
      " [0.18693921 0.29652559 0.10217247 0.96781253 0.96737679 0.01543262\n",
      "  0.39939835 0.87003321 0.74822006 0.56179623]\n",
      " [0.44139569 0.74969483 0.40768255 0.09985554 0.61108716 0.83695744\n",
      "  0.77309871 0.12122395 0.09107627 0.61455197]\n",
      " [0.49250657 0.19361408 0.93009493 0.22514662 0.89288524 0.86010361\n",
      "  0.68461281 0.79917336 0.40480874 0.18757446]\n",
      " [0.39380978 0.70077619 0.2064933  0.14193398 0.61688579 0.03694989\n",
      "  0.61076174 0.34641215 0.22246314 0.46810427]\n",
      " [0.86875797 0.13730155 0.05193872 0.00389218 0.89970782 0.92658922\n",
      "  0.08649319 0.80733588 0.81358722 0.44912611]\n",
      " [0.88545262 0.72545225 0.99212765 0.98476392 0.63269889 0.33945647\n",
      "  0.14188368 0.15325324 0.39236924 0.94562368]\n",
      " [0.94121977 0.69726512 0.64744782 0.77354466 0.54024678 0.55701339\n",
      "  0.46075437 0.61068831 0.28213269 0.55556033]\n",
      " [0.33039118 0.04249933 0.41019137 0.26785742 0.29007742 0.28980819\n",
      "  0.70277828 0.67912341 0.132437   0.48321167]]\n",
      "0.0038921828326415886\n",
      "0.9921276465543158\n"
     ]
    }
   ],
   "source": [
    "number = np.random.random((10,10))\n",
    "print(number)\n",
    "print(number.min())\n",
    "print(number.max())"
   ]
  },
  {
   "cell_type": "markdown",
   "id": "a634e607-2b63-4b6b-8e05-4e968f82ed7b",
   "metadata": {},
   "source": [
    "# 14. 30 크기의 랜덤 벡터를 만들고 평균 값 찾기"
   ]
  },
  {
   "cell_type": "code",
   "execution_count": 58,
   "id": "53b1b665-3ab1-4996-9674-067a46892f87",
   "metadata": {},
   "outputs": [
    {
     "name": "stdout",
     "output_type": "stream",
     "text": [
      "[74 15 99 77 39 22 23 68 23 86 89 36 17 75 74 79  9 93 28 84 36 80 50 73\n",
      " 54 15 35 24  9 14]\n"
     ]
    },
    {
     "data": {
      "text/plain": [
       "50.0"
      ]
     },
     "execution_count": 58,
     "metadata": {},
     "output_type": "execute_result"
    }
   ],
   "source": [
    "# 첫번째 방법\n",
    "number = np.random.randint(100, size = 30)\n",
    "print(number)\n",
    "np.mean(number)"
   ]
  },
  {
   "cell_type": "code",
   "execution_count": 59,
   "id": "1c20c1fe-45ce-4328-8005-435d4a683a68",
   "metadata": {},
   "outputs": [
    {
     "data": {
      "text/plain": [
       "0.49202663153800696"
      ]
     },
     "execution_count": 59,
     "metadata": {},
     "output_type": "execute_result"
    }
   ],
   "source": [
    "# 두번째 방법\n",
    "a = np.random.random(30)\n",
    "a.mean()"
   ]
  },
  {
   "cell_type": "markdown",
   "id": "43e1618e-0a74-40bf-a399-f401309ea3d6",
   "metadata": {},
   "source": [
    "# 15. 경계가 1이고 내부가 0인 2차원 배열 만들기"
   ]
  },
  {
   "cell_type": "code",
   "execution_count": 123,
   "id": "56055993-1723-43cb-85c7-c2147db9446e",
   "metadata": {},
   "outputs": [
    {
     "data": {
      "text/plain": [
       "array([[1., 1., 1., 1., 1., 1., 1., 1., 1., 1.],\n",
       "       [1., 0., 0., 0., 0., 0., 0., 0., 0., 1.],\n",
       "       [1., 0., 0., 0., 0., 0., 0., 0., 0., 1.],\n",
       "       [1., 0., 0., 0., 0., 0., 0., 0., 0., 1.],\n",
       "       [1., 0., 0., 0., 0., 0., 0., 0., 0., 1.],\n",
       "       [1., 0., 0., 0., 0., 0., 0., 0., 0., 1.],\n",
       "       [1., 0., 0., 0., 0., 0., 0., 0., 0., 1.],\n",
       "       [1., 0., 0., 0., 0., 0., 0., 0., 0., 1.],\n",
       "       [1., 0., 0., 0., 0., 0., 0., 0., 0., 1.],\n",
       "       [1., 1., 1., 1., 1., 1., 1., 1., 1., 1.]])"
      ]
     },
     "execution_count": 123,
     "metadata": {},
     "output_type": "execute_result"
    }
   ],
   "source": [
    "a = np.ones((10,10)) # 행은 가로,열은 세로\n",
    "a[1:-1, 1:-1] = 0   # 0이 맨 첫번재이니까 -1은 맨 뒤에서 두번째이다.\n",
    "a"
   ]
  },
  {
   "cell_type": "markdown",
   "id": "4a11f595-5b2e-4395-a10a-637075df5514",
   "metadata": {},
   "source": [
    "# 16. 기존 어레이에 테두리를 0으로 채우는 방법"
   ]
  },
  {
   "cell_type": "code",
   "execution_count": 95,
   "id": "5f2fd4bf-21fa-4739-9469-7e459ad12ba8",
   "metadata": {},
   "outputs": [
    {
     "data": {
      "text/plain": [
       "array([[0., 1., 1., 1., 1., 1., 1., 1., 1., 0.],\n",
       "       [0., 1., 1., 1., 1., 1., 1., 1., 1., 0.],\n",
       "       [0., 1., 1., 1., 1., 1., 1., 1., 1., 0.],\n",
       "       [0., 1., 1., 1., 1., 1., 1., 1., 1., 0.],\n",
       "       [0., 1., 1., 1., 1., 1., 1., 1., 1., 0.],\n",
       "       [0., 1., 1., 1., 1., 1., 1., 1., 1., 0.],\n",
       "       [0., 1., 1., 1., 1., 1., 1., 1., 1., 0.],\n",
       "       [0., 1., 1., 1., 1., 1., 1., 1., 1., 0.],\n",
       "       [0., 1., 1., 1., 1., 1., 1., 1., 1., 0.],\n",
       "       [0., 1., 1., 1., 1., 1., 1., 1., 1., 0.]])"
      ]
     },
     "execution_count": 95,
     "metadata": {},
     "output_type": "execute_result"
    }
   ],
   "source": [
    "a = np.ones((10,10))\n",
    "a[:,[0,-1]] = 0\n",
    "a"
   ]
  },
  {
   "cell_type": "code",
   "execution_count": 96,
   "id": "4490c87a-9126-40a7-960f-1f648b7574b2",
   "metadata": {},
   "outputs": [
    {
     "data": {
      "text/plain": [
       "array([[0., 0., 0., 0., 0., 0., 0., 0., 0., 0.],\n",
       "       [0., 1., 1., 1., 1., 1., 1., 1., 1., 0.],\n",
       "       [0., 1., 1., 1., 1., 1., 1., 1., 1., 0.],\n",
       "       [0., 1., 1., 1., 1., 1., 1., 1., 1., 0.],\n",
       "       [0., 1., 1., 1., 1., 1., 1., 1., 1., 0.],\n",
       "       [0., 1., 1., 1., 1., 1., 1., 1., 1., 0.],\n",
       "       [0., 1., 1., 1., 1., 1., 1., 1., 1., 0.],\n",
       "       [0., 1., 1., 1., 1., 1., 1., 1., 1., 0.],\n",
       "       [0., 1., 1., 1., 1., 1., 1., 1., 1., 0.],\n",
       "       [0., 0., 0., 0., 0., 0., 0., 0., 0., 0.]])"
      ]
     },
     "execution_count": 96,
     "metadata": {},
     "output_type": "execute_result"
    }
   ],
   "source": [
    "a[[0,-1],:] = 0\n",
    "a"
   ]
  },
  {
   "cell_type": "markdown",
   "id": "a92fc21c-5c7d-4e29-96e1-e22cb8edc32d",
   "metadata": {},
   "source": [
    "# 17. 어떤 결과가 나올지 생각해보기."
   ]
  },
  {
   "cell_type": "code",
   "execution_count": 97,
   "id": "de790727-ea97-4ff1-9a2d-36921982b73c",
   "metadata": {},
   "outputs": [
    {
     "data": {
      "text/plain": [
       "False"
      ]
     },
     "execution_count": 97,
     "metadata": {},
     "output_type": "execute_result"
    }
   ],
   "source": [
    "0 * np.nan\n",
    "np.nan == np.nan\n",
    "np.inf > np.nan\n",
    "np.nan - np.nan\n",
    "0.3 == 3 * 0.1"
   ]
  },
  {
   "cell_type": "markdown",
   "id": "17a8b557-4073-4838-bd4f-e76865be9e87",
   "metadata": {},
   "source": [
    "# 18. 대각선 값 1,2,3,4만을 출력, 5x5 매트릭스 모습."
   ]
  },
  {
   "cell_type": "code",
   "execution_count": 108,
   "id": "e6492814-2518-4bd1-b89f-9ce8f6a9d8eb",
   "metadata": {},
   "outputs": [
    {
     "data": {
      "text/plain": [
       "array([[0, 0, 0, 0, 0],\n",
       "       [1, 0, 0, 0, 0],\n",
       "       [0, 2, 0, 0, 0],\n",
       "       [0, 0, 3, 0, 0],\n",
       "       [0, 0, 0, 4, 0]])"
      ]
     },
     "execution_count": 108,
     "metadata": {},
     "output_type": "execute_result"
    }
   ],
   "source": [
    "np.diag(1 + np.arange(4), k = -1)"
   ]
  },
  {
   "cell_type": "markdown",
   "id": "dc51809c-2497-4c5e-a5f0-9e3de805dc3a",
   "metadata": {},
   "source": [
    "# 19. 8x8 매트릭스를 만들어 체크보드 패턴(숫자 1)으로 채우기"
   ]
  },
  {
   "cell_type": "code",
   "execution_count": 132,
   "id": "5a043526-ff78-436a-9ea8-1348f810d19e",
   "metadata": {},
   "outputs": [
    {
     "data": {
      "text/plain": [
       "array([[ 0,  1,  2,  1,  4,  1,  6,  1],\n",
       "       [ 1,  9,  1, 11,  1, 13,  1, 15],\n",
       "       [16,  1, 18,  1, 20,  1, 22,  1],\n",
       "       [ 1, 25,  1, 27,  1, 29,  1, 31],\n",
       "       [32,  1, 34,  1, 36,  1, 38,  1],\n",
       "       [ 1, 41,  1, 43,  1, 45,  1, 47],\n",
       "       [48,  1, 50,  1, 52,  1, 54,  1],\n",
       "       [ 1, 57,  1, 59,  1, 61,  1, 63]])"
      ]
     },
     "execution_count": 132,
     "metadata": {},
     "output_type": "execute_result"
    }
   ],
   "source": [
    "x = np.arange(64).reshape((8,8))\n",
    "x[1::2, ::2] = 1\n",
    "x[::2, 1::2] = 1\n",
    "x"
   ]
  },
  {
   "cell_type": "markdown",
   "id": "d4e4c5f7-c268-4d58-930b-275087520e37",
   "metadata": {},
   "source": [
    "# 20. 100번째 원소의 색인(x,y,z)은 무엇입니까?(형상 배열(6,7,8)을 고려하시오.)"
   ]
  },
  {
   "cell_type": "code",
   "execution_count": 136,
   "id": "410849b8-d022-4a75-8c54-a7ce531206e9",
   "metadata": {},
   "outputs": [
    {
     "data": {
      "text/plain": [
       "(1, 5, 3)"
      ]
     },
     "execution_count": 136,
     "metadata": {},
     "output_type": "execute_result"
    }
   ],
   "source": [
    "np.unravel_index(99,(6,7,8))"
   ]
  },
  {
   "cell_type": "markdown",
   "id": "0de3162c-63b6-4cee-b8cd-e73bde8a7832",
   "metadata": {},
   "source": [
    "# 21. 타일 함수를 사용하여 체크보드 8X8 매트릭스 만들기"
   ]
  },
  {
   "cell_type": "code",
   "execution_count": 14,
   "id": "9d3a5107-e871-4532-8cbf-8bf942707147",
   "metadata": {},
   "outputs": [
    {
     "data": {
      "text/plain": [
       "array([[0, 1, 0, 1, 0, 1, 0, 1],\n",
       "       [1, 0, 1, 0, 1, 0, 1, 0],\n",
       "       [0, 1, 0, 1, 0, 1, 0, 1],\n",
       "       [1, 0, 1, 0, 1, 0, 1, 0],\n",
       "       [0, 1, 0, 1, 0, 1, 0, 1],\n",
       "       [1, 0, 1, 0, 1, 0, 1, 0],\n",
       "       [0, 1, 0, 1, 0, 1, 0, 1],\n",
       "       [1, 0, 1, 0, 1, 0, 1, 0]])"
      ]
     },
     "execution_count": 14,
     "metadata": {},
     "output_type": "execute_result"
    }
   ],
   "source": [
    "np.tile(np.array([[0,1],[1,0]]),(4,4))"
   ]
  },
  {
   "cell_type": "markdown",
   "id": "58b74dc8-ea4a-41b0-bf4b-1600190a8513",
   "metadata": {},
   "source": [
    "# 22. 5x5 랜덤 행렬 정규화하기"
   ]
  },
  {
   "cell_type": "code",
   "execution_count": 26,
   "id": "3d10f3d3-2f39-41b1-805e-8d6aba6d36b3",
   "metadata": {},
   "outputs": [
    {
     "data": {
      "text/plain": [
       "array([[-1.75814263, -1.58264211, -1.30596511, -1.36383852, -1.84620383],\n",
       "       [-1.06919672, -1.70320426, -1.41599332, -1.78677334, -1.5305226 ],\n",
       "       [-1.03745383, -1.17395733, -1.89222109, -0.95761978, -1.69945226],\n",
       "       [-0.93819941, -1.32470953, -1.19984117, -1.36752226, -1.15445366],\n",
       "       [-1.19384852, -0.95520132, -1.0079267 , -1.03936199, -1.00411948]])"
      ]
     },
     "execution_count": 26,
     "metadata": {},
     "output_type": "execute_result"
    }
   ],
   "source": [
    "a = np.random.random((5,5))\n",
    "\n",
    "#정규화 : 기본값 - 평균 / 표준편차\n",
    "a_mean = a.mean()\n",
    "a_std = a.std()\n",
    "z = a_mean / a_std\n",
    "a-z"
   ]
  },
  {
   "cell_type": "markdown",
   "id": "55fc8eba-cbf0-4cc2-b112-2563ca7550f5",
   "metadata": {},
   "source": [
    "# 23. 색상을 4바이트(RGBA)로 나타내는 사용자 지정 dtype 생성하세요"
   ]
  },
  {
   "cell_type": "code",
   "execution_count": 2,
   "id": "b58070a1-2134-4e2f-a6fc-d345c39b8164",
   "metadata": {},
   "outputs": [
    {
     "name": "stderr",
     "output_type": "stream",
     "text": [
      "C:\\Users\\admin\\AppData\\Local\\Temp\\ipykernel_10224\\2223963430.py:2: FutureWarning: Passing (type, 1) or '1type' as a synonym of type is deprecated; in a future version of numpy, it will be understood as (type, (1,)) / '(1,)type'.\n",
      "  color = np.dtype([(\"r\", np.ubyte, 1),\n"
     ]
    }
   ],
   "source": [
    "import numpy as np\n",
    "color = np.dtype([(\"r\", np.ubyte, 1),\n",
    "                 (\"g\", np.ubyte, 1),\n",
    "                 (\"b\", np.ubyte, 1),\n",
    "                 (\"a\", np.ubyte, 1)])"
   ]
  },
  {
   "cell_type": "markdown",
   "id": "4e8a6764-5e57-49a2-9672-d3bae44e8156",
   "metadata": {},
   "source": [
    "# 24. 5x3 매트릭스에 3x2 매트릭스를 곱합니다."
   ]
  },
  {
   "cell_type": "code",
   "execution_count": 32,
   "id": "c4ec024c-e614-440b-a2b8-5b30d3ab52c5",
   "metadata": {},
   "outputs": [
    {
     "data": {
      "text/plain": [
       "array([[3., 3.],\n",
       "       [3., 3.],\n",
       "       [3., 3.],\n",
       "       [3., 3.],\n",
       "       [3., 3.]])"
      ]
     },
     "execution_count": 32,
     "metadata": {},
     "output_type": "execute_result"
    }
   ],
   "source": [
    "a = np.ones(15).reshape(5,3)\n",
    "b = np.ones(6).reshape(3,2)\n",
    "a@b"
   ]
  },
  {
   "cell_type": "markdown",
   "id": "7d208646-8b97-437c-964f-2816b9718d88",
   "metadata": {},
   "source": [
    "# 25. 1차원 배열이 주어지면 3과 8사이의 모든 요소를 부정하기"
   ]
  },
  {
   "cell_type": "code",
   "execution_count": 6,
   "id": "6e159db1-b0db-4e35-a56b-f7ea145cfc8d",
   "metadata": {},
   "outputs": [
    {
     "name": "stdout",
     "output_type": "stream",
     "text": [
      "[0 1 2 3 4 5 6 7 8 9]\n"
     ]
    },
    {
     "data": {
      "text/plain": [
       "array([False, False, False, False,  True,  True,  True,  True, False,\n",
       "       False])"
      ]
     },
     "execution_count": 6,
     "metadata": {},
     "output_type": "execute_result"
    }
   ],
   "source": [
    "a = np.arange(10)\n",
    "print(a)\n",
    "a = (a > 3) & (a < 8)\n",
    "a"
   ]
  },
  {
   "cell_type": "markdown",
   "id": "58d012e5-2fee-4f0a-b4a9-688b84f7cd85",
   "metadata": {},
   "source": [
    "# 29. 실수형 배열 0에서 반올림하는 방법"
   ]
  },
  {
   "cell_type": "code",
   "execution_count": 11,
   "id": "174e0c61-9495-4ec8-8723-0e91ac0d9ba4",
   "metadata": {
    "collapsed": true,
    "jupyter": {
     "outputs_hidden": true
    },
    "tags": []
   },
   "outputs": [
    {
     "ename": "NameError",
     "evalue": "name 'data' is not defined",
     "output_type": "error",
     "traceback": [
      "\u001b[1;31m---------------------------------------------------------------------------\u001b[0m",
      "\u001b[1;31mNameError\u001b[0m                                 Traceback (most recent call last)",
      "Input \u001b[1;32mIn [11]\u001b[0m, in \u001b[0;36m<cell line: 1>\u001b[1;34m()\u001b[0m\n\u001b[1;32m----> 1\u001b[0m np\u001b[38;5;241m.\u001b[39mround(\u001b[43mdata\u001b[49m, n)\n",
      "\u001b[1;31mNameError\u001b[0m: name 'data' is not defined"
     ]
    }
   ],
   "source": [
    "np.round(data, n)  #n은 몇 자리까지?"
   ]
  },
  {
   "cell_type": "markdown",
   "id": "0de7698f-fdc4-458f-90ce-aae71203700a",
   "metadata": {},
   "source": [
    "# 30. 두 어레이 간의 공통 값을 찾는 방법(어레이는 랜덤으로 만들기)"
   ]
  },
  {
   "cell_type": "code",
   "execution_count": 24,
   "id": "41f791ec-2849-4a03-9a17-6ed65b63744c",
   "metadata": {},
   "outputs": [
    {
     "name": "stdout",
     "output_type": "stream",
     "text": [
      "[8 6 9 2 9 1 9 3 2 1]\n"
     ]
    },
    {
     "data": {
      "text/plain": [
       "array([3, 3, 6, 4, 3, 1, 3, 9, 2, 4])"
      ]
     },
     "execution_count": 24,
     "metadata": {},
     "output_type": "execute_result"
    }
   ],
   "source": [
    "a1 = np.random.randint(1,10, size = 10)\n",
    "a2 = np.random.randint(1,10, size = 10)\n",
    "print(a1)\n",
    "a2"
   ]
  },
  {
   "cell_type": "code",
   "execution_count": 25,
   "id": "d86f45a3-4383-4bb1-9da4-0398a4114025",
   "metadata": {},
   "outputs": [
    {
     "data": {
      "text/plain": [
       "[1, 2, 3, 6, 9]"
      ]
     },
     "execution_count": 25,
     "metadata": {},
     "output_type": "execute_result"
    }
   ],
   "source": [
    "b = list(set(a1)&set(a2))\n",
    "b"
   ]
  },
  {
   "cell_type": "markdown",
   "id": "afb7f93d-4a0d-4aca-9848-02fcc5799bff",
   "metadata": {},
   "source": [
    "# 33. 어제, 오늘 그리고 내일의 날짜를 알아보는법"
   ]
  },
  {
   "cell_type": "code",
   "execution_count": 26,
   "id": "1a2c5d52-8ef0-46ee-bbcd-67e066da93d8",
   "metadata": {},
   "outputs": [],
   "source": [
    "from datetime import datetime"
   ]
  },
  {
   "cell_type": "code",
   "execution_count": 48,
   "id": "6c2dd423-bc07-412d-9544-2570e7b80587",
   "metadata": {},
   "outputs": [
    {
     "name": "stdout",
     "output_type": "stream",
     "text": [
      "2022-10-05\n"
     ]
    }
   ],
   "source": [
    "now = datetime.now() #오늘\n",
    "print(now.strftime('%Y-%m-%d'))"
   ]
  },
  {
   "cell_type": "code",
   "execution_count": 49,
   "id": "b5cab114-de0c-474b-b9d7-6fcf5fb5a1f7",
   "metadata": {},
   "outputs": [],
   "source": [
    "from datetime import datetime, timedelta   #timedelta"
   ]
  },
  {
   "cell_type": "code",
   "execution_count": 46,
   "id": "97061b8c-76bf-4aa7-91c9-201933d47328",
   "metadata": {},
   "outputs": [
    {
     "name": "stdout",
     "output_type": "stream",
     "text": [
      "2022-10-04\n"
     ]
    }
   ],
   "source": [
    "yesterday = datetime.today() - timedelta(1)  #어제\n",
    "print(yesterday.strftime(\"%Y-%m-%d\"))"
   ]
  },
  {
   "cell_type": "code",
   "execution_count": 52,
   "id": "48ff13ac-6dac-4eae-8fa8-17a790c7675c",
   "metadata": {},
   "outputs": [
    {
     "name": "stdout",
     "output_type": "stream",
     "text": [
      "2022-10-06\n"
     ]
    }
   ],
   "source": [
    "tomorrow = datetime.today() + timedelta(1)  #내일\n",
    "print(tomorrow.strftime(\"%Y-%m-%d\"))"
   ]
  },
  {
   "cell_type": "markdown",
   "id": "838d4cf8-8446-4861-926d-f85d87ac051f",
   "metadata": {},
   "source": [
    "# 34. 2022년 10월에 해당하는 모든 날짜를 알아보기"
   ]
  },
  {
   "cell_type": "code",
   "execution_count": 57,
   "id": "73a9ecf9-8860-49b4-821b-ecf7f03673d0",
   "metadata": {},
   "outputs": [
    {
     "name": "stdout",
     "output_type": "stream",
     "text": [
      "    October 2022\n",
      "Mo Tu We Th Fr Sa Su\n",
      "                1  2\n",
      " 3  4  5  6  7  8  9\n",
      "10 11 12 13 14 15 16\n",
      "17 18 19 20 21 22 23\n",
      "24 25 26 27 28 29 30\n",
      "31\n",
      "\n"
     ]
    }
   ],
   "source": [
    "import calendar\n",
    "print(calendar.month(2022, 10))"
   ]
  },
  {
   "cell_type": "markdown",
   "id": "8e422db7-2277-4a67-982c-ea65bfe1c8e2",
   "metadata": {},
   "source": [
    "# 37. 행 값이 0~4인 5X5 매트릭스 만들기"
   ]
  },
  {
   "cell_type": "code",
   "execution_count": 78,
   "id": "a14bf92d-3d38-4943-bcd7-c67275c3fca5",
   "metadata": {},
   "outputs": [
    {
     "data": {
      "text/plain": [
       "array([[99, 97, 70, 82, 60],\n",
       "       [43, 37, 59, 17, 91],\n",
       "       [99, 75, 41, 56, 98],\n",
       "       [87, 68, 63, 17, 60],\n",
       "       [82, 98, 12, 88, 50]])"
      ]
     },
     "execution_count": 78,
     "metadata": {},
     "output_type": "execute_result"
    }
   ],
   "source": [
    "a = np.random.randint(100, size = (5,5))\n",
    "a"
   ]
  },
  {
   "cell_type": "code",
   "execution_count": 79,
   "id": "5f1d4519-7c7d-46b3-8980-c20acffba627",
   "metadata": {},
   "outputs": [
    {
     "data": {
      "text/plain": [
       "array([[ 0, 97, 70, 82, 60],\n",
       "       [ 0, 37, 59, 17, 91],\n",
       "       [ 0, 75, 41, 56, 98],\n",
       "       [ 0, 68, 63, 17, 60],\n",
       "       [ 0, 98, 12, 88, 50]])"
      ]
     },
     "execution_count": 79,
     "metadata": {},
     "output_type": "execute_result"
    }
   ],
   "source": [
    "a[:,0]=0\n",
    "a"
   ]
  },
  {
   "cell_type": "code",
   "execution_count": 80,
   "id": "e3c94d22-6875-4b2c-886e-1439a0546ab2",
   "metadata": {},
   "outputs": [
    {
     "data": {
      "text/plain": [
       "array([[0, 1, 2, 3, 4],\n",
       "       [0, 1, 2, 3, 4],\n",
       "       [0, 1, 2, 3, 4],\n",
       "       [0, 1, 2, 3, 4],\n",
       "       [0, 1, 2, 3, 4]])"
      ]
     },
     "execution_count": 80,
     "metadata": {},
     "output_type": "execute_result"
    }
   ],
   "source": [
    "a[:,1]=1\n",
    "a[:,2]=2\n",
    "a[:,3]=3\n",
    "a[:,4]=4\n",
    "a"
   ]
  },
  {
   "cell_type": "markdown",
   "id": "fce715e3-7976-4814-bd2d-c6f88ae32b58",
   "metadata": {},
   "source": [
    "# 38. 10개의 정수를 생성하고 이를 사용하여 배열을 만드는 함수를 구현하시오."
   ]
  },
  {
   "cell_type": "code",
   "execution_count": 82,
   "id": "ed9311ae-736d-4433-b3fd-0a40b6126610",
   "metadata": {},
   "outputs": [
    {
     "data": {
      "text/plain": [
       "array([26, 93, 51, 94, 34,  0, 88, 42, 11, 57])"
      ]
     },
     "execution_count": 82,
     "metadata": {},
     "output_type": "execute_result"
    }
   ],
   "source": [
    "a = np.random.randint(100, size = 10)\n",
    "a"
   ]
  },
  {
   "cell_type": "code",
   "execution_count": 99,
   "id": "a124a4e5-c7f9-403f-a54c-fc145d246898",
   "metadata": {},
   "outputs": [
    {
     "name": "stdout",
     "output_type": "stream",
     "text": [
      "187\n",
      "186\n",
      "171\n",
      "113\n",
      "186\n",
      "177\n",
      "115\n",
      "162\n",
      "177\n",
      "111\n"
     ]
    }
   ],
   "source": [
    "def gen(x):\n",
    "    for i in x:\n",
    "        yield i+100\n",
    " \n",
    "a = np.random.randint(100, size = 10)\n",
    "for i in gen(a):\n",
    "    print(i)"
   ]
  },
  {
   "cell_type": "markdown",
   "id": "664845ac-86d5-42a0-ac70-e072ef9b7416",
   "metadata": {},
   "source": [
    "# 39. 0에서 1사이의 값으로 크기 10의 벡터를 만듭니다.(0,1 제외)"
   ]
  },
  {
   "cell_type": "code",
   "execution_count": 121,
   "id": "8e08cc56-57a1-4daf-a8f0-5b22269cd851",
   "metadata": {},
   "outputs": [
    {
     "data": {
      "text/plain": [
       "array([0.85021579, 0.70650665, 0.43143861, 0.42299565, 0.1676873 ,\n",
       "       0.06483389, 0.17298253, 0.07727225, 0.02285982, 0.61693421])"
      ]
     },
     "execution_count": 121,
     "metadata": {},
     "output_type": "execute_result"
    }
   ],
   "source": [
    "np.random.random(10)"
   ]
  },
  {
   "cell_type": "markdown",
   "id": "0c9f593e-ccfb-445d-a724-1e0c16a616ec",
   "metadata": {},
   "source": [
    "# 40. 크기 10의 랜덤 벡터를 만들어 정렬합니다."
   ]
  },
  {
   "cell_type": "code",
   "execution_count": 125,
   "id": "2600d036-d965-41e1-9fc1-a57b167d351c",
   "metadata": {},
   "outputs": [
    {
     "data": {
      "text/plain": [
       "array([0.00224042, 0.18204029, 0.25407511, 0.51603985, 0.68407333,\n",
       "       0.75429323, 0.81963024, 0.84514125, 0.85620271, 0.90168541])"
      ]
     },
     "execution_count": 125,
     "metadata": {},
     "output_type": "execute_result"
    }
   ],
   "source": [
    "a = np.random.random(10)\n",
    "a.sort()\n",
    "a"
   ]
  },
  {
   "cell_type": "markdown",
   "id": "8b89e930-df70-4a97-b8b9-87d7bc61a031",
   "metadata": {},
   "source": [
    "# 42. 두 개의 랜덤 배열 A와 B를 고려하여 같은지 확인합니다."
   ]
  },
  {
   "cell_type": "code",
   "execution_count": 127,
   "id": "29fa994a-2182-4800-aa2a-8acc3525c68c",
   "metadata": {},
   "outputs": [
    {
     "data": {
      "text/plain": [
       "False"
      ]
     },
     "execution_count": 127,
     "metadata": {},
     "output_type": "execute_result"
    }
   ],
   "source": [
    "A = np.random.randint(0,2,5)\n",
    "B = np.random.randint(0,2,5)\n",
    "(A==B).all()"
   ]
  },
  {
   "cell_type": "markdown",
   "id": "6637c959-0633-46c4-b161-fa636d239a99",
   "metadata": {},
   "source": [
    "# 45. 크기 10의 랜덤 벡터를 만들고 최대값을 0으로 바꿉니다."
   ]
  },
  {
   "cell_type": "code",
   "execution_count": 136,
   "id": "30356870-fabf-4707-9d9f-c1adba6b4e9d",
   "metadata": {},
   "outputs": [
    {
     "data": {
      "text/plain": [
       "array([0.81142462, 0.        , 0.87873217, 0.22215289, 0.28148142,\n",
       "       0.78279814, 0.45749851, 0.88916601, 0.2468083 , 0.1189309 ])"
      ]
     },
     "execution_count": 136,
     "metadata": {},
     "output_type": "execute_result"
    }
   ],
   "source": [
    "a = np.random.random(10)\n",
    "a[a.argmax()] = 0\n",
    "a"
   ]
  },
  {
   "cell_type": "markdown",
   "id": "d760cc1f-3822-4837-bc79-84990dc55cb0",
   "metadata": {},
   "source": [
    "# 58. 행렬의 각 행의 평균을 출력 하는법"
   ]
  },
  {
   "cell_type": "code",
   "execution_count": 140,
   "id": "01320b1d-3095-45e6-92d5-5ed9de818a54",
   "metadata": {},
   "outputs": [
    {
     "data": {
      "text/plain": [
       "array([[0.19943212, 0.13346823, 0.64400428, 0.37604402, 0.00687485,\n",
       "        0.73693352, 0.03581034, 0.94780627, 0.05290889, 0.68784609],\n",
       "       [0.72576704, 0.18557234, 0.95892171, 0.52350438, 0.36101935,\n",
       "        0.17373627, 0.79000644, 0.37290916, 0.72373847, 0.91723373],\n",
       "       [0.34775531, 0.08364195, 0.23072115, 0.43733268, 0.69757277,\n",
       "        0.03688003, 0.1913443 , 0.79336031, 0.59243489, 0.7551193 ],\n",
       "       [0.12860603, 0.12448624, 0.25129774, 0.23843507, 0.41675064,\n",
       "        0.83554419, 0.83168602, 0.84781312, 0.64854768, 0.06354799],\n",
       "       [0.87362773, 0.4526163 , 0.84612967, 0.8977848 , 0.85679883,\n",
       "        0.43974973, 0.40352707, 0.73488985, 0.10622009, 0.44193538]])"
      ]
     },
     "execution_count": 140,
     "metadata": {},
     "output_type": "execute_result"
    }
   ],
   "source": [
    "a = np.random.rand(5,10)\n",
    "a"
   ]
  },
  {
   "cell_type": "code",
   "execution_count": 141,
   "id": "b4e0256d-d1d8-4905-84c3-39c9915981d9",
   "metadata": {},
   "outputs": [
    {
     "data": {
      "text/plain": [
       "array([0.38211286, 0.57324089, 0.41661627, 0.43867147, 0.60532794])"
      ]
     },
     "execution_count": 141,
     "metadata": {},
     "output_type": "execute_result"
    }
   ],
   "source": [
    "a.mean(axis=1)"
   ]
  },
  {
   "cell_type": "markdown",
   "id": "88d7abda-f93f-44e9-8f5b-cb2c1f558c85",
   "metadata": {},
   "source": [
    "# 60. 주어진 2D 배열에 null 열이 있는지 확인하는 방법"
   ]
  },
  {
   "cell_type": "code",
   "execution_count": 144,
   "id": "f0227db3-52ae-4eb2-b83d-8352741a424d",
   "metadata": {},
   "outputs": [
    {
     "data": {
      "text/plain": [
       "array([[0, 0, 2, 0, 2, 1, 1, 1, 2, 2],\n",
       "       [1, 0, 1, 0, 1, 0, 1, 2, 1, 1],\n",
       "       [2, 2, 1, 1, 0, 2, 2, 2, 1, 0]])"
      ]
     },
     "execution_count": 144,
     "metadata": {},
     "output_type": "execute_result"
    }
   ],
   "source": [
    "a = np.random.randint(0,3,(3,10))\n",
    "a"
   ]
  },
  {
   "cell_type": "code",
   "execution_count": 148,
   "id": "13fe11ed-5045-4285-b2bb-ec5d404f0c59",
   "metadata": {},
   "outputs": [
    {
     "data": {
      "text/plain": [
       "False"
      ]
     },
     "execution_count": 148,
     "metadata": {},
     "output_type": "execute_result"
    }
   ],
   "source": [
    "((~a.any(axis=0)).any())"
   ]
  }
 ],
 "metadata": {
  "kernelspec": {
   "display_name": "Python 3 (ipykernel)",
   "language": "python",
   "name": "python3"
  },
  "language_info": {
   "codemirror_mode": {
    "name": "ipython",
    "version": 3
   },
   "file_extension": ".py",
   "mimetype": "text/x-python",
   "name": "python",
   "nbconvert_exporter": "python",
   "pygments_lexer": "ipython3",
   "version": "3.10.6"
  },
  "toc-autonumbering": false,
  "toc-showcode": false,
  "toc-showmarkdowntxt": false
 },
 "nbformat": 4,
 "nbformat_minor": 5
}
