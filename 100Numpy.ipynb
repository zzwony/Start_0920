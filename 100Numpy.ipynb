{
 "cells": [
  {
   "cell_type": "markdown",
   "id": "1de12d2e-df32-4951-ab92-4dc453e7dff2",
   "metadata": {},
   "source": [
    "# 1. np이름으로 numpy 패키지를 가져옵니다."
   ]
  },
  {
   "cell_type": "code",
   "execution_count": 7,
   "id": "1a97d6ba-5306-49a4-b531-37cfec1c4df6",
   "metadata": {},
   "outputs": [],
   "source": [
    "import numpy as np"
   ]
  },
  {
   "cell_type": "markdown",
   "id": "305ccc37-fbc3-4507-84fb-e89746092915",
   "metadata": {},
   "source": [
    "# 2. numpy 버전과 구성을 출력합니다."
   ]
  },
  {
   "cell_type": "code",
   "execution_count": 137,
   "id": "683283d5-4bf4-4ce8-bb6b-2d8991b1950d",
   "metadata": {},
   "outputs": [
    {
     "data": {
      "text/plain": [
       "'1.23.2'"
      ]
     },
     "execution_count": 137,
     "metadata": {},
     "output_type": "execute_result"
    }
   ],
   "source": [
    "np.__version__"
   ]
  },
  {
   "cell_type": "markdown",
   "id": "8a5750f8-c7d2-4c49-8301-71d8b50a5ee5",
   "metadata": {},
   "source": [
    "# 3. 사이즈 10의 Null 벡터를 생성합니다."
   ]
  },
  {
   "cell_type": "code",
   "execution_count": 12,
   "id": "d9a3699d-d3ec-4485-bff5-1cdcb5b3f898",
   "metadata": {},
   "outputs": [
    {
     "data": {
      "text/plain": [
       "array([0., 0., 0., 0., 0., 0., 0., 0., 0., 0.])"
      ]
     },
     "execution_count": 12,
     "metadata": {},
     "output_type": "execute_result"
    }
   ],
   "source": [
    "np.zeros(10)"
   ]
  },
  {
   "cell_type": "markdown",
   "id": "1fec40c4-e54e-4566-af00-a774f1d17124",
   "metadata": {},
   "source": [
    "# 4. 모든 배열의 메모리 크기 찾기/np.zeros((10,10))"
   ]
  },
  {
   "cell_type": "code",
   "execution_count": 138,
   "id": "feb854f7-b2e8-4c27-adf2-d90b6cd868b6",
   "metadata": {},
   "outputs": [
    {
     "data": {
      "text/plain": [
       "'800 bytes'"
      ]
     },
     "execution_count": 138,
     "metadata": {},
     "output_type": "execute_result"
    }
   ],
   "source": [
    "z = np.zeros((10,10))\n",
    "'%d bytes' % (z.size*z.itemsize)"
   ]
  },
  {
   "cell_type": "markdown",
   "id": "938bc063-a0dd-4ab6-9cad-9a6de316bc1b",
   "metadata": {},
   "source": [
    "# 5. 명령행에서 numpy add 기능의 설명서를 얻는 방법은 무엇입니까?"
   ]
  },
  {
   "cell_type": "code",
   "execution_count": 19,
   "id": "7f417f07-fa3f-46c3-a52e-026b50323926",
   "metadata": {
    "collapsed": true,
    "jupyter": {
     "outputs_hidden": true
    },
    "tags": []
   },
   "outputs": [
    {
     "name": "stdout",
     "output_type": "stream",
     "text": [
      "add(x1, x2, /, out=None, *, where=True, casting='same_kind', order='K', dtype=None, subok=True[, signature, extobj])\n",
      "\n",
      "Add arguments element-wise.\n",
      "\n",
      "Parameters\n",
      "----------\n",
      "x1, x2 : array_like\n",
      "    The arrays to be added.\n",
      "    If ``x1.shape != x2.shape``, they must be broadcastable to a common\n",
      "    shape (which becomes the shape of the output).\n",
      "out : ndarray, None, or tuple of ndarray and None, optional\n",
      "    A location into which the result is stored. If provided, it must have\n",
      "    a shape that the inputs broadcast to. If not provided or None,\n",
      "    a freshly-allocated array is returned. A tuple (possible only as a\n",
      "    keyword argument) must have length equal to the number of outputs.\n",
      "where : array_like, optional\n",
      "    This condition is broadcast over the input. At locations where the\n",
      "    condition is True, the `out` array will be set to the ufunc result.\n",
      "    Elsewhere, the `out` array will retain its original value.\n",
      "    Note that if an uninitialized `out` array is created via the default\n",
      "    ``out=None``, locations within it where the condition is False will\n",
      "    remain uninitialized.\n",
      "**kwargs\n",
      "    For other keyword-only arguments, see the\n",
      "    :ref:`ufunc docs <ufuncs.kwargs>`.\n",
      "\n",
      "Returns\n",
      "-------\n",
      "add : ndarray or scalar\n",
      "    The sum of `x1` and `x2`, element-wise.\n",
      "    This is a scalar if both `x1` and `x2` are scalars.\n",
      "\n",
      "Notes\n",
      "-----\n",
      "Equivalent to `x1` + `x2` in terms of array broadcasting.\n",
      "\n",
      "Examples\n",
      "--------\n",
      ">>> np.add(1.0, 4.0)\n",
      "5.0\n",
      ">>> x1 = np.arange(9.0).reshape((3, 3))\n",
      ">>> x2 = np.arange(3.0)\n",
      ">>> np.add(x1, x2)\n",
      "array([[  0.,   2.,   4.],\n",
      "       [  3.,   5.,   7.],\n",
      "       [  6.,   8.,  10.]])\n",
      "\n",
      "The ``+`` operator can be used as a shorthand for ``np.add`` on ndarrays.\n",
      "\n",
      ">>> x1 = np.arange(9.0).reshape((3, 3))\n",
      ">>> x2 = np.arange(3.0)\n",
      ">>> x1 + x2\n",
      "array([[ 0.,  2.,  4.],\n",
      "       [ 3.,  5.,  7.],\n",
      "       [ 6.,  8., 10.]])\n"
     ]
    }
   ],
   "source": [
    "import numpy; numpy.info(numpy.add)"
   ]
  },
  {
   "cell_type": "markdown",
   "id": "86042a26-eb0a-4cbe-a43e-d1591790fb91",
   "metadata": {},
   "source": [
    "# 6. 크기 10의 Null 벡터를 생성하되, 다섯 번째 값인 1을 만들어 출력합니다."
   ]
  },
  {
   "cell_type": "code",
   "execution_count": 21,
   "id": "e02be896-331f-4f72-9f34-22147bdbdffe",
   "metadata": {},
   "outputs": [
    {
     "data": {
      "text/plain": [
       "array([0., 0., 0., 0., 1., 0., 0., 0., 0., 0.])"
      ]
     },
     "execution_count": 21,
     "metadata": {},
     "output_type": "execute_result"
    }
   ],
   "source": [
    "z = np.zeros(10)\n",
    "z[4] = 1\n",
    "z"
   ]
  },
  {
   "cell_type": "markdown",
   "id": "e7aac39a-c237-4d24-ab19-fb37305ed1d6",
   "metadata": {},
   "source": [
    "# 7. 값이 10~49인 벡터를 만드세요."
   ]
  },
  {
   "cell_type": "code",
   "execution_count": 23,
   "id": "41c53ea8-64b3-4855-892b-a323ccdd88d9",
   "metadata": {},
   "outputs": [
    {
     "data": {
      "text/plain": [
       "array([10, 11, 12, 13, 14, 15, 16, 17, 18, 19, 20, 21, 22, 23, 24, 25, 26,\n",
       "       27, 28, 29, 30, 31, 32, 33, 34, 35, 36, 37, 38, 39, 40, 41, 42, 43,\n",
       "       44, 45, 46, 47, 48, 49])"
      ]
     },
     "execution_count": 23,
     "metadata": {},
     "output_type": "execute_result"
    }
   ],
   "source": [
    "np.arange(10,50)"
   ]
  },
  {
   "cell_type": "markdown",
   "id": "2fb704f9-de99-4059-9156-7bf9b0ae189d",
   "metadata": {},
   "source": [
    "# 8. 벡터를 반전하세요(첫 번째 요소가 마지막이 됨/범위는 50)."
   ]
  },
  {
   "cell_type": "code",
   "execution_count": 25,
   "id": "37dc224f-ef25-41c2-938c-da425a6f6602",
   "metadata": {},
   "outputs": [
    {
     "data": {
      "text/plain": [
       "array([49, 48, 47, 46, 45, 44, 43, 42, 41, 40, 39, 38, 37, 36, 35, 34, 33,\n",
       "       32, 31, 30, 29, 28, 27, 26, 25, 24, 23, 22, 21, 20, 19, 18, 17, 16,\n",
       "       15, 14, 13, 12, 11, 10,  9,  8,  7,  6,  5,  4,  3,  2,  1,  0])"
      ]
     },
     "execution_count": 25,
     "metadata": {},
     "output_type": "execute_result"
    }
   ],
   "source": [
    "a = np.arange(50)\n",
    "a[::-1]"
   ]
  },
  {
   "cell_type": "markdown",
   "id": "09f93827-1429-46b9-8428-98ac812566e8",
   "metadata": {},
   "source": [
    "# 9. 0 - 8 범위의 값을 사용하여 3x3 매트릭스 만들기"
   ]
  },
  {
   "cell_type": "code",
   "execution_count": 26,
   "id": "21600ae8-fc21-45b4-ae91-8750a390adcd",
   "metadata": {},
   "outputs": [
    {
     "data": {
      "text/plain": [
       "array([[0, 1, 2],\n",
       "       [3, 4, 5],\n",
       "       [6, 7, 8]])"
      ]
     },
     "execution_count": 26,
     "metadata": {},
     "output_type": "execute_result"
    }
   ],
   "source": [
    "np.arange(0,9).reshape(3,3)"
   ]
  },
  {
   "cell_type": "markdown",
   "id": "067083a7-409a-4d19-9760-27d5ee20ca71",
   "metadata": {},
   "source": [
    "# 10. [1,2,0,0,4,0]에서 0이 아닌 요소의 index 찾기"
   ]
  },
  {
   "cell_type": "code",
   "execution_count": 27,
   "id": "bc689206-ba05-497a-8e05-12cee4ddd231",
   "metadata": {},
   "outputs": [
    {
     "data": {
      "text/plain": [
       "(array([0, 1, 4], dtype=int64),)"
      ]
     },
     "execution_count": 27,
     "metadata": {},
     "output_type": "execute_result"
    }
   ],
   "source": [
    "np.nonzero([1,2,0,0,4,0])"
   ]
  },
  {
   "cell_type": "markdown",
   "id": "ff8664b8-9304-4d8a-997b-684d518358d5",
   "metadata": {},
   "source": [
    "# 11. 3x3 매트릭스 생성\n",
    "- 매트릭스는 행렬을 이야기 한다."
   ]
  },
  {
   "cell_type": "code",
   "execution_count": 29,
   "id": "4381170b-a0d3-4ff2-a981-235f35132d5b",
   "metadata": {},
   "outputs": [
    {
     "data": {
      "text/plain": [
       "array([[1., 0., 0.],\n",
       "       [0., 1., 0.],\n",
       "       [0., 0., 1.]])"
      ]
     },
     "execution_count": 29,
     "metadata": {},
     "output_type": "execute_result"
    }
   ],
   "source": [
    "np.eye(3)"
   ]
  },
  {
   "cell_type": "markdown",
   "id": "8c4a703e-b42d-4b6a-b959-0fe1cc6c3161",
   "metadata": {},
   "source": [
    "# 12. 랜덤 값이 있는 3x3x3 array 생성"
   ]
  },
  {
   "cell_type": "code",
   "execution_count": 33,
   "id": "a46e9d7c-68aa-4908-93f6-7861a35de1dc",
   "metadata": {},
   "outputs": [
    {
     "data": {
      "text/plain": [
       "array([[[11, 14, 20],\n",
       "        [14,  8, 21],\n",
       "        [18, 23,  9]],\n",
       "\n",
       "       [[13, 11,  8],\n",
       "        [ 8, 18, 24],\n",
       "        [20, 17, 25]],\n",
       "\n",
       "       [[18,  6,  0],\n",
       "        [18,  0,  1],\n",
       "        [23, 13, 21]]])"
      ]
     },
     "execution_count": 33,
     "metadata": {},
     "output_type": "execute_result"
    }
   ],
   "source": [
    "# 첫번째 방법\n",
    "np.random.randint(27, size=(3,3,3))"
   ]
  },
  {
   "cell_type": "code",
   "execution_count": 34,
   "id": "63724b68-ad9d-450a-b48b-c97fe03f1bfa",
   "metadata": {},
   "outputs": [
    {
     "data": {
      "text/plain": [
       "array([[[0.08362562, 0.97974005, 0.00104994],\n",
       "        [0.98073389, 0.31303268, 0.26998581],\n",
       "        [0.77339605, 0.77919627, 0.39333259]],\n",
       "\n",
       "       [[0.25033162, 0.47798529, 0.20757358],\n",
       "        [0.1612314 , 0.85205881, 0.48066117],\n",
       "        [0.12436824, 0.410063  , 0.79832144]],\n",
       "\n",
       "       [[0.31770434, 0.0655597 , 0.88868498],\n",
       "        [0.45355129, 0.99299692, 0.43592293],\n",
       "        [0.54702519, 0.07094986, 0.5646335 ]]])"
      ]
     },
     "execution_count": 34,
     "metadata": {},
     "output_type": "execute_result"
    }
   ],
   "source": [
    "# 두번째 방법\n",
    "np.random.random((3,3,3))"
   ]
  },
  {
   "cell_type": "markdown",
   "id": "1a1c7cd4-e012-4081-8346-295931f81680",
   "metadata": {},
   "source": [
    "# 13. 랜덤 값이 있는 10x10 배열을 만들고 최소값과 최대값을 찾기"
   ]
  },
  {
   "cell_type": "code",
   "execution_count": 36,
   "id": "6d95053d-89f5-4e40-87bb-f151670772a7",
   "metadata": {},
   "outputs": [
    {
     "name": "stdout",
     "output_type": "stream",
     "text": [
      "[[0.18582279 0.17594213 0.92575406 0.6857368  0.12285373 0.93109521\n",
      "  0.35960067 0.54342372 0.29505461 0.19676024]\n",
      " [0.11670369 0.01860378 0.53703029 0.85195571 0.89155712 0.24017436\n",
      "  0.29504791 0.34846988 0.66852061 0.05069638]\n",
      " [0.18693921 0.29652559 0.10217247 0.96781253 0.96737679 0.01543262\n",
      "  0.39939835 0.87003321 0.74822006 0.56179623]\n",
      " [0.44139569 0.74969483 0.40768255 0.09985554 0.61108716 0.83695744\n",
      "  0.77309871 0.12122395 0.09107627 0.61455197]\n",
      " [0.49250657 0.19361408 0.93009493 0.22514662 0.89288524 0.86010361\n",
      "  0.68461281 0.79917336 0.40480874 0.18757446]\n",
      " [0.39380978 0.70077619 0.2064933  0.14193398 0.61688579 0.03694989\n",
      "  0.61076174 0.34641215 0.22246314 0.46810427]\n",
      " [0.86875797 0.13730155 0.05193872 0.00389218 0.89970782 0.92658922\n",
      "  0.08649319 0.80733588 0.81358722 0.44912611]\n",
      " [0.88545262 0.72545225 0.99212765 0.98476392 0.63269889 0.33945647\n",
      "  0.14188368 0.15325324 0.39236924 0.94562368]\n",
      " [0.94121977 0.69726512 0.64744782 0.77354466 0.54024678 0.55701339\n",
      "  0.46075437 0.61068831 0.28213269 0.55556033]\n",
      " [0.33039118 0.04249933 0.41019137 0.26785742 0.29007742 0.28980819\n",
      "  0.70277828 0.67912341 0.132437   0.48321167]]\n",
      "0.0038921828326415886\n",
      "0.9921276465543158\n"
     ]
    }
   ],
   "source": [
    "number = np.random.random((10,10))\n",
    "print(number)\n",
    "print(number.min())\n",
    "print(number.max())"
   ]
  },
  {
   "cell_type": "markdown",
   "id": "a634e607-2b63-4b6b-8e05-4e968f82ed7b",
   "metadata": {},
   "source": [
    "# 14. 30 크기의 랜덤 벡터를 만들고 평균 값 찾기"
   ]
  },
  {
   "cell_type": "code",
   "execution_count": 58,
   "id": "53b1b665-3ab1-4996-9674-067a46892f87",
   "metadata": {},
   "outputs": [
    {
     "name": "stdout",
     "output_type": "stream",
     "text": [
      "[74 15 99 77 39 22 23 68 23 86 89 36 17 75 74 79  9 93 28 84 36 80 50 73\n",
      " 54 15 35 24  9 14]\n"
     ]
    },
    {
     "data": {
      "text/plain": [
       "50.0"
      ]
     },
     "execution_count": 58,
     "metadata": {},
     "output_type": "execute_result"
    }
   ],
   "source": [
    "# 첫번째 방법\n",
    "number = np.random.randint(100, size = 30)\n",
    "print(number)\n",
    "np.mean(number)"
   ]
  },
  {
   "cell_type": "code",
   "execution_count": 59,
   "id": "1c20c1fe-45ce-4328-8005-435d4a683a68",
   "metadata": {},
   "outputs": [
    {
     "data": {
      "text/plain": [
       "0.49202663153800696"
      ]
     },
     "execution_count": 59,
     "metadata": {},
     "output_type": "execute_result"
    }
   ],
   "source": [
    "# 두번째 방법\n",
    "a = np.random.random(30)\n",
    "a.mean()"
   ]
  },
  {
   "cell_type": "markdown",
   "id": "43e1618e-0a74-40bf-a399-f401309ea3d6",
   "metadata": {},
   "source": [
    "# 15. 경계가 1이고 내부가 0인 2차원 배열 만들기"
   ]
  },
  {
   "cell_type": "code",
   "execution_count": 123,
   "id": "56055993-1723-43cb-85c7-c2147db9446e",
   "metadata": {},
   "outputs": [
    {
     "data": {
      "text/plain": [
       "array([[1., 1., 1., 1., 1., 1., 1., 1., 1., 1.],\n",
       "       [1., 0., 0., 0., 0., 0., 0., 0., 0., 1.],\n",
       "       [1., 0., 0., 0., 0., 0., 0., 0., 0., 1.],\n",
       "       [1., 0., 0., 0., 0., 0., 0., 0., 0., 1.],\n",
       "       [1., 0., 0., 0., 0., 0., 0., 0., 0., 1.],\n",
       "       [1., 0., 0., 0., 0., 0., 0., 0., 0., 1.],\n",
       "       [1., 0., 0., 0., 0., 0., 0., 0., 0., 1.],\n",
       "       [1., 0., 0., 0., 0., 0., 0., 0., 0., 1.],\n",
       "       [1., 0., 0., 0., 0., 0., 0., 0., 0., 1.],\n",
       "       [1., 1., 1., 1., 1., 1., 1., 1., 1., 1.]])"
      ]
     },
     "execution_count": 123,
     "metadata": {},
     "output_type": "execute_result"
    }
   ],
   "source": [
    "a = np.ones((10,10)) # 행은 가로,열은 세로\n",
    "a[1:-1, 1:-1] = 0   # 0이 맨 첫번재이니까 -1은 맨 뒤에서 두번째이다.\n",
    "a"
   ]
  },
  {
   "cell_type": "markdown",
   "id": "4a11f595-5b2e-4395-a10a-637075df5514",
   "metadata": {},
   "source": [
    "# 16. 기존 어레이에 테두리를 0으로 채우는 방법"
   ]
  },
  {
   "cell_type": "code",
   "execution_count": 95,
   "id": "5f2fd4bf-21fa-4739-9469-7e459ad12ba8",
   "metadata": {},
   "outputs": [
    {
     "data": {
      "text/plain": [
       "array([[0., 1., 1., 1., 1., 1., 1., 1., 1., 0.],\n",
       "       [0., 1., 1., 1., 1., 1., 1., 1., 1., 0.],\n",
       "       [0., 1., 1., 1., 1., 1., 1., 1., 1., 0.],\n",
       "       [0., 1., 1., 1., 1., 1., 1., 1., 1., 0.],\n",
       "       [0., 1., 1., 1., 1., 1., 1., 1., 1., 0.],\n",
       "       [0., 1., 1., 1., 1., 1., 1., 1., 1., 0.],\n",
       "       [0., 1., 1., 1., 1., 1., 1., 1., 1., 0.],\n",
       "       [0., 1., 1., 1., 1., 1., 1., 1., 1., 0.],\n",
       "       [0., 1., 1., 1., 1., 1., 1., 1., 1., 0.],\n",
       "       [0., 1., 1., 1., 1., 1., 1., 1., 1., 0.]])"
      ]
     },
     "execution_count": 95,
     "metadata": {},
     "output_type": "execute_result"
    }
   ],
   "source": [
    "a = np.ones((10,10))\n",
    "a[:,[0,-1]] = 0\n",
    "a"
   ]
  },
  {
   "cell_type": "code",
   "execution_count": 96,
   "id": "4490c87a-9126-40a7-960f-1f648b7574b2",
   "metadata": {},
   "outputs": [
    {
     "data": {
      "text/plain": [
       "array([[0., 0., 0., 0., 0., 0., 0., 0., 0., 0.],\n",
       "       [0., 1., 1., 1., 1., 1., 1., 1., 1., 0.],\n",
       "       [0., 1., 1., 1., 1., 1., 1., 1., 1., 0.],\n",
       "       [0., 1., 1., 1., 1., 1., 1., 1., 1., 0.],\n",
       "       [0., 1., 1., 1., 1., 1., 1., 1., 1., 0.],\n",
       "       [0., 1., 1., 1., 1., 1., 1., 1., 1., 0.],\n",
       "       [0., 1., 1., 1., 1., 1., 1., 1., 1., 0.],\n",
       "       [0., 1., 1., 1., 1., 1., 1., 1., 1., 0.],\n",
       "       [0., 1., 1., 1., 1., 1., 1., 1., 1., 0.],\n",
       "       [0., 0., 0., 0., 0., 0., 0., 0., 0., 0.]])"
      ]
     },
     "execution_count": 96,
     "metadata": {},
     "output_type": "execute_result"
    }
   ],
   "source": [
    "a[[0,-1],:] = 0\n",
    "a"
   ]
  },
  {
   "cell_type": "markdown",
   "id": "a92fc21c-5c7d-4e29-96e1-e22cb8edc32d",
   "metadata": {},
   "source": [
    "# 17. 어떤 결과가 나올지 생각해보기."
   ]
  },
  {
   "cell_type": "code",
   "execution_count": 97,
   "id": "de790727-ea97-4ff1-9a2d-36921982b73c",
   "metadata": {},
   "outputs": [
    {
     "data": {
      "text/plain": [
       "False"
      ]
     },
     "execution_count": 97,
     "metadata": {},
     "output_type": "execute_result"
    }
   ],
   "source": [
    "0 * np.nan\n",
    "np.nan == np.nan\n",
    "np.inf > np.nan\n",
    "np.nan - np.nan\n",
    "0.3 == 3 * 0.1"
   ]
  },
  {
   "cell_type": "markdown",
   "id": "17a8b557-4073-4838-bd4f-e76865be9e87",
   "metadata": {},
   "source": [
    "# 18. 5x5 매트릭스 생성(대각선 바로 아래에 값 1,2,3,4를 사용)."
   ]
  },
  {
   "cell_type": "code",
   "execution_count": 108,
   "id": "e6492814-2518-4bd1-b89f-9ce8f6a9d8eb",
   "metadata": {},
   "outputs": [
    {
     "data": {
      "text/plain": [
       "array([[0, 0, 0, 0, 0],\n",
       "       [1, 0, 0, 0, 0],\n",
       "       [0, 2, 0, 0, 0],\n",
       "       [0, 0, 3, 0, 0],\n",
       "       [0, 0, 0, 4, 0]])"
      ]
     },
     "execution_count": 108,
     "metadata": {},
     "output_type": "execute_result"
    }
   ],
   "source": [
    "np.diag(1 + np.arange(4), k = -1)"
   ]
  },
  {
   "cell_type": "markdown",
   "id": "dc51809c-2497-4c5e-a5f0-9e3de805dc3a",
   "metadata": {},
   "source": [
    "# 19. 8x8 매트릭스를 만들어 체크보드 패턴(숫자 1)으로 채우기"
   ]
  },
  {
   "cell_type": "code",
   "execution_count": 132,
   "id": "5a043526-ff78-436a-9ea8-1348f810d19e",
   "metadata": {},
   "outputs": [
    {
     "data": {
      "text/plain": [
       "array([[ 0,  1,  2,  1,  4,  1,  6,  1],\n",
       "       [ 1,  9,  1, 11,  1, 13,  1, 15],\n",
       "       [16,  1, 18,  1, 20,  1, 22,  1],\n",
       "       [ 1, 25,  1, 27,  1, 29,  1, 31],\n",
       "       [32,  1, 34,  1, 36,  1, 38,  1],\n",
       "       [ 1, 41,  1, 43,  1, 45,  1, 47],\n",
       "       [48,  1, 50,  1, 52,  1, 54,  1],\n",
       "       [ 1, 57,  1, 59,  1, 61,  1, 63]])"
      ]
     },
     "execution_count": 132,
     "metadata": {},
     "output_type": "execute_result"
    }
   ],
   "source": [
    "x = np.arange(64).reshape((8,8))\n",
    "x[1::2, ::2] = 1\n",
    "x[::2, 1::2] = 1\n",
    "x"
   ]
  },
  {
   "cell_type": "markdown",
   "id": "d4e4c5f7-c268-4d58-930b-275087520e37",
   "metadata": {},
   "source": [
    "# 20. 100번째 원소의 색인(x,y,z)은 무엇입니까?(형상 배열(6,7,8)을 고려하시오.)"
   ]
  },
  {
   "cell_type": "code",
   "execution_count": 136,
   "id": "410849b8-d022-4a75-8c54-a7ce531206e9",
   "metadata": {},
   "outputs": [
    {
     "data": {
      "text/plain": [
       "(1, 5, 3)"
      ]
     },
     "execution_count": 136,
     "metadata": {},
     "output_type": "execute_result"
    }
   ],
   "source": [
    "np.unravel_index(99,(6,7,8))"
   ]
  },
  {
   "cell_type": "code",
   "execution_count": null,
   "id": "5ccdb607-1b89-48e9-a8b8-52fdce7986b7",
   "metadata": {},
   "outputs": [],
   "source": []
  }
 ],
 "metadata": {
  "kernelspec": {
   "display_name": "Python 3 (ipykernel)",
   "language": "python",
   "name": "python3"
  },
  "language_info": {
   "codemirror_mode": {
    "name": "ipython",
    "version": 3
   },
   "file_extension": ".py",
   "mimetype": "text/x-python",
   "name": "python",
   "nbconvert_exporter": "python",
   "pygments_lexer": "ipython3",
   "version": "3.10.6"
  },
  "toc-autonumbering": false,
  "toc-showcode": false,
  "toc-showmarkdowntxt": false
 },
 "nbformat": 4,
 "nbformat_minor": 5
}
