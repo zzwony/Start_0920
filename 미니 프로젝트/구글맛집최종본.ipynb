{
 "cells": [
  {
   "cell_type": "markdown",
   "id": "87c156cc-68a6-4a22-b7d5-ac144c7f3dcf",
   "metadata": {},
   "source": [
    "# 맛집"
   ]
  },
  {
   "cell_type": "markdown",
   "id": "50e82489-7b0b-4262-8b30-a4a644493d16",
   "metadata": {},
   "source": [
    "## 필요 라이브러리"
   ]
  },
  {
   "cell_type": "code",
   "execution_count": 2,
   "id": "d2cde741-b7c4-4684-afc0-068022656c6f",
   "metadata": {},
   "outputs": [],
   "source": [
    "import requests\n",
    "from bs4 import BeautifulSoup\n",
    "import selenium\n",
    "from selenium import webdriver\n",
    "from urllib.request import urlopen, urlretrieve\n",
    "from urllib.parse import quote_plus\n",
    "from selenium.webdriver.common.by import By\n",
    "from selenium.webdriver.common.keys import Keys"
   ]
  },
  {
   "cell_type": "code",
   "execution_count": 3,
   "id": "ff0840fd-42cf-45f9-af10-357b0129c74a",
   "metadata": {},
   "outputs": [],
   "source": [
    "import os\n",
    "os.getcwd()\n",
    "os.chdir('C:\\\\Users\\\\admin')"
   ]
  },
  {
   "cell_type": "code",
   "execution_count": 371,
   "id": "c6d83e18-24cc-46bf-a0da-c0208d43e12d",
   "metadata": {},
   "outputs": [
    {
     "name": "stderr",
     "output_type": "stream",
     "text": [
      "C:\\Users\\admin\\AppData\\Local\\Temp\\ipykernel_12992\\530843676.py:1: DeprecationWarning: executable_path has been deprecated, please pass in a Service object\n",
      "  driver = webdriver.Chrome('chromedriver.exe')\n"
     ]
    }
   ],
   "source": [
    "driver = webdriver.Chrome('chromedriver.exe')"
   ]
  },
  {
   "cell_type": "markdown",
   "id": "55a84ecb-ba47-42f3-80ef-7f7bc3654a3a",
   "metadata": {},
   "source": [
    "## 맛집 찾기"
   ]
  },
  {
   "cell_type": "code",
   "execution_count": 517,
   "id": "f3628e70-e5b3-4e76-a07f-de4b098a77eb",
   "metadata": {},
   "outputs": [],
   "source": [
    "url = \"https://www.google.com/maps\"\n",
    "driver.get(url)"
   ]
  },
  {
   "cell_type": "code",
   "execution_count": 518,
   "id": "a4c019f3-2b84-4b2c-bae8-7b5141eff95c",
   "metadata": {},
   "outputs": [
    {
     "name": "stdin",
     "output_type": "stream",
     "text": [
      "위치를 영어로 입력하세요:  italy\n"
     ]
    }
   ],
   "source": [
    "location = input('위치를 영어로 입력하세요: ')\n",
    "xpath = '/html/body/div[3]/div[9]/div[3]/div[1]/div[1]/div[1]/div[2]/form/div[2]/div[3]/div/input[1]'\n",
    "search = driver.find_element(By.XPATH, xpath)\n",
    "search.clear()\n",
    "search.send_keys(f'{location}')\n",
    "search.send_keys(Keys.ENTER)"
   ]
  },
  {
   "cell_type": "code",
   "execution_count": 519,
   "id": "30504a11-a32a-45f5-9f56-55cd50d83dfc",
   "metadata": {},
   "outputs": [],
   "source": [
    "url = driver.current_url"
   ]
  },
  {
   "cell_type": "code",
   "execution_count": 520,
   "id": "667d554b-0d5f-4564-aba1-394dbf2f30d4",
   "metadata": {},
   "outputs": [
    {
     "data": {
      "text/plain": [
       "'https://www.google.com/maps/place/%EC%9D%B4%ED%83%88%EB%A6%AC%EC%95%84/@40.9552796,3.7046132,5z/data=!3m1!4b1!4m5!3m4!1s0x12d4fe82448dd203:0xe22cf55c24635e6f!8m2!3d41.87194!4d12.56738'"
      ]
     },
     "execution_count": 520,
     "metadata": {},
     "output_type": "execute_result"
    }
   ],
   "source": [
    "url"
   ]
  },
  {
   "cell_type": "code",
   "execution_count": 521,
   "id": "ef695849-80f1-48ea-b9a6-f489226acd03",
   "metadata": {},
   "outputs": [],
   "source": [
    "p = re.compile('.*@(\\d+[.]\\d+)[,](.*\\d+[.]\\d+)[,](\\d{1}[a-zA-Z])')\n",
    "x = p.search(url).group(1)\n",
    "y = p.search(url).group(2)\n",
    "z = p.search(url).group(3)"
   ]
  },
  {
   "cell_type": "code",
   "execution_count": 522,
   "id": "53c09b45-67e0-4f05-9707-447829157b74",
   "metadata": {},
   "outputs": [],
   "source": [
    "url = f'https://www.google.com/maps/search/{location}+restaurants/@{x},{y},{z}'\n",
    "driver.get(url)"
   ]
  },
  {
   "cell_type": "code",
   "execution_count": null,
   "id": "006bfc88-de04-42a9-9abc-061548ea66d8",
   "metadata": {},
   "outputs": [],
   "source": [
    "driver.fullscreen_window()"
   ]
  },
  {
   "cell_type": "code",
   "execution_count": 524,
   "id": "2c65ea2a-f256-4059-a791-e514c94b170f",
   "metadata": {},
   "outputs": [],
   "source": [
    "xpath = '/html/body/div[3]/div[9]/div[4]/div/div/div/button/span'\n",
    "driver.find_element(By.XPATH, xpath).click()"
   ]
  },
  {
   "cell_type": "markdown",
   "id": "d5ce3fee-069f-4a70-b4c3-c29642f034cc",
   "metadata": {
    "tags": []
   },
   "source": [
    "## 식당 이름 따기"
   ]
  },
  {
   "cell_type": "code",
   "execution_count": 447,
   "id": "8ed4ec4d-191d-4e5b-b71f-4cc63546f5a0",
   "metadata": {},
   "outputs": [],
   "source": [
    "import datetime\n",
    "import time\n",
    "\n",
    "def doScrollDown(whileSeconds):\n",
    "    start = datetime.datetime.now()\n",
    "    end = start + datetime.timedelta(seconds=whileSeconds)\n",
    "    while True:\n",
    "        scroll = driver.find_element(By.XPATH, '/html/body/div[3]/div[9]/div[9]/div/div/div[1]/div[2]/div/div[1]/div/div/div[2]/div[1]')\n",
    "        driver.execute_script(\"arguments[0].scrollTop = arguments[0].scrollHeight\", scroll)\n",
    "        time.sleep(1)\n",
    "        if datetime.datetime.now() > end:\n",
    "            break"
   ]
  },
  {
   "cell_type": "code",
   "execution_count": 525,
   "id": "58e1fe08-98ed-4ad6-a05e-402db1605107",
   "metadata": {},
   "outputs": [],
   "source": [
    "doScrollDown(15)"
   ]
  },
  {
   "cell_type": "code",
   "execution_count": 526,
   "id": "2035e53d-c5bb-40cd-ac53-d903fb78f079",
   "metadata": {
    "tags": []
   },
   "outputs": [
    {
     "data": {
      "text/plain": [
       "['Ristorante Consolini',\n",
       " 'Ristorante Il Falchetto',\n",
       " 'Ristorante Amedeo',\n",
       " 'Vladimiro',\n",
       " 'La Bruschetta',\n",
       " \"Ristorante Julie's\",\n",
       " 'Cotto Restaurant',\n",
       " 'al42 by Pasta Chef rione Monti',\n",
       " 'La Vecchia Locanda',\n",
       " 'Scampo',\n",
       " 'Borghiciana Pastificio Artigianale',\n",
       " 'Alessio',\n",
       " '433',\n",
       " 'Ristorante Arlù',\n",
       " 'Nerone',\n",
       " 'Strega',\n",
       " 'Piccolo Arancio',\n",
       " 'Ristorante Il nipotino del solitario',\n",
       " 'Sofia',\n",
       " 'Da Giovanni Restaurant Since 1948',\n",
       " 'The Bramble Bar & Kitchen',\n",
       " 'Sugo',\n",
       " 'Trattoria Vecchia Roma',\n",
       " 'VeryGood',\n",
       " 'Ristorante Pizzería Andrea',\n",
       " 'Alfredo',\n",
       " 'Colline Emiliane',\n",
       " 'Diadema Restaurant',\n",
       " 'Benso 215',\n",
       " 'La Taverna dei Fori Imperiali']"
      ]
     },
     "execution_count": 526,
     "metadata": {},
     "output_type": "execute_result"
    }
   ],
   "source": [
    "rec = driver.find_elements(By.CLASS_NAME, 'NrDZNb')\n",
    "\n",
    "lists = []\n",
    "for i in range(0, 30):\n",
    "    lists.append(rec[i].text)\n",
    "\n",
    "lists"
   ]
  },
  {
   "cell_type": "code",
   "execution_count": 527,
   "id": "0c6929e0-cce6-4cec-a9d4-f2986508f8ea",
   "metadata": {},
   "outputs": [
    {
     "data": {
      "text/plain": [
       "30"
      ]
     },
     "execution_count": 527,
     "metadata": {},
     "output_type": "execute_result"
    }
   ],
   "source": [
    "len(lists)"
   ]
  },
  {
   "cell_type": "markdown",
   "id": "f639fedc-421c-444e-bf31-237d6716b471",
   "metadata": {
    "tags": []
   },
   "source": [
    "## 별점 따기"
   ]
  },
  {
   "cell_type": "code",
   "execution_count": 528,
   "id": "bbc8e2ab-1eed-4258-a543-3b161b367427",
   "metadata": {
    "tags": []
   },
   "outputs": [
    {
     "data": {
      "text/plain": [
       "['4.3(756) · ₩₩₩',\n",
       " '4.4(1,216) · ₩₩',\n",
       " '4.3(1,944) · ₩₩',\n",
       " '4.5(1,211) · ₩₩',\n",
       " '3.6(766) · ₩₩',\n",
       " '4.3(1,129) · ₩',\n",
       " '4.2(1,126) · ₩₩',\n",
       " '4.6(3,239) · ₩',\n",
       " '4.5(289)',\n",
       " '3.6(207)',\n",
       " '4.7(1,873) · ₩₩',\n",
       " '4.3(1,911) · ₩₩',\n",
       " '4.4(2,467) · ₩₩',\n",
       " '4.5(1,538) · ₩₩',\n",
       " '4.7(1,647) · ₩₩',\n",
       " '3.9(1,381) · ₩₩',\n",
       " '4.5(1,590) · ₩₩',\n",
       " '4.3(494) · ₩₩',\n",
       " '4.4(418) · ₩₩₩',\n",
       " '4.2(470) · ₩₩',\n",
       " '4.3(1,199) · ₩₩',\n",
       " '4.0(1,510) · ₩₩',\n",
       " '4.5(8,027) · ₩₩',\n",
       " '1.9(92)',\n",
       " '4.4(783) · ₩₩',\n",
       " '3.7(302)',\n",
       " '4.6(981) · ₩₩',\n",
       " '4.2(864) · ₩₩',\n",
       " '4.2(1,180) · ₩₩',\n",
       " '4.4(1,690) · ₩₩']"
      ]
     },
     "execution_count": 528,
     "metadata": {},
     "output_type": "execute_result"
    }
   ],
   "source": [
    "rec = driver.find_elements(By.CLASS_NAME, 'AJB7ye')\n",
    "\n",
    "reviews = []\n",
    "for i in range(0, 30):\n",
    "    reviews.append(rec[i].text)\n",
    "    for i in range(0, len(reviews)):\n",
    "        if reviews[i] == '리뷰 없음':\n",
    "            reviews[i] = '0'\n",
    "reviews"
   ]
  },
  {
   "cell_type": "code",
   "execution_count": 529,
   "id": "5ca84e14-6eb1-45ef-9416-6dc15c3cfb65",
   "metadata": {},
   "outputs": [
    {
     "data": {
      "text/plain": [
       "['4.3',\n",
       " '4.4',\n",
       " '4.3',\n",
       " '4.5',\n",
       " '3.6',\n",
       " '4.3',\n",
       " '4.2',\n",
       " '4.6',\n",
       " '4.5',\n",
       " '3.6',\n",
       " '4.7',\n",
       " '4.3',\n",
       " '4.4',\n",
       " '4.5',\n",
       " '4.7',\n",
       " '3.9',\n",
       " '4.5',\n",
       " '4.3',\n",
       " '4.4',\n",
       " '4.2',\n",
       " '4.3',\n",
       " '4.0',\n",
       " '4.5',\n",
       " '1.9',\n",
       " '4.4',\n",
       " '3.7',\n",
       " '4.6',\n",
       " '4.2',\n",
       " '4.2',\n",
       " '4.4']"
      ]
     },
     "execution_count": 529,
     "metadata": {},
     "output_type": "execute_result"
    }
   ],
   "source": [
    "rvs = []\n",
    "for i in range(0, len(reviews)):\n",
    "    rvs.append(reviews[i][:3])\n",
    "    \n",
    "rvs"
   ]
  },
  {
   "cell_type": "code",
   "execution_count": 530,
   "id": "5521570d-ba3c-44d4-ad18-6d97cdd4833a",
   "metadata": {},
   "outputs": [
    {
     "data": {
      "text/plain": [
       "30"
      ]
     },
     "execution_count": 530,
     "metadata": {},
     "output_type": "execute_result"
    }
   ],
   "source": [
    "len(rvs)"
   ]
  },
  {
   "cell_type": "markdown",
   "id": "e35eece9-441b-4fc4-890a-442f47d1ec6e",
   "metadata": {},
   "source": [
    "## 음식 종류"
   ]
  },
  {
   "cell_type": "code",
   "execution_count": 531,
   "id": "97351fa3-1bfa-4915-8c25-9bd36a96143a",
   "metadata": {
    "tags": []
   },
   "outputs": [
    {
     "data": {
      "text/plain": [
       "['생선 레스토랑',\n",
       " '이탈리아 요리',\n",
       " '이탈리아 요리',\n",
       " '이탈리아 요리',\n",
       " '이탈리아 요리',\n",
       " '이탈리아 요리',\n",
       " '이탈리아 요리',\n",
       " '이탈리아 요리',\n",
       " '이탈리아 요리',\n",
       " '이탈리아 요리',\n",
       " '음식점',\n",
       " '이탈리아 요리',\n",
       " '이탈리아 요리',\n",
       " '이탈리아 요리',\n",
       " '음식점',\n",
       " '이탈리아 요리',\n",
       " '음식점',\n",
       " '이탈리아 요리',\n",
       " '이탈리아 요리',\n",
       " '음식점',\n",
       " '이탈리아 요리',\n",
       " '음식점',\n",
       " '로마 요리',\n",
       " '음식점',\n",
       " '이탈리아 요리',\n",
       " '이탈리아 요리',\n",
       " '음식점',\n",
       " '이탈리아 요리',\n",
       " '음식점',\n",
       " '로마 요리']"
      ]
     },
     "execution_count": 531,
     "metadata": {},
     "output_type": "execute_result"
    }
   ],
   "source": [
    "rec = driver.find_elements(By.CSS_SELECTOR, '#QA0Szd > div > div > div.w6VYqd > div.bJzME.tTVLSc > div > div.e07Vkf.kA9KIf > div > div > div.m6QErb.DxyBCb.kA9KIf.dS8AEf.ecceSd > div.m6QErb.DxyBCb.kA9KIf.dS8AEf.ecceSd.QjC7t > div > div > div.bfdHYd.Ppzolf.OFBs3e > div.lI9IFe > div.y7PRA > div > div > div.UaQhfb.fontBodyMedium > div > div:nth-child(2) > span:nth-child(1) > jsl > span:nth-child(2)')\n",
    "\n",
    "food = []\n",
    "for i in range(0, 30):\n",
    "    food.append(rec[i].text)\n",
    "\n",
    "food"
   ]
  },
  {
   "cell_type": "code",
   "execution_count": 532,
   "id": "9925965c-65dd-4d7e-9425-d514374e3caa",
   "metadata": {},
   "outputs": [
    {
     "data": {
      "text/plain": [
       "30"
      ]
     },
     "execution_count": 532,
     "metadata": {},
     "output_type": "execute_result"
    }
   ],
   "source": [
    "len(food)"
   ]
  },
  {
   "cell_type": "markdown",
   "id": "f0e1e86b-fedf-4609-aaf2-4367d3b1fff7",
   "metadata": {},
   "source": [
    "## 영업 시간"
   ]
  },
  {
   "cell_type": "code",
   "execution_count": 533,
   "id": "8305eda8-49f7-4b6e-a21c-87354cf2d81d",
   "metadata": {
    "tags": []
   },
   "outputs": [
    {
     "data": {
      "text/plain": [
       "['오후 12:30에 영업 시작',\n",
       " '오후 12:00에 영업 시작',\n",
       " '',\n",
       " '오후 12:00에 영업 시작',\n",
       " '오후 12:00에 영업 시작',\n",
       " '오전 11:00에 영업 시작',\n",
       " '오전 10:30에 영업 시작',\n",
       " '오전 11:30에 영업 시작',\n",
       " '오후 12:30에 영업 시작',\n",
       " '오후 6:30에 영업 시작',\n",
       " '오전 2:00에 영업 종료',\n",
       " '오전 11:45에 영업 시작',\n",
       " '오후 12:00에 영업 시작',\n",
       " '오전 11:30에 영업 시작',\n",
       " '오전 11:30에 영업 시작',\n",
       " '오후 4:30에 영업 시작',\n",
       " '오후 12:30에 영업 시작',\n",
       " '오후 12:00에 영업 시작',\n",
       " '오전 10:30에 영업 시작',\n",
       " '오후 12:00에 영업 시작',\n",
       " '오후 12:00에 영업 시작',\n",
       " '오후 12:00에 영업 시작',\n",
       " '오전 11:00에 영업 시작',\n",
       " '오후 12:30에 영업 시작',\n",
       " '오전 10:00',\n",
       " '오전 10:30에 영업 시작',\n",
       " '오전 10:00',\n",
       " '오후 12:45에 영업 시작',\n",
       " '오후 11:30에 영업 종료',\n",
       " '오전 12:00에 영업 종료']"
      ]
     },
     "execution_count": 533,
     "metadata": {},
     "output_type": "execute_result"
    }
   ],
   "source": [
    "rec = driver.find_elements(By.CSS_SELECTOR, '#QA0Szd > div > div > div.w6VYqd > div.bJzME.tTVLSc > div > div.e07Vkf.kA9KIf > div > div > div.m6QErb.DxyBCb.kA9KIf.dS8AEf.ecceSd > div.m6QErb.DxyBCb.kA9KIf.dS8AEf.ecceSd > div > div > div.bfdHYd.Ppzolf.OFBs3e > div.lI9IFe > div.y7PRA > div > div > div.UaQhfb.fontBodyMedium > div > div > span > jsl > span > span:nth-child(2)')\n",
    "\n",
    "opens = []\n",
    "for i in range(0, 30):\n",
    "    opens.append(rec[i].text)\n",
    "\n",
    "for i in range(0, len(opens)):\n",
    "    opens[i] = opens[i][2:]\n",
    "    \n",
    "opens"
   ]
  },
  {
   "cell_type": "code",
   "execution_count": 534,
   "id": "a069bc32-0497-4b0c-a362-df4f5a332de1",
   "metadata": {},
   "outputs": [
    {
     "data": {
      "text/plain": [
       "30"
      ]
     },
     "execution_count": 534,
     "metadata": {},
     "output_type": "execute_result"
    }
   ],
   "source": [
    "len(opens)"
   ]
  },
  {
   "cell_type": "markdown",
   "id": "5dd062d5-1f25-445c-81c1-5ee52a9bb5af",
   "metadata": {},
   "source": [
    "## 영업 여부"
   ]
  },
  {
   "cell_type": "code",
   "execution_count": 535,
   "id": "aade26d5-8596-448e-a19c-f02c2f58928f",
   "metadata": {},
   "outputs": [
    {
     "data": {
      "text/plain": [
       "['영업 종료',\n",
       " '영업 종료',\n",
       " '',\n",
       " '영업 종료',\n",
       " '영업 종료',\n",
       " '영업 종료',\n",
       " '영업 종료',\n",
       " '영업 종료',\n",
       " '영업 종료',\n",
       " '영업 종료',\n",
       " '영업 중',\n",
       " '영업 종료',\n",
       " '영업 종료',\n",
       " '영업 종료',\n",
       " '영업 종료',\n",
       " '영업 종료',\n",
       " '영업 종료',\n",
       " '영업 종료',\n",
       " '영업 종료',\n",
       " '영업 종료',\n",
       " '영업 종료',\n",
       " '영업 종료',\n",
       " '영업 종료',\n",
       " '영업 종료',\n",
       " '곧 영업 시작',\n",
       " '영업 종료',\n",
       " '곧 영업 시작',\n",
       " '영업 종료',\n",
       " '영업 중',\n",
       " '영업 중']"
      ]
     },
     "execution_count": 535,
     "metadata": {},
     "output_type": "execute_result"
    }
   ],
   "source": [
    "rec = driver.find_elements(By.CSS_SELECTOR, '#QA0Szd > div > div > div.w6VYqd > div.bJzME.tTVLSc > div > div.e07Vkf.kA9KIf > div > div > div.m6QErb.DxyBCb.kA9KIf.dS8AEf.ecceSd > div.m6QErb.DxyBCb.kA9KIf.dS8AEf.ecceSd.QjC7t > div > div > div.bfdHYd.Ppzolf.OFBs3e > div.lI9IFe > div.y7PRA > div > div > div.UaQhfb.fontBodyMedium > div > div > span > jsl > span > span:nth-child(1)')\n",
    "\n",
    "now = []\n",
    "for i in range(0, 30):\n",
    "    now.append(rec[i].text)\n",
    "\n",
    "now"
   ]
  },
  {
   "cell_type": "code",
   "execution_count": 536,
   "id": "9fae8693-a302-46ec-a7c6-d6c84f48e9f7",
   "metadata": {},
   "outputs": [
    {
     "data": {
      "text/plain": [
       "30"
      ]
     },
     "execution_count": 536,
     "metadata": {},
     "output_type": "execute_result"
    }
   ],
   "source": [
    "len(now)"
   ]
  },
  {
   "cell_type": "markdown",
   "id": "17f9f92c-5073-4577-8ab1-4790056ba1da",
   "metadata": {},
   "source": [
    "## 데이터프레임 만들기"
   ]
  },
  {
   "cell_type": "code",
   "execution_count": 537,
   "id": "960e57f1-4cfd-45fa-a37d-aa2b78f76f1a",
   "metadata": {},
   "outputs": [],
   "source": [
    "import pandas as pd"
   ]
  },
  {
   "cell_type": "code",
   "execution_count": 538,
   "id": "5edcec1c-144b-429c-8606-0bbca6b16dce",
   "metadata": {
    "tags": []
   },
   "outputs": [
    {
     "data": {
      "text/html": [
       "<div>\n",
       "<style scoped>\n",
       "    .dataframe tbody tr th:only-of-type {\n",
       "        vertical-align: middle;\n",
       "    }\n",
       "\n",
       "    .dataframe tbody tr th {\n",
       "        vertical-align: top;\n",
       "    }\n",
       "\n",
       "    .dataframe thead th {\n",
       "        text-align: right;\n",
       "    }\n",
       "</style>\n",
       "<table border=\"1\" class=\"dataframe\">\n",
       "  <thead>\n",
       "    <tr style=\"text-align: right;\">\n",
       "      <th></th>\n",
       "      <th>name</th>\n",
       "      <th>reviews</th>\n",
       "      <th>type</th>\n",
       "      <th>now</th>\n",
       "      <th>hours</th>\n",
       "    </tr>\n",
       "  </thead>\n",
       "  <tbody>\n",
       "    <tr>\n",
       "      <th>0</th>\n",
       "      <td>Ristorante Consolini</td>\n",
       "      <td>4.3</td>\n",
       "      <td>생선 레스토랑</td>\n",
       "      <td>영업 종료</td>\n",
       "      <td>오후 12:30에 영업 시작</td>\n",
       "    </tr>\n",
       "    <tr>\n",
       "      <th>1</th>\n",
       "      <td>Ristorante Il Falchetto</td>\n",
       "      <td>4.4</td>\n",
       "      <td>이탈리아 요리</td>\n",
       "      <td>영업 종료</td>\n",
       "      <td>오후 12:00에 영업 시작</td>\n",
       "    </tr>\n",
       "    <tr>\n",
       "      <th>2</th>\n",
       "      <td>Ristorante Amedeo</td>\n",
       "      <td>4.3</td>\n",
       "      <td>이탈리아 요리</td>\n",
       "      <td></td>\n",
       "      <td></td>\n",
       "    </tr>\n",
       "    <tr>\n",
       "      <th>3</th>\n",
       "      <td>Vladimiro</td>\n",
       "      <td>4.5</td>\n",
       "      <td>이탈리아 요리</td>\n",
       "      <td>영업 종료</td>\n",
       "      <td>오후 12:00에 영업 시작</td>\n",
       "    </tr>\n",
       "    <tr>\n",
       "      <th>4</th>\n",
       "      <td>La Bruschetta</td>\n",
       "      <td>3.6</td>\n",
       "      <td>이탈리아 요리</td>\n",
       "      <td>영업 종료</td>\n",
       "      <td>오후 12:00에 영업 시작</td>\n",
       "    </tr>\n",
       "    <tr>\n",
       "      <th>5</th>\n",
       "      <td>Ristorante Julie's</td>\n",
       "      <td>4.3</td>\n",
       "      <td>이탈리아 요리</td>\n",
       "      <td>영업 종료</td>\n",
       "      <td>오전 11:00에 영업 시작</td>\n",
       "    </tr>\n",
       "    <tr>\n",
       "      <th>6</th>\n",
       "      <td>Cotto Restaurant</td>\n",
       "      <td>4.2</td>\n",
       "      <td>이탈리아 요리</td>\n",
       "      <td>영업 종료</td>\n",
       "      <td>오전 10:30에 영업 시작</td>\n",
       "    </tr>\n",
       "    <tr>\n",
       "      <th>7</th>\n",
       "      <td>al42 by Pasta Chef rione Monti</td>\n",
       "      <td>4.6</td>\n",
       "      <td>이탈리아 요리</td>\n",
       "      <td>영업 종료</td>\n",
       "      <td>오전 11:30에 영업 시작</td>\n",
       "    </tr>\n",
       "    <tr>\n",
       "      <th>8</th>\n",
       "      <td>La Vecchia Locanda</td>\n",
       "      <td>4.5</td>\n",
       "      <td>이탈리아 요리</td>\n",
       "      <td>영업 종료</td>\n",
       "      <td>오후 12:30에 영업 시작</td>\n",
       "    </tr>\n",
       "    <tr>\n",
       "      <th>9</th>\n",
       "      <td>Scampo</td>\n",
       "      <td>3.6</td>\n",
       "      <td>이탈리아 요리</td>\n",
       "      <td>영업 종료</td>\n",
       "      <td>오후 6:30에 영업 시작</td>\n",
       "    </tr>\n",
       "    <tr>\n",
       "      <th>10</th>\n",
       "      <td>Borghiciana Pastificio Artigianale</td>\n",
       "      <td>4.7</td>\n",
       "      <td>음식점</td>\n",
       "      <td>영업 중</td>\n",
       "      <td>오전 2:00에 영업 종료</td>\n",
       "    </tr>\n",
       "    <tr>\n",
       "      <th>11</th>\n",
       "      <td>Alessio</td>\n",
       "      <td>4.3</td>\n",
       "      <td>이탈리아 요리</td>\n",
       "      <td>영업 종료</td>\n",
       "      <td>오전 11:45에 영업 시작</td>\n",
       "    </tr>\n",
       "    <tr>\n",
       "      <th>12</th>\n",
       "      <td>433</td>\n",
       "      <td>4.4</td>\n",
       "      <td>이탈리아 요리</td>\n",
       "      <td>영업 종료</td>\n",
       "      <td>오후 12:00에 영업 시작</td>\n",
       "    </tr>\n",
       "    <tr>\n",
       "      <th>13</th>\n",
       "      <td>Ristorante Arlù</td>\n",
       "      <td>4.5</td>\n",
       "      <td>이탈리아 요리</td>\n",
       "      <td>영업 종료</td>\n",
       "      <td>오전 11:30에 영업 시작</td>\n",
       "    </tr>\n",
       "    <tr>\n",
       "      <th>14</th>\n",
       "      <td>Nerone</td>\n",
       "      <td>4.7</td>\n",
       "      <td>음식점</td>\n",
       "      <td>영업 종료</td>\n",
       "      <td>오전 11:30에 영업 시작</td>\n",
       "    </tr>\n",
       "    <tr>\n",
       "      <th>15</th>\n",
       "      <td>Strega</td>\n",
       "      <td>3.9</td>\n",
       "      <td>이탈리아 요리</td>\n",
       "      <td>영업 종료</td>\n",
       "      <td>오후 4:30에 영업 시작</td>\n",
       "    </tr>\n",
       "    <tr>\n",
       "      <th>16</th>\n",
       "      <td>Piccolo Arancio</td>\n",
       "      <td>4.5</td>\n",
       "      <td>음식점</td>\n",
       "      <td>영업 종료</td>\n",
       "      <td>오후 12:30에 영업 시작</td>\n",
       "    </tr>\n",
       "    <tr>\n",
       "      <th>17</th>\n",
       "      <td>Ristorante Il nipotino del solitario</td>\n",
       "      <td>4.3</td>\n",
       "      <td>이탈리아 요리</td>\n",
       "      <td>영업 종료</td>\n",
       "      <td>오후 12:00에 영업 시작</td>\n",
       "    </tr>\n",
       "    <tr>\n",
       "      <th>18</th>\n",
       "      <td>Sofia</td>\n",
       "      <td>4.4</td>\n",
       "      <td>이탈리아 요리</td>\n",
       "      <td>영업 종료</td>\n",
       "      <td>오전 10:30에 영업 시작</td>\n",
       "    </tr>\n",
       "    <tr>\n",
       "      <th>19</th>\n",
       "      <td>Da Giovanni Restaurant Since 1948</td>\n",
       "      <td>4.2</td>\n",
       "      <td>음식점</td>\n",
       "      <td>영업 종료</td>\n",
       "      <td>오후 12:00에 영업 시작</td>\n",
       "    </tr>\n",
       "    <tr>\n",
       "      <th>20</th>\n",
       "      <td>The Bramble Bar &amp; Kitchen</td>\n",
       "      <td>4.3</td>\n",
       "      <td>이탈리아 요리</td>\n",
       "      <td>영업 종료</td>\n",
       "      <td>오후 12:00에 영업 시작</td>\n",
       "    </tr>\n",
       "    <tr>\n",
       "      <th>21</th>\n",
       "      <td>Sugo</td>\n",
       "      <td>4.0</td>\n",
       "      <td>음식점</td>\n",
       "      <td>영업 종료</td>\n",
       "      <td>오후 12:00에 영업 시작</td>\n",
       "    </tr>\n",
       "    <tr>\n",
       "      <th>22</th>\n",
       "      <td>Trattoria Vecchia Roma</td>\n",
       "      <td>4.5</td>\n",
       "      <td>로마 요리</td>\n",
       "      <td>영업 종료</td>\n",
       "      <td>오전 11:00에 영업 시작</td>\n",
       "    </tr>\n",
       "    <tr>\n",
       "      <th>23</th>\n",
       "      <td>VeryGood</td>\n",
       "      <td>1.9</td>\n",
       "      <td>음식점</td>\n",
       "      <td>영업 종료</td>\n",
       "      <td>오후 12:30에 영업 시작</td>\n",
       "    </tr>\n",
       "    <tr>\n",
       "      <th>24</th>\n",
       "      <td>Ristorante Pizzería Andrea</td>\n",
       "      <td>4.4</td>\n",
       "      <td>이탈리아 요리</td>\n",
       "      <td>곧 영업 시작</td>\n",
       "      <td>오전 10:00</td>\n",
       "    </tr>\n",
       "    <tr>\n",
       "      <th>25</th>\n",
       "      <td>Alfredo</td>\n",
       "      <td>3.7</td>\n",
       "      <td>이탈리아 요리</td>\n",
       "      <td>영업 종료</td>\n",
       "      <td>오전 10:30에 영업 시작</td>\n",
       "    </tr>\n",
       "    <tr>\n",
       "      <th>26</th>\n",
       "      <td>Colline Emiliane</td>\n",
       "      <td>4.6</td>\n",
       "      <td>음식점</td>\n",
       "      <td>곧 영업 시작</td>\n",
       "      <td>오전 10:00</td>\n",
       "    </tr>\n",
       "    <tr>\n",
       "      <th>27</th>\n",
       "      <td>Diadema Restaurant</td>\n",
       "      <td>4.2</td>\n",
       "      <td>이탈리아 요리</td>\n",
       "      <td>영업 종료</td>\n",
       "      <td>오후 12:45에 영업 시작</td>\n",
       "    </tr>\n",
       "    <tr>\n",
       "      <th>28</th>\n",
       "      <td>Benso 215</td>\n",
       "      <td>4.2</td>\n",
       "      <td>음식점</td>\n",
       "      <td>영업 중</td>\n",
       "      <td>오후 11:30에 영업 종료</td>\n",
       "    </tr>\n",
       "    <tr>\n",
       "      <th>29</th>\n",
       "      <td>La Taverna dei Fori Imperiali</td>\n",
       "      <td>4.4</td>\n",
       "      <td>로마 요리</td>\n",
       "      <td>영업 중</td>\n",
       "      <td>오전 12:00에 영업 종료</td>\n",
       "    </tr>\n",
       "  </tbody>\n",
       "</table>\n",
       "</div>"
      ],
      "text/plain": [
       "                                    name reviews     type      now  \\\n",
       "0                   Ristorante Consolini     4.3  생선 레스토랑    영업 종료   \n",
       "1                Ristorante Il Falchetto     4.4  이탈리아 요리    영업 종료   \n",
       "2                      Ristorante Amedeo     4.3  이탈리아 요리            \n",
       "3                              Vladimiro     4.5  이탈리아 요리    영업 종료   \n",
       "4                          La Bruschetta     3.6  이탈리아 요리    영업 종료   \n",
       "5                     Ristorante Julie's     4.3  이탈리아 요리    영업 종료   \n",
       "6                       Cotto Restaurant     4.2  이탈리아 요리    영업 종료   \n",
       "7         al42 by Pasta Chef rione Monti     4.6  이탈리아 요리    영업 종료   \n",
       "8                     La Vecchia Locanda     4.5  이탈리아 요리    영업 종료   \n",
       "9                                 Scampo     3.6  이탈리아 요리    영업 종료   \n",
       "10    Borghiciana Pastificio Artigianale     4.7      음식점     영업 중   \n",
       "11                               Alessio     4.3  이탈리아 요리    영업 종료   \n",
       "12                                   433     4.4  이탈리아 요리    영업 종료   \n",
       "13                       Ristorante Arlù     4.5  이탈리아 요리    영업 종료   \n",
       "14                                Nerone     4.7      음식점    영업 종료   \n",
       "15                                Strega     3.9  이탈리아 요리    영업 종료   \n",
       "16                       Piccolo Arancio     4.5      음식점    영업 종료   \n",
       "17  Ristorante Il nipotino del solitario     4.3  이탈리아 요리    영업 종료   \n",
       "18                                 Sofia     4.4  이탈리아 요리    영업 종료   \n",
       "19     Da Giovanni Restaurant Since 1948     4.2      음식점    영업 종료   \n",
       "20             The Bramble Bar & Kitchen     4.3  이탈리아 요리    영업 종료   \n",
       "21                                  Sugo     4.0      음식점    영업 종료   \n",
       "22                Trattoria Vecchia Roma     4.5    로마 요리    영업 종료   \n",
       "23                              VeryGood     1.9      음식점    영업 종료   \n",
       "24            Ristorante Pizzería Andrea     4.4  이탈리아 요리  곧 영업 시작   \n",
       "25                               Alfredo     3.7  이탈리아 요리    영업 종료   \n",
       "26                      Colline Emiliane     4.6      음식점  곧 영업 시작   \n",
       "27                    Diadema Restaurant     4.2  이탈리아 요리    영업 종료   \n",
       "28                             Benso 215     4.2      음식점     영업 중   \n",
       "29         La Taverna dei Fori Imperiali     4.4    로마 요리     영업 중   \n",
       "\n",
       "              hours  \n",
       "0   오후 12:30에 영업 시작  \n",
       "1   오후 12:00에 영업 시작  \n",
       "2                    \n",
       "3   오후 12:00에 영업 시작  \n",
       "4   오후 12:00에 영업 시작  \n",
       "5   오전 11:00에 영업 시작  \n",
       "6   오전 10:30에 영업 시작  \n",
       "7   오전 11:30에 영업 시작  \n",
       "8   오후 12:30에 영업 시작  \n",
       "9    오후 6:30에 영업 시작  \n",
       "10   오전 2:00에 영업 종료  \n",
       "11  오전 11:45에 영업 시작  \n",
       "12  오후 12:00에 영업 시작  \n",
       "13  오전 11:30에 영업 시작  \n",
       "14  오전 11:30에 영업 시작  \n",
       "15   오후 4:30에 영업 시작  \n",
       "16  오후 12:30에 영업 시작  \n",
       "17  오후 12:00에 영업 시작  \n",
       "18  오전 10:30에 영업 시작  \n",
       "19  오후 12:00에 영업 시작  \n",
       "20  오후 12:00에 영업 시작  \n",
       "21  오후 12:00에 영업 시작  \n",
       "22  오전 11:00에 영업 시작  \n",
       "23  오후 12:30에 영업 시작  \n",
       "24         오전 10:00  \n",
       "25  오전 10:30에 영업 시작  \n",
       "26         오전 10:00  \n",
       "27  오후 12:45에 영업 시작  \n",
       "28  오후 11:30에 영업 종료  \n",
       "29  오전 12:00에 영업 종료  "
      ]
     },
     "execution_count": 538,
     "metadata": {},
     "output_type": "execute_result"
    }
   ],
   "source": [
    "df = pd.DataFrame(zip(lists, rvs, food, now, opens), columns=['name', 'reviews', 'type', 'now', 'hours'])\n",
    "df"
   ]
  },
  {
   "cell_type": "markdown",
   "id": "2e4fb853-455e-4333-aadd-8dbde230ceae",
   "metadata": {},
   "source": [
    "# 링크 따기"
   ]
  },
  {
   "cell_type": "code",
   "execution_count": 539,
   "id": "4e6409e4-1f97-4429-b7cb-cea515ca3559",
   "metadata": {
    "tags": []
   },
   "outputs": [],
   "source": [
    "url = driver.current_url\n",
    "resp = requests.get(url)\n",
    "\n",
    "e = driver.find_elements(By.CLASS_NAME, 'hfpxzc')\n",
    "\n",
    "c = []\n",
    "for i in range(0, 30):\n",
    "    url = e[i].get_attribute('href')\n",
    "    c.append(url)"
   ]
  },
  {
   "cell_type": "code",
   "execution_count": 540,
   "id": "a73bb286-a0cd-4867-a930-78588bd09f3b",
   "metadata": {
    "tags": []
   },
   "outputs": [
    {
     "data": {
      "text/plain": [
       "['https://www.google.com/maps/place/Ristorante+Consolini/data=!4m7!3m6!1s0x132f6031734a3647:0xec4855217bc4c0b5!8m2!3d41.8819752!4d12.4770875!16s%2Fg%2F1tfncl2d!19sChIJRzZKczFgLxMRtcDEeyFVSOw?authuser=0&hl=ko&rclk=1',\n",
       " 'https://www.google.com/maps/place/Ristorante+Il+Falchetto/data=!4m7!3m6!1s0x132f60525de6c731:0x9092ae735d1df1b4!8m2!3d41.8997631!4d12.4805864!16s%2Fg%2F1tg5r990!19sChIJMcfmXVJgLxMRtPEdXXOukpA?authuser=0&hl=ko&rclk=1',\n",
       " 'https://www.google.com/maps/place/Ristorante+Amedeo/data=!4m7!3m6!1s0x132f61a446c91b91:0x23e84a1859b89b4e!8m2!3d41.9000484!4d12.4984768!16s%2Fg%2F11b64l13m5!19sChIJkRvJRqRhLxMRTpu4WRhK6CM?authuser=0&hl=ko&rclk=1',\n",
       " 'https://www.google.com/maps/place/Vladimiro/data=!4m7!3m6!1s0x132f61aa771e7489:0x54b13c7e347bcb21!8m2!3d41.907341!4d12.4878047!16s%2Fg%2F1wnzby_c!19sChIJiXQed6phLxMRIct7NH48sVQ?authuser=0&hl=ko&rclk=1',\n",
       " 'https://www.google.com/maps/place/La+Bruschetta/data=!4m7!3m6!1s0x132f61072d87b8e9:0xb39b455b2fc8c6eb!8m2!3d41.9090069!4d12.4899428!16s%2Fg%2F1td0jyyv!19sChIJ6biHLQdhLxMR68bIL1tFm7M?authuser=0&hl=ko&rclk=1',\n",
       " \"https://www.google.com/maps/place/Ristorante+Julie's/data=!4m7!3m6!1s0x132f61a0422a04c3:0x7cdabb03f9bfec92!8m2!3d41.9041686!4d12.5049988!16s%2Fg%2F1td1xlkm!19sChIJwwQqQqBhLxMRkuy_-QO72nw?authuser=0&hl=ko&rclk=1\",\n",
       " 'https://www.google.com/maps/place/Cotto+Restaurant/data=!4m7!3m6!1s0x132f61a5fe5f40ef:0x244a1f48146ccec1!8m2!3d41.9016013!4d12.4956017!16s%2Fg%2F1jljzj509!19sChIJ70Bf_qVhLxMRwc5sFEgfSiQ?authuser=0&hl=ko&rclk=1',\n",
       " 'https://www.google.com/maps/place/al42+by+Pasta+Chef+rione+Monti/data=!4m7!3m6!1s0x132f61b17e6e8489:0x33db5bf87e8493b6!8m2!3d41.894807!4d12.4897611!16s%2Fg%2F11bwqbv3f8!19sChIJiYRufrFhLxMRtpOEfvhb2zM?authuser=0&hl=ko&rclk=1',\n",
       " 'https://www.google.com/maps/place/La+Vecchia+Locanda/data=!4m7!3m6!1s0x132f604e572af4e1:0x31b5ba95a76c3ba3!8m2!3d41.8968393!4d12.4762499!16s%2Fg%2F1tv6t241!19sChIJ4fQqV05gLxMRoztsp5W6tTE?authuser=0&hl=ko&rclk=1',\n",
       " 'https://www.google.com/maps/place/Scampo/data=!4m7!3m6!1s0x132f60458dbd8897:0x9a91406ff02d078f!8m2!3d41.896009!4d12.4717137!16s%2Fg%2F11gb409q55!19sChIJl4i9jUVgLxMRjwct8G9AkZo?authuser=0&hl=ko&rclk=1',\n",
       " 'https://www.google.com/maps/place/Borghiciana+Pastificio+Artigianale/data=!4m7!3m6!1s0x132f60562a1309bd:0x4a833fb9a81d817f!8m2!3d41.9037358!4d12.4621894!16s%2Fg%2F11gczz6_ny!19sChIJvQkTKlZgLxMRf4EdqLk_g0o?authuser=0&hl=ko&rclk=1',\n",
       " 'https://www.google.com/maps/place/Alessio/data=!4m7!3m6!1s0x132f61a5c2bb3b19:0xde3e96e975ff01c8!8m2!3d41.9009265!4d12.4970464!16s%2Fg%2F1tx17hs4!19sChIJGTu7wqVhLxMRyAH_demWPt4?authuser=0&hl=ko&rclk=1',\n",
       " 'https://www.google.com/maps/place/433/data=!4m7!3m6!1s0x132f60452174375b:0x1df8dc104b4f5c1!8m2!3d41.8985251!4d12.4698499!16s%2Fg%2F1tq1l27b!19sChIJWzd0IUVgLxMRwfW0BMGN3wE?authuser=0&hl=ko&rclk=1',\n",
       " 'https://www.google.com/maps/place/Ristorante+Arl%C3%B9/data=!4m7!3m6!1s0x132f60671209ced1:0x84e15e2a0130de21!8m2!3d41.9039494!4d12.4593696!16s%2Fg%2F11g_5xgxn!19sChIJ0c4JEmdgLxMRId4wASpe4YQ?authuser=0&hl=ko&rclk=1',\n",
       " 'https://www.google.com/maps/place/Nerone/data=!4m7!3m6!1s0x132f61a5dd6d121b:0xe1cec88c833f72f8!8m2!3d41.9010851!4d12.4968924!16s%2Fg%2F11c6cd09s7!19sChIJGxJt3aVhLxMR-HI_g4zIzuE?authuser=0&hl=ko&rclk=1',\n",
       " 'https://www.google.com/maps/place/Strega/data=!4m7!3m6!1s0x132f61af7a109ebf:0xcec46681d9eac15c!8m2!3d41.8994487!4d12.4945959!16s%2Fg%2F1td81r2h!19sChIJv54Qeq9hLxMRXMHq2YFmxM4?authuser=0&hl=ko&rclk=1',\n",
       " 'https://www.google.com/maps/place/Piccolo+Arancio/data=!4m7!3m6!1s0x132f61acdbeb9ccd:0xb95f26bd0f31868f!8m2!3d41.9007813!4d12.4849534!16s%2Fg%2F1w2gs901!19sChIJzZzr26xhLxMRj4YxD70mX7k?authuser=0&hl=ko&rclk=1',\n",
       " 'https://www.google.com/maps/place/Ristorante+Il+nipotino+del+solitario/data=!4m7!3m6!1s0x132f61c0e5984495:0xff52e646564c83c0!8m2!3d41.8955837!4d12.4986691!16s%2Fg%2F12mkvpjs7!19sChIJlUSY5cBhLxMRwINMVkbmUv8?authuser=0&hl=ko&rclk=1',\n",
       " 'https://www.google.com/maps/place/Sofia/data=!4m7!3m6!1s0x132f61ab476f0d59:0x9b54406cbb9a1734!8m2!3d41.9040111!4d12.4849167!16s%2Fg%2F1232tgtbh!19sChIJWQ1vR6thLxMRNBeau2xAVJs?authuser=0&hl=ko&rclk=1',\n",
       " 'https://www.google.com/maps/place/Da+Giovanni+Restaurant+Since+1948/data=!4m7!3m6!1s0x132f61a7e3cdd583:0xd28ac2aeda827187!8m2!3d41.9058519!4d12.495613!16s%2Fg%2F1trl7_rj!19sChIJg9XN46dhLxMRh3GC2q7CitI?authuser=0&hl=ko&rclk=1',\n",
       " 'https://www.google.com/maps/place/The+Bramble+Bar+%26+Kitchen/data=!4m7!3m6!1s0x132f61a05dce094d:0xd718c6ad154f7624!8m2!3d41.904379!4d12.5044191!16s%2Fg%2F11b6ss_t9g!19sChIJTQnOXaBhLxMRJHZPFa3GGNc?authuser=0&hl=ko&rclk=1',\n",
       " 'https://www.google.com/maps/place/Sugo/data=!4m7!3m6!1s0x132f6054c7d947e7:0x780c30126352063a!8m2!3d41.90418!4d12.4830628!16s%2Fg%2F1hc1wxb8p!19sChIJ50fZx1RgLxMROgZSYxIwDHg?authuser=0&hl=ko&rclk=1',\n",
       " 'https://www.google.com/maps/place/Trattoria+Vecchia+Roma/data=!4m7!3m6!1s0x132f61bc8af49cfd:0xdb173fd38c57770a!8m2!3d41.8938492!4d12.502279!16s%2Fg%2F1tf8qbtt!19sChIJ_Zz0irxhLxMRCndXjNM_F9s?authuser=0&hl=ko&rclk=1',\n",
       " 'https://www.google.com/maps/place/VeryGood/data=!4m7!3m6!1s0x132f61ce82c2d51f:0xa5d7a890dc713834!8m2!3d41.9017407!4d12.485558!16s%2Fg%2F11fc_hr9t9!19sChIJH9XCgs5hLxMRNDhx3JCo16U?authuser=0&hl=ko&rclk=1',\n",
       " 'https://www.google.com/maps/place/Ristorante+Pizzer%C3%ADa+Andrea/data=!4m7!3m6!1s0x132f6109ecf7c5cb:0x2155395bc874fc1b!8m2!3d41.9072441!4d12.5001897!16s%2Fg%2F1tsr5bdp!19sChIJy8X37AlhLxMRG_x0yFs5VSE?authuser=0&hl=ko&rclk=1',\n",
       " 'https://www.google.com/maps/place/Alfredo/data=!4m7!3m6!1s0x132f61a37ba8568d:0x108af250b5269020!8m2!3d41.8981762!4d12.5017135!16s%2Fg%2F1tdlq9h2!19sChIJjVaoe6NhLxMRIJAmtVDyihA?authuser=0&hl=ko&rclk=1',\n",
       " 'https://www.google.com/maps/place/Colline+Emiliane/data=!4m7!3m6!1s0x132f61ab842d1761:0xf2781bf66cdf53f8!8m2!3d41.9029515!4d12.4873707!16s%2Fg%2F1tkjnmvx!19sChIJYRcthKthLxMR-FPfbPYbePI?authuser=0&hl=ko&rclk=1',\n",
       " 'https://www.google.com/maps/place/Diadema+Restaurant/data=!4m7!3m6!1s0x132f61ae3f31076d:0xbb1fefd9eec6a954!8m2!3d41.8983948!4d12.4914144!16s%2Fg%2F11ckqr8xhs!19sChIJbQcxP65hLxMRVKnG7tnvH7s?authuser=0&hl=ko&rclk=1',\n",
       " 'https://www.google.com/maps/place/Benso+215/data=!4m7!3m6!1s0x132f61b1040829b7:0xa5e2b3ce4d5e550c!8m2!3d41.8944894!4d12.4919528!16s%2Fg%2F11c1tj29p5!19sChIJtykIBLFhLxMRDFVeTc6z4qU?authuser=0&hl=ko&rclk=1',\n",
       " 'https://www.google.com/maps/place/La+Taverna+dei+Fori+Imperiali/data=!4m7!3m6!1s0x132f61b3dccedc5d:0x6fa9e10e76f3dcb5!8m2!3d41.8940615!4d12.4884778!16s%2Fg%2F1tf2p52_!19sChIJXdzO3LNhLxMRtdzzdg7hqW8?authuser=0&hl=ko&rclk=1']"
      ]
     },
     "execution_count": 540,
     "metadata": {},
     "output_type": "execute_result"
    }
   ],
   "source": [
    "c"
   ]
  },
  {
   "cell_type": "code",
   "execution_count": 541,
   "id": "48693ad1-12de-47a8-8c37-8edc901e2de6",
   "metadata": {},
   "outputs": [
    {
     "data": {
      "text/plain": [
       "30"
      ]
     },
     "execution_count": 541,
     "metadata": {},
     "output_type": "execute_result"
    }
   ],
   "source": [
    "len(c)"
   ]
  },
  {
   "cell_type": "code",
   "execution_count": 542,
   "id": "93b13f62-cc97-4be9-a4b4-ae6bda208aaa",
   "metadata": {},
   "outputs": [],
   "source": [
    "df['link'] = c"
   ]
  },
  {
   "cell_type": "code",
   "execution_count": 543,
   "id": "d4ba2405-3329-4928-ba16-3cc5c9d87a8d",
   "metadata": {
    "tags": []
   },
   "outputs": [
    {
     "data": {
      "text/html": [
       "<div>\n",
       "<style scoped>\n",
       "    .dataframe tbody tr th:only-of-type {\n",
       "        vertical-align: middle;\n",
       "    }\n",
       "\n",
       "    .dataframe tbody tr th {\n",
       "        vertical-align: top;\n",
       "    }\n",
       "\n",
       "    .dataframe thead th {\n",
       "        text-align: right;\n",
       "    }\n",
       "</style>\n",
       "<table border=\"1\" class=\"dataframe\">\n",
       "  <thead>\n",
       "    <tr style=\"text-align: right;\">\n",
       "      <th></th>\n",
       "      <th>name</th>\n",
       "      <th>reviews</th>\n",
       "      <th>type</th>\n",
       "      <th>now</th>\n",
       "      <th>hours</th>\n",
       "      <th>link</th>\n",
       "    </tr>\n",
       "  </thead>\n",
       "  <tbody>\n",
       "    <tr>\n",
       "      <th>0</th>\n",
       "      <td>Ristorante Consolini</td>\n",
       "      <td>4.3</td>\n",
       "      <td>생선 레스토랑</td>\n",
       "      <td>영업 종료</td>\n",
       "      <td>오후 12:30에 영업 시작</td>\n",
       "      <td>https://www.google.com/maps/place/Ristorante+C...</td>\n",
       "    </tr>\n",
       "    <tr>\n",
       "      <th>1</th>\n",
       "      <td>Ristorante Il Falchetto</td>\n",
       "      <td>4.4</td>\n",
       "      <td>이탈리아 요리</td>\n",
       "      <td>영업 종료</td>\n",
       "      <td>오후 12:00에 영업 시작</td>\n",
       "      <td>https://www.google.com/maps/place/Ristorante+I...</td>\n",
       "    </tr>\n",
       "    <tr>\n",
       "      <th>2</th>\n",
       "      <td>Ristorante Amedeo</td>\n",
       "      <td>4.3</td>\n",
       "      <td>이탈리아 요리</td>\n",
       "      <td></td>\n",
       "      <td></td>\n",
       "      <td>https://www.google.com/maps/place/Ristorante+A...</td>\n",
       "    </tr>\n",
       "  </tbody>\n",
       "</table>\n",
       "</div>"
      ],
      "text/plain": [
       "                      name reviews     type    now            hours  \\\n",
       "0     Ristorante Consolini     4.3  생선 레스토랑  영업 종료  오후 12:30에 영업 시작   \n",
       "1  Ristorante Il Falchetto     4.4  이탈리아 요리  영업 종료  오후 12:00에 영업 시작   \n",
       "2        Ristorante Amedeo     4.3  이탈리아 요리                           \n",
       "\n",
       "                                                link  \n",
       "0  https://www.google.com/maps/place/Ristorante+C...  \n",
       "1  https://www.google.com/maps/place/Ristorante+I...  \n",
       "2  https://www.google.com/maps/place/Ristorante+A...  "
      ]
     },
     "execution_count": 543,
     "metadata": {},
     "output_type": "execute_result"
    }
   ],
   "source": [
    "df[:3]"
   ]
  },
  {
   "cell_type": "markdown",
   "id": "cd162bd3-280b-4719-96e3-5e5f2158f514",
   "metadata": {
    "tags": []
   },
   "source": [
    "## 위치 포함한 탑10"
   ]
  },
  {
   "cell_type": "code",
   "execution_count": 544,
   "id": "0741ed23-032d-4178-8095-dbde713480fb",
   "metadata": {
    "tags": []
   },
   "outputs": [
    {
     "data": {
      "text/html": [
       "<div>\n",
       "<style scoped>\n",
       "    .dataframe tbody tr th:only-of-type {\n",
       "        vertical-align: middle;\n",
       "    }\n",
       "\n",
       "    .dataframe tbody tr th {\n",
       "        vertical-align: top;\n",
       "    }\n",
       "\n",
       "    .dataframe thead th {\n",
       "        text-align: right;\n",
       "    }\n",
       "</style>\n",
       "<table border=\"1\" class=\"dataframe\">\n",
       "  <thead>\n",
       "    <tr style=\"text-align: right;\">\n",
       "      <th></th>\n",
       "      <th>name</th>\n",
       "      <th>reviews</th>\n",
       "      <th>type</th>\n",
       "      <th>now</th>\n",
       "      <th>hours</th>\n",
       "      <th>link</th>\n",
       "    </tr>\n",
       "  </thead>\n",
       "  <tbody>\n",
       "    <tr>\n",
       "      <th>0</th>\n",
       "      <td>Borghiciana Pastificio Artigianale</td>\n",
       "      <td>4.7</td>\n",
       "      <td>음식점</td>\n",
       "      <td>영업 중</td>\n",
       "      <td>오전 2:00에 영업 종료</td>\n",
       "      <td>https://www.google.com/maps/place/Borghiciana+...</td>\n",
       "    </tr>\n",
       "    <tr>\n",
       "      <th>1</th>\n",
       "      <td>Nerone</td>\n",
       "      <td>4.7</td>\n",
       "      <td>음식점</td>\n",
       "      <td>영업 종료</td>\n",
       "      <td>오전 11:30에 영업 시작</td>\n",
       "      <td>https://www.google.com/maps/place/Nerone/data=...</td>\n",
       "    </tr>\n",
       "    <tr>\n",
       "      <th>2</th>\n",
       "      <td>Colline Emiliane</td>\n",
       "      <td>4.6</td>\n",
       "      <td>음식점</td>\n",
       "      <td>곧 영업 시작</td>\n",
       "      <td>오전 10:00</td>\n",
       "      <td>https://www.google.com/maps/place/Colline+Emil...</td>\n",
       "    </tr>\n",
       "  </tbody>\n",
       "</table>\n",
       "</div>"
      ],
      "text/plain": [
       "                                 name reviews type      now            hours  \\\n",
       "0  Borghiciana Pastificio Artigianale     4.7  음식점     영업 중   오전 2:00에 영업 종료   \n",
       "1                              Nerone     4.7  음식점    영업 종료  오전 11:30에 영업 시작   \n",
       "2                    Colline Emiliane     4.6  음식점  곧 영업 시작         오전 10:00   \n",
       "\n",
       "                                                link  \n",
       "0  https://www.google.com/maps/place/Borghiciana+...  \n",
       "1  https://www.google.com/maps/place/Nerone/data=...  \n",
       "2  https://www.google.com/maps/place/Colline+Emil...  "
      ]
     },
     "execution_count": 544,
     "metadata": {},
     "output_type": "execute_result"
    }
   ],
   "source": [
    "df.sort_values(by=['reviews'], ascending=False, inplace=True)\n",
    "df.reset_index(drop=True, inplace=True)\n",
    "df[:3]"
   ]
  },
  {
   "cell_type": "code",
   "execution_count": 545,
   "id": "97e65133-d259-491b-84c7-c67febe4691a",
   "metadata": {
    "tags": []
   },
   "outputs": [
    {
     "data": {
      "text/html": [
       "<div>\n",
       "<style scoped>\n",
       "    .dataframe tbody tr th:only-of-type {\n",
       "        vertical-align: middle;\n",
       "    }\n",
       "\n",
       "    .dataframe tbody tr th {\n",
       "        vertical-align: top;\n",
       "    }\n",
       "\n",
       "    .dataframe thead th {\n",
       "        text-align: right;\n",
       "    }\n",
       "</style>\n",
       "<table border=\"1\" class=\"dataframe\">\n",
       "  <thead>\n",
       "    <tr style=\"text-align: right;\">\n",
       "      <th></th>\n",
       "      <th>name</th>\n",
       "      <th>reviews</th>\n",
       "      <th>type</th>\n",
       "      <th>now</th>\n",
       "      <th>hours</th>\n",
       "      <th>link</th>\n",
       "    </tr>\n",
       "  </thead>\n",
       "  <tbody>\n",
       "    <tr>\n",
       "      <th>0</th>\n",
       "      <td>Borghiciana Pastificio Artigianale</td>\n",
       "      <td>4.7</td>\n",
       "      <td>음식점</td>\n",
       "      <td>영업 중</td>\n",
       "      <td>오전 2:00에 영업 종료</td>\n",
       "      <td>https://www.google.com/maps/place/Borghiciana+...</td>\n",
       "    </tr>\n",
       "    <tr>\n",
       "      <th>1</th>\n",
       "      <td>Nerone</td>\n",
       "      <td>4.7</td>\n",
       "      <td>음식점</td>\n",
       "      <td>영업 종료</td>\n",
       "      <td>오전 11:30에 영업 시작</td>\n",
       "      <td>https://www.google.com/maps/place/Nerone/data=...</td>\n",
       "    </tr>\n",
       "    <tr>\n",
       "      <th>2</th>\n",
       "      <td>Colline Emiliane</td>\n",
       "      <td>4.6</td>\n",
       "      <td>음식점</td>\n",
       "      <td>곧 영업 시작</td>\n",
       "      <td>오전 10:00</td>\n",
       "      <td>https://www.google.com/maps/place/Colline+Emil...</td>\n",
       "    </tr>\n",
       "    <tr>\n",
       "      <th>3</th>\n",
       "      <td>al42 by Pasta Chef rione Monti</td>\n",
       "      <td>4.6</td>\n",
       "      <td>이탈리아 요리</td>\n",
       "      <td>영업 종료</td>\n",
       "      <td>오전 11:30에 영업 시작</td>\n",
       "      <td>https://www.google.com/maps/place/al42+by+Past...</td>\n",
       "    </tr>\n",
       "    <tr>\n",
       "      <th>4</th>\n",
       "      <td>Piccolo Arancio</td>\n",
       "      <td>4.5</td>\n",
       "      <td>음식점</td>\n",
       "      <td>영업 종료</td>\n",
       "      <td>오후 12:30에 영업 시작</td>\n",
       "      <td>https://www.google.com/maps/place/Piccolo+Aran...</td>\n",
       "    </tr>\n",
       "    <tr>\n",
       "      <th>5</th>\n",
       "      <td>Vladimiro</td>\n",
       "      <td>4.5</td>\n",
       "      <td>이탈리아 요리</td>\n",
       "      <td>영업 종료</td>\n",
       "      <td>오후 12:00에 영업 시작</td>\n",
       "      <td>https://www.google.com/maps/place/Vladimiro/da...</td>\n",
       "    </tr>\n",
       "    <tr>\n",
       "      <th>6</th>\n",
       "      <td>Trattoria Vecchia Roma</td>\n",
       "      <td>4.5</td>\n",
       "      <td>로마 요리</td>\n",
       "      <td>영업 종료</td>\n",
       "      <td>오전 11:00에 영업 시작</td>\n",
       "      <td>https://www.google.com/maps/place/Trattoria+Ve...</td>\n",
       "    </tr>\n",
       "    <tr>\n",
       "      <th>7</th>\n",
       "      <td>La Vecchia Locanda</td>\n",
       "      <td>4.5</td>\n",
       "      <td>이탈리아 요리</td>\n",
       "      <td>영업 종료</td>\n",
       "      <td>오후 12:30에 영업 시작</td>\n",
       "      <td>https://www.google.com/maps/place/La+Vecchia+L...</td>\n",
       "    </tr>\n",
       "    <tr>\n",
       "      <th>8</th>\n",
       "      <td>Ristorante Arlù</td>\n",
       "      <td>4.5</td>\n",
       "      <td>이탈리아 요리</td>\n",
       "      <td>영업 종료</td>\n",
       "      <td>오전 11:30에 영업 시작</td>\n",
       "      <td>https://www.google.com/maps/place/Ristorante+A...</td>\n",
       "    </tr>\n",
       "    <tr>\n",
       "      <th>9</th>\n",
       "      <td>La Taverna dei Fori Imperiali</td>\n",
       "      <td>4.4</td>\n",
       "      <td>로마 요리</td>\n",
       "      <td>영업 중</td>\n",
       "      <td>오전 12:00에 영업 종료</td>\n",
       "      <td>https://www.google.com/maps/place/La+Taverna+d...</td>\n",
       "    </tr>\n",
       "  </tbody>\n",
       "</table>\n",
       "</div>"
      ],
      "text/plain": [
       "                                 name reviews     type      now  \\\n",
       "0  Borghiciana Pastificio Artigianale     4.7      음식점     영업 중   \n",
       "1                              Nerone     4.7      음식점    영업 종료   \n",
       "2                    Colline Emiliane     4.6      음식점  곧 영업 시작   \n",
       "3      al42 by Pasta Chef rione Monti     4.6  이탈리아 요리    영업 종료   \n",
       "4                     Piccolo Arancio     4.5      음식점    영업 종료   \n",
       "5                           Vladimiro     4.5  이탈리아 요리    영업 종료   \n",
       "6              Trattoria Vecchia Roma     4.5    로마 요리    영업 종료   \n",
       "7                  La Vecchia Locanda     4.5  이탈리아 요리    영업 종료   \n",
       "8                     Ristorante Arlù     4.5  이탈리아 요리    영업 종료   \n",
       "9       La Taverna dei Fori Imperiali     4.4    로마 요리     영업 중   \n",
       "\n",
       "             hours                                               link  \n",
       "0   오전 2:00에 영업 종료  https://www.google.com/maps/place/Borghiciana+...  \n",
       "1  오전 11:30에 영업 시작  https://www.google.com/maps/place/Nerone/data=...  \n",
       "2         오전 10:00  https://www.google.com/maps/place/Colline+Emil...  \n",
       "3  오전 11:30에 영업 시작  https://www.google.com/maps/place/al42+by+Past...  \n",
       "4  오후 12:30에 영업 시작  https://www.google.com/maps/place/Piccolo+Aran...  \n",
       "5  오후 12:00에 영업 시작  https://www.google.com/maps/place/Vladimiro/da...  \n",
       "6  오전 11:00에 영업 시작  https://www.google.com/maps/place/Trattoria+Ve...  \n",
       "7  오후 12:30에 영업 시작  https://www.google.com/maps/place/La+Vecchia+L...  \n",
       "8  오전 11:30에 영업 시작  https://www.google.com/maps/place/Ristorante+A...  \n",
       "9  오전 12:00에 영업 종료  https://www.google.com/maps/place/La+Taverna+d...  "
      ]
     },
     "execution_count": 545,
     "metadata": {},
     "output_type": "execute_result"
    }
   ],
   "source": [
    "upper = df.iloc[:10, :]\n",
    "upper"
   ]
  },
  {
   "cell_type": "markdown",
   "id": "216fbc94-a764-40b4-8d25-2f25b93044dc",
   "metadata": {
    "tags": []
   },
   "source": [
    "# 지도"
   ]
  },
  {
   "cell_type": "code",
   "execution_count": 469,
   "id": "4d99efba-5d7c-4f9c-9341-35b633b6d055",
   "metadata": {
    "tags": []
   },
   "outputs": [
    {
     "data": {
      "text/plain": [
       "['Aqua, germany',\n",
       " 'The Eatery Berlin, germany',\n",
       " 'Restaurant Atelier Gourmet, germany',\n",
       " 'Restaurant Ox & Klee Köln, germany',\n",
       " 'Restaurant Tim Raue, germany',\n",
       " 'Zur Hoell, germany',\n",
       " 'Kraftwerke, germany',\n",
       " 'The Wild West, germany',\n",
       " 'Ratskeller der Stadt Leipzig GmbH, germany',\n",
       " 'Restaurant Anastasia, germany']"
      ]
     },
     "execution_count": 469,
     "metadata": {},
     "output_type": "execute_result"
    }
   ],
   "source": [
    "locat_li = []\n",
    "for i in range(0, len(upper)):\n",
    "    locat_li.append(upper['name'][i]+','+' '+location)\n",
    "\n",
    "locat_li"
   ]
  },
  {
   "cell_type": "code",
   "execution_count": 470,
   "id": "7ffe10e3-aae2-49db-b89e-1597dc7a1fa3",
   "metadata": {},
   "outputs": [
    {
     "data": {
      "text/plain": [
       "10"
      ]
     },
     "execution_count": 470,
     "metadata": {},
     "output_type": "execute_result"
    }
   ],
   "source": [
    "len(locat_li)"
   ]
  },
  {
   "cell_type": "markdown",
   "id": "77682af0-2095-4773-a41e-d94151254c3a",
   "metadata": {},
   "source": [
    "## 위도 경도 찾기"
   ]
  },
  {
   "cell_type": "code",
   "execution_count": 471,
   "id": "f2dab096-151f-4e4b-87fa-a798d6867cb7",
   "metadata": {},
   "outputs": [],
   "source": [
    "import re"
   ]
  },
  {
   "cell_type": "code",
   "execution_count": 475,
   "id": "04dacf3d-b6a1-4c7f-9681-c48a5917b81b",
   "metadata": {
    "collapsed": true,
    "jupyter": {
     "outputs_hidden": true,
     "source_hidden": true
    },
    "tags": []
   },
   "outputs": [
    {
     "data": {
      "text/plain": [
       "['52.433202', '10.790009']"
      ]
     },
     "execution_count": 475,
     "metadata": {},
     "output_type": "execute_result"
    }
   ],
   "source": [
    "p = re.compile('[^d]\\d+\\.\\d+')\n",
    "p.findall(upper['link'][0])"
   ]
  },
  {
   "cell_type": "code",
   "execution_count": 546,
   "id": "7f31d4cd-3082-4b31-825b-e3fa3d0c8a63",
   "metadata": {},
   "outputs": [
    {
     "name": "stderr",
     "output_type": "stream",
     "text": [
      "C:\\Users\\admin\\AppData\\Local\\Temp\\ipykernel_12992\\2872404493.py:9: SettingWithCopyWarning: \n",
      "A value is trying to be set on a copy of a slice from a DataFrame.\n",
      "Try using .loc[row_indexer,col_indexer] = value instead\n",
      "\n",
      "See the caveats in the documentation: https://pandas.pydata.org/pandas-docs/stable/user_guide/indexing.html#returning-a-view-versus-a-copy\n",
      "  upper['latitude'] = lat\n",
      "C:\\Users\\admin\\AppData\\Local\\Temp\\ipykernel_12992\\2872404493.py:10: SettingWithCopyWarning: \n",
      "A value is trying to be set on a copy of a slice from a DataFrame.\n",
      "Try using .loc[row_indexer,col_indexer] = value instead\n",
      "\n",
      "See the caveats in the documentation: https://pandas.pydata.org/pandas-docs/stable/user_guide/indexing.html#returning-a-view-versus-a-copy\n",
      "  upper['longitude'] = long\n"
     ]
    },
    {
     "data": {
      "text/html": [
       "<div>\n",
       "<style scoped>\n",
       "    .dataframe tbody tr th:only-of-type {\n",
       "        vertical-align: middle;\n",
       "    }\n",
       "\n",
       "    .dataframe tbody tr th {\n",
       "        vertical-align: top;\n",
       "    }\n",
       "\n",
       "    .dataframe thead th {\n",
       "        text-align: right;\n",
       "    }\n",
       "</style>\n",
       "<table border=\"1\" class=\"dataframe\">\n",
       "  <thead>\n",
       "    <tr style=\"text-align: right;\">\n",
       "      <th></th>\n",
       "      <th>name</th>\n",
       "      <th>reviews</th>\n",
       "      <th>type</th>\n",
       "      <th>now</th>\n",
       "      <th>hours</th>\n",
       "      <th>link</th>\n",
       "      <th>latitude</th>\n",
       "      <th>longitude</th>\n",
       "    </tr>\n",
       "  </thead>\n",
       "  <tbody>\n",
       "    <tr>\n",
       "      <th>0</th>\n",
       "      <td>Borghiciana Pastificio Artigianale</td>\n",
       "      <td>4.7</td>\n",
       "      <td>음식점</td>\n",
       "      <td>영업 중</td>\n",
       "      <td>오전 2:00에 영업 종료</td>\n",
       "      <td>https://www.google.com/maps/place/Borghiciana+...</td>\n",
       "      <td>41.9037358</td>\n",
       "      <td>12.4621894</td>\n",
       "    </tr>\n",
       "    <tr>\n",
       "      <th>1</th>\n",
       "      <td>Nerone</td>\n",
       "      <td>4.7</td>\n",
       "      <td>음식점</td>\n",
       "      <td>영업 종료</td>\n",
       "      <td>오전 11:30에 영업 시작</td>\n",
       "      <td>https://www.google.com/maps/place/Nerone/data=...</td>\n",
       "      <td>41.9010851</td>\n",
       "      <td>12.4968924</td>\n",
       "    </tr>\n",
       "    <tr>\n",
       "      <th>2</th>\n",
       "      <td>Colline Emiliane</td>\n",
       "      <td>4.6</td>\n",
       "      <td>음식점</td>\n",
       "      <td>곧 영업 시작</td>\n",
       "      <td>오전 10:00</td>\n",
       "      <td>https://www.google.com/maps/place/Colline+Emil...</td>\n",
       "      <td>41.9029515</td>\n",
       "      <td>12.4873707</td>\n",
       "    </tr>\n",
       "    <tr>\n",
       "      <th>3</th>\n",
       "      <td>al42 by Pasta Chef rione Monti</td>\n",
       "      <td>4.6</td>\n",
       "      <td>이탈리아 요리</td>\n",
       "      <td>영업 종료</td>\n",
       "      <td>오전 11:30에 영업 시작</td>\n",
       "      <td>https://www.google.com/maps/place/al42+by+Past...</td>\n",
       "      <td>41.894807</td>\n",
       "      <td>12.4897611</td>\n",
       "    </tr>\n",
       "    <tr>\n",
       "      <th>4</th>\n",
       "      <td>Piccolo Arancio</td>\n",
       "      <td>4.5</td>\n",
       "      <td>음식점</td>\n",
       "      <td>영업 종료</td>\n",
       "      <td>오후 12:30에 영업 시작</td>\n",
       "      <td>https://www.google.com/maps/place/Piccolo+Aran...</td>\n",
       "      <td>41.9007813</td>\n",
       "      <td>12.4849534</td>\n",
       "    </tr>\n",
       "    <tr>\n",
       "      <th>5</th>\n",
       "      <td>Vladimiro</td>\n",
       "      <td>4.5</td>\n",
       "      <td>이탈리아 요리</td>\n",
       "      <td>영업 종료</td>\n",
       "      <td>오후 12:00에 영업 시작</td>\n",
       "      <td>https://www.google.com/maps/place/Vladimiro/da...</td>\n",
       "      <td>41.907341</td>\n",
       "      <td>12.4878047</td>\n",
       "    </tr>\n",
       "    <tr>\n",
       "      <th>6</th>\n",
       "      <td>Trattoria Vecchia Roma</td>\n",
       "      <td>4.5</td>\n",
       "      <td>로마 요리</td>\n",
       "      <td>영업 종료</td>\n",
       "      <td>오전 11:00에 영업 시작</td>\n",
       "      <td>https://www.google.com/maps/place/Trattoria+Ve...</td>\n",
       "      <td>41.8938492</td>\n",
       "      <td>12.502279</td>\n",
       "    </tr>\n",
       "    <tr>\n",
       "      <th>7</th>\n",
       "      <td>La Vecchia Locanda</td>\n",
       "      <td>4.5</td>\n",
       "      <td>이탈리아 요리</td>\n",
       "      <td>영업 종료</td>\n",
       "      <td>오후 12:30에 영업 시작</td>\n",
       "      <td>https://www.google.com/maps/place/La+Vecchia+L...</td>\n",
       "      <td>41.8968393</td>\n",
       "      <td>12.4762499</td>\n",
       "    </tr>\n",
       "    <tr>\n",
       "      <th>8</th>\n",
       "      <td>Ristorante Arlù</td>\n",
       "      <td>4.5</td>\n",
       "      <td>이탈리아 요리</td>\n",
       "      <td>영업 종료</td>\n",
       "      <td>오전 11:30에 영업 시작</td>\n",
       "      <td>https://www.google.com/maps/place/Ristorante+A...</td>\n",
       "      <td>41.9039494</td>\n",
       "      <td>12.4593696</td>\n",
       "    </tr>\n",
       "    <tr>\n",
       "      <th>9</th>\n",
       "      <td>La Taverna dei Fori Imperiali</td>\n",
       "      <td>4.4</td>\n",
       "      <td>로마 요리</td>\n",
       "      <td>영업 중</td>\n",
       "      <td>오전 12:00에 영업 종료</td>\n",
       "      <td>https://www.google.com/maps/place/La+Taverna+d...</td>\n",
       "      <td>41.8940615</td>\n",
       "      <td>12.4884778</td>\n",
       "    </tr>\n",
       "  </tbody>\n",
       "</table>\n",
       "</div>"
      ],
      "text/plain": [
       "                                 name reviews     type      now  \\\n",
       "0  Borghiciana Pastificio Artigianale     4.7      음식점     영업 중   \n",
       "1                              Nerone     4.7      음식점    영업 종료   \n",
       "2                    Colline Emiliane     4.6      음식점  곧 영업 시작   \n",
       "3      al42 by Pasta Chef rione Monti     4.6  이탈리아 요리    영업 종료   \n",
       "4                     Piccolo Arancio     4.5      음식점    영업 종료   \n",
       "5                           Vladimiro     4.5  이탈리아 요리    영업 종료   \n",
       "6              Trattoria Vecchia Roma     4.5    로마 요리    영업 종료   \n",
       "7                  La Vecchia Locanda     4.5  이탈리아 요리    영업 종료   \n",
       "8                     Ristorante Arlù     4.5  이탈리아 요리    영업 종료   \n",
       "9       La Taverna dei Fori Imperiali     4.4    로마 요리     영업 중   \n",
       "\n",
       "             hours                                               link  \\\n",
       "0   오전 2:00에 영업 종료  https://www.google.com/maps/place/Borghiciana+...   \n",
       "1  오전 11:30에 영업 시작  https://www.google.com/maps/place/Nerone/data=...   \n",
       "2         오전 10:00  https://www.google.com/maps/place/Colline+Emil...   \n",
       "3  오전 11:30에 영업 시작  https://www.google.com/maps/place/al42+by+Past...   \n",
       "4  오후 12:30에 영업 시작  https://www.google.com/maps/place/Piccolo+Aran...   \n",
       "5  오후 12:00에 영업 시작  https://www.google.com/maps/place/Vladimiro/da...   \n",
       "6  오전 11:00에 영업 시작  https://www.google.com/maps/place/Trattoria+Ve...   \n",
       "7  오후 12:30에 영업 시작  https://www.google.com/maps/place/La+Vecchia+L...   \n",
       "8  오전 11:30에 영업 시작  https://www.google.com/maps/place/Ristorante+A...   \n",
       "9  오전 12:00에 영업 종료  https://www.google.com/maps/place/La+Taverna+d...   \n",
       "\n",
       "     latitude   longitude  \n",
       "0  41.9037358  12.4621894  \n",
       "1  41.9010851  12.4968924  \n",
       "2  41.9029515  12.4873707  \n",
       "3   41.894807  12.4897611  \n",
       "4  41.9007813  12.4849534  \n",
       "5   41.907341  12.4878047  \n",
       "6  41.8938492   12.502279  \n",
       "7  41.8968393  12.4762499  \n",
       "8  41.9039494  12.4593696  \n",
       "9  41.8940615  12.4884778  "
      ]
     },
     "execution_count": 546,
     "metadata": {},
     "output_type": "execute_result"
    }
   ],
   "source": [
    "lat = []\n",
    "long = []\n",
    "for i in range(0, len(upper['link'])):\n",
    "    p = re.compile('(\\d+\\.\\d+)[!]\\d{1}[d](\\d+\\.\\d+)')\n",
    "    coord = p.findall(upper['link'][i])\n",
    "    lat.append(p.search(upper['link'][i]).group(1))\n",
    "    long.append(p.search(upper['link'][i]).group(2))\n",
    "\n",
    "upper['latitude'] = lat\n",
    "upper['longitude'] = long\n",
    "upper"
   ]
  },
  {
   "cell_type": "code",
   "execution_count": 513,
   "id": "1056c53d-b765-4eca-a0c0-88c7d14e628f",
   "metadata": {},
   "outputs": [],
   "source": [
    "import requests\n",
    "import pandas as pd\n",
    "import numpy as np\n",
    "import folium\n",
    "from folium.plugins import MiniMap"
   ]
  },
  {
   "cell_type": "code",
   "execution_count": 564,
   "id": "21ff3312-e878-44ef-a8e8-563f8fb18675",
   "metadata": {
    "tags": []
   },
   "outputs": [],
   "source": [
    "def make_map(dfs):\n",
    "    # 지도 생성하기\n",
    "    m = folium.Map(location=[upper['latitude'][0],upper['longitude'][0]],   # 기준좌표: 서울시청\n",
    "                   zoom_start=12)\n",
    "\n",
    "    # 미니맵 추가하기\n",
    "    minimap = MiniMap() \n",
    "    m.add_child(minimap)\n",
    "\n",
    "    # 마커 추가하기\n",
    "    for i in range(len(dfs)):\n",
    "        popup_text = f'''<a href={upper.iloc[i].link} target='_blank'>\n",
    "                    {upper.iloc[i]['name']}</a> 별점: {upper.iloc[i]['reviews']}<br>\n",
    "                    영업중: {upper.iloc[i]['now']}<br>\n",
    "                    영업시간: {upper.iloc[i]['hours']}<br>'''\n",
    "\n",
    "        #팝업 크기 조절\n",
    "        popup = folium.Popup(popup_text, min_width=100, max_width=300)\n",
    "    \n",
    "        # 마커 생성\n",
    "        folium.Marker([upper['latitude'][i],upper['longitude'][i]],\n",
    "                  tooltip=upper['name'][i],\n",
    "                  popup=popup, \n",
    "                      icon=folium.Icon(color='red', icon='info-sign')).add_to(m)\n",
    "    return m"
   ]
  },
  {
   "cell_type": "code",
   "execution_count": 565,
   "id": "6084835b-9d4c-40bd-8eca-8c08a6814f5d",
   "metadata": {
    "tags": []
   },
   "outputs": [
    {
     "data": {
      "text/html": [
       "<div style=\"width:100%;\"><div style=\"position:relative;width:100%;height:0;padding-bottom:60%;\"><span style=\"color:#565656\">Make this Notebook Trusted to load map: File -> Trust Notebook</span><iframe srcdoc=\"&lt;!DOCTYPE html&gt;\n",
       "&lt;head&gt;    \n",
       "    &lt;meta http-equiv=&quot;content-type&quot; content=&quot;text/html; charset=UTF-8&quot; /&gt;\n",
       "    \n",
       "        &lt;script&gt;\n",
       "            L_NO_TOUCH = false;\n",
       "            L_DISABLE_3D = false;\n",
       "        &lt;/script&gt;\n",
       "    \n",
       "    &lt;style&gt;html, body {width: 100%;height: 100%;margin: 0;padding: 0;}&lt;/style&gt;\n",
       "    &lt;style&gt;#map {position:absolute;top:0;bottom:0;right:0;left:0;}&lt;/style&gt;\n",
       "    &lt;script src=&quot;https://cdn.jsdelivr.net/npm/leaflet@1.6.0/dist/leaflet.js&quot;&gt;&lt;/script&gt;\n",
       "    &lt;script src=&quot;https://code.jquery.com/jquery-1.12.4.min.js&quot;&gt;&lt;/script&gt;\n",
       "    &lt;script src=&quot;https://maxcdn.bootstrapcdn.com/bootstrap/3.2.0/js/bootstrap.min.js&quot;&gt;&lt;/script&gt;\n",
       "    &lt;script src=&quot;https://cdnjs.cloudflare.com/ajax/libs/Leaflet.awesome-markers/2.0.2/leaflet.awesome-markers.js&quot;&gt;&lt;/script&gt;\n",
       "    &lt;link rel=&quot;stylesheet&quot; href=&quot;https://cdn.jsdelivr.net/npm/leaflet@1.6.0/dist/leaflet.css&quot;/&gt;\n",
       "    &lt;link rel=&quot;stylesheet&quot; href=&quot;https://maxcdn.bootstrapcdn.com/bootstrap/3.2.0/css/bootstrap.min.css&quot;/&gt;\n",
       "    &lt;link rel=&quot;stylesheet&quot; href=&quot;https://maxcdn.bootstrapcdn.com/bootstrap/3.2.0/css/bootstrap-theme.min.css&quot;/&gt;\n",
       "    &lt;link rel=&quot;stylesheet&quot; href=&quot;https://maxcdn.bootstrapcdn.com/font-awesome/4.6.3/css/font-awesome.min.css&quot;/&gt;\n",
       "    &lt;link rel=&quot;stylesheet&quot; href=&quot;https://cdnjs.cloudflare.com/ajax/libs/Leaflet.awesome-markers/2.0.2/leaflet.awesome-markers.css&quot;/&gt;\n",
       "    &lt;link rel=&quot;stylesheet&quot; href=&quot;https://cdn.jsdelivr.net/gh/python-visualization/folium/folium/templates/leaflet.awesome.rotate.min.css&quot;/&gt;\n",
       "    \n",
       "            &lt;meta name=&quot;viewport&quot; content=&quot;width=device-width,\n",
       "                initial-scale=1.0, maximum-scale=1.0, user-scalable=no&quot; /&gt;\n",
       "            &lt;style&gt;\n",
       "                #map_237fbb5a2a2cf0137af6162be58bc0c6 {\n",
       "                    position: relative;\n",
       "                    width: 100.0%;\n",
       "                    height: 100.0%;\n",
       "                    left: 0.0%;\n",
       "                    top: 0.0%;\n",
       "                }\n",
       "            &lt;/style&gt;\n",
       "        \n",
       "    &lt;script src=&quot;https://cdnjs.cloudflare.com/ajax/libs/leaflet-minimap/3.6.1/Control.MiniMap.js&quot;&gt;&lt;/script&gt;\n",
       "    &lt;link rel=&quot;stylesheet&quot; href=&quot;https://cdnjs.cloudflare.com/ajax/libs/leaflet-minimap/3.6.1/Control.MiniMap.css&quot;/&gt;\n",
       "&lt;/head&gt;\n",
       "&lt;body&gt;    \n",
       "    \n",
       "            &lt;div class=&quot;folium-map&quot; id=&quot;map_237fbb5a2a2cf0137af6162be58bc0c6&quot; &gt;&lt;/div&gt;\n",
       "        \n",
       "&lt;/body&gt;\n",
       "&lt;script&gt;    \n",
       "    \n",
       "            var map_237fbb5a2a2cf0137af6162be58bc0c6 = L.map(\n",
       "                &quot;map_237fbb5a2a2cf0137af6162be58bc0c6&quot;,\n",
       "                {\n",
       "                    center: [41.9037358, 12.4621894],\n",
       "                    crs: L.CRS.EPSG3857,\n",
       "                    zoom: 12,\n",
       "                    zoomControl: true,\n",
       "                    preferCanvas: false,\n",
       "                }\n",
       "            );\n",
       "\n",
       "            \n",
       "\n",
       "        \n",
       "    \n",
       "            var tile_layer_9ad339280d64f772d71084dcd06a7177 = L.tileLayer(\n",
       "                &quot;https://{s}.tile.openstreetmap.org/{z}/{x}/{y}.png&quot;,\n",
       "                {&quot;attribution&quot;: &quot;Data by \\u0026copy; \\u003ca href=\\&quot;http://openstreetmap.org\\&quot;\\u003eOpenStreetMap\\u003c/a\\u003e, under \\u003ca href=\\&quot;http://www.openstreetmap.org/copyright\\&quot;\\u003eODbL\\u003c/a\\u003e.&quot;, &quot;detectRetina&quot;: false, &quot;maxNativeZoom&quot;: 18, &quot;maxZoom&quot;: 18, &quot;minZoom&quot;: 0, &quot;noWrap&quot;: false, &quot;opacity&quot;: 1, &quot;subdomains&quot;: &quot;abc&quot;, &quot;tms&quot;: false}\n",
       "            ).addTo(map_237fbb5a2a2cf0137af6162be58bc0c6);\n",
       "        \n",
       "    \n",
       "            var tile_layer_5af4d670456321fa29edcc99c6b3bc54 = L.tileLayer(\n",
       "                &quot;https://{s}.tile.openstreetmap.org/{z}/{x}/{y}.png&quot;,\n",
       "                {&quot;attribution&quot;: &quot;Data by \\u0026copy; \\u003ca href=\\&quot;http://openstreetmap.org\\&quot;\\u003eOpenStreetMap\\u003c/a\\u003e, under \\u003ca href=\\&quot;http://www.openstreetmap.org/copyright\\&quot;\\u003eODbL\\u003c/a\\u003e.&quot;, &quot;detectRetina&quot;: false, &quot;maxNativeZoom&quot;: 18, &quot;maxZoom&quot;: 18, &quot;minZoom&quot;: 0, &quot;noWrap&quot;: false, &quot;opacity&quot;: 1, &quot;subdomains&quot;: &quot;abc&quot;, &quot;tms&quot;: false}\n",
       "            );\n",
       "            var mini_map_935c98d2931c94a9ba1e1eb628ef631a = new L.Control.MiniMap(\n",
       "                tile_layer_5af4d670456321fa29edcc99c6b3bc54,\n",
       "                {&quot;autoToggleDisplay&quot;: false, &quot;centerFixed&quot;: false, &quot;collapsedHeight&quot;: 25, &quot;collapsedWidth&quot;: 25, &quot;height&quot;: 150, &quot;minimized&quot;: false, &quot;position&quot;: &quot;bottomright&quot;, &quot;toggleDisplay&quot;: false, &quot;width&quot;: 150, &quot;zoomAnimation&quot;: false, &quot;zoomLevelOffset&quot;: -5}\n",
       "            );\n",
       "            map_237fbb5a2a2cf0137af6162be58bc0c6.addControl(mini_map_935c98d2931c94a9ba1e1eb628ef631a);\n",
       "        \n",
       "    \n",
       "            var marker_e2a36cdd647f8dc2c87ccc3129d1425b = L.marker(\n",
       "                [41.9037358, 12.4621894],\n",
       "                {}\n",
       "            ).addTo(map_237fbb5a2a2cf0137af6162be58bc0c6);\n",
       "        \n",
       "    \n",
       "            var icon_1c1714e479ce9edcabbc9c878547cc47 = L.AwesomeMarkers.icon(\n",
       "                {&quot;extraClasses&quot;: &quot;fa-rotate-0&quot;, &quot;icon&quot;: &quot;info-sign&quot;, &quot;iconColor&quot;: &quot;white&quot;, &quot;markerColor&quot;: &quot;red&quot;, &quot;prefix&quot;: &quot;glyphicon&quot;}\n",
       "            );\n",
       "            marker_e2a36cdd647f8dc2c87ccc3129d1425b.setIcon(icon_1c1714e479ce9edcabbc9c878547cc47);\n",
       "        \n",
       "    \n",
       "        var popup_f2c25b39c2ef59f99d7bc3863833ec35 = L.popup({&quot;maxWidth&quot;: 300, &quot;minWidth&quot;: 100});\n",
       "\n",
       "        \n",
       "            var html_4da5a1ed01b29ee68d22da1fd2e1846a = $(`&lt;div id=&quot;html_4da5a1ed01b29ee68d22da1fd2e1846a&quot; style=&quot;width: 100.0%; height: 100.0%;&quot;&gt;&lt;a href=https://www.google.com/maps/place/Borghiciana+Pastificio+Artigianale/data=!4m7!3m6!1s0x132f60562a1309bd:0x4a833fb9a81d817f!8m2!3d41.9037358!4d12.4621894!16s%2Fg%2F11gczz6_ny!19sChIJvQkTKlZgLxMRf4EdqLk_g0o?authuser=0&amp;hl=ko&amp;rclk=1 target=&#x27;_blank&#x27;&gt;                     Borghiciana Pastificio Artigianale&lt;/a&gt; 별점: 4.7&lt;br&gt;                     영업중: 영업 중&lt;br&gt;                     영업시간: 오전 2:00에 영업 종료&lt;br&gt;&lt;/div&gt;`)[0];\n",
       "            popup_f2c25b39c2ef59f99d7bc3863833ec35.setContent(html_4da5a1ed01b29ee68d22da1fd2e1846a);\n",
       "        \n",
       "\n",
       "        marker_e2a36cdd647f8dc2c87ccc3129d1425b.bindPopup(popup_f2c25b39c2ef59f99d7bc3863833ec35)\n",
       "        ;\n",
       "\n",
       "        \n",
       "    \n",
       "    \n",
       "            marker_e2a36cdd647f8dc2c87ccc3129d1425b.bindTooltip(\n",
       "                `&lt;div&gt;\n",
       "                     Borghiciana Pastificio Artigianale\n",
       "                 &lt;/div&gt;`,\n",
       "                {&quot;sticky&quot;: true}\n",
       "            );\n",
       "        \n",
       "    \n",
       "            var marker_b8c54e0695cfe3dd8b36ac290027efe3 = L.marker(\n",
       "                [41.9010851, 12.4968924],\n",
       "                {}\n",
       "            ).addTo(map_237fbb5a2a2cf0137af6162be58bc0c6);\n",
       "        \n",
       "    \n",
       "            var icon_4f6b5a25099f7e895fd58e54b355817e = L.AwesomeMarkers.icon(\n",
       "                {&quot;extraClasses&quot;: &quot;fa-rotate-0&quot;, &quot;icon&quot;: &quot;info-sign&quot;, &quot;iconColor&quot;: &quot;white&quot;, &quot;markerColor&quot;: &quot;red&quot;, &quot;prefix&quot;: &quot;glyphicon&quot;}\n",
       "            );\n",
       "            marker_b8c54e0695cfe3dd8b36ac290027efe3.setIcon(icon_4f6b5a25099f7e895fd58e54b355817e);\n",
       "        \n",
       "    \n",
       "        var popup_c80e626f332becf0a0daaeb191b4a736 = L.popup({&quot;maxWidth&quot;: 300, &quot;minWidth&quot;: 100});\n",
       "\n",
       "        \n",
       "            var html_59755b9ad12b314deb2ab496c4fa2d72 = $(`&lt;div id=&quot;html_59755b9ad12b314deb2ab496c4fa2d72&quot; style=&quot;width: 100.0%; height: 100.0%;&quot;&gt;&lt;a href=https://www.google.com/maps/place/Nerone/data=!4m7!3m6!1s0x132f61a5dd6d121b:0xe1cec88c833f72f8!8m2!3d41.9010851!4d12.4968924!16s%2Fg%2F11c6cd09s7!19sChIJGxJt3aVhLxMR-HI_g4zIzuE?authuser=0&amp;hl=ko&amp;rclk=1 target=&#x27;_blank&#x27;&gt;                     Nerone&lt;/a&gt; 별점: 4.7&lt;br&gt;                     영업중: 영업 종료&lt;br&gt;                     영업시간: 오전 11:30에 영업 시작&lt;br&gt;&lt;/div&gt;`)[0];\n",
       "            popup_c80e626f332becf0a0daaeb191b4a736.setContent(html_59755b9ad12b314deb2ab496c4fa2d72);\n",
       "        \n",
       "\n",
       "        marker_b8c54e0695cfe3dd8b36ac290027efe3.bindPopup(popup_c80e626f332becf0a0daaeb191b4a736)\n",
       "        ;\n",
       "\n",
       "        \n",
       "    \n",
       "    \n",
       "            marker_b8c54e0695cfe3dd8b36ac290027efe3.bindTooltip(\n",
       "                `&lt;div&gt;\n",
       "                     Nerone\n",
       "                 &lt;/div&gt;`,\n",
       "                {&quot;sticky&quot;: true}\n",
       "            );\n",
       "        \n",
       "    \n",
       "            var marker_6e05186bcd6f68ef5e16119decf16244 = L.marker(\n",
       "                [41.9029515, 12.4873707],\n",
       "                {}\n",
       "            ).addTo(map_237fbb5a2a2cf0137af6162be58bc0c6);\n",
       "        \n",
       "    \n",
       "            var icon_b25361f414213aea929b717ae4028dba = L.AwesomeMarkers.icon(\n",
       "                {&quot;extraClasses&quot;: &quot;fa-rotate-0&quot;, &quot;icon&quot;: &quot;info-sign&quot;, &quot;iconColor&quot;: &quot;white&quot;, &quot;markerColor&quot;: &quot;red&quot;, &quot;prefix&quot;: &quot;glyphicon&quot;}\n",
       "            );\n",
       "            marker_6e05186bcd6f68ef5e16119decf16244.setIcon(icon_b25361f414213aea929b717ae4028dba);\n",
       "        \n",
       "    \n",
       "        var popup_03cefd647334af82d91aa3dcf9ac76a2 = L.popup({&quot;maxWidth&quot;: 300, &quot;minWidth&quot;: 100});\n",
       "\n",
       "        \n",
       "            var html_1e62723d13b734ed85e3667f93d2587b = $(`&lt;div id=&quot;html_1e62723d13b734ed85e3667f93d2587b&quot; style=&quot;width: 100.0%; height: 100.0%;&quot;&gt;&lt;a href=https://www.google.com/maps/place/Colline+Emiliane/data=!4m7!3m6!1s0x132f61ab842d1761:0xf2781bf66cdf53f8!8m2!3d41.9029515!4d12.4873707!16s%2Fg%2F1tkjnmvx!19sChIJYRcthKthLxMR-FPfbPYbePI?authuser=0&amp;hl=ko&amp;rclk=1 target=&#x27;_blank&#x27;&gt;                     Colline Emiliane&lt;/a&gt; 별점: 4.6&lt;br&gt;                     영업중: 곧 영업 시작&lt;br&gt;                     영업시간: 오전 10:00&lt;br&gt;&lt;/div&gt;`)[0];\n",
       "            popup_03cefd647334af82d91aa3dcf9ac76a2.setContent(html_1e62723d13b734ed85e3667f93d2587b);\n",
       "        \n",
       "\n",
       "        marker_6e05186bcd6f68ef5e16119decf16244.bindPopup(popup_03cefd647334af82d91aa3dcf9ac76a2)\n",
       "        ;\n",
       "\n",
       "        \n",
       "    \n",
       "    \n",
       "            marker_6e05186bcd6f68ef5e16119decf16244.bindTooltip(\n",
       "                `&lt;div&gt;\n",
       "                     Colline Emiliane\n",
       "                 &lt;/div&gt;`,\n",
       "                {&quot;sticky&quot;: true}\n",
       "            );\n",
       "        \n",
       "    \n",
       "            var marker_4449d5900e07c40add8b72a981bb8e8c = L.marker(\n",
       "                [41.894807, 12.4897611],\n",
       "                {}\n",
       "            ).addTo(map_237fbb5a2a2cf0137af6162be58bc0c6);\n",
       "        \n",
       "    \n",
       "            var icon_35370ab5f9ce9cde7cc5f0fcbc5ca275 = L.AwesomeMarkers.icon(\n",
       "                {&quot;extraClasses&quot;: &quot;fa-rotate-0&quot;, &quot;icon&quot;: &quot;info-sign&quot;, &quot;iconColor&quot;: &quot;white&quot;, &quot;markerColor&quot;: &quot;red&quot;, &quot;prefix&quot;: &quot;glyphicon&quot;}\n",
       "            );\n",
       "            marker_4449d5900e07c40add8b72a981bb8e8c.setIcon(icon_35370ab5f9ce9cde7cc5f0fcbc5ca275);\n",
       "        \n",
       "    \n",
       "        var popup_23883bda493bcfdfc05669fc03780089 = L.popup({&quot;maxWidth&quot;: 300, &quot;minWidth&quot;: 100});\n",
       "\n",
       "        \n",
       "            var html_38123351bb30a2de6ca06e3110045d78 = $(`&lt;div id=&quot;html_38123351bb30a2de6ca06e3110045d78&quot; style=&quot;width: 100.0%; height: 100.0%;&quot;&gt;&lt;a href=https://www.google.com/maps/place/al42+by+Pasta+Chef+rione+Monti/data=!4m7!3m6!1s0x132f61b17e6e8489:0x33db5bf87e8493b6!8m2!3d41.894807!4d12.4897611!16s%2Fg%2F11bwqbv3f8!19sChIJiYRufrFhLxMRtpOEfvhb2zM?authuser=0&amp;hl=ko&amp;rclk=1 target=&#x27;_blank&#x27;&gt;                     al42 by Pasta Chef rione Monti&lt;/a&gt; 별점: 4.6&lt;br&gt;                     영업중: 영업 종료&lt;br&gt;                     영업시간: 오전 11:30에 영업 시작&lt;br&gt;&lt;/div&gt;`)[0];\n",
       "            popup_23883bda493bcfdfc05669fc03780089.setContent(html_38123351bb30a2de6ca06e3110045d78);\n",
       "        \n",
       "\n",
       "        marker_4449d5900e07c40add8b72a981bb8e8c.bindPopup(popup_23883bda493bcfdfc05669fc03780089)\n",
       "        ;\n",
       "\n",
       "        \n",
       "    \n",
       "    \n",
       "            marker_4449d5900e07c40add8b72a981bb8e8c.bindTooltip(\n",
       "                `&lt;div&gt;\n",
       "                     al42 by Pasta Chef rione Monti\n",
       "                 &lt;/div&gt;`,\n",
       "                {&quot;sticky&quot;: true}\n",
       "            );\n",
       "        \n",
       "    \n",
       "            var marker_198e00c51d3f8e1a5061ccb103d9d426 = L.marker(\n",
       "                [41.9007813, 12.4849534],\n",
       "                {}\n",
       "            ).addTo(map_237fbb5a2a2cf0137af6162be58bc0c6);\n",
       "        \n",
       "    \n",
       "            var icon_4ecbbb6e3c180d924232c32a25b18d30 = L.AwesomeMarkers.icon(\n",
       "                {&quot;extraClasses&quot;: &quot;fa-rotate-0&quot;, &quot;icon&quot;: &quot;info-sign&quot;, &quot;iconColor&quot;: &quot;white&quot;, &quot;markerColor&quot;: &quot;red&quot;, &quot;prefix&quot;: &quot;glyphicon&quot;}\n",
       "            );\n",
       "            marker_198e00c51d3f8e1a5061ccb103d9d426.setIcon(icon_4ecbbb6e3c180d924232c32a25b18d30);\n",
       "        \n",
       "    \n",
       "        var popup_f4244727fd82d089e52477246d34350b = L.popup({&quot;maxWidth&quot;: 300, &quot;minWidth&quot;: 100});\n",
       "\n",
       "        \n",
       "            var html_6e56abf979b1f03e9273e72c0b1961af = $(`&lt;div id=&quot;html_6e56abf979b1f03e9273e72c0b1961af&quot; style=&quot;width: 100.0%; height: 100.0%;&quot;&gt;&lt;a href=https://www.google.com/maps/place/Piccolo+Arancio/data=!4m7!3m6!1s0x132f61acdbeb9ccd:0xb95f26bd0f31868f!8m2!3d41.9007813!4d12.4849534!16s%2Fg%2F1w2gs901!19sChIJzZzr26xhLxMRj4YxD70mX7k?authuser=0&amp;hl=ko&amp;rclk=1 target=&#x27;_blank&#x27;&gt;                     Piccolo Arancio&lt;/a&gt; 별점: 4.5&lt;br&gt;                     영업중: 영업 종료&lt;br&gt;                     영업시간: 오후 12:30에 영업 시작&lt;br&gt;&lt;/div&gt;`)[0];\n",
       "            popup_f4244727fd82d089e52477246d34350b.setContent(html_6e56abf979b1f03e9273e72c0b1961af);\n",
       "        \n",
       "\n",
       "        marker_198e00c51d3f8e1a5061ccb103d9d426.bindPopup(popup_f4244727fd82d089e52477246d34350b)\n",
       "        ;\n",
       "\n",
       "        \n",
       "    \n",
       "    \n",
       "            marker_198e00c51d3f8e1a5061ccb103d9d426.bindTooltip(\n",
       "                `&lt;div&gt;\n",
       "                     Piccolo Arancio\n",
       "                 &lt;/div&gt;`,\n",
       "                {&quot;sticky&quot;: true}\n",
       "            );\n",
       "        \n",
       "    \n",
       "            var marker_969b212cb742c3c0e12cddd0a455b7f6 = L.marker(\n",
       "                [41.907341, 12.4878047],\n",
       "                {}\n",
       "            ).addTo(map_237fbb5a2a2cf0137af6162be58bc0c6);\n",
       "        \n",
       "    \n",
       "            var icon_d718153b9ccd1f15cbbc4dadc1cfdcad = L.AwesomeMarkers.icon(\n",
       "                {&quot;extraClasses&quot;: &quot;fa-rotate-0&quot;, &quot;icon&quot;: &quot;info-sign&quot;, &quot;iconColor&quot;: &quot;white&quot;, &quot;markerColor&quot;: &quot;red&quot;, &quot;prefix&quot;: &quot;glyphicon&quot;}\n",
       "            );\n",
       "            marker_969b212cb742c3c0e12cddd0a455b7f6.setIcon(icon_d718153b9ccd1f15cbbc4dadc1cfdcad);\n",
       "        \n",
       "    \n",
       "        var popup_294803c34dc20e42e8fad3f9530f020a = L.popup({&quot;maxWidth&quot;: 300, &quot;minWidth&quot;: 100});\n",
       "\n",
       "        \n",
       "            var html_2e248a76ec63c6242c15501a15a643c0 = $(`&lt;div id=&quot;html_2e248a76ec63c6242c15501a15a643c0&quot; style=&quot;width: 100.0%; height: 100.0%;&quot;&gt;&lt;a href=https://www.google.com/maps/place/Vladimiro/data=!4m7!3m6!1s0x132f61aa771e7489:0x54b13c7e347bcb21!8m2!3d41.907341!4d12.4878047!16s%2Fg%2F1wnzby_c!19sChIJiXQed6phLxMRIct7NH48sVQ?authuser=0&amp;hl=ko&amp;rclk=1 target=&#x27;_blank&#x27;&gt;                     Vladimiro&lt;/a&gt; 별점: 4.5&lt;br&gt;                     영업중: 영업 종료&lt;br&gt;                     영업시간: 오후 12:00에 영업 시작&lt;br&gt;&lt;/div&gt;`)[0];\n",
       "            popup_294803c34dc20e42e8fad3f9530f020a.setContent(html_2e248a76ec63c6242c15501a15a643c0);\n",
       "        \n",
       "\n",
       "        marker_969b212cb742c3c0e12cddd0a455b7f6.bindPopup(popup_294803c34dc20e42e8fad3f9530f020a)\n",
       "        ;\n",
       "\n",
       "        \n",
       "    \n",
       "    \n",
       "            marker_969b212cb742c3c0e12cddd0a455b7f6.bindTooltip(\n",
       "                `&lt;div&gt;\n",
       "                     Vladimiro\n",
       "                 &lt;/div&gt;`,\n",
       "                {&quot;sticky&quot;: true}\n",
       "            );\n",
       "        \n",
       "    \n",
       "            var marker_867255b138b50961634d5f6a3a16ddec = L.marker(\n",
       "                [41.8938492, 12.502279],\n",
       "                {}\n",
       "            ).addTo(map_237fbb5a2a2cf0137af6162be58bc0c6);\n",
       "        \n",
       "    \n",
       "            var icon_77cb8af3fe83c578113777081cf99e89 = L.AwesomeMarkers.icon(\n",
       "                {&quot;extraClasses&quot;: &quot;fa-rotate-0&quot;, &quot;icon&quot;: &quot;info-sign&quot;, &quot;iconColor&quot;: &quot;white&quot;, &quot;markerColor&quot;: &quot;red&quot;, &quot;prefix&quot;: &quot;glyphicon&quot;}\n",
       "            );\n",
       "            marker_867255b138b50961634d5f6a3a16ddec.setIcon(icon_77cb8af3fe83c578113777081cf99e89);\n",
       "        \n",
       "    \n",
       "        var popup_8df7614a73d17b06ce7da535628d0935 = L.popup({&quot;maxWidth&quot;: 300, &quot;minWidth&quot;: 100});\n",
       "\n",
       "        \n",
       "            var html_1c2c796efed4c1184813e55a98ba8322 = $(`&lt;div id=&quot;html_1c2c796efed4c1184813e55a98ba8322&quot; style=&quot;width: 100.0%; height: 100.0%;&quot;&gt;&lt;a href=https://www.google.com/maps/place/Trattoria+Vecchia+Roma/data=!4m7!3m6!1s0x132f61bc8af49cfd:0xdb173fd38c57770a!8m2!3d41.8938492!4d12.502279!16s%2Fg%2F1tf8qbtt!19sChIJ_Zz0irxhLxMRCndXjNM_F9s?authuser=0&amp;hl=ko&amp;rclk=1 target=&#x27;_blank&#x27;&gt;                     Trattoria Vecchia Roma&lt;/a&gt; 별점: 4.5&lt;br&gt;                     영업중: 영업 종료&lt;br&gt;                     영업시간: 오전 11:00에 영업 시작&lt;br&gt;&lt;/div&gt;`)[0];\n",
       "            popup_8df7614a73d17b06ce7da535628d0935.setContent(html_1c2c796efed4c1184813e55a98ba8322);\n",
       "        \n",
       "\n",
       "        marker_867255b138b50961634d5f6a3a16ddec.bindPopup(popup_8df7614a73d17b06ce7da535628d0935)\n",
       "        ;\n",
       "\n",
       "        \n",
       "    \n",
       "    \n",
       "            marker_867255b138b50961634d5f6a3a16ddec.bindTooltip(\n",
       "                `&lt;div&gt;\n",
       "                     Trattoria Vecchia Roma\n",
       "                 &lt;/div&gt;`,\n",
       "                {&quot;sticky&quot;: true}\n",
       "            );\n",
       "        \n",
       "    \n",
       "            var marker_efe0b39f230d2680b179500e4ae872cf = L.marker(\n",
       "                [41.8968393, 12.4762499],\n",
       "                {}\n",
       "            ).addTo(map_237fbb5a2a2cf0137af6162be58bc0c6);\n",
       "        \n",
       "    \n",
       "            var icon_8107c1093fd4e81e2ab63c5efe8f6037 = L.AwesomeMarkers.icon(\n",
       "                {&quot;extraClasses&quot;: &quot;fa-rotate-0&quot;, &quot;icon&quot;: &quot;info-sign&quot;, &quot;iconColor&quot;: &quot;white&quot;, &quot;markerColor&quot;: &quot;red&quot;, &quot;prefix&quot;: &quot;glyphicon&quot;}\n",
       "            );\n",
       "            marker_efe0b39f230d2680b179500e4ae872cf.setIcon(icon_8107c1093fd4e81e2ab63c5efe8f6037);\n",
       "        \n",
       "    \n",
       "        var popup_787d28e059ecde4402bac2e8df8545ca = L.popup({&quot;maxWidth&quot;: 300, &quot;minWidth&quot;: 100});\n",
       "\n",
       "        \n",
       "            var html_9a46ac0266b071027f270a895ffd3b07 = $(`&lt;div id=&quot;html_9a46ac0266b071027f270a895ffd3b07&quot; style=&quot;width: 100.0%; height: 100.0%;&quot;&gt;&lt;a href=https://www.google.com/maps/place/La+Vecchia+Locanda/data=!4m7!3m6!1s0x132f604e572af4e1:0x31b5ba95a76c3ba3!8m2!3d41.8968393!4d12.4762499!16s%2Fg%2F1tv6t241!19sChIJ4fQqV05gLxMRoztsp5W6tTE?authuser=0&amp;hl=ko&amp;rclk=1 target=&#x27;_blank&#x27;&gt;                     La Vecchia Locanda&lt;/a&gt; 별점: 4.5&lt;br&gt;                     영업중: 영업 종료&lt;br&gt;                     영업시간: 오후 12:30에 영업 시작&lt;br&gt;&lt;/div&gt;`)[0];\n",
       "            popup_787d28e059ecde4402bac2e8df8545ca.setContent(html_9a46ac0266b071027f270a895ffd3b07);\n",
       "        \n",
       "\n",
       "        marker_efe0b39f230d2680b179500e4ae872cf.bindPopup(popup_787d28e059ecde4402bac2e8df8545ca)\n",
       "        ;\n",
       "\n",
       "        \n",
       "    \n",
       "    \n",
       "            marker_efe0b39f230d2680b179500e4ae872cf.bindTooltip(\n",
       "                `&lt;div&gt;\n",
       "                     La Vecchia Locanda\n",
       "                 &lt;/div&gt;`,\n",
       "                {&quot;sticky&quot;: true}\n",
       "            );\n",
       "        \n",
       "    \n",
       "            var marker_a141b5d7ebb692cdf198fbdd47e03834 = L.marker(\n",
       "                [41.9039494, 12.4593696],\n",
       "                {}\n",
       "            ).addTo(map_237fbb5a2a2cf0137af6162be58bc0c6);\n",
       "        \n",
       "    \n",
       "            var icon_9f3477f8f2474d17d510a5060f51a023 = L.AwesomeMarkers.icon(\n",
       "                {&quot;extraClasses&quot;: &quot;fa-rotate-0&quot;, &quot;icon&quot;: &quot;info-sign&quot;, &quot;iconColor&quot;: &quot;white&quot;, &quot;markerColor&quot;: &quot;red&quot;, &quot;prefix&quot;: &quot;glyphicon&quot;}\n",
       "            );\n",
       "            marker_a141b5d7ebb692cdf198fbdd47e03834.setIcon(icon_9f3477f8f2474d17d510a5060f51a023);\n",
       "        \n",
       "    \n",
       "        var popup_cb820a58c9abc5df29b3d64878525726 = L.popup({&quot;maxWidth&quot;: 300, &quot;minWidth&quot;: 100});\n",
       "\n",
       "        \n",
       "            var html_086d8f868fc3fc9512ea526f7e0676ed = $(`&lt;div id=&quot;html_086d8f868fc3fc9512ea526f7e0676ed&quot; style=&quot;width: 100.0%; height: 100.0%;&quot;&gt;&lt;a href=https://www.google.com/maps/place/Ristorante+Arl%C3%B9/data=!4m7!3m6!1s0x132f60671209ced1:0x84e15e2a0130de21!8m2!3d41.9039494!4d12.4593696!16s%2Fg%2F11g_5xgxn!19sChIJ0c4JEmdgLxMRId4wASpe4YQ?authuser=0&amp;hl=ko&amp;rclk=1 target=&#x27;_blank&#x27;&gt;                     Ristorante Arlù&lt;/a&gt; 별점: 4.5&lt;br&gt;                     영업중: 영업 종료&lt;br&gt;                     영업시간: 오전 11:30에 영업 시작&lt;br&gt;&lt;/div&gt;`)[0];\n",
       "            popup_cb820a58c9abc5df29b3d64878525726.setContent(html_086d8f868fc3fc9512ea526f7e0676ed);\n",
       "        \n",
       "\n",
       "        marker_a141b5d7ebb692cdf198fbdd47e03834.bindPopup(popup_cb820a58c9abc5df29b3d64878525726)\n",
       "        ;\n",
       "\n",
       "        \n",
       "    \n",
       "    \n",
       "            marker_a141b5d7ebb692cdf198fbdd47e03834.bindTooltip(\n",
       "                `&lt;div&gt;\n",
       "                     Ristorante Arlù\n",
       "                 &lt;/div&gt;`,\n",
       "                {&quot;sticky&quot;: true}\n",
       "            );\n",
       "        \n",
       "    \n",
       "            var marker_1d5d4a63cb807ae0d700c85cf9fbc9e8 = L.marker(\n",
       "                [41.8940615, 12.4884778],\n",
       "                {}\n",
       "            ).addTo(map_237fbb5a2a2cf0137af6162be58bc0c6);\n",
       "        \n",
       "    \n",
       "            var icon_c141d5b1220fafa1e58208c7eb3b2b90 = L.AwesomeMarkers.icon(\n",
       "                {&quot;extraClasses&quot;: &quot;fa-rotate-0&quot;, &quot;icon&quot;: &quot;info-sign&quot;, &quot;iconColor&quot;: &quot;white&quot;, &quot;markerColor&quot;: &quot;red&quot;, &quot;prefix&quot;: &quot;glyphicon&quot;}\n",
       "            );\n",
       "            marker_1d5d4a63cb807ae0d700c85cf9fbc9e8.setIcon(icon_c141d5b1220fafa1e58208c7eb3b2b90);\n",
       "        \n",
       "    \n",
       "        var popup_f21420178b8fc5b54984b6207541d708 = L.popup({&quot;maxWidth&quot;: 300, &quot;minWidth&quot;: 100});\n",
       "\n",
       "        \n",
       "            var html_c55f2f40ed11756620345a758f017510 = $(`&lt;div id=&quot;html_c55f2f40ed11756620345a758f017510&quot; style=&quot;width: 100.0%; height: 100.0%;&quot;&gt;&lt;a href=https://www.google.com/maps/place/La+Taverna+dei+Fori+Imperiali/data=!4m7!3m6!1s0x132f61b3dccedc5d:0x6fa9e10e76f3dcb5!8m2!3d41.8940615!4d12.4884778!16s%2Fg%2F1tf2p52_!19sChIJXdzO3LNhLxMRtdzzdg7hqW8?authuser=0&amp;hl=ko&amp;rclk=1 target=&#x27;_blank&#x27;&gt;                     La Taverna dei Fori Imperiali&lt;/a&gt; 별점: 4.4&lt;br&gt;                     영업중: 영업 중&lt;br&gt;                     영업시간: 오전 12:00에 영업 종료&lt;br&gt;&lt;/div&gt;`)[0];\n",
       "            popup_f21420178b8fc5b54984b6207541d708.setContent(html_c55f2f40ed11756620345a758f017510);\n",
       "        \n",
       "\n",
       "        marker_1d5d4a63cb807ae0d700c85cf9fbc9e8.bindPopup(popup_f21420178b8fc5b54984b6207541d708)\n",
       "        ;\n",
       "\n",
       "        \n",
       "    \n",
       "    \n",
       "            marker_1d5d4a63cb807ae0d700c85cf9fbc9e8.bindTooltip(\n",
       "                `&lt;div&gt;\n",
       "                     La Taverna dei Fori Imperiali\n",
       "                 &lt;/div&gt;`,\n",
       "                {&quot;sticky&quot;: true}\n",
       "            );\n",
       "        \n",
       "&lt;/script&gt;\" style=\"position:absolute;width:100%;height:100%;left:0;top:0;border:none !important;\" allowfullscreen webkitallowfullscreen mozallowfullscreen></iframe></div></div>"
      ],
      "text/plain": [
       "<folium.folium.Map at 0x1711ad1ee80>"
      ]
     },
     "execution_count": 565,
     "metadata": {},
     "output_type": "execute_result"
    }
   ],
   "source": [
    "make_map(upper)"
   ]
  },
  {
   "cell_type": "code",
   "execution_count": null,
   "id": "6ef048d9-32f1-4cab-aa92-3c5f59eedbf7",
   "metadata": {},
   "outputs": [],
   "source": []
  },
  {
   "cell_type": "code",
   "execution_count": null,
   "id": "2084fb45-2416-4da1-933a-41a96fee6aaf",
   "metadata": {},
   "outputs": [],
   "source": []
  },
  {
   "cell_type": "code",
   "execution_count": null,
   "id": "8c6fad4e-46e0-428c-9060-6d2cb8a8c044",
   "metadata": {},
   "outputs": [],
   "source": []
  },
  {
   "cell_type": "code",
   "execution_count": null,
   "id": "84018d77-1281-4815-a05c-f6e4394bad59",
   "metadata": {},
   "outputs": [],
   "source": []
  },
  {
   "cell_type": "code",
   "execution_count": null,
   "id": "32a6f9b1-fad9-4fb3-be3f-6471374f9a5e",
   "metadata": {},
   "outputs": [],
   "source": []
  },
  {
   "cell_type": "code",
   "execution_count": null,
   "id": "14a983b8-8903-4374-aa8e-c20e1a959e1b",
   "metadata": {},
   "outputs": [],
   "source": []
  },
  {
   "cell_type": "code",
   "execution_count": null,
   "id": "1d58b75a-0f23-42d0-ba2e-425d6407e452",
   "metadata": {},
   "outputs": [],
   "source": []
  },
  {
   "cell_type": "code",
   "execution_count": null,
   "id": "971f6628-c7cf-484d-a13d-cf99fe199275",
   "metadata": {},
   "outputs": [],
   "source": []
  }
 ],
 "metadata": {
  "kernelspec": {
   "display_name": "Python 3 (ipykernel)",
   "language": "python",
   "name": "python3"
  },
  "language_info": {
   "codemirror_mode": {
    "name": "ipython",
    "version": 3
   },
   "file_extension": ".py",
   "mimetype": "text/x-python",
   "name": "python",
   "nbconvert_exporter": "python",
   "pygments_lexer": "ipython3",
   "version": "3.9.12"
  }
 },
 "nbformat": 4,
 "nbformat_minor": 5
}
