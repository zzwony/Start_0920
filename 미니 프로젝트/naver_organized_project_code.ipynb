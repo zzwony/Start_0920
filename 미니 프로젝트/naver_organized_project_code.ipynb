{
 "cells": [
  {
   "cell_type": "markdown",
   "id": "87c156cc-68a6-4a22-b7d5-ac144c7f3dcf",
   "metadata": {},
   "source": [
    "# 맛집"
   ]
  },
  {
   "cell_type": "markdown",
   "id": "50e82489-7b0b-4262-8b30-a4a644493d16",
   "metadata": {},
   "source": [
    "## 필요 라이브러리"
   ]
  },
  {
   "cell_type": "code",
   "execution_count": 140,
   "id": "d2cde741-b7c4-4684-afc0-068022656c6f",
   "metadata": {},
   "outputs": [],
   "source": [
    "import requests\n",
    "from bs4 import BeautifulSoup\n",
    "import selenium\n",
    "from selenium import webdriver\n",
    "from urllib.request import urlopen, urlretrieve\n",
    "from urllib.parse import quote_plus\n",
    "from selenium.webdriver.common.by import By\n",
    "from selenium.webdriver.common.keys import Keys"
   ]
  },
  {
   "cell_type": "code",
   "execution_count": 141,
   "id": "ff0840fd-42cf-45f9-af10-357b0129c74a",
   "metadata": {},
   "outputs": [],
   "source": [
    "import os\n",
    "os.getcwd()\n",
    "os.chdir('C:\\\\Users\\\\admin')"
   ]
  },
  {
   "cell_type": "code",
   "execution_count": 677,
   "id": "c6d83e18-24cc-46bf-a0da-c0208d43e12d",
   "metadata": {},
   "outputs": [
    {
     "name": "stderr",
     "output_type": "stream",
     "text": [
      "C:\\Users\\admin\\AppData\\Local\\Temp\\ipykernel_7580\\530843676.py:1: DeprecationWarning: executable_path has been deprecated, please pass in a Service object\n",
      "  driver = webdriver.Chrome('chromedriver.exe')\n"
     ]
    }
   ],
   "source": [
    "driver = webdriver.Chrome('chromedriver.exe')"
   ]
  },
  {
   "cell_type": "markdown",
   "id": "55a84ecb-ba47-42f3-80ef-7f7bc3654a3a",
   "metadata": {},
   "source": [
    "## 맛집 찾기"
   ]
  },
  {
   "cell_type": "code",
   "execution_count": 678,
   "id": "f3628e70-e5b3-4e76-a07f-de4b098a77eb",
   "metadata": {},
   "outputs": [],
   "source": [
    "url = \"https://map.naver.com/\"\n",
    "driver.get(url)"
   ]
  },
  {
   "cell_type": "code",
   "execution_count": 1,
   "id": "46f16ce0-0962-4294-90f6-ee90b62a3b40",
   "metadata": {},
   "outputs": [
    {
     "ename": "KeyboardInterrupt",
     "evalue": "Interrupted by user",
     "output_type": "error",
     "traceback": [
      "\u001b[1;31m---------------------------------------------------------------------------\u001b[0m",
      "\u001b[1;31mKeyboardInterrupt\u001b[0m                         Traceback (most recent call last)",
      "Input \u001b[1;32mIn [1]\u001b[0m, in \u001b[0;36m<cell line: 1>\u001b[1;34m()\u001b[0m\n\u001b[1;32m----> 1\u001b[0m location \u001b[38;5;241m=\u001b[39m \u001b[38;5;28;43minput\u001b[39;49m\u001b[43m(\u001b[49m\u001b[38;5;124;43m'\u001b[39;49m\u001b[38;5;124;43m위치를 입력하세요: \u001b[39;49m\u001b[38;5;124;43m'\u001b[39;49m\u001b[43m)\u001b[49m\n\u001b[0;32m      2\u001b[0m xpath \u001b[38;5;241m=\u001b[39m \u001b[38;5;124m'\u001b[39m\u001b[38;5;124m/html/body/app/layout/div[3]/div[2]/shrinkable-layout/div/app-base/search-input-box/div/div/div/input\u001b[39m\u001b[38;5;124m'\u001b[39m\n\u001b[0;32m      3\u001b[0m search \u001b[38;5;241m=\u001b[39m driver\u001b[38;5;241m.\u001b[39mfind_element(By\u001b[38;5;241m.\u001b[39mXPATH, xpath)\n",
      "File \u001b[1;32m~\\anaconda3\\lib\\site-packages\\ipykernel\\kernelbase.py:1075\u001b[0m, in \u001b[0;36mKernel.raw_input\u001b[1;34m(self, prompt)\u001b[0m\n\u001b[0;32m   1071\u001b[0m \u001b[38;5;28;01mif\u001b[39;00m \u001b[38;5;129;01mnot\u001b[39;00m \u001b[38;5;28mself\u001b[39m\u001b[38;5;241m.\u001b[39m_allow_stdin:\n\u001b[0;32m   1072\u001b[0m     \u001b[38;5;28;01mraise\u001b[39;00m StdinNotImplementedError(\n\u001b[0;32m   1073\u001b[0m         \u001b[38;5;124m\"\u001b[39m\u001b[38;5;124mraw_input was called, but this frontend does not support input requests.\u001b[39m\u001b[38;5;124m\"\u001b[39m\n\u001b[0;32m   1074\u001b[0m     )\n\u001b[1;32m-> 1075\u001b[0m \u001b[38;5;28;01mreturn\u001b[39;00m \u001b[38;5;28;43mself\u001b[39;49m\u001b[38;5;241;43m.\u001b[39;49m\u001b[43m_input_request\u001b[49m\u001b[43m(\u001b[49m\n\u001b[0;32m   1076\u001b[0m \u001b[43m    \u001b[49m\u001b[38;5;28;43mstr\u001b[39;49m\u001b[43m(\u001b[49m\u001b[43mprompt\u001b[49m\u001b[43m)\u001b[49m\u001b[43m,\u001b[49m\n\u001b[0;32m   1077\u001b[0m \u001b[43m    \u001b[49m\u001b[38;5;28;43mself\u001b[39;49m\u001b[38;5;241;43m.\u001b[39;49m\u001b[43m_parent_ident\u001b[49m\u001b[43m[\u001b[49m\u001b[38;5;124;43m\"\u001b[39;49m\u001b[38;5;124;43mshell\u001b[39;49m\u001b[38;5;124;43m\"\u001b[39;49m\u001b[43m]\u001b[49m\u001b[43m,\u001b[49m\n\u001b[0;32m   1078\u001b[0m \u001b[43m    \u001b[49m\u001b[38;5;28;43mself\u001b[39;49m\u001b[38;5;241;43m.\u001b[39;49m\u001b[43mget_parent\u001b[49m\u001b[43m(\u001b[49m\u001b[38;5;124;43m\"\u001b[39;49m\u001b[38;5;124;43mshell\u001b[39;49m\u001b[38;5;124;43m\"\u001b[39;49m\u001b[43m)\u001b[49m\u001b[43m,\u001b[49m\n\u001b[0;32m   1079\u001b[0m \u001b[43m    \u001b[49m\u001b[43mpassword\u001b[49m\u001b[38;5;241;43m=\u001b[39;49m\u001b[38;5;28;43;01mFalse\u001b[39;49;00m\u001b[43m,\u001b[49m\n\u001b[0;32m   1080\u001b[0m \u001b[43m\u001b[49m\u001b[43m)\u001b[49m\n",
      "File \u001b[1;32m~\\anaconda3\\lib\\site-packages\\ipykernel\\kernelbase.py:1120\u001b[0m, in \u001b[0;36mKernel._input_request\u001b[1;34m(self, prompt, ident, parent, password)\u001b[0m\n\u001b[0;32m   1117\u001b[0m             \u001b[38;5;28;01mbreak\u001b[39;00m\n\u001b[0;32m   1118\u001b[0m \u001b[38;5;28;01mexcept\u001b[39;00m \u001b[38;5;167;01mKeyboardInterrupt\u001b[39;00m:\n\u001b[0;32m   1119\u001b[0m     \u001b[38;5;66;03m# re-raise KeyboardInterrupt, to truncate traceback\u001b[39;00m\n\u001b[1;32m-> 1120\u001b[0m     \u001b[38;5;28;01mraise\u001b[39;00m \u001b[38;5;167;01mKeyboardInterrupt\u001b[39;00m(\u001b[38;5;124m\"\u001b[39m\u001b[38;5;124mInterrupted by user\u001b[39m\u001b[38;5;124m\"\u001b[39m) \u001b[38;5;28;01mfrom\u001b[39;00m \u001b[38;5;28mNone\u001b[39m\n\u001b[0;32m   1121\u001b[0m \u001b[38;5;28;01mexcept\u001b[39;00m \u001b[38;5;167;01mException\u001b[39;00m:\n\u001b[0;32m   1122\u001b[0m     \u001b[38;5;28mself\u001b[39m\u001b[38;5;241m.\u001b[39mlog\u001b[38;5;241m.\u001b[39mwarning(\u001b[38;5;124m\"\u001b[39m\u001b[38;5;124mInvalid Message:\u001b[39m\u001b[38;5;124m\"\u001b[39m, exc_info\u001b[38;5;241m=\u001b[39m\u001b[38;5;28;01mTrue\u001b[39;00m)\n",
      "\u001b[1;31mKeyboardInterrupt\u001b[0m: Interrupted by user"
     ]
    }
   ],
   "source": [
    "location = input('위치를 입력하세요: ')\n",
    "xpath = '/html/body/app/layout/div[3]/div[2]/shrinkable-layout/div/app-base/search-input-box/div/div/div/input'\n",
    "search = driver.find_element(By.XPATH, xpath)\n",
    "search.clear()\n",
    "search.send_keys(f'{location} 맛집')\n",
    "search.send_keys(Keys.ENTER)"
   ]
  },
  {
   "cell_type": "markdown",
   "id": "d5ce3fee-069f-4a70-b4c3-c29642f034cc",
   "metadata": {
    "tags": []
   },
   "source": [
    "## 식당 이름 따기"
   ]
  },
  {
   "cell_type": "code",
   "execution_count": 680,
   "id": "acb63b47-257c-4d7a-97ca-5ce5104eb73c",
   "metadata": {
    "tags": []
   },
   "outputs": [],
   "source": [
    "driver.switch_to.frame('searchIframe')"
   ]
  },
  {
   "cell_type": "code",
   "execution_count": 681,
   "id": "8ed4ec4d-191d-4e5b-b71f-4cc63546f5a0",
   "metadata": {},
   "outputs": [],
   "source": [
    "import datetime\n",
    "import time\n",
    "\n",
    "def doScrollDown(whileSeconds):\n",
    "    start = datetime.datetime.now()\n",
    "    end = start + datetime.timedelta(seconds=whileSeconds)\n",
    "    while True:\n",
    "        scroll = driver.find_element(By.XPATH, '/html/body/div[3]/div/div[2]/div[1]')\n",
    "        driver.execute_script(\"arguments[0].scrollTop = arguments[0].scrollHeight\", scroll)\n",
    "        time.sleep(1)\n",
    "        if datetime.datetime.now() > end:\n",
    "            break"
   ]
  },
  {
   "cell_type": "code",
   "execution_count": 682,
   "id": "58e1fe08-98ed-4ad6-a05e-402db1605107",
   "metadata": {},
   "outputs": [],
   "source": [
    "doScrollDown(5)"
   ]
  },
  {
   "cell_type": "code",
   "execution_count": 683,
   "id": "15756b54-f524-4419-90ea-f61ce7f04d86",
   "metadata": {
    "tags": []
   },
   "outputs": [],
   "source": [
    "rec = driver.find_elements(By.CLASS_NAME, 'place_bluelink.TYaxT')\n",
    "\n",
    "li2 = []\n",
    "for i in range(0, len(rec)):\n",
    "    li2.append(rec[i].text)\n",
    "\n",
    "# li2"
   ]
  },
  {
   "cell_type": "code",
   "execution_count": 684,
   "id": "87202412-1fe1-46d1-8edb-d3154403bca6",
   "metadata": {},
   "outputs": [
    {
     "data": {
      "text/plain": [
       "54"
      ]
     },
     "execution_count": 684,
     "metadata": {},
     "output_type": "execute_result"
    }
   ],
   "source": [
    "len(li2)"
   ]
  },
  {
   "cell_type": "markdown",
   "id": "ab09df05-30e0-437c-818b-7417b30fe54a",
   "metadata": {},
   "source": [
    "## 전체 텍스트 따기"
   ]
  },
  {
   "cell_type": "code",
   "execution_count": 685,
   "id": "c7060012-5fd6-46a6-8329-d28dff253e9c",
   "metadata": {
    "tags": []
   },
   "outputs": [],
   "source": [
    "rec = driver.find_elements(By.CLASS_NAME, 'UEzoS.rTjJo')\n",
    "\n",
    "lists = []\n",
    "for i in range(0, len(rec)):\n",
    "    lists.append(rec[i].text)\n",
    "\n",
    "# lists"
   ]
  },
  {
   "cell_type": "code",
   "execution_count": 688,
   "id": "84fbe3ca-4579-43ac-9444-fbbf2ffb046c",
   "metadata": {},
   "outputs": [
    {
     "data": {
      "text/plain": [
       "'카와카츠 본점돈가스\\nTV생활의달인 방영\\n브레이크타임방문자리뷰 611블로그리뷰 733\\n카와카츠 본점\\n카와카츠 본점\\n카와카츠 본점\\n이미지 더 있음'"
      ]
     },
     "execution_count": 688,
     "metadata": {},
     "output_type": "execute_result"
    }
   ],
   "source": [
    "lists[-1]"
   ]
  },
  {
   "cell_type": "code",
   "execution_count": 689,
   "id": "6dc868a7-d9f7-4911-a86f-da2d2d1e266c",
   "metadata": {},
   "outputs": [
    {
     "data": {
      "text/plain": [
       "54"
      ]
     },
     "execution_count": 689,
     "metadata": {},
     "output_type": "execute_result"
    }
   ],
   "source": [
    "len(lists)"
   ]
  },
  {
   "cell_type": "code",
   "execution_count": 690,
   "id": "7a2d0dfe-f4e2-4add-a98d-46ac43146b3b",
   "metadata": {
    "tags": []
   },
   "outputs": [],
   "source": [
    "driver.switch_to.parent_frame()"
   ]
  },
  {
   "cell_type": "code",
   "execution_count": 648,
   "id": "6859eef1-3a56-4141-a8d8-3f18c6c59728",
   "metadata": {},
   "outputs": [],
   "source": [
    "# driver.close()"
   ]
  },
  {
   "cell_type": "code",
   "execution_count": 649,
   "id": "d8dad5c4-6123-4308-993a-472ab7c95219",
   "metadata": {
    "collapsed": true,
    "jupyter": {
     "outputs_hidden": true
    },
    "tags": []
   },
   "outputs": [
    {
     "data": {
      "text/plain": [
       "['광고\\n메이크베이크베이커리\\n프랑스 정통디저트를 즐겨보세요\\n영업 중\\n별점\\n4.64방문자리뷰 216블로그리뷰 126\\n메이크베이크\\n메이크베이크\\n메이크베이크\\n이미지 더 있음',\n",
       " '광고\\n화로상회 신촌점\\n참숯 화로 직화구이 화로상회\\n영업 중\\n별점\\n4.49방문자리뷰 438블로그리뷰 93\\n화로상회 신촌점\\n화로상회 신촌점\\n화로상회 신촌점\\n이미지 더 있음',\n",
       " '하늘초밥초밥,롤\\n영업 중\\n별점\\n4.65방문자리뷰 365블로그리뷰 201\\n하늘초밥\\n하늘초밥\\n하늘초밥\\n이미지 더 있음',\n",
       " '연어초밥초밥,롤\\n브레이크타임\\n별점\\n4.67방문자리뷰 1,217블로그리뷰 254\\n연어초밥\\n연어초밥\\n연어초밥\\n이미지 더 있음',\n",
       " '위샐러듀 이대점\\n네이버톡톡\\n건강식샌드위치신선한홈메이드주스\\n영업 중\\n별점\\n4.61방문자리뷰 5,179블로그리뷰 568',\n",
       " '마더린러 베이글\\n네이버페이\\nTV생방송오늘저녁 방영\\n베이글샌드위치tv방영아담한홈메이드\\n영업 종료방문자리뷰 1,460블로그리뷰 758',\n",
       " '목란\\nTV미식클럽 방영\\n동파육과 멘보샤가 유명한 이연복쉐프 중식당\\n브레이크타임방문자리뷰 2,090블로그리뷰 2,902',\n",
       " '티앙팡 오후의 홍차\\n밀크티등을 즐기고 싶다면 이대이색카페\\n영업 중\\n별점\\n4.51방문자리뷰 382블로그리뷰 445',\n",
       " '사장님돈까스 이화여대점\\n네이버페이\\n네이버주문\\n배달\\n영업 중\\n별점\\n4.62방문자리뷰 714블로그리뷰 193',\n",
       " '고냉지\\n보쌈과 김치찌개가 맛있는 신촌 밥집\\n영업 중\\n별점\\n4.52방문자리뷰 475블로그리뷰 623',\n",
       " '비밀\\nTV찾아라맛있는TV 방영\\n냉부해 이원일셰프가 운영하는 이대 빵집\\n영업 중\\n별점\\n4.41방문자리뷰 956블로그리뷰 652',\n",
       " '오르랔베이커리\\n종류의 크러핀이 맛있는 베이커리카페\\n영업 중\\n별점\\n4.58방문자리뷰 609블로그리뷰 621',\n",
       " '유야케도쿄돈가스\\n별점\\n4.58방문자리뷰 278블로그리뷰 277',\n",
       " '쏠페스타 이화여대점양식\\n영업 중방문자리뷰 288블로그리뷰 27',\n",
       " '비아37\\n네이버예약\\n네이버톡톡\\nTV생방송투데이 방영\\n이대 안의 작은 유럽 그리고 맛난 파스타\\n브레이크타임\\n별점\\n4.67방문자리뷰 503블로그리뷰 397',\n",
       " '아건\\n네이버페이\\n네이버예약\\n네이버주문\\nN예약으로 방문하시는 분들께 포토현줄평 작성 후 매장내 직원에게 보여주시면 하니 난을 1개 무료로 드립니다.\\n인도음식레스토랑인도카레이국적신선한\\n영업 중\\n별점\\n4.82방문자리뷰 1,471블로그리뷰 663',\n",
       " '원즈오운\\n배달\\n영업 중\\n별점\\n4.47방문자리뷰 264블로그리뷰 190',\n",
       " '삭 수제튀김 전문점\\n네이버페이\\n네이버주문\\n영업 중\\n별점\\n4.46방문자리뷰 862블로그리뷰 303',\n",
       " '에이테이블카페,디저트\\n영업 중\\n별점\\n4.57방문자리뷰 179블로그리뷰 193',\n",
       " '진돈부리일식당\\n브레이크타임\\n별점\\n4.84방문자리뷰 168블로그리뷰 114\\n진돈부리\\n진돈부리\\n진돈부리\\n이미지 더 있음',\n",
       " '아콘스톨\\n추천해도 모자란 분식집\\n영업 중\\n별점\\n4.7방문자리뷰 346블로그리뷰 132\\n아콘스톨\\n아콘스톨\\n아콘스톨\\n이미지 더 있음',\n",
       " 'waffle it up\\n쫀득한 와플이 있는 이대 카페\\n영업 중\\n별점\\n4.63방문자리뷰 645블로그리뷰 522\\nwaffle it up\\nwaffle it up',\n",
       " '광고\\n심플이탈리아음식\\n이대 파스타 맛집\\n영업 중방문자리뷰 13블로그리뷰 2\\n심플\\n새로오픈\\n심플\\n심플\\n이미지 더 있음',\n",
       " '광고\\n피자클럽피자\\n뉴욕스타일 빅사이즈 조각피자\\n영업 중방문자리뷰 19블로그리뷰 21\\n피자클럽\\n피자클럽\\n피자클럽\\n이미지 더 있음',\n",
       " '란주탕슉\\n꿔바로우가 맛있는 사천 탕수육 전문점\\n영업 중\\n별점\\n4.41방문자리뷰 835블로그리뷰 676',\n",
       " '까이식당\\nTV생활의달인 방영\\n누들치킨삼계탕아담한자극적인\\n브레이크타임\\n별점\\n4.56방문자리뷰 191블로그리뷰 277',\n",
       " '방콕익스프레스 신촌본점\\n신촌 방콕익스프레스 가성비 좋은 태국 음식 맛집\\n영업 중\\n별점\\n4.36방문자리뷰 808블로그리뷰 699',\n",
       " '미스터서왕만두\\n본토 만두의 맛을 느낄 수 있는 이대 맛집\\n영업 중\\n별점\\n4.49방문자리뷰 419블로그리뷰 346',\n",
       " '카우떡볶이\\n네이버페이\\n네이버예약\\n네이버주문\\n배달\\n슈퍼주니어 규현이 인정한 국물 떡볶이 맛집\\n영업 중\\n별점\\n4.57방문자리뷰 579블로그리뷰 394\\n카우떡볶이\\n카우떡볶이\\n카우떡볶이\\n이미지 더 있음',\n",
       " '그릭데이 이대본점\\n네이버페이\\n네이버주문\\n네이버톡톡\\n카페디저트블루베리신선한아이스크림\\n영업 중\\n별점\\n4.72방문자리뷰 3,335블로그리뷰 524\\n그릭데이 이대본점\\n인기\\n그릭요거트 500g\\n11,900원\\n그릭데이 이대본점\\n인기\\n요거트 2스쿱\\n3,900원\\n그릭데이 이대본점\\n이미지 더 있음',\n",
       " '공릉닭한마리\\n실패 없을 메뉴 닭한마리 맛집\\n영업 중\\n별점\\n4.44방문자리뷰 489블로그리뷰 190\\n공릉닭한마리\\n공릉닭한마리',\n",
       " '카페페라\\n수제 딸기케이크에 따끈한 핸드드립커피\\n영업 중방문자리뷰 659블로그리뷰 314\\n카페페라\\n카페페라\\n카페페라\\n이미지 더 있음',\n",
       " '도꼭지한식\\nTV생방송오늘저녁 방영\\n오늘 휴무\\n별점\\n4.45방문자리뷰 1,056블로그리뷰 669\\n도꼭지\\n도꼭지\\n도꼭지\\n이미지 더 있음',\n",
       " '파파노다이닝\\n네이버페이\\n네이버주문\\n배달\\n네이버톡톡\\n신촌 이대 근처 깔끔한 일본 가정식\\n브레이크타임\\n별점\\n4.56방문자리뷰 533블로그리뷰 325',\n",
       " '연희동 라이라이 본점\\n네이버페이\\n네이버주문\\n칠리가지가 맛있는 연희동 중식맛집\\n영업 중방문자리뷰 861블로그리뷰 363',\n",
       " '스탠바이키친\\n샌드위치오믈렛바게트파스타브런치\\n영업 중\\n별점\\n4.48방문자리뷰 799블로그리뷰 315',\n",
       " '로드샌드위치\\n샌드위치피자브런치고급스러운홈메이드\\n브레이크타임\\n별점\\n4.42방문자리뷰 246블로그리뷰 169',\n",
       " '호밀밭\\n신촌사이 알흠답게 맛있는 빙수집\\n영업 중\\n별점\\n4.62방문자리뷰 1,148블로그리뷰 801',\n",
       " '조은집\\nTV2TV생생정보 방영\\n푸짐한 한상차림으로 상다리 부러지는 연희동 한정식 맛집\\n브레이크타임\\n별점\\n4.24방문자리뷰 704블로그리뷰 257\\n조은집\\n조은집\\n조은집\\n이미지 더 있음',\n",
       " '에그 앤드 스푼레이스\\n네이버페이\\n네이버주문\\n이대역 파스타 오믈렛 8년째 보장된 맛집\\n브레이크타임\\n별점\\n4.5방문자리뷰 419블로그리뷰 494\\n에그 앤드 스푼레이스\\n에그 앤드 스푼레이스\\n에그 앤드 스푼레이스\\n이미지 더 있음',\n",
       " '밀리네해물잡탕\\nTV생방송오늘저녁 방영\\n따끈 시원한 해물탕 이대맛집\\n영업 중\\n별점\\n4.27방문자리뷰 231블로그리뷰 345\\n밀리네해물잡탕\\n밀리네해물잡탕',\n",
       " '어바웃샤브 이대점\\n이대에 샤브샤브 먹기 좋은 곳 어바웃샤브\\n영업 중\\n별점\\n4.49방문자리뷰 375블로그리뷰 119\\n어바웃샤브 이대점\\n어바웃샤브 이대점\\n어바웃샤브 이대점\\n이미지 더 있음',\n",
       " '옥루몽 신촌본점\\n팥빙수흑임자빙수카페찹쌀떡아이스크림\\n영업 중\\n별점\\n4.37방문자리뷰 489블로그리뷰 101',\n",
       " '모센즈스위트 이대점카페,디저트\\n영업 중방문자리뷰 122블로그리뷰 51',\n",
       " '참참참\\n순두부찌개제육볶음김치찌개재방문\\n영업 중\\n별점\\n4.61방문자리뷰 104블로그리뷰 41',\n",
       " '두끼 이대점분식\\n영업 중\\n별점\\n4.46방문자리뷰 428블로그리뷰 69',\n",
       " '희게\\n브런치와 와인을 즐기는곳\\n브레이크타임\\n별점\\n4.66방문자리뷰 234블로그리뷰 328',\n",
       " '내사랑\\n크림이 흘러내리는 수플레 팬케이크\\n별점\\n4.33방문자리뷰 69블로그리뷰 249\\n내사랑\\n내사랑\\n내사랑\\n이미지 더 있음',\n",
       " '고스트요거트 이대점\\n네이버페이\\n네이버주문\\n영업 중\\n별점\\n4.8방문자리뷰 962블로그리뷰 57\\n고스트요거트 이대점\\n인기\\nHONEY MEDIUM(140g)\\n3,500원\\n고스트요거트 이대점\\n인기\\nHONEY SMALL(80g)\\n2,400원\\n고스트요거트 이대점\\n이미지 더 있음',\n",
       " '연희동칼국수 본점\\nTV좋은아침 방영\\n아자매가 너무나 좋아하는 칼국수맛집 연희동칼국수\\n영업 중\\n별점\\n4.32방문자리뷰 2,964블로그리뷰 960\\n연희동칼국수 본점\\n연희동칼국수 본점',\n",
       " '세올바(BAR)\\n영업 전방문자리뷰 43블로그리뷰 31\\n세올\\n새로오픈\\n세올\\n세올\\n이미지 더 있음',\n",
       " '유\\n하얀짬뽕덮밥간짜장재방문짜장면\\n영업 중\\n별점\\n4.59방문자리뷰 179블로그리뷰 64',\n",
       " '김광석신촌칼국수 이대직영점칼국수,만두\\n영업 중\\n별점\\n4.28방문자리뷰 471블로그리뷰 263\\n김광석신촌칼국수 이대직영점\\n김광석신촌칼국수 이대직영점\\n김광석신촌칼국수 이대직영점\\n이미지 더 있음',\n",
       " '굿바이슈가베어다이어트,샐러드\\n영업 중\\n별점\\n4.83방문자리뷰 195블로그리뷰 29\\n굿바이슈가베어\\n굿바이슈가베어\\n굿바이슈가베어\\n이미지 더 있음']"
      ]
     },
     "execution_count": 649,
     "metadata": {},
     "output_type": "execute_result"
    }
   ],
   "source": [
    "lists"
   ]
  },
  {
   "cell_type": "markdown",
   "id": "f1ddead1-67cb-4a2d-852c-40fd1234831a",
   "metadata": {
    "tags": []
   },
   "source": [
    "## \\n 없애기"
   ]
  },
  {
   "cell_type": "code",
   "execution_count": 691,
   "id": "fc91f212-c398-4279-bec4-db96702e975e",
   "metadata": {},
   "outputs": [],
   "source": [
    "import re"
   ]
  },
  {
   "cell_type": "code",
   "execution_count": 692,
   "id": "c237f8ef-7e55-4062-8601-dc9c461a6089",
   "metadata": {
    "tags": []
   },
   "outputs": [],
   "source": [
    "for i in range(0, len(lists)):\n",
    "    p = re.compile(r'\\n')\n",
    "    lists[i] = p.sub(' ', lists[i])\n",
    "# lists"
   ]
  },
  {
   "cell_type": "markdown",
   "id": "f4603505-3c25-4150-9c52-72cb5d8df8c0",
   "metadata": {},
   "source": [
    "## 리뷰 뽑기 + 빈칸 0으로 바꾸기 + 리스트 하나로 만들기"
   ]
  },
  {
   "cell_type": "code",
   "execution_count": 693,
   "id": "5144b842-babd-40ec-a485-a2e7e17944ca",
   "metadata": {
    "tags": []
   },
   "outputs": [],
   "source": [
    "ind = []\n",
    "for i in range(0, len(lists)):\n",
    "    a = re.compile(r'\\d\\.\\d{2}')\n",
    "    ind.append(a.findall(lists[i]))\n",
    "    for i in range(0, len(ind)):\n",
    "        if ind[i] == []:\n",
    "            ind[i] = '0'\n",
    "            \n",
    "# reviews1 = [item for sublist in ind for item in sublist][2:22]\n",
    "# reviews2 = [item for sublist in ind for item in sublist][24:]\n",
    "# reviews = reviews1 + reviews2\n",
    "reviews = [item for sublist in ind for item in sublist]"
   ]
  },
  {
   "cell_type": "code",
   "execution_count": 652,
   "id": "b549a83a-ce26-4afe-821d-51b311dd2208",
   "metadata": {
    "tags": []
   },
   "outputs": [],
   "source": [
    "# reviews"
   ]
  },
  {
   "cell_type": "markdown",
   "id": "2cfe9a0a-ed1d-4593-9bbc-3b71951fb803",
   "metadata": {},
   "source": [
    "## 방문자 리뷰"
   ]
  },
  {
   "cell_type": "code",
   "execution_count": 694,
   "id": "a3dfaac4-0fa6-4c75-9d02-019f483b9d2d",
   "metadata": {},
   "outputs": [],
   "source": [
    "rvs = []\n",
    "for i in range(0, len(lists)):\n",
    "    a1 = re.compile(r'(방문자리뷰)\\s(.+)(블로그리뷰)')\n",
    "    rvs.append(a1.search(lists[i]).group(2))\n",
    "    for i in range(0, len(rvs)):\n",
    "        if rvs[i] == []:\n",
    "            rvs[i] = '0'"
   ]
  },
  {
   "cell_type": "code",
   "execution_count": 695,
   "id": "b69c4ca6-2d2a-4fe2-8578-48b7311b3a96",
   "metadata": {
    "tags": []
   },
   "outputs": [
    {
     "data": {
      "text/plain": [
       "['724', '221', '470']"
      ]
     },
     "execution_count": 695,
     "metadata": {},
     "output_type": "execute_result"
    }
   ],
   "source": [
    "rvs[:3]"
   ]
  },
  {
   "cell_type": "markdown",
   "id": "c07687bd-9e58-47db-a8bb-169e3cc654a1",
   "metadata": {
    "tags": []
   },
   "source": [
    "# 리뷰 종류 따기"
   ]
  },
  {
   "cell_type": "code",
   "execution_count": 317,
   "id": "1f3ed609-5575-48a1-9c19-31600c8dde2c",
   "metadata": {
    "collapsed": true,
    "jupyter": {
     "outputs_hidden": true,
     "source_hidden": true
    },
    "tags": []
   },
   "outputs": [
    {
     "name": "stderr",
     "output_type": "stream",
     "text": [
      "C:\\Users\\admin\\AppData\\Local\\Temp\\ipykernel_7580\\530843676.py:1: DeprecationWarning: executable_path has been deprecated, please pass in a Service object\n",
      "  driver = webdriver.Chrome('chromedriver.exe')\n"
     ]
    }
   ],
   "source": [
    "driver = webdriver.Chrome('chromedriver.exe')"
   ]
  },
  {
   "cell_type": "code",
   "execution_count": 701,
   "id": "4935bd61-f115-4937-b293-785deb7b6ff1",
   "metadata": {
    "tags": []
   },
   "outputs": [],
   "source": [
    "link = \"https://map.naver.com/\"\n",
    "driver.get(link)"
   ]
  },
  {
   "cell_type": "code",
   "execution_count": 702,
   "id": "395b7987-e1bf-4aab-b8b5-a14234d93841",
   "metadata": {
    "tags": []
   },
   "outputs": [],
   "source": [
    "xpath = '/html/body/app/layout/div[3]/div[2]/shrinkable-layout/div/app-base/search-input-box/div/div/div/input'\n",
    "search = driver.find_element(By.XPATH, xpath)\n",
    "search.clear()\n",
    "search.send_keys(f'{location} 맛집')\n",
    "search.send_keys(Keys.ENTER)\n",
    "driver.implicitly_wait(10)"
   ]
  },
  {
   "cell_type": "code",
   "execution_count": 703,
   "id": "f2b7d252-2345-474d-94bf-cbe32e865f39",
   "metadata": {
    "tags": []
   },
   "outputs": [],
   "source": [
    "driver.switch_to.frame('searchIframe')"
   ]
  },
  {
   "cell_type": "code",
   "execution_count": 704,
   "id": "d1159c63-5d01-4f95-ac4b-04358e38a654",
   "metadata": {
    "tags": []
   },
   "outputs": [],
   "source": [
    "doScrollDown(5)"
   ]
  },
  {
   "cell_type": "code",
   "execution_count": 700,
   "id": "4daee19d-0e29-4993-8c13-29e9a4e936c0",
   "metadata": {},
   "outputs": [],
   "source": [
    "def ScrollDown(whileSeconds):\n",
    "    start = datetime.datetime.now()\n",
    "    end = start + datetime.timedelta(seconds=whileSeconds)\n",
    "    while True:\n",
    "        sc = driver.find_element(By.XPATH, '/html')\n",
    "        driver.execute_script(\"arguments[0].scrollTop = arguments[0].scrollHeight\", sc)\n",
    "        time.sleep(1)\n",
    "        if datetime.datetime.now() > end:\n",
    "            break"
   ]
  },
  {
   "cell_type": "code",
   "execution_count": 705,
   "id": "b589ff16-72fc-47a2-9ba6-67d825a1976c",
   "metadata": {
    "jupyter": {
     "source_hidden": true
    },
    "tags": []
   },
   "outputs": [],
   "source": [
    "url = driver.current_url\n",
    "resp = requests.get(url)\n",
    "\n",
    "e = driver.find_elements(By.CLASS_NAME, 'place_bluelink.TYaxT')\n",
    "\n",
    "l = []\n",
    "for i in range(2, 22):\n",
    "    e[i].click()\n",
    "    driver.switch_to.parent_frame()\n",
    "    driver.switch_to.frame('entryIframe')    \n",
    "    ScrollDown(3)\n",
    "    com = driver.find_elements(By.CLASS_NAME, 'nWiXa')\n",
    "    for j in range(0, len(com)):\n",
    "        l.append(com[j].text)\n",
    "    driver.switch_to.parent_frame()\n",
    "    driver.switch_to.frame('searchIframe')\n",
    "\n",
    "driver.switch_to.parent_frame()\n",
    "driver.switch_to.frame('searchIframe')\n",
    "\n",
    "for i in range(24, 54):\n",
    "    e[i].click()\n",
    "    driver.switch_to.parent_frame()\n",
    "    driver.switch_to.frame('entryIframe')    \n",
    "    ScrollDown(3)\n",
    "    com = driver.find_elements(By.CLASS_NAME, 'nWiXa')\n",
    "    for j in range(0, len(com)):\n",
    "        l.append(com[j].text)\n",
    "    driver.switch_to.parent_frame()\n",
    "    driver.switch_to.frame('searchIframe')"
   ]
  },
  {
   "cell_type": "code",
   "execution_count": 706,
   "id": "53b385fe-18e7-4f86-a4dd-1ba2857a43f8",
   "metadata": {},
   "outputs": [
    {
     "data": {
      "text/plain": [
       "250"
      ]
     },
     "execution_count": 706,
     "metadata": {},
     "output_type": "execute_result"
    }
   ],
   "source": [
    "len(l)"
   ]
  },
  {
   "cell_type": "code",
   "execution_count": 707,
   "id": "83faef87-0cb2-4538-8427-0813849d1460",
   "metadata": {
    "tags": []
   },
   "outputs": [
    {
     "data": {
      "text/plain": [
       "50"
      ]
     },
     "execution_count": 707,
     "metadata": {},
     "output_type": "execute_result"
    }
   ],
   "source": [
    "chunks = [l[x:x+5] for x in range(0, len(l), 5)]\n",
    "len(chunks)"
   ]
  },
  {
   "cell_type": "markdown",
   "id": "d1c0de1c-4296-46be-82b1-04304acf18ce",
   "metadata": {
    "tags": []
   },
   "source": [
    "## 데이터 프레임 만들기"
   ]
  },
  {
   "cell_type": "code",
   "execution_count": 632,
   "id": "8844b3a9-20cb-4590-9cf9-3ae2326f38a4",
   "metadata": {},
   "outputs": [],
   "source": [
    "import pandas as pd"
   ]
  },
  {
   "cell_type": "code",
   "execution_count": 710,
   "id": "76a63b4b-a058-4895-9a57-c48b6c1d8b99",
   "metadata": {
    "tags": []
   },
   "outputs": [],
   "source": [
    "df = pd.DataFrame(zip(li2, reviews), columns=['식당이름', '별점'])"
   ]
  },
  {
   "cell_type": "code",
   "execution_count": 711,
   "id": "bf7d2c8d-93e6-4439-97ed-ca0cd5376a7b",
   "metadata": {
    "collapsed": true,
    "jupyter": {
     "outputs_hidden": true
    },
    "tags": []
   },
   "outputs": [
    {
     "data": {
      "text/html": [
       "<div>\n",
       "<style scoped>\n",
       "    .dataframe tbody tr th:only-of-type {\n",
       "        vertical-align: middle;\n",
       "    }\n",
       "\n",
       "    .dataframe tbody tr th {\n",
       "        vertical-align: top;\n",
       "    }\n",
       "\n",
       "    .dataframe thead th {\n",
       "        text-align: right;\n",
       "    }\n",
       "</style>\n",
       "<table border=\"1\" class=\"dataframe\">\n",
       "  <thead>\n",
       "    <tr style=\"text-align: right;\">\n",
       "      <th></th>\n",
       "      <th>식당이름</th>\n",
       "      <th>별점</th>\n",
       "    </tr>\n",
       "  </thead>\n",
       "  <tbody>\n",
       "    <tr>\n",
       "      <th>0</th>\n",
       "      <td>밥장인 돼지찌개 홍대점</td>\n",
       "      <td>4.67</td>\n",
       "    </tr>\n",
       "    <tr>\n",
       "      <th>1</th>\n",
       "      <td>오바도즈</td>\n",
       "      <td>4.54</td>\n",
       "    </tr>\n",
       "    <tr>\n",
       "      <th>2</th>\n",
       "      <td>카미야</td>\n",
       "      <td>4.48</td>\n",
       "    </tr>\n",
       "    <tr>\n",
       "      <th>3</th>\n",
       "      <td>스미비부타동</td>\n",
       "      <td>4.46</td>\n",
       "    </tr>\n",
       "    <tr>\n",
       "      <th>4</th>\n",
       "      <td>스케줄합정</td>\n",
       "      <td>4.39</td>\n",
       "    </tr>\n",
       "    <tr>\n",
       "      <th>5</th>\n",
       "      <td>합정공감</td>\n",
       "      <td>0</td>\n",
       "    </tr>\n",
       "    <tr>\n",
       "      <th>6</th>\n",
       "      <td>아벨롭</td>\n",
       "      <td>0</td>\n",
       "    </tr>\n",
       "    <tr>\n",
       "      <th>7</th>\n",
       "      <td>몽주방</td>\n",
       "      <td>0</td>\n",
       "    </tr>\n",
       "    <tr>\n",
       "      <th>8</th>\n",
       "      <td>테이스티버거</td>\n",
       "      <td>0</td>\n",
       "    </tr>\n",
       "    <tr>\n",
       "      <th>9</th>\n",
       "      <td>작당모의</td>\n",
       "      <td>4.39</td>\n",
       "    </tr>\n",
       "    <tr>\n",
       "      <th>10</th>\n",
       "      <td>아야멘</td>\n",
       "      <td>0</td>\n",
       "    </tr>\n",
       "    <tr>\n",
       "      <th>11</th>\n",
       "      <td>우와</td>\n",
       "      <td>4.45</td>\n",
       "    </tr>\n",
       "    <tr>\n",
       "      <th>12</th>\n",
       "      <td>바다회사랑2호점</td>\n",
       "      <td>4.29</td>\n",
       "    </tr>\n",
       "    <tr>\n",
       "      <th>13</th>\n",
       "      <td>육지</td>\n",
       "      <td>4.78</td>\n",
       "    </tr>\n",
       "    <tr>\n",
       "      <th>14</th>\n",
       "      <td>피오니</td>\n",
       "      <td>4.43</td>\n",
       "    </tr>\n",
       "    <tr>\n",
       "      <th>15</th>\n",
       "      <td>우동 카덴</td>\n",
       "      <td>4.23</td>\n",
       "    </tr>\n",
       "    <tr>\n",
       "      <th>16</th>\n",
       "      <td>미쁘동</td>\n",
       "      <td>4.42</td>\n",
       "    </tr>\n",
       "    <tr>\n",
       "      <th>17</th>\n",
       "      <td>옥동식</td>\n",
       "      <td>4.44</td>\n",
       "    </tr>\n",
       "    <tr>\n",
       "      <th>18</th>\n",
       "      <td>하이디라오 홍대점</td>\n",
       "      <td>4.61</td>\n",
       "    </tr>\n",
       "    <tr>\n",
       "      <th>19</th>\n",
       "      <td>야키토리 나루토</td>\n",
       "      <td>4.89</td>\n",
       "    </tr>\n",
       "    <tr>\n",
       "      <th>20</th>\n",
       "      <td>모센즈스위트</td>\n",
       "      <td>4.66</td>\n",
       "    </tr>\n",
       "    <tr>\n",
       "      <th>21</th>\n",
       "      <td>카츠업 홍대점</td>\n",
       "      <td>0</td>\n",
       "    </tr>\n",
       "    <tr>\n",
       "      <th>22</th>\n",
       "      <td>오리지널시카고피자 홍대본점</td>\n",
       "      <td>0</td>\n",
       "    </tr>\n",
       "    <tr>\n",
       "      <th>23</th>\n",
       "      <td>더그릭베어</td>\n",
       "      <td>0</td>\n",
       "    </tr>\n",
       "    <tr>\n",
       "      <th>24</th>\n",
       "      <td>쿠시노주방</td>\n",
       "      <td>0</td>\n",
       "    </tr>\n",
       "    <tr>\n",
       "      <th>25</th>\n",
       "      <td>아오이토리</td>\n",
       "      <td>4.45</td>\n",
       "    </tr>\n",
       "    <tr>\n",
       "      <th>26</th>\n",
       "      <td>달리181 홍대점</td>\n",
       "      <td>0</td>\n",
       "    </tr>\n",
       "    <tr>\n",
       "      <th>27</th>\n",
       "      <td>무채색</td>\n",
       "      <td>0</td>\n",
       "    </tr>\n",
       "    <tr>\n",
       "      <th>28</th>\n",
       "      <td>홍대씨부엉</td>\n",
       "      <td>4.51</td>\n",
       "    </tr>\n",
       "    <tr>\n",
       "      <th>29</th>\n",
       "      <td>오레타치카레</td>\n",
       "      <td>0</td>\n",
       "    </tr>\n",
       "    <tr>\n",
       "      <th>30</th>\n",
       "      <td>산울림1992</td>\n",
       "      <td>4.46</td>\n",
       "    </tr>\n",
       "    <tr>\n",
       "      <th>31</th>\n",
       "      <td>독타운피자</td>\n",
       "      <td>0</td>\n",
       "    </tr>\n",
       "    <tr>\n",
       "      <th>32</th>\n",
       "      <td>에그써티</td>\n",
       "      <td>4.85</td>\n",
       "    </tr>\n",
       "    <tr>\n",
       "      <th>33</th>\n",
       "      <td>연교</td>\n",
       "      <td>4.48</td>\n",
       "    </tr>\n",
       "    <tr>\n",
       "      <th>34</th>\n",
       "      <td>칸다소바</td>\n",
       "      <td>4.45</td>\n",
       "    </tr>\n",
       "    <tr>\n",
       "      <th>35</th>\n",
       "      <td>마녀주방 홍대점</td>\n",
       "      <td>4.47</td>\n",
       "    </tr>\n",
       "    <tr>\n",
       "      <th>36</th>\n",
       "      <td>산더미불고기</td>\n",
       "      <td>4.67</td>\n",
       "    </tr>\n",
       "    <tr>\n",
       "      <th>37</th>\n",
       "      <td>부산집</td>\n",
       "      <td>4.42</td>\n",
       "    </tr>\n",
       "    <tr>\n",
       "      <th>38</th>\n",
       "      <td>비스트로사랑방</td>\n",
       "      <td>4.54</td>\n",
       "    </tr>\n",
       "    <tr>\n",
       "      <th>39</th>\n",
       "      <td>또보겠지떡볶이집 붕붕허니비점</td>\n",
       "      <td>4.58</td>\n",
       "    </tr>\n",
       "    <tr>\n",
       "      <th>40</th>\n",
       "      <td>정돈 홍대점</td>\n",
       "      <td>4.53</td>\n",
       "    </tr>\n",
       "    <tr>\n",
       "      <th>41</th>\n",
       "      <td>로쏘 1924 나폴리 화덕피자 홍대점</td>\n",
       "      <td>4.68</td>\n",
       "    </tr>\n",
       "    <tr>\n",
       "      <th>42</th>\n",
       "      <td>도식화</td>\n",
       "      <td>0</td>\n",
       "    </tr>\n",
       "    <tr>\n",
       "      <th>43</th>\n",
       "      <td>고기꾼김춘배 홍대본점</td>\n",
       "      <td>4.51</td>\n",
       "    </tr>\n",
       "    <tr>\n",
       "      <th>44</th>\n",
       "      <td>샌드커피 논탄토 연남</td>\n",
       "      <td>0</td>\n",
       "    </tr>\n",
       "    <tr>\n",
       "      <th>45</th>\n",
       "      <td>썬키친</td>\n",
       "      <td>4.89</td>\n",
       "    </tr>\n",
       "    <tr>\n",
       "      <th>46</th>\n",
       "      <td>카페 공명</td>\n",
       "      <td>0</td>\n",
       "    </tr>\n",
       "    <tr>\n",
       "      <th>47</th>\n",
       "      <td>어메이징농카이</td>\n",
       "      <td>4.49</td>\n",
       "    </tr>\n",
       "    <tr>\n",
       "      <th>48</th>\n",
       "      <td>부탄츄 홍대본점</td>\n",
       "      <td>4.23</td>\n",
       "    </tr>\n",
       "    <tr>\n",
       "      <th>49</th>\n",
       "      <td>또보겠지떡볶이집 호호시스터점</td>\n",
       "      <td>4.56</td>\n",
       "    </tr>\n",
       "    <tr>\n",
       "      <th>50</th>\n",
       "      <td>동두천솥뚜껑삼겹살 합정점</td>\n",
       "      <td>0</td>\n",
       "    </tr>\n",
       "    <tr>\n",
       "      <th>51</th>\n",
       "      <td>필로베이커리</td>\n",
       "      <td>4.78</td>\n",
       "    </tr>\n",
       "    <tr>\n",
       "      <th>52</th>\n",
       "      <td>컴피</td>\n",
       "      <td>4.75</td>\n",
       "    </tr>\n",
       "    <tr>\n",
       "      <th>53</th>\n",
       "      <td>카와카츠 본점</td>\n",
       "      <td>0</td>\n",
       "    </tr>\n",
       "  </tbody>\n",
       "</table>\n",
       "</div>"
      ],
      "text/plain": [
       "                    식당이름    별점\n",
       "0           밥장인 돼지찌개 홍대점  4.67\n",
       "1                   오바도즈  4.54\n",
       "2                    카미야  4.48\n",
       "3                 스미비부타동  4.46\n",
       "4                  스케줄합정  4.39\n",
       "5                   합정공감     0\n",
       "6                    아벨롭     0\n",
       "7                    몽주방     0\n",
       "8                 테이스티버거     0\n",
       "9                   작당모의  4.39\n",
       "10                   아야멘     0\n",
       "11                    우와  4.45\n",
       "12              바다회사랑2호점  4.29\n",
       "13                    육지  4.78\n",
       "14                   피오니  4.43\n",
       "15                 우동 카덴  4.23\n",
       "16                   미쁘동  4.42\n",
       "17                   옥동식  4.44\n",
       "18             하이디라오 홍대점  4.61\n",
       "19              야키토리 나루토  4.89\n",
       "20                모센즈스위트  4.66\n",
       "21               카츠업 홍대점     0\n",
       "22        오리지널시카고피자 홍대본점     0\n",
       "23                 더그릭베어     0\n",
       "24                 쿠시노주방     0\n",
       "25                 아오이토리  4.45\n",
       "26             달리181 홍대점     0\n",
       "27                   무채색     0\n",
       "28                 홍대씨부엉  4.51\n",
       "29                오레타치카레     0\n",
       "30               산울림1992  4.46\n",
       "31                 독타운피자     0\n",
       "32                  에그써티  4.85\n",
       "33                    연교  4.48\n",
       "34                  칸다소바  4.45\n",
       "35              마녀주방 홍대점  4.47\n",
       "36                산더미불고기  4.67\n",
       "37                   부산집  4.42\n",
       "38               비스트로사랑방  4.54\n",
       "39       또보겠지떡볶이집 붕붕허니비점  4.58\n",
       "40                정돈 홍대점  4.53\n",
       "41  로쏘 1924 나폴리 화덕피자 홍대점  4.68\n",
       "42                   도식화     0\n",
       "43           고기꾼김춘배 홍대본점  4.51\n",
       "44           샌드커피 논탄토 연남     0\n",
       "45                   썬키친  4.89\n",
       "46                 카페 공명     0\n",
       "47               어메이징농카이  4.49\n",
       "48              부탄츄 홍대본점  4.23\n",
       "49       또보겠지떡볶이집 호호시스터점  4.56\n",
       "50         동두천솥뚜껑삼겹살 합정점     0\n",
       "51                필로베이커리  4.78\n",
       "52                    컴피  4.75\n",
       "53               카와카츠 본점     0"
      ]
     },
     "execution_count": 711,
     "metadata": {},
     "output_type": "execute_result"
    }
   ],
   "source": [
    "df"
   ]
  },
  {
   "cell_type": "code",
   "execution_count": 159,
   "id": "dbb4f734-3f0f-4859-95d9-1be3fed0e9bb",
   "metadata": {
    "tags": []
   },
   "outputs": [],
   "source": [
    "# df"
   ]
  },
  {
   "cell_type": "code",
   "execution_count": 160,
   "id": "22a77809-352d-46e5-b293-5ef4de3cb647",
   "metadata": {
    "tags": []
   },
   "outputs": [],
   "source": [
    "# df.iloc[24:, :]"
   ]
  },
  {
   "cell_type": "code",
   "execution_count": 727,
   "id": "dba47be0-51bc-464e-ac14-faa668ba161c",
   "metadata": {
    "tags": []
   },
   "outputs": [
    {
     "data": {
      "text/html": [
       "<div>\n",
       "<style scoped>\n",
       "    .dataframe tbody tr th:only-of-type {\n",
       "        vertical-align: middle;\n",
       "    }\n",
       "\n",
       "    .dataframe tbody tr th {\n",
       "        vertical-align: top;\n",
       "    }\n",
       "\n",
       "    .dataframe thead th {\n",
       "        text-align: right;\n",
       "    }\n",
       "</style>\n",
       "<table border=\"1\" class=\"dataframe\">\n",
       "  <thead>\n",
       "    <tr style=\"text-align: right;\">\n",
       "      <th></th>\n",
       "      <th>식당이름</th>\n",
       "      <th>별점</th>\n",
       "    </tr>\n",
       "  </thead>\n",
       "  <tbody>\n",
       "    <tr>\n",
       "      <th>0</th>\n",
       "      <td>카미야</td>\n",
       "      <td>4.48</td>\n",
       "    </tr>\n",
       "    <tr>\n",
       "      <th>1</th>\n",
       "      <td>스미비부타동</td>\n",
       "      <td>4.46</td>\n",
       "    </tr>\n",
       "    <tr>\n",
       "      <th>2</th>\n",
       "      <td>스케줄합정</td>\n",
       "      <td>4.39</td>\n",
       "    </tr>\n",
       "  </tbody>\n",
       "</table>\n",
       "</div>"
      ],
      "text/plain": [
       "     식당이름    별점\n",
       "0     카미야  4.48\n",
       "1  스미비부타동  4.46\n",
       "2   스케줄합정  4.39"
      ]
     },
     "execution_count": 727,
     "metadata": {},
     "output_type": "execute_result"
    }
   ],
   "source": [
    "no1 = df.iloc[2:22, :]\n",
    "no2 = df.iloc[24:, :]\n",
    "frames = [no1, no2]\n",
    "f_df = pd.concat(frames)\n",
    "f_df.reset_index(drop=True, inplace=True)\n",
    "f_df[:3]"
   ]
  },
  {
   "cell_type": "markdown",
   "id": "1b54a1d0-33a6-434c-9b59-2259ce185dec",
   "metadata": {},
   "source": [
    "## 위도 경도 불러오기"
   ]
  },
  {
   "cell_type": "markdown",
   "id": "202dfd6f-96f4-4bbb-8da1-73392aa6e606",
   "metadata": {},
   "source": [
    "### 함수"
   ]
  },
  {
   "cell_type": "code",
   "execution_count": 716,
   "id": "d37bee66-2914-48cb-a443-ca88eb9c6225",
   "metadata": {},
   "outputs": [],
   "source": [
    "import requests\n",
    "\n",
    "def place_find(s) :\n",
    "    # 접속 url\n",
    "    url = 'http://dapi.kakao.com/v2/local/search/keyword.json?query={}'.format(s)\n",
    "    \n",
    "    # headers 입력\n",
    "    headers = {\n",
    "        # 카카오지도 접속\n",
    "        \"Authorization\" : \"KakaoAK de2ab0f4e5f24304ac7898b7de2cacd8\"\n",
    "    }\n",
    "    # API 요청\n",
    "    places = requests.get(url, headers=headers).json()['documents']\n",
    "    try :\n",
    "        places = places[0]\n",
    "        df1_name  = places['place_name']\n",
    "        위도 = places['y']\n",
    "        경도 = places['x']\n",
    "        \n",
    "        result = [df1_name, 위도, 경도]\n",
    "        \n",
    "        return result\n",
    "    except:\n",
    "        pass"
   ]
  },
  {
   "cell_type": "code",
   "execution_count": 717,
   "id": "9417ddae-f879-4e20-a48d-901d748ea053",
   "metadata": {
    "tags": []
   },
   "outputs": [
    {
     "data": {
      "text/html": [
       "<div>\n",
       "<style scoped>\n",
       "    .dataframe tbody tr th:only-of-type {\n",
       "        vertical-align: middle;\n",
       "    }\n",
       "\n",
       "    .dataframe tbody tr th {\n",
       "        vertical-align: top;\n",
       "    }\n",
       "\n",
       "    .dataframe thead th {\n",
       "        text-align: right;\n",
       "    }\n",
       "</style>\n",
       "<table border=\"1\" class=\"dataframe\">\n",
       "  <thead>\n",
       "    <tr style=\"text-align: right;\">\n",
       "      <th></th>\n",
       "      <th>식당이름</th>\n",
       "    </tr>\n",
       "  </thead>\n",
       "  <tbody>\n",
       "    <tr>\n",
       "      <th>0</th>\n",
       "      <td>홍대 카미야</td>\n",
       "    </tr>\n",
       "    <tr>\n",
       "      <th>1</th>\n",
       "      <td>홍대 스미비부타동</td>\n",
       "    </tr>\n",
       "    <tr>\n",
       "      <th>2</th>\n",
       "      <td>홍대 스케줄합정</td>\n",
       "    </tr>\n",
       "  </tbody>\n",
       "</table>\n",
       "</div>"
      ],
      "text/plain": [
       "        식당이름\n",
       "0     홍대 카미야\n",
       "1  홍대 스미비부타동\n",
       "2   홍대 스케줄합정"
      ]
     },
     "execution_count": 717,
     "metadata": {},
     "output_type": "execute_result"
    }
   ],
   "source": [
    "correct = []\n",
    "for i in range(len(f_df)):\n",
    "    correct.append(location + \" \" + f_df.iloc[i].식당이름)\n",
    "\n",
    "correct_location = pd.DataFrame (correct, columns = ['식당이름'])\n",
    "correct_location[:3]"
   ]
  },
  {
   "cell_type": "code",
   "execution_count": 718,
   "id": "29029c3e-3fbf-4c79-bea8-835bf9138232",
   "metadata": {},
   "outputs": [
    {
     "data": {
      "text/plain": [
       "['카미야', '37.552582876796265', '126.9223637900431']"
      ]
     },
     "execution_count": 718,
     "metadata": {},
     "output_type": "execute_result"
    }
   ],
   "source": [
    "# 테스트\n",
    "place_find(correct_location['식당이름'][0])"
   ]
  },
  {
   "cell_type": "markdown",
   "id": "69df1944-0a9e-486c-b3d0-2ce2cf2f7dce",
   "metadata": {},
   "source": [
    "### 위도 경도 받기"
   ]
  },
  {
   "cell_type": "code",
   "execution_count": 719,
   "id": "fbf54de8-5a06-4930-bc58-166e791de879",
   "metadata": {
    "tags": []
   },
   "outputs": [],
   "source": [
    "# 위경도 가져오기\n",
    "food_place_list = []\n",
    "\n",
    "for i in correct_location['식당이름']:\n",
    "    data = place_find(i)\n",
    "    food_place_list.append(data)"
   ]
  },
  {
   "cell_type": "code",
   "execution_count": 720,
   "id": "cf6761f2-7132-44e9-9eb2-88e7641e5a06",
   "metadata": {
    "tags": []
   },
   "outputs": [
    {
     "data": {
      "text/plain": [
       "[['카미야', '37.552582876796265', '126.9223637900431'],\n",
       " ['스미비부타동', '37.5493446009239', '126.922229088687'],\n",
       " ['스케줄 합정', '37.549127753591826', '126.91607773123069']]"
      ]
     },
     "execution_count": 720,
     "metadata": {},
     "output_type": "execute_result"
    }
   ],
   "source": [
    "food_place_list[:3]"
   ]
  },
  {
   "cell_type": "code",
   "execution_count": 721,
   "id": "0fadacea-cdc8-481b-a765-2a961c336542",
   "metadata": {},
   "outputs": [],
   "source": [
    "# None을 []으로 바꾸기\n",
    "for i in range(0, len(food_place_list)):\n",
    "    if food_place_list[i] is None:\n",
    "        food_place_list[i] = []"
   ]
  },
  {
   "cell_type": "code",
   "execution_count": 722,
   "id": "05dbcfa0-c7df-4a5b-9b49-f8b974b1609f",
   "metadata": {
    "tags": []
   },
   "outputs": [],
   "source": [
    "# food_place_list"
   ]
  },
  {
   "cell_type": "markdown",
   "id": "98c45b35-cfe9-44b8-8eb9-4fad18496b9e",
   "metadata": {},
   "source": [
    "### 별점이랑 합치기"
   ]
  },
  {
   "cell_type": "code",
   "execution_count": 723,
   "id": "ff640556-3140-4f71-8ae0-52336a6f61a8",
   "metadata": {
    "tags": []
   },
   "outputs": [
    {
     "data": {
      "text/plain": [
       "[['카미야', '37.552582876796265', '126.9223637900431', '4.48'],\n",
       " ['스미비부타동', '37.5493446009239', '126.922229088687', '4.46'],\n",
       " ['스케줄 합정', '37.549127753591826', '126.91607773123069', '4.39']]"
      ]
     },
     "execution_count": 723,
     "metadata": {},
     "output_type": "execute_result"
    }
   ],
   "source": [
    "for i in range(0, len(food_place_list)):\n",
    "    if food_place_list[i] == []:\n",
    "        continue\n",
    "    else:\n",
    "        food_place_list[i].append(f_df.iloc[i].별점)\n",
    "        \n",
    "food_place_list[:3]"
   ]
  },
  {
   "cell_type": "markdown",
   "id": "8c5ef3b1-2694-4cb9-8f09-3b73c58d61b3",
   "metadata": {},
   "source": [
    "### 데이터 프레임 만들기"
   ]
  },
  {
   "cell_type": "code",
   "execution_count": 728,
   "id": "cc7ffe18-5907-4846-8c10-7f20e1b3d13f",
   "metadata": {
    "tags": []
   },
   "outputs": [
    {
     "data": {
      "text/html": [
       "<div>\n",
       "<style scoped>\n",
       "    .dataframe tbody tr th:only-of-type {\n",
       "        vertical-align: middle;\n",
       "    }\n",
       "\n",
       "    .dataframe tbody tr th {\n",
       "        vertical-align: top;\n",
       "    }\n",
       "\n",
       "    .dataframe thead th {\n",
       "        text-align: right;\n",
       "    }\n",
       "</style>\n",
       "<table border=\"1\" class=\"dataframe\">\n",
       "  <thead>\n",
       "    <tr style=\"text-align: right;\">\n",
       "      <th></th>\n",
       "      <th>식당이름</th>\n",
       "      <th>위도</th>\n",
       "      <th>경도</th>\n",
       "      <th>별점</th>\n",
       "      <th>리뷰</th>\n",
       "    </tr>\n",
       "  </thead>\n",
       "  <tbody>\n",
       "    <tr>\n",
       "      <th>0</th>\n",
       "      <td>카미야</td>\n",
       "      <td>37.552582876796265</td>\n",
       "      <td>126.9223637900431</td>\n",
       "      <td>4.48</td>\n",
       "      <td>[\"음식이 맛있어요\", \"가성비가 좋아요\", \"양이 많아요\", \"친절해요\", \"혼밥...</td>\n",
       "    </tr>\n",
       "    <tr>\n",
       "      <th>1</th>\n",
       "      <td>스미비부타동</td>\n",
       "      <td>37.5493446009239</td>\n",
       "      <td>126.922229088687</td>\n",
       "      <td>4.46</td>\n",
       "      <td>[\"음식이 맛있어요\", \"혼밥하기 좋아요\", \"친절해요\", \"양이 많아요\", \"재료...</td>\n",
       "    </tr>\n",
       "    <tr>\n",
       "      <th>2</th>\n",
       "      <td>스케줄 합정</td>\n",
       "      <td>37.549127753591826</td>\n",
       "      <td>126.91607773123069</td>\n",
       "      <td>4.39</td>\n",
       "      <td>[\"음식이 맛있어요\", \"인테리어가 멋져요\", \"친절해요\", \"특별한 날 가기 좋아...</td>\n",
       "    </tr>\n",
       "  </tbody>\n",
       "</table>\n",
       "</div>"
      ],
      "text/plain": [
       "     식당이름                  위도                  경도    별점  \\\n",
       "0     카미야  37.552582876796265   126.9223637900431  4.48   \n",
       "1  스미비부타동    37.5493446009239    126.922229088687  4.46   \n",
       "2  스케줄 합정  37.549127753591826  126.91607773123069  4.39   \n",
       "\n",
       "                                                  리뷰  \n",
       "0  [\"음식이 맛있어요\", \"가성비가 좋아요\", \"양이 많아요\", \"친절해요\", \"혼밥...  \n",
       "1  [\"음식이 맛있어요\", \"혼밥하기 좋아요\", \"친절해요\", \"양이 많아요\", \"재료...  \n",
       "2  [\"음식이 맛있어요\", \"인테리어가 멋져요\", \"친절해요\", \"특별한 날 가기 좋아...  "
      ]
     },
     "execution_count": 728,
     "metadata": {},
     "output_type": "execute_result"
    }
   ],
   "source": [
    "# 복사\n",
    "food_place_list_1 = food_place_list\n",
    "# None 값 삭제\n",
    "food_place_list_1 =  [x for x in food_place_list_1 if x is not None]\n",
    "# 확인\n",
    "food_place_list_1\n",
    "\n",
    "food_place = pd.DataFrame(food_place_list)\n",
    "# 컬럼 명 지정해주기\n",
    "food_place.columns = ['식당이름', '위도', '경도', '별점']\n",
    "food_place['리뷰'] = chunks\n",
    "food_place[:3]"
   ]
  },
  {
   "cell_type": "markdown",
   "id": "2e4fb853-455e-4333-aadd-8dbde230ceae",
   "metadata": {},
   "source": [
    "## 링크 따기"
   ]
  },
  {
   "cell_type": "code",
   "execution_count": 729,
   "id": "00fe1f04-9a5a-4ecb-8fca-87c0a35afee0",
   "metadata": {
    "tags": []
   },
   "outputs": [],
   "source": [
    "link = \"https://map.naver.com/\"\n",
    "driver.get(link)"
   ]
  },
  {
   "cell_type": "code",
   "execution_count": 730,
   "id": "1c844ce8-70e7-49c7-8aab-822797480754",
   "metadata": {
    "tags": []
   },
   "outputs": [],
   "source": [
    "xpath = '/html/body/app/layout/div[3]/div[2]/shrinkable-layout/div/app-base/search-input-box/div/div/div/input'\n",
    "search = driver.find_element(By.XPATH, xpath)\n",
    "search.clear()\n",
    "search.send_keys(f'{location} 맛집')\n",
    "search.send_keys(Keys.ENTER)\n",
    "driver.implicitly_wait(10)"
   ]
  },
  {
   "cell_type": "code",
   "execution_count": 731,
   "id": "493fcfd5-3eb5-46bc-8bde-ad1ed0240ffd",
   "metadata": {
    "tags": []
   },
   "outputs": [],
   "source": [
    "driver.switch_to.frame('searchIframe')"
   ]
  },
  {
   "cell_type": "code",
   "execution_count": 732,
   "id": "c4d0c774-1c1c-4e46-a493-83c5cd33c27c",
   "metadata": {
    "tags": []
   },
   "outputs": [],
   "source": [
    "import datetime\n",
    "import time\n",
    "\n",
    "def doScrollDown(whileSeconds):\n",
    "    start = datetime.datetime.now()\n",
    "    end = start + datetime.timedelta(seconds=whileSeconds)\n",
    "    while True:\n",
    "        scroll = driver.find_element(By.XPATH, '/html/body/div[3]/div/div[2]/div[1]')\n",
    "        driver.execute_script(\"arguments[0].scrollTop = arguments[0].scrollHeight\", scroll)\n",
    "        time.sleep(1)\n",
    "        if datetime.datetime.now() > end:\n",
    "            break"
   ]
  },
  {
   "cell_type": "code",
   "execution_count": 733,
   "id": "0eea2513-f805-4a79-9c1c-9093f3b1ee46",
   "metadata": {
    "tags": []
   },
   "outputs": [],
   "source": [
    "doScrollDown(5)"
   ]
  },
  {
   "cell_type": "code",
   "execution_count": 734,
   "id": "4e6409e4-1f97-4429-b7cb-cea515ca3559",
   "metadata": {
    "tags": []
   },
   "outputs": [],
   "source": [
    "url = driver.current_url\n",
    "resp = requests.get(url)\n",
    "\n",
    "e = driver.find_elements(By.CLASS_NAME, 'place_bluelink.TYaxT')\n",
    "\n",
    "c = []\n",
    "for i in range(2, 22):\n",
    "    e[i].click()\n",
    "    url = driver.current_url\n",
    "    c.append(url)\n",
    "    \n",
    "d = []\n",
    "for i in range(24, 54):\n",
    "    e[i].click()\n",
    "    url = driver.current_url\n",
    "    d.append(url)"
   ]
  },
  {
   "cell_type": "code",
   "execution_count": 735,
   "id": "d1647378-3a61-4c00-bcb7-508448c9aa66",
   "metadata": {},
   "outputs": [],
   "source": [
    "x = c+d"
   ]
  },
  {
   "cell_type": "code",
   "execution_count": 736,
   "id": "48693ad1-12de-47a8-8c37-8edc901e2de6",
   "metadata": {},
   "outputs": [
    {
     "data": {
      "text/plain": [
       "50"
      ]
     },
     "execution_count": 736,
     "metadata": {},
     "output_type": "execute_result"
    }
   ],
   "source": [
    "len(x)"
   ]
  },
  {
   "cell_type": "code",
   "execution_count": 737,
   "id": "8b344dab-93fd-4dc3-bbc5-407a6e3f1ed2",
   "metadata": {},
   "outputs": [],
   "source": [
    "# driver.close()"
   ]
  },
  {
   "cell_type": "code",
   "execution_count": 738,
   "id": "93b13f62-cc97-4be9-a4b4-ae6bda208aaa",
   "metadata": {},
   "outputs": [],
   "source": [
    "food_place['link'] = x"
   ]
  },
  {
   "cell_type": "code",
   "execution_count": 739,
   "id": "d4ba2405-3329-4928-ba16-3cc5c9d87a8d",
   "metadata": {
    "tags": []
   },
   "outputs": [
    {
     "data": {
      "text/html": [
       "<div>\n",
       "<style scoped>\n",
       "    .dataframe tbody tr th:only-of-type {\n",
       "        vertical-align: middle;\n",
       "    }\n",
       "\n",
       "    .dataframe tbody tr th {\n",
       "        vertical-align: top;\n",
       "    }\n",
       "\n",
       "    .dataframe thead th {\n",
       "        text-align: right;\n",
       "    }\n",
       "</style>\n",
       "<table border=\"1\" class=\"dataframe\">\n",
       "  <thead>\n",
       "    <tr style=\"text-align: right;\">\n",
       "      <th></th>\n",
       "      <th>식당이름</th>\n",
       "      <th>위도</th>\n",
       "      <th>경도</th>\n",
       "      <th>별점</th>\n",
       "      <th>리뷰</th>\n",
       "      <th>link</th>\n",
       "    </tr>\n",
       "  </thead>\n",
       "  <tbody>\n",
       "    <tr>\n",
       "      <th>0</th>\n",
       "      <td>카미야</td>\n",
       "      <td>37.552582876796265</td>\n",
       "      <td>126.9223637900431</td>\n",
       "      <td>4.48</td>\n",
       "      <td>[\"음식이 맛있어요\", \"가성비가 좋아요\", \"양이 많아요\", \"친절해요\", \"혼밥...</td>\n",
       "      <td>https://map.naver.com/v5/search/%ED%99%8D%EB%8...</td>\n",
       "    </tr>\n",
       "    <tr>\n",
       "      <th>1</th>\n",
       "      <td>스미비부타동</td>\n",
       "      <td>37.5493446009239</td>\n",
       "      <td>126.922229088687</td>\n",
       "      <td>4.46</td>\n",
       "      <td>[\"음식이 맛있어요\", \"혼밥하기 좋아요\", \"친절해요\", \"양이 많아요\", \"재료...</td>\n",
       "      <td>https://map.naver.com/v5/search/%ED%99%8D%EB%8...</td>\n",
       "    </tr>\n",
       "    <tr>\n",
       "      <th>2</th>\n",
       "      <td>스케줄 합정</td>\n",
       "      <td>37.549127753591826</td>\n",
       "      <td>126.91607773123069</td>\n",
       "      <td>4.39</td>\n",
       "      <td>[\"음식이 맛있어요\", \"인테리어가 멋져요\", \"친절해요\", \"특별한 날 가기 좋아...</td>\n",
       "      <td>https://map.naver.com/v5/search/%ED%99%8D%EB%8...</td>\n",
       "    </tr>\n",
       "  </tbody>\n",
       "</table>\n",
       "</div>"
      ],
      "text/plain": [
       "     식당이름                  위도                  경도    별점  \\\n",
       "0     카미야  37.552582876796265   126.9223637900431  4.48   \n",
       "1  스미비부타동    37.5493446009239    126.922229088687  4.46   \n",
       "2  스케줄 합정  37.549127753591826  126.91607773123069  4.39   \n",
       "\n",
       "                                                  리뷰  \\\n",
       "0  [\"음식이 맛있어요\", \"가성비가 좋아요\", \"양이 많아요\", \"친절해요\", \"혼밥...   \n",
       "1  [\"음식이 맛있어요\", \"혼밥하기 좋아요\", \"친절해요\", \"양이 많아요\", \"재료...   \n",
       "2  [\"음식이 맛있어요\", \"인테리어가 멋져요\", \"친절해요\", \"특별한 날 가기 좋아...   \n",
       "\n",
       "                                                link  \n",
       "0  https://map.naver.com/v5/search/%ED%99%8D%EB%8...  \n",
       "1  https://map.naver.com/v5/search/%ED%99%8D%EB%8...  \n",
       "2  https://map.naver.com/v5/search/%ED%99%8D%EB%8...  "
      ]
     },
     "execution_count": 739,
     "metadata": {},
     "output_type": "execute_result"
    }
   ],
   "source": [
    "food_place[:3]"
   ]
  },
  {
   "cell_type": "markdown",
   "id": "cd162bd3-280b-4719-96e3-5e5f2158f514",
   "metadata": {
    "tags": []
   },
   "source": [
    "## 위치 포함한 탑10"
   ]
  },
  {
   "cell_type": "code",
   "execution_count": 740,
   "id": "0741ed23-032d-4178-8095-dbde713480fb",
   "metadata": {
    "tags": []
   },
   "outputs": [
    {
     "data": {
      "text/html": [
       "<div>\n",
       "<style scoped>\n",
       "    .dataframe tbody tr th:only-of-type {\n",
       "        vertical-align: middle;\n",
       "    }\n",
       "\n",
       "    .dataframe tbody tr th {\n",
       "        vertical-align: top;\n",
       "    }\n",
       "\n",
       "    .dataframe thead th {\n",
       "        text-align: right;\n",
       "    }\n",
       "</style>\n",
       "<table border=\"1\" class=\"dataframe\">\n",
       "  <thead>\n",
       "    <tr style=\"text-align: right;\">\n",
       "      <th></th>\n",
       "      <th>식당이름</th>\n",
       "      <th>위도</th>\n",
       "      <th>경도</th>\n",
       "      <th>별점</th>\n",
       "      <th>리뷰</th>\n",
       "      <th>link</th>\n",
       "    </tr>\n",
       "  </thead>\n",
       "  <tbody>\n",
       "    <tr>\n",
       "      <th>0</th>\n",
       "      <td>썬키친</td>\n",
       "      <td>37.5486490595911</td>\n",
       "      <td>126.916979045786</td>\n",
       "      <td>4.89</td>\n",
       "      <td>[\"음식이 맛있어요\", \"특별한 메뉴가 있어요\", \"친절해요\", \"인테리어가 멋져요...</td>\n",
       "      <td>https://map.naver.com/v5/search/%ED%99%8D%EB%8...</td>\n",
       "    </tr>\n",
       "    <tr>\n",
       "      <th>1</th>\n",
       "      <td>야키토리 나루토</td>\n",
       "      <td>37.5493540644272</td>\n",
       "      <td>126.920207967712</td>\n",
       "      <td>4.89</td>\n",
       "      <td>[\"음식이 맛있어요\", \"친절해요\", \"특별한 메뉴가 있어요\", \"재료가 신선해요\"...</td>\n",
       "      <td>https://map.naver.com/v5/search/%ED%99%8D%EB%8...</td>\n",
       "    </tr>\n",
       "    <tr>\n",
       "      <th>2</th>\n",
       "      <td>에그써티</td>\n",
       "      <td>37.5606091272674</td>\n",
       "      <td>126.925418144268</td>\n",
       "      <td>4.85</td>\n",
       "      <td>[\"음식이 맛있어요\", \"친절해요\", \"재료가 신선해요\", \"특별한 메뉴가 있어요\"...</td>\n",
       "      <td>https://map.naver.com/v5/search/%ED%99%8D%EB%8...</td>\n",
       "    </tr>\n",
       "  </tbody>\n",
       "</table>\n",
       "</div>"
      ],
      "text/plain": [
       "       식당이름                위도                경도    별점  \\\n",
       "0       썬키친  37.5486490595911  126.916979045786  4.89   \n",
       "1  야키토리 나루토  37.5493540644272  126.920207967712  4.89   \n",
       "2      에그써티  37.5606091272674  126.925418144268  4.85   \n",
       "\n",
       "                                                  리뷰  \\\n",
       "0  [\"음식이 맛있어요\", \"특별한 메뉴가 있어요\", \"친절해요\", \"인테리어가 멋져요...   \n",
       "1  [\"음식이 맛있어요\", \"친절해요\", \"특별한 메뉴가 있어요\", \"재료가 신선해요\"...   \n",
       "2  [\"음식이 맛있어요\", \"친절해요\", \"재료가 신선해요\", \"특별한 메뉴가 있어요\"...   \n",
       "\n",
       "                                                link  \n",
       "0  https://map.naver.com/v5/search/%ED%99%8D%EB%8...  \n",
       "1  https://map.naver.com/v5/search/%ED%99%8D%EB%8...  \n",
       "2  https://map.naver.com/v5/search/%ED%99%8D%EB%8...  "
      ]
     },
     "execution_count": 740,
     "metadata": {},
     "output_type": "execute_result"
    }
   ],
   "source": [
    "food_place.sort_values(by=['별점'], ascending=False, inplace=True)\n",
    "food_place.reset_index(drop=True, inplace=True)\n",
    "food_place[:3]"
   ]
  },
  {
   "cell_type": "code",
   "execution_count": 741,
   "id": "97e65133-d259-491b-84c7-c67febe4691a",
   "metadata": {
    "tags": []
   },
   "outputs": [
    {
     "data": {
      "text/html": [
       "<div>\n",
       "<style scoped>\n",
       "    .dataframe tbody tr th:only-of-type {\n",
       "        vertical-align: middle;\n",
       "    }\n",
       "\n",
       "    .dataframe tbody tr th {\n",
       "        vertical-align: top;\n",
       "    }\n",
       "\n",
       "    .dataframe thead th {\n",
       "        text-align: right;\n",
       "    }\n",
       "</style>\n",
       "<table border=\"1\" class=\"dataframe\">\n",
       "  <thead>\n",
       "    <tr style=\"text-align: right;\">\n",
       "      <th></th>\n",
       "      <th>식당이름</th>\n",
       "      <th>위도</th>\n",
       "      <th>경도</th>\n",
       "      <th>별점</th>\n",
       "      <th>리뷰</th>\n",
       "      <th>link</th>\n",
       "    </tr>\n",
       "  </thead>\n",
       "  <tbody>\n",
       "    <tr>\n",
       "      <th>0</th>\n",
       "      <td>썬키친</td>\n",
       "      <td>37.5486490595911</td>\n",
       "      <td>126.916979045786</td>\n",
       "      <td>4.89</td>\n",
       "      <td>[\"음식이 맛있어요\", \"특별한 메뉴가 있어요\", \"친절해요\", \"인테리어가 멋져요...</td>\n",
       "      <td>https://map.naver.com/v5/search/%ED%99%8D%EB%8...</td>\n",
       "    </tr>\n",
       "    <tr>\n",
       "      <th>1</th>\n",
       "      <td>야키토리 나루토</td>\n",
       "      <td>37.5493540644272</td>\n",
       "      <td>126.920207967712</td>\n",
       "      <td>4.89</td>\n",
       "      <td>[\"음식이 맛있어요\", \"친절해요\", \"특별한 메뉴가 있어요\", \"재료가 신선해요\"...</td>\n",
       "      <td>https://map.naver.com/v5/search/%ED%99%8D%EB%8...</td>\n",
       "    </tr>\n",
       "    <tr>\n",
       "      <th>2</th>\n",
       "      <td>에그써티</td>\n",
       "      <td>37.5606091272674</td>\n",
       "      <td>126.925418144268</td>\n",
       "      <td>4.85</td>\n",
       "      <td>[\"음식이 맛있어요\", \"친절해요\", \"재료가 신선해요\", \"특별한 메뉴가 있어요\"...</td>\n",
       "      <td>https://map.naver.com/v5/search/%ED%99%8D%EB%8...</td>\n",
       "    </tr>\n",
       "    <tr>\n",
       "      <th>3</th>\n",
       "      <td>필로베이커리</td>\n",
       "      <td>37.5555557347446</td>\n",
       "      <td>126.924472523465</td>\n",
       "      <td>4.78</td>\n",
       "      <td>[\"특별한 메뉴가 있어요\", \"디저트가 맛있어요\", \"인테리어가 멋져요\", \"음료가...</td>\n",
       "      <td>https://map.naver.com/v5/search/%ED%99%8D%EB%8...</td>\n",
       "    </tr>\n",
       "    <tr>\n",
       "      <th>4</th>\n",
       "      <td>육지</td>\n",
       "      <td>37.549687345281505</td>\n",
       "      <td>126.91745771217005</td>\n",
       "      <td>4.78</td>\n",
       "      <td>[\"음식이 맛있어요\", \"친절해요\", \"재료가 신선해요\", \"특별한 메뉴가 있어요\"...</td>\n",
       "      <td>https://map.naver.com/v5/search/%ED%99%8D%EB%8...</td>\n",
       "    </tr>\n",
       "    <tr>\n",
       "      <th>5</th>\n",
       "      <td>컴피</td>\n",
       "      <td>37.5488663918405</td>\n",
       "      <td>126.91597617722</td>\n",
       "      <td>4.75</td>\n",
       "      <td>[\"음악이 좋아요\", \"친절해요\", \"인테리어가 멋져요\", \"음식이 맛있어요\", \"...</td>\n",
       "      <td>https://map.naver.com/v5/search/%ED%99%8D%EB%8...</td>\n",
       "    </tr>\n",
       "    <tr>\n",
       "      <th>6</th>\n",
       "      <td>산더미불고기</td>\n",
       "      <td>37.5494264051392</td>\n",
       "      <td>126.920594912252</td>\n",
       "      <td>4.67</td>\n",
       "      <td>[\"음식이 맛있어요\", \"양이 많아요\", \"가성비가 좋아요\", \"재료가 신선해요\",...</td>\n",
       "      <td>https://map.naver.com/v5/search/%ED%99%8D%EB%8...</td>\n",
       "    </tr>\n",
       "    <tr>\n",
       "      <th>7</th>\n",
       "      <td>모센즈스위트</td>\n",
       "      <td>37.5498067386666</td>\n",
       "      <td>126.920761992685</td>\n",
       "      <td>4.66</td>\n",
       "      <td>[\"디저트가 맛있어요\", \"특별한 메뉴가 있어요\", \"친절해요\", \"커피가 맛있어요...</td>\n",
       "      <td>https://map.naver.com/v5/search/%ED%99%8D%EB%8...</td>\n",
       "    </tr>\n",
       "    <tr>\n",
       "      <th>8</th>\n",
       "      <td>하이디라오 홍대지점</td>\n",
       "      <td>37.5571921297692</td>\n",
       "      <td>126.924760602353</td>\n",
       "      <td>4.61</td>\n",
       "      <td>[\"음식이 맛있어요\", \"친절해요\", \"매장이 넓어요\", \"재료가 신선해요\", \"매...</td>\n",
       "      <td>https://map.naver.com/v5/search/%ED%99%8D%EB%8...</td>\n",
       "    </tr>\n",
       "    <tr>\n",
       "      <th>9</th>\n",
       "      <td>또보겠지떡볶이집 붕붕허니비점</td>\n",
       "      <td>37.558945244782436</td>\n",
       "      <td>126.92440798585419</td>\n",
       "      <td>4.58</td>\n",
       "      <td>[\"음식이 맛있어요\", \"친절해요\", \"특별한 메뉴가 있어요\", \"가성비가 좋아요\"...</td>\n",
       "      <td>https://map.naver.com/v5/search/%ED%99%8D%EB%8...</td>\n",
       "    </tr>\n",
       "  </tbody>\n",
       "</table>\n",
       "</div>"
      ],
      "text/plain": [
       "              식당이름                  위도                  경도    별점  \\\n",
       "0              썬키친    37.5486490595911    126.916979045786  4.89   \n",
       "1         야키토리 나루토    37.5493540644272    126.920207967712  4.89   \n",
       "2             에그써티    37.5606091272674    126.925418144268  4.85   \n",
       "3           필로베이커리    37.5555557347446    126.924472523465  4.78   \n",
       "4               육지  37.549687345281505  126.91745771217005  4.78   \n",
       "5               컴피    37.5488663918405     126.91597617722  4.75   \n",
       "6           산더미불고기    37.5494264051392    126.920594912252  4.67   \n",
       "7           모센즈스위트    37.5498067386666    126.920761992685  4.66   \n",
       "8       하이디라오 홍대지점    37.5571921297692    126.924760602353  4.61   \n",
       "9  또보겠지떡볶이집 붕붕허니비점  37.558945244782436  126.92440798585419  4.58   \n",
       "\n",
       "                                                  리뷰  \\\n",
       "0  [\"음식이 맛있어요\", \"특별한 메뉴가 있어요\", \"친절해요\", \"인테리어가 멋져요...   \n",
       "1  [\"음식이 맛있어요\", \"친절해요\", \"특별한 메뉴가 있어요\", \"재료가 신선해요\"...   \n",
       "2  [\"음식이 맛있어요\", \"친절해요\", \"재료가 신선해요\", \"특별한 메뉴가 있어요\"...   \n",
       "3  [\"특별한 메뉴가 있어요\", \"디저트가 맛있어요\", \"인테리어가 멋져요\", \"음료가...   \n",
       "4  [\"음식이 맛있어요\", \"친절해요\", \"재료가 신선해요\", \"특별한 메뉴가 있어요\"...   \n",
       "5  [\"음악이 좋아요\", \"친절해요\", \"인테리어가 멋져요\", \"음식이 맛있어요\", \"...   \n",
       "6  [\"음식이 맛있어요\", \"양이 많아요\", \"가성비가 좋아요\", \"재료가 신선해요\",...   \n",
       "7  [\"디저트가 맛있어요\", \"특별한 메뉴가 있어요\", \"친절해요\", \"커피가 맛있어요...   \n",
       "8  [\"음식이 맛있어요\", \"친절해요\", \"매장이 넓어요\", \"재료가 신선해요\", \"매...   \n",
       "9  [\"음식이 맛있어요\", \"친절해요\", \"특별한 메뉴가 있어요\", \"가성비가 좋아요\"...   \n",
       "\n",
       "                                                link  \n",
       "0  https://map.naver.com/v5/search/%ED%99%8D%EB%8...  \n",
       "1  https://map.naver.com/v5/search/%ED%99%8D%EB%8...  \n",
       "2  https://map.naver.com/v5/search/%ED%99%8D%EB%8...  \n",
       "3  https://map.naver.com/v5/search/%ED%99%8D%EB%8...  \n",
       "4  https://map.naver.com/v5/search/%ED%99%8D%EB%8...  \n",
       "5  https://map.naver.com/v5/search/%ED%99%8D%EB%8...  \n",
       "6  https://map.naver.com/v5/search/%ED%99%8D%EB%8...  \n",
       "7  https://map.naver.com/v5/search/%ED%99%8D%EB%8...  \n",
       "8  https://map.naver.com/v5/search/%ED%99%8D%EB%8...  \n",
       "9  https://map.naver.com/v5/search/%ED%99%8D%EB%8...  "
      ]
     },
     "execution_count": 741,
     "metadata": {},
     "output_type": "execute_result"
    }
   ],
   "source": [
    "upper = food_place.iloc[:10, :]\n",
    "upper"
   ]
  },
  {
   "cell_type": "markdown",
   "id": "216fbc94-a764-40b4-8d25-2f25b93044dc",
   "metadata": {
    "tags": []
   },
   "source": [
    "## 지도"
   ]
  },
  {
   "cell_type": "markdown",
   "id": "e54b766a-2b98-4288-9e4b-b521805a18fb",
   "metadata": {},
   "source": [
    "### from website"
   ]
  },
  {
   "cell_type": "code",
   "execution_count": 742,
   "id": "1056c53d-b765-4eca-a0c0-88c7d14e628f",
   "metadata": {},
   "outputs": [],
   "source": [
    "import requests\n",
    "import pandas as pd\n",
    "import numpy as np\n",
    "import folium\n",
    "from folium.plugins import MiniMap"
   ]
  },
  {
   "cell_type": "code",
   "execution_count": 743,
   "id": "92d4c06b-91eb-48a6-9708-ed96c3dc70d1",
   "metadata": {},
   "outputs": [],
   "source": [
    "def elec_location(region,page_num):\n",
    "    url = 'https://dapi.kakao.com/v2/local/search/keyword.json'\n",
    "    params = {'query': region,'page': page_num}\n",
    "    headers = {\"Authorization\": \"KakaoAK de2ab0f4e5f24304ac7898b7de2cacd8\"}\n",
    "\n",
    "    places = requests.get(url, params=params, headers=headers).json()['documents']\n",
    "    total = requests.get(url, params=params, headers=headers).json()['meta']['total_count']\n",
    "    return places"
   ]
  },
  {
   "cell_type": "code",
   "execution_count": 744,
   "id": "87d03139-9271-4b8b-b74c-f2bc01ba87a6",
   "metadata": {
    "tags": []
   },
   "outputs": [],
   "source": [
    "def elec_info(places):\n",
    "    X = []\n",
    "    Y = []\n",
    "    stores = []\n",
    "    road_address = []\n",
    "    place_url = []\n",
    "    ID = []\n",
    "    for place in places:\n",
    "        X.append(float(place['x']))\n",
    "        Y.append(float(place['y']))\n",
    "        stores.append(place['place_name'])\n",
    "        road_address.append(place['road_address_name'])\n",
    "        place_url.append(place['place_url'])\n",
    "        ID.append(place['id'])\n",
    "\n",
    "    ar = np.array([ID,stores, X, Y, road_address,place_url]).T\n",
    "    df = pd.DataFrame(ar, columns = ['ID','stores', 'X', 'Y','road_address','place_url'])\n",
    "    return df"
   ]
  },
  {
   "cell_type": "code",
   "execution_count": 745,
   "id": "0607c4c2-f778-4b4c-80d8-f5237de5cfef",
   "metadata": {
    "tags": []
   },
   "outputs": [],
   "source": [
    "def keywords(location_name):\n",
    "    df = None\n",
    "    for loca in location:\n",
    "        for page in range(1,4):\n",
    "            local_name = elec_location(loca, page)\n",
    "            local_elec_info = elec_info(local_name)\n",
    "\n",
    "            if df is None:\n",
    "                df = local_elec_info\n",
    "            elif local_elec_info is None:\n",
    "                continue\n",
    "            else:\n",
    "                df = pd.concat([df, local_elec_info],join='outer', ignore_index = True)\n",
    "    return df"
   ]
  },
  {
   "cell_type": "code",
   "execution_count": 766,
   "id": "21ff3312-e878-44ef-a8e8-563f8fb18675",
   "metadata": {},
   "outputs": [],
   "source": [
    "def make_map(dfs):\n",
    "    # 지도 생성하기\n",
    "    m = folium.Map(location=upper.iloc[0][1:3],   # 기준좌표: 서울시청\n",
    "                   zoom_start=15)\n",
    "\n",
    "    # 미니맵 추가하기\n",
    "    minimap = MiniMap() \n",
    "    m.add_child(minimap)\n",
    "\n",
    "    # 마커 추가하기\n",
    "    for i in range(len(dfs)):\n",
    "        popup_text = f'''<a href={upper.iloc[i].link} target='_blank'>\n",
    "                    {upper.iloc[i]['식당이름']}</a> 별점: {upper.iloc[i]['별점']}<br>\n",
    "                    리뷰: {upper.iloc[i]['리뷰']}<br>'''\n",
    "\n",
    "        #팝업 크기 조절\n",
    "        popup = folium.Popup(popup_text, min_width=100, max_width=300)\n",
    "    \n",
    "        # 마커 생성\n",
    "        folium.Marker([upper['위도'][i],upper['경도'][i]],\n",
    "                  tooltip=upper['식당이름'][i],\n",
    "                  popup=popup, \n",
    "                      icon=folium.Icon(color='red', icon='info-sign')).add_to(m)\n",
    "    return m"
   ]
  },
  {
   "cell_type": "code",
   "execution_count": 767,
   "id": "6084835b-9d4c-40bd-8eca-8c08a6814f5d",
   "metadata": {
    "tags": []
   },
   "outputs": [
    {
     "data": {
      "text/html": [
       "<div style=\"width:100%;\"><div style=\"position:relative;width:100%;height:0;padding-bottom:60%;\"><span style=\"color:#565656\">Make this Notebook Trusted to load map: File -> Trust Notebook</span><iframe srcdoc=\"&lt;!DOCTYPE html&gt;\n",
       "&lt;head&gt;    \n",
       "    &lt;meta http-equiv=&quot;content-type&quot; content=&quot;text/html; charset=UTF-8&quot; /&gt;\n",
       "    \n",
       "        &lt;script&gt;\n",
       "            L_NO_TOUCH = false;\n",
       "            L_DISABLE_3D = false;\n",
       "        &lt;/script&gt;\n",
       "    \n",
       "    &lt;style&gt;html, body {width: 100%;height: 100%;margin: 0;padding: 0;}&lt;/style&gt;\n",
       "    &lt;style&gt;#map {position:absolute;top:0;bottom:0;right:0;left:0;}&lt;/style&gt;\n",
       "    &lt;script src=&quot;https://cdn.jsdelivr.net/npm/leaflet@1.6.0/dist/leaflet.js&quot;&gt;&lt;/script&gt;\n",
       "    &lt;script src=&quot;https://code.jquery.com/jquery-1.12.4.min.js&quot;&gt;&lt;/script&gt;\n",
       "    &lt;script src=&quot;https://maxcdn.bootstrapcdn.com/bootstrap/3.2.0/js/bootstrap.min.js&quot;&gt;&lt;/script&gt;\n",
       "    &lt;script src=&quot;https://cdnjs.cloudflare.com/ajax/libs/Leaflet.awesome-markers/2.0.2/leaflet.awesome-markers.js&quot;&gt;&lt;/script&gt;\n",
       "    &lt;link rel=&quot;stylesheet&quot; href=&quot;https://cdn.jsdelivr.net/npm/leaflet@1.6.0/dist/leaflet.css&quot;/&gt;\n",
       "    &lt;link rel=&quot;stylesheet&quot; href=&quot;https://maxcdn.bootstrapcdn.com/bootstrap/3.2.0/css/bootstrap.min.css&quot;/&gt;\n",
       "    &lt;link rel=&quot;stylesheet&quot; href=&quot;https://maxcdn.bootstrapcdn.com/bootstrap/3.2.0/css/bootstrap-theme.min.css&quot;/&gt;\n",
       "    &lt;link rel=&quot;stylesheet&quot; href=&quot;https://maxcdn.bootstrapcdn.com/font-awesome/4.6.3/css/font-awesome.min.css&quot;/&gt;\n",
       "    &lt;link rel=&quot;stylesheet&quot; href=&quot;https://cdnjs.cloudflare.com/ajax/libs/Leaflet.awesome-markers/2.0.2/leaflet.awesome-markers.css&quot;/&gt;\n",
       "    &lt;link rel=&quot;stylesheet&quot; href=&quot;https://cdn.jsdelivr.net/gh/python-visualization/folium/folium/templates/leaflet.awesome.rotate.min.css&quot;/&gt;\n",
       "    \n",
       "            &lt;meta name=&quot;viewport&quot; content=&quot;width=device-width,\n",
       "                initial-scale=1.0, maximum-scale=1.0, user-scalable=no&quot; /&gt;\n",
       "            &lt;style&gt;\n",
       "                #map_7439354df91397ccb840bcbf6915b792 {\n",
       "                    position: relative;\n",
       "                    width: 100.0%;\n",
       "                    height: 100.0%;\n",
       "                    left: 0.0%;\n",
       "                    top: 0.0%;\n",
       "                }\n",
       "            &lt;/style&gt;\n",
       "        \n",
       "    &lt;script src=&quot;https://cdnjs.cloudflare.com/ajax/libs/leaflet-minimap/3.6.1/Control.MiniMap.js&quot;&gt;&lt;/script&gt;\n",
       "    &lt;link rel=&quot;stylesheet&quot; href=&quot;https://cdnjs.cloudflare.com/ajax/libs/leaflet-minimap/3.6.1/Control.MiniMap.css&quot;/&gt;\n",
       "&lt;/head&gt;\n",
       "&lt;body&gt;    \n",
       "    \n",
       "            &lt;div class=&quot;folium-map&quot; id=&quot;map_7439354df91397ccb840bcbf6915b792&quot; &gt;&lt;/div&gt;\n",
       "        \n",
       "&lt;/body&gt;\n",
       "&lt;script&gt;    \n",
       "    \n",
       "            var map_7439354df91397ccb840bcbf6915b792 = L.map(\n",
       "                &quot;map_7439354df91397ccb840bcbf6915b792&quot;,\n",
       "                {\n",
       "                    center: [37.5486490595911, 126.916979045786],\n",
       "                    crs: L.CRS.EPSG3857,\n",
       "                    zoom: 15,\n",
       "                    zoomControl: true,\n",
       "                    preferCanvas: false,\n",
       "                }\n",
       "            );\n",
       "\n",
       "            \n",
       "\n",
       "        \n",
       "    \n",
       "            var tile_layer_11fdc835ca7e62028af4762f04e7f80d = L.tileLayer(\n",
       "                &quot;https://{s}.tile.openstreetmap.org/{z}/{x}/{y}.png&quot;,\n",
       "                {&quot;attribution&quot;: &quot;Data by \\u0026copy; \\u003ca href=\\&quot;http://openstreetmap.org\\&quot;\\u003eOpenStreetMap\\u003c/a\\u003e, under \\u003ca href=\\&quot;http://www.openstreetmap.org/copyright\\&quot;\\u003eODbL\\u003c/a\\u003e.&quot;, &quot;detectRetina&quot;: false, &quot;maxNativeZoom&quot;: 18, &quot;maxZoom&quot;: 18, &quot;minZoom&quot;: 0, &quot;noWrap&quot;: false, &quot;opacity&quot;: 1, &quot;subdomains&quot;: &quot;abc&quot;, &quot;tms&quot;: false}\n",
       "            ).addTo(map_7439354df91397ccb840bcbf6915b792);\n",
       "        \n",
       "    \n",
       "            var tile_layer_d560e750569c3022bc4e0d5ef6067bfe = L.tileLayer(\n",
       "                &quot;https://{s}.tile.openstreetmap.org/{z}/{x}/{y}.png&quot;,\n",
       "                {&quot;attribution&quot;: &quot;Data by \\u0026copy; \\u003ca href=\\&quot;http://openstreetmap.org\\&quot;\\u003eOpenStreetMap\\u003c/a\\u003e, under \\u003ca href=\\&quot;http://www.openstreetmap.org/copyright\\&quot;\\u003eODbL\\u003c/a\\u003e.&quot;, &quot;detectRetina&quot;: false, &quot;maxNativeZoom&quot;: 18, &quot;maxZoom&quot;: 18, &quot;minZoom&quot;: 0, &quot;noWrap&quot;: false, &quot;opacity&quot;: 1, &quot;subdomains&quot;: &quot;abc&quot;, &quot;tms&quot;: false}\n",
       "            );\n",
       "            var mini_map_c693a7736fa67b8697a2b79d4dc3a8b7 = new L.Control.MiniMap(\n",
       "                tile_layer_d560e750569c3022bc4e0d5ef6067bfe,\n",
       "                {&quot;autoToggleDisplay&quot;: false, &quot;centerFixed&quot;: false, &quot;collapsedHeight&quot;: 25, &quot;collapsedWidth&quot;: 25, &quot;height&quot;: 150, &quot;minimized&quot;: false, &quot;position&quot;: &quot;bottomright&quot;, &quot;toggleDisplay&quot;: false, &quot;width&quot;: 150, &quot;zoomAnimation&quot;: false, &quot;zoomLevelOffset&quot;: -5}\n",
       "            );\n",
       "            map_7439354df91397ccb840bcbf6915b792.addControl(mini_map_c693a7736fa67b8697a2b79d4dc3a8b7);\n",
       "        \n",
       "    \n",
       "            var marker_baa69bd2cb37e5aabda6f7006bd675aa = L.marker(\n",
       "                [37.5486490595911, 126.916979045786],\n",
       "                {}\n",
       "            ).addTo(map_7439354df91397ccb840bcbf6915b792);\n",
       "        \n",
       "    \n",
       "            var icon_ff1dfe60f2d4015f1b8289177f12f982 = L.AwesomeMarkers.icon(\n",
       "                {&quot;extraClasses&quot;: &quot;fa-rotate-0&quot;, &quot;icon&quot;: &quot;info-sign&quot;, &quot;iconColor&quot;: &quot;white&quot;, &quot;markerColor&quot;: &quot;red&quot;, &quot;prefix&quot;: &quot;glyphicon&quot;}\n",
       "            );\n",
       "            marker_baa69bd2cb37e5aabda6f7006bd675aa.setIcon(icon_ff1dfe60f2d4015f1b8289177f12f982);\n",
       "        \n",
       "    \n",
       "        var popup_3a7338a1051ee74d587bc4e12092e574 = L.popup({&quot;maxWidth&quot;: 300, &quot;minWidth&quot;: 100});\n",
       "\n",
       "        \n",
       "            var html_7ddef0ed21c9929850544a5c56908ec1 = $(`&lt;div id=&quot;html_7ddef0ed21c9929850544a5c56908ec1&quot; style=&quot;width: 100.0%; height: 100.0%;&quot;&gt;&lt;a href=https://map.naver.com/v5/search/%ED%99%8D%EB%8C%80%20%EB%A7%9B%EC%A7%91/place/1844126724?c=14128354.8486428,4516221.3776633,14,0,0,0,dh&amp;placePath=%3Fentry%253Dbmp target=&#x27;_blank&#x27;&gt;                     썬키친&lt;/a&gt; 별점: 4.89&lt;br&gt;                     리뷰: [&#x27;&quot;음식이 맛있어요&quot;&#x27;, &#x27;&quot;특별한 메뉴가 있어요&quot;&#x27;, &#x27;&quot;친절해요&quot;&#x27;, &#x27;&quot;인테리어가 멋져요&quot;&#x27;, &#x27;&quot;매장이 청결해요&quot;&#x27;]&lt;br&gt;&lt;/div&gt;`)[0];\n",
       "            popup_3a7338a1051ee74d587bc4e12092e574.setContent(html_7ddef0ed21c9929850544a5c56908ec1);\n",
       "        \n",
       "\n",
       "        marker_baa69bd2cb37e5aabda6f7006bd675aa.bindPopup(popup_3a7338a1051ee74d587bc4e12092e574)\n",
       "        ;\n",
       "\n",
       "        \n",
       "    \n",
       "    \n",
       "            marker_baa69bd2cb37e5aabda6f7006bd675aa.bindTooltip(\n",
       "                `&lt;div&gt;\n",
       "                     썬키친\n",
       "                 &lt;/div&gt;`,\n",
       "                {&quot;sticky&quot;: true}\n",
       "            );\n",
       "        \n",
       "    \n",
       "            var marker_62eadf932a5affda4b0a186b3d99e326 = L.marker(\n",
       "                [37.5493540644272, 126.920207967712],\n",
       "                {}\n",
       "            ).addTo(map_7439354df91397ccb840bcbf6915b792);\n",
       "        \n",
       "    \n",
       "            var icon_88d4f1fa4bb7c3e93a99744353937050 = L.AwesomeMarkers.icon(\n",
       "                {&quot;extraClasses&quot;: &quot;fa-rotate-0&quot;, &quot;icon&quot;: &quot;info-sign&quot;, &quot;iconColor&quot;: &quot;white&quot;, &quot;markerColor&quot;: &quot;red&quot;, &quot;prefix&quot;: &quot;glyphicon&quot;}\n",
       "            );\n",
       "            marker_62eadf932a5affda4b0a186b3d99e326.setIcon(icon_88d4f1fa4bb7c3e93a99744353937050);\n",
       "        \n",
       "    \n",
       "        var popup_099023425a6dba7705c3f2df60f60bca = L.popup({&quot;maxWidth&quot;: 300, &quot;minWidth&quot;: 100});\n",
       "\n",
       "        \n",
       "            var html_4224cbe44e4d18b1e76d133623359242 = $(`&lt;div id=&quot;html_4224cbe44e4d18b1e76d133623359242&quot; style=&quot;width: 100.0%; height: 100.0%;&quot;&gt;&lt;a href=https://map.naver.com/v5/search/%ED%99%8D%EB%8C%80%20%EB%A7%9B%EC%A7%91/place/1294694156?c=14128354.8486428,4516221.3776633,14,0,0,0,dh&amp;placePath=%3Fentry%253Dbmp target=&#x27;_blank&#x27;&gt;                     야키토리 나루토&lt;/a&gt; 별점: 4.89&lt;br&gt;                     리뷰: [&#x27;&quot;음식이 맛있어요&quot;&#x27;, &#x27;&quot;친절해요&quot;&#x27;, &#x27;&quot;특별한 메뉴가 있어요&quot;&#x27;, &#x27;&quot;재료가 신선해요&quot;&#x27;, &#x27;&quot;특별한 날 가기 좋아요&quot;&#x27;]&lt;br&gt;&lt;/div&gt;`)[0];\n",
       "            popup_099023425a6dba7705c3f2df60f60bca.setContent(html_4224cbe44e4d18b1e76d133623359242);\n",
       "        \n",
       "\n",
       "        marker_62eadf932a5affda4b0a186b3d99e326.bindPopup(popup_099023425a6dba7705c3f2df60f60bca)\n",
       "        ;\n",
       "\n",
       "        \n",
       "    \n",
       "    \n",
       "            marker_62eadf932a5affda4b0a186b3d99e326.bindTooltip(\n",
       "                `&lt;div&gt;\n",
       "                     야키토리 나루토\n",
       "                 &lt;/div&gt;`,\n",
       "                {&quot;sticky&quot;: true}\n",
       "            );\n",
       "        \n",
       "    \n",
       "            var marker_1e4aa80ddfbf392463d69222338aa918 = L.marker(\n",
       "                [37.5606091272674, 126.925418144268],\n",
       "                {}\n",
       "            ).addTo(map_7439354df91397ccb840bcbf6915b792);\n",
       "        \n",
       "    \n",
       "            var icon_6b8bad183129e54e0c2746b2d61898ce = L.AwesomeMarkers.icon(\n",
       "                {&quot;extraClasses&quot;: &quot;fa-rotate-0&quot;, &quot;icon&quot;: &quot;info-sign&quot;, &quot;iconColor&quot;: &quot;white&quot;, &quot;markerColor&quot;: &quot;red&quot;, &quot;prefix&quot;: &quot;glyphicon&quot;}\n",
       "            );\n",
       "            marker_1e4aa80ddfbf392463d69222338aa918.setIcon(icon_6b8bad183129e54e0c2746b2d61898ce);\n",
       "        \n",
       "    \n",
       "        var popup_2b0fe12854587b8303b1841d342a3963 = L.popup({&quot;maxWidth&quot;: 300, &quot;minWidth&quot;: 100});\n",
       "\n",
       "        \n",
       "            var html_783394a51045514bed4497362d4c11c6 = $(`&lt;div id=&quot;html_783394a51045514bed4497362d4c11c6&quot; style=&quot;width: 100.0%; height: 100.0%;&quot;&gt;&lt;a href=https://map.naver.com/v5/search/%ED%99%8D%EB%8C%80%20%EB%A7%9B%EC%A7%91/place/1035036284?c=14128354.8486428,4516221.3776633,14,0,0,0,dh&amp;placePath=%3Fentry%253Dbmp target=&#x27;_blank&#x27;&gt;                     에그써티&lt;/a&gt; 별점: 4.85&lt;br&gt;                     리뷰: [&#x27;&quot;음식이 맛있어요&quot;&#x27;, &#x27;&quot;친절해요&quot;&#x27;, &#x27;&quot;재료가 신선해요&quot;&#x27;, &#x27;&quot;특별한 메뉴가 있어요&quot;&#x27;, &#x27;&quot;매장이 청결해요&quot;&#x27;]&lt;br&gt;&lt;/div&gt;`)[0];\n",
       "            popup_2b0fe12854587b8303b1841d342a3963.setContent(html_783394a51045514bed4497362d4c11c6);\n",
       "        \n",
       "\n",
       "        marker_1e4aa80ddfbf392463d69222338aa918.bindPopup(popup_2b0fe12854587b8303b1841d342a3963)\n",
       "        ;\n",
       "\n",
       "        \n",
       "    \n",
       "    \n",
       "            marker_1e4aa80ddfbf392463d69222338aa918.bindTooltip(\n",
       "                `&lt;div&gt;\n",
       "                     에그써티\n",
       "                 &lt;/div&gt;`,\n",
       "                {&quot;sticky&quot;: true}\n",
       "            );\n",
       "        \n",
       "    \n",
       "            var marker_af614d3eb5228aceed3a1d38a7b10655 = L.marker(\n",
       "                [37.5555557347446, 126.924472523465],\n",
       "                {}\n",
       "            ).addTo(map_7439354df91397ccb840bcbf6915b792);\n",
       "        \n",
       "    \n",
       "            var icon_d4fbe2d58d20e743338b8c27c24bcf83 = L.AwesomeMarkers.icon(\n",
       "                {&quot;extraClasses&quot;: &quot;fa-rotate-0&quot;, &quot;icon&quot;: &quot;info-sign&quot;, &quot;iconColor&quot;: &quot;white&quot;, &quot;markerColor&quot;: &quot;red&quot;, &quot;prefix&quot;: &quot;glyphicon&quot;}\n",
       "            );\n",
       "            marker_af614d3eb5228aceed3a1d38a7b10655.setIcon(icon_d4fbe2d58d20e743338b8c27c24bcf83);\n",
       "        \n",
       "    \n",
       "        var popup_0ea2ddc463e3014d75992c41700e4eaa = L.popup({&quot;maxWidth&quot;: 300, &quot;minWidth&quot;: 100});\n",
       "\n",
       "        \n",
       "            var html_d4686de8226913499b83ec8554112061 = $(`&lt;div id=&quot;html_d4686de8226913499b83ec8554112061&quot; style=&quot;width: 100.0%; height: 100.0%;&quot;&gt;&lt;a href=https://map.naver.com/v5/search/%ED%99%8D%EB%8C%80%20%EB%A7%9B%EC%A7%91/place/1995828622?c=14128354.8486428,4516221.3776633,14,0,0,0,dh&amp;placePath=%3Fentry%253Dbmp target=&#x27;_blank&#x27;&gt;                     필로베이커리&lt;/a&gt; 별점: 4.78&lt;br&gt;                     리뷰: [&#x27;&quot;특별한 메뉴가 있어요&quot;&#x27;, &#x27;&quot;디저트가 맛있어요&quot;&#x27;, &#x27;&quot;인테리어가 멋져요&quot;&#x27;, &#x27;&quot;음료가 맛있어요&quot;&#x27;, &#x27;&quot;사진이 잘 나와요&quot;&#x27;]&lt;br&gt;&lt;/div&gt;`)[0];\n",
       "            popup_0ea2ddc463e3014d75992c41700e4eaa.setContent(html_d4686de8226913499b83ec8554112061);\n",
       "        \n",
       "\n",
       "        marker_af614d3eb5228aceed3a1d38a7b10655.bindPopup(popup_0ea2ddc463e3014d75992c41700e4eaa)\n",
       "        ;\n",
       "\n",
       "        \n",
       "    \n",
       "    \n",
       "            marker_af614d3eb5228aceed3a1d38a7b10655.bindTooltip(\n",
       "                `&lt;div&gt;\n",
       "                     필로베이커리\n",
       "                 &lt;/div&gt;`,\n",
       "                {&quot;sticky&quot;: true}\n",
       "            );\n",
       "        \n",
       "    \n",
       "            var marker_a88d7399dfde8d0d512ba7bf412d1aad = L.marker(\n",
       "                [37.549687345281505, 126.91745771217005],\n",
       "                {}\n",
       "            ).addTo(map_7439354df91397ccb840bcbf6915b792);\n",
       "        \n",
       "    \n",
       "            var icon_6588609e45de0d55f0650357f63eb73e = L.AwesomeMarkers.icon(\n",
       "                {&quot;extraClasses&quot;: &quot;fa-rotate-0&quot;, &quot;icon&quot;: &quot;info-sign&quot;, &quot;iconColor&quot;: &quot;white&quot;, &quot;markerColor&quot;: &quot;red&quot;, &quot;prefix&quot;: &quot;glyphicon&quot;}\n",
       "            );\n",
       "            marker_a88d7399dfde8d0d512ba7bf412d1aad.setIcon(icon_6588609e45de0d55f0650357f63eb73e);\n",
       "        \n",
       "    \n",
       "        var popup_f83847a087a668b40e8e00b0a45f986c = L.popup({&quot;maxWidth&quot;: 300, &quot;minWidth&quot;: 100});\n",
       "\n",
       "        \n",
       "            var html_2a0c6ad410dfb3d9e1f12a500e37dc59 = $(`&lt;div id=&quot;html_2a0c6ad410dfb3d9e1f12a500e37dc59&quot; style=&quot;width: 100.0%; height: 100.0%;&quot;&gt;&lt;a href=https://map.naver.com/v5/search/%ED%99%8D%EB%8C%80%20%EB%A7%9B%EC%A7%91/place/1287775548?c=14128354.8486428,4516221.3776633,14,0,0,0,dh&amp;placePath=%3Fentry%253Dbmp target=&#x27;_blank&#x27;&gt;                     육지&lt;/a&gt; 별점: 4.78&lt;br&gt;                     리뷰: [&#x27;&quot;음식이 맛있어요&quot;&#x27;, &#x27;&quot;친절해요&quot;&#x27;, &#x27;&quot;재료가 신선해요&quot;&#x27;, &#x27;&quot;특별한 메뉴가 있어요&quot;&#x27;, &#x27;&quot;매장이 청결해요&quot;&#x27;]&lt;br&gt;&lt;/div&gt;`)[0];\n",
       "            popup_f83847a087a668b40e8e00b0a45f986c.setContent(html_2a0c6ad410dfb3d9e1f12a500e37dc59);\n",
       "        \n",
       "\n",
       "        marker_a88d7399dfde8d0d512ba7bf412d1aad.bindPopup(popup_f83847a087a668b40e8e00b0a45f986c)\n",
       "        ;\n",
       "\n",
       "        \n",
       "    \n",
       "    \n",
       "            marker_a88d7399dfde8d0d512ba7bf412d1aad.bindTooltip(\n",
       "                `&lt;div&gt;\n",
       "                     육지\n",
       "                 &lt;/div&gt;`,\n",
       "                {&quot;sticky&quot;: true}\n",
       "            );\n",
       "        \n",
       "    \n",
       "            var marker_8d30fc0b2cecb0ab9077448f1986d05a = L.marker(\n",
       "                [37.5488663918405, 126.91597617722],\n",
       "                {}\n",
       "            ).addTo(map_7439354df91397ccb840bcbf6915b792);\n",
       "        \n",
       "    \n",
       "            var icon_a3767731906d8fec16f899a3d81c99c3 = L.AwesomeMarkers.icon(\n",
       "                {&quot;extraClasses&quot;: &quot;fa-rotate-0&quot;, &quot;icon&quot;: &quot;info-sign&quot;, &quot;iconColor&quot;: &quot;white&quot;, &quot;markerColor&quot;: &quot;red&quot;, &quot;prefix&quot;: &quot;glyphicon&quot;}\n",
       "            );\n",
       "            marker_8d30fc0b2cecb0ab9077448f1986d05a.setIcon(icon_a3767731906d8fec16f899a3d81c99c3);\n",
       "        \n",
       "    \n",
       "        var popup_f2b89693028765ecc34ee081475ea5e2 = L.popup({&quot;maxWidth&quot;: 300, &quot;minWidth&quot;: 100});\n",
       "\n",
       "        \n",
       "            var html_80d8985eb7816ec225eb90ffbe9eee9e = $(`&lt;div id=&quot;html_80d8985eb7816ec225eb90ffbe9eee9e&quot; style=&quot;width: 100.0%; height: 100.0%;&quot;&gt;&lt;a href=https://map.naver.com/v5/search/%ED%99%8D%EB%8C%80%20%EB%A7%9B%EC%A7%91/place/1887795755?c=14128354.8486428,4516221.3776633,14,0,0,0,dh&amp;placePath=%3Fentry%253Dbmp target=&#x27;_blank&#x27;&gt;                     컴피&lt;/a&gt; 별점: 4.75&lt;br&gt;                     리뷰: [&#x27;&quot;음악이 좋아요&quot;&#x27;, &#x27;&quot;친절해요&quot;&#x27;, &#x27;&quot;인테리어가 멋져요&quot;&#x27;, &#x27;&quot;음식이 맛있어요&quot;&#x27;, &#x27;&quot;술이 다양해요&quot;&#x27;]&lt;br&gt;&lt;/div&gt;`)[0];\n",
       "            popup_f2b89693028765ecc34ee081475ea5e2.setContent(html_80d8985eb7816ec225eb90ffbe9eee9e);\n",
       "        \n",
       "\n",
       "        marker_8d30fc0b2cecb0ab9077448f1986d05a.bindPopup(popup_f2b89693028765ecc34ee081475ea5e2)\n",
       "        ;\n",
       "\n",
       "        \n",
       "    \n",
       "    \n",
       "            marker_8d30fc0b2cecb0ab9077448f1986d05a.bindTooltip(\n",
       "                `&lt;div&gt;\n",
       "                     컴피\n",
       "                 &lt;/div&gt;`,\n",
       "                {&quot;sticky&quot;: true}\n",
       "            );\n",
       "        \n",
       "    \n",
       "            var marker_9ec966878432334c54b61411500b08c9 = L.marker(\n",
       "                [37.5494264051392, 126.920594912252],\n",
       "                {}\n",
       "            ).addTo(map_7439354df91397ccb840bcbf6915b792);\n",
       "        \n",
       "    \n",
       "            var icon_672372f5da580e9df0f58510975ac277 = L.AwesomeMarkers.icon(\n",
       "                {&quot;extraClasses&quot;: &quot;fa-rotate-0&quot;, &quot;icon&quot;: &quot;info-sign&quot;, &quot;iconColor&quot;: &quot;white&quot;, &quot;markerColor&quot;: &quot;red&quot;, &quot;prefix&quot;: &quot;glyphicon&quot;}\n",
       "            );\n",
       "            marker_9ec966878432334c54b61411500b08c9.setIcon(icon_672372f5da580e9df0f58510975ac277);\n",
       "        \n",
       "    \n",
       "        var popup_3e99049055ff32087d6f82d5ba15fe75 = L.popup({&quot;maxWidth&quot;: 300, &quot;minWidth&quot;: 100});\n",
       "\n",
       "        \n",
       "            var html_c559f3e1cccc6689c05a767bf72aa40b = $(`&lt;div id=&quot;html_c559f3e1cccc6689c05a767bf72aa40b&quot; style=&quot;width: 100.0%; height: 100.0%;&quot;&gt;&lt;a href=https://map.naver.com/v5/search/%ED%99%8D%EB%8C%80%20%EB%A7%9B%EC%A7%91/place/31558719?c=14128354.8486428,4516221.3776633,14,0,0,0,dh&amp;placePath=%3Fentry%253Dbmp target=&#x27;_blank&#x27;&gt;                     산더미불고기&lt;/a&gt; 별점: 4.67&lt;br&gt;                     리뷰: [&#x27;&quot;음식이 맛있어요&quot;&#x27;, &#x27;&quot;양이 많아요&quot;&#x27;, &#x27;&quot;가성비가 좋아요&quot;&#x27;, &#x27;&quot;재료가 신선해요&quot;&#x27;, &#x27;&quot;친절해요&quot;&#x27;]&lt;br&gt;&lt;/div&gt;`)[0];\n",
       "            popup_3e99049055ff32087d6f82d5ba15fe75.setContent(html_c559f3e1cccc6689c05a767bf72aa40b);\n",
       "        \n",
       "\n",
       "        marker_9ec966878432334c54b61411500b08c9.bindPopup(popup_3e99049055ff32087d6f82d5ba15fe75)\n",
       "        ;\n",
       "\n",
       "        \n",
       "    \n",
       "    \n",
       "            marker_9ec966878432334c54b61411500b08c9.bindTooltip(\n",
       "                `&lt;div&gt;\n",
       "                     산더미불고기\n",
       "                 &lt;/div&gt;`,\n",
       "                {&quot;sticky&quot;: true}\n",
       "            );\n",
       "        \n",
       "    \n",
       "            var marker_392a0ba963953a718fba529dff02e684 = L.marker(\n",
       "                [37.5498067386666, 126.920761992685],\n",
       "                {}\n",
       "            ).addTo(map_7439354df91397ccb840bcbf6915b792);\n",
       "        \n",
       "    \n",
       "            var icon_db8ba5658a98b904c7a9256e59441bec = L.AwesomeMarkers.icon(\n",
       "                {&quot;extraClasses&quot;: &quot;fa-rotate-0&quot;, &quot;icon&quot;: &quot;info-sign&quot;, &quot;iconColor&quot;: &quot;white&quot;, &quot;markerColor&quot;: &quot;red&quot;, &quot;prefix&quot;: &quot;glyphicon&quot;}\n",
       "            );\n",
       "            marker_392a0ba963953a718fba529dff02e684.setIcon(icon_db8ba5658a98b904c7a9256e59441bec);\n",
       "        \n",
       "    \n",
       "        var popup_3000aa4fa064315ac08c4bfac9721b13 = L.popup({&quot;maxWidth&quot;: 300, &quot;minWidth&quot;: 100});\n",
       "\n",
       "        \n",
       "            var html_24276657c5b908600fe0d6865799070f = $(`&lt;div id=&quot;html_24276657c5b908600fe0d6865799070f&quot; style=&quot;width: 100.0%; height: 100.0%;&quot;&gt;&lt;a href=https://map.naver.com/v5/search/%ED%99%8D%EB%8C%80%20%EB%A7%9B%EC%A7%91/place/1021945903?c=14128354.8486428,4516221.3776633,14,0,0,0,dh&amp;placePath=%3Fentry%253Dbmp target=&#x27;_blank&#x27;&gt;                     모센즈스위트&lt;/a&gt; 별점: 4.66&lt;br&gt;                     리뷰: [&#x27;&quot;디저트가 맛있어요&quot;&#x27;, &#x27;&quot;특별한 메뉴가 있어요&quot;&#x27;, &#x27;&quot;친절해요&quot;&#x27;, &#x27;&quot;커피가 맛있어요&quot;&#x27;, &#x27;&quot;음료가 맛있어요&quot;&#x27;]&lt;br&gt;&lt;/div&gt;`)[0];\n",
       "            popup_3000aa4fa064315ac08c4bfac9721b13.setContent(html_24276657c5b908600fe0d6865799070f);\n",
       "        \n",
       "\n",
       "        marker_392a0ba963953a718fba529dff02e684.bindPopup(popup_3000aa4fa064315ac08c4bfac9721b13)\n",
       "        ;\n",
       "\n",
       "        \n",
       "    \n",
       "    \n",
       "            marker_392a0ba963953a718fba529dff02e684.bindTooltip(\n",
       "                `&lt;div&gt;\n",
       "                     모센즈스위트\n",
       "                 &lt;/div&gt;`,\n",
       "                {&quot;sticky&quot;: true}\n",
       "            );\n",
       "        \n",
       "    \n",
       "            var marker_9e4f65910960dd443869a3b508d9af08 = L.marker(\n",
       "                [37.5571921297692, 126.924760602353],\n",
       "                {}\n",
       "            ).addTo(map_7439354df91397ccb840bcbf6915b792);\n",
       "        \n",
       "    \n",
       "            var icon_d7230cf191e1c0287af776665e2c36b6 = L.AwesomeMarkers.icon(\n",
       "                {&quot;extraClasses&quot;: &quot;fa-rotate-0&quot;, &quot;icon&quot;: &quot;info-sign&quot;, &quot;iconColor&quot;: &quot;white&quot;, &quot;markerColor&quot;: &quot;red&quot;, &quot;prefix&quot;: &quot;glyphicon&quot;}\n",
       "            );\n",
       "            marker_9e4f65910960dd443869a3b508d9af08.setIcon(icon_d7230cf191e1c0287af776665e2c36b6);\n",
       "        \n",
       "    \n",
       "        var popup_1151b242bb9c24041927699c02daf655 = L.popup({&quot;maxWidth&quot;: 300, &quot;minWidth&quot;: 100});\n",
       "\n",
       "        \n",
       "            var html_09617669120550ec8f23b7a52140d13b = $(`&lt;div id=&quot;html_09617669120550ec8f23b7a52140d13b&quot; style=&quot;width: 100.0%; height: 100.0%;&quot;&gt;&lt;a href=https://map.naver.com/v5/search/%ED%99%8D%EB%8C%80%20%EB%A7%9B%EC%A7%91/place/653467130?c=14128354.8486428,4516221.3776633,14,0,0,0,dh&amp;placePath=%3Fentry%253Dbmp target=&#x27;_blank&#x27;&gt;                     하이디라오 홍대지점&lt;/a&gt; 별점: 4.61&lt;br&gt;                     리뷰: [&#x27;&quot;음식이 맛있어요&quot;&#x27;, &#x27;&quot;친절해요&quot;&#x27;, &#x27;&quot;매장이 넓어요&quot;&#x27;, &#x27;&quot;재료가 신선해요&quot;&#x27;, &#x27;&quot;매장이 청결해요&quot;&#x27;]&lt;br&gt;&lt;/div&gt;`)[0];\n",
       "            popup_1151b242bb9c24041927699c02daf655.setContent(html_09617669120550ec8f23b7a52140d13b);\n",
       "        \n",
       "\n",
       "        marker_9e4f65910960dd443869a3b508d9af08.bindPopup(popup_1151b242bb9c24041927699c02daf655)\n",
       "        ;\n",
       "\n",
       "        \n",
       "    \n",
       "    \n",
       "            marker_9e4f65910960dd443869a3b508d9af08.bindTooltip(\n",
       "                `&lt;div&gt;\n",
       "                     하이디라오 홍대지점\n",
       "                 &lt;/div&gt;`,\n",
       "                {&quot;sticky&quot;: true}\n",
       "            );\n",
       "        \n",
       "    \n",
       "            var marker_e46e4ae92ebf12d6886cdf8ad10be5b6 = L.marker(\n",
       "                [37.558945244782436, 126.92440798585419],\n",
       "                {}\n",
       "            ).addTo(map_7439354df91397ccb840bcbf6915b792);\n",
       "        \n",
       "    \n",
       "            var icon_2db29fb75cbb0296e532ea807500705f = L.AwesomeMarkers.icon(\n",
       "                {&quot;extraClasses&quot;: &quot;fa-rotate-0&quot;, &quot;icon&quot;: &quot;info-sign&quot;, &quot;iconColor&quot;: &quot;white&quot;, &quot;markerColor&quot;: &quot;red&quot;, &quot;prefix&quot;: &quot;glyphicon&quot;}\n",
       "            );\n",
       "            marker_e46e4ae92ebf12d6886cdf8ad10be5b6.setIcon(icon_2db29fb75cbb0296e532ea807500705f);\n",
       "        \n",
       "    \n",
       "        var popup_9de4968cca38d2716c8cf34be9b4d990 = L.popup({&quot;maxWidth&quot;: 300, &quot;minWidth&quot;: 100});\n",
       "\n",
       "        \n",
       "            var html_8a25ebb790fe90f629178e4aa2ed2602 = $(`&lt;div id=&quot;html_8a25ebb790fe90f629178e4aa2ed2602&quot; style=&quot;width: 100.0%; height: 100.0%;&quot;&gt;&lt;a href=https://map.naver.com/v5/search/%ED%99%8D%EB%8C%80%20%EB%A7%9B%EC%A7%91/place/37663862?c=14128354.8486428,4516221.3776633,14,0,0,0,dh&amp;placePath=%3Fentry%253Dbmp target=&#x27;_blank&#x27;&gt;                     또보겠지떡볶이집 붕붕허니비점&lt;/a&gt; 별점: 4.58&lt;br&gt;                     리뷰: [&#x27;&quot;음식이 맛있어요&quot;&#x27;, &#x27;&quot;친절해요&quot;&#x27;, &#x27;&quot;특별한 메뉴가 있어요&quot;&#x27;, &#x27;&quot;가성비가 좋아요&quot;&#x27;, &#x27;&quot;재료가 신선해요&quot;&#x27;]&lt;br&gt;&lt;/div&gt;`)[0];\n",
       "            popup_9de4968cca38d2716c8cf34be9b4d990.setContent(html_8a25ebb790fe90f629178e4aa2ed2602);\n",
       "        \n",
       "\n",
       "        marker_e46e4ae92ebf12d6886cdf8ad10be5b6.bindPopup(popup_9de4968cca38d2716c8cf34be9b4d990)\n",
       "        ;\n",
       "\n",
       "        \n",
       "    \n",
       "    \n",
       "            marker_e46e4ae92ebf12d6886cdf8ad10be5b6.bindTooltip(\n",
       "                `&lt;div&gt;\n",
       "                     또보겠지떡볶이집 붕붕허니비점\n",
       "                 &lt;/div&gt;`,\n",
       "                {&quot;sticky&quot;: true}\n",
       "            );\n",
       "        \n",
       "&lt;/script&gt;\" style=\"position:absolute;width:100%;height:100%;left:0;top:0;border:none !important;\" allowfullscreen webkitallowfullscreen mozallowfullscreen></iframe></div></div>"
      ],
      "text/plain": [
       "<folium.folium.Map at 0x2692426af70>"
      ]
     },
     "execution_count": 767,
     "metadata": {},
     "output_type": "execute_result"
    }
   ],
   "source": [
    "df = keywords(upper['식당이름'])\n",
    "df = df.drop_duplicates(['ID'])\n",
    "df = df.reset_index()\n",
    "\n",
    "make_map(upper)"
   ]
  },
  {
   "cell_type": "code",
   "execution_count": null,
   "id": "6ef048d9-32f1-4cab-aa92-3c5f59eedbf7",
   "metadata": {},
   "outputs": [],
   "source": []
  },
  {
   "cell_type": "code",
   "execution_count": null,
   "id": "2084fb45-2416-4da1-933a-41a96fee6aaf",
   "metadata": {},
   "outputs": [],
   "source": []
  },
  {
   "cell_type": "code",
   "execution_count": null,
   "id": "8c6fad4e-46e0-428c-9060-6d2cb8a8c044",
   "metadata": {},
   "outputs": [],
   "source": []
  },
  {
   "cell_type": "code",
   "execution_count": null,
   "id": "84018d77-1281-4815-a05c-f6e4394bad59",
   "metadata": {},
   "outputs": [],
   "source": []
  },
  {
   "cell_type": "code",
   "execution_count": null,
   "id": "32a6f9b1-fad9-4fb3-be3f-6471374f9a5e",
   "metadata": {},
   "outputs": [],
   "source": []
  },
  {
   "cell_type": "code",
   "execution_count": null,
   "id": "14a983b8-8903-4374-aa8e-c20e1a959e1b",
   "metadata": {},
   "outputs": [],
   "source": []
  },
  {
   "cell_type": "code",
   "execution_count": null,
   "id": "1d58b75a-0f23-42d0-ba2e-425d6407e452",
   "metadata": {},
   "outputs": [],
   "source": []
  },
  {
   "cell_type": "code",
   "execution_count": null,
   "id": "971f6628-c7cf-484d-a13d-cf99fe199275",
   "metadata": {},
   "outputs": [],
   "source": []
  }
 ],
 "metadata": {
  "kernelspec": {
   "display_name": "Python 3 (ipykernel)",
   "language": "python",
   "name": "python3"
  },
  "language_info": {
   "codemirror_mode": {
    "name": "ipython",
    "version": 3
   },
   "file_extension": ".py",
   "mimetype": "text/x-python",
   "name": "python",
   "nbconvert_exporter": "python",
   "pygments_lexer": "ipython3",
   "version": "3.9.12"
  }
 },
 "nbformat": 4,
 "nbformat_minor": 5
}
