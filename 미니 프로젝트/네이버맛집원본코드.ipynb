{
 "cells": [
  {
   "cell_type": "markdown",
   "id": "87c156cc-68a6-4a22-b7d5-ac144c7f3dcf",
   "metadata": {},
   "source": [
    "# 맛집"
   ]
  },
  {
   "cell_type": "markdown",
   "id": "50e82489-7b0b-4262-8b30-a4a644493d16",
   "metadata": {},
   "source": [
    "## 필요 라이브러리"
   ]
  },
  {
   "cell_type": "code",
   "execution_count": 83,
   "id": "d2cde741-b7c4-4684-afc0-068022656c6f",
   "metadata": {},
   "outputs": [],
   "source": [
    "import requests\n",
    "from bs4 import BeautifulSoup\n",
    "import selenium\n",
    "from selenium import webdriver\n",
    "from urllib.request import urlopen, urlretrieve\n",
    "from urllib.parse import quote_plus\n",
    "from selenium.webdriver.common.by import By\n",
    "from selenium.webdriver.common.keys import Keys"
   ]
  },
  {
   "cell_type": "code",
   "execution_count": 84,
   "id": "ff0840fd-42cf-45f9-af10-357b0129c74a",
   "metadata": {},
   "outputs": [],
   "source": [
    "import os\n",
    "os.getcwd()\n",
    "os.chdir('C:\\\\Users\\\\admin')"
   ]
  },
  {
   "cell_type": "code",
   "execution_count": 636,
   "id": "c6d83e18-24cc-46bf-a0da-c0208d43e12d",
   "metadata": {},
   "outputs": [
    {
     "name": "stderr",
     "output_type": "stream",
     "text": [
      "C:\\Users\\admin\\AppData\\Local\\Temp\\ipykernel_9052\\530843676.py:1: DeprecationWarning: executable_path has been deprecated, please pass in a Service object\n",
      "  driver = webdriver.Chrome('chromedriver.exe')\n"
     ]
    }
   ],
   "source": [
    "driver = webdriver.Chrome('chromedriver.exe')"
   ]
  },
  {
   "cell_type": "markdown",
   "id": "55a84ecb-ba47-42f3-80ef-7f7bc3654a3a",
   "metadata": {},
   "source": [
    "## 맛집 찾기"
   ]
  },
  {
   "cell_type": "code",
   "execution_count": 637,
   "id": "f3628e70-e5b3-4e76-a07f-de4b098a77eb",
   "metadata": {},
   "outputs": [],
   "source": [
    "url = \"https://map.naver.com/\"\n",
    "driver.get(url)"
   ]
  },
  {
   "cell_type": "code",
   "execution_count": 638,
   "id": "46f16ce0-0962-4294-90f6-ee90b62a3b40",
   "metadata": {},
   "outputs": [
    {
     "name": "stdin",
     "output_type": "stream",
     "text": [
      "위치를 입력하세요:  이대\n"
     ]
    }
   ],
   "source": [
    "location = input('위치를 입력하세요: ')\n",
    "xpath = '/html/body/app/layout/div[3]/div[2]/shrinkable-layout/div/app-base/search-input-box/div/div/div/input'\n",
    "search = driver.find_element(By.XPATH, xpath)\n",
    "search.clear()\n",
    "search.send_keys(f'{location} 맛집')\n",
    "search.send_keys(Keys.ENTER)"
   ]
  },
  {
   "cell_type": "markdown",
   "id": "d5ce3fee-069f-4a70-b4c3-c29642f034cc",
   "metadata": {
    "tags": []
   },
   "source": [
    "## 식당 이름 따기"
   ]
  },
  {
   "cell_type": "code",
   "execution_count": 639,
   "id": "acb63b47-257c-4d7a-97ca-5ce5104eb73c",
   "metadata": {
    "tags": []
   },
   "outputs": [],
   "source": [
    "driver.switch_to.frame('searchIframe')"
   ]
  },
  {
   "cell_type": "code",
   "execution_count": 640,
   "id": "8ed4ec4d-191d-4e5b-b71f-4cc63546f5a0",
   "metadata": {},
   "outputs": [],
   "source": [
    "import datetime\n",
    "import time\n",
    "\n",
    "def doScrollDown(whileSeconds):\n",
    "    start = datetime.datetime.now()\n",
    "    end = start + datetime.timedelta(seconds=whileSeconds)\n",
    "    while True:\n",
    "        scroll = driver.find_element(By.XPATH, '/html/body/div[3]/div/div[2]/div[1]')\n",
    "        driver.execute_script(\"arguments[0].scrollTop = arguments[0].scrollHeight\", scroll)\n",
    "        time.sleep(1)\n",
    "        if datetime.datetime.now() > end:\n",
    "            break"
   ]
  },
  {
   "cell_type": "code",
   "execution_count": 641,
   "id": "58e1fe08-98ed-4ad6-a05e-402db1605107",
   "metadata": {},
   "outputs": [],
   "source": [
    "doScrollDown(5)"
   ]
  },
  {
   "cell_type": "code",
   "execution_count": 642,
   "id": "15756b54-f524-4419-90ea-f61ce7f04d86",
   "metadata": {
    "tags": []
   },
   "outputs": [],
   "source": [
    "rec = driver.find_elements(By.CLASS_NAME, 'place_bluelink.TYaxT')\n",
    "\n",
    "li2 = []\n",
    "for i in range(0, len(rec)):\n",
    "    li2.append(rec[i].text)\n",
    "\n",
    "# li2"
   ]
  },
  {
   "cell_type": "code",
   "execution_count": 643,
   "id": "87202412-1fe1-46d1-8edb-d3154403bca6",
   "metadata": {},
   "outputs": [
    {
     "data": {
      "text/plain": [
       "54"
      ]
     },
     "execution_count": 643,
     "metadata": {},
     "output_type": "execute_result"
    }
   ],
   "source": [
    "len(li2)"
   ]
  },
  {
   "cell_type": "code",
   "execution_count": 644,
   "id": "00c8e6a9-5dff-4ed4-9479-2cd14c969cbc",
   "metadata": {
    "tags": []
   },
   "outputs": [
    {
     "data": {
      "text/plain": [
       "['인생식당',\n",
       " '디저트바 이브흐',\n",
       " '하늘초밥',\n",
       " '연어초밥',\n",
       " '위샐러듀 이대점',\n",
       " '마더린러 베이글',\n",
       " '목란',\n",
       " '오르랔베이커리',\n",
       " '티앙팡 오후의 홍차',\n",
       " '비밀',\n",
       " '유야케도쿄',\n",
       " '사장님돈까스 이화여대점',\n",
       " '고냉지',\n",
       " '아건',\n",
       " '비아37',\n",
       " '방콕익스프레스 신촌본점',\n",
       " '까이식당',\n",
       " '그릭데이 이대본점',\n",
       " '원즈오운',\n",
       " '쏠페스타 이화여대점',\n",
       " '카우떡볶이',\n",
       " '삭 수제튀김 전문점',\n",
       " '메이크베이크',\n",
       " '화로상회 신촌점',\n",
       " '아콘스톨',\n",
       " 'waffle it up',\n",
       " '란주탕슉',\n",
       " '진돈부리',\n",
       " '에이테이블',\n",
       " '조은집',\n",
       " '피자클럽',\n",
       " '연희동 라이라이 본점',\n",
       " '도꼭지',\n",
       " '어바웃샤브 이대점',\n",
       " '카페페라',\n",
       " '희게',\n",
       " '파파노다이닝',\n",
       " '내사랑',\n",
       " '세올',\n",
       " '모미지식당',\n",
       " '서울호떡 아현점',\n",
       " '스탠바이키친',\n",
       " '연희동칼국수 본점',\n",
       " '공릉닭한마리',\n",
       " '미스터서왕만두',\n",
       " '탭스터',\n",
       " '로드샌드위치',\n",
       " '호밀밭',\n",
       " '모센즈스위트 이대점',\n",
       " '에그 앤드 스푼레이스',\n",
       " '밀리네해물잡탕',\n",
       " '김광석신촌칼국수 이대직영점',\n",
       " '참참참',\n",
       " '옥루몽 신촌본점']"
      ]
     },
     "execution_count": 644,
     "metadata": {},
     "output_type": "execute_result"
    }
   ],
   "source": [
    "li2"
   ]
  },
  {
   "cell_type": "markdown",
   "id": "ab09df05-30e0-437c-818b-7417b30fe54a",
   "metadata": {},
   "source": [
    "## 전체 텍스트 따기"
   ]
  },
  {
   "cell_type": "code",
   "execution_count": 645,
   "id": "c7060012-5fd6-46a6-8329-d28dff253e9c",
   "metadata": {
    "tags": []
   },
   "outputs": [],
   "source": [
    "rec = driver.find_elements(By.CLASS_NAME, 'UEzoS.rTjJo')\n",
    "\n",
    "lists = []\n",
    "for i in range(0, len(rec)):\n",
    "    lists.append(rec[i].text)\n",
    "\n",
    "# lists"
   ]
  },
  {
   "cell_type": "code",
   "execution_count": 646,
   "id": "84fbe3ca-4579-43ac-9444-fbbf2ffb046c",
   "metadata": {},
   "outputs": [
    {
     "data": {
      "text/plain": [
       "'옥루몽 신촌본점\\n팥빙수흑임자빙수카페찹쌀떡아이스크림\\n영업 중\\n별점\\n4.37방문자리뷰 489블로그리뷰 101\\n옥루몽 신촌본점\\n옥루몽 신촌본점\\n옥루몽 신촌본점\\n이미지 더 있음'"
      ]
     },
     "execution_count": 646,
     "metadata": {},
     "output_type": "execute_result"
    }
   ],
   "source": [
    "lists[-1]"
   ]
  },
  {
   "cell_type": "code",
   "execution_count": 647,
   "id": "6dc868a7-d9f7-4911-a86f-da2d2d1e266c",
   "metadata": {},
   "outputs": [
    {
     "data": {
      "text/plain": [
       "54"
      ]
     },
     "execution_count": 647,
     "metadata": {},
     "output_type": "execute_result"
    }
   ],
   "source": [
    "len(lists)"
   ]
  },
  {
   "cell_type": "code",
   "execution_count": 648,
   "id": "7a2d0dfe-f4e2-4add-a98d-46ac43146b3b",
   "metadata": {
    "tags": []
   },
   "outputs": [],
   "source": [
    "driver.switch_to.parent_frame()"
   ]
  },
  {
   "cell_type": "code",
   "execution_count": 649,
   "id": "6859eef1-3a56-4141-a8d8-3f18c6c59728",
   "metadata": {},
   "outputs": [],
   "source": [
    "# driver.close()"
   ]
  },
  {
   "cell_type": "code",
   "execution_count": 650,
   "id": "d8dad5c4-6123-4308-993a-472ab7c95219",
   "metadata": {
    "tags": []
   },
   "outputs": [
    {
     "data": {
      "text/plain": [
       "['광고\\n인생식당한식\\n인생맛집이 되고픈 인생식당\\n영업 중방문자리뷰 9블로그리뷰 30\\n인생식당',\n",
       " '광고\\n디저트바 이브흐\\n네이버페이\\n네이버주문\\n파리에서건너온 구움과자&칵테일\\n영업 중\\n별점\\n4.91방문자리뷰 286블로그리뷰 31\\n디저트바 이브흐\\n디저트바 이브흐\\n디저트바 이브흐\\n이미지 더 있음',\n",
       " '하늘초밥초밥,롤\\n오늘 휴무\\n별점\\n4.65방문자리뷰 374블로그리뷰 203\\n하늘초밥\\n하늘초밥\\n하늘초밥\\n이미지 더 있음',\n",
       " '연어초밥초밥,롤\\n오늘 휴무\\n별점\\n4.67방문자리뷰 1,228블로그리뷰 255\\n연어초밥\\n연어초밥\\n연어초밥\\n이미지 더 있음',\n",
       " '위샐러듀 이대점\\n네이버톡톡\\n건강식샌드위치신선한홈메이드주스\\n곧 영업 시작\\n별점\\n4.61방문자리뷰 5,235블로그리뷰 567',\n",
       " '마더린러 베이글\\n네이버페이\\nTV생방송오늘저녁 방영\\n베이글샌드위치tv방영아담한홈메이드\\n곧 영업 종료방문자리뷰 1,471블로그리뷰 760',\n",
       " '목란\\nTV미식클럽 방영\\n동파육과 멘보샤가 유명한 이연복쉐프 중식당\\n오늘 휴무방문자리뷰 2,101블로그리뷰 2,909',\n",
       " '오르랔베이커리\\n종류의 크러핀이 맛있는 베이커리카페\\n오늘 휴무\\n별점\\n4.58방문자리뷰 615블로그리뷰 626',\n",
       " '티앙팡 오후의 홍차\\n밀크티등을 즐기고 싶다면 이대이색카페\\n영업 중\\n별점\\n4.51방문자리뷰 389블로그리뷰 449',\n",
       " '비밀\\nTV찾아라맛있는TV 방영\\n냉부해 이원일셰프가 운영하는 이대 빵집\\n영업 중\\n별점\\n4.41방문자리뷰 964블로그리뷰 653',\n",
       " '유야케도쿄돈가스\\n별점\\n4.58방문자리뷰 279블로그리뷰 276',\n",
       " '사장님돈까스 이화여대점\\n네이버페이\\n네이버주문\\n배달\\n영업 중\\n별점\\n4.62방문자리뷰 709블로그리뷰 193',\n",
       " '고냉지\\n보쌈과 김치찌개가 맛있는 신촌 밥집\\n영업 중\\n별점\\n4.52방문자리뷰 478블로그리뷰 625',\n",
       " '아건\\n네이버페이\\n네이버예약\\n네이버주문\\nN예약으로 방문하시는 분들께 포토현줄평 작성 후 매장내 직원에게 보여주시면 하니 난을 1개 무료로 드립니다.\\n인도음식레스토랑인도카레이국적신선한\\n영업 중\\n별점\\n4.82방문자리뷰 1,477블로그리뷰 662',\n",
       " '비아37\\n네이버예약\\n네이버톡톡\\nTV생방송투데이 방영\\n이대 안의 작은 유럽 그리고 맛난 파스타\\n브레이크타임\\n별점\\n4.67방문자리뷰 504블로그리뷰 397',\n",
       " '방콕익스프레스 신촌본점\\n신촌 방콕익스프레스 가성비 좋은 태국 음식 맛집\\n영업 중\\n별점\\n4.36방문자리뷰 811블로그리뷰 698',\n",
       " '까이식당\\nTV생활의달인 방영\\n누들치킨삼계탕아담한자극적인\\n브레이크타임\\n별점\\n4.56방문자리뷰 192블로그리뷰 279',\n",
       " '그릭데이 이대본점\\n네이버페이\\n네이버주문\\n네이버톡톡\\n카페디저트블루베리신선한아이스크림\\n영업 중\\n별점\\n4.72방문자리뷰 3,343블로그리뷰 526',\n",
       " '원즈오운\\n배달\\n영업 중\\n별점\\n4.47방문자리뷰 264블로그리뷰 190',\n",
       " '쏠페스타 이화여대점양식\\n영업 중방문자리뷰 287블로그리뷰 28\\n쏠페스타 이화여대점\\n새로오픈\\n쏠페스타 이화여대점\\n쏠페스타 이화여대점\\n이미지 더 있음',\n",
       " '카우떡볶이\\n네이버페이\\n네이버예약\\n네이버주문\\n배달\\n슈퍼주니어 규현이 인정한 국물 떡볶이 맛집\\n영업 중\\n별점\\n4.57방문자리뷰 582블로그리뷰 395\\n카우떡볶이\\n카우떡볶이\\n카우떡볶이\\n이미지 더 있음',\n",
       " '삭 수제튀김 전문점\\n네이버페이\\n네이버주문\\n영업 중\\n별점\\n4.46방문자리뷰 866블로그리뷰 304\\n삭 수제튀김 전문점\\n인기\\n삭 떡볶이\\n4,000원\\n삭 수제튀김 전문점\\n인기\\n김말이튀김\\n1,500원\\n삭 수제튀김 전문점',\n",
       " '광고\\n메이크베이크베이커리\\n프랑스 정통디저트를 즐겨보세요\\n오늘 휴무\\n별점\\n4.64방문자리뷰 219블로그리뷰 127\\n메이크베이크\\n메이크베이크\\n메이크베이크\\n이미지 더 있음',\n",
       " '광고\\n화로상회 신촌점\\n참숯 화로 직화구이 화로상회\\n영업 중\\n별점\\n4.49방문자리뷰 443블로그리뷰 95\\n화로상회 신촌점\\n화로상회 신촌점\\n화로상회 신촌점\\n이미지 더 있음',\n",
       " '아콘스톨\\n추천해도 모자란 분식집\\n영업 중\\n별점\\n4.7방문자리뷰 350블로그리뷰 133',\n",
       " 'waffle it up\\n쫀득한 와플이 있는 이대 카페\\n영업 중\\n별점\\n4.63방문자리뷰 645블로그리뷰 522',\n",
       " '란주탕슉\\n꿔바로우가 맛있는 사천 탕수육 전문점\\n영업 중\\n별점\\n4.41방문자리뷰 843블로그리뷰 676',\n",
       " '진돈부리일식당\\n오늘 휴무\\n별점\\n4.84방문자리뷰 168블로그리뷰 114',\n",
       " '에이테이블카페,디저트\\n영업 중\\n별점\\n4.57방문자리뷰 180블로그리뷰 194',\n",
       " '조은집\\nTV2TV생생정보 방영\\n푸짐한 한상차림으로 상다리 부러지는 연희동 한정식 맛집\\n브레이크타임\\n별점\\n4.24방문자리뷰 707블로그리뷰 257\\n조은집\\n조은집\\n조은집\\n이미지 더 있음',\n",
       " '피자클럽피자\\n영업 중방문자리뷰 22블로그리뷰 24\\n피자클럽\\n피자클럽\\n피자클럽\\n이미지 더 있음',\n",
       " '연희동 라이라이 본점\\n네이버페이\\n네이버주문\\n칠리가지가 맛있는 연희동 중식맛집\\n영업 중방문자리뷰 863블로그리뷰 363\\n연희동 라이라이 본점\\n연희동 라이라이 본점\\n연희동 라이라이 본점\\n이미지 더 있음',\n",
       " '도꼭지한식\\nTV생방송오늘저녁 방영\\n오늘 휴무\\n별점\\n4.45방문자리뷰 1,056블로그리뷰 669\\n도꼭지\\n도꼭지\\n도꼭지\\n이미지 더 있음',\n",
       " '어바웃샤브 이대점\\n이대에 샤브샤브 먹기 좋은 곳 어바웃샤브\\n영업 중\\n별점\\n4.49방문자리뷰 380블로그리뷰 119',\n",
       " '카페페라\\n수제 딸기케이크에 따끈한 핸드드립커피\\n영업 중방문자리뷰 660블로그리뷰 314',\n",
       " '희게\\n브런치와 와인을 즐기는곳\\n오늘 휴무\\n별점\\n4.66방문자리뷰 235블로그리뷰 327',\n",
       " '파파노다이닝\\n네이버페이\\n네이버주문\\n배달\\n네이버톡톡\\n신촌 이대 근처 깔끔한 일본 가정식\\n브레이크타임\\n별점\\n4.55방문자리뷰 537블로그리뷰 326',\n",
       " '내사랑\\n크림이 흘러내리는 수플레 팬케이크\\n오늘 휴무\\n별점\\n4.33방문자리뷰 69블로그리뷰 251\\n내사랑\\n내사랑\\n내사랑\\n이미지 더 있음',\n",
       " '세올바(BAR)\\n영업 전방문자리뷰 46블로그리뷰 32\\n세올\\n새로오픈\\n세올\\n세올\\n이미지 더 있음',\n",
       " '모미지식당한식\\n브레이크타임\\n별점\\n4.74방문자리뷰 336블로그리뷰 193\\n모미지식당\\n모미지식당',\n",
       " '서울호떡 아현점\\n배달\\n영업 중\\n별점\\n4.26방문자리뷰 367블로그리뷰 72\\n서울호떡 아현점\\n서울호떡 아현점\\n서울호떡 아현점\\n이미지 더 있음',\n",
       " '스탠바이키친\\n샌드위치오믈렛바게트파스타브런치\\n영업 중\\n별점\\n4.48방문자리뷰 803블로그리뷰 315\\n스탠바이키친\\n스탠바이키친',\n",
       " '연희동칼국수 본점\\nTV좋은아침 방영\\n아자매가 너무나 좋아하는 칼국수맛집 연희동칼국수\\n오늘 휴무\\n별점\\n4.32방문자리뷰 2,970블로그리뷰 965',\n",
       " '공릉닭한마리\\n실패 없을 메뉴 닭한마리 맛집\\n영업 중\\n별점\\n4.44방문자리뷰 495블로그리뷰 189',\n",
       " '미스터서왕만두\\n본토 만두의 맛을 느낄 수 있는 이대 맛집\\n영업 중\\n별점\\n4.49방문자리뷰 423블로그리뷰 347',\n",
       " '탭스터맥주,호프\\n오늘 휴무\\n별점\\n4.83방문자리뷰 194블로그리뷰 97',\n",
       " '로드샌드위치\\n샌드위치피자브런치고급스러운홈메이드\\n오늘 휴무\\n별점\\n4.42방문자리뷰 247블로그리뷰 168',\n",
       " '호밀밭\\n신촌사이 알흠답게 맛있는 빙수집\\n오늘 휴무\\n별점\\n4.62방문자리뷰 1,160블로그리뷰 802\\n호밀밭\\n호밀밭\\n호밀밭\\n이미지 더 있음',\n",
       " '모센즈스위트 이대점카페,디저트\\n영업 중방문자리뷰 124블로그리뷰 52\\n모센즈스위트 이대점\\n모센즈스위트 이대점\\n모센즈스위트 이대점\\n이미지 더 있음',\n",
       " '에그 앤드 스푼레이스\\n네이버페이\\n네이버주문\\n이대역 파스타 오믈렛 8년째 보장된 맛집\\n오늘 휴무\\n별점\\n4.5방문자리뷰 422블로그리뷰 493\\n에그 앤드 스푼레이스\\n에그 앤드 스푼레이스\\n에그 앤드 스푼레이스\\n이미지 더 있음',\n",
       " '밀리네해물잡탕\\nTV생방송오늘저녁 방영\\n따끈 시원한 해물탕 이대맛집\\n영업 중\\n별점\\n4.27방문자리뷰 235블로그리뷰 345\\n밀리네해물잡탕\\n밀리네해물잡탕',\n",
       " '김광석신촌칼국수 이대직영점칼국수,만두\\n영업 중\\n별점\\n4.28방문자리뷰 474블로그리뷰 264\\n김광석신촌칼국수 이대직영점\\n김광석신촌칼국수 이대직영점\\n김광석신촌칼국수 이대직영점\\n이미지 더 있음',\n",
       " '참참참\\n순두부찌개제육볶음김치찌개재방문\\n영업 중\\n별점\\n4.61방문자리뷰 105블로그리뷰 41\\n참참참\\n참참참\\n참참참\\n이미지 더 있음',\n",
       " '옥루몽 신촌본점\\n팥빙수흑임자빙수카페찹쌀떡아이스크림\\n영업 중\\n별점\\n4.37방문자리뷰 489블로그리뷰 101\\n옥루몽 신촌본점\\n옥루몽 신촌본점\\n옥루몽 신촌본점\\n이미지 더 있음']"
      ]
     },
     "execution_count": 650,
     "metadata": {},
     "output_type": "execute_result"
    }
   ],
   "source": [
    "lists"
   ]
  },
  {
   "cell_type": "markdown",
   "id": "f1ddead1-67cb-4a2d-852c-40fd1234831a",
   "metadata": {
    "tags": []
   },
   "source": [
    "## \\n 없애기"
   ]
  },
  {
   "cell_type": "code",
   "execution_count": 651,
   "id": "fc91f212-c398-4279-bec4-db96702e975e",
   "metadata": {},
   "outputs": [],
   "source": [
    "import re"
   ]
  },
  {
   "cell_type": "code",
   "execution_count": 652,
   "id": "c237f8ef-7e55-4062-8601-dc9c461a6089",
   "metadata": {
    "tags": []
   },
   "outputs": [],
   "source": [
    "for i in range(0, len(lists)):\n",
    "    p = re.compile(r'\\n')\n",
    "    lists[i] = p.sub(' ', lists[i])\n",
    "# lists"
   ]
  },
  {
   "cell_type": "markdown",
   "id": "f4603505-3c25-4150-9c52-72cb5d8df8c0",
   "metadata": {},
   "source": [
    "## 리뷰 뽑기 + 빈칸 0으로 바꾸기 + 리스트 하나로 만들기"
   ]
  },
  {
   "cell_type": "code",
   "execution_count": 653,
   "id": "5144b842-babd-40ec-a485-a2e7e17944ca",
   "metadata": {
    "tags": []
   },
   "outputs": [],
   "source": [
    "ind = []\n",
    "for i in range(0, len(lists)):\n",
    "    a = re.compile(r'\\d\\.\\d{2}')\n",
    "    ind.append(a.findall(lists[i]))\n",
    "    for i in range(0, len(ind)):\n",
    "        if ind[i] == []:\n",
    "            ind[i] = '0'\n",
    "            \n",
    "# reviews1 = [item for sublist in ind for item in sublist][2:22]\n",
    "# reviews2 = [item for sublist in ind for item in sublist][24:]\n",
    "# reviews = reviews1 + reviews2\n",
    "reviews = [item for sublist in ind for item in sublist]"
   ]
  },
  {
   "cell_type": "code",
   "execution_count": 654,
   "id": "b549a83a-ce26-4afe-821d-51b311dd2208",
   "metadata": {
    "tags": []
   },
   "outputs": [],
   "source": [
    "# reviews"
   ]
  },
  {
   "cell_type": "markdown",
   "id": "2cfe9a0a-ed1d-4593-9bbc-3b71951fb803",
   "metadata": {},
   "source": [
    "## 총 리뷰 수 (방문자 + 블로그)"
   ]
  },
  {
   "cell_type": "code",
   "execution_count": 655,
   "id": "a3dfaac4-0fa6-4c75-9d02-019f483b9d2d",
   "metadata": {},
   "outputs": [],
   "source": [
    "rvs = []\n",
    "for i in range(0, len(lists)):\n",
    "    a1 = re.compile(r'(방문자리뷰)\\s(.+)(블로그리뷰)')\n",
    "    rvs.append(a1.search(lists[i]).group(2))\n",
    "    for i in range(0, len(rvs)):\n",
    "        if rvs[i] == []:\n",
    "            rvs[i] = '0'"
   ]
  },
  {
   "cell_type": "code",
   "execution_count": 656,
   "id": "b69c4ca6-2d2a-4fe2-8578-48b7311b3a96",
   "metadata": {
    "tags": []
   },
   "outputs": [
    {
     "data": {
      "text/plain": [
       "['9', '286', '374']"
      ]
     },
     "execution_count": 656,
     "metadata": {},
     "output_type": "execute_result"
    }
   ],
   "source": [
    "rvs[:3]"
   ]
  },
  {
   "cell_type": "code",
   "execution_count": 657,
   "id": "6be7deaf-add3-4a4f-94d5-f427c30376b6",
   "metadata": {},
   "outputs": [],
   "source": [
    "rv = []\n",
    "for i in range(0, len(lists)):\n",
    "    a1 = re.compile(r'(방문자리뷰)\\s(.+)(블로그리뷰)\\s(\\d+)')\n",
    "    rv.append(a1.search(lists[i]).group(4))\n",
    "    for i in range(0, len(rv)):\n",
    "        if rv[i] == []:\n",
    "            rv[i] = '0'"
   ]
  },
  {
   "cell_type": "code",
   "execution_count": 658,
   "id": "e1d6f22d-09ee-4d16-a99b-7cbab89dfa89",
   "metadata": {},
   "outputs": [
    {
     "data": {
      "text/plain": [
       "['30', '31', '203']"
      ]
     },
     "execution_count": 658,
     "metadata": {},
     "output_type": "execute_result"
    }
   ],
   "source": [
    "rv[:3]"
   ]
  },
  {
   "cell_type": "code",
   "execution_count": 659,
   "id": "50d72126-5309-4766-ac7a-062da812f7ae",
   "metadata": {
    "tags": []
   },
   "outputs": [
    {
     "data": {
      "text/plain": [
       "39"
      ]
     },
     "execution_count": 659,
     "metadata": {},
     "output_type": "execute_result"
    }
   ],
   "source": [
    "int(rvs[0]) + int(rv[0])"
   ]
  },
  {
   "cell_type": "code",
   "execution_count": 660,
   "id": "9dc570b3-d776-4c8d-a932-92edb1bff979",
   "metadata": {},
   "outputs": [],
   "source": [
    "rvs = [i.replace(',', '') for i in rvs]\n",
    "rv = [i.replace(',', '') for i in rv]"
   ]
  },
  {
   "cell_type": "code",
   "execution_count": 661,
   "id": "f3bab872-319b-44a1-9a51-3eb9547e987c",
   "metadata": {},
   "outputs": [],
   "source": [
    "tot = []\n",
    "for i in range(0, len(rvs)):\n",
    "    tot.append(int(float(rvs[i])) + int(float(rv[i])))"
   ]
  },
  {
   "cell_type": "code",
   "execution_count": 662,
   "id": "52d2be41-ce1f-47cd-8606-a4291e18b552",
   "metadata": {
    "tags": []
   },
   "outputs": [
    {
     "data": {
      "text/plain": [
       "54"
      ]
     },
     "execution_count": 662,
     "metadata": {},
     "output_type": "execute_result"
    }
   ],
   "source": [
    "len(tot)"
   ]
  },
  {
   "cell_type": "markdown",
   "id": "c07687bd-9e58-47db-a8bb-169e3cc654a1",
   "metadata": {
    "tags": []
   },
   "source": [
    "# 리뷰 종류 따기"
   ]
  },
  {
   "cell_type": "code",
   "execution_count": 667,
   "id": "f2b7d252-2345-474d-94bf-cbe32e865f39",
   "metadata": {
    "tags": []
   },
   "outputs": [],
   "source": [
    "driver.switch_to.frame('searchIframe')"
   ]
  },
  {
   "cell_type": "code",
   "execution_count": 668,
   "id": "4daee19d-0e29-4993-8c13-29e9a4e936c0",
   "metadata": {},
   "outputs": [],
   "source": [
    "def ScrollDown(whileSeconds):\n",
    "    start = datetime.datetime.now()\n",
    "    end = start + datetime.timedelta(seconds=whileSeconds)\n",
    "    while True:\n",
    "        sc = driver.find_element(By.XPATH, '/html')\n",
    "        driver.execute_script(\"arguments[0].scrollTop = arguments[0].scrollHeight\", sc)\n",
    "        time.sleep(1)\n",
    "        if datetime.datetime.now() > end:\n",
    "            break"
   ]
  },
  {
   "cell_type": "code",
   "execution_count": 669,
   "id": "b589ff16-72fc-47a2-9ba6-67d825a1976c",
   "metadata": {
    "tags": []
   },
   "outputs": [],
   "source": [
    "# url = driver.current_url\n",
    "# resp = requests.get(url)\n",
    "\n",
    "e = driver.find_elements(By.CLASS_NAME, 'place_bluelink.TYaxT')\n",
    "\n",
    "l = []\n",
    "for i in range(2, 22):\n",
    "    e[i].click()\n",
    "    driver.switch_to.parent_frame()\n",
    "    driver.switch_to.frame('entryIframe')    \n",
    "    ScrollDown(3)\n",
    "    com = driver.find_elements(By.CLASS_NAME, 'nWiXa')\n",
    "    if len(com) == 0:\n",
    "        l.append('x')\n",
    "        l.append('x')\n",
    "        l.append('x')\n",
    "        l.append('x')\n",
    "        l.append('x')\n",
    "    else:\n",
    "        for j in range(0, len(com)):\n",
    "            l.append(com[j].text)\n",
    "    driver.switch_to.parent_frame()\n",
    "    driver.switch_to.frame('searchIframe')\n",
    "\n",
    "driver.switch_to.parent_frame()\n",
    "driver.switch_to.frame('searchIframe')\n",
    "\n",
    "for i in range(24, 54):\n",
    "    e[i].click()\n",
    "    driver.switch_to.parent_frame()\n",
    "    driver.switch_to.frame('entryIframe')    \n",
    "    ScrollDown(3)\n",
    "    com = driver.find_elements(By.CLASS_NAME, 'nWiXa')\n",
    "    if len(com) == 0:\n",
    "        l.append('x')\n",
    "        l.append('x')\n",
    "        l.append('x')\n",
    "        l.append('x')\n",
    "        l.append('x')\n",
    "    else:\n",
    "        for j in range(0, len(com)):\n",
    "            l.append(com[j].text)\n",
    "    driver.switch_to.parent_frame()\n",
    "    driver.switch_to.frame('searchIframe')"
   ]
  },
  {
   "cell_type": "code",
   "execution_count": 670,
   "id": "53b385fe-18e7-4f86-a4dd-1ba2857a43f8",
   "metadata": {},
   "outputs": [
    {
     "data": {
      "text/plain": [
       "250"
      ]
     },
     "execution_count": 670,
     "metadata": {},
     "output_type": "execute_result"
    }
   ],
   "source": [
    "len(l)"
   ]
  },
  {
   "cell_type": "code",
   "execution_count": 671,
   "id": "83faef87-0cb2-4538-8427-0813849d1460",
   "metadata": {
    "tags": []
   },
   "outputs": [
    {
     "data": {
      "text/plain": [
       "50"
      ]
     },
     "execution_count": 671,
     "metadata": {},
     "output_type": "execute_result"
    }
   ],
   "source": [
    "chunks = [l[x:x+5] for x in range(0, len(l), 5)]\n",
    "len(chunks)"
   ]
  },
  {
   "cell_type": "markdown",
   "id": "d1c0de1c-4296-46be-82b1-04304acf18ce",
   "metadata": {
    "tags": []
   },
   "source": [
    "## 데이터 프레임 만들기"
   ]
  },
  {
   "cell_type": "code",
   "execution_count": 30,
   "id": "8844b3a9-20cb-4590-9cf9-3ae2326f38a4",
   "metadata": {},
   "outputs": [],
   "source": [
    "import pandas as pd"
   ]
  },
  {
   "cell_type": "code",
   "execution_count": 672,
   "id": "76a63b4b-a058-4895-9a57-c48b6c1d8b99",
   "metadata": {
    "tags": []
   },
   "outputs": [],
   "source": [
    "df = pd.DataFrame(zip(li2, reviews, tot), columns=['식당이름', '별점', '리뷰수'])"
   ]
  },
  {
   "cell_type": "code",
   "execution_count": 177,
   "id": "bf7d2c8d-93e6-4439-97ed-ca0cd5376a7b",
   "metadata": {
    "collapsed": true,
    "jupyter": {
     "outputs_hidden": true
    },
    "tags": []
   },
   "outputs": [
    {
     "data": {
      "text/html": [
       "<div>\n",
       "<style scoped>\n",
       "    .dataframe tbody tr th:only-of-type {\n",
       "        vertical-align: middle;\n",
       "    }\n",
       "\n",
       "    .dataframe tbody tr th {\n",
       "        vertical-align: top;\n",
       "    }\n",
       "\n",
       "    .dataframe thead th {\n",
       "        text-align: right;\n",
       "    }\n",
       "</style>\n",
       "<table border=\"1\" class=\"dataframe\">\n",
       "  <thead>\n",
       "    <tr style=\"text-align: right;\">\n",
       "      <th></th>\n",
       "      <th>식당이름</th>\n",
       "      <th>별점</th>\n",
       "      <th>리뷰수</th>\n",
       "    </tr>\n",
       "  </thead>\n",
       "  <tbody>\n",
       "    <tr>\n",
       "      <th>0</th>\n",
       "      <td>하이드미플리즈</td>\n",
       "      <td>4.44</td>\n",
       "      <td>1043</td>\n",
       "    </tr>\n",
       "    <tr>\n",
       "      <th>1</th>\n",
       "      <td>3호선차이나</td>\n",
       "      <td>4.19</td>\n",
       "      <td>316</td>\n",
       "    </tr>\n",
       "    <tr>\n",
       "      <th>2</th>\n",
       "      <td>문화촌초밥집</td>\n",
       "      <td>4.36</td>\n",
       "      <td>823</td>\n",
       "    </tr>\n",
       "    <tr>\n",
       "      <th>3</th>\n",
       "      <td>3호선차이나</td>\n",
       "      <td>4.19</td>\n",
       "      <td>316</td>\n",
       "    </tr>\n",
       "    <tr>\n",
       "      <th>4</th>\n",
       "      <td>용씨네 누룽지통닭구이</td>\n",
       "      <td>4.42</td>\n",
       "      <td>1053</td>\n",
       "    </tr>\n",
       "    <tr>\n",
       "      <th>5</th>\n",
       "      <td>쿠들리</td>\n",
       "      <td>0</td>\n",
       "      <td>127</td>\n",
       "    </tr>\n",
       "    <tr>\n",
       "      <th>6</th>\n",
       "      <td>런어웨이</td>\n",
       "      <td>0</td>\n",
       "      <td>86</td>\n",
       "    </tr>\n",
       "    <tr>\n",
       "      <th>7</th>\n",
       "      <td>가타쯔무리</td>\n",
       "      <td>4.47</td>\n",
       "      <td>1126</td>\n",
       "    </tr>\n",
       "    <tr>\n",
       "      <th>8</th>\n",
       "      <td>소설원</td>\n",
       "      <td>0</td>\n",
       "      <td>655</td>\n",
       "    </tr>\n",
       "    <tr>\n",
       "      <th>9</th>\n",
       "      <td>하이드미플리즈</td>\n",
       "      <td>4.44</td>\n",
       "      <td>1043</td>\n",
       "    </tr>\n",
       "    <tr>\n",
       "      <th>10</th>\n",
       "      <td>주재근베이커리</td>\n",
       "      <td>4.31</td>\n",
       "      <td>3827</td>\n",
       "    </tr>\n",
       "    <tr>\n",
       "      <th>11</th>\n",
       "      <td>디오브닝</td>\n",
       "      <td>0</td>\n",
       "      <td>100</td>\n",
       "    </tr>\n",
       "    <tr>\n",
       "      <th>12</th>\n",
       "      <td>홍제파스타</td>\n",
       "      <td>4.47</td>\n",
       "      <td>822</td>\n",
       "    </tr>\n",
       "    <tr>\n",
       "      <th>13</th>\n",
       "      <td>소담촌 홍제점</td>\n",
       "      <td>4.38</td>\n",
       "      <td>1115</td>\n",
       "    </tr>\n",
       "    <tr>\n",
       "      <th>14</th>\n",
       "      <td>롤리홀리</td>\n",
       "      <td>0</td>\n",
       "      <td>434</td>\n",
       "    </tr>\n",
       "    <tr>\n",
       "      <th>15</th>\n",
       "      <td>호밍</td>\n",
       "      <td>0</td>\n",
       "      <td>161</td>\n",
       "    </tr>\n",
       "    <tr>\n",
       "      <th>16</th>\n",
       "      <td>대박포차</td>\n",
       "      <td>0</td>\n",
       "      <td>51</td>\n",
       "    </tr>\n",
       "    <tr>\n",
       "      <th>17</th>\n",
       "      <td>미소그릴 한돈다이닝</td>\n",
       "      <td>4.75</td>\n",
       "      <td>894</td>\n",
       "    </tr>\n",
       "    <tr>\n",
       "      <th>18</th>\n",
       "      <td>안짱</td>\n",
       "      <td>0</td>\n",
       "      <td>259</td>\n",
       "    </tr>\n",
       "    <tr>\n",
       "      <th>19</th>\n",
       "      <td>화린</td>\n",
       "      <td>4.54</td>\n",
       "      <td>702</td>\n",
       "    </tr>\n",
       "    <tr>\n",
       "      <th>20</th>\n",
       "      <td>헤일우드</td>\n",
       "      <td>0</td>\n",
       "      <td>134</td>\n",
       "    </tr>\n",
       "    <tr>\n",
       "      <th>21</th>\n",
       "      <td>37.5 녹번점</td>\n",
       "      <td>4.47</td>\n",
       "      <td>2496</td>\n",
       "    </tr>\n",
       "    <tr>\n",
       "      <th>22</th>\n",
       "      <td>문화유부</td>\n",
       "      <td>0</td>\n",
       "      <td>172</td>\n",
       "    </tr>\n",
       "    <tr>\n",
       "      <th>23</th>\n",
       "      <td>산천마루</td>\n",
       "      <td>0</td>\n",
       "      <td>1434</td>\n",
       "    </tr>\n",
       "    <tr>\n",
       "      <th>24</th>\n",
       "      <td>옛날왕솥뚜껑생삼겹살</td>\n",
       "      <td>4.47</td>\n",
       "      <td>276</td>\n",
       "    </tr>\n",
       "    <tr>\n",
       "      <th>25</th>\n",
       "      <td>불란집</td>\n",
       "      <td>4.29</td>\n",
       "      <td>2106</td>\n",
       "    </tr>\n",
       "    <tr>\n",
       "      <th>26</th>\n",
       "      <td>가우</td>\n",
       "      <td>4.67</td>\n",
       "      <td>300</td>\n",
       "    </tr>\n",
       "    <tr>\n",
       "      <th>27</th>\n",
       "      <td>다시밥</td>\n",
       "      <td>0</td>\n",
       "      <td>346</td>\n",
       "    </tr>\n",
       "    <tr>\n",
       "      <th>28</th>\n",
       "      <td>산천마루</td>\n",
       "      <td>0</td>\n",
       "      <td>1434</td>\n",
       "    </tr>\n",
       "    <tr>\n",
       "      <th>29</th>\n",
       "      <td>인생곱창</td>\n",
       "      <td>4.44</td>\n",
       "      <td>225</td>\n",
       "    </tr>\n",
       "    <tr>\n",
       "      <th>30</th>\n",
       "      <td>피자아일랜드</td>\n",
       "      <td>0</td>\n",
       "      <td>394</td>\n",
       "    </tr>\n",
       "    <tr>\n",
       "      <th>31</th>\n",
       "      <td>조선설렁탕</td>\n",
       "      <td>4.35</td>\n",
       "      <td>516</td>\n",
       "    </tr>\n",
       "    <tr>\n",
       "      <th>32</th>\n",
       "      <td>장터순대국</td>\n",
       "      <td>4.47</td>\n",
       "      <td>102</td>\n",
       "    </tr>\n",
       "    <tr>\n",
       "      <th>33</th>\n",
       "      <td>홍제카카레</td>\n",
       "      <td>0</td>\n",
       "      <td>94</td>\n",
       "    </tr>\n",
       "    <tr>\n",
       "      <th>34</th>\n",
       "      <td>소소식탁</td>\n",
       "      <td>0</td>\n",
       "      <td>222</td>\n",
       "    </tr>\n",
       "    <tr>\n",
       "      <th>35</th>\n",
       "      <td>족삼리</td>\n",
       "      <td>4.65</td>\n",
       "      <td>350</td>\n",
       "    </tr>\n",
       "    <tr>\n",
       "      <th>36</th>\n",
       "      <td>네츠라멘</td>\n",
       "      <td>0</td>\n",
       "      <td>159</td>\n",
       "    </tr>\n",
       "    <tr>\n",
       "      <th>37</th>\n",
       "      <td>문화유부</td>\n",
       "      <td>0</td>\n",
       "      <td>172</td>\n",
       "    </tr>\n",
       "    <tr>\n",
       "      <th>38</th>\n",
       "      <td>이자카야 날로</td>\n",
       "      <td>4.91</td>\n",
       "      <td>160</td>\n",
       "    </tr>\n",
       "    <tr>\n",
       "      <th>39</th>\n",
       "      <td>백채김치찌개 홍제역점</td>\n",
       "      <td>4.32</td>\n",
       "      <td>326</td>\n",
       "    </tr>\n",
       "    <tr>\n",
       "      <th>40</th>\n",
       "      <td>불타는 소금구이</td>\n",
       "      <td>4.27</td>\n",
       "      <td>147</td>\n",
       "    </tr>\n",
       "    <tr>\n",
       "      <th>41</th>\n",
       "      <td>제주식탁</td>\n",
       "      <td>0</td>\n",
       "      <td>224</td>\n",
       "    </tr>\n",
       "    <tr>\n",
       "      <th>42</th>\n",
       "      <td>사꼬</td>\n",
       "      <td>4.91</td>\n",
       "      <td>89</td>\n",
       "    </tr>\n",
       "    <tr>\n",
       "      <th>43</th>\n",
       "      <td>라온 하우스</td>\n",
       "      <td>4.45</td>\n",
       "      <td>399</td>\n",
       "    </tr>\n",
       "    <tr>\n",
       "      <th>44</th>\n",
       "      <td>가이오국수 홍제점</td>\n",
       "      <td>4.42</td>\n",
       "      <td>476</td>\n",
       "    </tr>\n",
       "    <tr>\n",
       "      <th>45</th>\n",
       "      <td>스타벅스 홍제역점</td>\n",
       "      <td>0</td>\n",
       "      <td>5680</td>\n",
       "    </tr>\n",
       "    <tr>\n",
       "      <th>46</th>\n",
       "      <td>소림마라 서대문점</td>\n",
       "      <td>4.45</td>\n",
       "      <td>144</td>\n",
       "    </tr>\n",
       "    <tr>\n",
       "      <th>47</th>\n",
       "      <td>스위스 그랜드 알파인델리</td>\n",
       "      <td>4.57</td>\n",
       "      <td>201</td>\n",
       "    </tr>\n",
       "    <tr>\n",
       "      <th>48</th>\n",
       "      <td>양스맨 그릴마스터X라이라이 마라탕</td>\n",
       "      <td>4.42</td>\n",
       "      <td>171</td>\n",
       "    </tr>\n",
       "    <tr>\n",
       "      <th>49</th>\n",
       "      <td>용카츠</td>\n",
       "      <td>4.76</td>\n",
       "      <td>123</td>\n",
       "    </tr>\n",
       "    <tr>\n",
       "      <th>50</th>\n",
       "      <td>명동찌개마을 홍제점</td>\n",
       "      <td>4.33</td>\n",
       "      <td>356</td>\n",
       "    </tr>\n",
       "    <tr>\n",
       "      <th>51</th>\n",
       "      <td>꽃돼지식당</td>\n",
       "      <td>4.53</td>\n",
       "      <td>237</td>\n",
       "    </tr>\n",
       "    <tr>\n",
       "      <th>52</th>\n",
       "      <td>베이커리 카페 쏠트</td>\n",
       "      <td>4.43</td>\n",
       "      <td>917</td>\n",
       "    </tr>\n",
       "    <tr>\n",
       "      <th>53</th>\n",
       "      <td>당가원 홍제직영점</td>\n",
       "      <td>4.43</td>\n",
       "      <td>503</td>\n",
       "    </tr>\n",
       "  </tbody>\n",
       "</table>\n",
       "</div>"
      ],
      "text/plain": [
       "                  식당이름    별점   리뷰수\n",
       "0              하이드미플리즈  4.44  1043\n",
       "1               3호선차이나  4.19   316\n",
       "2               문화촌초밥집  4.36   823\n",
       "3               3호선차이나  4.19   316\n",
       "4          용씨네 누룽지통닭구이  4.42  1053\n",
       "5                  쿠들리     0   127\n",
       "6                 런어웨이     0    86\n",
       "7                가타쯔무리  4.47  1126\n",
       "8                  소설원     0   655\n",
       "9              하이드미플리즈  4.44  1043\n",
       "10             주재근베이커리  4.31  3827\n",
       "11                디오브닝     0   100\n",
       "12               홍제파스타  4.47   822\n",
       "13             소담촌 홍제점  4.38  1115\n",
       "14                롤리홀리     0   434\n",
       "15                  호밍     0   161\n",
       "16                대박포차     0    51\n",
       "17          미소그릴 한돈다이닝  4.75   894\n",
       "18                  안짱     0   259\n",
       "19                  화린  4.54   702\n",
       "20                헤일우드     0   134\n",
       "21            37.5 녹번점  4.47  2496\n",
       "22                문화유부     0   172\n",
       "23                산천마루     0  1434\n",
       "24          옛날왕솥뚜껑생삼겹살  4.47   276\n",
       "25                 불란집  4.29  2106\n",
       "26                  가우  4.67   300\n",
       "27                 다시밥     0   346\n",
       "28                산천마루     0  1434\n",
       "29                인생곱창  4.44   225\n",
       "30              피자아일랜드     0   394\n",
       "31               조선설렁탕  4.35   516\n",
       "32               장터순대국  4.47   102\n",
       "33               홍제카카레     0    94\n",
       "34                소소식탁     0   222\n",
       "35                 족삼리  4.65   350\n",
       "36                네츠라멘     0   159\n",
       "37                문화유부     0   172\n",
       "38             이자카야 날로  4.91   160\n",
       "39         백채김치찌개 홍제역점  4.32   326\n",
       "40            불타는 소금구이  4.27   147\n",
       "41                제주식탁     0   224\n",
       "42                  사꼬  4.91    89\n",
       "43              라온 하우스  4.45   399\n",
       "44           가이오국수 홍제점  4.42   476\n",
       "45           스타벅스 홍제역점     0  5680\n",
       "46           소림마라 서대문점  4.45   144\n",
       "47       스위스 그랜드 알파인델리  4.57   201\n",
       "48  양스맨 그릴마스터X라이라이 마라탕  4.42   171\n",
       "49                 용카츠  4.76   123\n",
       "50          명동찌개마을 홍제점  4.33   356\n",
       "51               꽃돼지식당  4.53   237\n",
       "52          베이커리 카페 쏠트  4.43   917\n",
       "53           당가원 홍제직영점  4.43   503"
      ]
     },
     "execution_count": 177,
     "metadata": {},
     "output_type": "execute_result"
    }
   ],
   "source": [
    "df"
   ]
  },
  {
   "cell_type": "code",
   "execution_count": 159,
   "id": "dbb4f734-3f0f-4859-95d9-1be3fed0e9bb",
   "metadata": {
    "tags": []
   },
   "outputs": [],
   "source": [
    "# df"
   ]
  },
  {
   "cell_type": "code",
   "execution_count": 160,
   "id": "22a77809-352d-46e5-b293-5ef4de3cb647",
   "metadata": {
    "tags": []
   },
   "outputs": [],
   "source": [
    "# df.iloc[24:, :]"
   ]
  },
  {
   "cell_type": "code",
   "execution_count": 673,
   "id": "dba47be0-51bc-464e-ac14-faa668ba161c",
   "metadata": {
    "tags": []
   },
   "outputs": [
    {
     "data": {
      "text/html": [
       "<div>\n",
       "<style scoped>\n",
       "    .dataframe tbody tr th:only-of-type {\n",
       "        vertical-align: middle;\n",
       "    }\n",
       "\n",
       "    .dataframe tbody tr th {\n",
       "        vertical-align: top;\n",
       "    }\n",
       "\n",
       "    .dataframe thead th {\n",
       "        text-align: right;\n",
       "    }\n",
       "</style>\n",
       "<table border=\"1\" class=\"dataframe\">\n",
       "  <thead>\n",
       "    <tr style=\"text-align: right;\">\n",
       "      <th></th>\n",
       "      <th>식당이름</th>\n",
       "      <th>별점</th>\n",
       "      <th>리뷰수</th>\n",
       "    </tr>\n",
       "  </thead>\n",
       "  <tbody>\n",
       "    <tr>\n",
       "      <th>0</th>\n",
       "      <td>하늘초밥</td>\n",
       "      <td>4.65</td>\n",
       "      <td>577</td>\n",
       "    </tr>\n",
       "    <tr>\n",
       "      <th>1</th>\n",
       "      <td>연어초밥</td>\n",
       "      <td>4.67</td>\n",
       "      <td>1483</td>\n",
       "    </tr>\n",
       "    <tr>\n",
       "      <th>2</th>\n",
       "      <td>위샐러듀 이대점</td>\n",
       "      <td>4.61</td>\n",
       "      <td>5802</td>\n",
       "    </tr>\n",
       "  </tbody>\n",
       "</table>\n",
       "</div>"
      ],
      "text/plain": [
       "       식당이름    별점   리뷰수\n",
       "0      하늘초밥  4.65   577\n",
       "1      연어초밥  4.67  1483\n",
       "2  위샐러듀 이대점  4.61  5802"
      ]
     },
     "execution_count": 673,
     "metadata": {},
     "output_type": "execute_result"
    }
   ],
   "source": [
    "no1 = df.iloc[2:22, :]\n",
    "no2 = df.iloc[24:, :]\n",
    "frames = [no1, no2]\n",
    "f_df = pd.concat(frames)\n",
    "f_df.reset_index(drop=True, inplace=True)\n",
    "f_df[:3]"
   ]
  },
  {
   "cell_type": "markdown",
   "id": "1b54a1d0-33a6-434c-9b59-2259ce185dec",
   "metadata": {},
   "source": [
    "## 위도 경도 불러오기"
   ]
  },
  {
   "cell_type": "markdown",
   "id": "202dfd6f-96f4-4bbb-8da1-73392aa6e606",
   "metadata": {},
   "source": [
    "### 함수"
   ]
  },
  {
   "cell_type": "code",
   "execution_count": 674,
   "id": "d37bee66-2914-48cb-a443-ca88eb9c6225",
   "metadata": {},
   "outputs": [],
   "source": [
    "import requests\n",
    "\n",
    "def place_find(s) :\n",
    "    # 접속 url\n",
    "    url = 'http://dapi.kakao.com/v2/local/search/keyword.json?query={}'.format(s)\n",
    "    \n",
    "    # headers 입력\n",
    "    headers = {\n",
    "        # 카카오지도 접속\n",
    "        \"Authorization\" : \"KakaoAK de2ab0f4e5f24304ac7898b7de2cacd8\"\n",
    "    }\n",
    "    # API 요청\n",
    "    places = requests.get(url, headers=headers).json()['documents']\n",
    "    try :\n",
    "        places = places[0]\n",
    "        df1_name  = places['place_name']\n",
    "        위도 = places['y']\n",
    "        경도 = places['x']\n",
    "        \n",
    "        result = [df1_name, 위도, 경도]\n",
    "        \n",
    "        return result\n",
    "    except:\n",
    "        pass"
   ]
  },
  {
   "cell_type": "code",
   "execution_count": 728,
   "id": "9417ddae-f879-4e20-a48d-901d748ea053",
   "metadata": {
    "collapsed": true,
    "jupyter": {
     "outputs_hidden": true
    },
    "tags": []
   },
   "outputs": [
    {
     "data": {
      "text/html": [
       "<div>\n",
       "<style scoped>\n",
       "    .dataframe tbody tr th:only-of-type {\n",
       "        vertical-align: middle;\n",
       "    }\n",
       "\n",
       "    .dataframe tbody tr th {\n",
       "        vertical-align: top;\n",
       "    }\n",
       "\n",
       "    .dataframe thead th {\n",
       "        text-align: right;\n",
       "    }\n",
       "</style>\n",
       "<table border=\"1\" class=\"dataframe\">\n",
       "  <thead>\n",
       "    <tr style=\"text-align: right;\">\n",
       "      <th></th>\n",
       "      <th>식당이름</th>\n",
       "    </tr>\n",
       "  </thead>\n",
       "  <tbody>\n",
       "    <tr>\n",
       "      <th>0</th>\n",
       "      <td>이대 하늘초밥</td>\n",
       "    </tr>\n",
       "    <tr>\n",
       "      <th>1</th>\n",
       "      <td>이대 연어초밥</td>\n",
       "    </tr>\n",
       "    <tr>\n",
       "      <th>2</th>\n",
       "      <td>이대 위샐러듀 이대점</td>\n",
       "    </tr>\n",
       "    <tr>\n",
       "      <th>3</th>\n",
       "      <td>이대 마더린러 베이글</td>\n",
       "    </tr>\n",
       "    <tr>\n",
       "      <th>4</th>\n",
       "      <td>이대 목란</td>\n",
       "    </tr>\n",
       "    <tr>\n",
       "      <th>5</th>\n",
       "      <td>이대 오르랔베이커리</td>\n",
       "    </tr>\n",
       "    <tr>\n",
       "      <th>6</th>\n",
       "      <td>이대 티앙팡 오후의 홍차</td>\n",
       "    </tr>\n",
       "    <tr>\n",
       "      <th>7</th>\n",
       "      <td>이대 비밀</td>\n",
       "    </tr>\n",
       "    <tr>\n",
       "      <th>8</th>\n",
       "      <td>이대 유야케도쿄</td>\n",
       "    </tr>\n",
       "    <tr>\n",
       "      <th>9</th>\n",
       "      <td>이대 사장님돈까스 이화여대점</td>\n",
       "    </tr>\n",
       "    <tr>\n",
       "      <th>10</th>\n",
       "      <td>이대 고냉지</td>\n",
       "    </tr>\n",
       "    <tr>\n",
       "      <th>11</th>\n",
       "      <td>이대 아건</td>\n",
       "    </tr>\n",
       "    <tr>\n",
       "      <th>12</th>\n",
       "      <td>이대 비아37</td>\n",
       "    </tr>\n",
       "    <tr>\n",
       "      <th>13</th>\n",
       "      <td>이대 방콕익스프레스 신촌본점</td>\n",
       "    </tr>\n",
       "    <tr>\n",
       "      <th>14</th>\n",
       "      <td>이대 까이식당</td>\n",
       "    </tr>\n",
       "    <tr>\n",
       "      <th>15</th>\n",
       "      <td>이대 그릭데이 이대본점</td>\n",
       "    </tr>\n",
       "    <tr>\n",
       "      <th>16</th>\n",
       "      <td>이대 원즈오운</td>\n",
       "    </tr>\n",
       "    <tr>\n",
       "      <th>17</th>\n",
       "      <td>이대 쏠페스타 이화여대점</td>\n",
       "    </tr>\n",
       "    <tr>\n",
       "      <th>18</th>\n",
       "      <td>이대 카우떡볶이</td>\n",
       "    </tr>\n",
       "    <tr>\n",
       "      <th>19</th>\n",
       "      <td>이대 삭 수제튀김 전문점</td>\n",
       "    </tr>\n",
       "    <tr>\n",
       "      <th>20</th>\n",
       "      <td>이대 아콘스톨</td>\n",
       "    </tr>\n",
       "    <tr>\n",
       "      <th>21</th>\n",
       "      <td>이대 waffle it up</td>\n",
       "    </tr>\n",
       "    <tr>\n",
       "      <th>22</th>\n",
       "      <td>이대 란주탕슉</td>\n",
       "    </tr>\n",
       "    <tr>\n",
       "      <th>23</th>\n",
       "      <td>이대 진돈부리</td>\n",
       "    </tr>\n",
       "    <tr>\n",
       "      <th>24</th>\n",
       "      <td>이대 에이테이블</td>\n",
       "    </tr>\n",
       "    <tr>\n",
       "      <th>25</th>\n",
       "      <td>이대 조은집</td>\n",
       "    </tr>\n",
       "    <tr>\n",
       "      <th>26</th>\n",
       "      <td>이대 피자클럽</td>\n",
       "    </tr>\n",
       "    <tr>\n",
       "      <th>27</th>\n",
       "      <td>이대 연희동 라이라이 본점</td>\n",
       "    </tr>\n",
       "    <tr>\n",
       "      <th>28</th>\n",
       "      <td>이대 도꼭지</td>\n",
       "    </tr>\n",
       "    <tr>\n",
       "      <th>29</th>\n",
       "      <td>이대 어바웃샤브 이대점</td>\n",
       "    </tr>\n",
       "    <tr>\n",
       "      <th>30</th>\n",
       "      <td>이대 카페페라</td>\n",
       "    </tr>\n",
       "    <tr>\n",
       "      <th>31</th>\n",
       "      <td>이대 희게</td>\n",
       "    </tr>\n",
       "    <tr>\n",
       "      <th>32</th>\n",
       "      <td>이대 파파노다이닝</td>\n",
       "    </tr>\n",
       "    <tr>\n",
       "      <th>33</th>\n",
       "      <td>이대 내사랑</td>\n",
       "    </tr>\n",
       "    <tr>\n",
       "      <th>34</th>\n",
       "      <td>이대 세올</td>\n",
       "    </tr>\n",
       "    <tr>\n",
       "      <th>35</th>\n",
       "      <td>이대 모미지식당</td>\n",
       "    </tr>\n",
       "    <tr>\n",
       "      <th>36</th>\n",
       "      <td>이대 서울호떡 아현점</td>\n",
       "    </tr>\n",
       "    <tr>\n",
       "      <th>37</th>\n",
       "      <td>이대 스탠바이키친</td>\n",
       "    </tr>\n",
       "    <tr>\n",
       "      <th>38</th>\n",
       "      <td>이대 연희동칼국수 본점</td>\n",
       "    </tr>\n",
       "    <tr>\n",
       "      <th>39</th>\n",
       "      <td>이대 공릉닭한마리</td>\n",
       "    </tr>\n",
       "    <tr>\n",
       "      <th>40</th>\n",
       "      <td>이대 미스터서왕만두</td>\n",
       "    </tr>\n",
       "    <tr>\n",
       "      <th>41</th>\n",
       "      <td>이대 탭스터</td>\n",
       "    </tr>\n",
       "    <tr>\n",
       "      <th>42</th>\n",
       "      <td>이대 로드샌드위치</td>\n",
       "    </tr>\n",
       "    <tr>\n",
       "      <th>43</th>\n",
       "      <td>이대 호밀밭</td>\n",
       "    </tr>\n",
       "    <tr>\n",
       "      <th>44</th>\n",
       "      <td>이대 모센즈스위트 이대점</td>\n",
       "    </tr>\n",
       "    <tr>\n",
       "      <th>45</th>\n",
       "      <td>이대 에그 앤드 스푼레이스</td>\n",
       "    </tr>\n",
       "    <tr>\n",
       "      <th>46</th>\n",
       "      <td>이대 밀리네해물잡탕</td>\n",
       "    </tr>\n",
       "    <tr>\n",
       "      <th>47</th>\n",
       "      <td>이대 김광석신촌칼국수 이대직영점</td>\n",
       "    </tr>\n",
       "    <tr>\n",
       "      <th>48</th>\n",
       "      <td>이대 참참참</td>\n",
       "    </tr>\n",
       "    <tr>\n",
       "      <th>49</th>\n",
       "      <td>이대 옥루몽 신촌본점</td>\n",
       "    </tr>\n",
       "  </tbody>\n",
       "</table>\n",
       "</div>"
      ],
      "text/plain": [
       "                 식당이름\n",
       "0             이대 하늘초밥\n",
       "1             이대 연어초밥\n",
       "2         이대 위샐러듀 이대점\n",
       "3         이대 마더린러 베이글\n",
       "4               이대 목란\n",
       "5          이대 오르랔베이커리\n",
       "6       이대 티앙팡 오후의 홍차\n",
       "7               이대 비밀\n",
       "8            이대 유야케도쿄\n",
       "9     이대 사장님돈까스 이화여대점\n",
       "10             이대 고냉지\n",
       "11              이대 아건\n",
       "12            이대 비아37\n",
       "13    이대 방콕익스프레스 신촌본점\n",
       "14            이대 까이식당\n",
       "15       이대 그릭데이 이대본점\n",
       "16            이대 원즈오운\n",
       "17      이대 쏠페스타 이화여대점\n",
       "18           이대 카우떡볶이\n",
       "19      이대 삭 수제튀김 전문점\n",
       "20            이대 아콘스톨\n",
       "21    이대 waffle it up\n",
       "22            이대 란주탕슉\n",
       "23            이대 진돈부리\n",
       "24           이대 에이테이블\n",
       "25             이대 조은집\n",
       "26            이대 피자클럽\n",
       "27     이대 연희동 라이라이 본점\n",
       "28             이대 도꼭지\n",
       "29       이대 어바웃샤브 이대점\n",
       "30            이대 카페페라\n",
       "31              이대 희게\n",
       "32          이대 파파노다이닝\n",
       "33             이대 내사랑\n",
       "34              이대 세올\n",
       "35           이대 모미지식당\n",
       "36        이대 서울호떡 아현점\n",
       "37          이대 스탠바이키친\n",
       "38       이대 연희동칼국수 본점\n",
       "39          이대 공릉닭한마리\n",
       "40         이대 미스터서왕만두\n",
       "41             이대 탭스터\n",
       "42          이대 로드샌드위치\n",
       "43             이대 호밀밭\n",
       "44      이대 모센즈스위트 이대점\n",
       "45     이대 에그 앤드 스푼레이스\n",
       "46         이대 밀리네해물잡탕\n",
       "47  이대 김광석신촌칼국수 이대직영점\n",
       "48             이대 참참참\n",
       "49        이대 옥루몽 신촌본점"
      ]
     },
     "execution_count": 728,
     "metadata": {},
     "output_type": "execute_result"
    }
   ],
   "source": [
    "correct = [] \n",
    "\n",
    "for i in range(len(f_df)):\n",
    "    correct.append(location + \" \" + f_df.iloc[i].식당이름)\n",
    "correct_location = pd.DataFrame (correct, columns = ['식당이름'])\n",
    "correct_location"
   ]
  },
  {
   "cell_type": "code",
   "execution_count": 703,
   "id": "c6d7009c-6c24-4372-871f-a4504d78b52e",
   "metadata": {},
   "outputs": [],
   "source": [
    "# for i in range(0, len(correct)):\n",
    "#     if (location[:-1]+'본점') in correct_location['식당이름'][i]:\n",
    "#         correct_location['식당이름'][i] = correct_location['식당이름'][i][:-len(location[:-1]+'본점')]\n",
    "#     elif (location+'점') in correct_location['식당이름'][i]:\n",
    "#         correct_location['식당이름'][i] = correct_location['식당이름'][i][:-len(location+'점')]\n",
    "#     elif '지점' in correct_location['식당이름'][i]:\n",
    "#         correct_location['식당이름'][i] = correct_location['식당이름'][i][:-4]\n",
    "#     elif '점' in correct_location['식당이름'][i]:\n",
    "#         correct_location['식당이름'][i] = correct_location['식당이름'][i][:-5]"
   ]
  },
  {
   "cell_type": "code",
   "execution_count": 729,
   "id": "29029c3e-3fbf-4c79-bea8-835bf9138232",
   "metadata": {},
   "outputs": [
    {
     "data": {
      "text/plain": [
       "['방콕익스프레스 신촌본점', '37.557169356192', '126.941868300831']"
      ]
     },
     "execution_count": 729,
     "metadata": {},
     "output_type": "execute_result"
    }
   ],
   "source": [
    "# 테스트\n",
    "place_find(correct_location['식당이름'][13])"
   ]
  },
  {
   "cell_type": "markdown",
   "id": "69df1944-0a9e-486c-b3d0-2ce2cf2f7dce",
   "metadata": {},
   "source": [
    "### 위도 경도 받기"
   ]
  },
  {
   "cell_type": "code",
   "execution_count": 774,
   "id": "fbf54de8-5a06-4930-bc58-166e791de879",
   "metadata": {
    "tags": []
   },
   "outputs": [],
   "source": [
    "# 위경도 가져오기\n",
    "food_place_list = []\n",
    "\n",
    "for i in correct_location['식당이름']:\n",
    "    data = place_find(i)\n",
    "    food_place_list.append(data)"
   ]
  },
  {
   "cell_type": "code",
   "execution_count": 775,
   "id": "cf6761f2-7132-44e9-9eb2-88e7641e5a06",
   "metadata": {
    "tags": []
   },
   "outputs": [
    {
     "data": {
      "text/plain": [
       "[['하늘초밥', '37.5573085850893', '126.94669402413'],\n",
       " ['연어초밥', '37.5570648016113', '126.941972390604'],\n",
       " ['위샐러듀 이대점', '37.5594592641306', '126.944732224555']]"
      ]
     },
     "execution_count": 775,
     "metadata": {},
     "output_type": "execute_result"
    }
   ],
   "source": [
    "food_place_list[:3]"
   ]
  },
  {
   "cell_type": "code",
   "execution_count": 776,
   "id": "0fadacea-cdc8-481b-a765-2a961c336542",
   "metadata": {},
   "outputs": [],
   "source": [
    "# None을 []으로 바꾸기\n",
    "for i in range(0, len(food_place_list)):\n",
    "    if food_place_list[i] is None:\n",
    "        food_place_list[i] = []"
   ]
  },
  {
   "cell_type": "code",
   "execution_count": 777,
   "id": "05dbcfa0-c7df-4a5b-9b49-f8b974b1609f",
   "metadata": {
    "tags": []
   },
   "outputs": [
    {
     "data": {
      "text/plain": [
       "[['하늘초밥', '37.5573085850893', '126.94669402413'],\n",
       " ['연어초밥', '37.5570648016113', '126.941972390604'],\n",
       " ['위샐러듀 이대점', '37.5594592641306', '126.944732224555'],\n",
       " ['마더린러베이글', '37.558309895691', '126.945384976896'],\n",
       " ['목란', '37.56838240474039', '126.93047690875805'],\n",
       " ['오르랔베이커리', '37.5574463401982', '126.952816767662'],\n",
       " ['티앙팡 오후에 홍차 1호점', '37.55841652340589', '126.94605943897574'],\n",
       " ['비밀', '37.5585538958815', '126.943116710815'],\n",
       " ['유야케도쿄', '37.5580425967736', '126.944094951109'],\n",
       " [],\n",
       " ['고냉지', '37.5584921906342', '126.942215861247'],\n",
       " ['아건 이대점', '37.55906291657092', '126.94492718486593'],\n",
       " ['비아37', '37.5589904689193', '126.944144041557'],\n",
       " ['방콕익스프레스 신촌본점', '37.557169356192', '126.941868300831'],\n",
       " ['까이식당', '37.55838957093877', '126.94622922509853'],\n",
       " [],\n",
       " ['원즈오운', '37.55773622939119', '126.9459693879222'],\n",
       " [],\n",
       " ['카우떡볶이', '37.5595742224795', '126.943948936902'],\n",
       " [],\n",
       " ['아콘스톨', '37.5583787734025', '126.942437777275'],\n",
       " ['와플잇업 이대2호점', '37.5582476571318', '126.943325190362'],\n",
       " ['란주탕슉', '37.5581661536053', '126.94629502857'],\n",
       " ['진돈부리', '37.5569534052124', '126.942456981822'],\n",
       " ['에이테이블', '37.56539833179252', '126.95230693236766'],\n",
       " ['조은집', '37.568571978666405', '126.93109929511584'],\n",
       " ['피자클럽', '37.5569314394105', '126.943615916743'],\n",
       " [],\n",
       " [],\n",
       " ['어바웃샤브 이대점', '37.5586525369446', '126.945955144903'],\n",
       " ['카페페라 유니크점', '37.5594595570187', '126.94536150187854'],\n",
       " ['희게', '37.568663448725', '126.931908543177'],\n",
       " ['파파노다이닝', '37.5594193347522', '126.944125612718'],\n",
       " ['내사랑', '37.5575181878461', '126.947975032553'],\n",
       " [],\n",
       " ['모미지식당', '37.55883015675004', '126.94428223894934'],\n",
       " ['서울호떡 아현점', '37.55636394407724', '126.95434983605456'],\n",
       " ['스탠바이키친', '37.56456065275251', '126.94461753264709'],\n",
       " ['연희동칼국수 본점', '37.5682239892832', '126.930748718394'],\n",
       " ['공릉닭한마리', '37.55712571563', '126.941076103559'],\n",
       " ['미스터서왕만두', '37.55802773012356', '126.94315106397343'],\n",
       " ['탭스터', '37.5686427225759', '126.93190290238'],\n",
       " ['로드샌드위치', '37.56437676610759', '126.94443996542006'],\n",
       " ['호밀밭', '37.558918423412536', '126.94052464390788'],\n",
       " ['모센즈스위트 이대점', '37.5588018388745', '126.945382354266'],\n",
       " ['에그앤드스푼레이스', '37.557978612048', '126.946000902517'],\n",
       " ['밀리네해물잡탕', '37.5561770571336', '126.946970975817'],\n",
       " ['김광석신촌칼국수 이대직영점', '37.558862329259', '126.940065183752'],\n",
       " ['참참참', '37.5594592726059', '126.944750333255'],\n",
       " ['옥루몽 신촌본점', '37.563383440636', '126.943538615883']]"
      ]
     },
     "execution_count": 777,
     "metadata": {},
     "output_type": "execute_result"
    }
   ],
   "source": [
    "food_place_list"
   ]
  },
  {
   "cell_type": "markdown",
   "id": "98c45b35-cfe9-44b8-8eb9-4fad18496b9e",
   "metadata": {},
   "source": [
    "### 별점이랑 합치기"
   ]
  },
  {
   "cell_type": "code",
   "execution_count": 778,
   "id": "ff640556-3140-4f71-8ae0-52336a6f61a8",
   "metadata": {
    "tags": []
   },
   "outputs": [
    {
     "data": {
      "text/plain": [
       "[['하늘초밥', '37.5573085850893', '126.94669402413', '4.65'],\n",
       " ['연어초밥', '37.5570648016113', '126.941972390604', '4.67'],\n",
       " ['위샐러듀 이대점', '37.5594592641306', '126.944732224555', '4.61']]"
      ]
     },
     "execution_count": 778,
     "metadata": {},
     "output_type": "execute_result"
    }
   ],
   "source": [
    "for i in range(0, len(food_place_list)):\n",
    "    if food_place_list[i] == []:\n",
    "        continue\n",
    "    else:\n",
    "        food_place_list[i].append(f_df.iloc[i].별점)\n",
    "        \n",
    "food_place_list[:3]"
   ]
  },
  {
   "cell_type": "markdown",
   "id": "8c5ef3b1-2694-4cb9-8f09-3b73c58d61b3",
   "metadata": {},
   "source": [
    "### 데이터 프레임 만들기"
   ]
  },
  {
   "cell_type": "code",
   "execution_count": 779,
   "id": "cc7ffe18-5907-4846-8c10-7f20e1b3d13f",
   "metadata": {
    "tags": []
   },
   "outputs": [
    {
     "data": {
      "text/html": [
       "<div>\n",
       "<style scoped>\n",
       "    .dataframe tbody tr th:only-of-type {\n",
       "        vertical-align: middle;\n",
       "    }\n",
       "\n",
       "    .dataframe tbody tr th {\n",
       "        vertical-align: top;\n",
       "    }\n",
       "\n",
       "    .dataframe thead th {\n",
       "        text-align: right;\n",
       "    }\n",
       "</style>\n",
       "<table border=\"1\" class=\"dataframe\">\n",
       "  <thead>\n",
       "    <tr style=\"text-align: right;\">\n",
       "      <th></th>\n",
       "      <th>식당이름</th>\n",
       "      <th>위도</th>\n",
       "      <th>경도</th>\n",
       "      <th>별점</th>\n",
       "      <th>리뷰</th>\n",
       "      <th>리뷰수</th>\n",
       "    </tr>\n",
       "  </thead>\n",
       "  <tbody>\n",
       "    <tr>\n",
       "      <th>0</th>\n",
       "      <td>하늘초밥</td>\n",
       "      <td>37.5573085850893</td>\n",
       "      <td>126.94669402413</td>\n",
       "      <td>4.65</td>\n",
       "      <td>[\"음식이 맛있어요\", \"재료가 신선해요\", \"친절해요\", \"가성비가 좋아요\", \"...</td>\n",
       "      <td>577</td>\n",
       "    </tr>\n",
       "    <tr>\n",
       "      <th>1</th>\n",
       "      <td>연어초밥</td>\n",
       "      <td>37.5570648016113</td>\n",
       "      <td>126.941972390604</td>\n",
       "      <td>4.67</td>\n",
       "      <td>[\"음식이 맛있어요\", \"가성비가 좋아요\", \"친절해요\", \"재료가 신선해요\", \"...</td>\n",
       "      <td>1483</td>\n",
       "    </tr>\n",
       "    <tr>\n",
       "      <th>2</th>\n",
       "      <td>위샐러듀 이대점</td>\n",
       "      <td>37.5594592641306</td>\n",
       "      <td>126.944732224555</td>\n",
       "      <td>4.61</td>\n",
       "      <td>[\"음식이 맛있어요\", \"재료가 신선해요\", \"특별한 메뉴가 있어요\", \"인테리어가...</td>\n",
       "      <td>5802</td>\n",
       "    </tr>\n",
       "  </tbody>\n",
       "</table>\n",
       "</div>"
      ],
      "text/plain": [
       "       식당이름                위도                경도    별점  \\\n",
       "0      하늘초밥  37.5573085850893   126.94669402413  4.65   \n",
       "1      연어초밥  37.5570648016113  126.941972390604  4.67   \n",
       "2  위샐러듀 이대점  37.5594592641306  126.944732224555  4.61   \n",
       "\n",
       "                                                  리뷰   리뷰수  \n",
       "0  [\"음식이 맛있어요\", \"재료가 신선해요\", \"친절해요\", \"가성비가 좋아요\", \"...   577  \n",
       "1  [\"음식이 맛있어요\", \"가성비가 좋아요\", \"친절해요\", \"재료가 신선해요\", \"...  1483  \n",
       "2  [\"음식이 맛있어요\", \"재료가 신선해요\", \"특별한 메뉴가 있어요\", \"인테리어가...  5802  "
      ]
     },
     "execution_count": 779,
     "metadata": {},
     "output_type": "execute_result"
    }
   ],
   "source": [
    "# 복사\n",
    "food_place_list_1 = food_place_list\n",
    "# None 값 삭제\n",
    "food_place_list_1 =  [x for x in food_place_list_1 if x is not None]\n",
    "# 확인\n",
    "food_place_list_1\n",
    "\n",
    "food_place = pd.DataFrame(food_place_list)\n",
    "# 컬럼 명 지정해주기\n",
    "food_place.columns = ['식당이름', '위도', '경도', '별점']\n",
    "food_place['리뷰'] = chunks\n",
    "food_place['리뷰수'] = tot[2:22] + tot[24:]\n",
    "food_place[:3]"
   ]
  },
  {
   "cell_type": "markdown",
   "id": "2e4fb853-455e-4333-aadd-8dbde230ceae",
   "metadata": {
    "tags": []
   },
   "source": [
    "## 링크 따기"
   ]
  },
  {
   "cell_type": "code",
   "execution_count": 780,
   "id": "00fe1f04-9a5a-4ecb-8fca-87c0a35afee0",
   "metadata": {
    "tags": []
   },
   "outputs": [],
   "source": [
    "link = \"https://map.naver.com/\"\n",
    "driver.get(link)"
   ]
  },
  {
   "cell_type": "code",
   "execution_count": 781,
   "id": "1c844ce8-70e7-49c7-8aab-822797480754",
   "metadata": {
    "tags": []
   },
   "outputs": [],
   "source": [
    "xpath = '/html/body/app/layout/div[3]/div[2]/shrinkable-layout/div/app-base/search-input-box/div/div/div/input'\n",
    "search = driver.find_element(By.XPATH, xpath)\n",
    "search.clear()\n",
    "search.send_keys(f'{location} 맛집')\n",
    "search.send_keys(Keys.ENTER)\n",
    "driver.implicitly_wait(10)"
   ]
  },
  {
   "cell_type": "code",
   "execution_count": 782,
   "id": "493fcfd5-3eb5-46bc-8bde-ad1ed0240ffd",
   "metadata": {
    "tags": []
   },
   "outputs": [],
   "source": [
    "driver.switch_to.frame('searchIframe')"
   ]
  },
  {
   "cell_type": "code",
   "execution_count": 783,
   "id": "c4d0c774-1c1c-4e46-a493-83c5cd33c27c",
   "metadata": {
    "tags": []
   },
   "outputs": [],
   "source": [
    "import datetime\n",
    "import time\n",
    "\n",
    "def doScrollDown(whileSeconds):\n",
    "    start = datetime.datetime.now()\n",
    "    end = start + datetime.timedelta(seconds=whileSeconds)\n",
    "    while True:\n",
    "        scroll = driver.find_element(By.XPATH, '/html/body/div[3]/div/div[2]/div[1]')\n",
    "        driver.execute_script(\"arguments[0].scrollTop = arguments[0].scrollHeight\", scroll)\n",
    "        time.sleep(1)\n",
    "        if datetime.datetime.now() > end:\n",
    "            break"
   ]
  },
  {
   "cell_type": "code",
   "execution_count": 784,
   "id": "0eea2513-f805-4a79-9c1c-9093f3b1ee46",
   "metadata": {
    "tags": []
   },
   "outputs": [],
   "source": [
    "doScrollDown(5)"
   ]
  },
  {
   "cell_type": "code",
   "execution_count": 785,
   "id": "4e6409e4-1f97-4429-b7cb-cea515ca3559",
   "metadata": {
    "tags": []
   },
   "outputs": [],
   "source": [
    "url = driver.current_url\n",
    "resp = requests.get(url)\n",
    "\n",
    "e = driver.find_elements(By.CLASS_NAME, 'place_bluelink.TYaxT')\n",
    "\n",
    "c = []\n",
    "for i in range(2, 22):\n",
    "    e[i].click()\n",
    "    url = driver.current_url\n",
    "    c.append(url)\n",
    "    \n",
    "d = []\n",
    "for i in range(24, 54):\n",
    "    e[i].click()\n",
    "    url = driver.current_url\n",
    "    d.append(url)"
   ]
  },
  {
   "cell_type": "code",
   "execution_count": 786,
   "id": "d1647378-3a61-4c00-bcb7-508448c9aa66",
   "metadata": {},
   "outputs": [],
   "source": [
    "x = c+d"
   ]
  },
  {
   "cell_type": "code",
   "execution_count": 787,
   "id": "48693ad1-12de-47a8-8c37-8edc901e2de6",
   "metadata": {},
   "outputs": [
    {
     "data": {
      "text/plain": [
       "50"
      ]
     },
     "execution_count": 787,
     "metadata": {},
     "output_type": "execute_result"
    }
   ],
   "source": [
    "len(x)"
   ]
  },
  {
   "cell_type": "code",
   "execution_count": 720,
   "id": "8b344dab-93fd-4dc3-bbc5-407a6e3f1ed2",
   "metadata": {},
   "outputs": [],
   "source": [
    "# driver.close()"
   ]
  },
  {
   "cell_type": "code",
   "execution_count": 788,
   "id": "93b13f62-cc97-4be9-a4b4-ae6bda208aaa",
   "metadata": {},
   "outputs": [],
   "source": [
    "food_place['link'] = x"
   ]
  },
  {
   "cell_type": "code",
   "execution_count": 789,
   "id": "d4ba2405-3329-4928-ba16-3cc5c9d87a8d",
   "metadata": {
    "tags": []
   },
   "outputs": [
    {
     "data": {
      "text/html": [
       "<div>\n",
       "<style scoped>\n",
       "    .dataframe tbody tr th:only-of-type {\n",
       "        vertical-align: middle;\n",
       "    }\n",
       "\n",
       "    .dataframe tbody tr th {\n",
       "        vertical-align: top;\n",
       "    }\n",
       "\n",
       "    .dataframe thead th {\n",
       "        text-align: right;\n",
       "    }\n",
       "</style>\n",
       "<table border=\"1\" class=\"dataframe\">\n",
       "  <thead>\n",
       "    <tr style=\"text-align: right;\">\n",
       "      <th></th>\n",
       "      <th>식당이름</th>\n",
       "      <th>위도</th>\n",
       "      <th>경도</th>\n",
       "      <th>별점</th>\n",
       "      <th>리뷰</th>\n",
       "      <th>리뷰수</th>\n",
       "      <th>link</th>\n",
       "    </tr>\n",
       "  </thead>\n",
       "  <tbody>\n",
       "    <tr>\n",
       "      <th>0</th>\n",
       "      <td>하늘초밥</td>\n",
       "      <td>37.5573085850893</td>\n",
       "      <td>126.94669402413</td>\n",
       "      <td>4.65</td>\n",
       "      <td>[\"음식이 맛있어요\", \"재료가 신선해요\", \"친절해요\", \"가성비가 좋아요\", \"...</td>\n",
       "      <td>577</td>\n",
       "      <td>https://map.naver.com/v5/search/%EC%9D%B4%EB%8...</td>\n",
       "    </tr>\n",
       "    <tr>\n",
       "      <th>1</th>\n",
       "      <td>연어초밥</td>\n",
       "      <td>37.5570648016113</td>\n",
       "      <td>126.941972390604</td>\n",
       "      <td>4.67</td>\n",
       "      <td>[\"음식이 맛있어요\", \"가성비가 좋아요\", \"친절해요\", \"재료가 신선해요\", \"...</td>\n",
       "      <td>1483</td>\n",
       "      <td>https://map.naver.com/v5/search/%EC%9D%B4%EB%8...</td>\n",
       "    </tr>\n",
       "    <tr>\n",
       "      <th>2</th>\n",
       "      <td>위샐러듀 이대점</td>\n",
       "      <td>37.5594592641306</td>\n",
       "      <td>126.944732224555</td>\n",
       "      <td>4.61</td>\n",
       "      <td>[\"음식이 맛있어요\", \"재료가 신선해요\", \"특별한 메뉴가 있어요\", \"인테리어가...</td>\n",
       "      <td>5802</td>\n",
       "      <td>https://map.naver.com/v5/search/%EC%9D%B4%EB%8...</td>\n",
       "    </tr>\n",
       "  </tbody>\n",
       "</table>\n",
       "</div>"
      ],
      "text/plain": [
       "       식당이름                위도                경도    별점  \\\n",
       "0      하늘초밥  37.5573085850893   126.94669402413  4.65   \n",
       "1      연어초밥  37.5570648016113  126.941972390604  4.67   \n",
       "2  위샐러듀 이대점  37.5594592641306  126.944732224555  4.61   \n",
       "\n",
       "                                                  리뷰   리뷰수  \\\n",
       "0  [\"음식이 맛있어요\", \"재료가 신선해요\", \"친절해요\", \"가성비가 좋아요\", \"...   577   \n",
       "1  [\"음식이 맛있어요\", \"가성비가 좋아요\", \"친절해요\", \"재료가 신선해요\", \"...  1483   \n",
       "2  [\"음식이 맛있어요\", \"재료가 신선해요\", \"특별한 메뉴가 있어요\", \"인테리어가...  5802   \n",
       "\n",
       "                                                link  \n",
       "0  https://map.naver.com/v5/search/%EC%9D%B4%EB%8...  \n",
       "1  https://map.naver.com/v5/search/%EC%9D%B4%EB%8...  \n",
       "2  https://map.naver.com/v5/search/%EC%9D%B4%EB%8...  "
      ]
     },
     "execution_count": 789,
     "metadata": {},
     "output_type": "execute_result"
    }
   ],
   "source": [
    "food_place[:3]"
   ]
  },
  {
   "cell_type": "markdown",
   "id": "769680d4-5570-4367-9da9-d4720161d408",
   "metadata": {},
   "source": [
    "## None값 없애기"
   ]
  },
  {
   "cell_type": "code",
   "execution_count": 790,
   "id": "5a656c63-9d11-4bea-bc7a-b11036966b90",
   "metadata": {
    "tags": []
   },
   "outputs": [
    {
     "data": {
      "text/plain": [
       "식당이름    0\n",
       "위도      0\n",
       "경도      0\n",
       "별점      0\n",
       "리뷰      0\n",
       "리뷰수     0\n",
       "link    0\n",
       "dtype: int64"
      ]
     },
     "execution_count": 790,
     "metadata": {},
     "output_type": "execute_result"
    }
   ],
   "source": [
    "food_place.dropna(inplace=True)\n",
    "food_place.reset_index(drop=True, inplace=True)\n",
    "food_place.isnull().sum()"
   ]
  },
  {
   "cell_type": "markdown",
   "id": "cd162bd3-280b-4719-96e3-5e5f2158f514",
   "metadata": {
    "tags": []
   },
   "source": [
    "## 별점 탑10"
   ]
  },
  {
   "cell_type": "code",
   "execution_count": 791,
   "id": "0741ed23-032d-4178-8095-dbde713480fb",
   "metadata": {
    "tags": []
   },
   "outputs": [
    {
     "data": {
      "text/html": [
       "<div>\n",
       "<style scoped>\n",
       "    .dataframe tbody tr th:only-of-type {\n",
       "        vertical-align: middle;\n",
       "    }\n",
       "\n",
       "    .dataframe tbody tr th {\n",
       "        vertical-align: top;\n",
       "    }\n",
       "\n",
       "    .dataframe thead th {\n",
       "        text-align: right;\n",
       "    }\n",
       "</style>\n",
       "<table border=\"1\" class=\"dataframe\">\n",
       "  <thead>\n",
       "    <tr style=\"text-align: right;\">\n",
       "      <th></th>\n",
       "      <th>식당이름</th>\n",
       "      <th>위도</th>\n",
       "      <th>경도</th>\n",
       "      <th>별점</th>\n",
       "      <th>리뷰</th>\n",
       "      <th>리뷰수</th>\n",
       "      <th>link</th>\n",
       "    </tr>\n",
       "  </thead>\n",
       "  <tbody>\n",
       "    <tr>\n",
       "      <th>0</th>\n",
       "      <td>진돈부리</td>\n",
       "      <td>37.5569534052124</td>\n",
       "      <td>126.942456981822</td>\n",
       "      <td>4.84</td>\n",
       "      <td>[\"음식이 맛있어요\", \"친절해요\", \"가성비가 좋아요\", \"재료가 신선해요\", \"...</td>\n",
       "      <td>282</td>\n",
       "      <td>https://map.naver.com/v5/search/%EC%9D%B4%EB%8...</td>\n",
       "    </tr>\n",
       "    <tr>\n",
       "      <th>1</th>\n",
       "      <td>탭스터</td>\n",
       "      <td>37.5686427225759</td>\n",
       "      <td>126.93190290238</td>\n",
       "      <td>4.83</td>\n",
       "      <td>[\"음식이 맛있어요\", \"술이 다양해요\", \"친절해요\", \"특별한 메뉴가 있어요\",...</td>\n",
       "      <td>291</td>\n",
       "      <td>https://map.naver.com/v5/search/%EC%9D%B4%EB%8...</td>\n",
       "    </tr>\n",
       "    <tr>\n",
       "      <th>2</th>\n",
       "      <td>아건 이대점</td>\n",
       "      <td>37.55906291657092</td>\n",
       "      <td>126.94492718486593</td>\n",
       "      <td>4.82</td>\n",
       "      <td>[\"음식이 맛있어요\", \"친절해요\", \"특별한 메뉴가 있어요\", \"가성비가 좋아요\"...</td>\n",
       "      <td>2139</td>\n",
       "      <td>https://map.naver.com/v5/search/%EC%9D%B4%EB%8...</td>\n",
       "    </tr>\n",
       "  </tbody>\n",
       "</table>\n",
       "</div>"
      ],
      "text/plain": [
       "     식당이름                 위도                  경도    별점  \\\n",
       "0    진돈부리   37.5569534052124    126.942456981822  4.84   \n",
       "1     탭스터   37.5686427225759     126.93190290238  4.83   \n",
       "2  아건 이대점  37.55906291657092  126.94492718486593  4.82   \n",
       "\n",
       "                                                  리뷰   리뷰수  \\\n",
       "0  [\"음식이 맛있어요\", \"친절해요\", \"가성비가 좋아요\", \"재료가 신선해요\", \"...   282   \n",
       "1  [\"음식이 맛있어요\", \"술이 다양해요\", \"친절해요\", \"특별한 메뉴가 있어요\",...   291   \n",
       "2  [\"음식이 맛있어요\", \"친절해요\", \"특별한 메뉴가 있어요\", \"가성비가 좋아요\"...  2139   \n",
       "\n",
       "                                                link  \n",
       "0  https://map.naver.com/v5/search/%EC%9D%B4%EB%8...  \n",
       "1  https://map.naver.com/v5/search/%EC%9D%B4%EB%8...  \n",
       "2  https://map.naver.com/v5/search/%EC%9D%B4%EB%8...  "
      ]
     },
     "execution_count": 791,
     "metadata": {},
     "output_type": "execute_result"
    }
   ],
   "source": [
    "food_place.sort_values(by=['별점'], ascending=False, inplace=True)\n",
    "food_place.reset_index(drop=True, inplace=True)\n",
    "food_place[:3]"
   ]
  },
  {
   "cell_type": "code",
   "execution_count": 792,
   "id": "97e65133-d259-491b-84c7-c67febe4691a",
   "metadata": {
    "tags": []
   },
   "outputs": [
    {
     "data": {
      "text/html": [
       "<div>\n",
       "<style scoped>\n",
       "    .dataframe tbody tr th:only-of-type {\n",
       "        vertical-align: middle;\n",
       "    }\n",
       "\n",
       "    .dataframe tbody tr th {\n",
       "        vertical-align: top;\n",
       "    }\n",
       "\n",
       "    .dataframe thead th {\n",
       "        text-align: right;\n",
       "    }\n",
       "</style>\n",
       "<table border=\"1\" class=\"dataframe\">\n",
       "  <thead>\n",
       "    <tr style=\"text-align: right;\">\n",
       "      <th></th>\n",
       "      <th>식당이름</th>\n",
       "      <th>위도</th>\n",
       "      <th>경도</th>\n",
       "      <th>별점</th>\n",
       "      <th>리뷰</th>\n",
       "      <th>리뷰수</th>\n",
       "      <th>link</th>\n",
       "    </tr>\n",
       "  </thead>\n",
       "  <tbody>\n",
       "    <tr>\n",
       "      <th>0</th>\n",
       "      <td>진돈부리</td>\n",
       "      <td>37.5569534052124</td>\n",
       "      <td>126.942456981822</td>\n",
       "      <td>4.84</td>\n",
       "      <td>[\"음식이 맛있어요\", \"친절해요\", \"가성비가 좋아요\", \"재료가 신선해요\", \"...</td>\n",
       "      <td>282</td>\n",
       "      <td>https://map.naver.com/v5/search/%EC%9D%B4%EB%8...</td>\n",
       "    </tr>\n",
       "    <tr>\n",
       "      <th>1</th>\n",
       "      <td>탭스터</td>\n",
       "      <td>37.5686427225759</td>\n",
       "      <td>126.93190290238</td>\n",
       "      <td>4.83</td>\n",
       "      <td>[\"음식이 맛있어요\", \"술이 다양해요\", \"친절해요\", \"특별한 메뉴가 있어요\",...</td>\n",
       "      <td>291</td>\n",
       "      <td>https://map.naver.com/v5/search/%EC%9D%B4%EB%8...</td>\n",
       "    </tr>\n",
       "    <tr>\n",
       "      <th>2</th>\n",
       "      <td>아건 이대점</td>\n",
       "      <td>37.55906291657092</td>\n",
       "      <td>126.94492718486593</td>\n",
       "      <td>4.82</td>\n",
       "      <td>[\"음식이 맛있어요\", \"친절해요\", \"특별한 메뉴가 있어요\", \"가성비가 좋아요\"...</td>\n",
       "      <td>2139</td>\n",
       "      <td>https://map.naver.com/v5/search/%EC%9D%B4%EB%8...</td>\n",
       "    </tr>\n",
       "    <tr>\n",
       "      <th>3</th>\n",
       "      <td>모미지식당</td>\n",
       "      <td>37.55883015675004</td>\n",
       "      <td>126.94428223894934</td>\n",
       "      <td>4.74</td>\n",
       "      <td>[\"음식이 맛있어요\", \"친절해요\", \"특별한 메뉴가 있어요\", \"혼밥하기 좋아요\"...</td>\n",
       "      <td>529</td>\n",
       "      <td>https://map.naver.com/v5/search/%EC%9D%B4%EB%8...</td>\n",
       "    </tr>\n",
       "    <tr>\n",
       "      <th>4</th>\n",
       "      <td>비아37</td>\n",
       "      <td>37.5589904689193</td>\n",
       "      <td>126.944144041557</td>\n",
       "      <td>4.67</td>\n",
       "      <td>[\"음식이 맛있어요\", \"인테리어가 멋져요\", \"친절해요\", \"특별한 메뉴가 있어요...</td>\n",
       "      <td>901</td>\n",
       "      <td>https://map.naver.com/v5/search/%EC%9D%B4%EB%8...</td>\n",
       "    </tr>\n",
       "    <tr>\n",
       "      <th>5</th>\n",
       "      <td>연어초밥</td>\n",
       "      <td>37.5570648016113</td>\n",
       "      <td>126.941972390604</td>\n",
       "      <td>4.67</td>\n",
       "      <td>[\"음식이 맛있어요\", \"가성비가 좋아요\", \"친절해요\", \"재료가 신선해요\", \"...</td>\n",
       "      <td>1483</td>\n",
       "      <td>https://map.naver.com/v5/search/%EC%9D%B4%EB%8...</td>\n",
       "    </tr>\n",
       "    <tr>\n",
       "      <th>6</th>\n",
       "      <td>희게</td>\n",
       "      <td>37.568663448725</td>\n",
       "      <td>126.931908543177</td>\n",
       "      <td>4.66</td>\n",
       "      <td>[\"음식이 맛있어요\", \"친절해요\", \"인테리어가 멋져요\", \"재료가 신선해요\", ...</td>\n",
       "      <td>562</td>\n",
       "      <td>https://map.naver.com/v5/search/%EC%9D%B4%EB%8...</td>\n",
       "    </tr>\n",
       "    <tr>\n",
       "      <th>7</th>\n",
       "      <td>하늘초밥</td>\n",
       "      <td>37.5573085850893</td>\n",
       "      <td>126.94669402413</td>\n",
       "      <td>4.65</td>\n",
       "      <td>[\"음식이 맛있어요\", \"재료가 신선해요\", \"친절해요\", \"가성비가 좋아요\", \"...</td>\n",
       "      <td>577</td>\n",
       "      <td>https://map.naver.com/v5/search/%EC%9D%B4%EB%8...</td>\n",
       "    </tr>\n",
       "    <tr>\n",
       "      <th>8</th>\n",
       "      <td>와플잇업 이대2호점</td>\n",
       "      <td>37.5582476571318</td>\n",
       "      <td>126.943325190362</td>\n",
       "      <td>4.63</td>\n",
       "      <td>[\"디저트가 맛있어요\", \"커피가 맛있어요\", \"인테리어가 멋져요\", \"친절해요\",...</td>\n",
       "      <td>1167</td>\n",
       "      <td>https://map.naver.com/v5/search/%EC%9D%B4%EB%8...</td>\n",
       "    </tr>\n",
       "    <tr>\n",
       "      <th>9</th>\n",
       "      <td>호밀밭</td>\n",
       "      <td>37.558918423412536</td>\n",
       "      <td>126.94052464390788</td>\n",
       "      <td>4.62</td>\n",
       "      <td>[\"디저트가 맛있어요\", \"특별한 메뉴가 있어요\", \"가성비가 좋아요\", \"친절해요...</td>\n",
       "      <td>1962</td>\n",
       "      <td>https://map.naver.com/v5/search/%EC%9D%B4%EB%8...</td>\n",
       "    </tr>\n",
       "  </tbody>\n",
       "</table>\n",
       "</div>"
      ],
      "text/plain": [
       "         식당이름                  위도                  경도    별점  \\\n",
       "0        진돈부리    37.5569534052124    126.942456981822  4.84   \n",
       "1         탭스터    37.5686427225759     126.93190290238  4.83   \n",
       "2      아건 이대점   37.55906291657092  126.94492718486593  4.82   \n",
       "3       모미지식당   37.55883015675004  126.94428223894934  4.74   \n",
       "4        비아37    37.5589904689193    126.944144041557  4.67   \n",
       "5        연어초밥    37.5570648016113    126.941972390604  4.67   \n",
       "6          희게     37.568663448725    126.931908543177  4.66   \n",
       "7        하늘초밥    37.5573085850893     126.94669402413  4.65   \n",
       "8  와플잇업 이대2호점    37.5582476571318    126.943325190362  4.63   \n",
       "9         호밀밭  37.558918423412536  126.94052464390788  4.62   \n",
       "\n",
       "                                                  리뷰   리뷰수  \\\n",
       "0  [\"음식이 맛있어요\", \"친절해요\", \"가성비가 좋아요\", \"재료가 신선해요\", \"...   282   \n",
       "1  [\"음식이 맛있어요\", \"술이 다양해요\", \"친절해요\", \"특별한 메뉴가 있어요\",...   291   \n",
       "2  [\"음식이 맛있어요\", \"친절해요\", \"특별한 메뉴가 있어요\", \"가성비가 좋아요\"...  2139   \n",
       "3  [\"음식이 맛있어요\", \"친절해요\", \"특별한 메뉴가 있어요\", \"혼밥하기 좋아요\"...   529   \n",
       "4  [\"음식이 맛있어요\", \"인테리어가 멋져요\", \"친절해요\", \"특별한 메뉴가 있어요...   901   \n",
       "5  [\"음식이 맛있어요\", \"가성비가 좋아요\", \"친절해요\", \"재료가 신선해요\", \"...  1483   \n",
       "6  [\"음식이 맛있어요\", \"친절해요\", \"인테리어가 멋져요\", \"재료가 신선해요\", ...   562   \n",
       "7  [\"음식이 맛있어요\", \"재료가 신선해요\", \"친절해요\", \"가성비가 좋아요\", \"...   577   \n",
       "8  [\"디저트가 맛있어요\", \"커피가 맛있어요\", \"인테리어가 멋져요\", \"친절해요\",...  1167   \n",
       "9  [\"디저트가 맛있어요\", \"특별한 메뉴가 있어요\", \"가성비가 좋아요\", \"친절해요...  1962   \n",
       "\n",
       "                                                link  \n",
       "0  https://map.naver.com/v5/search/%EC%9D%B4%EB%8...  \n",
       "1  https://map.naver.com/v5/search/%EC%9D%B4%EB%8...  \n",
       "2  https://map.naver.com/v5/search/%EC%9D%B4%EB%8...  \n",
       "3  https://map.naver.com/v5/search/%EC%9D%B4%EB%8...  \n",
       "4  https://map.naver.com/v5/search/%EC%9D%B4%EB%8...  \n",
       "5  https://map.naver.com/v5/search/%EC%9D%B4%EB%8...  \n",
       "6  https://map.naver.com/v5/search/%EC%9D%B4%EB%8...  \n",
       "7  https://map.naver.com/v5/search/%EC%9D%B4%EB%8...  \n",
       "8  https://map.naver.com/v5/search/%EC%9D%B4%EB%8...  \n",
       "9  https://map.naver.com/v5/search/%EC%9D%B4%EB%8...  "
      ]
     },
     "execution_count": 792,
     "metadata": {},
     "output_type": "execute_result"
    }
   ],
   "source": [
    "upper = food_place.iloc[:10, :]\n",
    "upper"
   ]
  },
  {
   "cell_type": "markdown",
   "id": "0a6624b5-ef37-46b7-918d-bbbfa847305e",
   "metadata": {
    "tags": []
   },
   "source": [
    "## 리뷰수 탑10"
   ]
  },
  {
   "cell_type": "code",
   "execution_count": 793,
   "id": "3f83bf70-e814-4b07-99b1-ca6acae34a22",
   "metadata": {
    "tags": []
   },
   "outputs": [
    {
     "data": {
      "text/html": [
       "<div>\n",
       "<style scoped>\n",
       "    .dataframe tbody tr th:only-of-type {\n",
       "        vertical-align: middle;\n",
       "    }\n",
       "\n",
       "    .dataframe tbody tr th {\n",
       "        vertical-align: top;\n",
       "    }\n",
       "\n",
       "    .dataframe thead th {\n",
       "        text-align: right;\n",
       "    }\n",
       "</style>\n",
       "<table border=\"1\" class=\"dataframe\">\n",
       "  <thead>\n",
       "    <tr style=\"text-align: right;\">\n",
       "      <th></th>\n",
       "      <th>식당이름</th>\n",
       "      <th>위도</th>\n",
       "      <th>경도</th>\n",
       "      <th>별점</th>\n",
       "      <th>리뷰</th>\n",
       "      <th>리뷰수</th>\n",
       "      <th>link</th>\n",
       "    </tr>\n",
       "  </thead>\n",
       "  <tbody>\n",
       "    <tr>\n",
       "      <th>0</th>\n",
       "      <td>위샐러듀 이대점</td>\n",
       "      <td>37.5594592641306</td>\n",
       "      <td>126.944732224555</td>\n",
       "      <td>4.61</td>\n",
       "      <td>[\"음식이 맛있어요\", \"재료가 신선해요\", \"특별한 메뉴가 있어요\", \"인테리어가...</td>\n",
       "      <td>5802</td>\n",
       "      <td>https://map.naver.com/v5/search/%EC%9D%B4%EB%8...</td>\n",
       "    </tr>\n",
       "    <tr>\n",
       "      <th>1</th>\n",
       "      <td>연희동칼국수 본점</td>\n",
       "      <td>37.5682239892832</td>\n",
       "      <td>126.930748718394</td>\n",
       "      <td>4.32</td>\n",
       "      <td>[\"음식이 맛있어요\", \"주차하기 편해요\", \"친절해요\", \"양이 많아요\", \"재료...</td>\n",
       "      <td>3935</td>\n",
       "      <td>https://map.naver.com/v5/search/%EC%9D%B4%EB%8...</td>\n",
       "    </tr>\n",
       "    <tr>\n",
       "      <th>2</th>\n",
       "      <td>마더린러베이글</td>\n",
       "      <td>37.558309895691</td>\n",
       "      <td>126.945384976896</td>\n",
       "      <td>0</td>\n",
       "      <td>[\"빵이 맛있어요\", \"특별한 메뉴가 있어요\", \"친절해요\", \"매장이 청결해요\",...</td>\n",
       "      <td>2231</td>\n",
       "      <td>https://map.naver.com/v5/search/%EC%9D%B4%EB%8...</td>\n",
       "    </tr>\n",
       "  </tbody>\n",
       "</table>\n",
       "</div>"
      ],
      "text/plain": [
       "        식당이름                위도                경도    별점  \\\n",
       "0   위샐러듀 이대점  37.5594592641306  126.944732224555  4.61   \n",
       "1  연희동칼국수 본점  37.5682239892832  126.930748718394  4.32   \n",
       "2    마더린러베이글   37.558309895691  126.945384976896     0   \n",
       "\n",
       "                                                  리뷰   리뷰수  \\\n",
       "0  [\"음식이 맛있어요\", \"재료가 신선해요\", \"특별한 메뉴가 있어요\", \"인테리어가...  5802   \n",
       "1  [\"음식이 맛있어요\", \"주차하기 편해요\", \"친절해요\", \"양이 많아요\", \"재료...  3935   \n",
       "2  [\"빵이 맛있어요\", \"특별한 메뉴가 있어요\", \"친절해요\", \"매장이 청결해요\",...  2231   \n",
       "\n",
       "                                                link  \n",
       "0  https://map.naver.com/v5/search/%EC%9D%B4%EB%8...  \n",
       "1  https://map.naver.com/v5/search/%EC%9D%B4%EB%8...  \n",
       "2  https://map.naver.com/v5/search/%EC%9D%B4%EB%8...  "
      ]
     },
     "execution_count": 793,
     "metadata": {},
     "output_type": "execute_result"
    }
   ],
   "source": [
    "food_place.sort_values(by=['리뷰수'], ascending=False, inplace=True)\n",
    "food_place.reset_index(drop=True, inplace=True)\n",
    "food_place[:3]"
   ]
  },
  {
   "cell_type": "code",
   "execution_count": 794,
   "id": "61c23a6b-cd6f-4862-b6ac-a8884cc2b619",
   "metadata": {
    "tags": []
   },
   "outputs": [
    {
     "data": {
      "text/html": [
       "<div>\n",
       "<style scoped>\n",
       "    .dataframe tbody tr th:only-of-type {\n",
       "        vertical-align: middle;\n",
       "    }\n",
       "\n",
       "    .dataframe tbody tr th {\n",
       "        vertical-align: top;\n",
       "    }\n",
       "\n",
       "    .dataframe thead th {\n",
       "        text-align: right;\n",
       "    }\n",
       "</style>\n",
       "<table border=\"1\" class=\"dataframe\">\n",
       "  <thead>\n",
       "    <tr style=\"text-align: right;\">\n",
       "      <th></th>\n",
       "      <th>식당이름</th>\n",
       "      <th>위도</th>\n",
       "      <th>경도</th>\n",
       "      <th>별점</th>\n",
       "      <th>리뷰</th>\n",
       "      <th>리뷰수</th>\n",
       "      <th>link</th>\n",
       "    </tr>\n",
       "  </thead>\n",
       "  <tbody>\n",
       "    <tr>\n",
       "      <th>0</th>\n",
       "      <td>위샐러듀 이대점</td>\n",
       "      <td>37.5594592641306</td>\n",
       "      <td>126.944732224555</td>\n",
       "      <td>4.61</td>\n",
       "      <td>[\"음식이 맛있어요\", \"재료가 신선해요\", \"특별한 메뉴가 있어요\", \"인테리어가...</td>\n",
       "      <td>5802</td>\n",
       "      <td>https://map.naver.com/v5/search/%EC%9D%B4%EB%8...</td>\n",
       "    </tr>\n",
       "    <tr>\n",
       "      <th>1</th>\n",
       "      <td>연희동칼국수 본점</td>\n",
       "      <td>37.5682239892832</td>\n",
       "      <td>126.930748718394</td>\n",
       "      <td>4.32</td>\n",
       "      <td>[\"음식이 맛있어요\", \"주차하기 편해요\", \"친절해요\", \"양이 많아요\", \"재료...</td>\n",
       "      <td>3935</td>\n",
       "      <td>https://map.naver.com/v5/search/%EC%9D%B4%EB%8...</td>\n",
       "    </tr>\n",
       "    <tr>\n",
       "      <th>2</th>\n",
       "      <td>마더린러베이글</td>\n",
       "      <td>37.558309895691</td>\n",
       "      <td>126.945384976896</td>\n",
       "      <td>0</td>\n",
       "      <td>[\"빵이 맛있어요\", \"특별한 메뉴가 있어요\", \"친절해요\", \"매장이 청결해요\",...</td>\n",
       "      <td>2231</td>\n",
       "      <td>https://map.naver.com/v5/search/%EC%9D%B4%EB%8...</td>\n",
       "    </tr>\n",
       "    <tr>\n",
       "      <th>3</th>\n",
       "      <td>아건 이대점</td>\n",
       "      <td>37.55906291657092</td>\n",
       "      <td>126.94492718486593</td>\n",
       "      <td>4.82</td>\n",
       "      <td>[\"음식이 맛있어요\", \"친절해요\", \"특별한 메뉴가 있어요\", \"가성비가 좋아요\"...</td>\n",
       "      <td>2139</td>\n",
       "      <td>https://map.naver.com/v5/search/%EC%9D%B4%EB%8...</td>\n",
       "    </tr>\n",
       "    <tr>\n",
       "      <th>4</th>\n",
       "      <td>목란</td>\n",
       "      <td>37.56838240474039</td>\n",
       "      <td>126.93047690875805</td>\n",
       "      <td>0</td>\n",
       "      <td>[\"음식이 맛있어요\", \"친절해요\", \"특별한 메뉴가 있어요\", \"재료가 신선해요\"...</td>\n",
       "      <td>2103</td>\n",
       "      <td>https://map.naver.com/v5/search/%EC%9D%B4%EB%8...</td>\n",
       "    </tr>\n",
       "    <tr>\n",
       "      <th>5</th>\n",
       "      <td>호밀밭</td>\n",
       "      <td>37.558918423412536</td>\n",
       "      <td>126.94052464390788</td>\n",
       "      <td>4.62</td>\n",
       "      <td>[\"디저트가 맛있어요\", \"특별한 메뉴가 있어요\", \"가성비가 좋아요\", \"친절해요...</td>\n",
       "      <td>1962</td>\n",
       "      <td>https://map.naver.com/v5/search/%EC%9D%B4%EB%8...</td>\n",
       "    </tr>\n",
       "    <tr>\n",
       "      <th>6</th>\n",
       "      <td>비밀</td>\n",
       "      <td>37.5585538958815</td>\n",
       "      <td>126.943116710815</td>\n",
       "      <td>4.41</td>\n",
       "      <td>[\"빵이 맛있어요\", \"특별한 메뉴가 있어요\", \"친절해요\", \"매장이 청결해요\",...</td>\n",
       "      <td>1617</td>\n",
       "      <td>https://map.naver.com/v5/search/%EC%9D%B4%EB%8...</td>\n",
       "    </tr>\n",
       "    <tr>\n",
       "      <th>7</th>\n",
       "      <td>란주탕슉</td>\n",
       "      <td>37.5581661536053</td>\n",
       "      <td>126.94629502857</td>\n",
       "      <td>4.41</td>\n",
       "      <td>[\"음식이 맛있어요\", \"특별한 메뉴가 있어요\", \"양이 많아요\", \"친절해요\", ...</td>\n",
       "      <td>1519</td>\n",
       "      <td>https://map.naver.com/v5/search/%EC%9D%B4%EB%8...</td>\n",
       "    </tr>\n",
       "    <tr>\n",
       "      <th>8</th>\n",
       "      <td>방콕익스프레스 신촌본점</td>\n",
       "      <td>37.557169356192</td>\n",
       "      <td>126.941868300831</td>\n",
       "      <td>4.36</td>\n",
       "      <td>[\"음식이 맛있어요\", \"양이 많아요\", \"가성비가 좋아요\", \"특별한 메뉴가 있어...</td>\n",
       "      <td>1509</td>\n",
       "      <td>https://map.naver.com/v5/search/%EC%9D%B4%EB%8...</td>\n",
       "    </tr>\n",
       "    <tr>\n",
       "      <th>9</th>\n",
       "      <td>연어초밥</td>\n",
       "      <td>37.5570648016113</td>\n",
       "      <td>126.941972390604</td>\n",
       "      <td>4.67</td>\n",
       "      <td>[\"음식이 맛있어요\", \"가성비가 좋아요\", \"친절해요\", \"재료가 신선해요\", \"...</td>\n",
       "      <td>1483</td>\n",
       "      <td>https://map.naver.com/v5/search/%EC%9D%B4%EB%8...</td>\n",
       "    </tr>\n",
       "  </tbody>\n",
       "</table>\n",
       "</div>"
      ],
      "text/plain": [
       "           식당이름                  위도                  경도    별점  \\\n",
       "0      위샐러듀 이대점    37.5594592641306    126.944732224555  4.61   \n",
       "1     연희동칼국수 본점    37.5682239892832    126.930748718394  4.32   \n",
       "2       마더린러베이글     37.558309895691    126.945384976896     0   \n",
       "3        아건 이대점   37.55906291657092  126.94492718486593  4.82   \n",
       "4            목란   37.56838240474039  126.93047690875805     0   \n",
       "5           호밀밭  37.558918423412536  126.94052464390788  4.62   \n",
       "6            비밀    37.5585538958815    126.943116710815  4.41   \n",
       "7          란주탕슉    37.5581661536053     126.94629502857  4.41   \n",
       "8  방콕익스프레스 신촌본점     37.557169356192    126.941868300831  4.36   \n",
       "9          연어초밥    37.5570648016113    126.941972390604  4.67   \n",
       "\n",
       "                                                  리뷰   리뷰수  \\\n",
       "0  [\"음식이 맛있어요\", \"재료가 신선해요\", \"특별한 메뉴가 있어요\", \"인테리어가...  5802   \n",
       "1  [\"음식이 맛있어요\", \"주차하기 편해요\", \"친절해요\", \"양이 많아요\", \"재료...  3935   \n",
       "2  [\"빵이 맛있어요\", \"특별한 메뉴가 있어요\", \"친절해요\", \"매장이 청결해요\",...  2231   \n",
       "3  [\"음식이 맛있어요\", \"친절해요\", \"특별한 메뉴가 있어요\", \"가성비가 좋아요\"...  2139   \n",
       "4  [\"음식이 맛있어요\", \"친절해요\", \"특별한 메뉴가 있어요\", \"재료가 신선해요\"...  2103   \n",
       "5  [\"디저트가 맛있어요\", \"특별한 메뉴가 있어요\", \"가성비가 좋아요\", \"친절해요...  1962   \n",
       "6  [\"빵이 맛있어요\", \"특별한 메뉴가 있어요\", \"친절해요\", \"매장이 청결해요\",...  1617   \n",
       "7  [\"음식이 맛있어요\", \"특별한 메뉴가 있어요\", \"양이 많아요\", \"친절해요\", ...  1519   \n",
       "8  [\"음식이 맛있어요\", \"양이 많아요\", \"가성비가 좋아요\", \"특별한 메뉴가 있어...  1509   \n",
       "9  [\"음식이 맛있어요\", \"가성비가 좋아요\", \"친절해요\", \"재료가 신선해요\", \"...  1483   \n",
       "\n",
       "                                                link  \n",
       "0  https://map.naver.com/v5/search/%EC%9D%B4%EB%8...  \n",
       "1  https://map.naver.com/v5/search/%EC%9D%B4%EB%8...  \n",
       "2  https://map.naver.com/v5/search/%EC%9D%B4%EB%8...  \n",
       "3  https://map.naver.com/v5/search/%EC%9D%B4%EB%8...  \n",
       "4  https://map.naver.com/v5/search/%EC%9D%B4%EB%8...  \n",
       "5  https://map.naver.com/v5/search/%EC%9D%B4%EB%8...  \n",
       "6  https://map.naver.com/v5/search/%EC%9D%B4%EB%8...  \n",
       "7  https://map.naver.com/v5/search/%EC%9D%B4%EB%8...  \n",
       "8  https://map.naver.com/v5/search/%EC%9D%B4%EB%8...  \n",
       "9  https://map.naver.com/v5/search/%EC%9D%B4%EB%8...  "
      ]
     },
     "execution_count": 794,
     "metadata": {},
     "output_type": "execute_result"
    }
   ],
   "source": [
    "rv_upper = food_place.iloc[:10, :]\n",
    "rv_upper"
   ]
  },
  {
   "cell_type": "markdown",
   "id": "b70d3a3a-956c-4531-8708-b06b6fc2c940",
   "metadata": {},
   "source": [
    "## 탑10 비교"
   ]
  },
  {
   "cell_type": "code",
   "execution_count": 795,
   "id": "a1756e5e-0a10-42e4-8a89-b1099ad182ff",
   "metadata": {},
   "outputs": [],
   "source": [
    "z = []\n",
    "for name in upper['식당이름']:\n",
    "    if name in rv_upper['식당이름']:\n",
    "        z.append(upper['식당이름'])"
   ]
  },
  {
   "cell_type": "code",
   "execution_count": 796,
   "id": "578fce04-a5f2-42f0-976d-8da9c57ac66d",
   "metadata": {},
   "outputs": [
    {
     "data": {
      "text/html": [
       "<div>\n",
       "<style scoped>\n",
       "    .dataframe tbody tr th:only-of-type {\n",
       "        vertical-align: middle;\n",
       "    }\n",
       "\n",
       "    .dataframe tbody tr th {\n",
       "        vertical-align: top;\n",
       "    }\n",
       "\n",
       "    .dataframe thead th {\n",
       "        text-align: right;\n",
       "    }\n",
       "</style>\n",
       "<table border=\"1\" class=\"dataframe\">\n",
       "  <thead>\n",
       "    <tr style=\"text-align: right;\">\n",
       "      <th></th>\n",
       "      <th>식당이름</th>\n",
       "      <th>위도</th>\n",
       "      <th>경도</th>\n",
       "      <th>별점</th>\n",
       "      <th>리뷰</th>\n",
       "      <th>리뷰수</th>\n",
       "      <th>link</th>\n",
       "    </tr>\n",
       "  </thead>\n",
       "  <tbody>\n",
       "    <tr>\n",
       "      <th>0</th>\n",
       "      <td>아건 이대점</td>\n",
       "      <td>37.55906291657092</td>\n",
       "      <td>126.94492718486593</td>\n",
       "      <td>4.82</td>\n",
       "      <td>[\"음식이 맛있어요\", \"친절해요\", \"특별한 메뉴가 있어요\", \"가성비가 좋아요\"...</td>\n",
       "      <td>2139</td>\n",
       "      <td>https://map.naver.com/v5/search/%EC%9D%B4%EB%8...</td>\n",
       "    </tr>\n",
       "    <tr>\n",
       "      <th>1</th>\n",
       "      <td>연어초밥</td>\n",
       "      <td>37.5570648016113</td>\n",
       "      <td>126.941972390604</td>\n",
       "      <td>4.67</td>\n",
       "      <td>[\"음식이 맛있어요\", \"가성비가 좋아요\", \"친절해요\", \"재료가 신선해요\", \"...</td>\n",
       "      <td>1483</td>\n",
       "      <td>https://map.naver.com/v5/search/%EC%9D%B4%EB%8...</td>\n",
       "    </tr>\n",
       "    <tr>\n",
       "      <th>2</th>\n",
       "      <td>호밀밭</td>\n",
       "      <td>37.558918423412536</td>\n",
       "      <td>126.94052464390788</td>\n",
       "      <td>4.62</td>\n",
       "      <td>[\"디저트가 맛있어요\", \"특별한 메뉴가 있어요\", \"가성비가 좋아요\", \"친절해요...</td>\n",
       "      <td>1962</td>\n",
       "      <td>https://map.naver.com/v5/search/%EC%9D%B4%EB%8...</td>\n",
       "    </tr>\n",
       "  </tbody>\n",
       "</table>\n",
       "</div>"
      ],
      "text/plain": [
       "     식당이름                  위도                  경도    별점  \\\n",
       "0  아건 이대점   37.55906291657092  126.94492718486593  4.82   \n",
       "1    연어초밥    37.5570648016113    126.941972390604  4.67   \n",
       "2     호밀밭  37.558918423412536  126.94052464390788  4.62   \n",
       "\n",
       "                                                  리뷰   리뷰수  \\\n",
       "0  [\"음식이 맛있어요\", \"친절해요\", \"특별한 메뉴가 있어요\", \"가성비가 좋아요\"...  2139   \n",
       "1  [\"음식이 맛있어요\", \"가성비가 좋아요\", \"친절해요\", \"재료가 신선해요\", \"...  1483   \n",
       "2  [\"디저트가 맛있어요\", \"특별한 메뉴가 있어요\", \"가성비가 좋아요\", \"친절해요...  1962   \n",
       "\n",
       "                                                link  \n",
       "0  https://map.naver.com/v5/search/%EC%9D%B4%EB%8...  \n",
       "1  https://map.naver.com/v5/search/%EC%9D%B4%EB%8...  \n",
       "2  https://map.naver.com/v5/search/%EC%9D%B4%EB%8...  "
      ]
     },
     "execution_count": 796,
     "metadata": {},
     "output_type": "execute_result"
    }
   ],
   "source": [
    "top = upper[upper['식당이름'].isin(rv_upper['식당이름'])]\n",
    "top.reset_index(drop=True, inplace=True)\n",
    "top"
   ]
  },
  {
   "cell_type": "markdown",
   "id": "216fbc94-a764-40b4-8d25-2f25b93044dc",
   "metadata": {
    "tags": []
   },
   "source": [
    "## 지도"
   ]
  },
  {
   "cell_type": "markdown",
   "id": "e54b766a-2b98-4288-9e4b-b521805a18fb",
   "metadata": {},
   "source": [
    "### from website"
   ]
  },
  {
   "cell_type": "code",
   "execution_count": 797,
   "id": "1056c53d-b765-4eca-a0c0-88c7d14e628f",
   "metadata": {},
   "outputs": [],
   "source": [
    "import requests\n",
    "import pandas as pd\n",
    "import numpy as np\n",
    "import folium\n",
    "from folium.plugins import MiniMap"
   ]
  },
  {
   "cell_type": "markdown",
   "id": "92f20104-8f92-44a9-977a-c0670ceba095",
   "metadata": {
    "tags": []
   },
   "source": [
    "## 별점 지도"
   ]
  },
  {
   "cell_type": "code",
   "execution_count": 798,
   "id": "21ff3312-e878-44ef-a8e8-563f8fb18675",
   "metadata": {},
   "outputs": [],
   "source": [
    "def make_map(dfs):\n",
    "    # 지도 생성하기\n",
    "    m = folium.Map(location=upper.iloc[0][1:3],   # 기준좌표: 서울시청\n",
    "                   zoom_start=15)\n",
    "\n",
    "    # 미니맵 추가하기\n",
    "    minimap = MiniMap() \n",
    "    m.add_child(minimap)\n",
    "\n",
    "    # 마커 추가하기\n",
    "    for i in range(len(dfs)):\n",
    "        popup_text = f'''<a href={upper.iloc[i].link} target='_blank'>\n",
    "                    {upper.iloc[i]['식당이름']}</a> 별점: {upper.iloc[i]['별점']}<br>\n",
    "                    리뷰: {upper.iloc[i]['리뷰']}<br>'''\n",
    "\n",
    "        #팝업 크기 조절\n",
    "        popup = folium.Popup(popup_text, min_width=100, max_width=300)\n",
    "    \n",
    "        # 마커 생성\n",
    "        folium.Marker([upper['위도'][i],upper['경도'][i]],\n",
    "                  tooltip=upper['식당이름'][i],\n",
    "                  popup=popup, \n",
    "                      icon=folium.Icon(color='red', icon='info-sign')).add_to(m)\n",
    "    return m"
   ]
  },
  {
   "cell_type": "code",
   "execution_count": 799,
   "id": "6084835b-9d4c-40bd-8eca-8c08a6814f5d",
   "metadata": {
    "tags": []
   },
   "outputs": [
    {
     "data": {
      "text/html": [
       "<div style=\"width:100%;\"><div style=\"position:relative;width:100%;height:0;padding-bottom:60%;\"><span style=\"color:#565656\">Make this Notebook Trusted to load map: File -> Trust Notebook</span><iframe srcdoc=\"&lt;!DOCTYPE html&gt;\n",
       "&lt;head&gt;    \n",
       "    &lt;meta http-equiv=&quot;content-type&quot; content=&quot;text/html; charset=UTF-8&quot; /&gt;\n",
       "    \n",
       "        &lt;script&gt;\n",
       "            L_NO_TOUCH = false;\n",
       "            L_DISABLE_3D = false;\n",
       "        &lt;/script&gt;\n",
       "    \n",
       "    &lt;style&gt;html, body {width: 100%;height: 100%;margin: 0;padding: 0;}&lt;/style&gt;\n",
       "    &lt;style&gt;#map {position:absolute;top:0;bottom:0;right:0;left:0;}&lt;/style&gt;\n",
       "    &lt;script src=&quot;https://cdn.jsdelivr.net/npm/leaflet@1.6.0/dist/leaflet.js&quot;&gt;&lt;/script&gt;\n",
       "    &lt;script src=&quot;https://code.jquery.com/jquery-1.12.4.min.js&quot;&gt;&lt;/script&gt;\n",
       "    &lt;script src=&quot;https://maxcdn.bootstrapcdn.com/bootstrap/3.2.0/js/bootstrap.min.js&quot;&gt;&lt;/script&gt;\n",
       "    &lt;script src=&quot;https://cdnjs.cloudflare.com/ajax/libs/Leaflet.awesome-markers/2.0.2/leaflet.awesome-markers.js&quot;&gt;&lt;/script&gt;\n",
       "    &lt;link rel=&quot;stylesheet&quot; href=&quot;https://cdn.jsdelivr.net/npm/leaflet@1.6.0/dist/leaflet.css&quot;/&gt;\n",
       "    &lt;link rel=&quot;stylesheet&quot; href=&quot;https://maxcdn.bootstrapcdn.com/bootstrap/3.2.0/css/bootstrap.min.css&quot;/&gt;\n",
       "    &lt;link rel=&quot;stylesheet&quot; href=&quot;https://maxcdn.bootstrapcdn.com/bootstrap/3.2.0/css/bootstrap-theme.min.css&quot;/&gt;\n",
       "    &lt;link rel=&quot;stylesheet&quot; href=&quot;https://maxcdn.bootstrapcdn.com/font-awesome/4.6.3/css/font-awesome.min.css&quot;/&gt;\n",
       "    &lt;link rel=&quot;stylesheet&quot; href=&quot;https://cdnjs.cloudflare.com/ajax/libs/Leaflet.awesome-markers/2.0.2/leaflet.awesome-markers.css&quot;/&gt;\n",
       "    &lt;link rel=&quot;stylesheet&quot; href=&quot;https://cdn.jsdelivr.net/gh/python-visualization/folium/folium/templates/leaflet.awesome.rotate.min.css&quot;/&gt;\n",
       "    \n",
       "            &lt;meta name=&quot;viewport&quot; content=&quot;width=device-width,\n",
       "                initial-scale=1.0, maximum-scale=1.0, user-scalable=no&quot; /&gt;\n",
       "            &lt;style&gt;\n",
       "                #map_3e0f9eaf30d6a7759aec92552151ee1e {\n",
       "                    position: relative;\n",
       "                    width: 100.0%;\n",
       "                    height: 100.0%;\n",
       "                    left: 0.0%;\n",
       "                    top: 0.0%;\n",
       "                }\n",
       "            &lt;/style&gt;\n",
       "        \n",
       "    &lt;script src=&quot;https://cdnjs.cloudflare.com/ajax/libs/leaflet-minimap/3.6.1/Control.MiniMap.js&quot;&gt;&lt;/script&gt;\n",
       "    &lt;link rel=&quot;stylesheet&quot; href=&quot;https://cdnjs.cloudflare.com/ajax/libs/leaflet-minimap/3.6.1/Control.MiniMap.css&quot;/&gt;\n",
       "&lt;/head&gt;\n",
       "&lt;body&gt;    \n",
       "    \n",
       "            &lt;div class=&quot;folium-map&quot; id=&quot;map_3e0f9eaf30d6a7759aec92552151ee1e&quot; &gt;&lt;/div&gt;\n",
       "        \n",
       "&lt;/body&gt;\n",
       "&lt;script&gt;    \n",
       "    \n",
       "            var map_3e0f9eaf30d6a7759aec92552151ee1e = L.map(\n",
       "                &quot;map_3e0f9eaf30d6a7759aec92552151ee1e&quot;,\n",
       "                {\n",
       "                    center: [37.5569534052124, 126.942456981822],\n",
       "                    crs: L.CRS.EPSG3857,\n",
       "                    zoom: 15,\n",
       "                    zoomControl: true,\n",
       "                    preferCanvas: false,\n",
       "                }\n",
       "            );\n",
       "\n",
       "            \n",
       "\n",
       "        \n",
       "    \n",
       "            var tile_layer_3723c8fd1fe4b85f42fadc239ea1661e = L.tileLayer(\n",
       "                &quot;https://{s}.tile.openstreetmap.org/{z}/{x}/{y}.png&quot;,\n",
       "                {&quot;attribution&quot;: &quot;Data by \\u0026copy; \\u003ca href=\\&quot;http://openstreetmap.org\\&quot;\\u003eOpenStreetMap\\u003c/a\\u003e, under \\u003ca href=\\&quot;http://www.openstreetmap.org/copyright\\&quot;\\u003eODbL\\u003c/a\\u003e.&quot;, &quot;detectRetina&quot;: false, &quot;maxNativeZoom&quot;: 18, &quot;maxZoom&quot;: 18, &quot;minZoom&quot;: 0, &quot;noWrap&quot;: false, &quot;opacity&quot;: 1, &quot;subdomains&quot;: &quot;abc&quot;, &quot;tms&quot;: false}\n",
       "            ).addTo(map_3e0f9eaf30d6a7759aec92552151ee1e);\n",
       "        \n",
       "    \n",
       "            var tile_layer_14a981588734122a8f416895e08fee17 = L.tileLayer(\n",
       "                &quot;https://{s}.tile.openstreetmap.org/{z}/{x}/{y}.png&quot;,\n",
       "                {&quot;attribution&quot;: &quot;Data by \\u0026copy; \\u003ca href=\\&quot;http://openstreetmap.org\\&quot;\\u003eOpenStreetMap\\u003c/a\\u003e, under \\u003ca href=\\&quot;http://www.openstreetmap.org/copyright\\&quot;\\u003eODbL\\u003c/a\\u003e.&quot;, &quot;detectRetina&quot;: false, &quot;maxNativeZoom&quot;: 18, &quot;maxZoom&quot;: 18, &quot;minZoom&quot;: 0, &quot;noWrap&quot;: false, &quot;opacity&quot;: 1, &quot;subdomains&quot;: &quot;abc&quot;, &quot;tms&quot;: false}\n",
       "            );\n",
       "            var mini_map_a2661c2129cf199e1de2fe58ffc87f54 = new L.Control.MiniMap(\n",
       "                tile_layer_14a981588734122a8f416895e08fee17,\n",
       "                {&quot;autoToggleDisplay&quot;: false, &quot;centerFixed&quot;: false, &quot;collapsedHeight&quot;: 25, &quot;collapsedWidth&quot;: 25, &quot;height&quot;: 150, &quot;minimized&quot;: false, &quot;position&quot;: &quot;bottomright&quot;, &quot;toggleDisplay&quot;: false, &quot;width&quot;: 150, &quot;zoomAnimation&quot;: false, &quot;zoomLevelOffset&quot;: -5}\n",
       "            );\n",
       "            map_3e0f9eaf30d6a7759aec92552151ee1e.addControl(mini_map_a2661c2129cf199e1de2fe58ffc87f54);\n",
       "        \n",
       "    \n",
       "            var marker_39e9d0b407d41de9b6c52ea495d015c2 = L.marker(\n",
       "                [37.5569534052124, 126.942456981822],\n",
       "                {}\n",
       "            ).addTo(map_3e0f9eaf30d6a7759aec92552151ee1e);\n",
       "        \n",
       "    \n",
       "            var icon_3613afc222d81df4a6ddbef6a5d2df9a = L.AwesomeMarkers.icon(\n",
       "                {&quot;extraClasses&quot;: &quot;fa-rotate-0&quot;, &quot;icon&quot;: &quot;info-sign&quot;, &quot;iconColor&quot;: &quot;white&quot;, &quot;markerColor&quot;: &quot;red&quot;, &quot;prefix&quot;: &quot;glyphicon&quot;}\n",
       "            );\n",
       "            marker_39e9d0b407d41de9b6c52ea495d015c2.setIcon(icon_3613afc222d81df4a6ddbef6a5d2df9a);\n",
       "        \n",
       "    \n",
       "        var popup_b0d6def95e20a1bb6f508ced1384b365 = L.popup({&quot;maxWidth&quot;: 300, &quot;minWidth&quot;: 100});\n",
       "\n",
       "        \n",
       "            var html_d95836a9283a91c92d7199c1607bd4e4 = $(`&lt;div id=&quot;html_d95836a9283a91c92d7199c1607bd4e4&quot; style=&quot;width: 100.0%; height: 100.0%;&quot;&gt;&lt;a href=https://map.naver.com/v5/search/%EC%9D%B4%EB%8C%80%20%EB%A7%9B%EC%A7%91/place/1674726200?c=14130771.0604544,4517697.9652139,14,0,0,0,dh&amp;placePath=%3Fentry%253Dbmp target=&#x27;_blank&#x27;&gt;                     진돈부리&lt;/a&gt; 별점: 4.84&lt;br&gt;                     리뷰: [&#x27;&quot;음식이 맛있어요&quot;&#x27;, &#x27;&quot;친절해요&quot;&#x27;, &#x27;&quot;가성비가 좋아요&quot;&#x27;, &#x27;&quot;재료가 신선해요&quot;&#x27;, &#x27;&quot;양이 많아요&quot;&#x27;]&lt;br&gt;&lt;/div&gt;`)[0];\n",
       "            popup_b0d6def95e20a1bb6f508ced1384b365.setContent(html_d95836a9283a91c92d7199c1607bd4e4);\n",
       "        \n",
       "\n",
       "        marker_39e9d0b407d41de9b6c52ea495d015c2.bindPopup(popup_b0d6def95e20a1bb6f508ced1384b365)\n",
       "        ;\n",
       "\n",
       "        \n",
       "    \n",
       "    \n",
       "            marker_39e9d0b407d41de9b6c52ea495d015c2.bindTooltip(\n",
       "                `&lt;div&gt;\n",
       "                     진돈부리\n",
       "                 &lt;/div&gt;`,\n",
       "                {&quot;sticky&quot;: true}\n",
       "            );\n",
       "        \n",
       "    \n",
       "            var marker_a1d2a94a3bad331ca00ace6cd804984c = L.marker(\n",
       "                [37.5686427225759, 126.93190290238],\n",
       "                {}\n",
       "            ).addTo(map_3e0f9eaf30d6a7759aec92552151ee1e);\n",
       "        \n",
       "    \n",
       "            var icon_b0bdf306d09ab6f408639d46e372dce9 = L.AwesomeMarkers.icon(\n",
       "                {&quot;extraClasses&quot;: &quot;fa-rotate-0&quot;, &quot;icon&quot;: &quot;info-sign&quot;, &quot;iconColor&quot;: &quot;white&quot;, &quot;markerColor&quot;: &quot;red&quot;, &quot;prefix&quot;: &quot;glyphicon&quot;}\n",
       "            );\n",
       "            marker_a1d2a94a3bad331ca00ace6cd804984c.setIcon(icon_b0bdf306d09ab6f408639d46e372dce9);\n",
       "        \n",
       "    \n",
       "        var popup_05021cc1b5bc66cf2ec8ebaa18dc325e = L.popup({&quot;maxWidth&quot;: 300, &quot;minWidth&quot;: 100});\n",
       "\n",
       "        \n",
       "            var html_8135b0659dc696f0cb9853f3463c2483 = $(`&lt;div id=&quot;html_8135b0659dc696f0cb9853f3463c2483&quot; style=&quot;width: 100.0%; height: 100.0%;&quot;&gt;&lt;a href=https://map.naver.com/v5/search/%EC%9D%B4%EB%8C%80%20%EB%A7%9B%EC%A7%91/place/1852952548?c=14130771.0604544,4517697.9652139,14,0,0,0,dh&amp;placePath=%3Fentry%253Dbmp target=&#x27;_blank&#x27;&gt;                     탭스터&lt;/a&gt; 별점: 4.83&lt;br&gt;                     리뷰: [&#x27;&quot;음식이 맛있어요&quot;&#x27;, &#x27;&quot;술이 다양해요&quot;&#x27;, &#x27;&quot;친절해요&quot;&#x27;, &#x27;&quot;특별한 메뉴가 있어요&quot;&#x27;, &#x27;&quot;매장이 청결해요&quot;&#x27;]&lt;br&gt;&lt;/div&gt;`)[0];\n",
       "            popup_05021cc1b5bc66cf2ec8ebaa18dc325e.setContent(html_8135b0659dc696f0cb9853f3463c2483);\n",
       "        \n",
       "\n",
       "        marker_a1d2a94a3bad331ca00ace6cd804984c.bindPopup(popup_05021cc1b5bc66cf2ec8ebaa18dc325e)\n",
       "        ;\n",
       "\n",
       "        \n",
       "    \n",
       "    \n",
       "            marker_a1d2a94a3bad331ca00ace6cd804984c.bindTooltip(\n",
       "                `&lt;div&gt;\n",
       "                     탭스터\n",
       "                 &lt;/div&gt;`,\n",
       "                {&quot;sticky&quot;: true}\n",
       "            );\n",
       "        \n",
       "    \n",
       "            var marker_abeebcd3a8775b8277daf4c59ee53c08 = L.marker(\n",
       "                [37.55906291657092, 126.94492718486593],\n",
       "                {}\n",
       "            ).addTo(map_3e0f9eaf30d6a7759aec92552151ee1e);\n",
       "        \n",
       "    \n",
       "            var icon_efb569b8c2d6a56a9060117cc64ed76f = L.AwesomeMarkers.icon(\n",
       "                {&quot;extraClasses&quot;: &quot;fa-rotate-0&quot;, &quot;icon&quot;: &quot;info-sign&quot;, &quot;iconColor&quot;: &quot;white&quot;, &quot;markerColor&quot;: &quot;red&quot;, &quot;prefix&quot;: &quot;glyphicon&quot;}\n",
       "            );\n",
       "            marker_abeebcd3a8775b8277daf4c59ee53c08.setIcon(icon_efb569b8c2d6a56a9060117cc64ed76f);\n",
       "        \n",
       "    \n",
       "        var popup_3901955f9c1cd72b00a0df6cd6cf536c = L.popup({&quot;maxWidth&quot;: 300, &quot;minWidth&quot;: 100});\n",
       "\n",
       "        \n",
       "            var html_1afddb3088ede48d3b22d9a517359f02 = $(`&lt;div id=&quot;html_1afddb3088ede48d3b22d9a517359f02&quot; style=&quot;width: 100.0%; height: 100.0%;&quot;&gt;&lt;a href=https://map.naver.com/v5/search/%EC%9D%B4%EB%8C%80%20%EB%A7%9B%EC%A7%91/place/13155014?c=14130771.0604544,4517697.9652139,14,0,0,0,dh&amp;placePath=%3Fentry%253Dbmp target=&#x27;_blank&#x27;&gt;                     아건 이대점&lt;/a&gt; 별점: 4.82&lt;br&gt;                     리뷰: [&#x27;&quot;음식이 맛있어요&quot;&#x27;, &#x27;&quot;친절해요&quot;&#x27;, &#x27;&quot;특별한 메뉴가 있어요&quot;&#x27;, &#x27;&quot;가성비가 좋아요&quot;&#x27;, &#x27;&quot;양이 많아요&quot;&#x27;]&lt;br&gt;&lt;/div&gt;`)[0];\n",
       "            popup_3901955f9c1cd72b00a0df6cd6cf536c.setContent(html_1afddb3088ede48d3b22d9a517359f02);\n",
       "        \n",
       "\n",
       "        marker_abeebcd3a8775b8277daf4c59ee53c08.bindPopup(popup_3901955f9c1cd72b00a0df6cd6cf536c)\n",
       "        ;\n",
       "\n",
       "        \n",
       "    \n",
       "    \n",
       "            marker_abeebcd3a8775b8277daf4c59ee53c08.bindTooltip(\n",
       "                `&lt;div&gt;\n",
       "                     아건 이대점\n",
       "                 &lt;/div&gt;`,\n",
       "                {&quot;sticky&quot;: true}\n",
       "            );\n",
       "        \n",
       "    \n",
       "            var marker_2a1294a28e07f3ec0652b93f717d8c11 = L.marker(\n",
       "                [37.55883015675004, 126.94428223894934],\n",
       "                {}\n",
       "            ).addTo(map_3e0f9eaf30d6a7759aec92552151ee1e);\n",
       "        \n",
       "    \n",
       "            var icon_ac2346ac9341d6b3f4cadfa59f89462b = L.AwesomeMarkers.icon(\n",
       "                {&quot;extraClasses&quot;: &quot;fa-rotate-0&quot;, &quot;icon&quot;: &quot;info-sign&quot;, &quot;iconColor&quot;: &quot;white&quot;, &quot;markerColor&quot;: &quot;red&quot;, &quot;prefix&quot;: &quot;glyphicon&quot;}\n",
       "            );\n",
       "            marker_2a1294a28e07f3ec0652b93f717d8c11.setIcon(icon_ac2346ac9341d6b3f4cadfa59f89462b);\n",
       "        \n",
       "    \n",
       "        var popup_402ab3bd7e71712b17c337aa0fadbe00 = L.popup({&quot;maxWidth&quot;: 300, &quot;minWidth&quot;: 100});\n",
       "\n",
       "        \n",
       "            var html_9f6f3d906a3c03de2370c6797144252c = $(`&lt;div id=&quot;html_9f6f3d906a3c03de2370c6797144252c&quot; style=&quot;width: 100.0%; height: 100.0%;&quot;&gt;&lt;a href=https://map.naver.com/v5/search/%EC%9D%B4%EB%8C%80%20%EB%A7%9B%EC%A7%91/place/1915239189?c=14130771.0604544,4517697.9652139,14,0,0,0,dh&amp;placePath=%3Fentry%253Dbmp target=&#x27;_blank&#x27;&gt;                     모미지식당&lt;/a&gt; 별점: 4.74&lt;br&gt;                     리뷰: [&#x27;&quot;음식이 맛있어요&quot;&#x27;, &#x27;&quot;친절해요&quot;&#x27;, &#x27;&quot;특별한 메뉴가 있어요&quot;&#x27;, &#x27;&quot;혼밥하기 좋아요&quot;&#x27;, &#x27;&quot;재료가 신선해요&quot;&#x27;]&lt;br&gt;&lt;/div&gt;`)[0];\n",
       "            popup_402ab3bd7e71712b17c337aa0fadbe00.setContent(html_9f6f3d906a3c03de2370c6797144252c);\n",
       "        \n",
       "\n",
       "        marker_2a1294a28e07f3ec0652b93f717d8c11.bindPopup(popup_402ab3bd7e71712b17c337aa0fadbe00)\n",
       "        ;\n",
       "\n",
       "        \n",
       "    \n",
       "    \n",
       "            marker_2a1294a28e07f3ec0652b93f717d8c11.bindTooltip(\n",
       "                `&lt;div&gt;\n",
       "                     모미지식당\n",
       "                 &lt;/div&gt;`,\n",
       "                {&quot;sticky&quot;: true}\n",
       "            );\n",
       "        \n",
       "    \n",
       "            var marker_b46161fbf15c560a8f339a23f2101a08 = L.marker(\n",
       "                [37.5589904689193, 126.944144041557],\n",
       "                {}\n",
       "            ).addTo(map_3e0f9eaf30d6a7759aec92552151ee1e);\n",
       "        \n",
       "    \n",
       "            var icon_5b8d852e0541c193c4aeb3653cf5f8e4 = L.AwesomeMarkers.icon(\n",
       "                {&quot;extraClasses&quot;: &quot;fa-rotate-0&quot;, &quot;icon&quot;: &quot;info-sign&quot;, &quot;iconColor&quot;: &quot;white&quot;, &quot;markerColor&quot;: &quot;red&quot;, &quot;prefix&quot;: &quot;glyphicon&quot;}\n",
       "            );\n",
       "            marker_b46161fbf15c560a8f339a23f2101a08.setIcon(icon_5b8d852e0541c193c4aeb3653cf5f8e4);\n",
       "        \n",
       "    \n",
       "        var popup_f5449b9d133674083dfa7fd0d98ea677 = L.popup({&quot;maxWidth&quot;: 300, &quot;minWidth&quot;: 100});\n",
       "\n",
       "        \n",
       "            var html_1dee5a636a14796fa5f44cddf1bfaf1b = $(`&lt;div id=&quot;html_1dee5a636a14796fa5f44cddf1bfaf1b&quot; style=&quot;width: 100.0%; height: 100.0%;&quot;&gt;&lt;a href=https://map.naver.com/v5/search/%EC%9D%B4%EB%8C%80%20%EB%A7%9B%EC%A7%91/place/11853181?c=14130771.0604544,4517697.9652139,14,0,0,0,dh&amp;placePath=%3Fentry%253Dbmp target=&#x27;_blank&#x27;&gt;                     비아37&lt;/a&gt; 별점: 4.67&lt;br&gt;                     리뷰: [&#x27;&quot;음식이 맛있어요&quot;&#x27;, &#x27;&quot;인테리어가 멋져요&quot;&#x27;, &#x27;&quot;친절해요&quot;&#x27;, &#x27;&quot;특별한 메뉴가 있어요&quot;&#x27;, &#x27;&quot;특별한 날 가기 좋아요&quot;&#x27;]&lt;br&gt;&lt;/div&gt;`)[0];\n",
       "            popup_f5449b9d133674083dfa7fd0d98ea677.setContent(html_1dee5a636a14796fa5f44cddf1bfaf1b);\n",
       "        \n",
       "\n",
       "        marker_b46161fbf15c560a8f339a23f2101a08.bindPopup(popup_f5449b9d133674083dfa7fd0d98ea677)\n",
       "        ;\n",
       "\n",
       "        \n",
       "    \n",
       "    \n",
       "            marker_b46161fbf15c560a8f339a23f2101a08.bindTooltip(\n",
       "                `&lt;div&gt;\n",
       "                     비아37\n",
       "                 &lt;/div&gt;`,\n",
       "                {&quot;sticky&quot;: true}\n",
       "            );\n",
       "        \n",
       "    \n",
       "            var marker_865de57692704aaa8ddf1e6a48c32c89 = L.marker(\n",
       "                [37.5570648016113, 126.941972390604],\n",
       "                {}\n",
       "            ).addTo(map_3e0f9eaf30d6a7759aec92552151ee1e);\n",
       "        \n",
       "    \n",
       "            var icon_1197b7dedee9281f3cb73ca3425fdd93 = L.AwesomeMarkers.icon(\n",
       "                {&quot;extraClasses&quot;: &quot;fa-rotate-0&quot;, &quot;icon&quot;: &quot;info-sign&quot;, &quot;iconColor&quot;: &quot;white&quot;, &quot;markerColor&quot;: &quot;red&quot;, &quot;prefix&quot;: &quot;glyphicon&quot;}\n",
       "            );\n",
       "            marker_865de57692704aaa8ddf1e6a48c32c89.setIcon(icon_1197b7dedee9281f3cb73ca3425fdd93);\n",
       "        \n",
       "    \n",
       "        var popup_ffb76d914a5837f90abd574cc554189a = L.popup({&quot;maxWidth&quot;: 300, &quot;minWidth&quot;: 100});\n",
       "\n",
       "        \n",
       "            var html_9b199643665bfff6c14e52e3a4c68a29 = $(`&lt;div id=&quot;html_9b199643665bfff6c14e52e3a4c68a29&quot; style=&quot;width: 100.0%; height: 100.0%;&quot;&gt;&lt;a href=https://map.naver.com/v5/search/%EC%9D%B4%EB%8C%80%20%EB%A7%9B%EC%A7%91/place/1221500434?c=14130771.0604544,4517697.9652139,14,0,0,0,dh&amp;placePath=%3Fentry%253Dbmp target=&#x27;_blank&#x27;&gt;                     연어초밥&lt;/a&gt; 별점: 4.67&lt;br&gt;                     리뷰: [&#x27;&quot;음식이 맛있어요&quot;&#x27;, &#x27;&quot;가성비가 좋아요&quot;&#x27;, &#x27;&quot;친절해요&quot;&#x27;, &#x27;&quot;재료가 신선해요&quot;&#x27;, &#x27;&quot;혼밥하기 좋아요&quot;&#x27;]&lt;br&gt;&lt;/div&gt;`)[0];\n",
       "            popup_ffb76d914a5837f90abd574cc554189a.setContent(html_9b199643665bfff6c14e52e3a4c68a29);\n",
       "        \n",
       "\n",
       "        marker_865de57692704aaa8ddf1e6a48c32c89.bindPopup(popup_ffb76d914a5837f90abd574cc554189a)\n",
       "        ;\n",
       "\n",
       "        \n",
       "    \n",
       "    \n",
       "            marker_865de57692704aaa8ddf1e6a48c32c89.bindTooltip(\n",
       "                `&lt;div&gt;\n",
       "                     연어초밥\n",
       "                 &lt;/div&gt;`,\n",
       "                {&quot;sticky&quot;: true}\n",
       "            );\n",
       "        \n",
       "    \n",
       "            var marker_e41a05801223af49cf03671f8a11faa4 = L.marker(\n",
       "                [37.568663448725, 126.931908543177],\n",
       "                {}\n",
       "            ).addTo(map_3e0f9eaf30d6a7759aec92552151ee1e);\n",
       "        \n",
       "    \n",
       "            var icon_e9fb089b176acf6a6e48938c15340b1a = L.AwesomeMarkers.icon(\n",
       "                {&quot;extraClasses&quot;: &quot;fa-rotate-0&quot;, &quot;icon&quot;: &quot;info-sign&quot;, &quot;iconColor&quot;: &quot;white&quot;, &quot;markerColor&quot;: &quot;red&quot;, &quot;prefix&quot;: &quot;glyphicon&quot;}\n",
       "            );\n",
       "            marker_e41a05801223af49cf03671f8a11faa4.setIcon(icon_e9fb089b176acf6a6e48938c15340b1a);\n",
       "        \n",
       "    \n",
       "        var popup_28260547c491a88ab21c9c713447bae9 = L.popup({&quot;maxWidth&quot;: 300, &quot;minWidth&quot;: 100});\n",
       "\n",
       "        \n",
       "            var html_d77d354666d807c3a7968ebbd3b32dc5 = $(`&lt;div id=&quot;html_d77d354666d807c3a7968ebbd3b32dc5&quot; style=&quot;width: 100.0%; height: 100.0%;&quot;&gt;&lt;a href=https://map.naver.com/v5/search/%EC%9D%B4%EB%8C%80%20%EB%A7%9B%EC%A7%91/place/1019654977?c=14130771.0604544,4517697.9652139,14,0,0,0,dh&amp;placePath=%3Fentry%253Dbmp target=&#x27;_blank&#x27;&gt;                     희게&lt;/a&gt; 별점: 4.66&lt;br&gt;                     리뷰: [&#x27;&quot;음식이 맛있어요&quot;&#x27;, &#x27;&quot;친절해요&quot;&#x27;, &#x27;&quot;인테리어가 멋져요&quot;&#x27;, &#x27;&quot;재료가 신선해요&quot;&#x27;, &#x27;&quot;매장이 청결해요&quot;&#x27;]&lt;br&gt;&lt;/div&gt;`)[0];\n",
       "            popup_28260547c491a88ab21c9c713447bae9.setContent(html_d77d354666d807c3a7968ebbd3b32dc5);\n",
       "        \n",
       "\n",
       "        marker_e41a05801223af49cf03671f8a11faa4.bindPopup(popup_28260547c491a88ab21c9c713447bae9)\n",
       "        ;\n",
       "\n",
       "        \n",
       "    \n",
       "    \n",
       "            marker_e41a05801223af49cf03671f8a11faa4.bindTooltip(\n",
       "                `&lt;div&gt;\n",
       "                     희게\n",
       "                 &lt;/div&gt;`,\n",
       "                {&quot;sticky&quot;: true}\n",
       "            );\n",
       "        \n",
       "    \n",
       "            var marker_f351f8a895a40f2cdfd990708d7ebaa6 = L.marker(\n",
       "                [37.5573085850893, 126.94669402413],\n",
       "                {}\n",
       "            ).addTo(map_3e0f9eaf30d6a7759aec92552151ee1e);\n",
       "        \n",
       "    \n",
       "            var icon_d15019b91ff537f58565f8ff9413d19c = L.AwesomeMarkers.icon(\n",
       "                {&quot;extraClasses&quot;: &quot;fa-rotate-0&quot;, &quot;icon&quot;: &quot;info-sign&quot;, &quot;iconColor&quot;: &quot;white&quot;, &quot;markerColor&quot;: &quot;red&quot;, &quot;prefix&quot;: &quot;glyphicon&quot;}\n",
       "            );\n",
       "            marker_f351f8a895a40f2cdfd990708d7ebaa6.setIcon(icon_d15019b91ff537f58565f8ff9413d19c);\n",
       "        \n",
       "    \n",
       "        var popup_acf40231916d0ed57e8303dd22ba27bc = L.popup({&quot;maxWidth&quot;: 300, &quot;minWidth&quot;: 100});\n",
       "\n",
       "        \n",
       "            var html_61b37ed6f771539324346308d44a28bc = $(`&lt;div id=&quot;html_61b37ed6f771539324346308d44a28bc&quot; style=&quot;width: 100.0%; height: 100.0%;&quot;&gt;&lt;a href=https://map.naver.com/v5/search/%EC%9D%B4%EB%8C%80%20%EB%A7%9B%EC%A7%91?c=14130771.0604544,4517697.9652139,14,0,0,0,dh target=&#x27;_blank&#x27;&gt;                     하늘초밥&lt;/a&gt; 별점: 4.65&lt;br&gt;                     리뷰: [&#x27;&quot;음식이 맛있어요&quot;&#x27;, &#x27;&quot;재료가 신선해요&quot;&#x27;, &#x27;&quot;친절해요&quot;&#x27;, &#x27;&quot;가성비가 좋아요&quot;&#x27;, &#x27;&quot;특별한 메뉴가 있어요&quot;&#x27;]&lt;br&gt;&lt;/div&gt;`)[0];\n",
       "            popup_acf40231916d0ed57e8303dd22ba27bc.setContent(html_61b37ed6f771539324346308d44a28bc);\n",
       "        \n",
       "\n",
       "        marker_f351f8a895a40f2cdfd990708d7ebaa6.bindPopup(popup_acf40231916d0ed57e8303dd22ba27bc)\n",
       "        ;\n",
       "\n",
       "        \n",
       "    \n",
       "    \n",
       "            marker_f351f8a895a40f2cdfd990708d7ebaa6.bindTooltip(\n",
       "                `&lt;div&gt;\n",
       "                     하늘초밥\n",
       "                 &lt;/div&gt;`,\n",
       "                {&quot;sticky&quot;: true}\n",
       "            );\n",
       "        \n",
       "    \n",
       "            var marker_b7a68d906f6eb77e4cd2d90118127fb2 = L.marker(\n",
       "                [37.5582476571318, 126.943325190362],\n",
       "                {}\n",
       "            ).addTo(map_3e0f9eaf30d6a7759aec92552151ee1e);\n",
       "        \n",
       "    \n",
       "            var icon_bb24f1ffff9f03cf91d2729885f38597 = L.AwesomeMarkers.icon(\n",
       "                {&quot;extraClasses&quot;: &quot;fa-rotate-0&quot;, &quot;icon&quot;: &quot;info-sign&quot;, &quot;iconColor&quot;: &quot;white&quot;, &quot;markerColor&quot;: &quot;red&quot;, &quot;prefix&quot;: &quot;glyphicon&quot;}\n",
       "            );\n",
       "            marker_b7a68d906f6eb77e4cd2d90118127fb2.setIcon(icon_bb24f1ffff9f03cf91d2729885f38597);\n",
       "        \n",
       "    \n",
       "        var popup_3a73e81ed897410450956f5b4e2c6c4a = L.popup({&quot;maxWidth&quot;: 300, &quot;minWidth&quot;: 100});\n",
       "\n",
       "        \n",
       "            var html_7c50daa8060a0e1b6da217fa5fea05fc = $(`&lt;div id=&quot;html_7c50daa8060a0e1b6da217fa5fea05fc&quot; style=&quot;width: 100.0%; height: 100.0%;&quot;&gt;&lt;a href=https://map.naver.com/v5/search/%EC%9D%B4%EB%8C%80%20%EB%A7%9B%EC%A7%91/place/12010847?c=14130771.0604544,4517697.9652139,14,0,0,0,dh&amp;placePath=%3Fentry%253Dbmp target=&#x27;_blank&#x27;&gt;                     와플잇업 이대2호점&lt;/a&gt; 별점: 4.63&lt;br&gt;                     리뷰: [&#x27;&quot;디저트가 맛있어요&quot;&#x27;, &#x27;&quot;커피가 맛있어요&quot;&#x27;, &#x27;&quot;인테리어가 멋져요&quot;&#x27;, &#x27;&quot;친절해요&quot;&#x27;, &#x27;&quot;대화하기 좋아요&quot;&#x27;]&lt;br&gt;&lt;/div&gt;`)[0];\n",
       "            popup_3a73e81ed897410450956f5b4e2c6c4a.setContent(html_7c50daa8060a0e1b6da217fa5fea05fc);\n",
       "        \n",
       "\n",
       "        marker_b7a68d906f6eb77e4cd2d90118127fb2.bindPopup(popup_3a73e81ed897410450956f5b4e2c6c4a)\n",
       "        ;\n",
       "\n",
       "        \n",
       "    \n",
       "    \n",
       "            marker_b7a68d906f6eb77e4cd2d90118127fb2.bindTooltip(\n",
       "                `&lt;div&gt;\n",
       "                     와플잇업 이대2호점\n",
       "                 &lt;/div&gt;`,\n",
       "                {&quot;sticky&quot;: true}\n",
       "            );\n",
       "        \n",
       "    \n",
       "            var marker_78ce19c56646233ef9637b1f95e406c1 = L.marker(\n",
       "                [37.558918423412536, 126.94052464390788],\n",
       "                {}\n",
       "            ).addTo(map_3e0f9eaf30d6a7759aec92552151ee1e);\n",
       "        \n",
       "    \n",
       "            var icon_8f2264dff1e10b38e400617068336659 = L.AwesomeMarkers.icon(\n",
       "                {&quot;extraClasses&quot;: &quot;fa-rotate-0&quot;, &quot;icon&quot;: &quot;info-sign&quot;, &quot;iconColor&quot;: &quot;white&quot;, &quot;markerColor&quot;: &quot;red&quot;, &quot;prefix&quot;: &quot;glyphicon&quot;}\n",
       "            );\n",
       "            marker_78ce19c56646233ef9637b1f95e406c1.setIcon(icon_8f2264dff1e10b38e400617068336659);\n",
       "        \n",
       "    \n",
       "        var popup_e09dd0a8de74be9306bec8bc1a75efa9 = L.popup({&quot;maxWidth&quot;: 300, &quot;minWidth&quot;: 100});\n",
       "\n",
       "        \n",
       "            var html_8e5ec557bdd8e317a73c659c4064509e = $(`&lt;div id=&quot;html_8e5ec557bdd8e317a73c659c4064509e&quot; style=&quot;width: 100.0%; height: 100.0%;&quot;&gt;&lt;a href=https://map.naver.com/v5/search/%EC%9D%B4%EB%8C%80%20%EB%A7%9B%EC%A7%91/place/31394999?c=14130771.0604544,4517697.9652139,14,0,0,0,dh&amp;placePath=%3Fentry%253Dbmp target=&#x27;_blank&#x27;&gt;                     호밀밭&lt;/a&gt; 별점: 4.62&lt;br&gt;                     리뷰: [&#x27;&quot;디저트가 맛있어요&quot;&#x27;, &#x27;&quot;특별한 메뉴가 있어요&quot;&#x27;, &#x27;&quot;가성비가 좋아요&quot;&#x27;, &#x27;&quot;친절해요&quot;&#x27;, &#x27;&quot;커피가 맛있어요&quot;&#x27;]&lt;br&gt;&lt;/div&gt;`)[0];\n",
       "            popup_e09dd0a8de74be9306bec8bc1a75efa9.setContent(html_8e5ec557bdd8e317a73c659c4064509e);\n",
       "        \n",
       "\n",
       "        marker_78ce19c56646233ef9637b1f95e406c1.bindPopup(popup_e09dd0a8de74be9306bec8bc1a75efa9)\n",
       "        ;\n",
       "\n",
       "        \n",
       "    \n",
       "    \n",
       "            marker_78ce19c56646233ef9637b1f95e406c1.bindTooltip(\n",
       "                `&lt;div&gt;\n",
       "                     호밀밭\n",
       "                 &lt;/div&gt;`,\n",
       "                {&quot;sticky&quot;: true}\n",
       "            );\n",
       "        \n",
       "&lt;/script&gt;\" style=\"position:absolute;width:100%;height:100%;left:0;top:0;border:none !important;\" allowfullscreen webkitallowfullscreen mozallowfullscreen></iframe></div></div>"
      ],
      "text/plain": [
       "<folium.folium.Map at 0x18eba96d880>"
      ]
     },
     "execution_count": 799,
     "metadata": {},
     "output_type": "execute_result"
    }
   ],
   "source": [
    "make_map(upper)"
   ]
  },
  {
   "cell_type": "markdown",
   "id": "09d05d15-68c4-4a42-a75b-971c4dc6f02d",
   "metadata": {},
   "source": [
    "## 리뷰수 지도"
   ]
  },
  {
   "cell_type": "code",
   "execution_count": 800,
   "id": "2f49a594-4282-4dc6-b080-2a91267779ff",
   "metadata": {},
   "outputs": [],
   "source": [
    "def make_map_rv(dfs):\n",
    "    # 지도 생성하기\n",
    "    m = folium.Map(location=rv_upper.iloc[0][1:3],   # 기준좌표: 서울시청\n",
    "                   zoom_start=15)\n",
    "\n",
    "    # 미니맵 추가하기\n",
    "    minimap = MiniMap() \n",
    "    m.add_child(minimap)\n",
    "\n",
    "    # 마커 추가하기\n",
    "    for i in range(len(dfs)):\n",
    "        popup_text = f'''<a href={rv_upper.iloc[i].link} target='_blank'>\n",
    "                    {rv_upper.iloc[i]['식당이름']}</a> 리뷰 수: {rv_upper.iloc[i]['리뷰수']}<br>\n",
    "                    리뷰: {rv_upper.iloc[i]['리뷰']}<br>'''\n",
    "\n",
    "        #팝업 크기 조절\n",
    "        popup = folium.Popup(popup_text, min_width=100, max_width=300)\n",
    "    \n",
    "        # 마커 생성\n",
    "        folium.Marker([rv_upper['위도'][i],rv_upper['경도'][i]],\n",
    "                  tooltip=rv_upper['식당이름'][i],\n",
    "                  popup=popup, \n",
    "                      icon=folium.Icon(color='red', icon='info-sign')).add_to(m)\n",
    "    return m"
   ]
  },
  {
   "cell_type": "code",
   "execution_count": 801,
   "id": "86363f49-ec2c-4061-a790-43b81df5aff0",
   "metadata": {},
   "outputs": [
    {
     "data": {
      "text/html": [
       "<div style=\"width:100%;\"><div style=\"position:relative;width:100%;height:0;padding-bottom:60%;\"><span style=\"color:#565656\">Make this Notebook Trusted to load map: File -> Trust Notebook</span><iframe srcdoc=\"&lt;!DOCTYPE html&gt;\n",
       "&lt;head&gt;    \n",
       "    &lt;meta http-equiv=&quot;content-type&quot; content=&quot;text/html; charset=UTF-8&quot; /&gt;\n",
       "    \n",
       "        &lt;script&gt;\n",
       "            L_NO_TOUCH = false;\n",
       "            L_DISABLE_3D = false;\n",
       "        &lt;/script&gt;\n",
       "    \n",
       "    &lt;style&gt;html, body {width: 100%;height: 100%;margin: 0;padding: 0;}&lt;/style&gt;\n",
       "    &lt;style&gt;#map {position:absolute;top:0;bottom:0;right:0;left:0;}&lt;/style&gt;\n",
       "    &lt;script src=&quot;https://cdn.jsdelivr.net/npm/leaflet@1.6.0/dist/leaflet.js&quot;&gt;&lt;/script&gt;\n",
       "    &lt;script src=&quot;https://code.jquery.com/jquery-1.12.4.min.js&quot;&gt;&lt;/script&gt;\n",
       "    &lt;script src=&quot;https://maxcdn.bootstrapcdn.com/bootstrap/3.2.0/js/bootstrap.min.js&quot;&gt;&lt;/script&gt;\n",
       "    &lt;script src=&quot;https://cdnjs.cloudflare.com/ajax/libs/Leaflet.awesome-markers/2.0.2/leaflet.awesome-markers.js&quot;&gt;&lt;/script&gt;\n",
       "    &lt;link rel=&quot;stylesheet&quot; href=&quot;https://cdn.jsdelivr.net/npm/leaflet@1.6.0/dist/leaflet.css&quot;/&gt;\n",
       "    &lt;link rel=&quot;stylesheet&quot; href=&quot;https://maxcdn.bootstrapcdn.com/bootstrap/3.2.0/css/bootstrap.min.css&quot;/&gt;\n",
       "    &lt;link rel=&quot;stylesheet&quot; href=&quot;https://maxcdn.bootstrapcdn.com/bootstrap/3.2.0/css/bootstrap-theme.min.css&quot;/&gt;\n",
       "    &lt;link rel=&quot;stylesheet&quot; href=&quot;https://maxcdn.bootstrapcdn.com/font-awesome/4.6.3/css/font-awesome.min.css&quot;/&gt;\n",
       "    &lt;link rel=&quot;stylesheet&quot; href=&quot;https://cdnjs.cloudflare.com/ajax/libs/Leaflet.awesome-markers/2.0.2/leaflet.awesome-markers.css&quot;/&gt;\n",
       "    &lt;link rel=&quot;stylesheet&quot; href=&quot;https://cdn.jsdelivr.net/gh/python-visualization/folium/folium/templates/leaflet.awesome.rotate.min.css&quot;/&gt;\n",
       "    \n",
       "            &lt;meta name=&quot;viewport&quot; content=&quot;width=device-width,\n",
       "                initial-scale=1.0, maximum-scale=1.0, user-scalable=no&quot; /&gt;\n",
       "            &lt;style&gt;\n",
       "                #map_7eb9dca45cc6bac51da21a2a40b57d35 {\n",
       "                    position: relative;\n",
       "                    width: 100.0%;\n",
       "                    height: 100.0%;\n",
       "                    left: 0.0%;\n",
       "                    top: 0.0%;\n",
       "                }\n",
       "            &lt;/style&gt;\n",
       "        \n",
       "    &lt;script src=&quot;https://cdnjs.cloudflare.com/ajax/libs/leaflet-minimap/3.6.1/Control.MiniMap.js&quot;&gt;&lt;/script&gt;\n",
       "    &lt;link rel=&quot;stylesheet&quot; href=&quot;https://cdnjs.cloudflare.com/ajax/libs/leaflet-minimap/3.6.1/Control.MiniMap.css&quot;/&gt;\n",
       "&lt;/head&gt;\n",
       "&lt;body&gt;    \n",
       "    \n",
       "            &lt;div class=&quot;folium-map&quot; id=&quot;map_7eb9dca45cc6bac51da21a2a40b57d35&quot; &gt;&lt;/div&gt;\n",
       "        \n",
       "&lt;/body&gt;\n",
       "&lt;script&gt;    \n",
       "    \n",
       "            var map_7eb9dca45cc6bac51da21a2a40b57d35 = L.map(\n",
       "                &quot;map_7eb9dca45cc6bac51da21a2a40b57d35&quot;,\n",
       "                {\n",
       "                    center: [37.5594592641306, 126.944732224555],\n",
       "                    crs: L.CRS.EPSG3857,\n",
       "                    zoom: 15,\n",
       "                    zoomControl: true,\n",
       "                    preferCanvas: false,\n",
       "                }\n",
       "            );\n",
       "\n",
       "            \n",
       "\n",
       "        \n",
       "    \n",
       "            var tile_layer_963cf1e17256d54ad6351140ed3aa76f = L.tileLayer(\n",
       "                &quot;https://{s}.tile.openstreetmap.org/{z}/{x}/{y}.png&quot;,\n",
       "                {&quot;attribution&quot;: &quot;Data by \\u0026copy; \\u003ca href=\\&quot;http://openstreetmap.org\\&quot;\\u003eOpenStreetMap\\u003c/a\\u003e, under \\u003ca href=\\&quot;http://www.openstreetmap.org/copyright\\&quot;\\u003eODbL\\u003c/a\\u003e.&quot;, &quot;detectRetina&quot;: false, &quot;maxNativeZoom&quot;: 18, &quot;maxZoom&quot;: 18, &quot;minZoom&quot;: 0, &quot;noWrap&quot;: false, &quot;opacity&quot;: 1, &quot;subdomains&quot;: &quot;abc&quot;, &quot;tms&quot;: false}\n",
       "            ).addTo(map_7eb9dca45cc6bac51da21a2a40b57d35);\n",
       "        \n",
       "    \n",
       "            var tile_layer_11beddf3c324c45eb46752471283196b = L.tileLayer(\n",
       "                &quot;https://{s}.tile.openstreetmap.org/{z}/{x}/{y}.png&quot;,\n",
       "                {&quot;attribution&quot;: &quot;Data by \\u0026copy; \\u003ca href=\\&quot;http://openstreetmap.org\\&quot;\\u003eOpenStreetMap\\u003c/a\\u003e, under \\u003ca href=\\&quot;http://www.openstreetmap.org/copyright\\&quot;\\u003eODbL\\u003c/a\\u003e.&quot;, &quot;detectRetina&quot;: false, &quot;maxNativeZoom&quot;: 18, &quot;maxZoom&quot;: 18, &quot;minZoom&quot;: 0, &quot;noWrap&quot;: false, &quot;opacity&quot;: 1, &quot;subdomains&quot;: &quot;abc&quot;, &quot;tms&quot;: false}\n",
       "            );\n",
       "            var mini_map_076334f54d57227b4f066aa10e7af3bb = new L.Control.MiniMap(\n",
       "                tile_layer_11beddf3c324c45eb46752471283196b,\n",
       "                {&quot;autoToggleDisplay&quot;: false, &quot;centerFixed&quot;: false, &quot;collapsedHeight&quot;: 25, &quot;collapsedWidth&quot;: 25, &quot;height&quot;: 150, &quot;minimized&quot;: false, &quot;position&quot;: &quot;bottomright&quot;, &quot;toggleDisplay&quot;: false, &quot;width&quot;: 150, &quot;zoomAnimation&quot;: false, &quot;zoomLevelOffset&quot;: -5}\n",
       "            );\n",
       "            map_7eb9dca45cc6bac51da21a2a40b57d35.addControl(mini_map_076334f54d57227b4f066aa10e7af3bb);\n",
       "        \n",
       "    \n",
       "            var marker_3ac536a97e6ea4585b6f00d005a6227e = L.marker(\n",
       "                [37.5594592641306, 126.944732224555],\n",
       "                {}\n",
       "            ).addTo(map_7eb9dca45cc6bac51da21a2a40b57d35);\n",
       "        \n",
       "    \n",
       "            var icon_1af710a462ad070384765d3180bfbb45 = L.AwesomeMarkers.icon(\n",
       "                {&quot;extraClasses&quot;: &quot;fa-rotate-0&quot;, &quot;icon&quot;: &quot;info-sign&quot;, &quot;iconColor&quot;: &quot;white&quot;, &quot;markerColor&quot;: &quot;red&quot;, &quot;prefix&quot;: &quot;glyphicon&quot;}\n",
       "            );\n",
       "            marker_3ac536a97e6ea4585b6f00d005a6227e.setIcon(icon_1af710a462ad070384765d3180bfbb45);\n",
       "        \n",
       "    \n",
       "        var popup_5ec3cf42882461bf17bf4d5ea7a6bdb1 = L.popup({&quot;maxWidth&quot;: 300, &quot;minWidth&quot;: 100});\n",
       "\n",
       "        \n",
       "            var html_df6ff732110d5e2cb46a213b6b6000cd = $(`&lt;div id=&quot;html_df6ff732110d5e2cb46a213b6b6000cd&quot; style=&quot;width: 100.0%; height: 100.0%;&quot;&gt;&lt;a href=https://map.naver.com/v5/search/%EC%9D%B4%EB%8C%80%20%EB%A7%9B%EC%A7%91/place/37792625?c=14130771.0604544,4517697.9652139,14,0,0,0,dh&amp;placePath=%3Fentry%253Dbmp target=&#x27;_blank&#x27;&gt;                     위샐러듀 이대점&lt;/a&gt; 리뷰 수: 5802&lt;br&gt;                     리뷰: [&#x27;&quot;음식이 맛있어요&quot;&#x27;, &#x27;&quot;재료가 신선해요&quot;&#x27;, &#x27;&quot;특별한 메뉴가 있어요&quot;&#x27;, &#x27;&quot;인테리어가 멋져요&quot;&#x27;, &#x27;&quot;친절해요&quot;&#x27;]&lt;br&gt;&lt;/div&gt;`)[0];\n",
       "            popup_5ec3cf42882461bf17bf4d5ea7a6bdb1.setContent(html_df6ff732110d5e2cb46a213b6b6000cd);\n",
       "        \n",
       "\n",
       "        marker_3ac536a97e6ea4585b6f00d005a6227e.bindPopup(popup_5ec3cf42882461bf17bf4d5ea7a6bdb1)\n",
       "        ;\n",
       "\n",
       "        \n",
       "    \n",
       "    \n",
       "            marker_3ac536a97e6ea4585b6f00d005a6227e.bindTooltip(\n",
       "                `&lt;div&gt;\n",
       "                     위샐러듀 이대점\n",
       "                 &lt;/div&gt;`,\n",
       "                {&quot;sticky&quot;: true}\n",
       "            );\n",
       "        \n",
       "    \n",
       "            var marker_8f889bc6e8e206ed27d43c37f26f1b3f = L.marker(\n",
       "                [37.5682239892832, 126.930748718394],\n",
       "                {}\n",
       "            ).addTo(map_7eb9dca45cc6bac51da21a2a40b57d35);\n",
       "        \n",
       "    \n",
       "            var icon_35661a9cfebd752f4dbe2a41c996882c = L.AwesomeMarkers.icon(\n",
       "                {&quot;extraClasses&quot;: &quot;fa-rotate-0&quot;, &quot;icon&quot;: &quot;info-sign&quot;, &quot;iconColor&quot;: &quot;white&quot;, &quot;markerColor&quot;: &quot;red&quot;, &quot;prefix&quot;: &quot;glyphicon&quot;}\n",
       "            );\n",
       "            marker_8f889bc6e8e206ed27d43c37f26f1b3f.setIcon(icon_35661a9cfebd752f4dbe2a41c996882c);\n",
       "        \n",
       "    \n",
       "        var popup_59acd0b4f4f7488f1d3ec0a622ced905 = L.popup({&quot;maxWidth&quot;: 300, &quot;minWidth&quot;: 100});\n",
       "\n",
       "        \n",
       "            var html_7ec52ba3e92e6471e9331931be68d3f6 = $(`&lt;div id=&quot;html_7ec52ba3e92e6471e9331931be68d3f6&quot; style=&quot;width: 100.0%; height: 100.0%;&quot;&gt;&lt;a href=https://map.naver.com/v5/search/%EC%9D%B4%EB%8C%80%20%EB%A7%9B%EC%A7%91/place/11727641?c=14130771.0604544,4517697.9652139,14,0,0,0,dh&amp;placePath=%3Fentry%253Dbmp target=&#x27;_blank&#x27;&gt;                     연희동칼국수 본점&lt;/a&gt; 리뷰 수: 3935&lt;br&gt;                     리뷰: [&#x27;&quot;음식이 맛있어요&quot;&#x27;, &#x27;&quot;주차하기 편해요&quot;&#x27;, &#x27;&quot;친절해요&quot;&#x27;, &#x27;&quot;양이 많아요&quot;&#x27;, &#x27;&quot;재료가 신선해요&quot;&#x27;]&lt;br&gt;&lt;/div&gt;`)[0];\n",
       "            popup_59acd0b4f4f7488f1d3ec0a622ced905.setContent(html_7ec52ba3e92e6471e9331931be68d3f6);\n",
       "        \n",
       "\n",
       "        marker_8f889bc6e8e206ed27d43c37f26f1b3f.bindPopup(popup_59acd0b4f4f7488f1d3ec0a622ced905)\n",
       "        ;\n",
       "\n",
       "        \n",
       "    \n",
       "    \n",
       "            marker_8f889bc6e8e206ed27d43c37f26f1b3f.bindTooltip(\n",
       "                `&lt;div&gt;\n",
       "                     연희동칼국수 본점\n",
       "                 &lt;/div&gt;`,\n",
       "                {&quot;sticky&quot;: true}\n",
       "            );\n",
       "        \n",
       "    \n",
       "            var marker_126d0a42f28541f825dfb57aac1a8f7d = L.marker(\n",
       "                [37.558309895691, 126.945384976896],\n",
       "                {}\n",
       "            ).addTo(map_7eb9dca45cc6bac51da21a2a40b57d35);\n",
       "        \n",
       "    \n",
       "            var icon_bfc42e8348ee37c1382e4a9fe3bebcae = L.AwesomeMarkers.icon(\n",
       "                {&quot;extraClasses&quot;: &quot;fa-rotate-0&quot;, &quot;icon&quot;: &quot;info-sign&quot;, &quot;iconColor&quot;: &quot;white&quot;, &quot;markerColor&quot;: &quot;red&quot;, &quot;prefix&quot;: &quot;glyphicon&quot;}\n",
       "            );\n",
       "            marker_126d0a42f28541f825dfb57aac1a8f7d.setIcon(icon_bfc42e8348ee37c1382e4a9fe3bebcae);\n",
       "        \n",
       "    \n",
       "        var popup_be85077ce52cfb870d75bb77555c547f = L.popup({&quot;maxWidth&quot;: 300, &quot;minWidth&quot;: 100});\n",
       "\n",
       "        \n",
       "            var html_f81270f3413015022d5022ca5e2fec5a = $(`&lt;div id=&quot;html_f81270f3413015022d5022ca5e2fec5a&quot; style=&quot;width: 100.0%; height: 100.0%;&quot;&gt;&lt;a href=https://map.naver.com/v5/search/%EC%9D%B4%EB%8C%80%20%EB%A7%9B%EC%A7%91/place/37637684?c=14130771.0604544,4517697.9652139,14,0,0,0,dh&amp;placePath=%3Fentry%253Dbmp target=&#x27;_blank&#x27;&gt;                     마더린러베이글&lt;/a&gt; 리뷰 수: 2231&lt;br&gt;                     리뷰: [&#x27;&quot;빵이 맛있어요&quot;&#x27;, &#x27;&quot;특별한 메뉴가 있어요&quot;&#x27;, &#x27;&quot;친절해요&quot;&#x27;, &#x27;&quot;매장이 청결해요&quot;&#x27;, &#x27;&quot;가성비가 좋아요&quot;&#x27;]&lt;br&gt;&lt;/div&gt;`)[0];\n",
       "            popup_be85077ce52cfb870d75bb77555c547f.setContent(html_f81270f3413015022d5022ca5e2fec5a);\n",
       "        \n",
       "\n",
       "        marker_126d0a42f28541f825dfb57aac1a8f7d.bindPopup(popup_be85077ce52cfb870d75bb77555c547f)\n",
       "        ;\n",
       "\n",
       "        \n",
       "    \n",
       "    \n",
       "            marker_126d0a42f28541f825dfb57aac1a8f7d.bindTooltip(\n",
       "                `&lt;div&gt;\n",
       "                     마더린러베이글\n",
       "                 &lt;/div&gt;`,\n",
       "                {&quot;sticky&quot;: true}\n",
       "            );\n",
       "        \n",
       "    \n",
       "            var marker_02c88df87cfdf46097ae61748979f6e0 = L.marker(\n",
       "                [37.55906291657092, 126.94492718486593],\n",
       "                {}\n",
       "            ).addTo(map_7eb9dca45cc6bac51da21a2a40b57d35);\n",
       "        \n",
       "    \n",
       "            var icon_7c44754257c4dc8ee8a7501054b3ed56 = L.AwesomeMarkers.icon(\n",
       "                {&quot;extraClasses&quot;: &quot;fa-rotate-0&quot;, &quot;icon&quot;: &quot;info-sign&quot;, &quot;iconColor&quot;: &quot;white&quot;, &quot;markerColor&quot;: &quot;red&quot;, &quot;prefix&quot;: &quot;glyphicon&quot;}\n",
       "            );\n",
       "            marker_02c88df87cfdf46097ae61748979f6e0.setIcon(icon_7c44754257c4dc8ee8a7501054b3ed56);\n",
       "        \n",
       "    \n",
       "        var popup_31e9491e045e9a35027bfb010ece1068 = L.popup({&quot;maxWidth&quot;: 300, &quot;minWidth&quot;: 100});\n",
       "\n",
       "        \n",
       "            var html_22aab06c0685dd1c1e8c7d288a0101e1 = $(`&lt;div id=&quot;html_22aab06c0685dd1c1e8c7d288a0101e1&quot; style=&quot;width: 100.0%; height: 100.0%;&quot;&gt;&lt;a href=https://map.naver.com/v5/search/%EC%9D%B4%EB%8C%80%20%EB%A7%9B%EC%A7%91/place/13155014?c=14130771.0604544,4517697.9652139,14,0,0,0,dh&amp;placePath=%3Fentry%253Dbmp target=&#x27;_blank&#x27;&gt;                     아건 이대점&lt;/a&gt; 리뷰 수: 2139&lt;br&gt;                     리뷰: [&#x27;&quot;음식이 맛있어요&quot;&#x27;, &#x27;&quot;친절해요&quot;&#x27;, &#x27;&quot;특별한 메뉴가 있어요&quot;&#x27;, &#x27;&quot;가성비가 좋아요&quot;&#x27;, &#x27;&quot;양이 많아요&quot;&#x27;]&lt;br&gt;&lt;/div&gt;`)[0];\n",
       "            popup_31e9491e045e9a35027bfb010ece1068.setContent(html_22aab06c0685dd1c1e8c7d288a0101e1);\n",
       "        \n",
       "\n",
       "        marker_02c88df87cfdf46097ae61748979f6e0.bindPopup(popup_31e9491e045e9a35027bfb010ece1068)\n",
       "        ;\n",
       "\n",
       "        \n",
       "    \n",
       "    \n",
       "            marker_02c88df87cfdf46097ae61748979f6e0.bindTooltip(\n",
       "                `&lt;div&gt;\n",
       "                     아건 이대점\n",
       "                 &lt;/div&gt;`,\n",
       "                {&quot;sticky&quot;: true}\n",
       "            );\n",
       "        \n",
       "    \n",
       "            var marker_59579d496c8fd90be16e94ebb9da23bd = L.marker(\n",
       "                [37.56838240474039, 126.93047690875805],\n",
       "                {}\n",
       "            ).addTo(map_7eb9dca45cc6bac51da21a2a40b57d35);\n",
       "        \n",
       "    \n",
       "            var icon_93f36b241869795ab902035c7a6dc3b7 = L.AwesomeMarkers.icon(\n",
       "                {&quot;extraClasses&quot;: &quot;fa-rotate-0&quot;, &quot;icon&quot;: &quot;info-sign&quot;, &quot;iconColor&quot;: &quot;white&quot;, &quot;markerColor&quot;: &quot;red&quot;, &quot;prefix&quot;: &quot;glyphicon&quot;}\n",
       "            );\n",
       "            marker_59579d496c8fd90be16e94ebb9da23bd.setIcon(icon_93f36b241869795ab902035c7a6dc3b7);\n",
       "        \n",
       "    \n",
       "        var popup_16ce2fd694acfea6a1b7c8c107b5d5fe = L.popup({&quot;maxWidth&quot;: 300, &quot;minWidth&quot;: 100});\n",
       "\n",
       "        \n",
       "            var html_08cae695870b9cc60f7a94adb3f6baff = $(`&lt;div id=&quot;html_08cae695870b9cc60f7a94adb3f6baff&quot; style=&quot;width: 100.0%; height: 100.0%;&quot;&gt;&lt;a href=https://map.naver.com/v5/search/%EC%9D%B4%EB%8C%80%20%EB%A7%9B%EC%A7%91/place/11880458?c=14130771.0604544,4517697.9652139,14,0,0,0,dh&amp;placePath=%3Fentry%253Dbmp target=&#x27;_blank&#x27;&gt;                     목란&lt;/a&gt; 리뷰 수: 2103&lt;br&gt;                     리뷰: [&#x27;&quot;음식이 맛있어요&quot;&#x27;, &#x27;&quot;친절해요&quot;&#x27;, &#x27;&quot;특별한 메뉴가 있어요&quot;&#x27;, &#x27;&quot;재료가 신선해요&quot;&#x27;, &#x27;&quot;특별한 날 가기 좋아요&quot;&#x27;]&lt;br&gt;&lt;/div&gt;`)[0];\n",
       "            popup_16ce2fd694acfea6a1b7c8c107b5d5fe.setContent(html_08cae695870b9cc60f7a94adb3f6baff);\n",
       "        \n",
       "\n",
       "        marker_59579d496c8fd90be16e94ebb9da23bd.bindPopup(popup_16ce2fd694acfea6a1b7c8c107b5d5fe)\n",
       "        ;\n",
       "\n",
       "        \n",
       "    \n",
       "    \n",
       "            marker_59579d496c8fd90be16e94ebb9da23bd.bindTooltip(\n",
       "                `&lt;div&gt;\n",
       "                     목란\n",
       "                 &lt;/div&gt;`,\n",
       "                {&quot;sticky&quot;: true}\n",
       "            );\n",
       "        \n",
       "    \n",
       "            var marker_276e30976ebc210eb7ac5de59fc81bc4 = L.marker(\n",
       "                [37.558918423412536, 126.94052464390788],\n",
       "                {}\n",
       "            ).addTo(map_7eb9dca45cc6bac51da21a2a40b57d35);\n",
       "        \n",
       "    \n",
       "            var icon_7eb29e51cbe0a0c4b31f49b7f8046b3c = L.AwesomeMarkers.icon(\n",
       "                {&quot;extraClasses&quot;: &quot;fa-rotate-0&quot;, &quot;icon&quot;: &quot;info-sign&quot;, &quot;iconColor&quot;: &quot;white&quot;, &quot;markerColor&quot;: &quot;red&quot;, &quot;prefix&quot;: &quot;glyphicon&quot;}\n",
       "            );\n",
       "            marker_276e30976ebc210eb7ac5de59fc81bc4.setIcon(icon_7eb29e51cbe0a0c4b31f49b7f8046b3c);\n",
       "        \n",
       "    \n",
       "        var popup_04d939faf4cf39957254bf3d78d038c2 = L.popup({&quot;maxWidth&quot;: 300, &quot;minWidth&quot;: 100});\n",
       "\n",
       "        \n",
       "            var html_76a61c15695b61592d9910774a0d0b2c = $(`&lt;div id=&quot;html_76a61c15695b61592d9910774a0d0b2c&quot; style=&quot;width: 100.0%; height: 100.0%;&quot;&gt;&lt;a href=https://map.naver.com/v5/search/%EC%9D%B4%EB%8C%80%20%EB%A7%9B%EC%A7%91/place/31394999?c=14130771.0604544,4517697.9652139,14,0,0,0,dh&amp;placePath=%3Fentry%253Dbmp target=&#x27;_blank&#x27;&gt;                     호밀밭&lt;/a&gt; 리뷰 수: 1962&lt;br&gt;                     리뷰: [&#x27;&quot;디저트가 맛있어요&quot;&#x27;, &#x27;&quot;특별한 메뉴가 있어요&quot;&#x27;, &#x27;&quot;가성비가 좋아요&quot;&#x27;, &#x27;&quot;친절해요&quot;&#x27;, &#x27;&quot;커피가 맛있어요&quot;&#x27;]&lt;br&gt;&lt;/div&gt;`)[0];\n",
       "            popup_04d939faf4cf39957254bf3d78d038c2.setContent(html_76a61c15695b61592d9910774a0d0b2c);\n",
       "        \n",
       "\n",
       "        marker_276e30976ebc210eb7ac5de59fc81bc4.bindPopup(popup_04d939faf4cf39957254bf3d78d038c2)\n",
       "        ;\n",
       "\n",
       "        \n",
       "    \n",
       "    \n",
       "            marker_276e30976ebc210eb7ac5de59fc81bc4.bindTooltip(\n",
       "                `&lt;div&gt;\n",
       "                     호밀밭\n",
       "                 &lt;/div&gt;`,\n",
       "                {&quot;sticky&quot;: true}\n",
       "            );\n",
       "        \n",
       "    \n",
       "            var marker_1cea959f2e581d3a9117388897529a46 = L.marker(\n",
       "                [37.5585538958815, 126.943116710815],\n",
       "                {}\n",
       "            ).addTo(map_7eb9dca45cc6bac51da21a2a40b57d35);\n",
       "        \n",
       "    \n",
       "            var icon_3c6da0e08bdcad0a75bda116ae80d3af = L.AwesomeMarkers.icon(\n",
       "                {&quot;extraClasses&quot;: &quot;fa-rotate-0&quot;, &quot;icon&quot;: &quot;info-sign&quot;, &quot;iconColor&quot;: &quot;white&quot;, &quot;markerColor&quot;: &quot;red&quot;, &quot;prefix&quot;: &quot;glyphicon&quot;}\n",
       "            );\n",
       "            marker_1cea959f2e581d3a9117388897529a46.setIcon(icon_3c6da0e08bdcad0a75bda116ae80d3af);\n",
       "        \n",
       "    \n",
       "        var popup_133e0efbb79df3c6662b5857abe5106a = L.popup({&quot;maxWidth&quot;: 300, &quot;minWidth&quot;: 100});\n",
       "\n",
       "        \n",
       "            var html_c068ff93b51491a9e6001218e90d673e = $(`&lt;div id=&quot;html_c068ff93b51491a9e6001218e90d673e&quot; style=&quot;width: 100.0%; height: 100.0%;&quot;&gt;&lt;a href=https://map.naver.com/v5/search/%EC%9D%B4%EB%8C%80%20%EB%A7%9B%EC%A7%91/place/36271566?c=14130771.0604544,4517697.9652139,14,0,0,0,dh&amp;placePath=%3Fentry%253Dbmp target=&#x27;_blank&#x27;&gt;                     비밀&lt;/a&gt; 리뷰 수: 1617&lt;br&gt;                     리뷰: [&#x27;&quot;빵이 맛있어요&quot;&#x27;, &#x27;&quot;특별한 메뉴가 있어요&quot;&#x27;, &#x27;&quot;친절해요&quot;&#x27;, &#x27;&quot;매장이 청결해요&quot;&#x27;, &#x27;&quot;가성비가 좋아요&quot;&#x27;]&lt;br&gt;&lt;/div&gt;`)[0];\n",
       "            popup_133e0efbb79df3c6662b5857abe5106a.setContent(html_c068ff93b51491a9e6001218e90d673e);\n",
       "        \n",
       "\n",
       "        marker_1cea959f2e581d3a9117388897529a46.bindPopup(popup_133e0efbb79df3c6662b5857abe5106a)\n",
       "        ;\n",
       "\n",
       "        \n",
       "    \n",
       "    \n",
       "            marker_1cea959f2e581d3a9117388897529a46.bindTooltip(\n",
       "                `&lt;div&gt;\n",
       "                     비밀\n",
       "                 &lt;/div&gt;`,\n",
       "                {&quot;sticky&quot;: true}\n",
       "            );\n",
       "        \n",
       "    \n",
       "            var marker_0d6d57a09e01b62d5948df61ed12c4de = L.marker(\n",
       "                [37.5581661536053, 126.94629502857],\n",
       "                {}\n",
       "            ).addTo(map_7eb9dca45cc6bac51da21a2a40b57d35);\n",
       "        \n",
       "    \n",
       "            var icon_1c56bd84ce3e7cf8362dbff9984ae975 = L.AwesomeMarkers.icon(\n",
       "                {&quot;extraClasses&quot;: &quot;fa-rotate-0&quot;, &quot;icon&quot;: &quot;info-sign&quot;, &quot;iconColor&quot;: &quot;white&quot;, &quot;markerColor&quot;: &quot;red&quot;, &quot;prefix&quot;: &quot;glyphicon&quot;}\n",
       "            );\n",
       "            marker_0d6d57a09e01b62d5948df61ed12c4de.setIcon(icon_1c56bd84ce3e7cf8362dbff9984ae975);\n",
       "        \n",
       "    \n",
       "        var popup_f7ba2fd1c8dcf899b40a92c554964029 = L.popup({&quot;maxWidth&quot;: 300, &quot;minWidth&quot;: 100});\n",
       "\n",
       "        \n",
       "            var html_55b67bc52b6291a16c2353ed78c20f9e = $(`&lt;div id=&quot;html_55b67bc52b6291a16c2353ed78c20f9e&quot; style=&quot;width: 100.0%; height: 100.0%;&quot;&gt;&lt;a href=https://map.naver.com/v5/search/%EC%9D%B4%EB%8C%80%20%EB%A7%9B%EC%A7%91/place/34403561?c=14130771.0604544,4517697.9652139,14,0,0,0,dh&amp;placePath=%3Fentry%253Dbmp target=&#x27;_blank&#x27;&gt;                     란주탕슉&lt;/a&gt; 리뷰 수: 1519&lt;br&gt;                     리뷰: [&#x27;&quot;음식이 맛있어요&quot;&#x27;, &#x27;&quot;특별한 메뉴가 있어요&quot;&#x27;, &#x27;&quot;양이 많아요&quot;&#x27;, &#x27;&quot;친절해요&quot;&#x27;, &#x27;&quot;재료가 신선해요&quot;&#x27;]&lt;br&gt;&lt;/div&gt;`)[0];\n",
       "            popup_f7ba2fd1c8dcf899b40a92c554964029.setContent(html_55b67bc52b6291a16c2353ed78c20f9e);\n",
       "        \n",
       "\n",
       "        marker_0d6d57a09e01b62d5948df61ed12c4de.bindPopup(popup_f7ba2fd1c8dcf899b40a92c554964029)\n",
       "        ;\n",
       "\n",
       "        \n",
       "    \n",
       "    \n",
       "            marker_0d6d57a09e01b62d5948df61ed12c4de.bindTooltip(\n",
       "                `&lt;div&gt;\n",
       "                     란주탕슉\n",
       "                 &lt;/div&gt;`,\n",
       "                {&quot;sticky&quot;: true}\n",
       "            );\n",
       "        \n",
       "    \n",
       "            var marker_c502580d87012c1d536bdf7d8ff9b3ff = L.marker(\n",
       "                [37.557169356192, 126.941868300831],\n",
       "                {}\n",
       "            ).addTo(map_7eb9dca45cc6bac51da21a2a40b57d35);\n",
       "        \n",
       "    \n",
       "            var icon_4e5855854c3bc50df3215abd8bfa0b89 = L.AwesomeMarkers.icon(\n",
       "                {&quot;extraClasses&quot;: &quot;fa-rotate-0&quot;, &quot;icon&quot;: &quot;info-sign&quot;, &quot;iconColor&quot;: &quot;white&quot;, &quot;markerColor&quot;: &quot;red&quot;, &quot;prefix&quot;: &quot;glyphicon&quot;}\n",
       "            );\n",
       "            marker_c502580d87012c1d536bdf7d8ff9b3ff.setIcon(icon_4e5855854c3bc50df3215abd8bfa0b89);\n",
       "        \n",
       "    \n",
       "        var popup_06e32e1a61b9523d1079c54ce4f1090f = L.popup({&quot;maxWidth&quot;: 300, &quot;minWidth&quot;: 100});\n",
       "\n",
       "        \n",
       "            var html_a95960500b66f49834ab99f502079416 = $(`&lt;div id=&quot;html_a95960500b66f49834ab99f502079416&quot; style=&quot;width: 100.0%; height: 100.0%;&quot;&gt;&lt;a href=https://map.naver.com/v5/search/%EC%9D%B4%EB%8C%80%20%EB%A7%9B%EC%A7%91/place/36860497?c=14130771.0604544,4517697.9652139,14,0,0,0,dh&amp;placePath=%3Fentry%253Dbmp target=&#x27;_blank&#x27;&gt;                     방콕익스프레스 신촌본점&lt;/a&gt; 리뷰 수: 1509&lt;br&gt;                     리뷰: [&#x27;&quot;음식이 맛있어요&quot;&#x27;, &#x27;&quot;양이 많아요&quot;&#x27;, &#x27;&quot;가성비가 좋아요&quot;&#x27;, &#x27;&quot;특별한 메뉴가 있어요&quot;&#x27;, &#x27;&quot;친절해요&quot;&#x27;]&lt;br&gt;&lt;/div&gt;`)[0];\n",
       "            popup_06e32e1a61b9523d1079c54ce4f1090f.setContent(html_a95960500b66f49834ab99f502079416);\n",
       "        \n",
       "\n",
       "        marker_c502580d87012c1d536bdf7d8ff9b3ff.bindPopup(popup_06e32e1a61b9523d1079c54ce4f1090f)\n",
       "        ;\n",
       "\n",
       "        \n",
       "    \n",
       "    \n",
       "            marker_c502580d87012c1d536bdf7d8ff9b3ff.bindTooltip(\n",
       "                `&lt;div&gt;\n",
       "                     방콕익스프레스 신촌본점\n",
       "                 &lt;/div&gt;`,\n",
       "                {&quot;sticky&quot;: true}\n",
       "            );\n",
       "        \n",
       "    \n",
       "            var marker_5b41847a9a54f15b2862ef7876ee6ed0 = L.marker(\n",
       "                [37.5570648016113, 126.941972390604],\n",
       "                {}\n",
       "            ).addTo(map_7eb9dca45cc6bac51da21a2a40b57d35);\n",
       "        \n",
       "    \n",
       "            var icon_1e5ae644544a8c5700090362522ab11b = L.AwesomeMarkers.icon(\n",
       "                {&quot;extraClasses&quot;: &quot;fa-rotate-0&quot;, &quot;icon&quot;: &quot;info-sign&quot;, &quot;iconColor&quot;: &quot;white&quot;, &quot;markerColor&quot;: &quot;red&quot;, &quot;prefix&quot;: &quot;glyphicon&quot;}\n",
       "            );\n",
       "            marker_5b41847a9a54f15b2862ef7876ee6ed0.setIcon(icon_1e5ae644544a8c5700090362522ab11b);\n",
       "        \n",
       "    \n",
       "        var popup_920454e29c0a6ba3dff6abb7e97a568e = L.popup({&quot;maxWidth&quot;: 300, &quot;minWidth&quot;: 100});\n",
       "\n",
       "        \n",
       "            var html_0137aaf2723fb551f3af5d4d23fa7a28 = $(`&lt;div id=&quot;html_0137aaf2723fb551f3af5d4d23fa7a28&quot; style=&quot;width: 100.0%; height: 100.0%;&quot;&gt;&lt;a href=https://map.naver.com/v5/search/%EC%9D%B4%EB%8C%80%20%EB%A7%9B%EC%A7%91/place/1221500434?c=14130771.0604544,4517697.9652139,14,0,0,0,dh&amp;placePath=%3Fentry%253Dbmp target=&#x27;_blank&#x27;&gt;                     연어초밥&lt;/a&gt; 리뷰 수: 1483&lt;br&gt;                     리뷰: [&#x27;&quot;음식이 맛있어요&quot;&#x27;, &#x27;&quot;가성비가 좋아요&quot;&#x27;, &#x27;&quot;친절해요&quot;&#x27;, &#x27;&quot;재료가 신선해요&quot;&#x27;, &#x27;&quot;혼밥하기 좋아요&quot;&#x27;]&lt;br&gt;&lt;/div&gt;`)[0];\n",
       "            popup_920454e29c0a6ba3dff6abb7e97a568e.setContent(html_0137aaf2723fb551f3af5d4d23fa7a28);\n",
       "        \n",
       "\n",
       "        marker_5b41847a9a54f15b2862ef7876ee6ed0.bindPopup(popup_920454e29c0a6ba3dff6abb7e97a568e)\n",
       "        ;\n",
       "\n",
       "        \n",
       "    \n",
       "    \n",
       "            marker_5b41847a9a54f15b2862ef7876ee6ed0.bindTooltip(\n",
       "                `&lt;div&gt;\n",
       "                     연어초밥\n",
       "                 &lt;/div&gt;`,\n",
       "                {&quot;sticky&quot;: true}\n",
       "            );\n",
       "        \n",
       "&lt;/script&gt;\" style=\"position:absolute;width:100%;height:100%;left:0;top:0;border:none !important;\" allowfullscreen webkitallowfullscreen mozallowfullscreen></iframe></div></div>"
      ],
      "text/plain": [
       "<folium.folium.Map at 0x18eba9691f0>"
      ]
     },
     "execution_count": 801,
     "metadata": {},
     "output_type": "execute_result"
    }
   ],
   "source": [
    "make_map_rv(rv_upper)"
   ]
  },
  {
   "cell_type": "markdown",
   "id": "ff42b582-9381-42c5-97be-8356b4f1a8ec",
   "metadata": {},
   "source": [
    "## 겹치는 장소 지도"
   ]
  },
  {
   "cell_type": "code",
   "execution_count": 802,
   "id": "c260bd0c-d857-42a9-a8f3-aec946c94b9f",
   "metadata": {},
   "outputs": [],
   "source": [
    "def make_map_rv(dfs):\n",
    "    # 지도 생성하기\n",
    "    m = folium.Map(location=top.iloc[0][1:3],   # 기준좌표: 서울시청\n",
    "                   zoom_start=15)\n",
    "\n",
    "    # 미니맵 추가하기\n",
    "    minimap = MiniMap() \n",
    "    m.add_child(minimap)\n",
    "\n",
    "    # 마커 추가하기\n",
    "    for i in range(len(dfs)):\n",
    "        popup_text = f'''<a href={top.iloc[i].link} target='_blank'>\n",
    "                    {top.iloc[i]['식당이름']}</a> <br>\n",
    "                    별점: {top.iloc[i]['별점']}, 리뷰 수: {top.iloc[i]['리뷰수']}<br>\n",
    "                    리뷰: {top.iloc[i]['리뷰']}<br>'''\n",
    "\n",
    "        #팝업 크기 조절\n",
    "        popup = folium.Popup(popup_text, min_width=100, max_width=300)\n",
    "    \n",
    "        # 마커 생성\n",
    "        folium.Marker([top['위도'][i],top['경도'][i]],\n",
    "                  tooltip=top['식당이름'][i],\n",
    "                  popup=popup, \n",
    "                      icon=folium.Icon(color='red', icon='info-sign')).add_to(m)\n",
    "    return m"
   ]
  },
  {
   "cell_type": "code",
   "execution_count": 803,
   "id": "ad6f71e6-c452-4f56-8995-604db9150fc7",
   "metadata": {},
   "outputs": [
    {
     "data": {
      "text/html": [
       "<div style=\"width:100%;\"><div style=\"position:relative;width:100%;height:0;padding-bottom:60%;\"><span style=\"color:#565656\">Make this Notebook Trusted to load map: File -> Trust Notebook</span><iframe srcdoc=\"&lt;!DOCTYPE html&gt;\n",
       "&lt;head&gt;    \n",
       "    &lt;meta http-equiv=&quot;content-type&quot; content=&quot;text/html; charset=UTF-8&quot; /&gt;\n",
       "    \n",
       "        &lt;script&gt;\n",
       "            L_NO_TOUCH = false;\n",
       "            L_DISABLE_3D = false;\n",
       "        &lt;/script&gt;\n",
       "    \n",
       "    &lt;style&gt;html, body {width: 100%;height: 100%;margin: 0;padding: 0;}&lt;/style&gt;\n",
       "    &lt;style&gt;#map {position:absolute;top:0;bottom:0;right:0;left:0;}&lt;/style&gt;\n",
       "    &lt;script src=&quot;https://cdn.jsdelivr.net/npm/leaflet@1.6.0/dist/leaflet.js&quot;&gt;&lt;/script&gt;\n",
       "    &lt;script src=&quot;https://code.jquery.com/jquery-1.12.4.min.js&quot;&gt;&lt;/script&gt;\n",
       "    &lt;script src=&quot;https://maxcdn.bootstrapcdn.com/bootstrap/3.2.0/js/bootstrap.min.js&quot;&gt;&lt;/script&gt;\n",
       "    &lt;script src=&quot;https://cdnjs.cloudflare.com/ajax/libs/Leaflet.awesome-markers/2.0.2/leaflet.awesome-markers.js&quot;&gt;&lt;/script&gt;\n",
       "    &lt;link rel=&quot;stylesheet&quot; href=&quot;https://cdn.jsdelivr.net/npm/leaflet@1.6.0/dist/leaflet.css&quot;/&gt;\n",
       "    &lt;link rel=&quot;stylesheet&quot; href=&quot;https://maxcdn.bootstrapcdn.com/bootstrap/3.2.0/css/bootstrap.min.css&quot;/&gt;\n",
       "    &lt;link rel=&quot;stylesheet&quot; href=&quot;https://maxcdn.bootstrapcdn.com/bootstrap/3.2.0/css/bootstrap-theme.min.css&quot;/&gt;\n",
       "    &lt;link rel=&quot;stylesheet&quot; href=&quot;https://maxcdn.bootstrapcdn.com/font-awesome/4.6.3/css/font-awesome.min.css&quot;/&gt;\n",
       "    &lt;link rel=&quot;stylesheet&quot; href=&quot;https://cdnjs.cloudflare.com/ajax/libs/Leaflet.awesome-markers/2.0.2/leaflet.awesome-markers.css&quot;/&gt;\n",
       "    &lt;link rel=&quot;stylesheet&quot; href=&quot;https://cdn.jsdelivr.net/gh/python-visualization/folium/folium/templates/leaflet.awesome.rotate.min.css&quot;/&gt;\n",
       "    \n",
       "            &lt;meta name=&quot;viewport&quot; content=&quot;width=device-width,\n",
       "                initial-scale=1.0, maximum-scale=1.0, user-scalable=no&quot; /&gt;\n",
       "            &lt;style&gt;\n",
       "                #map_efe5569b2381f1c82273c25840845057 {\n",
       "                    position: relative;\n",
       "                    width: 100.0%;\n",
       "                    height: 100.0%;\n",
       "                    left: 0.0%;\n",
       "                    top: 0.0%;\n",
       "                }\n",
       "            &lt;/style&gt;\n",
       "        \n",
       "    &lt;script src=&quot;https://cdnjs.cloudflare.com/ajax/libs/leaflet-minimap/3.6.1/Control.MiniMap.js&quot;&gt;&lt;/script&gt;\n",
       "    &lt;link rel=&quot;stylesheet&quot; href=&quot;https://cdnjs.cloudflare.com/ajax/libs/leaflet-minimap/3.6.1/Control.MiniMap.css&quot;/&gt;\n",
       "&lt;/head&gt;\n",
       "&lt;body&gt;    \n",
       "    \n",
       "            &lt;div class=&quot;folium-map&quot; id=&quot;map_efe5569b2381f1c82273c25840845057&quot; &gt;&lt;/div&gt;\n",
       "        \n",
       "&lt;/body&gt;\n",
       "&lt;script&gt;    \n",
       "    \n",
       "            var map_efe5569b2381f1c82273c25840845057 = L.map(\n",
       "                &quot;map_efe5569b2381f1c82273c25840845057&quot;,\n",
       "                {\n",
       "                    center: [37.55906291657092, 126.94492718486593],\n",
       "                    crs: L.CRS.EPSG3857,\n",
       "                    zoom: 15,\n",
       "                    zoomControl: true,\n",
       "                    preferCanvas: false,\n",
       "                }\n",
       "            );\n",
       "\n",
       "            \n",
       "\n",
       "        \n",
       "    \n",
       "            var tile_layer_6cc7986fcf4613f1a50eedc37ff592ba = L.tileLayer(\n",
       "                &quot;https://{s}.tile.openstreetmap.org/{z}/{x}/{y}.png&quot;,\n",
       "                {&quot;attribution&quot;: &quot;Data by \\u0026copy; \\u003ca href=\\&quot;http://openstreetmap.org\\&quot;\\u003eOpenStreetMap\\u003c/a\\u003e, under \\u003ca href=\\&quot;http://www.openstreetmap.org/copyright\\&quot;\\u003eODbL\\u003c/a\\u003e.&quot;, &quot;detectRetina&quot;: false, &quot;maxNativeZoom&quot;: 18, &quot;maxZoom&quot;: 18, &quot;minZoom&quot;: 0, &quot;noWrap&quot;: false, &quot;opacity&quot;: 1, &quot;subdomains&quot;: &quot;abc&quot;, &quot;tms&quot;: false}\n",
       "            ).addTo(map_efe5569b2381f1c82273c25840845057);\n",
       "        \n",
       "    \n",
       "            var tile_layer_ef73427a9b3263ab1a7e4b4575c46985 = L.tileLayer(\n",
       "                &quot;https://{s}.tile.openstreetmap.org/{z}/{x}/{y}.png&quot;,\n",
       "                {&quot;attribution&quot;: &quot;Data by \\u0026copy; \\u003ca href=\\&quot;http://openstreetmap.org\\&quot;\\u003eOpenStreetMap\\u003c/a\\u003e, under \\u003ca href=\\&quot;http://www.openstreetmap.org/copyright\\&quot;\\u003eODbL\\u003c/a\\u003e.&quot;, &quot;detectRetina&quot;: false, &quot;maxNativeZoom&quot;: 18, &quot;maxZoom&quot;: 18, &quot;minZoom&quot;: 0, &quot;noWrap&quot;: false, &quot;opacity&quot;: 1, &quot;subdomains&quot;: &quot;abc&quot;, &quot;tms&quot;: false}\n",
       "            );\n",
       "            var mini_map_9f542a6fb88769d6a8d8a76c6fa13806 = new L.Control.MiniMap(\n",
       "                tile_layer_ef73427a9b3263ab1a7e4b4575c46985,\n",
       "                {&quot;autoToggleDisplay&quot;: false, &quot;centerFixed&quot;: false, &quot;collapsedHeight&quot;: 25, &quot;collapsedWidth&quot;: 25, &quot;height&quot;: 150, &quot;minimized&quot;: false, &quot;position&quot;: &quot;bottomright&quot;, &quot;toggleDisplay&quot;: false, &quot;width&quot;: 150, &quot;zoomAnimation&quot;: false, &quot;zoomLevelOffset&quot;: -5}\n",
       "            );\n",
       "            map_efe5569b2381f1c82273c25840845057.addControl(mini_map_9f542a6fb88769d6a8d8a76c6fa13806);\n",
       "        \n",
       "    \n",
       "            var marker_0f0efa90bc3a15019e95a07703379fbd = L.marker(\n",
       "                [37.55906291657092, 126.94492718486593],\n",
       "                {}\n",
       "            ).addTo(map_efe5569b2381f1c82273c25840845057);\n",
       "        \n",
       "    \n",
       "            var icon_2e5dad6e0e3d69c36820e132e8f665cd = L.AwesomeMarkers.icon(\n",
       "                {&quot;extraClasses&quot;: &quot;fa-rotate-0&quot;, &quot;icon&quot;: &quot;info-sign&quot;, &quot;iconColor&quot;: &quot;white&quot;, &quot;markerColor&quot;: &quot;red&quot;, &quot;prefix&quot;: &quot;glyphicon&quot;}\n",
       "            );\n",
       "            marker_0f0efa90bc3a15019e95a07703379fbd.setIcon(icon_2e5dad6e0e3d69c36820e132e8f665cd);\n",
       "        \n",
       "    \n",
       "        var popup_e8f6ee766f2863164f1823a16284ca28 = L.popup({&quot;maxWidth&quot;: 300, &quot;minWidth&quot;: 100});\n",
       "\n",
       "        \n",
       "            var html_3f5cf1d96ba2a647c1079647d15e6364 = $(`&lt;div id=&quot;html_3f5cf1d96ba2a647c1079647d15e6364&quot; style=&quot;width: 100.0%; height: 100.0%;&quot;&gt;&lt;a href=https://map.naver.com/v5/search/%EC%9D%B4%EB%8C%80%20%EB%A7%9B%EC%A7%91/place/13155014?c=14130771.0604544,4517697.9652139,14,0,0,0,dh&amp;placePath=%3Fentry%253Dbmp target=&#x27;_blank&#x27;&gt;                     아건 이대점&lt;/a&gt; &lt;br&gt;                     별점: 4.82, 리뷰 수: 2139&lt;br&gt;                     리뷰: [&#x27;&quot;음식이 맛있어요&quot;&#x27;, &#x27;&quot;친절해요&quot;&#x27;, &#x27;&quot;특별한 메뉴가 있어요&quot;&#x27;, &#x27;&quot;가성비가 좋아요&quot;&#x27;, &#x27;&quot;양이 많아요&quot;&#x27;]&lt;br&gt;&lt;/div&gt;`)[0];\n",
       "            popup_e8f6ee766f2863164f1823a16284ca28.setContent(html_3f5cf1d96ba2a647c1079647d15e6364);\n",
       "        \n",
       "\n",
       "        marker_0f0efa90bc3a15019e95a07703379fbd.bindPopup(popup_e8f6ee766f2863164f1823a16284ca28)\n",
       "        ;\n",
       "\n",
       "        \n",
       "    \n",
       "    \n",
       "            marker_0f0efa90bc3a15019e95a07703379fbd.bindTooltip(\n",
       "                `&lt;div&gt;\n",
       "                     아건 이대점\n",
       "                 &lt;/div&gt;`,\n",
       "                {&quot;sticky&quot;: true}\n",
       "            );\n",
       "        \n",
       "    \n",
       "            var marker_d7d652b91f8ae92cc754ba6393286eda = L.marker(\n",
       "                [37.5570648016113, 126.941972390604],\n",
       "                {}\n",
       "            ).addTo(map_efe5569b2381f1c82273c25840845057);\n",
       "        \n",
       "    \n",
       "            var icon_b44a4751a8cd71713b4f4be7a3fab1bd = L.AwesomeMarkers.icon(\n",
       "                {&quot;extraClasses&quot;: &quot;fa-rotate-0&quot;, &quot;icon&quot;: &quot;info-sign&quot;, &quot;iconColor&quot;: &quot;white&quot;, &quot;markerColor&quot;: &quot;red&quot;, &quot;prefix&quot;: &quot;glyphicon&quot;}\n",
       "            );\n",
       "            marker_d7d652b91f8ae92cc754ba6393286eda.setIcon(icon_b44a4751a8cd71713b4f4be7a3fab1bd);\n",
       "        \n",
       "    \n",
       "        var popup_4d64a4ab090d6b2333176f19e9668e95 = L.popup({&quot;maxWidth&quot;: 300, &quot;minWidth&quot;: 100});\n",
       "\n",
       "        \n",
       "            var html_a4981b347cea90ea0808327e5078dfb3 = $(`&lt;div id=&quot;html_a4981b347cea90ea0808327e5078dfb3&quot; style=&quot;width: 100.0%; height: 100.0%;&quot;&gt;&lt;a href=https://map.naver.com/v5/search/%EC%9D%B4%EB%8C%80%20%EB%A7%9B%EC%A7%91/place/1221500434?c=14130771.0604544,4517697.9652139,14,0,0,0,dh&amp;placePath=%3Fentry%253Dbmp target=&#x27;_blank&#x27;&gt;                     연어초밥&lt;/a&gt; &lt;br&gt;                     별점: 4.67, 리뷰 수: 1483&lt;br&gt;                     리뷰: [&#x27;&quot;음식이 맛있어요&quot;&#x27;, &#x27;&quot;가성비가 좋아요&quot;&#x27;, &#x27;&quot;친절해요&quot;&#x27;, &#x27;&quot;재료가 신선해요&quot;&#x27;, &#x27;&quot;혼밥하기 좋아요&quot;&#x27;]&lt;br&gt;&lt;/div&gt;`)[0];\n",
       "            popup_4d64a4ab090d6b2333176f19e9668e95.setContent(html_a4981b347cea90ea0808327e5078dfb3);\n",
       "        \n",
       "\n",
       "        marker_d7d652b91f8ae92cc754ba6393286eda.bindPopup(popup_4d64a4ab090d6b2333176f19e9668e95)\n",
       "        ;\n",
       "\n",
       "        \n",
       "    \n",
       "    \n",
       "            marker_d7d652b91f8ae92cc754ba6393286eda.bindTooltip(\n",
       "                `&lt;div&gt;\n",
       "                     연어초밥\n",
       "                 &lt;/div&gt;`,\n",
       "                {&quot;sticky&quot;: true}\n",
       "            );\n",
       "        \n",
       "    \n",
       "            var marker_8589d478a87cb31a599ab97502c7665a = L.marker(\n",
       "                [37.558918423412536, 126.94052464390788],\n",
       "                {}\n",
       "            ).addTo(map_efe5569b2381f1c82273c25840845057);\n",
       "        \n",
       "    \n",
       "            var icon_29976ef2a349efb498fe499b5b0f15dd = L.AwesomeMarkers.icon(\n",
       "                {&quot;extraClasses&quot;: &quot;fa-rotate-0&quot;, &quot;icon&quot;: &quot;info-sign&quot;, &quot;iconColor&quot;: &quot;white&quot;, &quot;markerColor&quot;: &quot;red&quot;, &quot;prefix&quot;: &quot;glyphicon&quot;}\n",
       "            );\n",
       "            marker_8589d478a87cb31a599ab97502c7665a.setIcon(icon_29976ef2a349efb498fe499b5b0f15dd);\n",
       "        \n",
       "    \n",
       "        var popup_ffd6d7ac9a93a34c8dc900c84c659466 = L.popup({&quot;maxWidth&quot;: 300, &quot;minWidth&quot;: 100});\n",
       "\n",
       "        \n",
       "            var html_acba378189ce4fb874a15cdd77027eea = $(`&lt;div id=&quot;html_acba378189ce4fb874a15cdd77027eea&quot; style=&quot;width: 100.0%; height: 100.0%;&quot;&gt;&lt;a href=https://map.naver.com/v5/search/%EC%9D%B4%EB%8C%80%20%EB%A7%9B%EC%A7%91/place/31394999?c=14130771.0604544,4517697.9652139,14,0,0,0,dh&amp;placePath=%3Fentry%253Dbmp target=&#x27;_blank&#x27;&gt;                     호밀밭&lt;/a&gt; &lt;br&gt;                     별점: 4.62, 리뷰 수: 1962&lt;br&gt;                     리뷰: [&#x27;&quot;디저트가 맛있어요&quot;&#x27;, &#x27;&quot;특별한 메뉴가 있어요&quot;&#x27;, &#x27;&quot;가성비가 좋아요&quot;&#x27;, &#x27;&quot;친절해요&quot;&#x27;, &#x27;&quot;커피가 맛있어요&quot;&#x27;]&lt;br&gt;&lt;/div&gt;`)[0];\n",
       "            popup_ffd6d7ac9a93a34c8dc900c84c659466.setContent(html_acba378189ce4fb874a15cdd77027eea);\n",
       "        \n",
       "\n",
       "        marker_8589d478a87cb31a599ab97502c7665a.bindPopup(popup_ffd6d7ac9a93a34c8dc900c84c659466)\n",
       "        ;\n",
       "\n",
       "        \n",
       "    \n",
       "    \n",
       "            marker_8589d478a87cb31a599ab97502c7665a.bindTooltip(\n",
       "                `&lt;div&gt;\n",
       "                     호밀밭\n",
       "                 &lt;/div&gt;`,\n",
       "                {&quot;sticky&quot;: true}\n",
       "            );\n",
       "        \n",
       "&lt;/script&gt;\" style=\"position:absolute;width:100%;height:100%;left:0;top:0;border:none !important;\" allowfullscreen webkitallowfullscreen mozallowfullscreen></iframe></div></div>"
      ],
      "text/plain": [
       "<folium.folium.Map at 0x18eba958220>"
      ]
     },
     "execution_count": 803,
     "metadata": {},
     "output_type": "execute_result"
    }
   ],
   "source": [
    "make_map_rv(top)"
   ]
  },
  {
   "cell_type": "markdown",
   "id": "87061010-bc59-42c6-b05e-c3bf2d15604d",
   "metadata": {},
   "source": [
    "# 감성 분석"
   ]
  },
  {
   "cell_type": "markdown",
   "id": "68d6b0a7-a31e-4195-8f6d-98a8deb4edaa",
   "metadata": {
    "tags": []
   },
   "source": [
    "## 리뷰 따오기"
   ]
  },
  {
   "cell_type": "code",
   "execution_count": 960,
   "id": "a3e294f8-d60a-4b66-b9ca-3247915869a3",
   "metadata": {},
   "outputs": [
    {
     "data": {
      "text/plain": [
       "'https://map.naver.com/v5/search/%EC%9D%B4%EB%8C%80%20%EB%A7%9B%EC%A7%91/place/1960457705?c=14129778.6805898,4517080.4646920,14,0,0,0,dh&placePath=%3Fentry%253Dbmp'"
      ]
     },
     "execution_count": 960,
     "metadata": {},
     "output_type": "execute_result"
    }
   ],
   "source": [
    "driver.current_url"
   ]
  },
  {
   "cell_type": "code",
   "execution_count": 961,
   "id": "9f4599df-8a1e-489b-a982-66ed40df2351",
   "metadata": {},
   "outputs": [
    {
     "data": {
      "text/plain": [
       "'https://pcmap.place.naver.com/restaurant/1960457705/home?entry=bmp&from=map&fromPanelNum=1&ts=1667810242437'"
      ]
     },
     "execution_count": 961,
     "metadata": {},
     "output_type": "execute_result"
    }
   ],
   "source": [
    "asdf = driver.find_element(By.CLASS_NAME, 'tpj9w._tab-menu')\n",
    "review_link = asdf.get_attribute('href')\n",
    "review_link"
   ]
  },
  {
   "cell_type": "code",
   "execution_count": 962,
   "id": "1b5f9b9c-fcdb-4ab5-9399-615014c1cc25",
   "metadata": {},
   "outputs": [
    {
     "data": {
      "text/plain": [
       "'https://pcmap.place.naver.com/restaurant/1960457705/'"
      ]
     },
     "execution_count": 962,
     "metadata": {},
     "output_type": "execute_result"
    }
   ],
   "source": [
    "p = re.compile(r'(.+/)(home)')\n",
    "p.search(review_link).group(1)"
   ]
  },
  {
   "cell_type": "code",
   "execution_count": 963,
   "id": "4c001f82-9140-4f6f-8f2e-42d260995107",
   "metadata": {},
   "outputs": [],
   "source": [
    "p = re.compile(r'(.+/)(home)')\n",
    "\n",
    "urla = p.search(review_link).group(1)\n",
    "urlb = 'review/visitor'\n",
    "url = urla+urlb"
   ]
  },
  {
   "cell_type": "code",
   "execution_count": 964,
   "id": "5925758f-c2f1-46ac-a869-19ffe009e155",
   "metadata": {},
   "outputs": [
    {
     "data": {
      "text/plain": [
       "'https://pcmap.place.naver.com/restaurant/1960457705/review/visitor'"
      ]
     },
     "execution_count": 964,
     "metadata": {},
     "output_type": "execute_result"
    }
   ],
   "source": [
    "url"
   ]
  },
  {
   "cell_type": "code",
   "execution_count": 965,
   "id": "4404fe3f-52d0-4505-bb91-bbe9feab363d",
   "metadata": {},
   "outputs": [],
   "source": [
    "import requests"
   ]
  },
  {
   "cell_type": "code",
   "execution_count": 966,
   "id": "7d29bf52-bc1a-4224-bd84-d7df39d96da9",
   "metadata": {
    "tags": []
   },
   "outputs": [],
   "source": [
    "html = requests.get(url)\n",
    "# html"
   ]
  },
  {
   "cell_type": "code",
   "execution_count": 967,
   "id": "6df9fd9f-3fdd-4017-a89f-e9ae166d4a8e",
   "metadata": {
    "tags": []
   },
   "outputs": [],
   "source": [
    "soup = BeautifulSoup(html.content, 'html.parser',from_encoding='utf-8')\n",
    "# soup"
   ]
  },
  {
   "cell_type": "code",
   "execution_count": 968,
   "id": "598252f1-459b-4e87-91db-27497b96e3a3",
   "metadata": {
    "collapsed": true,
    "jupyter": {
     "outputs_hidden": true
    },
    "tags": []
   },
   "outputs": [
    {
     "data": {
      "text/plain": [
       "[<span class=\"zPfVt\">판초밥집에서 히까리를 이렇게 맛있게.내주신다구요?\n",
       " 이게 호불호 있을수있는 가격인가 싶은데\n",
       " 무적권 저희동네에 있으면 감사한 수준입니다.\n",
       " 가성비란 단어가 실례되지는 않나 싶을 정도로 맛있습니다.  주류종류도 매우 다양해서 술쟁이들한테는 너무나도 감사한 곳입니다. \n",
       " 너무 맛있고 감사한 하루였습니다</span>,\n",
       " <span class=\"zPfVt\">하늘초밥은 사랑이에요ㅠㅜ먹은 초밥중 일등이니 모두 예약이 가능하면 달려가는걸로해요,,저두 연말에 다시한번 가고싶어서 예약을 노리지만 성공하길 바라며 ㅠ_ㅠ 욕심쟁이한에 우니초밥이 안나왓다고 섭섭해하지않기^^..추가해서 묵어도 절대 돈 안아까움</span>,\n",
       " <span class=\"zPfVt\">같은 주 금요일에는 친구랑 방문하고 이날은 남자친구랑 방문했어요. 욕심쟁이+우니 먹었고 일주일에 두번 먹으러 가도 안질리네요 ㅠㅠ 이날 일일 알바생 같은 분 말투가 까칠하셔서 기분 상했던 거 말곤 다 만족스러웠어요!</span>,\n",
       " <span class=\"zPfVt\">너무 맛있어서 또 먹고싶어서 뻥 안치고 하루에 한번 사진 보거든요,,? 오늘 또 보는김에 리뷰 쓰러왔어요 단새우 정말 최고,, 저거 찍을때까진 정신이 있었는데,, 비록 필름 날아갔지만 진짜 맛있었던건 기억나요ㅠㅠ 맛있어서 과음함거임ㅠㅠ 새우장도 비려서 못먹는 내가,, 저 새우는 비린맛 1도없고 걍 달아서 추가주문도 했어요 아 그리고 모든 초밥 비릿만 0.1도 없어요 매우 담백쓰!!! 담달 초 예약 까먹은거 매일 후회해요🥹</span>,\n",
       " <span class=\"zPfVt\">서울와서 유명하다는 초밥집 여러 곳 가봤지만 그 중에 제일 맛있었어요.. 등푸른 생선 별로 안 좋아하는데 청어 있길래 토치 부탁드렸더니 그렇게 해주셨거든요. 비린내 안나고 특유의 맛이 맛있게 느껴진 건 처음이었어요. 추가 초밥 홍새우,연어 먹고싶었는데 연어는 안되어서 홍새우만 2피스 추가해서 먹었는데 통통하니 맛있었어요. 라인업에 우니랑 관자가 없어서 아쉽긴했는데 다음에 재방문하면 되니까요ㅎㅎ 다만 가게가 작으니 예약이 힘들어서 다음엔 웬만하면 포장으로 먹으려구요. 곁들일 마실 것 메뉴 보다가 하이볼 시켰는데 상큼하고 술술 넘어가서 초밥 다음꺼 먹을때 입 정화해주기 좋았어요. 주류 종류가 엄청 많아서 술 좋아하시는 분들 추천드립니다!! 재방문 의사 100%</span>,\n",
       " <span class=\"zPfVt\">힘들게 성공한 예약!!! 거의 끝타임에 엄마랑 둘이 다녀왔는데 엄마가 인생초밥이라고 지금까지 먹었던건 초밥이 아니었던것 같다고 극찬을 날려주셨습니다. 다 진짜 두툼하고 싱싱하고 맛있는데 초새우까지 맛있을줄은 몰랐어요...등푸른 생선도 하나도 안비리고 제 원픽은 청어임다.. 사장님 덕분에 너무 맛있는 초밥 잘 먹고왔습니다. 다음에 또 방문할게요☺️💙</span>,\n",
       " <span class=\"zPfVt\">욕심쟁이 + 도화새우회 + 도화새우 초밥 + 광어지느러미 초밥.\n",
       " 언제나 욕심쟁이는 푸짐하고, 재료는 신선 그 자체고, 참 좋음 맛을 냅니다.\n",
       " 하늘초밥에서의 도화새우는 처음인데, 너무 맛있었습니다. 하늘초밥가서 단품메뉴 안 시키면 바보..</span>,\n",
       " <span class=\"zPfVt\">전화예약 ☎️ 으로 주문해서 먹었어요.\n",
       " 블로그 후기 보니까 오후 1시이후에 전화로 예약 가능하다고 해서 ㅎㅎ 시간 맞춰 전화하고 받으러 왔어요!!\n",
       " 맛있어요 신선하고 네타도 두꺼워용 \n",
       " 교정치료중이라 온전히 맛을 못느껴서 좀 아쉽지만 치료 끝나고 다시 방문해보려구요</span>,\n",
       " <span class=\"zPfVt\">여자 2명이서 욕심쟁이+우니+아귀간 시켰어요. 술 한병도 마셨는데 적당히 배부르고 진짜 피켓팅으로 예약 잡았지만 너무 행복하게 먹었습니다.. 제 인생 초밥집이고 전 재방문 몇번이든 할꼬에요</span>,\n",
       " <span class=\"zPfVt\">6월부터 예약 노렸는데\n",
       " 보름씩 예약으로 바뀌고 1인 예약 가능해져서\n",
       " 혼자 쉽게 먹을 수 있었네요!!\n",
       " 8시 예약인데 7시에 입장가능 전화주셔서 근처 상점에서 천천히 구경하다가 튀어갔어요~~^^\n",
       " 가성비 엄청나고 두께가 장난 아니라는....\n",
       " 집 가까우면 주 2회는 포장 올텐데 ㅠㅠㅋ\n",
       " 혼자 자주 올듯...!!\n",
       " 누구랑 같이 오면 더 많이 먹을 수 있어 (중요 ㅋ) 2인도 노려볼께요~~</span>]"
      ]
     },
     "execution_count": 968,
     "metadata": {},
     "output_type": "execute_result"
    }
   ],
   "source": [
    "reviewss = soup.find_all(class_='zPfVt')\n",
    "# reviewss"
   ]
  },
  {
   "cell_type": "code",
   "execution_count": 969,
   "id": "c1ff2171-730d-4875-9066-1d4fa0502572",
   "metadata": {},
   "outputs": [
    {
     "data": {
      "text/plain": [
       "['판초밥집에서 히까리를 이렇게 맛있게.내주신다구요?\\n이게 호불호 있을수있는 가격인가 싶은데\\n무적권 저희동네에 있으면 감사한 수준입니다.\\n가성비란 단어가 실례되지는 않나 싶을 정도로 맛있습니다.  주류종류도 매우 다양해서 술쟁이들한테는 너무나도 감사한 곳입니다. \\n너무 맛있고 감사한 하루였습니다',\n",
       " '하늘초밥은 사랑이에요ㅠㅜ먹은 초밥중 일등이니 모두 예약이 가능하면 달려가는걸로해요,,저두 연말에 다시한번 가고싶어서 예약을 노리지만 성공하길 바라며 ㅠ_ㅠ 욕심쟁이한에 우니초밥이 안나왓다고 섭섭해하지않기^^..추가해서 묵어도 절대 돈 안아까움',\n",
       " '같은 주 금요일에는 친구랑 방문하고 이날은 남자친구랑 방문했어요. 욕심쟁이+우니 먹었고 일주일에 두번 먹으러 가도 안질리네요 ㅠㅠ 이날 일일 알바생 같은 분 말투가 까칠하셔서 기분 상했던 거 말곤 다 만족스러웠어요!',\n",
       " '너무 맛있어서 또 먹고싶어서 뻥 안치고 하루에 한번 사진 보거든요,,? 오늘 또 보는김에 리뷰 쓰러왔어요 단새우 정말 최고,, 저거 찍을때까진 정신이 있었는데,, 비록 필름 날아갔지만 진짜 맛있었던건 기억나요ㅠㅠ 맛있어서 과음함거임ㅠㅠ 새우장도 비려서 못먹는 내가,, 저 새우는 비린맛 1도없고 걍 달아서 추가주문도 했어요 아 그리고 모든 초밥 비릿만 0.1도 없어요 매우 담백쓰!!! 담달 초 예약 까먹은거 매일 후회해요\\U0001f979',\n",
       " '서울와서 유명하다는 초밥집 여러 곳 가봤지만 그 중에 제일 맛있었어요.. 등푸른 생선 별로 안 좋아하는데 청어 있길래 토치 부탁드렸더니 그렇게 해주셨거든요. 비린내 안나고 특유의 맛이 맛있게 느껴진 건 처음이었어요. 추가 초밥 홍새우,연어 먹고싶었는데 연어는 안되어서 홍새우만 2피스 추가해서 먹었는데 통통하니 맛있었어요. 라인업에 우니랑 관자가 없어서 아쉽긴했는데 다음에 재방문하면 되니까요ㅎㅎ 다만 가게가 작으니 예약이 힘들어서 다음엔 웬만하면 포장으로 먹으려구요. 곁들일 마실 것 메뉴 보다가 하이볼 시켰는데 상큼하고 술술 넘어가서 초밥 다음꺼 먹을때 입 정화해주기 좋았어요. 주류 종류가 엄청 많아서 술 좋아하시는 분들 추천드립니다!! 재방문 의사 100%',\n",
       " '힘들게 성공한 예약!!! 거의 끝타임에 엄마랑 둘이 다녀왔는데 엄마가 인생초밥이라고 지금까지 먹었던건 초밥이 아니었던것 같다고 극찬을 날려주셨습니다. 다 진짜 두툼하고 싱싱하고 맛있는데 초새우까지 맛있을줄은 몰랐어요...등푸른 생선도 하나도 안비리고 제 원픽은 청어임다.. 사장님 덕분에 너무 맛있는 초밥 잘 먹고왔습니다. 다음에 또 방문할게요☺️💙',\n",
       " '욕심쟁이 + 도화새우회 + 도화새우 초밥 + 광어지느러미 초밥.\\n언제나 욕심쟁이는 푸짐하고, 재료는 신선 그 자체고, 참 좋음 맛을 냅니다.\\n하늘초밥에서의 도화새우는 처음인데, 너무 맛있었습니다. 하늘초밥가서 단품메뉴 안 시키면 바보..',\n",
       " '전화예약 ☎️ 으로 주문해서 먹었어요.\\n블로그 후기 보니까 오후 1시이후에 전화로 예약 가능하다고 해서 ㅎㅎ 시간 맞춰 전화하고 받으러 왔어요!!\\n맛있어요 신선하고 네타도 두꺼워용 \\n교정치료중이라 온전히 맛을 못느껴서 좀 아쉽지만 치료 끝나고 다시 방문해보려구요',\n",
       " '여자 2명이서 욕심쟁이+우니+아귀간 시켰어요. 술 한병도 마셨는데 적당히 배부르고 진짜 피켓팅으로 예약 잡았지만 너무 행복하게 먹었습니다.. 제 인생 초밥집이고 전 재방문 몇번이든 할꼬에요',\n",
       " '6월부터 예약 노렸는데\\n보름씩 예약으로 바뀌고 1인 예약 가능해져서\\n혼자 쉽게 먹을 수 있었네요!!\\n8시 예약인데 7시에 입장가능 전화주셔서 근처 상점에서 천천히 구경하다가 튀어갔어요~~^^\\n가성비 엄청나고 두께가 장난 아니라는....\\n집 가까우면 주 2회는 포장 올텐데 ㅠㅠㅋ\\n혼자 자주 올듯...!!\\n누구랑 같이 오면 더 많이 먹을 수 있어 (중요 ㅋ) 2인도 노려볼께요~~']"
      ]
     },
     "execution_count": 969,
     "metadata": {},
     "output_type": "execute_result"
    }
   ],
   "source": [
    "comments = [i.text for i in reviewss]\n",
    "comments"
   ]
  },
  {
   "cell_type": "code",
   "execution_count": 1002,
   "id": "d6aa0fae-c490-40ba-9a90-911954c18e45",
   "metadata": {},
   "outputs": [
    {
     "data": {
      "text/plain": [
       "'판초밥집에서 히까리를 이렇게 맛있게.내주신다구요?\\n이게 호불호 있을수있는 가격인가 싶은데\\n무적권 저희동네에 있으면 감사한 수준입니다.\\n가성비란 단어가 실례되지는 않나 싶을 정도로 맛있습니다.  주류종류도 매우 다양해서 술쟁이들한테는 너무나도 감사한 곳입니다. \\n너무 맛있고 감사한 하루였습니다'"
      ]
     },
     "execution_count": 1002,
     "metadata": {},
     "output_type": "execute_result"
    }
   ],
   "source": [
    "comments[0].strip(r'[^가-힣]')"
   ]
  },
  {
   "cell_type": "code",
   "execution_count": 1004,
   "id": "1c01117b-f5fb-43ba-af15-1e7b5a9d1e06",
   "metadata": {},
   "outputs": [
    {
     "data": {
      "text/plain": [
       "'판초밥집에서 히까리를 이렇게 맛있게 내주신다구요  이게 호불호 있을수있는 가격인가 싶은데 무적권 저희동네에 있으면 감사한 수준입니다  가성비란 단어가 실례되지는 않나 싶을 정도로 맛있습니다   주류종류도 매우 다양해서 술쟁이들한테는 너무나도 감사한 곳입니다   너무 맛있고 감사한 하루였습니다'"
      ]
     },
     "execution_count": 1004,
     "metadata": {},
     "output_type": "execute_result"
    }
   ],
   "source": [
    "re.sub(r'[^가-힣]', ' ', comments[0])"
   ]
  },
  {
   "cell_type": "code",
   "execution_count": 1007,
   "id": "8fcbf261-0975-45b6-9fce-e5cd556b5fc8",
   "metadata": {
    "tags": []
   },
   "outputs": [],
   "source": [
    "# p = re.compile(r'[가-힣]+')\n",
    "# p.findall(comments[0])\n",
    "for i in range(0, len(comments)):\n",
    "    comments[i] = re.sub(r'[^가-힣]', ' ', comments[i])"
   ]
  },
  {
   "cell_type": "code",
   "execution_count": 1008,
   "id": "ba54cc50-a22e-4199-96da-9ab58ebdc26f",
   "metadata": {},
   "outputs": [
    {
     "data": {
      "text/plain": [
       "['판초밥집에서 히까리를 이렇게 맛있게 내주신다구요  이게 호불호 있을수있는 가격인가 싶은데 무적권 저희동네에 있으면 감사한 수준입니다  가성비란 단어가 실례되지는 않나 싶을 정도로 맛있습니다   주류종류도 매우 다양해서 술쟁이들한테는 너무나도 감사한 곳입니다   너무 맛있고 감사한 하루였습니다',\n",
       " '하늘초밥은 사랑이에요  먹은 초밥중 일등이니 모두 예약이 가능하면 달려가는걸로해요  저두 연말에 다시한번 가고싶어서 예약을 노리지만 성공하길 바라며     욕심쟁이한에 우니초밥이 안나왓다고 섭섭해하지않기    추가해서 묵어도 절대 돈 안아까움',\n",
       " '같은 주 금요일에는 친구랑 방문하고 이날은 남자친구랑 방문했어요  욕심쟁이 우니 먹었고 일주일에 두번 먹으러 가도 안질리네요    이날 일일 알바생 같은 분 말투가 까칠하셔서 기분 상했던 거 말곤 다 만족스러웠어요 ',\n",
       " '너무 맛있어서 또 먹고싶어서 뻥 안치고 하루에 한번 사진 보거든요    오늘 또 보는김에 리뷰 쓰러왔어요 단새우 정말 최고   저거 찍을때까진 정신이 있었는데   비록 필름 날아갔지만 진짜 맛있었던건 기억나요   맛있어서 과음함거임   새우장도 비려서 못먹는 내가   저 새우는 비린맛  도없고 걍 달아서 추가주문도 했어요 아 그리고 모든 초밥 비릿만    도 없어요 매우 담백쓰    담달 초 예약 까먹은거 매일 후회해요 ',\n",
       " '서울와서 유명하다는 초밥집 여러 곳 가봤지만 그 중에 제일 맛있었어요   등푸른 생선 별로 안 좋아하는데 청어 있길래 토치 부탁드렸더니 그렇게 해주셨거든요  비린내 안나고 특유의 맛이 맛있게 느껴진 건 처음이었어요  추가 초밥 홍새우 연어 먹고싶었는데 연어는 안되어서 홍새우만  피스 추가해서 먹었는데 통통하니 맛있었어요  라인업에 우니랑 관자가 없어서 아쉽긴했는데 다음에 재방문하면 되니까요   다만 가게가 작으니 예약이 힘들어서 다음엔 웬만하면 포장으로 먹으려구요  곁들일 마실 것 메뉴 보다가 하이볼 시켰는데 상큼하고 술술 넘어가서 초밥 다음꺼 먹을때 입 정화해주기 좋았어요  주류 종류가 엄청 많아서 술 좋아하시는 분들 추천드립니다   재방문 의사     ',\n",
       " '힘들게 성공한 예약    거의 끝타임에 엄마랑 둘이 다녀왔는데 엄마가 인생초밥이라고 지금까지 먹었던건 초밥이 아니었던것 같다고 극찬을 날려주셨습니다  다 진짜 두툼하고 싱싱하고 맛있는데 초새우까지 맛있을줄은 몰랐어요   등푸른 생선도 하나도 안비리고 제 원픽은 청어임다   사장님 덕분에 너무 맛있는 초밥 잘 먹고왔습니다  다음에 또 방문할게요   ',\n",
       " '욕심쟁이   도화새우회   도화새우 초밥   광어지느러미 초밥  언제나 욕심쟁이는 푸짐하고  재료는 신선 그 자체고  참 좋음 맛을 냅니다  하늘초밥에서의 도화새우는 처음인데  너무 맛있었습니다  하늘초밥가서 단품메뉴 안 시키면 바보  ',\n",
       " '전화예약    으로 주문해서 먹었어요  블로그 후기 보니까 오후  시이후에 전화로 예약 가능하다고 해서    시간 맞춰 전화하고 받으러 왔어요   맛있어요 신선하고 네타도 두꺼워용  교정치료중이라 온전히 맛을 못느껴서 좀 아쉽지만 치료 끝나고 다시 방문해보려구요',\n",
       " '여자  명이서 욕심쟁이 우니 아귀간 시켰어요  술 한병도 마셨는데 적당히 배부르고 진짜 피켓팅으로 예약 잡았지만 너무 행복하게 먹었습니다   제 인생 초밥집이고 전 재방문 몇번이든 할꼬에요',\n",
       " ' 월부터 예약 노렸는데 보름씩 예약으로 바뀌고  인 예약 가능해져서 혼자 쉽게 먹을 수 있었네요    시 예약인데  시에 입장가능 전화주셔서 근처 상점에서 천천히 구경하다가 튀어갔어요     가성비 엄청나고 두께가 장난 아니라는     집 가까우면 주  회는 포장 올텐데     혼자 자주 올듯      누구랑 같이 오면 더 많이 먹을 수 있어  중요     인도 노려볼께요  ']"
      ]
     },
     "execution_count": 1008,
     "metadata": {},
     "output_type": "execute_result"
    }
   ],
   "source": [
    "comments"
   ]
  },
  {
   "cell_type": "markdown",
   "id": "864353e8-d057-4396-91e3-9151894421cd",
   "metadata": {
    "jp-MarkdownHeadingCollapsed": true,
    "tags": []
   },
   "source": [
    "# 감성분석"
   ]
  },
  {
   "cell_type": "code",
   "execution_count": 612,
   "id": "74438014-0c6d-4de1-94eb-64f186d982f6",
   "metadata": {
    "tags": []
   },
   "outputs": [],
   "source": [
    "link = \"https://map.naver.com/\"\n",
    "driver.get(link)"
   ]
  },
  {
   "cell_type": "code",
   "execution_count": 613,
   "id": "960cb29d-54b3-4aff-8061-addf736dcced",
   "metadata": {
    "tags": []
   },
   "outputs": [],
   "source": [
    "xpath = '/html/body/app/layout/div[3]/div[2]/shrinkable-layout/div/app-base/search-input-box/div/div/div/input'\n",
    "search = driver.find_element(By.XPATH, xpath)\n",
    "search.clear()\n",
    "search.send_keys(f'{location} 맛집')\n",
    "search.send_keys(Keys.ENTER)\n",
    "driver.implicitly_wait(10)"
   ]
  },
  {
   "cell_type": "markdown",
   "id": "ca6da121-eb1d-4dc0-9e8c-4c86fd53c189",
   "metadata": {},
   "source": [
    "### 맛집1\n"
   ]
  },
  {
   "cell_type": "code",
   "execution_count": null,
   "id": "4b4bffaf-1769-4dc0-844f-a79c6b9fb0df",
   "metadata": {
    "tags": []
   },
   "outputs": [],
   "source": [
    "e = driver.find_elements(By.CLASS_NAME, 'place_bluelink.TYaxT')"
   ]
  },
  {
   "cell_type": "code",
   "execution_count": null,
   "id": "a600c86c-cfb4-47f7-ab36-cdbfbc7f9568",
   "metadata": {
    "tags": []
   },
   "outputs": [],
   "source": [
    "e[3].click()"
   ]
  },
  {
   "cell_type": "code",
   "execution_count": null,
   "id": "aee88792-a0c9-4983-87c7-9380feb8f09a",
   "metadata": {
    "tags": []
   },
   "outputs": [],
   "source": [
    "driver.switch_to.frame('searchIframe')"
   ]
  },
  {
   "cell_type": "code",
   "execution_count": null,
   "id": "4a47fef6-2f7d-496d-acae-45111bb77c4a",
   "metadata": {
    "tags": []
   },
   "outputs": [],
   "source": [
    "import datetime\n",
    "import time\n",
    "\n",
    "def doScrollDown(whileSeconds):\n",
    "    start = datetime.datetime.now()\n",
    "    end = start + datetime.timedelta(seconds=whileSeconds)\n",
    "    while True:\n",
    "        scroll = driver.find_element(By.XPATH, '/html/body/div[3]/div/div[2]/div[1]')\n",
    "        driver.execute_script(\"arguments[0].scrollTop = arguments[0].scrollHeight\", scroll)\n",
    "        time.sleep(1)\n",
    "        if datetime.datetime.now() > end:\n",
    "            break"
   ]
  },
  {
   "cell_type": "code",
   "execution_count": null,
   "id": "c0aa7592-2e40-454f-8d0c-4bf76459af5f",
   "metadata": {
    "tags": []
   },
   "outputs": [],
   "source": [
    "doScrollDown(5)"
   ]
  },
  {
   "cell_type": "code",
   "execution_count": null,
   "id": "bd2a8cfc-d65a-4ac6-a504-580f839ec472",
   "metadata": {},
   "outputs": [],
   "source": [
    "def ScrollDown(whileSeconds):\n",
    "    start = datetime.datetime.now()\n",
    "    end = start + datetime.timedelta(seconds=whileSeconds)\n",
    "    while True:\n",
    "        sc = driver.find_element(By.XPATH, '/html')\n",
    "        driver.execute_script(\"arguments[0].scrollTop = arguments[0].scrollHeight\", sc)\n",
    "        time.sleep(1)\n",
    "        if datetime.datetime.now() > end:\n",
    "            break"
   ]
  },
  {
   "cell_type": "code",
   "execution_count": null,
   "id": "4281e62b-0caf-49d4-8ca3-a015ba782bac",
   "metadata": {
    "jupyter": {
     "source_hidden": true
    },
    "tags": []
   },
   "outputs": [],
   "source": [
    "e = driver.find_elements(By.CLASS_NAME, 'place_bluelink.TYaxT')"
   ]
  },
  {
   "cell_type": "code",
   "execution_count": null,
   "id": "be55083f-1164-4b86-adda-65e5c82234b2",
   "metadata": {
    "tags": []
   },
   "outputs": [],
   "source": [
    "e[3].click()"
   ]
  },
  {
   "cell_type": "code",
   "execution_count": 881,
   "id": "33b7700a-f7ba-4543-95c0-53e864343973",
   "metadata": {},
   "outputs": [],
   "source": [
    "driver.switch_to.parent_frame()"
   ]
  },
  {
   "cell_type": "code",
   "execution_count": 882,
   "id": "5a6d90be-c2a4-4f04-b618-b57a99f54548",
   "metadata": {
    "tags": []
   },
   "outputs": [],
   "source": [
    "driver.switch_to.frame('entryIframe')  "
   ]
  },
  {
   "cell_type": "code",
   "execution_count": 883,
   "id": "1e2cf62d-ceb5-47b8-a805-4dc5d0a8f3d6",
   "metadata": {},
   "outputs": [],
   "source": [
    "ScrollDown(2)"
   ]
  },
  {
   "cell_type": "code",
   "execution_count": 884,
   "id": "06898e1f-827b-4365-9f85-5790e7b37876",
   "metadata": {
    "tags": []
   },
   "outputs": [],
   "source": [
    "com = driver.find_element(By.XPATH, '/html/body/div[3]/div/div/div/div[7]/div/div[5]/div[2]/div/div[3]/a/span')"
   ]
  },
  {
   "cell_type": "code",
   "execution_count": 885,
   "id": "89454468-5d68-4906-8e61-cba4c2207917",
   "metadata": {
    "collapsed": true,
    "jupyter": {
     "outputs_hidden": true
    },
    "tags": []
   },
   "outputs": [
    {
     "ename": "ElementClickInterceptedException",
     "evalue": "Message: element click intercepted: Element <span class=\"iNSaH\">...</span> is not clickable at point (156, 9). Other element would receive the click: <h1 id=\"_header\" class=\"bh9OH\" style=\"opacity: 1;\">...</h1>\n  (Session info: chrome=107.0.5304.88)\nStacktrace:\nBacktrace:\n\tOrdinal0 [0x005DACD3+2075859]\n\tOrdinal0 [0x0056EE61+1633889]\n\tOrdinal0 [0x0046B7BD+571325]\n\tOrdinal0 [0x004A1499+791705]\n\tOrdinal0 [0x0049F4AC+783532]\n\tOrdinal0 [0x0049D0AB+774315]\n\tOrdinal0 [0x0049BD37+769335]\n\tOrdinal0 [0x00491C76+728182]\n\tOrdinal0 [0x004B731C+881436]\n\tOrdinal0 [0x004915BF+726463]\n\tOrdinal0 [0x004B7534+881972]\n\tOrdinal0 [0x004CB56A+963946]\n\tOrdinal0 [0x004B7136+880950]\n\tOrdinal0 [0x0048FEFD+720637]\n\tOrdinal0 [0x00490F3F+724799]\n\tGetHandleVerifier [0x0088EED2+2769538]\n\tGetHandleVerifier [0x00880D95+2711877]\n\tGetHandleVerifier [0x0066A03A+521194]\n\tGetHandleVerifier [0x00668DA0+516432]\n\tOrdinal0 [0x0057682C+1665068]\n\tOrdinal0 [0x0057B128+1683752]\n\tOrdinal0 [0x0057B215+1683989]\n\tOrdinal0 [0x00586484+1729668]\n\tBaseThreadInitThunk [0x7687FA29+25]\n\tRtlGetAppContainerNamedObjectPath [0x77E87BBE+286]\n\tRtlGetAppContainerNamedObjectPath [0x77E87B8E+238]\n",
     "output_type": "error",
     "traceback": [
      "\u001b[1;31m---------------------------------------------------------------------------\u001b[0m",
      "\u001b[1;31mElementClickInterceptedException\u001b[0m          Traceback (most recent call last)",
      "Input \u001b[1;32mIn [885]\u001b[0m, in \u001b[0;36m<cell line: 1>\u001b[1;34m()\u001b[0m\n\u001b[1;32m----> 1\u001b[0m \u001b[43mcom\u001b[49m\u001b[38;5;241;43m.\u001b[39;49m\u001b[43mclick\u001b[49m\u001b[43m(\u001b[49m\u001b[43m)\u001b[49m\n",
      "File \u001b[1;32m~\\anaconda3\\lib\\site-packages\\selenium\\webdriver\\remote\\webelement.py:88\u001b[0m, in \u001b[0;36mWebElement.click\u001b[1;34m(self)\u001b[0m\n\u001b[0;32m     86\u001b[0m \u001b[38;5;28;01mdef\u001b[39;00m \u001b[38;5;21mclick\u001b[39m(\u001b[38;5;28mself\u001b[39m) \u001b[38;5;241m-\u001b[39m\u001b[38;5;241m>\u001b[39m \u001b[38;5;28;01mNone\u001b[39;00m:\n\u001b[0;32m     87\u001b[0m     \u001b[38;5;124;03m\"\"\"Clicks the element.\"\"\"\u001b[39;00m\n\u001b[1;32m---> 88\u001b[0m     \u001b[38;5;28;43mself\u001b[39;49m\u001b[38;5;241;43m.\u001b[39;49m\u001b[43m_execute\u001b[49m\u001b[43m(\u001b[49m\u001b[43mCommand\u001b[49m\u001b[38;5;241;43m.\u001b[39;49m\u001b[43mCLICK_ELEMENT\u001b[49m\u001b[43m)\u001b[49m\n",
      "File \u001b[1;32m~\\anaconda3\\lib\\site-packages\\selenium\\webdriver\\remote\\webelement.py:396\u001b[0m, in \u001b[0;36mWebElement._execute\u001b[1;34m(self, command, params)\u001b[0m\n\u001b[0;32m    394\u001b[0m     params \u001b[38;5;241m=\u001b[39m {}\n\u001b[0;32m    395\u001b[0m params[\u001b[38;5;124m'\u001b[39m\u001b[38;5;124mid\u001b[39m\u001b[38;5;124m'\u001b[39m] \u001b[38;5;241m=\u001b[39m \u001b[38;5;28mself\u001b[39m\u001b[38;5;241m.\u001b[39m_id\n\u001b[1;32m--> 396\u001b[0m \u001b[38;5;28;01mreturn\u001b[39;00m \u001b[38;5;28;43mself\u001b[39;49m\u001b[38;5;241;43m.\u001b[39;49m\u001b[43m_parent\u001b[49m\u001b[38;5;241;43m.\u001b[39;49m\u001b[43mexecute\u001b[49m\u001b[43m(\u001b[49m\u001b[43mcommand\u001b[49m\u001b[43m,\u001b[49m\u001b[43m \u001b[49m\u001b[43mparams\u001b[49m\u001b[43m)\u001b[49m\n",
      "File \u001b[1;32m~\\anaconda3\\lib\\site-packages\\selenium\\webdriver\\remote\\webdriver.py:429\u001b[0m, in \u001b[0;36mWebDriver.execute\u001b[1;34m(self, driver_command, params)\u001b[0m\n\u001b[0;32m    427\u001b[0m response \u001b[38;5;241m=\u001b[39m \u001b[38;5;28mself\u001b[39m\u001b[38;5;241m.\u001b[39mcommand_executor\u001b[38;5;241m.\u001b[39mexecute(driver_command, params)\n\u001b[0;32m    428\u001b[0m \u001b[38;5;28;01mif\u001b[39;00m response:\n\u001b[1;32m--> 429\u001b[0m     \u001b[38;5;28;43mself\u001b[39;49m\u001b[38;5;241;43m.\u001b[39;49m\u001b[43merror_handler\u001b[49m\u001b[38;5;241;43m.\u001b[39;49m\u001b[43mcheck_response\u001b[49m\u001b[43m(\u001b[49m\u001b[43mresponse\u001b[49m\u001b[43m)\u001b[49m\n\u001b[0;32m    430\u001b[0m     response[\u001b[38;5;124m'\u001b[39m\u001b[38;5;124mvalue\u001b[39m\u001b[38;5;124m'\u001b[39m] \u001b[38;5;241m=\u001b[39m \u001b[38;5;28mself\u001b[39m\u001b[38;5;241m.\u001b[39m_unwrap_value(\n\u001b[0;32m    431\u001b[0m         response\u001b[38;5;241m.\u001b[39mget(\u001b[38;5;124m'\u001b[39m\u001b[38;5;124mvalue\u001b[39m\u001b[38;5;124m'\u001b[39m, \u001b[38;5;28;01mNone\u001b[39;00m))\n\u001b[0;32m    432\u001b[0m     \u001b[38;5;28;01mreturn\u001b[39;00m response\n",
      "File \u001b[1;32m~\\anaconda3\\lib\\site-packages\\selenium\\webdriver\\remote\\errorhandler.py:243\u001b[0m, in \u001b[0;36mErrorHandler.check_response\u001b[1;34m(self, response)\u001b[0m\n\u001b[0;32m    241\u001b[0m         alert_text \u001b[38;5;241m=\u001b[39m value[\u001b[38;5;124m'\u001b[39m\u001b[38;5;124malert\u001b[39m\u001b[38;5;124m'\u001b[39m]\u001b[38;5;241m.\u001b[39mget(\u001b[38;5;124m'\u001b[39m\u001b[38;5;124mtext\u001b[39m\u001b[38;5;124m'\u001b[39m)\n\u001b[0;32m    242\u001b[0m     \u001b[38;5;28;01mraise\u001b[39;00m exception_class(message, screen, stacktrace, alert_text)  \u001b[38;5;66;03m# type: ignore[call-arg]  # mypy is not smart enough here\u001b[39;00m\n\u001b[1;32m--> 243\u001b[0m \u001b[38;5;28;01mraise\u001b[39;00m exception_class(message, screen, stacktrace)\n",
      "\u001b[1;31mElementClickInterceptedException\u001b[0m: Message: element click intercepted: Element <span class=\"iNSaH\">...</span> is not clickable at point (156, 9). Other element would receive the click: <h1 id=\"_header\" class=\"bh9OH\" style=\"opacity: 1;\">...</h1>\n  (Session info: chrome=107.0.5304.88)\nStacktrace:\nBacktrace:\n\tOrdinal0 [0x005DACD3+2075859]\n\tOrdinal0 [0x0056EE61+1633889]\n\tOrdinal0 [0x0046B7BD+571325]\n\tOrdinal0 [0x004A1499+791705]\n\tOrdinal0 [0x0049F4AC+783532]\n\tOrdinal0 [0x0049D0AB+774315]\n\tOrdinal0 [0x0049BD37+769335]\n\tOrdinal0 [0x00491C76+728182]\n\tOrdinal0 [0x004B731C+881436]\n\tOrdinal0 [0x004915BF+726463]\n\tOrdinal0 [0x004B7534+881972]\n\tOrdinal0 [0x004CB56A+963946]\n\tOrdinal0 [0x004B7136+880950]\n\tOrdinal0 [0x0048FEFD+720637]\n\tOrdinal0 [0x00490F3F+724799]\n\tGetHandleVerifier [0x0088EED2+2769538]\n\tGetHandleVerifier [0x00880D95+2711877]\n\tGetHandleVerifier [0x0066A03A+521194]\n\tGetHandleVerifier [0x00668DA0+516432]\n\tOrdinal0 [0x0057682C+1665068]\n\tOrdinal0 [0x0057B128+1683752]\n\tOrdinal0 [0x0057B215+1683989]\n\tOrdinal0 [0x00586484+1729668]\n\tBaseThreadInitThunk [0x7687FA29+25]\n\tRtlGetAppContainerNamedObjectPath [0x77E87BBE+286]\n\tRtlGetAppContainerNamedObjectPath [0x77E87B8E+238]\n"
     ]
    }
   ],
   "source": [
    "com.click()"
   ]
  },
  {
   "cell_type": "code",
   "execution_count": 873,
   "id": "6a69afce-8413-4ee5-b0ad-e63eea23bad0",
   "metadata": {
    "tags": []
   },
   "outputs": [],
   "source": [
    "alls = driver.find_element(By.XPATH, '/html/body/div[3]/div/div/div/div[7]/div[2]/div[3]/div[1]/ul/li[1]/div[3]/a/span[2]')"
   ]
  },
  {
   "cell_type": "code",
   "execution_count": 874,
   "id": "dd7ff52c-df3d-4919-b1e1-0432069e9296",
   "metadata": {
    "tags": []
   },
   "outputs": [],
   "source": [
    "alls.click()"
   ]
  },
  {
   "cell_type": "code",
   "execution_count": 875,
   "id": "c928bd6c-325a-47dc-8cc5-27b33ff7bed7",
   "metadata": {
    "tags": []
   },
   "outputs": [
    {
     "data": {
      "text/plain": [
       "['연어초밥집인데 진짜 맛있어요, 저는 생연어만 시켰는데 연어불초밥이 불맛+적당한 생연어의 조화로 훨씬 맛있더라구요! 원래 불초밥 익혀나와서 안좋아하는데 여긴 불초밥을 먹으러 가고싶네요, 매장은 작아서 2명씩 3팀, 1인 1명 가능한 곳이에요, 정말 친절히 대해주셔서 기분좋게 먹고 나왔습니다\\U0001faf6']"
      ]
     },
     "execution_count": 875,
     "metadata": {},
     "output_type": "execute_result"
    }
   ],
   "source": [
    "xpath = '/html/body/div[3]/div/div/div/div[7]/div[2]/div[3]/div[1]/ul/li[1]/div[3]/a/span[1]'\n",
    "tex = driver.find_elements(By.XPATH, xpath)\n",
    "\n",
    "l0 = []\n",
    "for i in range(0, len(tex)):\n",
    "    l0.append(tex[i].text)\n",
    "\n",
    "l0"
   ]
  },
  {
   "cell_type": "code",
   "execution_count": 824,
   "id": "4ca50cfd-087b-49eb-8356-d51413d6bce8",
   "metadata": {
    "tags": []
   },
   "outputs": [],
   "source": [
    "ScrollDown(3)"
   ]
  },
  {
   "cell_type": "code",
   "execution_count": 849,
   "id": "0396e3c3-2302-464e-bbda-f848dc727b55",
   "metadata": {
    "tags": []
   },
   "outputs": [
    {
     "ename": "NoSuchElementException",
     "evalue": "Message: no such element: Unable to locate element: {\"method\":\"xpath\",\"selector\":\"/html/body/div[3]/div/div/div/div[7]/div/div[5]/div[2]/div/div[3]/a\"}\n  (Session info: chrome=107.0.5304.88)\nStacktrace:\nBacktrace:\n\tOrdinal0 [0x005DACD3+2075859]\n\tOrdinal0 [0x0056EE61+1633889]\n\tOrdinal0 [0x0046B7BD+571325]\n\tOrdinal0 [0x0049AC2F+764975]\n\tOrdinal0 [0x0049AE1B+765467]\n\tOrdinal0 [0x004CD0F2+970994]\n\tOrdinal0 [0x004B7364+881508]\n\tOrdinal0 [0x004CB56A+963946]\n\tOrdinal0 [0x004B7136+880950]\n\tOrdinal0 [0x0048FEFD+720637]\n\tOrdinal0 [0x00490F3F+724799]\n\tGetHandleVerifier [0x0088EED2+2769538]\n\tGetHandleVerifier [0x00880D95+2711877]\n\tGetHandleVerifier [0x0066A03A+521194]\n\tGetHandleVerifier [0x00668DA0+516432]\n\tOrdinal0 [0x0057682C+1665068]\n\tOrdinal0 [0x0057B128+1683752]\n\tOrdinal0 [0x0057B215+1683989]\n\tOrdinal0 [0x00586484+1729668]\n\tBaseThreadInitThunk [0x7687FA29+25]\n\tRtlGetAppContainerNamedObjectPath [0x77E87BBE+286]\n\tRtlGetAppContainerNamedObjectPath [0x77E87B8E+238]\n",
     "output_type": "error",
     "traceback": [
      "\u001b[1;31m---------------------------------------------------------------------------\u001b[0m",
      "\u001b[1;31mNoSuchElementException\u001b[0m                    Traceback (most recent call last)",
      "Input \u001b[1;32mIn [849]\u001b[0m, in \u001b[0;36m<cell line: 7>\u001b[1;34m()\u001b[0m\n\u001b[0;32m     10\u001b[0m driver\u001b[38;5;241m.\u001b[39mswitch_to\u001b[38;5;241m.\u001b[39mframe(\u001b[38;5;124m'\u001b[39m\u001b[38;5;124mentryIframe\u001b[39m\u001b[38;5;124m'\u001b[39m)    \n\u001b[0;32m     11\u001b[0m ScrollDown(\u001b[38;5;241m1\u001b[39m)\n\u001b[1;32m---> 12\u001b[0m com \u001b[38;5;241m=\u001b[39m \u001b[43mdriver\u001b[49m\u001b[38;5;241;43m.\u001b[39;49m\u001b[43mfind_element\u001b[49m\u001b[43m(\u001b[49m\u001b[43mBy\u001b[49m\u001b[38;5;241;43m.\u001b[39;49m\u001b[43mXPATH\u001b[49m\u001b[43m,\u001b[49m\u001b[43m \u001b[49m\u001b[38;5;124;43m'\u001b[39;49m\u001b[38;5;124;43m/html/body/div[3]/div/div/div/div[7]/div/div[5]/div[2]/div/div[3]/a\u001b[39;49m\u001b[38;5;124;43m'\u001b[39;49m\u001b[43m)\u001b[49m\n\u001b[0;32m     13\u001b[0m com\u001b[38;5;241m.\u001b[39mclick()\n\u001b[0;32m     14\u001b[0m ScrollDown(\u001b[38;5;241m1\u001b[39m)\n",
      "File \u001b[1;32m~\\anaconda3\\lib\\site-packages\\selenium\\webdriver\\remote\\webdriver.py:856\u001b[0m, in \u001b[0;36mWebDriver.find_element\u001b[1;34m(self, by, value)\u001b[0m\n\u001b[0;32m    853\u001b[0m     by \u001b[38;5;241m=\u001b[39m By\u001b[38;5;241m.\u001b[39mCSS_SELECTOR\n\u001b[0;32m    854\u001b[0m     value \u001b[38;5;241m=\u001b[39m \u001b[38;5;124m'\u001b[39m\u001b[38;5;124m[name=\u001b[39m\u001b[38;5;124m\"\u001b[39m\u001b[38;5;132;01m%s\u001b[39;00m\u001b[38;5;124m\"\u001b[39m\u001b[38;5;124m]\u001b[39m\u001b[38;5;124m'\u001b[39m \u001b[38;5;241m%\u001b[39m value\n\u001b[1;32m--> 856\u001b[0m \u001b[38;5;28;01mreturn\u001b[39;00m \u001b[38;5;28;43mself\u001b[39;49m\u001b[38;5;241;43m.\u001b[39;49m\u001b[43mexecute\u001b[49m\u001b[43m(\u001b[49m\u001b[43mCommand\u001b[49m\u001b[38;5;241;43m.\u001b[39;49m\u001b[43mFIND_ELEMENT\u001b[49m\u001b[43m,\u001b[49m\u001b[43m \u001b[49m\u001b[43m{\u001b[49m\n\u001b[0;32m    857\u001b[0m \u001b[43m    \u001b[49m\u001b[38;5;124;43m'\u001b[39;49m\u001b[38;5;124;43musing\u001b[39;49m\u001b[38;5;124;43m'\u001b[39;49m\u001b[43m:\u001b[49m\u001b[43m \u001b[49m\u001b[43mby\u001b[49m\u001b[43m,\u001b[49m\n\u001b[0;32m    858\u001b[0m \u001b[43m    \u001b[49m\u001b[38;5;124;43m'\u001b[39;49m\u001b[38;5;124;43mvalue\u001b[39;49m\u001b[38;5;124;43m'\u001b[39;49m\u001b[43m:\u001b[49m\u001b[43m \u001b[49m\u001b[43mvalue\u001b[49m\u001b[43m}\u001b[49m\u001b[43m)\u001b[49m[\u001b[38;5;124m'\u001b[39m\u001b[38;5;124mvalue\u001b[39m\u001b[38;5;124m'\u001b[39m]\n",
      "File \u001b[1;32m~\\anaconda3\\lib\\site-packages\\selenium\\webdriver\\remote\\webdriver.py:429\u001b[0m, in \u001b[0;36mWebDriver.execute\u001b[1;34m(self, driver_command, params)\u001b[0m\n\u001b[0;32m    427\u001b[0m response \u001b[38;5;241m=\u001b[39m \u001b[38;5;28mself\u001b[39m\u001b[38;5;241m.\u001b[39mcommand_executor\u001b[38;5;241m.\u001b[39mexecute(driver_command, params)\n\u001b[0;32m    428\u001b[0m \u001b[38;5;28;01mif\u001b[39;00m response:\n\u001b[1;32m--> 429\u001b[0m     \u001b[38;5;28;43mself\u001b[39;49m\u001b[38;5;241;43m.\u001b[39;49m\u001b[43merror_handler\u001b[49m\u001b[38;5;241;43m.\u001b[39;49m\u001b[43mcheck_response\u001b[49m\u001b[43m(\u001b[49m\u001b[43mresponse\u001b[49m\u001b[43m)\u001b[49m\n\u001b[0;32m    430\u001b[0m     response[\u001b[38;5;124m'\u001b[39m\u001b[38;5;124mvalue\u001b[39m\u001b[38;5;124m'\u001b[39m] \u001b[38;5;241m=\u001b[39m \u001b[38;5;28mself\u001b[39m\u001b[38;5;241m.\u001b[39m_unwrap_value(\n\u001b[0;32m    431\u001b[0m         response\u001b[38;5;241m.\u001b[39mget(\u001b[38;5;124m'\u001b[39m\u001b[38;5;124mvalue\u001b[39m\u001b[38;5;124m'\u001b[39m, \u001b[38;5;28;01mNone\u001b[39;00m))\n\u001b[0;32m    432\u001b[0m     \u001b[38;5;28;01mreturn\u001b[39;00m response\n",
      "File \u001b[1;32m~\\anaconda3\\lib\\site-packages\\selenium\\webdriver\\remote\\errorhandler.py:243\u001b[0m, in \u001b[0;36mErrorHandler.check_response\u001b[1;34m(self, response)\u001b[0m\n\u001b[0;32m    241\u001b[0m         alert_text \u001b[38;5;241m=\u001b[39m value[\u001b[38;5;124m'\u001b[39m\u001b[38;5;124malert\u001b[39m\u001b[38;5;124m'\u001b[39m]\u001b[38;5;241m.\u001b[39mget(\u001b[38;5;124m'\u001b[39m\u001b[38;5;124mtext\u001b[39m\u001b[38;5;124m'\u001b[39m)\n\u001b[0;32m    242\u001b[0m     \u001b[38;5;28;01mraise\u001b[39;00m exception_class(message, screen, stacktrace, alert_text)  \u001b[38;5;66;03m# type: ignore[call-arg]  # mypy is not smart enough here\u001b[39;00m\n\u001b[1;32m--> 243\u001b[0m \u001b[38;5;28;01mraise\u001b[39;00m exception_class(message, screen, stacktrace)\n",
      "\u001b[1;31mNoSuchElementException\u001b[0m: Message: no such element: Unable to locate element: {\"method\":\"xpath\",\"selector\":\"/html/body/div[3]/div/div/div/div[7]/div/div[5]/div[2]/div/div[3]/a\"}\n  (Session info: chrome=107.0.5304.88)\nStacktrace:\nBacktrace:\n\tOrdinal0 [0x005DACD3+2075859]\n\tOrdinal0 [0x0056EE61+1633889]\n\tOrdinal0 [0x0046B7BD+571325]\n\tOrdinal0 [0x0049AC2F+764975]\n\tOrdinal0 [0x0049AE1B+765467]\n\tOrdinal0 [0x004CD0F2+970994]\n\tOrdinal0 [0x004B7364+881508]\n\tOrdinal0 [0x004CB56A+963946]\n\tOrdinal0 [0x004B7136+880950]\n\tOrdinal0 [0x0048FEFD+720637]\n\tOrdinal0 [0x00490F3F+724799]\n\tGetHandleVerifier [0x0088EED2+2769538]\n\tGetHandleVerifier [0x00880D95+2711877]\n\tGetHandleVerifier [0x0066A03A+521194]\n\tGetHandleVerifier [0x00668DA0+516432]\n\tOrdinal0 [0x0057682C+1665068]\n\tOrdinal0 [0x0057B128+1683752]\n\tOrdinal0 [0x0057B215+1683989]\n\tOrdinal0 [0x00586484+1729668]\n\tBaseThreadInitThunk [0x7687FA29+25]\n\tRtlGetAppContainerNamedObjectPath [0x77E87BBE+286]\n\tRtlGetAppContainerNamedObjectPath [0x77E87B8E+238]\n"
     ]
    }
   ],
   "source": [
    "# url = driver.current_url\n",
    "# resp = requests.get(url)\n",
    "\n",
    "e = driver.find_elements(By.CLASS_NAME, 'place_bluelink.TYaxT')\n",
    "\n",
    "l0 = []\n",
    "for i in range(2, 22):\n",
    "    e[i].click()\n",
    "    driver.switch_to.parent_frame()\n",
    "    driver.switch_to.frame('entryIframe')    \n",
    "    ScrollDown(1)\n",
    "    com = driver.find_element(By.XPATH, '/html/body/div[3]/div/div/div/div[7]/div/div[5]/div[2]/div/div[3]/a')\n",
    "    com.click()\n",
    "    ScrollDown(1)\n",
    "    alls = driver.find_element(By.XPATH, '/html/body/div[3]/div/div/div/div[7]/div[2]/div[3]/div[1]/ul/li[1]/div[3]/a/span[2]')\n",
    "    alls.click()\n",
    "    xpath = '/html/body/div[3]/div/div/div/div[7]/div[2]/div[3]/div[1]/ul/li[1]/div[3]/a/span[1]'\n",
    "    tex = driver.find_elements(By.XPATH, xpath)\n",
    "    for i in range(0, len(tex)):\n",
    "        l0.append(tex[i].text)\n",
    "    driver.switch_to.parent_frame()\n",
    "    driver.switch_to.frame('searchIframe')\n",
    "\n",
    "l0\n",
    "# driver.switch_to.parent_frame()\n",
    "# driver.switch_to.frame('searchIframe')\n",
    "\n",
    "# for i in range(24, 54):\n",
    "#     e[i].click()\n",
    "#     driver.switch_to.parent_frame()\n",
    "#     driver.switch_to.frame('entryIframe')    \n",
    "#     ScrollDown(3)\n",
    "#     com = driver.find_elements(By.CLASS_NAME, 'nWiXa')\n",
    "#     if len(com) == 0:\n",
    "#         l.append('x')\n",
    "#         l.append('x')\n",
    "#         l.append('x')\n",
    "#         l.append('x')\n",
    "#         l.append('x')\n",
    "#     else:\n",
    "#         for j in range(0, len(com)):\n",
    "#             l.append(com[j].text)\n",
    "#     driver.switch_to.parent_frame()\n",
    "#     driver.switch_to.frame('searchIframe')"
   ]
  },
  {
   "cell_type": "code",
   "execution_count": 617,
   "id": "f09d1065-95db-4c6e-8dc9-b314b4edce68",
   "metadata": {
    "tags": []
   },
   "outputs": [],
   "source": [
    "url = driver.current_url\n",
    "resp = requests.get(url)\n",
    "\n",
    "e = driver.find_elements(By.CLASS_NAME, 'place_bluelink.TYaxT')\n",
    "\n",
    "c = []\n",
    "for i in range(2, 22):\n",
    "    e[i].click()\n",
    "    url = driver.current_url\n",
    "    c.append(url)\n",
    "    \n",
    "d = []\n",
    "for i in range(24, 54):\n",
    "    e[i].click()\n",
    "    url = driver.current_url\n",
    "    d.append(url)"
   ]
  },
  {
   "cell_type": "code",
   "execution_count": 618,
   "id": "d693ca2e-7fb3-4ef4-b69d-dcdb9fe6a75f",
   "metadata": {},
   "outputs": [],
   "source": [
    "x = c+d"
   ]
  },
  {
   "cell_type": "code",
   "execution_count": null,
   "id": "cee02f90-01ca-4d1d-a97a-30dd6bc517c4",
   "metadata": {},
   "outputs": [],
   "source": []
  },
  {
   "cell_type": "code",
   "execution_count": null,
   "id": "c62518fa-c02e-483e-938f-f2630e901bc5",
   "metadata": {},
   "outputs": [],
   "source": []
  },
  {
   "cell_type": "code",
   "execution_count": null,
   "id": "4251ebdb-39cf-40f5-a647-e42518c72734",
   "metadata": {},
   "outputs": [],
   "source": []
  },
  {
   "cell_type": "code",
   "execution_count": null,
   "id": "852624d0-9469-426b-8a0f-81c974beb6db",
   "metadata": {},
   "outputs": [],
   "source": []
  },
  {
   "cell_type": "code",
   "execution_count": null,
   "id": "8c1e6408-88fe-40e5-83af-3aba52d0eb3d",
   "metadata": {},
   "outputs": [],
   "source": []
  },
  {
   "cell_type": "code",
   "execution_count": null,
   "id": "e569be38-02b3-4824-b048-0fe800b39fdc",
   "metadata": {},
   "outputs": [],
   "source": []
  },
  {
   "cell_type": "code",
   "execution_count": null,
   "id": "a83499c0-597e-4c36-93fe-40adcd1fad6e",
   "metadata": {},
   "outputs": [],
   "source": []
  },
  {
   "cell_type": "code",
   "execution_count": null,
   "id": "7996f314-6468-4b56-864b-c890f1e07c8c",
   "metadata": {},
   "outputs": [],
   "source": []
  },
  {
   "cell_type": "code",
   "execution_count": null,
   "id": "c36b7c39-3d95-410d-98d5-ad3cddaceed1",
   "metadata": {},
   "outputs": [],
   "source": []
  },
  {
   "cell_type": "code",
   "execution_count": null,
   "id": "d5273a4b-e2cc-400f-a7ef-b46115c5bc50",
   "metadata": {},
   "outputs": [],
   "source": []
  },
  {
   "cell_type": "code",
   "execution_count": null,
   "id": "5dc34053-6e76-4c1d-a9c5-47a8a5e3b493",
   "metadata": {},
   "outputs": [],
   "source": []
  },
  {
   "cell_type": "code",
   "execution_count": null,
   "id": "d4693d4a-50de-4f12-b24e-aae9e113e63c",
   "metadata": {},
   "outputs": [],
   "source": []
  },
  {
   "cell_type": "code",
   "execution_count": null,
   "id": "954ebe81-d7a8-4712-a6e3-ae066c87174f",
   "metadata": {},
   "outputs": [],
   "source": []
  },
  {
   "cell_type": "code",
   "execution_count": null,
   "id": "308cf9f8-1db3-4d19-a8e1-03784111074b",
   "metadata": {},
   "outputs": [],
   "source": []
  },
  {
   "cell_type": "code",
   "execution_count": null,
   "id": "fc7b8288-f8cd-4675-ad44-e4417c80b4b6",
   "metadata": {},
   "outputs": [],
   "source": []
  },
  {
   "cell_type": "code",
   "execution_count": null,
   "id": "02ca3d58-5892-417d-83b8-093fe797dc80",
   "metadata": {},
   "outputs": [],
   "source": []
  },
  {
   "cell_type": "code",
   "execution_count": null,
   "id": "ccd29e0c-7cd3-44aa-ac14-8ae8555f92d4",
   "metadata": {},
   "outputs": [],
   "source": []
  },
  {
   "cell_type": "code",
   "execution_count": null,
   "id": "32a6f9b1-fad9-4fb3-be3f-6471374f9a5e",
   "metadata": {},
   "outputs": [],
   "source": []
  },
  {
   "cell_type": "code",
   "execution_count": null,
   "id": "14a983b8-8903-4374-aa8e-c20e1a959e1b",
   "metadata": {},
   "outputs": [],
   "source": []
  },
  {
   "cell_type": "code",
   "execution_count": null,
   "id": "1d58b75a-0f23-42d0-ba2e-425d6407e452",
   "metadata": {},
   "outputs": [],
   "source": []
  },
  {
   "cell_type": "code",
   "execution_count": null,
   "id": "971f6628-c7cf-484d-a13d-cf99fe199275",
   "metadata": {},
   "outputs": [],
   "source": []
  }
 ],
 "metadata": {
  "kernelspec": {
   "display_name": "Python 3 (ipykernel)",
   "language": "python",
   "name": "python3"
  },
  "language_info": {
   "codemirror_mode": {
    "name": "ipython",
    "version": 3
   },
   "file_extension": ".py",
   "mimetype": "text/x-python",
   "name": "python",
   "nbconvert_exporter": "python",
   "pygments_lexer": "ipython3",
   "version": "3.9.12"
  }
 },
 "nbformat": 4,
 "nbformat_minor": 5
}
